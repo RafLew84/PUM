{
 "cells": [
  {
   "cell_type": "markdown",
   "id": "25dc0050-8ef0-4a60-83bf-e3b77e479ca5",
   "metadata": {},
   "source": [
    "# Explicit Intent"
   ]
  },
  {
   "cell_type": "markdown",
   "id": "fdeae6fa-24b8-403c-9eb2-fdd6abe5a2d3",
   "metadata": {},
   "source": [
    "W tym przykładzie przyjrzymy się mechanizmowi intentów, rozpoczniemy od intentów jawnych. Stworzymy aplikację z dwiema aktywnościami i umożliwimy otworzenie drugiej aktywności z poziomu pierwszej (głównej), oraz przekażemy pomiędzy nimi dane. "
   ]
  },
  {
   "cell_type": "markdown",
   "id": "f1432561-c0bc-4759-ad71-d12a0f409df0",
   "metadata": {},
   "source": [
    "**Explicit Intent** w Androidzie to typ Intencji (Intent), który służy do uruchamiania określonej aktywności (`Activity`) lub usługi (`Service`) wewnątrz tej samej aplikacji lub innej aplikacji na urządzeniu.\n",
    "\n",
    "Explicit Intent jest wykorzystywany, gdy chcemy wywołać konkretne komponenty w aplikacji. W tym celu określamy dokładnie nazwę komponentu, który chcemy uruchomić, poprzez podanie jego nazwy pakietu i klasy.Explicit Intent umożliwia również przekazywanie danych między aktywnościami, poprzez dodanie dodatkowych parametrów do Intentu"
   ]
  },
  {
   "cell_type": "markdown",
   "id": "3639f9ba-05f4-4c5c-b46b-c36dddeb7dce",
   "metadata": {},
   "source": [
    "Explicit Intent umożliwia również przekazywanie danych między aktywnościami, poprzez dodanie dodatkowych parametrów do Intentu"
   ]
  },
  {
   "cell_type": "markdown",
   "id": "814a79f3-153d-4633-88f4-3d301002da55",
   "metadata": {},
   "source": [
    "<img src=\"https://media3.giphy.com/media/PHsI89pV5xucXPo04Q/giphy.gif?cid=790b7611aafef8fd0e301c0893d5eb7c0509e18967b4546a&rid=giphy.gif&ct=g\" width=\"150\" />"
   ]
  },
  {
   "cell_type": "markdown",
   "id": "68454696-242c-4764-ba4f-3d10dd0d4f1b",
   "metadata": {},
   "source": [
    "Przedźmy do aktywności głównej i dodajmy przycisk do layoutu."
   ]
  },
  {
   "cell_type": "markdown",
   "id": "59bf1bd9-16a1-48c4-bf6d-d64f2afb950e",
   "metadata": {},
   "source": [
    "### Layout i utworzenie drugiej aktywności"
   ]
  },
  {
   "cell_type": "code",
   "execution_count": null,
   "id": "1c6a9db7-168d-4546-908f-1eefb693136f",
   "metadata": {},
   "outputs": [],
   "source": [
    "<?xml version=\"1.0\" encoding=\"utf-8\"?>\n",
    "<androidx.constraintlayout.widget.ConstraintLayout xmlns:android=\"http://schemas.android.com/apk/res/android\"\n",
    "    xmlns:app=\"http://schemas.android.com/apk/res-auto\"\n",
    "    xmlns:tools=\"http://schemas.android.com/tools\"\n",
    "    android:layout_width=\"match_parent\"\n",
    "    android:layout_height=\"match_parent\"\n",
    "    tools:context=\".MainActivity\">\n",
    "\n",
    "    <Button\n",
    "        android:id=\"@+id/startSecondActivityButton\"\n",
    "        android:layout_width=\"wrap_content\"\n",
    "        android:layout_height=\"wrap_content\"\n",
    "        android:text=\"Button\"\n",
    "        android:layout_margin=\"16dp\"\n",
    "        app:layout_constraintBottom_toBottomOf=\"parent\"\n",
    "        app:layout_constraintEnd_toEndOf=\"parent\" />\n",
    "</androidx.constraintlayout.widget.ConstraintLayout>"
   ]
  },
  {
   "cell_type": "markdown",
   "id": "57b91300-a700-49b2-858b-0a13c3fde841",
   "metadata": {},
   "source": [
    "Po naciśnięciu tego przycisku możliwe będzie przejście do drugiej aktywności."
   ]
  },
  {
   "cell_type": "markdown",
   "id": "0e699494-87f4-4627-aefd-7ed4550513b8",
   "metadata": {},
   "source": [
    "Następnie dodajmy drugą aktywność do projektu. W oknie **Project** wybieram z menu kontekstowego **New -> Activity -> Empty Activity**. Zaznaczam **Generate layout file** i odznaczam **Launcher Activity**. Przejdźmy do pliku `AndroidManifest.xml`"
   ]
  },
  {
   "cell_type": "markdown",
   "id": "7998ea17-6e27-4dd2-aa31-aa54710181c3",
   "metadata": {},
   "source": [
    "Mamy opisane dwie aktywności. Chcemy teraz wskazać rodzica dla **SecondActivity** . Do tagu `<activity />` dodaję opcję `android:parentActivityName=\".MainActivity\"` oraz `android:label=\"Second Activity\"`."
   ]
  },
  {
   "cell_type": "code",
   "execution_count": null,
   "id": "f7796b37-7811-49ef-9a6c-a27fa3dc2c67",
   "metadata": {},
   "outputs": [],
   "source": [
    "<activity\n",
    "    android:name=\".SecondActivity\"\n",
    "    android:parentActivityName=\".MainActivity\"\n",
    "    android:label=\"Second Activity\"\n",
    "    android:exported=\"false\" />"
   ]
  },
  {
   "cell_type": "markdown",
   "id": "66aef51d-6e06-46c6-8b14-2ed95326c64b",
   "metadata": {},
   "source": [
    "Czyli wskazaliśmy ze aktywnością nadrzędną jest **MainActivity**. Zwróćmy również uwagę na kropkę przed nazwą aktywności głównej - pominięta została nazwa pakietu (`com.example.a32_explicitintentbasics.MainActivity`). `label` posłuży jako wyświetlana nazwa aktywności."
   ]
  },
  {
   "cell_type": "markdown",
   "id": "9138d3a4-e513-45b8-8b82-252e00ec6d2a",
   "metadata": {},
   "source": [
    "Teraz utworzymy prosty layout dla drugiej aktywności - przechodzimy do pliku `activity_second.xml` i dodajemy pole `TextView`."
   ]
  },
  {
   "cell_type": "code",
   "execution_count": null,
   "id": "756f5f1f-f007-4ff3-a6fe-163b8c4fe281",
   "metadata": {},
   "outputs": [],
   "source": [
    "<?xml version=\"1.0\" encoding=\"utf-8\"?>\n",
    "<androidx.constraintlayout.widget.ConstraintLayout xmlns:android=\"http://schemas.android.com/apk/res/android\"\n",
    "    xmlns:app=\"http://schemas.android.com/apk/res-auto\"\n",
    "    xmlns:tools=\"http://schemas.android.com/tools\"\n",
    "    android:layout_width=\"match_parent\"\n",
    "    android:layout_height=\"match_parent\"\n",
    "    tools:context=\".SecondActivity\">\n",
    "\n",
    "    <TextView\n",
    "        android:id=\"@+id/textView\"\n",
    "        android:layout_width=\"wrap_content\"\n",
    "        android:layout_height=\"wrap_content\"\n",
    "        android:text=\"Second Activity\"\n",
    "        android:textSize=\"40sp\"\n",
    "        android:textStyle=\"bold\"\n",
    "        android:textColor=\"@color/black\"\n",
    "        app:layout_constraintBottom_toBottomOf=\"parent\"\n",
    "        app:layout_constraintEnd_toEndOf=\"parent\"\n",
    "        app:layout_constraintStart_toStartOf=\"parent\"\n",
    "        app:layout_constraintTop_toTopOf=\"parent\" />\n",
    "</androidx.constraintlayout.widget.ConstraintLayout>"
   ]
  },
  {
   "cell_type": "markdown",
   "id": "42fe643a-20ba-486c-b7cc-7892ba8d9a87",
   "metadata": {},
   "source": [
    "### Utworzenie `Intent` i przejście do drugiej aktywności"
   ]
  },
  {
   "cell_type": "markdown",
   "id": "4a604ae2-2f5e-4f12-a4b8-24f006f1c6a7",
   "metadata": {},
   "source": [
    "Dodajmy teraz obsługę przycisku w naszej głównej aktywności, przyjdźmy do pliku `MainActivity.kt`. Dodajmy funkcję pomocniczą, umożliwiającą przejście do innej aktywności."
   ]
  },
  {
   "cell_type": "code",
   "execution_count": null,
   "id": "706974f8-1433-49a5-818e-f12d4b3f5881",
   "metadata": {},
   "outputs": [],
   "source": [
    "private void startSecondActivity() {}"
   ]
  },
  {
   "cell_type": "markdown",
   "id": "b5b5dd6a-f2c8-40f9-b2f2-3ffd90bf9209",
   "metadata": {},
   "source": [
    "W pierwszym kroku musimy utworzyć **intent**."
   ]
  },
  {
   "cell_type": "code",
   "execution_count": null,
   "id": "f31862f3-6fee-48f4-b1cf-f715b84ecd80",
   "metadata": {},
   "outputs": [],
   "source": [
    "Intent intent = new Intent(this, SecondActivity.class);"
   ]
  },
  {
   "cell_type": "markdown",
   "id": "b9ff4b83-4209-4c8d-85bf-3f3638b87684",
   "metadata": {},
   "source": [
    "Konstruktor klasy `Intent` przyjmuje dwa argumenty. Pierwszym jest `context`, ponieważ aktywność jest swoim własnym kontekstem używamy słowa kluczowego `this`. Drugim argumentem jest klasa aktywności którą chcemy włączyć - tutaj będzie to `SecondActivity.class`."
   ]
  },
  {
   "cell_type": "markdown",
   "id": "fe0e5fc3-de53-4f31-8fe1-b35b694a23d2",
   "metadata": {},
   "source": [
    "Aby włączyć aktywność wykonujemy metodę `startActivity`, jako argument podajemy poprzednio utworzony `Intent`."
   ]
  },
  {
   "cell_type": "code",
   "execution_count": null,
   "id": "1b8e97a8-8e55-4b8c-95c8-48661241f790",
   "metadata": {},
   "outputs": [],
   "source": [
    "startActivity(intent);"
   ]
  },
  {
   "cell_type": "markdown",
   "id": "e8a53127-b266-4f3f-83ee-41a6183268b4",
   "metadata": {},
   "source": [
    "Następnie dodajemy obsługę `onClick` naszego przycisku w metodzie `onCreate`"
   ]
  },
  {
   "cell_type": "code",
   "execution_count": null,
   "id": "4722aead-d7cd-480d-bb73-351b94f0d612",
   "metadata": {},
   "outputs": [],
   "source": [
    "binding.startSecondActivityButton.setOnClickListener(view -> startSecondActivity());"
   ]
  },
  {
   "cell_type": "markdown",
   "id": "59a77713-1d9f-4749-8fd8-82f8c083d42e",
   "metadata": {},
   "source": [
    "Na tym etapie możemy zbudować nasz projekt i przetestować funkcjonalność przycisku. Po przejściu do drugiej aktywności zwróćmy uwagę na przycisk powrotu znajdujący się na belce po lewej stronie."
   ]
  },
  {
   "cell_type": "markdown",
   "id": "5700c1ce-a0b3-4970-a700-4bdff386bec8",
   "metadata": {},
   "source": [
    "<img src=\"https://fv9-4.failiem.lv/thumb_show.php?i=vset6gbuc&view\" width=\"200\"/>"
   ]
  },
  {
   "cell_type": "markdown",
   "id": "79b07e69-247a-4417-aaa2-9f58da16f69b",
   "metadata": {},
   "source": [
    "Nawigację do aktywności nadrzędnej mamy dodaną automatyvcznie dzięki dodaniu do manifestu linii `android:parentActivityName=\".MainActivity\"`"
   ]
  },
  {
   "cell_type": "markdown",
   "id": "340e8fdc-16d8-4415-8648-ad6891934bc6",
   "metadata": {},
   "source": [
    "## **Przekazanie danych do drugiej aktywności**"
   ]
  },
  {
   "cell_type": "markdown",
   "id": "5f51a8de-29f9-4a45-97da-d97f5d119f48",
   "metadata": {},
   "source": [
    "Kolejnym krokiem będzie przekazanie danych i ich odbiór w drugiej aktywności - tutaj przekażemy tekst z pola `EditText`. Do layoutu głównej aktywności dodajmy odpowiednie pole."
   ]
  },
  {
   "cell_type": "code",
   "execution_count": null,
   "id": "29c10bcd-0d65-42c0-83dd-996b610bbd6c",
   "metadata": {},
   "outputs": [],
   "source": [
    "    <EditText\n",
    "        android:id=\"@+id/editTextMain\"\n",
    "        android:layout_width=\"0dp\"\n",
    "        android:layout_height=\"wrap_content\"\n",
    "        android:layout_margin=\"16dp\"\n",
    "        android:hint=\"message\"\n",
    "        android:textStyle=\"bold\"\n",
    "        android:textSize=\"24sp\"\n",
    "        app:layout_constraintBottom_toBottomOf=\"parent\"\n",
    "        app:layout_constraintEnd_toStartOf=\"@+id/startSecondActivityButton\"\n",
    "        app:layout_constraintStart_toStartOf=\"parent\" />"
   ]
  },
  {
   "cell_type": "markdown",
   "id": "58e9983f-a51f-41fb-a875-2ffa67dbbcc1",
   "metadata": {},
   "source": [
    "Pierwszą rzeczą jakiej będziemy potrzebować jest to **klucz** naszej wiadomości. Przejdźmy do klasy głównej aktyności `MainActivity.java` i dodajmy odpowiednie pole. Standardowo klucze przechowuje się w finalnych polach statycznych klasy wysyłającej."
   ]
  },
  {
   "cell_type": "code",
   "execution_count": null,
   "id": "a22458cf-2697-4a6d-9bb6-4cebbbd98e23",
   "metadata": {},
   "outputs": [],
   "source": [
    "public static final String EXTRA_MESSAGE = \"com.example.a31_explicitintentbasicsjava.MESSAGE\";"
   ]
  },
  {
   "cell_type": "markdown",
   "id": "5b7f4c13-3986-48d3-a2d5-231a22ff1a28",
   "metadata": {},
   "source": [
    "Standardowo nazwę stałej przechowującej klucz piszemy wielkimi literami, sam `String` zawierający klucz składa się z pakietu w której znajduje się aktywność wysyłająca i nazwy."
   ]
  },
  {
   "cell_type": "markdown",
   "id": "b4489e01-2e20-4bfb-b23e-ca917cac64f6",
   "metadata": {},
   "source": [
    "Ostatnim krokiem będzie spakowanie danych i przesłanie ich do drugiej aktywności. Przechodzimy do metody `startSecondActivity` i uzupełniamy implementację."
   ]
  },
  {
   "cell_type": "markdown",
   "id": "ae13f3ac-e99f-4776-aeb6-2ef14dcd0b35",
   "metadata": {},
   "source": [
    "W pierwszym kroku wyciągamy tekst z pola `EditText`"
   ]
  },
  {
   "cell_type": "code",
   "execution_count": null,
   "id": "d8b1177d-3966-48da-bc07-aeac36dde6f5",
   "metadata": {},
   "outputs": [],
   "source": [
    "String message = binding.editTextMain.getText().toString();"
   ]
  },
  {
   "cell_type": "markdown",
   "id": "331359a0-d1d5-46d1-8fa2-70ef251dc694",
   "metadata": {},
   "source": [
    "Następnie dodajemy do intentu nasze dane - czyli `String` wyciągnięty z `EditText`. W tym celu na naszym obiekcie `Intent` wywołujemy metodę `putExtra`, która dodaje dane do obiektu `Intent` i przekazuje je do aktywności odbierającej."
   ]
  },
  {
   "cell_type": "code",
   "execution_count": null,
   "id": "21170bf3-843c-49ec-9a94-27bc6e7a698c",
   "metadata": {},
   "outputs": [],
   "source": [
    "intent.putExtra(EXTRA_MESSAGE, message);"
   ]
  },
  {
   "cell_type": "markdown",
   "id": "028fcec6-9721-4d58-bc5c-a59ec060a8b6",
   "metadata": {},
   "source": [
    "Metoda przyjmuje dwa argumenty. Pierwszym jest nasz unikalny klucz, który mamy zapisany w stałej `EXTRA_MESSAGE`, drugim jest `String` który chcemy przekazać."
   ]
  },
  {
   "cell_type": "code",
   "execution_count": null,
   "id": "677716ed-0e37-47a3-b4c7-3d697c1bfb52",
   "metadata": {},
   "outputs": [],
   "source": [
    "private void startSecondActivity() {\n",
    "    String message = binding.editTextMain.getText().toString();\n",
    "    Intent intent = new Intent(this, SecondActivity.class);\n",
    "    intent.putExtra(EXTRA_MESSAGE, message);\n",
    "    secondActivity(intent);\n",
    "}"
   ]
  },
  {
   "cell_type": "markdown",
   "id": "f8a7edaa-eee5-4435-af9c-10e59abf1bfe",
   "metadata": {},
   "source": [
    "## **Odebranie danych z poziomu drugiej aktywności**"
   ]
  },
  {
   "cell_type": "markdown",
   "id": "60fadb07-3a02-444c-a552-ef6341b2224c",
   "metadata": {},
   "source": [
    "Kolejnym krokiem będzie odebranie danych z poziomu drugiej aktywności - odebrany `String` przekażemy do pola `TextView`. Przechodzimy do pliku `SecondActivity.java` i w metodzie `onCreate` tworzymy `Intent` i wywołujemy metodę `getIntent` - dzięki tej metodzie przesłany `Intent` z aktywności głównej zostanie odebrany."
   ]
  },
  {
   "cell_type": "code",
   "execution_count": null,
   "id": "7ca41410-ac7e-41fd-bcdc-f4847b2c3b09",
   "metadata": {},
   "outputs": [],
   "source": [
    "Intent intent = getIntent();"
   ]
  },
  {
   "cell_type": "markdown",
   "id": "9168371a-e7e5-4346-adbf-4158d3c986b9",
   "metadata": {},
   "source": [
    "Następnie odbieramy przesłane dane za pomocą metody `getStringExtra` wywołanej na odebranej instancji klasy `Intent`."
   ]
  },
  {
   "cell_type": "code",
   "execution_count": null,
   "id": "46a22a94-fb3f-40fb-8495-475584f30585",
   "metadata": {},
   "outputs": [],
   "source": [
    "String message = intent.getStringExtra(MainActivity.EXTRA_MESSAGE);"
   ]
  },
  {
   "cell_type": "markdown",
   "id": "14467bea-f637-49ff-9e7a-83b39fb08ffc",
   "metadata": {},
   "source": [
    "Metoda jako argument przyjmuje unikalny klucz, który mamy zapisany w stałej statycznej klasy `MainActivity`. W ostatnim kroku chcemy odebrany `String` przekazać do pola `TextView`."
   ]
  },
  {
   "cell_type": "code",
   "execution_count": null,
   "id": "11efa60b-18b5-45ad-a50e-084e95959f6c",
   "metadata": {},
   "outputs": [],
   "source": [
    "@Override\n",
    "protected void onCreate(Bundle savedInstanceState) {\n",
    "    super.onCreate(savedInstanceState);\n",
    "    binding = ActivitySecondBinding.inflate(getLayoutInflater());\n",
    "    setContentView(binding.getRoot());\n",
    "\n",
    "    Intent intent = getIntent();\n",
    "    String message = intent.getStringExtra(MainActivity.EXTRA_MESSAGE);\n",
    "    binding.textView.setText(message);\n",
    "}"
   ]
  },
  {
   "cell_type": "markdown",
   "id": "3d86594e-cb07-48f0-86ee-8ec05cc8c8af",
   "metadata": {},
   "source": [
    "Na tym etapie możemy przetestować funkcjonalność aplikacji."
   ]
  },
  {
   "cell_type": "markdown",
   "id": "2c4e2568-d080-4124-a11e-71d19f62af6b",
   "metadata": {},
   "source": [
    "## **Przekazanie odpowiedzi do aktywności głównej**"
   ]
  },
  {
   "cell_type": "markdown",
   "id": "a151ee2f-412b-4038-b34d-f383880035d5",
   "metadata": {},
   "source": [
    "Kontynuujemy aplikację, kolejnym krokiem będzie zarządanie odpowiedzi z drugiej zktywności. Rozpocznijmy od zmodyfikowania layoutu drugiej aktywności - dodajmy pole `EditText` w którym wpiszemy naszą odpowiedź oraz `Button` w celu powrotu i zainicjowania powrotnego przesłania danych."
   ]
  },
  {
   "cell_type": "code",
   "execution_count": null,
   "id": "892c0666-8186-4adc-92ff-159fbd79de48",
   "metadata": {},
   "outputs": [],
   "source": [
    "<EditText\n",
    "    android:id=\"@+id/editTextSecond\"\n",
    "    android:layout_width=\"0dp\"\n",
    "    android:layout_height=\"wrap_content\"\n",
    "    android:layout_margin=\"16dp\"\n",
    "    android:hint=\"Back message\"\n",
    "    android:textStyle=\"bold\"\n",
    "    android:textSize=\"24sp\"\n",
    "    app:layout_constraintBottom_toBottomOf=\"parent\"\n",
    "    app:layout_constraintEnd_toStartOf=\"@+id/returnButton\"\n",
    "    app:layout_constraintStart_toStartOf=\"parent\" />\n",
    "\n",
    "<Button\n",
    "    android:id=\"@+id/returnButton\"\n",
    "    android:layout_width=\"wrap_content\"\n",
    "    android:layout_height=\"wrap_content\"\n",
    "    android:text=\"Return\"\n",
    "    android:layout_margin=\"16dp\"\n",
    "    app:layout_constraintBottom_toBottomOf=\"parent\"\n",
    "    app:layout_constraintEnd_toEndOf=\"parent\" />"
   ]
  },
  {
   "cell_type": "markdown",
   "id": "c39cd267-d095-4ba5-9a92-3123e1c83482",
   "metadata": {},
   "source": [
    "Przejdźmy do klasy `SecondActivity.java` i dodajmy pole statyczne przechowujące unikalny klucz naszej odpowiedzi."
   ]
  },
  {
   "cell_type": "code",
   "execution_count": null,
   "id": "3ffabda1-b2cd-499b-871f-776fa90955a8",
   "metadata": {},
   "outputs": [],
   "source": [
    "public static final String EXTRA_REPLY = \"com.example.a31_explicitintentbasicsjava.REPLY\";"
   ]
  },
  {
   "cell_type": "markdown",
   "id": "3c43d05b-d04a-4ae7-b63a-d20074bf6eac",
   "metadata": {},
   "source": [
    "Następnie dodajmy metodę dodatkową `returnMessage` tworzącą `Intent`, który zostanie przekazany jako dane powrotne."
   ]
  },
  {
   "cell_type": "code",
   "execution_count": null,
   "id": "f43ee9f8-f8be-484e-80c0-3aa69bd2480e",
   "metadata": {},
   "outputs": [],
   "source": [
    "private void returnMessage() {\n",
    "    String reply = binding.editTextSecond.getText().toString();\n",
    "    Intent intent = new Intent();\n",
    "\n",
    "    intent.putExtra(EXTRA_REPLY, reply);\n",
    "    setResult(RESULT_OK, intent);\n",
    "    finish();\n",
    "}"
   ]
  },
  {
   "cell_type": "markdown",
   "id": "9b549daf-1bae-41d7-99e9-187c1bced770",
   "metadata": {},
   "source": [
    "Podobnie jak przy wysyłaniu wiadomości z głównej aktywności tworzymy `String` i wrzucamy do niego tekst odczytany z pola `EditText`. Następnie tworzymy `Intent` i wykorzystujemy metodę `putExtra` do dołączenia danych. Wywołujemy metodę `setResult` która przyjjmuje dwa argumenty. Pierwwzym jest kod - tutaj wykorzystamy kod `RESULT_OK`, czyli nie przewidujemy żadnych problemów z odczytaniem, jako drugi argument podajemy nasz `Intent`.\n",
    "\n",
    "W metodzie możemy podać różne kody, które są predefiniowane w klasie `Activity` - `RESULT_OK`, `RESULT_CANCELED` i `RESULT_FIRST_USER`. Pierwszy dotyczy przypadku w których wszystko poszło po naszej myśli i możemy przekazać dane powrotne. Dzięki `RESULT_CANCELED` możemy sprecyzować co nasza aktywność główna ma zrobić gdy nie uda się wysłać danych z drugiej aktywności. Trzeci przypadek istnieje aby uniknąć konfliktów - pozwala developerowi na wykorzystanie własnego (nie predefiniowanego) kodu.\n",
    "\n",
    "Na koniec wywołujemy metodę `finish` która kończyb działanie `SecondActivity`."
   ]
  },
  {
   "cell_type": "markdown",
   "id": "e5fb8ab1-3dbe-42cb-b0e7-acb8f1fcaa2e",
   "metadata": {},
   "source": [
    "Następnie do layoutu `MainActivity` dodajmy pole `TextView` w którym wyświetlimy odebraną wiadomość."
   ]
  },
  {
   "cell_type": "code",
   "execution_count": null,
   "id": "f63ecf54-27fd-4078-95e1-55a166f88e6e",
   "metadata": {},
   "outputs": [],
   "source": [
    "<TextView\n",
    "    android:id=\"@+id/textViewMain\"\n",
    "    android:layout_width=\"wrap_content\"\n",
    "    android:layout_height=\"wrap_content\"\n",
    "    android:text=\"Main Activity\"\n",
    "    android:textSize=\"40sp\"\n",
    "    android:textStyle=\"bold\"\n",
    "    android:textColor=\"@color/black\"\n",
    "    app:layout_constraintBottom_toBottomOf=\"parent\"\n",
    "    app:layout_constraintEnd_toEndOf=\"parent\"\n",
    "    app:layout_constraintStart_toStartOf=\"parent\"\n",
    "    app:layout_constraintTop_toTopOf=\"parent\" />"
   ]
  },
  {
   "cell_type": "markdown",
   "id": "e6e87da1-6d30-456b-9db1-4c6aa4ae64bd",
   "metadata": {},
   "source": [
    "Ostatnim krokiem będzie modyfikacja klasy `MainActivity.java` w celu wysłania żądania i odebrania danych powrotnych."
   ]
  },
  {
   "cell_type": "markdown",
   "id": "d01c6f18-3130-46fe-894d-2e114f4814c3",
   "metadata": {},
   "source": [
    "Musimy napisać launcher naszej drugiej aktywności."
   ]
  },
  {
   "cell_type": "code",
   "execution_count": null,
   "id": "1b35fdf5-d220-4e59-8d5d-28595e54b642",
   "metadata": {},
   "outputs": [],
   "source": [
    "private final ActivityResultLauncher<Intent> secondActivityResultLauncher = registerForActivityResult(\n",
    "        new ActivityResultContracts.StartActivityForResult(),\n",
    "        result -> {\n",
    "            if (result.getResultCode() == Activity.RESULT_OK && result.getData() != null)\n",
    "                binding.textViewMain.setText(result.getData().getStringExtra(SecondActivity.EXTRA_REPLY));\n",
    "        }\n",
    ");"
   ]
  },
  {
   "cell_type": "markdown",
   "id": "db237c72-9c90-4655-896e-c375da453fd4",
   "metadata": {},
   "source": [
    "Tworzymy nowy `ActivityResultLauncher` i wywołujemy `registerForActivityResult` który przyjmuje dwa argumenty. \n",
    "\n",
    "`ActivityResultLauncher` jest interfejsem w Androidzie, który służy do uruchamiania innych aktywności (`Activity`) i odbierania wyników z powrotem do bieżącej aktywności. Jest to alternatywa dla starszych metod `startActivityForResult()` i `onActivityResult()`, które są już przestarzałe i zaleca się unikać ich używania.\n",
    "\n",
    "Kiedy chcemy uruchomić inną aktywność i otrzymać wynik, tworzymy instancję `ActivityResultLauncher`, który będzie odpowiadał za uruchomienie aktywności. Następnie dodajemy do niego nasłuchiwanie zdarzeń za pomocą metody `registerForActivityResult()`. Metoda ta przyjmuje obiekt typu `ActivityResultContract`, który określa rodzaj interakcji i format danych, które przekazujemy między aktywnościami.\n",
    "\n",
    "Rejestrujemy prośbę o rozpoczęcie innej aktywności. Powoduje to utworzenie wpisu w rejestrze powiązanym z drugą aktywnością, zarządzającym kodem żądania a także konwersjami do/z `Intent`. \n",
    "\n",
    "Jako pierwszy parametr podajemy `Contract`, nas interesuje metoda `StartActivityForResult`, poprzednio włączaliśmy drugą aktywność metodą `startActivity` - teraz żądamy odpowiedzi więc konieczne jest wykorzystanie innej metody. Drugim argumentem jest `Callback` - tutaj jest to dostarczenie implementacji metody `onActivityResult`, określamy co robimy z danymi które dostajemy powrotnie z aktywności `SecondActivity`. Dla uproszczenia można to wywołanie zastąpić wyrażeniem **lambda**."
   ]
  },
  {
   "cell_type": "markdown",
   "id": "db391cfc-f75a-4b01-991b-fba715b423de",
   "metadata": {},
   "source": [
    "`result` jest otrzymanym z drugiej aktywności `Intent` zawierającym dane. Następnie dodajjmy implementację metody `onActivityResult`"
   ]
  },
  {
   "cell_type": "markdown",
   "id": "2d11b76d-7307-4b8a-917d-3a5b3249bc36",
   "metadata": {},
   "source": [
    "W pierwszym kroku sprawdzam czy aktywność zwraca z poprawnym kodem"
   ]
  },
  {
   "cell_type": "code",
   "execution_count": null,
   "id": "b58d6e07-a2fc-47d2-a1e7-a5a1c35d0896",
   "metadata": {},
   "outputs": [],
   "source": [
    "if (result.getResultCode() == Activity.RESULT_OK)"
   ]
  },
  {
   "cell_type": "markdown",
   "id": "a8bd918a-6700-49ef-807a-6424053428e2",
   "metadata": {},
   "source": [
    "Następnie sprawdzamy czy dane istnieją i wyciągamy dane z `result` i umieszczamy w polu `textView`."
   ]
  },
  {
   "cell_type": "code",
   "execution_count": null,
   "id": "d7cf8ede-e478-46b4-a293-b28cf4483c0a",
   "metadata": {},
   "outputs": [],
   "source": [
    "ActivityResultLauncher<Intent> secondActivityResultLauncher = registerForActivityResult(\n",
    "    new ActivityResultContracts.StartActivityForResult(),\n",
    "    result -> {\n",
    "        if (result.getResultCode() == Activity.RESULT_OK && result.getData() != null)\n",
    "        ...\n",
    "        }\n",
    ");"
   ]
  },
  {
   "cell_type": "markdown",
   "id": "3626d1fe-3d1e-4ef1-855e-14a905f89372",
   "metadata": {},
   "source": [
    "Ostatnim krokiem jest wykorzystanie `secondActivityResultLauncher` w metodzie `onClick` przycisku wysyłającego żądanie"
   ]
  },
  {
   "cell_type": "code",
   "execution_count": null,
   "id": "92fb305e-1a0e-434f-8d64-5cc60deeb877",
   "metadata": {},
   "outputs": [],
   "source": [
    "private void startSecondActivity() {\n",
    "    String message = binding.editTextMain.getText().toString();\n",
    "    Intent intent = new Intent(this, SecondActivity.class);\n",
    "    intent.putExtra(EXTRA_MESSAGE, message);\n",
    "    secondActivityResultLauncher.launch(intent);\n",
    "}"
   ]
  },
  {
   "cell_type": "markdown",
   "id": "49383d28-f8db-46bd-86da-d6918af1df28",
   "metadata": {},
   "source": [
    "Możemy przetestowac aplikację."
   ]
  },
  {
   "cell_type": "markdown",
   "id": "9add1782-34fe-46e5-a407-bd85c6fe7b0d",
   "metadata": {},
   "source": [
    "<img src=\"https://media3.giphy.com/media/PHsI89pV5xucXPo04Q/giphy.gif?cid=790b7611aafef8fd0e301c0893d5eb7c0509e18967b4546a&rid=giphy.gif&ct=g\" width=\"150\" />"
   ]
  }
 ],
 "metadata": {
  "kernelspec": {
   "display_name": "Kotlin",
   "language": "kotlin",
   "name": "kotlin"
  },
  "language_info": {
   "codemirror_mode": "text/x-kotlin",
   "file_extension": ".kt",
   "mimetype": "text/x-kotlin",
   "name": "kotlin",
   "nbconvert_exporter": "",
   "pygments_lexer": "kotlin",
   "version": "1.8.0-RC"
  }
 },
 "nbformat": 4,
 "nbformat_minor": 5
}
