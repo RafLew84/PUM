{
 "cells": [
  {
   "cell_type": "markdown",
   "id": "ebc4deb7-0e9b-48f0-912f-b2bcfb697f48",
   "metadata": {},
   "source": [
    "# Explicit Intent"
   ]
  },
  {
   "cell_type": "markdown",
   "id": "fac80f7b-484c-4fc4-89f8-3a16fc558841",
   "metadata": {},
   "source": [
    "W tym przykładzie przyjrzymy się mechanizmowi intentów, rozpoczniemy od intentów jawnych. Stworzymy aplikację z dwiema aktywnościami i umożliwimy otworzenie drugiej aktywności z poziomu pierwszej (głównej), oraz przekażemy pomiędzy nimi dane. "
   ]
  },
  {
   "cell_type": "markdown",
   "id": "2e9ba804-9ec1-4805-9710-93033fc7fb03",
   "metadata": {},
   "source": [
    "**Explicit Intent** w Androidzie to typ Intencji (Intent), który służy do uruchamiania określonej aktywności (`Activity`) lub usługi (`Service`) wewnątrz tej samej aplikacji lub innej aplikacji na urządzeniu.\n",
    "\n",
    "Explicit Intent jest wykorzystywany, gdy chcemy wywołać konkretne komponenty w aplikacji. W tym celu określamy dokładnie nazwę komponentu, który chcemy uruchomić, poprzez podanie jego nazwy pakietu i klasy.Explicit Intent umożliwia również przekazywanie danych między aktywnościami, poprzez dodanie dodatkowych parametrów do Intentu"
   ]
  },
  {
   "cell_type": "markdown",
   "id": "07661fcc-ff5c-41e7-8f98-a91fdd96f5d2",
   "metadata": {},
   "source": [
    "Explicit Intent umożliwia również przekazywanie danych między aktywnościami, poprzez dodanie dodatkowych parametrów do Intentu"
   ]
  },
  {
   "cell_type": "markdown",
   "id": "14b656a8-a71d-444c-9012-4c472c1b54a0",
   "metadata": {},
   "source": [
    "<img src=\"https://media3.giphy.com/media/PHsI89pV5xucXPo04Q/giphy.gif?cid=790b7611aafef8fd0e301c0893d5eb7c0509e18967b4546a&rid=giphy.gif&ct=g\" width=\"150\" />"
   ]
  },
  {
   "cell_type": "markdown",
   "id": "910e613b-2421-427e-9963-3d49426d68d9",
   "metadata": {},
   "source": [
    "Przedźmy do aktywności głównej i dodajmy przycisk do layoutu."
   ]
  },
  {
   "cell_type": "markdown",
   "id": "601b0e43-c411-4fb9-9379-7542cd1e6bd2",
   "metadata": {},
   "source": [
    "## **Layout i utworzenie drugiej aktywności**"
   ]
  },
  {
   "cell_type": "code",
   "execution_count": null,
   "id": "ca6dd379-c70b-4cee-8ae1-d2d261421e70",
   "metadata": {},
   "outputs": [],
   "source": [
    "<?xml version=\"1.0\" encoding=\"utf-8\"?>\n",
    "<androidx.constraintlayout.widget.ConstraintLayout xmlns:android=\"http://schemas.android.com/apk/res/android\"\n",
    "    xmlns:app=\"http://schemas.android.com/apk/res-auto\"\n",
    "    xmlns:tools=\"http://schemas.android.com/tools\"\n",
    "    android:layout_width=\"match_parent\"\n",
    "    android:layout_height=\"match_parent\"\n",
    "    tools:context=\".MainActivity\">\n",
    "\n",
    "    <Button\n",
    "        android:id=\"@+id/startSecondActivitybutton\"\n",
    "        android:layout_width=\"wrap_content\"\n",
    "        android:layout_height=\"wrap_content\"\n",
    "        android:text=\"Button\"\n",
    "        android:layout_margin=\"16dp\"\n",
    "        app:layout_constraintBottom_toBottomOf=\"parent\"\n",
    "        app:layout_constraintEnd_toEndOf=\"parent\"\n",
    "        android:onClick=\"startSecondActivity\"/>\n",
    "</androidx.constraintlayout.widget.ConstraintLayout>"
   ]
  },
  {
   "cell_type": "markdown",
   "id": "e7e4135d-fac3-4cc3-9450-71a2d2e639f1",
   "metadata": {},
   "source": [
    "Po naciśnięciu tego przycisku możliwe będzie przejście do drugiej aktywności."
   ]
  },
  {
   "cell_type": "markdown",
   "id": "eedad87e-40fc-4a38-9c0a-d337b567f49a",
   "metadata": {},
   "source": [
    "Następnie dodajmy drugą aktywność do projektu. W oknie **Project** wybieram z menu kontekstowego **New -> Activity -> Empty Activity**. Zaznaczam **Generate layout file** i odznaczam **Launcher Activity**. Przejdźmy do pliku `AndroidManifest.xml`"
   ]
  },
  {
   "cell_type": "markdown",
   "id": "7002d221-3eb5-4d0c-8fe8-4ad88638a6e0",
   "metadata": {},
   "source": [
    "Mamy opisane dwie aktywności. Chcemy teraz wskazać rodzica dla **SecondActivity** . Do tagu `<activity />` dodaję opcję `android:parentActivityName=\".MainActivity\"` oraz `android:label=\"Second Activity\"`."
   ]
  },
  {
   "cell_type": "code",
   "execution_count": null,
   "id": "8c8bc203-e0ad-47bd-972a-9ddaac5f17a9",
   "metadata": {},
   "outputs": [],
   "source": [
    "<activity\n",
    "    android:name=\".SecondActivity\"\n",
    "    android:parentActivityName=\".MainActivity\"\n",
    "    android:label=\"Second Activity\"\n",
    "    android:exported=\"false\" />"
   ]
  },
  {
   "cell_type": "markdown",
   "id": "fec98988-1764-4cfa-9820-55fa7dd12f8c",
   "metadata": {},
   "source": [
    "Czyli wskazaliśmy ze aktywnością nadrzędną jest **MainActivity**. Zwróćmy również uwagę na kropkę przed nazwą aktywności głównej - pominięta została nazwa pakietu (`com.example.a31_explicitintentbasics.MainActivity`). `label` posłuży jako wyświetlana nazwa aktywności."
   ]
  },
  {
   "cell_type": "markdown",
   "id": "2323655c-9061-4b20-b61d-25a0db2323f3",
   "metadata": {},
   "source": [
    "Teraz utworzymy prosty layout dla drugiej aktywności - przechodzimy do pliku `activity_second.xml` i dodajemy pole `TextView`."
   ]
  },
  {
   "cell_type": "code",
   "execution_count": null,
   "id": "316d3446-b20a-4fac-b80f-d1c0865fcd90",
   "metadata": {},
   "outputs": [],
   "source": [
    "<?xml version=\"1.0\" encoding=\"utf-8\"?>\n",
    "<androidx.constraintlayout.widget.ConstraintLayout xmlns:android=\"http://schemas.android.com/apk/res/android\"\n",
    "    xmlns:app=\"http://schemas.android.com/apk/res-auto\"\n",
    "    xmlns:tools=\"http://schemas.android.com/tools\"\n",
    "    android:layout_width=\"match_parent\"\n",
    "    android:layout_height=\"match_parent\"\n",
    "    tools:context=\".SecondActivity\">\n",
    "\n",
    "    <TextView\n",
    "        android:id=\"@+id/textView\"\n",
    "        android:layout_width=\"wrap_content\"\n",
    "        android:layout_height=\"wrap_content\"\n",
    "        android:text=\"Second Activity\"\n",
    "        android:textSize=\"40sp\"\n",
    "        android:textStyle=\"bold\"\n",
    "        android:textColor=\"@color/black\"\n",
    "        app:layout_constraintBottom_toBottomOf=\"parent\"\n",
    "        app:layout_constraintEnd_toEndOf=\"parent\"\n",
    "        app:layout_constraintStart_toStartOf=\"parent\"\n",
    "        app:layout_constraintTop_toTopOf=\"parent\" />\n",
    "    \n",
    "</androidx.constraintlayout.widget.ConstraintLayout>"
   ]
  },
  {
   "cell_type": "markdown",
   "id": "a503a369-7d52-4d91-ac52-accd823bd053",
   "metadata": {},
   "source": [
    "## **Utworzenie `Intent` i przejście do drugiej aktywności**"
   ]
  },
  {
   "cell_type": "markdown",
   "id": "8bec785a-418b-4100-89c2-224b01f3379b",
   "metadata": {},
   "source": [
    "Dodajmy teraz obsługę przycisku w naszej głównej aktywności, przyjdźmy do pliku `MainActivity.kt`. Dodajmy funkcję pomocniczą, umożliwiającą przejście do innej aktywności."
   ]
  },
  {
   "cell_type": "code",
   "execution_count": null,
   "id": "6d1324e0-4a12-4b60-bc09-ed5baf208df4",
   "metadata": {},
   "outputs": [],
   "source": [
    "private fun startSecondActivity() {\n",
    "    \n",
    "}"
   ]
  },
  {
   "cell_type": "markdown",
   "id": "eff2bb12-cf50-4023-9b0b-ced89173779a",
   "metadata": {},
   "source": [
    "W pierwszym kroku musimy utworzyć **intent**."
   ]
  },
  {
   "cell_type": "code",
   "execution_count": null,
   "id": "3f86d753-1301-4306-88d8-e551f6c85a4c",
   "metadata": {},
   "outputs": [],
   "source": [
    "val intent = Intent(this, SecondActivity::class.java)"
   ]
  },
  {
   "cell_type": "markdown",
   "id": "c2e8d24b-a2e3-4650-996e-10b456746ebc",
   "metadata": {},
   "source": [
    "Konstruktor klasy `Intent` przyjmuje dwa argumenty. Pierwszym jest `context` - ponieważ aktywność jest swoim własnym kontekstem używamy słowa kluczowego `this`. Drugim argumentem jest klasa aktywności którą chcemy włączyć - tutaj będzie to `SecondActivity::class.java`."
   ]
  },
  {
   "cell_type": "markdown",
   "id": "4bb642a6-5545-4196-9101-76f7f52fc1c3",
   "metadata": {},
   "source": [
    "Aby włączyć aktywność wykonujemy metodę `startActivity`, jako argument podajemy poprzednio utworzony `Intent`."
   ]
  },
  {
   "cell_type": "code",
   "execution_count": null,
   "id": "30603bfa-63a8-4fc2-9515-e063642a1f22",
   "metadata": {},
   "outputs": [],
   "source": [
    "startActivity(intent)"
   ]
  },
  {
   "cell_type": "markdown",
   "id": "e4cf149a-d086-4b9d-8a14-b9094492f569",
   "metadata": {},
   "source": [
    "Następnie dodajemy obsługę `onClick` naszego przycisku w metodzie `onCreate`"
   ]
  },
  {
   "cell_type": "code",
   "execution_count": null,
   "id": "4722aead-d7cd-480d-bb73-351b94f0d612",
   "metadata": {},
   "outputs": [],
   "source": [
    "binding.startSecondActivitybutton.setOnClickListener { startSecondActivity() }"
   ]
  },
  {
   "cell_type": "markdown",
   "id": "35f4bba8-3f6a-4ef6-8f34-506169d8504a",
   "metadata": {},
   "source": [
    "Na tym etapie możemy zbudować nasz projekt i przetestować funkcjonalność przycisku. Po przejściu do drugiej aktywności zwróćmy uwagę na przycisk powrotu znajdujący się na belce po lewej stronie."
   ]
  },
  {
   "cell_type": "markdown",
   "id": "edecb0bc-9944-4b5a-9168-3ab46352e4e5",
   "metadata": {},
   "source": [
    "<img src=\"https://fv9-4.failiem.lv/thumb_show.php?i=vset6gbuc&view\" width=\"200\"/>"
   ]
  },
  {
   "cell_type": "markdown",
   "id": "9174d673-ab95-43be-b71b-9951c8e3a1a8",
   "metadata": {},
   "source": [
    "## **Przekazanie danych do drugiej aktywności**"
   ]
  },
  {
   "cell_type": "markdown",
   "id": "55838bc0-60a8-4759-9984-1206b4a27db1",
   "metadata": {},
   "source": [
    "Kolejnym krokiem będzie przekazanie danych i ich odbiór w drugiej aktywności - tutaj przekażemy tekst z pola `EditText`. Do layoutu głównej aktywności dodajmy odpowiednie pole."
   ]
  },
  {
   "cell_type": "code",
   "execution_count": null,
   "id": "381b67a3-55a2-4632-86ed-581b3362f9eb",
   "metadata": {},
   "outputs": [],
   "source": [
    "<EditText\n",
    "    android:id=\"@+id/editTextMain\"\n",
    "    android:layout_width=\"0dp\"\n",
    "    android:layout_height=\"wrap_content\"\n",
    "    android:layout_margin=\"16dp\"\n",
    "    android:hint=\"message\"\n",
    "    android:textStyle=\"bold\"\n",
    "    android:textSize=\"24sp\"\n",
    "    app:layout_constraintBottom_toBottomOf=\"parent\"\n",
    "    app:layout_constraintEnd_toStartOf=\"@+id/startSecondActivitybutton\"\n",
    "    app:layout_constraintStart_toStartOf=\"parent\"\n",
    "    android:importantForAutofill=\"no\"\n",
    "    android:inputType=\"\" />"
   ]
  },
  {
   "cell_type": "markdown",
   "id": "7ae76ed5-a344-42cb-8aae-96ed7ae0bb30",
   "metadata": {},
   "source": [
    "Pierwszą rzeczą jakiej będziemy potrzebować jest to **klucz** naszej wiadomości. Przejdźmy do klasy głównej aktyności `MainActivity.kt` i dodajmy odpowiednie pole. Standardowo klucze przechowuje się w niemutowalnych polach `const` najwyższego poziomu."
   ]
  },
  {
   "cell_type": "code",
   "execution_count": null,
   "id": "f051a5d8-573f-45f1-9dc7-4086156795ae",
   "metadata": {},
   "outputs": [],
   "source": [
    "const val EXTRA_MESSAGE = \"com.example.a31_explicitintentbasics.MESSAGE\""
   ]
  },
  {
   "cell_type": "markdown",
   "id": "aef85882-1f42-4485-9b80-d6b1e3c870d6",
   "metadata": {},
   "source": [
    "Standardowo nazwę stałej przechowującej klucz piszemy wielkimi literami, sam `String` zawierający klucz składa się z pakietu w której znajduje się aktywność wysyłająca i nazwy."
   ]
  },
  {
   "cell_type": "markdown",
   "id": "f7a3c63e-2319-4ac2-84de-55b396797810",
   "metadata": {},
   "source": [
    "Ostatnim krokiem będzie spakowanie danych i przesłanie ich do drugiej aktywności. Przechodzimy do metody `startSecondActivity` i uzupełniamy implementację."
   ]
  },
  {
   "cell_type": "markdown",
   "id": "4757fdb9-0c65-417b-a551-8f22799f07ce",
   "metadata": {},
   "source": [
    "W pierwszym kroku wyciągamy tekst z pola `EditText`"
   ]
  },
  {
   "cell_type": "code",
   "execution_count": null,
   "id": "0d11838e-8a32-47f1-882c-d62e4e2d89c1",
   "metadata": {},
   "outputs": [],
   "source": [
    "val message = binding.editTextMain.text.toString()"
   ]
  },
  {
   "cell_type": "markdown",
   "id": "8ec589b2-ea6e-4d91-99da-cd15a5f29879",
   "metadata": {},
   "source": [
    "Następnie dodajemy do intentu nasze dane - czyli `String` wyciągnięty z `EditText`. W tym celu na naszym obiekcie `Intent` wywołujemy metodę `putExtra`, która dodaje dane do obiektu `Intent` i przekazuje je do aktywności odbierającej. Zrobimy to za pomocą **Scope Function** `apply`."
   ]
  },
  {
   "cell_type": "code",
   "execution_count": null,
   "id": "1a580bd1-ab48-48f9-aeb6-f931917a5325",
   "metadata": {},
   "outputs": [],
   "source": [
    "val intent = Intent(this, SecondActivity::class.java).apply {\n",
    "    putExtra(EXTRA_MESSAGE, message)\n",
    "}"
   ]
  },
  {
   "cell_type": "markdown",
   "id": "f16e5e8e-4850-4e42-9966-b2a8d79c113d",
   "metadata": {},
   "source": [
    "Metoda przyjmuje dwa argumenty. Pierwszym jest nasz unikalny klucz, który mamy zapisany w stałej `EXTRA_MESSAGE`, drugim jest `String` który chcemy przekazać."
   ]
  },
  {
   "cell_type": "code",
   "execution_count": null,
   "id": "1223ee8f-ca0f-461d-a57f-423ee8d21728",
   "metadata": {},
   "outputs": [],
   "source": [
    "private fun startSecondActivity() {\n",
    "    val message = binding.editTextMain.text.toString()\n",
    "    val intent = Intent(this, SecondActivity::class.java).apply {\n",
    "        putExtra(EXTRA_MESSAGE, message)\n",
    "    }\n",
    "\n",
    "    secondActivityResultLauncher.launch(intent)\n",
    "}"
   ]
  },
  {
   "cell_type": "markdown",
   "id": "7dff0a76-0029-4084-88a4-5723992724ef",
   "metadata": {},
   "source": [
    "## **Odebranie danych z poziomu drugiej aktywności**"
   ]
  },
  {
   "cell_type": "markdown",
   "id": "0b0912ac-77f2-4b20-ab44-a596578677a1",
   "metadata": {},
   "source": [
    "Kolejnym krokiem będzie odebranie danych z poziomu drugiej aktywności - odebrany `String` przekażemy do pola `TextView`. Odbieramy przesłane dane za pomocą metody `getStringExtra` wywołanej na odebranej instancji klasy `Intent` - w odróżnieniu od Javy nie ma konieczności jawnego wywołania metody `getIntent`. Pole `intent` umieszczone w metodzie `onCreate` zawiera instancję klasy `Intent` przekazaną przez `MainActivity`."
   ]
  },
  {
   "cell_type": "code",
   "execution_count": null,
   "id": "df24c901-1586-4c8a-8a6f-09e7492902ae",
   "metadata": {},
   "outputs": [],
   "source": [
    "val message = intent.getStringExtra(EXTRA_MESSAGE)"
   ]
  },
  {
   "cell_type": "markdown",
   "id": "92adc463-5525-4b12-873e-27914f2ff9a2",
   "metadata": {},
   "source": [
    "Metoda jako argument przyjmuje unikalny klucz, który mamy zapisany w stałej w pliku `MainActivity.kt`. W ostatnim kroku chcemy odebrany `String` przekazać do pola `TextView`."
   ]
  },
  {
   "cell_type": "code",
   "execution_count": null,
   "id": "7f005c3e-29bf-44b7-a2bd-5d8a6de865c9",
   "metadata": {},
   "outputs": [],
   "source": [
    "class SecondActivity : AppCompatActivity() {\n",
    "\n",
    "    private val binding by lazy { ActivitySecondBinding.inflate(layoutInflater) }\n",
    "\n",
    "    override fun onCreate(savedInstanceState: Bundle?) {\n",
    "        super.onCreate(savedInstanceState)\n",
    "        setContentView(binding.root)\n",
    "\n",
    "        val message = intent.getStringExtra(EXTRA_MESSAGE)\n",
    "        binding.textView.text = message\n",
    "    }"
   ]
  },
  {
   "cell_type": "markdown",
   "id": "0e0622db-f2d7-461d-9219-47aead7d8c66",
   "metadata": {},
   "source": [
    "Na tym etapie możemy przetestować funkcjonalność aplikacji."
   ]
  },
  {
   "cell_type": "markdown",
   "id": "0488f6a5-2e21-4df0-b34e-72abea3b09f6",
   "metadata": {},
   "source": [
    "## **Przekazanie odpowiedzi do aktywności głównej**"
   ]
  },
  {
   "cell_type": "markdown",
   "id": "257fcbf9-efbd-4363-a9df-7b440b9f905e",
   "metadata": {},
   "source": [
    "Kontynuujemy aplikację, kolejnym krokiem będzie zarządanie odpowiedzi z drugiej zktywności. Rozpocznijmy od zmodyfikowania layoutu drugiej aktywności - dodajmy pole `EditText` w którym wpiszemy naszą odpowiedź oraz `Button` w celu powrotu i zainicjowania powrotnego przesłania danych."
   ]
  },
  {
   "cell_type": "code",
   "execution_count": null,
   "id": "6417d0b6-6930-4283-ae47-abd1c7fd0a09",
   "metadata": {},
   "outputs": [],
   "source": [
    "<EditText\n",
    "    android:id=\"@+id/editTextSecond\"\n",
    "    android:layout_width=\"0dp\"\n",
    "    android:layout_height=\"wrap_content\"\n",
    "    android:layout_margin=\"16dp\"\n",
    "    android:hint=\"Back message\"\n",
    "    android:textStyle=\"bold\"\n",
    "    android:textSize=\"24sp\"\n",
    "    app:layout_constraintBottom_toBottomOf=\"parent\"\n",
    "    app:layout_constraintEnd_toStartOf=\"@+id/returnButton\"\n",
    "    app:layout_constraintStart_toStartOf=\"parent\" />\n",
    "\n",
    "<Button\n",
    "    android:id=\"@+id/returnButton\"\n",
    "    android:layout_width=\"wrap_content\"\n",
    "    android:layout_height=\"wrap_content\"\n",
    "    android:text=\"Return\"\n",
    "    android:layout_margin=\"16dp\"\n",
    "    app:layout_constraintBottom_toBottomOf=\"parent\"\n",
    "    app:layout_constraintEnd_toEndOf=\"parent\" />"
   ]
  },
  {
   "cell_type": "markdown",
   "id": "95aec395-6bfb-4692-ad7c-fe2d48d412cb",
   "metadata": {},
   "source": [
    "Przejdźmy do klasy `SecondActivity.kt` i dodajmy pole przechowujące unikalny klucz naszej odpowiedzi."
   ]
  },
  {
   "cell_type": "code",
   "execution_count": null,
   "id": "a7ebca8a-86c7-44ce-8050-ff955378cf30",
   "metadata": {},
   "outputs": [],
   "source": [
    "const val EXTRA_REPLY = \"com.example.a31_explicitintentbasics.REPLY\""
   ]
  },
  {
   "cell_type": "markdown",
   "id": "40b6f8fe-9228-4173-b762-c6fbd8803e45",
   "metadata": {},
   "source": [
    "Następnie dodajmy metodę dodatkową `returnMessage` tworzącą `Intent`, który zostanie przekazany jako dane powrotne."
   ]
  },
  {
   "cell_type": "code",
   "execution_count": null,
   "id": "30dd38ef-a0b8-4a42-a1be-1412bde06dec",
   "metadata": {},
   "outputs": [],
   "source": [
    "private fun returnMessage() {\n",
    "    setResult(\n",
    "        RESULT_OK,\n",
    "        Intent().apply {\n",
    "            putExtra(EXTRA_REPLY,binding.editTextSecond.text.toString())\n",
    "        })\n",
    "    finish()\n",
    "}"
   ]
  },
  {
   "cell_type": "markdown",
   "id": "abc18327-adb2-476b-a2d1-a0ea6b7f7b5b",
   "metadata": {},
   "source": [
    "Tworzymy `Intent` i wykorzystujemy metodę `putExtra` do dołączenia danych, które wyciągamy z `EditText`. Wywołujemy metodę `setResult` która przyjjmuje dwa argumenty. Pierwwzym jest kod - tutaj wykorzystamy kod `RESULT_OK`, czyli nie przewidujemy żadnych problemów z odczytaniem, jako drugi argument podajemy nasz `Intent`.\n",
    "\n",
    "W metodzie możemy podać różne kody, które są predefiniowane w klasie `Activity` - `RESULT_OK`, `RESULT_CANCELED` i `RESULT_FIRST_USER`. Pierwszy dotyczy przypadku w których wszystko poszło po naszej myśli i możemy przekazać dane powrotne. Dzięki `RESULT_CANCELED` możemy sprecyzować co nasza aktywność główna ma zrobić gdy nie uda się wysłać danych z drugiej aktywności. Trzeci przypadek istnieje aby uniknąć konfliktów - pozwala developerowi na wykorzystanie własnego (nie predefiniowanego) kodu.\n",
    "\n",
    "Na koniec wywołujemy metodę `finish` która kończy działanie `SecondActivity`."
   ]
  },
  {
   "cell_type": "markdown",
   "id": "0efccfb9-1b8d-4d82-adc4-77c3101d22d6",
   "metadata": {},
   "source": [
    "Następnie do layoutu `MainActivity` dodajmy pole `TextView` w którym wyświetlimy odebraną wiadomość."
   ]
  },
  {
   "cell_type": "code",
   "execution_count": null,
   "id": "2c480221-3eb2-4417-ac34-2d4c35400c6e",
   "metadata": {},
   "outputs": [],
   "source": [
    "<TextView\n",
    "    android:id=\"@+id/textViewMain\"\n",
    "    android:layout_width=\"wrap_content\"\n",
    "    android:layout_height=\"wrap_content\"\n",
    "    android:text=\"Main Activity\"\n",
    "    android:textSize=\"40sp\"\n",
    "    android:textStyle=\"bold\"\n",
    "    android:textColor=\"@color/black\"\n",
    "    app:layout_constraintBottom_toBottomOf=\"parent\"\n",
    "    app:layout_constraintEnd_toEndOf=\"parent\"\n",
    "    app:layout_constraintStart_toStartOf=\"parent\"\n",
    "    app:layout_constraintTop_toTopOf=\"parent\" />"
   ]
  },
  {
   "cell_type": "markdown",
   "id": "880a51a2-00e2-4db0-aac5-254a8b68c2b3",
   "metadata": {},
   "source": [
    "Ostatnim krokiem będzie modyfikacja klasy `MainActivity.kt` w celu wysłania żądania i odebrania danych powrotnych."
   ]
  },
  {
   "cell_type": "markdown",
   "id": "9f9c78ba-382d-4569-87f4-6c16aa600e70",
   "metadata": {},
   "source": [
    "W pierwszym kroku w metodzie `startSecondActivity` chcemy poozbyć się wywołania `startActivity`. Teraz nie chcemy w prosty sposób włączać innej aktywności, tylko wysłać do niej żądanie przekazania danych."
   ]
  },
  {
   "cell_type": "markdown",
   "id": "2ec32b17-ee7e-4a7c-9602-b8c2a0667566",
   "metadata": {},
   "source": [
    "Musimy napisać launcher naszej drugiej aktywności."
   ]
  },
  {
   "cell_type": "code",
   "execution_count": null,
   "id": "cfae1ac3-04ad-417a-8a03-b66af66251d1",
   "metadata": {},
   "outputs": [],
   "source": [
    "    private val secondActivityResultLauncher = registerForActivityResult(\n",
    "        ActivityResultContracts.StartActivityForResult()){\n",
    "            result -> binding.textViewMain.text = result.data?.getStringExtra(EXTRA_REPLY)\n",
    "    }"
   ]
  },
  {
   "cell_type": "markdown",
   "id": "deead400-3536-47f6-bd75-d528337a1108",
   "metadata": {},
   "source": [
    "Tworzymy nowy `ActivityResultLauncher` i wywołujemy `registerForActivityResult` który przyjmuje dwa argumenty. \n",
    "\n",
    "`ActivityResultLauncher` jest interfejsem w Androidzie, który służy do uruchamiania innych aktywności (`Activity`) i odbierania wyników z powrotem do bieżącej aktywności. Jest to alternatywa dla starszych metod `startActivityForResult()` i `onActivityResult()`, które są już przestarzałe i zaleca się unikać ich używania.\n",
    "\n",
    "Kiedy chcemy uruchomić inną aktywność i otrzymać wynik, tworzymy instancję `ActivityResultLauncher`, który będzie odpowiadał za uruchomienie aktywności. Następnie dodajemy do niego nasłuchiwanie zdarzeń za pomocą metody `registerForActivityResult()`. Metoda ta przyjmuje obiekt typu `ActivityResultContract`, który określa rodzaj interakcji i format danych, które przekazujemy między aktywnościami.\n",
    "\n",
    "Rejestrujemy prośbę o rozpoczęcie innej aktywności. Powoduje to utworzenie wpisu w rejestrze powiązanym z drugą aktywnością, zarządzającym kodem żądania a także konwersjami do/z `Intent`. \n",
    "\n",
    "Jako pierwszy parametr podajemy `Contract`, nas interesuje metoda `StartActivityForResult`, poprzednio włączaliśmy drugą aktywność metodą `startActivity` - teraz żądamy odpowiedzi więc konieczne jest wykorzystanie innej metody. Drugim argumentem jest `Callback` - tutaj jest to dostarczenie implementacji metody `onActivityResult`, określamy co robimy z danymi które dostajemy powrotnie z aktywności `SecondActivity`. Dla uproszczenia można to wywołanie zastąpić wyrażeniem **lambda**."
   ]
  },
  {
   "cell_type": "markdown",
   "id": "79cd457e-3f2b-4747-9e69-3d12480ee363",
   "metadata": {},
   "source": [
    "`result` jest otrzymanym z drugiej aktywności `Intent` zawierającym dane. \n",
    "\n",
    "Następnie dodajmy implementację metody `onActivityResult`"
   ]
  },
  {
   "cell_type": "markdown",
   "id": "29db7160-b240-49b1-a423-25a7bd99d8e3",
   "metadata": {},
   "source": [
    "Sprawdzamy czy dane istnieją i wyciągamy dane z `result` i umieszczamy w polu `textView`."
   ]
  },
  {
   "cell_type": "code",
   "execution_count": null,
   "id": "8d0e15be-6a8c-4263-a584-627069907e9a",
   "metadata": {},
   "outputs": [],
   "source": [
    "binding.textViewMain.text = result.data?.getStringExtra(EXTRA_REPLY)"
   ]
  },
  {
   "cell_type": "markdown",
   "id": "3990a9e4-56f7-49df-8e91-8a3e79cf3249",
   "metadata": {},
   "source": [
    "Ostatnim krokiem jest wykorzystanie `secondActivityResultLauncher` w metodzie `onClick` przycisku wysyłającego żądanie"
   ]
  },
  {
   "cell_type": "code",
   "execution_count": null,
   "id": "c46ca1c6-7c13-4c93-96cd-85671c8bebb6",
   "metadata": {},
   "outputs": [],
   "source": [
    "private val secondActivityResultLauncher = registerForActivityResult(\n",
    "    ActivityResultContracts.StartActivityForResult()){ result ->\n",
    "    binding.textViewMain.text = result.data?.getStringExtra(EXTRA_REPLY)\n",
    "}\n",
    "\n",
    "private fun startSecondActivity() {\n",
    "    val message = binding.editTextMain.text.toString()\n",
    "    val intent = Intent(this, SecondActivity::class.java).apply {\n",
    "        putExtra(EXTRA_MESSAGE, message)\n",
    "    }\n",
    "\n",
    "    secondActivityResultLauncher.launch(intent)\n",
    "}"
   ]
  },
  {
   "cell_type": "markdown",
   "id": "f2cb621d-4813-4674-839b-784d596a06cb",
   "metadata": {},
   "source": [
    "Możemy przetestowac aplikację."
   ]
  },
  {
   "cell_type": "markdown",
   "id": "8d1fdb78-f2a9-4d89-9058-ac55b8132cce",
   "metadata": {},
   "source": [
    "<img src=\"https://media3.giphy.com/media/PHsI89pV5xucXPo04Q/giphy.gif?cid=790b7611aafef8fd0e301c0893d5eb7c0509e18967b4546a&rid=giphy.gif&ct=g\" width=\"150\" />"
   ]
  }
 ],
 "metadata": {
  "kernelspec": {
   "display_name": "Kotlin",
   "language": "kotlin",
   "name": "kotlin"
  },
  "language_info": {
   "codemirror_mode": "text/x-kotlin",
   "file_extension": ".kt",
   "mimetype": "text/x-kotlin",
   "name": "kotlin",
   "nbconvert_exporter": "",
   "pygments_lexer": "kotlin",
   "version": "1.8.0-RC"
  }
 },
 "nbformat": 4,
 "nbformat_minor": 5
}
