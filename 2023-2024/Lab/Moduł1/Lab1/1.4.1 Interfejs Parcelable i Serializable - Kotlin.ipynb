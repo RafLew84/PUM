{
 "cells": [
  {
   "cell_type": "markdown",
   "id": "fb5254c5-653c-4a4a-b402-9be03f46ba4a",
   "metadata": {},
   "source": [
    "# Interfejsy `Parcelable` i `Serializable`"
   ]
  },
  {
   "cell_type": "markdown",
   "id": "e5dc2b56-d95e-4d1b-812f-22a77238fb20",
   "metadata": {},
   "source": [
    "W tym przykładzie będziemy posiadać dwie aktywności, poprzez mechanizm `Intent` włączymy drugą aktywność oraz dzięki zaimplementowaniu interfejsu `Parcelable` oraz `Serializable` przekażemy cały obiekt. Do `activity_main.xml` dodajemy jeden `Button` przez naciśnięcie którego otworzymy drugą aktywność. Wykorzystamy również adnotację `@Parcelize` aby automatycznie wygenerować kod dla implementacji interfejsu `Parcelable`."
   ]
  },
  {
   "cell_type": "markdown",
   "id": "c2e4864b-baea-4b79-85ef-a5a76648ec1d",
   "metadata": {},
   "source": [
    "`Parcelable` i `Serializable` służą do zrobienia dokładnie tego samego; więc czym się różnią?\n",
    "- `Parcelable` jest szybszy od `Serializable`\n",
    "- `Serializable` jest interfejsem znacznikowym, więc implementacja jest szybsza\n",
    "- `Serializable` tworzy wiele tymczasowych obiektów - jest niewydajny\n",
    "- możemy przekazać całą tablicę obiektów za pomocą `Parcelable`\n",
    "- w kotlinie mamy do dyspozycji adnotację `@Parcelize` dzięki której dostajemy domyślną implementację wszystkich metod interfejsu `Parcelable`"
   ]
  },
  {
   "cell_type": "markdown",
   "id": "3edf8e5c-d93e-428a-a6c8-341dfc77aa1e",
   "metadata": {},
   "source": [
    "Interfejs `Serializable` jest jednym z najprostszych sposobów przenoszenia danych między różnymi częściami aplikacji w Androidzie. Służy do oznaczenia klasy, która może być **zserializowana**, czyli zamieniona na postać, która może być przechowywana lub przesyłana jako ciąg bajtów.\n",
    "\n",
    "Kiedy klasa implementuje interfejs `Serializable`, można jej obiekty przekazać do innych komponentów aplikacji lub zapisać je na dysku w postaci pliku lub w bazie danych. Przy użyciu `Serializable` można serializować całe drzewa obiektów, w tym ich pola, podklasy itp."
   ]
  },
  {
   "cell_type": "markdown",
   "id": "2de0269a-bbd9-4533-9985-fa0e591e1190",
   "metadata": {},
   "source": [
    "Interfejs `Parcelable` jest alternatywnym sposobem przekazywania obiektów między komponentami w Androidzie. Podobnie jak `Serializable`, służy do zamiany obiektów na postać, która może być przechowywana lub przesyłana między procesami w systemie Android. Jednakże, w porównaniu z `Serializable`, `Parcelable` oferuje lepszą wydajność, szczególnie w przypadku przesyłania dużych obiektów między komponentami.\n",
    "\n",
    "W przeciwieństwie do `Serializable`, `Parcelable` wymaga ręcznego zaimplementowania metod `writeToParcel()` i `createFromParcel()`, które służą do zamiany obiektu na postać Parcel i odczytanie z niego. `Parcel` to specjalny obiekt, który przechowuje binarną reprezentację danych i jest wykorzystywany do przesyłania danych między komponentami.\n",
    "\n",
    "Implementacja interfejsu `Parcelable` może być bardziej pracochłonna niż `Serializable`, ale oferuje wiele zalet w kontekście Androida, szczególnie w przypadku przesyłania dużych obiektów między komponentami. Dzięki zastosowaniu `Parcelable` można osiągnąć lepszą wydajność i uniknąć problemów związanych z `Serializable`, takich jak problem z zapętlaniem w przypadku obiektów z referencjami cyklicznymi."
   ]
  },
  {
   "cell_type": "markdown",
   "id": "cdcbf072-e817-42ae-936f-fc59ae5bf28b",
   "metadata": {},
   "source": [
    "## `Parcelable`"
   ]
  },
  {
   "cell_type": "markdown",
   "id": "4d823e0a-067d-4b82-a973-be434381317f",
   "metadata": {},
   "source": [
    "Do `activity_main.xml` dodajemy jeden `Button` przez naciśnięcie którego otworzymy drugą aktywność."
   ]
  },
  {
   "cell_type": "code",
   "execution_count": null,
   "id": "2949605f-bce3-4755-94a6-e99f971413d7",
   "metadata": {},
   "outputs": [],
   "source": [
    "<?xml version=\"1.0\" encoding=\"utf-8\"?>\n",
    "<androidx.constraintlayout.widget.ConstraintLayout xmlns:android=\"http://schemas.android.com/apk/res/android\"\n",
    "    xmlns:app=\"http://schemas.android.com/apk/res-auto\"\n",
    "    xmlns:tools=\"http://schemas.android.com/tools\"\n",
    "    android:layout_width=\"match_parent\"\n",
    "    android:layout_height=\"match_parent\"\n",
    "    tools:context=\".MainActivity\">\n",
    "\n",
    "    <Button\n",
    "        android:id=\"@+id/sendButton\"\n",
    "        android:layout_width=\"wrap_content\"\n",
    "        android:layout_height=\"wrap_content\"\n",
    "        android:layout_margin=\"16dp\"\n",
    "        android:text=\"SEND\"\n",
    "        app:layout_constraintStart_toStartOf=\"parent\"\n",
    "        app:layout_constraintTop_toTopOf=\"parent\" />\n",
    "\n",
    "</androidx.constraintlayout.widget.ConstraintLayout>"
   ]
  },
  {
   "cell_type": "markdown",
   "id": "0cc27be5-d3db-4125-8cad-253c81e02078",
   "metadata": {},
   "source": [
    "Następnie tworzymy drugą aktywność `SecondActivity.kt` i uzupełniamy jej layout w pliku `second_activity.xml`"
   ]
  },
  {
   "cell_type": "code",
   "execution_count": null,
   "id": "6f8742a2-4979-4b85-a21d-f6fac75bb0e8",
   "metadata": {},
   "outputs": [],
   "source": [
    "<?xml version=\"1.0\" encoding=\"utf-8\"?>\n",
    "<androidx.constraintlayout.widget.ConstraintLayout xmlns:android=\"http://schemas.android.com/apk/res/android\"\n",
    "    xmlns:app=\"http://schemas.android.com/apk/res-auto\"\n",
    "    xmlns:tools=\"http://schemas.android.com/tools\"\n",
    "    android:layout_width=\"match_parent\"\n",
    "    android:layout_height=\"match_parent\"\n",
    "    tools:context=\".SecondActivity\">\n",
    "\n",
    "    <TextView\n",
    "        android:id=\"@+id/textView\"\n",
    "        android:layout_width=\"match_parent\"\n",
    "        android:layout_height=\"wrap_content\"\n",
    "        android:textSize=\"24sp\"\n",
    "        app:layout_constraintBottom_toBottomOf=\"parent\"\n",
    "        app:layout_constraintStart_toStartOf=\"parent\"\n",
    "        app:layout_constraintTop_toTopOf=\"parent\" />\n",
    "\n",
    "</androidx.constraintlayout.widget.ConstraintLayout>"
   ]
  },
  {
   "cell_type": "markdown",
   "id": "25019b62-f73e-4c20-a7e6-3e1a317aa8f7",
   "metadata": {},
   "source": [
    "Przejdźmy do manifestu i określmy hierarchię aktywności"
   ]
  },
  {
   "cell_type": "code",
   "execution_count": null,
   "id": "81ba832a-2c69-4edb-ba9d-0d73627821dc",
   "metadata": {},
   "outputs": [],
   "source": [
    "        <activity\n",
    "            android:name=\".SecondActivity\"\n",
    "            android:parentActivityName=\".MainActivity\"\n",
    "            android:exported=\"false\" />"
   ]
  },
  {
   "cell_type": "markdown",
   "id": "4662496a-7e1c-4dfb-9608-7d74e6fb5d7a",
   "metadata": {},
   "source": [
    "Następnie utwórzmy klasę której instancję przekażemy pomiędzy aktywnościami."
   ]
  },
  {
   "cell_type": "code",
   "execution_count": null,
   "id": "3210e018-be15-470e-84d2-599edf9ff10f",
   "metadata": {},
   "outputs": [],
   "source": [
    "class Properties(val a: Int, val b: Int, val c: String?)"
   ]
  },
  {
   "cell_type": "markdown",
   "id": "86e574e9-d04c-4168-bde5-488952271d93",
   "metadata": {},
   "source": [
    "Aby być w stanie intancję takiej klasy przekazać do innej aktywności, musi ona implementować interfejs `Parcelable` (lub `Serializable` - więcej o różnicach implementacyjnych poniżej)."
   ]
  },
  {
   "cell_type": "code",
   "execution_count": null,
   "id": "380b9abb-e48c-4c74-a57c-abe9e2b27adc",
   "metadata": {},
   "outputs": [],
   "source": [
    "class Properties(val a: Int, val b: Int, val c: String?) : Parcelable {\n",
    "    constructor(parcel: Parcel) : this(\n",
    "        parcel.readInt(),\n",
    "        parcel.readInt(),\n",
    "        parcel.readString()\n",
    "    ) {\n",
    "    }\n",
    "\n",
    "    override fun writeToParcel(parcel: Parcel, flags: Int) {\n",
    "        parcel.writeInt(a)\n",
    "        parcel.writeInt(b)\n",
    "        parcel.writeString(c)\n",
    "    }\n",
    "\n",
    "    override fun describeContents(): Int {\n",
    "        return hashCode()\n",
    "    }\n",
    "\n",
    "    companion object CREATOR : Parcelable.Creator<Properties> {\n",
    "        override fun createFromParcel(parcel: Parcel): Properties {\n",
    "            return Properties(parcel)\n",
    "        }\n",
    "\n",
    "        override fun newArray(size: Int): Array<Properties?> {\n",
    "            return arrayOfNulls(size)\n",
    "        }\n",
    "    }\n",
    "}"
   ]
  },
  {
   "cell_type": "markdown",
   "id": "6bcd0d5f-046f-4191-bfa6-08c3813a4f1b",
   "metadata": {},
   "source": [
    "Jakc widzimy musimy zaimplementować dwie metody, konstruktor oraz **companion object** `Creator`. Ponieważ obiekt towarzyszący jest sam w sobie jest obiektem więc nie ma żadnych ograniczeń - może rozszerzać klasy i implementować interfejsy. Jeżeli chcemy przekazać instancję klasy przez mechanizm `Intent` lub zachować w obiekcie `Bundle` w pierwszym kroku niejawnie zostanie wywołana metoda `writeToParcel`. Metoda ta opakowuje wszystkie właściwości klasy do obiektu `Parcel` wywołując metodę `writeToParcel` z odpowiednim typem. Przy odtwarzaniu instancji klasy `Properties` w pierwszym kroku wywoływana jest metoda `createFromParcel` znajdująca się w obiekcie towarzyszącym `Creator`. Metoda ta wywołuje drugorzędny konstruktor przyjmujący jako argument `Parcel`. Istotnym elementem tej implementacji jest konieczność zachowania kolejności przy przekazywaniu właściwości do i z `Parcel`. Przyjrzyjmy się konstruktorowi drugorzędnemu i metodzie `writeToParcel`.\n",
    "\n",
    "Innymi słowy metoda `writeToParcel()` zapisuje pola obiektu do obiektu Parcel, a metoda `createFromParcel()` odczytuje te pola z `Parcel`. Następnie, w `Companion object`, definiujemy obiekt `CREATOR` typu `Parcelable.Creator<Properties>`, który jest odpowiedzialny za tworzenie instancji `Properies` z `Parcel`."
   ]
  },
  {
   "cell_type": "code",
   "execution_count": null,
   "id": "a1864424-ea11-4d43-81a1-93787d2b6c0c",
   "metadata": {},
   "outputs": [],
   "source": [
    "constructor(parcel: Parcel) : this(\n",
    "    parcel.readInt(),\n",
    "    parcel.readInt(),\n",
    "    parcel.readString()\n",
    ") {\n",
    "}\n",
    "\n",
    "override fun writeToParcel(parcel: Parcel, flags: Int) {\n",
    "    parcel.writeInt(a)\n",
    "    parcel.writeInt(b)\n",
    "    parcel.writeString(c)\n",
    "}"
   ]
  },
  {
   "cell_type": "markdown",
   "id": "ca07c1d8-6029-4c21-b2d9-7ffe1c71a8e4",
   "metadata": {},
   "source": [
    "Pola `a`, `b` i `c` są zapisywane do `Parcel` i odczytywane w konstruktorze dokładnie w tej samej kolejności - jest to niezbędne do poprawnego działania - zweróćmy uwagę że nie posługujemy się tutaj żadnym kluczem, czy jakimś unikalnym identyfikartorem."
   ]
  },
  {
   "cell_type": "markdown",
   "id": "33423fb6-1c66-4964-b9a3-95d33c0d0f95",
   "metadata": {},
   "source": [
    "Ostatnią metodą jest `describeContent` - w interfejsie zdefiniowana jest stała `CONTENT_FILE_DESCRIPTION` która powinna zostać użyta w tej metodzie do zwrócenia maski bitowej - tutaj zwrócimy wynik wwywołania metody `hashCode`."
   ]
  },
  {
   "cell_type": "code",
   "execution_count": null,
   "id": "a5a1e668-f5a7-4ea0-bf86-97ea9b5b5788",
   "metadata": {},
   "outputs": [],
   "source": [
    "override fun describeContents(): Int {\n",
    "    return hashCode()\n",
    "}"
   ]
  },
  {
   "cell_type": "markdown",
   "id": "37caa599-609f-4436-aef1-fd934b06c8ad",
   "metadata": {},
   "source": [
    "Przejdźmy do implementacji metody `onClick` przycisku na głównej aktywności. Tym razem zrobimy to nieco inaczej, przechodzimy do pliku `MainActivity.kt`. Do metody `onCreate` dodajemy"
   ]
  },
  {
   "cell_type": "code",
   "execution_count": null,
   "id": "c5900536-9d81-409f-9f7f-e9bfc83469c2",
   "metadata": {},
   "outputs": [],
   "source": [
    "binding.sendButton.setOnClickListener { sendProperties() }"
   ]
  },
  {
   "cell_type": "markdown",
   "id": "7dd5c4a1-db10-4d16-bd65-17313ea52ba8",
   "metadata": {},
   "source": [
    "Ustawiamy `onClickListener` przycisku i jako argument przekazywany jest obiekt o typie  interfejsu `OnClickListener` znajdującego się w klasie `View` - implementujemy jako **lambdę**. Klasa `View` jest główną klasą wszystkich elementów interfejsu użytkownika - jest rozszerzana przez wszystkie klasy."
   ]
  },
  {
   "cell_type": "markdown",
   "id": "06cc4694-66bf-4241-bd9d-a6ae2afcab90",
   "metadata": {},
   "source": [
    "Dodajmy implementację `onClick` w metodzie pomocniczej `sendProperties`"
   ]
  },
  {
   "cell_type": "code",
   "execution_count": null,
   "id": "f3ee1929-e095-4729-b160-10398e3c22b1",
   "metadata": {},
   "outputs": [],
   "source": [
    "private fun sendProperties(){\n",
    "    val intent = Intent(this, SecondActivity::class.java)\n",
    "        .putExtra(EXTRA_KEY, Properties(1, 2, \"String\"))\n",
    "    startActivity(intent)\n",
    "}"
   ]
  },
  {
   "cell_type": "markdown",
   "id": "8f6b1c13-a480-47f5-9b24-a6898cb322ca",
   "metadata": {},
   "source": [
    "Tworzymy klucz dla `Intent`, następnie tworzymy instancję `Properties` oraz sam `Intent`. Wskazujemy kontekst jako `this` oraz cel którym jest `SecoondActivity::class.java`. Następnie dodajemy za pomocą metody `putExtra` nasz obiekt `Properties` i wywołujemy `startActivity` w celu włączenia drugiej aktywności."
   ]
  },
  {
   "cell_type": "markdown",
   "id": "70d844b6-abae-45ac-b4ff-b76a7bd1794c",
   "metadata": {},
   "source": [
    "W następnym kroku odbierzemy dane w `SecondActivity` i rozpakujemy obiekt `Properties`. Przejdźmy do pliku `SecondActivity.kt`"
   ]
  },
  {
   "cell_type": "code",
   "execution_count": null,
   "id": "c11f7507-558f-49c8-b089-27ded58b4fea",
   "metadata": {},
   "outputs": [],
   "source": [
    "class SecondActivity : AppCompatActivity() {\n",
    "\n",
    "    private val binding: ActivitySecondBinding by lazy { ActivitySecondBinding.inflate(layoutInflater) }\n",
    "\n",
    "    override fun onCreate(savedInstanceState: Bundle?) {\n",
    "        super.onCreate(savedInstanceState)\n",
    "        setContentView(binding.root)\n",
    "\n",
    "        val prop =\n",
    "            if (SDK_INT >= Build.VERSION_CODES.TIRAMISU)\n",
    "                intent.getParcelableExtra(EXTRA_KEY, Properties::class.java) // min api 33\n",
    "            else\n",
    "                intent.getParcelable(EXTRA_KEY) // api 1 - 32\n",
    "\n",
    "        val text = prop?.a.toString() + prop?.b.toString() + \" \" + prop?.c + \"----\\n\"\n",
    "        binding.textView.text = text\n",
    "    }\n",
    "}"
   ]
  },
  {
   "cell_type": "markdown",
   "id": "d1ff1dcd-fe38-4ce0-8b27-4a62b8d34581",
   "metadata": {},
   "source": [
    "Tworzymy `Intent` i wywoołujemy metodę `getIntent`, następnie tworzymy obiekt typu `Properties` - tutaj niejawnie zoostanie wywołany konstruktor z argumentem typu `Parcel`. Wyciągamy obiekt za pomocą metody `getParcelableExtra` jako argument podając klucz. Do odpowiednich pól możemy dostać się poprzez odpowiednie **gettery**. Możemy przetestować aplikację."
   ]
  },
  {
   "cell_type": "markdown",
   "id": "94cdf6d2-3623-4668-add6-17d263239970",
   "metadata": {},
   "source": [
    "Od wersji `API 33`, metoda `getParcelableExtra` w klasie `Intent` zwraca instancje klas implementujących interfejs `Parcelable` (lub `Serializable`) z wyłączeniem klasy `Parcelable.Creator` i jego podklas.\n",
    "\n",
    "Dokładniej mówiąc, od wersji `API 33` metoda `getParcelableExtra` wywołana na obiekcie `Intent` zwróci `null`, jeśli argumentem będzie obiekt klasy `Parcelable.Creator` lub jego podklas. Wcześniej metoda `getParcelableExtra` zwracała instancje tych klas w normalny sposób.\n",
    "\n",
    "Przykładowo, w poprzednich wersjach Androida, następujący kod działałby poprawnie:\n",
    "\n",
    "`val myObject = intent.getParcelableExtra<MyParcelableObject>(\"my_key\")`\n",
    "\n",
    "Jednakże, od wersji `API 33`, powyższy kod zwróciłby `null`, jeśli klasa `MyParcelableObject` dziedziczy od `Parcelable.Creator`.\n",
    "\n",
    "Nowsze wywołanie wymaga podania typu oczekiwanej wartości, jako drugiego argumentu:\n",
    "\n",
    "`val myObject = intent.getParcelableExtra(EXTRA_KEY, MyParcelableObject::class.java)`\n",
    "\n",
    "W tym przypadku, metoda `getParcelableExtra` jest wywoływana z dwoma argumentami:\n",
    "\n",
    "- `EXTRA_KEY`: klucz, pod którym wartość `MyParcelableObject` została dodana do obiektu `Intent` za pomocą metody `putExtra` w poprzedniej aktywności lub usłudze.\n",
    "- `Properties::class.java`: typ oczekiwanej wartości, który w tym przypadku jest klasą `MyParcelableObject`."
   ]
  },
  {
   "cell_type": "markdown",
   "id": "aefc9c95-a3aa-4175-948a-861b3177a0d7",
   "metadata": {},
   "source": [
    "Przy wywołaniuu metody\n",
    "\n",
    "```kotlin\n",
    "intent.getParcelable(EXTRA_KEY)\n",
    "```\n",
    "\n",
    "dostaniemy warning związany z przedawnieniem takiego wywołania `getParcelable`. Ponieważ chcemy obsłużyć `API` 28 - 33 (przykładowo), musimy zastosować dwie wersje metody `getParcelable`"
   ]
  },
  {
   "cell_type": "code",
   "execution_count": null,
   "id": "10784ceb-6a7d-48b6-b379-1217425a4a19",
   "metadata": {},
   "outputs": [],
   "source": [
    "if (SDK_INT >= Build.VERSION_CODES.TIRAMISU)\n",
    "    intent.getSerializableExtra(EXTRA_SERIALIZABLE, SerializableProperties::class.java) // min api 33\n",
    "else\n",
    "    intent.getSerializable(EXTRA_SERIALIZABLE) // api 1 - 32"
   ]
  },
  {
   "cell_type": "markdown",
   "id": "1966bc7a-dfa0-47a0-8c24-a90d674da795",
   "metadata": {},
   "source": [
    "Aby pozbyć się ostrzeżenia, możemy zdefiniować dodatkową funkcję rozszerzającą, robię to w pliku `StopDepracationWarningUtil`"
   ]
  },
  {
   "cell_type": "code",
   "execution_count": null,
   "id": "eb794a1f-337e-4850-9554-e63d582ac7f1",
   "metadata": {},
   "outputs": [],
   "source": [
    "inline fun <reified T : Parcelable> Intent.getParcelable(key: String): T? = when {\n",
    "    Build.VERSION.SDK_INT >= 33 -> getParcelableExtra(key, T::class.java)\n",
    "    else -> @Suppress(\"DEPRECATION\") getParcelableExtra(key) as? T\n",
    "}"
   ]
  },
  {
   "cell_type": "markdown",
   "id": "307a7996-e834-4fe2-a2c0-e318a109e1a4",
   "metadata": {},
   "source": [
    "## **Interfejs `Serializable`**"
   ]
  },
  {
   "cell_type": "markdown",
   "id": "b9bcd671-42d4-4b89-abbc-69deedff4ae5",
   "metadata": {},
   "source": [
    "Dodajmy do projektu kolejną klasę `SerializableProperties`, która implementuje interfejs `Serializable` i powtórzmy wszystkie czynności."
   ]
  },
  {
   "cell_type": "code",
   "execution_count": null,
   "id": "317bba72-0160-4d2f-8448-b4f097eb21cd",
   "metadata": {},
   "outputs": [],
   "source": [
    "import java.io.Serializable\n",
    "\n",
    "class SerializableProperties (val a: Int, b: Int, c: String): Serializable"
   ]
  },
  {
   "cell_type": "markdown",
   "id": "de6a06bf-7342-480f-9196-73e6bf3a0f80",
   "metadata": {},
   "source": [
    "Interfejs `Serializable` jest **interfejsem znacznikowym** więc nie jest koonieczne implementowanie żadnych metod"
   ]
  },
  {
   "cell_type": "markdown",
   "id": "120fdf67-2ed1-4d2e-895d-6fb22a54ed4a",
   "metadata": {},
   "source": [
    "W klasie `MainActivity.kt` dodajmy jeszcze jedno pole"
   ]
  },
  {
   "cell_type": "code",
   "execution_count": null,
   "id": "44cc6070-3b95-41e9-bb19-94948831eff1",
   "metadata": {},
   "outputs": [],
   "source": [
    "const val EXTRA_SERIALIZABLE = \"serializable_example\""
   ]
  },
  {
   "cell_type": "markdown",
   "id": "81417fa2-d499-4428-ad7d-c6d9a9aa438d",
   "metadata": {},
   "source": [
    "Następnie utworzymy instancję klasy `SerializableProperties` i dodamy ją do wcześniej utworzonego `Intent`"
   ]
  },
  {
   "cell_type": "code",
   "execution_count": null,
   "id": "67197d65-905a-4596-a666-9e6a049de58b",
   "metadata": {},
   "outputs": [],
   "source": [
    "private fun sendProperties(){\n",
    "    val intent = Intent(this, SecondActivity::class.java)\n",
    "        .putExtra(EXTRA_KEY, Properties(1, 2, \"String\"))\n",
    "        .putExtra(EXTRA_SERIALIZABLE, SerializableProperties(11, 11, \"Serializable\"))\n",
    "    startActivity(intent)\n",
    "}"
   ]
  },
  {
   "cell_type": "markdown",
   "id": "4d1ddf7a-7b41-43fe-b434-597e28714c18",
   "metadata": {},
   "source": [
    "Przejdźmy do `SecondActivity`, rozpakujmy nasz drugi obiekt i dodajmy jego pola do `TextView`."
   ]
  },
  {
   "cell_type": "code",
   "execution_count": null,
   "id": "43ffa418-c514-4198-bf9c-e34343050bd5",
   "metadata": {},
   "outputs": [],
   "source": [
    "val serializableProperties =\n",
    "    if (SDK_INT >= Build.VERSION_CODES.TIRAMISU)\n",
    "        intent.getSerializableExtra(EXTRA_SERIALIZABLE, SerializableProperties::class.java) // min api 33\n",
    "    else\n",
    "        intent.getSerializable(EXTRA_SERIALIZABLE) // api 1 - 32"
   ]
  },
  {
   "cell_type": "markdown",
   "id": "fe0249ab-e1b1-459a-bf88-a48f84f4e34a",
   "metadata": {},
   "source": [
    "Zwróćmy uwagę że przy wywołaniu metody `getSerializableExtra` dostajemy obiekt o typie interfejsu `Serializable` i potrzebujemy obiekt typu `SerializableProperties`. Ponieważ nasza klasa implementuje ten interfejs, możemy bezpiecznie rzutować na `SerializableProperties`."
   ]
  },
  {
   "cell_type": "markdown",
   "id": "5aea9c53-a87e-43f8-b8df-4625204c3165",
   "metadata": {},
   "source": [
    "Podobnie jak poprzednio, aby aplikacja działała na wersjach Android o `API` 28 - 33, musimy wykorzystać przedawnioną metodę - tutaj również możemy pozbyć się ostrzeżenia przez dodanie odpowiedniej metodyy rozszerzającej."
   ]
  },
  {
   "cell_type": "code",
   "execution_count": null,
   "id": "52e59854-e83c-4d4e-8c4e-69b97ac13da1",
   "metadata": {},
   "outputs": [],
   "source": [
    "inline fun <reified T : java.io.Serializable> Intent.getSerializable(key: String): T? = when {\n",
    "    Build.VERSION.SDK_INT >= 33 -> getSerializableExtra(key, T::class.java)\n",
    "    else -> @Suppress(\"DEPRECATION\") getSerializableExtra(key) as? T\n",
    "}"
   ]
  },
  {
   "cell_type": "markdown",
   "id": "4e8c3da7-86b5-433e-83f6-039183ad21b5",
   "metadata": {},
   "source": [
    "Po uruchomieniu aplikacji powinniśmy dostać podobny wynik jak poprzednio. Widzimy że właściwie mogę zrobić dokładnie to samo przy pomocy dwóch interfejsów - `Parcelable` i `Serializable`; więc czym się różnią?\n",
    "- `Parcelable` jest szybszy od `Serializable`\n",
    "- `Serializable` jest interfejsem znacznikowym, więc implementacja jest szybsza\n",
    "- `Serializable` tworzy wiele tymczasowych obiektów - jest niewydajny\n",
    "- możemy przekazać całą tablicę obiektów za pomocą `Parcelable`\n",
    "- w kotlinie mamy do dyspozycji adnotację `@Parcelize` dzięki której dostajemy domyślną implementację wszystkich metod interfejsu `Parcelable`"
   ]
  },
  {
   "cell_type": "markdown",
   "id": "7ac0c577-24be-4709-a7b5-4fcbf30167a2",
   "metadata": {},
   "source": [
    "## **Adnotacja `@Parcelize`**"
   ]
  },
  {
   "cell_type": "markdown",
   "id": "d5f84bc7-a1bd-4d24-9ba2-3f4e5b6fa036",
   "metadata": {},
   "source": [
    "Dodajmy kolejną klasę do projektu i jak poprzednio przekażmy jej intstancję jako `Extra` to drugiej aktywności. W pierwszym kroku musimy przejść do pliku `build.gradle(Module)` i dodać plugin"
   ]
  },
  {
   "cell_type": "code",
   "execution_count": null,
   "id": "a37e52a7-6d59-438e-9c8e-cea3fdf1ac9f",
   "metadata": {},
   "outputs": [],
   "source": [
    "plugins {\n",
    "    id 'com.android.application'\n",
    "    id 'org.jetbrains.kotlin.android'\n",
    "    id 'kotlin-parcelize'\n",
    "}"
   ]
  },
  {
   "cell_type": "markdown",
   "id": "afa79c74-2b33-4518-8007-2d85f47923b4",
   "metadata": {},
   "source": [
    "Następnie możemy wykorzystać adnotację `@Parcelize`"
   ]
  },
  {
   "cell_type": "code",
   "execution_count": null,
   "id": "e9cc3358-159c-4740-a801-ce7a79f73a5c",
   "metadata": {},
   "outputs": [],
   "source": [
    "import android.os.Parcelable\n",
    "import kotlinx.parcelize.Parcelize\n",
    "\n",
    "@Parcelize\n",
    "class ParcelizeProperties (val a: Int, val b: Int, val c: String) : Parcelable"
   ]
  },
  {
   "cell_type": "markdown",
   "id": "7a71816f-707b-4f53-8d14-fe28cf0bb764",
   "metadata": {},
   "source": [
    "Dokonujemy modyfikacji w pliku `MainActivity.kt`"
   ]
  },
  {
   "cell_type": "code",
   "execution_count": null,
   "id": "29d9de9f-2353-4699-8016-b305e393c4fe",
   "metadata": {},
   "outputs": [],
   "source": [
    "private fun sendProperties(){\n",
    "    val intent = Intent(this, SecondActivity::class.java)\n",
    "        .putExtra(EXTRA_KEY, Properties(1, 2, \"String\"))\n",
    "        .putExtra(EXTRA_SERIALIZABLE, SerializableProperties(11, 11, \"Serializable\"))\n",
    "        .putExtra(EXTRA_PARCELIZE, ParcelizeProperties(0, 0, \"Parcelize\"))\n",
    "    startActivity(intent)\n",
    "}"
   ]
  },
  {
   "cell_type": "markdown",
   "id": "3081da94-e350-4841-82cb-d9c993e64470",
   "metadata": {},
   "source": [
    "Oraz pliku `SecondActivity.kt`"
   ]
  },
  {
   "cell_type": "code",
   "execution_count": null,
   "id": "baeba9b2-bd1a-4604-b85f-cb6a1f33fccb",
   "metadata": {},
   "outputs": [],
   "source": [
    "override fun onCreate(savedInstanceState: Bundle?) {\n",
    "    super.onCreate(savedInstanceState)\n",
    "    setContentView(binding.root)\n",
    "\n",
    "    val prop =\n",
    "        if (SDK_INT >= Build.VERSION_CODES.TIRAMISU)\n",
    "            intent.getParcelableExtra(EXTRA_KEY, Properties::class.java) // min api 33\n",
    "        else\n",
    "            intent.getParcelable(EXTRA_KEY) // api 1 - 32\n",
    "\n",
    "    val serializableProperties =\n",
    "        if (SDK_INT >= Build.VERSION_CODES.TIRAMISU)\n",
    "            intent.getSerializableExtra(EXTRA_SERIALIZABLE, SerializableProperties::class.java) // min api 33\n",
    "        else\n",
    "            intent.getSerializable(EXTRA_SERIALIZABLE) // api 1 - 32\n",
    "\n",
    "\n",
    "    val parcelizeProperties =\n",
    "        if (SDK_INT >= Build.VERSION_CODES.TIRAMISU)\n",
    "            intent.getParcelableExtra(EXTRA_PARCELIZE, ParcelizeProperties::class.java) // min api 33\n",
    "        else\n",
    "            intent.getParcelable(EXTRA_PARCELIZE) // api 1 - 32\n",
    "\n",
    "    val text = prop?.a.toString() + prop?.b.toString() + \" \" + prop?.c + \"----\\n\" +\n",
    "        serializableProperties?.a + serializableProperties?.b + \" \" + serializableProperties?.c + \"----\\n\" +\n",
    "        parcelizeProperties?.a.toString() + parcelizeProperties?.b.toString() + \" \" + parcelizeProperties?.c\n",
    "    binding.textView.text = text\n",
    "}"
   ]
  },
  {
   "cell_type": "markdown",
   "id": "cc8ccd6c-2783-449a-a5bd-3011cd304bd3",
   "metadata": {},
   "source": [
    "Teraz możemy przetestowac aplikację. Widzimy że mamy możliwość automatycznej implementacji wszystkich niezbędnych elementów interfejsu `Parcelable`. Warunkiem jest posiadanie wszystkich pól w **konstruktorze głównym**."
   ]
  }
 ],
 "metadata": {
  "kernelspec": {
   "display_name": "Kotlin",
   "language": "kotlin",
   "name": "kotlin"
  },
  "language_info": {
   "codemirror_mode": "text/x-kotlin",
   "file_extension": ".kt",
   "mimetype": "text/x-kotlin",
   "name": "kotlin",
   "nbconvert_exporter": "",
   "pygments_lexer": "kotlin",
   "version": "1.8.0-RC"
  }
 },
 "nbformat": 4,
 "nbformat_minor": 5
}
