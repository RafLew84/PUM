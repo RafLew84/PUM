{
 "cells": [
  {
   "cell_type": "markdown",
   "id": "f5504887-7c06-4dbd-89e8-6980a52cae24",
   "metadata": {},
   "source": [
    "# Interfejs `Parcelable`"
   ]
  },
  {
   "cell_type": "markdown",
   "id": "ac5bf3b3-afab-44dc-881d-2f2467386626",
   "metadata": {},
   "source": [
    "W tym przykładzie będziemy posiadać dwie aktywności, poprzez mechanizm `Intent` włączymy drugą aktywność oraz dzięki zaimplementowaniu interfejsu `Parcelable` oraz `Serializable` przekażemy cały obiekt. Do `activity_main.xml` dodajemy jeden `Button` przez naciśnięcie którego otworzymy drugą aktywność."
   ]
  },
  {
   "cell_type": "markdown",
   "id": "0087c45d-b74b-4948-94a1-88cb167b02b5",
   "metadata": {},
   "source": [
    "`Parcelable` i `Serializable` służą do zrobienia dokładnie tego samego; więc czym się różnią?\n",
    "- `Parcelable` jest szybszy od `Serializable`\n",
    "- `Serializable` jest interfejsem znacznikowym, więc implementacja jest szybsza\n",
    "- `Serializable` tworzy wiele tymczasowych obiektów - jest niewydajny\n",
    "- możemy przekazać całą tablicę obiektów za pomocą `Parcelable`\n",
    "- w kotlinie mamy do dyspozycji adnotację `@Parcelize` dzięki której dostajemy domyślną implementację wszystkich metod interfejsu `Parcelable`"
   ]
  },
  {
   "cell_type": "markdown",
   "id": "ec6d4839-a64a-4e99-9bb5-966ed656f4ee",
   "metadata": {},
   "source": [
    "Interfejs `Serializable` jest jednym z najprostszych sposobów przenoszenia danych między różnymi częściami aplikacji w Androidzie. Służy do oznaczenia klasy, która może być **zserializowana**, czyli zamieniona na postać, która może być przechowywana lub przesyłana jako ciąg bajtów.\n",
    "\n",
    "Kiedy klasa implementuje interfejs `Serializable`, można jej obiekty przekazać do innych komponentów aplikacji lub zapisać je na dysku w postaci pliku lub w bazie danych. Przy użyciu `Serializable` można serializować całe drzewa obiektów, w tym ich pola, podklasy itp."
   ]
  },
  {
   "cell_type": "markdown",
   "id": "a0eda5c8-f50f-49db-9436-9f0dde1d4f2a",
   "metadata": {},
   "source": [
    "Interfejs `Parcelable` jest alternatywnym sposobem przekazywania obiektów między komponentami w Androidzie. Podobnie jak `Serializable`, służy do zamiany obiektów na postać, która może być przechowywana lub przesyłana między procesami w systemie Android. Jednakże, w porównaniu z `Serializable`, `Parcelable` oferuje lepszą wydajność, szczególnie w przypadku przesyłania dużych obiektów między komponentami.\n",
    "\n",
    "W przeciwieństwie do `Serializable`, `Parcelable` wymaga ręcznego zaimplementowania metod `writeToParcel()` i `createFromParcel()`, które służą do zamiany obiektu na postać Parcel i odczytanie z niego. `Parcel` to specjalny obiekt, który przechowuje binarną reprezentację danych i jest wykorzystywany do przesyłania danych między komponentami.\n",
    "\n",
    "Implementacja interfejsu `Parcelable` może być bardziej pracochłonna niż `Serializable`, ale oferuje wiele zalet w kontekście Androida, szczególnie w przypadku przesyłania dużych obiektów między komponentami. Dzięki zastosowaniu `Parcelable` można osiągnąć lepszą wydajność i uniknąć problemów związanych z `Serializable`, takich jak problem z zapętlaniem w przypadku obiektów z referencjami cyklicznymi."
   ]
  },
  {
   "cell_type": "markdown",
   "id": "a96123ab-f6d9-4c4d-b68a-0e12a4d54f78",
   "metadata": {},
   "source": [
    "## `Parcelable`"
   ]
  },
  {
   "cell_type": "code",
   "execution_count": null,
   "id": "aa14a772-95d7-4bac-9ac6-3d73369c9163",
   "metadata": {},
   "outputs": [],
   "source": [
    "<?xml version=\"1.0\" encoding=\"utf-8\"?>\n",
    "<androidx.constraintlayout.widget.ConstraintLayout xmlns:android=\"http://schemas.android.com/apk/res/android\"\n",
    "    xmlns:app=\"http://schemas.android.com/apk/res-auto\"\n",
    "    xmlns:tools=\"http://schemas.android.com/tools\"\n",
    "    android:layout_width=\"match_parent\"\n",
    "    android:layout_height=\"match_parent\"\n",
    "    tools:context=\".MainActivity\">\n",
    "\n",
    "    <Button\n",
    "        android:id=\"@+id/sendButton\"\n",
    "        android:layout_width=\"wrap_content\"\n",
    "        android:layout_height=\"wrap_content\"\n",
    "        android:layout_margin=\"16dp\"\n",
    "        android:text=\"SEND\"\n",
    "        app:layout_constraintStart_toStartOf=\"parent\"\n",
    "        app:layout_constraintTop_toTopOf=\"parent\" />\n",
    "\n",
    "</androidx.constraintlayout.widget.ConstraintLayout>"
   ]
  },
  {
   "cell_type": "markdown",
   "id": "546be021-af18-4871-95a2-9a9bae3c88e0",
   "metadata": {},
   "source": [
    "Następnie tworzymy drugą aktywność `SecondActivity.java` i uzupełniamy jej layout w pliku `second_activity.xml`"
   ]
  },
  {
   "cell_type": "code",
   "execution_count": null,
   "id": "5d3fe849-07ec-4f32-a599-9277ca1d1f46",
   "metadata": {},
   "outputs": [],
   "source": [
    "<?xml version=\"1.0\" encoding=\"utf-8\"?>\n",
    "<androidx.constraintlayout.widget.ConstraintLayout xmlns:android=\"http://schemas.android.com/apk/res/android\"\n",
    "    xmlns:app=\"http://schemas.android.com/apk/res-auto\"\n",
    "    xmlns:tools=\"http://schemas.android.com/tools\"\n",
    "    android:layout_width=\"match_parent\"\n",
    "    android:layout_height=\"match_parent\"\n",
    "    tools:context=\".SecondActivity\">\n",
    "\n",
    "    <TextView\n",
    "        android:id=\"@+id/textView\"\n",
    "        android:layout_width=\"match_parent\"\n",
    "        android:layout_height=\"wrap_content\"\n",
    "        android:textSize=\"24sp\"\n",
    "        app:layout_constraintBottom_toBottomOf=\"parent\"\n",
    "        app:layout_constraintStart_toStartOf=\"parent\"\n",
    "        app:layout_constraintTop_toTopOf=\"parent\" />\n",
    "\n",
    "</androidx.constraintlayout.widget.ConstraintLayout>"
   ]
  },
  {
   "cell_type": "markdown",
   "id": "4e124e6c-0a9d-4318-a2b0-bfd9b9c31d56",
   "metadata": {},
   "source": [
    "Przejdźmy do manifestu i określmy hierarchię aktywności"
   ]
  },
  {
   "cell_type": "code",
   "execution_count": null,
   "id": "329d947d-d695-45aa-9cdd-6362556cfff3",
   "metadata": {},
   "outputs": [],
   "source": [
    "        <activity\n",
    "            android:name=\".SecondActivity\"\n",
    "            android:parentActivityName=\".MainActivity\"\n",
    "            android:exported=\"false\" />"
   ]
  },
  {
   "cell_type": "markdown",
   "id": "e021b7c8-9bfb-4512-8beb-1e7198be3890",
   "metadata": {},
   "source": [
    "Następnie utwórzmy klasę której instancję przekażemy pomiędzy aktywnościami."
   ]
  },
  {
   "cell_type": "code",
   "execution_count": null,
   "id": "0c3b5ec6-4269-42e1-9f18-33ee2f49e0ff",
   "metadata": {},
   "outputs": [],
   "source": [
    "public class Properties {\n",
    "    private int a;\n",
    "    private int b;\n",
    "    private String c;\n",
    "\n",
    "    public Properties(int a, int b, String c) {\n",
    "        this.a = a;\n",
    "        this.b = b;\n",
    "        this.c = c;\n",
    "    }\n",
    "\n",
    "    public int getA() {\n",
    "        return a;\n",
    "    }\n",
    "\n",
    "    public void setA(int a) {\n",
    "        this.a = a;\n",
    "    }\n",
    "\n",
    "    public int getB() {\n",
    "        return b;\n",
    "    }\n",
    "\n",
    "    public void setB(int b) {\n",
    "        this.b = b;\n",
    "    }\n",
    "\n",
    "    public String getC() {\n",
    "        return c;\n",
    "    }\n",
    "\n",
    "    public void setC(String c) {\n",
    "        this.c = c;\n",
    "    }\n",
    "}"
   ]
  },
  {
   "cell_type": "markdown",
   "id": "362b1a24-35b6-4761-a59d-ffccf27ab681",
   "metadata": {},
   "source": [
    "Aby być w stanie intancję takiej klasy przekazać do innej aktywności, musi ona implementować interfejs `Parcelable` (lub `Serializable` - więcej o różnicach poniżej)."
   ]
  },
  {
   "cell_type": "code",
   "execution_count": null,
   "id": "33c36bd7-34b3-4b81-ba1f-af7798e4b858",
   "metadata": {},
   "outputs": [],
   "source": [
    "public class Properties implements Parcelable {\n",
    "    private int a;\n",
    "    private int b;\n",
    "    private String c;\n",
    "\n",
    "    public Properties(int a, int b, String c) {\n",
    "        this.a = a;\n",
    "        this.b = b;\n",
    "        this.c = c;\n",
    "    }\n",
    "\n",
    "    protected Properties(Parcel in) {\n",
    "        a = in.readInt();\n",
    "        b = in.readInt();\n",
    "        c = in.readString();\n",
    "    }\n",
    "\n",
    "    public static final Creator<Properties> CREATOR = new Creator<Properties>() {\n",
    "        @Override\n",
    "        public Properties createFromParcel(Parcel in) {\n",
    "            return new Properties(in);\n",
    "        }\n",
    "\n",
    "        @Override\n",
    "        public Properties[] newArray(int size) {\n",
    "            return new Properties[size];\n",
    "        }\n",
    "    };\n",
    "\n",
    "    public int getA() {\n",
    "        return a;\n",
    "    }\n",
    "\n",
    "    public void setA(int a) {\n",
    "        this.a = a;\n",
    "    }\n",
    "\n",
    "    public int getB() {\n",
    "        return b;\n",
    "    }\n",
    "\n",
    "    public void setB(int b) {\n",
    "        this.b = b;\n",
    "    }\n",
    "\n",
    "    public String getC() {\n",
    "        return c;\n",
    "    }\n",
    "\n",
    "    public void setC(String c) {\n",
    "        this.c = c;\n",
    "    }\n",
    "\n",
    "    @Override\n",
    "    public int describeContents() {\n",
    "        return hashCode();\n",
    "    }\n",
    "\n",
    "    @Override\n",
    "    public void writeToParcel(Parcel parcel, int i) {\n",
    "        parcel.writeInt(a);\n",
    "        parcel.writeInt(b);\n",
    "        parcel.writeString(c);\n",
    "    }\n",
    "}"
   ]
  },
  {
   "cell_type": "markdown",
   "id": "de7969d4-6aff-4cdb-bfae-30ebc637afa2",
   "metadata": {},
   "source": [
    "Jakc widzimy musimy zaimplementować dwie metody, konstruktor oraz **companion object** `Creator`. Ponieważ obiekt towarzyszący jest sam w sobie jest obiektem więc nie ma żadnych ograniczeń - może rozszerzać klasy i implementować interfejsy. Jeżeli chcemy przekazać instancję klasy przez mechanizm `Intent` lub zachować w obiekcie `Bundle` w pierwszym kroku niejawnie zostanie wywołana metoda `writeToParcel`. Metoda ta opakowuje wszystkie właściwości klasy do obiektu `Parcel` wywołując metodę `writeToParcel` z odpowiednim typem. Przy odtwarzaniu instancji klasy `Properties` w pierwszym kroku wywoływana jest metoda `createFromParcel` znajdująca się w obiekcie towarzyszącym `Creator`. Metoda ta wywołuje drugorzędny konstruktor przyjmujący jako argument `Parcel`. Istotnym elementem tej implementacji jest konieczność zachowania kolejności przy przekazywaniu właściwości do i z `Parcel`. Przyjrzyjmy się konstruktorowi drugorzędnemu i metodzie `writeToParcel`.\n",
    "\n",
    "Innymi słowy metoda `writeToParcel()` zapisuje pola obiektu do obiektu Parcel, a metoda `createFromParcel()` odczytuje te pola z `Parcel`. Następnie, w `Companion object`, definiujemy obiekt `CREATOR` typu `Parcelable.Creator<Properties>`, który jest odpowiedzialny za tworzenie instancji `Properies` z `Parcel`."
   ]
  },
  {
   "cell_type": "code",
   "execution_count": null,
   "id": "b2579b57-226e-4be2-86cc-4c173a912083",
   "metadata": {},
   "outputs": [],
   "source": [
    "protected Properties(Parcel in) {\n",
    "    a = in.readInt();\n",
    "    b = in.readInt();\n",
    "    c = in.readString();\n",
    "}\n",
    "\n",
    "@Override\n",
    "public void writeToParcel(Parcel parcel, int i) {\n",
    "    parcel.writeInt(a);\n",
    "    parcel.writeInt(b);\n",
    "    parcel.writeString(c);\n",
    "}"
   ]
  },
  {
   "cell_type": "markdown",
   "id": "e124767d-6109-4cb1-9e4a-94d36f5cced8",
   "metadata": {},
   "source": [
    "Pola `a`, `b` i `c` są zapisywane do `Parcel` i odczytywane w konstruktorze dokładnie w tej samej kolejności - jest to niezbędne do poprawnego działania - zweróćmy uwagę że nie posługujemy się tutaj żadnym kluczem, czy jakimś unikalnym identyfikartorem."
   ]
  },
  {
   "cell_type": "markdown",
   "id": "fd8b7da4-1529-4f33-9745-bea4ba826904",
   "metadata": {},
   "source": [
    "Ostatnią metodą jest `describeContent` - w interfejsie zdefiniowana jest stała `CONTENT_FILE_DESCRIPTION` która powinna zostać użyta w tej metodzie do zwrócenia maski bitowej - tutaj zwrócimy wynik wwywołania metody `hashCode`."
   ]
  },
  {
   "cell_type": "code",
   "execution_count": null,
   "id": "a4e00318-614b-4e1b-9439-55f2794f847e",
   "metadata": {},
   "outputs": [],
   "source": [
    "@Override\n",
    "public int describeContents() {\n",
    "    return hashCode();\n",
    "}"
   ]
  },
  {
   "cell_type": "markdown",
   "id": "d9235dcc-a3ad-4365-90b0-7144a234df35",
   "metadata": {},
   "source": [
    "Przejdźmy do implementacji metody `onClick` przycisku na głównej aktyności. Tym razem zrobimy to nieco inaczej, przechodzimy do pliku `MainActivity.java`. Do metody `onCreate` dodajemy"
   ]
  },
  {
   "cell_type": "code",
   "execution_count": null,
   "id": "049092b5-ee57-4d2b-b99e-2d16fff89cd1",
   "metadata": {},
   "outputs": [],
   "source": [
    "Button button = findViewById(R.id.sendButton);\n",
    "button.setOnClickListener(new View.OnClickListener() {\n",
    "    @Override\n",
    "    public void onClick(View view) {\n",
    "\n",
    "    }\n",
    "});"
   ]
  },
  {
   "cell_type": "markdown",
   "id": "2897fbac-edd4-44d2-8e23-d99770dd63a0",
   "metadata": {},
   "source": [
    "Ustawiamy `onClickListener` przycisku i jako argument tworzymy **klasę anonimową** o typie  interfejsu `OnClickListener` znajdującego się w klasie `View`. Klasa `View` jest główną klasą wszystkich elementów interfejsu użytkownika - jest rozszerzana przez wszystkie klasy. Częściej spotykaną jest implementacja za pomocą wyrażenia **lambda**"
   ]
  },
  {
   "cell_type": "code",
   "execution_count": null,
   "id": "796eac10-3fb9-4195-8ae3-f6d52b92d2ba",
   "metadata": {},
   "outputs": [],
   "source": [
    "binding.sendButton.setOnClickListener(view -> {\n",
    "\n",
    "});"
   ]
  },
  {
   "cell_type": "markdown",
   "id": "8d4a2507-ef48-4dbc-bfe9-28b6a9edd74a",
   "metadata": {},
   "source": [
    "Dodajmy implementację `onClick`"
   ]
  },
  {
   "cell_type": "code",
   "execution_count": null,
   "id": "31bf12f4-f87d-4d9b-8e0d-397deb16b92c",
   "metadata": {},
   "outputs": [],
   "source": [
    "properties = new Properties(1, 2, \"String\");\n",
    "serializableProperties = new SerializableProperties(11, 12, \"Serializable\");\n",
    "\n",
    "binding.sendButton.setOnClickListener(view -> {\n",
    "    Intent intent = new Intent(this, SecondActivity.class);\n",
    "    intent.putExtra(EXTRA_KEY, properties);\n",
    "    startActivity(intent);\n",
    "});"
   ]
  },
  {
   "cell_type": "markdown",
   "id": "6be3e059-0a98-451d-8756-6ce7fb018523",
   "metadata": {},
   "source": [
    "Tworzymy klucz dla `Intent`, następnie tworzymy instancję `Properties` oraz sam `Intent`. Wskazujemy kontekst jako `this` oraz cel którym jest `SecoondActivity.class`. Następnie dodajemy za pomocą metody `putExtra` nasz obiekt `prop` i wywołujemy `startActivity` w celu włączenia drugiej aktywności."
   ]
  },
  {
   "cell_type": "markdown",
   "id": "c0a1abe9-2cd8-422b-bce2-29301ae67883",
   "metadata": {},
   "source": [
    "W następnym kroku odbierzemy dane w `SecondActivity` i rozpakujemy obiekt `Properties`. Przejdźmy do pliku `SecondActivity.java`"
   ]
  },
  {
   "cell_type": "code",
   "execution_count": null,
   "id": "38577956-824f-4976-9e10-0743ec3f9a34",
   "metadata": {},
   "outputs": [],
   "source": [
    "package com.example.a42_parcelableserializablebasics_java;\n",
    "\n",
    "import androidx.appcompat.app.AppCompatActivity;\n",
    "\n",
    "import android.content.Intent;\n",
    "import android.os.Build;\n",
    "import android.os.Bundle;\n",
    "\n",
    "import com.example.a42_parcelableserializablebasics_java.databinding.ActivitySecondBinding;\n",
    "\n",
    "public class SecondActivity extends AppCompatActivity {\n",
    "\n",
    "    private ActivitySecondBinding binding;\n",
    "\n",
    "    @Override\n",
    "    protected void onCreate(Bundle savedInstanceState) {\n",
    "        super.onCreate(savedInstanceState);\n",
    "        binding = ActivitySecondBinding.inflate(getLayoutInflater());\n",
    "        setContentView(binding.getRoot());\n",
    "\n",
    "        Intent intent = getIntent();\n",
    "        Properties properties;\n",
    "        if (android.os.Build.VERSION.SDK_INT >= Build.VERSION_CODES.TIRAMISU) {\n",
    "            properties = getIntent().getParcelableExtra(MainActivity.EXTRA_KEY, Properties.class);\n",
    "        } else {\n",
    "            properties = getIntent().getParcelableExtra(MainActivity.EXTRA_KEY);\n",
    "        }\n",
    "\n",
    "        String result = \"\";\n",
    "\n",
    "        if(properties != null)\n",
    "            result = properties.getA() + properties.getB() + \" \" + properties.getC();\n",
    "\n",
    "        binding.textView.setText(result);\n",
    "    }\n",
    "}"
   ]
  },
  {
   "cell_type": "markdown",
   "id": "29d4c472-5c6c-4451-9f93-bb6fa56a7512",
   "metadata": {},
   "source": [
    "Tworzymy `Intent` i wywoołujemy metodę `getIntent`, następnie tworzymy obiekt typu `Properties` - tutaj niejawnie zoostanie wywołany konstruktor z argumentem typu `Parcel`. Wyciągamy obiekt za pomocą metody `getParcelableExtra` jako argument podając klucz. Do odpowiednich pól możemy dostać się poprzez odpowiednie **gettery**. Możemy przetestować aplikację."
   ]
  },
  {
   "cell_type": "markdown",
   "id": "8ae095f4-797a-4c89-b80d-59bf967ca575",
   "metadata": {},
   "source": [
    "## **Interfejs `Serializable`**"
   ]
  },
  {
   "cell_type": "markdown",
   "id": "1b1c7365-686d-4e78-bf05-ec6f82015a30",
   "metadata": {},
   "source": [
    "Dodajmy do projektu kolejną klasę `SerializableProperties`, która implementuje interfejs `Serializable` i powtórzmy wszystkie czynności."
   ]
  },
  {
   "cell_type": "code",
   "execution_count": null,
   "id": "d4a2d8e7-82da-4cb8-88ad-406c227b3e2b",
   "metadata": {},
   "outputs": [],
   "source": [
    "package pl.edu.uwr.pum.parcelableexamplejava;\n",
    "\n",
    "import java.io.Serializable;\n",
    "\n",
    "public class SerializableProperties implements Serializable {\n",
    "        private int a;\n",
    "        private int b;\n",
    "        private String c;\n",
    "\n",
    "        public SerializableProperties(int a, int b, String c) {\n",
    "            this.a = a;\n",
    "            this.b = b;\n",
    "            this.c = c;\n",
    "        }\n",
    "\n",
    "        public int getA() {\n",
    "            return a;\n",
    "        }\n",
    "\n",
    "        public void setA(int a) {\n",
    "            this.a = a;\n",
    "        }\n",
    "\n",
    "        public int getB() {\n",
    "            return b;\n",
    "        }\n",
    "\n",
    "        public void setB(int b) {\n",
    "            this.b = b;\n",
    "        }\n",
    "\n",
    "        public String getC() {\n",
    "            return c;\n",
    "        }\n",
    "\n",
    "        public void setC(String c) {\n",
    "            this.c = c;\n",
    "        }\n",
    "}"
   ]
  },
  {
   "cell_type": "markdown",
   "id": "2fa80a97-a17b-4958-bf29-1840b33ded9c",
   "metadata": {},
   "source": [
    "Interfejs `Serializable` jest **interfejsem znacznikowym** więc nie jest koonieczne implementowanie żadnych metod"
   ]
  },
  {
   "cell_type": "markdown",
   "id": "eaf48dab-5836-40ae-a54d-9ea13e682b12",
   "metadata": {},
   "source": [
    "W klasie `MainActivity.java` dodajmy jeszcze jedno pole"
   ]
  },
  {
   "cell_type": "code",
   "execution_count": null,
   "id": "c6a631d9-9687-4f17-960d-b52ea64742e3",
   "metadata": {},
   "outputs": [],
   "source": [
    "public static String EXTRA_SERIALIZABLE = \"serializable_example\";"
   ]
  },
  {
   "cell_type": "markdown",
   "id": "9634e1f6-7f51-46ba-87eb-22a99bbd27ba",
   "metadata": {},
   "source": [
    "Następnie utworzymy instancję klasy `SerializableProperties`"
   ]
  },
  {
   "cell_type": "code",
   "execution_count": null,
   "id": "301910ab-3c97-430f-a2d4-919569c90858",
   "metadata": {},
   "outputs": [],
   "source": [
    "serProp = new SerializableProperties(11, 12, \"Serializable\");"
   ]
  },
  {
   "cell_type": "markdown",
   "id": "59aadc64-fd44-4fd1-8cae-0fbd3c6d756e",
   "metadata": {},
   "source": [
    "i dodamy ją do wcześniej utworzonego `Intent`"
   ]
  },
  {
   "cell_type": "code",
   "execution_count": null,
   "id": "b439564d-4a34-4a64-99c5-cbc1e1f882d1",
   "metadata": {},
   "outputs": [],
   "source": [
    "binding.sendButton.setOnClickListener(view -> {\n",
    "    Intent intent = new Intent(this, SecondActivity.class);\n",
    "    intent.putExtra(EXTRA_KEY, properties);\n",
    "    intent.putExtra(EXTRA_SERIALIZABLE, serializableProperties);\n",
    "    startActivity(intent);\n",
    "});"
   ]
  },
  {
   "cell_type": "markdown",
   "id": "7b14d9ad-7cd2-4015-a209-736d0460ddda",
   "metadata": {},
   "source": [
    "Przejdźmy do `SecondActivity`, rozpakujmy nasz drugi obiekt i dodajmy jego pola do `TextView`."
   ]
  },
  {
   "cell_type": "code",
   "execution_count": null,
   "id": "37af2a50-965a-4b46-ba16-fde1bab86a7e",
   "metadata": {},
   "outputs": [],
   "source": [
    "package com.example.a42_parcelableserializablebasics_java;\n",
    "\n",
    "import androidx.appcompat.app.AppCompatActivity;\n",
    "\n",
    "import android.content.Intent;\n",
    "import android.os.Build;\n",
    "import android.os.Bundle;\n",
    "\n",
    "import com.example.a42_parcelableserializablebasics_java.databinding.ActivitySecondBinding;\n",
    "\n",
    "public class SecondActivity extends AppCompatActivity {\n",
    "\n",
    "    private ActivitySecondBinding binding;\n",
    "\n",
    "    @Override\n",
    "    protected void onCreate(Bundle savedInstanceState) {\n",
    "        super.onCreate(savedInstanceState);\n",
    "        binding = ActivitySecondBinding.inflate(getLayoutInflater());\n",
    "        setContentView(binding.getRoot());\n",
    "\n",
    "        Intent intent = getIntent();\n",
    "        Properties properties;\n",
    "        if (android.os.Build.VERSION.SDK_INT >= Build.VERSION_CODES.TIRAMISU) {\n",
    "            properties = getIntent().getParcelableExtra(MainActivity.EXTRA_KEY, Properties.class);\n",
    "        } else {\n",
    "            properties = getIntent().getParcelableExtra(MainActivity.EXTRA_KEY);\n",
    "        }\n",
    "\n",
    "        SerializableProperties serializableProperties;\n",
    "        if (android.os.Build.VERSION.SDK_INT >= Build.VERSION_CODES.TIRAMISU) {\n",
    "            serializableProperties = getIntent().getSerializableExtra(\n",
    "                MainActivity.EXTRA_SERIALIZABLE, \n",
    "                SerializableProperties.class);\n",
    "        } else {\n",
    "            serializableProperties = (SerializableProperties) getIntent()\n",
    "                .getSerializableExtra(MainActivity.EXTRA_SERIALIZABLE);\n",
    "        }\n",
    "\n",
    "        String result = \"\";\n",
    "\n",
    "        if(properties != null && serializableProperties != null)\n",
    "            result = properties.getA() + \n",
    "                     properties.getB() + \" \" + \n",
    "                     properties.getC() + \"---\" + \n",
    "                     serializableProperties.getA() + \"\\n\" +\n",
    "                     serializableProperties.getB() + \" \" + \n",
    "                     serializableProperties.getC();\n",
    "\n",
    "        binding.textView.setText(result);\n",
    "    }\n",
    "}"
   ]
  },
  {
   "cell_type": "markdown",
   "id": "362c7731-fd12-459d-8140-1c8341f005a0",
   "metadata": {},
   "source": [
    "Zwróćmy uwagę że przy wywołaniu metody `getSerializableExtra` dostajjjemy obiekt o typie interfejsu `Serializable` i potrszebujemy obiekt typu `SerializableProperties`. Ponieważ nasza klasa implementuje ten interfejs, możemy bezpiecznie rzutować na `SerializableProperties`."
   ]
  },
  {
   "cell_type": "markdown",
   "id": "bb9f4cf3-c4ed-413d-a237-71cfa67f6070",
   "metadata": {},
   "source": [
    "Po uruchomieniu aplikacji powinniśmy dostać podobny wynik jak poprzednio. Widzimy że właściwie mogę zrobić dokładnie to samo przy pomocy dwóch interfejsów - `Parcelable` i `Serializable`; więc czym się różnią?\n",
    "- `Parcelable` jest szybszy od `Serializable`\n",
    "- `Serializable` jest interfejsem znacznikowym, więc implementacja jest szybsza\n",
    "- `Serializable` tworzy wiele tymczasowych obiektów - jest niewydajny\n",
    "- możemy przekazać całą tablicę obiektów za pomocą `Parcelable`\n",
    "- w kotlinie mamy do dyspozycji adnotację `@Parcelize` dzięki której dostajemy domyślną implementację wszystkich metod interfejsu `Parcelable`"
   ]
  }
 ],
 "metadata": {
  "kernelspec": {
   "display_name": "Kotlin",
   "language": "kotlin",
   "name": "kotlin"
  },
  "language_info": {
   "codemirror_mode": "text/x-kotlin",
   "file_extension": ".kt",
   "mimetype": "text/x-kotlin",
   "name": "kotlin",
   "nbconvert_exporter": "",
   "pygments_lexer": "kotlin",
   "version": "1.8.0-RC"
  }
 },
 "nbformat": 4,
 "nbformat_minor": 5
}
