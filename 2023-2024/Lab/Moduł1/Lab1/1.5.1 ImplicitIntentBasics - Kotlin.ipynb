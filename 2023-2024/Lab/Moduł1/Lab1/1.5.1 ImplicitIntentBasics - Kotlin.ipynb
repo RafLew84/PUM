{
 "cells": [
  {
   "cell_type": "markdown",
   "id": "027732ec-a9ec-41c8-9340-b6f8f99dd9bb",
   "metadata": {},
   "source": [
    "# Implicit Intent"
   ]
  },
  {
   "cell_type": "markdown",
   "id": "769dcada-60a6-4eca-b6ec-2e67825faa51",
   "metadata": {},
   "source": [
    "W tej aplikacji wykorzystamy mechanizm intentów domniemanych - wyślemy żądanie obłużenia adresu **url** strony domowej naszego wydziału. "
   ]
  },
  {
   "cell_type": "markdown",
   "id": "fb3a1236-7979-4a4d-9a33-028c4d9d297e",
   "metadata": {},
   "source": [
    "`Intent` domniemany w Androidzie to rodzaj intencji, której celem jest uruchomienie akcji systemowej lub uruchomienie aktywności innej aplikacji bez potrzeby znania nazwy aktywności docelowej. Innymi słowy, ten `Intent` jest używany, gdy chcemy uruchomić aktywność lub usługę, ale nie mamy żadnych informacji na temat nazwy aktywności lub usługi.\n",
    "\n",
    "W przypadku domniemanych intentów, używamy pewnych filtrów lub kategorii, aby wskazać systemowi, czego dokładnie oczekujemy, a system podejmie decyzję o tym, która aktywność lub usługa spełnia nasze wymagania i uruchomi ją.\n",
    "\n",
    "Na przykład, jeśli chcemy otworzyć stronę internetową, możemy użyć `Intent` z akcją `ACTION_VIEW` i `URI` zawierającym adres `URL` strony internetowej. System automatycznie wybierze domyślną przeglądarkę lub aplikację, która obsługuje przeglądanie stron internetowych i uruchomi ją, aby otworzyć wskazaną stronę.\n",
    "\n",
    "`Intent` domniemany jest bardzo przydatny, gdy chcemy wykorzystać funkcjonalność innej aplikacji lub systemu bez konieczności ingerowania w kod źródłowy innej aplikacji."
   ]
  },
  {
   "cell_type": "markdown",
   "id": "da2ccb62-9e78-4aa1-92e8-349b2f30dba7",
   "metadata": {},
   "source": [
    "`URI` (*Uniform Resource Identifier*) to ciąg znaków służący do identyfikacji zasobów w Internecie. `URI` składa się z kilku części, które opisują protokół, adres hosta, ścieżkę do zasobu oraz opcjonalne parametry.\n",
    "\n",
    "Na przykład, adres `URL` (*Uniform Resource Locator*), który służy do identyfikacji strony internetowej, jest rodzajem `URI`. Adres URL składa się z protokołu (np. `http` lub `https`), nazwy hosta (np. `www.example.com`) oraz ścieżki do zasobu (np. `/index.html`). Inne przykłady `URI` to adresy e-mail, numery telefonów czy identyfikatory plików na dysku twardym."
   ]
  },
  {
   "cell_type": "markdown",
   "id": "0494908c-d25c-473c-84e3-813cf1da9826",
   "metadata": {},
   "source": [
    "<img src=\"https://media0.giphy.com/media/8MIbW6rGduh30kpd5t/giphy.gif?cid=790b76117783e46f89fd7782861a51f1327132c4cb6e8559&rid=giphy.gif&ct=g\" width=\"150\" />"
   ]
  },
  {
   "cell_type": "markdown",
   "id": "db6359dc-55d1-4107-8974-8a3eaddb014a",
   "metadata": {},
   "source": [
    "W pierwszej kolejności przygotowujemy layout."
   ]
  },
  {
   "cell_type": "code",
   "execution_count": null,
   "id": "c623c85d-ad38-4160-a6e7-d92a8e5f304b",
   "metadata": {},
   "outputs": [],
   "source": [
    "<?xml version=\"1.0\" encoding=\"utf-8\"?>\n",
    "<androidx.constraintlayout.widget.ConstraintLayout xmlns:android=\"http://schemas.android.com/apk/res/android\"\n",
    "    xmlns:app=\"http://schemas.android.com/apk/res-auto\"\n",
    "    xmlns:tools=\"http://schemas.android.com/tools\"\n",
    "    android:layout_width=\"match_parent\"\n",
    "    android:layout_height=\"match_parent\"\n",
    "    tools:context=\".MainActivity\">\n",
    "\n",
    "    <Button\n",
    "        android:id=\"@+id/homeButton\"\n",
    "        android:layout_width=\"wrap_content\"\n",
    "        android:layout_height=\"wrap_content\"\n",
    "        android:text=\"Open Homepage\"\n",
    "        app:layout_constraintBottom_toBottomOf=\"parent\"\n",
    "        app:layout_constraintLeft_toLeftOf=\"parent\"\n",
    "        app:layout_constraintRight_toRightOf=\"parent\"\n",
    "        app:layout_constraintTop_toTopOf=\"parent\" />\n",
    "\n",
    "</androidx.constraintlayout.widget.ConstraintLayout>"
   ]
  },
  {
   "cell_type": "markdown",
   "id": "1644b8f0-3975-4816-aa79-9e2d1a065a3c",
   "metadata": {},
   "source": [
    "Dodajmy obsługę przycisku"
   ]
  },
  {
   "cell_type": "code",
   "execution_count": null,
   "id": "c7973317-ceaf-4afb-aa8c-ab61d85377c3",
   "metadata": {},
   "outputs": [],
   "source": [
    "    override fun onCreate(savedInstanceState: Bundle?) {\n",
    "        super.onCreate(savedInstanceState)\n",
    "        setContentView(R.layout.activity_main)\n",
    "\n",
    "        binding.homeButton.setOnClickListener{}\n",
    "    }"
   ]
  },
  {
   "cell_type": "markdown",
   "id": "20ed9001-77f2-4e12-8f5d-acae206d0b04",
   "metadata": {},
   "source": [
    "Zdefiniujmy `String` przechowujący adres url"
   ]
  },
  {
   "cell_type": "code",
   "execution_count": null,
   "id": "8274a80f-68bc-4e65-aa1b-6fbcbc1b98bb",
   "metadata": {},
   "outputs": [],
   "source": [
    "val url = \"http://wfia.uni.wroc.pl/\""
   ]
  },
  {
   "cell_type": "markdown",
   "id": "177e7138-0426-4145-a90c-dab99d8aa1a8",
   "metadata": {},
   "source": [
    "W kolejnym kroku tworzę `Intent`, który przyjmuje dwa argumenty. Pierwszym jest rodzaj akcji który chcemy wykonać, drugim dane które przekażemy do wyselekcjonowanej aktywności. Dane przekazujemy jako obiekt `Uri` (łańcuch znaków zapisany zgodnie z określoną składnią), do którego przekazujemy adres."
   ]
  },
  {
   "cell_type": "code",
   "execution_count": null,
   "id": "b173018d-9a54-465f-a053-0e31e3cbee78",
   "metadata": {},
   "outputs": [],
   "source": [
    "val intent = Intent(Intent.ACTION_VIEW, Uri.parse(url)).apply{\n",
    "    addCategory(CATEGORY_BROWSABLE)\n",
    "}"
   ]
  },
  {
   "cell_type": "markdown",
   "id": "44d1f529-b15f-41b7-93c3-6963b59e512a",
   "metadata": {},
   "source": [
    "Do `Intent` dodajemy odpowiednią kategorię - naszą kategorią jest `BROWSABLE`\n",
    "\n",
    "Kolejnym elementem jest sprawdzenie czy aktywność pozwalająca obsłużyć żądaną akcję istnieje na urządzeniu"
   ]
  },
  {
   "cell_type": "code",
   "execution_count": null,
   "id": "7539255a-97d9-4eba-b411-f97ff6d05e20",
   "metadata": {},
   "outputs": [],
   "source": [
    "if (intent.resolveActivity(packageManager) != null)"
   ]
  },
  {
   "cell_type": "markdown",
   "id": "2325e7e3-bd79-4498-9e36-77901b31cf20",
   "metadata": {},
   "source": [
    "Metoda `resolveActiviy` zwraca `null` gdy taka aktywność nie istnieje. Listę wszystkich aktywności przechowuje `PackageManager` do instancji którego możemy się dostać wywołując `packageManager`.\n",
    "\n",
    "Od **Android 11 (API 30)** w tym miejscu dostaniemy *warning* mówiący o użyciu tagów `<queries>`. Jest to związane z wprowadzonym od API 30 filtrowaniem widoczności pakietów - aby ograniczyć widoczność wszystkich pakietów (aplikacji zainstalowanych na urządzeniu). Niektóre aplikacje są widoczne automatycznie, aby dostać się do innych należy w naszej aplikacji określić jawnie jakie informacje są potrzebne.\n",
    "\n",
    "`<queries>` to sekcja w pliku AndroidManifest.xml, która pozwala na określenie zestawu zapytań (*queries*), które aplikacja obsługuje. W przypadku, gdy w innej aplikacji zostanie wywołany `Intent`, który pasuje do jednego z zapytań określonych w sekcji `<queries>`, system Android wyświetli naszą aplikację w liście aplikacji, które mogą obsłużyć ten `Intent`.\n",
    "\n",
    "Możliwość określenia zestawu zapytań, które aplikacja obsługuje, pozwala na zmniejszenie liczby fałszywych trafień.\n",
    "\n",
    "Na przykład, aplikacja obsługująca przeglądanie stron internetowych może zadeklarować zapytanie, które będzie odpowiadało za obsługę adresów `URL`, a aplikacja obsługująca odtwarzanie muzyki może zadeklarować zapytanie, które będzie odpowiadało za obsługę plików muzycznych.\n",
    "\n",
    "Możemy to zrobić w `AndroidManifest.xml`"
   ]
  },
  {
   "cell_type": "code",
   "execution_count": null,
   "id": "b1648a78-4861-415e-a52d-4852bee175ed",
   "metadata": {},
   "outputs": [],
   "source": [
    "<?xml version=\"1.0\" encoding=\"utf-8\"?>\n",
    "<manifest xmlns:android=\"http://schemas.android.com/apk/res/android\"\n",
    "    package=\"pl.edu.uwr.pum.implicitintentjava\">\n",
    "\n",
    "    <queries>\n",
    "        <intent>\n",
    "            <action android:name=\"android.intent.action.VIEW\" />\n",
    "            <category android:name=\"android.intent.category.BROWSABLE\" />\n",
    "            <data android:scheme=\"https\" />\n",
    "        </intent>\n",
    "    </queries>\n",
    "    ..."
   ]
  },
  {
   "cell_type": "markdown",
   "id": "9da906ed-2079-4b2a-a48b-a4e148c15a10",
   "metadata": {},
   "source": [
    "Tutaj musimy sprecyzować kilka rzeczy\n",
    "- `<intent>` - definiuje Intent, który aplikacja jest w stanie obsłużyć\n",
    "- `<action>` - określa akcję Intentu, która musi być zgodna z wywołaniem z zewnątrz. W tym przypadku akcja to `VIEW`, co oznacza, że aplikacja jest w stanie obsłużyć Intenty do wyświetlania widoków.\n",
    "- `<category>` - określa kategorię Intentu, która również musi być zgodna z wywołaniem z zewnątrz. W tym przypadku kategoria to `BROWSABLE`, co oznacza, że aplikacja jest w stanie obsłużyć Intenty do wyświetlania zawartości internetowej.\n",
    "- `<data>` - określa dane, na których Intent jest wywoływany. W tym przypadku określono, że aplikacja jest w stanie obsłużyć Intenty dla protokołu `HTTPS`.\n",
    "\n",
    "Zwróćmy uwagę również na `<intent-filter>`. `<intent-filter>` jest używany do rejestrowania komponentów aplikacji (takich jak aktywności, odbiorniki itp.), które są w stanie obsłużyć określone Intenty. Element ten zawiera zestaw atrybutów, które precyzują rodzaj Intenta, jaki może zostać obsłużony przez aplikację. Aplikacja może mieć wiele `<intent-filter>` dla jednego komponentu, co umożliwia rejestrowanie różnych działań, jakie aplikacja jest w stanie obsłużyć.\n",
    "\n",
    "`<queries>` natomiast służy do określenia, jakie typy Intents mogą być kierowane do aplikacji z zewnątrz. Można to zastosować, gdy chcemy mieć większą kontrolę nad tym, jakie Intenty mogą być kierowane do naszej aplikacji, a jednocześnie chcemy uniknąć bezpieczeństwa lub wydajności w przypadku zbyt dużej liczby Intents, które aplikacja może obsługiwać.\n",
    "\n",
    "Podsumowując, `<intent-filter>` jest używany do rejestrowania działań, jakie aplikacja jest w stanie obsłużyć, a `<queries>` służy do określenia działań, jakie aplikacja jest zainteresowana obsługiwaniem z zewnątrz."
   ]
  },
  {
   "cell_type": "code",
   "execution_count": null,
   "id": "f1febdd2-e15e-4d90-9392-45a18ebe9a13",
   "metadata": {},
   "outputs": [],
   "source": [
    "<intent-filter>\n",
    "    <action android:name=\"android.intent.action.MAIN\" />\n",
    "\n",
    "    <category android:name=\"android.intent.category.LAUNCHER\" />\n",
    "</intent-filter>"
   ]
  },
  {
   "cell_type": "markdown",
   "id": "baccb2eb-728e-4045-b29c-f67aa4c8ba8b",
   "metadata": {},
   "source": [
    "To właśnie tutaj możemy określić kategorię i akcje jakie nasza aplikacja może obsłużyć - ta informacja trafia do `PackageManagera`. Jeżeli inna aplikacja zażąda wykonania akcji, którą nasza aplikacja jest w stanie obsłużyć - zostanie ona otwarta gdy jest jedyną aplikacją przypisaną do tej konkretnej akcji, lub zostanie pokazana w selektorze aplikacji wraz ze wszystkimi innymi mogącymi obsłużyć tą akcję."
   ]
  },
  {
   "cell_type": "markdown",
   "id": "488a2333-af48-47de-acb6-f22497a1b44a",
   "metadata": {},
   "source": [
    "Pozostaje już tylko włączyć aktywność wywołując metodą `startActivity`.\n",
    "\n",
    "Pełny kod metody `onCreate`"
   ]
  },
  {
   "cell_type": "code",
   "execution_count": null,
   "id": "81b1e0d3-52bb-42a5-b48e-f33486ba766d",
   "metadata": {},
   "outputs": [],
   "source": [
    "    override fun onCreate(savedInstanceState: Bundle?) {\n",
    "        super.onCreate(savedInstanceState)\n",
    "        setContentView(R.layout.activity_main)\n",
    "\n",
    "        findViewById<Button>(R.id.homeButton).setOnClickListener{\n",
    "            val url = \"http://wfia.uni.wroc.pl/\"\n",
    "            val intent = Intent(Intent.ACTION_VIEW, Uri.parse(url)).apply{\n",
    "                addCategory(CATEGORY_BROWSABLE)\n",
    "            }\n",
    "\n",
    "            if (intent.resolveActivity(packageManager) != null)\n",
    "                startActivity(intent)\n",
    "        }\n",
    "    }"
   ]
  },
  {
   "cell_type": "markdown",
   "id": "64649554-62b5-4345-9860-ee9f6077f6d1",
   "metadata": {},
   "source": [
    "Możemy przetestować aplikację - po naciśnięciu przycisku powinna włączyć się domyślna przeglądarka lub selektor aplikacji."
   ]
  }
 ],
 "metadata": {
  "kernelspec": {
   "display_name": "Kotlin",
   "language": "kotlin",
   "name": "kotlin"
  },
  "language_info": {
   "codemirror_mode": "text/x-kotlin",
   "file_extension": ".kt",
   "mimetype": "text/x-kotlin",
   "name": "kotlin",
   "nbconvert_exporter": "",
   "pygments_lexer": "kotlin",
   "version": "1.8.0-RC"
  }
 },
 "nbformat": 4,
 "nbformat_minor": 5
}
