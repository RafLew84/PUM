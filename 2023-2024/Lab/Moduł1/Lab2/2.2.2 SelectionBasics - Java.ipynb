{
 "cells": [
  {
   "cell_type": "markdown",
   "id": "6a9fd4e2-53bb-46a3-b0ae-c5b6575af3d2",
   "metadata": {},
   "source": [
    "# 3.2 RecyclerView - Selection"
   ]
  },
  {
   "cell_type": "markdown",
   "id": "dd7f8d1f-7a4d-4f7d-b960-2d71d331ef0c",
   "metadata": {},
   "source": [
    "<img src=\"https://media1.giphy.com/media/7VOdnpyhosbBDIQPR0/giphy.gif?cid=790b76117ce18b657fd9003f6e29b87c453b5bfad7667dad&rid=giphy.gif&ct=g\" width=\"200\" />"
   ]
  },
  {
   "cell_type": "markdown",
   "id": "f974f8e8-23ed-4a97-b340-75469e2ff0a2",
   "metadata": {},
   "source": [
    "`selection` jest biblioteką dodatkową dla `RecyclerView`, która zapewnia wsparcie dla wyboru elementów. W tym przykładie zapoznamy się z jej podstawową funkcjonalnością."
   ]
  },
  {
   "cell_type": "markdown",
   "id": "df3845d6-c68a-43fd-9c1c-b56a48ce1a6c",
   "metadata": {},
   "source": [
    "## **Implementacja `RecyclerView`**\n",
    "\n",
    "Naszą aplikację rozpoczniemy od utworzenia layoutu `main_activity.xml`"
   ]
  },
  {
   "cell_type": "code",
   "execution_count": null,
   "id": "db005699-d5d4-46bd-bda3-079ea158204a",
   "metadata": {},
   "outputs": [],
   "source": [
    "<?xml version=\"1.0\" encoding=\"utf-8\"?>\n",
    "<LinearLayout xmlns:android=\"http://schemas.android.com/apk/res/android\"\n",
    "    xmlns:app=\"http://schemas.android.com/apk/res-auto\"\n",
    "    xmlns:tools=\"http://schemas.android.com/tools\"\n",
    "    android:layout_width=\"match_parent\"\n",
    "    android:layout_height=\"wrap_content\"\n",
    "    tools:context=\".MainActivity\">\n",
    "\n",
    "    <androidx.recyclerview.widget.RecyclerView\n",
    "        android:id=\"@+id/recyclerView\"\n",
    "        android:layout_width=\"match_parent\"\n",
    "        android:layout_height=\"wrap_content\" />\n",
    "\n",
    "</LinearLayout>"
   ]
  },
  {
   "cell_type": "markdown",
   "id": "01000b31-0600-4643-9e50-6074270cf620",
   "metadata": {},
   "source": [
    "Następnie dodajmy plik `rv_item.xml`, który będzie zawierał zdefiniowany layout pojedynczego elementu `RecyclerView`"
   ]
  },
  {
   "cell_type": "code",
   "execution_count": null,
   "id": "99fc9101-d176-43ef-b974-4ec510503edb",
   "metadata": {},
   "outputs": [],
   "source": [
    "<?xml version=\"1.0\" encoding=\"utf-8\"?>\n",
    "<LinearLayout xmlns:android=\"http://schemas.android.com/apk/res/android\"\n",
    "    android:layout_width=\"match_parent\"\n",
    "    android:orientation=\"horizontal\"\n",
    "    android:layout_height=\"wrap_content\">\n",
    "\n",
    "    <TextView\n",
    "        android:id=\"@+id/numberText\"\n",
    "        android:layout_width=\"match_parent\"\n",
    "        android:layout_height=\"wrap_content\"\n",
    "        android:text=\"default text\"\n",
    "        android:textSize=\"24sp\"\n",
    "        android:layout_gravity=\"center\"\n",
    "        android:textAlignment=\"center\"\n",
    "        android:layout_margin=\"16dp\"\n",
    "        android:background=\"@drawable/item_background\"\n",
    "        android:textStyle=\"bold\"/>\n",
    "\n",
    "</LinearLayout>"
   ]
  },
  {
   "cell_type": "markdown",
   "id": "e063df92-cb4a-4e57-a4b3-c8c14f55d5fb",
   "metadata": {},
   "source": [
    "Będziemy posiadali tylko jedno pole `TextView`, w który wyświetlimy liczbę. Przejdźmy do `MainActivitry` i dodajmy funkcję zwracającą listę elementów, które będziemy wyświetlać."
   ]
  },
  {
   "cell_type": "code",
   "execution_count": null,
   "id": "83345184-204d-49ec-b0bf-b97cf7fbb427",
   "metadata": {},
   "outputs": [],
   "source": [
    "    private LinkedList<Integer> createList(){\n",
    "        LinkedList<Integer> numbers = new LinkedList<>();\n",
    "        for(int i = 0; i < 50; i++)\n",
    "            numbers.add(i);\n",
    "        return  numbers;\n",
    "    }"
   ]
  },
  {
   "cell_type": "markdown",
   "id": "d01c85b2-7b30-4471-ab55-f0046a295ccc",
   "metadata": {},
   "source": [
    "Następnie zaimplementujmy klasę `NumberListAdapter`"
   ]
  },
  {
   "cell_type": "code",
   "execution_count": null,
   "id": "cc926c81-a4a6-4188-8152-b9a57e14a741",
   "metadata": {},
   "outputs": [],
   "source": [
    "public class NumberListAdapter extends \n",
    "    RecyclerView.Adapter<NumberListViewHolder>{\n",
    "\n",
    "    private final LinkedList<Integer> numberList;\n",
    "\n",
    "    public NumberListAdapter(LinkedList<Integer> numberList){\n",
    "        this.numberList = numberList;\n",
    "    }\n",
    "\n",
    "    @NonNull\n",
    "    @Override\n",
    "    public NumberListViewHolder onCreateViewHolder(@NonNull ViewGroup parent, int viewType) {\n",
    "        return new NumberListViewHolder(RvItemBinding.inflate(\n",
    "                LayoutInflater.from(parent.getContext()),\n",
    "                parent,\n",
    "                false\n",
    "        ));\n",
    "    }\n",
    "\n",
    "    @Override\n",
    "    public void onBindViewHolder(@NonNull NumberListViewHolder holder, int position) {\n",
    "        holder.bind(numberList.get(position));\n",
    "    }\n",
    "\n",
    "    @Override\n",
    "    public int getItemCount() {\n",
    "        return numberList.size();\n",
    "    }\n",
    "}"
   ]
  },
  {
   "cell_type": "code",
   "execution_count": null,
   "id": "97da7c4c-cf65-44ad-96f4-32c73c736599",
   "metadata": {},
   "outputs": [],
   "source": [
    "class NumberListViewHolder extends \n",
    "    RecyclerView.ViewHolder {\n",
    "\n",
    "    private final RvItemBinding binding;\n",
    "    public NumberListViewHolder(RvItemBinding binding) {\n",
    "        super(binding.getRoot());\n",
    "        this.binding = binding;\n",
    "    }\n",
    "\n",
    "    public void bind(int value){\n",
    "        binding.numberText.setText(String.valueOf(value));\n",
    "    }\n",
    "}"
   ]
  },
  {
   "cell_type": "markdown",
   "id": "988dcaf4-3a0a-425d-8dd7-6cf93adb52e6",
   "metadata": {},
   "source": [
    "Tym razem nasz `Adapter` nie przyjmuje `Context` w konstruktorze. Do instancji `Context`, w metodzie `onCreateViewHolder` odwołujemy się przez `parent.getContext()`. W klasie `ViewHolder` mamy funkcję `bind` łączącą dane z odpowiednimi polami layoutu, jest ona następnie wywołana w metodzie `onBindViewHolder`."
   ]
  },
  {
   "cell_type": "markdown",
   "id": "ca199ba2-7777-4b6d-8fd5-3e53e815995e",
   "metadata": {},
   "source": [
    "## **Implementacja `Selector`**\n",
    "\n",
    "W pierwszym kroku przejdźmy do pliku `build.gradle` i w bloku `dependencies` dodajmy wpis"
   ]
  },
  {
   "cell_type": "code",
   "execution_count": null,
   "id": "1bbdbc47-bd90-4e90-8481-daef65af1b1e",
   "metadata": {},
   "outputs": [],
   "source": [
    "implementation 'androidx.recyclerview:recyclerview-selection:1.1.0'"
   ]
  },
  {
   "cell_type": "markdown",
   "id": "6defd8cc-2d3e-4372-825a-11bc9ad2284b",
   "metadata": {},
   "source": [
    "Po zmodyfikowaniu skryptu `gradle` musimy wykonać synchronizację (**Sync Project with Gradle Files**). Chcemy uzyskać możliwość zaznaczania elementów i zmieniania ich właściwości. W pierwszym kroku musimy zdecydować się na typ klucza który będziemy wykorzystywać:\n",
    "- `String` - wykorzystywany gdy mamy identyfikator `String`\n",
    "- `Long` - wykorzystywamy gdy mamy identyfikator numeryczny\n",
    "- `Parcelable` - gdy wykorzystujemy jako klucz np. `Uri`\n",
    "W naszym przypadku wykorzystamy `Long` i właściwość `position` naszego `RecyclerView`.\n",
    "\n",
    "Przechodzimy do klasy `NumberListAdapter`, w pierwszym kroku musimy ustawić `hasStableIds` - zmiana na `true` oznacza że każdy element może być reprezentowany przez unikalny klucz. Do konstruktora dodajemy"
   ]
  },
  {
   "cell_type": "code",
   "execution_count": null,
   "id": "6f5be686-4917-442b-81ad-9137eb7acaa7",
   "metadata": {},
   "outputs": [],
   "source": [
    "    public NumberListAdapter(LinkedList<Integer> numberList){\n",
    "        this.numberList = numberList;\n",
    "        setHasStableIds(true);\n",
    "    }"
   ]
  },
  {
   "cell_type": "markdown",
   "id": "38c7d227-69e3-47a1-b8b2-01e66dd67654",
   "metadata": {},
   "source": [
    "Następnie chcemy wykorzystać właściwość `position` jako identyfikator, w tym celu nadpisujemy metodę `getItemId`"
   ]
  },
  {
   "cell_type": "code",
   "execution_count": null,
   "id": "7e6bd6b5-ff03-4cfd-b586-eaefd8ac49a7",
   "metadata": {},
   "outputs": [],
   "source": [
    "    @Override\n",
    "    public long getItemId(int position) {\n",
    "        return position;\n",
    "    }"
   ]
  },
  {
   "cell_type": "markdown",
   "id": "7b03f182-ae85-4eac-bba4-f843205808ab",
   "metadata": {},
   "source": [
    "Kolejnym krokiem jest implementacja klasy `KeyProvider`, tutaj skorzystamy z domyślnej implementacji `StableIdKeyProvider`. Następnie musimy dostarczyć implementację `ItemDetailsLookup` - klasa ta zawiera informacje o zaznaczonych przez użytkownika elementach. Dodajmy nowy plik do projektu - `NumberItemDetailsLookup.java`.\n",
    "\n",
    "Klasa `NumberItemDetailsLookup` musi rozszerzać klasę `ItemDetailsLookup`"
   ]
  },
  {
   "cell_type": "code",
   "execution_count": null,
   "id": "f0e72a57-ed83-4157-bcce-0803981a81b1",
   "metadata": {},
   "outputs": [],
   "source": [
    "public class NumberItemDetailsLookup extends ItemDetailsLookup<Long> {}"
   ]
  },
  {
   "cell_type": "markdown",
   "id": "08577897-07d2-4691-ac17-3bb4d9b8e5d4",
   "metadata": {},
   "source": [
    "W klasie będziemy potrzebować pola `RecyclerView` reprezentujący naszą listę"
   ]
  },
  {
   "cell_type": "code",
   "execution_count": null,
   "id": "44521ed5-74c8-4852-b9cf-c743f6d2559b",
   "metadata": {},
   "outputs": [],
   "source": [
    "    private final RecyclerView recyclerView;\n",
    "\n",
    "    public NumberItemDetailsLookup(RecyclerView recyclerView) {\n",
    "        this.recyclerView = recyclerView;\n",
    "    }"
   ]
  },
  {
   "cell_type": "markdown",
   "id": "5f23d37e-3341-4fdc-beaa-5edd5d13d0d6",
   "metadata": {},
   "source": [
    "Samo zaznaczanie w tej bibliotece bazuje na `MotionEvent` który musimy zmapować na nasz `ViewHolder`. W tym celu musimy naspisać metodę `getItemDetails`"
   ]
  },
  {
   "cell_type": "code",
   "execution_count": null,
   "id": "fc9438ca-c37e-49c7-ba71-f254205cd260",
   "metadata": {},
   "outputs": [],
   "source": [
    "public ItemDetails<Long> getItemDetails(@NonNull MotionEvent e) {}"
   ]
  },
  {
   "cell_type": "markdown",
   "id": "9735e275-c6f8-41e4-b57a-5ace099e9c95",
   "metadata": {},
   "source": [
    "W pierwszym kroku potrzebujemy dostać się do naszego `ViewHolder` - zapiszemy go w obiekcie `View`. Możemy się do niego dostać wywołując metodę `findChildViewHolder` z klasy `RecyclerView`"
   ]
  },
  {
   "cell_type": "code",
   "execution_count": null,
   "id": "60ac323b-9e70-4565-aa68-db3fcb1ac6f7",
   "metadata": {},
   "outputs": [],
   "source": [
    "View view = recyclerView.findChildViewUnder(e.getX(), e.getY());"
   ]
  },
  {
   "cell_type": "markdown",
   "id": "01c9c746-94fd-41b1-ad04-26fb282d8340",
   "metadata": {},
   "source": [
    "Metoda ta przyjmuje dwa argumenty\n",
    "- `x` pozycję horyzontalną wyrażoną w pikselach\n",
    "- `y` pozycję wertykalną wyrażoną w pikselach\n",
    "\n",
    "Przekazując instancję `MotionEvent` z wywołanymi metodami `getX` i `getY` możemy ustalić który element został zaznaczony. Następnie sprawdzamy czy udało się zwrócić `ViewHolder` w warunku `if`, jeżeli wszystko poszło pomyślnie metoda zwraca obiekt typu `ItemDetails`, w przeciwnym razie zwracamy `null`"
   ]
  },
  {
   "cell_type": "code",
   "execution_count": null,
   "id": "f422180a-a6a9-4755-87a3-0e8356be83ab",
   "metadata": {},
   "outputs": [],
   "source": [
    "return ((NumberListAdapter.NumberListViewHolder)recyclerView\n",
    "    .getChildViewHolder(view)).getItemDetails();"
   ]
  },
  {
   "cell_type": "markdown",
   "id": "35f92151-76c1-4e6f-89cf-0095aefb8683",
   "metadata": {},
   "source": [
    "Obiekt `ItemDetails` musi zawierać dwie informacje:\n",
    "- `position` - pozycję elementu `RecyclerView`\n",
    "- `selectionId` - unikalny identyfikator elementu `RecyclerView`\n",
    "\n",
    "Aby otrzymać te elementy do klasy `NumberViewHolder` dodajemy metodę `getItemDetails` zwracającą `ItemDetail`."
   ]
  },
  {
   "cell_type": "code",
   "execution_count": null,
   "id": "0dcdb2f3-cb37-436d-b5ad-c8cbbf83e369",
   "metadata": {},
   "outputs": [],
   "source": [
    "public ItemDetailsLookup.ItemDetails<Long> getItemDetails() {\n",
    "    return new ItemDetailsLookup.ItemDetails<Long>() {\n",
    "        @Override\n",
    "        public int getPosition() {\n",
    "            return getAdapterPosition();\n",
    "        }\n",
    "\n",
    "        @NonNull\n",
    "        @Override\n",
    "        public Long getSelectionKey() {\n",
    "            return getItemId();\n",
    "        }\n",
    "    };\n",
    "}"
   ]
  },
  {
   "cell_type": "markdown",
   "id": "3ee452bb-ef6a-4195-8311-024d8843bf19",
   "metadata": {},
   "source": [
    "Zwracany obiekt (klasa anonimowa) musi implementować dwie metody. Aktualną pozycję wyciągamy przez wyołanie metody `getAdapterPosition` - metoda zwraca `Adapter` który jako ostatni był powiązany z tym `ViewHolder` lub `null` jeżeli takiego powiązanie nie było. W metodzie `getSelectionKey` zwracamy wywołanie metody `getItemId` klasy `RecyclerView`.\n",
    "\n",
    "Kolejnym krokiem będzie zmienienie koloru tła zaznaczonego elementu. Możemy to zdefiniować w pliku `xml`. Do folderu **res -> drawable** dodajemy nowy plik **Drawable Resource File** (`item_background.xml`), jako **root element** wybieramy `selector`. Chcemy zdefiniować dwa kolory i ustawić jeden z nich dla stanu aktywnego\n"
   ]
  },
  {
   "cell_type": "code",
   "execution_count": null,
   "id": "6880d373-0e6a-4444-b638-4bbc0c0ea3b4",
   "metadata": {},
   "outputs": [],
   "source": [
    "<?xml version=\"1.0\" encoding=\"utf-8\"?>\n",
    "<selector xmlns:android=\"http://schemas.android.com/apk/res/android\">\n",
    "    <item android:drawable=\"@android:color/holo_blue_bright\" android:state_activated=\"true\" />\n",
    "    <item android:drawable=\"@android:color/white\" />\n",
    "</selector>"
   ]
  },
  {
   "cell_type": "markdown",
   "id": "079b84ab-cbd8-4320-809a-14326f7b721e",
   "metadata": {},
   "source": [
    "Kolor stanu aktywnego ustawiamy przez zmianę domyślnej wartości `android:state_activated` na `true`. W ten sposób zmianę tła będziemy mieć połączoną z właściwością `isSelected` elementu. \n",
    "\n",
    "Żeby z niego skorzystać potrzebujemy jeszcze jednego elementu - `SelectionTracker`. W klasie `NumberListAdapter` dodajemy odpowiednie pole z `setterem`"
   ]
  },
  {
   "cell_type": "code",
   "execution_count": null,
   "id": "f3b1974f-4611-4730-bb78-0caeecd3f8d9",
   "metadata": {},
   "outputs": [],
   "source": [
    "    private SelectionTracker<Long> selectionTracker;\n",
    "    public void setSelectionTracker(SelectionTracker<Long> selectionTracker) {\n",
    "        this.selectionTracker = selectionTracker;\n",
    "    }"
   ]
  },
  {
   "cell_type": "markdown",
   "id": "4b2525fd-5565-443e-97ef-9a88ab06da04",
   "metadata": {},
   "source": [
    "`SelectionTracker` umożliwia śledzenie wszystkich elementów zaznaczonych przez użytkownika i pozwala sprawdzić czy dany element jest zaznaczony czy nie. Zmodyfikujmy metodę `bind` klasy `ViewHolder` aby umożliwić śledzenie - robimy to poprzez ustawienie pola `isActivated` na `itemView`"
   ]
  },
  {
   "cell_type": "code",
   "execution_count": null,
   "id": "896ce2fb-ac71-41df-b0c3-d7c544ff7668",
   "metadata": {},
   "outputs": [],
   "source": [
    "public void bind(int value, boolean isActivated){\n",
    "    textView.setText(String.valueOf(value));\n",
    "    itemView.setActivated(isActivated);\n",
    "}"
   ]
  },
  {
   "cell_type": "markdown",
   "id": "8b3b25ee-4950-4d09-be33-6323eacb3b11",
   "metadata": {},
   "source": [
    "Teraz musimy zmodyfikować wywołanie w metodzie `onBindViewHolder`"
   ]
  },
  {
   "cell_type": "code",
   "execution_count": null,
   "id": "f720300e-adef-4040-8037-453e92a0cdd8",
   "metadata": {},
   "outputs": [],
   "source": [
    "    @Override\n",
    "    public void onBindViewHolder(@NonNull NumberListAdapter.NumberListViewHolder holder, int position) {\n",
    "        holder.bind(\n",
    "            numberList.get(position), \n",
    "            selectionTracker.isSelected((long)position));\n",
    "    }"
   ]
  },
  {
   "cell_type": "markdown",
   "id": "08063bf1-ea2f-4810-9a73-1928c72c7743",
   "metadata": {},
   "source": [
    "Na instancji `SelectionTracker` wywołujemy metodę `isSelected` sptawdzającą czy element o zadanym `id` jest zaznaczony przez użytkownika. Jako `id` przekazujemy `position` zrzutowany na `long`.\n",
    "\n",
    "Ostatnim krokiem jest utworzenie `SelectionTracker` w klasie `MainActivity` i połączenie go z naszym `RecyclerView`. "
   ]
  },
  {
   "cell_type": "code",
   "execution_count": null,
   "id": "d69f53d0-070a-4f14-b51e-3bcf3beb0b65",
   "metadata": {},
   "outputs": [],
   "source": [
    "recyclerView.setAdapter(numberListAdapter);\n",
    "SelectionTracker<Long> selectionTracker = new SelectionTracker.Builder<>(\n",
    "    \"numberSelection\",\n",
    "    recyclerView,\n",
    "    new StableIdKeyProvider(recyclerView),\n",
    "    new NumberItemDetailsLookup(recyclerView),\n",
    "    StorageStrategy.createLongStorage()\n",
    ").withSelectionPredicate(\n",
    "    SelectionPredicates.createSelectAnything()\n",
    ").build();\n",
    "numberListAdapter.setSelectionTracker(selectionTracker);"
   ]
  },
  {
   "cell_type": "markdown",
   "id": "d9ada261-721e-446a-8162-6fa04729d13c",
   "metadata": {},
   "source": [
    "Tutaj istotna jest kolejność wykonania\n",
    "- tworzymy `RecyclerView`\n",
    "- powiązujemy `Adapter` z `RecyclerView`\n",
    "- powiązujemy `SelectionTracker` z `RecyclerView`\n",
    "\n",
    "Aby utworzyć `SelectionTracker` wykorzystujemy `Builder`"
   ]
  },
  {
   "cell_type": "code",
   "execution_count": null,
   "id": "9d1eacf7-38ee-468e-aab4-08cb6c1743de",
   "metadata": {},
   "outputs": [],
   "source": [
    "SelectionTracker<Long> selectionTracker = new SelectionTracker.Builder<>()"
   ]
  },
  {
   "cell_type": "markdown",
   "id": "9c03e8b9-f9f8-42c0-a757-444b87d99a16",
   "metadata": {},
   "source": [
    "Przyjmuje on szereg argumentów\n",
    "- `selectionId` - `String` jednoznacznie identyfikujący `SelectionTracker` dla danej aktywności\n",
    "- `recyclerView` - instancja `RecyclerView` na którym wywołujemy `SelectionTracker`\n",
    "- `keyProvider` - źródło kluczy po których rozróżniamy elementy - tutaj wykorzystaliśmy domyślną implementację klasy `StableIdKeyProvider`\n",
    "- `detailsLookup` - źródło informacji o elementach `Recyclerview` (pozycja elementu, unikalny identyfikator elementu)\n",
    "- `storage` - strategia przechowywania stanu - możemy przechować informację o tym, które elementy są aktualnie zaznaczone\n",
    "\n",
    "Następnie wywołujemy funkcję `withSelectionPredicate`, która pozwala nam określić sposób w jaki stosujemy zaznaczenie (możemy określić ograniczenia). Tutaj wywołana jest metoda `createSelectionAnything` nie posiadająca żadnych ograniczeń - jednocześnie zezwala na zaznaczenie wielu elementów.\n",
    "    "
   ]
  },
  {
   "cell_type": "markdown",
   "id": "63fc4fec-c842-45fc-9b82-812d535cb196",
   "metadata": {},
   "source": [
    "Na tym etapie możemy przetestować aplikację."
   ]
  },
  {
   "cell_type": "markdown",
   "id": "12c84b30-7874-4674-995d-4f3c680bad0b",
   "metadata": {},
   "source": [
    "<img src=\"https://media1.giphy.com/media/7VOdnpyhosbBDIQPR0/giphy.gif?cid=790b76117ce18b657fd9003f6e29b87c453b5bfad7667dad&rid=giphy.gif&ct=g\" width=\"200\" />"
   ]
  }
 ],
 "metadata": {
  "kernelspec": {
   "display_name": "Java",
   "language": "java",
   "name": "java"
  },
  "language_info": {
   "codemirror_mode": "java",
   "file_extension": ".jshell",
   "mimetype": "text/x-java-source",
   "name": "Java",
   "pygments_lexer": "java",
   "version": "17+35-2724"
  }
 },
 "nbformat": 4,
 "nbformat_minor": 5
}
