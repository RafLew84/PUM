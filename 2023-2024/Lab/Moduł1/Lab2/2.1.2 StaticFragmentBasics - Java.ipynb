{
 "cells": [
  {
   "cell_type": "markdown",
   "id": "f549a272-085a-4774-874e-aaa483f58e40",
   "metadata": {},
   "source": [
    "# Static Fragment"
   ]
  },
  {
   "cell_type": "markdown",
   "id": "3728ad75-3a9a-4281-a9ed-9fd96fc3dd2c",
   "metadata": {},
   "source": [
    "`Fragment` to jednostka interfejsu użytkownika (UI), która reprezentuje pewien fragment ekranu lub interakcję użytkownika z aplikacją. Fragmenty są często używane w aplikacjach mobilnych, aby poprawić ich wydajność i interakcję, umożliwiając programistom wielokrotne użycie części kodu UI w różnych częściach aplikacji. Fragmenty mogą być dodawane do aktywności lub innych fragmentów, a ich wygląd i zachowanie można modyfikować zgodnie z potrzebami aplikacji.\n",
    "\n",
    "Fragmenty pozwalają na lepsze zarządzanie interfejsem użytkownika aplikacji poprzez dostarczenie elastycznej architektury, która umożliwia łatwe i zwinne przenoszenie fragmentów pomiędzy różnymi częściami interfejsu użytkownika. Dzięki temu użytkownik może łatwo korzystać z aplikacji na różnych urządzeniach mobilnych z różnymi rozmiarami ekranu."
   ]
  },
  {
   "cell_type": "markdown",
   "id": "2aff0cbb-a02a-4267-a7df-f14fec86b145",
   "metadata": {},
   "source": [
    "- Aktywność jest głównym elementem interfejsu użytkownika w Androidzie, podczas gdy Fragment reprezentuje tylko część interfejsu użytkownika, którą można dodać do Aktywności.\n",
    "- Aktywność może działać jako niezależny element, podczas gdy Fragment zawsze musi być powiązany z Aktywnością. Jedna Aktywność może zawierać wiele Fragmentów.\n",
    "- Życie Aktywności jest bezpośrednio związane z cyklem życia całej aplikacji, podczas gdy Fragment ma swój własny cykl życia zależny od cyklu życia Aktywności, do której jest dołączony.\n",
    "- Fragmenty umożliwiają łatwe ponowne wykorzystanie kodu interfejsu użytkownika i łatwiejsze zarządzanie interakcjami użytkownika z interfejsem."
   ]
  },
  {
   "cell_type": "markdown",
   "id": "1a3c00cb-975c-417f-82c6-e8a0bb441480",
   "metadata": {},
   "source": [
    "W Androidzie istnieją dwa typy fragmentów: **statyczne** i **dynamiczne**.\n",
    "\n",
    "Fragment statyczny jest definiowany w pliku `XML` layoutu dla danej aktywności. Jest to fragment, który jest zawsze obecny na ekranie i nie może być dodany lub usunięty w trakcie działania aplikacji. Fragment statyczny jest często używany, gdy elementy UI muszą być podzielone na części, ale układ nie zmienia się podczas działania aplikacji.\n",
    "\n",
    "Fragment dynamiczny jest tworzony i dodawany do aktywności w trakcie działania aplikacji. Może być dodany, usunięty lub zastąpiony innym fragmentem w trakcie działania aplikacji. Fragment dynamiczny jest używany, gdy elementy UI muszą być zmieniane lub gdy aplikacja wymaga interakcji użytkownika, aby przejść do innych widoków.\n",
    "\n",
    "Podsumowując, fragment statyczny jest zawsze obecny na ekranie i nie może być dodany lub usunięty w trakcie działania aplikacji, podczas gdy fragment dynamiczny może być dodawany, usuwany lub zastępowany innymi fragmentami w trakcie działania aplikacji."
   ]
  },
  {
   "cell_type": "markdown",
   "id": "4be6c79b-3832-4632-a900-427e0a0d3bf2",
   "metadata": {},
   "source": [
    "Aplikacja będzie zawierała jedną aktywność do której statycznie dodamy fragment"
   ]
  },
  {
   "cell_type": "markdown",
   "id": "7bb3ab26-a31d-4fe3-a6f1-1780a07cb063",
   "metadata": {},
   "source": [
    "Dodajmy do projektu klasę o nazwie `FragmentA` rozszerzającą klasę `Fragment`"
   ]
  },
  {
   "cell_type": "code",
   "execution_count": null,
   "id": "c7a63454-3636-4f46-8f24-b477de1a8395",
   "metadata": {},
   "outputs": [],
   "source": [
    "public class FragmentA extends Fragment {}"
   ]
  },
  {
   "cell_type": "markdown",
   "id": "b857c9d7-7712-48a4-b9c7-f004d3e68ba1",
   "metadata": {},
   "source": [
    "Następnie utwórzmy plik layoutu o nazwie `fragment_a`"
   ]
  },
  {
   "cell_type": "code",
   "execution_count": null,
   "id": "08dfddbf-b55a-4567-93b0-117eda200f69",
   "metadata": {},
   "outputs": [],
   "source": [
    "<?xml version=\"1.0\" encoding=\"utf-8\"?>\n",
    "<androidx.constraintlayout.widget.ConstraintLayout \n",
    "xmlns:android=\"http://schemas.android.com/apk/res/android\"\n",
    "    xmlns:app=\"http://schemas.android.com/apk/res-auto\"\n",
    "    xmlns:tools=\"http://schemas.android.com/tools\"\n",
    "    android:layout_width=\"match_parent\"\n",
    "    android:layout_height=\"match_parent\"\n",
    "    android:background=\"#FFF444\">\n",
    "\n",
    "    <TextView\n",
    "        android:id=\"@+id/textView\"\n",
    "        android:layout_width=\"wrap_content\"\n",
    "        android:layout_height=\"wrap_content\"\n",
    "        android:text=\"FragmentA\"\n",
    "        android:textColor=\"@color/black\"\n",
    "        android:textSize=\"36sp\"\n",
    "        app:layout_constraintBottom_toBottomOf=\"parent\"\n",
    "        app:layout_constraintEnd_toEndOf=\"parent\"\n",
    "        app:layout_constraintStart_toStartOf=\"parent\"\n",
    "        app:layout_constraintTop_toTopOf=\"parent\" />\n",
    "</androidx.constraintlayout.widget.ConstraintLayout>"
   ]
  },
  {
   "cell_type": "markdown",
   "id": "ae3119ec-ba98-4d11-b5eb-37614c9e7bc2",
   "metadata": {},
   "source": [
    "I uzupełnijmy klasę `FragmentA` o metodę `onCreateView`"
   ]
  },
  {
   "cell_type": "code",
   "execution_count": null,
   "id": "fce09e2b-47e7-4c54-973e-95809e3ce454",
   "metadata": {},
   "outputs": [],
   "source": [
    "public class FragmentA extends Fragment {\n",
    "\n",
    "    private FragmentABinding binding;\n",
    "\n",
    "    @Override\n",
    "    public View onCreateView(@NonNull LayoutInflater inflater, ViewGroup container,\n",
    "                             Bundle savedInstanceState) {\n",
    "        binding = FragmentABinding.inflate(inflater);\n",
    "        return binding.getRoot();\n",
    "    }\n",
    "}"
   ]
  },
  {
   "cell_type": "markdown",
   "id": "196e1f29-af79-4c1c-9625-01b5a3ac1338",
   "metadata": {},
   "source": [
    "Następnie utwórzmy analogicznie klasę `FragmentB`"
   ]
  },
  {
   "cell_type": "code",
   "execution_count": null,
   "id": "88a0152e-bbbb-414c-abb9-95109bea4292",
   "metadata": {},
   "outputs": [],
   "source": [
    "<?xml version=\"1.0\" encoding=\"utf-8\"?>\n",
    "<androidx.constraintlayout.widget.ConstraintLayout\n",
    "xmlns:android=\"http://schemas.android.com/apk/res/android\"\n",
    "    xmlns:app=\"http://schemas.android.com/apk/res-auto\"\n",
    "    xmlns:tools=\"http://schemas.android.com/tools\"\n",
    "    android:layout_width=\"match_parent\"\n",
    "    android:layout_height=\"match_parent\">\n",
    "\n",
    "    <TextView\n",
    "        android:id=\"@+id/textView\"\n",
    "        android:layout_width=\"wrap_content\"\n",
    "        android:layout_height=\"wrap_content\"\n",
    "        android:text=\"FragmentB\"\n",
    "        android:textColor=\"@color/black\"\n",
    "        android:textSize=\"36sp\"\n",
    "        app:layout_constraintBottom_toBottomOf=\"parent\"\n",
    "        app:layout_constraintEnd_toEndOf=\"parent\"\n",
    "        app:layout_constraintStart_toStartOf=\"parent\"\n",
    "        app:layout_constraintTop_toTopOf=\"parent\" />\n",
    "</androidx.constraintlayout.widget.ConstraintLayout>"
   ]
  },
  {
   "cell_type": "code",
   "execution_count": null,
   "id": "ff2d7c5c-7bef-4a6f-af36-58fd638bef6f",
   "metadata": {},
   "outputs": [],
   "source": [
    "public class FragmentB extends Fragment {\n",
    "\n",
    "    private FragmentBBinding binding;\n",
    "\n",
    "    @Override\n",
    "    public View onCreateView(LayoutInflater inflater, ViewGroup container,\n",
    "                             Bundle savedInstanceState) {\n",
    "        binding = FragmentBBinding.inflate(inflater);\n",
    "        return binding.getRoot();\n",
    "    }\n",
    "}"
   ]
  },
  {
   "cell_type": "markdown",
   "id": "2db06f79-3edd-4765-8f11-027f3c43e54d",
   "metadata": {},
   "source": [
    "Następnie do layoutu `MainActivity` dodamy oba fragmenty"
   ]
  },
  {
   "cell_type": "code",
   "execution_count": null,
   "id": "ffe78917-0c3b-4132-b61e-41c8a3739db2",
   "metadata": {},
   "outputs": [],
   "source": [
    "<?xml version=\"1.0\" encoding=\"utf-8\"?>\n",
    "<LinearLayout xmlns:android=\"http://schemas.android.com/apk/res/android\"\n",
    "    xmlns:app=\"http://schemas.android.com/apk/res-auto\"\n",
    "    xmlns:tools=\"http://schemas.android.com/tools\"\n",
    "    android:layout_width=\"match_parent\"\n",
    "    android:layout_height=\"match_parent\"\n",
    "    android:orientation=\"vertical\"\n",
    "    tools:context=\".MainActivity\">\n",
    "\n",
    "    <fragment\n",
    "        android:id=\"@+id/fragmentA\"\n",
    "        android:layout_width=\"match_parent\"\n",
    "        android:layout_height=\"0dp\"\n",
    "        android:layout_weight=\"1\"\n",
    "        android:name=\"com.example.a32_staticfragmentbasics_java.FragmentA\"/>\n",
    "\n",
    "    <fragment\n",
    "        android:id=\"@+id/fragmentB\"\n",
    "        android:layout_width=\"match_parent\"\n",
    "        android:layout_height=\"0dp\"\n",
    "        android:layout_weight=\"1\"\n",
    "        android:name=\"com.example.a32_staticfragmentbasics_java.FragmentB\"/>\n",
    "\n",
    "</LinearLayout>"
   ]
  },
  {
   "cell_type": "markdown",
   "id": "42e29284-bc3e-4a25-9e54-2e3ef0a1f2c4",
   "metadata": {},
   "source": [
    "Statycznie fragmenty dodajemy jako `<fragment />` - tutaj powinien pojawić się warning o zamianie na `fragmentContainer` ale w tym przykładzie go zignorujemy.\n",
    "\n",
    "W efekcie ekran główny naszej aplikacji mamy podzielony na dwa fragmenty, którymi możemy zarządzać niezależnie."
   ]
  }
 ],
 "metadata": {
  "kernelspec": {
   "display_name": "Kotlin",
   "language": "kotlin",
   "name": "kotlin"
  },
  "language_info": {
   "codemirror_mode": "text/x-kotlin",
   "file_extension": ".kt",
   "mimetype": "text/x-kotlin",
   "name": "kotlin",
   "nbconvert_exporter": "",
   "pygments_lexer": "kotlin",
   "version": "1.8.0-RC"
  }
 },
 "nbformat": 4,
 "nbformat_minor": 5
}
