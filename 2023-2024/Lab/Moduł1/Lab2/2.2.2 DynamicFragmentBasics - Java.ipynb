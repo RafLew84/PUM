{
 "cells": [
  {
   "cell_type": "markdown",
   "id": "a2e223d5-ea35-43c4-b3e7-f0e32f83c5ea",
   "metadata": {},
   "source": [
    "# Dynamic Fragment"
   ]
  },
  {
   "cell_type": "markdown",
   "id": "dda7f365-1abf-47a6-b294-fc05ae4ae931",
   "metadata": {},
   "source": [
    "Dynamiczny fragment to obiekt klasy `Fragment` w Androidzie, który można dodać, usunąć lub zastąpić w trakcie działania aplikacji. Oznacza to, że możemy dodawać lub usuwać fragmenty dynamicznie w trakcie działania aplikacji, w przeciwieństwie do fragmentów statycznych, które są zdefiniowane w pliku `XML` i są ładowane podczas tworzenia widoku.\n",
    "\n",
    "Dynamiczne fragmenty pozwalają na elastyczne zarządzanie układem aplikacji i umożliwiają łatwe przystosowanie interfejsu użytkownika do różnych rozmiarów ekranów. Pozwalają również na separację logiki biznesowej i widoku.\n",
    "\n",
    "Aby dodać dynamiczny fragment, należy utworzyć instancję klasy `Fragment`, a następnie użyć metody `FragmentManager.beginTransaction()`, aby rozpocząć transakcję fragmentu. Następnie można dodać, usunąć lub zastąpić fragmenty w trakcie działania aplikacji, a zmiany zostaną automatycznie zastosowane w interfejsie użytkownika."
   ]
  },
  {
   "cell_type": "markdown",
   "id": "1d9f8a6e-ea56-4604-b7a9-d3b4cac84694",
   "metadata": {},
   "source": [
    "W tej aplikacji posłużymy się trzema fragmentami które będą hostowane przez pojedynczą aktywność - fragmenty będziemy dodawać i podmieniać w sposób dynamiczny.\n",
    "\n",
    "Aplikacja będzie posiadała jedną aktywność hostującą, zawierającą jedynie `FragmentContainerView` w pliku layoutu"
   ]
  },
  {
   "cell_type": "code",
   "execution_count": null,
   "id": "5763ae4c-d1f1-4052-89d0-f4ad0a98b595",
   "metadata": {},
   "outputs": [],
   "source": [
    "<?xml version=\"1.0\" encoding=\"utf-8\"?>\n",
    "<androidx.constraintlayout.widget.ConstraintLayout \n",
    "xmlns:android=\"http://schemas.android.com/apk/res/android\"\n",
    "    xmlns:app=\"http://schemas.android.com/apk/res-auto\"\n",
    "    xmlns:tools=\"http://schemas.android.com/tools\"\n",
    "    android:layout_width=\"match_parent\"\n",
    "    android:layout_height=\"match_parent\"\n",
    "    tools:context=\".MainActivity\">\n",
    "\n",
    "    <androidx.fragment.app.FragmentContainerView\n",
    "        android:id=\"@+id/fragment_container_view_tag\"\n",
    "        android:layout_width=\"match_parent\"\n",
    "        android:layout_height=\"match_parent\"\n",
    "        app:layout_constraintBottom_toBottomOf=\"parent\"\n",
    "        app:layout_constraintEnd_toEndOf=\"parent\"\n",
    "        app:layout_constraintStart_toStartOf=\"parent\"\n",
    "        app:layout_constraintTop_toTopOf=\"parent\" />\n",
    "\n",
    "</androidx.constraintlayout.widget.ConstraintLayout>"
   ]
  },
  {
   "cell_type": "markdown",
   "id": "d91b3fc3-640b-4ffa-b7cb-ffbd1d5f75f1",
   "metadata": {},
   "source": [
    "Następnie dodajmy do aplikacji klasę `MainFragment` - fragment, który będzie wyświetlany po uruchomieniu aplikacji. Rozpocznijmy od layoutu"
   ]
  },
  {
   "cell_type": "code",
   "execution_count": null,
   "id": "6f2fedc6-487c-4c46-9777-9719cb6a3526",
   "metadata": {},
   "outputs": [],
   "source": [
    "<?xml version=\"1.0\" encoding=\"utf-8\"?>\n",
    "<androidx.constraintlayout.widget.ConstraintLayout \n",
    "xmlns:android=\"http://schemas.android.com/apk/res/android\"\n",
    "    xmlns:app=\"http://schemas.android.com/apk/res-auto\"\n",
    "    xmlns:tools=\"http://schemas.android.com/tools\"\n",
    "    android:layout_width=\"match_parent\"\n",
    "    android:layout_height=\"match_parent\"\n",
    "    tools:context=\".MainActivity\">\n",
    "\n",
    "    <androidx.fragment.app.FragmentContainerView\n",
    "        android:id=\"@+id/fragment_container_view_tag\"\n",
    "        android:layout_width=\"match_parent\"\n",
    "        android:layout_height=\"match_parent\"\n",
    "        app:layout_constraintBottom_toBottomOf=\"parent\"\n",
    "        app:layout_constraintEnd_toEndOf=\"parent\"\n",
    "        app:layout_constraintStart_toStartOf=\"parent\"\n",
    "        app:layout_constraintTop_toTopOf=\"parent\" />\n",
    "\n",
    "</androidx.constraintlayout.widget.ConstraintLayout>"
   ]
  },
  {
   "cell_type": "markdown",
   "id": "3ae2d700-4bab-4b86-a72f-f859e0ee683d",
   "metadata": {},
   "source": [
    "Następnie dodajmy samą klasę"
   ]
  },
  {
   "cell_type": "code",
   "execution_count": null,
   "id": "8970a4d7-ecb2-4365-abb3-2566f6bc4204",
   "metadata": {},
   "outputs": [],
   "source": [
    "public class MainFragment extends Fragment {\n",
    "\n",
    "    @Nullable\n",
    "    @Override\n",
    "    public View onCreateView(@NonNull LayoutInflater inflater, @Nullable ViewGroup container, @Nullable Bundle savedInstanceState) {\n",
    "        return inflater.inflate(R.layout.fragment_main, container, false);\n",
    "    }\n",
    "}"
   ]
  },
  {
   "cell_type": "markdown",
   "id": "cadc78a3-0553-426e-a754-5eeb0f9ecf26",
   "metadata": {},
   "source": [
    "Przejdźmy do `MainActivity`. W metodzie `onCreate` dodamy `MainFragment` do `FragmentContainerView` - wykonujemy tą czynność poprzez mechanizm transakcji."
   ]
  },
  {
   "cell_type": "markdown",
   "id": "fbca0cce-4751-48b3-b98d-3f1e078d7285",
   "metadata": {},
   "source": [
    "Wywołujemy metodę `supportFragmentManager`, która zwraca instancję klasy `SupportFragmentManager` - jest to klasa odpowiedzialna za wykonywanie akcji na fragmentach w naszej aplikacji. Następnie wywołujemy metodę `beginTransaction` rozpoczynającą transakcję.\n",
    "\n",
    "Wpierw chcemy dodać fragment, więc wywołujemy metodę `add`, przyjmuje dwa argumenty\n",
    "- `containerView` - kontener do którego ma zostać dodany fragment\n",
    "- `fragment` - fragment który ma zostać dodany\n",
    "\n",
    "Transakcję kończymy wywołując metodę `commit`"
   ]
  },
  {
   "cell_type": "code",
   "execution_count": null,
   "id": "9aef97e5-f7b7-478a-b198-3e533a63b269",
   "metadata": {},
   "outputs": [],
   "source": [
    "getSupportFragmentManager()\n",
    "        .beginTransaction()\n",
    "        .add(R.id.fragment_container_view_tag, new MainFragment())\n",
    "        .commit();"
   ]
  },
  {
   "cell_type": "markdown",
   "id": "811ee09a-0489-47f8-9bee-0f387afe755e",
   "metadata": {},
   "source": [
    "Metoda `beginTransaction()` rozpoczyna nową transakcję, która pozwala na dodawanie, usuwanie i zamienianie fragmentów. Metoda `replace()` zastępuje zawartość kontenera fragmentów określonego przez `R.id.fragment_container_view_tag` kontenerem nowego fragmentu `MainFragment`.\n",
    "\n",
    "Na koniec metoda `commit()` zatwierdza transakcję i zapisuje ją w historii back stacka."
   ]
  },
  {
   "cell_type": "markdown",
   "id": "0dcfda36-6c8b-4284-b55f-fe6f5c2d368b",
   "metadata": {},
   "source": [
    "Back stack to stos zawierający historię nawigacji między aktywnościami lub fragmentami w aplikacji. Gdy nowy fragment zostaje uruchomiony, zostaje dodany na wierzch stosu, a poprzedni pozostaje w stosie. Po naciśnięciu przycisku wstecz na urządzeniu, system Android usuwa aktualny fragment ze szczytu stosu i wyświetla poprzedni fragment z niższej pozycji na stosie."
   ]
  },
  {
   "cell_type": "markdown",
   "id": "f6667b1d-2a19-4839-9d4d-302e7224cc5a",
   "metadata": {},
   "source": [
    "Dodajmy do aplikacji fragment o nazwie `FragmentA`"
   ]
  },
  {
   "cell_type": "code",
   "execution_count": null,
   "id": "d3944048-5625-4bb7-b64f-b72422a1f6d0",
   "metadata": {},
   "outputs": [],
   "source": [
    "<?xml version=\"1.0\" encoding=\"utf-8\"?>\n",
    "<LinearLayout xmlns:android=\"http://schemas.android.com/apk/res/android\"\n",
    "    xmlns:app=\"http://schemas.android.com/apk/res-auto\"\n",
    "    xmlns:tools=\"http://schemas.android.com/tools\"\n",
    "    android:orientation=\"vertical\"\n",
    "    android:layout_width=\"match_parent\"\n",
    "    android:layout_height=\"match_parent\">\n",
    "\n",
    "    <TextView\n",
    "        android:id=\"@+id/textView\"\n",
    "        android:textSize=\"36sp\"\n",
    "        android:textColor=\"@color/black\"\n",
    "        android:textAlignment=\"center\"\n",
    "        android:layout_gravity=\"center_horizontal\"\n",
    "        android:layout_marginTop=\"20dp\"\n",
    "        android:layout_width=\"match_parent\"\n",
    "        android:layout_height=\"wrap_content\"\n",
    "        android:text=\"FRAGMENT A\" />\n",
    "</LinearLayout>"
   ]
  },
  {
   "cell_type": "code",
   "execution_count": null,
   "id": "c6fe0d2c-7fdb-4f07-ab60-ec63f6096e51",
   "metadata": {},
   "outputs": [],
   "source": [
    "public class FragmentA extends Fragment {\n",
    "\n",
    "    private FragmentABinding binding;\n",
    "\n",
    "    @Override\n",
    "    public View onCreateView(LayoutInflater inflater, ViewGroup container,\n",
    "                             Bundle savedInstanceState) {\n",
    "        binding = FragmentABinding.inflate(inflater);\n",
    "        return binding.getRoot();\n",
    "    }\n",
    "}"
   ]
  },
  {
   "cell_type": "markdown",
   "id": "ddcbaf58-5a4b-4d84-a983-0cff2ab979f1",
   "metadata": {},
   "source": [
    "Następnie dodajmy przycisk do `MainFragment` po naciśnięciu którego podmienimy fragment na `MainActivity` na `FragmentA`"
   ]
  },
  {
   "cell_type": "code",
   "execution_count": null,
   "id": "40aa82da-4bcf-4e50-81c2-3c9379aa6e4a",
   "metadata": {},
   "outputs": [],
   "source": [
    "<?xml version=\"1.0\" encoding=\"utf-8\"?>\n",
    "<LinearLayout xmlns:android=\"http://schemas.android.com/apk/res/android\"\n",
    "    xmlns:app=\"http://schemas.android.com/apk/res-auto\"\n",
    "    xmlns:tools=\"http://schemas.android.com/tools\"\n",
    "    android:orientation=\"vertical\"\n",
    "    android:layout_width=\"match_parent\"\n",
    "    android:layout_height=\"match_parent\">\n",
    "\n",
    "    <TextView\n",
    "        android:id=\"@+id/textView\"\n",
    "        android:textSize=\"36sp\"\n",
    "        android:textColor=\"@color/black\"\n",
    "        android:textAlignment=\"center\"\n",
    "        android:layout_gravity=\"center_horizontal\"\n",
    "        android:layout_marginTop=\"20dp\"\n",
    "        android:layout_width=\"match_parent\"\n",
    "        android:layout_height=\"wrap_content\"\n",
    "        android:text=\"MAIN FRAGMENT\" />\n",
    "    \n",
    "    <Button\n",
    "        android:id=\"@+id/start_fragment_a\"\n",
    "        android:layout_width=\"wrap_content\"\n",
    "        android:layout_height=\"wrap_content\"\n",
    "        android:layout_gravity=\"center_horizontal\"\n",
    "        android:text=\"START FRAGMENT A\"\n",
    "        android:textSize=\"24sp\"/>\n",
    "</LinearLayout>"
   ]
  },
  {
   "cell_type": "markdown",
   "id": "500c7ee9-54c3-4321-a6ff-7c87c74efaa1",
   "metadata": {},
   "source": [
    "W metodzie `onCreateView` dodaję transakcję."
   ]
  },
  {
   "cell_type": "code",
   "execution_count": null,
   "id": "cdbab134-fea4-462c-bea8-32382b3373f0",
   "metadata": {},
   "outputs": [],
   "source": [
    "public class MainFragment extends Fragment {\n",
    "\n",
    "    private FragmentMainBinding binding;\n",
    "\n",
    "    @Override\n",
    "    public View onCreateView(LayoutInflater inflater, ViewGroup container,\n",
    "                             Bundle savedInstanceState) {\n",
    "        binding = FragmentMainBinding.inflate(inflater);\n",
    "\n",
    "        binding.startFragmentA\n",
    "                .setOnClickListener(v -> requireActivity().getSupportFragmentManager()\n",
    "                        .beginTransaction()\n",
    "                        .replace(R.id.fragment_container_view_tag, new FragmentA())\n",
    "                        .commit());\n",
    "        \n",
    "        return binding.getRoot();\n",
    "    }\n",
    "}"
   ]
  },
  {
   "cell_type": "markdown",
   "id": "f97ad231-1696-4d22-af92-9a3e9637c18c",
   "metadata": {},
   "source": [
    "Dostęp do instancji `FragmentManager` możemy uzyskać tylko przez aktywność, więc musimy dostać się do aktywności hostującej - możemy to zrobić wywołując metodę `requireActivity`. Dalej wywołujemy metodę `supportFragmentManager` i rozpoczynamy transakcję. Teraz nie chcemy dodać nowego fragmentu - chcemy zastąpić już istniejęcy, więc wywołujemy meetodę `replace` która przyjmuje dwa argumenty:\n",
    "- `fragmentContainer` - kontener w którym ma nastąpić zamiana\n",
    "- `fragment` - fragment którym zastąpimy poprzendi fragment"
   ]
  },
  {
   "cell_type": "markdown",
   "id": "b5f59eca-ffd3-47e9-a326-84980b6c4fa7",
   "metadata": {},
   "source": [
    "Menadżer fragmentów to komponent Androida, który jest odpowiedzialny za zarządzanie fragmentami w ramach aktywności. Menadżer fragmentów umożliwia dodawanie, usuwanie, podmienianie oraz przenoszenie fragmentów wewnątrz aktywności."
   ]
  },
  {
   "cell_type": "markdown",
   "id": "d4256304-7018-456a-8396-060ea91b3edb",
   "metadata": {},
   "source": [
    "I jak poprzednio kończymy wywołując metodę `commit`. Możemy przetestować aplikację"
   ]
  },
  {
   "cell_type": "markdown",
   "id": "abd330b1-6d4b-4e35-9e40-d97e4acea500",
   "metadata": {},
   "source": [
    "<img src=\"https://media0.giphy.com/media/y2AH5v1SE0HdSKUF97/giphy.gif?cid=790b76113e3e884baddad44b4cd21f93ca0926b8dbf8ff2d&rid=giphy.gif&ct=g\" width=\"150\" />"
   ]
  },
  {
   "cell_type": "markdown",
   "id": "8e422c8b-8ae8-466b-b4f2-4116703585aa",
   "metadata": {},
   "source": [
    "Dodajmy przycisk do `FragmentA` przez który będziemy przechodzić na `FragmentB`"
   ]
  },
  {
   "cell_type": "code",
   "execution_count": null,
   "id": "5012e0f7-c037-4cfc-8a5a-58a491e63261",
   "metadata": {},
   "outputs": [],
   "source": [
    "<?xml version=\"1.0\" encoding=\"utf-8\"?>\n",
    "<LinearLayout xmlns:android=\"http://schemas.android.com/apk/res/android\"\n",
    "    xmlns:app=\"http://schemas.android.com/apk/res-auto\"\n",
    "    xmlns:tools=\"http://schemas.android.com/tools\"\n",
    "    android:orientation=\"vertical\"\n",
    "    android:layout_width=\"match_parent\"\n",
    "    android:layout_height=\"match_parent\">\n",
    "\n",
    "    <TextView\n",
    "        android:id=\"@+id/textView\"\n",
    "        android:textSize=\"36sp\"\n",
    "        android:textColor=\"@color/black\"\n",
    "        android:textAlignment=\"center\"\n",
    "        android:layout_gravity=\"center_horizontal\"\n",
    "        android:layout_marginTop=\"20dp\"\n",
    "        android:layout_width=\"match_parent\"\n",
    "        android:layout_height=\"wrap_content\"\n",
    "        android:text=\"FRAGMENT A\" />\n",
    "\n",
    "    <Button\n",
    "        android:id=\"@+id/start_fragment_b\"\n",
    "        android:layout_width=\"wrap_content\"\n",
    "        android:layout_height=\"wrap_content\"\n",
    "        android:layout_gravity=\"center_horizontal\"\n",
    "        android:text=\"START FRAGMENT B\"\n",
    "        android:textSize=\"24sp\"/>\n",
    "</LinearLayout>"
   ]
  },
  {
   "cell_type": "markdown",
   "id": "cac2b19d-30d0-4ce7-9e3f-69694deafc9a",
   "metadata": {},
   "source": [
    "Dodajmy `FragmentB`"
   ]
  },
  {
   "cell_type": "code",
   "execution_count": null,
   "id": "c9a30d22-37df-4445-a8b3-8bc225bdf4d1",
   "metadata": {},
   "outputs": [],
   "source": [
    "<?xml version=\"1.0\" encoding=\"utf-8\"?>\n",
    "<LinearLayout xmlns:android=\"http://schemas.android.com/apk/res/android\"\n",
    "    xmlns:app=\"http://schemas.android.com/apk/res-auto\"\n",
    "    xmlns:tools=\"http://schemas.android.com/tools\"\n",
    "    android:orientation=\"vertical\"\n",
    "    android:layout_width=\"match_parent\"\n",
    "    android:layout_height=\"match_parent\"\n",
    "    android:background=\"#FFFF44\">\n",
    "\n",
    "    <TextView\n",
    "        android:id=\"@+id/textView\"\n",
    "        android:textSize=\"36sp\"\n",
    "        android:textColor=\"@color/black\"\n",
    "        android:textAlignment=\"center\"\n",
    "        android:layout_gravity=\"center_horizontal\"\n",
    "        android:layout_marginTop=\"20dp\"\n",
    "        android:layout_width=\"match_parent\"\n",
    "        android:layout_height=\"wrap_content\"\n",
    "        android:text=\"FRAGMENT B\" />\n",
    "</LinearLayout>"
   ]
  },
  {
   "cell_type": "code",
   "execution_count": null,
   "id": "abdb73cc-5e08-4fdb-8097-02d06edb431f",
   "metadata": {},
   "outputs": [],
   "source": [
    "public class FragmentB extends Fragment {\n",
    "\n",
    "    private FragmentBBinding binding;\n",
    "\n",
    "    @Override\n",
    "    public View onCreateView(LayoutInflater inflater, ViewGroup container,\n",
    "                             Bundle savedInstanceState) {\n",
    "        binding = FragmentBBinding.inflate(inflater);\n",
    "        return binding.getRoot();\n",
    "    }\n",
    "}"
   ]
  },
  {
   "cell_type": "markdown",
   "id": "92e56c6a-c907-40dc-80af-5e7ee4876c89",
   "metadata": {},
   "source": [
    "Obsłużmy przycisk w `FragmentA`"
   ]
  },
  {
   "cell_type": "code",
   "execution_count": null,
   "id": "2d21b9b1-0a9f-4bd7-9187-612b82ea7499",
   "metadata": {},
   "outputs": [],
   "source": [
    "public class FragmentA extends Fragment {\n",
    "\n",
    "    private FragmentABinding binding;\n",
    "\n",
    "    @Override\n",
    "    public View onCreateView(LayoutInflater inflater, ViewGroup container,\n",
    "                             Bundle savedInstanceState) {\n",
    "        binding = FragmentABinding.inflate(inflater);\n",
    "\n",
    "        binding.startFragmentB\n",
    "                .setOnClickListener(v -> requireActivity().getSupportFragmentManager()\n",
    "                        .beginTransaction()\n",
    "                        .replace(R.id.fragment_container_view_tag, new FragmentB())\n",
    "                        .commit());\n",
    "\n",
    "        return binding.getRoot();\n",
    "    }\n",
    "}"
   ]
  },
  {
   "cell_type": "markdown",
   "id": "3e20b76c-9274-4572-8788-9635afc2414e",
   "metadata": {},
   "source": [
    "<img src=\"https://media4.giphy.com/media/N7NTTQvqcrkTAoKMjk/giphy.gif?cid=790b761140fc93578af668d97bd08bc5d0393d333789d1f3&rid=giphy.gif&ct=g\" width=\"150\" />"
   ]
  },
  {
   "cell_type": "markdown",
   "id": "051a837b-ddda-43e8-905c-0bf2ca662c5b",
   "metadata": {},
   "source": [
    "Zwróćmy uwagę - naciśnięcie przycisku systemowego 'wstecz' powoduje wyjście z aplikacji. Aby zapewnić nawigację wsteczną po wcześniejszych fragmentach, możemy dodać w transakcjach odpowiednią metodę - `addToBackStack`"
   ]
  },
  {
   "cell_type": "code",
   "execution_count": null,
   "id": "1b2f5976-297b-4c33-b203-7df0da3b24d4",
   "metadata": {},
   "outputs": [],
   "source": [
    "binding.startFragmentB\n",
    "        .setOnClickListener(v -> requireActivity().getSupportFragmentManager()\n",
    "                .beginTransaction()\n",
    "                .replace(R.id.fragment_container_view_tag, new FragmentB())\n",
    "                .addToBackStack(null)\n",
    "                .commit());"
   ]
  },
  {
   "cell_type": "markdown",
   "id": "58f5af82-c466-4364-8661-02a4b7a4c5f5",
   "metadata": {},
   "source": [
    "Metoda `addToBackStack(null)` dodaje transakcję do tzw. back stacka, dzięki czemu użytkownik może cofnąć się do poprzedniego stanu fragmentu poprzez naciśnięcie przycisku \"back\" na urządzeniu.\n",
    "\n",
    "Dzięki tej metodzie możliwe jest ręczne dodawanie i usuwanie fragmentów ze stosu za pomocą metod udostępnianych przez menadżera back stacka. Dzięki temu można dostosować historię nawigacji w aplikacji do własnych potrzeb.\n",
    "\n",
    "Dodajmy tutaj że w celach nawigacji częściej wykorzystuje się `Jetpack Navigation` lub `Compose Navigation` w celu zautromatyzowania zarządzania pamięcią i wykonywaniem transakcji."
   ]
  },
  {
   "cell_type": "markdown",
   "id": "b3632208-05bf-4a27-af45-00782664c32d",
   "metadata": {},
   "source": [
    "<img src=\"https://media2.giphy.com/media/oK1Ui7n1li6cB05v6A/giphy.gif?cid=790b7611b9225c347685d83f7d45d92ed2e04cc4532139fa&rid=giphy.gif&ct=g\" width=\"150\" />"
   ]
  }
 ],
 "metadata": {
  "kernelspec": {
   "display_name": "Kotlin",
   "language": "kotlin",
   "name": "kotlin"
  },
  "language_info": {
   "codemirror_mode": "text/x-kotlin",
   "file_extension": ".kt",
   "mimetype": "text/x-kotlin",
   "name": "kotlin",
   "nbconvert_exporter": "",
   "pygments_lexer": "kotlin",
   "version": "1.8.0-RC"
  }
 },
 "nbformat": 4,
 "nbformat_minor": 5
}
