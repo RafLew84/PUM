{
 "cells": [
  {
   "cell_type": "markdown",
   "id": "a8439157-cba2-4f5f-8912-4454fdee5c1f",
   "metadata": {},
   "source": [
    "## ViewPager2 - FragmentStateAdapter"
   ]
  },
  {
   "cell_type": "markdown",
   "id": "adb77d0d-1ae7-4fe7-a518-9e665a5512df",
   "metadata": {},
   "source": [
    "`ViewPager2` to widok w Androidzie, który umożliwia przewijanie zawartości w poziomie, w sposób podobny do przeglądania slajdów. Jest ulepszoną wersją oryginalnego `ViewPager`, który jest dostępny od wersji Androida 3.0.\n",
    "\n",
    "`ViewPager2` umożliwia łatwe przewijanie między fragmentami lub innymi widokami, które zawierają wiele stron, takich jak obrazy, tekst czy formularze. `ViewPager2` obsługuje gesty przeciągnięcia, umożliwiając użytkownikom przewijanie strony za pomocą palca, a także zapewnia wsparcie dla animacji przewijania, takich jak przesunięcia lub zaciemnienia strony, podczas gdy użytkownik przewija do kolejnej strony. `ViewPager2` jest bardzo elastyczny i można go dostosować do wielu różnych scenariuszy, takich jak pokazywanie fragmentów, listy elementów lub formularzy.\n",
    "\n",
    "Jest często używany wraz z `Adapterem`, który dostarcza `ViewPager2` widoki, które mają być wyświetlane - podobnie jak `RecyclerView`. `ViewPager2` używa adaptera do pobierania i wyświetlania widoków, co umożliwia użytkownikowi przeglądanie różnych stron lub fragmentów."
   ]
  },
  {
   "cell_type": "markdown",
   "id": "569c56e8-ef68-4bf2-b6f2-b7ca36cd1e7c",
   "metadata": {},
   "source": [
    "Lista dostępnych adapterów:\n",
    "\n",
    "- `FragmentStateAdapter` - używany do obsługi fragmentów\n",
    "- `RecyclerView.Adapter` - używany do obsługi list widoków\n",
    "- `PagerAdapter` - pozwala na dostarczenie niestandardowej implementacji `PagerAdapter`."
   ]
  },
  {
   "cell_type": "markdown",
   "id": "e5d3ccb0-7bfc-4a77-aba3-1725fa3cc401",
   "metadata": {},
   "source": [
    "W tej aplikacji wykorzystamy `ViewPager2` z `FragmentStateAdapter` do przełączania się pomiędzy fragmentami"
   ]
  },
  {
   "cell_type": "markdown",
   "id": "1923cb51-1393-4361-a61c-2938cbabbd7e",
   "metadata": {},
   "source": [
    "<img src=\"https://media1.giphy.com/media/wliEyLAjczpotTaO2G/giphy.gif?cid=790b7611c738cd8544979998f3a67fceb1f27b20d4a9e363&rid=giphy.gif&ct=g\" width=\"200\" />"
   ]
  },
  {
   "cell_type": "markdown",
   "id": "59671d44-139e-4006-ad90-11530d402368",
   "metadata": {},
   "source": [
    "W pierwszym kroku dodajmy `TemplateFragment`, który posłuży nam za szablon - wykorzystamy go cztery razy do utworzenia czterech ekranów."
   ]
  },
  {
   "cell_type": "code",
   "execution_count": null,
   "id": "24fbd1f3-9c3e-425e-93a9-29763057cf7b",
   "metadata": {},
   "outputs": [],
   "source": [
    "class TemplateFragment(private val position: Int) : Fragment() {\n",
    "\n",
    "    private lateinit var binding: FragmentTemplateBinding\n",
    "\n",
    "    override fun onCreateView(\n",
    "        inflater: LayoutInflater, container: ViewGroup?,\n",
    "        savedInstanceState: Bundle?\n",
    "    ): View {\n",
    "        binding = FragmentTemplateBinding.inflate(inflater)\n",
    "        return binding.root\n",
    "    }\n",
    "}"
   ]
  },
  {
   "cell_type": "code",
   "execution_count": null,
   "id": "5dc0ff14-742e-421c-98d1-aa56e4b30ed4",
   "metadata": {},
   "outputs": [],
   "source": [
    "<?xml version=\"1.0\" encoding=\"utf-8\"?>\n",
    "<FrameLayout xmlns:android=\"http://schemas.android.com/apk/res/android\"\n",
    "    xmlns:tools=\"http://schemas.android.com/tools\"\n",
    "    android:layout_width=\"match_parent\"\n",
    "    android:layout_height=\"match_parent\"\n",
    "    tools:context=\".TemplateFragment\">\n",
    "\n",
    "\n",
    "    <TextView\n",
    "        android:id=\"@+id/textView\"\n",
    "        android:layout_width=\"match_parent\"\n",
    "        android:layout_height=\"match_parent\"\n",
    "        android:textSize=\"36sp\"\n",
    "        android:gravity=\"center\"\n",
    "        android:text=\"FRAGMENT\" />\n",
    "\n",
    "</FrameLayout>"
   ]
  },
  {
   "cell_type": "markdown",
   "id": "4c4cf5b1-c596-424b-90f9-b0fef121fd7e",
   "metadata": {},
   "source": [
    "Jak widzimy layout zawiera tylko jedno pole `TextView` na którym będziemy wyświetlać nazwę \"Fragment\", wraz z jego pozycją w `FragmentStateAdapter`. Pozycję przekażemy w konstruktorze.\n",
    "\n",
    "Przejdźmy do utworzenia `FragmentStateAdapter` - podobnie jak w przypadku `RecyclerView`, `ViewPager` wymaga adaptera do poprawnego wyświetlania danych. Nasza klasa `PagerAdapter` musi rozszerzać klasę `FragemntStateAdapter`"
   ]
  },
  {
   "cell_type": "code",
   "execution_count": null,
   "id": "e3708f3b-70cd-41ca-8feb-2897d89b5fa4",
   "metadata": {},
   "outputs": [],
   "source": [
    "class PagerBasicAdapter(fragmentActivity: FragmentActivity): FragmentStateAdapter(fragmentActivity) {\n",
    "    override fun getItemCount(): Int {\n",
    "        TODO(\"Not yet implemented\")\n",
    "    }\n",
    "\n",
    "    override fun createFragment(position: Int): Fragment {\n",
    "        TODO(\"Not yet implemented\")\n",
    "    }\n",
    "\n",
    "}"
   ]
  },
  {
   "cell_type": "markdown",
   "id": "ea23770b-d38f-406d-bd2e-bd7cdac3b935",
   "metadata": {},
   "source": [
    "W tym przykładzie będziemy umieszczać `ViewPager` bezpośrednio w `MainActivity`, więc parametrem konstruktora będzie `FragmentActivity` - jeżeli chcemy umieścić go we fragmencie, może przyjmować `Fragment`."
   ]
  },
  {
   "cell_type": "markdown",
   "id": "fae96e51-ef60-4774-920d-afc188d3945b",
   "metadata": {},
   "source": [
    "`FragmentActivity` to klasa bazowa dla aktywności, które chcą korzystać z fragmentów. Jest to rozszerzenie standardowej klasy `Activity`, które dostarcza dodatkowe funkcjonalności związane z obsługą fragmentów.\n",
    "\n",
    "Główną funkcją `FragmentActivity` jest zarządzanie cyklem życia fragmentów i umożliwienie interakcji między fragmentami a aktywnością, w której się znajdują. Dzięki temu można łatwo tworzyć aplikacje składające się z wielu, złożonych fragmentów, które można wyświetlać i układać w różnych konfiguracjach.\n",
    "\n",
    "`FragmentActivity` udostępnia również interfejsy do zarządzania fragmentami, takie jak `FragmentManager`, `FragmentTransaction` czy `OnBackStackChangedListener`, co umożliwia dodawanie, usuwanie i zastępowanie fragmentów oraz obsługę back stacka."
   ]
  },
  {
   "cell_type": "markdown",
   "id": "0a1d3bdf-3d1a-4cf1-aba6-30dd7903d2f9",
   "metadata": {},
   "source": [
    "W odróżnieniu od `RecyclerView.Adapter` tutaj musimy zaimplementować tylko dwie metody. Pierwszą jest `createFragment` która zwraca fragment na odpowiedniej pozycji. Drugą metodą jest `getItemCount` zwracająca liczbę elementów - jest to metoda pochodząca z klasy `RecyclerView.Adapter`, którą `FragmentStateAdapter` rozszerza."
   ]
  },
  {
   "cell_type": "markdown",
   "id": "404c7942-6554-4e95-9721-cbcb180e7d30",
   "metadata": {},
   "source": [
    "Metoda `createFragment` będzie nam zwracać instancję `TemplateFragment`, przez argument przekażemy pozycję która później zostanie wyświetlona w `TextView`.\n",
    "\n",
    "Metoda `getItemCount` zwraca nam liczbę elementów, tutaj będzie ona przechowywana w klasie `MainActivity`"
   ]
  },
  {
   "cell_type": "code",
   "execution_count": null,
   "id": "40717e33-edaf-4787-905a-c8bbccbbfc13",
   "metadata": {},
   "outputs": [],
   "source": [
    "class PagerBasicAdapter(fragmentActivity: FragmentActivity): FragmentStateAdapter(fragmentActivity) {\n",
    "    override fun getItemCount(): Int = 4\n",
    "\n",
    "    override fun createFragment(position: Int): Fragment = TemplateFragment(position)\n",
    "}"
   ]
  },
  {
   "cell_type": "markdown",
   "id": "ef26a3bc-2a73-4799-b196-21e28d2c044a",
   "metadata": {},
   "source": [
    "Dodajmy `ViewPager` do layoutu głównej aktywności"
   ]
  },
  {
   "cell_type": "code",
   "execution_count": null,
   "id": "c07fcdcc-efa1-4353-8b4b-9f02b70b6717",
   "metadata": {},
   "outputs": [],
   "source": [
    "<?xml version=\"1.0\" encoding=\"utf-8\"?>\n",
    "<androidx.constraintlayout.widget.ConstraintLayout xmlns:android=\"http://schemas.android.com/apk/res/android\"\n",
    "    xmlns:app=\"http://schemas.android.com/apk/res-auto\"\n",
    "    xmlns:tools=\"http://schemas.android.com/tools\"\n",
    "    android:layout_width=\"match_parent\"\n",
    "    android:layout_height=\"match_parent\"\n",
    "    tools:context=\".MainActivity\">\n",
    "\n",
    "    <androidx.viewpager2.widget.ViewPager2\n",
    "        android:id=\"@+id/viewPager\"\n",
    "        android:layout_width=\"match_parent\"\n",
    "        android:layout_height=\"match_parent\"\n",
    "        app:layout_constraintBottom_toBottomOf=\"parent\"\n",
    "        app:layout_constraintEnd_toEndOf=\"parent\"\n",
    "        app:layout_constraintStart_toStartOf=\"parent\"\n",
    "        app:layout_constraintTop_toTopOf=\"parent\" />\n",
    "</androidx.constraintlayout.widget.ConstraintLayout>"
   ]
  },
  {
   "cell_type": "markdown",
   "id": "643d9960-2d15-4e25-a45b-233a3ecc44c1",
   "metadata": {},
   "source": [
    "Następnie w metodzie `onCreate` klasy `MainActivity` utworzymy `ViewPager` oraz połączymy z `PagerAdapter` dokładnie w taki sam sposób jak w przypadku `RecyclerView`."
   ]
  },
  {
   "cell_type": "code",
   "execution_count": null,
   "id": "82e721db-08c6-4cd0-9892-aa15ce22948f",
   "metadata": {},
   "outputs": [],
   "source": [
    "class MainActivity : AppCompatActivity() {\n",
    "\n",
    "    private val binding: ActivityMainBinding by lazy { ActivityMainBinding.inflate(layoutInflater) }\n",
    "\n",
    "    override fun onCreate(savedInstanceState: Bundle?) {\n",
    "        super.onCreate(savedInstanceState)\n",
    "        setContentView(binding.root)\n",
    "\n",
    "        binding.viewPager.adapter = PagerBasicAdapter(this)\n",
    "    }\n",
    "}"
   ]
  },
  {
   "cell_type": "markdown",
   "id": "ef81a089-90af-432a-995f-7765901bb5a6",
   "metadata": {},
   "source": [
    "Możemy przetestować aplikację"
   ]
  },
  {
   "cell_type": "markdown",
   "id": "d631b499-4602-4312-a6fe-1b89fe0dbcdb",
   "metadata": {},
   "source": [
    "<img src=\"https://media1.giphy.com/media/wliEyLAjczpotTaO2G/giphy.gif?cid=790b7611c738cd8544979998f3a67fceb1f27b20d4a9e363&rid=giphy.gif&ct=g\" width=\"150\" />"
   ]
  }
 ],
 "metadata": {
  "kernelspec": {
   "display_name": "Kotlin",
   "language": "kotlin",
   "name": "kotlin"
  },
  "language_info": {
   "codemirror_mode": "text/x-kotlin",
   "file_extension": ".kt",
   "mimetype": "text/x-kotlin",
   "name": "kotlin",
   "nbconvert_exporter": "",
   "pygments_lexer": "kotlin",
   "version": "1.8.0-RC"
  }
 },
 "nbformat": 4,
 "nbformat_minor": 5
}
