{
 "cells": [
  {
   "cell_type": "markdown",
   "id": "e9cbc105-9149-4325-805f-5094bf7923d5",
   "metadata": {},
   "source": [
    "## ViewPager2 - RecyclerView.Adapter"
   ]
  },
  {
   "cell_type": "markdown",
   "id": "985ad470-9bab-41fb-8e31-b6b72a346a64",
   "metadata": {},
   "source": [
    "Tym razem napiszemy prostą aplikację wykorzystując `ViewPager` z `RecyclerView.Adapter`"
   ]
  },
  {
   "cell_type": "markdown",
   "id": "c25a2df0-73a3-44bf-acee-9489783c4966",
   "metadata": {},
   "source": [
    "<img src=\"https://media2.giphy.com/media/IxABynoYm0kk5y2D6p/giphy.gif?cid=790b761106f7ee3c6bd2b00ae1183a00d72cde79df168fb3&rid=giphy.gif&ct=g\" width=\"200\" />"
   ]
  },
  {
   "cell_type": "markdown",
   "id": "60dead47-796d-4376-8efd-0ce5b5732c0c",
   "metadata": {},
   "source": [
    "Dane do wyświetlenia będziemy przechowywać w obiekcie `DataProvider`"
   ]
  },
  {
   "cell_type": "code",
   "execution_count": null,
   "id": "31d67084-3d8f-40ef-a1c8-aafb332f08c8",
   "metadata": {},
   "outputs": [],
   "source": [
    "object DataProvider {\n",
    "    val values = listOf(\"pierwszy\", \"drugi\", \"trzeci\")\n",
    "}"
   ]
  },
  {
   "cell_type": "markdown",
   "id": "b3503438-0cee-4d4f-8e94-376bc309f400",
   "metadata": {},
   "source": [
    "Rozpocznijmy od layoutu pojedynczego elementu"
   ]
  },
  {
   "cell_type": "code",
   "execution_count": null,
   "id": "31314740-e47b-46a6-8ed5-464354ca2aa8",
   "metadata": {},
   "outputs": [],
   "source": [
    "<?xml version=\"1.0\" encoding=\"utf-8\"?>\n",
    "<androidx.constraintlayout.widget.ConstraintLayout \n",
    "xmlns:android=\"http://schemas.android.com/apk/res/android\"\n",
    "    android:layout_width=\"match_parent\"\n",
    "    android:layout_height=\"match_parent\">\n",
    "\n",
    "    <TextView\n",
    "        android:id=\"@+id/textView\"\n",
    "        android:layout_width=\"match_parent\"\n",
    "        android:layout_height=\"match_parent\"\n",
    "        android:gravity=\"center\"\n",
    "        android:textSize=\"36sp\"/>\n",
    "\n",
    "</androidx.constraintlayout.widget.ConstraintLayout>"
   ]
  },
  {
   "cell_type": "markdown",
   "id": "3d382399-bf82-4e06-b40a-84f79a98e5e1",
   "metadata": {},
   "source": [
    "Następnie zaimplementujmy `PagerAdapter`, który tym razem będzie rozszerzał klasę `RecyclerView.Adapter` - sama implementacja adaptera nie różni się od wcześniejszych"
   ]
  },
  {
   "cell_type": "code",
   "execution_count": null,
   "id": "5e89dedd-46ed-42b0-8aa2-8543d2c9e785",
   "metadata": {},
   "outputs": [],
   "source": [
    "class PagerBasicAdapter : RecyclerView.Adapter<PagerBasicViewHolder>() {\n",
    "    override fun onCreateViewHolder(parent: ViewGroup, viewType: Int): PagerBasicViewHolder {\n",
    "        return PagerBasicViewHolder(\n",
    "            PagerItemBinding.inflate(\n",
    "                LayoutInflater.from(parent.context), parent, false\n",
    "            ))\n",
    "    }\n",
    "\n",
    "    override fun getItemCount(): Int = DataProvider.values.size\n",
    "\n",
    "    override fun onBindViewHolder(holder: PagerBasicViewHolder, position: Int) {\n",
    "        holder.bind(DataProvider.values[position])\n",
    "    }\n",
    "}"
   ]
  },
  {
   "cell_type": "code",
   "execution_count": null,
   "id": "6b8e9398-0cb2-4a5d-b43c-6f40b19ee6a9",
   "metadata": {},
   "outputs": [],
   "source": [
    "class PagerBasicViewHolder(private val binding: PagerItemBinding) : \n",
    "    RecyclerView.ViewHolder(binding.root) {\n",
    "    fun bind(item: String){\n",
    "        binding.textView.text = item\n",
    "    }\n",
    "}"
   ]
  },
  {
   "cell_type": "markdown",
   "id": "a757e721-feac-40cb-b391-63fa29bbd0e9",
   "metadata": {},
   "source": [
    "Dodajmy `ViewPager` do layoutu głównej aktywności"
   ]
  },
  {
   "cell_type": "code",
   "execution_count": null,
   "id": "0df6dc7f-5b90-4ffb-835d-1fea8f3e6c14",
   "metadata": {},
   "outputs": [],
   "source": [
    "<?xml version=\"1.0\" encoding=\"utf-8\"?>\n",
    "<androidx.constraintlayout.widget.ConstraintLayout \n",
    "xmlns:android=\"http://schemas.android.com/apk/res/android\"\n",
    "    xmlns:app=\"http://schemas.android.com/apk/res-auto\"\n",
    "    xmlns:tools=\"http://schemas.android.com/tools\"\n",
    "    android:layout_width=\"match_parent\"\n",
    "    android:layout_height=\"match_parent\"\n",
    "    tools:context=\".MainActivity\">\n",
    "\n",
    "    <androidx.viewpager2.widget.ViewPager2\n",
    "        android:id=\"@+id/viewPager\"\n",
    "        android:layout_width=\"match_parent\"\n",
    "        android:layout_height=\"match_parent\"/>\n",
    "\n",
    "</androidx.constraintlayout.widget.ConstraintLayout>"
   ]
  },
  {
   "cell_type": "markdown",
   "id": "c84eff1c-e90e-4757-9c80-504dea0bcc5a",
   "metadata": {},
   "source": [
    "Następnie utworzymy `ViewPager` i `PagerAdapter` oraz połączymy wszystko w metodzie `onCreate` klasy `MainActivity`"
   ]
  },
  {
   "cell_type": "code",
   "execution_count": null,
   "id": "9cdddcaa-f0c0-4691-8e7e-376aa5dd44da",
   "metadata": {},
   "outputs": [],
   "source": [
    "class MainActivity : AppCompatActivity() {\n",
    "\n",
    "    private val binding: ActivityMainBinding by lazy { ActivityMainBinding.inflate(layoutInflater) }\n",
    "\n",
    "    override fun onCreate(savedInstanceState: Bundle?) {\n",
    "        super.onCreate(savedInstanceState)\n",
    "        setContentView(binding.root)\n",
    "\n",
    "        binding.viewPager.adapter = PagerBasicAdapter()\n",
    "    }\n",
    "}"
   ]
  },
  {
   "cell_type": "markdown",
   "id": "92e72ec6-c955-4f73-b6e4-633e0bd12019",
   "metadata": {},
   "source": [
    "W tym przypadku `ViewPager` działa jak `RecyclerView` z tą różnicą że wyświetla jeden element na ekranie."
   ]
  },
  {
   "cell_type": "markdown",
   "id": "24e760af-03ab-4786-88c0-364bebddc6c7",
   "metadata": {},
   "source": [
    "<img src=\"https://media2.giphy.com/media/IxABynoYm0kk5y2D6p/giphy.gif?cid=790b761106f7ee3c6bd2b00ae1183a00d72cde79df168fb3&rid=giphy.gif&ct=g\" width=\"150\" />"
   ]
  }
 ],
 "metadata": {
  "kernelspec": {
   "display_name": "Kotlin",
   "language": "kotlin",
   "name": "kotlin"
  },
  "language_info": {
   "codemirror_mode": "text/x-kotlin",
   "file_extension": ".kt",
   "mimetype": "text/x-kotlin",
   "name": "kotlin",
   "nbconvert_exporter": "",
   "pygments_lexer": "kotlin",
   "version": "1.8.0-RC"
  }
 },
 "nbformat": 4,
 "nbformat_minor": 5
}
