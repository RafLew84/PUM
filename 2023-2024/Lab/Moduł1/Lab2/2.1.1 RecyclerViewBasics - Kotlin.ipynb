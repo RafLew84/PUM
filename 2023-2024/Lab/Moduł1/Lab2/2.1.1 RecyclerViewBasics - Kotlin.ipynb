{
 "cells": [
  {
   "cell_type": "markdown",
   "id": "b2bb6dc1-378c-48e0-9b3c-d9bea15dabba",
   "metadata": {},
   "source": [
    "# RecyclerView"
   ]
  },
  {
   "cell_type": "markdown",
   "id": "b60e4675-5880-4979-94e7-0966f1da6063",
   "metadata": {},
   "source": [
    "<img src=\"https://media1.giphy.com/media/1aYopt8vi6oAm9s45P/giphy.gif?cid=790b76118791d2fa03c66cbbac7c9a13d124bc4022b42749&rid=giphy.gif&ct=g\" width=\"200\" />"
   ]
  },
  {
   "cell_type": "markdown",
   "id": "4b5b3d18-15f1-44bd-bab1-f268724c0dfc",
   "metadata": {},
   "source": [
    "`RecyclerView` to widok (`View`) w Androidzie, który umożliwia wyświetlanie dużych i złożonych list w sposób efektywny. `RecyclerView` działa w oparciu o wzorzec projektowy `ViewHolder`, który umożliwia wykorzystanie istniejących elementów widoku do wyświetlania informacji, zamiast tworzenia nowych widoków dla każdego elementu na liście.\n",
    "\n",
    "W `RecyclerView` każdy element listy reprezentowany jest przez obiekt `ViewHolder`, który jest odpowiedzialny za wyświetlanie danych elementu. `RecyclerView` nie tworzy i nie usuwa elementów widoku za każdym razem, gdy element na liście jest przewijany w górę lub w dół. Zamiast tego, używa metody `onBindViewHolder()` do wykorzystania istniejących elementów widoku i zaktualizowania ich zawartości.\n",
    "\n",
    "Umożliwia tworzenie list z różnymi układami (layoutami), w tym listy pionowe i poziome, siatki (grid), kart itp. Oferuje także wiele wbudowanych funkcjonalności, takich jak animacje przewijania, przeciąganie elementów listy, przeciąganie do odświeżenia (swipe-to-refresh) oraz obsługa kliknięć na elementach listy."
   ]
  },
  {
   "cell_type": "markdown",
   "id": "1fd6bd13-4d9b-4fb3-a161-b4551f00f7cc",
   "metadata": {},
   "source": [
    "Głównymi elementami `RecyclerView` są:\n",
    "\n",
    "- `RecyclerView.LayoutManager` - jest odpowiedzialny za zarządzanie układem elementów w `RecyclerView`, tj. decyduje, jak elementy listy są rozmieszczone na ekranie. Android oferuje kilka gotowych menadżerów układu, takich jak `LinearLayoutManager`, `GridLayoutManager`, `StaggeredGridLayoutManager`, które można wykorzystać w zależności od potrzeb.\n",
    "\n",
    "- `RecyclerView.Adapter` - jest odpowiedzialny za dostarczenie danych do `RecyclerView`. `Adapter` tworzy `ViewHolder'y`, przypisuje im odpowiednie dane i umieszcza je w `RecyclerView`. `Adapter` również obsługuje zdarzenia kliknięć na elementach listy.\n",
    "\n",
    "- `RecyclerView.ViewHolder` - reprezentuje pojedynczy element listy. `ViewHolder` zawiera widoki związane z elementem listy, które są wykorzystywane do wyświetlenia informacji na ekranie.\n",
    "\n",
    "Ponadto, istnieje wiele klas wewnętrznych, których wykorzystanie pozwala dodać różne właściwości do naszej listy:\n",
    "\n",
    "- `RecyclerView.ItemDecoration` - pozwala na dodanie dekoracji do elementów w `RecyclerView`, takich jak marginesy, linie oddzielające elementy, itp.\n",
    "\n",
    "- `RecyclerView.ItemAnimator` - umożliwia dodanie animacji podczas dodawania, usuwania i aktualizowania elementów w `RecyclerView`.\n",
    "\n",
    "- `RecyclerView.OnScrollListener` - pozwala na nasłuchiwanie zdarzeń przewijania w RecyclerView.\n",
    "\n",
    "- `RecyclerView.RecycledViewPool` - przechowuje \"pulę\" elementów `ViewHolder`, które zostały usunięte z `RecyclerView`, ale mogą zostać ponownie wykorzystane. Dzięki temu można uniknąć tworzenia nowych elementów `ViewHolder` za każdym razem, gdy element listy zostanie przewinięty na ekran."
   ]
  },
  {
   "cell_type": "markdown",
   "id": "dde6a884-f4d8-4a7e-b263-55741f34e587",
   "metadata": {},
   "source": [
    "W Androidzie dostępne są różne adaptery dla `RecyclerView`. Przykłady:\n",
    "\n",
    "- `RecyclerView.Adapter` - jest podstawowym adapterem dla `RecyclerView`. Jest on używany do wyświetlania listy pojedynczych elementów bez względu na to, jakie są ich typy.\n",
    "\n",
    "- `CursorAdapter` - służy do wyświetlania danych z kursora bazy danych w `RecyclerView`.\n",
    "\n",
    "- `FirebaseRecyclerAdapter` - adapter umożliwiający wyświetlanie danych z `Firebase Realtime Database` w `RecyclerView`.\n",
    "\n",
    "- `ArrayAdapter` - adapter służący do wyświetlania danych z tablicy w `RecyclerView`.\n",
    "\n",
    "- `PagedListAdapter` - specjalny adapter, który umożliwia paginację (ładować pojedyncze strony), co zwiększa wydajność i zmniejsza zużycie pamięci.\n",
    "\n",
    "- `ListAdapter` - adapter, który dziedziczy po `RecyclerView.Adapter` i oferuje dodatkowe funkcjonalności, takie jak automatyczne wykrywanie zmian w danych i wyświetlanie animacji podczas ich aktualizacji.\n",
    "\n",
    "- `GroupAdapter` - adapter umożliwiający łatwe tworzenie grupowanych list, w których elementy można grupować według określonych kryteriów.\n",
    "\n",
    "- `ConcatAdapter` - adapter, który umożliwia łączenie wielu adapterów w jednym `RecyclerView`."
   ]
  },
  {
   "cell_type": "markdown",
   "id": "4cf45fd8-d53c-4be3-9148-c09e8bc6b80a",
   "metadata": {},
   "source": [
    "Nasza aplikacja będzie wykorzystywać tylko podstawowe elementy `RecyclerView` do wyświetlenia listy słów. Rozpoczniemy od utworzenia layoutu pojedynczego elementu listy. Przechodzimy do **res -> layout** i z menu kontekstowego wybieramy **New -> Layout Resource File** i jako nazwę podaję `word_list_item`. Przejdźmy do nowoutworzonego pliku i dodajmy pole `TextView` w którym będziemy wyświetlać słowo."
   ]
  },
  {
   "cell_type": "code",
   "execution_count": null,
   "id": "f4c2f635-7790-44b8-80fd-422641d13464",
   "metadata": {},
   "outputs": [],
   "source": [
    "<?xml version=\"1.0\" encoding=\"utf-8\"?>\n",
    "<LinearLayout\n",
    "    xmlns:android=\"http://schemas.android.com/apk/res/android\"\n",
    "    android:layout_width=\"match_parent\"\n",
    "    android:orientation=\"horizontal\"\n",
    "    android:layout_height=\"wrap_content\">\n",
    "\n",
    "    <TextView\n",
    "        android:id=\"@+id/singleWord\"\n",
    "        android:layout_width=\"match_parent\"\n",
    "        android:layout_height=\"wrap_content\"\n",
    "        android:textSize=\"24sp\"/>\n",
    "\n",
    "</LinearLayout>"
   ]
  },
  {
   "cell_type": "markdown",
   "id": "2bf4d704-d96a-4fc6-a95f-b1f977a4de08",
   "metadata": {},
   "source": [
    "Przejdźmy do pliku `MainActivity.kt` i utwórzmy naszą listę słów"
   ]
  },
  {
   "cell_type": "code",
   "execution_count": null,
   "id": "69e7d8da-b266-4590-80ee-9b43ef922218",
   "metadata": {},
   "outputs": [],
   "source": [
    "private val wordList by lazy { MutableList(50) { \"word $it\" } }"
   ]
  },
  {
   "cell_type": "markdown",
   "id": "e4a8466c-98d7-44a3-985d-404283b12225",
   "metadata": {},
   "source": [
    "Następnie utworzymy klasę `WordListAdapter.kt`"
   ]
  },
  {
   "cell_type": "code",
   "execution_count": null,
   "id": "6cc2e0d9-9db1-46c3-89ab-9165468f3071",
   "metadata": {},
   "outputs": [],
   "source": [
    "class WordListAdapter() : RecyclerView.Adapter<WordListAdapter.WordListViewHolder>()"
   ]
  },
  {
   "cell_type": "markdown",
   "id": "0456c72f-c973-4c85-90de-71f0470848bd",
   "metadata": {},
   "source": [
    "Oraz klasę `WordListViewHolder`"
   ]
  },
  {
   "cell_type": "code",
   "execution_count": null,
   "id": "9c03c449-b361-4e9a-986c-627519579b12",
   "metadata": {},
   "outputs": [],
   "source": [
    "class WordListViewHolder(view: View) : RecyclerView.ViewHolder(view)"
   ]
  },
  {
   "cell_type": "markdown",
   "id": "1b9c1489-ea48-4585-b1ce-b08fe17251d0",
   "metadata": {},
   "source": [
    "Utworzona klasa `WordListViewHolder` musi rozszerzać klasę `ViewHolder` klasy `RecyclerView`. \n",
    "\n",
    "Ponieważ klasa `WordListAdapter` rozszerza klasę `Adapter` więc musi implementować wszystkie jej metody."
   ]
  },
  {
   "cell_type": "code",
   "execution_count": null,
   "id": "9631a8a9-5ede-439f-8aae-6de78ebf1535",
   "metadata": {},
   "outputs": [],
   "source": [
    "class WordListAdapter() : RecyclerView.Adapter<WordListViewHolder>(){\n",
    "    override fun onCreateViewHolder(parent: ViewGroup, viewType: Int): WordListViewHolder {\n",
    "        TODO(\"Not yet implemented\")\n",
    "    }\n",
    "\n",
    "    override fun getItemCount(): Int {\n",
    "        TODO(\"Not yet implemented\")\n",
    "    }\n",
    "\n",
    "    override fun onBindViewHolder(holder: WordListViewHolder, position: Int) {\n",
    "        TODO(\"Not yet implemented\")\n",
    "    }\n",
    "\n",
    "}"
   ]
  },
  {
   "cell_type": "markdown",
   "id": "e6f9cb11-eaca-43ee-8a63-8daf92e9962f",
   "metadata": {},
   "source": [
    "Kod przedstawia szablon adaptera `WordListAdapter` dla `RecyclerView`, który dziedziczy po klasie `RecyclerView.Adapter` i wykorzystuje niestandardowy widok `WordListViewHolder`.\n",
    "\n",
    "- `onCreateViewHolder()` jest wywoływana, kiedy `RecyclerView` potrzebuje nowego widoku elementu listy, aby wyświetlić dane. Metoda ta zwraca nową instancję `WordListViewHolder`, który będzie wykorzystany przez RecyclerView.\n",
    "- `getItemCount()` zwraca liczbę elementów w liście, które będą wyświetlane przez `RecyclerView`.\n",
    "- `onBindViewHolder()` ustawia dane modelu (tutaj pozycję elementu listy) do `WordListViewHolder`, który będzie wykorzystany do wyświetlenia danych."
   ]
  },
  {
   "cell_type": "markdown",
   "id": "e5fb8cc1-1da9-4dc4-bab9-bcada74057ca",
   "metadata": {},
   "source": [
    "Nasz layout elementu listy może być bardzo skomplikowany i zawierać wiele elementów - w tym prostym przykładzie mamy tylko jedno pole `TextView`. W przypadku gdy mamy wiele elementów i chcemy wykonać jakąś akcję - ale na całym elemencie listy a nie na jego części, musimy mieć możliwość zdefiniowania wspólnej metody dla całego elementu. Klasa `ViewHolder` udostępnia `itemView`, który oferuje taką funkcjonalność.\n",
    "\n",
    "Implementację rozpocznijmy od połączenia layoutu elementu z `ViewHolder`. w klasie `WordListViewHolder` dodaję funkcję `bind`."
   ]
  },
  {
   "cell_type": "code",
   "execution_count": null,
   "id": "580c3546-293c-402e-a102-903c6d334faf",
   "metadata": {},
   "outputs": [],
   "source": [
    "class WordListViewHolder(private val binding: WordListItemBinding) :\n",
    "    RecyclerView.ViewHolder(binding.root){\n",
    "    \n",
    "        fun bind(item: String){\n",
    "            binding.singleWord.text = item\n",
    "        }\n",
    "}"
   ]
  },
  {
   "cell_type": "markdown",
   "id": "64629404-efb6-422f-8452-3a9702755620",
   "metadata": {},
   "source": [
    "`WordListViewHolder` dziedziczy po klasie `RecyclerView.ViewHolder` i przyjmuje w konstruktorze obiekt klasy `WordListItemBinding`. Jest to klasa wygenerowana przez system wiążąca widoki z danymi w aplikacji.\n",
    "\n",
    "W metodzie `bind()` przypisywany jest element tekstowy do widoku `singleWord` przechowywanego w binding (plik `single_word_item.xml`). Ta metoda jest wywoływana w metodzie `onBindViewHolder()` klasy adaptera, aby wyświetlić elementy listy w `RecyclerView`.\n",
    "\n",
    "Przejdźmy do klasy `WordListAdapter`, dodajmy listę ze słowami do konstruktora."
   ]
  },
  {
   "cell_type": "code",
   "execution_count": null,
   "id": "ca4063e2-1245-47f7-8dad-9452bcdcb0f7",
   "metadata": {},
   "outputs": [],
   "source": [
    "class WordListAdapter(private val wordList: MutableList<String>) : \n",
    "    RecyclerView.Adapter<WordListViewHolder>(){"
   ]
  },
  {
   "cell_type": "markdown",
   "id": "a194deb5-6007-4b80-ac4f-b153c6a07092",
   "metadata": {},
   "source": [
    "Rozpocznijmy implementację wszystkich metod. Rozpoczniemy od `getItemCount` - metoda zwraca ilość elementów. Tutaj będzie to rozmiar listy"
   ]
  },
  {
   "cell_type": "code",
   "execution_count": null,
   "id": "d778e933-18d2-45df-b36c-7121d2dfe3d8",
   "metadata": {},
   "outputs": [],
   "source": [
    "override fun getItemCount() = wordList.size"
   ]
  },
  {
   "cell_type": "markdown",
   "id": "c99015bf-25d5-4f01-a74f-f2916043f302",
   "metadata": {},
   "source": [
    "Przejdźmy do metody `onCreateViewHolder`. Metoda zwraca `ViewHolder`, więc wywołujemy konstruktor klasy `WordListViewHolder`. "
   ]
  },
  {
   "cell_type": "code",
   "execution_count": null,
   "id": "5004fa80-e853-4331-86cb-e5a815df0d0d",
   "metadata": {},
   "outputs": [],
   "source": [
    "override fun onCreateViewHolder(parent: ViewGroup, viewType: Int): WordListViewHolder {\n",
    "    return WordListViewHolder(\n",
    "        WordListItemBinding.inflate(\n",
    "        LayoutInflater.from(parent.context), parent, false\n",
    "    ))\n",
    "}"
   ]
  },
  {
   "cell_type": "markdown",
   "id": "64e5db47-b0f0-4879-8848-a8199e71d354",
   "metadata": {},
   "source": [
    "Metoda `onCreateViewHolder` jest wywoływana przez `RecyclerView` za każdym razem, gdy potrzebny jest nowy `ViewHolder`, czyli w momencie, gdy listę należy wyświetlić na ekranie lub gdy `RecyclerView` przewija listę i konieczne jest utworzenie nowych widoków dla elementów, które wchodzą do obszaru widoczności.\n",
    "\n",
    "W tym kodzie metoda ta zwraca nowy obiekt klasy `WordListViewHolder` za pomocą konstruktora, który przyjmuje obiekt klasy `WordListItemBinding`. Obiekt ten zostaje utworzony za pomocą metody `inflate()` z klasy `WordListItemBinding` i przekazany z wykorzystaniem klasy `LayoutInflater`. \n",
    "\n",
    "`LayoutInflater` umożliwia zamianę pliku układu na widok, który można wyświetlić w aplikacji, tworzy obiekty `View` na podstawie pliku `xml` ze zdefiniowanym layoutem. Instancję `LayoutInflater` otrzymujemy wywołując metodę `from` i przekazując do niej `Context`. `Context` zawiera informacje o całym środowisku naszej aplikacji i o jej aktualnym stanie. Dzięki tej klasie (implementowanej automatycznie) możemy uzyskać dostęp do zasobów naszej aplikacji, mamy możliwość interakcji pomiędzy różnymi komponentami aplikacji. Wywołujemy metodę `inflate` na obiekcie `LayoutInflater`, tworzy ona hierarchię obiektów na podstawie pliku `xml`. \n",
    "\n",
    "W konstruktorze `WordListItemBinding.inflate()` jako pierwszy argument przekazywany jest `LayoutInflater` pobrany z kontekstu rodzica (w tym przypadku rodzica `RecyclerView`). Jako drugi argument przekazywany jest `parent` (`ViewGroup`), czyli kontener, do którego zostanie umieszczony widok, a jako trzeci argument (`attachToRoot`) podawana jest wartość `false`, co oznacza, że nowy widok ma zostać dołączony do kontenera dopiero w momencie, gdy będzie gotowy.\n",
    "\n",
    "Ostatnią metodą jest `onBindViewHolder`, tutaj połączymy dane z odpowiednimi elementami layoutu"
   ]
  },
  {
   "cell_type": "code",
   "execution_count": null,
   "id": "1414044d-cc22-4536-a178-9d3cc354f9f8",
   "metadata": {},
   "outputs": [],
   "source": [
    "override fun onBindViewHolder(holder: WordListViewHolder, position: Int) {\n",
    "    val currentItem = wordList[position]\n",
    "    holder.bind(currentItem)\n",
    "}"
   ]
  },
  {
   "cell_type": "markdown",
   "id": "15239a88-31e7-46b6-8fed-9f8871c99b4d",
   "metadata": {},
   "source": [
    "Ta metoda jest wywoływana przez `RecyclerView` w celu wyświetlenia danych w określonym elemencie wiersza, który jest powiązany z tym adapterem.\n",
    "\n",
    "`currentItem` jest pozycją elementu w danych, która jest pobierana z listy `wordList` na podstawie numeru `position`. Metoda `bind` w klasie `WordListViewHolder` jest odpowiedzialna za ustawienie odpowiedniego tekstu w widoku `TextView`, który jest częścią układu elementu listy.\n",
    "\n",
    "Metoda przypisuje zawartość elementu z danej pozycji `wordList` do widoku `TextView` w danym wierszu listy za pomocą `bind()`, co umożliwia wyświetlenie zawartości elementów w `Recycler View`.\n",
    "\n",
    "Pełny kod klasy `WordListAdapter`"
   ]
  },
  {
   "cell_type": "code",
   "execution_count": null,
   "id": "75265f68-5091-44b9-9084-aae86b4bc468",
   "metadata": {},
   "outputs": [],
   "source": [
    "package com.example.a11_recyclerviewbasics_kotlin\n",
    "\n",
    "class WordListAdapter(private val wordList: MutableList<String>) :\n",
    "    RecyclerView.Adapter<WordListViewHolder>(){\n",
    "    override fun onCreateViewHolder(parent: ViewGroup, viewType: Int): WordListViewHolder {\n",
    "        return WordListViewHolder(\n",
    "            WordListItemBinding.inflate(\n",
    "            LayoutInflater.from(parent.context), parent, false\n",
    "        ))\n",
    "    }\n",
    "\n",
    "    override fun getItemCount(): Int = wordList.size\n",
    "\n",
    "    override fun onBindViewHolder(holder: WordListViewHolder, position: Int) {\n",
    "        val currentItem = wordList[position]\n",
    "        holder.bind(currentItem)\n",
    "    }\n",
    "\n",
    "}"
   ]
  },
  {
   "cell_type": "markdown",
   "id": "5aee5a9f-1a83-4ec1-8c7c-0ad6137b73e4",
   "metadata": {},
   "source": [
    "Dodajmy `RecyclerView` do `MainActivity`, w pierwszym kroku zmodyfikujemy layout."
   ]
  },
  {
   "cell_type": "code",
   "execution_count": null,
   "id": "932f89ea-a845-4278-9ab4-f7dbad93415f",
   "metadata": {},
   "outputs": [],
   "source": [
    "<?xml version=\"1.0\" encoding=\"utf-8\"?>\n",
    "<LinearLayout xmlns:android=\"http://schemas.android.com/apk/res/android\"\n",
    "    xmlns:app=\"http://schemas.android.com/apk/res-auto\"\n",
    "    xmlns:tools=\"http://schemas.android.com/tools\"\n",
    "    android:layout_width=\"match_parent\"\n",
    "    android:layout_height=\"wrap_content\"\n",
    "    tools:context=\".MainActivity\">\n",
    "\n",
    "    <androidx.recyclerview.widget.RecyclerView\n",
    "        android:id=\"@+id/recyclerView\"\n",
    "        android:layout_width=\"match_parent\"\n",
    "        android:layout_height=\"wrap_content\" />\n",
    "\n",
    "</LinearLayout>"
   ]
  },
  {
   "cell_type": "markdown",
   "id": "574219f0-4984-417e-9bef-3f5b4752124f",
   "metadata": {},
   "source": [
    "Następnie w klasie `MainActivity.kt` dodajemy `RecyclerView` i łączymy go z elementem layoutu. Następnie musimy utworzyć `WordListAdapter` i wskazać go jako adapter utworzonego `RecyclerView` przez wywołanie metody `setAdapter` (tutaj przez właściwość `adapter`)."
   ]
  },
  {
   "cell_type": "code",
   "execution_count": null,
   "id": "d3251816-c853-45df-8689-26619410d325",
   "metadata": {},
   "outputs": [],
   "source": [
    "binding.recyclerView.apply {\n",
    "    adapter = WordListAdapter(wordList)\n",
    "    layoutManager = LinearLayoutManager(this@MainActivity)\n",
    "}"
   ]
  },
  {
   "cell_type": "markdown",
   "id": "4e34d523-d20e-41d2-a63a-3421d28f8787",
   "metadata": {},
   "source": [
    "Ustawiamy adapter i menedżera układu dla `RecyclerView` na podstawie danych `wordList` i kontekstu aktywności `MainActivity`.\n",
    "\n",
    "`LinearLayoutManager(this@MainActivity)` tworzy nowy obiekt `LinearLayoutManager`, który zarządza położeniem elementów w `RecyclerView`. Argument `this@MainActivity` odnosi się do aktywności, w której znajduje się `RecyclerView`."
   ]
  },
  {
   "cell_type": "markdown",
   "id": "3e26ecc9-50db-4095-bc37-b23be9b48ed1",
   "metadata": {},
   "source": [
    "Na tym etapie możemy zbudować i przetestować naszą aplikację."
   ]
  },
  {
   "cell_type": "markdown",
   "id": "8259bd17-4c41-459f-b8c5-a6bf190127f5",
   "metadata": {},
   "source": [
    "## **Dodanie obsługi `onClick` dla każdego elementu listy**\n",
    "\n",
    "Kolejnym etapem będzie dodanie wspólnej obsługi metody `onClick`. W tym celu przechodzimy do klasy `WordListAdapter` i w metodzie `onBindViewHolder` klasy `WordListViewHolder` dodajemy obsługę `onClick` na `itemView`"
   ]
  },
  {
   "cell_type": "code",
   "execution_count": null,
   "id": "068db19f-85a2-4773-b9ec-f7e75b0c0af8",
   "metadata": {},
   "outputs": [],
   "source": [
    "fun bind(item: String) {\n",
    "    binding.singleWord.text = item\n",
    "    binding.root.setOnClickListener {\n",
    "        val element = binding.singleWord.text\n",
    "        binding.singleWord.text = \"Clicked $element\"\n",
    "    }\n",
    "}"
   ]
  },
  {
   "cell_type": "markdown",
   "id": "14555a36-a69e-4c65-a8ee-14f0cad8b796",
   "metadata": {},
   "source": [
    "Teraz po każdym kliknięciu na element na liście zostanie zmodyfikowany wyświetlany napis.\n",
    "\n",
    "Tutaj warto zaznaczyć że nie jest to najbardziej optymalne podejście do zaimplementowania `onClickListener` na elemenetach `RecyclerView`, ponieważ przy każdym wywołaniu `bind` (czyli każdym wywołaniu `onBindViewHolder`) tworzone są obiekty implementujące interfejs `onClickListener` - taki obiekt zazwyczaj chcemy utworzyć jeden raz - takie wykonanie pojawi się w późniejszych przykładach."
   ]
  },
  {
   "cell_type": "markdown",
   "id": "41fae8f0-1881-4fc0-aa8a-150a9f2c6320",
   "metadata": {},
   "source": [
    "<img src=\"https://media1.giphy.com/media/1aYopt8vi6oAm9s45P/giphy.gif?cid=790b76118791d2fa03c66cbbac7c9a13d124bc4022b42749&rid=giphy.gif&ct=g\" width=\"200\" />"
   ]
  },
  {
   "cell_type": "markdown",
   "id": "fc1d4658-c7e9-4e42-a39c-a96206fab293",
   "metadata": {},
   "source": [
    "Zmodyfikujmy metodę `onCLick` w klasie `WordListAdapter` aby również zmieniać kolor tła `TextView`"
   ]
  },
  {
   "cell_type": "code",
   "execution_count": null,
   "id": "762746b5-ccf8-4c48-b34f-6ca45133955f",
   "metadata": {},
   "outputs": [],
   "source": [
    "fun bind(item: String) {\n",
    "    binding.singleWord.text = item\n",
    "    binding.root.setOnClickListener {\n",
    "        val element = binding.singleWord.text\n",
    "        binding.singleWord.text = \"Clicked $element\"\n",
    "        binding.singleWord.setBackgroundColor(Color.CYAN)\n",
    "    }\n",
    "}"
   ]
  },
  {
   "cell_type": "markdown",
   "id": "f4f3b590-c725-48ab-a1ed-ad654d3f5a3a",
   "metadata": {},
   "source": [
    "Po zbudowaniu projektu projektu zobaczymy nieoczekiwany efekt."
   ]
  },
  {
   "cell_type": "markdown",
   "id": "47de088d-e3f1-4a0d-8aea-1c6b931fadd5",
   "metadata": {},
   "source": [
    "<img src=\"https://media2.giphy.com/media/a3fwOfI4AvhPzl0wbN/giphy.gif?cid=790b76113597bf172fcd25f11ee2cc82d767651fc679551d&rid=giphy.gif&ct=g\" width=\"200\" />"
   ]
  },
  {
   "cell_type": "markdown",
   "id": "293ff947-14a2-413f-8681-9c78215b62ba",
   "metadata": {},
   "source": [
    "Powodem takiego działania jest zarządzanie pamięcią przez klasę `RecyclerView`. Jak sama nazwa wskazuje, mamy do czynienia z wielokrotnym wykorzystaniem elementów - `RecyclerView` wielokrotnie wykorzystuje te same kontenery, zmianie ulegają tylko dane."
   ]
  },
  {
   "cell_type": "markdown",
   "id": "464291f9-af3a-46c0-833b-4bc9d3424136",
   "metadata": {},
   "source": [
    "<img src=\"https://miro.medium.com/max/1400/1*PXa-ldDs870_hmvwOwjuyQ.png\" width=\"500\" />"
   ]
  }
 ],
 "metadata": {
  "kernelspec": {
   "display_name": "Kotlin",
   "language": "kotlin",
   "name": "kotlin"
  },
  "language_info": {
   "codemirror_mode": "text/x-kotlin",
   "file_extension": ".kt",
   "mimetype": "text/x-kotlin",
   "name": "kotlin",
   "nbconvert_exporter": "",
   "pygments_lexer": "kotlin",
   "version": "1.8.0-RC"
  }
 },
 "nbformat": 4,
 "nbformat_minor": 5
}
