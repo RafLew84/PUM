{
 "cells": [
  {
   "cell_type": "markdown",
   "id": "e67bf083-6c39-4fd9-bf99-6ad2701785c4",
   "metadata": {},
   "source": [
    "# Static Fragment - Podstawy"
   ]
  },
  {
   "cell_type": "markdown",
   "id": "e49fdf12-b64f-46b4-a301-78fd639427df",
   "metadata": {},
   "source": [
    "`Fragment` to jednostka interfejsu użytkownika (UI), która reprezentuje pewien fragment ekranu lub interakcję użytkownika z aplikacją. Fragmenty są często używane w aplikacjach mobilnych, aby poprawić ich wydajność i interakcję, umożliwiając programistom wielokrotne użycie części kodu UI w różnych częściach aplikacji. Fragmenty mogą być dodawane do aktywności lub innych fragmentów, a ich wygląd i zachowanie można modyfikować zgodnie z potrzebami aplikacji.\n",
    "\n",
    "Fragmenty pozwalają na lepsze zarządzanie interfejsem użytkownika aplikacji poprzez dostarczenie elastycznej architektury, która umożliwia łatwe i zwinne przenoszenie fragmentów pomiędzy różnymi częściami interfejsu użytkownika. Dzięki temu użytkownik może łatwo korzystać z aplikacji na różnych urządzeniach mobilnych z różnymi rozmiarami ekranu."
   ]
  },
  {
   "cell_type": "markdown",
   "id": "8b723ccb-b2f1-40a4-a45b-81a53220af38",
   "metadata": {},
   "source": [
    "- Aktywność jest głównym elementem interfejsu użytkownika w Androidzie, podczas gdy Fragment reprezentuje tylko część interfejsu użytkownika, którą można dodać do Aktywności.\n",
    "- Aktywność może działać jako niezależny element, podczas gdy Fragment zawsze musi być powiązany z Aktywnością. Jedna Aktywność może zawierać wiele Fragmentów.\n",
    "- Życie Aktywności jest bezpośrednio związane z cyklem życia całej aplikacji, podczas gdy Fragment ma swój własny cykl życia zależny od cyklu życia Aktywności, do której jest dołączony.\n",
    "- Fragmenty umożliwiają łatwe ponowne wykorzystanie kodu interfejsu użytkownika i łatwiejsze zarządzanie interakcjami użytkownika z interfejsem."
   ]
  },
  {
   "cell_type": "markdown",
   "id": "9233122d-19f4-4e7d-ab08-7e4346a0a5bd",
   "metadata": {},
   "source": [
    "W Androidzie istnieją dwa typy fragmentów: **statyczne** i **dynamiczne**.\n",
    "\n",
    "Fragment statyczny jest definiowany w pliku `XML` layoutu dla danej aktywności. Jest to fragment, który jest zawsze obecny na ekranie i nie może być dodany lub usunięty w trakcie działania aplikacji. Fragment statyczny jest często używany, gdy elementy UI muszą być podzielone na części, ale układ nie zmienia się podczas działania aplikacji.\n",
    "\n",
    "Fragment dynamiczny jest tworzony i dodawany do aktywności w trakcie działania aplikacji. Może być dodany, usunięty lub zastąpiony innym fragmentem w trakcie działania aplikacji. Fragment dynamiczny jest używany, gdy elementy UI muszą być zmieniane lub gdy aplikacja wymaga interakcji użytkownika, aby przejść do innych widoków.\n",
    "\n",
    "Podsumowując, fragment statyczny jest zawsze obecny na ekranie i nie może być dodany lub usunięty w trakcie działania aplikacji, podczas gdy fragment dynamiczny może być dodawany, usuwany lub zastępowany innymi fragmentami w trakcie działania aplikacji."
   ]
  },
  {
   "cell_type": "markdown",
   "id": "efd748c2-9f77-467e-a40b-390e835f5316",
   "metadata": {},
   "source": [
    "Aplikacja będzie zawierała jedną aktywność do której statycznie dodamy fragment"
   ]
  },
  {
   "cell_type": "markdown",
   "id": "9b463e66-37d5-4716-a346-99925fd3ef71",
   "metadata": {},
   "source": [
    "Dodajmy do projektu klasę o nazwie `FragmentA` rozszerzającą klasę `Fragment`"
   ]
  },
  {
   "cell_type": "code",
   "execution_count": null,
   "id": "bd3a286e-3aed-401d-9ebd-7676df23b7f9",
   "metadata": {},
   "outputs": [],
   "source": [
    "class FragmentA : Fragment() {\n",
    "}"
   ]
  },
  {
   "cell_type": "markdown",
   "id": "cc8e8097-9621-46f0-afd1-41c8d77740bb",
   "metadata": {},
   "source": [
    "Następnie utwórzmy plik layoutu o nazwie `fragment_a`"
   ]
  },
  {
   "cell_type": "code",
   "execution_count": null,
   "id": "4a8bc1e4-4183-4c31-a787-58bfac41e417",
   "metadata": {},
   "outputs": [],
   "source": [
    "<?xml version=\"1.0\" encoding=\"utf-8\"?>\n",
    "<androidx.constraintlayout.widget.ConstraintLayout \n",
    "xmlns:android=\"http://schemas.android.com/apk/res/android\"\n",
    "    xmlns:app=\"http://schemas.android.com/apk/res-auto\"\n",
    "    xmlns:tools=\"http://schemas.android.com/tools\"\n",
    "    android:layout_width=\"match_parent\"\n",
    "    android:layout_height=\"match_parent\"\n",
    "    android:background=\"#FFF444\">\n",
    "\n",
    "    <TextView\n",
    "        android:id=\"@+id/textView\"\n",
    "        android:layout_width=\"wrap_content\"\n",
    "        android:layout_height=\"wrap_content\"\n",
    "        android:text=\"FragmentA\"\n",
    "        android:textColor=\"@color/black\"\n",
    "        android:textSize=\"36sp\"\n",
    "        app:layout_constraintBottom_toBottomOf=\"parent\"\n",
    "        app:layout_constraintEnd_toEndOf=\"parent\"\n",
    "        app:layout_constraintStart_toStartOf=\"parent\"\n",
    "        app:layout_constraintTop_toTopOf=\"parent\" />\n",
    "</androidx.constraintlayout.widget.ConstraintLayout>"
   ]
  },
  {
   "cell_type": "markdown",
   "id": "3febc591-87a7-453a-8a1c-1b2ae2c03dca",
   "metadata": {},
   "source": [
    "I uzupełnijmy klasę `FragmentA` o metodę `onCreateView`"
   ]
  },
  {
   "cell_type": "code",
   "execution_count": null,
   "id": "a54a2ac3-663d-4ea4-a568-d9b7ea96e96f",
   "metadata": {},
   "outputs": [],
   "source": [
    "class FragmentA : Fragment() {\n",
    "\n",
    "    private lateinit var binding: FragmentABinding\n",
    "\n",
    "    override fun onCreateView(\n",
    "        inflater: LayoutInflater, container: ViewGroup?,\n",
    "        savedInstanceState: Bundle?\n",
    "    ): View? {\n",
    "        binding = FragmentABinding.inflate(inflater, container, false)\n",
    "        return binding.root\n",
    "    }\n",
    "}"
   ]
  },
  {
   "cell_type": "markdown",
   "id": "29e2f58c-7edf-4d85-a797-72b6371b15eb",
   "metadata": {},
   "source": [
    "Następnie utwórzmy analogicznie klasę `FragmentB`"
   ]
  },
  {
   "cell_type": "code",
   "execution_count": null,
   "id": "a776be63-b27d-4cc0-b60c-03c4236d7916",
   "metadata": {},
   "outputs": [],
   "source": [
    "<?xml version=\"1.0\" encoding=\"utf-8\"?>\n",
    "<androidx.constraintlayout.widget.ConstraintLayout xmlns:android=\"http://schemas.android.com/apk/res/android\"\n",
    "    xmlns:app=\"http://schemas.android.com/apk/res-auto\"\n",
    "    xmlns:tools=\"http://schemas.android.com/tools\"\n",
    "    android:layout_width=\"match_parent\"\n",
    "    android:layout_height=\"match_parent\">\n",
    "\n",
    "    <TextView\n",
    "        android:id=\"@+id/textView\"\n",
    "        android:layout_width=\"wrap_content\"\n",
    "        android:layout_height=\"wrap_content\"\n",
    "        android:text=\"FragmentB\"\n",
    "        android:textColor=\"@color/black\"\n",
    "        android:textSize=\"36sp\"\n",
    "        app:layout_constraintBottom_toBottomOf=\"parent\"\n",
    "        app:layout_constraintEnd_toEndOf=\"parent\"\n",
    "        app:layout_constraintStart_toStartOf=\"parent\"\n",
    "        app:layout_constraintTop_toTopOf=\"parent\" />\n",
    "</androidx.constraintlayout.widget.ConstraintLayout>"
   ]
  },
  {
   "cell_type": "code",
   "execution_count": null,
   "id": "6839cb06-c036-4308-8277-a27b6555d125",
   "metadata": {},
   "outputs": [],
   "source": [
    "class FragmentB : Fragment() {\n",
    "\n",
    "    private lateinit var binding: FragmentBBinding\n",
    "\n",
    "    override fun onCreateView(\n",
    "        inflater: LayoutInflater, container: ViewGroup?,\n",
    "        savedInstanceState: Bundle?\n",
    "    ): View? {\n",
    "        binding = FragmentBBinding.inflate(inflater, container, false)\n",
    "        return binding.root\n",
    "    }\n",
    "}"
   ]
  },
  {
   "cell_type": "markdown",
   "id": "aaef5829-1117-4f43-a9d7-853d66e22392",
   "metadata": {},
   "source": [
    "Następnie do layoutu `MainActivity` dodamy oba fragmenty"
   ]
  },
  {
   "cell_type": "code",
   "execution_count": null,
   "id": "137e1529-4592-4d2b-8503-154213fb951e",
   "metadata": {},
   "outputs": [],
   "source": [
    "<?xml version=\"1.0\" encoding=\"utf-8\"?>\n",
    "<LinearLayout xmlns:android=\"http://schemas.android.com/apk/res/android\"\n",
    "    xmlns:app=\"http://schemas.android.com/apk/res-auto\"\n",
    "    xmlns:tools=\"http://schemas.android.com/tools\"\n",
    "    android:layout_width=\"match_parent\"\n",
    "    android:layout_height=\"match_parent\"\n",
    "    android:orientation=\"vertical\"\n",
    "    tools:context=\".MainActivity\">\n",
    "\n",
    "    <fragment\n",
    "        android:id=\"@+id/fragmentA\"\n",
    "        android:layout_width=\"match_parent\"\n",
    "        android:layout_height=\"0dp\"\n",
    "        android:layout_weight=\"1\"\n",
    "        android:name=\"com.example.a31_statiicfragmentbasics_kotlin.FragmentA\"/>\n",
    "\n",
    "    <fragment\n",
    "        android:id=\"@+id/fragmentB\"\n",
    "        android:layout_width=\"match_parent\"\n",
    "        android:layout_height=\"0dp\"\n",
    "        android:layout_weight=\"1\"\n",
    "        android:name=\"com.example.a31_statiicfragmentbasics_kotlin.FragmentB\"/>\n",
    "\n",
    "</LinearLayout>"
   ]
  },
  {
   "cell_type": "markdown",
   "id": "f1004748-115e-437c-a7b7-a7062f5139d2",
   "metadata": {},
   "source": [
    "Statycznie fragmenty dodajemy jako `<fragment />` - tutaj powinien pojawić się warning o zamianie na `fragmentContainer` ale w tym przykładzie go zignorujemy.\n",
    "\n",
    "W efekcie ekran główny naszej aplikacji mamy podzielony na dwa fragmenty, którymi możemy zarządzać niezależnie."
   ]
  }
 ],
 "metadata": {
  "kernelspec": {
   "display_name": "Kotlin",
   "language": "kotlin",
   "name": "kotlin"
  },
  "language_info": {
   "codemirror_mode": "text/x-kotlin",
   "file_extension": ".kt",
   "mimetype": "text/x-kotlin",
   "name": "kotlin",
   "nbconvert_exporter": "",
   "pygments_lexer": "kotlin",
   "version": "1.8.20"
  }
 },
 "nbformat": 4,
 "nbformat_minor": 5
}
