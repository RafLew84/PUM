{
 "cells": [
  {
   "cell_type": "markdown",
   "id": "f1141a93-e7d0-4a8d-9bbc-d26c46dc7d03",
   "metadata": {},
   "source": [
    "# Dynamic Fragment"
   ]
  },
  {
   "cell_type": "markdown",
   "id": "548b6605-3a57-4a49-9e9a-18d839226c6b",
   "metadata": {},
   "source": [
    "Dynamiczny fragment to obiekt klasy `Fragment` w Androidzie, który można dodać, usunąć lub zastąpić w trakcie działania aplikacji. Oznacza to, że możemy dodawać lub usuwać fragmenty dynamicznie w trakcie działania aplikacji, w przeciwieństwie do fragmentów statycznych, które są zdefiniowane w pliku `XML` i są ładowane podczas tworzenia widoku.\n",
    "\n",
    "Dynamiczne fragmenty pozwalają na elastyczne zarządzanie układem aplikacji i umożliwiają łatwe przystosowanie interfejsu użytkownika do różnych rozmiarów ekranów. Pozwalają również na separację logiki biznesowej i widoku.\n",
    "\n",
    "Aby dodać dynamiczny fragment, należy utworzyć instancję klasy `Fragment`, a następnie użyć metody `FragmentManager.beginTransaction()`, aby rozpocząć transakcję fragmentu. Następnie można dodać, usunąć lub zastąpić fragmenty w trakcie działania aplikacji, a zmiany zostaną automatycznie zastosowane w interfejsie użytkownika."
   ]
  },
  {
   "cell_type": "markdown",
   "id": "2cbbfada-5995-461e-8c5c-977ea2b2735c",
   "metadata": {},
   "source": [
    "W tej aplikacji posłużymy się trzema fragmentami które będą hostowane przez pojedynczą aktywność - fragmenty będziemy dodawać i podmieniać w sposób dynamiczny.\n",
    "\n",
    "Aplikacja będzie posiadała jedną aktywność hostującą, zawierającą jedynie `FragmentContainerView` w pliku layoutu"
   ]
  },
  {
   "cell_type": "code",
   "execution_count": null,
   "id": "1b845c2b-1bbf-4523-9b76-f206a1c4b991",
   "metadata": {},
   "outputs": [],
   "source": [
    "<?xml version=\"1.0\" encoding=\"utf-8\"?>\n",
    "<androidx.constraintlayout.widget.ConstraintLayout \n",
    "xmlns:android=\"http://schemas.android.com/apk/res/android\"\n",
    "    xmlns:app=\"http://schemas.android.com/apk/res-auto\"\n",
    "    xmlns:tools=\"http://schemas.android.com/tools\"\n",
    "    android:layout_width=\"match_parent\"\n",
    "    android:layout_height=\"match_parent\"\n",
    "    tools:context=\".MainActivity\">\n",
    "\n",
    "    <androidx.fragment.app.FragmentContainerView\n",
    "        android:id=\"@+id/fragment_container_view_tag\"\n",
    "        android:layout_width=\"match_parent\"\n",
    "        android:layout_height=\"match_parent\"\n",
    "        app:layout_constraintBottom_toBottomOf=\"parent\"\n",
    "        app:layout_constraintEnd_toEndOf=\"parent\"\n",
    "        app:layout_constraintStart_toStartOf=\"parent\"\n",
    "        app:layout_constraintTop_toTopOf=\"parent\" />\n",
    "\n",
    "</androidx.constraintlayout.widget.ConstraintLayout>"
   ]
  },
  {
   "cell_type": "markdown",
   "id": "c8377363-0933-45f5-b2a1-e437d1567cbd",
   "metadata": {},
   "source": [
    "Następnie dodajmy do aplikacji klasę `MainFragment` - fragment, który będzie wyświetlany po uruchomieniu aplikacji. Rozpocznijmy od layoutu"
   ]
  },
  {
   "cell_type": "code",
   "execution_count": null,
   "id": "86fa8033-27a3-4d35-890c-f0d3588b6f9f",
   "metadata": {},
   "outputs": [],
   "source": [
    "<?xml version=\"1.0\" encoding=\"utf-8\"?>\n",
    "<LinearLayout xmlns:android=\"http://schemas.android.com/apk/res/android\"\n",
    "    xmlns:app=\"http://schemas.android.com/apk/res-auto\"\n",
    "    xmlns:tools=\"http://schemas.android.com/tools\"\n",
    "    android:orientation=\"vertical\"\n",
    "    android:layout_width=\"match_parent\"\n",
    "    android:layout_height=\"match_parent\">\n",
    "\n",
    "    <TextView\n",
    "        android:id=\"@+id/textView\"\n",
    "        android:textSize=\"36sp\"\n",
    "        android:textColor=\"@color/black\"\n",
    "        android:textAlignment=\"center\"\n",
    "        android:layout_gravity=\"center_horizontal\"\n",
    "        android:layout_marginTop=\"20dp\"\n",
    "        android:layout_width=\"match_parent\"\n",
    "        android:layout_height=\"wrap_content\"\n",
    "        android:text=\"MAIN FRAGMENT\" />\n",
    "</LinearLayout>"
   ]
  },
  {
   "cell_type": "markdown",
   "id": "ed756301-654b-4a46-86b9-d057db983481",
   "metadata": {},
   "source": [
    "Przejdźmy do `MainActivity`. W metodzie `onCreate` dodamy `MainFragment` do `FragmentContainerView` - wykonujemy tą czynność poprzez mechanizm transakcji."
   ]
  },
  {
   "cell_type": "markdown",
   "id": "9281cff4-7f8c-424f-a26c-fcf088daa2f7",
   "metadata": {},
   "source": [
    "Wywołujemy metodę `getSupportFragmentManager`, która zwraca instancję klasy `SupportFragmentManager` - jest to klasa odpowiedzialna za wykonywanie akcji na fragmentach w naszej aplikacji. Następnie wywołujemy metodę `beginTransaction` rozpoczynającą transakcję.\n",
    "\n",
    "Wpierw chcemy dodać fragment, więc wywołujemy metodę `add`, przyjmuje dwa argumenty\n",
    "- `containerView` - kontener do którego ma zostać dodany fragment\n",
    "- `fragment` - fragment który ma zostać dodany\n",
    "\n",
    "Transakcję kończymy wywołując metodę `commit`"
   ]
  },
  {
   "cell_type": "code",
   "execution_count": null,
   "id": "dac36980-af3b-4a79-a22c-0cb1dc31108e",
   "metadata": {},
   "outputs": [],
   "source": [
    "supportFragmentManager\n",
    "    .beginTransaction()\n",
    "    .add(R.id.fragment_container_view_tag, MainFragment())\n",
    "    .commit()"
   ]
  },
  {
   "cell_type": "markdown",
   "id": "36790f49-eb15-47f8-81d1-b53c6cdb8a1b",
   "metadata": {},
   "source": [
    "Metoda `beginTransaction()` rozpoczyna nową transakcję, która pozwala na dodawanie, usuwanie i zamienianie fragmentów. Metoda `replace()` zastępuje zawartość kontenera fragmentów określonego przez `R.id.fragment_container_view_tag` kontenerem nowego fragmentu `MainFragment`.\n",
    "\n",
    "Na koniec metoda `commit()` zatwierdza transakcję i zapisuje ją w historii back stacka."
   ]
  },
  {
   "cell_type": "markdown",
   "id": "ca3c6cf0-bf9e-4628-919a-e0f0d95fd565",
   "metadata": {},
   "source": [
    "Back stack to stos zawierający historię nawigacji między aktywnościami lub fragmentami w aplikacji. Gdy nowy fragment zostaje uruchomiony, zostaje dodany na wierzch stosu, a poprzedni pozostaje w stosie. Po naciśnięciu przycisku wstecz na urządzeniu, system Android usuwa aktualny fragment ze szczytu stosu i wyświetla poprzedni fragment z niższej pozycji na stosie."
   ]
  },
  {
   "cell_type": "markdown",
   "id": "37d35a91-5faf-4fbc-acdc-ebf29f1d07d3",
   "metadata": {},
   "source": [
    "Dodajmy do aplikacji fragment o nazwie `FragmentA`"
   ]
  },
  {
   "cell_type": "code",
   "execution_count": null,
   "id": "c023104d-751d-405e-b719-f12295c36f8e",
   "metadata": {},
   "outputs": [],
   "source": [
    "<?xml version=\"1.0\" encoding=\"utf-8\"?>\n",
    "<LinearLayout xmlns:android=\"http://schemas.android.com/apk/res/android\"\n",
    "    xmlns:app=\"http://schemas.android.com/apk/res-auto\"\n",
    "    xmlns:tools=\"http://schemas.android.com/tools\"\n",
    "    android:orientation=\"vertical\"\n",
    "    android:layout_width=\"match_parent\"\n",
    "    android:layout_height=\"match_parent\">\n",
    "\n",
    "    <TextView\n",
    "        android:id=\"@+id/textView\"\n",
    "        android:textSize=\"36sp\"\n",
    "        android:textColor=\"@color/black\"\n",
    "        android:textAlignment=\"center\"\n",
    "        android:layout_gravity=\"center_horizontal\"\n",
    "        android:layout_marginTop=\"20dp\"\n",
    "        android:layout_width=\"match_parent\"\n",
    "        android:layout_height=\"wrap_content\"\n",
    "        android:text=\"FRAGMENT A\" />\n",
    "</LinearLayout>"
   ]
  },
  {
   "cell_type": "code",
   "execution_count": null,
   "id": "ab859571-c67b-4cc2-8bcf-4595149760b7",
   "metadata": {},
   "outputs": [],
   "source": [
    "class FragmentA : Fragment() {\n",
    "\n",
    "    private lateinit var binding: FragmentABinding\n",
    "\n",
    "    override fun onCreateView(\n",
    "        inflater: LayoutInflater,\n",
    "        container: ViewGroup?,\n",
    "        savedInstanceState: Bundle?\n",
    "    ): View {\n",
    "        binding = FragmentABinding.inflate(inflater)\n",
    "        return binding.root\n",
    "    }\n",
    "}"
   ]
  },
  {
   "cell_type": "markdown",
   "id": "1370c885-34f7-47d0-bf15-89e270fe4e38",
   "metadata": {},
   "source": [
    "Następnie dodajmy przycisk do `MainFragment` po naciśnięciu którego podmienimy fragment na `MainActivity` na `FragmentA`"
   ]
  },
  {
   "cell_type": "code",
   "execution_count": null,
   "id": "e108da90-eb89-4a38-8b83-34cb6a614c06",
   "metadata": {},
   "outputs": [],
   "source": [
    "<?xml version=\"1.0\" encoding=\"utf-8\"?>\n",
    "<LinearLayout xmlns:android=\"http://schemas.android.com/apk/res/android\"\n",
    "    xmlns:app=\"http://schemas.android.com/apk/res-auto\"\n",
    "    xmlns:tools=\"http://schemas.android.com/tools\"\n",
    "    android:orientation=\"vertical\"\n",
    "    android:layout_width=\"match_parent\"\n",
    "    android:layout_height=\"match_parent\">\n",
    "\n",
    "    <TextView\n",
    "        android:id=\"@+id/textView\"\n",
    "        android:textSize=\"36sp\"\n",
    "        android:textColor=\"@color/black\"\n",
    "        android:textAlignment=\"center\"\n",
    "        android:layout_gravity=\"center_horizontal\"\n",
    "        android:layout_marginTop=\"20dp\"\n",
    "        android:layout_width=\"match_parent\"\n",
    "        android:layout_height=\"wrap_content\"\n",
    "        android:text=\"MAIN FRAGMENT\" />\n",
    "    \n",
    "    <Button\n",
    "        android:id=\"@+id/start_fragment_a\"\n",
    "        android:layout_width=\"wrap_content\"\n",
    "        android:layout_height=\"wrap_content\"\n",
    "        android:layout_gravity=\"center_horizontal\"\n",
    "        android:text=\"START FRAGMENT A\"\n",
    "        android:textSize=\"24sp\"/>\n",
    "</LinearLayout>"
   ]
  },
  {
   "cell_type": "markdown",
   "id": "9989479c-d033-40e4-9659-cd3d97618c43",
   "metadata": {},
   "source": [
    "W metodzie `onCreateView` dodaję transakcję."
   ]
  },
  {
   "cell_type": "code",
   "execution_count": null,
   "id": "825cd15b-c566-4f7f-a094-ee4df89105c3",
   "metadata": {},
   "outputs": [],
   "source": [
    "override fun onCreateView(\n",
    "    inflater: LayoutInflater, container: ViewGroup?,\n",
    "    savedInstanceState: Bundle?\n",
    "): View {\n",
    "    binding = FragmentMainBinding.inflate(inflater)\n",
    "\n",
    "    binding.startFragmentA.setOnClickListener {\n",
    "        requireActivity().supportFragmentManager\n",
    "            .beginTransaction()\n",
    "            .replace(R.id.fragment_container_view_tag, FragmentA())\n",
    "            .commit()\n",
    "    }\n",
    "\n",
    "    return binding.root\n",
    "}"
   ]
  },
  {
   "cell_type": "markdown",
   "id": "309a6331-1db2-4490-ad58-8b8a07a321da",
   "metadata": {},
   "source": [
    "Dostęp do instancji `FragmentManager` możemy uzyskać tylko przez aktywność, więc musimy dostać się do aktywności hostującej - możemy to zrobić wywołując metodę `requireActivity`. Dalej wywołujemy metodę `supportFragmentManager` i rozpoczynamy transakcję. Teraz nie chcemy dodać nowego fragmentu - chcemy zastąpić już istniejęcy, więc wywołujemy meetodę `replace` która przyjmuje dwa argumenty:\n",
    "- `fragmentContainer` - kontener w którym ma nastąpić zamiana\n",
    "- `fragment` - fragment którym zastąpimy poprzendi fragment"
   ]
  },
  {
   "cell_type": "markdown",
   "id": "de41a49b-13a8-449b-8f33-c9fde85e12af",
   "metadata": {},
   "source": [
    "Menadżer fragmentów to komponent Androida, który jest odpowiedzialny za zarządzanie fragmentami w ramach aktywności. Menadżer fragmentów umożliwia dodawanie, usuwanie, podmienianie oraz przenoszenie fragmentów wewnątrz aktywności."
   ]
  },
  {
   "cell_type": "markdown",
   "id": "35f2c5e8-d4eb-4c8d-b971-5b81582efbb2",
   "metadata": {},
   "source": [
    "I jak poprzednio kończymy wywołując metodę `commit`. Możemy przetestować aplikację"
   ]
  },
  {
   "cell_type": "markdown",
   "id": "9d82b69e-e23c-490f-b14a-971b0b517b66",
   "metadata": {},
   "source": [
    "<img src=\"https://media0.giphy.com/media/y2AH5v1SE0HdSKUF97/giphy.gif?cid=790b76113e3e884baddad44b4cd21f93ca0926b8dbf8ff2d&rid=giphy.gif&ct=g\" width=\"150\" />"
   ]
  },
  {
   "cell_type": "markdown",
   "id": "7c1cf8ca-c2c6-4c20-8500-d5a2ca6510bd",
   "metadata": {},
   "source": [
    "Dodajmy przycisk do `FragmentA` przez który będziemy przechodzić na `FragmentB`"
   ]
  },
  {
   "cell_type": "code",
   "execution_count": null,
   "id": "ba21fcc7-3725-4c56-a659-5e30c12a8454",
   "metadata": {},
   "outputs": [],
   "source": [
    "<?xml version=\"1.0\" encoding=\"utf-8\"?>\n",
    "<LinearLayout xmlns:android=\"http://schemas.android.com/apk/res/android\"\n",
    "    xmlns:app=\"http://schemas.android.com/apk/res-auto\"\n",
    "    xmlns:tools=\"http://schemas.android.com/tools\"\n",
    "    android:orientation=\"vertical\"\n",
    "    android:layout_width=\"match_parent\"\n",
    "    android:layout_height=\"match_parent\">\n",
    "\n",
    "    <TextView\n",
    "        android:id=\"@+id/textView\"\n",
    "        android:textSize=\"36sp\"\n",
    "        android:textColor=\"@color/black\"\n",
    "        android:textAlignment=\"center\"\n",
    "        android:layout_gravity=\"center_horizontal\"\n",
    "        android:layout_marginTop=\"20dp\"\n",
    "        android:layout_width=\"match_parent\"\n",
    "        android:layout_height=\"wrap_content\"\n",
    "        android:text=\"FRAGMENT A\" />\n",
    "\n",
    "    <Button\n",
    "        android:id=\"@+id/start_fragment_b\"\n",
    "        android:layout_width=\"wrap_content\"\n",
    "        android:layout_height=\"wrap_content\"\n",
    "        android:layout_gravity=\"center_horizontal\"\n",
    "        android:text=\"START FRAGMENT B\"\n",
    "        android:textSize=\"24sp\"/>\n",
    "</LinearLayout>"
   ]
  },
  {
   "cell_type": "markdown",
   "id": "d0a74f03-ee80-4e10-9cdb-4d6372cc4090",
   "metadata": {},
   "source": [
    "Dodajmy `FragmentB`"
   ]
  },
  {
   "cell_type": "code",
   "execution_count": null,
   "id": "4376bc2a-9f10-47be-8016-011e4b3cc1f2",
   "metadata": {},
   "outputs": [],
   "source": [
    "<?xml version=\"1.0\" encoding=\"utf-8\"?>\n",
    "<LinearLayout xmlns:android=\"http://schemas.android.com/apk/res/android\"\n",
    "    xmlns:app=\"http://schemas.android.com/apk/res-auto\"\n",
    "    xmlns:tools=\"http://schemas.android.com/tools\"\n",
    "    android:orientation=\"vertical\"\n",
    "    android:layout_width=\"match_parent\"\n",
    "    android:layout_height=\"match_parent\"\n",
    "    android:background=\"#FFFF44\">\n",
    "\n",
    "    <TextView\n",
    "        android:id=\"@+id/textView\"\n",
    "        android:textSize=\"36sp\"\n",
    "        android:textColor=\"@color/black\"\n",
    "        android:textAlignment=\"center\"\n",
    "        android:layout_gravity=\"center_horizontal\"\n",
    "        android:layout_marginTop=\"20dp\"\n",
    "        android:layout_width=\"match_parent\"\n",
    "        android:layout_height=\"wrap_content\"\n",
    "        android:text=\"FRAGMENT B\" />\n",
    "</LinearLayout>"
   ]
  },
  {
   "cell_type": "code",
   "execution_count": null,
   "id": "6d97ae86-f20e-4966-a7fe-c47bae5a9bc8",
   "metadata": {},
   "outputs": [],
   "source": [
    "class FragmentB : Fragment() {\n",
    "    override fun onCreateView(\n",
    "        inflater: LayoutInflater,\n",
    "        container: ViewGroup?,\n",
    "        savedInstanceState: Bundle?\n",
    "    ): View? {\n",
    "        return inflater.inflate(R.layout.fragment_b, container, false)\n",
    "    }\n",
    "}"
   ]
  },
  {
   "cell_type": "markdown",
   "id": "7b681eff-7ef4-46cf-b48d-3391d13a5bb9",
   "metadata": {},
   "source": [
    "Obsłużmy przycisk w `FragmentA`"
   ]
  },
  {
   "cell_type": "code",
   "execution_count": null,
   "id": "1aa94d7e-5d6c-46eb-910a-30f443c6beb2",
   "metadata": {},
   "outputs": [],
   "source": [
    "override fun onCreateView(\n",
    "    inflater: LayoutInflater,\n",
    "    container: ViewGroup?,\n",
    "    savedInstanceState: Bundle?\n",
    "): View {\n",
    "    binding = FragmentABinding.inflate(inflater)\n",
    "    binding.startFragmentB.setOnClickListener {\n",
    "        requireActivity().supportFragmentManager\n",
    "            .beginTransaction()\n",
    "            .replace(R.id.fragment_container_view_tag, FragmentB())\n",
    "            .commit()\n",
    "    }\n",
    "    return binding.root\n",
    "}"
   ]
  },
  {
   "cell_type": "markdown",
   "id": "0f615baa-26a3-47c0-9099-f7038f50a6fb",
   "metadata": {},
   "source": [
    "<img src=\"https://media4.giphy.com/media/N7NTTQvqcrkTAoKMjk/giphy.gif?cid=790b761140fc93578af668d97bd08bc5d0393d333789d1f3&rid=giphy.gif&ct=g\" width=\"150\" />"
   ]
  },
  {
   "cell_type": "markdown",
   "id": "805a007f-c9ce-4f61-ada4-a4677a560286",
   "metadata": {},
   "source": [
    "Zwróćmy uwagę - naciśnięcie przycisku systemowego 'wstecz' powoduje wyjście z aplikacji. Aby zapewnić nawigację wsteczną po wcześniejszych fragmentach, możemy dodać w transakcjach odpowiednią metodę - `addToBackStack`"
   ]
  },
  {
   "cell_type": "code",
   "execution_count": null,
   "id": "e7fa1e70-1ee2-4a0b-8251-6097e4cc200e",
   "metadata": {},
   "outputs": [],
   "source": [
    "binding.startFragmentB.setOnClickListener {\n",
    "    requireActivity().supportFragmentManager\n",
    "        .beginTransaction()\n",
    "        .replace(R.id.fragment_container_view_tag, FragmentB())\n",
    "        .addToBackStack(null)\n",
    "        .commit()\n",
    "}"
   ]
  },
  {
   "cell_type": "markdown",
   "id": "1a2812b4-5d24-497b-85dd-e52b97235cdb",
   "metadata": {},
   "source": [
    "Metoda `addToBackStack(null)` dodaje transakcję do tzw. back stacka, dzięki czemu użytkownik może cofnąć się do poprzedniego stanu fragmentu poprzez naciśnięcie przycisku \"back\" na urządzeniu.\n",
    "\n",
    "Dzięki tej metodzie możliwe jest ręczne dodawanie i usuwanie fragmentów ze stosu za pomocą metod udostępnianych przez menadżera back stacka. Dzięki temu można dostosować historię nawigacji w aplikacji do własnych potrzeb.\n",
    "\n",
    "Dodajmy tutaj że w celach nawigacji częściej wykorzystuje się `Jetpack Navigation` lub `Compose Navigation` w celu zautromatyzowania zarządzania pamięcią i wykonywaniem transakcji."
   ]
  },
  {
   "cell_type": "markdown",
   "id": "954c59ff-4082-4322-a791-28db73d8ca97",
   "metadata": {},
   "source": [
    "<img src=\"https://media2.giphy.com/media/oK1Ui7n1li6cB05v6A/giphy.gif?cid=790b7611b9225c347685d83f7d45d92ed2e04cc4532139fa&rid=giphy.gif&ct=g\" width=\"150\" />"
   ]
  }
 ],
 "metadata": {
  "kernelspec": {
   "display_name": "Kotlin",
   "language": "kotlin",
   "name": "kotlin"
  },
  "language_info": {
   "codemirror_mode": "text/x-kotlin",
   "file_extension": ".kt",
   "mimetype": "text/x-kotlin",
   "name": "kotlin",
   "nbconvert_exporter": "",
   "pygments_lexer": "kotlin",
   "version": "1.8.20"
  }
 },
 "nbformat": 4,
 "nbformat_minor": 5
}
