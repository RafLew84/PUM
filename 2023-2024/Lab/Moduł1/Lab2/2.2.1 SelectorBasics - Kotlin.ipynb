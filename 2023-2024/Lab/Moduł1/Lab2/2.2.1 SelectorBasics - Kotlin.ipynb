{
 "cells": [
  {
   "cell_type": "markdown",
   "id": "e570bf7c-b633-45fa-8129-b77d797fb116",
   "metadata": {},
   "source": [
    "# RecyclerView - Selection"
   ]
  },
  {
   "cell_type": "markdown",
   "id": "32c172de-ad56-4161-99d7-0b877c038b78",
   "metadata": {},
   "source": [
    "<img src=\"https://media1.giphy.com/media/7VOdnpyhosbBDIQPR0/giphy.gif?cid=790b76117ce18b657fd9003f6e29b87c453b5bfad7667dad&rid=giphy.gif&ct=g\" width=\"200\" />"
   ]
  },
  {
   "cell_type": "markdown",
   "id": "a0dfa6f6-245f-41fb-b436-d30aa879286e",
   "metadata": {},
   "source": [
    "`selection` jest biblioteką dodatkową dla `RecyclerView`, która zapewnia wsparcie dla wyboru elementów. W tym przykładie zapoznamy się z jej podstawową funkcjonalnością."
   ]
  },
  {
   "cell_type": "markdown",
   "id": "838305ca-7065-4f85-9b7a-49d3facd0501",
   "metadata": {},
   "source": [
    "## **Implementacja `RecyclerView`**\n",
    "\n",
    "Naszą aplikację rozpoczniemy od utworzenia layoutu `main_activity.xml`"
   ]
  },
  {
   "cell_type": "code",
   "execution_count": null,
   "id": "dbd1743e-2614-494d-aaef-73df5714f93b",
   "metadata": {},
   "outputs": [],
   "source": [
    "<?xml version=\"1.0\" encoding=\"utf-8\"?>\n",
    "<LinearLayout xmlns:android=\"http://schemas.android.com/apk/res/android\"\n",
    "    xmlns:app=\"http://schemas.android.com/apk/res-auto\"\n",
    "    xmlns:tools=\"http://schemas.android.com/tools\"\n",
    "    android:layout_width=\"match_parent\"\n",
    "    android:layout_height=\"wrap_content\"\n",
    "    tools:context=\".MainActivity\">\n",
    "\n",
    "    <androidx.recyclerview.widget.RecyclerView\n",
    "        android:id=\"@+id/recyclerView\"\n",
    "        android:layout_width=\"match_parent\"\n",
    "        android:layout_height=\"wrap_content\" />\n",
    "\n",
    "</LinearLayout>"
   ]
  },
  {
   "cell_type": "markdown",
   "id": "2bfb88e8-0c88-468a-91a3-1bfecfe275f5",
   "metadata": {},
   "source": [
    "Następnie dodajmy plik `rv_item.xml`, który będzie zawierał zdefiniowany layout pojedynczego elementu `RecyclerView`"
   ]
  },
  {
   "cell_type": "code",
   "execution_count": null,
   "id": "9ca1aa89-8ef1-46f5-82cb-0e872e785499",
   "metadata": {},
   "outputs": [],
   "source": [
    "<?xml version=\"1.0\" encoding=\"utf-8\"?>\n",
    "<LinearLayout xmlns:android=\"http://schemas.android.com/apk/res/android\"\n",
    "    android:layout_width=\"match_parent\"\n",
    "    android:orientation=\"horizontal\"\n",
    "    android:layout_height=\"wrap_content\">\n",
    "\n",
    "    <TextView\n",
    "        android:id=\"@+id/numberText\"\n",
    "        android:layout_width=\"match_parent\"\n",
    "        android:layout_height=\"wrap_content\"\n",
    "        android:text=\"default text\"\n",
    "        android:textSize=\"24sp\"\n",
    "        android:layout_gravity=\"center\"\n",
    "        android:textAlignment=\"center\"\n",
    "        android:layout_margin=\"16dp\"\n",
    "        android:background=\"@drawable/item_background\"\n",
    "        android:textStyle=\"bold\"/>\n",
    "\n",
    "</LinearLayout>"
   ]
  },
  {
   "cell_type": "markdown",
   "id": "bd1d94d8-695c-4342-a53a-692b38da5bb4",
   "metadata": {},
   "source": [
    "Będziemy posiadali tylko jedno pole `TextView`, w który wyświetlimy liczbę. Przejdźmy do `MainActivity` i dodajmy listę elementów, które będziemy wyświetlać."
   ]
  },
  {
   "cell_type": "code",
   "execution_count": null,
   "id": "9c6e256e-4ba6-4751-8e2b-6d7a48a41da3",
   "metadata": {},
   "outputs": [],
   "source": [
    "private val numberList = (0..50).map { it }"
   ]
  },
  {
   "cell_type": "markdown",
   "id": "a6fc46e4-d5aa-46d1-b0f3-323ed79d5d04",
   "metadata": {},
   "source": [
    "Następnie zaimplementujmy klasę `NumberListAdapter` oraz `NumberListViewHolder`"
   ]
  },
  {
   "cell_type": "code",
   "execution_count": null,
   "id": "bc4e146b-9601-4b4b-8374-7a866eef923b",
   "metadata": {},
   "outputs": [],
   "source": [
    "class NumberListAdapter(\n",
    "    private val numberList: List<Int>,\n",
    ") : RecyclerView.Adapter<NumberListViewHolder>() {\n",
    "\n",
    "    override fun onCreateViewHolder(\n",
    "        parent: ViewGroup,\n",
    "        viewType: Int\n",
    "    ): NumberListViewHolder {\n",
    "        return NumberListViewHolder(\n",
    "            RvItemBinding.inflate(\n",
    "                LayoutInflater.from(parent.context), parent, false\n",
    "            ))\n",
    "    }\n",
    "\n",
    "    override fun onBindViewHolder(holder: NumberListViewHolder, position: Int) {\n",
    "        holder.bind(numberList[position])\n",
    "    }\n",
    "\n",
    "    override fun getItemCount() = numberList.size\n",
    "}"
   ]
  },
  {
   "cell_type": "code",
   "execution_count": null,
   "id": "06ea3c69-5bdf-4b93-a821-fc86540b1766",
   "metadata": {},
   "outputs": [],
   "source": [
    "class NumberListViewHolder(private val binding: RvItemBinding) :\n",
    "    RecyclerView.ViewHolder(binding.root) {\n",
    "\n",
    "    fun bind(value: Int) {\n",
    "        binding.numberText.text = value.toString()\n",
    "    }\n",
    "}"
   ]
  },
  {
   "cell_type": "markdown",
   "id": "8f17a277-6c48-4545-abde-aa6193086289",
   "metadata": {
    "tags": []
   },
   "source": [
    "## **Implementacja `Selector`**\n",
    "\n",
    "W pierwszym kroku przejdźmy do pliku `build.gradle` i w bloku `dependencies` dodajmy wpis"
   ]
  },
  {
   "cell_type": "code",
   "execution_count": null,
   "id": "891b80ce-6ceb-46dc-be56-564b5c1a021c",
   "metadata": {},
   "outputs": [],
   "source": [
    "    implementation 'androidx.recyclerview:recyclerview-selection:1.1.0'"
   ]
  },
  {
   "cell_type": "markdown",
   "id": "b4dc1fbf-7695-4e62-bb7f-b2b86ba114fc",
   "metadata": {},
   "source": [
    "Po zmodyfikowaniu skryptu `gradle` musimy wykonać synchronizację (**Sync Project with Gradle Files**). Chcemy uzyskać możliwość zaznaczania elementów i zmieniania ich właściwości. W pierwszym kroku musimy zdecydować się na typ klucza który będziemy wykorzystywać:\n",
    "- `String` - wykorzystywany gdy mamy identyfikator `String`\n",
    "- `Long` - wykorzystywamy gdy mamy identyfikator numeryczny\n",
    "- `Parcelable` - gdy wykorzystujemy jako klucz np. `Uri`\n",
    "W naszym przypadku wykorzystamy `Long` i właściwość `position` naszego `RecyclerView`.\n",
    "\n",
    "Przechodzimy do klasy `NumberListAdapter`, w pierwszym kroku musimy ustawić `hasStableIds` - zmiana na `true` oznacza że każdy element może być reprezentowany przez unikalny klucz. "
   ]
  },
  {
   "cell_type": "code",
   "execution_count": null,
   "id": "2789f8ad-0153-4de0-af73-07a80f93a4a4",
   "metadata": {},
   "outputs": [],
   "source": [
    "    init {\n",
    "        setHasStableIds(true)\n",
    "    }"
   ]
  },
  {
   "cell_type": "markdown",
   "id": "780074d4-9422-4158-bfbe-27cef586c13f",
   "metadata": {},
   "source": [
    "Następnie chcemy wykorzystać właściwość `position` jako identyfikator, w tym celu nadpisujemy metodę `getItemId`"
   ]
  },
  {
   "cell_type": "code",
   "execution_count": null,
   "id": "01a9d0f2-fd06-43c7-ba74-74f487ea9d40",
   "metadata": {},
   "outputs": [],
   "source": [
    "    override fun getItemId(position: Int): Long = position.toLong()"
   ]
  },
  {
   "cell_type": "markdown",
   "id": "b141d04a-8d7a-4f23-abd2-172ce21ccf40",
   "metadata": {},
   "source": [
    "Kolejnym krokiem jest implementacja klasy `KeyProvider`, tutaj skorzystamy z domyślnej implementacji `StableIdKeyProvider`. Następnie musimy dostarczyć implementację `ItemDetailsLookup` - klasa ta zawiera informacje o zaznaczonych przez użytkownika elementach. Dodajmy nowy plik do projektu - `NumberItemDetailsLookup.kt`.\n",
    "\n",
    "Klasa `NumberItemDetailsLookup` musi rozszerzać klasę `ItemDetailsLookup`"
   ]
  },
  {
   "cell_type": "code",
   "execution_count": null,
   "id": "ca501783-5486-4a59-9fa4-699c8d1f4fe5",
   "metadata": {},
   "outputs": [],
   "source": [
    "class NumberItemDetailsLookup(private val recyclerView: RecyclerView) :\n",
    "    ItemDetailsLookup<Long>()"
   ]
  },
  {
   "cell_type": "markdown",
   "id": "34097934-8918-4768-9cca-ea76e9d2aac4",
   "metadata": {},
   "source": [
    "W klasie będziemy potrzebować pola `RecyclerView` reprezentujący naszą listę. Samo zaznaczanie w tej bibliotece bazuje na `MotionEvent` który musimy zmapować na nasz `ViewHolder`. W tym celu musimy naspisać metodę `getItemDetails`"
   ]
  },
  {
   "cell_type": "code",
   "execution_count": null,
   "id": "dec52725-d2be-43ca-a524-368d379e8c54",
   "metadata": {},
   "outputs": [],
   "source": [
    "    override fun getItemDetails(event: MotionEvent): ItemDetails<Long>?{}"
   ]
  },
  {
   "cell_type": "markdown",
   "id": "e21d5dfc-8f38-4a4a-8666-4d6533814b09",
   "metadata": {},
   "source": [
    "W pierwszym kroku potrzebujemy dostać się do naszego `ViewHolder` - zapiszemy go w obiekcie `View`. Możemy się do niego dostać wywołując metodę `findChildViewHolder` z klasy `RecyclerView`"
   ]
  },
  {
   "cell_type": "code",
   "execution_count": null,
   "id": "fce7075d-8e45-4f50-9777-c27f7a0b6c60",
   "metadata": {},
   "outputs": [],
   "source": [
    "        val view = recyclerView.findChildViewUnder(event.x, event.y)"
   ]
  },
  {
   "cell_type": "markdown",
   "id": "63ef27a5-4018-45c2-b6f5-a0910b2b1974",
   "metadata": {},
   "source": [
    "Metoda ta przyjmuje dwa argumenty\n",
    "- `x` pozycję horyzontalną wyrażoną w pikselach\n",
    "- `y` pozycję wertykalną wyrażoną w pikselach\n",
    "\n",
    "Przekazując instancję `MotionEvent` z wywołanymi metodami `x` i `y` możemy ustalić który element został zaznaczony. Następnie sprawdzamy czy udało się zwrócić `ViewHolder` w warunku `if`, jeżeli wszystko poszło pomyślnie metoda zwraca obiekt typu `ItemDetails`, w przeciwnym razie zwracamy `null`"
   ]
  },
  {
   "cell_type": "code",
   "execution_count": null,
   "id": "51a7421c-165a-4f00-b271-6fcdf165d221",
   "metadata": {},
   "outputs": [],
   "source": [
    "return (recyclerView.getChildViewHolder(view) as NumberListAdapter.NumberListViewHolder).getItemDetails()"
   ]
  },
  {
   "cell_type": "markdown",
   "id": "89b0f1d8-e1c9-426c-a5a3-c51f89834033",
   "metadata": {},
   "source": [
    "Obiekt `ItemDetails` musi zawierać dwie informacje:\n",
    "- `position` - pozycję elementu `RecyclerView`\n",
    "- `selectionId` - unikalny identyfikator elementu `RecyclerView`\n",
    "\n",
    "Aby otrzymać te elementy do klasy `NumberViewHolder` dodajemy metodę `getItemDetails` zwracającą `ItemDetail`."
   ]
  },
  {
   "cell_type": "code",
   "execution_count": null,
   "id": "5b18d40e-3cbf-40ed-81d4-7fa5f582c4af",
   "metadata": {},
   "outputs": [],
   "source": [
    "        fun getItemDetails(): ItemDetailsLookup.ItemDetails<Long> =\n",
    "            object : ItemDetailsLookup.ItemDetails<Long>() {\n",
    "                override fun getPosition(): Int = adapterPosition\n",
    "                override fun getSelectionKey(): Long = itemId\n",
    "            }"
   ]
  },
  {
   "cell_type": "markdown",
   "id": "0b47ee85-af46-4436-8d97-900a72fbd4fc",
   "metadata": {},
   "source": [
    "Zwracany obiekt (anonimowy) musi implementować dwie metody. Aktualną pozycję wyciągamy przez wyołanie metody `adapterPosition` - metoda zwraca `Adapter` który jako ostatni był powiązany z tym `ViewHolder` lub `null` jeżeli takiego powiązanie nie było. W metodzie `getSelectionKey` zwracamy wywołanie metody `itemId` klasy `RecyclerView`.\n",
    "\n",
    "Kolejnym krokiem będzie zmienienie koloru tła zaznaczonego elementu. Możemy to zdefiniować w pliku `xml`. Do folderu **res -> drawable** dodajemy nowy plik **Drawable Resource File** (`item_background.xml`), jako **root element** wybieramy `selector`. Chcemy zdefiniować dwa kolory i ustawić jeden z nich dla stanu aktywnego"
   ]
  },
  {
   "cell_type": "code",
   "execution_count": null,
   "id": "f3a2f42b-7b3c-4046-8f12-052cecf029aa",
   "metadata": {},
   "outputs": [],
   "source": [
    "<?xml version=\"1.0\" encoding=\"utf-8\"?>\n",
    "<selector xmlns:android=\"http://schemas.android.com/apk/res/android\">\n",
    "    <item android:drawable=\"@android:color/holo_blue_bright\" android:state_activated=\"true\" />\n",
    "    <item android:drawable=\"@android:color/white\" />\n",
    "</selector>"
   ]
  },
  {
   "cell_type": "markdown",
   "id": "1f86d85e-1e54-41ad-8332-f6b2eb7a1479",
   "metadata": {},
   "source": [
    "Kolor stanu aktywnego ustawiamy przez zmianę domyślnej wartości `android:state_activated` na `true`. W ten sposób zmianę tła będziemy mieć połączoną z właściwością `isSelected` elementu. \n",
    "\n",
    "Żeby z niego skorzystać potrzebujemy jeszcze jednego elementu - `SelectionTracker`. W klasie `NumberListAdapter` dodajemy odpowiednie pole z `setterem`"
   ]
  },
  {
   "cell_type": "code",
   "execution_count": null,
   "id": "a331855c-fc5e-4e24-9a1f-0f590d701009",
   "metadata": {},
   "outputs": [],
   "source": [
    "    lateinit var selectionTracker: SelectionTracker<Long>"
   ]
  },
  {
   "cell_type": "markdown",
   "id": "d5d72cec-88b0-4a50-8265-653d912861ee",
   "metadata": {},
   "source": [
    "`SelectionTracker` umożliwia śledzenie wszystkich elementów zaznaczonych przez użytkownika i pozwala sprawdzić czy dany element jest zaznaczony czy nie. Zmodyfikujmy metodę `bind` klasy `ViewHolder` aby umożliwić śledzenie - robimy to poprzez ustawienie pola `isActivated` na `itemView`"
   ]
  },
  {
   "cell_type": "code",
   "execution_count": null,
   "id": "b3be184b-c728-45f9-93a2-1378450e63a9",
   "metadata": {},
   "outputs": [],
   "source": [
    "    fun bind(value: Int, isActivated: Boolean = false) {\n",
    "        binding.numberText.text = value.toString()\n",
    "        binding.root.isActivated = isActivated\n",
    "    }"
   ]
  },
  {
   "cell_type": "markdown",
   "id": "b8e6ac9d-8e79-4951-9493-9a05a3be663e",
   "metadata": {},
   "source": [
    "Teraz musimy zmodyfikować wywołanie w metodzie `onBindViewHolder`"
   ]
  },
  {
   "cell_type": "code",
   "execution_count": null,
   "id": "b9e63587-a808-40cd-aa44-43528df855c9",
   "metadata": {},
   "outputs": [],
   "source": [
    "override fun onBindViewHolder(holder: NumberListViewHolder, position: Int) {\n",
    "    holder.bind(\n",
    "        numberList[position], \n",
    "        selectionTracker.isSelected(position.toLong()))\n",
    "}"
   ]
  },
  {
   "cell_type": "markdown",
   "id": "70787019-742a-4c2f-bd48-86693deb0074",
   "metadata": {},
   "source": [
    "Na instancji `SelectionTracker` wywołujemy metodę `isSelected` sptawdzającą czy element o zadanym `id` jest zaznaczony przez użytkownika. Jako `id` przekazujemy `position` zrzutowany na `long`.\n",
    "\n",
    "Ostatnim krokiem jest utworzenie `SelectionTracker` w klasie `MainActivity` i połączenie go z naszym `RecyclerView`. "
   ]
  },
  {
   "cell_type": "code",
   "execution_count": null,
   "id": "dcab0260-8f51-4038-97c0-3cf649981d59",
   "metadata": {},
   "outputs": [],
   "source": [
    "val numberListAdapter = NumberListAdapter(numberList)\n",
    "binding.recyclerView.adapter = numberListAdapter\n",
    "binding.recyclerView.layoutManager = LinearLayoutManager(this)\n",
    "\n",
    "val selectionTracker = SelectionTracker.Builder(\n",
    "    \"numberSelection\",\n",
    "    recyclerView,\n",
    "    StableIdKeyProvider(recyclerView),\n",
    "    NumberItemDetailsLookup(recyclerView),\n",
    "    StorageStrategy.createLongStorage()\n",
    ").withSelectionPredicate(\n",
    "    SelectionPredicates.createSelectAnything()\n",
    ").build()\n",
    "numberListAdapter.selectionTracker = selectionTracker"
   ]
  },
  {
   "cell_type": "markdown",
   "id": "8ec7210d-0e28-46bd-b68c-e6bde3d0c8b3",
   "metadata": {},
   "source": [
    "Tutaj istotna jest kolejność wykonania\n",
    "- tworzymy `RecyclerView`\n",
    "- powiązujemy `Adapter` z `RecyclerView`\n",
    "- powiązujemy `SelectionTracker` z `RecyclerView`\n",
    "\n",
    "Aby utworzyć `SelectionTracker` wykorzystujemy `Builder`"
   ]
  },
  {
   "cell_type": "code",
   "execution_count": null,
   "id": "78591677-0de1-4bb8-b603-a1668f84e7a7",
   "metadata": {},
   "outputs": [],
   "source": [
    "val selectionTracker = SelectionTracker.Builder()"
   ]
  },
  {
   "cell_type": "markdown",
   "id": "bb720bfd-e987-4ca2-80f3-2236a68d3ebf",
   "metadata": {},
   "source": [
    "Przyjmuje on szereg argumentów\n",
    "- `selectionId` - `String` jednoznacznie identyfikujący `SelectionTracker` dla danej aktywności\n",
    "- `recyclerView` - instancja `RecyclerView` na którym wywołujemy `SelectionTracker`\n",
    "- `keyProvider` - źródło kluczy po których rozróżniamy elementy - tutaj wykorzystaliśmy domyślną implementację klasy `StableIdKeyProvider`\n",
    "- `detailsLookup` - źródło informacji o elementach `Recyclerview` (pozycja elementu, unikalny identyfikator elementu)\n",
    "- `storage` - strategia przechowywania stanu - możemy przechować informację o tym, które elementy są aktualnie zaznaczone\n",
    "\n",
    "Następnie wywołujemy funkcję `withSelectionPredicate`, która pozwala nam określić sposób w jaki stosujemy zaznaczenie (możemy określić ograniczenia). Tutaj wywołana jest metoda `createSelectionAnything` nie posiadająca żadnych ograniczeń - jednocześnie zezwala na zaznaczenie wielu elementów.\n"
   ]
  },
  {
   "cell_type": "markdown",
   "id": "f347fed4-7673-4b96-940d-7e050b5026b1",
   "metadata": {},
   "source": [
    "Na tym etapie możemy przetestować aplikację."
   ]
  },
  {
   "cell_type": "markdown",
   "id": "8b281dbe-3b0d-428e-803c-ce5958bb1c51",
   "metadata": {},
   "source": [
    "<img src=\"https://media1.giphy.com/media/7VOdnpyhosbBDIQPR0/giphy.gif?cid=790b76117ce18b657fd9003f6e29b87c453b5bfad7667dad&rid=giphy.gif&ct=g\" width=\"200\" />"
   ]
  }
 ],
 "metadata": {
  "kernelspec": {
   "display_name": "Kotlin",
   "language": "kotlin",
   "name": "kotlin"
  },
  "language_info": {
   "codemirror_mode": "text/x-kotlin",
   "file_extension": ".kt",
   "mimetype": "text/x-kotlin",
   "name": "kotlin",
   "nbconvert_exporter": "",
   "pygments_lexer": "kotlin",
   "version": "1.6.20-dev-6372"
  }
 },
 "nbformat": 4,
 "nbformat_minor": 5
}
