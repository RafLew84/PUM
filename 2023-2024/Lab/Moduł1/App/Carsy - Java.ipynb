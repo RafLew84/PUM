{
 "cells": [
  {
   "cell_type": "markdown",
   "id": "eef3f01a-1a55-49da-8092-dca86c8ace5f",
   "metadata": {},
   "source": [
    "# Carsy"
   ]
  },
  {
   "cell_type": "markdown",
   "id": "106e1b7f-a586-49f8-9a2e-e52169b39a5f",
   "metadata": {},
   "source": [
    "Aplikacja wykorzystuje `BottomNavigation` oraz `DrawerNavigation`. Po raz kolejny wykorzystamy *dummy data* dostarczone przez obiekt `dataProvider`. Wykorzystamy `RecyclerView` w kilku różnych konfiguracjach. Będzie to uboga wersja [Fuelio](https://play.google.com/store/apps/details?id=com.kajda.fuelio&hl=pl&gl=US). Applikacja wykorzystuje `RecyclerView` z grupowaniem elementów osiągniętym przez wykorzystanie trzech `ViewHolder`'ów."
   ]
  },
  {
   "cell_type": "markdown",
   "id": "5b278f06-3a63-4b15-a898-0c2464c1c664",
   "metadata": {},
   "source": [
    "<table><tr><td><img src=\"https://media2.giphy.com/media/0lpf97nejk58XmgAP1/giphy.gif?cid=790b7611c2da1160570c8dd99550ec3cec763c3d4c38b025&rid=giphy.gif&ct=g\" width=\"200\" /></td><td><img src=\"https://media2.giphy.com/media/hv5Ewg1qBwSj99Ju82/giphy.gif?cid=790b7611ccbb9fccb551bafa99c524b39c01a03d957a334b&rid=giphy.gif&ct=g\" width=\"200\" /></td><td><img src=\"https://media4.giphy.com/media/FkSzT1Y6TNOtg89XKr/giphy.gif?cid=790b76119c5e65885f7be2c85549b516585eebeb4a8d4baa&rid=giphy.gif&ct=g\" width=\"200\" /></td></tr></table>"
   ]
  },
  {
   "cell_type": "markdown",
   "id": "22da3d9d-11a0-4d74-ba08-57b24ca5be0d",
   "metadata": {},
   "source": [
    "Rozpocznijmy od konfiguracji skryptów `Gradle` - dodajmy `ViewBinding` oraz `Jetpack Navigation`"
   ]
  },
  {
   "cell_type": "code",
   "execution_count": null,
   "id": "a30ee616-ce0c-448c-aa26-a71c874203b2",
   "metadata": {},
   "outputs": [],
   "source": [
    "android {\n",
    "    ...\n",
    "    buildFeatures {\n",
    "        viewBinding = true\n",
    "    }\n",
    "    ...\n",
    "}\n",
    "\n",
    "dependencies {\n",
    "\n",
    "    implementation \"androidx.navigation:navigation-fragment:2.5.3\"\n",
    "    implementation \"androidx.navigation:navigation-ui:2.5.3\"\n",
    "    ...\n",
    "}"
   ]
  },
  {
   "cell_type": "code",
   "execution_count": null,
   "id": "f3f541ac-a64d-4440-b34e-9d2f9b4986b6",
   "metadata": {},
   "outputs": [],
   "source": [
    "buildscript { // przed blokiem plugins\n",
    "    repositories {\n",
    "        google()\n",
    "    }\n",
    "    dependencies {\n",
    "        def nav_version = \"2.5.3\"\n",
    "        classpath \"androidx.navigation:navigation-safe-args-gradle-plugin:$nav_version\"\n",
    "    }\n",
    "}\n",
    "plugins {\n",
    "    id 'com.android.application' version '7.4.2' apply false\n",
    "    id 'com.android.library' version '7.4.2' apply false\n",
    "    id 'org.jetbrains.kotlin.android' version '1.8.0' apply false\n",
    "}"
   ]
  },
  {
   "cell_type": "markdown",
   "id": "34c0eee1-623d-4e31-b078-d468001b33b7",
   "metadata": {},
   "source": [
    "### **BottomNavigation**"
   ]
  },
  {
   "cell_type": "markdown",
   "id": "dc4b55bb-2747-47fd-b8d1-fb8a5fefec70",
   "metadata": {},
   "source": [
    "Rozpocznijmy od dodania trzech pustych fragmentów oraz navigacji (`OverviewFragment`, `CalculatorsFragment`, `TimeLineFragment`) i nawigacji\n",
    "\n",
    "`navigation.xml`"
   ]
  },
  {
   "cell_type": "code",
   "execution_count": null,
   "id": "170d28a3-1d03-4975-9077-b9948f030755",
   "metadata": {},
   "outputs": [],
   "source": [
    "public class CalculatorsFragment extends Fragment {\n",
    "\n",
    "    private FragmentCalculatorBinding binding;\n",
    "\n",
    "    @Override\n",
    "    public View onCreateView(LayoutInflater inflater, ViewGroup container,\n",
    "                             Bundle savedInstanceState) {\n",
    "        binding = FragmentCalculatorBinding.inflate(inflater);\n",
    "        return binding.getRoot();\n",
    "    }\n",
    "}"
   ]
  },
  {
   "cell_type": "code",
   "execution_count": null,
   "id": "2fb56069-a3d1-4aaf-8ecb-879cfe2254d1",
   "metadata": {},
   "outputs": [],
   "source": [
    "public class OverviewFragment extends Fragment {\n",
    "\n",
    "    private FragmentOverviewBinding binding;\n",
    "\n",
    "    @Override\n",
    "    public View onCreateView(LayoutInflater inflater, ViewGroup container,\n",
    "                             Bundle savedInstanceState) {\n",
    "        binding = FragmentOverviewBinding.inflate(inflater);\n",
    "        return binding.getRoot();\n",
    "    }\n",
    "}"
   ]
  },
  {
   "cell_type": "code",
   "execution_count": null,
   "id": "af8137a7-dbbf-4611-b84f-2fd7ffe6d74f",
   "metadata": {},
   "outputs": [],
   "source": [
    "public class TimeLineFragment extends Fragment {\n",
    "\n",
    "    private FragmentTimeLineBinding binding;\n",
    "\n",
    "    @Override\n",
    "    public View onCreateView(LayoutInflater inflater, ViewGroup container,\n",
    "                             Bundle savedInstanceState) {\n",
    "        binding = FragmentTimeLineBinding.inflate(inflater);\n",
    "        return binding.getRoot();\n",
    "    }\n",
    "}"
   ]
  },
  {
   "cell_type": "code",
   "execution_count": null,
   "id": "d9428444-2537-4496-96aa-80474f591108",
   "metadata": {},
   "outputs": [],
   "source": [
    "<?xml version=\"1.0\" encoding=\"utf-8\"?>\n",
    "<navigation xmlns:android=\"http://schemas.android.com/apk/res/android\"\n",
    "    xmlns:app=\"http://schemas.android.com/apk/res-auto\"\n",
    "    xmlns:tools=\"http://schemas.android.com/tools\"\n",
    "    android:id=\"@+id/navigation\"\n",
    "    app:startDestination=\"@id/overviewFragment\">\n",
    "\n",
    "    <fragment\n",
    "        android:id=\"@+id/overviewFragment\"\n",
    "        android:name=\"com.example.carsyjava.ui.fragments.overview.OverviewFragment\"\n",
    "        android:label=\"fragment_overview\"\n",
    "        tools:layout=\"@layout/fragment_overview\" />\n",
    "    <fragment\n",
    "        android:id=\"@+id/timeLineFragment\"\n",
    "        android:name=\"com.example.carsyjava.ui.fragments.timeline.TimeLineFragment\"\n",
    "        android:label=\"fragment_time_line\"\n",
    "        tools:layout=\"@layout/fragment_time_line\" />\n",
    "    <fragment\n",
    "        android:id=\"@+id/calculatorsFragment\"\n",
    "        android:name=\"com.example.carsyjava.ui.fragments.calculators.CalculatorsFragment\"\n",
    "        android:label=\"fragment_calculator\"\n",
    "        tools:layout=\"@layout/fragment_calculator\" />\n",
    "</navigation>"
   ]
  },
  {
   "cell_type": "markdown",
   "id": "80c12c2e-4412-4d2a-98d8-76eb55c7eb09",
   "metadata": {},
   "source": [
    "Po raz kolejny dodajemy tylko fragmenty nie definiując dla nich akcji. `OverviewFragment` oznaczam jako fragment domowy. Musimy również utworzyć `menu` dla `BottomNavigation`\n",
    "\n",
    "`bottom_menu.xml`"
   ]
  },
  {
   "cell_type": "code",
   "execution_count": null,
   "id": "07dc9d53-77e9-4845-aa50-71f771abdb7b",
   "metadata": {},
   "outputs": [],
   "source": [
    "<?xml version=\"1.0\" encoding=\"utf-8\"?>\n",
    "<menu xmlns:android=\"http://schemas.android.com/apk/res/android\">\n",
    "    <item\n",
    "        android:id=\"@id/overviewFragment\"\n",
    "        android:title=\"@string/overview\" />\n",
    "    <item\n",
    "        android:id=\"@id/timeLineFragment\"\n",
    "        android:title=\"@string/time_line\" />\n",
    "\n",
    "    <item\n",
    "        android:id=\"@id/calculatorsFragment\"\n",
    "        android:title=\"@string/calculators\" />\n",
    "</menu>"
   ]
  },
  {
   "cell_type": "markdown",
   "id": "30db48f0-48e3-4653-9e88-a7c96b643021",
   "metadata": {},
   "source": [
    "Pamiętajmy, że `android:id` muszą być takie same jak w `navigation.xml` aby automatyczna nawigacja działała prawidłowo.\n",
    "\n",
    "Przejdźmy do `MainActivity` i dodajmy nawigację oraz połączmy ją z `BottomNavigation`"
   ]
  },
  {
   "cell_type": "code",
   "execution_count": null,
   "id": "ed6e014e-e559-4eb2-8cc7-861e6335e871",
   "metadata": {},
   "outputs": [],
   "source": [
    "public class MainActivity extends AppCompatActivity {\n",
    "\n",
    "    private NavController navController;\n",
    "\n",
    "    private ActivityMainBinding binding;\n",
    "\n",
    "    @Override\n",
    "    protected void onCreate(Bundle savedInstanceState) {\n",
    "        super.onCreate(savedInstanceState);\n",
    "        binding = ActivityMainBinding.inflate(getLayoutInflater());\n",
    "        setContentView(binding.getRoot());\n",
    "\n",
    "        NavHostFragment navHostFragment = (NavHostFragment) getSupportFragmentManager()\n",
    "                .findFragmentById(R.id.nav_host_fragment);\n",
    "\n",
    "        if (navHostFragment != null) {\n",
    "            navController = NavHostFragment.findNavController(navHostFragment);\n",
    "        }\n",
    "\n",
    "        NavigationUI.setupWithNavController(binding.bottomNavView, navController);\n",
    "    }\n",
    "}"
   ]
  },
  {
   "cell_type": "code",
   "execution_count": null,
   "id": "8a91e2f5-4497-4f76-af2b-189b32c0bfd1",
   "metadata": {},
   "outputs": [],
   "source": [
    "<?xml version=\"1.0\" encoding=\"utf-8\"?>\n",
    "<LinearLayout xmlns:android=\"http://schemas.android.com/apk/res/android\"\n",
    "    xmlns:app=\"http://schemas.android.com/apk/res-auto\"\n",
    "    xmlns:tools=\"http://schemas.android.com/tools\"\n",
    "    android:layout_width=\"match_parent\"\n",
    "    android:layout_height=\"match_parent\"\n",
    "    android:orientation=\"vertical\"\n",
    "    tools:context=\".ui.MainActivity\">\n",
    "\n",
    "    <androidx.fragment.app.FragmentContainerView\n",
    "        android:id=\"@+id/nav_host_fragment\"\n",
    "        android:name=\"androidx.navigation.fragment.NavHostFragment\"\n",
    "        android:layout_width=\"match_parent\"\n",
    "        android:layout_height=\"0dp\"\n",
    "        android:layout_weight=\"1\"\n",
    "        app:defaultNavHost=\"true\"\n",
    "        app:navGraph=\"@navigation/navigation\"/>\n",
    "\n",
    "    <com.google.android.material.bottomnavigation.BottomNavigationView\n",
    "        android:id=\"@+id/bottom_nav_view\"\n",
    "        android:layout_width=\"match_parent\"\n",
    "        android:background=\"@color/dark_blue_900\"\n",
    "        android:layout_height=\"wrap_content\"\n",
    "        app:itemIconTint=\"@drawable/bottom_navigation_highlight\"\n",
    "        app:itemTextColor=\"@drawable/bottom_navigation_highlight\"\n",
    "        app:menu=\"@menu/bottom_menu\" />\n",
    "\n",
    "</LinearLayout>"
   ]
  },
  {
   "cell_type": "markdown",
   "id": "30c14073-bb4d-44e7-a97a-a2636e909096",
   "metadata": {},
   "source": [
    "W efekcie powinniśmy otrzymać podstawową nawigację z trzema ekranami."
   ]
  },
  {
   "cell_type": "markdown",
   "id": "b05871ba-bbaa-44e7-9fdc-1f26b5450bad",
   "metadata": {},
   "source": [
    "<img src=\"https://media1.giphy.com/media/x0j1SX0qmejSUNRtHu/giphy.gif?cid=790b7611bcaddd3fe77b775f20dd38e5e0cfa788c1e83df7&rid=giphy.gif&ct=g\" width=\"150\" />"
   ]
  },
  {
   "cell_type": "markdown",
   "id": "09d077e2-715f-4392-a896-6fb88c926c07",
   "metadata": {},
   "source": [
    "### **TimeLineFragment**"
   ]
  },
  {
   "cell_type": "markdown",
   "id": "5afaecac-6ed0-452b-930f-aa5ac29e5229",
   "metadata": {},
   "source": [
    "Chcemy przygotować listę w postaci osi czasu, która będzie zbliżona do tego co oferuje aplikacja **Fuelio**"
   ]
  },
  {
   "cell_type": "markdown",
   "id": "346e93b3-c78e-4c73-b549-a7ab86075cc7",
   "metadata": {},
   "source": [
    "<img src=\"https://play-lh.googleusercontent.com/Lm6SO1jsUF-VjsrfkIV9x-qpPIkIOIvgWkBGmxyZuHWPSbkYMS0oLhgoBk9wLXq6Xw=w5120-h2880\" width=\"150\" />"
   ]
  },
  {
   "cell_type": "markdown",
   "id": "6c0d8993-fc54-4bc3-93ee-3573202c042f",
   "metadata": {},
   "source": [
    "Zrobimy to w postaci `RecyclerView` z dwoma `ViewHolder` - w zależności od typu będziemy zmieniać `ViewHolder` naszego elementu. Wpierw przygotujmy dane. Typ kosztu zdefiniujemy jako `enum class`, będziemy przechowywać w niej typ oraz ikonę."
   ]
  },
  {
   "cell_type": "code",
   "execution_count": null,
   "id": "b6c13d6e-e8eb-4dce-a13b-0b7103a6f8e1",
   "metadata": {},
   "outputs": [],
   "source": [
    "public enum CostType {\n",
    "    REFUELING(\"Tankowanie\", R.drawable.ic_fuel),\n",
    "    SERVICE(\"Serwis\", R.drawable.ic_car_repair),\n",
    "    PARKING(\"Parking\", R.drawable.ic_parking),\n",
    "    INSURANCE(\"Ubezpieczenie\", R.drawable.ic_general_cost),\n",
    "    TICKET(\"Mandat\", R.drawable.ic_ticket);\n",
    "\n",
    "    private final String costType;\n",
    "    private final int icon;\n",
    "\n",
    "    CostType(String costType, int icon) {\n",
    "        this.costType = costType;\n",
    "        this.icon = icon;\n",
    "    }\n",
    "\n",
    "    public String getCostType() {\n",
    "        return costType;\n",
    "    }\n",
    "\n",
    "    public int getIcon() {\n",
    "        return icon;\n",
    "    }\n",
    "}"
   ]
  },
  {
   "cell_type": "markdown",
   "id": "4dd99e5d-897b-40c6-bef0-4a816ec8840b",
   "metadata": {},
   "source": [
    "Ikony standardowo wybieramy spośród dostępnych w **Android Studio** (**New -> Vector Asset**). Model danych zawiera typ kosztu, datę oraz kwotę."
   ]
  },
  {
   "cell_type": "code",
   "execution_count": null,
   "id": "e532a132-535c-41f8-a588-e3a60f234188",
   "metadata": {},
   "outputs": [],
   "source": [
    "public class Cost {\n",
    "    private final CostType type;\n",
    "    private final LocalDate date;\n",
    "    private final int amount;\n",
    "\n",
    "    public Cost(CostType type, LocalDate date, int amount){\n",
    "        this.type = type;\n",
    "        this.date = date;\n",
    "        this.amount = amount;\n",
    "    }\n",
    "\n",
    "    public CostType getType() {\n",
    "        return type;\n",
    "    }\n",
    "\n",
    "    public LocalDate getDate() {\n",
    "        return date;\n",
    "    }\n",
    "\n",
    "    public int getAmount() {\n",
    "        return amount;\n",
    "    }\n",
    "}"
   ]
  },
  {
   "cell_type": "markdown",
   "id": "8d22ef0f-681f-4355-b022-822058bc90f2",
   "metadata": {},
   "source": [
    "Ponieważ będziemy posiadać pojedynczy `RecyclerView` i trzy `ViewHolder`'y, musimy w jakiś sposób rozróżnić typ naszych danych - dla uproszczenia będziemy sortować po latach, miesiącach i dniach. Więc chcemy zdefiniować trzy typy, które umieścimy w `sealed class`."
   ]
  },
  {
   "cell_type": "code",
   "execution_count": null,
   "id": "2b6687cc-01c3-4298-a254-06794287ffbf",
   "metadata": {},
   "outputs": [],
   "source": [
    "public abstract class CostListItem {\n",
    "\n",
    "    public static class CostGeneralItem extends CostListItem {\n",
    "        private final Cost cost;\n",
    "\n",
    "        public Cost getCost() {\n",
    "            return cost;\n",
    "        }\n",
    "\n",
    "        public CostGeneralItem(Cost cost){\n",
    "            this.cost = cost;\n",
    "        }\n",
    "    }\n",
    "\n",
    "    public static class CostMonthItem extends CostListItem {\n",
    "        private final String month;\n",
    "\n",
    "        public CostMonthItem(String month) {\n",
    "            this.month = month;\n",
    "        }\n",
    "\n",
    "        public String getMonth() {\n",
    "            return month;\n",
    "        }\n",
    "    }\n",
    "\n",
    "    public static class CostYearItem extends CostListItem {\n",
    "        private final String year;\n",
    "\n",
    "        public CostYearItem(String year) {\n",
    "            this.year = year;\n",
    "        }\n",
    "\n",
    "        public String getYear() {\n",
    "            return year;\n",
    "        }\n",
    "    }\n",
    "}\n"
   ]
  },
  {
   "cell_type": "markdown",
   "id": "c3e148a5-cd40-4a65-b5c1-b728d49a5320",
   "metadata": {},
   "source": [
    "Definiujemy lokalną hierarchię klas związanych z pozycjami na liście kosztów. Klasa bazowa `CostListItem` jest klasą sfinalizowaną.\n",
    "\n",
    "Wewnątrz klasy bazowej `CostListItem` zdefiniowano trzy klasy pochodne:\n",
    "\n",
    "- `CostGeneralItem`, która zawiera informacje dotyczące konkretnej pozycji na liście kosztów - obiekt klasy `Cost`.\n",
    "- `CostDateItem`, która zawiera informacje o miesiącu, w którym pojawiają się pozycje na liście kosztów.\n",
    "- `CostYearItem`, która zawiera informacje o roku, w którym pojawiają się pozycje na liście kosztów.\n",
    "\n",
    "Każda z tych klas dziedziczy po klasie `CostListItem`, dzięki tej hierarchii klas można łatwiej zarządzać i przechowywać informacje związane z pozycjami na liście kosztów."
   ]
  },
  {
   "cell_type": "markdown",
   "id": "f7f3f840-07b4-49ec-b933-8b00e14ef1e0",
   "metadata": {},
   "source": [
    "Przejdźmy do obiektu `DataProvider` - w pierwszym kroku utworzymy listę kosztów"
   ]
  },
  {
   "cell_type": "code",
   "execution_count": null,
   "id": "8f28a81a-d99e-4f56-b29a-424197f4e25a",
   "metadata": {},
   "outputs": [],
   "source": [
    "private static ArrayList<Cost> generalCosts(int size) {\n",
    "    ArrayList<Cost> costs = new ArrayList<>();\n",
    "    for (int i = 0; i < size; i++) {\n",
    "        costs.add(new Cost(\n",
    "                CostType.values()[new Random().nextInt(CostType.values().length)],\n",
    "                LocalDate.of(new Random().nextInt(18) + 2005, new Random().nextInt(11)+1, new Random().nextInt(27)+1),\n",
    "                new Random().nextInt(5000)\n",
    "        ));\n",
    "    }\n",
    "    return costs;\n",
    "}"
   ]
  },
  {
   "cell_type": "markdown",
   "id": "2c211ee9-c361-454e-a8f6-399e072848c2",
   "metadata": {},
   "source": [
    "Ponieważ mamy jeden `RecyclerView`, więc będziemy mieć jedną listę - musimy ją odpowiednio przygotować."
   ]
  },
  {
   "cell_type": "code",
   "execution_count": null,
   "id": "b70c0d52-ae87-43a9-ba4a-45ad73d70506",
   "metadata": {},
   "outputs": [],
   "source": [
    "public static List<CostListItem> getTimeLineList(List<Cost> costs) {\n",
    "    List<Cost> sortedCosts = costs.stream()\n",
    "            .sorted(Comparator.comparing(Cost::getDate))\n",
    "            .collect(Collectors.toList());\n",
    "    List<CostListItem> items = new ArrayList<>();\n",
    "    int currentYear = -1;\n",
    "    int currentMonth = -1;\n",
    "    for (Cost cost : sortedCosts) {\n",
    "        LocalDate date = cost.getDate();\n",
    "        if (date.getYear() != currentYear) {\n",
    "            items.add(new CostListItem.CostYearItem(String.valueOf(date.getYear())));\n",
    "            currentYear = date.getYear();\n",
    "            currentMonth = -1;\n",
    "        }\n",
    "        if (date.getMonthValue() != currentMonth) {\n",
    "            items.add(new CostListItem.CostMonthItem(polishMonthsNames(date.getMonth())));\n",
    "            currentMonth = date.getMonthValue();\n",
    "        }\n",
    "        items.add(new CostListItem.CostGeneralItem(cost));\n",
    "    }\n",
    "    return items;\n",
    "}"
   ]
  },
  {
   "cell_type": "markdown",
   "id": "194ca648-2648-47f4-818d-6fac68e49a53",
   "metadata": {},
   "source": [
    "Metoda ta sortuje koszty według daty, a następnie tworzy listę elementów `CostListItem`, w której koszty są pogrupowane według roku i miesiąca. Każdy element listy reprezentuje rok, miesiąc lub koszt.\n",
    "- `List<Cost> sortedCosts = costs.stream()...`: Tworzy strumień kosztów i sortuje go według daty (metoda `sorted` z wykorzystaniem interfejsu `Comparator` i referencji do metody `getDate` klasy `Cost`). Następnie wynik jest kolekcjonowany do listy (`collect(Collectors.toList())`).\n",
    "- `List<CostListItem> items = new ArrayList<>();`: Tworzy listę zwracaną przez funkcję.\n",
    "- `int currentYear = -1; int currentMonth = -1;`: Inicjuje zmienne przechowujące bieżący rok i miesiąc na wartości -1.\n",
    "- `for (Cost cost : sortedCosts) { ... }`: Pętla po posortowanych kosztach.\n",
    "- `LocalDate date = cost.getDate();`: Pobiera datę z kosztu.\n",
    "- `if (date.getYear() != currentYear) { ... }`: Jeśli rok kosztu jest inny niż bieżący rok, dodaje element reprezentujący nowy rok do listy, aktualizuje bieżący rok i zeruje bieżący miesiąc.\n",
    "- `if (date.getMonthValue() != currentMonth) { ... }`: Jeśli miesiąc kosztu jest inny niż bieżący miesiąc, dodaje element reprezentujący nowy miesiąc do listy i aktualizuje bieżący miesiąc.\n",
    "- `items.add(new CostListItem.CostGeneralItem(cost));`: Dodaje element reprezentujący koszt do listy.\n",
    "- `return items;`: Zwraca listę elementów czasowej linii kosztów.\n",
    "Podsumowując, kod ten służy do przekształcania listy kosztów w listę `CostListItem`, w której koszty są pogrupowane według roku i miesiąca."
   ]
  },
  {
   "cell_type": "markdown",
   "id": "ab4d06af-9fda-4a0f-8d2f-6f730f7cf45d",
   "metadata": {},
   "source": [
    "Wykorzystujemy tutaj funkcję `polishMonthsNames`, zdefiniowaną w pliku `DateMapperUtil`, która służy do wyświetlania nazw miesięcy po polsku."
   ]
  },
  {
   "cell_type": "code",
   "execution_count": null,
   "id": "e086c974-548e-4c4e-850d-bf53ed9ad7ce",
   "metadata": {},
   "outputs": [],
   "source": [
    "public final class DateMapperUtil {\n",
    "    private DateMapperUtil(){}\n",
    "\n",
    "    public static String polishMonthsNames(Month month) {\n",
    "        switch (month) {\n",
    "            case JANUARY:\n",
    "                return \"STYCZEŃ\";\n",
    "            case FEBRUARY:\n",
    "                return \"LUTY\";\n",
    "            case MARCH:\n",
    "                return \"MARZEC\";\n",
    "            case APRIL:\n",
    "                return \"KWIECIEŃ\";\n",
    "            case MAY:\n",
    "                return \"MAJ\";\n",
    "            case JUNE:\n",
    "                return \"CZERWIEC\";\n",
    "            case JULY:\n",
    "                return \"LIPIEC\";\n",
    "            case AUGUST:\n",
    "                return \"SIERPIEŃ\";\n",
    "            case SEPTEMBER:\n",
    "                return \"WRZESIEŃ\";\n",
    "            case OCTOBER:\n",
    "                return \"PAŹDZIERNIK\";\n",
    "            case NOVEMBER:\n",
    "                return \"LISTOPAD\";\n",
    "            case DECEMBER:\n",
    "                return \"GRUDZIEŃ\";\n",
    "            default:\n",
    "                return \"unknown\";\n",
    "        }\n",
    "    }\n",
    "}"
   ]
  },
  {
   "cell_type": "markdown",
   "id": "d6afe2a2-4dc4-4db7-91eb-f621f1d3635f",
   "metadata": {},
   "source": [
    "W efekcie utworzymy tworzymy listę elementów dla `RecyclerView`, która zawiera obiekty o typie `CostListItem` (jednym z jego podtypów). Utworzymy trzy `ViewHolder`'y, zawierające różne `ui`. Chcemy wyświetlić posortowaną listę w formacie\n",
    "\n",
    "```verbatim\n",
    "<YEAR> - ViewHolder1\n",
    "<MONTH> - ViewHolder2\n",
    "<DATE> <COST> - ViewHolder3\n",
    "```"
   ]
  },
  {
   "cell_type": "markdown",
   "id": "8260e2cb-f69f-490b-a5ba-119c9b7b78a4",
   "metadata": {},
   "source": [
    "<img src=\"https://play-lh.googleusercontent.com/Lm6SO1jsUF-VjsrfkIV9x-qpPIkIOIvgWkBGmxyZuHWPSbkYMS0oLhgoBk9wLXq6Xw=w5120-h2880\" width=\"150\" />"
   ]
  },
  {
   "cell_type": "markdown",
   "id": "2099cccf-75c9-4102-b574-864022785007",
   "metadata": {},
   "source": [
    "Przejdźmy do utworzenia `ViewHolder`'ów dla naszego adaptera. Każdy z nich będzie posiadał inny layout i służył do przechowywania i wyświetlania jednego z podtypów `CostListItem` "
   ]
  },
  {
   "cell_type": "code",
   "execution_count": null,
   "id": "1ffa5d3a-efaf-4e9f-bba8-b6bbb13f4d67",
   "metadata": {},
   "outputs": [],
   "source": [
    "sealed class CostListItem {\n",
    "    class CostGeneralItem(val cost: Cost) : CostListItem()\n",
    "    class CostMonthItem(val date: String) : CostListItem()\n",
    "    class CostYearItem(val date: String) : CostListItem()\n",
    "}"
   ]
  },
  {
   "cell_type": "markdown",
   "id": "1056d0e4-3e32-4eb2-8205-140510c8f1ca",
   "metadata": {},
   "source": [
    "Rozpocznijmy od `MonthItemViewHolder`, zdefiniujmy layout dla wyświetlania miesiąca w pliku `month_item_timeline_recyclerview.xml`"
   ]
  },
  {
   "cell_type": "code",
   "execution_count": null,
   "id": "a990a44b-926c-4ebb-9331-58153bcbcc3b",
   "metadata": {},
   "outputs": [],
   "source": [
    "<?xml version=\"1.0\" encoding=\"utf-8\"?>\n",
    "<androidx.constraintlayout.widget.ConstraintLayout xmlns:android=\"http://schemas.android.com/apk/res/android\"\n",
    "    xmlns:app=\"http://schemas.android.com/apk/res-auto\"\n",
    "    android:layout_width=\"match_parent\"\n",
    "    android:layout_height=\"wrap_content\"\n",
    "    android:layout_marginStart=\"4dp\"\n",
    "    android:layout_marginEnd=\"4dp\">\n",
    "\n",
    "    <View\n",
    "        android:id=\"@+id/colorBarMonth\"\n",
    "        android:layout_width=\"16px\"\n",
    "        android:layout_height=\"0dp\"\n",
    "        android:layout_marginStart=\"24dp\"\n",
    "        android:background=\"?attr/colorPrimary\"\n",
    "        android:outlineAmbientShadowColor=\"?attr/colorPrimary\"\n",
    "        android:outlineSpotShadowColor=\"?attr/colorPrimary\"\n",
    "        app:layout_constraintBottom_toBottomOf=\"parent\"\n",
    "        app:layout_constraintStart_toStartOf=\"parent\"\n",
    "        app:layout_constraintTop_toTopOf=\"parent\" />\n",
    "\n",
    "    <ImageView\n",
    "        android:layout_width=\"wrap_content\"\n",
    "        android:layout_height=\"wrap_content\"\n",
    "        android:layout_marginStart=\"19dp\"\n",
    "        android:layout_marginTop=\"24dp\"\n",
    "        android:background=\"@drawable/ic_round_circle\"\n",
    "        android:backgroundTint=\"?attr/colorPrimary\"\n",
    "        android:contentDescription=\"@string/bullet\"\n",
    "        app:layout_constraintBottom_toBottomOf=\"@+id/colorBarMonth\"\n",
    "        app:layout_constraintStart_toStartOf=\"parent\"\n",
    "        app:layout_constraintTop_toTopOf=\"@+id/colorBarMonth\" />\n",
    "\n",
    "    <TextView\n",
    "        android:id=\"@+id/timeLineMonthTextView\"\n",
    "        android:layout_width=\"wrap_content\"\n",
    "        android:layout_height=\"wrap_content\"\n",
    "        android:layout_marginStart=\"16dp\"\n",
    "        android:layout_marginTop=\"24dp\"\n",
    "        android:fontFamily=\"serif\"\n",
    "        android:textColor=\"?attr/colorSecondary\"\n",
    "        android:padding=\"4dp\"\n",
    "        android:text=\"@string/date\"\n",
    "        android:textSize=\"16sp\"\n",
    "        app:layout_constraintBottom_toBottomOf=\"parent\"\n",
    "        app:layout_constraintStart_toStartOf=\"@id/colorBarMonth\"\n",
    "        app:layout_constraintTop_toTopOf=\"parent\" />\n",
    "\n",
    "</androidx.constraintlayout.widget.ConstraintLayout>"
   ]
  },
  {
   "cell_type": "markdown",
   "id": "81991fcf-b79d-4a72-a5d4-970fd6692889",
   "metadata": {},
   "source": [
    "Jak widzimy mamy tylko jedno pole TextView wyświetlające nazwę miesiąca po którym grupujemy. Pozostałe dwa elementy są graficznym identyfikatorem - `View` jest linią o zadanej grubości i `ImageView` tutaj ma formę wypełnionego koła.\n",
    "\n",
    "Dodajmy `MonthItemViewHolder`."
   ]
  },
  {
   "cell_type": "code",
   "execution_count": null,
   "id": "b12c9811-7635-4da7-b67f-de3dfc022cc2",
   "metadata": {},
   "outputs": [],
   "source": [
    "public class MonthItemViewHolder extends RecyclerView.ViewHolder {\n",
    "    private MonthItemTimelineRecyclerviewBinding binding;\n",
    "\n",
    "    public MonthItemViewHolder(MonthItemTimelineRecyclerviewBinding binding) {\n",
    "        super(binding.getRoot());\n",
    "        this.binding = binding;\n",
    "    }\n",
    "\n",
    "    public void bind(CostListItem.CostMonthItem item) {\n",
    "        binding.timeLineMonthTextView.setText(item.getMonth());\n",
    "    }\n",
    "}"
   ]
  },
  {
   "cell_type": "markdown",
   "id": "1427b331-0d26-4b86-83c3-2b647f39f07c",
   "metadata": {},
   "source": [
    "Dodajmy layout dla wyświetlenia roku, zawierający tylko jedno pole `TextView` (`year_item_timeline_recyclerview.xml`)"
   ]
  },
  {
   "cell_type": "code",
   "execution_count": null,
   "id": "0ffbdf29-58ef-4a1f-b304-8be2f914d17a",
   "metadata": {},
   "outputs": [],
   "source": [
    "<?xml version=\"1.0\" encoding=\"utf-8\"?>\n",
    "<androidx.constraintlayout.widget.ConstraintLayout xmlns:android=\"http://schemas.android.com/apk/res/android\"\n",
    "    xmlns:app=\"http://schemas.android.com/apk/res-auto\"\n",
    "    android:layout_width=\"match_parent\"\n",
    "    android:layout_height=\"wrap_content\"\n",
    "    android:layout_marginStart=\"4dp\"\n",
    "    android:layout_marginEnd=\"4dp\">\n",
    "\n",
    "    <View\n",
    "        android:id=\"@+id/colorBarMonth\"\n",
    "        android:layout_width=\"16px\"\n",
    "        android:layout_height=\"0dp\"\n",
    "        android:layout_marginStart=\"24dp\"\n",
    "        android:background=\"?attr/colorPrimary\"\n",
    "        android:outlineAmbientShadowColor=\"?attr/colorPrimary\"\n",
    "        android:outlineSpotShadowColor=\"?attr/colorPrimary\"\n",
    "        app:layout_constraintBottom_toBottomOf=\"parent\"\n",
    "        app:layout_constraintStart_toStartOf=\"parent\"\n",
    "        app:layout_constraintTop_toTopOf=\"parent\" />\n",
    "\n",
    "    <TextView\n",
    "        android:id=\"@+id/timeLineYearTextView\"\n",
    "        android:layout_width=\"wrap_content\"\n",
    "        android:layout_height=\"wrap_content\"\n",
    "        android:layout_marginTop=\"24dp\"\n",
    "        android:layout_marginBottom=\"16dp\"\n",
    "        android:fontFamily=\"serif\"\n",
    "        android:padding=\"4dp\"\n",
    "        android:text=\"2022\"\n",
    "        android:textColor=\"@color/purple_200\"\n",
    "        android:textSize=\"32sp\"\n",
    "        app:layout_constraintBottom_toBottomOf=\"parent\"\n",
    "        app:layout_constraintEnd_toEndOf=\"parent\"\n",
    "        app:layout_constraintStart_toStartOf=\"parent\"\n",
    "        app:layout_constraintTop_toTopOf=\"parent\" />\n",
    "\n",
    "</androidx.constraintlayout.widget.ConstraintLayout>"
   ]
  },
  {
   "cell_type": "markdown",
   "id": "bf9a33ea-f467-463a-a51d-a666be96cb97",
   "metadata": {},
   "source": [
    "Oraz powiązaną klasę `YearItemViewHolder`"
   ]
  },
  {
   "cell_type": "code",
   "execution_count": null,
   "id": "5ea1d12d-18b1-409c-bde4-d1613f29b400",
   "metadata": {},
   "outputs": [],
   "source": [
    "public class YearItemViewHolder extends RecyclerView.ViewHolder {\n",
    "    private YearItemTimelineRecyclerviewBinding binding;\n",
    "\n",
    "    public YearItemViewHolder(YearItemTimelineRecyclerviewBinding binding) {\n",
    "        super(binding.getRoot());\n",
    "        this.binding = binding;\n",
    "    }\n",
    "\n",
    "    public void bind(CostListItem.CostYearItem item) {\n",
    "        binding.timeLineYearTextView.setText(item.getYear());\n",
    "    }\n",
    "}"
   ]
  },
  {
   "cell_type": "markdown",
   "id": "035b34b7-06de-4cfd-9daf-b1e9b10787be",
   "metadata": {},
   "source": [
    "Ostatnim `ViewHolder`'em będzie `GeneralViewHolder` wyświetlający dzień oraz typ kosztu, wartość, oraz odpowiednią ikonę."
   ]
  },
  {
   "cell_type": "code",
   "execution_count": null,
   "id": "3703c8ca-adba-4af4-900f-5d0abf19dd2e",
   "metadata": {},
   "outputs": [],
   "source": [
    "<?xml version=\"1.0\" encoding=\"utf-8\"?>\n",
    "<androidx.constraintlayout.widget.ConstraintLayout xmlns:android=\"http://schemas.android.com/apk/res/android\"\n",
    "    xmlns:app=\"http://schemas.android.com/apk/res-auto\"\n",
    "    android:layout_width=\"match_parent\"\n",
    "    android:layout_height=\"wrap_content\"\n",
    "    android:layout_marginStart=\"4dp\"\n",
    "    android:layout_marginEnd=\"4dp\">\n",
    "\n",
    "    <View\n",
    "        android:id=\"@+id/colorBarGeneral\"\n",
    "        android:layout_width=\"16px\"\n",
    "        android:layout_height=\"0dp\"\n",
    "        android:layout_marginStart=\"24dp\"\n",
    "        android:background=\"?attr/colorPrimary\"\n",
    "        android:outlineAmbientShadowColor=\"?attr/colorPrimary\"\n",
    "        android:outlineSpotShadowColor=\"?attr/colorPrimary\"\n",
    "        app:layout_constraintBottom_toBottomOf=\"parent\"\n",
    "        app:layout_constraintStart_toStartOf=\"parent\"\n",
    "        app:layout_constraintTop_toTopOf=\"parent\" />\n",
    "\n",
    "    <ImageView\n",
    "        android:id=\"@+id/imageView\"\n",
    "        android:layout_width=\"wrap_content\"\n",
    "        android:layout_height=\"wrap_content\"\n",
    "        android:layout_marginStart=\"3.2dp\"\n",
    "        android:background=\"@drawable/ic_round_circle_big\"\n",
    "        android:backgroundTint=\"?attr/colorPrimary\"\n",
    "        android:contentDescription=\"@string/bullet\"\n",
    "        app:layout_constraintBottom_toBottomOf=\"@+id/colorBarGeneral\"\n",
    "        app:layout_constraintStart_toStartOf=\"parent\"\n",
    "        app:layout_constraintTop_toTopOf=\"@+id/colorBarGeneral\" />\n",
    "\n",
    "    <ImageView\n",
    "        android:id=\"@+id/iconTimeLineImageView\"\n",
    "        android:layout_width=\"wrap_content\"\n",
    "        android:layout_height=\"wrap_content\"\n",
    "        android:layout_marginStart=\"12dp\"\n",
    "        android:layout_marginTop=\"8dp\"\n",
    "        android:background=\"@drawable/ic_car_repair\"\n",
    "        android:backgroundTint=\"@color/white\"\n",
    "        android:contentDescription=\"@string/bullet\"\n",
    "        app:layout_constraintBottom_toBottomOf=\"@+id/imageView\"\n",
    "        app:layout_constraintStart_toStartOf=\"@+id/imageView\"\n",
    "        app:layout_constraintTop_toTopOf=\"@+id/imageView\"\n",
    "        app:layout_constraintVertical_bias=\"0.285\" />\n",
    "\n",
    "    <TextView\n",
    "        android:id=\"@+id/timeLineCostTypeNameTextView\"\n",
    "        android:layout_width=\"wrap_content\"\n",
    "        android:layout_height=\"wrap_content\"\n",
    "        android:padding=\"4dp\"\n",
    "        android:text=\"@string/costtype_name\"\n",
    "        android:textSize=\"24sp\"\n",
    "        app:layout_constraintBottom_toBottomOf=\"parent\"\n",
    "        app:layout_constraintStart_toEndOf=\"@+id/imageView\"\n",
    "        app:layout_constraintTop_toTopOf=\"parent\" />\n",
    "\n",
    "    <TextView\n",
    "        android:id=\"@+id/timeLineCostAmountTextView\"\n",
    "        android:layout_width=\"wrap_content\"\n",
    "        android:layout_height=\"wrap_content\"\n",
    "        android:layout_marginEnd=\"16dp\"\n",
    "        android:padding=\"4dp\"\n",
    "        android:text=\"1200 zł\"\n",
    "        android:textSize=\"24sp\"\n",
    "        app:layout_constraintBottom_toBottomOf=\"parent\"\n",
    "        app:layout_constraintEnd_toEndOf=\"parent\"\n",
    "        app:layout_constraintTop_toTopOf=\"parent\" />\n",
    "\n",
    "    <TextView\n",
    "        android:id=\"@+id/timeLineFullDateTextView\"\n",
    "        android:layout_width=\"wrap_content\"\n",
    "        android:layout_height=\"wrap_content\"\n",
    "        android:fontFamily=\"serif\"\n",
    "        android:paddingStart=\"4dp\"\n",
    "        android:text=\"@string/date\"\n",
    "        android:textSize=\"16sp\"\n",
    "        app:layout_constraintBottom_toBottomOf=\"parent\"\n",
    "        app:layout_constraintStart_toEndOf=\"@+id/imageView\"\n",
    "        app:layout_constraintTop_toBottomOf=\"@+id/timeLineCostTypeNameTextView\" />\n",
    "\n",
    "</androidx.constraintlayout.widget.ConstraintLayout>"
   ]
  },
  {
   "cell_type": "code",
   "execution_count": null,
   "id": "bd716d14-2b53-4ab8-9824-88db0ae8f863",
   "metadata": {},
   "outputs": [],
   "source": [
    "public class GeneralItemViewHolder extends RecyclerView.ViewHolder {\n",
    "    private GeneralItemTimelineRecyclerviewBinding binding;\n",
    "\n",
    "    public GeneralItemViewHolder(GeneralItemTimelineRecyclerviewBinding binding) {\n",
    "        super(binding.getRoot());\n",
    "        this.binding = binding;\n",
    "    }\n",
    "\n",
    "    @SuppressLint(\"SetTextI18n\")\n",
    "    public void bind(CostListItem.CostGeneralItem item, Context context) {\n",
    "        binding.timeLineCostTypeNameTextView.setText(item.getCost().getType().getCostType());\n",
    "        binding.timeLineFullDateTextView.setText(item.getCost().getDate().format(dateFormatter));\n",
    "        binding.timeLineCostAmountTextView.setText(item.getCost().getAmount() + \" zł\");\n",
    "        binding.iconTimeLineImageView.setBackground(ContextCompat.getDrawable(context, item.getCost().getType().getIcon()));\n",
    "    }\n",
    "}"
   ]
  },
  {
   "cell_type": "markdown",
   "id": "7f9a246d-384d-4405-b284-192f754d3137",
   "metadata": {},
   "source": [
    "Formatujemy `String` daty wykorzystując `dateFormatter` z pliku `StringUtil`"
   ]
  },
  {
   "cell_type": "code",
   "execution_count": null,
   "id": "9b8345e7-4cf2-4b68-bb7a-3c6b652dca1f",
   "metadata": {},
   "outputs": [],
   "source": [
    "public static DateTimeFormatter dateFormatter = DateTimeFormatter.ofPattern(\"dd MMM yyyy\", Locale.forLanguageTag(\"pl\"));"
   ]
  },
  {
   "cell_type": "markdown",
   "id": "49344591-3faf-48de-9392-f16f4f9ac5e6",
   "metadata": {},
   "source": [
    "Chcąc zmienić tło `ImageView`, aby zmienić ikonę, musimy podać jako argument `Context`, więc przekażemy go w argumencie metody.\n",
    "\n",
    "## `TimeLineAdapter`"
   ]
  },
  {
   "cell_type": "markdown",
   "id": "a037e37b-d831-4ae6-a65d-653d25d74d3a",
   "metadata": {},
   "source": [
    "Przejdźmy do implementacji `TimeLineAdapter`."
   ]
  },
  {
   "cell_type": "code",
   "execution_count": null,
   "id": "448efca7-19cc-464d-8de7-2180243c6bab",
   "metadata": {},
   "outputs": [],
   "source": [
    "public class TimeLineAdapter extends RecyclerView.Adapter<RecyclerView.ViewHolder> {\n",
    "    private final List<CostListItem> itemList;\n",
    "}"
   ]
  },
  {
   "cell_type": "markdown",
   "id": "a7d891f7-feeb-4c03-961a-dc750239d2d7",
   "metadata": {},
   "source": [
    "W konstruktorze przekazujemy `Context`, który jest wymagany przez metodę `bind` klasy `GeneralItemViewHolder`. Tworzymy też wartość inicjowaną wywołaniem metody `getTimeLineList`, zwracającą listę 500 elementów `CostListItem`, które umieścimy w `RecyclerView`.\n",
    "\n",
    "Nadpiszmy metodę `getItemCount`, zwracającą liczbę elementów do umieszczenia."
   ]
  },
  {
   "cell_type": "code",
   "execution_count": null,
   "id": "8195e4f7-4f6b-4612-be56-85449d4b1746",
   "metadata": {},
   "outputs": [],
   "source": [
    "@Override\n",
    "public int getItemCount() {\n",
    "    return itemList.size();\n",
    "}"
   ]
  },
  {
   "cell_type": "markdown",
   "id": "53f9707f-0623-4c88-90f8-186aff966df2",
   "metadata": {},
   "source": [
    "W metodzie `onCreateViewHolder` musimy utworzyć jeden z trzech zdefiniowanych `ViewHolder`'ów dla każdego elementu listy."
   ]
  },
  {
   "cell_type": "code",
   "execution_count": null,
   "id": "2c6b4dec-c60a-46ec-af98-884dfee843d4",
   "metadata": {},
   "outputs": [],
   "source": [
    "@NonNull\n",
    "@Override\n",
    "public RecyclerView.ViewHolder onCreateViewHolder(@NonNull ViewGroup parent, int viewType) {\n",
    "    switch (viewType) {\n",
    "        case CostListItem.TYPE_YEAR:\n",
    "            return createYearItemViewHolder(parent);\n",
    "        case CostListItem.TYPE_MONTH:\n",
    "            return createMonthItemViewHolder(parent);\n",
    "        default:\n",
    "            return createGeneralItemViewHolder(parent);\n",
    "    }\n",
    "}"
   ]
  },
  {
   "cell_type": "markdown",
   "id": "814258da-d42c-4cce-b84e-de05611cd84b",
   "metadata": {},
   "source": [
    "Funkcja używa instrukcji warunkowej `when` do zwrócenia odpowiedniego typu `ViewHoldera` w zależności od wartości `viewType`. Ponieważ `RecyyclerView` posiada pole `viewType` i jest ono typu `Int`, dodajmy `companion object` do klasy `CostLitItem`, który będzie zawierał zdefiniowane trzy pola typu `Int` - ppo jednym dla każdego podtypu."
   ]
  },
  {
   "cell_type": "code",
   "execution_count": null,
   "id": "05699895-1eb1-41c6-be2f-7e15226c97ff",
   "metadata": {},
   "outputs": [],
   "source": [
    "public abstract class CostListItem {\n",
    "    public static final int TYPE_YEAR = 0;\n",
    "    public static final int TYPE_MONTH = 1;\n",
    "    public static final int TYPE_GENERAL = 2;\n",
    "\n",
    "    abstract public int getType();\n",
    "\n",
    "    public static class CostGeneralItem extends CostListItem {\n",
    "        private final Cost cost;\n",
    "\n",
    "        public Cost getCost() {\n",
    "            return cost;\n",
    "        }\n",
    "\n",
    "        public CostGeneralItem(Cost cost){\n",
    "            this.cost = cost;\n",
    "        }\n",
    "\n",
    "\n",
    "        @Override\n",
    "        public int getType() {\n",
    "            return TYPE_GENERAL;\n",
    "        }\n",
    "    }\n",
    "\n",
    "    public static class CostMonthItem extends CostListItem {\n",
    "        private final String month;\n",
    "\n",
    "        public CostMonthItem(String month) {\n",
    "            this.month = month;\n",
    "        }\n",
    "\n",
    "        public String getMonth() {\n",
    "            return month;\n",
    "        }\n",
    "\n",
    "        @Override\n",
    "        public int getType() {\n",
    "            return TYPE_MONTH;\n",
    "        }\n",
    "    }\n",
    "\n",
    "    public static class CostYearItem extends CostListItem {\n",
    "        private final String year;\n",
    "\n",
    "        public CostYearItem(String year) {\n",
    "            this.year = year;\n",
    "        }\n",
    "\n",
    "        public String getYear() {\n",
    "            return year;\n",
    "        }\n",
    "\n",
    "        @Override\n",
    "        public int getType() {\n",
    "            return TYPE_YEAR;\n",
    "        }\n",
    "    }\n",
    "}"
   ]
  },
  {
   "cell_type": "markdown",
   "id": "36f1d933-56a7-4650-95d1-281113599e0f",
   "metadata": {},
   "source": [
    "Modyfikujemy również konstruktor główny klasy zapieczętowanej `CostListItem` - przyjmuje ona `viewType: Int` - jest to wartość po której będziemy rozróżniać nasze `ViewHolder`'y."
   ]
  },
  {
   "cell_type": "markdown",
   "id": "a02b573c-3206-4e67-90f1-9820ef7ac988",
   "metadata": {},
   "source": [
    "W przypadku, gdy wartość `viewType` jest równa stałej `CostListItem.TYPE_YEAR`, funkcja wywołuje metodę `createYearItemViewHolder(parent)`, która tworzy i zwraca obiekt `ViewHolder` specjalnego typu dla roku. W przypadku, gdy wartość `viewType` jest równa stałej `CostListItem.TYPE_MONTH`, funkcja wywołuje metodę `createMonthItemViewHolder(parent)`, która tworzy i zwraca obiekt `ViewHolder` specjalnego typu dla miesiąca. W przeciwnym razie funkcja wywołuje metodę `createGeneralItemViewHolder(parent)`, która tworzy i zwraca obiekt `ViewHolder` ogólnego typu dla pozostałych przypadków - czyli dla konkretnych wpisów na liście."
   ]
  },
  {
   "cell_type": "markdown",
   "id": "81e0fe8d-3ad0-443b-8527-7924da25eadc",
   "metadata": {},
   "source": [
    "`RecyclerView.viewType` to wartość typu widoku, która jest zwracana przez metodę `getItemViewType(position: Int)` w klasie dziedziczącej po `RecyclerView.Adapter`. Metoda ta jest wywoływana automatycznie przez `RecyclerView` podczas tworzenia nowych `ViewHolder`'ów, aby określić, jaki typ widoku należy wykorzystać dla danego elementu w liście.\n",
    "\n",
    "W przypadku, gdy w liście wyświetlane są elementy różnego typu (np. rok, miesiąc, itp.), metoda `getItemViewType` zwraca wartość typu widoku dla danego elementu, a wartość ta jest następnie używana w metodzie `onCreateViewHolder` do stworzenia odpowiedniego `ViewHolder`'a dla danego typu widoku.\n",
    "\n",
    "Wartości typów widoku powinny być unikalne i dodatnie, ponieważ są one wykorzystywane jako indeksy w wewnętrznej tablicy w `RecyclerView`, a wartości ujemne lub zerowe są zarezerwowane dla `RecyclerView` i nie powinny być używane przez użytkownika."
   ]
  },
  {
   "cell_type": "markdown",
   "id": "f025f5c1-9411-4df0-b307-76d6a8bcb3ab",
   "metadata": {},
   "source": [
    "Kolejnym elementem będzie nadpisanie metody `getItemViewType`, który zwróci odpowiednią wartość."
   ]
  },
  {
   "cell_type": "code",
   "execution_count": null,
   "id": "a3542bb9-97e5-46c9-b583-162d4b297df9",
   "metadata": {},
   "outputs": [],
   "source": [
    "@Override\n",
    "public int getItemViewType(int position) {\n",
    "    return itemList.get(position).getType();\n",
    "}"
   ]
  },
  {
   "cell_type": "markdown",
   "id": "051347b8-4fa4-4490-9ec1-9a64338271ee",
   "metadata": {},
   "source": [
    "Metoda ta korzysta z własności `viewType` obiektu `CostListItem` znajdującego się na pozycji position w `itemList`, aby określić, jaki typ widoku należy wykorzystać dla danego elementu.\n",
    "\n",
    "Każdy `ViewHolder` ma przypisany typ widoku, który określa, jakiego typu widok powinien być użyty do wyświetlenia danego elementu. Dzięki temu `RecyclerView` wie, jakie typy muszą być tworzone i ponownie używane podczas przewijania listy, co zapewnia wydajność i płynne przewijanie, nawet w przypadku dużych list."
   ]
  },
  {
   "cell_type": "markdown",
   "id": "86e5004a-5885-4106-be5c-34a0a8f8acbd",
   "metadata": {},
   "source": [
    "Przejdźmy do utworzenia trzech metod tworzących `ViewHolder`'y, które juuż zostały wywołane w metodzie `onCreateViewHolder`"
   ]
  },
  {
   "cell_type": "code",
   "execution_count": null,
   "id": "f8ec1467-d63b-458f-a91a-8571e361ed26",
   "metadata": {},
   "outputs": [],
   "source": [
    "private YearItemViewHolder createYearItemViewHolder(ViewGroup parent) {\n",
    "    YearItemTimelineRecyclerviewBinding binding = \n",
    "        YearItemTimelineRecyclerviewBinding.inflate(LayoutInflater.from(parent.getContext()), parent, false);\n",
    "    return new YearItemViewHolder(binding);\n",
    "}\n",
    "\n",
    "private MonthItemViewHolder createMonthItemViewHolder(ViewGroup parent) {\n",
    "    MonthItemTimelineRecyclerviewBinding binding = \n",
    "        MonthItemTimelineRecyclerviewBinding.inflate(LayoutInflater.from(parent.getContext()), parent, false);\n",
    "    return new MonthItemViewHolder(binding);\n",
    "}\n",
    "\n",
    "private GeneralItemViewHolder createGeneralItemViewHolder(ViewGroup parent) {\n",
    "    GeneralItemTimelineRecyclerviewBinding binding = \n",
    "        GeneralItemTimelineRecyclerviewBinding.inflate(LayoutInflater.from(parent.getContext()), parent, false);\n",
    "    return new GeneralItemViewHolder(binding);\n",
    "}"
   ]
  },
  {
   "cell_type": "markdown",
   "id": "39c72336-4da6-4b50-be2e-e44e13f39071",
   "metadata": {},
   "source": [
    "Ostatnią metodą jest `onBindViewHolder`, na podstawie przekazanego `ViewHolder`'a musimy wywołać metodę `bind` z odpowiednią listą argumentów - wykorzystamy rzutowanie."
   ]
  },
  {
   "cell_type": "code",
   "execution_count": null,
   "id": "569f8f67-7829-4e35-a9b9-2ed0e843bb08",
   "metadata": {},
   "outputs": [],
   "source": [
    "@Override\n",
    "public void onBindViewHolder(RecyclerView.ViewHolder holder, int position) {\n",
    "    switch (holder.getItemViewType()) {\n",
    "        case CostListItem.TYPE_YEAR:\n",
    "            ((YearItemViewHolder) holder).bind((CostListItem.CostYearItem) itemList.get(position));\n",
    "            break;\n",
    "        case CostListItem.TYPE_MONTH:\n",
    "            ((MonthItemViewHolder) holder).bind((CostListItem.CostMonthItem) itemList.get(position));\n",
    "            break;\n",
    "        case CostListItem.TYPE_GENERAL:\n",
    "            ((GeneralItemViewHolder) holder).bind((CostListItem.CostGeneralItem) itemList.get(position), context);\n",
    "            break;\n",
    "        default:\n",
    "            throw new IllegalArgumentException(\"Wrong ViewHolder\");\n",
    "    }\n",
    "}"
   ]
  },
  {
   "cell_type": "markdown",
   "id": "a1356645-d0d3-48ec-bfc5-7b3100754a2f",
   "metadata": {},
   "source": [
    "Instrukcja `when` używana w tej metodzie służy do określenia typu `ViewHoldera` i wywołania odpowiedniej metody `bind`, która ustawia wartości widoku na podstawie danych dla danego elementu.\n",
    "\n",
    "W przypadku, gdy `ViewHolder` jest typu `YearItemViewHolder`, metoda `bind` jest wywoływana z obiektem `CostListItem.CostYearItem` znajdującym się na pozycji `position` w `itemList`. W pozostałych przypadkach postępowanie jest analogiczne.\n",
    "\n",
    "W instrukcji `else` znajduje się wyjątek `IllegalArgumentException`, który jest zgłaszany w przypadku, gdy `ViewHolder` jest nieprawidłowego typu. Ten wyjątek jest rzucany, gdy wystąpi nieoczekiwany błąd, np. jeśli `ViewHolder` nie jest zdefiniowany w sposób poprawny."
   ]
  },
  {
   "cell_type": "markdown",
   "id": "1d29c34a-b17a-4056-87eb-1572a7bf73aa",
   "metadata": {},
   "source": [
    "Możemy przetestować aplikację"
   ]
  },
  {
   "cell_type": "markdown",
   "id": "a1b11c07-bbf9-4e8f-93b2-0b7345f667a5",
   "metadata": {},
   "source": [
    "<img src=\"https://media4.giphy.com/media/v1.Y2lkPTc5MGI3NjExNmMwYzA3ZDM5ZmI5MzYyOGQxMTY5M2ViODMwNjNlNDkxOGNiOGI0ZiZjdD1n/b0ros8sGEGksSq7Y3T/giphy.gif\" width=\"150\" />"
   ]
  },
  {
   "cell_type": "markdown",
   "id": "e10333b3-d2fc-4391-b63f-47fed7781547",
   "metadata": {},
   "source": [
    "### **Model danych**"
   ]
  },
  {
   "cell_type": "markdown",
   "id": "8f6f901a-edb3-4056-bfc3-895d1e6ace87",
   "metadata": {},
   "source": [
    "Przygotujmy prosty model danych opisujący samochód"
   ]
  },
  {
   "cell_type": "code",
   "execution_count": null,
   "id": "063a10ce-f2bb-4072-b45f-7c9266a37ec0",
   "metadata": {},
   "outputs": [],
   "source": [
    "public class Car {\n",
    "\n",
    "    private String name;\n",
    "    private String brand;\n",
    "    private String model;\n",
    "    private int yearOfProduction;\n",
    "    private List<Cost> costs;\n",
    "\n",
    "    public Car(String name, String brand, String model, int yearOfProduction, List<Cost> costs) {\n",
    "        this.name = name;\n",
    "        this.brand = brand;\n",
    "        this.model = model;\n",
    "        this.yearOfProduction = yearOfProduction;\n",
    "        this.costs = costs;\n",
    "    }\n",
    "\n",
    "    public String getName() {\n",
    "        return name;\n",
    "    }\n",
    "\n",
    "    public String getBrand() {\n",
    "        return brand;\n",
    "    }\n",
    "\n",
    "    public String getModel() {\n",
    "        return model;\n",
    "    }\n",
    "\n",
    "    public int getYearOfProduction() {\n",
    "        return yearOfProduction;\n",
    "    }\n",
    "\n",
    "    public List<Cost> getCosts() {\n",
    "        return costs;\n",
    "    }\n",
    "\n",
    "    public void setName(String name) {\n",
    "        this.name = name;\n",
    "    }\n",
    "\n",
    "    public void setBrand(String brand) {\n",
    "        this.brand = brand;\n",
    "    }\n",
    "\n",
    "    public void setModel(String model) {\n",
    "        this.model = model;\n",
    "    }\n",
    "\n",
    "    public void setYearOfProduction(int yearOfProduction) {\n",
    "        this.yearOfProduction = yearOfProduction;\n",
    "    }\n",
    "\n",
    "    public void setCosts(List<Cost> costs) {\n",
    "        this.costs = costs;\n",
    "    }\n",
    "\n",
    "}"
   ]
  },
  {
   "cell_type": "markdown",
   "id": "e9c420e0-e528-45c0-ab3a-f912d1059c9e",
   "metadata": {},
   "source": [
    "Poza standardowymi polami umieścimy również listę wszystkich kosztów (do której nie będziemy dodawać kolejnych wpisów). Musimy wprowadzić niewielkie zmiany w `DataProvider` i wystawić liste wszystkich samochodów. Zmienimy stałą `generalCosts` na funkcję przyjmującą rozmiar listy `size`."
   ]
  },
  {
   "cell_type": "code",
   "execution_count": null,
   "id": "b7007c2f-a193-4b62-b4bc-35d9c1da1b43",
   "metadata": {},
   "outputs": [],
   "source": [
    "private fun generalCosts(size: Int) = List(size) {\n",
    "    Cost(\n",
    "        CostType.values()[Random.nextInt(CostType.values().size)],\n",
    "        LocalDate.of(Random.nextInt(2005, 2023), Random.nextInt(1,13), Random.nextInt(1,28)),\n",
    "        Random.nextInt(5000)\n",
    "    )\n",
    "}"
   ]
  },
  {
   "cell_type": "markdown",
   "id": "16a6a67b-6b00-4d13-aaa6-37f362ec49b6",
   "metadata": {},
   "source": [
    "Zmodyfikujemy również nieco funkcję `getTimeLineList`, aby przyjmowała `costs` i zwracała listę `CostListItem`"
   ]
  },
  {
   "cell_type": "code",
   "execution_count": null,
   "id": "e80b6d6f-6055-4293-9a3f-4651076c7c8e",
   "metadata": {},
   "outputs": [],
   "source": [
    "private static ArrayList<Cost> generalCosts(int size) {\n",
    "    ArrayList<Cost> costs = new ArrayList<>();\n",
    "    for (int i = 0; i < size; i++) {\n",
    "        costs.add(new Cost(\n",
    "                CostType.values()[new Random().nextInt(CostType.values().length)],\n",
    "                LocalDate.of(new Random().nextInt(18) + 2005, new Random().nextInt(11)+1, new Random().nextInt(27)+1),\n",
    "                new Random().nextInt(5000)\n",
    "        ));\n",
    "    }\n",
    "    return costs;\n",
    "}"
   ]
  },
  {
   "cell_type": "markdown",
   "id": "8a14462a-0586-4671-aaf5-21b9ddeee7b4",
   "metadata": {},
   "source": [
    "Chcemy mieć możliwość pokazania listy wszystkich kosztów dla każdego samochodu. Zmieńmy sygnaturę klasy `TimeLineAdapter` - będzie przyjmować listę wszystkich kosztów `List<Cost>`"
   ]
  },
  {
   "cell_type": "code",
   "execution_count": null,
   "id": "812941ce-27e4-4e2b-80e9-e2d7171a8af9",
   "metadata": {},
   "outputs": [],
   "source": [
    "public class TimeLineAdapter extends RecyclerView.Adapter<RecyclerView.ViewHolder> {\n",
    "private final List<CostListItem> itemList;\n",
    "private final Context context;\n",
    "\n",
    "public TimeLineAdapter(List<Cost> costsList, Context context) {\n",
    "    this.context = context;\n",
    "    itemList = DataProvider.getTimeLineList(costsList);\n",
    "}"
   ]
  },
  {
   "cell_type": "markdown",
   "id": "d994c842-cc86-463f-9341-41393916dfcc",
   "metadata": {},
   "source": [
    "Ostatnim elementem będzie wystawienie listy wszystkich samochodów przez obiekt `DataProvider`"
   ]
  },
  {
   "cell_type": "code",
   "execution_count": null,
   "id": "ae875110-0234-404b-807d-1fdff7d84c49",
   "metadata": {},
   "outputs": [],
   "source": [
    "public static List<Car> cars = Arrays.asList(\n",
    "        new Car(\"Domowy\", \"Skoda\", \"Fabia\", 2002, generalCosts(100)),\n",
    "        new Car(\"Służbowy\", \"BMW\", \"Coupe\", 2015, generalCosts(200)),\n",
    "        new Car(\"Kolekcjonerski\", \"Fiat\", \"125p\", 1985, generalCosts(120)),\n",
    "        new Car(\"Sportowy\", \"Lamborghini\", \"Murcielago\", 2012, generalCosts(100)),\n",
    "        new Car(\"Zapasowy\", \"Skoda\", \"Superb\", 2010, generalCosts(120)),\n",
    "        new Car(\"SUV\", \"Skoda\", \"Kodiaq\", 2020, generalCosts(300))\n",
    ");"
   ]
  },
  {
   "cell_type": "markdown",
   "id": "c239216e-5e3b-49f1-a0d5-9b9875f89b27",
   "metadata": {},
   "source": [
    "### **Menu rozwijane**"
   ]
  },
  {
   "cell_type": "markdown",
   "id": "54e8b631-3578-42cb-b0c2-9e50ab15db7c",
   "metadata": {},
   "source": [
    "Na `TimeLineFragment` będziemy zmieniać listę kosztów za pomocą `TextInputLayout` oraz `AutoCompleteTextView`. W pierwszym kroku dodajmy go do layoutu"
   ]
  },
  {
   "cell_type": "code",
   "execution_count": null,
   "id": "49dcdb3c-6074-42e5-b2d0-bba97b2a4b77",
   "metadata": {},
   "outputs": [],
   "source": [
    "<?xml version=\"1.0\" encoding=\"utf-8\"?>\n",
    "<LinearLayout xmlns:android=\"http://schemas.android.com/apk/res/android\"\n",
    "    xmlns:tools=\"http://schemas.android.com/tools\"\n",
    "    android:layout_width=\"match_parent\"\n",
    "    android:layout_height=\"match_parent\"\n",
    "    android:orientation=\"vertical\">\n",
    "    \n",
    "    <com.google.android.material.textfield.TextInputLayout\n",
    "        style=\"@style/Widget.MaterialComponents.TextInputLayout.OutlinedBox.ExposedDropdownMenu\"\n",
    "        android:layout_width=\"match_parent\"\n",
    "        android:layout_height=\"wrap_content\"\n",
    "        android:layout_marginStart=\"16dp\"\n",
    "        android:layout_marginEnd=\"16dp\">\n",
    "\n",
    "        <AutoCompleteTextView\n",
    "            android:id=\"@+id/autoCompleteTextView\"\n",
    "            android:layout_width=\"match_parent\"\n",
    "            android:layout_height=\"match_parent\"\n",
    "            android:layout_weight=\"1\"\n",
    "            android:textAlignment=\"center\"\n",
    "            android:inputType=\"none\"\n",
    "            android:text=\"auto complete view\"\n",
    "            android:textSize=\"24sp\"\n",
    "            android:textColor=\"@color/purple_200\"/>\n",
    "    </com.google.android.material.textfield.TextInputLayout>\n",
    "\n",
    "    <androidx.recyclerview.widget.RecyclerView\n",
    "        android:id=\"@+id/timeLineRecyclerView\"\n",
    "        android:layout_width=\"match_parent\"\n",
    "        android:layout_height=\"0dp\"\n",
    "        android:layout_weight=\"1\"\n",
    "        android:layout_marginTop=\"12dp\" />\n",
    "\n",
    "</LinearLayout>"
   ]
  },
  {
   "cell_type": "markdown",
   "id": "e13d50ef-50b1-4559-8ab5-974c37065539",
   "metadata": {},
   "source": [
    "`TextInputLayout` jest specjalnym kontenerem, który zapewnia dodatkową funkcjonalność dla elementów formularza wejściowego. W tym przypadku `TextInputLayout` jest skonfigurowany z stylem `Widget.MaterialComponents.TextInputLayout.OutlinedBox.ExposedDropdownMenu`, co oznacza, że element formularza wejściowego jest ramkowany na zewnątrz, a gdy zostanie kliknięty, pojawią się opcje rozwijane. `AutoCompleteTextView` to element formularza wejściowego, który umożliwia użytkownikowi wprowadzenie tekstu, podczas gdy aplikacja automatycznie podpowiada dostępne opcje na podstawie wprowadzonego tekstu. `android:inputType=\"none\"` wyyłącza możliwość wprowadzania tekstu - tylko rozwiniemy menu przy kliknięciu."
   ]
  },
  {
   "cell_type": "markdown",
   "id": "7e6bb27c-50b6-4e49-8961-5bdf0bd1f6b2",
   "metadata": {},
   "source": [
    "Kolejnym elementem będzie layout pojedynczego elementu listy rozwijanej (`dropdown_item.xml`) - czyli elementów które pojawiają się po kliknięciu na `AutoCompleteTextView`"
   ]
  },
  {
   "cell_type": "code",
   "execution_count": null,
   "id": "975bdac7-dbc9-472a-afb8-869d13cb62c8",
   "metadata": {},
   "outputs": [],
   "source": [
    "<?xml version=\"1.0\" encoding=\"utf-8\"?>\n",
    "<TextView xmlns:android=\"http://schemas.android.com/apk/res/android\"\n",
    "    android:id=\"@+id/textView\"\n",
    "    android:text=\"Text\"\n",
    "    android:textColor=\"@color/purple_200\"\n",
    "    android:textSize=\"24sp\"\n",
    "    android:layout_width=\"match_parent\"\n",
    "    android:layout_height=\"match_parent\"\n",
    "    android:padding=\"14dp\">\n",
    "\n",
    "</TextView>"
   ]
  },
  {
   "cell_type": "code",
   "execution_count": null,
   "id": "665559fe-d134-4116-a0cd-85cc097e60c2",
   "metadata": {},
   "outputs": [],
   "source": [
    "<?xml version=\"1.0\" encoding=\"utf-8\"?>\n",
    "<TextView xmlns:android=\"http://schemas.android.com/apk/res/android\"\n",
    "    android:id=\"@+id/textView\"\n",
    "    android:text=\"Text\"\n",
    "    android:textColor=\"@color/purple_200\"\n",
    "    android:textSize=\"24sp\"\n",
    "    android:fontFamily=\"sans-serif\"\n",
    "    android:gravity=\"center\"\n",
    "    android:layout_width=\"match_parent\"\n",
    "    android:layout_height=\"match_parent\"\n",
    "    android:padding=\"14dp\">\n",
    "\n",
    "</TextView>"
   ]
  },
  {
   "cell_type": "markdown",
   "id": "558ab1de-bc5a-4383-bdfa-8da4392b7fd3",
   "metadata": {},
   "source": [
    "Pozostało utworzyć `RecyclerView` oraz `autoCompleteTextView` we fragmencie `TimeLineFragment`. Rozpocznijmy od metody konfigurującej `RecyclerView`"
   ]
  },
  {
   "cell_type": "code",
   "execution_count": null,
   "id": "30795f77-2c6f-4e62-bb54-52e45d35cbc6",
   "metadata": {},
   "outputs": [],
   "source": [
    "private fun setupRecyclerView(): RecyclerView {\n",
    "    return binding.timeLineRecyclerView.apply {\n",
    "        adapter = TimeLineAdapter(DataProvider.cars[0].costs, requireContext())\n",
    "        layoutManager = LinearLayoutManager(requireContext())\n",
    "    }\n",
    "}"
   ]
  },
  {
   "cell_type": "markdown",
   "id": "b9a53939-4eda-4648-9b88-4a3e81e24fa9",
   "metadata": {},
   "source": [
    "Wywołajmy tą metodę w `onCreateView`"
   ]
  },
  {
   "cell_type": "code",
   "execution_count": null,
   "id": "98d5d5e3-c165-4558-b697-115ec81ec31d",
   "metadata": {},
   "outputs": [],
   "source": [
    "    override fun onCreateView(\n",
    "        inflater: LayoutInflater, container: ViewGroup?,\n",
    "        savedInstanceState: Bundle?\n",
    "    ): View {\n",
    "        binding = FragmentTimeLineBinding.inflate(inflater)\n",
    "\n",
    "        val recycler = setupRecyclerView()\n",
    "\n",
    "        return binding.root\n",
    "    }"
   ]
  },
  {
   "cell_type": "markdown",
   "id": "a1915fd6-7fbc-41c3-8cbf-4eb9cbff68a1",
   "metadata": {},
   "source": [
    "Wartość `recycler` będzie nam potrzebna przy zmianie elementu listy - chcemy przeładować adapter i wczytać nową listę. Przejdźmy do funkcji konfigurującej `autoCompleteTextView`"
   ]
  },
  {
   "cell_type": "code",
   "execution_count": null,
   "id": "88c858ba-26f1-4106-aa0f-4298c5fc51bf",
   "metadata": {},
   "outputs": [],
   "source": [
    "private fun setupDropDownSelector(recycler: RecyclerView) {\n",
    "    binding.autoCompleteTextView.apply {"
   ]
  },
  {
   "cell_type": "markdown",
   "id": "aa4fc02b-c9c5-4b97-af2b-7debf96b0905",
   "metadata": {},
   "source": [
    "W pierwszym kroku ustawmy text na pierwszy element listy, task aby odpowiadał wyświetlanej liście przy otworzeniu fragmentu."
   ]
  },
  {
   "cell_type": "code",
   "execution_count": null,
   "id": "04d9a844-9b88-4434-9e9f-5f8d0084302d",
   "metadata": {},
   "outputs": [],
   "source": [
    "        setText(DataProvider.cars[0].name)"
   ]
  },
  {
   "cell_type": "markdown",
   "id": "de9e3d18-f888-4c01-b850-a98b930ba6ca",
   "metadata": {},
   "source": [
    "Ponieważ mamy listę (podobnie jak w `RecyclerView`), musimy utworzyć adapter"
   ]
  },
  {
   "cell_type": "code",
   "execution_count": null,
   "id": "144d7baa-002b-4b1b-a3a3-8b9aa89957f7",
   "metadata": {},
   "outputs": [],
   "source": [
    "        setAdapter(\n",
    "            ArrayAdapter(\n",
    "                requireContext(),\n",
    "                R.layout.dropdown_item,\n",
    "                DataProvider.cars.map { it.name })\n",
    "        )"
   ]
  },
  {
   "cell_type": "markdown",
   "id": "cc2cc0ff-7eee-49d2-9ac4-9b021932226c",
   "metadata": {},
   "source": [
    "W tym przypadku, adapter ustawiony w metodzie `setAdapter()` to `ArrayAdapter`. Jest to prost adapter, który wyświetla elementy w widoku rozwijanym na podstawie tablicy danych.\n",
    "\n",
    "`R.layout.dropdown_item` to identyfikator zasobu, który definiuje układ dla elementu rozwijanego menu. `DataProvider.cars.map { it.name }` to kolekcja nazw samochodów, która jest przetwarzana za pomocą funkcji `map` i zamieniana na listę nazw samochodów."
   ]
  },
  {
   "cell_type": "markdown",
   "id": "59f01247-78eb-4a96-a203-4eb6b395d984",
   "metadata": {},
   "source": [
    "Ostatnim elementem jest `onItemClickListener` elementu z rozwijanej listy."
   ]
  },
  {
   "cell_type": "code",
   "execution_count": null,
   "id": "81bd231c-62b2-4be6-8527-76a0a02fefb9",
   "metadata": {},
   "outputs": [],
   "source": [
    "        onItemClickListener =\n",
    "            AdapterView.OnItemClickListener { _, _, position, _ ->\n",
    "                recycler.swapAdapter(\n",
    "                    TimeLineAdapter(\n",
    "                        DataProvider.cars[position].costs,\n",
    "                        requireContext()\n",
    "                    ), true\n",
    "                )\n",
    "            }"
   ]
  },
  {
   "cell_type": "markdown",
   "id": "438388d7-37d9-4ba3-b517-844d1cff92ac",
   "metadata": {},
   "source": [
    "Obiekt `AdapterView.OnItemClickListener` to obiekt, który nasłuchuje zdarzeń kliknięcia elementów w widoku rozwijanym i podejmuje odpowiednie akcje na podstawie tych zdarzeń. W tym przypadku, kiedy użytkownik kliknie na element w menu rozwijanym, funkcja `onItemClick` jest wywoływana, która przyjmuje cztery parametry: `parent`, `view`, `position`, i `id`.\n",
    "\n",
    "- `parent` to widok nadrzędny, który zawiera element rozwijanego menu. \n",
    "- `view` to widok, który został kliknięty. \n",
    "- `position` to pozycja elementu w menu rozwijanym, który został kliknięty. \n",
    "- `id` to identyfikator elementu, który został kliknięty (jeśli taki istnieje).\n",
    "\n",
    "Pozycja elementu w menu rozwijanym, który został kliknięty, jest wykorzystywana do uzyskania danych o samochodzie z listy samochodów zdefiniowanej w obiekcie `DataProvider`. Dane o samochodzie są przekazywane do adaptera `TimeLineAdapter` wraz z kontekstem aplikacji. Adapter jest ustawiany na element `RecyclerView` za pomocą funkcji `swapAdapter`, która wymienia aktualny adapter na nowy.\n",
    "\n",
    "Podsumowując, na podstawie pozycji wybranej przez użytkownika, dane o samochodzie są przekazywane do adaptera `TimeLineAdapter`, a następnie adapter jest ustawiany na elemencie `RecyclerView`."
   ]
  },
  {
   "cell_type": "markdown",
   "id": "c9cb312d-132b-4f21-9a86-a28262ad0c4a",
   "metadata": {},
   "source": [
    "Pełna funkcja"
   ]
  },
  {
   "cell_type": "code",
   "execution_count": null,
   "id": "5b24bd19-df67-4d15-a149-0e0e21d89d68",
   "metadata": {},
   "outputs": [],
   "source": [
    "private fun setupDropDownSelector(recycler: RecyclerView) {\n",
    "    binding.autoCompleteTextView.apply {\n",
    "\n",
    "        setText(DataProvider.cars[0].name)\n",
    "\n",
    "        setAdapter(\n",
    "            ArrayAdapter(\n",
    "                requireContext(),\n",
    "                R.layout.dropdown_item,\n",
    "                DataProvider.cars.map { it.name })\n",
    "        )\n",
    "\n",
    "        onItemClickListener =\n",
    "            AdapterView.OnItemClickListener { _, _, position, _ ->\n",
    "                recycler.swapAdapter(\n",
    "                    TimeLineAdapter(\n",
    "                        DataProvider.cars[position].costs,\n",
    "                        requireContext()\n",
    "                    ), true\n",
    "                )\n",
    "            }\n",
    "    }\n",
    "}"
   ]
  },
  {
   "cell_type": "markdown",
   "id": "fa57cc9b-b61f-4d62-b8d1-660dcffb8cbf",
   "metadata": {},
   "source": [
    "W metodzie `onCreatreView` wywołujemy metodę konfigurującą `autoCompleteTextView` i przekazujemy do niej instancję `RecyclerView`"
   ]
  },
  {
   "cell_type": "code",
   "execution_count": null,
   "id": "58bd0450-404a-4dab-ae0e-1cdc915233b0",
   "metadata": {},
   "outputs": [],
   "source": [
    "override fun onCreateView(\n",
    "    inflater: LayoutInflater, container: ViewGroup?,\n",
    "    savedInstanceState: Bundle?\n",
    "): View {\n",
    "    binding = FragmentTimeLineBinding.inflate(inflater)\n",
    "\n",
    "    val recycler = setupRecyclerView()\n",
    "\n",
    "    setupDropDownSelector(recycler)\n",
    "\n",
    "    return binding.root\n",
    "}"
   ]
  },
  {
   "cell_type": "markdown",
   "id": "25850d5a-cd26-4e42-8254-d36453df28ce",
   "metadata": {},
   "source": [
    "Możemy przetestować aplikację"
   ]
  },
  {
   "cell_type": "markdown",
   "id": "6a759115-4a61-4d00-bd26-760fb551c28a",
   "metadata": {},
   "source": [
    "<img src=\"https://media1.giphy.com/media/v1.Y2lkPTc5MGI3NjExYzAzYTQ3YTM1ZmU4N2YwMzEyNTk1N2FhZTJiNjkwYzdjNTE5YmY1NyZjdD1n/216FkBMSottM4STnEt/giphy.gif\" width=\"200\" />"
   ]
  },
  {
   "cell_type": "markdown",
   "id": "53cb7623-8811-44e8-b84f-f1f219386ee7",
   "metadata": {},
   "source": [
    "Możemy zauważyć, że przechodząc między fragmentami, `RecyclerView` powraca do wyświewtlania listy dla pierwszego elementu, `AutoCompleteTextView` wyświetla tylko aktualny element - ten typ problemu nie będzie występował w późniejszych aplikacjach, gdzie zaczniemy wykorzystywać większą ilość wzorców projektowych."
   ]
  },
  {
   "cell_type": "markdown",
   "id": "f0a704f6-fac5-4511-8979-320af586982f",
   "metadata": {},
   "source": [
    "<img src=\"https://media2.giphy.com/media/v1.Y2lkPTc5MGI3NjExNWJjNTg4YWQ1NDAyMDA3YjUzYzQ4ZmQ0ODY3NzA2MWM1NDE2YTg5NCZjdD1n/7glBdDuDccXkcpIl3O/giphy.gif\" width=\"200\" />"
   ]
  },
  {
   "cell_type": "markdown",
   "id": "a6d88fb3-84dc-43ba-95d6-5cb4b9425f41",
   "metadata": {},
   "source": [
    "Na potrzeby tej aplikacji, zmodyfikujmy nieco kod. Będziemy potrzebować dostęp do `RecyclerView` poza metodą `onCreateView`, więc dodajmy odpowiednie pole."
   ]
  },
  {
   "cell_type": "code",
   "execution_count": null,
   "id": "0b13fcf8-a533-49a7-9dfa-43215e1dab02",
   "metadata": {},
   "outputs": [],
   "source": [
    "private val recycler by lazy { setupRecyclerView() }"
   ]
  },
  {
   "cell_type": "markdown",
   "id": "9848e8f5-0690-41ab-a49b-56f2985bf131",
   "metadata": {},
   "source": [
    "Ponieważ lista jest automatycznie przestawiana na wyświetlanie pierwszego elementu (adapter ustawiamy tylko w `onItemClickListener`), wiec dodajmy metodę pomocniczą."
   ]
  },
  {
   "cell_type": "code",
   "execution_count": null,
   "id": "399ff533-3304-42d1-93c7-aceac6d2444f",
   "metadata": {},
   "outputs": [],
   "source": [
    "private fun setCurrentAdapter(\n",
    "    recycler: RecyclerView,\n",
    "    position: Int\n",
    ") {\n",
    "    recycler.swapAdapter(\n",
    "        TimeLineAdapter(\n",
    "            DataProvider.cars[position].costs,\n",
    "            requireContext()\n",
    "        ), true\n",
    "    )\n",
    "}"
   ]
  },
  {
   "cell_type": "markdown",
   "id": "08ed2fb7-6beb-4f25-ab85-c53f9cbc778e",
   "metadata": {},
   "source": [
    "W metodzie `setupDropDownSelector` teraz w pierwszym kroku sprawdzimy czy tekst w polu `AutoCompleteTextView` jest pusty, jeżeli jest, ustawiamy wartość pierwszego elementu listy."
   ]
  },
  {
   "cell_type": "code",
   "execution_count": null,
   "id": "449828ef-2c0a-48bf-990f-b9d4836f6cc0",
   "metadata": {},
   "outputs": [],
   "source": [
    "if (text.toString().isEmpty())\n",
    "    setText(DataProvider.cars[0].name)"
   ]
  },
  {
   "cell_type": "markdown",
   "id": "912def0d-fa21-452d-84c8-e336ec623907",
   "metadata": {},
   "source": [
    "Następnie, na podstawie tej nazwy, ustawiamy odpowiedni adapter"
   ]
  },
  {
   "cell_type": "code",
   "execution_count": null,
   "id": "19b455bd-effd-42a8-a398-f2d6e025bc0a",
   "metadata": {},
   "outputs": [],
   "source": [
    "val itemPosition = DataProvider.cars.indexOfFirst { it.name == binding.autoCompleteTextView.text.toString() }\n",
    "setCurrentAdapter(recycler, itemPosition)"
   ]
  },
  {
   "cell_type": "markdown",
   "id": "29ccc3df-ccf5-4393-b312-10d84dac28ad",
   "metadata": {},
   "source": [
    "Ustawimy adapter dla rozwijanej listy."
   ]
  },
  {
   "cell_type": "code",
   "execution_count": null,
   "id": "d5a10c0d-6e0b-466b-8e5e-2c4460c946c1",
   "metadata": {},
   "outputs": [],
   "source": [
    "setupAutoCompleteAdapter(this)"
   ]
  },
  {
   "cell_type": "code",
   "execution_count": null,
   "id": "50b77089-7453-4102-b50a-d3d9b17da306",
   "metadata": {},
   "outputs": [],
   "source": [
    "private fun setupAutoCompleteAdapter(autoCompleteTextView: AutoCompleteTextView) {\n",
    "    autoCompleteTextView.setAdapter(\n",
    "        ArrayAdapter(\n",
    "            requireContext(),\n",
    "            R.layout.dropdown_item,\n",
    "            DataProvider.cars.map { it.name })\n",
    "    )\n",
    "}"
   ]
  },
  {
   "cell_type": "markdown",
   "id": "fc5749b8-9e8e-4f2c-928e-4964b96fdf36",
   "metadata": {},
   "source": [
    "Ostatnim elementem będzie ustawienie `OnItemClickListener`"
   ]
  },
  {
   "cell_type": "code",
   "execution_count": null,
   "id": "f1d14050-221e-4b75-9b5e-421fe7352ee9",
   "metadata": {},
   "outputs": [],
   "source": [
    "onItemClickListener =\n",
    "    AdapterView.OnItemClickListener { _, _, position, _ ->\n",
    "        setCurrentAdapter(recycler, position)\n",
    "    }"
   ]
  },
  {
   "cell_type": "markdown",
   "id": "09a52279-d521-4ebc-b84d-ab8e3af04a61",
   "metadata": {},
   "source": [
    "Ze względu na specyfikę cyklu życia fragmentu, pozostawiamy `onViewCreated` tylko z konfiguracją `binding`, metody konfigurujące elementy ui wywołujemy w metodzie `onResume`"
   ]
  },
  {
   "cell_type": "code",
   "execution_count": null,
   "id": "1c25e1a0-1413-4194-b565-c93a2409c1ea",
   "metadata": {},
   "outputs": [],
   "source": [
    "override fun onCreateView(\n",
    "    inflater: LayoutInflater, container: ViewGroup?,\n",
    "    savedInstanceState: Bundle?\n",
    "): View {\n",
    "    binding = FragmentTimeLineBinding.inflate(inflater)\n",
    "\n",
    "    return binding.root\n",
    "}\n",
    "\n",
    "override fun onResume() {\n",
    "    super.onResume()\n",
    "    setupAutoCompleteAdapter(binding.autoCompleteTextView)\n",
    "\n",
    "    setupDropDownSelector(recycler)\n",
    "}"
   ]
  },
  {
   "cell_type": "markdown",
   "id": "77652116-8ebe-4282-8930-2f82d483b2d1",
   "metadata": {},
   "source": [
    "Wywołanie tych metod w `onResume` zapewnia, że wszelkie zależności danych są już dostępne w momencie wywołania tych metod, a wszelkie komponenty interfejsu użytkownika, które wymagają odświeżenia lub ponownej inicjalizacji, są odpowiednio aktualizowane, gdy użytkownik wraca do fragmentu."
   ]
  },
  {
   "cell_type": "markdown",
   "id": "5a2df15b-710a-4680-8229-e627f742fa64",
   "metadata": {},
   "source": [
    "<img src=\"https://media0.giphy.com/media/v1.Y2lkPTc5MGI3NjExMGU1NWUwMjQyYjFiZWI1NWNkNGY0MjhhZDBmMWJkZGMzNzYzY2QwYiZjdD1n/uX6wAShD6xEsU57q3h/giphy.gif\" width=\"200\" />"
   ]
  },
  {
   "cell_type": "markdown",
   "id": "4f952042-f91f-4210-9c48-f209de27d8b6",
   "metadata": {},
   "source": [
    "Zmieńmy nieco wygląd aplikacji - usuńmy plik `themes.xml(night)`. W pliku `colors.xml` zdefiniujmy kilka kolorów"
   ]
  },
  {
   "cell_type": "code",
   "execution_count": null,
   "id": "19b8cebd-78ec-4445-a57f-d8fd24076fa9",
   "metadata": {},
   "outputs": [],
   "source": [
    "<?xml version=\"1.0\" encoding=\"utf-8\"?>\n",
    "<resources>\n",
    "    <color name=\"purple_200\">#FFBB86FC</color>\n",
    "    <color name=\"purple_500\">#FF6200EE</color>\n",
    "    <color name=\"purple_700\">#FF3700B3</color>\n",
    "    <color name=\"teal_200\">#FF03DAC5</color>\n",
    "    <color name=\"teal_700\">#FF018786</color>\n",
    "    <color name=\"black\">#FF000000</color>\n",
    "    <color name=\"white\">#FFFFFFFF</color>\n",
    "    <color name=\"mtrl_textinput_default_box_stroke_color\">#fff</color>\n",
    "    <color name=\"green_500\">#FF1EB980</color>\n",
    "    <color name=\"dark_blue_900\">#FF26282F</color>\n",
    "    <color name=\"dark_blue_500\">#FF004940</color>\n",
    "</resources>"
   ]
  },
  {
   "cell_type": "markdown",
   "id": "cfda208c-9ed1-4273-8b31-87b12b1477a6",
   "metadata": {},
   "source": [
    "Następnie zmodyfikujmy plik `themes.xml`"
   ]
  },
  {
   "cell_type": "code",
   "execution_count": null,
   "id": "0ccf5989-25c9-4d8f-bc50-1eeb290572fa",
   "metadata": {},
   "outputs": [],
   "source": [
    "<resources xmlns:tools=\"http://schemas.android.com/tools\">\n",
    "    <!-- Base application theme. -->\n",
    "    <style name=\"Theme.CarsyKotlin\" parent=\"Theme.MaterialComponents.DayNight.NoActionBar\">\n",
    "        <!-- Primary brand color. -->\n",
    "        <item name=\"colorPrimary\">@color/dark_blue_500</item>\n",
    "        <item name=\"colorPrimaryVariant\">@color/dark_blue_900</item>\n",
    "        <item name=\"colorOnPrimary\">@color/teal_700</item>\n",
    "        <!-- Secondary brand color. -->\n",
    "        <item name=\"colorSecondary\">@color/teal_700</item>\n",
    "        <item name=\"colorSecondaryVariant\">@color/teal_200</item>\n",
    "        <item name=\"colorOnSecondary\">@color/white</item>\n",
    "        <item name=\"android:itemBackground\">@color/dark_blue_900</item>\n",
    "        <!-- Status bar color. -->\n",
    "        <item name=\"android:statusBarColor\" tools:targetApi=\"l\">?attr/colorPrimaryVariant</item>\n",
    "        <!-- Customize your theme here. -->\n",
    "    </style>\n",
    "\n",
    "    <style name=\"editText\" parent=\"Widget.MaterialComponents.TextInputLayout.OutlinedBox.Dense\">\n",
    "        <item name=\"boxStrokeColor\">@color/teal_200</item>\n",
    "        <item name=\"boxStrokeWidth\">2dp</item>\n",
    "    </style>\n",
    "</resources>"
   ]
  },
  {
   "cell_type": "markdown",
   "id": "806dc0d3-79d8-4396-9ba9-8f9a65713c01",
   "metadata": {},
   "source": [
    "Dodajmy ikony do nawigacji dolnej"
   ]
  },
  {
   "cell_type": "code",
   "execution_count": null,
   "id": "9e7c17c1-a3d8-488d-ba9f-b082e29b9082",
   "metadata": {},
   "outputs": [],
   "source": [
    "<?xml version=\"1.0\" encoding=\"utf-8\"?>\n",
    "<menu xmlns:android=\"http://schemas.android.com/apk/res/android\">\n",
    "    <item\n",
    "        android:id=\"@id/overviewFragment\"\n",
    "        android:title=\"@string/overview\"\n",
    "        android:icon=\"@drawable/ic_overview\"/>\n",
    "    <item\n",
    "        android:id=\"@id/timeLineFragment\"\n",
    "        android:title=\"@string/time_line\"\n",
    "        android:icon=\"@drawable/ic_timeline\"/>\n",
    "\n",
    "    <item\n",
    "        android:id=\"@id/calculatorsFragment\"\n",
    "        android:title=\"@string/calculators\"\n",
    "        android:icon=\"@drawable/ic_calculate\"/>\n",
    "</menu>"
   ]
  },
  {
   "cell_type": "markdown",
   "id": "74ba6c40-2876-4388-9d66-12ef3f009ae2",
   "metadata": {},
   "source": [
    "Przejdźmy do layoutu głównej aktywności i zmodyfikujmy kolorystykę `BottomNavigationView`"
   ]
  },
  {
   "cell_type": "code",
   "execution_count": null,
   "id": "edb7033a-95b0-431c-915e-75b529c670e9",
   "metadata": {},
   "outputs": [],
   "source": [
    "<com.google.android.material.bottomnavigation.BottomNavigationView\n",
    "    android:id=\"@+id/bottom_nav_view\"\n",
    "    android:layout_width=\"match_parent\"\n",
    "    android:layout_height=\"wrap_content\"\n",
    "    android:background=\"@color/dark_blue_900\"\n",
    "    app:itemIconTint=\"@drawable/bottom_navigation_highlight\"\n",
    "    app:itemTextColor=\"@drawable/bottom_navigation_highlight\"\n",
    "    app:menu=\"@menu/bottom_menu\" />"
   ]
  },
  {
   "cell_type": "markdown",
   "id": "01a1c550-b35f-46f3-b7e6-623c37c42c9b",
   "metadata": {},
   "source": [
    "Pozbywamy się w ten sposób domyślnych ustawień dla podświetlenie zaznaczonej ikony oraz tekstu, więc zdefiniujmy własny w pliku `bottom_navigation_highlight.xml` (katalog `drawable`)"
   ]
  },
  {
   "cell_type": "code",
   "execution_count": null,
   "id": "d1b5783b-a29d-4f4b-8e60-27b9c4ac242a",
   "metadata": {},
   "outputs": [],
   "source": [
    "<?xml version=\"1.0\" encoding=\"utf-8\"?>\n",
    "<selector xmlns:android=\"http://schemas.android.com/apk/res/android\">\n",
    "    <item android:state_checked=\"true\" android:color=\"@color/teal_200\" />\n",
    "    <item android:state_checked=\"false\" android:color=\"@color/teal_700\"/>\n",
    "</selector>"
   ]
  },
  {
   "cell_type": "markdown",
   "id": "dbb33736-d6e3-4e8c-8e78-c5dd63b75801",
   "metadata": {},
   "source": [
    "<img src=\"https://media0.giphy.com/media/v1.Y2lkPTc5MGI3NjExNjE5YjNjNzQ5ZTI4NjA4ZjUwYjU5Y2U1OTJiMWI3ZTcwZjFjMzk2YyZjdD1n/8cewjfu93SOFmg8FBF/giphy.gif\" width=\"200\" />"
   ]
  },
  {
   "cell_type": "markdown",
   "id": "aa60ffa0-c5ad-4baa-835d-8b7431a3cada",
   "metadata": {},
   "source": [
    "### **CalculatorsFragment**"
   ]
  },
  {
   "cell_type": "markdown",
   "id": "bb5bdb5e-f8ee-4ccf-a41a-b45608576ba5",
   "metadata": {},
   "source": [
    "Dodamy możliwość skorzystania z trzech kalkulatorów pozwalających obliczyć podstawowe parametry na podstawie informacji o paliwie, spalaniu, cenie i dystansie. Kalkulatory będą współdzielić layout, zmianę będziemy dokonywać jak w `TimeLineFragment`.\n",
    "\n",
    "Będziemy posługiwać się liczbami zmiennoprzecinkowymi, więc dodajmy zaokrąglenie do dwóch miejsc. W pliku `Formatter` dodajemy"
   ]
  },
  {
   "cell_type": "code",
   "execution_count": null,
   "id": "a32b7870-36d5-4990-bc65-c1a38a778718",
   "metadata": {},
   "outputs": [],
   "source": [
    "val decimalFormat = DecimalFormat(\"###,###.##\")"
   ]
  },
  {
   "cell_type": "markdown",
   "id": "518ecdfb-46fb-41d7-aa4a-1052584db28c",
   "metadata": {},
   "source": [
    "Przygotujmy layout z formularzem oraz spinnerem"
   ]
  },
  {
   "cell_type": "code",
   "execution_count": null,
   "id": "d6291aa1-9fe0-4b86-9e97-eb561726d0ba",
   "metadata": {},
   "outputs": [],
   "source": [
    "<?xml version=\"1.0\" encoding=\"utf-8\"?>\n",
    "<LinearLayout xmlns:android=\"http://schemas.android.com/apk/res/android\"\n",
    "    xmlns:tools=\"http://schemas.android.com/tools\"\n",
    "    android:layout_width=\"match_parent\"\n",
    "    android:layout_height=\"match_parent\"\n",
    "    xmlns:app=\"http://schemas.android.com/apk/res-auto\"\n",
    "    android:orientation=\"vertical\"\n",
    "    android:background=\"@color/dark_blue_900\">\n",
    "\n",
    "    <com.google.android.material.textfield.TextInputLayout\n",
    "        style=\"@style/Widget.MaterialComponents.TextInputLayout.OutlinedBox.ExposedDropdownMenu\"\n",
    "        android:layout_width=\"match_parent\"\n",
    "        android:layout_height=\"wrap_content\"\n",
    "        android:layout_marginStart=\"16dp\"\n",
    "        android:layout_marginEnd=\"16dp\">\n",
    "\n",
    "        <AutoCompleteTextView\n",
    "            android:id=\"@+id/autoCompleteTextView\"\n",
    "            android:layout_width=\"match_parent\"\n",
    "            android:layout_height=\"match_parent\"\n",
    "            android:layout_weight=\"1\"\n",
    "            android:textAlignment=\"center\"\n",
    "            android:inputType=\"none\"\n",
    "            android:text=\"\"\n",
    "            android:textSize=\"24sp\"\n",
    "            android:textColor=\"@color/purple_200\"/>\n",
    "    </com.google.android.material.textfield.TextInputLayout>\n",
    "\n",
    "    <androidx.cardview.widget.CardView\n",
    "        android:layout_width=\"match_parent\"\n",
    "        android:layout_height=\"wrap_content\"\n",
    "        android:layout_marginStart=\"10dp\"\n",
    "        android:layout_marginTop=\"20dp\"\n",
    "        android:layout_marginEnd=\"10dp\"\n",
    "        android:backgroundTint=\"?attr/colorPrimary\"\n",
    "        android:outlineProvider=\"background\"\n",
    "        app:cardCornerRadius=\"35dp\">\n",
    "\n",
    "        <LinearLayout\n",
    "            android:layout_width=\"match_parent\"\n",
    "            android:layout_height=\"match_parent\"\n",
    "            android:layout_marginTop=\"20dp\"\n",
    "            android:orientation=\"vertical\">\n",
    "\n",
    "            <com.google.android.material.textfield.TextInputLayout\n",
    "                android:id=\"@+id/editInputLayout1\"\n",
    "                style=\"@style/Widget.MaterialComponents.TextInputLayout.OutlinedBox\"\n",
    "                android:layout_width=\"match_parent\"\n",
    "                android:layout_height=\"wrap_content\"\n",
    "                android:hint=\"@string/odleg_o\"\n",
    "                app:boxStrokeColor=\"@color/teal_200\"\n",
    "                android:theme=\"@style/editText\"\n",
    "                app:hintTextColor=\"@color/teal_200\"\n",
    "                android:textColorHint=\"@color/teal_200\">\n",
    "\n",
    "                <com.google.android.material.textfield.TextInputEditText\n",
    "                    android:id=\"@+id/editText1\"\n",
    "                    android:layout_width=\"match_parent\"\n",
    "                    android:layout_height=\"wrap_content\"\n",
    "                    android:layout_marginStart=\"50dp\"\n",
    "                    android:layout_marginTop=\"20dp\"\n",
    "                    android:layout_marginEnd=\"50dp\"\n",
    "                    android:gravity=\"center\"\n",
    "                    android:textColor=\"@color/teal_200\"\n",
    "                    android:textSize=\"18sp\"\n",
    "                    android:textColorHighlight=\"@color/teal_200\"\n",
    "                    android:inputType=\"number\" />\n",
    "            </com.google.android.material.textfield.TextInputLayout>\n",
    "\n",
    "            <com.google.android.material.textfield.TextInputLayout\n",
    "                android:id=\"@+id/editInputLayout2\"\n",
    "                style=\"@style/Widget.MaterialComponents.TextInputLayout.OutlinedBox\"\n",
    "                android:layout_width=\"match_parent\"\n",
    "                android:layout_height=\"wrap_content\"\n",
    "                android:hint=\"@string/cena_za_litr\"\n",
    "                app:boxStrokeColor=\"@color/teal_200\"\n",
    "                android:theme=\"@style/editText\"\n",
    "                app:hintTextColor=\"@color/teal_200\"\n",
    "                android:textColorHint=\"@color/teal_200\">\n",
    "\n",
    "                <com.google.android.material.textfield.TextInputEditText\n",
    "                    android:id=\"@+id/editText2\"\n",
    "                    android:layout_width=\"match_parent\"\n",
    "                    android:layout_height=\"wrap_content\"\n",
    "                    android:layout_marginStart=\"50dp\"\n",
    "                    android:layout_marginTop=\"20dp\"\n",
    "                    android:layout_marginEnd=\"50dp\"\n",
    "                    android:gravity=\"center\"\n",
    "                    android:textColor=\"@color/teal_200\"\n",
    "                    android:textSize=\"18sp\"\n",
    "                    android:textColorHighlight=\"@color/teal_200\"\n",
    "                    android:inputType=\"numberDecimal\" />\n",
    "            </com.google.android.material.textfield.TextInputLayout>\n",
    "\n",
    "            <com.google.android.material.textfield.TextInputLayout\n",
    "                android:id=\"@+id/editInputLayout3\"\n",
    "                style=\"@style/Widget.MaterialComponents.TextInputLayout.OutlinedBox\"\n",
    "                android:layout_width=\"match_parent\"\n",
    "                android:layout_height=\"wrap_content\"\n",
    "                android:hint=\"@string/spalanie\"\n",
    "                app:boxStrokeColor=\"@color/teal_200\"\n",
    "                android:theme=\"@style/editText\"\n",
    "                app:hintTextColor=\"@color/teal_200\"\n",
    "                android:textColorHint=\"@color/teal_200\">\n",
    "\n",
    "                <com.google.android.material.textfield.TextInputEditText\n",
    "                    android:id=\"@+id/editText3\"\n",
    "                    android:layout_width=\"match_parent\"\n",
    "                    android:layout_height=\"wrap_content\"\n",
    "                    android:layout_marginStart=\"50dp\"\n",
    "                    android:layout_marginTop=\"20dp\"\n",
    "                    android:layout_marginEnd=\"50dp\"\n",
    "                    android:gravity=\"center\"\n",
    "                    android:textColor=\"@color/teal_200\"\n",
    "                    android:textSize=\"18sp\"\n",
    "                    android:textColorHighlight=\"@color/teal_200\"\n",
    "                    android:inputType=\"numberDecimal\" />\n",
    "            </com.google.android.material.textfield.TextInputLayout>\n",
    "\n",
    "            <LinearLayout\n",
    "                android:layout_width=\"match_parent\"\n",
    "                android:layout_height=\"wrap_content\"\n",
    "                android:layout_marginTop=\"40dp\"\n",
    "                android:layout_marginStart=\"15dp\"\n",
    "                android:orientation=\"horizontal\">\n",
    "\n",
    "                <com.google.android.material.textview.MaterialTextView\n",
    "                    android:id=\"@+id/textViewMainTitle\"\n",
    "                    android:layout_width=\"wrap_content\"\n",
    "                    android:layout_height=\"wrap_content\"\n",
    "                    android:textColor=\"@color/teal_200\"\n",
    "                    android:text=\"MainTitle\"\n",
    "                    android:textStyle=\"bold\"\n",
    "                    android:textSize=\"24sp\" />\n",
    "\n",
    "                <com.google.android.material.textview.MaterialTextView\n",
    "                    android:id=\"@+id/textViewMainValue\"\n",
    "                    android:layout_width=\"0dp\"\n",
    "                    android:layout_weight=\"1\"\n",
    "                    android:textAlignment=\"viewEnd\"\n",
    "                    android:layout_height=\"wrap_content\"\n",
    "                    android:textColor=\"?attr/colorOnPrimary\"\n",
    "                    android:textStyle=\"bold\"\n",
    "                    android:text=\"\"\n",
    "                    android:layout_marginEnd=\"20dp\"\n",
    "                    android:textSize=\"24sp\" />\n",
    "\n",
    "            </LinearLayout>\n",
    "            <com.google.android.material.textview.MaterialTextView\n",
    "                android:id=\"@+id/textViewBottomValue\"\n",
    "                android:layout_width=\"match_parent\"\n",
    "                android:textAlignment=\"viewEnd\"\n",
    "                android:layout_height=\"wrap_content\"\n",
    "                android:textColor=\"@color/teal_200\"\n",
    "                android:text=\"\"\n",
    "                android:layout_marginEnd=\"20dp\"\n",
    "                android:layout_marginStart=\"20dp\"\n",
    "                android:textSize=\"18sp\"\n",
    "                android:layout_marginBottom=\"20dp\"/>\n",
    "        </LinearLayout>\n",
    "    </androidx.cardview.widget.CardView>\n",
    "\n",
    "    <com.google.android.material.button.MaterialButton\n",
    "        android:id=\"@+id/calculateButton\"\n",
    "        android:layout_width=\"wrap_content\"\n",
    "        android:layout_height=\"wrap_content\"\n",
    "        android:backgroundTint=\"@android:color/holo_red_dark\"\n",
    "        android:textColor=\"@color/white\"\n",
    "        android:layout_gravity=\"end\"\n",
    "        android:textSize=\"18sp\"\n",
    "        android:layout_marginEnd=\"35dp\"\n",
    "        android:text=\"Oblicz\"/>\n",
    "\n",
    "</LinearLayout>"
   ]
  },
  {
   "cell_type": "markdown",
   "id": "8a461344-7a45-424d-877b-d9fd3cc7059c",
   "metadata": {},
   "source": [
    "Aby wykorzystać inną niż domyślna kolorystyka pól `EditText`, dodajmy do `themes.xml` własny styl"
   ]
  },
  {
   "cell_type": "code",
   "execution_count": null,
   "id": "2478ae58-f9c6-4899-8e02-8d0dadcc08e3",
   "metadata": {},
   "outputs": [],
   "source": [
    "<style name=\"editText\" parent=\"Widget.MaterialComponents.TextInputLayout.OutlinedBox.Dense\">\n",
    "    <item name=\"boxStrokeColor\">#fff</item>\n",
    "    <item name=\"boxStrokeWidth\">2dp</item>\n",
    "</style>"
   ]
  },
  {
   "cell_type": "markdown",
   "id": "35fafbbd-f584-402b-bacb-c718ecf8a32b",
   "metadata": {},
   "source": [
    "Zwróćmy uwagę że pole `EditText` jest zastąpione przez wersję dodstępną w `Materials Design` - możemy zwrócić uwagę że w pliku `gradle` w bloku `dependencies` domyślnie mamy tą bibliotekę już dodaną"
   ]
  },
  {
   "cell_type": "code",
   "execution_count": null,
   "id": "8f60d4ef-9258-4040-b1a3-8f3a02c9f58c",
   "metadata": {},
   "outputs": [],
   "source": [
    "implementation 'com.google.android.material:material:1.8.0'"
   ]
  },
  {
   "cell_type": "markdown",
   "id": "01d44e64-30c0-4861-83d9-e190c4f03b53",
   "metadata": {},
   "source": [
    "Zwykłe pole `EditText` jest zastąpione przez dwa pole\n",
    "- `TextInputLayout` - zawierający podpowiedź i kilka elementów graficznych\n",
    "- `TextInputEditText` - sam `EditText`\n",
    "\n",
    "Kolejnym elementem jest modyfikacja wejścia w tych polach\n",
    "- `android:inputType=\"number\"` - liczby całkowite - zostanie wyświetlona tylko klawiatura numeryczna\n",
    "- `android:inputType=\"numberDecimal\"` - liczby zmiennoprzecinkowe\n",
    "\n",
    "Zamieszczonym przyciskiem będziemy wykonywać obliczenie."
   ]
  },
  {
   "cell_type": "markdown",
   "id": "8b2b5b71-66ff-4ecc-af7a-8963270c753e",
   "metadata": {},
   "source": [
    "Musimy dodać listę kalkulatorów dla adaptera menu rozwijanego, dodajmy pole prywatne będące mapą."
   ]
  },
  {
   "cell_type": "code",
   "execution_count": null,
   "id": "665d29c2-ee6b-4d56-9091-45cdfb1cebc8",
   "metadata": {},
   "outputs": [],
   "source": [
    "    private val calculators = mapOf(\n",
    "        0 to \"Koszt podróży\",\n",
    "        1 to \"Odległość\",\n",
    "        2 to \"Wymagane paliwo\"\n",
    "    )"
   ]
  },
  {
   "cell_type": "markdown",
   "id": "b4c6b5f7-b7fa-45e8-9cfc-e1c601159ecd",
   "metadata": {},
   "source": [
    "Ponieważ będziemy posługiwać się pozycją, mapa będzie dość użyteczna.\n",
    "\n",
    "Zaimplementujemy całą konfigurację w funkcji `setupDropDownSelector`, którą wywołamy w `onResume`"
   ]
  },
  {
   "cell_type": "code",
   "execution_count": null,
   "id": "2b1e861b-bae1-4f68-87ad-0c19455ebee7",
   "metadata": {},
   "outputs": [],
   "source": [
    "override fun onResume() {\n",
    "    super.onResume()\n",
    "    setupDropDownSelector()\n",
    "}"
   ]
  },
  {
   "cell_type": "code",
   "execution_count": null,
   "id": "91ba067d-4530-498c-adb5-904e5d54ee7e",
   "metadata": {},
   "outputs": [],
   "source": [
    "private fun setupDropDownSelector() {\n",
    "    binding.autoCompleteTextView.apply {\n",
    "\n",
    "        setDropDownBackgroundResource(R.color.dark_blue_900)\n",
    "\n",
    "        setText(calculators[0])\n",
    "        binding.textViewMainTitle.text = calculators[0]\n",
    "\n",
    "        setAdapter(ArrayAdapter(requireContext(), R.layout.dropdown_item, calculators.values.toList()))\n",
    "        onItemClickListener = autoCompleteTextViewOnItemClickListener()\n",
    "    }\n",
    "}"
   ]
  },
  {
   "cell_type": "markdown",
   "id": "cf8c315a-9adc-477e-b6c1-6f73a054641b",
   "metadata": {},
   "source": [
    "- `setDropDownBackgroundResource(R.color.dark_blue_900)` ustawia tło rozwijanej listy, która wyświetla się podczas wpisywania tekstu w polu tekstowym z automatycznym uzupełnianiem - tutaj dodajmy, ze kolor tła elementów `TextView` ustawiony jest w pliku `dropdown_item.xml`, jednak sama lista rozwijana również posiada swoje własne tło, którego kolor chcemy zmienić\n",
    "- `setText(calculators[0])` ustawia tekst wyświetlany w polu tekstowym z automatycznym uzupełnianiem na wartość o kluczu `0` w mapie `calculators` - jest to wartość wyświetlana po przejściu na `CalculatorsFragment`\n",
    "- `binding.textViewMainTitle.text = calculators[0]` ustawia tekst wyświetlany w `textViewMainTitle` na wartość o kluczu `0` w mapie `calculators` - jest to wartość wyświetlana po przejściu na `CalculatorsFragment`\n",
    "- `setAdapter(ArrayAdapter(requireContext(), R.layout.dropdown_item, calculators.values.toList()))` ustawia adapter dla rozwijanej listy, która wyświetla się podczas wpisywania tekstu w polu tekstowym z automatycznym uzupełnianiem. Adapter jest typu `ArrayAdapter`, który konwertuje kolekcję wartości `calculators.values.toList()` na listę rozwijaną. `R.layout.dropdown_item` określa wygląd pojedynczego elementu w rozwijanej liście.\n",
    "- `onItemClickListener = autoCompleteTextViewOnItemClickListener()` ustawia słuchacza kliknięć dla rozwijanej listy. Słuchacz ten jest zdefiniowany w metodzie `autoCompleteTextViewOnItemClickListener`. Gdy użytkownik wybierze wartość z rozwijanej listy, zostanie wywołana metoda zdefiniowana w słuchaczu kliknięć."
   ]
  },
  {
   "cell_type": "code",
   "execution_count": null,
   "id": "2405206a-7761-4d81-bd3d-6e7e157097c4",
   "metadata": {},
   "outputs": [],
   "source": [
    "private fun autoCompleteTextViewOnItemClickListener() =\n",
    "    AdapterView.OnItemClickListener { _, _, position, _ ->\n",
    "        binding.apply {\n",
    "            textViewMainTitle.text = calculators.getValue(position)\n",
    "            editInputLayout1.hint = if (position == calculators.getKeyByValue(\"Odległość\")) \"Paliwo [l]\" else \"Odległość [km]\"\n",
    "            setupCalculateButtonOnClickListener(position)\n",
    "        }\n",
    "    }"
   ]
  },
  {
   "cell_type": "markdown",
   "id": "ec6074ca-d504-480e-834b-97839c5a28fc",
   "metadata": {},
   "source": [
    "Kiedy użytkownik wybiera wartość z rozwijanej listy, wywoływana jest metoda `onItemClick` słuchacza. Parametr `position` zawiera pozycję wybranej wartości na liście.\n",
    "- `binding.textViewMainTitle.text = calculators.getValue(position)` ustawia tekst wyświetlany w `textViewMainTitle` na wartość odpowiadającą wybranej pozycji na liście. Wartość ta jest pobierana z mapy `calculators` za pomocą metody `getValue(position)`.\n",
    "- `editInputLayout1.hint = if (position == calculators.getKeyByValue(\"Odległość\")) \"Paliwo [l]\" else \"Odległość [km]\"` ustawia tekst podpowiedzi dla pola wprowadzania danych `editInputLayout1` na wartość zależną od pozycji wybranej na liście. Jeśli wybrana pozycja odpowiada wartości `\"Odległość\"` w mapie `calculators`, tekst podpowiedzi jest ustawiany na `\"Paliwo [l]\"`. W przeciwnym razie tekst podpowiedzi jest ustawiany na `\"Odległość [km]\"`.\n",
    "- `setupCalculateButtonOnClickListener(position)` ustawia słuchacza kliknięć dla przycisku obliczania. Funkcja (rozszerzająca `FragmentCalculatorsBinding`) ta przekazuje pozycję wybranej wartości na liście do słuchacza kliknięć, aby mógł on dostosować swoje zachowanie odpowiednio do wybranej pozycji.\n",
    "- `getKayByValue` jest funkcją rozszerzającą `Map`, zdefiniowaną w pliku `MapUtil`, która zwraca klucz o zadanej wartości"
   ]
  },
  {
   "cell_type": "code",
   "execution_count": null,
   "id": "4b4fa270-1bdc-447a-83f0-55bc126e92fc",
   "metadata": {},
   "outputs": [],
   "source": [
    "fun <K, V> Map<K, V>.getKeyByValue(targetValue: V): K? {\n",
    "    return this.filterValues { it == targetValue }\n",
    "        .keys\n",
    "        .firstOrNull()\n",
    "}"
   ]
  },
  {
   "cell_type": "code",
   "execution_count": null,
   "id": "5fa5f0b6-bca9-4d8d-8a42-129c2acd0496",
   "metadata": {},
   "outputs": [],
   "source": [
    "private fun FragmentCalculatorsBinding.setupCalculateButtonOnClickListener(\n",
    "    position: Int\n",
    ") {\n",
    "    calculateButton.setOnClickListener {\n",
    "        val input = getEditTextsData()\n",
    "\n",
    "        if (checkForEmptyEditTexts(input)) {\n",
    "            val values: Pair<String, String> = calculators(position, input)\n",
    "            textViewMainValue.text = values.first\n",
    "            textViewBottomValue.text = values.second\n",
    "        }\n",
    "    }\n",
    "}\n",
    "\n",
    "private fun checkForEmptyEditTexts(input: Triple<String, String, String>) =\n",
    "    (input.first.isNotEmpty()\n",
    "            && input.second.isNotEmpty()\n",
    "            && input.third.isNotEmpty())\n",
    "\n",
    "private fun getEditTextsData() = Triple(\n",
    "    binding.editText1.text.toString(),\n",
    "    binding.editText2.text.toString(),\n",
    "    binding.editText3.text.toString()\n",
    ")"
   ]
  },
  {
   "cell_type": "markdown",
   "id": "86dd5316-38e1-4bea-89eb-6822feac101f",
   "metadata": {},
   "source": [
    "Ten kod definiuje rozszerzenie funkcji dla klasy `FragmentCalculatorsBinding`, które ustawia słuchacza kliknięć dla przycisku obliczania. Funkcja ta pobiera dane z pól wprowadzania (`EditText`) i sprawdza, czy wszystkie pola zostały wypełnione. Jeśli tak, wywołuje funkcję `calculators()` z argumentami `position` i `input`, która zwraca parę wartości i ustawia je jako tekst w odpowiednich polach (`textViewMainValue` i `textViewBottomValue`).\n",
    "- `setupCalculateButtonOnClickListener()` jest rozszerzeniem funkcji dla klasy `FragmentCalculatorsBinding`. Ta funkcja przyjmuje jeden argument `position`, który jest pozycją wybranej wartości na liście rozwijanej, używany do wywołania funkcji `calculators()`.\n",
    "- `calculateButton.setOnClickListener {}` ustawia słuchacza kliknięć dla przycisku obliczania (`calculateButton`).\n",
    "- Wewnątrz wyrażenia lambda, `getEditTextsData()` pobiera dane z pól wprowadzania (obiektów typu `EditText`) i zwraca je jako listę `List<String>`.\n",
    "- `checkForEmptyEditTexts(input)` sprawdza, czy wszystkie pola wprowadzania zostały wypełnione. Funkcja ta przyjmuje listę `String` jako argument i zwraca wartość logiczną.\n",
    "- Jeśli `checkForEmptyEditTexts(input)` zwróci `true`, to wywoływana jest funkcja `calculators(position, input)`, zwraca parę wartości (`Pair<String, String>`)\n",
    "- `textViewMainValue.text = values.first` ustawia tekst wyświetlany w `textViewMainValue` na pierwszą wartość zwróconą przez funkcję `calculators(position, input)`.\n",
    "- `textViewBottomValue.text = values.second` ustawia tekst wyświetlany w `textViewBottomValue` na drugą wartość zwróconą przez funkcję `calculators(position, input)`."
   ]
  },
  {
   "cell_type": "code",
   "execution_count": null,
   "id": "c16bab35-7c8f-4cf2-886b-e26d217fd258",
   "metadata": {},
   "outputs": [],
   "source": [
    "private fun calculators(\n",
    "    position: Int,\n",
    "    values: Triple<String, String, String>\n",
    "): Pair<String, String> {\n",
    "    return when (position) {\n",
    "        0 -> { travelCalculator(values) }\n",
    "        1 -> { distanceCalculator(values) }\n",
    "        2 -> { fuelCalculator(values) }\n",
    "        else -> Pair(\"\", \"\")\n",
    "    }\n",
    "}\n",
    "\n",
    "private fun fuelCalculator(values: Triple<String, String, String>): Pair<String, String> {\n",
    "\n",
    "    val distance = values.first.toDouble()\n",
    "    val cost = values.second.toDouble()\n",
    "    val fuelUsage = values.third.toDouble()\n",
    "\n",
    "    val fuelCost = (distance * fuelUsage) / 100\n",
    "    val fuelAmount = fuelCost * cost\n",
    "\n",
    "    val stringMain = decimalFormat.format(fuelCost).toString()\n",
    "    val stringBottom = decimalFormat.format(fuelAmount).toString()\n",
    "\n",
    "    return Pair(\"$stringMain l\", \"$stringBottom zł\")\n",
    "}\n",
    "\n",
    "private fun distanceCalculator(values: Triple<String, String, String>): Pair<String, String> {\n",
    "\n",
    "    val fuel = values.first.toDouble()\n",
    "    val price = values.second.toDouble()\n",
    "    val fuelUsage = values.third.toDouble()\n",
    "\n",
    "    val distance = fuel * price\n",
    "    val totalCost = (100 * fuel) / fuelUsage\n",
    "\n",
    "    val stringBottom = decimalFormat.format(distance).toString()\n",
    "    val stringMain = decimalFormat.format(totalCost).toString()\n",
    "\n",
    "    return Pair(\"$stringMain km\", \"$stringBottom zł\")\n",
    "}\n",
    "\n",
    "private fun travelCalculator(values: Triple<String, String, String>): Pair<String, String> {\n",
    "\n",
    "    val distance = values.first.toDouble()\n",
    "    val price = values.second.toDouble()\n",
    "    val fuelUsage = values.third.toDouble()\n",
    "\n",
    "    val totalFuel = (fuelUsage / 100) * distance\n",
    "    val totalPrice = totalFuel * price\n",
    "\n",
    "    val stringBottom = decimalFormat.format(totalFuel).toString()\n",
    "    val stringMain = decimalFormat.format(totalPrice).toString()\n",
    "\n",
    "    return Pair(\"$stringMain zł\", \"$stringBottom l\")\n",
    "}"
   ]
  },
  {
   "cell_type": "markdown",
   "id": "4aee52bb-abf9-4270-9b97-e3610a7bdb73",
   "metadata": {},
   "source": [
    "Funkcje służą do wykonywania obliczeń w zależności od pozycji wybranej z listy rozwijanej.\n",
    "- Funkcja `calculators()` przyjmuje argumenty pozycji i wartości, a następnie używa instrukcji `when` do wywołania odpowiedniej funkcji obliczeniowej w zależności od wybranej pozycji.\n",
    "- Funkcja `fuelCalculator()` oblicza koszt paliwa i ilość potrzebnego paliwa na podstawie przejechanej odległości, kosztu paliwa i średniego zużycia paliwa.\n",
    "- Funkcja `distanceCalculator()` oblicza odległość, którą można pokonać na podstawie ilości paliwa, ceny za litr paliwa i średniego zużycia paliwa, a także całkowity koszt podróży.\n",
    "- Funkcja `travelCalculator()` oblicza koszt podróży i ilość potrzebnego paliwa na podstawie przejechanej odległości, ceny za litr paliwa i średniego zużycia paliwa."
   ]
  },
  {
   "cell_type": "markdown",
   "id": "79a51eb4-823e-405d-8d18-616fdd2b4e03",
   "metadata": {},
   "source": [
    "Możemy przetestować aplikację"
   ]
  },
  {
   "cell_type": "markdown",
   "id": "9e151892-6c11-41b9-8b44-4c3de00fb55b",
   "metadata": {},
   "source": [
    "<img src=\"https://media1.giphy.com/media/v1.Y2lkPTc5MGI3NjExYTRlYmJlY2M5M2EwNTBjNTg5YWE5NDc3YzdmYWE2Zjg3ZDc3YTllMiZjdD1n/2DibqX95pOMiXujBc5/giphy.gif\" width=\"200\" />"
   ]
  },
  {
   "cell_type": "markdown",
   "id": "9e91ab71-5931-4d84-8a9b-61288d7ea9e0",
   "metadata": {},
   "source": [
    "### **OverviewFragment**"
   ]
  },
  {
   "cell_type": "markdown",
   "id": "a86f0a01-a19a-42c7-8fca-9e179d75ff4c",
   "metadata": {},
   "source": [
    "Do fragmentu zawierającego przegląd dodamy dwa `RecyclerView` zawierające podsumowanie wydatków oraz przegląd wszystkich samochodów. Jak również informację o całkowitych poniesionych kosztach. Rozpocznijmy od layoutu"
   ]
  },
  {
   "cell_type": "markdown",
   "id": "23fb5c4a-c24c-4ec6-b808-89d3ff4149e0",
   "metadata": {},
   "source": [
    "Ponieważ nie wszystko może zostać zmieszczone na jednym ekranie naszym głównym elementem będzie `ScrollView`"
   ]
  },
  {
   "cell_type": "code",
   "execution_count": null,
   "id": "591c7a3e-041b-4f4a-9d5d-091b7a6d1ef7",
   "metadata": {},
   "outputs": [],
   "source": [
    "<ScrollView xmlns:android=\"http://schemas.android.com/apk/res/android\"\n",
    "    xmlns:tools=\"http://schemas.android.com/tools\"\n",
    "    android:layout_width=\"match_parent\"\n",
    "    xmlns:app=\"http://schemas.android.com/apk/res-auto\"\n",
    "    android:background=\"@color/dark_blue_900\"\n",
    "    android:layout_height=\"match_parent\">\n",
    "\n",
    "\n",
    "    <LinearLayout\n",
    "        android:layout_width=\"match_parent\"\n",
    "        android:layout_height=\"wrap_content\"\n",
    "        android:orientation=\"vertical\"\n",
    "        android:background=\"@color/dark_blue_900\"\n",
    "        tools:context=\".fragments.OverviewFragment\">\n",
    "\n",
    "<androidx.cardview.widget.CardView\n",
    "    android:layout_width=\"match_parent\"\n",
    "    android:layout_height=\"wrap_content\"\n",
    "    android:background=\"@color/dark_blue_500\"\n",
    "    android:layout_margin=\"8dp\"\n",
    "    app:cardElevation=\"10dp\"\n",
    "    app:cardCornerRadius=\"6dp\">\n",
    "    <LinearLayout\n",
    "        android:layout_width=\"match_parent\"\n",
    "        android:layout_height=\"wrap_content\"\n",
    "        android:orientation=\"vertical\"\n",
    "        android:background=\"@color/dark_blue_500\"\n",
    "        tools:context=\".fragments.OverviewFragment\">\n",
    "        <TextView\n",
    "            android:layout_width=\"match_parent\"\n",
    "            android:layout_height=\"wrap_content\"\n",
    "            android:textSize=\"24sp\"\n",
    "            android:text=\"@string/podsumowanie\"\n",
    "            android:gravity=\"center\"\n",
    "            android:textColor=\"@color/black\"\n",
    "            android:background=\"@color/mtrl_textinput_default_box_stroke_color\"\n",
    "            />\n",
    "\n",
    "        <androidx.recyclerview.widget.RecyclerView\n",
    "            android:id=\"@+id/overviewCostsRecyclerView\"\n",
    "            android:layout_width=\"match_parent\"\n",
    "            android:layout_height=\"wrap_content\"\n",
    "            android:layout_marginTop=\"12dp\" />\n",
    "    </LinearLayout>\n",
    "</androidx.cardview.widget.CardView>\n",
    "        <androidx.cardview.widget.CardView\n",
    "            android:layout_width=\"match_parent\"\n",
    "            android:layout_height=\"wrap_content\"\n",
    "            android:background=\"@color/dark_blue_500\"\n",
    "            android:layout_margin=\"8dp\"\n",
    "            app:cardElevation=\"10dp\"\n",
    "            app:cardCornerRadius=\"6dp\">\n",
    "            <LinearLayout\n",
    "                android:layout_width=\"match_parent\"\n",
    "                android:layout_height=\"wrap_content\"\n",
    "                android:orientation=\"vertical\"\n",
    "                android:background=\"@color/dark_blue_500\"\n",
    "                tools:context=\".fragments.OverviewFragment\">\n",
    "        <TextView\n",
    "            android:layout_width=\"match_parent\"\n",
    "            android:layout_height=\"wrap_content\"\n",
    "            android:textSize=\"24sp\"\n",
    "            android:text=\"@string/gara\"\n",
    "            android:background=\"@color/mtrl_textinput_default_box_stroke_color\"\n",
    "            android:gravity=\"center\"\n",
    "            android:textColor=\"@color/black\"\n",
    "            />\n",
    "\n",
    "        <androidx.recyclerview.widget.RecyclerView\n",
    "            android:id=\"@+id/overviewCarsRecyclerView\"\n",
    "            android:layout_width=\"match_parent\"\n",
    "            android:layout_height=\"wrap_content\"\n",
    "            android:layout_marginTop=\"12dp\" />\n",
    "            </LinearLayout>\n",
    "        </androidx.cardview.widget.CardView>\n",
    "\n",
    "\n",
    "\n",
    "        <androidx.cardview.widget.CardView\n",
    "            android:layout_width=\"match_parent\"\n",
    "            android:layout_height=\"wrap_content\"\n",
    "            android:background=\"@color/dark_blue_500\"\n",
    "            android:layout_margin=\"8dp\"\n",
    "            app:cardElevation=\"10dp\"\n",
    "            app:cardCornerRadius=\"6dp\">\n",
    "\n",
    "            <androidx.constraintlayout.widget.ConstraintLayout\n",
    "                android:layout_width=\"match_parent\"\n",
    "                android:layout_height=\"wrap_content\"\n",
    "                android:background=\"@color/dark_blue_500\">\n",
    "\n",
    "                <TextView\n",
    "                    android:id=\"@+id/overviewCarName\"\n",
    "                    android:layout_width=\"match_parent\"\n",
    "                    android:layout_height=\"wrap_content\"\n",
    "                    android:background=\"@color/mtrl_textinput_default_box_stroke_color\"\n",
    "                    android:gravity=\"center\"\n",
    "                    android:padding=\"4dp\"\n",
    "                    android:text=\"@string/koszty_ca_kowite\"\n",
    "                    android:textColor=\"@color/black\"\n",
    "                    android:textSize=\"24sp\"\n",
    "                    app:layout_constraintStart_toStartOf=\"parent\"\n",
    "                    app:layout_constraintTop_toTopOf=\"parent\" />\n",
    "\n",
    "                <TextView\n",
    "                    android:layout_width=\"match_parent\"\n",
    "                    android:layout_height=\"wrap_content\"\n",
    "                    android:padding=\"4dp\"\n",
    "                    android:layout_marginStart=\"24dp\"\n",
    "                    android:text=\"@string/tankowanie\"\n",
    "                    android:textColor=\"@color/teal_200\"\n",
    "                    android:textSize=\"18sp\"\n",
    "                    app:layout_constraintStart_toStartOf=\"parent\"\n",
    "                    app:layout_constraintTop_toBottomOf=\"@+id/overviewCarName\" />\n",
    "\n",
    "                <TextView\n",
    "                    android:id=\"@+id/overviewFueling\"\n",
    "                    android:layout_width=\"match_parent\"\n",
    "                    android:layout_height=\"wrap_content\"\n",
    "                    android:padding=\"4dp\"\n",
    "                    android:gravity=\"end\"\n",
    "                    android:layout_marginEnd=\"24dp\"\n",
    "                    android:text=\"1 000 000.00 zł\"\n",
    "                    android:textColor=\"@color/teal_200\"\n",
    "                    android:textSize=\"18sp\"\n",
    "                    app:layout_constraintStart_toStartOf=\"parent\"\n",
    "                    app:layout_constraintTop_toBottomOf=\"@+id/overviewCarName\" />\n",
    "\n",
    "                <TextView\n",
    "                    android:layout_width=\"match_parent\"\n",
    "                    android:layout_height=\"wrap_content\"\n",
    "                    android:padding=\"4dp\"\n",
    "                    android:layout_marginStart=\"24dp\"\n",
    "                    android:text=\"@string/serwis\"\n",
    "                    android:textColor=\"@color/teal_200\"\n",
    "                    android:textSize=\"18sp\"\n",
    "                    app:layout_constraintStart_toStartOf=\"parent\"\n",
    "                    app:layout_constraintTop_toBottomOf=\"@+id/overviewFueling\" />\n",
    "\n",
    "                <TextView\n",
    "                    android:id=\"@+id/overviewService\"\n",
    "                    android:layout_width=\"match_parent\"\n",
    "                    android:layout_height=\"wrap_content\"\n",
    "                    android:padding=\"4dp\"\n",
    "                    android:gravity=\"end\"\n",
    "                    android:layout_marginEnd=\"24dp\"\n",
    "                    android:text=\"1 000 000.00 zł\"\n",
    "                    android:textColor=\"@color/teal_200\"\n",
    "                    android:textSize=\"18sp\"\n",
    "                    app:layout_constraintStart_toStartOf=\"parent\"\n",
    "                    app:layout_constraintTop_toBottomOf=\"@+id/overviewFueling\" />\n",
    "\n",
    "                <TextView\n",
    "                    android:layout_width=\"match_parent\"\n",
    "                    android:layout_height=\"wrap_content\"\n",
    "                    android:padding=\"4dp\"\n",
    "                    android:layout_marginStart=\"24dp\"\n",
    "                    android:text=\"@string/parkowanie\"\n",
    "                    android:textColor=\"@color/teal_200\"\n",
    "                    android:textSize=\"18sp\"\n",
    "                    app:layout_constraintStart_toStartOf=\"parent\"\n",
    "                    app:layout_constraintTop_toBottomOf=\"@+id/overviewService\" />\n",
    "\n",
    "                <TextView\n",
    "                    android:id=\"@+id/overviewParking\"\n",
    "                    android:layout_width=\"match_parent\"\n",
    "                    android:layout_height=\"wrap_content\"\n",
    "                    android:padding=\"4dp\"\n",
    "                    android:gravity=\"end\"\n",
    "                    android:layout_marginEnd=\"24dp\"\n",
    "                    android:text=\"1 000 000.00 zł\"\n",
    "                    android:textColor=\"@color/teal_200\"\n",
    "                    android:textSize=\"18sp\"\n",
    "                    app:layout_constraintStart_toStartOf=\"parent\"\n",
    "                    app:layout_constraintTop_toBottomOf=\"@+id/overviewService\" />\n",
    "\n",
    "                <TextView\n",
    "                    android:layout_width=\"match_parent\"\n",
    "                    android:layout_height=\"wrap_content\"\n",
    "                    android:padding=\"4dp\"\n",
    "                    android:layout_marginStart=\"24dp\"\n",
    "                    android:text=\"@string/ubezpieczenie\"\n",
    "                    android:textColor=\"@color/teal_200\"\n",
    "                    android:textSize=\"18sp\"\n",
    "                    app:layout_constraintStart_toStartOf=\"parent\"\n",
    "                    app:layout_constraintTop_toBottomOf=\"@+id/overviewParking\" />\n",
    "\n",
    "                <TextView\n",
    "                    android:id=\"@+id/overviewInsurance\"\n",
    "                    android:layout_width=\"match_parent\"\n",
    "                    android:layout_height=\"wrap_content\"\n",
    "                    android:padding=\"4dp\"\n",
    "                    android:gravity=\"end\"\n",
    "                    android:layout_marginEnd=\"24dp\"\n",
    "                    android:text=\"1 000 000.00 zł\"\n",
    "                    android:textColor=\"@color/teal_200\"\n",
    "                    android:textSize=\"18sp\"\n",
    "                    app:layout_constraintStart_toStartOf=\"parent\"\n",
    "                    app:layout_constraintTop_toBottomOf=\"@+id/overviewParking\" />\n",
    "\n",
    "                <TextView\n",
    "                    android:layout_width=\"match_parent\"\n",
    "                    android:layout_height=\"wrap_content\"\n",
    "                    android:padding=\"4dp\"\n",
    "                    android:layout_marginStart=\"24dp\"\n",
    "                    android:text=\"@string/mandat\"\n",
    "                    android:textColor=\"@color/teal_200\"\n",
    "                    android:textSize=\"18sp\"\n",
    "                    app:layout_constraintStart_toStartOf=\"parent\"\n",
    "                    app:layout_constraintTop_toBottomOf=\"@+id/overviewInsurance\" />\n",
    "\n",
    "                <TextView\n",
    "                    android:id=\"@+id/overviewTicket\"\n",
    "                    android:layout_width=\"match_parent\"\n",
    "                    android:layout_height=\"wrap_content\"\n",
    "                    android:padding=\"4dp\"\n",
    "                    android:gravity=\"end\"\n",
    "                    android:layout_marginEnd=\"24dp\"\n",
    "                    android:text=\"1 000 000.00 zł\"\n",
    "                    android:textColor=\"@color/teal_200\"\n",
    "                    android:textSize=\"18sp\"\n",
    "                    app:layout_constraintStart_toStartOf=\"parent\"\n",
    "                    app:layout_constraintTop_toBottomOf=\"@+id/overviewInsurance\" />\n",
    "\n",
    "            </androidx.constraintlayout.widget.ConstraintLayout>\n",
    "        </androidx.cardview.widget.CardView>\n",
    "\n",
    "    </LinearLayout>\n",
    "\n",
    "</ScrollView>"
   ]
  },
  {
   "cell_type": "markdown",
   "id": "2551bbad-f5e7-4b78-9a61-442db6c9a81f",
   "metadata": {},
   "source": [
    "W następnym kroku przygotujmy layouty dla `RecyclerView`\n",
    "- przedstawiający sumaryczne koszty ze względu na kategorią poniesione dla każdego posiadanego samochodu\n",
    "- przedstawiający podstawowe informacje o posiadanych samochodach\n",
    "\n",
    "`cost_overview_item_recyclerview_.xml`"
   ]
  },
  {
   "cell_type": "code",
   "execution_count": null,
   "id": "abb101c6-f471-4e0f-8992-6d7b85e48585",
   "metadata": {},
   "outputs": [],
   "source": [
    "<?xml version=\"1.0\" encoding=\"utf-8\"?>\n",
    "<androidx.cardview.widget.CardView xmlns:android=\"http://schemas.android.com/apk/res/android\"\n",
    "    xmlns:app=\"http://schemas.android.com/apk/res-auto\"\n",
    "    android:layout_width=\"match_parent\"\n",
    "    android:layout_height=\"wrap_content\"\n",
    "    android:layout_marginStart=\"40dp\"\n",
    "    android:layout_marginEnd=\"40dp\"\n",
    "    app:cardCornerRadius=\"45dp\">\n",
    "\n",
    "    <androidx.constraintlayout.widget.ConstraintLayout\n",
    "        android:layout_width=\"match_parent\"\n",
    "        android:layout_height=\"wrap_content\"\n",
    "        android:layout_marginStart=\"4dp\"\n",
    "        android:layout_marginEnd=\"4dp\"\n",
    "        android:background=\"@color/dark_blue_500\">\n",
    "\n",
    "        <TextView\n",
    "            android:id=\"@+id/overviewRecyclerViewCarName\"\n",
    "            android:layout_width=\"match_parent\"\n",
    "            android:layout_height=\"wrap_content\"\n",
    "            android:background=\"@color/green_500\"\n",
    "            android:gravity=\"center\"\n",
    "            android:padding=\"4dp\"\n",
    "            android:text=\"@string/car_name\"\n",
    "            android:textColor=\"@color/black\"\n",
    "            android:textSize=\"24sp\"\n",
    "            app:layout_constraintStart_toStartOf=\"parent\"\n",
    "            app:layout_constraintTop_toTopOf=\"parent\" />\n",
    "\n",
    "        <TextView\n",
    "            android:layout_width=\"match_parent\"\n",
    "            android:layout_height=\"wrap_content\"\n",
    "            android:padding=\"4dp\"\n",
    "            android:layout_marginStart=\"24dp\"\n",
    "            android:text=\"@string/tankowanie\"\n",
    "            android:textColor=\"@color/teal_200\"\n",
    "            android:textSize=\"18sp\"\n",
    "            app:layout_constraintStart_toStartOf=\"parent\"\n",
    "            app:layout_constraintTop_toBottomOf=\"@+id/overviewRecyclerViewCarName\" />\n",
    "\n",
    "        <TextView\n",
    "            android:id=\"@+id/overviewRecyclerViewFueling\"\n",
    "            android:layout_width=\"match_parent\"\n",
    "            android:layout_height=\"wrap_content\"\n",
    "            android:padding=\"4dp\"\n",
    "            android:gravity=\"end\"\n",
    "            android:layout_marginEnd=\"24dp\"\n",
    "            android:text=\"1 000 000.00 zł\"\n",
    "            android:textColor=\"@color/teal_200\"\n",
    "            android:textSize=\"18sp\"\n",
    "            app:layout_constraintStart_toStartOf=\"parent\"\n",
    "            app:layout_constraintTop_toBottomOf=\"@+id/overviewRecyclerViewCarName\" />\n",
    "\n",
    "        <TextView\n",
    "            android:layout_width=\"match_parent\"\n",
    "            android:layout_height=\"wrap_content\"\n",
    "            android:padding=\"4dp\"\n",
    "            android:layout_marginStart=\"24dp\"\n",
    "            android:text=\"@string/serwis\"\n",
    "            android:textColor=\"@color/teal_200\"\n",
    "            android:textSize=\"18sp\"\n",
    "            app:layout_constraintStart_toStartOf=\"parent\"\n",
    "            app:layout_constraintTop_toBottomOf=\"@+id/overviewRecyclerViewFueling\" />\n",
    "\n",
    "        <TextView\n",
    "            android:id=\"@+id/overviewRecyclerViewService\"\n",
    "            android:layout_width=\"match_parent\"\n",
    "            android:layout_height=\"wrap_content\"\n",
    "            android:padding=\"4dp\"\n",
    "            android:gravity=\"end\"\n",
    "            android:layout_marginEnd=\"24dp\"\n",
    "            android:text=\"1 000 000.00 zł\"\n",
    "            android:textColor=\"@color/teal_200\"\n",
    "            android:textSize=\"18sp\"\n",
    "            app:layout_constraintStart_toStartOf=\"parent\"\n",
    "            app:layout_constraintTop_toBottomOf=\"@+id/overviewRecyclerViewFueling\" />\n",
    "\n",
    "        <TextView\n",
    "            android:layout_width=\"match_parent\"\n",
    "            android:layout_height=\"wrap_content\"\n",
    "            android:padding=\"4dp\"\n",
    "            android:layout_marginStart=\"24dp\"\n",
    "            android:text=\"@string/parkowanie\"\n",
    "            android:textColor=\"@color/teal_200\"\n",
    "            android:textSize=\"18sp\"\n",
    "            app:layout_constraintStart_toStartOf=\"parent\"\n",
    "            app:layout_constraintTop_toBottomOf=\"@+id/overviewRecyclerViewService\" />\n",
    "\n",
    "        <TextView\n",
    "            android:id=\"@+id/overviewRecyclerViewParking\"\n",
    "            android:layout_width=\"match_parent\"\n",
    "            android:layout_height=\"wrap_content\"\n",
    "            android:padding=\"4dp\"\n",
    "            android:gravity=\"end\"\n",
    "            android:layout_marginEnd=\"24dp\"\n",
    "            android:text=\"1 000 000.00 zł\"\n",
    "            android:textColor=\"@color/teal_200\"\n",
    "            android:textSize=\"18sp\"\n",
    "            app:layout_constraintStart_toStartOf=\"parent\"\n",
    "            app:layout_constraintTop_toBottomOf=\"@+id/overviewRecyclerViewService\" />\n",
    "\n",
    "        <TextView\n",
    "            android:layout_width=\"match_parent\"\n",
    "            android:layout_height=\"wrap_content\"\n",
    "            android:padding=\"4dp\"\n",
    "            android:layout_marginStart=\"24dp\"\n",
    "            android:text=\"@string/ubezpieczenie\"\n",
    "            android:textColor=\"@color/teal_200\"\n",
    "            android:textSize=\"18sp\"\n",
    "            app:layout_constraintStart_toStartOf=\"parent\"\n",
    "            app:layout_constraintTop_toBottomOf=\"@+id/overviewRecyclerViewParking\" />\n",
    "\n",
    "        <TextView\n",
    "            android:id=\"@+id/overviewRecyclerViewInsurance\"\n",
    "            android:layout_width=\"match_parent\"\n",
    "            android:layout_height=\"wrap_content\"\n",
    "            android:padding=\"4dp\"\n",
    "            android:gravity=\"end\"\n",
    "            android:layout_marginEnd=\"24dp\"\n",
    "            android:text=\"1 000 000.00 zł\"\n",
    "            android:textColor=\"@color/teal_200\"\n",
    "            android:textSize=\"18sp\"\n",
    "            app:layout_constraintStart_toStartOf=\"parent\"\n",
    "            app:layout_constraintTop_toBottomOf=\"@+id/overviewRecyclerViewParking\" />\n",
    "\n",
    "        <TextView\n",
    "            android:layout_width=\"match_parent\"\n",
    "            android:layout_height=\"wrap_content\"\n",
    "            android:padding=\"4dp\"\n",
    "            android:layout_marginStart=\"24dp\"\n",
    "            android:text=\"@string/mandat\"\n",
    "            android:textColor=\"@color/teal_200\"\n",
    "            android:textSize=\"18sp\"\n",
    "            app:layout_constraintStart_toStartOf=\"parent\"\n",
    "            app:layout_constraintTop_toBottomOf=\"@+id/overviewRecyclerViewInsurance\" />\n",
    "\n",
    "        <TextView\n",
    "            android:id=\"@+id/overviewRecyclerViewTicket\"\n",
    "            android:layout_width=\"match_parent\"\n",
    "            android:layout_height=\"wrap_content\"\n",
    "            android:padding=\"4dp\"\n",
    "            android:gravity=\"end\"\n",
    "            android:layout_marginEnd=\"24dp\"\n",
    "            android:text=\"1 000 000.00 zł\"\n",
    "            android:textColor=\"@color/teal_200\"\n",
    "            android:textSize=\"18sp\"\n",
    "            app:layout_constraintStart_toStartOf=\"parent\"\n",
    "            app:layout_constraintTop_toBottomOf=\"@+id/overviewRecyclerViewInsurance\" />\n",
    "\n",
    "    </androidx.constraintlayout.widget.ConstraintLayout>\n",
    "</androidx.cardview.widget.CardView>"
   ]
  },
  {
   "cell_type": "markdown",
   "id": "e3054eb9-2963-4ba1-8168-bd6282f14bf2",
   "metadata": {},
   "source": [
    "`item_recyclerview_cars_overview.xml`"
   ]
  },
  {
   "cell_type": "code",
   "execution_count": null,
   "id": "cdcc7074-c7a8-4c93-b2fb-aa99c062fd25",
   "metadata": {},
   "outputs": [],
   "source": [
    "<?xml version=\"1.0\" encoding=\"utf-8\"?>\n",
    "<androidx.cardview.widget.CardView xmlns:android=\"http://schemas.android.com/apk/res/android\"\n",
    "    xmlns:app=\"http://schemas.android.com/apk/res-auto\"\n",
    "    android:layout_width=\"wrap_content\"\n",
    "    android:layout_height=\"wrap_content\"\n",
    "    android:layout_marginStart=\"4dp\"\n",
    "    android:layout_marginEnd=\"4dp\"\n",
    "    app:cardCornerRadius=\"45dp\">\n",
    "\n",
    "    <androidx.constraintlayout.widget.ConstraintLayout\n",
    "        android:layout_width=\"match_parent\"\n",
    "        android:layout_height=\"wrap_content\"\n",
    "        android:layout_marginStart=\"4dp\"\n",
    "        android:layout_marginEnd=\"4dp\"\n",
    "        android:background=\"@color/dark_blue_500\">\n",
    "\n",
    "        <TextView\n",
    "            android:id=\"@+id/overviewViewPagerCarName\"\n",
    "            android:layout_width=\"200dp\"\n",
    "            android:layout_height=\"wrap_content\"\n",
    "            android:background=\"@color/green_500\"\n",
    "            android:gravity=\"center\"\n",
    "            android:padding=\"4dp\"\n",
    "            android:text=\"@string/domowy\"\n",
    "            android:textColor=\"@color/black\"\n",
    "            android:textSize=\"24sp\"\n",
    "            app:layout_constraintStart_toStartOf=\"parent\"\n",
    "            app:layout_constraintTop_toTopOf=\"parent\" />\n",
    "\n",
    "        <TextView\n",
    "            android:id=\"@+id/textView\"\n",
    "            android:layout_width=\"match_parent\"\n",
    "            android:layout_height=\"wrap_content\"\n",
    "            android:layout_marginStart=\"24dp\"\n",
    "            android:padding=\"4dp\"\n",
    "            android:text=\"@string/marka\"\n",
    "            android:textColor=\"@color/teal_200\"\n",
    "            android:textSize=\"18sp\"\n",
    "            app:layout_constraintStart_toStartOf=\"parent\"\n",
    "            app:layout_constraintTop_toBottomOf=\"@+id/overviewViewPagerCarName\" />\n",
    "\n",
    "        <TextView\n",
    "            android:id=\"@+id/overviewViewPagerBrand\"\n",
    "            android:layout_width=\"wrap_content\"\n",
    "            android:layout_height=\"wrap_content\"\n",
    "            android:layout_marginEnd=\"24dp\"\n",
    "            android:gravity=\"end\"\n",
    "            android:padding=\"4dp\"\n",
    "            android:text=\"@string/skoda\"\n",
    "            android:textColor=\"@color/teal_200\"\n",
    "            android:textSize=\"18sp\"\n",
    "            app:layout_constraintEnd_toEndOf=\"@+id/overviewViewPagerCarName\"\n",
    "            app:layout_constraintTop_toBottomOf=\"@+id/overviewViewPagerCarName\" />\n",
    "\n",
    "        <TextView\n",
    "            android:layout_width=\"match_parent\"\n",
    "            android:layout_height=\"wrap_content\"\n",
    "            android:padding=\"4dp\"\n",
    "            android:layout_marginStart=\"24dp\"\n",
    "            android:text=\"@string/model\"\n",
    "            android:textColor=\"@color/teal_200\"\n",
    "            android:textSize=\"18sp\"\n",
    "            app:layout_constraintStart_toStartOf=\"parent\"\n",
    "            app:layout_constraintTop_toBottomOf=\"@+id/overviewViewPagerBrand\" />\n",
    "\n",
    "        <TextView\n",
    "            android:id=\"@+id/overviewViewPagerModel\"\n",
    "            android:layout_width=\"match_parent\"\n",
    "            android:layout_height=\"wrap_content\"\n",
    "            android:padding=\"4dp\"\n",
    "            android:gravity=\"end\"\n",
    "            android:layout_marginEnd=\"24dp\"\n",
    "            android:text=\"@string/fabia\"\n",
    "            android:textColor=\"@color/teal_200\"\n",
    "            android:textSize=\"18sp\"\n",
    "            app:layout_constraintEnd_toEndOf=\"@+id/overviewViewPagerCarName\"\n",
    "            app:layout_constraintTop_toBottomOf=\"@+id/overviewViewPagerBrand\" />\n",
    "\n",
    "        <TextView\n",
    "            android:layout_width=\"match_parent\"\n",
    "            android:layout_height=\"wrap_content\"\n",
    "            android:padding=\"4dp\"\n",
    "            android:layout_marginStart=\"24dp\"\n",
    "            android:text=\"@string/rok\"\n",
    "            android:textColor=\"@color/teal_200\"\n",
    "            android:textSize=\"18sp\"\n",
    "            app:layout_constraintStart_toStartOf=\"parent\"\n",
    "            app:layout_constraintTop_toBottomOf=\"@+id/overviewViewPagerModel\" />\n",
    "\n",
    "        <TextView\n",
    "            android:id=\"@+id/overviewViewPagerYearOfProduction\"\n",
    "            android:layout_width=\"match_parent\"\n",
    "            android:layout_height=\"wrap_content\"\n",
    "            android:padding=\"4dp\"\n",
    "            android:gravity=\"end\"\n",
    "            android:layout_marginEnd=\"24dp\"\n",
    "            android:text=\"@string/_1999\"\n",
    "            android:textColor=\"@color/teal_200\"\n",
    "            android:textSize=\"18sp\"\n",
    "            app:layout_constraintEnd_toEndOf=\"@+id/overviewViewPagerCarName\"\n",
    "            app:layout_constraintTop_toBottomOf=\"@+id/overviewViewPagerModel\" />\n",
    "\n",
    "        <TextView\n",
    "            android:layout_width=\"match_parent\"\n",
    "            android:layout_height=\"wrap_content\"\n",
    "            android:padding=\"4dp\"\n",
    "            android:layout_marginStart=\"24dp\"\n",
    "            android:text=\"@string/suma_koszt_w\"\n",
    "            android:textColor=\"@color/teal_200\"\n",
    "            android:textSize=\"18sp\"\n",
    "            app:layout_constraintStart_toStartOf=\"parent\"\n",
    "            app:layout_constraintTop_toBottomOf=\"@+id/overviewViewPagerYearOfProduction\" />\n",
    "\n",
    "        <TextView\n",
    "            android:id=\"@+id/overviewViewPagerTotalCosts\"\n",
    "            android:layout_width=\"match_parent\"\n",
    "            android:layout_height=\"wrap_content\"\n",
    "            android:padding=\"4dp\"\n",
    "            android:gravity=\"end\"\n",
    "            android:layout_marginEnd=\"24dp\"\n",
    "            android:text=\"1 000.00 zł\"\n",
    "            android:textColor=\"@color/teal_200\"\n",
    "            android:textSize=\"18sp\"\n",
    "            app:layout_constraintEnd_toEndOf=\"@+id/overviewViewPagerCarName\"\n",
    "            app:layout_constraintTop_toBottomOf=\"@+id/overviewViewPagerYearOfProduction\" />\n",
    "\n",
    "    </androidx.constraintlayout.widget.ConstraintLayout>\n",
    "</androidx.cardview.widget.CardView>"
   ]
  },
  {
   "cell_type": "markdown",
   "id": "c4d4d8ca-8bf2-46a7-8fe8-8fe30972a69e",
   "metadata": {},
   "source": [
    "Pierwszym będzie `OverviewCarsAdapter`"
   ]
  },
  {
   "cell_type": "code",
   "execution_count": null,
   "id": "67f8a137-192d-426d-b428-6d3aa48513c6",
   "metadata": {},
   "outputs": [],
   "source": [
    "class OverviewCarsViewHolder(private val binding: CarsOverviewItemRecyclerviewBinding)\n",
    "    : RecyclerView.ViewHolder(binding.root) {\n",
    "\n",
    "    fun bind (item: Car){\n",
    "        binding.apply {\n",
    "            overviewViewPagerCarName.text = item.name\n",
    "            overviewViewPagerBrand.text = item.brand\n",
    "            overviewViewPagerModel.text = item.model\n",
    "            overviewViewPagerYearOfProduction.text = item.yearOfProduction.toString()\n",
    "            overviewViewPagerTotalCosts.text = decimalFormat.format(item.costs.sumOf { it.amount }).toString()\n",
    "        }\n",
    "    }\n",
    "}\n",
    "    \n",
    "class OverviewCarsAdapter : RecyclerView.Adapter<OverviewCarsViewHolder>() {\n",
    "\n",
    "    private val cars = DataProvider.cars\n",
    "\n",
    "    override fun onCreateViewHolder(parent: ViewGroup, viewType: Int) =\n",
    "        OverviewCarsViewHolder(\n",
    "            CarsOverviewItemRecyclerviewBinding.inflate(\n",
    "                LayoutInflater.from(parent.context), parent, false\n",
    "            )\n",
    "        )\n",
    "\n",
    "    override fun onBindViewHolder(holder: OverviewCarsViewHolder, position: Int) {\n",
    "        val item = cars[position]\n",
    "        holder.bind(item)\n",
    "    }\n",
    "\n",
    "    override fun getItemCount(): Int = cars.size\n",
    "}"
   ]
  },
  {
   "cell_type": "markdown",
   "id": "ff550a60-e4e1-4cf8-a53f-97c15f5bd2da",
   "metadata": {},
   "source": [
    "W funkcji `bind` pole `totalCostsTextView` będzie przechowywało informację o całkowitym poniesionym koszcie, aby to obliczyć na liście `costs` wywołujemy metodę `sumOf` - jako `selector` podajemy `amount`.\n",
    "\n",
    "Przejdźmy do `OverviewCostsAdapter`, chcemy obliczyć sumę kosztów każdego typu i przekazać wynik do `TextView`. Napiszmy metodę pomocniczą w klasie `ViewHolder` zwracającą sumę kosztów o zadanym typie."
   ]
  },
  {
   "cell_type": "code",
   "execution_count": null,
   "id": "45b844c3-1a73-4e03-a1e2-cd50763d5629",
   "metadata": {},
   "outputs": [],
   "source": [
    "private fun costValue(item: Car, costType: CostType) =\n",
    "    decimalFormat.format(item.costs\n",
    "        .filter { it.type == costType } // zwraca listę wszytkich kosztów o zadanym typie\n",
    "        .sumOf { it.amount }).toString() // zwraca sumę wszystkich wartości"
   ]
  },
  {
   "cell_type": "markdown",
   "id": "f641a72b-1f0f-4e81-b727-4da2328f3a73",
   "metadata": {},
   "source": [
    "Pełna klasa adaptera:"
   ]
  },
  {
   "cell_type": "code",
   "execution_count": null,
   "id": "f04ada69-de12-4c9a-adf6-090246ac559e",
   "metadata": {},
   "outputs": [],
   "source": [
    "class OverviewCostsViewHolder(private val binding: CostOverviewItemRecyclerviewBinding)\n",
    "    : RecyclerView.ViewHolder(binding.root) {\n",
    "\n",
    "    fun bind (item: Car){\n",
    "        binding.apply {\n",
    "            overviewRecyclerViewCarName.text = item.name\n",
    "            overviewRecyclerViewFueling.text = costValue(item, CostType.REFUELING)\n",
    "            overviewRecyclerViewService.text = costValue(item, CostType.SERVICE)\n",
    "            overviewRecyclerViewParking.text = costValue(item, CostType.PARKING)\n",
    "            overviewRecyclerViewInsurance.text = costValue(item, CostType.INSURANCE)\n",
    "            overviewRecyclerViewTicket.text = costValue(item, CostType.TICKET)\n",
    "        }\n",
    "    }\n",
    "\n",
    "    private fun costValue(item: Car, costType: CostType) =\n",
    "        decimalFormat.format(item.costs\n",
    "            .filter { it.type == costType }\n",
    "            .sumOf { it.amount }).toString()\n",
    "}\n",
    "    \n",
    "class OverviewCostsAdapter : RecyclerView.Adapter<OverviewCostsViewHolder>() {\n",
    "\n",
    "    private val cars = DataProvider.cars\n",
    "\n",
    "    override fun onCreateViewHolder(parent: ViewGroup, viewType: Int) =\n",
    "        OverviewCostsViewHolder(\n",
    "            CostOverviewItemRecyclerviewBinding.inflate(\n",
    "                LayoutInflater.from(parent.context), parent, false\n",
    "            )\n",
    "        )\n",
    "\n",
    "    override fun onBindViewHolder(holder: OverviewCostsViewHolder, position: Int) {\n",
    "        val item = cars[position]\n",
    "        holder.bind(item)\n",
    "    }\n",
    "\n",
    "    override fun getItemCount(): Int = cars.size\n",
    "}"
   ]
  },
  {
   "cell_type": "markdown",
   "id": "e5cbb8b8-7f74-4706-9236-f3dcf35e7457",
   "metadata": {},
   "source": [
    "Do metody `onViewCreated` klasy `OverviewFragment` dodajemy `RecyclerView`"
   ]
  },
  {
   "cell_type": "code",
   "execution_count": null,
   "id": "19434cda-2ebb-4f8e-b983-41070f4ab875",
   "metadata": {},
   "outputs": [],
   "source": [
    "override fun onViewCreated(view: View, savedInstanceState: Bundle?) {\n",
    "    super.onViewCreated(view, savedInstanceState)\n",
    "    view.findViewById<RecyclerView>(R.id.overviewCostsRecyclerView).apply {\n",
    "        layoutManager = LinearLayoutManager(context, LinearLayoutManager.HORIZONTAL, false)\n",
    "        adapter = OverviewCostsAdapter()\n",
    "    }\n",
    "\n",
    "    view.findViewById<RecyclerView>(R.id.overviewCarsRecyclerView).apply {\n",
    "        layoutManager = LinearLayoutManager(context, LinearLayoutManager.HORIZONTAL, false)\n",
    "        adapter = OverviewCarsAdapter()\n",
    "    }\n",
    "}"
   ]
  },
  {
   "cell_type": "markdown",
   "id": "9b072794-56bf-49d8-8d95-7360b5d3cef7",
   "metadata": {},
   "source": [
    "Następnie chcemy dostać całkowitą sumę kosztów dla każdego typu (dla wszystkich samochodów), napiszmy metodę pomocniczą"
   ]
  },
  {
   "cell_type": "code",
   "execution_count": null,
   "id": "ec5ccde0-6096-420f-a181-0f9ac2adc864",
   "metadata": {},
   "outputs": [],
   "source": [
    "private fun totalValue(costType: CostType): String {\n",
    "    return decimalFormat.format(DataProvider.cars\n",
    "        .flatMap { it.costs }\n",
    "        .filter { it.type == costType }\n",
    "        .sumOf { it.amount }).toString()\n",
    "}"
   ]
  },
  {
   "cell_type": "markdown",
   "id": "ba658d42-8e42-453b-98cc-35c3e4c3e249",
   "metadata": {},
   "source": [
    "Ponieważ każdy obierkt `Car` zawiera `List<Cost>`, wykonując `map` dostaniemy `List<List<Cost>>`. Będziemy sumować wszystkie koszty o zadanym typie, więc chcemy mieć jedną listę - w tym celu wykorzystujemy `flatMap`, która zwróci `List<Cost>`. Dalsze krokie są takie same jak poprzednio - wykonujemy `filter` aby dostać listę wszystkich kosztów ze względu na zadany typ, następnie `sumOf` zwraca sumę wszystkich wartości (`amount`)."
   ]
  },
  {
   "cell_type": "code",
   "execution_count": null,
   "id": "b4f32632-c994-4efc-9404-1c74e0cc797d",
   "metadata": {},
   "outputs": [],
   "source": [
    "private fun setupTotalCostsUi() {\n",
    "    binding.apply {\n",
    "        overviewFueling.text = totalValue(CostType.REFUELING)\n",
    "        overviewService.text = totalValue(CostType.SERVICE)\n",
    "        overviewParking.text = totalValue(CostType.PARKING)\n",
    "        overviewInsurance.text = totalValue(CostType.INSURANCE)\n",
    "        overviewTicket.text = totalValue(CostType.TICKET)\n",
    "    }\n",
    "}"
   ]
  },
  {
   "cell_type": "markdown",
   "id": "4192de25-759d-4b4c-b5d3-791f1f3ec847",
   "metadata": {},
   "source": [
    "Powiększmy nieco *dummy data* i możemy przetestować aplikację"
   ]
  },
  {
   "cell_type": "markdown",
   "id": "2b9b5802-db24-49f2-af84-07db45da4ebd",
   "metadata": {},
   "source": [
    "<table><tr><td><img src=\"https://media1.giphy.com/media/v1.Y2lkPTc5MGI3NjExZmY3OWQ4YTA1MmYyZTJjMDMyZWUzYWYyMzU2ODQwZmE2ZDk0NjRkOCZjdD1n/yKdJs01bzZJUnOPxiD/giphy.gif\" width=\"150\" /></td><td><img src=\"https://media4.giphy.com/media/v1.Y2lkPTc5MGI3NjExZTYzZGIxZjZhZDI4NmM5YmMzNDgwZjhlNTRhNjE5NDBkNTNkMzUyMiZjdD1n/FRXszb4lA5unP6j0v6/giphy.gif\" width=\"150\" /></td><td><img src=\"https://media1.giphy.com/media/v1.Y2lkPTc5MGI3NjExYzg5OGQwZGRjN2Q2ZWRlMWE2NjE1MzAxZjc5NmU1MjRlYjBiNjhjNSZjdD1n/cJ83NZTstXO1WpUCFU/giphy.gif\" width=\"150\" /></td></tr></table>"
   ]
  }
 ],
 "metadata": {
  "kernelspec": {
   "display_name": "Kotlin",
   "language": "kotlin",
   "name": "kotlin"
  },
  "language_info": {
   "codemirror_mode": "text/x-kotlin",
   "file_extension": ".kt",
   "mimetype": "text/x-kotlin",
   "name": "kotlin",
   "nbconvert_exporter": "",
   "pygments_lexer": "kotlin",
   "version": "1.8.0-RC"
  }
 },
 "nbformat": 4,
 "nbformat_minor": 5
}
