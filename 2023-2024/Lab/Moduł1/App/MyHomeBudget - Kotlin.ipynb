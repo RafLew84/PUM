{
 "cells": [
  {
   "cell_type": "markdown",
   "id": "3d953bd4-af24-4d61-bdc8-b217050a8c4a",
   "metadata": {},
   "source": [
    "## MyHomeBudget"
   ]
  },
  {
   "cell_type": "markdown",
   "id": "e7b193fe-3320-4ab1-8171-3cafbd5a1722",
   "metadata": {},
   "source": [
    "Aplikacja MyFinance wykorzystuje `TabLayout Navigation` z `ViewPager2`. Dane dostarczymy przez obiekt `dataProvider` zawierający hardcodowane przykładowe pozycje (*dummy data*). Aplikacja zawiera trzy ekrany pokazujące stan oszczędności oraz rachunki - ekran główny zawiera podsumowanie. Dodamy customową animację do `TabLayout.Tab` oraz `DonutChart` podsumowujący stan naszych finansów oraz kilka elementów urozmaicających wygląd naszej aplikacji. Sam layout aplikacji bazuje na przykładzie z **Android Open Project** [link](https://github.com/android/compose-samples/tree/main/Rally)"
   ]
  },
  {
   "cell_type": "markdown",
   "id": "bba5a00e-4fd6-477f-a4af-e88ebba11f5b",
   "metadata": {},
   "source": [
    "<table><tr><td><img src=\"https://media1.giphy.com/media/49RzyXBmRBa59Wi47n/giphy.gif?cid=790b76111b9b9991bd4197bf8d7295e517603d04f8ba2992&rid=giphy.gif&ct=g\" width=\"200\" /></td><td><img src=\"https://media1.giphy.com/media/zbqykvBYncTRQLCAja/giphy.gif?cid=790b7611d47e3d6d46e7b736ac29fe3cc9bc281aed07c1c0&rid=giphy.gif&ct=g\" width=\"200\" /></td><td><img src=\"https://media3.giphy.com/media/BbcDIUyV6IodX2yGVx/giphy.gif?cid=790b7611d1bf2abf7deacc8ad5a71a6a13adfbc9f4344954&rid=giphy.gif&ct=g\" width=\"200\" /></td></tr></table>"
   ]
  },
  {
   "cell_type": "markdown",
   "id": "6d6df806-edd4-44b1-b4ef-94069c61cee8",
   "metadata": {},
   "source": [
    "Rozpocznijmy od dodania zależności do projektu - wykorzystamy `DonutChart` (wykorzystamy [doughnut](https://github.com/futuredapp/donut)) oraz `CardView`"
   ]
  },
  {
   "cell_type": "code",
   "execution_count": null,
   "id": "3feba3bc-0bb0-4499-8e36-3ca45c98c14b",
   "metadata": {},
   "outputs": [],
   "source": [
    "implementation(\"app.futured.donut:donut:2.2.2\")\n",
    "implementation (\"androidx.cardview:cardview:1.0.0\")"
   ]
  },
  {
   "cell_type": "markdown",
   "id": "5801b195-259a-40ed-9370-3fe6f24d0edc",
   "metadata": {},
   "source": [
    "Tak jak w poprzednich aplikacjach, będdziemy wykorzystywać `ViewBinding`"
   ]
  },
  {
   "cell_type": "code",
   "execution_count": null,
   "id": "aa52d1e9-a60e-418d-b77d-99fd470c447c",
   "metadata": {},
   "outputs": [],
   "source": [
    "android {\n",
    "    ...\n",
    "    buildFeatures {\n",
    "        viewBinding = true\n",
    "    }\n",
    "}"
   ]
  },
  {
   "cell_type": "markdown",
   "id": "685a7146-3897-47f0-a79c-e7883322dd10",
   "metadata": {},
   "source": [
    "Nasza aplikacja będzie posiadała zdefiniowany layout tylko w orientacji `portrait`, więc zablookujemy możliwość zmiany w plik `AndroidManifest.xml` - do aktywności dodamy"
   ]
  },
  {
   "cell_type": "code",
   "execution_count": null,
   "id": "b564f429-30f9-4b05-a08d-ff11b062bd37",
   "metadata": {},
   "outputs": [],
   "source": [
    "android:screenOrientation=\"portrait\""
   ]
  },
  {
   "cell_type": "markdown",
   "id": "4f322a90-cc03-47fe-9452-ed094a970045",
   "metadata": {},
   "source": [
    "### **TabLayout i ViewPager2**"
   ]
  },
  {
   "cell_type": "markdown",
   "id": "b28bb505-3613-427a-ac52-a40d87cd8c13",
   "metadata": {},
   "source": [
    "Rozpoczniemy od dodania nawigacji. Aplikacja będzie posiadać trzy ekrany, więc dodajmy trzy fragmenty (`BlankFragment`) - `OverviewFragment`, `AccountsFragment`, `BillsFragment`"
   ]
  },
  {
   "cell_type": "code",
   "execution_count": null,
   "id": "bb68a3f2-37f3-44c3-92eb-f4d5063371dc",
   "metadata": {},
   "outputs": [],
   "source": [
    "class AccountsFragment : Fragment() {\n",
    "\n",
    "    private lateinit var binding: FragmentAccountsBinding\n",
    "\n",
    "    override fun onCreateView(\n",
    "        inflater: LayoutInflater, container: ViewGroup?,\n",
    "        savedInstanceState: Bundle?\n",
    "    ): View {\n",
    "        binding = FragmentAccountsBinding.inflate(inflater)\n",
    "        return binding.root\n",
    "    }\n",
    "}"
   ]
  },
  {
   "cell_type": "code",
   "execution_count": null,
   "id": "d842b803-beaf-4df5-9965-5a33c1f9c0b3",
   "metadata": {},
   "outputs": [],
   "source": [
    "class BillsFragment : Fragment() {\n",
    "\n",
    "    private lateinit var binding: FragmentBillsBinding\n",
    "\n",
    "    override fun onCreateView(\n",
    "        inflater: LayoutInflater, container: ViewGroup?,\n",
    "        savedInstanceState: Bundle?\n",
    "    ): View {\n",
    "        binding = FragmentBillsBinding.inflate(layoutInflater)\n",
    "        return binding.root\n",
    "    }\n",
    "}"
   ]
  },
  {
   "cell_type": "code",
   "execution_count": null,
   "id": "f1a4bda9-20fd-491c-93e3-50b37efaaee1",
   "metadata": {},
   "outputs": [],
   "source": [
    "class OverviewFragment : Fragment() {\n",
    "\n",
    "    private lateinit var binding: FragmentOverviewBinding\n",
    "\n",
    "    override fun onCreateView(\n",
    "        inflater: LayoutInflater, container: ViewGroup?,\n",
    "        savedInstanceState: Bundle?\n",
    "    ): View {\n",
    "        binding = FragmentOverviewBinding.inflate(layoutInflater)\n",
    "        return binding.root\n",
    "    }\n",
    "}"
   ]
  },
  {
   "cell_type": "markdown",
   "id": "7af5620b-ac93-4555-851b-a145e4a2338b",
   "metadata": {},
   "source": [
    "W layoutach chwilowo zmieniam tylko text pola `TextView` na nazwę fragmentu. Ponieważ nasza aplikacja będzie posiadać tylko jeden motyw usuwamy plik `themes.xml(night)` do pliku `colors.xml` dodajemy kilka kolorów"
   ]
  },
  {
   "cell_type": "code",
   "execution_count": null,
   "id": "afccb88e-095d-4e4b-8ff7-dea0a8992a5a",
   "metadata": {},
   "outputs": [],
   "source": [
    "<color name=\"green_500\">#FF1EB980</color>\n",
    "<color name=\"dark_blue_900\">#FF26282F</color>\n",
    "<color name=\"dark_blue_500\">#FF004940</color>"
   ]
  },
  {
   "cell_type": "markdown",
   "id": "83439f85-ad80-4750-aabc-e6593e57e6a2",
   "metadata": {},
   "source": [
    "Następnie modyfikujemy plik `themes.xml`"
   ]
  },
  {
   "cell_type": "code",
   "execution_count": null,
   "id": "ac7edac7-40b2-4992-ac53-c3fbf0578bbc",
   "metadata": {},
   "outputs": [],
   "source": [
    "<resources xmlns:tools=\"http://schemas.android.com/tools\">\n",
    "    <!-- Base application theme. -->\n",
    "    <style name=\"Theme.MyHomeBudgetKotlin\" parent=\"Theme.MaterialComponents.DayNight.NoActionBar\">\n",
    "        <!-- Primary brand color. -->\n",
    "        <item name=\"colorPrimary\">@color/dark_blue_500</item>\n",
    "        <item name=\"colorPrimaryVariant\">@color/dark_blue_900</item>\n",
    "        <item name=\"colorOnPrimary\">@color/teal_700</item>\n",
    "        <!-- Secondary brand color. -->\n",
    "        <item name=\"colorSecondary\">@color/teal_700</item>\n",
    "        <item name=\"colorSecondaryVariant\">@color/teal_200</item>\n",
    "        <item name=\"colorOnSecondary\">@color/white</item>\n",
    "        <!-- Status bar color. -->\n",
    "        <item name=\"android:statusBarColor\" >?attr/colorPrimaryVariant</item>\n",
    "        <!-- Customize your theme here. -->\n",
    "    </style>\n",
    "</resources>"
   ]
  },
  {
   "cell_type": "markdown",
   "id": "c04f75a7-902b-4131-bee8-1e1aad54f3ca",
   "metadata": {},
   "source": [
    "Aplikacja nie będzie wykorzystywać `ActionBar`, więc jako `parent` podajemy `NoActionBar`.\n",
    "\n",
    "Nasz `ViewPager2` dodamy bezpośrednio do `MainActivity` - zmodyfikujmy layout"
   ]
  },
  {
   "cell_type": "code",
   "execution_count": null,
   "id": "141c8719-e26c-440c-bc68-e93ca3bfe40e",
   "metadata": {},
   "outputs": [],
   "source": [
    "<?xml version=\"1.0\" encoding=\"utf-8\"?>\n",
    "<LinearLayout xmlns:android=\"http://schemas.android.com/apk/res/android\"\n",
    "    xmlns:app=\"http://schemas.android.com/apk/res-auto\"\n",
    "    xmlns:tools=\"http://schemas.android.com/tools\"\n",
    "    android:layout_width=\"match_parent\"\n",
    "    android:layout_height=\"match_parent\"\n",
    "    android:orientation=\"vertical\"\n",
    "    tools:context=\".MainActivity\">\n",
    "\n",
    "    <com.google.android.material.tabs.TabLayout\n",
    "        android:id=\"@+id/tabLayout\"\n",
    "        android:layout_width=\"match_parent\"\n",
    "        android:background=\"@color/dark_blue_900\"\n",
    "        app:tabTextColor=\"@color/white\"\n",
    "        android:layout_height=\"wrap_content\"\n",
    "        app:tabInlineLabel=\"true\"\n",
    "        app:tabIconTint=\"@color/teal_200\"\n",
    "        app:tabMode=\"fixed\"\n",
    "        app:tabGravity=\"start\"\n",
    "        app:tabMaxWidth=\"0dp\" />\n",
    "\n",
    "    <androidx.viewpager2.widget.ViewPager2\n",
    "        android:id=\"@+id/viewPager\"\n",
    "        android:layout_width=\"match_parent\"\n",
    "        android:layout_height=\"0dp\"\n",
    "        android:layout_weight=\"1\"/>\n",
    "\n",
    "</LinearLayout>"
   ]
  },
  {
   "cell_type": "markdown",
   "id": "5c6f14a1-5eb1-44e3-9b77-8120c10b2ba9",
   "metadata": {},
   "source": [
    "Kilka elementów zastosowanych w `TabLayout`\n",
    "- `tabMode` - sposób w jaki mają zostać wyświetlone zakładki\n",
    "    - `fixed` - tak jak zostaną podane, rozmiar zostanie automatycznie dostosowany\n",
    "    - `scrollable` - zakładki nie będą dokowane na całą szerokość ekranu, tylko kilka zostanie wyświetlonych - dostęp do niewidocznych użytkownik może uzyskać przez przewijanie\n",
    "- `tabGravity` - sposób rozmieszczenia zakładek\n",
    "- `tabMaxWidth` - ustawienie maksymalnej szerokości - `0dp` dostosowuje rozmiar zakładki do jej zawartości\n",
    "- `tabIconTint` - kolor wyświetlanej ikony\n",
    "- `tabInlineLabel` - ustawienie ikony i tekstu w rzędzie - przyjmuje `true` lub `false`\n",
    "\n",
    "`ViewPager2` zawiera `layout_height` ustawiony na `0dp` oraz `layout_weight = \"1\"` pozwala wypełnić pozostałą przestrzeń w `LinearLayout`"
   ]
  },
  {
   "cell_type": "markdown",
   "id": "42993ecc-82ab-411f-8613-34692465f78b",
   "metadata": {},
   "source": [
    "Dodajmy klasę `FinanceAdapter` będącą adapterem naszego `ViewPager2`"
   ]
  },
  {
   "cell_type": "code",
   "execution_count": null,
   "id": "b862d639-4312-4b6e-bf03-4b0d14957ab5",
   "metadata": {},
   "outputs": [],
   "source": [
    "class FinanceAdapter(fragmentActivity: FragmentActivity) \n",
    "    : FragmentStateAdapter(fragmentActivity) {\n",
    "    private val fragments = listOf(\n",
    "        OverviewFragment(), \n",
    "        AccountsFragment(), \n",
    "        BillsFragment())\n",
    "    override fun getItemCount(): Int = fragments.size\n",
    "    override fun createFragment(position: Int): Fragment = fragments[position]\n",
    "}"
   ]
  },
  {
   "cell_type": "markdown",
   "id": "e3b72707-a8b9-49b9-848a-b85e3b0b6595",
   "metadata": {},
   "source": [
    "W klasie definiujemy listę fragmentów która jest inicjalizowana trzema fragmentami: `OverviewFragment`, `AccountsFragment` i `BillsFragment` - są to komponenty naszej nawigacji."
   ]
  },
  {
   "cell_type": "markdown",
   "id": "296479b9-f2fc-4214-b477-cbe505d1d906",
   "metadata": {},
   "source": [
    "Następnie utworzymy `ViewPager2` i `TabLayout` w metodzie `onCreate` głównej aktywności"
   ]
  },
  {
   "cell_type": "code",
   "execution_count": null,
   "id": "ea6945bb-c944-4629-a882-984df6978207",
   "metadata": {},
   "outputs": [],
   "source": [
    "override fun onCreate(savedInstanceState: Bundle?) {\n",
    "    super.onCreate(savedInstanceState)\n",
    "    setContentView(R.layout.activity_main)\n",
    "\n",
    "    binding.viewPager.adapter = FinanceAdapter(this)\n",
    "\n",
    "    setupTabLayoutMediator(this, binding.tabLayout, binding.viewPager)\n",
    "}"
   ]
  },
  {
   "cell_type": "markdown",
   "id": "dd145557-ebe8-43b4-9add-06c0ee81c145",
   "metadata": {},
   "source": [
    "Następnym krokiem jest napisanie metody `setupTabLayoutMediator`, dodajmy do projektu nowy pakiet `util` i w nim utworzymy nowy plik `UiSetup`. Do pliku dodajmy tytuły naszych zakładek"
   ]
  },
  {
   "cell_type": "code",
   "execution_count": null,
   "id": "23250f26-4635-43e6-969f-57aff9ff3b46",
   "metadata": {},
   "outputs": [],
   "source": [
    "val tabTitles = listOf(\n",
    "    R.string.overview_name, \n",
    "    R.string.accounts_name, \n",
    "    R.string.bills_name)"
   ]
  },
  {
   "cell_type": "markdown",
   "id": "37a92e77-952c-4898-ae95-8b2fde1c9b1d",
   "metadata": {},
   "source": [
    "I do pliku `strings.xml`"
   ]
  },
  {
   "cell_type": "code",
   "execution_count": null,
   "id": "921c4f4c-f0eb-4d58-9c3e-bbb17305a38a",
   "metadata": {},
   "outputs": [],
   "source": [
    "<string name=\"overview_name\">Overview</string>\n",
    "<string name=\"accounts_name\">Accounts</string>\n",
    "<string name=\"bills_name\">Bills</string>"
   ]
  },
  {
   "cell_type": "markdown",
   "id": "ea723945-9314-4e0a-9997-177fe2980128",
   "metadata": {},
   "source": [
    "Dodajmy metodę `setupTabLayoutMediator` do pliku `UiSetup`"
   ]
  },
  {
   "cell_type": "code",
   "execution_count": null,
   "id": "3a93db99-6072-457c-a5cf-ec903cf7088d",
   "metadata": {},
   "outputs": [],
   "source": [
    "private fun setupTabLayoutMediator(\n",
    "    context: Context,\n",
    "    tabLayout: TabLayout,\n",
    "    viewPager2: ViewPager2\n",
    ") {\n",
    "    TabLayoutMediator(tabLayout, viewPager2) { tab, position ->\n",
    "        tab.text = context.getString(tabTitles[position])\n",
    "    }.attach()\n",
    "}"
   ]
  },
  {
   "cell_type": "markdown",
   "id": "64a664cc-059f-4705-9778-686606806f61",
   "metadata": {},
   "source": [
    "Jest to funkcja, która łączy `TabLayout` z `ViewPager2`.\n",
    "\n",
    "`TabLayoutMediator` to klasa, która umożliwia połączenie `TabLayout` i `ViewPager2`. Następnie używamy lambdy, aby ustawiać tekst w każdym elemencie `TabLayout`. Wewnętrzna zmienna `position` przechowuje pozycję aktualnego fragmentu, a `context.getString(tabTitles[position])` zwraca tekst, który jest pobierany z tablicy stringów o nazwie `tabTitles` zdefiniowanej wcześniej.\n",
    "\n",
    "Na koniec wywołujemy metodę `attach()`, aby zakończyć proces połączenia `TabLayout` i `ViewPager2`."
   ]
  },
  {
   "cell_type": "markdown",
   "id": "024c0ca5-7150-4c1e-b6ea-4c9307729ebd",
   "metadata": {},
   "source": [
    "Możemy przetestować aplikację"
   ]
  },
  {
   "cell_type": "markdown",
   "id": "b8673563-f73f-45ad-95dc-ec0682782cf0",
   "metadata": {},
   "source": [
    "<img src=\"https://media1.giphy.com/media/9IdIFNbyyewccfTTjG/giphy.gif?cid=790b76113f11b618eb6ce26cdf2e17faf07d98203cdf7e21&rid=giphy.gif&ct=g\" width=\"150\" />"
   ]
  },
  {
   "cell_type": "markdown",
   "id": "94a0ed04-a0da-4814-a2d9-901486ea71d8",
   "metadata": {},
   "source": [
    "Dodajmy zestaw ikon dla naszych zakładek - przechodzimy do pliku `uiSetup`"
   ]
  },
  {
   "cell_type": "code",
   "execution_count": null,
   "id": "8eb59338-278b-4cf6-a157-3cccd3938fb9",
   "metadata": {},
   "outputs": [],
   "source": [
    "val tabTitles = listOf(\n",
    "    R.string.overview_name,\n",
    "    R.string.accounts_name,\n",
    "    R.string.bills_name)\n",
    "\n",
    "val tabIcons = listOf(\n",
    "    R.drawable.ic_overview,\n",
    "    R.drawable.ic_accounts,\n",
    "    R.drawable.ic_bills)"
   ]
  },
  {
   "cell_type": "markdown",
   "id": "f01daa6b-e9f0-44d6-a451-3d6f690bc344",
   "metadata": {},
   "source": [
    "Zmodyfikujmy metodę `setupTabLayoutMediator`"
   ]
  },
  {
   "cell_type": "code",
   "execution_count": null,
   "id": "ebecadf1-d9ac-479e-81df-a85c3cee0f08",
   "metadata": {},
   "outputs": [],
   "source": [
    "private fun setupTabLayoutMediator(\n",
    "    context: Context,\n",
    "    tabLayout: TabLayout,\n",
    "    viewPager2: ViewPager2) {\n",
    "    TabLayoutMediator(tabLayout, viewPager2) { tab, position ->\n",
    "        tab.apply {\n",
    "            icon = ContextCompat.getDrawable(context, tabIcons[position])\n",
    "            text = context.getString(tabTitles[position])\n",
    "            icon?.setTint(Color.WHITE)\n",
    "        }\n",
    "    }.attach()\n",
    "}"
   ]
  },
  {
   "cell_type": "markdown",
   "id": "625a72b2-838f-47ac-a980-0199711c5670",
   "metadata": {},
   "source": [
    "Metoda `icon?.setTint` pozwala zmienić kolor grafiki wektorowej - ustawiamy na białą. Nasza aplikacja teraz wygląda następująco."
   ]
  },
  {
   "cell_type": "markdown",
   "id": "4bf9887a-a721-4247-8a39-3f4ddcfa0cab",
   "metadata": {},
   "source": [
    "<img src=\"https://media0.giphy.com/media/gGFILN8lnvSsCIacNt/giphy.gif?cid=790b7611d2de0256b614247faddd193614ba76fa00201eec&rid=giphy.gif&ct=g\" width=\"150\" />"
   ]
  },
  {
   "cell_type": "markdown",
   "id": "81f946e4-6016-4a56-8541-dd6503d1e961",
   "metadata": {},
   "source": [
    "Chcemy pokazać tylko ikonę nie zaznaczonej zakładki oraz ikonę z tekstem wybranej zakładce. Dodajmy funkcję `setupTabSelection` w której zaimplementujemy metody `addOnTabSelectedListener`, oraz `tabLayoutSetup`, którą wywołamy w `MainActivity`. \n",
    "\n",
    "`TabSelectionListener` obsługuje tylko zdarzenia `onTabSelected`, `onTabUnselected` i `onTabReselected`. W pierwszych dwóch zmienimy tekst zakładki"
   ]
  },
  {
   "cell_type": "code",
   "execution_count": null,
   "id": "d1079c0b-7a2d-45cb-a089-e99c1a76cdef",
   "metadata": {},
   "outputs": [],
   "source": [
    "// uiSetup.kt\n",
    "\n",
    "val tabTitles = listOf(\n",
    "    R.string.overview_name,\n",
    "    R.string.accounts_name,\n",
    "    R.string.bills_name)\n",
    "\n",
    "val tabIcons = listOf(\n",
    "    R.drawable.ic_overview,\n",
    "    R.drawable.ic_accounts,\n",
    "    R.drawable.ic_bills)\n",
    "\n",
    "fun tabLayoutSetup(context: Context, tabLayout: TabLayout, viewPager2: ViewPager2) {\n",
    "    setupTabLayoutMediator(context, tabLayout, viewPager2)\n",
    "    setupTabSelection(context, tabLayout)\n",
    "}\n",
    "\n",
    "private fun setupTabLayoutMediator(\n",
    "    context: Context,\n",
    "    tabLayout: TabLayout,\n",
    "    viewPager2: ViewPager2\n",
    ") {\n",
    "    TabLayoutMediator(tabLayout, viewPager2) { tab, position ->\n",
    "        tab.apply {\n",
    "            icon = ContextCompat.getDrawable(context, tabIcons[position])\n",
    "            text = context.getString(tabTitles[position])\n",
    "            icon?.setTint(Color.WHITE)\n",
    "        }\n",
    "    }.attach()\n",
    "}\n",
    "\n",
    "private fun setupTabSelection(context: Context, tabLayout: TabLayout){\n",
    "    tabLayout.addOnTabSelectedListener(object : TabLayout.OnTabSelectedListener {\n",
    "        override fun onTabSelected(tab: TabLayout.Tab) {\n",
    "            tab.text = context.getString(tabTitles[tab.position])\n",
    "        }\n",
    "\n",
    "        override fun onTabUnselected(tab: TabLayout.Tab) {\n",
    "            tab.text = \"\"\n",
    "        }\n",
    "\n",
    "        override fun onTabReselected(tab: TabLayout.Tab) {}\n",
    "    })\n",
    "}"
   ]
  },
  {
   "cell_type": "code",
   "execution_count": null,
   "id": "d11a987e-2ea1-4053-a8c0-84db5e612279",
   "metadata": {},
   "outputs": [],
   "source": [
    "class MainActivity : AppCompatActivity() {\n",
    "\n",
    "    private val binding: ActivityMainBinding by lazy { ActivityMainBinding.inflate(layoutInflater) }\n",
    "    override fun onCreate(savedInstanceState: Bundle?) {\n",
    "        super.onCreate(savedInstanceState)\n",
    "        setContentView(binding.root)\n",
    "\n",
    "        binding.viewPager.adapter = FinanceAdapter(this)\n",
    "\n",
    "        tabLayoutSetup(this, binding.tabLayout, binding.viewPager)\n",
    "    }\n",
    "\n",
    "}"
   ]
  },
  {
   "cell_type": "markdown",
   "id": "0c744eba-eb28-46a2-a4ef-8e2cac9eb92d",
   "metadata": {},
   "source": [
    "<img src=\"https://media0.giphy.com/media/uzc9KIxaD4KinhS1GQ/giphy.gif?cid=790b7611153c63bbec947cab1bc09d6c638f7323bdc36e8c&rid=giphy.gif&ct=g\" width=\"150\" />"
   ]
  },
  {
   "cell_type": "markdown",
   "id": "f7b75fa4-ccd0-4d4c-bac7-d17cd7c2600e",
   "metadata": {},
   "source": [
    "Musimy jeszcze zainicjować w odpowiedni sposób zakładki. Zmodyfikujmy metodę `setupTabLayoutMediator`. Tekst i kolor ikony ustawimy tylko dla `position == 0`, co odpowiada ekranowi głównemu aplikacji."
   ]
  },
  {
   "cell_type": "code",
   "execution_count": null,
   "id": "e8512829-73a6-4eec-8747-833a6b254bfb",
   "metadata": {},
   "outputs": [],
   "source": [
    "private fun setupTabLayoutMediator(\n",
    "    context: Context, \n",
    "    tabLayout: TabLayout, \n",
    "    viewPager2: ViewPager2) {\n",
    "    TabLayoutMediator(tabLayout, viewPager2) { tab, position ->\n",
    "        tab.icon = ContextCompat.getDrawable(context, tabIcons[position])\n",
    "        if (position == 0) tab.apply {\n",
    "            text = context.getString(tabTitles[position])\n",
    "            icon?.setTint(Color.WHITE)\n",
    "        }\n",
    "    }.attach()\n",
    "}"
   ]
  },
  {
   "cell_type": "markdown",
   "id": "de15a65a-b7f4-4ed0-b810-8561cc3c4089",
   "metadata": {},
   "source": [
    "Metoda `addOnTabSelectedListener` pozwala na zdefiniowanie zachowań, które będą wykonywane po wybraniu, odznaczeniu lub ponownym wybraniu zakładki.\n",
    "\n",
    "W przypadku tego kodu, gdy użytkownik wybierze zakładkę (`onTabSelected`), zmieniana jest wartość tekstu zakładki na wartość zdefiniowaną w `tabTitles` dla wybranej pozycji. Gdy użytkownik odznaczy zakładkę (`onTabUnselected`), wartość tekstu zostaje wyczyszczona. W przypadku ponownego wybrania zakładki (`onTabReselected`), nie dzieje się nic.\n",
    "\n",
    "Podsumowując, ten kod pozwala na dynamiczne ustawianie tekstu na zakładkach w `TabLayout` na podstawie wartości zdefiniowanych w `tabTitles`."
   ]
  },
  {
   "cell_type": "markdown",
   "id": "177c3749-4c49-4cf1-bbac-c5961012c0e7",
   "metadata": {},
   "source": [
    "<img src=\"https://media0.giphy.com/media/8wosma6sipcea16wxt/giphy.gif?cid=790b76114eedb95754c5e7f3b59ff15167d82c6bc0910831&rid=giphy.gif&ct=g\" width=\"150\" />"
   ]
  },
  {
   "cell_type": "markdown",
   "id": "43758187-e11f-45ab-92ea-59d8eaa2100b",
   "metadata": {},
   "source": [
    "### Annimacje"
   ]
  },
  {
   "cell_type": "markdown",
   "id": "3327b8fb-1e8f-4340-a7c7-70f3d72c65ca",
   "metadata": {},
   "source": [
    "Dodajmy customową animację do zakładek. Użyjemy prostego skalowania - niezaznaczona zakładka będzie wyświetlać tylko przeskalowaną (70%) ikonę. Dodajmy metodę `initialTabsSetup`"
   ]
  },
  {
   "cell_type": "code",
   "execution_count": null,
   "id": "f6a248ee-9f9b-4056-904c-7205c3943aa2",
   "metadata": {},
   "outputs": [],
   "source": [
    "private const val tabScaleLow = 0.7f\n",
    "private const val tabScaleHigh = 1f\n",
    "\n",
    "private fun initialTabsSetup(tabLayout: TabLayout){\n",
    "    val viewGroup = tabLayout.getChildAt(0) as ViewGroup\n",
    "    for (i in 0 until viewGroup.childCount) {\n",
    "        if (i == tabLayout.selectedTabPosition) continue\n",
    "        val child = viewGroup.getChildAt(i)\n",
    "        child.scaleX = tabScaleLow\n",
    "        child.scaleY = tabScaleLow\n",
    "    }\n",
    "}"
   ]
  },
  {
   "cell_type": "markdown",
   "id": "73352046-0ec6-4f57-b261-c3a83b581f0d",
   "metadata": {},
   "source": [
    "Skalować możemy tylko na obiektach `View` - bezpośrednio nie możemy tego zrobić na `TabLayout.Tab`, ponieważ nie rozszerza on `View`. Więc jako parametr metody podamy `ViewGroup`, który będzie naszym zawierał nasze zakładki. Z `TabLayout` wywołujemy metodę `getChildAt()` wyciągając wszyskie zakładki przypisane do tego `TabLayout` i rzutujemy na `ViewGroup`. Chcemy skalować wszystkie elementy poza aktualnie zaznaczonym, dlatego mamy warunek `if (...) continue`. Następnie wywołajmy tą metodę w `tabLayoutSetup`"
   ]
  },
  {
   "cell_type": "code",
   "execution_count": null,
   "id": "566112d0-0aec-4b24-8326-08cf71872ad8",
   "metadata": {},
   "outputs": [],
   "source": [
    "fun tabLayoutSetup(context: Context, tabLayout: TabLayout, viewPager2: ViewPager2) {\n",
    "    setupTabLayoutMediator(context, tabLayout, viewPager2)\n",
    "    initialTabsSetup(tabLayout)\n",
    "    setupTabSelection(context, tabLayout)\n",
    "}"
   ]
  },
  {
   "cell_type": "markdown",
   "id": "50e6fb68-f888-460f-ae1e-49391a5bda9d",
   "metadata": {},
   "source": [
    "Dodajmy metodę `setupAnimation` wykonującą prostą animację powiększania."
   ]
  },
  {
   "cell_type": "code",
   "execution_count": null,
   "id": "742c4bd0-6914-43cc-918b-b37db875aa43",
   "metadata": {},
   "outputs": [],
   "source": [
    "private fun setupAnimation(view: View, scale: Float, duration: Long){\n",
    "    view.animate()\n",
    "        .scaleX(scale)\n",
    "        .scaleY(scale)\n",
    "        .setInterpolator(FastOutSlowInInterpolator())\n",
    "        .setDuration(duration)\n",
    "        .start()\n",
    "}"
   ]
  },
  {
   "cell_type": "markdown",
   "id": "852a195e-cd81-4e61-a675-a53f40587c7c",
   "metadata": {},
   "source": [
    "- `scaleX`, `scaleY` - skalowanie do zadanej wartości z przedziału (0.0 - 1.0)\n",
    "- `setInterpolator` - umożliwia wykorzystanie podstawowych animacji\n",
    "- `FastOutSlowInInterpolator` - wykorzysuje [tablicowanie](https://pl.wikipedia.org/wiki/Tablicowanie) z [krzywymi Beziera](https://pl.wikipedia.org/wiki/Krzywa_B%C3%A9ziera) do wykonania utworzenia animacji - tutaj zastosujemy skalowanie\n",
    "- `setDuration` - długość animacji w milisekundach\n",
    "\n",
    "Teraz wykorzystajmy tą metodę do zmiany rozmiarów zakładek po zaznaczeniu."
   ]
  },
  {
   "cell_type": "code",
   "execution_count": null,
   "id": "5e1bcdc1-a61e-47a9-afdd-8cd82e9da141",
   "metadata": {},
   "outputs": [],
   "source": [
    "private fun setupTabSelection(context: Context, tabLayout: TabLayout){\n",
    "    val viewGroup = tabLayout.getChildAt(0) as ViewGroup\n",
    "    tabLayout.addOnTabSelectedListener(object : TabLayout.OnTabSelectedListener {\n",
    "        override fun onTabSelected(tab: TabLayout.Tab) {\n",
    "            tab.apply {\n",
    "                text = context.getString(tabTitles[tab.position])\n",
    "                icon?.setTint(Color.WHITE)\n",
    "            }\n",
    "\n",
    "            // zwracam aktualną zakładkę jako ViewGroup\n",
    "            val currentChild = viewGroup.getChildAt(tab.position)\n",
    "            \n",
    "            // czas animacji pobrany z zasobów systemowych Android\n",
    "            val duration = context.resources.getInteger(android.R.integer.config_mediumAnimTime).toLong() \n",
    "            \n",
    "            setupAnimation(currentChild, tabScaleHigh, duration)\n",
    "        }\n",
    "\n",
    "        override fun onTabUnselected(tab: TabLayout.Tab) {\n",
    "            tab.text = \"\"\n",
    "            val currentChild = viewGroup.getChildAt(tab.position)\n",
    "            val duration = 1L\n",
    "            setupAnimation(currentChild, tabScaleLow, duration)\n",
    "        }\n",
    "\n",
    "        override fun onTabReselected(tab: TabLayout.Tab) {}\n",
    "    })\n",
    "}\n",
    "\n",
    "private fun setupAnimation(view: View, scale: Float, duration: Long){\n",
    "    view.animate()\n",
    "        .scaleX(scale)\n",
    "        .scaleY(scale)\n",
    "        .setInterpolator(FastOutSlowInInterpolator())\n",
    "        .setDuration(duration)\n",
    "        .start()\n",
    "}"
   ]
  },
  {
   "cell_type": "markdown",
   "id": "f1a5510f-4dbc-4797-ba8b-ced731100d81",
   "metadata": {},
   "source": [
    "Podsumowując, konfigurujemy `TabLayout`. `tabLayoutSetup` jest funkcją, która przyjmuje trzy parametry: `context`, `tabLayout` i `viewPager2`. Wywołuje ona dwie funkcje pomocnicze: `setupTabLayoutMediator` oraz `setupTabSelection`.\n",
    "\n",
    "`setupTabLayoutMediator` konfiguruje połączenie między `tabLayout` a `viewPager2`. W tym celu tworzona jest instancja klasy `TabLayoutMediator`. Następnie, dla każdej zakładki, ustawiany jest tekst oraz ikona, a także kolor tekstu. Ikony są pobierane z zasobów aplikacji.\n",
    "\n",
    "Funkcja `setupTabSelection` ustawia zachowanie kart w momencie, gdy zostaną wybrane, odznaczone lub wybrane ponownie. Gdy karta zostaje wybrana, ustawiana jest nowa wartość tekstu, kolor tekstu, ikony, oraz wykonuje się animacja powiększania karty. Gdy karta zostaje odznaczona, tekst karty zostaje wyczyszczony, a karta zostaje zmniejszona.\n",
    "\n",
    "Funkcja `initialTabsSetup` ustawia skalowanie kart na początku działania aplikacji. Iteruje po wszystkich dzieciach przekazanego `viewGroup` (który powinien być pierwszym dzieckiem `TabLayout` (`val viewGroup = tabLayout.getChildAt(0) as ViewGroup` w metodzie `tabLayoutSetup`), z wyjątkiem obecnie zaznaczonej zakładki, i ustawia ich skalę na wartość `tabScaleLow`.\n",
    "\n",
    "Funkcja `setupAnimation` to funkcja pomocnicza, która tworzy animację powiększenia karty. Animuje skalowanie danego widoku `View`. Wewnątrz funkcji wywoływana jest metoda `animate()`, która inicjuje animację, a następnie metodami `scaleX()` i `scaleY()` ustawia docelowe skalowanie wraz z interpolatorem animacji (`FastOutSlowInInterpolator()`) i czasem trwania. Ostatecznie, animacja jest uruchamiana przez wywołanie metody `start()`."
   ]
  },
  {
   "cell_type": "markdown",
   "id": "6915fa92-6f5d-43cc-ba07-ed3939fc5cfc",
   "metadata": {},
   "source": [
    "<img src=\"https://media2.giphy.com/media/4sMOjoEDLmVGtiC7FD/giphy.gif?cid=790b761140e3aa2701d05ed0f4d943a6f3bf656a58a60e90&rid=giphy.gif&ct=g\" width=\"150\" />"
   ]
  },
  {
   "cell_type": "markdown",
   "id": "e2e8208d-b417-4438-8231-78c6d00f396c",
   "metadata": {},
   "source": [
    "### **Dane**"
   ]
  },
  {
   "cell_type": "markdown",
   "id": "2bf320bf-5415-44a8-b85a-9edc30975ce4",
   "metadata": {},
   "source": [
    "Dodajmy dane (*dummy data*) do naszego projektu. Rozpocznijmy od modelu - posłużymy się dwiema klasami danych.\n",
    "\n",
    "Klasa `Account` zawiera pola\n",
    "- `name` - nazwa konta\n",
    "- `number` - numer rachunku\n",
    "- `amount` - zebrana kwota\n",
    "- `color` - kolor powiązany z kontem\n",
    "\n",
    "Klasa `Bills`:\n",
    "- `name` - nazwa rachunku\n",
    "- `endDate` - data spłaty\n",
    "- `amount` - kwota do spłaty\n",
    "- `color` - kolor powiązany z rachunkiem"
   ]
  },
  {
   "cell_type": "code",
   "execution_count": null,
   "id": "fa410e80-8faf-40c9-903b-df0de8a4d0ce",
   "metadata": {},
   "outputs": [],
   "source": [
    "data class Account(\n",
    "    val name: String,\n",
    "    val number: String,\n",
    "    val amount: Double,\n",
    "    val color: Int\n",
    ")"
   ]
  },
  {
   "cell_type": "code",
   "execution_count": null,
   "id": "992ba0bd-a08c-4c4f-98c6-56b063c181ad",
   "metadata": {},
   "outputs": [],
   "source": [
    "import java.time.LocalDate\n",
    "\n",
    "data class Bill (\n",
    "    val name: String,\n",
    "    val endDate: LocalDate,\n",
    "    val amount: Double,\n",
    "    val color: Int\n",
    ")"
   ]
  },
  {
   "cell_type": "markdown",
   "id": "34accd67-d1dc-4387-b67e-6a5dbd52eb44",
   "metadata": {},
   "source": [
    "Następnie dodajmy obiekt `DataProvider` udostępniający *dummy data*, które wykorzystamy w aplikacji. Każdy typ konta, oraz rachunków, będzie posiadał swój własny kolor."
   ]
  },
  {
   "cell_type": "code",
   "execution_count": null,
   "id": "4494ff54-3e8a-49f0-b266-f150941b4c00",
   "metadata": {},
   "outputs": [],
   "source": [
    "import android.graphics.Color\n",
    "import java.time.LocalDate\n",
    "\n",
    "object DataProvider {\n",
    "\n",
    "    val accounts = listOf(\n",
    "        Account(\"Home savings\", \"1111111111\", 23456.34, Color.BLUE),\n",
    "        Account(\"Car savings\", \"2222222222\", 126578.99, Color.LTGRAY),\n",
    "        Account(\"Vacation\", \"3457733323\", 9875.12, Color.MAGENTA),\n",
    "        Account(\"Emergency\", \"9488344443\", 10000.77, Color.RED),\n",
    "        Account(\"Healthcare\", \"3243554434\", 12345.00, Color.YELLOW),\n",
    "        Account(\"Shopping\", \"2947560007\", 3456.56, Color.BLACK)\n",
    "    )\n",
    "\n",
    "    val bills = listOf(\n",
    "        Bill(\"Bank Credit\", LocalDate.of(2022, 9,22), 2300.0, Color.BLACK),\n",
    "        Bill(\"Tuition\", LocalDate.of(2023, 2,10), 1200.0, Color.BLUE),\n",
    "        Bill(\"Rent\", LocalDate.of(2022, 8,3), 1023.87, Color.YELLOW),\n",
    "        Bill(\"Loan\", LocalDate.of(2022, 12,22), 334.0, Color.GRAY),\n",
    "        Bill(\"Car Repair\", LocalDate.of(2023, 1,9), 982.38, Color.WHITE),\n",
    "        Bill(\"Dress Loan\", LocalDate.of(2023, 5,18), 243.0, Color.MAGENTA)\n",
    "    )\n",
    "\n",
    "    val totalAccountsAmount = (accounts.indices).sumOf { accounts[it].amount }\n",
    "    val totalBillsAmount = (bills.indices).sumOf { bills[it].amount }\n",
    "}"
   ]
  },
  {
   "cell_type": "markdown",
   "id": "c1e75ce0-ac17-425d-84c8-b2820e7d6dff",
   "metadata": {},
   "source": [
    "W obiekcie `DataProvider` znnajdują się:\n",
    "- `accounts` - lista wszystkich kont\n",
    "- `bills` - lista wszystkich rachunków\n",
    "- `totalAccountsAmount` - całkowita kwota na wszystkich rachunkach\n",
    "- `totalBillsAmount` - całkowita kwota wszystkich rachunków"
   ]
  },
  {
   "cell_type": "markdown",
   "id": "37e6e1e5-bb9c-486a-b364-28ac93cf8c1b",
   "metadata": {},
   "source": [
    "### **AccountsFragment**"
   ]
  },
  {
   "cell_type": "markdown",
   "id": "86632c56-bcb8-4acd-abe9-9cb56525a4eb",
   "metadata": {},
   "source": [
    "Ponieważ `AccountsFragment` i `BillsFragment` będą używać tego samego layoutu, zdefiniujemy jeden plik `xml` o nazwie `fragment_detail_info`, rozpocznijmy od dodania `RecyclerView`"
   ]
  },
  {
   "cell_type": "code",
   "execution_count": null,
   "id": "b18eb516-deb7-47c9-939d-cac2ce7ad393",
   "metadata": {},
   "outputs": [],
   "source": [
    "<?xml version=\"1.0\" encoding=\"utf-8\"?>\n",
    "<androidx.constraintlayout.widget.ConstraintLayout \n",
    "xmlns:android=\"http://schemas.android.com/apk/res/android\"\n",
    "    xmlns:tools=\"http://schemas.android.com/tools\"\n",
    "    xmlns:app=\"http://schemas.android.com/apk/res-auto\"\n",
    "    android:layout_width=\"match_parent\"\n",
    "    android:layout_height=\"match_parent\"\n",
    "    android:background=\"@color/dark_blue_900\">\n",
    "    \n",
    "        <androidx.recyclerview.widget.RecyclerView\n",
    "            android:id=\"@+id/recyclerView\"\n",
    "            android:layout_width=\"match_parent\"\n",
    "            android:layout_height=\"0dp\"\n",
    "            android:layout_marginTop=\"12dp\"\n",
    "            app:layout_constraintBottom_toBottomOf=\"parent\"\n",
    "            app:layout_constraintEnd_toEndOf=\"parent\"\n",
    "            app:layout_constraintTop_toTopOf=\"parent\" />\n",
    "        \n",
    "</androidx.constraintlayout.widget.ConstraintLayout>"
   ]
  },
  {
   "cell_type": "markdown",
   "id": "266586d2-8985-466f-8de1-b1cafe199fe9",
   "metadata": {},
   "source": [
    "Utwórzmy layout elementu `RecyclerView`\n",
    "\n",
    "`recyclerview_item_view.xml`"
   ]
  },
  {
   "cell_type": "code",
   "execution_count": null,
   "id": "871d9a70-c779-4f70-9029-d89f2c3e8eac",
   "metadata": {},
   "outputs": [],
   "source": [
    "<?xml version=\"1.0\" encoding=\"utf-8\"?>\n",
    "<androidx.constraintlayout.widget.ConstraintLayout \n",
    "xmlns:android=\"http://schemas.android.com/apk/res/android\"\n",
    "    xmlns:app=\"http://schemas.android.com/apk/res-auto\"\n",
    "    android:layout_width=\"match_parent\"\n",
    "    android:layout_height=\"wrap_content\"\n",
    "    android:layout_margin=\"4dp\"\n",
    "    android:background=\"@color/dark_blue_500\">\n",
    "\n",
    "    <View\n",
    "        android:id=\"@+id/RVcolorBarView\"\n",
    "        android:layout_width=\"12px\"\n",
    "        android:layout_height=\"0dp\"\n",
    "        android:background=\"@color/white\"\n",
    "        android:layout_marginStart=\"8dp\"\n",
    "        android:layout_marginBottom=\"8dp\"\n",
    "        android:layout_marginTop=\"8dp\"\n",
    "        app:layout_constraintBottom_toBottomOf=\"parent\"\n",
    "        app:layout_constraintStart_toStartOf=\"parent\"\n",
    "        app:layout_constraintTop_toTopOf=\"parent\" />\n",
    "\n",
    "    <TextView\n",
    "        android:id=\"@+id/RVNumberTextView\"\n",
    "        android:layout_width=\"wrap_content\"\n",
    "        android:layout_height=\"wrap_content\"\n",
    "        android:layout_marginStart=\"16dp\"\n",
    "        android:fontFamily=\"serif-monospace\"\n",
    "        android:padding=\"4dp\"\n",
    "        android:text=\"******1111\"\n",
    "        android:textColor=\"@color/white\"\n",
    "        android:textSize=\"16sp\"\n",
    "        app:layout_constraintBottom_toBottomOf=\"parent\"\n",
    "        app:layout_constraintStart_toStartOf=\"@id/RVcolorBarView\"\n",
    "        app:layout_constraintTop_toBottomOf=\"@+id/RVNameTextView\" />\n",
    "\n",
    "    <TextView\n",
    "        android:id=\"@+id/RVNameTextView\"\n",
    "        android:layout_width=\"wrap_content\"\n",
    "        android:layout_height=\"wrap_content\"\n",
    "        android:layout_marginStart=\"16dp\"\n",
    "        android:layout_marginTop=\"8dp\"\n",
    "        android:fontFamily=\"sans-serif-smallcaps\"\n",
    "        android:padding=\"4dp\"\n",
    "        android:text=\"Savings\"\n",
    "        android:textColor=\"@color/white\"\n",
    "        android:textSize=\"18sp\"\n",
    "        android:textStyle=\"bold\"\n",
    "        app:layout_constraintStart_toStartOf=\"@id/RVcolorBarView\"\n",
    "        app:layout_constraintTop_toTopOf=\"parent\" />\n",
    "\n",
    "    <TextView\n",
    "        android:id=\"@+id/RVValueTextView\"\n",
    "        android:layout_width=\"wrap_content\"\n",
    "        android:layout_height=\"wrap_content\"\n",
    "        android:padding=\"16dp\"\n",
    "        android:text=\"1111111 zł\"\n",
    "        android:textColor=\"@color/white\"\n",
    "        android:textSize=\"30sp\"\n",
    "        app:layout_constraintBottom_toBottomOf=\"parent\"\n",
    "        app:layout_constraintEnd_toEndOf=\"parent\"\n",
    "        app:layout_constraintTop_toTopOf=\"parent\" />\n",
    "\n",
    "</androidx.constraintlayout.widget.ConstraintLayout>"
   ]
  },
  {
   "cell_type": "markdown",
   "id": "b358a7bc-8f2c-4390-99e3-8e69623542d8",
   "metadata": {},
   "source": [
    "Pierwszym elementem jest `View`, będzie to pasek pokazujący kolor powiązany w danym kontem."
   ]
  },
  {
   "cell_type": "markdown",
   "id": "1aba6399-0483-4f6b-b69e-1e0b1dc8d419",
   "metadata": {},
   "source": [
    "Będziemy wyświetlać kwoty, więc dodajmy odpowiednie formatowanie, do pakietu `utils` dodajmy plik `FormatterUtil`. W nim dodajmy jedno pole zawierające `NumberFormat`"
   ]
  },
  {
   "cell_type": "code",
   "execution_count": null,
   "id": "7e3dc233-4a75-42d0-93dd-310c226127bb",
   "metadata": {},
   "outputs": [],
   "source": [
    "val formatter: NumberFormat = DecimalFormat(\"#,###.##\")"
   ]
  },
  {
   "cell_type": "markdown",
   "id": "5a9720b1-df80-4532-b2a2-b51939585723",
   "metadata": {},
   "source": [
    "Następnie zaimplementujmy `AccountAdapter`"
   ]
  },
  {
   "cell_type": "code",
   "execution_count": null,
   "id": "d53a4d93-4a4a-4295-bfd6-51fc38811a2a",
   "metadata": {},
   "outputs": [],
   "source": [
    "class AccountsViewHolder (private val binding: RecyclerItemViewBinding) : RecyclerView.ViewHolder(binding.root) {\n",
    "\n",
    "    fun bind(item: Account){\n",
    "        binding.apply {\n",
    "            RVNameTextView.text = item.name\n",
    "            RVNumberTextView.text = item.number.replaceRange(0 until 6, \"******\")\n",
    "            (\"${formatter.format(item.amount)} zł\").also { RVValueTextView.text = it }\n",
    "            RVcolorBarView.setBackgroundColor(item.color)\n",
    "        }\n",
    "    }\n",
    "}"
   ]
  },
  {
   "cell_type": "code",
   "execution_count": null,
   "id": "0c9309b9-bb3d-4679-a5be-f0ead1061774",
   "metadata": {},
   "outputs": [],
   "source": [
    "class AccountsAdapter : RecyclerView.Adapter<AccountsViewHolder>(){\n",
    "\n",
    "    override fun onCreateViewHolder(parent: ViewGroup, viewType: Int): AccountsViewHolder {\n",
    "        return AccountsViewHolder(RecyclerItemViewBinding.inflate(\n",
    "            LayoutInflater.from(parent.context), parent, false\n",
    "        ))\n",
    "    }\n",
    "\n",
    "    override fun onBindViewHolder(holder: AccountsViewHolder, position: Int) {\n",
    "        val item = DataProvider.accounts[position]\n",
    "        holder.bind(item)\n",
    "    }\n",
    "\n",
    "    override fun getItemCount(): Int = DataProvider.accounts.size\n",
    "}"
   ]
  },
  {
   "cell_type": "markdown",
   "id": "3b265635-de2c-4d9a-bf47-461429cdcf42",
   "metadata": {},
   "source": [
    "Do `AccountsFragment` dodajmy `ViewPager2` w metodzie `onViewCreated`"
   ]
  },
  {
   "cell_type": "code",
   "execution_count": null,
   "id": "0dc7a05e-c275-4471-a27f-86bb0deaca6e",
   "metadata": {},
   "outputs": [],
   "source": [
    "class AccountsFragment : Fragment() {\n",
    "\n",
    "    private lateinit var binding: FragmentDetailInfoBinding\n",
    "\n",
    "    override fun onCreateView(\n",
    "        inflater: LayoutInflater, container: ViewGroup?,\n",
    "        savedInstanceState: Bundle?\n",
    "    ): View {\n",
    "        binding = FragmentDetailInfoBinding.inflate(inflater)\n",
    "\n",
    "        setupRecyclerView()\n",
    "\n",
    "        return binding.root\n",
    "    }\n",
    "\n",
    "    private fun setupRecyclerView() {\n",
    "        binding.recyclerView.apply {\n",
    "            adapter = AccountsAdapter()\n",
    "            layoutManager = LinearLayoutManager(this@AccountsFragment.requireContext())\n",
    "        }\n",
    "    }\n",
    "}"
   ]
  },
  {
   "cell_type": "markdown",
   "id": "b30e374b-594c-4071-94a2-043d9a6825f3",
   "metadata": {},
   "source": [
    "<img src=\"https://media2.giphy.com/media/grRVpWcSBxxdbt727W/giphy.gif?cid=790b76116c546b317dcc43461641e6ff4d09490235131cfa&rid=giphy.gif&ct=g\" width=\"150\" />"
   ]
  },
  {
   "cell_type": "markdown",
   "id": "306968ab-2fac-49a0-b176-e1d2b10dc18e",
   "metadata": {},
   "source": [
    "do layoutu `fragment_detail_info` dodajemy `DonutProgressView` i dwa pola `TextView`"
   ]
  },
  {
   "cell_type": "code",
   "execution_count": null,
   "id": "47823067-1980-4813-b9bc-479f42c09b6f",
   "metadata": {},
   "outputs": [],
   "source": [
    "<?xml version=\"1.0\" encoding=\"utf-8\"?>\n",
    "<androidx.constraintlayout.widget.ConstraintLayout \n",
    "xmlns:android=\"http://schemas.android.com/apk/res/android\"\n",
    "    xmlns:tools=\"http://schemas.android.com/tools\"\n",
    "    xmlns:app=\"http://schemas.android.com/apk/res-auto\"\n",
    "    android:layout_width=\"match_parent\"\n",
    "    android:layout_height=\"match_parent\"\n",
    "    android:background=\"@color/dark_blue_900\"\n",
    "    tools:context=\".fragments.AccountsFragment\">\n",
    "\n",
    "        <TextView\n",
    "            android:layout_width=\"wrap_content\"\n",
    "            android:layout_height=\"wrap_content\"\n",
    "            android:text=\"@string/total\"\n",
    "            android:textColor=\"@color/white\"\n",
    "            android:textSize=\"26sp\"\n",
    "            app:layout_constraintBottom_toTopOf=\"@+id/totalAmountTextView\"\n",
    "            app:layout_constraintEnd_toEndOf=\"parent\"\n",
    "            app:layout_constraintStart_toStartOf=\"parent\" />\n",
    "\n",
    "        <TextView\n",
    "            android:id=\"@+id/totalAmountTextView\"\n",
    "            android:layout_width=\"wrap_content\"\n",
    "            android:layout_height=\"wrap_content\"\n",
    "            android:text=\"100000 zł\"\n",
    "            android:textColor=\"@color/white\"\n",
    "            android:textSize=\"38sp\"\n",
    "            android:fontFamily=\"serif\"\n",
    "            app:layout_constraintBottom_toBottomOf=\"@+id/donut_viewAccount\"\n",
    "            app:layout_constraintEnd_toEndOf=\"parent\"\n",
    "            app:layout_constraintStart_toStartOf=\"parent\"\n",
    "            app:layout_constraintTop_toTopOf=\"parent\" />\n",
    "\n",
    "        <app.futured.donut.DonutProgressView\n",
    "            android:id=\"@+id/donut_viewAccount\"\n",
    "            android:layout_width=\"300dp\"\n",
    "            android:layout_height=\"300dp\"\n",
    "            app:donut_bgLineColor=\"@color/white\"\n",
    "            app:donut_gapAngle=\"20\"\n",
    "            app:donut_gapWidth=\"4\"\n",
    "            app:donut_animationDuration=\"1500\"\n",
    "            app:donut_strokeWidth=\"6dp\"\n",
    "            android:layout_marginTop=\"16dp\"\n",
    "            app:layout_constraintEnd_toEndOf=\"parent\"\n",
    "            app:layout_constraintStart_toStartOf=\"parent\"\n",
    "            app:layout_constraintTop_toTopOf=\"parent\" />\n",
    "\n",
    "        <androidx.recyclerview.widget.RecyclerView\n",
    "            android:id=\"@+id/recyclerView\"\n",
    "            android:layout_width=\"match_parent\"\n",
    "            android:layout_height=\"0dp\"\n",
    "            android:layout_marginTop=\"12dp\"\n",
    "            app:layout_constraintBottom_toBottomOf=\"parent\"\n",
    "            app:layout_constraintEnd_toEndOf=\"parent\"\n",
    "            app:layout_constraintTop_toBottomOf=\"@+id/donut_viewAccount\" />\n",
    "\n",
    "\n",
    "</androidx.constraintlayout.widget.ConstraintLayout>"
   ]
  },
  {
   "cell_type": "markdown",
   "id": "9e86eb48-a9f5-49e8-908c-f601c962ca9f",
   "metadata": {},
   "source": [
    "W `AccountsFragment` dodajemy obsługę `DonutProgressView` - musimy przekazać dane jako listę `DonutSection`. `DonutSection` przyjmuje trzy argumenty\n",
    "- `name` - nazwę\n",
    "- `color` - kolor\n",
    "- `amount` - wartość z przedziału 0.0 - 1.0"
   ]
  },
  {
   "cell_type": "markdown",
   "id": "0abee32a-3a13-48ba-922f-fe552f43c172",
   "metadata": {},
   "source": [
    "Do metody `OnCreateView` dodaję wywołania trzech metod konfigurujących elementy ui."
   ]
  },
  {
   "cell_type": "code",
   "execution_count": null,
   "id": "d52d75ab-a8eb-435e-9ea7-89db2ac9dde5",
   "metadata": {},
   "outputs": [],
   "source": [
    "override fun onCreateView(\n",
    "    inflater: LayoutInflater, container: ViewGroup?,\n",
    "    savedInstanceState: Bundle?\n",
    "): View {\n",
    "    binding = FragmentDetailInfoBinding.inflate(inflater)\n",
    "\n",
    "    setupRecyclerView()\n",
    "    setupDonutChart()\n",
    "    setupTextViews()\n",
    "\n",
    "    return binding.root\n",
    "}"
   ]
  },
  {
   "cell_type": "markdown",
   "id": "37cbaeeb-f1fa-400a-a611-8209a364d854",
   "metadata": {},
   "source": [
    "`setupRecyclerView` odpowiada za konfigurację `RecyclerView`"
   ]
  },
  {
   "cell_type": "code",
   "execution_count": null,
   "id": "7a00859a-43c4-46ee-9e5b-f49b11c23504",
   "metadata": {},
   "outputs": [],
   "source": [
    "private fun setupRecyclerView() {\n",
    "    binding.recyclerView.apply {\n",
    "        adapter = AccountsAdapter()\n",
    "        layoutManager = LinearLayoutManager(this@AccountsFragment.requireContext())\n",
    "    }\n",
    "}"
   ]
  },
  {
   "cell_type": "markdown",
   "id": "ca409ca6-f3f1-4edb-89c6-6cab03e0ec68",
   "metadata": {},
   "source": [
    "`setupDonutChart` odpowiada za konfigurację `DonutChart`"
   ]
  },
  {
   "cell_type": "code",
   "execution_count": null,
   "id": "10e72908-b4f8-4845-871c-09502c8a14fd",
   "metadata": {},
   "outputs": [],
   "source": [
    "private fun setupDonutChart() {\n",
    "    binding.donutViewAccount.apply {\n",
    "        val values = (0 until DataProvider.accounts.size).map {\n",
    "            DonutSection(\n",
    "                DataProvider.accounts[it].name,\n",
    "                DataProvider.accounts[it].color,\n",
    "                DataProvider.accounts[it].amount.toFloat() /\n",
    "                        DataProvider.totalAccountsAmount.toFloat()\n",
    "            )\n",
    "        }\n",
    "        submitData(values)\n",
    "    }\n",
    "}"
   ]
  },
  {
   "cell_type": "markdown",
   "id": "8a5724c7-4211-4af8-bbc9-a0db1b40ea8f",
   "metadata": {},
   "source": [
    "W widoku `binding.donutViewAccount` definiowane są wartości, które mają być przedstawione na wykresie. Na podstawie tych wartości tworzone są sekcje (klasa `DonutSection`), które zostaną wyświetlone na wykresie. Każda sekcja zawiera nazwę, kolor oraz wartość procentową związaną z kontem z listy `DataProvider.accounts`. W końcu, po utworzeniu sekcji, są one przekazywane do wykresu za pomocą funkcji `submitData(values)`, która rysuje wykres na podstawie dostarczonych danych."
   ]
  },
  {
   "cell_type": "markdown",
   "id": "76a63970-bdee-4f3a-9e94-ba24aa44eb9b",
   "metadata": {},
   "source": [
    "`setupTextViews` - ustawia tekst pola `TextView`"
   ]
  },
  {
   "cell_type": "code",
   "execution_count": null,
   "id": "20b54842-3b25-4432-ae8e-093a95db3f97",
   "metadata": {},
   "outputs": [],
   "source": [
    "private fun setupTextViews() {\n",
    "    binding.totalAmountTextView.text =\n",
    "        \"${formatter.format(DataProvider.totalAccountsAmount)} zł\"\n",
    "}"
   ]
  },
  {
   "cell_type": "markdown",
   "id": "046e6255-9793-4b86-8b71-62224e47ad46",
   "metadata": {},
   "source": [
    "W efekcie otrzymamy"
   ]
  },
  {
   "cell_type": "markdown",
   "id": "285d686f-55ee-44d8-8195-1da65fd77b43",
   "metadata": {},
   "source": [
    "<img src=\"https://media3.giphy.com/media/V6olKtypWuObTJXxmz/giphy.gif?cid=790b761116be30abedbc5c9f9c7a309c74243ac9e1060564&rid=giphy.gif&ct=g\" width=\"150\" />"
   ]
  },
  {
   "cell_type": "markdown",
   "id": "079153be-ec76-453e-a1d5-615a8d48929f",
   "metadata": {},
   "source": [
    "### **BillsFragment**"
   ]
  },
  {
   "cell_type": "markdown",
   "id": "93c42140-7cf4-48dc-9f0c-e039804178e9",
   "metadata": {},
   "source": [
    "Do `FormatterUtil` dodajmy `DateTimeFormatter` pozwalający sformatować datę"
   ]
  },
  {
   "cell_type": "code",
   "execution_count": null,
   "id": "ae923ef6-0721-4a1c-94ef-451233377a80",
   "metadata": {},
   "outputs": [],
   "source": [
    "val dateFormatter: DateTimeFormatter = DateTimeFormatter.ofPattern(\"yyyy MMM dd\")"
   ]
  },
  {
   "cell_type": "markdown",
   "id": "b52bbd2b-8976-4b5a-94d0-5a3236319fd3",
   "metadata": {},
   "source": [
    "Przejdźmy do `BillAdapter`"
   ]
  },
  {
   "cell_type": "code",
   "execution_count": null,
   "id": "384de9b9-da42-4d55-9c72-889286503fc5",
   "metadata": {},
   "outputs": [],
   "source": [
    "class BillsViewHolder (private val binding: RecyclerItemViewBinding) : RecyclerView.ViewHolder(binding.root) {\n",
    "\n",
    "    fun bind(item: Bill){\n",
    "        binding.apply {\n",
    "            RVNameTextView.text = item.name\n",
    "            RVNumberTextView.text = item.endDate.format(dateFormatter)\n",
    "            RVValueTextView.text = \"${formatter.format(item.amount)}zł\"\n",
    "            RVcolorBarView.setBackgroundColor(item.color)\n",
    "        }\n",
    "    }\n",
    "}"
   ]
  },
  {
   "cell_type": "code",
   "execution_count": null,
   "id": "09c82ed2-9b9f-4158-ae3a-7b3508172459",
   "metadata": {},
   "outputs": [],
   "source": [
    "class BillAdapter : RecyclerView.Adapter<BillsViewHolder>(){\n",
    "\n",
    "    override fun onCreateViewHolder(parent: ViewGroup, viewType: Int): BillsViewHolder {\n",
    "        return BillsViewHolder(RecyclerItemViewBinding.inflate(\n",
    "            LayoutInflater.from(parent.context), parent, false\n",
    "        ))\n",
    "    }\n",
    "\n",
    "    override fun onBindViewHolder(holder: BillsViewHolder, position: Int) {\n",
    "        val item = DataProvider.bills[position]\n",
    "        holder.bind(item)\n",
    "    }\n",
    "\n",
    "    override fun getItemCount(): Int = DataProvider.bills.size\n",
    "}"
   ]
  },
  {
   "cell_type": "markdown",
   "id": "30007012-8287-416d-b9e2-63c7b6609c0f",
   "metadata": {},
   "source": [
    "Korzystamy w tego samego layoutu co przy implementacji `AccountsFragment`"
   ]
  },
  {
   "cell_type": "code",
   "execution_count": null,
   "id": "3903fa3c-e19b-4181-8281-0f69e5681940",
   "metadata": {},
   "outputs": [],
   "source": [
    "class BillsFragment : Fragment() {\n",
    "\n",
    "    private lateinit var binding: FragmentDetailInfoBinding\n",
    "\n",
    "    override fun onCreateView(\n",
    "        inflater: LayoutInflater, container: ViewGroup?,\n",
    "        savedInstanceState: Bundle?\n",
    "    ): View {\n",
    "        binding = FragmentDetailInfoBinding.inflate(layoutInflater)\n",
    "\n",
    "        setupRecyclerView()\n",
    "        setupDonutChart()\n",
    "        setupTextViews()\n",
    "\n",
    "        return binding.root\n",
    "    }\n",
    "\n",
    "    private fun setupTextViews() {\n",
    "        binding.totalAmountTextView.text =\n",
    "            \"${formatter.format(DataProvider.totalBillsAmount)} zł\"\n",
    "    }\n",
    "\n",
    "    private fun setupDonutChart() {\n",
    "        binding.donutViewAccount.apply {\n",
    "            val values = (0 until DataProvider.bills.size).map {\n",
    "                DonutSection(\n",
    "                    DataProvider.bills[it].name,\n",
    "                    DataProvider.bills[it].color,\n",
    "                    DataProvider.bills[it].amount.toFloat() /\n",
    "                            DataProvider.totalBillsAmount.toFloat()\n",
    "                )\n",
    "            }\n",
    "            submitData(values)\n",
    "        }\n",
    "    }\n",
    "\n",
    "    private fun setupRecyclerView() {\n",
    "        binding.recyclerView.apply {\n",
    "            adapter = BillAdapter()\n",
    "            layoutManager = LinearLayoutManager(this@BillsFragment.requireContext())\n",
    "        }\n",
    "    }\n",
    "}"
   ]
  },
  {
   "cell_type": "markdown",
   "id": "9a113ce6-1abf-40bd-93c3-df62019f31ce",
   "metadata": {},
   "source": [
    "### **OverviewFragment**"
   ]
  },
  {
   "cell_type": "markdown",
   "id": "cd73deb3-5cb1-45cb-ab6f-ccd064fe7470",
   "metadata": {},
   "source": [
    "Layout `OverviewFragment` będzie się opierał na `CardView`."
   ]
  },
  {
   "cell_type": "markdown",
   "id": "9ef3d469-81e2-4869-a329-41e357ef831c",
   "metadata": {},
   "source": [
    "Sam layout nie zawiera żadnych nowych elementów"
   ]
  },
  {
   "cell_type": "code",
   "execution_count": null,
   "id": "9f6e44bc-edec-4167-b28a-67b1060da861",
   "metadata": {},
   "outputs": [],
   "source": [
    "<?xml version=\"1.0\" encoding=\"utf-8\"?>\n",
    "<LinearLayout xmlns:android=\"http://schemas.android.com/apk/res/android\"\n",
    "    xmlns:app=\"http://schemas.android.com/apk/res-auto\"\n",
    "    xmlns:tools=\"http://schemas.android.com/tools\"\n",
    "    android:layout_width=\"match_parent\"\n",
    "    android:layout_height=\"match_parent\"\n",
    "    android:background=\"@color/dark_blue_900\"\n",
    "    android:orientation=\"vertical\"\n",
    "    tools:context=\".fragments.OverviewFragment\">\n",
    "\n",
    "     <!-- Alert section -->\n",
    "    \n",
    "    <androidx.cardview.widget.CardView\n",
    "        android:id=\"@+id/alertCardView\"\n",
    "        android:layout_width=\"match_parent\"\n",
    "        android:layout_height=\"wrap_content\"\n",
    "        android:layout_marginTop=\"16dp\"\n",
    "        android:layout_marginStart=\"16dp\"\n",
    "        android:layout_marginEnd=\"16dp\"\n",
    "        app:cardCornerRadius=\"12dp\"\n",
    "        app:cardElevation=\"15dp\">\n",
    "\n",
    "        <LinearLayout\n",
    "            android:layout_width=\"match_parent\"\n",
    "            android:layout_height=\"match_parent\"\n",
    "            android:background=\"@color/dark_blue_500\"\n",
    "            android:orientation=\"vertical\">\n",
    "\n",
    "            <TextView\n",
    "                android:layout_width=\"match_parent\"\n",
    "                android:layout_height=\"wrap_content\"\n",
    "                android:layout_marginStart=\"16dp\"\n",
    "                android:text=\"@string/alerts\"\n",
    "                android:textColor=\"@color/white\"\n",
    "                android:textSize=\"12sp\" />\n",
    "\n",
    "            <LinearLayout\n",
    "                android:layout_width=\"match_parent\"\n",
    "                android:layout_height=\"wrap_content\"\n",
    "                android:orientation=\"horizontal\">\n",
    "\n",
    "                <TextView\n",
    "                    android:layout_width=\"0dp\"\n",
    "                    android:layout_weight=\"1\"\n",
    "                    android:layout_height=\"wrap_content\"\n",
    "                    android:layout_marginStart=\"16dp\"\n",
    "                    android:text=\"@string/no_alerts\"\n",
    "                    android:textColor=\"@color/white\"\n",
    "                    android:textSize=\"24sp\" />\n",
    "\n",
    "                <Button\n",
    "                    android:id=\"@+id/seeMoreButton\"\n",
    "                    android:layout_width=\"wrap_content\"\n",
    "                    android:layout_height=\"wrap_content\"\n",
    "                    android:backgroundTint=\"@android:color/holo_red_light\"\n",
    "                    android:textColor=\"@color/design_default_color_on_secondary\"\n",
    "                    android:layout_marginEnd=\"8dp\"\n",
    "                    android:text=\"@string/see_more\" />\n",
    "            </LinearLayout>\n",
    "        </LinearLayout>\n",
    "    </androidx.cardview.widget.CardView>\n",
    "\n",
    "    <!-- AccountsSection -->\n",
    "    \n",
    "    <androidx.cardview.widget.CardView\n",
    "        android:id=\"@+id/accouuntCardView\"\n",
    "        android:layout_width=\"match_parent\"\n",
    "        android:layout_height=\"0dp\"\n",
    "        android:layout_weight=\"1\"\n",
    "        android:layout_marginTop=\"8dp\"\n",
    "        android:layout_marginStart=\"16dp\"\n",
    "        android:layout_marginEnd=\"16dp\"\n",
    "        app:cardCornerRadius=\"12dp\"\n",
    "        app:cardElevation=\"15dp\">\n",
    "\n",
    "        <LinearLayout\n",
    "            android:layout_width=\"match_parent\"\n",
    "            android:layout_height=\"match_parent\"\n",
    "            android:background=\"@color/dark_blue_500\"\n",
    "            android:orientation=\"vertical\"\n",
    "            tools:context=\".fragments.OverviewFragment\">\n",
    "\n",
    "\n",
    "            <TextView\n",
    "                android:id=\"@+id/accountNameTextView\"\n",
    "                android:layout_width=\"match_parent\"\n",
    "                android:layout_height=\"wrap_content\"\n",
    "                android:layout_marginStart=\"16dp\"\n",
    "                android:layout_marginTop=\"8dp\"\n",
    "                android:text=\"@string/accounts\"\n",
    "                android:textColor=\"@color/white\"\n",
    "                android:textSize=\"12sp\"\n",
    "                app:layout_constraintEnd_toEndOf=\"parent\"\n",
    "                app:layout_constraintStart_toStartOf=\"parent\"\n",
    "                app:layout_constraintTop_toTopOf=\"parent\" />\n",
    "\n",
    "            <TextView\n",
    "                android:id=\"@+id/accountTotalAmountTextView\"\n",
    "                android:layout_width=\"match_parent\"\n",
    "                android:layout_height=\"wrap_content\"\n",
    "                android:layout_marginTop=\"4dp\"\n",
    "                android:gravity=\"center\"\n",
    "                android:text=\"11111111 zł\"\n",
    "                android:textColor=\"@color/white\"\n",
    "                android:textSize=\"36sp\"\n",
    "                app:layout_constraintEnd_toEndOf=\"parent\"\n",
    "                app:layout_constraintTop_toBottomOf=\"@+id/accountNameTextView\" />\n",
    "\n",
    "            <androidx.recyclerview.widget.RecyclerView\n",
    "                android:id=\"@+id/accountsRecyclerView\"\n",
    "                android:layout_width=\"match_parent\"\n",
    "                android:layout_height=\"0dp\"\n",
    "                android:layout_weight=\"1\"\n",
    "                android:layout_marginStart=\"16dp\"\n",
    "                android:layout_marginEnd=\"16dp\"\n",
    "                app:layout_constraintEnd_toEndOf=\"parent\"\n",
    "                app:layout_constraintStart_toStartOf=\"parent\"\n",
    "                app:layout_constraintTop_toBottomOf=\"@+id/accountTotalAmountTextView\" />\n",
    "\n",
    "            <Button\n",
    "                android:id=\"@+id/accountsButton\"\n",
    "                android:layout_width=\"match_parent\"\n",
    "                android:layout_height=\"wrap_content\"\n",
    "                android:layout_marginStart=\"16dp\"\n",
    "                android:layout_marginEnd=\"16dp\"\n",
    "                android:text=\"@string/go_to_accounts\"\n",
    "                app:layout_constraintEnd_toEndOf=\"parent\"\n",
    "                app:layout_constraintStart_toStartOf=\"parent\"\n",
    "                app:layout_constraintTop_toBottomOf=\"@+id/accountsRecyclerView\"\n",
    "                android:backgroundTint=\"@android:color/holo_red_light\"\n",
    "                android:textColor=\"@color/design_default_color_on_secondary\"/>\n",
    "        </LinearLayout>\n",
    "\n",
    "\n",
    "    </androidx.cardview.widget.CardView>\n",
    "\n",
    "    <androidx.cardview.widget.CardView <!-- Bills Section -->\n",
    "        android:id=\"@+id/billsCardView\"\n",
    "        android:layout_width=\"match_parent\"\n",
    "        android:layout_height=\"0dp\"\n",
    "        android:layout_weight=\"1\"\n",
    "        android:layout_marginStart=\"16dp\"\n",
    "        android:layout_marginTop=\"8dp\"\n",
    "        android:layout_marginEnd=\"16dp\"\n",
    "        app:cardCornerRadius=\"12dp\"\n",
    "        app:cardElevation=\"15dp\">\n",
    "\n",
    "        <LinearLayout\n",
    "            android:layout_width=\"match_parent\"\n",
    "            android:layout_height=\"match_parent\"\n",
    "            android:background=\"@color/dark_blue_500\"\n",
    "            android:orientation=\"vertical\"\n",
    "            tools:context=\".fragments.OverviewFragment\">\n",
    "\n",
    "\n",
    "            <TextView\n",
    "                android:id=\"@+id/billsNameTextView\"\n",
    "                android:layout_width=\"match_parent\"\n",
    "                android:layout_height=\"wrap_content\"\n",
    "                android:layout_marginStart=\"16dp\"\n",
    "                android:layout_marginTop=\"8dp\"\n",
    "                android:text=\"@string/bills\"\n",
    "                android:textColor=\"@color/white\"\n",
    "                android:textSize=\"12sp\"\n",
    "                app:layout_constraintEnd_toEndOf=\"parent\"\n",
    "                app:layout_constraintStart_toStartOf=\"parent\"\n",
    "                app:layout_constraintTop_toTopOf=\"parent\" />\n",
    "\n",
    "            <TextView\n",
    "                android:id=\"@+id/billsTotalAmountTextView\"\n",
    "                android:layout_width=\"match_parent\"\n",
    "                android:layout_height=\"wrap_content\"\n",
    "                android:layout_marginStart=\"16dp\"\n",
    "                android:layout_marginTop=\"4dp\"\n",
    "                android:gravity=\"center\"\n",
    "                android:text=\"- 21999.99 zł\"\n",
    "                android:textColor=\"@color/white\"\n",
    "                android:textSize=\"36sp\"\n",
    "                app:layout_constraintEnd_toEndOf=\"parent\"\n",
    "                app:layout_constraintStart_toStartOf=\"parent\"\n",
    "                app:layout_constraintTop_toTopOf=\"@id/billsNameTextView\" />\n",
    "\n",
    "            <androidx.recyclerview.widget.RecyclerView\n",
    "                android:id=\"@+id/billsRecyclerView\"\n",
    "                android:layout_width=\"match_parent\"\n",
    "                android:layout_height=\"0dp\"\n",
    "                android:layout_weight=\"1\"\n",
    "                android:layout_marginStart=\"16dp\"\n",
    "                android:layout_marginEnd=\"16dp\"\n",
    "                app:layout_constraintEnd_toEndOf=\"parent\"\n",
    "                app:layout_constraintStart_toStartOf=\"parent\"\n",
    "                app:layout_constraintTop_toBottomOf=\"@+id/billsTotalAmountTextView\" />\n",
    "\n",
    "            <Button\n",
    "                android:id=\"@+id/billsButton\"\n",
    "                android:layout_width=\"match_parent\"\n",
    "                android:layout_height=\"wrap_content\"\n",
    "                android:layout_marginStart=\"16dp\"\n",
    "                android:layout_marginEnd=\"16dp\"\n",
    "                android:text=\"@string/go_to_bills\"\n",
    "                app:layout_constraintEnd_toEndOf=\"parent\"\n",
    "                app:layout_constraintStart_toStartOf=\"parent\"\n",
    "                app:layout_constraintTop_toBottomOf=\"@+id/billsRecyclerView\"\n",
    "                android:backgroundTint=\"@android:color/holo_red_light\"\n",
    "                android:textColor=\"@color/design_default_color_on_secondary\"/>\n",
    "        </LinearLayout>\n",
    "    </androidx.cardview.widget.CardView>\n",
    "\n",
    "\n",
    "</LinearLayout>"
   ]
  },
  {
   "cell_type": "markdown",
   "id": "70af9fe1-6389-40b6-9371-b059c784d4af",
   "metadata": {},
   "source": [
    "Do metody `onCreateView` dodajmy obsługę wszystkich elementów. Ponieważ nasz layout jest podzielony na trzy sekcje, dodajmy trzy funkcje pomocnicze."
   ]
  },
  {
   "cell_type": "code",
   "execution_count": null,
   "id": "6da1222b-23fc-4923-bd7f-3a0ad9cc1884",
   "metadata": {},
   "outputs": [],
   "source": [
    "class OverviewFragment : Fragment() {\n",
    "\n",
    "    private lateinit var binding: FragmentOverviewBinding\n",
    "\n",
    "    override fun onCreateView(\n",
    "        inflater: LayoutInflater, container: ViewGroup?,\n",
    "        savedInstanceState: Bundle?\n",
    "    ): View {\n",
    "        binding = FragmentOverviewBinding.inflate(layoutInflater)\n",
    "\n",
    "        setupAlertSection()\n",
    "        setupAccountsSection()\n",
    "        setupBillsSection()\n",
    "\n",
    "        return binding.root\n",
    "    }\n",
    "\n",
    "    private fun setupBillsSection() {\n",
    "        TODO(\"Not yet implemented\")\n",
    "    }\n",
    "\n",
    "    private fun setupAccountsSection() {\n",
    "        TODO(\"Not yet implemented\")\n",
    "    }\n",
    "\n",
    "    private fun setupAlertSection() {\n",
    "        TODO(\"Not yet implemented\")\n",
    "    }\n",
    "}"
   ]
  },
  {
   "cell_type": "markdown",
   "id": "3e9ed2eb-fc60-4259-8f0c-a6919ebab3d0",
   "metadata": {},
   "source": [
    "Rozpocznijmy od implementacji metody `setupAccountsSection`"
   ]
  },
  {
   "cell_type": "code",
   "execution_count": null,
   "id": "41cb75e7-0f9a-43db-9c72-1b8f18b5678b",
   "metadata": {},
   "outputs": [],
   "source": [
    "    private fun setupAccountsSection() {\n",
    "        binding.apply {\n",
    "            accountsRecyclerView.apply {\n",
    "                adapter = AccountsAdapter()\n",
    "                layoutManager = LinearLayoutManager(this.context)\n",
    "            }\n",
    "\n",
    "            accountsButton.setOnClickListener {\n",
    "                requireActivity().findViewById<ViewPager2>(R.id.viewPager)?.currentItem = 1\n",
    "            }\n",
    "\n",
    "            accountTotalAmountTextView.text = \"${formatter.format(DataProvider.totalAccountsAmount)} zł\"\n",
    "        }\n",
    "    }"
   ]
  },
  {
   "cell_type": "markdown",
   "id": "f895c75e-d4bf-44aa-a55b-0de1b7eb5e49",
   "metadata": {},
   "source": [
    "Kolejno dodajmy obsługę dwóch przycisków - w tym przykładzie dodamy przejście na konkretną pozycję w `ViewPager2` - znajduje się on w głównej aktywności, więc z poziomu fragmentu nie mamy do niego dostępu. Możemy zastosować wykorzystując metod `requireActivity` oraz `findViewById`.\n",
    "\n",
    "Alternatywnie możemy zapisać"
   ]
  },
  {
   "cell_type": "code",
   "execution_count": null,
   "id": "4a8b624b-e720-4a8f-95f8-6922b4aa4b9e",
   "metadata": {},
   "outputs": [],
   "source": [
    "val hostingActivity = requireActivity() as MainActivity // musimy wykonać rzutowanie\n",
    "hostingActivity.binding.viewpager.currentItem = 1"
   ]
  },
  {
   "cell_type": "markdown",
   "id": "ebdc68cd-fe1e-4ce7-884c-3da36fb465a6",
   "metadata": {},
   "source": [
    "Wtedy musimy zminić `binding` w `MainActivity` na `public`, oraz wykonać rzutowanie (`requireActivity` zwraca `FragmentActivity`, który nie posiada dostępu do właściwości `binding`). Chcąc pozbyć się zależności (trzymania twardej referencji do instancji `MainActivity` w instancji `OverviewFragment`) wykorzystuję uuuniwersalną metodę `findViewById` z klasy `FragemntActivity` - każda klasa dziedzicząca posiada tą metodę, więc nie muszę wykonywać rzutowania ani przechowywać referencji do instancji `MainActivity` w klasie `OverviewFragment`."
   ]
  },
  {
   "cell_type": "markdown",
   "id": "d17d6047-1f04-464b-a75b-2fd7989e15f3",
   "metadata": {},
   "source": [
    "Następnie zaimplementujmy funkcję `setupBillsSection`, która będzie podobna do funkcji konfigurującej sekcję `accounts`"
   ]
  },
  {
   "cell_type": "code",
   "execution_count": null,
   "id": "fd035c7a-9caf-481c-91ac-7c1983f78643",
   "metadata": {},
   "outputs": [],
   "source": [
    "private fun setupBillsSection() {\n",
    "    binding.apply {\n",
    "        billsRecyclerView.apply {\n",
    "            adapter = BillsAdapter()\n",
    "            layoutManager = LinearLayoutManager(this.context)\n",
    "        }\n",
    "\n",
    "        billsButton.setOnClickListener {\n",
    "            requireActivity().findViewById<ViewPager2>(R.id.viewPager)?.currentItem = 2\n",
    "        }\n",
    "\n",
    "        billsTotalAmountTextView.text = \"${formatter.format(DataProvider.totalBillsAmount)} zł\"\n",
    "    }\n",
    "}"
   ]
  },
  {
   "cell_type": "markdown",
   "id": "1ee4226a-7d16-4a83-b646-e8a0f1ff1ba7",
   "metadata": {},
   "source": [
    "Ostatnim elementem będzie obsługa przycisku `SEE MORE` - tutaj wyświetlimy customowy `AlertDialog`. W pierwszsym kroku zdefiniujemy styl w pliku `themes.xml`"
   ]
  },
  {
   "cell_type": "code",
   "execution_count": null,
   "id": "93e7915b-9916-4591-8404-29055c6c6d7d",
   "metadata": {},
   "outputs": [],
   "source": [
    "<style name=\"MyDialogTheme\" parent=\"Theme.AppCompat.Light.Dialog.Alert\">\n",
    "    <item name=\"android:background\">@color/dark_blue_900</item>\n",
    "    <item name=\"android:textColor\">@color/white</item>\n",
    "</style>"
   ]
  },
  {
   "cell_type": "markdown",
   "id": "12c24833-922e-43b9-b801-83921e4ae314",
   "metadata": {},
   "source": [
    "Następnie utwórzmy layout\n",
    "\n",
    "`alert_dialog.xml`"
   ]
  },
  {
   "cell_type": "code",
   "execution_count": null,
   "id": "96bd8446-1453-42b7-897a-8064d2dfc26e",
   "metadata": {},
   "outputs": [],
   "source": [
    "<?xml version=\"1.0\" encoding=\"utf-8\"?>\n",
    "<LinearLayout\n",
    "    xmlns:android=\"http://schemas.android.com/apk/res/android\"\n",
    "    android:orientation=\"vertical\"\n",
    "    android:paddingLeft=\"20dp\"\n",
    "    android:paddingRight=\"20dp\"\n",
    "    android:layout_width=\"match_parent\"\n",
    "    android:background=\"@color/dark_blue_900\"\n",
    "    android:layout_height=\"match_parent\">\n",
    "\n",
    "    <TextView\n",
    "        android:id=\"@+id/alertTextView\"\n",
    "        android:layout_width=\"match_parent\"\n",
    "        android:layout_height=\"wrap_content\"\n",
    "        android:textSize=\"24sp\"\n",
    "        android:textColor=\"@color/white\"\n",
    "        android:gravity=\"center\"\n",
    "        android:text=\"@string/no_alerts\"/>\n",
    "</LinearLayout>"
   ]
  },
  {
   "cell_type": "markdown",
   "id": "6c6dc5e0-5ec1-4ec7-bd43-63499d4cc1a4",
   "metadata": {},
   "source": [
    "Na koniec przechodzimy do implementacji metody `setupAlertSection`"
   ]
  },
  {
   "cell_type": "code",
   "execution_count": null,
   "id": "70c0b244-47d4-4d75-96d5-914bd625fb1b",
   "metadata": {},
   "outputs": [],
   "source": [
    "private fun setupAlertSection() {\n",
    "    binding.seeMoreButton.setOnClickListener {\n",
    "            AlertDialog.Builder(context, R.style.MyDialogTheme)\n",
    "                .setTitle(getString(R.string.alerts)) // tytuł\n",
    "                .setView(layoutInflater.inflate(R.layout.alert_dialog, null)) // layout\n",
    "                .setPositiveButton(\"OK\") { _, _ -> } // domyślna implementacja przycisku wyłączającego Dialog\n",
    "                .create() // utworzenie obiektu AlertDialog\n",
    "                .show() // wyświetlenie AlertDialog\n",
    "    }\n",
    "}"
   ]
  },
  {
   "cell_type": "markdown",
   "id": "02007306-8312-40c9-88c8-e40a7d2c12a4",
   "metadata": {},
   "source": [
    "Możemy przetestować aplikację."
   ]
  },
  {
   "cell_type": "markdown",
   "id": "55762596-0916-493c-9b58-f62474b0fbbf",
   "metadata": {},
   "source": [
    "<table><tr><td><img src=\"https://media1.giphy.com/media/49RzyXBmRBa59Wi47n/giphy.gif?cid=790b76111b9b9991bd4197bf8d7295e517603d04f8ba2992&rid=giphy.gif&ct=g\" width=\"150\" /></td><td><img src=\"https://media1.giphy.com/media/zbqykvBYncTRQLCAja/giphy.gif?cid=790b7611d47e3d6d46e7b736ac29fe3cc9bc281aed07c1c0&rid=giphy.gif&ct=g\" width=\"150\" /></td><td><img src=\"https://media3.giphy.com/media/BbcDIUyV6IodX2yGVx/giphy.gif?cid=790b7611d1bf2abf7deacc8ad5a71a6a13adfbc9f4344954&rid=giphy.gif&ct=g\" width=\"150\" /></td></tr></table>"
   ]
  }
 ],
 "metadata": {
  "kernelspec": {
   "display_name": "Kotlin",
   "language": "kotlin",
   "name": "kotlin"
  },
  "language_info": {
   "codemirror_mode": "text/x-kotlin",
   "file_extension": ".kt",
   "mimetype": "text/x-kotlin",
   "name": "kotlin",
   "nbconvert_exporter": "",
   "pygments_lexer": "kotlin",
   "version": "1.8.0-RC"
  }
 },
 "nbformat": 4,
 "nbformat_minor": 5
}
