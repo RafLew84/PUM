{
 "cells": [
  {
   "cell_type": "markdown",
   "id": "f0c642d3-9415-4fb1-a82c-06241c9ea04b",
   "metadata": {},
   "source": [
    "# WFiApp"
   ]
  },
  {
   "cell_type": "markdown",
   "id": "03f9217b-f6be-430a-85a9-61518fdc3677",
   "metadata": {},
   "source": [
    "Aplikacja będzie wykorzystywać `RecyclerView`, gdzie każdym elementem na liście będzie `CardView`. Dodamy również podstawową obsługę gestów oraz wykorzystamy `Intent` aby otworzyć nową aktywność w której zaprezentowany będzie bardziej szczegółowy opis wybranego elementu listy."
   ]
  },
  {
   "cell_type": "markdown",
   "id": "019701ec-06ca-4288-b80d-7d4b5fe61c3f",
   "metadata": {},
   "source": [
    "<table><tr><td><img src=\"https://media2.giphy.com/media/gooBI30gtU5fMkmCZu/giphy.gif?cid=790b7611df027999cb2a17ec28a3095ad5693e6e76c37990&rid=giphy.gif&ct=g\" width=\"200\" /></td><td><img src=\"https://media2.giphy.com/media/h5Xh7V5IA5E3BV4ytL/giphy.gif?cid=790b7611412fedb227b91c2cb44067aa88f517a18214afde&rid=giphy.gif&ct=g\" width=\"150\" /></td><td><img src=\"https://media2.giphy.com/media/uwDAUUAjLZnyKqLg3J/giphy.gif?cid=790b76110bdb83e20fb638b9fb5150422cf100e384687bcf&rid=giphy.gif&ct=g\" width=\"150\" /></td></tr></table>"
   ]
  },
  {
   "cell_type": "markdown",
   "id": "ab81682c-d8a9-45e0-a09a-435281e96243",
   "metadata": {},
   "source": [
    "W pierwszym kroku skonfigurujmy zależności `gradle`"
   ]
  },
  {
   "cell_type": "code",
   "execution_count": null,
   "id": "1ab6e970-7911-478e-88bc-b36b180f1db8",
   "metadata": {},
   "outputs": [],
   "source": [
    "android {\n",
    "    ...\n",
    "    buildFeatures {\n",
    "        viewBinding = true\n",
    "    }\n",
    "}"
   ]
  },
  {
   "cell_type": "code",
   "execution_count": null,
   "id": "a71a1e4c-9d92-4b9e-9663-9d70920e8a16",
   "metadata": {},
   "outputs": [],
   "source": [
    "implementation 'androidx.cardview:cardview:1.0.0'"
   ]
  },
  {
   "cell_type": "markdown",
   "id": "5a853700-b132-4b89-9853-1d8fe94ab236",
   "metadata": {},
   "source": [
    "`CardView` jest implementacją wzorca **Material Design**, który pozwala na tworzenie kart o określonym kształcie i stylu, które prezentują informacje w sposób łatwy do odczytania i przyjazny dla użytkownika. Jest to kontener, który może zawierać różne elementy, takie jak tekst, obrazy, przyciski, itp. Automatycznie przypisuje cień i tło do elementów znajdujących się w nim, co nadaje im wizualny efekt \"wysunięcia\" z tła.\n",
    "\n",
    "Jest często używany w połączeniu z `RecyclerView`, aby tworzyć listy elementów w interfejsie użytkownika."
   ]
  },
  {
   "cell_type": "markdown",
   "id": "55eb49c8-92d0-4af7-9bc1-e44203bce913",
   "metadata": {},
   "source": [
    "Będziemy tworzyć aplikacje w standardzie *master-detail*\n",
    "- *master* - widok listy `RecyclerView`, zawierający tylko podstawowe informacje o elementach\n",
    "- *detail* - widok szczegółowy elementu, zawierający pełne informacje o klikniętym elemencie\n",
    "\n",
    "Po wybraniu elementu na fragmencie z listą (*master*), użytkownik zostanie przeniesiony do drugiego fragmentu (*detail*) - przekażemy pomiędzy fragmentami wszystkie dane dotyczące wybranego elementu. W tym celu wykorzystamy interfejs `Parcelable`"
   ]
  },
  {
   "cell_type": "markdown",
   "id": "f1ce8cc0-845f-4a92-83d7-0af2706e5997",
   "metadata": {},
   "source": [
    "W projekcie wykorzystamy również grafiki (zdjęcia instytrutów), kktóre umieścimy w kontenerach `ImageView` za pomocą biblioteki `Glide`"
   ]
  },
  {
   "cell_type": "code",
   "execution_count": null,
   "id": "e587b336-0120-49ec-89b4-0fb165dff038",
   "metadata": {},
   "outputs": [],
   "source": [
    "implementation 'com.github.bumptech.glide:glide:4.13.0'\n",
    "annotationProcessor 'com.github.bumptech.glide:compiler:4.13.0'"
   ]
  },
  {
   "cell_type": "markdown",
   "id": "41843edd-1d8a-49fe-969a-2058eddb11f8",
   "metadata": {},
   "source": [
    "Biblioteka `Glide` to popularna biblioteka do ładowania obrazów. Umożliwia łatwe i wydajne pobieranie obrazów z różnych źródeł (np. z internetu, pamięci podręcznej, zasobów aplikacji) i ich wyświetlanie w `ImageView`. Obsługuje wiele formatów obrazów, w tym `JPEG`, `PNG` i `GIF`, a także pozwala na skalowanie, przycinanie, obracanie i aplikowanie filtrów do obrazów."
   ]
  },
  {
   "cell_type": "markdown",
   "id": "b274f84a-7cc7-4f9f-96a0-12e42f989031",
   "metadata": {},
   "source": [
    "Dodajmy również `Jetpack Navigation`"
   ]
  },
  {
   "cell_type": "code",
   "execution_count": null,
   "id": "f71c87e9-0ddc-4954-99f7-cda29e0ba7bd",
   "metadata": {},
   "outputs": [],
   "source": [
    "def nav_version = \"2.5.3\"\n",
    "implementation \"androidx.navigation:navigation-fragment:$nav_version\"\n",
    "implementation \"androidx.navigation:navigation-ui:$nav_version\""
   ]
  },
  {
   "cell_type": "markdown",
   "id": "254811bb-c41b-487a-8c4e-806fc50ac127",
   "metadata": {},
   "source": [
    "Oraz plugin"
   ]
  },
  {
   "cell_type": "code",
   "execution_count": null,
   "id": "02dce031-4c85-4dd7-a53f-1df1a812109d",
   "metadata": {},
   "outputs": [],
   "source": [
    "plugins {\n",
    "    id 'com.android.application'\n",
    "    id 'androidx.navigation.safeargs'\n",
    "}"
   ]
  },
  {
   "cell_type": "markdown",
   "id": "d2b4b8e7-2b34-4592-bb7a-68fc13f8eda5",
   "metadata": {},
   "source": [
    "Następnie w pliku `build.gradle (Project)` dodajemy"
   ]
  },
  {
   "cell_type": "code",
   "execution_count": null,
   "id": "d82326eb-761c-4293-a00d-25c04ebf8673",
   "metadata": {},
   "outputs": [],
   "source": [
    "buildscript { // przed blokiem plugins\n",
    "    repositories {\n",
    "        google()\n",
    "    }\n",
    "    dependencies {\n",
    "        def nav_version = \"2.5.3\"\n",
    "        classpath \"androidx.navigation:navigation-safe-args-gradle-plugin:$nav_version\"\n",
    "    }\n",
    "}"
   ]
  },
  {
   "cell_type": "markdown",
   "id": "bbea2153-fba6-4674-86a2-6504700aaef6",
   "metadata": {
    "tags": []
   },
   "source": [
    "## **Nawigacja**\n",
    "\n",
    "Dodajmy dwa fragmenty - `InstituteListFragment` i `InstituteDetailFragment`"
   ]
  },
  {
   "cell_type": "code",
   "execution_count": null,
   "id": "de9251f8-4d80-4c39-9e5d-b8fc6865dc81",
   "metadata": {},
   "outputs": [],
   "source": [
    "public class InstituteListFragment extends Fragment {\n",
    "\n",
    "    private FragmentInstituteListBinding binding;\n",
    "\n",
    "    @Override\n",
    "    public View onCreateView(@NonNull LayoutInflater inflater, ViewGroup container,\n",
    "                             Bundle savedInstanceState) {\n",
    "        binding = FragmentInstituteListBinding.inflate(inflater);\n",
    "        return binding.getRoot();\n",
    "    }\n",
    "}"
   ]
  },
  {
   "cell_type": "code",
   "execution_count": null,
   "id": "25e0f47b-969a-4301-9479-84b6624ec713",
   "metadata": {},
   "outputs": [],
   "source": [
    "public class InstituteDetailFragment extends Fragment {\n",
    "\n",
    "    private FragmentInstituteDetailBinding binding;\n",
    "\n",
    "    @Override\n",
    "    public View onCreateView(@NonNull LayoutInflater inflater, ViewGroup container,\n",
    "                             Bundle savedInstanceState) {\n",
    "        binding = FragmentInstituteDetailBinding.inflate(inflater);\n",
    "        return binding.getRoot();\n",
    "    }\n",
    "}"
   ]
  },
  {
   "cell_type": "markdown",
   "id": "c54ef685-e52d-4852-b45a-532a7a766c9d",
   "metadata": {},
   "source": [
    "Dodajmy nawigację"
   ]
  },
  {
   "cell_type": "code",
   "execution_count": null,
   "id": "178db336-b3bd-4fdc-bc44-61823ee02f1f",
   "metadata": {},
   "outputs": [],
   "source": [
    "<?xml version=\"1.0\" encoding=\"utf-8\"?>\n",
    "<navigation xmlns:android=\"http://schemas.android.com/apk/res/android\"\n",
    "    xmlns:app=\"http://schemas.android.com/apk/res-auto\"\n",
    "    xmlns:tools=\"http://schemas.android.com/tools\"\n",
    "    android:id=\"@+id/navigation\"\n",
    "    app:startDestination=\"@id/instituteListFragment\">\n",
    "\n",
    "    <fragment\n",
    "        android:id=\"@+id/instituteListFragment\"\n",
    "        android:name=\"com.example.wfiappjava.ui.fragments.list.InstituteListFragment\"\n",
    "        android:label=\"fragment_institute_list\"\n",
    "        tools:layout=\"@layout/fragment_institute_list\" >\n",
    "        <action\n",
    "            android:id=\"@+id/action_instituteListFragment_to_instituteDetailFragment\"\n",
    "            app:destination=\"@id/instituteDetailFragment\" />\n",
    "    </fragment>\n",
    "    <fragment\n",
    "        android:id=\"@+id/instituteDetailFragment\"\n",
    "        android:name=\"com.example.wfiappjava.ui.fragments.detail.InstituteDetailFragment\"\n",
    "        android:label=\"fragment_institute_detail\"\n",
    "        tools:layout=\"@layout/fragment_institute_detail\" />\n",
    "</navigation>"
   ]
  },
  {
   "cell_type": "markdown",
   "id": "9ab40810-3723-4a33-8f89-317466f99f58",
   "metadata": {},
   "source": [
    "Będziemy posiadać tylko jedną akcję - przejście z *master* do *detail*"
   ]
  },
  {
   "cell_type": "markdown",
   "id": "3942c6cc-cdb1-4070-8a3f-a3e93295dc31",
   "metadata": {},
   "source": [
    "### **Fragmenty**"
   ]
  },
  {
   "cell_type": "markdown",
   "id": "bed33fb1-6a3c-40ef-ad19-c84d1b2a6c29",
   "metadata": {},
   "source": [
    "Layout listy będzie zawierał tylko `RecyclerView`"
   ]
  },
  {
   "cell_type": "markdown",
   "id": "3ef32d63-1817-41fb-9c1e-bd103ef1e99d",
   "metadata": {},
   "source": [
    "<RelativeLayout xmlns:android=\"http://schemas.android.com/apk/res/android\"\n",
    "    xmlns:tools=\"http://schemas.android.com/tools\"\n",
    "    android:layout_width=\"match_parent\"\n",
    "    android:layout_height=\"match_parent\"\n",
    "    android:paddingBottom=\"@dimen/activity_vertical_margin\"\n",
    "    android:paddingLeft=\"@dimen/activity_horizontal_margin\"\n",
    "    android:paddingRight=\"@dimen/activity_horizontal_margin\"\n",
    "    android:paddingTop=\"@dimen/activity_vertical_margin\"\n",
    "    android:background=\"#1111\"\n",
    "    tools:context=\".MainActivity\">"
   ]
  },
  {
   "cell_type": "code",
   "execution_count": null,
   "id": "b3abf1d9-1284-4ad6-abb4-acb49ddc0731",
   "metadata": {},
   "outputs": [],
   "source": [
    "<?xml version=\"1.0\" encoding=\"utf-8\"?>\n",
    "<FrameLayout xmlns:android=\"http://schemas.android.com/apk/res/android\"\n",
    "    xmlns:tools=\"http://schemas.android.com/tools\"\n",
    "    android:layout_width=\"match_parent\"\n",
    "    android:layout_height=\"match_parent\"\n",
    "    tools:context=\".ui.fragments.institutelist.InstituteListFragment\">\n",
    "\n",
    "    <androidx.recyclerview.widget.RecyclerView\n",
    "        android:id=\"@+id/recyclerView\"\n",
    "        android:scrollbars=\"vertical\"\n",
    "        android:layout_width=\"match_parent\"\n",
    "        android:layout_height=\"match_parent\"\n",
    "        android:layout_margin=\"16dp\"/>\n",
    "\n",
    "</FrameLayout>"
   ]
  },
  {
   "cell_type": "markdown",
   "id": "87cb7f39-f4eb-49b2-9400-06d3145ce169",
   "metadata": {},
   "source": [
    "Dodajmy layout pojedynczego elementu listy `RecyclerView` - tworzymy plik **recyclerview_item** w katalogu **res/layout**"
   ]
  },
  {
   "cell_type": "code",
   "execution_count": null,
   "id": "49a537c9-1377-4778-978d-22692ffdbca9",
   "metadata": {},
   "outputs": [],
   "source": [
    "<?xml version=\"1.0\" encoding=\"utf-8\"?>\n",
    "<androidx.cardview.widget.CardView xmlns:android=\"http://schemas.android.com/apk/res/android\"\n",
    "    android:layout_width=\"match_parent\"\n",
    "    android:layout_height=\"wrap_content\"\n",
    "    xmlns:app=\"http://schemas.android.com/apk/res-auto\"\n",
    "    android:layout_margin=\"16dp\"\n",
    "    app:cardBackgroundColor=\"#0b5294\"\n",
    "    app:cardCornerRadius=\"30dp\"\n",
    "    app:cardElevation=\"15dp\">\n",
    "\n",
    "    <RelativeLayout\n",
    "        android:layout_width=\"match_parent\"\n",
    "        android:layout_height=\"wrap_content\">\n",
    "\n",
    "        <ImageView\n",
    "            android:id=\"@+id/instituteImage\"\n",
    "            android:layout_width=\"match_parent\"\n",
    "            android:layout_height=\"wrap_content\"\n",
    "            android:adjustViewBounds=\"true\"\n",
    "            android:contentDescription=\"@string/iv_desc\" />\n",
    "\n",
    "        <TextView\n",
    "            android:id=\"@+id/title\"\n",
    "            style=\"@style/InstituteTitle\"\n",
    "            android:layout_width=\"wrap_content\"\n",
    "            android:layout_height=\"wrap_content\"\n",
    "            android:padding=\"16dp\"\n",
    "            android:layout_alignBottom=\"@id/instituteImage\"\n",
    "            android:theme=\"@style/ThemeOverlay.AppCompat.Dark\"\n",
    "            android:text=\"@string/title_placeholder\" />\n",
    "\n",
    "        <TextView\n",
    "            android:id=\"@+id/cardTitle\"\n",
    "            style=\"@style/InstituteDetailText\"\n",
    "            android:layout_width=\"wrap_content\"\n",
    "            android:layout_height=\"wrap_content\"\n",
    "            android:layout_below=\"@id/instituteImage\"\n",
    "            android:textColor=\"@android:color/white\"\n",
    "            android:padding=\"16dp\"\n",
    "            android:text=\"@string/title_placeholder\" />\n",
    "\n",
    "        <TextView\n",
    "            android:id=\"@+id/subTitle\"\n",
    "            style=\"@style/InstituteDetailText\"\n",
    "            android:layout_width=\"wrap_content\"\n",
    "            android:layout_height=\"wrap_content\"\n",
    "            android:layout_below=\"@id/cardTitle\"\n",
    "            android:padding=\"16dp\"\n",
    "            android:textColor=\"@android:color/white\"\n",
    "            android:text=\"@string/institute_placeholder\" />\n",
    "\n",
    "    </RelativeLayout>\n",
    "</androidx.cardview.widget.CardView>"
   ]
  },
  {
   "cell_type": "markdown",
   "id": "638a1a49-0f43-49f9-9b88-92ce9291c608",
   "metadata": {},
   "source": [
    "Następnie dodajmy layout `InstytuteDetailFragment`"
   ]
  },
  {
   "cell_type": "code",
   "execution_count": null,
   "id": "0e0d99c8-9aa6-4f5a-ba4d-f7b06be85592",
   "metadata": {},
   "outputs": [],
   "source": [
    "<?xml version=\"1.0\" encoding=\"utf-8\"?>\n",
    "<ScrollView xmlns:android=\"http://schemas.android.com/apk/res/android\"\n",
    "    android:layout_width=\"match_parent\"\n",
    "    android:layout_height=\"match_parent\">\n",
    "\n",
    "    <RelativeLayout xmlns:tools=\"http://schemas.android.com/tools\"\n",
    "        android:layout_width=\"match_parent\"\n",
    "        android:layout_height=\"wrap_content\"\n",
    "        tools:context=\".DetailActivity\">\n",
    "\n",
    "        <ImageView\n",
    "            android:id=\"@+id/instituteImageDetail\"\n",
    "            android:layout_width=\"match_parent\"\n",
    "            android:layout_height=\"wrap_content\"\n",
    "            android:adjustViewBounds=\"true\"\n",
    "            android:contentDescription=\"@string/iv_desc\" />\n",
    "\n",
    "        <TextView\n",
    "            android:id=\"@+id/titleDetail\"\n",
    "            style=\"@style/InstituteDetailTitle\"\n",
    "            android:layout_width=\"wrap_content\"\n",
    "            android:layout_height=\"wrap_content\"\n",
    "            android:layout_alignBottom=\"@id/instituteImageDetail\"\n",
    "            android:padding=\"16dp\"\n",
    "            android:text=\"@string/title_placeholder\"\n",
    "            android:theme=\"@style/ThemeOverlay.AppCompat.Dark\" />\n",
    "\n",
    "        <TextView\n",
    "            android:id=\"@+id/universityTitleDetail\"\n",
    "            style=\"@style/InstituteDetailText\"\n",
    "            android:layout_width=\"wrap_content\"\n",
    "            android:layout_height=\"wrap_content\"\n",
    "            android:layout_below=\"@id/instituteImageDetail\"\n",
    "            android:padding=\"16dp\"\n",
    "            android:text=\"@string/institute_placeholder\"\n",
    "            android:textColor=\"?android:textColorSecondary\" />\n",
    "\n",
    "        <TextView\n",
    "            android:id=\"@+id/genericTextDetail\"\n",
    "            style=\"@style/InstituteDetailText\"\n",
    "            android:layout_width=\"wrap_content\"\n",
    "            android:layout_height=\"wrap_content\"\n",
    "            android:layout_below=\"@id/universityTitleDetail\"\n",
    "            android:padding=\"16dp\"\n",
    "            android:text=\"@string/subtitle_detail_text\" />\n",
    "\n",
    "    </RelativeLayout>\n",
    "</ScrollView>"
   ]
  },
  {
   "cell_type": "markdown",
   "id": "7dd35578-e741-467a-a321-062961f1bc01",
   "metadata": {},
   "source": [
    "Zdefiniujmy również styl w pliku `themes.xml`"
   ]
  },
  {
   "cell_type": "code",
   "execution_count": null,
   "id": "a6a7fa07-7d44-47c8-af55-10e82bc613ee",
   "metadata": {},
   "outputs": [],
   "source": [
    "<style name=\"Theme.WFiAppJava\" parent=\"Theme.MaterialComponents.DayNight.DarkActionBar\">\n",
    "    <!-- Primary brand color. -->\n",
    "    <item name=\"colorPrimary\">@color/purple_500</item>\n",
    "    <item name=\"colorPrimaryVariant\">@color/purple_700</item>\n",
    "    <item name=\"colorOnPrimary\">@color/white</item>\n",
    "    <!-- Secondary brand color. -->\n",
    "    <item name=\"colorSecondary\">@color/teal_200</item>\n",
    "    <item name=\"colorSecondaryVariant\">@color/teal_700</item>\n",
    "    <item name=\"colorOnSecondary\">@color/black</item>\n",
    "    <!-- Status bar color. -->\n",
    "    <item name=\"android:statusBarColor\">?attr/colorPrimaryVariant</item>"
   ]
  },
  {
   "cell_type": "markdown",
   "id": "181fed4a-daf3-4cf9-a922-f1863daa0900",
   "metadata": {},
   "source": [
    "Na koniec dodajmy nawigację do layoutu głównej aktywności"
   ]
  },
  {
   "cell_type": "code",
   "execution_count": null,
   "id": "64e25431-eac3-4f39-82e3-ac2039466af3",
   "metadata": {},
   "outputs": [],
   "source": [
    "<?xml version=\"1.0\" encoding=\"utf-8\"?>\n",
    "<androidx.constraintlayout.widget.ConstraintLayout xmlns:android=\"http://schemas.android.com/apk/res/android\"\n",
    "    xmlns:app=\"http://schemas.android.com/apk/res-auto\"\n",
    "    xmlns:tools=\"http://schemas.android.com/tools\"\n",
    "    android:layout_width=\"match_parent\"\n",
    "    android:layout_height=\"match_parent\"\n",
    "    tools:context=\".MainActivity\">\n",
    "\n",
    "    <androidx.fragment.app.FragmentContainerView\n",
    "        android:id=\"@+id/fragmentContainerView\"\n",
    "        android:name=\"androidx.navigation.fragment.NavHostFragment\"\n",
    "        android:layout_width=\"409dp\"\n",
    "        android:layout_height=\"729dp\"\n",
    "        app:defaultNavHost=\"true\"\n",
    "        app:layout_constraintBottom_toBottomOf=\"parent\"\n",
    "        app:layout_constraintEnd_toEndOf=\"parent\"\n",
    "        app:layout_constraintStart_toStartOf=\"parent\"\n",
    "        app:layout_constraintTop_toTopOf=\"parent\"\n",
    "        app:navGraph=\"@navigation/navigation\" />\n",
    "</androidx.constraintlayout.widget.ConstraintLayout>"
   ]
  },
  {
   "cell_type": "markdown",
   "id": "c2f2ba2a-2ff7-4cc0-9a8d-a5f1a688e5ad",
   "metadata": {},
   "source": [
    "## **Model danych**\n",
    "\n",
    "Dodajmy klasę reprezentującą model danych, ponieważ będziemy przekazywać cały obiekt `Institute` dodamy również implementację interfejsu `Parcelable`"
   ]
  },
  {
   "cell_type": "code",
   "execution_count": null,
   "id": "bd2fbcfc-fd58-4864-8fbf-6dc67372ecb4",
   "metadata": {},
   "outputs": [],
   "source": [
    "import android.os.Parcel;\n",
    "import android.os.Parcelable;\n",
    "\n",
    "public class Institute implements Parcelable {\n",
    "    private final String title;\n",
    "    private final String info;\n",
    "    private final int imageResource; // identyfikator do obrazów jest przechowywany jako int\n",
    "\n",
    "    public Institute(String title, String info, int imageResource) {\n",
    "        this.title = title;\n",
    "        this.info = info;\n",
    "        this.imageResource = imageResource;\n",
    "    }\n",
    "\n",
    "    protected Institute(Parcel in) {\n",
    "        title = in.readString();\n",
    "        info = in.readString();\n",
    "        imageResource = in.readInt();\n",
    "    }\n",
    "\n",
    "    public static final Creator<Institute> CREATOR = new Creator<Institute>() {\n",
    "        @Override\n",
    "        public Institute createFromParcel(Parcel in) {\n",
    "            return new Institute(in);\n",
    "        }\n",
    "\n",
    "        @Override\n",
    "        public Institute[] newArray(int size) {\n",
    "            return new Institute[size];\n",
    "        }\n",
    "    };\n",
    "\n",
    "    public String getTitle() {\n",
    "        return title;\n",
    "    }\n",
    "\n",
    "    public String getInfo() {\n",
    "        return info;\n",
    "    }\n",
    "\n",
    "    public int getImageResource() {\n",
    "        return imageResource;\n",
    "    }\n",
    "\n",
    "    @Override\n",
    "    public int describeContents() {\n",
    "        return 0;\n",
    "    }\n",
    "\n",
    "    @Override\n",
    "    public void writeToParcel(Parcel parcel, int i) {\n",
    "        parcel.writeString(title);\n",
    "        parcel.writeString(info);\n",
    "        parcel.writeInt(imageResource);\n",
    "    }\n",
    "}"
   ]
  },
  {
   "cell_type": "markdown",
   "id": "15256d99-08cd-4051-b2dc-ed8ccb6c6c02",
   "metadata": {},
   "source": [
    "## **Utworzenie listy `Institute` - `DataProvider`**\n",
    "\n",
    "Listę wszystkich informacji o instytutach (i biblioteki) będziemy przechowywać w tabelach `<array>` w pliku `strings.xml`"
   ]
  },
  {
   "cell_type": "code",
   "execution_count": null,
   "id": "123ebde6-6740-437b-bca0-eeedae2ce9da",
   "metadata": {},
   "outputs": [],
   "source": [
    "    <string-array name=\"institute_titles\">\n",
    "        <item>Institute of Astronomy</item>\n",
    "        <item>Institute of Experimental Physics</item>\n",
    "        <item>Institute of Theoretical Physics</item>\n",
    "        <item>Library</item>\n",
    "    </string-array>\n",
    "\n",
    "    <string-array name=\"institute_info\">\n",
    "        <item>Welcome to Institute of Astronomy!</item>\n",
    "        <item>Welcome to Institute of Experimental Physics!</item>\n",
    "        <item>Welcome to Institute of Theoretical Physics!</item>\n",
    "        <item>Welcome to Library!</item>\n",
    "    </string-array>\n",
    "\n",
    "\n",
    "    <array name=\"institute_images\">\n",
    "        <item>@drawable/img_ia</item>\n",
    "        <item>@drawable/img_ifd</item>\n",
    "        <item>@drawable/img_ift</item>\n",
    "        <item>@drawable/img_bib</item>\n",
    "    </array>"
   ]
  },
  {
   "cell_type": "markdown",
   "id": "21df648f-1d2d-4615-8ef5-1e3bcda78994",
   "metadata": {},
   "source": [
    "Na podstawie tych informacji chcemy stworzyć kolekcję zawierającą wszystkie `Institute`. W obiekcie `DataProvider` dodajmy "
   ]
  },
  {
   "cell_type": "code",
   "execution_count": null,
   "id": "498559ef-be77-4c82-accb-8595f3da205f",
   "metadata": {},
   "outputs": [],
   "source": [
    "public static final ArrayList<Institute> institutes = new ArrayList<>();"
   ]
  },
  {
   "cell_type": "markdown",
   "id": "07316a7e-1017-41ca-bd2a-543bfabb94d5",
   "metadata": {},
   "source": [
    "Dodajmy metodę `initializeData` - zainicjujemy dane w metodzie `onCreate` głównej aktywności."
   ]
  },
  {
   "cell_type": "code",
   "execution_count": null,
   "id": "3abf607e-869c-4577-a62a-ca882f817e63",
   "metadata": {},
   "outputs": [],
   "source": [
    "public static void getInstituteData(Activity activity){"
   ]
  },
  {
   "cell_type": "markdown",
   "id": "1064ba5d-1a2c-42de-83b0-33a01bf5344c",
   "metadata": {},
   "source": [
    "Wpierw utworzymy dwie tablice `String` do przechowania danych z tablic `institute_titles` oraz `institute_info`"
   ]
  },
  {
   "cell_type": "code",
   "execution_count": null,
   "id": "fcaba572-8e59-42c7-8255-7a2cc73cf514",
   "metadata": {},
   "outputs": [],
   "source": [
    "String[] instituteList = activity.getResources().getStringArray(R.array.institute_titles);\n",
    "String[] instituteInfo = activity.getResources().getStringArray(R.array.institute_info);"
   ]
  },
  {
   "cell_type": "markdown",
   "id": "c45e35f3-8a22-4e27-829f-611111365291",
   "metadata": {},
   "source": [
    "Aby przechować zasoby (odnośniki do plików graficznych z tabeli `institute_images`) skorzystamy z `TypedArray` - jest to kontener do przechowaywania wartości `Resources`."
   ]
  },
  {
   "cell_type": "code",
   "execution_count": null,
   "id": "bfa768c7-0dad-4b8a-8335-feee2ad191c2",
   "metadata": {},
   "outputs": [],
   "source": [
    "TypedArray instituteImageResources = activity.getResources().obtainTypedArray(R.array.institute_images);"
   ]
  },
  {
   "cell_type": "markdown",
   "id": "25a45095-11b7-4481-9ff7-b1dc772dfab9",
   "metadata": {},
   "source": [
    "Następnie tworzymy listę "
   ]
  },
  {
   "cell_type": "code",
   "execution_count": null,
   "id": "d6457c79-9de3-4af3-b4c3-9999f566ccbc",
   "metadata": {},
   "outputs": [],
   "source": [
    "for (int i = 0; i < instituteList.length; i++)\n",
    "    institutes.add(new Institute(\n",
    "            instituteList[i],\n",
    "            instituteInfo[i],\n",
    "            instituteImageResources.getResourceId(i, 0))\n",
    "    );"
   ]
  },
  {
   "cell_type": "markdown",
   "id": "606b3ef8-190f-4996-a597-67bc3cb7f5a1",
   "metadata": {},
   "source": [
    "Ostatnim elementem jest wywołanie metody `recycle` na tablicy `TypedArray`. Pozwala ona na odtworzenie tablicy, która może zostać ponownie wykorzystana."
   ]
  },
  {
   "cell_type": "code",
   "execution_count": null,
   "id": "08aa7ede-91f3-44af-84e9-b53a21b33222",
   "metadata": {},
   "outputs": [],
   "source": [
    "public static void getInstituteData(Activity activity){\n",
    "    String[] instituteList = activity.getResources().getStringArray(R.array.institute_titles);\n",
    "    String[] instituteInfo = activity.getResources().getStringArray(R.array.institute_info);\n",
    "\n",
    "    try (TypedArray instituteImageResources = activity.getResources().obtainTypedArray(R.array.institute_images)) {\n",
    "\n",
    "        for (int i = 0; i < instituteList.length; i++)\n",
    "            institutes.add(new Institute(\n",
    "                    instituteList[i],\n",
    "                    instituteInfo[i],\n",
    "                    instituteImageResources.getResourceId(i, 0))\n",
    "            );\n",
    "\n",
    "        instituteImageResources.recycle();\n",
    "    }\n",
    "}"
   ]
  },
  {
   "cell_type": "markdown",
   "id": "ce1be518-bb10-482c-97e5-57a6128b022b",
   "metadata": {},
   "source": [
    "Podsumowując, na początku pobierane są tablice stringów i obrazów ze zasobów aplikacji przy użyciu metod `getResource().getStringArray()` oraz `getResource().obtainTypedArray()`. Następnie pętla `forEach` iteruje po wszystkich elementach tablicy `instituteList`, tworząc obiekt klasy `Institute` dla każdego elementu. Obiekt jest tworzony poprzez wywołanie konstruktora klasy `Institute` i przekazanie do niego tytułu instytutu (element z tablicy `instituteList`), informacji o instytucie (element z tablicy `instituteInfo`) oraz zasobu obrazu (wywołanie metody `getResourceId()` na obiekcie `instituteImageResources` z przekazaniem indeksu i wartości domyślnej).\n",
    "\n",
    "Ostatecznie, po zakończeniu pętli `for`, zasoby obrazów są zwalniane przy użyciu metody `recycle()` na obiekcie `instituteImageResources`."
   ]
  },
  {
   "cell_type": "markdown",
   "id": "bc9016ec-1927-4365-ab87-388bbefce76c",
   "metadata": {},
   "source": [
    "Następnie inicjujemy dane"
   ]
  },
  {
   "cell_type": "code",
   "execution_count": null,
   "id": "e26e2c65-c212-4d74-ae81-f46294bb6ffc",
   "metadata": {},
   "outputs": [],
   "source": [
    "public class MainActivity extends AppCompatActivity {\n",
    "\n",
    "    private ActivityMainBinding binding;\n",
    "\n",
    "    @Override\n",
    "    protected void onCreate(Bundle savedInstanceState) {\n",
    "        super.onCreate(savedInstanceState);\n",
    "        binding = ActivityMainBinding.inflate(getLayoutInflater());\n",
    "        setContentView(binding.getRoot());\n",
    "\n",
    "        if (DataProvider.institutes.isEmpty())\n",
    "            DataProvider.getInstituteData(this);\n",
    "    }\n",
    "}"
   ]
  },
  {
   "cell_type": "markdown",
   "id": "4a2780b6-f9a7-4059-a195-356d7a6a9ad2",
   "metadata": {},
   "source": [
    "## **`InstituteListAdapter`**\n",
    "\n",
    "Kolejnym krokiem będzie utworzenie klasy `InstituteViewHolder`, `InstituteAdapter`."
   ]
  },
  {
   "cell_type": "code",
   "execution_count": null,
   "id": "1dc470bf-c254-4dfc-b25f-1d48a1f249ed",
   "metadata": {},
   "outputs": [],
   "source": [
    "public class InstituteViewHolder extends RecyclerView.ViewHolder {\n",
    "\n",
    "    private final RecyclerviewItemBinding binding;\n",
    "    private final Context context;\n",
    "\n",
    "    public InstituteViewHolder(RecyclerviewItemBinding binding, Context context) {\n",
    "        super(binding.getRoot());\n",
    "        this.binding = binding;\n",
    "        this.context = context;\n",
    "    }\n",
    "\n",
    "    public void bind(Institute institute) {\n",
    "            binding.title.setText(institute.getTitle());\n",
    "            binding.subTitle.setText(institute.getInfo());\n",
    "\n",
    "            Glide.with(context).load(institute.getImageResource())\n",
    "                    .into(binding.instituteImage);\n",
    "    }\n",
    "}"
   ]
  },
  {
   "cell_type": "code",
   "execution_count": null,
   "id": "fc6dfedc-9543-4e15-adfd-5b4f45a47a80",
   "metadata": {},
   "outputs": [],
   "source": [
    "public class InstituteAdapter extends RecyclerView.Adapter<InstituteViewHolder> {\n",
    "    @NonNull\n",
    "    @Override\n",
    "    public InstituteViewHolder onCreateViewHolder(@NonNull ViewGroup parent, int viewType) {\n",
    "        return new InstituteViewHolder(RecyclerviewItemBinding.inflate(\n",
    "                LayoutInflater.from(parent.getContext()), parent, false\n",
    "        ), parent.getContext());\n",
    "    }\n",
    "\n",
    "    @Override\n",
    "    public void onBindViewHolder(@NonNull InstituteViewHolder holder, int position) {\n",
    "        Institute currentInstitute = DataProvider.institutes.get(position);\n",
    "        holder.bind(currentInstitute);\n",
    "    }\n",
    "\n",
    "    @Override\n",
    "    public int getItemCount() {\n",
    "        return DataProvider.institutes.size();\n",
    "    }\n",
    "}"
   ]
  },
  {
   "cell_type": "markdown",
   "id": "490e6dbb-16e6-430d-9e25-ee8df3b7fe9b",
   "metadata": {},
   "source": [
    "Mamy połączone dane tekstowe z polami `TextView`. Wykorzystujemy bibliotekę `Glide` do obsługi ładowania grafik w pola `ImageView`. `Glide.with` przyjmuje `Context` jako argument, więc przekazujemy go w konstruktorze `InstituteViewHolder`."
   ]
  },
  {
   "cell_type": "markdown",
   "id": "10988a0d-4cd2-45fc-91b2-b21e78effc25",
   "metadata": {},
   "source": [
    "- `Glide.with(context)` inicjuje obiekt Glide dla bieżącego kontekstu.\n",
    "- `load(institute.getImageResource())` wskazuje adres zasób, który ma zostać załadowany przez `Glide`.\n",
    "- `into(binding.instituteImage)` definiuje `ImageView`, do którego ma zostać załadowany obraz."
   ]
  },
  {
   "cell_type": "markdown",
   "id": "7024a5af-3f8b-463e-902a-8f5c3c2508a6",
   "metadata": {},
   "source": [
    "Dodajmy `RecyclerView` do `InstituteListFragment`"
   ]
  },
  {
   "cell_type": "code",
   "execution_count": null,
   "id": "a2022555-3caf-47b9-9e27-26a742466505",
   "metadata": {},
   "outputs": [],
   "source": [
    "public class InstituteListFragment extends Fragment {\n",
    "\n",
    "    private FragmentInstituteListBinding binding;\n",
    "\n",
    "    @Override\n",
    "    public View onCreateView(@NonNull LayoutInflater inflater, ViewGroup container,\n",
    "                             Bundle savedInstanceState) {\n",
    "        binding = FragmentInstituteListBinding.inflate(inflater);\n",
    "\n",
    "        binding.recyclerView.setAdapter(new InstituteAdapter());\n",
    "        binding.recyclerView.setLayoutManager(new LinearLayoutManager(requireContext()));\n",
    "\n",
    "        return binding.getRoot();\n",
    "    }\n",
    "}"
   ]
  },
  {
   "cell_type": "markdown",
   "id": "7a1ecfe3-d1b4-4fcc-8c2b-b11efcb8fc51",
   "metadata": {},
   "source": [
    "## **Obsługa `onClick`**\n",
    "\n",
    "Chcemy dodać obsługę zdarzenia `onClick` elementu listy, nie będziemy implementować w metodzie `onBindViewHolder`, ponieważ chcemy uniknąć tworzenia wielu niepotrzebnych obiektów. Implementację metody przekażemy przez konstruktor. Wpierw dodajmy interfejs `OnItemClickListener` do klasy `InstituteViewHolder` definiujący jedną metodę `onItemClick` przyjmującą `int position` jako argument."
   ]
  },
  {
   "cell_type": "code",
   "execution_count": null,
   "id": "488332c3-a05b-47e7-9ee2-0f7326054b49",
   "metadata": {},
   "outputs": [],
   "source": [
    "public interface OnItemClickListener {\n",
    "    void onItemClick(int position);\n",
    "}"
   ]
  },
  {
   "cell_type": "markdown",
   "id": "45c1681f-081a-4f84-b03d-8b69ae3a10f3",
   "metadata": {},
   "source": [
    "Następnie do konstruktura `InstituteViewHolder` dodamy obiekt o typie tego interfejsu."
   ]
  },
  {
   "cell_type": "code",
   "execution_count": null,
   "id": "789215ce-b8ad-4b02-b0cd-13326e462fde",
   "metadata": {},
   "outputs": [],
   "source": [
    "public InstituteViewHolder(RecyclerviewItemBinding binding, Context context, InstituteAdapter.OnItemClickListener onItemClickListener)"
   ]
  },
  {
   "cell_type": "markdown",
   "id": "86149a00-4760-457d-bb99-07d384231f40",
   "metadata": {},
   "source": [
    "Następnie w bloku konstruktorze klasy `InstituteViewHolder` wykorzystujemy metodę `onItemClicke`"
   ]
  },
  {
   "cell_type": "code",
   "execution_count": null,
   "id": "3de8836b-f851-4e4a-a9ac-97de9be60e09",
   "metadata": {},
   "outputs": [],
   "source": [
    "public InstituteViewHolder(RecyclerviewItemBinding binding, Context context, InstituteAdapter.OnItemClickListener onItemClickListener) {\n",
    "    super(binding.getRoot());\n",
    "    this.binding = binding;\n",
    "    this.context = context;\n",
    "    binding.getRoot().setOnClickListener(v -> onItemClickListener.onItemClick(getAdapterPosition()));\n",
    "}"
   ]
  },
  {
   "cell_type": "markdown",
   "id": "b30d6e1a-8f51-49de-a8cc-f44dd2b44943",
   "metadata": {},
   "source": [
    "W klasie `InstituteAdapter` również dodajmy interfejs `OnItemClickListener`, ale tym razem będzie zaweirał metodę `onItemClick` przyjmującą jako argument instancję klasy `Institute`."
   ]
  },
  {
   "cell_type": "code",
   "execution_count": null,
   "id": "7ca91253-1cb8-4434-9c30-0650aef88f5e",
   "metadata": {},
   "outputs": [],
   "source": [
    "public class InstituteAdapter extends RecyclerView.Adapter<InstituteViewHolder> {\n",
    "\n",
    "    private final OnItemClickListener onItemClickListener;\n",
    "\n",
    "    public InstituteAdapter(OnItemClickListener onItemClickListener) {\n",
    "        this.onItemClickListener = onItemClickListener;\n",
    "    }\n",
    "\n",
    "    ...\n",
    "\n",
    "    public interface OnItemClickListener {\n",
    "        void onItemClick(Institute institute);\n",
    "    }\n",
    "}"
   ]
  },
  {
   "cell_type": "markdown",
   "id": "2ae01e30-2e6a-4af1-8e16-cc1687cf25a5",
   "metadata": {},
   "source": [
    "Implementację `onItemClickListener` z klasy `InstituteViewHolder` przekażemy w metodzie `onCreateViewHolder` - gdzie tworzymy obiekty `ViewHolder` - w ciele metody `onItemClick` klasy `InstituteViewHolder` wywołujemy metodę `onItemClick` z klasy `InstituteAdapter`"
   ]
  },
  {
   "cell_type": "code",
   "execution_count": null,
   "id": "1e758801-077a-4839-b580-f3c306f44ed2",
   "metadata": {},
   "outputs": [],
   "source": [
    "position -> onItemClickListener.onItemClick(DataProvider.institutes.get(position)));"
   ]
  },
  {
   "cell_type": "code",
   "execution_count": null,
   "id": "6ffd1a8b-3489-4a0f-baf0-9f41236d46da",
   "metadata": {},
   "outputs": [],
   "source": [
    "@NonNull\n",
    "@Override\n",
    "public InstituteViewHolder onCreateViewHolder(@NonNull ViewGroup parent, int viewType) {\n",
    "    return new InstituteViewHolder(RecyclerviewItemBinding.inflate(\n",
    "            LayoutInflater.from(parent.getContext()), parent, false\n",
    "    ), parent.getContext(), position -> onItemClickListener.onItemClick(DataProvider.institutes.get(position)));\n",
    "}"
   ]
  },
  {
   "cell_type": "markdown",
   "id": "ada883c1-52db-41b2-ba39-338433ad9d55",
   "metadata": {},
   "source": [
    "Teraz dodajmy `<argument>` do akcji zdefiniowanej w pliku `navigation.xml`"
   ]
  },
  {
   "cell_type": "code",
   "execution_count": null,
   "id": "61d89d24-756a-4a0a-a65f-c2e85ab5743b",
   "metadata": {},
   "outputs": [],
   "source": [
    "<action\n",
    "    android:id=\"@+id/action_instituteListFragment_to_instituteDetailFragment\"\n",
    "    app:destination=\"@id/instituteDetailFragment\" >\n",
    "    <argument android:name=\"institute\"\n",
    "        app:argType=\"com.example.wfiappjava.data.Institute\"/>\n",
    "</action>"
   ]
  },
  {
   "cell_type": "markdown",
   "id": "766f7fc1-7a97-4730-a532-b739f011fb18",
   "metadata": {},
   "source": [
    "Samą impoplementację dodajemy przy konfiguracji `RecyclerView` w `InstituteListFragment` - jako argument konstruktora adaptera."
   ]
  },
  {
   "cell_type": "code",
   "execution_count": null,
   "id": "17d7f8ed-96a3-40f0-b169-9ed9276a554f",
   "metadata": {},
   "outputs": [],
   "source": [
    "public class InstituteListFragment extends Fragment {\n",
    "\n",
    "    private FragmentInstituteListBinding binding;\n",
    "\n",
    "    @Override\n",
    "    public View onCreateView(@NonNull LayoutInflater inflater, ViewGroup container,\n",
    "                             Bundle savedInstanceState) {\n",
    "        binding = FragmentInstituteListBinding.inflate(inflater);\n",
    "\n",
    "        binding.recyclerView.setAdapter(new InstituteAdapter(this::navigateToDetailFragment)); // przekazuję referencję do metody\n",
    "        binding.recyclerView.setLayoutManager(new LinearLayoutManager(requireContext()));\n",
    "\n",
    "        return binding.getRoot();\n",
    "    }\n",
    "\n",
    "    private void navigateToDetailFragment(Institute institute) {\n",
    "        NavDirections action = InstituteListFragmentDirections.actionInstituteListFragmentToInstituteDetailFragment(institute);\n",
    "        NavHostFragment.findNavController(this).navigate(action);\n",
    "    }\n",
    "}"
   ]
  },
  {
   "cell_type": "markdown",
   "id": "31ea6c07-6f67-435a-afda-94d308087491",
   "metadata": {},
   "source": [
    "`adapter = InstituteAdapter(this::navigateToDetailFragment))` przypisuje adapter typu `InstituteAdapter` do `RecyclerView`. Adapter ten obsługuje pojedynczy element listy instytutów, wykorzystując szablon widoku karty `CardView`.\n",
    "\n",
    "`InstituteAdapter(this::navigateToDetailFragment))` to lambda, która przyjmuje pojedynczy argument typu `Institute` i wywołuje kod będący obsługą zdarzenia `onClick` elementu `RecyclerView`.\n",
    "\n",
    "`NavDirections action: NavDirections = InstituteListFragmentDirections.actionInstituteListFragmentToInstituteDetailFragment(institute)` tworzy akcję nawigacji z bieżącego fragmentu listy instytutów do fragmentu szczegółów instytutu (`InstituteDetailFragment`). Jako argument przekazujemy instytut z listy, który został kliknięty.\n",
    "\n",
    "`findNavController(this).navigate(action)` uruchamia nawigację i przenosi użytkownika z fragmentu listy instytutów do fragmentu szczegółów instytutu z przekazanym argumentem.\n",
    "\n",
    "`layoutManager = LinearLayoutManager(this@InstituteListFragment.requireContext())` ustawia menadżera układu w postaci pionowej listy, który jest wykorzystywany przez RecyclerView."
   ]
  },
  {
   "cell_type": "markdown",
   "id": "2f9bdfad-919d-4265-8dc2-3efc6fe0584d",
   "metadata": {},
   "source": [
    "Kolejnym krokiem będzie odebranie danych we fragmencie `DetailInstituteFragment`."
   ]
  },
  {
   "cell_type": "code",
   "execution_count": null,
   "id": "d200acf1-5d39-4680-b676-8cb772232be1",
   "metadata": {},
   "outputs": [],
   "source": [
    "public class InstituteDetailFragment extends Fragment {\n",
    "\n",
    "    private FragmentInstituteDetailBinding binding;\n",
    "\n",
    "    @Override\n",
    "    public View onCreateView(@NonNull LayoutInflater inflater, ViewGroup container,\n",
    "                             Bundle savedInstanceState) {\n",
    "        binding = FragmentInstituteDetailBinding.inflate(inflater);\n",
    "\n",
    "        setupUi(getCurrentInstitute());\n",
    "\n",
    "        return binding.getRoot();\n",
    "    }\n",
    "\n",
    "\n",
    "    private Institute getCurrentInstitute() {\n",
    "        if (SDK_INT >= Build.VERSION_CODES.TIRAMISU) {\n",
    "            if (getArguments() != null)\n",
    "                return getArguments().getParcelable(\"institute\", Institute.class);\n",
    "            else return null;\n",
    "        } else\n",
    "            return StopDeprecationWarningUtil.parcelable(getArguments(), \"institute\", Institute.class);\n",
    "    }\n",
    "\n",
    "    private void setupUi(Institute currentInstitute) {\n",
    "        Glide.with(this)\n",
    "                .load(currentInstitute.getImageResource())\n",
    "                .into(binding.instituteImageDetail);\n",
    "\n",
    "        binding.titleDetail.setText(currentInstitute.getTitle());\n",
    "        binding.universityTitleDetail.setText(currentInstitute.getInfo());\n",
    "    }\n",
    "}"
   ]
  },
  {
   "cell_type": "markdown",
   "id": "f3a8ffe0-7538-4697-8180-636eb9d06148",
   "metadata": {},
   "source": [
    "W pliku `StopDeprecationWarningUtil` dodaję funkcję `parcelable`, zwracającą obiekt `Parcelable` dla `API` < 33."
   ]
  },
  {
   "cell_type": "code",
   "execution_count": null,
   "id": "bf5c8184-ed0b-4b1b-9d3f-1dd09164a421",
   "metadata": {},
   "outputs": [],
   "source": [
    "public final class StopDeprecationWarningUtil {\n",
    "    private StopDeprecationWarningUtil(){}\n",
    "\n",
    "    public static <T extends Parcelable> T parcelable(Bundle bundle, String key, Class<T> type) {\n",
    "        if (Build.VERSION.SDK_INT >= 33) {\n",
    "            return bundle.getParcelable(key, type);\n",
    "        } else {\n",
    "            @SuppressWarnings(\"deprecation\")\n",
    "            Parcelable parcelable = bundle.getParcelable(key);\n",
    "            return parcelable != null ? (T) parcelable : null;\n",
    "        }\n",
    "    }\n",
    "}"
   ]
  },
  {
   "cell_type": "markdown",
   "id": "155de3b8-61d9-4102-8cc4-3fcade4ec01d",
   "metadata": {},
   "source": [
    "## **GridLayoutManager**\n",
    "\n",
    "Zamiast `LinearLayoutManager` w naszym `RecyclerView`, zastosujemy `GridLayoutManager` - wykorzystamy go zmiany liczby kolumn przy zmianie orientacji ekranu. W widoku wertykalnym będziemy mieć jedną kolumnę, w horyzontalnym dwie - czyli dwa `CardView` obok siebie."
   ]
  },
  {
   "cell_type": "markdown",
   "id": "42007a85-13b2-4250-b69b-a42c9f22de40",
   "metadata": {},
   "source": [
    "<img src=\"https://media2.giphy.com/media/gooBI30gtU5fMkmCZu/giphy.gif?cid=790b7611df027999cb2a17ec28a3095ad5693e6e76c37990&rid=giphy.gif&ct=g\" width=\"200\" />"
   ]
  },
  {
   "cell_type": "markdown",
   "id": "20286154-c5b9-4188-bfab-03b578f77134",
   "metadata": {},
   "source": [
    "Aby to osiągnąć musimy zdefiniować zmienną, która będzie zmieniała wartość po zmianie orientacji urządzenia. Do folderu **values** dodajmy nowy plik o nazwie `integers.xml`"
   ]
  },
  {
   "cell_type": "code",
   "execution_count": null,
   "id": "0b6478db-02ab-42aa-87d2-892c43f94841",
   "metadata": {},
   "outputs": [],
   "source": [
    "<?xml version=\"1.0\" encoding=\"utf-8\"?>\n",
    "<resources>\n",
    "    <integer name=\"grid_column_count\">1</integer>\n",
    "</resources>"
   ]
  },
  {
   "cell_type": "markdown",
   "id": "43542c1b-52ee-4175-bf9e-f4bd281e2282",
   "metadata": {},
   "source": [
    "Chcemy teraz zdefiniować inną wartość dla zmiennej `grid_column_count` dla innej orientacji. Ponownie do folderu **values** dodajemy plik o nazwie `integers.xml` lecz tym razem w zakładce **Available qualifiers** wybieram **Orientation** i dodaję do wybranych kwalifikatorów. Następnie z rozwijanego menu wybieram **Landscape**."
   ]
  },
  {
   "cell_type": "code",
   "execution_count": null,
   "id": "02408622-9478-4547-8436-edc9740aaa4f",
   "metadata": {},
   "outputs": [],
   "source": [
    "<?xml version=\"1.0\" encoding=\"utf-8\"?>\n",
    "<resources>\n",
    "    <integer name=\"grid_column_count\">2</integer>\n",
    "</resources>"
   ]
  },
  {
   "cell_type": "markdown",
   "id": "f1d7912e-a5ce-4cf3-af29-c5ced5f20a7f",
   "metadata": {},
   "source": [
    "Mechanizm ten pozwala na przygotowanie różnych wersji plików w zależności od wybranego kwalifikatora.\n",
    "\n",
    "Powróćmy do `InstituteListFragment` i dodajmy zmienną przechowującą wartość `grid_column_count`"
   ]
  },
  {
   "cell_type": "code",
   "execution_count": null,
   "id": "20064d10-6c5f-4960-9c71-780c7dcd9f4d",
   "metadata": {},
   "outputs": [],
   "source": [
    "private int gridColumnCount = 1;\n",
    "\n",
    "@Override\n",
    "public void onCreate(@Nullable Bundle savedInstanceState) {\n",
    "    super.onCreate(savedInstanceState);\n",
    "    gridColumnCount = requireActivity().getResources().getInteger(R.integer.grid_column_count);\n",
    "}"
   ]
  },
  {
   "cell_type": "markdown",
   "id": "1b386208-fb24-4cdf-bda7-f316834d9319",
   "metadata": {},
   "source": [
    "Następnie ustawmy `LayoutManager`"
   ]
  },
  {
   "cell_type": "code",
   "execution_count": null,
   "id": "d50aca42-d3ed-4d0b-a8f2-f1949d002796",
   "metadata": {},
   "outputs": [],
   "source": [
    "public View onCreateView(@NonNull LayoutInflater inflater, ViewGroup container,\n",
    "                         Bundle savedInstanceState) {\n",
    "    binding = FragmentInstituteListBinding.inflate(inflater);\n",
    "\n",
    "    binding.recyclerView.setAdapter(new InstituteAdapter(this::navigateToDetailFragment));\n",
    "    binding.recyclerView.setLayoutManager(new GridLayoutManager(requireContext(), gridColumnCount));\n",
    "\n",
    "    return binding.getRoot();\n",
    "}"
   ]
  },
  {
   "cell_type": "markdown",
   "id": "61c14268-695c-4076-87d7-be3bea41c5b8",
   "metadata": {},
   "source": [
    "Konstruktor `GridLayoutManager` przyjmuje dwa parametry - `Context` oraz liczbę kolumn. Jako liczbę kolumn podajemy utworzoną `gridColumnCount`. "
   ]
  },
  {
   "cell_type": "markdown",
   "id": "9debf889-7081-4c93-bfdf-d2c0527c31e6",
   "metadata": {},
   "source": [
    "<img src=\"https://media2.giphy.com/media/gooBI30gtU5fMkmCZu/giphy.gif?cid=790b7611df027999cb2a17ec28a3095ad5693e6e76c37990&rid=giphy.gif&ct=g\" width=\"200\" />"
   ]
  },
  {
   "cell_type": "markdown",
   "id": "82d5183f-29e0-4fe4-aa76-7726d366c12b",
   "metadata": {},
   "source": [
    "## **Obsługa gestów**"
   ]
  },
  {
   "cell_type": "markdown",
   "id": "b7541290-b133-4f49-a5e5-53e0e5c5ab51",
   "metadata": {},
   "source": [
    "Dodajmy do aplikacji podstawową obsługę gestów. Chcemy mieć możliwość przestawienia elementów na liście (**drag & drop**) oraz usunięcia jednego elementu (**swipe to dismiss**). Posłużymy się klasą `ItemTouchHelper` ułatwiającą implementację odpowiedzi na zdarzania przez `RecyclerView`.\n",
    "\n",
    "W pierwszej kolejności chcemy ustalić przesuwając element w jakich kierunkach chcemy usunąć element. Dodajmy dwie metody zwracające liczbę kierunków dla *swipe* oraz *drag*"
   ]
  },
  {
   "cell_type": "code",
   "execution_count": null,
   "id": "4c8bfc8e-c8b2-488f-8d15-173878622781",
   "metadata": {},
   "outputs": [],
   "source": [
    "private int getSwipeDirs() {\n",
    "    if(gridColumnCount >1)\n",
    "        return 0;\n",
    "    else\n",
    "        return ItemTouchHelper.LEFT | ItemTouchHelper.RIGHT;\n",
    "}\n",
    "\n",
    "private int getDragDirs() {\n",
    "    return ItemTouchHelper.LEFT | ItemTouchHelper.RIGHT |\n",
    "            ItemTouchHelper.UP | ItemTouchHelper.DOWN;\n",
    "}"
   ]
  },
  {
   "cell_type": "markdown",
   "id": "d2ecb7d3-8bd4-4da5-a9c6-13979438b9a9",
   "metadata": {},
   "source": [
    "Uzależniamy możliwość usunięcia elementu listy od orientacji urządzenia - czyli od liczby wyświetlanych kolumn. Jeżeli znajdujemy się w orientacji **portrait** zmienna `swiepDirs` będzie miała wartość reprezentującą kierunki `LEFT` i `RIGHT`. Tutaj posługujemy się **alternatywą** (operator `or`)."
   ]
  },
  {
   "cell_type": "markdown",
   "id": "98ca0fce-5992-4ae4-98cb-25365d339127",
   "metadata": {},
   "source": [
    "W następnej kolejności zaimplementujemy samą funckjonalność, będziemy potrzebować instancję klasy `IteemTouchHelper`"
   ]
  },
  {
   "cell_type": "code",
   "execution_count": null,
   "id": "3ab60c4f-254c-48ab-8ef1-1ff131722daa",
   "metadata": {},
   "outputs": [],
   "source": [
    "val helper = ItemTouchHelper()"
   ]
  },
  {
   "cell_type": "markdown",
   "id": "f191759b-aaa0-427c-9e28-26a5646c67e7",
   "metadata": {},
   "source": [
    "Jako parametr konstruktora musimy podać `Callback` na którym będzie działać utworzony `ItemTouchHelper`. Tutaj chhcemy zaimplementować podstawową funkcjonalność, więc możemy skorzystać z uproszczonego klasy `SimpleCallback`. Jako parametr podajemy instancję klasy anonimowej "
   ]
  },
  {
   "cell_type": "code",
   "execution_count": null,
   "id": "4506c0be-c35c-4041-a595-b35ac27bb6ec",
   "metadata": {},
   "outputs": [],
   "source": [
    "val helper = ItemTouchHelper(ItemTouchHelper.SimpleCallback{\n",
    "\n",
    "})"
   ]
  },
  {
   "cell_type": "markdown",
   "id": "8e35a9ca-635f-4c08-85a6-16dab034a82b",
   "metadata": {},
   "source": [
    "Klasa `SimpleCallback` przyjmuje dwa parametry\n",
    "- `dragDirs` - określający kierunki przeciągnięcia elementu\n",
    "- `swipeDirs` - określający kierunki przemiecenia elementu"
   ]
  },
  {
   "cell_type": "code",
   "execution_count": null,
   "id": "1278da7f-50d8-40d0-b713-2738ce2d9b77",
   "metadata": {},
   "outputs": [],
   "source": [
    "val helper = ItemTouchHelper(object: ItemTouchHelper.SimpleCallback(\n",
    "    ItemTouchHelper.LEFT or ItemTouchHelper.RIGHT or\n",
    "            ItemTouchHelper.UP or ItemTouchHelper.DOWN,\n",
    "    swipeDirs\n",
    ")"
   ]
  },
  {
   "cell_type": "markdown",
   "id": "02cd421d-98cb-4da2-a679-a4c64d9ce669",
   "metadata": {},
   "source": [
    "Będziemy mieć możliwość przeciągania elementu w czterech kierunkach i wykonania **swipe to dismiss** tylko w dwóch kierunkach w orientacji wertykalnej."
   ]
  },
  {
   "cell_type": "markdown",
   "id": "79620712-39c7-490e-b78c-bbaee5d975aa",
   "metadata": {},
   "source": [
    "Mamy dwie możliwości, więc mamy również dwie metody do zaimplementowania"
   ]
  },
  {
   "cell_type": "code",
   "execution_count": null,
   "id": "6891945d-04b0-4aa6-a523-8f75d0367366",
   "metadata": {},
   "outputs": [],
   "source": [
    "override fun onMove(\n",
    "    recyclerView: RecyclerView,\n",
    "    viewHolder: RecyclerView.ViewHolder,\n",
    "    target: RecyclerView.ViewHolder\n",
    "): Boolean {\n",
    "}\n",
    "\n",
    "override fun onSwiped(viewHolder: RecyclerView.ViewHolder, direction: Int) {\n",
    "}"
   ]
  },
  {
   "cell_type": "markdown",
   "id": "288f2428-279e-4a6e-9376-08d132036280",
   "metadata": {},
   "source": [
    "W metodzie `onSwiped` chcemy dodać implementację usuwającą przemieciony element. W pierwszej kolejności usuniemy element o zadanej pozycji z naszej kolekcji `institutes`, następnie powiadomimy `Adapter` o usuniętym elemencie aby wykonać odświeżenie `RecyclerView`"
   ]
  },
  {
   "cell_type": "code",
   "execution_count": null,
   "id": "09c1d39e-e957-4e2d-a5fc-df527e9a14dd",
   "metadata": {},
   "outputs": [],
   "source": [
    "override fun onSwiped(viewHolder: RecyclerView.ViewHolder, direction: Int) {\n",
    "    institutes.removeAt(viewHolder.adapterPosition)\n",
    "    instituteAdapter.notifyItemRemoved(viewHolder.adapterPosition)\n",
    "}"
   ]
  },
  {
   "cell_type": "markdown",
   "id": "bd5f8516-4414-41f4-98e7-3c595fa3fac5",
   "metadata": {},
   "source": [
    "Musimy podczepić utworzony `ItemTouchHelper` pod `RecyclerView`"
   ]
  },
  {
   "cell_type": "code",
   "execution_count": null,
   "id": "56a372fd-9da3-4b99-ba82-00a6e8d35c59",
   "metadata": {},
   "outputs": [],
   "source": [
    "helper.attachToRecyclerView(recyclerView)"
   ]
  },
  {
   "cell_type": "markdown",
   "id": "9450ead9-a868-48c9-be37-dee5e3e87d9d",
   "metadata": {},
   "source": [
    "całość umieszczamy w funkcji pomocniczej"
   ]
  },
  {
   "cell_type": "code",
   "execution_count": null,
   "id": "4ba1ebb3-3d14-4aab-805e-27e3f2b5ae6e",
   "metadata": {},
   "outputs": [],
   "source": [
    "private void setupItemTouchHelper(int dragDirs, int swipeDirs) {\n",
    "    new ItemTouchHelper(new ItemTouchHelper.SimpleCallback(\n",
    "            dragDirs, swipeDirs) {\n",
    "        @Override\n",
    "        public boolean onMove(@NonNull RecyclerView recyclerView, @NonNull RecyclerView.ViewHolder viewHolder, @NonNull RecyclerView.ViewHolder target) {\n",
    "            return false;\n",
    "        }\n",
    "\n",
    "        @Override\n",
    "        public void onSwiped(@NonNull RecyclerView.ViewHolder viewHolder, int direction) {\n",
    "            DataProvider.institutes.remove(viewHolder.getAdapterPosition());\n",
    "            if (binding.recyclerView.getAdapter() != null)\n",
    "                binding.recyclerView.getAdapter().notifyItemRemoved(viewHolder.getAdapterPosition());\n",
    "        }\n",
    "    }).attachToRecyclerView(binding.recyclerView);\n",
    "}"
   ]
  },
  {
   "cell_type": "markdown",
   "id": "8fa7f3dd-cc80-4c06-a000-a2e3646d0966",
   "metadata": {},
   "source": [
    "dodajmy również funkcję konfigurującą `RecyclerView`"
   ]
  },
  {
   "cell_type": "code",
   "execution_count": null,
   "id": "3f3b9a9f-0e61-4641-aa5e-005c63a2f216",
   "metadata": {},
   "outputs": [],
   "source": [
    "private void setupRecyclerView() {\n",
    "    binding.recyclerView.setAdapter(new InstituteAdapter(this::navigateToDetailFragment));\n",
    "    binding.recyclerView.setLayoutManager(new GridLayoutManager(requireContext(), gridColumnCount));\n",
    "}"
   ]
  },
  {
   "cell_type": "markdown",
   "id": "4da8b542-3a70-49d8-8e8e-c5677b8a4520",
   "metadata": {},
   "source": [
    "Możemy przetestować funkcjonalność **swipe to dismiss**"
   ]
  },
  {
   "cell_type": "markdown",
   "id": "0d46270f-07b0-486a-9911-aa7abe0fd541",
   "metadata": {},
   "source": [
    "<img src=\"https://media2.giphy.com/media/h5Xh7V5IA5E3BV4ytL/giphy.gif?cid=790b7611412fedb227b91c2cb44067aa88f517a18214afde&rid=giphy.gif&ct=g\" width=\"200\" />"
   ]
  },
  {
   "cell_type": "markdown",
   "id": "355232a4-4dcb-4c2c-ad06-7d400656f7ee",
   "metadata": {},
   "source": [
    "Dodajmy implementację metody `onMove`. Musimy zdefiniować dwie pozycje, który element przesuwamy i na które miejsce. Zdefiniujmy dwie zmienne"
   ]
  },
  {
   "cell_type": "code",
   "execution_count": null,
   "id": "88ee2cb5-7806-4a39-bfa9-65fff6239834",
   "metadata": {},
   "outputs": [],
   "source": [
    "val from = viewHolder.adapterPosition\n",
    "val to = target.adapterPosition"
   ]
  },
  {
   "cell_type": "markdown",
   "id": "385f6740-6944-466d-9a6f-0f7aa3a10fc5",
   "metadata": {},
   "source": [
    "`ViewHolder` odnosi się do elemtu na którym wykonujemy czynność, `target` jest elementem docelowym. Następnie wykonujemy metodę `swap` na naszej kolekcji i powiadamiamy `Adapter` o wykonanej operacji."
   ]
  },
  {
   "cell_type": "code",
   "execution_count": null,
   "id": "7643317e-5955-4041-9ebb-48760e1f2cce",
   "metadata": {},
   "outputs": [],
   "source": [
    "override fun onMove(\n",
    "    recyclerView: RecyclerView,\n",
    "    viewHolder: RecyclerView.ViewHolder,\n",
    "    target: RecyclerView.ViewHolder\n",
    "): Boolean {\n",
    "    val from = viewHolder.adapterPosition\n",
    "    val to = target.adapterPosition\n",
    "\n",
    "    Collections.swap(institutes, from, to)\n",
    "    instituteAdapter.notifyItemMoved(from, to)\n",
    "    return true\n",
    "}"
   ]
  },
  {
   "cell_type": "markdown",
   "id": "945befb4-739f-4488-b908-5087e0bf166e",
   "metadata": {},
   "source": [
    "Metoda `onMove` zwraca `boolean` w zależności od powodzenia operacji. Tutaj, dla prostoty, zawsze zwrócimy `true`. Możemy przetestować funkcjonalność."
   ]
  },
  {
   "cell_type": "code",
   "execution_count": null,
   "id": "581f0910-82b4-44d1-9154-9665c2885f47",
   "metadata": {},
   "outputs": [],
   "source": [
    "public class InstituteListFragment extends Fragment {\n",
    "\n",
    "    private FragmentInstituteListBinding binding;\n",
    "\n",
    "    private int gridColumnCount = 1;\n",
    "\n",
    "    @Override\n",
    "    public void onCreate(@Nullable Bundle savedInstanceState) {\n",
    "        super.onCreate(savedInstanceState);\n",
    "        gridColumnCount = requireActivity().getResources().getInteger(R.integer.grid_column_count);\n",
    "    }\n",
    "\n",
    "    @Override\n",
    "    public View onCreateView(@NonNull LayoutInflater inflater, ViewGroup container,\n",
    "                             Bundle savedInstanceState) {\n",
    "        binding = FragmentInstituteListBinding.inflate(inflater);\n",
    "\n",
    "        setupRecyclerView();\n",
    "        setupItemTouchHelper(getDragDirs(), getSwipeDirs());\n",
    "\n",
    "        return binding.getRoot();\n",
    "    }\n",
    "\n",
    "    private void setupRecyclerView() {\n",
    "        binding.recyclerView.setAdapter(new InstituteAdapter(this::navigateToDetailFragment));\n",
    "        binding.recyclerView.setLayoutManager(new GridLayoutManager(requireContext(), gridColumnCount));\n",
    "    }\n",
    "\n",
    "    private int getSwipeDirs() {\n",
    "        if(gridColumnCount >1)\n",
    "            return 0;\n",
    "        else\n",
    "            return ItemTouchHelper.LEFT | ItemTouchHelper.RIGHT;\n",
    "    }\n",
    "\n",
    "    private int getDragDirs() {\n",
    "        return ItemTouchHelper.LEFT | ItemTouchHelper.RIGHT |\n",
    "                ItemTouchHelper.UP | ItemTouchHelper.DOWN;\n",
    "    }\n",
    "\n",
    "    private void setupItemTouchHelper(int dragDirs, int swipeDirs) {\n",
    "        new ItemTouchHelper(new ItemTouchHelper.SimpleCallback(\n",
    "                dragDirs, swipeDirs) {\n",
    "            @Override\n",
    "            public boolean onMove(@NonNull RecyclerView recyclerView, @NonNull RecyclerView.ViewHolder viewHolder, @NonNull RecyclerView.ViewHolder target) {\n",
    "                int from = viewHolder.getAdapterPosition();\n",
    "                int to = target.getAdapterPosition();\n",
    "\n",
    "                Collections.swap(DataProvider.institutes, from, to);\n",
    "                if (recyclerView.getAdapter() != null)\n",
    "                    recyclerView.getAdapter().notifyItemMoved(from, to);\n",
    "                return true;\n",
    "            }\n",
    "\n",
    "            @Override\n",
    "            public void onSwiped(@NonNull RecyclerView.ViewHolder viewHolder, int direction) {\n",
    "                DataProvider.institutes.remove(viewHolder.getAdapterPosition());\n",
    "                if (binding.recyclerView.getAdapter() != null)\n",
    "                    binding.recyclerView.getAdapter().notifyItemRemoved(viewHolder.getAdapterPosition());\n",
    "            }\n",
    "        }).attachToRecyclerView(binding.recyclerView);\n",
    "    }\n",
    "\n",
    "    private void navigateToDetailFragment(Institute institute) {\n",
    "        NavDirections action = InstituteListFragmentDirections.actionInstituteListFragmentToInstituteDetailFragment(institute);\n",
    "        NavHostFragment.findNavController(this).navigate(action);\n",
    "    }\n",
    "}"
   ]
  },
  {
   "cell_type": "markdown",
   "id": "684a214c-fc98-44c6-b2fa-e69d7576eb69",
   "metadata": {},
   "source": [
    "<img src=\"https://media2.giphy.com/media/uwDAUUAjLZnyKqLg3J/giphy.gif?cid=790b76110bdb83e20fb638b9fb5150422cf100e384687bcf&rid=giphy.gif&ct=g\" width=\"200\" />"
   ]
  }
 ],
 "metadata": {
  "kernelspec": {
   "display_name": "Kotlin",
   "language": "kotlin",
   "name": "kotlin"
  },
  "language_info": {
   "codemirror_mode": "text/x-kotlin",
   "file_extension": ".kt",
   "mimetype": "text/x-kotlin",
   "name": "kotlin",
   "nbconvert_exporter": "",
   "pygments_lexer": "kotlin",
   "version": "1.8.0-RC"
  }
 },
 "nbformat": 4,
 "nbformat_minor": 5
}
