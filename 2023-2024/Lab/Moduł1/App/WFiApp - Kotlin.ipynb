{
 "cells": [
  {
   "cell_type": "markdown",
   "id": "f1d92a5d-8a98-464a-9446-66502342e074",
   "metadata": {},
   "source": [
    "# WFiApp"
   ]
  },
  {
   "cell_type": "markdown",
   "id": "f7edab87-a836-4d4d-a053-6c4ab1a8419f",
   "metadata": {},
   "source": [
    "Aplikacja będzie wykorzystywać `RecyclerView`, gdzie każdym elementem na liście będzie `CardView`. Dodamy również podstawową obsługę gestów oraz wykorzystamy `Intent` aby otworzyć nową aktywność w której zaprezentowany będzie bardziej szczegółowy opis wybranego elementu listy."
   ]
  },
  {
   "cell_type": "markdown",
   "id": "029fb685-e0ec-4e0d-a191-7584ef20cf4c",
   "metadata": {},
   "source": [
    "<table><tr><td><img src=\"https://media2.giphy.com/media/gooBI30gtU5fMkmCZu/giphy.gif?cid=790b7611df027999cb2a17ec28a3095ad5693e6e76c37990&rid=giphy.gif&ct=g\" width=\"200\" /></td><td><img src=\"https://media2.giphy.com/media/h5Xh7V5IA5E3BV4ytL/giphy.gif?cid=790b7611412fedb227b91c2cb44067aa88f517a18214afde&rid=giphy.gif&ct=g\" width=\"150\" /></td><td><img src=\"https://media2.giphy.com/media/uwDAUUAjLZnyKqLg3J/giphy.gif?cid=790b76110bdb83e20fb638b9fb5150422cf100e384687bcf&rid=giphy.gif&ct=g\" width=\"150\" /></td></tr></table>"
   ]
  },
  {
   "cell_type": "markdown",
   "id": "c9542f38-6429-4046-b585-933fc9a0ae9f",
   "metadata": {},
   "source": [
    "W pierwszym kroku skonfigurujmy zależności `gradle`"
   ]
  },
  {
   "cell_type": "code",
   "execution_count": null,
   "id": "25f5a695-5fc3-4166-9279-d285ac19ab5b",
   "metadata": {},
   "outputs": [],
   "source": [
    "android {\n",
    "    ...\n",
    "    buildFeatures {\n",
    "        viewBinding = true\n",
    "    }\n",
    "}"
   ]
  },
  {
   "cell_type": "code",
   "execution_count": null,
   "id": "78c66309-3606-4d9f-8ce9-65a425f5f4dc",
   "metadata": {},
   "outputs": [],
   "source": [
    "implementation 'androidx.cardview:cardview:1.0.0'"
   ]
  },
  {
   "cell_type": "markdown",
   "id": "df4abfd1-0be1-4da6-9a16-78614426f590",
   "metadata": {},
   "source": [
    "`CardView` jest implementacją wzorca **Material Design**, który pozwala na tworzenie kart o określonym kształcie i stylu, które prezentują informacje w sposób łatwy do odczytania i przyjazny dla użytkownika. Jest to kontener, który może zawierać różne elementy, takie jak tekst, obrazy, przyciski, itp. Automatycznie przypisuje cień i tło do elementów znajdujących się w nim, co nadaje im wizualny efekt \"wysunięcia\" z tła.\n",
    "\n",
    "Jest często używany w połączeniu z `RecyclerView`, aby tworzyć listy elementów w interfejsie użytkownika."
   ]
  },
  {
   "cell_type": "markdown",
   "id": "22bfc2f0-8a3b-4737-91c8-4b0d83fd2857",
   "metadata": {},
   "source": [
    "Będziemy tworzyć aplikacje w standardzie *master-detail*\n",
    "- *master* - widok listy `RecyclerView`, zawierający tylko podstawowe informacje o elementach\n",
    "- *detail* - widok szczegółowy elementu, zawierający pełne informacje o klikniętym elemencie\n",
    "\n",
    "Po wybraniu elementu na fragmencie z listą (*master*), użytkownik zostanie przeniesiony do drugiego fragmentu (*detail*) - przekażemy pomiędzy fragmentami wszystkie dane dotyczące wybranego elementu. W tym celu wykorzystamy adnotację `@Parcelize`"
   ]
  },
  {
   "cell_type": "code",
   "execution_count": null,
   "id": "dd1e2f52-9530-49a8-87cb-b186852e05c9",
   "metadata": {},
   "outputs": [],
   "source": [
    "plugins {\n",
    "    id 'com.android.application'\n",
    "    id 'org.jetbrains.kotlin.android'\n",
    "    id 'kotlin-parcelize'\n",
    "}"
   ]
  },
  {
   "cell_type": "markdown",
   "id": "34a676ef-deb7-4ff6-b3bd-cb739e4a2b05",
   "metadata": {},
   "source": [
    "W projekcie wykorzystamy również grafiki (zdjęcia instytrutów), kktóre umieścimy w kontenerach `ImageView` za pomocą biblioteki `Glide`"
   ]
  },
  {
   "cell_type": "code",
   "execution_count": null,
   "id": "cb932f60-3236-4cb5-9c28-7a58a1f9579b",
   "metadata": {},
   "outputs": [],
   "source": [
    "implementation 'com.github.bumptech.glide:glide:4.13.0'\n",
    "annotationProcessor 'com.github.bumptech.glide:compiler:4.13.0'"
   ]
  },
  {
   "cell_type": "markdown",
   "id": "1f42fa4b-0dbd-483d-beb8-55cc6031e7d8",
   "metadata": {},
   "source": [
    "Biblioteka `Glide` to popularna biblioteka do ładowania obrazów. Umożliwia łatwe i wydajne pobieranie obrazów z różnych źródeł (np. z internetu, pamięci podręcznej, zasobów aplikacji) i ich wyświetlanie w `ImageView`. Obsługuje wiele formatów obrazów, w tym `JPEG`, `PNG` i `GIF`, a także pozwala na skalowanie, przycinanie, obracanie i aplikowanie filtrów do obrazów."
   ]
  },
  {
   "cell_type": "markdown",
   "id": "a766c776-8a88-4d4f-8f60-d307e576a1da",
   "metadata": {},
   "source": [
    "Dodajmy również `Jetpack Navigation`"
   ]
  },
  {
   "cell_type": "code",
   "execution_count": null,
   "id": "ef42fb16-4ccc-40e7-99ab-0663b05e35ee",
   "metadata": {},
   "outputs": [],
   "source": [
    "def nav_version = \"2.5.3\"\n",
    "implementation \"androidx.navigation:navigation-fragment:$nav_version\"\n",
    "implementation \"androidx.navigation:navigation-ui:$nav_version\""
   ]
  },
  {
   "cell_type": "markdown",
   "id": "cf2167af-fb63-4342-993f-643276a574d2",
   "metadata": {},
   "source": [
    "Oraz plugin"
   ]
  },
  {
   "cell_type": "code",
   "execution_count": null,
   "id": "56551632-a8be-4ba2-922b-347926aa5054",
   "metadata": {},
   "outputs": [],
   "source": [
    "plugins {\n",
    "    id 'com.android.application'\n",
    "    id 'androidx.navigation.safeargs'\n",
    "}"
   ]
  },
  {
   "cell_type": "markdown",
   "id": "167f9590-8840-47cf-8311-ede5859a30e4",
   "metadata": {},
   "source": [
    "Następnie w pliku `build.gradle (Project)` dodajemy"
   ]
  },
  {
   "cell_type": "code",
   "execution_count": null,
   "id": "29c792bf-46e3-46d9-a96c-c8e260d96bef",
   "metadata": {},
   "outputs": [],
   "source": [
    "buildscript { // przed blokiem plugins\n",
    "    repositories {\n",
    "        google()\n",
    "    }\n",
    "    dependencies {\n",
    "        def nav_version = \"2.5.3\"\n",
    "        classpath \"androidx.navigation:navigation-safe-args-gradle-plugin:$nav_version\"\n",
    "    }\n",
    "}"
   ]
  },
  {
   "cell_type": "markdown",
   "id": "041cfa8e-5428-469f-abe9-0f9048c8a5ca",
   "metadata": {
    "tags": []
   },
   "source": [
    "## **Nawigacja**\n",
    "\n",
    "Dodajmy dwa fragmenty - `InstituteListFragment` i `InstituteDetailFragment`"
   ]
  },
  {
   "cell_type": "code",
   "execution_count": null,
   "id": "39fea149-1257-46be-93f1-bcfb31268d5b",
   "metadata": {},
   "outputs": [],
   "source": [
    "class InstituteListFragment : Fragment() {\n",
    "    \n",
    "    private lateinit var binding: FragmentInstituteListBinding\n",
    "\n",
    "    override fun onCreateView(\n",
    "        inflater: LayoutInflater, container: ViewGroup?,\n",
    "        savedInstanceState: Bundle?\n",
    "    ): View {\n",
    "        binding = FragmentInstituteListBinding.inflate(inflater)\n",
    "        return binding.root\n",
    "    }\n",
    "}"
   ]
  },
  {
   "cell_type": "code",
   "execution_count": null,
   "id": "8d3e040c-85b5-4e3d-806b-295099873678",
   "metadata": {},
   "outputs": [],
   "source": [
    "class InstituteDetailFragment : Fragment() {\n",
    "\n",
    "    private lateinit var binding: FragmentInstituteDetailBinding\n",
    "\n",
    "    override fun onCreateView(\n",
    "        inflater: LayoutInflater, container: ViewGroup?,\n",
    "        savedInstanceState: Bundle?\n",
    "    ): View {\n",
    "        binding = FragmentInstituteDetailBinding.inflate(inflater)\n",
    "        return binding.root\n",
    "    }\n",
    "}"
   ]
  },
  {
   "cell_type": "markdown",
   "id": "bf9afb0c-5a32-463d-9111-ff4384afde93",
   "metadata": {},
   "source": [
    "Dodajmy nawigację"
   ]
  },
  {
   "cell_type": "code",
   "execution_count": null,
   "id": "bd559d67-c483-41eb-bfe9-e96e7da85c4c",
   "metadata": {},
   "outputs": [],
   "source": [
    "<?xml version=\"1.0\" encoding=\"utf-8\"?>\n",
    "<navigation xmlns:android=\"http://schemas.android.com/apk/res/android\"\n",
    "    xmlns:app=\"http://schemas.android.com/apk/res-auto\"\n",
    "    xmlns:tools=\"http://schemas.android.com/tools\"\n",
    "    android:id=\"@+id/navigation\"\n",
    "    app:startDestination=\"@id/instituteListFragment\">\n",
    "\n",
    "    <fragment\n",
    "        android:id=\"@+id/instituteListFragment\"\n",
    "        android:name=\"com.example.wfiappkotlin.ui.fragments.institutelist.InstituteListFragment\"\n",
    "        android:label=\"fragment_institute_list\"\n",
    "        tools:layout=\"@layout/fragment_institute_list\" >\n",
    "        <action\n",
    "            android:id=\"@+id/action_instituteListFragment_to_instituteDetailFragment\"\n",
    "            app:destination=\"@id/instituteDetailFragment\" />\n",
    "    </fragment>\n",
    "    <fragment\n",
    "        android:id=\"@+id/instituteDetailFragment\"\n",
    "        android:name=\"com.example.wfiappkotlin.ui.fragments.institutedetail.InstituteDetailFragment\"\n",
    "        android:label=\"fragment_institute_detail\"\n",
    "        tools:layout=\"@layout/fragment_institute_detail\" />\n",
    "</navigation>"
   ]
  },
  {
   "cell_type": "markdown",
   "id": "4561ad3e-47c4-4b45-bcc8-51a60439d438",
   "metadata": {},
   "source": [
    "Będziemy posiadać tylko jedną akcję - przejście z *master* do *detail*"
   ]
  },
  {
   "cell_type": "markdown",
   "id": "4056b7d1-840a-49cb-b560-62a1ff6049b8",
   "metadata": {},
   "source": [
    "### **Fragmenty**"
   ]
  },
  {
   "cell_type": "markdown",
   "id": "205e176a-2494-408a-88b2-8ab1dec60289",
   "metadata": {},
   "source": [
    "Layout listy będzie zawierał tylko `RecyclerView`"
   ]
  },
  {
   "cell_type": "markdown",
   "id": "7b0e64ff-d4d7-4fcd-a9d1-66c79e438b51",
   "metadata": {},
   "source": [
    "<RelativeLayout xmlns:android=\"http://schemas.android.com/apk/res/android\"\n",
    "    xmlns:tools=\"http://schemas.android.com/tools\"\n",
    "    android:layout_width=\"match_parent\"\n",
    "    android:layout_height=\"match_parent\"\n",
    "    android:paddingBottom=\"@dimen/activity_vertical_margin\"\n",
    "    android:paddingLeft=\"@dimen/activity_horizontal_margin\"\n",
    "    android:paddingRight=\"@dimen/activity_horizontal_margin\"\n",
    "    android:paddingTop=\"@dimen/activity_vertical_margin\"\n",
    "    android:background=\"#1111\"\n",
    "    tools:context=\".MainActivity\">"
   ]
  },
  {
   "cell_type": "code",
   "execution_count": null,
   "id": "cd200ed4-014a-4702-8694-d8b8cf2dc99d",
   "metadata": {},
   "outputs": [],
   "source": [
    "<?xml version=\"1.0\" encoding=\"utf-8\"?>\n",
    "<FrameLayout xmlns:android=\"http://schemas.android.com/apk/res/android\"\n",
    "    xmlns:tools=\"http://schemas.android.com/tools\"\n",
    "    android:layout_width=\"match_parent\"\n",
    "    android:layout_height=\"match_parent\"\n",
    "    tools:context=\".ui.fragments.institutelist.InstituteListFragment\">\n",
    "\n",
    "    <androidx.recyclerview.widget.RecyclerView\n",
    "        android:id=\"@+id/recyclerView\"\n",
    "        android:scrollbars=\"vertical\"\n",
    "        android:layout_width=\"match_parent\"\n",
    "        android:layout_height=\"match_parent\"\n",
    "        android:layout_margin=\"16dp\"/>\n",
    "\n",
    "</FrameLayout>"
   ]
  },
  {
   "cell_type": "markdown",
   "id": "8ffbefdb-f4e5-43e9-851b-b21740135c1b",
   "metadata": {},
   "source": [
    "Dodajmy layout pojedynczego elementu listy `RecyclerView` - tworzymy plik **recyclerview_item** w katalogu **res/layout**"
   ]
  },
  {
   "cell_type": "code",
   "execution_count": null,
   "id": "466cb766-3c30-438e-85d7-e0696657e6c8",
   "metadata": {},
   "outputs": [],
   "source": [
    "<?xml version=\"1.0\" encoding=\"utf-8\"?>\n",
    "<androidx.cardview.widget.CardView xmlns:android=\"http://schemas.android.com/apk/res/android\"\n",
    "    android:layout_width=\"match_parent\"\n",
    "    android:layout_height=\"wrap_content\"\n",
    "    xmlns:app=\"http://schemas.android.com/apk/res-auto\"\n",
    "    android:layout_margin=\"16dp\"\n",
    "    app:cardBackgroundColor=\"#0b5294\"\n",
    "    app:cardCornerRadius=\"30dp\"\n",
    "    app:cardElevation=\"15dp\">\n",
    "\n",
    "    <RelativeLayout\n",
    "        android:layout_width=\"match_parent\"\n",
    "        android:layout_height=\"wrap_content\">\n",
    "\n",
    "        <ImageView\n",
    "            android:id=\"@+id/instituteImage\"\n",
    "            android:layout_width=\"match_parent\"\n",
    "            android:layout_height=\"wrap_content\"\n",
    "            android:adjustViewBounds=\"true\"\n",
    "            android:contentDescription=\"@string/iv_desc\" />\n",
    "\n",
    "        <TextView\n",
    "            android:id=\"@+id/title\"\n",
    "            style=\"@style/InstituteTitle\"\n",
    "            android:layout_width=\"wrap_content\"\n",
    "            android:layout_height=\"wrap_content\"\n",
    "            android:padding=\"16dp\"\n",
    "            android:layout_alignBottom=\"@id/instituteImage\"\n",
    "            android:theme=\"@style/ThemeOverlay.AppCompat.Dark\"\n",
    "            android:text=\"@string/title_placeholder\" />\n",
    "\n",
    "        <TextView\n",
    "            android:id=\"@+id/cardTitle\"\n",
    "            style=\"@style/InstituteDetailText\"\n",
    "            android:layout_width=\"wrap_content\"\n",
    "            android:layout_height=\"wrap_content\"\n",
    "            android:layout_below=\"@id/instituteImage\"\n",
    "            android:textColor=\"@android:color/white\"\n",
    "            android:padding=\"16dp\"\n",
    "            android:text=\"@string/title_placeholder\" />\n",
    "\n",
    "        <TextView\n",
    "            android:id=\"@+id/subTitle\"\n",
    "            style=\"@style/InstituteDetailText\"\n",
    "            android:layout_width=\"wrap_content\"\n",
    "            android:layout_height=\"wrap_content\"\n",
    "            android:layout_below=\"@id/cardTitle\"\n",
    "            android:padding=\"16dp\"\n",
    "            android:textColor=\"@android:color/white\"\n",
    "            android:text=\"@string/institute_placeholder\" />\n",
    "\n",
    "    </RelativeLayout>\n",
    "</androidx.cardview.widget.CardView>"
   ]
  },
  {
   "cell_type": "markdown",
   "id": "314e6ca4-fe86-483e-a23b-253045c63d76",
   "metadata": {},
   "source": [
    "Następnie dodajmy layout `InstytuteDetailFragment`"
   ]
  },
  {
   "cell_type": "code",
   "execution_count": null,
   "id": "0b74ca73-4fd0-4440-96a2-3e52063a5fe6",
   "metadata": {},
   "outputs": [],
   "source": [
    "<?xml version=\"1.0\" encoding=\"utf-8\"?>\n",
    "<ScrollView xmlns:android=\"http://schemas.android.com/apk/res/android\"\n",
    "    android:layout_width=\"match_parent\"\n",
    "    android:layout_height=\"match_parent\">\n",
    "\n",
    "    <RelativeLayout xmlns:tools=\"http://schemas.android.com/tools\"\n",
    "        android:layout_width=\"match_parent\"\n",
    "        android:layout_height=\"wrap_content\"\n",
    "        tools:context=\".DetailActivity\">\n",
    "\n",
    "        <ImageView\n",
    "            android:id=\"@+id/instituteImageDetail\"\n",
    "            android:layout_width=\"match_parent\"\n",
    "            android:layout_height=\"wrap_content\"\n",
    "            android:adjustViewBounds=\"true\"\n",
    "            android:contentDescription=\"@string/iv_desc\" />\n",
    "\n",
    "        <TextView\n",
    "            android:id=\"@+id/titleDetail\"\n",
    "            style=\"@style/InstituteDetailTitle\"\n",
    "            android:layout_width=\"wrap_content\"\n",
    "            android:layout_height=\"wrap_content\"\n",
    "            android:layout_alignBottom=\"@id/instituteImageDetail\"\n",
    "            android:padding=\"16dp\"\n",
    "            android:text=\"@string/title_placeholder\"\n",
    "            android:theme=\"@style/ThemeOverlay.AppCompat.Dark\" />\n",
    "\n",
    "        <TextView\n",
    "            android:id=\"@+id/universityTitleDetail\"\n",
    "            style=\"@style/InstituteDetailText\"\n",
    "            android:layout_width=\"wrap_content\"\n",
    "            android:layout_height=\"wrap_content\"\n",
    "            android:layout_below=\"@id/instituteImageDetail\"\n",
    "            android:padding=\"16dp\"\n",
    "            android:text=\"@string/institute_placeholder\"\n",
    "            android:textColor=\"?android:textColorSecondary\" />\n",
    "\n",
    "        <TextView\n",
    "            android:id=\"@+id/genericTextDetail\"\n",
    "            style=\"@style/InstituteDetailText\"\n",
    "            android:layout_width=\"wrap_content\"\n",
    "            android:layout_height=\"wrap_content\"\n",
    "            android:layout_below=\"@id/universityTitleDetail\"\n",
    "            android:padding=\"16dp\"\n",
    "            android:text=\"@string/subtitle_detail_text\" />\n",
    "\n",
    "    </RelativeLayout>\n",
    "</ScrollView>"
   ]
  },
  {
   "cell_type": "markdown",
   "id": "d7f6cfd0-157c-46a6-9c47-b2f1bd916d62",
   "metadata": {},
   "source": [
    "Na koniec dodajmy nawiogację do layoutu głównej aktywności"
   ]
  },
  {
   "cell_type": "code",
   "execution_count": null,
   "id": "cbd24e12-5a8c-494e-afb6-c65da6931b89",
   "metadata": {},
   "outputs": [],
   "source": [
    "<?xml version=\"1.0\" encoding=\"utf-8\"?>\n",
    "<androidx.constraintlayout.widget.ConstraintLayout xmlns:android=\"http://schemas.android.com/apk/res/android\"\n",
    "    xmlns:app=\"http://schemas.android.com/apk/res-auto\"\n",
    "    xmlns:tools=\"http://schemas.android.com/tools\"\n",
    "    android:layout_width=\"match_parent\"\n",
    "    android:layout_height=\"match_parent\"\n",
    "    tools:context=\".MainActivity\">\n",
    "\n",
    "    <androidx.fragment.app.FragmentContainerView\n",
    "        android:id=\"@+id/fragmentContainerView\"\n",
    "        android:name=\"androidx.navigation.fragment.NavHostFragment\"\n",
    "        android:layout_width=\"409dp\"\n",
    "        android:layout_height=\"729dp\"\n",
    "        app:defaultNavHost=\"true\"\n",
    "        app:layout_constraintBottom_toBottomOf=\"parent\"\n",
    "        app:layout_constraintEnd_toEndOf=\"parent\"\n",
    "        app:layout_constraintStart_toStartOf=\"parent\"\n",
    "        app:layout_constraintTop_toTopOf=\"parent\"\n",
    "        app:navGraph=\"@navigation/navigation\" />\n",
    "</androidx.constraintlayout.widget.ConstraintLayout>"
   ]
  },
  {
   "cell_type": "markdown",
   "id": "bea84fef-46ee-4ed6-9c06-606fef74aefb",
   "metadata": {},
   "source": [
    "## **Model danych**\n",
    "\n",
    "Dodajmy klasę reprezentującą model danych"
   ]
  },
  {
   "cell_type": "code",
   "execution_count": null,
   "id": "a19c9b5e-4974-48b4-9ec2-168eb2fd8a78",
   "metadata": {},
   "outputs": [],
   "source": [
    "data class Institute(\n",
    "    val title: String, \n",
    "    val info: String, \n",
    "    val imageResource: Int // identyfikatory obrazów są przechowywane jako int\n",
    ")"
   ]
  },
  {
   "cell_type": "markdown",
   "id": "3ab1a264-af42-4abd-b9a0-535e110b49fb",
   "metadata": {},
   "source": [
    "## **Utworzenie listy `Institute` - `DataProvider`**\n",
    "\n",
    "Listę wszystkich informacji o instytutach (i biblioteki) będziemy przechowywać w tabelach `<array>` w pliku `strings.xml`"
   ]
  },
  {
   "cell_type": "code",
   "execution_count": null,
   "id": "338a5a41-c344-42a3-b35d-a1dc2b8f0b7b",
   "metadata": {},
   "outputs": [],
   "source": [
    "    <string-array name=\"institute_titles\">\n",
    "        <item>Institute of Astronomy</item>\n",
    "        <item>Institute of Experimental Physics</item>\n",
    "        <item>Institute of Theoretical Physics</item>\n",
    "        <item>Library</item>\n",
    "    </string-array>\n",
    "\n",
    "    <string-array name=\"institute_info\">\n",
    "        <item>Welcome to Institute of Astronomy!</item>\n",
    "        <item>Welcome to Institute of Experimental Physics!</item>\n",
    "        <item>Welcome to Institute of Theoretical Physics!</item>\n",
    "        <item>Welcome to Library!</item>\n",
    "    </string-array>\n",
    "\n",
    "\n",
    "    <array name=\"institute_images\">\n",
    "        <item>@drawable/img_ia</item>\n",
    "        <item>@drawable/img_ifd</item>\n",
    "        <item>@drawable/img_ift</item>\n",
    "        <item>@drawable/img_bib</item>\n",
    "    </array>"
   ]
  },
  {
   "cell_type": "markdown",
   "id": "8bccc9bd-2155-4180-95a1-ee5b2e63d836",
   "metadata": {},
   "source": [
    "Na podstawie tych informacji chcemy stworzyć kolekcję zawierającą wszystkie `Institute`. W obiekcie `DataProvider` dodajmy "
   ]
  },
  {
   "cell_type": "code",
   "execution_count": null,
   "id": "8be9e325-04d7-405e-a79a-4227f764ea4a",
   "metadata": {},
   "outputs": [],
   "source": [
    "val institutes: ArrayList<Institute> = ArrayList()"
   ]
  },
  {
   "cell_type": "markdown",
   "id": "404e0230-acc9-4408-993e-970a4ccb50b8",
   "metadata": {},
   "source": [
    "Dodajmy metodę `initializeData` - zainicjujemy dane w metodzie `onCreate` głównej aktywności."
   ]
  },
  {
   "cell_type": "code",
   "execution_count": null,
   "id": "57a10498-6d8e-4b64-a386-a8b930fdaa54",
   "metadata": {},
   "outputs": [],
   "source": [
    "fun getInstituteData(activity: Activity){"
   ]
  },
  {
   "cell_type": "markdown",
   "id": "07937f71-b73d-44af-91ba-bbb9c55ae3ab",
   "metadata": {},
   "source": [
    "Wpierw utworzymy dwie tablice `String` do przechowania danych z tablic `institute_titles` oraz `institute_info`"
   ]
  },
  {
   "cell_type": "code",
   "execution_count": null,
   "id": "f77d2ec2-adfc-4f70-9c9d-d1b423b5227a",
   "metadata": {},
   "outputs": [],
   "source": [
    "val instituteList = activity.resources.getStringArray(R.array.institute_titles)\n",
    "val instituteInfo = activity.resources.getStringArray(R.array.institute_info)"
   ]
  },
  {
   "cell_type": "markdown",
   "id": "486df8a7-ff1e-41ec-9388-9719bc209fcd",
   "metadata": {},
   "source": [
    "Aby przechować zasoby (odnośniki do plików graficznych z tabeli `institute_images`) skorzystamy z `TypedArray` - jest to kontener do przechowaywania wartości `Resources`."
   ]
  },
  {
   "cell_type": "code",
   "execution_count": null,
   "id": "5c30c1b2-0b57-4646-b749-a79b40f322c6",
   "metadata": {},
   "outputs": [],
   "source": [
    "val instituteImageResources = activity.resources.obtainTypedArray(R.array.institute_images)"
   ]
  },
  {
   "cell_type": "markdown",
   "id": "e87daa05-76a9-403f-9431-3f9e72d9aa7d",
   "metadata": {},
   "source": [
    "Następnie tworzymy listę "
   ]
  },
  {
   "cell_type": "code",
   "execution_count": null,
   "id": "7293715a-e4a1-4e7e-968f-46e141cafe27",
   "metadata": {},
   "outputs": [],
   "source": [
    "for (i in instituteList.indices) institutes.add(\n",
    "    Institute(\n",
    "        instituteList[i],\n",
    "        instituteInfo[i],\n",
    "        instituteImageResources.getResourceId(i, 0)\n",
    "    )\n",
    ")"
   ]
  },
  {
   "cell_type": "markdown",
   "id": "f4f9e4d8-ad20-41f1-b376-f4e295917149",
   "metadata": {},
   "source": [
    "Ostatnim elementem jest wywołanie metody `recycle` na tablicy `TypedArray`. Pozwala ona na odtworzenie tablicy, która może zostać ponownie wykorzystana."
   ]
  },
  {
   "cell_type": "code",
   "execution_count": null,
   "id": "96813203-b381-43d0-87f8-252c30db6849",
   "metadata": {},
   "outputs": [],
   "source": [
    "fun getInstituteData(activity: Activity){\n",
    "    val instituteList = activity.resources.getStringArray(R.array.institute_titles)\n",
    "    val instituteInfo = activity.resources.getStringArray(R.array.institute_info)\n",
    "    val instituteImageResources = activity.resources.obtainTypedArray(R.array.institute_images)\n",
    "\n",
    "    for (i in instituteList.indices) institutes.add(\n",
    "        Institute(\n",
    "            instituteList[i],\n",
    "            instituteInfo[i],\n",
    "            instituteImageResources.getResourceId(i, 0)\n",
    "        )\n",
    "    )\n",
    "\n",
    "    instituteImageResources.recycle()\n",
    "}"
   ]
  },
  {
   "cell_type": "markdown",
   "id": "7fd5e15a-3b9a-4830-bd40-11d778038964",
   "metadata": {},
   "source": [
    "Podsumowując, na początku pobierane są tablice stringów i obrazów ze zasobów aplikacji przy użyciu metod `getResource().getStringArray()` oraz `getResource().obtainTypedArray()`. Następnie pętla `forEach` iteruje po wszystkich elementach tablicy `instituteList`, tworząc obiekt klasy `Institute` dla każdego elementu. Obiekt jest tworzony poprzez wywołanie konstruktora klasy `Institute` i przekazanie do niego tytułu instytutu (element z tablicy `instituteList`), informacji o instytucie (element z tablicy `instituteInfo`) oraz zasobu obrazu (wywołanie metody `getResourceId()` na obiekcie `instituteImageResources` z przekazaniem indeksu i wartości domyślnej).\n",
    "\n",
    "Ostatecznie, po zakończeniu pętli `forEach`, zasoby obrazów są zwalniane przy użyciu metody `recycle()` na obiekcie `instituteImageResources`."
   ]
  },
  {
   "cell_type": "markdown",
   "id": "fefbe842-04f9-4273-b2b8-f6f5a4c795fb",
   "metadata": {},
   "source": [
    "Następnie inicjujemy dane"
   ]
  },
  {
   "cell_type": "code",
   "execution_count": null,
   "id": "716b313c-3e55-4027-96fd-4adf67a38cb5",
   "metadata": {},
   "outputs": [],
   "source": [
    "class MainActivity : AppCompatActivity() {\n",
    "\n",
    "    private val binding: ActivityMainBinding by lazy { ActivityMainBinding.inflate(layoutInflater) }\n",
    "    override fun onCreate(savedInstanceState: Bundle?) {\n",
    "        super.onCreate(savedInstanceState)\n",
    "        setContentView(binding.root)\n",
    "        \n",
    "        if (DataProvider.institutes.isEmpty())\n",
    "            DataProvider.getInstituteData(this)\n",
    "    }\n",
    "}"
   ]
  },
  {
   "cell_type": "markdown",
   "id": "b15575af-04c0-453b-a792-39d10980cdd5",
   "metadata": {},
   "source": [
    "## **`InstituteListAdapter`**\n",
    "\n",
    "Kolejnym krokiem będzie utworzenie klasy `InstituteViewHolder`, `InstituteAdapter`."
   ]
  },
  {
   "cell_type": "code",
   "execution_count": null,
   "id": "56c77fe6-ec20-47f8-9b91-e0b7dda094aa",
   "metadata": {},
   "outputs": [],
   "source": [
    "class InstituteViewHolder(\n",
    "    private val binding: RecyclerviewItemBinding, \n",
    "    private val context: Context) : RecyclerView.ViewHolder(binding.root) {\n",
    "\n",
    "    fun bind(institute: Institute) {\n",
    "        binding.apply {\n",
    "            title.text = institute.title\n",
    "            subTitle.text = institute.info\n",
    "            Glide.with(context).load(institute.imageResource)\n",
    "                .into(instituteImage)\n",
    "        }\n",
    "    }\n",
    "}"
   ]
  },
  {
   "cell_type": "code",
   "execution_count": null,
   "id": "8b22ac7a-2dd9-475d-a64f-54b5409b924d",
   "metadata": {},
   "outputs": [],
   "source": [
    "class InstituteAdapter() : RecyclerView.Adapter<InstituteViewHolder>() {\n",
    "\n",
    "    override fun onCreateViewHolder(parent: ViewGroup, viewType: Int): InstituteViewHolder =\n",
    "        InstituteViewHolder(RecyclerviewItemBinding.inflate(\n",
    "            LayoutInflater.from(parent.context), parent, false\n",
    "        ), parent.context\n",
    "    )\n",
    "\n",
    "    override fun onBindViewHolder(holder: InstituteViewHolder, position: Int) {\n",
    "        val currentInstitute = DataProvider.institutes[position]\n",
    "        holder.bind(currentInstitute)\n",
    "    }\n",
    "\n",
    "    override fun getItemCount() = DataProvider.institutes.size\n",
    "}"
   ]
  },
  {
   "cell_type": "markdown",
   "id": "6e6df2be-a8e9-45a2-ad12-0134c72704da",
   "metadata": {},
   "source": [
    "Mamy połączone dane tekstowe z polami `TextView`. Wykorzystujemy bibliotekę `Glide` do obsługi ładowania grafik w pola `ImageView`. `Glide.with` przyjmuje `Context` jako argument, więc przekazujemy go w konstruktorze `InstituteViewHolder`."
   ]
  },
  {
   "cell_type": "markdown",
   "id": "d3b6ee49-28e5-472d-9949-4955f8bee160",
   "metadata": {},
   "source": [
    "- `Glide.with(context)` inicjuje obiekt Glide dla bieżącego kontekstu.\n",
    "- `load(institute.imageResource)` wskazuje adres zasób, który ma zostać załadowany przez `Glide`.\n",
    "- `into(instituteImage)` definiuje `ImageView`, do którego ma zostać załadowany obraz."
   ]
  },
  {
   "cell_type": "markdown",
   "id": "412423ad-f350-435d-8d7c-652005646519",
   "metadata": {},
   "source": [
    "Dodajmy `RecyclerView` do `InstituteListFragment`"
   ]
  },
  {
   "cell_type": "code",
   "execution_count": null,
   "id": "5a4a1d16-4254-42db-aee9-717ff7876ca4",
   "metadata": {},
   "outputs": [],
   "source": [
    "class InstituteListFragment : Fragment() {\n",
    "\n",
    "    private lateinit var binding: FragmentInstituteListBinding\n",
    "\n",
    "    override fun onCreateView(\n",
    "        inflater: LayoutInflater, container: ViewGroup?,\n",
    "        savedInstanceState: Bundle?\n",
    "    ): View {\n",
    "        binding = FragmentInstituteListBinding.inflate(inflater)\n",
    "\n",
    "        binding.recyclerView.apply {\n",
    "            adapter = InstituteAdapter()\n",
    "            layoutManager = LinearLayoutManager(this@InstituteListFragment.requireContext())\n",
    "        }\n",
    "\n",
    "        return binding.root\n",
    "    }\n",
    "}"
   ]
  },
  {
   "cell_type": "markdown",
   "id": "8b857683-c236-47b9-b0dd-9edd9a3fd2bf",
   "metadata": {},
   "source": [
    "## **Obsługa `onClick`**\n",
    "\n",
    "Chcemy dodać obsługę zdarzenia `onClick` elementu listy, nie będziemy implementować w metodzie `onBindViewHolder`, ponieważ chcemy uniknąć tworzenia wielu niepotrzebnych obiektów. Implementację metody przekażemyy przez konstruktor. "
   ]
  },
  {
   "cell_type": "code",
   "execution_count": null,
   "id": "c264e920-ba8f-4272-b7e6-c8cf81193b86",
   "metadata": {},
   "outputs": [],
   "source": [
    "class InstituteViewHolder(\n",
    "    private val binding: RecyclerviewItemBinding,\n",
    "    private val context: Context,\n",
    "    onItemClicked: (Int) -> Unit // onClick\n",
    ") : RecyclerView.ViewHolder(binding.root)"
   ]
  },
  {
   "cell_type": "markdown",
   "id": "c7112ddc-5a38-4510-bb81-22d3a1fc0b40",
   "metadata": {},
   "source": [
    "Następnie w bloku `init` klasy `InstituteViewHolder` wykorzystujemy metodę `inItemClicked`"
   ]
  },
  {
   "cell_type": "code",
   "execution_count": null,
   "id": "b57226fc-931a-40d2-986f-ef8bbcc641c4",
   "metadata": {},
   "outputs": [],
   "source": [
    "init { itemView.setOnClickListener { onItemClicked(adapterPosition) } }"
   ]
  },
  {
   "cell_type": "markdown",
   "id": "b0097dc1-69a1-46fa-aa6e-549c6d08aa52",
   "metadata": {},
   "source": [
    "W klasie `InstituteAdapter` implementację metody, również przekażemy przez konstruktor - sama implementacja będzie znajdowała się w klasie `InstituteListFragment`"
   ]
  },
  {
   "cell_type": "code",
   "execution_count": null,
   "id": "4ce8389f-c583-4c99-b8db-e062828ebbfe",
   "metadata": {},
   "outputs": [],
   "source": [
    "class InstituteAdapter(private val onItemClick: (Institute) -> Unit)\n",
    "    : RecyclerView.Adapter<InstituteViewHolder>() {"
   ]
  },
  {
   "cell_type": "markdown",
   "id": "7e8dcb40-41a0-4035-8cd2-60faf6dbca62",
   "metadata": {},
   "source": [
    "Metodę `onItemClicked` wywołamy w metodzie `onCreateViewHolder` - gdzie tworzymy obiekty `ViewHolder`"
   ]
  },
  {
   "cell_type": "code",
   "execution_count": null,
   "id": "753761dc-b03d-4984-a4fc-889bb3b472f6",
   "metadata": {},
   "outputs": [],
   "source": [
    "override fun onCreateViewHolder(parent: ViewGroup, viewType: Int): InstituteViewHolder =\n",
    "    InstituteViewHolder(RecyclerviewItemBinding.inflate(\n",
    "        LayoutInflater.from(parent.context), parent, false\n",
    "    ), parent.context\n",
    "    ) { onItemClick(DataProvider.institutes[it]) }"
   ]
  },
  {
   "cell_type": "markdown",
   "id": "67969747-5aa5-4c33-bd2e-1ea207dfb07e",
   "metadata": {},
   "source": [
    "Zanim dodamy implementację, dodajmy adnotację `@Parcelize` do modelu danych."
   ]
  },
  {
   "cell_type": "code",
   "execution_count": null,
   "id": "6955b015-9adb-4e57-9ce6-edc0821da371",
   "metadata": {},
   "outputs": [],
   "source": [
    "@Parcelize\n",
    "data class Institute(\n",
    "    val title: String,\n",
    "    val info: String,\n",
    "    val imageResource: Int\n",
    ") : Parcelable"
   ]
  },
  {
   "cell_type": "markdown",
   "id": "e6603808-8bd2-42f5-b302-bf6540658e7a",
   "metadata": {},
   "source": [
    "Teraz dodajmy `<argument>` do akcji zdefiniowanej w pliku `navigation.xml`"
   ]
  },
  {
   "cell_type": "code",
   "execution_count": null,
   "id": "884e0eb3-c079-4393-8e8c-725ce1014c93",
   "metadata": {},
   "outputs": [],
   "source": [
    "<action\n",
    "    android:id=\"@+id/action_instituteListFragment_to_instituteDetailFragment\"\n",
    "    app:destination=\"@id/instituteDetailFragment\" >\n",
    "    <argument android:name=\"institute\"\n",
    "        app:argType=\"com.example.wfiappkotlin.data.Institute\"/>\n",
    "</action>"
   ]
  },
  {
   "cell_type": "markdown",
   "id": "f2018e3e-e7a6-44e0-81bc-05bb8de5e088",
   "metadata": {},
   "source": [
    "Samą impoplementację dodajemy przy konfiguracji `RecyclerView` w `InstituteListFragment` - jako argument konstruktora adaptera."
   ]
  },
  {
   "cell_type": "code",
   "execution_count": null,
   "id": "809dbdab-6765-48fe-bdbf-b7e25d17c8bb",
   "metadata": {},
   "outputs": [],
   "source": [
    "binding.recyclerView.apply {\n",
    "    adapter = InstituteAdapter() {institute ->\n",
    "        val action: NavDirections = InstituteListFragmentDirections.actionInstituteListFragmentToInstituteDetailFragment(\n",
    "            institute\n",
    "        )\n",
    "        findNavController().navigate(action)\n",
    "    }\n",
    "    layoutManager = LinearLayoutManager(this@InstituteListFragment.requireContext())\n",
    "}"
   ]
  },
  {
   "cell_type": "markdown",
   "id": "748cbcd4-989c-4e30-8988-09136e5e9f7b",
   "metadata": {},
   "source": [
    "`adapter = InstituteAdapter() {institute -> ... }` przypisuje adapter typu `InstituteAdapter` do `RecyclerView`. Adapter ten obsługuje pojedynczy element listy instytutów, wykorzystując szablon widoku karty `CardView`.\n",
    "\n",
    "`InstituteAdapter() {institute -> ... }` to lambda, która przyjmuje pojedynczy argument typu `Institute` i wywołuje kod będący obsługą zdarzenia `onClick` elementu `RecyclerView`.\n",
    "\n",
    "`val action: NavDirections = InstituteListFragmentDirections.actionInstituteListFragmentToInstituteDetailFragment(institute)` tworzy akcję nawigacji z bieżącego fragmentu listy instytutów do fragmentu szczegółów instytutu (`InstituteDetailFragment`). Jako argument przekazujemy instytut z listy, który został kliknięty.\n",
    "\n",
    "`findNavController().navigate(action)` uruchamia nawigację i przenosi użytkownika z fragmentu listy instytutów do fragmentu szczegółów instytutu z przekazanym argumentem.\n",
    "\n",
    "`layoutManager = LinearLayoutManager(this@InstituteListFragment.requireContext())` ustawia menadżera układu w postaci pionowej listy, który jest wykorzystywany przez RecyclerView."
   ]
  },
  {
   "cell_type": "markdown",
   "id": "28442d27-9f5f-4e88-abb7-6384b568c36f",
   "metadata": {},
   "source": [
    "Kolejnym krokiem będzie odebranie danych we fragmencie `DetailInstituteFragment`."
   ]
  },
  {
   "cell_type": "code",
   "execution_count": null,
   "id": "85532d3b-6362-496e-8283-bfc985a9a30f",
   "metadata": {},
   "outputs": [],
   "source": [
    "class InstituteDetailFragment : Fragment() {\n",
    "\n",
    "    private lateinit var binding: FragmentInstituteDetailBinding\n",
    "\n",
    "    override fun onCreateView(\n",
    "        inflater: LayoutInflater, container: ViewGroup?,\n",
    "        savedInstanceState: Bundle?\n",
    "    ): View {\n",
    "        binding = FragmentInstituteDetailBinding.inflate(inflater)\n",
    "\n",
    "        setupUi(getCurrentInstitute())\n",
    "        \n",
    "        return binding.root\n",
    "    }\n",
    "\n",
    "    private fun getCurrentInstitute() = if (SDK_INT >= Build.VERSION_CODES.TIRAMISU)\n",
    "        arguments?.getParcelable(\"institute\", Institute::class.java)\n",
    "    else\n",
    "        arguments?.parcelable(\"institute\")\n",
    "\n",
    "    private fun setupUi(currentInstitute: Institute?) {\n",
    "        Glide.with(this)\n",
    "            .load(currentInstitute?.imageResource)\n",
    "            .into(binding.instituteImageDetail)\n",
    "\n",
    "        binding.titleDetail.text = currentInstitute?.title\n",
    "    }\n",
    "}"
   ]
  },
  {
   "cell_type": "markdown",
   "id": "ba2da884-ec88-4d77-976f-af2a9b92310b",
   "metadata": {},
   "source": [
    "W pliku `StopDeprecationWarningUtil` dodaję funkcję rozszerzającą `parcelable`, zwracającą obiekt `Parcelible` dla `API` < 33."
   ]
  },
  {
   "cell_type": "code",
   "execution_count": null,
   "id": "32afa4b3-b15d-4ec9-bbe4-784d251be690",
   "metadata": {},
   "outputs": [],
   "source": [
    "inline fun <reified T : Parcelable> Bundle.parcelable(key: String): T? = when {\n",
    "    SDK_INT >= 33 -> getParcelable(key, T::class.java)\n",
    "    else -> @Suppress(\"DEPRECATION\") getParcelable(key) as? T\n",
    "}"
   ]
  },
  {
   "cell_type": "markdown",
   "id": "79896dbc-7dd9-435b-be9f-67ba4988b013",
   "metadata": {},
   "source": [
    "## **GridLayoutManager**\n",
    "\n",
    "Zamiast `LinearLayoutManager` w naszym `RecyclerView`, zastosujemy `GridLayoutManager` - wykorzystamy go zmiany liczby kolumn przy zmianie orientacji ekranu. W widoku wertykalnym będziemy mieć jedną kolumnę, w horyzontalnym dwie - czyli dwa `CardView` obok siebie."
   ]
  },
  {
   "cell_type": "markdown",
   "id": "25ee88fc-c289-4e3b-b5e8-6c1bd5b898f2",
   "metadata": {},
   "source": [
    "<img src=\"https://media2.giphy.com/media/gooBI30gtU5fMkmCZu/giphy.gif?cid=790b7611df027999cb2a17ec28a3095ad5693e6e76c37990&rid=giphy.gif&ct=g\" width=\"200\" />"
   ]
  },
  {
   "cell_type": "markdown",
   "id": "1694569e-b886-40c1-89ed-8c67b5c71810",
   "metadata": {},
   "source": [
    "Aby to osiągnąć musimy zdefiniować zmienną, która będzie zmieniała wartość po zmianie orientacji urządzenia. Do folderu **values** dodajmy nowy plik o nazwie `integers.xml`"
   ]
  },
  {
   "cell_type": "code",
   "execution_count": null,
   "id": "7ecddca7-66b9-4bae-a232-090eed0d2212",
   "metadata": {},
   "outputs": [],
   "source": [
    "<?xml version=\"1.0\" encoding=\"utf-8\"?>\n",
    "<resources>\n",
    "    <integer name=\"grid_column_count\">1</integer>\n",
    "</resources>"
   ]
  },
  {
   "cell_type": "markdown",
   "id": "d9d7bcf0-6db0-4ffe-b956-4ce3e1d0a002",
   "metadata": {},
   "source": [
    "Chcemy teraz zdefiniować inną wartość dla zmiennej `grid_column_count` dla innej orientacji. Ponownie do folderu **values** dodajemy plik o nazwie `integers.xml` lecz tym razem w zakładce **Available qualifiers** wybieram **Orientation** i dodaję do wybranych kwalifikatorów. Następnie z rozwijanego menu wybieram **Landscape**."
   ]
  },
  {
   "cell_type": "code",
   "execution_count": null,
   "id": "e59630a7-0edb-4817-a065-0fa49325413f",
   "metadata": {},
   "outputs": [],
   "source": [
    "<?xml version=\"1.0\" encoding=\"utf-8\"?>\n",
    "<resources>\n",
    "    <integer name=\"grid_column_count\">2</integer>\n",
    "</resources>"
   ]
  },
  {
   "cell_type": "markdown",
   "id": "15ef58a2-9203-438f-bd9b-b76521b8cf2a",
   "metadata": {},
   "source": [
    "Mechanizm ten pozwala na przygotowanie różnych wersji plików w zależności od wybranego kwalifikatora.\n",
    "\n",
    "Powróćmy do `InstituteListFragment` i dodajmy zmienną przechowującą wartość `grid_column_count`"
   ]
  },
  {
   "cell_type": "code",
   "execution_count": null,
   "id": "4e333d02-5dfb-49ef-89c4-0d3775ee1a97",
   "metadata": {},
   "outputs": [],
   "source": [
    "val gridColumnCount = resources.getInteger(R.integer.grid_column_count)"
   ]
  },
  {
   "cell_type": "markdown",
   "id": "d82098b6-e1cc-4f54-99bd-fc983fece148",
   "metadata": {},
   "source": [
    "Następnie ustawmy `LayoutManager`"
   ]
  },
  {
   "cell_type": "code",
   "execution_count": null,
   "id": "7303c2ed-0590-400c-a733-7876d67ca3db",
   "metadata": {},
   "outputs": [],
   "source": [
    "binding.recyclerView.apply {\n",
    "    adapter = InstituteAdapter() {institute ->\n",
    "        val action: NavDirections = InstituteListFragmentDirections.actionInstituteListFragmentToInstituteDetailFragment(\n",
    "            institute\n",
    "        )\n",
    "        findNavController().navigate(action)\n",
    "    }\n",
    "    //layoutManager = LinearLayoutManager(this@InstituteListFragment.requireContext())\n",
    "    layoutManager = GridLayoutManager(this@InstituteListFragment.requireContext(), gridColumnCount)\n",
    "}"
   ]
  },
  {
   "cell_type": "markdown",
   "id": "26a654a7-96c0-44b3-b332-9ad4f4ba3019",
   "metadata": {},
   "source": [
    "Konstruktor `GridLayoutManager` przyjmuje dwa parametry - `Context` oraz liczbę kolumn. Jako liczbę kolumn podajemy utworzoną `gridColumnCount`. "
   ]
  },
  {
   "cell_type": "markdown",
   "id": "021e4f6f-3c2d-44c8-a256-2133911a0c66",
   "metadata": {},
   "source": [
    "<img src=\"https://media2.giphy.com/media/gooBI30gtU5fMkmCZu/giphy.gif?cid=790b7611df027999cb2a17ec28a3095ad5693e6e76c37990&rid=giphy.gif&ct=g\" width=\"200\" />"
   ]
  },
  {
   "cell_type": "markdown",
   "id": "471360c8-64a4-47f3-b340-f78eb49079ed",
   "metadata": {},
   "source": [
    "## **Obsługa gestów**"
   ]
  },
  {
   "cell_type": "markdown",
   "id": "13affda0-5398-4d63-b58b-d3a0cac0e4b0",
   "metadata": {},
   "source": [
    "Dodajmy do aplikacji podstawową obsługę gestów. Chcemy mieć możliwość przestawienia elementów na liście (**drag & drop**) oraz usunięcia jednego elementu (**swipe to dismiss**). Posłużymy się klasą `ItemTouchHelper` ułatwiającą implementację odpowiedzi na zdarzania przez `RecyclerView`.\n",
    "\n",
    "W pierwszej kolejności chcemy ustalić przesuwając element w jakich kierunkach chcemy usunąć element. Do metody `onCreate` dodajmy zmienną reprezentującą liczbę kierunków"
   ]
  },
  {
   "cell_type": "code",
   "execution_count": null,
   "id": "4f50a1bd-f388-4ce4-a61b-ee99468f6f2c",
   "metadata": {},
   "outputs": [],
   "source": [
    "val swipeDirs = if (gridColumnCount > 1) 0 else ItemTouchHelper.LEFT or ItemTouchHelper.RIGHT"
   ]
  },
  {
   "cell_type": "markdown",
   "id": "d57fecf9-ba2b-4a08-931e-1adb6f875b3b",
   "metadata": {},
   "source": [
    "Uzależniamy możliwość usunięcia elementu listy od orientacji urządzenia - czyli od liczby wyświetlanych kolumn. Jeżeli znajdujemy się w orientacji **portrait** zmienna `swiepDirs` będzie miała wartość reprezentującą kierunki `LEFT` i `RIGHT`. Tutaj posługujemy się **alternatywą** (operator `or`)."
   ]
  },
  {
   "cell_type": "markdown",
   "id": "c47254f0-3917-4c14-b8e6-762dc6fde58e",
   "metadata": {},
   "source": [
    "W następnej kolejności zaimplementujemy samą funckjonalność, będziemy potrzebować instancję klasy `IteemTouchHelper`"
   ]
  },
  {
   "cell_type": "code",
   "execution_count": null,
   "id": "daabf383-6e5f-4c14-81ca-2b60757111c8",
   "metadata": {},
   "outputs": [],
   "source": [
    "val helper = ItemTouchHelper()"
   ]
  },
  {
   "cell_type": "markdown",
   "id": "652f5d8d-f94e-4f39-8f8e-c5016aa7d7bd",
   "metadata": {},
   "source": [
    "Jako parametr konstruktora musimy podać `Callback` na którym będzie działać utworzony `ItemTouchHelper`. Tutaj chhcemy zaimplementować podstawową funkcjonalność, więc możemy skorzystać z uproszczonego klasy `SimpleCallback`. Jako parametr podajemy instancję klasy anonimowej "
   ]
  },
  {
   "cell_type": "code",
   "execution_count": null,
   "id": "bac0b7ab-837b-485b-a503-5ea979805ee1",
   "metadata": {},
   "outputs": [],
   "source": [
    "val helper = ItemTouchHelper(ItemTouchHelper.SimpleCallback{\n",
    "\n",
    "})"
   ]
  },
  {
   "cell_type": "markdown",
   "id": "34bfb369-aec4-417d-a981-58ab8aada6de",
   "metadata": {},
   "source": [
    "Klasa `SimpleCallback` przyjmuje dwa parametry\n",
    "- `dragDirs` - określający kierunki przeciągnięcia elementu\n",
    "- `swipeDirs` - określający kierunki przemiecenia elementu"
   ]
  },
  {
   "cell_type": "code",
   "execution_count": null,
   "id": "85dcb0bd-dc3c-4238-9225-8f8cd762ac75",
   "metadata": {},
   "outputs": [],
   "source": [
    "val helper = ItemTouchHelper(object: ItemTouchHelper.SimpleCallback(\n",
    "    ItemTouchHelper.LEFT or ItemTouchHelper.RIGHT or\n",
    "            ItemTouchHelper.UP or ItemTouchHelper.DOWN,\n",
    "    swipeDirs\n",
    ")"
   ]
  },
  {
   "cell_type": "markdown",
   "id": "5bba0346-4616-4934-9346-9b3f43c412ce",
   "metadata": {},
   "source": [
    "Będziemy mieć możliwość przeciągania elementu w czterech kierunkach i wykonania **swipe to dismiss** tylko w dwóch kierunkach w orientacji wertykalnej."
   ]
  },
  {
   "cell_type": "markdown",
   "id": "9e697d10-3439-41b1-9c77-d31422717020",
   "metadata": {},
   "source": [
    "Mamy dwie możliwości, więc mamy również dwie metody do zaimplementowania"
   ]
  },
  {
   "cell_type": "code",
   "execution_count": null,
   "id": "25786dc9-ceea-4c28-bce5-b80a649303b8",
   "metadata": {},
   "outputs": [],
   "source": [
    "override fun onMove(\n",
    "    recyclerView: RecyclerView,\n",
    "    viewHolder: RecyclerView.ViewHolder,\n",
    "    target: RecyclerView.ViewHolder\n",
    "): Boolean {\n",
    "}\n",
    "\n",
    "override fun onSwiped(viewHolder: RecyclerView.ViewHolder, direction: Int) {\n",
    "}"
   ]
  },
  {
   "cell_type": "markdown",
   "id": "037d1be2-a01d-474a-8317-8214b7f9d03f",
   "metadata": {},
   "source": [
    "W metodzie `onSwiped` chcemy dodać implementację usuwającą przemieciony element. W pierwszej kolejności usuniemy element o zadanej pozycji z naszej kolekcji `institutes`, następnie powiadomimy `Adapter` o usuniętym elemencie aby wykonać odświeżenie `RecyclerView`"
   ]
  },
  {
   "cell_type": "code",
   "execution_count": null,
   "id": "fdf71bdf-0ab1-4f2b-a6f8-d13d4ad680d9",
   "metadata": {},
   "outputs": [],
   "source": [
    "override fun onSwiped(viewHolder: RecyclerView.ViewHolder, direction: Int) {\n",
    "    institutes.removeAt(viewHolder.adapterPosition)\n",
    "    instituteAdapter.notifyItemRemoved(viewHolder.adapterPosition)\n",
    "}"
   ]
  },
  {
   "cell_type": "markdown",
   "id": "f4a4effa-5f84-4da8-a4a3-4173f7453b89",
   "metadata": {},
   "source": [
    "Musimy podczepić utworzony `ItemTouchHelper` pod `RecyclerView`"
   ]
  },
  {
   "cell_type": "code",
   "execution_count": null,
   "id": "7bd7e2c0-29eb-4b2d-9df1-1720c61f0df3",
   "metadata": {},
   "outputs": [],
   "source": [
    "helper.attachToRecyclerView(recyclerView)"
   ]
  },
  {
   "cell_type": "markdown",
   "id": "7662f36a-6ebe-4df7-be2a-d85b106ca76d",
   "metadata": {},
   "source": [
    "Możemy przetestować funkcjonalność **swipe to dismiss**"
   ]
  },
  {
   "cell_type": "markdown",
   "id": "6dd09a73-0b81-49cf-8641-23fd80f84c07",
   "metadata": {},
   "source": [
    "<img src=\"https://media2.giphy.com/media/h5Xh7V5IA5E3BV4ytL/giphy.gif?cid=790b7611412fedb227b91c2cb44067aa88f517a18214afde&rid=giphy.gif&ct=g\" width=\"200\" />"
   ]
  },
  {
   "cell_type": "markdown",
   "id": "996e070a-5a53-436d-a315-d1d7036c3f59",
   "metadata": {},
   "source": [
    "Dodajmy implementację metody `onMove`. Musimy zdefiniować dwie pozycje, który element przesuwamy i na które miejsce. Zdefiniujmy dwie zmienne"
   ]
  },
  {
   "cell_type": "code",
   "execution_count": null,
   "id": "91d0fb51-aa47-4171-b7f6-a4e2b2785b6a",
   "metadata": {},
   "outputs": [],
   "source": [
    "val from = viewHolder.adapterPosition\n",
    "val to = target.adapterPosition"
   ]
  },
  {
   "cell_type": "markdown",
   "id": "b088cc13-5d5a-4c54-a232-7ca94ddaab1c",
   "metadata": {},
   "source": [
    "`ViewHolder` odnosi się do elemtu na którym wykonujemy czynność, `target` jest elementem docelowym. Następnie wykonujemy metodę `swap` na naszej kolekcji i powiadamiamy `Adapter` o wykonanej operacji."
   ]
  },
  {
   "cell_type": "code",
   "execution_count": null,
   "id": "64a1744b-a899-4b4e-a60b-79fad065ad00",
   "metadata": {},
   "outputs": [],
   "source": [
    "override fun onMove(\n",
    "    recyclerView: RecyclerView,\n",
    "    viewHolder: RecyclerView.ViewHolder,\n",
    "    target: RecyclerView.ViewHolder\n",
    "): Boolean {\n",
    "    val from = viewHolder.adapterPosition\n",
    "    val to = target.adapterPosition\n",
    "\n",
    "    Collections.swap(institutes, from, to)\n",
    "    instituteAdapter.notifyItemMoved(from, to)\n",
    "    return true\n",
    "}"
   ]
  },
  {
   "cell_type": "markdown",
   "id": "7f4c78fb-cab7-456c-a120-3c23515c246b",
   "metadata": {},
   "source": [
    "Metoda `onMove` zwraca `boolean` w zależności od powodzenia operacji. Tutaj, dla prostoty, zawsze zwrócimy `true`. Możemy przetestować funkcjonalność."
   ]
  },
  {
   "cell_type": "code",
   "execution_count": null,
   "id": "ce315c68-e148-42b6-b9ae-b07225249d06",
   "metadata": {},
   "outputs": [],
   "source": [
    "class InstituteListFragment : Fragment() {\n",
    "\n",
    "    private lateinit var binding: FragmentInstituteListBinding\n",
    "\n",
    "    override fun onCreateView(\n",
    "        inflater: LayoutInflater, container: ViewGroup?,\n",
    "        savedInstanceState: Bundle?\n",
    "    ): View {\n",
    "        binding = FragmentInstituteListBinding.inflate(inflater)\n",
    "\n",
    "        val gridColumnCount = resources.getInteger(R.integer.grid_column_count)\n",
    "        \n",
    "        setupRecyclerView(binding.recyclerView, gridColumnCount)\n",
    "        val (swipeDirs, dragDirs) = getDirs(gridColumnCount)\n",
    "        attachItemTouchHelperToRecyclerView(dragDirs, swipeDirs, binding.recyclerView)\n",
    "\n",
    "        return binding.root\n",
    "    }\n",
    "\n",
    "    private fun getDirs(gridColumnCount: Int): Pair<Int, Int> {\n",
    "        val swipeDirs =\n",
    "            if (gridColumnCount > 1) 0 else ItemTouchHelper.LEFT or ItemTouchHelper.RIGHT\n",
    "        val dragDirs = ItemTouchHelper.LEFT or ItemTouchHelper.RIGHT or\n",
    "                ItemTouchHelper.UP or ItemTouchHelper.DOWN\n",
    "        return Pair(swipeDirs, dragDirs)\n",
    "    }\n",
    "\n",
    "    private fun setupRecyclerView(\n",
    "        recyclerView: RecyclerView,\n",
    "        gridColumnCount: Int\n",
    "    ) {\n",
    "        recyclerView.apply {\n",
    "            adapter = InstituteAdapter() { institute ->\n",
    "                val action: NavDirections =\n",
    "                    InstituteListFragmentDirections.actionInstituteListFragmentToInstituteDetailFragment(\n",
    "                        institute\n",
    "                    )\n",
    "                findNavController().navigate(action)\n",
    "            }\n",
    "            layoutManager =\n",
    "                GridLayoutManager(this@InstituteListFragment.requireContext(), gridColumnCount)\n",
    "        }\n",
    "    }\n",
    "\n",
    "    private fun attachItemTouchHelperToRecyclerView(\n",
    "        dragDirs: Int,\n",
    "        swipeDirs: Int,\n",
    "        recyclerView: RecyclerView\n",
    "    ) {\n",
    "        ItemTouchHelper(\n",
    "            object : ItemTouchHelper.SimpleCallback(dragDirs, swipeDirs) {\n",
    "                override fun onMove(\n",
    "                    recyclerView: RecyclerView,\n",
    "                    viewHolder: RecyclerView.ViewHolder,\n",
    "                    target: RecyclerView.ViewHolder\n",
    "                ): Boolean {\n",
    "                    val from = viewHolder.adapterPosition\n",
    "                    val to = target.adapterPosition\n",
    "                    Collections.swap(institutes, from, to)\n",
    "                    recyclerView.adapter?.notifyItemMoved(from, to)\n",
    "                    return true\n",
    "                }\n",
    "\n",
    "                override fun onSwiped(viewHolder: RecyclerView.ViewHolder, direction: Int) {\n",
    "                    institutes.removeAt(viewHolder.adapterPosition)\n",
    "                    recyclerView.adapter?.notifyItemRemoved(viewHolder.adapterPosition)\n",
    "                }\n",
    "            }).attachToRecyclerView(recyclerView)\n",
    "    }\n",
    "}"
   ]
  },
  {
   "cell_type": "markdown",
   "id": "19a8df92-8370-4f9d-b703-c064e22d3487",
   "metadata": {},
   "source": [
    "<img src=\"https://media2.giphy.com/media/uwDAUUAjLZnyKqLg3J/giphy.gif?cid=790b76110bdb83e20fb638b9fb5150422cf100e384687bcf&rid=giphy.gif&ct=g\" width=\"200\" />"
   ]
  }
 ],
 "metadata": {
  "kernelspec": {
   "display_name": "Kotlin",
   "language": "kotlin",
   "name": "kotlin"
  },
  "language_info": {
   "codemirror_mode": "text/x-kotlin",
   "file_extension": ".kt",
   "mimetype": "text/x-kotlin",
   "name": "kotlin",
   "nbconvert_exporter": "",
   "pygments_lexer": "kotlin",
   "version": "1.8.0-RC"
  }
 },
 "nbformat": 4,
 "nbformat_minor": 5
}
