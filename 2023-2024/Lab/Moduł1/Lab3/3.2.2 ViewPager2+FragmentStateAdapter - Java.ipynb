{
 "cells": [
  {
   "cell_type": "markdown",
   "id": "ed6b0098-804c-4783-ba73-596abfe4f1bb",
   "metadata": {},
   "source": [
    "## ViewPager2 - FragmentStateAdapter"
   ]
  },
  {
   "cell_type": "markdown",
   "id": "08d10d93-6785-4a32-a37f-ac4947b84ada",
   "metadata": {},
   "source": [
    "`ViewPager2` to widok w Androidzie, który umożliwia przewijanie zawartości w poziomie, w sposób podobny do przeglądania slajdów. Jest ulepszoną wersją oryginalnego `ViewPager`, który jest dostępny od wersji Androida 3.0.\n",
    "\n",
    "`ViewPager2` umożliwia łatwe przewijanie między fragmentami lub innymi widokami, które zawierają wiele stron, takich jak obrazy, tekst czy formularze. `ViewPager2` obsługuje gesty przeciągnięcia, umożliwiając użytkownikom przewijanie strony za pomocą palca, a także zapewnia wsparcie dla animacji przewijania, takich jak przesunięcia lub zaciemnienia strony, podczas gdy użytkownik przewija do kolejnej strony. `ViewPager2` jest bardzo elastyczny i można go dostosować do wielu różnych scenariuszy, takich jak pokazywanie fragmentów, listy elementów lub formularzy.\n",
    "\n",
    "Jest często używany wraz z `Adapterem`, który dostarcza `ViewPager2` widoki, które mają być wyświetlane - podobnie jak `RecyclerView`. `ViewPager2` używa adaptera do pobierania i wyświetlania widoków, co umożliwia użytkownikowi przeglądanie różnych stron lub fragmentów."
   ]
  },
  {
   "cell_type": "markdown",
   "id": "0d2ee19f-92ab-441d-9613-04bcd23b821c",
   "metadata": {},
   "source": [
    "Lista dostępnych adapterów:\n",
    "\n",
    "- `FragmentStateAdapter` - używany do obsługi fragmentów\n",
    "- `RecyclerView.Adapter` - używany do obsługi list widoków\n",
    "- `PagerAdapter` - pozwala na dostarczenie niestandardowej implementacji `PagerAdapter`."
   ]
  },
  {
   "cell_type": "markdown",
   "id": "b0eb3ee5-e3f6-477c-a345-24a507395f2a",
   "metadata": {},
   "source": [
    "W tej aplikacji wykorzystamy `ViewPager2` z `FragmentStateAdapter` do przełączania się pomiędzy fragmentami"
   ]
  },
  {
   "cell_type": "markdown",
   "id": "1374fbe3-dbcc-482f-b44f-2c24167be6e5",
   "metadata": {},
   "source": [
    "<img src=\"https://media1.giphy.com/media/wliEyLAjczpotTaO2G/giphy.gif?cid=790b7611c738cd8544979998f3a67fceb1f27b20d4a9e363&rid=giphy.gif&ct=g\" width=\"200\" />"
   ]
  },
  {
   "cell_type": "markdown",
   "id": "a6795ae7-3667-4b66-bda3-628dd7fccf9f",
   "metadata": {},
   "source": [
    "W pierwszym kroku dodajmy `TemplateFragment`, który posłuży nam za szablon - wykorzystamy go cztery razy do utworzenia czterech ekranów."
   ]
  },
  {
   "cell_type": "code",
   "execution_count": null,
   "id": "da049723-8696-49d4-be3f-5f4437982ba5",
   "metadata": {},
   "outputs": [],
   "source": [
    "public class TemplateFragment extends Fragment {\n",
    "\n",
    "    private FragmentTemplateBinding binding;\n",
    "    private int position;\n",
    "\n",
    "    public TemplateFragment(int position) {\n",
    "        this.position = position;\n",
    "    }\n",
    "\n",
    "    @Override\n",
    "    public View onCreateView(LayoutInflater inflater, ViewGroup container,\n",
    "                             Bundle savedInstanceState) {\n",
    "        binding = FragmentTemplateBinding.inflate(inflater);\n",
    "        return binding.getRoot();\n",
    "    }\n",
    "}"
   ]
  },
  {
   "cell_type": "code",
   "execution_count": null,
   "id": "d9d7f7f3-25fc-4ada-81fa-ac88457998f9",
   "metadata": {},
   "outputs": [],
   "source": [
    "<?xml version=\"1.0\" encoding=\"utf-8\"?>\n",
    "<FrameLayout xmlns:android=\"http://schemas.android.com/apk/res/android\"\n",
    "    xmlns:tools=\"http://schemas.android.com/tools\"\n",
    "    android:layout_width=\"match_parent\"\n",
    "    android:layout_height=\"match_parent\"\n",
    "    tools:context=\".TemplateFragment\">\n",
    "\n",
    "\n",
    "    <TextView\n",
    "        android:id=\"@+id/textView\"\n",
    "        android:layout_width=\"match_parent\"\n",
    "        android:layout_height=\"match_parent\"\n",
    "        android:textSize=\"36sp\"\n",
    "        android:gravity=\"center\"\n",
    "        android:text=\"FRAGMENT\" />\n",
    "\n",
    "</FrameLayout>"
   ]
  },
  {
   "cell_type": "markdown",
   "id": "47b45c6a-d40f-4ebb-8bc8-c4778b114617",
   "metadata": {},
   "source": [
    "Jak widzimy layout zawiera tylko jedno pole `TextView` na którym będziemy wyświetlać nazwę \"Fragment\", wraz z jego pozycją w `FragmentStateAdapter`. Pozycję przekażemy w konstruktorze.\n",
    "\n",
    "Przejdźmy do utworzenia `FragmentStateAdapter` - podobnie jak w przypadku `RecyclerView`, `ViewPager` wymaga adaptera do poprawnego wyświetlania danych. Nasza klasa `PagerAdapter` musi rozszerzać klasę `FragemntStateAdapter`"
   ]
  },
  {
   "cell_type": "code",
   "execution_count": null,
   "id": "09de868b-7d22-472c-8cce-d5ef0621a16f",
   "metadata": {},
   "outputs": [],
   "source": [
    "public class PagerAdapter extends FragmentStateAdapter {}"
   ]
  },
  {
   "cell_type": "markdown",
   "id": "7983f21d-3934-4aed-b4e7-1439da9bb9af",
   "metadata": {},
   "source": [
    "W odróżnieniu od `RecyclerView.Adapter` tutaj musimy zaimplementować tylko dwie metody. Pierwszą jest `createFragment` która zwraca fragment na odpowiedniej pozycji. Drugą metodą jest `getItemCount` zwracająca liczbę elementów - jest to metoda pochodząca z klasy `RecyclerView.Adapter`, którą `FragmentStateAdapter` rozszerza."
   ]
  },
  {
   "cell_type": "code",
   "execution_count": null,
   "id": "ac8791c3-0d65-44f5-9875-a3e441843c62",
   "metadata": {},
   "outputs": [],
   "source": [
    "public class PagerBasicAdapter extends FragmentStateAdapter {\n",
    "    public PagerBasicAdapter(@NonNull FragmentActivity fragmentActivity) {\n",
    "        super(fragmentActivity);\n",
    "    }\n",
    "\n",
    "    @NonNull\n",
    "    @Override\n",
    "    public Fragment createFragment(int position) {\n",
    "        return null;\n",
    "    }\n",
    "\n",
    "    @Override\n",
    "    public int getItemCount() {\n",
    "        return 0;\n",
    "    }\n",
    "}"
   ]
  },
  {
   "cell_type": "markdown",
   "id": "72bc099c-27a9-44f2-8b14-85b4c6e4d92c",
   "metadata": {},
   "source": [
    "W tym przykładzie będziemy umieszczać `ViewPager` bezpośrednio w `MainActivity`, więc parametrem konstruktora będzie `FragmentActivity` - jeżeli chcemy umieścić go we fragmencie, może przyjmować `Fragment`."
   ]
  },
  {
   "cell_type": "markdown",
   "id": "21d7b7a3-e971-431c-83c9-0623fb702958",
   "metadata": {},
   "source": [
    "`FragmentActivity` to klasa bazowa dla aktywności, które chcą korzystać z fragmentów. Jest to rozszerzenie standardowej klasy `Activity`, które dostarcza dodatkowe funkcjonalności związane z obsługą fragmentów.\n",
    "\n",
    "Główną funkcją `FragmentActivity` jest zarządzanie cyklem życia fragmentów i umożliwienie interakcji między fragmentami a aktywnością, w której się znajdują. Dzięki temu można łatwo tworzyć aplikacje składające się z wielu, złożonych fragmentów, które można wyświetlać i układać w różnych konfiguracjach.\n",
    "\n",
    "`FragmentActivity` udostępnia również interfejsy do zarządzania fragmentami, takie jak `FragmentManager`, `FragmentTransaction` czy `OnBackStackChangedListener`, co umożliwia dodawanie, usuwanie i zastępowanie fragmentów oraz obsługę back stacka."
   ]
  },
  {
   "cell_type": "markdown",
   "id": "eeac5d6b-fe07-4d31-a08b-e02385b8fd8d",
   "metadata": {},
   "source": [
    "W odróżnieniu od `RecyclerView.Adapter` tutaj musimy zaimplementować tylko dwie metody. Pierwszą jest `createFragment` która zwraca fragment na odpowiedniej pozycji. Drugą metodą jest `getItemCount` zwracająca liczbę elementów - jest to metoda pochodząca z klasy `RecyclerView.Adapter`, którą `FragmentStateAdapter` rozszerza."
   ]
  },
  {
   "cell_type": "markdown",
   "id": "10649a69-8288-4102-beee-9e15e1392991",
   "metadata": {},
   "source": [
    "Metoda `createFragment` będzie nam zwracać instancję `TemplateFragment`, przez argument przekażemy pozycję która później zostanie wyświetlona w `TextView`.\n",
    "\n",
    "Metoda `getItemCount` zwraca nam liczbę elementów, tutaj będzie ona przechowywana w klasie `MainActivity`"
   ]
  },
  {
   "cell_type": "code",
   "execution_count": null,
   "id": "a4702e13-3d16-4a17-95ab-2336e7e36dda",
   "metadata": {},
   "outputs": [],
   "source": [
    "@NonNull\n",
    "@Override\n",
    "public Fragment createFragment(int position) {\n",
    "    return new TemplateFragment(position);\n",
    "}"
   ]
  },
  {
   "cell_type": "markdown",
   "id": "c7bf30c7-1b51-4600-bb10-220537282aa7",
   "metadata": {},
   "source": [
    "Metoda `getItemCount` zwraca nam liczbę elementów, tutaj będzie ona przechowywana w klasie `MainActivity`"
   ]
  },
  {
   "cell_type": "code",
   "execution_count": null,
   "id": "7e763c0e-58ca-4d43-b6e3-b36a578aa892",
   "metadata": {},
   "outputs": [],
   "source": [
    "@Override\n",
    "public int getItemCount() {\n",
    "    return MainActivity.num;\n",
    "}"
   ]
  },
  {
   "cell_type": "code",
   "execution_count": null,
   "id": "0a7c5a46-fd42-4557-9165-f1854594756e",
   "metadata": {},
   "outputs": [],
   "source": [
    "public class MainActivity extends AppCompatActivity {\n",
    "\n",
    "    public static final int num = 4;\n",
    "    \n",
    "    ...\n",
    "}"
   ]
  },
  {
   "cell_type": "markdown",
   "id": "5a4e7b26-575e-42fc-af6d-0b8b50b539ad",
   "metadata": {},
   "source": [
    "Dodajmy `ViewPager` do layoutu głównej aktywności"
   ]
  },
  {
   "cell_type": "code",
   "execution_count": null,
   "id": "17e6f02c-75b9-4272-a16c-b05d80b2ed65",
   "metadata": {},
   "outputs": [],
   "source": [
    "<?xml version=\"1.0\" encoding=\"utf-8\"?>\n",
    "<androidx.constraintlayout.widget.ConstraintLayout\n",
    "xmlns:android=\"http://schemas.android.com/apk/res/android\"\n",
    "    xmlns:app=\"http://schemas.android.com/apk/res-auto\"\n",
    "    xmlns:tools=\"http://schemas.android.com/tools\"\n",
    "    android:layout_width=\"match_parent\"\n",
    "    android:layout_height=\"match_parent\"\n",
    "    tools:context=\".MainActivity\">\n",
    "\n",
    "    <androidx.viewpager2.widget.ViewPager2\n",
    "        android:id=\"@+id/viewPager\"\n",
    "        android:layout_width=\"match_parent\"\n",
    "        android:layout_height=\"match_parent\"\n",
    "        app:layout_constraintBottom_toBottomOf=\"parent\"\n",
    "        app:layout_constraintEnd_toEndOf=\"parent\"\n",
    "        app:layout_constraintStart_toStartOf=\"parent\"\n",
    "        app:layout_constraintTop_toTopOf=\"parent\" />\n",
    "</androidx.constraintlayout.widget.ConstraintLayout>"
   ]
  },
  {
   "cell_type": "markdown",
   "id": "ef73b0b3-6b26-46dc-ae7f-80bc68b7bc18",
   "metadata": {},
   "source": [
    "Następnie w metodzie `onCreate` klasy `MainActivity` utworzymy `ViewPager` oraz połączymy z `PagerAdapter` dokładnie w taki sam sposób jak w przypadku `RecyclerView`."
   ]
  },
  {
   "cell_type": "code",
   "execution_count": null,
   "id": "5700d068-b121-4c31-aad7-a57ec3a3be85",
   "metadata": {},
   "outputs": [],
   "source": [
    "public class MainActivity extends AppCompatActivity {\n",
    "\n",
    "    public static final int num = 4;\n",
    "\n",
    "    @Override\n",
    "    protected void onCreate(Bundle savedInstanceState) {\n",
    "        super.onCreate(savedInstanceState);\n",
    "        setContentView(R.layout.activity_main);\n",
    "\n",
    "        ViewPager2 viewPager2 = findViewById(R.id.viewPager);\n",
    "        PagerAdapter adapter = new PagerAdapter(this);\n",
    "        viewPager2.setAdapter(adapter);\n",
    "    }\n",
    "}"
   ]
  },
  {
   "cell_type": "markdown",
   "id": "f08f201e-2b73-4cba-a9c3-da43ec5417cd",
   "metadata": {},
   "source": [
    "Możemy przetestować aplikację"
   ]
  },
  {
   "cell_type": "markdown",
   "id": "ab966b79-0245-4131-a1d6-11cc3a7ed919",
   "metadata": {},
   "source": [
    "<img src=\"https://media1.giphy.com/media/wliEyLAjczpotTaO2G/giphy.gif?cid=790b7611c738cd8544979998f3a67fceb1f27b20d4a9e363&rid=giphy.gif&ct=g\" width=\"150\" />"
   ]
  }
 ],
 "metadata": {
  "kernelspec": {
   "display_name": "Kotlin",
   "language": "kotlin",
   "name": "kotlin"
  },
  "language_info": {
   "codemirror_mode": "text/x-kotlin",
   "file_extension": ".kt",
   "mimetype": "text/x-kotlin",
   "name": "kotlin",
   "nbconvert_exporter": "",
   "pygments_lexer": "kotlin",
   "version": "1.8.0-RC"
  }
 },
 "nbformat": 4,
 "nbformat_minor": 5
}
