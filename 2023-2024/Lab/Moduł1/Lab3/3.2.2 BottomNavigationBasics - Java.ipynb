{
 "cells": [
  {
   "cell_type": "markdown",
   "id": "57bddc81-f978-42f6-aced-49fa3662825e",
   "metadata": {},
   "source": [
    "## Bottom Navigation"
   ]
  },
  {
   "cell_type": "markdown",
   "id": "b80c2db0-51a8-44ca-884c-15319350eebc",
   "metadata": {},
   "source": [
    "`BottomNavigation` to jeden ze stylów nawigacji. Jest to pasek nawigacyjny znajdujący się na dole ekranu, który umożliwia użytkownikom szybkie przemieszczanie się między różnymi sekcjami aplikacji.\n",
    "\n",
    "składa się z 3-5 przycisków, z których każdy reprezentuje inny ekran aplikacji. Kiedy użytkownik naciska przycisk, wyświetlany jest odpowiadający mu ekran.\n",
    "\n",
    "Kluczową funkcjonalnością jest wykorzystanie układów nawigacyjnych, które pozwalają na nawigowanie między różnymi fragmentami lub aktywnościami w aplikacji, a także na przekazywanie argumentów między nimi. W ten sposób `BottomNavigation` zapewnia spójność w aplikacji i pomaga użytkownikom łatwo poruszać się po różnych funkcjach aplikacji."
   ]
  },
  {
   "cell_type": "markdown",
   "id": "cce6f3be-2fb8-424c-a994-03eebad5d682",
   "metadata": {},
   "source": [
    "Aplikacja posłuży do przedstawienia podstaw `BottomNavigation` - jednej z popularniejszych metod nawigacji."
   ]
  },
  {
   "cell_type": "markdown",
   "id": "97217ca8-eb5a-438e-ad94-fd808e746524",
   "metadata": {},
   "source": [
    "<img src=\"https://media0.giphy.com/media/8mzEzkPcR5jBCVzjf5/giphy.gif?cid=790b761101e1065f89e55c786d7cc54428a8c153e97e7892&rid=giphy.gif&ct=g\" width=\"200\" />"
   ]
  },
  {
   "cell_type": "markdown",
   "id": "cb7c36c6-fd77-451d-ac32-e13782958ce8",
   "metadata": {},
   "source": [
    "Aplikację rozpoczniemy od dodania fragmentów."
   ]
  },
  {
   "cell_type": "code",
   "execution_count": null,
   "id": "a8e0ebae-f021-4e7c-a5c2-08cd7fad172b",
   "metadata": {},
   "outputs": [],
   "source": [
    "public class HomeFragment extends Fragment {\n",
    "\n",
    "    private FragmentHomeBinding binding;\n",
    "\n",
    "    @Override\n",
    "    public View onCreateView(@NonNull LayoutInflater inflater, ViewGroup container,\n",
    "                             Bundle savedInstanceState) {\n",
    "        binding = FragmentHomeBinding.inflate(inflater);\n",
    "        return binding.getRoot();\n",
    "    }\n",
    "}"
   ]
  },
  {
   "cell_type": "code",
   "execution_count": null,
   "id": "5bd38523-dd84-4164-a222-3a3408aa2320",
   "metadata": {},
   "outputs": [],
   "source": [
    "public class FirstFragment extends Fragment {\n",
    "\n",
    "    private FragmentFirstBinding binding;\n",
    "\n",
    "    @Override\n",
    "    public View onCreateView(@NonNull LayoutInflater inflater, ViewGroup container,\n",
    "                             Bundle savedInstanceState) {\n",
    "        binding = FragmentFirstBinding.inflate(inflater);\n",
    "        return binding.getRoot();\n",
    "    }\n",
    "}"
   ]
  },
  {
   "cell_type": "code",
   "execution_count": null,
   "id": "33239316-4a36-4974-8ad6-0e65f01137e3",
   "metadata": {},
   "outputs": [],
   "source": [
    "public class SecondFragment extends Fragment {\n",
    "\n",
    "    private FragmentSecondBinding binding;\n",
    "\n",
    "    @Override\n",
    "    public View onCreateView(@NonNull LayoutInflater inflater, ViewGroup container,\n",
    "                             Bundle savedInstanceState) {\n",
    "        binding = FragmentSecondBinding.inflate(inflater);\n",
    "        return binding.getRoot();\n",
    "    }\n",
    "}"
   ]
  },
  {
   "cell_type": "code",
   "execution_count": null,
   "id": "8cc2e7bd-2450-4ec7-b64c-dd992c3eb695",
   "metadata": {},
   "outputs": [],
   "source": [
    "public class SettingsFragment extends Fragment {\n",
    "\n",
    "    private FragmentSettingsBinding binding;\n",
    "\n",
    "    @Override\n",
    "    public View onCreateView(@NonNull LayoutInflater inflater, ViewGroup container,\n",
    "                             Bundle savedInstanceState) {\n",
    "        binding = FragmentSettingsBinding.inflate(inflater);\n",
    "        return binding.getRoot();\n",
    "    }\n",
    "}"
   ]
  },
  {
   "cell_type": "markdown",
   "id": "b7b5a7e1-59a3-4c3d-bba0-4f5349f4b7af",
   "metadata": {},
   "source": [
    "Layouty są identyczne za wyjątkiem tekstu w polu `TextView`"
   ]
  },
  {
   "cell_type": "code",
   "execution_count": null,
   "id": "5ef7e008-4f4c-4a14-9c3a-b14a5fd786e5",
   "metadata": {},
   "outputs": [],
   "source": [
    "<?xml version=\"1.0\" encoding=\"utf-8\"?>\n",
    "<FrameLayout xmlns:android=\"http://schemas.android.com/apk/res/android\"\n",
    "    xmlns:tools=\"http://schemas.android.com/tools\"\n",
    "    android:layout_width=\"match_parent\"\n",
    "    android:layout_height=\"match_parent\"\n",
    "    tools:context=\".HomeFragment\">\n",
    "\n",
    "    <TextView\n",
    "        android:layout_width=\"match_parent\"\n",
    "        android:layout_height=\"match_parent\"\n",
    "        android:layout_gravity=\"center\"\n",
    "        android:gravity=\"center\"\n",
    "        android:text=\"HOME\"\n",
    "        android:textSize=\"67sp\"\n",
    "        android:textStyle=\"bold\" />\n",
    "\n",
    "</FrameLayout>"
   ]
  },
  {
   "cell_type": "markdown",
   "id": "7f006b88-c181-48c3-a5cb-ac670592e487",
   "metadata": {},
   "source": [
    "### **BottomNavigationView**"
   ]
  },
  {
   "cell_type": "markdown",
   "id": "d20f366a-26f0-49ed-87c8-6481f4adf229",
   "metadata": {},
   "source": [
    "W kolejnym kroku dodajmy nawigację. Nie definiujemy żadnych akcji pomiędzy fragmentami - `HomeFragment` ustawiamy jako *domowy*.\n",
    "\n",
    "<img src=\"https://files.fm/thumb_show.php?i=a2jvc2ttk\" width=\"400\" />"
   ]
  },
  {
   "cell_type": "code",
   "execution_count": null,
   "id": "7993dc97-3137-4c9e-beea-8ebb4d114514",
   "metadata": {},
   "outputs": [],
   "source": [
    "<?xml version=\"1.0\" encoding=\"utf-8\"?>\n",
    "<navigation xmlns:android=\"http://schemas.android.com/apk/res/android\"\n",
    "    xmlns:app=\"http://schemas.android.com/apk/res-auto\"\n",
    "    xmlns:tools=\"http://schemas.android.com/tools\"\n",
    "    android:id=\"@+id/navigation\"\n",
    "    app:startDestination=\"@id/homeFragment\">\n",
    "\n",
    "    <fragment\n",
    "        android:id=\"@+id/firstFragment\"\n",
    "        android:name=\"pl.edu.uwr.pum.bottomnavigationkotlin.FirstFragment\"\n",
    "        android:label=\"fragment_first\"\n",
    "        tools:layout=\"@layout/fragment_first\" />\n",
    "    <fragment\n",
    "        android:id=\"@+id/homeFragment\"\n",
    "        android:name=\"pl.edu.uwr.pum.bottomnavigationkotlin.HomeFragment\"\n",
    "        android:label=\"fragment_home\"\n",
    "        tools:layout=\"@layout/fragment_home\" />\n",
    "    <fragment\n",
    "        android:id=\"@+id/secondFragment\"\n",
    "        android:name=\"pl.edu.uwr.pum.bottomnavigationkotlin.SecondFragment\"\n",
    "        android:label=\"fragment_second\"\n",
    "        tools:layout=\"@layout/fragment_second\" />\n",
    "    <fragment\n",
    "        android:id=\"@+id/settingsFragment\"\n",
    "        android:name=\"pl.edu.uwr.pum.bottomnavigationkotlin.SettingsFragment\"\n",
    "        android:label=\"fragment_settings\"\n",
    "        tools:layout=\"@layout/fragment_settings\" />\n",
    "</navigation>"
   ]
  },
  {
   "cell_type": "markdown",
   "id": "b0ba07d8-59f4-4d74-8d26-4f9c2f9a425e",
   "metadata": {},
   "source": [
    "Następnie zdefiniujmy `menu` dla `BottomNavigation`. Do katalogu **res/menu** dodajemy plik `bottom_nav_menu`"
   ]
  },
  {
   "cell_type": "markdown",
   "id": "fdc5a638-c3c7-4721-a20c-e3dee78d1a3f",
   "metadata": {},
   "source": [
    "`BottomNavigation` używa `bottom_nav_menu.xml` do definiowania przycisków nawigacyjnych, które powinny się tam znajdować. Ten plik `XML` musi być zdefiniowany, ponieważ `BottomNavigation` potrzebuje informacji o elementach, takich jak ikony, nazwy, a także informacji o tym, który element jest obecnie wybrany. W ten sposób może utworzyć interfejs użytkownika z przyciskami nawigacyjnymi i reagować na wybór użytkownika, aktualizując stan interfejsu użytkownika i wywołując akcje, takie jak przejście do innej aktywności lub fragmentu."
   ]
  },
  {
   "cell_type": "code",
   "execution_count": null,
   "id": "6482ee55-3a2f-40e0-9a91-78afdee8d8ad",
   "metadata": {},
   "outputs": [],
   "source": [
    "<?xml version=\"1.0\" encoding=\"utf-8\"?>\n",
    "<menu xmlns:android=\"http://schemas.android.com/apk/res/android\">\n",
    "    <item\n",
    "        android:id=\"@id/homeFragment\"\n",
    "        android:icon=\"@drawable/ic_home\"\n",
    "        android:title=\"HOME\" />\n",
    "    <item\n",
    "        android:id=\"@id/firstFragment\"\n",
    "        android:icon=\"@drawable/ic_android\"\n",
    "        android:title=\"FIRST\" />\n",
    "\n",
    "    <item\n",
    "        android:id=\"@id/secondFragment\"\n",
    "        android:icon=\"@drawable/ic_email\"\n",
    "        android:title=\"SECOND\" />\n",
    "</menu>"
   ]
  },
  {
   "cell_type": "markdown",
   "id": "cafa8145-c880-4da6-a29a-ee0ddbcb0729",
   "metadata": {},
   "source": [
    "Ikony możemy dodać do katalogu `drawable` z menu kontekstowego wybierając **New -> Vector Asset**. `id` pozycji w `menu` musi być takie same jak w nawigacji - w pliku `navigation.xml` - pomijamy `SettingsFragment`. Przejdźmy do layoutu głównej aktywności i dodajmy `FragmentContainer` oraz `BottomNavigationView`"
   ]
  },
  {
   "cell_type": "code",
   "execution_count": null,
   "id": "34cb794c-6ab8-482b-8a23-05b8a6fbf61d",
   "metadata": {},
   "outputs": [],
   "source": [
    "<?xml version=\"1.0\" encoding=\"utf-8\"?>\n",
    "<LinearLayout xmlns:android=\"http://schemas.android.com/apk/res/android\"\n",
    "    xmlns:tools=\"http://schemas.android.com/tools\"\n",
    "    xmlns:app=\"http://schemas.android.com/apk/res-auto\"\n",
    "    android:layout_width=\"match_parent\"\n",
    "    android:layout_height=\"match_parent\"\n",
    "    android:orientation=\"vertical\"\n",
    "    tools:context=\".MainActivity\">\n",
    "\n",
    "    <androidx.fragment.app.FragmentContainerView\n",
    "        android:id=\"@+id/nav_host_fragment\"\n",
    "        android:name=\"androidx.navigation.fragment.NavHostFragment\"\n",
    "        android:layout_width=\"match_parent\"\n",
    "        android:layout_height=\"0dp\"\n",
    "        android:layout_weight=\"1\"\n",
    "        app:defaultNavHost=\"true\"\n",
    "        app:navGraph=\"@navigation/navigation\"/>\n",
    "\n",
    "    <com.google.android.material.bottomnavigation.BottomNavigationView\n",
    "        android:id=\"@+id/bottom_nav_view\"\n",
    "        android:layout_width=\"match_parent\"\n",
    "        android:layout_height=\"wrap_content\"\n",
    "        app:menu=\"@menu/bottom_nav_menu\" />\n",
    "\n",
    "</LinearLayout>"
   ]
  },
  {
   "cell_type": "markdown",
   "id": "a6b64ab0-f693-4452-95b9-88231e613412",
   "metadata": {},
   "source": [
    "Zdefiniujmy dwa widoki w interfejsie użytkownika głównej aktywności - `FragmentContainerView` i `BottomNavigationView`.\n",
    "- `FragmentContainerView` to kontener fragmentu, który definiuje obszar, w którym będą wyświetlane fragmenty po nawigacji między nimi\n",
    "- `BottomNavigationView` to pasek nawigacyjny na dole ekranu z zakładkami, który umożliwia użytkownikowi łatwe przechodzenie między różnymi funkcjonalnościami aplikacji.\n",
    "\n",
    "`FragmentContainerView` wymaga zdefiniowania dwóch atrybutów - `app:defaultNavHost=\"true\"`, który wskazuje, że ten kontener fragmentu będzie działał jako domyślny kontener nawigacji, i `app:navGraph=\"@navigation/navigation\"`, który wskazuje na plik nawigacji zdefiniowany w folderze zasobów, który zostanie użyty do nawigacji między fragmentami.\n",
    "\n",
    "`BottomNavigationView` wymaga, aby określono plik menu (`app:menu=\"@menu/bottom_nav_menu\"`), który zawiera definicję wszystkich zakładek (`item`) w pasku nawigacyjnym. Każda pozycja w menu reprezentuje inną funkcjonalność aplikacji i jest skojarzona z odpowiednim fragmentem lub akcją nawigacji."
   ]
  },
  {
   "cell_type": "markdown",
   "id": "47b383eb-e26a-44cf-8a9f-9ac386655616",
   "metadata": {},
   "source": [
    "Ostatnim krokiem jest połączenie głównej aktywności z `Jetpack Navigation` oraz `BottomNavigationView`. Przedźmy do klasy `MainActivity`. Wpierw dodajmy `NavController`"
   ]
  },
  {
   "cell_type": "code",
   "execution_count": null,
   "id": "e8e3b660-b079-4487-8bef-a51e5685b797",
   "metadata": {},
   "outputs": [],
   "source": [
    "private NavController navController;\n",
    "\n",
    "@Override\n",
    "protected void onCreate(Bundle savedInstanceState) {\n",
    "    super.onCreate(savedInstanceState);\n",
    "    setContentView(R.layout.activity_main);\n",
    "\n",
    "    NavHostFragment navHostFragment = (NavHostFragment) getSupportFragmentManager()\n",
    "            .findFragmentById(R.id.nav_host_fragment);\n",
    "\n",
    "    if (navHostFragment != null) {\n",
    "        navController = NavHostFragment.findNavController(navHostFragment);\n",
    "    }\n",
    "}"
   ]
  },
  {
   "cell_type": "markdown",
   "id": "4780d8d0-cbc2-404b-b5bb-b611be86c819",
   "metadata": {},
   "source": [
    "Chcemy uzyskać dostęp do obiektu `NavController`, który jest odpowiedzialny za nawigację między fragmentami. Aby utworzyć ten obiekt, najpierw musimy uzyskać dostęp do menadżera fragmentów z klasy `FragmentActivity` za pomocą metody `getSupportFragmentManager()`. Obiekt `NavHostFragment` odpowiada za hostowanie fragmentów i zarządzanie ich nawigacją. Obiekt `NavHostFragment` poprzez znalezienie go w hierarchii fragmentów za pomocą metody `findFragmentById()`. Następnie sprawdzane jest, czy znaleziono ten fragment - jest to ważne, ponieważ metoda `findFragmentById()` zwróci `null`, jeśli nie znajdzie pasującego fragmentu.\n",
    "\n",
    "Jeśli `NavHostFragment` został znaleziony, to z tego fragmentu uzyskiwany jest `NavController` poprzez wywołanie statycznej metody `findNavController()`. Ostatecznie, ten NavController można wykorzystać do nawigowania w aplikacji.\n",
    "\n",
    "Wywołanie metody `findNavController()` na obiekcie `NavHostFragment` zwraca obiekt `NavController` powiązany z fragmentem."
   ]
  },
  {
   "cell_type": "markdown",
   "id": "6b85f343-a1dc-4529-9088-ea51e96ef6b5",
   "metadata": {},
   "source": [
    "Następnie musimy połączyć `BottomNavigationView` z `Navigation` - robimy to w metodzie `onCreate`"
   ]
  },
  {
   "cell_type": "code",
   "execution_count": null,
   "id": "9dc5d7d9-f5ed-444d-bf7c-8f5ef1a3fa49",
   "metadata": {},
   "outputs": [],
   "source": [
    "BottomNavigationView bottomNavigationView = findViewById(R.id.bottom_nav_view);\n",
    "NavigationUI.setupWithNavController(bottomNavigationView, navController);"
   ]
  },
  {
   "cell_type": "markdown",
   "id": "f8d497ce-b5b8-4bb4-8a81-632b9f1b2bce",
   "metadata": {},
   "source": [
    "Metoda `setupWithNavController` z klasy `NavigationUI` tworzy `Listener` i przypisuje go do `BottomNavigationView`, który reaguje na zmiany `NavControllera`. W przypadku gdy `NavController` zmienia swój punkt docelowy, `BottomNavigationView` automatycznie zaznacza odpowiedni element nawigacyjny. Dzięki temu użytkownik może łatwo nawigować między różnymi sekcjami aplikacji."
   ]
  },
  {
   "cell_type": "markdown",
   "id": "459e8e94-98e8-40ad-83d2-cc8818322931",
   "metadata": {},
   "source": [
    "Możemy przetestować aplikację"
   ]
  },
  {
   "cell_type": "markdown",
   "id": "eec8bd3b-feb6-475a-b9df-30357985dff9",
   "metadata": {},
   "source": [
    "<img src=\"https://media1.giphy.com/media/RAoPBRNJRh3xGzK5Mg/giphy.gif?cid=790b761142c45c3857e061db4a4da9d95ce06a0511e4cf6a&rid=giphy.gif&ct=g\" width=\"150\" />"
   ]
  },
  {
   "cell_type": "markdown",
   "id": "18bbdac5-152c-4efb-b035-1f8f0e7142b4",
   "metadata": {},
   "source": [
    "### **Menu Navigation**"
   ]
  },
  {
   "cell_type": "markdown",
   "id": "3207ee2b-cbe5-4f65-963b-20881d7ad3a0",
   "metadata": {},
   "source": [
    "Dodamy jeszcze możliwość przejścia na `SettingsFragment` z poziomu `menu` na `Actionbar`. W pierwszym kroku zdefiniujmy nasze menu - do katalogu `menu` dodajemy plik `actionbar_menu.xml`"
   ]
  },
  {
   "cell_type": "code",
   "execution_count": null,
   "id": "36323845-eb0b-4339-ae43-684633ede42c",
   "metadata": {},
   "outputs": [],
   "source": [
    "<?xml version=\"1.0\" encoding=\"utf-8\"?>\n",
    "<menu xmlns:android=\"http://schemas.android.com/apk/res/android\">\n",
    "    <item\n",
    "        android:id=\"@id/settingsFragment\"\n",
    "        android:icon=\"@drawable/ic_settings\"\n",
    "        android:title=\"SETTINGS\" />\n",
    "</menu>"
   ]
  },
  {
   "cell_type": "markdown",
   "id": "a9132706-7204-4edb-9a38-9ffaf0bd13a9",
   "metadata": {},
   "source": [
    "Następnie musimy zdefiniować `AppBarConfiguration` i połączyć `Actionbar` z `NavControoller`. W `MainActivity` dodajemy"
   ]
  },
  {
   "cell_type": "markdown",
   "id": "8a0cf968-6ed6-463a-9f99-dbdbffca64a4",
   "metadata": {},
   "source": [
    "`AppBarConfiguration` to klasa, która pozwala na konfigurację paska akcji w aplikacji. Tworzymy nową instancję tej klasy z użyciem grafu nawigacji, który jest pobierany z kontrolera nawigacji."
   ]
  },
  {
   "cell_type": "code",
   "execution_count": null,
   "id": "da743f93-3e0e-4214-9f58-9b45740dd0aa",
   "metadata": {},
   "outputs": [],
   "source": [
    "private NavController navController;\n",
    "\n",
    "private AppBarConfiguration appBarConfiguration;\n",
    "\n",
    "@Override\n",
    "protected void onCreate(Bundle savedInstanceState) {\n",
    "    super.onCreate(savedInstanceState);\n",
    "    setContentView(R.layout.activity_main);\n",
    "\n",
    "    NavHostFragment navHostFragment = (NavHostFragment) getSupportFragmentManager()\n",
    "            .findFragmentById(R.id.nav_host_fragment);\n",
    "\n",
    "    if (navHostFragment != null) {\n",
    "        navController = NavHostFragment.findNavController(navHostFragment);\n",
    "    }\n",
    "\n",
    "    appBarConfiguration =  new AppBarConfiguration\n",
    "            .Builder(navController.getGraph())\n",
    "            .build();\n",
    "\n",
    "    BottomNavigationView bottomNavigationView = findViewById(R.id.bottom_nav_view);\n",
    "    NavigationUI.setupWithNavController(bottomNavigationView, navController);\n",
    "    \n",
    "    NavigationUI.setupActionBarWithNavController(this, navController, appBarConfiguration);\n",
    "}"
   ]
  },
  {
   "cell_type": "markdown",
   "id": "194e0062-e365-45bf-a85a-27622100fd1f",
   "metadata": {},
   "source": [
    "Funkcja `setupActionBarWithNavController()` jest używana w celu połączenia `ActionBar` z `NavController` i automatycznej synchronizacji stanu `ActionBar` z bieżącym widokiem nawigacji. Dzięki temu, gdy użytkownik przechodzi z jednego miejsca do drugiego w aplikacji, `ActionBar` zostanie automatycznie zaktualizowany z odpowiednim tytułem i przyciskami nawigacyjnymi w zależności od widoku nawigacji.\n",
    "\n",
    "Funkcja ta przyjmuje dwa parametry:\n",
    "- `navController: NavController`, który chcemy połączyć z `ActionBar`.\n",
    "- `appBarConfiguration: AppBarConfiguration`, która definiuje struktury nawigacji.\n",
    "\n",
    "Po wywołaniu tej funkcji, `ActionBar` zostanie automatycznie skonfigurowane do uaktualniania swojego stanu w zależności od widoku nawigacji."
   ]
  },
  {
   "cell_type": "markdown",
   "id": "a1915bbd-51d9-4197-9af0-fced9b38082c",
   "metadata": {},
   "source": [
    "Musimy również połączyć layout menu zdefiniowany w pliku `actionbar_menu` z `ActionBar` - robimy do w klasie `MainActivity` nadpisując metodę `onCreateOptionsMenu`"
   ]
  },
  {
   "cell_type": "markdown",
   "id": "2c9ef89f-7a77-4474-9693-efbc96772422",
   "metadata": {},
   "source": [
    "Metoda `onCreateOptionsMenu()` służy do tworzenia menu. W tym przypadku, metoda ta używa obiektu `MenuInflater`, aby utworzyć menu na podstawie pliku `action_bar_menu.xml`. Zwraca true, aby wskazać, że menu zostało utworzone poprawnie."
   ]
  },
  {
   "cell_type": "code",
   "execution_count": null,
   "id": "7d43ffe0-41c9-4ea9-9fb3-48e6df2472f1",
   "metadata": {},
   "outputs": [],
   "source": [
    "@Override\n",
    "public boolean onCreateOptionsMenu(@NonNull Menu menu) {\n",
    "    getMenuInflater().inflate(R.menu.actionbar_menu, menu);\n",
    "    return super.onCreateOptionsMenu(menu);\n",
    "}"
   ]
  },
  {
   "cell_type": "markdown",
   "id": "44b78033-8767-48da-8cf9-2140a82194a9",
   "metadata": {},
   "source": [
    "Metoda `onOptionsItemSelected()` jest wywoływana, gdy użytkownik wybierze opcję z menu. Ta metoda obsługuje zdarzenia kliknięcia w elementy menu, które są połączone z określonymi celami nawigacji w grafie nawigacji. W tym przypadku wywołuje metodę `onNavDestinationSelected()` dla obiektu `MenuItem`. Metoda ta sprawdza, czy dany element menu jest połączony z celami nawigacji w grafie, i jeśli tak, to przekierowuje użytkownika do tego celu, korzystając z obiektu `NavController`. Jeśli dany element menu nie jest powiązany z celami nawigacji, wywoływana jest domyślna implementacja metody."
   ]
  },
  {
   "cell_type": "markdown",
   "id": "3eff3b8d-0425-448a-a14a-8a99166aaea9",
   "metadata": {},
   "source": [
    "Kolejnym krokiem jest dodanie możliwości nawigacji przy kliknięciu wybranej opcji - to wykonujemy nadpisując metodę `onOptionsItemSelected` w klasie `MainActivity`"
   ]
  },
  {
   "cell_type": "code",
   "execution_count": null,
   "id": "2166bb24-ff3f-426e-887f-f0a565dfbbab",
   "metadata": {},
   "outputs": [],
   "source": [
    "@Override\n",
    "public boolean onOptionsItemSelected(@NonNull MenuItem item) {\n",
    "    return NavigationUI.onNavDestinationSelected(item, navController)\n",
    "            || super.onOptionsItemSelected(item);\n",
    "}"
   ]
  },
  {
   "cell_type": "markdown",
   "id": "59a7a8c4-580f-4d22-a1c4-20795d06436d",
   "metadata": {},
   "source": [
    "Metoda `onOptionsItemSelected()` jest wywoływana, gdy użytkownik wybierze opcję z menu. Ta metoda obsługuje zdarzenia kliknięcia w elementy menu, które są połączone z określonymi celami nawigacji w grafie nawigacji. W tym przypadku wywołuje metodę `onNavDestinationSelected()` dla obiektu `MenuItem`. Metoda ta sprawdza, czy dany element menu jest połączony z celami nawigacji w grafie, i jeśli tak, to przekierowuje użytkownika do tego celu, korzystając z obiektu `NavController`. Jeśli dany element menu nie jest powiązany z celami nawigacji, wywoływana jest domyślna implementacja metody."
   ]
  },
  {
   "cell_type": "markdown",
   "id": "05e1bdf6-bed3-4dfd-9101-7d6626685d94",
   "metadata": {},
   "source": [
    "Ostatnim elementem będzie umożliwienie powrotu z `SettingsFragment` do `HomeFragment` przez przycisk powrotu w aplikacji - w tym celu nadpisujemy metodę `onSupportNavigateUp` w klasie `MainActivity`"
   ]
  },
  {
   "cell_type": "markdown",
   "id": "d1f2df0c-2732-4abe-8ecf-881fb1fc264a",
   "metadata": {},
   "source": [
    "Metoda `onSupportNavigateUp()` służy do obsługi przycisku cofania systemowego na pasku nawigacji. W tym przypadku wywołuje metodę `navigateUp()` dla obiektu `NavController`, aby przekierować użytkownika z powrotem do poprzedniego celu nawigacji, jeśli to możliwe. Jeśli nie jest to możliwe, metoda wywołuje domyślną implementację, która kończy bieżącą aktywność."
   ]
  },
  {
   "cell_type": "code",
   "execution_count": null,
   "id": "af366a75-1f6e-4304-9568-c191584885c3",
   "metadata": {},
   "outputs": [],
   "source": [
    "@Override\n",
    "public boolean onSupportNavigateUp() {\n",
    "    return NavigationUI.navigateUp(navController, appBarConfiguration)\n",
    "            || super.onSupportNavigateUp();\n",
    "}"
   ]
  },
  {
   "cell_type": "markdown",
   "id": "6864afc0-58ff-417f-8df1-2c76fcf89d0d",
   "metadata": {},
   "source": [
    "Możemy przetestować aplikację"
   ]
  },
  {
   "cell_type": "markdown",
   "id": "fd47bd03-2a26-4987-9192-a68da75a5d64",
   "metadata": {},
   "source": [
    "<img src=\"https://media0.giphy.com/media/8mzEzkPcR5jBCVzjf5/giphy.gif?cid=790b761101e1065f89e55c786d7cc54428a8c153e97e7892&rid=giphy.gif&ct=g\" width=\"150\" />"
   ]
  }
 ],
 "metadata": {
  "kernelspec": {
   "display_name": "Kotlin",
   "language": "kotlin",
   "name": "kotlin"
  },
  "language_info": {
   "codemirror_mode": "text/x-kotlin",
   "file_extension": ".kt",
   "mimetype": "text/x-kotlin",
   "name": "kotlin",
   "nbconvert_exporter": "",
   "pygments_lexer": "kotlin",
   "version": "1.8.0-RC"
  }
 },
 "nbformat": 4,
 "nbformat_minor": 5
}
