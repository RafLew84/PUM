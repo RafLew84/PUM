{
 "cells": [
  {
   "cell_type": "markdown",
   "id": "cbed600f-e47b-4446-815c-868d92af8c78",
   "metadata": {},
   "source": [
    "## TabLayout - ViewPager2"
   ]
  },
  {
   "cell_type": "markdown",
   "id": "e9e8ddd9-d876-4736-8f60-46913b45187c",
   "metadata": {},
   "source": [
    "Nawigacja za pomocą `TabLayout` i `ViewPager2` pozwala na wyświetlanie różnych fragmentów w zależności od wybranej karty w TabLayout.\n",
    "\n",
    "`TabLayout` to widok, który wyświetla karty z zakładkami. `ViewPager2` jest elementem, który pozwala na przewijanie widoków, w tym kart w `TabLayout`."
   ]
  },
  {
   "cell_type": "markdown",
   "id": "6051a0fc-b94b-4a4b-a52a-384bd13c7fe5",
   "metadata": {},
   "source": [
    "Nawigacja za pomocą `Jetpack Navigation` i `BottomNavigation` wykorzystuje interakcję użytkownika z dolnym paskiem nawigacyjnym do przełączania się między fragmentami. `BottomNavigation` jest zazwyczaj stosowany do nawigacji między głównymi sekcjami aplikacji, a każda zakładka odpowiada jednemu fragmentowi. `Jetpack Navigation` to biblioteka, która ułatwia nawigację między fragmentami, zarządzanie back stackiem i przesyłanie argumentów między fragmentami. Umożliwia nawigację między różnymi akcjami, zdarzeniami, elementami menu i głównymi sekcjami aplikacji.\n",
    "\n",
    "Nawigacja za pomocą `TabLayout` i `ViewPager2` umożliwia nawigację między fragmentami z użyciem zakładek. Użytkownik może przełączać się między fragmentami, przesuwając palcem w lewo lub prawo. Ta forma nawigacji jest zazwyczaj stosowana do wyświetlania wielu fragmentów, które są powiązane ze sobą w jakiś sposób, np. związane z różnymi aspektami tego samego obiektu lub procesu.\n",
    "\n",
    "Ogólnie rzecz biorąc, nawigacja za pomocą `TabLayout` i `ViewPager2` jest bardziej elastyczna i bardziej odpowiednia do przypadków, gdy aplikacja zawiera wiele powiązanych ze sobą fragmentów. Nawigacja za pomocą `Jetpack Navigation` i `BottomNavigation` jest bardziej odpowiednia dla aplikacji, które mają hierarchię sekcji i dostarczają nawigację między nimi."
   ]
  },
  {
   "cell_type": "markdown",
   "id": "543cccb7-3526-47da-9774-0ecd14250c6a",
   "metadata": {},
   "source": [
    "<img src=\"https://media3.giphy.com/media/LlWHV0R2wtX74BgAp4/giphy.gif?cid=790b76117b4e012450c3250923ee6ccfc48e476446e3c919&rid=giphy.gif&ct=g\" width=\"200\" />"
   ]
  },
  {
   "cell_type": "markdown",
   "id": "564876ca-a7c1-49c1-84c8-823daac614fc",
   "metadata": {},
   "source": [
    "Tutaj wykorzystamy `ViewPager` z `FragmentStateAdapter` - i jak poprzednio zrobimy tylko jeden fragment (`TemplateFragment`) na którym będziemy modyfikować tekst pola `TextView` w zależności od pozycji. Rozpocznijmy od dodania fragmentu"
   ]
  },
  {
   "cell_type": "code",
   "execution_count": null,
   "id": "7c49c683-3f71-4d19-9eff-cce7f518e9b2",
   "metadata": {},
   "outputs": [],
   "source": [
    "public class TemplateFragment extends Fragment {\n",
    "\n",
    "    private FragmentTemplateBinding binding;\n",
    "\n",
    "    @Override\n",
    "    public View onCreateView(@NonNull LayoutInflater inflater, ViewGroup container,\n",
    "                             Bundle savedInstanceState) {\n",
    "        binding = FragmentTemplateBinding.inflate(inflater);\n",
    "        return binding.getRoot();\n",
    "    }\n",
    "}"
   ]
  },
  {
   "cell_type": "code",
   "execution_count": null,
   "id": "33696b8b-ef1c-4c56-b4a2-d9fe95bd9f26",
   "metadata": {},
   "outputs": [],
   "source": [
    "<?xml version=\"1.0\" encoding=\"utf-8\"?>\n",
    "<FrameLayout xmlns:android=\"http://schemas.android.com/apk/res/android\"\n",
    "    xmlns:tools=\"http://schemas.android.com/tools\"\n",
    "    android:layout_width=\"match_parent\"\n",
    "    android:layout_height=\"match_parent\"\n",
    "    tools:context=\".TemplateFragment\">\n",
    "\n",
    "\n",
    "    <TextView\n",
    "        android:id=\"@+id/textView\"\n",
    "        android:layout_width=\"match_parent\"\n",
    "        android:layout_height=\"match_parent\"\n",
    "        android:textSize=\"36sp\"\n",
    "        android:gravity=\"center\"\n",
    "        android:text=\"FRAGMENT\" />\n",
    "\n",
    "</FrameLayout>"
   ]
  },
  {
   "cell_type": "markdown",
   "id": "a698ab62-5f98-4808-b1cd-956509e99622",
   "metadata": {},
   "source": [
    "Tym razem nie przez konstruktor, a przez `Bundle` prześlemy pozycję do fragmentu. Rozpocznijmy od implementacji `PagerAdapter`."
   ]
  },
  {
   "cell_type": "code",
   "execution_count": null,
   "id": "07b09430-d9ce-4fb2-891c-530a423d0145",
   "metadata": {},
   "outputs": [],
   "source": [
    "public class PagerAdapter extends FragmentStateAdapter {\n",
    "    public PagerAdapter(@NonNull FragmentActivity fragmentActivity) {\n",
    "        super(fragmentActivity);\n",
    "    }\n",
    "\n",
    "    @NonNull\n",
    "    @Override\n",
    "    public Fragment createFragment(int position) {\n",
    "        return null;\n",
    "    }\n",
    "\n",
    "    @Override\n",
    "    public int getItemCount() {\n",
    "        return 0;\n",
    "    }\n",
    "}"
   ]
  },
  {
   "cell_type": "markdown",
   "id": "98d9633f-abbd-4732-891e-24ed8d045354",
   "metadata": {},
   "source": [
    "Chcę utworzyć cztery elementy, więc `getItemCount` zwróci 4"
   ]
  },
  {
   "cell_type": "code",
   "execution_count": null,
   "id": "f2b0127f-180d-47fa-bcee-cb0f31c61723",
   "metadata": {},
   "outputs": [],
   "source": [
    "@Override\n",
    "public int getItemCount() {\n",
    "    return 4;\n",
    "}"
   ]
  },
  {
   "cell_type": "markdown",
   "id": "e4ab9d48-7ed3-4286-89be-d03a42768487",
   "metadata": {},
   "source": [
    "W metodzie `createFragment` chcę utworzyć instancję `TemplateFragment`, oraz przez `Bundle` przekazać jego pozycję w `ViewPager`."
   ]
  },
  {
   "cell_type": "code",
   "execution_count": null,
   "id": "23d18dc7-e4f0-4d02-a084-be57375c6bf6",
   "metadata": {},
   "outputs": [],
   "source": [
    "public static final String arg = \"key\";\n",
    "\n",
    "@NonNull\n",
    "@Override\n",
    "public Fragment createFragment(int position) {\n",
    "    Fragment fragment = new TemplateFragment();\n",
    "    Bundle args = new Bundle();\n",
    "    args.putInt(arg, position + 1);\n",
    "    fragment.setArguments(args);\n",
    "    return fragment;\n",
    "}"
   ]
  },
  {
   "cell_type": "markdown",
   "id": "d9ab3eef-3495-4e26-b17f-4655e629ea53",
   "metadata": {},
   "source": [
    "Tworzymy nowy fragment klasy `TemplateFragment` i ustawia argumenty tego fragmentu. W tym konkretnym przypadku ustawiony jest jeden argument typu `Int` o kluczu `arg` i wartości równej `position + 1`. W ten sposób każdy kolejny fragment, który jest tworzony przez pętlę, będzie miał wartość `position + 1` przekazaną jako argument. Argument ten może być później odczytany w kodzie fragmentu za pomocą metody `getArguments()`."
   ]
  },
  {
   "cell_type": "markdown",
   "id": "caee2215-ace2-4d86-b5e7-c9328f04adce",
   "metadata": {},
   "source": [
    "Przejdźmy do implementacji `TemplateFragment`, w metodzie `onViewCreated` odbieramy przekazany argument wywołując metodę `getArguments` i ustawiam text pola `TextView`"
   ]
  },
  {
   "cell_type": "code",
   "execution_count": null,
   "id": "6c8b803e-688f-402b-8e91-4830781f00a2",
   "metadata": {},
   "outputs": [],
   "source": [
    "@Override\n",
    "public View onCreateView(@NonNull LayoutInflater inflater, ViewGroup container,\n",
    "                         Bundle savedInstanceState) {\n",
    "    binding = FragmentTemplateBinding.inflate(inflater);\n",
    "\n",
    "    Bundle args = getArguments();\n",
    "    if (args != null) {\n",
    "        binding.textView.setText(\"Fragment \" + args.getInt(PagerAdapter.arg));\n",
    "    }\n",
    "\n",
    "    return binding.getRoot();\n",
    "}"
   ]
  },
  {
   "cell_type": "markdown",
   "id": "0d9c94a2-0318-4b21-98e9-d663784965b3",
   "metadata": {},
   "source": [
    "`Fragment` sprawdza, czy argumenty zawierają klucz `arg`, jeśli tak, to pobiera jego wartość i ustawia ją w `TextView`. W przypadku, gdy argumenty nie zawierają klucza `arg`, kod nie wykonuje się i `TextView` zachowuje wartość domyślną.\n",
    "\n",
    "`arguments` jest właściwością Fragment, która przechowuje argumenty przekazane do fragmentu. Metoda `takeIf` zwraca wartość właściwości `arguments`, jeśli zawiera klucz `arg`, w przeciwnym razie zwraca wartość `null`. Metoda `apply` pozwala na wykonywanie operacji na obiekcie, jeśli nie jest on `null`. W tym przypadku, wartość `TextView` jest ustawiana tylko wtedy, gdy właściwość arguments zawiera klucz `arg`."
   ]
  },
  {
   "cell_type": "markdown",
   "id": "ac20d78b-0f7e-420d-857f-6ebffa25d86c",
   "metadata": {},
   "source": [
    "Przejdźmy do layoutu głównej aktywności i dodajmy `ViewPager` oraz `TabLayout`"
   ]
  },
  {
   "cell_type": "code",
   "execution_count": null,
   "id": "d0a65839-aeef-4b49-8b7b-fbbded3ef8ea",
   "metadata": {},
   "outputs": [],
   "source": [
    "<LinearLayout xmlns:android=\"http://schemas.android.com/apk/res/android\"\n",
    "    xmlns:app=\"http://schemas.android.com/apk/res-auto\"\n",
    "    xmlns:tools=\"http://schemas.android.com/tools\"\n",
    "    android:layout_width=\"match_parent\"\n",
    "    android:layout_height=\"match_parent\"\n",
    "    android:orientation=\"vertical\"\n",
    "    tools:context=\".MainActivity\">\n",
    "\n",
    "    <com.google.android.material.tabs.TabLayout\n",
    "        android:id=\"@+id/tabLayout\"\n",
    "        android:layout_width=\"match_parent\"\n",
    "        android:layout_height=\"wrap_content\" />\n",
    "\n",
    "    <androidx.viewpager2.widget.ViewPager2\n",
    "        android:id=\"@+id/viewPager\"\n",
    "        android:layout_width=\"match_parent\"\n",
    "        android:layout_height=\"0dp\"\n",
    "        android:layout_weight=\"1\"/>\n",
    "\n",
    "</LinearLayout>"
   ]
  },
  {
   "cell_type": "markdown",
   "id": "49d0ba94-c40c-476f-9eb2-78a359d774c2",
   "metadata": {},
   "source": [
    "W metodzie `onCreate` klasy `MainActivity` wpierw tworzymy `ViewPager` i ustawwiamy `PagerAdapter`"
   ]
  },
  {
   "cell_type": "code",
   "execution_count": null,
   "id": "30e644e5-66fd-4c69-8f3a-883f6c25f514",
   "metadata": {},
   "outputs": [],
   "source": [
    "binding.viewPager.setAdapter(new PagerAdapter(this));"
   ]
  },
  {
   "cell_type": "markdown",
   "id": "1b3d3558-e4be-467a-b590-9305fb917155",
   "metadata": {},
   "source": [
    "Następnie tworzymy `TabLayout` i łączymy go z `ViewPager` przez utworzenie instancji `TabLayoutMediator` i wywołanie metody `attach`"
   ]
  },
  {
   "cell_type": "code",
   "execution_count": null,
   "id": "a5bc8716-d5cb-47c7-a75d-41845b0d249b",
   "metadata": {},
   "outputs": [],
   "source": [
    "new TabLayoutMediator(binding.tabLayout, binding.viewPager,\n",
    "        (tab, position) -> tab.setText(\"Fragment\" + (position + 1))\n",
    ").attach();"
   ]
  },
  {
   "cell_type": "markdown",
   "id": "a71ac5fe-020d-4e69-8d33-821c62821565",
   "metadata": {},
   "source": [
    "`TabLayoutMediator` jest używany do skojarzenia zakładek `TabLayout` z widokiem strony `ViewPager2`.\n",
    "\n",
    "Metoda `attach()` służy do przypisania mediacyjnej roli między `TabLayout` a `ViewPager2` i zainicjowania wyświetlenia strony, która jest wskazywana przez wybraną zakładkę.\n",
    "\n",
    "W funkcji lambda, przekazywanej do konstruktora `TabLayoutMediator`, każda zakładka jest konfigurowana z odpowiadającą jej pozycją strony w `ViewPager2`. W tym przypadku, tekst każdej zakładki ustawiany jest na `\"Fragment [position + 1]\"`, gdzie `position` to aktualna pozycja strony w ViewPager2."
   ]
  },
  {
   "cell_type": "markdown",
   "id": "9bebc258-092d-4b4e-8e59-553ebebb7322",
   "metadata": {},
   "source": [
    "Możemy przetestować aplikację"
   ]
  },
  {
   "cell_type": "markdown",
   "id": "b96a37d5-bd96-48f2-ae69-7087fbb73677",
   "metadata": {},
   "source": [
    "<img src=\"https://media3.giphy.com/media/LlWHV0R2wtX74BgAp4/giphy.gif?cid=790b76117b4e012450c3250923ee6ccfc48e476446e3c919&rid=giphy.gif&ct=g\" width=\"150\" />"
   ]
  }
 ],
 "metadata": {
  "kernelspec": {
   "display_name": "Kotlin",
   "language": "kotlin",
   "name": "kotlin"
  },
  "language_info": {
   "codemirror_mode": "text/x-kotlin",
   "file_extension": ".kt",
   "mimetype": "text/x-kotlin",
   "name": "kotlin",
   "nbconvert_exporter": "",
   "pygments_lexer": "kotlin",
   "version": "1.8.0-RC"
  }
 },
 "nbformat": 4,
 "nbformat_minor": 5
}
