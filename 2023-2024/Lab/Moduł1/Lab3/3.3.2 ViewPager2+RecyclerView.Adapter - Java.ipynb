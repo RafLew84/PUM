{
 "cells": [
  {
   "cell_type": "markdown",
   "id": "dd5836a2-9701-4d24-ae19-f45465abd684",
   "metadata": {},
   "source": [
    "## ViewPager2 - RecyclerView.Adapter"
   ]
  },
  {
   "cell_type": "markdown",
   "id": "e2d82985-fb9c-4270-802e-6a640b3b8bde",
   "metadata": {},
   "source": [
    "Tym razem napiszemy prostą aplikację wykorzystując `ViewPager` z `RecyclerView.Adapter`"
   ]
  },
  {
   "cell_type": "markdown",
   "id": "d1893786-6476-4c40-9e94-f962c720e878",
   "metadata": {},
   "source": [
    "<img src=\"https://media2.giphy.com/media/IxABynoYm0kk5y2D6p/giphy.gif?cid=790b761106f7ee3c6bd2b00ae1183a00d72cde79df168fb3&rid=giphy.gif&ct=g\" width=\"200\" />"
   ]
  },
  {
   "cell_type": "markdown",
   "id": "e4c4fa67-6c5a-44ad-8b96-3803ccd8cf5b",
   "metadata": {},
   "source": [
    "Dane do wyświetlenia będziemy przechowywać w `DataProvider` w tablicy `String`"
   ]
  },
  {
   "cell_type": "code",
   "execution_count": null,
   "id": "3261296a-6ba9-4d87-af86-9004ba226505",
   "metadata": {},
   "outputs": [],
   "source": [
    "public final class DataProvider {\n",
    "    private DataProvider(){}\n",
    "    public static final String[] values = {\"pierwszy\", \"drugi\", \"trzeci\"};\n",
    "}"
   ]
  },
  {
   "cell_type": "markdown",
   "id": "39b3ca31-ac7f-427c-a3fd-a9b7b3120583",
   "metadata": {},
   "source": [
    "Rozpocznijmy od layoutu pojedynczego elementu"
   ]
  },
  {
   "cell_type": "code",
   "execution_count": null,
   "id": "2e19d640-2321-4528-82ac-478e1c2a9958",
   "metadata": {},
   "outputs": [],
   "source": [
    "<?xml version=\"1.0\" encoding=\"utf-8\"?>\n",
    "<androidx.constraintlayout.widget.ConstraintLayout \n",
    "xmlns:android=\"http://schemas.android.com/apk/res/android\"\n",
    "    android:layout_width=\"match_parent\"\n",
    "    android:layout_height=\"match_parent\">\n",
    "\n",
    "    <TextView\n",
    "        android:id=\"@+id/textView\"\n",
    "        android:layout_width=\"match_parent\"\n",
    "        android:layout_height=\"match_parent\"\n",
    "        android:gravity=\"center\"\n",
    "        android:textSize=\"36sp\"/>\n",
    "\n",
    "</androidx.constraintlayout.widget.ConstraintLayout>"
   ]
  },
  {
   "cell_type": "markdown",
   "id": "c6cb522d-33bc-4074-a73c-b7e8d43b474c",
   "metadata": {},
   "source": [
    "Następnie zaimplementujmy `PagerAdapter`, który tym razem będzie rozszerzał klasę `RecyclerView.Adapter` - sama implementacja adaptera nie różni się od wcześniejszych"
   ]
  },
  {
   "cell_type": "code",
   "execution_count": null,
   "id": "2f9db2b8-67ec-4387-b03a-07ef1237416f",
   "metadata": {},
   "outputs": [],
   "source": [
    "public class PagerBasicAdapter extends RecyclerView.Adapter<PagerBasicViewHolder> {\n",
    "    @NonNull\n",
    "    @Override\n",
    "    public PagerBasicViewHolder onCreateViewHolder(@NonNull ViewGroup parent, int viewType) {\n",
    "        return new PagerBasicViewHolder(PagerItemBinding.inflate(\n",
    "                LayoutInflater.from(parent.getContext()), parent, false\n",
    "        ));\n",
    "    }\n",
    "\n",
    "    @Override\n",
    "    public void onBindViewHolder(@NonNull PagerBasicViewHolder holder, int position) {\n",
    "        holder.bind(DataProvider.values[position]);\n",
    "    }\n",
    "\n",
    "    @Override\n",
    "    public int getItemCount() {\n",
    "        return DataProvider.values.length;\n",
    "    }\n",
    "}"
   ]
  },
  {
   "cell_type": "code",
   "execution_count": null,
   "id": "151133e5-d735-4b29-9d7a-f02304b5f758",
   "metadata": {},
   "outputs": [],
   "source": [
    "public class PagerBasicViewHolder extends RecyclerView.ViewHolder {\n",
    "\n",
    "    private PagerItemBinding binding;\n",
    "\n",
    "    public PagerBasicViewHolder(PagerItemBinding binding) {\n",
    "        super(binding.getRoot());\n",
    "        this.binding = binding;\n",
    "    }\n",
    "\n",
    "    public void bind(String item){\n",
    "        binding.textView.setText(item);\n",
    "    }\n",
    "}"
   ]
  },
  {
   "cell_type": "markdown",
   "id": "03e6eae5-7f97-47c2-8685-7eb51a584c2c",
   "metadata": {},
   "source": [
    "Dodajmy `ViewPager` do layoutu głównej aktywności"
   ]
  },
  {
   "cell_type": "code",
   "execution_count": null,
   "id": "2e87a021-d0c0-4b36-8f29-a61307ddc5b7",
   "metadata": {},
   "outputs": [],
   "source": [
    "<?xml version=\"1.0\" encoding=\"utf-8\"?>\n",
    "<androidx.constraintlayout.widget.ConstraintLayout \n",
    "xmlns:android=\"http://schemas.android.com/apk/res/android\"\n",
    "    xmlns:app=\"http://schemas.android.com/apk/res-auto\"\n",
    "    xmlns:tools=\"http://schemas.android.com/tools\"\n",
    "    android:layout_width=\"match_parent\"\n",
    "    android:layout_height=\"match_parent\"\n",
    "    tools:context=\".MainActivity\">\n",
    "\n",
    "    <androidx.viewpager2.widget.ViewPager2\n",
    "        android:id=\"@+id/viewPager\"\n",
    "        android:layout_width=\"match_parent\"\n",
    "        android:layout_height=\"match_parent\"/>\n",
    "\n",
    "</androidx.constraintlayout.widget.ConstraintLayout>"
   ]
  },
  {
   "cell_type": "markdown",
   "id": "98f78f03-d246-4d76-852a-e71604efd1a8",
   "metadata": {},
   "source": [
    "Następnie utworzymy `ViewPager` i `PagerAdapter` oraz połączymy wszystko w metodzie `onCreate` klasy `MainActivity`"
   ]
  },
  {
   "cell_type": "code",
   "execution_count": null,
   "id": "1a783a1a-1642-41e5-b31b-be0c37e5b9d6",
   "metadata": {},
   "outputs": [],
   "source": [
    "public class MainActivity extends AppCompatActivity {\n",
    "\n",
    "    private ActivityMainBinding binding;\n",
    "\n",
    "    @Override\n",
    "    protected void onCreate(Bundle savedInstanceState) {\n",
    "        super.onCreate(savedInstanceState);\n",
    "        binding = ActivityMainBinding.inflate(getLayoutInflater());\n",
    "        setContentView(binding.getRoot());\n",
    "\n",
    "        binding.viewPager.setAdapter(new PagerBasicAdapter());\n",
    "    }\n",
    "}"
   ]
  },
  {
   "cell_type": "markdown",
   "id": "9123ec8a-e016-4edd-8374-075ade020fc7",
   "metadata": {},
   "source": [
    "W tym przypadku `ViewPager` działa jak `RecyclerView` z tą różnicą że wyświetla jeden element na ekranie."
   ]
  },
  {
   "cell_type": "markdown",
   "id": "bd3d3275-6de8-441e-938d-9ac211fb0839",
   "metadata": {},
   "source": [
    "<img src=\"https://media2.giphy.com/media/IxABynoYm0kk5y2D6p/giphy.gif?cid=790b761106f7ee3c6bd2b00ae1183a00d72cde79df168fb3&rid=giphy.gif&ct=g\" width=\"150\" />"
   ]
  }
 ],
 "metadata": {
  "kernelspec": {
   "display_name": "Kotlin",
   "language": "kotlin",
   "name": "kotlin"
  },
  "language_info": {
   "codemirror_mode": "text/x-kotlin",
   "file_extension": ".kt",
   "mimetype": "text/x-kotlin",
   "name": "kotlin",
   "nbconvert_exporter": "",
   "pygments_lexer": "kotlin",
   "version": "1.8.0-RC"
  }
 },
 "nbformat": 4,
 "nbformat_minor": 5
}
