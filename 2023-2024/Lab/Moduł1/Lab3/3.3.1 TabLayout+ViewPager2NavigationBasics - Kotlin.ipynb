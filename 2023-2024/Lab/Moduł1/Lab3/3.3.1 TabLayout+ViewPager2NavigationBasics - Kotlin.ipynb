{
 "cells": [
  {
   "cell_type": "markdown",
   "id": "1d275aeb-edee-41bc-9f7e-de6d0a346826",
   "metadata": {
    "tags": []
   },
   "source": [
    "## TabLayout - ViewPager2"
   ]
  },
  {
   "cell_type": "markdown",
   "id": "15c24704-4c62-4a94-93db-55e9679c7c1b",
   "metadata": {},
   "source": [
    "Nawigacja za pomocą `TabLayout` i `ViewPager2` pozwala na wyświetlanie różnych fragmentów w zależności od wybranej karty w TabLayout.\n",
    "\n",
    "`TabLayout` to widok, który wyświetla karty z zakładkami. `ViewPager2` jest elementem, który pozwala na przewijanie widoków, w tym kart w `TabLayout`."
   ]
  },
  {
   "cell_type": "markdown",
   "id": "cff140b3-ef39-4f8c-8229-4c792f2e838e",
   "metadata": {},
   "source": [
    "Nawigacja za pomocą `Jetpack Navigation` i `BottomNavigation` wykorzystuje interakcję użytkownika z dolnym paskiem nawigacyjnym do przełączania się między fragmentami. `BottomNavigation` jest zazwyczaj stosowany do nawigacji między głównymi sekcjami aplikacji, a każda zakładka odpowiada jednemu fragmentowi. `Jetpack Navigation` to biblioteka, która ułatwia nawigację między fragmentami, zarządzanie back stackiem i przesyłanie argumentów między fragmentami. Umożliwia nawigację między różnymi akcjami, zdarzeniami, elementami menu i głównymi sekcjami aplikacji.\n",
    "\n",
    "Nawigacja za pomocą `TabLayout` i `ViewPager2` umożliwia nawigację między fragmentami z użyciem zakładek. Użytkownik może przełączać się między fragmentami, przesuwając palcem w lewo lub prawo. Ta forma nawigacji jest zazwyczaj stosowana do wyświetlania wielu fragmentów, które są powiązane ze sobą w jakiś sposób, np. związane z różnymi aspektami tego samego obiektu lub procesu.\n",
    "\n",
    "Ogólnie rzecz biorąc, nawigacja za pomocą `TabLayout` i `ViewPager2` jest bardziej elastyczna i bardziej odpowiednia do przypadków, gdy aplikacja zawiera wiele powiązanych ze sobą fragmentów. Nawigacja za pomocą `Jetpack Navigation` i `BottomNavigation` jest bardziej odpowiednia dla aplikacji, które mają hierarchię sekcji i dostarczają nawigację między nimi."
   ]
  },
  {
   "cell_type": "markdown",
   "id": "d50c86b1-3bcc-4060-b5a4-feccf63ea36b",
   "metadata": {},
   "source": [
    "<img src=\"https://media3.giphy.com/media/LlWHV0R2wtX74BgAp4/giphy.gif?cid=790b76117b4e012450c3250923ee6ccfc48e476446e3c919&rid=giphy.gif&ct=g\" width=\"200\" />"
   ]
  },
  {
   "cell_type": "markdown",
   "id": "59a233ac-f98e-4657-8c24-7f94d48a494b",
   "metadata": {},
   "source": [
    "Tutaj wykorzystamy `ViewPager` z `FragmentStateAdapter` - i, jak poprzednio, zrobimy tylko jeden fragment (`TemplateFragment`) na którym będziemy modyfikować tekst pola `TextView` w zależności od pozycji. Rozpocznijmy od dodania fragmentu"
   ]
  },
  {
   "cell_type": "code",
   "execution_count": null,
   "id": "8ef4baab-3405-497e-b5ad-a1b5083bcf85",
   "metadata": {},
   "outputs": [],
   "source": [
    "class TemplateFragment : Fragment() {\n",
    "\n",
    "    private lateinit var binding: FragmentTemplateBinding\n",
    "\n",
    "    override fun onCreateView(\n",
    "        inflater: LayoutInflater, container: ViewGroup?,\n",
    "        savedInstanceState: Bundle?\n",
    "    ): View {\n",
    "        binding = FragmentTemplateBinding.inflate(inflater)\n",
    "        return binding.root\n",
    "    }\n",
    "}"
   ]
  },
  {
   "cell_type": "code",
   "execution_count": null,
   "id": "3528c049-564e-4971-b265-c20366d9e8ac",
   "metadata": {},
   "outputs": [],
   "source": [
    "<?xml version=\"1.0\" encoding=\"utf-8\"?>\n",
    "<FrameLayout xmlns:android=\"http://schemas.android.com/apk/res/android\"\n",
    "    xmlns:tools=\"http://schemas.android.com/tools\"\n",
    "    android:layout_width=\"match_parent\"\n",
    "    android:layout_height=\"match_parent\"\n",
    "    tools:context=\".TemplateFragment\">\n",
    "\n",
    "\n",
    "    <TextView\n",
    "        android:id=\"@+id/textView\"\n",
    "        android:layout_width=\"match_parent\"\n",
    "        android:layout_height=\"match_parent\"\n",
    "        android:textSize=\"36sp\"\n",
    "        android:gravity=\"center\"\n",
    "        android:text=\"FRAGMENT\" />\n",
    "\n",
    "</FrameLayout>"
   ]
  },
  {
   "cell_type": "markdown",
   "id": "dfc8f7e3-86cf-496a-b188-1a93992570b5",
   "metadata": {},
   "source": [
    "Tym razem nie przez konstruktor, a przez `Bundle` prześlemy pozycję do fragmentu. Rozpocznijmy od implementacji `PagerAdapter`. Ponownie mój `ViewPager` będzie znajdował się bezpośrednio w `MainActivity`, więc wykorzystam konstruktor z paramterem `FragmentActivity`"
   ]
  },
  {
   "cell_type": "code",
   "execution_count": null,
   "id": "45fc297b-b48d-44f3-bd45-1364090d1ce3",
   "metadata": {},
   "outputs": [],
   "source": [
    "class PagerAdapter(fragmentActivity: FragmentActivity) : FragmentStateAdapter(fragmentActivity) {\n",
    "    override fun getItemCount(): Int {\n",
    "        TODO(\"Not yet implemented\")\n",
    "    }\n",
    "\n",
    "    override fun createFragment(position: Int): Fragment {\n",
    "        TODO(\"Not yet implemented\")\n",
    "    }\n",
    "}"
   ]
  },
  {
   "cell_type": "markdown",
   "id": "fa6d425c-c6d0-4375-bfac-392512e961b6",
   "metadata": {},
   "source": [
    "Chcę utworzyć cztery elementy, więc `getItemCount` zwróci 4"
   ]
  },
  {
   "cell_type": "code",
   "execution_count": null,
   "id": "095b6990-1065-403c-9a6e-abeaf1a1d904",
   "metadata": {},
   "outputs": [],
   "source": [
    "override fun getItemCount(): Int = 4"
   ]
  },
  {
   "cell_type": "markdown",
   "id": "dd4bde13-b851-43f0-93ad-3352f0d83e67",
   "metadata": {},
   "source": [
    "W metodzie `createFragment` chcę utworzyć instancję `TemplateFragment`, oraz przez `Bundle` przekazać jego pozycję w `ViewPager`."
   ]
  },
  {
   "cell_type": "code",
   "execution_count": null,
   "id": "3d63e333-3bd6-47cd-8118-18ac15fcddc6",
   "metadata": {},
   "outputs": [],
   "source": [
    "const val arg =\"key\"\n",
    "\n",
    "class PagerAdapter(fragmentActivity: FragmentActivity) : FragmentStateAdapter(fragmentActivity) {\n",
    "    override fun getItemCount(): Int = 4\n",
    "\n",
    "    override fun createFragment(position: Int): Fragment {\n",
    "        val fragment = TemplateFragment()\n",
    "        fragment.arguments = Bundle().apply {\n",
    "            putInt(arg, position + 1)\n",
    "        }\n",
    "\n",
    "        return fragment\n",
    "    }\n",
    "}"
   ]
  },
  {
   "cell_type": "markdown",
   "id": "14921c99-4f7d-4554-9e96-828c2f45b5e8",
   "metadata": {},
   "source": [
    "Tworzymy nowy fragment klasy `TemplateFragment` i ustawia argumenty tego fragmentu. W tym konkretnym przypadku ustawiony jest jeden argument typu `Int` o kluczu `arg` i wartości równej `position + 1`. W ten sposób każdy kolejny fragment, który jest tworzony przez pętlę, będzie miał wartość `position + 1` przekazaną jako argument. Argument ten może być później odczytany w kodzie fragmentu za pomocą metody `getArguments()`."
   ]
  },
  {
   "cell_type": "markdown",
   "id": "63f855e0-2fa0-42d3-acc6-952800c6a78c",
   "metadata": {},
   "source": [
    "Przejdźmy do implementacji `TemplateFragment`, w metodzie `onViewCreated` odbieramy przekazany argument wywołując metodę `getArguments` za pomocą właściwości `arguments` i ustawiam text pola `TextView`"
   ]
  },
  {
   "cell_type": "code",
   "execution_count": null,
   "id": "2627ceb3-e56b-46db-9bcd-adb151e69d92",
   "metadata": {},
   "outputs": [],
   "source": [
    "override fun onViewCreated(view: View, savedInstanceState: Bundle?) {\n",
    "    super.onViewCreated(view, savedInstanceState)\n",
    "    arguments?.takeIf { it.containsKey(arg) }?.apply {\n",
    "        binding.textView.text = \"Fragment ${getInt(arg)}\"\n",
    "    }\n",
    "}"
   ]
  },
  {
   "cell_type": "markdown",
   "id": "4acf6382-23a1-4307-9400-de7203b9b467",
   "metadata": {},
   "source": [
    "`Fragment` sprawdza, czy argumenty zawierają klucz `arg`, jeśli tak, to pobiera jego wartość i ustawia ją w `TextView`. W przypadku, gdy argumenty nie zawierają klucza `arg`, kod nie wykonuje się i `TextView` zachowuje wartość domyślną.\n",
    "\n",
    "`arguments` jest właściwością Fragment, która przechowuje argumenty przekazane do fragmentu. Metoda `takeIf` zwraca wartość właściwości `arguments`, jeśli zawiera klucz `arg`, w przeciwnym razie zwraca wartość `null`. Metoda `apply` pozwala na wykonywanie operacji na obiekcie, jeśli nie jest on `null`. W tym przypadku, wartość `TextView` jest ustawiana tylko wtedy, gdy właściwość arguments zawiera klucz `arg`."
   ]
  },
  {
   "cell_type": "markdown",
   "id": "f584e500-81c1-4d8f-9fc0-66945f611232",
   "metadata": {},
   "source": [
    "Przejdźmy do layoutu głównej aktywności i dodajmy `ViewPager` oraz `TabLayout`"
   ]
  },
  {
   "cell_type": "code",
   "execution_count": null,
   "id": "0dfafa5b-2ad6-42fb-8f55-58945755c083",
   "metadata": {},
   "outputs": [],
   "source": [
    "<LinearLayout xmlns:android=\"http://schemas.android.com/apk/res/android\"\n",
    "    xmlns:app=\"http://schemas.android.com/apk/res-auto\"\n",
    "    xmlns:tools=\"http://schemas.android.com/tools\"\n",
    "    android:layout_width=\"match_parent\"\n",
    "    android:layout_height=\"match_parent\"\n",
    "    android:orientation=\"vertical\"\n",
    "    tools:context=\".MainActivity\">\n",
    "\n",
    "    <com.google.android.material.tabs.TabLayout\n",
    "        android:id=\"@+id/tabLayout\"\n",
    "        android:layout_width=\"match_parent\"\n",
    "        android:layout_height=\"wrap_content\" />\n",
    "\n",
    "    <androidx.viewpager2.widget.ViewPager2\n",
    "        android:id=\"@+id/viewPager\"\n",
    "        android:layout_width=\"match_parent\"\n",
    "        android:layout_height=\"0dp\"\n",
    "        android:layout_weight=\"1\"/>\n",
    "\n",
    "</LinearLayout>"
   ]
  },
  {
   "cell_type": "markdown",
   "id": "453f1401-377a-4e95-a618-ed7be4853505",
   "metadata": {},
   "source": [
    "W metodzie `onCreate` klasy `MainActivity` wpierw tworzymy `ViewPager` i ustawiamy `PagerAdapter`"
   ]
  },
  {
   "cell_type": "code",
   "execution_count": null,
   "id": "d7ba142d-04b7-459f-b870-ccc43ba1b87d",
   "metadata": {},
   "outputs": [],
   "source": [
    "binding.viewPager.adapter = PagerAdapter(this)"
   ]
  },
  {
   "cell_type": "markdown",
   "id": "eae1be64-4c59-46f7-b0f5-6c5858a8c40c",
   "metadata": {},
   "source": [
    "Następnie tworzymy `TabLayout` i łączymy go z `ViewPager` przez utworzenie instancji `TabLayoutMediator` i wywołanie metody `attach`"
   ]
  },
  {
   "cell_type": "code",
   "execution_count": null,
   "id": "d0b9cecb-bbaf-44b4-aa1c-46e048c7bfbd",
   "metadata": {},
   "outputs": [],
   "source": [
    "binding.apply {\n",
    "    TabLayoutMediator(tabLayout, viewPager) { tab, position ->\n",
    "        tab.text = \"Fragment ${position + 1}\"\n",
    "    }.attach()\n",
    "}"
   ]
  },
  {
   "cell_type": "markdown",
   "id": "eedc6f80-db37-4e7b-8923-c3ceeda955bb",
   "metadata": {},
   "source": [
    "`TabLayoutMediator` jest używany do skojarzenia zakładek `TabLayout` z widokiem strony `ViewPager2`.\n",
    "\n",
    "Metoda `attach()` służy do przypisania mediacyjnej roli między TabLayout a ViewPager2 i zainicjowania wyświetlenia strony, która jest wskazywana przez wybraną zakładkę.\n",
    "\n",
    "W funkcji lambda, przekazywanej do konstruktora TabLayoutMediator, każda zakładka jest konfigurowana z odpowiadającą jej pozycją strony w ViewPager2. W tym przypadku, tekst każdej zakładki ustawiany jest na \"Fragment [position + 1]\", gdzie position to aktualna pozycja strony w ViewPager2."
   ]
  },
  {
   "cell_type": "markdown",
   "id": "ead348f6-93ff-4b6f-be69-18f88824b7ff",
   "metadata": {},
   "source": [
    "`TabLayoutMediator` przyjmuje trzy paramtery:\n",
    "- instancję `TabLayout`\n",
    "- instancję `ViewPager`\n",
    "- `TabLayoutMediator.TabConfigurationStrategy` - interfejs który musi zostać zaimplementowany w celu ustawienia tekstu oraz stylu zakładek oraz"
   ]
  },
  {
   "cell_type": "markdown",
   "id": "9cd1fbad-eeee-4e06-9a17-d7303f2a3125",
   "metadata": {},
   "source": [
    "Możemy przetestować aplikację"
   ]
  },
  {
   "cell_type": "markdown",
   "id": "9ebe6ce6-3d28-48ab-b21e-6b076b2a9bdc",
   "metadata": {},
   "source": [
    "<img src=\"https://media3.giphy.com/media/LlWHV0R2wtX74BgAp4/giphy.gif?cid=790b76117b4e012450c3250923ee6ccfc48e476446e3c919&rid=giphy.gif&ct=g\" width=\"150\" />"
   ]
  }
 ],
 "metadata": {
  "kernelspec": {
   "display_name": "Kotlin",
   "language": "kotlin",
   "name": "kotlin"
  },
  "language_info": {
   "codemirror_mode": "text/x-kotlin",
   "file_extension": ".kt",
   "mimetype": "text/x-kotlin",
   "name": "kotlin",
   "nbconvert_exporter": "",
   "pygments_lexer": "kotlin",
   "version": "1.8.0-RC"
  }
 },
 "nbformat": 4,
 "nbformat_minor": 5
}
