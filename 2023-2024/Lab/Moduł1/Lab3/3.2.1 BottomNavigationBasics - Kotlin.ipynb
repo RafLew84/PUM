{
 "cells": [
  {
   "cell_type": "markdown",
   "id": "b48adb26-f668-4cb6-8ad5-15a3217152cd",
   "metadata": {},
   "source": [
    "## Bottom Navigation"
   ]
  },
  {
   "cell_type": "markdown",
   "id": "2ad39eb8-d19e-41b6-a303-fa71fb29772d",
   "metadata": {},
   "source": [
    "`BottomNavigation` to jeden ze stylów nawigacji. Jest to pasek nawigacyjny znajdujący się na dole ekranu, który umożliwia użytkownikom szybkie przemieszczanie się między różnymi sekcjami aplikacji.\n",
    "\n",
    "składa się z 3-5 przycisków, z których każdy reprezentuje inny ekran aplikacji. Kiedy użytkownik naciska przycisk, wyświetlany jest odpowiadający mu ekran.\n",
    "\n",
    "Kluczową funkcjonalnością jest wykorzystanie układów nawigacyjnych, które pozwalają na nawigowanie między różnymi fragmentami lub aktywnościami w aplikacji, a także na przekazywanie argumentów między nimi. W ten sposób `BottomNavigation` zapewnia spójność w aplikacji i pomaga użytkownikom łatwo poruszać się po różnych funkcjach aplikacji."
   ]
  },
  {
   "cell_type": "markdown",
   "id": "b55970e6-fdb8-4c5c-a5d0-22e0ee7a08d5",
   "metadata": {},
   "source": [
    "Aplikacja posłuży do przedstawienia podstaw `BottomNavigation` - jednej z popularniejszych metod nawigacji."
   ]
  },
  {
   "cell_type": "markdown",
   "id": "bff66362-0646-4c01-8e80-0b7bc19728c9",
   "metadata": {},
   "source": [
    "<img src=\"https://media0.giphy.com/media/8mzEzkPcR5jBCVzjf5/giphy.gif?cid=790b761101e1065f89e55c786d7cc54428a8c153e97e7892&rid=giphy.gif&ct=g\" width=\"200\" />"
   ]
  },
  {
   "cell_type": "markdown",
   "id": "d8148054-683e-410b-ac7a-7633d373ba49",
   "metadata": {},
   "source": [
    "Aplikację rozpoczniemy od dodania fragmentów."
   ]
  },
  {
   "cell_type": "code",
   "execution_count": null,
   "id": "b9797610-db8d-4dc3-b07d-06c90d8dbb72",
   "metadata": {},
   "outputs": [],
   "source": [
    "class HomeFragment : Fragment() {\n",
    "\n",
    "    private lateinit var binding: FragmentHomeBinding\n",
    "\n",
    "    override fun onCreateView(\n",
    "        inflater: LayoutInflater, container: ViewGroup?,\n",
    "        savedInstanceState: Bundle?\n",
    "    ): View {\n",
    "        binding = FragmentHomeBinding.inflate(inflater)\n",
    "        return binding.root\n",
    "    }\n",
    "}"
   ]
  },
  {
   "cell_type": "code",
   "execution_count": null,
   "id": "7cb20e41-838d-4e29-a149-28a165116a8e",
   "metadata": {},
   "outputs": [],
   "source": [
    "class FirstFragment : Fragment() {\n",
    "\n",
    "    private lateinit var binding: FragmentFirstBinding\n",
    "\n",
    "    override fun onCreateView(\n",
    "        inflater: LayoutInflater, container: ViewGroup?,\n",
    "        savedInstanceState: Bundle?\n",
    "    ): View {\n",
    "        binding = FragmentFirstBinding.inflate(inflater)\n",
    "        return binding.root\n",
    "    }\n",
    "}"
   ]
  },
  {
   "cell_type": "code",
   "execution_count": null,
   "id": "79102241-5f51-4542-a0be-bd445f136494",
   "metadata": {},
   "outputs": [],
   "source": [
    "class SecondFragment : Fragment() {\n",
    "\n",
    "    private lateinit var binding: FragmentSecondBinding\n",
    "\n",
    "    override fun onCreateView(\n",
    "        inflater: LayoutInflater, container: ViewGroup?,\n",
    "        savedInstanceState: Bundle?\n",
    "    ): View {\n",
    "        binding = FragmentSecondBinding.inflate(inflater)\n",
    "        return binding.root\n",
    "    }\n",
    "}"
   ]
  },
  {
   "cell_type": "code",
   "execution_count": null,
   "id": "9d985de6-5976-41bc-8edf-5e38bdeb6d5c",
   "metadata": {},
   "outputs": [],
   "source": [
    "class SettingsFragment : Fragment() {\n",
    "\n",
    "    private lateinit var binding: FragmentSettingsBinding\n",
    "\n",
    "    override fun onCreateView(\n",
    "        inflater: LayoutInflater, container: ViewGroup?,\n",
    "        savedInstanceState: Bundle?\n",
    "    ): View {\n",
    "        binding = FragmentSettingsBinding.inflate(inflater)\n",
    "        return binding.root\n",
    "    }\n",
    "}"
   ]
  },
  {
   "cell_type": "markdown",
   "id": "a8772a2b-aaef-425f-b290-b9b5a3ed63ed",
   "metadata": {},
   "source": [
    "Layouty są identyczne za wyjątkiem tekstu w polu `TextView`"
   ]
  },
  {
   "cell_type": "code",
   "execution_count": null,
   "id": "efd8fdda-770b-4f24-875e-65fac1e565db",
   "metadata": {},
   "outputs": [],
   "source": [
    "<?xml version=\"1.0\" encoding=\"utf-8\"?>\n",
    "<FrameLayout xmlns:android=\"http://schemas.android.com/apk/res/android\"\n",
    "    xmlns:tools=\"http://schemas.android.com/tools\"\n",
    "    android:layout_width=\"match_parent\"\n",
    "    android:layout_height=\"match_parent\"\n",
    "    tools:context=\".HomeFragment\">\n",
    "\n",
    "    <TextView\n",
    "        android:layout_width=\"match_parent\"\n",
    "        android:layout_height=\"match_parent\"\n",
    "        android:layout_gravity=\"center\"\n",
    "        android:gravity=\"center\"\n",
    "        android:text=\"HOME\"\n",
    "        android:textSize=\"67sp\"\n",
    "        android:textStyle=\"bold\" />\n",
    "\n",
    "</FrameLayout>"
   ]
  },
  {
   "cell_type": "markdown",
   "id": "d8608927-e160-42c8-a400-83777212eb5c",
   "metadata": {},
   "source": [
    "### **BottomNavigationView**"
   ]
  },
  {
   "cell_type": "markdown",
   "id": "af7ffe16-10b2-4008-a018-ec89130c55d0",
   "metadata": {},
   "source": [
    "W kolejnym kroku dodajmy nawigację. Nie definiujemy żadnych akcji pomiędzy fragmentami - `HomeFragment` ustawiamy jako *domowy*.\n",
    "\n",
    "<img src=\"https://files.fm/thumb_show.php?i=a2jvc2ttk\" width=\"400\" />"
   ]
  },
  {
   "cell_type": "code",
   "execution_count": null,
   "id": "e8aa3abd-8150-4001-b078-a3862fdd5813",
   "metadata": {},
   "outputs": [],
   "source": [
    "<?xml version=\"1.0\" encoding=\"utf-8\"?>\n",
    "<navigation xmlns:android=\"http://schemas.android.com/apk/res/android\"\n",
    "    xmlns:app=\"http://schemas.android.com/apk/res-auto\"\n",
    "    xmlns:tools=\"http://schemas.android.com/tools\"\n",
    "    android:id=\"@+id/navigation\"\n",
    "    app:startDestination=\"@id/homeFragment\">\n",
    "\n",
    "    <fragment\n",
    "        android:id=\"@+id/firstFragment\"\n",
    "        android:name=\"com.example.a21_bottomnavigationbasics_kotlin.FirstFragment\"\n",
    "        android:label=\"fragment_first\"\n",
    "        tools:layout=\"@layout/fragment_first\" />\n",
    "    <fragment\n",
    "        android:id=\"@+id/homeFragment\"\n",
    "        android:name=\"com.example.a21_bottomnavigationbasics_kotlin.HomeFragment\"\n",
    "        android:label=\"fragment_home\"\n",
    "        tools:layout=\"@layout/fragment_home\" />\n",
    "    <fragment\n",
    "        android:id=\"@+id/secondFragment\"\n",
    "        android:name=\"com.example.a21_bottomnavigationbasics_kotlin.SecondFragment\"\n",
    "        android:label=\"fragment_second\"\n",
    "        tools:layout=\"@layout/fragment_second\" />\n",
    "    <fragment\n",
    "        android:id=\"@+id/settingsFragment\"\n",
    "        android:name=\"com.example.a21_bottomnavigationbasics_kotlin.SettingsFragment\"\n",
    "        android:label=\"fragment_settings\"\n",
    "        tools:layout=\"@layout/fragment_settings\" />\n",
    "</navigation>"
   ]
  },
  {
   "cell_type": "markdown",
   "id": "e3a4ae58-1948-401f-bc24-579b0d245ed8",
   "metadata": {},
   "source": [
    "Następnie zdefiniujmy `menu` dla `BottomNavigation`. Do katalogu **res/menu** dodajemy plik `bottom_nav_menu`"
   ]
  },
  {
   "cell_type": "markdown",
   "id": "2f8ce987-3342-4d27-9fee-87241aeef3dd",
   "metadata": {},
   "source": [
    "`BottomNavigation` używa `bottom_nav_menu.xml` do definiowania przycisków nawigacyjnych, które powinny się tam znajdować. Ten plik `XML` musi być zdefiniowany, ponieważ `BottomNavigation` potrzebuje informacji o elementach, takich jak ikony, nazwy, a także informacji o tym, który element jest obecnie wybrany. W ten sposób może utworzyć interfejs użytkownika z przyciskami nawigacyjnymi i reagować na wybór użytkownika, aktualizując stan interfejsu użytkownika i wywołując akcje, takie jak przejście do innej aktywności lub fragmentu."
   ]
  },
  {
   "cell_type": "code",
   "execution_count": null,
   "id": "c6bc1565-db87-426c-ae84-907524d414de",
   "metadata": {},
   "outputs": [],
   "source": [
    "<?xml version=\"1.0\" encoding=\"utf-8\"?>\n",
    "<menu xmlns:android=\"http://schemas.android.com/apk/res/android\">\n",
    "    <item\n",
    "        android:id=\"@id/homeFragment\"\n",
    "        android:icon=\"@drawable/ic_home\"\n",
    "        android:title=\"HOME\" />\n",
    "    <item\n",
    "        android:id=\"@id/firstFragment\"\n",
    "        android:icon=\"@drawable/ic_first\"\n",
    "        android:title=\"FIRST\" />\n",
    "\n",
    "    <item\n",
    "        android:id=\"@id/secondFragment\"\n",
    "        android:icon=\"@drawable/ic_email\"\n",
    "        android:title=\"SECOND\" />\n",
    "</menu>"
   ]
  },
  {
   "cell_type": "markdown",
   "id": "8cd54cd2-b29c-4a2b-a483-c459d14e3ea9",
   "metadata": {},
   "source": [
    "Ikony możemy dodać do katalogu `drawable` z menu kontekstowego wybierając **New -> Vector Asset**. `id` pozycji w `menu` musi być takie same jak w nawigacji - w pliku `navigation.xml` - pomijamy `SettingsFragment`. Przejdźmy do layoutu głównej aktywności i dodajmy `FragmentContainer` oraz `BottomNavigationView`"
   ]
  },
  {
   "cell_type": "code",
   "execution_count": null,
   "id": "a1316b3c-f5c8-417e-af3a-127f9c28c287",
   "metadata": {},
   "outputs": [],
   "source": [
    "<?xml version=\"1.0\" encoding=\"utf-8\"?>\n",
    "<LinearLayout xmlns:android=\"http://schemas.android.com/apk/res/android\"\n",
    "    xmlns:tools=\"http://schemas.android.com/tools\"\n",
    "    xmlns:app=\"http://schemas.android.com/apk/res-auto\"\n",
    "    android:layout_width=\"match_parent\"\n",
    "    android:layout_height=\"match_parent\"\n",
    "    android:orientation=\"vertical\"\n",
    "    tools:context=\".MainActivity\">\n",
    "\n",
    "    <androidx.fragment.app.FragmentContainerView\n",
    "        android:id=\"@+id/nav_host_fragment\"\n",
    "        android:name=\"androidx.navigation.fragment.NavHostFragment\"\n",
    "        android:layout_width=\"match_parent\"\n",
    "        android:layout_height=\"0dp\"\n",
    "        android:layout_weight=\"1\"\n",
    "        app:defaultNavHost=\"true\"\n",
    "        app:navGraph=\"@navigation/navigation\"/>\n",
    "\n",
    "    <com.google.android.material.bottomnavigation.BottomNavigationView\n",
    "        android:id=\"@+id/bottom_nav_view\"\n",
    "        android:layout_width=\"match_parent\"\n",
    "        android:layout_height=\"wrap_content\"\n",
    "        app:menu=\"@menu/bottom_nav_menu\" />\n",
    "\n",
    "</LinearLayout>"
   ]
  },
  {
   "cell_type": "markdown",
   "id": "7947fa2e-6fbf-4ccc-9c6c-93973d9430dc",
   "metadata": {},
   "source": [
    "Zdefiniujmy dwa widoki w interfejsie użytkownika głównej aktywności - `FragmentContainerView` i `BottomNavigationView`.\n",
    "- `FragmentContainerView` to kontener fragmentu, który definiuje obszar, w którym będą wyświetlane fragmenty po nawigacji między nimi\n",
    "- `BottomNavigationView` to pasek nawigacyjny na dole ekranu z zakładkami, który umożliwia użytkownikowi łatwe przechodzenie między różnymi funkcjonalnościami aplikacji.\n",
    "\n",
    "`FragmentContainerView` wymaga zdefiniowania dwóch atrybutów - `app:defaultNavHost=\"true\"`, który wskazuje, że ten kontener fragmentu będzie działał jako domyślny kontener nawigacji, i `app:navGraph=\"@navigation/navigation\"`, który wskazuje na plik nawigacji zdefiniowany w folderze zasobów, który zostanie użyty do nawigacji między fragmentami.\n",
    "\n",
    "`BottomNavigationView` wymaga, aby określono plik menu (`app:menu=\"@menu/bottom_nav_menu\"`), który zawiera definicję wszystkich zakładek (`item`) w pasku nawigacyjnym. Każda pozycja w menu reprezentuje inną funkcjonalność aplikacji i jest skojarzona z odpowiednim fragmentem lub akcją nawigacji."
   ]
  },
  {
   "cell_type": "markdown",
   "id": "acd71b90-49f1-4461-911c-6f26c9b11cb5",
   "metadata": {},
   "source": [
    "Ostatnim krokiem jest połączenie głównej aktywności z `Jetpack Navigation` oraz `BottomNavigationView`. Przedźmy do klasy `MainActivity`. Wpierw dodajmy `NavController`"
   ]
  },
  {
   "cell_type": "code",
   "execution_count": null,
   "id": "e4aaaff9-a805-4300-a1a0-b3a0a969ceb3",
   "metadata": {},
   "outputs": [],
   "source": [
    "private val navController: NavController by lazy {\n",
    "    val navHostFragment = supportFragmentManager.findFragmentById(R.id.nav_host_fragment)\n",
    "            as NavHostFragment\n",
    "    navHostFragment.findNavController()\n",
    "}"
   ]
  },
  {
   "cell_type": "markdown",
   "id": "fa9db7e1-23a1-4427-8221-a5f5fda882ce",
   "metadata": {},
   "source": [
    "Chcemy uzyskać dostęp do obiektu `NavController`, który jest odpowiedzialny za nawigację między fragmentami. \n",
    "\n",
    "Obiekt `NavHostFragment` odpowiada za hostowanie fragmentów i zarządzanie ich nawigacją. Aby utworzyć ten obiekt, najpierw musimy uzyskać dostęp do menadżera fragmentów z klasy `FragmentActivity` za pomocą metody `getSupportFragmentManager()`. Następnie używamy metody `findFragmentById()` do znalezienia identyfikatora widoku `R.id.nav_host_fragment`, który jest kontenerem dla fragmentów. Metoda ta zwraca obiekt typu `Fragment?`, który musimy rzutować na obiekt `NavHostFragment`. Po tym rzutowaniu mamy dostęp do obiektu `navHostFragment`, który możemy użyć do uzyskania kontrolera nawigacji.\n",
    "\n",
    "Wywołanie metody `findNavController()` na obiekcie `NavHostFragment` zwraca obiekt `NavController` powiązany z fragmentem."
   ]
  },
  {
   "cell_type": "markdown",
   "id": "f0ad5fee-9f1f-4bb5-9d62-39b94e839e67",
   "metadata": {},
   "source": [
    "Następnie musimy połączyć `BottomNavigationView` z `Navigation` - robimy to w metodzie `onCreate`"
   ]
  },
  {
   "cell_type": "code",
   "execution_count": null,
   "id": "2ad4bcc0-de98-4dc6-96bf-aa9832f6cc6d",
   "metadata": {},
   "outputs": [],
   "source": [
    "override fun onCreate(savedInstanceState: Bundle?) {\n",
    "    super.onCreate(savedInstanceState)\n",
    "    setContentView(binding.root)\n",
    "\n",
    "    binding.bottomNavView.setupWithNavController(navController)\n",
    "}"
   ]
  },
  {
   "cell_type": "markdown",
   "id": "a2b3312f-e6e3-47dd-b717-c145668b6401",
   "metadata": {},
   "source": [
    "Możemy przetestować aplikację"
   ]
  },
  {
   "cell_type": "markdown",
   "id": "853f3988-a760-4c83-930b-63c38a06428c",
   "metadata": {},
   "source": [
    "<img src=\"https://media1.giphy.com/media/RAoPBRNJRh3xGzK5Mg/giphy.gif?cid=790b761142c45c3857e061db4a4da9d95ce06a0511e4cf6a&rid=giphy.gif&ct=g\" width=\"150\" />"
   ]
  },
  {
   "cell_type": "markdown",
   "id": "35a0aa81-f344-4793-b6e9-95f88612f505",
   "metadata": {},
   "source": [
    "### **Menu Navigation**"
   ]
  },
  {
   "cell_type": "markdown",
   "id": "b08cd372-5352-4e3b-8866-dfbcb064dec1",
   "metadata": {},
   "source": [
    "Dodamy jeszcze możliwość przejścia na `SettingsFragment` z poziomu `menu` na `Actionbar`. W pierwszym kroku zdefiniujmy nasze menu - do katalogu `menu` dodajemy plik `actionbar_menu.xml`"
   ]
  },
  {
   "cell_type": "code",
   "execution_count": null,
   "id": "e725bd4b-b1b3-4aa1-90c7-54a0601cbfba",
   "metadata": {},
   "outputs": [],
   "source": [
    "<?xml version=\"1.0\" encoding=\"utf-8\"?>\n",
    "<menu xmlns:android=\"http://schemas.android.com/apk/res/android\">\n",
    "    <item\n",
    "        android:id=\"@id/settingsFragment\"\n",
    "        android:icon=\"@drawable/ic_settings\"\n",
    "        android:title=\"SETTINGS\" />\n",
    "</menu>"
   ]
  },
  {
   "cell_type": "markdown",
   "id": "0148f2fa-fdc9-4aca-97f6-942ddd53d515",
   "metadata": {},
   "source": [
    "Następnie musimy zdefiniować `AppBarConfiguration` i połączyć `Actionbar` z `NavControoller`. W `MainActivity` dodajemy"
   ]
  },
  {
   "cell_type": "markdown",
   "id": "0ee8825f-f284-4701-b027-8b8e743aff44",
   "metadata": {},
   "source": [
    "`AppBarConfiguration` to klasa, która pozwala na konfigurację paska akcji w aplikacji. Tworzymy nową instancję tej klasy z użyciem grafu nawigacji, który jest pobierany z kontrolera nawigacji."
   ]
  },
  {
   "cell_type": "code",
   "execution_count": null,
   "id": "175e72c5-de72-43a6-bbf9-c738ffaf6a0f",
   "metadata": {},
   "outputs": [],
   "source": [
    "private val appBarConfiguration: AppBarConfiguration by lazy {\n",
    "    AppBarConfiguration(navController.graph)\n",
    "}"
   ]
  },
  {
   "cell_type": "markdown",
   "id": "744f50c3-4fc4-4fa5-8a53-371916a7ad14",
   "metadata": {},
   "source": [
    "oraz w metodzie `onCreate`"
   ]
  },
  {
   "cell_type": "code",
   "execution_count": null,
   "id": "988ea3a4-efed-41e1-a506-ea5991c8ad5d",
   "metadata": {},
   "outputs": [],
   "source": [
    "setupActionBarWithNavController(navController, appBarConfiguration)"
   ]
  },
  {
   "cell_type": "markdown",
   "id": "3f77d8cc-7d86-4151-aed9-2532612902f4",
   "metadata": {},
   "source": [
    "Funkcja `setupActionBarWithNavController()` jest używana w celu połączenia `ActionBar` z `NavController` i automatycznej synchronizacji stanu `ActionBar` z bieżącym widokiem nawigacji. Dzięki temu, gdy użytkownik przechodzi z jednego miejsca do drugiego w aplikacji, `ActionBar` zostanie automatycznie zaktualizowany z odpowiednim tytułem i przyciskami nawigacyjnymi w zależności od widoku nawigacji.\n",
    "\n",
    "Funkcja ta przyjmuje dwa parametry:\n",
    "- `navController: NavController`, który chcemy połączyć z `ActionBar`.\n",
    "- `appBarConfiguration: AppBarConfiguration`, która definiuje struktury nawigacji.\n",
    "\n",
    "Po wywołaniu tej funkcji, `ActionBar` zostanie automatycznie skonfigurowane do uaktualniania swojego stanu w zależności od widoku nawigacji."
   ]
  },
  {
   "cell_type": "markdown",
   "id": "716f888c-d199-4f0b-9fbd-9fa4cb91a9ec",
   "metadata": {},
   "source": [
    "Musimy również połączyć layout menu zdefiniowany w pliku `actionbar_menu` z `ActionBar` - robimy do w klasie `MainActivity` nadpisując metodę `onCreateOptionsMenu`"
   ]
  },
  {
   "cell_type": "markdown",
   "id": "42bf369f-6d2c-4d9e-aa10-3b2beefa513e",
   "metadata": {},
   "source": [
    "Metoda `onCreateOptionsMenu()` służy do tworzenia menu. W tym przypadku, metoda ta używa obiektu `MenuInflater`, aby utworzyć menu na podstawie pliku `action_bar_menu.xml`. Zwraca true, aby wskazać, że menu zostało utworzone poprawnie."
   ]
  },
  {
   "cell_type": "code",
   "execution_count": null,
   "id": "6ff7e305-59cb-4e8e-ae33-d14573d6dc39",
   "metadata": {},
   "outputs": [],
   "source": [
    "override fun onCreateOptionsMenu(menu: Menu): Boolean {\n",
    "    menuInflater.inflate(R.menu.actionbar_menu, menu)\n",
    "    return super.onCreateOptionsMenu(menu)\n",
    "}"
   ]
  },
  {
   "cell_type": "markdown",
   "id": "1299a62b-af27-4db7-8bfa-58fe93f00453",
   "metadata": {},
   "source": [
    "Kolejnym krokiem jest dodanie możliwości nawigacji przy kliknięciu wybranej opcji - to wykonujemy nadpisując metodę `onOptionsItemSelected` w klasie `MainActivity`"
   ]
  },
  {
   "cell_type": "markdown",
   "id": "b2b02d3a-31be-4c5b-84b1-d721af10ae4e",
   "metadata": {},
   "source": [
    "Metoda `onOptionsItemSelected()` jest wywoływana, gdy użytkownik wybierze opcję z menu. Ta metoda obsługuje zdarzenia kliknięcia w elementy menu, które są połączone z określonymi celami nawigacji w grafie nawigacji. W tym przypadku wywołuje metodę `onNavDestinationSelected()` dla obiektu `MenuItem`. Metoda ta sprawdza, czy dany element menu jest połączony z celami nawigacji w grafie, i jeśli tak, to przekierowuje użytkownika do tego celu, korzystając z obiektu `NavController`. Jeśli dany element menu nie jest powiązany z celami nawigacji, wywoływana jest domyślna implementacja metody."
   ]
  },
  {
   "cell_type": "code",
   "execution_count": null,
   "id": "15294f73-5dde-45c2-9dc1-8af5732fd619",
   "metadata": {},
   "outputs": [],
   "source": [
    "override fun onOptionsItemSelected(item: MenuItem): Boolean {\n",
    "    return item.onNavDestinationSelected(navController)\n",
    "            || super.onOptionsItemSelected(item)\n",
    "}"
   ]
  },
  {
   "cell_type": "markdown",
   "id": "64c4be53-ecae-455b-8d01-717457e65095",
   "metadata": {},
   "source": [
    "Ostatnim elementem będzie umożliwienie powrotu z `SettingsFragment` do `HomeFragment` przez przycisk powrotu w aplikacji - w tym celu nadpisujemy metodę `onSupportNavigateUp` w klasie `MainActivity`"
   ]
  },
  {
   "cell_type": "markdown",
   "id": "28282ff5-9ca9-4a2e-89fa-24bf69256dad",
   "metadata": {},
   "source": [
    "Metoda `onSupportNavigateUp()` służy do obsługi przycisku cofania systemowego na pasku nawigacji. W tym przypadku wywołuje metodę `navigateUp()` dla obiektu `NavController`, aby przekierować użytkownika z powrotem do poprzedniego celu nawigacji, jeśli to możliwe. Jeśli nie jest to możliwe, metoda wywołuje domyślną implementację, która kończy bieżącą aktywność."
   ]
  },
  {
   "cell_type": "code",
   "execution_count": null,
   "id": "b847b19e-db7f-4346-b040-c60b9ab9a186",
   "metadata": {},
   "outputs": [],
   "source": [
    "override fun onSupportNavigateUp(): Boolean {\n",
    "    return navController.navigateUp(appBarConfiguration)\n",
    "            || super.onSupportNavigateUp()\n",
    "}"
   ]
  },
  {
   "cell_type": "markdown",
   "id": "bec8e7f1-526c-45e2-8929-587d78c47c4e",
   "metadata": {},
   "source": [
    "Możemy przetestować aplikację"
   ]
  },
  {
   "cell_type": "markdown",
   "id": "db198bb1-2e9a-4831-9038-d808d5c4a9aa",
   "metadata": {},
   "source": [
    "<img src=\"https://media0.giphy.com/media/8mzEzkPcR5jBCVzjf5/giphy.gif?cid=790b761101e1065f89e55c786d7cc54428a8c153e97e7892&rid=giphy.gif&ct=g\" width=\"150\" />"
   ]
  }
 ],
 "metadata": {
  "kernelspec": {
   "display_name": "Kotlin",
   "language": "kotlin",
   "name": "kotlin"
  },
  "language_info": {
   "codemirror_mode": "text/x-kotlin",
   "file_extension": ".kt",
   "mimetype": "text/x-kotlin",
   "name": "kotlin",
   "nbconvert_exporter": "",
   "pygments_lexer": "kotlin",
   "version": "1.8.0-RC"
  }
 },
 "nbformat": 4,
 "nbformat_minor": 5
}
