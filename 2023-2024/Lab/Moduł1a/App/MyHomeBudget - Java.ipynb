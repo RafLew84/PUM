{
 "cells": [
  {
   "cell_type": "markdown",
   "id": "e49fc239-6a3f-4ec7-bba0-7564ef728fb2",
   "metadata": {},
   "source": [
    "## MyHomeBudget"
   ]
  },
  {
   "cell_type": "markdown",
   "id": "842d02a0-09bf-4a43-8e6a-3490aee7a35c",
   "metadata": {},
   "source": [
    "Aplikacja MyFinance wykorzystuje `TabLayout Navigation` z `ViewPager2`. Dane dostarczymy przez klasę `dataProvider` zawierający hardcodowane przykładowe pozycje (*dummy data*). Aplikacja zawiera trzy ekrany pokazujące stan oszczędności oraz rachunki - ekran główny zawiera podsumowanie. Dodamy customową animację do `TabLayout.Tab` oraz `DonutChart` podsumowujący stan naszych finansów oraz kilka elementów urozmaicających wygląd naszej aplikacji. Sam layout aplikacji bazuje na przykładzie z **Android Open Project** [link](https://github.com/android/compose-samples/tree/main/Rally)"
   ]
  },
  {
   "cell_type": "markdown",
   "id": "f7955c07-34ba-4ab0-945b-6405db834ac5",
   "metadata": {},
   "source": [
    "<table><tr><td><img src=\"https://media1.giphy.com/media/49RzyXBmRBa59Wi47n/giphy.gif?cid=790b76111b9b9991bd4197bf8d7295e517603d04f8ba2992&rid=giphy.gif&ct=g\" width=\"200\" /></td><td><img src=\"https://media1.giphy.com/media/zbqykvBYncTRQLCAja/giphy.gif?cid=790b7611d47e3d6d46e7b736ac29fe3cc9bc281aed07c1c0&rid=giphy.gif&ct=g\" width=\"200\" /></td><td><img src=\"https://media3.giphy.com/media/BbcDIUyV6IodX2yGVx/giphy.gif?cid=790b7611d1bf2abf7deacc8ad5a71a6a13adfbc9f4344954&rid=giphy.gif&ct=g\" width=\"200\" /></td></tr></table>"
   ]
  },
  {
   "cell_type": "markdown",
   "id": "2cc57628-090a-4798-b4a8-1a4919767193",
   "metadata": {},
   "source": [
    "Rozpocznijmy od dodania zależności do projektu - wykorzystamy `DonutChart` (wykorzystamy [doughnut](https://github.com/futuredapp/donut)) oraz `CardView`"
   ]
  },
  {
   "cell_type": "code",
   "execution_count": null,
   "id": "3fe1cbab-8f1b-4d6e-b312-6dd431f74539",
   "metadata": {},
   "outputs": [],
   "source": [
    "implementation(\"app.futured.donut:donut:2.2.2\")\n",
    "implementation (\"androidx.cardview:cardview:1.0.0\")"
   ]
  },
  {
   "cell_type": "markdown",
   "id": "a46c190c-01d0-4b79-a707-df56af4981a1",
   "metadata": {},
   "source": [
    "Tak jak w poprzednich aplikacjach, będdziemy wykorzystywać `ViewBinding`"
   ]
  },
  {
   "cell_type": "code",
   "execution_count": null,
   "id": "7c677890-79ea-4c15-8866-99d90b50c63c",
   "metadata": {},
   "outputs": [],
   "source": [
    "android {\n",
    "    ...\n",
    "    buildFeatures {\n",
    "        viewBinding = true\n",
    "    }\n",
    "}"
   ]
  },
  {
   "cell_type": "markdown",
   "id": "59e9c4f7-41c7-43a5-86b2-24973404c552",
   "metadata": {},
   "source": [
    "Nasza aplikacja będzie posiadała zdefiniowany layout tylko w orientacji `portrait`, więc zablookujemy możliwość zmiany w plik `AndroidManifest.xml` - do aktywności dodamy"
   ]
  },
  {
   "cell_type": "code",
   "execution_count": null,
   "id": "cb16cdbb-4128-4695-af95-27df4d04dfdd",
   "metadata": {},
   "outputs": [],
   "source": [
    "android:screenOrientation=\"portrait\""
   ]
  },
  {
   "cell_type": "markdown",
   "id": "2c89590a-6940-4940-83b5-3d68fd8dc1c0",
   "metadata": {},
   "source": [
    "### **TabLayout i ViewPager2**"
   ]
  },
  {
   "cell_type": "markdown",
   "id": "9d2c7140-11e7-424f-aaae-503fc9030f75",
   "metadata": {},
   "source": [
    "Rozpoczniemy od dodania nawigacji. Aplikacja będzie posiadać trzy ekrany, więc dodajmy trzy fragmenty (`BlankFragment`) - `OverviewFragment`, `AccountsFragment`, `BillsFragment`"
   ]
  },
  {
   "cell_type": "code",
   "execution_count": null,
   "id": "18f43cd8-89ce-48cb-9503-e4ebc9d74d61",
   "metadata": {},
   "outputs": [],
   "source": [
    "public class AccountsFragment extends Fragment {\n",
    "\n",
    "    private FragmentAccountsBinding binding;\n",
    "\n",
    "    @Override\n",
    "    public View onCreateView(@NonNull LayoutInflater inflater, ViewGroup container,\n",
    "                             Bundle savedInstanceState) {\n",
    "        binding = FragmentAccountsBinding.inflate(inflater);\n",
    "        return binding.getRoot();\n",
    "    }\n",
    "}"
   ]
  },
  {
   "cell_type": "code",
   "execution_count": null,
   "id": "606a7bf1-cc8c-46e5-a6f6-b26b49332225",
   "metadata": {},
   "outputs": [],
   "source": [
    "public class BillsFragment extends Fragment {\n",
    "\n",
    "    private FragmentBillsBinding binding;\n",
    "\n",
    "    @Override\n",
    "    public View onCreateView(@NonNull LayoutInflater inflater, ViewGroup container,\n",
    "                             Bundle savedInstanceState) {\n",
    "        binding = FragmentBillsBinding.inflate(inflater);\n",
    "        return binding.getRoot();\n",
    "    }\n",
    "}"
   ]
  },
  {
   "cell_type": "code",
   "execution_count": null,
   "id": "01c13973-7704-43ee-89c9-019500fa3b8a",
   "metadata": {},
   "outputs": [],
   "source": [
    "public class OverviewFragment extends Fragment {\n",
    "\n",
    "    private FragmentOverviewBinding binding;\n",
    "\n",
    "    @Override\n",
    "    public View onCreateView(@NonNull LayoutInflater inflater, ViewGroup container,\n",
    "                             Bundle savedInstanceState) {\n",
    "        binding = FragmentOverviewBinding.inflate(inflater);\n",
    "        return binding.getRoot();\n",
    "    }\n",
    "}"
   ]
  },
  {
   "cell_type": "markdown",
   "id": "a916e600-077d-4609-b5ec-9b9bc8e76743",
   "metadata": {},
   "source": [
    "W layoutach chwilowo zmieniam tylko text pola `TextView` na nazwę fragmentu. Ponieważ nasza aplikacja będzie posiadać tylko jeden motyw usuwamy plik `themes.xml(night)` do pliku `colors.xml` dodajemy kilka kolorów"
   ]
  },
  {
   "cell_type": "code",
   "execution_count": null,
   "id": "b343b759-69c9-4374-abef-7ff72ab3794a",
   "metadata": {},
   "outputs": [],
   "source": [
    "<color name=\"green_500\">#FF1EB980</color>\n",
    "<color name=\"dark_blue_900\">#FF26282F</color>\n",
    "<color name=\"dark_blue_500\">#FF004940</color>"
   ]
  },
  {
   "cell_type": "markdown",
   "id": "79c93e44-8751-40a9-81a2-e0fbea5cbba9",
   "metadata": {},
   "source": [
    "Następnie modyfikujemy plik `themes.xml`"
   ]
  },
  {
   "cell_type": "code",
   "execution_count": null,
   "id": "471055b7-d97b-4d24-9e53-b38729a35b17",
   "metadata": {},
   "outputs": [],
   "source": [
    "<resources xmlns:tools=\"http://schemas.android.com/tools\">\n",
    "    <!-- Base application theme. -->\n",
    "    <style name=\"Theme.MyHomeBudgetKotlin\" parent=\"Theme.MaterialComponents.DayNight.NoActionBar\">\n",
    "        <!-- Primary brand color. -->\n",
    "        <item name=\"colorPrimary\">@color/dark_blue_500</item>\n",
    "        <item name=\"colorPrimaryVariant\">@color/dark_blue_900</item>\n",
    "        <item name=\"colorOnPrimary\">@color/teal_700</item>\n",
    "        <!-- Secondary brand color. -->\n",
    "        <item name=\"colorSecondary\">@color/teal_700</item>\n",
    "        <item name=\"colorSecondaryVariant\">@color/teal_200</item>\n",
    "        <item name=\"colorOnSecondary\">@color/white</item>\n",
    "        <!-- Status bar color. -->\n",
    "        <item name=\"android:statusBarColor\" >?attr/colorPrimaryVariant</item>\n",
    "        <!-- Customize your theme here. -->\n",
    "    </style>\n",
    "</resources>"
   ]
  },
  {
   "cell_type": "markdown",
   "id": "1547607b-f3db-464c-9038-efe971f3c6ac",
   "metadata": {},
   "source": [
    "Aplikacja nie będzie wykorzystywać `ActionBar`, więc jako `parent` podajemy `NoActionBar`.\n",
    "\n",
    "Nasz `ViewPager2` dodamy bezpośrednio do `MainActivity` - zmodyfikujmy layout"
   ]
  },
  {
   "cell_type": "code",
   "execution_count": null,
   "id": "d29a9635-c161-4212-b9ac-003b9eafc289",
   "metadata": {},
   "outputs": [],
   "source": [
    "<?xml version=\"1.0\" encoding=\"utf-8\"?>\n",
    "<LinearLayout xmlns:android=\"http://schemas.android.com/apk/res/android\"\n",
    "    xmlns:app=\"http://schemas.android.com/apk/res-auto\"\n",
    "    xmlns:tools=\"http://schemas.android.com/tools\"\n",
    "    android:layout_width=\"match_parent\"\n",
    "    android:layout_height=\"match_parent\"\n",
    "    android:orientation=\"vertical\">\n",
    "\n",
    "    <com.google.android.material.tabs.TabLayout\n",
    "        android:id=\"@+id/tabLayout\"\n",
    "        android:layout_width=\"match_parent\"\n",
    "        android:background=\"@color/dark_blue_900\"\n",
    "        app:tabTextColor=\"@color/white\"\n",
    "        android:layout_height=\"wrap_content\"\n",
    "        app:tabInlineLabel=\"true\"\n",
    "        app:tabIconTint=\"@color/teal_200\"\n",
    "        app:tabMode=\"fixed\"\n",
    "        app:tabGravity=\"start\"\n",
    "        app:tabMaxWidth=\"0dp\" />\n",
    "\n",
    "    <androidx.viewpager2.widget.ViewPager2\n",
    "        android:id=\"@+id/viewPager\"\n",
    "        android:layout_width=\"match_parent\"\n",
    "        android:layout_height=\"0dp\"\n",
    "        android:layout_weight=\"1\"/>\n",
    "\n",
    "</LinearLayout>"
   ]
  },
  {
   "cell_type": "markdown",
   "id": "94084c75-8b8e-4240-8ba2-f6abfacf0edb",
   "metadata": {},
   "source": [
    "Kilka elementów zastosowanych w `TabLayout`\n",
    "- `tabMode` - sposób w jaki mają zostać wyświetlone zakładki\n",
    "    - `fixed` - tak jak zostaną podane, rozmiar zostanie automatycznie dostosowany\n",
    "    - `scrollable` - zakładki nie będą dokowane na całą szerokość ekranu, tylko kilka zostanie wyświetlonych - dostęp do niewidocznych użytkownik może uzyskać przez przewijanie\n",
    "- `tabGravity` - sposób rozmieszczenia zakładek\n",
    "- `tabMaxWidth` - ustawienie maksymalnej szerokości - `0dp` dostosowuje rozmiar zakładki do jej zawartości\n",
    "- `tabIconTint` - kolor wyświetlanej ikony\n",
    "- `tabInlineLabel` - ustawienie ikony i tekstu w rzędzie - przyjmuje `true` lub `false`\n",
    "\n",
    "`ViewPager2` zawiera `layout_height` ustawiony na `0dp` oraz `layout_weight = \"1\"` pozwala wypełnić pozostałą przestrzeń w `LinearLayout`"
   ]
  },
  {
   "cell_type": "markdown",
   "id": "d30811e9-f176-40d6-bed6-9bb38e21f97a",
   "metadata": {},
   "source": [
    "Dodajmy klasę `FinanceAdapter` będącą adapterem naszego `ViewPager2`"
   ]
  },
  {
   "cell_type": "code",
   "execution_count": null,
   "id": "c89c14f6-39b7-431e-a0b7-6834c7cf99ea",
   "metadata": {},
   "outputs": [],
   "source": [
    "class FinanceAdapter extends FragmentStateAdapter {\n",
    "\n",
    "    private final Fragment[] fragments = {\n",
    "            new OverviewFragment(),\n",
    "            new AccountsFragment(),\n",
    "            new BillsFragment()\n",
    "    };\n",
    "\n",
    "    public FinanceAdapter(@NonNull FragmentActivity fragmentActivity) {\n",
    "        super(fragmentActivity);\n",
    "    }\n",
    "\n",
    "    @NonNull\n",
    "    @Override\n",
    "    public Fragment createFragment(int position) {\n",
    "        return fragments[position];\n",
    "    }\n",
    "\n",
    "    @Override\n",
    "    public int getItemCount() {\n",
    "        return fragments.length;\n",
    "    }\n",
    "}"
   ]
  },
  {
   "cell_type": "markdown",
   "id": "a7b9890a-9700-43d5-9094-541fc0ae1441",
   "metadata": {},
   "source": [
    "W klasie definiujemy listę fragmentów która jest inicjalizowana trzema fragmentami: `OverviewFragment`, `AccountsFragment` i `BillsFragment` - są to komponenty naszej nawigacji."
   ]
  },
  {
   "cell_type": "markdown",
   "id": "13cb3e5b-11c6-403a-86cf-2108a49fccde",
   "metadata": {},
   "source": [
    "Następnie utworzymy `ViewPager2` i `TabLayout` w metodzie `onCreate` głównej aktywności"
   ]
  },
  {
   "cell_type": "code",
   "execution_count": null,
   "id": "d4382291-91a4-45c0-88f7-0228baa411fa",
   "metadata": {},
   "outputs": [],
   "source": [
    "public class MainActivity extends AppCompatActivity {\n",
    "\n",
    "    private ActivityMainBinding binding;\n",
    "\n",
    "    @Override\n",
    "    protected void onCreate(Bundle savedInstanceState) {\n",
    "        super.onCreate(savedInstanceState);\n",
    "        binding = ActivityMainBinding.inflate(getLayoutInflater());\n",
    "        setContentView(binding.getRoot());\n",
    "\n",
    "\n",
    "        binding.viewPager.setAdapter(new FinanceAdapter(this));\n",
    "\n",
    "    }\n",
    "}"
   ]
  },
  {
   "cell_type": "markdown",
   "id": "bda070fb-5933-4929-ad8b-18913d1ab706",
   "metadata": {},
   "source": [
    "Następnym krokiem jest napisanie metody `setupTabLayoutMediator`, dodajmy do projektu nowy pakiet `util` i w nim utworzymy nowy plik `TabSetupUtil`. Do pliku dodajmy tytuły naszych zakładek"
   ]
  },
  {
   "cell_type": "code",
   "execution_count": null,
   "id": "85915096-02db-41fb-bae2-50b3fb3ecad8",
   "metadata": {},
   "outputs": [],
   "source": [
    "public final class TabSetupUtil {\n",
    "    private TabSetupUtil(){}\n",
    "\n",
    "    private static final int[] tabTitles = {R.string.overview, R.string.accounts, R.string.bills};\n",
    "}"
   ]
  },
  {
   "cell_type": "markdown",
   "id": "c4e72e19-5448-44af-ac50-5fc3fb18cfa8",
   "metadata": {},
   "source": [
    "I do pliku `strings.xml`"
   ]
  },
  {
   "cell_type": "code",
   "execution_count": null,
   "id": "858ff7d3-5b25-4450-ba2c-5ae07fe08a93",
   "metadata": {},
   "outputs": [],
   "source": [
    "<string name=\"overview\">Overview</string>\n",
    "<string name=\"accounts\">Accounts</string>\n",
    "<string name=\"bills\">Bills</string>"
   ]
  },
  {
   "cell_type": "markdown",
   "id": "8af8d4bd-7982-4518-b72e-18a914d8fe97",
   "metadata": {},
   "source": [
    "Dodajmy metodę `setupTabLayoutMediator` do pliku `UiSetup`"
   ]
  },
  {
   "cell_type": "code",
   "execution_count": null,
   "id": "fb9d4548-b958-4dc5-af3a-cf8899c6c375",
   "metadata": {},
   "outputs": [],
   "source": [
    "public static void setupTabLayoutMediator(\n",
    "        Context context,\n",
    "        TabLayout tabLayout,\n",
    "        ViewPager2 viewPager2\n",
    ") {\n",
    "    new TabLayoutMediator(tabLayout, viewPager2,\n",
    "            (tab, position) -> {\n",
    "                tab.setText(context.getString(tabTitles[position]));\n",
    "            }\n",
    "    ).attach();\n",
    "}"
   ]
  },
  {
   "cell_type": "code",
   "execution_count": null,
   "id": "c6246945-6dbf-47d3-bcdb-74a7b751c014",
   "metadata": {},
   "outputs": [],
   "source": [
    "public class MainActivity extends AppCompatActivity {\n",
    "\n",
    "    private ActivityMainBinding binding;\n",
    "\n",
    "    @Override\n",
    "    protected void onCreate(Bundle savedInstanceState) {\n",
    "        super.onCreate(savedInstanceState);\n",
    "        binding = ActivityMainBinding.inflate(getLayoutInflater());\n",
    "        setContentView(binding.getRoot());\n",
    "\n",
    "\n",
    "        binding.viewPager.setAdapter(new FinanceAdapter(this));\n",
    "        TabSetupUtil.setupTabLayoutMediator(this, binding.tabLayout, binding.viewPager);\n",
    "    }\n",
    "}"
   ]
  },
  {
   "cell_type": "markdown",
   "id": "c8af781e-98fa-4425-8bc8-76349c891d77",
   "metadata": {},
   "source": [
    "Jest to funkcja, która łączy `TabLayout` z `ViewPager2`.\n",
    "\n",
    "`TabLayoutMediator` to klasa, która umożliwia połączenie `TabLayout` i `ViewPager2`. Następnie używamy lambdy, aby ustawiać tekst w każdym elemencie `TabLayout`. Wewnętrzna zmienna `position` przechowuje pozycję aktualnego fragmentu, a `context.getString(tabTitles[position])` zwraca tekst, który jest pobierany z tablicy stringów o nazwie `tabTitles` zdefiniowanej wcześniej.\n",
    "\n",
    "Na koniec wywołujemy metodę `attach()`, aby zakończyć proces połączenia `TabLayout` i `ViewPager2`."
   ]
  },
  {
   "cell_type": "markdown",
   "id": "f71b0edc-7c77-4f3c-ad3b-1e60a6b75a35",
   "metadata": {},
   "source": [
    "Możemy przetestować aplikację"
   ]
  },
  {
   "cell_type": "markdown",
   "id": "cd827b7b-e2c8-488e-ac60-75703f7f6d05",
   "metadata": {},
   "source": [
    "<img src=\"https://media1.giphy.com/media/9IdIFNbyyewccfTTjG/giphy.gif?cid=790b76113f11b618eb6ce26cdf2e17faf07d98203cdf7e21&rid=giphy.gif&ct=g\" width=\"150\" />"
   ]
  },
  {
   "cell_type": "markdown",
   "id": "59b65058-52e0-4ee7-a569-187c9e2b1c9c",
   "metadata": {},
   "source": [
    "Dodajmy zestaw ikon dla naszych zakładek - przechodzimy do pliku `uiSetup`"
   ]
  },
  {
   "cell_type": "code",
   "execution_count": null,
   "id": "3b980ea6-df6b-4b47-aba5-5662dc2a99be",
   "metadata": {},
   "outputs": [],
   "source": [
    "private static final int[] tabTitles = {R.string.overview, R.string.accounts, R.string.bills};\n",
    "private static final int[] tabIcons = {\n",
    "    R.drawable.ic_overview,\n",
    "    R.drawable.ic_accounts, \n",
    "    R.drawable.ic_bills};"
   ]
  },
  {
   "cell_type": "markdown",
   "id": "999c0f71-c7f3-447b-a54c-2fce4a8c2d68",
   "metadata": {},
   "source": [
    "Zmodyfikujmy metodę `setupTabLayoutMediator`"
   ]
  },
  {
   "cell_type": "code",
   "execution_count": null,
   "id": "66e6bd1b-7db3-4386-8ca2-7229816634ae",
   "metadata": {},
   "outputs": [],
   "source": [
    "public static void tabLayoutSetup(Context context, TabLayout tabLayout, ViewPager2 viewPager) {\n",
    "    setupTabMediator(context, tabLayout, viewPager);\n",
    "}\n",
    "\n",
    "private static void setupTabMediator(\n",
    "        Context context,\n",
    "        TabLayout tabLayout,\n",
    "        ViewPager2 viewPager ){\n",
    "    new TabLayoutMediator(tabLayout, viewPager,\n",
    "            (tab, position) -> {\n",
    "                tab.setIcon(ContextCompat.getDrawable(context, tabIcons[position]));\n",
    "                tab.setText(context.getString(tabTitles[position]));\n",
    "                Objects.requireNonNull(tab.getIcon()).setTint(Color.WHITE);\n",
    "            }\n",
    "    ).attach();\n",
    "}"
   ]
  },
  {
   "cell_type": "markdown",
   "id": "174411fb-d83d-4fd7-b5eb-7df4ba8cad6c",
   "metadata": {},
   "source": [
    "Metoda `Objects.requireNonNull(tab.getIcon()).setTint()` pozwala zmienić kolor grafiki wektorowej - ustawiamy na białą. Nasza aplikacja teraz wygląda następująco."
   ]
  },
  {
   "cell_type": "markdown",
   "id": "850a7920-8d21-4c54-896f-e4f730a69cc2",
   "metadata": {},
   "source": [
    "<img src=\"https://media0.giphy.com/media/gGFILN8lnvSsCIacNt/giphy.gif?cid=790b7611d2de0256b614247faddd193614ba76fa00201eec&rid=giphy.gif&ct=g\" width=\"150\" />"
   ]
  },
  {
   "cell_type": "markdown",
   "id": "2db3d36e-f97e-4c27-a3fa-0faf4689105a",
   "metadata": {},
   "source": [
    "Chcemy pokazać tylko ikonę nie zaznaczonej zakładki oraz ikonę z tekstem wybranej zakładce. Dodajmy funkcję `setupTabSelection` w której zaimplementujemy metody `addOnTabSelectedListener`, oraz `tabLayoutSetup`, którą wywołamy w `MainActivity`. \n",
    "\n",
    "`TabSelectionListener` obsługuje tylko zdarzenia `onTabSelected`, `onTabUnselected` i `onTabReselected`. W pierwszych dwóch zmienimy tekst zakładki"
   ]
  },
  {
   "cell_type": "code",
   "execution_count": null,
   "id": "77c677f9-9cf4-48b5-97d5-8f7610a26381",
   "metadata": {},
   "outputs": [],
   "source": [
    "public final class TabSetupUtil {\n",
    "    private TabSetupUtil(){}\n",
    "\n",
    "    private static final int[] tabTitles = {R.string.overview, R.string.accounts, R.string.bills};\n",
    "    private static final int[] tabIcons = {\n",
    "            R.drawable.ic_overview,\n",
    "            R.drawable.ic_accounts,\n",
    "            R.drawable.ic_bills};\n",
    "\n",
    "    public static void tabLayoutSetup(Context context, TabLayout tabLayout, ViewPager2 viewPager) {\n",
    "        setupTabMediator(context, tabLayout, viewPager);\n",
    "        setupTabSelection(context, tabLayout);\n",
    "    }\n",
    "\n",
    "    private static void setupTabMediator(\n",
    "            Context context,\n",
    "            TabLayout tabLayout,\n",
    "            ViewPager2 viewPager ){\n",
    "        new TabLayoutMediator(tabLayout, viewPager,\n",
    "                (tab, position) -> {\n",
    "                    tab.setIcon(ContextCompat.getDrawable(context, tabIcons[position]));\n",
    "                    tab.setText(context.getString(tabTitles[position]));\n",
    "                    Objects.requireNonNull(tab.getIcon()).setTint(Color.WHITE);\n",
    "                }\n",
    "        ).attach();\n",
    "    }\n",
    "\n",
    "    private static void setupTabSelection(Context context, TabLayout tabLayout) {\n",
    "        tabLayout.addOnTabSelectedListener(new TabLayout.OnTabSelectedListener() {\n",
    "            @Override\n",
    "            public void onTabSelected(TabLayout.Tab tab) {\n",
    "                tab.setText(context.getString(tabTitles[tab.getPosition()]));\n",
    "                Objects.requireNonNull(tab.getIcon()).setTint(Color.WHITE);\n",
    "            }\n",
    "\n",
    "            @Override\n",
    "            public void onTabUnselected(TabLayout.Tab tab) {\n",
    "                tab.setText(\"\");\n",
    "            }\n",
    "\n",
    "            @Override\n",
    "            public void onTabReselected(TabLayout.Tab tab) {\n",
    "\n",
    "            }\n",
    "        });\n",
    "    }\n",
    "}"
   ]
  },
  {
   "cell_type": "markdown",
   "id": "1fa2469a-c0e6-4b13-9d8f-634dd50d6bda",
   "metadata": {},
   "source": [
    "Metoda `addOnTabSelectedListener` pozwala na zdefiniowanie zachowań, które będą wykonywane po wybraniu, odznaczeniu lub ponownym wybraniu zakładki.\n",
    "\n",
    "W przypadku tego kodu, gdy użytkownik wybierze zakładkę (`onTabSelected`), zmieniana jest wartość tekstu zakładki na wartość zdefiniowaną w `tabTitles` dla wybranej pozycji. Gdy użytkownik odznaczy zakładkę (`onTabUnselected`), wartość tekstu zostaje wyczyszczona. W przypadku ponownego wybrania zakładki (`onTabReselected`), nie dzieje się nic.\n",
    "\n",
    "Podsumowując, ten kod pozwala na dynamiczne ustawianie tekstu na zakładkach w `TabLayout` na podstawie wartości zdefiniowanych w `tabTitles`."
   ]
  },
  {
   "cell_type": "code",
   "execution_count": null,
   "id": "33e76a07-654b-4aaa-897a-32284a60ce26",
   "metadata": {},
   "outputs": [],
   "source": [
    "public class MainActivity extends AppCompatActivity {\n",
    "\n",
    "    private ActivityMainBinding binding;\n",
    "\n",
    "    @Override\n",
    "    protected void onCreate(Bundle savedInstanceState) {\n",
    "        super.onCreate(savedInstanceState);\n",
    "        binding = ActivityMainBinding.inflate(getLayoutInflater());\n",
    "        setContentView(binding.getRoot());\n",
    "\n",
    "\n",
    "        binding.viewPager.setAdapter(new FinanceAdapter(this));\n",
    "        TabSetupUtil.tabLayoutSetup(this, binding.tabLayout, binding.viewPager);\n",
    "    }\n",
    "}"
   ]
  },
  {
   "cell_type": "markdown",
   "id": "b05fb64c-284c-4b0a-a4d0-d7cddb433cc5",
   "metadata": {},
   "source": [
    "<img src=\"https://media0.giphy.com/media/uzc9KIxaD4KinhS1GQ/giphy.gif?cid=790b7611153c63bbec947cab1bc09d6c638f7323bdc36e8c&rid=giphy.gif&ct=g\" width=\"150\" />"
   ]
  },
  {
   "cell_type": "markdown",
   "id": "f569fdb0-a7f2-43e5-97cf-b5106326c99f",
   "metadata": {},
   "source": [
    "Musimy jeszcze zainicjować w odpowiedni sposób zakładki. Zmodyfikujmy metodę `setupTabLayoutMediator`. Tekst i kolor ikony ustawimy tylko dla `position == 0`, co odpowiada ekranowi głównemu aplikacji."
   ]
  },
  {
   "cell_type": "code",
   "execution_count": null,
   "id": "d6aa2e29-a85d-4c2f-ae3a-6afd6ac8c1dc",
   "metadata": {},
   "outputs": [],
   "source": [
    "private static void setupTabMediator(\n",
    "        Context context,\n",
    "        TabLayout tabLayout,\n",
    "        ViewPager2 viewPager ){\n",
    "    new TabLayoutMediator(tabLayout, viewPager,\n",
    "            (tab, position) -> {\n",
    "                tab.setIcon(ContextCompat.getDrawable(context, tabIcons[position]));\n",
    "                if (position == 0) {\n",
    "                    tab.setText(context.getString(tabTitles[position]));\n",
    "                    Objects.requireNonNull(tab.getIcon()).setTint(Color.WHITE);\n",
    "                }\n",
    "            }\n",
    "    ).attach();\n",
    "}"
   ]
  },
  {
   "cell_type": "markdown",
   "id": "ebe2d8d8-71f5-4f5d-b73e-ed385ce865db",
   "metadata": {},
   "source": [
    "<img src=\"https://media0.giphy.com/media/8wosma6sipcea16wxt/giphy.gif?cid=790b76114eedb95754c5e7f3b59ff15167d82c6bc0910831&rid=giphy.gif&ct=g\" width=\"150\" />"
   ]
  },
  {
   "cell_type": "markdown",
   "id": "efc3acbc-de82-494e-a7eb-029867047a0f",
   "metadata": {},
   "source": [
    "### Animacje"
   ]
  },
  {
   "cell_type": "markdown",
   "id": "a4675e2f-33d1-4b17-92bf-323c9eb97e76",
   "metadata": {},
   "source": [
    "Dodajmy customową animację do zakładek. Użyjemy prostego skalowania - niezaznaczona zakładka będzie wyświetlać tylko przeskalowaną (70%) ikonę. Dodajmy metodę `initialTabsSetup`"
   ]
  },
  {
   "cell_type": "code",
   "execution_count": null,
   "id": "cfa77cc0-d0db-4c35-9ab1-dcab5a66c885",
   "metadata": {},
   "outputs": [],
   "source": [
    "private static final float tabScaleLow = 0.7f;\n",
    "private static final float tabScaleHigh = 1f;\n",
    "\n",
    "private static void initialTabsSetup(TabLayout tabLayout) {\n",
    "    ViewGroup viewGroup = (ViewGroup) tabLayout.getChildAt(0);\n",
    "    for (int i = 0; i < viewGroup.getChildCount(); i++) {\n",
    "        if (i == tabLayout.getSelectedTabPosition())\n",
    "            continue;\n",
    "        View tab = viewGroup.getChildAt(i);\n",
    "        tab.setScaleX(tabScaleLow);\n",
    "        tab.setScaleY(tabScaleLow);\n",
    "    }\n",
    "}"
   ]
  },
  {
   "cell_type": "markdown",
   "id": "f6b8063d-934c-46cd-9c4e-c8a3d760859b",
   "metadata": {},
   "source": [
    "Skalować możemy tylko na obiektach `View` - bezpośrednio nie możemy tego zrobić na `TabLayout.Tab`, ponieważ nie rozszerza on `View`. Więc jako parametr metody podamy `ViewGroup`, który będzie naszym zawierał nasze zakładki. Z `TabLayout` wywołujemy metodę `getChildAt()` wyciągając wszyskie zakładki przypisane do tego `TabLayout` i rzutujemy na `ViewGroup`. Chcemy skalować wszystkie elementy poza aktualnie zaznaczonym, dlatego mamy warunek `if (...) continue`. Następnie wywołajmy tą metodę w `tabLayoutSetup`"
   ]
  },
  {
   "cell_type": "code",
   "execution_count": null,
   "id": "1a71aa80-f7f6-4445-a94d-460f63db2dbf",
   "metadata": {},
   "outputs": [],
   "source": [
    "public static void tabLayoutSetup(Context context, TabLayout tabLayout, ViewPager2 viewPager) {\n",
    "    setupTabMediator(context, tabLayout, viewPager);\n",
    "    initialTabsSetup(tabLayout);\n",
    "    setupTabSelection(context, tabLayout);\n",
    "}"
   ]
  },
  {
   "cell_type": "markdown",
   "id": "7cc46d21-e6de-4ce1-8e3f-117a82a906eb",
   "metadata": {},
   "source": [
    "Dodajmy metodę `setupAnimation` wykonującą prostą animację powiększania."
   ]
  },
  {
   "cell_type": "code",
   "execution_count": null,
   "id": "69e80ef0-2729-4312-98ef-3ecda1c50e99",
   "metadata": {},
   "outputs": [],
   "source": [
    "private static void setupAnimation(View view, float scale, long duration) {\n",
    "    view.animate()\n",
    "            .scaleX(scale)\n",
    "            .scaleY(scale)\n",
    "            .setInterpolator(new FastOutSlowInInterpolator())\n",
    "            .setDuration(duration)\n",
    "            .start();\n",
    "}"
   ]
  },
  {
   "cell_type": "markdown",
   "id": "2d35479a-5dfc-4ffa-847f-cf32316672ae",
   "metadata": {},
   "source": [
    "- `scaleX`, `scaleY` - skalowanie do zadanej wartości z przedziału (0.0 - 1.0)\n",
    "- `setInterpolator` - umożliwia wykorzystanie podstawowych animacji\n",
    "- `FastOutSlowInInterpolator` - wykorzysuje [tablicowanie](https://pl.wikipedia.org/wiki/Tablicowanie) z [krzywymi Beziera](https://pl.wikipedia.org/wiki/Krzywa_B%C3%A9ziera) do wykonania utworzenia animacji - tutaj zastosujemy skalowanie\n",
    "- `setDuration` - długość animacji w milisekundach\n",
    "\n",
    "Teraz wykorzystajmy tą metodę do zmiany rozmiarów zakładek po zaznaczeniu."
   ]
  },
  {
   "cell_type": "code",
   "execution_count": null,
   "id": "ea29721a-496c-4550-830a-de696ac9d23f",
   "metadata": {},
   "outputs": [],
   "source": [
    "private static void setupTabSelection(Context context, TabLayout tabLayout) {\n",
    "\n",
    "    ViewGroup viewGroup = (ViewGroup) tabLayout.getChildAt(0);\n",
    "\n",
    "    tabLayout.addOnTabSelectedListener(new TabLayout.OnTabSelectedListener() {\n",
    "        @Override\n",
    "        public void onTabSelected(TabLayout.Tab tab) {\n",
    "            tab.setText(context.getString(tabTitles[tab.getPosition()]));\n",
    "            Objects.requireNonNull(tab.getIcon()).setTint(Color.WHITE);\n",
    "\n",
    "            // zwracam aktualną zakładkę jako View\n",
    "            View currentChild = viewGroup.getChildAt(tab.getPosition());\n",
    "\n",
    "            // czas animacji pobrany z zasobów systemowych Android\n",
    "            long duration = (long) context.getResources()\n",
    "                    .getInteger(android.R.integer.config_mediumAnimTime);\n",
    "\n",
    "            setupAnimation(currentChild, tabScaleHigh, duration);\n",
    "        }\n",
    "\n",
    "        @Override\n",
    "        public void onTabUnselected(TabLayout.Tab tab) {\n",
    "            tab.setText(\"\");\n",
    "\n",
    "            View previousChild = viewGroup.getChildAt(tab.getPosition());\n",
    "            long duration = 1L;\n",
    "\n",
    "            setupAnimation(previousChild, tabScaleLow, duration);\n",
    "        }\n",
    "\n",
    "        @Override\n",
    "        public void onTabReselected(TabLayout.Tab tab) {\n",
    "\n",
    "        }\n",
    "    });\n",
    "}\n",
    "\n",
    "private static void setupAnimation(View view, float scale, long duration) {\n",
    "    view.animate()\n",
    "            .scaleX(scale)\n",
    "            .scaleY(scale)\n",
    "            .setInterpolator(new FastOutSlowInInterpolator())\n",
    "            .setDuration(duration)\n",
    "            .start();\n",
    "}"
   ]
  },
  {
   "cell_type": "markdown",
   "id": "0691adeb-af0e-4933-8c06-6bc072e64cfb",
   "metadata": {},
   "source": [
    "Podsumowując, konfigurujemy `TabLayout`. `tabLayoutSetup` jest funkcją, która przyjmuje trzy parametry: `context`, `tabLayout` i `viewPager2`. Wywołuje ona dwie funkcje pomocnicze: `setupTabLayoutMediator` oraz `setupTabSelection`.\n",
    "\n",
    "`setupTabLayoutMediator` konfiguruje połączenie między `tabLayout` a `viewPager2`. W tym celu tworzona jest instancja klasy `TabLayoutMediator`. Następnie, dla każdej zakładki, ustawiany jest tekst oraz ikona, a także kolor tekstu. Ikony są pobierane z zasobów aplikacji.\n",
    "\n",
    "Funkcja `setupTabSelection` ustawia zachowanie kart w momencie, gdy zostaną wybrane, odznaczone lub wybrane ponownie. Gdy karta zostaje wybrana, ustawiana jest nowa wartość tekstu, kolor tekstu, ikony, oraz wykonuje się animacja powiększania karty. Gdy karta zostaje odznaczona, tekst karty zostaje wyczyszczony, a karta zostaje zmniejszona.\n",
    "\n",
    "Funkcja `initialTabsSetup` ustawia skalowanie kart na początku działania aplikacji. Iteruje po wszystkich dzieciach przekazanego `viewGroup` (który powinien być pierwszym dzieckiem `TabLayout` (`ViewGroup viewGroup = (ViewGroup) tabLayout.getChildAt(0)` w metodzie `tabLayoutSetup`), z wyjątkiem obecnie zaznaczonej zakładki, i ustawia ich skalę na wartość `tabScaleLow`.\n",
    "\n",
    "Funkcja `setupAnimation` to funkcja pomocnicza, która tworzy animację powiększenia karty. Animuje skalowanie danego widoku `View`. Wewnątrz funkcji wywoływana jest metoda `animate()`, która inicjuje animację, a następnie metodami `scaleX()` i `scaleY()` ustawia docelowe skalowanie wraz z interpolatorem animacji (`FastOutSlowInInterpolator()`) i czasem trwania. Ostatecznie, animacja jest uruchamiana przez wywołanie metody `start()`."
   ]
  },
  {
   "cell_type": "markdown",
   "id": "fe952fde-c237-4ef0-951a-687e3087a1e9",
   "metadata": {},
   "source": [
    "<img src=\"https://media2.giphy.com/media/4sMOjoEDLmVGtiC7FD/giphy.gif?cid=790b761140e3aa2701d05ed0f4d943a6f3bf656a58a60e90&rid=giphy.gif&ct=g\" width=\"150\" />"
   ]
  },
  {
   "cell_type": "markdown",
   "id": "e5fd8bcb-2c8a-4ae9-a26e-adca7574d351",
   "metadata": {},
   "source": [
    "### **Dane**"
   ]
  },
  {
   "cell_type": "markdown",
   "id": "c281a0d5-0aae-4ea2-bc49-93bd851249a1",
   "metadata": {},
   "source": [
    "Dodajmy dane (*dummy data*) do naszego projektu. Rozpocznijmy od modelu - posłużymy się dwiema klasami danych.\n",
    "\n",
    "Klasa `Account` zawiera pola\n",
    "- `name` - nazwa konta\n",
    "- `number` - numer rachunku\n",
    "- `amount` - zebrana kwota\n",
    "- `color` - kolor powiązany z kontem\n",
    "\n",
    "Klasa `Bills`:\n",
    "- `name` - nazwa rachunku\n",
    "- `endDate` - data spłaty\n",
    "- `amount` - kwota do spłaty\n",
    "- `color` - kolor powiązany z rachunkiem"
   ]
  },
  {
   "cell_type": "code",
   "execution_count": null,
   "id": "c0d29b33-83ba-451a-a1ac-893faccc35df",
   "metadata": {},
   "outputs": [],
   "source": [
    "public class Account {\n",
    "    private final String name;\n",
    "    private final String number;\n",
    "    private final double amount;\n",
    "    private final int color;\n",
    "\n",
    "    public Account(String name, String number, double amount, int color) {\n",
    "        this.name = name;\n",
    "        this.number = number;\n",
    "        this.amount = amount;\n",
    "        this.color = color;\n",
    "    }\n",
    "\n",
    "    public String getName() {\n",
    "        return name;\n",
    "    }\n",
    "\n",
    "    public String getNumber() {\n",
    "        return number;\n",
    "    }\n",
    "\n",
    "    public double getAmount() {\n",
    "        return amount;\n",
    "    }\n",
    "\n",
    "    public int getColor() {\n",
    "        return color;\n",
    "    }\n",
    "}"
   ]
  },
  {
   "cell_type": "code",
   "execution_count": null,
   "id": "93fef94c-ccef-44c2-9477-21c000ec24d8",
   "metadata": {},
   "outputs": [],
   "source": [
    "import java.time.LocalDate;\n",
    "\n",
    "public class Bill {\n",
    "    private final String name;\n",
    "    private final LocalDate date;\n",
    "    private final double amount;\n",
    "    private final int color;\n",
    "\n",
    "    public Bill(String name, LocalDate date, double amount, int color) {\n",
    "        this.name = name;\n",
    "        this.date = date;\n",
    "        this.amount = amount;\n",
    "        this.color = color;\n",
    "    }\n",
    "\n",
    "    public String getName() {\n",
    "        return name;\n",
    "    }\n",
    "\n",
    "    public LocalDate getDate() {\n",
    "        return date;\n",
    "    }\n",
    "\n",
    "    public double getAmount() {\n",
    "        return amount;\n",
    "    }\n",
    "\n",
    "    public int getColor() {\n",
    "        return color;\n",
    "    }\n",
    "}"
   ]
  },
  {
   "cell_type": "markdown",
   "id": "f6a7f2ce-a4ce-4fde-a1bb-e074bfcc89d1",
   "metadata": {},
   "source": [
    "Następnie dodajmy obiekt `DataProvider` udostępniający *dummy data*, które wykorzystamy w aplikacji. Każdy typ konta, oraz rachunków, będzie posiadał swój własny kolor."
   ]
  },
  {
   "cell_type": "code",
   "execution_count": null,
   "id": "5d9d8072-9797-4cb1-be5c-66ef4096d396",
   "metadata": {},
   "outputs": [],
   "source": [
    "public final class DataProvider {\n",
    "    private DataProvider() {}\n",
    "\n",
    "    public static Account[] accounts = {\n",
    "            new Account(\"Home savings\", \"1111111111\", 23456.34, Color.BLUE),\n",
    "            new Account(\"Car savings\", \"2222222222\", 126578.99, Color.LTGRAY),\n",
    "            new Account(\"Vacation\", \"3457733323\", 9875.12, Color.MAGENTA),\n",
    "            new Account(\"Emergency\", \"9488344443\", 10000.77, Color.RED),\n",
    "            new Account(\"Healthcare\", \"3243554434\", 12345.00, Color.YELLOW),\n",
    "            new Account(\"Shopping\", \"2947560007\", 3456.56, Color.BLACK)\n",
    "    };\n",
    "\n",
    "    public static Bill[] bills = {\n",
    "            new Bill(\"Bank Credit\", LocalDate.of(2022, 9,22), 2300.0, Color.BLACK),\n",
    "            new Bill(\"Tuition\", LocalDate.of(2023, 2,10), 1200.0, Color.BLUE),\n",
    "            new Bill(\"Rent\", LocalDate.of(2022, 8,3), 1023.87, Color.YELLOW),\n",
    "            new Bill(\"Loan\", LocalDate.of(2022, 12,22), 334.0, Color.GRAY),\n",
    "            new Bill(\"Car Repair\", LocalDate.of(2023, 1,9), 982.33, Color.WHITE),\n",
    "            new Bill(\"Dress Loan\", LocalDate.of(2023, 5,18), 243.0, Color.MAGENTA)\n",
    "    };\n",
    "\n",
    "    public static double totalAccountsAmount = Arrays\n",
    "            .stream(accounts)\n",
    "            .map(Account::getAmount)\n",
    "            .collect(Collectors.toList())\n",
    "            .stream()\n",
    "            .mapToDouble(Double::doubleValue)\n",
    "            .sum();\n",
    "\n",
    "    public static double totalBillsAmount = Arrays\n",
    "            .stream(bills)\n",
    "            .map(Bill::getAmount)\n",
    "            .collect(Collectors.toList())\n",
    "            .stream()\n",
    "            .mapToDouble(Double::doubleValue)\n",
    "            .sum();\n",
    "}"
   ]
  },
  {
   "cell_type": "markdown",
   "id": "85288517-128d-423b-becf-33d5513a8c22",
   "metadata": {},
   "source": [
    "W obiekcie `DataProvider` znnajdują się:\n",
    "- `accounts` - lista wszystkich kont\n",
    "- `bills` - lista wszystkich rachunków\n",
    "- `totalAccountsAmount` - całkowita kwota na wszystkich rachunkach\n",
    "- `totalBillsAmount` - całkowita kwota wszystkich rachunków"
   ]
  },
  {
   "cell_type": "markdown",
   "id": "5766c919-b4df-4044-9456-7e0f0ee3e7cf",
   "metadata": {},
   "source": [
    "### **AccountsFragment**"
   ]
  },
  {
   "cell_type": "markdown",
   "id": "a009db5b-2497-44c9-8ce6-a89c9cfe076d",
   "metadata": {},
   "source": [
    "Ponieważ `AccountsFragment` i `BillsFragment` będą używać tego samego layoutu, zdefiniujemy jeden plik `xml` o nazwie `fragment_detail_info`, rozpocznijmy od dodania `RecyclerView`"
   ]
  },
  {
   "cell_type": "code",
   "execution_count": null,
   "id": "994f9568-e2d5-44e0-a721-d344263a9e9e",
   "metadata": {},
   "outputs": [],
   "source": [
    "<?xml version=\"1.0\" encoding=\"utf-8\"?>\n",
    "<androidx.constraintlayout.widget.ConstraintLayout \n",
    "xmlns:android=\"http://schemas.android.com/apk/res/android\"\n",
    "    xmlns:tools=\"http://schemas.android.com/tools\"\n",
    "    xmlns:app=\"http://schemas.android.com/apk/res-auto\"\n",
    "    android:layout_width=\"match_parent\"\n",
    "    android:layout_height=\"match_parent\"\n",
    "    android:background=\"@color/dark_blue_900\">\n",
    "    \n",
    "        <androidx.recyclerview.widget.RecyclerView\n",
    "            android:id=\"@+id/recyclerView\"\n",
    "            android:layout_width=\"match_parent\"\n",
    "            android:layout_height=\"0dp\"\n",
    "            android:layout_marginTop=\"12dp\"\n",
    "            app:layout_constraintBottom_toBottomOf=\"parent\"\n",
    "            app:layout_constraintEnd_toEndOf=\"parent\"\n",
    "            app:layout_constraintTop_toTopOf=\"parent\" />\n",
    "        \n",
    "</androidx.constraintlayout.widget.ConstraintLayout>"
   ]
  },
  {
   "cell_type": "markdown",
   "id": "ef5e5f80-f3f0-4a98-ba1f-6f7cbcd90599",
   "metadata": {},
   "source": [
    "Utwórzmy layout elementu `RecyclerView`\n",
    "\n",
    "`recyclerview_item_view.xml`"
   ]
  },
  {
   "cell_type": "code",
   "execution_count": null,
   "id": "03488b6d-8f93-4d16-8c63-aef07613b558",
   "metadata": {},
   "outputs": [],
   "source": [
    "<?xml version=\"1.0\" encoding=\"utf-8\"?>\n",
    "<androidx.constraintlayout.widget.ConstraintLayout \n",
    "xmlns:android=\"http://schemas.android.com/apk/res/android\"\n",
    "    xmlns:app=\"http://schemas.android.com/apk/res-auto\"\n",
    "    android:layout_width=\"match_parent\"\n",
    "    android:layout_height=\"wrap_content\"\n",
    "    android:layout_margin=\"4dp\"\n",
    "    android:background=\"@color/dark_blue_500\">\n",
    "\n",
    "    <View\n",
    "        android:id=\"@+id/RVcolorBarView\"\n",
    "        android:layout_width=\"12px\"\n",
    "        android:layout_height=\"0dp\"\n",
    "        android:background=\"@color/white\"\n",
    "        android:layout_marginStart=\"8dp\"\n",
    "        android:layout_marginBottom=\"8dp\"\n",
    "        android:layout_marginTop=\"8dp\"\n",
    "        app:layout_constraintBottom_toBottomOf=\"parent\"\n",
    "        app:layout_constraintStart_toStartOf=\"parent\"\n",
    "        app:layout_constraintTop_toTopOf=\"parent\" />\n",
    "\n",
    "    <TextView\n",
    "        android:id=\"@+id/RVNumberTextView\"\n",
    "        android:layout_width=\"wrap_content\"\n",
    "        android:layout_height=\"wrap_content\"\n",
    "        android:layout_marginStart=\"16dp\"\n",
    "        android:fontFamily=\"serif-monospace\"\n",
    "        android:padding=\"4dp\"\n",
    "        android:text=\"******1111\"\n",
    "        android:textColor=\"@color/white\"\n",
    "        android:textSize=\"16sp\"\n",
    "        app:layout_constraintBottom_toBottomOf=\"parent\"\n",
    "        app:layout_constraintStart_toStartOf=\"@id/RVcolorBarView\"\n",
    "        app:layout_constraintTop_toBottomOf=\"@+id/RVNameTextView\" />\n",
    "\n",
    "    <TextView\n",
    "        android:id=\"@+id/RVNameTextView\"\n",
    "        android:layout_width=\"wrap_content\"\n",
    "        android:layout_height=\"wrap_content\"\n",
    "        android:layout_marginStart=\"16dp\"\n",
    "        android:layout_marginTop=\"8dp\"\n",
    "        android:fontFamily=\"sans-serif-smallcaps\"\n",
    "        android:padding=\"4dp\"\n",
    "        android:text=\"Savings\"\n",
    "        android:textColor=\"@color/white\"\n",
    "        android:textSize=\"18sp\"\n",
    "        android:textStyle=\"bold\"\n",
    "        app:layout_constraintStart_toStartOf=\"@id/RVcolorBarView\"\n",
    "        app:layout_constraintTop_toTopOf=\"parent\" />\n",
    "\n",
    "    <TextView\n",
    "        android:id=\"@+id/RVValueTextView\"\n",
    "        android:layout_width=\"wrap_content\"\n",
    "        android:layout_height=\"wrap_content\"\n",
    "        android:padding=\"16dp\"\n",
    "        android:text=\"1111111 zł\"\n",
    "        android:textColor=\"@color/white\"\n",
    "        android:textSize=\"30sp\"\n",
    "        app:layout_constraintBottom_toBottomOf=\"parent\"\n",
    "        app:layout_constraintEnd_toEndOf=\"parent\"\n",
    "        app:layout_constraintTop_toTopOf=\"parent\" />\n",
    "\n",
    "</androidx.constraintlayout.widget.ConstraintLayout>"
   ]
  },
  {
   "cell_type": "markdown",
   "id": "d2dea317-942c-4e98-b72f-3770312fbc49",
   "metadata": {},
   "source": [
    "Pierwszym elementem jest `View`, będzie to pasek pokazujący kolor powiązany w danym kontem."
   ]
  },
  {
   "cell_type": "markdown",
   "id": "820f1df5-3019-4a8e-8348-d365ff9ee46f",
   "metadata": {},
   "source": [
    "Będziemy wyświetlać kwoty, więc dodajmy odpowiednie formatowanie, do pakietu `utils` dodajmy plik `FormatterUtil`. W nim dodajmy jedno pole zawierające `NumberFormat`"
   ]
  },
  {
   "cell_type": "code",
   "execution_count": null,
   "id": "a13c8d5a-e9a9-4547-b003-59751c461f94",
   "metadata": {},
   "outputs": [],
   "source": [
    "public final class FormatterUtil {\n",
    "    private FormatterUtil(){}\n",
    "\n",
    "    public static NumberFormat formatter = new DecimalFormat(\"#,###.##\");\n",
    "}"
   ]
  },
  {
   "cell_type": "markdown",
   "id": "f0bfc3b4-c7fc-4962-8159-916fb30d2ea3",
   "metadata": {},
   "source": [
    "Następnie zaimplementujmy `AccountAdapter`"
   ]
  },
  {
   "cell_type": "code",
   "execution_count": null,
   "id": "f1bf51bd-c63f-4196-b268-6e069c9741fb",
   "metadata": {},
   "outputs": [],
   "source": [
    "public class AccountsViewHolder extends RecyclerView.ViewHolder {\n",
    "\n",
    "    private RecyclerviewItemViewBinding binding;\n",
    "\n",
    "    public AccountsViewHolder(RecyclerviewItemViewBinding binding) {\n",
    "        super(binding.getRoot());\n",
    "        this.binding = binding;\n",
    "    }\n",
    "\n",
    "    public void bind(Account item){\n",
    "        binding.RVNameTextView.setText(item.getName());\n",
    "        binding.RVNumberTextView.setText(\n",
    "                new StringBuilder(item.getNumber())\n",
    "                        .replace(0, 6, \"******\").toString()\n",
    "        );\n",
    "        binding.RVValueTextView.setText(String.format(\n",
    "                \"%s zł\",\n",
    "                FormatterUtil.formatter.format(item.getAmount()))\n",
    "        );\n",
    "        binding.RVcolorBarView.setBackgroundColor(item.getColor());\n",
    "    }\n",
    "}"
   ]
  },
  {
   "cell_type": "code",
   "execution_count": null,
   "id": "f30cfaa0-c6d4-4220-944f-d9f223551974",
   "metadata": {},
   "outputs": [],
   "source": [
    "public class AccountsAdapter extends RecyclerView.Adapter<AccountsViewHolder> {\n",
    "\n",
    "    @NonNull\n",
    "    @Override\n",
    "    public AccountsViewHolder onCreateViewHolder(@NonNull ViewGroup parent, int viewType) {\n",
    "        return new AccountsViewHolder(RecyclerviewItemViewBinding.inflate(\n",
    "                LayoutInflater.from(parent.getContext()), parent, false\n",
    "        ));\n",
    "    }\n",
    "\n",
    "    @Override\n",
    "    public void onBindViewHolder(@NonNull AccountsViewHolder holder, int position) {\n",
    "        Account item = DataProvider.accounts[position];\n",
    "        holder.bind(item);\n",
    "    }\n",
    "\n",
    "    @Override\n",
    "    public int getItemCount() {\n",
    "        return DataProvider.accounts.length;\n",
    "    }\n",
    "}"
   ]
  },
  {
   "cell_type": "markdown",
   "id": "1d37d81d-2ada-41f9-a3d3-e10bb8d529c7",
   "metadata": {},
   "source": [
    "Do `AccountsFragment` dodajmy `ViewPager2` w metodzie `onViewCreated`"
   ]
  },
  {
   "cell_type": "code",
   "execution_count": null,
   "id": "3a1ddab8-43bb-40bb-bd74-5b4541deafb9",
   "metadata": {},
   "outputs": [],
   "source": [
    "public class AccountsFragment extends Fragment {\n",
    "\n",
    "    private FragmentDetailInfoBinding binding;\n",
    "\n",
    "    @Override\n",
    "    public View onCreateView(@NonNull LayoutInflater inflater, ViewGroup container,\n",
    "                             Bundle savedInstanceState) {\n",
    "        binding = FragmentDetailInfoBinding.inflate(inflater);\n",
    "\n",
    "        setupRecyclerView();\n",
    "\n",
    "        return binding.getRoot();\n",
    "    }\n",
    "\n",
    "    private void setupRecyclerView() {\n",
    "        binding.recyclerView.setAdapter(new AccountsAdapter());\n",
    "        binding.recyclerView.setLayoutManager(new LinearLayoutManager(this.requireContext()));\n",
    "    }\n",
    "}"
   ]
  },
  {
   "cell_type": "markdown",
   "id": "712a2f04-8dc0-412e-9d2f-84238cc541f6",
   "metadata": {},
   "source": [
    "<img src=\"https://media2.giphy.com/media/grRVpWcSBxxdbt727W/giphy.gif?cid=790b76116c546b317dcc43461641e6ff4d09490235131cfa&rid=giphy.gif&ct=g\" width=\"150\" />"
   ]
  },
  {
   "cell_type": "markdown",
   "id": "91fe5d62-d4f6-4099-8754-573fee39016d",
   "metadata": {},
   "source": [
    "do layoutu `fragment_detail_info` dodajemy `DonutProgressView` i dwa pola `TextView`"
   ]
  },
  {
   "cell_type": "code",
   "execution_count": null,
   "id": "c89cdd1b-c940-434b-961d-59bbf0ba1d93",
   "metadata": {},
   "outputs": [],
   "source": [
    "<?xml version=\"1.0\" encoding=\"utf-8\"?>\n",
    "<androidx.constraintlayout.widget.ConstraintLayout \n",
    "xmlns:android=\"http://schemas.android.com/apk/res/android\"\n",
    "    xmlns:tools=\"http://schemas.android.com/tools\"\n",
    "    xmlns:app=\"http://schemas.android.com/apk/res-auto\"\n",
    "    android:layout_width=\"match_parent\"\n",
    "    android:layout_height=\"match_parent\"\n",
    "    android:background=\"@color/dark_blue_900\"\n",
    "    tools:context=\".fragments.AccountsFragment\">\n",
    "\n",
    "        <TextView\n",
    "            android:layout_width=\"wrap_content\"\n",
    "            android:layout_height=\"wrap_content\"\n",
    "            android:text=\"@string/total\"\n",
    "            android:textColor=\"@color/white\"\n",
    "            android:textSize=\"26sp\"\n",
    "            app:layout_constraintBottom_toTopOf=\"@+id/totalAmountTextView\"\n",
    "            app:layout_constraintEnd_toEndOf=\"parent\"\n",
    "            app:layout_constraintStart_toStartOf=\"parent\" />\n",
    "\n",
    "        <TextView\n",
    "            android:id=\"@+id/totalAmountTextView\"\n",
    "            android:layout_width=\"wrap_content\"\n",
    "            android:layout_height=\"wrap_content\"\n",
    "            android:text=\"100000 zł\"\n",
    "            android:textColor=\"@color/white\"\n",
    "            android:textSize=\"38sp\"\n",
    "            android:fontFamily=\"serif\"\n",
    "            app:layout_constraintBottom_toBottomOf=\"@+id/donut_viewAccount\"\n",
    "            app:layout_constraintEnd_toEndOf=\"parent\"\n",
    "            app:layout_constraintStart_toStartOf=\"parent\"\n",
    "            app:layout_constraintTop_toTopOf=\"parent\" />\n",
    "\n",
    "        <app.futured.donut.DonutProgressView\n",
    "            android:id=\"@+id/donut_viewAccount\"\n",
    "            android:layout_width=\"300dp\"\n",
    "            android:layout_height=\"300dp\"\n",
    "            app:donut_bgLineColor=\"@color/white\"\n",
    "            app:donut_gapAngle=\"20\"\n",
    "            app:donut_gapWidth=\"4\"\n",
    "            app:donut_animationDuration=\"1500\"\n",
    "            app:donut_strokeWidth=\"6dp\"\n",
    "            android:layout_marginTop=\"16dp\"\n",
    "            app:layout_constraintEnd_toEndOf=\"parent\"\n",
    "            app:layout_constraintStart_toStartOf=\"parent\"\n",
    "            app:layout_constraintTop_toTopOf=\"parent\" />\n",
    "\n",
    "        <androidx.recyclerview.widget.RecyclerView\n",
    "            android:id=\"@+id/recyclerView\"\n",
    "            android:layout_width=\"match_parent\"\n",
    "            android:layout_height=\"0dp\"\n",
    "            android:layout_marginTop=\"12dp\"\n",
    "            app:layout_constraintBottom_toBottomOf=\"parent\"\n",
    "            app:layout_constraintEnd_toEndOf=\"parent\"\n",
    "            app:layout_constraintTop_toBottomOf=\"@+id/donut_viewAccount\" />\n",
    "\n",
    "\n",
    "</androidx.constraintlayout.widget.ConstraintLayout>"
   ]
  },
  {
   "cell_type": "markdown",
   "id": "393f07bd-10c9-409b-97bf-601634862c44",
   "metadata": {},
   "source": [
    "W `AccountsFragment` dodajemy obsługę `DonutProgressView` - musimy przekazać dane jako listę `DonutSection`. `DonutSection` przyjmuje trzy argumenty\n",
    "- `name` - nazwę\n",
    "- `color` - kolor\n",
    "- `amount` - wartość z przedziału 0.0 - 1.0"
   ]
  },
  {
   "cell_type": "markdown",
   "id": "d8678e35-bf87-45ef-b9ba-c020b6e52976",
   "metadata": {},
   "source": [
    "Do metody `OnCreateView` dodaję wywołania trzech metod konfigurujących elementy ui."
   ]
  },
  {
   "cell_type": "code",
   "execution_count": null,
   "id": "c6d0b3f0-bb4a-47c7-b66a-91906d68081d",
   "metadata": {},
   "outputs": [],
   "source": [
    "override fun onCreateView(\n",
    "    inflater: LayoutInflater, container: ViewGroup?,\n",
    "    savedInstanceState: Bundle?\n",
    "): View {\n",
    "    binding = FragmentDetailInfoBinding.inflate(inflater)\n",
    "\n",
    "    setupRecyclerView()\n",
    "    setupDonutChart()\n",
    "    setupTextViews()\n",
    "\n",
    "    return binding.root\n",
    "}"
   ]
  },
  {
   "cell_type": "markdown",
   "id": "fb3d06c4-c504-425b-85e1-2e6b3dc06639",
   "metadata": {},
   "source": [
    "`setupRecyclerView` odpowiada za konfigurację `RecyclerView`"
   ]
  },
  {
   "cell_type": "code",
   "execution_count": null,
   "id": "3469cd2a-8c3e-481b-b953-00e922bbee03",
   "metadata": {},
   "outputs": [],
   "source": [
    "private void setupRecyclerView() {\n",
    "    binding.recyclerView.setAdapter(new AccountsAdapter());\n",
    "    binding.recyclerView.setLayoutManager(new LinearLayoutManager(this.requireContext()));\n",
    "}"
   ]
  },
  {
   "cell_type": "markdown",
   "id": "16a1fee5-2082-4681-9f42-9fd680db4e92",
   "metadata": {},
   "source": [
    "`setupDonutChart` odpowiada za konfigurację `DonutChart`"
   ]
  },
  {
   "cell_type": "code",
   "execution_count": null,
   "id": "4c7d60f2-bd7b-4648-b4b2-e833688530b7",
   "metadata": {},
   "outputs": [],
   "source": [
    "private void setupDonutChart() {\n",
    "    List<DonutSection> values = new ArrayList<>();\n",
    "    for (Account item : DataProvider.accounts){\n",
    "        values.add(\n",
    "                new DonutSection(\n",
    "                        item.getName(),\n",
    "                        item.getColor(),\n",
    "                        ((float) item.getAmount() / (float) DataProvider.totalAccountsAmount))\n",
    "        );\n",
    "    }\n",
    "    binding.donutViewAccount.submitData(values);\n",
    "}"
   ]
  },
  {
   "cell_type": "markdown",
   "id": "3135a928-ebf2-458b-9ae5-eeafeefcf037",
   "metadata": {},
   "source": [
    "W widoku `binding.donutViewAccount` definiowane są wartości, które mają być przedstawione na wykresie. Na podstawie tych wartości tworzone są sekcje (klasa `DonutSection`), które zostaną wyświetlone na wykresie. Każda sekcja zawiera nazwę, kolor oraz wartość procentową związaną z kontem z listy `DataProvider.accounts`. W końcu, po utworzeniu sekcji, są one przekazywane do wykresu za pomocą funkcji `submitData(values)`, która rysuje wykres na podstawie dostarczonych danych."
   ]
  },
  {
   "cell_type": "markdown",
   "id": "6956ad8a-9803-4c06-9664-abeac0894d03",
   "metadata": {},
   "source": [
    "`setupTextViews` - ustawia tekst pola `TextView`"
   ]
  },
  {
   "cell_type": "code",
   "execution_count": null,
   "id": "bd0a1c99-3a0c-4191-a112-519297378327",
   "metadata": {},
   "outputs": [],
   "source": [
    "private void setupTextViews() {\n",
    "    binding.totalAmountTextView.setText(String.format(\n",
    "            \"%s zł\",\n",
    "            FormatterUtil.formatter.format(DataProvider.totalAccountsAmount))\n",
    "    );\n",
    "}"
   ]
  },
  {
   "cell_type": "markdown",
   "id": "4dc82d8c-a851-433b-82ee-df27b98839b6",
   "metadata": {},
   "source": [
    "W efekcie otrzymamy"
   ]
  },
  {
   "cell_type": "markdown",
   "id": "47055fd7-24ac-49b4-b7a7-4d4f7ca6185c",
   "metadata": {},
   "source": [
    "<img src=\"https://media3.giphy.com/media/V6olKtypWuObTJXxmz/giphy.gif?cid=790b761116be30abedbc5c9f9c7a309c74243ac9e1060564&rid=giphy.gif&ct=g\" width=\"150\" />"
   ]
  },
  {
   "cell_type": "markdown",
   "id": "daedab85-2288-4016-8475-e80307557dd7",
   "metadata": {},
   "source": [
    "### **BillsFragment**"
   ]
  },
  {
   "cell_type": "markdown",
   "id": "7f0d8331-01fb-452b-bc33-be54e9180ce8",
   "metadata": {},
   "source": [
    "Do `FormatterUtil` dodajmy `DateTimeFormatter` pozwalający sformatować datę"
   ]
  },
  {
   "cell_type": "code",
   "execution_count": null,
   "id": "3327d443-3e39-41c1-a51c-eeb3916275d5",
   "metadata": {},
   "outputs": [],
   "source": [
    "val dateFormatter: DateTimeFormatter = DateTimeFormatter.ofPattern(\"yyyy MMM dd\")"
   ]
  },
  {
   "cell_type": "markdown",
   "id": "f1b0fd9d-dc37-4069-884b-6dcd06091666",
   "metadata": {},
   "source": [
    "Przejdźmy do `BillAdapter`"
   ]
  },
  {
   "cell_type": "code",
   "execution_count": null,
   "id": "dcd19b82-9d2b-45a7-91e2-6b3254237c8c",
   "metadata": {},
   "outputs": [],
   "source": [
    "public class BillsViewHolder extends RecyclerView.ViewHolder {\n",
    "    private final RecyclerviewItemViewBinding binding;\n",
    "\n",
    "    public BillsViewHolder(RecyclerviewItemViewBinding binding) {\n",
    "        super(binding.getRoot());\n",
    "        this.binding = binding;\n",
    "    }\n",
    "\n",
    "    public void bind(Bill item){\n",
    "        binding.RVNameTextView.setText(item.getName());\n",
    "        binding.RVNumberTextView.setText(item.getDate().format(FormatterUtil.dateFormatter));\n",
    "        binding.RVValueTextView.setText(String.format(\n",
    "                \"- %s zł\",\n",
    "                FormatterUtil.formatter.format(item.getAmount()))\n",
    "        );\n",
    "        binding.RVcolorBarView.setBackgroundColor(item.getColor());\n",
    "    }\n",
    "}"
   ]
  },
  {
   "cell_type": "code",
   "execution_count": null,
   "id": "6e58d17d-de92-4e08-bdf3-55e5cf940923",
   "metadata": {},
   "outputs": [],
   "source": [
    "public class BillsAdapter extends RecyclerView.Adapter<BillsViewHolder> {\n",
    "\n",
    "    @NonNull\n",
    "    @Override\n",
    "    public BillsViewHolder onCreateViewHolder(@NonNull ViewGroup parent, int viewType) {\n",
    "        return new BillsViewHolder(RecyclerviewItemViewBinding.inflate(\n",
    "                LayoutInflater.from(parent.getContext()), parent, false\n",
    "        ));\n",
    "    }\n",
    "\n",
    "    @Override\n",
    "    public void onBindViewHolder(@NonNull BillsViewHolder holder, int position) {\n",
    "        Bill item = DataProvider.bills[position];\n",
    "        holder.bind(item);\n",
    "    }\n",
    "\n",
    "    @Override\n",
    "    public int getItemCount() {\n",
    "        return DataProvider.accounts.length;\n",
    "    }\n",
    "\n",
    "}"
   ]
  },
  {
   "cell_type": "markdown",
   "id": "abe90629-2a7f-477c-ba71-da85bcf5edc2",
   "metadata": {},
   "source": [
    "Korzystamy w tego samego layoutu co przy implementacji `AccountsFragment`"
   ]
  },
  {
   "cell_type": "code",
   "execution_count": null,
   "id": "511f8537-9ba8-4610-a17d-22bea121c14c",
   "metadata": {},
   "outputs": [],
   "source": [
    "public class BillsFragment extends Fragment {\n",
    "\n",
    "    private FragmentDetailInfoBinding binding;\n",
    "\n",
    "    @Override\n",
    "    public View onCreateView(@NonNull LayoutInflater inflater, ViewGroup container,\n",
    "                             Bundle savedInstanceState) {\n",
    "        binding = FragmentDetailInfoBinding.inflate(inflater);\n",
    "\n",
    "        setupRecyclerView();\n",
    "        setupDonutChart();\n",
    "        setupTextViews();\n",
    "\n",
    "        return binding.getRoot();\n",
    "    }\n",
    "\n",
    "    private void setupTextViews() {\n",
    "        binding.totalAmountTextView.setText(String.format(\n",
    "                \"%s zł\",\n",
    "                FormatterUtil.formatter.format(DataProvider.totalBillsAmount))\n",
    "        );\n",
    "    }\n",
    "\n",
    "    private void setupDonutChart() {\n",
    "        List<DonutSection> values = new ArrayList<>();\n",
    "        for (Bill item : DataProvider.bills){\n",
    "            values.add(\n",
    "                    new DonutSection(\n",
    "                            item.getName(),\n",
    "                            item.getColor(),\n",
    "                            ((float) item.getAmount() / (float) DataProvider.totalBillsAmount))\n",
    "            );\n",
    "        }\n",
    "        binding.donutViewAccount.submitData(values);\n",
    "    }\n",
    "\n",
    "    private void setupRecyclerView() {\n",
    "        binding.recyclerView.setAdapter(new BillsAdapter());\n",
    "        binding.recyclerView.setLayoutManager(new LinearLayoutManager(this.requireContext()));\n",
    "    }\n",
    "}"
   ]
  },
  {
   "cell_type": "markdown",
   "id": "b2c59b3e-5308-4cc1-90ca-9d01d9fa3d5b",
   "metadata": {},
   "source": [
    "### **OverviewFragment**"
   ]
  },
  {
   "cell_type": "markdown",
   "id": "1af2695c-954a-4004-bc76-584200de389a",
   "metadata": {},
   "source": [
    "Layout `OverviewFragment` będzie się opierał na `CardView`."
   ]
  },
  {
   "cell_type": "markdown",
   "id": "f10c2b8e-df56-4b0d-8bdd-484b581074af",
   "metadata": {},
   "source": [
    "Sam layout nie zawiera żadnych nowych elementów"
   ]
  },
  {
   "cell_type": "code",
   "execution_count": null,
   "id": "fa5ac367-bc9d-4f10-942a-670b049be6ce",
   "metadata": {},
   "outputs": [],
   "source": [
    "<?xml version=\"1.0\" encoding=\"utf-8\"?>\n",
    "<LinearLayout xmlns:android=\"http://schemas.android.com/apk/res/android\"\n",
    "    xmlns:app=\"http://schemas.android.com/apk/res-auto\"\n",
    "    xmlns:tools=\"http://schemas.android.com/tools\"\n",
    "    android:layout_width=\"match_parent\"\n",
    "    android:layout_height=\"match_parent\"\n",
    "    android:background=\"@color/dark_blue_900\"\n",
    "    android:orientation=\"vertical\"\n",
    "    tools:context=\".fragments.OverviewFragment\">\n",
    "\n",
    "     <!-- Alert section -->\n",
    "    \n",
    "    <androidx.cardview.widget.CardView\n",
    "        android:id=\"@+id/alertCardView\"\n",
    "        android:layout_width=\"match_parent\"\n",
    "        android:layout_height=\"wrap_content\"\n",
    "        android:layout_marginTop=\"16dp\"\n",
    "        android:layout_marginStart=\"16dp\"\n",
    "        android:layout_marginEnd=\"16dp\"\n",
    "        app:cardCornerRadius=\"12dp\"\n",
    "        app:cardElevation=\"15dp\">\n",
    "\n",
    "        <LinearLayout\n",
    "            android:layout_width=\"match_parent\"\n",
    "            android:layout_height=\"match_parent\"\n",
    "            android:background=\"@color/dark_blue_500\"\n",
    "            android:orientation=\"vertical\">\n",
    "\n",
    "            <TextView\n",
    "                android:layout_width=\"match_parent\"\n",
    "                android:layout_height=\"wrap_content\"\n",
    "                android:layout_marginStart=\"16dp\"\n",
    "                android:text=\"@string/alerts\"\n",
    "                android:textColor=\"@color/white\"\n",
    "                android:textSize=\"12sp\" />\n",
    "\n",
    "            <LinearLayout\n",
    "                android:layout_width=\"match_parent\"\n",
    "                android:layout_height=\"wrap_content\"\n",
    "                android:orientation=\"horizontal\">\n",
    "\n",
    "                <TextView\n",
    "                    android:layout_width=\"0dp\"\n",
    "                    android:layout_weight=\"1\"\n",
    "                    android:layout_height=\"wrap_content\"\n",
    "                    android:layout_marginStart=\"16dp\"\n",
    "                    android:text=\"@string/no_alerts\"\n",
    "                    android:textColor=\"@color/white\"\n",
    "                    android:textSize=\"24sp\" />\n",
    "\n",
    "                <Button\n",
    "                    android:id=\"@+id/seeMoreButton\"\n",
    "                    android:layout_width=\"wrap_content\"\n",
    "                    android:layout_height=\"wrap_content\"\n",
    "                    android:backgroundTint=\"@android:color/holo_red_light\"\n",
    "                    android:textColor=\"@color/design_default_color_on_secondary\"\n",
    "                    android:layout_marginEnd=\"8dp\"\n",
    "                    android:text=\"@string/see_more\" />\n",
    "            </LinearLayout>\n",
    "        </LinearLayout>\n",
    "    </androidx.cardview.widget.CardView>\n",
    "\n",
    "    <!-- AccountsSection -->\n",
    "    \n",
    "    <androidx.cardview.widget.CardView\n",
    "        android:id=\"@+id/accouuntCardView\"\n",
    "        android:layout_width=\"match_parent\"\n",
    "        android:layout_height=\"0dp\"\n",
    "        android:layout_weight=\"1\"\n",
    "        android:layout_marginTop=\"8dp\"\n",
    "        android:layout_marginStart=\"16dp\"\n",
    "        android:layout_marginEnd=\"16dp\"\n",
    "        app:cardCornerRadius=\"12dp\"\n",
    "        app:cardElevation=\"15dp\">\n",
    "\n",
    "        <LinearLayout\n",
    "            android:layout_width=\"match_parent\"\n",
    "            android:layout_height=\"match_parent\"\n",
    "            android:background=\"@color/dark_blue_500\"\n",
    "            android:orientation=\"vertical\"\n",
    "            tools:context=\".fragments.OverviewFragment\">\n",
    "\n",
    "\n",
    "            <TextView\n",
    "                android:id=\"@+id/accountNameTextView\"\n",
    "                android:layout_width=\"match_parent\"\n",
    "                android:layout_height=\"wrap_content\"\n",
    "                android:layout_marginStart=\"16dp\"\n",
    "                android:layout_marginTop=\"8dp\"\n",
    "                android:text=\"@string/accounts\"\n",
    "                android:textColor=\"@color/white\"\n",
    "                android:textSize=\"12sp\"\n",
    "                app:layout_constraintEnd_toEndOf=\"parent\"\n",
    "                app:layout_constraintStart_toStartOf=\"parent\"\n",
    "                app:layout_constraintTop_toTopOf=\"parent\" />\n",
    "\n",
    "            <TextView\n",
    "                android:id=\"@+id/accountTotalAmountTextView\"\n",
    "                android:layout_width=\"match_parent\"\n",
    "                android:layout_height=\"wrap_content\"\n",
    "                android:layout_marginTop=\"4dp\"\n",
    "                android:gravity=\"center\"\n",
    "                android:text=\"11111111 zł\"\n",
    "                android:textColor=\"@color/white\"\n",
    "                android:textSize=\"36sp\"\n",
    "                app:layout_constraintEnd_toEndOf=\"parent\"\n",
    "                app:layout_constraintTop_toBottomOf=\"@+id/accountNameTextView\" />\n",
    "\n",
    "            <androidx.recyclerview.widget.RecyclerView\n",
    "                android:id=\"@+id/accountsRecyclerView\"\n",
    "                android:layout_width=\"match_parent\"\n",
    "                android:layout_height=\"0dp\"\n",
    "                android:layout_weight=\"1\"\n",
    "                android:layout_marginStart=\"16dp\"\n",
    "                android:layout_marginEnd=\"16dp\"\n",
    "                app:layout_constraintEnd_toEndOf=\"parent\"\n",
    "                app:layout_constraintStart_toStartOf=\"parent\"\n",
    "                app:layout_constraintTop_toBottomOf=\"@+id/accountTotalAmountTextView\" />\n",
    "\n",
    "            <Button\n",
    "                android:id=\"@+id/accountsButton\"\n",
    "                android:layout_width=\"match_parent\"\n",
    "                android:layout_height=\"wrap_content\"\n",
    "                android:layout_marginStart=\"16dp\"\n",
    "                android:layout_marginEnd=\"16dp\"\n",
    "                android:text=\"@string/go_to_accounts\"\n",
    "                app:layout_constraintEnd_toEndOf=\"parent\"\n",
    "                app:layout_constraintStart_toStartOf=\"parent\"\n",
    "                app:layout_constraintTop_toBottomOf=\"@+id/accountsRecyclerView\"\n",
    "                android:backgroundTint=\"@android:color/holo_red_light\"\n",
    "                android:textColor=\"@color/design_default_color_on_secondary\"/>\n",
    "        </LinearLayout>\n",
    "\n",
    "\n",
    "    </androidx.cardview.widget.CardView>\n",
    "\n",
    "    <androidx.cardview.widget.CardView <!-- Bills Section -->\n",
    "        android:id=\"@+id/billsCardView\"\n",
    "        android:layout_width=\"match_parent\"\n",
    "        android:layout_height=\"0dp\"\n",
    "        android:layout_weight=\"1\"\n",
    "        android:layout_marginStart=\"16dp\"\n",
    "        android:layout_marginTop=\"8dp\"\n",
    "        android:layout_marginEnd=\"16dp\"\n",
    "        app:cardCornerRadius=\"12dp\"\n",
    "        app:cardElevation=\"15dp\">\n",
    "\n",
    "        <LinearLayout\n",
    "            android:layout_width=\"match_parent\"\n",
    "            android:layout_height=\"match_parent\"\n",
    "            android:background=\"@color/dark_blue_500\"\n",
    "            android:orientation=\"vertical\"\n",
    "            tools:context=\".fragments.OverviewFragment\">\n",
    "\n",
    "\n",
    "            <TextView\n",
    "                android:id=\"@+id/billsNameTextView\"\n",
    "                android:layout_width=\"match_parent\"\n",
    "                android:layout_height=\"wrap_content\"\n",
    "                android:layout_marginStart=\"16dp\"\n",
    "                android:layout_marginTop=\"8dp\"\n",
    "                android:text=\"@string/bills\"\n",
    "                android:textColor=\"@color/white\"\n",
    "                android:textSize=\"12sp\"\n",
    "                app:layout_constraintEnd_toEndOf=\"parent\"\n",
    "                app:layout_constraintStart_toStartOf=\"parent\"\n",
    "                app:layout_constraintTop_toTopOf=\"parent\" />\n",
    "\n",
    "            <TextView\n",
    "                android:id=\"@+id/billsTotalAmountTextView\"\n",
    "                android:layout_width=\"match_parent\"\n",
    "                android:layout_height=\"wrap_content\"\n",
    "                android:layout_marginStart=\"16dp\"\n",
    "                android:layout_marginTop=\"4dp\"\n",
    "                android:gravity=\"center\"\n",
    "                android:text=\"- 21999.99 zł\"\n",
    "                android:textColor=\"@color/white\"\n",
    "                android:textSize=\"36sp\"\n",
    "                app:layout_constraintEnd_toEndOf=\"parent\"\n",
    "                app:layout_constraintStart_toStartOf=\"parent\"\n",
    "                app:layout_constraintTop_toTopOf=\"@id/billsNameTextView\" />\n",
    "\n",
    "            <androidx.recyclerview.widget.RecyclerView\n",
    "                android:id=\"@+id/billsRecyclerView\"\n",
    "                android:layout_width=\"match_parent\"\n",
    "                android:layout_height=\"0dp\"\n",
    "                android:layout_weight=\"1\"\n",
    "                android:layout_marginStart=\"16dp\"\n",
    "                android:layout_marginEnd=\"16dp\"\n",
    "                app:layout_constraintEnd_toEndOf=\"parent\"\n",
    "                app:layout_constraintStart_toStartOf=\"parent\"\n",
    "                app:layout_constraintTop_toBottomOf=\"@+id/billsTotalAmountTextView\" />\n",
    "\n",
    "            <Button\n",
    "                android:id=\"@+id/billsButton\"\n",
    "                android:layout_width=\"match_parent\"\n",
    "                android:layout_height=\"wrap_content\"\n",
    "                android:layout_marginStart=\"16dp\"\n",
    "                android:layout_marginEnd=\"16dp\"\n",
    "                android:text=\"@string/go_to_bills\"\n",
    "                app:layout_constraintEnd_toEndOf=\"parent\"\n",
    "                app:layout_constraintStart_toStartOf=\"parent\"\n",
    "                app:layout_constraintTop_toBottomOf=\"@+id/billsRecyclerView\"\n",
    "                android:backgroundTint=\"@android:color/holo_red_light\"\n",
    "                android:textColor=\"@color/design_default_color_on_secondary\"/>\n",
    "        </LinearLayout>\n",
    "    </androidx.cardview.widget.CardView>\n",
    "\n",
    "\n",
    "</LinearLayout>"
   ]
  },
  {
   "cell_type": "markdown",
   "id": "3e330a35-54dc-40cd-be02-f57b134d2e18",
   "metadata": {},
   "source": [
    "Do metody `onCreateView` dodajmy obsługę wszystkich elementów. Ponieważ nasz layout jest podzielony na trzy sekcje, dodajmy trzy funkcje pomocnicze."
   ]
  },
  {
   "cell_type": "code",
   "execution_count": null,
   "id": "1eaa5b77-894e-4987-a591-eff0f3f8d2d0",
   "metadata": {},
   "outputs": [],
   "source": [
    "public class OverviewFragment extends Fragment {\n",
    "\n",
    "    private FragmentOverviewBinding binding;\n",
    "\n",
    "    @Override\n",
    "    public View onCreateView(@NonNull LayoutInflater inflater, ViewGroup container,\n",
    "                             Bundle savedInstanceState) {\n",
    "        binding = FragmentOverviewBinding.inflate(inflater);\n",
    "\n",
    "        setupAlertSection();\n",
    "        setupAccountsSection();\n",
    "        setupBillsSection();\n",
    "        \n",
    "        return binding.getRoot();\n",
    "    }\n",
    "\n",
    "    private void setupBillsSection() {\n",
    "    }\n",
    "\n",
    "    private void setupAccountsSection() {\n",
    "    }\n",
    "\n",
    "    private void setupAlertSection() {\n",
    "    }\n",
    "}"
   ]
  },
  {
   "cell_type": "markdown",
   "id": "1b3073d3-ece4-4c69-a22b-44ef0bfd9b6f",
   "metadata": {},
   "source": [
    "Rozpocznijmy od implementacji metody `setupAccountsSection`"
   ]
  },
  {
   "cell_type": "code",
   "execution_count": null,
   "id": "13e23e21-06fe-48e9-bbe7-012388342e94",
   "metadata": {},
   "outputs": [],
   "source": [
    "private void setupAccountsSection() {\n",
    "\n",
    "    binding.accountsRecyclerView.setAdapter(new AccountsAdapter());\n",
    "    binding.accountsRecyclerView.setLayoutManager(new LinearLayoutManager(this.requireContext()));\n",
    "\n",
    "    binding.accountsButton.setOnClickListener(v -> {\n",
    "        ViewPager2 viewPager2 = requireActivity().findViewById(R.id.viewPager);\n",
    "        viewPager2.setCurrentItem(1);\n",
    "    });\n",
    "\n",
    "    binding.accountTotalAmountTextView.setText(String.format(\n",
    "            \"%s zł\",\n",
    "            FormatterUtil.formatter.format(DataProvider.totalAccountsAmount)));\n",
    "}"
   ]
  },
  {
   "cell_type": "markdown",
   "id": "2fda172b-78fc-407e-8f2c-53d0ad88c7df",
   "metadata": {},
   "source": [
    "Kolejno dodajmy obsługę dwóch przycisków - w tym przykładzie dodamy przejście na konkretną pozycję w `ViewPager2` - znajduje się on w głównej aktywności, więc z poziomu fragmentu nie mamy do niego dostępu. Możemy zastosować wykorzystując metod `requireActivity` oraz `findViewById`.\n",
    "\n",
    "Alternatywnie możemy zapisać"
   ]
  },
  {
   "cell_type": "code",
   "execution_count": null,
   "id": "c3740e6d-a5e6-440b-87e6-81472491de2a",
   "metadata": {},
   "outputs": [],
   "source": [
    "Activity hostingActivity = (MainActivity) requireActivity(); // musimy wykonać rzutowanie\n",
    "hostingActivity.binding.viewpager.setCurrentItem(1);"
   ]
  },
  {
   "cell_type": "markdown",
   "id": "a6fbfcb9-b06b-4b16-9777-a90299aecbc7",
   "metadata": {},
   "source": [
    "Wtedy musimy zminić `binding` w `MainActivity` na `public`, oraz wykonać rzutowanie (`requireActivity` zwraca `FragmentActivity`, który nie posiada dostępu do właściwości `binding`). Chcąc pozbyć się zależności (trzymania twardej referencji do instancji `MainActivity` w instancji `OverviewFragment`) wykorzystuję uuuniwersalną metodę `findViewById` z klasy `FragemntActivity` - każda klasa dziedzicząca posiada tą metodę, więc nie muszę wykonywać rzutowania ani przechowywać referencji do instancji `MainActivity` w klasie `OverviewFragment`."
   ]
  },
  {
   "cell_type": "markdown",
   "id": "3ff666b4-da55-4346-9786-3091c09af866",
   "metadata": {},
   "source": [
    "Następnie zaimplementujmy funkcję `setupBillsSection`, która będzie podobna do funkcji konfigurującej sekcję `accounts`"
   ]
  },
  {
   "cell_type": "code",
   "execution_count": null,
   "id": "a8ae9bd9-3053-425a-9511-276364f6d079",
   "metadata": {},
   "outputs": [],
   "source": [
    "private void setupBillsSection() {\n",
    "    binding.billsRecyclerView.setAdapter(new BillsAdapter());\n",
    "    binding.billsRecyclerView.setLayoutManager(new LinearLayoutManager(this.requireContext()));\n",
    "\n",
    "    binding.billsButton.setOnClickListener(v -> {\n",
    "        ViewPager2 viewPager2 = requireActivity().findViewById(R.id.viewPager);\n",
    "        viewPager2.setCurrentItem(2);\n",
    "    });\n",
    "\n",
    "    binding.billsTotalAmountTextView.setText(String.format(\n",
    "            \"%s zł\",\n",
    "            FormatterUtil.formatter.format(DataProvider.totalBillsAmount)));\n",
    "}"
   ]
  },
  {
   "cell_type": "markdown",
   "id": "fae9a727-dd55-4dbd-a0ed-0b40567da7ef",
   "metadata": {},
   "source": [
    "Ostatnim elementem będzie obsługa przycisku `SEE MORE` - tutaj wyświetlimy customowy `AlertDialog`. W pierwszsym kroku zdefiniujemy styl w pliku `themes.xml`"
   ]
  },
  {
   "cell_type": "code",
   "execution_count": null,
   "id": "64323b89-2d89-40ca-b8ec-02a7c35ac2ad",
   "metadata": {},
   "outputs": [],
   "source": [
    "<style name=\"MyDialogTheme\" parent=\"Theme.AppCompat.Light.Dialog.Alert\">\n",
    "    <item name=\"android:background\">@color/dark_blue_900</item>\n",
    "    <item name=\"android:textColor\">@color/white</item>\n",
    "</style>"
   ]
  },
  {
   "cell_type": "markdown",
   "id": "f25037da-9b05-4755-b9f4-3ff743655566",
   "metadata": {},
   "source": [
    "Następnie utwórzmy layout\n",
    "\n",
    "`alert_dialog.xml`"
   ]
  },
  {
   "cell_type": "code",
   "execution_count": null,
   "id": "af9ce658-e135-434c-9172-183a15206b8d",
   "metadata": {},
   "outputs": [],
   "source": [
    "<?xml version=\"1.0\" encoding=\"utf-8\"?>\n",
    "<LinearLayout\n",
    "    xmlns:android=\"http://schemas.android.com/apk/res/android\"\n",
    "    android:orientation=\"vertical\"\n",
    "    android:paddingLeft=\"20dp\"\n",
    "    android:paddingRight=\"20dp\"\n",
    "    android:layout_width=\"match_parent\"\n",
    "    android:background=\"@color/dark_blue_900\"\n",
    "    android:layout_height=\"match_parent\">\n",
    "\n",
    "    <TextView\n",
    "        android:id=\"@+id/alertTextView\"\n",
    "        android:layout_width=\"match_parent\"\n",
    "        android:layout_height=\"wrap_content\"\n",
    "        android:textSize=\"24sp\"\n",
    "        android:textColor=\"@color/white\"\n",
    "        android:gravity=\"center\"\n",
    "        android:text=\"@string/no_alerts\"/>\n",
    "</LinearLayout>"
   ]
  },
  {
   "cell_type": "markdown",
   "id": "893a2652-2074-459d-b002-979319a77bcf",
   "metadata": {},
   "source": [
    "Na koniec przechodzimy do implementacji metody `setupAlertSection`"
   ]
  },
  {
   "cell_type": "code",
   "execution_count": null,
   "id": "afbf0558-ad5c-48d7-8c2b-03560ba0c5c1",
   "metadata": {},
   "outputs": [],
   "source": [
    "private void setupAlertSection() {\n",
    "\n",
    "    binding.seeMoreButton.setOnClickListener(v -> {\n",
    "        new AlertDialog.Builder(getContext(), R.style.MyDialogTheme)\n",
    "                .setTitle(getString(R.string.alerts)) // tytuł\n",
    "                .setView(getLayoutInflater().inflate(R.layout.alert_dialog, null)) // layout\n",
    "                .setPositiveButton(\"OK\", (dialogInterface, i) -> {}) // domyślny przycisk pozwalający na wyjście\n",
    "                .create() // utwórz AlertDialog\n",
    "                .show(); // wyświetl Dialog\n",
    "    });\n",
    "}"
   ]
  },
  {
   "cell_type": "markdown",
   "id": "85fbaba0-4e75-4abe-85a5-458304387661",
   "metadata": {},
   "source": [
    "Możemy przetestować aplikację."
   ]
  },
  {
   "cell_type": "markdown",
   "id": "71b9eee1-a478-4412-bf01-82fb707bc98f",
   "metadata": {},
   "source": [
    "<table><tr><td><img src=\"https://media1.giphy.com/media/49RzyXBmRBa59Wi47n/giphy.gif?cid=790b76111b9b9991bd4197bf8d7295e517603d04f8ba2992&rid=giphy.gif&ct=g\" width=\"150\" /></td><td><img src=\"https://media1.giphy.com/media/zbqykvBYncTRQLCAja/giphy.gif?cid=790b7611d47e3d6d46e7b736ac29fe3cc9bc281aed07c1c0&rid=giphy.gif&ct=g\" width=\"150\" /></td><td><img src=\"https://media3.giphy.com/media/BbcDIUyV6IodX2yGVx/giphy.gif?cid=790b7611d1bf2abf7deacc8ad5a71a6a13adfbc9f4344954&rid=giphy.gif&ct=g\" width=\"150\" /></td></tr></table>"
   ]
  }
 ],
 "metadata": {
  "kernelspec": {
   "display_name": "Kotlin",
   "language": "kotlin",
   "name": "kotlin"
  },
  "language_info": {
   "codemirror_mode": "text/x-kotlin",
   "file_extension": ".kt",
   "mimetype": "text/x-kotlin",
   "name": "kotlin",
   "nbconvert_exporter": "",
   "pygments_lexer": "kotlin",
   "version": "1.8.0-RC"
  }
 },
 "nbformat": 4,
 "nbformat_minor": 5
}
