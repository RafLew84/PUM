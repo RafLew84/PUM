{
 "cells": [
  {
   "cell_type": "markdown",
   "id": "070dfe3f-db63-475a-a6b2-a5395ce3786f",
   "metadata": {},
   "source": [
    "# Carsy"
   ]
  },
  {
   "cell_type": "markdown",
   "id": "752b48c2-8d64-4887-8bdf-d6f9c75464a4",
   "metadata": {},
   "source": [
    "Aplikacja wykorzystuje `BottomNavigation`. Po raz kolejny wykorzystamy *dummy data* dostarczone przez obiekt `dataProvider`. Wykorzystamy `RecyclerView` w kilku różnych konfiguracjach. Będzie to uboga wersja [Fuelio](https://play.google.com/store/apps/details?id=com.kajda.fuelio&hl=pl&gl=US). Applikacja wykorzystuje `RecyclerView` z grupowaniem elementów osiągniętym przez wykorzystanie trzech `ViewHolder`'ów."
   ]
  },
  {
   "cell_type": "markdown",
   "id": "8b93bc2c-1f4c-49d2-af73-d488a9a91e6c",
   "metadata": {},
   "source": [
    "<table><tr><td><img src=\"https://media1.giphy.com/media/v1.Y2lkPTc5MGI3NjExZmY3OWQ4YTA1MmYyZTJjMDMyZWUzYWYyMzU2ODQwZmE2ZDk0NjRkOCZjdD1n/yKdJs01bzZJUnOPxiD/giphy.gif\" width=\"200\" /></td><td><img src=\"https://media4.giphy.com/media/v1.Y2lkPTc5MGI3NjExZTYzZGIxZjZhZDI4NmM5YmMzNDgwZjhlNTRhNjE5NDBkNTNkMzUyMiZjdD1n/FRXszb4lA5unP6j0v6/giphy.gif\" width=\"200\" /></td><td><img src=\"https://media1.giphy.com/media/v1.Y2lkPTc5MGI3NjExYzg5OGQwZGRjN2Q2ZWRlMWE2NjE1MzAxZjc5NmU1MjRlYjBiNjhjNSZjdD1n/cJ83NZTstXO1WpUCFU/giphy.gif\" width=\"200\" /></td></tr></table>"
   ]
  },
  {
   "cell_type": "markdown",
   "id": "3005a690-9440-4003-8feb-0c4823154ba7",
   "metadata": {},
   "source": [
    "Rozpocznijmy od konfiguracji skryptów `Gradle` - dodajmy `ViewBinding` oraz `Jetpack Navigation`"
   ]
  },
  {
   "cell_type": "code",
   "execution_count": null,
   "id": "2719fe3a-3a6a-4747-9337-189169de9e77",
   "metadata": {},
   "outputs": [],
   "source": [
    "plugins {\n",
    "    id 'com.android.application'\n",
    "    id 'org.jetbrains.kotlin.android'\n",
    "    id 'androidx.navigation.safeargs.kotlin'\n",
    "}\n",
    "\n",
    "android {\n",
    "    ...\n",
    "    buildFeatures {\n",
    "        viewBinding = true\n",
    "    }\n",
    "    ...\n",
    "}\n",
    "\n",
    "dependencies {\n",
    "\n",
    "    implementation \"androidx.navigation:navigation-fragment:2.5.3\"\n",
    "    implementation \"androidx.navigation:navigation-ui:2.5.3\"\n",
    "    ...\n",
    "}"
   ]
  },
  {
   "cell_type": "code",
   "execution_count": null,
   "id": "babc3ad5-9bb0-472c-a2db-7edbb82fdde3",
   "metadata": {},
   "outputs": [],
   "source": [
    "buildscript { // przed blokiem plugins\n",
    "    repositories {\n",
    "        google()\n",
    "    }\n",
    "    dependencies {\n",
    "        def nav_version = \"2.5.3\"\n",
    "        classpath \"androidx.navigation:navigation-safe-args-gradle-plugin:$nav_version\"\n",
    "    }\n",
    "}\n",
    "plugins {\n",
    "    id 'com.android.application' version '7.4.2' apply false\n",
    "    id 'com.android.library' version '7.4.2' apply false\n",
    "    id 'org.jetbrains.kotlin.android' version '1.8.0' apply false\n",
    "}"
   ]
  },
  {
   "cell_type": "markdown",
   "id": "9595d88a-9f85-4526-872a-9ad9be70bbda",
   "metadata": {},
   "source": [
    "### **BottomNavigation**"
   ]
  },
  {
   "cell_type": "markdown",
   "id": "f27ebc04-cd42-4b1e-a5e7-f1f9c05e354f",
   "metadata": {},
   "source": [
    "Rozpocznijmy od dodania trzech pustych fragmentów oraz navigacji (`OverviewFragment`, `CalculatorsFragment`, `TimeLineFragment`) i nawigacji\n",
    "\n",
    "`navigation.xml`"
   ]
  },
  {
   "cell_type": "code",
   "execution_count": null,
   "id": "59655b5e-22b5-4ddd-b97b-3992827bd0d3",
   "metadata": {},
   "outputs": [],
   "source": [
    "class CalculatorsFragment : Fragment() {\n",
    "\n",
    "    private lateinit var binding: FragmentCalculatorsBinding\n",
    "\n",
    "    override fun onCreateView(\n",
    "        inflater: LayoutInflater, container: ViewGroup?,\n",
    "        savedInstanceState: Bundle?\n",
    "    ): View {\n",
    "        binding = FragmentCalculatorsBinding.inflate(inflater)\n",
    "        return binding.root\n",
    "    }\n",
    "}"
   ]
  },
  {
   "cell_type": "code",
   "execution_count": null,
   "id": "1884f2ac-98ad-42c2-8a65-35571d6dfe0e",
   "metadata": {},
   "outputs": [],
   "source": [
    "class OverviewFragment : Fragment() {\n",
    "\n",
    "    private lateinit var binding: FragmentTimeLineBinding\n",
    "\n",
    "    override fun onCreateView(\n",
    "        inflater: LayoutInflater, container: ViewGroup?,\n",
    "        savedInstanceState: Bundle?\n",
    "    ): View {\n",
    "        binding = FragmentTimeLineBinding.inflate(inflater)\n",
    "        return binding.root\n",
    "    }\n",
    "}"
   ]
  },
  {
   "cell_type": "code",
   "execution_count": null,
   "id": "b9f2f0ff-de2e-404b-9083-c687dc657beb",
   "metadata": {},
   "outputs": [],
   "source": [
    "class TimeLineFragment : Fragment() {\n",
    "\n",
    "    private lateinit var binding: FragmentTimeLineBinding\n",
    "\n",
    "    override fun onCreateView(\n",
    "        inflater: LayoutInflater, container: ViewGroup?,\n",
    "        savedInstanceState: Bundle?\n",
    "    ): View {\n",
    "        binding = FragmentTimeLineBinding.inflate(inflater)\n",
    "        return binding.root\n",
    "    }\n",
    "}"
   ]
  },
  {
   "cell_type": "code",
   "execution_count": null,
   "id": "92dc7a0c-5ab2-463c-93f4-6394728ea6bc",
   "metadata": {},
   "outputs": [],
   "source": [
    "<?xml version=\"1.0\" encoding=\"utf-8\"?>\n",
    "<navigation xmlns:android=\"http://schemas.android.com/apk/res/android\"\n",
    "    xmlns:app=\"http://schemas.android.com/apk/res-auto\"\n",
    "    xmlns:tools=\"http://schemas.android.com/tools\"\n",
    "    android:id=\"@+id/navigation\"\n",
    "    app:startDestination=\"@id/overviewFragment\">\n",
    "\n",
    "    <fragment\n",
    "        android:id=\"@+id/overviewFragment\"\n",
    "        android:name=\"com.example.carsykotlin.OverviewFragment\"\n",
    "        android:label=\"fragment_overview\"\n",
    "        tools:layout=\"@layout/fragment_overview\" />\n",
    "    <fragment\n",
    "        android:id=\"@+id/timeLineFragment\"\n",
    "        android:name=\"com.example.carsykotlin.TimeLineFragment\"\n",
    "        android:label=\"fragment_time_line\"\n",
    "        tools:layout=\"@layout/fragment_time_line\" />\n",
    "    <fragment\n",
    "        android:id=\"@+id/calculatorsFragment\"\n",
    "        android:name=\"com.example.carsykotlin.CalculatorsFragment\"\n",
    "        android:label=\"fragment_calculators\"\n",
    "        tools:layout=\"@layout/fragment_calculators\" />\n",
    "</navigation>"
   ]
  },
  {
   "cell_type": "markdown",
   "id": "8f6deb98-b86d-46be-aed3-55dcaf271a98",
   "metadata": {},
   "source": [
    "Po raz kolejny dodajemy tylko fragmenty nie definiując dla nich akcji. `OverviewFragment` oznaczam jako fragment domowy. Musimy również utworzyć `menu` dla `BottomNavigation`\n",
    "\n",
    "`bottom_menu.xml`"
   ]
  },
  {
   "cell_type": "code",
   "execution_count": null,
   "id": "da67481c-353f-40b0-b178-b6f6a33ca55a",
   "metadata": {},
   "outputs": [],
   "source": [
    "<?xml version=\"1.0\" encoding=\"utf-8\"?>\n",
    "<menu xmlns:android=\"http://schemas.android.com/apk/res/android\">\n",
    "    <item\n",
    "        android:id=\"@id/overviewFragment\"\n",
    "        android:title=\"@string/overview\" />\n",
    "    <item\n",
    "        android:id=\"@id/timeLineFragment\"\n",
    "        android:title=\"@string/time_line\" />\n",
    "\n",
    "    <item\n",
    "        android:id=\"@id/calculatorsFragment\"\n",
    "        android:title=\"@string/calculators\" />\n",
    "</menu>"
   ]
  },
  {
   "cell_type": "markdown",
   "id": "73449514-a2bf-4ed4-82ce-c5b6d0973fbd",
   "metadata": {},
   "source": [
    "Pamiętajmy, że `android:id` muszą być takie same jak w `navigation.xml` aby automatyczna nawigacja działała prawidłowo.\n",
    "\n",
    "Przejdźmy do `MainActivity` i dodajmy nawigację oraz połączmy ją z `BottomNavigation`"
   ]
  },
  {
   "cell_type": "code",
   "execution_count": null,
   "id": "026b72c3-6146-4a55-939c-87c1b839872f",
   "metadata": {},
   "outputs": [],
   "source": [
    "class MainActivity : AppCompatActivity() {\n",
    "\n",
    "    private val navController: NavController by lazy {\n",
    "        val navHostFragment = supportFragmentManager.findFragmentById(R.id.nav_host_fragment)\n",
    "                as NavHostFragment\n",
    "        navHostFragment.findNavController()\n",
    "    }\n",
    "\n",
    "    private val binding by lazy {ActivityMainBinding.inflate(layoutInflater)}\n",
    "    override fun onCreate(savedInstanceState: Bundle?) {\n",
    "        super.onCreate(savedInstanceState)\n",
    "        setContentView(binding.root)\n",
    "\n",
    "        binding.bottomNavView.setupWithNavController(navController)\n",
    "    }\n",
    "}"
   ]
  },
  {
   "cell_type": "code",
   "execution_count": null,
   "id": "967f554b-2974-4dac-959f-b5b8b438175b",
   "metadata": {},
   "outputs": [],
   "source": [
    "<?xml version=\"1.0\" encoding=\"utf-8\"?>\n",
    "<LinearLayout xmlns:android=\"http://schemas.android.com/apk/res/android\"\n",
    "    xmlns:app=\"http://schemas.android.com/apk/res-auto\"\n",
    "    xmlns:tools=\"http://schemas.android.com/tools\"\n",
    "    android:layout_width=\"match_parent\"\n",
    "    android:layout_height=\"match_parent\"\n",
    "    android:orientation=\"vertical\"\n",
    "    tools:context=\".ui.MainActivity\">\n",
    "\n",
    "    <androidx.fragment.app.FragmentContainerView\n",
    "        android:id=\"@+id/nav_host_fragment\"\n",
    "        android:name=\"androidx.navigation.fragment.NavHostFragment\"\n",
    "        android:layout_width=\"match_parent\"\n",
    "        android:layout_height=\"0dp\"\n",
    "        android:layout_weight=\"1\"\n",
    "        app:defaultNavHost=\"true\"\n",
    "        app:navGraph=\"@navigation/navigation\"/>\n",
    "\n",
    "    <com.google.android.material.bottomnavigation.BottomNavigationView\n",
    "        android:id=\"@+id/bottom_nav_view\"\n",
    "        android:layout_width=\"match_parent\"\n",
    "        android:layout_height=\"wrap_content\"\n",
    "        app:menu=\"@menu/bottom_menu\" />\n",
    "\n",
    "</LinearLayout>"
   ]
  },
  {
   "cell_type": "markdown",
   "id": "1570545b-9d44-42fc-8aa5-fc976c5d5e40",
   "metadata": {},
   "source": [
    "W efekcie powinniśmy otrzymać podstawową nawigację z trzema ekranami."
   ]
  },
  {
   "cell_type": "markdown",
   "id": "719998bd-7b15-48b8-a692-0bc6c959e46e",
   "metadata": {},
   "source": [
    "<img src=\"https://media1.giphy.com/media/x0j1SX0qmejSUNRtHu/giphy.gif?cid=790b7611bcaddd3fe77b775f20dd38e5e0cfa788c1e83df7&rid=giphy.gif&ct=g\" width=\"150\" />"
   ]
  },
  {
   "cell_type": "markdown",
   "id": "9828f22d-ce07-40a5-9e52-d6ed7f974c17",
   "metadata": {},
   "source": [
    "### **TimeLineFragment**"
   ]
  },
  {
   "cell_type": "markdown",
   "id": "343ab94c-1f43-4a5b-84e3-853908260be7",
   "metadata": {},
   "source": [
    "Chcemy przygotować listę w postaci osi czasu, która będzie zbliżona do tego co oferuje aplikacja **Fuelio**"
   ]
  },
  {
   "cell_type": "markdown",
   "id": "d95aa651-83d5-4544-a96b-340cf794b92c",
   "metadata": {},
   "source": [
    "<img src=\"https://play-lh.googleusercontent.com/Lm6SO1jsUF-VjsrfkIV9x-qpPIkIOIvgWkBGmxyZuHWPSbkYMS0oLhgoBk9wLXq6Xw=w5120-h2880\" width=\"150\" />"
   ]
  },
  {
   "cell_type": "markdown",
   "id": "c92cb233-88ed-427c-bf07-3506bed98a78",
   "metadata": {},
   "source": [
    "Zrobimy to w postaci `RecyclerView` z dwoma `ViewHolder` - w zależności od typu będziemy zmieniać `ViewHolder` naszego elementu. Wpierw przygotujmy dane. Typ kosztu zdefiniujemy jako `enum class`, będziemy przechowywać w niej typ oraz ikonę."
   ]
  },
  {
   "cell_type": "code",
   "execution_count": null,
   "id": "590b4ac4-b64e-4a82-8fbe-e49ecfbdca0c",
   "metadata": {},
   "outputs": [],
   "source": [
    "enum class CostType(val costType: String, val icon: Int) {\n",
    "    REFUELING(\"Tankowanie\", R.drawable.ic_fuel),\n",
    "    SERVICE(\"Serwis\", R.drawable.ic_car_repair),\n",
    "    PARKING(\"Parking\", R.drawable.ic_parking),\n",
    "    INSURANCE(\"Ubezpieczenie\", R.drawable.ic_general_cost),\n",
    "    TICKET(\"Mandat\", R.drawable.ic_ticket)\n",
    "}"
   ]
  },
  {
   "cell_type": "markdown",
   "id": "867a550c-88b1-4335-a9b0-9dd0aace4ce5",
   "metadata": {},
   "source": [
    "Ikony standardowo wybieramy spośród dostępnych w **Android Studio** (**New -> Vector Asset**). Model danych zawiera typ kosztu, datę oraz kwotę."
   ]
  },
  {
   "cell_type": "code",
   "execution_count": null,
   "id": "4958329b-90a1-4ceb-8d33-8ab6c93feab8",
   "metadata": {},
   "outputs": [],
   "source": [
    "data class Cost (\n",
    "    val type: CostType,\n",
    "    val date: LocalDate,\n",
    "    val amount: Int\n",
    ")"
   ]
  },
  {
   "cell_type": "markdown",
   "id": "a4c9392b-8b02-4344-b89d-c8cb99298f35",
   "metadata": {},
   "source": [
    "Ponieważ będziemy posiadać pojedynczy `RecyclerView` i trzy `ViewHolder`'y, musimy w jakiś sposób rozróżnić typ naszych danych - dla uproszczenia będziemy sortować po latach, miesiącach i dniach. Więc chcemy zdefiniować trzy typy, które umieścimy w `sealed class`."
   ]
  },
  {
   "cell_type": "code",
   "execution_count": null,
   "id": "d303d2c9-0314-4e88-a9e2-4affd66976f4",
   "metadata": {},
   "outputs": [],
   "source": [
    "sealed class CostListItem() {\n",
    "    class CostGeneralItem(val cost: Cost) : CostListItem()\n",
    "    class CostDateItem(val date: String) : CostListItem()\n",
    "    class CostYearItem(val date: String) : CostListItem()\n",
    "}"
   ]
  },
  {
   "cell_type": "markdown",
   "id": "26b08ca7-6152-4ff8-b323-e638ef87593e",
   "metadata": {},
   "source": [
    "Definiujemy lokalną hierarchię klas związanych z pozycjami na liście kosztów. Klasa bazowa `CostListItem` jest klasą zapieczętowaną, co oznacza, że jej dziedziczenie jest ograniczone tylko do klas zdefiniowanych w tym samym pliku. To umożliwia bardziej kontrolowany model dziedziczenia oraz ułatwia analizę kodu.\n",
    "\n",
    "Wewnątrz klasy bazowej `CostListItem` zdefiniowano trzy klasy pochodne:\n",
    "\n",
    "- `CostGeneralItem`, która zawiera informacje dotyczące konkretnej pozycji na liście kosztów - obiekt klasy `Cost`.\n",
    "- `CostDateItem`, która zawiera informacje o miesiącu, w którym pojawiają się pozycje na liście kosztów.\n",
    "- `CostYearItem`, która zawiera informacje o roku, w którym pojawiają się pozycje na liście kosztów.\n",
    "\n",
    "Każda z tych klas dziedziczy po klasie `CostListItem`, dzięki tej hierarchii klas można łatwiej zarządzać i przechowywać informacje związane z pozycjami na liście kosztów."
   ]
  },
  {
   "cell_type": "markdown",
   "id": "e6d365f4-8070-4af7-a879-d432a3cf9529",
   "metadata": {},
   "source": [
    "Przejdźmy do obiektu `DataProvider` - w pierwszym kroku utworzymy listę kosztów"
   ]
  },
  {
   "cell_type": "code",
   "execution_count": null,
   "id": "052ff1f1-3109-4db7-b02b-7b52607b4ba0",
   "metadata": {},
   "outputs": [],
   "source": [
    "private val generalCosts = List(500) {\n",
    "    Cost(\n",
    "        CostType.values()[Random.nextInt(CostType.values().size)],\n",
    "        LocalDate.of(Random.nextInt(2005, 2023), Random.nextInt(1,13), Random.nextInt(1,28)),\n",
    "        Random.nextInt(5000)\n",
    "    )\n",
    "}"
   ]
  },
  {
   "cell_type": "markdown",
   "id": "6f61b19b-b408-42d6-9255-488e8615bd44",
   "metadata": {},
   "source": [
    "Ponieważ mamy jeden `RecyclerView`, więc będziemy mieć jedną listę - musimy ją odpowiednio przygotować."
   ]
  },
  {
   "cell_type": "code",
   "execution_count": null,
   "id": "94278d09-0fcd-4e9e-8855-f2ad78b09b60",
   "metadata": {},
   "outputs": [],
   "source": [
    "fun getTimeLineList() = generalCosts\n",
    "        .sortedBy { it.date }\n",
    "        .groupBy { it.date.year }\n",
    "        .flatMap { (year, costsOfYear) -> costListItemsByYear(year, costsOfYear) }"
   ]
  },
  {
   "cell_type": "markdown",
   "id": "e39dc899-9864-4497-8f3e-7d109e90e2f2",
   "metadata": {},
   "source": [
    "Funkcja `getTimeLineList()` zwraca listę elementów costListItem.\n",
    "\n",
    "- `generalCosts` - to jest kolekcja kosztów, którą ta funkcja przetwarza.\n",
    "- `sortedBy { it.date }` - ta funkcja sortuje koszty w `generalCosts` w porządku chronologicznym względem ich dat.\n",
    "- `groupBy { it.date.year }` - ta funkcja grupuje koszty, zebrane w poprzednim kroku, po roku, w którym zostały poniesione. W ten sposób uzyskujemy mapę, w której kluczem jest rok, a wartością jest lista kosztów poniesionych w danym roku (`Map<Int, List<Cost>>`).\n",
    "- `flatMap { (year, costsOfYear) -> costListItemsByYear(year, costsOfYear) }` - ta funkcja przetwarza każdą parę **klucz-wartość** z mapy utworzonej w poprzednim kroku. Funkcja `flatMap` *spłaszcza* wyniki do jednej listy. `costListItemsByYear(year, costsOfYear)` to funkcja, która tworzy listę elementów `costListItem`. Funkcja `flatMap` stosowana jest tutaj, aby połączyć wyniki zwracane przez każde wywołanie `costListItemsByYear` w jedną listę."
   ]
  },
  {
   "cell_type": "code",
   "execution_count": null,
   "id": "d2300de7-6e06-4bdf-99e0-f31b8ee2401c",
   "metadata": {},
   "outputs": [],
   "source": [
    "private fun costListItemsByMonths(\n",
    "    year: Int,\n",
    "    costsOfYear: List<Cost>\n",
    ") = listOf(\n",
    "    CostListItem.CostYearItem(year.toString()),\n",
    "    *costsOfYear.groupBy { it.date.month }\n",
    "        .flatMap { (month, costsOfMonth) -> costListItemsByMonth(month, costsOfMonth) }\n",
    "        .toTypedArray()\n",
    ")"
   ]
  },
  {
   "cell_type": "markdown",
   "id": "40e64103-09da-4d60-82d8-f29c6ae86961",
   "metadata": {},
   "source": [
    "`costListItemsByMonths` jest funkcją, która tworzy listę elementów `CostListItem` dla danego roku i kosztów poniesionych w tym roku.\n",
    "\n",
    "- `year: Int` - to jest rok, dla którego tworzymy elementy `CostListItem`.\n",
    "- `costsOfYear: List<Cost>` - to jest lista kosztów poniesionych w danym roku.\n",
    "- `listOf(...)` - ta funkcja tworzy listę elementów `CostListItem`. Na początku tej listy dodajemy element `CostYearItem`, który zawiera informacje o roku, dla którego tworzymy listę.\n",
    "- `*` - operator ten rozpakowuje tablicę, a dokładniej mówiąc przekształca jej elementy na osobne argumenty.\n",
    "- `costsOfYear.groupBy { it.date.month }` - ta funkcja grupuje koszty zebrane w poprzednim kroku po miesiącu, w którym zostały poniesione.\n",
    "- `flatMap { (month, costsOfMonth) -> costListItemsByDays(month, costsOfMonth) }` - ta funkcja przetwarza każdą parę klucz-wartość z mapy utworzonej w poprzednim kroku. Funkcja `flatMap` *spłaszcza* wyniki do jednej listy. `costListItemsByDays(month, costsOfMonth)` to funkcja, która tworzy listę elementów `CostListItem` dla danego miesiąca i kosztów poniesionych w tym miesiącu.\n",
    "- `toTypedArray()` - ta funkcja przekształca wynik w tablicę."
   ]
  },
  {
   "cell_type": "markdown",
   "id": "11890823-958b-4b5c-90b6-b07d0ce24d83",
   "metadata": {},
   "source": [
    "Analogicznie, napiszemy funckję `costListItemsByDays` tworzącą listę elementów `CostListItem` dla danego miesiąca i kosztów poniesionych w tym miesiącu."
   ]
  },
  {
   "cell_type": "code",
   "execution_count": null,
   "id": "600f9405-034b-42e4-8624-ba6cc58013a6",
   "metadata": {},
   "outputs": [],
   "source": [
    "private fun costListItemsByDays(\n",
    "    month: Month,\n",
    "    costsOfMonth: List<Cost>\n",
    ") = listOf(\n",
    "    CostListItem.CostMonthItem(polishMonthsNames(month)),\n",
    "    *costsOfMonth.sortedBy { it.date.dayOfMonth }\n",
    "        .map { CostListItem.CostGeneralItem(it) }\n",
    "        .toTypedArray()\n",
    ")"
   ]
  },
  {
   "cell_type": "markdown",
   "id": "e7c9880f-eeb4-49a3-861d-53afd7379d3d",
   "metadata": {},
   "source": [
    "Wykorzystujemy tutaj funkcję `polishMonthsNames`, zdefiniowaną w pliku `DateMapperUtil`, która służy do wyświetlania nazw miesięcy po polsku."
   ]
  },
  {
   "cell_type": "code",
   "execution_count": null,
   "id": "051de158-b8bf-46dd-b7a2-6bee83c6ad3d",
   "metadata": {},
   "outputs": [],
   "source": [
    "fun polishMonthsNames(month: Month): String {\n",
    "    return when (month) {\n",
    "        Month.JANUARY -> \"STYCZEŃ\"\n",
    "        Month.FEBRUARY -> \"LUTY\"\n",
    "        Month.MARCH -> \"MARZEC\"\n",
    "        Month.APRIL -> \"KWIECIEŃ\"\n",
    "        Month.MAY -> \"MAJ\"\n",
    "        Month.JUNE -> \"CZERWIEC\"\n",
    "        Month.JULY -> \"LIPIEC\"\n",
    "        Month.AUGUST -> \"SIERPIEŃ\"\n",
    "        Month.SEPTEMBER -> \"WRZESIEŃ\"\n",
    "        Month.OCTOBER -> \"PAŹDZIERNIK\"\n",
    "        Month.NOVEMBER -> \"LISTOPAD\"\n",
    "        Month.DECEMBER -> \"GRUDZIEŃ\"\n",
    "        else -> \"unknown\"\n",
    "    }\n",
    "}"
   ]
  },
  {
   "cell_type": "markdown",
   "id": "7f906a25-1cf2-4998-be8f-28f8dc303176",
   "metadata": {},
   "source": [
    "Podsumowując, funkcje służą do utworzenia listy kosztów pogrupowanej według roku i miesiąca. Na początku funkcja `getTimeLineList` sortuje listę kosztów `generalCosts` względem daty, a następnie grupuje je według roku za pomocą funkcji `groupBy`. Następnie wykorzystuje funkcję `costListItemsByMonths` do utworzenia listy elementów kosztów dla każdego roku. Ostatecznie, za pomocą `flatMap`, łączy wszystkie listy w jedną listę wynikową.\n",
    "\n",
    "Funkcja `costListItemsByMonths` przyjmuje rok i listę kosztów dla tego roku i zwraca listę elementów kosztów pogrupowanych według miesiąca. Tworzy ona najpierw element `CostYearItem` dla roku i następnie grupuje koszty według miesiąca za pomocą funkcji `groupBy`. Dla każdego miesiąca wywołuje funkcję `costListItemsByDays`, która zwraca listę elementów kosztów pogrupowanych według dnia. Ostatecznie łączy wszystkie listy w jedną listę wynikową.\n",
    "\n",
    "Funkcja `costListItemsByDays` przyjmuje miesiąc i listę kosztów dla tego miesiąca i zwraca listę elementów kosztów pogrupowanych według dnia. Tworzy ona najpierw element `CostDateItem` dla miesiąca, a następnie sortuje koszty względem dnia i tworzy dla każdego kosztu element `CostGeneralItem`. Ostatecznie łączy wszystkie elementy w jedną listę wynikową.\n",
    "\n",
    "Wszystkie listy są łączone w jedną listę wynikową za pomocą operatora *spread* (`*`) i konwertowane na tablicę za pomocą `toTypedArray()`."
   ]
  },
  {
   "cell_type": "markdown",
   "id": "09aa02a4-476c-4a87-b1f2-6e785d87f756",
   "metadata": {},
   "source": [
    "W efekcie utworzymy tworzymy listę elementów dla `RecyclerView`, która zawiera obiekty o typie `CostListItem` (jednym z jego podtypów). Utworzymy trzy `ViewHolder`'y, zawierające różne `ui`. Chcemy wyświetlić posortowaną listę w formacie\n",
    "\n",
    "```verbatim\n",
    "<YEAR> - ViewHolder1\n",
    "<MONTH> - ViewHolder2\n",
    "<DATE> <COST> - ViewHolder3\n",
    "```"
   ]
  },
  {
   "cell_type": "markdown",
   "id": "45691f90-051a-4f97-b002-2fd1397577f3",
   "metadata": {},
   "source": [
    "<img src=\"https://play-lh.googleusercontent.com/Lm6SO1jsUF-VjsrfkIV9x-qpPIkIOIvgWkBGmxyZuHWPSbkYMS0oLhgoBk9wLXq6Xw=w5120-h2880\" width=\"150\" />"
   ]
  },
  {
   "cell_type": "markdown",
   "id": "f75c3b5c-785b-409d-bbd3-afe6dec80885",
   "metadata": {},
   "source": [
    "Przejdźmy do utworzenia `ViewHolder`'ów dla naszego adaptera. Każdy z nich będzie posiadał inny layout i służył do przechowywania i wyświetlania jednego z podtypów `CostListItem` "
   ]
  },
  {
   "cell_type": "code",
   "execution_count": null,
   "id": "168b9b7a-3840-41ef-97ec-1a4eba740ea1",
   "metadata": {},
   "outputs": [],
   "source": [
    "sealed class CostListItem {\n",
    "    class CostGeneralItem(val cost: Cost) : CostListItem()\n",
    "    class CostMonthItem(val date: String) : CostListItem()\n",
    "    class CostYearItem(val date: String) : CostListItem()\n",
    "}"
   ]
  },
  {
   "cell_type": "markdown",
   "id": "998e88f5-3584-448e-826f-af33d874e494",
   "metadata": {},
   "source": [
    "Rozpocznijmy od `MonthItemViewHolder`, zdefiniujmy layout dla wyświetlania miesiąca w pliku `month_item_timeline_recyclerview.xml`"
   ]
  },
  {
   "cell_type": "code",
   "execution_count": null,
   "id": "22c66425-f1b8-448e-9b0d-eb89f716ca46",
   "metadata": {},
   "outputs": [],
   "source": [
    "<?xml version=\"1.0\" encoding=\"utf-8\"?>\n",
    "<androidx.constraintlayout.widget.ConstraintLayout xmlns:android=\"http://schemas.android.com/apk/res/android\"\n",
    "    xmlns:app=\"http://schemas.android.com/apk/res-auto\"\n",
    "    android:layout_width=\"match_parent\"\n",
    "    android:layout_height=\"wrap_content\"\n",
    "    android:layout_marginStart=\"4dp\"\n",
    "    android:layout_marginEnd=\"4dp\">\n",
    "\n",
    "    <View\n",
    "        android:id=\"@+id/colorBarMonth\"\n",
    "        android:layout_width=\"16px\"\n",
    "        android:layout_height=\"0dp\"\n",
    "        android:layout_marginStart=\"24dp\"\n",
    "        android:background=\"?attr/colorPrimary\"\n",
    "        android:outlineAmbientShadowColor=\"?attr/colorPrimary\"\n",
    "        android:outlineSpotShadowColor=\"?attr/colorPrimary\"\n",
    "        app:layout_constraintBottom_toBottomOf=\"parent\"\n",
    "        app:layout_constraintStart_toStartOf=\"parent\"\n",
    "        app:layout_constraintTop_toTopOf=\"parent\" />\n",
    "\n",
    "    <ImageView\n",
    "        android:layout_width=\"wrap_content\"\n",
    "        android:layout_height=\"wrap_content\"\n",
    "        android:layout_marginStart=\"19dp\"\n",
    "        android:layout_marginTop=\"24dp\"\n",
    "        android:background=\"@drawable/ic_round_circle\"\n",
    "        android:backgroundTint=\"?attr/colorPrimary\"\n",
    "        android:contentDescription=\"@string/bullet\"\n",
    "        app:layout_constraintBottom_toBottomOf=\"@+id/colorBarMonth\"\n",
    "        app:layout_constraintStart_toStartOf=\"parent\"\n",
    "        app:layout_constraintTop_toTopOf=\"@+id/colorBarMonth\" />\n",
    "\n",
    "    <TextView\n",
    "        android:id=\"@+id/timeLineMonthTextView\"\n",
    "        android:layout_width=\"wrap_content\"\n",
    "        android:layout_height=\"wrap_content\"\n",
    "        android:layout_marginStart=\"16dp\"\n",
    "        android:layout_marginTop=\"24dp\"\n",
    "        android:fontFamily=\"serif\"\n",
    "        android:textColor=\"?attr/colorSecondary\"\n",
    "        android:padding=\"4dp\"\n",
    "        android:text=\"@string/date\"\n",
    "        android:textSize=\"16sp\"\n",
    "        app:layout_constraintBottom_toBottomOf=\"parent\"\n",
    "        app:layout_constraintStart_toStartOf=\"@id/colorBarMonth\"\n",
    "        app:layout_constraintTop_toTopOf=\"parent\" />\n",
    "\n",
    "</androidx.constraintlayout.widget.ConstraintLayout>"
   ]
  },
  {
   "cell_type": "markdown",
   "id": "68dcd774-6c80-4fc9-82b3-bbe68b0bfffc",
   "metadata": {},
   "source": [
    "Jak widzimy mamy tylko jedno pole TextView wyświetlające nazwę miesiąca po którym grupujemy. Pozostałe dwa elementy są graficznym identyfikatorem - `View` jest linią o zadanej grubości i `ImageView` tutaj ma formę wypełnionego koła.\n",
    "\n",
    "Dodajmy `MonthItemViewHolder`."
   ]
  },
  {
   "cell_type": "code",
   "execution_count": null,
   "id": "6b400bab-43a1-491f-9bb8-ca8bb2b48521",
   "metadata": {},
   "outputs": [],
   "source": [
    "class MonthItemViewHolder(private val binding: MonthItemTimelineRecyclerviewBinding)\n",
    "    : RecyclerView.ViewHolder(binding.root)  {\n",
    "    \n",
    "        fun bind(item: CostListItem.CostMonthItem){\n",
    "            binding.timeLineMonthTextView.text = item.month\n",
    "        }\n",
    "}"
   ]
  },
  {
   "cell_type": "markdown",
   "id": "ff3298d1-ea07-4503-b37b-4cc7fc5789bb",
   "metadata": {},
   "source": [
    "Dodajmy layout dla wyświetlenia roku, zawierający tylko jedno pole `TextView` (`year_item_timeline_recyclerview.xml`)"
   ]
  },
  {
   "cell_type": "code",
   "execution_count": null,
   "id": "f95d9c0e-1915-4b57-9b0f-2ddb39adf1b5",
   "metadata": {},
   "outputs": [],
   "source": [
    "<?xml version=\"1.0\" encoding=\"utf-8\"?>\n",
    "<androidx.constraintlayout.widget.ConstraintLayout xmlns:android=\"http://schemas.android.com/apk/res/android\"\n",
    "    xmlns:app=\"http://schemas.android.com/apk/res-auto\"\n",
    "    android:layout_width=\"match_parent\"\n",
    "    android:layout_height=\"wrap_content\"\n",
    "    android:layout_marginStart=\"4dp\"\n",
    "    android:layout_marginEnd=\"4dp\">\n",
    "\n",
    "    <View\n",
    "        android:id=\"@+id/colorBarMonth\"\n",
    "        android:layout_width=\"16px\"\n",
    "        android:layout_height=\"0dp\"\n",
    "        android:layout_marginStart=\"24dp\"\n",
    "        android:background=\"?attr/colorPrimary\"\n",
    "        android:outlineAmbientShadowColor=\"?attr/colorPrimary\"\n",
    "        android:outlineSpotShadowColor=\"?attr/colorPrimary\"\n",
    "        app:layout_constraintBottom_toBottomOf=\"parent\"\n",
    "        app:layout_constraintStart_toStartOf=\"parent\"\n",
    "        app:layout_constraintTop_toTopOf=\"parent\" />\n",
    "\n",
    "    <TextView\n",
    "        android:id=\"@+id/timeLineYearTextView\"\n",
    "        android:layout_width=\"wrap_content\"\n",
    "        android:layout_height=\"wrap_content\"\n",
    "        android:layout_marginTop=\"24dp\"\n",
    "        android:layout_marginBottom=\"16dp\"\n",
    "        android:fontFamily=\"serif\"\n",
    "        android:padding=\"4dp\"\n",
    "        android:text=\"2022\"\n",
    "        android:textColor=\"@color/purple_200\"\n",
    "        android:textSize=\"32sp\"\n",
    "        app:layout_constraintBottom_toBottomOf=\"parent\"\n",
    "        app:layout_constraintEnd_toEndOf=\"parent\"\n",
    "        app:layout_constraintStart_toStartOf=\"parent\"\n",
    "        app:layout_constraintTop_toTopOf=\"parent\" />\n",
    "\n",
    "</androidx.constraintlayout.widget.ConstraintLayout>"
   ]
  },
  {
   "cell_type": "markdown",
   "id": "112fb435-e9d6-46c9-b09a-4d036d538a87",
   "metadata": {},
   "source": [
    "Oraz powiązaną klasę `YearItemViewHolder`"
   ]
  },
  {
   "cell_type": "code",
   "execution_count": null,
   "id": "9c87daef-515c-450e-a8b7-4fb2a609b0f0",
   "metadata": {},
   "outputs": [],
   "source": [
    "class YearItemViewHolder(private val binding: YearItemTimelineRecyclerviewBinding)\n",
    "    : RecyclerView.ViewHolder(binding.root)  {\n",
    "\n",
    "    fun bind(item: CostListItem.CostYearItem){\n",
    "        binding.timeLineYearTextView.text = item.year\n",
    "    }\n",
    "}"
   ]
  },
  {
   "cell_type": "markdown",
   "id": "77f34732-d1bc-49e2-95ad-2fff527a1d85",
   "metadata": {},
   "source": [
    "Ostatnim `ViewHolder`'em będzie `GeneralViewHolder` wyświetlający dzień oraz typ kosztu, wartość, oraz odpowiednią ikonę."
   ]
  },
  {
   "cell_type": "code",
   "execution_count": null,
   "id": "5e115efd-7d97-4339-b04f-41cb1072d275",
   "metadata": {},
   "outputs": [],
   "source": [
    "<?xml version=\"1.0\" encoding=\"utf-8\"?>\n",
    "<androidx.constraintlayout.widget.ConstraintLayout xmlns:android=\"http://schemas.android.com/apk/res/android\"\n",
    "    xmlns:app=\"http://schemas.android.com/apk/res-auto\"\n",
    "    android:layout_width=\"match_parent\"\n",
    "    android:layout_height=\"wrap_content\"\n",
    "    android:layout_marginStart=\"4dp\"\n",
    "    android:layout_marginEnd=\"4dp\">\n",
    "\n",
    "    <View\n",
    "        android:id=\"@+id/colorBarGeneral\"\n",
    "        android:layout_width=\"16px\"\n",
    "        android:layout_height=\"0dp\"\n",
    "        android:layout_marginStart=\"24dp\"\n",
    "        android:background=\"?attr/colorPrimary\"\n",
    "        android:outlineAmbientShadowColor=\"?attr/colorPrimary\"\n",
    "        android:outlineSpotShadowColor=\"?attr/colorPrimary\"\n",
    "        app:layout_constraintBottom_toBottomOf=\"parent\"\n",
    "        app:layout_constraintStart_toStartOf=\"parent\"\n",
    "        app:layout_constraintTop_toTopOf=\"parent\" />\n",
    "\n",
    "    <ImageView\n",
    "        android:id=\"@+id/imageView\"\n",
    "        android:layout_width=\"wrap_content\"\n",
    "        android:layout_height=\"wrap_content\"\n",
    "        android:layout_marginStart=\"3.2dp\"\n",
    "        android:background=\"@drawable/ic_round_circle_big\"\n",
    "        android:backgroundTint=\"?attr/colorPrimary\"\n",
    "        android:contentDescription=\"@string/bullet\"\n",
    "        app:layout_constraintBottom_toBottomOf=\"@+id/colorBarGeneral\"\n",
    "        app:layout_constraintStart_toStartOf=\"parent\"\n",
    "        app:layout_constraintTop_toTopOf=\"@+id/colorBarGeneral\" />\n",
    "\n",
    "    <ImageView\n",
    "        android:id=\"@+id/iconTimeLineImageView\"\n",
    "        android:layout_width=\"wrap_content\"\n",
    "        android:layout_height=\"wrap_content\"\n",
    "        android:layout_marginStart=\"12dp\"\n",
    "        android:layout_marginTop=\"8dp\"\n",
    "        android:background=\"@drawable/ic_car_repair\"\n",
    "        android:backgroundTint=\"@color/white\"\n",
    "        android:contentDescription=\"@string/bullet\"\n",
    "        app:layout_constraintBottom_toBottomOf=\"@+id/imageView\"\n",
    "        app:layout_constraintStart_toStartOf=\"@+id/imageView\"\n",
    "        app:layout_constraintTop_toTopOf=\"@+id/imageView\"\n",
    "        app:layout_constraintVertical_bias=\"0.285\" />\n",
    "\n",
    "    <TextView\n",
    "        android:id=\"@+id/timeLineCostTypeNameTextView\"\n",
    "        android:layout_width=\"wrap_content\"\n",
    "        android:layout_height=\"wrap_content\"\n",
    "        android:padding=\"4dp\"\n",
    "        android:text=\"@string/costtype_name\"\n",
    "        android:textSize=\"24sp\"\n",
    "        app:layout_constraintBottom_toBottomOf=\"parent\"\n",
    "        app:layout_constraintStart_toEndOf=\"@+id/imageView\"\n",
    "        app:layout_constraintTop_toTopOf=\"parent\" />\n",
    "\n",
    "    <TextView\n",
    "        android:id=\"@+id/timeLineCostAmountTextView\"\n",
    "        android:layout_width=\"wrap_content\"\n",
    "        android:layout_height=\"wrap_content\"\n",
    "        android:layout_marginEnd=\"16dp\"\n",
    "        android:padding=\"4dp\"\n",
    "        android:text=\"1200 zł\"\n",
    "        android:textSize=\"24sp\"\n",
    "        app:layout_constraintBottom_toBottomOf=\"parent\"\n",
    "        app:layout_constraintEnd_toEndOf=\"parent\"\n",
    "        app:layout_constraintTop_toTopOf=\"parent\" />\n",
    "\n",
    "    <TextView\n",
    "        android:id=\"@+id/timeLineFullDateTextView\"\n",
    "        android:layout_width=\"wrap_content\"\n",
    "        android:layout_height=\"wrap_content\"\n",
    "        android:fontFamily=\"serif\"\n",
    "        android:paddingStart=\"4dp\"\n",
    "        android:text=\"@string/date\"\n",
    "        android:textSize=\"16sp\"\n",
    "        app:layout_constraintBottom_toBottomOf=\"parent\"\n",
    "        app:layout_constraintStart_toEndOf=\"@+id/imageView\"\n",
    "        app:layout_constraintTop_toBottomOf=\"@+id/timeLineCostTypeNameTextView\" />\n",
    "\n",
    "</androidx.constraintlayout.widget.ConstraintLayout>"
   ]
  },
  {
   "cell_type": "code",
   "execution_count": null,
   "id": "613b9e05-4ad8-4eae-8d0c-50601392edf1",
   "metadata": {},
   "outputs": [],
   "source": [
    "class GeneralItemViewHolder(private val binding: GeneralItemTimelineRecyclerviewBinding)\n",
    "    : RecyclerView.ViewHolder(binding.root) {\n",
    "\n",
    "    @SuppressLint(\"SetTextI18n\")\n",
    "    fun bind(item: CostListItem.CostGeneralItem, context: Context) {\n",
    "        binding.apply {\n",
    "            timeLineCostTypeNameTextView.text = item.cost.type.costType\n",
    "            timeLineFullDateTextView.text = item.cost.date.format(dateFormatter)\n",
    "            timeLineCostAmountTextView.text = \"${item.cost.amount} zł\"\n",
    "            iconTimeLineImageView.background =\n",
    "                ContextCompat.getDrawable(context, item.cost.type.icon)\n",
    "        }\n",
    "    }\n",
    "}"
   ]
  },
  {
   "cell_type": "markdown",
   "id": "7f3fb704-069e-417c-bb32-8c575cb0286f",
   "metadata": {},
   "source": [
    "Formatujemy `String` daty wykorzystując `dateFormatter` z pliku `StringUtil`"
   ]
  },
  {
   "cell_type": "code",
   "execution_count": null,
   "id": "7a1fbed9-401c-4c3c-842b-0511795ccc28",
   "metadata": {},
   "outputs": [],
   "source": [
    "val dateFormatter: DateTimeFormatter = DateTimeFormatter.ofPattern(\"dd MMM yyyy\", Locale(\"pl\"))"
   ]
  },
  {
   "cell_type": "markdown",
   "id": "25efe204-5473-4434-abc7-fda0b151b0ad",
   "metadata": {},
   "source": [
    "Chcąc zmienić tło `ImageView`, aby zmienić ikonę, musimy podać jako argument `Context`, więc przekażemy go w argumencie metody.\n",
    "\n",
    "## `TimeLineAdapter`"
   ]
  },
  {
   "cell_type": "markdown",
   "id": "ca3254ba-8bd4-40dc-936d-0e6ede4901c9",
   "metadata": {},
   "source": [
    "Przejdźmy do implementacji `TimeLineAdapter`."
   ]
  },
  {
   "cell_type": "code",
   "execution_count": null,
   "id": "3f174636-6a34-4bfa-a017-64fbde1d3a0b",
   "metadata": {},
   "outputs": [],
   "source": [
    "class TimeLineAdapter(private val context: Context)\n",
    "    : RecyclerView.Adapter<RecyclerView.ViewHolder>(){\n",
    "\n",
    "    private val itemList = DataProvider.getTimeLineList()\n",
    "}"
   ]
  },
  {
   "cell_type": "markdown",
   "id": "d97b0b5b-9d32-49d4-9932-8d5a072d5f47",
   "metadata": {},
   "source": [
    "W konstruktorze przekazujemy `Context`, który jest wymagany przez metodę `bind` klasy `GeneralItemViewHolder`. Tworzymy też wartość inicjowaną wywołaniem metody `getTimeLineList`, zwracającą listę 500 elementów `CostListItem`, które umieścimy w `RecyclerView`.\n",
    "\n",
    "Nadpiszmy metodę `getItemCount`, zwracającą liczbę elementów do umieszczenia."
   ]
  },
  {
   "cell_type": "code",
   "execution_count": null,
   "id": "90582e23-37f1-45d5-ab46-56331fcee825",
   "metadata": {},
   "outputs": [],
   "source": [
    "override fun getItemCount(): Int = itemList.size"
   ]
  },
  {
   "cell_type": "markdown",
   "id": "e6f1c8b9-ef7c-4efa-96ec-a6286d04b9d5",
   "metadata": {},
   "source": [
    "W metodzie `onCreateViewHolder` musimy utworzyć jeden z trzech zdefiniowanych `ViewHolder`'ów dla każdego elementu listy."
   ]
  },
  {
   "cell_type": "code",
   "execution_count": null,
   "id": "4d8a61ec-cc61-4713-a7cb-ec03dfbbdf8f",
   "metadata": {},
   "outputs": [],
   "source": [
    "override fun onCreateViewHolder(parent: ViewGroup, viewType: Int): RecyclerView.ViewHolder {\n",
    "    return when (viewType) {\n",
    "        CostListItem.TYPE_YEAR -> createYearItemViewHolder(parent)\n",
    "        CostListItem.TYPE_MONTH -> createMonthItemViewHolder(parent)\n",
    "        else -> createGeneralItemViewHolder(parent)\n",
    "    }\n",
    "}"
   ]
  },
  {
   "cell_type": "markdown",
   "id": "064e5859-1724-4b16-8ff3-9496508b07ca",
   "metadata": {},
   "source": [
    "Funkcja używa instrukcji warunkowej `when` do zwrócenia odpowiedniego typu `ViewHoldera` w zależności od wartości `viewType`. Ponieważ `RecyyclerView` posiada pole `viewType` i jest ono typu `Int`, dodajmy `companion object` do klasy `CostLitItem`, który będzie zawierał zdefiniowane trzy pola typu `Int` - ppo jednym dla każdego podtypu."
   ]
  },
  {
   "cell_type": "code",
   "execution_count": null,
   "id": "fbe7740c-829a-4749-9431-07e94ab6f6e0",
   "metadata": {},
   "outputs": [],
   "source": [
    "sealed class CostListItem(\n",
    "    val viewType: Int\n",
    ") {\n",
    "    class CostGeneralItem(val cost: Cost) : CostListItem(TYPE_GENERAL)\n",
    "    class CostMonthItem(val month: String) : CostListItem(TYPE_MONTH)\n",
    "    class CostYearItem(val year: String) : CostListItem(TYPE_YEAR)\n",
    "\n",
    "    companion object {\n",
    "        const val TYPE_YEAR = 0\n",
    "        const val TYPE_MONTH = 1\n",
    "        const val TYPE_GENERAL = 2\n",
    "    }\n",
    "}"
   ]
  },
  {
   "cell_type": "markdown",
   "id": "cdcb1ac1-0bd3-4ae6-a69e-03588eee5d85",
   "metadata": {},
   "source": [
    "Modyfikujemy również konstruktor główny klasy zapieczętowanej `CostListItem` - przyjmuje ona `viewType: Int` - jest to wartość po której będziemy rozróżniać nasze `ViewHolder`'y."
   ]
  },
  {
   "cell_type": "markdown",
   "id": "11c9b879-ee31-494f-a3b0-254bf2c3bf99",
   "metadata": {},
   "source": [
    "W przypadku, gdy wartość `viewType` jest równa stałej `CostListItem.TYPE_YEAR`, funkcja wywołuje metodę `createYearItemViewHolder(parent)`, która tworzy i zwraca obiekt `ViewHolder` specjalnego typu dla roku. W przypadku, gdy wartość `viewType` jest równa stałej `CostListItem.TYPE_MONTH`, funkcja wywołuje metodę `createMonthItemViewHolder(parent)`, która tworzy i zwraca obiekt `ViewHolder` specjalnego typu dla miesiąca. W przeciwnym razie funkcja wywołuje metodę `createGeneralItemViewHolder(parent)`, która tworzy i zwraca obiekt `ViewHolder` ogólnego typu dla pozostałych przypadków - czyli dla konkretnych wpisów na liście."
   ]
  },
  {
   "cell_type": "markdown",
   "id": "fabbd425-0e6b-491e-bfa0-680cd898b7c6",
   "metadata": {},
   "source": [
    "`RecyclerView.viewType` to wartość typu widoku, która jest zwracana przez metodę `getItemViewType(position: Int)` w klasie dziedziczącej po `RecyclerView.Adapter`. Metoda ta jest wywoływana automatycznie przez `RecyclerView` podczas tworzenia nowych `ViewHolder`'ów, aby określić, jaki typ widoku należy wykorzystać dla danego elementu w liście.\n",
    "\n",
    "W przypadku, gdy w liście wyświetlane są elementy różnego typu (np. rok, miesiąc, itp.), metoda `getItemViewType` zwraca wartość typu widoku dla danego elementu, a wartość ta jest następnie używana w metodzie `onCreateViewHolder` do stworzenia odpowiedniego `ViewHolder`'a dla danego typu widoku.\n",
    "\n",
    "Wartości typów widoku powinny być unikalne i dodatnie, ponieważ są one wykorzystywane jako indeksy w wewnętrznej tablicy w `RecyclerView`, a wartości ujemne lub zerowe są zarezerwowane dla `RecyclerView` i nie powinny być używane przez użytkownika."
   ]
  },
  {
   "cell_type": "markdown",
   "id": "99c5fbb9-470b-4cea-b0d5-30b65bf382f1",
   "metadata": {},
   "source": [
    "Kolejnym elementem będzie nadpisanie metody `getItemViewType`, który zwróci odpowiednią wartość."
   ]
  },
  {
   "cell_type": "code",
   "execution_count": null,
   "id": "ae704e77-2d28-4510-b0d1-aed93d87a006",
   "metadata": {},
   "outputs": [],
   "source": [
    "override fun getItemViewType(position: Int) = itemList[position].viewType"
   ]
  },
  {
   "cell_type": "markdown",
   "id": "49358163-a0f8-4bba-acb7-77857ecb3106",
   "metadata": {},
   "source": [
    "Metoda ta korzysta z własności `viewType` obiektu `CostListItem` znajdującego się na pozycji position w `itemList`, aby określić, jaki typ widoku należy wykorzystać dla danego elementu.\n",
    "\n",
    "Każdy `ViewHolder` ma przypisany typ widoku, który określa, jakiego typu widok powinien być użyty do wyświetlenia danego elementu. Dzięki temu `RecyclerView` wie, jakie typy muszą być tworzone i ponownie używane podczas przewijania listy, co zapewnia wydajność i płynne przewijanie, nawet w przypadku dużych list."
   ]
  },
  {
   "cell_type": "markdown",
   "id": "77f35ccf-eac9-4a5a-a9a8-2666236ba7ce",
   "metadata": {},
   "source": [
    "Przejdźmy do utworzenia trzech metod tworzących `ViewHolder`'y, które juuż zostały wywołane w metodzie `onCreateViewHolder`"
   ]
  },
  {
   "cell_type": "code",
   "execution_count": null,
   "id": "792c8bdb-0f48-4d8b-b167-5658ccc818ed",
   "metadata": {},
   "outputs": [],
   "source": [
    "private fun createYearItemViewHolder(parent: ViewGroup) =\n",
    "    YearItemViewHolder(\n",
    "        YearItemTimelineRecyclerviewBinding.inflate(\n",
    "            LayoutInflater.from(parent.context), parent, false\n",
    "        )\n",
    "    )\n",
    "\n",
    "private fun createMonthItemViewHolder(parent: ViewGroup) =\n",
    "    MonthItemViewHolder(\n",
    "        MonthItemTimelineRecyclerviewBinding.inflate(\n",
    "            LayoutInflater.from(parent.context), parent, false\n",
    "        )\n",
    "    )\n",
    "\n",
    "private fun createGeneralItemViewHolder(parent: ViewGroup) =\n",
    "    GeneralItemViewHolder(\n",
    "        GeneralItemTimelineRecyclerviewBinding.inflate(\n",
    "            LayoutInflater.from(parent.context), parent, false\n",
    "        )\n",
    "    )"
   ]
  },
  {
   "cell_type": "markdown",
   "id": "ec96bbcd-ebc4-43ed-b5b4-590e3e75db6d",
   "metadata": {},
   "source": [
    "Ostatnią metodą jest `onBindViewHolder`, na podstawie przekazanego `ViewHolder`'a musimy wywołać metodę `bind` z odpowiednią listą argumentów - wykorzystamy rzutowanie."
   ]
  },
  {
   "cell_type": "code",
   "execution_count": null,
   "id": "dd9350d7-e00b-48e1-af79-40a80a9e69ca",
   "metadata": {},
   "outputs": [],
   "source": [
    "override fun onBindViewHolder(holder: RecyclerView.ViewHolder, position: Int) =\n",
    "    when(holder){\n",
    "        is YearItemViewHolder -> holder.bind(itemList[position] as CostListItem.CostYearItem)\n",
    "        is MonthItemViewHolder -> holder.bind(itemList[position] as CostListItem.CostMonthItem)\n",
    "        is GeneralItemViewHolder -> holder.bind(itemList[position] as CostListItem.CostGeneralItem, context)\n",
    "        else -> throw IllegalArgumentException(\"wrong ViewHolder\")\n",
    "    }"
   ]
  },
  {
   "cell_type": "markdown",
   "id": "ffad489b-7166-4307-9b41-4c23728d58f3",
   "metadata": {},
   "source": [
    "Instrukcja `when` używana w tej metodzie służy do określenia typu `ViewHoldera` i wywołania odpowiedniej metody `bind`, która ustawia wartości widoku na podstawie danych dla danego elementu.\n",
    "\n",
    "W przypadku, gdy `ViewHolder` jest typu `YearItemViewHolder`, metoda `bind` jest wywoływana z obiektem `CostListItem.CostYearItem` znajdującym się na pozycji `position` w `itemList`. W pozostałych przypadkach postępowanie jest analogiczne.\n",
    "\n",
    "W instrukcji `else` znajduje się wyjątek `IllegalArgumentException`, który jest zgłaszany w przypadku, gdy `ViewHolder` jest nieprawidłowego typu. Ten wyjątek jest rzucany, gdy wystąpi nieoczekiwany błąd, np. jeśli `ViewHolder` nie jest zdefiniowany w sposób poprawny."
   ]
  },
  {
   "cell_type": "markdown",
   "id": "3ea335a9-0880-4574-9730-53abbc8ba222",
   "metadata": {},
   "source": [
    "Możemy przetestować aplikację"
   ]
  },
  {
   "cell_type": "markdown",
   "id": "7b92072d-e8e7-4381-bd38-8596ba9d6776",
   "metadata": {},
   "source": [
    "<img src=\"https://media4.giphy.com/media/v1.Y2lkPTc5MGI3NjExNmMwYzA3ZDM5ZmI5MzYyOGQxMTY5M2ViODMwNjNlNDkxOGNiOGI0ZiZjdD1n/b0ros8sGEGksSq7Y3T/giphy.gif\" width=\"150\" />"
   ]
  },
  {
   "cell_type": "markdown",
   "id": "53b61712-745b-4ce0-bab8-7716df71d4ef",
   "metadata": {},
   "source": [
    "### **Model danych**"
   ]
  },
  {
   "cell_type": "markdown",
   "id": "0796f0c1-84f0-42f6-b829-82fa37949f8e",
   "metadata": {},
   "source": [
    "Przygotujmy prosty model danych opisujący samochód"
   ]
  },
  {
   "cell_type": "code",
   "execution_count": null,
   "id": "4f86a5fc-482f-4790-bf3f-505e959a10f0",
   "metadata": {},
   "outputs": [],
   "source": [
    "data class Car (\n",
    "    val name: String,\n",
    "    val brand: String,\n",
    "    val model: String,\n",
    "    val yearOfProduction: Int,\n",
    "    val costs: List<Cost>\n",
    ")"
   ]
  },
  {
   "cell_type": "markdown",
   "id": "ed024e8a-1c0f-4057-8e2a-372e7e9f8910",
   "metadata": {},
   "source": [
    "Poza standardowymi polami umieścimy również listę wszystkich kosztów (do której nie będziemy dodawać kolejnych wpisów). Musimy wprowadzić niewielkie zmiany w `DataProvider` i wystawić liste wszystkich samochodów. Zmienimy stałą `generalCosts` na funkcję przyjmującą rozmiar listy `size`."
   ]
  },
  {
   "cell_type": "code",
   "execution_count": null,
   "id": "f52c87b2-5eec-4237-838a-9c6a06a06237",
   "metadata": {},
   "outputs": [],
   "source": [
    "private fun generalCosts(size: Int) = List(size) {\n",
    "    Cost(\n",
    "        CostType.values()[Random.nextInt(CostType.values().size)],\n",
    "        LocalDate.of(Random.nextInt(2005, 2023), Random.nextInt(1,13), Random.nextInt(1,28)),\n",
    "        Random.nextInt(5000)\n",
    "    )\n",
    "}"
   ]
  },
  {
   "cell_type": "markdown",
   "id": "f8b3d00d-af23-4c55-be01-a7d9a53d5e48",
   "metadata": {},
   "source": [
    "Zmodyfikujemy również nieco funkcję `getTimeLineList`, aby przyjmowała `costs` i zwracała listę `CostListItem`"
   ]
  },
  {
   "cell_type": "code",
   "execution_count": null,
   "id": "9759e6ac-082a-4f72-a572-404a067611fb",
   "metadata": {},
   "outputs": [],
   "source": [
    "fun getTimeLineList(costs: List<Cost>): List<CostListItem> = costs\n",
    "        .sortedBy { it.date }\n",
    "        .groupBy { it.date.year }\n",
    "        .flatMap { (year, costsOfYear) -> costListItemsByMonths(year, costsOfYear) }"
   ]
  },
  {
   "cell_type": "markdown",
   "id": "f466c826-e277-42cd-97bf-db9f2f160239",
   "metadata": {},
   "source": [
    "Chcemy mieć możliwość pokazania listy wszystkich kosztów dla każdego samochodu. Zmieńmy sygnaturę klasy `TimeLineAdapter` - będzie przyjmować listę wszystkich kosztów `List<Cost>`"
   ]
  },
  {
   "cell_type": "code",
   "execution_count": null,
   "id": "1ee08c99-70a4-480f-bcd3-12aa0974c0e0",
   "metadata": {},
   "outputs": [],
   "source": [
    "class TimeLineAdapter(costsList: List<Cost>, private val context: Context)\n",
    "    : RecyclerView.Adapter<RecyclerView.ViewHolder>(){\n",
    "\n",
    "    private val itemList = DataProvider.getTimeLineList(costsList)\n",
    "    ...\n",
    "}"
   ]
  },
  {
   "cell_type": "markdown",
   "id": "247390a0-fec3-4e2b-bd53-36ee1040820e",
   "metadata": {},
   "source": [
    "Ostatnim elementem będzie wystawienie listy wszystkich samochodów przez obiekt `DataProvider`"
   ]
  },
  {
   "cell_type": "code",
   "execution_count": null,
   "id": "30d573ba-b44c-49f6-98d9-76abf0724544",
   "metadata": {},
   "outputs": [],
   "source": [
    "val cars = listOf(\n",
    "    Car(\"Domowy\", \"Skoda\", \"Fabia\", 2002, generalCosts(100)),\n",
    "    Car(\"Służbowy\", \"BMW\", \"Coupe\", 2015, generalCosts(50)),\n",
    "    Car(\"Kolekcjonerski\", \"Fiat\", \"125p\", 1985, generalCosts(10))\n",
    ")"
   ]
  },
  {
   "cell_type": "markdown",
   "id": "e8655e1d-006a-4e0e-8b1c-e6c7278d3c81",
   "metadata": {},
   "source": [
    "### **Menu rozwijane**"
   ]
  },
  {
   "cell_type": "markdown",
   "id": "ee575200-db52-458f-801a-f756b86f229d",
   "metadata": {},
   "source": [
    "Na `TimeLineFragment` będziemy zmieniać listę kosztów za pomocą `TextInputLayout` oraz `AutoCompleteTextView`. W pierwszym kroku dodajmy go do layoutu"
   ]
  },
  {
   "cell_type": "code",
   "execution_count": null,
   "id": "82978799-67c0-4e50-a84a-94a39b12126b",
   "metadata": {},
   "outputs": [],
   "source": [
    "<?xml version=\"1.0\" encoding=\"utf-8\"?>\n",
    "<LinearLayout xmlns:android=\"http://schemas.android.com/apk/res/android\"\n",
    "    xmlns:tools=\"http://schemas.android.com/tools\"\n",
    "    android:layout_width=\"match_parent\"\n",
    "    android:layout_height=\"match_parent\"\n",
    "    android:orientation=\"vertical\">\n",
    "    \n",
    "    <com.google.android.material.textfield.TextInputLayout\n",
    "        style=\"@style/Widget.MaterialComponents.TextInputLayout.OutlinedBox.ExposedDropdownMenu\"\n",
    "        android:layout_width=\"match_parent\"\n",
    "        android:layout_height=\"wrap_content\"\n",
    "        android:layout_marginStart=\"16dp\"\n",
    "        android:layout_marginEnd=\"16dp\">\n",
    "\n",
    "        <AutoCompleteTextView\n",
    "            android:id=\"@+id/autoCompleteTextView\"\n",
    "            android:layout_width=\"match_parent\"\n",
    "            android:layout_height=\"match_parent\"\n",
    "            android:layout_weight=\"1\"\n",
    "            android:textAlignment=\"center\"\n",
    "            android:inputType=\"none\"\n",
    "            android:text=\"auto complete view\"\n",
    "            android:textSize=\"24sp\"\n",
    "            android:textColor=\"@color/purple_200\"/>\n",
    "    </com.google.android.material.textfield.TextInputLayout>\n",
    "\n",
    "    <androidx.recyclerview.widget.RecyclerView\n",
    "        android:id=\"@+id/timeLineRecyclerView\"\n",
    "        android:layout_width=\"match_parent\"\n",
    "        android:layout_height=\"0dp\"\n",
    "        android:layout_weight=\"1\"\n",
    "        android:layout_marginTop=\"12dp\" />\n",
    "\n",
    "</LinearLayout>"
   ]
  },
  {
   "cell_type": "markdown",
   "id": "ae8fc2cc-0d71-4023-ba91-6a64f9a93061",
   "metadata": {},
   "source": [
    "`TextInputLayout` jest specjalnym kontenerem, który zapewnia dodatkową funkcjonalność dla elementów formularza wejściowego. W tym przypadku `TextInputLayout` jest skonfigurowany z stylem `Widget.MaterialComponents.TextInputLayout.OutlinedBox.ExposedDropdownMenu`, co oznacza, że element formularza wejściowego jest ramkowany na zewnątrz, a gdy zostanie kliknięty, pojawią się opcje rozwijane. `AutoCompleteTextView` to element formularza wejściowego, który umożliwia użytkownikowi wprowadzenie tekstu, podczas gdy aplikacja automatycznie podpowiada dostępne opcje na podstawie wprowadzonego tekstu. `android:inputType=\"none\"` wyyłącza możliwość wprowadzania tekstu - tylko rozwiniemy menu przy kliknięciu."
   ]
  },
  {
   "cell_type": "markdown",
   "id": "fcb8b5cc-85b3-4670-9495-7093274c74f2",
   "metadata": {},
   "source": [
    "Kolejnym elementem będzie layout pojedynczego elementu listy rozwijanej (`dropdown_item.xml`) - czyli elementów które pojawiają się po kliknięciu na `AutoCompleteTextView`"
   ]
  },
  {
   "cell_type": "code",
   "execution_count": null,
   "id": "3c02c087-41f9-4f6b-baf9-fbd60fae0c16",
   "metadata": {},
   "outputs": [],
   "source": [
    "<?xml version=\"1.0\" encoding=\"utf-8\"?>\n",
    "<TextView xmlns:android=\"http://schemas.android.com/apk/res/android\"\n",
    "    android:id=\"@+id/textView\"\n",
    "    android:text=\"Text\"\n",
    "    android:textColor=\"@color/purple_200\"\n",
    "    android:textSize=\"24sp\"\n",
    "    android:fontFamily=\"sans-serif\"\n",
    "    android:gravity=\"center\"\n",
    "    android:layout_width=\"match_parent\"\n",
    "    android:layout_height=\"match_parent\"\n",
    "    android:padding=\"14dp\">\n",
    "\n",
    "</TextView>"
   ]
  },
  {
   "cell_type": "markdown",
   "id": "29850c4f-e784-456d-8516-f9973b6d5336",
   "metadata": {},
   "source": [
    "Pozostało utworzyć `RecyclerView` oraz `autoCompleteTextView` we fragmencie `TimeLineFragment`. Rozpocznijmy od metody konfigurującej `RecyclerView`"
   ]
  },
  {
   "cell_type": "code",
   "execution_count": null,
   "id": "06cde1a1-8126-4158-9740-518025988044",
   "metadata": {},
   "outputs": [],
   "source": [
    "private fun setupRecyclerView(): RecyclerView {\n",
    "    return binding.timeLineRecyclerView.apply {\n",
    "        adapter = TimeLineAdapter(DataProvider.cars[0].costs, requireContext())\n",
    "        layoutManager = LinearLayoutManager(requireContext())\n",
    "    }\n",
    "}"
   ]
  },
  {
   "cell_type": "markdown",
   "id": "8531568d-d81d-4db2-8fc0-c25463239c11",
   "metadata": {},
   "source": [
    "Wywołajmy tą metodę w `onCreateView`"
   ]
  },
  {
   "cell_type": "code",
   "execution_count": null,
   "id": "78efbec7-4a29-4212-812c-4dede2de75d8",
   "metadata": {},
   "outputs": [],
   "source": [
    "    override fun onCreateView(\n",
    "        inflater: LayoutInflater, container: ViewGroup?,\n",
    "        savedInstanceState: Bundle?\n",
    "    ): View {\n",
    "        binding = FragmentTimeLineBinding.inflate(inflater)\n",
    "\n",
    "        val recycler = setupRecyclerView()\n",
    "\n",
    "        return binding.root\n",
    "    }"
   ]
  },
  {
   "cell_type": "markdown",
   "id": "2bc3b1f3-d34c-4590-9b5c-de31cedf5478",
   "metadata": {},
   "source": [
    "Wartość `recycler` będzie nam potrzebna przy zmianie elementu listy - chcemy przeładować adapter i wczytać nową listę. Przejdźmy do funkcji konfigurującej `autoCompleteTextView`"
   ]
  },
  {
   "cell_type": "code",
   "execution_count": null,
   "id": "d99d7c6f-ca56-40fd-9618-633bd216a101",
   "metadata": {},
   "outputs": [],
   "source": [
    "private fun setupDropDownSelector(recycler: RecyclerView) {\n",
    "    binding.autoCompleteTextView.apply {"
   ]
  },
  {
   "cell_type": "markdown",
   "id": "04e56c45-ce8f-41dc-b0ea-633b38eb3cc3",
   "metadata": {},
   "source": [
    "W pierwszym kroku ustawmy text na pierwszy element listy, task aby odpowiadał wyświetlanej liście przy otworzeniu fragmentu."
   ]
  },
  {
   "cell_type": "code",
   "execution_count": null,
   "id": "32ecbe2f-0113-440b-b0f7-b31c9c1fe5c1",
   "metadata": {},
   "outputs": [],
   "source": [
    "        setText(DataProvider.cars[0].name)"
   ]
  },
  {
   "cell_type": "markdown",
   "id": "5df6a8b0-c335-434d-8d9c-5522b9913ebe",
   "metadata": {},
   "source": [
    "Ponieważ mamy listę (podobnie jak w `RecyclerView`), musimy utworzyć adapter"
   ]
  },
  {
   "cell_type": "code",
   "execution_count": null,
   "id": "164c24ad-b281-4ea9-bc3d-f24461fa25fd",
   "metadata": {},
   "outputs": [],
   "source": [
    "        setAdapter(\n",
    "            ArrayAdapter(\n",
    "                requireContext(),\n",
    "                R.layout.dropdown_item,\n",
    "                DataProvider.cars.map { it.name })\n",
    "        )"
   ]
  },
  {
   "cell_type": "markdown",
   "id": "bfac069c-1c06-4cf0-88a1-6e5db15ff0c7",
   "metadata": {},
   "source": [
    "W tym przypadku, adapter ustawiony w metodzie `setAdapter()` to `ArrayAdapter`. Jest to prost adapter, który wyświetla elementy w widoku rozwijanym na podstawie tablicy danych.\n",
    "\n",
    "`R.layout.dropdown_item` to identyfikator zasobu, który definiuje układ dla elementu rozwijanego menu. `DataProvider.cars.map { it.name }` to kolekcja nazw samochodów, która jest przetwarzana za pomocą funkcji `map` i zamieniana na listę nazw samochodów."
   ]
  },
  {
   "cell_type": "markdown",
   "id": "f196f830-ee05-4e54-aa16-a566cdd15280",
   "metadata": {},
   "source": [
    "Ostatnim elementem jest `onItemClickListener` elementu z rozwijanej listy."
   ]
  },
  {
   "cell_type": "code",
   "execution_count": null,
   "id": "f3032978-09c4-4f1f-a72f-f8d9013a220d",
   "metadata": {},
   "outputs": [],
   "source": [
    "        onItemClickListener =\n",
    "            AdapterView.OnItemClickListener { _, _, position, _ ->\n",
    "                recycler.swapAdapter(\n",
    "                    TimeLineAdapter(\n",
    "                        DataProvider.cars[position].costs,\n",
    "                        requireContext()\n",
    "                    ), true\n",
    "                )\n",
    "            }"
   ]
  },
  {
   "cell_type": "markdown",
   "id": "eef85d67-e355-4def-aaa8-8b020b975ba5",
   "metadata": {},
   "source": [
    "Obiekt `AdapterView.OnItemClickListener` to obiekt, który nasłuchuje zdarzeń kliknięcia elementów w widoku rozwijanym i podejmuje odpowiednie akcje na podstawie tych zdarzeń. W tym przypadku, kiedy użytkownik kliknie na element w menu rozwijanym, funkcja `onItemClick` jest wywoływana, która przyjmuje cztery parametry: `parent`, `view`, `position`, i `id`.\n",
    "\n",
    "- `parent` to widok nadrzędny, który zawiera element rozwijanego menu. \n",
    "- `view` to widok, który został kliknięty. \n",
    "- `position` to pozycja elementu w menu rozwijanym, który został kliknięty. \n",
    "- `id` to identyfikator elementu, który został kliknięty (jeśli taki istnieje).\n",
    "\n",
    "Pozycja elementu w menu rozwijanym, który został kliknięty, jest wykorzystywana do uzyskania danych o samochodzie z listy samochodów zdefiniowanej w obiekcie `DataProvider`. Dane o samochodzie są przekazywane do adaptera `TimeLineAdapter` wraz z kontekstem aplikacji. Adapter jest ustawiany na element `RecyclerView` za pomocą funkcji `swapAdapter`, która wymienia aktualny adapter na nowy.\n",
    "\n",
    "Podsumowując, na podstawie pozycji wybranej przez użytkownika, dane o samochodzie są przekazywane do adaptera `TimeLineAdapter`, a następnie adapter jest ustawiany na elemencie `RecyclerView`."
   ]
  },
  {
   "cell_type": "markdown",
   "id": "7c377232-aaa1-46f6-a293-b7e8afc412ad",
   "metadata": {},
   "source": [
    "Pełna funkcja"
   ]
  },
  {
   "cell_type": "code",
   "execution_count": null,
   "id": "ff58735e-4755-4479-8f6b-02e102370fce",
   "metadata": {},
   "outputs": [],
   "source": [
    "private fun setupDropDownSelector(recycler: RecyclerView) {\n",
    "    binding.autoCompleteTextView.apply {\n",
    "\n",
    "        setText(DataProvider.cars[0].name)\n",
    "\n",
    "        setAdapter(\n",
    "            ArrayAdapter(\n",
    "                requireContext(),\n",
    "                R.layout.dropdown_item,\n",
    "                DataProvider.cars.map { it.name })\n",
    "        )\n",
    "\n",
    "        onItemClickListener =\n",
    "            AdapterView.OnItemClickListener { _, _, position, _ ->\n",
    "                recycler.swapAdapter(\n",
    "                    TimeLineAdapter(\n",
    "                        DataProvider.cars[position].costs,\n",
    "                        requireContext()\n",
    "                    ), true\n",
    "                )\n",
    "            }\n",
    "    }\n",
    "}"
   ]
  },
  {
   "cell_type": "markdown",
   "id": "97b8ad2a-683f-4aed-ae1a-d48c326fe70c",
   "metadata": {},
   "source": [
    "W metodzie `onCreatreView` wywołujemy metodę konfigurującą `autoCompleteTextView` i przekazujemy do niej instancję `RecyclerView`"
   ]
  },
  {
   "cell_type": "code",
   "execution_count": null,
   "id": "19d29b1f-ae37-4055-8f6b-95879552399d",
   "metadata": {},
   "outputs": [],
   "source": [
    "override fun onCreateView(\n",
    "    inflater: LayoutInflater, container: ViewGroup?,\n",
    "    savedInstanceState: Bundle?\n",
    "): View {\n",
    "    binding = FragmentTimeLineBinding.inflate(inflater)\n",
    "\n",
    "    val recycler = setupRecyclerView()\n",
    "\n",
    "    setupDropDownSelector(recycler)\n",
    "\n",
    "    return binding.root\n",
    "}"
   ]
  },
  {
   "cell_type": "markdown",
   "id": "f3b4adde-2bba-42d5-8542-94ec284b9715",
   "metadata": {},
   "source": [
    "Możemy przetestować aplikację"
   ]
  },
  {
   "cell_type": "markdown",
   "id": "474903a6-4473-44ad-ab86-6dc41680ff14",
   "metadata": {},
   "source": [
    "<img src=\"https://media1.giphy.com/media/v1.Y2lkPTc5MGI3NjExYzAzYTQ3YTM1ZmU4N2YwMzEyNTk1N2FhZTJiNjkwYzdjNTE5YmY1NyZjdD1n/216FkBMSottM4STnEt/giphy.gif\" width=\"200\" />"
   ]
  },
  {
   "cell_type": "markdown",
   "id": "de40cfcf-41c0-4f4b-a511-778b81870746",
   "metadata": {},
   "source": [
    "Możemy zauważyć, że przechodząc między fragmentami, `RecyclerView` powraca do wyświewtlania listy dla pierwszego elementu, `AutoCompleteTextView` wyświetla tylko aktualny element - ten typ problemu nie będzie występował w późniejszych aplikacjach, gdzie zaczniemy wykorzystywać większą ilość wzorców projektowych."
   ]
  },
  {
   "cell_type": "markdown",
   "id": "1b199bba-7d3c-4fca-b6f3-d6cf61eed34f",
   "metadata": {},
   "source": [
    "<img src=\"https://media2.giphy.com/media/v1.Y2lkPTc5MGI3NjExNWJjNTg4YWQ1NDAyMDA3YjUzYzQ4ZmQ0ODY3NzA2MWM1NDE2YTg5NCZjdD1n/7glBdDuDccXkcpIl3O/giphy.gif\" width=\"200\" />"
   ]
  },
  {
   "cell_type": "markdown",
   "id": "4284ef7d-72d1-4af6-8e3d-10069d01278e",
   "metadata": {},
   "source": [
    "Na potrzeby tej aplikacji, zmodyfikujmy nieco kod. Będziemy potrzebować dostęp do `RecyclerView` poza metodą `onCreateView`, więc dodajmy odpowiednie pole."
   ]
  },
  {
   "cell_type": "code",
   "execution_count": null,
   "id": "54f443e4-e02c-4343-a8af-1679b9eef4ba",
   "metadata": {},
   "outputs": [],
   "source": [
    "private val recycler by lazy { setupRecyclerView() }"
   ]
  },
  {
   "cell_type": "markdown",
   "id": "58184619-0483-4641-b596-fccacda8efc7",
   "metadata": {},
   "source": [
    "Ponieważ lista jest automatycznie przestawiana na wyświetlanie pierwszego elementu (adapter ustawiamy tylko w `onItemClickListener`), wiec dodajmy metodę pomocniczą."
   ]
  },
  {
   "cell_type": "code",
   "execution_count": null,
   "id": "22a56527-f0f1-4cf9-a4fa-eaaa0099752c",
   "metadata": {},
   "outputs": [],
   "source": [
    "private fun setCurrentAdapter(\n",
    "    recycler: RecyclerView,\n",
    "    position: Int\n",
    ") {\n",
    "    recycler.swapAdapter(\n",
    "        TimeLineAdapter(\n",
    "            DataProvider.cars[position].costs,\n",
    "            requireContext()\n",
    "        ), true\n",
    "    )\n",
    "}"
   ]
  },
  {
   "cell_type": "markdown",
   "id": "17ce26bd-a90a-40b6-8bb1-3da61c9adb3a",
   "metadata": {},
   "source": [
    "W metodzie `setupDropDownSelector` teraz w pierwszym kroku sprawdzimy czy tekst w polu `AutoCompleteTextView` jest pusty, jeżeli jest, ustawiamy wartość pierwszego elementu listy."
   ]
  },
  {
   "cell_type": "code",
   "execution_count": null,
   "id": "74348786-2dd9-41bb-a2c1-0cc515af92b4",
   "metadata": {},
   "outputs": [],
   "source": [
    "if (text.toString().isEmpty())\n",
    "    setText(DataProvider.cars[0].name)"
   ]
  },
  {
   "cell_type": "markdown",
   "id": "a37e2078-8cec-4a9f-9aca-ad8d3eb9d76f",
   "metadata": {},
   "source": [
    "Następnie, na podstawie tej nazwy, ustawiamy odpowiedni adapter"
   ]
  },
  {
   "cell_type": "code",
   "execution_count": null,
   "id": "9f463027-e16d-4670-abb3-9b0b5236a46e",
   "metadata": {},
   "outputs": [],
   "source": [
    "val itemPosition = DataProvider.cars.indexOfFirst { it.name == binding.autoCompleteTextView.text.toString() }\n",
    "setCurrentAdapter(recycler, itemPosition)"
   ]
  },
  {
   "cell_type": "markdown",
   "id": "02da2ae8-cb87-4bed-9d18-80ff729228f6",
   "metadata": {},
   "source": [
    "Ustawimy adapter dla rozwijanej listy."
   ]
  },
  {
   "cell_type": "code",
   "execution_count": null,
   "id": "26b8d0d8-00f0-4841-86dc-c97b2c1a9c97",
   "metadata": {},
   "outputs": [],
   "source": [
    "setupAutoCompleteAdapter(this)"
   ]
  },
  {
   "cell_type": "code",
   "execution_count": null,
   "id": "2e92b759-76a7-4e37-8deb-2835a278a2e5",
   "metadata": {},
   "outputs": [],
   "source": [
    "private fun setupAutoCompleteAdapter(autoCompleteTextView: AutoCompleteTextView) {\n",
    "    autoCompleteTextView.setAdapter(\n",
    "        ArrayAdapter(\n",
    "            requireContext(),\n",
    "            R.layout.dropdown_item,\n",
    "            DataProvider.cars.map { it.name })\n",
    "    )\n",
    "}"
   ]
  },
  {
   "cell_type": "markdown",
   "id": "b9252f88-e3cb-4ecb-8f74-631eea1d6460",
   "metadata": {},
   "source": [
    "Ostatnim elementem będzie ustawienie `OnItemClickListener`"
   ]
  },
  {
   "cell_type": "code",
   "execution_count": null,
   "id": "de8e48b4-e79d-4ce3-88bd-fd1756a62398",
   "metadata": {},
   "outputs": [],
   "source": [
    "onItemClickListener =\n",
    "    AdapterView.OnItemClickListener { _, _, position, _ ->\n",
    "        setCurrentAdapter(recycler, position)\n",
    "    }"
   ]
  },
  {
   "cell_type": "markdown",
   "id": "4f6da9ac-d6ff-4acd-a7fe-6606ec2d1e82",
   "metadata": {},
   "source": [
    "Ze względu na specyfikę cyklu życia fragmentu, pozostawiamy `onViewCreated` tylko z konfiguracją `binding`, metody konfigurujące elementy ui wywołujemy w metodzie `onResume`"
   ]
  },
  {
   "cell_type": "code",
   "execution_count": null,
   "id": "73f55a31-8d3a-4820-9cf5-72a7c3fcfca1",
   "metadata": {},
   "outputs": [],
   "source": [
    "override fun onCreateView(\n",
    "    inflater: LayoutInflater, container: ViewGroup?,\n",
    "    savedInstanceState: Bundle?\n",
    "): View {\n",
    "    binding = FragmentTimeLineBinding.inflate(inflater)\n",
    "\n",
    "    return binding.root\n",
    "}\n",
    "\n",
    "override fun onResume() {\n",
    "    super.onResume()\n",
    "    setupAutoCompleteAdapter(binding.autoCompleteTextView)\n",
    "\n",
    "    setupDropDownSelector(recycler)\n",
    "}"
   ]
  },
  {
   "cell_type": "markdown",
   "id": "31fda4a2-556e-41b4-82a3-f24eac5df319",
   "metadata": {},
   "source": [
    "Wywołanie tych metod w `onResume` zapewnia, że wszelkie zależności danych są już dostępne w momencie wywołania tych metod, a wszelkie komponenty interfejsu użytkownika, które wymagają odświeżenia lub ponownej inicjalizacji, są odpowiednio aktualizowane, gdy użytkownik wraca do fragmentu."
   ]
  },
  {
   "cell_type": "markdown",
   "id": "ba5d87aa-91d3-41b9-8851-52b763105e74",
   "metadata": {},
   "source": [
    "<img src=\"https://media0.giphy.com/media/v1.Y2lkPTc5MGI3NjExMGU1NWUwMjQyYjFiZWI1NWNkNGY0MjhhZDBmMWJkZGMzNzYzY2QwYiZjdD1n/uX6wAShD6xEsU57q3h/giphy.gif\" width=\"200\" />"
   ]
  },
  {
   "cell_type": "markdown",
   "id": "4b27cf06-3836-4341-8e44-febab80be02c",
   "metadata": {},
   "source": [
    "Zmieńmy nieco wygląd aplikacji - usuńmy plik `themes.xml(night)`. W pliku `colors.xml` zdefiniujmy kilka kolorów"
   ]
  },
  {
   "cell_type": "code",
   "execution_count": null,
   "id": "634ee686-65e6-4de9-a794-7189ac762acc",
   "metadata": {},
   "outputs": [],
   "source": [
    "<?xml version=\"1.0\" encoding=\"utf-8\"?>\n",
    "<resources>\n",
    "    <color name=\"purple_200\">#FFBB86FC</color>\n",
    "    <color name=\"purple_500\">#FF6200EE</color>\n",
    "    <color name=\"purple_700\">#FF3700B3</color>\n",
    "    <color name=\"teal_200\">#FF03DAC5</color>\n",
    "    <color name=\"teal_700\">#FF018786</color>\n",
    "    <color name=\"black\">#FF000000</color>\n",
    "    <color name=\"white\">#FFFFFFFF</color>\n",
    "    <color name=\"mtrl_textinput_default_box_stroke_color\">#fff</color>\n",
    "    <color name=\"green_500\">#FF1EB980</color>\n",
    "    <color name=\"dark_blue_900\">#FF26282F</color>\n",
    "    <color name=\"dark_blue_500\">#FF004940</color>\n",
    "</resources>"
   ]
  },
  {
   "cell_type": "markdown",
   "id": "256dca99-7850-4fa1-8d6a-b35e5552a0b9",
   "metadata": {},
   "source": [
    "Następnie zmodyfikujmy plik `themes.xml`"
   ]
  },
  {
   "cell_type": "code",
   "execution_count": null,
   "id": "98906058-2f05-42cd-9fa5-77830ee8104d",
   "metadata": {},
   "outputs": [],
   "source": [
    "<resources xmlns:tools=\"http://schemas.android.com/tools\">\n",
    "    <!-- Base application theme. -->\n",
    "    <style name=\"Theme.CarsyKotlin\" parent=\"Theme.MaterialComponents.DayNight.NoActionBar\">\n",
    "        <!-- Primary brand color. -->\n",
    "        <item name=\"colorPrimary\">@color/dark_blue_500</item>\n",
    "        <item name=\"colorPrimaryVariant\">@color/dark_blue_900</item>\n",
    "        <item name=\"colorOnPrimary\">@color/teal_700</item>\n",
    "        <!-- Secondary brand color. -->\n",
    "        <item name=\"colorSecondary\">@color/teal_700</item>\n",
    "        <item name=\"colorSecondaryVariant\">@color/teal_200</item>\n",
    "        <item name=\"colorOnSecondary\">@color/white</item>\n",
    "        <item name=\"android:itemBackground\">@color/dark_blue_900</item>\n",
    "        <!-- Status bar color. -->\n",
    "        <item name=\"android:statusBarColor\" tools:targetApi=\"l\">?attr/colorPrimaryVariant</item>\n",
    "        <!-- Customize your theme here. -->\n",
    "    </style>\n",
    "\n",
    "    <style name=\"editText\" parent=\"Widget.MaterialComponents.TextInputLayout.OutlinedBox.Dense\">\n",
    "        <item name=\"boxStrokeColor\">@color/teal_200</item>\n",
    "        <item name=\"boxStrokeWidth\">2dp</item>\n",
    "    </style>\n",
    "</resources>"
   ]
  },
  {
   "cell_type": "markdown",
   "id": "4f67d513-3f7c-4363-9152-297b8f6e7bcc",
   "metadata": {},
   "source": [
    "Dodajmy ikony do nawigacji dolnej"
   ]
  },
  {
   "cell_type": "code",
   "execution_count": null,
   "id": "403ae2db-1b8d-431c-94bd-6dd52c27b188",
   "metadata": {},
   "outputs": [],
   "source": [
    "<?xml version=\"1.0\" encoding=\"utf-8\"?>\n",
    "<menu xmlns:android=\"http://schemas.android.com/apk/res/android\">\n",
    "    <item\n",
    "        android:id=\"@id/overviewFragment\"\n",
    "        android:title=\"@string/overview\"\n",
    "        android:icon=\"@drawable/ic_overview\"/>\n",
    "    <item\n",
    "        android:id=\"@id/timeLineFragment\"\n",
    "        android:title=\"@string/time_line\"\n",
    "        android:icon=\"@drawable/ic_timeline\"/>\n",
    "\n",
    "    <item\n",
    "        android:id=\"@id/calculatorsFragment\"\n",
    "        android:title=\"@string/calculators\"\n",
    "        android:icon=\"@drawable/ic_calculate\"/>\n",
    "</menu>"
   ]
  },
  {
   "cell_type": "markdown",
   "id": "1441e437-0db3-4249-b0a7-53a3eaef8aff",
   "metadata": {},
   "source": [
    "Przejdźmy do layoutu głównej aktywności i zmodyfikujmy kolorystykę `BottomNavigationView`"
   ]
  },
  {
   "cell_type": "code",
   "execution_count": null,
   "id": "39a3156c-4c6f-465a-9c2a-812eb840d490",
   "metadata": {},
   "outputs": [],
   "source": [
    "<com.google.android.material.bottomnavigation.BottomNavigationView\n",
    "    android:id=\"@+id/bottom_nav_view\"\n",
    "    android:layout_width=\"match_parent\"\n",
    "    android:layout_height=\"wrap_content\"\n",
    "    android:background=\"@color/dark_blue_900\"\n",
    "    app:itemIconTint=\"@drawable/bottom_navigation_highlight\"\n",
    "    app:itemTextColor=\"@drawable/bottom_navigation_highlight\"\n",
    "    app:menu=\"@menu/bottom_menu\" />"
   ]
  },
  {
   "cell_type": "markdown",
   "id": "f432bca1-3fee-4a8f-8d97-bdff2c7cead3",
   "metadata": {},
   "source": [
    "Pozbywamy się w ten sposób domyślnych ustawień dla podświetlenie zaznaczonej ikony oraz tekstu, więc zdefiniujmy własny w pliku `bottom_navigation_highlight.xml` (katalog `drawable`)"
   ]
  },
  {
   "cell_type": "code",
   "execution_count": null,
   "id": "26ad21d8-c935-42e8-9e60-3d403feb09d0",
   "metadata": {},
   "outputs": [],
   "source": [
    "<?xml version=\"1.0\" encoding=\"utf-8\"?>\n",
    "<selector xmlns:android=\"http://schemas.android.com/apk/res/android\">\n",
    "    <item android:state_checked=\"true\" android:color=\"@color/teal_200\" />\n",
    "    <item android:state_checked=\"false\" android:color=\"@color/teal_700\"/>\n",
    "</selector>"
   ]
  },
  {
   "cell_type": "markdown",
   "id": "089cf36b-7789-4e7c-acc2-720b71a9d13d",
   "metadata": {},
   "source": [
    "<img src=\"https://media0.giphy.com/media/v1.Y2lkPTc5MGI3NjExNjE5YjNjNzQ5ZTI4NjA4ZjUwYjU5Y2U1OTJiMWI3ZTcwZjFjMzk2YyZjdD1n/8cewjfu93SOFmg8FBF/giphy.gif\" width=\"200\" />"
   ]
  },
  {
   "cell_type": "markdown",
   "id": "16241ebc-99e8-4e17-8e7f-fb8d05f9c098",
   "metadata": {},
   "source": [
    "### **CalculatorsFragment**"
   ]
  },
  {
   "cell_type": "markdown",
   "id": "96939cb5-d2c0-4bfc-aaa3-812e7b1d136e",
   "metadata": {},
   "source": [
    "Dodamy możliwość skorzystania z trzech kalkulatorów pozwalających obliczyć podstawowe parametry na podstawie informacji o paliwie, spalaniu, cenie i dystansie. Kalkulatory będą współdzielić layout, zmianę będziemy dokonywać jak w `TimeLineFragment`.\n",
    "\n",
    "Będziemy posługiwać się liczbami zmiennoprzecinkowymi, więc dodajmy zaokrąglenie do dwóch miejsc. W pliku `Formatter` dodajemy"
   ]
  },
  {
   "cell_type": "code",
   "execution_count": null,
   "id": "4ddf13fb-dc4a-4e54-9549-d3670f7e87a6",
   "metadata": {},
   "outputs": [],
   "source": [
    "val decimalFormat = DecimalFormat(\"###,###.##\")"
   ]
  },
  {
   "cell_type": "markdown",
   "id": "a70442ec-16fb-444e-9dc1-f821f0923a8a",
   "metadata": {},
   "source": [
    "Przygotujmy layout z formularzem oraz spinnerem"
   ]
  },
  {
   "cell_type": "code",
   "execution_count": null,
   "id": "c4d361d6-74a9-46d8-abd4-c3c91b67f054",
   "metadata": {},
   "outputs": [],
   "source": [
    "<?xml version=\"1.0\" encoding=\"utf-8\"?>\n",
    "<LinearLayout xmlns:android=\"http://schemas.android.com/apk/res/android\"\n",
    "    xmlns:tools=\"http://schemas.android.com/tools\"\n",
    "    android:layout_width=\"match_parent\"\n",
    "    android:layout_height=\"match_parent\"\n",
    "    xmlns:app=\"http://schemas.android.com/apk/res-auto\"\n",
    "    android:orientation=\"vertical\"\n",
    "    android:background=\"@color/dark_blue_900\">\n",
    "\n",
    "    <com.google.android.material.textfield.TextInputLayout\n",
    "        style=\"@style/Widget.MaterialComponents.TextInputLayout.OutlinedBox.ExposedDropdownMenu\"\n",
    "        android:layout_width=\"match_parent\"\n",
    "        android:layout_height=\"wrap_content\"\n",
    "        android:layout_marginStart=\"16dp\"\n",
    "        android:layout_marginEnd=\"16dp\">\n",
    "\n",
    "        <AutoCompleteTextView\n",
    "            android:id=\"@+id/autoCompleteTextView\"\n",
    "            android:layout_width=\"match_parent\"\n",
    "            android:layout_height=\"match_parent\"\n",
    "            android:layout_weight=\"1\"\n",
    "            android:textAlignment=\"center\"\n",
    "            android:inputType=\"none\"\n",
    "            android:text=\"\"\n",
    "            android:textSize=\"24sp\"\n",
    "            android:textColor=\"@color/purple_200\"/>\n",
    "    </com.google.android.material.textfield.TextInputLayout>\n",
    "\n",
    "    <androidx.cardview.widget.CardView\n",
    "        android:layout_width=\"match_parent\"\n",
    "        android:layout_height=\"wrap_content\"\n",
    "        android:layout_marginStart=\"10dp\"\n",
    "        android:layout_marginTop=\"20dp\"\n",
    "        android:layout_marginEnd=\"10dp\"\n",
    "        android:backgroundTint=\"?attr/colorPrimary\"\n",
    "        android:outlineProvider=\"background\"\n",
    "        app:cardCornerRadius=\"35dp\">\n",
    "\n",
    "        <LinearLayout\n",
    "            android:layout_width=\"match_parent\"\n",
    "            android:layout_height=\"match_parent\"\n",
    "            android:layout_marginTop=\"20dp\"\n",
    "            android:orientation=\"vertical\">\n",
    "\n",
    "            <com.google.android.material.textfield.TextInputLayout\n",
    "                android:id=\"@+id/editInputLayout1\"\n",
    "                style=\"@style/Widget.MaterialComponents.TextInputLayout.OutlinedBox\"\n",
    "                android:layout_width=\"match_parent\"\n",
    "                android:layout_height=\"wrap_content\"\n",
    "                android:hint=\"@string/odleg_o\"\n",
    "                app:boxStrokeColor=\"@color/teal_200\"\n",
    "                android:theme=\"@style/editText\"\n",
    "                app:hintTextColor=\"@color/teal_200\"\n",
    "                android:textColorHint=\"@color/teal_200\">\n",
    "\n",
    "                <com.google.android.material.textfield.TextInputEditText\n",
    "                    android:id=\"@+id/editText1\"\n",
    "                    android:layout_width=\"match_parent\"\n",
    "                    android:layout_height=\"wrap_content\"\n",
    "                    android:layout_marginStart=\"50dp\"\n",
    "                    android:layout_marginTop=\"20dp\"\n",
    "                    android:layout_marginEnd=\"50dp\"\n",
    "                    android:gravity=\"center\"\n",
    "                    android:textColor=\"@color/teal_200\"\n",
    "                    android:textSize=\"18sp\"\n",
    "                    android:textColorHighlight=\"@color/teal_200\"\n",
    "                    android:inputType=\"number\" />\n",
    "            </com.google.android.material.textfield.TextInputLayout>\n",
    "\n",
    "            <com.google.android.material.textfield.TextInputLayout\n",
    "                android:id=\"@+id/editInputLayout2\"\n",
    "                style=\"@style/Widget.MaterialComponents.TextInputLayout.OutlinedBox\"\n",
    "                android:layout_width=\"match_parent\"\n",
    "                android:layout_height=\"wrap_content\"\n",
    "                android:hint=\"@string/cena_za_litr\"\n",
    "                app:boxStrokeColor=\"@color/teal_200\"\n",
    "                android:theme=\"@style/editText\"\n",
    "                app:hintTextColor=\"@color/teal_200\"\n",
    "                android:textColorHint=\"@color/teal_200\">\n",
    "\n",
    "                <com.google.android.material.textfield.TextInputEditText\n",
    "                    android:id=\"@+id/editText2\"\n",
    "                    android:layout_width=\"match_parent\"\n",
    "                    android:layout_height=\"wrap_content\"\n",
    "                    android:layout_marginStart=\"50dp\"\n",
    "                    android:layout_marginTop=\"20dp\"\n",
    "                    android:layout_marginEnd=\"50dp\"\n",
    "                    android:gravity=\"center\"\n",
    "                    android:textColor=\"@color/teal_200\"\n",
    "                    android:textSize=\"18sp\"\n",
    "                    android:textColorHighlight=\"@color/teal_200\"\n",
    "                    android:inputType=\"numberDecimal\" />\n",
    "            </com.google.android.material.textfield.TextInputLayout>\n",
    "\n",
    "            <com.google.android.material.textfield.TextInputLayout\n",
    "                android:id=\"@+id/editInputLayout3\"\n",
    "                style=\"@style/Widget.MaterialComponents.TextInputLayout.OutlinedBox\"\n",
    "                android:layout_width=\"match_parent\"\n",
    "                android:layout_height=\"wrap_content\"\n",
    "                android:hint=\"@string/spalanie\"\n",
    "                app:boxStrokeColor=\"@color/teal_200\"\n",
    "                android:theme=\"@style/editText\"\n",
    "                app:hintTextColor=\"@color/teal_200\"\n",
    "                android:textColorHint=\"@color/teal_200\">\n",
    "\n",
    "                <com.google.android.material.textfield.TextInputEditText\n",
    "                    android:id=\"@+id/editText3\"\n",
    "                    android:layout_width=\"match_parent\"\n",
    "                    android:layout_height=\"wrap_content\"\n",
    "                    android:layout_marginStart=\"50dp\"\n",
    "                    android:layout_marginTop=\"20dp\"\n",
    "                    android:layout_marginEnd=\"50dp\"\n",
    "                    android:gravity=\"center\"\n",
    "                    android:textColor=\"@color/teal_200\"\n",
    "                    android:textSize=\"18sp\"\n",
    "                    android:textColorHighlight=\"@color/teal_200\"\n",
    "                    android:inputType=\"numberDecimal\" />\n",
    "            </com.google.android.material.textfield.TextInputLayout>\n",
    "\n",
    "            <LinearLayout\n",
    "                android:layout_width=\"match_parent\"\n",
    "                android:layout_height=\"wrap_content\"\n",
    "                android:layout_marginTop=\"40dp\"\n",
    "                android:layout_marginStart=\"15dp\"\n",
    "                android:orientation=\"horizontal\">\n",
    "\n",
    "                <com.google.android.material.textview.MaterialTextView\n",
    "                    android:id=\"@+id/textViewMainTitle\"\n",
    "                    android:layout_width=\"wrap_content\"\n",
    "                    android:layout_height=\"wrap_content\"\n",
    "                    android:textColor=\"@color/teal_200\"\n",
    "                    android:text=\"MainTitle\"\n",
    "                    android:textStyle=\"bold\"\n",
    "                    android:textSize=\"24sp\" />\n",
    "\n",
    "                <com.google.android.material.textview.MaterialTextView\n",
    "                    android:id=\"@+id/textViewMainValue\"\n",
    "                    android:layout_width=\"0dp\"\n",
    "                    android:layout_weight=\"1\"\n",
    "                    android:textAlignment=\"viewEnd\"\n",
    "                    android:layout_height=\"wrap_content\"\n",
    "                    android:textColor=\"?attr/colorOnPrimary\"\n",
    "                    android:textStyle=\"bold\"\n",
    "                    android:text=\"\"\n",
    "                    android:layout_marginEnd=\"20dp\"\n",
    "                    android:textSize=\"24sp\" />\n",
    "\n",
    "            </LinearLayout>\n",
    "            <com.google.android.material.textview.MaterialTextView\n",
    "                android:id=\"@+id/textViewBottomValue\"\n",
    "                android:layout_width=\"match_parent\"\n",
    "                android:textAlignment=\"viewEnd\"\n",
    "                android:layout_height=\"wrap_content\"\n",
    "                android:textColor=\"@color/teal_200\"\n",
    "                android:text=\"\"\n",
    "                android:layout_marginEnd=\"20dp\"\n",
    "                android:layout_marginStart=\"20dp\"\n",
    "                android:textSize=\"18sp\"\n",
    "                android:layout_marginBottom=\"20dp\"/>\n",
    "        </LinearLayout>\n",
    "    </androidx.cardview.widget.CardView>\n",
    "\n",
    "    <com.google.android.material.button.MaterialButton\n",
    "        android:id=\"@+id/calculateButton\"\n",
    "        android:layout_width=\"wrap_content\"\n",
    "        android:layout_height=\"wrap_content\"\n",
    "        android:backgroundTint=\"@android:color/holo_red_dark\"\n",
    "        android:textColor=\"@color/white\"\n",
    "        android:layout_gravity=\"end\"\n",
    "        android:textSize=\"18sp\"\n",
    "        android:layout_marginEnd=\"35dp\"\n",
    "        android:text=\"Oblicz\"/>\n",
    "\n",
    "</LinearLayout>"
   ]
  },
  {
   "cell_type": "markdown",
   "id": "41fdf5e8-33ff-4304-9a09-dd205da81958",
   "metadata": {},
   "source": [
    "Aby wykorzystać inną niż domyślna kolorystyka pól `EditText`, dodajmy do `themes.xml` własny styl"
   ]
  },
  {
   "cell_type": "code",
   "execution_count": null,
   "id": "07a9a6ab-00b1-4f28-8738-7608291306c8",
   "metadata": {},
   "outputs": [],
   "source": [
    "<style name=\"editText\" parent=\"Widget.MaterialComponents.TextInputLayout.OutlinedBox.Dense\">\n",
    "    <item name=\"boxStrokeColor\">#fff</item>\n",
    "    <item name=\"boxStrokeWidth\">2dp</item>\n",
    "</style>"
   ]
  },
  {
   "cell_type": "markdown",
   "id": "b28f184a-ab0c-427e-a2f5-43f275b9078a",
   "metadata": {},
   "source": [
    "Zwróćmy uwagę że pole `EditText` jest zastąpione przez wersję dodstępną w `Materials Design` - możemy zwrócić uwagę że w pliku `gradle` w bloku `dependencies` domyślnie mamy tą bibliotekę już dodaną"
   ]
  },
  {
   "cell_type": "code",
   "execution_count": null,
   "id": "ce230779-4a40-439b-a29e-c84eee60fae7",
   "metadata": {},
   "outputs": [],
   "source": [
    "implementation 'com.google.android.material:material:1.8.0'"
   ]
  },
  {
   "cell_type": "markdown",
   "id": "26fd1641-cd89-4e83-943f-41b394adefe1",
   "metadata": {},
   "source": [
    "Zwykłe pole `EditText` jest zastąpione przez dwa pole\n",
    "- `TextInputLayout` - zawierający podpowiedź i kilka elementów graficznych\n",
    "- `TextInputEditText` - sam `EditText`\n",
    "\n",
    "Kolejnym elementem jest modyfikacja wejścia w tych polach\n",
    "- `android:inputType=\"number\"` - liczby całkowite - zostanie wyświetlona tylko klawiatura numeryczna\n",
    "- `android:inputType=\"numberDecimal\"` - liczby zmiennoprzecinkowe\n",
    "\n",
    "Zamieszczonym przyciskiem będziemy wykonywać obliczenie."
   ]
  },
  {
   "cell_type": "markdown",
   "id": "71641ba8-aebf-4d94-9744-ce2670bdbee7",
   "metadata": {},
   "source": [
    "Musimy dodać listę kalkulatorów dla adaptera menu rozwijanego, dodajmy pole prywatne będące mapą."
   ]
  },
  {
   "cell_type": "code",
   "execution_count": null,
   "id": "5e83c444-0f03-4723-b456-b6da0e8167a2",
   "metadata": {},
   "outputs": [],
   "source": [
    "    private val calculators = mapOf(\n",
    "        0 to \"Koszt podróży\",\n",
    "        1 to \"Odległość\",\n",
    "        2 to \"Wymagane paliwo\"\n",
    "    )"
   ]
  },
  {
   "cell_type": "markdown",
   "id": "b9277d06-0e5f-4ad4-ba44-cda1998f294b",
   "metadata": {},
   "source": [
    "Ponieważ będziemy posługiwać się pozycją, mapa będzie dość użyteczna.\n",
    "\n",
    "Zaimplementujemy całą konfigurację w funkcji `setupDropDownSelector`, którą wywołamy w `onResume`"
   ]
  },
  {
   "cell_type": "code",
   "execution_count": null,
   "id": "77c0d92b-2afd-43aa-b6b1-33fd34f3c5b1",
   "metadata": {},
   "outputs": [],
   "source": [
    "override fun onResume() {\n",
    "    super.onResume()\n",
    "    setupDropDownSelector()\n",
    "}"
   ]
  },
  {
   "cell_type": "code",
   "execution_count": null,
   "id": "24141765-9e06-4685-b556-fc607f2fa11a",
   "metadata": {},
   "outputs": [],
   "source": [
    "private fun setupDropDownSelector() {\n",
    "    binding.autoCompleteTextView.apply {\n",
    "\n",
    "        setDropDownBackgroundResource(R.color.dark_blue_900)\n",
    "\n",
    "        setText(calculators[0])\n",
    "        binding.textViewMainTitle.text = calculators[0]\n",
    "\n",
    "        setAdapter(ArrayAdapter(requireContext(), R.layout.dropdown_item, calculators.values.toList()))\n",
    "        onItemClickListener = autoCompleteTextViewOnItemClickListener()\n",
    "    }\n",
    "}"
   ]
  },
  {
   "cell_type": "markdown",
   "id": "11254327-1dc6-437b-bd2a-4d7dd614e70e",
   "metadata": {},
   "source": [
    "- `setDropDownBackgroundResource(R.color.dark_blue_900)` ustawia tło rozwijanej listy, która wyświetla się podczas wpisywania tekstu w polu tekstowym z automatycznym uzupełnianiem - tutaj dodajmy, ze kolor tła elementów `TextView` ustawiony jest w pliku `dropdown_item.xml`, jednak sama lista rozwijana również posiada swoje własne tło, którego kolor chcemy zmienić\n",
    "- `setText(calculators[0])` ustawia tekst wyświetlany w polu tekstowym z automatycznym uzupełnianiem na wartość o kluczu `0` w mapie `calculators` - jest to wartość wyświetlana po przejściu na `CalculatorsFragment`\n",
    "- `binding.textViewMainTitle.text = calculators[0]` ustawia tekst wyświetlany w `textViewMainTitle` na wartość o kluczu `0` w mapie `calculators` - jest to wartość wyświetlana po przejściu na `CalculatorsFragment`\n",
    "- `setAdapter(ArrayAdapter(requireContext(), R.layout.dropdown_item, calculators.values.toList()))` ustawia adapter dla rozwijanej listy, która wyświetla się podczas wpisywania tekstu w polu tekstowym z automatycznym uzupełnianiem. Adapter jest typu `ArrayAdapter`, który konwertuje kolekcję wartości `calculators.values.toList()` na listę rozwijaną. `R.layout.dropdown_item` określa wygląd pojedynczego elementu w rozwijanej liście.\n",
    "- `onItemClickListener = autoCompleteTextViewOnItemClickListener()` ustawia słuchacza kliknięć dla rozwijanej listy. Słuchacz ten jest zdefiniowany w metodzie `autoCompleteTextViewOnItemClickListener`. Gdy użytkownik wybierze wartość z rozwijanej listy, zostanie wywołana metoda zdefiniowana w słuchaczu kliknięć."
   ]
  },
  {
   "cell_type": "code",
   "execution_count": null,
   "id": "a8b4bdbf-efb8-47da-a44c-5068af04528f",
   "metadata": {},
   "outputs": [],
   "source": [
    "private fun autoCompleteTextViewOnItemClickListener() =\n",
    "    AdapterView.OnItemClickListener { _, _, position, _ ->\n",
    "        binding.apply {\n",
    "            textViewMainTitle.text = calculators.getValue(position)\n",
    "            editInputLayout1.hint = if (position == calculators.getKeyByValue(\"Odległość\")) \"Paliwo [l]\" else \"Odległość [km]\"\n",
    "            setupCalculateButtonOnClickListener(position)\n",
    "        }\n",
    "    }"
   ]
  },
  {
   "cell_type": "markdown",
   "id": "4218d9de-161f-4d5d-836f-6f8d43f7b19f",
   "metadata": {},
   "source": [
    "Kiedy użytkownik wybiera wartość z rozwijanej listy, wywoływana jest metoda `onItemClick` słuchacza. Parametr `position` zawiera pozycję wybranej wartości na liście.\n",
    "- `binding.textViewMainTitle.text = calculators.getValue(position)` ustawia tekst wyświetlany w `textViewMainTitle` na wartość odpowiadającą wybranej pozycji na liście. Wartość ta jest pobierana z mapy `calculators` za pomocą metody `getValue(position)`.\n",
    "- `editInputLayout1.hint = if (position == calculators.getKeyByValue(\"Odległość\")) \"Paliwo [l]\" else \"Odległość [km]\"` ustawia tekst podpowiedzi dla pola wprowadzania danych `editInputLayout1` na wartość zależną od pozycji wybranej na liście. Jeśli wybrana pozycja odpowiada wartości `\"Odległość\"` w mapie `calculators`, tekst podpowiedzi jest ustawiany na `\"Paliwo [l]\"`. W przeciwnym razie tekst podpowiedzi jest ustawiany na `\"Odległość [km]\"`.\n",
    "- `setupCalculateButtonOnClickListener(position)` ustawia słuchacza kliknięć dla przycisku obliczania. Funkcja (rozszerzająca `FragmentCalculatorsBinding`) ta przekazuje pozycję wybranej wartości na liście do słuchacza kliknięć, aby mógł on dostosować swoje zachowanie odpowiednio do wybranej pozycji.\n",
    "- `getKayByValue` jest funkcją rozszerzającą `Map`, zdefiniowaną w pliku `MapUtil`, która zwraca klucz o zadanej wartości"
   ]
  },
  {
   "cell_type": "code",
   "execution_count": null,
   "id": "b67e9688-b4aa-4d84-aec7-9f06b194d80e",
   "metadata": {},
   "outputs": [],
   "source": [
    "fun <K, V> Map<K, V>.getKeyByValue(targetValue: V): K? {\n",
    "    return this.filterValues { it == targetValue }\n",
    "        .keys\n",
    "        .firstOrNull()\n",
    "}"
   ]
  },
  {
   "cell_type": "code",
   "execution_count": null,
   "id": "90471ab8-7c91-442f-8ac5-7c5ef0233fdb",
   "metadata": {},
   "outputs": [],
   "source": [
    "private fun FragmentCalculatorsBinding.setupCalculateButtonOnClickListener(\n",
    "    position: Int\n",
    ") {\n",
    "    calculateButton.setOnClickListener {\n",
    "        val input = getEditTextsData()\n",
    "\n",
    "        if (checkForEmptyEditTexts(input)) {\n",
    "            val values: Pair<String, String> = calculators(position, input)\n",
    "            textViewMainValue.text = values.first\n",
    "            textViewBottomValue.text = values.second\n",
    "        }\n",
    "    }\n",
    "}\n",
    "\n",
    "private fun checkForEmptyEditTexts(input: Triple<String, String, String>) =\n",
    "    (input.first.isNotEmpty()\n",
    "            && input.second.isNotEmpty()\n",
    "            && input.third.isNotEmpty())\n",
    "\n",
    "private fun getEditTextsData() = Triple(\n",
    "    binding.editText1.text.toString(),\n",
    "    binding.editText2.text.toString(),\n",
    "    binding.editText3.text.toString()\n",
    ")"
   ]
  },
  {
   "cell_type": "markdown",
   "id": "f850b0f5-5054-4564-b14e-36292b6ecfb2",
   "metadata": {},
   "source": [
    "Funkcja ta pobiera dane z pól wprowadzania (`EditText`) i sprawdza, czy wszystkie pola zostały wypełnione. Jeśli tak, wywołuje funkcję `calculators()` z argumentami `position` i `input`, która zwraca parę wartości i ustawia je jako tekst w odpowiednich polach (`textViewMainValue` i `textViewBottomValue`).\n",
    "- `setupCalculateButtonOnClickListener()` jest rozszerzeniem funkcji dla klasy `FragmentCalculatorsBinding`. Ta funkcja przyjmuje jeden argument `position`, który jest pozycją wybranej wartości na liście rozwijanej, używany do wywołania funkcji `calculators()`.\n",
    "- `calculateButton.setOnClickListener {}` ustawia słuchacza kliknięć dla przycisku obliczania (`calculateButton`).\n",
    "- Wewnątrz wyrażenia lambda, `getEditTextsData()` pobiera dane z pól wprowadzania (obiektów typu `EditText`) i zwraca je jako listę `List<String>`.\n",
    "- `checkForEmptyEditTexts(input)` sprawdza, czy wszystkie pola wprowadzania zostały wypełnione. Funkcja ta przyjmuje listę `String` jako argument i zwraca wartość logiczną.\n",
    "- Jeśli `checkForEmptyEditTexts(input)` zwróci `true`, to wywoływana jest funkcja `calculators(position, input)`, zwraca parę wartości (`Pair<String, String>`)\n",
    "- `textViewMainValue.text = values.first` ustawia tekst wyświetlany w `textViewMainValue` na pierwszą wartość zwróconą przez funkcję `calculators(position, input)`.\n",
    "- `textViewBottomValue.text = values.second` ustawia tekst wyświetlany w `textViewBottomValue` na drugą wartość zwróconą przez funkcję `calculators(position, input)`."
   ]
  },
  {
   "cell_type": "code",
   "execution_count": null,
   "id": "7c07afaf-4e43-41bc-bdec-b3e2552815f0",
   "metadata": {},
   "outputs": [],
   "source": [
    "private fun calculators(\n",
    "    position: Int,\n",
    "    values: Triple<String, String, String>\n",
    "): Pair<String, String> {\n",
    "    return when (position) {\n",
    "        0 -> { travelCalculator(values) }\n",
    "        1 -> { distanceCalculator(values) }\n",
    "        2 -> { fuelCalculator(values) }\n",
    "        else -> Pair(\"\", \"\")\n",
    "    }\n",
    "}\n",
    "\n",
    "private fun fuelCalculator(values: Triple<String, String, String>): Pair<String, String> {\n",
    "\n",
    "    val distance = values.first.toDouble()\n",
    "    val cost = values.second.toDouble()\n",
    "    val fuelUsage = values.third.toDouble()\n",
    "\n",
    "    val fuelCost = (distance * fuelUsage) / 100\n",
    "    val fuelAmount = fuelCost * cost\n",
    "\n",
    "    val stringMain = decimalFormat.format(fuelCost).toString()\n",
    "    val stringBottom = decimalFormat.format(fuelAmount).toString()\n",
    "\n",
    "    return Pair(\"$stringMain l\", \"$stringBottom zł\")\n",
    "}\n",
    "\n",
    "private fun distanceCalculator(values: Triple<String, String, String>): Pair<String, String> {\n",
    "\n",
    "    val fuel = values.first.toDouble()\n",
    "    val price = values.second.toDouble()\n",
    "    val fuelUsage = values.third.toDouble()\n",
    "\n",
    "    val distance = fuel * price\n",
    "    val totalCost = (100 * fuel) / fuelUsage\n",
    "\n",
    "    val stringBottom = decimalFormat.format(distance).toString()\n",
    "    val stringMain = decimalFormat.format(totalCost).toString()\n",
    "\n",
    "    return Pair(\"$stringMain km\", \"$stringBottom zł\")\n",
    "}\n",
    "\n",
    "private fun travelCalculator(values: Triple<String, String, String>): Pair<String, String> {\n",
    "\n",
    "    val distance = values.first.toDouble()\n",
    "    val price = values.second.toDouble()\n",
    "    val fuelUsage = values.third.toDouble()\n",
    "\n",
    "    val totalFuel = (fuelUsage / 100) * distance\n",
    "    val totalPrice = totalFuel * price\n",
    "\n",
    "    val stringBottom = decimalFormat.format(totalFuel).toString()\n",
    "    val stringMain = decimalFormat.format(totalPrice).toString()\n",
    "\n",
    "    return Pair(\"$stringMain zł\", \"$stringBottom l\")\n",
    "}"
   ]
  },
  {
   "cell_type": "markdown",
   "id": "c6343746-9129-4041-a3a9-f49bb47d9e6d",
   "metadata": {},
   "source": [
    "Funkcje służą do wykonywania obliczeń w zależności od pozycji wybranej z listy rozwijanej.\n",
    "- Funkcja `calculators()` przyjmuje argumenty pozycji i wartości, a następnie używa instrukcji `when` do wywołania odpowiedniej funkcji obliczeniowej w zależności od wybranej pozycji.\n",
    "- Funkcja `fuelCalculator()` oblicza koszt paliwa i ilość potrzebnego paliwa na podstawie przejechanej odległości, kosztu paliwa i średniego zużycia paliwa.\n",
    "- Funkcja `distanceCalculator()` oblicza odległość, którą można pokonać na podstawie ilości paliwa, ceny za litr paliwa i średniego zużycia paliwa, a także całkowity koszt podróży.\n",
    "- Funkcja `travelCalculator()` oblicza koszt podróży i ilość potrzebnego paliwa na podstawie przejechanej odległości, ceny za litr paliwa i średniego zużycia paliwa."
   ]
  },
  {
   "cell_type": "markdown",
   "id": "74142f00-0722-41b1-bcc2-83ce1d377487",
   "metadata": {},
   "source": [
    "Możemy przetestować aplikację"
   ]
  },
  {
   "cell_type": "markdown",
   "id": "8049849a-7043-41e1-b3c4-ad7f607a266c",
   "metadata": {},
   "source": [
    "<img src=\"https://media1.giphy.com/media/v1.Y2lkPTc5MGI3NjExYTRlYmJlY2M5M2EwNTBjNTg5YWE5NDc3YzdmYWE2Zjg3ZDc3YTllMiZjdD1n/2DibqX95pOMiXujBc5/giphy.gif\" width=\"200\" />"
   ]
  },
  {
   "cell_type": "markdown",
   "id": "8d73237b-0e51-48ca-80d2-9cd775218c7a",
   "metadata": {},
   "source": [
    "### **OverviewFragment**"
   ]
  },
  {
   "cell_type": "markdown",
   "id": "e5839cba-ef96-4e29-bb90-be7227b4c9d8",
   "metadata": {},
   "source": [
    "Do fragmentu zawierającego przegląd dodamy dwa `RecyclerView` zawierające podsumowanie wydatków oraz przegląd wszystkich samochodów. Jak również informację o całkowitych poniesionych kosztach. Rozpocznijmy od layoutu"
   ]
  },
  {
   "cell_type": "markdown",
   "id": "a9606ab1-6be8-473d-a603-5af87273aec6",
   "metadata": {},
   "source": [
    "Ponieważ nie wszystko może zostać zmieszczone na jednym ekranie naszym głównym elementem będzie `ScrollView`"
   ]
  },
  {
   "cell_type": "code",
   "execution_count": null,
   "id": "c681cf78-9c3f-4fe6-a082-e2336fe4ec72",
   "metadata": {},
   "outputs": [],
   "source": [
    "<ScrollView xmlns:android=\"http://schemas.android.com/apk/res/android\"\n",
    "    xmlns:tools=\"http://schemas.android.com/tools\"\n",
    "    android:layout_width=\"match_parent\"\n",
    "    xmlns:app=\"http://schemas.android.com/apk/res-auto\"\n",
    "    android:background=\"@color/dark_blue_900\"\n",
    "    android:layout_height=\"match_parent\">\n",
    "\n",
    "\n",
    "    <LinearLayout\n",
    "        android:layout_width=\"match_parent\"\n",
    "        android:layout_height=\"wrap_content\"\n",
    "        android:orientation=\"vertical\"\n",
    "        android:background=\"@color/dark_blue_900\"\n",
    "        tools:context=\".fragments.OverviewFragment\">\n",
    "\n",
    "<androidx.cardview.widget.CardView\n",
    "    android:layout_width=\"match_parent\"\n",
    "    android:layout_height=\"wrap_content\"\n",
    "    android:background=\"@color/dark_blue_500\"\n",
    "    android:layout_margin=\"8dp\"\n",
    "    app:cardElevation=\"10dp\"\n",
    "    app:cardCornerRadius=\"6dp\">\n",
    "    <LinearLayout\n",
    "        android:layout_width=\"match_parent\"\n",
    "        android:layout_height=\"wrap_content\"\n",
    "        android:orientation=\"vertical\"\n",
    "        android:background=\"@color/dark_blue_500\"\n",
    "        tools:context=\".fragments.OverviewFragment\">\n",
    "        <TextView\n",
    "            android:layout_width=\"match_parent\"\n",
    "            android:layout_height=\"wrap_content\"\n",
    "            android:textSize=\"24sp\"\n",
    "            android:text=\"@string/podsumowanie\"\n",
    "            android:gravity=\"center\"\n",
    "            android:textColor=\"@color/black\"\n",
    "            android:background=\"@color/mtrl_textinput_default_box_stroke_color\"\n",
    "            />\n",
    "\n",
    "        <androidx.recyclerview.widget.RecyclerView\n",
    "            android:id=\"@+id/overviewCostsRecyclerView\"\n",
    "            android:layout_width=\"match_parent\"\n",
    "            android:layout_height=\"wrap_content\"\n",
    "            android:layout_marginTop=\"12dp\" />\n",
    "    </LinearLayout>\n",
    "</androidx.cardview.widget.CardView>\n",
    "        <androidx.cardview.widget.CardView\n",
    "            android:layout_width=\"match_parent\"\n",
    "            android:layout_height=\"wrap_content\"\n",
    "            android:background=\"@color/dark_blue_500\"\n",
    "            android:layout_margin=\"8dp\"\n",
    "            app:cardElevation=\"10dp\"\n",
    "            app:cardCornerRadius=\"6dp\">\n",
    "            <LinearLayout\n",
    "                android:layout_width=\"match_parent\"\n",
    "                android:layout_height=\"wrap_content\"\n",
    "                android:orientation=\"vertical\"\n",
    "                android:background=\"@color/dark_blue_500\"\n",
    "                tools:context=\".fragments.OverviewFragment\">\n",
    "        <TextView\n",
    "            android:layout_width=\"match_parent\"\n",
    "            android:layout_height=\"wrap_content\"\n",
    "            android:textSize=\"24sp\"\n",
    "            android:text=\"@string/gara\"\n",
    "            android:background=\"@color/mtrl_textinput_default_box_stroke_color\"\n",
    "            android:gravity=\"center\"\n",
    "            android:textColor=\"@color/black\"\n",
    "            />\n",
    "\n",
    "        <androidx.recyclerview.widget.RecyclerView\n",
    "            android:id=\"@+id/overviewCarsRecyclerView\"\n",
    "            android:layout_width=\"match_parent\"\n",
    "            android:layout_height=\"wrap_content\"\n",
    "            android:layout_marginTop=\"12dp\" />\n",
    "            </LinearLayout>\n",
    "        </androidx.cardview.widget.CardView>\n",
    "\n",
    "\n",
    "\n",
    "        <androidx.cardview.widget.CardView\n",
    "            android:layout_width=\"match_parent\"\n",
    "            android:layout_height=\"wrap_content\"\n",
    "            android:background=\"@color/dark_blue_500\"\n",
    "            android:layout_margin=\"8dp\"\n",
    "            app:cardElevation=\"10dp\"\n",
    "            app:cardCornerRadius=\"6dp\">\n",
    "\n",
    "            <androidx.constraintlayout.widget.ConstraintLayout\n",
    "                android:layout_width=\"match_parent\"\n",
    "                android:layout_height=\"wrap_content\"\n",
    "                android:background=\"@color/dark_blue_500\">\n",
    "\n",
    "                <TextView\n",
    "                    android:id=\"@+id/overviewCarName\"\n",
    "                    android:layout_width=\"match_parent\"\n",
    "                    android:layout_height=\"wrap_content\"\n",
    "                    android:background=\"@color/mtrl_textinput_default_box_stroke_color\"\n",
    "                    android:gravity=\"center\"\n",
    "                    android:padding=\"4dp\"\n",
    "                    android:text=\"@string/koszty_ca_kowite\"\n",
    "                    android:textColor=\"@color/black\"\n",
    "                    android:textSize=\"24sp\"\n",
    "                    app:layout_constraintStart_toStartOf=\"parent\"\n",
    "                    app:layout_constraintTop_toTopOf=\"parent\" />\n",
    "\n",
    "                <TextView\n",
    "                    android:layout_width=\"match_parent\"\n",
    "                    android:layout_height=\"wrap_content\"\n",
    "                    android:padding=\"4dp\"\n",
    "                    android:layout_marginStart=\"24dp\"\n",
    "                    android:text=\"@string/tankowanie\"\n",
    "                    android:textColor=\"@color/teal_200\"\n",
    "                    android:textSize=\"18sp\"\n",
    "                    app:layout_constraintStart_toStartOf=\"parent\"\n",
    "                    app:layout_constraintTop_toBottomOf=\"@+id/overviewCarName\" />\n",
    "\n",
    "                <TextView\n",
    "                    android:id=\"@+id/overviewFueling\"\n",
    "                    android:layout_width=\"match_parent\"\n",
    "                    android:layout_height=\"wrap_content\"\n",
    "                    android:padding=\"4dp\"\n",
    "                    android:gravity=\"end\"\n",
    "                    android:layout_marginEnd=\"24dp\"\n",
    "                    android:text=\"1 000 000.00 zł\"\n",
    "                    android:textColor=\"@color/teal_200\"\n",
    "                    android:textSize=\"18sp\"\n",
    "                    app:layout_constraintStart_toStartOf=\"parent\"\n",
    "                    app:layout_constraintTop_toBottomOf=\"@+id/overviewCarName\" />\n",
    "\n",
    "                <TextView\n",
    "                    android:layout_width=\"match_parent\"\n",
    "                    android:layout_height=\"wrap_content\"\n",
    "                    android:padding=\"4dp\"\n",
    "                    android:layout_marginStart=\"24dp\"\n",
    "                    android:text=\"@string/serwis\"\n",
    "                    android:textColor=\"@color/teal_200\"\n",
    "                    android:textSize=\"18sp\"\n",
    "                    app:layout_constraintStart_toStartOf=\"parent\"\n",
    "                    app:layout_constraintTop_toBottomOf=\"@+id/overviewFueling\" />\n",
    "\n",
    "                <TextView\n",
    "                    android:id=\"@+id/overviewService\"\n",
    "                    android:layout_width=\"match_parent\"\n",
    "                    android:layout_height=\"wrap_content\"\n",
    "                    android:padding=\"4dp\"\n",
    "                    android:gravity=\"end\"\n",
    "                    android:layout_marginEnd=\"24dp\"\n",
    "                    android:text=\"1 000 000.00 zł\"\n",
    "                    android:textColor=\"@color/teal_200\"\n",
    "                    android:textSize=\"18sp\"\n",
    "                    app:layout_constraintStart_toStartOf=\"parent\"\n",
    "                    app:layout_constraintTop_toBottomOf=\"@+id/overviewFueling\" />\n",
    "\n",
    "                <TextView\n",
    "                    android:layout_width=\"match_parent\"\n",
    "                    android:layout_height=\"wrap_content\"\n",
    "                    android:padding=\"4dp\"\n",
    "                    android:layout_marginStart=\"24dp\"\n",
    "                    android:text=\"@string/parkowanie\"\n",
    "                    android:textColor=\"@color/teal_200\"\n",
    "                    android:textSize=\"18sp\"\n",
    "                    app:layout_constraintStart_toStartOf=\"parent\"\n",
    "                    app:layout_constraintTop_toBottomOf=\"@+id/overviewService\" />\n",
    "\n",
    "                <TextView\n",
    "                    android:id=\"@+id/overviewParking\"\n",
    "                    android:layout_width=\"match_parent\"\n",
    "                    android:layout_height=\"wrap_content\"\n",
    "                    android:padding=\"4dp\"\n",
    "                    android:gravity=\"end\"\n",
    "                    android:layout_marginEnd=\"24dp\"\n",
    "                    android:text=\"1 000 000.00 zł\"\n",
    "                    android:textColor=\"@color/teal_200\"\n",
    "                    android:textSize=\"18sp\"\n",
    "                    app:layout_constraintStart_toStartOf=\"parent\"\n",
    "                    app:layout_constraintTop_toBottomOf=\"@+id/overviewService\" />\n",
    "\n",
    "                <TextView\n",
    "                    android:layout_width=\"match_parent\"\n",
    "                    android:layout_height=\"wrap_content\"\n",
    "                    android:padding=\"4dp\"\n",
    "                    android:layout_marginStart=\"24dp\"\n",
    "                    android:text=\"@string/ubezpieczenie\"\n",
    "                    android:textColor=\"@color/teal_200\"\n",
    "                    android:textSize=\"18sp\"\n",
    "                    app:layout_constraintStart_toStartOf=\"parent\"\n",
    "                    app:layout_constraintTop_toBottomOf=\"@+id/overviewParking\" />\n",
    "\n",
    "                <TextView\n",
    "                    android:id=\"@+id/overviewInsurance\"\n",
    "                    android:layout_width=\"match_parent\"\n",
    "                    android:layout_height=\"wrap_content\"\n",
    "                    android:padding=\"4dp\"\n",
    "                    android:gravity=\"end\"\n",
    "                    android:layout_marginEnd=\"24dp\"\n",
    "                    android:text=\"1 000 000.00 zł\"\n",
    "                    android:textColor=\"@color/teal_200\"\n",
    "                    android:textSize=\"18sp\"\n",
    "                    app:layout_constraintStart_toStartOf=\"parent\"\n",
    "                    app:layout_constraintTop_toBottomOf=\"@+id/overviewParking\" />\n",
    "\n",
    "                <TextView\n",
    "                    android:layout_width=\"match_parent\"\n",
    "                    android:layout_height=\"wrap_content\"\n",
    "                    android:padding=\"4dp\"\n",
    "                    android:layout_marginStart=\"24dp\"\n",
    "                    android:text=\"@string/mandat\"\n",
    "                    android:textColor=\"@color/teal_200\"\n",
    "                    android:textSize=\"18sp\"\n",
    "                    app:layout_constraintStart_toStartOf=\"parent\"\n",
    "                    app:layout_constraintTop_toBottomOf=\"@+id/overviewInsurance\" />\n",
    "\n",
    "                <TextView\n",
    "                    android:id=\"@+id/overviewTicket\"\n",
    "                    android:layout_width=\"match_parent\"\n",
    "                    android:layout_height=\"wrap_content\"\n",
    "                    android:padding=\"4dp\"\n",
    "                    android:gravity=\"end\"\n",
    "                    android:layout_marginEnd=\"24dp\"\n",
    "                    android:text=\"1 000 000.00 zł\"\n",
    "                    android:textColor=\"@color/teal_200\"\n",
    "                    android:textSize=\"18sp\"\n",
    "                    app:layout_constraintStart_toStartOf=\"parent\"\n",
    "                    app:layout_constraintTop_toBottomOf=\"@+id/overviewInsurance\" />\n",
    "\n",
    "            </androidx.constraintlayout.widget.ConstraintLayout>\n",
    "        </androidx.cardview.widget.CardView>\n",
    "\n",
    "    </LinearLayout>\n",
    "\n",
    "</ScrollView>"
   ]
  },
  {
   "cell_type": "markdown",
   "id": "5154c817-1c19-408f-92d9-d710faa6e107",
   "metadata": {},
   "source": [
    "W następnym kroku przygotujmy layouty dla `RecyclerView`\n",
    "- przedstawiający sumaryczne koszty ze względu na kategorią poniesione dla każdego posiadanego samochodu\n",
    "- przedstawiający podstawowe informacje o posiadanych samochodach\n",
    "\n",
    "`cost_overview_item_recyclerview_.xml`"
   ]
  },
  {
   "cell_type": "code",
   "execution_count": null,
   "id": "05bc445b-b555-4277-bcfb-e083e51d5ef9",
   "metadata": {},
   "outputs": [],
   "source": [
    "<?xml version=\"1.0\" encoding=\"utf-8\"?>\n",
    "<androidx.cardview.widget.CardView xmlns:android=\"http://schemas.android.com/apk/res/android\"\n",
    "    xmlns:app=\"http://schemas.android.com/apk/res-auto\"\n",
    "    android:layout_width=\"match_parent\"\n",
    "    android:layout_height=\"wrap_content\"\n",
    "    android:layout_marginStart=\"40dp\"\n",
    "    android:layout_marginEnd=\"40dp\"\n",
    "    app:cardCornerRadius=\"45dp\">\n",
    "\n",
    "    <androidx.constraintlayout.widget.ConstraintLayout\n",
    "        android:layout_width=\"match_parent\"\n",
    "        android:layout_height=\"wrap_content\"\n",
    "        android:layout_marginStart=\"4dp\"\n",
    "        android:layout_marginEnd=\"4dp\"\n",
    "        android:background=\"@color/dark_blue_500\">\n",
    "\n",
    "        <TextView\n",
    "            android:id=\"@+id/overviewRecyclerViewCarName\"\n",
    "            android:layout_width=\"match_parent\"\n",
    "            android:layout_height=\"wrap_content\"\n",
    "            android:background=\"@color/green_500\"\n",
    "            android:gravity=\"center\"\n",
    "            android:padding=\"4dp\"\n",
    "            android:text=\"@string/car_name\"\n",
    "            android:textColor=\"@color/black\"\n",
    "            android:textSize=\"24sp\"\n",
    "            app:layout_constraintStart_toStartOf=\"parent\"\n",
    "            app:layout_constraintTop_toTopOf=\"parent\" />\n",
    "\n",
    "        <TextView\n",
    "            android:layout_width=\"match_parent\"\n",
    "            android:layout_height=\"wrap_content\"\n",
    "            android:padding=\"4dp\"\n",
    "            android:layout_marginStart=\"24dp\"\n",
    "            android:text=\"@string/tankowanie\"\n",
    "            android:textColor=\"@color/teal_200\"\n",
    "            android:textSize=\"18sp\"\n",
    "            app:layout_constraintStart_toStartOf=\"parent\"\n",
    "            app:layout_constraintTop_toBottomOf=\"@+id/overviewRecyclerViewCarName\" />\n",
    "\n",
    "        <TextView\n",
    "            android:id=\"@+id/overviewRecyclerViewFueling\"\n",
    "            android:layout_width=\"match_parent\"\n",
    "            android:layout_height=\"wrap_content\"\n",
    "            android:padding=\"4dp\"\n",
    "            android:gravity=\"end\"\n",
    "            android:layout_marginEnd=\"24dp\"\n",
    "            android:text=\"1 000 000.00 zł\"\n",
    "            android:textColor=\"@color/teal_200\"\n",
    "            android:textSize=\"18sp\"\n",
    "            app:layout_constraintStart_toStartOf=\"parent\"\n",
    "            app:layout_constraintTop_toBottomOf=\"@+id/overviewRecyclerViewCarName\" />\n",
    "\n",
    "        <TextView\n",
    "            android:layout_width=\"match_parent\"\n",
    "            android:layout_height=\"wrap_content\"\n",
    "            android:padding=\"4dp\"\n",
    "            android:layout_marginStart=\"24dp\"\n",
    "            android:text=\"@string/serwis\"\n",
    "            android:textColor=\"@color/teal_200\"\n",
    "            android:textSize=\"18sp\"\n",
    "            app:layout_constraintStart_toStartOf=\"parent\"\n",
    "            app:layout_constraintTop_toBottomOf=\"@+id/overviewRecyclerViewFueling\" />\n",
    "\n",
    "        <TextView\n",
    "            android:id=\"@+id/overviewRecyclerViewService\"\n",
    "            android:layout_width=\"match_parent\"\n",
    "            android:layout_height=\"wrap_content\"\n",
    "            android:padding=\"4dp\"\n",
    "            android:gravity=\"end\"\n",
    "            android:layout_marginEnd=\"24dp\"\n",
    "            android:text=\"1 000 000.00 zł\"\n",
    "            android:textColor=\"@color/teal_200\"\n",
    "            android:textSize=\"18sp\"\n",
    "            app:layout_constraintStart_toStartOf=\"parent\"\n",
    "            app:layout_constraintTop_toBottomOf=\"@+id/overviewRecyclerViewFueling\" />\n",
    "\n",
    "        <TextView\n",
    "            android:layout_width=\"match_parent\"\n",
    "            android:layout_height=\"wrap_content\"\n",
    "            android:padding=\"4dp\"\n",
    "            android:layout_marginStart=\"24dp\"\n",
    "            android:text=\"@string/parkowanie\"\n",
    "            android:textColor=\"@color/teal_200\"\n",
    "            android:textSize=\"18sp\"\n",
    "            app:layout_constraintStart_toStartOf=\"parent\"\n",
    "            app:layout_constraintTop_toBottomOf=\"@+id/overviewRecyclerViewService\" />\n",
    "\n",
    "        <TextView\n",
    "            android:id=\"@+id/overviewRecyclerViewParking\"\n",
    "            android:layout_width=\"match_parent\"\n",
    "            android:layout_height=\"wrap_content\"\n",
    "            android:padding=\"4dp\"\n",
    "            android:gravity=\"end\"\n",
    "            android:layout_marginEnd=\"24dp\"\n",
    "            android:text=\"1 000 000.00 zł\"\n",
    "            android:textColor=\"@color/teal_200\"\n",
    "            android:textSize=\"18sp\"\n",
    "            app:layout_constraintStart_toStartOf=\"parent\"\n",
    "            app:layout_constraintTop_toBottomOf=\"@+id/overviewRecyclerViewService\" />\n",
    "\n",
    "        <TextView\n",
    "            android:layout_width=\"match_parent\"\n",
    "            android:layout_height=\"wrap_content\"\n",
    "            android:padding=\"4dp\"\n",
    "            android:layout_marginStart=\"24dp\"\n",
    "            android:text=\"@string/ubezpieczenie\"\n",
    "            android:textColor=\"@color/teal_200\"\n",
    "            android:textSize=\"18sp\"\n",
    "            app:layout_constraintStart_toStartOf=\"parent\"\n",
    "            app:layout_constraintTop_toBottomOf=\"@+id/overviewRecyclerViewParking\" />\n",
    "\n",
    "        <TextView\n",
    "            android:id=\"@+id/overviewRecyclerViewInsurance\"\n",
    "            android:layout_width=\"match_parent\"\n",
    "            android:layout_height=\"wrap_content\"\n",
    "            android:padding=\"4dp\"\n",
    "            android:gravity=\"end\"\n",
    "            android:layout_marginEnd=\"24dp\"\n",
    "            android:text=\"1 000 000.00 zł\"\n",
    "            android:textColor=\"@color/teal_200\"\n",
    "            android:textSize=\"18sp\"\n",
    "            app:layout_constraintStart_toStartOf=\"parent\"\n",
    "            app:layout_constraintTop_toBottomOf=\"@+id/overviewRecyclerViewParking\" />\n",
    "\n",
    "        <TextView\n",
    "            android:layout_width=\"match_parent\"\n",
    "            android:layout_height=\"wrap_content\"\n",
    "            android:padding=\"4dp\"\n",
    "            android:layout_marginStart=\"24dp\"\n",
    "            android:text=\"@string/mandat\"\n",
    "            android:textColor=\"@color/teal_200\"\n",
    "            android:textSize=\"18sp\"\n",
    "            app:layout_constraintStart_toStartOf=\"parent\"\n",
    "            app:layout_constraintTop_toBottomOf=\"@+id/overviewRecyclerViewInsurance\" />\n",
    "\n",
    "        <TextView\n",
    "            android:id=\"@+id/overviewRecyclerViewTicket\"\n",
    "            android:layout_width=\"match_parent\"\n",
    "            android:layout_height=\"wrap_content\"\n",
    "            android:padding=\"4dp\"\n",
    "            android:gravity=\"end\"\n",
    "            android:layout_marginEnd=\"24dp\"\n",
    "            android:text=\"1 000 000.00 zł\"\n",
    "            android:textColor=\"@color/teal_200\"\n",
    "            android:textSize=\"18sp\"\n",
    "            app:layout_constraintStart_toStartOf=\"parent\"\n",
    "            app:layout_constraintTop_toBottomOf=\"@+id/overviewRecyclerViewInsurance\" />\n",
    "\n",
    "    </androidx.constraintlayout.widget.ConstraintLayout>\n",
    "</androidx.cardview.widget.CardView>"
   ]
  },
  {
   "cell_type": "markdown",
   "id": "735d03b4-1d4c-4b8f-8744-43c4a95450af",
   "metadata": {},
   "source": [
    "`item_recyclerview_cars_overview.xml`"
   ]
  },
  {
   "cell_type": "code",
   "execution_count": null,
   "id": "321d30a7-2a25-4915-ae46-82c8e92ab8aa",
   "metadata": {},
   "outputs": [],
   "source": [
    "<?xml version=\"1.0\" encoding=\"utf-8\"?>\n",
    "<androidx.cardview.widget.CardView xmlns:android=\"http://schemas.android.com/apk/res/android\"\n",
    "    xmlns:app=\"http://schemas.android.com/apk/res-auto\"\n",
    "    android:layout_width=\"wrap_content\"\n",
    "    android:layout_height=\"wrap_content\"\n",
    "    android:layout_marginStart=\"4dp\"\n",
    "    android:layout_marginEnd=\"4dp\"\n",
    "    app:cardCornerRadius=\"45dp\">\n",
    "\n",
    "    <androidx.constraintlayout.widget.ConstraintLayout\n",
    "        android:layout_width=\"match_parent\"\n",
    "        android:layout_height=\"wrap_content\"\n",
    "        android:layout_marginStart=\"4dp\"\n",
    "        android:layout_marginEnd=\"4dp\"\n",
    "        android:background=\"@color/dark_blue_500\">\n",
    "\n",
    "        <TextView\n",
    "            android:id=\"@+id/overviewViewPagerCarName\"\n",
    "            android:layout_width=\"200dp\"\n",
    "            android:layout_height=\"wrap_content\"\n",
    "            android:background=\"@color/green_500\"\n",
    "            android:gravity=\"center\"\n",
    "            android:padding=\"4dp\"\n",
    "            android:text=\"@string/domowy\"\n",
    "            android:textColor=\"@color/black\"\n",
    "            android:textSize=\"24sp\"\n",
    "            app:layout_constraintStart_toStartOf=\"parent\"\n",
    "            app:layout_constraintTop_toTopOf=\"parent\" />\n",
    "\n",
    "        <TextView\n",
    "            android:id=\"@+id/textView\"\n",
    "            android:layout_width=\"match_parent\"\n",
    "            android:layout_height=\"wrap_content\"\n",
    "            android:layout_marginStart=\"24dp\"\n",
    "            android:padding=\"4dp\"\n",
    "            android:text=\"@string/marka\"\n",
    "            android:textColor=\"@color/teal_200\"\n",
    "            android:textSize=\"18sp\"\n",
    "            app:layout_constraintStart_toStartOf=\"parent\"\n",
    "            app:layout_constraintTop_toBottomOf=\"@+id/overviewViewPagerCarName\" />\n",
    "\n",
    "        <TextView\n",
    "            android:id=\"@+id/overviewViewPagerBrand\"\n",
    "            android:layout_width=\"wrap_content\"\n",
    "            android:layout_height=\"wrap_content\"\n",
    "            android:layout_marginEnd=\"24dp\"\n",
    "            android:gravity=\"end\"\n",
    "            android:padding=\"4dp\"\n",
    "            android:text=\"@string/skoda\"\n",
    "            android:textColor=\"@color/teal_200\"\n",
    "            android:textSize=\"18sp\"\n",
    "            app:layout_constraintEnd_toEndOf=\"@+id/overviewViewPagerCarName\"\n",
    "            app:layout_constraintTop_toBottomOf=\"@+id/overviewViewPagerCarName\" />\n",
    "\n",
    "        <TextView\n",
    "            android:layout_width=\"match_parent\"\n",
    "            android:layout_height=\"wrap_content\"\n",
    "            android:padding=\"4dp\"\n",
    "            android:layout_marginStart=\"24dp\"\n",
    "            android:text=\"@string/model\"\n",
    "            android:textColor=\"@color/teal_200\"\n",
    "            android:textSize=\"18sp\"\n",
    "            app:layout_constraintStart_toStartOf=\"parent\"\n",
    "            app:layout_constraintTop_toBottomOf=\"@+id/overviewViewPagerBrand\" />\n",
    "\n",
    "        <TextView\n",
    "            android:id=\"@+id/overviewViewPagerModel\"\n",
    "            android:layout_width=\"match_parent\"\n",
    "            android:layout_height=\"wrap_content\"\n",
    "            android:padding=\"4dp\"\n",
    "            android:gravity=\"end\"\n",
    "            android:layout_marginEnd=\"24dp\"\n",
    "            android:text=\"@string/fabia\"\n",
    "            android:textColor=\"@color/teal_200\"\n",
    "            android:textSize=\"18sp\"\n",
    "            app:layout_constraintEnd_toEndOf=\"@+id/overviewViewPagerCarName\"\n",
    "            app:layout_constraintTop_toBottomOf=\"@+id/overviewViewPagerBrand\" />\n",
    "\n",
    "        <TextView\n",
    "            android:layout_width=\"match_parent\"\n",
    "            android:layout_height=\"wrap_content\"\n",
    "            android:padding=\"4dp\"\n",
    "            android:layout_marginStart=\"24dp\"\n",
    "            android:text=\"@string/rok\"\n",
    "            android:textColor=\"@color/teal_200\"\n",
    "            android:textSize=\"18sp\"\n",
    "            app:layout_constraintStart_toStartOf=\"parent\"\n",
    "            app:layout_constraintTop_toBottomOf=\"@+id/overviewViewPagerModel\" />\n",
    "\n",
    "        <TextView\n",
    "            android:id=\"@+id/overviewViewPagerYearOfProduction\"\n",
    "            android:layout_width=\"match_parent\"\n",
    "            android:layout_height=\"wrap_content\"\n",
    "            android:padding=\"4dp\"\n",
    "            android:gravity=\"end\"\n",
    "            android:layout_marginEnd=\"24dp\"\n",
    "            android:text=\"@string/_1999\"\n",
    "            android:textColor=\"@color/teal_200\"\n",
    "            android:textSize=\"18sp\"\n",
    "            app:layout_constraintEnd_toEndOf=\"@+id/overviewViewPagerCarName\"\n",
    "            app:layout_constraintTop_toBottomOf=\"@+id/overviewViewPagerModel\" />\n",
    "\n",
    "        <TextView\n",
    "            android:layout_width=\"match_parent\"\n",
    "            android:layout_height=\"wrap_content\"\n",
    "            android:padding=\"4dp\"\n",
    "            android:layout_marginStart=\"24dp\"\n",
    "            android:text=\"@string/suma_koszt_w\"\n",
    "            android:textColor=\"@color/teal_200\"\n",
    "            android:textSize=\"18sp\"\n",
    "            app:layout_constraintStart_toStartOf=\"parent\"\n",
    "            app:layout_constraintTop_toBottomOf=\"@+id/overviewViewPagerYearOfProduction\" />\n",
    "\n",
    "        <TextView\n",
    "            android:id=\"@+id/overviewViewPagerTotalCosts\"\n",
    "            android:layout_width=\"match_parent\"\n",
    "            android:layout_height=\"wrap_content\"\n",
    "            android:padding=\"4dp\"\n",
    "            android:gravity=\"end\"\n",
    "            android:layout_marginEnd=\"24dp\"\n",
    "            android:text=\"1 000.00 zł\"\n",
    "            android:textColor=\"@color/teal_200\"\n",
    "            android:textSize=\"18sp\"\n",
    "            app:layout_constraintEnd_toEndOf=\"@+id/overviewViewPagerCarName\"\n",
    "            app:layout_constraintTop_toBottomOf=\"@+id/overviewViewPagerYearOfProduction\" />\n",
    "\n",
    "    </androidx.constraintlayout.widget.ConstraintLayout>\n",
    "</androidx.cardview.widget.CardView>"
   ]
  },
  {
   "cell_type": "markdown",
   "id": "76e4e451-6671-4e57-98ee-7f27ae4b8b12",
   "metadata": {},
   "source": [
    "Pierwszym będzie `OverviewCarsAdapter`"
   ]
  },
  {
   "cell_type": "code",
   "execution_count": null,
   "id": "c058c5e0-d16e-4910-803b-b36eeea3ee99",
   "metadata": {},
   "outputs": [],
   "source": [
    "class OverviewCarsViewHolder(private val binding: CarsOverviewItemRecyclerviewBinding)\n",
    "    : RecyclerView.ViewHolder(binding.root) {\n",
    "\n",
    "    fun bind (item: Car){\n",
    "        binding.apply {\n",
    "            overviewViewPagerCarName.text = item.name\n",
    "            overviewViewPagerBrand.text = item.brand\n",
    "            overviewViewPagerModel.text = item.model\n",
    "            overviewViewPagerYearOfProduction.text = item.yearOfProduction.toString()\n",
    "            overviewViewPagerTotalCosts.text = decimalFormat.format(item.costs.sumOf { it.amount }).toString()\n",
    "        }\n",
    "    }\n",
    "}\n",
    "    \n",
    "class OverviewCarsAdapter : RecyclerView.Adapter<OverviewCarsViewHolder>() {\n",
    "\n",
    "    private val cars = DataProvider.cars\n",
    "\n",
    "    override fun onCreateViewHolder(parent: ViewGroup, viewType: Int) =\n",
    "        OverviewCarsViewHolder(\n",
    "            CarsOverviewItemRecyclerviewBinding.inflate(\n",
    "                LayoutInflater.from(parent.context), parent, false\n",
    "            )\n",
    "        )\n",
    "\n",
    "    override fun onBindViewHolder(holder: OverviewCarsViewHolder, position: Int) {\n",
    "        val item = cars[position]\n",
    "        holder.bind(item)\n",
    "    }\n",
    "\n",
    "    override fun getItemCount(): Int = cars.size\n",
    "}"
   ]
  },
  {
   "cell_type": "markdown",
   "id": "d456129b-b0c5-4a7c-b428-01512c287afd",
   "metadata": {},
   "source": [
    "W funkcji `bind` pole `totalCostsTextView` będzie przechowywało informację o całkowitym poniesionym koszcie, aby to obliczyć na liście `costs` wywołujemy metodę `sumOf` - jako `selector` podajemy `amount`.\n",
    "\n",
    "Przejdźmy do `OverviewCostsAdapter`, chcemy obliczyć sumę kosztów każdego typu i przekazać wynik do `TextView`. Napiszmy metodę pomocniczą w klasie `ViewHolder` zwracającą sumę kosztów o zadanym typie."
   ]
  },
  {
   "cell_type": "code",
   "execution_count": null,
   "id": "c4d17f32-fb43-4aad-94b1-626620b4e866",
   "metadata": {},
   "outputs": [],
   "source": [
    "private fun costValue(item: Car, costType: CostType) =\n",
    "    decimalFormat.format(item.costs\n",
    "        .filter { it.type == costType } // zwraca listę wszytkich kosztów o zadanym typie\n",
    "        .sumOf { it.amount }).toString() // zwraca sumę wszystkich wartości"
   ]
  },
  {
   "cell_type": "markdown",
   "id": "abe62c8b-9e2d-435e-8a10-319e7e9839ef",
   "metadata": {},
   "source": [
    "Pełna klasa adaptera:"
   ]
  },
  {
   "cell_type": "code",
   "execution_count": null,
   "id": "36d89c86-0f91-47e7-8f23-d728e587e1e2",
   "metadata": {},
   "outputs": [],
   "source": [
    "class OverviewCostsViewHolder(private val binding: CostOverviewItemRecyclerviewBinding)\n",
    "    : RecyclerView.ViewHolder(binding.root) {\n",
    "\n",
    "    fun bind (item: Car){\n",
    "        binding.apply {\n",
    "            overviewRecyclerViewCarName.text = item.name\n",
    "            overviewRecyclerViewFueling.text = costValue(item, CostType.REFUELING)\n",
    "            overviewRecyclerViewService.text = costValue(item, CostType.SERVICE)\n",
    "            overviewRecyclerViewParking.text = costValue(item, CostType.PARKING)\n",
    "            overviewRecyclerViewInsurance.text = costValue(item, CostType.INSURANCE)\n",
    "            overviewRecyclerViewTicket.text = costValue(item, CostType.TICKET)\n",
    "        }\n",
    "    }\n",
    "\n",
    "    private fun costValue(item: Car, costType: CostType) =\n",
    "        decimalFormat.format(item.costs\n",
    "            .filter { it.type == costType }\n",
    "            .sumOf { it.amount }).toString()\n",
    "}\n",
    "    \n",
    "class OverviewCostsAdapter : RecyclerView.Adapter<OverviewCostsViewHolder>() {\n",
    "\n",
    "    private val cars = DataProvider.cars\n",
    "\n",
    "    override fun onCreateViewHolder(parent: ViewGroup, viewType: Int) =\n",
    "        OverviewCostsViewHolder(\n",
    "            CostOverviewItemRecyclerviewBinding.inflate(\n",
    "                LayoutInflater.from(parent.context), parent, false\n",
    "            )\n",
    "        )\n",
    "\n",
    "    override fun onBindViewHolder(holder: OverviewCostsViewHolder, position: Int) {\n",
    "        val item = cars[position]\n",
    "        holder.bind(item)\n",
    "    }\n",
    "\n",
    "    override fun getItemCount(): Int = cars.size\n",
    "}"
   ]
  },
  {
   "cell_type": "markdown",
   "id": "faead1e4-3539-463e-bd1d-bc284a49ebe7",
   "metadata": {},
   "source": [
    "Do metody `onViewCreated` klasy `OverviewFragment` dodajemy `RecyclerView`"
   ]
  },
  {
   "cell_type": "code",
   "execution_count": null,
   "id": "98c617b3-6d0e-4aa7-8306-b79b07ae6ead",
   "metadata": {},
   "outputs": [],
   "source": [
    "override fun onViewCreated(view: View, savedInstanceState: Bundle?) {\n",
    "    super.onViewCreated(view, savedInstanceState)\n",
    "\n",
    "    setupCostsUi()\n",
    "    setupGarageUi()\n",
    "    setupTotalCostsUi()\n",
    "}"
   ]
  },
  {
   "cell_type": "markdown",
   "id": "9ccb114e-a1a4-4529-ad94-5abb13810430",
   "metadata": {},
   "source": [
    "Następnie chcemy dostać całkowitą sumę kosztów dla każdego typu (dla wszystkich samochodów), napiszmy metodę pomocniczą"
   ]
  },
  {
   "cell_type": "code",
   "execution_count": null,
   "id": "359f7f00-c32e-455d-8b24-87f640162b49",
   "metadata": {},
   "outputs": [],
   "source": [
    "private fun totalValue(costType: CostType): String {\n",
    "    return decimalFormat.format(\n",
    "        DataProvider.cars\n",
    "        .flatMap { it.costs }\n",
    "        .filter { it.type == costType }\n",
    "        .sumOf { it.amount }).toString()\n",
    "}"
   ]
  },
  {
   "cell_type": "markdown",
   "id": "a0b03209-2822-45a8-884d-d9e7eab36d72",
   "metadata": {},
   "source": [
    "Ponieważ każdy obierkt `Car` zawiera `List<Cost>`, wykonując `map` dostaniemy `List<List<Cost>>`. Będziemy sumować wszystkie koszty o zadanym typie, więc chcemy mieć jedną listę - w tym celu wykorzystujemy `flatMap`, która zwróci `List<Cost>`. Dalsze krokie są takie same jak poprzednio - wykonujemy `filter` aby dostać listę wszystkich kosztów ze względu na zadany typ, następnie `sumOf` zwraca sumę wszystkich wartości (`amount`)."
   ]
  },
  {
   "cell_type": "code",
   "execution_count": null,
   "id": "bf32ac80-305d-44e8-88ce-f93cb859f3ad",
   "metadata": {},
   "outputs": [],
   "source": [
    "private fun setupCostsUi() {\n",
    "    binding.overviewCostsRecyclerView.apply {\n",
    "        layoutManager = LinearLayoutManager(requireContext(), LinearLayoutManager.HORIZONTAL, false)\n",
    "        adapter = OverviewCostsAdapter()\n",
    "    }\n",
    "}\n",
    "\n",
    "private fun setupGarageUi() {\n",
    "    binding.overviewCarsRecyclerView.apply {\n",
    "        layoutManager = LinearLayoutManager(requireContext(), LinearLayoutManager.HORIZONTAL, false)\n",
    "        adapter = OverviewCarsAdapter()\n",
    "    }\n",
    "}\n",
    "\n",
    "private fun setupTotalCostsUi() {\n",
    "    binding.apply {\n",
    "        overviewFueling.text = totalValue(CostType.REFUELING)\n",
    "        overviewService.text = totalValue(CostType.SERVICE)\n",
    "        overviewParking.text = totalValue(CostType.PARKING)\n",
    "        overviewInsurance.text = totalValue(CostType.INSURANCE)\n",
    "        overviewTicket.text = totalValue(CostType.TICKET)\n",
    "    }\n",
    "}"
   ]
  },
  {
   "cell_type": "markdown",
   "id": "3a1352e8-e39b-4aec-9395-ee7f738709f7",
   "metadata": {},
   "source": [
    "Powiększmy nieco *dummy data* i możemy przetestować aplikację"
   ]
  },
  {
   "cell_type": "markdown",
   "id": "50e4a5fa-02f9-46fb-935f-5bb3fc243bf2",
   "metadata": {},
   "source": [
    "<table><tr><td><img src=\"https://media1.giphy.com/media/v1.Y2lkPTc5MGI3NjExZmY3OWQ4YTA1MmYyZTJjMDMyZWUzYWYyMzU2ODQwZmE2ZDk0NjRkOCZjdD1n/yKdJs01bzZJUnOPxiD/giphy.gif\" width=\"150\" /></td><td><img src=\"https://media4.giphy.com/media/v1.Y2lkPTc5MGI3NjExZTYzZGIxZjZhZDI4NmM5YmMzNDgwZjhlNTRhNjE5NDBkNTNkMzUyMiZjdD1n/FRXszb4lA5unP6j0v6/giphy.gif\" width=\"150\" /></td><td><img src=\"https://media1.giphy.com/media/v1.Y2lkPTc5MGI3NjExYzg5OGQwZGRjN2Q2ZWRlMWE2NjE1MzAxZjc5NmU1MjRlYjBiNjhjNSZjdD1n/cJ83NZTstXO1WpUCFU/giphy.gif\" width=\"150\" /></td></tr></table>"
   ]
  },
  {
   "cell_type": "code",
   "execution_count": null,
   "id": "604ebc86-587b-4755-b0ec-11806dffcbbd",
   "metadata": {},
   "outputs": [],
   "source": []
  }
 ],
 "metadata": {
  "kernelspec": {
   "display_name": "Kotlin",
   "language": "kotlin",
   "name": "kotlin"
  },
  "language_info": {
   "codemirror_mode": "text/x-kotlin",
   "file_extension": ".kt",
   "mimetype": "text/x-kotlin",
   "name": "kotlin",
   "nbconvert_exporter": "",
   "pygments_lexer": "kotlin",
   "version": "1.8.0-RC"
  }
 },
 "nbformat": 4,
 "nbformat_minor": 5
}
