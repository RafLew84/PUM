{
 "cells": [
  {
   "cell_type": "markdown",
   "id": "698f14f2-62f2-485d-b516-5932d8ac271f",
   "metadata": {},
   "source": [
    "# Unscramble"
   ]
  },
  {
   "cell_type": "markdown",
   "id": "ea33e7c0-1f3b-4f8e-b401-e79875a5078d",
   "metadata": {},
   "source": [
    "Unscramble wykorzystuje **DataStore**, aby zapisywać i odczytywać stan gry. Jest to mechanizm do przechowywania danych, który oferuje uproszczoną i bezpieczną alternatywę dla SharedPreferences.\n",
    "\n",
    "Aplikacja została zaimplementowana zgodnie z wzorcem **MVVM (Model-View-ViewModel)** z wykorzystaniem **repozytorium**. Wzorzec ten pomaga oddzielić logikę biznesową od warstwy prezentacji, co ułatwia testowanie, utrzymanie i rozwijanie aplikacji.\n",
    "\n",
    "Do zarządzania stanem aplikacji i reaktywności został użyty **StateFlow**, umożliwiając łatwą aktualizację widoków w czasie rzeczywistym w odpowiedzi na zmiany w stanie gry.\n",
    "\n",
    "Aplikacja bazuje na oficjalnym [Android Codelab](https://developer.android.com/codelabs/basic-android-kotlin-training-viewmodel#0)"
   ]
  },
  {
   "cell_type": "markdown",
   "id": "dba1eeb4-d313-4489-b9f8-d619e2826422",
   "metadata": {},
   "source": [
    "<table><tr><td><img src=\"https://media4.giphy.com/media/v1.Y2lkPTc5MGI3NjExYWwxOGlnNGQ3Mm9xOGRraHFuaXFyOXA0dXkwNWI2OGx0M2RvbndlMSZlcD12MV9pbnRlcm5hbF9naWZfYnlfaWQmY3Q9Zw/c4MVddvPAaRxrwp9JB/giphy.gif\" width=\"200\" /></td><td><img src=\"https://media2.giphy.com/media/v1.Y2lkPTc5MGI3NjExMnVzODY5dDR1a2QxdDk0MmtibWhmZXM0ZW0yc2VkcWZwd3NkaHlmZyZlcD12MV9pbnRlcm5hbF9naWZfYnlfaWQmY3Q9Zw/t3ERZ9ZxBVMeNiY1KY/giphy.gif\" width=\"200\" /></td><td><img src=\"https://media2.giphy.com/media/v1.Y2lkPTc5MGI3NjExbW8yN201Y3EzOHN6MGZsenhlMTM1ZHU0dWY5bmtkd2lvcTVybnZyZyZlcD12MV9pbnRlcm5hbF9naWZfYnlfaWQmY3Q9Zw/bCYIyjvwkKXnvrGd3n/giphy.gif\" width=\"200\" /></td></tr></table>"
   ]
  },
  {
   "cell_type": "markdown",
   "id": "4082f577-2ab0-475a-b83d-abe92f82e183",
   "metadata": {},
   "source": [
    "- Aplikacja zaimplementowana zgodnie ze wzoccem MVVM wraz z repozytorium\n",
    "- `StateFlow` został wykorzystany do łatwego zarządzania bieżącym stanem interfejsu użytkownika\n",
    "- Klasa `GameUiState` modeluje stan interfejsu użytkownika\n",
    "- Klasa `GameState` modeluje stan samej gry\n",
    "- `DataStore` został wykorzystany do zapisu i odczyta stanu gry\n",
    "- Repozytorium stanowi warstwę pomiędzy `GameStateDataStore` a `GameViewModel`, zapewniając izolację odpowiedzialności i umożliwiając łatwy dostęp do operacji na pliku `DataStore`\n",
    "\n",
    "\n",
    "Dodajmy wymagane zależności do projektu\n",
    "\n",
    "```kotlin\n",
    "    // ViewModel\n",
    "    implementation (\"androidx.lifecycle:lifecycle-viewmodel-ktx:2.6.1\")\n",
    "    //Fragment\n",
    "    implementation (\"androidx.fragment:fragment-ktx:1.6.1\")\n",
    "\n",
    "    //DataStore\n",
    "    implementation (\"androidx.datastore:datastore-preferences:1.0.0\")\n",
    "```"
   ]
  },
  {
   "cell_type": "markdown",
   "id": "96ddb961-6470-4bb6-82cc-a1477f82946d",
   "metadata": {},
   "source": [
    "Aplikacja będzie pozwalać zgadywać słowa, więc potrzebujemy listę słów do użycia."
   ]
  },
  {
   "cell_type": "code",
   "execution_count": null,
   "id": "db97b4a1-3bf4-4b05-8bdb-3be212ce1bba",
   "metadata": {},
   "outputs": [],
   "source": [
    "const val MAX_NO_OF_WORDS = 10\n",
    "const val SCORE_INCREASE = 20\n",
    "\n",
    "object DataProvider {\n",
    "    val words = listOf(\n",
    "        \"kot\", \"pies\", \"drab\", \"kawa\", \"samolot\", \"wino\", \"gracz\", \"woda\", \"dom\",\n",
    "        \"karma\", \"tanie\", \"bilet\", \"muzyk\", \"rybak\", \"chleb\", \"motyw\",\n",
    "        \"las\", \"papuga\", \"talerz\", \"stacja\", \"grupa\", \"butelka\", \"kurczak\",\n",
    "        \"okno\", \"drzewo\", \"lampa\", \"sklep\", \"kasa\", \"broda\", \"papier\", \"szafa\",\n",
    "        \"dzwon\", \"kotek\"\n",
    "    )\n",
    "}"
   ]
  },
  {
   "cell_type": "markdown",
   "id": "130bee4d-6962-499c-9766-2bbc03534aa4",
   "metadata": {},
   "source": [
    "Gra będzie składała się z próby odgadnięcia 10 słów, za każde poprawne słowo gracz otrzymuje 20 punktów. W kolejnym kroku przygotujmy klasę `GameUiState` zawierającą wszystkie informacje, które chcemy pokazać użytkownikowi."
   ]
  },
  {
   "cell_type": "code",
   "execution_count": null,
   "id": "4ec64279-cb81-4e79-b7c9-b9195dbbd042",
   "metadata": {},
   "outputs": [],
   "source": [
    "data class GameUiState(\n",
    "    val currentScrambledWord: String = \"\",\n",
    "    val currentWordCount: Int = 1,\n",
    "    val score: Int = 0,\n",
    "    val isGuessedWordWrong: Boolean = false,\n",
    "    val isGameOver: Boolean = false\n",
    ")"
   ]
  },
  {
   "cell_type": "markdown",
   "id": "e607b04e-7446-45f9-88ad-bc00977318b2",
   "metadata": {},
   "source": [
    "- `currentScrambledWord: String = \"\"` - aktualnie wyświetlane słowo\n",
    "- `currentWordCount: Int = 1` - licznik słów\n",
    "- `score: Int = 0` - wynik\n",
    "- `isGuessedWordWrong: Boolean = false` - flaga pomocnicza określająca czy użytkownik poprawni odggadł słowo\n",
    "- `isGameOver: Boolean = false` - flaga pomocnicza określająca czy gra powinna zostać zakończona"
   ]
  },
  {
   "cell_type": "markdown",
   "id": "02152716-6ea9-4d8d-8e84-57bf9ae1ebd8",
   "metadata": {},
   "source": [
    "### ViewModel"
   ]
  },
  {
   "cell_type": "markdown",
   "id": "536e5855-27c7-4daf-ba2d-39ea41184719",
   "metadata": {},
   "source": [
    "Dodajmy klasę `GameViewModel`, klasa będzie zawierała kilka metod i pól:\n",
    "\n",
    "- `uiState: StateFlow<GameUiState>` Jest to obiekt reprezentujący bieżący stan interfejsu użytkownika (UI). Składa się z obiektu typu GameUiState, który zawiera informacje o stanie gry na poziomie interfejsu użytkownika.\n",
    "- `userGuess` Jest to zmienna, która przechowuje aktualne odgadnięte słowo wprowadzone przez użytkownika.\n",
    "- `usedWords: MutableSet<String>` Jest to zbiór słów użytych w grze. Jest to wykorzystywane w celu śledzenia, które słowa już zostały wykorzystane.\n",
    "- `currentWord: String` Zmienna przechowująca aktualne słowo, które jest obecnie odgrywane w grze.\n",
    "- `saveGame()` Funkcja służąca do zapisywania stanu gry. Wywołuje funkcję `saveGameState` z repozytorium, aby zapisać bieżący stan` GameUiState`, `usedWords` oraz `currentWord`.\n",
    "- `loadGame()` Funkcja służąca do wczytywania stanu gry.\n",
    "- `resetGame()` Funkcja inicjująca grę od nowa. Czyści zbiór `usedWords` i ustawia nowe, losowe słowo jako bieżące słowo w `uiState`.\n",
    "- `updateUserGuess(guessedWord: String)` Funkcja aktualizująca odgadnięte słowo użytkownika (userGuess) na podstawie wprowadzonego przez niego słowa.\n",
    "- `checkUserGuess()` Funkcja sprawdzająca, czy odgadnięte słowo użytkownika (`userGuess`) jest poprawne. W zależności od wyniku, funkcja zwiększa wynik (`score`) i przygotowuje grę na kolejną rundę.\n",
    "- `skipWord()` Funkcja pozwalająca na pominięcie obecnego słowa i przechodzenie do następnego słowa.\n",
    "- `updateGameState(updatedScore: Int)` Funkcja, która aktualizuje stan gry (`GameUiState`). Decyduje, czy gra poinna zostać zakończona, czy też powinna przejść do kolejnej rundy.\n",
    "- `shuffleCurrentWord(word: String): String` Funkcja przetasowująca litery w podanym słowie i zwracająca przetasowane słowo jako wynik.\n",
    "- `pickRandomWordAndShuffle(): String` Funkcja wybierająca losowe słowo z dostępnych słów w `DataProvider` i przetasowująca je za pomocą `shuffleCurrentWord()`. Funkcja zapewnia, że wybrane słowo nie zostało użyte wcześniej w grze, korzystając z zbioru `usedWords`.\n",
    "\n",
    "W pierwszym kroku dodajemy instancję `GameUiState`"
   ]
  },
  {
   "cell_type": "code",
   "execution_count": null,
   "id": "7f22e8bd-9c54-4f48-bb76-a7f94e19f7b7",
   "metadata": {},
   "outputs": [],
   "source": [
    "private val _uiState = MutableStateFlow(GameUiState())\n",
    "val uiState: StateFlow<GameUiState> = _uiState.asStateFlow()"
   ]
  },
  {
   "cell_type": "markdown",
   "id": "b8002bd0-37b0-4e53-aed6-2882095571a3",
   "metadata": {},
   "source": [
    "Następnie musimy sledzić aktualnie wpisane słowo przez użytkownika."
   ]
  },
  {
   "cell_type": "code",
   "execution_count": null,
   "id": "1f4d0c83-96c2-4780-96ed-cc8bb502c11d",
   "metadata": {},
   "outputs": [],
   "source": [
    "var userGuess by mutableStateOf(\"\")\n",
    "    private set"
   ]
  },
  {
   "cell_type": "markdown",
   "id": "8314a548-6feb-4e17-99cf-c03067837dbd",
   "metadata": {},
   "source": [
    "Potrzebujemy jeszcze dwie zmienne."
   ]
  },
  {
   "cell_type": "code",
   "execution_count": null,
   "id": "e0eb86b4-f6c7-4233-be9e-55d4a9183bfd",
   "metadata": {},
   "outputs": [],
   "source": [
    "private var usedWords: MutableSet<String> = mutableSetOf()\n",
    "private lateinit var currentWord: String"
   ]
  },
  {
   "cell_type": "markdown",
   "id": "161bcd79-5ad7-4f25-90f4-5751d0fc4f10",
   "metadata": {},
   "source": [
    "`usedWords` śledzące wszystkie słowa, które zostały już wylosowane z listy dostępnej w `DataProvider`, oraz `currentWord` przechowującą aktualnie wylosowane słowo."
   ]
  },
  {
   "cell_type": "markdown",
   "id": "1b84ef04-38f5-439a-b46c-b0427f097b94",
   "metadata": {},
   "source": [
    "Dodajmy funkcję resetującą całą grę."
   ]
  },
  {
   "cell_type": "code",
   "execution_count": null,
   "id": "e6fe8e74-4835-46c1-ad34-85ea8d748b95",
   "metadata": {},
   "outputs": [],
   "source": [
    "fun resetGame() {\n",
    "    usedWords.clear()\n",
    "    _uiState.value = GameUiState(currentScrambledWord = pickRandomWordAndShuffle())\n",
    "}"
   ]
  },
  {
   "cell_type": "markdown",
   "id": "481056e5-2730-4e39-854f-b51480918aef",
   "metadata": {},
   "source": [
    "- `usedWords.clear()` - czyści zbiór wykorzystanych słów\n",
    "- `_uiState.value = GameUiState(currentScrambledWord = pickRandomWordAndShuffle())` - inicjuje `_uiState` domyślnymi wartościami, oraz losuje aktualne słowo.\n",
    "\n",
    "Wywołajmy funkcję `reset` w bloku `init`, inicjując w ten sposób grę."
   ]
  },
  {
   "cell_type": "code",
   "execution_count": null,
   "id": "21d80ca5-f842-43e1-a737-9b05118e606d",
   "metadata": {},
   "outputs": [],
   "source": [
    "init {\n",
    "    resetGame()\n",
    "}"
   ]
  },
  {
   "cell_type": "markdown",
   "id": "b666a50d-d0f6-4b79-9d2f-3cfd095ced38",
   "metadata": {},
   "source": [
    "Dodajmy funkcję `pickRandomWordAndShuffle()`, która losowo wybiera słowo z dostępnej listy oraz losowo przestawia jego litery."
   ]
  },
  {
   "cell_type": "code",
   "execution_count": null,
   "id": "96c0a614-304e-4012-920e-9d50ce029fd4",
   "metadata": {},
   "outputs": [],
   "source": [
    "private fun pickRandomWordAndShuffle(): String {\n",
    "    // Continue picking up a new random word until you get one that hasn't been used before\n",
    "    currentWord = DataProvider.words.random()\n",
    "    return if (usedWords.contains(currentWord)) {\n",
    "        pickRandomWordAndShuffle()\n",
    "    } else {\n",
    "        usedWords.add(currentWord)\n",
    "        shuffleCurrentWord(currentWord)\n",
    "    }\n",
    "}"
   ]
  },
  {
   "cell_type": "markdown",
   "id": "a3c37592-edd0-4d28-86b0-c1ed2ff17711",
   "metadata": {},
   "source": [
    "Wybieramy nowe słowo, dopóki funkcja nie zwróci wcześniej nieużytego. Po wyborze dodajemy nowe słowo do zbioru już użytych i wykonujemy wymieszanie liter."
   ]
  },
  {
   "cell_type": "code",
   "execution_count": null,
   "id": "99a5b8f1-d6cd-40aa-9ee1-1b60ce3f560c",
   "metadata": {},
   "outputs": [],
   "source": [
    "private fun shuffleCurrentWord(word: String): String {\n",
    "    val tempWord = word.toCharArray()\n",
    "    // Scramble the word\n",
    "    tempWord.shuffle()\n",
    "    while (String(tempWord) == word) {\n",
    "        tempWord.shuffle()\n",
    "    }\n",
    "    return String(tempWord)\n",
    "}"
   ]
  },
  {
   "cell_type": "markdown",
   "id": "47706c8a-b393-4477-89ee-5ac4e7f7d2f7",
   "metadata": {},
   "source": [
    "Na początku, podane słowo word jest zamieniane na tablicę znaków za pomocą metody `toCharArray()`. Dzięki temu możemy łatwo manipulować poszczególnymi literami słowa. Następnie wywołujemy funkcję `shuffle()` na tablicy. Metoda losowo przestawia elementy tablicy. Pętla `while` jest użyta, aby zapewnić, że przetasowanie słowa będzie różne od początkowego słowa.\n",
    "\n",
    "W kolejnym kroku zaimplementujmy prywatną funkcję `updateGameState`, która jest odpowiedzialna za aktualizację stanu gry. Funkcja ta decyduje, czy gra się zakończyła, czy powinna przejść do kolejnej rundy."
   ]
  },
  {
   "cell_type": "code",
   "execution_count": null,
   "id": "77b70f34-c22f-40a7-9c17-a759a060bad9",
   "metadata": {},
   "outputs": [],
   "source": [
    "private fun updateGameState(updatedScore: Int) {\n",
    "    if (usedWords.size == MAX_NO_OF_WORDS){\n",
    "        //Last round in the game, update isGameOver to true, don't pick a new word\n",
    "        _uiState.update { currentState ->\n",
    "            currentState.copy(\n",
    "                isGuessedWordWrong = false,\n",
    "                score = updatedScore,\n",
    "                isGameOver = true\n",
    "            )\n",
    "        }\n",
    "    } else{\n",
    "        // Normal round in the game\n",
    "        _uiState.update { currentState ->\n",
    "            currentState.copy(\n",
    "                isGuessedWordWrong = false,\n",
    "                currentScrambledWord = pickRandomWordAndShuffle(),\n",
    "                currentWordCount = currentState.currentWordCount.inc(),\n",
    "                score = updatedScore\n",
    "            )\n",
    "        }\n",
    "    }\n",
    "}"
   ]
  },
  {
   "cell_type": "markdown",
   "id": "9313f821-b0f3-4f59-a28b-5b595f1184d9",
   "metadata": {},
   "source": [
    "Wpierw sprawdzamy, czy liczba użytych słów jest równa maksymalnej liczbie słów dozwolonej w grze. Jeśli ten warunek jest spełniony, oznacza to, że gra osiągnęła ostatnią rundę. \n",
    "\n",
    "`_uiState` jest aktualizowany za pomocą funkcji `update`. Tworzy ona nowy stan `GameUiState`, ale z niektórymi właściwościami zmienionymi.\n",
    "\n",
    "Funkcja `update` aktualizuje wartość `MutableStateFlow` **atomowo** - wykonywane jest jako pojedyncza, niepodzielna i niezmienna operacja, oznacza to, że operacja atomowa jest wykonana w całości lub w ogóle, bez możliwości przerwania lub częściowego wykonania przez inne wątki lub procesy."
   ]
  },
  {
   "cell_type": "markdown",
   "id": "88c51257-2045-45ef-8592-6b79fa203932",
   "metadata": {},
   "source": [
    "Następnie zaimplementujmy metodę aktualizującą słowo wprowadzone przez użytkownika"
   ]
  },
  {
   "cell_type": "code",
   "execution_count": null,
   "id": "4d082b47-e251-44cc-8499-fae07cbe5eab",
   "metadata": {},
   "outputs": [],
   "source": [
    "fun updateUserGuess(guessedWord: String){\n",
    "    userGuess = guessedWord\n",
    "}"
   ]
  },
  {
   "cell_type": "markdown",
   "id": "6e5bd10f-e13d-4d5d-8095-f9e1767a213e",
   "metadata": {},
   "source": [
    "oraz metodę odpowiedzialną za sprawdzenie, czy słwowo wprowadzone przez użytkownika jest prawidłowe"
   ]
  },
  {
   "cell_type": "code",
   "execution_count": null,
   "id": "7976d704-e356-4417-b531-0716ba395104",
   "metadata": {},
   "outputs": [],
   "source": [
    "fun checkUserGuess() {\n",
    "    if (userGuess.equals(currentWord, ignoreCase = true)) {\n",
    "        // User's guess is correct, increase the score\n",
    "        // and call updateGameState() to prepare the game for next round\n",
    "        val updatedScore = _uiState.value.score.plus(SCORE_INCREASE)\n",
    "        updateGameState(updatedScore)\n",
    "    } else {\n",
    "        // User's guess is wrong, show an error\n",
    "        _uiState.update { currentState ->\n",
    "            currentState.copy(isGuessedWordWrong = true)\n",
    "        }\n",
    "    }\n",
    "    // Reset user guess\n",
    "    updateUserGuess(\"\")\n",
    "}"
   ]
  },
  {
   "cell_type": "markdown",
   "id": "069ef311-6a0f-4bc2-a18b-5482a6952edc",
   "metadata": {},
   "source": [
    "Jeżeli użytkownik podał prawidłowe słowo, aktualizujemy wynik, oraz wywołujemy funkcję `updateGameState` aby przejść do kolejnej rundy. Jeżeli wprowadzone słowo jest nieprawidłowe, zmieniamy flagę `isGuessedWordWrong` na `true`. Na konie resetujemy zmienną `userGuess`."
   ]
  },
  {
   "cell_type": "markdown",
   "id": "8969ca60-599b-4b3f-b89b-4b7181926404",
   "metadata": {},
   "source": [
    "### Zapis do pliku"
   ]
  },
  {
   "cell_type": "markdown",
   "id": "8f3c1e1e-2e2b-4879-8dea-a59079530821",
   "metadata": {},
   "source": [
    "Pozostało dodanie funkcjonalności zapisu i odczytu z pliku. Rozpocznijmy od dodania klasy `GameState`, która przechowuje wszystkie niezbędne informacje o stanie gry."
   ]
  },
  {
   "cell_type": "code",
   "execution_count": null,
   "id": "98b4b326-7713-4bd6-a1fe-8089bc56901a",
   "metadata": {},
   "outputs": [],
   "source": [
    "data class GameState (\n",
    "    val gameUiState: GameUiState,\n",
    "    val usedWords: Set<String>,\n",
    "    val currentWord: String\n",
    ")"
   ]
  },
  {
   "cell_type": "markdown",
   "id": "24d4956c-a9be-406b-9d77-15e806fb4c22",
   "metadata": {},
   "source": [
    "Następnie dodajmy klasę pomocniczą `GameStateDataStore`"
   ]
  },
  {
   "cell_type": "code",
   "execution_count": null,
   "id": "b2bd67bd-e2f1-4099-85b0-723f0bc12726",
   "metadata": {},
   "outputs": [],
   "source": [
    "object GameStateDataStore {\n",
    "\n",
    "    private val Context.dataStore: DataStore<Preferences> by preferencesDataStore(\"game_state\")\n",
    "\n",
    "    private val CURRENT_SCRAMBLED_WORD_KEY = stringPreferencesKey(\"current_scrambled_word\")\n",
    "    private val CURRENT_WORD_COUNT_KEY = intPreferencesKey(\"current_word_count\")\n",
    "    private val SCORE_KEY = intPreferencesKey(\"score\")\n",
    "    private val IS_GUESSED_WORD_WRONG_KEY = booleanPreferencesKey(\"is_guessed_word_wrong\")\n",
    "    private val IS_GAME_OVER_KEY = booleanPreferencesKey(\"is_game_over\")\n",
    "    private val USED_WORDS_KEY = stringSetPreferencesKey(\"used_words\")\n",
    "    private val CURRENT_WORD_KEY = stringPreferencesKey(\"current_word\")\n",
    "\n",
    "    suspend fun saveGameState(context: Context, gameState: GameState) {\n",
    "        context.dataStore.edit { preferences ->\n",
    "            preferences[CURRENT_SCRAMBLED_WORD_KEY] = gameState.gameUiState.currentScrambledWord\n",
    "            preferences[CURRENT_WORD_COUNT_KEY] = gameState.gameUiState.currentWordCount\n",
    "            preferences[SCORE_KEY] = gameState.gameUiState.score\n",
    "            preferences[IS_GUESSED_WORD_WRONG_KEY] = gameState.gameUiState.isGuessedWordWrong\n",
    "            preferences[IS_GAME_OVER_KEY] = gameState.gameUiState.isGameOver\n",
    "            preferences[USED_WORDS_KEY] = gameState.usedWords\n",
    "            preferences[CURRENT_WORD_KEY] = gameState.currentWord\n",
    "        }\n",
    "    }\n",
    "\n",
    "    fun loadGameState(context: Context): Flow<GameState> {\n",
    "        return context.dataStore.data\n",
    "            .catch { exception ->\n",
    "                // DataStore throws an IOException if an error is encountered when reading data\n",
    "                if (exception is IOException) {\n",
    "                    emit(emptyPreferences())\n",
    "                } else {\n",
    "                    throw exception\n",
    "                }\n",
    "            }\n",
    "            .map { preferences ->\n",
    "                val currentScrambledWord = preferences[CURRENT_SCRAMBLED_WORD_KEY] ?: \"\"\n",
    "                val currentWordCount = preferences[CURRENT_WORD_COUNT_KEY] ?: 1\n",
    "                val score = preferences[SCORE_KEY] ?: 0\n",
    "                val isGuessedWordWrong = preferences[IS_GUESSED_WORD_WRONG_KEY] ?: false\n",
    "                val isGameOver = preferences[IS_GAME_OVER_KEY] ?: false\n",
    "                val usedWordsSet = preferences[USED_WORDS_KEY] ?: emptySet()\n",
    "                val currentWord = preferences[CURRENT_WORD_KEY] ?: \"\"\n",
    "\n",
    "                GameState(\n",
    "                    GameUiState(\n",
    "                        currentScrambledWord,\n",
    "                        currentWordCount,\n",
    "                        score,\n",
    "                        isGuessedWordWrong,\n",
    "                        isGameOver\n",
    "                    ),\n",
    "                    usedWordsSet.toMutableSet(),\n",
    "                    currentWord\n",
    "                )\n",
    "            }\n",
    "    }\n",
    "}"
   ]
  },
  {
   "cell_type": "markdown",
   "id": "866e1bc2-5fec-4afa-bde3-6d0021c7879d",
   "metadata": {},
   "source": [
    "- `private val ..._KEY` Definicje kluczy, które będą używane do przechowywania poszczególnych elementów stanu gry w `DataStore`.\n",
    "- `suspend fun saveGameState(context: Context, gameState: GameState)` Funkcja do zapisywania stanu gry.\n",
    "- `fun loadGameState(context: Context): Flow<GameState>` Funkcja do wczytywania stanu gry. Zwraca obiekt typu `Flow<GameState>`, który emituje strumień wartości stanu gry."
   ]
  },
  {
   "cell_type": "markdown",
   "id": "e82f7608-521b-4402-a257-92ee2c6c3880",
   "metadata": {},
   "source": [
    "Dodajmy repozytorium."
   ]
  },
  {
   "cell_type": "code",
   "execution_count": null,
   "id": "4cb5edd8-0887-4fdd-b9c0-8907447d91fb",
   "metadata": {},
   "outputs": [],
   "source": [
    "class GameRepository(private val application: Application) {\n",
    "    fun loadGameState() = GameStateDataStore.loadGameState(application)\n",
    "    suspend fun saveGameState(state: GameState) = GameStateDataStore.saveGameState(application, state)\n",
    "}"
   ]
  },
  {
   "cell_type": "markdown",
   "id": "097bc9ec-b0ca-4c46-ab70-660705c91d92",
   "metadata": {},
   "source": [
    "Ponieważ `DataStore` wymaga kontekstu, musimy wykorzystać `AndroidViewModel`, tak jak w poprzednich przykładach."
   ]
  },
  {
   "cell_type": "markdown",
   "id": "ecab3277-e066-46e7-b573-7fa19a0b4d8e",
   "metadata": {},
   "source": [
    "Powróćmy do klasy `GameViewModel` i dodajmy metody odpowiedzialne za zapis i odczyt stanu gry."
   ]
  },
  {
   "cell_type": "code",
   "execution_count": null,
   "id": "0bd325ef-2fa9-4494-96dc-f6c331017228",
   "metadata": {},
   "outputs": [],
   "source": [
    "fun saveGame(){\n",
    "    viewModelScope.launch {\n",
    "        repository.saveGameState(GameState(\n",
    "            gameUiState = _uiState.value,\n",
    "            usedWords = usedWords,\n",
    "            currentWord = currentWord\n",
    "        ))\n",
    "    }\n",
    "}\n",
    "\n",
    "fun loadGame(){\n",
    "    viewModelScope.launch {\n",
    "        repository.loadGameState().collect{ gameState ->\n",
    "            // odczytujemy zapisany stan interfejsu użytkownika i aktualizujemy zmienną _uiState\n",
    "            _uiState.update { currentState ->\n",
    "                currentState.copy(\n",
    "                    currentScrambledWord = gameState.gameUiState.currentScrambledWord,\n",
    "                    currentWordCount = gameState.gameUiState.currentWordCount,\n",
    "                    score = gameState.gameUiState.score,\n",
    "                    isGuessedWordWrong = gameState.gameUiState.isGuessedWordWrong,\n",
    "                    isGameOver = gameState.gameUiState.isGameOver\n",
    "                )\n",
    "            }\n",
    "            \n",
    "            // odczytujemy wykorzystane w grze słowa\n",
    "            usedWords = gameState.usedWords.toMutableSet()\n",
    "            \n",
    "            // odczytujemy ostatnie wylosowane słowo\n",
    "            currentWord = gameState.currentWord\n",
    "        }\n",
    "    }\n",
    "}"
   ]
  },
  {
   "cell_type": "markdown",
   "id": "adc1d859-291d-45ea-aea6-da317e2654c3",
   "metadata": {},
   "source": [
    "Pełny kod `GameViewModel`"
   ]
  },
  {
   "cell_type": "code",
   "execution_count": null,
   "id": "6cd01a21-9f81-442c-96b9-b9653ce8d931",
   "metadata": {},
   "outputs": [],
   "source": [
    "class GameViewModel(application: Application) : AndroidViewModel(application) {\n",
    "\n",
    "    private val repository: GameRepository\n",
    "\n",
    "    // Game UI state\n",
    "    private val _uiState = MutableStateFlow(GameUiState())\n",
    "    val uiState: StateFlow<GameUiState> = _uiState.asStateFlow()\n",
    "\n",
    "    var userGuess: String = \"\"\n",
    "        private set\n",
    "\n",
    "    // Set of words used in the game\n",
    "    private var usedWords: MutableSet<String> = mutableSetOf()\n",
    "    private lateinit var currentWord: String\n",
    "\n",
    "    init {\n",
    "        repository = GameRepository(application)\n",
    "        resetGame()\n",
    "    }\n",
    "\n",
    "    fun saveGame(){\n",
    "        viewModelScope.launch {\n",
    "            repository.saveGameState(\n",
    "                GameState(\n",
    "                gameUiState = _uiState.value,\n",
    "                usedWords = usedWords,\n",
    "                currentWord = currentWord\n",
    "            )\n",
    "            )\n",
    "        }\n",
    "    }\n",
    "\n",
    "    fun loadGame(){\n",
    "        viewModelScope.launch {\n",
    "            repository.loadGameState().collect{ gameState ->\n",
    "                _uiState.update { currentState ->\n",
    "                    currentState.copy(\n",
    "                        currentScrambledWord = gameState.gameUiState.currentScrambledWord,\n",
    "                        currentWordCount = gameState.gameUiState.currentWordCount,\n",
    "                        score = gameState.gameUiState.score,\n",
    "                        isGuessedWordWrong = gameState.gameUiState.isGuessedWordWrong,\n",
    "                        isGameOver = gameState.gameUiState.isGameOver\n",
    "                    )\n",
    "                }\n",
    "                usedWords = gameState.usedWords.toMutableSet()\n",
    "                currentWord = gameState.currentWord\n",
    "            }\n",
    "        }\n",
    "    }\n",
    "\n",
    "    /*\n",
    "     * Re-initializes the game data to restart the game.\n",
    "     */\n",
    "    fun resetGame() {\n",
    "        usedWords.clear()\n",
    "        _uiState.value = GameUiState(currentScrambledWord = pickRandomWordAndShuffle())\n",
    "    }\n",
    "\n",
    "    /*\n",
    "     * Update the user's guess\n",
    "     */\n",
    "    fun updateUserGuess(guessedWord: String){\n",
    "        userGuess = guessedWord\n",
    "    }\n",
    "\n",
    "    /*\n",
    "     * Checks if the user's guess is correct.\n",
    "     * Increases the score accordingly.\n",
    "     */\n",
    "    fun checkUserGuess() {\n",
    "        if (userGuess.equals(currentWord, ignoreCase = true)) {\n",
    "            // User's guess is correct, increase the score\n",
    "            // and call updateGameState() to prepare the game for next round\n",
    "            val updatedScore = _uiState.value.score.plus(SCORE_INCREASE)\n",
    "            updateGameState(updatedScore)\n",
    "        } else {\n",
    "            // User's guess is wrong, show an error\n",
    "            _uiState.update { currentState ->\n",
    "                currentState.copy(isGuessedWordWrong = true)\n",
    "            }\n",
    "        }\n",
    "        // Reset user guess\n",
    "        updateUserGuess(\"\")\n",
    "    }\n",
    "\n",
    "    /*\n",
    "     * Skip to next word\n",
    "     */\n",
    "    fun skipWord() {\n",
    "        updateGameState(_uiState.value.score)\n",
    "        // Reset user guess\n",
    "        updateUserGuess(\"\")\n",
    "    }\n",
    "\n",
    "    /*\n",
    "     * Picks a new currentWord and currentScrambledWord and updates UiState according to\n",
    "     * current game state.\n",
    "     */\n",
    "    private fun updateGameState(updatedScore: Int) {\n",
    "        if (usedWords.size == MAX_NO_OF_WORDS){\n",
    "            //Last round in the game, update isGameOver to true, don't pick a new word\n",
    "            _uiState.update { currentState ->\n",
    "                currentState.copy(\n",
    "                    isGuessedWordWrong = false,\n",
    "                    score = updatedScore,\n",
    "                    isGameOver = true\n",
    "                )\n",
    "            }\n",
    "        } else{\n",
    "            // Normal round in the game\n",
    "            _uiState.update { currentState ->\n",
    "                currentState.copy(\n",
    "                    isGuessedWordWrong = false,\n",
    "                    currentScrambledWord = pickRandomWordAndShuffle(),\n",
    "                    currentWordCount = currentState.currentWordCount.inc(),\n",
    "                    score = updatedScore\n",
    "                )\n",
    "            }\n",
    "        }\n",
    "    }\n",
    "\n",
    "    private fun shuffleCurrentWord(word: String): String {\n",
    "        val tempWord = word.toCharArray()\n",
    "        // Scramble the word\n",
    "        tempWord.shuffle()\n",
    "        while (String(tempWord) == word) {\n",
    "            tempWord.shuffle()\n",
    "        }\n",
    "        return String(tempWord)\n",
    "    }\n",
    "\n",
    "    private fun pickRandomWordAndShuffle(): String {\n",
    "        // Continue picking up a new random word until you get one that hasn't been used before\n",
    "        currentWord = DataProvider.words.random()\n",
    "        return if (usedWords.contains(currentWord)) {\n",
    "            pickRandomWordAndShuffle()\n",
    "        } else {\n",
    "            usedWords.add(currentWord)\n",
    "            shuffleCurrentWord(currentWord)\n",
    "        }\n",
    "    }\n",
    "}"
   ]
  },
  {
   "cell_type": "markdown",
   "id": "efce82bc-6903-45c7-bf3b-f61379794fd7",
   "metadata": {},
   "source": [
    "### Interfejs użytkownika"
   ]
  },
  {
   "cell_type": "markdown",
   "id": "ff6a090b-a41a-48ca-9cd4-7505d471f903",
   "metadata": {},
   "source": [
    "Ostatnim elementem będzie utworzenie fragmentu, rozpocznijmy od layotu."
   ]
  },
  {
   "cell_type": "code",
   "execution_count": null,
   "id": "f1fafc69-67a3-47ad-a41a-7b97635b388d",
   "metadata": {},
   "outputs": [],
   "source": [
    "<?xml version=\"1.0\" encoding=\"utf-8\"?>\n",
    "<ScrollView xmlns:android=\"http://schemas.android.com/apk/res/android\"\n",
    "    xmlns:app=\"http://schemas.android.com/apk/res-auto\"\n",
    "    xmlns:tools=\"http://schemas.android.com/tools\"\n",
    "    android:layout_width=\"match_parent\"\n",
    "    android:layout_height=\"match_parent\">\n",
    "\n",
    "    <androidx.constraintlayout.widget.ConstraintLayout\n",
    "        android:layout_width=\"match_parent\"\n",
    "        android:layout_height=\"wrap_content\"\n",
    "        android:padding=\"8dp\"\n",
    "        tools:context=\".ui.game.GameFragment\">\n",
    "\n",
    "        <Button\n",
    "            android:id=\"@+id/skip\"\n",
    "            style=\"?attr/materialButtonOutlinedStyle\"\n",
    "            android:layout_width=\"0dp\"\n",
    "            android:layout_height=\"wrap_content\"\n",
    "            android:layout_marginStart=\"8dp\"\n",
    "            android:layout_marginEnd=\"8dp\"\n",
    "            android:text=\"Pomiń\"\n",
    "            app:layout_constraintBaseline_toBaselineOf=\"@+id/submit\"\n",
    "            app:layout_constraintEnd_toStartOf=\"@+id/submit\"\n",
    "            app:layout_constraintStart_toStartOf=\"parent\" />\n",
    "\n",
    "        <Button\n",
    "            android:id=\"@+id/submit\"\n",
    "            android:layout_width=\"0dp\"\n",
    "            android:layout_height=\"wrap_content\"\n",
    "            android:layout_marginTop=\"8dp\"\n",
    "            android:text=\"Sprawdź\"\n",
    "            app:layout_constraintEnd_toEndOf=\"parent\"\n",
    "            app:layout_constraintStart_toEndOf=\"@+id/skip\"\n",
    "            app:layout_constraintTop_toBottomOf=\"@+id/textField\" />\n",
    "\n",
    "        <Button\n",
    "            android:id=\"@+id/save\"\n",
    "            android:layout_width=\"0dp\"\n",
    "            android:layout_height=\"wrap_content\"\n",
    "            android:layout_margin=\"8dp\"\n",
    "            android:text=\"Zapisz\"\n",
    "            app:layout_constraintEnd_toEndOf=\"parent\"\n",
    "            app:layout_constraintStart_toStartOf=\"parent\"\n",
    "            app:layout_constraintTop_toBottomOf=\"@+id/skip\" />\n",
    "\n",
    "        <Button\n",
    "            android:id=\"@+id/load\"\n",
    "            android:layout_width=\"0dp\"\n",
    "            android:layout_height=\"wrap_content\"\n",
    "            android:layout_margin=\"8dp\"\n",
    "            android:text=\"Wczytaj\"\n",
    "            app:layout_constraintEnd_toEndOf=\"parent\"\n",
    "            app:layout_constraintStart_toStartOf=\"parent\"\n",
    "            app:layout_constraintTop_toBottomOf=\"@+id/save\" />\n",
    "\n",
    "        <TextView\n",
    "            android:id=\"@+id/textView_unscrambled_word\"\n",
    "            android:layout_width=\"wrap_content\"\n",
    "            android:layout_height=\"wrap_content\"\n",
    "            android:layout_marginTop=\"8dp\"\n",
    "            android:layout_marginBottom=\"8dp\"\n",
    "            android:text=\"Unscramble\"\n",
    "            android:textAppearance=\"@style/TextAppearance.MaterialComponents.Headline3\"\n",
    "            app:layout_constraintEnd_toEndOf=\"parent\"\n",
    "            app:layout_constraintStart_toStartOf=\"parent\"\n",
    "            app:layout_constraintTop_toBottomOf=\"@+id/title\"\n",
    "            tools:text=\"Unscramble\" />\n",
    "\n",
    "        <TextView\n",
    "            android:id=\"@+id/title\"\n",
    "            android:layout_width=\"wrap_content\"\n",
    "            android:layout_height=\"wrap_content\"\n",
    "            android:layout_marginTop=\"20dp\"\n",
    "            android:layout_marginBottom=\"8dp\"\n",
    "            android:text=\"Unscramble\"\n",
    "            android:textAppearance=\"@style/TextAppearance.MaterialComponents.Headline4\"\n",
    "            app:layout_constraintEnd_toEndOf=\"parent\"\n",
    "            app:layout_constraintStart_toStartOf=\"parent\"\n",
    "            app:layout_constraintTop_toBottomOf=\"@+id/word_count\"\n",
    "            tools:text=\"Unscramble\" />\n",
    "\n",
    "        <TextView\n",
    "            android:id=\"@+id/word_count\"\n",
    "            android:layout_width=\"wrap_content\"\n",
    "            android:layout_height=\"wrap_content\"\n",
    "            android:text=\"licnzik\"\n",
    "            android:textAppearance=\"@style/TextAppearance.MaterialComponents.Headline6\"\n",
    "            app:layout_constraintBottom_toTopOf=\"@+id/title\"\n",
    "            app:layout_constraintStart_toStartOf=\"parent\"\n",
    "            app:layout_constraintTop_toTopOf=\"parent\"\n",
    "            tools:text=\"3 of 10 words\" />\n",
    "\n",
    "        <TextView\n",
    "            android:id=\"@+id/score\"\n",
    "            android:layout_width=\"wrap_content\"\n",
    "            android:layout_height=\"wrap_content\"\n",
    "            android:text=\"Wynik\"\n",
    "            android:textAllCaps=\"true\"\n",
    "            android:textAppearance=\"@style/TextAppearance.MaterialComponents.Headline6\"\n",
    "            app:layout_constraintEnd_toEndOf=\"parent\"\n",
    "            app:layout_constraintTop_toTopOf=\"parent\"\n",
    "            tools:text=\"Score: 20\" />\n",
    "\n",
    "        <com.google.android.material.textfield.TextInputLayout\n",
    "            android:id=\"@+id/textField\"\n",
    "            android:layout_width=\"0dp\"\n",
    "            android:layout_height=\"wrap_content\"\n",
    "            android:layout_marginTop=\"8dp\"\n",
    "            android:hint=\"Zgadnij\"\n",
    "            app:errorIconDrawable=\"@drawable/ic_error\"\n",
    "            app:helperTextTextAppearance=\"@style/TextAppearance.MaterialComponents.Subtitle1\"\n",
    "            app:layout_constraintBottom_toTopOf=\"@+id/submit\"\n",
    "            app:layout_constraintEnd_toEndOf=\"parent\"\n",
    "            app:layout_constraintStart_toStartOf=\"parent\"\n",
    "            app:layout_constraintTop_toBottomOf=\"@+id/textView_unscrambled_word\">\n",
    "\n",
    "            <com.google.android.material.textfield.TextInputEditText\n",
    "                android:id=\"@+id/userInput\"\n",
    "                android:layout_width=\"match_parent\"\n",
    "                android:layout_height=\"match_parent\"\n",
    "                android:inputType=\"textPersonName|textNoSuggestions\"\n",
    "                android:maxLines=\"1\" />\n",
    "        </com.google.android.material.textfield.TextInputLayout>\n",
    "\n",
    "    </androidx.constraintlayout.widget.ConstraintLayout>\n",
    "</ScrollView>"
   ]
  },
  {
   "cell_type": "markdown",
   "id": "1b928346-0e79-4bd3-b500-31732df8b288",
   "metadata": {},
   "source": [
    "Dodajmy samą klasę"
   ]
  },
  {
   "cell_type": "code",
   "execution_count": null,
   "id": "0ba29938-5933-4bfb-92d1-01f030a0d97f",
   "metadata": {},
   "outputs": [],
   "source": [
    "class UnscrambleFragment : Fragment() {\n",
    "\n",
    "    private lateinit var binding: FragmentUnscrambleBinding\n",
    "\n",
    "    private val viewModel: GameViewModel by viewModels()\n",
    "    \n",
    "    override fun onCreateView(\n",
    "        inflater: LayoutInflater, container: ViewGroup?,\n",
    "        savedInstanceState: Bundle?\n",
    "    ): View {\n",
    "        binding = FragmentUnscrambleBinding.inflate(inflater)\n",
    "\n",
    "        viewLifecycleOwner.lifecycleScope.launch {\n",
    "            viewModel.uiState.collectLatest { uiState ->\n",
    "                binding.wordCount.text = \"${uiState.currentWordCount}/$MAX_NO_OF_WORDS\"\n",
    "                binding.textViewUnscrambledWord.text = uiState.currentScrambledWord\n",
    "                binding.score.text = uiState.score.toString()\n",
    "\n",
    "                if (uiState.isGameOver)\n",
    "                    showFinalScoreDialog(uiState.score) // po zakończeniu gry pokazujemy alertDialog z podsumowaniem\n",
    "            }\n",
    "        }\n",
    "\n",
    "        binding.apply {\n",
    "            skip.setOnClickListener { viewModel.skipWord() } // onclick przycisku umożliwiającego pominięcie słowa\n",
    "            submit.setOnClickListener { viewModel.checkUserGuess() } // onclick przecisku sprawdzającego poprawność podanego słowa\n",
    "            save.setOnClickListener { viewModel.saveGame() } // zapis gry\n",
    "            load.setOnClickListener { viewModel.loadGame() } // odczyt gry\n",
    "            userInput.addTextChangedListener { viewModel.updateUserGuess(it.toString()) } // po zmianie tekstu w polu EditText aktualizujemy pole przechowujące\n",
    "                                                                                          // aktualne słowo podane przez użytkownika\n",
    "        }\n",
    "\n",
    "        return binding.root\n",
    "    }\n",
    "\n",
    "    private fun showFinalScoreDialog(score: Int, ) {\n",
    "        MaterialAlertDialogBuilder(requireContext())\n",
    "            .setTitle(\"Gratulacje\")\n",
    "            .setMessage(\"Wynik: $score\")\n",
    "            .setCancelable(false)\n",
    "            .setNegativeButton(\"Wyjdź\") { _, _ -> exitGame() } // po wciśnięciu przecisku wychodzimy z aplikacji\n",
    "            .setPositiveButton(\"Zagraj ponownie\") { _, _ -> viewModel.resetGame() } // reset gry\n",
    "            .show()\n",
    "    }\n",
    "\n",
    "    private fun exitGame(){\n",
    "        requireActivity().finish() // zamyka aplikację\n",
    "    }\n",
    "}"
   ]
  },
  {
   "cell_type": "markdown",
   "id": "189ee667-0cdd-4fd3-84fe-077dccd50d32",
   "metadata": {},
   "source": [
    "Możemy przetestować grę"
   ]
  },
  {
   "cell_type": "markdown",
   "id": "e7e19031-18d4-4469-bebd-d6184a6a67d1",
   "metadata": {},
   "source": [
    "<table><tr><td><img src=\"https://media4.giphy.com/media/v1.Y2lkPTc5MGI3NjExYWwxOGlnNGQ3Mm9xOGRraHFuaXFyOXA0dXkwNWI2OGx0M2RvbndlMSZlcD12MV9pbnRlcm5hbF9naWZfYnlfaWQmY3Q9Zw/c4MVddvPAaRxrwp9JB/giphy.gif\" width=\"200\" /></td><td><img src=\"https://media2.giphy.com/media/v1.Y2lkPTc5MGI3NjExMnVzODY5dDR1a2QxdDk0MmtibWhmZXM0ZW0yc2VkcWZwd3NkaHlmZyZlcD12MV9pbnRlcm5hbF9naWZfYnlfaWQmY3Q9Zw/t3ERZ9ZxBVMeNiY1KY/giphy.gif\" width=\"200\" /></td><td><img src=\"https://media2.giphy.com/media/v1.Y2lkPTc5MGI3NjExbW8yN201Y3EzOHN6MGZsenhlMTM1ZHU0dWY5bmtkd2lvcTVybnZyZyZlcD12MV9pbnRlcm5hbF9naWZfYnlfaWQmY3Q9Zw/bCYIyjvwkKXnvrGd3n/giphy.gif\" width=\"200\" /></td></tr></table>"
   ]
  }
 ],
 "metadata": {
  "kernelspec": {
   "display_name": "Kotlin",
   "language": "kotlin",
   "name": "kotlin"
  },
  "language_info": {
   "codemirror_mode": "text/x-kotlin",
   "file_extension": ".kt",
   "mimetype": "text/x-kotlin",
   "name": "kotlin",
   "nbconvert_exporter": "",
   "pygments_lexer": "kotlin",
   "version": "1.8.0-RC"
  }
 },
 "nbformat": 4,
 "nbformat_minor": 5
}
