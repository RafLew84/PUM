{
 "cells": [
  {
   "cell_type": "markdown",
   "id": "feb37c97-5a60-49c8-8b12-1d34670eb159",
   "metadata": {},
   "source": [
    "# WFiApp"
   ]
  },
  {
   "cell_type": "markdown",
   "id": "f4a4a622-efde-424b-9b2b-72d7bb7f71b6",
   "metadata": {},
   "source": [
    "Aplikacja będzie wykorzystywać `LazyColumn`, gdzie każdym elementem na liście będzie `Card`. Dodamy również podstawową obsługę gestów oraz wykorzystamy `Compose Navigation` aby otworzyć nowy ekran w którym zaprezentowany będzie bardziej szczegółowy opis wybranego elementu listy. Będzie to wersja WFiApp z poprzedniego modułu, tym razem wykonana w `Compose`."
   ]
  },
  {
   "cell_type": "markdown",
   "id": "23ac7d95-4e06-4a69-8b46-15dde2f6fd64",
   "metadata": {},
   "source": [
    "<table><tr><td><img src=\"https://media2.giphy.com/media/gooBI30gtU5fMkmCZu/giphy.gif?cid=790b7611df027999cb2a17ec28a3095ad5693e6e76c37990&rid=giphy.gif&ct=g\" width=\"200\" /></td><td><img src=\"https://media2.giphy.com/media/h5Xh7V5IA5E3BV4ytL/giphy.gif?cid=790b7611412fedb227b91c2cb44067aa88f517a18214afde&rid=giphy.gif&ct=g\" width=\"150\" /></td><td><img src=\"https://media2.giphy.com/media/uwDAUUAjLZnyKqLg3J/giphy.gif?cid=790b76110bdb83e20fb638b9fb5150422cf100e384687bcf&rid=giphy.gif&ct=g\" width=\"150\" /></td></tr></table>"
   ]
  },
  {
   "cell_type": "markdown",
   "id": "a30035b6-ff11-4000-843f-8affe635d8e7",
   "metadata": {},
   "source": [
    "Będziemy wykorzystywać `Compose Navigation`, więc dodajmy odpowiednią zależność."
   ]
  },
  {
   "cell_type": "code",
   "execution_count": null,
   "id": "3b5c2622-f627-4a59-b6ae-ea108b955678",
   "metadata": {},
   "outputs": [],
   "source": [
    "implementation 'androidx.navigation:navigation-compose:2.5.3'"
   ]
  },
  {
   "cell_type": "markdown",
   "id": "fb5e2f79-e633-4ca8-a0c8-81860e122b4f",
   "metadata": {},
   "source": [
    "## Model"
   ]
  },
  {
   "cell_type": "markdown",
   "id": "821bc5be-fbaf-41d7-8729-6db0377cebc1",
   "metadata": {},
   "source": [
    "Dodajmy model reprezentujący instytut"
   ]
  },
  {
   "cell_type": "code",
   "execution_count": null,
   "id": "3f80f5f9-59ca-4ea9-8b02-b4d948d2660a",
   "metadata": {},
   "outputs": [],
   "source": [
    "data class Institute(\n",
    "    val title: String,\n",
    "    val info: String,\n",
    "    val imageResource: Int // identyfikatory obrazów są przechowywane jako int\n",
    ")"
   ]
  },
  {
   "cell_type": "markdown",
   "id": "e19c2a51-e2e1-42b1-94ce-7d6608be324f",
   "metadata": {},
   "source": [
    "Następnie dodajmy obiekt `DataProvider` przechowujący listę wszystkich instytutów"
   ]
  },
  {
   "cell_type": "code",
   "execution_count": null,
   "id": "1571dbb1-9c9d-492c-a1e9-66fd25cb94c4",
   "metadata": {},
   "outputs": [],
   "source": [
    "object DataProvider {\n",
    "\n",
    "    val institutes: ArrayList<Institute> = ArrayList()\n",
    "\n",
    "    fun getInstituteData(activity: Activity){\n",
    "        val instituteList = activity.resources.getStringArray(R.array.institute_titles)\n",
    "        val instituteInfo = activity.resources.getStringArray(R.array.institute_info)\n",
    "        val instituteImageResources = activity.resources.obtainTypedArray(R.array.institute_images)\n",
    "\n",
    "        for (i in instituteList.indices) institutes.add(\n",
    "            Institute(\n",
    "                instituteList[i],\n",
    "                instituteInfo[i],\n",
    "                instituteImageResources.getResourceId(i, 0)\n",
    "            )\n",
    "        )\n",
    "\n",
    "        instituteImageResources.recycle()\n",
    "    }\n",
    "}"
   ]
  },
  {
   "cell_type": "markdown",
   "id": "961281f5-7f24-465a-9382-07cb6e6f9ab0",
   "metadata": {},
   "source": [
    "## Lista - `Card` + `LazyColumn`"
   ]
  },
  {
   "cell_type": "markdown",
   "id": "66970b63-70b9-4f85-a751-9b13ffd5999c",
   "metadata": {},
   "source": [
    "<img src=\"https://i.ibb.co/PgKQ6nS/image.png\" width=\"350\" />"
   ]
  },
  {
   "cell_type": "markdown",
   "id": "5a28aca4-6dad-43ba-85d4-4439672e1ca0",
   "metadata": {},
   "source": [
    "Chcemy wyświewtlić listę wszystkich instytutów - każde pola będzie zawierać grafikę, tytuł znajdujący się na grafice (wraz z gradientem, aby poprzwić widoczność tekstu), oraz pole tekstowe zawierające podstawowe informacje. Rozpocznijmy od utworzenia naszej karty, dodajmy funkcję `Composable`, która renderuje kartę z obrazem."
   ]
  },
  {
   "cell_type": "code",
   "execution_count": null,
   "id": "91af70ad-a257-453f-8e60-31d9fde46245",
   "metadata": {},
   "outputs": [],
   "source": [
    "@Composable\n",
    "fun ImageCard(\n",
    "    painter: Painter,\n",
    "    contentDescription: String,\n",
    "    title: String,\n",
    "    info: String,\n",
    "    modifier: Modifier = Modifier\n",
    "){"
   ]
  },
  {
   "cell_type": "markdown",
   "id": "7074502e-251f-44d6-b02d-7fd984f6eaa1",
   "metadata": {},
   "source": [
    "ImageCard przyjmuje kilka parametrów:\n",
    "- `painter` - obiekt typu `Painter`, który reprezentuje obraz do wyświetlenia.\n",
    "- `contentDescription` - opis zawartości obrazu, który jest używany w celach dostępności.\n",
    "- `title` - tytuł karty, który będzie wyświetlany.\n",
    "- `info` - dodatkowe informacje na temat karty, które będą wyświetlane.\n",
    "- `modifier` - modyfikator, który kontroluje wygląd i rozmiar karty. Jest opcjonalny i domyślnie ustawiony na `Modifier`."
   ]
  },
  {
   "cell_type": "markdown",
   "id": "e9bdf238-c479-4561-b8bc-956a1b4f2341",
   "metadata": {},
   "source": [
    "Wewnątrz funkcji zdefiniujmy `Card`"
   ]
  },
  {
   "cell_type": "code",
   "execution_count": null,
   "id": "592eb620-35da-44c8-8c7c-7482848ad1bc",
   "metadata": {},
   "outputs": [],
   "source": [
    "Card(\n",
    "    modifier = modifier\n",
    "        .fillMaxWidth()\n",
    "        .padding(15.dp)\n",
    "        .clickable { },\n",
    "    shape = RoundedCornerShape(15.dp),\n",
    "    elevation = CardDefaults.cardElevation(defaultElevation = 10.dp)\n",
    ") {}"
   ]
  },
  {
   "cell_type": "markdown",
   "id": "a6540c81-dc9e-416c-b1dd-80caa9fdd1f8",
   "metadata": {},
   "source": [
    "`Card` jest komponentem, który używamy do tworzenia pojemników na inne komponenty, które mogą być stylizowane jako karty. Przyjmuje kilka parametrów, które definiują jego wygląd i zachowanie:\n",
    "- `modifier` - modyfikator który kontroluje wygląd i rozmiar karty. W tym przypadku, modyfikator składa się z kilku operacji, takich jak `fillMaxWidth()` (wypełnienie karty na szerokość dostępnej przestrzeni), `padding(15.dp)` (dodanie wewnętrznego marginesu 15 jednostek) i `clickable {}` (ustawienie obsługi kliknięcia na kartę).\n",
    "- `shape` - kształt karty. W tym przypadku, używany jest `RoundedCornerShape(15.dp)`, co oznacza, że karta będzie miała zaokrąglone narożniki o promieniu 15 jednostek.\n",
    "- `elevation` - podwyższenie karty. W tym przypadku, używany jest `CardDefaults.cardElevation(defaultElevation = 10.dp)`, co oznacza, że karta będzie miała domyślne podwyższenie o wartości 10 jednostek.\n",
    "\n",
    "Ponieważ sama grafika, kolor pod tekstem oraz tekst znajdują się na stosie (jedne na drugich), wewnątrz `Card` definiujemy `Box` - pozwala dodawać elementy na stos (podobnie jak `Column` dodaje elementuy jeden pod drugim i `Row` jeden obok drugiego, `Box` dodaje elementy jeden na drugi)."
   ]
  },
  {
   "cell_type": "code",
   "execution_count": null,
   "id": "4c49ebfb-a538-48e3-b98c-973d3d52912d",
   "metadata": {},
   "outputs": [],
   "source": [
    "Box(modifier = Modifier\n",
    "    .height(200.dp)\n",
    "    .fillMaxWidth()\n",
    "   ){}"
   ]
  },
  {
   "cell_type": "markdown",
   "id": "70a76650-dbaa-4b35-9aaf-3b93aed22ba2",
   "metadata": {},
   "source": [
    "Wysokość `Box` definiujemy na `200.dp` i wypełniamy całą dostępną szerokość. Wewnątrz chcemy umieścić trzy elementy, rozpocznijmy od dodania grafiki. Zdefiniujmy funkcję `Composable` `InstituteImage`"
   ]
  },
  {
   "cell_type": "code",
   "execution_count": null,
   "id": "c7138504-2b4b-41f2-a27c-437cc0e74b9d",
   "metadata": {},
   "outputs": [],
   "source": [
    "@Composable\n",
    "private fun InstituteImage(\n",
    "    painter: Painter,\n",
    "    contentDescription: String\n",
    ") {\n",
    "    Image(\n",
    "        painter = painter,\n",
    "        contentDescription = contentDescription,\n",
    "        contentScale = ContentScale.Crop,\n",
    "        modifier = Modifier.fillMaxWidth()\n",
    "    )\n",
    "}"
   ]
  },
  {
   "cell_type": "markdown",
   "id": "39ce0ecd-a7a4-4368-903a-ce04d62d8309",
   "metadata": {},
   "source": [
    "`InstituteImage` przyjmuje dwa parametry:\n",
    "- `painter` - obiekt typu `Painter`, który reprezentuje obraz do wyświetlenia.\n",
    "- `contentDescription` - opis zawartości obrazu, który jest używany w celach dostępności.\n",
    "Wewnątrz `InstituteImage` używamy komponentu `Image`, który renderuje obrazek. Przekazujemy `painter` jako parametr do `Image`, który reprezentuje obraz do wyświetlenia, a `contentDescription` jako opis dostępności dla obrazu. Dodatkowo, ustawiamy `contentScale` na `ContentScale.Crop`, co oznacza, że obrazek będzie przycięty, aby zmieścić się w ramach komponentu, jednocześnie zachowując proporcje. Modyfikator `Modifier.fillMaxWidth()` został zastosowany do komponentu `Image`, co oznacza, że obrazek wypełni całą dostępną szerokość."
   ]
  },
  {
   "cell_type": "markdown",
   "id": "83ce628e-23fb-4e7b-85d2-d85dea8c92c8",
   "metadata": {},
   "source": [
    "Drugim elementem będzie gradient koloru, który będzie wyświetlany pod tekstem. Dodajmy funkcję `Composable` `Gradient`"
   ]
  },
  {
   "cell_type": "code",
   "execution_count": null,
   "id": "c9bde3bc-f478-404d-a165-2d923df61ffa",
   "metadata": {},
   "outputs": [],
   "source": [
    "@Composable\n",
    "private fun Gradient() {\n",
    "    Box(\n",
    "        modifier = Modifier\n",
    "            .fillMaxSize()\n",
    "            .background(\n",
    "                Brush.verticalGradient(\n",
    "                    colors = listOf(\n",
    "                        Color.Transparent,\n",
    "                        Color.Black\n",
    "                    ),\n",
    "                    startY = 450f\n",
    "                )\n",
    "            )\n",
    "    )\n",
    "}"
   ]
  },
  {
   "cell_type": "markdown",
   "id": "b7130de4-4c4a-4067-822d-6b5d259317bd",
   "metadata": {},
   "source": [
    "Wewnątrz funkcji `Gradient` używamy komponentu `Box`, który działa jako kontener dla innych komponentów. W modyfikatorze `modifier` komponentu `Box`, zastosowano modyfikator `Modifier.fillMaxSize()`, który sprawia, że `Box` wypełnia całą dostępną przestrzeń. Użyto modyfikatora `.background()`, aby ustawić tło `Box` jako gradient. Wewnątrz modyfikatora `.background()`, użyto `Brush.verticalGradient()`, który tworzy pionowy gradient. W parametrze `colors` metody `Brush.verticalGradient()`, przekazano listę kolorów, w tym `Color.Transparent` i `Color.Black`. Gradient będzie płynnie przechodził od przezroczystego koloru na górze do czarnego koloru na dole. Dodatkowo, użyto parametru `startY = 450f`, który definiuje początek gradientu od 450 pikseli od góry."
   ]
  },
  {
   "cell_type": "markdown",
   "id": "3807b8f0-6233-44a9-9db6-649fd357935e",
   "metadata": {},
   "source": [
    "Ostatnim elementem jest `Text` wyświetlający tytuł"
   ]
  },
  {
   "cell_type": "code",
   "execution_count": null,
   "id": "ebe60f9d-b79b-458f-b771-fe2671a7e5a6",
   "metadata": {},
   "outputs": [],
   "source": [
    "Text(\n",
    "    text = title,\n",
    "    modifier = Modifier\n",
    "        .align(Alignment.BottomStart)\n",
    "        .padding(12.dp),\n",
    "    fontSize = 24.sp,\n",
    "    style = TextStyle(color = Color.White)\n",
    ")"
   ]
  },
  {
   "cell_type": "markdown",
   "id": "91b726af-9e10-421d-b9e4-af5d1011df73",
   "metadata": {},
   "source": [
    "Pod komponentem `Box`, w którym umieszczamy grafikę, gradient oraz tytuł, dodajmy jeszcze jeden komponent wyświetlający `info`"
   ]
  },
  {
   "cell_type": "code",
   "execution_count": null,
   "id": "14991f2f-14df-41df-af9a-735326f21d26",
   "metadata": {},
   "outputs": [],
   "source": [
    "Box(modifier = Modifier\n",
    "    .fillMaxWidth()\n",
    "    .height(45.dp)\n",
    ") {\n",
    "    Text(text = info)\n",
    "}"
   ]
  },
  {
   "cell_type": "markdown",
   "id": "4aab4032-2010-4f9f-9a6a-892b7d9a61a7",
   "metadata": {},
   "source": [
    "Pełny kod funkcji `ImageCard`"
   ]
  },
  {
   "cell_type": "code",
   "execution_count": null,
   "id": "93aeff58-949b-40d5-bd49-17b6815f9d9f",
   "metadata": {},
   "outputs": [],
   "source": [
    "@Composable\n",
    "fun ImageCard(\n",
    "    painter: Painter,\n",
    "    contentDescription: String,\n",
    "    title: String,\n",
    "    info: String,\n",
    "    modifier: Modifier = Modifier\n",
    "){\n",
    "        Card(\n",
    "            modifier = modifier\n",
    "                .fillMaxWidth()\n",
    "                .padding(15.dp)\n",
    "                .clickable { },\n",
    "            shape = RoundedCornerShape(15.dp),\n",
    "            elevation = CardDefaults.cardElevation(defaultElevation = 10.dp)\n",
    "        ) {\n",
    "            Box(modifier = Modifier\n",
    "                .height(200.dp)\n",
    "                .fillMaxWidth()){\n",
    "                InstituteImage(painter, contentDescription)\n",
    "                Gradient()\n",
    "                Text(\n",
    "                    text = title,\n",
    "                    modifier = Modifier\n",
    "                        .align(Alignment.BottomStart)\n",
    "                        .padding(12.dp),\n",
    "                    fontSize = 24.sp,\n",
    "                    style = TextStyle(color = Color.White)\n",
    "                )\n",
    "            }\n",
    "            Box(modifier = Modifier\n",
    "                .fillMaxWidth()\n",
    "                .height(45.dp)\n",
    "            ) {\n",
    "                Text(text = info)\n",
    "            }\n",
    "        }\n",
    "}"
   ]
  },
  {
   "cell_type": "markdown",
   "id": "80e95298-90f3-429f-8e4e-4539257e9ff7",
   "metadata": {},
   "source": [
    "Dodajmy funkcję `InstituteList` wyświetlającą wszystkie elementy listy danych z `DataProvider` za pomocą `ImageCard`"
   ]
  },
  {
   "cell_type": "code",
   "execution_count": null,
   "id": "f4c985f6-aeec-44c7-be4c-fffc8e7deba5",
   "metadata": {},
   "outputs": [],
   "source": [
    "@Composable\n",
    "fun InstituteList(){\n",
    "    val data by remember {\n",
    "        mutableStateOf(DataProvider.institutes.toList())\n",
    "    }\n",
    "\n",
    "    LazyColumn(\n",
    "        modifier = Modifier.fillMaxSize()\n",
    "    ){\n",
    "        items(data.size){index ->\n",
    "            Row(\n",
    "                modifier = Modifier\n",
    "                    .fillMaxSize()\n",
    "                    .padding(4.dp)\n",
    "                    .clickable { /*TODO*/ },\n",
    "                horizontalArrangement = Arrangement.SpaceAround,\n",
    "                verticalAlignment = Alignment.CenterVertically\n",
    "            ) {\n",
    "                ImageCard(\n",
    "                    painter = painterResource(id = data[index].imageResource),\n",
    "                    contentDescription = data[index].title,\n",
    "                    title = data[index].title,\n",
    "                    info = data[index].info\n",
    "                )\n",
    "            }\n",
    "        }\n",
    "    }\n",
    "}"
   ]
  },
  {
   "cell_type": "markdown",
   "id": "b157ca3a-77a3-43d5-9c33-d72c8345f572",
   "metadata": {},
   "source": [
    "`InstituteList` jest funkcją komponującą, która renderuje listę instytutów. Używamy `mutableStateOf` w celu utworzenia zmiennej stanu `data`, która jest zmienną, przechowującą listę instytutów. Wywołanie `DataProvider.institutes.toList()` zwraca listę instytutów z dostawcy danych.\n",
    "\n",
    "Wewnątrz `LazyColumn`, używamy bloku `items` do iteracji po każdym elemencie `data` i generowania wierszy w liście. Używamy komponentu `Row`, który renderuje wiersz z komponentami ułożonymi w poziomie. W modyfikatorze `Row`, używamy `Modifier.fillMaxSize()`, który sprawia, że Row wypełnia całą dostępną przestrzeń. Dodatkowo, używamy modyfikatora `.padding(4.dp)` do dodania marginesu 4 jednostek wokół wiersza. Używamy modyfikatora `.clickable { /*TODO*/ }`, aby dodać obsługę kliknięcia wiersza. Zrobimy to na późniejszym etapie. Wewnątrz `Row` używamy komponentu `ImageCard` (zdefiniowanego wcześniej), który renderuje kartę z obrazkiem dla każdego instytutu. Przekazujemy odpowiednie parametry do `ImageCard`, takie jak `painter` (obraz do wyświetlenia), `contentDescription` (opis obrazu), title (tytuł instytutu) i `info` (informacje o instytucie)."
   ]
  },
  {
   "cell_type": "markdown",
   "id": "136ab7d8-f869-44b5-a6e7-db5fda15f766",
   "metadata": {},
   "source": [
    "Fuinkcję `InteitutList` możemy wywołać w `MainActivity`"
   ]
  },
  {
   "cell_type": "markdown",
   "id": "2e3fa705-49ec-4d99-9813-fa3071bddcee",
   "metadata": {},
   "source": [
    "<img src=\"https://media4.giphy.com/media/Acr6sC2y1H1SY2pxEj/giphy.webp\" width=\"200\" />"
   ]
  },
  {
   "cell_type": "code",
   "execution_count": null,
   "id": "88e1d07d-113c-4aee-8ec4-a3a9e81ef827",
   "metadata": {},
   "outputs": [],
   "source": []
  }
 ],
 "metadata": {
  "kernelspec": {
   "display_name": "Kotlin",
   "language": "kotlin",
   "name": "kotlin"
  },
  "language_info": {
   "codemirror_mode": "text/x-kotlin",
   "file_extension": ".kt",
   "mimetype": "text/x-kotlin",
   "name": "kotlin",
   "nbconvert_exporter": "",
   "pygments_lexer": "kotlin",
   "version": "1.8.0-RC"
  }
 },
 "nbformat": 4,
 "nbformat_minor": 5
}
