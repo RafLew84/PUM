{
 "cells": [
  {
   "cell_type": "markdown",
   "id": "1bde08fe-1f87-47c3-9c85-3d06cf8fb52a",
   "metadata": {},
   "source": [
    "## MyHomeBudget"
   ]
  },
  {
   "cell_type": "markdown",
   "id": "334aada1-9496-4cef-9ea4-82281cb43c3c",
   "metadata": {},
   "source": [
    "Aplikacja MyFinance wykorzystuje `TabLayout Navigation` z `ViewPager2`. Dane dostarczymy przez obiekt `dataProvider` zawierający hardcodowane przykładowe pozycje (*dummy data*). Aplikacja zawiera trzy ekrany pokazujące stan oszczędności oraz rachunki - ekran główny zawiera podsumowanie. Dodamy customową animację do `TabLayout.Tab` oraz `DonutChart` podsumowujący stan naszych finansów oraz kilka elementów urozmaicających wygląd naszej aplikacji. Sam layout aplikacji bazuje na przykładzie z **Android Open Project** [link](https://github.com/android/compose-samples/tree/main/Rally) - będzie to wersja aplikacji wcześniej zaimplementowanej w module 1a"
   ]
  },
  {
   "cell_type": "markdown",
   "id": "d4cd49f6-1444-4594-b433-42b0608131ad",
   "metadata": {},
   "source": [
    "<table><tr><td><img src=\"https://media1.giphy.com/media/49RzyXBmRBa59Wi47n/giphy.gif?cid=790b76111b9b9991bd4197bf8d7295e517603d04f8ba2992&rid=giphy.gif&ct=g\" width=\"200\" /></td><td><img src=\"https://media1.giphy.com/media/zbqykvBYncTRQLCAja/giphy.gif?cid=790b7611d47e3d6d46e7b736ac29fe3cc9bc281aed07c1c0&rid=giphy.gif&ct=g\" width=\"200\" /></td><td><img src=\"https://media3.giphy.com/media/BbcDIUyV6IodX2yGVx/giphy.gif?cid=790b7611d1bf2abf7deacc8ad5a71a6a13adfbc9f4344954&rid=giphy.gif&ct=g\" width=\"200\" /></td></tr></table>"
   ]
  },
  {
   "cell_type": "markdown",
   "id": "1858a5e5-e864-4603-a361-b50aa1f70ed3",
   "metadata": {},
   "source": [
    "Rozpocznijmy od dodania zależności do projektu - wykorzystamy `Navigation` oraz będziemy potrzebować dodatkowe ikony w projekcie"
   ]
  },
  {
   "cell_type": "code",
   "execution_count": null,
   "id": "e6d5a473-e0e8-4cac-b1d5-e79cf335fe77",
   "metadata": {},
   "outputs": [],
   "source": [
    "implementation 'androidx.navigation:navigation-compose:2.5.3'\n",
    "implementation \"androidx.compose.material:material-icons-extended:1.4.3\""
   ]
  },
  {
   "cell_type": "markdown",
   "id": "74086cce-664d-4d14-99ce-716760babed4",
   "metadata": {},
   "source": [
    "Nasza aplikacja będzie posiadała zdefiniowany layout tylko w orientacji `portrait`, więc zablookujemy możliwość zmiany w plik `AndroidManifest.xml` - do aktywności dodamy"
   ]
  },
  {
   "cell_type": "code",
   "execution_count": null,
   "id": "e68bb1cd-7b68-41ce-b67b-5f07b0de9538",
   "metadata": {},
   "outputs": [],
   "source": [
    "android:screenOrientation=\"portrait\""
   ]
  },
  {
   "cell_type": "markdown",
   "id": "8117292c-03df-42f7-ae1c-a0105ef8cc11",
   "metadata": {},
   "source": [
    "## Model"
   ]
  },
  {
   "cell_type": "markdown",
   "id": "6c4d919b-bb2e-4c83-8cea-a08662cccb0e",
   "metadata": {},
   "source": [
    "Dodajmy model danych"
   ]
  },
  {
   "cell_type": "code",
   "execution_count": null,
   "id": "6ffbeb92-d0bb-4906-ad3e-d6013efd8019",
   "metadata": {},
   "outputs": [],
   "source": [
    "data class Account(\n",
    "    val name: String,\n",
    "    val number: String,\n",
    "    val amount: Double,\n",
    "    val color: Int\n",
    ")"
   ]
  },
  {
   "cell_type": "code",
   "execution_count": null,
   "id": "35df887f-5f68-4a96-b117-7e209262cd01",
   "metadata": {},
   "outputs": [],
   "source": [
    "data class Bill (\n",
    "    val name: String,\n",
    "    val endDate: LocalDate,\n",
    "    val amount: Double,\n",
    "    val color: Int\n",
    ")"
   ]
  },
  {
   "cell_type": "markdown",
   "id": "dd2448cb-122a-4414-8245-51700967f388",
   "metadata": {},
   "source": [
    "Dane, podobnie jak w poprzednich przykładach, będziemy pobierać z obiektu `DataProvider`"
   ]
  },
  {
   "cell_type": "code",
   "execution_count": null,
   "id": "a343a4c6-2e78-4116-983f-293f959b64e7",
   "metadata": {},
   "outputs": [],
   "source": [
    "object DataProvider {\n",
    "\n",
    "    val accounts = listOf(\n",
    "        Account(\"Home savings\", \"1111111111\", 23456.34, Color.BLUE),\n",
    "        Account(\"Car savings\", \"2222222222\", 126578.99, Color.LTGRAY),\n",
    "        Account(\"Vacation\", \"3457733323\", 9875.12, Color.MAGENTA),\n",
    "        Account(\"Emergency\", \"9488344443\", 10000.77, Color.RED),\n",
    "        Account(\"Healthcare\", \"3243554434\", 12345.00, Color.YELLOW),\n",
    "        Account(\"Shopping\", \"2947560007\", 3456.56, Color.BLACK)\n",
    "    )\n",
    "\n",
    "    val bills = listOf(\n",
    "        Bill(\"Bank Credit\", LocalDate.of(2022, 9,22), 2300.0, Color.BLACK),\n",
    "        Bill(\"Tuition\", LocalDate.of(2023, 2,10), 1200.0, Color.BLUE),\n",
    "        Bill(\"Rent\", LocalDate.of(2022, 8,3), 1023.87, Color.YELLOW),\n",
    "        Bill(\"Loan\", LocalDate.of(2022, 12,22), 334.0, Color.GRAY),\n",
    "        Bill(\"Car Repair\", LocalDate.of(2023, 1,9), 982.38, Color.WHITE),\n",
    "        Bill(\"Dress Loan\", LocalDate.of(2023, 5,18), 243.0, Color.MAGENTA)\n",
    "    )\n",
    "\n",
    "    val totalAccountsAmount = (accounts.indices).sumOf { accounts[it].amount }\n",
    "    val totalBillsAmount = (bills.indices).sumOf { bills[it].amount }\n",
    "}"
   ]
  },
  {
   "cell_type": "markdown",
   "id": "90cf2fec-c5fe-4788-b76a-28ee5c0b02ba",
   "metadata": {},
   "source": [
    "## Nawigacja"
   ]
  },
  {
   "cell_type": "markdown",
   "id": "63dd6c6b-8fba-4f0e-8e29-e8d0e64a9418",
   "metadata": {},
   "source": [
    "Nasz aplikacja składa się z trzech ekranów, dodajmy podstawowy layout"
   ]
  },
  {
   "cell_type": "code",
   "execution_count": null,
   "id": "a7fd1db2-e3cd-45c5-9745-f5c67d94ae4a",
   "metadata": {},
   "outputs": [],
   "source": [
    "@Composable\n",
    "fun AccountsScreen(){\n",
    "    Box(\n",
    "        Modifier\n",
    "            .fillMaxSize(),\n",
    "        contentAlignment = Alignment.Center\n",
    "    ) {\n",
    "        Text(\n",
    "            text = \"First Screen\",\n",
    "            fontSize = 40.sp\n",
    "        )\n",
    "    }\n",
    "}\n",
    "\n",
    "@Preview(showBackground = true)\n",
    "@Composable\n",
    "fun FirstPreview() {\n",
    "    MyHomeBudgetComposeTheme {\n",
    "        AccountsScreen()\n",
    "    }\n",
    "}"
   ]
  },
  {
   "cell_type": "code",
   "execution_count": null,
   "id": "9b7e81e9-dbaa-4a9f-bfea-dc21b878a26e",
   "metadata": {},
   "outputs": [],
   "source": [
    "@Composable\n",
    "fun BillsScreen(){\n",
    "    Box(\n",
    "        Modifier\n",
    "            .fillMaxSize(),\n",
    "        contentAlignment = Alignment.Center\n",
    "    ) {\n",
    "        Text(\n",
    "            text = \"Second Screen\",\n",
    "            fontSize = 40.sp\n",
    "        )\n",
    "    }\n",
    "}\n",
    "\n",
    "@Preview(showBackground = true)\n",
    "@Composable\n",
    "fun SecondPreview() {\n",
    "    MyHomeBudgetComposeTheme {\n",
    "        BillsScreen()\n",
    "    }\n",
    "}"
   ]
  },
  {
   "cell_type": "code",
   "execution_count": null,
   "id": "9d03ccae-4be0-498e-ae86-04071c1b2a6c",
   "metadata": {},
   "outputs": [],
   "source": [
    "@Composable\n",
    "fun OverviewScreen(){\n",
    "    Box(\n",
    "        Modifier\n",
    "            .fillMaxSize(),\n",
    "        contentAlignment = Alignment.Center\n",
    "    ) {\n",
    "        Text(\n",
    "            text = \"Home Screen\",\n",
    "            fontSize = 40.sp\n",
    "        )\n",
    "    }\n",
    "}\n",
    "\n",
    "@Preview(showBackground = true)\n",
    "@Composable\n",
    "fun HomePreview() {\n",
    "    MyHomeBudgetComposeTheme {\n",
    "        OverviewScreen()\n",
    "    }\n",
    "}"
   ]
  },
  {
   "cell_type": "markdown",
   "id": "9c7227b0-09e5-47d0-9beb-0f78e4e8834e",
   "metadata": {},
   "source": [
    "Dodajmy klasę reprezentującą właściwości ekranów"
   ]
  },
  {
   "cell_type": "code",
   "execution_count": null,
   "id": "f186cf34-39cf-4707-a76b-d930a36d7ead",
   "metadata": {},
   "outputs": [],
   "source": [
    "sealed class Screens(\n",
    "    val route: String,\n",
    "    val icon: ImageVector\n",
    ") {\n",
    "    object Overview : Screens(\"overview\", Icons.Filled.AccountBalance)\n",
    "    object Accounts : Screens(\"accounts\", Icons.Filled.AttachMoney)\n",
    "    object Bills : Screens(\"bills\", Icons.Filled.MoneyOff)\n",
    "}"
   ]
  },
  {
   "cell_type": "markdown",
   "id": "9ab74aba-9ed1-4c5a-aca7-326172c2b503",
   "metadata": {},
   "source": [
    "Następnie dodajmy komponenty składowe naszych zakładek, które umieścimy w `topBar` komponentu `Scaffold`. Rozpocznijmy od dodania funkcji pozwalającej na renderowanie pojedynczej zakładki w interfejsie użytkownika. Zakładka może być wybrana lub nieaktywna, a tekst i ikona będą animowane - animacja będzie wyświetlana w zależności od jej stanu."
   ]
  },
  {
   "cell_type": "code",
   "execution_count": null,
   "id": "cbdd80f9-641a-466a-a298-8747bc4bb716",
   "metadata": {},
   "outputs": [],
   "source": [
    "@Composable\n",
    "private fun SingleTab(\n",
    "    text: String,\n",
    "    icon: ImageVector,\n",
    "    onSelected: () -> Unit,\n",
    "    selected: Boolean\n",
    ") {}\n"
   ]
  },
  {
   "cell_type": "markdown",
   "id": "62f11d28-e823-47f7-b4d4-b625f30b78e5",
   "metadata": {},
   "source": [
    "Funkcja przyjmuje następujące parametry:\n",
    "- `text` - tekst wyświetlany na zakładce,\n",
    "- `icon` - ikona wyświetlana na zakładce,\n",
    "- `onSelected` - funkcja wywoływana po wybraniu zakładki,\n",
    "- `selected` - flaga wskazująca, czy zakładka jest wybrana."
   ]
  },
  {
   "cell_type": "code",
   "execution_count": null,
   "id": "c7ca11fd-e63f-42f1-8a30-f3d7bd1f73f2",
   "metadata": {},
   "outputs": [],
   "source": [
    "@Composable\n",
    "private fun SingleTab(\n",
    "    text: String,\n",
    "    icon: ImageVector,\n",
    "    onSelected: () -> Unit,\n",
    "    selected: Boolean\n",
    ") {\n",
    "\n",
    "    val color = MaterialTheme.colorScheme.secondary\n",
    "    val durationMillis = if (selected) TabFadeInAnimationDuration else TabFadeOutAnimationDuration\n",
    "    val animSpec = remember {\n",
    "        tween<Color>(\n",
    "            durationMillis = durationMillis,\n",
    "            easing = LinearEasing,\n",
    "            delayMillis = TabFadeInAnimationDelay\n",
    "        )\n",
    "    }\n",
    "    val tabTintColor by animateColorAsState(\n",
    "        targetValue = if (selected) color else color.copy(alpha = InactiveTabOpacity),\n",
    "        animationSpec = animSpec\n",
    "    )\n",
    "}\n",
    "\n",
    "private val TabHeight = 56.dp\n",
    "private const val InactiveTabOpacity = 0.60f\n",
    "\n",
    "private const val TabFadeInAnimationDuration = 150\n",
    "private const val TabFadeInAnimationDelay = 100\n",
    "private const val TabFadeOutAnimationDuration = 100"
   ]
  },
  {
   "cell_type": "markdown",
   "id": "2394ceaa-a80c-450e-bfaf-25f88181f496",
   "metadata": {},
   "source": [
    "Definijuemy kilka stałych:\n",
    "- `color` - kolor używany do tła i tekstu zakładki, pobierany z `MaterialTheme`,\n",
    "- `durationMillis` - czas trwania animacji dla zakładki, zależny od stanu wybrania zakładki,\n",
    "- `animSpec` - specyfikacja animacji używanej do animowania koloru zakładki,\n",
    "- `tabTintColor` - kolor tła i tekstu zakładki, który jest animowany na podstawie stanu wybrania zakładki.\n",
    "\n",
    "W stałej `animSpec` przechowujemy specyfikację animacji, która zostanie użyta do animowania koloru zakładki. Dzięki zastosowaniu `remember`, specyfikacja animacji jest zapamiętana i nie jest obliczana przy każdym ponownym renderowaniu komponentu. Wewnątrz bloku `remember` tworzymy instancję `tween<Color>`, która jest specyfikacją animacji, działającą na wartości koloru. `tween` to funkcja, która tworzy animację opartą na interpolacji. Przyjmuje ona kilka parametrów:\n",
    "- `durationMillis` - czas trwania animacji w milisekundach,\n",
    "- `easing` - funkcja określająca sposób interpolacji wartości animacji (np. `LinearEasing` dla liniowej interpolacji),\n",
    "- `delayMillis` - opóźnienie animacji przed jej rozpoczęciem w milisekundach.\n",
    "\n",
    "Gdy zostanie uruchomiona animacja zmiany koloru zakładki, wykorzystamy `animSpec` do kontrolowania jej przebiegu.\n",
    "\n",
    "Następnie dodajemy `tabColorTint`, który umożliwia animowanie koloru zakładki na podstawie wartości `selected`. Dzięki użyciu `animateColorAsState` i odpowiedniej specyfikacji animacji (`animSpec`), kolor zakładki płynnie zmienia się wraz ze zmianą stanu. \n",
    "\n",
    "`animateColorAsState` to funkcja, tworząca stan (`State<Color>`), który może być animowany. Przyjmuje ona dwa parametry:\n",
    "- `targetValue` - wartość docelowa, do której kolor ma być animowany. Jeśli `selected` ma wartość `true`, kolor zostanie ustawiony na `color` (`MaterialTheme.colorScheme.secondary`), w przeciwnym razie zostanie użyta kopia `color` z zastosowanym zmniejszeniem przez `InactiveTabOpacity` (wartość przezroczystości dla nieaktywnej zakładki)\n",
    "- `animationSpec` - specyfikacja animacji, która określa czas trwania, opóźnienie i sposób interpolacji animacji.\n",
    "\n",
    "`tabTintColor` jest wartością zwracaną typu `State<Color>`, który reprezentuje bieżącą wartość koloru zakładki. Kiedy wartość `targetValue` zmienia się na skutek animacji, `tabTintColor` również się zmienia, co powoduje ponowne renderowanie komponentu.\n",
    "\n",
    "W komponencie używamy `Row`, który definiuje zawartość i wygląd pojedynczej zakładki."
   ]
  },
  {
   "cell_type": "code",
   "execution_count": null,
   "id": "6ce2ce64-0257-4771-b1e8-03b2cc5d7454",
   "metadata": {},
   "outputs": [],
   "source": [
    "@Composable\n",
    "private fun SingleTab(\n",
    "    text: String,\n",
    "    icon: ImageVector,\n",
    "    onSelected: () -> Unit,\n",
    "    selected: Boolean\n",
    ") {\n",
    "\n",
    "    val color = MaterialTheme.colorScheme.secondary\n",
    "    val durationMillis = if (selected) TabFadeInAnimationDuration else TabFadeOutAnimationDuration\n",
    "    val animSpec = remember {\n",
    "        tween<Color>(\n",
    "            durationMillis = durationMillis,\n",
    "            easing = LinearEasing,\n",
    "            delayMillis = TabFadeInAnimationDelay\n",
    "        )\n",
    "    }\n",
    "    val tabTintColor by animateColorAsState(\n",
    "        targetValue = if (selected) color else color.copy(alpha = InactiveTabOpacity),\n",
    "        animationSpec = animSpec\n",
    "    )\n",
    "    Row(\n",
    "        modifier = Modifier\n",
    "            .padding(16.dp)\n",
    "            .animateContentSize()\n",
    "            .height(TabHeight)\n",
    "            .selectable(\n",
    "                selected = selected,\n",
    "                onClick = onSelected,\n",
    "                role = Role.Tab,\n",
    "                interactionSource = remember { MutableInteractionSource() },\n",
    "                indication = rememberRipple(\n",
    "                    bounded = false,\n",
    "                    radius = Dp.Unspecified,\n",
    "                    color = Color.Unspecified\n",
    "                )\n",
    "            )\n",
    "            .clearAndSetSemantics { contentDescription = text },\n",
    "        content =  {\n",
    "            Icon(imageVector = icon, contentDescription = text, tint = tabTintColor)\n",
    "            if (selected) {\n",
    "                Spacer(Modifier.width(12.dp))\n",
    "                Text(text.uppercase(Locale.getDefault()), color = tabTintColor)\n",
    "            }\n",
    "        }\n",
    "    )\n",
    "}\n",
    "\n",
    "private val TabHeight = 56.dp\n",
    "private const val InactiveTabOpacity = 0.60f\n",
    "\n",
    "private const val TabFadeInAnimationDuration = 150\n",
    "private const val TabFadeInAnimationDelay = 100\n",
    "private const val TabFadeOutAnimationDuration = 100"
   ]
  },
  {
   "cell_type": "markdown",
   "id": "595c50a2-82d1-409e-acf9-17cf778cde6e",
   "metadata": {},
   "source": [
    "W modyfikatorze `Row` `animateContentSize()` animuje zmianę rozmiaru wiersza na podstawie zawartości, `selectable` to modifikator, który umożliwia zaznaczanie wiersza. Przyjmuje kilka parametrów:\n",
    "- `selected` - wartość logiczna, czy dany wiersz jest zaznaczony czy nie,\n",
    "\n",
    "- `onClick` - funkcja wywoływana po kliknięciu wiersza, w tym przypadku wywołuje funkcję `onSelected`, która jest przekazywana jako parametr,\n",
    "\n",
    "- `role` - rola wiersza, w tym przypadku jest to rola `Role.Tab`, co wskazuje na to, że wiersz reprezentuje zakładkę - można nadać zakładce wiele różnych ról: \n",
    "    - `Role.Tab` - rola oznaczająca, że wiersz reprezentuje zakładkę.\n",
    "    - `Role.Button` - rola oznaczająca, że wiersz reprezentuje przycisk.\n",
    "    - `Role.Checkbox` - rola oznaczająca, że wiersz reprezentuje pole wyboru (*checkbox*).\n",
    "    - `Role.RadioButton` - rola oznaczająca, że wiersz reprezentuje przycisk opcji (*radio button*).\n",
    "<br/><br/>\n",
    " \n",
    "- `interactionSource` - źródło interakcji, w tym przypadku jest to nowa instancja `MutableInteractionSource` - jest to źródło interakcji, które może być używane do rejestrowania i odczytywania zdarzeń interakcji. Przechowuje informacje o bieżących stanach interakcji, takich jak naciśnięcie, dotknięcie, przeciągnięcie, wybór itp. Dzięki `MutableInteractionSource` możemy monitorować i reagować na różne zdarzenia interakcji w naszych komponentach Compose. Możemy przekazać MutableInteractionSource do odpowiednich komponentów, takich jak `Clickable`, `Selectable`, `Draggable`, aby obsłużyć i reagować na interakcje użytkownika. Na przykład, możemy śledzić kliknięcia na wiersz, monitorować stan naciśnięcia lub odznaczenia w polu wyboru, itp.\n",
    "\n",
    "- `indication` - efekt wizualny podczas interakcji z wierszem, w tym przypadku używamy efektu *ripple* (falowania) za pomocą funkcji `rememberRipple`. Funkcja ta zwraca obiekt `RippleIndication` zawierający informacje o zdefiniowanym efekcie falowania. Następnie przekazujemy ten obiekt do modifikatora `selectable`.\n",
    "    - `bounded` Określa, czy efekt falowania ma być ograniczony do granic wiersza (`true`), czy ma wypełnić całą przestrzeń wokół wiersza (`false`).\n",
    "    - `radius` Określa promień efektu falowania. Może przyjąć wartość `Dp.Unspecified` dla dynamicznego określenia promienia na podstawie rozmiaru wiersza.\n",
    "    - `color` Określa kolor efektu falowania. Może być używany kolor zdefiniowany wcześniej lub `Color.Unspecified` dla automatycznego dopasowania koloru do motywu.\n",
    "    <br/><br/>\n",
    "- `clearAndSetSemantics` to modifikator, który ustawia opis treści (semantykę) dostępności dla wiersza na wartość `text`, która jest przekazywana jako parametr. Jest używane głównie w celu dostarczenia informacji o dostępności i ułatwienia korzystania z interfejsu użytkownika dla osób korzystających z technologii asystujących.\n",
    "    - Opisy obrazków: Możemy użyć do ustawienia opisu (`contentDescription`) dla obrazków w celu opisania ich zawartości osobom niewidomym lub słabowidzącym.\n",
    "    - Tekst alternatywny dla elementów interaktywnych: Możemy ustawić tekst alternatywny (`contentDescription`) dla elementów interaktywnych, takich jak przyciski lub linki, aby przekazać informację o ich funkcji użytkownikom, którzy nie widzą lub mają trudności z odczytaniem etykiet.\n",
    "    - Dostępność treści: Możemy użyć do dostarczenia informacji o dostępności dla różnych elementów treści, takich jak nagłówki, akapity, listy, tabelki, itp.\n",
    "    </br></br>\n",
    "    \n",
    "- `content` - zawartość wiersza\n",
    "    - `Icon` reprezentuje ikonę zakładki. Przyjmuje trzy parametry:\n",
    "        - `imageVector` Obraz wektorowy (np. ikona), który ma być wyświetlany jako ikona zakładki.\n",
    "        - `contentDescription` Opis treści ikony, który jest przekazywany w celach dostępności.\n",
    "        - `tint` Kolor, który ma być zastosowany do ikony zakładki.\n",
    "        </br></br>\n",
    "    - Warunek `if (selected)` Jest to warunek sprawdzający, czy dany wiersz jest zaznaczony. Jeśli tak, to wyświetlany jest dodatkowy element wiersza.\n",
    "    - `Spacer(Modifier.width(12.dp))` Komponent używany jest do utworzenia pustej przestrzeni pomiędzy ikoną a tekstem.\n",
    "    - `Text` Ten komponent reprezentuje tekst zakładki. Przyjmuje dwa parametry:\n",
    "        - `text` Treść, która ma być wyświetlana jako tekst zakładki.\n",
    "        - `color` Kolor tekstu zakładki.\n",
    "    </br></br>\n",
    "    Oznacza to, że jeśli wiersz jest zaznaczony (selected), zostanie wyświetlony tekst zakładki obok ikony, z odpowiednimi odstępami i kolorem tekstu zdefiniowanym przez tabTintColor. Jeśli wiersz nie jest zaznaczony, tylko ikona zakładki będzie widoczna."
   ]
  },
  {
   "cell_type": "markdown",
   "id": "f3f51fb4-f800-4627-af32-aa7769fb4078",
   "metadata": {},
   "source": [
    "Zdefiniujmy komponent reprezentujący wiersz z zakładkami."
   ]
  },
  {
   "cell_type": "code",
   "execution_count": null,
   "id": "9516f547-cb22-4bd9-80d8-2ed811eb16b6",
   "metadata": {},
   "outputs": [],
   "source": [
    "@Composable\n",
    "fun TabRow(\n",
    "    allScreens: List<Screens>,\n",
    "    onTabSelected: (Screens) -> Unit,\n",
    "    currentScreen: Screens\n",
    ") {\n",
    "    Surface(\n",
    "        Modifier\n",
    "            .height(TabHeight)\n",
    "            .fillMaxWidth()\n",
    "    ) {\n",
    "        Row(Modifier.selectableGroup()) {\n",
    "            allScreens.forEach { screen ->\n",
    "                SingleTab(\n",
    "                    text = screen.route,\n",
    "                    icon = screen.icon,\n",
    "                    onSelected = { onTabSelected(screen) },\n",
    "                    selected = currentScreen == screen\n",
    "                )\n",
    "            }\n",
    "        }\n",
    "    }\n",
    "}"
   ]
  },
  {
   "cell_type": "markdown",
   "id": "335b8348-c3aa-49cf-9510-7c61fbc45635",
   "metadata": {},
   "source": [
    "Komponent ten przyjmuje trzy parametry:\n",
    "- `allScreens` Lista wszystkich dostępnych zakładek (obiektów typu `Screens`).\n",
    "- `onTabSelected` Funkcja, która jest wywoływana po wybraniu zakładki. Przyjmuje jako argument wybraną zakładkę.\n",
    "- `currentScreen` Obecnie wybrana zakładka.\n",
    "\n",
    "\n",
    "Komponent `TabRow` tworzy wiersz zakładek używając komponentów `Surface` i `Row`. Wewnątrz wiersza iteruje po wszystkich zakładkach z listy `allScreens` i dla każdej zakładki renderuje komponent `SingleTab`. `Surface` tworzy powierzchnię, która otacza wiersz zakładek. `Row` tworzy poziomy układ, w którym są renderowane poszczególne zakładki. Używa on również modyfikatora `selectableGroup()`, który umożliwia zaznaczanie jednego elementu wiersza. `onSelected` to funkcja, która jest wywoływana po wybraniu zakładki. `selected` informuje, czy dana zakładka jest obecnie wybrana (porównuje się ją z `currentScreen`).\n",
    "\n",
    "W efekcie, komponent `TabRow` renderuje wiersz zakładek, gdzie każda zakładka jest reprezentowana przez komponent `SingleTab`, a wybrana zakładka ma odpowiednie oznaczenie graficzne. Po kliknięciu na zakładkę wywoływana jest funkcja `onTabSelected` z wybraną zakładką jako argumentem."
   ]
  },
  {
   "cell_type": "markdown",
   "id": "42ad192b-aee3-4ebc-b45c-730de7e4eb0e",
   "metadata": {},
   "source": [
    "Następnie tworzymy nawigację, rozpoczniemy od utworzeniu grafu nawigacji."
   ]
  },
  {
   "cell_type": "code",
   "execution_count": null,
   "id": "a2681c5c-b130-4c8e-be42-8e6c66b656e8",
   "metadata": {},
   "outputs": [],
   "source": [
    "@Composable\n",
    "fun NavGraph(navController: NavHostController, modifier: Modifier){\n",
    "    NavHost(\n",
    "        navController = navController,\n",
    "        startDestination = Screens.Overview.route,\n",
    "        modifier = modifier\n",
    "    ) {\n",
    "        composable(route = Screens.Overview.route){ OverviewScreen() }\n",
    "        composable(route = Screens.Accounts.route){ AccountsScreen() }\n",
    "        composable(route = Screens.Bills.route){ BillsScreen() }\n",
    "    }\n",
    "}"
   ]
  },
  {
   "cell_type": "markdown",
   "id": "00a5af0a-3ada-4dc3-a860-1dd8e73ebe2f",
   "metadata": {},
   "source": [
    "Aby uniknąć problemu gromadzenia dużej liczby ekranów na stosie nawigacji, w miarę wybierania przez użytkowników elementów, dodajmy funkcję rozszerzającą zapewniającą zachowanie `singleTop`"
   ]
  },
  {
   "cell_type": "code",
   "execution_count": null,
   "id": "04b93f30-97be-42e8-84dd-37cff9a0831b",
   "metadata": {},
   "outputs": [],
   "source": [
    "fun NavHostController.navigateSingleTopTo(route: String) =\n",
    "    this.navigate(route) {\n",
    "        // Pop up to the start destination of the graph to\n",
    "        // avoid building up a large stack of destinations\n",
    "        // on the back stack as users select items\n",
    "        popUpTo(\n",
    "            this@navigateSingleTopTo.graph.findStartDestination().id\n",
    "        ) {\n",
    "            saveState = true\n",
    "        }\n",
    "        // Avoid multiple copies of the same destination when\n",
    "        // reselecting the same item\n",
    "        launchSingleTop = true\n",
    "        // Restore state when reselecting a previously selected item\n",
    "        restoreState = true\n",
    "}"
   ]
  },
  {
   "cell_type": "markdown",
   "id": "28806300-695c-4e33-b2b3-c8e91d508fca",
   "metadata": {},
   "source": [
    "Przed wywołaniem nawigacji, zdefiniowane są pewne ustawienia nawigacji typu:\n",
    "- `popUpTo` Ustala, że należy cofnąć się do startowego celu grafu, aby uniknąć gromadzenia dużej ich liczby na stosie nawigacji. W przypadku nawigacji do nowego celu, stare zostaną usunięte z powrotem do punktu startowego. Ta konfiguracja jest osiągana poprzez wywołanie metody `popUpTo` i przekazanie identyfikatora startowego celu grafu (odnaleziony poprzez `this@navigateSingleTopTo.graph.findStartDestination().id`).\n",
    "- `launchSingleTop` Ustala, że nawigacja do tego samego celiu, która jest już wybrana, nie spowoduje tworzenia nowej instancji tego celu. Zamiast tego, zostanie przywrócona już istniejąca. Ta konfiguracja jest osiągana przez ustawienie wartości `launchSingleTop` na `true`.\n",
    "- `restoreState` Ustala, że stan poprzednio wybranego celu zostanie przywrócony, jeśli ten sam cel zostanie ponownie wybrany. W efekcie, użytkownikowi zostanie przedstawiony ostatni stan tego celu, a nie będzie konieczności budowania nowego stanu. Ta konfiguracja jest osiągana przez ustawienie wartości `restoreState` na `true`."
   ]
  },
  {
   "cell_type": "markdown",
   "id": "8ba4dbb5-3801-417b-9fd1-a3c6443bed32",
   "metadata": {},
   "source": [
    "Ostatnią funkcję w tej części jest `Navigation`, odpowiedzialna za nawigację."
   ]
  },
  {
   "cell_type": "code",
   "execution_count": null,
   "id": "5b0db2f0-c5a4-4c90-95d1-773ca5db47f8",
   "metadata": {},
   "outputs": [],
   "source": [
    "@OptIn(ExperimentalMaterial3Api::class)\n",
    "@Composable\n",
    "fun Navigation(){\n",
    "    val navController = rememberNavController()\n",
    "    val screens = listOf(\n",
    "        Screens.Overview, Screens.Accounts, Screens.Bills\n",
    "    )\n",
    "\n",
    "    val navBackStackEntry by navController.currentBackStackEntryAsState()\n",
    "    val currentDestination = navBackStackEntry?.destination\n",
    "    val currentScreen =\n",
    "        screens.find { it.route == currentDestination?.route } ?: Screens.Overview\n",
    "\n",
    "    Scaffold(\n",
    "        topBar = {\n",
    "            TabRow(\n",
    "                allScreens = screens,\n",
    "                onTabSelected = { newScreen ->\n",
    "                    navController.navigateSingleTopTo(newScreen.route)\n",
    "                },\n",
    "                currentScreen = currentScreen\n",
    "            )\n",
    "        }\n",
    "    ) { paddingValues ->\n",
    "        NavGraph(\n",
    "            navController = navController,\n",
    "            modifier = Modifier.padding(paddingValues)\n",
    "        )\n",
    "    }\n",
    "}"
   ]
  },
  {
   "cell_type": "markdown",
   "id": "7a312b46-4a1f-4bec-8d33-f06f8d50f842",
   "metadata": {},
   "source": [
    "Bieżący ekran (`currentScreen`) odnajdujemy na podstawie wartości `currentDestination` i listy `screens`. Jeżeli nie zostanie znaleziony pasujący ekran, przyjmuje się ekran startowy (`Screens.Overview`). Następnie renderowany jest `Scaffold` z górnym paskiem (`topBar`) zawierającym `TabRow`. Otrzymuje on listę wszystkich dostępnych ekranów (`screens`), funkcję obsługującą zmianę wybranego ekranu (`onTabSelected`) oraz informację o bieżącym ekranie (`currentScreen`). Przy zmianie ekranu wykorzystywana jest funkcja `navController.navigateSingleTopTo()`, która odpowiada za nawigację do nowego ekranu w trybie *single top* - czyli cofnięcie się do punktu startowego nawigacji i uniknięcie duplikacji na stosie nawigacji. Na koniec renderowany jest `NavGraph`, który obsługuje resztę nawigacji w aplikacji. Przekazany jest do niego `navController` oraz `paddingValues` w celu odpowiedniego wcięcia treści w obszarze głównym (`content`) `Scaffold`."
   ]
  },
  {
   "cell_type": "markdown",
   "id": "6b533358-17d3-4e2f-95b5-b20ad2a0d040",
   "metadata": {},
   "source": [
    "<img src=\"https://media0.giphy.com/media/v1.Y2lkPTc5MGI3NjExODA2MDVlNDU5M2Y5MzdlNWQyNjZlODE0YTRjMWRlNDBiYjgzNmVjNSZlcD12MV9pbnRlcm5hbF9naWZzX2dpZklkJmN0PWc/1wWu0Rv6XAYaWhHmQr/giphy.gif\" width=\"200\" />"
   ]
  },
  {
   "cell_type": "code",
   "execution_count": null,
   "id": "86100eab-7e81-4430-a931-6d02a9bf0595",
   "metadata": {},
   "outputs": [],
   "source": []
  }
 ],
 "metadata": {
  "kernelspec": {
   "display_name": "Kotlin",
   "language": "kotlin",
   "name": "kotlin"
  },
  "language_info": {
   "codemirror_mode": "text/x-kotlin",
   "file_extension": ".kt",
   "mimetype": "text/x-kotlin",
   "name": "kotlin",
   "nbconvert_exporter": "",
   "pygments_lexer": "kotlin",
   "version": "1.8.0-RC"
  }
 },
 "nbformat": 4,
 "nbformat_minor": 5
}
