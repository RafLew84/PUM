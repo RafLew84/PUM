{
 "cells": [
  {
   "cell_type": "markdown",
   "id": "1bde08fe-1f87-47c3-9c85-3d06cf8fb52a",
   "metadata": {},
   "source": [
    "## MyHomeBudget"
   ]
  },
  {
   "cell_type": "markdown",
   "id": "334aada1-9496-4cef-9ea4-82281cb43c3c",
   "metadata": {},
   "source": [
    "Aplikacja MyFinance wykorzystuje `TabLayout Navigation` z `ViewPager2`. Dane dostarczymy przez obiekt `dataProvider` zawierający hardcodowane przykładowe pozycje (*dummy data*). Aplikacja zawiera trzy ekrany pokazujące stan oszczędności oraz rachunki - ekran główny zawiera podsumowanie. Dodamy customową animację do `TabLayout.Tab` oraz `DonutChart` podsumowujący stan naszych finansów oraz kilka elementów urozmaicających wygląd naszej aplikacji. Sam layout aplikacji bazuje na przykładzie z **Android Open Project** [link](https://github.com/android/compose-samples/tree/main/Rally) - będzie to wersja aplikacji wcześniej zaimplementowanej w module 1a"
   ]
  },
  {
   "cell_type": "markdown",
   "id": "d4cd49f6-1444-4594-b433-42b0608131ad",
   "metadata": {},
   "source": [
    "<table><tr><td><img src=\"https://media1.giphy.com/media/49RzyXBmRBa59Wi47n/giphy.gif?cid=790b76111b9b9991bd4197bf8d7295e517603d04f8ba2992&rid=giphy.gif&ct=g\" width=\"200\" /></td><td><img src=\"https://media1.giphy.com/media/zbqykvBYncTRQLCAja/giphy.gif?cid=790b7611d47e3d6d46e7b736ac29fe3cc9bc281aed07c1c0&rid=giphy.gif&ct=g\" width=\"200\" /></td><td><img src=\"https://media3.giphy.com/media/BbcDIUyV6IodX2yGVx/giphy.gif?cid=790b7611d1bf2abf7deacc8ad5a71a6a13adfbc9f4344954&rid=giphy.gif&ct=g\" width=\"200\" /></td></tr></table>"
   ]
  },
  {
   "cell_type": "markdown",
   "id": "1858a5e5-e864-4603-a361-b50aa1f70ed3",
   "metadata": {},
   "source": [
    "Rozpocznijmy od dodania zależności do projektu - wykorzystamy `Navigation` oraz będziemy potrzebować dodatkowe ikony w projekcie"
   ]
  },
  {
   "cell_type": "code",
   "execution_count": null,
   "id": "e6d5a473-e0e8-4cac-b1d5-e79cf335fe77",
   "metadata": {},
   "outputs": [],
   "source": [
    "implementation 'androidx.navigation:navigation-compose:2.5.3'\n",
    "implementation \"androidx.compose.material:material-icons-extended:1.4.3\""
   ]
  },
  {
   "cell_type": "markdown",
   "id": "74086cce-664d-4d14-99ce-716760babed4",
   "metadata": {},
   "source": [
    "Nasza aplikacja będzie posiadała zdefiniowany layout tylko w orientacji `portrait`, więc zablookujemy możliwość zmiany w plik `AndroidManifest.xml` - do aktywności dodamy"
   ]
  },
  {
   "cell_type": "code",
   "execution_count": null,
   "id": "e68bb1cd-7b68-41ce-b67b-5f07b0de9538",
   "metadata": {},
   "outputs": [],
   "source": [
    "android:screenOrientation=\"portrait\""
   ]
  },
  {
   "cell_type": "markdown",
   "id": "8117292c-03df-42f7-ae1c-a0105ef8cc11",
   "metadata": {},
   "source": [
    "## Model"
   ]
  },
  {
   "cell_type": "markdown",
   "id": "6c4d919b-bb2e-4c83-8cea-a08662cccb0e",
   "metadata": {},
   "source": [
    "Dodajmy model danych"
   ]
  },
  {
   "cell_type": "code",
   "execution_count": null,
   "id": "6ffbeb92-d0bb-4906-ad3e-d6013efd8019",
   "metadata": {},
   "outputs": [],
   "source": [
    "data class Account(\n",
    "    val name: String,\n",
    "    val number: String,\n",
    "    val amount: Double,\n",
    "    val color: Int\n",
    ")"
   ]
  },
  {
   "cell_type": "code",
   "execution_count": null,
   "id": "35df887f-5f68-4a96-b117-7e209262cd01",
   "metadata": {},
   "outputs": [],
   "source": [
    "data class Bill (\n",
    "    val name: String,\n",
    "    val endDate: LocalDate,\n",
    "    val amount: Double,\n",
    "    val color: Int\n",
    ")"
   ]
  },
  {
   "cell_type": "markdown",
   "id": "dd2448cb-122a-4414-8245-51700967f388",
   "metadata": {},
   "source": [
    "Dane, podobnie jak w poprzednich przykładach, będziemy pobierać z obiektu `DataProvider`"
   ]
  },
  {
   "cell_type": "code",
   "execution_count": null,
   "id": "a343a4c6-2e78-4116-983f-293f959b64e7",
   "metadata": {},
   "outputs": [],
   "source": [
    "object DataProvider {\n",
    "\n",
    "    val accounts = listOf(\n",
    "        Account(\"Home savings\", \"1111111111\", 23456.34, Color.BLUE),\n",
    "        Account(\"Car savings\", \"2222222222\", 126578.99, Color.LTGRAY),\n",
    "        Account(\"Vacation\", \"3457733323\", 9875.12, Color.MAGENTA),\n",
    "        Account(\"Emergency\", \"9488344443\", 10000.77, Color.RED),\n",
    "        Account(\"Healthcare\", \"3243554434\", 12345.00, Color.YELLOW),\n",
    "        Account(\"Shopping\", \"2947560007\", 3456.56, Color.BLACK)\n",
    "    )\n",
    "\n",
    "    val bills = listOf(\n",
    "        Bill(\"Bank Credit\", LocalDate.of(2022, 9,22), 2300.0, Color.BLACK),\n",
    "        Bill(\"Tuition\", LocalDate.of(2023, 2,10), 1200.0, Color.BLUE),\n",
    "        Bill(\"Rent\", LocalDate.of(2022, 8,3), 1023.87, Color.YELLOW),\n",
    "        Bill(\"Loan\", LocalDate.of(2022, 12,22), 334.0, Color.GRAY),\n",
    "        Bill(\"Car Repair\", LocalDate.of(2023, 1,9), 982.38, Color.WHITE),\n",
    "        Bill(\"Dress Loan\", LocalDate.of(2023, 5,18), 243.0, Color.MAGENTA)\n",
    "    )\n",
    "\n",
    "    val totalAccountsAmount = (accounts.indices).sumOf { accounts[it].amount }\n",
    "    val totalBillsAmount = (bills.indices).sumOf { bills[it].amount }\n",
    "}"
   ]
  },
  {
   "cell_type": "markdown",
   "id": "90cf2fec-c5fe-4788-b76a-28ee5c0b02ba",
   "metadata": {},
   "source": [
    "## Nawigacja"
   ]
  },
  {
   "cell_type": "markdown",
   "id": "63dd6c6b-8fba-4f0e-8e29-e8d0e64a9418",
   "metadata": {},
   "source": [
    "Nasz aplikacja składa się z trzech ekranów, dodajmy podstawowy layout"
   ]
  },
  {
   "cell_type": "code",
   "execution_count": null,
   "id": "a7fd1db2-e3cd-45c5-9745-f5c67d94ae4a",
   "metadata": {},
   "outputs": [],
   "source": [
    "@Composable\n",
    "fun AccountsScreen(){\n",
    "    Box(\n",
    "        Modifier\n",
    "            .fillMaxSize(),\n",
    "        contentAlignment = Alignment.Center\n",
    "    ) {\n",
    "        Text(\n",
    "            text = \"First Screen\",\n",
    "            fontSize = 40.sp\n",
    "        )\n",
    "    }\n",
    "}\n",
    "\n",
    "@Preview(showBackground = true)\n",
    "@Composable\n",
    "fun FirstPreview() {\n",
    "    MyHomeBudgetComposeTheme {\n",
    "        AccountsScreen()\n",
    "    }\n",
    "}"
   ]
  },
  {
   "cell_type": "code",
   "execution_count": null,
   "id": "9b7e81e9-dbaa-4a9f-bfea-dc21b878a26e",
   "metadata": {},
   "outputs": [],
   "source": [
    "@Composable\n",
    "fun BillsScreen(){\n",
    "    Box(\n",
    "        Modifier\n",
    "            .fillMaxSize(),\n",
    "        contentAlignment = Alignment.Center\n",
    "    ) {\n",
    "        Text(\n",
    "            text = \"Second Screen\",\n",
    "            fontSize = 40.sp\n",
    "        )\n",
    "    }\n",
    "}\n",
    "\n",
    "@Preview(showBackground = true)\n",
    "@Composable\n",
    "fun SecondPreview() {\n",
    "    MyHomeBudgetComposeTheme {\n",
    "        BillsScreen()\n",
    "    }\n",
    "}"
   ]
  },
  {
   "cell_type": "code",
   "execution_count": null,
   "id": "9d03ccae-4be0-498e-ae86-04071c1b2a6c",
   "metadata": {},
   "outputs": [],
   "source": [
    "@Composable\n",
    "fun OverviewScreen(){\n",
    "    Box(\n",
    "        Modifier\n",
    "            .fillMaxSize(),\n",
    "        contentAlignment = Alignment.Center\n",
    "    ) {\n",
    "        Text(\n",
    "            text = \"Home Screen\",\n",
    "            fontSize = 40.sp\n",
    "        )\n",
    "    }\n",
    "}\n",
    "\n",
    "@Preview(showBackground = true)\n",
    "@Composable\n",
    "fun HomePreview() {\n",
    "    MyHomeBudgetComposeTheme {\n",
    "        OverviewScreen()\n",
    "    }\n",
    "}"
   ]
  },
  {
   "cell_type": "markdown",
   "id": "9c7227b0-09e5-47d0-9beb-0f78e4e8834e",
   "metadata": {},
   "source": [
    "Dodajmy klasę reprezentującą właściwości ekranów"
   ]
  },
  {
   "cell_type": "code",
   "execution_count": null,
   "id": "f186cf34-39cf-4707-a76b-d930a36d7ead",
   "metadata": {},
   "outputs": [],
   "source": [
    "sealed class Screens(\n",
    "    val route: String,\n",
    "    val icon: ImageVector\n",
    ") {\n",
    "    object Overview : Screens(\"overview\", Icons.Filled.AccountBalance)\n",
    "    object Accounts : Screens(\"accounts\", Icons.Filled.AttachMoney)\n",
    "    object Bills : Screens(\"bills\", Icons.Filled.MoneyOff)\n",
    "}"
   ]
  },
  {
   "cell_type": "markdown",
   "id": "9ab74aba-9ed1-4c5a-aca7-326172c2b503",
   "metadata": {},
   "source": [
    "Następnie dodajmy komponenty składowe naszych zakładek, które umieścimy w `topBar` komponentu `Scaffold`. Rozpocznijmy od dodania funkcji pozwalającej na renderowanie pojedynczej zakładki w interfejsie użytkownika. Zakładka może być wybrana lub nieaktywna, a tekst i ikona będą animowane - animacja będzie wyświetlana w zależności od jej stanu."
   ]
  },
  {
   "cell_type": "code",
   "execution_count": null,
   "id": "cbdd80f9-641a-466a-a298-8747bc4bb716",
   "metadata": {},
   "outputs": [],
   "source": [
    "@Composable\n",
    "private fun SingleTab(\n",
    "    text: String,\n",
    "    icon: ImageVector,\n",
    "    onSelected: () -> Unit,\n",
    "    selected: Boolean\n",
    ") {}\n"
   ]
  },
  {
   "cell_type": "markdown",
   "id": "62f11d28-e823-47f7-b4d4-b625f30b78e5",
   "metadata": {},
   "source": [
    "Funkcja przyjmuje następujące parametry:\n",
    "- `text` - tekst wyświetlany na zakładce,\n",
    "- `icon` - ikona wyświetlana na zakładce,\n",
    "- `onSelected` - funkcja wywoływana po wybraniu zakładki,\n",
    "- `selected` - flaga wskazująca, czy zakładka jest wybrana."
   ]
  },
  {
   "cell_type": "code",
   "execution_count": null,
   "id": "c7ca11fd-e63f-42f1-8a30-f3d7bd1f73f2",
   "metadata": {},
   "outputs": [],
   "source": [
    "@Composable\n",
    "private fun SingleTab(\n",
    "    text: String,\n",
    "    icon: ImageVector,\n",
    "    onSelected: () -> Unit,\n",
    "    selected: Boolean\n",
    ") {\n",
    "\n",
    "    val color = MaterialTheme.colorScheme.secondary\n",
    "    val durationMillis = if (selected) TabFadeInAnimationDuration else TabFadeOutAnimationDuration\n",
    "    val animSpec = remember {\n",
    "        tween<Color>(\n",
    "            durationMillis = durationMillis,\n",
    "            easing = LinearEasing,\n",
    "            delayMillis = TabFadeInAnimationDelay\n",
    "        )\n",
    "    }\n",
    "    val tabTintColor by animateColorAsState(\n",
    "        targetValue = if (selected) color else color.copy(alpha = InactiveTabOpacity),\n",
    "        animationSpec = animSpec\n",
    "    )\n",
    "}\n",
    "\n",
    "private val TabHeight = 56.dp\n",
    "private const val InactiveTabOpacity = 0.60f\n",
    "\n",
    "private const val TabFadeInAnimationDuration = 150\n",
    "private const val TabFadeInAnimationDelay = 100\n",
    "private const val TabFadeOutAnimationDuration = 100"
   ]
  },
  {
   "cell_type": "markdown",
   "id": "2394ceaa-a80c-450e-bfaf-25f88181f496",
   "metadata": {},
   "source": [
    "Definijuemy kilka stałych:\n",
    "- `color` - kolor używany do tła i tekstu zakładki, pobierany z `MaterialTheme`,\n",
    "- `durationMillis` - czas trwania animacji dla zakładki, zależny od stanu wybrania zakładki,\n",
    "- `animSpec` - specyfikacja animacji używanej do animowania koloru zakładki,\n",
    "- `tabTintColor` - kolor tła i tekstu zakładki, który jest animowany na podstawie stanu wybrania zakładki.\n",
    "\n",
    "W stałej `animSpec` przechowujemy specyfikację animacji, która zostanie użyta do animowania koloru zakładki. Dzięki zastosowaniu `remember`, specyfikacja animacji jest zapamiętana i nie jest obliczana przy każdym ponownym renderowaniu komponentu. Wewnątrz bloku `remember` tworzymy instancję `tween<Color>`, która jest specyfikacją animacji, działającą na wartości koloru. `tween` to funkcja, która tworzy animację opartą na interpolacji. Przyjmuje ona kilka parametrów:\n",
    "- `durationMillis` - czas trwania animacji w milisekundach,\n",
    "- `easing` - funkcja określająca sposób interpolacji wartości animacji (np. `LinearEasing` dla liniowej interpolacji),\n",
    "- `delayMillis` - opóźnienie animacji przed jej rozpoczęciem w milisekundach.\n",
    "\n",
    "Gdy zostanie uruchomiona animacja zmiany koloru zakładki, wykorzystamy `animSpec` do kontrolowania jej przebiegu.\n",
    "\n",
    "Następnie dodajemy `tabColorTint`, który umożliwia animowanie koloru zakładki na podstawie wartości `selected`. Dzięki użyciu `animateColorAsState` i odpowiedniej specyfikacji animacji (`animSpec`), kolor zakładki płynnie zmienia się wraz ze zmianą stanu. \n",
    "\n",
    "`animateColorAsState` to funkcja, tworząca stan (`State<Color>`), który może być animowany. Przyjmuje ona dwa parametry:\n",
    "- `targetValue` - wartość docelowa, do której kolor ma być animowany. Jeśli `selected` ma wartość `true`, kolor zostanie ustawiony na `color` (`MaterialTheme.colorScheme.secondary`), w przeciwnym razie zostanie użyta kopia `color` z zastosowanym zmniejszeniem przez `InactiveTabOpacity` (wartość przezroczystości dla nieaktywnej zakładki)\n",
    "- `animationSpec` - specyfikacja animacji, która określa czas trwania, opóźnienie i sposób interpolacji animacji.\n",
    "\n",
    "`tabTintColor` jest wartością zwracaną typu `State<Color>`, który reprezentuje bieżącą wartość koloru zakładki. Kiedy wartość `targetValue` zmienia się na skutek animacji, `tabTintColor` również się zmienia, co powoduje ponowne renderowanie komponentu.\n",
    "\n",
    "W komponencie używamy `Row`, który definiuje zawartość i wygląd pojedynczej zakładki."
   ]
  },
  {
   "cell_type": "code",
   "execution_count": null,
   "id": "6ce2ce64-0257-4771-b1e8-03b2cc5d7454",
   "metadata": {},
   "outputs": [],
   "source": [
    "@Composable\n",
    "private fun SingleTab(\n",
    "    text: String,\n",
    "    icon: ImageVector,\n",
    "    onSelected: () -> Unit,\n",
    "    selected: Boolean\n",
    ") {\n",
    "\n",
    "    val color = MaterialTheme.colorScheme.secondary\n",
    "    val durationMillis = if (selected) TabFadeInAnimationDuration else TabFadeOutAnimationDuration\n",
    "    val animSpec = remember {\n",
    "        tween<Color>(\n",
    "            durationMillis = durationMillis,\n",
    "            easing = LinearEasing,\n",
    "            delayMillis = TabFadeInAnimationDelay\n",
    "        )\n",
    "    }\n",
    "    val tabTintColor by animateColorAsState(\n",
    "        targetValue = if (selected) color else color.copy(alpha = InactiveTabOpacity),\n",
    "        animationSpec = animSpec\n",
    "    )\n",
    "    Row(\n",
    "        modifier = Modifier\n",
    "            .padding(16.dp)\n",
    "            .animateContentSize()\n",
    "            .height(TabHeight)\n",
    "            .selectable(\n",
    "                selected = selected,\n",
    "                onClick = onSelected,\n",
    "                role = Role.Tab,\n",
    "                interactionSource = remember { MutableInteractionSource() },\n",
    "                indication = rememberRipple(\n",
    "                    bounded = false,\n",
    "                    radius = Dp.Unspecified,\n",
    "                    color = Color.Unspecified\n",
    "                )\n",
    "            )\n",
    "            .clearAndSetSemantics { contentDescription = text },\n",
    "        content =  {\n",
    "            Icon(imageVector = icon, contentDescription = text, tint = tabTintColor)\n",
    "            if (selected) {\n",
    "                Spacer(Modifier.width(12.dp))\n",
    "                Text(text.uppercase(Locale.getDefault()), color = tabTintColor)\n",
    "            }\n",
    "        }\n",
    "    )\n",
    "}\n",
    "\n",
    "private val TabHeight = 56.dp\n",
    "private const val InactiveTabOpacity = 0.60f\n",
    "\n",
    "private const val TabFadeInAnimationDuration = 150\n",
    "private const val TabFadeInAnimationDelay = 100\n",
    "private const val TabFadeOutAnimationDuration = 100"
   ]
  },
  {
   "cell_type": "markdown",
   "id": "595c50a2-82d1-409e-acf9-17cf778cde6e",
   "metadata": {},
   "source": [
    "W modyfikatorze `Row` `animateContentSize()` animuje zmianę rozmiaru wiersza na podstawie zawartości, `selectable` to modifikator, który umożliwia zaznaczanie wiersza. Przyjmuje kilka parametrów:\n",
    "- `selected` - wartość logiczna, czy dany wiersz jest zaznaczony czy nie,\n",
    "\n",
    "- `onClick` - funkcja wywoływana po kliknięciu wiersza, w tym przypadku wywołuje funkcję `onSelected`, która jest przekazywana jako parametr,\n",
    "\n",
    "- `role` - rola wiersza, w tym przypadku jest to rola `Role.Tab`, co wskazuje na to, że wiersz reprezentuje zakładkę - można nadać zakładce wiele różnych ról: \n",
    "    - `Role.Tab` - rola oznaczająca, że wiersz reprezentuje zakładkę.\n",
    "    - `Role.Button` - rola oznaczająca, że wiersz reprezentuje przycisk.\n",
    "    - `Role.Checkbox` - rola oznaczająca, że wiersz reprezentuje pole wyboru (*checkbox*).\n",
    "    - `Role.RadioButton` - rola oznaczająca, że wiersz reprezentuje przycisk opcji (*radio button*).\n",
    "<br/><br/>\n",
    " \n",
    "- `interactionSource` - źródło interakcji, w tym przypadku jest to nowa instancja `MutableInteractionSource` - jest to źródło interakcji, które może być używane do rejestrowania i odczytywania zdarzeń interakcji. Przechowuje informacje o bieżących stanach interakcji, takich jak naciśnięcie, dotknięcie, przeciągnięcie, wybór itp. Dzięki `MutableInteractionSource` możemy monitorować i reagować na różne zdarzenia interakcji w naszych komponentach Compose. Możemy przekazać MutableInteractionSource do odpowiednich komponentów, takich jak `Clickable`, `Selectable`, `Draggable`, aby obsłużyć i reagować na interakcje użytkownika. Na przykład, możemy śledzić kliknięcia na wiersz, monitorować stan naciśnięcia lub odznaczenia w polu wyboru, itp.\n",
    "\n",
    "- `indication` - efekt wizualny podczas interakcji z wierszem, w tym przypadku używamy efektu *ripple* (falowania) za pomocą funkcji `rememberRipple`. Funkcja ta zwraca obiekt `RippleIndication` zawierający informacje o zdefiniowanym efekcie falowania. Następnie przekazujemy ten obiekt do modifikatora `selectable`.\n",
    "    - `bounded` Określa, czy efekt falowania ma być ograniczony do granic wiersza (`true`), czy ma wypełnić całą przestrzeń wokół wiersza (`false`).\n",
    "    - `radius` Określa promień efektu falowania. Może przyjąć wartość `Dp.Unspecified` dla dynamicznego określenia promienia na podstawie rozmiaru wiersza.\n",
    "    - `color` Określa kolor efektu falowania. Może być używany kolor zdefiniowany wcześniej lub `Color.Unspecified` dla automatycznego dopasowania koloru do motywu.\n",
    "    <br/><br/>\n",
    "- `clearAndSetSemantics` to modifikator, który ustawia opis treści (semantykę) dostępności dla wiersza na wartość `text`, która jest przekazywana jako parametr. Jest używane głównie w celu dostarczenia informacji o dostępności i ułatwienia korzystania z interfejsu użytkownika dla osób korzystających z technologii asystujących.\n",
    "    - Opisy obrazków: Możemy użyć do ustawienia opisu (`contentDescription`) dla obrazków w celu opisania ich zawartości osobom niewidomym lub słabowidzącym.\n",
    "    - Tekst alternatywny dla elementów interaktywnych: Możemy ustawić tekst alternatywny (`contentDescription`) dla elementów interaktywnych, takich jak przyciski lub linki, aby przekazać informację o ich funkcji użytkownikom, którzy nie widzą lub mają trudności z odczytaniem etykiet.\n",
    "    - Dostępność treści: Możemy użyć do dostarczenia informacji o dostępności dla różnych elementów treści, takich jak nagłówki, akapity, listy, tabelki, itp.\n",
    "    </br></br>\n",
    "    \n",
    "- `content` - zawartość wiersza\n",
    "    - `Icon` reprezentuje ikonę zakładki. Przyjmuje trzy parametry:\n",
    "        - `imageVector` Obraz wektorowy (np. ikona), który ma być wyświetlany jako ikona zakładki.\n",
    "        - `contentDescription` Opis treści ikony, który jest przekazywany w celach dostępności.\n",
    "        - `tint` Kolor, który ma być zastosowany do ikony zakładki.\n",
    "        </br></br>\n",
    "    - Warunek `if (selected)` Jest to warunek sprawdzający, czy dany wiersz jest zaznaczony. Jeśli tak, to wyświetlany jest dodatkowy element wiersza.\n",
    "    - `Spacer(Modifier.width(12.dp))` Komponent używany jest do utworzenia pustej przestrzeni pomiędzy ikoną a tekstem.\n",
    "    - `Text` Ten komponent reprezentuje tekst zakładki. Przyjmuje dwa parametry:\n",
    "        - `text` Treść, która ma być wyświetlana jako tekst zakładki.\n",
    "        - `color` Kolor tekstu zakładki.\n",
    "    </br></br>\n",
    "    Oznacza to, że jeśli wiersz jest zaznaczony (selected), zostanie wyświetlony tekst zakładki obok ikony, z odpowiednimi odstępami i kolorem tekstu zdefiniowanym przez tabTintColor. Jeśli wiersz nie jest zaznaczony, tylko ikona zakładki będzie widoczna."
   ]
  },
  {
   "cell_type": "markdown",
   "id": "f3f51fb4-f800-4627-af32-aa7769fb4078",
   "metadata": {},
   "source": [
    "Zdefiniujmy komponent reprezentujący wiersz z zakładkami."
   ]
  },
  {
   "cell_type": "code",
   "execution_count": null,
   "id": "9516f547-cb22-4bd9-80d8-2ed811eb16b6",
   "metadata": {},
   "outputs": [],
   "source": [
    "@Composable\n",
    "fun TabRow(\n",
    "    allScreens: List<Screens>,\n",
    "    onTabSelected: (Screens) -> Unit,\n",
    "    currentScreen: Screens\n",
    ") {\n",
    "    Surface(\n",
    "        Modifier\n",
    "            .height(TabHeight)\n",
    "            .fillMaxWidth()\n",
    "    ) {\n",
    "        Row(Modifier.selectableGroup()) {\n",
    "            allScreens.forEach { screen ->\n",
    "                SingleTab(\n",
    "                    text = screen.route,\n",
    "                    icon = screen.icon,\n",
    "                    onSelected = { onTabSelected(screen) },\n",
    "                    selected = currentScreen == screen\n",
    "                )\n",
    "            }\n",
    "        }\n",
    "    }\n",
    "}"
   ]
  },
  {
   "cell_type": "markdown",
   "id": "335b8348-c3aa-49cf-9510-7c61fbc45635",
   "metadata": {},
   "source": [
    "Komponent ten przyjmuje trzy parametry:\n",
    "- `allScreens` Lista wszystkich dostępnych zakładek (obiektów typu `Screens`).\n",
    "- `onTabSelected` Funkcja, która jest wywoływana po wybraniu zakładki. Przyjmuje jako argument wybraną zakładkę.\n",
    "- `currentScreen` Obecnie wybrana zakładka.\n",
    "\n",
    "\n",
    "Komponent `TabRow` tworzy wiersz zakładek używając komponentów `Surface` i `Row`. Wewnątrz wiersza iteruje po wszystkich zakładkach z listy `allScreens` i dla każdej zakładki renderuje komponent `SingleTab`. `Surface` tworzy powierzchnię, która otacza wiersz zakładek. `Row` tworzy poziomy układ, w którym są renderowane poszczególne zakładki. Używa on również modyfikatora `selectableGroup()`, który umożliwia zaznaczanie jednego elementu wiersza. `onSelected` to funkcja, która jest wywoływana po wybraniu zakładki. `selected` informuje, czy dana zakładka jest obecnie wybrana (porównuje się ją z `currentScreen`).\n",
    "\n",
    "W efekcie, komponent `TabRow` renderuje wiersz zakładek, gdzie każda zakładka jest reprezentowana przez komponent `SingleTab`, a wybrana zakładka ma odpowiednie oznaczenie graficzne. Po kliknięciu na zakładkę wywoływana jest funkcja `onTabSelected` z wybraną zakładką jako argumentem."
   ]
  },
  {
   "cell_type": "markdown",
   "id": "42ad192b-aee3-4ebc-b45c-730de7e4eb0e",
   "metadata": {},
   "source": [
    "Następnie tworzymy nawigację, rozpoczniemy od utworzeniu grafu nawigacji."
   ]
  },
  {
   "cell_type": "code",
   "execution_count": null,
   "id": "a2681c5c-b130-4c8e-be42-8e6c66b656e8",
   "metadata": {},
   "outputs": [],
   "source": [
    "@Composable\n",
    "fun NavGraph(navController: NavHostController, modifier: Modifier){\n",
    "    NavHost(\n",
    "        navController = navController,\n",
    "        startDestination = Screens.Overview.route,\n",
    "        modifier = modifier\n",
    "    ) {\n",
    "        composable(route = Screens.Overview.route){ OverviewScreen() }\n",
    "        composable(route = Screens.Accounts.route){ AccountsScreen() }\n",
    "        composable(route = Screens.Bills.route){ BillsScreen() }\n",
    "    }\n",
    "}"
   ]
  },
  {
   "cell_type": "markdown",
   "id": "00a5af0a-3ada-4dc3-a860-1dd8e73ebe2f",
   "metadata": {},
   "source": [
    "Aby uniknąć problemu gromadzenia dużej liczby ekranów na stosie nawigacji, w miarę wybierania przez użytkowników elementów, dodajmy funkcję rozszerzającą zapewniającą zachowanie `singleTop`"
   ]
  },
  {
   "cell_type": "code",
   "execution_count": null,
   "id": "04b93f30-97be-42e8-84dd-37cff9a0831b",
   "metadata": {},
   "outputs": [],
   "source": [
    "fun NavHostController.navigateSingleTopTo(route: String) =\n",
    "    this.navigate(route) {\n",
    "        // Pop up to the start destination of the graph to\n",
    "        // avoid building up a large stack of destinations\n",
    "        // on the back stack as users select items\n",
    "        popUpTo(\n",
    "            this@navigateSingleTopTo.graph.findStartDestination().id\n",
    "        ) {\n",
    "            saveState = true\n",
    "        }\n",
    "        // Avoid multiple copies of the same destination when\n",
    "        // reselecting the same item\n",
    "        launchSingleTop = true\n",
    "        // Restore state when reselecting a previously selected item\n",
    "        restoreState = true\n",
    "}"
   ]
  },
  {
   "cell_type": "markdown",
   "id": "28806300-695c-4e33-b2b3-c8e91d508fca",
   "metadata": {},
   "source": [
    "Przed wywołaniem nawigacji, zdefiniowane są pewne ustawienia nawigacji typu:\n",
    "- `popUpTo` Ustala, że należy cofnąć się do startowego celu grafu, aby uniknąć gromadzenia dużej ich liczby na stosie nawigacji. W przypadku nawigacji do nowego celu, stare zostaną usunięte z powrotem do punktu startowego. Ta konfiguracja jest osiągana poprzez wywołanie metody `popUpTo` i przekazanie identyfikatora startowego celu grafu (odnaleziony poprzez `this@navigateSingleTopTo.graph.findStartDestination().id`).\n",
    "- `launchSingleTop` Ustala, że nawigacja do tego samego celiu, która jest już wybrana, nie spowoduje tworzenia nowej instancji tego celu. Zamiast tego, zostanie przywrócona już istniejąca. Ta konfiguracja jest osiągana przez ustawienie wartości `launchSingleTop` na `true`.\n",
    "- `restoreState` Ustala, że stan poprzednio wybranego celu zostanie przywrócony, jeśli ten sam cel zostanie ponownie wybrany. W efekcie, użytkownikowi zostanie przedstawiony ostatni stan tego celu, a nie będzie konieczności budowania nowego stanu. Ta konfiguracja jest osiągana przez ustawienie wartości `restoreState` na `true`."
   ]
  },
  {
   "cell_type": "markdown",
   "id": "8ba4dbb5-3801-417b-9fd1-a3c6443bed32",
   "metadata": {},
   "source": [
    "Ostatnią funkcję w tej części jest `Navigation`, odpowiedzialna za nawigację."
   ]
  },
  {
   "cell_type": "code",
   "execution_count": null,
   "id": "5b0db2f0-c5a4-4c90-95d1-773ca5db47f8",
   "metadata": {},
   "outputs": [],
   "source": [
    "@OptIn(ExperimentalMaterial3Api::class)\n",
    "@Composable\n",
    "fun Navigation(){\n",
    "    val navController = rememberNavController()\n",
    "    val screens = listOf(\n",
    "        Screens.Overview, Screens.Accounts, Screens.Bills\n",
    "    )\n",
    "\n",
    "    val navBackStackEntry by navController.currentBackStackEntryAsState()\n",
    "    val currentDestination = navBackStackEntry?.destination\n",
    "    val currentScreen =\n",
    "        screens.find { it.route == currentDestination?.route } ?: Screens.Overview\n",
    "\n",
    "    Scaffold(\n",
    "        topBar = {\n",
    "            TabRow(\n",
    "                allScreens = screens,\n",
    "                onTabSelected = { newScreen ->\n",
    "                    navController.navigateSingleTopTo(newScreen.route)\n",
    "                },\n",
    "                currentScreen = currentScreen\n",
    "            )\n",
    "        }\n",
    "    ) { paddingValues ->\n",
    "        NavGraph(\n",
    "            navController = navController,\n",
    "            modifier = Modifier.padding(paddingValues)\n",
    "        )\n",
    "    }\n",
    "}"
   ]
  },
  {
   "cell_type": "markdown",
   "id": "7a312b46-4a1f-4bec-8d33-f06f8d50f842",
   "metadata": {},
   "source": [
    "Bieżący ekran (`currentScreen`) odnajdujemy na podstawie wartości `currentDestination` i listy `screens`. Jeżeli nie zostanie znaleziony pasujący ekran, przyjmuje się ekran startowy (`Screens.Overview`). Następnie renderowany jest `Scaffold` z górnym paskiem (`topBar`) zawierającym `TabRow`. Otrzymuje on listę wszystkich dostępnych ekranów (`screens`), funkcję obsługującą zmianę wybranego ekranu (`onTabSelected`) oraz informację o bieżącym ekranie (`currentScreen`). Przy zmianie ekranu wykorzystywana jest funkcja `navController.navigateSingleTopTo()`, która odpowiada za nawigację do nowego ekranu w trybie *single top* - czyli cofnięcie się do punktu startowego nawigacji i uniknięcie duplikacji na stosie nawigacji. Na koniec renderowany jest `NavGraph`, który obsługuje resztę nawigacji w aplikacji. Przekazany jest do niego `navController` oraz `paddingValues` w celu odpowiedniego wcięcia treści w obszarze głównym (`content`) `Scaffold`."
   ]
  },
  {
   "cell_type": "markdown",
   "id": "6b533358-17d3-4e2f-95b5-b20ad2a0d040",
   "metadata": {},
   "source": [
    "<img src=\"https://media0.giphy.com/media/v1.Y2lkPTc5MGI3NjExODA2MDVlNDU5M2Y5MzdlNWQyNjZlODE0YTRjMWRlNDBiYjgzNmVjNSZlcD12MV9pbnRlcm5hbF9naWZzX2dpZklkJmN0PWc/1wWu0Rv6XAYaWhHmQr/giphy.gif\" width=\"200\" />"
   ]
  },
  {
   "cell_type": "markdown",
   "id": "a8f99c1d-02ad-4e99-a3f0-e0df95e57834",
   "metadata": {},
   "source": [
    "## Ekran rachunków"
   ]
  },
  {
   "cell_type": "markdown",
   "id": "228ccdeb-4f1c-408b-9362-fdf071810a50",
   "metadata": {},
   "source": [
    "### `DonutChart`"
   ]
  },
  {
   "cell_type": "markdown",
   "id": "ed48708a-6488-4a8e-b68f-9531365ff5d7",
   "metadata": {},
   "source": [
    "Wpierw wycentrujmy zakładki na górnej belce"
   ]
  },
  {
   "cell_type": "code",
   "execution_count": null,
   "id": "35b2f3cf-de03-4ca1-b5d3-b7ebbe3283ed",
   "metadata": {},
   "outputs": [],
   "source": [
    "@Composable\n",
    "fun TabRow(\n",
    "    allScreens: List<Screens>,\n",
    "    onTabSelected: (Screens) -> Unit,\n",
    "    currentScreen: Screens\n",
    ") {\n",
    "    Surface(\n",
    "        Modifier\n",
    "            .height(TabHeight)\n",
    "            .fillMaxWidth()\n",
    "    ) {\n",
    "        Row(Modifier.selectableGroup(), horizontalArrangement = Arrangement.Center) {\n",
    "            allScreens.forEach { screen ->\n",
    "                SingleTab(\n",
    "                    text = screen.route,\n",
    "                    icon = screen.icon,\n",
    "                    onSelected = { onTabSelected(screen) },\n",
    "                    selected = currentScreen == screen\n",
    "                )\n",
    "            }\n",
    "        }\n",
    "    }\n",
    "}"
   ]
  },
  {
   "cell_type": "markdown",
   "id": "3033a028-658d-4671-bbcf-084b44409eed",
   "metadata": {},
   "source": [
    "W komponencie `Row` dodajemy `horizontalArrangement = Arrangement.Center`."
   ]
  },
  {
   "cell_type": "markdown",
   "id": "e57a2c77-66a9-4c54-b841-e115edfc9339",
   "metadata": {},
   "source": [
    "<img src=\"https://media4.giphy.com/media/v1.Y2lkPTc5MGI3NjExZTBmNjI3ODUxYWQ3MDg2YWEzZGY5NjA5MTM2ZmMxMTUzYjVkOTE0NSZlcD12MV9pbnRlcm5hbF9naWZzX2dpZklkJmN0PWc/biWp9vC7NmqrepkLXg/giphy.gif\" width=\"200\" />"
   ]
  },
  {
   "cell_type": "markdown",
   "id": "b5aac0d6-9246-4a09-91c6-3668158d900f",
   "metadata": {},
   "source": [
    "Następnie zmodyfikujmy nieco nasz model danych."
   ]
  },
  {
   "cell_type": "code",
   "execution_count": null,
   "id": "544f5644-0db0-470b-97b6-07e71b7faabc",
   "metadata": {},
   "outputs": [],
   "source": [
    "import androidx.compose.ui.graphics.Color\n",
    "import java.time.LocalDate\n",
    "\n",
    "data class Bill (\n",
    "    val name: String,\n",
    "    val endDate: LocalDate,\n",
    "    val amount: Double,\n",
    "    val color: Color\n",
    ")"
   ]
  },
  {
   "cell_type": "code",
   "execution_count": null,
   "id": "ff8c15c7-4a90-4a48-a09b-4a14fcdb9fea",
   "metadata": {},
   "outputs": [],
   "source": [
    "import androidx.compose.ui.graphics.Color\n",
    "\n",
    "data class Account(\n",
    "    val name: String,\n",
    "    val number: String,\n",
    "    val amount: Double,\n",
    "    val color: Color\n",
    ")"
   ]
  },
  {
   "cell_type": "markdown",
   "id": "12107f86-adda-4bd3-9f1f-caebcc27fb51",
   "metadata": {},
   "source": [
    "Pole `color` jest typu `Color` z biblioteki `compose.ui.graphics.Color`, zamiast typu `Int` z biblioteki `graphics` - również musimy zmienić nazwy kolorów w `DataProvider`"
   ]
  },
  {
   "cell_type": "code",
   "execution_count": null,
   "id": "af6195bb-ddf0-4b93-9af4-4ff7f1d92253",
   "metadata": {},
   "outputs": [],
   "source": [
    "object DataProvider {\n",
    "\n",
    "    val accounts = listOf(\n",
    "        Account(\"Home savings\", \"1111111111\", 23456.34, Color.Blue),\n",
    "        Account(\"Car savings\", \"2222222222\", 126578.99, Color.LightGray),\n",
    "        Account(\"Vacation\", \"3457733323\", 9875.12, Color.Magenta),\n",
    "        Account(\"Emergency\", \"9488344443\", 10000.77, Color.Red),\n",
    "        Account(\"Healthcare\", \"3243554434\", 12345.00, Color.Yellow),\n",
    "        Account(\"Shopping\", \"2947560007\", 3456.56, Color.Black)\n",
    "    )\n",
    "\n",
    "    val bills = listOf(\n",
    "        Bill(\"Bank Credit\", LocalDate.of(2022, 9,22), 2300.0, Color.Black),\n",
    "        Bill(\"Tuition\", LocalDate.of(2023, 2,10), 1200.0, Color.Blue),\n",
    "        Bill(\"Rent\", LocalDate.of(2022, 8,3), 1023.87, Color.Yellow),\n",
    "        Bill(\"Loan\", LocalDate.of(2022, 12,22), 334.0, Color.Gray),\n",
    "        Bill(\"Car Repair\", LocalDate.of(2023, 1,9), 982.38, Color.White),\n",
    "        Bill(\"Dress Loan\", LocalDate.of(2023, 5,18), 243.0, Color.Magenta)\n",
    "    )\n",
    "\n",
    "    val totalAccountsAmount = (accounts.indices).sumOf { accounts[it].amount }\n",
    "    val totalBillsAmount = (bills.indices).sumOf { bills[it].amount }\n",
    "}"
   ]
  },
  {
   "cell_type": "markdown",
   "id": "5fb4343c-af41-4c62-8783-823100cb0ca2",
   "metadata": {},
   "source": [
    "Możemy przystąpić do tworzenia layoutu dla ekranu prezentującego rachunki. Rozpoczniemy od `DonutChart`. Wykorzystamy proste animacje. Efekt końcowy będzie prezentował się następująco:"
   ]
  },
  {
   "cell_type": "markdown",
   "id": "08f2e813-8bb2-4c69-abd4-1fa96ae637db",
   "metadata": {},
   "source": [
    "<img src=\"https://media1.giphy.com/media/v1.Y2lkPTc5MGI3NjExMGUxOTU0ZDE2NzgzZjljZjgwN2QzMzdlYTI1OThmZTYzNjgyY2M0MSZlcD12MV9pbnRlcm5hbF9naWZzX2dpZklkJmN0PWc/SsomlDGvA15rM2M2nz/giphy.gif\" width=\"200\" />"
   ]
  },
  {
   "cell_type": "markdown",
   "id": "7a743e15-44c3-4668-90b2-d196e759cb42",
   "metadata": {},
   "source": [
    "Rozpocznijmy od utworzenia komponentu `AnimatedCircle`"
   ]
  },
  {
   "cell_type": "code",
   "execution_count": null,
   "id": "46ac5680-f81f-42ce-a35e-9c0d39c7f676",
   "metadata": {},
   "outputs": [],
   "source": [
    "@Composable\n",
    "fun AnimatedCircle(\n",
    "    proportions: List<Float>,\n",
    "    colors: List<Color>,\n",
    "    modifier: Modifier = Modifier\n",
    ") {}"
   ]
  },
  {
   "cell_type": "markdown",
   "id": "5df5d22c-2758-499f-b0ee-f7e12ea6e2a0",
   "metadata": {},
   "source": [
    "Funkcja przyjmuje listę liczb `Float` - są to proporcje naszego `DonutChart` (gdy przekażemy listę `listOf(0.5f, 0.5f)` okrąg zostanie podzielony na dwa obszary o róznych proporcjach), proporcje muszą sumować się do `1.0`. Drugim parametrem jest lista kolorów, które zostaną wykorzystane do narysowania okręgu. Ostatnim parametrem jest `Modifier` dzięki któremu możemy zmodyfikować wygląd i zachowanie.\n",
    "\n",
    "Następnie tworzymy `currentState` przy użyciu `remember`, który przechowuje stan przejścia animacji."
   ]
  },
  {
   "cell_type": "code",
   "execution_count": null,
   "id": "e1156d78-7dd5-41a4-883a-3d86b8f9cd21",
   "metadata": {},
   "outputs": [],
   "source": [
    "val currentState = remember {\n",
    "    MutableTransitionState(AnimatedCircleProgress.START)\n",
    "        .apply { targetState = AnimatedCircleProgress.END }\n",
    "}"
   ]
  },
  {
   "cell_type": "markdown",
   "id": "da93d115-cfc9-4277-907d-a16fe3ca233b",
   "metadata": {},
   "source": [
    "Tworzymy nowy obiekt `MutableTransitionState` i przekazujemy do niego początkowy stan animacji (`AnimatedCircleProgress.START`). Następnie wywołujemy funkcję `apply` na tym obiekcie i ustawiamy docelowy stan animacji na `AnimatedCircleProgress.END`.\n",
    "\n",
    "`MutableTransitionState` umożliwia kontrolowanie przejścia między stanami za pomocą metod `targetState` (ustawia docelowy stan animacji) i `animateTo` (uruchamia animację między bieżącym a docelowym stanem). W tym przypadku, przy użyciu `remember`, zapamiętujemy ten obiekt, aby zachować jego stan pomiędzy kolejnymi renderowaniami.\n",
    "\n",
    "Potrzebujemy również obiekt `Stroke` do reprezentowania linii rysowanego okręgu."
   ]
  },
  {
   "cell_type": "code",
   "execution_count": null,
   "id": "5b763bd3-7998-4736-89e6-adee1b8e7f31",
   "metadata": {},
   "outputs": [],
   "source": [
    "val stroke = with(LocalDensity.current) { Stroke(8.dp.toPx()) }"
   ]
  },
  {
   "cell_type": "markdown",
   "id": "2cdae33a-d5f8-4872-98fb-a6a8c2ae6812",
   "metadata": {},
   "source": [
    "Tworzymy obiekt `Stroke` z grubością linii `8 dp`. Aby przeliczyć wartość na piksele, korzystamy z `LocalDensity.current`, który dostarcza informacji o aktualnej gęstości ekranu.\n",
    "\n",
    "W kolejnym kroku tworzymy obiekt `Transition`, jest to mechanizm, który umożliwia animowanie między różnymi stanami. Pozwala na płynne przejście pomiędzy dwoma stanami i kontrolowanie animacji na podstawie tych stanów. Dzięki tej klasie, można tworzyć interaktywne animacje, które reagują na zmiany stanów aplikacji, takie jak kliknięcia, zmiana danych itp. za pomocą jej metod. Składniki klasy:\n",
    "\n",
    "- `State` - Reprezentuje bieżący stan animacji. Może to być pojedyncza wartość, lista wartości lub bardziej zaawansowane modele stanu.\n",
    "- `Animation` - Definiuje sposób, w jaki animacja ma być wykonywana. Określa czas trwania, krzywą animacji, opóźnienie itp.\n",
    "- `Target Values` - Określa docelowe wartości, do których animacja ma zmierzać. Może to być wartość pojedyncza, lista wartości lub funkcja transformująca wartość."
   ]
  },
  {
   "cell_type": "code",
   "execution_count": null,
   "id": "3c00f9e7-8c17-409f-966a-59e24d0a9656",
   "metadata": {},
   "outputs": [],
   "source": [
    "val transition = updateTransition(currentState, label = \"\")"
   ]
  },
  {
   "cell_type": "markdown",
   "id": "07131dfe-d487-48ed-8cbb-526da71b9caa",
   "metadata": {},
   "source": [
    "Metoda `updateTransition` tworzy `Transition` i umieszcza go w bieżącym stanie (`currentState`) dostarczonego `transitionState`. Za każdym razem, gdy `targetState` stanu `transitionState` ulega zmianie, `Transition` zostanie animowany do nowego stanu docelowego."
   ]
  },
  {
   "cell_type": "markdown",
   "id": "673f8794-4e65-4d22-9c81-0de7b882acab",
   "metadata": {},
   "source": [
    "W bloku `Canvas`, rysowany jest będzie nasz wykres na podstawie obliczonych wartości `angleOffset` i `shift`. \n",
    "- `angleOffset` określa kąt, o który przesunięte są poszczególne sekcje wykresu w trakcie animacji. \n",
    "- `shift` określa przesunięcie kątowe całego wykresu."
   ]
  },
  {
   "cell_type": "markdown",
   "id": "0aeb38f0-0eee-40f6-905d-17542f1680ab",
   "metadata": {},
   "source": [
    "W kolejnym kroku zdefiniujmy wartość `angleOffset`"
   ]
  },
  {
   "cell_type": "code",
   "execution_count": null,
   "id": "2b8d0da4-1804-4014-a96c-d5f2a7e15d93",
   "metadata": {},
   "outputs": [],
   "source": [
    "val angleOffset by transition.animateFloat(\n",
    "    transitionSpec = {\n",
    "        tween(\n",
    "            delayMillis = 500,\n",
    "            durationMillis = 900,\n",
    "            easing = LinearOutSlowInEasing\n",
    "        )\n",
    "    }, label = \"\"\n",
    ") { progress -> if (progress == AnimatedCircleProgress.START) 0f else 360f }"
   ]
  },
  {
   "cell_type": "markdown",
   "id": "bab6d00c-f12b-4088-8b3d-eeea21f5425a",
   "metadata": {},
   "source": [
    "Definiujemy wartość `angleOffset` przy użyciu funkcji `animateFloat` dostępnej na obiekcie `transition`. Jest zdefiniowana przy użyciu specyfikacji `transitionSpec`, która określa opóźnienie, czas trwania i krzywą przejścia animacji.\n",
    "\n",
    "`angleOffset` jest animowana od wartości początkowej do wartości końcowej w zależności od postępu animacji wykresu. Jeśli progres jest równy `AnimatedCircleProgress.START`, `angleOffset` przyjmuje wartość `0f`, a w przeciwnym razie przyjmuje wartość `360f`. Cała animacja będzie trwała `900` milisekund, z opóźnieniem `500` milisekund, i zostanie zastosowana krzywa przejścia `LinearOutSlowInEasing`.\n",
    "\n",
    "`LinearOutSlowInEasing` to krzywa przejścia animacji, która początkowo przyspiesza liniowo, a następnie stopniowo zwalnia, tworząc efekt płynnego zatrzymywania animacji. Oznacza to, że na początku animacji obiekt będzie poruszał się równomiernie, a potem stopniowo zwalnia, dając efekt płynnego zakończenia animacji."
   ]
  },
  {
   "cell_type": "markdown",
   "id": "c691c840-cb17-4dee-8341-4a1190049125",
   "metadata": {},
   "source": [
    "Zdefiniujmy wartość `shift`"
   ]
  },
  {
   "cell_type": "code",
   "execution_count": null,
   "id": "2e42e2a8-c042-4f37-90a3-5a7bcefcf30f",
   "metadata": {},
   "outputs": [],
   "source": [
    "val shift by transition.animateFloat(\n",
    "    transitionSpec = {\n",
    "        tween(\n",
    "            delayMillis = 500,\n",
    "            durationMillis = 900,\n",
    "            easing = CubicBezierEasing(0f, 0.75f, 0.35f, 0.85f)\n",
    "        )\n",
    "    }, label = \"\"\n",
    ") { progress -> if (progress == AnimatedCircleProgress.START) 0f else 30f }"
   ]
  },
  {
   "cell_type": "markdown",
   "id": "555cdda1-bd36-4163-bfbb-fae1ca94c2a8",
   "metadata": {},
   "source": [
    "`shift` jest wartością liczby zmiennoprzecinkowej, która jest kontrolowana przez `transition`. Wartość ta zmienia się w czasie, w zależności od wartości `progress` w `transition`. `transition.animateFloat()` tworzy animację dla zmiennej `shift`. `transitionSpec` definiuje specyfikację przejścia, czyli sposób, w jaki wartość `shift` zmienia się w czasie. W tym przypadku użyto funkcji `tween()`, która definiuje animację o opóźnieniu `500` milisekund, trwającej `900` milisekund i korzystającej z funkcji `CubicBezierEasing()`.\n",
    "\n",
    "Funkcja `tween` służy do definiowania interpolacji animacji. Przyjmuje ona parametry: czas trwania animacji, opóźnienie, funkcję interpolacji, oraz ewentualne wartości początkowe i końcowe animacji. Głównym zadaniem funkcji jest określenie, w jaki sposób wartość animowanej właściwości zmienia się w czasie. Może to być płynne przejście pomiędzy dwoma wartościami, efekt opóźnienia, przyspieszenie, zwolnienie, lub dowolna inna nieliniowa zmiana wartości.\n",
    "\n",
    "`CubicBezierEasing()` to funkcja, która tworzy krzywą *Bezierową* o podanych punktach kontrolnych. W tym przypadku użyto wartości (`0f, 0.75f, 0.35f, 0.85f`) jako punkty kontrolne. Ta krzywa przejścia daje efekt, w którym animacja przyspiesza na początku, a następnie zwalnia stopniowo. Jeśli progress ma wartość `AnimatedCircleProgress.START`, to shift wynosi `0f`, w przeciwnym razie wynosi `30f`. Oznacza to, że wartość shift zależy od aktualnej wartości progress i zostanie odpowiednio animowana przez transition."
   ]
  },
  {
   "cell_type": "markdown",
   "id": "2e4cdc81-b297-418b-aa14-8b754065c72f",
   "metadata": {},
   "source": [
    "Pozostaje wykorzystać utworzone elementy i zdefiniować obiekt `Canvas`. Wewnątrz bloku `Canvas` można używać różnych metod rysujących, takich jak `drawLine`, `drawRect`, `drawCircle`, `drawPath`, które pozwalają na tworzenie różnych kształtów i figur geometrycznych."
   ]
  },
  {
   "cell_type": "code",
   "execution_count": null,
   "id": "7b2fbc55-e237-4fd9-a02c-2b40f2934e46",
   "metadata": {},
   "outputs": [],
   "source": [
    "Canvas(modifier) {\n",
    "    val innerRadius = (size.minDimension - stroke.width) / 2\n",
    "    val halfSize = size / 2.0f\n",
    "    val topLeft = Offset(\n",
    "        halfSize.width - innerRadius,\n",
    "        halfSize.height - innerRadius\n",
    "    )\n",
    "    val size = Size(innerRadius * 2, innerRadius * 2)\n",
    "    var startAngle = shift - 90f\n",
    "    proportions.forEachIndexed { index, proportion ->\n",
    "        val sweep = proportion * angleOffset\n",
    "        drawArc(\n",
    "            color = colors[index],\n",
    "            startAngle = startAngle + DividerLengthInDegrees / 2,\n",
    "            sweepAngle = sweep - DividerLengthInDegrees,\n",
    "            topLeft = topLeft,\n",
    "            size = size,\n",
    "            useCenter = false,\n",
    "            style = stroke\n",
    "        )\n",
    "        startAngle += sweep\n",
    "    }\n",
    "}"
   ]
  },
  {
   "cell_type": "code",
   "execution_count": null,
   "id": "958e3e38-97d8-4c3c-9c12-d09da30af32f",
   "metadata": {},
   "outputs": [],
   "source": [
    "private enum class AnimatedCircleProgress { START, END }\n",
    "private const val DividerLengthInDegrees = 1.8f"
   ]
  },
  {
   "cell_type": "markdown",
   "id": "0c1ad1e3-e81d-4249-8b20-3c994be62688",
   "metadata": {},
   "source": [
    "Wartość `innerRadius` reprezentuje promień wewnętrznego okręgu, na którym będą rysowane łuki. Jest obliczany na podstawie minimalnego wymiaru `canvas` (`size.minDimension`) i szerokości linii (`stroke.width`). `halfSize` to połowa rozmiaru, a `topLeft` to punkt początkowy dla rysowania łuków. Są one obliczane na podstawie `halfSize.width`, `halfSize.height` oraz `innerRadius`. \n",
    "\n",
    "Obiekt `size` reprezentuje wymiary prostokąta, w którym będą rysowane łuki. Jego szerokość i wysokość wynoszą `innerRadius * 2`, co daje kwadratowy obszar o boku równym średnicy wewnętrznego okręgu. `startAngle` to kąt początkowy dla pierwszego łuku. Jest to zmienna, która zmienia się w każdej iteracji pętli, a jej wartość jest aktualizowana na podstawie `shift`. Pętla `proportions.forEachIndexed` iteruje po elementach listy `proportions`, która zawiera proporcje dla poszczególnych łuków. W każdej iteracji obliczany jest `sweep`, czyli kąt, na jaki łuk zostanie narysowany, na podstawie `proportion` i `angleOffset`.\n",
    "\n",
    "Metoda `drawArc` służy do rysowania łuku. Po narysowaniu łuku, `startAngle` jest aktualizowany przez dodanie do niego wartości `sweep`. To umożliwia rysowanie kolejnych łuków w odpowiednich pozycjach."
   ]
  },
  {
   "cell_type": "markdown",
   "id": "79b33007-2396-4dde-b433-6592b8f70d89",
   "metadata": {},
   "source": [
    "Pełny kod:"
   ]
  },
  {
   "cell_type": "code",
   "execution_count": null,
   "id": "2dc7ec9f-4ac6-405e-8914-da37ab467096",
   "metadata": {},
   "outputs": [],
   "source": [
    "private const val DividerLengthInDegrees = 1.8f\n",
    "\n",
    "/**\n",
    " * A donut chart that animates when loaded.\n",
    " */\n",
    "@Composable\n",
    "fun AnimatedCircle(\n",
    "    proportions: List<Float>,\n",
    "    colors: List<Color>,\n",
    "    modifier: Modifier = Modifier\n",
    ") {\n",
    "    val currentState = remember {\n",
    "        MutableTransitionState(AnimatedCircleProgress.START)\n",
    "            .apply { targetState = AnimatedCircleProgress.END }\n",
    "    }\n",
    "    val stroke = with(LocalDensity.current) { Stroke(8.dp.toPx()) }\n",
    "    val transition = updateTransition(currentState, label = \"\")\n",
    "    val angleOffset by transition.animateFloat(\n",
    "        transitionSpec = {\n",
    "            tween(\n",
    "                delayMillis = 500,\n",
    "                durationMillis = 900,\n",
    "                easing = LinearOutSlowInEasing\n",
    "            )\n",
    "        }, label = \"\"\n",
    "    ) { progress -> if (progress == AnimatedCircleProgress.START) 0f else 360f }\n",
    "\n",
    "    val shift by transition.animateFloat(\n",
    "        transitionSpec = {\n",
    "            tween(\n",
    "                delayMillis = 500,\n",
    "                durationMillis = 900,\n",
    "                easing = CubicBezierEasing(0f, 0.75f, 0.35f, 0.85f)\n",
    "            )\n",
    "        }, label = \"\"\n",
    "    ) { progress -> if (progress == AnimatedCircleProgress.START) 0f else 30f }\n",
    "\n",
    "    Canvas(modifier) {\n",
    "        val innerRadius = (size.minDimension - stroke.width) / 2\n",
    "        val halfSize = size / 2.0f\n",
    "        val topLeft = Offset(\n",
    "            halfSize.width - innerRadius,\n",
    "            halfSize.height - innerRadius\n",
    "        )\n",
    "        val size = Size(innerRadius * 2, innerRadius * 2)\n",
    "        var startAngle = shift - 90f\n",
    "        proportions.forEachIndexed { index, proportion ->\n",
    "            val sweep = proportion * angleOffset\n",
    "            drawArc(\n",
    "                color = colors[index],\n",
    "                startAngle = startAngle + DividerLengthInDegrees / 2,\n",
    "                sweepAngle = sweep - DividerLengthInDegrees,\n",
    "                topLeft = topLeft,\n",
    "                size = size,\n",
    "                useCenter = false,\n",
    "                style = stroke\n",
    "            )\n",
    "            startAngle += sweep\n",
    "        }\n",
    "    }\n",
    "}\n",
    "private enum class AnimatedCircleProgress { START, END }\n"
   ]
  },
  {
   "cell_type": "markdown",
   "id": "330a995d-5e21-4fe5-8f5a-607dfb4d06c2",
   "metadata": {},
   "source": [
    "### Generic Composable"
   ]
  },
  {
   "cell_type": "markdown",
   "id": "c753d4de-0f45-49b6-a807-d65240653ed1",
   "metadata": {},
   "source": [
    "Ponieważ ekrany prezentujące rachunki oraz stan kont wyglądają podobnie - zawierają `DonutChart` i pod nim listę elementów - utworzymy komponent generyczny, który wykorzystamy na obu ekranach."
   ]
  },
  {
   "cell_type": "code",
   "execution_count": null,
   "id": "fc909156-74bc-4787-a013-932502c2b314",
   "metadata": {},
   "outputs": [],
   "source": [
    "@Composable\n",
    "fun <T> StatementBody(\n",
    "    modifier: Modifier = Modifier,\n",
    "    items: List<T>,\n",
    "    colors: (T) -> Color,\n",
    "    amounts: (T) -> Float,\n",
    "    amountsTotal: Float,\n",
    "    circleLabel: String,\n",
    "    rows: @Composable (T) -> Unit\n",
    ") {"
   ]
  },
  {
   "cell_type": "markdown",
   "id": "a29c702d-4076-482d-87f7-9ff608e4c87d",
   "metadata": {},
   "source": [
    "Parametry funkcji `StatementBody`:\n",
    "- `modifier` - opcjonalny parametr, który umożliwia dostosowanie modifikatorów dla sekcji.\n",
    "- `items` - lista elementów, które będą wyświetlane w sekcji.\n",
    "- `colors` - funkcja, która na podstawie elementu `T` zwraca kolor, który będzie używany do stylizacji danego elementu.\n",
    "- `amounts` - funkcja, która na podstawie elementu `T` zwraca wartość liczbową reprezentującą kwotę danego elementu.\n",
    "- `amountsTotal` - suma wszystkich wartości liczbowych dla wszystkich elementów na liście.\n",
    "- `circleLabel` - etykieta, która będzie wyświetlana w okręgu.\n",
    "- `rows` - funkcja komponująca, która definiuje sposób wyświetlania pojedynczego elementu `T` na liście."
   ]
  },
  {
   "cell_type": "markdown",
   "id": "4631eb8f-0025-4c38-b165-80b55f8027a4",
   "metadata": {},
   "source": [
    "Rozpocznijmy od zdefiniowania `Column` w którym umieścimy `DonutChart` i pod nim listę elementów."
   ]
  },
  {
   "cell_type": "code",
   "execution_count": null,
   "id": "0237ef6b-7403-4b81-a5b8-97743792fe16",
   "metadata": {},
   "outputs": [],
   "source": [
    "Column(modifier = modifier.verticalScroll(rememberScrollState())) {"
   ]
  },
  {
   "cell_type": "markdown",
   "id": "737e7390-aa2c-46a2-af22-58af9f44970e",
   "metadata": {},
   "source": [
    "Tutaj zastosujemy modifikator `verticalScroll(rememberScrollState())`, który umożliwia przewijanie wertykalne (pionowe) dla zawartości kolumny. `rememberScrollState()` jest funkcją, która tworzy i przechowuje wewnętrzny stan przewijania dla komponentu, co pozwala na kontrolowanie przewijania wertykalnego wewnątrz `Column`. Wszystkie elementy zawarte wewnątrz `Column` będą wyświetlane pionowo, a jeśli zawartość przekracza dostępną przestrzeń, użytkownik będzie mógł przewijać ją wertykalnie."
   ]
  },
  {
   "cell_type": "markdown",
   "id": "89e7b9a2-e568-4a87-9b71-451db5fecc44",
   "metadata": {},
   "source": [
    "Nasz `DonutChart` wraz z dwoma polami tekstowymi umieścimy wewnątrz `Box`. Pola tekstowe będą wyświetlać aktualną sumę wszystkich elementów listy, które będą pokazane na `DonutChart`"
   ]
  },
  {
   "cell_type": "code",
   "execution_count": null,
   "id": "2f5f1746-c0e4-4b44-9357-145f77f413be",
   "metadata": {},
   "outputs": [],
   "source": [
    "Box(Modifier.padding(16.dp)) {\n",
    "    val accountsProportion = items.extractProportions { amounts(it) }\n",
    "    val circleColors = items.map { colors(it) }\n",
    "    AnimatedCircle(\n",
    "        accountsProportion,\n",
    "        circleColors,\n",
    "        Modifier\n",
    "            .height(300.dp)\n",
    "            .align(Alignment.Center)\n",
    "            .fillMaxWidth()\n",
    "    )\n",
    "    Column(modifier = Modifier.align(Alignment.Center)) {\n",
    "        Text(\n",
    "            text = circleLabel,\n",
    "            modifier = Modifier.align(Alignment.CenterHorizontally),\n",
    "            fontSize = 20.sp\n",
    "        )\n",
    "        Text(\n",
    "            text = (\"- ${formatter.format(amountsTotal)} zł\"),\n",
    "            modifier = Modifier.align(Alignment.CenterHorizontally),\n",
    "            fontSize = 36.sp\n",
    "        )\n",
    "    }\n",
    "}"
   ]
  },
  {
   "cell_type": "markdown",
   "id": "16f0131d-0122-44b6-9536-6fad73d93a8f",
   "metadata": {},
   "source": [
    "Na podstawie przekazanych elementów `items`, obliczane są proporcje kont/rachunków i tworzone są kolory dla `DonutChart`. "
   ]
  },
  {
   "cell_type": "code",
   "execution_count": null,
   "id": "700e4215-c69b-4268-b460-f7c60ff7b037",
   "metadata": {},
   "outputs": [],
   "source": [
    "val accountsProportion = items.extractProportions { amounts(it) }"
   ]
  },
  {
   "cell_type": "markdown",
   "id": "6640e6ce-bfef-4c58-b9be-622d8cceb55f",
   "metadata": {},
   "source": [
    "Funkcja `extractProportions` przyjmuje jako argument funkcję selektora, która określa, jaką wartość liczbową należy wybrać dla każdego elementu listy. Na podstawie tej wartości zostaną obliczone proporcje."
   ]
  },
  {
   "cell_type": "code",
   "execution_count": null,
   "id": "1a67a1db-200a-405e-9597-f36f03ce755c",
   "metadata": {},
   "outputs": [],
   "source": [
    "fun <E> List<E>.extractProportions(selector: (E) -> Float): List<Float> {\n",
    "    val total = this.sumOf { selector(it).toDouble() }\n",
    "    return this.map { (selector(it) / total).toFloat() }\n",
    "}"
   ]
  },
  {
   "cell_type": "markdown",
   "id": "56505339-ce05-4453-adb7-5daea83d8f7c",
   "metadata": {},
   "source": [
    "Funkcja sumuje wszystkie wartości liczbowe dla wszystkich elementów listy przy użyciu `sumOf` i przypisuje tę wartość do zmiennej `total`. Następnie, dla każdego elementu listy, funkcja dzieli wartość liczbową wybraną przez selektor przez sumę wszystkich wartości i przekształca ją na typ `Float`. Wynikowe proporcje są zwracane jako nowa lista."
   ]
  },
  {
   "cell_type": "markdown",
   "id": "4eb90ee3-05b2-469e-99c0-89ee7acf4a78",
   "metadata": {},
   "source": [
    "Komponent `AnimatedCircle` otrzymuje te proporcje i kolory, a także modifikator `Modifier.height(300.dp).align(Alignment.Center).fillMaxWidth()`, który nadaje mu wysokość `300` dp, wyśrodkowuje go w pionie i rozciąga na maksymalną szerokość dostępną w kontenerze.\n",
    "\n",
    "Wewnątrz `Box` znajduje się również `Column`, który jest wyśrodkowany w pionie przy pomocy modifikatora `Modifier.align(Alignment.Center)`. Wewnątrz znajdują się dwie etykiety tekstowe `Text`. Pierwsza etykieta wyświetla wartość `circleLabel` i jest wyśrodkowana w poziomie. Druga etykieta wyświetla wartość - `${formatter.format(amountsTotal)} zł` (gdzie formatter to obiekt odpowiedzialny za formatowanie liczby)."
   ]
  },
  {
   "cell_type": "code",
   "execution_count": null,
   "id": "23ac0a8a-6b9f-4961-9abf-70a80d4711dd",
   "metadata": {},
   "outputs": [],
   "source": [
    "val formatter: NumberFormat = DecimalFormat(\"#,###.##\")"
   ]
  },
  {
   "cell_type": "markdown",
   "id": "811b80af-14ca-4782-ba63-f1267aaa6186",
   "metadata": {},
   "source": [
    "Następnie dodamy odstęp między `DonutChart` a listą za pomocą `Spacer`"
   ]
  },
  {
   "cell_type": "code",
   "execution_count": null,
   "id": "1b1917cf-1657-40cb-93d3-e62df277e4d0",
   "metadata": {},
   "outputs": [],
   "source": [
    "Spacer(Modifier.height(10.dp))"
   ]
  },
  {
   "cell_type": "markdown",
   "id": "2d8ce9d7-30de-4a92-8eff-b96ab7d10b9f",
   "metadata": {},
   "source": [
    "Listę elementów wyświetlimy w `Column`, który będzie umieszczony w `Card`"
   ]
  },
  {
   "cell_type": "code",
   "execution_count": null,
   "id": "ed7e90fd-5479-4e6f-9b3a-28d5f56dcdde",
   "metadata": {},
   "outputs": [],
   "source": [
    "Card {\n",
    "    Column(modifier = Modifier.padding(12.dp)) {\n",
    "        items.forEach { item ->\n",
    "            rows(item)\n",
    "        }\n",
    "    }"
   ]
  },
  {
   "cell_type": "markdown",
   "id": "917859b5-467b-4618-9b20-31151c6332d5",
   "metadata": {},
   "source": [
    "Pełny kod:"
   ]
  },
  {
   "cell_type": "code",
   "execution_count": null,
   "id": "7f8d92a4-b828-4d94-803e-1554e600e27f",
   "metadata": {},
   "outputs": [],
   "source": [
    "@Composable\n",
    "fun <T> StatementBody(\n",
    "    modifier: Modifier = Modifier,\n",
    "    items: List<T>,\n",
    "    colors: (T) -> Color,\n",
    "    amounts: (T) -> Float,\n",
    "    amountsTotal: Float,\n",
    "    circleLabel: String,\n",
    "    rows: @Composable (T) -> Unit\n",
    ") {\n",
    "    Column(modifier = modifier.verticalScroll(rememberScrollState())) {\n",
    "        Box(Modifier.padding(16.dp)) {\n",
    "            val accountsProportion = items.extractProportions { amounts(it) }\n",
    "            val circleColors = items.map { colors(it) }\n",
    "            AnimatedCircle(\n",
    "                accountsProportion,\n",
    "                circleColors,\n",
    "                Modifier\n",
    "                    .height(300.dp)\n",
    "                    .align(Alignment.Center)\n",
    "                    .fillMaxWidth()\n",
    "            )\n",
    "            Column(modifier = Modifier.align(Alignment.Center)) {\n",
    "                Text(\n",
    "                    text = circleLabel,\n",
    "                    modifier = Modifier.align(Alignment.CenterHorizontally),\n",
    "                    fontSize = 20.sp\n",
    "                )\n",
    "                Text(\n",
    "                    text = (\"- ${formatter.format(amountsTotal)} zł\"),\n",
    "                    modifier = Modifier.align(Alignment.CenterHorizontally),\n",
    "                    fontSize = 36.sp\n",
    "                )\n",
    "            }\n",
    "        }\n",
    "        Spacer(Modifier.height(10.dp))\n",
    "        Card {\n",
    "            Column(modifier = Modifier.padding(12.dp)) {\n",
    "                items.forEach { item ->\n",
    "                    rows(item)\n",
    "                }\n",
    "            }\n",
    "        }\n",
    "    }\n",
    "}"
   ]
  },
  {
   "cell_type": "markdown",
   "id": "82391c63-47de-4e3b-9bdf-3c4c30fdee67",
   "metadata": {},
   "source": [
    "Funkcja `rows` jest przekazana jako parametr i definiuje sposób wyświetlania pojedynczego elementu `item` w kolumnie."
   ]
  },
  {
   "cell_type": "markdown",
   "id": "122a7671-b485-4df0-a042-46acade1215e",
   "metadata": {},
   "source": [
    "Zdefiniujmy teraz funkcję `Composable`, która będzie zawierać ui pojedynczego elementu listy. "
   ]
  },
  {
   "cell_type": "code",
   "execution_count": null,
   "id": "a460b7c3-b547-44f7-9e4c-724423b5be67",
   "metadata": {},
   "outputs": [],
   "source": [
    "@Composable\n",
    "fun BaseRow(\n",
    "    modifier: Modifier = Modifier,\n",
    "    color: Color,\n",
    "    title: String,\n",
    "    subtitle: String,\n",
    "    amount: Float,\n",
    "    negative: Boolean\n",
    ") {"
   ]
  },
  {
   "cell_type": "markdown",
   "id": "7e6d0142-6c84-472b-a4b8-88126ffc8e63",
   "metadata": {},
   "source": [
    "Na elemencie chcemy wyświetlić tytuł, podtytuł oraz wartość. Oprócz tych informacji, przekazujemy informację (`negative`) o tym czy wyświetlane wartości mają być ujemne. Wpierw określmy znak dla wyświetlanej wartości."
   ]
  },
  {
   "cell_type": "code",
   "execution_count": null,
   "id": "16c50dc0-2e34-4bea-a71b-7384c8e4dca3",
   "metadata": {},
   "outputs": [],
   "source": [
    "val sign = if (negative) \"– \" else \" \""
   ]
  },
  {
   "cell_type": "markdown",
   "id": "0e5feb1d-a30a-4ef8-876e-8983596ffe67",
   "metadata": {},
   "source": [
    "Następnie dodajmy i sformatujmy samą wartość."
   ]
  },
  {
   "cell_type": "code",
   "execution_count": null,
   "id": "dfa80d14-e31d-4796-8cee-2015fb2fb969",
   "metadata": {},
   "outputs": [],
   "source": [
    "val formattedAmount = (\"$sign${formatter.format(amount)} zł\")"
   ]
  },
  {
   "cell_type": "markdown",
   "id": "815b0c70-62fc-484b-8b95-6e6160065732",
   "metadata": {},
   "source": [
    "Elementy umieścimy w komponencie `Row`"
   ]
  },
  {
   "cell_type": "code",
   "execution_count": null,
   "id": "dab44672-07f5-4862-b348-055474407d65",
   "metadata": {},
   "outputs": [],
   "source": [
    "Row(\n",
    "    modifier = modifier.height(68.dp),\n",
    "    verticalAlignment = Alignment.CenterVertically\n",
    ") {"
   ]
  },
  {
   "cell_type": "markdown",
   "id": "7aff541d-275d-4501-80a8-51b39fef0ddc",
   "metadata": {},
   "source": [
    "Tworzymy pusty obszar o szerokości `4 dp` i wysokości `36 dp`, który jest wypełniony kolorem `color` powiązanym z danym rachunkiem."
   ]
  },
  {
   "cell_type": "code",
   "execution_count": null,
   "id": "0317cd5d-2e45-4068-862f-88dc7c32e823",
   "metadata": {},
   "outputs": [],
   "source": [
    "Spacer(modifier.size(4.dp, 36.dp).background(color = color))"
   ]
  },
  {
   "cell_type": "markdown",
   "id": "f8ece3bc-50a3-4d57-8b15-d66b5a9b1ac9",
   "metadata": {},
   "source": [
    "Następnie dodajmy odstęp między paskiem koloru a polami tekstowymi."
   ]
  },
  {
   "cell_type": "code",
   "execution_count": null,
   "id": "a1e98aae-473a-4659-b735-7e8314f334a3",
   "metadata": {},
   "outputs": [],
   "source": [
    "Spacer(Modifier.width(12.dp))"
   ]
  },
  {
   "cell_type": "markdown",
   "id": "69d7ffb1-b58e-4a8f-b25a-59bfceeb0b32",
   "metadata": {},
   "source": [
    "Dodajmy dwa pola tekstowe w kolumnie."
   ]
  },
  {
   "cell_type": "code",
   "execution_count": null,
   "id": "da476f88-3788-466b-a188-dab77abb7c0a",
   "metadata": {},
   "outputs": [],
   "source": [
    "Column(Modifier) {\n",
    "    Text(text = title)\n",
    "    Text(text = subtitle)\n",
    "}"
   ]
  },
  {
   "cell_type": "markdown",
   "id": "3c6cf971-fc09-49a3-80ef-c2c0a97da6a2",
   "metadata": {},
   "source": [
    "Po prawej stronie dodamy jeszcze jedno pole, wyświetlające kwotę. Wpierw tworzymy pusty obszar, który zajmuje dostępną przestrzeń po lewej stronie. W tym przypadku `Spacer` otrzymuje wagę (`weight`) równą `1f`, co oznacza, że zajmuje tyle przestrzeni, ile jest dostępne."
   ]
  },
  {
   "cell_type": "code",
   "execution_count": null,
   "id": "285ce18c-e38b-4a3b-8cf7-57122981e9d8",
   "metadata": {},
   "outputs": [],
   "source": [
    "Spacer(Modifier.weight(1f))"
   ]
  },
  {
   "cell_type": "markdown",
   "id": "facdbeac-84e1-4b28-a8a1-fc9db7b15bd1",
   "metadata": {},
   "source": [
    "Na koniec dodajemy pole tekstowe wyświewtlające kwotę."
   ]
  },
  {
   "cell_type": "code",
   "execution_count": null,
   "id": "98935363-4c81-4a00-880a-5b372ddfe1bf",
   "metadata": {},
   "outputs": [],
   "source": [
    "Text(\n",
    "    text = formattedAmount,\n",
    "    modifier = Modifier.align(Alignment.CenterVertically),\n",
    "    fontSize = 24.sp,\n",
    "    fontWeight = FontWeight.Bold\n",
    ")"
   ]
  },
  {
   "cell_type": "markdown",
   "id": "ac37f934-78c0-4b69-aaaf-fe16b2524dd7",
   "metadata": {},
   "source": [
    "Pełny kod:"
   ]
  },
  {
   "cell_type": "code",
   "execution_count": null,
   "id": "41898174-a827-4980-ab74-37d0fa7942d9",
   "metadata": {},
   "outputs": [],
   "source": [
    "@Composable\n",
    "fun BaseRow(\n",
    "    modifier: Modifier = Modifier,\n",
    "    color: Color,\n",
    "    title: String,\n",
    "    subtitle: String,\n",
    "    amount: Float,\n",
    "    negative: Boolean\n",
    ") {\n",
    "    val sign = if (negative) \"– \" else \" \"\n",
    "    val formattedAmount = (\"$sign${formatter.format(amount)} zł\")\n",
    "    Row(\n",
    "        modifier = modifier.height(68.dp),\n",
    "        verticalAlignment = Alignment.CenterVertically\n",
    "    ) {\n",
    "        Spacer(modifier.size(4.dp, 36.dp).background(color = color))\n",
    "        Spacer(Modifier.width(12.dp))\n",
    "        Column(Modifier) {\n",
    "            Text(text = title)\n",
    "            Text(text = subtitle)\n",
    "        }\n",
    "        Spacer(Modifier.weight(1f))\n",
    "        Text(\n",
    "            text = formattedAmount,\n",
    "            modifier = Modifier.align(Alignment.CenterVertically),\n",
    "            fontSize = 24.sp,\n",
    "            fontWeight = FontWeight.Bold\n",
    "        )\n",
    "    }\n",
    "}"
   ]
  },
  {
   "cell_type": "markdown",
   "id": "bb71a77f-f866-482f-bb5f-10389b3cce49",
   "metadata": {},
   "source": [
    "Ostatnim elementem jest utworzenie `Composable` reprezentującej sam ekran rachunków."
   ]
  },
  {
   "cell_type": "code",
   "execution_count": null,
   "id": "171e675f-68c4-499d-b3a5-3cb94f0270c1",
   "metadata": {},
   "outputs": [],
   "source": [
    "@Composable\n",
    "fun BillsScreen(\n",
    "    bills: List<Bill> = remember { DataProvider.bills }\n",
    ") {\n",
    "    StatementBody(\n",
    "        modifier = Modifier.clearAndSetSemantics { contentDescription = \"Bills\" },\n",
    "        items = bills,\n",
    "        amounts = { bill -> bill.amount.toFloat() },\n",
    "        colors = { bill -> bill.color },\n",
    "        amountsTotal = bills.map { bill -> bill.amount.toFloat() }.sum(),\n",
    "        circleLabel = \"Total\",\n",
    "        rows = { bill ->\n",
    "            BaseRow(\n",
    "                title = bill.name,\n",
    "                subtitle = bill.endDate.format(dateFormatter),\n",
    "                amount = bill.amount.toFloat(),\n",
    "                color = bill.color,\n",
    "                negative = true\n",
    "            )\n",
    "        }\n",
    "    )\n",
    "}"
   ]
  },
  {
   "cell_type": "markdown",
   "id": "a40c6c31-c06d-4bc5-873a-84b5343f0f4a",
   "metadata": {},
   "source": [
    "Wykorzystujemy wcześniej zaimplementowane komponenty. `rows` - kompozycja wiersza, która określa jak wyświetlać każdy rachunek na liście. Jest to funkcja, która przyjmuje jeden rachunek i zwraca komponent `BaseRow`, który wyświetla informacje o rachunku."
   ]
  },
  {
   "cell_type": "markdown",
   "id": "aac2d6e7-4127-4e21-8e25-76beb9a5a425",
   "metadata": {},
   "source": [
    "Możemy przetestować apliakcję"
   ]
  },
  {
   "cell_type": "markdown",
   "id": "f2eb9a8b-f777-4708-9293-a9964b39466f",
   "metadata": {},
   "source": [
    "<img src=\"https://media1.giphy.com/media/v1.Y2lkPTc5MGI3NjExMGUxOTU0ZDE2NzgzZjljZjgwN2QzMzdlYTI1OThmZTYzNjgyY2M0MSZlcD12MV9pbnRlcm5hbF9naWZzX2dpZklkJmN0PWc/SsomlDGvA15rM2M2nz/giphy.gif\" width=\"200\" />"
   ]
  },
  {
   "cell_type": "markdown",
   "id": "371f9993-eaa8-44fe-8dca-d06cbde5f254",
   "metadata": {},
   "source": [
    "## Ekran kont"
   ]
  },
  {
   "cell_type": "markdown",
   "id": "e22c5971-8980-479d-a5d7-28aebbf2b57c",
   "metadata": {},
   "source": [
    "Dodajmy funkcję `Composable` dla ekranu kont - również tutaj wykorzystamy wcześniej utworzone funkcje."
   ]
  },
  {
   "cell_type": "code",
   "execution_count": null,
   "id": "f2c18c43-bba6-4cc8-be59-3ab8eb7dcb34",
   "metadata": {},
   "outputs": [],
   "source": [
    "@Composable\n",
    "fun AccountsScreen() {\n",
    "    val amountsTotal = remember { DataProvider.accounts.sumOf { account -> account.amount }.toFloat() }\n",
    "    StatementBody(\n",
    "        modifier = Modifier.semantics { contentDescription = \"Accounts Screen\" },\n",
    "        items = DataProvider.accounts,\n",
    "        amounts = { account -> account.amount.toFloat() },\n",
    "        colors = { account -> account.color },\n",
    "        amountsTotal = amountsTotal,\n",
    "        circleLabel = \"Total\",\n",
    "        rows = { account ->\n",
    "            BaseRow(\n",
    "                title = account.name,\n",
    "                subtitle = account.number.replaceRange(0 until 6, \"******\"),\n",
    "                amount = account.amount.toFloat(),\n",
    "                color = account.color,\n",
    "                negative = false\n",
    "            )\n",
    "        }\n",
    "    )\n",
    "}"
   ]
  },
  {
   "cell_type": "markdown",
   "id": "b4a4c9cc-62e0-410e-9a28-bcf62393e541",
   "metadata": {},
   "source": [
    "`subtitle` zawiera numer konta, który jest zamieniany na postać, w której pierwsze 6 cyfr zostaje zastąpione sześcioma gwiazdkami (`******`). Możemy przetestować aplikację."
   ]
  },
  {
   "cell_type": "markdown",
   "id": "074da992-5d51-476b-a124-a72566e712f5",
   "metadata": {},
   "source": [
    "<img src=\"https://media2.giphy.com/media/v1.Y2lkPTc5MGI3NjExMDE2YzdjYWNmZmYyYTNiYjA2OTAwOGZhMzI4Zjg3NjAwMDY5N2JjMSZlcD12MV9pbnRlcm5hbF9naWZzX2dpZklkJmN0PWc/F1dNJHm6OAPABjAVbk/giphy.gif\" width=\"200\" />"
   ]
  },
  {
   "cell_type": "code",
   "execution_count": null,
   "id": "d7f7a543-2243-4fe6-9cc5-8727ef0116de",
   "metadata": {},
   "outputs": [],
   "source": []
  }
 ],
 "metadata": {
  "kernelspec": {
   "display_name": "Kotlin",
   "language": "kotlin",
   "name": "kotlin"
  },
  "language_info": {
   "codemirror_mode": "text/x-kotlin",
   "file_extension": ".kt",
   "mimetype": "text/x-kotlin",
   "name": "kotlin",
   "nbconvert_exporter": "",
   "pygments_lexer": "kotlin",
   "version": "1.8.0-RC"
  }
 },
 "nbformat": 4,
 "nbformat_minor": 5
}
