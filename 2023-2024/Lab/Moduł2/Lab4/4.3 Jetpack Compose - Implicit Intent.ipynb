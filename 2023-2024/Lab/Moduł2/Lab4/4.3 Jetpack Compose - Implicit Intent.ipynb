{
 "cells": [
  {
   "cell_type": "markdown",
   "id": "9c9c5d08-a9ba-4854-bb35-5524fd11569c",
   "metadata": {},
   "source": [
    "# Jetpack Compose - Implicit Intent"
   ]
  },
  {
   "cell_type": "markdown",
   "id": "db02dacf-608e-406a-af37-3d8ac22fa2eb",
   "metadata": {},
   "source": [
    "Podobnie jak w przykładzie 1.5 - zobaczymy jak wykorzystać mechanizm `Implicit Intent` z biblioteką `Jetpack Compose`"
   ]
  },
  {
   "cell_type": "markdown",
   "id": "7bdc5c8b-2593-49ce-a073-cb863178c62e",
   "metadata": {},
   "source": [
    "<img src=\"https://media2.giphy.com/media/v1.Y2lkPTc5MGI3NjExYTE2NjY5ZmJlM2QwNTVhZGUyNzMwYzQwM2MzNTJmNzY4NmZlZDMxMCZlcD12MV9pbnRlcm5hbF9naWZzX2dpZklkJmN0PWc/arI2YQtGOQ3x2Vq3V3/giphy.gif\" width=\"200\" />"
   ]
  },
  {
   "cell_type": "markdown",
   "id": "c1e0b124-4f1e-4b30-90e8-26e15cd90df3",
   "metadata": {},
   "source": [
    "Rozpocznijmy od dodania funckji `Composable` reprezentującej nasz layout"
   ]
  },
  {
   "cell_type": "code",
   "execution_count": null,
   "id": "00bb0c9d-aaa0-4ecf-9d69-69be5cebcec2",
   "metadata": {},
   "outputs": [],
   "source": [
    "@Composable\n",
    "fun ImplicitIntentButton() {\n",
    "    val context = LocalContext.current\n",
    "    Column(\n",
    "        modifier = Modifier\n",
    "            .fillMaxSize(),\n",
    "        horizontalAlignment = Alignment.CenterHorizontally,\n",
    "        verticalArrangement = Arrangement.Center\n",
    "    ){\n",
    "        Button(\n",
    "            onClick = { openHomepage(context) },\n",
    "            shape = RectangleShape,\n",
    "            modifier = Modifier.fillMaxWidth(0.6f),\n",
    "        ) {\n",
    "            Text(text = \"OPEN HOMEPAGE\")\n",
    "        }\n",
    "    }\n",
    "}"
   ]
  },
  {
   "cell_type": "markdown",
   "id": "cec80124-71ad-4cd7-af86-a6b6a94efb86",
   "metadata": {},
   "source": [
    "Funkcja `ImplicitIntentButton` renderuje w interfejsie użytkownika przycisk, który po kliknięciu uruchamia **implicit intent** do otwarcia strony internetowej.\n",
    "\n",
    "- `@Composable` - adnotacja informująca kompilator, że ta funkcja tworzy element interfejsu użytkownika, który może być renderowany w widoku Compose.\n",
    "- `val context = LocalContext.current` - pobranie obiektu `Context` z *lokalnego zakresu*, który będzie używany do uruchomienia implicit intent.\n",
    "- `Column` - komponent układający dzieci w kolumnie.\n",
    "- `modifier = Modifier.fillMaxSize()` - ustawienie wielkości kolumny na maksymalną dostępną wielkość, aby wypełnić cały dostępny obszar ekranu.\n",
    "- `horizontalAlignment = Alignment.CenterHorizontally` - ustawienie poziomego wyrównania elementów w kolumnie na środek.\n",
    "- `verticalArrangement = Arrangement.Center` - ustawienie pionowego wyrównania elementów w kolumnie na środek.\n",
    "- `Button` - komponent przycisku.\n",
    "- `onClick = { openHomepage(context) }` - ustawienie funkcji wywoływanej po kliknięciu przycisku.\n",
    "- `shape = RectangleShape` - ustawienie kształtu przycisku na prostokątny.\n",
    "- `modifier = Modifier.fillMaxWidth(0.6f)` - ustawienie szerokości przycisku na 60% dostępnej szerokości kolumny.\n",
    "- `Text(text = \"OPEN HOMEPAGE\")` - tekst wyświetlany na przycisku.\n",
    "- `openHomepage` - funkcja, która tworzy **implicit intent**, który otwiera stronę internetową. Implicit intent nie określa dokładnej aplikacji, która ma zostać uruchomiona, ale zamiast tego określa typ żądania (w tym przypadku otwarcie strony internetowej). System operacyjny odkrywa aplikacje (wykorzystując *aplication chooser*), które obsługują ten typ żądania i umożliwia użytkownikowi wybór aplikacji, która ma zostać użyta do wykonania żądania."
   ]
  },
  {
   "cell_type": "code",
   "execution_count": null,
   "id": "80d0c5fa-492d-40c4-a355-796cdfbc7b42",
   "metadata": {},
   "outputs": [],
   "source": [
    "private fun openHomepage(context: Context){\n",
    "    val url = \"http://wfia.uni.wroc.pl/\"\n",
    "    val intent = Intent(Intent.ACTION_VIEW, Uri.parse(url)).apply{\n",
    "        addCategory(CATEGORY_BROWSABLE)\n",
    "    }\n",
    "\n",
    "    context.startActivity(intent)\n",
    "}"
   ]
  },
  {
   "cell_type": "markdown",
   "id": "31ece866-fbd5-4bdf-abc0-8af589c02aed",
   "metadata": {},
   "source": [
    "W funkcji najpierw definiowany jest adres `URL`, który ma być otwarty. Następnie tworzony jest nowy obiekt `Intent`, który reprezentuje zamiar otwarcia strony internetowej. W konstruktorze `Intenta` podajemy akcję `ACTION_VIEW`, która oznacza, że chcemy wyświetlić zawartość `Uri` (adresu `URL`) w odpowiedniej aplikacji.\n",
    "\n",
    "W następnym kroku dodajemy kategorię `CATEGORY_BROWSABLE`, która mówi, że dany `Intent` może być obsłużony przez przeglądarkę internetową.\n",
    "\n",
    "Na koniec uruchamiamy `Intent`, wywołując funkcję `startActivity` na obiekcie `context`, który przekazano jako parametr funkcji. Dzięki temu otwierana jest przeglądarka internetowa i wyświetlana jest strona internetowa, którą podaliśmy w adresie `URL`."
   ]
  },
  {
   "cell_type": "markdown",
   "id": "d0380c75-e12e-4a27-ac19-cc7376ff9dc7",
   "metadata": {},
   "source": [
    "Jak widzimy, nie ma praktycznie żadnych różnic w wykorzystywaniu mechanizmu `Implicit Intent` z `Jetpack Compose`. Więcej informacji na temat samego mechanizmu można znaleźć w przykładzie 1.5."
   ]
  },
  {
   "cell_type": "code",
   "execution_count": null,
   "id": "8497d250-e340-407c-b083-d926d09c5f8c",
   "metadata": {},
   "outputs": [],
   "source": []
  }
 ],
 "metadata": {
  "kernelspec": {
   "display_name": "Kotlin",
   "language": "kotlin",
   "name": "kotlin"
  },
  "language_info": {
   "codemirror_mode": "text/x-kotlin",
   "file_extension": ".kt",
   "mimetype": "text/x-kotlin",
   "name": "kotlin",
   "nbconvert_exporter": "",
   "pygments_lexer": "kotlin",
   "version": "1.8.0-RC"
  }
 },
 "nbformat": 4,
 "nbformat_minor": 5
}
