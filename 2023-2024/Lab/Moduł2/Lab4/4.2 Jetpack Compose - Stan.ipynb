{
 "cells": [
  {
   "cell_type": "markdown",
   "id": "cbe5bcd3-e421-4246-b488-c2b42b2f30a5",
   "metadata": {},
   "source": [
    "# Jetpack Compose - Stan"
   ]
  },
  {
   "cell_type": "markdown",
   "id": "dc41e479-47e5-4e4b-995f-0b77ff58267b",
   "metadata": {},
   "source": [
    "**Stan** w Jetpack Compose jest to zmienna, która przechowuje wartość i może być używana do wpływania na wygląd interfejsu użytkownika. W odróżnieniu od tradycyjnego podejścia w Androidzie, w którym zmiana wartości wymagała by odświeżenia widoku, w Jetpack Compose zmiana stanu automatycznie wpływa na wygląd UI.\n",
    "\n",
    "Można to porównać do reaktywnych systemów, w których zmiana stanu automatycznie wpływa na wyświetlany interfejs. W Jetpack Compose zmiana stanu jest inicjowana przez aplikację, ale to system automatycznie obsługuje renderowanie UI na podstawie zmienionego stanu."
   ]
  },
  {
   "cell_type": "markdown",
   "id": "f3151d55-b3ce-44f0-928c-bb525d5e2d14",
   "metadata": {},
   "source": [
    "W tym przykładzie napiszemy prosty licznik, dodamy przycisk i obsłużymy zdarzenie `onClick` - analogicznie do przykładu 2 z Lab 1."
   ]
  },
  {
   "cell_type": "markdown",
   "id": "6ed6a0c8-96e6-48aa-abe9-d4636eda839a",
   "metadata": {},
   "source": [
    "<img src=\"https://media2.giphy.com/media/v1.Y2lkPTc5MGI3NjExNTQ1NjkxMGE4MmI2ZTg3Y2Q4YTAzM2E1NGYxMzdhMzM0ZDc0NmNlZCZlcD12MV9pbnRlcm5hbF9naWZzX2dpZklkJmN0PWc/jVWnM6FU0v9L6deu2L/giphy.gif\" width=\"200\" />"
   ]
  },
  {
   "cell_type": "markdown",
   "id": "9ed27ce4-10fc-4a23-9fd7-b6bd266f15ed",
   "metadata": {},
   "source": [
    "Dodajmy funkcję `@Composable` o nazwie `CounterExample`"
   ]
  },
  {
   "cell_type": "code",
   "execution_count": null,
   "id": "e26e532a-7119-437f-bcb3-06468f854372",
   "metadata": {},
   "outputs": [],
   "source": [
    "@Composable\n",
    "fun CounterExample() {}"
   ]
  },
  {
   "cell_type": "markdown",
   "id": "375a13b1-2cdf-4e7f-b5a0-d24a0951c179",
   "metadata": {},
   "source": [
    "Dodajmy również funkcje umożliwiającą podgląd zmian"
   ]
  },
  {
   "cell_type": "code",
   "execution_count": null,
   "id": "9469eaf6-e05c-46ca-ba3b-4bd35733e2da",
   "metadata": {},
   "outputs": [],
   "source": [
    "@Preview(showBackground = true)\n",
    "@Composable\n",
    "fun DefaultPreview() {\n",
    "    JetpackComposeStateBasicsTheme {\n",
    "        CounterExample()\n",
    "    }\n",
    "}"
   ]
  },
  {
   "cell_type": "markdown",
   "id": "34b3cba9-ab79-4831-bd95-abf67f911a3e",
   "metadata": {},
   "source": [
    "Chcemy dodać pole tekstowe oraz przycisk, umieśćmy je w kolumnie"
   ]
  },
  {
   "cell_type": "code",
   "execution_count": null,
   "id": "348a57d5-cf4b-4eec-98d6-a131dece0a4b",
   "metadata": {},
   "outputs": [],
   "source": [
    "@Composable\n",
    "fun CounterExample() {\n",
    "    Column(\n",
    "        verticalArrangement = Arrangement.Center,\n",
    "        horizontalAlignment = Alignment.CenterHorizontally,\n",
    "        modifier = Modifier.fillMaxSize()\n",
    "    ) {\n",
    "        Spacer(modifier = Modifier.weight(0.3f))\n",
    "        Text(\n",
    "            text = \"test\",\n",
    "            fontSize = 250.sp,\n",
    "            textAlign = TextAlign.Center,\n",
    "            modifier = Modifier.weight(1f),\n",
    "        )\n",
    "        Button(\n",
    "            modifier = Modifier.fillMaxWidth(),\n",
    "            shape = RectangleShape\n",
    "        ) {\n",
    "            Text(text = \"COUNT UP\")\n",
    "        }\n",
    "    }\n",
    "}"
   ]
  },
  {
   "cell_type": "markdown",
   "id": "0401e224-8d51-4dfb-b584-f85d70d73ad7",
   "metadata": {},
   "source": [
    "Głównym elementem interfejsu jest `Column`. Jest to komponent, który ustawia swoje dzieci w pionowej kolumnie. W tym przypadku, `Column` ma trójkę dzieci: `Spacer`, `Text` i `Button`.\n",
    "\n",
    "`Spacer` to pusty element, który jest używany tutaj jako margines między górną krawędzią ekranu a tekstem. `modifier = Modifier.weight(0.3f)` mówi, że ten element powinien zająć 30% dostępnego miejsca w kolumnie.\n",
    "\n",
    "Następnie, mamy `Text`, który wyświetla napis `\"test\"`. `fontSize = 250.sp` określa wielkość czcionki w punktach skalowalnych. `modifier = Modifier.weight(1f)` mówi, że ten element powinien zająć całą wolną przestrzeń w kolumnie.\n",
    "\n",
    "Ostatnim elementem jest przycisk (`Button`) `COUNT UP`. `modifier = Modifier.fillMaxWidth()` mówi, że ten element powinien zajmować maksymalną dostępną szerokość. `shape = RectangleShape` określa kształt przycisku, który w tym przypadku jest prostokątem."
   ]
  },
  {
   "cell_type": "markdown",
   "id": "dee34824-4d04-4db3-8639-025d28c0a118",
   "metadata": {},
   "source": [
    "Następnie dodajmy stan przechowujący wartość licznika."
   ]
  },
  {
   "cell_type": "code",
   "execution_count": null,
   "id": "d1aca1d5-c142-423b-bd1b-57e90bcc086b",
   "metadata": {},
   "outputs": [],
   "source": [
    "val count: MutableState<Int> = remember {\n",
    "    mutableStateOf(0)\n",
    "}"
   ]
  },
  {
   "cell_type": "markdown",
   "id": "e07e0472-ad4d-4061-bfcb-a6d41b1d4d22",
   "metadata": {},
   "source": [
    "Ten kod tworzy zmienną `count`, która jest obiektem typu `MutableState<Int>`. `MutableState` to klasa używana w `Jetpack Compose` do przechowywania wartości, które mogą się zmieniać w trakcie działania aplikacji. W tym przypadku, `MutableState` przechowuje liczbę całkowitą (`Int`), która będzie używana jako licznik.\n",
    "\n",
    "Nie można po prostu przypisać wartości zwracanej przez funkcję `mutableStateOf` do zmiennej wewnątrz funkcji Composable. \n",
    "\n",
    "```kotlin\n",
    "val counter = mutableStateOf(0) // błąd!\n",
    "```\n",
    "\n",
    "Rekompozycja (aktualizacja ui) może nastąpić w dowolnym momencie, co spowodowałoby ponowne wywołanie funkcji `Composable` i resetowanie stanu do nowego obiektu `MutableState`, którego wartość początkowa byłaby równa `0`.\n",
    "\n",
    "Aby zachować stan między rekompozycjami, należy zapamiętać obiekt `MutableState` za pomocą funkcji `remember`. Funkcja `remember` to funkcja specjalna w `Jetpack Compose`, która pozwala na zapamiętanie wartości i uniknięcie niepotrzebnego ponownego renderowania widoku, gdy wartość się nie zmienia. Funkcja `remember` przyjmuje jako argument wyrażenie lambda zwracające obiekt, który ma być zapamiętany.\n",
    "\n",
    "W tym konkretnym przypadku, lambda tworzy nowy obiekt `mutableStateOf(0)`, który jest obiektem typu `MutableState<Int>` zainicjowanym wartością początkową równą `0`. W ten sposób, `count` jest obiektem `MutableState` przechowującym wartość `0` i będzie używany jako licznik w aplikacji.\n",
    "\n",
    "Jeśli w trakcie działania aplikacji wartość `count` zostanie zmieniona, to widok, który wykorzystuje tę wartość, zostanie automatycznie uaktualniony."
   ]
  },
  {
   "cell_type": "markdown",
   "id": "a0705e04-4547-42d3-b61c-b4677e6134fc",
   "metadata": {},
   "source": [
    "Aby zmienić stan, doddajmy obsługę `onClick` naszego przycisku"
   ]
  },
  {
   "cell_type": "code",
   "execution_count": null,
   "id": "29838e97-3d63-4263-8b28-313dcf482a54",
   "metadata": {},
   "outputs": [],
   "source": [
    "@Composable\n",
    "fun CounterExample() {\n",
    "    Column(\n",
    "        verticalArrangement = Arrangement.Center,\n",
    "        horizontalAlignment = Alignment.CenterHorizontally,\n",
    "        modifier = Modifier.fillMaxSize()\n",
    "    ) {\n",
    "        \n",
    "        val count: MutableState<Int> = remember {\n",
    "            mutableStateOf(0)\n",
    "        }\n",
    "        \n",
    "        Spacer(modifier = Modifier.weight(0.3f))\n",
    "        \n",
    "        Text(\n",
    "            text = \"${count.value}\",\n",
    "            fontSize = 250.sp,\n",
    "            textAlign = TextAlign.Center,\n",
    "            modifier = Modifier.weight(1f),\n",
    "        )\n",
    "        \n",
    "        Button(\n",
    "            onClick = { count.value++ }, // onclick\n",
    "            modifier = Modifier.fillMaxWidth(),\n",
    "            shape = RectangleShape\n",
    "        ) {\n",
    "            Text(text = \"COUNT UP\")\n",
    "        }\n",
    "    }\n",
    "}"
   ]
  },
  {
   "cell_type": "markdown",
   "id": "7fcfc29d-3607-4c3b-bee1-ddb4de79b3b1",
   "metadata": {},
   "source": [
    "Możemy wywołać naszą funkcję `Composable` w metodzie `onCreate` aktywności"
   ]
  },
  {
   "cell_type": "code",
   "execution_count": null,
   "id": "49d3e0a7-2812-4eb0-9166-b5cd0530266d",
   "metadata": {},
   "outputs": [],
   "source": [
    "override fun onCreate(savedInstanceState: Bundle?) {\n",
    "    super.onCreate(savedInstanceState)\n",
    "    setContent {\n",
    "        JetpackComposeStateBasicsTheme {\n",
    "            Surface(\n",
    "                modifier = Modifier.fillMaxSize(),\n",
    "                color = MaterialTheme.colorScheme.background\n",
    "            ) {\n",
    "                CounterExample()\n",
    "            }\n",
    "        }\n",
    "    }\n",
    "}"
   ]
  },
  {
   "cell_type": "markdown",
   "id": "c0dfacc0-ca31-4069-b360-f353f763c9da",
   "metadata": {},
   "source": [
    "<img src=\"https://media2.giphy.com/media/v1.Y2lkPTc5MGI3NjExNTQ1NjkxMGE4MmI2ZTg3Y2Q4YTAzM2E1NGYxMzdhMzM0ZDc0NmNlZCZlcD12MV9pbnRlcm5hbF9naWZzX2dpZklkJmN0PWc/jVWnM6FU0v9L6deu2L/giphy.gif\" width=\"200\" />"
   ]
  },
  {
   "cell_type": "markdown",
   "id": "20a57fbd-5678-4f25-8247-50d229fc2e39",
   "metadata": {},
   "source": [
    "Zwróćmy uwagę że przy zmianie orientacji urządzenia stan licznika jest resetowany"
   ]
  },
  {
   "cell_type": "markdown",
   "id": "71ce355e-f0bf-4ec9-a493-d66dd199f1ff",
   "metadata": {},
   "source": [
    "<img src=\"https://media2.giphy.com/media/v1.Y2lkPTc5MGI3NjExNDE5OGQ5MzE0MThlOWYzN2UzNzg0NDFmMWU3ODU3NWFlMDIyZTZhOCZlcD12MV9pbnRlcm5hbF9naWZzX2dpZklkJmN0PWc/yUhoglpf6R3y2DqHSv/giphy.gif\" width=\"200\" />"
   ]
  },
  {
   "cell_type": "markdown",
   "id": "b005289f-ca43-48ca-8571-6452d0f75505",
   "metadata": {},
   "source": [
    "W poprzednim module do zachowania stanu wykorzystywaliśmy obiekty `Bundle` - tutaj wykorzystamy ten sam mechanizm, lecz zrobimy to niejawnie. Zamiast funkcji `remember`, wykorzystujemyy funkcję `rememberSavable`"
   ]
  },
  {
   "cell_type": "code",
   "execution_count": null,
   "id": "f3eb3caf-312e-46a5-871a-6269da773703",
   "metadata": {},
   "outputs": [],
   "source": [
    "val count: MutableState<Int> = rememberSaveable{\n",
    "    mutableStateOf(0)\n",
    "}"
   ]
  },
  {
   "cell_type": "markdown",
   "id": "6c00ed2e-f474-4ce1-aebb-7248fd4f6519",
   "metadata": {},
   "source": [
    "`rememberSavable` to funkcja w `Jetpack Compose`, która działa podobnie do funkcji `remember`, ale dodatkowo zapewnia zachowanie stanu przez cykle życia aplikacji, takie jak np. obracanie ekranu.\n",
    "\n",
    "Funkcja `rememberSavable` działa tak samo jak `remember` - przyjmuje jako argument lambde zwracającą obiekt, który ma zostać zapamiętany. Do przechowywania stanu, funkcja `rememberSavable` korzysta z mechanizmu zapisywania stanu w obiektach typu `Bundle`, który jest wbudowany w system Android. Dzięki temu, gdy aplikacja zostanie zniszczona i ponownie uruchomiona, stan zapisany za pomocą `rememberSavable` może zostać przywrócony."
   ]
  },
  {
   "cell_type": "markdown",
   "id": "d943fee0-df9f-4db3-9d28-2f60f2657d27",
   "metadata": {},
   "source": [
    "Możemy zmienić typ `count` na `Int` - w tym celu musimy wykorzystać delegat."
   ]
  },
  {
   "cell_type": "code",
   "execution_count": null,
   "id": "69501af9-8fb3-4567-b1d0-ddbb608d5434",
   "metadata": {},
   "outputs": [],
   "source": [
    "// val count: MutableState<Int> = rememberSaveable{\n",
    "//    mutableStateOf(0)\n",
    "// }\n",
    "\n",
    "var count by rememberSaveable{\n",
    "    mutableStateOf(0)\n",
    "}"
   ]
  },
  {
   "cell_type": "markdown",
   "id": "68320c79-663b-49fa-aa9f-e0dcda0e69b4",
   "metadata": {},
   "source": [
    "Wtedy nie odwołujemy się przez właściwość `value`, tylko bezpośrednio do wartości."
   ]
  },
  {
   "cell_type": "code",
   "execution_count": null,
   "id": "1b43a79e-e4e7-4616-a415-3b6ab5cff378",
   "metadata": {},
   "outputs": [],
   "source": [
    "// onClick = { count.value++ }\n",
    "\n",
    "onClick = { count++ }"
   ]
  },
  {
   "cell_type": "markdown",
   "id": "f2ee0e7e-171a-4ffd-8aac-715beede6f7d",
   "metadata": {},
   "source": [
    "Różnica między nimi polega na tym, że w pierwszym przypadku zmienna count jest deklarowana jako `MutableState<Int>`, a w drugim przypadku jest deklarowana jako `Int` z użyciem delegacji właściwości (`by`).\n",
    "\n",
    "W pierwszym przypadku, zmienna `count` jest obiektem klasy `MutableState`, która przechowuje wartość i może być zmieniona za pomocą metody `value` wewnątrz lambdy `rememberSaveable`. To oznacza, że możesz zmieniać wartość zmiennej `count` wewnątrz tej funkcji.\n",
    "\n",
    "W drugim przypadku, zmienna `count` jest zwykłą zmienną typu `Int`, która jest przechowywana za pomocą *delegacji właściwości*. Delegacja właściwości pozwala na dostęp do wartości zmiennej oraz na jej zmianę wtedy, gdy zostanie wywołana odpowiednia metoda (`getValue` i `setValue`).\n",
    "\n",
    "W obu przypadkach, wartość zmiennej `count` jest zapamiętywana podczas *rekompozycji* za pomocą `rememberSaveable`."
   ]
  },
  {
   "cell_type": "code",
   "execution_count": null,
   "id": "2aa18747-49cc-45b1-b176-e0e0ebec3eb2",
   "metadata": {},
   "outputs": [],
   "source": []
  }
 ],
 "metadata": {
  "kernelspec": {
   "display_name": "Kotlin",
   "language": "kotlin",
   "name": "kotlin"
  },
  "language_info": {
   "codemirror_mode": "text/x-kotlin",
   "file_extension": ".kt",
   "mimetype": "text/x-kotlin",
   "name": "kotlin",
   "nbconvert_exporter": "",
   "pygments_lexer": "kotlin",
   "version": "1.8.0-RC"
  }
 },
 "nbformat": 4,
 "nbformat_minor": 5
}
