{
 "cells": [
  {
   "cell_type": "markdown",
   "id": "95e01ebc-253f-41b6-a16b-6d4cb5e19eb7",
   "metadata": {},
   "source": [
    "# Jetpack Compose - Pager + TabRow"
   ]
  },
  {
   "cell_type": "markdown",
   "id": "a1acf3a9-42bf-49b1-8a9a-865488b99de2",
   "metadata": {},
   "source": [
    "Zobaczmy jak w `Jatpack Compose` można wykonać nawigację zakładkową - podobnie jak w przykładzie 3.3. Taką nawigację można wykonać za pomocą `Scaffold` i `topBar`, podobnie jak widzieliśmy w poprzednich przykładach. Tutaj zobaczymy jak wykorzystać `Pager` z `TabRow` aby osiągnąć podobny efekt. Podobnie jak w przykładzie 5.3, musimy odpowwiedni skonfigurować projekt."
   ]
  },
  {
   "cell_type": "markdown",
   "id": "670f17e0-cf58-410c-a20a-4f4f16f6af17",
   "metadata": {},
   "source": [
    "<img src=\"https://media0.giphy.com/media/v1.Y2lkPTc5MGI3NjExNTYwOGVkNmEwNDIyYTU1NTEzYzEyOGEwZmY1ZjQ0NjBmNWFhMDk0ZiZlcD12MV9pbnRlcm5hbF9naWZzX2dpZklkJmN0PWc/99ggiI0zbSvtZSX9AS/giphy.gif\" width=\"200\" />"
   ]
  },
  {
   "cell_type": "markdown",
   "id": "de4c8856-a0d4-48e9-a8dc-da4854cde0eb",
   "metadata": {},
   "source": [
    "Do `build.gradle (Project)` dodajemy"
   ]
  },
  {
   "cell_type": "code",
   "execution_count": null,
   "id": "78bfd9b5-424c-4bc8-b501-f76e14cb40a7",
   "metadata": {},
   "outputs": [],
   "source": [
    "buildscript {\n",
    "    ext {\n",
    "        compose_ui_version = '1.4.0'\n",
    "    }\n",
    "}"
   ]
  },
  {
   "cell_type": "markdown",
   "id": "00b9550c-f2b5-41da-b58a-109c0217f5f8",
   "metadata": {},
   "source": [
    "Definiujemy właściwości rozszerzeń (*extensions*) dla skryptu budowania, interesuje nas zmienna `compose_ui_version`, która przechowuje numer wersji `Compose UI` używanej w aplikacji - tutaj użyjemy wersji `1.4.0`.\n",
    "\n",
    "Słowo kluczowe `ext` służy do definiowania właściwości rozszerzeń (*extensions*) dla skryptu budowania, które mogą być wykorzystywane w innych częściach skryptu, np. w konfiguracji zależności (*dependencies*).\n",
    "\n",
    "W pliku `build.gradle (Module)` dodajjemy zależność, oraz ustawiamy odpowidnie wersje kompilatora"
   ]
  },
  {
   "cell_type": "code",
   "execution_count": null,
   "id": "b0681b71-53ac-4737-ae85-5c8f7106134c",
   "metadata": {},
   "outputs": [],
   "source": [
    "android {\n",
    "    ...\n",
    "    composeOptions {\n",
    "        kotlinCompilerExtensionVersion '1.4.3'\n",
    "    }\n",
    "    ...\n",
    "}\n",
    "\n",
    "dependencies {\n",
    "\n",
    "    implementation 'androidx.core:core-ktx:1.8.0'\n",
    "    implementation 'androidx.lifecycle:lifecycle-runtime-ktx:2.3.1'\n",
    "    implementation 'androidx.activity:activity-compose:1.5.1'\n",
    "    implementation 'androidx.compose.foundation:foundation:1.4.3'\n",
    "    ...\n",
    "}"
   ]
  },
  {
   "cell_type": "markdown",
   "id": "d2b63a87-3be8-43d5-a858-63eca731c973",
   "metadata": {},
   "source": [
    "- `kotlinCompilerExtensionVersion` - określa wersję rozszerzenia kompilatora języka Kotlin do Compose.\n",
    "- `androidx.compose.foundation:foundation` - biblioteka zawierająca podstawowe elementy interfejsu użytkownika w Compose - tutaj potrzebujemy wersję `1.4.3`."
   ]
  },
  {
   "cell_type": "markdown",
   "id": "b6fe352f-39b3-4ebe-b75e-f0ddb60e2538",
   "metadata": {},
   "source": [
    "Rozpocznijmy od funkcji `Composable` reprezentującej cały layout"
   ]
  },
  {
   "cell_type": "code",
   "execution_count": null,
   "id": "6e146f23-2468-40e1-b5fe-038e8bf4cad1",
   "metadata": {},
   "outputs": [],
   "source": [
    "@OptIn(ExperimentalFoundationApi::class)\n",
    "@Composable\n",
    "fun MainLayout(){\n",
    "    val data = listOf(\n",
    "        \"Tab 1\" to Icons.Filled.Home,\n",
    "        \"Tab 2\" to Icons.Filled.Person,\n",
    "        \"Tab 3\" to Icons.Filled.Phone,\n",
    "        \"Tab 4\" to Icons.Filled.Email,\n",
    "    )\n",
    "\n",
    "    val pagerState = rememberPagerState()\n",
    "    val coroutineScope = rememberCoroutineScope()\n",
    "\n",
    "    Column {\n",
    "        Tabs(pagerState = pagerState, coroutineScope = coroutineScope, data = data)\n",
    "        Pages(pagerState = pagerState, data = data)\n",
    "    }\n",
    "}"
   ]
  },
  {
   "cell_type": "markdown",
   "id": "a4fc1680-95db-48bb-b196-4805e766fe38",
   "metadata": {},
   "source": [
    "W pierwszej kolejności dodajemy dane - tutaj będzie to lista par (`List<Pair<String, ImageVector>>`) zawierająca nazwy zakładek, wraz z odpowiadającą im ikoną. Następnie dodajemy stan naszego pagera (indeks bieżącej strony oraz liczba dostępnych stron). Ponieważ przez zakładki możemy przechodzić co kilka stron, więc musimy też dodać taką możliwość do naszego pagera. metody `animateScrollToPage` i/lub `scrollToPage` są funkcjami z możliwości zawieszenia wykonania (`suspend fun`), muszą zostać wykonane wewnątrz `Coroutine`. W deklaracji `val coroutineScope = rememberCoroutineScope()`, tworzony jest obiekt `coroutineScope`, który jest używany do zarządzania *coroutines* w Jetpack Compose w asynchroniczny sposób. Pozwala na uruchamianie *coroutines*, czekanie na ich zakończenie i zarządzanie ich cyklem życia.\n",
    "\n",
    "W kontekście deklaracji `val coroutineScope = rememberCoroutineScope()`, `rememberCoroutineScope()` jest wywoływane raz i wartość zwracana przez tę funkcję jest zapamiętywana przez `Jetpack Compose`, co oznacza, że obiekt `coroutineScope` będzie istniał przez cały cykl życia komponentu. Dzięki temu, korzystając z `coroutineScope`, możemy tworzyć i uruchamiać korutyny wewnątrz komponentu komponującego, co jest szczególnie przydatne w przypadku wykonywania asynchronicznych operacji.\n",
    "\n",
    "Treść umieszczamy w kolumnie (`Column`) i tutaj wywołujemy dwie funkcje. Funkcja `Tabs` tworzy zakładki, funkcja `Pages` dodaje `HorizontalPager`."
   ]
  },
  {
   "cell_type": "code",
   "execution_count": null,
   "id": "8ef3062e-7aca-42f0-b489-c90dae2249cc",
   "metadata": {},
   "outputs": [],
   "source": [
    "@OptIn(ExperimentalFoundationApi::class)\n",
    "@Composable\n",
    "fun Tabs(pagerState: PagerState, coroutineScope: CoroutineScope, data: List<Pair<String, ImageVector>>){\n",
    "    TabRow(\n",
    "        selectedTabIndex = pagerState.currentPage,\n",
    "    ) {\n",
    "        data.forEachIndexed { index, pair ->\n",
    "            Tab(\n",
    "                selected = pagerState.currentPage == index, \n",
    "                onClick = { coroutineScope.launch { pagerState.animateScrollToPage(index)}}, \n",
    "                text = { Text(text = pair.first) }, \n",
    "                icon = {Icon(imageVector = pair.second, contentDescription = null)}\n",
    "            )\n",
    "        }\n",
    "    }\n",
    "}"
   ]
  },
  {
   "cell_type": "markdown",
   "id": "d7273bba-b5e0-4a29-a670-8e843aeab7ed",
   "metadata": {},
   "source": [
    "Funkcja jest odpowiedzialna za renderowanie zakładek, która przyjmuje trzy parametry:\n",
    "- `pagerState` - obiekt `PagerState`, który przechowuje stan paska zakładek i pozwala na nawigację między nimi.\n",
    "- `coroutineScope` - obiekt `CoroutineScope`, który jest używany do uruchamiania korutyn.\n",
    "Komponent `TabRow` jest używany do renderowania paska zakładek. Przyjmuje kilka parametrów, tutaj wykorzystamy tylko `selectedTabIndex` - indeks wybranej zakładki połączymy z odpowiednią stroną w pagerze. Wewnątrz `TabRow` iterujemy po elementach listy data przy użyciu funkcji `forEachIndexed`. Iterujemy po elementach wraz z ich indeksami, co pozwala nam na dostęp do indeksu i wartości elementu wewnątrz pętli. Wewnątrz pętli, dla każdej pary, definiujemy pojedynczą zakładkę przy użyciu komponentu `Tab`. Parametry `selected`, ``onClick`, `text` i `icon` są odpowiedzialne za odpowiednie ustawienie stanu, obsługę kliknięcia, tekst i ikonę dla danej zakładki."
   ]
  },
  {
   "cell_type": "code",
   "execution_count": null,
   "id": "377fecd7-0783-413b-9c3d-e934beeb1021",
   "metadata": {},
   "outputs": [],
   "source": [
    "@OptIn(ExperimentalFoundationApi::class)\n",
    "@Composable\n",
    "fun Pages(pagerState: PagerState, data: List<Pair<String, ImageVector>>) {\n",
    "    HorizontalPager(\n",
    "        state = pagerState,\n",
    "        modifier = Modifier\n",
    "            .fillMaxSize()\n",
    "            .wrapContentSize(Alignment.Center),\n",
    "        pageCount = data.size,\n",
    "        pageSize = PageSize.Fill\n",
    "    ) { index ->\n",
    "        Column(\n",
    "            modifier = Modifier.fillMaxSize(),\n",
    "            verticalArrangement = Arrangement.Center,\n",
    "            horizontalAlignment = Alignment.CenterHorizontally\n",
    "        ) {\n",
    "            Text(\n",
    "                text = data[index].first,\n",
    "            )\n",
    "        }\n",
    "    }\n",
    "}"
   ]
  },
  {
   "cell_type": "markdown",
   "id": "91b61a0f-bf36-4af2-8e16-f06b7398d66d",
   "metadata": {},
   "source": [
    "`HorizontalPager` renderuje strony w poziomie. Przyjmuje on kilka parametrów:\n",
    "- `state` - stan pagera, \n",
    "- `modifier` - modyfikator, który kontroluje rozmiar i położenie pagera, \n",
    "- `pageCount` - liczba stron\n",
    "- `pageSize` - rozmiar stron.\n",
    "\n",
    "Wewnątrz bloku lambda przekazanego do `HorizontalPager`, definiujemy zawartość każdej strony. Blok lambda otrzymuje indeks aktualnie renderowanej strony. Komponent `Column` renderuje zawartość strony w układzie kolumnowym. Przyjmuje on kilka parametrów:\n",
    "\n",
    "- `modifier` - modyfikator, który kontroluje rozmiar i położenie kolumny, \n",
    "- `verticalArrangement` - układ pionowy elementów w kolumnie \n",
    "- `horizontalAlignment` wyrównanie poziome elementów w kolumnie.\n",
    "\n",
    "Wewnątrz `Column` umieszczamy komponent `Text`, który renderuje tekst na stronie. Wyświetlamy tekst pobierając go z pierwszego elementu pary w data dla danego indeksu (`data[index].first`)."
   ]
  },
  {
   "cell_type": "markdown",
   "id": "2b5b6ab7-adf3-4cc3-b61f-181f6570484e",
   "metadata": {},
   "source": [
    "Możemy przetestować aplikację"
   ]
  },
  {
   "cell_type": "markdown",
   "id": "df07fb9f-f4b2-4994-9ee4-ec046da6e25e",
   "metadata": {},
   "source": [
    "<img src=\"https://media0.giphy.com/media/v1.Y2lkPTc5MGI3NjExNTYwOGVkNmEwNDIyYTU1NTEzYzEyOGEwZmY1ZjQ0NjBmNWFhMDk0ZiZlcD12MV9pbnRlcm5hbF9naWZzX2dpZklkJmN0PWc/99ggiI0zbSvtZSX9AS/giphy.gif\" width=\"200\" />"
   ]
  },
  {
   "cell_type": "code",
   "execution_count": null,
   "id": "c7af75a8-9357-4c9b-a3db-4165e34215de",
   "metadata": {},
   "outputs": [],
   "source": []
  }
 ],
 "metadata": {
  "kernelspec": {
   "display_name": "Kotlin",
   "language": "kotlin",
   "name": "kotlin"
  },
  "language_info": {
   "codemirror_mode": "text/x-kotlin",
   "file_extension": ".kt",
   "mimetype": "text/x-kotlin",
   "name": "kotlin",
   "nbconvert_exporter": "",
   "pygments_lexer": "kotlin",
   "version": "1.8.0-RC"
  }
 },
 "nbformat": 4,
 "nbformat_minor": 5
}
