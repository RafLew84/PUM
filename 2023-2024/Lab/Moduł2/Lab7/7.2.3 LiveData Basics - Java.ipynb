{
 "cells": [
  {
   "cell_type": "markdown",
   "id": "6a3cf411-4a76-4f52-a008-4d3c8a4afe27",
   "metadata": {},
   "source": [
    "# LiveData - Podstawy"
   ]
  },
  {
   "cell_type": "markdown",
   "id": "d1ffe55e-6b48-488c-b29a-845b516210aa",
   "metadata": {},
   "source": [
    "W tej aplikacji przyjrzymy się zastosowaniu `LiveData` - części architektury **MVVM**."
   ]
  },
  {
   "cell_type": "markdown",
   "id": "b321d226-12bb-434b-82c8-e333a37362c4",
   "metadata": {},
   "source": [
    "<img src=\"https://media2.giphy.com/media/v1.Y2lkPTc5MGI3NjExMDExYnllNDZwZW40NjAxbzl4ZTNlZXN0dHZ1aXE5MjFha2g2ZXV1ayZlcD12MV9pbnRlcm5hbF9naWZfYnlfaWQmY3Q9Zw/xYi3Uxdr0LCyxmoDJO/giphy.gif\" width=\"200\" />"
   ]
  },
  {
   "cell_type": "markdown",
   "id": "832c1bcd-2083-4503-8336-76f72adae4a3",
   "metadata": {},
   "source": [
    "`LiveData` jest częścią bibliotek Androida i jest obiektem, który przechowuje dane **obserwowane** przez komponenty aplikacji, takie jak aktywności, fragmenty czy `ViewModel`. Jest zaprojektowany tak, aby dostarczać reaktywne i cykliczne powiadomienia o zmianach danych.\n",
    "\n",
    "**Reaktywność** to podejście w programowaniu, które koncentruje się na tym, aby system reagował na zmiany i propagował te zmiany w sposób automatyczny. W kontekście aplikacji, reaktywność odnosi się do zdolności systemu do dynamicznego reagowania na zmiany danych i propagowania tych zmian do odpowiednich komponentów. \n",
    "\n",
    "Opiera się na obsłudze zdarzeń, które są generowane w systemie w wyniku **zmian w danych**. Zdarzenia te mogą być przekształcane i łączone za pomocą różnych operacji, tworząc **strumienie danych**. Strumienie są sekwencją wartości, które mogą być emitowane i subskrybowane (obserwowane) przez komponenty. Automatycznie propaguje zmiany w danych do komponentów, które subskrybują te dane. Oznacza to, że komponenty **nie muszą** ręcznie monitorować i aktualizować danych, ponieważ system sam zarządza tym procesem."
   ]
  },
  {
   "cell_type": "markdown",
   "id": "7461bb54-84eb-42ad-aa21-3160a04152f2",
   "metadata": {},
   "source": [
    "- Obserwowanie zmian - Komponenty mogą subskrybować (obserwować) `LiveData`, aby otrzymywać powiadomienia o zmianach danych. Kiedy wartość zostanie zaktualizowana, subskrybenci (obserwatorzy) otrzymają aktualizację i będą mogli zareagować na nową wartość.\n",
    "- Bezpieczeństwo wątków - `LiveData` automatycznie zarządza wątkami, zapewnia, otrzymanie powiadomień na wątku `UI` (**głównym wątku**). Jeśli wartość `LiveData` zostanie zmieniona w wątku innym niż wątek główny, powiadomienia zostaną dostarczone do obserwatorów w wątku głównym, co ułatwia aktualizację interfejsu użytkownika.\n",
    "- Unikanie wycieków pamięci: `LiveData` jest **świadome cyklu życia komponentów** i automatycznie **zatrzymuje obserwację**, gdy komponenty, które go subskrybują, są w **stanie nieaktywnym**, takim jak aktywność w stanie pauzy lub fragment w stanie `detach`. Dzięki temu unika się wycieków pamięci, które mogą wystąpić, gdy komponenty trzymają referencje do innych komponentów poza ich cyklem życia."
   ]
  },
  {
   "cell_type": "markdown",
   "id": "bd3e8a7f-f4a1-4353-a298-1efe2fcfdcd9",
   "metadata": {},
   "source": [
    "`LiveData` jest użyteczne w przypadku komunikacji między **warstwami aplikacji**, takimi jak `ViewModel` i interfejs użytkownika, ponieważ umożliwia bezpośrednie powiązanie danych z widokami (elementami ui), eliminując potrzebę ręcznej synchronizacji danych."
   ]
  },
  {
   "cell_type": "markdown",
   "id": "0fea34a6-c37d-4614-9f8b-0125adc55fe3",
   "metadata": {},
   "source": [
    "`LiveData` jest bardziej odpowiednie do **tradycyjnych** (gdzie ui tworzony jest w oparciu o `View` z `Fragment`) aplikacji Android. `State` natomiast jest dedykowane dla aplikacji opartych na **Jetpack Compose**, które używają **deklaratywnego podejścia** do budowania `UI`. Oba mechanizmy dostarczają reaktywności i automatycznego odświeżania widoku w odpowiedzi na zmiany danych."
   ]
  },
  {
   "cell_type": "markdown",
   "id": "f2651ac0-5e64-4ee2-bb51-900bb68326e0",
   "metadata": {},
   "source": [
    "Utworzymy prosty licznik, w którym wartość licznika będzie obserwowana. komponent odpowiedzialny za renderowanie ekranu będzie reagował automatycznie na zmiany tej wartości."
   ]
  },
  {
   "cell_type": "markdown",
   "id": "a6e7d38f-789d-4617-85e0-5dc3bbe216f1",
   "metadata": {},
   "source": [
    "Aby skorzystać z `LiveData` i `ViewModel` musimy dodać odpowiednie zależności."
   ]
  },
  {
   "cell_type": "code",
   "execution_count": null,
   "id": "86a2b7bc-37c3-4493-954c-2a7d29753f7f",
   "metadata": {
    "tags": []
   },
   "outputs": [],
   "source": [
    "implementation 'androidx.lifecycle:lifecycle-viewmodel:2.5.1'"
   ]
  },
  {
   "cell_type": "markdown",
   "id": "63a8e37d-8317-408c-91df-7082b02a1ab8",
   "metadata": {},
   "source": [
    "Rozpocznijmy od utworzenia `ViewModel`"
   ]
  },
  {
   "cell_type": "markdown",
   "id": "8e18e865-81d2-4c26-9b15-8265bbf5b621",
   "metadata": {},
   "source": [
    "### ViewModel"
   ]
  },
  {
   "cell_type": "code",
   "execution_count": null,
   "id": "0b83d08d-51fd-4690-ab89-ceb54299eb4e",
   "metadata": {},
   "outputs": [],
   "source": [
    "public class CounterViewModel extends ViewModel {\n",
    "    private final MutableLiveData<Integer> counter = new MutableLiveData<>(0);\n",
    "\n",
    "    public LiveData<Integer> getCounter() {\n",
    "        return counter;\n",
    "    }\n",
    "\n",
    "    public void increase(){\n",
    "        if (counter.getValue() != null)\n",
    "            counter.setValue(counter.getValue() + 1);\n",
    "    }\n",
    "\n",
    "    public void decrease(){\n",
    "        if (counter.getValue() != null)\n",
    "            counter.setValue(counter.getValue() - 1);\n",
    "    }\n",
    "\n",
    "    public void clear(){\n",
    "        if (counter.getValue() != null)\n",
    "            counter.setValue(0);\n",
    "    }\n",
    "}"
   ]
  },
  {
   "cell_type": "markdown",
   "id": "75fdbd65-095b-4d7f-b346-13f3e7b0d339",
   "metadata": {},
   "source": [
    "- `private final MutableLiveData<Integer> counter = new MutableLiveData<>(0);` - `MutableLiveData` jest klasą służącą do przechowywania i zarządzania danymi reaktywnymi. pole przechowuje aktualną wartość licznika i jest zainicjalizowane wartością 0. Jeżeli chcemy zmienić wartość z poziomu `CounterFragment`, wywołujemy odpowiednią metodę dostępową, która odpowiednio modyfikuje to pole.\n",
    "- `public LiveData<Integer> getCounter()` Getter dostarcza dostęp do pola `counter` tylko do odczytu, umożliwiając obserwowanie jego wartości bez możliwości zmiany.\n",
    "- `public void increase()` Metoda dostępowa zwiększająca stan licznika.\n",
    "- `public void decrease()` Metoda dostępowa zmniejszająca stan licznika.\n",
    "- `public void clear()` Metoda dostępowa rresetująca stan licznika.\n",
    "\n",
    "Klasa `CounterViewModel` dostarcza interfejs do zarządzania stanem licznika poprzez metody `increase()`, `decrease()` i `clear()`. Pole `counter` umożliwia obserwowanie wartości licznika i reagowanie na jego zmiany w innych komponentach są subskrybentami (blokuje możliwość bezpośredniej zmiany licznika - do tego służą metody dostępowe)."
   ]
  },
  {
   "cell_type": "markdown",
   "id": "71336b62-7aa2-4436-a493-fc993e5639c5",
   "metadata": {},
   "source": [
    "### CounterFragment"
   ]
  },
  {
   "cell_type": "markdown",
   "id": "51c6723f-5817-46a9-bd6b-d10540103fe0",
   "metadata": {},
   "source": [
    "Rozpocznijmy od zdefiniowania layoutów dla aktywności głównej oraz fragmentu. Podobnie jak we wcześniejszej aplikacji, wykorzystujemy jeden fragment, więc nie korzystamy z nawigacji."
   ]
  },
  {
   "cell_type": "code",
   "execution_count": null,
   "id": "3b977e36-6b7e-480f-ad6c-bc3e4b95644e",
   "metadata": {},
   "outputs": [],
   "source": [
    "// fragment_counter.xml\n",
    "<?xml version=\"1.0\" encoding=\"utf-8\"?>\n",
    "<LinearLayout xmlns:android=\"http://schemas.android.com/apk/res/android\"\n",
    "    xmlns:tools=\"http://schemas.android.com/tools\"\n",
    "    android:layout_width=\"match_parent\"\n",
    "    android:layout_height=\"match_parent\"\n",
    "    android:orientation=\"vertical\">\n",
    "\n",
    "    <TextView\n",
    "        android:id=\"@+id/show_count\"\n",
    "        android:layout_width=\"match_parent\"\n",
    "        android:layout_height=\"0dp\"\n",
    "        android:layout_weight=\"1\"\n",
    "        android:gravity=\"center\"\n",
    "        android:text=\"0\"\n",
    "        android:textSize=\"250sp\"\n",
    "        android:textStyle=\"bold\" />\n",
    "\n",
    "    <LinearLayout\n",
    "        android:layout_width=\"match_parent\"\n",
    "        android:layout_height=\"wrap_content\"\n",
    "        android:orientation=\"horizontal\">\n",
    "\n",
    "        <Button\n",
    "            android:id=\"@+id/increaseButton\"\n",
    "            android:layout_width=\"0dp\"\n",
    "            android:layout_height=\"wrap_content\"\n",
    "            android:layout_margin=\"4dp\"\n",
    "            android:layout_weight=\".5\"\n",
    "            android:text=\"Increase\" />\n",
    "\n",
    "        <Button\n",
    "            android:id=\"@+id/decreaseButton\"\n",
    "            android:layout_width=\"0dp\"\n",
    "            android:layout_height=\"wrap_content\"\n",
    "            android:layout_margin=\"4dp\"\n",
    "            android:layout_weight=\".5\"\n",
    "            android:text=\"Decrease\" />\n",
    "    </LinearLayout>\n",
    "\n",
    "    <Button\n",
    "        android:id=\"@+id/resetButtton\"\n",
    "        android:layout_width=\"match_parent\"\n",
    "        android:layout_height=\"wrap_content\"\n",
    "        android:text=\"Reset\" />\n",
    "</LinearLayout>"
   ]
  },
  {
   "cell_type": "code",
   "execution_count": null,
   "id": "89e1c8c3-7379-4acd-8153-00e44e61b78a",
   "metadata": {},
   "outputs": [],
   "source": [
    "// activity_main.xml\n",
    "<?xml version=\"1.0\" encoding=\"utf-8\"?>\n",
    "<androidx.constraintlayout.widget.ConstraintLayout xmlns:android=\"http://schemas.android.com/apk/res/android\"\n",
    "    xmlns:app=\"http://schemas.android.com/apk/res-auto\"\n",
    "    xmlns:tools=\"http://schemas.android.com/tools\"\n",
    "    android:layout_width=\"match_parent\"\n",
    "    android:layout_height=\"match_parent\"\n",
    "    tools:context=\".ui.MainActivity\">\n",
    "\n",
    "    <androidx.fragment.app.FragmentContainerView\n",
    "        android:id=\"@+id/fragment_main\"\n",
    "        android:name=\"com.example.livedatabasics_kotlin.ui.fragment.CounterFragment\"\n",
    "        android:layout_width=\"match_parent\"\n",
    "        android:layout_height=\"match_parent\"\n",
    "        app:layout_constraintBottom_toBottomOf=\"parent\"\n",
    "        app:layout_constraintEnd_toEndOf=\"parent\"\n",
    "        app:layout_constraintStart_toStartOf=\"parent\"\n",
    "        app:layout_constraintTop_toTopOf=\"parent\" />\n",
    "</androidx.constraintlayout.widget.ConstraintLayout>"
   ]
  },
  {
   "cell_type": "markdown",
   "id": "3163c6cf-43f6-46aa-ac66-0ce2370df15d",
   "metadata": {},
   "source": [
    "Dodajmy instancję `CounterViewModel` do fragmentu."
   ]
  },
  {
   "cell_type": "code",
   "execution_count": null,
   "id": "7026d400-9afa-4f76-8826-c33b415ba792",
   "metadata": {},
   "outputs": [],
   "source": [
    "private CounterViewModel viewModel;"
   ]
  },
  {
   "cell_type": "markdown",
   "id": "d123d3d6-c7eb-493c-927f-ac79c46d0146",
   "metadata": {},
   "source": [
    "W metodzie `onCreateView` zainicjujmy `viewModel` i dodajmy nasz fragment jako obserwatora do pola `counter` klasy `CounterViewModel`"
   ]
  },
  {
   "cell_type": "code",
   "execution_count": null,
   "id": "b348c384-b74a-4f9c-8890-18476c41d122",
   "metadata": {},
   "outputs": [],
   "source": [
    "viewModel = new ViewModelProvider(requireActivity()).get(CounterViewModel.class);\n",
    "\n",
    "viewModel.getCounter().observe(getViewLifecycleOwner(),\n",
    "        newValue -> binding.showCount.setText(newValue.toString()));"
   ]
  },
  {
   "cell_type": "markdown",
   "id": "9df73022-2202-4012-88c3-24f1a3807111",
   "metadata": {},
   "source": [
    "Przy użyciu metody `observe()` na `LiveData` dodajemy fragment jako obserwatora (subskrybenta) pola `counter`. `viewLifecycleOwner` wskazuje, że obserwator ma być związany z cyklem życia widoku (dzięki temu `LiveData` *wie* kiedy wstrzymać aktualizacje - kiedy fragment znajduje się w stanie nieaktywnym). Kiedy wartość `counter` w `viewModel` ulegnie zmianie, przekaże nową wartość do lambdy `newValue -> ... `. W tym przypadku, nowa wartość `counter` jest przypisywana do `binding.showCount.text`.\n",
    "\n",
    "W efekcie, za każdym razem, gdy wartość `counter` w `viewModel` ulegnie zmianie, tekst w `binding.showCount.text` zostanie zaktualizowany i widok będzie wyświetlał nową wartość."
   ]
  },
  {
   "cell_type": "markdown",
   "id": "bc90ae43-dd03-48b0-a9bd-3975188640f6",
   "metadata": {},
   "source": [
    "Dodajmy obsługę przycisków."
   ]
  },
  {
   "cell_type": "code",
   "execution_count": null,
   "id": "e7095979-4dc3-465d-9fa5-7f784f5d812e",
   "metadata": {},
   "outputs": [],
   "source": [
    "binding.increaseButton.setOnClickListener(view -> viewModel.increase());\n",
    "binding.decreaseButton.setOnClickListener( view -> viewModel.decrease());\n",
    "binding.resetButtton.setOnClickListener (view -> viewModel.clear());"
   ]
  },
  {
   "cell_type": "markdown",
   "id": "1bbdb312-f197-44da-8bfe-6c8c6ac0c260",
   "metadata": {},
   "source": [
    "Za każdym razem, gdy zmieniamy wartość `_counter` za pomocą metod dostępowych (`increase()`, `decrease()`, `clear()`), tekst w polu `binding.showCount.text` zostanie zaktualiowany."
   ]
  },
  {
   "cell_type": "markdown",
   "id": "e45d06de-9875-4a37-be27-ea1d6ec74eba",
   "metadata": {},
   "source": [
    "Możemy przetestować aplikację"
   ]
  },
  {
   "cell_type": "markdown",
   "id": "053a22f2-9d12-422d-a789-cdb63a812159",
   "metadata": {},
   "source": [
    "<table><tr><td><img src=\"https://media2.giphy.com/media/v1.Y2lkPTc5MGI3NjExMDExYnllNDZwZW40NjAxbzl4ZTNlZXN0dHZ1aXE5MjFha2g2ZXV1ayZlcD12MV9pbnRlcm5hbF9naWZfYnlfaWQmY3Q9Zw/xYi3Uxdr0LCyxmoDJO/giphy.gif\" width=\"150\" /></td><td><img src=\"https://media2.giphy.com/media/v1.Y2lkPTc5MGI3NjExZWl6emZ3cWxvYzByMDJ1aWdtbG94eTlyZzI0MTh4ejluejg1dnhzNiZlcD12MV9pbnRlcm5hbF9naWZfYnlfaWQmY3Q9Zw/S3uYswjxuVK1ILsds0/giphy.gif\" width=\"200\" /></td></tr></table>"
   ]
  }
 ],
 "metadata": {
  "kernelspec": {
   "display_name": "Kotlin",
   "language": "kotlin",
   "name": "kotlin"
  },
  "language_info": {
   "codemirror_mode": "text/x-kotlin",
   "file_extension": ".kt",
   "mimetype": "text/x-kotlin",
   "name": "kotlin",
   "nbconvert_exporter": "",
   "pygments_lexer": "kotlin",
   "version": "1.8.0-RC"
  }
 },
 "nbformat": 4,
 "nbformat_minor": 5
}
