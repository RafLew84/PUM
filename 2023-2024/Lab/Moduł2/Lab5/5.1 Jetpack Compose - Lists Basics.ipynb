{
 "cells": [
  {
   "cell_type": "markdown",
   "id": "f6866830-ea5b-44d1-805e-e34dc18eb2ba",
   "metadata": {},
   "source": [
    "# Jetpack Compose - Listy"
   ]
  },
  {
   "cell_type": "markdown",
   "id": "3b4e79eb-2487-466e-ab6f-11cfc01dbd27",
   "metadata": {},
   "source": [
    "\n",
    "Ekwiwalent `RecyclerView` w `Jetpack Compose` to `LazyColumn` lub `LazyRow`. Oba te widżety pozwalają na wyświetlenie dynamicznej listy elementów, podobnie jak `RecyclerView`.\n",
    "\n",
    "`LazyColumn` to widżet, który umożliwia przewijanie w pionie, a `LazyRow` umożliwia przewijanie w poziomie. W obu przypadkach widżety te automatycznie usuwają i ponownie tworzą tylko te elementy listy, które są widoczne na ekranie, co pozwala na płynne i efektywne wyświetlanie dużych list danych."
   ]
  },
  {
   "cell_type": "markdown",
   "id": "119b2b81-cf06-4b7a-a7b1-2cd798c69393",
   "metadata": {},
   "source": [
    "Podobnie jak w przykładzie 2.1, utworzymy listę słów z klikalnymi elementami."
   ]
  },
  {
   "cell_type": "markdown",
   "id": "aa669419-2247-4b2a-9c72-39e564ace365",
   "metadata": {},
   "source": [
    "Rozpocznijmy od implementacji funkcji `Composable"
   ]
  },
  {
   "cell_type": "code",
   "execution_count": null,
   "id": "505916d3-f500-4264-9543-0f4ccf8d4c9c",
   "metadata": {},
   "outputs": [],
   "source": [
    "@Composable\n",
    "fun ListOfWords(){\n",
    "    LazyColumn{\n",
    "        items(50){\n",
    "            var word by remember {\n",
    "                mutableStateOf(\"word $it\")\n",
    "            }\n",
    "            Text(\n",
    "                text = word,\n",
    "                fontSize = 32.sp,\n",
    "                textAlign = TextAlign.Center,\n",
    "                modifier = Modifier\n",
    "                    .fillMaxWidth()\n",
    "                    .padding(2.dp)\n",
    "                    .clickable { word += \"Clicked!!!\" }\n",
    "            )\n",
    "        }\n",
    "    }\n",
    "}"
   ]
  },
  {
   "cell_type": "markdown",
   "id": "aa69ec9b-276a-4033-9e54-8a2820bb85f3",
   "metadata": {},
   "source": [
    "Funkcja wyświetla listę 50 słów. W `LazyColumn` użyty jest `items`, który pozwala iterować po elementach i wyświetlać je w pionowej liście.\n",
    "\n",
    "Dla każdego elementu na liście, tworzona jest zmienna `\"word\"` za pomocą `remember` i `mutableStateOf`. Zmienna ta przechowuje aktualny stan tekstu, który jest ustawiony na `\"word $it\"`, gdzie `\"$it\"` jest numerem elementu na liście.\n",
    "\n",
    "Komponent `Text` wyświetla wartość zmiennej `\"word\"` z odpowiednio ustawionym rozmiarem czcionki i wyrównaniem tekstu. Dodatkowo, modifikator `clickable` jest wykorzystany, aby dodać interakcję po kliknięciu w dany element. Po kliknięciu, wartość zmiennej `\"word\"` jest aktualizowana przez dodanie napisu `\"Clicked!!!\"` na początek, a następnie zostaje ponownie wyświetlona na ekranie."
   ]
  },
  {
   "cell_type": "markdown",
   "id": "5711d885-4f45-4595-9d97-71bd040c79d7",
   "metadata": {},
   "source": [
    "<img src=\"https://media0.giphy.com/media/v1.Y2lkPTc5MGI3NjExMDFhODA0MzNlMTRiOWM0NzNjNTA5MjU1MzM2YWE2YzQ1ZWJlOTg0ZiZlcD12MV9pbnRlcm5hbF9naWZzX2dpZklkJmN0PWc/woddvgtKjc22HGvhZN/giphy.gif\" width=\"200\" />"
   ]
  },
  {
   "cell_type": "markdown",
   "id": "f55ca7c1-16e5-48cf-af31-08ae8817d9f9",
   "metadata": {},
   "source": [
    "Zwróćmy uwagę na problem, który występuje podczas przewijania. Po powrocie tekst jest resetowany - jest to podobny problem do tego, który mieliśmy w `RecyclerView`"
   ]
  },
  {
   "cell_type": "markdown",
   "id": "a7709500-073e-4fab-9f2f-bcf9e8891731",
   "metadata": {},
   "source": [
    "<img src=\"https://media0.giphy.com/media/v1.Y2lkPTc5MGI3NjExMGQ3ZDYxZDZmYmZkYzM1MTYzNjgyZWMyOGI2ZjFlN2M3NjgxNWZhYSZlcD12MV9pbnRlcm5hbF9naWZzX2dpZklkJmN0PWc/Ju0SS9obZl7VIdES9A/giphy.gif\" width=\"200\" />"
   ]
  },
  {
   "cell_type": "markdown",
   "id": "b078cc65-c541-4d77-85c8-b100584b70be",
   "metadata": {},
   "source": [
    "To zdarzenie jest spowodowane ponownym uruchomieniem komponentu. Gdy przewijasz listę, komponenty, które są poza widokiem, zostają usunięte, aby zoptymalizować wydajność. Następnie, gdy wracasz do elementów, które wcześniej były poza widokiem, ponownie zostaną one utworzone, co spowoduje ponowne wykonanie kodu w funkcji komponującej.\n",
    "\n",
    "W tym konkretnym przypadku, zmienna `\"word\"` jest ustawiana przy użyciu `mutableStateOf`. Gdy komponent zostanie ponownie utworzony, stan zmiennych z `mutableStateOf` jest resetowany do wartości domyślnej. Dlatego po przewinięciu listy i powrocie, wartość zmiennej `\"word\"` zostanie zresetowana do wartości `\"word $it\"`.\n",
    "\n",
    "Aby temu zapobiec, możesz przenieść zmienną `\"word\"` na poziom wyżej, na przykład do `ViewModel` lub do miejsca, w którym jest gromadzona cała lista słów. W ten sposób wartość zmiennej `\"word\"` będzie przechowywana poza funkcją komponującą, a jej wartość nie zostanie zresetowana przy ponownym tworzeniu komponentu."
   ]
  },
  {
   "cell_type": "markdown",
   "id": "32c40132-cce4-44df-8ab6-b9ecdc35b35e",
   "metadata": {},
   "source": [
    "Zmodyfikujmy nieco kod i dodajmy funkcję tworzącą listę"
   ]
  },
  {
   "cell_type": "code",
   "execution_count": null,
   "id": "b724b4a6-b919-4284-a3f6-2c4bac7ddbd9",
   "metadata": {},
   "outputs": [],
   "source": [
    "private fun generateWordList(): MutableList<String> {\n",
    "    return (1..50).map { \"word $it\" }.toMutableList()\n",
    "}"
   ]
  },
  {
   "cell_type": "markdown",
   "id": "1e9a6546-d551-48b3-9b88-c81a218790d2",
   "metadata": {},
   "source": [
    "Teraz,, nasza funkcja `ListOfOwrds` będzie przyjmować listę słów jakop argument"
   ]
  },
  {
   "cell_type": "code",
   "execution_count": null,
   "id": "661059c3-d203-4f5e-bb2c-4ef1aa27887f",
   "metadata": {},
   "outputs": [],
   "source": [
    "class MainActivity : ComponentActivity() {\n",
    "    override fun onCreate(savedInstanceState: Bundle?) {\n",
    "        super.onCreate(savedInstanceState)\n",
    "        setContent {\n",
    "            JetpackComposeListsBasicsTheme {\n",
    "                Surface(\n",
    "                    modifier = Modifier.fillMaxSize(),\n",
    "                    color = MaterialTheme.colorScheme.background\n",
    "                ) {\n",
    "                    ListOfWords(generateWordList())\n",
    "                }\n",
    "            }\n",
    "        }\n",
    "    }\n",
    "}"
   ]
  },
  {
   "cell_type": "code",
   "execution_count": null,
   "id": "418059c6-86d9-4052-9451-14f6d40985cd",
   "metadata": {},
   "outputs": [],
   "source": [
    "@Composable\n",
    "fun ListOfWords(words: MutableList<String>){\n",
    "    LazyColumn{\n",
    "        items(words.size){\n",
    "            var word by remember {\n",
    "                mutableStateOf(words[it])\n",
    "            }\n",
    "            Text(\n",
    "                text = word,\n",
    "                fontSize = 32.sp,\n",
    "                textAlign = TextAlign.Center,\n",
    "                modifier = Modifier\n",
    "                    .fillMaxWidth()\n",
    "                    .padding(2.dp)\n",
    "                    .clickable {\n",
    "                        word += \"Clicked!!!\"\n",
    "                        words[it] = word\n",
    "                    }\n",
    "            )\n",
    "        }\n",
    "    }\n",
    "}"
   ]
  },
  {
   "cell_type": "markdown",
   "id": "8523531c-4b2e-486f-a765-d432f975807c",
   "metadata": {},
   "source": [
    "Każdy element listy `Text` jest klikalny za pomocą modifikatora `clickable`. Po kliknięciu na element, do jego tekstu dodawany jest napis `\"Clicked!!!\"`, a tekst w oryginalnej liście słów jest aktualizowany.\n",
    "\n",
    "W przeciwieństwie do pierwotnej wersji kodu, która przechowywała stan poszczególnych elementów listy w zmiennej lokalnej, w tym przypadku stan jest przechowywany w oryginalnej liście words. Dzięki temu, gdy lista zostanie przesunięta i elementy znikną z widoku, a następnie zostaną ponownie wyświetlone, ich stan zostanie zachowany, ponieważ zostanie pobrany z oryginalnej listy."
   ]
  },
  {
   "cell_type": "markdown",
   "id": "be7f0aa9-9541-4cc6-9e93-1c183283ee09",
   "metadata": {},
   "source": [
    "<img src=\"https://media2.giphy.com/media/v1.Y2lkPTc5MGI3NjExMWM3ZWNiYjQ3ZTc0OGUwOWJjY2E2ZjNkZDhkNGU4OTI4MjU4YTllOSZlcD12MV9pbnRlcm5hbF9naWZzX2dpZklkJmN0PWc/zWP5TNT4VZNEYVyYRm/giphy.gif\" width=\"200\" />"
   ]
  }
 ],
 "metadata": {
  "kernelspec": {
   "display_name": "Kotlin",
   "language": "kotlin",
   "name": "kotlin"
  },
  "language_info": {
   "codemirror_mode": "text/x-kotlin",
   "file_extension": ".kt",
   "mimetype": "text/x-kotlin",
   "name": "kotlin",
   "nbconvert_exporter": "",
   "pygments_lexer": "kotlin",
   "version": "1.8.0-RC"
  }
 },
 "nbformat": 4,
 "nbformat_minor": 5
}
