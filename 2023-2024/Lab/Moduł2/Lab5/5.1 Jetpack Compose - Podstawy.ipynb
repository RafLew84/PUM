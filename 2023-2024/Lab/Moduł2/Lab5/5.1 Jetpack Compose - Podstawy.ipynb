{
 "cells": [
  {
   "cell_type": "markdown",
   "id": "91116d0b-c77f-4d46-a940-568c88dbb26e",
   "metadata": {},
   "source": [
    "# Jetpack Compose - Podstawy"
   ]
  },
  {
   "cell_type": "markdown",
   "id": "77e5605a-25ca-4a52-a0c1-2c611e187242",
   "metadata": {},
   "source": [
    "`Jetpack Compose` to biblioteka UI do tworzenia interfejsów użytkownika dla aplikacji na platformie Android. Jest to stosunkowo nowa biblioteka stworzona przez Google, która oferuje nowe podejście do tworzenia interfejsów użytkownika. W przeciwieństwie do tradycyjnego podejścia, w którym interfejsy użytkownika są tworzone za pomocą plików XML i kodu Java/Kotlin, `Jetpack Compose` pozwala na tworzenie interfejsów tylko za pomocą kodu Kotlin."
   ]
  },
  {
   "cell_type": "markdown",
   "id": "d4806840-cd2a-4059-979f-440896b3c3e5",
   "metadata": {},
   "source": [
    "Rozpoczynając nowy projekt wybieramy `Empty Activity`."
   ]
  },
  {
   "cell_type": "markdown",
   "id": "dff34921-175a-4d2c-a4eb-b26963564a5b",
   "metadata": {},
   "source": [
    "Po rozpoczęciu nowego projektu powinniśmy dostać kod głównej aktywności."
   ]
  },
  {
   "cell_type": "code",
   "execution_count": null,
   "id": "4192fd3c-dd38-4bae-8ecf-8051f1eccf74",
   "metadata": {},
   "outputs": [],
   "source": [
    "class MainActivity : ComponentActivity() {\n",
    "    override fun onCreate(savedInstanceState: Bundle?) {\n",
    "        super.onCreate(savedInstanceState)\n",
    "        setContent {\n",
    "            JetpackComposeBasicsTheme {\n",
    "                // A surface container using the 'background' color from the theme\n",
    "                Surface(\n",
    "                    modifier = Modifier.fillMaxSize(),\n",
    "                    color = MaterialTheme.colorScheme.background\n",
    "                ) {\n",
    "                    Greeting(\"Android\")\n",
    "                }\n",
    "            }\n",
    "        }\n",
    "    }\n",
    "}\n",
    "\n",
    "@Composable\n",
    "fun Greeting(name: String, modifier: Modifier = Modifier) {\n",
    "    Text(\n",
    "        text = \"Hello $name!\",\n",
    "        modifier = modifier\n",
    "    )\n",
    "}\n",
    "\n",
    "@Preview(showBackground = true)\n",
    "@Composable\n",
    "fun GreetingPreview() {\n",
    "    JetpackComposeBasicsTheme {\n",
    "        Greeting(\"Android\")\n",
    "    }\n",
    "}"
   ]
  },
  {
   "cell_type": "markdown",
   "id": "385db622-29fc-4c61-9a3a-d378d33c4514",
   "metadata": {},
   "source": [
    "Dalej posiadamy metodę `setContent` (poprzednio `setContentView`), która przyjmuje lambdę. Oraz, w katalogu `res` nie ma katalogu `layout`."
   ]
  },
  {
   "cell_type": "markdown",
   "id": "df9729d3-f657-424d-b4c4-f04f660a8433",
   "metadata": {},
   "source": [
    "Funkcje oznaczone adnotacją `@Composable` pozwalają na tworzenie interfejsu użytkownika w sposób deklaratywny, co oznacza, że jest to metoda definiowania wyglądu interfejsu użytkownika, a nie sekwencji instrukcji do wykonania. Gdy komponent `Composable` jest używany w kodzie, `Compose` automatycznie wykrywa, że dany komponent uległ zmianie i na bieżąco aktualizuje wyświetlane dane, co zapewnia reaktywność interfejsu użytkownika. W ten sposób możliwe jest tworzenie interfejsu użytkownika za pomocą wielu modułów, z których każdy odpowiada za tworzenie określonego elementu interfejsu użytkownika. Dzięki temu tworzenie i utrzymywanie dużych i skomplikowanych interfejsów użytkownika staje się prostsze i bardziej przejrzyste niż stosowanie plików `XML`."
   ]
  },
  {
   "cell_type": "markdown",
   "id": "ec1b9c34-7cf2-409e-b26c-c913a2cfd697",
   "metadata": {},
   "source": [
    "`Composable` `GreetingPreview` jest używana do podglądu elementu interfejsu użytkownika, który jest tworzony przez funkcję `Greeting`. Adnotacja `@Preview` to specjalna adnotacja w `Compose`, która umożliwia podgląd interfejsu użytkownika w edytorze interfejsu podczas projektowania aplikacji. Dzięki temu możemy zobaczyć, jak dany element wygląda w czasie rzeczywistym, bez konieczności uruchamiania aplikacji.\n",
    "\n",
    "Argument `showBackground` ustawiony na `true` oznacza, że w tle podglądu będzie wyświetlony kolor tła, który został zdefiniowany w `ComposeBasicsTheme`.\n",
    "\n",
    "Wewnątrz funkcji `GreetingPreview `wywoływana jest funkcja `ComposeBasicsTheme`, która definiuje stylizację interfejsu użytkownika. Następnie wywoływana jest funkcja `Greeting` z argumentem `\"Android\"`, która jest elementem interfejsu użytkownika i wyświetla tekst powitania `\"Hello Android!\"`.\n",
    "\n",
    "Funkcja `GreetingPreview` może być wykorzystywana w celu podglądu, jak dany element interfejsu użytkownika wygląda w różnych konfiguracjach. Na przykład, można zmienić argument `\"Android\"` na inną nazwę i sprawdzić, jak zmieni się tekst powitania. Dzięki temu możemy szybko testować różne warianty interfejsu użytkownika bez konieczności uruchamiania całej aplikacji."
   ]
  },
  {
   "cell_type": "markdown",
   "id": "3ba9d26d-86e6-4ca8-80c2-cfeb1884d1a7",
   "metadata": {},
   "source": [
    "<img src=\"https://media4.giphy.com/media/v1.Y2lkPTc5MGI3NjExMTFiNGY2MzRlNDg4YzgxODIwODczYjY1MDkxMjc3NWE4MGIxMzg0YyZlcD12MV9pbnRlcm5hbF9naWZzX2dpZklkJmN0PWc/XYI5qQMsJrh2GEQCYi/giphy.gif\" width=\"400\" />"
   ]
  },
  {
   "cell_type": "markdown",
   "id": "ae2eb087-a54e-43c1-b422-6e103fdaf226",
   "metadata": {},
   "source": [
    "Funkcja `setContent` to funkcja w `Compose`, która ustawia widok ui dla aktywności. W tym przypadku, interfejs użytkownika jest definiowany za pomocą funkcji `ComposeBasicsTheme`. Funkcja `ComposeBasicsTheme` definiuje stylizację interfejsu użytkownika dla całej aplikacji. Tutaj ustawiamy tylko kolor tła.\n",
    "\n",
    "Następnie wewnątrz funkcji `Surface` definiowany jest kontener `Surface`, który zajmuje całą dostępną przestrzeń (`modifier = Modifier.fillMaxSize()`) i korzysta z koloru tła zdefiniowanego w `MaterialTheme` (`color = MaterialTheme.colorScheme.background`).\n",
    "\n",
    "Wewnątrz kontenera `Surface` wywoływana jest funkcja `Greeting` odpowiedzialna za wyświetlenie tekstu."
   ]
  },
  {
   "cell_type": "markdown",
   "id": "b74c7795-1f88-4460-86d3-46a35aef0bb6",
   "metadata": {},
   "source": [
    "W pierwszym kroku usuńmy wszystko z `setContent` i wywołajmy funkcję `Greeting`"
   ]
  },
  {
   "cell_type": "code",
   "execution_count": null,
   "id": "ab1640f0-46fd-496d-b08a-e58b1054aab0",
   "metadata": {},
   "outputs": [],
   "source": [
    "class MainActivity : ComponentActivity() {\n",
    "    override fun onCreate(savedInstanceState: Bundle?) {\n",
    "        super.onCreate(savedInstanceState)\n",
    "        setContent {\n",
    "            Greeting(name = \"Rafał\")\n",
    "        }\n",
    "    }\n",
    "}"
   ]
  },
  {
   "cell_type": "markdown",
   "id": "efbeed7c-c631-4812-a586-4ab63ed2af7d",
   "metadata": {},
   "source": [
    "<img src=\"https://i.ibb.co/GFtyVKh/obraz-2023-04-23-140607073.png\" width=\"150\" />"
   ]
  },
  {
   "cell_type": "markdown",
   "id": "e6b7f898-f603-45ce-8936-ee4b5c5692c4",
   "metadata": {},
   "source": [
    "## `Column`, `Row`"
   ]
  },
  {
   "cell_type": "markdown",
   "id": "1848406d-e178-4f81-8143-b58b8454d603",
   "metadata": {},
   "source": [
    "`Column` oraz `Row` w Compose są to komponentt layoutu, które są odpowiedzialne za układanie elementów interfejsu użytkownika w kolumnie lub rzędzie. Można to porównać do komponentu `LinearLayout`.\n",
    "\n",
    "Korzystając z komponentu `Column`, można umieścić wiele elementów interfejsu użytkownika jeden pod drugim w pionowej kolumnie, analogicznie, wyykorzystując komponent `Row` możemy umieścić wiele elementów ui jeden obok drugiego."
   ]
  },
  {
   "cell_type": "code",
   "execution_count": null,
   "id": "64600c42-b74c-48a9-9929-5d775296fca5",
   "metadata": {},
   "outputs": [],
   "source": [
    "override fun onCreate(savedInstanceState: Bundle?) {\n",
    "    super.onCreate(savedInstanceState)\n",
    "    setContent {\n",
    "        Column {\n",
    "            Text(text = \"Jeden\")\n",
    "            Text(text = \"Dwa\")\n",
    "        }\n",
    "    }\n",
    "}"
   ]
  },
  {
   "cell_type": "markdown",
   "id": "2749ff1c-3e5c-4ef0-9283-49f6523039f9",
   "metadata": {},
   "source": [
    "<img src=\"https://i.ibb.co/8zBLDqy/obraz-2023-04-23-142507422.png\" width=\"150\" />"
   ]
  },
  {
   "cell_type": "code",
   "execution_count": null,
   "id": "1ca3d4e9-b26b-46a0-bea1-566724ed2bf1",
   "metadata": {},
   "outputs": [],
   "source": [
    "override fun onCreate(savedInstanceState: Bundle?) {\n",
    "    super.onCreate(savedInstanceState)\n",
    "    setContent {\n",
    "        Row {\n",
    "            Text(text = \"Jeden\")\n",
    "            Text(text = \"Dwa\")\n",
    "        }\n",
    "    }\n",
    "}"
   ]
  },
  {
   "cell_type": "markdown",
   "id": "8dd8aecb-bfd0-4e11-8456-aa2209b76efc",
   "metadata": {},
   "source": [
    "<img src=\"https://i.ibb.co/R4jWtSj/obraz-2023-04-23-142624045.png\" width=\"150\" />"
   ]
  },
  {
   "cell_type": "markdown",
   "id": "84e838d0-0930-491d-a3f5-06dbc5662f5e",
   "metadata": {},
   "source": [
    "## Modifier"
   ]
  },
  {
   "cell_type": "markdown",
   "id": "a8bf0578-3580-4883-925c-5507a5856220",
   "metadata": {},
   "source": [
    "`Modifier` w `Compose` to obiekt, który służy do modyfikacji wyglądu lub zachowania komponentu. Jest to jedna z kluczowych cech `Compose`, pozwalająca na dynamiczną i elastyczną zmianę wyglądu interfejsu użytkownika w czasie rzeczywistym. Działa na zasadzie łańcucha funkcji - każda kolejna funkcja modyfikuje obiekt wynikowy poprzedniej funkcji. W ten sposób można łączyć wiele modyfikacji w jednym wywołaniu i uzyskać skomplikowane i zaawansowane układy. Udostępnia wiele różnych modyfikacji, takich jak ustawianie rozmiaru i położenia, dodawanie kolorów i stylów, ustawianie marginesów i wewnętrznego odstępu, dodawanie animacji i wiele innych. Jedną z najważniejszych cech Modifera jest to, że działa on deklaratywnie. Oznacza to, że każda modyfikacja jest jednoznacznie zdefiniowana w kodzie, co ułatwia późniejsze modyfikacje i utrzymanie kodu."
   ]
  },
  {
   "cell_type": "code",
   "execution_count": null,
   "id": "60ab4410-9091-4afe-b5ad-722219b42241",
   "metadata": {},
   "outputs": [],
   "source": [
    "override fun onCreate(savedInstanceState: Bundle?) {\n",
    "    super.onCreate(savedInstanceState)\n",
    "    setContent {\n",
    "        Column(\n",
    "            modifier = Modifier\n",
    "                .fillMaxWidth() // szerokość kolumny\n",
    "                .background(Color.Cyan) // kolor tła kolumny\n",
    "        ) {\n",
    "            Text(text = \"Jeden\")\n",
    "            Text(text = \"Dwa\")\n",
    "        }\n",
    "    }\n",
    "}"
   ]
  },
  {
   "cell_type": "markdown",
   "id": "575573f1-7fbd-444d-a3f5-8060fd2e0e41",
   "metadata": {},
   "source": [
    "<img src=\"https://i.ibb.co/kD0xTTg/obraz-2023-04-23-143627202.png\" width=\"150\" />"
   ]
  },
  {
   "cell_type": "code",
   "execution_count": null,
   "id": "87fde842-2276-427f-8be7-a29dc81b7604",
   "metadata": {},
   "outputs": [],
   "source": []
  },
  {
   "cell_type": "markdown",
   "id": "f7d434e2-2896-4f49-b80c-7a29e9b12b62",
   "metadata": {},
   "source": [
    "## Alignment vs Arrangement"
   ]
  },
  {
   "cell_type": "markdown",
   "id": "61368012-efdf-4494-95ec-926c19a81d5f",
   "metadata": {},
   "source": [
    "*Alignment* dotyczy wyrównania elementów w ramach jednego wiersza lub kolumny (w zależności od tego, czy korzystamy z komponentu `Row` czy `Column`). Pozwala na określenie w jakiej odległości od krawędzi kontenera (np. w lewym górnym rogu) lub innych elementów powinien znajdować się dany element. Dzięki Alignment można ustawić wyrównanie poziome, pionowe lub skośne w stosunku do określonego punktu w ramach wiersza lub kolumny.\n",
    "\n",
    "*Arrangement* dotyczy ułożenia elementów w kontenerze. Pozwala na kontrolowanie odstępów między elementami w kolumnie lub wierszu, a także na regulowanie ich wagi, czyli na to, ile przestrzeni powinien zajmować dany element. W skrócie, Arrangement umożliwia określenie, jak poszczególne elementy powinny być ułożone względem siebie."
   ]
  },
  {
   "cell_type": "code",
   "execution_count": null,
   "id": "cbae492b-fce6-4f45-9605-7891a680b0dd",
   "metadata": {},
   "outputs": [],
   "source": [
    "override fun onCreate(savedInstanceState: Bundle?) {\n",
    "    super.onCreate(savedInstanceState)\n",
    "    setContent {\n",
    "        Column(\n",
    "            modifier = Modifier\n",
    "                .fillMaxWidth()\n",
    "                .background(Color.Cyan),\n",
    "            horizontalAlignment = Alignment.CenterHorizontally\n",
    "        ) {\n",
    "            Text(text = \"Jeden\")\n",
    "            Text(text = \"Dwa\")\n",
    "        }\n",
    "    }\n",
    "}"
   ]
  },
  {
   "cell_type": "markdown",
   "id": "3d0d5726-2c92-4b6d-8cee-3f36f7327c7e",
   "metadata": {},
   "source": [
    "<img src=\"https://i.ibb.co/y5c7Jh6/obraz-2023-04-23-143851586.png\" width=\"150\" />"
   ]
  },
  {
   "cell_type": "markdown",
   "id": "5f52822a-3df4-4e56-826a-70ee175b99e6",
   "metadata": {},
   "source": [
    "Zmieńmy `fillMaxWidth` na `fillMaxSize` aby kolumna wypełniała cały ekran i dodajmy `verticaArrangement`"
   ]
  },
  {
   "cell_type": "code",
   "execution_count": null,
   "id": "3566a2ac-fc0d-49d1-913a-d117a48d413e",
   "metadata": {},
   "outputs": [],
   "source": [
    "override fun onCreate(savedInstanceState: Bundle?) {\n",
    "    super.onCreate(savedInstanceState)\n",
    "    setContent {\n",
    "        Column(\n",
    "            modifier = Modifier\n",
    "                .fillMaxSize()\n",
    "                .background(Color.Cyan),\n",
    "            horizontalAlignment = Alignment.CenterHorizontally,\n",
    "            verticalArrangement = Arrangement.Center\n",
    "        ) {\n",
    "            Text(text = \"Jeden\")\n",
    "            Text(text = \"Dwa\")\n",
    "        }\n",
    "    }\n",
    "}"
   ]
  },
  {
   "cell_type": "markdown",
   "id": "d950af3c-7d73-40df-89d8-a4d2e08cb302",
   "metadata": {},
   "source": [
    "<img src=\"https://i.ibb.co/bW80Hmc/obraz-2023-04-23-144343978.png\" width=\"150\" />"
   ]
  },
  {
   "cell_type": "markdown",
   "id": "119ee830-9c1b-470a-8fe8-a5e23cddf397",
   "metadata": {},
   "source": [
    "Zróbmy to samo, ale z komponentem `Row` - zmieniając `Column` na `Row` zauważymy że teraz mamy dostęp do `horizontalArrangement` oraz `verticalAlignment`."
   ]
  },
  {
   "cell_type": "code",
   "execution_count": null,
   "id": "6f156277-644b-43a1-8c91-e68c21550ba0",
   "metadata": {},
   "outputs": [],
   "source": [
    "Row(\n",
    "    modifier = Modifier\n",
    "        .fillMaxSize()\n",
    "        .background(Color.Cyan),\n",
    "    horizontalArrangement = Arrangement.Center\n",
    ") {\n",
    "    Text(text = \"Jeden\")\n",
    "    Text(text = \"Dwa\")\n",
    "}"
   ]
  },
  {
   "cell_type": "markdown",
   "id": "453aecfd-8935-4ef7-a078-07b23187578c",
   "metadata": {},
   "source": [
    "<img src=\"https://i.ibb.co/PhSxgPV/obraz-2023-04-23-144817698.png\" width=\"150\" />"
   ]
  },
  {
   "cell_type": "code",
   "execution_count": null,
   "id": "c08edc2c-d270-4d74-a977-158f1c9fca51",
   "metadata": {},
   "outputs": [],
   "source": [
    "override fun onCreate(savedInstanceState: Bundle?) {\n",
    "    super.onCreate(savedInstanceState)\n",
    "    setContent {\n",
    "//            Column(\n",
    "//                modifier = Modifier\n",
    "//                    .fillMaxSize()\n",
    "//                    .background(Color.Cyan),\n",
    "//                horizontalAlignment = Alignment.CenterHorizontally,\n",
    "//                verticalArrangement = Arrangement.Center\n",
    "//            ) {\n",
    "//                Text(text = \"Jeden\")\n",
    "//                Text(text = \"Dwa\")\n",
    "//            }\n",
    "\n",
    "        Row(\n",
    "            modifier = Modifier\n",
    "                .fillMaxSize()\n",
    "                .background(Color.Cyan),\n",
    "            horizontalArrangement = Arrangement.Center,\n",
    "            verticalAlignment = Alignment.CenterVertically\n",
    "        ) {\n",
    "            Text(text = \"Jeden\")\n",
    "            Text(text = \"Dwa\")\n",
    "        }\n",
    "    }\n",
    "}"
   ]
  },
  {
   "cell_type": "markdown",
   "id": "6c0e40be-4c9d-45ad-b57e-7a442862a39c",
   "metadata": {},
   "source": [
    "<img src=\"https://i.ibb.co/VpXxMhy/obraz-2023-04-23-145048851.png\" width=\"150\" />"
   ]
  },
  {
   "cell_type": "markdown",
   "id": "ae9d87e3-b8e9-4a8f-ac1a-28c22f4557e6",
   "metadata": {},
   "source": [
    "Przykłady:\n",
    "\n",
    "- Ustawienie wyrównania elementów w kolumnie w poziomie"
   ]
  },
  {
   "cell_type": "code",
   "execution_count": null,
   "id": "8b3f3883-515b-4559-b2cc-23a39cc5b348",
   "metadata": {},
   "outputs": [],
   "source": [
    "Column(\n",
    "    modifier = Modifier.fillMaxWidth(),\n",
    "    horizontalAlignment = Alignment.CenterHorizontally\n",
    ") {\n",
    "    // elementy kolumny\n",
    "}"
   ]
  },
  {
   "cell_type": "markdown",
   "id": "1eb4b421-9bf2-4e44-9e40-590e0ae5e18a",
   "metadata": {},
   "source": [
    "- Dodanie marginesów do elementów kolumny"
   ]
  },
  {
   "cell_type": "code",
   "execution_count": null,
   "id": "fd89f7e0-305a-452f-a746-a8e93d72a241",
   "metadata": {},
   "outputs": [],
   "source": [
    "Column(\n",
    "    modifier = Modifier.padding(16.dp)\n",
    ") {\n",
    "    // elementy kolumny\n",
    "}"
   ]
  },
  {
   "cell_type": "markdown",
   "id": "2ca5a920-7f4c-42b8-a4c1-8f1fcaababfa",
   "metadata": {},
   "source": [
    "- Ustawienie odstępów pomiędzy elementami kolumny:"
   ]
  },
  {
   "cell_type": "code",
   "execution_count": null,
   "id": "d4d6de38-f340-4f05-bbed-fc8181a8d9dd",
   "metadata": {},
   "outputs": [],
   "source": [
    "Column(\n",
    "    modifier = Modifier.fillMaxSize(),\n",
    "    verticalArrangement = Arrangement.spacedBy(8.dp)\n",
    ") {\n",
    "    // elementy kolumny\n",
    "}"
   ]
  },
  {
   "cell_type": "markdown",
   "id": "239952dd-8511-43ef-bb31-7407b64d39da",
   "metadata": {},
   "source": [
    "- Ustawienie wyrównania elementów w kolumnie w pionie:"
   ]
  },
  {
   "cell_type": "code",
   "execution_count": null,
   "id": "9e02add2-1194-4838-a50e-c2c596bf03ff",
   "metadata": {},
   "outputs": [],
   "source": [
    "Column(\n",
    "    modifier = Modifier.fillMaxWidth(),\n",
    "    verticalAlignment = Alignment.CenterVertically\n",
    ") {\n",
    "    // elementy kolumny\n",
    "}"
   ]
  },
  {
   "cell_type": "markdown",
   "id": "99faa76a-106a-4e12-8a54-438a61cb0f03",
   "metadata": {},
   "source": [
    "- Ustawienie rozmiaru elementów kolumny"
   ]
  },
  {
   "cell_type": "code",
   "execution_count": null,
   "id": "e8a5df0a-446b-4477-ac37-1c6c0c8b450a",
   "metadata": {},
   "outputs": [],
   "source": [
    "Column(\n",
    "    modifier = Modifier.fillMaxSize(),\n",
    "    verticalArrangement = Arrangement.spacedBy(8.dp)\n",
    ") {\n",
    "    Text(\n",
    "        text = \"Element 1\",\n",
    "        modifier = Modifier.size(50.dp)\n",
    "    )\n",
    "    Text(\n",
    "        text = \"Element 2\",\n",
    "        modifier = Modifier.size(80.dp)\n",
    "    )\n",
    "    Text(\n",
    "        text = \"Element 3\",\n",
    "        modifier = Modifier.size(100.dp)\n",
    "    )\n",
    "}"
   ]
  },
  {
   "cell_type": "markdown",
   "id": "24d8ddee-3df9-46f0-9236-03db301ecb8a",
   "metadata": {},
   "source": [
    "<img src=\"https://i.stack.imgur.com/RmQyj.gif\" width=\"500\" />"
   ]
  },
  {
   "cell_type": "markdown",
   "id": "99f1b0c1-6f48-4da1-8139-2a7c37897c5f",
   "metadata": {},
   "source": [
    "LTR - *left to right*"
   ]
  },
  {
   "cell_type": "code",
   "execution_count": null,
   "id": "32035eec-b69a-49e6-b076-9854242162f4",
   "metadata": {},
   "outputs": [],
   "source": []
  }
 ],
 "metadata": {
  "kernelspec": {
   "display_name": "Kotlin",
   "language": "kotlin",
   "name": "kotlin"
  },
  "language_info": {
   "codemirror_mode": "text/x-kotlin",
   "file_extension": ".kt",
   "mimetype": "text/x-kotlin",
   "name": "kotlin",
   "nbconvert_exporter": "",
   "pygments_lexer": "kotlin",
   "version": "1.8.0-RC"
  }
 },
 "nbformat": 4,
 "nbformat_minor": 5
}
