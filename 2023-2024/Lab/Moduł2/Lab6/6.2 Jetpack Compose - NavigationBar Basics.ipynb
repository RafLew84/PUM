{
 "cells": [
  {
   "cell_type": "markdown",
   "id": "817df71d-eedb-4a6f-bb4c-8fa58018562c",
   "metadata": {},
   "source": [
    "# Jetpack Compose - Compose Navigation - NavigationBar"
   ]
  },
  {
   "cell_type": "markdown",
   "id": "bdf2d5e8-e807-46cf-895e-5ec9f44018f9",
   "metadata": {},
   "source": [
    "`NavigationBar` w `Jetpack Compose` jest to komponent interfejsu użytkownika, który umożliwia nawigację między różnymi ekranami lub sekcjami aplikacji. Jest to zazwyczaj pasek znajdujący się na dolnej części ekranu (odpowiednik `BottomNavigation`). Po kliknięciu na ikonę lub etykietę użytkownik zostaje przeniesiony do odpowiadającego temu ekranu."
   ]
  },
  {
   "cell_type": "markdown",
   "id": "0b0a53c9-33a6-48cf-9d55-359a2a69af7c",
   "metadata": {},
   "source": [
    "Aplikacja będzie zawierać trzy ekrany, pomiędzy którymi użytkownik może przemieszczać się za pomocą dolnego paska nawigacyjnego. Dodatkowo umieścimy możliwość przejścia na ekran za pomocą opcji menu na belce aplikacji. Sama aplikacja jest odpowiednikiem przykładu 3.2 wykonanego z `Jetpack Navigation Component`."
   ]
  },
  {
   "cell_type": "markdown",
   "id": "5faf5529-dd3d-4648-b2e1-046932b08e82",
   "metadata": {},
   "source": [
    "Rozpocznijmy od zdefiniowania trzech `Composable` reprezentujących ekrany w naszej aplikacji."
   ]
  },
  {
   "cell_type": "code",
   "execution_count": null,
   "id": "719427b2-ec87-4b5c-be78-e80ef581c891",
   "metadata": {},
   "outputs": [],
   "source": [
    "@Composable\n",
    "fun HomeScreen(){\n",
    "    Box(\n",
    "        Modifier\n",
    "            .fillMaxSize()\n",
    "            .background(Color.Cyan),\n",
    "        contentAlignment = Alignment.Center\n",
    "    ) {\n",
    "        Text(\n",
    "            text = \"Home Screen\",\n",
    "            fontSize = 40.sp\n",
    "        )\n",
    "    }\n",
    "}\n",
    "\n",
    "@Preview(showBackground = true)\n",
    "@Composable\n",
    "fun HomePreview() {\n",
    "    JetpackComposeBottomNavigationBasicsTheme {\n",
    "        HomeScreen()\n",
    "    }\n",
    "}"
   ]
  },
  {
   "cell_type": "code",
   "execution_count": null,
   "id": "0c3a92fd-7bac-41cd-bb4f-14f28eb3c373",
   "metadata": {},
   "outputs": [],
   "source": [
    "@Composable\n",
    "fun FirstScreen(){\n",
    "    Box(\n",
    "        Modifier\n",
    "            .fillMaxSize()\n",
    "            .background(Color.LightGray),\n",
    "        contentAlignment = Alignment.Center\n",
    "    ) {\n",
    "        Text(\n",
    "            text = \"First Screen\",\n",
    "            fontSize = 40.sp\n",
    "        )\n",
    "    }\n",
    "}\n",
    "\n",
    "@Preview(showBackground = true)\n",
    "@Composable\n",
    "fun FirstPreview() {\n",
    "    JetpackComposeBottomNavigationBasicsTheme {\n",
    "        FirstScreen()\n",
    "    }\n",
    "}"
   ]
  },
  {
   "cell_type": "code",
   "execution_count": null,
   "id": "c8c6072b-fb99-4cf4-9d57-3f47734cc29a",
   "metadata": {},
   "outputs": [],
   "source": [
    "@Composable\n",
    "fun SecondScreen(){\n",
    "    Box(\n",
    "        Modifier\n",
    "            .fillMaxSize()\n",
    "            .background(Color.Green),\n",
    "        contentAlignment = Alignment.Center\n",
    "    ) {\n",
    "        Text(\n",
    "            text = \"Second Screen\",\n",
    "            fontSize = 40.sp\n",
    "        )\n",
    "    }\n",
    "}\n",
    "\n",
    "@Preview(showBackground = true)\n",
    "@Composable\n",
    "fun SecondPreview() {\n",
    "    JetpackComposeBottomNavigationBasicsTheme {\n",
    "        SecondScreen()\n",
    "    }\n",
    "}"
   ]
  },
  {
   "cell_type": "markdown",
   "id": "0631da03-1549-4307-967a-bd8950fa2475",
   "metadata": {},
   "source": [
    "Dodajmy klasę przechowującą obiekty reprezentujące nasze ekrany."
   ]
  },
  {
   "cell_type": "code",
   "execution_count": null,
   "id": "321d60ef-1dc0-4764-86e9-14eb11f62364",
   "metadata": {},
   "outputs": [],
   "source": [
    "sealed class Screens(val route: String) {\n",
    "    object HomeScreen : Screens(\"home\")\n",
    "    object FirstScreen : Screens(\"first\")\n",
    "    object SecondScreen : Screens(\"second\")\n",
    "}"
   ]
  },
  {
   "cell_type": "markdown",
   "id": "cecb098e-043e-4024-931d-711810bd8c63",
   "metadata": {},
   "source": [
    "Następnie dodajmy klasę przechowującą obiekty reprezentujące ekrany dostępne przez `NavigationBar` - czyli dostęp do których zapewnimy przez pasek nawigacyjny."
   ]
  },
  {
   "cell_type": "code",
   "execution_count": null,
   "id": "dbf0caa8-1746-4e0a-b652-231df284b3c5",
   "metadata": {},
   "outputs": [],
   "source": [
    "sealed class BottomBar(\n",
    "    val route: String,\n",
    "    val title: String,\n",
    "    val icon: ImageVector\n",
    ") {\n",
    "    object Home : BottomBar(Screens.HomeScreen.route, \"Home\", Icons.Default.Home)\n",
    "    object First : BottomBar(Screens.FirstScreen.route, \"First\", Icons.Default.Info)\n",
    "    object Second : BottomBar(Screens.SecondScreen.route, \"Second\", Icons.Default.Email)\n",
    "}"
   ]
  },
  {
   "cell_type": "markdown",
   "id": "d4b66f0e-611c-4950-af7d-8f558e6e983a",
   "metadata": {},
   "source": [
    "Przejdźmy do dodania funkcji `Composable` opisującej nawigację - wywołamy ją w `Main Activity`. "
   ]
  },
  {
   "cell_type": "code",
   "execution_count": null,
   "id": "3d8e9f5a-85d1-4c11-8660-437c8c486889",
   "metadata": {},
   "outputs": [],
   "source": [
    "@SuppressLint(\"UnusedMaterial3ScaffoldPaddingParameter\")\n",
    "@OptIn(ExperimentalMaterial3Api::class)\n",
    "@Composable\n",
    "fun Navigation(){\n",
    "    val navController = rememberNavController()\n",
    "    Scaffold(\n",
    "        bottomBar = { BottomMenu(navController = navController)},\n",
    "        content = { BottomNavGraph(navController = navController) }\n",
    "    )\n",
    "}"
   ]
  },
  {
   "cell_type": "markdown",
   "id": "cd4a25c2-682e-4d5f-83a2-ddab2624b026",
   "metadata": {},
   "source": [
    "Jak poprzednio, musimy mieć dostęp do instancji `NavHostController`, który jest współdzielony między komponentami i jest odpowiedzialny za nawigację w aplikacji.\n",
    "\n",
    "- `Scaffold` to komponent, który zapewnia strukturę dla interfejsu użytkownika. W naszym kodzie używamy tylko parametru `bottomBar`, który zawiera nasz `NavigationBar`, oraz `content` zawierający zawartość główną. `Scaffold` może przyjmować kilka parametrów, które definiują układ interfejsu użytkownika:\n",
    "    - `topBar` - Parametr ten przyjmuje komponent, który reprezentuje górny pasek interfejsu użytkownika. Może to być `AppBar`, który zawiera np. tytuł aplikacji, przyciski akcji itp.\n",
    "    - `bottomBar` - Ten parametr przyjmuje komponent, który reprezentuje dolny pasek interfejsu użytkownika, czyli `NavigationBar` lub inny rodzaj dolnego *menu*. Wykorzystuje się go do nawigacji między różnymi ekranami lub sekcjami aplikacji.\n",
    "    - `floatingActionButton` - Jest to opcjonalny parametr, który przyjmuje komponent reprezentujący przycisk akcji na interfejsie użytkownika. Przycisk ten jest zazwyczaj umieszczany w dolnym prawym rogu interfejsu i służy do wykonywania głównych akcji w aplikacji.\n",
    "    - `content` - Ten parametr przyjmuje komponent, który reprezentuje zawartość główną interfejsu użytkownika. Może to być np. lista, siatka lub inny rodzaj widoku, w którym użytkownik wykonuje większość interakcji.\n",
    "    - `drawerContent` - Opcjonalny parametr, który przyjmuje komponent reprezentujący zawartość bocznego panelu (*drawer*) interfejsu użytkownika. Panel ten może być otwierany i zamykany w celu wyświetlania dodatkowych opcji lub menu.\n",
    "    - `backgroundColor` - Ten parametr definiuje kolor tła interfejsu użytkownika. Może być to kolor w postaci obiektu `Color`.\n",
    "    - `snackbarHost` - Opcjonalny parametr, który przyjmuje komponent `SnackbarHost`. `SnackbarHost` służy do wyświetlania informacji zwrotnych dla użytkownika w formie małych powiadomień.\n",
    "- `BottomMenu` to komponent stworzony przez nas, który reprezentuje `NavigationBar`. Przekazujemy do niego `navController`, który jest odpowiedzialny za nawigację między ekranami.\n",
    "- `BottomNavGraph` to komponent stworzony przez nas, który definiuje grafikę nawigacji. Odpowiada za mapowanie poszczególnych ekranów aplikacji na odpowiednie ikony lub etykiety w `NavigationBar`.\n",
    "\n",
    "Tutaj wykorzystujemy jeszcze nową (w tym kursie) adnotację `@SuppressLint(\"UnusedMaterial3ScaffoldPaddingParameter\")`. Od najnowszej wersji `Scaffold` wymagane jest podanie marginesów (`padding`), ponieważ po dodaniu pasków górnych i dolnych, treść główna musi zostać odpowiednio przesunięta - może znajdować się *pod* tymi paskami. Ponieważ w tym prostym przykładzie wykorzystujemy tylko jedno pole z centralnie umieszczonym tekstem, możemy ten element pominąć - wrócimy do niego w kolejnych przykładach."
   ]
  },
  {
   "cell_type": "markdown",
   "id": "26b869ac-4eab-40da-9a0e-604322fe4795",
   "metadata": {},
   "source": [
    "Dodajmy funkcję `Composable` `BottomNavGraph` odpowiedzialną za tworzenie grafu nawigacji dla dolnego paska nawigacyjnego (`NavigationBar`). "
   ]
  },
  {
   "cell_type": "code",
   "execution_count": null,
   "id": "08af3900-7e2c-4a37-b62d-9c18a389fbfd",
   "metadata": {},
   "outputs": [],
   "source": [
    "@Composable\n",
    "fun BottomNavGraph(navController: NavHostController){\n",
    "    NavHost(\n",
    "        navController = navController,\n",
    "        startDestination = Screens.HomeScreen.route\n",
    "    ) {\n",
    "        composable(route = Screens.HomeScreen.route){ HomeScreen() }\n",
    "        composable(route = Screens.FirstScreen.route){ FirstScreen() }\n",
    "        composable(route = Screens.SecondScreen.route){ SecondScreen() }\n",
    "    }\n",
    "}"
   ]
  },
  {
   "cell_type": "markdown",
   "id": "ea97fc92-ec51-431d-ac00-acc95816157a",
   "metadata": {},
   "source": [
    "W przykładzie definiujemy trzy ekrany: `HomeScreen`, `FirstScreen` i `SecondScreen`. Każdy ekran ma przypisaną swoją ścieżkę za pomocą pola `route` zdefiniowanej w klasie `Screens`. Jako `startDestination` ustawiamy nasz ekran domowy (`Home Screen`).\n",
    "\n",
    "Kolejnym elementem jest dodanie samej nawigacji, zrobimy to w funkcji `BottomMenu`, która jest wywołana jako `bottomBar` we wcześniej zdefiniowanym elemencie `Scaffold`."
   ]
  },
  {
   "cell_type": "code",
   "execution_count": null,
   "id": "b8ccb8eb-989e-4709-be2a-dc66981cfa31",
   "metadata": {},
   "outputs": [],
   "source": [
    "@Composable\n",
    "fun BottomMenu(navController: NavHostController){\n",
    "    val screens = listOf(\n",
    "        BottomBar.Home, BottomBar.First, BottomBar.Second\n",
    "    )\n",
    "\n",
    "    val navBackStackEntry by navController.currentBackStackEntryAsState()\n",
    "    val currentDestination = navBackStackEntry?.destination\n",
    "\n",
    "    NavigationBar{\n",
    "        screens.forEach{screen ->\n",
    "            NavigationBarItem(\n",
    "                label = { Text(text = screen.title)},\n",
    "                icon = {Icon(imageVector = screen.icon, contentDescription = \"icon\")},\n",
    "                selected = currentDestination?.hierarchy?.any { it.route == screen.route } == true,\n",
    "                onClick = {navController.navigate(screen.route)}\n",
    "            )\n",
    "        }\n",
    "    }\n",
    "}"
   ]
  },
  {
   "cell_type": "markdown",
   "id": "a6d49ef4-40cb-4a61-87de-09cb93541c8c",
   "metadata": {},
   "source": [
    "Parametr `navController`, wykorzystujemy do zarządzania nawigacją nawigacją między ekranami. Jest przekazywany do komponentu `BottomMenu`, aby można go było wykorzystać do nawigacji po kliknięciu elementów nawigacyjnych. Zmienna `screens` to lista obiektów reprezentujących poszczególne elementy nawigacyjne w `NavigationBar`. Każdy element ma właściwości takie jak tytuł (`title`), ikona (`icon`) i ścieżka (`route`) - zdefiniowane w klasie `BottomBar`. Następnie używamy `navController.currentBackStackEntryAsState()` do otrzymania aktualnego stanu nawigacji. Funkcja ta zwraca wartość obiektu `State`, który jest typu `State<NavBackStackEntry?>`. Obiekt `State` reprezentuje zmienną stanu, która może się zmieniać i wpływać na renderowanie UI. \n",
    "\n",
    "Zmienna `navBackStackEntry` zawiera informacje o bieżącym celu nawigacyjnym.\n",
    "\n",
    "- `destination` - Reprezentuje cel nawigacyjny, który jest ekranem w grafie nawigacji.\n",
    "- `arguments` - Reprezentuje argumenty przekazywane do celu nawigacyjnego.\n",
    "- `savedStateHandle` - Udostępnia możliwość przechowywania i odczytywania stanu, który przetrwa zmiany konfiguracji ekranu.\n",
    "\n",
    "`currentDestination` to zmienna, która przechowuje bieżący cel nawigacyjny na podstawie wartości `navBackStackEntry?.destination`. Używamy operatora `?.` do bezpiecznego odwołania się, ponieważ `navBackStackEntry` może mieć wartość `null` w przypadku braku celu nawigacyjnego. Bieżący cel nawigacyjny (`currentDestination`) jest wykorzystywany do określenia stanu zaznaczenia dla poszczególnych elementów nawigacyjnych w `NavigationBar`. Jeżeli bieżący cel nawigacyjny odpowiada ścieżce danego elementu nawigacyjnego, to ustawiane jest stan zaznaczenia na `true`, w przeciwnym razie na `false`. Dzięki temu możemy wizualnie oznaczyć aktywny ekran w dolnym pasku nawigacyjnym.\n",
    "\n",
    "Wewnątrz komponentu `NavigationBar` definiujemy elementy nawigacyjne za pomocą funkcji `NavigationBarItem`. Wykorzystujemy pętlę `forEach`, aby przejść przez wszystkie elementy zdefiniowane w liście `screens`. Stan zaznaczenia (`selected`) jest ustawiany na podstawie warunku, czy bieżący cel nawigacyjny (`currentDestination`) odpowiada ścieżce (`route`) danego elementu nawigacyjnego.\n",
    "\n",
    "Po kliknięciu na element nawigacyjny wywoływana jest funkcja `onClick`, która używa `navController.navigate(screen.route)` do nawigacji do odpowiedniego ekranu na podstawie ścieżki (`route`) danego elementu nawigacyjnego."
   ]
  },
  {
   "cell_type": "markdown",
   "id": "f0c242c2-0e8a-4e72-af37-1caa5c91531b",
   "metadata": {},
   "source": [
    "Możemy przetestować kod"
   ]
  },
  {
   "cell_type": "markdown",
   "id": "1faba83c-b4b8-4a6a-a3f6-92e99422572d",
   "metadata": {},
   "source": [
    "<img src=\"https://media3.giphy.com/media/v1.Y2lkPTc5MGI3NjExMjVjZDE3NTRlNzhmYTQzZDM1NWZlNzcyNGFlMjI1MDgyYjg4NTU4NyZlcD12MV9pbnRlcm5hbF9naWZzX2dpZklkJmN0PWc/8Q9acBp3ZFUQqn06Oa/giphy.gif\" width=\"200\" />"
   ]
  },
  {
   "cell_type": "code",
   "execution_count": null,
   "id": "bf80a0dd-5533-43bd-8920-fe43bb28f337",
   "metadata": {},
   "outputs": [],
   "source": []
  }
 ],
 "metadata": {
  "kernelspec": {
   "display_name": "Kotlin",
   "language": "kotlin",
   "name": "kotlin"
  },
  "language_info": {
   "codemirror_mode": "text/x-kotlin",
   "file_extension": ".kt",
   "mimetype": "text/x-kotlin",
   "name": "kotlin",
   "nbconvert_exporter": "",
   "pygments_lexer": "kotlin",
   "version": "1.8.0-RC"
  }
 },
 "nbformat": 4,
 "nbformat_minor": 5
}
