{
 "cells": [
  {
   "cell_type": "markdown",
   "id": "817df71d-eedb-4a6f-bb4c-8fa58018562c",
   "metadata": {},
   "source": [
    "# Jetpack Compose - Compose Navigation - NavigationBar"
   ]
  },
  {
   "cell_type": "markdown",
   "id": "bdf2d5e8-e807-46cf-895e-5ec9f44018f9",
   "metadata": {},
   "source": [
    "`NavigationBar` w `Jetpack Compose` jest to komponent interfejsu użytkownika, który umożliwia nawigację między różnymi ekranami lub sekcjami aplikacji. Jest to zazwyczaj pasek znajdujący się na dolnej części ekranu (odpowiednik `BottomNavigation`). Po kliknięciu na ikonę lub etykietę użytkownik zostaje przeniesiony do odpowiadającego temu ekranu."
   ]
  },
  {
   "cell_type": "markdown",
   "id": "0b0a53c9-33a6-48cf-9d55-359a2a69af7c",
   "metadata": {},
   "source": [
    "Aplikacja będzie zawierać trzy ekrany, pomiędzy którymi użytkownik może przemieszczać się za pomocą dolnego paska nawigacyjnego. Dodatkowo umieścimy możliwość przejścia na ekran za pomocą opcji menu na belce aplikacji. Sama aplikacja jest odpowiednikiem przykładu 3.2 wykonanego z `Jetpack Navigation Component`."
   ]
  },
  {
   "cell_type": "markdown",
   "id": "5faf5529-dd3d-4648-b2e1-046932b08e82",
   "metadata": {},
   "source": [
    "Rozpocznijmy od zdefiniowania trzech `Composable` reprezentujących ekrany w naszej aplikacji."
   ]
  },
  {
   "cell_type": "code",
   "execution_count": null,
   "id": "719427b2-ec87-4b5c-be78-e80ef581c891",
   "metadata": {},
   "outputs": [],
   "source": [
    "@Composable\n",
    "fun HomeScreen(){\n",
    "    Box(\n",
    "        Modifier\n",
    "            .fillMaxSize()\n",
    "            .background(Color.Cyan),\n",
    "        contentAlignment = Alignment.Center\n",
    "    ) {\n",
    "        Text(\n",
    "            text = \"Home Screen\",\n",
    "            fontSize = 40.sp\n",
    "        )\n",
    "    }\n",
    "}\n",
    "\n",
    "@Preview(showBackground = true)\n",
    "@Composable\n",
    "fun HomePreview() {\n",
    "    JetpackComposeBottomNavigationBasicsTheme {\n",
    "        HomeScreen()\n",
    "    }\n",
    "}"
   ]
  },
  {
   "cell_type": "code",
   "execution_count": null,
   "id": "0c3a92fd-7bac-41cd-bb4f-14f28eb3c373",
   "metadata": {},
   "outputs": [],
   "source": [
    "@Composable\n",
    "fun FirstScreen(){\n",
    "    Box(\n",
    "        Modifier\n",
    "            .fillMaxSize()\n",
    "            .background(Color.LightGray),\n",
    "        contentAlignment = Alignment.Center\n",
    "    ) {\n",
    "        Text(\n",
    "            text = \"First Screen\",\n",
    "            fontSize = 40.sp\n",
    "        )\n",
    "    }\n",
    "}\n",
    "\n",
    "@Preview(showBackground = true)\n",
    "@Composable\n",
    "fun FirstPreview() {\n",
    "    JetpackComposeBottomNavigationBasicsTheme {\n",
    "        FirstScreen()\n",
    "    }\n",
    "}"
   ]
  },
  {
   "cell_type": "code",
   "execution_count": null,
   "id": "c8c6072b-fb99-4cf4-9d57-3f47734cc29a",
   "metadata": {},
   "outputs": [],
   "source": [
    "@Composable\n",
    "fun SecondScreen(){\n",
    "    Box(\n",
    "        Modifier\n",
    "            .fillMaxSize()\n",
    "            .background(Color.Green),\n",
    "        contentAlignment = Alignment.Center\n",
    "    ) {\n",
    "        Text(\n",
    "            text = \"Second Screen\",\n",
    "            fontSize = 40.sp\n",
    "        )\n",
    "    }\n",
    "}\n",
    "\n",
    "@Preview(showBackground = true)\n",
    "@Composable\n",
    "fun SecondPreview() {\n",
    "    JetpackComposeBottomNavigationBasicsTheme {\n",
    "        SecondScreen()\n",
    "    }\n",
    "}"
   ]
  },
  {
   "cell_type": "markdown",
   "id": "0631da03-1549-4307-967a-bd8950fa2475",
   "metadata": {},
   "source": [
    "Dodajmy klasę przechowującą obiekty reprezentujące nasze ekrany."
   ]
  },
  {
   "cell_type": "code",
   "execution_count": null,
   "id": "321d60ef-1dc0-4764-86e9-14eb11f62364",
   "metadata": {},
   "outputs": [],
   "source": [
    "sealed class Screens(val route: String) {\n",
    "    object HomeScreen : Screens(\"home\")\n",
    "    object FirstScreen : Screens(\"first\")\n",
    "    object SecondScreen : Screens(\"second\")\n",
    "}"
   ]
  },
  {
   "cell_type": "markdown",
   "id": "cecb098e-043e-4024-931d-711810bd8c63",
   "metadata": {},
   "source": [
    "Następnie dodajmy klasę przechowującą obiekty reprezentujące ekrany dostępne przez `NavigationBar`"
   ]
  },
  {
   "cell_type": "code",
   "execution_count": null,
   "id": "dbf0caa8-1746-4e0a-b652-231df284b3c5",
   "metadata": {},
   "outputs": [],
   "source": [
    "sealed class BottomBar(\n",
    "    val route: String,\n",
    "    val title: String,\n",
    "    val icon: ImageVector\n",
    ") {\n",
    "    object Home : BottomBar(Screens.HomeScreen.route, \"Home\", Icons.Default.Home)\n",
    "    object First : BottomBar(Screens.FirstScreen.route, \"First\", Icons.Default.Info)\n",
    "    object Second : BottomBar(Screens.SecondScreen.route, \"Second\", Icons.Default.Email)\n",
    "}"
   ]
  },
  {
   "cell_type": "code",
   "execution_count": null,
   "id": "c9955f12-cedc-4359-9b49-3e583454efcc",
   "metadata": {},
   "outputs": [],
   "source": []
  }
 ],
 "metadata": {
  "kernelspec": {
   "display_name": "Kotlin",
   "language": "kotlin",
   "name": "kotlin"
  },
  "language_info": {
   "codemirror_mode": "text/x-kotlin",
   "file_extension": ".kt",
   "mimetype": "text/x-kotlin",
   "name": "kotlin",
   "nbconvert_exporter": "",
   "pygments_lexer": "kotlin",
   "version": "1.6.20-dev-6372"
  }
 },
 "nbformat": 4,
 "nbformat_minor": 5
}
