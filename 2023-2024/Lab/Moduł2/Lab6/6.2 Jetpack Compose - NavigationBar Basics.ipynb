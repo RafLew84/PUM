{
 "cells": [
  {
   "cell_type": "markdown",
   "id": "817df71d-eedb-4a6f-bb4c-8fa58018562c",
   "metadata": {},
   "source": [
    "# Jetpack Compose - Compose Navigation - NavigationBar"
   ]
  },
  {
   "cell_type": "markdown",
   "id": "bdf2d5e8-e807-46cf-895e-5ec9f44018f9",
   "metadata": {},
   "source": [
    "`NavigationBar` w `Jetpack Compose` jest to komponent interfejsu użytkownika, który umożliwia nawigację między różnymi ekranami lub sekcjami aplikacji. Jest to zazwyczaj pasek znajdujący się na dolnej części ekranu (odpowiednik `BottomNavigation`). Po kliknięciu na ikonę lub etykietę użytkownik zostaje przeniesiony do odpowiadającego temu ekranu."
   ]
  },
  {
   "cell_type": "markdown",
   "id": "0b0a53c9-33a6-48cf-9d55-359a2a69af7c",
   "metadata": {},
   "source": [
    "Aplikacja będzie zawierać trzy ekrany, pomiędzy którymi użytkownik może przemieszczać się za pomocą dolnego paska nawigacyjnego. Dodatkowo umieścimy możliwość przejścia na ekran za pomocą opcji menu na belce aplikacji. Sama aplikacja jest odpowiednikiem przykładu 3.2 wykonanego z `Jetpack Navigation Component`."
   ]
  },
  {
   "cell_type": "markdown",
   "id": "1a8728cc-0efd-49f3-a1ae-46f3531e290b",
   "metadata": {},
   "source": [
    "<img src=\"https://media2.giphy.com/media/v1.Y2lkPTc5MGI3NjExY2IyZWJkYjhhZDg1MjA3OTVhOWViMmFiYWY4YTg0OTJhNDk0NDY1MyZlcD12MV9pbnRlcm5hbF9naWZzX2dpZklkJmN0PWc/iOtIirgoegl6axFO1n/giphy.gif\" width=\"200\" />"
   ]
  },
  {
   "cell_type": "markdown",
   "id": "5faf5529-dd3d-4648-b2e1-046932b08e82",
   "metadata": {},
   "source": [
    "Rozpocznijmy od zdefiniowania trzech `Composable` reprezentujących ekrany w naszej aplikacji."
   ]
  },
  {
   "cell_type": "code",
   "execution_count": null,
   "id": "719427b2-ec87-4b5c-be78-e80ef581c891",
   "metadata": {},
   "outputs": [],
   "source": [
    "@Composable\n",
    "fun HomeScreen(){\n",
    "    Box(\n",
    "        Modifier\n",
    "            .fillMaxSize()\n",
    "            .background(Color.Cyan),\n",
    "        contentAlignment = Alignment.Center\n",
    "    ) {\n",
    "        Text(\n",
    "            text = \"Home Screen\",\n",
    "            fontSize = 40.sp\n",
    "        )\n",
    "    }\n",
    "}\n",
    "\n",
    "@Preview(showBackground = true)\n",
    "@Composable\n",
    "fun HomePreview() {\n",
    "    JetpackComposeBottomNavigationBasicsTheme {\n",
    "        HomeScreen()\n",
    "    }\n",
    "}"
   ]
  },
  {
   "cell_type": "code",
   "execution_count": null,
   "id": "0c3a92fd-7bac-41cd-bb4f-14f28eb3c373",
   "metadata": {},
   "outputs": [],
   "source": [
    "@Composable\n",
    "fun FirstScreen(){\n",
    "    Box(\n",
    "        Modifier\n",
    "            .fillMaxSize()\n",
    "            .background(Color.LightGray),\n",
    "        contentAlignment = Alignment.Center\n",
    "    ) {\n",
    "        Text(\n",
    "            text = \"First Screen\",\n",
    "            fontSize = 40.sp\n",
    "        )\n",
    "    }\n",
    "}\n",
    "\n",
    "@Preview(showBackground = true)\n",
    "@Composable\n",
    "fun FirstPreview() {\n",
    "    JetpackComposeBottomNavigationBasicsTheme {\n",
    "        FirstScreen()\n",
    "    }\n",
    "}"
   ]
  },
  {
   "cell_type": "code",
   "execution_count": null,
   "id": "c8c6072b-fb99-4cf4-9d57-3f47734cc29a",
   "metadata": {},
   "outputs": [],
   "source": [
    "@Composable\n",
    "fun SecondScreen(){\n",
    "    Box(\n",
    "        Modifier\n",
    "            .fillMaxSize()\n",
    "            .background(Color.Green),\n",
    "        contentAlignment = Alignment.Center\n",
    "    ) {\n",
    "        Text(\n",
    "            text = \"Second Screen\",\n",
    "            fontSize = 40.sp\n",
    "        )\n",
    "    }\n",
    "}\n",
    "\n",
    "@Preview(showBackground = true)\n",
    "@Composable\n",
    "fun SecondPreview() {\n",
    "    JetpackComposeBottomNavigationBasicsTheme {\n",
    "        SecondScreen()\n",
    "    }\n",
    "}"
   ]
  },
  {
   "cell_type": "markdown",
   "id": "0631da03-1549-4307-967a-bd8950fa2475",
   "metadata": {},
   "source": [
    "Dodajmy klasę przechowującą obiekty reprezentujące nasze ekrany."
   ]
  },
  {
   "cell_type": "code",
   "execution_count": null,
   "id": "321d60ef-1dc0-4764-86e9-14eb11f62364",
   "metadata": {},
   "outputs": [],
   "source": [
    "sealed class Screens(val route: String) {\n",
    "    object HomeScreen : Screens(\"home\")\n",
    "    object FirstScreen : Screens(\"first\")\n",
    "    object SecondScreen : Screens(\"second\")\n",
    "}"
   ]
  },
  {
   "cell_type": "markdown",
   "id": "cecb098e-043e-4024-931d-711810bd8c63",
   "metadata": {},
   "source": [
    "Następnie dodajmy klasę przechowującą obiekty reprezentujące ekrany dostępne przez `NavigationBar` - czyli dostęp do których zapewnimy przez pasek nawigacyjny."
   ]
  },
  {
   "cell_type": "code",
   "execution_count": null,
   "id": "dbf0caa8-1746-4e0a-b652-231df284b3c5",
   "metadata": {},
   "outputs": [],
   "source": [
    "sealed class BottomBar(\n",
    "    val route: String,\n",
    "    val title: String,\n",
    "    val icon: ImageVector\n",
    ") {\n",
    "    object Home : BottomBar(Screens.HomeScreen.route, \"Home\", Icons.Default.Home)\n",
    "    object First : BottomBar(Screens.FirstScreen.route, \"First\", Icons.Default.Info)\n",
    "    object Second : BottomBar(Screens.SecondScreen.route, \"Second\", Icons.Default.Email)\n",
    "}"
   ]
  },
  {
   "cell_type": "markdown",
   "id": "d4b66f0e-611c-4950-af7d-8f558e6e983a",
   "metadata": {},
   "source": [
    "Przejdźmy do dodania funkcji `Composable` opisującej nawigację - wywołamy ją w `Main Activity`. "
   ]
  },
  {
   "cell_type": "code",
   "execution_count": null,
   "id": "3d8e9f5a-85d1-4c11-8660-437c8c486889",
   "metadata": {},
   "outputs": [],
   "source": [
    "@SuppressLint(\"UnusedMaterial3ScaffoldPaddingParameter\")\n",
    "@OptIn(ExperimentalMaterial3Api::class)\n",
    "@Composable\n",
    "fun Navigation(){\n",
    "    val navController = rememberNavController()\n",
    "    Scaffold(\n",
    "        bottomBar = { BottomMenu(navController = navController)},\n",
    "        content = { BottomNavGraph(navController = navController) }\n",
    "    )\n",
    "}"
   ]
  },
  {
   "cell_type": "markdown",
   "id": "cd4a25c2-682e-4d5f-83a2-ddab2624b026",
   "metadata": {},
   "source": [
    "Jak poprzednio, musimy mieć dostęp do instancji `NavHostController`, który jest współdzielony między komponentami i jest odpowiedzialny za nawigację w aplikacji.\n",
    "\n",
    "- `Scaffold` to komponent, który zapewnia strukturę dla interfejsu użytkownika. W naszym kodzie używamy tylko parametru `bottomBar`, który zawiera nasz `NavigationBar`, oraz `content` zawierający zawartość główną. `Scaffold` może przyjmować kilka parametrów, które definiują układ interfejsu użytkownika:\n",
    "    - `topBar` - Parametr ten przyjmuje komponent, który reprezentuje górny pasek interfejsu użytkownika. Może to być `AppBar`, który zawiera np. tytuł aplikacji, przyciski akcji itp.\n",
    "    - `bottomBar` - Ten parametr przyjmuje komponent, który reprezentuje dolny pasek interfejsu użytkownika, czyli `NavigationBar` lub inny rodzaj dolnego *menu*. Wykorzystuje się go do nawigacji między różnymi ekranami lub sekcjami aplikacji.\n",
    "    - `floatingActionButton` - Jest to opcjonalny parametr, który przyjmuje komponent reprezentujący przycisk akcji na interfejsie użytkownika. Przycisk ten jest zazwyczaj umieszczany w dolnym prawym rogu interfejsu i służy do wykonywania głównych akcji w aplikacji.\n",
    "    - `content` - Ten parametr przyjmuje komponent, który reprezentuje zawartość główną interfejsu użytkownika. Może to być np. lista, siatka lub inny rodzaj widoku, w którym użytkownik wykonuje większość interakcji.\n",
    "    - `drawerContent` - Opcjonalny parametr, który przyjmuje komponent reprezentujący zawartość bocznego panelu (*drawer*) interfejsu użytkownika. Panel ten może być otwierany i zamykany w celu wyświetlania dodatkowych opcji lub menu.\n",
    "    - `backgroundColor` - Ten parametr definiuje kolor tła interfejsu użytkownika. Może być to kolor w postaci obiektu `Color`.\n",
    "    - `snackbarHost` - Opcjonalny parametr, który przyjmuje komponent `SnackbarHost`. `SnackbarHost` służy do wyświetlania informacji zwrotnych dla użytkownika w formie małych powiadomień.\n",
    "- `BottomMenu` to komponent stworzony przez nas, który reprezentuje `NavigationBar`. Przekazujemy do niego `navController`, który jest odpowiedzialny za nawigację między ekranami.\n",
    "- `BottomNavGraph` to komponent stworzony przez nas, który definiuje grafikę nawigacji. Odpowiada za mapowanie poszczególnych ekranów aplikacji na odpowiednie ikony lub etykiety w `NavigationBar`.\n",
    "\n",
    "Tutaj wykorzystujemy jeszcze nową (w tym kursie) adnotację `@SuppressLint(\"UnusedMaterial3ScaffoldPaddingParameter\")`. Od najnowszej wersji `Scaffold` wymagane jest podanie marginesów (`padding`), ponieważ po dodaniu pasków górnych i dolnych, treść główna musi zostać odpowiednio przesunięta - może znajdować się *pod* tymi paskami. Ponieważ w tym prostym przykładzie wykorzystujemy tylko jedno pole z centralnie umieszczonym tekstem, możemy ten element pominąć - wrócimy do niego w kolejnych przykładach."
   ]
  },
  {
   "cell_type": "markdown",
   "id": "26b869ac-4eab-40da-9a0e-604322fe4795",
   "metadata": {},
   "source": [
    "Dodajmy funkcję `Composable` `BottomNavGraph` odpowiedzialną za tworzenie grafu nawigacji dla dolnego paska nawigacyjnego (`NavigationBar`). "
   ]
  },
  {
   "cell_type": "code",
   "execution_count": null,
   "id": "08af3900-7e2c-4a37-b62d-9c18a389fbfd",
   "metadata": {},
   "outputs": [],
   "source": [
    "@Composable\n",
    "fun BottomNavGraph(navController: NavHostController){\n",
    "    NavHost(\n",
    "        navController = navController,\n",
    "        startDestination = Screens.HomeScreen.route\n",
    "    ) {\n",
    "        composable(route = Screens.HomeScreen.route){ HomeScreen() }\n",
    "        composable(route = Screens.FirstScreen.route){ FirstScreen() }\n",
    "        composable(route = Screens.SecondScreen.route){ SecondScreen() }\n",
    "    }\n",
    "}"
   ]
  },
  {
   "cell_type": "markdown",
   "id": "ea97fc92-ec51-431d-ac00-acc95816157a",
   "metadata": {},
   "source": [
    "W przykładzie definiujemy trzy ekrany: `HomeScreen`, `FirstScreen` i `SecondScreen`. Każdy ekran ma przypisaną swoją ścieżkę za pomocą pola `route` zdefiniowanej w klasie `Screens`. Jako `startDestination` ustawiamy nasz ekran domowy (`Home Screen`).\n",
    "\n",
    "Kolejnym elementem jest dodanie samej nawigacji, zrobimy to w funkcji `BottomMenu`, która jest wywołana jako `bottomBar` we wcześniej zdefiniowanym elemencie `Scaffold`."
   ]
  },
  {
   "cell_type": "code",
   "execution_count": null,
   "id": "b8ccb8eb-989e-4709-be2a-dc66981cfa31",
   "metadata": {},
   "outputs": [],
   "source": [
    "@Composable\n",
    "fun BottomMenu(navController: NavHostController){\n",
    "    val screens = listOf(\n",
    "        BottomBar.Home, BottomBar.First, BottomBar.Second\n",
    "    )\n",
    "\n",
    "    val navBackStackEntry by navController.currentBackStackEntryAsState()\n",
    "    val currentDestination = navBackStackEntry?.destination\n",
    "\n",
    "    NavigationBar{\n",
    "        screens.forEach{screen ->\n",
    "            NavigationBarItem(\n",
    "                label = { Text(text = screen.title)},\n",
    "                icon = {Icon(imageVector = screen.icon, contentDescription = \"icon\")},\n",
    "                selected = currentDestination?.hierarchy?.any { it.route == screen.route } == true,\n",
    "                onClick = {navController.navigate(screen.route)}\n",
    "            )\n",
    "        }\n",
    "    }\n",
    "}"
   ]
  },
  {
   "cell_type": "markdown",
   "id": "a6d49ef4-40cb-4a61-87de-09cb93541c8c",
   "metadata": {},
   "source": [
    "Parametr `navController`, wykorzystujemy do zarządzania nawigacją nawigacją między ekranami. Jest przekazywany do komponentu `BottomMenu`, aby można go było wykorzystać do nawigacji po kliknięciu elementów nawigacyjnych. Zmienna `screens` to lista obiektów reprezentujących poszczególne elementy nawigacyjne w `NavigationBar`. Każdy element ma właściwości takie jak tytuł (`title`), ikona (`icon`) i ścieżka (`route`) - zdefiniowane w klasie `BottomBar`. Następnie używamy `navController.currentBackStackEntryAsState()` do otrzymania aktualnego stanu nawigacji. Funkcja ta zwraca wartość obiektu `State`, który jest typu `State<NavBackStackEntry?>`. Obiekt `State` reprezentuje zmienną stanu, która może się zmieniać i wpływać na renderowanie UI. \n",
    "\n",
    "Zmienna `navBackStackEntry` zawiera informacje o bieżącym celu nawigacyjnym.\n",
    "\n",
    "- `destination` - Reprezentuje cel nawigacyjny, który jest ekranem w grafie nawigacji.\n",
    "- `arguments` - Reprezentuje argumenty przekazywane do celu nawigacyjnego.\n",
    "- `savedStateHandle` - Udostępnia możliwość przechowywania i odczytywania stanu, który przetrwa zmiany konfiguracji ekranu.\n",
    "\n",
    "`currentDestination` to zmienna, która przechowuje bieżący cel nawigacyjny na podstawie wartości `navBackStackEntry?.destination`. Używamy operatora `?.` do bezpiecznego odwołania się, ponieważ `navBackStackEntry` może mieć wartość `null` w przypadku braku celu nawigacyjnego. Bieżący cel nawigacyjny (`currentDestination`) jest wykorzystywany do określenia stanu zaznaczenia dla poszczególnych elementów nawigacyjnych w `NavigationBar`. Jeżeli bieżący cel nawigacyjny odpowiada ścieżce danego elementu nawigacyjnego, to ustawiane jest stan zaznaczenia na `true`, w przeciwnym razie na `false`. Dzięki temu możemy wizualnie oznaczyć aktywny ekran w dolnym pasku nawigacyjnym.\n",
    "\n",
    "Wewnątrz komponentu `NavigationBar` definiujemy elementy nawigacyjne za pomocą funkcji `NavigationBarItem`. Wykorzystujemy pętlę `forEach`, aby przejść przez wszystkie elementy zdefiniowane w liście `screens`. Stan zaznaczenia (`selected`) jest ustawiany na podstawie warunku, czy bieżący cel nawigacyjny (`currentDestination`) odpowiada ścieżce (`route`) danego elementu nawigacyjnego.\n",
    "\n",
    "Po kliknięciu na element nawigacyjny wywoływana jest funkcja `onClick`, która używa `navController.navigate(screen.route)` do nawigacji do odpowiedniego ekranu na podstawie ścieżki (`route`) danego elementu nawigacyjnego."
   ]
  },
  {
   "cell_type": "markdown",
   "id": "f0c242c2-0e8a-4e72-af37-1caa5c91531b",
   "metadata": {},
   "source": [
    "Możemy przetestować kod"
   ]
  },
  {
   "cell_type": "markdown",
   "id": "1faba83c-b4b8-4a6a-a3f6-92e99422572d",
   "metadata": {},
   "source": [
    "<img src=\"https://media3.giphy.com/media/v1.Y2lkPTc5MGI3NjExMjVjZDE3NTRlNzhmYTQzZDM1NWZlNzcyNGFlMjI1MDgyYjg4NTU4NyZlcD12MV9pbnRlcm5hbF9naWZzX2dpZklkJmN0PWc/8Q9acBp3ZFUQqn06Oa/giphy.gif\" width=\"200\" />"
   ]
  },
  {
   "cell_type": "markdown",
   "id": "af71546d-6c26-4029-a1c8-2864b9628770",
   "metadata": {},
   "source": [
    "Podobnie jak w przykładzie 3.2, dodajmy `ActionBar` z rozwijanym *menu* i przyciskiem, przez który możemy przejść do ekranu `Settings`.\n",
    "\n",
    "Rozpocznijmy od zdefiniowania `Composable` dla ekranu."
   ]
  },
  {
   "cell_type": "code",
   "execution_count": null,
   "id": "a513c0c2-3273-49c6-bba9-4ee3f43c9b17",
   "metadata": {},
   "outputs": [],
   "source": [
    "@Composable\n",
    "fun SettingsScreen(){\n",
    "    Box(\n",
    "        Modifier\n",
    "            .fillMaxSize()\n",
    "            .background(Color.Red),\n",
    "        contentAlignment = Alignment.Center\n",
    "    ) {\n",
    "        Text(\n",
    "            text = \"Settings Screen\",\n",
    "            fontSize = 40.sp\n",
    "        )\n",
    "    }\n",
    "}\n",
    "\n",
    "@Preview(showBackground = true)\n",
    "@Composable\n",
    "fun SettingsPreview() {\n",
    "    JetpackComposeBottomNavigationBasicsTheme {\n",
    "        SettingsScreen()\n",
    "    }\n",
    "}"
   ]
  },
  {
   "cell_type": "markdown",
   "id": "85da565a-ba17-44dd-8dfe-8fdfa5eb3a44",
   "metadata": {},
   "source": [
    "Następnie dodajmy obiekt do klasy `Screens`."
   ]
  },
  {
   "cell_type": "code",
   "execution_count": null,
   "id": "4e3d0084-d68b-4299-853c-94288bdd0a8d",
   "metadata": {},
   "outputs": [],
   "source": [
    "sealed class Screens(val route: String) {\n",
    "    object HomeScreen : Screens(\"home\")\n",
    "    object FirstScreen : Screens(\"first\")\n",
    "    object SecondScreen : Screens(\"second\")\n",
    "    object SettingsScreen : Screens(\"settings\")\n",
    "}"
   ]
  },
  {
   "cell_type": "markdown",
   "id": "9542381e-828f-440c-9f6d-cfe38969bd12",
   "metadata": {},
   "source": [
    "Zwróćmy uwagę, że nie dodajemy nowego obiektu do klasy `BottomBar`, odpowiedzialnej za wyświetlanie dostępnych ekranów na pasku dolnym - dlatego mamy te dwie klasy rozdzielone. Kolejnym krokiem będzie dodanie możliwości nawigacji do nowego ekranu. Ponieważ nasz `NavHost` jest zdefiniowany w funkcji `BottomNavGraph`, to tutaj musimy dodać `composable` dla `SettingsScreen`"
   ]
  },
  {
   "cell_type": "code",
   "execution_count": null,
   "id": "f2194ac8-04f2-4059-bab5-2f4acdfb9914",
   "metadata": {},
   "outputs": [],
   "source": [
    "@Composable\n",
    "fun BottomNavGraph(navController: NavHostController){\n",
    "    NavHost(\n",
    "        navController = navController,\n",
    "        startDestination = Screens.HomeScreen.route\n",
    "    ) {\n",
    "        composable(route = Screens.HomeScreen.route){ HomeScreen() }\n",
    "        composable(route = Screens.FirstScreen.route){ FirstScreen() }\n",
    "        composable(route = Screens.SecondScreen.route){ SecondScreen() }\n",
    "        composable(route = Screens.SettingsScreen.route){ SettingsScreen()}\n",
    "    }\n",
    "}"
   ]
  },
  {
   "cell_type": "markdown",
   "id": "e133c465-5ddf-4543-8f49-3cf07ef9cdd9",
   "metadata": {},
   "source": [
    "Tutaj kolejnym krokiem jest zmiana nazwy funkcji z `BottomNavGraph` na `NavGraph`"
   ]
  },
  {
   "cell_type": "code",
   "execution_count": null,
   "id": "5255a585-c9f8-451d-aeb0-b933230c9f05",
   "metadata": {},
   "outputs": [],
   "source": [
    "@Composable\n",
    "fun NavGraph(navController: NavHostController){\n",
    "    NavHost(\n",
    "        navController = navController,\n",
    "        startDestination = Screens.HomeScreen.route\n",
    "    ) {\n",
    "        composable(route = Screens.HomeScreen.route){ HomeScreen() }\n",
    "        composable(route = Screens.FirstScreen.route){ FirstScreen() }\n",
    "        composable(route = Screens.SecondScreen.route){ SecondScreen() }\n",
    "        composable(route = Screens.SettingsScreen.route){ SettingsScreen()}\n",
    "    }\n",
    "}"
   ]
  },
  {
   "cell_type": "markdown",
   "id": "8d6c2d64-a300-496a-a51b-67971714ab8c",
   "metadata": {},
   "source": [
    "Dodajmy `topBar` do naszego elementu `Scaffold` w funkcji `Navigation`"
   ]
  },
  {
   "cell_type": "code",
   "execution_count": null,
   "id": "eb298944-027f-4f18-aa4d-f872606f18b8",
   "metadata": {},
   "outputs": [],
   "source": [
    "@SuppressLint(\"UnusedMaterial3ScaffoldPaddingParameter\")\n",
    "@OptIn(ExperimentalMaterial3Api::class)\n",
    "@Composable\n",
    "fun Navigation(){\n",
    "    val navController = rememberNavController()\n",
    "    Scaffold(\n",
    "        bottomBar = { BottomMenu(navController = navController)},\n",
    "        topBar = {ActionBarMenu(navController = navController)},\n",
    "        content = { NavGraph(navController = navController) }\n",
    "    )\n",
    "}"
   ]
  },
  {
   "cell_type": "markdown",
   "id": "bb1eb12c-de5a-4dcf-91e6-5d6e2c985bdd",
   "metadata": {},
   "source": [
    "Dodajmy funkcję `Composable` `ActionBarMenu` do której przekazujemy `navController`"
   ]
  },
  {
   "cell_type": "code",
   "execution_count": null,
   "id": "0e2f10ca-63ab-41f0-8bf0-35877ea9eac1",
   "metadata": {},
   "outputs": [],
   "source": [
    "@OptIn(ExperimentalMaterial3Api::class)\n",
    "@Composable\n",
    "fun ActionBarMenu(navController: NavHostController){\n",
    "\n",
    "    var displayMenu by remember { mutableStateOf(false) }\n",
    "\n",
    "    TopAppBar(\n",
    "        title = {Text(\"Navigation App\", color = Color.Black) },\n",
    "        actions = {\n",
    "            IconButton(onClick = { displayMenu = !displayMenu }) {\n",
    "                Icon(Icons.Default.MoreVert, \"more\")\n",
    "            }\n",
    "            DropdownMenu(\n",
    "                expanded = displayMenu,\n",
    "                onDismissRequest = { displayMenu = false }\n",
    "            ){\n",
    "                DropdownMenuItem(text = { Text(text = \"Settings\") }, onClick = { navController.navigate(Screens.SettingsScreen.route) })\n",
    "            }\n",
    "        }\n",
    "    )\n",
    "}\n"
   ]
  },
  {
   "cell_type": "markdown",
   "id": "fc1f39a8-23cf-4e6a-b904-2364eaced0eb",
   "metadata": {},
   "source": [
    "Zmienna `displayMenu` przechowuje informację o tym, czy *menu* rozwijane jest widoczne czy nie. Początkowo ustawiamy ją na `false`. Komponent `TopAppBar` jest używany do renderowania paska akcji na górnym obszarze interfejsu użytkownika. Przyjmuje on kilka parametrów, takich jak `title` (tytuł paska akcji) i `actions` (akcje, które można wykonać w pasku akcji). W `actions` definiujemy akcje paska akcji, które są umieszczone po prawej stronie. W tym przypadku mamy jedną akcję.\n",
    "\n",
    "`IconButton` jest używany do renderowania ikony przycisku, który tutaj reprezentuje menu rozwijane. Po kliknięciu na przycisk, wartość zmiennej `displayMenu` jest odwracana, co prowadzi do rozwinięcia lub ukrycia menu rozwijanego.\n",
    "\n",
    "`DropdownMenu` to komponent, który renderuje menu rozwijane. Przyjmuje kilka parametrów, takich jak `expanded` (czy menu jest rozwinięte), `onDismissRequest` (funkcja wywoływana po zamknięciu menu).\n",
    "\n",
    "Wewnątrz `DropdownMenu` definiujemy elementy menu rozwijanego za pomocą komponentu `DropdownMenuItem`. W tym przypadku mamy jeden element menu, który reprezentuje opcję `\"Settings\"`. Po kliknięciu na ten element, wywoływana jest funkcja `onClick`, która używa `navController.navigate(Screens.SettingsScreen.route)` do nawigacji do ekranu ustawień (`SettingsScreen`)."
   ]
  },
  {
   "cell_type": "markdown",
   "id": "92091787-8ce4-406e-b9be-ab0a3b25fd85",
   "metadata": {},
   "source": [
    "Możemy przetestowwać nawigację"
   ]
  },
  {
   "cell_type": "markdown",
   "id": "41bf2fdb-f9cd-4ff8-998d-523cfbb6b916",
   "metadata": {},
   "source": [
    "<img src=\"https://media2.giphy.com/media/v1.Y2lkPTc5MGI3NjExY2IyZWJkYjhhZDg1MjA3OTVhOWViMmFiYWY4YTg0OTJhNDk0NDY1MyZlcD12MV9pbnRlcm5hbF9naWZzX2dpZklkJmN0PWc/iOtIirgoegl6axFO1n/giphy.gif\" width=\"200\" />"
   ]
  },
  {
   "cell_type": "code",
   "execution_count": null,
   "id": "5a1c7c25-b5e0-4c2b-9ca2-662bfd59dabb",
   "metadata": {},
   "outputs": [],
   "source": []
  }
 ],
 "metadata": {
  "kernelspec": {
   "display_name": "Kotlin",
   "language": "kotlin",
   "name": "kotlin"
  },
  "language_info": {
   "codemirror_mode": "text/x-kotlin",
   "file_extension": ".kt",
   "mimetype": "text/x-kotlin",
   "name": "kotlin",
   "nbconvert_exporter": "",
   "pygments_lexer": "kotlin",
   "version": "1.8.0-RC"
  }
 },
 "nbformat": 4,
 "nbformat_minor": 5
}
