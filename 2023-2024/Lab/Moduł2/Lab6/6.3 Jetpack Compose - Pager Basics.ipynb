{
 "cells": [
  {
   "cell_type": "markdown",
   "id": "79194986-157a-491b-bc79-938c934a15f3",
   "metadata": {},
   "source": [
    "# Jetpack Compose - Pager"
   ]
  },
  {
   "cell_type": "markdown",
   "id": "950f224e-1271-451b-a859-7ee4067b1076",
   "metadata": {},
   "source": [
    "Przyjrzyjmy się teraz odpowiednikowi `ViewPager` w `JetpackCompose`. Ponieważ w trakcie pisania tekstu, `Compose Pager` ma jeszcze status *eksperymentalny*, musimy dodać kilka wpisów w plikach konfiguracyjnych `gradle`."
   ]
  },
  {
   "cell_type": "markdown",
   "id": "667061e2-e19c-4272-ac6b-dc7a5ebcd99c",
   "metadata": {},
   "source": [
    "<img src=\"https://media0.giphy.com/media/v1.Y2lkPTc5MGI3NjExNzVmZTIwY2QyNjFiNDMwYzAxZGJiNjExMGFmMGM2ZGJlZGM3YmQ4NiZlcD12MV9pbnRlcm5hbF9naWZzX2dpZklkJmN0PWc/O5vzmXdMMKZYvKvW9a/giphy.gif\" width=\"200\" />"
   ]
  },
  {
   "cell_type": "markdown",
   "id": "e99a0dd8-1ca9-47ad-8651-67688752eda3",
   "metadata": {},
   "source": [
    "Do `build.gradle (Project)` dodajemy"
   ]
  },
  {
   "cell_type": "code",
   "execution_count": null,
   "id": "42593377-3c58-49fa-ad7b-c7773c07c9e2",
   "metadata": {},
   "outputs": [],
   "source": [
    "buildscript {\n",
    "    ext {\n",
    "        compose_ui_version = '1.4.0'\n",
    "    }\n",
    "}"
   ]
  },
  {
   "cell_type": "markdown",
   "id": "7611abfe-5708-4d7d-b801-37b4737fd2d1",
   "metadata": {},
   "source": [
    "Definiujemy właściwości rozszerzeń (*extensions*) dla skryptu budowania, interesuje nas zmienna `compose_ui_version`, która przechowuje numer wersji `Compose UI` używanej w aplikacji - tutaj użyjemy wersji `1.4.0`.\n",
    "\n",
    "Słowo kluczowe `ext` służy do definiowania właściwości rozszerzeń (*extensions*) dla skryptu budowania, które mogą być wykorzystywane w innych częściach skryptu, np. w konfiguracji zależności (*dependencies*).\n",
    "\n",
    "W pliku `build.gradle (Module)` dodajjemy zależność, oraz ustawiamy odpowidnie wersje kompilatora"
   ]
  },
  {
   "cell_type": "code",
   "execution_count": null,
   "id": "bf5742ac-16b5-4ecb-8098-c7981e6092d7",
   "metadata": {},
   "outputs": [],
   "source": [
    "android {\n",
    "    ...\n",
    "    composeOptions {\n",
    "        kotlinCompilerExtensionVersion '1.4.3'\n",
    "    }\n",
    "    ...\n",
    "}\n",
    "\n",
    "dependencies {\n",
    "\n",
    "    implementation 'androidx.core:core-ktx:1.8.0'\n",
    "    implementation 'androidx.lifecycle:lifecycle-runtime-ktx:2.3.1'\n",
    "    implementation 'androidx.activity:activity-compose:1.5.1'\n",
    "    implementation 'androidx.compose.foundation:foundation:1.4.3'\n",
    "    ...\n",
    "}"
   ]
  },
  {
   "cell_type": "markdown",
   "id": "f240e32a-0d28-48b1-9237-3b463a01c50b",
   "metadata": {},
   "source": [
    "- `kotlinCompilerExtensionVersion` - określa wersję rozszerzenia kompilatora języka Kotlin do Compose.\n",
    "- `androidx.compose.foundation:foundation` - biblioteka zawierająca podstawowe elementy interfejsu użytkownika w Compose - tutaj potrzebujemy wersję `1.4.3`."
   ]
  },
  {
   "cell_type": "markdown",
   "id": "0df19c98-196e-4af5-b5a8-090245100d73",
   "metadata": {},
   "source": [
    "Dodajmy funkcję `@Composable`, tym raze musimy użyć dodatkowej adnotacji"
   ]
  },
  {
   "cell_type": "code",
   "execution_count": null,
   "id": "5897ede8-91be-4139-8398-fe210abf541c",
   "metadata": {},
   "outputs": [],
   "source": [
    "@OptIn(ExperimentalFoundationApi::class)\n",
    "@Composable\n",
    "fun PagerBasics() {}"
   ]
  },
  {
   "cell_type": "markdown",
   "id": "b58ab448-2ef9-4665-9750-644040ddeb40",
   "metadata": {},
   "source": [
    "Aby umożliwić użycie eksperymentalnych funkcjonalności z biblioteki `Compose Foundation`, użyto adnotacji `@OptIn` z parametrem `ExperimentalFoundationApi::class`. Oznacza to, że kod może korzystać z funkcjonalności, które nie są jeszcze stabilne i mogą się zmienić w przyszłości."
   ]
  },
  {
   "cell_type": "markdown",
   "id": "454300b9-c8cb-440b-8505-39aae714d00d",
   "metadata": {},
   "source": [
    "Aby w pełni obsłużyć zmianę stron, musimy umieścić w pamięci m.in. aktualny numer strony oraz liczbę dostępnych stron. Możemy to zrobić wykorzystując `rememberPagerState`"
   ]
  },
  {
   "cell_type": "code",
   "execution_count": null,
   "id": "dcdae024-1d7f-407d-8680-8e566773d3cb",
   "metadata": {},
   "outputs": [],
   "source": [
    "val pagerState = rememberPagerState()"
   ]
  },
  {
   "cell_type": "markdown",
   "id": "00ed00f6-c2c0-4c93-9ea8-d1bbb130bc5f",
   "metadata": {},
   "source": [
    "`PagerState` to obiekt, który przechowuje aktualny stan pagera, tzn. indeks bieżącej strony oraz liczba dostępnych stron. `rememberPagerState()` służy do utworzenia instancji `PagerState` i zapamiętania jej w pamięci `Compose`. Dzięki temu, kiedy stan pagera ulega zmianie, np. wskutek przewinięcia do kolejnej strony, `Compose` automatycznie przerenderuje widok i zaktualizuje go w oparciu o aktualny stan.\n",
    "\n",
    "Funkcja `rememberPagerState()` zwraca `MutableState`, który jest obserwowalny i może być zmieniany. Stała `pagerState` pozwala na dostęp do aktualnego stanu pagera i jego zmianę w przypadku konieczności."
   ]
  },
  {
   "cell_type": "markdown",
   "id": "e854c926-bbaf-4302-980c-bf5628e255e9",
   "metadata": {},
   "source": [
    "Dodajmy `HorizontalPager` (możemy ównież wykorzystać `VerticalPager` do przewijania wzdłuż ekranu)"
   ]
  },
  {
   "cell_type": "code",
   "execution_count": null,
   "id": "d1caeb3e-1740-4e79-b764-ac3aad089ca3",
   "metadata": {},
   "outputs": [],
   "source": [
    "HorizontalPager(\n",
    "    pageCount = 3,\n",
    "    state = pagerState,\n",
    "    pageSize = PageSize.Fill\n",
    ")"
   ]
  },
  {
   "cell_type": "markdown",
   "id": "652b74c1-96ee-46e1-9d65-3d33cc8ee519",
   "metadata": {},
   "source": [
    "- `pageCount = 3` - ustawia liczbę stron pagera na trzy.\n",
    "- `state = pagerState` wskazuje, że stan pagera, który jest przechowywany w obiekcie `pagerState`, jest podłączony do komponentu `HorizontalPager`. Oznacza to, że jeśli użytkownik zmieni stronę pagera, to obiekt `pagerState` zostanie automatycznie zaktualizowany i widok `pagera` zostanie zaktualizowany w oparciu o nowy stan.\n",
    "- `pageSize = PageSize.Fill` ustawia rozmiar strony pagera na pełną szerokość ekranu."
   ]
  },
  {
   "cell_type": "markdown",
   "id": "c0f5a5a4-f68a-4cf0-8fe0-ef35fab7e23e",
   "metadata": {},
   "source": [
    "Jako stronę `Pagera` ustawiamy pole `Text` rozszerzone na całą stronę i z wycentrowanym tekstem"
   ]
  },
  {
   "cell_type": "code",
   "execution_count": null,
   "id": "a78d98c8-814e-4d8a-94c0-089dc2c22dfa",
   "metadata": {},
   "outputs": [],
   "source": [
    "@OptIn(ExperimentalFoundationApi::class)\n",
    "@Composable\n",
    "fun PagerBasics() {\n",
    "    val pagerState = rememberPagerState()\n",
    "    HorizontalPager(\n",
    "        pageCount = 3,\n",
    "        state = pagerState,\n",
    "        pageSize = PageSize.Fill\n",
    "    ) { page ->\n",
    "        Text(\n",
    "            text = \"Page: ${page + 1}\",\n",
    "            modifier = Modifier\n",
    "                .fillMaxSize()\n",
    "                .wrapContentSize(Alignment.Center), // centrowanie wertykalne\n",
    "            textAlign = TextAlign.Center, // centrowanie horyzontalne\n",
    "            fontSize = 36.sp\n",
    "        )\n",
    "    }\n",
    "}"
   ]
  },
  {
   "cell_type": "markdown",
   "id": "f42628b4-3021-4a0f-8b62-2cd47311864f",
   "metadata": {},
   "source": [
    "Na koniec wywołujemy funkcjję w `MainActivity`"
   ]
  },
  {
   "cell_type": "code",
   "execution_count": null,
   "id": "c8921372-50c0-4146-b64d-ca57490c10ca",
   "metadata": {},
   "outputs": [],
   "source": [
    "class MainActivity : ComponentActivity() {\n",
    "    override fun onCreate(savedInstanceState: Bundle?) {\n",
    "        super.onCreate(savedInstanceState)\n",
    "        setContent {\n",
    "            JetpackComposePagerBasicsTheme {\n",
    "                Surface(\n",
    "                    modifier = Modifier.fillMaxSize(),\n",
    "                    color = MaterialTheme.colorScheme.background\n",
    "                ) {\n",
    "                    PagerBasics()\n",
    "                }\n",
    "            }\n",
    "        }\n",
    "    }\n",
    "}"
   ]
  },
  {
   "cell_type": "markdown",
   "id": "5195cd09-c0ee-444b-8219-b4176c1bee93",
   "metadata": {},
   "source": [
    "<img src=\"https://media0.giphy.com/media/v1.Y2lkPTc5MGI3NjExNzVmZTIwY2QyNjFiNDMwYzAxZGJiNjExMGFmMGM2ZGJlZGM3YmQ4NiZlcD12MV9pbnRlcm5hbF9naWZzX2dpZklkJmN0PWc/O5vzmXdMMKZYvKvW9a/giphy.gif\" width=\"200\" />"
   ]
  }
 ],
 "metadata": {
  "kernelspec": {
   "display_name": "Kotlin",
   "language": "kotlin",
   "name": "kotlin"
  },
  "language_info": {
   "codemirror_mode": "text/x-kotlin",
   "file_extension": ".kt",
   "mimetype": "text/x-kotlin",
   "name": "kotlin",
   "nbconvert_exporter": "",
   "pygments_lexer": "kotlin",
   "version": "1.8.0-RC"
  }
 },
 "nbformat": 4,
 "nbformat_minor": 5
}
