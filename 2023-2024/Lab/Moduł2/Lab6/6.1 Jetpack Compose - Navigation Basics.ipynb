{
 "cells": [
  {
   "cell_type": "markdown",
   "id": "738b9caa-f053-452c-b418-65764d7fb8ad",
   "metadata": {},
   "source": [
    "# Jetpack Compose - Compose Navigation - Podstawy"
   ]
  },
  {
   "cell_type": "markdown",
   "id": "95973f93-f2c5-4d9d-bcf1-34a24104efea",
   "metadata": {},
   "source": [
    "`Jetpack Compose Navigation` to biblioteka, która umożliwia nawigację w aplikacji. Działa ona na podobnej zasadzie co w przypadku starszych rozwiązań, takich jak `Navigation Component` w `XML` na bazie `Fragment'ów`.\n",
    "\n",
    "`Compose Navigation` działa na zasadzie tworzenia i nawigowania między ekranami (*destination*). Ekran jest reprezentowany przez `Composable`, który może być zdefiniowany w dowolnym miejscu w aplikacji. Nawigacja między ekranami odbywa się za pomocą dedykowanych funkcji, takich jak `navController.navigate()`."
   ]
  },
  {
   "cell_type": "markdown",
   "id": "48354e07-4181-49a6-9f54-51992c21d826",
   "metadata": {},
   "source": [
    "Nawigacja oparta na fragmentach to podejście stosowane w tradycyjnych aplikacjach Android, w którym każdy ekran reprezentowany jest przez osobny fragment. Fragmenty te są umieszczane w kontenerze nawigacji (na przykład w `NavHostFragment`) i nawigacja między nimi jest oparta na stosie fragmentów. Użytkownik nawiguje między ekranami poprzez dodawanie i usuwanie fragmentów ze stosu.\n",
    "\n",
    "`Compose Navigation` z kolei jest oparte na deklaratywnym podejściu, które pozwala na definiowanie nawigacji w sposób deklaratywny. Ekranami w `Compose Navigation` są funkcje `Composable`, a nawigacja między nimi jest oparta na deklaratywnych intentach nawigacji. Przykładowo, przycisk *\"Przejdź do ekranu 2\"* może być obsługiwany przez intent nawigacji, który określa, że aplikacja powinna przejść do `Composable`, który reprezentuje drugi ekran.\n",
    "\n",
    "W skrócie, `Jetpacj Navigation Component` polega na nawigacji między fragmentami na stosie, a `Compose Navigation` umożliwia nawigację między `Composable` za pomocą intentów nawigacji."
   ]
  },
  {
   "cell_type": "markdown",
   "id": "69e940a1-83f6-4bc4-a968-d68136a1fda4",
   "metadata": {},
   "source": [
    "W tym przykładzie zobaczymy jak utworzyć nawigację pomiędzy dwoma ekranami z `Compose Navigation` (analogicznie do przykładu 3.1)"
   ]
  },
  {
   "cell_type": "markdown",
   "id": "268e8358-7886-4ad2-bfc3-85a8b2707ddf",
   "metadata": {},
   "source": [
    "<img src=\"https://media0.giphy.com/media/v1.Y2lkPTc5MGI3NjExOWMwMTk3ODI2M2IzYzhkZDU3MTg5NjkzYjMzODRkZjljZjhjOTllOSZlcD12MV9pbnRlcm5hbF9naWZzX2dpZklkJmN0PWc/vWJ46bckawaxycAThC/giphy.gif\" width=\"200\" />"
   ]
  },
  {
   "cell_type": "markdown",
   "id": "a9041a59-d24e-400d-aa6b-b301bbdbaa69",
   "metadata": {},
   "source": [
    "Rozpocznijmy od zdefiniowania klasy przechowującej obiekty reprezentujące nasze ekrany."
   ]
  },
  {
   "cell_type": "code",
   "execution_count": null,
   "id": "c3e75258-b4a1-4a17-a549-b2bcfff05cf4",
   "metadata": {},
   "outputs": [],
   "source": [
    "sealed class Screens(val route: String) {\n",
    "    object MainScreen : Screens(\"main_screen\")\n",
    "    object SecondScreen : Screens(\"second_screen\")\n",
    "}"
   ]
  },
  {
   "cell_type": "markdown",
   "id": "d6da9b94-4939-4a32-9622-9966ddcef9bc",
   "metadata": {},
   "source": [
    "`Screens` zawiera dwie właściwości: `MainScreen` i `SecondScreen`, które określają poszczególne ekrany. Każdy z obiektów ma zdefiniowany `route`, który jest nazwą, jaka zostanie użyta do nawigacji na dany ekran. `route` to unikalny identyfikator ekranu, który jest wykorzystywany przez system nawigacji, aby określić, na który ekran ma przejść użytkownik."
   ]
  },
  {
   "cell_type": "markdown",
   "id": "650bd1f4-bcc5-4e3a-b053-d8f8c08630d6",
   "metadata": {},
   "source": [
    "Dodajmy `Composable` reprezentujący ekran główny"
   ]
  },
  {
   "cell_type": "code",
   "execution_count": null,
   "id": "dafc630f-fa16-46a0-aeee-aef064debbdc",
   "metadata": {},
   "outputs": [],
   "source": [
    "fun MainScreen(onSecondScreen: () -> Unit) {\n",
    "    Column(\n",
    "        Modifier.fillMaxSize(),\n",
    "        horizontalAlignment = Alignment.CenterHorizontally,\n",
    "        verticalArrangement = Arrangement.Center\n",
    "    ) {\n",
    "        Text(\"Home Screen\")\n",
    "        Spacer(modifier = Modifier.height(8.dp))\n",
    "        Button(onClick = onSecondScreen) {\n",
    "            Text(\"Go to Second Screen\")\n",
    "        }\n",
    "    }\n",
    "}"
   ]
  },
  {
   "cell_type": "markdown",
   "id": "dd7e138c-a659-4eb9-8b4c-bd63316767b5",
   "metadata": {},
   "source": [
    "Funkcja `MainScreen` renderuje zawartość ekranu głównego, który składa się z tekstu `\"Home Screen\"` oraz przycisku `\"Go to Second Screen\"`. Przyjmuje funkcję `onSecondScreen` typu `() -> Unit` jako argument, którą wywołamy po naciśnięciu przycisku - zaimplementujemy przejście do `SecondScreen`"
   ]
  },
  {
   "cell_type": "code",
   "execution_count": null,
   "id": "9337938f-ec39-4000-bb7c-90b842f59afa",
   "metadata": {},
   "outputs": [],
   "source": [
    "@Composable\n",
    "fun SecondScreen(onHome: () -> Unit) {\n",
    "    Column(\n",
    "        Modifier.fillMaxSize(),\n",
    "        horizontalAlignment = Alignment.CenterHorizontally,\n",
    "        verticalArrangement = Arrangement.Center\n",
    "    ) {\n",
    "        Text(\"Second Screen\")\n",
    "        Spacer(modifier = Modifier.height(8.dp))\n",
    "        Button(onClick = onHome) { Text(\"Go back to Main Screen\") }\n",
    "    }\n",
    "}"
   ]
  },
  {
   "cell_type": "markdown",
   "id": "641137ad-5154-4eb9-9d0f-9103470168c7",
   "metadata": {},
   "source": [
    "Funkcja `SecondScreen` renderuje zawartość drugiego ekranu, który składa się z tekstu `\"Second Screen\"` oraz przycisku `\"Go back to Main Screen\"`. Przyjmuje funkcję `onHome` typu `() -> Unit` jako argument, którą wywołamy po naciśnięciu przycisku - zaimplementujemy powrót do `MainScreen`"
   ]
  },
  {
   "cell_type": "markdown",
   "id": "086b9159-b52f-43aa-9fb1-13f0890c2fea",
   "metadata": {},
   "source": [
    "Pozostaje nam dodanie nawigacji do aplikacji."
   ]
  },
  {
   "cell_type": "code",
   "execution_count": null,
   "id": "a2bf101d-4547-449a-9499-b853e88a8453",
   "metadata": {},
   "outputs": [],
   "source": [
    "@Composable\n",
    "fun Navigation() {"
   ]
  },
  {
   "cell_type": "markdown",
   "id": "1a8731a8-6acb-44a9-9247-be81c6ca9a84",
   "metadata": {},
   "source": [
    "W pierwszym kroku utworzymy `navController`"
   ]
  },
  {
   "cell_type": "code",
   "execution_count": null,
   "id": "ae1f658e-2ea8-4399-ade5-f0e5cd393ed1",
   "metadata": {},
   "outputs": [],
   "source": [
    "val navController = rememberNavController()"
   ]
  },
  {
   "cell_type": "markdown",
   "id": "ca5dc6e8-d584-4a27-842c-3278bbf0b943",
   "metadata": {},
   "source": [
    "Tworzymy instancję `NavHostController`, który jest odpowiedzialny za zarządzanie nawigacją w aplikacji. `NavHostController` przechowuje informacje o aktualnym stanu nawigacji, jak również przechowuje informacje o celach, które są dostępne do nawigacji. Funkcja `rememberNavController()` to funkcja pomocnicza, która tworzy `NavHostController` i automatycznie go zapisuje w pamięci podręcznej `Compose`, dzięki czemu można go używać w innych kompozycjach bez konieczności tworzenia nowej instancji za każdym razem, gdy chcemy nawigować po aplikacji."
   ]
  },
  {
   "cell_type": "markdown",
   "id": "1bd6bc6f-404b-449f-94c6-dce14e501dce",
   "metadata": {},
   "source": [
    "Dodajmy tutaj, że możemy wykorzystać dwa rodzaje kontrolerów: `NavController` i `NavHostController`.\n",
    "\n",
    "`NavController` to podstawowy interfejs, który zapewnia metody do nawigacji w ramach jednego `NavHosta`. Umożliwia przemieszczanie się między ekranami, zdejmowanie ze stosu powrotnego i inne operacje nawigacyjne.\n",
    "\n",
    "`NavHostController` to bardziej specjalistyczny interfejs, który dziedziczy po `NavController`. Zapewnia on dodatkowe metody do zarządzania `NavHostem`, takie jak dodawanie i usuwanie widoków, tworzenie dostosowanych animacji, itp.\n",
    "\n",
    "Podsumowując, `NavController` to interfejs, który pozwala na nawigację między ekranami w ramach jednego `NavHosta`, a `NavHostController` to bardziej zaawansowany interfejs, który dodaje możliwość zarządzania NavHostem, na którym te ekrany są wyświetlane."
   ]
  },
  {
   "cell_type": "markdown",
   "id": "34c19fdc-80c9-4ef7-a4ea-f7f099bf7585",
   "metadata": {},
   "source": [
    "Utworzony w ten sposób `navController`\n",
    "\n",
    "```kotlin\n",
    "val navController = rememberNavController()\n",
    "```\n",
    "\n",
    "jest typu `NavHostController`, jednak w większości prostych aplikacji możemy wykorzystać prostszy `NavController`"
   ]
  },
  {
   "cell_type": "markdown",
   "id": "8b3ad088-94d3-4780-af7d-33687103876e",
   "metadata": {},
   "source": [
    "Następnie musimy wywołać funkcję `NavHost` przyjmującą\n",
    "\n",
    "```kotlin\n",
    "@Composable\n",
    "public fun NavHost(\n",
    "    navController: NavHostController,\n",
    "    startDestination: String,\n",
    "    modifier: Modifier,\n",
    "    route: String?,\n",
    "    builder: NavGraphBuilder.() -> Unit\n",
    "): Unit\n",
    "```\n",
    "\n",
    "Funkcja definiuje komponent `Compose Navigation`, który służy jako kontener dla wszystkich ekranów w aplikacji.\n",
    "\n",
    "Wartością `startDestination` jest pierwszy ekran, który zostanie wyświetlony w `NavHost` po uruchomieniu aplikacji. Parametr `modifier` jest używany do modyfikowania wyglądu `NavHost`, a `route` określa ścieżkę dostępu, której dotyczy `NavHost`.\n",
    "\n",
    "Parametr builder to `lambda`, która służy do definiowania poszczególnych ekranów w `NavHost`, wraz z przypisanymi im nazwami.\n",
    "\n",
    "Wywołajmy tą funkcję"
   ]
  },
  {
   "cell_type": "code",
   "execution_count": null,
   "id": "02b5b66e-ea72-4fdd-b2be-a5e1e3fc8430",
   "metadata": {},
   "outputs": [],
   "source": [
    "NavHost(navController = navController, startDestination = Screens.MainScreen.route) {\n",
    "\n",
    "}"
   ]
  },
  {
   "cell_type": "markdown",
   "id": "fed65802-22ba-4ad9-a54d-50269fbe338c",
   "metadata": {},
   "source": [
    "Podajemy wcześniej utworzony `navController` jako pierwszy argument, jako ekran startowy podajemy ścieżkę do `MainScreen` zdefiniowaną w klasie `Screens.MainScreen`, ostatnim wymaganym parametrem jest lambda ze wszystkimi ekranami w nawigacji.\n",
    "\n",
    "Wewnątrz lambdy wywołujemy funkcję `composable` dla każdego ekranu"
   ]
  },
  {
   "cell_type": "code",
   "execution_count": null,
   "id": "6d666a89-e985-4279-91ca-13e81d3acb2b",
   "metadata": {},
   "outputs": [],
   "source": [
    "composable(route = Screens.MainScreen.route){\n",
    "    MainScreen{navController.navigate(Screens.SecondScreen.route)}\n",
    "}\n",
    "\n",
    "composable(route = Screens.SecondScreen.route){\n",
    "    SecondScreen {navController.popBackStack()}\n",
    "}"
   ]
  },
  {
   "cell_type": "markdown",
   "id": "c4b1ab28-79bf-450d-9b54-c5641b1e5b61",
   "metadata": {},
   "source": [
    "Wpierw definiujemy `composable` dla określonej ścieżki nawigacyjnej (`route`) dla ekranu głównego (`MainScreen`). Wewnątrz tego `composable`, zdefiniowana jest funkcja wywoływana po kliknięciu przycisku, która przekierowuje użytkownika do drugiego ekranu (`SecondScreen`) przy użyciu metody `navigate()` kontrolera nawigacji (`navController`). Metoda ta pozwala przekierować użytkownika do innej strony w nawigacji, zgodnie z określonymi zasadami nawigacji.\n",
    "\n",
    "Podobnie definiujemy `composable` dla drugiego ekranu. Kiedy użytkownik kliknie przycisk `\"Go back to Main Screen\"` (w funkcji `SecondScreen`), zostanie wywołana funkcja `navController.popBackStack()`, która spowoduje powrót do poprzedniego destination (czyli `MainScreen`).\n",
    "\n",
    "Pełny kod funkcji `Navigation`"
   ]
  },
  {
   "cell_type": "code",
   "execution_count": null,
   "id": "541af2c4-3921-4b90-9b29-edb6842a9c43",
   "metadata": {},
   "outputs": [],
   "source": [
    "@Composable\n",
    "fun Navigation() {\n",
    "    val navController = rememberNavController()\n",
    "    NavHost(navController = navController, startDestination = Screens.MainScreen.route) {\n",
    "        composable(route = Screens.MainScreen.route){\n",
    "            MainScreen{navController.navigate(Screens.SecondScreen.route)}\n",
    "        }\n",
    "\n",
    "        composable(route = Screens.SecondScreen.route){\n",
    "            SecondScreen {navController.popBackStack()}\n",
    "        }\n",
    "    }\n",
    "}"
   ]
  },
  {
   "cell_type": "markdown",
   "id": "aeb38981-f680-406d-8b81-b5e1094ebf50",
   "metadata": {},
   "source": [
    "Musimy jeszcze wywołać tą funkcję w `MainActivity`"
   ]
  },
  {
   "cell_type": "code",
   "execution_count": null,
   "id": "a4e53248-9ca4-4215-8018-d047006122c0",
   "metadata": {},
   "outputs": [],
   "source": [
    "class MainActivity : ComponentActivity() {\n",
    "    override fun onCreate(savedInstanceState: Bundle?) {\n",
    "        super.onCreate(savedInstanceState)\n",
    "        setContent {\n",
    "            JetpackComposeNavigationBasicsTheme {\n",
    "                Surface(\n",
    "                    modifier = Modifier.fillMaxSize(),\n",
    "                    color = MaterialTheme.colorScheme.background\n",
    "                ) {\n",
    "                    Navigation()\n",
    "                }\n",
    "            }\n",
    "        }\n",
    "    }\n",
    "}"
   ]
  },
  {
   "cell_type": "markdown",
   "id": "27ac3f6d-c978-4498-9d9b-a12109e3178b",
   "metadata": {},
   "source": [
    "I możemy przetestować aplikację"
   ]
  },
  {
   "cell_type": "markdown",
   "id": "a0cca16a-36f6-46f3-b7bd-0ac48fbc1f2f",
   "metadata": {},
   "source": [
    "<img src=\"https://media3.giphy.com/media/v1.Y2lkPTc5MGI3NjExZDNjZjkxNDZkYzM5NDI3YmYwMmEwZWY4NjE0ZWJiOGE3MGIzNDgxYSZlcD12MV9pbnRlcm5hbF9naWZzX2dpZklkJmN0PWc/0L9qUgTVetbuJjJRRR/giphy.gif\" width=\"200\" />"
   ]
  },
  {
   "cell_type": "markdown",
   "id": "244b42ae-ec28-45c4-ae21-82e961df34e7",
   "metadata": {},
   "source": [
    "Oprócz funkcji `navigate` i `popBackStack`, w klasie `NavController` dostępne są również inne metody do nawigacji, takie jak:\n",
    "\n",
    "- `navigateUp()` - przemieszcza nawigację wstecz w stosunku do poprzedniej pozycji na stosie w nawigacji, aż do osiągnięcia korzenia grafu nawigacji.\n",
    "- `popBackStack(destinationId: Int, inclusive: Boolean)` - usuwa ostatni element stosu nawigacji, który jest równy określonemu celowi (`destinationId`), a także wszystkie elementy nawigacji na szczycie stosu do tego celu, jeśli parametr `inclusive` jest ustawiony na `true`.\n",
    "- `popBackStack(route: String, inclusive: Boolean)` - usuwa ostatni element stosu nawigacji, który jest równy określonemu adresowi (`route`), a także wszystkie elementy nawigacji na szczycie stosu do tego adresu, jeśli parametr `inclusive` jest ustawiony na `true`.\n",
    "- `navigate(route: String, builder: NavOptionsBuilder.() -> Unit)` - nawiguje do określonego adresu (`route`) i zastosuje do nawigacji określone opcje (`builder`) np. animacje.\n",
    "- `navigate(route: String, args: Bundle?, navOptions: NavOptions?, navigatorExtras: Navigator.Extras?)` - nawiguje do określonego adresu (`route`) z określonymi parametrami (`args`), opcjami nawigacji (`navOptions`) i dodatkowymi informacjami nawigatora (`navigatorExtras`).\n",
    "- `setGraph(graphResId: Int, startDestinationArgs: Bundle?, navigator: Navigator<out NavDestination>?)` - ustawia nowy graf nawigacji na podstawie zasobu identyfikowanego przez `graphResId`. Graf musi być zdefiniowany w pliku `XML navigation` w folderze `res`.\n",
    "- `setBackStackEntry(destination: NavDestination, args: Bundle?, isStartDestination: Boolean, popUpToState: NavBackStackEntry?): NavBackStackEntry` - ustawia nowy element stosu nawigacji z określonym celem (`destination`) i opcjonalnymi parametrami (`args`). Jeśli `isStartDestination` jest ustawiony na `true`, element będzie ustawiony jako cel startowy, a jeśli `popUpToState` jest ustawiony, to element nawigacji zostanie usunięty z powrotem na ten element."
   ]
  },
  {
   "cell_type": "markdown",
   "id": "224120c2-9009-4d74-a775-6a8c70969161",
   "metadata": {},
   "source": [
    "Zobaczmy teraz jak wygląda przekazanie argumentów pomiędzy ekranami. Argumenty przekazujemy przez `String` w postaci `<route>/{arg1}/{arg2}/...`, w ten sposób przekazanie argumentu jest **wymagane**. Możemy zastosować przekazanie **opcjonalne** zmieniając `String` na `<route>?arg1={arg1}?arg2={arg2}`. W poniższym przykładzie zobaczymy pierwszą opcję w najprostszej postaci."
   ]
  },
  {
   "cell_type": "markdown",
   "id": "815a1238-4e29-4b28-9b62-53e2009915c0",
   "metadata": {},
   "source": [
    "W funkcji `Navigation` wpierw zmodyfikujmy `composable` odpowiedzialny za wyświetlanie `MainScreen`. Dodajmy argument do przekazania - dla prostoty przekażemy `Int` o wartości 5 - oraz zmodyfikujmy `String` przy wywołanie `navigate`, aby dodać argument."
   ]
  },
  {
   "cell_type": "code",
   "execution_count": null,
   "id": "41ce7456-fa4c-40b4-96af-abf1a7bc095c",
   "metadata": {},
   "outputs": [],
   "source": [
    "composable(route = Screens.MainScreen.route){\n",
    "    val arg = 5\n",
    "    MainScreen{navController.navigate(Screens.SecondScreen.route + \"/$arg\")}\n",
    "}"
   ]
  },
  {
   "cell_type": "markdown",
   "id": "7cf26a58-17ea-45f5-a519-10d4f58a6777",
   "metadata": {},
   "source": [
    "Następnie zmodyfikujmy funkcję `SecondScreen`, tak abyy przyjmowała nasz argument jako parametr. I wyświetlmy go w polu `Text`"
   ]
  },
  {
   "cell_type": "code",
   "execution_count": null,
   "id": "1eeffcf3-65f5-4be4-a4df-613416d5b151",
   "metadata": {},
   "outputs": [],
   "source": [
    "@Composable\n",
    "fun SecondScreen(arg: String?, onHome: () -> Unit) {\n",
    "    Column(\n",
    "        ...\n",
    "    ) {\n",
    "        Text(\"Second Screen. Argument: $arg\")\n",
    "        ...\n",
    "    }\n",
    "}"
   ]
  },
  {
   "cell_type": "markdown",
   "id": "687f5b11-684c-4210-8478-e320a13e46f5",
   "metadata": {},
   "source": [
    "Powróćmy do funkcji `Navigation` i zmodyfikujmy `composable` odpowiedzialny za wyświetlanie `SecondScreen`. Muusimy zmodyfikować ścieżkę, oraz odebrać argument przez `NavBackStackEntry` (analogicznie do `Bundle` w przypadku `Jetpack Navigation`), następnie przekażemy odebrane dane jako argument w funkcji `SecondScreen`"
   ]
  },
  {
   "cell_type": "code",
   "execution_count": null,
   "id": "954dfed7-e87d-437c-9d90-2311a03b89a5",
   "metadata": {},
   "outputs": [],
   "source": [
    "composable(route = Screens.SecondScreen.route + \"/{arg}\"){\n",
    "    val arg = it.arguments?.getString(\"arg\")\n",
    "    SecondScreen(arg) {navController.popBackStack()}\n",
    "}"
   ]
  },
  {
   "cell_type": "markdown",
   "id": "fbfa019f-bb87-41be-bfa6-ea235ef246bb",
   "metadata": {},
   "source": [
    "Możemy pprzetestować aplikację."
   ]
  },
  {
   "cell_type": "markdown",
   "id": "35b80d96-188b-4842-929e-e60f6e6a9618",
   "metadata": {},
   "source": [
    "<img src=\"https://media0.giphy.com/media/v1.Y2lkPTc5MGI3NjExOWMwMTk3ODI2M2IzYzhkZDU3MTg5NjkzYjMzODRkZjljZjhjOTllOSZlcD12MV9pbnRlcm5hbF9naWZzX2dpZklkJmN0PWc/vWJ46bckawaxycAThC/giphy.gif\" width=\"200\" />"
   ]
  },
  {
   "cell_type": "code",
   "execution_count": null,
   "id": "edfc1eb6-162a-49a9-b270-ea8e4ebedff0",
   "metadata": {},
   "outputs": [],
   "source": []
  }
 ],
 "metadata": {
  "kernelspec": {
   "display_name": "Kotlin",
   "language": "kotlin",
   "name": "kotlin"
  },
  "language_info": {
   "codemirror_mode": "text/x-kotlin",
   "file_extension": ".kt",
   "mimetype": "text/x-kotlin",
   "name": "kotlin",
   "nbconvert_exporter": "",
   "pygments_lexer": "kotlin",
   "version": "1.6.20-dev-6372"
  }
 },
 "nbformat": 4,
 "nbformat_minor": 5
}
