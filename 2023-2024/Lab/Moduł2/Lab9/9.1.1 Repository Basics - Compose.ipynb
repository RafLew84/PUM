{
 "cells": [
  {
   "cell_type": "markdown",
   "id": "5efdeed6-bfb8-4794-91c1-5390e66bffa3",
   "metadata": {},
   "source": [
    "# Jetpack Compose - Repozytorium - Podstawy"
   ]
  },
  {
   "cell_type": "markdown",
   "id": "5a03d8a0-5f87-41dc-92e8-7948b9c6536c",
   "metadata": {},
   "source": [
    "W tej aplikacji przyjrzymy się zastosowaniu **Repozytorium** w aplikacji."
   ]
  },
  {
   "cell_type": "markdown",
   "id": "ec0c564e-1bd8-4a96-b1cc-b97be4394a59",
   "metadata": {},
   "source": [
    "<img src=\"https://media2.giphy.com/media/v1.Y2lkPTc5MGI3NjExeWR3YThvcTgxcDVhbzl2MzFja2hmcG9mMmc0d2s1aXpicDA5eHlsaSZlcD12MV9pbnRlcm5hbF9naWZfYnlfaWQmY3Q9Zw/b2E5YdNOMy3IC3fVU8/giphy.gif\" width=\"200\" />"
   ]
  },
  {
   "cell_type": "markdown",
   "id": "e45f6e2e-e8ca-4de4-b870-b45f6839e4a0",
   "metadata": {},
   "source": [
    "**Repozytorium** jest warstwą pośredniczącą między danymi a resztą aplikacji, zapewniającymi dostęp do źródeł danych (np. bazy danych, zdalne API, odczyt z pliku) oraz operacje na danych. W kontekście wzorca `MVVM`, repozytorium pomaga w oddzieleniu logiki biznesowej od interakcji z danymi, co ułatwia testowanie, utrzymanie i rozszerzanie aplikacji. \n",
    "- Separacja odpowiedzialności - Izoluje logikę dostępu do danych od logiki biznesowej i ui. To pozwala na łatwiejsze zarządzanie i utrzymanie kodu, a także ułatwia współpracę między różnymi zespołami programistycznymi.\n",
    "- Testowalność - Zapewnia łatwość testowania, ponieważ zapewnia abstrakcję nad danymi. Dzięki temu możemy tworzyć testy jednostkowe i testy integracyjne, które pozwalają nam weryfikować poprawność funkcjonalności bez konieczności dostępu do rzeczywistych źródeł danych.\n",
    "- Łatwa wymiana źródeł danych - Dzięki repozytorium możemy zmieniać źródło danych bez wprowadzania zmian w innych częściach aplikacji. Na przykład, jeśli nasza aplikacja korzysta z lokalnej bazy danych, ale chcemy w przyszłości przejść na zdalne API, możemy to zrobić bez konieczności modyfikowania `ViewModel`'ów i warstwy ui.\n",
    "- Obsługa błędów i odzyskiwanie - Repozytoria mogą obsługiwać błędy związane z danymi, takie jak problemy z siecią czy błędy związane z bazą danych.\n",
    "- Optymalizacja dostępu do danych - Repozytoria mogą wprowadzać mechanizmy optymalizacji dostępu do danych, np. *cache'owanie* wyników zapytań czy ograniczenie ilości komunikacji sieciowej. To może przyspieszyć działanie aplikacji i zmniejszyć zużycie zasobów urządzenia. (*cachowanie* pojawi się w ostatnim module zajęć)\n",
    "- Logika dostępu do danych - jeżeli mamy kilka źródeł danych, logikę dostępu (dostęp do API co określony czas, na żądanie użytkownika, w przeciwnym wypadku wczytanie danych z lokalnej bazy) możemy umieścić w repozytorium, pozostawiając `ViewModel` z jednym źródłem danych\n",
    "\n",
    "Stosowanie repozytorium nie jest obowiązkowe we wzorcu MVVM (nie jest jego częścią), ale jest jednym z wielu sposobów na zorganizowanie kodu w bardziej czytelny sposób, co ułatwia pracę nad większymi i bardziej skomplikowanymi projektami. "
   ]
  },
  {
   "cell_type": "markdown",
   "id": "d5193700-c441-4b9c-a0eb-1d72ab345cd2",
   "metadata": {},
   "source": [
    "<img src=\"https://media.licdn.com/dms/image/D5612AQFCAOUrDob0aw/article-inline_image-shrink_1500_2232/0/1686677040244?e=1696464000&v=beta&t=ZL1tZWV3kJMxsXuV-5bWswoQfC3Q0CHavGwjUcaqTTM\" width=\"600\" />"
   ]
  },
  {
   "cell_type": "markdown",
   "id": "33ee1637-1507-4a15-9550-50cc7a3be02a",
   "metadata": {},
   "source": [
    "Do wykorzystania repozytorium nie są wymagane żadne dodatkowe zależności w projekcie, dodajmy viewmodel\n",
    "\n",
    "```kotlin\n",
    "    implementation \"androidx.lifecycle:lifecycle-viewmodel-compose:2.6.1\"\n",
    "    implementation \"androidx.lifecycle:lifecycle-viewmodel-ktx:2.6.1\"\n",
    "    implementation \"androidx.lifecycle:lifecycle-runtime-compose:2.6.1\"\n",
    "```"
   ]
  },
  {
   "cell_type": "markdown",
   "id": "7fdf5196-c364-43de-8e07-4bb43ed8792d",
   "metadata": {},
   "source": [
    "Nasza aplikacja będzie wyświetlała listę użytkowników, którą wygenerujemy (*dummy data*). Dodajmy model, oraz dane."
   ]
  },
  {
   "cell_type": "code",
   "execution_count": null,
   "id": "8ef98fcf-f2ec-43b9-ac09-61938b2dd17f",
   "metadata": {},
   "outputs": [],
   "source": [
    "data class User(val firstName: String, val lastName: String)"
   ]
  },
  {
   "cell_type": "code",
   "execution_count": null,
   "id": "c318f286-2359-429e-a71b-09ee7a021a50",
   "metadata": {},
   "outputs": [],
   "source": [
    "object DataProvider {\n",
    "\n",
    "    private val firstNames = listOf(\n",
    "        \"Adam\", \"Ewa\", \"Jan\", \"Anna\", \"Piotr\", \"Maria\", \"Tomasz\", \"Małgorzata\", \"Krzysztof\", \"Alicja\",\n",
    "        \"Andrzej\", \"Joanna\", \"Michał\", \"Barbara\", \"Kamil\", \"Magdalena\", \"Robert\", \"Monika\", \"Mateusz\", \"Natalia\"\n",
    "    )\n",
    "\n",
    "    private val lastNames = listOf(\n",
    "        \"Nowak\", \"Kowalski\", \"Wiśniewski\", \"Wójcik\", \"Kowalczyk\", \"Kamiński\", \"Lewandowski\", \"Zieliński\", \"Szymański\",\n",
    "        \"Woźniak\", \"Dąbrowski\", \"Kozłowski\", \"Jankowski\", \"Mazur\", \"Kwiatkowski\", \"Krawczyk\", \"Piotrowski\", \"Grabowski\",\n",
    "        \"Nowakowski\", \"Pawłowski\"\n",
    "    )\n",
    "\n",
    "    val users = (0..40).map { User(firstNames.random(), lastNames.random()) }\n",
    "}"
   ]
  },
  {
   "cell_type": "markdown",
   "id": "4f72e881-6467-4611-ab9c-4fd8f31c44c7",
   "metadata": {},
   "source": [
    "Dodajmy repozytorium, jest to zwykła klasa."
   ]
  },
  {
   "cell_type": "code",
   "execution_count": null,
   "id": "a288ed86-9af1-48d4-8099-8602a2c2ec8a",
   "metadata": {},
   "outputs": [],
   "source": [
    "class UserRepository {\n",
    "    suspend fun getUsers(): List<User> {\n",
    "        delay(700L)\n",
    "        return DataProvider.users\n",
    "    }\n",
    "}"
   ]
  },
  {
   "cell_type": "markdown",
   "id": "09b36576-2262-4284-bcf8-7f31eba3f7e8",
   "metadata": {},
   "source": [
    "Ten kod reprezentuje klasę o nazwie `UserRepository`, która jest odpowiedzialna za dostarczanie listy użytkowników (`User`) z źródła danych.\n",
    "\n",
    "- `suspend fun getUsers(): List<User> { ... }` - Funkcja zwracająca listę użytkowników. Powodem oznaczenia tej funkcji jako `suspend` jest wykorzystanie funkcji `delay()` w celu symulacji opóźnienia.\n",
    "- `delay(700L)` Powoduje wstrzymanie wykonywania kodu przez określony czas (700 milisekund)."
   ]
  },
  {
   "cell_type": "markdown",
   "id": "39a5f719-429d-48a3-92e4-4a71c84118b8",
   "metadata": {},
   "source": [
    "W następnym kroku dodajmy `ViewModel`"
   ]
  },
  {
   "cell_type": "code",
   "execution_count": null,
   "id": "fac88d13-5211-4598-8867-479d6d59bf12",
   "metadata": {},
   "outputs": [],
   "source": [
    "class UserViewModel : ViewModel() {\n",
    "\n",
    "    private val userRepository = UserRepository()\n",
    "\n",
    "    private val _usersList = MutableStateFlow<List<User>>(emptyList())\n",
    "    val usersList: StateFlow<List<User>> get() = _usersList\n",
    "\n",
    "    init {\n",
    "        loadUsers()\n",
    "    }\n",
    "\n",
    "    private fun loadUsers() {\n",
    "        viewModelScope.launch {\n",
    "            _usersList.value = userRepository.getUsers()\n",
    "        }\n",
    "    }\n",
    "}"
   ]
  },
  {
   "cell_type": "markdown",
   "id": "695eee25-1ae1-47c9-8b6f-f4e864239029",
   "metadata": {},
   "source": [
    "`UserViewModel` służy jako warstwa pośrednicząca między ui a repozytorium. Po utworzeniu obiektu, inicjalizuje się funkcję `loadUsers()`, która asynchronicznie pobiera listę użytkowników z repozytorium i przechowuje je w `_usersList`."
   ]
  },
  {
   "cell_type": "markdown",
   "id": "d9410527-70a6-48e0-9474-0684eb2a9908",
   "metadata": {},
   "source": [
    "- `init { ... }` - Blok inicjalizacyjny, który zostanie wywołany podczas tworzenia obiektu `UserViewModel`. W bloku inicjalizacyjnym wywoływana jest funkcja `loadUsers()`, która ma za zadanie załadować listę użytkowników z repozytorium i umieścić je w `_usersList`.\n",
    "- `viewModelScope.launch { ... }` - `viewModelScope` jest dostarczany przez `ViewModel` i automatycznie zarządza cyklem życia Coroutine w zależności od cyklu życia `ViewModel`. `userRepository.getUsers()` wewnątrz bloku `launch` asynchronicznie pobiera listę użytkowników."
   ]
  },
  {
   "cell_type": "markdown",
   "id": "09be5310-6c81-45a7-9d37-0c241b45c9d2",
   "metadata": {},
   "source": [
    "Utwórzmy `@Composable` renderujący ekran naszej aplikacji."
   ]
  },
  {
   "cell_type": "code",
   "execution_count": null,
   "id": "850656a8-46d4-495c-9d4a-e17bc470f819",
   "metadata": {},
   "outputs": [],
   "source": [
    "@Composable\n",
    "fun MainScreen() {\n",
    "\n",
    "    val viewModel: UserViewModel = viewModel()\n",
    "    val users by viewModel.usersList.collectAsStateWithLifecycle()\n",
    "\n",
    "    LazyColumn() {\n",
    "        items(users.size) {\n",
    "            Text(\n",
    "                text = \"${users[it].firstName} ${users[it].lastName}\",\n",
    "                fontSize = 32.sp,\n",
    "                textAlign = TextAlign.Center,\n",
    "                modifier = Modifier\n",
    "                    .fillMaxWidth()\n",
    "                    .padding(2.dp)\n",
    "            )\n",
    "        }\n",
    "    }\n",
    "}"
   ]
  },
  {
   "cell_type": "markdown",
   "id": "936d17eb-869c-4958-8ca0-8c13ce0d3bb0",
   "metadata": {},
   "source": [
    "Na koniec wywołajmy funkcję w głównej aktywności"
   ]
  },
  {
   "cell_type": "code",
   "execution_count": null,
   "id": "45c8700c-09d6-4bc7-b486-1571b65d81a4",
   "metadata": {},
   "outputs": [],
   "source": [
    "class MainActivity : ComponentActivity() {\n",
    "    override fun onCreate(savedInstanceState: Bundle?) {\n",
    "        super.onCreate(savedInstanceState)\n",
    "        setContent {\n",
    "            RepositoryBasicsComposeTheme {\n",
    "                // A surface container using the 'background' color from the theme\n",
    "                Surface(\n",
    "                    modifier = Modifier.fillMaxSize(),\n",
    "                    color = MaterialTheme.colorScheme.background\n",
    "                ) {\n",
    "                    MainScreen()\n",
    "                }\n",
    "            }\n",
    "        }\n",
    "    }\n",
    "}"
   ]
  },
  {
   "cell_type": "markdown",
   "id": "15e4d71d-2081-4925-8a94-7511918f9b89",
   "metadata": {},
   "source": [
    "Możemy przetestować aplikację"
   ]
  },
  {
   "cell_type": "markdown",
   "id": "6f2917a0-4f30-4c83-b780-4815664d2010",
   "metadata": {},
   "source": [
    "<img src=\"https://media2.giphy.com/media/v1.Y2lkPTc5MGI3NjExeWR3YThvcTgxcDVhbzl2MzFja2hmcG9mMmc0d2s1aXpicDA5eHlsaSZlcD12MV9pbnRlcm5hbF9naWZfYnlfaWQmY3Q9Zw/b2E5YdNOMy3IC3fVU8/giphy.gif\" width=\"200\" />"
   ]
  },
  {
   "cell_type": "code",
   "execution_count": null,
   "id": "b051c2b8-e9e2-4557-87e5-286b6ae4bdbe",
   "metadata": {},
   "outputs": [],
   "source": []
  }
 ],
 "metadata": {
  "kernelspec": {
   "display_name": "Kotlin",
   "language": "kotlin",
   "name": "kotlin"
  },
  "language_info": {
   "codemirror_mode": "text/x-kotlin",
   "file_extension": ".kt",
   "mimetype": "text/x-kotlin",
   "name": "kotlin",
   "nbconvert_exporter": "",
   "pygments_lexer": "kotlin",
   "version": "1.8.0-RC"
  }
 },
 "nbformat": 4,
 "nbformat_minor": 5
}
