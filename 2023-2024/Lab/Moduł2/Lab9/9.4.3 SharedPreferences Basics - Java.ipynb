{
 "cells": [
  {
   "cell_type": "markdown",
   "id": "4c17d8d5-3e12-4ff3-9108-2c20e03cef57",
   "metadata": {},
   "source": [
    "# SharedPreferences - Podstawy"
   ]
  },
  {
   "cell_type": "markdown",
   "id": "573f742c-87a8-49c1-a7a1-8cf91b6aaa25",
   "metadata": {},
   "source": [
    "W tej aplikacji przyjrzymy się zastosowaniu **SharedPreferences** w celu zapisania niewielkich ilości danych w pliku."
   ]
  },
  {
   "cell_type": "markdown",
   "id": "b552c19d-4240-4b76-8cf9-3fe22ef2aecb",
   "metadata": {},
   "source": [
    "<img src=\"https://media0.giphy.com/media/v1.Y2lkPTc5MGI3NjExMHZ0Mmt6cjJwYjVrYzE0NWdpbHNqYXM5ZjVvNzc1bmhqZm1zY2F5NSZlcD12MV9pbnRlcm5hbF9naWZfYnlfaWQmY3Q9Zw/kd4nprniMKNt9fBZIv/giphy.gif\" width=\"200\" />"
   ]
  },
  {
   "cell_type": "markdown",
   "id": "5b88b029-44a6-42e5-ae85-2a21653d01d4",
   "metadata": {},
   "source": [
    "`SharedPreferences` to mechanizm używany do przechowywania danych w postaci *klucz-wartość*. Służy do zachowywania małych ilości danych, takich jak ustawienia aplikacji, preferencje użytkownika czy stan sesji. Jest często używany do przechowywania informacji, które nie wymagają zbyt skomplikowanego modelu danych ani relacyjnej bazy danych. Przechowuje dane w plikach `XML`, które są przechowywane wewnątrz katalogu aplikacji.\n",
    "`SharedPreferences` a `DataStore`:\n",
    "- Typ danych i bezpieczeństwo:\n",
    "    - `SharedPreferences` przechowuje dane w plikach `XML` i obsługuje tylko typy prostych danych, takie jak liczby całkowite, ciągi znaków, wartości boolean itp. Jednak nie oferuje wbudowanej obsługi bardziej złożonych struktur danych.\n",
    "    - `DataStore` obsługuje niestandardowe typy danych i zapewnia automatyczną obsługę konwersji do i z formatu `protobuf`.\n",
    "- Wsparcie dla asynchroniczności:\n",
    "    - `SharedPreferences` oferuje operacje synchroniczne, co może wpływać na wydajność aplikacji, szczególnie gdy operacje odczytu/zapisu danych są wykonywane w wątku głównym.\n",
    "    - `DataStore` został zaprojektowany z myślą o asynchroniczności i wspiera Coroutines, dzięki czemu operacje odczytu/zapisu danych mogą być wykonywane asynchronicznie, co poprawia wydajność i responsywność aplikacji.\n",
    "- Bezpieczeństwo wątkowe:\n",
    "    - `SharedPreferences` nie jest wątkowo bezpieczne, co oznacza, że operacje odczytu/zapisu mogą powodować błędy synchronizacji, jeśli są wykonywane równocześnie przez wiele wątków.\n",
    "    - `DataStore` posiada wbudowane mechanizmy bezpieczeństwa ze względu na wielowątkowość. Można go bezpiecznie używać w aplikacjach wielowątkowych bez konieczności dodatkowej synchronizacji.\n",
    "- Obsługa zmian danych:\n",
    "    - `SharedPreferences` nie oferuje wbudowanej obsługi reagowania na zmiany danych. Możemy jedynie odczytać aktualny stan.\n",
    "    - `DataStore` umożliwia korzystanie z obiektu `Flow` lub `LiveData`, co pozwala na automatyczną obsługę zmian danych. Możemy zarejestrować obserwatora, który będzie otrzymywał powiadomienia o zmianach danych, co ułatwia reagowanie na aktualizacje danych w czasie rzeczywistym.\n",
    "    \n",
    "Aplikacja będzie kopią aplikacji z poprzedniego przykładu, dodajmy odpowiednie zależności\n",
    "```kotlin\n",
    "    // ViewModel\n",
    "    implementation (\"androidx.lifecycle:lifecycle-viewmodel:2.5.1\")\n",
    "    // LiveData\n",
    "    implementation (\"androidx.lifecycle:lifecycle-livedata:2.5.1\")\n",
    "```\n",
    "\n",
    "Ponownie wykorzystamy *dummydata* do wygenerowania nazw użytkowników."
   ]
  },
  {
   "cell_type": "code",
   "execution_count": null,
   "id": "1887fb43-6f57-4583-887c-35102db5c3be",
   "metadata": {},
   "outputs": [],
   "source": [
    "public final class DataProvider {\n",
    "\n",
    "    private DataProvider(){}\n",
    "\n",
    "    private static final List<String> usernames = new ArrayList<>();\n",
    "\n",
    "    static {\n",
    "        usernames.add(\"CoolDude123\");\n",
    "        usernames.add(\"SuperStar\");\n",
    "        usernames.add(\"GamerGirl99\");\n",
    "        usernames.add(\"TechMaster\");\n",
    "        usernames.add(\"MusicLover\");\n",
    "        usernames.add(\"FitnessFreak\");\n",
    "        usernames.add(\"Traveler_21\");\n",
    "        usernames.add(\"FoodieQueen\");\n",
    "        usernames.add(\"NatureLover\");\n",
    "        usernames.add(\"Fashionista\");\n",
    "        usernames.add(\"Bookworm42\");\n",
    "        usernames.add(\"MovieBuff\");\n",
    "        usernames.add(\"AdventureSeeker\");\n",
    "        usernames.add(\"PetLover_87\");\n",
    "        usernames.add(\"SportsFanatic\");\n",
    "        usernames.add(\"ArtisticSoul\");\n",
    "        usernames.add(\"StarGazer\");\n",
    "        usernames.add(\"YogaEnthusiast\");\n",
    "        usernames.add(\"PhotographyPro\");\n",
    "        usernames.add(\"DreamChaser\");\n",
    "        usernames.add(\"BeachBum123\");\n",
    "        usernames.add(\"CoffeeAddict\");\n",
    "        usernames.add(\"GameChanger\");\n",
    "        usernames.add(\"LaughOutLoud\");\n",
    "        usernames.add(\"MindfulSoul\");\n",
    "        usernames.add(\"HappyGoLucky\");\n",
    "        usernames.add(\"TechGeek1\");\n",
    "        usernames.add(\"FoodExplorer\");\n",
    "        usernames.add(\"FitnessJunkie\");\n",
    "    }\n",
    "\n",
    "    public static String getUsername() {\n",
    "        Random random = new Random();\n",
    "        int index = random.nextInt(usernames.size());\n",
    "        return usernames.get(index);\n",
    "    }\n",
    "}"
   ]
  },
  {
   "cell_type": "markdown",
   "id": "8c095a9e-b58a-405e-83c7-8c5ed6f3d2a7",
   "metadata": {},
   "source": [
    "Następnie dodajmy repozytorium, podobnie jak w poprzednich przypadkach, konieczne jest wykorzystanie kontekstu."
   ]
  },
  {
   "cell_type": "code",
   "execution_count": null,
   "id": "8f0647b8-be11-4402-9ada-92658b62662c",
   "metadata": {},
   "outputs": [],
   "source": [
    "public class UserRepository {\n",
    "\n",
    "    private final SharedPreferences sharedPref;\n",
    "    private final MutableLiveData<String> _username = new MutableLiveData<>();\n",
    "\n",
    "    public UserRepository(Application application) {\n",
    "        sharedPref = application.getSharedPreferences(\"fileName\", Context.MODE_PRIVATE);\n",
    "        _username.setValue(sharedPref.getString(\"username\", \"\"));\n",
    "    }\n",
    "\n",
    "    public LiveData<String> getUsername() {\n",
    "        return _username;\n",
    "    }\n",
    "\n",
    "    public void add(String newUsername) {\n",
    "        SharedPreferences.Editor edit = sharedPref.edit();\n",
    "        edit.putString(\"username\", newUsername).apply();\n",
    "        _username.setValue(newUsername);\n",
    "    }\n",
    "\n",
    "    public void clear() {\n",
    "        SharedPreferences.Editor edit = sharedPref.edit();\n",
    "        edit.putString(\"username\", \"\").apply();\n",
    "        _username.setValue(\"\");\n",
    "    }\n",
    "}"
   ]
  },
  {
   "cell_type": "markdown",
   "id": "49ae4c33-461a-45e6-a4f6-70d1c6ebaf73",
   "metadata": {},
   "source": [
    "- `sharedPref = application.getSharedPreferences(\"fileName\", Context.MODE_PRIVATE)` - Wykorzystuje `getSharedPreferences` na obiekcie `Application`, aby uzyskać dostęp do `SharedPreferences` o nazwie `fileName`. Argument `MODE_PRIVATE` wskazuje, że `SharedPreferences` są prywatne dla tej aplikacji i nie są dostępne dla innych aplikacji. Inne tryby:\n",
    "    - `MODE_APPEND` - pozwala dopisywać kolejne elementy bez nadpisywania\n",
    "    - `MODE_PRIVATE` - najczęściej wykorzystywany, dostęp do pliku tylko z poziomu aplikacji\n",
    "    - `MODE_WORLD_READABLE` - zezwala innym aplikacjom na odczyt\n",
    "    - `MODE_WORLD_WRITABVLE` - zezwala innym aplikacjom na zapis\n",
    "- `_username.setValue(sharedPref.getString(\"username\", \"\"))` - Jeśli wartość `username` odczytana jest jako `null`, używamy `\"\"`, aby ustawić domyślną wartość na pusty ciąg znaków.\n",
    "- `SharedPreferences.Editor edit = sharedPref.edit()` - Tworzy nowy obiekt `SharedPreferences.Editor`, który jest używany do edycji `SharedPreferences`. Dzięki temu edytorowi możemy dokonać zmian, takich jak dodawanie, usuwanie lub aktualizowanie danych.\n",
    "- `edit.putString(\"username\", newUsername).apply()` 0 W tej linii używamy metody `putString()` na obiekcie edytora, aby dodać nową wartość do `SharedPreferences`. Metoda `putString()` przyjmuje dwa argumenty: klucz (w tym przypadku \"username\") i wartość (nowa nazwa użytkownika). Wartość zostaje zapisana pod podanym kluczem. Następnie wywołujemy `apply()`, aby zatwierdzić te zmiany."
   ]
  },
  {
   "cell_type": "markdown",
   "id": "277897ca-5e65-410d-abc6-5269b765b6c2",
   "metadata": {},
   "source": [
    "Pozostałe części aplikacji nie różnią się od poprzedniego przykładu"
   ]
  },
  {
   "cell_type": "code",
   "execution_count": null,
   "id": "46dec841-fe28-4ec7-8dca-1b9e9db78aa5",
   "metadata": {},
   "outputs": [],
   "source": [
    "class UserViewModelFactory(private val application: Application) :\n",
    "    ViewModelProvider.Factory {\n",
    "    override fun <T : ViewModel> create(modelClass: Class<T>): T {\n",
    "        return UserViewModel(application) as T\n",
    "    }\n",
    "}"
   ]
  },
  {
   "cell_type": "code",
   "execution_count": null,
   "id": "ca39a74c-8b26-4e07-8718-5c04cc8dfa93",
   "metadata": {},
   "outputs": [],
   "source": [
    "public class UserViewModel extends AndroidViewModel {\n",
    "    private final UserRepository repository = new UserRepository(getApplication());\n",
    "\n",
    "    public UserViewModel(@NonNull Application application) {\n",
    "        super(application);\n",
    "    }\n",
    "\n",
    "    public LiveData<String> getUsername() {\n",
    "        return repository.getUsername();\n",
    "    }\n",
    "\n",
    "    public void clearUsers() {\n",
    "        repository.clear();\n",
    "    }\n",
    "\n",
    "    public void addUser(String username) {\n",
    "        repository.add(username);\n",
    "    }\n",
    "}\n"
   ]
  },
  {
   "cell_type": "code",
   "execution_count": null,
   "id": "fd517bbc-ec4a-4494-aa36-634c2a9ed830",
   "metadata": {},
   "outputs": [],
   "source": [
    "public class UserFragment extends Fragment {\n",
    "\n",
    "    @Override\n",
    "    public View onCreateView(@NonNull LayoutInflater inflater, ViewGroup container,\n",
    "                             Bundle savedInstanceState) {\n",
    "        final FragmentUserBinding binding = FragmentUserBinding.inflate(inflater);\n",
    "\n",
    "        UserViewModel viewModel =new ViewModelProvider(this).get(UserViewModel.class);\n",
    "        viewModel.getUsername().observe(requireActivity(), binding.textView::setText);\n",
    "\n",
    "        binding.addButton.setOnClickListener(v -> viewModel.addUser(DataProvider.getUsername()));\n",
    "\n",
    "        binding.clearButton.setOnClickListener(v -> viewModel.clearUsers());\n",
    "\n",
    "        return binding.getRoot();\n",
    "    }\n",
    "}"
   ]
  },
  {
   "cell_type": "markdown",
   "id": "4961c101-402f-42c9-8446-80492a31bfb6",
   "metadata": {},
   "source": [
    "Możemy przetestować aplikację."
   ]
  },
  {
   "cell_type": "markdown",
   "id": "ab9ccb21-83d1-433b-97c0-f6c0235c91bc",
   "metadata": {},
   "source": [
    "<img src=\"https://media0.giphy.com/media/v1.Y2lkPTc5MGI3NjExMHZ0Mmt6cjJwYjVrYzE0NWdpbHNqYXM5ZjVvNzc1bmhqZm1zY2F5NSZlcD12MV9pbnRlcm5hbF9naWZfYnlfaWQmY3Q9Zw/kd4nprniMKNt9fBZIv/giphy.gif\" width=\"200\" />"
   ]
  }
 ],
 "metadata": {
  "kernelspec": {
   "display_name": "Kotlin",
   "language": "kotlin",
   "name": "kotlin"
  },
  "language_info": {
   "codemirror_mode": "text/x-kotlin",
   "file_extension": ".kt",
   "mimetype": "text/x-kotlin",
   "name": "kotlin",
   "nbconvert_exporter": "",
   "pygments_lexer": "kotlin",
   "version": "1.8.0-RC"
  }
 },
 "nbformat": 4,
 "nbformat_minor": 5
}
