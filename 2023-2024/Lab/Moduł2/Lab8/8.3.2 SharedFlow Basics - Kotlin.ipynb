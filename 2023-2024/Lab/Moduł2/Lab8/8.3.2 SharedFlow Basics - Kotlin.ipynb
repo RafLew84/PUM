{
 "cells": [
  {
   "cell_type": "markdown",
   "id": "d4a7bbbc-ee69-4df7-9056-aba077aee149",
   "metadata": {},
   "source": [
    "# SharedFlow - Podstawy"
   ]
  },
  {
   "cell_type": "markdown",
   "id": "c2f62183-9699-4546-b4a5-0550fdb33224",
   "metadata": {},
   "source": [
    "W tej aplikacji przyjrzymy się zastosowaniu `SharedFlow`."
   ]
  },
  {
   "cell_type": "markdown",
   "id": "7731e4be-0e83-4509-b2d3-379df1af3c73",
   "metadata": {},
   "source": [
    "<img src=\"https://media4.giphy.com/media/v1.Y2lkPTc5MGI3NjExNTNidmt4dWd6MDV1djVqb2ZlNWhsOXdya2R6YXYwdXNtcG5ia3pqaCZlcD12MV9pbnRlcm5hbF9naWZfYnlfaWQmY3Q9Zw/k80AoHasXQujHAFxTW/giphy.gif\" width=\"200\" />"
   ]
  },
  {
   "cell_type": "markdown",
   "id": "7934ed52-66e0-43db-b01e-96b4f91c01fd",
   "metadata": {},
   "source": [
    "`SharedFlow` jest to specjalny rodzaj strumienia, który można subskrybować przez wiele źródeł, a każdy subskrybent otrzymuje te same emitowane wartości.\n",
    "\n",
    "Główne cechy `SharedFlow`:\n",
    "- Współdzielone wartości: Umożliwia emitowanie wartości do wielu obserwatorów. Wszyscy subskrybenci otrzymują te same emitowane wartości, dzięki czemu można synchronizować dane między różnymi komponentami w aplikacji.\n",
    "- Zachowanie bufora: Może przechowywać określoną ilość ostatnich emitowanych wartości, co pozwala subskrybentom otrzymać te wartości po dołączeniu do strumienia. Można skonfigurować rozmiar bufora przy tworzeniu SharedFlow.\n",
    "\n",
    "`SharedFlow` jest używane w sytuacjach, gdzie dane muszą być dostarczane do wielu komponentów w aplikacji, na przykład w przypadku synchronizacji stanu między różnymi widokami lub komponentami."
   ]
  },
  {
   "cell_type": "markdown",
   "id": "f02748bf-b63e-49fa-a027-e95081d51f77",
   "metadata": {},
   "source": [
    "różnice między `StateFlow` a `SharedFlow` :\n",
    "- Współdzieloność: `StateFlow` reprezentuje strumień, który jest dostępny tylko do odczytu przez jednego subskrybenta. Oznacza to, że jedna instancja StateFlow może mieć tylko jednego aktywnego subskrybenta. Z kolei `SharedFlow` umożliwia wielokrotne subskrybowanie przez różne źródła. Wszyscy subskrybenci otrzymują te same emitowane wartości.\n",
    "- Zachowanie bufora: `StateFlow` automatycznie przechowuje bieżącą wartość stanu, dzięki czemu nowi subskrybenci otrzymują aktualną wartość od razu po dołączeniu do strumienia. SharedFlow może być skonfigurowane, aby przechowywać określoną ilość ostatnich emitowanych wartości w buforze, które będą dostępne dla nowych subskrybentów po dołączeniu.\n",
    "- Mutowalność: Oba strumienie umożliwiają mutowanie wartości, ale z różnymi mechanizmami. `StateFlow` używa `MutableStateFlow` jako swojego źródła danych, co umożliwia bezpieczne mutowanie wartości. `SharedFlow` natomiast nie dostarcza bezpośredniego mechanizmu do bezpiecznego mutowania wartości, nowe wartości są emitowane za pomocą metody `emit()` wewnątrz korutyn.\n",
    "\n",
    "Podsumowując, główna różnica między `StateFlow` a `SharedFlow` polega na sposobie współdzielenia danych i zachowaniu bufora."
   ]
  },
  {
   "cell_type": "markdown",
   "id": "9f2e53cf-b420-4810-83fc-ee0e41a2b5e5",
   "metadata": {},
   "source": [
    "Nasza aplikacja będzie prostym licznikiem, w którym po upłynięciu określonego czasu zmienimy wartość `SharedFlow` i zwiększymy stan licznika."
   ]
  },
  {
   "cell_type": "markdown",
   "id": "deb977a3-db0c-4d80-8759-c9ef2f72437f",
   "metadata": {},
   "source": [
    "Rozpocznijmy od zaimplementowania `NumberViewModel`"
   ]
  },
  {
   "cell_type": "code",
   "execution_count": null,
   "id": "cf07447b-f355-4bf7-b663-5c2a879f49f2",
   "metadata": {},
   "outputs": [],
   "source": [
    "class NumberViewModel : ViewModel() {\n",
    "\n",
    "    private var number = 0\n",
    "    private val _sharedFlow = MutableSharedFlow<Int>(1)\n",
    "    val sharedFlow: SharedFlow<Int> = _sharedFlow\n",
    "\n",
    "    init {\n",
    "        viewModelScope.launch {\n",
    "            while (true) {\n",
    "                _sharedFlow.emit(number++)\n",
    "                delay(500L)\n",
    "            }\n",
    "        }\n",
    "    }\n",
    "}"
   ]
  },
  {
   "cell_type": "markdown",
   "id": "51875a71-d49b-4063-91c5-88e827ad1339",
   "metadata": {},
   "source": [
    "- `private var number = 0` - Prywatne pole number, które przechowuje aktualną liczbę.\n",
    "- `private val _sharedFlow = MutableSharedFlow<Int>(1)` - Jest używany do emitowania wartości typu `Int`. W konstruktorze `MutableSharedFlow` podajemy parametr, który określa pojemność bufora. Oznacza to, że `_sharedFlow` będzie przechowywać tylko jedną, ostatnią wartość do odczytu dla nowych subskrybentów.\n",
    "- `val sharedFlow: SharedFlow<Int> = _sharedFlow` - Jest udostępnione do subskrybowania - pole tylko do odczytu.\n",
    "- `viewModelScope.launch { ... }` - `viewModelScope` jest zasięgiem cyklu życia `ViewModel` i zarządza automatycznie odwołaniem wszystkich aktywnych korutyn w momencie zakończenia `ViewModel`.\n",
    "- `_sharedFlow.emit(number++)` - Emitowanie wartości `number` do `_sharedFlow`."
   ]
  },
  {
   "cell_type": "markdown",
   "id": "24884e88-4a0b-414f-a808-b53e5f00131c",
   "metadata": {},
   "source": [
    "Zaimplementujmy ui, oraz dodajmy go jako subskrybenta `sharedFlow`"
   ]
  },
  {
   "cell_type": "code",
   "execution_count": null,
   "id": "d8874ef5-0a56-4c08-9629-5eea680006f7",
   "metadata": {},
   "outputs": [],
   "source": [
    "override fun onCreateView(\n",
    "    inflater: LayoutInflater, container: ViewGroup?,\n",
    "    savedInstanceState: Bundle?\n",
    "): View {\n",
    "    binding = FragmentNumberBinding.inflate(inflater)\n",
    "\n",
    "    viewLifecycleOwner.lifecycleScope.launch {\n",
    "        viewLifecycleOwner.repeatOnLifecycle(Lifecycle.State.STARTED){\n",
    "            viewModel.sharedFlow.collect{ number ->\n",
    "                binding.numberText.text = number.toString()\n",
    "            }\n",
    "        }\n",
    "    }\n",
    "\n",
    "    return binding.root\n",
    "}"
   ]
  },
  {
   "cell_type": "markdown",
   "id": "903091e3-9f65-4264-8176-61be305a235b",
   "metadata": {},
   "source": [
    "- `viewLifecycleOwner.lifecycleScope.launch { ... }` - Tworzy korutynę w zasięgu życia właściciela widoku. Ta korutyna jest automatycznie anulowana, gdy widok jest zniszczony, co pozwala uniknąć wycieków pamięci.\n",
    "- `viewLifecycleOwner.repeatOnLifecycle(Lifecycle.State.STARTED) { ... }` - Pozwala na automatyczne powtarzanie bloku kodu. Blok kodu wewnątrz zostanie uruchomiony, gdy widok jest w stanie `STARTED`, a zostanie automatycznie wstrzymany, gdy widok osiągnie stan `STOPPED` lub `DESTROYED`.\n",
    "- `viewModel.sharedFlow.collect { number -> ... }` - Subskrybuje wartości emitowane przez `sharedFlow`. Za każdym razem, gdy pojawi się nowa wartość, number zostanie zaktualizowane na tę wartość."
   ]
  },
  {
   "cell_type": "markdown",
   "id": "40fb25cd-4390-4078-b66e-2d0552e0c0d7",
   "metadata": {},
   "source": [
    "Możemy przetestować aplikację"
   ]
  },
  {
   "cell_type": "markdown",
   "id": "f89b9e9e-9bbb-4846-9706-c82447f976bd",
   "metadata": {},
   "source": [
    "<img src=\"https://media4.giphy.com/media/v1.Y2lkPTc5MGI3NjExNTNidmt4dWd6MDV1djVqb2ZlNWhsOXdya2R6YXYwdXNtcG5ia3pqaCZlcD12MV9pbnRlcm5hbF9naWZfYnlfaWQmY3Q9Zw/k80AoHasXQujHAFxTW/giphy.gif\" width=\"200\" />"
   ]
  }
 ],
 "metadata": {
  "kernelspec": {
   "display_name": "Kotlin",
   "language": "kotlin",
   "name": "kotlin"
  },
  "language_info": {
   "codemirror_mode": "text/x-kotlin",
   "file_extension": ".kt",
   "mimetype": "text/x-kotlin",
   "name": "kotlin",
   "nbconvert_exporter": "",
   "pygments_lexer": "kotlin",
   "version": "1.6.20-dev-6372"
  }
 },
 "nbformat": 4,
 "nbformat_minor": 5
}
