{
 "cells": [
  {
   "cell_type": "markdown",
   "id": "b9fe56d4-d0ca-452a-bfab-8630d522ee15",
   "metadata": {},
   "source": [
    "# FlavorFinder"
   ]
  },
  {
   "cell_type": "markdown",
   "id": "7e14ad23-5e0a-47ea-91a1-a35936a2c63f",
   "metadata": {},
   "source": [
    "Aplikacja pozwala przeglądać dostępne dania z darmowego api [mealAPI](https://www.themealdb.com), oraz dodać ulubione do lokalnej bazy danych.\n",
    "\n",
    "Aplikacja wykorzystuje bazę danych `ROOM` do przechowywania ulubionych dań, oraz bibliotekę `Retrofit` do pobrania danych z zewnętrznego serwera."
   ]
  },
  {
   "cell_type": "markdown",
   "id": "444af31f-9d83-4b81-b257-0fe6cec3f5f7",
   "metadata": {},
   "source": [
    "<table><tr><td><img src=\"https://media0.giphy.com/media/v1.Y2lkPTc5MGI3NjExZzlweXR6dzI1b3ZpNnk4MXo3cTJ6Yjd1NWx3ZG85ZGNzNGkyOHZobCZlcD12MV9pbnRlcm5hbF9naWZfYnlfaWQmY3Q9Zw/NqBQ91k7zOVh5d39NK/giphy.gif\" width=\"200\" /></td><td><img src=\"https://media3.giphy.com/media/v1.Y2lkPTc5MGI3NjExY29iNXd2Z2hiYnhldWtpeHVpeTR5YmYwM3ltZWh3bHlyYmkwcTNneCZlcD12MV9pbnRlcm5hbF9naWZfYnlfaWQmY3Q9Zw/WiFtop3Zg3tdTUGFnh/giphy.gif\" width=\"200\" /></td><td><img src=\"https://media1.giphy.com/media/v1.Y2lkPTc5MGI3NjExOGs3ZTZmMnpsb21pdTAwbWphbGo1MmxoZGFtNmUwaGlzdmttcndwcCZlcD12MV9pbnRlcm5hbF9naWZfYnlfaWQmY3Q9Zw/Van1cMPDSfS9haqhIL/giphy.gif\" width=\"200\" /></td></tr></table>"
   ]
  },
  {
   "cell_type": "markdown",
   "id": "45cec16f-8754-4177-8495-de41bc07b120",
   "metadata": {},
   "source": [
    "- Aplikacja zaimplementowana zgodnie ze wzoccem MVVM wraz z repozytorium\n",
    "- Repozytorium zawiera metody dostępowe do lokalnej bazy oraz zewnętrznego api\n",
    "- biblioteka `Retrofit` została wykorzystana do połączenia z zewnętrznym serwerem\n",
    "- biblioteka `Coil` została wykorzystana do obsługi ładowania grafik\n",
    "- `StateFlow` został wykorzystany do łatwego zarządzania bieżącym stanem interfejsu użytkownika\n",
    "- Baza danych `Room` została wykorzystana do przechowywania dań\n",
    "- Aplikacja zawiera trzy ekrany \n",
    "    - na głównym ekranie wyświetla listę dań pobranych z serwera\n",
    "    - ekran *ulubione* pozwala przeglądać dania zapisane w lokalnej bazy danych\n",
    "    - trzeci ekran umożliwia uzyskanie większej ilości informacji o wybranym daniu\n",
    "- Aplikacja wykorzystuje `Jetpack Navigation` w celu utworzenia nawigacji w aplikacji\n",
    "- `ViewModel` został umieszczony w aktywności głównej, w celu uzyskania współdzielenia jego instancji przez wszystkie ekrany\n",
    "\n",
    "\n",
    "Dodajmy wymagane zależności do projektu\n",
    "\n",
    "#### **UWAGA** \n",
    "w tym projekcie zastosowano plugin `ksp` zamiast `kapt`\n",
    "\n",
    "```kotlin\n",
    "buildscript { // przed blokiem plugins\n",
    "    repositories {\n",
    "        google()\n",
    "    }\n",
    "    dependencies {\n",
    "        classpath (\"androidx.navigation:navigation-safe-args-gradle-plugin:2.5.3\")\n",
    "    }\n",
    "}\n",
    "plugins {\n",
    "    id(\"com.android.application\") version \"8.1.1\" apply false\n",
    "    id(\"org.jetbrains.kotlin.android\") version \"1.9.0\" apply false\n",
    "    id(\"com.google.devtools.ksp\") version \"1.9.0-1.0.13\" apply false\n",
    "}\n",
    "\n",
    "-----\n",
    "    \n",
    "plugins {\n",
    "    id(\"com.android.application\")\n",
    "    id(\"org.jetbrains.kotlin.android\")\n",
    "    id (\"androidx.navigation.safeargs.kotlin\")\n",
    "    id(\"com.google.devtools.ksp\")\n",
    "}\n",
    "\n",
    "dependencies {\n",
    "\n",
    "    // ROOM\n",
    "    implementation(\"androidx.room:room-ktx:2.5.2\")\n",
    "    annotationProcessor(\"androidx.room:room-compiler:2.5.2\")\n",
    "    implementation(\"androidx.room:room-ktx:2.5.2\")\n",
    "    ksp(\"androidx.room:room-compiler:2.5.0\")\n",
    "\n",
    "    // ViewModel\n",
    "    implementation (\"androidx.lifecycle:lifecycle-viewmodel-ktx:2.6.1\")\n",
    "\n",
    "    // Fragment\n",
    "    implementation (\"androidx.fragment:fragment-ktx:1.6.1\")\n",
    "\n",
    "    // Navigation\n",
    "    implementation (\"androidx.navigation:navigation-fragment:2.5.3\")\n",
    "    implementation (\"androidx.navigation:navigation-ui:2.5.3\")\n",
    "\n",
    "    // Retrofit\n",
    "    implementation (\"com.squareup.retrofit2:retrofit:2.9.0\")\n",
    "    implementation (\"com.google.code.gson:gson:2.9.1\")\n",
    "    implementation (\"com.squareup.retrofit2:converter-gson:2.9.0\")\n",
    "\n",
    "    implementation(\"androidx.cardview:cardview:1.0.0\")\n",
    "\n",
    "    implementation (\"androidx.recyclerview:recyclerview:1.3.1\")\n",
    "\n",
    "    implementation(\"io.coil-kt:coil:2.4.0\")\n",
    "    ...\n",
    "}\n",
    "```\n",
    "\n",
    "dodajmy również odpowiednie upoważnienia do manifestu\n",
    "\n",
    "```xml\n",
    "<uses-permission android:name=\"android.permission.INTERNET\"/>\n",
    "```"
   ]
  },
  {
   "cell_type": "markdown",
   "id": "7e1e9674-1966-4b47-9af3-bfcef553b6b0",
   "metadata": {},
   "source": [
    "Przejrzyjmy dane które wykorzystamy z api. W tej aplikacji pobierzemy tylko polskie dania, korzystając z endpointu https://www.themealdb.com/api/json/v1/1/filter.php?a=Polish. Zobaczmy odpowiedź."
   ]
  },
  {
   "cell_type": "code",
   "execution_count": null,
   "id": "9cf233a2-0853-4e1b-8730-5fdfb9e4b9c9",
   "metadata": {},
   "outputs": [],
   "source": [
    "{\n",
    "   \"meals\":[\n",
    "      {\n",
    "         \"strMeal\":\"Bigos (Hunters Stew)\",\n",
    "         \"strMealThumb\":\"https:\\/\\/www.themealdb.com\\/images\\/media\\/meals\\/md8w601593348504.jpg\",\n",
    "         \"idMeal\":\"53018\"\n",
    "      },\n",
    "      {\n",
    "         \"strMeal\":\"Go\\u0142\\u0105bki (cabbage roll)\",\n",
    "         \"strMealThumb\":\"https:\\/\\/www.themealdb.com\\/images\\/media\\/meals\\/q8sp3j1593349686.jpg\",\n",
    "         \"idMeal\":\"53021\"\n",
    "      },\n",
    "      {\n",
    "         \"strMeal\":\"Paszteciki (Polish Pasties)\",\n",
    "         \"strMealThumb\":\"https:\\/\\/www.themealdb.com\\/images\\/media\\/meals\\/c9a3l31593261890.jpg\",\n",
    "         \"idMeal\":\"53017\"\n",
    "      },\n",
    "      {\n",
    "         \"strMeal\":\"Pierogi (Polish Dumplings)\",\n",
    "         \"strMealThumb\":\"https:\\/\\/www.themealdb.com\\/images\\/media\\/meals\\/45xxr21593348847.jpg\",\n",
    "         \"idMeal\":\"53019\"\n",
    "      },\n",
    "      {\n",
    "         \"strMeal\":\"Polskie Nale\\u015bniki (Polish Pancakes)\",\n",
    "         \"strMealThumb\":\"https:\\/\\/www.themealdb.com\\/images\\/media\\/meals\\/58bkyo1593350017.jpg\",\n",
    "         \"idMeal\":\"53022\"\n",
    "      },\n",
    "      {\n",
    "         \"strMeal\":\"Rogaliki (Polish Croissant Cookies)\",\n",
    "         \"strMealThumb\":\"https:\\/\\/www.themealdb.com\\/images\\/media\\/meals\\/7mxnzz1593350801.jpg\",\n",
    "         \"idMeal\":\"53024\"\n",
    "      },\n",
    "      {\n",
    "         \"strMeal\":\"Ros\\u00f3\\u0142 (Polish Chicken Soup)\",\n",
    "         \"strMealThumb\":\"https:\\/\\/www.themealdb.com\\/images\\/media\\/meals\\/lx1kkj1593349302.jpg\",\n",
    "         \"idMeal\":\"53020\"\n",
    "      },\n",
    "      {\n",
    "         \"strMeal\":\"Sledz w Oleju (Polish Herrings)\",\n",
    "         \"strMealThumb\":\"https:\\/\\/www.themealdb.com\\/images\\/media\\/meals\\/7ttta31593350374.jpg\",\n",
    "         \"idMeal\":\"53023\"\n",
    "      }\n",
    "   ]\n",
    "}"
   ]
  },
  {
   "cell_type": "markdown",
   "id": "6c73cc87-9d9f-4383-ac44-482332a07429",
   "metadata": {},
   "source": [
    "Dostaniemy nazwę, link do zdjęcia oraz identyfikator. Chcemy również dostać więcej informacji o wybranym przez użytkownika daniu, w tym celu wykorzystamy endpoint https://www.themealdb.com/api/json/v1/1/lookup.php?i=52772. Po podaniu identyfikatora otrzymamy następujące dane."
   ]
  },
  {
   "cell_type": "code",
   "execution_count": null,
   "id": "45c42c2b-4902-467c-8e3b-f6b20d124b41",
   "metadata": {},
   "outputs": [],
   "source": [
    "{\n",
    "   \"meals\":[\n",
    "      {\n",
    "         \"idMeal\":\"52772\",\n",
    "         \"strMeal\":\"Teriyaki Chicken Casserole\",\n",
    "         \"strDrinkAlternate\":null,\n",
    "         \"strCategory\":\"Chicken\",\n",
    "         \"strArea\":\"Japanese\",\n",
    "         \"strInstructions\":\"Preheat oven to 350\\u00b0 F. Spray a 9x13-inch baking pan with non-stick spray.\\r\\nCombine soy sauce, ...   \n",
    "         \"strMealThumb\":\"https:\\/\\/www.themealdb.com\\/images\\/media\\/meals\\/wvpsxx1468256321.jpg\",\n",
    "         \"strTags\":\"Meat,Casserole\",\n",
    "         \"strYoutube\":\"https:\\/\\/www.youtube.com\\/watch?v=4aZr5hZXP_s\",\n",
    "         \"strIngredient1\":\"soy sauce\",\n",
    "         \"strIngredient2\":\"water\",\n",
    "         \"strIngredient3\":\"brown sugar\",\n",
    "         \"strIngredient4\":\"ground ginger\",\n",
    "         \"strIngredient5\":\"minced garlic\",\n",
    "         \"strIngredient6\":\"cornstarch\",\n",
    "         \"strIngredient7\":\"chicken breasts\",\n",
    "         \"strIngredient8\":\"stir-fry vegetables\",\n",
    "         \"strIngredient9\":\"brown rice\",\n",
    "         \"strIngredient10\":\"\",\n",
    "         \"strIngredient11\":\"\",\n",
    "         \"strIngredient12\":\"\",\n",
    "         \"strIngredient13\":\"\",\n",
    "         \"strIngredient14\":\"\",\n",
    "         \"strIngredient15\":\"\",\n",
    "         \"strIngredient16\":null,\n",
    "         \"strIngredient17\":null,\n",
    "         \"strIngredient18\":null,\n",
    "         \"strIngredient19\":null,\n",
    "         \"strIngredient20\":null,\n",
    "         \"strMeasure1\":\"3\\/4 cup\",\n",
    "         \"strMeasure2\":\"1\\/2 cup\",\n",
    "         \"strMeasure3\":\"1\\/4 cup\",\n",
    "         \"strMeasure4\":\"1\\/2 teaspoon\",\n",
    "         \"strMeasure5\":\"1\\/2 teaspoon\",\n",
    "         \"strMeasure6\":\"4 Tablespoons\",\n",
    "         \"strMeasure7\":\"2\",\n",
    "         \"strMeasure8\":\"1 (12 oz.)\",\n",
    "         \"strMeasure9\":\"3 cups\",\n",
    "         \"strMeasure10\":\"\",\n",
    "         \"strMeasure11\":\"\",\n",
    "         \"strMeasure12\":\"\",\n",
    "         \"strMeasure13\":\"\",\n",
    "         \"strMeasure14\":\"\",\n",
    "         \"strMeasure15\":\"\",\n",
    "         \"strMeasure16\":null,\n",
    "         \"strMeasure17\":null,\n",
    "         \"strMeasure18\":null,\n",
    "         \"strMeasure19\":null,\n",
    "         \"strMeasure20\":null,\n",
    "         \"strSource\":null,\n",
    "         \"strImageSource\":null,\n",
    "         \"strCreativeCommonsConfirmed\":null,\n",
    "         \"dateModified\":null\n",
    "      }\n",
    "   ]\n",
    "}"
   ]
  },
  {
   "cell_type": "markdown",
   "id": "39088301-8977-4f96-bd23-1dbb856d29e2",
   "metadata": {},
   "source": [
    "## Data"
   ]
  },
  {
   "cell_type": "markdown",
   "id": "5374ae8d-2015-4142-9488-7165933d53cb",
   "metadata": {},
   "source": [
    "Wybierzmy tylko pola, które będą nas interesować i stwórzmy model. Dane dostaniemy w obu przypadkach jako listę, więc dodajmy klasę `MealRepsonse` zawierającą listę obiektów typu `Meal`. W klasie `Meal` definiujemy tylko pola, które nas interesują. Dla obu odpowiedzi możemy posłużyć się jednym modelem (nie ma konieczności tworzenia wielu modeli, jeżeli przynajmniej część danych się powtarza)"
   ]
  },
  {
   "cell_type": "code",
   "execution_count": null,
   "id": "0070ce23-5d6c-47ce-b369-fefbf3569b3e",
   "metadata": {},
   "outputs": [],
   "source": [
    "data class MealResponse(\n",
    "    val meals: List<Meal>\n",
    ")"
   ]
  },
  {
   "cell_type": "code",
   "execution_count": null,
   "id": "4e600431-d1c6-4cc4-b3f4-5215014a532a",
   "metadata": {},
   "outputs": [],
   "source": [
    "@Entity(tableName = \"meal\")\n",
    "data class Meal(\n",
    "    @PrimaryKey\n",
    "    val idMeal: String,\n",
    "    val strArea: String,\n",
    "    val strCategory: String,\n",
    "    val strInstructions: String,\n",
    "    val strMeal: String,\n",
    "    val strMealThumb: String,\n",
    ")"
   ]
  },
  {
   "cell_type": "markdown",
   "id": "ce729f6a-0895-4e4b-9993-5a6ed702e683",
   "metadata": {},
   "source": [
    "Dodajmy interfejs reprezentujący api, i zdefiniujmy w nim dwie metody, które zwracają wszystkie dania, oraz danie o zadanym id."
   ]
  },
  {
   "cell_type": "code",
   "execution_count": null,
   "id": "abfa4dec-cbc7-4ef9-a53e-cd9dc40159c8",
   "metadata": {},
   "outputs": [],
   "source": [
    "interface MealApi {\n",
    "    @GET(\"api/json/v1/1/filter.php?a=Polish\")\n",
    "    suspend fun getFood() : Response<MealResponse>\n",
    "\n",
    "    @GET(\"api/json/v1/1/lookup.php?\")\n",
    "    suspend fun getFoodById(@Query(\"i\") id: String) : Response<MealResponse>\n",
    "}"
   ]
  },
  {
   "cell_type": "markdown",
   "id": "0a780c11-cb17-4161-b355-a0225a3bccbd",
   "metadata": {},
   "source": [
    "Następnie dodajmy obiekt reprezentujący instancję `Retrofit`"
   ]
  },
  {
   "cell_type": "code",
   "execution_count": null,
   "id": "d12bffc7-5094-4819-9c3c-c58d6066e5cf",
   "metadata": {},
   "outputs": [],
   "source": [
    "object RetrofitInstance {\n",
    "    val api: MealApi by lazy {\n",
    "        Retrofit.Builder()\n",
    "            .baseUrl(\"https://www.themealdb.com/\")\n",
    "            .addConverterFactory(GsonConverterFactory.create())\n",
    "            .build()\n",
    "            .create(MealApi::class.java)\n",
    "    }\n",
    "}"
   ]
  },
  {
   "cell_type": "markdown",
   "id": "8f58c09d-a970-4c42-b6ee-a008d3cf5c26",
   "metadata": {},
   "source": [
    "Dodajmy `Dao` dla bazy `ROOM` ze zdefiniowanymi metodami dla dodawania, usuwania, oraz zwrócenia wszystkich elementów lokalnej bazy"
   ]
  },
  {
   "cell_type": "code",
   "execution_count": null,
   "id": "5c0d5d65-9ed8-4222-a2e2-087238710566",
   "metadata": {},
   "outputs": [],
   "source": [
    "@Dao\n",
    "interface MealDao {\n",
    "    @Insert(onConflict = REPLACE)\n",
    "    suspend fun insert(meal: Meal)\n",
    "\n",
    "    @Delete\n",
    "    suspend fun delete(meal: Meal)\n",
    "\n",
    "    @Query(\"SELECT * FROM meal\")\n",
    "    fun getAllMeals() : Flow<List<Meal>>\n",
    "}"
   ]
  },
  {
   "cell_type": "markdown",
   "id": "941abd22-94b5-48fc-b6fc-b141310563d5",
   "metadata": {},
   "source": [
    "Następnie dodajmy klasę abstrakcyjną reprezentującą naszą bazę danych."
   ]
  },
  {
   "cell_type": "code",
   "execution_count": null,
   "id": "e7dd0e03-a4f7-4600-bfe0-401ae57e59bc",
   "metadata": {},
   "outputs": [],
   "source": [
    "@Database(entities = [Meal::class], version = 1, exportSchema = false)\n",
    "abstract class MealDatabase : RoomDatabase() {\n",
    "    abstract fun mealDao(): MealDao\n",
    "\n",
    "    companion object{\n",
    "        @Volatile private var INSTANCE: MealDatabase? = null\n",
    "\n",
    "        fun getDatabase(context: Context): MealDatabase {\n",
    "            return INSTANCE ?: synchronized(this){\n",
    "                val instance = Room.databaseBuilder(\n",
    "                    context.applicationContext,\n",
    "                    MealDatabase::class.java,\n",
    "                    \"meal_database_compose_v3\"\n",
    "                ).build().also { INSTANCE = it }\n",
    "                instance\n",
    "            }\n",
    "        }\n",
    "    }\n",
    "}"
   ]
  },
  {
   "cell_type": "markdown",
   "id": "abdd1db5-d60d-41e8-bf23-4e70762571bb",
   "metadata": {},
   "source": [
    "Dodajmy repozytorium z metodami dostępowymi."
   ]
  },
  {
   "cell_type": "code",
   "execution_count": null,
   "id": "18817b17-98d0-4bfa-a5d4-0276338a58b7",
   "metadata": {},
   "outputs": [],
   "source": [
    "class MealRepository(application: Application) {\n",
    "\n",
    "    private val mealDao = MealDatabase.getDatabase(application).mealDao()\n",
    "\n",
    "    suspend fun fetchData() = RetrofitInstance.api.getFood() // pobranie listy z serwera\n",
    "    suspend fun fetchById(id: String) = RetrofitInstance.api.getFoodById(id) // pobranie danych o daniu o zadanym id\n",
    "\n",
    "    val readData: Flow<List<Meal>> = mealDao.getAllMeals() // pobranie listy z lokalnej bazy\n",
    "    suspend fun insert(meal: Meal) = mealDao.insert(meal) // dodanie elementu do lokalnej bazy\n",
    "    suspend fun delete(meal: Meal) = mealDao.delete(meal) // usunięcie elementu z lokalnej bazy\n",
    "}"
   ]
  },
  {
   "cell_type": "markdown",
   "id": "3c3a8ea3-f95e-4c6e-bb4b-7d08aed6d14e",
   "metadata": {},
   "source": [
    "## ViewModel"
   ]
  },
  {
   "cell_type": "markdown",
   "id": "da29da5d-453c-4570-a778-8de254d47e79",
   "metadata": {},
   "source": [
    "Wykorzystamy również wzorzec `ResourceBound` w celu ułatwienia reakcji na różne stany."
   ]
  },
  {
   "cell_type": "code",
   "execution_count": null,
   "id": "fc1a566d-770c-4e8b-a3a1-30d3dfc8fd21",
   "metadata": {},
   "outputs": [],
   "source": [
    "sealed class Resource<T> (\n",
    "    val data: T? = null,\n",
    "    val message: String? = null\n",
    "){\n",
    "    class Success<T>(data: T) : Resource<T>(data)\n",
    "    class Error<T>(message: String, data: T? = null) : Resource<T>(data, message)\n",
    "    class Loading<T> : Resource<T>()\n",
    "}"
   ]
  },
  {
   "cell_type": "markdown",
   "id": "939b5846-4199-4790-bd0c-5cf5943c656a",
   "metadata": {},
   "source": [
    "Rozpocznijmy implementację `ViewModel` od dodania pól"
   ]
  },
  {
   "cell_type": "code",
   "execution_count": null,
   "id": "d503fd0f-b1ff-43d3-b247-8d784cdf5012",
   "metadata": {},
   "outputs": [],
   "source": [
    "class FoodViewModel(application: Application) : AndroidViewModel(application) {\n",
    "\n",
    "    private val repository = MealRepository(application)\n",
    "\n",
    "    private var _meals: MutableStateFlow<Resource<MealResponse>> = MutableStateFlow(Resource.Loading())\n",
    "    val meals: StateFlow<Resource<MealResponse>> = _meals\n",
    "\n",
    "    private var _meal: MutableStateFlow<Resource<MealResponse>> = MutableStateFlow(Resource.Loading())\n",
    "    val meal: StateFlow<Resource<MealResponse>> = _meal\n",
    "\n",
    "    val localMeals: StateFlow<List<Meal>> = repository.readData.stateIn(\n",
    "        viewModelScope,\n",
    "        SharingStarted.WhileSubscribed(),\n",
    "        emptyList()\n",
    "    )\n",
    "    ...\n",
    "}"
   ]
  },
  {
   "cell_type": "markdown",
   "id": "6b256036-cb39-4a71-b916-3441937f1f2a",
   "metadata": {},
   "source": [
    "- `meals` przechowuje listę wszystkich dań pobranych z serwera, inicjujemy stanem ładowania\n",
    "- `meal` przechowuje informację o wybranym daniu pobraną z serwera, inicjujemy stanem ładowania\n",
    "- `localMeals` przechowuje listę wszystkich dań dodanych do listy ulubionych i zapisanych w lokalnej bazie danych"
   ]
  },
  {
   "cell_type": "markdown",
   "id": "4d6c1e59-9940-485d-8b3f-5b9c2bb121b6",
   "metadata": {},
   "source": [
    "Dodajmy metodę pomocniczą do obsługi odpowiedzi z serwera."
   ]
  },
  {
   "cell_type": "code",
   "execution_count": null,
   "id": "f27d144c-1db9-4e60-abcd-5566f255a77b",
   "metadata": {},
   "outputs": [],
   "source": [
    "    private fun handleMealResponse(response: Response<MealResponse>)\n",
    "            : Resource<MealResponse> {\n",
    "        if (response.isSuccessful)\n",
    "            response.body()?.let { return Resource.Success(it) }\n",
    "        return Resource.Error(response.message())\n",
    "    }"
   ]
  },
  {
   "cell_type": "markdown",
   "id": "05a2c762-f67c-4907-976b-613a6c4de822",
   "metadata": {},
   "source": [
    "- `if (response.isSuccessful)`: Ten fragment kodu sprawdza, czy odpowiedź HTTP jest udana. \n",
    "- `response.body()?.let { return Resource.Success(it) }`: Jeśli odpowiedź jest udana, to następnie używana jest funkcja `let`, która wywołuje blok kodu w przypadku, gdy `response.body()` nie jest `null`. To jest bezpieczny sposób dostępu do ciała odpowiedzi. Wewnątrz bloku tworzony jest obiekt `Resource.Success`, który zawiera ciało odpowiedzi. Ostatecznie ten obiekt jest zwracany z funkcji.\n",
    "- `return Resource.Error(response.message())`: Jeśli odpowiedź nie jest udana, funkcja tworzy obiekt` Resource.Error`, który zawiera komunikat błędu uzyskany z `response.message()`. \n",
    "\n",
    "Następnie ten obiekt jest zwracany z funkcji."
   ]
  },
  {
   "cell_type": "markdown",
   "id": "e4afe0fc-abb7-404d-8471-ea3bd0755952",
   "metadata": {},
   "source": [
    "W kolejnym kroku zaimplementujmy metody `fetchData` oraz `fetchDataById` pobierające dane z serwera."
   ]
  },
  {
   "cell_type": "code",
   "execution_count": null,
   "id": "8485fb62-090a-4db8-80fa-89746b0c5fe2",
   "metadata": {},
   "outputs": [],
   "source": [
    "    private fun fetchData() = viewModelScope.launch {\n",
    "        val response = repository.fetchData()\n",
    "        delay(2000L) // wykorzystany dla pokazania stanu ładowania\n",
    "        _meals.value = handleMealResponse(response)\n",
    "    }\n",
    "    \n",
    "    fun fetchById(id: String) = viewModelScope.launch {\n",
    "        val response = repository.fetchById(id)\n",
    "        delay(2000L) // wykorzystany dla pokazania stanu ładowania\n",
    "        _meal.value = handleMealResponse(response)\n",
    "    }"
   ]
  },
  {
   "cell_type": "markdown",
   "id": "07f49b5f-103a-4634-8aae-712594c50c80",
   "metadata": {},
   "source": [
    "Wywołujemy odpowiednią funkcję z repozytorium, następnie wykorzystujemy `delay` ab6y przedłużyć stan ładowania o 2 sekundy (pokażemy `CircularProgressBar` podczas ładowania). Ostanim krokiem w tej funkcji jest wywołanie `handleMealResponse`, która zwraca odpowiedni stan (sukces z danymi, lub błąd z odpowiednią wiadomością)."
   ]
  },
  {
   "cell_type": "markdown",
   "id": "f342a46c-483a-4d5e-913e-d34288dc36d7",
   "metadata": {},
   "source": [
    "Dodajmy dwie metody obsługujące dodanie i usunięcie elementu z lokalnej bazy."
   ]
  },
  {
   "cell_type": "code",
   "execution_count": null,
   "id": "d4eb5074-f82a-44f1-bc4a-58cb3821a997",
   "metadata": {},
   "outputs": [],
   "source": [
    "    fun insert(meal: Meal) = viewModelScope.launch {\n",
    "        repository.insert(meal)\n",
    "    }\n",
    "\n",
    "    fun delete(meal: Meal) = viewModelScope.launch {\n",
    "        repository.delete(meal)\n",
    "    }"
   ]
  },
  {
   "cell_type": "markdown",
   "id": "6b313e9b-8fe8-4482-ab10-2f1478229428",
   "metadata": {},
   "source": [
    "Na koniec dodajmy jeszcze metodę sprawdzającą czy element znajduje się na liście przechowującej dane z lokalnej bazy (dzięki temu dodamy odpowiednią funkcjonalność do przycisku odpowiadającego za dodania/usunięcie elementu)"
   ]
  },
  {
   "cell_type": "code",
   "execution_count": null,
   "id": "1a8f17ae-c3c4-4b78-8457-4c6e8c079a65",
   "metadata": {},
   "outputs": [],
   "source": [
    "    fun checkIfExistInLocalDb(meal: Meal): Boolean = meal in localMeals.value"
   ]
  },
  {
   "cell_type": "markdown",
   "id": "df5c7d91-238e-4829-9879-7ad48cc876cb",
   "metadata": {},
   "source": [
    "Pełny kod `ViewModel`"
   ]
  },
  {
   "cell_type": "code",
   "execution_count": null,
   "id": "c74f3925-ef40-45f8-95a5-1befceb50678",
   "metadata": {},
   "outputs": [],
   "source": [
    "class MealViewModel(application: Application) : AndroidViewModel(application) {\n",
    "\n",
    "    private val repository = MealRepository(application)\n",
    "\n",
    "    private var _meals: MutableStateFlow<Resource<MealResponse>> = MutableStateFlow(Resource.Loading())\n",
    "    val meals: StateFlow<Resource<MealResponse>> = _meals\n",
    "\n",
    "    private var _meal: MutableStateFlow<Resource<MealResponse>> = MutableStateFlow(Resource.Loading())\n",
    "    val meal: StateFlow<Resource<MealResponse>> = _meal\n",
    "\n",
    "    val localMeals: StateFlow<List<Meal>> = repository.readData.stateIn(\n",
    "        viewModelScope,\n",
    "        SharingStarted.WhileSubscribed(),\n",
    "        emptyList()\n",
    "    )\n",
    "\n",
    "    init {\n",
    "        fetchData()\n",
    "    }\n",
    "\n",
    "    private fun fetchData() = viewModelScope.launch {\n",
    "        val response = repository.fetchData()\n",
    "        delay(2000L)\n",
    "        _meals.value = handleMealResponse(response)\n",
    "    }\n",
    "\n",
    "    private fun handleMealResponse(response: Response<MealResponse>)\n",
    "            : Resource<MealResponse> {\n",
    "        if (response.isSuccessful)\n",
    "            response.body()?.let { return Resource.Success(it) }\n",
    "        return Resource.Error(response.message())\n",
    "    }\n",
    "\n",
    "    fun fetchById(id: String) = viewModelScope.launch {\n",
    "        val response = repository.fetchById(id)\n",
    "        delay(2000L)\n",
    "        _meal.value = handleMealResponse(response)\n",
    "    }\n",
    "\n",
    "    fun insert(meal: Meal) = viewModelScope.launch {\n",
    "        repository.insert(meal)\n",
    "    }\n",
    "\n",
    "    fun delete(meal: Meal) = viewModelScope.launch {\n",
    "        repository.delete(meal)\n",
    "    }\n",
    "\n",
    "    fun checkIfExistInLocalDb(meal: Meal): Boolean = meal in localMeals.value\n",
    "}"
   ]
  },
  {
   "cell_type": "markdown",
   "id": "eeaf6a46-3f80-4606-9457-be48bb1988eb",
   "metadata": {},
   "source": [
    "## Interfejs użytkownika"
   ]
  },
  {
   "cell_type": "markdown",
   "id": "7be0141e-711d-462f-b424-bddf4a921b20",
   "metadata": {},
   "source": [
    "Wykorzystamy `BottomNavigation`, na którym umieścimy dwa ekrany - wyświetlający listę pobraną z serwera, oraz listę pobraną z lokalnej bazy. Dodamy również trzeci ekran (poza `BottomNavigation`) wyświetlający widok szczegółowy."
   ]
  },
  {
   "cell_type": "markdown",
   "id": "f52d755a-0a10-4f63-934a-833d49a32382",
   "metadata": {},
   "source": [
    "Dodajmy nawigację"
   ]
  },
  {
   "cell_type": "code",
   "execution_count": null,
   "id": "dd9d1a16-9224-461e-a25a-f75fcaffc724",
   "metadata": {},
   "outputs": [],
   "source": [
    "<?xml version=\"1.0\" encoding=\"utf-8\"?>\n",
    "<navigation xmlns:android=\"http://schemas.android.com/apk/res/android\"\n",
    "    xmlns:app=\"http://schemas.android.com/apk/res-auto\"\n",
    "    android:id=\"@+id/navigation\"\n",
    "    app:startDestination=\"@id/foodListFragment\">\n",
    "\n",
    "    <fragment\n",
    "        android:id=\"@+id/detailFragment\"\n",
    "        android:name=\"com.example.flavorfinderkotlin.ui.fragments.DetailFragment\"\n",
    "        android:label=\"DetailFragment\" >\n",
    "        <action\n",
    "            android:id=\"@+id/action_detailFragment_to_foodListFragment\"\n",
    "            app:destination=\"@id/foodListFragment\" />\n",
    "        <action\n",
    "            android:id=\"@+id/action_detailFragment_to_favoriteFragment\"\n",
    "            app:destination=\"@id/favoriteFragment\" />\n",
    "    </fragment>\n",
    "    <fragment\n",
    "        android:id=\"@+id/favoriteFragment\"\n",
    "        android:name=\"com.example.flavorfinderkotlin.ui.fragments.FavoriteFragment\"\n",
    "        android:label=\"FavoriteFragment\" >\n",
    "        <action\n",
    "            android:id=\"@+id/action_favoriteFragment_to_detailFragment\"\n",
    "            app:destination=\"@id/detailFragment\" />\n",
    "    </fragment>\n",
    "    <fragment\n",
    "        android:id=\"@+id/foodListFragment\"\n",
    "        android:name=\"com.example.flavorfinderkotlin.ui.fragments.FoodListFragment\"\n",
    "        android:label=\"FoodListFragment\" >\n",
    "        <action\n",
    "            android:id=\"@+id/action_foodListFragment_to_detailFragment\"\n",
    "            app:destination=\"@id/detailFragment\" />\n",
    "    </fragment>\n",
    "</navigation>"
   ]
  },
  {
   "cell_type": "markdown",
   "id": "1ed6baee-821c-44dd-bd99-b2772c823af5",
   "metadata": {},
   "source": [
    "Następnie dodajmy menu dla `BottomNavigation`"
   ]
  },
  {
   "cell_type": "code",
   "execution_count": null,
   "id": "830f288d-ae65-4e01-9e0d-f28ce17971fd",
   "metadata": {},
   "outputs": [],
   "source": [
    "<?xml version=\"1.0\" encoding=\"utf-8\"?>\n",
    "<menu xmlns:android=\"http://schemas.android.com/apk/res/android\">\n",
    "    <item\n",
    "        android:id=\"@id/foodListFragment\"\n",
    "        android:icon=\"@drawable/ic_food\"\n",
    "        android:title=\"Main\" />\n",
    "    <item\n",
    "        android:id=\"@id/favoriteFragment\"\n",
    "        android:icon=\"@drawable/ic_favorite\"\n",
    "        android:title=\"Favorite\" />\n",
    "</menu>"
   ]
  },
  {
   "cell_type": "markdown",
   "id": "fb5ff743-862f-43a4-9f6d-d37010478815",
   "metadata": {},
   "source": [
    "Dodajmy layout dla głównej aktywności."
   ]
  },
  {
   "cell_type": "code",
   "execution_count": null,
   "id": "10488367-d3ba-4eee-a8ed-b5750b3a32eb",
   "metadata": {},
   "outputs": [],
   "source": [
    "<?xml version=\"1.0\" encoding=\"utf-8\"?>\n",
    "<LinearLayout xmlns:android=\"http://schemas.android.com/apk/res/android\"\n",
    "    xmlns:tools=\"http://schemas.android.com/tools\"\n",
    "    xmlns:app=\"http://schemas.android.com/apk/res-auto\"\n",
    "    android:layout_width=\"match_parent\"\n",
    "    android:layout_height=\"match_parent\"\n",
    "    android:orientation=\"vertical\">\n",
    "\n",
    "    <androidx.fragment.app.FragmentContainerView\n",
    "        android:id=\"@+id/nav_host_fragment\"\n",
    "        android:name=\"androidx.navigation.fragment.NavHostFragment\"\n",
    "        android:layout_width=\"match_parent\"\n",
    "        android:layout_height=\"0dp\"\n",
    "        android:layout_weight=\"1\"\n",
    "        app:defaultNavHost=\"true\"\n",
    "        app:navGraph=\"@navigation/navigation\"/>\n",
    "\n",
    "    <com.google.android.material.bottomnavigation.BottomNavigationView\n",
    "        android:id=\"@+id/bottom_nav_view\"\n",
    "        android:layout_width=\"match_parent\"\n",
    "        android:layout_height=\"wrap_content\"\n",
    "        app:menu=\"@menu/bottom_navigation_menu\" />\n",
    "\n",
    "</LinearLayout>"
   ]
  },
  {
   "cell_type": "markdown",
   "id": "5cc87452-b00e-49c4-b2ad-ed4bdc34aa88",
   "metadata": {},
   "source": [
    "Połączmy nawigację w aktywności głównej"
   ]
  },
  {
   "cell_type": "code",
   "execution_count": null,
   "id": "bc25c79b-363c-41a2-b573-fdb48d471471",
   "metadata": {},
   "outputs": [],
   "source": [
    "class MainActivity : AppCompatActivity() {\n",
    "\n",
    "    private val binding: ActivityMainBinding by lazy {\n",
    "        ActivityMainBinding.inflate(layoutInflater)\n",
    "    }\n",
    "\n",
    "    private val navController: NavController by lazy {\n",
    "        val navHostFragment = supportFragmentManager.findFragmentById(R.id.nav_host_fragment)\n",
    "                as NavHostFragment\n",
    "        navHostFragment.findNavController()\n",
    "    }\n",
    "\n",
    "    override fun onCreate(savedInstanceState: Bundle?) {\n",
    "        super.onCreate(savedInstanceState)\n",
    "        setContentView(binding.root)\n",
    "\n",
    "        binding.bottomNavView.setupWithNavController(navController)\n",
    "    }\n",
    "}"
   ]
  },
  {
   "cell_type": "markdown",
   "id": "2967fefc-5f76-4359-8aa7-0784824aa6d4",
   "metadata": {},
   "source": [
    "Przejdźmy do layoutów fragmentów.\n",
    "\n",
    "W layoucie przeznaczonym do wyświetlania listy pobranej z api dodamy `ProgressBar`, który będzie pokazywany w stanie `Resource.Loading`"
   ]
  },
  {
   "cell_type": "code",
   "execution_count": null,
   "id": "b8a6bcb3-b415-47a0-9612-0cbbbf7acba7",
   "metadata": {},
   "outputs": [],
   "source": [
    "<?xml version=\"1.0\" encoding=\"utf-8\"?>\n",
    "<androidx.constraintlayout.widget.ConstraintLayout xmlns:android=\"http://schemas.android.com/apk/res/android\"\n",
    "    xmlns:app=\"http://schemas.android.com/apk/res-auto\"\n",
    "    xmlns:tools=\"http://schemas.android.com/tools\"\n",
    "    android:layout_width=\"match_parent\"\n",
    "    android:layout_height=\"match_parent\">\n",
    "\n",
    "    <androidx.recyclerview.widget.RecyclerView\n",
    "        android:id=\"@+id/foodRV\"\n",
    "        android:layout_width=\"match_parent\"\n",
    "        android:layout_height=\"0dp\"\n",
    "        android:layout_margin=\"8dp\"\n",
    "        app:layout_constraintEnd_toEndOf=\"parent\"\n",
    "        app:layout_constraintStart_toStartOf=\"parent\"\n",
    "        app:layout_constraintTop_toTopOf=\"parent\" />\n",
    "\n",
    "    <ProgressBar\n",
    "        android:id=\"@+id/progressBar\"\n",
    "        android:layout_width=\"wrap_content\"\n",
    "        android:layout_height=\"wrap_content\"\n",
    "        android:layout_gravity=\"center\"\n",
    "        android:layout_marginTop=\"36dp\"\n",
    "        android:background=\"@android:color/transparent\"\n",
    "        android:visibility=\"invisible\"\n",
    "        app:layout_constraintEnd_toEndOf=\"parent\"\n",
    "        app:layout_constraintStart_toStartOf=\"parent\"\n",
    "        app:layout_constraintTop_toTopOf=\"parent\" />\n",
    "\n",
    "</androidx.constraintlayout.widget.ConstraintLayout>"
   ]
  },
  {
   "cell_type": "markdown",
   "id": "ba670b67-baa8-4a3c-bc47-4f1478088fd6",
   "metadata": {},
   "source": [
    "W layoucie przeznaczonym do wyświetlania listy pobranej z lokalnej bazy dodamy tylko `RecyclerView`"
   ]
  },
  {
   "cell_type": "code",
   "execution_count": null,
   "id": "a8870bf2-5bea-40e3-a106-f1c1d211f58d",
   "metadata": {},
   "outputs": [],
   "source": [
    "<?xml version=\"1.0\" encoding=\"utf-8\"?>\n",
    "<androidx.constraintlayout.widget.ConstraintLayout xmlns:android=\"http://schemas.android.com/apk/res/android\"\n",
    "    xmlns:app=\"http://schemas.android.com/apk/res-auto\"\n",
    "    xmlns:tools=\"http://schemas.android.com/tools\"\n",
    "    android:layout_width=\"match_parent\"\n",
    "    android:layout_height=\"match_parent\">\n",
    "\n",
    "    <androidx.recyclerview.widget.RecyclerView\n",
    "        android:id=\"@+id/favoriteRV\"\n",
    "        android:layout_width=\"match_parent\"\n",
    "        android:layout_height=\"0dp\"\n",
    "        android:layout_margin=\"8dp\"\n",
    "        app:layout_constraintEnd_toEndOf=\"parent\"\n",
    "        app:layout_constraintStart_toStartOf=\"parent\"\n",
    "        app:layout_constraintTop_toTopOf=\"parent\" />\n",
    "\n",
    "</androidx.constraintlayout.widget.ConstraintLayout>"
   ]
  },
  {
   "cell_type": "markdown",
   "id": "40ef1a03-2a24-4b52-a494-548d5738a2a5",
   "metadata": {},
   "source": [
    "Layout wyświetlający widok szczegółowy jest nieco bardziej skopmplikowany i również zawiera `ProgressBar`. Ponadto dodamy `FAB` dzięki któremu użytkownik będzie miał możliwość dodania elementu do bazy lokalnej. Usunięcie zrealizujemy przez dodanie funkcjonalności `SwipeToDelete`. Opis elementu może nie zmieścić się na ekranie, więc całość zagnieżdżamy w `ScrollView`"
   ]
  },
  {
   "cell_type": "code",
   "execution_count": null,
   "id": "1ac22ee1-0ab1-4562-8ff0-19d14693e47b",
   "metadata": {},
   "outputs": [],
   "source": [
    "<?xml version=\"1.0\" encoding=\"utf-8\"?>\n",
    "<ScrollView xmlns:android=\"http://schemas.android.com/apk/res/android\"\n",
    "    xmlns:tools=\"http://schemas.android.com/tools\"\n",
    "    android:layout_width=\"match_parent\"\n",
    "    android:layout_height=\"match_parent\">\n",
    "\n",
    "    <RelativeLayout\n",
    "        android:layout_width=\"match_parent\"\n",
    "        android:layout_height=\"wrap_content\"\n",
    "        tools:context=\".DetailActivity\">\n",
    "\n",
    "        <ProgressBar\n",
    "            android:id=\"@+id/progressBar\"\n",
    "            android:layout_width=\"wrap_content\"\n",
    "            android:layout_height=\"wrap_content\"\n",
    "            android:layout_alignParentStart=\"true\"\n",
    "            android:layout_alignParentTop=\"true\"\n",
    "            android:layout_alignParentEnd=\"true\"\n",
    "            android:layout_gravity=\"center\"\n",
    "            android:layout_marginStart=\"181dp\"\n",
    "            android:layout_marginTop=\"35dp\"\n",
    "            android:layout_marginEnd=\"182dp\"\n",
    "            android:background=\"@android:color/transparent\"\n",
    "            android:visibility=\"invisible\" />\n",
    "\n",
    "        <ImageView\n",
    "            android:id=\"@+id/foodImage\"\n",
    "            android:layout_width=\"match_parent\"\n",
    "            android:layout_height=\"wrap_content\"\n",
    "            android:adjustViewBounds=\"true\"\n",
    "            android:contentDescription=\"\" />\n",
    "\n",
    "        <TextView\n",
    "            android:id=\"@+id/title\"\n",
    "            android:layout_width=\"wrap_content\"\n",
    "            android:layout_height=\"wrap_content\"\n",
    "            android:layout_alignBottom=\"@id/foodImage\"\n",
    "            android:padding=\"8dp\"\n",
    "            android:text=\"\"\n",
    "            android:theme=\"@style/ThemeOverlay.AppCompat.Dark\" />\n",
    "\n",
    "        <TextView\n",
    "            android:id=\"@+id/category\"\n",
    "            android:layout_width=\"wrap_content\"\n",
    "            android:layout_height=\"wrap_content\"\n",
    "            android:layout_below=\"@id/foodImage\"\n",
    "            android:padding=\"8dp\"\n",
    "            android:text=\"\"\n",
    "            android:textColor=\"?android:textColorSecondary\" />\n",
    "\n",
    "        <TextView\n",
    "            android:id=\"@+id/instructions\"\n",
    "            android:layout_width=\"wrap_content\"\n",
    "            android:layout_height=\"wrap_content\"\n",
    "            android:layout_below=\"@id/category\"\n",
    "            android:padding=\"8dp\"\n",
    "            android:text=\"\" />\n",
    "\n",
    "        <com.google.android.material.floatingactionbutton.FloatingActionButton\n",
    "            android:id=\"@+id/favoriteButton\"\n",
    "            android:layout_width=\"wrap_content\"\n",
    "            android:layout_height=\"wrap_content\"\n",
    "            android:layout_alignBottom=\"@id/foodImage\"\n",
    "            android:layout_alignParentEnd=\"true\"\n",
    "            android:layout_marginEnd=\"8dp\"\n",
    "            android:layout_marginTop=\"16dp\"\n",
    "            android:contentDescription=\"\"\n",
    "            android:src=\"@drawable/ic_favorite_border\" />\n",
    "    </RelativeLayout>\n",
    "</ScrollView>"
   ]
  },
  {
   "cell_type": "markdown",
   "id": "4e9857c0-c300-4191-adcf-0adf3621907d",
   "metadata": {},
   "source": [
    "`ProgressBar` wymaga zdefiniowania layoutu dla samego *spinnera*"
   ]
  },
  {
   "cell_type": "code",
   "execution_count": null,
   "id": "449b6e30-316d-498a-9f7e-b9d7bb6bb86e",
   "metadata": {},
   "outputs": [],
   "source": [
    "<?xml version=\"1.0\" encoding=\"utf-8\"?>\n",
    "<TextView xmlns:android=\"http://schemas.android.com/apk/res/android\"\n",
    "    android:id=\"@+id/spinner_layout\"\n",
    "    android:layout_width=\"match_parent\"\n",
    "    android:layout_height=\"wrap_content\"\n",
    "    android:ellipsize=\"marquee\"\n",
    "    android:fontFamily=\"sans-serif\"\n",
    "    android:gravity=\"center\"\n",
    "    android:singleLine=\"true\"\n",
    "    android:text=\"\"\n",
    "    android:padding=\"10dp\"\n",
    "    android:textSize=\"24sp\" />"
   ]
  },
  {
   "cell_type": "markdown",
   "id": "38e051d8-6729-49d2-bb8f-7d5750652f64",
   "metadata": {},
   "source": [
    "Ostatnim layoutem jest element listy `RecyclerView`, skorzystamy z jednego pliku dla obu wykorzystanych list."
   ]
  },
  {
   "cell_type": "code",
   "execution_count": null,
   "id": "93120178-c45c-47d4-84a6-61a00ba0170e",
   "metadata": {},
   "outputs": [],
   "source": [
    "<?xml version=\"1.0\" encoding=\"utf-8\"?>\n",
    "<LinearLayout xmlns:android=\"http://schemas.android.com/apk/res/android\"\n",
    "    android:layout_width=\"match_parent\"\n",
    "    android:layout_height=\"wrap_content\"\n",
    "    android:orientation=\"vertical\"\n",
    "    android:layout_marginTop=\"16dp\">\n",
    "\n",
    "    <TextView\n",
    "        android:id=\"@+id/name\"\n",
    "        android:layout_width=\"wrap_content\"\n",
    "        android:layout_height=\"wrap_content\"\n",
    "        android:layout_gravity=\"center\"\n",
    "        android:text=\"nazwa\"\n",
    "        android:textSize=\"24sp\"\n",
    "        android:layout_margin=\"8dp\"/>\n",
    "\n",
    "    <ImageView\n",
    "        android:id=\"@+id/image\"\n",
    "        android:layout_width=\"match_parent\"\n",
    "        android:layout_gravity=\"center\"\n",
    "        android:layout_height=\"200dp\"\n",
    "        android:scaleType=\"centerCrop\"\n",
    "        android:layout_marginStart=\"25dp\"\n",
    "        android:layout_marginEnd=\"25dp\"\n",
    "        android:contentDescription=\"\" />\n",
    "\n",
    "</LinearLayout>"
   ]
  },
  {
   "cell_type": "markdown",
   "id": "a4a43c5a-0a51-494c-b06a-e6578b0ce886",
   "metadata": {},
   "source": [
    "Ponieważ korzystamy z `RecyclerView` musimy dodać klasy wspomagające. W tej aplikacji korzystamy z dwóch list, jednak zaimplementujemy tylko jeden adapter. Funkcję `OnClick` elementu listy przekażemy jako *lambdę*"
   ]
  },
  {
   "cell_type": "code",
   "execution_count": null,
   "id": "92823afe-a940-4624-bfa5-fa2c6f88ae4b",
   "metadata": {},
   "outputs": [],
   "source": [
    "class MealComparator : DiffUtil.ItemCallback<Meal>() {\n",
    "    override fun areItemsTheSame(oldItem: Meal, newItem: Meal): Boolean {\n",
    "        return newItem.strMeal == oldItem.strMeal\n",
    "    }\n",
    "\n",
    "    override fun areContentsTheSame(oldItem: Meal, newItem: Meal): Boolean {\n",
    "        return newItem.idMeal == oldItem.idMeal\n",
    "    }\n",
    "}"
   ]
  },
  {
   "cell_type": "code",
   "execution_count": null,
   "id": "6d71fbd8-ac41-49d5-a864-3e2b7a701dc9",
   "metadata": {},
   "outputs": [],
   "source": [
    "class MealViewHolder(\n",
    "    private val onClick: (String) -> Unit, // String jest identyfikatorem z klasy Meal\n",
    "    private val binding: ListItemRvBinding\n",
    ")\n",
    "    : RecyclerView.ViewHolder(binding.root){\n",
    "        fun bind(item: Meal){\n",
    "            binding.name.text = item.strMeal\n",
    "            binding.image.load(item.strMealThumb)\n",
    "            binding.root.setOnClickListener { onClick(item.idMeal) }\n",
    "        }\n",
    "}"
   ]
  },
  {
   "cell_type": "code",
   "execution_count": null,
   "id": "0bee331d-4e31-45e7-8a48-cba9b96743ca",
   "metadata": {},
   "outputs": [],
   "source": [
    "class MealAdapter(\n",
    "    private val onClick: (String) -> Unit,\n",
    "    itemComparator: MealComparator\n",
    ") : ListAdapter<Meal, MealViewHolder>(itemComparator) {\n",
    "    override fun onCreateViewHolder(parent: ViewGroup, viewType: Int): MealViewHolder {\n",
    "        return MealViewHolder(\n",
    "            onClick,\n",
    "            ListItemRvBinding.inflate(\n",
    "                LayoutInflater.from(parent.context), parent, false\n",
    "            )\n",
    "        )\n",
    "    }\n",
    "\n",
    "    override fun onBindViewHolder(holder: MealViewHolder, position: Int) {\n",
    "        val item = getItem(position)\n",
    "        holder.bind(item)\n",
    "    }\n",
    "\n",
    "    fun getItemAt(position: Int): Meal{\n",
    "        return getItem(position)\n",
    "    }\n",
    "}"
   ]
  },
  {
   "cell_type": "markdown",
   "id": "08301b5e-8bd2-4073-940b-3545af33aa85",
   "metadata": {},
   "source": [
    "Dodajmy fragmenty"
   ]
  },
  {
   "cell_type": "code",
   "execution_count": null,
   "id": "8533225a-f64e-4781-92aa-2b698ccf9159",
   "metadata": {},
   "outputs": [],
   "source": [
    "class FoodListFragment : Fragment() { // pokazuje listę z api\n",
    "    private lateinit var binding: FragmentFoodListBinding\n",
    "\n",
    "    private val viewModel: MealViewModel by activityViewModels() // współdzielony viewmodel\n",
    "\n",
    "    override fun onCreateView(\n",
    "        inflater: LayoutInflater, container: ViewGroup?,\n",
    "        savedInstanceState: Bundle?\n",
    "    ): View {\n",
    "        binding = FragmentFoodListBinding.inflate(inflater, container, false)\n",
    "        return binding.root\n",
    "    }\n",
    "\n",
    "    override fun onViewCreated(view: View, savedInstanceState: Bundle?) {\n",
    "        super.onViewCreated(view, savedInstanceState)\n",
    "\n",
    "        val adapter = MealAdapter(\n",
    "            onClick = {\n",
    "                viewModel.fetchById(it) // wywołujemy metodę przed przejściem do fragmentu Detail\n",
    "                                        // dzięki temu unikamy przekazania argumentu\n",
    "                Navigation.findNavController(requireView()).navigate( // nawigacja do fragmentu DetailFragment\n",
    "                    FoodListFragmentDirections.actionFoodListFragmentToDetailFragment()\n",
    "                )\n",
    "\n",
    "            },\n",
    "            MealComparator()\n",
    "        )\n",
    "\n",
    "        viewLifecycleOwner.lifecycleScope.launch {\n",
    "            viewLifecycleOwner.repeatOnLifecycle(Lifecycle.State.STARTED){\n",
    "                viewModel.meals.collectLatest{ response ->\n",
    "                    when (response) {\n",
    "                        is Resource.Success -> { // jeżeli odpowiedź jest prawidłowa\n",
    "                            hideProgressBar() // ukrywamy ProgressBar\n",
    "                            response.data?.let { res ->\n",
    "                                adapter.submitList(res.meals) // ładujemy dane do adaptera\n",
    "                            }\n",
    "                        }\n",
    "                        is Resource.Error -> { // Jeżeli wystąpi błąd\n",
    "                            hideProgressBar() // ukrywamy ProgressBar\n",
    "                            response.message?.let { Log.e(\"FoodList\", \"Error occurred: $it\") } // pokazujemy informację o błędzie\n",
    "                        }\n",
    "                        is Resource.Loading -> showProgressBar() // Jeżeli mamy stan ładowania, pokazujemy ProgressBar\n",
    "                    }\n",
    "                }\n",
    "            }\n",
    "        }\n",
    "\n",
    "        binding.foodRV.apply {\n",
    "            this.adapter = adapter\n",
    "            layoutManager = LinearLayoutManager(requireContext())\n",
    "        }\n",
    "    }\n",
    "\n",
    "    private fun hideProgressBar(){\n",
    "        binding.progressBar.visibility = View.INVISIBLE\n",
    "    }\n",
    "\n",
    "    private fun showProgressBar(){\n",
    "        binding.progressBar.visibility = View.VISIBLE\n",
    "    }\n",
    "}"
   ]
  },
  {
   "cell_type": "code",
   "execution_count": null,
   "id": "680ac9e5-89d1-4d62-a286-ae00f1edd9d0",
   "metadata": {},
   "outputs": [],
   "source": [
    "class FavoriteFragment : Fragment() { // pokazuje listę z ROOM\n",
    "    private lateinit var binding: FragmentFavoriteBinding\n",
    "\n",
    "    private val viewModel: MealViewModel by activityViewModels() // współdzielony viewmodel\n",
    "\n",
    "    override fun onCreateView(\n",
    "        inflater: LayoutInflater, container: ViewGroup?,\n",
    "        savedInstanceState: Bundle?\n",
    "    ): View {\n",
    "        binding = FragmentFavoriteBinding.inflate(inflater, container, false)\n",
    "        return binding.root\n",
    "    }\n",
    "\n",
    "    override fun onViewCreated(view: View, savedInstanceState: Bundle?) {\n",
    "        super.onViewCreated(view, savedInstanceState)\n",
    "\n",
    "        val adapter = MealAdapter(\n",
    "            onClick = {\n",
    "                viewModel.fetchById(it) // wywołujemy metodę przed przejściem do fragmentu Detail\n",
    "                                        // dzięki temu unikamy przekazania argumentu\n",
    "                Navigation.findNavController(requireView()).navigate( // nawigacja do fragmentu DetailFragment\n",
    "                    FavoriteFragmentDirections.actionFavoriteFragmentToDetailFragment()\n",
    "                )\n",
    "\n",
    "            },\n",
    "            MealComparator()\n",
    "        )\n",
    "\n",
    "        viewLifecycleOwner.lifecycleScope.launch {\n",
    "            viewLifecycleOwner.repeatOnLifecycle(Lifecycle.State.STARTED){\n",
    "                viewModel.localMeals.collectLatest{ meals -> adapter.submitList(meals) } // ładowanie danych do adaptera\n",
    "            }\n",
    "        }\n",
    "\n",
    "        binding.favoriteRV.apply {\n",
    "            this.adapter = adapter\n",
    "            layoutManager = LinearLayoutManager(requireContext())\n",
    "        }\n",
    "\n",
    "        swipeToDelete(adapter)\n",
    "    }\n",
    "\n",
    "    private fun swipeToDelete(adapter: MealAdapter) { // usunięcie elementu przez przeciągnięcie do lewej lub prawej\n",
    "        ItemTouchHelper(object : ItemTouchHelper.SimpleCallback(\n",
    "            0,\n",
    "            ItemTouchHelper.RIGHT or ItemTouchHelper.LEFT\n",
    "        ) {\n",
    "            override fun onMove(\n",
    "                recyclerView: RecyclerView,\n",
    "                viewHolder: RecyclerView.ViewHolder,\n",
    "                target: RecyclerView.ViewHolder\n",
    "            ): Boolean {\n",
    "                return false\n",
    "            }\n",
    "\n",
    "            override fun onSwiped(viewHolder: RecyclerView.ViewHolder, direction: Int) {\n",
    "                viewModel.delete(adapter.getItemAt(viewHolder.absoluteAdapterPosition))\n",
    "            }\n",
    "        }).attachToRecyclerView(binding.favoriteRV)\n",
    "    }\n",
    "}"
   ]
  },
  {
   "cell_type": "code",
   "execution_count": null,
   "id": "c3a40a71-0894-4d22-91b0-5a3f47750c0d",
   "metadata": {},
   "outputs": [],
   "source": [
    "class DetailFragment : Fragment() { // pokazuje szczegółowe dane po pobraniu z api\n",
    "\n",
    "    private lateinit var binding: FragmentDetailBinding\n",
    "\n",
    "    private val viewModel: MealViewModel by activityViewModels()\n",
    "    private val TAG = \"FoodDetailFragment\"\n",
    "\n",
    "    override fun onCreateView(\n",
    "        inflater: LayoutInflater, container: ViewGroup?,\n",
    "        savedInstanceState: Bundle?\n",
    "    ): View {\n",
    "        binding = FragmentDetailBinding.inflate(layoutInflater, container, false)\n",
    "        return binding.root\n",
    "    }\n",
    "\n",
    "    override fun onViewCreated(view: View, savedInstanceState: Bundle?) {\n",
    "        super.onViewCreated(view, savedInstanceState)\n",
    "\n",
    "        viewLifecycleOwner.lifecycleScope.launch {\n",
    "            viewLifecycleOwner.repeatOnLifecycle(Lifecycle.State.STARTED){\n",
    "                viewModel.meal.collectLatest{ response -> // dane znajdują się w StateFlow 'meal'\n",
    "                    when (response) {\n",
    "                        is Resource.Success -> { // jeżeli odpowiedź jest prawidłowa\n",
    "                            hideProgressBar() // ukrywamy ProgressBar\n",
    "                            response.data?.let { res ->\n",
    "                                val item = res.meals.first() // dane otrzymujemy jako listę jednoelementową\n",
    "                                inflate(item) // ładujemy dane na layout\n",
    "                                binding.favoriteButton.setOnClickListener { // onClick FAB\n",
    "                                    viewModel.insert(item) // dodanie elementu do lokalnej bazy\n",
    "                                }\n",
    "                                if (viewModel.checkIfExistInLocalDb(item)) // jeżeli element znajduje się w bazie\n",
    "                                    binding.favoriteButton.visibility = View.INVISIBLE // ukrywam przycisk FAB\n",
    "                            }\n",
    "                        }\n",
    "                        is Resource.Error -> { // jeżeli wystąpi błąd\n",
    "                            hideProgressBar() // ukrywam ProgressBar\n",
    "                            response.message?.let { Log.e(TAG, \"Error occurred: $it\") } // pokazujemy informację o błędzie\n",
    "                        }\n",
    "                        is Resource.Loading -> showProgressBar() // jeżeli mamy stan ładowania, pokazujemy ProgressBar\n",
    "                    }\n",
    "                }\n",
    "            }\n",
    "        }\n",
    "    }\n",
    "\n",
    "    private fun inflate(item: Meal) { // funkcja pomocnicza ładująca dane na layout\n",
    "        binding.foodImage.load(item.strMealThumb)\n",
    "        binding.category.text = item.strCategory\n",
    "        binding.title.text = item.strMeal\n",
    "        binding.instructions.text = item.strInstructions\n",
    "    }\n",
    "\n",
    "    private fun hideProgressBar(){\n",
    "        binding.progressBar.visibility = View.INVISIBLE\n",
    "    }\n",
    "\n",
    "    private fun showProgressBar(){\n",
    "        binding.progressBar.visibility = View.VISIBLE\n",
    "    }\n",
    "}"
   ]
  },
  {
   "cell_type": "markdown",
   "id": "f2f46a2a-af57-43a4-83cd-a6d18ff763b9",
   "metadata": {},
   "source": [
    "Możemy przetestować aplikację."
   ]
  },
  {
   "cell_type": "markdown",
   "id": "135fb29e-beaa-456c-a728-ed2a6e4a8257",
   "metadata": {},
   "source": [
    "<img src=\"https://media0.giphy.com/media/v1.Y2lkPTc5MGI3NjExZzlweXR6dzI1b3ZpNnk4MXo3cTJ6Yjd1NWx3ZG85ZGNzNGkyOHZobCZlcD12MV9pbnRlcm5hbF9naWZfYnlfaWQmY3Q9Zw/NqBQ91k7zOVh5d39NK/giphy.gif\" width=\"200\" />"
   ]
  }
 ],
 "metadata": {
  "kernelspec": {
   "display_name": "Kotlin",
   "language": "kotlin",
   "name": "kotlin"
  },
  "language_info": {
   "codemirror_mode": "text/x-kotlin",
   "file_extension": ".kt",
   "mimetype": "text/x-kotlin",
   "name": "kotlin",
   "nbconvert_exporter": "",
   "pygments_lexer": "kotlin",
   "version": "1.8.0-RC"
  }
 },
 "nbformat": 4,
 "nbformat_minor": 5
}
