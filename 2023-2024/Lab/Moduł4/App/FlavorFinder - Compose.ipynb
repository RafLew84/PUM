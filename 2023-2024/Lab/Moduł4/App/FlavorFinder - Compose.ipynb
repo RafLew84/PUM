{
 "cells": [
  {
   "cell_type": "markdown",
   "id": "6c859fff-449f-4f1c-b391-44fc3e5c0b90",
   "metadata": {},
   "source": [
    "# FlavorFinder"
   ]
  },
  {
   "cell_type": "markdown",
   "id": "71b5d201-5f57-4b26-b6d8-170891ff6002",
   "metadata": {},
   "source": [
    "Aplikacja pozwala przeglądać dostępne dania z darmowego api [mealAPI](https://www.themealdb.com), oraz dodać ulubione do lokalnej bazy danych.\n",
    "\n",
    "Aplikacja wykorzystuje bazę danych `ROOM` do przechowywania ulubionych dań, oraz bibliotekę `Retrofit` do pobrania danych z zewnętrznego serwera."
   ]
  },
  {
   "cell_type": "markdown",
   "id": "180ace9d-2074-488a-915e-1b204dce2a86",
   "metadata": {},
   "source": [
    "<table><tr><td><img src=\"https://media0.giphy.com/media/v1.Y2lkPTc5MGI3NjExZzlweXR6dzI1b3ZpNnk4MXo3cTJ6Yjd1NWx3ZG85ZGNzNGkyOHZobCZlcD12MV9pbnRlcm5hbF9naWZfYnlfaWQmY3Q9Zw/NqBQ91k7zOVh5d39NK/giphy.gif\" width=\"200\" /></td><td><img src=\"https://media3.giphy.com/media/v1.Y2lkPTc5MGI3NjExY29iNXd2Z2hiYnhldWtpeHVpeTR5YmYwM3ltZWh3bHlyYmkwcTNneCZlcD12MV9pbnRlcm5hbF9naWZfYnlfaWQmY3Q9Zw/WiFtop3Zg3tdTUGFnh/giphy.gif\" width=\"200\" /></td><td><img src=\"https://media1.giphy.com/media/v1.Y2lkPTc5MGI3NjExOGs3ZTZmMnpsb21pdTAwbWphbGo1MmxoZGFtNmUwaGlzdmttcndwcCZlcD12MV9pbnRlcm5hbF9naWZfYnlfaWQmY3Q9Zw/Van1cMPDSfS9haqhIL/giphy.gif\" width=\"200\" /></td></tr></table>"
   ]
  },
  {
   "cell_type": "markdown",
   "id": "0fd3ddb9-6c5d-46a6-8a0b-aebe4db2285b",
   "metadata": {},
   "source": [
    "- Aplikacja zaimplementowana zgodnie ze wzoccem MVVM wraz z repozytorium\n",
    "- Repozytorium zawiera metody dostępowe do lokalnej bazy oraz zewnętrznego api\n",
    "- biblioteka `Retrofit` została wykorzystana do połączenia z zewnętrznym serwerem\n",
    "- biblioteka `Coil` została wykorzystana do obsługi ładowania grafik\n",
    "- `StateFlow` został wykorzystany do łatwego zarządzania bieżącym stanem interfejsu użytkownika\n",
    "- Baza danych `Room` została wykorzystana do przechowywania dań\n",
    "- Aplikacja zawiera trzy ekrany \n",
    "    - na głównym ekranie wyświetla listę dań pobranych z serwera\n",
    "    - ekran *ulubione* pozwala przeglądać dania zapisane w lokalnej bazy danych\n",
    "    - trzeci ekran umożliwia uzyskanie większej ilości informacji o wybranym daniu\n",
    "- Aplikacja wykorzystuje `Compose Navigation` w celu utworzenia nawigacji w aplikacji\n",
    "- `ViewModel` został umieszczony w komponencie `Navigation` w celu uzyskania współdzielenia jego instancji przez wszystkie ekrany\n",
    "\n",
    "\n",
    "Dodajmy wymagane zależności do projektu\n",
    "\n",
    "```kotlin\n",
    "plugins {\n",
    "    id(\"com.android.application\")\n",
    "    id(\"org.jetbrains.kotlin.android\")\n",
    "    id (\"kotlin-kapt\")\n",
    "}\n",
    "\n",
    "dependencies {\n",
    "    implementation (\"androidx.lifecycle:lifecycle-viewmodel-compose:2.6.2\")\n",
    "    implementation (\"androidx.lifecycle:lifecycle-viewmodel-ktx:2.6.2\")\n",
    "    implementation (\"androidx.lifecycle:lifecycle-runtime-compose:2.6.2\")\n",
    "\n",
    "    implementation (\"com.squareup.retrofit2:retrofit:2.9.0\")\n",
    "    implementation (\"com.squareup.retrofit2:converter-gson:2.9.0\")\n",
    "    implementation (\"com.squareup.okhttp3:logging-interceptor:4.10.0\")\n",
    "\n",
    "    implementation (\"androidx.room:room-runtime:2.5.2\")\n",
    "    annotationProcessor (\"androidx.room:room-compiler:2.5.2\")\n",
    "    kapt (\"androidx.room:room-compiler:2.5.2\")\n",
    "    implementation(\"androidx.room:room-ktx:2.5.2\")\n",
    "\n",
    "    implementation (\"androidx.navigation:navigation-compose:2.6.0\")\n",
    "\n",
    "    implementation (\"androidx.compose.material:material-icons-extended:1.4.3\")\n",
    "\n",
    "    implementation(\"io.coil-kt:coil:2.4.0\")\n",
    "    implementation(\"io.coil-kt:coil-compose:2.4.0\")\n",
    "    ...\n",
    "}\n",
    "```\n",
    "\n",
    "dodajmy również odpowiednie upoważnienia do manifestu\n",
    "\n",
    "```xml\n",
    "<uses-permission android:name=\"android.permission.INTERNET\"/>\n",
    "```"
   ]
  },
  {
   "cell_type": "markdown",
   "id": "3c85da4d-889d-4cbf-99a0-90ae40cd1ee4",
   "metadata": {},
   "source": [
    "Przejrzyjmy dane które wykorzystamy z api. W tej aplikacji pobierzemy tylko polskie dania, korzystając z endpointu https://www.themealdb.com/api/json/v1/1/filter.php?a=Polish. Zobaczmy odpowiedź."
   ]
  },
  {
   "cell_type": "code",
   "execution_count": null,
   "id": "061a0b43-5a12-4c92-a07d-6f94d6b2e503",
   "metadata": {},
   "outputs": [],
   "source": [
    "{\n",
    "   \"meals\":[\n",
    "      {\n",
    "         \"strMeal\":\"Bigos (Hunters Stew)\",\n",
    "         \"strMealThumb\":\"https:\\/\\/www.themealdb.com\\/images\\/media\\/meals\\/md8w601593348504.jpg\",\n",
    "         \"idMeal\":\"53018\"\n",
    "      },\n",
    "      {\n",
    "         \"strMeal\":\"Go\\u0142\\u0105bki (cabbage roll)\",\n",
    "         \"strMealThumb\":\"https:\\/\\/www.themealdb.com\\/images\\/media\\/meals\\/q8sp3j1593349686.jpg\",\n",
    "         \"idMeal\":\"53021\"\n",
    "      },\n",
    "      {\n",
    "         \"strMeal\":\"Paszteciki (Polish Pasties)\",\n",
    "         \"strMealThumb\":\"https:\\/\\/www.themealdb.com\\/images\\/media\\/meals\\/c9a3l31593261890.jpg\",\n",
    "         \"idMeal\":\"53017\"\n",
    "      },\n",
    "      {\n",
    "         \"strMeal\":\"Pierogi (Polish Dumplings)\",\n",
    "         \"strMealThumb\":\"https:\\/\\/www.themealdb.com\\/images\\/media\\/meals\\/45xxr21593348847.jpg\",\n",
    "         \"idMeal\":\"53019\"\n",
    "      },\n",
    "      {\n",
    "         \"strMeal\":\"Polskie Nale\\u015bniki (Polish Pancakes)\",\n",
    "         \"strMealThumb\":\"https:\\/\\/www.themealdb.com\\/images\\/media\\/meals\\/58bkyo1593350017.jpg\",\n",
    "         \"idMeal\":\"53022\"\n",
    "      },\n",
    "      {\n",
    "         \"strMeal\":\"Rogaliki (Polish Croissant Cookies)\",\n",
    "         \"strMealThumb\":\"https:\\/\\/www.themealdb.com\\/images\\/media\\/meals\\/7mxnzz1593350801.jpg\",\n",
    "         \"idMeal\":\"53024\"\n",
    "      },\n",
    "      {\n",
    "         \"strMeal\":\"Ros\\u00f3\\u0142 (Polish Chicken Soup)\",\n",
    "         \"strMealThumb\":\"https:\\/\\/www.themealdb.com\\/images\\/media\\/meals\\/lx1kkj1593349302.jpg\",\n",
    "         \"idMeal\":\"53020\"\n",
    "      },\n",
    "      {\n",
    "         \"strMeal\":\"Sledz w Oleju (Polish Herrings)\",\n",
    "         \"strMealThumb\":\"https:\\/\\/www.themealdb.com\\/images\\/media\\/meals\\/7ttta31593350374.jpg\",\n",
    "         \"idMeal\":\"53023\"\n",
    "      }\n",
    "   ]\n",
    "}"
   ]
  },
  {
   "cell_type": "markdown",
   "id": "178b5950-bd9e-4bdf-8d08-34373674b5af",
   "metadata": {},
   "source": [
    "Dostaniemy nazwę, link do zdjęcia oraz identyfikator. Chcemy również dostać więcej informacji o wybranym przez użytkownika daniu, w tym celu wykorzystamy endpoint https://www.themealdb.com/api/json/v1/1/lookup.php?i=52772. Po podaniu identyfikatora otrzymamy następujące dane."
   ]
  },
  {
   "cell_type": "code",
   "execution_count": null,
   "id": "307fd06a-95aa-4cf5-b64e-26c19e30138f",
   "metadata": {},
   "outputs": [],
   "source": [
    "{\n",
    "   \"meals\":[\n",
    "      {\n",
    "         \"idMeal\":\"52772\",\n",
    "         \"strMeal\":\"Teriyaki Chicken Casserole\",\n",
    "         \"strDrinkAlternate\":null,\n",
    "         \"strCategory\":\"Chicken\",\n",
    "         \"strArea\":\"Japanese\",\n",
    "         \"strInstructions\":\"Preheat oven to 350\\u00b0 F. Spray a 9x13-inch baking pan with non-stick spray.\\r\\nCombine soy sauce, ...   \n",
    "         \"strMealThumb\":\"https:\\/\\/www.themealdb.com\\/images\\/media\\/meals\\/wvpsxx1468256321.jpg\",\n",
    "         \"strTags\":\"Meat,Casserole\",\n",
    "         \"strYoutube\":\"https:\\/\\/www.youtube.com\\/watch?v=4aZr5hZXP_s\",\n",
    "         \"strIngredient1\":\"soy sauce\",\n",
    "         \"strIngredient2\":\"water\",\n",
    "         \"strIngredient3\":\"brown sugar\",\n",
    "         \"strIngredient4\":\"ground ginger\",\n",
    "         \"strIngredient5\":\"minced garlic\",\n",
    "         \"strIngredient6\":\"cornstarch\",\n",
    "         \"strIngredient7\":\"chicken breasts\",\n",
    "         \"strIngredient8\":\"stir-fry vegetables\",\n",
    "         \"strIngredient9\":\"brown rice\",\n",
    "         \"strIngredient10\":\"\",\n",
    "         \"strIngredient11\":\"\",\n",
    "         \"strIngredient12\":\"\",\n",
    "         \"strIngredient13\":\"\",\n",
    "         \"strIngredient14\":\"\",\n",
    "         \"strIngredient15\":\"\",\n",
    "         \"strIngredient16\":null,\n",
    "         \"strIngredient17\":null,\n",
    "         \"strIngredient18\":null,\n",
    "         \"strIngredient19\":null,\n",
    "         \"strIngredient20\":null,\n",
    "         \"strMeasure1\":\"3\\/4 cup\",\n",
    "         \"strMeasure2\":\"1\\/2 cup\",\n",
    "         \"strMeasure3\":\"1\\/4 cup\",\n",
    "         \"strMeasure4\":\"1\\/2 teaspoon\",\n",
    "         \"strMeasure5\":\"1\\/2 teaspoon\",\n",
    "         \"strMeasure6\":\"4 Tablespoons\",\n",
    "         \"strMeasure7\":\"2\",\n",
    "         \"strMeasure8\":\"1 (12 oz.)\",\n",
    "         \"strMeasure9\":\"3 cups\",\n",
    "         \"strMeasure10\":\"\",\n",
    "         \"strMeasure11\":\"\",\n",
    "         \"strMeasure12\":\"\",\n",
    "         \"strMeasure13\":\"\",\n",
    "         \"strMeasure14\":\"\",\n",
    "         \"strMeasure15\":\"\",\n",
    "         \"strMeasure16\":null,\n",
    "         \"strMeasure17\":null,\n",
    "         \"strMeasure18\":null,\n",
    "         \"strMeasure19\":null,\n",
    "         \"strMeasure20\":null,\n",
    "         \"strSource\":null,\n",
    "         \"strImageSource\":null,\n",
    "         \"strCreativeCommonsConfirmed\":null,\n",
    "         \"dateModified\":null\n",
    "      }\n",
    "   ]\n",
    "}"
   ]
  },
  {
   "cell_type": "markdown",
   "id": "ae8ca63e-dca0-44f2-9808-f7215e3bebfb",
   "metadata": {},
   "source": [
    "## Data"
   ]
  },
  {
   "cell_type": "markdown",
   "id": "ee7c65bd-e52f-4f01-ad10-f896e36e194f",
   "metadata": {},
   "source": [
    "Wybierzmy tylko pola, które będą nas interesować i stwórzmy model. Dane dostaniemy w obu przypadkach jako listę, więc dodajmy klasę `MealRepsonse` zawierającą listę obiektów typu `Meal`. W klasie `Meal` definiujemy tylko pola, które nas interesują. Dla obu odpowiedzi możemy posłużyć się jednym modelem (nie ma konieczności tworzenia wielu modeli, jeżeli przynajmniej część danych się powtarza)"
   ]
  },
  {
   "cell_type": "code",
   "execution_count": null,
   "id": "34c43912-651d-4834-8f54-6de0f96535f8",
   "metadata": {},
   "outputs": [],
   "source": [
    "data class MealResponse(\n",
    "    val meals: List<Meal>\n",
    ")"
   ]
  },
  {
   "cell_type": "code",
   "execution_count": null,
   "id": "dd8044e5-56c8-442c-b109-c0a8629e3b94",
   "metadata": {},
   "outputs": [],
   "source": [
    "@Entity(tableName = \"meal\")\n",
    "data class Meal(\n",
    "    @PrimaryKey\n",
    "    val idMeal: String,\n",
    "    val strArea: String,\n",
    "    val strCategory: String,\n",
    "    val strInstructions: String,\n",
    "    val strMeal: String,\n",
    "    val strMealThumb: String,\n",
    ")"
   ]
  },
  {
   "cell_type": "markdown",
   "id": "bfbea1f4-5a41-47e3-959c-a9d89116c4e0",
   "metadata": {},
   "source": [
    "Dodajmy interfejs reprezentujący api, i zdefiniujmy w nim dwie metody, które zwracają wszystkie dania, oraz danie o zadanym id."
   ]
  },
  {
   "cell_type": "code",
   "execution_count": null,
   "id": "7b1d0e7e-4ece-4b9e-b02f-ab50abc11f7d",
   "metadata": {},
   "outputs": [],
   "source": [
    "interface MealApi {\n",
    "    @GET(\"api/json/v1/1/filter.php?a=Polish\")\n",
    "    suspend fun getFood() : Response<MealResponse>\n",
    "\n",
    "    @GET(\"api/json/v1/1/lookup.php?\")\n",
    "    suspend fun getFoodById(@Query(\"i\") id: String) : Response<MealResponse>\n",
    "}"
   ]
  },
  {
   "cell_type": "markdown",
   "id": "c8d622db-e411-4262-8b29-70c8a5925b94",
   "metadata": {},
   "source": [
    "Następnie dodajmy obiekt reprezentujący instancję `Retrofit`"
   ]
  },
  {
   "cell_type": "code",
   "execution_count": null,
   "id": "cbe40d40-7bd1-4ef9-8451-f8581d64afe0",
   "metadata": {},
   "outputs": [],
   "source": [
    "object RetrofitInstance {\n",
    "    val api: MealApi by lazy {\n",
    "        Retrofit.Builder()\n",
    "            .baseUrl(\"https://www.themealdb.com/\")\n",
    "            .addConverterFactory(GsonConverterFactory.create())\n",
    "            .build()\n",
    "            .create(MealApi::class.java)\n",
    "    }\n",
    "}"
   ]
  },
  {
   "cell_type": "markdown",
   "id": "c3547277-47de-4e1b-b4a1-39d53875411b",
   "metadata": {},
   "source": [
    "Dodajmy `Dao` dla bazy `ROOM` ze zdefiniowanymi metodami dla dodawania, usuwania, oraz zwrócenia wszystkich elementów lokalnej bazy"
   ]
  },
  {
   "cell_type": "code",
   "execution_count": null,
   "id": "e3238e3f-2d88-41cb-87be-d0485d7911f4",
   "metadata": {},
   "outputs": [],
   "source": [
    "@Dao\n",
    "interface MealDao {\n",
    "    @Insert(onConflict = REPLACE)\n",
    "    suspend fun insert(meal: Meal)\n",
    "\n",
    "    @Delete\n",
    "    suspend fun delete(meal: Meal)\n",
    "\n",
    "    @Query(\"SELECT * FROM meal\")\n",
    "    fun getAllMeals() : Flow<List<Meal>>\n",
    "}"
   ]
  },
  {
   "cell_type": "markdown",
   "id": "75cc237d-4a9b-4140-a8c4-e45df7397739",
   "metadata": {},
   "source": [
    "Następnie dodajmy klasę abstrakcyjną reprezentującą naszą bazę danych."
   ]
  },
  {
   "cell_type": "code",
   "execution_count": null,
   "id": "fd146751-e3b3-4d18-b8fa-b6642523ee1b",
   "metadata": {},
   "outputs": [],
   "source": [
    "@Database(entities = [Meal::class], version = 1, exportSchema = false)\n",
    "abstract class MealDatabase : RoomDatabase() {\n",
    "    abstract fun mealDao(): MealDao\n",
    "\n",
    "    companion object{\n",
    "        @Volatile private var INSTANCE: MealDatabase? = null\n",
    "\n",
    "        fun getDatabase(context: Context): MealDatabase {\n",
    "            return INSTANCE ?: synchronized(this){\n",
    "                val instance = Room.databaseBuilder(\n",
    "                    context.applicationContext,\n",
    "                    MealDatabase::class.java,\n",
    "                    \"meal_database_compose_v3\"\n",
    "                ).build().also { INSTANCE = it }\n",
    "                instance\n",
    "            }\n",
    "        }\n",
    "    }\n",
    "}"
   ]
  },
  {
   "cell_type": "markdown",
   "id": "a794b646-5661-4e8a-8af6-ee57deb5f39f",
   "metadata": {},
   "source": [
    "Dodajmy repozytorium z metodami dostępowymi."
   ]
  },
  {
   "cell_type": "code",
   "execution_count": null,
   "id": "0049db13-3762-403a-8648-eca94d5652e6",
   "metadata": {},
   "outputs": [],
   "source": [
    "class MealRepository(application: Application) {\n",
    "\n",
    "    private val mealDao = MealDatabase.getDatabase(application).mealDao()\n",
    "\n",
    "    suspend fun fetchData() = RetrofitInstance.api.getFood() // pobranie listy z serwera\n",
    "    suspend fun fetchById(id: String) = RetrofitInstance.api.getFoodById(id) // pobranie danych o daniu o zadanym id\n",
    "\n",
    "    val readData: Flow<List<Meal>> = mealDao.getAllMeals() // pobranie listy z lokalnej bazy\n",
    "    suspend fun insert(meal: Meal) = mealDao.insert(meal) // dodanie elementu do lokalnej bazy\n",
    "    suspend fun delete(meal: Meal) = mealDao.delete(meal) // usunięcie elementu z lokalnej bazy\n",
    "}"
   ]
  },
  {
   "cell_type": "markdown",
   "id": "5dc7d7a4-2610-4276-a403-9f70718dc049",
   "metadata": {},
   "source": [
    "## ViewModel"
   ]
  },
  {
   "cell_type": "markdown",
   "id": "7d46dd57-eb0a-4f2d-b24c-5b763082ea39",
   "metadata": {},
   "source": [
    "Wykorzystamy również wzorzec `ResourceBound` w celu ułatwienia reakcji na różne stany."
   ]
  },
  {
   "cell_type": "code",
   "execution_count": null,
   "id": "6900d0ba-938e-42d9-9698-d5d731913158",
   "metadata": {},
   "outputs": [],
   "source": [
    "sealed class Resource<T> (\n",
    "    val data: T? = null,\n",
    "    val message: String? = null\n",
    "){\n",
    "    class Success<T>(data: T) : Resource<T>(data)\n",
    "    class Error<T>(message: String, data: T? = null) : Resource<T>(data, message)\n",
    "    class Loading<T> : Resource<T>()\n",
    "}"
   ]
  },
  {
   "cell_type": "markdown",
   "id": "b0fc78a6-313c-4ee5-8567-9ba7b43883ab",
   "metadata": {},
   "source": [
    "Ponieważ `ROOM` wymaga podania kontekstu, musimy dodać implementację fabryki dla `ViewModel`"
   ]
  },
  {
   "cell_type": "code",
   "execution_count": null,
   "id": "dc2cd50a-7a25-4743-bbdc-434911381204",
   "metadata": {},
   "outputs": [],
   "source": [
    "class FoodViewModelFactory(private val application: Application) :\n",
    "    ViewModelProvider.Factory {\n",
    "    override fun <T : ViewModel> create(modelClass: Class<T>): T {\n",
    "        return FoodViewModel(application) as T\n",
    "    }\n",
    "}"
   ]
  },
  {
   "cell_type": "markdown",
   "id": "f2d4b7ac-09b3-4cc6-8e77-7cc5671ae719",
   "metadata": {},
   "source": [
    "Rozpocznijmy implementację `ViewModel` od dodania pól"
   ]
  },
  {
   "cell_type": "code",
   "execution_count": null,
   "id": "e650125e-9afd-4065-baca-6baa431cb808",
   "metadata": {},
   "outputs": [],
   "source": [
    "class FoodViewModel(application: Application) : ViewModel() {\n",
    "\n",
    "    private val repository = MealRepository(application)\n",
    "\n",
    "    private var _meals: MutableStateFlow<Resource<MealResponse>> = MutableStateFlow(Resource.Loading())\n",
    "    val meals: StateFlow<Resource<MealResponse>> = _meals\n",
    "\n",
    "    private var _meal: MutableStateFlow<Resource<MealResponse>> = MutableStateFlow(Resource.Loading())\n",
    "    val meal: StateFlow<Resource<MealResponse>> = _meal\n",
    "\n",
    "    val localMeals: StateFlow<List<Meal>> = repository.readData.stateIn(\n",
    "        viewModelScope,\n",
    "        SharingStarted.WhileSubscribed(),\n",
    "        emptyList()\n",
    "    )\n",
    "    ...\n",
    "}"
   ]
  },
  {
   "cell_type": "markdown",
   "id": "d75edd39-a011-4a21-8d4e-b815b74b9290",
   "metadata": {},
   "source": [
    "- `meals` przechowuje listę wszystkich dań pobranych z serwera, inicjujemy stanem ładowania\n",
    "- `meal` przechowuje informację o wybranym daniu pobraną z serwera, inicjujemy stanem ładowania\n",
    "- `localMeals` przechowuje listę wszystkich dań dodanych do listy ulubionych i zapisanych w lokalnej bazie danych"
   ]
  },
  {
   "cell_type": "markdown",
   "id": "bc168237-d78e-4643-9baa-c5d980255126",
   "metadata": {},
   "source": [
    "Dodajmy metodę pomocniczą do obsługi odpowiedzi z serwera."
   ]
  },
  {
   "cell_type": "code",
   "execution_count": null,
   "id": "c2a51b41-a1f4-49e7-9cab-e7ca59b63fcf",
   "metadata": {},
   "outputs": [],
   "source": [
    "    private fun handleMealResponse(response: Response<MealResponse>)\n",
    "            : Resource<MealResponse> {\n",
    "        if (response.isSuccessful)\n",
    "            response.body()?.let { return Resource.Success(it) }\n",
    "        return Resource.Error(response.message())\n",
    "    }"
   ]
  },
  {
   "cell_type": "markdown",
   "id": "75676c86-55fa-41c6-956b-e3854d3426bb",
   "metadata": {},
   "source": [
    "- `if (response.isSuccessful)`: Ten fragment kodu sprawdza, czy odpowiedź HTTP jest udana. \n",
    "- `response.body()?.let { return Resource.Success(it) }`: Jeśli odpowiedź jest udana, to następnie używana jest funkcja `let`, która wywołuje blok kodu w przypadku, gdy `response.body()` nie jest `null`. To jest bezpieczny sposób dostępu do ciała odpowiedzi. Wewnątrz bloku tworzony jest obiekt `Resource.Success`, który zawiera ciało odpowiedzi. Ostatecznie ten obiekt jest zwracany z funkcji.\n",
    "- `return Resource.Error(response.message())`: Jeśli odpowiedź nie jest udana, funkcja tworzy obiekt` Resource.Error`, który zawiera komunikat błędu uzyskany z `response.message()`. \n",
    "\n",
    "Następnie ten obiekt jest zwracany z funkcji."
   ]
  },
  {
   "cell_type": "markdown",
   "id": "4b6a4060-bb0a-4a47-ab7b-b5ced01b7982",
   "metadata": {},
   "source": [
    "W kolejnym kroku zaimplementujmy metody `fetchData` oraz `fetchDataById` pobierające dane z serwera."
   ]
  },
  {
   "cell_type": "code",
   "execution_count": null,
   "id": "e6664d2c-ffd9-4bb5-b541-daa54c182775",
   "metadata": {},
   "outputs": [],
   "source": [
    "    private fun fetchData() = viewModelScope.launch {\n",
    "        val response = repository.fetchData()\n",
    "        delay(2000L) // wykorzystany dla pokazania stanu ładowania\n",
    "        _meals.value = handleMealResponse(response)\n",
    "    }\n",
    "    \n",
    "    fun fetchById(id: String) = viewModelScope.launch {\n",
    "        val response = repository.fetchById(id)\n",
    "        delay(2000L) // wykorzystany dla pokazania stanu ładowania\n",
    "        _meal.value = handleMealResponse(response)\n",
    "    }"
   ]
  },
  {
   "cell_type": "markdown",
   "id": "1e18ab4f-9d55-41b9-8d3d-85c4d2c73d14",
   "metadata": {},
   "source": [
    "Wywołujemy odpowiednią funkcję z repozytorium, następnie wykorzystujemy `delay` ab6y przedłużyć stan ładowania o 2 sekundy (pokażemy `CircularProgressBar` podczas ładowania). Ostanim krokiem w tej funkcji jest wywołanie `handleMealResponse`, która zwraca odpowiedni stan (sukces z danymi, lub błąd z odpowiednią wiadomością)."
   ]
  },
  {
   "cell_type": "markdown",
   "id": "40e96494-26c7-4150-aa52-ef65a70c5f3b",
   "metadata": {},
   "source": [
    "Dodajmy dwie metody obsługujące dodanie i usunięcie elementu z lokalnej bazy."
   ]
  },
  {
   "cell_type": "code",
   "execution_count": null,
   "id": "73faa18b-7976-4aa9-9c82-33816ba437b7",
   "metadata": {},
   "outputs": [],
   "source": [
    "    fun insert(meal: Meal) = viewModelScope.launch {\n",
    "        repository.insert(meal)\n",
    "    }\n",
    "\n",
    "    fun delete(meal: Meal) = viewModelScope.launch {\n",
    "        repository.delete(meal)\n",
    "    }"
   ]
  },
  {
   "cell_type": "markdown",
   "id": "228465e5-1d40-4b08-863c-d4a1b4203265",
   "metadata": {},
   "source": [
    "Na koniec dodajmy jeszcze metodę sprawdzającą czy element znajduje się na liście przechowującej dane z lokalnej bazy (dzięki temu dodamy odpowiednią funkcjonalność do przycisku odpowiadającego za dodania/usunięcie elementu)"
   ]
  },
  {
   "cell_type": "code",
   "execution_count": null,
   "id": "a914c7fc-f978-4612-9620-448f3ce601dd",
   "metadata": {},
   "outputs": [],
   "source": [
    "    fun checkIfExistInLocalDb(meal: Meal): Boolean = meal in localMeals.value"
   ]
  },
  {
   "cell_type": "markdown",
   "id": "964c2a8f-4c48-4928-bb2d-4e2db5179d6d",
   "metadata": {},
   "source": [
    "Pełny kod `ViewModel`"
   ]
  },
  {
   "cell_type": "code",
   "execution_count": null,
   "id": "311c3ece-8268-418b-b09a-95c0139e57f3",
   "metadata": {},
   "outputs": [],
   "source": [
    "class FoodViewModel(application: Application) : ViewModel() {\n",
    "\n",
    "    private val repository = MealRepository(application)\n",
    "\n",
    "    private var _meals: MutableStateFlow<Resource<MealResponse>> = MutableStateFlow(Resource.Loading())\n",
    "    val meals: StateFlow<Resource<MealResponse>> = _meals\n",
    "\n",
    "    private var _meal: MutableStateFlow<Resource<MealResponse>> = MutableStateFlow(Resource.Loading())\n",
    "    val meal: StateFlow<Resource<MealResponse>> = _meal\n",
    "\n",
    "    val localMeals: StateFlow<List<Meal>> = repository.readData.stateIn(\n",
    "        viewModelScope,\n",
    "        SharingStarted.WhileSubscribed(),\n",
    "        emptyList()\n",
    "    )\n",
    "\n",
    "    init {\n",
    "        fetchData()\n",
    "    }\n",
    "\n",
    "    private fun fetchData() = viewModelScope.launch {\n",
    "        val response = repository.fetchData()\n",
    "        delay(2000L)\n",
    "        _meals.value = handleMealResponse(response)\n",
    "    }\n",
    "\n",
    "    private fun handleMealResponse(response: Response<MealResponse>)\n",
    "            : Resource<MealResponse> {\n",
    "        if (response.isSuccessful)\n",
    "            response.body()?.let { return Resource.Success(it) }\n",
    "        return Resource.Error(response.message())\n",
    "    }\n",
    "\n",
    "    fun fetchById(id: String) = viewModelScope.launch {\n",
    "        val response = repository.fetchById(id)\n",
    "        delay(2000L)\n",
    "        _meal.value = handleMealResponse(response)\n",
    "    }\n",
    "\n",
    "    fun insert(meal: Meal) = viewModelScope.launch {\n",
    "        repository.insert(meal)\n",
    "    }\n",
    "\n",
    "    fun delete(meal: Meal) = viewModelScope.launch {\n",
    "        repository.delete(meal)\n",
    "    }\n",
    "\n",
    "    fun checkIfExistInLocalDb(meal: Meal): Boolean = meal in localMeals.value\n",
    "}"
   ]
  },
  {
   "cell_type": "markdown",
   "id": "10e0d111-9fe6-42cb-9591-7d57a209637c",
   "metadata": {},
   "source": [
    "## Interfejs użytkownika"
   ]
  },
  {
   "cell_type": "markdown",
   "id": "7ef84145-4731-4a17-800e-5d222e3dc76e",
   "metadata": {},
   "source": [
    "Wykorzystamy `BottomNavigation`, na którym umieścimy dwa ekrany - wyświetlający listę pobraną z serwera, oraz listę pobraną z lokalnej bazy. Dodamy również trzeci ekran (poza `BottomNavigation`) wyświetlający widok szczegółowy."
   ]
  },
  {
   "cell_type": "markdown",
   "id": "664759b1-a7f2-4dc6-b2c8-17fcd19469e0",
   "metadata": {},
   "source": [
    "W tym celu zaimplementujmy dwie klasy, pierwsza będzie reprezentowała wszystkie ekrany, druga tylko znajdujące się w nawigacji dolnej."
   ]
  },
  {
   "cell_type": "code",
   "execution_count": null,
   "id": "968445ef-2589-4dad-9cf7-2012f84bad1b",
   "metadata": {},
   "outputs": [],
   "source": [
    "sealed class Screens(\n",
    "    val route: String\n",
    ") {\n",
    "    object Meals : Screens(\"meals\")\n",
    "    object Favorite : Screens(\"favorite\")\n",
    "    object Details : Screens(\"detail\")\n",
    "}"
   ]
  },
  {
   "cell_type": "code",
   "execution_count": null,
   "id": "a4cc43ef-d2a7-4583-97de-9281b9b1e36c",
   "metadata": {},
   "outputs": [],
   "source": [
    "sealed class BottomBar(\n",
    "    val route: String,\n",
    "    val title: String,\n",
    "    val icon: ImageVector\n",
    ") {\n",
    "    object Home : BottomBar(Screens.Meals.route, \"Meals\", Icons.Default.Home)\n",
    "    object Favorite : BottomBar(Screens.Favorite.route, \"Favorite\", Icons.Default.Favorite)\n",
    "}"
   ]
  },
  {
   "cell_type": "markdown",
   "id": "a7db91cf-791c-4a38-af22-1c296d8aeb9f",
   "metadata": {},
   "source": [
    "Dodajmy nawigację"
   ]
  },
  {
   "cell_type": "code",
   "execution_count": null,
   "id": "a487ce14-98e5-4672-a54a-704eedb5de0a",
   "metadata": {},
   "outputs": [],
   "source": [
    "@OptIn(ExperimentalMaterial3Api::class)\n",
    "@Composable\n",
    "fun Navigation() {\n",
    "    val navController = rememberNavController()\n",
    "    val viewModel: FoodViewModel = viewModel(\n",
    "        LocalViewModelStoreOwner.current!!,\n",
    "        \"MealViewModel\",\n",
    "        FoodViewModelFactory(LocalContext.current.applicationContext as Application)\n",
    "    )\n",
    "\n",
    "    Scaffold(\n",
    "        bottomBar = { BottomMenu(navController = navController)},\n",
    "        content = { paddingValues ->\n",
    "            BottomNavGraph(navController = navController, viewModel, paddingValues)\n",
    "        }\n",
    "    )\n",
    "}"
   ]
  },
  {
   "cell_type": "markdown",
   "id": "93db978f-bce6-48e7-a5bc-e8aa9e05e0e3",
   "metadata": {},
   "source": [
    "Głównym komponentem aplikacji będzie `Scaffold` zawierający `bottomBar`"
   ]
  },
  {
   "cell_type": "code",
   "execution_count": null,
   "id": "36efc28d-5f3a-450b-adab-7cdd0a75f408",
   "metadata": {},
   "outputs": [],
   "source": [
    "@Composable\n",
    "fun BottomMenu(navController: NavHostController){\n",
    "    val screens = listOf(\n",
    "        BottomBar.Home, BottomBar.Favorite\n",
    "    )\n",
    "\n",
    "    val navBackStackEntry by navController.currentBackStackEntryAsState()\n",
    "    val currentDestination = navBackStackEntry?.destination\n",
    "\n",
    "    NavigationBar{\n",
    "        screens.forEach{screen ->\n",
    "            NavigationBarItem(\n",
    "                label = { Text(text = screen.title)},\n",
    "                icon = {Icon(imageVector = screen.icon, contentDescription = \"icon\")},\n",
    "                selected = currentDestination?.hierarchy?.any { it.route == screen.route } == true,\n",
    "                onClick = {navController.navigate(screen.route)}\n",
    "            )\n",
    "        }\n",
    "    }\n",
    "}"
   ]
  },
  {
   "cell_type": "markdown",
   "id": "9fd34817-047e-427d-94cc-af42e6a8ea20",
   "metadata": {},
   "source": [
    "`BottomMenu` zawiera dwa ekrany"
   ]
  },
  {
   "cell_type": "code",
   "execution_count": null,
   "id": "5ac5e1c8-e195-4763-9513-4535c93ec067",
   "metadata": {},
   "outputs": [],
   "source": [
    "@Composable\n",
    "fun BottomNavGraph(navController: NavHostController, viewModel: FoodViewModel, paddingValues: PaddingValues){\n",
    "    NavHost(navController = navController, startDestination = Screens.Meals.route) {\n",
    "        composable(route = Screens.Meals.route){\n",
    "            MealsScreen (\n",
    "                navController = navController,\n",
    "                viewModel = viewModel,\n",
    "                paddingValues = paddingValues\n",
    "            )\n",
    "        }\n",
    "\n",
    "        composable(route = Screens.Favorite.route){\n",
    "            FavoriteScreen(\n",
    "                navController = navController,\n",
    "                viewModel = viewModel,\n",
    "                paddingValues = paddingValues\n",
    "            )\n",
    "        }\n",
    "\n",
    "        composable(route = Screens.Details.route){\n",
    "            DetailScreen(\n",
    "                viewModel = viewModel,\n",
    "                paddingValues = paddingValues\n",
    "            )\n",
    "        }\n",
    "    }\n",
    "}"
   ]
  },
  {
   "cell_type": "markdown",
   "id": "f445359d-8389-4846-b605-4af78af419c7",
   "metadata": {},
   "source": [
    "Do każdego komponentu reprezentującego ekran przekazujemy `viewModel` (współdzielenie) oraz `paddingValues` (aby odpowiednio ustawić marginesy i treść nie pokrywała się z `bottomBar`). Do ekranów zawierających listy przekazujemy również `navController`, aby móc dodać kod umożliwiający przejście na komponent reprezentujący ekran szczególu."
   ]
  },
  {
   "cell_type": "markdown",
   "id": "ec7846a1-7540-4d59-adab-fa8a51a78ac6",
   "metadata": {},
   "source": [
    "Zwróćmy uwagę na ekran pokazujący szczegóły dania, wyświetla on dane pobrane z serwera na podstawie przekazanego identyfikatora. Musielibyśmy zatem przekazać ten identyfikator z komponentu reprezentuującego ekrany list, do komponentu reprezentującego ekran szczegółu.\n",
    "\n",
    "W tym przykładzie nie będziemy tego robić, zamiast tego zastosujemy **współdzielony** `ViewModel`. Dzięki temu, jeszcze znajdując się na ekranie listy, możemy wywołać metodę `fetchDataById`, która aktualizuje pole `meal`. Po przejściu na ekran szczególu, dodamy obserwatora do pola `meal` zawierające aktualne dane."
   ]
  },
  {
   "cell_type": "markdown",
   "id": "eb0975cd-258c-4838-8469-1e2f08063802",
   "metadata": {},
   "source": [
    "Na dwóch ekranach chcemy pokazać wiadomość z możliwym błędem, oraz odpowiedni komponent oznaczający ładowanie damych. Zaimplementujmy odpowiednie funkcje."
   ]
  },
  {
   "cell_type": "code",
   "execution_count": null,
   "id": "e1db7249-d43e-42db-ba26-9fa6bc91644e",
   "metadata": {},
   "outputs": [],
   "source": [
    "@Composable\n",
    "fun ShowErrorMessage(message: String) {\n",
    "    Column(\n",
    "        modifier = Modifier.fillMaxSize(),\n",
    "        verticalArrangement = Arrangement.Center,\n",
    "        horizontalAlignment = Alignment.CenterHorizontally\n",
    "    ) {\n",
    "        Text(\n",
    "            text = \"An error has occurred\\n\\n$message\",\n",
    "            fontSize = 48.sp\n",
    "        )\n",
    "    }\n",
    "}\n",
    "\n",
    "@Composable\n",
    "fun ShowLoadingBar() {\n",
    "    Column(\n",
    "        modifier = Modifier.fillMaxSize(),\n",
    "        verticalArrangement = Arrangement.Center,\n",
    "        horizontalAlignment = Alignment.CenterHorizontally\n",
    "    ) {\n",
    "        CircularProgressIndicator(\n",
    "            modifier = Modifier.width(64.dp)\n",
    "        )\n",
    "    }\n",
    "}"
   ]
  },
  {
   "cell_type": "markdown",
   "id": "305bd6db-4d91-4c9b-a3f4-73d1b9212948",
   "metadata": {},
   "source": [
    "Dodajmy również funkcję `ShowList` pokazującą listę wszystkich dań (z serwera lub lokalnej bazy)"
   ]
  },
  {
   "cell_type": "code",
   "execution_count": null,
   "id": "7413dde9-6b27-48fc-8dfa-261510f0efa6",
   "metadata": {},
   "outputs": [],
   "source": [
    "@Composable\n",
    "fun ShowList(\n",
    "    meals: List<Meal>, // lista którą chcemy wyświetlić\n",
    "    paddingValues: PaddingValues,\n",
    "    navController: NavController,\n",
    "    viewModel: FoodViewModel\n",
    ") {\n",
    "    LazyColumn(modifier = Modifier.padding(paddingValues)) {\n",
    "        items(meals) { meal ->\n",
    "            Column(\n",
    "                modifier = Modifier.fillMaxSize(),\n",
    "                verticalArrangement = Arrangement.Center,\n",
    "                horizontalAlignment = Alignment.CenterHorizontally\n",
    "            ) {\n",
    "                Card( // tło\n",
    "                    modifier = Modifier\n",
    "                        .fillMaxWidth()\n",
    "                        .padding(start = 4.dp, end = 4.dp)\n",
    "                        .clickable { // dodanie klikalności elementu\n",
    "                            viewModel.fetchById(meal.idMeal) // zamiast przekazania id, wykonujemy pobranie danych\n",
    "                                                             // będą przechowywant we współdzielonym viewmodel\n",
    "                            navController.navigate(Screens.Details.route) // przechodzimy na ekran szczególu\n",
    "                        }\n",
    "                ) {\n",
    "                    AsyncImage( // z biblioteki Coil\n",
    "                        model = meal.strMealThumb, // adres grafiki\n",
    "                        contentDescription = null,\n",
    "                        contentScale = ContentScale.Crop,\n",
    "                        modifier = Modifier\n",
    "                            .fillMaxWidth()\n",
    "                            .height(200.dp)\n",
    "                    )\n",
    "                    Text(\n",
    "                        text = meal.strMeal,\n",
    "                        Modifier\n",
    "                            .padding(4.dp)\n",
    "                            .fillMaxWidth(),\n",
    "                        textAlign = TextAlign.Center,\n",
    "                        fontSize = 24.sp\n",
    "                    )\n",
    "                }\n",
    "                Spacer(modifier = Modifier.padding(12.dp))\n",
    "            }\n",
    "        }\n",
    "    }\n",
    "}"
   ]
  },
  {
   "cell_type": "markdown",
   "id": "668dcbea-d683-4eed-a814-f1d541b50e50",
   "metadata": {},
   "source": [
    "Dodajmy same ekrany."
   ]
  },
  {
   "cell_type": "code",
   "execution_count": null,
   "id": "51b85343-0882-4ace-83cc-05a49e93fb3d",
   "metadata": {},
   "outputs": [],
   "source": [
    "@Composable\n",
    "fun MealsScreen(navController: NavController, viewModel: FoodViewModel, paddingValues: PaddingValues) {\n",
    "    \n",
    "    val response by viewModel.meals.collectAsStateWithLifecycle()\n",
    "\n",
    "    when (response) {\n",
    "        is Resource.Success -> { response.data?.let { ShowList(meals = it.meals, paddingValues, navController, viewModel) } }\n",
    "        is Resource.Error -> { response.message?.let { ShowErrorMessage(message = it) } }\n",
    "        is Resource.Loading -> { ShowLoadingBar() }\n",
    "    }\n",
    "}"
   ]
  },
  {
   "cell_type": "code",
   "execution_count": null,
   "id": "f1009d69-958b-47b9-8cc4-cde114b85bde",
   "metadata": {},
   "outputs": [],
   "source": [
    "@Composable\n",
    "fun FavoriteScreen(navController: NavController, viewModel: FoodViewModel, paddingValues: PaddingValues){\n",
    "\n",
    "    val meals by viewModel.localMeals.collectAsStateWithLifecycle()\n",
    "\n",
    "    ShowList(\n",
    "        meals = meals,\n",
    "        paddingValues = paddingValues,\n",
    "        navController = navController,\n",
    "        viewModel = viewModel\n",
    "    )\n",
    "}"
   ]
  },
  {
   "cell_type": "markdown",
   "id": "59ac5183-f11b-47c5-9c22-caf456c0279e",
   "metadata": {},
   "source": [
    "Ostatnim ekranem jest `DetailScreen`, rozpocznijmy od dodania kilku komponentów."
   ]
  },
  {
   "cell_type": "markdown",
   "id": "68283ab4-d587-4118-aa40-1c03c74cbe7a",
   "metadata": {},
   "source": [
    "W zależności od tego czy wyświetlany element znajduje się w lokalnej bazie, chcemy umożliwić dodanie, lub usunięcie elementu."
   ]
  },
  {
   "cell_type": "code",
   "execution_count": null,
   "id": "83f0cd1c-debf-40fc-9b80-1f299fef809e",
   "metadata": {},
   "outputs": [],
   "source": [
    "@Composable\n",
    "private fun AddToFavoriteFAB(\n",
    "    onClick: () -> Unit\n",
    ") {\n",
    "    FloatingActionButton(\n",
    "        onClick = onClick,\n",
    "        elevation = FloatingActionButtonDefaults.bottomAppBarFabElevation(10.dp),\n",
    "        containerColor = Color(100, 220, 237),\n",
    "        shape = FloatingActionButtonDefaults.smallShape\n",
    "    ) {\n",
    "        Icon(\n",
    "            imageVector = Icons.Filled.Add,\n",
    "            contentDescription = \"Add item\"\n",
    "        )\n",
    "    }\n",
    "}\n",
    "\n",
    "@Composable\n",
    "private fun RemoveFromFavoriteFAB(\n",
    "    onClick: () -> Unit\n",
    ") {\n",
    "    FloatingActionButton(\n",
    "        onClick = onClick,\n",
    "        elevation = FloatingActionButtonDefaults.bottomAppBarFabElevation(10.dp),\n",
    "        containerColor = Color(100, 220, 237),\n",
    "        shape = FloatingActionButtonDefaults.smallShape\n",
    "    ) {\n",
    "        Icon(\n",
    "            imageVector = Icons.Filled.Remove,\n",
    "            contentDescription = \"Remove item\"\n",
    "        )\n",
    "    }\n",
    "}"
   ]
  },
  {
   "cell_type": "markdown",
   "id": "528133e4-8c6e-44b9-b4c7-e28b125e5a1d",
   "metadata": {},
   "source": [
    "Chcemy pokazać tytuł bezpośrednio na obrazie, więc dodamy również gradient, aby napis był widoczny."
   ]
  },
  {
   "cell_type": "code",
   "execution_count": null,
   "id": "098985bb-6114-4b3a-8b33-dc9e084b5ce0",
   "metadata": {},
   "outputs": [],
   "source": [
    "@Composable\n",
    "private fun Gradient() {\n",
    "    Box(\n",
    "        modifier = Modifier\n",
    "            .fillMaxSize()\n",
    "            .background(\n",
    "                Brush.verticalGradient(\n",
    "                    colors = listOf(\n",
    "                        Color.Transparent,\n",
    "                        Color.Black\n",
    "                    ),\n",
    "                    startY = 450f\n",
    "                )\n",
    "            )\n",
    "    )\n",
    "}\n",
    "\n",
    "@Composable\n",
    "private fun MealImage(url: String) {\n",
    "    AsyncImage( // z biblioteki Coil\n",
    "        model = url,\n",
    "        contentDescription = \"\",\n",
    "        contentScale = ContentScale.Crop,\n",
    "        modifier = Modifier.fillMaxWidth()\n",
    "    )\n",
    "}"
   ]
  },
  {
   "cell_type": "code",
   "execution_count": null,
   "id": "1f2e0128-7126-4f54-b075-ba332261a8e3",
   "metadata": {},
   "outputs": [],
   "source": [
    "@OptIn(ExperimentalMaterial3Api::class)\n",
    "@Composable\n",
    "fun ShowMeal(\n",
    "    meal: Meal, // dane do wyświetlenia\n",
    "    viewModel: FoodViewModel,\n",
    "    paddingValues: PaddingValues,\n",
    "    modifier: Modifier = Modifier\n",
    ") {\n",
    "\n",
    "    Scaffold( // zagnieżedżony Scaffold\n",
    "        modifier = Modifier.padding(paddingValues),\n",
    "        floatingActionButton = { // przycisk dodawania/usuwania elementu z bazy\n",
    "            if (viewModel.checkIfExistInLocalDb(meal))\n",
    "                RemoveFromFavoriteFAB { viewModel.delete(meal) }\n",
    "            else\n",
    "                AddToFavoriteFAB { viewModel.insert(meal) }\n",
    "        },\n",
    "    ) { scaffoldPaddingValues -> // musimy dodać kolejne marginesy aby FAB był widoczny w odpowiednim miejscu\n",
    "        Card(\n",
    "            modifier = modifier\n",
    "                .fillMaxWidth()\n",
    "                .padding(scaffoldPaddingValues)\n",
    "                .verticalScroll(rememberScrollState()), // umożliwienie przewijania na ekranie\n",
    "            shape = RoundedCornerShape(15.dp),\n",
    "            elevation = CardDefaults.cardElevation(defaultElevation = 10.dp)\n",
    "        ) {\n",
    "            Box(\n",
    "                modifier = Modifier\n",
    "                    .height(200.dp)\n",
    "                    .fillMaxWidth()\n",
    "            ) {\n",
    "                MealImage(meal.strMealThumb)\n",
    "                Gradient()\n",
    "                Text(\n",
    "                    text = meal.strMeal,\n",
    "                    modifier = Modifier\n",
    "                        .align(Alignment.BottomStart)\n",
    "                        .padding(12.dp),\n",
    "                    fontSize = 24.sp,\n",
    "                    style = TextStyle(color = Color.White),\n",
    "                    fontWeight = FontWeight.Bold\n",
    "                )\n",
    "            }\n",
    "            Column(\n",
    "                modifier = Modifier\n",
    "                    .fillMaxWidth()\n",
    "            ) {\n",
    "                Text(\n",
    "                    text = meal.strCategory,\n",
    "                    modifier = Modifier.fillMaxWidth(),\n",
    "                    textAlign = TextAlign.Center,\n",
    "                    fontSize = 24.sp,\n",
    "                    fontWeight = FontWeight.Bold\n",
    "                )\n",
    "                Text(\n",
    "                    text = meal.strInstructions,\n",
    "                    modifier = Modifier.padding(start = 16.dp, top = 24.dp, end = 16.dp)\n",
    "                )\n",
    "            }\n",
    "        }\n",
    "    }\n",
    "}"
   ]
  },
  {
   "cell_type": "markdown",
   "id": "11c18dd5-9c52-4c3c-9617-65dc22b84d7d",
   "metadata": {},
   "source": [
    "Dodajmy główny komponent do głównej aktywności"
   ]
  },
  {
   "cell_type": "code",
   "execution_count": null,
   "id": "73fa9c60-f383-41d2-88b3-1acbad2e7e76",
   "metadata": {},
   "outputs": [],
   "source": [
    "class MainActivity : ComponentActivity() {\n",
    "    override fun onCreate(savedInstanceState: Bundle?) {\n",
    "        super.onCreate(savedInstanceState)\n",
    "        setContent {\n",
    "            FlavorFinderComposeTheme {\n",
    "                // A surface container using the 'background' color from the theme\n",
    "                Surface(\n",
    "                    modifier = Modifier.fillMaxSize(),\n",
    "                    color = MaterialTheme.colorScheme.background\n",
    "                ) {\n",
    "                    Navigation()\n",
    "                }\n",
    "            }\n",
    "        }\n",
    "    }\n",
    "}"
   ]
  },
  {
   "cell_type": "markdown",
   "id": "c3afc09c-3f5b-40ff-a111-04b798a44be8",
   "metadata": {},
   "source": [
    "Możemy przetestować aplikację."
   ]
  },
  {
   "cell_type": "markdown",
   "id": "e11757ad-feb3-4ad2-a879-b1eb9f21a16e",
   "metadata": {},
   "source": [
    "<img src=\"https://media0.giphy.com/media/v1.Y2lkPTc5MGI3NjExZzlweXR6dzI1b3ZpNnk4MXo3cTJ6Yjd1NWx3ZG85ZGNzNGkyOHZobCZlcD12MV9pbnRlcm5hbF9naWZfYnlfaWQmY3Q9Zw/NqBQ91k7zOVh5d39NK/giphy.gif\" width=\"200\" />"
   ]
  },
  {
   "cell_type": "code",
   "execution_count": null,
   "id": "7e5abe10-f4b3-4eb7-99bb-4a9d4b7f9ce9",
   "metadata": {},
   "outputs": [],
   "source": []
  }
 ],
 "metadata": {
  "kernelspec": {
   "display_name": "Kotlin",
   "language": "kotlin",
   "name": "kotlin"
  },
  "language_info": {
   "codemirror_mode": "text/x-kotlin",
   "file_extension": ".kt",
   "mimetype": "text/x-kotlin",
   "name": "kotlin",
   "nbconvert_exporter": "",
   "pygments_lexer": "kotlin",
   "version": "1.8.0-RC"
  }
 },
 "nbformat": 4,
 "nbformat_minor": 5
}
