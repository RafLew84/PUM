{
 "cells": [
  {
   "cell_type": "markdown",
   "id": "1033fc78-649d-4253-b915-835da50f4e02",
   "metadata": {},
   "source": [
    "# Jetpack Compose - StateFlow - Podstawy"
   ]
  },
  {
   "cell_type": "markdown",
   "id": "6ebcd6c2-1586-4e52-aa27-9f81b8aefc2b",
   "metadata": {},
   "source": [
    "W tej aplikacji przyjrzymy się zastosowaniu `StateFlow`."
   ]
  },
  {
   "cell_type": "markdown",
   "id": "331531a6-deb2-41e4-b2e0-7ad6534c1a13",
   "metadata": {},
   "source": [
    "<img src=\"https://media0.giphy.com/media/v1.Y2lkPTc5MGI3NjExcGszZTlwNm5rMDlkdmU3d3FqY21mY2dzMno1cHM5NTM2aHVrcGd5MyZlcD12MV9pbnRlcm5hbF9naWZfYnlfaWQmY3Q9Zw/6jHVl7R4F1qkoDXK1R/giphy.gif\" width=\"200\" />"
   ]
  },
  {
   "cell_type": "markdown",
   "id": "0035d371-2e39-42d5-bc2b-1fa654e53e9a",
   "metadata": {},
   "source": [
    "`StateFlow` rozszerza funkcjonalność strumieni `Flow` poprzez wprowadzenie pojęcia stanu (*state*). Jest to strumień, który reprezentuje zmieniający się stan i informuje obserwatorów o jego aktualnym stanie.\n",
    "\n",
    "Główne cechy `StateFlow`:\n",
    "- Stan: Przechowuje aktualny stan jako niezmienną wartość. Kiedy stan ulega zmianie, nowa wartość jest emitowana do obserwatorów.\n",
    "- Emitowanie i odbieranie: Emituje wartości stanu i umożliwia ich odbieranie przez obserwatorów. Obserwatorzy są automatycznie informowani o aktualizacjach stanu."
   ]
  },
  {
   "cell_type": "markdown",
   "id": "a6c4ad29-3e5c-4391-a7db-5407a5ec01bf",
   "metadata": {},
   "source": [
    "`StateFlow` jest gorącym strumieniem (*hot stream*), co oznacza że emitowanie wartości odbywa się niezależnie od subskrypcji - może emitować wartości nawet wtedy, gdy nie ma aktywnych odbiorców. Nowi odbiorcy, którzy dołączają do strumienia, otrzymują **aktualną wartość stanu** oraz kolejne emitowane wartości.\n",
    "\n",
    "Jest to zasadnicza różnica między `StateFlow` a `Flow` (cold stream). W przypadku zimnego strumienia, emisja wartości rozpoczyna się dopiero po subskrypcji przez odbiorców."
   ]
  },
  {
   "cell_type": "markdown",
   "id": "80536a10-740b-4a2f-9a8b-1a5d211af99d",
   "metadata": {},
   "source": [
    "Nasza aplikacja będzie prostym licznikiem, w którym po przyciśnięciu przycisku zmienimy wartość `StateFlow` i zwiększymy stan licznika."
   ]
  },
  {
   "cell_type": "markdown",
   "id": "9804d1cc-ff44-44e5-819f-91b6d7851640",
   "metadata": {},
   "source": [
    "Rozpocznijmy od zaimplementowania `CounterViewModel`"
   ]
  },
  {
   "cell_type": "code",
   "execution_count": null,
   "id": "cce47e0d-abdb-4e24-bc0d-4c08f2f87fec",
   "metadata": {},
   "outputs": [],
   "source": [
    "class CounterViewModel : ViewModel() {\n",
    "\n",
    "    private val _stateFlow = MutableStateFlow(0)\n",
    "    val stateFlow = _stateFlow.asStateFlow()\n",
    "\n",
    "    fun increase(){\n",
    "        _stateFlow.value += 1\n",
    "    }\n",
    "}"
   ]
  },
  {
   "cell_type": "markdown",
   "id": "c867738b-c8bf-4428-ba77-256d2aec6635",
   "metadata": {},
   "source": [
    "- `private val _stateFlow = MutableStateFlow(0)` - `MutableStateFlow` jest używane do przechowywania i emitowania zmieniającego się stanu - inicjujemy wartością 0\n",
    "- `val stateFlow = _stateFlow.asStateFlow()` - Tworzy publiczne, tylko do odczytu `StateFlow` poprzez konwersję `MutableStateFlow` na `StateFlow` wykorzystując metofę `asStateFlow()`. `StateFlow` to niemutowalny strumień wartości, który można subskrybować i odczytywać.\n",
    "- `fun increase() { _stateFlow.value += 1 }` - Zwiększa wartość `_stateFlow.value` o 1. Zmiana wartości `_stateFlow.value` spowoduje automatyczną emisję nowej wartości do subskrybentów."
   ]
  },
  {
   "cell_type": "markdown",
   "id": "78f26d00-44f5-42fb-bb14-a6a0eb33d4c3",
   "metadata": {},
   "source": [
    "Zaimplementujmy ui, oraz dodajmy go jako subskrybenta `stateFlow` - implementacja jest identyczna jak w przypadku `Flow`"
   ]
  },
  {
   "cell_type": "code",
   "execution_count": null,
   "id": "fff1eb31-e66c-486e-a7b9-d4535bb71483",
   "metadata": {},
   "outputs": [],
   "source": [
    "class MainActivity : ComponentActivity() {\n",
    "    override fun onCreate(savedInstanceState: Bundle?) {\n",
    "        super.onCreate(savedInstanceState)\n",
    "        setContent {\n",
    "            StateFlowBasicsComposeTheme {\n",
    "\n",
    "                val viewModel: CounterViewModel = viewModel()  // tworzymy instancję viewmodel\n",
    "                val counter = viewModel.stateFlow.collectAsStateWithLifecycle(0) // tworzymy pole typu State jak w poprzednim przykładzie\n",
    "\n",
    "                Surface(\n",
    "                    modifier = Modifier.fillMaxSize(),\n",
    "                    color = MaterialTheme.colorScheme.background\n",
    "                ) {\n",
    "                    Column(\n",
    "                        modifier = Modifier.fillMaxSize(),\n",
    "                        verticalArrangement = Arrangement.Center,\n",
    "                        horizontalAlignment = Alignment.CenterHorizontally\n",
    "                    ){\n",
    "                        Text(\n",
    "                            text = counter.value.toString(), // ustawiamy wartość\n",
    "                            fontSize = 56.sp,\n",
    "                            modifier = Modifier.fillMaxWidth(),\n",
    "                            textAlign = TextAlign.Center\n",
    "                        )\n",
    "                        Button(onClick = { viewModel.increase() }) { // Wywołujemy funkcję increase() po naciśnięciu przycisku\n",
    "                            Text(text = \"Increase\")\n",
    "                        }\n",
    "                    }\n",
    "                }\n",
    "            }\n",
    "        }\n",
    "    }\n",
    "}"
   ]
  },
  {
   "cell_type": "markdown",
   "id": "6ef0752e-8407-45cd-8005-2586a2fa1534",
   "metadata": {},
   "source": [
    "Możemy przetestować aplikację"
   ]
  },
  {
   "cell_type": "markdown",
   "id": "53fe2d8f-1501-44c3-a75a-60b1174f4039",
   "metadata": {},
   "source": [
    "<img src=\"https://media0.giphy.com/media/v1.Y2lkPTc5MGI3NjExcGszZTlwNm5rMDlkdmU3d3FqY21mY2dzMno1cHM5NTM2aHVrcGd5MyZlcD12MV9pbnRlcm5hbF9naWZfYnlfaWQmY3Q9Zw/6jHVl7R4F1qkoDXK1R/giphy.gif\" width=\"200\" />"
   ]
  },
  {
   "cell_type": "markdown",
   "id": "d31db450-e39a-46e5-89d6-5c974e378384",
   "metadata": {},
   "source": [
    "## StateFlow vs Compose State"
   ]
  },
  {
   "cell_type": "markdown",
   "id": "0995285f-fb60-467e-92dd-c88c1260849a",
   "metadata": {},
   "source": [
    "Nasz `ViewModel` możemy również zaimplementować nieco inaczej."
   ]
  },
  {
   "cell_type": "code",
   "execution_count": null,
   "id": "caa2cafc-af82-4f9c-ad45-b25b3df82ec5",
   "metadata": {},
   "outputs": [],
   "source": [
    "class CounterViewModel : ViewModel() {\n",
    "    private var _composeState by mutableStateOf(0)\n",
    "    val composeState\n",
    "        get() = _composeState\n",
    "\n",
    "    fun increase(){\n",
    "        _composeState += 1\n",
    "    }\n",
    "}"
   ]
  },
  {
   "cell_type": "code",
   "execution_count": null,
   "id": "44588de5-c9e7-43e4-9566-26ec42b2ae0e",
   "metadata": {},
   "outputs": [],
   "source": [
    "class MainActivity : ComponentActivity() {\n",
    "    override fun onCreate(savedInstanceState: Bundle?) {\n",
    "        super.onCreate(savedInstanceState)\n",
    "        setContent {\n",
    "            StateFlowBasicsComposeTheme {\n",
    "\n",
    "                val viewModel: CounterViewModel = viewModel()  // tworzymy instancję viewmodel\n",
    "                val counter = viewModel.composeState\n",
    "\n",
    "                Surface(\n",
    "                    modifier = Modifier.fillMaxSize(),\n",
    "                    color = MaterialTheme.colorScheme.background\n",
    "                ) {\n",
    "                    Column(\n",
    "                        modifier = Modifier.fillMaxSize(),\n",
    "                        verticalArrangement = Arrangement.Center,\n",
    "                        horizontalAlignment = Alignment.CenterHorizontally\n",
    "                    ){\n",
    "                        Text(\n",
    "                            text = counter.toString(), // ustawiamy wartość\n",
    "                            fontSize = 56.sp,\n",
    "                            modifier = Modifier.fillMaxWidth(),\n",
    "                            textAlign = TextAlign.Center\n",
    "                        )\n",
    "                        Button(onClick = { viewModel.increase() }) { // Wywołujemy funkcję increase() po naciśnięciu przycisku\n",
    "                            Text(text = \"Increase\")\n",
    "                        }\n",
    "                    }\n",
    "                }\n",
    "            }\n",
    "        }\n",
    "    }\n",
    "}"
   ]
  },
  {
   "cell_type": "markdown",
   "id": "00159f0c-fec8-4536-b286-714eecf5d33b",
   "metadata": {},
   "source": [
    "`StateFlow` jest komponentem dostępnym w bibliotece `Kotlin Flow`. Jest to strumień wartości, który reprezentuje zmieniający się stan i informuje obserwatorów o aktualnym stanie. Jest bardziej ogólny i niezależny od biblioteki `Jetpack Compose`. Może być stosowany w dowolnym kontekście, nie tylko w połączeniu z `Jetpack Compose`.\n",
    "\n",
    "`Compose State` jest natomiast częścią biblioteki `Jetpack Compose`, która dostarcza narzędzia do zarządzania stanem w komponentach interfejsu użytkownika. Jest zoptymalizowany pod kątem integracji z `Jetpack Compose`.\n",
    "\n",
    "Kilka różnic\n",
    "- `StateFlow` wpiera operacje transformacji na strumieniach, takich jak `map`, `filter`, `reduce` itp.\n",
    "- `Flow` jest biblioteką dostępną w Kotlinie, więc klasy korzystające z `Flow`, lub `StateFlow` są łatwiejsze w użyciu. `Compose State` jest ograniczony tylko do biblioteki `Jetpack Compose`, więc jesteśmy ograniczenia do aplikacji i programów wykorzystujących tą bibliotekę - mniejsza przenośność\n",
    "- `StateFlow` oferuje nieco łatwiejsze zarządzanie *proccess death*\n",
    "\n",
    "Podsumowując, `StateFlow` jest bardziej ogólnym mechanizmem do zarządzania stanem, który można stosować w różnych kontekstach aplikacji, niezależnie od `Jetpack Compose`. `Compose State` jest specyficznym mechanizmem dostępnym w `Jetpack Compose` do zarządzania stanem w komponentach interfejsu użytkownika,"
   ]
  },
  {
   "cell_type": "code",
   "execution_count": null,
   "id": "2dc32372-3049-4564-8d62-782588c19ab5",
   "metadata": {},
   "outputs": [],
   "source": []
  }
 ],
 "metadata": {
  "kernelspec": {
   "display_name": "Kotlin",
   "language": "kotlin",
   "name": "kotlin"
  },
  "language_info": {
   "codemirror_mode": "text/x-kotlin",
   "file_extension": ".kt",
   "mimetype": "text/x-kotlin",
   "name": "kotlin",
   "nbconvert_exporter": "",
   "pygments_lexer": "kotlin",
   "version": "1.6.20-dev-6372"
  }
 },
 "nbformat": 4,
 "nbformat_minor": 5
}
