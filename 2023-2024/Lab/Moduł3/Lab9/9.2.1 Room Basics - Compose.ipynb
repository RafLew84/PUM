{
 "cells": [
  {
   "cell_type": "markdown",
   "id": "698a98f5-e375-4f31-884c-d6b309e8c624",
   "metadata": {},
   "source": [
    "# Jetpack Compose - ROOM - Podstawy"
   ]
  },
  {
   "cell_type": "markdown",
   "id": "41633f9e-c559-4446-a9d5-2f6c329b6ef0",
   "metadata": {},
   "source": [
    "W tej aplikacji przyjrzymy się zastosowaniu lokalnej bazy danych **ROOM** w aplikacji."
   ]
  },
  {
   "cell_type": "markdown",
   "id": "c86448d4-f108-4932-b94e-b84422366ef9",
   "metadata": {},
   "source": [
    "<img src=\"https://media0.giphy.com/media/v1.Y2lkPTc5MGI3NjExam82azljYWxraXAwcDM3dWk1NnowMTYwbDFqY3lzcDB1bm1uZHQxNCZlcD12MV9pbnRlcm5hbF9naWZfYnlfaWQmY3Q9Zw/wJ4PVlB2HlfUf2giVm/giphy.gif\" width=\"200\" />"
   ]
  },
  {
   "cell_type": "markdown",
   "id": "eb668072-4f18-4829-bb67-824ce949fb8d",
   "metadata": {},
   "source": [
    "`Room` jest to biblioteka dostarczona przez Android Jetpack, która ułatwia pracę z lokalną bazą danych `SQLite`. Stanowi wygodny i wydajny sposób na przechowywanie danych wewnętrznych aplikacji. `SQLite` to lekka, wbudowana baza danych, która jest szeroko stosowana w aplikacjach mobilnych i innych systemach osadzonych.\n",
    "\n",
    "Główne cechy `SQLite` to:\n",
    "- Działa jako biblioteka dostępna w postaci pliku w aplikacji, co oznacza, że nie wymaga oddzielnego procesu serwera bazy danych. Aplikacja może bezpośrednio komunikować się z bazą danych.\n",
    "- Jest samowystarczalna, co oznacza, że cała baza danych jest przechowywana w jednym pliku. Nie ma potrzeby konfigurowania lub zarządzania wieloma plikami lub zasobami.\n",
    "- Transakcje - Obsługuje transakcje, co umożliwia grupowanie operacji bazodanowych jako pojedyncze, atomowe działanie. Transakcje są ważne, gdy chodzi o utrzymanie integralności danych. Każda operacja na bazie jest wykonywana w całości lub w ogóle - jest to ważne przy modyfikowaniu wielu tabel, oraz asynchronicznym przetwarzaniu.\n",
    "- Wsparcie dla standardowego `SQL` - obsługuje większość standardowego języka `SQL`, co ułatwia programowanie i wykonywanie zapytań.\n",
    "- Jest zaprojektowany w taki sposób, aby działał wydajnie nawet na urządzeniach o ograniczonych zasobach sprzętowych.\n",
    "\n",
    "Główne składniki biblioteki `Room` to:\n",
    "- `Entity` - Reprezentuje tabelę w bazie danych `SQLite`. Każda klasa oznaczona adnotacją `@Entity` może być mapowana do jednej tabeli w bazie danych, a pola klasy odpowiadają kolumnom tej tabeli.\n",
    "- `DAO` (*Data Access Object*) - Definiuje metody, które umożliwiają dostęp do danych w bazie danych. Możemy zdefiniować interfejs `DAO` za pomocą adnotacji `@Dao`, a Room automatycznie dostarczy implementację tych metod.\n",
    "- `Database` - Klasa bazowa, która reprezentuje bazę danych. To miejsce, gdzie definiujemy wszystkie *encje*, które mają zostać użyte w aplikacji, oraz wersję bazy danych. Room tworzy implementację bazy danych opartej na tej klasie.\n",
    "\n",
    "Aplikacja będzie wyświetlać listę wszystkich użytkowników przechowywanych w bazie danych na urządzeniu. Dodamy operacje dodawania pojedynczego użytkownika oraz czyszczenia danych z bazy."
   ]
  },
  {
   "cell_type": "markdown",
   "id": "85a52a6e-cbd2-4b35-ae7a-a8554344a77a",
   "metadata": {},
   "source": [
    "Dodajmy niezbędne zależności i pluginy do plików konfiguracyjnych aplikacji\n",
    "\n",
    "```kotlin\n",
    "plugins {\n",
    "    ...\n",
    "    id 'kotlin-kapt'\n",
    "}\n",
    "...\n",
    "dependencies {\n",
    "\n",
    "    implementation \"androidx.lifecycle:lifecycle-viewmodel-compose:2.6.1\"\n",
    "    implementation \"androidx.lifecycle:lifecycle-viewmodel-ktx:2.6.1\"\n",
    "    implementation \"androidx.lifecycle:lifecycle-runtime-compose:2.6.1\"\n",
    "\n",
    "    implementation \"androidx.room:room-runtime:2.5.2\"\n",
    "    annotationProcessor \"androidx.room:room-compiler:2.5.2\"\n",
    "    kapt \"androidx.room:room-compiler:2.5.2\"\n",
    "    implementation \"androidx.room:room-ktx:2.5.2\"\n",
    "    ...\n",
    "}\n",
    "```\n",
    "\n",
    "### **UWAGA!!!**\n",
    "Istnieje nowsza wtyczka służąca do przetwarzania adnotacji - `ksp`, jednak w trakcie pisania niniejszego notatnika jest w fazie testów i jeszcze jest niestabilna. Z tego powodu w notatnikach dalej będzie wykorzystywana starsza wtyczka `kapt`. `ksp` wprowadzono w celu zastąpienia `kapt`, więc w przyszłości może być konieczna migracja, bądź powyższy blok `plugins` będzie zdezaktualizowany. Więcej informacji [tutaj](https://developer.android.com/build/migrate-to-ksp)\n",
    "\n",
    "- **KAPT (Kotlin Annotation Processing Tool)** - jest to wtyczka kompilatora używana do przetwarzania adnotacji w języku Kotlin. Współpracuje z bibliotekami, które korzystają z adnotacji do generowania kodu w czasie kompilacji. Jej głównym zadaniem jest skanowanie kodu źródłowego w poszukiwaniu adnotacji i generowanie dodatkowego kodu na podstawie ich wystąpień. Jest to szczególnie użyteczne w przypadku bibliotek, które chcą automatycznie generować kod dla określonych przypadków użycia.\n",
    "- **KSP (Kotlin Symbol Processing)** - to nowsza wtyczka kompilatora, wprowadzona w celu **zastąpienia** `kapt`. Również służy do przetwarzania adnotacji i generowania kodu w czasie kompilacji. Główną różnicą jest jednak to, że `ksp` zostało zaprojektowane z myślą o bardziej elastycznym i wydajnym API. Oferuje programistom dostęp do bardziej zaawansowanego drzewa symboli, co ułatwia przetwarzanie i analizę kodu aplikacji. Dzięki temu może działać szybciej i jest bardziej skalowalne niż starsza wersja."
   ]
  },
  {
   "cell_type": "markdown",
   "id": "7f08984f-82b7-49d8-98e6-6a1b5100a0da",
   "metadata": {},
   "source": [
    "Będziemy dodawać użytkowników, więc dodajmy obiekt pomocniczy, który ułatwi ich generowanie."
   ]
  },
  {
   "cell_type": "code",
   "execution_count": null,
   "id": "7aefe18c-2968-4c59-a628-3d3c60e05952",
   "metadata": {},
   "outputs": [],
   "source": [
    "data class User(\n",
    "    val firstName: String,\n",
    "    val lastName: String\n",
    ")"
   ]
  },
  {
   "cell_type": "code",
   "execution_count": null,
   "id": "9a1dc5ee-671b-414f-a4cd-280baa62f8b0",
   "metadata": {},
   "outputs": [],
   "source": [
    "object DataProvider {\n",
    "    private val firstNames = listOf(\n",
    "        \"Adam\", \"Ewa\", \"Jan\", \"Anna\", \"Piotr\", \"Maria\", \"Tomasz\", \"Małgorzata\", \"Krzysztof\", \"Alicja\",\n",
    "        \"Andrzej\", \"Joanna\", \"Michał\", \"Barbara\", \"Kamil\", \"Magdalena\", \"Robert\", \"Monika\", \"Mateusz\", \"Natalia\"\n",
    "    )\n",
    "\n",
    "    private val lastNames = listOf(\n",
    "        \"Nowak\", \"Kowalski\", \"Wiśniewski\", \"Wójcik\", \"Kowalczyk\", \"Kamiński\", \"Lewandowski\", \"Zieliński\", \"Szymański\",\n",
    "        \"Woźniak\", \"Dąbrowski\", \"Kozłowski\", \"Jankowski\", \"Mazur\", \"Kwiatkowski\", \"Krawczyk\", \"Piotrowski\", \"Grabowski\",\n",
    "        \"Nowakowski\", \"Pawłowski\"\n",
    "    )\n",
    "\n",
    "    val user: User\n",
    "        get() = User(firstNames.random(), lastNames.random())\n",
    "}"
   ]
  },
  {
   "cell_type": "markdown",
   "id": "18872c06-4695-4be4-986e-0b1299903e8c",
   "metadata": {},
   "source": [
    "Przy każdej próbie odczytu pola `user` zostanie wywołany *getter*, który utworzy nową instancję klasy `User`"
   ]
  },
  {
   "cell_type": "markdown",
   "id": "ae77ebc7-90ac-4863-91a9-c1852f04025b",
   "metadata": {},
   "source": [
    "## Elementy Room"
   ]
  },
  {
   "cell_type": "markdown",
   "id": "d995acad-f043-4337-884d-8fc437113d48",
   "metadata": {},
   "source": [
    "Przejdźmy do dodania wszystkich elementów bazy danych, rozpoczniemi od `Entity`. Zmodyfikujmy wcześniej dodaną klasę `User`."
   ]
  },
  {
   "cell_type": "code",
   "execution_count": null,
   "id": "df5fd6f1-ba04-4136-9222-804a3117b28a",
   "metadata": {},
   "outputs": [],
   "source": [
    "@Entity(tableName = \"user_table\")\n",
    "data class User(\n",
    "    @PrimaryKey(autoGenerate = true) val id: Int,\n",
    "    val firstName: String,\n",
    "    val lastName: String\n",
    ")"
   ]
  },
  {
   "cell_type": "markdown",
   "id": "3dab1b58-4cc5-4938-ab42-f64780be2d10",
   "metadata": {},
   "source": [
    "- `@Entity(tableName = \"user_table\")` - Adnotacja `@Entity` jest używana do oznaczenia klasy jako *encji* bazy danych. Oznacza to, że obiekty tej klasy będą reprezentować wiersze w tabeli bazy danych. `tableName` to atrybut adnotacji `@Entity`, który definiuje nazwę tabeli, do której będą mapowane obiekty tej klasy. W tym przypadku tabela będzie miała nazwę `\"user_table\"`.\n",
    "- `@PrimaryKey(autoGenerate = true) val id: Int` - Adnotacja `@PrimaryKey` informuje, że pole `id` będzie kluczem głównym tabeli. W bazie danych, pole oznaczone jako klucz główny musi być unikatowe dla każdego wiersza. `autoGenerate = true` oznacza, że wartość klucza będzie generowana automatycznie przy dodawaniu nowego rekordu do tabeli.\n",
    "\n",
    "Adnotacja `@Entity` może posiadać szereg innych atrybutów:\n",
    "- `indices` - Pozwala na zdefiniowanie indeksów dla jednego lub wielu pól w tabeli. Indeksy pomagają w przyspieszeniu wyszukiwania danych w bazie danych.\n",
    "```kotlin\n",
    "@Entity(tableName = \"user_table\", indices = [Index(value = [\"firstName\", \"lastName\"])])\n",
    "data class User(\n",
    "    // ...\n",
    ")\n",
    "```\n",
    "- `foreignKeys` - Pozwala na zdefiniowanie kluczy obcych w tabeli. Określa relacje między tabelą bieżącą a innymi tabelami w bazie danych.\n",
    "```kotlin\n",
    "@Entity(\n",
    "    tableName = \"order_table\",\n",
    "    foreignKeys = [\n",
    "        ForeignKey(\n",
    "            entity = User::class,\n",
    "            parentColumns = [\"id\"],\n",
    "            childColumns = [\"user_id\"],\n",
    "            onDelete = ForeignKey.CASCADE\n",
    "        )\n",
    "    ]\n",
    ")\n",
    "data class Order(\n",
    "    // ...\n",
    "    val user_id: Int\n",
    ")\n",
    "```\n",
    "- `primaryKeys` - Pozwala na zdefiniowanie niestandardowego zestawu pól jako kluczy głównych tabeli.\n",
    "```kotlin\n",
    "@Entity(tableName = \"book_table\", primaryKeys = [\"isbn\", \"title\"])\n",
    "data class Book(\n",
    "    val isbn: String,\n",
    "    val title: String,\n",
    "    // ...\n",
    ")\n",
    "```\n",
    "- `ignoredColumns` - Pozwala na zdefiniowanie pól, które będą ignorowane przez `Room` i nie będą mapowane do tabeli w bazie danych.\n",
    "```kotlin\n",
    "@Entity(tableName = \"user_table\", ignoredColumns = [\"age\"])\n",
    "data class User(\n",
    "    val firstName: String,\n",
    "    val lastName: String,\n",
    "    val age: Int // ignorowane\n",
    "    // ...\n",
    ")\n",
    "```"
   ]
  },
  {
   "cell_type": "markdown",
   "id": "73663b27-b729-412f-a2dc-613d22b46587",
   "metadata": {},
   "source": [
    "Kolejnym elementem będzie dodanie interfejsu `DAO`"
   ]
  },
  {
   "cell_type": "code",
   "execution_count": null,
   "id": "467466aa-d8f8-43e2-b3cb-7468b70b6e66",
   "metadata": {},
   "outputs": [],
   "source": [
    "@Dao\n",
    "interface UserDao {\n",
    "    @Query(\"SELECT * FROM user_table ORDER BY lastName ASC, firstName ASC\")\n",
    "    fun getUsers(): Flow<List<User>>\n",
    "\n",
    "    @Insert(onConflict = OnConflictStrategy.IGNORE)\n",
    "    suspend fun insert(user: User)\n",
    "\n",
    "    @Query(\"DELETE FROM user_table\")\n",
    "    suspend fun deleteAll()\n",
    "}"
   ]
  },
  {
   "cell_type": "markdown",
   "id": "aa2120a2-8eb5-48d4-8f1b-b4f6a0cc9b1a",
   "metadata": {},
   "source": [
    "Interfejs `DAO` zawiera deklaracje metod, które pozwalają na interakcję z bazą danych i wykonywanie operacji.\n",
    "\n",
    "- `@Query(\"SELECT * FROM user_table ORDER BY lastName ASC, firstName ASC\")` - Jest to metoda do pobierania użytkowników z bazy danych. Zapytanie `SQL` `SELECT * FROM user_table ORDER BY lastName ASC, firstName ASC` wybiera wszystkie kolumny z tabeli `\"user_table\"` i sortuje wyniki według kolumny `lastName` rosnąco, a następnie według kolumny `firstName` rosnąco. Ta metoda zwraca dane jako `Flow<List<User>>`, co oznacza, że może przesyłać nowe wyniki w czasie rzeczywistym (np. gdy dane się zmienią).\n",
    "- `@Insert(onConflict = OnConflictStrategy.IGNORE)` - Jest to metoda do dodawania użytkownika do bazy danych. Adnotacja `@Insert` oznacza, że ta metoda jest używana do wstawiania danych do tabeli. Atrybut `onConflict = OnConflictStrategy.IGNORE` oznacza, że jeśli próba wstawienia użytkownika zakończy się konfliktem (np. duplikatem klucza głównego), zostanie zignorowana.\n",
    "- `@Query(\"DELETE FROM user_table\")` - Jest to metoda do usuwania wszystkich użytkowników z bazy danych. Zapytanie `SQL` `DELETE FROM user_table` usuwa wszystkie wiersze z tabeli `\"user_table\"` i czyszczenie jej zawartości.\n",
    "\n",
    "- `@Insert` - specjalna adnotacja, która nie wymaga podawania wprost kodu `SQL` - istanieją jeszcze `@Delete` oraz `@Update` - mocno ułatwia to wykonywanie podstawowych operacji na bazie. Adnotacja `@Query` wymaga podania pełnego zapytania `SQL` jako `String`\n",
    "\n",
    "Lista niektórych adnotacji, które można wykorzystać:\n",
    "- `@Update` - służy do aktualizacji danych w bazie danych. Metody oznaczone tą adnotacją muszą przyjmować jako argumenty obiekty klas, które reprezentują wiersze w tabeli. `Room` automatycznie wygeneruje odpowiednie zapytania `SQL` do zaktualizowania tych danych.\n",
    "```kotlin\n",
    "@Dao\n",
    "interface UserDao {\n",
    "    // ...\n",
    "\n",
    "    @Update\n",
    "    suspend fun update(user: User)\n",
    "\n",
    "    // ...\n",
    "}\n",
    "```\n",
    "- `@Delete` - jest używana do usuwania danych z bazy danych. Metody oznaczone tą adnotacją powinny przyjmować jako argumenty obiekty klas reprezentujących wiersze, które mają zostać usunięte.\n",
    "```kotlin\n",
    "@Dao\n",
    "interface UserDao {\n",
    "    // ...\n",
    "\n",
    "    @Delete\n",
    "    suspend fun delete(user: User)\n",
    "\n",
    "    // ...\n",
    "}\n",
    "```\n",
    "- `@Query` - pozwala na definiowanie własnych zapytań `SQL`.\n",
    "```kotlin\n",
    "@Dao\n",
    "interface UserDao {\n",
    "    // ...\n",
    "\n",
    "    @Query(\"SELECT * FROM user_table WHERE firstName = :firstName\") // zwraca listę wszystkich użytkowników gdzie pole w bazie (firstName) \n",
    "                                                                    // jest równe argumentowi przekazanemu w funkcji (:firstName)\n",
    "    fun getUsersByFirstName(firstName: String): List<User>\n",
    "\n",
    "    // ...\n",
    "}\n",
    "```\n",
    "- `@RawQuery` - pozwala na wykonywanie niezdefiniowanych z góry zapytań `SQL`, które można przekazać jako argument typu `SupportSQLiteQuery`.\n",
    "```kotlin\n",
    "@Dao\n",
    "interface UserDao {\n",
    "    // ...\n",
    "\n",
    "    @RawQuery\n",
    "    fun getUsersByRawQuery(query: SupportSQLiteQuery): List<User>\n",
    "\n",
    "    // ...\n",
    "}\n",
    "```\n",
    "- `@Transaction` - używana jest do oznaczenia metod, które wymagają wykonania kilku metod w transakcji. Transakcje pozwalają na wykonywanie zestawu operacji jako pojedynczą, atomową operację - albo transakcja jest wykonana w pełni, albo wcale.\n",
    "```kotlin\n",
    "@Dao\n",
    "interface UserDao {\n",
    "    // ...\n",
    "\n",
    "    @Transaction\n",
    "    suspend fun insertAndUpdate(user: User, updatedUser: User) {\n",
    "        insert(user)\n",
    "        update(updatedUser)\n",
    "    }\n",
    "\n",
    "    // ...\n",
    "}\n",
    "```"
   ]
  },
  {
   "cell_type": "markdown",
   "id": "9c5e5714-f465-47d0-a7b0-d8fec89d5051",
   "metadata": {},
   "source": [
    "Nie implementujemy metod tego interfejsu, ponieważ to `Room` automatycznie generuje implementacje tych metod w czasie kompilacji. Koncepcja ta nazywa się *automatyczną implementacją*.\n",
    "\n",
    "`Room` wykorzystuje mechanizm **Proxy** w języku Kotlin (lub **Refleksję** w języku Java), aby analizować interfejs `DAO` i generować kod `SQL` oraz operacje na bazie danych zgodnie z adnotacjami i deklaracjami metod. Dzięki temu nie musimy ręcznie implementować tych metod i zapytań."
   ]
  },
  {
   "cell_type": "markdown",
   "id": "afee6624-1468-4493-bcb2-202703ce5848",
   "metadata": {},
   "source": [
    "Ostatnim elementem będzie utworzenie klasy bazowej."
   ]
  },
  {
   "cell_type": "code",
   "execution_count": null,
   "id": "e28fb063-1bd9-4b7a-a7e8-64e375a5f467",
   "metadata": {},
   "outputs": [],
   "source": [
    "@Database(entities = [User::class], version = 1, exportSchema = false)\n",
    "abstract class UserDatabase : RoomDatabase() {\n",
    "    abstract fun userDao(): UserDao\n",
    "\n",
    "    companion object {\n",
    "        @Volatile\n",
    "        private var Instance: UserDatabase? = null\n",
    "\n",
    "        fun getDatabase(context: Context): UserDatabase {\n",
    "            return Instance ?: synchronized(this) {\n",
    "                Room.databaseBuilder(context, UserDatabase::class.java, \"user_database\")\n",
    "                    .build()\n",
    "                    .also { Instance = it }\n",
    "            }\n",
    "        }\n",
    "    }\n",
    "}"
   ]
  },
  {
   "cell_type": "markdown",
   "id": "fd4e43cd-2acd-4f10-a7f3-ad5990afd836",
   "metadata": {},
   "source": [
    "Klasa ta reprezentuje bazę danych dla aplikacji, która zawiera tylko jedną tabelę `User`. Wykorzystuje wzorzec **Singleton** i synchronizację w celu zapewnienia, że baza danych będzie miała tylko jedną instancję w całej aplikacji.\n",
    "\n",
    "- `@Database(entities = [User::class], version = 1, exportSchema = false)` - Adnotacja `@Database` jest używana do oznaczenia klasy `UserDatabase` jako bazowej klasy bazy danych `Room`.\n",
    "    - `entities` definiuje tablicę klas encji, które będą zawarte w tej bazie danych. \n",
    "    - `version` definiuje numer wersji bazy danych.\n",
    "    - `exportSchema` określa, czy `Room` ma eksportować schemat bazy danych do pliku na urządzeniu. W tym przypadku jest ustawiony na false - migracje bazy są poza zakresem przedmiotu.\n",
    "- `abstract fun userDao(): UserDao` - Jest to deklaracja abstrakcyjnej metody, która zwraca obiekt o typie interfejsu `UserDao`. Ta metoda będzie używana do uzyskania dostępu do operacji bazodanowych związanych z encją `User`. Jest metodą abstrakcyjną, ponieważ nie ma zdefiniowanej implementacji. Faktyczna implementacja tej metody jest generowana automatycznie przez `Room` w czasie kompilacji.\n",
    "- `@Volatile private var Instance: UserDatabase? = null` - Zmienna `Instance` jest oznaczona jako `volatile`, co zapewnia, że jej wartość jest zawsze widoczna dla innych wątków.\n",
    "- `fun getDatabase(context: Context): UserDatabase` - Jest to metoda fabryczna, która tworzy lub zwraca istniejącą instancję bazy danych. Jeśli instancja bazy danych już istnieje, zostanie zwrócona; w przeciwnym razie zostanie utworzona za pomocą `Room.databaseBuilder()`.\n",
    "- `Room.databaseBuilder()` używa `context` aplikacji, klasy `UserDatabase` oraz nazwy bazy danych (`\"user_database\"`) do skonfigurowania i zbudowania instancji `UserDatabase`. \n",
    "- `Metoda synchronized()` jest używana do synchronizacji dostępu do kodu, co zapewnia, że tylko jeden wątek może uzyskać dostęp do tej sekcji jednocześnie."
   ]
  },
  {
   "cell_type": "markdown",
   "id": "de45675d-c5c9-4617-8b26-f1f8258305fe",
   "metadata": {},
   "source": [
    "## ViewModel"
   ]
  },
  {
   "cell_type": "markdown",
   "id": "ece6c4d2-32a1-46de-9a55-e5aad106cf43",
   "metadata": {},
   "source": [
    "Przejdźmy do utworzenia klasy `UserViewModel`, ponieważ `UserDatabase` wymaga podania kontekstu aplikacji, przekażemy go przez konstruktor. Jest to problem, ponieważ `ViewModel` nie przyjmuje żadnych parametrów, aby to zmienić musimy zaimplementować własną fabrykę."
   ]
  },
  {
   "cell_type": "code",
   "execution_count": null,
   "id": "9e06016f-a664-4996-a607-1165f0168690",
   "metadata": {},
   "outputs": [],
   "source": [
    "class UserViewModelFactory(val application: Application) :\n",
    "    ViewModelProvider.Factory {\n",
    "    override fun <T : ViewModel> create(modelClass: Class<T>): T {\n",
    "        return UserViewModel(application) as T\n",
    "    }\n",
    "}"
   ]
  },
  {
   "cell_type": "markdown",
   "id": "90c67c82-fa04-472d-b057-ae9782f998dc",
   "metadata": {},
   "source": [
    "- `val application: Application` - Jest to pole przechowujące obiekt klasy Application, który jest dostępny w całej aplikacji i reprezentuje kontekst aplikacji. Przekazywanie obiektu `Application` do `UserViewModelFactory` pozwala na jego wykorzystanie do tworzenia instancji `UserViewModel`, a w efekcie do utworzenia instancji `UserDatabase`.\n",
    "- `ViewModelProvider.Factory` - Jest to interfejs, który definiuje metodę `create`, która jest odpowiedzialna za tworzenie instancji `ViewModel`. W praktyce, korzystając z `ViewModelProvider` i `ViewModelProvider.Factory`, możemy przekazywać dodatkowe argumenty do `ViewModel`'ów, które są wymagane do ich konstrukcji (na przykład obiekt bazy danych, repozytorium, inny ViewModel itp.).\n",
    "- `override fun <T : ViewModel> create(modelClass: Class<T>): T` Jest to metoda, która tworzy i zwraca instancję `ViewModel`. Parametr `modelClass` wskazuje na klasę `ViewModel`, który ma być utworzony.\n",
    "- `return UserViewModel(application) as T` Jest to instrukcja, która tworzy instancję `UserViewModel` i zwraca ją jako obiekt typu `T`. `T` jest typem dziedziczącym z `ViewModel`, więc rzutujemy `UserViewModel` na `T`."
   ]
  },
  {
   "cell_type": "markdown",
   "id": "9a338a97-7436-4f35-af2c-bba5717a5f89",
   "metadata": {},
   "source": [
    "Następnie utwórzmy właściwy `UserViewModel`"
   ]
  },
  {
   "cell_type": "code",
   "execution_count": null,
   "id": "9e643060-e3a1-40a6-9b8d-9b6fd1999b12",
   "metadata": {},
   "outputs": [],
   "source": [
    "class UserViewModel(application: Application) : ViewModel() {\n",
    "\n",
    "    private val repository: UserRepository\n",
    "    private val _usersState = MutableStateFlow<List<User>>(emptyList())\n",
    "    val usersState: StateFlow<List<User>>\n",
    "        get() = _usersState\n",
    "\n",
    "    init {\n",
    "        val db = UserDatabase.getDatabase(application)\n",
    "        val dao = db.userDao()\n",
    "        repository = UserRepository(dao)\n",
    "\n",
    "        fetchUsers()\n",
    "    }\n",
    "\n",
    "    private fun fetchUsers() {\n",
    "        viewModelScope.launch {\n",
    "            repository.getUsers().collect { users ->\n",
    "                _usersState.value = users\n",
    "            }\n",
    "        }\n",
    "    }\n",
    "\n",
    "    fun clearUsers() {\n",
    "        viewModelScope.launch {\n",
    "            repository.clear()\n",
    "        }\n",
    "    }\n",
    "\n",
    "    fun addUser(user: User) {\n",
    "        viewModelScope.launch {\n",
    "            repository.add(user)\n",
    "        }\n",
    "    }\n",
    "}"
   ]
  },
  {
   "cell_type": "markdown",
   "id": "92db1b84-e18b-47ef-a6f3-899d897958c9",
   "metadata": {},
   "source": [
    "- `init { ... }` blok inicjalizacyjny, który wykonuje kod podczas tworzenia instancji `UserViewModel`. W tym przypadku, następuje utworzenie instancji `UserDatabase`, uzyskanie `DAO` z bazy danych, a także utworzenie i zainicjowanie repozytorium `UserRepository`. Pozostałe elementy są znane z poprzednich przykładów."
   ]
  },
  {
   "cell_type": "markdown",
   "id": "e32b9c1f-5bc0-4db3-bdfe-71e8d05d9c98",
   "metadata": {},
   "source": [
    "### **UWAGA!!!**\n",
    "Tego typu tworzenie obiektów `UserDatabase` i `UserRepository` jest problematyczne - w ostatnim module zapoznamy się z techniką wstrzykiwania zależności (*dependency injection*), która pozwoli nam rozwiązać ten problem."
   ]
  },
  {
   "cell_type": "markdown",
   "id": "27622098-b8e4-44d5-8afd-9cc8da79aa62",
   "metadata": {},
   "source": [
    "## ui"
   ]
  },
  {
   "cell_type": "markdown",
   "id": "370ed0e6-e13d-40ce-8783-e8a692a6546a",
   "metadata": {},
   "source": [
    "Dodajmy funckję renderującą ekran główny aplikacji."
   ]
  },
  {
   "cell_type": "code",
   "execution_count": null,
   "id": "7ec0d897-8f66-443d-92cc-5c054ff1daf5",
   "metadata": {},
   "outputs": [],
   "source": [
    "@Composable\n",
    "fun MainScreen(){\n",
    "\n",
    "    val viewModel: UserViewModel = viewModel(\n",
    "        LocalViewModelStoreOwner.current!!,\n",
    "        \"UserViewModel\",\n",
    "        UserViewModelFactory(LocalContext.current.applicationContext as Application)\n",
    "    )\n",
    "    val users by viewModel.usersState.collectAsStateWithLifecycle()\n",
    "\n",
    "    Column(modifier = Modifier.fillMaxSize()) {\n",
    "        LazyColumn(\n",
    "            modifier = Modifier.fillMaxWidth().weight(0.7f)\n",
    "        ) {\n",
    "            items(users.size) {\n",
    "                Text(\n",
    "                    text = \"${users[it].firstName} ${users[it].lastName}\",\n",
    "                    fontSize = 32.sp,\n",
    "                    textAlign = TextAlign.Center,\n",
    "                    modifier = Modifier\n",
    "                        .fillMaxWidth()\n",
    "                        .padding(2.dp)\n",
    "                )\n",
    "            }\n",
    "        }\n",
    "\n",
    "        Button(\n",
    "            onClick = { viewModel.addUser(DataProvider.user) },\n",
    "            modifier = Modifier.fillMaxWidth().padding(4.dp)\n",
    "        ) {\n",
    "            Text(text = \"ADD\")\n",
    "        }\n",
    "\n",
    "        Button(\n",
    "            onClick = { viewModel.clearUsers() },\n",
    "            modifier = Modifier.fillMaxWidth().padding(4.dp)\n",
    "        ) {\n",
    "            Text(text = \"CLEAR\")\n",
    "        }\n",
    "    }\n",
    "}"
   ]
  },
  {
   "cell_type": "markdown",
   "id": "a5d740dc-6041-4351-9140-6e3aecc8ada5",
   "metadata": {},
   "source": [
    "W powyższym kodzie jedynym nowym elementem jest uzyskanie instancji `UserViewModel`"
   ]
  },
  {
   "cell_type": "code",
   "execution_count": null,
   "id": "e57ce916-bdcd-465c-9c59-1deb524abce7",
   "metadata": {},
   "outputs": [],
   "source": [
    "val viewModel: UserViewModel = viewModel(\n",
    "    LocalViewModelStoreOwner.current!!,\n",
    "    \"UserViewModel\",\n",
    "    UserViewModelFactory(LocalContext.current.applicationContext as Application)\n",
    ")"
   ]
  },
  {
   "cell_type": "markdown",
   "id": "7f9a6183-3f56-479d-9120-55ad5e0749b4",
   "metadata": {},
   "source": [
    "Chcemy skorzystać z zaimplementowanej wcześniej fabryki - funkcja `viewModel` przyjmuje kilka argumentów:\n",
    "\n",
    "- viewModelStoreOwner: ViewModelStoreOwner - Parametr określa właściciela `ViewModelStore`, do którego `ViewModel` będzie przywiązany. `ViewModelStore` to miejsce przechowywania `ViewModel` i ich stanu między rekompozycjami.\n",
    "- `key: String` - Jest unikalnym kluczem, który identyfikuje `ViewModel` wewnątrz `ViewModelStore`.\n",
    "- `factory: () -> T` - Tworzy instancję ViewModelu. Jest to sposób na odroczenie tworzenia `ViewModel` do momentu, gdy jest rzeczywiście potrzebny. Funkcja `factory` nie przyjmuje żadnych argumentów i zwraca instancję `ViewModel` (`T`). Gdy `viewModel()` jest wywoływane w środowisku `Compose`, funkcja `factory` zostanie wykonana tylko raz i instancja `ViewModel` będzie przechowywana i dostępna do ponownego użycia między rekompozycjami.\n",
    "\n",
    "Przekazane parametry:\n",
    "- `LocalViewModelStoreOwner.current!!` - `LocalViewModelStoreOwner` to zmienna lokalna, która dostarcza obiekt `ViewModelStoreOwner`. W tym przypadku wykorzystujemy `LocalViewModelStoreOwner.current!!`, co oznacza, że `ViewModel` jest przywiązany do bieżącego właściciela `ViewModelStoreOwner` w drzewie `Compose`.\n",
    "- `\"UserViewModel\"` - Jest to unikatowy klucz, który identyfikuje `ViewModel` w `ViewModelStore`.\n",
    "- `UserViewModelFactory(LocalContext.current.applicationContext as Application)` - Jest to instancja `UserViewModelFactory`, która dostarcza zależność (`Application`). W ten sposób `UserViewModel` może uzyskać dostęp do kontekstu aplikacji, co jest niezbędne do uzyskania instancji bazy danych."
   ]
  },
  {
   "cell_type": "markdown",
   "id": "069f137a-3dd0-4f2b-8242-182d282279f3",
   "metadata": {},
   "source": [
    "Funkcję wywołujemy w aktywności głównej aplikacji."
   ]
  },
  {
   "cell_type": "code",
   "execution_count": null,
   "id": "888102a1-d8fd-4d54-860f-986f854c0bfb",
   "metadata": {},
   "outputs": [],
   "source": [
    "class MainActivity : ComponentActivity() {\n",
    "    override fun onCreate(savedInstanceState: Bundle?) {\n",
    "        super.onCreate(savedInstanceState)\n",
    "        setContent {\n",
    "            ROOMBasicsComposeTheme {\n",
    "                // A surface container using the 'background' color from the theme\n",
    "                Surface(\n",
    "                    modifier = Modifier.fillMaxSize(),\n",
    "                    color = MaterialTheme.colorScheme.background\n",
    "                ) {\n",
    "                    MainScreen()\n",
    "                }\n",
    "            }\n",
    "        }\n",
    "    }\n",
    "}"
   ]
  },
  {
   "cell_type": "markdown",
   "id": "cc659fc6-0857-4223-a32e-adbf26ea106b",
   "metadata": {},
   "source": [
    "Możemy przetestować aplikacjię."
   ]
  },
  {
   "cell_type": "markdown",
   "id": "6d737234-5402-4e9a-aaab-4546e18b0d66",
   "metadata": {},
   "source": [
    "<img src=\"https://media0.giphy.com/media/v1.Y2lkPTc5MGI3NjExam82azljYWxraXAwcDM3dWk1NnowMTYwbDFqY3lzcDB1bm1uZHQxNCZlcD12MV9pbnRlcm5hbF9naWZfYnlfaWQmY3Q9Zw/wJ4PVlB2HlfUf2giVm/giphy.gif\" width=\"200\" />"
   ]
  }
 ],
 "metadata": {
  "kernelspec": {
   "display_name": "Kotlin",
   "language": "kotlin",
   "name": "kotlin"
  },
  "language_info": {
   "codemirror_mode": "text/x-kotlin",
   "file_extension": ".kt",
   "mimetype": "text/x-kotlin",
   "name": "kotlin",
   "nbconvert_exporter": "",
   "pygments_lexer": "kotlin",
   "version": "1.8.0-RC"
  }
 },
 "nbformat": 4,
 "nbformat_minor": 5
}
