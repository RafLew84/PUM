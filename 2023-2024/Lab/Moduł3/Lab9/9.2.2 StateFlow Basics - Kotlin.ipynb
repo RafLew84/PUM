{
 "cells": [
  {
   "cell_type": "markdown",
   "id": "87405a7b-acf8-4361-91d0-0670e9a776ba",
   "metadata": {},
   "source": [
    "# StateFlow - Podstawy"
   ]
  },
  {
   "cell_type": "markdown",
   "id": "29f5df8e-1777-4e5e-a8b4-11b712f22ff4",
   "metadata": {},
   "source": [
    "W tej aplikacji przyjrzymy się zastosowaniu `StateFlow`."
   ]
  },
  {
   "cell_type": "markdown",
   "id": "aab310ac-809e-4422-a8d7-7ca5cad11274",
   "metadata": {},
   "source": [
    "<img src=\"https://media0.giphy.com/media/v1.Y2lkPTc5MGI3NjExcGszZTlwNm5rMDlkdmU3d3FqY21mY2dzMno1cHM5NTM2aHVrcGd5MyZlcD12MV9pbnRlcm5hbF9naWZfYnlfaWQmY3Q9Zw/6jHVl7R4F1qkoDXK1R/giphy.gif\" width=\"200\" />"
   ]
  },
  {
   "cell_type": "markdown",
   "id": "29cf32c8-81b1-45e7-b3da-e221ddd28f73",
   "metadata": {},
   "source": [
    "`StateFlow` rozszerza funkcjonalność strumieni `Flow` poprzez wprowadzenie pojęcia stanu (*state*). Jest to strumień, który reprezentuje zmieniający się stan i informuje obserwatorów o jego aktualnym stanie.\n",
    "\n",
    "Główne cechy StateFlow:\n",
    "- Stan: `StateFlow` przechowuje aktualny stan jako niezmienną wartość. Kiedy stan ulega zmianie, nowa wartość jest emitowana do obserwatorów.\n",
    "- Emitowanie i odbieranie: `StateFlow` emituje wartości stanu i umożliwia ich odbieranie przez obserwatorów. Obserwatorzy są automatycznie informowani o aktualizacjach stanu."
   ]
  },
  {
   "cell_type": "markdown",
   "id": "17eaa862-e073-43cf-8802-40c50fa77f5d",
   "metadata": {},
   "source": [
    "`StateFlow` jest gorącym strumieniem (*hot stream*), co oznacza że emitowanie wartości odbywa się niezależnie od subskrypcji - może emitować wartości nawet wtedy, gdy nie ma aktywnych odbiorców. Nowi odbiorcy, którzy dołączają do strumienia, otrzymują **aktualną wartość stanu** oraz kolejne emitowane wartości.\n",
    "\n",
    "Jest to zasadnicza różnica między `StateFlow` a `Flow` (cold stream). W przypadku zimnego strumienia, emisja wartości rozpoczyna się dopiero po subskrypcji przez odbiorców."
   ]
  },
  {
   "cell_type": "markdown",
   "id": "1ea2c382-03e7-4950-90be-e4bae751a972",
   "metadata": {},
   "source": [
    "Nasza aplikacja będzie prostym licznikiem, w którym po przyciśnięciu przycisku zmienimy wartość `StateFlow` i zwiększymy stan licznika."
   ]
  },
  {
   "cell_type": "markdown",
   "id": "92776be1-150f-4405-923f-1c255fe28c3a",
   "metadata": {},
   "source": [
    "Rozpocznijmy od zaimplementowania `CounterViewModel`"
   ]
  },
  {
   "cell_type": "code",
   "execution_count": null,
   "id": "6cdea8b2-df2e-4aa1-bf1d-167b1ea318be",
   "metadata": {},
   "outputs": [],
   "source": [
    "class CounterViewModel : ViewModel() {\n",
    "\n",
    "    private val _stateFlow = MutableStateFlow(0)\n",
    "    val stateFlow = _stateFlow.asStateFlow()\n",
    "\n",
    "    fun increase(){\n",
    "        _stateFlow.value += 1\n",
    "    }\n",
    "}"
   ]
  },
  {
   "cell_type": "markdown",
   "id": "4b5c8dad-d429-42fa-85c8-db24c12d34a2",
   "metadata": {},
   "source": [
    "- `private val _stateFlow = MutableStateFlow(0)` - `MutableStateFlow` jest używane do przechowywania i emitowania zmieniającego się stanu - inicjujemy wartością 0\n",
    "- `val stateFlow = _stateFlow.asStateFlow()` - Tworzy publiczne, tylko do odczytu `StateFlow` poprzez konwersję `MutableStateFlow` na `StateFlow` wykorzystując metofę `asStateFlow()`. `StateFlow` to niemutowalny strumień wartości, który można subskrybować i odczytywać.\n",
    "- `fun increase() { _stateFlow.value += 1 }` - Zwiększa wartość `_stateFlow.value` o 1. Zmiana wartości `_stateFlow.value` spowoduje automatyczną emisję nowej wartości do subskrybentów."
   ]
  },
  {
   "cell_type": "markdown",
   "id": "358dfa79-5951-467a-b010-675325afbe88",
   "metadata": {},
   "source": [
    "Zaimplementujmy ui, oraz dodajmy fragment go jako subskrybenta `stateFlow` - implementacja jest niemal identyczna jak w przypadku `Flow`"
   ]
  },
  {
   "cell_type": "code",
   "execution_count": null,
   "id": "32846fd6-eaf2-4c20-86ae-b6337d74277d",
   "metadata": {},
   "outputs": [],
   "source": [
    "viewLifecycleOwner.lifecycleScope.launch {\n",
    "    viewLifecycleOwner.repeatOnLifecycle(Lifecycle.State.STARTED){\n",
    "        viewModel.stateFlow.collectLatest{ counter ->\n",
    "            binding.counterText.text = counter.toString()\n",
    "        }\n",
    "    }\n",
    "}\n",
    "\n",
    "binding.increaseButton.setOnClickListener {\n",
    "    viewModel.increase()\n",
    "}"
   ]
  },
  {
   "cell_type": "markdown",
   "id": "d625a04f-8a21-4abd-8e2c-4882c50ddada",
   "metadata": {},
   "source": [
    "Różnicą jest zastosowanie funkcji `collectLatest`.  Metoda działa podobnie do `collect`, ale z jedną różnicą. Jeśli w trakcie przetwarzania emitowanych wartości pojawi się kolejna wartość, zostanie przerwane przetwarzanie bieżącej wartości i rozpocznie przetwarzanie nowej wartości. Oznacza to, że tylko ostatnia wartość emitowana w danym okresie jest przetwarzana, a poprzednie wartości są pomijane."
   ]
  },
  {
   "cell_type": "markdown",
   "id": "3dc6e015-6511-4b4c-9acf-afd8f0224781",
   "metadata": {},
   "source": [
    "Możemy przetestować aplikację"
   ]
  },
  {
   "cell_type": "markdown",
   "id": "3fa6170b-a276-47f8-98d5-023ca4eab4b8",
   "metadata": {},
   "source": [
    "<img src=\"https://media0.giphy.com/media/v1.Y2lkPTc5MGI3NjExcGszZTlwNm5rMDlkdmU3d3FqY21mY2dzMno1cHM5NTM2aHVrcGd5MyZlcD12MV9pbnRlcm5hbF9naWZfYnlfaWQmY3Q9Zw/6jHVl7R4F1qkoDXK1R/giphy.gif\" width=\"200\" />"
   ]
  }
 ],
 "metadata": {
  "kernelspec": {
   "display_name": "Kotlin",
   "language": "kotlin",
   "name": "kotlin"
  },
  "language_info": {
   "codemirror_mode": "text/x-kotlin",
   "file_extension": ".kt",
   "mimetype": "text/x-kotlin",
   "name": "kotlin",
   "nbconvert_exporter": "",
   "pygments_lexer": "kotlin",
   "version": "1.6.20-dev-6372"
  }
 },
 "nbformat": 4,
 "nbformat_minor": 5
}
