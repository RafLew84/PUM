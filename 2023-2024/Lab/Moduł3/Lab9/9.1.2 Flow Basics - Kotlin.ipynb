{
 "cells": [
  {
   "cell_type": "markdown",
   "id": "cc6686b6-71f1-4c30-9514-ac61379d5300",
   "metadata": {},
   "source": [
    "# Flow - Podstawy"
   ]
  },
  {
   "cell_type": "markdown",
   "id": "0ff9cc91-5e5b-4aff-a405-c290dbbd387f",
   "metadata": {},
   "source": [
    "W tej aplikacji przyjrzymy się zastosowaniu `Flow`."
   ]
  },
  {
   "cell_type": "markdown",
   "id": "1d6eebe6-75bf-440e-b723-f6a71b635693",
   "metadata": {},
   "source": [
    "<img src=\"https://media1.giphy.com/media/v1.Y2lkPTc5MGI3NjExbHdhamV6bDFidmNvMmVmc250eWxuYTJ6aWMxOGljZGZocmxxczRuOSZlcD12MV9pbnRlcm5hbF9naWZfYnlfaWQmY3Q9Zw/xuvbEBtBvw4PMnDOwS/giphy.gif\" width=\"200\" />"
   ]
  },
  {
   "cell_type": "markdown",
   "id": "4d819323-6017-4e90-a4e9-61c9120cebbd",
   "metadata": {},
   "source": [
    "`Flow` umożliwia asynchroniczne przetwarzanie sekwencji wartości, które mogą być emitowane asynchronicznie i odbierane w reaktywny sposób. Dzięki temu można implementować strumienie danych, obsługiwać opóźnienia, operacje na wielu wartościach oraz obsługiwać błędy i anulowanie strumienia.\n",
    "\n",
    "Strumienie danych (ang. *data streams*) to sekwencje wartości lub zdarzeń, które są emitowane w określonym czasie lub w odpowiedzi na różne zdarzenia. Strumienie danych mogą być dynamicznie aktualizowane i przetwarzane.\n",
    "\n",
    "Główne cechy strumieni danych to:\n",
    "- Emitowanie wartości: Strumienie danych mogą emitować wartości w czasie, jedną po drugiej. Emitowanie wartości może być synchroniczne lub asynchroniczne. \n",
    "- Reaktywne odbieranie: Odbiorcy strumienia mogą reagować na emitowane wartości, podejmując odpowiednie działania. Odbieranie może odbywać się w czasie rzeczywistym lub w reakcji na określone zdarzenia.\n",
    "- Przetwarzanie strumienia: Strumienie danych mogą być przetwarzane i transformowane za pomocą różnych operacji, takich jak filtrowanie, mapowanie, łączenie, grupowanie itp.\n",
    "- Obsługa błędów i anulowanie: Strumienie danych mogą obsługiwać sytuacje błędne i obsługiwać anulowanie strumienia w dowolnym momencie."
   ]
  },
  {
   "cell_type": "markdown",
   "id": "849a28c3-dde6-4368-b174-3e38e0528855",
   "metadata": {},
   "source": [
    "W naszej aplikacji utworzymy listę danych (*dummy data*). Będziemy posiadać jedno pole `Text`, w którym wyświetlimy każdy kolejny element listy co 0,5 sekundy.\n",
    "\n",
    "Rozpocznijmy od dodania danych."
   ]
  },
  {
   "cell_type": "code",
   "execution_count": null,
   "id": "4454a9eb-bb6e-464d-9fc6-8ecbbff316fa",
   "metadata": {},
   "outputs": [],
   "source": [
    "object DataProvider {\n",
    "    val data: List<String> = listOf(\n",
    "        \"pierwszy\",\n",
    "        \"drugi\",\n",
    "        \"trzeci\",\n",
    "        \"czwarty\",\n",
    "        \"piąty\",\n",
    "        \"szósty\",\n",
    "        \"siódmy\",\n",
    "        \"ósmy\",\n",
    "        \"dziewiąty\",\n",
    "        \"dziesiąty\",\n",
    "        \"jedenasty\",\n",
    "        \"dwunasty\",\n",
    "        \"trzynasty\",\n",
    "        \"czternasty\",\n",
    "        \"piętnasty\",\n",
    "        \"szesnasty\",\n",
    "        \"siedemnasty\",\n",
    "        \"osiemnasty\",\n",
    "        \"dziewiętnasty\",\n",
    "        \"dwudziesty\",\n",
    "    )\n",
    "}"
   ]
  },
  {
   "cell_type": "markdown",
   "id": "efa7a0c9-e4e4-442c-83c2-b2c15d112991",
   "metadata": {},
   "source": [
    "Dodajmy `ViewModel` i utwórzmy nasz `Flow`"
   ]
  },
  {
   "cell_type": "code",
   "execution_count": null,
   "id": "8000c1e6-6c11-4149-b253-d95de7e3c1e0",
   "metadata": {},
   "outputs": [],
   "source": [
    "class WordsViewModel : ViewModel() {\n",
    "    val wordsFlow = flow{\n",
    "        var index = 0\n",
    "        while (index < DataProvider.data.size){\n",
    "            emit(DataProvider.data[index])\n",
    "            delay(500L)\n",
    "            index++\n",
    "        }\n",
    "    }\n",
    "}"
   ]
  },
  {
   "cell_type": "markdown",
   "id": "56a81ea3-7aa6-48d0-8da8-c9b5ddbcf945",
   "metadata": {},
   "source": [
    "- `val wordsFlow = flow { ... }` -  Strumień danych `wordsFlow` tworzymy za pomocą funkcji `flow`. flow jest funkcją z biblioteki Kotlin Coroutines, która umożliwia tworzenie strumieni asynchronicznych.\n",
    "- `var index = 0` - Służy do śledzenia aktualnego indeksu danych.\n",
    "- `while (index < DataProvider.data.size) { ... }` - Pętla, która działa dopóki `index` jest mniejszy niż rozmiar danych dostarczonych przez `DataProvider`.\n",
    "- `emit(DataProvider.data[index])` - Wywołanie funkcji `emit` wewnątrz strumienia, która emituje aktualny element danych na strumień.\n",
    "- `delay(500L)` - Opóźnienie o 500 milisekund przy użyciu funkcji `delay` z biblioteki `Coroutines`.\n",
    "\n",
    "`WordsViewModel` dostarcza strumień danych `wordsFlow`, który emituje słowa w określonym czasie, z danych dostarczonych przez DataProvider w interwałach co pół sekundy. Dzięki temu strumieniowi można obserwować i reagować na emitowane wyrazy w reaktywny sposób\n",
    "\n",
    "Kiedy funkcja `emit` jest wywoływana, wartość podana jako argument jest wysyłana do strumienia danych. Ta wartość staje się dostępna dla wszystkich odbiorców, którzy subskrybują ten strumień. W momencie wywołania `emit`, strumień przekazuje tę wartość do aktualnie aktywnych odbiorców. Działa w sposób **asynchroniczny**, co oznacza, że nie blokuje bieżącego wątku podczas wysyłania wartości do strumienia. Dzięki temu możliwe jest kontynuowanie przetwarzania i wykonywania innych operacji jednocześnie."
   ]
  },
  {
   "cell_type": "markdown",
   "id": "f273b6e5-1276-4f3c-8945-9d622cefb43d",
   "metadata": {},
   "source": [
    "Przejdźmy do odebrania danych, w pierwszym kroku utworzymy layoty aktywności oraz fragmentu."
   ]
  },
  {
   "cell_type": "code",
   "execution_count": null,
   "id": "8a661637-d1df-4d78-ae4d-becabe4ea1b0",
   "metadata": {},
   "outputs": [],
   "source": [
    "<?xml version=\"1.0\" encoding=\"utf-8\"?>\n",
    "<androidx.constraintlayout.widget.ConstraintLayout xmlns:android=\"http://schemas.android.com/apk/res/android\"\n",
    "    xmlns:app=\"http://schemas.android.com/apk/res-auto\"\n",
    "    xmlns:tools=\"http://schemas.android.com/tools\"\n",
    "    android:layout_width=\"match_parent\"\n",
    "    android:layout_height=\"match_parent\"\n",
    "    tools:context=\".MainActivity\">\n",
    "\n",
    "    <androidx.fragment.app.FragmentContainerView\n",
    "        android:id=\"@+id/fragment_main\"\n",
    "        android:name=\"com.example.flowbasicskotlin.WordFragment\"\n",
    "        android:layout_width=\"match_parent\"\n",
    "        android:layout_height=\"match_parent\"\n",
    "        app:layout_constraintBottom_toBottomOf=\"parent\"\n",
    "        app:layout_constraintEnd_toEndOf=\"parent\"\n",
    "        app:layout_constraintStart_toStartOf=\"parent\"\n",
    "        app:layout_constraintTop_toTopOf=\"parent\" />\n",
    "</androidx.constraintlayout.widget.ConstraintLayout>"
   ]
  },
  {
   "cell_type": "code",
   "execution_count": null,
   "id": "20b05e2d-b421-4412-8887-b02f6c81a9d3",
   "metadata": {},
   "outputs": [],
   "source": [
    "<?xml version=\"1.0\" encoding=\"utf-8\"?>\n",
    "<androidx.constraintlayout.widget.ConstraintLayout xmlns:android=\"http://schemas.android.com/apk/res/android\"\n",
    "    xmlns:app=\"http://schemas.android.com/apk/res-auto\"\n",
    "    xmlns:tools=\"http://schemas.android.com/tools\"\n",
    "    android:layout_width=\"match_parent\"\n",
    "    android:layout_height=\"match_parent\"\n",
    "    tools:context=\".WordFragment\">\n",
    "\n",
    "    <TextView\n",
    "        android:id=\"@+id/wordText\"\n",
    "        android:layout_width=\"wrap_content\"\n",
    "        android:layout_height=\"wrap_content\"\n",
    "        android:text=\"Hello\"\n",
    "        android:textSize=\"46sp\"\n",
    "        app:layout_constraintBottom_toBottomOf=\"parent\"\n",
    "        app:layout_constraintEnd_toEndOf=\"parent\"\n",
    "        app:layout_constraintStart_toStartOf=\"parent\"\n",
    "        app:layout_constraintTop_toTopOf=\"parent\" />\n",
    "\n",
    "</androidx.constraintlayout.widget.ConstraintLayout>"
   ]
  },
  {
   "cell_type": "markdown",
   "id": "1fc405e3-347a-4f35-b502-b3e4c86a2906",
   "metadata": {},
   "source": [
    "Dodajmy `viewmodel` do fragmentu"
   ]
  },
  {
   "cell_type": "code",
   "execution_count": null,
   "id": "26798cc3-bbbf-46c0-a295-054f531e5630",
   "metadata": {},
   "outputs": [],
   "source": [
    "private val viewModel: WordViewModel by viewModels()"
   ]
  },
  {
   "cell_type": "markdown",
   "id": "e5cfac6c-ab4c-4c5c-830b-f7fa367e6800",
   "metadata": {},
   "source": [
    "`Flow` to jhest tzw. **zimny strumień** (ang. *cold stream*). Oznacza to, że strumień `Flow` nie rozpocznie emisji wartości dopóki nie pojawi się odbiorca, który **zasubskrybuje** ten strumień. W przypadku zimnego strumienia, emisja danych jest inicjowana tylko wtedy, gdy istnieje aktywny odbiorca, który oczekuje na te wartości. Gdy nowy odbiorca subskrybuje strumień, emisja rozpocznie się od początku dla tego konkretnego odbiorcy.\n",
    "\n",
    "Zaletą zimnych strumieni jest to, że emisja danych jest inicjowana i kontrolowana przez odbiorcę. Pozwala to na bardziej elastyczną obsługę strumieni w zależności od potrzeb, unikając niepotrzebnego generowania i przetwarzania danych, gdy nie ma odbiorców gotowych na ich przyjęcie.\n",
    "\n",
    "Subskrypcja strumienia `Flow` jest wykonana przy użyciu `collect` (`suspend function`), który umożliwia odbiór i przetwarzanie wartości emitowanych przez strumień.\n",
    "\n",
    "Aby zasubskrybować strumień, należy wywołać funkcję collect na strumieniu i przekazać blok kodu, który zostanie wykonany dla każdej emitowanej wartości. Przykładowo:\n",
    "\n",
    "```kotlin\n",
    "flow.collect { value ->\n",
    "    // Kod do przetwarzania wartości\n",
    "}\n",
    "```\n",
    "\n",
    "Wewnątrz bloku `collect` można umieścić kod, który będzie przetwarzał każdą emitowaną wartość. Strumień wywoła ten blok kodu dla każdej emitowanej wartości, dostarczając ją jako argument do bloku.\n",
    "\n",
    "Ponieważ jest to funkcja z zawieszeniem wykonania, wywołujemy ją wewnątrz `Coroutine`"
   ]
  },
  {
   "cell_type": "code",
   "execution_count": null,
   "id": "3b22bc97-8ab2-446c-b80a-ceffc9d91311",
   "metadata": {},
   "outputs": [],
   "source": [
    "viewLifecycleOwner.lifecycleScope.launch {\n",
    "    viewLifecycleOwner.repeatOnLifecycle(Lifecycle.State.STARTED){\n",
    "        viewModel.wordsFlow.collect{ word ->\n",
    "            binding.wordText.text = word\n",
    "        }\n",
    "    }\n",
    "}"
   ]
  },
  {
   "cell_type": "markdown",
   "id": "e70c6cb0-7c85-40ea-a122-64f653081e81",
   "metadata": {},
   "source": [
    "- `viewLifecycleOwner.lifecycleScope.launch { ... }` - Utworzenie nowej korutyny na podstawie `lifecycleScope` obiektu `viewLifecycleOwner`, który reprezentuje cykl życia widoku fragmentu.\n",
    "- `viewLifecycleOwner.repeatOnLifecycle(Lifecycle.State.STARTED) { ... }` - blok kodu powinien być uruchamiany tylko wtedy, gdy cykl życia widoku znajduje się w stanie `STARTED`. To zapewnia, że subskrypcja strumienia zostanie rozpoczęta, gdy fragment jest widoczny dla użytkownika.\n",
    "- `viewModel.wordsFlow.collect { word -> ... }` - Dla każdej emitowanej wartości, przypisuje się wartość do zmiennej `word`, a następnie aktualizuje element interfejsu użytkownika `binding.wordText.text` na podstawie tej wartości."
   ]
  },
  {
   "cell_type": "markdown",
   "id": "3dec6160-1568-4c1e-ad1c-64a8aac6c148",
   "metadata": {},
   "source": [
    "Możemy przetestować apliakcję"
   ]
  },
  {
   "cell_type": "markdown",
   "id": "9d46b7a6-584d-4877-8b33-dda6d43316e4",
   "metadata": {},
   "source": [
    "<img src=\"https://media1.giphy.com/media/v1.Y2lkPTc5MGI3NjExbHdhamV6bDFidmNvMmVmc250eWxuYTJ6aWMxOGljZGZocmxxczRuOSZlcD12MV9pbnRlcm5hbF9naWZfYnlfaWQmY3Q9Zw/xuvbEBtBvw4PMnDOwS/giphy.gif\" width=\"200\" />"
   ]
  }
 ],
 "metadata": {
  "kernelspec": {
   "display_name": "Kotlin",
   "language": "kotlin",
   "name": "kotlin"
  },
  "language_info": {
   "codemirror_mode": "text/x-kotlin",
   "file_extension": ".kt",
   "mimetype": "text/x-kotlin",
   "name": "kotlin",
   "nbconvert_exporter": "",
   "pygments_lexer": "kotlin",
   "version": "1.8.0-RC"
  }
 },
 "nbformat": 4,
 "nbformat_minor": 5
}
