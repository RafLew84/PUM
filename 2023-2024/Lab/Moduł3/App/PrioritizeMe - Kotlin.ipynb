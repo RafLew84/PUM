{
 "cells": [
  {
   "cell_type": "markdown",
   "id": "7cc47885-eb74-4cda-82b9-90c406e16688",
   "metadata": {},
   "source": [
    "# PrioritizeMe"
   ]
  },
  {
   "cell_type": "markdown",
   "id": "dec60205-5abc-44e2-8bf8-14f24b1a1b1e",
   "metadata": {},
   "source": [
    "Aplikacja do priorytetowego planowania zadań to narzędzie, które pomoże efektywnie zarządzać czasem i zadaniami. Dzięki niej możesz tworzyć zadania, przypisywać im tytuły oraz opisy, a następnie nadawać im priorytety w zależności od ich ważności. \n",
    "\n",
    "Aplikacja wykorzystuje bazę danych `ROOM` do przechowywania wszystkich zadań, umożliwia podstawowe operacje *CRUD* (*Create-Remove-Update-Delete*), oraz ich filtrowanie i sortowanie."
   ]
  },
  {
   "cell_type": "markdown",
   "id": "44a3d234-1cbe-4c49-ab24-cb717a7cd5a7",
   "metadata": {},
   "source": [
    "<table><tr><td><img src=\"https://media2.giphy.com/media/v1.Y2lkPTc5MGI3NjExcnFqOGtlZmZkZXc0Mzg2OTJnbHYxcTZhNGZ5M29xMGV0bjNpODRveiZlcD12MV9pbnRlcm5hbF9naWZfYnlfaWQmY3Q9Zw/c56sRiyAvvGStsM7aA/giphy.gif\" width=\"200\" /></td><td><img src=\"https://media0.giphy.com/media/v1.Y2lkPTc5MGI3NjExOGQzd25qaDJmcWtoZXJzcmoxNDk3NnhjOWU4dnNyNG5lemJwdGtqaiZlcD12MV9pbnRlcm5hbF9naWZfYnlfaWQmY3Q9Zw/jS5GjdH5YAFhKu2w7l/giphy.gif\" width=\"200\" /></td><td><img src=\"https://media2.giphy.com/media/v1.Y2lkPTc5MGI3NjExdmN0aTdnZDBlaWRpMjJncXRpN253azZsM2syNWZyZjVsZ3I5NXp5MSZlcD12MV9pbnRlcm5hbF9naWZfYnlfaWQmY3Q9Zw/tYfIxGuV0ox7rDXIMM/giphy.gif\" width=\"200\" /></td></tr></table>"
   ]
  },
  {
   "cell_type": "markdown",
   "id": "b613e6d6-3bce-4afb-bd96-90b860c76f21",
   "metadata": {},
   "source": [
    "- Aplikacja zaimplementowana zgodnie ze wzoccem MVVM wraz z repozytorium\n",
    "- `StateFlow` został wykorzystany do łatwego zarządzania bieżącym stanem interfejsu użytkownika\n",
    "- Baza danych `Room` została wykorzystana do przechowywania zadań, oraz jako *SSOT* (*Single Source Of Truth*)\n",
    "- Aplikacja zawiera trzy ekrany \n",
    "    - na głównym ekranie wyświetla listę zadań, umożliwia usunięcie, oznaczenie zadania jako wykonanego, oraz szybką zmianę nadanego priorytetu\n",
    "    - ekran dodania zadania\n",
    "    - ekran aktualizacji zadania, który umożliwia również usunięcie\n",
    "- Aplikacja wykorzystuje `Jetpack Navigation` w celu utworzenia nawigacji w aplikacji\n",
    "- `ViewModel` został umieszczony w głównek aktywności w celu uzyskania współdzielenia jego instancji przez wszystkie fragmenty\n",
    "\n",
    "\n",
    "Dodajmy wymagane zależności do projektu\n",
    "\n",
    "```verbatim\n",
    ">>> Build.gradle(Project)\n",
    "```\n",
    "\n",
    "```kotlin\n",
    "// Top-level build file where you can add configuration options common to all sub-projects/modules.\n",
    "buildscript { // przed blokiem plugins\n",
    "    repositories {\n",
    "        google()\n",
    "    }\n",
    "    dependencies {\n",
    "        classpath (\"androidx.navigation:navigation-safe-args-gradle-plugin:2.5.3\")\n",
    "    }\n",
    "}\n",
    "plugins {\n",
    "    id(\"com.android.application\") version \"8.1.0\" apply false\n",
    "    id(\"org.jetbrains.kotlin.android\") version \"1.8.0\" apply false\n",
    "}\n",
    "```\n",
    "\n",
    "```verbatim\n",
    ">>> Build.gradle(Module)\n",
    "```\n",
    "\n",
    "```kotlin\n",
    "plugins {\n",
    "    id(\"com.android.application\")\n",
    "    id(\"org.jetbrains.kotlin.android\")\n",
    "    id(\"kotlin-kapt\")\n",
    "    id(\"androidx.navigation.safeargs.kotlin\")\n",
    "}\n",
    "android {\n",
    "    ...\n",
    "    buildFeatures {\n",
    "        viewBinding = true\n",
    "    }\n",
    "    compileOptions {\n",
    "        sourceCompatibility = JavaVersion.VERSION_17\n",
    "        targetCompatibility = JavaVersion.VERSION_17\n",
    "    }\n",
    "    kotlinOptions {\n",
    "        jvmTarget = \"17\"\n",
    "    }\n",
    "}\n",
    "dependencies {\n",
    "\n",
    "    implementation(\"androidx.room:room-ktx:2.5.2\")\n",
    "    annotationProcessor(\"androidx.room:room-compiler:2.5.2\")\n",
    "    implementation(\"androidx.room:room-ktx:2.5.2\")\n",
    "    kapt(\"androidx.room:room-compiler:2.5.2\")\n",
    "\n",
    "    implementation (\"androidx.navigation:navigation-fragment:2.5.3\")\n",
    "    implementation (\"androidx.navigation:navigation-ui:2.5.3\")\n",
    "\n",
    "    // ViewModel\n",
    "    implementation (\"androidx.lifecycle:lifecycle-viewmodel-ktx:2.6.1\")\n",
    "    // LiveData\n",
    "    implementation (\"androidx.lifecycle:lifecycle-livedata-ktx:2.6.1\")\n",
    "    //Fragment\n",
    "    implementation (\"androidx.fragment:fragment-ktx:1.6.1\")\n",
    "    ...\n",
    "}\n",
    "```"
   ]
  },
  {
   "cell_type": "code",
   "execution_count": null,
   "id": "27adb388-8448-4c8a-9b70-d882bd30c0e2",
   "metadata": {},
   "outputs": [],
   "source": []
  }
 ],
 "metadata": {
  "kernelspec": {
   "display_name": "Kotlin",
   "language": "kotlin",
   "name": "kotlin"
  },
  "language_info": {
   "codemirror_mode": "text/x-kotlin",
   "file_extension": ".kt",
   "mimetype": "text/x-kotlin",
   "name": "kotlin",
   "nbconvert_exporter": "",
   "pygments_lexer": "kotlin",
   "version": "1.8.0-RC"
  }
 },
 "nbformat": 4,
 "nbformat_minor": 5
}
