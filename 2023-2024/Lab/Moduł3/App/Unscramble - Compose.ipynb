{
 "cells": [
  {
   "cell_type": "markdown",
   "id": "c5ef09fe-d6e7-4401-a9f5-67db2c7fbaf9",
   "metadata": {},
   "source": [
    "# Unscramble"
   ]
  },
  {
   "cell_type": "markdown",
   "id": "2cdac045-d066-45c6-9a42-beee4d20d82b",
   "metadata": {},
   "source": [
    "Aplikacja została stworzona z wykorzystaniem **Jetpack Compose**. Unscramble wykorzystuje **DataStore**, aby zapisywać i odczytywać stan gry. Jest to mechanizm do przechowywania danych, który oferuje uproszczoną i bezpieczną alternatywę dla SharedPreferences.\n",
    "\n",
    "Aplikacja została zaimplementowana zgodnie z wzorcem **MVVM (Model-View-ViewModel)** z wykorzystaniem **repozytorium**. Wzorzec ten pomaga oddzielić logikę biznesową od warstwy prezentacji, co ułatwia testowanie, utrzymanie i rozwijanie aplikacji.\n",
    "\n",
    "Do zarządzania stanem aplikacji i reaktywności został użyty **StateFlow**, umożliwiając łatwą aktualizację widoków w czasie rzeczywistym w odpowiedzi na zmiany w stanie gry.\n",
    "\n",
    "Aplikacja bazuje na oficjalnym [Android Codelab](https://developer.android.com/codelabs/basic-android-kotlin-training-viewmodel#0)"
   ]
  },
  {
   "cell_type": "markdown",
   "id": "decbea9d-a2c4-4b9d-9e80-2b5a1298a6c6",
   "metadata": {},
   "source": [
    "<table><tr><td><img src=\"https://media4.giphy.com/media/v1.Y2lkPTc5MGI3NjExYWwxOGlnNGQ3Mm9xOGRraHFuaXFyOXA0dXkwNWI2OGx0M2RvbndlMSZlcD12MV9pbnRlcm5hbF9naWZfYnlfaWQmY3Q9Zw/c4MVddvPAaRxrwp9JB/giphy.gif\" width=\"200\" /></td><td><img src=\"https://media2.giphy.com/media/v1.Y2lkPTc5MGI3NjExMnVzODY5dDR1a2QxdDk0MmtibWhmZXM0ZW0yc2VkcWZwd3NkaHlmZyZlcD12MV9pbnRlcm5hbF9naWZfYnlfaWQmY3Q9Zw/t3ERZ9ZxBVMeNiY1KY/giphy.gif\" width=\"200\" /></td><td><img src=\"https://media2.giphy.com/media/v1.Y2lkPTc5MGI3NjExbW8yN201Y3EzOHN6MGZsenhlMTM1ZHU0dWY5bmtkd2lvcTVybnZyZyZlcD12MV9pbnRlcm5hbF9naWZfYnlfaWQmY3Q9Zw/bCYIyjvwkKXnvrGd3n/giphy.gif\" width=\"200\" /></td></tr></table>"
   ]
  },
  {
   "cell_type": "markdown",
   "id": "10349241-5373-486b-bdcc-b3f950c07584",
   "metadata": {},
   "source": [
    "- Aplikacja zaimplementowana zgodnie ze wzoccem MVVM wraz z repozytorium\n",
    "- `StateFlow` został wykorzystany do łatwego zarządzania bieżącym stanem interfejsu użytkownika\n",
    "- Klasa `GameUiState` modeluje stan interfejsu użytkownika\n",
    "- Klasa `GameState` modeluje stan samej gry\n",
    "- `DataStore` został wykorzystany do zapisu i odczyta stanu gry\n",
    "- Repozytorium stanowi warstwę pomiędzy `GameStateDataStore` a `GameViewModel`, zapewniając izolację odpowiedzialności i umożliwiając łatwy dostęp do operacji na pliku `DataStore`\n",
    "\n",
    "\n",
    "Dodajmy wymagane zależności do projektu\n",
    "\n",
    "```kotlin\n",
    "    implementation (\"androidx.lifecycle:lifecycle-viewmodel-compose:2.6.1\")\n",
    "    implementation (\"androidx.lifecycle:lifecycle-viewmodel-ktx:2.6.1\")\n",
    "    implementation (\"androidx.lifecycle:lifecycle-runtime-compose:2.6.1\")\n",
    "\n",
    "    implementation (\"androidx.datastore:datastore-preferences:1.0.0\")\n",
    "```"
   ]
  },
  {
   "cell_type": "markdown",
   "id": "f96ecc3a-069e-4cf5-8cb9-ac08dc95d762",
   "metadata": {},
   "source": [
    "Aplikacja będzie pozwalać zgadywać słowa, więc potrzebujemy listę słów do użycia."
   ]
  },
  {
   "cell_type": "code",
   "execution_count": null,
   "id": "dc79234c-06d2-41eb-a54c-cf55d6a217bf",
   "metadata": {},
   "outputs": [],
   "source": [
    "const val MAX_NO_OF_WORDS = 10\n",
    "const val SCORE_INCREASE = 20\n",
    "\n",
    "object DataProvider {\n",
    "    val words = listOf(\n",
    "        \"kot\", \"pies\", \"drab\", \"kawa\", \"samolot\", \"wino\", \"gracz\", \"woda\", \"dom\",\n",
    "        \"karma\", \"tanie\", \"bilet\", \"muzyk\", \"rybak\", \"chleb\", \"motyw\",\n",
    "        \"las\", \"papuga\", \"talerz\", \"stacja\", \"grupa\", \"butelka\", \"kurczak\",\n",
    "        \"okno\", \"drzewo\", \"lampa\", \"sklep\", \"kasa\", \"broda\", \"papier\", \"szafa\",\n",
    "        \"dzwon\", \"kotek\"\n",
    "    )\n",
    "}"
   ]
  },
  {
   "cell_type": "markdown",
   "id": "c453a1e7-3d5f-4128-baff-e4e5a38a5477",
   "metadata": {},
   "source": [
    "Gra będzie składała się z próby odgadnięcia 10 słów, za każde poprawne słowo gracz otrzymuje 20 punktów. W kolejnym kroku przygotujmy klasę `GameUiState` zawierającą wszystkie informacje, które chcemy pokazać użytkownikowi."
   ]
  },
  {
   "cell_type": "code",
   "execution_count": null,
   "id": "9793dcd7-fe27-4686-aecf-fbe86b047bba",
   "metadata": {},
   "outputs": [],
   "source": [
    "data class GameUiState(\n",
    "    val currentScrambledWord: String = \"\",\n",
    "    val currentWordCount: Int = 1,\n",
    "    val score: Int = 0,\n",
    "    val isGuessedWordWrong: Boolean = false,\n",
    "    val isGameOver: Boolean = false\n",
    ")"
   ]
  },
  {
   "cell_type": "markdown",
   "id": "94a72621-aa1e-4e8e-ab60-114b94a7255e",
   "metadata": {},
   "source": [
    "- `currentScrambledWord: String = \"\"` - aktualnie wyświetlane słowo\n",
    "- `currentWordCount: Int = 1` - licznik słów\n",
    "- `score: Int = 0` - wynik\n",
    "- `isGuessedWordWrong: Boolean = false` - flaga pomocnicza określająca czy użytkownik poprawni odggadł słowo\n",
    "- `isGameOver: Boolean = false` - flaga pomocnicza określająca czy gra powinna zostać zakończona"
   ]
  },
  {
   "cell_type": "markdown",
   "id": "ba1d49e1-c5bf-4141-8ae2-1c519f635cbb",
   "metadata": {},
   "source": [
    "### ViewModel"
   ]
  },
  {
   "cell_type": "markdown",
   "id": "8145a1b8-7ff7-49b3-ba62-68eb4b7b5fe2",
   "metadata": {},
   "source": [
    "Dodajmy klasę `GameViewModel`, klasa będzie zawierała kilka metod i pól:\n",
    "\n",
    "- `uiState: StateFlow<GameUiState>` Jest to obiekt reprezentujący bieżący stan interfejsu użytkownika (UI). Składa się z obiektu typu GameUiState, który zawiera informacje o stanie gry na poziomie interfejsu użytkownika.\n",
    "- `userGuess` Jest to zmienna, która przechowuje aktualne odgadnięte słowo wprowadzone przez użytkownika.\n",
    "- `usedWords: MutableSet<String>` Jest to zbiór słów użytych w grze. Jest to wykorzystywane w celu śledzenia, które słowa już zostały wykorzystane.\n",
    "- `currentWord: String` Zmienna przechowująca aktualne słowo, które jest obecnie odgrywane w grze.\n",
    "- `saveGame()` Funkcja służąca do zapisywania stanu gry. Wywołuje funkcję `saveGameState` z repozytorium, aby zapisać bieżący stan` GameUiState`, `usedWords` oraz `currentWord`.\n",
    "- `loadGame()` Funkcja służąca do wczytywania stanu gry.\n",
    "- `resetGame()` Funkcja inicjująca grę od nowa. Czyści zbiór `usedWords` i ustawia nowe, losowe słowo jako bieżące słowo w `uiState`.\n",
    "- `updateUserGuess(guessedWord: String)` Funkcja aktualizująca odgadnięte słowo użytkownika (userGuess) na podstawie wprowadzonego przez niego słowa.\n",
    "- `checkUserGuess()` Funkcja sprawdzająca, czy odgadnięte słowo użytkownika (`userGuess`) jest poprawne. W zależności od wyniku, funkcja zwiększa wynik (`score`) i przygotowuje grę na kolejną rundę.\n",
    "- `skipWord()` Funkcja pozwalająca na pominięcie obecnego słowa i przechodzenie do następnego słowa.\n",
    "- `updateGameState(updatedScore: Int)` Funkcja, która aktualizuje stan gry (`GameUiState`). Decyduje, czy gra poinna zostać zakończona, czy też powinna przejść do kolejnej rundy.\n",
    "- `shuffleCurrentWord(word: String): String` Funkcja przetasowująca litery w podanym słowie i zwracająca przetasowane słowo jako wynik.\n",
    "- `pickRandomWordAndShuffle(): String` Funkcja wybierająca losowe słowo z dostępnych słów w `DataProvider` i przetasowująca je za pomocą `shuffleCurrentWord()`. Funkcja zapewnia, że wybrane słowo nie zostało użyte wcześniej w grze, korzystając z zbioru `usedWords`.\n",
    "\n",
    "W pierwszym kroku dodajemy instancję `GameUiState`"
   ]
  },
  {
   "cell_type": "code",
   "execution_count": null,
   "id": "0463b60b-bde6-4bee-ae44-003c6fec193e",
   "metadata": {},
   "outputs": [],
   "source": [
    "private val _uiState = MutableStateFlow(GameUiState())\n",
    "val uiState: StateFlow<GameUiState> = _uiState.asStateFlow()"
   ]
  },
  {
   "cell_type": "markdown",
   "id": "f3f8ddd1-4720-4c92-868a-2b01b114dd9e",
   "metadata": {},
   "source": [
    "Następnie musimy sledzić aktualnie wpisane słowo przez użytkownika."
   ]
  },
  {
   "cell_type": "code",
   "execution_count": null,
   "id": "db1b44e8-f954-4c37-8077-0db22fccc17d",
   "metadata": {},
   "outputs": [],
   "source": [
    "var userGuess by mutableStateOf(\"\")\n",
    "    private set"
   ]
  },
  {
   "cell_type": "markdown",
   "id": "68a2b5e1-9d1f-4277-a8a0-00a3bcfc25ac",
   "metadata": {},
   "source": [
    "Potrzebujemy jeszcze dwie zmienne."
   ]
  },
  {
   "cell_type": "code",
   "execution_count": null,
   "id": "ceadc18f-9292-4427-8b6c-0078cb1c393a",
   "metadata": {},
   "outputs": [],
   "source": [
    "private var usedWords: MutableSet<String> = mutableSetOf()\n",
    "private lateinit var currentWord: String"
   ]
  },
  {
   "cell_type": "markdown",
   "id": "1f32a0be-940a-4c9e-8a01-dbcbe609bdff",
   "metadata": {},
   "source": [
    "`usedWords` śledzące wszystkie słowa, które zostały już wylosowane z listy dostępnej w `DataProvider`, oraz `currentWord` przechowującą aktualnie wylosowane słowo."
   ]
  },
  {
   "cell_type": "markdown",
   "id": "59c8b2eb-876d-43f4-bbe1-121a8bd4e67c",
   "metadata": {},
   "source": [
    "Dodajmy funkcję resetującą całą grę."
   ]
  },
  {
   "cell_type": "code",
   "execution_count": null,
   "id": "7a3e632c-0b2f-478c-8915-1aa280f3fd6e",
   "metadata": {},
   "outputs": [],
   "source": [
    "fun resetGame() {\n",
    "    usedWords.clear()\n",
    "    _uiState.value = GameUiState(currentScrambledWord = pickRandomWordAndShuffle())\n",
    "}"
   ]
  },
  {
   "cell_type": "markdown",
   "id": "40a7a71f-a1d5-4f43-bc83-ba33414e9e44",
   "metadata": {},
   "source": [
    "- `usedWords.clear()` - czyści zbiór wykorzystanych słów\n",
    "- `_uiState.value = GameUiState(currentScrambledWord = pickRandomWordAndShuffle())` - inicjuje `_uiState` domyślnymi wartościami, oraz losuje aktualne słowo.\n",
    "\n",
    "Wywołajmy funkcję `reset` w bloku `init`, inicjując w ten sposób grę."
   ]
  },
  {
   "cell_type": "code",
   "execution_count": null,
   "id": "7890d642-59a7-49a6-9172-2a0a00e214c0",
   "metadata": {},
   "outputs": [],
   "source": [
    "init {\n",
    "    resetGame()\n",
    "}"
   ]
  },
  {
   "cell_type": "markdown",
   "id": "2ff41187-3ffe-42cc-a09c-f9393d597589",
   "metadata": {},
   "source": [
    "Dodajmy funkcję `pickRandomWordAndShuffle()`, która losowo wybiera słowo z dostępnej listy oraz losowo przestawia jego litery."
   ]
  },
  {
   "cell_type": "code",
   "execution_count": null,
   "id": "f9f7cd0f-6846-42a2-b18c-03bf639179be",
   "metadata": {},
   "outputs": [],
   "source": [
    "private fun pickRandomWordAndShuffle(): String {\n",
    "    // Continue picking up a new random word until you get one that hasn't been used before\n",
    "    currentWord = DataProvider.words.random()\n",
    "    return if (usedWords.contains(currentWord)) {\n",
    "        pickRandomWordAndShuffle()\n",
    "    } else {\n",
    "        usedWords.add(currentWord)\n",
    "        shuffleCurrentWord(currentWord)\n",
    "    }\n",
    "}"
   ]
  },
  {
   "cell_type": "markdown",
   "id": "12acb71f-3071-4ca4-8a37-10c3c0dac1b2",
   "metadata": {},
   "source": [
    "Wybieramy nowe słowo, dopóki funkcja nie zwróci wcześniej nieużytego. Po wyborze dodajemy nowe słowo do zbioru już użytych i wykonujemy wymieszanie liter."
   ]
  },
  {
   "cell_type": "code",
   "execution_count": null,
   "id": "43df9548-9c35-484a-bc52-ae1fd4fc3d5c",
   "metadata": {},
   "outputs": [],
   "source": [
    "private fun shuffleCurrentWord(word: String): String {\n",
    "    val tempWord = word.toCharArray()\n",
    "    // Scramble the word\n",
    "    tempWord.shuffle()\n",
    "    while (String(tempWord) == word) {\n",
    "        tempWord.shuffle()\n",
    "    }\n",
    "    return String(tempWord)\n",
    "}"
   ]
  },
  {
   "cell_type": "markdown",
   "id": "f3bcc59d-ea92-4719-b1d3-e0f686470cd8",
   "metadata": {},
   "source": [
    "Na początku, podane słowo word jest zamieniane na tablicę znaków za pomocą metody `toCharArray()`. Dzięki temu możemy łatwo manipulować poszczególnymi literami słowa. Następnie wywołujemy funkcję `shuffle()` na tablicy. Metoda losowo przestawia elementy tablicy. Pętla `while` jest użyta, aby zapewnić, że przetasowanie słowa będzie różne od początkowego słowa.\n",
    "\n",
    "W kolejnym kroku zaimplementujmy prywatną funkcję `updateGameState`, która jest odpowiedzialna za aktualizację stanu gry. Funkcja ta decyduje, czy gra się zakończyła, czy powinna przejść do kolejnej rundy."
   ]
  },
  {
   "cell_type": "code",
   "execution_count": null,
   "id": "f35d039c-0ce7-48b3-b4d5-48d015d15cc7",
   "metadata": {},
   "outputs": [],
   "source": [
    "private fun updateGameState(updatedScore: Int) {\n",
    "    if (usedWords.size == MAX_NO_OF_WORDS){\n",
    "        //Last round in the game, update isGameOver to true, don't pick a new word\n",
    "        _uiState.update { currentState ->\n",
    "            currentState.copy(\n",
    "                isGuessedWordWrong = false,\n",
    "                score = updatedScore,\n",
    "                isGameOver = true\n",
    "            )\n",
    "        }\n",
    "    } else{\n",
    "        // Normal round in the game\n",
    "        _uiState.update { currentState ->\n",
    "            currentState.copy(\n",
    "                isGuessedWordWrong = false,\n",
    "                currentScrambledWord = pickRandomWordAndShuffle(),\n",
    "                currentWordCount = currentState.currentWordCount.inc(),\n",
    "                score = updatedScore\n",
    "            )\n",
    "        }\n",
    "    }\n",
    "}"
   ]
  },
  {
   "cell_type": "markdown",
   "id": "71d5db9d-032c-470f-afc4-9f8d4290872a",
   "metadata": {},
   "source": [
    "Wpierw sprawdzamy, czy liczba użytych słów jest równa maksymalnej liczbie słów dozwolonej w grze. Jeśli ten warunek jest spełniony, oznacza to, że gra osiągnęła ostatnią rundę. \n",
    "\n",
    "`_uiState` jest aktualizowany za pomocą funkcji `update`. Tworzy ona nowy stan `GameUiState`, ale z niektórymi właściwościami zmienionymi.\n",
    "\n",
    "Funkcja `update` aktualizuje wartość `MutableStateFlow` **atomowo** - wykonywane jest jako pojedyncza, niepodzielna i niezmienna operacja, oznacza to, że operacja atomowa jest wykonana w całości lub w ogóle, bez możliwości przerwania lub częściowego wykonania przez inne wątki lub procesy."
   ]
  },
  {
   "cell_type": "markdown",
   "id": "54b4f6c9-3cba-43a0-a647-0312058c8ba1",
   "metadata": {},
   "source": [
    "Następnie zaimplementujmy metodę aktualizującą słowo wprowadzone przez użytkownika"
   ]
  },
  {
   "cell_type": "code",
   "execution_count": null,
   "id": "2e9f6c26-a012-4671-89ab-973345054cee",
   "metadata": {},
   "outputs": [],
   "source": [
    "fun updateUserGuess(guessedWord: String){\n",
    "    userGuess = guessedWord\n",
    "}"
   ]
  },
  {
   "cell_type": "markdown",
   "id": "aa9a9ed7-f49a-4e5a-8b21-fc2ae75cc49d",
   "metadata": {},
   "source": [
    "oraz metodę odpowiedzialną za sprawdzenie, czy słwowo wprowadzone przez użytkownika jest prawidłowe"
   ]
  },
  {
   "cell_type": "code",
   "execution_count": null,
   "id": "240486f7-b9f0-4409-af3f-4ba6eb06fdcc",
   "metadata": {},
   "outputs": [],
   "source": [
    "fun checkUserGuess() {\n",
    "    if (userGuess.equals(currentWord, ignoreCase = true)) {\n",
    "        // User's guess is correct, increase the score\n",
    "        // and call updateGameState() to prepare the game for next round\n",
    "        val updatedScore = _uiState.value.score.plus(SCORE_INCREASE)\n",
    "        updateGameState(updatedScore)\n",
    "    } else {\n",
    "        // User's guess is wrong, show an error\n",
    "        _uiState.update { currentState ->\n",
    "            currentState.copy(isGuessedWordWrong = true)\n",
    "        }\n",
    "    }\n",
    "    // Reset user guess\n",
    "    updateUserGuess(\"\")\n",
    "}"
   ]
  },
  {
   "cell_type": "markdown",
   "id": "60259af1-2c80-40e4-b736-906ee676626c",
   "metadata": {},
   "source": [
    "Jeżeli użytkownik podał prawidłowe słowo, aktualizujemy wynik, oraz wywołujemy funkcję `updateGameState` aby przejść do kolejnej rundy. Jeżeli wprowadzone słowo jest nieprawidłowe, zmieniamy flagę `isGuessedWordWrong` na `true`. Na konie resetujemy zmienną `userGuess`."
   ]
  },
  {
   "cell_type": "markdown",
   "id": "160a18b7-02c4-4250-a143-430e110f2192",
   "metadata": {},
   "source": [
    "### Zapis do pliku"
   ]
  },
  {
   "cell_type": "markdown",
   "id": "fe7ffd53-a06a-4820-af75-16942df9f93b",
   "metadata": {},
   "source": [
    "Pozostało dodanie funkcjonalności zapisu i odczytu z pliku. Rozpocznijmy od dodania klasy `GameState`, która przechowuje wszystkie niezbędne informacje o stanie gry."
   ]
  },
  {
   "cell_type": "code",
   "execution_count": null,
   "id": "4ce5e052-6051-4d62-97f5-163121d8fe0d",
   "metadata": {},
   "outputs": [],
   "source": [
    "data class GameState (\n",
    "    val gameUiState: GameUiState,\n",
    "    val usedWords: Set<String>,\n",
    "    val currentWord: String\n",
    ")"
   ]
  },
  {
   "cell_type": "markdown",
   "id": "92d8ef59-52cf-47f0-ac80-a7b8eadae048",
   "metadata": {},
   "source": [
    "Następnie dodajmy klasę pomocniczą `GameStateDataStore`"
   ]
  },
  {
   "cell_type": "code",
   "execution_count": null,
   "id": "bda182c8-9fbd-4e39-88ee-8e64bfddc875",
   "metadata": {},
   "outputs": [],
   "source": [
    "object GameStateDataStore {\n",
    "\n",
    "    private val Context.dataStore: DataStore<Preferences> by preferencesDataStore(\"game_state\")\n",
    "\n",
    "    private val CURRENT_SCRAMBLED_WORD_KEY = stringPreferencesKey(\"current_scrambled_word\")\n",
    "    private val CURRENT_WORD_COUNT_KEY = intPreferencesKey(\"current_word_count\")\n",
    "    private val SCORE_KEY = intPreferencesKey(\"score\")\n",
    "    private val IS_GUESSED_WORD_WRONG_KEY = booleanPreferencesKey(\"is_guessed_word_wrong\")\n",
    "    private val IS_GAME_OVER_KEY = booleanPreferencesKey(\"is_game_over\")\n",
    "    private val USED_WORDS_KEY = stringSetPreferencesKey(\"used_words\")\n",
    "    private val CURRENT_WORD_KEY = stringPreferencesKey(\"current_word\")\n",
    "\n",
    "    suspend fun saveGameState(context: Context, gameState: GameState) {\n",
    "        context.dataStore.edit { preferences ->\n",
    "            preferences[CURRENT_SCRAMBLED_WORD_KEY] = gameState.gameUiState.currentScrambledWord\n",
    "            preferences[CURRENT_WORD_COUNT_KEY] = gameState.gameUiState.currentWordCount\n",
    "            preferences[SCORE_KEY] = gameState.gameUiState.score\n",
    "            preferences[IS_GUESSED_WORD_WRONG_KEY] = gameState.gameUiState.isGuessedWordWrong\n",
    "            preferences[IS_GAME_OVER_KEY] = gameState.gameUiState.isGameOver\n",
    "            preferences[USED_WORDS_KEY] = gameState.usedWords\n",
    "            preferences[CURRENT_WORD_KEY] = gameState.currentWord\n",
    "        }\n",
    "    }\n",
    "\n",
    "    fun loadGameState(context: Context): Flow<GameState> {\n",
    "        return context.dataStore.data\n",
    "            .catch { exception ->\n",
    "                // DataStore throws an IOException if an error is encountered when reading data\n",
    "                if (exception is IOException) {\n",
    "                    emit(emptyPreferences())\n",
    "                } else {\n",
    "                    throw exception\n",
    "                }\n",
    "            }\n",
    "            .map { preferences ->\n",
    "                val currentScrambledWord = preferences[CURRENT_SCRAMBLED_WORD_KEY] ?: \"\"\n",
    "                val currentWordCount = preferences[CURRENT_WORD_COUNT_KEY] ?: 1\n",
    "                val score = preferences[SCORE_KEY] ?: 0\n",
    "                val isGuessedWordWrong = preferences[IS_GUESSED_WORD_WRONG_KEY] ?: false\n",
    "                val isGameOver = preferences[IS_GAME_OVER_KEY] ?: false\n",
    "                val usedWordsSet = preferences[USED_WORDS_KEY] ?: emptySet()\n",
    "                val currentWord = preferences[CURRENT_WORD_KEY] ?: \"\"\n",
    "\n",
    "                GameState(\n",
    "                    GameUiState(\n",
    "                        currentScrambledWord,\n",
    "                        currentWordCount,\n",
    "                        score,\n",
    "                        isGuessedWordWrong,\n",
    "                        isGameOver\n",
    "                    ),\n",
    "                    usedWordsSet.toMutableSet(),\n",
    "                    currentWord\n",
    "                )\n",
    "            }\n",
    "    }\n",
    "}"
   ]
  },
  {
   "cell_type": "markdown",
   "id": "13b68b6a-f3a9-455a-9ab6-08fc07c66b83",
   "metadata": {},
   "source": [
    "- `private val ..._KEY` Definicje kluczy, które będą używane do przechowywania poszczególnych elementów stanu gry w `DataStore`.\n",
    "- `suspend fun saveGameState(context: Context, gameState: GameState)` Funkcja do zapisywania stanu gry.\n",
    "- `fun loadGameState(context: Context): Flow<GameState>` Funkcja do wczytywania stanu gry. Zwraca obiekt typu `Flow<GameState>`, który emituje strumień wartości stanu gry."
   ]
  },
  {
   "cell_type": "markdown",
   "id": "49d6636e-60de-411c-9419-af7b520fdabb",
   "metadata": {},
   "source": [
    "Dodajmy repozytorium."
   ]
  },
  {
   "cell_type": "code",
   "execution_count": null,
   "id": "bd651c0c-8cd0-442d-9577-5aa24a4049f9",
   "metadata": {},
   "outputs": [],
   "source": [
    "class GameRepository(private val application: Application) {\n",
    "    fun loadGameState() = GameStateDataStore.loadGameState(application)\n",
    "    suspend fun saveGameState(state: GameState) = GameStateDataStore.saveGameState(application, state)\n",
    "}"
   ]
  },
  {
   "cell_type": "markdown",
   "id": "19654174-100c-475a-8e9a-7df65e723b99",
   "metadata": {},
   "source": [
    "Ponieważ `DataStore` wymaga kontekstu, musimy zmodyfikować `ViewModel`, tak jak w poprzednich przykładach."
   ]
  },
  {
   "cell_type": "code",
   "execution_count": null,
   "id": "e01f9fb6-71a3-44e7-8884-d514d16def17",
   "metadata": {},
   "outputs": [],
   "source": [
    "class GameViewModelFactory(private val application: Application) :\n",
    "    ViewModelProvider.Factory {\n",
    "    override fun <T : ViewModel> create(modelClass: Class<T>): T {\n",
    "        return GameViewModel(application) as T\n",
    "    }\n",
    "}"
   ]
  },
  {
   "cell_type": "markdown",
   "id": "41c7f4f6-f665-4465-ad29-fd4afd9d9898",
   "metadata": {},
   "source": [
    "Powróćmy do klasy `GameViewModel` i dodajmy metody odpowiedzialne za zapis i odczyt stanu gry."
   ]
  },
  {
   "cell_type": "code",
   "execution_count": null,
   "id": "ed8286d0-5d4b-4e3f-9f26-80eb4c24a841",
   "metadata": {},
   "outputs": [],
   "source": [
    "fun saveGame(){\n",
    "    viewModelScope.launch {\n",
    "        repository.saveGameState(GameState(\n",
    "            gameUiState = _uiState.value,\n",
    "            usedWords = usedWords,\n",
    "            currentWord = currentWord\n",
    "        ))\n",
    "    }\n",
    "}\n",
    "\n",
    "fun loadGame(){\n",
    "    viewModelScope.launch {\n",
    "        repository.loadGameState().collect{ gameState ->\n",
    "            // odczytujemy zapisany stan interfejsu użytkownika i aktualizujemy zmienną _uiState\n",
    "            _uiState.update { currentState ->\n",
    "                currentState.copy(\n",
    "                    currentScrambledWord = gameState.gameUiState.currentScrambledWord,\n",
    "                    currentWordCount = gameState.gameUiState.currentWordCount,\n",
    "                    score = gameState.gameUiState.score,\n",
    "                    isGuessedWordWrong = gameState.gameUiState.isGuessedWordWrong,\n",
    "                    isGameOver = gameState.gameUiState.isGameOver\n",
    "                )\n",
    "            }\n",
    "            \n",
    "            // odczytujemy wykorzystane w grze słowa\n",
    "            usedWords = gameState.usedWords.toMutableSet()\n",
    "            \n",
    "            // odczytujemy ostatnie wylosowane słowo\n",
    "            currentWord = gameState.currentWord\n",
    "        }\n",
    "    }\n",
    "}"
   ]
  },
  {
   "cell_type": "markdown",
   "id": "c735499e-36e6-45eb-b61b-f7420d2f6a65",
   "metadata": {},
   "source": [
    "Pełny kod `GameViewModel`"
   ]
  },
  {
   "cell_type": "code",
   "execution_count": null,
   "id": "a191ec75-972c-4171-bcdb-fd0e812f431b",
   "metadata": {},
   "outputs": [],
   "source": [
    "class GameViewModel(application: Application) : ViewModel() {\n",
    "\n",
    "    private val repository: GameRepository\n",
    "\n",
    "    // Game UI state\n",
    "    private val _uiState = MutableStateFlow(GameUiState())\n",
    "    val uiState: StateFlow<GameUiState> = _uiState.asStateFlow()\n",
    "\n",
    "    var userGuess by mutableStateOf(\"\")\n",
    "        private set\n",
    "\n",
    "    // Set of words used in the game\n",
    "    private var usedWords: MutableSet<String> = mutableSetOf()\n",
    "    private lateinit var currentWord: String\n",
    "\n",
    "    init {\n",
    "        repository = GameRepository(application)\n",
    "        resetGame()\n",
    "    }\n",
    "\n",
    "    fun saveGame(){\n",
    "        viewModelScope.launch {\n",
    "            repository.saveGameState(GameState(\n",
    "                gameUiState = _uiState.value,\n",
    "                usedWords = usedWords,\n",
    "                currentWord = currentWord\n",
    "            ))\n",
    "        }\n",
    "    }\n",
    "\n",
    "    fun loadGame(){\n",
    "        viewModelScope.launch {\n",
    "            repository.loadGameState().collect{ gameState ->\n",
    "                _uiState.update { currentState ->\n",
    "                    currentState.copy(\n",
    "                        currentScrambledWord = gameState.gameUiState.currentScrambledWord,\n",
    "                        currentWordCount = gameState.gameUiState.currentWordCount,\n",
    "                        score = gameState.gameUiState.score,\n",
    "                        isGuessedWordWrong = gameState.gameUiState.isGuessedWordWrong,\n",
    "                        isGameOver = gameState.gameUiState.isGameOver\n",
    "                    )\n",
    "                }\n",
    "                usedWords = gameState.usedWords.toMutableSet()\n",
    "                currentWord = gameState.currentWord\n",
    "            }\n",
    "        }\n",
    "    }\n",
    "\n",
    "    /*\n",
    "     * Re-initializes the game data to restart the game.\n",
    "     */\n",
    "    fun resetGame() {\n",
    "        usedWords.clear()\n",
    "        _uiState.value = GameUiState(currentScrambledWord = pickRandomWordAndShuffle())\n",
    "    }\n",
    "\n",
    "    /*\n",
    "     * Update the user's guess\n",
    "     */\n",
    "    fun updateUserGuess(guessedWord: String){\n",
    "        userGuess = guessedWord\n",
    "    }\n",
    "\n",
    "    /*\n",
    "     * Checks if the user's guess is correct.\n",
    "     * Increases the score accordingly.\n",
    "     */\n",
    "    fun checkUserGuess() {\n",
    "        if (userGuess.equals(currentWord, ignoreCase = true)) {\n",
    "            // User's guess is correct, increase the score\n",
    "            // and call updateGameState() to prepare the game for next round\n",
    "            val updatedScore = _uiState.value.score.plus(SCORE_INCREASE)\n",
    "            updateGameState(updatedScore)\n",
    "        } else {\n",
    "            // User's guess is wrong, show an error\n",
    "            _uiState.update { currentState ->\n",
    "                currentState.copy(isGuessedWordWrong = true)\n",
    "            }\n",
    "        }\n",
    "        // Reset user guess\n",
    "        updateUserGuess(\"\")\n",
    "    }\n",
    "\n",
    "    /*\n",
    "     * Skip to next word\n",
    "     */\n",
    "    fun skipWord() {\n",
    "        updateGameState(_uiState.value.score)\n",
    "        // Reset user guess\n",
    "        updateUserGuess(\"\")\n",
    "    }\n",
    "\n",
    "    /*\n",
    "     * Picks a new currentWord and currentScrambledWord and updates UiState according to\n",
    "     * current game state.\n",
    "     */\n",
    "    private fun updateGameState(updatedScore: Int) {\n",
    "        if (usedWords.size == MAX_NO_OF_WORDS){\n",
    "            //Last round in the game, update isGameOver to true, don't pick a new word\n",
    "            _uiState.update { currentState ->\n",
    "                currentState.copy(\n",
    "                    isGuessedWordWrong = false,\n",
    "                    score = updatedScore,\n",
    "                    isGameOver = true\n",
    "                )\n",
    "            }\n",
    "        } else{\n",
    "            // Normal round in the game\n",
    "            _uiState.update { currentState ->\n",
    "                currentState.copy(\n",
    "                    isGuessedWordWrong = false,\n",
    "                    currentScrambledWord = pickRandomWordAndShuffle(),\n",
    "                    currentWordCount = currentState.currentWordCount.inc(),\n",
    "                    score = updatedScore\n",
    "                )\n",
    "            }\n",
    "        }\n",
    "    }\n",
    "\n",
    "    private fun shuffleCurrentWord(word: String): String {\n",
    "        val tempWord = word.toCharArray()\n",
    "        // Scramble the word\n",
    "        tempWord.shuffle()\n",
    "        while (String(tempWord) == word) {\n",
    "            tempWord.shuffle()\n",
    "        }\n",
    "        return String(tempWord)\n",
    "    }\n",
    "\n",
    "    private fun pickRandomWordAndShuffle(): String {\n",
    "        // Continue picking up a new random word until you get one that hasn't been used before\n",
    "        currentWord = DataProvider.words.random()\n",
    "        return if (usedWords.contains(currentWord)) {\n",
    "            pickRandomWordAndShuffle()\n",
    "        } else {\n",
    "            usedWords.add(currentWord)\n",
    "            shuffleCurrentWord(currentWord)\n",
    "        }\n",
    "    }\n",
    "}"
   ]
  },
  {
   "cell_type": "markdown",
   "id": "2d3b5995-81e2-4cd7-b5b5-37000375af00",
   "metadata": {},
   "source": [
    "### Interfejs użytkownika"
   ]
  },
  {
   "cell_type": "markdown",
   "id": "49af2b31-438a-457c-a5cd-41fd89af8194",
   "metadata": {},
   "source": [
    "Ostatnim elementem będzie utworzenie funkcji `@Composable` odpowiedzialnej za renderowanie ekranu aplikacji."
   ]
  },
  {
   "cell_type": "code",
   "execution_count": null,
   "id": "546d6f02-5e68-4d0a-8845-d64f8ba54591",
   "metadata": {},
   "outputs": [],
   "source": [
    "@Composable\n",
    "fun GameScreen() {\n",
    "    \n",
    "    val gameViewModel: GameViewModel = viewModel(\n",
    "        LocalViewModelStoreOwner.current!!,\n",
    "        \"GameViewModel\",\n",
    "        GameViewModelFactory(LocalContext.current.applicationContext as Application)\n",
    "    )\n",
    "    \n",
    "    val gameUiState by gameViewModel.uiState.collectAsStateWithLifecycle()\n",
    "\n",
    "    Column(\n",
    "        modifier = Modifier\n",
    "            .verticalScroll(rememberScrollState())\n",
    "            .padding(8.dp),\n",
    "        verticalArrangement = Arrangement.Center,\n",
    "        horizontalAlignment = Alignment.CenterHorizontally\n",
    "    ) {\n",
    "        \n",
    "        // Text wyświetlający tytuł aplikacji\n",
    "        Text(\n",
    "            text = \"Unscramble\",\n",
    "            fontSize = 48.sp,\n",
    "            textDecoration = TextDecoration.Underline,\n",
    "            fontWeight = FontWeight.Bold\n",
    "        )\n",
    "        \n",
    "        // Pusta przestrzeń dodana jako separator\n",
    "        Spacer(modifier = Modifier.height(70.dp))\n",
    "\n",
    "        // Funkcja Composable definiująca sam layout gry\n",
    "        GameLayout(\n",
    "            onUserGuessChanged = { gameViewModel.updateUserGuess(it) },\n",
    "            wordCount = gameUiState.currentWordCount,\n",
    "            userGuess = gameViewModel.userGuess,\n",
    "            onKeyboardDone = { gameViewModel.checkUserGuess() },\n",
    "            currentScrambledWord = gameUiState.currentScrambledWord,\n",
    "            isGuessWrong = gameUiState.isGuessedWordWrong,\n",
    "            modifier = Modifier\n",
    "                .fillMaxWidth()\n",
    "                .wrapContentHeight()\n",
    "                .padding(8.dp)\n",
    "        )\n",
    "        \n",
    "        \n",
    "        Column(\n",
    "            modifier = Modifier\n",
    "                .fillMaxWidth()\n",
    "                .padding(8.dp),\n",
    "            verticalArrangement = Arrangement.spacedBy(8.dp),\n",
    "            horizontalAlignment = Alignment.CenterHorizontally\n",
    "        ) {\n",
    "\n",
    "            // Przecisk sprawdzający podaną przez użytkownika wartość\n",
    "            Button(\n",
    "                modifier = Modifier.fillMaxWidth(),\n",
    "                onClick = { gameViewModel.checkUserGuess() }\n",
    "            ) {\n",
    "                Text(\n",
    "                    text = \"Sprawdź\",\n",
    "                    fontSize = 16.sp\n",
    "                )\n",
    "            }\n",
    "\n",
    "            // Przycisk pozwalający pominąć aktualnie wylosowane słowo\n",
    "            OutlinedButton(\n",
    "                onClick = { gameViewModel.skipWord() },\n",
    "                modifier = Modifier.fillMaxWidth()\n",
    "            ) {\n",
    "                Text(\n",
    "                    text = \"Pomiń\",\n",
    "                    fontSize = 16.sp\n",
    "                )\n",
    "            }\n",
    "\n",
    "            // Przycisk zapisujący stan gry\n",
    "            Button(\n",
    "                modifier = Modifier.fillMaxWidth(),\n",
    "                onClick = { gameViewModel.saveGame() }\n",
    "            ) {\n",
    "                Text(\n",
    "                    text = \"Zapisz\",\n",
    "                    fontSize = 16.sp\n",
    "                )\n",
    "            }\n",
    "\n",
    "            // Przycisk wczytujący stan gry\n",
    "            Button(\n",
    "                modifier = Modifier.fillMaxWidth(),\n",
    "                onClick = { gameViewModel.loadGame() }\n",
    "            ) {\n",
    "                Text(\n",
    "                    text = \"Wczytaj\",\n",
    "                    fontSize = 16.sp\n",
    "                )\n",
    "            }\n",
    "        }\n",
    "\n",
    "        // Funkcja Composable wyświetlająca aktualny wynik\n",
    "        GameStatus(score = gameUiState.score, modifier = Modifier.padding(20.dp))\n",
    "\n",
    "        // Jeżeli glaga isGameOver jest ustawiona na true, wyświetlamy AlertDialog z wynikiem i opcjami zakończenia lub ponownego zagrania\n",
    "        if (gameUiState.isGameOver) {\n",
    "            FinalScoreDialog(\n",
    "                score = gameUiState.score,\n",
    "                onPlayAgain = { gameViewModel.resetGame() }\n",
    "            )\n",
    "        }\n",
    "    }\n",
    "}"
   ]
  },
  {
   "cell_type": "code",
   "execution_count": null,
   "id": "2c321835-7645-4c16-943e-ed6b92515528",
   "metadata": {},
   "outputs": [],
   "source": [
    "@Composable\n",
    "fun GameStatus(score: Int, modifier: Modifier = Modifier) {\n",
    "    Card(\n",
    "        modifier = modifier\n",
    "    ) {\n",
    "        // Text wyświetlający aktualny wynik\n",
    "        Text(\n",
    "            text = \"Wynik: $score\",\n",
    "            style = MaterialTheme.typography.headlineMedium,\n",
    "            modifier = Modifier.padding(8.dp)\n",
    "        )\n",
    "\n",
    "    }\n",
    "}"
   ]
  },
  {
   "cell_type": "code",
   "execution_count": null,
   "id": "3fc7f9b5-abd0-4582-b102-0eaeb194506e",
   "metadata": {},
   "outputs": [],
   "source": [
    "@OptIn(ExperimentalMaterial3Api::class)\n",
    "@Composable\n",
    "fun GameLayout(\n",
    "    currentScrambledWord: String,\n",
    "    wordCount: Int,\n",
    "    isGuessWrong: Boolean,\n",
    "    userGuess: String,\n",
    "    onUserGuessChanged: (String) -> Unit,\n",
    "    onKeyboardDone: () -> Unit,\n",
    "    modifier: Modifier = Modifier\n",
    ") {\n",
    "\n",
    "    Card(\n",
    "        modifier = modifier,\n",
    "        elevation = CardDefaults.cardElevation(defaultElevation = 5.dp)\n",
    "    ) {\n",
    "        Column(\n",
    "            verticalArrangement = Arrangement.spacedBy(8.dp),\n",
    "            horizontalAlignment = Alignment.CenterHorizontally,\n",
    "            modifier = Modifier.padding(8.dp)\n",
    "        ) {\n",
    "            // Text pokazujący licznik słów\n",
    "            Text(\n",
    "                modifier = Modifier\n",
    "                    .clip(MaterialTheme.shapes.medium)\n",
    "                    .background(MaterialTheme.colorScheme.surfaceTint)\n",
    "                    .padding(horizontal = 10.dp, vertical = 4.dp)\n",
    "                    .align(alignment = Alignment.End),\n",
    "                text = \"$wordCount/10\",\n",
    "                style = MaterialTheme.typography.titleMedium,\n",
    "                color = MaterialTheme.colorScheme.onPrimary\n",
    "            )\n",
    "            \n",
    "        \n",
    "            Text(\n",
    "                text = currentScrambledWord,\n",
    "                style = MaterialTheme.typography.displayMedium\n",
    "            )\n",
    "            \n",
    "            // Pole edytowalne w które użytkownik wprowadza odpowiedź\n",
    "            OutlinedTextField(\n",
    "                value = userGuess, // ustawienie aktualnej wartości\n",
    "                singleLine = true, // pole posiada tylko jedną linię tekstu\n",
    "                shape = MaterialTheme.shapes.large, // wygląd pola\n",
    "                modifier = Modifier.fillMaxWidth(),\n",
    "                colors = TextFieldDefaults.textFieldColors(containerColor = MaterialTheme.colorScheme.surface),\n",
    "                onValueChange = onUserGuessChanged, // wywołujemy viewmodel.updateUserGuess aktualizujące pole z ostatnią odpowiedzią użytkownika\n",
    "                label = {\n",
    "                    if (isGuessWrong) { // jeżeli użytkownik odpowiedział błędnie wyświetlamy Text z napisem \"błąd\"\n",
    "                        Text(\"Błąd\")\n",
    "                    } else {\n",
    "                        Text(\"Zgadnij\") // domyślny napis pola - 'hint'\n",
    "                    }\n",
    "                },\n",
    "                isError = isGuessWrong,\n",
    "                \n",
    "                // Definiuje etykietę akcji, która będzie wyświetlana na przycisku akcji klawiatury (zazwyczaj w prawym dolnym rogu klawiatury).\n",
    "                // Ustawienie ImeAction.Done oznacza, że przycisk akcji na klawiaturze będzie miał etykietę \"Gotowe\"\n",
    "                keyboardOptions = KeyboardOptions.Default.copy(\n",
    "                    imeAction = ImeAction.Done\n",
    "                ),\n",
    "                \n",
    "                // Kiedy użytkownik naciśnie przycisk akcji \"Gotowe\" na klawiaturze, zostanie wywołana funkcja onKeyboardDone(),\n",
    "                // w której wywołujemy gameViewModel.checkUserGuess()\n",
    "                // sama funkcja jest przekazana jako parametr\n",
    "                keyboardActions = KeyboardActions(\n",
    "                    onDone = { onKeyboardDone() }\n",
    "                )\n",
    "            )\n",
    "        }\n",
    "    }\n",
    "}"
   ]
  },
  {
   "cell_type": "code",
   "execution_count": null,
   "id": "acb44795-653a-4be3-9639-7e459d922583",
   "metadata": {},
   "outputs": [],
   "source": [
    "/*\n",
    " * Creates and shows an AlertDialog with final score.\n",
    " */\n",
    "@Composable\n",
    "private fun FinalScoreDialog(\n",
    "    score: Int,\n",
    "    onPlayAgain: () -> Unit,\n",
    "    modifier: Modifier = Modifier\n",
    ") {\n",
    "    // uzyskanie dostępu do instancji aktywności\n",
    "    // dzięki temu możemy ją np zamknąć\n",
    "    val activity = (LocalContext.current as Activity)\n",
    "\n",
    "    // alertDialog będzie wykorzystany jako ekran końcowy gry\n",
    "    AlertDialog(\n",
    "        onDismissRequest = { // po wciśnięciu na ekranie miejsca poza dialogiem zostanie on zamknięty\n",
    "            // Dismiss the dialog when the user clicks outside the dialog or on the back\n",
    "            // button. If you want to disable that functionality, simply use an empty\n",
    "            // onCloseRequest.\n",
    "        },\n",
    "        title = { Text(text = \"Gratulacje\") },\n",
    "        text = { Text(text = \"$score punktów\") },\n",
    "        modifier = modifier,\n",
    "        dismissButton = { // przycisk zamykający dialog\n",
    "            TextButton(\n",
    "                onClick = {\n",
    "                    activity.finish()\n",
    "                }\n",
    "            ) {\n",
    "                Text(text = \"Wyjdź\")\n",
    "            }\n",
    "        },\n",
    "        confirmButton = { // przycisk potwierdzający wykonanie akcji\n",
    "            TextButton(onClick = onPlayAgain) { // wywołujemy gameViewModel.resetGame()\n",
    "                Text(text = \"Zagraj ponownie\")\n",
    "            }\n",
    "        }\n",
    "    )\n",
    "}"
   ]
  },
  {
   "cell_type": "markdown",
   "id": "f10827e9-0dca-451a-b8b6-2a50029eadcb",
   "metadata": {},
   "source": [
    "Dodajmy wywołanie funkcji do aktywności głównej."
   ]
  },
  {
   "cell_type": "code",
   "execution_count": null,
   "id": "ab613149-58a6-409f-abc8-a2bea0d74f31",
   "metadata": {},
   "outputs": [],
   "source": [
    "class MainActivity : ComponentActivity() {\n",
    "    override fun onCreate(savedInstanceState: Bundle?) {\n",
    "        super.onCreate(savedInstanceState)\n",
    "        setContent {\n",
    "            UnscrambleComposeTheme {\n",
    "                // A surface container using the 'background' color from the theme\n",
    "                Surface(\n",
    "                    modifier = Modifier.fillMaxSize(),\n",
    "                    color = MaterialTheme.colorScheme.background\n",
    "                ) {\n",
    "                    GameScreen()\n",
    "                }\n",
    "            }\n",
    "        }\n",
    "    }\n",
    "}"
   ]
  },
  {
   "cell_type": "markdown",
   "id": "f7c0eeca-fd0c-4974-843d-01b5e8b8bc26",
   "metadata": {},
   "source": [
    "Możemy przetestować grę"
   ]
  },
  {
   "cell_type": "markdown",
   "id": "76f46408-1170-4913-b575-ee286a38acdc",
   "metadata": {},
   "source": [
    "<table><tr><td><img src=\"https://media4.giphy.com/media/v1.Y2lkPTc5MGI3NjExYWwxOGlnNGQ3Mm9xOGRraHFuaXFyOXA0dXkwNWI2OGx0M2RvbndlMSZlcD12MV9pbnRlcm5hbF9naWZfYnlfaWQmY3Q9Zw/c4MVddvPAaRxrwp9JB/giphy.gif\" width=\"200\" /></td><td><img src=\"https://media2.giphy.com/media/v1.Y2lkPTc5MGI3NjExMnVzODY5dDR1a2QxdDk0MmtibWhmZXM0ZW0yc2VkcWZwd3NkaHlmZyZlcD12MV9pbnRlcm5hbF9naWZfYnlfaWQmY3Q9Zw/t3ERZ9ZxBVMeNiY1KY/giphy.gif\" width=\"200\" /></td><td><img src=\"https://media2.giphy.com/media/v1.Y2lkPTc5MGI3NjExbW8yN201Y3EzOHN6MGZsenhlMTM1ZHU0dWY5bmtkd2lvcTVybnZyZyZlcD12MV9pbnRlcm5hbF9naWZfYnlfaWQmY3Q9Zw/bCYIyjvwkKXnvrGd3n/giphy.gif\" width=\"200\" /></td></tr></table>"
   ]
  }
 ],
 "metadata": {
  "kernelspec": {
   "display_name": "Kotlin",
   "language": "kotlin",
   "name": "kotlin"
  },
  "language_info": {
   "codemirror_mode": "text/x-kotlin",
   "file_extension": ".kt",
   "mimetype": "text/x-kotlin",
   "name": "kotlin",
   "nbconvert_exporter": "",
   "pygments_lexer": "kotlin",
   "version": "1.8.0-RC"
  }
 },
 "nbformat": 4,
 "nbformat_minor": 5
}
