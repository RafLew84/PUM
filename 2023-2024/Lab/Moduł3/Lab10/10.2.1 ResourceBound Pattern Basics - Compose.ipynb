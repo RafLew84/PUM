{
 "cells": [
  {
   "cell_type": "markdown",
   "id": "7ae29d90-1eea-46bd-a05e-18e9eb0c5e86",
   "metadata": {},
   "source": [
    "# Jetpack Compose - ResourceBound Pattern - Podstawy"
   ]
  },
  {
   "cell_type": "markdown",
   "id": "13ef9f96-89a9-441c-b38d-e91caa758ab2",
   "metadata": {},
   "source": [
    "W tej aplikacji przyjrzymy się zastosowaniu biblioteki zastosowaniu wzorca `ResourceBound`, który ułatwia obsługę różnych stanów (ładowanie, błąd, sukces) w przypadku obsługi danych z zewnętrznych serwisów."
   ]
  },
  {
   "cell_type": "markdown",
   "id": "25a63712-2b04-4493-bbea-a8ad4adcf50e",
   "metadata": {},
   "source": [
    "<img src=\"https://media0.giphy.com/media/v1.Y2lkPTc5MGI3NjExNXRjMjNlbjJmYTNiMW45OW1iZmh2dnpzN2l1MmxsejB0eWlqNDNnMCZlcD12MV9pbnRlcm5hbF9naWZfYnlfaWQmY3Q9Zw/6lIYVQa6srpVlsTU7u/giphy.gif\" width=\"200\" />"
   ]
  },
  {
   "cell_type": "markdown",
   "id": "a0660255-291f-4414-ad76-896fa46abb35",
   "metadata": {},
   "source": [
    "Klasa `Resource` jest przydatna, gdy chcemy przekazywać różne stany operacji do interfejsu użytkownika. Na przykład, gdy pobieramy dane z sieci, możemy używać `Resource` do informowania interfejsu użytkownika o stanie ładowania, sukcesie lub błędzie, a także dostarczyć odpowiednie dane i komunikaty w zależności od wyniku operacji. Jest to często stosowane w architekturze **MVVM** (Model-View-ViewModel), aby lepiej zarządzać stanem interfejsu użytkownika i przekazywać wyniki operacji do widoku."
   ]
  },
  {
   "cell_type": "markdown",
   "id": "84b2895b-31fd-4257-bd73-eac440ac3a61",
   "metadata": {},
   "source": [
    "W tej aplikacji również wykorzystamy  [**JSONPlaceholder**](https://jsonplaceholder.typicode.com/), tym razem z endpointem `comments`"
   ]
  },
  {
   "cell_type": "markdown",
   "id": "4ff5ec4a-de89-48b9-a856-5915913c5c37",
   "metadata": {},
   "source": [
    "Rozpocznijmy od dodania zależności\n",
    "```kotlin\n",
    "implementation (\"androidx.lifecycle:lifecycle-viewmodel-compose:2.6.1\")\n",
    "implementation (\"androidx.lifecycle:lifecycle-viewmodel-ktx:2.6.1\")\n",
    "implementation (\"androidx.lifecycle:lifecycle-runtime-compose:2.6.1\")\n",
    "\n",
    "implementation (\"com.squareup.retrofit2:retrofit:2.9.0\")\n",
    "implementation (\"com.squareup.retrofit2:converter-gson:2.9.0\")\n",
    "implementation (\"com.squareup.okhttp3:logging-interceptor:4.10.0\")\n",
    "```"
   ]
  },
  {
   "cell_type": "markdown",
   "id": "75a82902-c436-4177-a157-654d2be2e3cc",
   "metadata": {},
   "source": [
    "Nasza aplikacja wymaga dostępu do internetu, aby go uzyskać musimy dodać deklarację uprawnienia w pliku konfiguracyjnym aplikacji, który nazywa się `AndroidManifest.xml`. To uprawnienie informuje system operacyjny Android, że aplikacja potrzebuje dostępu do internetu."
   ]
  },
  {
   "cell_type": "code",
   "execution_count": null,
   "id": "5e60a304-f5f7-462b-867c-16ee2a0dab3c",
   "metadata": {},
   "outputs": [],
   "source": [
    "<uses-permission android:name=\"android.permission.INTERNET\"/>"
   ]
  },
  {
   "cell_type": "markdown",
   "id": "8d9dd89f-cda4-4777-b7d5-8739ce9f3f88",
   "metadata": {},
   "source": [
    "Następnie dodajmy model danych"
   ]
  },
  {
   "cell_type": "code",
   "execution_count": null,
   "id": "db1da08c-20e8-405f-8a7e-b8e8300f1401",
   "metadata": {},
   "outputs": [],
   "source": [
    "data class CommentResponseItem(\n",
    "    val body: String,\n",
    "    val email: String,\n",
    "    val id: Int,\n",
    "    val name: String,\n",
    "    val postId: Int\n",
    ")"
   ]
  },
  {
   "cell_type": "markdown",
   "id": "0b3561e5-5860-47fc-804c-a21c1bf6e0fe",
   "metadata": {},
   "source": [
    "Następnie dodajmy interfejs"
   ]
  },
  {
   "cell_type": "code",
   "execution_count": null,
   "id": "6b87d2e0-d10a-4650-8538-fb1f5adab24d",
   "metadata": {},
   "outputs": [],
   "source": [
    "interface PlaceholderApi {\n",
    "    @GET(\"comments\")\n",
    "    suspend fun comments(): Response<List<CommentResponseItem>>\n",
    "}"
   ]
  },
  {
   "cell_type": "markdown",
   "id": "63341532-ddb7-419b-8678-eeb0e053b66f",
   "metadata": {},
   "source": [
    "Zwróćmy uwagę na zastosowanie obiektu `Response`, jest to obiekt, który reprezentuje odpowiedź HTTP otrzymaną od serwera po wysłaniu żądania HTTP. Jest to ważny element przy pracy z `Retrofit`, ponieważ umożliwia analizę wyników operacji sieciowych.\n",
    "\n",
    "- Reprezentacja odpowiedzi HTTP: `Response` zawiera wszystkie informacje otrzymane od serwera w odpowiedzi na żądanie HTTP. Obejmuje to kod stanu HTTP, nagłówki, dane i inne metadane.\n",
    "- Kod stanu HTTP: Obiekt `Response` zawiera kod stanu HTTP, który informuje o wyniku żądania. Na przykład, kod stanu 200 oznacza sukces, a kody stanu 4xx i 5xx oznaczają błędy. Możesz użyć kodu stanu, aby określić, czy operacja zakończyła się sukcesem czy błędem.\n",
    "- Dane odpowiedzi: `Response` może zawierać dane przesłane przez serwer. Odpowiedź może być w formacie JSON, XML, tekstu lub innym, w zależności od formatu danych przekazywanych między klientem a serwerem.\n",
    "- Nagłówki HTTP: Obiekt `Response` może również zawierać nagłówki HTTP przekazane przez serwer. Nagłówki mogą zawierać różne metadane dotyczące odpowiedzi, takie jak typ treści, długość treści, dane uwierzytelniające itp.\n",
    "- Przetwarzanie odpowiedzi: Za pomocą obiektów `Response` można przetwarzać odpowiedzi w celu wyodrębnienia potrzebnych danych lub informacji zwrotnych z serwera.\n",
    "- Obsługa błędów: `Response` umożliwia obsługę błędów HTTP. Jeśli serwer zwraca błąd, można to wykryć na podstawie kodu stanu i podjąć odpowiednie kroki, takie jak wyświetlenie komunikatu o błędzie użytkownikowi.\n",
    "- Sprawdzanie poprawności odpowiedzi: Przy użyciu `Response` można sprawdzać, czy odpowiedź jest poprawna i zawiera oczekiwane dane.\n",
    "- Przykładowe operacje na obiekcie `Response` w `Retrofit` obejmują sprawdzanie kodu stanu za pomocą `response.isSuccessful()`, odczytywanie danych za pomocą `response.body()`, pobieranie nagłówków za pomocą `response.headers()`, a także obsługę błędów, jeśli odpowiedź jest niepoprawna.\n",
    "- Obiekty typu `Response` są używane w celu skonkretyzowania i analizy wyników operacji sieciowych."
   ]
  },
  {
   "cell_type": "markdown",
   "id": "fc744d77-1f23-4e9b-add2-09d3761c0ffd",
   "metadata": {},
   "source": [
    "Dodajmy instancję `Retrofit` oraz repozytorium."
   ]
  },
  {
   "cell_type": "code",
   "execution_count": null,
   "id": "9ed04c63-7fa5-4e51-a32b-6baa748986e4",
   "metadata": {},
   "outputs": [],
   "source": [
    "object RetrofitInstance {\n",
    "    val api: PlaceholderApi by lazy {\n",
    "        Retrofit.Builder()\n",
    "            .baseUrl(\"https://jsonplaceholder.typicode.com/\")\n",
    "            .addConverterFactory(GsonConverterFactory.create())\n",
    "            .build()\n",
    "            .create(PlaceholderApi::class.java)\n",
    "    }\n",
    "}"
   ]
  },
  {
   "cell_type": "code",
   "execution_count": null,
   "id": "48763e4a-28f5-4bfd-9ae4-8e344a3e1c91",
   "metadata": {},
   "outputs": [],
   "source": [
    "class CommentRepository {\n",
    "    private val api = RetrofitInstance.api\n",
    "\n",
    "    suspend fun getComments() = api.comments()\n",
    "}"
   ]
  },
  {
   "cell_type": "markdown",
   "id": "52b8dfcc-ca5b-4580-88be-0087a69762ab",
   "metadata": {},
   "source": [
    "Zanim przejdziemy do viewmodelu, dodajmy klasę `Resource`, która pozwoli nam reprezentować różne stany operacji."
   ]
  },
  {
   "cell_type": "code",
   "execution_count": null,
   "id": "3485750d-8b06-48cc-9564-fedfb772dbc6",
   "metadata": {},
   "outputs": [],
   "source": [
    "sealed class Resource<T> (\n",
    "    val data: T? = null,\n",
    "    val message: String? = null\n",
    "){\n",
    "    class Success<T>(data: T) : Resource<T>(data)\n",
    "    class Error<T>(message: String, data: T? = null) : Resource<T>(data, message)\n",
    "    class Loading<T> : Resource<T>()\n",
    "}"
   ]
  },
  {
   "cell_type": "markdown",
   "id": "d08c51b5-5cb8-4a13-bafc-03c8f59f741d",
   "metadata": {},
   "source": [
    "- `sealed class Resource<T>`: Jest to deklaracja klasy `Resource`, która jest opakowaniem wyniku operacji. Parametr generyczny `T` oznacza typ danych, które będą przechowywane w obiekcie `Resource`.\n",
    "- `val data: T? = null`: To jest pole `data`, które przechowuje wynik operacji. Może to być obiekt zawierający `dane` lub `null`, jeśli operacja nie zwróciła wyniku.\n",
    "- `val message: String? = null`: To jest pole `message`, które może zawierać wiadomość lub komunikat związany z wynikiem operacji. Jest to przydatne do przechowywania informacji zwrotnych lub błędów.\n",
    "- `class Success<T>(data: T) : Resource<T>(data)`: Jest to podklasa `Resource`, która reprezentuje sukces operacji. Przyjmuje dane (`data`) jako argument konstruktora.\n",
    "- `class Error<T>(message: String, data: T? = null) : Resource<T>(data, message)`: Jest to podklasa `Resource`, która reprezentuje błąd operacji. Przyjmuje wiadomość błędu (`message`) i opcjonalnie dane związane z błędem (`data`) jako argumenty konstruktora.\n",
    "- `class Loading<T> : Resource<T>()`: Jest to podklasa `Resource`, która reprezentuje stan ładowania. Nie przyjmuje żadnych danych. Jest używana do informowania interfejsu użytkownika, że operacja jest w trakcie wykonywania."
   ]
  },
  {
   "cell_type": "markdown",
   "id": "fca47f0d-ff54-4e2c-8330-3ea5f4d3b9e0",
   "metadata": {},
   "source": [
    "Następnie przejdźmy do implementacji viewmodel."
   ]
  },
  {
   "cell_type": "code",
   "execution_count": null,
   "id": "c8c69d97-a84a-4caf-9082-71b0b1f33731",
   "metadata": {},
   "outputs": [],
   "source": [
    "class CommentsViewModel : ViewModel() {\n",
    "    private val repository = CommentRepository()\n",
    "    private var _comments: MutableStateFlow<Resource<List<CommentResponseItem>>> = MutableStateFlow(Resource.Loading())\n",
    "    val comments: StateFlow<Resource<List<CommentResponseItem>>> = _comments\n",
    "\n",
    "    init {\n",
    "        getCommentsList()\n",
    "    }\n",
    "\n",
    "    private fun getCommentsList() = viewModelScope.launch {\n",
    "        _comments.value = Resource.Loading()\n",
    "        val response = repository.getComments()\n",
    "        _comments.value = handleCommentsResponse(response)\n",
    "    }\n",
    "\n",
    "    private fun handleCommentsResponse(response: Response<List<CommentResponseItem>>)\n",
    "            : Resource<List<CommentResponseItem>> {\n",
    "        if (response.isSuccessful)\n",
    "            response.body()?.let { return Resource.Success(it) }\n",
    "        return Resource.Error(response.message())\n",
    "    }\n",
    "}"
   ]
  },
  {
   "cell_type": "markdown",
   "id": "5543581c-b883-4231-8e1e-1dbda5c104de",
   "metadata": {},
   "source": [
    "Funkcja `handleCommentsResponse` jest używana do przetwarzania odpowiedzi HTTP z serwera w celu utworzenia odpowiedniego obiektu `Resource`. W zależności od wyniku operacji sieciowej, funkcja ta zwraca `Resource.Success` z danymi komentarzy lub `Resource.Error` z komunikatem błędu. "
   ]
  },
  {
   "cell_type": "markdown",
   "id": "8bdf718d-c8c1-43f8-8152-ddd2562b7cb0",
   "metadata": {},
   "source": [
    "- `if (response.isSuccessful)`: To jest warunek sprawdzający, czy odpowiedź jest udana. `response.isSuccessful` zwraca `true`, jeśli kod stanu HTTP w odpowiedzi jest w zakresie 2xx, co oznacza sukces.\n",
    "- `response.body()?.let { return Resource.Success(it) }`: Jeśli odpowiedź jest udana, to wykorzystywany jest operator `?.let`, który sprawdza, czy ciało odpowiedzi (`response.body()`) nie jest `null`, a następnie tworzy obiekt `Resource.Success` z danymi komentarzy i go zwraca. Ten obiekt oznacza sukces operacji i zawiera dane komentarzy.\n",
    "- `return Resource.Error(response.message())`: Jeśli odpowiedź nie jest udana (kod stanu HTTP jest różny od 2xx), to jest tworzony obiekt `Resource.Error` z komunikatem błędu uzyskanym z odpowiedzi (`response.message()`). Ten obiekt oznacza błąd operacji."
   ]
  },
  {
   "cell_type": "markdown",
   "id": "6812a275-ff40-473c-b9ed-5d9f6b57a9e1",
   "metadata": {},
   "source": [
    "Funkcja `getCommentsList()` jest odpowiedzialna za inicjowanie operacji pobierania listy komentarzy, ustawianie odpowiedniego stanu `_comments` (`Loading`), wykonanie żądania HTTP, przetworzenie odpowiedzi i zaktualizowanie stanu `_comments` w zależności od wyniku operacji."
   ]
  },
  {
   "cell_type": "markdown",
   "id": "6ba30606-e5b4-4bd9-be9f-c145559ea2ad",
   "metadata": {},
   "source": [
    "- `_comments.value = Resource.Loading()`: Na początku funkcja ustawia stan `_comments` na `Resource.Loading()`, co oznacza, że operacja pobierania jest w trakcie wykonywania. Jest to sygnał dla interfejsu użytkownika, że aplikacja jest w trakcie ładowania danych.\n",
    "- `val response = repository.getComments()`: Następnie funkcja wywołuje metodę `getComments()` na instancji `repository`, aby wysłać żądanie HTTP do serwera w celu pobrania listy komentarzy.\n",
    "- `_comments.value = handleCommentsResponse(response)`: Po otrzymaniu odpowiedzi HTTP, funkcja przekazuje ten obiekt `Response` do funkcji `handleCommentsResponse(response)`. Ta funkcja przetwarza odpowiedź i zwraca odpowiedni obiekt `Resource`, który reprezentuje stan komentarzy. Wynik jest przypisywany do `_comments`, co aktualizuje stan komentarzy w `CommentsViewModel`."
   ]
  },
  {
   "cell_type": "markdown",
   "id": "ad48c723-e8a4-4cc0-91ca-d8c41a03b1e6",
   "metadata": {},
   "source": [
    "Przejdźmy do komponentu reprezentującego ekran."
   ]
  },
  {
   "cell_type": "code",
   "execution_count": null,
   "id": "6d66a341-3dc1-4ccf-92de-a89cc0df3a89",
   "metadata": {},
   "outputs": [],
   "source": [
    "@Composable\n",
    "fun CommentsScreen(){\n",
    "    val viewModel: CommentsViewModel = viewModel()\n",
    "\n",
    "    val response by viewModel.comments.collectAsStateWithLifecycle()\n",
    "\n",
    "\n",
    "    when (response) {\n",
    "        is Resource.Success -> { response.data?.let { ShowList(comments = it) } }\n",
    "        is Resource.Error -> {  }\n",
    "        is Resource.Loading -> {  }\n",
    "    }\n",
    "}"
   ]
  },
  {
   "cell_type": "markdown",
   "id": "9ca3548c-cc83-4a8d-87df-2c89366d177c",
   "metadata": {},
   "source": [
    "`when (response) { ... }`: Jest to konstrukcja `when`, która w zależności od stanu response wyświetla odpowiedni widok. Możliwe stany to `Resource.Success`, `Resource.Error` i `Resource.Loading`.\n",
    "- `is Resource.Success -> { response.data?.let { ShowList(comments = it) } }`: Jeśli stan `response` to `Resource.Success`, to wywoływana jest funkcja `ShowList` z listą komentarzy dostępną w `response.data`.\n",
    "- `is Resource.Error -> { }`: Jeśli stan `response` to `Resource.Error`, to nie są podejmowane żadne działania. Tutaj można dodać obsługę błędów, np. wyświetlanie komunikatu o błędzie.\n",
    "- `is Resource.Loading -> { }`: Jeśli stan `response` to `Resource.Loading`, to nie są podejmowane żadne działania. To może być miejsce na wyświetlenie wskaźnika ładowania lub innej informacji o trwającym procesie ładowania."
   ]
  },
  {
   "cell_type": "code",
   "execution_count": null,
   "id": "e1475098-7d8a-4aa7-9a0e-9863f7b5c439",
   "metadata": {},
   "outputs": [],
   "source": [
    "@Composable\n",
    "private fun ShowList(comments: List<CommentResponseItem>) {\n",
    "    LazyColumn {\n",
    "        items(comments) { comment ->\n",
    "            Column {\n",
    "                Text(\n",
    "                    text = \"NAME:\\n\" + comment.name,\n",
    "                    Modifier.padding(4.dp)\n",
    "                )\n",
    "                Text(\n",
    "                    text = \"CONTENT:\\n\" + comment.body,\n",
    "                    Modifier.padding(4.dp)\n",
    "                )\n",
    "                Text(\n",
    "                    text = \"POST ID:\\n\" + comment.postId.toString(),\n",
    "                    Modifier.padding(4.dp)\n",
    "                )\n",
    "                Spacer(modifier = Modifier.padding(12.dp))\n",
    "            }\n",
    "        }\n",
    "    }\n",
    "}"
   ]
  },
  {
   "cell_type": "markdown",
   "id": "e4ecf742-c2cb-41f1-8022-62d0ed6071ca",
   "metadata": {},
   "source": [
    "Możemy przetestować aplikację."
   ]
  },
  {
   "cell_type": "markdown",
   "id": "66621718-6cc6-4340-8b4e-191b9cc3eebd",
   "metadata": {},
   "source": [
    "<img src=\"https://media0.giphy.com/media/v1.Y2lkPTc5MGI3NjExNXRjMjNlbjJmYTNiMW45OW1iZmh2dnpzN2l1MmxsejB0eWlqNDNnMCZlcD12MV9pbnRlcm5hbF9naWZfYnlfaWQmY3Q9Zw/6lIYVQa6srpVlsTU7u/giphy.gif\" width=\"200\" />"
   ]
  },
  {
   "cell_type": "code",
   "execution_count": null,
   "id": "d49cf075-6136-423e-b2f7-4903714e0647",
   "metadata": {},
   "outputs": [],
   "source": []
  }
 ],
 "metadata": {
  "kernelspec": {
   "display_name": "Kotlin",
   "language": "kotlin",
   "name": "kotlin"
  },
  "language_info": {
   "codemirror_mode": "text/x-kotlin",
   "file_extension": ".kt",
   "mimetype": "text/x-kotlin",
   "name": "kotlin",
   "nbconvert_exporter": "",
   "pygments_lexer": "kotlin",
   "version": "1.8.0-RC"
  }
 },
 "nbformat": 4,
 "nbformat_minor": 5
}
