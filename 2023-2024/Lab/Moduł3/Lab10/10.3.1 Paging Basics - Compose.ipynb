{
 "cells": [
  {
   "cell_type": "markdown",
   "id": "29ea5589-82c2-4be7-b7f0-129f73cb5a63",
   "metadata": {},
   "source": [
    "# Jetpack Compose - Paging3 - Podstawy"
   ]
  },
  {
   "cell_type": "markdown",
   "id": "a32ce0fe-df8a-415a-b65b-4c122b39b784",
   "metadata": {},
   "source": [
    "W tej aplikacji przyjrzymy się zastosowaniu biblioteki **Paging** w aplikacji."
   ]
  },
  {
   "cell_type": "markdown",
   "id": "45ace1af-0f27-45f7-a416-459041ad37d7",
   "metadata": {},
   "source": [
    "<img src=\"https://media4.giphy.com/media/v1.Y2lkPTc5MGI3NjExd2UzaWtveDNyaXZ6aDhtaWs1bTJwcTByNGQ3ODRpbHdqbDF1emlyZiZlcD12MV9pbnRlcm5hbF9naWZfYnlfaWQmY3Q9Zw/psiQ7oTjhymbdfqRVC/giphy.gif\" width=\"200\" />"
   ]
  },
  {
   "cell_type": "markdown",
   "id": "36f9cbee-1994-4756-94d5-5c3ebd142590",
   "metadata": {},
   "source": [
    "Biblioteka `Paging3` to narzędzie do paginacji, które ułatwia ładowanie danych partiami w aplikacjach.\n",
    "\n",
    "- Efektywne ładowanie danych: Biblioteka pomaga w efektywnym zarządzaniu ładowaniem dużych zbiorów danych, takich jak listy elementów w aplikacjach z wieloma rekordami. Dzięki niemu możesz ładować dane partiami, co pozwala na lepszą wydajność i oszczędność zasobów urządzenia.\n",
    "- Aktualizacje w czasie rzeczywistym: Biblioteka umożliwia automatyczne monitorowanie źródła danych i dostarcza aktualizacje w czasie rzeczywistym, na przykład w odpowiedzi na zmiany w bazie danych lub na serwerze.\n",
    "- Łatwe obsługiwanie błędów i odzyskiwanie: Biblioteka zawiera wbudowane mechanizmy obsługi błędów i odzyskiwania, co ułatwia zarządzanie sytuacjami takimi jak utrata połączenia internetowego lub błędy zapytań do źródła danych.\n",
    "- Obsługa różnych źródeł danych: Możesz używać biblioteki z różnymi źródłami danych, takimi jak baza danych lokalna, zapytania sieciowe lub inne źródła danych.\n",
    "- Integracja z interfejsem użytkownika: Biblioteka jest łatwa do zintegrowania z interfejsem użytkownika. Pozwala na płynne przewijanie i dynamiczne ładowanie nowych danych w miarę przewijania listy.\n",
    "- Aby korzystać z biblioteki, musisz zdefiniować źródło danych `PagingSource`, które dostarcza dane `PagingData`. Biblioteka automatycznie zarządza ładowaniem danych w odpowiednich momentach, co ułatwia tworzenie wydajnych i responsywnych aplikacji Android.\n",
    "- Biblioteka posiada wbudowane mechanizmy obsługi stanów (`LoadingState.Error`, `LoadingState.Append` etc.)"
   ]
  },
  {
   "cell_type": "markdown",
   "id": "68e9c922-e156-4e35-ba90-427ed78f7c6d",
   "metadata": {},
   "source": [
    "W tym przykładzie wykorzystamy [**SWAPI**](https://swapi.dev), który jest API posiadającym dane z uniwersum Star Wars. W tym przykładzie wykorzystamy endpoint *people* do wyświetlenia popularnych postaci.\n",
    "\n",
    "Odpowiedź z serwera wygląda następująco:"
   ]
  },
  {
   "cell_type": "code",
   "execution_count": null,
   "id": "b02b9433-471b-45d6-8c34-683bede79c09",
   "metadata": {},
   "outputs": [],
   "source": [
    "{\n",
    "\t\"count\": 82,\n",
    "\t\"next\": \"https://swapi.dev/api/people/?page=2\",\n",
    "\t\"previous\": null,\n",
    "\t\"results\": [\n",
    "\t\t{\n",
    "\t\t\t\"name\": \"Luke Skywalker\",\n",
    "\t\t\t\"height\": \"172\",\n",
    "\t\t\t\"mass\": \"77\",\n",
    "\t\t\t\"hair_color\": \"blond\",\n",
    "\t\t\t\"skin_color\": \"fair\",\n",
    "\t\t\t\"eye_color\": \"blue\",\n",
    "\t\t\t\"birth_year\": \"19BBY\",\n",
    "\t\t\t\"gender\": \"male\",\n",
    "\t\t\t\"homeworld\": \"https://swapi.dev/api/planets/1/\",\n",
    "\t\t\t\"films\": [\n",
    "\t\t\t\t\"https://swapi.dev/api/films/1/\",\n",
    "\t\t\t\t\"https://swapi.dev/api/films/2/\",\n",
    "\t\t\t\t\"https://swapi.dev/api/films/3/\",\n",
    "\t\t\t\t\"https://swapi.dev/api/films/6/\"\n",
    "\t\t\t],\n",
    "\t\t\t\"species\": [],\n",
    "\t\t\t\"vehicles\": [\n",
    "\t\t\t\t\"https://swapi.dev/api/vehicles/14/\",\n",
    "\t\t\t\t\"https://swapi.dev/api/vehicles/30/\"\n",
    "\t\t\t],\n",
    "\t\t\t\"starships\": [\n",
    "\t\t\t\t\"https://swapi.dev/api/starships/12/\",\n",
    "\t\t\t\t\"https://swapi.dev/api/starships/22/\"\n",
    "\t\t\t],\n",
    "\t\t\t\"created\": \"2014-12-09T13:50:51.644000Z\",\n",
    "\t\t\t\"edited\": \"2014-12-20T21:17:56.891000Z\",\n",
    "\t\t\t\"url\": \"https://swapi.dev/api/people/1/\"\n",
    "\t\t},\n",
    "        ...\n",
    "        ]\n",
    "}"
   ]
  },
  {
   "cell_type": "markdown",
   "id": "c7cd812c-e114-4e15-bdd8-ab1da2bf6f8d",
   "metadata": {},
   "source": [
    "Bartdzo często w odpowiedzi znajdują się *metadane* zawierające różne informacje, tutaj mamy całkowitą liczbę rekordów (`count: 82`), linki do poprzedniej i następnej strony (`previous`, `next`), oraz dane (`result`). Kolejne porcje edanych otrzymujemy poprzez kojene zapytania `people/page`, każda strona zawiera 10 rekordów. W aplikacji będziemy ładować dane z tego endpointa po 10, dopóki nie załadujemy wszystkich 82 postaci. Nie będziemy obsługiwali stanów błędów i ładowania dla prostoty aplikacji i aby skupić się tylko na samej paginacji."
   ]
  },
  {
   "cell_type": "markdown",
   "id": "082e7dca-a644-4f9c-8d53-2f7d20c25db2",
   "metadata": {},
   "source": [
    "Nasza aplikacja wymaga dostępu do internetu, aby go uzyskać musimy dodać deklarację uprawnienia w pliku konfiguracyjnym aplikacji, który nazywa się `AndroidManifest.xml`. To uprawnienie informuje system operacyjny Android, że aplikacja potrzebuje dostępu do internetu."
   ]
  },
  {
   "cell_type": "code",
   "execution_count": null,
   "id": "acd777b9-9fbc-4405-af67-a7c2edebc6bb",
   "metadata": {},
   "outputs": [],
   "source": [
    "<uses-permission android:name=\"android.permission.INTERNET\"/>"
   ]
  },
  {
   "cell_type": "markdown",
   "id": "c86d0afa-1799-48fd-8c36-27fd4bf4b67b",
   "metadata": {},
   "source": [
    "Następnie dodajmy wymagane zależności do projektu.\n",
    "\n",
    "```kotlin\n",
    "implementation (\"androidx.paging:paging-runtime-ktx:3.2.0\")\n",
    "\n",
    "implementation (\"com.squareup.retrofit2:retrofit:2.9.0\")\n",
    "implementation (\"com.google.code.gson:gson:2.9.1\")\n",
    "implementation (\"com.squareup.retrofit2:converter-gson:2.9.0\")\n",
    "\n",
    "// ViewModel\n",
    "implementation (\"androidx.lifecycle:lifecycle-viewmodel-ktx:2.6.1\")\n",
    "//Fragment\n",
    "implementation (\"androidx.fragment:fragment-ktx:1.6.1\")\n",
    "```"
   ]
  },
  {
   "cell_type": "markdown",
   "id": "bcf50d7b-a8d1-42d2-837a-ff25ba46667c",
   "metadata": {},
   "source": [
    "Rozpocznijmy od utworzenia modelu danych odpowiadającego odpowiedzi z serwera. Tym razem wykorzystamy dwie klasy. `SwapiResponse` jest odpowiedzią z serwera zaweirającą nasze dane oraz kilka dodatkowych informacji o całkowitej liczbie rekordów, oraz linki do następnej i poprzedniej strony. Tutaj wykorzystamy typy *nullable*, ponieważ linki mogą nie istnieć (przykładowo, dla pierwszej strony nie istnieje *previous*).\n",
    "\n",
    "Klasa `Result` reprezentuje jeden rekord danych, jak widzimy powyżej, postać jest scharakteryzowana prez wiele pól, nas będzie interesować tylko kilka, więc możemy zmapować wyłącznie pola które nas interesują - będziemy wykorzystywać tylko pole `name`, dla przykładu jest zapisywanych więcej informacji (`homeworld`, `height`)"
   ]
  },
  {
   "cell_type": "code",
   "execution_count": null,
   "id": "85c4e0e4-eae4-4ef8-b07a-ebd4bda9f3c2",
   "metadata": {},
   "outputs": [],
   "source": [
    "data class SwapiResponse(\n",
    "    val count: Int,\n",
    "    val next: String?,\n",
    "    val previous: String?,\n",
    "    val results: List<Result>\n",
    ")"
   ]
  },
  {
   "cell_type": "code",
   "execution_count": null,
   "id": "6e25f619-788b-44af-a09c-f2b040cd5c1c",
   "metadata": {},
   "outputs": [],
   "source": [
    "data class Result(\n",
    "    val height: String,\n",
    "    @SerializedName(\"homeworld\") val homeWorld: String,\n",
    "    val name: String,\n",
    ")"
   ]
  },
  {
   "cell_type": "markdown",
   "id": "3ab06bba-c567-446a-8c91-b138a103a846",
   "metadata": {},
   "source": [
    "Przejdźmy do interfejsu reprezentującego api, zdefiniujemy jedną metodę, która jako parametr będzie przyjmowała numer strony."
   ]
  },
  {
   "cell_type": "code",
   "execution_count": null,
   "id": "91ada875-59ac-4a70-ba04-8b9c23fa638b",
   "metadata": {},
   "outputs": [],
   "source": [
    "interface SwapiApiService {\n",
    "    @GET(\"people\")\n",
    "    suspend fun getCharacters(\n",
    "        @Query(\"page\") page: Int\n",
    "    ): SwapiResponse\n",
    "}"
   ]
  },
  {
   "cell_type": "markdown",
   "id": "5b6ab1d7-5d4b-490b-b2e6-af957f939e5e",
   "metadata": {},
   "source": [
    "Jak w poprzednich przykładach, dodajmy instancję `Retrofit`"
   ]
  },
  {
   "cell_type": "code",
   "execution_count": null,
   "id": "845685ab-a4a8-4acc-bb01-5564d4ff7db4",
   "metadata": {},
   "outputs": [],
   "source": [
    "object RetrofitInstance {\n",
    "    val api: SwapiApiService by lazy {\n",
    "        Retrofit.Builder()\n",
    "            .baseUrl(\"https://swapi.dev/api/\")\n",
    "            .addConverterFactory(GsonConverterFactory.create())\n",
    "            .build()\n",
    "            .create(SwapiApiService::class.java)\n",
    "    }\n",
    "}"
   ]
  },
  {
   "cell_type": "markdown",
   "id": "1798bf90-6a82-43f9-a92a-e8e165f07866",
   "metadata": {},
   "source": [
    "Następnie zaimplementujmy repozytorium."
   ]
  },
  {
   "cell_type": "code",
   "execution_count": null,
   "id": "e98a937e-8fc0-490f-b749-4b9cdf40d99c",
   "metadata": {},
   "outputs": [],
   "source": [
    "class SwapiRepository {\n",
    "    private val api = RetrofitInstance.api\n",
    "\n",
    "    suspend fun getCharacters(page: Int) = api.getCharacters(page)\n",
    "}"
   ]
  },
  {
   "cell_type": "markdown",
   "id": "4565cac7-8b5f-436c-ac23-88cc382bdc94",
   "metadata": {},
   "source": [
    "Aby wykorzystać paginację, musimy zdefiniować źródło danych `PagingSource`, dodajmy klasę `CharactersPagingSource`, rozszerzającą klasę `PagingSource`."
   ]
  },
  {
   "cell_type": "code",
   "execution_count": null,
   "id": "47c2a254-13fb-417c-b780-7fd59cd07838",
   "metadata": {},
   "outputs": [],
   "source": [
    "class CharactersPagingSource(\n",
    "    private val repository: SwapiRepository\n",
    ") : PagingSource<Int, Result>() {\n",
    "    override fun getRefreshKey(state: PagingState<Int, Result>): Int? {\n",
    "        return state.anchorPosition ?.let { anchorPosition ->\n",
    "            val anchorPage = state.closestPageToPosition(anchorPosition)\n",
    "            anchorPage?.prevKey?.plus(1) ?: anchorPage?.nextKey?.minus(1)\n",
    "        }\n",
    "    }\n",
    "\n",
    "    override suspend fun load(params: LoadParams<Int>): LoadResult<Int, Result> {\n",
    "        return try {\n",
    "            val page = params.key ?: 1\n",
    "            val response = repository.getCharacters(page)\n",
    "\n",
    "            LoadResult.Page(\n",
    "                data = response.results,\n",
    "                prevKey = getPageNumberFromUrl(response.previous),\n",
    "                nextKey = getPageNumberFromUrl(response.next),\n",
    "            )\n",
    "        } catch (e: Exception) {\n",
    "            LoadResult.Error(e)\n",
    "        }\n",
    "    }\n",
    "\n",
    "    private fun getPageNumberFromUrl(url: String?): Int? {\n",
    "        if (url != null) {\n",
    "            val pattern = Pattern.compile(\"page=(\\\\d+)\")\n",
    "            val matcher = pattern.matcher(url)\n",
    "\n",
    "            if (matcher.find()) {\n",
    "                val pageNumberString = matcher.group(1)\n",
    "                if (pageNumberString != null) {\n",
    "                    return pageNumberString.toInt()\n",
    "                }\n",
    "            }\n",
    "        }\n",
    "\n",
    "        return null\n",
    "    }\n",
    "}"
   ]
  },
  {
   "cell_type": "markdown",
   "id": "ce467a0b-f293-453f-a9e1-0832c950da20",
   "metadata": {},
   "source": [
    "Omówmy dokładniej kod tej klasy. "
   ]
  },
  {
   "cell_type": "code",
   "execution_count": null,
   "id": "54957860-7b68-4f95-b68e-8589768022b7",
   "metadata": {},
   "outputs": [],
   "source": [
    "class CharactersPagingSource(\n",
    "    private val repository: SwapiRepository\n",
    ") : PagingSource<Int, Result>() {"
   ]
  },
  {
   "cell_type": "markdown",
   "id": "d6f64165-4a37-45cf-b07e-521bfeb0c9a5",
   "metadata": {},
   "source": [
    "Ta klasa jest używana do źródła danych paginowanych dla listy postaci. `PagingSource<Int, Result>()`, jest specjalnym rodzajem źródła danych stworzonym do obsługi paginacji. `PagingSource` jest generycznym typem, który przyjmuje dwa argumenty generyczne: `Key` i `Value`.\n",
    "- `Int` oznacza typ klucza, który jest używany do indeksowania stron danych. To zazwyczaj numer strony.\n",
    "- `Result` oznacza typ danych, które są ładowane partiami. `Result` to typ reprezentujący postacie w aplikacji."
   ]
  },
  {
   "cell_type": "markdown",
   "id": "684fcbd0-01bd-4240-a18d-a167228c80f9",
   "metadata": {},
   "source": [
    "Ponieważ w odpowiedzi z serwera nie dostajemy bezpośrednio numeru strony, tylko cały link (`https://swapi.dev/api/people/?page=2`), dodajmy metodę pomocniczą, która nam ten numer zwróci na podstawie linku"
   ]
  },
  {
   "cell_type": "code",
   "execution_count": null,
   "id": "f2be0b66-d282-408c-ad9f-a6cb66dba22b",
   "metadata": {},
   "outputs": [],
   "source": [
    "private fun getPageNumberFromUrl(url: String?): Int? {\n",
    "    if (url != null) {\n",
    "        val pattern = Pattern.compile(\"page=(\\\\d+)\")\n",
    "        val matcher = pattern.matcher(url)\n",
    "\n",
    "        if (matcher.find()) {\n",
    "            val pageNumberString = matcher.group(1)\n",
    "            if (pageNumberString != null) {\n",
    "                return pageNumberString.toInt()\n",
    "            }\n",
    "        }\n",
    "    }\n",
    "\n",
    "    return null\n",
    "}"
   ]
  },
  {
   "cell_type": "markdown",
   "id": "aace7de5-23aa-40b8-81d7-da2d2c74a28d",
   "metadata": {},
   "source": [
    "- `if (url != null) {`: Rozpoczynamy blok warunkowy, sprawdzając, czy przekazany URL nie jest `null`. Jeśli jest `null`, funkcja zwróci `null` jako wynik.\n",
    "- `val pattern = Pattern.compile(\"page=(\\\\d+)\")`: Tworzymy wyrażenie regularne za pomocą klasy `Pattern` w celu dopasowania do tekstu `\"page=\"` oraz jednej lub więcej cyfr. To pozwoli nam na znalezienie fragmentu URL, który zawiera numer strony.\n",
    "- `val matcher = pattern.matcher(url)`: Tworzymy obiekt `matcher` za pomocą wyrażenia regularnego `pattern` i przekazujemy mu analizowany URL.\n",
    "- `if (matcher.find()) {`: Sprawdzamy, czy w tekście URL znaleziono dopasowanie do wzorca. Jeśli nie znaleziono, oznacza to, że URL nie zawiera informacji o numerze strony.\n",
    "- `val pageNumberString = matcher.group(1)`: Jeśli znaleziono dopasowanie, używamy metody `group(1)` obiektu `matcher`, aby wyodrębnić pierwszą grupę dopasowania, która zawiera numer strony jako napis (`String`).\n",
    "- `if (pageNumberString != null) {`: Sprawdzamy, czy numer strony nie jest `null` (może być `null`, jeśli nie znaleziono dopasowania lub nie udało się go wyodrębnić).\n",
    "- `return pageNumberString.toInt()`: Jeśli numer strony jest dostępny i nie jest `null`, konwertujemy go na liczbę całkowitą za pomocą metody `toInt()` i zwracamy tę liczbę jako wynik funkcji.\n",
    "- `return null`: Jeśli w którymś z etapów funkcji nie znaleziono numeru strony lub wystąpił błąd, funkcja zwraca `null`."
   ]
  },
  {
   "cell_type": "markdown",
   "id": "f2c4f106-35e2-4f92-902c-8a5a89c5c2d2",
   "metadata": {},
   "source": [
    "W klasie `PagingSource` musimy dostarczyć implementację dwóch metod:\n",
    "- `refreshKey`:\n",
    "    - `refreshKey` to metoda, która jest używana do określenia, jak należy odświeżyć źródło danych.\n",
    "    - Funkcja ta jest wywoływana, gdy aplikacja chce odświeżyć całe źródło danych, na przykład gdy użytkownik przewinie listę w górę i chce załadować nowe dane na początku listy.\n",
    "    - Wartość zwracana przez tę metodę (najczęściej jest to liczba lub inny identyfikator) określa klucz, który jest używany do identyfikacji pierwszej strony danych w źródle. Na podstawie tego klucza biblioteka `Paging` *wie*, od jakiego momentu rozpocząć ładowanie nowych danych.\n",
    "- `load`:\n",
    "    - `load` to metoda, która jest odpowiedzialna za ładowanie danych na podstawie klucza strony i rozmiaru strony.\n",
    "    - Funkcja ta jest wywoływana, gdy użytkownik przewija listę i osiąga koniec dostępnych danych lub kiedy biblioteka `Paging` uznaje to za odpowiedni moment do załadowania kolejnej partii danych.\n",
    "    - Metoda `load` przyjmuje dwa argumenty: `params: LoadParams<Key>` i `callback: LoadCallback<Key, Value>`.\n",
    "        - `params` zawiera informacje, takie jak klucz strony, rozmiar strony i inne dane konfiguracyjne potrzebne do załadowania danych.\n",
    "        - `callback` jest używany do przekazania załadowanych danych z powrotem do `Paging`, aby mogły być wyświetlone w interfejsie użytkownika."
   ]
  },
  {
   "cell_type": "markdown",
   "id": "21ae0a45-72b8-47a1-8bc3-a1b577c50af3",
   "metadata": {},
   "source": [
    "Przejdźmy do metody `getRefreshKey`"
   ]
  },
  {
   "cell_type": "code",
   "execution_count": null,
   "id": "3bba3235-41c4-42e0-83fc-af051b3c912a",
   "metadata": {},
   "outputs": [],
   "source": [
    "override fun getRefreshKey(state: PagingState<Int, Result>): Int? {\n",
    "    return state.anchorPosition ?.let { anchorPosition ->\n",
    "        val anchorPage = state.closestPageToPosition(anchorPosition)\n",
    "        anchorPage?.prevKey?.plus(1) ?: anchorPage?.nextKey?.minus(1)\n",
    "    }\n",
    "}"
   ]
  },
  {
   "cell_type": "markdown",
   "id": "ad736d22-fbbf-487b-8e8e-e8606c443cb1",
   "metadata": {},
   "source": [
    "- `state.anchorPosition`: To pozycja *kotwicy* (anchor position) w stanie paginacji (`PagingState`). Pozycja kotwicy to pozycja w widoku, który jest uważany za aktualnie wyświetlany przez użytkownika, np. pozycja pierwszego widocznego elementu na liście.\n",
    "- `?.let { anchorPosition -> ... }`: Jest to blok, który wykonuje kod wewnątrz tylko wtedy, gdy `state.anchorPosition` nie jest `null`. Wartość `anchorPosition` jest dostępna wewnątrz tego bloku.\n",
    "- `val anchorPage = state.closestPageToPosition(anchorPosition)`: Ta linia kodu pobiera stronę (`page`) najbliższą pozycji kotwicy. Strona w kontekście paginacji to fragment danych, który jest ładowany partiami.\n",
    "- `anchorPage?.prevKey?.plus(1) ?: anchorPage?.nextKey?.minus(1)`: Ta linia kodu określa klucz odświeżania. Jeśli możliwy jest klucz poprzedniej strony (`prevKey`) dla strony kotwicy, to jest on inkrementowany o 1 (czyli następna strona). W przeciwnym razie, jeśli możliwy jest klucz następnej strony (`nextKey`) dla strony kotwicy, to jest on dekrementowany o 1 (czyli poprzednia strona). Jeśli oba klucze są `null`, wynikiem jest `null`.\n",
    "\n",
    "Ogólnie rzecz biorąc, ta metoda stara się dostarczyć klucz odświeżania, który umożliwia paginację od punktu, który jest blisko aktualnie wyświetlanej pozycji. Klucz ten pozwala na efektywne odświeżenie danych na liście w odpowiednim miejscu, aby użytkownik mógł kontynuować przeglądanie bez większych przeskoków.\n",
    "\n",
    "`getRefreshKey()` dostarcza klucz używany do początkowej ładowania dla następnego źródła paginacji ze względu na unieważnienie istniejącego źródła paginacji. Klucz ten jest dostarczany do załadowania za pomocą `LoadParams.key`. Ostatnia pozycja dostępu może być pobrana za pomocą `state.anchorPosition`.\n",
    "\n",
    "Przykładowo:\n",
    "Mając listę danych w działającej aplikacji, użytkownik przewija tę listę, a w międzyczasie dochodzi do zmiany w danych (aktualizacja/usunięcie itp.) Jeśli `getRefreshKey()` jest właściwie zaimplementowane, to biblioteka paginacji będzie *wiedziała*, jaka była ostatnia pozycja dostępu do danych. Wówczas lista nie *przeskoczy* na górę, a zamiast tego zostanie wyświetlona ostatnia przeglądana strona. To oznacza, że nawet po aktualizacji danych użytkownik pozostanie w tym samym miejscu w liście i nie musi przewijać listy od nowa."
   ]
  },
  {
   "cell_type": "markdown",
   "id": "5a21c071-98b1-461d-a343-b3495b75c984",
   "metadata": {},
   "source": [
    "Ostatnią metodą jest `load`. "
   ]
  },
  {
   "cell_type": "code",
   "execution_count": null,
   "id": "14bdf92d-1ec1-4174-a206-ca2b52bb1834",
   "metadata": {},
   "outputs": [],
   "source": [
    "override suspend fun load(params: LoadParams<Int>): LoadResult<Int, Result> {\n",
    "    return try {\n",
    "        val page = params.key ?: 1\n",
    "        val response = repository.getCharacters(page)\n",
    "\n",
    "        LoadResult.Page(\n",
    "            data = response.results,\n",
    "            prevKey = getPageNumberFromUrl(response.previous),\n",
    "            nextKey = getPageNumberFromUrl(response.next),\n",
    "        )\n",
    "    } catch (e: Exception) {\n",
    "        LoadResult.Error(e)\n",
    "    }\n",
    "}"
   ]
  },
  {
   "cell_type": "markdown",
   "id": "9ba49916-4857-4ae0-b9bd-b03cfae09975",
   "metadata": {},
   "source": [
    "- `override suspend fun load(params: LoadParams<Int>) : LoadResult<Int, Result>`: Ta metoda jest przesłoniętą funkcją z interfejsu `PagingSource` i jest używana do ładowania danych. Przyjmuje ona `params` jako argument, który zawiera klucz strony oraz rozmiar strony, który jest przekazywany przy żądaniu ładowania danych.\n",
    "- `val page = params.key ?: 1`: Pobieramy klucz strony z `params`. Jeśli klucz jest `null` (co może się zdarzyć, na przykład podczas pierwszego ładowania), przyjmujemy domyślną wartość 1. To oznacza, że jeśli nie podano klucza strony, zostanie załadowana pierwsza strona danych.\n",
    "- `val response = repository.getCharacters(page)`: Korzystając z repozytorium, wywołujemy funkcję `getCharacters(page)`, która pobiera dane postaci.\n",
    "- `LoadResult.Page(...)`: Ta linia kodu tworzy obiekt `LoadResult.Page`, który jest używany do przekazania załadowanych danych z powrotem do biblioteki `Paging`. Wewnątrz tego obiektu przekazujemy:\n",
    "- `data`: Dane postaci z odpowiedzi `response.results`, które są ładowane.\n",
    "- `prevKey`: Wynik wywołania funkcji `getPageNumberFromUrl(response.previous)`. To jest poprzedni klucz strony, który jest używany w paginacji wstecznej.\n",
    "- `nextKey`: Wynik wywołania funkcji `getPageNumberFromUrl(response.next)`. To jest następny klucz strony, który jest używany w paginacji do przodu.\n",
    "- `catch (e: Exception) { LoadResult.Error(e) }`: To blok `try-catch`, który obsługuje ewentualne błędy podczas ładowania danych. Jeśli wystąpi błąd, zwracamy `LoadResult.Error`, a błąd jest przekazywany jako jego argument.\n",
    "\n",
    "Ogólnie rzecz biorąc, ta metoda obsługuje ładowanie danych z określoną stroną i zwraca wynik w formie `LoadResult.Page` z danymi postaci oraz kluczami stron do paginacji wstecznej i do przodu. W przypadku błędu zwracany jest `LoadResult.Error` z informacją o błędzie."
   ]
  },
  {
   "cell_type": "markdown",
   "id": "2db29d3a-ef7b-402b-9ee5-a919fc97d7e9",
   "metadata": {},
   "source": [
    "Przejdźmy do `viewmodel`"
   ]
  },
  {
   "cell_type": "code",
   "execution_count": null,
   "id": "1bcde703-dd36-4f3b-a27d-c553d9ee9c6d",
   "metadata": {},
   "outputs": [],
   "source": [
    "class SwapiViewModel : ViewModel() {\n",
    "    private val repository = SwapiRepository()\n",
    "\n",
    "    fun getData() = Pager(\n",
    "        config = PagingConfig(\n",
    "            pageSize = 10,\n",
    "        ),\n",
    "        pagingSourceFactory = {\n",
    "            CharactersPagingSource(repository)\n",
    "        }\n",
    "    ).flow.cachedIn(viewModelScope)\n",
    "}"
   ]
  },
  {
   "cell_type": "markdown",
   "id": "f3150f88-6822-4037-be73-78cd235efbcc",
   "metadata": {},
   "source": [
    "- `fun getData() = Pager(...)`: Jest to funkcja, która zwraca strumień (`Flow`) paginowanych danych. Funkcja ta korzysta z biblioteki `Paging`, aby zarządzać paginacją danych.\n",
    "- `Pager(...)` to konstruktor klasy `Pager`, który inicjuje mechanizm paginacji danych. Skonfigurowane są następujące parametry:\n",
    "    - `config = PagingConfig(pageSize = 10)`: Konfiguracja paginacji zdefiniowana za pomocą `PagingConfig`. Określono, że rozmiar strony (`pageSize`) wynosi 10, co oznacza, że dane będą ładowane partiami po 10 elementów na stronę.\n",
    "    - `pagingSourceFactory = { CharactersPagingSource(repository) }`: Właściwość `pagingSourceFactory` definiuje, jakie źródło danych (`CharactersPagingSource`) zostanie użyte do ładowania danych. Przekazano repozytorium jako argument do źródła danych.\n",
    "- `.flow`: Po konfiguracji pagera, wywołujemy `.flow`, aby uzyskać strumień danych paginowanych, który może być obserwowany przez interfejs użytkownika.\n",
    "- `.cachedIn(viewModelScope)`: Metoda `.cachedIn` zapewnia, że strumień danych będzie przechowywany w danym zakresie (`viewModelScope`), co jest ważne, aby uniknąć utraty danych w przypadku ponownego tworzenia `ViewModel` w trakcie cyklu życia aplikacji."
   ]
  },
  {
   "cell_type": "markdown",
   "id": "a3a1f19a-98ac-46a1-b7e2-19fd9315eba6",
   "metadata": {},
   "source": [
    "Ostatnim elementem będzie fragment oraz klasy wspierające `RecyclerView`. Rozpocznijmy od `RecyclerView`, klasy `ViewHolder` i `Comparator` pozostają takie jak w poprzednich przykładach."
   ]
  },
  {
   "cell_type": "code",
   "execution_count": null,
   "id": "5cf129ba-6cf9-4f85-8553-f0507cfbed14",
   "metadata": {},
   "outputs": [],
   "source": [
    "class CharacterViewHolder(private val binding: RvItemBinding) : RecyclerView.ViewHolder(binding.root) {\n",
    "    fun bind(item: Result) {\n",
    "            binding.name.text = item.name\n",
    "    }\n",
    "}"
   ]
  },
  {
   "cell_type": "code",
   "execution_count": null,
   "id": "da49d6bd-3d64-4cd0-a768-f5db26b01fd8",
   "metadata": {},
   "outputs": [],
   "source": [
    "class CharacterComparator : DiffUtil.ItemCallback<Result>() {\n",
    "    override fun areItemsTheSame(oldItem: Result, newItem: Result): Boolean {\n",
    "        return oldItem === newItem\n",
    "    }\n",
    "\n",
    "    override fun areContentsTheSame(oldItem: Result, newItem: Result): Boolean {\n",
    "        return oldItem == newItem\n",
    "    }\n",
    "}"
   ]
  },
  {
   "cell_type": "markdown",
   "id": "adeda0d0-2e63-4007-8fc0-c4b5988cef19",
   "metadata": {},
   "source": [
    "Różnicę zobaczymy w adapterze, `RecyclerView` posiada specjalny adapter do zarządzania paginacją danych `PagingAdaopter`"
   ]
  },
  {
   "cell_type": "code",
   "execution_count": null,
   "id": "0b3f34dd-bffc-4a29-9d9d-6cbe25924ff0",
   "metadata": {},
   "outputs": [],
   "source": [
    "class CharacterAdapter(characterComparator: CharacterComparator) : PagingDataAdapter<Result, CharacterViewHolder>(characterComparator) {\n",
    "    override fun onBindViewHolder(holder: CharacterViewHolder, position: Int) {\n",
    "        val item = getItem(position) ?: Result(\"\", \"\", \"\")\n",
    "        holder.bind(item)\n",
    "    }\n",
    "\n",
    "    override fun onCreateViewHolder(parent: ViewGroup, viewType: Int): CharacterViewHolder {\n",
    "        return CharacterViewHolder(\n",
    "            RvItemBinding.inflate(\n",
    "                LayoutInflater.from(parent.context), parent, false\n",
    "            )\n",
    "        )\n",
    "    }\n",
    "}"
   ]
  },
  {
   "cell_type": "markdown",
   "id": "48231f5e-7ac6-4edf-a880-80cd14055486",
   "metadata": {},
   "source": [
    "Jak widzimy, sama implementacja nie różni się od, przykładowo, imple,entacji `Listadapter`, wszystkie metody do zarządzania paginacją są zaimplementowane w adapterze i nie musimy podejmować żadnych dodatkowych kroków."
   ]
  },
  {
   "cell_type": "code",
   "execution_count": null,
   "id": "e922a55b-6d20-4363-ab68-c741ce11954c",
   "metadata": {},
   "outputs": [],
   "source": [
    "class ListFragment : Fragment() {\n",
    "\n",
    "    private lateinit var binding: FragmentListBinding\n",
    "\n",
    "    private val viewModel: SwapiViewModel by viewModels()\n",
    "\n",
    "    override fun onCreateView(\n",
    "        inflater: LayoutInflater, container: ViewGroup?,\n",
    "        savedInstanceState: Bundle?\n",
    "    ): View {\n",
    "        binding = FragmentListBinding.inflate(inflater)\n",
    "\n",
    "        val characterAdapter = CharacterAdapter(CharacterComparator())\n",
    "\n",
    "        viewLifecycleOwner.lifecycleScope.launch {\n",
    "            viewModel.getData().collectLatest { pagingData ->\n",
    "                characterAdapter.submitData(pagingData)\n",
    "\n",
    "            }\n",
    "        }\n",
    "\n",
    "        binding.recycler.apply {\n",
    "            layoutManager = LinearLayoutManager(requireContext())\n",
    "            adapter = characterAdapter\n",
    "            setHasFixedSize(true)\n",
    "        }\n",
    "\n",
    "\n",
    "        return binding.root\n",
    "    }\n",
    "}"
   ]
  },
  {
   "cell_type": "markdown",
   "id": "50193c32-03ad-4baf-aac5-f019285db858",
   "metadata": {},
   "source": [
    "W samym fragmencie też nie ma zbytnich różnic, zamiast metody `submitList`, mamy metodę `submitData`, która przyjmuje `PagingData` jako argument.\n",
    "\n",
    "Możemy przetestować aplikację."
   ]
  },
  {
   "cell_type": "markdown",
   "id": "dfd0ba70-8662-4c4c-8420-b82913a989f0",
   "metadata": {},
   "source": [
    "<img src=\"https://media4.giphy.com/media/v1.Y2lkPTc5MGI3NjExd2UzaWtveDNyaXZ6aDhtaWs1bTJwcTByNGQ3ODRpbHdqbDF1emlyZiZlcD12MV9pbnRlcm5hbF9naWZfYnlfaWQmY3Q9Zw/psiQ7oTjhymbdfqRVC/giphy.gif\" width=\"200\" />"
   ]
  }
 ],
 "metadata": {
  "kernelspec": {
   "display_name": "Kotlin",
   "language": "kotlin",
   "name": "kotlin"
  },
  "language_info": {
   "codemirror_mode": "text/x-kotlin",
   "file_extension": ".kt",
   "mimetype": "text/x-kotlin",
   "name": "kotlin",
   "nbconvert_exporter": "",
   "pygments_lexer": "kotlin",
   "version": "1.8.0-RC"
  }
 },
 "nbformat": 4,
 "nbformat_minor": 5
}
