{
 "cells": [
  {
   "cell_type": "code",
   "execution_count": null,
   "id": "615b1339-6713-4e9a-ad2f-59ed4e17cb16",
   "metadata": {},
   "outputs": [],
   "source": []
  },
  {
   "cell_type": "markdown",
   "id": "9b010dbf-aa03-46c6-a1c0-0dfc89818e1d",
   "metadata": {},
   "source": [
    "# Retrofit2 - Podstawy"
   ]
  },
  {
   "cell_type": "markdown",
   "id": "657c9a0f-5206-489f-9a8e-d0d726862949",
   "metadata": {},
   "source": [
    "W tej aplikacji przyjrzymy się zastosowaniu biblioteki **Retrofit** w aplikacji."
   ]
  },
  {
   "cell_type": "markdown",
   "id": "f50d99d5-c731-4a31-9667-4e1032dd1491",
   "metadata": {},
   "source": [
    "<img src=\"https://media2.giphy.com/media/v1.Y2lkPTc5MGI3NjExOGZjMHAzcnAwNHNmdzB5cHk3ZDQxYjVtMnZ4YmhsenFzd2RrN2NraSZlcD12MV9pbnRlcm5hbF9naWZfYnlfaWQmY3Q9Zw/XqvcguuQ9qUzhJgLnQ/giphy.gif\" width=\"200\" />"
   ]
  },
  {
   "cell_type": "markdown",
   "id": "c2afafa3-02ce-40bb-a1f6-74618091b160",
   "metadata": {},
   "source": [
    "`Retrofit` to popularna biblioteka do tworzenia interfejsów API w aplikacjach. Jest ona często używana do wykonywania zapytań HTTP do zdalnych serwerów i przetwarzania odpowiedzi. Jej prosty interfejs i możliwość dostosowania do różnych potrzeb sprawiają, że jest bardzo użyteczna przy tworzeniu aplikacji mobilnych, które wymagają integracji z serwerami internetowymi.\n",
    "\n",
    "- Współpracuje z biblioteką `OkHttp`: `Retrofit` bazuje na bibliotece `OkHttp` do zarządzania połączeniami HTTP. Dzięki temu możesz korzystać z funkcji takich jak zarządzanie ciasteczkami, buforowanie, logowanie żądań i odpowiedzi oraz wiele innych.\n",
    "- Definiowanie interfejsu API: Głównym celem `Retrofit` jest ułatwienie tworzenia interfejsów do zdalnych API. Tworzysz interfejs, a następnie określasz metody, które odpowiadają różnym zapytaniom HTTP. `Retrofit` **automatycznie** generuje implementację tego interfejsu, co pozwala na prostą i przejrzystą komunikację z serwerem.\n",
    "- Serializacja i deserializacja: `Retrofit` domyślnie obsługuje przekształcanie danych między formatem JSON a obiektami Javy/Kotlin. Możesz dostosować sposób serializacji i deserializacji, korzystając z różnych konwerterów (np. Gson, Moshi), lub też możesz użyć niestandardowych rozwiązań.\n",
    "- Obsługa różnych typów zapytań HTTP: `Retrofit` obsługuje różne typy zapytań HTTP, takie jak `GET`, `POST`, `PUT`, `DELETE`, `PATCH`, itp. Możesz określić ścieżkę, parametry, nagłówki i ciało żądania w prosty i czytelny sposób.\n",
    "- Obsługa wielu endpointów: W jednej aplikacji możesz używać wielu różnych interfejsów API, co ułatwia integrację z różnymi serwerami i usługami.\n",
    "- Obsługa błędów: Retrofit umożliwia definiowanie obsługi błędów, co pozwala na reagowanie na różne sytuacje podczas komunikacji z serwerem. Możesz określić, jakie działania podjąć w przypadku błędnej odpowiedzi HTTP lub problemów z połączeniem.\n",
    "- Kotlin Coroutines: `Retrofit` jest często używany w połączeniu z Kotlin Coroutines, co umożliwia asynchroniczną obsługę zapytań HTTP i reaktywne programowanie.\n",
    "- `Retrofit` obsługuje różne mechanizmy autentykacji, takie jak tokeny `OAuth`, autoryzacja `Basic`, czy też niestandardowe rozwiązania."
   ]
  },
  {
   "cell_type": "markdown",
   "id": "b4cef8eb-953a-432c-bbb1-3675db508028",
   "metadata": {},
   "source": [
    "`Retrofit` oferuje wiele różnych konwerterów, które pozwalają na serializację (z przekształcaniem danych z formatu np. JSON na obiekty) i deserializację (z przekształcaniem obiektów na format np. JSON) danych w zależności od potrzeb. Kilka popularnych konwerterów:\n",
    "- `GsonConverter`: To jeden z najczęściej używanych konwerterów. Wykorzystuje bibliotekę `Gson` do przekształcania danych JSON na obiekty Javy/Kotlin i vice versa. Wymaga dodatkowej zależności Gson w projekcie.\n",
    "```kotlin\n",
    "implementation 'com.squareup.retrofit2:converter-gson:latest_version'\n",
    "```\n",
    "- `MoshiConverter`: To inny popularny konwerter, który wykorzystuje bibliotekę `Moshi` do przekształcania danych JSON. Moshi jest lekką i wydajną biblioteką, która jest często wybierana przez deweloperów.\n",
    "```kotlin\n",
    "implementation 'com.squareup.retrofit2:converter-moshi:latest_version'\n",
    "```\n",
    "- `JacksonConverter`: Ten konwerter korzysta z biblioteki `Jackson` do obsługi serializacji i deserializacji danych JSON.\n",
    "```kotlin\n",
    "implementation 'com.squareup.retrofit2:converter-jackson:latest_version'\n",
    "```\n",
    "- `ScalarsConverter`: Pozwala na przekształcanie prostych typów danych, takich jak `String`, `Boolean` czy `Integer`, bezpośrednio z odpowiedzi HTTP.\n",
    "```kotlin\n",
    "implementation 'com.squareup.retrofit2:converter-scalars:latest_version'\n",
    "```\n",
    "- `SimpleXMLConverter`: Jeśli API korzysta z formatu XML, ten konwerter pozwala na przekształcanie danych XML na obiekty Javy/Kotlin.\n",
    "```kotlin\n",
    "implementation 'com.squareup.retrofit2:converter-simplexml:latest_version'\n",
    "```\n",
    "- `protobufConverter`: Ten konwerter jest przeznaczony do obsługi danych w formacie `Protocol Buffers` (`protobuf`).\n",
    "```kotlin\n",
    "implementation 'com.squareup.retrofit2:converter-protobuf:latest_version'\n",
    "```\n",
    "- `WireConverter`: `Wire` to inna biblioteka do obsługi formatu `Protocol Buffers`.\n",
    "```kotlin\n",
    "implementation 'com.squareup.retrofit2:converter-wire:latest_version'\n",
    "```"
   ]
  },
  {
   "cell_type": "markdown",
   "id": "695d5996-0178-4e4d-8812-dbc9d3c9a957",
   "metadata": {},
   "source": [
    "W tym przykładzie wykorzystamy [**JSONPlaceholder**](https://jsonplaceholder.typicode.com/), który jest API przeznaczonym do testowania. Mamy dostępnych kilka **endpointów**\n",
    "- posts\n",
    "- comments\n",
    "- albums\n",
    "- photos\n",
    "- todos\n",
    "- users\n",
    "\n",
    "W tym przykładzie wybierzemy pierwszy (posts), rozpoczniemy komunikację z tym serwerem oraz asynchronicznie wykonamy operację `GET` - czyli pobierzemy wszystkie posty. Posty znajdziemy w formacie `JSON` - jest to format służący komunikacji pomiędzy naszą aplikacją a serwerem. Na serwerze znajduje się w chwili pisania 100 postów, struktura pojedynczego postu wygląda następująco"
   ]
  },
  {
   "cell_type": "code",
   "execution_count": null,
   "id": "757a62d0-78c0-472f-8741-593c0804e217",
   "metadata": {},
   "outputs": [],
   "source": [
    "{\n",
    "    \"userId\": 1,\n",
    "    \"id\": 1,\n",
    "    \"title\": \"sunt aut ...\",\n",
    "    \"body\": \"quia et ...\"\n",
    "},"
   ]
  },
  {
   "cell_type": "markdown",
   "id": "ff697d75-73eb-48de-bd69-3967e8d2f4ae",
   "metadata": {},
   "source": [
    "Nasza aplikacja wymaga dostępu do internetu, aby go uzyskać musimy dodać deklarację uprawnienia w pliku konfiguracyjnym aplikacji, który nazywa się `AndroidManifest.xml`. To uprawnienie informuje system operacyjny Android, że aplikacja potrzebuje dostępu do internetu."
   ]
  },
  {
   "cell_type": "code",
   "execution_count": null,
   "id": "e7d36068-d3aa-481a-b079-85df30382f79",
   "metadata": {},
   "outputs": [],
   "source": [
    "<uses-permission android:name=\"android.permission.INTERNET\"/>"
   ]
  },
  {
   "cell_type": "markdown",
   "id": "f1854c4b-2f74-44bb-8b87-c1fd3523043c",
   "metadata": {},
   "source": [
    "Następnie dodajmy wymagane zależności do projektu.\n",
    "\n",
    "```kotlin\n",
    "implementation (\"com.squareup.retrofit2:retrofit:2.9.0\")\n",
    "implementation (\"com.google.code.gson:gson:2.9.1\")\n",
    "implementation (\"com.squareup.retrofit2:converter-gson:2.9.0\")\n",
    "\n",
    "// ViewModel\n",
    "implementation (\"androidx.lifecycle:lifecycle-viewmodel:2.5.1\")\n",
    "// LiveData\n",
    "implementation (\"androidx.lifecycle:lifecycle-livedata:2.5.1\")\n",
    "```"
   ]
  },
  {
   "cell_type": "markdown",
   "id": "a370be5f-3ade-4c91-876c-080103a0afc3",
   "metadata": {},
   "source": [
    "W pierwszym kroku musimy stworzyć nasz model danych odpowiadający strukturze obecnej na serwerze."
   ]
  },
  {
   "cell_type": "code",
   "execution_count": null,
   "id": "1b73ecc5-76ab-48dd-bf06-cd06b880ab60",
   "metadata": {},
   "outputs": [],
   "source": [
    "public class Post {\n",
    "    private final int userId;\n",
    "    private final int id;\n",
    "    private final String title;\n",
    "\n",
    "    @SerializedName(\"body\")\n",
    "    private final String content;\n",
    "\n",
    "    public Post(int userId, int id, String title, String content) {\n",
    "        this.userId = userId;\n",
    "        this.id = id;\n",
    "        this.title = title;\n",
    "        this.content = content;\n",
    "    }\n",
    "\n",
    "    public int getUserId() {\n",
    "        return userId;\n",
    "    }\n",
    "\n",
    "    public int getId() {\n",
    "        return id;\n",
    "    }\n",
    "\n",
    "    public String getTitle() {\n",
    "        return title;\n",
    "    }\n",
    "\n",
    "    public String getContent() {\n",
    "        return content;\n",
    "    }\n",
    "\n",
    "    @Override\n",
    "    public boolean equals(Object o) {\n",
    "        if (this == o) return true;\n",
    "        if (o == null || getClass() != o.getClass()) return false;\n",
    "        Post post = (Post) o;\n",
    "        return userId == post.userId &&\n",
    "                id == post.id &&\n",
    "                Objects.equals(title, post.title) &&\n",
    "                Objects.equals(content, post.content);\n",
    "    }\n",
    "\n",
    "    @Override\n",
    "    public int hashCode() {\n",
    "        return Objects.hash(userId, id, title, content);\n",
    "    }\n",
    "}"
   ]
  },
  {
   "cell_type": "markdown",
   "id": "188606e5-4c69-4c1b-8c0a-f61d64c6d461",
   "metadata": {},
   "source": [
    "Nowym elementem jest zastosowana adnotacja `@SerializedName`. Jest to adnotacja dostarczana przez bibliotekę `Gson`. Informuje serializator/deserializator JSON o tym, że pole `body` w obiekcie JSON powinno być mapowane na to pole `content` w obiekcie Kotlin."
   ]
  },
  {
   "cell_type": "markdown",
   "id": "f1b17fde-2d7e-4bdc-9098-908c934c4c6e",
   "metadata": {},
   "source": [
    "W kolejnym kroku dodajmy interfejs `PlaceholderApi`, służy on do definiowania zestawu metod, które będą używane do wykonywania zapytań HTTP do zdalnego API."
   ]
  },
  {
   "cell_type": "code",
   "execution_count": null,
   "id": "26d8d40f-8b86-4581-8af2-ec9689f94103",
   "metadata": {},
   "outputs": [],
   "source": [
    "public interface PlaceholderApi {\n",
    "    @GET(\"posts\")\n",
    "    Call<List<Post>> posts();\n",
    "}"
   ]
  },
  {
   "cell_type": "markdown",
   "id": "d8c58102-e8ef-4ba3-9234-cbc360e8c4dd",
   "metadata": {},
   "source": [
    "- `@GET(\"posts\")`: Adnotacja `@GET` używana jest w `Retrofit` do oznaczania, że ta metoda interfejsu będzie używana do wykonywania żądania HTTP typu GET. Argument `\"posts\"` wskazuje ścieżkę URL, do której zostanie wysłane to żądanie. Jeśli na przykład podajesz bazowy adres URL jako `https://example.com/api/`, to ta metoda będzie próbować wykonać zapytanie pod adres `https://example.com/api/posts`.\n",
    "- `Call<List<Post>> posts()`: Oczekujemy, że po wykonaniu zapytania GET na ścieżce `\"posts\"` otrzymamy listę obiektów typu `Call<List<Post>>`.\n",
    "\n",
    "\n",
    "Obiekty `Call` są częścią biblioteki `Retrofit`. Są używane do wykonywania zapytań HTTP i odbierania odpowiedzi od serwera.\n",
    "- Reprezentacja żądania HTTP: Obiekt `Call` reprezentuje konkretne żądanie HTTP do zdalnego serwera. Może to być żądanie typu GET, POST, PUT, DELETE itp., w zależności od tego, jakie operacje są wykonywane na serwerze.\n",
    "- Asynchroniczność: `Call` obsługuje asynchroniczne operacje.\n",
    "- Obsługa odpowiedzi: Obiekt `Call` umożliwia dostęp do odpowiedzi HTTP otrzymanej od serwera. Odpowiedź może być przetwarzana w celu wyodrębnienia danych lub informacji zwrotnych z serwera. Odpowiedź może zawierać dane w formacie JSON, XML lub innych, a także informacje o statusie odpowiedzi (np. kod stanu HTTP).\n",
    "- Obsługa błędów: `Call` umożliwia również obsługę błędów HTTP. W przypadku niepowodzenia żądania (np. brak dostępu do serwera, błąd autentykacji, błąd zasobu itp.), można obsłużyć błąd i podjąć odpowiednie kroki, takie jak wyświetlenie komunikatu dla użytkownika lub podjęcie innych działań naprawczych.\n",
    "- Anulowanie operacji: Możesz anulować operację `Call` w dowolnym momencie, co jest przydatne w przypadku, gdy użytkownik przerywa żądanie lub gdy nie jest już potrzebne."
   ]
  },
  {
   "cell_type": "markdown",
   "id": "0589055d-dbbd-4b59-92e2-a8d46e971c5f",
   "metadata": {},
   "source": [
    "Musimy stworzyć instancję `Retrofit`, którą będziemy się posługiwać w aplikacji - będzie to singleton."
   ]
  },
  {
   "cell_type": "code",
   "execution_count": null,
   "id": "bf996a3a-860f-439f-addf-060f9871737c",
   "metadata": {},
   "outputs": [],
   "source": [
    "public class RetrofitInstance {\n",
    "    private static final String BASE_URL = \"https://jsonplaceholder.typicode.com/\";\n",
    "    private static volatile PlaceholderApi apiInstance;\n",
    "\n",
    "    public static PlaceholderApi getApi() {\n",
    "        if (apiInstance == null) {\n",
    "            synchronized (RetrofitInstance.class) {\n",
    "                if (apiInstance == null) {\n",
    "                    apiInstance = new Retrofit.Builder()\n",
    "                            .baseUrl(BASE_URL)\n",
    "                            .addConverterFactory(GsonConverterFactory.create())\n",
    "                            .build()\n",
    "                            .create(PlaceholderApi.class);\n",
    "                }\n",
    "            }\n",
    "        }\n",
    "        return apiInstance;\n",
    "    }\n",
    "}"
   ]
  },
  {
   "cell_type": "markdown",
   "id": "88c0d4e5-c8e5-4b30-9b2a-07b00edcbfce",
   "metadata": {},
   "source": [
    "- `Retrofit.Builder()`: Tworzy instancję budowniczego obiektu `Retrofit`, który pozwoli na skonfigurowanie i dostosowanie zachowania biblioteki `Retrofit`.\n",
    "- `.baseUrl(\"https://jsonplaceholder.typicode.com/\")`: Metoda `baseUrl` ustawia bazowy adres URL, który będzie używany do wszystkich zapytań HTTP. W tym przypadku, bazowy adres URL to `\"https://jsonplaceholder.typicode.com/\"`.\n",
    "- `.addConverterFactory(GsonConverterFactory.create())`: Metoda `addConverterFactory` dodaje konwerter do obsługi serializacji i deserializacji danych w formacie JSON. Używamy `GsonConverterFactory`, który korzysta z biblioteki `Gson` do przekształcania danych JSON na obiekty i vice versa.\n",
    "- `.build()`: Ta metoda kończy konfigurację obiektu `Retrofit` i tworzy finalną instancję.\n",
    "- `.create(PlaceholderApi.calss)`: Metoda `create` tworzy implementację obiektu o typie interfejsu `PlaceholderApi`, która jest używana do wykonywania żądań HTTP do zdalnego API."
   ]
  },
  {
   "cell_type": "markdown",
   "id": "ea6e93c5-cb88-4a2c-a6e4-4701d6051569",
   "metadata": {},
   "source": [
    "Dodajmy ównież repozytorium."
   ]
  },
  {
   "cell_type": "code",
   "execution_count": null,
   "id": "319463ed-cd63-42e3-a0e6-3bcf6fc897b3",
   "metadata": {},
   "outputs": [],
   "source": [
    "public class PostRepository {\n",
    "    private final PlaceholderApi api = RetrofitInstance.getApi();\n",
    "\n",
    "    public Call<List<Post>> getPosts() throws IOException {\n",
    "        return api.posts();\n",
    "    }\n",
    "}"
   ]
  },
  {
   "cell_type": "markdown",
   "id": "c22ac303-dbff-4bb5-8cb5-8d58446827f4",
   "metadata": {},
   "source": [
    "Następnie dodajmy viewmodel."
   ]
  },
  {
   "cell_type": "code",
   "execution_count": null,
   "id": "1608011a-30c1-41d2-8634-45d32dd681bb",
   "metadata": {},
   "outputs": [],
   "source": [
    "public class PostViewModel extends ViewModel {\n",
    "    private final PostRepository repository = new PostRepository();\n",
    "    private final MutableLiveData<List<Post>> _posts = new MutableLiveData<>();\n",
    "    public LiveData<List<Post>> posts = _posts;\n",
    "\n",
    "    public PostViewModel() {\n",
    "        try {\n",
    "            getPosts();\n",
    "        } catch (IOException e) {\n",
    "            throw new RuntimeException(e);\n",
    "        }\n",
    "    }\n",
    "\n",
    "    private void getPosts() throws IOException {\n",
    "        Call<List<Post>> response = repository.getPosts();\n",
    "\n",
    "        response.enqueue(new Callback<List<Post>>() {\n",
    "            @Override\n",
    "            public void onResponse(@NonNull Call<List<Post>> call, @NonNull Response<List<Post>> response) {\n",
    "                if (response.isSuccessful()){\n",
    "                    List<Post> postsResponse = response.body();\n",
    "                    if (postsResponse != null)\n",
    "                        _posts.postValue(postsResponse);\n",
    "                }\n",
    "            }\n",
    "\n",
    "            @Override\n",
    "            public void onFailure(@NonNull Call<List<Post>> call, @NonNull Throwable t) {\n",
    "\n",
    "            }\n",
    "        });\n",
    "    }\n",
    "}"
   ]
  },
  {
   "cell_type": "markdown",
   "id": "c37eda14-11fa-48f8-a920-7337d82ef357",
   "metadata": {},
   "source": [
    "- `Call<List<Post>> response = repository.getPosts()`: Tworzona jest instancja `Call`, która reprezentuje żądanie HTTP do pobrania listy postów.\n",
    "- `response.enqueue(new Callback<List<Post>>() { ... }`: Wywoływana jest metoda `enqueue` na obiekcie `Call`, co oznacza, że zapytanie HTTP zostanie wysłane i odpowiedź zostanie obsłużona asynchronicznie. Callback przekazany do `enqueue` definiuje sposób obsługi odpowiedzi i błędów.\n",
    "- W bloku `onResponse(...)`: Odpowiedź HTTP jest przetwarzana w przypadku sukcesu. Jeśli odpowiedź jest udana (`response.isSuccessful()`), to dane są przekazywane do `_posts` za pomocą `MutableLiveData`. Oznacza to, że interfejs użytkownika, który obserwuje `posts`, zostanie zaktualizowany z nowymi danymi.\n",
    "- W bloku `onFailure(...)`: To jest obsługa przypadku, gdy żądanie HTTP nie powiedzie się. W tym przykładzie, blok ten jest pusty, ale można by dodać obsługę błędów, taką jak wyświetlanie komunikatu użytkownikowi lub logowanie błędu."
   ]
  },
  {
   "cell_type": "markdown",
   "id": "c291d94a-ecc3-4e67-a811-3e257686d8f5",
   "metadata": {},
   "source": [
    "Ostatnim elementem jest dodanie klas obsługujących `RecyclerView` oraz fragment."
   ]
  },
  {
   "cell_type": "code",
   "execution_count": null,
   "id": "08169d28-c592-4829-bad2-5c2e87637dcb",
   "metadata": {},
   "outputs": [],
   "source": [
    "public class PostViewHolder extends RecyclerView.ViewHolder {\n",
    "    private final RvItemBinding binding;\n",
    "\n",
    "    public PostViewHolder(RvItemBinding binding) {\n",
    "        super(binding.getRoot());\n",
    "        this.binding = binding;\n",
    "    }\n",
    "\n",
    "    public void bind(Post item) {\n",
    "        binding.title.setText(item.getTitle());\n",
    "        binding.content.setText(item.getContent());\n",
    "        binding.userId.setText(String.valueOf(item.getUserId()));\n",
    "    }\n",
    "}"
   ]
  },
  {
   "cell_type": "code",
   "execution_count": null,
   "id": "0eb048e7-c456-4e13-a4c4-978d3fee39d1",
   "metadata": {},
   "outputs": [],
   "source": [
    "public class PostComparator extends DiffUtil.ItemCallback<Post> {\n",
    "    @Override\n",
    "    public boolean areItemsTheSame(@NonNull Post oldItem, @NonNull Post newItem) {\n",
    "        return oldItem == newItem;\n",
    "    }\n",
    "\n",
    "    @Override\n",
    "    public boolean areContentsTheSame(Post oldItem, @NonNull Post newItem) {\n",
    "        return oldItem.equals(newItem);\n",
    "    }\n",
    "}"
   ]
  },
  {
   "cell_type": "code",
   "execution_count": null,
   "id": "92156466-10b0-494d-98e6-f1262535a640",
   "metadata": {},
   "outputs": [],
   "source": [
    "public class PostAdapter extends ListAdapter<Post, PostViewHolder> {\n",
    "    public PostAdapter(PostComparator postComparator) {\n",
    "        super(postComparator);\n",
    "    }\n",
    "\n",
    "    @Override\n",
    "    public PostViewHolder onCreateViewHolder(ViewGroup parent, int viewType) {\n",
    "        RvItemBinding binding = RvItemBinding.inflate(\n",
    "                LayoutInflater.from(parent.getContext()), parent, false\n",
    "        );\n",
    "        return new PostViewHolder(binding);\n",
    "    }\n",
    "\n",
    "    @Override\n",
    "    public void onBindViewHolder(PostViewHolder holder, int position) {\n",
    "        Post item = getItem(position);\n",
    "        holder.bind(item);\n",
    "    }\n",
    "}"
   ]
  },
  {
   "cell_type": "code",
   "execution_count": null,
   "id": "24fa6ec8-4d3d-4dc4-a344-0ccbc01a67da",
   "metadata": {},
   "outputs": [],
   "source": [
    "public class PostFragment extends Fragment {\n",
    "    private FragmentPostBinding binding;\n",
    "    private PostViewModel viewModel;\n",
    "\n",
    "    @Override\n",
    "    public View onCreateView(@NonNull LayoutInflater inflater, ViewGroup container,\n",
    "                             Bundle savedInstanceState) {\n",
    "        binding = FragmentPostBinding.inflate(inflater, container, false);\n",
    "        View rootView = binding.getRoot();\n",
    "\n",
    "        viewModel = new ViewModelProvider(this).get(PostViewModel.class);\n",
    "\n",
    "        PostAdapter postAdapter = new PostAdapter(new PostComparator());\n",
    "\n",
    "        viewModel.posts.observe(getViewLifecycleOwner(), postAdapter::submitList);\n",
    "\n",
    "        binding.recycler.setLayoutManager(new LinearLayoutManager(requireContext()));\n",
    "        binding.recycler.setAdapter(postAdapter);\n",
    "\n",
    "        return rootView;\n",
    "    }\n",
    "}"
   ]
  },
  {
   "cell_type": "markdown",
   "id": "0eb11642-5b8d-4bac-8e8c-f038cbec26f3",
   "metadata": {},
   "source": [
    "Możemy przetestować aplikację."
   ]
  },
  {
   "cell_type": "markdown",
   "id": "781634d8-0ed0-432f-9525-bcaddccc4fc8",
   "metadata": {},
   "source": [
    "<img src=\"https://media2.giphy.com/media/v1.Y2lkPTc5MGI3NjExOGZjMHAzcnAwNHNmdzB5cHk3ZDQxYjVtMnZ4YmhsenFzd2RrN2NraSZlcD12MV9pbnRlcm5hbF9naWZfYnlfaWQmY3Q9Zw/XqvcguuQ9qUzhJgLnQ/giphy.gif\" width=\"200\" />"
   ]
  }
 ],
 "metadata": {
  "kernelspec": {
   "display_name": "Kotlin",
   "language": "kotlin",
   "name": "kotlin"
  },
  "language_info": {
   "codemirror_mode": "text/x-kotlin",
   "file_extension": ".kt",
   "mimetype": "text/x-kotlin",
   "name": "kotlin",
   "nbconvert_exporter": "",
   "pygments_lexer": "kotlin",
   "version": "1.8.0-RC"
  }
 },
 "nbformat": 4,
 "nbformat_minor": 5
}
