{
 "cells": [
  {
   "cell_type": "markdown",
   "id": "826a063f-7b6d-4bf0-ba7c-0011d02f47b0",
   "metadata": {},
   "source": [
    "# Konwersja - Podstawy"
   ]
  },
  {
   "cell_type": "markdown",
   "id": "6d48d7b8-b828-4eba-91f9-07e0d122a941",
   "metadata": {},
   "source": [
    "W tej aplikacji przyjrzymy się konwertowaniu `Flow` do `StateFlow` i `SharedFlow`."
   ]
  },
  {
   "cell_type": "markdown",
   "id": "54391902-f464-4d46-99c9-ab452c4eff52",
   "metadata": {},
   "source": [
    "<img src=\"https://media1.giphy.com/media/v1.Y2lkPTc5MGI3NjExdDZ1N3hvOXM2NXo1cTd3NDM2enlqOWlzOTNsYjJ1M2Uycm52NzlicCZlcD12MV9pbnRlcm5hbF9naWZfYnlfaWQmY3Q9Zw/oVRpNx8YgOGJmka80w/giphy.gif\" width=\"200\" />"
   ]
  },
  {
   "cell_type": "markdown",
   "id": "be53ff57-ed2e-4b53-bd43-b1066dfa044a",
   "metadata": {},
   "source": [
    "Możemy spotkać się z sytuacją w której chcemy przekonwertować `Flow` na `StateFlow`, lub `SharedFlow` aby zapewnić odpowednie zachowanie na cyklach życia. Możemy to zrobić za pomcą metod `stateIn` i `sharedIn`"
   ]
  },
  {
   "cell_type": "markdown",
   "id": "3d94304b-9159-400c-a4d2-c3917ca01962",
   "metadata": {},
   "source": [
    "Nasza aplikacja będzie prostym licznikiem, w którym po upłynięciu określonego czasu zmienimy wartość i zwiększymy stan licznika. Aplikacja będzie posiadała dwa ekrany. Chcemy zapewnić że po przejściu na drugi ekran, emisja zostanie wstrzymana, po powrocie wznowiona - jest to najczęściej pożądane zachowanie."
   ]
  },
  {
   "cell_type": "markdown",
   "id": "f3d905f0-20de-4574-a27b-63c7ae785e8a",
   "metadata": {},
   "source": [
    "Rozpocznijmy od zaimplementowania `CounterViewModel`"
   ]
  },
  {
   "cell_type": "code",
   "execution_count": null,
   "id": "f14cb4e5-87eb-4655-b36d-5496036703bf",
   "metadata": {},
   "outputs": [],
   "source": [
    "class CounterViewModel : ViewModel() {\n",
    "    private var currentVal = 0\n",
    "\n",
    "    val counter = flow {\n",
    "        while (true){\n",
    "            delay(500L)\n",
    "            emit(currentVal++)\n",
    "        }\n",
    "    }.stateIn(\n",
    "        viewModelScope,\n",
    "        SharingStarted.WhileSubscribed(),\n",
    "        0\n",
    "    )\n",
    "}"
   ]
  },
  {
   "cell_type": "markdown",
   "id": "9129ccdc-1f51-4c0c-b8ad-7d8841aea41f",
   "metadata": {},
   "source": [
    "Używamy `Flow` do emitowania kolejnych wartości licznika. Strumień jest następnie przekształcony za pomocą `stateIn` w `StateFlow`, który jest dostępny dla subskrybentów.\n",
    "- `private var currentVal = 0` - Prywatna zmienna, która przechowuje aktualną wartość licznika.\n",
    "- `val counter = flow { ... }` - Deklaruje counter, który jest strumieniem `Flow`. Wewnątrz bloku `flow { ... }` emitowane są wartości.\n",
    "- `emit(currentVal++)` - Emitowanie wartości do strumienia `Flow`.\n",
    "- `.stateIn(viewModelScope, SharingStarted.WhileSubscribed(), 0)` - Przekształcenie strumienia `Flow` w `StateFlow`, który jest dostępny dla subskrybentów. Funkcja `stateIn` konwertuje strumień `Flow` na `StateFlow` z określonym zachowaniem.\n",
    "    - `viewModelScope` - Określa zasięg, w którym `StateFlow` jest aktywny - dopóki `ViewModel` jest aktywny.\n",
    "    - `SharingStarted.WhileSubscribed()` - Określa, kiedy wartość `StateFlow` jest udostępniana. W tym przypadku, jest udostępniany tylko wtedy, gdy jest subskrybowany przez obserwatora."
   ]
  },
  {
   "cell_type": "markdown",
   "id": "fadadf9c-8068-46d5-994b-8a04080693e9",
   "metadata": {},
   "source": [
    "Zaimplementujmy ui, oraz dodajmy go jako subskrybenta"
   ]
  },
  {
   "cell_type": "code",
   "execution_count": null,
   "id": "ed1a0dbf-0689-4af7-b745-8ba51497d14f",
   "metadata": {},
   "outputs": [],
   "source": [
    "override fun onCreateView(\n",
    "    inflater: LayoutInflater, container: ViewGroup?,\n",
    "    savedInstanceState: Bundle?\n",
    "): View {\n",
    "    binding = FragmentMainBinding.inflate(inflater)\n",
    "\n",
    "    binding.navButton.setOnClickListener {\n",
    "        val action = MainFragmentDirections.actionMainFragmentToSecondFragment()\n",
    "        Navigation.findNavController(requireView()).navigate(action)\n",
    "    }\n",
    "\n",
    "    viewLifecycleOwner.lifecycleScope.launch {\n",
    "        viewLifecycleOwner.repeatOnLifecycle(Lifecycle.State.STARTED){\n",
    "            viewModel.counter.collectLatest{ counter ->\n",
    "                binding.counterText.text = counter.toString()\n",
    "            }\n",
    "        }\n",
    "    }\n",
    "\n",
    "    return binding.root\n",
    "}"
   ]
  },
  {
   "cell_type": "markdown",
   "id": "6059e53a-1b11-4791-9001-13573ebb0a54",
   "metadata": {},
   "source": [
    "W powyższym kodzie nie ma żadnych nowych elementów.\n",
    "\n",
    "W rezultacie dostaniemy licznik, którego wartość jest automatycznie inkrementowana. Zwiększanie licznika jest wstrzymane w momencie przejścia na inny ekran (lub w wyniku minimalizacji aplikacji)."
   ]
  },
  {
   "cell_type": "markdown",
   "id": "c6f66f16-3fc5-48ab-b0c4-fca0988eae9a",
   "metadata": {},
   "source": [
    "Możemy przetestować aplikację"
   ]
  },
  {
   "cell_type": "markdown",
   "id": "1d693c25-f59d-4dd3-accd-f5449bf86502",
   "metadata": {},
   "source": [
    "<img src=\"https://media1.giphy.com/media/v1.Y2lkPTc5MGI3NjExdDZ1N3hvOXM2NXo1cTd3NDM2enlqOWlzOTNsYjJ1M2Uycm52NzlicCZlcD12MV9pbnRlcm5hbF9naWZfYnlfaWQmY3Q9Zw/oVRpNx8YgOGJmka80w/giphy.gif\" width=\"200\" />"
   ]
  }
 ],
 "metadata": {
  "kernelspec": {
   "display_name": "Kotlin",
   "language": "kotlin",
   "name": "kotlin"
  },
  "language_info": {
   "codemirror_mode": "text/x-kotlin",
   "file_extension": ".kt",
   "mimetype": "text/x-kotlin",
   "name": "kotlin",
   "nbconvert_exporter": "",
   "pygments_lexer": "kotlin",
   "version": "1.6.20-dev-6372"
  }
 },
 "nbformat": 4,
 "nbformat_minor": 5
}
