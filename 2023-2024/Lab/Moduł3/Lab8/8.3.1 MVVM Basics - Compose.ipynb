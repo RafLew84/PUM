{
 "cells": [
  {
   "cell_type": "markdown",
   "id": "01c0017c-0c65-45ea-85b4-e47620645ed0",
   "metadata": {},
   "source": [
    "# Jetpack Compose - Model-View-ViewModel (MVVM) - Podstawy"
   ]
  },
  {
   "cell_type": "markdown",
   "id": "c6db6dc8-fdb7-450a-bd0a-2351a4ee9102",
   "metadata": {},
   "source": [
    "W tej aplikacji przyjrzymy się zastosowaniu architektury **MVVM**."
   ]
  },
  {
   "cell_type": "markdown",
   "id": "a271efd6-1045-4452-a05a-32d027d31f48",
   "metadata": {},
   "source": [
    "<img src=\"https://media0.giphy.com/media/v1.Y2lkPTc5MGI3NjExdmllMXdiMmd0OW8wNGs3bXJucXJxYmNtZGpheGtueG5wbzZnZDduaCZlcD12MV9pbnRlcm5hbF9naWZfYnlfaWQmY3Q9Zw/ff1yWpIVOu1FqfQA3Q/giphy.gif\" width=\"200\" />"
   ]
  },
  {
   "cell_type": "markdown",
   "id": "31b92c2a-607b-49a6-ba88-99f3390c6a4e",
   "metadata": {},
   "source": [
    "**Model-View-ViewModel (MVVM)** to wzorzec architektoniczny stosowany w aplikacjach mobilnych (i nie tylko), który ma na celu oddzielenie logiki biznesowej od warstwy prezentacji.\n",
    "\n",
    "W MVVM występują trzy główne komponenty:\n",
    "- **Model** - Reprezentuje dane i logikę biznesową aplikacji. Model może zawierać struktury danych, metody dostępu do bazy danych, usługi sieciowe itp.\n",
    "- **View** - Odpowiada za prezentację interfejsu użytkownika (UI). Może to być np. widok, przyciski, pola tekstowe, komponenty, ekrany itp. \n",
    "- **ViewModel** - Pośredniczy między Modelem a Widokiem. ViewModel zawiera dane, które mają być wyświetlane w widoku oraz metody, które obsługują interakcje użytkownika. ViewModel nie jest bezpośrednio zależny od Widoku - jest odizolowany od konkretnego interfejsu użytkownika.\n",
    "\n",
    "Kilka korzyści wynikających z zastosowania wzorca MVVM:\n",
    "- **Separacja logiki biznesowej od warstwy prezentacji** - Dzięki MVVM można utrzymać czytelność i organizację kodu, ponieważ logika biznesowa jest oddzielona od kodu odpowiedzialnego za wygląd i interakcję z użytkownikiem.\n",
    "- **Testowalność** - Dzięki oddzieleniu ViewModelu od Widoku można łatwiej testować logikę biznesową, ponieważ ViewModel **nie jest bezpośrednio zależny** od interfejsu użytkownika. Można napisać testy jednostkowe dla ViewModelu, symulując różne scenariusze bez potrzeby uruchamiania całej aplikacji.\n",
    "- **Ponowne wykorzystanie kodu** Dzięki MVVM można łatwiej ponownie wykorzystywać ViewModel w różnych miejscach aplikacji. Na przykład, ten sam ViewModel może być używany w różnych ekranach, które mają podobne wymagania, ale różnią się układem i wyglądem.\n",
    "- **Łatwiejsze zarządzanie stanem** MVVM pomaga w zarządzaniu stanem aplikacji poprzez wprowadzenie jednokierunkowego przepływu danych. ViewModel dostarcza dane do Widoku, które je wyświetla, a wszelkie zmiany wprowadzane przez użytkownika są przekazywane z powrotem do ViewModelu.\n",
    "- **Szybsze budowanie aplikacji** - Elementy MVVM są niezależne. Zmiany w pojedynczym elemencie wymagają preezebudowania tylko tego elementu, przykładowo, zmiana w klasie `ViewModel` będzie wymagała przekompilowania tylko tej klasy, a nie całego projektu.\n",
    "- **Jednokierunkowy przepływ danych** - *Unidirectional data flow* (UDF) to wzorzec projektowy, w którym stan przepływa w dół, a zdarzenia przepływają w górę. Poprzez stosowanie jednokierunkowego przepływu danych, można odseparować komponenty odpowiedzialne za wyświetlanie stanu w interfejsie użytkownika od części aplikacji, które przechowują i zmieniają stan.\n",
    "\n",
    "<img src=\"https://developer.android.com/static/images/jetpack/compose/state-unidirectional-flow.png\" width=\"200\" />"
   ]
  },
  {
   "cell_type": "markdown",
   "id": "8dec6fb5-09d4-4f28-bcec-e249780081e9",
   "metadata": {},
   "source": [
    "Wszystkie elementy architektury znamy z poprzednich przykładów, teraz napiszemy prostą aplikację wyświetlającą imiona i nazwiska użytkowników, ktorzy będą przechowywani w liście. Wykorzystamy również *dummy data* do zainicjowania listy.\n",
    "\n",
    "### Model\n",
    "\n",
    "Rozpocznijmy od modelu."
   ]
  },
  {
   "cell_type": "code",
   "execution_count": null,
   "id": "ff491855-5f91-4265-8cff-79bc062fbc73",
   "metadata": {},
   "outputs": [],
   "source": [
    "data class User(val firstName: String, val lastName: String)"
   ]
  },
  {
   "cell_type": "markdown",
   "id": "bb293423-7eab-4492-ac1f-3b5344807a61",
   "metadata": {},
   "source": [
    "Mamy klasę `User` z dwoma polami reprezentującymi imię i nazwisko. Dodajmy `DataProvider` z danymi inicjującymi."
   ]
  },
  {
   "cell_type": "code",
   "execution_count": null,
   "id": "5a78f7a7-ab50-4a4e-acd3-bc236019708e",
   "metadata": {},
   "outputs": [],
   "source": [
    "object DataProvider {\n",
    "\n",
    "    private val firstNames = listOf(\n",
    "        \"Adam\", \"Ewa\", \"Jan\", \"Anna\", \"Piotr\", \"Maria\", \"Tomasz\", \"Małgorzata\", \"Krzysztof\", \"Alicja\",\n",
    "        \"Andrzej\", \"Joanna\", \"Michał\", \"Barbara\", \"Kamil\", \"Magdalena\", \"Robert\", \"Monika\", \"Mateusz\", \"Natalia\"\n",
    "    )\n",
    "\n",
    "    private val lastNames = listOf(\n",
    "        \"Nowak\", \"Kowalski\", \"Wiśniewski\", \"Wójcik\", \"Kowalczyk\", \"Kamiński\", \"Lewandowski\", \"Zieliński\", \"Szymański\",\n",
    "        \"Woźniak\", \"Dąbrowski\", \"Kozłowski\", \"Jankowski\", \"Mazur\", \"Kwiatkowski\", \"Krawczyk\", \"Piotrowski\", \"Grabowski\",\n",
    "        \"Nowakowski\", \"Pawłowski\"\n",
    "    )\n",
    "\n",
    "    val users = (0..40).map { User(firstNames.random(), lastNames.random())}\n",
    "}"
   ]
  },
  {
   "cell_type": "markdown",
   "id": "0a7bca9d-9827-4742-83a3-e690889df59a",
   "metadata": {},
   "source": [
    "### ViewModel"
   ]
  },
  {
   "cell_type": "markdown",
   "id": "b3141cde-18d7-47fa-af75-6bbd943f566b",
   "metadata": {},
   "source": [
    "W klasie `UserViewModel` przechowujemy listę wszystkich użytkowników jako `SnapshotStateList<User>`, który uzyskujemy wywołując metodę `mutableStateListOf`.\n",
    "\n",
    "`SnapshotStateList` przechowuje aktualny stan listy i umożliwia dostęp do jej elementów oraz manipulację nimi. W przeciwieństwie do zwykłej Listy, umożliwia modyfikowanie zawartości listy.\n",
    "- Możliwość odczytu - umożliwia odczytanie aktualnego stanu listy za pomocą właściwości `value`. Pozwala to na dostęp do elementów listy i ich wykorzystanie w interfejsie użytkownika.\n",
    "- Możliwość zmiany - dostarcza metody, które umożliwiają dodawanie, usuwanie i modyfikowanie elementów listy. Gdy następują zmiany, `SnapshotStateList` automatycznie zapisuje nowy stan listy i informuje o tym zainteresowane komponenty (subskrybentów).\n",
    "- Zachowanie niezmienności - zapewnia, że po dokonaniu modyfikacji na liście zostanie utworzony nowy obiekt listy, zamiast bezpośrednio modyfikować istniejący stan. Dzięki temu, współpracuje dobrze z reaktywnymi interfejsami użytkownika, gdzie zmiana stanu powoduje ponowne renderowanie komponentów."
   ]
  },
  {
   "cell_type": "code",
   "execution_count": null,
   "id": "dfcaf387-df27-46c5-97cf-7b09ba1d75ce",
   "metadata": {},
   "outputs": [],
   "source": [
    "class UserViewModel : ViewModel() {\n",
    "    private var _usersList = mutableStateListOf<User>()\n",
    "    val usersList: List<User>\n",
    "        get() = _usersList\n",
    "\n",
    "    init {\n",
    "        reinitialize()\n",
    "    }\n",
    "\n",
    "    fun addUser(user: User){\n",
    "        _usersList.add(user)\n",
    "        _usersList.sortBy { it.lastName }\n",
    "    }\n",
    "\n",
    "    fun reinitialize(){\n",
    "        _usersList.clear()\n",
    "        _usersList.addAll(DataProvider.users)\n",
    "        _usersList.sortBy { it.lastName }\n",
    "    }\n",
    "\n",
    "    fun clear(){\n",
    "        _usersList.clear()\n",
    "    }\n",
    "}"
   ]
  },
  {
   "cell_type": "markdown",
   "id": "aed011f9-8c7b-4230-8ffc-3641e88b39ec",
   "metadata": {},
   "source": [
    "- `val usersList: List<User> get() = _usersList` - lista użytkowników, do której można uzyskać dostęp tylko do odczytu.\n",
    "- `fun addUser(user: User)` - Metoda służy do dodawania nowego użytkownika do listy. \n",
    "- `fun reinitialize()` - Metoda służy do zresetowania zawartości listy użytkowników do wartości domyślnych.\n",
    "- `fun clear()` - Metoda służy do wyczyszczenia całej listy użytkowników."
   ]
  },
  {
   "cell_type": "markdown",
   "id": "a459b15b-405b-425b-bab4-e9ca4369511b",
   "metadata": {},
   "source": [
    "### View"
   ]
  },
  {
   "cell_type": "markdown",
   "id": "651d29ff-1955-430a-bcea-9080aea55388",
   "metadata": {},
   "source": [
    "Dodajmy `View` do aplikacji, czyli zdefiniujmy interfejs użytkownika. Funkcja `@Composable` `MainScreen` zawiera ui z dwoma polami edytowalnymi, listą użytkowników oraz trzema przyciskami odpowiedzialnymi za dodanie elementu, wyczyszczenie oraz reinicjalizację listy."
   ]
  },
  {
   "cell_type": "code",
   "execution_count": null,
   "id": "9089c069-cdbe-4a31-a612-18636773578f",
   "metadata": {},
   "outputs": [],
   "source": [
    "@OptIn(ExperimentalMaterial3Api::class)\n",
    "@Composable\n",
    "fun MainScreen(){\n",
    "    ...\n",
    "\n",
    "    Column(modifier = Modifier.padding(2.dp)) {\n",
    "        Row(\n",
    "            modifier = Modifier.fillMaxWidth(),\n",
    "            verticalAlignment = Alignment.CenterVertically\n",
    "        ) {\n",
    "            TextField(\n",
    "                modifier = Modifier.padding(start = 4.dp).weight(1f),\n",
    "                value = ...,\n",
    "                onValueChange = { ... },\n",
    "                label = { Text(\"First Name\") }\n",
    "            )\n",
    "\n",
    "            TextField(\n",
    "                modifier = Modifier.padding(start = 4.dp).weight(1f),\n",
    "                value = ...,\n",
    "                onValueChange = { ... },\n",
    "                label = { Text(\"Last Name\") }\n",
    "            )\n",
    "\n",
    "            Button(\n",
    "                modifier = Modifier\n",
    "                    .weight(.7f)\n",
    "                    .padding(start = 4.dp, end = 4.dp),\n",
    "                shape = RoundedCornerShape(8.dp),\n",
    "                onClick = {\n",
    "                    ...\n",
    "                }\n",
    "            ) {\n",
    "                Text(text = \"ADD\")\n",
    "            }\n",
    "        }\n",
    "\n",
    "        LazyColumn(modifier = Modifier.weight(1f)){\n",
    "            items(viewModel.usersList.size){\n",
    "                Text(\n",
    "                    text = ...,\n",
    "                    fontSize = 32.sp,\n",
    "                    textAlign = TextAlign.Center,\n",
    "                    modifier = Modifier\n",
    "                        .fillMaxWidth()\n",
    "                        .padding(2.dp)\n",
    "                )\n",
    "            }\n",
    "        }\n",
    "\n",
    "        Button(\n",
    "            modifier = Modifier\n",
    "                .fillMaxWidth()\n",
    "                .padding(start = 2.dp, end = 4.dp),\n",
    "            shape = RoundedCornerShape(8.dp),\n",
    "            onClick = { ... }\n",
    "        ) {\n",
    "            Text(text = \"CLEAR\")\n",
    "        }\n",
    "\n",
    "        Button(\n",
    "            modifier = Modifier\n",
    "                .fillMaxWidth()\n",
    "                .padding(start = 2.dp, end = 4.dp),\n",
    "            shape = RoundedCornerShape(8.dp),\n",
    "            onClick = { ... }\n",
    "        ) {\n",
    "            Text(text = \"RESET\")\n",
    "        }\n",
    "\n",
    "    }\n",
    "}"
   ]
  },
  {
   "cell_type": "markdown",
   "id": "8fe65909-9139-4d15-bc47-c208db8b8a98",
   "metadata": {},
   "source": [
    "Potrzebujemy dwie zmienne przechowujące stan pól edytowalnych."
   ]
  },
  {
   "cell_type": "code",
   "execution_count": null,
   "id": "6cbbf617-d562-4530-b8c3-30c36bae3eef",
   "metadata": {},
   "outputs": [],
   "source": [
    "var firstName by remember { mutableStateOf(\"\") }\n",
    "var lastName by remember { mutableStateOf(\"\") }"
   ]
  },
  {
   "cell_type": "markdown",
   "id": "1ffed27b-c726-4549-a4ea-f2c921bf526c",
   "metadata": {},
   "source": [
    "Oraz wartość przechowującą instancję `UserViewModel`"
   ]
  },
  {
   "cell_type": "code",
   "execution_count": null,
   "id": "6ac644e1-a775-4a3e-80fd-426fe98c3738",
   "metadata": {},
   "outputs": [],
   "source": [
    "val viewModel: UserViewModel = viewModel()"
   ]
  },
  {
   "cell_type": "markdown",
   "id": "3870d32b-693c-4ae9-9880-d9b634f5202c",
   "metadata": {},
   "source": [
    "Zmodyfikujmy edytowalne pola `TextField`"
   ]
  },
  {
   "cell_type": "code",
   "execution_count": null,
   "id": "6e8f41d9-6791-43df-9c04-41c49aa026f3",
   "metadata": {},
   "outputs": [],
   "source": [
    "TextField(\n",
    "    modifier = Modifier.padding(start = 4.dp).weight(1f),\n",
    "    value = firstName,\n",
    "    onValueChange = { firstName = it },\n",
    "    label = { Text(\"First Name\") }\n",
    ")\n",
    "\n",
    "TextField(\n",
    "    modifier = Modifier.padding(start = 4.dp).weight(1f),\n",
    "    value = lastName,\n",
    "    onValueChange = { lastName = it },\n",
    "    label = { Text(\"Last Name\") }\n",
    ")"
   ]
  },
  {
   "cell_type": "markdown",
   "id": "162835b4-e2da-457a-83fe-d3ec48a8a781",
   "metadata": {},
   "source": [
    "Przy zmianie wartości pola, jego stan jest zapisywany w zmiennych `firstName` oraz `lastName`"
   ]
  },
  {
   "cell_type": "markdown",
   "id": "c2b1fa8b-a936-4569-a5d8-37a3740bd7cc",
   "metadata": {},
   "source": [
    "Dodajmy `onClick` przycisku odpowiedzialnego za dodanie nowego użytkownika."
   ]
  },
  {
   "cell_type": "code",
   "execution_count": null,
   "id": "da62909b-c7d3-497d-a2be-7b326fd28183",
   "metadata": {},
   "outputs": [],
   "source": [
    "onClick = {\n",
    "    if (\"$firstName$lastName\".isNotBlank()) {\n",
    "        viewModel.addUser(User(firstName, lastName))\n",
    "        firstName = \"\"\n",
    "        lastName = \"\"\n",
    "    }\n",
    "}"
   ]
  },
  {
   "cell_type": "markdown",
   "id": "a92ea360-61b9-4196-818b-9ca682a05857",
   "metadata": {},
   "source": [
    "Sprawdzam czy pola nie są puste, następnie wywołuję metodę `add` klasy `UserVViewModel`, tworzę nowego użytkownika i dodaję go do listy. Na koniec resetuję wartości `firstName` i `lastName`."
   ]
  },
  {
   "cell_type": "markdown",
   "id": "e0725067-0c5a-4d2e-bab4-9344d5398245",
   "metadata": {},
   "source": [
    "Wyświetlmy listę wszystkich użytkowników."
   ]
  },
  {
   "cell_type": "code",
   "execution_count": null,
   "id": "87a20e83-1d5b-4760-8e64-728bf6e81ba0",
   "metadata": {},
   "outputs": [],
   "source": [
    "LazyColumn(modifier = Modifier.weight(1f)){\n",
    "    items(viewModel.usersList.size){\n",
    "        Text(\n",
    "            text = \"${viewModel.usersList[it].firstName} ${viewModel.usersList[it].lastName}\", // jedno pole na którym wyświetlam imię i nazwisko\n",
    "            fontSize = 32.sp,\n",
    "            textAlign = TextAlign.Center,\n",
    "            modifier = Modifier\n",
    "                .fillMaxWidth()\n",
    "                .padding(2.dp)\n",
    "        )\n",
    "    }\n",
    "}"
   ]
  },
  {
   "cell_type": "markdown",
   "id": "e644b0dc-f6af-4c22-af78-724003742908",
   "metadata": {},
   "source": [
    "Na koniec dodajmy obsługę `onClick` przycisków odpowiedzialnych za czyszczenie oraz reinicjalizację danych."
   ]
  },
  {
   "cell_type": "code",
   "execution_count": null,
   "id": "78182a67-3fd7-4dd7-bef6-5f037f6c0b6f",
   "metadata": {},
   "outputs": [],
   "source": [
    "Button(\n",
    "    modifier = Modifier\n",
    "        .fillMaxWidth()\n",
    "        .padding(start = 2.dp, end = 4.dp),\n",
    "    shape = RoundedCornerShape(8.dp),\n",
    "    onClick = { viewModel.clear() } // czyszczenie\n",
    ") {\n",
    "    Text(text = \"CLEAR\")\n",
    "}\n",
    "\n",
    "Button(\n",
    "    modifier = Modifier\n",
    "        .fillMaxWidth()\n",
    "        .padding(start = 2.dp, end = 4.dp),\n",
    "    shape = RoundedCornerShape(8.dp),\n",
    "    onClick = { viewModel.reinitialize() } // reinicjalizacja\n",
    ") {\n",
    "    Text(text = \"RESET\")\n",
    "}"
   ]
  },
  {
   "cell_type": "markdown",
   "id": "2423bf64-95f7-4df0-81c0-c67a5f426cd2",
   "metadata": {},
   "source": [
    "Możemy przetestować aplikację."
   ]
  },
  {
   "cell_type": "markdown",
   "id": "ab2eeae6-1ef9-444f-aaf6-8b6cbf73bed9",
   "metadata": {},
   "source": [
    "<img src=\"https://media0.giphy.com/media/v1.Y2lkPTc5MGI3NjExdmllMXdiMmd0OW8wNGs3bXJucXJxYmNtZGpheGtueG5wbzZnZDduaCZlcD12MV9pbnRlcm5hbF9naWZfYnlfaWQmY3Q9Zw/ff1yWpIVOu1FqfQA3Q/giphy.gif\" width=\"200\" />"
   ]
  }
 ],
 "metadata": {
  "kernelspec": {
   "display_name": "Kotlin",
   "language": "kotlin",
   "name": "kotlin"
  },
  "language_info": {
   "codemirror_mode": "text/x-kotlin",
   "file_extension": ".kt",
   "mimetype": "text/x-kotlin",
   "name": "kotlin",
   "nbconvert_exporter": "",
   "pygments_lexer": "kotlin",
   "version": "1.8.0-RC"
  }
 },
 "nbformat": 4,
 "nbformat_minor": 5
}
