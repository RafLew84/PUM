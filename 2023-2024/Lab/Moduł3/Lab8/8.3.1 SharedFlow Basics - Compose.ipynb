{
 "cells": [
  {
   "cell_type": "markdown",
   "id": "71260161-2b06-47f0-8016-e29aab8b5440",
   "metadata": {},
   "source": [
    "# Jetpack Compose - SharedFlow - Podstawy"
   ]
  },
  {
   "cell_type": "markdown",
   "id": "d5c109df-29a9-4c74-a47a-ea144bb84a8e",
   "metadata": {},
   "source": [
    "W tej aplikacji przyjrzymy się zastosowaniu `SharedFlow`."
   ]
  },
  {
   "cell_type": "markdown",
   "id": "73b25556-6236-42ca-9426-cf554a4bac8e",
   "metadata": {},
   "source": [
    "<img src=\"https://media4.giphy.com/media/v1.Y2lkPTc5MGI3NjExNTNidmt4dWd6MDV1djVqb2ZlNWhsOXdya2R6YXYwdXNtcG5ia3pqaCZlcD12MV9pbnRlcm5hbF9naWZfYnlfaWQmY3Q9Zw/k80AoHasXQujHAFxTW/giphy.gif\" width=\"200\" />"
   ]
  },
  {
   "cell_type": "markdown",
   "id": "3a4bf6bb-83c3-4d3d-887f-d46af47ef276",
   "metadata": {},
   "source": [
    "`SharedFlow` jest to specjalny rodzaj strumienia, który można subskrybować przez wiele źródeł, a każdy subskrybent otrzymuje te same emitowane wartości.\n",
    "\n",
    "Główne cechy `SharedFlow`:\n",
    "- Współdzielone wartości: Umożliwia emitowanie wartości do wielu obserwatorów. Wszyscy subskrybenci otrzymują te same emitowane wartości, dzięki czemu można synchronizować dane między różnymi komponentami w aplikacji.\n",
    "- Zachowanie bufora: Może przechowywać określoną ilość ostatnich emitowanych wartości, co pozwala subskrybentom otrzymać te wartości po dołączeniu do strumienia. Można skonfigurować rozmiar bufora przy tworzeniu SharedFlow.\n",
    "\n",
    "`SharedFlow` jest używane w sytuacjach, gdzie dane muszą być dostarczane do wielu komponentów w aplikacji, na przykład w przypadku synchronizacji stanu między różnymi widokami lub komponentami."
   ]
  },
  {
   "cell_type": "markdown",
   "id": "79701439-58da-4840-ab64-e2628304764c",
   "metadata": {},
   "source": [
    "różnice między `StateFlow` a `SharedFlow` :\n",
    "- Współdzieloność: `StateFlow` reprezentuje strumień, który jest dostępny tylko do odczytu przez jednego subskrybenta. Oznacza to, że jedna instancja StateFlow może mieć tylko jednego aktywnego subskrybenta. Z kolei `SharedFlow` umożliwia wielokrotne subskrybowanie przez różne źródła. Wszyscy subskrybenci otrzymują te same emitowane wartości.\n",
    "- Zachowanie bufora: `StateFlow` automatycznie przechowuje bieżącą wartość stanu, dzięki czemu nowi subskrybenci otrzymują aktualną wartość od razu po dołączeniu do strumienia. SharedFlow może być skonfigurowane, aby przechowywać określoną ilość ostatnich emitowanych wartości w buforze, które będą dostępne dla nowych subskrybentów po dołączeniu.\n",
    "- Mutowalność: Oba strumienie umożliwiają mutowanie wartości, ale z różnymi mechanizmami. `StateFlow` używa `MutableStateFlow` jako swojego źródła danych, co umożliwia bezpieczne mutowanie wartości. `SharedFlow` natomiast nie dostarcza bezpośredniego mechanizmu do bezpiecznego mutowania wartości, nowe wartości są emitowane za pomocą metody `emit()` wewnątrz korutyn.\n",
    "\n",
    "Podsumowując, główna różnica między `StateFlow` a `SharedFlow` polega na sposobie współdzielenia danych i zachowaniu bufora."
   ]
  },
  {
   "cell_type": "markdown",
   "id": "f019a64b-72c7-4dc5-800b-743619dbfe55",
   "metadata": {},
   "source": [
    "Nasza aplikacja będzie prostym licznikiem, w którym po upłynięciu określonego czasu zmienimy wartość `SharedFlow` i zwiększymy stan licznika."
   ]
  },
  {
   "cell_type": "markdown",
   "id": "c1f4c50f-051b-4cad-a9c4-56d791d6417a",
   "metadata": {},
   "source": [
    "Rozpocznijmy od zaimplementowania `NumberViewModel`"
   ]
  },
  {
   "cell_type": "code",
   "execution_count": null,
   "id": "055e7037-da07-4e57-9b94-41c763c0e024",
   "metadata": {},
   "outputs": [],
   "source": [
    "class NumberViewModel : ViewModel() {\n",
    "\n",
    "    private var number = 0\n",
    "    private val _sharedFlow = MutableSharedFlow<Int>(1)\n",
    "    val sharedFlow: SharedFlow<Int> = _sharedFlow\n",
    "\n",
    "    init {\n",
    "        viewModelScope.launch {\n",
    "            while (true) {\n",
    "                _sharedFlow.emit(number++)\n",
    "                delay(500L)\n",
    "            }\n",
    "        }\n",
    "    }\n",
    "}"
   ]
  },
  {
   "cell_type": "markdown",
   "id": "75b8f948-45c6-41b4-9941-b212d979e71c",
   "metadata": {},
   "source": [
    "- `private var number = 0` - Prywatne pole number, które przechowuje aktualną liczbę.\n",
    "- `private val _sharedFlow = MutableSharedFlow<Int>(1)` - Jest używany do emitowania wartości typu `Int`. W konstruktorze `MutableSharedFlow` podajemy parametr, który określa pojemność bufora. Oznacza to, że `_sharedFlow` będzie przechowywać tylko jedną, ostatnią wartość do odczytu dla nowych subskrybentów.\n",
    "- `val sharedFlow: SharedFlow<Int> = _sharedFlow` - Jest udostępnione do subskrybowania - pole tylko do odczytu.\n",
    "- `viewModelScope.launch { ... }` - `viewModelScope` jest zasięgiem cyklu życia `ViewModel` i zarządza automatycznie odwołaniem wszystkich aktywnych korutyn w momencie zakończenia `ViewModel`.\n",
    "- `_sharedFlow.emit(number++)` - Emitowanie wartości `number` do `_sharedFlow`."
   ]
  },
  {
   "cell_type": "markdown",
   "id": "44e6dc5a-fc51-47b6-84fa-d3481e81c3c1",
   "metadata": {},
   "source": [
    "Zaimplementujmy ui, oraz dodajmy go jako subskrybenta `sharedFlow`"
   ]
  },
  {
   "cell_type": "code",
   "execution_count": null,
   "id": "4fbc7adb-5a11-4663-b5a2-eba0ad4b5a93",
   "metadata": {},
   "outputs": [],
   "source": [
    "class MainActivity : ComponentActivity() {\n",
    "    override fun onCreate(savedInstanceState: Bundle?) {\n",
    "        super.onCreate(savedInstanceState)\n",
    "        setContent {\n",
    "            SharedFlowBasicsTheme {\n",
    "                val viewModel: NumberViewModel = viewModel()\n",
    "                var number by remember {\n",
    "                    mutableStateOf(0)\n",
    "                }\n",
    "\n",
    "                LaunchedEffect(key1 = true){\n",
    "                    viewModel.sharedFlow.collect{ collectedNumber ->\n",
    "                        number = collectedNumber\n",
    "                    }\n",
    "                }\n",
    "\n",
    "                Surface(\n",
    "                    modifier = Modifier.fillMaxSize(),\n",
    "                    color = MaterialTheme.colorScheme.background\n",
    "                ) {\n",
    "                    Column(\n",
    "                        modifier = Modifier.fillMaxSize(),\n",
    "                        verticalArrangement = Arrangement.Center,\n",
    "                        horizontalAlignment = Alignment.CenterHorizontally\n",
    "                    ){\n",
    "                        Text(\n",
    "                            text = number.toString(),\n",
    "                            fontSize = 56.sp,\n",
    "                            modifier = Modifier.fillMaxWidth(),\n",
    "                            textAlign = TextAlign.Center\n",
    "                        )\n",
    "\n",
    "                    }\n",
    "                }\n",
    "            }\n",
    "        }\n",
    "    }\n",
    "}"
   ]
  },
  {
   "cell_type": "markdown",
   "id": "c2b66559-89a8-4bf1-b19c-a5041183499b",
   "metadata": {},
   "source": [
    "- `LaunchedEffect(key1 = true) { ... }` - Jest to komponent, który uruchamia efekt, gdy dany klucz (`key`) zmienia się. W tym przypadku używamy `key1 = true`, co oznacza, że efekt zostanie uruchomiony tylko raz, na początku życia tego komponentu. Efekt jest uruchamiany w nowej korutynie.\n",
    "- `viewModel.sharedFlow.collect { collectedNumber -> ... }` - Subskrybuje wartości emitowane przez `sharedFlow`. Za każdym razem, gdy pojawi się nowa wartość, `collectedNumber` zostanie zaktualizowane na tą wartość.\n",
    "\n",
    "W rezultacie, za pomocą `LaunchedEffect`, aplikacja subskrybuje wartości emitowane przez `sharedFlow` i aktualizuje zmienną number, co prowadzi do aktualizacji interfejsu użytkownika z aktualną liczbą po każdym emitowaniu nowej wartości przez `sharedFlow`."
   ]
  },
  {
   "cell_type": "markdown",
   "id": "eb49ace2-41ad-4667-9cc6-1aef087221f5",
   "metadata": {},
   "source": [
    "Możemy przetestować aplikację"
   ]
  },
  {
   "cell_type": "markdown",
   "id": "6216c77f-ef5b-4ad2-b072-b0b09568a0d5",
   "metadata": {},
   "source": [
    "<img src=\"https://media4.giphy.com/media/v1.Y2lkPTc5MGI3NjExNTNidmt4dWd6MDV1djVqb2ZlNWhsOXdya2R6YXYwdXNtcG5ia3pqaCZlcD12MV9pbnRlcm5hbF9naWZfYnlfaWQmY3Q9Zw/k80AoHasXQujHAFxTW/giphy.gif\" width=\"200\" />"
   ]
  }
 ],
 "metadata": {
  "kernelspec": {
   "display_name": "Kotlin",
   "language": "kotlin",
   "name": "kotlin"
  },
  "language_info": {
   "codemirror_mode": "text/x-kotlin",
   "file_extension": ".kt",
   "mimetype": "text/x-kotlin",
   "name": "kotlin",
   "nbconvert_exporter": "",
   "pygments_lexer": "kotlin",
   "version": "1.6.20-dev-6372"
  }
 },
 "nbformat": 4,
 "nbformat_minor": 5
}
