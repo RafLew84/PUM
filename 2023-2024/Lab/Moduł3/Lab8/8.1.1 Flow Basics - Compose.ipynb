{
 "cells": [
  {
   "cell_type": "markdown",
   "id": "1fa19e9e-5c93-47bc-a516-d8e35df8bdf6",
   "metadata": {},
   "source": [
    "# Jetpack Compose - Flow - Podstawy"
   ]
  },
  {
   "cell_type": "markdown",
   "id": "fa0a294c-f957-4cf5-90d4-14c1e298e2a3",
   "metadata": {},
   "source": [
    "W tej aplikacji przyjrzymy się zastosowaniu `Flow`."
   ]
  },
  {
   "cell_type": "markdown",
   "id": "aacfd798-9f31-4c56-8944-587bff084333",
   "metadata": {},
   "source": [
    "<img src=\"https://media1.giphy.com/media/v1.Y2lkPTc5MGI3NjExbHdhamV6bDFidmNvMmVmc250eWxuYTJ6aWMxOGljZGZocmxxczRuOSZlcD12MV9pbnRlcm5hbF9naWZfYnlfaWQmY3Q9Zw/xuvbEBtBvw4PMnDOwS/giphy.gif\" width=\"200\" />"
   ]
  },
  {
   "cell_type": "markdown",
   "id": "66e1df48-f768-4d59-8e15-48e4b0288ea2",
   "metadata": {},
   "source": [
    "`Flow` umożliwia asynchroniczne przetwarzanie sekwencji wartości, które mogą być emitowane asynchronicznie i odbierane w reaktywny sposób. Dzięki temu można implementować strumienie danych, obsługiwać opóźnienia, operacje na wielu wartościach oraz obsługiwać błędy i anulowanie strumienia.\n",
    "\n",
    "Strumienie danych (ang. *data streams*) to sekwencje wartości lub zdarzeń, które są emitowane w określonym czasie lub w odpowiedzi na różne zdarzenia. Strumienie danych mogą być dynamicznie aktualizowane i przetwarzane.\n",
    "\n",
    "Główne cechy strumieni danych to:\n",
    "- Emitowanie wartości: Strumienie danych mogą emitować wartości w czasie, jedną po drugiej. Emitowanie wartości może być synchroniczne lub asynchroniczne. \n",
    "- Reaktywne odbieranie: Odbiorcy strumienia mogą reagować na emitowane wartości, podejmując odpowiednie działania. Odbieranie może odbywać się w czasie rzeczywistym lub w reakcji na określone zdarzenia.\n",
    "- Przetwarzanie strumienia: Strumienie danych mogą być przetwarzane i transformowane za pomocą różnych operacji, takich jak filtrowanie, mapowanie, łączenie, grupowanie itp.\n",
    "- Obsługa błędów i anulowanie: Strumienie danych mogą obsługiwać sytuacje błędne i obsługiwać anulowanie strumienia w dowolnym momencie."
   ]
  },
  {
   "cell_type": "markdown",
   "id": "4a3008d3-2da9-4e48-b458-b00c63306ee7",
   "metadata": {},
   "source": [
    "W naszej aplikacji utworzymy listę danych (*dummy data*). Będziemy posiadać jedno pole `Text`, w którym wyświetlimy każdy kolejny element listy co 0,5 sekundy.\n",
    "\n",
    "Dodajmy wymagane zależności\n",
    "\n",
    "```kotlin\n",
    "    implementation \"androidx.lifecycle:lifecycle-viewmodel-compose:2.6.1\"\n",
    "    implementation \"androidx.lifecycle:lifecycle-viewmodel-ktx:2.6.1\"\n",
    "    implementation \"androidx.lifecycle:lifecycle-runtime-compose:2.6.1\"\n",
    "```\n",
    "\n",
    "Rozpocznijmy od dodania danych."
   ]
  },
  {
   "cell_type": "code",
   "execution_count": null,
   "id": "cb80c078-69fc-4ae4-8b36-5d23af7dee9e",
   "metadata": {},
   "outputs": [],
   "source": [
    "object DataProvider {\n",
    "    val data: List<String> = listOf(\n",
    "        \"pierwszy\",\n",
    "        \"drugi\",\n",
    "        \"trzeci\",\n",
    "        \"czwarty\",\n",
    "        \"piąty\",\n",
    "        \"szósty\",\n",
    "        \"siódmy\",\n",
    "        \"ósmy\",\n",
    "        \"dziewiąty\",\n",
    "        \"dziesiąty\",\n",
    "        \"jedenasty\",\n",
    "        \"dwunasty\",\n",
    "        \"trzynasty\",\n",
    "        \"czternasty\",\n",
    "        \"piętnasty\",\n",
    "        \"szesnasty\",\n",
    "        \"siedemnasty\",\n",
    "        \"osiemnasty\",\n",
    "        \"dziewiętnasty\",\n",
    "        \"dwudziesty\",\n",
    "    )\n",
    "}"
   ]
  },
  {
   "cell_type": "markdown",
   "id": "4024c1f2-aa3f-4e0b-9497-305ca71e146c",
   "metadata": {},
   "source": [
    "Dodajmy `ViewModel` i utwórzmy nasz `Flow`"
   ]
  },
  {
   "cell_type": "code",
   "execution_count": null,
   "id": "0466df54-69b1-4f86-96f1-425bfc4c5378",
   "metadata": {},
   "outputs": [],
   "source": [
    "class WordsViewModel : ViewModel() {\n",
    "    val wordsFlow = flow{\n",
    "        var index = 0\n",
    "        while (index < DataProvider.data.size){\n",
    "            emit(DataProvider.data[index])\n",
    "            delay(500L)\n",
    "            index++\n",
    "        }\n",
    "    }\n",
    "}"
   ]
  },
  {
   "cell_type": "markdown",
   "id": "f5691676-0bfd-4bc3-a9ec-58091e5dafe2",
   "metadata": {},
   "source": [
    "- `val wordsFlow = flow { ... }` -  Strumień danych `wordsFlow` tworzymy za pomocą funkcji `flow`. flow jest funkcją z biblioteki Kotlin Coroutines, która umożliwia tworzenie strumieni asynchronicznych.\n",
    "- `var index = 0` - Służy do śledzenia aktualnego indeksu danych.\n",
    "- `while (index < DataProvider.data.size) { ... }` - Pętla, która działa dopóki `index` jest mniejszy niż rozmiar danych dostarczonych przez `DataProvider`.\n",
    "- `emit(DataProvider.data[index])` - Wywołanie funkcji `emit` wewnątrz strumienia, która emituje aktualny element danych na strumień.\n",
    "- `delay(500L)` - Opóźnienie o 500 milisekund przy użyciu funkcji `delay` z biblioteki `Coroutines`.\n",
    "\n",
    "`WordsViewModel` dostarcza strumień danych `wordsFlow`, który emituje słowa w określonym czasie, z danych dostarczonych przez DataProvider w interwałach co pół sekundy. Dzięki temu strumieniowi można obserwować i reagować na emitowane wyrazy w reaktywny sposób\n",
    "\n",
    "Kiedy funkcja `emit` jest wywoływana, wartość podana jako argument jest wysyłana do strumienia danych. Ta wartość staje się dostępna dla wszystkich odbiorców, którzy subskrybują ten strumień. W momencie wywołania `emit`, strumień przekazuje tę wartość do aktualnie aktywnych odbiorców. Działa w sposób **asynchroniczny**, co oznacza, że nie blokuje bieżącego wątku podczas wysyłania wartości do strumienia. Dzięki temu możliwe jest kontynuowanie przetwarzania i wykonywania innych operacji jednocześnie."
   ]
  },
  {
   "cell_type": "markdown",
   "id": "1dc1ce6c-3649-4642-8fee-8e527751f6d3",
   "metadata": {},
   "source": [
    "Przejdźmy do funkcji `@Composable` renderującej nasz interfejs użytkownika, wpierw tworzymy instancję `WordViewModel`"
   ]
  },
  {
   "cell_type": "code",
   "execution_count": null,
   "id": "51598f59-1a95-476f-8078-b1e07758c91e",
   "metadata": {},
   "outputs": [],
   "source": [
    "val viewModel: WordsViewModel = viewModel()"
   ]
  },
  {
   "cell_type": "markdown",
   "id": "97e94224-10c8-4481-a48e-d75f6d27e475",
   "metadata": {},
   "source": [
    "Następnie tworzymy zmienną `word`, która jest typu `State<String>`, używając metody `collectAsStateWithLifecycle` na polu `wordsFlow` z `viewModel`."
   ]
  },
  {
   "cell_type": "code",
   "execution_count": null,
   "id": "47911c6a-467e-4a29-bbcb-aabc434eba66",
   "metadata": {},
   "outputs": [],
   "source": [
    "val word = viewModel.wordsFlow.collectAsStateWithLifecycle(\"start\")"
   ]
  },
  {
   "cell_type": "markdown",
   "id": "0185bbf5-c20d-4943-9716-9c38702fd797",
   "metadata": {},
   "source": [
    "`collectAsStateWithLifecycle` zbiera wartości emitowane przez strumień `wordsFlow` i zwraca je jako stan. Stan ten jest automatycznie aktualizowany w zależności od cyklu życia widoku (`viewlifecycle`). Jeśli strumień jest aktywny i emituje wartości, `word` zostanie automatycznie zaktualizowane najnowszą emitowaną wartością.\n",
    "\n",
    "Wartość `\"start\"` przekazana jako argument `collectAsStateWithLifecycle`, zostanie użyta jako początkowa wartość do momentu otrzymania pierwszej emitowanej wartości.\n",
    "\n",
    "`Flow` to jhest tzw. **zimny strumień** (ang. *cold stream*). Oznacza to, że strumień `Flow` nie rozpocznie emisji wartości dopóki nie pojawi się odbiorca, który **zasubskrybuje** ten strumień. W przypadku zimnego strumienia, emisja danych jest inicjowana tylko wtedy, gdy istnieje aktywny odbiorca, który oczekuje na te wartości. Gdy nowy odbiorca subskrybuje strumień, emisja rozpocznie się od początku dla tego konkretnego odbiorcy.\n",
    "\n",
    "Zaletą zimnych strumieni jest to, że emisja danych jest inicjowana i kontrolowana przez odbiorcę. Pozwala to na bardziej elastyczną obsługę strumieni w zależności od potrzeb, unikając niepotrzebnego generowania i przetwarzania danych, gdy nie ma odbiorców gotowych na ich przyjęcie.\n",
    "\n",
    "Subskrypcja strumienia `Flow` jest wykonana przy użyciu `collect` (`suspend function`), który umożliwia odbiór i przetwarzanie wartości emitowanych przez strumień.\n",
    "\n",
    "Aby zasubskrybować strumień, należy wywołać funkcję collect na strumieniu i przekazać blok kodu, który zostanie wykonany dla każdej emitowanej wartości. Przykładowo:\n",
    "\n",
    "```kotlin\n",
    "flow.collect { value ->\n",
    "    // Kod do przetwarzania wartości\n",
    "}\n",
    "```\n",
    "\n",
    "Wewnątrz bloku `collect` można umieścić kod, który będzie przetwarzał każdą emitowaną wartość. Strumień wywoła ten blok kodu dla każdej emitowanej wartości, dostarczając ją jako argument do bloku.\n",
    "\n",
    "W tym przykładzie wykorzystujemy `collectAsStateWithLifecycle`, `collect` nie jest automatycznie świadome cyklu życia. Oznacza to, że trzeba samodzielnie zarządzać rozpoczęciem i zakończeniem subskrypcji. `collectAsStateWithLifecycle` jest świadome cyklu życia, ponieważ jest zintegrowane z cyklem życia komponentów, takich jak `LifecycleOwner` (podobnie jak `LiveData`). Automatycznie rozpoczyna subskrypcję, gdy komponent jest aktywny, a kończy, gdy jest nieaktywny, co zapewnia bezpieczne zarządzanie subskrypcją w kontekście cyklu życia komponentu.\n",
    "\n",
    "Mamy do dyspozycji również metodę `collectAsState`, gdy ją wykorzystamy emisja pozostaje aktywna, dopóki nie zostanie ręcznie przerwana, lub zakończona. Nie jest to (zawsze) pożądany efekt, przykładowo jeżeli nasza aplikacja zostanie zminimalizowana, chcemy aby emisja danych została wstrzymana - to oferuje `collectAsStateWithLifecycle`."
   ]
  },
  {
   "cell_type": "markdown",
   "id": "7b28ea96-0841-43b1-8175-8fca40e8f683",
   "metadata": {},
   "source": [
    "Do wartości obiektu `State` dostajemy się poprzez pole `value`"
   ]
  },
  {
   "cell_type": "code",
   "execution_count": null,
   "id": "fe86cdce-7a26-4597-a090-7b333a6c517a",
   "metadata": {},
   "outputs": [],
   "source": [
    "class MainActivity : ComponentActivity() {\n",
    "    override fun onCreate(savedInstanceState: Bundle?) {\n",
    "        super.onCreate(savedInstanceState)\n",
    "        setContent {\n",
    "            FlowBasicsComposeTheme {\n",
    "\n",
    "                val viewModel: WordsViewModel = viewModel()\n",
    "\n",
    "                val word = viewModel.wordsFlow.collectAsStateWithLifecycle(\"start\")\n",
    "\n",
    "                Surface(\n",
    "                    modifier = Modifier.fillMaxSize(),\n",
    "                    color = MaterialTheme.colorScheme.background\n",
    "                ) {\n",
    "                    Column(\n",
    "                        modifier = Modifier.fillMaxSize(),\n",
    "                        verticalArrangement = Arrangement.Center,\n",
    "                        horizontalAlignment = Alignment.CenterHorizontally\n",
    "                    ){\n",
    "                        Text(\n",
    "                            text = word.value, // ustawienie wartości w polu Text\n",
    "                            fontSize = 56.sp,\n",
    "                            modifier = Modifier.fillMaxWidth(),\n",
    "                            textAlign = TextAlign.Center\n",
    "                        )\n",
    "                    }\n",
    "                }\n",
    "            }\n",
    "        }\n",
    "    }\n",
    "}"
   ]
  },
  {
   "cell_type": "markdown",
   "id": "6be5d6cb-7c9c-45ab-bc10-5f2f2c2df12c",
   "metadata": {},
   "source": [
    "Możemy przetestować apliakcję"
   ]
  },
  {
   "cell_type": "markdown",
   "id": "ff77dcc1-970c-4639-99d5-dac3f87f20f8",
   "metadata": {},
   "source": [
    "<img src=\"https://media1.giphy.com/media/v1.Y2lkPTc5MGI3NjExbHdhamV6bDFidmNvMmVmc250eWxuYTJ6aWMxOGljZGZocmxxczRuOSZlcD12MV9pbnRlcm5hbF9naWZfYnlfaWQmY3Q9Zw/xuvbEBtBvw4PMnDOwS/giphy.gif\" width=\"200\" />"
   ]
  },
  {
   "cell_type": "code",
   "execution_count": null,
   "id": "d7870dfc-53f4-44f7-973e-c2fde93b2b38",
   "metadata": {},
   "outputs": [],
   "source": []
  }
 ],
 "metadata": {
  "kernelspec": {
   "display_name": "Kotlin",
   "language": "kotlin",
   "name": "kotlin"
  },
  "language_info": {
   "codemirror_mode": "text/x-kotlin",
   "file_extension": ".kt",
   "mimetype": "text/x-kotlin",
   "name": "kotlin",
   "nbconvert_exporter": "",
   "pygments_lexer": "kotlin",
   "version": "1.8.0-RC"
  }
 },
 "nbformat": 4,
 "nbformat_minor": 5
}
