{
 "cells": [
  {
   "cell_type": "markdown",
   "id": "cc6686b6-71f1-4c30-9514-ac61379d5300",
   "metadata": {},
   "source": [
    "# Flow - Podstawy"
   ]
  },
  {
   "cell_type": "markdown",
   "id": "0ff9cc91-5e5b-4aff-a405-c290dbbd387f",
   "metadata": {},
   "source": [
    "W tej aplikacji przyjrzymy się zastosowaniu `Flow`."
   ]
  },
  {
   "cell_type": "markdown",
   "id": "1d6eebe6-75bf-440e-b723-f6a71b635693",
   "metadata": {},
   "source": [
    "<img src=\"https://media1.giphy.com/media/v1.Y2lkPTc5MGI3NjExbHdhamV6bDFidmNvMmVmc250eWxuYTJ6aWMxOGljZGZocmxxczRuOSZlcD12MV9pbnRlcm5hbF9naWZfYnlfaWQmY3Q9Zw/xuvbEBtBvw4PMnDOwS/giphy.gif\" width=\"200\" />"
   ]
  },
  {
   "cell_type": "markdown",
   "id": "4d819323-6017-4e90-a4e9-61c9120cebbd",
   "metadata": {},
   "source": [
    "`Flow` umożliwia asynchroniczne przetwarzanie sekwencji wartości, które mogą być emitowane asynchronicznie i odbierane w reaktywny sposób. Dzięki temu można implementować strumienie danych, obsługiwać opóźnienia, operacje na wielu wartościach oraz obsługiwać błędy i anulowanie strumienia.\n",
    "\n",
    "Strumienie danych (ang. *data streams*) to sekwencje wartości lub zdarzeń, które są emitowane w określonym czasie lub w odpowiedzi na różne zdarzenia. Strumienie danych mogą być dynamicznie aktualizowane i przetwarzane.\n",
    "\n",
    "Główne cechy strumieni danych to:\n",
    "- Emitowanie wartości: Strumienie danych mogą emitować wartości w czasie, jedną po drugiej. Emitowanie wartości może być synchroniczne lub asynchroniczne. \n",
    "- Reaktywne odbieranie: Odbiorcy strumienia mogą reagować na emitowane wartości, podejmując odpowiednie działania. Odbieranie może odbywać się w czasie rzeczywistym lub w reakcji na określone zdarzenia.\n",
    "- Przetwarzanie strumienia: Strumienie danych mogą być przetwarzane i transformowane za pomocą różnych operacji, takich jak filtrowanie, mapowanie, łączenie, grupowanie itp.\n",
    "- Obsługa błędów i anulowanie: Strumienie danych mogą obsługiwać sytuacje błędne i obsługiwać anulowanie strumienia w dowolnym momencie."
   ]
  },
  {
   "cell_type": "markdown",
   "id": "849a28c3-dde6-4368-b174-3e38e0528855",
   "metadata": {},
   "source": [
    "W naszej aplikacji utworzymy listę danych (*dummy data*). Będziemy posiadać jedno pole `Text`, w którym wyświetlimy każdy kolejny element listy co 0,5 sekundy.\n",
    "\n",
    "Rozpocznijmy od dodania danych."
   ]
  },
  {
   "cell_type": "code",
   "execution_count": null,
   "id": "4454a9eb-bb6e-464d-9fc6-8ecbbff316fa",
   "metadata": {},
   "outputs": [],
   "source": [
    "object DataProvider {\n",
    "    val data: List<String> = listOf(\n",
    "        \"pierwszy\",\n",
    "        \"drugi\",\n",
    "        \"trzeci\",\n",
    "        \"czwarty\",\n",
    "        \"piąty\",\n",
    "        \"szósty\",\n",
    "        \"siódmy\",\n",
    "        \"ósmy\",\n",
    "        \"dziewiąty\",\n",
    "        \"dziesiąty\",\n",
    "        \"jedenasty\",\n",
    "        \"dwunasty\",\n",
    "        \"trzynasty\",\n",
    "        \"czternasty\",\n",
    "        \"piętnasty\",\n",
    "        \"szesnasty\",\n",
    "        \"siedemnasty\",\n",
    "        \"osiemnasty\",\n",
    "        \"dziewiętnasty\",\n",
    "        \"dwudziesty\",\n",
    "    )\n",
    "}"
   ]
  },
  {
   "cell_type": "markdown",
   "id": "efa7a0c9-e4e4-442c-83c2-b2c15d112991",
   "metadata": {},
   "source": [
    "Dodajmy `ViewModel` i utwórzmy nasz `Flow`"
   ]
  },
  {
   "cell_type": "code",
   "execution_count": null,
   "id": "8000c1e6-6c11-4149-b253-d95de7e3c1e0",
   "metadata": {},
   "outputs": [],
   "source": [
    "class WordsViewModel : ViewModel() {\n",
    "    val wordsFlow = flow{\n",
    "        var index = 0\n",
    "        while (index < DataProvider.data.size){\n",
    "            emit(DataProvider.data[index])\n",
    "            delay(500L)\n",
    "            index++\n",
    "        }\n",
    "    }\n",
    "}"
   ]
  },
  {
   "cell_type": "markdown",
   "id": "56a81ea3-7aa6-48d0-8da8-c9b5ddbcf945",
   "metadata": {},
   "source": [
    "- `val wordsFlow = flow { ... }` -  Strumień danych `wordsFlow` tworzymy za pomocą funkcji `flow`. flow jest funkcją z biblioteki Kotlin Coroutines, która umożliwia tworzenie strumieni asynchronicznych.\n",
    "- `var index = 0` - Służy do śledzenia aktualnego indeksu danych.\n",
    "- `while (index < DataProvider.data.size) { ... }` - Pętla, która działa dopóki `index` jest mniejszy niż rozmiar danych dostarczonych przez `DataProvider`.\n",
    "- `emit(DataProvider.data[index])` - Wywołanie funkcji `emit` wewnątrz strumienia, która emituje aktualny element danych na strumień.\n",
    "- `delay(500L)` - Opóźnienie o 500 milisekund przy użyciu funkcji `delay` z biblioteki `Coroutines`.\n",
    "\n",
    "`WordsViewModel` dostarcza strumień danych `wordsFlow`, który emituje słowa w określonym czasie, z danych dostarczonych przez DataProvider w interwałach co pół sekundy. Dzięki temu strumieniowi można obserwować i reagować na emitowane wyrazy w reaktywny sposób\n",
    "\n",
    "Kiedy funkcja `emit` jest wywoływana, wartość podana jako argument jest wysyłana do strumienia danych. Ta wartość staje się dostępna dla wszystkich odbiorców, którzy subskrybują ten strumień. W momencie wywołania `emit`, strumień przekazuje tę wartość do aktualnie aktywnych odbiorców. Działa w sposób **asynchroniczny**, co oznacza, że nie blokuje bieżącego wątku podczas wysyłania wartości do strumienia. Dzięki temu możliwe jest kontynuowanie przetwarzania i wykonywania innych operacji jednocześnie."
   ]
  },
  {
   "cell_type": "markdown",
   "id": "f273b6e5-1276-4f3c-8945-9d622cefb43d",
   "metadata": {},
   "source": [
    "Przejdźmy do odebrania danych, w pierwszym kroku utworzymy layoty aktywności oraz fragmentu."
   ]
  },
  {
   "cell_type": "code",
   "execution_count": null,
   "id": "8a661637-d1df-4d78-ae4d-becabe4ea1b0",
   "metadata": {},
   "outputs": [],
   "source": []
  },
  {
   "cell_type": "code",
   "execution_count": null,
   "id": "26798cc3-bbbf-46c0-a295-054f531e5630",
   "metadata": {},
   "outputs": [],
   "source": [
    "val viewModel: WordsViewModel = viewModel()"
   ]
  },
  {
   "cell_type": "markdown",
   "id": "e5cfac6c-ab4c-4c5c-830b-f7fa367e6800",
   "metadata": {},
   "source": [
    "Następnie tworzymy zmienną `word`, która jest typu `State<String>`, używając metody `collectAsStateWithLifecycle` na polu `wordsFlow` z `viewModel`."
   ]
  },
  {
   "cell_type": "code",
   "execution_count": null,
   "id": "3b22bc97-8ab2-446c-b80a-ceffc9d91311",
   "metadata": {},
   "outputs": [],
   "source": [
    "val word = viewModel.wordsFlow.collectAsStateWithLifecycle(\"start\")"
   ]
  },
  {
   "cell_type": "markdown",
   "id": "ad771239-fa6a-4b06-8d6d-8c9065400063",
   "metadata": {},
   "source": [
    "`collectAsStateWithLifecycle` zbiera wartości emitowane przez strumień `wordsFlow` i zwraca je jako stan. Stan ten jest automatycznie aktualizowany w zależności od cyklu życia widoku (`viewlifecycle`). Jeśli strumień jest aktywny i emituje wartości, `word` zostanie automatycznie zaktualizowane najnowszą emitowaną wartością.\n",
    "\n",
    "Wartość `\"start\"` przekazana jako argument `collectAsStateWithLifecycle`, zostanie użyta jako początkowa wartość do momentu otrzymania pierwszej emitowanej wartości.\n",
    "\n",
    "`Flow` to jhest tzw. **zimny strumień** (ang. *cold stream*). Oznacza to, że strumień `Flow` nie rozpocznie emisji wartości dopóki nie pojawi się odbiorca, który **zasubskrybuje** ten strumień. W przypadku zimnego strumienia, emisja danych jest inicjowana tylko wtedy, gdy istnieje aktywny odbiorca, który oczekuje na te wartości. Gdy nowy odbiorca subskrybuje strumień, emisja rozpocznie się od początku dla tego konkretnego odbiorcy.\n",
    "\n",
    "Zaletą zimnych strumieni jest to, że emisja danych jest inicjowana i kontrolowana przez odbiorcę. Pozwala to na bardziej elastyczną obsługę strumieni w zależności od potrzeb, unikając niepotrzebnego generowania i przetwarzania danych, gdy nie ma odbiorców gotowych na ich przyjęcie.\n",
    "\n",
    "Subskrypcja strumienia `Flow` jest wykonana przy użyciu `collect` (`suspend function`), który umożliwia odbiór i przetwarzanie wartości emitowanych przez strumień.\n",
    "\n",
    "Aby zasubskrybować strumień, należy wywołać funkcję collect na strumieniu i przekazać blok kodu, który zostanie wykonany dla każdej emitowanej wartości. Przykładowo:\n",
    "\n",
    "```kotlin\n",
    "Copy code\n",
    "flow.collect { value ->\n",
    "    // Kod do przetwarzania wartości\n",
    "}\n",
    "```\n",
    "\n",
    "Wewnątrz bloku `collect` można umieścić kod, który będzie przetwarzał każdą emitowaną wartość. Strumień wywoła ten blok kodu dla każdej emitowanej wartości, dostarczając ją jako argument do bloku.\n",
    "\n",
    "W tym przykładzie wykorzystujemy `collectAsStateWithLifecycle`, `collect` nie jest automatycznie świadome cyklu życia. Oznacza to, że trzeba samodzielnie zarządzać rozpoczęciem i zakończeniem subskrypcji. `collectAsStateWithLifecycle` jest świadome cyklu życia, ponieważ jest zintegrowane z cyklem życia komponentów, takich jak `LifecycleOwner` (podobnie jak `LiveData`). Automatycznie rozpoczyna subskrypcję, gdy komponent jest aktywny, a kończy, gdy jest nieaktywny, co zapewnia bezpieczne zarządzanie subskrypcją w kontekście cyklu życia komponentu.\n",
    "\n",
    "Mamy do dyspozycji również metodę `collectAsState`, gdy ją wykorzystamy emisja pozostaje aktywna, dopóki nie zostanie ręcznie przerwana, lub zakończona. Nie jest to (zawsze) pożądany efekt, przykładowo jeżeli nasza aplikacja zostanie zminimalizowana, chcemy aby emisja danych została wstrzymana - to oferuje `collectAsStateWithLifecycle`."
   ]
  },
  {
   "cell_type": "markdown",
   "id": "0397275f-b1b6-446d-b6a7-c70adbaa7965",
   "metadata": {},
   "source": [
    "Do wartości obiektu `State` dostajemy się poprzez pole `value`"
   ]
  },
  {
   "cell_type": "code",
   "execution_count": null,
   "id": "363ce661-044a-4681-981f-4bdd899cc3f0",
   "metadata": {},
   "outputs": [],
   "source": [
    "class MainActivity : ComponentActivity() {\n",
    "    override fun onCreate(savedInstanceState: Bundle?) {\n",
    "        super.onCreate(savedInstanceState)\n",
    "        setContent {\n",
    "            FlowBasicsComposeTheme {\n",
    "\n",
    "                val viewModel: WordsViewModel = viewModel()\n",
    "\n",
    "                val word = viewModel.wordsFlow.collectAsStateWithLifecycle(\"start\")\n",
    "\n",
    "                Surface(\n",
    "                    modifier = Modifier.fillMaxSize(),\n",
    "                    color = MaterialTheme.colorScheme.background\n",
    "                ) {\n",
    "                    Column(\n",
    "                        modifier = Modifier.fillMaxSize(),\n",
    "                        verticalArrangement = Arrangement.Center,\n",
    "                        horizontalAlignment = Alignment.CenterHorizontally\n",
    "                    ){\n",
    "                        Text(\n",
    "                            text = word.value, // ustawienie wartości w polu Text\n",
    "                            fontSize = 56.sp,\n",
    "                            modifier = Modifier.fillMaxWidth(),\n",
    "                            textAlign = TextAlign.Center\n",
    "                        )\n",
    "                    }\n",
    "                }\n",
    "            }\n",
    "        }\n",
    "    }\n",
    "}"
   ]
  },
  {
   "cell_type": "markdown",
   "id": "3dec6160-1568-4c1e-ad1c-64a8aac6c148",
   "metadata": {},
   "source": [
    "Możemy przetestować apliakcję"
   ]
  },
  {
   "cell_type": "markdown",
   "id": "9d46b7a6-584d-4877-8b33-dda6d43316e4",
   "metadata": {},
   "source": [
    "<img src=\"https://media1.giphy.com/media/v1.Y2lkPTc5MGI3NjExbHdhamV6bDFidmNvMmVmc250eWxuYTJ6aWMxOGljZGZocmxxczRuOSZlcD12MV9pbnRlcm5hbF9naWZfYnlfaWQmY3Q9Zw/xuvbEBtBvw4PMnDOwS/giphy.gif\" width=\"200\" />"
   ]
  }
 ],
 "metadata": {
  "kernelspec": {
   "display_name": "Kotlin",
   "language": "kotlin",
   "name": "kotlin"
  },
  "language_info": {
   "codemirror_mode": "text/x-kotlin",
   "file_extension": ".kt",
   "mimetype": "text/x-kotlin",
   "name": "kotlin",
   "nbconvert_exporter": "",
   "pygments_lexer": "kotlin",
   "version": "1.8.0-RC"
  }
 },
 "nbformat": 4,
 "nbformat_minor": 5
}
