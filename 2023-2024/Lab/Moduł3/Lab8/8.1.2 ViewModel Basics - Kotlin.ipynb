{
 "cells": [
  {
   "cell_type": "markdown",
   "id": "ffbaa51d-d4a8-41d8-b5fd-18019c6d49b2",
   "metadata": {},
   "source": [
    "# ViewModel - Podstawy"
   ]
  },
  {
   "cell_type": "markdown",
   "id": "f24fb8e9-a9ce-4b18-b0b1-b0e254339f47",
   "metadata": {},
   "source": [
    "W tej aplikacji przyjrzymy się zastosowaniu `ViewModel` - części architektury **MVVM**."
   ]
  },
  {
   "cell_type": "markdown",
   "id": "cb430270-739d-407a-8d23-27d1d0283d77",
   "metadata": {},
   "source": [
    "<img src=\"https://media1.giphy.com/media/v1.Y2lkPTc5MGI3NjExc3R4N24yeXNjbGJqNzh3MmRiMmQ0MjVjcWc3eHBmcng1cDBjeDJ6cSZlcD12MV9pbnRlcm5hbF9naWZfYnlfaWQmY3Q9Zw/seMioQznXL1jUqAXfR/giphy.gif\" width=\"200\" />"
   ]
  },
  {
   "cell_type": "markdown",
   "id": "44bf262e-b4e6-47c0-9abd-94a97b43e02c",
   "metadata": {},
   "source": [
    "`ViewModel` to wzorzec projektowy stosowany w programowaniu, szczególnie w kontekście tworzenia aplikacji z interfejsem użytkownika. Celem `ViewModel` jest oddzielenie logiki biznesowej aplikacji od jej warstwy prezentacji.\n",
    "\n",
    "Logika biznesowa odnosi się do części aplikacji, która zajmuje się przetwarzaniem danych, ustalaniem reguł i wykonywaniem operacji związanych z konkretnym obszarem działalności aplikacji. Może to obejmować obliczenia, walidację danych, manipulację danymi, wykonywanie operacji na bazie danych itp. Logika biznesowa reprezentuje zasady i procesy, które są istotne dla funkcjonowania danej aplikacji.\n",
    "\n",
    "Warstwa prezentacji to część aplikacji, która odpowiada za interakcję z użytkownikiem i wyświetlanie danych na ekranie. Warstwa prezentacji obejmuje interfejsy użytkownika. Jej głównym celem jest prezentowanie danych i umożliwienie użytkownikowi interakcji z aplikacją.\n",
    "\n",
    "`ViewModel` przechowuje informacje i stan związane z widokiem, czyli tym, co użytkownik widzi na ekranie. Jeśli mamy aplikację z listą kontaktów, to `ViewModel` przechowuje kontakty i dostarcza je do interfejsu użytkownika w formie, w której mogą być wyświetlone. Udostępnia metody i właściwości, które pozwalają na manipulację danymi, na przykład dodawanie, usuwanie lub aktualizowanie kontaktów. Kiedy użytkownik wykonuje akcję, na przykład naciska przycisk, interakcja ta jest obsługiwana przez `ViewModel`, który następnie dokonuje odpowiednich zmian w danych i informuje interfejs użytkownika o konieczności zaktualizowania wyświetlanych informacji.\n",
    "\n",
    "`ViewModel` nie jest bezpośrednio zależny od interfejsu użytkownika. Dzięki temu można go łatwo przetestować i ponownie wykorzystać w innych częściach aplikacji. Jest to również korzystne w przypadku, gdy aplikacja ma różne interfejsy użytkownika, na przykład dla różnych platform."
   ]
  },
  {
   "cell_type": "markdown",
   "id": "2d64eefd-dbca-49ad-83dc-9eba1e114a72",
   "metadata": {},
   "source": [
    "W tej aplikacji będziemy wyświetlać i modyfikować listę słów.\n",
    "\n",
    "Aby wykorzystać `ViewModel` musimy dodać odpowiednią zależność\n",
    "\n",
    "```kotlin\n",
    "implementation 'androidx.lifecycle:lifecycle-viewmodel-ktx:2.6.1'\n",
    "```\n",
    "\n",
    "W pierwszym kroku dodajmy *dummy data* dla aplikacji - listę słów, którymi wypełnimy listę."
   ]
  },
  {
   "cell_type": "code",
   "execution_count": null,
   "id": "4684d469-3004-4bc6-ad6d-672c3af1e2ed",
   "metadata": {},
   "outputs": [],
   "source": [
    "object DataProvider {\n",
    "    val words: List<String> = listOf(\n",
    "        \"dom\",\n",
    "        \"ojciec\",\n",
    "        \"matka\",\n",
    "        \"piękno\",\n",
    "        \"ból\",\n",
    "        \"szkoła\",\n",
    "        \"miłość\",\n",
    "        \"praca\",\n",
    "        \"twarz\",\n",
    "        \"noc\",\n",
    "        \"dzień\",\n",
    "        \"stół\",\n",
    "        \"kawa\",\n",
    "        \"pies\",\n",
    "        \"kot\",\n",
    "        \"dziecko\",\n",
    "        \"prawo\",\n",
    "        \"cisza\",\n",
    "        \"piosenka\",\n",
    "        \"szczęście\",\n",
    "        \"słońce\",\n",
    "        \"długo\",\n",
    "        \"krótka\",\n",
    "        \"drzewo\",\n",
    "        \"kwiat\",\n",
    "        \"woda\",\n",
    "        \"noga\",\n",
    "        \"ręka\",\n",
    "        \"mężczyzna\",\n",
    "        \"kobieta\",\n",
    "        \"czas\",\n",
    "        \"malarz\",\n",
    "        \"muzyka\",\n",
    "        \"kolor\",\n",
    "        \"głowa\",\n",
    "        \"brzuch\",\n",
    "        \"długie\",\n",
    "        \"krótki\",\n",
    "        \"serce\",\n",
    "        \"oko\",\n",
    "        \"miska\",\n",
    "        \"lustro\",\n",
    "        \"słowo\",\n",
    "        \"most\",\n",
    "        \"szybko\",\n",
    "        \"sklep\",\n",
    "        \"kino\",\n",
    "        \"dziadek\",\n",
    "        \"babcia\",\n",
    "        \"lampa\"\n",
    "    )\n",
    "}"
   ]
  },
  {
   "cell_type": "markdown",
   "id": "7d1d042e-829c-41b1-8800-99339b520ba5",
   "metadata": {},
   "source": [
    "### Layout"
   ]
  },
  {
   "cell_type": "markdown",
   "id": "ac6b11f7-e621-420d-b7ca-c807fddef95a",
   "metadata": {},
   "source": [
    "Dodajmy layout aktywności głównej, aplikacja posiada jeden ekran, więc nie będziemy korzystać z nawigacji. Dodamy `ListFragment` bezpośrednio do aktywności."
   ]
  },
  {
   "cell_type": "code",
   "execution_count": null,
   "id": "ea66761a-94f3-498c-8c0d-caeba2b7a5fd",
   "metadata": {},
   "outputs": [],
   "source": [
    "<?xml version=\"1.0\" encoding=\"utf-8\"?>\n",
    "<androidx.constraintlayout.widget.ConstraintLayout xmlns:android=\"http://schemas.android.com/apk/res/android\"\n",
    "    xmlns:app=\"http://schemas.android.com/apk/res-auto\"\n",
    "    xmlns:tools=\"http://schemas.android.com/tools\"\n",
    "    android:layout_width=\"match_parent\"\n",
    "    android:layout_height=\"match_parent\"\n",
    "    tools:context=\".ui.MainActivity\">\n",
    "\n",
    "    <androidx.fragment.app.FragmentContainerView\n",
    "        android:id=\"@+id/fragment_main\"\n",
    "        android:name=\"com.example.viewmodelbasics_kotlin.ui.fragment.ListFragment\"\n",
    "        android:layout_width=\"match_parent\"\n",
    "        android:layout_height=\"match_parent\"\n",
    "        app:layout_constraintBottom_toBottomOf=\"parent\"\n",
    "        app:layout_constraintEnd_toEndOf=\"parent\"\n",
    "        app:layout_constraintStart_toStartOf=\"parent\"\n",
    "        app:layout_constraintTop_toTopOf=\"parent\" />\n",
    "</androidx.constraintlayout.widget.ConstraintLayout>"
   ]
  },
  {
   "cell_type": "markdown",
   "id": "7e205ead-1766-42f6-90b9-a6bdf447d41c",
   "metadata": {},
   "source": [
    "Nastęnie dodajmy layout fragmentu z trzema przyciskami, polem edytowalnym oraz `RecyclerView`"
   ]
  },
  {
   "cell_type": "code",
   "execution_count": null,
   "id": "f0c31094-b2ed-41d4-98cb-5a4f2d69e754",
   "metadata": {},
   "outputs": [],
   "source": [
    "<?xml version=\"1.0\" encoding=\"utf-8\"?>\n",
    "<LinearLayout xmlns:android=\"http://schemas.android.com/apk/res/android\"\n",
    "    android:layout_width=\"match_parent\"\n",
    "    android:layout_height=\"match_parent\"\n",
    "    android:orientation=\"vertical\">\n",
    "\n",
    "    <LinearLayout\n",
    "        android:layout_width=\"match_parent\"\n",
    "        android:layout_height=\"wrap_content\"\n",
    "        android:orientation=\"horizontal\">\n",
    "\n",
    "        <LinearLayout\n",
    "            android:layout_width=\"0dp\"\n",
    "            android:layout_weight=\"1\"\n",
    "            android:layout_height=\"wrap_content\"\n",
    "            android:layout_margin=\"4dp\"\n",
    "            android:orientation=\"horizontal\">\n",
    "\n",
    "            <com.google.android.material.textfield.TextInputLayout\n",
    "                android:layout_width=\"match_parent\"\n",
    "                android:layout_height=\"wrap_content\"\n",
    "                android:hint=\"Word\">\n",
    "\n",
    "                <com.google.android.material.textfield.TextInputEditText\n",
    "                    android:id=\"@+id/wordEditText\"\n",
    "                    android:layout_width=\"match_parent\"\n",
    "                    android:layout_height=\"wrap_content\"\n",
    "                    android:fontFamily=\"sans-serif\"\n",
    "                    android:textSize=\"15sp\" />\n",
    "            </com.google.android.material.textfield.TextInputLayout>\n",
    "        </LinearLayout>\n",
    "\n",
    "        <Button\n",
    "            android:id=\"@+id/addButton\"\n",
    "            android:layout_width=\"wrap_content\"\n",
    "            android:layout_gravity=\"center\"\n",
    "            android:text=\"ADD\"\n",
    "            android:layout_margin=\"4dp\"\n",
    "            android:layout_height=\"wrap_content\"/>\n",
    "    </LinearLayout>\n",
    "\n",
    "    <androidx.recyclerview.widget.RecyclerView\n",
    "        android:id=\"@+id/rvList\"\n",
    "        android:layout_width=\"match_parent\"\n",
    "        android:layout_height=\"0dp\"\n",
    "        android:layout_weight=\"1\"\n",
    "        android:layout_margin=\"4dp\"/>\n",
    "\n",
    "    <Button\n",
    "        android:id=\"@+id/clearButton\"\n",
    "        android:layout_width=\"match_parent\"\n",
    "        android:layout_gravity=\"center\"\n",
    "        android:layout_marginStart=\"8dp\"\n",
    "        android:layout_marginEnd=\"8dp\"\n",
    "        android:text=\"CLEAR\"\n",
    "        android:layout_height=\"wrap_content\"/>\n",
    "\n",
    "    <Button\n",
    "        android:id=\"@+id/resetButton\"\n",
    "        android:layout_width=\"match_parent\"\n",
    "        android:layout_gravity=\"center\"\n",
    "        android:layout_marginStart=\"8dp\"\n",
    "        android:layout_marginEnd=\"8dp\"\n",
    "        android:layout_marginBottom=\"8dp\"\n",
    "        android:text=\"RESET\"\n",
    "        android:layout_height=\"wrap_content\"/>\n",
    "\n",
    "</LinearLayout>"
   ]
  },
  {
   "cell_type": "markdown",
   "id": "a94b29d2-0ae1-46aa-9c87-dd847d54b1aa",
   "metadata": {},
   "source": [
    "Ostatnim elementem layoutu jest definicja pojedynczego elementu listy"
   ]
  },
  {
   "cell_type": "code",
   "execution_count": null,
   "id": "cb338a17-c471-4a76-8574-9e0af7ae3f47",
   "metadata": {},
   "outputs": [],
   "source": [
    "<?xml version=\"1.0\" encoding=\"utf-8\"?>\n",
    "<LinearLayout xmlns:android=\"http://schemas.android.com/apk/res/android\"\n",
    "    xmlns:app=\"http://schemas.android.com/apk/res-auto\"\n",
    "    android:layout_width=\"match_parent\"\n",
    "    android:layout_height=\"wrap_content\"\n",
    "    android:orientation=\"horizontal\">\n",
    "\n",
    "    <TextView\n",
    "        android:id=\"@+id/wordTextView\"\n",
    "        android:layout_width=\"0dp\"\n",
    "        android:layout_weight=\"1\"\n",
    "        android:layout_height=\"wrap_content\"\n",
    "        android:layout_margin=\"4dp\"\n",
    "        android:text=\"slowo\"\n",
    "        android:textAlignment=\"center\"\n",
    "        android:layout_marginStart=\"8dp\"\n",
    "        android:textSize=\"24sp\" />\n",
    "\n",
    "</LinearLayout>"
   ]
  },
  {
   "cell_type": "markdown",
   "id": "ab94089f-ba32-4d22-82b2-b61b98e79d39",
   "metadata": {},
   "source": [
    "### ViewModel"
   ]
  },
  {
   "cell_type": "markdown",
   "id": "b33d6dd5-f8a2-4e6d-9e77-7e143263a889",
   "metadata": {},
   "source": [
    "Dodajmy klasę `WordViewModel` do aplikacji."
   ]
  },
  {
   "cell_type": "markdown",
   "id": "00a183d1-54b9-45ea-b63e-9f067fe8957c",
   "metadata": {},
   "source": [
    "Klasa `WordViewModel` rozszerza klasę `ViewModel`, zapewnia ona obsługę **cyklu życia**, co oznacza, że może reagować na zdarzenia takie jak utworzenie, zmiana i zniszczenie komponentów interfejsu użytkownika. Na przykład, może zaktualizować dane po otrzymaniu nowych informacji lub zwolnić zasoby po zniszczeniu komponentu. Może automatycznie odświeżać dane po otrzymaniu nowych informacji lub zwalniać zasoby po zniszczeniu `Composable`.\n",
    "\n",
    "`ViewModel` reaguje na zmiany cyklu życia poprzez dostarczanie specjalnych metod, które są wywoływane w odpowiednich momentach cyklu życia komponentów interfejsu użytkownika. Przykładowo, metoda `onCleared()` jest wywoływana, gdy komponent interfejsu użytkownika, który korzysta z `ViewModelu`, jest niszczony. Może to mieć miejsce, gdy aktywność jest zamykana lub fragment jest usuwany. `ViewModel` może wykorzystać tę metodę do zwalniania zasobów, np. zamknięcia połączenia do bazy danych, anulowania żądań sieciowych itp. \n",
    "\n",
    "W przypadku, gdy `ViewModel` jest używany przez fragment, może zareagować na moment, gdy jest dołączany do fragmentu, za pomocą metody `onViewModelAttached()`. Może to być przydatne, gdy potrzebuje on dostępu do kontekstu fragmentu lub innych zasobów specyficznych dla tego fragmentu.\n",
    "\n",
    "Metody `onCleared()`, `onViewModelAttached()` (i inne) są wywoływane automatycznie przez system Android w odpowiednich momentach cyklu życia komponentów. Pozwalają one na reagowanie na te zmiany i podejmowanie odpowiednich działań, takich jak zwalnianie zasobów czy przygotowanie się do współpracy z innymi komponentami interfejsu użytkownika."
   ]
  },
  {
   "cell_type": "markdown",
   "id": "45dd2afc-7fd7-4c60-a314-3e87a4b22259",
   "metadata": {},
   "source": [
    "`ViewModel` jest zaprojektowany tak, aby zachować dane i stan między zmianami konfiguracji urządzenia, takimi jak zmiana rotacji ekranu.\n",
    "\n",
    "Podczas pierwszego tworzenia `ViewModel`, na przykład podczas uruchomienia aktywności, system Android tworzy nową instancję i związaną z nią aktywność.\n",
    "Jeśli następuje zmiana konfiguracji urządzenia, jak zmiana rotacji ekranu, Android przechodzi do tworzenia nowej instancji aktywności, ale istniejący `ViewModel` pozostaje niezmieniony i jest ponownie używany przez nowo utworzoną aktywność.\n",
    "\n",
    "`ViewModel` przechowuje dane i stan między zmianami konfiguracji urządzenia. Na przykład, jeśli `ViewModel` zawiera listę kontaktów, ta lista pozostaje nietknięta po zmianie rotacji.\n",
    "Dane są przechowywane w `ViewModel`, a nie w samej aktywności lub fragmencie, co pozwala na bezpieczne i spójne zarządzanie danymi bez utraty ich przy zmianie konfiguracji.\n",
    "\n",
    "`ViewModel` może dostarczać metody i właściwości, które umożliwiają aktywności lub fragmentom uzyskanie dostępu do przechowywanych danych. Po zmianie konfiguracji urządzenia, nowa instancja aktywności lub fragmentu może uzyskać dostęp do istniejącego `ViewModel` i wykorzystać go do aktualizacji interfejsu użytkownika na podstawie przechowywanych danych.\n",
    "\n",
    "Dzięki tym mechanizmom, umożliwia on zachowanie spójności danych i stanu nawet w przypadku zmian konfiguracji urządzenia, takich jak zmiana rotacji ekranu. Ułatwia to tworzenie odpornych na zmiany urządzenia aplikacji, które nie gubią danych ani nie wymagają dodatkowego kodu obsługującego zmiany konfiguracji."
   ]
  },
  {
   "cell_type": "code",
   "execution_count": null,
   "id": "e7c16d94-8c9d-4552-9409-c7a1989262ab",
   "metadata": {},
   "outputs": [],
   "source": [
    "class WordViewModel : ViewModel() {\n",
    "    private var _wordsList: MutableList<String> = mutableListOf()\n",
    "    val wordList: List<String>\n",
    "        get() = _wordsList\n",
    "\n",
    "    init {\n",
    "        reinitialize()\n",
    "    }\n",
    "\n",
    "    fun addWord(word: String){\n",
    "        _wordsList.add(word)\n",
    "        _wordsList.sort()\n",
    "    }\n",
    "\n",
    "    fun reinitialize(){\n",
    "        _wordsList.clear()\n",
    "        _wordsList.addAll(DataProvider.words)\n",
    "        _wordsList.sort()\n",
    "    }\n",
    "\n",
    "    fun clear(){\n",
    "        _wordsList.clear()\n",
    "    }\n",
    "}"
   ]
  },
  {
   "cell_type": "markdown",
   "id": "8f3000be-e20d-4827-bda2-e749c3aa1335",
   "metadata": {},
   "source": [
    "- `private var _wordsList = mutableListOf<String>()` Tworzy prywatne pole `_wordsList`, które przechowuje listę słów. `mutableStateListOf` - jest to tzw. **właściwość wspierająca**.\n",
    "- `val wordList: List<String> get() = _wordsList` Definiuje publiczne pole `wordList`, które jest **tylko do odczytu**. Udostępnia ono dostęp do `_wordsList`, ale nie pozwala na jego modyfikację. Pozwala to innym komponentom na odczytanie zawartości listy słów.\n",
    "- `init { reinitialize() }` Inicjalizuje `WordViewModel` poprzez wywołanie funkcji `reinitialize()`. Ta funkcja wypełnia początkową listę słów na podstawie dostarczonych danych.\n",
    "- `fun addWord(word: String)` Ta funkcja dodaje podane słowo do listy `_wordsList` i sortuje listę alfabetycznie.\n",
    "- `fun reinitialize()`  służy do ponownego inicjalizowania listy słów. Funkcja najpierw czyści listę `_wordsList`, a następnie dodaje nowe słowa na podstawie dostarczonych danych. Na koniec sortuje listę alfabetycznie.\n",
    "- `fun clear()` czyści listę `_wordsList`.\n",
    "\n",
    "Zastosowanie oddzielnej właściwości `wordList` jako **tylko do odczytu** `List<String>` umożliwia dostęp z zewnątrz do `_wordsList`, ale **nie pozwala** na jego bezpośrednią modyfikację. Zamiast tego, zewnętrzne komponenty mogą odczytywać zawartość `wordList` i korzystać z niej, co zapewnia bezpieczny dostęp do danych przechowywanych w `_wordsList`. To podejście zapewnia kontrolę nad modyfikacją listy `_wordsList` i jednocześnie pozwala na jej wykorzystanie i odczyt z innych komponentów w aplikacji."
   ]
  },
  {
   "cell_type": "markdown",
   "id": "f2f3dce1-2c6b-4225-9e22-fd7b823699a9",
   "metadata": {},
   "source": [
    "### ListFragment"
   ]
  },
  {
   "cell_type": "markdown",
   "id": "21e3cd7c-a8db-4256-933a-a8edbb38b6dd",
   "metadata": {},
   "source": [
    "Obsłużmy wpierw `RecyclerView`, tutaj skorzystamy z `DiffUtil` oraz `ListAdapter`."
   ]
  },
  {
   "cell_type": "markdown",
   "id": "4822dffb-f1ab-4e80-a45b-f7c82dbac3ab",
   "metadata": {},
   "source": [
    "Rozpocznnijmy od dodania `ViewHolder` dla naszej listy."
   ]
  },
  {
   "cell_type": "code",
   "execution_count": null,
   "id": "7fa0087f-7281-4170-843f-6081c6dd4dff",
   "metadata": {},
   "outputs": [],
   "source": [
    "class WordViewHolder(private val binding: RvItemBinding) : RecyclerView.ViewHolder(binding.root) {\n",
    "    fun bind(item: String) {\n",
    "        binding.wordTextView.text = item\n",
    "    }\n",
    "}"
   ]
  },
  {
   "cell_type": "markdown",
   "id": "84557599-f56c-43e7-a2bd-bbf2006b8717",
   "metadata": {},
   "source": [
    "Następnie dodajmy komparator."
   ]
  },
  {
   "cell_type": "code",
   "execution_count": null,
   "id": "6f82ba00-5bbc-459f-9d2d-d56e68e5a8bd",
   "metadata": {},
   "outputs": [],
   "source": [
    "class WordComparator : DiffUtil.ItemCallback<String>() {\n",
    "    override fun areItemsTheSame(oldItem: String, newItem: String): Boolean {\n",
    "        return oldItem === newItem\n",
    "    }\n",
    "\n",
    "    override fun areContentsTheSame(oldItem: String, newItem: String): Boolean {\n",
    "        return oldItem == newItem\n",
    "    }\n",
    "}"
   ]
  },
  {
   "cell_type": "markdown",
   "id": "dcf48d5b-fe1d-43c4-ab04-12a18ec17c75",
   "metadata": {},
   "source": [
    "Klasa `WordComparator` jest implementacją `DiffUtil.ItemCallback<String>()`, która jest używana w celu porównywania elementów listy w celu wykrywania zmian i efektywnego odświeżania widoku.\n",
    "\n",
    "`DiffUtil` to narzędzie, które pomaga w obliczaniu różnic między dwoma listami i znajdowaniu minimalnego zestawu operacji, które należy wykonać, aby przekształcić jedną listę w drugą. Jest wykorzystywane z listami, które są dynamicznie aktualizowane, np. w przypadku dodawania, usuwania lub modyfikowania elementów.\n",
    "\n",
    "Klasa musi zaimplementować dwie metody:\n",
    "- `areItemsTheSame(oldItem: String, newItem: String)` Metoda ta sprawdza, czy dwa obiekty String wskazują na to samo miejsce w pamięci. Jest to używane do porównywania identyfikatorów elementów. Jeśli zwróci wartość `true`, oznacza to, że elementy są takie same i nie zostały przeniesione ani zmienione w liście.\n",
    "- `areContentsTheSame(oldItem: String, newItem: String)` Metoda ta sprawdza, czy zawartość dwóch elementów jest identyczna. Jeśli zwróci wartość `true`, oznacza to, że zawartość elementów jest taka sama, nawet jeśli są to różne obiekty w pamięci.\n",
    "\n",
    "Na podstawie tych metod `DiffUtil` będzie wiedział, które elementy wymagają aktualizacji w widoku."
   ]
  },
  {
   "cell_type": "markdown",
   "id": "156d1f78-f567-49d5-90f2-9774e7cae3ae",
   "metadata": {},
   "source": [
    "Ostatnim elementem jest adapter."
   ]
  },
  {
   "cell_type": "code",
   "execution_count": null,
   "id": "550ce6c7-2f01-47cd-b26c-337942150981",
   "metadata": {},
   "outputs": [],
   "source": [
    "class WordAdapter(wordComparator: WordComparator) : ListAdapter<String, WordViewHolder>(wordComparator) {\n",
    "    override fun onCreateViewHolder(parent: ViewGroup, viewType: Int): WordViewHolder {\n",
    "        return WordViewHolder(\n",
    "            RvItemBinding.inflate(\n",
    "                LayoutInflater.from(parent.context), parent, false\n",
    "            )\n",
    "        )\n",
    "    }\n",
    "\n",
    "    override fun onBindViewHolder(holder: WordViewHolder, position: Int) {\n",
    "        val item = getItem(position)\n",
    "        holder.bind(item)\n",
    "    }\n",
    "}"
   ]
  },
  {
   "cell_type": "markdown",
   "id": "b87c28b5-0939-4e7f-ba38-9566e799b29c",
   "metadata": {},
   "source": [
    "Klasa `WordAdapter` dziedziczy po `ListAdapter<String, WordViewHolder>` i przyjmuje jako parametr konstruktora obiekt klasy `WordComparator`. `ListAdapter` to klasa, która ułatwia implementację adaptera dla `RecyclerView` i obsługę różnic między listami."
   ]
  },
  {
   "cell_type": "markdown",
   "id": "f7b8e379-ecca-41f4-9688-29b7e899233e",
   "metadata": {},
   "source": [
    "Przejdźmy do klasy `ListFragment` i dodajmy dwie wartości."
   ]
  },
  {
   "cell_type": "code",
   "execution_count": null,
   "id": "6343696b-fac3-46b0-93c0-ea2ec469e6df",
   "metadata": {},
   "outputs": [],
   "source": [
    "private val viewModel: WordViewModel by viewModels()"
   ]
  },
  {
   "cell_type": "markdown",
   "id": "65582e0d-1d58-47d4-bacf-e73e1b3f65ea",
   "metadata": {},
   "source": [
    "`viewModel by viewModels()` używa biblioteki `androidx.lifecycle.viewmodel`. `viewModels()` jest funkcją rozszerzającą dostarczaną przez tę bibliotekę, która umożliwia tworzenie instancji `ViewModel` skojarzonej z aktywnością lub fragmentem.\n",
    "\n",
    "Za pomocą by `viewModels()` tworzony jest obiekt `WordViewModel`, który jest skojarzony z komponentem (np. aktywnością lub fragmentem)."
   ]
  },
  {
   "cell_type": "code",
   "execution_count": null,
   "id": "4f2ee0b5-9f0c-4750-adee-840ba44429ab",
   "metadata": {},
   "outputs": [],
   "source": [
    "private val wordAdapter by lazy { WordAdapter(WordComparator())}"
   ]
  },
  {
   "cell_type": "markdown",
   "id": "f9a26d8a-5208-4986-bc08-718936e63395",
   "metadata": {},
   "source": [
    "Ta właściwość jest zadeklarowana jako leniwa (`lazy`), co oznacza, że zostanie zainicjalizowana dopiero w momencie pierwszego użycia."
   ]
  },
  {
   "cell_type": "markdown",
   "id": "240c752d-34f8-4649-8b76-d1fa4c0b6e6c",
   "metadata": {},
   "source": [
    "Dodajmy trzy metody do obsługi kliknięć przycisków."
   ]
  },
  {
   "cell_type": "code",
   "execution_count": null,
   "id": "a955fbed-9433-4743-9c97-12621c7d5d53",
   "metadata": {},
   "outputs": [],
   "source": [
    "private fun onAddWord() {\n",
    "    val word = binding.wordEditText.text.toString()\n",
    "    viewModel.addWord(word)\n",
    "    wordAdapter.notifyDataSetChanged()\n",
    "}\n",
    "\n",
    "private fun onResetWords(){\n",
    "    viewModel.reinitialize()\n",
    "    wordAdapter.notifyDataSetChanged()\n",
    "}\n",
    "\n",
    "private fun onClearWords(){\n",
    "    viewModel.clear()\n",
    "    wordAdapter.notifyDataSetChanged()\n",
    "}"
   ]
  },
  {
   "cell_type": "markdown",
   "id": "f2507e36-0320-4931-bc79-b42cf403b907",
   "metadata": {},
   "source": [
    "Po wywołaniu `notifyDataSetChanged()`, `RecyclerView` zostanie poinformowany, że dane w adapterze zostały zmienione. W rezultacie, zostanie odświeży widok."
   ]
  },
  {
   "cell_type": "markdown",
   "id": "5ac945f7-c2a3-4ff0-8def-359589d0d15c",
   "metadata": {},
   "source": [
    "Przejdźmy do metody `onCreateView`"
   ]
  },
  {
   "cell_type": "code",
   "execution_count": null,
   "id": "d61777e8-b4e2-4df5-bc5b-26d2cfc3e7b8",
   "metadata": {},
   "outputs": [],
   "source": [
    "override fun onCreateView(\n",
    "    inflater: LayoutInflater, container: ViewGroup?,\n",
    "    savedInstanceState: Bundle?\n",
    "): View {\n",
    "    binding = FragmentListBinding.inflate(inflater)\n",
    "\n",
    "    wordAdapter.submitList(viewModel.wordList)\n",
    "\n",
    "    binding.rvList.apply{\n",
    "        adapter = wordAdapter\n",
    "        layoutManager = LinearLayoutManager(requireContext())\n",
    "    }\n",
    "\n",
    "    binding.addButton.setOnClickListener { onAddWord() }\n",
    "    binding.resetButton.setOnClickListener { onResetWords() }\n",
    "    binding.clearButton.setOnClickListener { onClearWords() }\n",
    "\n",
    "    return binding.root\n",
    "}"
   ]
  },
  {
   "cell_type": "markdown",
   "id": "bb7457a7-0579-4afc-b370-4f228ce2ab12",
   "metadata": {},
   "source": [
    "Metoda `submitList()` służy do przekazania nowej listy danych do adaptera i zaktualizowania widoku `RecyclerView` na podstawie tej listy. Przekazywana lista danych jest kopiowana i porównywana z poprzednią listą danych, aby obliczyć różnice i zastosować tylko niezbędne zmiany w widoku."
   ]
  },
  {
   "cell_type": "markdown",
   "id": "2c6d3807-8740-4a26-aa25-a1cba232318f",
   "metadata": {},
   "source": [
    "Możemy przetestować apliakcję."
   ]
  },
  {
   "cell_type": "markdown",
   "id": "f0c000e6-6ba8-4756-9dc7-4f265009651e",
   "metadata": {},
   "source": [
    "<img src=\"https://media1.giphy.com/media/v1.Y2lkPTc5MGI3NjExc3R4N24yeXNjbGJqNzh3MmRiMmQ0MjVjcWc3eHBmcng1cDBjeDJ6cSZlcD12MV9pbnRlcm5hbF9naWZfYnlfaWQmY3Q9Zw/seMioQznXL1jUqAXfR/giphy.gif\" width=\"200\" />"
   ]
  },
  {
   "cell_type": "code",
   "execution_count": null,
   "id": "52f6333b-39a2-4315-9cc5-39feb04ad258",
   "metadata": {},
   "outputs": [],
   "source": []
  }
 ],
 "metadata": {
  "kernelspec": {
   "display_name": "Kotlin",
   "language": "kotlin",
   "name": "kotlin"
  },
  "language_info": {
   "codemirror_mode": "text/x-kotlin",
   "file_extension": ".kt",
   "mimetype": "text/x-kotlin",
   "name": "kotlin",
   "nbconvert_exporter": "",
   "pygments_lexer": "kotlin",
   "version": "1.8.0-RC"
  }
 },
 "nbformat": 4,
 "nbformat_minor": 5
}
