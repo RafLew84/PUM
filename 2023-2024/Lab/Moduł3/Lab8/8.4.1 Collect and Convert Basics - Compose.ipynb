{
 "cells": [
  {
   "cell_type": "markdown",
   "id": "0677767b-49dc-4d7c-a6f7-a0f6852a7fc7",
   "metadata": {},
   "source": [
    "# Jetpack Compose - Konwersja - Podstawy"
   ]
  },
  {
   "cell_type": "markdown",
   "id": "eca11322-931e-4350-9389-56a6210217fd",
   "metadata": {},
   "source": [
    "W tej aplikacji przyjrzymy się konwertowaniu `Flow` do `StateFlow` i `SharedFlow`."
   ]
  },
  {
   "cell_type": "markdown",
   "id": "2d7f16ec-490b-4ee2-95f2-7ade7b603f32",
   "metadata": {},
   "source": [
    "<img src=\"https://media1.giphy.com/media/v1.Y2lkPTc5MGI3NjExdDZ1N3hvOXM2NXo1cTd3NDM2enlqOWlzOTNsYjJ1M2Uycm52NzlicCZlcD12MV9pbnRlcm5hbF9naWZfYnlfaWQmY3Q9Zw/oVRpNx8YgOGJmka80w/giphy.gif\" width=\"200\" />"
   ]
  },
  {
   "cell_type": "markdown",
   "id": "154b03b0-e2d8-4dd8-8fc8-35d05718f49f",
   "metadata": {},
   "source": [
    "Możemy spotkać się z sytuacją w której chcemy przekonwertować `Flow` na `StateFlow`, lub `SharedFlow` aby zapewnić odpowednie zachowanie na cyklach życia. Możemy to zrobić za pomcą metod `stateIn` i `sharedIn`"
   ]
  },
  {
   "cell_type": "markdown",
   "id": "339c13ca-f348-4247-8977-2d37e1d279be",
   "metadata": {},
   "source": [
    "Nasza aplikacja będzie prostym licznikiem, w którym po upłynięciu określonego czasu zmienimy wartość i zwiększymy stan licznika. Aplikacja będzie posiadała dwa ekrany. Chcemy zapewnić że po przejściu na drugi ekran, emisja zostanie wstrzymana, po powrocie wznowiona - jest to najczęściej pożądane zachowanie."
   ]
  },
  {
   "cell_type": "markdown",
   "id": "a3eec7a0-2037-49f5-8361-10ac8231d8c1",
   "metadata": {},
   "source": [
    "Rozpocznijmy od zaimplementowania `CounterViewModel`"
   ]
  },
  {
   "cell_type": "code",
   "execution_count": null,
   "id": "0ff1979e-1ba0-4776-8704-4e59d2c11ad6",
   "metadata": {},
   "outputs": [],
   "source": [
    "class CounterViewModel : ViewModel() {\n",
    "    private var currentVal = 0\n",
    "\n",
    "    val counter = flow {\n",
    "        while (true){\n",
    "            delay(500L)\n",
    "            emit(currentVal++)\n",
    "        }\n",
    "    }.stateIn(\n",
    "        viewModelScope,\n",
    "        SharingStarted.WhileSubscribed(),\n",
    "        0\n",
    "    )\n",
    "}"
   ]
  },
  {
   "cell_type": "markdown",
   "id": "ea0577c0-0f60-49a4-8b61-6a0de9aa4ef9",
   "metadata": {},
   "source": [
    "Używamy `Flow` do emitowania kolejnych wartości licznika. Strumień jest następnie przekształcony za pomocą `stateIn` w `StateFlow`, który jest dostępny dla subskrybentów.\n",
    "- `private var currentVal = 0` - Prywatna zmienna, która przechowuje aktualną wartość licznika.\n",
    "- `val counter = flow { ... }` - Deklaruje counter, który jest strumieniem `Flow`. Wewnątrz bloku `flow { ... }` emitowane są wartości.\n",
    "- `emit(currentVal++)` - Emitowanie wartości do strumienia `Flow`.\n",
    "- `.stateIn(viewModelScope, SharingStarted.WhileSubscribed(), 0)` - Przekształcenie strumienia `Flow` w `StateFlow`, który jest dostępny dla subskrybentów. Funkcja `stateIn` konwertuje strumień `Flow` na `StateFlow` z określonym zachowaniem.\n",
    "    - `viewModelScope` - Określa zasięg, w którym `StateFlow` jest aktywny - dopóki `ViewModel` jest aktywny.\n",
    "    - `SharingStarted.WhileSubscribed()` - Określa, kiedy wartość `StateFlow` jest udostępniana. W tym przypadku, jest udostępniany tylko wtedy, gdy jest subskrybowany przez obserwatora."
   ]
  },
  {
   "cell_type": "markdown",
   "id": "e84e36b1-8136-4f73-a69e-7c069ae90d48",
   "metadata": {},
   "source": [
    "Zaimplementujmy ui, oraz dodajmy go jako subskrybenta"
   ]
  },
  {
   "cell_type": "code",
   "execution_count": null,
   "id": "0ca968b1-19ec-4f28-9eaa-05b925620b89",
   "metadata": {},
   "outputs": [],
   "source": [
    "sealed class Screens(val route: String) {\n",
    "    object MainScreen : Screens(\"main_screen\")\n",
    "    object SecondScreen : Screens(\"second_screen\")\n",
    "}"
   ]
  },
  {
   "cell_type": "code",
   "execution_count": null,
   "id": "e5317f85-dc50-4ebe-bef8-5490a0e9ebf6",
   "metadata": {},
   "outputs": [],
   "source": [
    "@Composable\n",
    "fun MainScreen(onSecondScreen: () -> Unit) {\n",
    "\n",
    "    val viewModel: CounterViewModel = viewModel()\n",
    "    val counter = viewModel.counter.collectAsStateWithLifecycle()\n",
    "\n",
    "    Column(\n",
    "        Modifier.fillMaxSize(),\n",
    "        horizontalAlignment = Alignment.CenterHorizontally,\n",
    "        verticalArrangement = Arrangement.Center\n",
    "    ) {\n",
    "        Text(counter.value.toString(), fontSize = 36.sp)\n",
    "        Spacer(modifier = Modifier.height(8.dp))\n",
    "        Button(onClick = onSecondScreen) {\n",
    "            Text(\"Go to Second Screen\")\n",
    "        }\n",
    "    }\n",
    "}"
   ]
  },
  {
   "cell_type": "code",
   "execution_count": null,
   "id": "89d69e77-28c1-4767-9211-0c4b7c94ca9e",
   "metadata": {},
   "outputs": [],
   "source": [
    "@Composable\n",
    "fun SecondScreen() {\n",
    "    Column(\n",
    "        Modifier.fillMaxSize(),\n",
    "        horizontalAlignment = Alignment.CenterHorizontally,\n",
    "        verticalArrangement = Arrangement.Center\n",
    "    ) {\n",
    "        Text(\"Second Screen.\")\n",
    "    }\n",
    "}"
   ]
  },
  {
   "cell_type": "code",
   "execution_count": null,
   "id": "41475238-0709-4800-933c-8d1f8799c2cc",
   "metadata": {},
   "outputs": [],
   "source": [
    "@Composable\n",
    "fun Navigation() {\n",
    "    val navController = rememberNavController()\n",
    "    NavHost(navController = navController, startDestination = Screens.MainScreen.route) {\n",
    "        composable(route = Screens.MainScreen.route){\n",
    "            MainScreen{navController.navigate(Screens.SecondScreen.route)}\n",
    "        }\n",
    "\n",
    "        composable(route = Screens.SecondScreen.route){\n",
    "            SecondScreen()\n",
    "        }\n",
    "    }\n",
    "}"
   ]
  },
  {
   "cell_type": "code",
   "execution_count": null,
   "id": "0d1e90db-4df9-420d-96eb-43658c1439c3",
   "metadata": {},
   "outputs": [],
   "source": [
    "class MainActivity : ComponentActivity() {\n",
    "    override fun onCreate(savedInstanceState: Bundle?) {\n",
    "        super.onCreate(savedInstanceState)\n",
    "        setContent {\n",
    "            CollectAndConvertBasicsComposeTheme {\n",
    "                Surface(\n",
    "                    modifier = Modifier.fillMaxSize(),\n",
    "                    color = MaterialTheme.colorScheme.background\n",
    "                ) {\n",
    "                    Navigation()\n",
    "                }\n",
    "            }\n",
    "        }\n",
    "    }\n",
    "}"
   ]
  },
  {
   "cell_type": "markdown",
   "id": "ddb3f67c-88d2-42d1-85a8-0439bf896a0b",
   "metadata": {},
   "source": [
    "W powyższym kodzie nie ma żadnych nowych elementów.\n",
    "\n",
    "W rezultacie dostaniemy licznik, którego wartość jest automatycznie inkrementowana. Zwiększanie licznika jest wstrzymane w momencie przejścia na inny ekran (lub w wyniku minimalizacji aplikacji)."
   ]
  },
  {
   "cell_type": "markdown",
   "id": "b34924c5-c8a9-4d1a-bc7c-a75631b88e37",
   "metadata": {},
   "source": [
    "Możemy przetestować aplikację"
   ]
  },
  {
   "cell_type": "markdown",
   "id": "6172670d-6ff0-4cd8-9d53-2ce453f8c969",
   "metadata": {},
   "source": [
    "<img src=\"https://media1.giphy.com/media/v1.Y2lkPTc5MGI3NjExdDZ1N3hvOXM2NXo1cTd3NDM2enlqOWlzOTNsYjJ1M2Uycm52NzlicCZlcD12MV9pbnRlcm5hbF9naWZfYnlfaWQmY3Q9Zw/oVRpNx8YgOGJmka80w/giphy.gif\" width=\"200\" />"
   ]
  }
 ],
 "metadata": {
  "kernelspec": {
   "display_name": "Kotlin",
   "language": "kotlin",
   "name": "kotlin"
  },
  "language_info": {
   "codemirror_mode": "text/x-kotlin",
   "file_extension": ".kt",
   "mimetype": "text/x-kotlin",
   "name": "kotlin",
   "nbconvert_exporter": "",
   "pygments_lexer": "kotlin",
   "version": "1.6.20-dev-6372"
  }
 },
 "nbformat": 4,
 "nbformat_minor": 5
}
