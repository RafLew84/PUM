{
 "cells": [
  {
   "cell_type": "markdown",
   "id": "849f8d1b-30bf-44aa-983d-561f1b61c7ad",
   "metadata": {},
   "source": [
    "# LiveData - Podstawy"
   ]
  },
  {
   "cell_type": "markdown",
   "id": "7da88912-b388-4b00-9132-ac5fdebd7aae",
   "metadata": {},
   "source": [
    "W tej aplikacji przyjrzymy się zastosowaniu `LiveData` - części architektury **MVVM**.\n",
    "\n",
    "#### **UWAGA**\n",
    "W aplikacjach opartych na języku **Kotlin** częściej wykorzystuje się `Flow`, `StateFlow`, lub `SharedFlow` (które poznamy na kolejnych zajęciach). Również można tworzyć aplikacje oparte na `LiveData` lecz jest to rzadziej spotykane."
   ]
  },
  {
   "cell_type": "markdown",
   "id": "3b90ac09-dc07-4044-89f9-cb60446ca7b8",
   "metadata": {},
   "source": [
    "<img src=\"https://media2.giphy.com/media/v1.Y2lkPTc5MGI3NjExMDExYnllNDZwZW40NjAxbzl4ZTNlZXN0dHZ1aXE5MjFha2g2ZXV1ayZlcD12MV9pbnRlcm5hbF9naWZfYnlfaWQmY3Q9Zw/xYi3Uxdr0LCyxmoDJO/giphy.gif\" width=\"200\" />"
   ]
  },
  {
   "cell_type": "markdown",
   "id": "e9478ee6-a96a-4bc1-8a12-c386356b7ae7",
   "metadata": {},
   "source": [
    "`LiveData` jest częścią bibliotek Androida i jest obiektem, który przechowuje dane **obserwowane** przez komponenty aplikacji, takie jak aktywności, fragmenty czy `ViewModel`. Jest zaprojektowany tak, aby dostarczać reaktywne i cykliczne powiadomienia o zmianach danych.\n",
    "\n",
    "**Reaktywność** to podejście w programowaniu, które koncentruje się na tym, aby system reagował na zmiany i propagował te zmiany w sposób automatyczny. W kontekście aplikacji, reaktywność odnosi się do zdolności systemu do dynamicznego reagowania na zmiany danych i propagowania tych zmian do odpowiednich komponentów. \n",
    "\n",
    "Opiera się na obsłudze zdarzeń, które są generowane w systemie w wyniku **zmian w danych**. Zdarzenia te mogą być przekształcane i łączone za pomocą różnych operacji, tworząc **strumienie danych**. Strumienie są sekwencją wartości, które mogą być emitowane i subskrybowane (obserwowane) przez komponenty. Automatycznie propaguje zmiany w danych do komponentów, które subskrybują te dane. Oznacza to, że komponenty **nie muszą** ręcznie monitorować i aktualizować danych, ponieważ system sam zarządza tym procesem."
   ]
  },
  {
   "cell_type": "markdown",
   "id": "2accd771-ba3a-466a-af88-b9d7007eb43d",
   "metadata": {},
   "source": [
    "- Obserwowanie zmian - Komponenty mogą subskrybować (obserwować) `LiveData`, aby otrzymywać powiadomienia o zmianach danych. Kiedy wartość zostanie zaktualizowana, subskrybenci (obserwatorzy) otrzymają aktualizację i będą mogli zareagować na nową wartość.\n",
    "- Bezpieczeństwo wątków - `LiveData` automatycznie zarządza wątkami, zapewnia, otrzymanie powiadomień na wątku `UI` (**głównym wątku**). Jeśli wartość `LiveData` zostanie zmieniona w wątku innym niż wątek główny, powiadomienia zostaną dostarczone do obserwatorów w wątku głównym, co ułatwia aktualizację interfejsu użytkownika.\n",
    "- Unikanie wycieków pamięci: `LiveData` jest **świadome cyklu życia komponentów** i automatycznie **zatrzymuje obserwację**, gdy komponenty, które go subskrybują, są w **stanie nieaktywnym**, takim jak aktywność w stanie pauzy lub fragment w stanie `detach`. Dzięki temu unika się wycieków pamięci, które mogą wystąpić, gdy komponenty trzymają referencje do innych komponentów poza ich cyklem życia."
   ]
  },
  {
   "cell_type": "markdown",
   "id": "dcf15fe4-3531-4591-8d3f-9de5da0dedc4",
   "metadata": {},
   "source": [
    "`LiveData` jest użyteczne w przypadku komunikacji między **warstwami aplikacji**, takimi jak `ViewModel` i interfejs użytkownika, ponieważ umożliwia bezpośrednie powiązanie danych z widokami (elementami ui), eliminując potrzebę ręcznej synchronizacji danych."
   ]
  },
  {
   "cell_type": "markdown",
   "id": "3e4bab1a-d85c-46fd-a397-50d01e4f2e79",
   "metadata": {},
   "source": [
    "`LiveData` jest bardziej odpowiednie do **tradycyjnych** (gdzie ui tworzony jest w oparciu o `View` z `Fragment`) aplikacji Android. `State` natomiast jest dedykowane dla aplikacji opartych na **Jetpack Compose**, które używają **deklaratywnego podejścia** do budowania `UI`. Oba mechanizmy dostarczają reaktywności i automatycznego odświeżania widoku w odpowiedzi na zmiany danych."
   ]
  },
  {
   "cell_type": "markdown",
   "id": "3d64a2e7-3424-4275-b492-2ebc46345f4b",
   "metadata": {},
   "source": [
    "Utworzymy prosty licznik, w którym wartość licznika będzie obserwowana. komponent odpowiedzialny za renderowanie ekranu będzie reagował automatycznie na zmiany tej wartości."
   ]
  },
  {
   "cell_type": "markdown",
   "id": "fa5f042e-608b-4489-9063-9591e8e5d480",
   "metadata": {},
   "source": [
    "Aby skorzystać z `LiveData` i `ViewModel` musimy dodać odpowiednie zależności."
   ]
  },
  {
   "cell_type": "code",
   "execution_count": null,
   "id": "9235b58a-8fd3-486d-8f36-f174fb7048d5",
   "metadata": {
    "tags": []
   },
   "outputs": [],
   "source": [
    "implementation 'androidx.lifecycle:lifecycle-viewmodel-ktx:2.6.1'"
   ]
  },
  {
   "cell_type": "markdown",
   "id": "c0330fc5-8ef8-4d95-86f3-199aae667996",
   "metadata": {},
   "source": [
    "Rozpocznijmy od utworzenia `ViewModel`"
   ]
  },
  {
   "cell_type": "markdown",
   "id": "0a4277ce-e979-4393-8df9-485ea35c3236",
   "metadata": {},
   "source": [
    "### ViewModel"
   ]
  },
  {
   "cell_type": "code",
   "execution_count": null,
   "id": "e043d648-9e0b-4dcf-9352-8d3483846c18",
   "metadata": {},
   "outputs": [],
   "source": [
    "class CounterViewModel : ViewModel() {\n",
    "    private var _counter = MutableLiveData(0)\n",
    "    val counter: LiveData<Int>\n",
    "        get() = _counter\n",
    "\n",
    "    fun increase(){\n",
    "        _counter.value = _counter.value?.inc()\n",
    "    }\n",
    "\n",
    "    fun decrease(){\n",
    "        _counter.value = _counter.value?.dec()\n",
    "    }\n",
    "\n",
    "    fun clear(){ _counter.value = 0 }\n",
    "}"
   ]
  },
  {
   "cell_type": "markdown",
   "id": "fa04f484-84e6-4131-b896-d3cfaebe66e9",
   "metadata": {},
   "source": [
    "- `private var _counter = MutableLiveData(0)` - `MutableLiveData` jest klasą służącą do przechowywania i zarządzania danymi reaktywnymi. pole przechowuje aktualną wartość licznika i jest zainicjalizowane wartością 0. Jest to prywatna wartość wspierająca - mamy do niej dostęp tylko z poziomu `CounterViewModel`. Jeżeli chcemy zmienić wartość z poziomu `CounterFragment`, wywołujemy odpowiednią metodę dostępową, która odpowiednio modyfikuje to pole.\n",
    "- `val counter: LiveData<Int> get() = _counter` Pole dostarcza dostęp do pola `_counter` tylko do odczytu, umożliwiając obserwowanie jego wartości bez możliwości zmiany. Jest to pole publiczne, które jest częścią interfejsu `CounterViewModel`\n",
    "- `fun increase()` Metoda dostępowa zwiększająca stan licznika.\n",
    "- `fun decrease()` Metoda dostępowa zmniejszająca stan licznika.\n",
    "- `fun clear()` Metoda dostępowa rresetująca stan licznika.\n",
    "\n",
    "Klasa `CounterViewModel` dostarcza interfejs do zarządzania stanem licznika poprzez metody `increase()`, `decrease()` i `clear()`. Pola `_counter` i `counter` umożliwiają obserwowanie wartości licznika i reagowanie na jego zmiany w innych komponentach są subskrybentami (blokują możliwość bezpośredniej zmiany licznika - do tego służą metody dostępowe)."
   ]
  },
  {
   "cell_type": "markdown",
   "id": "0e7544ba-9919-4136-820f-0f273b0f49fb",
   "metadata": {},
   "source": [
    "### CounterFragment"
   ]
  },
  {
   "cell_type": "markdown",
   "id": "88968f0d-0327-4483-9cc2-9cc7f1cb7b96",
   "metadata": {},
   "source": [
    "Rozpocznijmy od zdefiniowania layoutów dla aktywności głównej oraz fragmentu. Podobnie jak we wcześniejszej aplikacji, wykorzystujemy jeden fragment, więc nie korzystamy z nawigacji."
   ]
  },
  {
   "cell_type": "code",
   "execution_count": null,
   "id": "39edb8ea-89bc-4c1e-a3f3-144d1fe8b92b",
   "metadata": {},
   "outputs": [],
   "source": [
    "// fragment_counter.xml\n",
    "<?xml version=\"1.0\" encoding=\"utf-8\"?>\n",
    "<LinearLayout xmlns:android=\"http://schemas.android.com/apk/res/android\"\n",
    "    xmlns:tools=\"http://schemas.android.com/tools\"\n",
    "    android:layout_width=\"match_parent\"\n",
    "    android:layout_height=\"match_parent\"\n",
    "    android:orientation=\"vertical\">\n",
    "\n",
    "    <TextView\n",
    "        android:id=\"@+id/show_count\"\n",
    "        android:layout_width=\"match_parent\"\n",
    "        android:layout_height=\"0dp\"\n",
    "        android:layout_weight=\"1\"\n",
    "        android:gravity=\"center\"\n",
    "        android:text=\"0\"\n",
    "        android:textSize=\"250sp\"\n",
    "        android:textStyle=\"bold\" />\n",
    "\n",
    "    <LinearLayout\n",
    "        android:layout_width=\"match_parent\"\n",
    "        android:layout_height=\"wrap_content\"\n",
    "        android:orientation=\"horizontal\">\n",
    "\n",
    "        <Button\n",
    "            android:id=\"@+id/increaseButton\"\n",
    "            android:layout_width=\"0dp\"\n",
    "            android:layout_height=\"wrap_content\"\n",
    "            android:layout_margin=\"4dp\"\n",
    "            android:layout_weight=\".5\"\n",
    "            android:text=\"Increase\" />\n",
    "\n",
    "        <Button\n",
    "            android:id=\"@+id/decreaseButton\"\n",
    "            android:layout_width=\"0dp\"\n",
    "            android:layout_height=\"wrap_content\"\n",
    "            android:layout_margin=\"4dp\"\n",
    "            android:layout_weight=\".5\"\n",
    "            android:text=\"Decrease\" />\n",
    "    </LinearLayout>\n",
    "\n",
    "    <Button\n",
    "        android:id=\"@+id/resetButtton\"\n",
    "        android:layout_width=\"match_parent\"\n",
    "        android:layout_height=\"wrap_content\"\n",
    "        android:text=\"Reset\" />\n",
    "</LinearLayout>"
   ]
  },
  {
   "cell_type": "code",
   "execution_count": null,
   "id": "28416ab3-9b44-4e7f-8be0-2e608396fc6c",
   "metadata": {},
   "outputs": [],
   "source": [
    "// activity_main.xml\n",
    "<?xml version=\"1.0\" encoding=\"utf-8\"?>\n",
    "<androidx.constraintlayout.widget.ConstraintLayout xmlns:android=\"http://schemas.android.com/apk/res/android\"\n",
    "    xmlns:app=\"http://schemas.android.com/apk/res-auto\"\n",
    "    xmlns:tools=\"http://schemas.android.com/tools\"\n",
    "    android:layout_width=\"match_parent\"\n",
    "    android:layout_height=\"match_parent\"\n",
    "    tools:context=\".ui.MainActivity\">\n",
    "\n",
    "    <androidx.fragment.app.FragmentContainerView\n",
    "        android:id=\"@+id/fragment_main\"\n",
    "        android:name=\"com.example.livedatabasics_kotlin.ui.fragment.CounterFragment\"\n",
    "        android:layout_width=\"match_parent\"\n",
    "        android:layout_height=\"match_parent\"\n",
    "        app:layout_constraintBottom_toBottomOf=\"parent\"\n",
    "        app:layout_constraintEnd_toEndOf=\"parent\"\n",
    "        app:layout_constraintStart_toStartOf=\"parent\"\n",
    "        app:layout_constraintTop_toTopOf=\"parent\" />\n",
    "</androidx.constraintlayout.widget.ConstraintLayout>"
   ]
  },
  {
   "cell_type": "markdown",
   "id": "ee4b29c7-7311-4e5b-ae6c-ac7d7eae8c49",
   "metadata": {},
   "source": [
    "Dodajmy instancję `CounterViewModel` do fragmentu."
   ]
  },
  {
   "cell_type": "code",
   "execution_count": null,
   "id": "cb959387-61f9-47a3-a659-bac2bec31fdd",
   "metadata": {},
   "outputs": [],
   "source": [
    "private val viewModel: CounterViewModel by viewModels()"
   ]
  },
  {
   "cell_type": "markdown",
   "id": "cd5e6f14-fc82-44d1-ba7b-aaf62b35fe46",
   "metadata": {},
   "source": [
    "W metodzie `onCreateView` dodajemy nasz fragment jako obserwatora do pola `counter` klasy `CounterViewModel`"
   ]
  },
  {
   "cell_type": "code",
   "execution_count": null,
   "id": "08ec11c2-c9af-4849-9458-3ef7e97e3cb6",
   "metadata": {},
   "outputs": [],
   "source": [
    "viewModel.counter.observe(viewLifecycleOwner) { newValue ->\n",
    "    binding.showCount.text = newValue.toString()\n",
    "}"
   ]
  },
  {
   "cell_type": "markdown",
   "id": "943e6061-e633-4816-b9c8-2ac7e38c4ba8",
   "metadata": {},
   "source": [
    "Przy użyciu metody `observe()` na `LiveData` dodajemy fragment jako obserwatora (subskrybenta) pola `counter`. `viewLifecycleOwner` wskazuje, że obserwator ma być związany z cyklem życia widoku (dzięki temu `LiveData` *wie* kiedy wstrzymać aktualizacje - kiedy fragment znajduje się w stanie nieaktywnym). Kiedy wartość `counter` w `viewModel` ulegnie zmianie, przekaże nową wartość do lambdy `{ newValue -> ... }`. W tym przypadku, nowa wartość `counter` jest przypisywana do `binding.showCount.text`.\n",
    "\n",
    "W efekcie, za każdym razem, gdy wartość `counter` w `viewModel` ulegnie zmianie, tekst w `binding.showCount.text` zostanie zaktualizowany i widok będzie wyświetlał nową wartość."
   ]
  },
  {
   "cell_type": "markdown",
   "id": "7391c37f-43fa-4d8a-9075-9fe04d8a5eb8",
   "metadata": {},
   "source": [
    "Dodajmy obsługę przycisków."
   ]
  },
  {
   "cell_type": "code",
   "execution_count": null,
   "id": "2963e967-e345-4e83-870f-2bbe73b74490",
   "metadata": {},
   "outputs": [],
   "source": [
    "binding.increaseButton.setOnClickListener { viewModel.increase() }\n",
    "binding.decreaseButton.setOnClickListener { viewModel.decrease() }\n",
    "binding.resetButtton.setOnClickListener { viewModel.clear() }"
   ]
  },
  {
   "cell_type": "markdown",
   "id": "b6f6df14-12ae-4b7b-8570-de4e60e504d3",
   "metadata": {},
   "source": [
    "Za każdym razem, gdy zmieniamy wartość `_counter` za pomocą metod dostępowych (`increase()`, `decrease()`, `clear()`), tekst w polu `binding.showCount.text` zostanie zaktualiowany."
   ]
  },
  {
   "cell_type": "markdown",
   "id": "9547c8b3-6e45-4eaa-8a67-7ff5540668b6",
   "metadata": {},
   "source": [
    "Możemy przetestować aplikację"
   ]
  },
  {
   "cell_type": "markdown",
   "id": "a0b1ecae-31e9-418d-b972-a2b18858f7e5",
   "metadata": {},
   "source": [
    "<table><tr><td><img src=\"https://media2.giphy.com/media/v1.Y2lkPTc5MGI3NjExMDExYnllNDZwZW40NjAxbzl4ZTNlZXN0dHZ1aXE5MjFha2g2ZXV1ayZlcD12MV9pbnRlcm5hbF9naWZfYnlfaWQmY3Q9Zw/xYi3Uxdr0LCyxmoDJO/giphy.gif\" width=\"150\" /></td><td><img src=\"https://media2.giphy.com/media/v1.Y2lkPTc5MGI3NjExZWl6emZ3cWxvYzByMDJ1aWdtbG94eTlyZzI0MTh4ejluejg1dnhzNiZlcD12MV9pbnRlcm5hbF9naWZfYnlfaWQmY3Q9Zw/S3uYswjxuVK1ILsds0/giphy.gif\" width=\"200\" /></td></tr></table>"
   ]
  }
 ],
 "metadata": {
  "kernelspec": {
   "display_name": "Kotlin",
   "language": "kotlin",
   "name": "kotlin"
  },
  "language_info": {
   "codemirror_mode": "text/x-kotlin",
   "file_extension": ".kt",
   "mimetype": "text/x-kotlin",
   "name": "kotlin",
   "nbconvert_exporter": "",
   "pygments_lexer": "kotlin",
   "version": "1.8.0-RC"
  }
 },
 "nbformat": 4,
 "nbformat_minor": 5
}
