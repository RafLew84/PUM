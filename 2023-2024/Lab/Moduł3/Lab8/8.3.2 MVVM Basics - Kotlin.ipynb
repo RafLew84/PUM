{
 "cells": [
  {
   "cell_type": "markdown",
   "id": "af744f05-a92b-47fb-b965-ff5798198281",
   "metadata": {},
   "source": [
    "# Model-View-ViewModel (MVVM) - Podstawy - Kotlin"
   ]
  },
  {
   "cell_type": "markdown",
   "id": "8bf74b55-fb00-4eee-a06f-6a28e81716d2",
   "metadata": {},
   "source": [
    "W tej aplikacji przyjrzymy się zastosowaniu architektury **MVVM**."
   ]
  },
  {
   "cell_type": "markdown",
   "id": "f8ce8b97-b48f-456a-8bb4-21603a276890",
   "metadata": {},
   "source": [
    "<img src=\"https://media0.giphy.com/media/v1.Y2lkPTc5MGI3NjExdmllMXdiMmd0OW8wNGs3bXJucXJxYmNtZGpheGtueG5wbzZnZDduaCZlcD12MV9pbnRlcm5hbF9naWZfYnlfaWQmY3Q9Zw/ff1yWpIVOu1FqfQA3Q/giphy.gif\" width=\"200\" />"
   ]
  },
  {
   "cell_type": "markdown",
   "id": "0bb09ee8-b4c4-4ba2-be41-baac97af783e",
   "metadata": {},
   "source": [
    "**Model-View-ViewModel (MVVM)** to wzorzec architektoniczny stosowany w aplikacjach mobilnych (i nie tylko), który ma na celu oddzielenie logiki biznesowej od warstwy prezentacji.\n",
    "\n",
    "W MVVM występują trzy główne komponenty:\n",
    "- **Model** - Reprezentuje dane i logikę biznesową aplikacji. Model może zawierać struktury danych, metody dostępu do bazy danych, usługi sieciowe itp.\n",
    "- **View** - Odpowiada za prezentację interfejsu użytkownika (UI). Może to być np. widok, przyciski, pola tekstowe, komponenty, ekrany itp. \n",
    "- **ViewModel** - Pośredniczy między Modelem a Widokiem. ViewModel zawiera dane, które mają być wyświetlane w widoku oraz metody, które obsługują interakcje użytkownika. ViewModel nie jest bezpośrednio zależny od Widoku - jest odizolowany od konkretnego interfejsu użytkownika.\n",
    "\n",
    "Kilka korzyści wynikających z zastosowania wzorca MVVM:\n",
    "- **Separacja logiki biznesowej od warstwy prezentacji** - Dzięki MVVM można utrzymać czytelność i organizację kodu, ponieważ logika biznesowa jest oddzielona od kodu odpowiedzialnego za wygląd i interakcję z użytkownikiem.\n",
    "- **Testowalność** - Dzięki oddzieleniu ViewModelu od Widoku można łatwiej testować logikę biznesową, ponieważ ViewModel **nie jest bezpośrednio zależny** od interfejsu użytkownika. Można napisać testy jednostkowe dla ViewModelu, symulując różne scenariusze bez potrzeby uruchamiania całej aplikacji.\n",
    "- **Ponowne wykorzystanie kodu** Dzięki MVVM można łatwiej ponownie wykorzystywać ViewModel w różnych miejscach aplikacji. Na przykład, ten sam ViewModel może być używany w różnych ekranach, które mają podobne wymagania, ale różnią się układem i wyglądem.\n",
    "- **Łatwiejsze zarządzanie stanem** MVVM pomaga w zarządzaniu stanem aplikacji poprzez wprowadzenie jednokierunkowego przepływu danych. ViewModel dostarcza dane do Widoku, które je wyświetla, a wszelkie zmiany wprowadzane przez użytkownika są przekazywane z powrotem do ViewModelu.\n",
    "- **Szybsze budowanie aplikacji** - Elementy MVVM są niezależne. Zmiany w pojedynczym elemencie wymagają preezebudowania tylko tego elementu, przykładowo, zmiana w klasie `ViewModel` będzie wymagała przekompilowania tylko tej klasy, a nie całego projektu.\n",
    "- **Jednokierunkowy przepływ danych** - *Unidirectional data flow* (UDF) to wzorzec projektowy, w którym stan przepływa w dół, a zdarzenia przepływają w górę. Poprzez stosowanie jednokierunkowego przepływu danych, można odseparować komponenty odpowiedzialne za wyświetlanie stanu w interfejsie użytkownika od części aplikacji, które przechowują i zmieniają stan.\n",
    "\n",
    "<img src=\"https://manuelvivo.dev/assets/images/2022-06-01-viewmodel-events-antipatterns-1.png\" width=\"200\" />"
   ]
  },
  {
   "cell_type": "markdown",
   "id": "74da96be-d0c5-454f-bc40-8eac76580bd1",
   "metadata": {},
   "source": [
    "Wszystkie elementy architektury znamy z poprzednich przykładów, teraz napiszemy prostą aplikację wyświetlającą imiona i nazwiska użytkowników, ktorzy będą przechowywani w liście. Wykorzystamy również *dummy data* do zainicjowania listy.\n",
    "\n",
    "### Model\n",
    "\n",
    "Rozpocznijmy od modelu."
   ]
  },
  {
   "cell_type": "code",
   "execution_count": null,
   "id": "363dc8ec-49a6-496d-847c-62ed737cae07",
   "metadata": {},
   "outputs": [],
   "source": [
    "data class User(val firstName: String, val lastName: String)"
   ]
  },
  {
   "cell_type": "markdown",
   "id": "29d9c2bc-a205-45d9-b189-8d7c59c13aea",
   "metadata": {},
   "source": [
    "Mamy klasę `User` z dwoma polami reprezentującymi imię i nazwisko. Dodajmy `DataProvider` z danymi inicjującymi."
   ]
  },
  {
   "cell_type": "code",
   "execution_count": null,
   "id": "bb5bd51d-3516-4ba2-958a-d4b0962062e8",
   "metadata": {},
   "outputs": [],
   "source": [
    "object DataProvider {\n",
    "\n",
    "    private val firstNames = listOf(\n",
    "        \"Adam\", \"Ewa\", \"Jan\", \"Anna\", \"Piotr\", \"Maria\", \"Tomasz\", \"Małgorzata\", \"Krzysztof\", \"Alicja\",\n",
    "        \"Andrzej\", \"Joanna\", \"Michał\", \"Barbara\", \"Kamil\", \"Magdalena\", \"Robert\", \"Monika\", \"Mateusz\", \"Natalia\"\n",
    "    )\n",
    "\n",
    "    private val lastNames = listOf(\n",
    "        \"Nowak\", \"Kowalski\", \"Wiśniewski\", \"Wójcik\", \"Kowalczyk\", \"Kamiński\", \"Lewandowski\", \"Zieliński\", \"Szymański\",\n",
    "        \"Woźniak\", \"Dąbrowski\", \"Kozłowski\", \"Jankowski\", \"Mazur\", \"Kwiatkowski\", \"Krawczyk\", \"Piotrowski\", \"Grabowski\",\n",
    "        \"Nowakowski\", \"Pawłowski\"\n",
    "    )\n",
    "\n",
    "    val users = (0..40).map { User(firstNames.random(), lastNames.random())}\n",
    "}"
   ]
  },
  {
   "cell_type": "markdown",
   "id": "9c333814-056e-4e00-85fc-3fbb04652d59",
   "metadata": {},
   "source": [
    "### ViewModel"
   ]
  },
  {
   "cell_type": "markdown",
   "id": "8e2d9c5b-93ae-4698-a724-7c78f524e8b3",
   "metadata": {},
   "source": [
    "W klasie `UserViewModel` przechowujemy listę wszystkich użytkowników jako `MutableLiveData<List<User>>`.\n",
    "\n",
    "Tutaj napotykamy pewien problem, `MutableLiveData` przechowuje i daje możliwość obserwacji samej listy `List<User>`, ale nie jej elementów. Więc dodając nowy element chcemy utrworzyć nową listę i zastąpić tą przechowywaną w zmiennej `_userList`."
   ]
  },
  {
   "cell_type": "code",
   "execution_count": null,
   "id": "8cb0e201-eb26-4d5a-9608-9fe54f942e4c",
   "metadata": {},
   "outputs": [],
   "source": [
    "class UserViewModel : ViewModel() {\n",
    "    private var _usersList = MutableLiveData<List<User>>()\n",
    "    val usersList: LiveData<List<User>>\n",
    "        get() = _usersList\n",
    "\n",
    "    init {\n",
    "        reinitialize()\n",
    "    }\n",
    "\n",
    "    fun addUser(user: User){\n",
    "        val currentList = _usersList.value.orEmpty().toMutableList()\n",
    "        currentList.add(user)\n",
    "        currentList.sortBy { it.lastName }\n",
    "        _usersList.value = currentList\n",
    "    }\n",
    "\n",
    "    fun reinitialize(){\n",
    "        val sortedUsers = DataProvider.users.sortedWith(compareBy(User::lastName, User::firstName))\n",
    "        _usersList.value = sortedUsers\n",
    "    }\n",
    "\n",
    "    fun clear(){\n",
    "        _usersList.value = emptyList()\n",
    "    }\n",
    "}"
   ]
  },
  {
   "cell_type": "markdown",
   "id": "f1cd8a2f-39da-4493-b890-bfe7d4263204",
   "metadata": {},
   "source": [
    "- `val usersList: List<User> get() = _usersList` - lista użytkowników, do której można uzyskać dostęp tylko do odczytu.\n",
    "- `fun addUser(user: User)` - Metoda służy do dodawania nowego użytkownika do listy. \n",
    "- `fun reinitialize()` - Metoda służy do zresetowania zawartości listy użytkowników do wartości domyślnych.\n",
    "- `fun clear()` - Metoda służy do wyczyszczenia całej listy użytkowników."
   ]
  },
  {
   "cell_type": "markdown",
   "id": "27d73895-7b8e-4ce7-a5a6-cc7e7d3465fd",
   "metadata": {},
   "source": [
    "### View"
   ]
  },
  {
   "cell_type": "markdown",
   "id": "806db348-b19a-4259-af26-8cbea3ab7d93",
   "metadata": {},
   "source": [
    "Dodajmy `View` do aplikacji, czyli zdefiniujmy interfejs użytkownika. Dodajmy layouty dla aktywności, fragmentu oraz pojedynczego elementu listy."
   ]
  },
  {
   "cell_type": "code",
   "execution_count": null,
   "id": "259c69e4-e079-4a20-a525-cb7633ecd485",
   "metadata": {},
   "outputs": [],
   "source": [
    "<?xml version=\"1.0\" encoding=\"utf-8\"?>\n",
    "<androidx.constraintlayout.widget.ConstraintLayout xmlns:android=\"http://schemas.android.com/apk/res/android\"\n",
    "    xmlns:app=\"http://schemas.android.com/apk/res-auto\"\n",
    "    xmlns:tools=\"http://schemas.android.com/tools\"\n",
    "    android:layout_width=\"match_parent\"\n",
    "    android:layout_height=\"match_parent\"\n",
    "    tools:context=\".ui.MainActivity\">\n",
    "\n",
    "    <androidx.fragment.app.FragmentContainerView\n",
    "        android:id=\"@+id/fragment_main\"\n",
    "        android:name=\"com.example.mvvmbasicskotlin.ui.fragment.UsersFragment\"\n",
    "        android:layout_width=\"match_parent\"\n",
    "        android:layout_height=\"match_parent\"\n",
    "        app:layout_constraintBottom_toBottomOf=\"parent\"\n",
    "        app:layout_constraintEnd_toEndOf=\"parent\"\n",
    "        app:layout_constraintStart_toStartOf=\"parent\"\n",
    "        app:layout_constraintTop_toTopOf=\"parent\" />\n",
    "</androidx.constraintlayout.widget.ConstraintLayout>"
   ]
  },
  {
   "cell_type": "code",
   "execution_count": null,
   "id": "e1d88527-1e75-46ee-91d6-7c17f7a3f2bd",
   "metadata": {},
   "outputs": [],
   "source": [
    "<?xml version=\"1.0\" encoding=\"utf-8\"?>\n",
    "<LinearLayout xmlns:android=\"http://schemas.android.com/apk/res/android\"\n",
    "    android:layout_width=\"match_parent\"\n",
    "    android:layout_height=\"match_parent\"\n",
    "    android:orientation=\"vertical\">\n",
    "\n",
    "    <LinearLayout\n",
    "        android:layout_width=\"match_parent\"\n",
    "        android:layout_height=\"wrap_content\"\n",
    "        android:orientation=\"horizontal\">\n",
    "\n",
    "        <LinearLayout\n",
    "            android:layout_width=\"0dp\"\n",
    "            android:layout_weight=\"1\"\n",
    "            android:layout_height=\"wrap_content\"\n",
    "            android:layout_margin=\"4dp\"\n",
    "            android:orientation=\"horizontal\">\n",
    "\n",
    "            <com.google.android.material.textfield.TextInputLayout\n",
    "                android:layout_width=\"match_parent\"\n",
    "                android:layout_height=\"wrap_content\"\n",
    "                android:hint=\"First Name\">\n",
    "\n",
    "                <com.google.android.material.textfield.TextInputEditText\n",
    "                    android:id=\"@+id/firstNameEditText\"\n",
    "                    android:layout_width=\"match_parent\"\n",
    "                    android:layout_height=\"wrap_content\"\n",
    "                    android:fontFamily=\"sans-serif\"\n",
    "                    android:textSize=\"15sp\" />\n",
    "            </com.google.android.material.textfield.TextInputLayout>\n",
    "        </LinearLayout>\n",
    "\n",
    "        <LinearLayout\n",
    "            android:layout_width=\"0dp\"\n",
    "            android:layout_weight=\"1\"\n",
    "            android:layout_height=\"wrap_content\"\n",
    "            android:layout_margin=\"4dp\"\n",
    "            android:orientation=\"horizontal\">\n",
    "\n",
    "            <com.google.android.material.textfield.TextInputLayout\n",
    "                android:layout_width=\"match_parent\"\n",
    "                android:layout_height=\"wrap_content\"\n",
    "                android:hint=\"Last Name\">\n",
    "\n",
    "                <com.google.android.material.textfield.TextInputEditText\n",
    "                    android:id=\"@+id/lastNameEditText\"\n",
    "                    android:layout_width=\"match_parent\"\n",
    "                    android:layout_height=\"wrap_content\"\n",
    "                    android:fontFamily=\"sans-serif\"\n",
    "                    android:textSize=\"15sp\" />\n",
    "            </com.google.android.material.textfield.TextInputLayout>\n",
    "        </LinearLayout>\n",
    "\n",
    "        <Button\n",
    "            android:id=\"@+id/addButton\"\n",
    "            android:layout_width=\"wrap_content\"\n",
    "            android:layout_gravity=\"center\"\n",
    "            android:text=\"ADD\"\n",
    "            android:layout_margin=\"4dp\"\n",
    "            android:layout_height=\"wrap_content\"/>\n",
    "    </LinearLayout>\n",
    "\n",
    "    <androidx.recyclerview.widget.RecyclerView\n",
    "        android:id=\"@+id/rvList\"\n",
    "        android:layout_width=\"match_parent\"\n",
    "        android:layout_height=\"0dp\"\n",
    "        android:layout_weight=\"1\"\n",
    "        android:layout_margin=\"4dp\"/>\n",
    "\n",
    "    <Button\n",
    "        android:id=\"@+id/clearButton\"\n",
    "        android:layout_width=\"match_parent\"\n",
    "        android:layout_gravity=\"center\"\n",
    "        android:layout_marginStart=\"8dp\"\n",
    "        android:layout_marginEnd=\"8dp\"\n",
    "        android:text=\"CLEAR\"\n",
    "        android:layout_height=\"wrap_content\"/>\n",
    "\n",
    "    <Button\n",
    "        android:id=\"@+id/resetButton\"\n",
    "        android:layout_width=\"match_parent\"\n",
    "        android:layout_gravity=\"center\"\n",
    "        android:layout_marginStart=\"8dp\"\n",
    "        android:layout_marginEnd=\"8dp\"\n",
    "        android:layout_marginBottom=\"8dp\"\n",
    "        android:text=\"RESET\"\n",
    "        android:layout_height=\"wrap_content\"/>\n",
    "\n",
    "</LinearLayout>"
   ]
  },
  {
   "cell_type": "code",
   "execution_count": null,
   "id": "03cbe8d2-cf9f-4653-b500-7b6af5001f4f",
   "metadata": {},
   "outputs": [],
   "source": [
    "<?xml version=\"1.0\" encoding=\"utf-8\"?>\n",
    "<LinearLayout xmlns:android=\"http://schemas.android.com/apk/res/android\"\n",
    "    xmlns:app=\"http://schemas.android.com/apk/res-auto\"\n",
    "    android:layout_width=\"match_parent\"\n",
    "    android:layout_height=\"wrap_content\"\n",
    "    android:orientation=\"horizontal\">\n",
    "\n",
    "    <TextView\n",
    "        android:id=\"@+id/wordTextView\"\n",
    "        android:layout_width=\"0dp\"\n",
    "        android:layout_weight=\"1\"\n",
    "        android:layout_height=\"wrap_content\"\n",
    "        android:layout_margin=\"4dp\"\n",
    "        android:text=\"slowo\"\n",
    "        android:textAlignment=\"center\"\n",
    "        android:layout_marginStart=\"8dp\"\n",
    "        android:textSize=\"24sp\" />\n",
    "\n",
    "</LinearLayout>"
   ]
  },
  {
   "cell_type": "markdown",
   "id": "f95a9582-1cce-4c60-b577-fc4c5eb4d19b",
   "metadata": {},
   "source": [
    "Zaimplementujmy elementy `RecyclerView`"
   ]
  },
  {
   "cell_type": "code",
   "execution_count": null,
   "id": "ef75ad7c-5ebc-4ee4-ba44-ef0d4182865c",
   "metadata": {},
   "outputs": [],
   "source": [
    "class UserViewHolder(private val binding: RvItemBinding) : RecyclerView.ViewHolder(binding.root) {\n",
    "    fun bind(item: User) {\n",
    "        val fullName = \"${item.firstName} ${item.lastName}\"\n",
    "        binding.wordTextView.text = fullName\n",
    "    }\n",
    "}"
   ]
  },
  {
   "cell_type": "code",
   "execution_count": null,
   "id": "2f0fe4e2-52ee-443c-890b-26a3dfeee5db",
   "metadata": {},
   "outputs": [],
   "source": [
    "class UserComparator : DiffUtil.ItemCallback<User>() {\n",
    "    override fun areItemsTheSame(oldItem: User, newItem: User): Boolean {\n",
    "        return oldItem === newItem\n",
    "    }\n",
    "\n",
    "    override fun areContentsTheSame(oldItem: User, newItem: User): Boolean {\n",
    "        return oldItem == newItem\n",
    "    }\n",
    "}"
   ]
  },
  {
   "cell_type": "code",
   "execution_count": null,
   "id": "5cc5ae09-9a76-4c38-9c15-bd315010ff4b",
   "metadata": {},
   "outputs": [],
   "source": [
    "class UserAdapter(userComparator: UserComparator) : ListAdapter<User, UserViewHolder>(userComparator) {\n",
    "    override fun onCreateViewHolder(parent: ViewGroup, viewType: Int): UserViewHolder {\n",
    "        return UserViewHolder(\n",
    "            RvItemBinding.inflate(\n",
    "                LayoutInflater.from(parent.context), parent, false\n",
    "            )\n",
    "        )\n",
    "    }\n",
    "\n",
    "    override fun onBindViewHolder(holder: UserViewHolder, position: Int) {\n",
    "        val item = getItem(position)\n",
    "        holder.bind(item)\n",
    "    }\n",
    "}"
   ]
  },
  {
   "cell_type": "markdown",
   "id": "fae19af2-c788-41e2-bc56-ad91805ac96d",
   "metadata": {},
   "source": [
    "Następnie przejdźmy do `UsersFraggment`"
   ]
  },
  {
   "cell_type": "markdown",
   "id": "1aaf4d46-eb68-4399-8917-7c1df0b4f9b4",
   "metadata": {},
   "source": [
    "Potrzebujemy dwie wartości przechowujące instancję `UserViewModel` oraz `UserAdapter`"
   ]
  },
  {
   "cell_type": "code",
   "execution_count": null,
   "id": "24d7d99e-ae3d-4182-a1f7-89f4fae12c3f",
   "metadata": {},
   "outputs": [],
   "source": [
    "private val viewModel: UserViewModel by viewModels()\n",
    "private val userAdapter by lazy { UserAdapter(UserComparator())}"
   ]
  },
  {
   "cell_type": "markdown",
   "id": "548a62f3-6151-46bd-9963-16c83c8a56c7",
   "metadata": {},
   "source": [
    "Dodajmy fragment jako obserwator, oraz podepnijmy odpowiednie metody do elementów layoutu."
   ]
  },
  {
   "cell_type": "code",
   "execution_count": null,
   "id": "ba402884-a4a3-4d54-8382-2cd377d73fb7",
   "metadata": {},
   "outputs": [],
   "source": [
    "override fun onCreateView(\n",
    "    inflater: LayoutInflater, container: ViewGroup?,\n",
    "    savedInstanceState: Bundle?\n",
    "): View {\n",
    "    binding = FragmentUsersBinding.inflate(inflater)\n",
    "\n",
    "\n",
    "    viewModel.usersList.observe(viewLifecycleOwner) { users ->\n",
    "        userAdapter.submitList(users.toMutableList())\n",
    "    }\n",
    "\n",
    "    binding.rvList.apply{\n",
    "        adapter = userAdapter\n",
    "        layoutManager = LinearLayoutManager(requireContext())\n",
    "    }\n",
    "\n",
    "    binding.addButton.setOnClickListener { onAddUser() }\n",
    "    binding.resetButton.setOnClickListener { onResetUsers() }\n",
    "    binding.clearButton.setOnClickListener { onClearUsers() }\n",
    "\n",
    "    return binding.root\n",
    "}"
   ]
  },
  {
   "cell_type": "markdown",
   "id": "19d4de41-7041-4423-88cc-1cf4a953a527",
   "metadata": {},
   "source": [
    "`viewModel.usersList.observe(viewLifecycleOwner) { users -> ... }` - Ta linia kodu używa metody `observe` na polu `usersList` z klasy `UserViewModel`. Umożliwia ona reagowanie na zmiany w liście użytkowników. `viewLifecycleOwner` wskazuje, że obserwator będzie aktywny w cyklu życia fragmentu. W bloku lambdy `{ users -> ... }` następuje reakcja na zmiany w liście - przekazuje ona nową listę użytkowników do `userAdapter`."
   ]
  },
  {
   "cell_type": "markdown",
   "id": "de88d7d7-f725-438a-af40-fa193990a82d",
   "metadata": {},
   "source": [
    "Następnie dodajmy metody obsługujące dodanie nowego użytkownika, czyszczenie i reinicjalizację danych."
   ]
  },
  {
   "cell_type": "code",
   "execution_count": null,
   "id": "b42888e9-704a-44e3-95f2-5b5ea029f744",
   "metadata": {},
   "outputs": [],
   "source": [
    "private fun onAddUser() {\n",
    "    val firstName = binding.firstNameEditText.text.toString().trim()\n",
    "    val lastName = binding.lastNameEditText.text.toString().trim()\n",
    "\n",
    "    if (firstName.isNotBlank() && lastName.isNotBlank()) { // sprawdzam czy pola nie są puste\n",
    "        val newUser = User(firstName, lastName)            // tworzę nowego użytkownika\n",
    "        viewModel.addUser(newUser)                         // dodaję do listy\n",
    "\n",
    "        binding.firstNameEditText.text?.clear()            // czyszczę pola\n",
    "        binding.lastNameEditText.text?.clear()\n",
    "    }\n",
    "}\n",
    "\n",
    "private fun onResetUsers() {\n",
    "    viewModel.reinitialize()\n",
    "}\n",
    "\n",
    "private fun onClearUsers() {\n",
    "    viewModel.clear()\n",
    "}"
   ]
  },
  {
   "cell_type": "markdown",
   "id": "63447be6-5640-44d4-b1ee-a091b1f210e6",
   "metadata": {},
   "source": [
    "Możemy przetestować aplikację."
   ]
  },
  {
   "cell_type": "markdown",
   "id": "17d7b782-8f6b-4bec-b91c-8a054b9d70ec",
   "metadata": {},
   "source": [
    "<img src=\"https://media0.giphy.com/media/v1.Y2lkPTc5MGI3NjExdmllMXdiMmd0OW8wNGs3bXJucXJxYmNtZGpheGtueG5wbzZnZDduaCZlcD12MV9pbnRlcm5hbF9naWZfYnlfaWQmY3Q9Zw/ff1yWpIVOu1FqfQA3Q/giphy.gif\" width=\"200\" />"
   ]
  }
 ],
 "metadata": {
  "kernelspec": {
   "display_name": "Kotlin",
   "language": "kotlin",
   "name": "kotlin"
  },
  "language_info": {
   "codemirror_mode": "text/x-kotlin",
   "file_extension": ".kt",
   "mimetype": "text/x-kotlin",
   "name": "kotlin",
   "nbconvert_exporter": "",
   "pygments_lexer": "kotlin",
   "version": "1.8.0-RC"
  }
 },
 "nbformat": 4,
 "nbformat_minor": 5
}
