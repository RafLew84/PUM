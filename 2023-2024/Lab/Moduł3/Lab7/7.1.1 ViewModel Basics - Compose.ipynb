{
 "cells": [
  {
   "cell_type": "markdown",
   "id": "d1829456-b152-4eb5-a1f9-911ed450c872",
   "metadata": {},
   "source": [
    "# Jetpack Compose - ViewModel - Podstawy"
   ]
  },
  {
   "cell_type": "markdown",
   "id": "589157f4-176a-4696-afaa-4bb069d94640",
   "metadata": {},
   "source": [
    "W tej aplikacji przyjrzymy się zastosowaniu `ViewModel` - części architektury **MVVM**."
   ]
  },
  {
   "cell_type": "markdown",
   "id": "eff5f79c-659a-433f-b3ca-6824f91052fd",
   "metadata": {},
   "source": [
    "<img src=\"https://media1.giphy.com/media/v1.Y2lkPTc5MGI3NjExc3R4N24yeXNjbGJqNzh3MmRiMmQ0MjVjcWc3eHBmcng1cDBjeDJ6cSZlcD12MV9pbnRlcm5hbF9naWZfYnlfaWQmY3Q9Zw/seMioQznXL1jUqAXfR/giphy.gif\" width=\"200\" />"
   ]
  },
  {
   "cell_type": "markdown",
   "id": "d2b19895-a90e-4232-9e2e-86632eed2e47",
   "metadata": {},
   "source": [
    "`ViewModel` to wzorzec projektowy stosowany w programowaniu, szczególnie w kontekście tworzenia aplikacji z interfejsem użytkownika. Celem `ViewModel` jest oddzielenie logiki biznesowej aplikacji od jej warstwy prezentacji.\n",
    "\n",
    "Logika biznesowa odnosi się do części aplikacji, która zajmuje się przetwarzaniem danych, ustalaniem reguł i wykonywaniem operacji związanych z konkretnym obszarem działalności aplikacji. Może to obejmować obliczenia, walidację danych, manipulację danymi, wykonywanie operacji na bazie danych itp. Logika biznesowa reprezentuje zasady i procesy, które są istotne dla funkcjonowania danej aplikacji.\n",
    "\n",
    "Warstwa prezentacji to część aplikacji, która odpowiada za interakcję z użytkownikiem i wyświetlanie danych na ekranie. Warstwa prezentacji obejmuje interfejsy użytkownika. Jej głównym celem jest prezentowanie danych i umożliwienie użytkownikowi interakcji z aplikacją.\n",
    "\n",
    "`ViewModel` przechowuje informacje i stan związane z widokiem, czyli tym, co użytkownik widzi na ekranie. Jeśli mamy aplikację z listą kontaktów, to `ViewModel` przechowuje kontakty i dostarcza je do interfejsu użytkownika w formie, w której mogą być wyświetlone. Udostępnia metody i właściwości, które pozwalają na manipulację danymi, na przykład dodawanie, usuwanie lub aktualizowanie kontaktów. Kiedy użytkownik wykonuje akcję, na przykład naciska przycisk, interakcja ta jest obsługiwana przez `ViewModel`, który następnie dokonuje odpowiednich zmian w danych i informuje interfejs użytkownika o konieczności zaktualizowania wyświetlanych informacji.\n",
    "\n",
    "`ViewModel` nie jest bezpośrednio zależny od interfejsu użytkownika. Dzięki temu można go łatwo przetestować i ponownie wykorzystać w innych częściach aplikacji. Jest to również korzystne w przypadku, gdy aplikacja ma różne interfejsy użytkownika, na przykład dla różnych platform."
   ]
  },
  {
   "cell_type": "markdown",
   "id": "34f2cf9a-991c-4548-8fbf-eccff54b0fd7",
   "metadata": {},
   "source": [
    "W tej aplikacji będziemy wyświetlać i modyfikoewać listę słów.\n",
    "\n",
    "Aby wykorzystać `ViewModel` musimy dodać odpowiednią zależność\n",
    "\n",
    "```kotlin\n",
    "implementation \"androidx.lifecycle:lifecycle-viewmodel-compose:2.6.1\"\n",
    "```\n",
    "\n",
    "W pierwszym kroku dodajmy *dummy data* dla aplikacji - listę słów, którymi wypełnimy listę."
   ]
  },
  {
   "cell_type": "code",
   "execution_count": null,
   "id": "b56603fd-26d6-4646-b0f6-7782da89aed7",
   "metadata": {},
   "outputs": [],
   "source": [
    "object DataProvider {\n",
    "    val words: List<String> = listOf(\n",
    "        \"dom\",\n",
    "        \"ojciec\",\n",
    "        \"matka\",\n",
    "        \"piękno\",\n",
    "        \"ból\",\n",
    "        \"szkoła\",\n",
    "        \"miłość\",\n",
    "        \"praca\",\n",
    "        \"twarz\",\n",
    "        \"noc\",\n",
    "        \"dzień\",\n",
    "        \"stół\",\n",
    "        \"kawa\",\n",
    "        \"pies\",\n",
    "        \"kot\",\n",
    "        \"dziecko\",\n",
    "        \"prawo\",\n",
    "        \"cisza\",\n",
    "        \"piosenka\",\n",
    "        \"szczęście\",\n",
    "        \"słońce\",\n",
    "        \"długo\",\n",
    "        \"krótka\",\n",
    "        \"drzewo\",\n",
    "        \"kwiat\",\n",
    "        \"woda\",\n",
    "        \"noga\",\n",
    "        \"ręka\",\n",
    "        \"mężczyzna\",\n",
    "        \"kobieta\",\n",
    "        \"czas\",\n",
    "        \"malarz\",\n",
    "        \"muzyka\",\n",
    "        \"kolor\",\n",
    "        \"głowa\",\n",
    "        \"brzuch\",\n",
    "        \"długie\",\n",
    "        \"krótki\",\n",
    "        \"serce\",\n",
    "        \"oko\",\n",
    "        \"miska\",\n",
    "        \"lustro\",\n",
    "        \"słowo\",\n",
    "        \"most\",\n",
    "        \"szybko\",\n",
    "        \"sklep\",\n",
    "        \"kino\",\n",
    "        \"dziadek\",\n",
    "        \"babcia\",\n",
    "        \"lampa\"\n",
    "    )\n",
    "}"
   ]
  },
  {
   "cell_type": "markdown",
   "id": "322a7162-f3d1-44ad-a210-5d5a4123006f",
   "metadata": {},
   "source": [
    "### ViewModel"
   ]
  },
  {
   "cell_type": "markdown",
   "id": "ecd1475f-fb73-4ae7-9452-e46c9cfc92ab",
   "metadata": {},
   "source": [
    "Dodajmy klasę `WordViewModel` do aplikacji."
   ]
  },
  {
   "cell_type": "markdown",
   "id": "aa3d0a93-df37-46aa-b3b3-af2df36acb73",
   "metadata": {},
   "source": [
    "Klasa `WordViewModel` rozszerza klasę `ViewModel`, zapewnia ona obsługę **cyklu życia**, co oznacza, że może reagować na zdarzenia takie jak utworzenie, zmiana i zniszczenie komponentów interfejsu użytkownika. Na przykład, może zaktualizować dane po otrzymaniu nowych informacji lub zwolnić zasoby po zniszczeniu komponentu. Może automatycznie odświeżać dane po otrzymaniu nowych informacji lub zwalniać zasoby po zniszczeniu `Composable`.\n",
    "\n",
    "`ViewModel` reaguje na zmiany cyklu życia poprzez dostarczanie specjalnych metod, które są wywoływane w odpowiednich momentach cyklu życia komponentów interfejsu użytkownika. Przykładowo, metoda `onCleared()` jest wywoływana, gdy komponent interfejsu użytkownika, który korzysta z `ViewModelu`, jest niszczony. Może to mieć miejsce, gdy aktywność jest zamykana lub fragment jest usuwany. `ViewModel` może wykorzystać tę metodę do zwalniania zasobów, np. zamknięcia połączenia do bazy danych, anulowania żądań sieciowych itp. \n",
    "\n",
    "W przypadku, gdy `ViewModel` jest używany przez fragment, może zareagować na moment, gdy jest dołączany do fragmentu, za pomocą metody `onViewModelAttached()`. Może to być przydatne, gdy potrzebuje on dostępu do kontekstu fragmentu lub innych zasobów specyficznych dla tego fragmentu.\n",
    "\n",
    "Metody `onCleared()`, `onViewModelAttached()` (i inne) są wywoływane automatycznie przez system Android w odpowiednich momentach cyklu życia komponentów. Pozwalają one na reagowanie na te zmiany i podejmowanie odpowiednich działań, takich jak zwalnianie zasobów czy przygotowanie się do współpracy z innymi komponentami interfejsu użytkownika."
   ]
  },
  {
   "cell_type": "markdown",
   "id": "c2555a48-7f13-4d9b-8f60-e8258cb1d652",
   "metadata": {},
   "source": [
    "`ViewModel` jest zaprojektowany tak, aby zachować dane i stan między zmianami konfiguracji urządzenia, takimi jak zmiana rotacji ekranu.\n",
    "\n",
    "Podczas pierwszego tworzenia `ViewModel`, na przykład podczas uruchomienia aktywności, system Android tworzy nową instancję i związaną z nią aktywność.\n",
    "Jeśli następuje zmiana konfiguracji urządzenia, jak zmiana rotacji ekranu, Android przechodzi do tworzenia nowej instancji aktywności, ale istniejący `ViewModel` pozostaje niezmieniony i jest ponownie używany przez nowo utworzoną aktywność.\n",
    "\n",
    "`ViewModel` przechowuje dane i stan między zmianami konfiguracji urządzenia. Na przykład, jeśli `ViewModel` zawiera listę kontaktów, ta lista pozostaje nietknięta po zmianie rotacji.\n",
    "Dane są przechowywane w `ViewModel`, a nie w samej aktywności lub fragmencie, co pozwala na bezpieczne i spójne zarządzanie danymi bez utraty ich przy zmianie konfiguracji.\n",
    "\n",
    "`ViewModel` może dostarczać metody i właściwości, które umożliwiają aktywności lub fragmentom uzyskanie dostępu do przechowywanych danych. Po zmianie konfiguracji urządzenia, nowa instancja aktywności lub fragmentu może uzyskać dostęp do istniejącego `ViewModel` i wykorzystać go do aktualizacji interfejsu użytkownika na podstawie przechowywanych danych.\n",
    "\n",
    "Dzięki tym mechanizmom, umożliwia on zachowanie spójności danych i stanu nawet w przypadku zmian konfiguracji urządzenia, takich jak zmiana rotacji ekranu. Ułatwia to tworzenie odpornych na zmiany urządzenia aplikacji, które nie gubią danych ani nie wymagają dodatkowego kodu obsługującego zmiany konfiguracji."
   ]
  },
  {
   "cell_type": "code",
   "execution_count": null,
   "id": "e051212d-27fc-4d29-baa4-3dc7e09137e1",
   "metadata": {},
   "outputs": [],
   "source": [
    "class WordViewModel : ViewModel() {\n",
    "    private var _wordsList = mutableStateListOf<String>()\n",
    "    val wordList: List<String>\n",
    "        get() = _wordsList\n",
    "\n",
    "    init {\n",
    "        reinitialize()\n",
    "    }\n",
    "\n",
    "    fun addWord(word: String){\n",
    "        _wordsList.add(word)\n",
    "        _wordsList.sort()\n",
    "    }\n",
    "\n",
    "    fun reinitialize(){\n",
    "        _wordsList.clear()\n",
    "        _wordsList.addAll(DataProvider.words)\n",
    "        _wordsList.sort()\n",
    "    }\n",
    "\n",
    "    fun clear(){\n",
    "        _wordsList.clear()\n",
    "    }\n",
    "}"
   ]
  },
  {
   "cell_type": "markdown",
   "id": "8e6bccda-1073-484f-9f94-354909cac1cd",
   "metadata": {},
   "source": [
    "- `private var _wordsList = mutableStateListOf<String>()` Tworzy prywatne pole `_wordsList` typu `mutableStateListOf<String>`, które przechowuje listę słów. `mutableStateListOf` jest specjalnym typem listy w `Compose`, który pozwala na śledzenie zmian wewnątrz listy. - jest to tzw. **właściwość wspierająca**.\n",
    "- `val wordList: List<String> get() = _wordsList` Definiuje publiczne pole `wordList` typu `List<String>`, które jest **tylko do odczytu**. Udostępnia ono dostęp do `_wordsList`, ale nie pozwala na jego modyfikację. Pozwala to innym komponentom na odczytanie zawartości listy słów.\n",
    "- `init { reinitialize() }` Inicjalizuje `WordViewModel` poprzez wywołanie funkcji `reinitialize()`. Ta funkcja wypełnia początkową listę słów na podstawie dostarczonych danych.\n",
    "- `fun addWord(word: String)` Ta funkcja dodaje podane słowo do listy `_wordsList` i sortuje listę alfabetycznie.\n",
    "- `fun reinitialize()`  służy do ponownego inicjalizowania listy słów. Funkcja najpierw czyści listę `_wordsList`, a następnie dodaje nowe słowa na podstawie dostarczonych danych. Na koniec sortuje listę alfabetycznie.\n",
    "- `fun clear()` czyści listę `_wordsList`.\n",
    "\n",
    "Zastosowanie oddzielnej właściwości `wordList` jako **tylko do odczytu** `List<String>` umożliwia dostęp z zewnątrz do `_wordsList`, ale **nie pozwala** na jego bezpośrednią modyfikację. Zamiast tego, zewnętrzne komponenty mogą odczytywać zawartość `wordList` i korzystać z niej, co zapewnia bezpieczny dostęp do danych przechowywanych w `_wordsList`. To podejście zapewnia kontrolę nad modyfikacją listy `_wordsList` i jednocześnie pozwala na jej wykorzystanie i odczyt z innych komponentów w aplikacji."
   ]
  },
  {
   "cell_type": "markdown",
   "id": "ecdb2f0b-e588-4a35-a5ef-3644ad1cb1bd",
   "metadata": {},
   "source": [
    "### ListScreen"
   ]
  },
  {
   "cell_type": "markdown",
   "id": "83841b55-5ce2-469c-aa4b-a8c7ff15b9d7",
   "metadata": {},
   "source": [
    "Do layoutu dodamy jedno pole edytowalne, trzy przeciski oraz samą listę."
   ]
  },
  {
   "cell_type": "code",
   "execution_count": null,
   "id": "f3caff05-7e29-4f5c-a3fc-197019335548",
   "metadata": {},
   "outputs": [],
   "source": [
    "@OptIn(ExperimentalMaterial3Api::class)\n",
    "@Composable\n",
    "fun ListScreen(){\n",
    "    ...\n",
    "    Column(modifier = Modifier.padding(2.dp)) {\n",
    "        Row(\n",
    "            modifier = Modifier.fillMaxWidth(),\n",
    "            verticalAlignment = Alignment.CenterVertically\n",
    "        ) {\n",
    "            TextField(\n",
    "                ...\n",
    "            )\n",
    "\n",
    "            Button(\n",
    "                modifier = Modifier\n",
    "                    .weight(1f)\n",
    "                    .padding(start = 2.dp, end = 4.dp),\n",
    "                shape = RoundedCornerShape(8.dp),\n",
    "                onClick = {...}               }\n",
    "            ) {\n",
    "                Text(text = \"ADD\")\n",
    "            }\n",
    "        }\n",
    "\n",
    "        LazyColumn(modifier = Modifier.weight(1f)){\n",
    "            items(...){\n",
    "                Text(\n",
    "                    ...\n",
    "                )\n",
    "            }\n",
    "        }\n",
    "\n",
    "        Button(\n",
    "            modifier = Modifier\n",
    "                .fillMaxWidth()\n",
    "                .padding(start = 2.dp, end = 4.dp),\n",
    "            shape = RoundedCornerShape(8.dp),\n",
    "            onClick = { ... }\n",
    "        ) {\n",
    "            Text(text = \"CLEAR\")\n",
    "        }\n",
    "\n",
    "        Button(\n",
    "            modifier = Modifier\n",
    "                .fillMaxWidth()\n",
    "                .padding(start = 2.dp, end = 4.dp),\n",
    "            shape = RoundedCornerShape(8.dp),\n",
    "            onClick = { ... }\n",
    "        ) {\n",
    "            Text(text = \"RESET\")\n",
    "        }\n",
    "\n",
    "    }\n",
    "}"
   ]
  },
  {
   "cell_type": "markdown",
   "id": "19ebe9ee-b671-446c-ae18-d1f50eaaedc5",
   "metadata": {},
   "source": [
    "Będziemy potrzebować dwie wartości. Pierwsza przechowuje text pola edytowalnego."
   ]
  },
  {
   "cell_type": "code",
   "execution_count": null,
   "id": "be6988d7-9994-47b3-9fe1-32c0d34c1005",
   "metadata": {},
   "outputs": [],
   "source": [
    "var word by remember { mutableStateOf(\"\") }\n",
    "...\n",
    "            TextField(\n",
    "                modifier = Modifier.padding(start = 4.dp),\n",
    "                value = word,\n",
    "                onValueChange = {word = it},\n",
    "                label = {Text(\"New Word\")}\n",
    "            )\n",
    "..."
   ]
  },
  {
   "cell_type": "markdown",
   "id": "2e737d70-ab27-4e54-bdf1-50cea33b9c5f",
   "metadata": {},
   "source": [
    "Druga dahje nam dostęp do `ViewModel`"
   ]
  },
  {
   "cell_type": "code",
   "execution_count": null,
   "id": "c3de720e-44d6-49c2-b691-d6fd78e4ef8f",
   "metadata": {},
   "outputs": [],
   "source": [
    "val viewModel: WordViewModel = viewModel()"
   ]
  },
  {
   "cell_type": "markdown",
   "id": "07396f20-ee52-4c34-a834-db9dc00122d1",
   "metadata": {},
   "source": [
    "Funkcja `viewModel()` jest funkcją rozszerzającą w `Jetpack Compose`, która pochodzi z biblioteki *androidx.lifecycle.viewmodel.compose*. Służy do tworzenia instancji `ViewModel` powiązanego z komponentem `Compose`.\n",
    "\n",
    "Gdy jest wywoływana funkcja `viewModel()`, sprawdza ona kontekst `Compose`, w którym jest używana. Kontekst ten jest wymagany do poprawnego działania `ViewModel`. Następnie, na podstawie kontekstu, funkcja `viewModel()` tworzy i zwraca instancję `ViewModel`, która jest skojarzona z danym komponentem `Compose`.\n",
    "\n",
    "**kontekst** odnosi się do hierarchii danych i informacji, które są dostępne dla komponentów `Compose`. Zawiera różne informacje, takie jak dostawcy danych, ustawienia, stylizacje, stan itp., które są udostępniane komponentom i wpływają na ich wygląd i zachowanie. Kontekst jest reprezentowany przez typ `androidx.compose.runtime.CompositionLocalAmbient<T>`, gdzie `T` oznacza typ danych, które są dostępne w danym kontekście. \n",
    "\n",
    "Przykłady typów danych, które mogą być dostępne w kontekście:\n",
    "- `MaterialTheme` Kontekst dostarczający informacje o motywie, takie jak kolory, typografia itp., które są wykorzystywane przez komponenty interfejsu użytkownika.\n",
    "- `LocalConfiguration` Kontekst dostarczający informacje o konfiguracji urządzenia, takie jak język, orientacja ekranu, rozmiar ekranu itp., które mogą wpływać na wygląd i układ komponentów.\n",
    "- `LocalLifecycleOwner` Kontekst dostarczający informacje o cyklu życia komponentu, takie jak stan przyłączenia i odłączenia, które mogą być użyteczne podczas reagowania na zmiany cyklu życia, na przykład do uruchamiania i zatrzymywania animacji.\n",
    "- `LocalViewModel` Kontekst dostarczający `ViewModel` dla danego komponentu. Dzięki temu komponent może uzyskać do niego dostęp i wykorzystać go do przechowywania danych i logiki biznesowej.\n",
    "\n",
    "Kontekst ma kluczowe znaczenie, ponieważ umożliwia komunikację między komponentami, dostęp do wspólnych danych i informacji, a także wpływa na sposób renderowania komponentów."
   ]
  },
  {
   "cell_type": "markdown",
   "id": "d5773a9d-4a62-4f50-8ec4-d665edbb7c6c",
   "metadata": {},
   "source": [
    "Możemy dodać obsługę przycisków."
   ]
  },
  {
   "cell_type": "code",
   "execution_count": null,
   "id": "641cd3ae-e5db-4441-9403-11b7368d161c",
   "metadata": {},
   "outputs": [],
   "source": [
    "Button(\n",
    "    modifier = Modifier\n",
    "        .weight(1f)\n",
    "        .padding(start = 2.dp, end = 4.dp),\n",
    "    shape = RoundedCornerShape(8.dp),\n",
    "    onClick = {\n",
    "        if (word.isNotEmpty()) {\n",
    "            viewModel.addWord(word)\n",
    "        }\n",
    "    }\n",
    ") {\n",
    "    Text(text = \"ADD\")\n",
    "}"
   ]
  },
  {
   "cell_type": "code",
   "execution_count": null,
   "id": "e464b4cd-579a-48c6-b6b8-e897fc33f350",
   "metadata": {},
   "outputs": [],
   "source": [
    "Button(\n",
    "    modifier = Modifier\n",
    "        .fillMaxWidth()\n",
    "        .padding(start = 2.dp, end = 4.dp),\n",
    "    shape = RoundedCornerShape(8.dp),\n",
    "    onClick = { viewModel.clear() }\n",
    ") {\n",
    "    Text(text = \"CLEAR\")\n",
    "}"
   ]
  },
  {
   "cell_type": "code",
   "execution_count": null,
   "id": "3036d1d0-a4ee-47f8-b149-310ebbbe04b7",
   "metadata": {},
   "outputs": [],
   "source": [
    "Button(\n",
    "    modifier = Modifier\n",
    "        .fillMaxWidth()\n",
    "        .padding(start = 2.dp, end = 4.dp),\n",
    "    shape = RoundedCornerShape(8.dp),\n",
    "    onClick = { viewModel.reinitialize() }\n",
    ") {\n",
    "    Text(text = \"RESET\")\n",
    "}"
   ]
  },
  {
   "cell_type": "markdown",
   "id": "e978c195-e901-42a2-9374-1271fc2949b3",
   "metadata": {},
   "source": [
    "Na koniec dodajemy obsługę listy `LazyColumn`"
   ]
  },
  {
   "cell_type": "code",
   "execution_count": null,
   "id": "99b45343-e2cd-4dbf-a653-8de955e679f4",
   "metadata": {},
   "outputs": [],
   "source": [
    "LazyColumn(modifier = Modifier.weight(1f)){\n",
    "    items(viewModel.wordList.size){\n",
    "        Text(\n",
    "            text = viewModel.wordList[it],\n",
    "            fontSize = 32.sp,\n",
    "            textAlign = TextAlign.Center,\n",
    "            modifier = Modifier\n",
    "                .fillMaxWidth()\n",
    "                .padding(2.dp)\n",
    "        )\n",
    "    }\n",
    "}"
   ]
  },
  {
   "cell_type": "markdown",
   "id": "1dda1e65-9354-46c4-984b-d74535fcceab",
   "metadata": {},
   "source": [
    "Pełny kod `ListScreen.kt`"
   ]
  },
  {
   "cell_type": "code",
   "execution_count": null,
   "id": "3c2268a7-aac4-4eaa-a0df-6c834b1aa900",
   "metadata": {},
   "outputs": [],
   "source": [
    "@OptIn(ExperimentalMaterial3Api::class)\n",
    "@Composable\n",
    "fun ListScreen(){\n",
    "\n",
    "    var word by remember { mutableStateOf(\"\") }\n",
    "    val viewModel: WordViewModel = viewModel()\n",
    "\n",
    "    Column(modifier = Modifier.padding(2.dp)) {\n",
    "        Row(\n",
    "            modifier = Modifier.fillMaxWidth(),\n",
    "            verticalAlignment = Alignment.CenterVertically\n",
    "        ) {\n",
    "            TextField(\n",
    "                modifier = Modifier.padding(start = 4.dp),\n",
    "                value = word,\n",
    "                onValueChange = {word = it},\n",
    "                label = {Text(\"New Word\")}\n",
    "            )\n",
    "\n",
    "            Button(\n",
    "                modifier = Modifier\n",
    "                    .weight(1f)\n",
    "                    .padding(start = 2.dp, end = 4.dp),\n",
    "                shape = RoundedCornerShape(8.dp),\n",
    "                onClick = {\n",
    "                    if (word.isNotEmpty()) {\n",
    "                        viewModel.addWord(word)\n",
    "                    }\n",
    "                }\n",
    "            ) {\n",
    "                Text(text = \"ADD\")\n",
    "            }\n",
    "        }\n",
    "\n",
    "        LazyColumn(modifier = Modifier.weight(1f)){\n",
    "            items(viewModel.wordList.size){\n",
    "                Text(\n",
    "                    text = viewModel.wordList[it],\n",
    "                    fontSize = 32.sp,\n",
    "                    textAlign = TextAlign.Center,\n",
    "                    modifier = Modifier\n",
    "                        .fillMaxWidth()\n",
    "                        .padding(2.dp)\n",
    "                )\n",
    "            }\n",
    "        }\n",
    "\n",
    "        Button(\n",
    "            modifier = Modifier\n",
    "                .fillMaxWidth()\n",
    "                .padding(start = 2.dp, end = 4.dp),\n",
    "            shape = RoundedCornerShape(8.dp),\n",
    "            onClick = { viewModel.clear() }\n",
    "        ) {\n",
    "            Text(text = \"CLEAR\")\n",
    "        }\n",
    "\n",
    "        Button(\n",
    "            modifier = Modifier\n",
    "                .fillMaxWidth()\n",
    "                .padding(start = 2.dp, end = 4.dp),\n",
    "            shape = RoundedCornerShape(8.dp),\n",
    "            onClick = { viewModel.reinitialize() }\n",
    "        ) {\n",
    "            Text(text = \"RESET\")\n",
    "        }\n",
    "\n",
    "    }\n",
    "}"
   ]
  },
  {
   "cell_type": "markdown",
   "id": "85205b04-a20c-4f94-b499-5bd99e3e6ccf",
   "metadata": {},
   "source": [
    "Dodajmy jeszcze wywołanie `ListScreen` w aktywności głównej."
   ]
  },
  {
   "cell_type": "code",
   "execution_count": null,
   "id": "ae2106e2-92d4-4e6c-b139-da6b6dbee4b4",
   "metadata": {},
   "outputs": [],
   "source": [
    "class MainActivity : ComponentActivity() {\n",
    "    override fun onCreate(savedInstanceState: Bundle?) {\n",
    "        super.onCreate(savedInstanceState)\n",
    "        setContent {\n",
    "            ViewModelBasicsComposeTheme {\n",
    "                Surface(\n",
    "                    modifier = Modifier.fillMaxSize(),\n",
    "                    color = MaterialTheme.colorScheme.background\n",
    "                ) {\n",
    "                    ListScreen()\n",
    "                }\n",
    "            }\n",
    "        }\n",
    "    }\n",
    "}"
   ]
  },
  {
   "cell_type": "markdown",
   "id": "49637a65-c031-4477-b084-ea841ebbd227",
   "metadata": {},
   "source": [
    "Możemy przewtestować aplikację."
   ]
  },
  {
   "cell_type": "markdown",
   "id": "d84b2d69-97f3-422c-b1de-7afdd3d19f80",
   "metadata": {},
   "source": [
    "<img src=\"https://media1.giphy.com/media/v1.Y2lkPTc5MGI3NjExc3R4N24yeXNjbGJqNzh3MmRiMmQ0MjVjcWc3eHBmcng1cDBjeDJ6cSZlcD12MV9pbnRlcm5hbF9naWZfYnlfaWQmY3Q9Zw/seMioQznXL1jUqAXfR/giphy.gif\" width=\"200\" />"
   ]
  }
 ],
 "metadata": {
  "kernelspec": {
   "display_name": "Kotlin",
   "language": "kotlin",
   "name": "kotlin"
  },
  "language_info": {
   "codemirror_mode": "text/x-kotlin",
   "file_extension": ".kt",
   "mimetype": "text/x-kotlin",
   "name": "kotlin",
   "nbconvert_exporter": "",
   "pygments_lexer": "kotlin",
   "version": "1.8.0-RC"
  }
 },
 "nbformat": 4,
 "nbformat_minor": 5
}
