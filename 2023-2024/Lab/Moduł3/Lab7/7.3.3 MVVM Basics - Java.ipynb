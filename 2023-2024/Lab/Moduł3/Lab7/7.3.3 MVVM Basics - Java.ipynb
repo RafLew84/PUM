{
 "cells": [
  {
   "cell_type": "markdown",
   "id": "f3a05325-8d7d-4bb7-bda6-240248c234e8",
   "metadata": {},
   "source": [
    "# Model-View-ViewModel (MVVM) - Podstawy - Java"
   ]
  },
  {
   "cell_type": "markdown",
   "id": "9ff6d21c-c560-44ba-9928-4e7e1f949304",
   "metadata": {},
   "source": [
    "W tej aplikacji przyjrzymy się zastosowaniu architektury **MVVM**."
   ]
  },
  {
   "cell_type": "markdown",
   "id": "c561b047-9066-4cd3-8612-2db1b94853b0",
   "metadata": {},
   "source": [
    "<img src=\"https://media0.giphy.com/media/v1.Y2lkPTc5MGI3NjExdmllMXdiMmd0OW8wNGs3bXJucXJxYmNtZGpheGtueG5wbzZnZDduaCZlcD12MV9pbnRlcm5hbF9naWZfYnlfaWQmY3Q9Zw/ff1yWpIVOu1FqfQA3Q/giphy.gif\" width=\"200\" />"
   ]
  },
  {
   "cell_type": "markdown",
   "id": "fa7916b9-4cae-4ff6-80b4-bf63067ad032",
   "metadata": {},
   "source": [
    "**Model-View-ViewModel (MVVM)** to wzorzec architektoniczny stosowany w aplikacjach mobilnych (i nie tylko), który ma na celu oddzielenie logiki biznesowej od warstwy prezentacji.\n",
    "\n",
    "W MVVM występują trzy główne komponenty:\n",
    "- **Model** - Reprezentuje dane i logikę biznesową aplikacji. Model może zawierać struktury danych, metody dostępu do bazy danych, usługi sieciowe itp.\n",
    "- **View** - Odpowiada za prezentację interfejsu użytkownika (UI). Może to być np. widok, przyciski, pola tekstowe, komponenty, ekrany itp. \n",
    "- **ViewModel** - Pośredniczy między Modelem a Widokiem. ViewModel zawiera dane, które mają być wyświetlane w widoku oraz metody, które obsługują interakcje użytkownika. ViewModel nie jest bezpośrednio zależny od Widoku - jest odizolowany od konkretnego interfejsu użytkownika.\n",
    "\n",
    "Kilka korzyści wynikających z zastosowania wzorca MVVM:\n",
    "- **Separacja logiki biznesowej od warstwy prezentacji** - Dzięki MVVM można utrzymać czytelność i organizację kodu, ponieważ logika biznesowa jest oddzielona od kodu odpowiedzialnego za wygląd i interakcję z użytkownikiem.\n",
    "- **Testowalność** - Dzięki oddzieleniu ViewModelu od Widoku można łatwiej testować logikę biznesową, ponieważ ViewModel **nie jest bezpośrednio zależny** od interfejsu użytkownika. Można napisać testy jednostkowe dla ViewModelu, symulując różne scenariusze bez potrzeby uruchamiania całej aplikacji.\n",
    "- **Ponowne wykorzystanie kodu** Dzięki MVVM można łatwiej ponownie wykorzystywać ViewModel w różnych miejscach aplikacji. Na przykład, ten sam ViewModel może być używany w różnych ekranach, które mają podobne wymagania, ale różnią się układem i wyglądem.\n",
    "- **Łatwiejsze zarządzanie stanem** MVVM pomaga w zarządzaniu stanem aplikacji poprzez wprowadzenie jednokierunkowego przepływu danych. ViewModel dostarcza dane do Widoku, które je wyświetla, a wszelkie zmiany wprowadzane przez użytkownika są przekazywane z powrotem do ViewModelu.\n",
    "- **Szybsze budowanie aplikacji** - Elementy MVVM są niezależne. Zmiany w pojedynczym elemencie wymagają preezebudowania tylko tego elementu, przykładowo, zmiana w klasie `ViewModel` będzie wymagała przekompilowania tylko tej klasy, a nie całego projektu.\n",
    "- **Jednokierunkowy przepływ danych** - *Unidirectional data flow* (UDF) to wzorzec projektowy, w którym stan przepływa w dół, a zdarzenia przepływają w górę. Poprzez stosowanie jednokierunkowego przepływu danych, można odseparować komponenty odpowiedzialne za wyświetlanie stanu w interfejsie użytkownika od części aplikacji, które przechowują i zmieniają stan.\n",
    "\n",
    "<img src=\"https://manuelvivo.dev/assets/images/2022-06-01-viewmodel-events-antipatterns-1.png\" width=\"200\" />"
   ]
  },
  {
   "cell_type": "markdown",
   "id": "07d29101-4fd5-4d5b-b5d2-e2fedcec474b",
   "metadata": {},
   "source": [
    "Wszystkie elementy architektury znamy z poprzednich przykładów, teraz napiszemy prostą aplikację wyświetlającą imiona i nazwiska użytkowników, ktorzy będą przechowywani w liście. Wykorzystamy również *dummy data* do zainicjowania listy.\n",
    "\n",
    "### Model\n",
    "\n",
    "Rozpocznijmy od modelu."
   ]
  },
  {
   "cell_type": "code",
   "execution_count": null,
   "id": "343df923-2e85-4859-8769-11fac01dd8d8",
   "metadata": {},
   "outputs": [],
   "source": [
    "public class User {\n",
    "    private String firstName;\n",
    "    private String lastName;\n",
    "\n",
    "    public User(String firstName, String lastName) {\n",
    "        this.firstName = firstName;\n",
    "        this.lastName = lastName;\n",
    "    }\n",
    "\n",
    "    public String getFirstName() {\n",
    "        return firstName;\n",
    "    }\n",
    "\n",
    "    public void setFirstName(String firstName) {\n",
    "        this.firstName = firstName;\n",
    "    }\n",
    "\n",
    "    public String getLastName() {\n",
    "        return lastName;\n",
    "    }\n",
    "\n",
    "    public void setLastName(String lastName) {\n",
    "        this.lastName = lastName;\n",
    "    }\n",
    "\n",
    "    @Override\n",
    "    public boolean equals(Object o) {\n",
    "        if (this == o) return true;\n",
    "        if (o == null || getClass() != o.getClass()) return false;\n",
    "        User user = (User) o;\n",
    "        return Objects.equals(firstName, user.firstName) &&\n",
    "                Objects.equals(lastName, user.lastName);\n",
    "    }\n",
    "\n",
    "    @Override\n",
    "    public int hashCode() {\n",
    "        return Objects.hash(firstName, lastName);\n",
    "    }\n",
    "}\n"
   ]
  },
  {
   "cell_type": "markdown",
   "id": "cdd6cb86-adc9-4398-a44f-39ca071c2c01",
   "metadata": {},
   "source": [
    "Mamy klasę `User` z dwoma polami reprezentującymi imię i nazwisko. Dodajmy `DataProvider` z danymi inicjującymi."
   ]
  },
  {
   "cell_type": "code",
   "execution_count": null,
   "id": "150c094b-453a-461f-bfb9-a50b3c35b87f",
   "metadata": {},
   "outputs": [],
   "source": [
    "public final class DataProvider {\n",
    "\n",
    "    private DataProvider(){}\n",
    "    private static final List<String> firstNames = Arrays.asList(\n",
    "            \"Adam\", \"Ewa\", \"Jan\", \"Anna\", \"Piotr\", \"Maria\", \"Tomasz\", \"Małgorzata\", \"Krzysztof\", \"Alicja\",\n",
    "            \"Andrzej\", \"Joanna\", \"Michał\", \"Barbara\", \"Kamil\", \"Magdalena\", \"Robert\", \"Monika\", \"Mateusz\", \"Natalia\"\n",
    "    );\n",
    "\n",
    "    private static final List<String> lastNames = Arrays.asList(\n",
    "            \"Nowak\", \"Kowalski\", \"Wiśniewski\", \"Wójcik\", \"Kowalczyk\", \"Kamiński\", \"Lewandowski\", \"Zieliński\", \"Szymański\",\n",
    "            \"Woźniak\", \"Dąbrowski\", \"Kozłowski\", \"Jankowski\", \"Mazur\", \"Kwiatkowski\", \"Krawczyk\", \"Piotrowski\", \"Grabowski\",\n",
    "            \"Nowakowski\", \"Pawłowski\"\n",
    "    );\n",
    "\n",
    "    private static final Random random = new Random();\n",
    "\n",
    "    public static List<User> getUsers() {\n",
    "        return generateUsers(41);\n",
    "    }\n",
    "\n",
    "    private static List<User> generateUsers(int count) {\n",
    "        List<User> users = new ArrayList<>();\n",
    "        for (int i = 0; i < count; i++) {\n",
    "            String firstName = getRandomElement(firstNames);\n",
    "            String lastName = getRandomElement(lastNames);\n",
    "            User user = new User(firstName, lastName);\n",
    "            users.add(user);\n",
    "        }\n",
    "        return users;\n",
    "    }\n",
    "\n",
    "    private static String getRandomElement(List<String> list) {\n",
    "        int index = random.nextInt(list.size());\n",
    "        return list.get(index);\n",
    "    }\n",
    "}"
   ]
  },
  {
   "cell_type": "markdown",
   "id": "9aa7e713-b653-4c63-b5d9-7dc52305acaf",
   "metadata": {},
   "source": [
    "### ViewModel"
   ]
  },
  {
   "cell_type": "markdown",
   "id": "83e04529-2109-4e9a-9b84-7d226c206106",
   "metadata": {},
   "source": [
    "W klasie `UserViewModel` przechowujemy listę wszystkich użytkowników jako `MutableLiveData<List<User>>`.\n",
    "\n",
    "Tutaj napotykamy pewien problem, `MutableLiveData` przechowuje i daje możliwość obserwacji samej listy `List<User>`, ale nie jej elementów. Więc dodając nowy element chcemy utrworzyć nową listę i zastąpić tą przechowywaną w zmiennej `userList`."
   ]
  },
  {
   "cell_type": "code",
   "execution_count": null,
   "id": "c2bc11f9-52f6-4744-aef5-c987d4094724",
   "metadata": {},
   "outputs": [],
   "source": [
    "public class UserViewModel extends ViewModel {\n",
    "    private final MutableLiveData<List<User>> usersList = new MutableLiveData<>();\n",
    "    public LiveData<List<User>> getUsersList() {\n",
    "        return usersList;\n",
    "    }\n",
    "\n",
    "    public UserViewModel() {\n",
    "        reinitialize();\n",
    "    }\n",
    "\n",
    "    public void addUser(User user) {\n",
    "        if (usersList.getValue() != null) {\n",
    "            List<User> currentList = new ArrayList<>(usersList.getValue());\n",
    "            currentList.add(user);\n",
    "            currentList.sort(Comparator.comparing(User::getLastName));\n",
    "            usersList.setValue(currentList);\n",
    "        }\n",
    "    }\n",
    "\n",
    "    public void reinitialize() {\n",
    "        List<User> sortedUsers = new ArrayList<>(DataProvider.getUsers());\n",
    "        sortedUsers.sort((user1, user2) -> {\n",
    "            if (user1.equals(user2)) { return 0; }\n",
    "            int result = user1.getLastName().compareTo(user2.getLastName());\n",
    "            if (result == 0) {\n",
    "                return user1.getFirstName().compareTo(user2.getFirstName());\n",
    "            }\n",
    "            return result;\n",
    "        });\n",
    "        usersList.setValue(sortedUsers);\n",
    "    }\n",
    "\n",
    "    public void clear() {\n",
    "        usersList.setValue(Collections.emptyList());\n",
    "    }\n",
    "}\n"
   ]
  },
  {
   "cell_type": "markdown",
   "id": "f1666b31-9510-4271-9a37-29a85da5f241",
   "metadata": {},
   "source": [
    "- `private final MutableLiveData<List<User>> usersList = new MutableLiveData<>();` - lista użytkowników, do której można uzyskać dostęp tylko do odczytu.\n",
    "- `public void addUser(User user)` - Metoda służy do dodawania nowego użytkownika do listy. \n",
    "- `public void reinitialize()` - Metoda służy do zresetowania zawartości listy użytkowników do wartości domyślnych.\n",
    "- `public void clear()` - Metoda służy do wyczyszczenia całej listy użytkowników."
   ]
  },
  {
   "cell_type": "markdown",
   "id": "b652baae-9ca5-432a-a274-e3c498d05cad",
   "metadata": {},
   "source": [
    "### View"
   ]
  },
  {
   "cell_type": "markdown",
   "id": "5da03495-b254-457c-9587-935677dae4f0",
   "metadata": {},
   "source": [
    "Dodajmy `View` do aplikacji, czyli zdefiniujmy interfejs użytkownika. Dodajmy layouty dla aktywności, fragmentu oraz pojedynczego elementu listy."
   ]
  },
  {
   "cell_type": "code",
   "execution_count": null,
   "id": "48f43cb7-7702-43d0-878a-d6cb43a767a0",
   "metadata": {},
   "outputs": [],
   "source": [
    "<?xml version=\"1.0\" encoding=\"utf-8\"?>\n",
    "<androidx.constraintlayout.widget.ConstraintLayout xmlns:android=\"http://schemas.android.com/apk/res/android\"\n",
    "    xmlns:app=\"http://schemas.android.com/apk/res-auto\"\n",
    "    xmlns:tools=\"http://schemas.android.com/tools\"\n",
    "    android:layout_width=\"match_parent\"\n",
    "    android:layout_height=\"match_parent\"\n",
    "    tools:context=\".ui.MainActivity\">\n",
    "\n",
    "    <androidx.fragment.app.FragmentContainerView\n",
    "        android:id=\"@+id/fragment_main\"\n",
    "        android:name=\"com.example.mvvmbasicskotlin.ui.fragment.UsersFragment\"\n",
    "        android:layout_width=\"match_parent\"\n",
    "        android:layout_height=\"match_parent\"\n",
    "        app:layout_constraintBottom_toBottomOf=\"parent\"\n",
    "        app:layout_constraintEnd_toEndOf=\"parent\"\n",
    "        app:layout_constraintStart_toStartOf=\"parent\"\n",
    "        app:layout_constraintTop_toTopOf=\"parent\" />\n",
    "</androidx.constraintlayout.widget.ConstraintLayout>"
   ]
  },
  {
   "cell_type": "code",
   "execution_count": null,
   "id": "62aa21f9-b23e-4a56-9d7f-6e411b9decc8",
   "metadata": {},
   "outputs": [],
   "source": [
    "<?xml version=\"1.0\" encoding=\"utf-8\"?>\n",
    "<LinearLayout xmlns:android=\"http://schemas.android.com/apk/res/android\"\n",
    "    android:layout_width=\"match_parent\"\n",
    "    android:layout_height=\"match_parent\"\n",
    "    android:orientation=\"vertical\">\n",
    "\n",
    "    <LinearLayout\n",
    "        android:layout_width=\"match_parent\"\n",
    "        android:layout_height=\"wrap_content\"\n",
    "        android:orientation=\"horizontal\">\n",
    "\n",
    "        <LinearLayout\n",
    "            android:layout_width=\"0dp\"\n",
    "            android:layout_weight=\"1\"\n",
    "            android:layout_height=\"wrap_content\"\n",
    "            android:layout_margin=\"4dp\"\n",
    "            android:orientation=\"horizontal\">\n",
    "\n",
    "            <com.google.android.material.textfield.TextInputLayout\n",
    "                android:layout_width=\"match_parent\"\n",
    "                android:layout_height=\"wrap_content\"\n",
    "                android:hint=\"First Name\">\n",
    "\n",
    "                <com.google.android.material.textfield.TextInputEditText\n",
    "                    android:id=\"@+id/firstNameEditText\"\n",
    "                    android:layout_width=\"match_parent\"\n",
    "                    android:layout_height=\"wrap_content\"\n",
    "                    android:fontFamily=\"sans-serif\"\n",
    "                    android:textSize=\"15sp\" />\n",
    "            </com.google.android.material.textfield.TextInputLayout>\n",
    "        </LinearLayout>\n",
    "\n",
    "        <LinearLayout\n",
    "            android:layout_width=\"0dp\"\n",
    "            android:layout_weight=\"1\"\n",
    "            android:layout_height=\"wrap_content\"\n",
    "            android:layout_margin=\"4dp\"\n",
    "            android:orientation=\"horizontal\">\n",
    "\n",
    "            <com.google.android.material.textfield.TextInputLayout\n",
    "                android:layout_width=\"match_parent\"\n",
    "                android:layout_height=\"wrap_content\"\n",
    "                android:hint=\"Last Name\">\n",
    "\n",
    "                <com.google.android.material.textfield.TextInputEditText\n",
    "                    android:id=\"@+id/lastNameEditText\"\n",
    "                    android:layout_width=\"match_parent\"\n",
    "                    android:layout_height=\"wrap_content\"\n",
    "                    android:fontFamily=\"sans-serif\"\n",
    "                    android:textSize=\"15sp\" />\n",
    "            </com.google.android.material.textfield.TextInputLayout>\n",
    "        </LinearLayout>\n",
    "\n",
    "        <Button\n",
    "            android:id=\"@+id/addButton\"\n",
    "            android:layout_width=\"wrap_content\"\n",
    "            android:layout_gravity=\"center\"\n",
    "            android:text=\"ADD\"\n",
    "            android:layout_margin=\"4dp\"\n",
    "            android:layout_height=\"wrap_content\"/>\n",
    "    </LinearLayout>\n",
    "\n",
    "    <androidx.recyclerview.widget.RecyclerView\n",
    "        android:id=\"@+id/rvList\"\n",
    "        android:layout_width=\"match_parent\"\n",
    "        android:layout_height=\"0dp\"\n",
    "        android:layout_weight=\"1\"\n",
    "        android:layout_margin=\"4dp\"/>\n",
    "\n",
    "    <Button\n",
    "        android:id=\"@+id/clearButton\"\n",
    "        android:layout_width=\"match_parent\"\n",
    "        android:layout_gravity=\"center\"\n",
    "        android:layout_marginStart=\"8dp\"\n",
    "        android:layout_marginEnd=\"8dp\"\n",
    "        android:text=\"CLEAR\"\n",
    "        android:layout_height=\"wrap_content\"/>\n",
    "\n",
    "    <Button\n",
    "        android:id=\"@+id/resetButton\"\n",
    "        android:layout_width=\"match_parent\"\n",
    "        android:layout_gravity=\"center\"\n",
    "        android:layout_marginStart=\"8dp\"\n",
    "        android:layout_marginEnd=\"8dp\"\n",
    "        android:layout_marginBottom=\"8dp\"\n",
    "        android:text=\"RESET\"\n",
    "        android:layout_height=\"wrap_content\"/>\n",
    "\n",
    "</LinearLayout>"
   ]
  },
  {
   "cell_type": "code",
   "execution_count": null,
   "id": "933aa4c5-a8da-4f84-9146-7d0a3944b3f7",
   "metadata": {},
   "outputs": [],
   "source": [
    "<?xml version=\"1.0\" encoding=\"utf-8\"?>\n",
    "<LinearLayout xmlns:android=\"http://schemas.android.com/apk/res/android\"\n",
    "    xmlns:app=\"http://schemas.android.com/apk/res-auto\"\n",
    "    android:layout_width=\"match_parent\"\n",
    "    android:layout_height=\"wrap_content\"\n",
    "    android:orientation=\"horizontal\">\n",
    "\n",
    "    <TextView\n",
    "        android:id=\"@+id/wordTextView\"\n",
    "        android:layout_width=\"0dp\"\n",
    "        android:layout_weight=\"1\"\n",
    "        android:layout_height=\"wrap_content\"\n",
    "        android:layout_margin=\"4dp\"\n",
    "        android:text=\"slowo\"\n",
    "        android:textAlignment=\"center\"\n",
    "        android:layout_marginStart=\"8dp\"\n",
    "        android:textSize=\"24sp\" />\n",
    "\n",
    "</LinearLayout>"
   ]
  },
  {
   "cell_type": "markdown",
   "id": "81366f41-0a55-4b6b-ae4c-3c060a4d546c",
   "metadata": {},
   "source": [
    "Zaimplementujmy elementy `RecyclerView`"
   ]
  },
  {
   "cell_type": "code",
   "execution_count": null,
   "id": "16fda77e-3078-418e-b705-f89b00508990",
   "metadata": {},
   "outputs": [],
   "source": [
    "public class UserViewHolder extends RecyclerView.ViewHolder {\n",
    "    private RvItemBinding binding;\n",
    "\n",
    "    public UserViewHolder(RvItemBinding binding) {\n",
    "        super(binding.getRoot());\n",
    "        this.binding = binding;\n",
    "    }\n",
    "\n",
    "    public void bind(User item) {\n",
    "        String fullName = item.getFirstName() + \" \" + item.getLastName();\n",
    "        binding.wordTextView.setText(fullName);\n",
    "    }\n",
    "}"
   ]
  },
  {
   "cell_type": "code",
   "execution_count": null,
   "id": "2563db12-ab1b-42f2-8868-dc53904af7ed",
   "metadata": {},
   "outputs": [],
   "source": [
    "public class UserComparator extends DiffUtil.ItemCallback<User> {\n",
    "    @Override\n",
    "    public boolean areItemsTheSame(@NonNull User oldItem, @NonNull User newItem) {\n",
    "        return oldItem == newItem;\n",
    "    }\n",
    "\n",
    "    @Override\n",
    "    public boolean areContentsTheSame(User oldItem, @NonNull User newItem) {\n",
    "        return oldItem.equals(newItem);\n",
    "    }\n",
    "}"
   ]
  },
  {
   "cell_type": "code",
   "execution_count": null,
   "id": "b7f53ebc-5040-49bd-b558-5cb5be8386c9",
   "metadata": {},
   "outputs": [],
   "source": [
    "public class UserAdapter extends ListAdapter<User, UserViewHolder> {\n",
    "    public UserAdapter(@NonNull DiffUtil.ItemCallback<User> diffCallback) {\n",
    "        super(diffCallback);\n",
    "    }\n",
    "\n",
    "    @NonNull\n",
    "    @Override\n",
    "    public UserViewHolder onCreateViewHolder(@NonNull ViewGroup parent, int viewType) {\n",
    "        LayoutInflater inflater = LayoutInflater.from(parent.getContext());\n",
    "        RvItemBinding binding = RvItemBinding.inflate(inflater, parent, false);\n",
    "        return new UserViewHolder(binding);\n",
    "    }\n",
    "\n",
    "    @Override\n",
    "    public void onBindViewHolder(@NonNull UserViewHolder holder, int position) {\n",
    "        User item = getItem(position);\n",
    "        holder.bind(item);\n",
    "    }\n",
    "}"
   ]
  },
  {
   "cell_type": "markdown",
   "id": "1c971c4c-c456-42eb-ae0a-906c1cbc324c",
   "metadata": {},
   "source": [
    "Następnie przejdźmy do `UsersFraggment`"
   ]
  },
  {
   "cell_type": "markdown",
   "id": "a435de80-2eee-4dca-8c28-50c67c05a862",
   "metadata": {},
   "source": [
    "Potrzebujemy dwie wartości przechowujące instancję `UserViewModel` oraz `UserAdapter`"
   ]
  },
  {
   "cell_type": "code",
   "execution_count": null,
   "id": "ce7b221e-5704-4889-89b4-ba10c152a41c",
   "metadata": {},
   "outputs": [],
   "source": [
    "private UserViewModel viewModel;\n",
    "private UserAdapter userAdapter;"
   ]
  },
  {
   "cell_type": "markdown",
   "id": "6c6a92ea-9f76-4077-9d6d-7e6f965bdbc5",
   "metadata": {},
   "source": [
    "Zainicjujmy je w metodzie `OnCreateView`"
   ]
  },
  {
   "cell_type": "code",
   "execution_count": null,
   "id": "8830165d-16a5-424e-9acb-35f5eb3a8636",
   "metadata": {},
   "outputs": [],
   "source": [
    "viewModel = new ViewModelProvider(this).get(UserViewModel.class);\n",
    "userAdapter = new UserAdapter(new UserComparator());"
   ]
  },
  {
   "cell_type": "markdown",
   "id": "6236a0b5-a93c-4714-91b5-e17ef16ce40f",
   "metadata": {},
   "source": [
    "Dodajmy fragment jako obserwator, oraz podepnijmy odpowiednie metody do elementów layoutu."
   ]
  },
  {
   "cell_type": "code",
   "execution_count": null,
   "id": "fbbd1540-e4f5-4052-91f8-84672ddc4201",
   "metadata": {},
   "outputs": [],
   "source": [
    "@Override\n",
    "public View onCreateView(LayoutInflater inflater, ViewGroup container, Bundle savedInstanceState) {\n",
    "    binding = FragmentUsersBinding.inflate(inflater, container, false);\n",
    "\n",
    "    viewModel = new ViewModelProvider(this).get(UserViewModel.class);\n",
    "    userAdapter = new UserAdapter(new UserComparator());\n",
    "\n",
    "    viewModel.getUsersList().observe(getViewLifecycleOwner(), users -> userAdapter.submitList(new ArrayList<>(users)));\n",
    "\n",
    "    binding.rvList.setAdapter(userAdapter);\n",
    "    binding.rvList.setLayoutManager(new LinearLayoutManager(requireContext()));\n",
    "\n",
    "    binding.addButton.setOnClickListener(v -> onAddUser());\n",
    "    binding.resetButton.setOnClickListener(v -> onResetUsers());\n",
    "    binding.clearButton.setOnClickListener(v -> onClearUsers());\n",
    "\n",
    "    return binding.getRoot();\n",
    "}"
   ]
  },
  {
   "cell_type": "markdown",
   "id": "ae395aec-b22f-47ec-a19d-67c51eddbd98",
   "metadata": {},
   "source": [
    "`viewModel.getUsersList().observe(getViewLifecycleOwner(), users -> ...);` - Ta linia kodu używa metody `observe` na polu `usersList` z klasy `UserViewModel`. Umożliwia ona reagowanie na zmiany w liście użytkowników. `viewLifecycleOwner` wskazuje, że obserwator będzie aktywny w cyklu życia fragmentu. W bloku lambdy ` users -> ... ` następuje reakcja na zmiany w liście - przekazuje ona nową listę użytkowników do `userAdapter`."
   ]
  },
  {
   "cell_type": "markdown",
   "id": "e2244e3b-8382-49b6-9f70-93c6679ac2f7",
   "metadata": {},
   "source": [
    "Następnie dodajmy metody obsługujące dodanie nowego użytkownika, czyszczenie i reinicjalizację danych."
   ]
  },
  {
   "cell_type": "code",
   "execution_count": null,
   "id": "7ac75406-222e-4d8b-8bb5-0691443bf8db",
   "metadata": {},
   "outputs": [],
   "source": [
    "private void onAddUser() {\n",
    "    if (binding.firstNameEditText.getText() != null && binding.lastNameEditText.getText() != null) {\n",
    "        String firstName = binding.firstNameEditText.getText().toString().trim();\n",
    "        String lastName = binding.lastNameEditText.getText().toString().trim();\n",
    "\n",
    "        if (!firstName.isEmpty() && !lastName.isEmpty()) { // sprawdzam czy pola nie są puste\n",
    "            User newUser = new User(firstName, lastName);  // tworzę nowego użytkownika\n",
    "            viewModel.addUser(newUser);                    // dodaję użytkownika do listy\n",
    "\n",
    "            binding.firstNameEditText.getText().clear();   // czyszczę listę\n",
    "            binding.lastNameEditText.getText().clear();\n",
    "        }\n",
    "    }\n",
    "}\n",
    "\n",
    "private void onResetUsers() {\n",
    "    viewModel.reinitialize();\n",
    "}\n",
    "\n",
    "private void onClearUsers() {\n",
    "    viewModel.clear();\n",
    "}"
   ]
  },
  {
   "cell_type": "markdown",
   "id": "45b4a0f5-5ca6-4836-a2d4-ca0dad4bd70c",
   "metadata": {},
   "source": [
    "Możemy przetestować aplikację."
   ]
  },
  {
   "cell_type": "markdown",
   "id": "70b7b0ea-20e1-441f-bc76-f29d9a860bb9",
   "metadata": {},
   "source": [
    "<img src=\"https://media0.giphy.com/media/v1.Y2lkPTc5MGI3NjExdmllMXdiMmd0OW8wNGs3bXJucXJxYmNtZGpheGtueG5wbzZnZDduaCZlcD12MV9pbnRlcm5hbF9naWZfYnlfaWQmY3Q9Zw/ff1yWpIVOu1FqfQA3Q/giphy.gif\" width=\"200\" />"
   ]
  }
 ],
 "metadata": {
  "kernelspec": {
   "display_name": "Kotlin",
   "language": "kotlin",
   "name": "kotlin"
  },
  "language_info": {
   "codemirror_mode": "text/x-kotlin",
   "file_extension": ".kt",
   "mimetype": "text/x-kotlin",
   "name": "kotlin",
   "nbconvert_exporter": "",
   "pygments_lexer": "kotlin",
   "version": "1.8.0-RC"
  }
 },
 "nbformat": 4,
 "nbformat_minor": 5
}
