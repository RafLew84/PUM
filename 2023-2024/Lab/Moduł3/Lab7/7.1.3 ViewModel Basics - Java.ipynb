{
 "cells": [
  {
   "cell_type": "markdown",
   "id": "40043ec7-0102-4bbe-9bfc-ae8176ffd2ad",
   "metadata": {},
   "source": [
    "# ViewModel - Podstawy"
   ]
  },
  {
   "cell_type": "markdown",
   "id": "fee1e424-a688-473c-9728-b9e6108f7c5e",
   "metadata": {},
   "source": [
    "W tej aplikacji przyjrzymy się zastosowaniu `ViewModel` - części architektury **MVVM**."
   ]
  },
  {
   "cell_type": "markdown",
   "id": "1625db00-f7bc-47ef-8324-a473d3ed7e93",
   "metadata": {},
   "source": [
    "<img src=\"https://media1.giphy.com/media/v1.Y2lkPTc5MGI3NjExc3R4N24yeXNjbGJqNzh3MmRiMmQ0MjVjcWc3eHBmcng1cDBjeDJ6cSZlcD12MV9pbnRlcm5hbF9naWZfYnlfaWQmY3Q9Zw/seMioQznXL1jUqAXfR/giphy.gif\" width=\"200\" />"
   ]
  },
  {
   "cell_type": "markdown",
   "id": "4b51ede0-17e5-4d94-90a1-f222544efe77",
   "metadata": {},
   "source": [
    "`ViewModel` to wzorzec projektowy stosowany w programowaniu, szczególnie w kontekście tworzenia aplikacji z interfejsem użytkownika. Celem `ViewModel` jest oddzielenie logiki biznesowej aplikacji od jej warstwy prezentacji.\n",
    "\n",
    "Logika biznesowa odnosi się do części aplikacji, która zajmuje się przetwarzaniem danych, ustalaniem reguł i wykonywaniem operacji związanych z konkretnym obszarem działalności aplikacji. Może to obejmować obliczenia, walidację danych, manipulację danymi, wykonywanie operacji na bazie danych itp. Logika biznesowa reprezentuje zasady i procesy, które są istotne dla funkcjonowania danej aplikacji.\n",
    "\n",
    "Warstwa prezentacji to część aplikacji, która odpowiada za interakcję z użytkownikiem i wyświetlanie danych na ekranie. Warstwa prezentacji obejmuje interfejsy użytkownika. Jej głównym celem jest prezentowanie danych i umożliwienie użytkownikowi interakcji z aplikacją.\n",
    "\n",
    "`ViewModel` przechowuje informacje i stan związane z widokiem, czyli tym, co użytkownik widzi na ekranie. Jeśli mamy aplikację z listą kontaktów, to `ViewModel` przechowuje kontakty i dostarcza je do interfejsu użytkownika w formie, w której mogą być wyświetlone. Udostępnia metody i właściwości, które pozwalają na manipulację danymi, na przykład dodawanie, usuwanie lub aktualizowanie kontaktów. Kiedy użytkownik wykonuje akcję, na przykład naciska przycisk, interakcja ta jest obsługiwana przez `ViewModel`, który następnie dokonuje odpowiednich zmian w danych i informuje interfejs użytkownika o konieczności zaktualizowania wyświetlanych informacji.\n",
    "\n",
    "`ViewModel` nie jest bezpośrednio zależny od interfejsu użytkownika. Dzięki temu można go łatwo przetestować i ponownie wykorzystać w innych częściach aplikacji. Jest to również korzystne w przypadku, gdy aplikacja ma różne interfejsy użytkownika, na przykład dla różnych platform."
   ]
  },
  {
   "cell_type": "markdown",
   "id": "d68379b8-ede7-47ff-be02-9d91cb8ac8e0",
   "metadata": {},
   "source": [
    "W tej aplikacji będziemy wyświetlać i modyfikować listę słów.\n",
    "\n",
    "Aby wykorzystać `ViewModel` musimy dodać odpowiednią zależność\n",
    "\n",
    "```kotlin\n",
    "implementation \"androidx.lifecycle:lifecycle-viewmodel:2.5.1\"\n",
    "```\n",
    "\n",
    "W pierwszym kroku dodajmy *dummy data* dla aplikacji - listę słów, którymi wypełnimy listę."
   ]
  },
  {
   "cell_type": "code",
   "execution_count": null,
   "id": "9ba02717-4346-4b0f-82ea-66e48ef91f3f",
   "metadata": {},
   "outputs": [],
   "source": [
    "public final class DataProvider {\n",
    "    private DataProvider(){}\n",
    "\n",
    "    private static String[] words = {\n",
    "            \"piłka\",\n",
    "            \"książka\",\n",
    "            \"szklanka\",\n",
    "            \"woda\",\n",
    "            \"butelka\",\n",
    "            \"telefon\",\n",
    "            \"komputer\",\n",
    "            \"telewizor\",\n",
    "            \"samochód\",\n",
    "            \"motocykl\",\n",
    "            \"rower\",\n",
    "            \"drzwi\",\n",
    "            \"okno\",\n",
    "            \"telewizja\",\n",
    "            \"radio\",\n",
    "            \"kurtka\",\n",
    "            \"spodnie\",\n",
    "            \"koszula\",\n",
    "            \"bluza\",\n",
    "            \"rękawiczki\",\n",
    "            \"kapelusz\",\n",
    "            \"biurko\",\n",
    "            \"krzesło\",\n",
    "            \"łóżko\",\n",
    "            \"koc\",\n",
    "            \"poduszka\",\n",
    "            \"kosz\",\n",
    "            \"worek\",\n",
    "            \"buty\",\n",
    "            \"skarpety\",\n",
    "            \"spódnica\",\n",
    "            \"sukienka\",\n",
    "            \"garnitur\",\n",
    "            \"krawat\",\n",
    "            \"suknia\",\n",
    "            \"torebka\",\n",
    "            \"plecak\",\n",
    "            \"długopis\",\n",
    "            \"ołówek\",\n",
    "            \"zeszyt\",\n",
    "            \"notes\",\n",
    "            \"farby\",\n",
    "            \"pędzel\",\n",
    "            \"papier\",\n",
    "            \"flamastry\",\n",
    "            \"klej\",\n",
    "            \"nożyczki\",\n",
    "            \"kompass\",\n",
    "            \"globus\",\n",
    "            \"aparat\",\n",
    "            \"obiektyw\",\n",
    "            \"filmy\",\n",
    "            \"muzyka\",\n",
    "            \"dźwięk\",\n",
    "            \"obraz\",\n",
    "            \"malowanie\",\n",
    "            \"rzeźba\",\n",
    "            \"wiersz\",\n",
    "            \"poezja\",\n",
    "            \"muzykowanie\",\n",
    "            \"taniec\",\n",
    "            \"śpiew\",\n",
    "            \"opera\",\n",
    "            \"teatr\",\n",
    "            \"film\",\n",
    "            \"komedia\",\n",
    "            \"dramat\",\n",
    "            \"horror\",\n",
    "            \"thriller\",\n",
    "            \"romans\",\n",
    "            \"fantasy\",\n",
    "            \"przygoda\",\n",
    "            \"natura\",\n",
    "            \"las\",\n",
    "            \"góry\",\n",
    "            \"morze\",\n",
    "            \"rzeka\",\n",
    "            \"jezioro\",\n",
    "            \"kwiaty\",\n",
    "            \"trawa\",\n",
    "            \"drzewa\",\n",
    "            \"ptaki\",\n",
    "            \"zwierzęta\",\n",
    "            \"kot\",\n",
    "            \"pies\",\n",
    "            \"konie\",\n",
    "            \"wilk\",\n",
    "            \"lew\",\n",
    "            \"tygrys\",\n",
    "            \"ptak\",\n",
    "            \"ryba\",\n",
    "            \"żaba\",\n",
    "            \"jeż\",\n",
    "            \"żyrafa\",\n",
    "            \"słoń\",\n",
    "            \"panda\",\n",
    "            \"krokodyl\",\n",
    "            \"wieloryb\",\n",
    "            \"owady\",\n",
    "            \"motyl\",\n",
    "            \"mrówka\",\n",
    "            \"pszczoła\",\n",
    "            \"pająk\",\n",
    "            \"chrząszcz\",\n",
    "            \"żuk\",\n",
    "            \"żmija\",\n",
    "            \"żółw\",\n",
    "            \"żubr\",\n",
    "            \"człowiek\",\n",
    "            \"dziecko\",\n",
    "            \"rodzina\",\n",
    "            \"miłość\",\n",
    "            \"przyjaźń\",\n",
    "            \"szkoła\",\n",
    "            \"nauczyciel\",\n",
    "            \"uczeń\",\n",
    "            \"edukacja\",\n",
    "            \"nauka\",\n",
    "            \"matematyka\",\n",
    "            \"język\",\n",
    "            \"historia\",\n",
    "            \"geografia\",\n",
    "            \"biologia\",\n",
    "            \"chemia\",\n",
    "            \"fizyka\",\n",
    "            \"literatura\",\n",
    "            \"sztuka\",\n",
    "            \"religia\",\n",
    "            \"sport\",\n",
    "            \"piłka nożna\",\n",
    "            \"koszykówka\",\n",
    "            \"siatkówka\",\n",
    "            \"pływanie\",\n",
    "            \"bieganie\"\n",
    "    };\n",
    "\n",
    "    public static ArrayList<String> allWordsList = new ArrayList<>(Arrays.asList(words));\n",
    "}\n"
   ]
  },
  {
   "cell_type": "markdown",
   "id": "d7e3055a-961e-44c4-95b5-3079b53d6dfe",
   "metadata": {},
   "source": [
    "### Layout"
   ]
  },
  {
   "cell_type": "markdown",
   "id": "2dbca9ab-104f-4c65-9e0c-1bc4c6c4bcc9",
   "metadata": {},
   "source": [
    "Dodajmy layout aktywności głównej, aplikacja posiada jeden ekran, więc nie będziemy korzystać z nawigacji. Dodamy `ListFragment` bezpośrednio do aktywności."
   ]
  },
  {
   "cell_type": "code",
   "execution_count": null,
   "id": "3d281891-7354-4036-b5e6-49fb91567565",
   "metadata": {},
   "outputs": [],
   "source": [
    "<?xml version=\"1.0\" encoding=\"utf-8\"?>\n",
    "<androidx.constraintlayout.widget.ConstraintLayout xmlns:android=\"http://schemas.android.com/apk/res/android\"\n",
    "    xmlns:app=\"http://schemas.android.com/apk/res-auto\"\n",
    "    xmlns:tools=\"http://schemas.android.com/tools\"\n",
    "    android:layout_width=\"match_parent\"\n",
    "    android:layout_height=\"match_parent\"\n",
    "    tools:context=\".ui.MainActivity\">\n",
    "\n",
    "    <androidx.fragment.app.FragmentContainerView\n",
    "        android:id=\"@+id/fragment_main\"\n",
    "        android:name=\"com.example.viewmodelbasics_kotlin.ui.fragment.ListFragment\"\n",
    "        android:layout_width=\"match_parent\"\n",
    "        android:layout_height=\"match_parent\"\n",
    "        app:layout_constraintBottom_toBottomOf=\"parent\"\n",
    "        app:layout_constraintEnd_toEndOf=\"parent\"\n",
    "        app:layout_constraintStart_toStartOf=\"parent\"\n",
    "        app:layout_constraintTop_toTopOf=\"parent\" />\n",
    "</androidx.constraintlayout.widget.ConstraintLayout>"
   ]
  },
  {
   "cell_type": "markdown",
   "id": "a5f95ce8-6d91-4d85-949e-57432419d56e",
   "metadata": {},
   "source": [
    "Nastęnie dodajmy layout fragmentu z trzema przyciskami, polem edytowalnym oraz `RecyclerView`"
   ]
  },
  {
   "cell_type": "code",
   "execution_count": null,
   "id": "58ed5829-5800-4941-a614-32f59ad25615",
   "metadata": {},
   "outputs": [],
   "source": [
    "<?xml version=\"1.0\" encoding=\"utf-8\"?>\n",
    "<LinearLayout xmlns:android=\"http://schemas.android.com/apk/res/android\"\n",
    "    android:layout_width=\"match_parent\"\n",
    "    android:layout_height=\"match_parent\"\n",
    "    android:orientation=\"vertical\">\n",
    "\n",
    "    <LinearLayout\n",
    "        android:layout_width=\"match_parent\"\n",
    "        android:layout_height=\"wrap_content\"\n",
    "        android:orientation=\"horizontal\">\n",
    "\n",
    "        <LinearLayout\n",
    "            android:layout_width=\"0dp\"\n",
    "            android:layout_weight=\"1\"\n",
    "            android:layout_height=\"wrap_content\"\n",
    "            android:layout_margin=\"4dp\"\n",
    "            android:orientation=\"horizontal\">\n",
    "\n",
    "            <com.google.android.material.textfield.TextInputLayout\n",
    "                android:layout_width=\"match_parent\"\n",
    "                android:layout_height=\"wrap_content\"\n",
    "                android:hint=\"Word\">\n",
    "\n",
    "                <com.google.android.material.textfield.TextInputEditText\n",
    "                    android:id=\"@+id/wordEditText\"\n",
    "                    android:layout_width=\"match_parent\"\n",
    "                    android:layout_height=\"wrap_content\"\n",
    "                    android:fontFamily=\"sans-serif\"\n",
    "                    android:textSize=\"15sp\" />\n",
    "            </com.google.android.material.textfield.TextInputLayout>\n",
    "        </LinearLayout>\n",
    "\n",
    "        <Button\n",
    "            android:id=\"@+id/addButton\"\n",
    "            android:layout_width=\"wrap_content\"\n",
    "            android:layout_gravity=\"center\"\n",
    "            android:text=\"ADD\"\n",
    "            android:layout_margin=\"4dp\"\n",
    "            android:layout_height=\"wrap_content\"/>\n",
    "    </LinearLayout>\n",
    "\n",
    "    <androidx.recyclerview.widget.RecyclerView\n",
    "        android:id=\"@+id/rvList\"\n",
    "        android:layout_width=\"match_parent\"\n",
    "        android:layout_height=\"0dp\"\n",
    "        android:layout_weight=\"1\"\n",
    "        android:layout_margin=\"4dp\"/>\n",
    "\n",
    "    <Button\n",
    "        android:id=\"@+id/clearButton\"\n",
    "        android:layout_width=\"match_parent\"\n",
    "        android:layout_gravity=\"center\"\n",
    "        android:layout_marginStart=\"8dp\"\n",
    "        android:layout_marginEnd=\"8dp\"\n",
    "        android:text=\"CLEAR\"\n",
    "        android:layout_height=\"wrap_content\"/>\n",
    "\n",
    "    <Button\n",
    "        android:id=\"@+id/resetButton\"\n",
    "        android:layout_width=\"match_parent\"\n",
    "        android:layout_gravity=\"center\"\n",
    "        android:layout_marginStart=\"8dp\"\n",
    "        android:layout_marginEnd=\"8dp\"\n",
    "        android:layout_marginBottom=\"8dp\"\n",
    "        android:text=\"RESET\"\n",
    "        android:layout_height=\"wrap_content\"/>\n",
    "\n",
    "</LinearLayout>"
   ]
  },
  {
   "cell_type": "markdown",
   "id": "26771ff4-624c-4f9b-8793-3f626836d6fe",
   "metadata": {},
   "source": [
    "Ostatnim elementem layoutu jest definicja pojedynczego elementu listy"
   ]
  },
  {
   "cell_type": "code",
   "execution_count": null,
   "id": "d4cb2818-9d57-4f8b-b491-a657b5aed581",
   "metadata": {},
   "outputs": [],
   "source": [
    "<?xml version=\"1.0\" encoding=\"utf-8\"?>\n",
    "<LinearLayout xmlns:android=\"http://schemas.android.com/apk/res/android\"\n",
    "    xmlns:app=\"http://schemas.android.com/apk/res-auto\"\n",
    "    android:layout_width=\"match_parent\"\n",
    "    android:layout_height=\"wrap_content\"\n",
    "    android:orientation=\"horizontal\">\n",
    "\n",
    "    <TextView\n",
    "        android:id=\"@+id/wordTextView\"\n",
    "        android:layout_width=\"0dp\"\n",
    "        android:layout_weight=\"1\"\n",
    "        android:layout_height=\"wrap_content\"\n",
    "        android:layout_margin=\"4dp\"\n",
    "        android:text=\"slowo\"\n",
    "        android:textAlignment=\"center\"\n",
    "        android:layout_marginStart=\"8dp\"\n",
    "        android:textSize=\"24sp\" />\n",
    "\n",
    "</LinearLayout>"
   ]
  },
  {
   "cell_type": "markdown",
   "id": "f42e0d04-1a5f-4eb3-a431-1f9d1293056c",
   "metadata": {},
   "source": [
    "### ViewModel"
   ]
  },
  {
   "cell_type": "markdown",
   "id": "3432beb4-0174-4f1b-9b1a-aa6c02c79ca2",
   "metadata": {},
   "source": [
    "Dodajmy klasę `WordViewModel` do aplikacji."
   ]
  },
  {
   "cell_type": "markdown",
   "id": "bd9176ae-19a8-4409-82a7-3bdfd8724ac6",
   "metadata": {},
   "source": [
    "Klasa `WordViewModel` rozszerza klasę `ViewModel`, zapewnia ona obsługę **cyklu życia**, co oznacza, że może reagować na zdarzenia takie jak utworzenie, zmiana i zniszczenie komponentów interfejsu użytkownika. Na przykład, może zaktualizować dane po otrzymaniu nowych informacji lub zwolnić zasoby po zniszczeniu komponentu. Może automatycznie odświeżać dane po otrzymaniu nowych informacji lub zwalniać zasoby po zniszczeniu `Composable`.\n",
    "\n",
    "`ViewModel` reaguje na zmiany cyklu życia poprzez dostarczanie specjalnych metod, które są wywoływane w odpowiednich momentach cyklu życia komponentów interfejsu użytkownika. Przykładowo, metoda `onCleared()` jest wywoływana, gdy komponent interfejsu użytkownika, który korzysta z `ViewModelu`, jest niszczony. Może to mieć miejsce, gdy aktywność jest zamykana lub fragment jest usuwany. `ViewModel` może wykorzystać tę metodę do zwalniania zasobów, np. zamknięcia połączenia do bazy danych, anulowania żądań sieciowych itp. \n",
    "\n",
    "W przypadku, gdy `ViewModel` jest używany przez fragment, może zareagować na moment, gdy jest dołączany do fragmentu, za pomocą metody `onViewModelAttached()`. Może to być przydatne, gdy potrzebuje on dostępu do kontekstu fragmentu lub innych zasobów specyficznych dla tego fragmentu.\n",
    "\n",
    "Metody `onCleared()`, `onViewModelAttached()` (i inne) są wywoływane automatycznie przez system Android w odpowiednich momentach cyklu życia komponentów. Pozwalają one na reagowanie na te zmiany i podejmowanie odpowiednich działań, takich jak zwalnianie zasobów czy przygotowanie się do współpracy z innymi komponentami interfejsu użytkownika."
   ]
  },
  {
   "cell_type": "markdown",
   "id": "adb7a308-7610-43bc-a125-2b746aa703b5",
   "metadata": {},
   "source": [
    "`ViewModel` jest zaprojektowany tak, aby zachować dane i stan między zmianami konfiguracji urządzenia, takimi jak zmiana rotacji ekranu.\n",
    "\n",
    "Podczas pierwszego tworzenia `ViewModel`, na przykład podczas uruchomienia aktywności, system Android tworzy nową instancję i związaną z nią aktywność.\n",
    "Jeśli następuje zmiana konfiguracji urządzenia, jak zmiana rotacji ekranu, Android przechodzi do tworzenia nowej instancji aktywności, ale istniejący `ViewModel` pozostaje niezmieniony i jest ponownie używany przez nowo utworzoną aktywność.\n",
    "\n",
    "`ViewModel` przechowuje dane i stan między zmianami konfiguracji urządzenia. Na przykład, jeśli `ViewModel` zawiera listę kontaktów, ta lista pozostaje nietknięta po zmianie rotacji.\n",
    "Dane są przechowywane w `ViewModel`, a nie w samej aktywności lub fragmencie, co pozwala na bezpieczne i spójne zarządzanie danymi bez utraty ich przy zmianie konfiguracji.\n",
    "\n",
    "`ViewModel` może dostarczać metody i właściwości, które umożliwiają aktywności lub fragmentom uzyskanie dostępu do przechowywanych danych. Po zmianie konfiguracji urządzenia, nowa instancja aktywności lub fragmentu może uzyskać dostęp do istniejącego `ViewModel` i wykorzystać go do aktualizacji interfejsu użytkownika na podstawie przechowywanych danych.\n",
    "\n",
    "Dzięki tym mechanizmom, umożliwia on zachowanie spójności danych i stanu nawet w przypadku zmian konfiguracji urządzenia, takich jak zmiana rotacji ekranu. Ułatwia to tworzenie odpornych na zmiany urządzenia aplikacji, które nie gubią danych ani nie wymagają dodatkowego kodu obsługującego zmiany konfiguracji."
   ]
  },
  {
   "cell_type": "code",
   "execution_count": null,
   "id": "0de696e3-36a7-4c5f-8746-d70c1463973e",
   "metadata": {},
   "outputs": [],
   "source": [
    "public class WordViewModel extends ViewModel {\n",
    "    private List<String> wordsList = new ArrayList<>();\n",
    "\n",
    "    public List<String> getWordList() {\n",
    "        return wordsList;\n",
    "    }\n",
    "\n",
    "    public WordViewModel() {\n",
    "        reinitialize();\n",
    "    }\n",
    "\n",
    "    public void addWord(String word) {\n",
    "        wordsList.add(word);\n",
    "        Collections.sort(wordsList);\n",
    "    }\n",
    "\n",
    "    public void reinitialize() {\n",
    "        wordsList.clear();\n",
    "        wordsList.addAll(DataProvider.allWordsList);\n",
    "        Collections.sort(wordsList);\n",
    "    }\n",
    "\n",
    "    public void clear() {\n",
    "        wordsList.clear();\n",
    "    }\n",
    "}"
   ]
  },
  {
   "cell_type": "markdown",
   "id": "e375f71b-349d-41b4-a943-5b62c7c58963",
   "metadata": {},
   "source": [
    "- `private List<String> wordsList = new ArrayList<>();` Tworzy prywatne pole `wordsList`, które przechowuje listę słów.\n",
    "- `public List<String> getWordList()` *getter* dla `wordList`\n",
    "- `public WordViewModel() {reinitialize();}` Inicjalizuje `WordViewModel` poprzez wywołanie funkcji `reinitialize()`. Ta funkcja wypełnia początkową listę słów na podstawie dostarczonych danych.\n",
    "- `public void addWord(String word)` Ta funkcja dodaje podane słowo do listy `wordsList` i sortuje listę alfabetycznie.\n",
    "- `public void reinitialize()`  służy do ponownego inicjalizowania listy słów. Funkcja najpierw czyści listę `wordsList`, a następnie dodaje nowe słowa na podstawie dostarczonych danych. Na koniec sortuje listę alfabetycznie.\n",
    "- `public void clear()` czyści listę `wordsList`."
   ]
  },
  {
   "cell_type": "markdown",
   "id": "79747219-d0de-4c87-878c-9b5b18d4af01",
   "metadata": {},
   "source": [
    "### ListFragment"
   ]
  },
  {
   "cell_type": "markdown",
   "id": "9336bf69-2a33-4bb0-9024-80c6e629d3c1",
   "metadata": {},
   "source": [
    "Obsłużmy wpierw `RecyclerView`, tutaj skorzystamy z `DiffUtil` oraz `ListAdapter`."
   ]
  },
  {
   "cell_type": "markdown",
   "id": "daac9ecd-a952-4300-8c78-bd7aebf666c6",
   "metadata": {},
   "source": [
    "Rozpocznnijmy od dodania `ViewHolder` dla naszej listy."
   ]
  },
  {
   "cell_type": "code",
   "execution_count": null,
   "id": "b1413f08-c97d-46fa-a54a-eea06dfefe32",
   "metadata": {},
   "outputs": [],
   "source": [
    "public class WordViewHolder extends RecyclerView.ViewHolder {\n",
    "    private final RvItemBinding binding;\n",
    "\n",
    "    public WordViewHolder(RvItemBinding binding) {\n",
    "        super(binding.getRoot());\n",
    "        this.binding = binding;\n",
    "    }\n",
    "\n",
    "    public void bind(String item){\n",
    "        binding.wordTextView.setText(item);\n",
    "    }\n",
    "}"
   ]
  },
  {
   "cell_type": "markdown",
   "id": "eba525e7-14d3-4c4b-bfee-a6481123ce82",
   "metadata": {},
   "source": [
    "Następnie dodajmy komparator."
   ]
  },
  {
   "cell_type": "code",
   "execution_count": null,
   "id": "017a2bdf-c12e-4920-9a4b-655dad1e6c5f",
   "metadata": {},
   "outputs": [],
   "source": [
    "public class WordComparator extends DiffUtil.ItemCallback<String> {\n",
    "    @Override\n",
    "    public boolean areItemsTheSame(@NonNull String oldItem, @NonNull String newItem) {\n",
    "        return oldItem == newItem;\n",
    "    }\n",
    "\n",
    "    @Override\n",
    "    public boolean areContentsTheSame(@NonNull String oldItem, @NonNull String newItem) {\n",
    "        return oldItem.equals(newItem);\n",
    "    }\n",
    "}"
   ]
  },
  {
   "cell_type": "markdown",
   "id": "e96affdd-aeb3-4891-8616-6f55ccdaeb94",
   "metadata": {},
   "source": [
    "Klasa `WordComparator` jest implementacją `DiffUtil.ItemCallback<String>`, która jest używana w celu porównywania elementów listy w celu wykrywania zmian i efektywnego odświeżania widoku.\n",
    "\n",
    "`DiffUtil` to narzędzie, które pomaga w obliczaniu różnic między dwoma listami i znajdowaniu minimalnego zestawu operacji, które należy wykonać, aby przekształcić jedną listę w drugą. Jest wykorzystywane z listami, które są dynamicznie aktualizowane, np. w przypadku dodawania, usuwania lub modyfikowania elementów.\n",
    "\n",
    "Klasa musi zaimplementować dwie metody:\n",
    "- `areItemsTheSame(@NonNull String oldItem, @NonNull String newItem)` Metoda ta sprawdza, czy dwa obiekty String wskazują na to samo miejsce w pamięci. Jest to używane do porównywania identyfikatorów elementów. Jeśli zwróci wartość `true`, oznacza to, że elementy są takie same i nie zostały przeniesione ani zmienione w liście.\n",
    "- `boolean areContentsTheSame(@NonNull String oldItem, @NonNull String newItem)` Metoda ta sprawdza, czy zawartość dwóch elementów jest identyczna. Jeśli zwróci wartość `true`, oznacza to, że zawartość elementów jest taka sama, nawet jeśli są to różne obiekty w pamięci.\n",
    "\n",
    "Na podstawie tych metod `DiffUtil` będzie wiedział, które elementy wymagają aktualizacji w widoku."
   ]
  },
  {
   "cell_type": "markdown",
   "id": "5309d0c2-202b-4103-9f2a-92b1ce349e0e",
   "metadata": {},
   "source": [
    "Ostatnim elementem jest adapter."
   ]
  },
  {
   "cell_type": "code",
   "execution_count": null,
   "id": "59aaee2e-56cf-4592-8398-7d0fe15e1e46",
   "metadata": {},
   "outputs": [],
   "source": [
    "public class WordAdapter extends ListAdapter<String, WordViewHolder> {\n",
    "    protected WordAdapter(WordComparator comparator) {\n",
    "        super(comparator);\n",
    "    }\n",
    "\n",
    "    @NonNull\n",
    "    @Override\n",
    "    public WordViewHolder onCreateViewHolder(@NonNull ViewGroup parent, int viewType) {\n",
    "        return new WordViewHolder(RvItemBinding.inflate(\n",
    "                LayoutInflater.from(parent.getContext()), parent, false)\n",
    "        );\n",
    "    }\n",
    "\n",
    "    @Override\n",
    "    public void onBindViewHolder(@NonNull WordViewHolder holder, int position) {\n",
    "        String item = getItem(position);\n",
    "        holder.bind(item);\n",
    "    }\n",
    "}"
   ]
  },
  {
   "cell_type": "markdown",
   "id": "75af9ae2-54f5-4df1-8eea-71945f75094f",
   "metadata": {},
   "source": [
    "Klasa `WordAdapter` dziedziczy po `ListAdapter<String, WordViewHolder>` i przyjmuje jako parametr konstruktora obiekt klasy `WordComparator`. `ListAdapter` to klasa, która ułatwia implementację adaptera dla `RecyclerView` i obsługę różnic między listami."
   ]
  },
  {
   "cell_type": "markdown",
   "id": "4068eb91-693d-4711-8de3-a08915f80fd5",
   "metadata": {},
   "source": [
    "Przejdźmy do klasy `ListFragment` i dodajmy dwie wartości."
   ]
  },
  {
   "cell_type": "code",
   "execution_count": null,
   "id": "c956e93e-e57a-4cc4-ae1e-a286918bc28b",
   "metadata": {},
   "outputs": [],
   "source": [
    "private WordViewModel viewModel;\n",
    "private WordAdapter wordAdapter;"
   ]
  },
  {
   "cell_type": "markdown",
   "id": "db4a60bc-bca1-4348-beb3-38521885b11b",
   "metadata": {},
   "source": [
    "W metodzie `onCreateView` inicjujemyy obie zmienne."
   ]
  },
  {
   "cell_type": "code",
   "execution_count": null,
   "id": "c5f1a79c-185e-4385-9f12-b181ddd6859e",
   "metadata": {},
   "outputs": [],
   "source": [
    "viewModel = new ViewModelProvider(requireActivity()).get(WordViewModel.class);\n",
    "wordAdapter = new WordAdapter(new WordComparator());"
   ]
  },
  {
   "cell_type": "markdown",
   "id": "94acaab8-c7a3-494d-b57d-43f7a9371257",
   "metadata": {},
   "source": [
    "`ViewModelProvider` służy do dostarczania i zarządzania `ViewModel`'ami w aplikacji. Pozwala uzyskać dostęp do istniejącej instancji `ViewModel` lub utworzyć nową, jeśli jeszcze nie istnieje. `requireActivity()` jest używane jako parametr, aby dostarczyć kontekst aktywności, z którą ma być skojarzony `ViewModel`. Metoda `get(WordViewModel.class)` wskazuje, że chcemy uzyskać instancję `WordViewModel`."
   ]
  },
  {
   "cell_type": "markdown",
   "id": "472ff350-cec9-45a3-8925-9af2ac130629",
   "metadata": {},
   "source": [
    "Dodajmy trzy metody do obsługi kliknięć przycisków."
   ]
  },
  {
   "cell_type": "code",
   "execution_count": null,
   "id": "df9089db-bab7-4462-ac28-f0cc040fd209",
   "metadata": {},
   "outputs": [],
   "source": [
    "private void onAddWord() {\n",
    "    String word = binding.wordEditText.getText().toString();\n",
    "    viewModel.addWord(word);\n",
    "    wordAdapter.notifyDataSetChanged();\n",
    "}\n",
    "\n",
    "private void onResetWords(){\n",
    "    viewModel.reinitialize();\n",
    "    wordAdapter.notifyDataSetChanged();\n",
    "}\n",
    "\n",
    "private void onClearWords(){\n",
    "    viewModel.clear();\n",
    "    wordAdapter.notifyDataSetChanged();\n",
    "}"
   ]
  },
  {
   "cell_type": "markdown",
   "id": "399b795e-046d-45be-94f7-88bc121be00a",
   "metadata": {},
   "source": [
    "Po wywołaniu `notifyDataSetChanged()`, `RecyclerView` zostanie poinformowany, że dane w adapterze zostały zmienione. W rezultacie, zostanie odświeży widok."
   ]
  },
  {
   "cell_type": "markdown",
   "id": "67286269-668e-487a-8d9b-e689c5b1ec25",
   "metadata": {},
   "source": [
    "Przejdźmy do metody `onCreateView`"
   ]
  },
  {
   "cell_type": "code",
   "execution_count": null,
   "id": "c832bdea-384f-4146-8ddb-ecdf80e61d08",
   "metadata": {},
   "outputs": [],
   "source": [
    "@Override\n",
    "public View onCreateView(@NonNull LayoutInflater inflater, ViewGroup container,\n",
    "                         Bundle savedInstanceState) {\n",
    "    binding = FragmentListBinding.inflate(inflater);\n",
    "\n",
    "    viewModel = new ViewModelProvider(requireActivity()).get(WordViewModel.class);\n",
    "    wordAdapter = new WordAdapter(new WordComparator());\n",
    "    wordAdapter.submitList(viewModel.getWordList());\n",
    "\n",
    "    binding.rvList.setAdapter(wordAdapter);\n",
    "    binding.rvList.setLayoutManager(new LinearLayoutManager(requireActivity()));\n",
    "\n",
    "    binding.addButton.setOnClickListener(view -> onAddWord());\n",
    "    binding.resetButton.setOnClickListener(view -> onResetWords());\n",
    "    binding.clearButton.setOnClickListener(view -> onClearWords());\n",
    "\n",
    "    return binding.getRoot();\n",
    "}"
   ]
  },
  {
   "cell_type": "markdown",
   "id": "50e02199-9771-484e-88c0-7e4bcd480879",
   "metadata": {},
   "source": [
    "Metoda `submitList()` służy do przekazania nowej listy danych do adaptera i zaktualizowania widoku `RecyclerView` na podstawie tej listy. Przekazywana lista danych jest kopiowana i porównywana z poprzednią listą danych, aby obliczyć różnice i zastosować tylko niezbędne zmiany w widoku."
   ]
  },
  {
   "cell_type": "markdown",
   "id": "ce339451-cab9-4bad-a272-be928732043c",
   "metadata": {},
   "source": [
    "Możemy przetestować apliakcję."
   ]
  },
  {
   "cell_type": "markdown",
   "id": "c4f0daeb-0fdf-40c4-886d-3517beec38a3",
   "metadata": {},
   "source": [
    "<img src=\"https://media1.giphy.com/media/v1.Y2lkPTc5MGI3NjExc3R4N24yeXNjbGJqNzh3MmRiMmQ0MjVjcWc3eHBmcng1cDBjeDJ6cSZlcD12MV9pbnRlcm5hbF9naWZfYnlfaWQmY3Q9Zw/seMioQznXL1jUqAXfR/giphy.gif\" width=\"200\" />"
   ]
  }
 ],
 "metadata": {
  "kernelspec": {
   "display_name": "Kotlin",
   "language": "kotlin",
   "name": "kotlin"
  },
  "language_info": {
   "codemirror_mode": "text/x-kotlin",
   "file_extension": ".kt",
   "mimetype": "text/x-kotlin",
   "name": "kotlin",
   "nbconvert_exporter": "",
   "pygments_lexer": "kotlin",
   "version": "1.8.0-RC"
  }
 },
 "nbformat": 4,
 "nbformat_minor": 5
}
