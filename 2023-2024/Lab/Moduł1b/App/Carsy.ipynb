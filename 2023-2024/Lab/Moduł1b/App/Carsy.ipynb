{
 "cells": [
  {
   "cell_type": "markdown",
   "id": "4d65192b-f3bc-488f-9f56-9a5e35eda1cd",
   "metadata": {},
   "source": [
    "# Carsy"
   ]
  },
  {
   "cell_type": "markdown",
   "id": "24864788-887a-4083-ba76-f6753e002b7b",
   "metadata": {},
   "source": [
    "Aplikacja wykorzystuje `NavigationBar`. Po raz kolejny wykorzystamy *dummy data* dostarczone przez obiekt `dataProvider`. Wykorzystamy `verticalScroll` oraz `LazyRow` w kilku różnych konfiguracjach. Będzie to uboga wersja [Fuelio](https://play.google.com/store/apps/details?id=com.kajda.fuelio&hl=pl&gl=US). Applikacja wykorzystuje grupowanie elementów osiągnię przez wykorzystanie trzech `Composable` w pojedynczej `Column`, które są ładowane w zależności od typu zawartości."
   ]
  },
  {
   "cell_type": "markdown",
   "id": "6112f708-d057-4a85-919e-3aa447a21290",
   "metadata": {},
   "source": [
    "<table><tr><td><img src=\"https://media1.giphy.com/media/v1.Y2lkPTc5MGI3NjExY2MzYmNiN2NmOTE4NDVmZGU4ZTQzNjQ3ZjVkZDlhNzE3MTc0Y2FmOCZlcD12MV9pbnRlcm5hbF9naWZzX2dpZklkJmN0PWc/UT1CIBlbL1FftHf9Hk/giphy.gif\" width=\"200\" /></td><td><img src=\"https://media0.giphy.com/media/v1.Y2lkPTc5MGI3NjExYWRlZGExYmI4OTZlNjY4MzZiM2NkZmE4ZWMzN2VlMGVjZjk4YWRhOSZlcD12MV9pbnRlcm5hbF9naWZzX2dpZklkJmN0PWc/lx96i0NeTGeYV35NFl/giphy.gif\" width=\"200\" /></td><td><img src=\"https://media3.giphy.com/media/v1.Y2lkPTc5MGI3NjExZDFmZTkxZjIxNzQ0NTJmNDFlM2NhN2NiNTlmYzU2N2ZkZTVhODM3MyZlcD12MV9pbnRlcm5hbF9naWZzX2dpZklkJmN0PWc/WyCanQMjlfmYguKc3l/giphy.gif\" width=\"200\" /></td></tr></table>"
   ]
  },
  {
   "cell_type": "markdown",
   "id": "2a9ffe27-7fe4-4bd5-81d8-dc63369065a0",
   "metadata": {},
   "source": [
    "Rozpocznijmy od konfiguracji skryptów `Gradle` - dodajmy nawigację oraz dodatkowe ikony do bloku `dependencies`"
   ]
  },
  {
   "cell_type": "code",
   "execution_count": null,
   "id": "d53156be-870a-4fb4-bad9-e0a64961b201",
   "metadata": {},
   "outputs": [],
   "source": [
    "    implementation 'androidx.navigation:navigation-compose:2.5.3'\n",
    "    implementation \"androidx.compose.material:material-icons-extended:1.4.3\""
   ]
  },
  {
   "cell_type": "markdown",
   "id": "c88c0398-d09e-4d07-a3a6-cbc92bc486d4",
   "metadata": {},
   "source": [
    "## Dane"
   ]
  },
  {
   "cell_type": "markdown",
   "id": "24b831b4-5436-4649-b18d-18acd1d9052b",
   "metadata": {},
   "source": [
    "Rozpocznijmy od przygotowania *dummy data* dla aplikacji."
   ]
  },
  {
   "cell_type": "code",
   "execution_count": null,
   "id": "999d80d1-93e9-4c36-aa22-8d7ee1bd567d",
   "metadata": {},
   "outputs": [],
   "source": [
    "enum class CostType(val costType: String, val icon: ImageVector) {\n",
    "    REFUELING(\"Tankowanie\", Icons.Default.LocalGasStation),\n",
    "    SERVICE(\"Serwis\", Icons.Default.CarRepair),\n",
    "    PARKING(\"Parking\", Icons.Default.LocalParking),\n",
    "    INSURANCE(\"Ubezpieczenie\", Icons.Default.AttachMoney),\n",
    "    TICKET(\"Mandat\", Icons.Default.Error)\n",
    "}"
   ]
  },
  {
   "cell_type": "code",
   "execution_count": null,
   "id": "97d13f09-7e2e-4950-8c38-60a714639857",
   "metadata": {},
   "outputs": [],
   "source": [
    "data class Cost (\n",
    "    val type: CostType,\n",
    "    val date: LocalDate,\n",
    "    val amount: Int\n",
    ")"
   ]
  },
  {
   "cell_type": "code",
   "execution_count": null,
   "id": "7f15404e-2d56-4c39-b559-54e67d40c97c",
   "metadata": {},
   "outputs": [],
   "source": [
    "data class Car (\n",
    "    val name: String,\n",
    "    val brand: String,\n",
    "    val model: String,\n",
    "    val yearOfProduction: Int,\n",
    "    val costs: List<Cost>\n",
    ")"
   ]
  },
  {
   "cell_type": "code",
   "execution_count": null,
   "id": "450f576f-3290-4e69-ba64-bc63e5916d46",
   "metadata": {},
   "outputs": [],
   "source": [
    "object DataProvider {\n",
    "\n",
    "    val cars = listOf(\n",
    "        Car(\"Domowy\", \"Skoda\", \"Fabia\", 2002, generalCosts(100)),\n",
    "        Car(\"Służbowy\", \"BMW\", \"Coupe\", 2015, generalCosts(200)),\n",
    "        Car(\"Kolekcjonerski\", \"Fiat\", \"125p\", 1985, generalCosts(120)),\n",
    "        Car(\"Sportowy\", \"Lamborghini\", \"Murcielago\", 2012, generalCosts(100)),\n",
    "        Car(\"Zapasowy\", \"Skoda\", \"Superb\", 2010, generalCosts(120)),\n",
    "        Car(\"SUV\", \"Skoda\", \"Kodiaq\", 2020, generalCosts(300))\n",
    "    )\n",
    "\n",
    "    private fun generalCosts(size: Int) = List(size) {\n",
    "        Cost(\n",
    "            CostType.values()[Random.nextInt(CostType.values().size)],\n",
    "            LocalDate.of(Random.nextInt(2005, 2023), Random.nextInt(1,13), Random.nextInt(1,28)),\n",
    "            Random.nextInt(5000)\n",
    "        )\n",
    "    }\n",
    "\n",
    "    fun getTimeLineList(costs: List<Cost>) = costs\n",
    "            .sortedBy { it.date }\n",
    "            .groupBy { it.date.year }\n",
    "            .flatMap { (year, costsOfYear) -> costListItemsByMonths(year, costsOfYear) }\n",
    "\n",
    "    private fun costListItemsByMonths(\n",
    "        year: Int,\n",
    "        costsOfYear: List<Cost>\n",
    "    ) = listOf(\n",
    "        CostListItem.CostYearItem(year.toString()),\n",
    "        *costsOfYear.groupBy { it.date.month }\n",
    "            .flatMap { (month, costsOfMonth) -> costListItemsByDays(month, costsOfMonth) }\n",
    "            .toTypedArray()\n",
    "    )\n",
    "\n",
    "    private fun costListItemsByDays(\n",
    "        month: Month,\n",
    "        costsOfMonth: List<Cost>\n",
    "    ) = listOf(\n",
    "        CostListItem.CostMonthItem(polishMonthsNames(month)),\n",
    "        *costsOfMonth.sortedBy { it.date.dayOfMonth }\n",
    "            .map { CostListItem.CostGeneralItem(it) }\n",
    "            .toTypedArray()\n",
    "    )\n",
    "}"
   ]
  },
  {
   "cell_type": "code",
   "execution_count": null,
   "id": "59f01c79-9c78-4934-b485-5ba6760f2260",
   "metadata": {},
   "outputs": [],
   "source": [
    "sealed class CostListItem() {\n",
    "    class CostGeneralItem(val cost: Cost) : CostListItem()\n",
    "    class CostMonthItem(val month: String) : CostListItem()\n",
    "    class CostYearItem(val year: String) : CostListItem()\n",
    "}"
   ]
  },
  {
   "cell_type": "markdown",
   "id": "976db725-c775-49f7-8f3f-73afaf0dce10",
   "metadata": {},
   "source": [
    "Obiekt `DataProvider` zawiera listę obiektów `Car` oraz kilka pomocniczych funkcji związanych z kosztami i manipulacją danymi.\n",
    "\n",
    "Każdy obiekt `Car` reprezentuje samochód i zawiera takie informacje jak nazwa, marka, model, rok produkcji oraz lista kosztów związanych z tym samochodem. Funkcja `generalCosts()`,  przyjmuje jako parametr rozmiar i generuje listę losowych kosztów. Każdy koszt tworzony jest losowo. \n",
    "\n",
    "Funkcja `getTimeLineList()` przyjmuje listę kosztów jako argument i zwraca listę kosztów w formie osi czasu. Najpierw sortuje koszty według daty, następnie grupuje je według roku. Dla każdego roku wywoływana jest funkcja `costListItemsByMonths()` w celu wygenerowania listy elementów kosztów pogrupowanych według miesięcy. \n",
    "\n",
    "Funkcja `costListItemsByMonths()` przyjmuje rok i listę kosztów dla tego roku jako argument. Tworzy listę elementów kosztów według miesięcy, rozpoczynając od `CostYearItem`, który reprezentuje sam rok. Następnie koszty są grupowane według miesięcy, a funkcja `costListItemsByDays()` jest wywoływana w celu wygenerowania listy elementów kosztów pogrupowanych według dni w każdym miesiącu. \n",
    "\n",
    "Funkcja `costListItemsByDays()` przyjmuje miesiąc i listę kosztów dla tego miesiąca jako argument. Tworzy listę elementów kosztów według dni, rozpoczynając od `CostMonthItem`, który reprezentuje sam miesiąc. Następnie koszty są sortowane według dni, a każdy koszt jest mapowany na `CostGeneralItem`, który reprezentuje indywidualny koszt."
   ]
  },
  {
   "cell_type": "markdown",
   "id": "3404a7ee-7890-45be-b942-24e7081c1146",
   "metadata": {},
   "source": [
    "Funkcja `getTimeLineList()` zwraca listę elementów costListItem.\n",
    "\n",
    "- `generalCosts` - to jest kolekcja kosztów, którą ta funkcja przetwarza.\n",
    "- `sortedBy { it.date }` - ta funkcja sortuje koszty w `generalCosts` w porządku chronologicznym względem ich dat.\n",
    "- `groupBy { it.date.year }` - ta funkcja grupuje koszty, zebrane w poprzednim kroku, po roku, w którym zostały poniesione. W ten sposób uzyskujemy mapę, w której kluczem jest rok, a wartością jest lista kosztów poniesionych w danym roku (`Map<Int, List<Cost>>`).\n",
    "- `flatMap { (year, costsOfYear) -> costListItemsByYear(year, costsOfYear) }` - ta funkcja przetwarza każdą parę **klucz-wartość** z mapy utworzonej w poprzednim kroku. Funkcja `flatMap` *spłaszcza* wyniki do jednej listy. `costListItemsByYear(year, costsOfYear)` to funkcja, która tworzy listę elementów `costListItem`. Funkcja `flatMap` stosowana jest tutaj, aby połączyć wyniki zwracane przez każde wywołanie `costListItemsByYear` w jedną listę."
   ]
  },
  {
   "cell_type": "markdown",
   "id": "160e45c7-ab1e-4600-b802-4abcc821c692",
   "metadata": {},
   "source": [
    "`costListItemsByMonths` jest funkcją, która tworzy listę elementów `CostListItem` dla danego roku i kosztów poniesionych w tym roku.\n",
    "\n",
    "- `year: Int` - to jest rok, dla którego tworzymy elementy `CostListItem`.\n",
    "- `costsOfYear: List<Cost>` - to jest lista kosztów poniesionych w danym roku.\n",
    "- `listOf(...)` - ta funkcja tworzy listę elementów `CostListItem`. Na początku tej listy dodajemy element `CostYearItem`, który zawiera informacje o roku, dla którego tworzymy listę.\n",
    "- `*` - operator ten rozpakowuje tablicę, a dokładniej mówiąc przekształca jej elementy na osobne argumenty.\n",
    "- `costsOfYear.groupBy { it.date.month }` - ta funkcja grupuje koszty zebrane w poprzednim kroku po miesiącu, w którym zostały poniesione.\n",
    "- `flatMap { (month, costsOfMonth) -> costListItemsByDays(month, costsOfMonth) }` - ta funkcja przetwarza każdą parę klucz-wartość z mapy utworzonej w poprzednim kroku. Funkcja `flatMap` *spłaszcza* wyniki do jednej listy. `costListItemsByDays(month, costsOfMonth)` to funkcja, która tworzy listę elementów `CostListItem` dla danego miesiąca i kosztów poniesionych w tym miesiącu.\n",
    "- `toTypedArray()` - ta funkcja przekształca wynik w tablicę."
   ]
  },
  {
   "cell_type": "markdown",
   "id": "7c0444bf-f36e-420e-a754-944a017c45db",
   "metadata": {},
   "source": [
    "Wykorzystujemy tutaj funkcję `polishMonthsNames`, zdefiniowaną w pliku `DateMapperUtil`, która służy do wyświetlania nazw miesięcy po polsku."
   ]
  },
  {
   "cell_type": "code",
   "execution_count": null,
   "id": "d5c56e13-ddcd-4371-8fcd-9f96c0f96acb",
   "metadata": {},
   "outputs": [],
   "source": [
    "fun polishMonthsNames(month: Month): String {\n",
    "    return when (month) {\n",
    "        Month.JANUARY -> \"STYCZEŃ\"\n",
    "        Month.FEBRUARY -> \"LUTY\"\n",
    "        Month.MARCH -> \"MARZEC\"\n",
    "        Month.APRIL -> \"KWIECIEŃ\"\n",
    "        Month.MAY -> \"MAJ\"\n",
    "        Month.JUNE -> \"CZERWIEC\"\n",
    "        Month.JULY -> \"LIPIEC\"\n",
    "        Month.AUGUST -> \"SIERPIEŃ\"\n",
    "        Month.SEPTEMBER -> \"WRZESIEŃ\"\n",
    "        Month.OCTOBER -> \"PAŹDZIERNIK\"\n",
    "        Month.NOVEMBER -> \"LISTOPAD\"\n",
    "        Month.DECEMBER -> \"GRUDZIEŃ\"\n",
    "        else -> \"unknown\"\n",
    "    }\n",
    "}"
   ]
  },
  {
   "cell_type": "markdown",
   "id": "d28c9922-07bc-47ef-8037-4688ed17ad46",
   "metadata": {},
   "source": [
    "W efekcie utworzymy tworzymy listę elementów dla `Column`, która zawiera obiekty o typie `CostListItem` (jednym z jego podtypów). Utworzymy trzy `Composable`'y, zawierające różne elementy `ui`. Chcemy wyświetlić posortowaną listę w formacie\n",
    "\n",
    "```verbatim\n",
    "<YEAR> - Composable1\n",
    "<MONTH> - Composable2\n",
    "<DATE> <COST> - Composable3\n",
    "```"
   ]
  },
  {
   "cell_type": "markdown",
   "id": "e1a0a666-2ff4-4d03-ab9b-9f43dfbdfdb4",
   "metadata": {},
   "source": [
    "<img src=\"https://play-lh.googleusercontent.com/Lm6SO1jsUF-VjsrfkIV9x-qpPIkIOIvgWkBGmxyZuHWPSbkYMS0oLhgoBk9wLXq6Xw=w5120-h2880\" width=\"150\" />"
   ]
  },
  {
   "cell_type": "markdown",
   "id": "f05670c0-b1b5-4085-8576-b54db582e022",
   "metadata": {},
   "source": [
    "## Nawigacja"
   ]
  },
  {
   "cell_type": "markdown",
   "id": "8f3b32c7-7014-4f5f-9f3a-cb07e75c3cca",
   "metadata": {},
   "source": [
    "Aplikacja składa się z trzech ekranów."
   ]
  },
  {
   "cell_type": "code",
   "execution_count": null,
   "id": "23691cae-3417-4226-8f13-aa8fcc97c206",
   "metadata": {},
   "outputs": [],
   "source": [
    "sealed class Screens(\n",
    "    val route: String,\n",
    "    val title: String,\n",
    "    val icon: ImageVector\n",
    ") {\n",
    "    object Overview : Screens(\"overview\", \"Overview\", Icons.Default.Home)\n",
    "    object TimeLine : Screens(\"timeline\", \"Time Line\", Icons.Default.Timeline)\n",
    "    object Calculators : Screens(\"calculators\", \"Calculators\", Icons.Default.Calculate)\n",
    "}"
   ]
  },
  {
   "cell_type": "markdown",
   "id": "e270cd45-3c80-488a-9c7a-4c11eef1972e",
   "metadata": {},
   "source": [
    "Będzeimy wykorzystywać `NavigationBar` z ikonami - same ikony przechowujemy jako obiekty typu `ImageVector`"
   ]
  },
  {
   "cell_type": "markdown",
   "id": "49bde813-1089-43e9-9436-c024ce62f659",
   "metadata": {},
   "source": [
    "Dodajmy nawigację, którą wywołamy w `MainActivity`"
   ]
  },
  {
   "cell_type": "code",
   "execution_count": null,
   "id": "57ccdc8e-44c0-4972-95b9-f53a54e13ac3",
   "metadata": {},
   "outputs": [],
   "source": [
    "@OptIn(ExperimentalMaterial3Api::class)\n",
    "@Composable\n",
    "fun Navigation(){\n",
    "    val navController = rememberNavController()\n",
    "    Scaffold(\n",
    "        bottomBar = { BottomMenu(navController = navController)},\n",
    "        content = { NavGraph(paddingValues = it, navController = navController) }\n",
    "    )\n",
    "}"
   ]
  },
  {
   "cell_type": "markdown",
   "id": "15e99b66-cd30-4cf5-8b95-223788079898",
   "metadata": {},
   "source": [
    "Funkcja `Scaffold` jest używana do tworzenia podstawowej struktury widoku aplikacji. Przyjmuje ona dwa parametry: `bottomBar`, który definiuje dolny pasek nawigacji, oraz `content`, który definiuje zawartość główną strony.\n",
    "\n",
    "W `bottomBar` przekazujemy komponent ``BottomMenu`, który jest odpowiedzialny za renderowanie dolnego paska nawigacji. Przekazujemy również `navController` jako parametr, aby możliwe było przekierowywanie nawigacji w odpowiedzi na interakcje użytkownika.\n",
    "\n",
    "W `content` przekazujemy komponent `NavGraph`, który definiuje strukturę nawigacji w aplikacji. Przekazujemy również `paddingValues` jako parametr, aby umożliwić dostosowanie wcięcia zawartości w `Scaffold`."
   ]
  },
  {
   "cell_type": "markdown",
   "id": "b20dc2bc-edb6-4ecb-8a7e-959d1a13a2a6",
   "metadata": {},
   "source": [
    "Dodajmy funkcję renderującą dolny pasek"
   ]
  },
  {
   "cell_type": "code",
   "execution_count": null,
   "id": "f830b961-2739-457d-b8ee-6a96934155c5",
   "metadata": {},
   "outputs": [],
   "source": [
    "@Composable\n",
    "fun BottomMenu(navController: NavHostController){\n",
    "    val screens = listOf(\n",
    "        Screens.Overview, Screens.TimeLine, Screens.Calculators\n",
    "    )\n",
    "\n",
    "    val navBackStackEntry by navController.currentBackStackEntryAsState()\n",
    "    val currentDestination = navBackStackEntry?.destination\n",
    "\n",
    "    NavigationBar{\n",
    "        screens.forEach{screen ->\n",
    "            NavigationBarItem(\n",
    "                label = { Text(text = screen.title)},\n",
    "                icon = { Icon(imageVector = screen.icon, contentDescription = \"icon\") },\n",
    "                selected = currentDestination?.hierarchy?.any { it.route == screen.route } == true,\n",
    "                onClick = {navController.navigate(screen.route)}\n",
    "            )\n",
    "        }\n",
    "    }\n",
    "}"
   ]
  },
  {
   "cell_type": "markdown",
   "id": "6d96bfa9-f180-4483-9ecd-eed90e8be9f9",
   "metadata": {},
   "source": [
    "Tworzymy listę `screens` zawierającą ekrany dostępne w aplikacji. Każdy ekran reprezentowany jest przez obiekt `Screen`. Używamy `navController` do pobrania aktualnego stanu nawigacji (`currentBackStackEntryAsState()`) oraz aktualnej docelowej lokalizacji (`currentDestination`).\n",
    "\n",
    "W pętli `forEach` iterujemy przez listę i dla każdego ekranu tworzymy `NavigationBarItem`. Ustalamy etykietę (`label`), ikonę (`icon`), stan zaznaczenia (`selected`) w zależności od tego, czy aktualna lokalizacja nawigacji odpowiada danemu ekranowi, oraz przypisujemy funkcję obsługującą kliknięcie (`onClick`), która przekierowuje nawigację do odpowiedniego ekranu za pomocą `navController.navigate(screen.route)`."
   ]
  },
  {
   "cell_type": "markdown",
   "id": "8fe43152-89af-4aa8-a370-2cda0b33f8e2",
   "metadata": {},
   "source": [
    "Następnie tworzymy komponent odpowiedzialny za renderowanie głównej zawartości aplikacji, zależnej od aktualnej lokalizacji nawigacji"
   ]
  },
  {
   "cell_type": "code",
   "execution_count": null,
   "id": "40791968-69b1-4415-81ad-f9837317b7ab",
   "metadata": {},
   "outputs": [],
   "source": [
    "@Composable\n",
    "fun NavGraph(paddingValues: PaddingValues, navController: NavHostController){\n",
    "    NavHost(\n",
    "        navController = navController,\n",
    "        startDestination = Screens.Overview.route\n",
    "    ) {\n",
    "        composable(route = Screens.Overview.route){ OverviewScreen(paddingValues) }\n",
    "        composable(route = Screens.TimeLine.route){ TimeLineScreen(paddingValues) }\n",
    "        composable(route = Screens.Calculators.route){ CalculatorsScreen() }\n",
    "    }\n",
    "}"
   ]
  },
  {
   "cell_type": "markdown",
   "id": "1acd614b-d6b6-4837-ab90-245fc9a5fb21",
   "metadata": {},
   "source": [
    "Wewnątrz funkcji definiujemy główny kontener nawigacji (`NavHost`), który zarządza przemieszczaniem się między różnymi ekranami w zależności od aktualnej lokalizacji nawigacji. Przekazujemy `navController` jako parametr do `NavHost`, aby umożliwić nawigację między ekranami. Parametr `startDestination` wskazuje na początkowy ekran, który zostanie wyświetlony po uruchomieniu aplikacji. W tym przypadku jest to ekran `OverviewScreen`, który ma przypisaną ścieżkę `Screens.Overview.route`.\n",
    "\n",
    "Za pomocą funkcji `composable` definiujemy poszczególne ekrany, które są dostępne w aplikacji. Dla każdego ekranu podajemy jego ścieżkę (`route`) i funkcję, która renderuje zawartość danego ekranu. Przekazujemy również `paddingValues` jako parametr, który może być wykorzystany przez ekrany do dostosowania wcięcia zawartości - zawartość ekranu `CalculatorsScreen` jest zawsze mniejsza niż rozmiar samego ekranu, więc pomijamy parametr`"
   ]
  },
  {
   "cell_type": "markdown",
   "id": "e8fa747d-44f0-4780-bf48-337a2433871e",
   "metadata": {},
   "source": [
    "Nawigację wywołujemy w `MainActivity`"
   ]
  },
  {
   "cell_type": "code",
   "execution_count": null,
   "id": "cb494f83-1892-4b05-8384-ffcd53aa3c9f",
   "metadata": {},
   "outputs": [],
   "source": [
    "class MainActivity : ComponentActivity() {\n",
    "    override fun onCreate(savedInstanceState: Bundle?) {\n",
    "        super.onCreate(savedInstanceState)\n",
    "        setContent {\n",
    "            CarsyComposeTheme {\n",
    "                // A surface container using the 'background' color from the theme\n",
    "                Surface(\n",
    "                    modifier = Modifier.fillMaxSize(),\n",
    "                    color = MaterialTheme.colorScheme.background\n",
    "                ) {\n",
    "                    Navigation()\n",
    "                }\n",
    "            }\n",
    "        }\n",
    "    }\n",
    "}"
   ]
  },
  {
   "cell_type": "markdown",
   "id": "622cb7ae-1313-4b87-bddb-b28363461d09",
   "metadata": {},
   "source": [
    "## OverviewScreen"
   ]
  },
  {
   "cell_type": "markdown",
   "id": "45424390-105d-4b23-a9bf-de4beb9c5c59",
   "metadata": {},
   "source": [
    "<img src=\"https://media1.giphy.com/media/v1.Y2lkPTc5MGI3NjExY2MzYmNiN2NmOTE4NDVmZGU4ZTQzNjQ3ZjVkZDlhNzE3MTc0Y2FmOCZlcD12MV9pbnRlcm5hbF9naWZzX2dpZklkJmN0PWc/UT1CIBlbL1FftHf9Hk/giphy.gif\" width=\"200\" />"
   ]
  },
  {
   "cell_type": "markdown",
   "id": "fcb517c8-5fff-4aee-b8ae-cf8e9720439d",
   "metadata": {},
   "source": [
    "Ekran mamy podzielony na trzy sekcje\n",
    "- Podumowanie kosztów - zawiera `LazyRow` którrego elementami są zestawienia kosztów dla każdego posiadanego samochodu\n",
    "- Garaż - zawiera `LazyRow` którego elementami są detale wszystkich posiadanych samochodów\n",
    "- Koszty całkowite - zawiera listę wszystkich poniesionych kosztów\n",
    "\n",
    "Dodajmy trzy metody"
   ]
  },
  {
   "cell_type": "code",
   "execution_count": null,
   "id": "11127071-0548-4d77-91e1-0972d13cf2c8",
   "metadata": {},
   "outputs": [],
   "source": [
    "private fun totalValue(costType: CostType): String {\n",
    "    return decimalFormat.format(\n",
    "        DataProvider.cars\n",
    "            .flatMap { it.costs }\n",
    "            .filter { it.type == costType }\n",
    "            .sumOf { it.amount }).toString()\n",
    "}"
   ]
  },
  {
   "cell_type": "code",
   "execution_count": null,
   "id": "235749a7-6e8a-41ea-adbf-f7e2516eb45c",
   "metadata": {},
   "outputs": [],
   "source": [
    "val decimalFormat = DecimalFormat(\"###,###.##\")"
   ]
  },
  {
   "cell_type": "markdown",
   "id": "0c830125-1216-4e97-ae74-78039c8ec721",
   "metadata": {},
   "source": [
    "Za pomocą metody `flatMap`, pobieramy wszystkie koszty ze wszystkich samochodów i łączymy je w jedną listę. Metoda `filter` filtruje koszty, aby wybrać tylko te, których typ odpowiada wartości `costType`. Na końcu, za pomocą metody `sumOf`, obliczamy sumę wartości dla wybranego typu kosztu. Wynik sumy jest sformatowany za pomocą `decimalFormat` i przekształcany na łańcuch znaków za pomocą metody `toString()`, który jest zwracany przez funkcję."
   ]
  },
  {
   "cell_type": "code",
   "execution_count": null,
   "id": "f9002544-8518-4a64-8694-7f6d97716f21",
   "metadata": {},
   "outputs": [],
   "source": [
    "private fun costValue(item: Car, costType: CostType) =\n",
    "    decimalFormat.format(item.costs\n",
    "        .filter { it.type == costType }\n",
    "        .sumOf { it.amount }).toString()"
   ]
  },
  {
   "cell_type": "markdown",
   "id": "e74c5ca3-f4ab-47ed-b055-c6e0bf671263",
   "metadata": {},
   "source": [
    "Za pomocą metody `filter`, filtrujemy koszty, aby wybrać tylko te, których typ odpowiada wartości `costType`. Na końcu, za pomocą metody `sumOf`, obliczamy sumę wartości kosztów dla wybranego typu. Wynik sumy jest sformatowany za pomocą `decimalFormat` i przekształcany na łańcuch znaków za pomocą metody `toString()`, który jest zwracany przez funkcję."
   ]
  },
  {
   "cell_type": "code",
   "execution_count": null,
   "id": "e7c89c4e-02cf-4cd3-a288-d7b331f76acd",
   "metadata": {},
   "outputs": [],
   "source": [
    "private fun getCarDetails(index: Int): List<Pair<String, String>> {\n",
    "    var data: List<Pair<String, String>>\n",
    "    DataProvider.cars[index].apply {\n",
    "        data = listOf(\n",
    "            \"Marka:\" to brand,\n",
    "            \"Model:\" to model,\n",
    "            \"Rok:\" to yearOfProduction.toString(),\n",
    "            \"Suma:\" to decimalFormat.format(costs.sumOf { cost -> cost.amount })\n",
    "                .toString() + \" zł\"\n",
    "        )\n",
    "    }\n",
    "    return data\n",
    "}"
   ]
  },
  {
   "cell_type": "markdown",
   "id": "8eff4e97-f5b6-4998-ac1c-ba435cfa4b38",
   "metadata": {},
   "source": [
    "Funkcja `getCarDetails`, zwraca listę par wartości typu `Pair<String, String>`. Funkcja przyjmuje jeden argument `index` typu `Int`, który wskazuje indeks samochodu w liście `DataProvider.cars`. Zwraca listę par wartości reprezentujących szczegóły dotyczące samochodu."
   ]
  },
  {
   "cell_type": "markdown",
   "id": "68b92f2b-7881-4f48-ae0d-c8380053a483",
   "metadata": {},
   "source": [
    "Przejdźmy do utworzenia interfejsu użytkownika, całość umieścimy w `Column`"
   ]
  },
  {
   "cell_type": "code",
   "execution_count": null,
   "id": "9c1f8b82-2cb9-4ccf-bfdd-bcefdf99984f",
   "metadata": {},
   "outputs": [],
   "source": [
    "Column(\n",
    "    modifier = Modifier\n",
    "        .padding(paddingValues)\n",
    "        .verticalScroll(rememberScrollState())\n",
    ") {)"
   ]
  },
  {
   "cell_type": "markdown",
   "id": "62935e54-bad0-4f47-ba2b-1fa555e7a55d",
   "metadata": {},
   "source": [
    "Prrzekazujemy `paddingValues` aby zmieścić zawartość i nie przykrywać jej przez `bottomBar`, wykorzystujemy również `verticalScroll` aby umożliwić przewijanie wertykalne. `rememberScrollState()` pozwala przechować stan scrolla - czyli miejsce w którym znajdujemy się na liście.\n",
    "\n",
    "Trzy sekcje będą znajdować się w kartach (`Card`) - elementy wewnętrzne posiadają własne karty. Pierwszym elementem każdej karty jest pasek tytułu, dodajmy dwie funkcje renderujące ten pasek dla zewnętrznych oraz wewnętrznych kart."
   ]
  },
  {
   "cell_type": "code",
   "execution_count": null,
   "id": "eab37d6a-fb06-4aaf-af17-344e369ba2e8",
   "metadata": {},
   "outputs": [],
   "source": [
    "@Composable\n",
    "private fun CreateOuterCardTitle(title: String) {\n",
    "    Box(\n",
    "        modifier = Modifier\n",
    "            .background(Color(128, 203, 196))\n",
    "            .fillMaxWidth()\n",
    "    ) {\n",
    "        Text(\n",
    "            text = title,\n",
    "            textAlign = TextAlign.Center,\n",
    "            modifier = Modifier.fillMaxWidth(),\n",
    "            fontSize = 24.sp,\n",
    "            fontWeight = FontWeight.Bold,\n",
    "            style = TextStyle.Default.copy(Color.Black)\n",
    "        )\n",
    "    }\n",
    "}"
   ]
  },
  {
   "cell_type": "markdown",
   "id": "0b09d327-2fe3-4bf7-ac86-fb5ae92ce67c",
   "metadata": {},
   "source": [
    "Funkcja `CreateOuterCardTitle` renderuje tytuł karty, który jest złożony z kontenera `Box` z tłem oraz komponentu `Text` z odpowiednimi stylami dla tekstu. Właściwość `modifier` komponentu `Box` jest odpowiedzialna za stylizację i układ. W tym przypadku używamy modyfikatora `background`, aby ustawić tło `Color(128, 203, 196)` dla kontenera. Modyfikator `fillMaxWidth()` rozciąga kontener na maksymalną szerokość dostępną. Wewnątrz znajduje się komponent `Text`, który renderuje tekst tytułu. Modyfikator `textAlign` ustawia wyśrodkowanie tekstu w kontenerze.  Określamy również rozmiar tekstu (`fontSize`), grubość tekstu (`fontWeight`), a także kolor tekstu (`style`), który jest skopiowany z domyślnego stylu, ale z innym kolorem (`Color.Black`).\n",
    "\n",
    "Przejdźmy do funkcji renderującej wewnętrzny pasek tytułu dla kart."
   ]
  },
  {
   "cell_type": "code",
   "execution_count": null,
   "id": "2b048c5b-e71d-4c4f-aeff-9053b4792c94",
   "metadata": {},
   "outputs": [],
   "source": [
    "@Composable\n",
    "private fun CreateInnerCardTitle(title: String, width: Int) {\n",
    "    Box(\n",
    "        modifier = Modifier\n",
    "            .width(width.dp)\n",
    "            .background(Color(166, 111, 131))\n",
    "    ) {\n",
    "        Text(\n",
    "            text = title,\n",
    "            textAlign = TextAlign.Center,\n",
    "            modifier = Modifier.fillMaxWidth(),\n",
    "            fontSize = 20.sp,\n",
    "            fontWeight = FontWeight.Bold,\n",
    "            style = TextStyle.Default.copy(Color.Black)\n",
    "        )\n",
    "    }\n",
    "}"
   ]
  },
  {
   "cell_type": "markdown",
   "id": "85558c63-4f68-4d11-99a8-beac5c0dbaac",
   "metadata": {},
   "source": [
    "Funkcja przyjmuje dwa argumenty: `title` typu `String` oraz `width` typu `Int`. Szerokość `Box` jest ustawiony na podstawie wartości width (`width(width.dp)`), dodatkowo, modyfikator modifier dla komponentu Box ustawia `background` na `Color(166, 111, 131)`"
   ]
  },
  {
   "cell_type": "markdown",
   "id": "0fa48485-b943-47d6-b789-fd1984441527",
   "metadata": {},
   "source": [
    "Kolejnym elementem będzie komponent renderujący zawartość wewnętrznej karty."
   ]
  },
  {
   "cell_type": "code",
   "execution_count": null,
   "id": "8fc6a1ab-02ea-4105-880f-8706fa9cb6fe",
   "metadata": {},
   "outputs": [],
   "source": [
    "@Composable\n",
    "private fun CreateInnerCardRow(firstText: String, secondText: String) {\n",
    "    Row(modifier = Modifier.fillMaxWidth()) {\n",
    "        Text(\n",
    "            text = firstText,\n",
    "            fontSize = 16.sp,\n",
    "            modifier = Modifier.padding(start = 4.dp)\n",
    "        )\n",
    "        Spacer(modifier = Modifier.weight(1f))\n",
    "        Text(\n",
    "            text = secondText,\n",
    "            fontSize = 16.sp,\n",
    "            fontWeight = FontWeight.Bold,\n",
    "            modifier = Modifier.padding(end = 4.dp)\n",
    "        )\n",
    "    }\n",
    "}"
   ]
  },
  {
   "cell_type": "markdown",
   "id": "bc257e1d-7411-4df9-a72e-e734a87642ce",
   "metadata": {},
   "source": [
    "Funkcja przyjmuje dwa argumenty typu `String`: `firstText` i `secondText`, które reprezentują tekst do wyświetlenia w pierwszej i drugiej kolumnie wiersza. Wewnątrz funkcji tworzymy wiersz (`Row`). Wewnątrz, definiujemy dwa teksty (`Text`). Pierwszy tekst (`firstText`) jest umieszczony w lewej kolumnie wiersza, a drugi tekst (`secondText`) jest umieszczony w prawej kolumnie wiersza. Dodajemy `Spacer` z właściwością `weight(1f)`, aby wypełnić dostępną przestrzeń między dwoma tekstami i rozciągnąć drugi tekst do końca wiersza."
   ]
  },
  {
   "cell_type": "markdown",
   "id": "d0eff5d0-5dd5-4b53-bd30-2e29c0ff2374",
   "metadata": {},
   "source": [
    "Pierwsza karta będzie zawierała podsumowanie kosztów, rozpoczynamy od dodanie samej karty, oraz tytułu"
   ]
  },
  {
   "cell_type": "code",
   "execution_count": null,
   "id": "f2409ae9-e232-4a02-ba7e-80a86d68e595",
   "metadata": {},
   "outputs": [],
   "source": [
    "Card(\n",
    "    modifier = Modifier\n",
    "        .fillMaxWidth()\n",
    "        .padding(12.dp)\n",
    ") {\n",
    "    CreateOuterCardTitle(\"Podsumowanie kosztów\")"
   ]
  },
  {
   "cell_type": "markdown",
   "id": "90b44d4f-a02f-47e9-a6bc-e20ef81c82f3",
   "metadata": {},
   "source": [
    "Następnie dodajmy `LazyRow`"
   ]
  },
  {
   "cell_type": "code",
   "execution_count": null,
   "id": "6f8ff32d-54ec-4f89-a10a-14d83416aab8",
   "metadata": {},
   "outputs": [],
   "source": [
    "LazyRow(\n",
    "    modifier = Modifier\n",
    "        .fillMaxWidth()\n",
    "        .padding(12.dp)\n",
    "){\n",
    "    items(DataProvider.cars.size){ index ->\n",
    "        ...\n",
    "    }\n",
    "}"
   ]
  },
  {
   "cell_type": "markdown",
   "id": "b70e442d-3e70-4b72-a4ef-f702d5c3e66b",
   "metadata": {},
   "source": [
    "Każdy element `LazyRow` jest kartą zawierającą tytuł oraz listę elementów"
   ]
  },
  {
   "cell_type": "code",
   "execution_count": null,
   "id": "50834688-8fce-43c8-8835-749e2b1a9888",
   "metadata": {},
   "outputs": [],
   "source": [
    "LazyRow(\n",
    "    modifier = Modifier\n",
    "        .fillMaxWidth()\n",
    "        .padding(12.dp)\n",
    "){\n",
    "    items(DataProvider.cars.size){ index ->\n",
    "        Card(\n",
    "            modifier = Modifier\n",
    "                .padding(4.dp)\n",
    "                .fillMaxWidth(),\n",
    "            elevation = CardDefaults.cardElevation(8.dp)\n",
    "        ) {\n",
    "            CreateInnerCardTitle(title = DataProvider.cars[index].name, width = 250)\n",
    "            Column(\n",
    "                modifier = Modifier\n",
    "                    .width(250.dp)\n",
    "                    .padding(bottom = 8.dp)\n",
    "            ) {\n",
    "                CostType.values().forEach {\n",
    "                    CreateInnerCardRow(\n",
    "                        it.costType,\n",
    "                        costValue(DataProvider.cars[index], it) + \" zł\"\n",
    "                    )\n",
    "                }\n",
    "            }\n",
    "        }\n",
    "    }\n",
    "}"
   ]
  },
  {
   "cell_type": "markdown",
   "id": "be2794f3-86eb-4223-aea5-196a9455e07b",
   "metadata": {},
   "source": [
    "Dodajemy tytuł karty oraz tworzymy `Column`, w której umieszczamy wszystkie wartości dla danego kosztu. Dla każdego poniesionego typu kosztu dodajemy komponent `CreateInnerCardRow`"
   ]
  },
  {
   "cell_type": "markdown",
   "id": "72aecc8d-acbb-4e25-b640-1a27dd4719a8",
   "metadata": {},
   "source": [
    "Podobnie tworzymy kolejną kartę reprezentującą garaż."
   ]
  },
  {
   "cell_type": "code",
   "execution_count": null,
   "id": "defc2852-05b7-4f90-bf7d-5ec8da0dc3e3",
   "metadata": {},
   "outputs": [],
   "source": [
    "Card(\n",
    "    modifier = Modifier\n",
    "        .fillMaxWidth()\n",
    "        .padding(12.dp)\n",
    ") {\n",
    "    CreateOuterCardTitle(title = \"Garaż\")\n",
    "\n",
    "    LazyRow(\n",
    "        modifier = Modifier\n",
    "            .fillMaxWidth()\n",
    "            .padding(12.dp)\n",
    "    ){\n",
    "        items(DataProvider.cars.size){ index ->\n",
    "            Card(\n",
    "                modifier = Modifier\n",
    "                    .padding(4.dp)\n",
    "                    .fillMaxWidth(),\n",
    "                elevation = CardDefaults.cardElevation(8.dp)\n",
    "            ) {\n",
    "                CreateInnerCardTitle(title = DataProvider.cars[index].name, width = 200)\n",
    "                Column(\n",
    "                    modifier = Modifier\n",
    "                        .width(200.dp)\n",
    "                        .padding(bottom = 8.dp)\n",
    "                ) {\n",
    "                    val data: List<Pair<String, String>> = getCarDetails(index)\n",
    "                    data.forEach {\n",
    "                        CreateInnerCardRow(\n",
    "                            firstText = it.first,\n",
    "                            secondText = it.second\n",
    "                        )\n",
    "                    }\n",
    "                }\n",
    "            }\n",
    "        }\n",
    "    }\n",
    "}"
   ]
  },
  {
   "cell_type": "code",
   "execution_count": null,
   "id": "f4989ee3-db4d-41fb-96db-fdf2cc9076ec",
   "metadata": {},
   "outputs": [],
   "source": [
    "fun <T> List<T>.second(): T {\n",
    "    return this[1]\n",
    "}\n",
    "\n",
    "fun <T> List<T>.third(): T {\n",
    "    return this[2]\n",
    "}"
   ]
  },
  {
   "cell_type": "markdown",
   "id": "0c700ecf-5240-495c-9292-5aa6e37ea23b",
   "metadata": {},
   "source": [
    "Ostatnią kartą są koszty całkowite."
   ]
  },
  {
   "cell_type": "code",
   "execution_count": null,
   "id": "332d0617-25c6-427c-9ee3-21aee724111b",
   "metadata": {},
   "outputs": [],
   "source": [
    "Card(\n",
    "    modifier = Modifier\n",
    "        .fillMaxWidth()\n",
    "        .padding(12.dp)\n",
    ") {\n",
    "    CreateOuterCardTitle(\"Koszty całkowite\")\n",
    "\n",
    "    Card(\n",
    "        modifier = Modifier\n",
    "            .padding(4.dp)\n",
    "            .fillMaxWidth(),\n",
    "        elevation = CardDefaults.cardElevation(8.dp)\n",
    "    ) {\n",
    "        Column(\n",
    "            modifier = Modifier\n",
    "                .fillMaxWidth()\n",
    "                .padding(bottom = 8.dp)\n",
    "        ) {\n",
    "            CostType.values().forEach {\n",
    "                CreateInnerCardRow(it.costType, totalValue(it) + \" zł\")\n",
    "            }\n",
    "        }\n",
    "    }\n",
    "}"
   ]
  },
  {
   "cell_type": "markdown",
   "id": "f87d3de6-b6da-484a-ac1d-d6306f83356d",
   "metadata": {},
   "source": [
    "Mamy tylko jeden element, więc pomijamy tworzenie `LazyRow`"
   ]
  },
  {
   "cell_type": "markdown",
   "id": "14ab69cd-67fd-4d7b-a1ee-490c751272c1",
   "metadata": {},
   "source": [
    "W efekcie nasz ekran wygląda nastepująco"
   ]
  },
  {
   "cell_type": "markdown",
   "id": "7f66347e-50f8-4e09-850a-bed82ec02264",
   "metadata": {},
   "source": [
    "<img src=\"https://media1.giphy.com/media/v1.Y2lkPTc5MGI3NjExY2MzYmNiN2NmOTE4NDVmZGU4ZTQzNjQ3ZjVkZDlhNzE3MTc0Y2FmOCZlcD12MV9pbnRlcm5hbF9naWZzX2dpZklkJmN0PWc/UT1CIBlbL1FftHf9Hk/giphy.gif\" width=\"200\" />"
   ]
  },
  {
   "cell_type": "markdown",
   "id": "dea167f6-e22e-4b21-8c7a-17dac9360078",
   "metadata": {},
   "source": [
    "## TimeLineScreen"
   ]
  },
  {
   "cell_type": "markdown",
   "id": "91f7418a-fa52-47ae-bc3c-2822d38720f7",
   "metadata": {},
   "source": [
    "Ekran linii czasu jest nieco bardziej skomplikowany, mamy jedą listę elementów różnych typów - dla każdego typu chcemy wywołać inną funkcję `Composable`. Dodatkowo dodamy `DropDownMenu` aby umnożliwić wyświetlenie linii czasu dla wybranego pojazdu."
   ]
  },
  {
   "cell_type": "markdown",
   "id": "b1a2374d-8419-407a-b5a4-2f4b003df81d",
   "metadata": {},
   "source": [
    "<img src=\"https://media0.giphy.com/media/v1.Y2lkPTc5MGI3NjExYWRlZGExYmI4OTZlNjY4MzZiM2NkZmE4ZWMzN2VlMGVjZjk4YWRhOSZlcD12MV9pbnRlcm5hbF9naWZzX2dpZklkJmN0PWc/lx96i0NeTGeYV35NFl/giphy.gif\" width=\"200\" />"
   ]
  },
  {
   "cell_type": "markdown",
   "id": "49d4b56c-2c9a-4a09-9888-62633a433874",
   "metadata": {},
   "source": [
    "Rozpocznijmy od dodania `DropDownMenu` - samo pole składa się z `OutlinedTextField` oraz `DropDownMenu`. Wpierw potrzebujemy kilka zmiennych. \n",
    "\n",
    "Pierwszą są dane do przetwarzania."
   ]
  },
  {
   "cell_type": "code",
   "execution_count": null,
   "id": "5bc3c9a2-63ab-4108-b3a0-b4ca045d6b3b",
   "metadata": {},
   "outputs": [],
   "source": [
    "val cars = remember { DataProvider.cars }"
   ]
  },
  {
   "cell_type": "markdown",
   "id": "6d0e3711-9978-4754-98f0-0eaab5d7bfee",
   "metadata": {},
   "source": [
    "Potrzebujemy również flagę przechowującą informację o stanie listy rozwijanej (rozwinięta/zwinięta)"
   ]
  },
  {
   "cell_type": "code",
   "execution_count": null,
   "id": "b7636532-b52e-4fcd-87ce-3aa1026bf0c8",
   "metadata": {},
   "outputs": [],
   "source": [
    "var expanded by remember { mutableStateOf(false) }"
   ]
  },
  {
   "cell_type": "markdown",
   "id": "1bc7b709-dcae-4827-99a6-b0d8abd74fa3",
   "metadata": {},
   "source": [
    "Konieczna będzie również zmienna przechowująca aktualnie wybraną opcję"
   ]
  },
  {
   "cell_type": "code",
   "execution_count": null,
   "id": "2e1182ec-3018-4eb9-9d66-dea4eccc6a2c",
   "metadata": {},
   "outputs": [],
   "source": [
    "var selectedText by remember { mutableStateOf(cars.first().name) }"
   ]
  },
  {
   "cell_type": "markdown",
   "id": "274b9a5f-3638-4405-bcf7-7d874f3b3a82",
   "metadata": {},
   "source": [
    "W celu wyświetlenia i zarządzania rozwijanym menu wykorzystamy również pole przechowujące aktualny rozmiar"
   ]
  },
  {
   "cell_type": "code",
   "execution_count": null,
   "id": "1ca72583-831c-486d-bfbb-d121c9626443",
   "metadata": {},
   "outputs": [],
   "source": [
    "var textFieldSize by remember { mutableStateOf(Size.Zero) }"
   ]
  },
  {
   "cell_type": "markdown",
   "id": "57edc677-2c4f-4fe4-8548-48a831aa9450",
   "metadata": {},
   "source": [
    "Potrzebujemy również dane do wyświetlenia na linii czasu"
   ]
  },
  {
   "cell_type": "code",
   "execution_count": null,
   "id": "bab62bac-7d63-4dc2-80f5-cba617712354",
   "metadata": {},
   "outputs": [],
   "source": [
    "val data = remember {\n",
    "    mutableStateListOf(DataProvider.getTimeLineList(cars.first().costs)) // domyślnie wyświetlamy pierwszy z listy\n",
    "}"
   ]
  },
  {
   "cell_type": "markdown",
   "id": "60514243-f850-48ee-828d-22d68da6c5db",
   "metadata": {},
   "source": [
    "Ostatnim elementem będzie ikona w polu tekstowym wskazująca czy lista jest zwinięta/rozwinięta - po kliknięciu następuje zmiana stanu"
   ]
  },
  {
   "cell_type": "code",
   "execution_count": null,
   "id": "8c5be172-f7a9-47ee-90af-b84fddf0db26",
   "metadata": {},
   "outputs": [],
   "source": [
    "val icon = if (expanded)\n",
    "    Icons.Filled.ArrowUpward\n",
    "else\n",
    "    Icons.Filled.ArrowDownward"
   ]
  },
  {
   "cell_type": "markdown",
   "id": "a80b1688-b76f-47d6-ae74-3d715fe85cd3",
   "metadata": {},
   "source": [
    "Zewnętrznym elementem jest kolumna bez modyfikatorów"
   ]
  },
  {
   "cell_type": "code",
   "execution_count": null,
   "id": "cf603608-26c2-49e0-b613-f9640a083d02",
   "metadata": {},
   "outputs": [],
   "source": [
    "Column {}"
   ]
  },
  {
   "cell_type": "markdown",
   "id": "64caedcb-06b6-4b92-adf5-b2ded325d05e",
   "metadata": {},
   "source": [
    "Wewnątrz umieścimy listę rozwijaną oraz linię czasu.\n",
    "\n",
    "Samą rozwijaną listę umieścimy również wc kolumnie - będzie zawierać, jak wcześniej wspomniałem, dwa elementy\n",
    "- `OutlineTextField` - wyświetlanie aktualnie wybranego tekstu\n",
    "- `DropDownMenu` - lista dostępnych opcji\n",
    "\n"
   ]
  },
  {
   "cell_type": "code",
   "execution_count": null,
   "id": "4af2cb9d-c530-45d0-9f4f-bc6cbcfa35bf",
   "metadata": {},
   "outputs": [],
   "source": [
    "Column(Modifier.padding(20.dp)) {\n",
    "    OutlinedTextField(\n",
    "        ...\n",
    "    )\n",
    "    DropdownMenu(\n",
    "        ...\n",
    "    )\n",
    "}"
   ]
  },
  {
   "cell_type": "markdown",
   "id": "801a50ae-3621-4e97-afd1-d16fc4e719f6",
   "metadata": {},
   "source": [
    "Rozpocznijmy od pola tekstowego"
   ]
  },
  {
   "cell_type": "code",
   "execution_count": null,
   "id": "8d82c2a7-b88d-486a-a664-6664b1a6ce2a",
   "metadata": {},
   "outputs": [],
   "source": [
    "OutlinedTextField(\n",
    "    value = selectedText,\n",
    "    readOnly = true,\n",
    "    onValueChange = { selectedText = it },\n",
    "    modifier = Modifier\n",
    "        .fillMaxWidth()\n",
    "        .onGloballyPositioned { coordinates ->\n",
    "            textFieldSize = coordinates.size.toSize()\n",
    "        },\n",
    "    label = { Text(\"Kolekcja\", fontSize = 18.sp) },\n",
    "    trailingIcon = {\n",
    "        Icon(icon, \"contentDescription\",\n",
    "            Modifier.clickable { expanded = !expanded })\n",
    "    },\n",
    "    textStyle = TextStyle.Default.copy(fontSize = 24.sp, textAlign = TextAlign.Center)\n",
    ")"
   ]
  },
  {
   "cell_type": "markdown",
   "id": "1a5e2a21-6bd9-481b-b4bb-ef1f0a5bcbab",
   "metadata": {},
   "source": [
    "- `value` - Określa wartość tekstową pola tekstowego. W tym przypadku `selectedText` jest zmienną przechowującą wartość pola tekstowego.\n",
    "\n",
    "- `readOnly` Określa, czy pole tekstowe jest tylko do odczytu. Ustawione na `true` oznacza, że pole tekstowe nie może być edytowane.\n",
    "- `onValueChange` Funkcja wywoływana przy zmianie wartości pola tekstowego. Aktualizuje wartość zmiennej `selectedText` na nową wartość wprowadzoną przez użytkownika - wybraną z listy.\n",
    "- `modifier` Modyfikator określający wygląd i układ pola tekstowego. \n",
    "- `onGloballyPositioned` pozwala na przechwycenie informacji o rozmiarze pola tekstowego i przypisanie go do zmiennej textFieldSize. Funkcja jest wywoływana, gdy pole tekstowe zostaje umieszczone na ekranie i obliczone są jego współrzędne oraz rozmiar. Wartość `coordinates` przechowuje informacje o położeniu i rozmiarze pola tekstowego. W ten sposób możliwe jest przechowywanie informacji o rozmiarze pola tekstowego w zmiennej `textFieldSize` i wykorzystanie jej w innych częściach kodu - zostanie wykorzystana do ustalenia szerokości listy rozwijanej.\n",
    "- `label` Etykieta pola tekstowego wyświetlana powyżej pola.\n",
    "- `trailingIcon` Ikona wyświetlana na końcu pola tekstowego. Wykorzystuje komponent `Icon` z przekazaną ikoną i opisem treści. Dodatkowo, `Modifier.clickable` umożliwia obsługę kliknięcia na ikonę, co powoduje zmianę wartości zmiennej `expanded` i zwinięcie/rozwinięcie listy.\n",
    "- `textStyle` Określa styl czcionki dla tekstu w polu tekstowym."
   ]
  },
  {
   "cell_type": "markdown",
   "id": "c4fa0105-3491-4b20-a3ea-932b364adb3d",
   "metadata": {},
   "source": [
    "Następnie dodajmy `DroppDownMenu`"
   ]
  },
  {
   "cell_type": "code",
   "execution_count": null,
   "id": "d642eb35-d16c-42df-a3d3-2903a4e03721",
   "metadata": {},
   "outputs": [],
   "source": [
    "DropdownMenu(\n",
    "    expanded = expanded,\n",
    "    onDismissRequest = { expanded = false },\n",
    "    modifier = Modifier\n",
    "        .width(with(LocalDensity.current) { textFieldSize.width.toDp() })\n",
    ") {\n",
    "    cars.map { it.name }.forEach { name ->\n",
    "        DropdownMenuItem(\n",
    "            ...\n",
    "        )\n",
    "    }\n",
    "}"
   ]
  },
  {
   "cell_type": "markdown",
   "id": "c5e116c8-7467-4420-bfe7-bebf0b0a84c1",
   "metadata": {},
   "source": [
    "`onDismissRequest` jest funkcją obsługującą żądanie zamknięcia menu. W przypadku kliknięcia poza menu lub wywołania funkcji `onDismiss` menu zostanie zamknięte. Wartość `with(LocalDensity.current) { textFieldSize.width.toDp() }` konwertuje szerokość pola tekstowego przechowywaną w zmiennej `textFieldSize` na jednostki `Dp`, co umożliwia elastyczne dostosowanie szerokości menu do szerokości pola tekstowego. Dodajmy element do menu."
   ]
  },
  {
   "cell_type": "code",
   "execution_count": null,
   "id": "346ed552-2a32-431b-bbac-b923f84fd811",
   "metadata": {},
   "outputs": [],
   "source": [
    "DropdownMenuItem(\n",
    "    text = {\n",
    "        Text(\n",
    "            text = name,\n",
    "            fontSize = 24.sp,\n",
    "            textAlign = TextAlign.Center,\n",
    "            modifier = Modifier.fillMaxWidth()\n",
    "        )\n",
    "           },\n",
    "    onClick = {\n",
    "        selectedText = name\n",
    "        expanded = false\n",
    "        data.clear()\n",
    "        data.add(DataProvider.getTimeLineList(cars.find { it.name == selectedText }!!.costs))\n",
    "    },\n",
    "    modifier = Modifier.fillMaxWidth()\n",
    ")"
   ]
  },
  {
   "cell_type": "markdown",
   "id": "66899f10-bed2-4b60-b6e8-b135de907adf",
   "metadata": {},
   "source": [
    "Po kliknięciu przypisujemy nazwę do `selectedText`, zmieniamy flagę `expanded`, czyścimy dane oraz dodajemy nową linię czasu, odpowiadającą wybranemu elementowi."
   ]
  },
  {
   "cell_type": "markdown",
   "id": "c44b8470-0d25-4d60-af22-f08695353659",
   "metadata": {},
   "source": [
    "Następnie dodamy `LazyColumn`, wyświetlający nasze dane."
   ]
  },
  {
   "cell_type": "code",
   "execution_count": null,
   "id": "a58c4982-baca-4933-8c32-01a0ae78864c",
   "metadata": {},
   "outputs": [],
   "source": [
    "LazyColumn(\n",
    "    modifier = Modifier\n",
    "        .padding(paddingValues)\n",
    "        .fillMaxSize(),\n",
    "    verticalArrangement = Arrangement.Center,\n",
    "    horizontalAlignment = Alignment.CenterHorizontally\n",
    ") {\n",
    "    items(data.first().size) { index ->\n",
    "        when (data.first()[index]) {\n",
    "            is CostListItem.CostYearItem -> YearItem(item = data.first()[index] as CostListItem.CostYearItem)\n",
    "            is CostListItem.CostMonthItem -> MonthItem(item = data.first()[index] as CostListItem.CostMonthItem)\n",
    "            is CostListItem.CostGeneralItem -> GeneralItem(item = data.first()[index] as CostListItem.CostGeneralItem)\n",
    "        }\n",
    "    }\n",
    "}"
   ]
  },
  {
   "cell_type": "markdown",
   "id": "c7a44549-8186-4403-8748-3e388f712f15",
   "metadata": {},
   "source": [
    "W zależności od typu pola (`CostYearItem`, `CostMonthItem`, `CostGeneralItem`), chcemy wyświetlić element z innym layoutem - gdyby wykorzystane było tylko grupowanie po jednym elemencie, można wykorzystać `Sticky headers` z biblioteki `Compose`, ponieważ chcemy grupowac w pierwszej kolejności po roku, następnie po miesiącu, musimy to zaimplementować od podstaw.\n",
    "\n",
    "Dodajmy te trzy `Composable`, zacznijmy od wyświetlania roku - tutaj chcemy tylko wycentrowane pole tekstowe"
   ]
  },
  {
   "cell_type": "code",
   "execution_count": null,
   "id": "002683b3-0f51-41ff-9c5d-1e9c5e678119",
   "metadata": {},
   "outputs": [],
   "source": [
    "@Composable\n",
    "private fun YearItem(item: CostListItem.CostYearItem) {\n",
    "    Text(\n",
    "        text = item.year,\n",
    "        fontSize = 36.sp,\n",
    "        fontWeight = FontWeight.Bold,\n",
    "        color = Color(128, 203, 196),\n",
    "        modifier = Modifier\n",
    "            .height(66.dp)\n",
    "            .padding(top = 12.dp)\n",
    "    )\n",
    "}"
   ]
  },
  {
   "cell_type": "markdown",
   "id": "fe9e2353-3f93-424f-824b-8c7290ce1ae2",
   "metadata": {},
   "source": [
    "Komponent reprezentujący miesiąc zawiera jego nazwę oraz dwa elementy graficzne - linię oraz ikonę (kółko)."
   ]
  },
  {
   "cell_type": "code",
   "execution_count": null,
   "id": "14df6e87-de59-4202-8a03-1d483de34de0",
   "metadata": {},
   "outputs": [],
   "source": [
    "@Composable\n",
    "private fun MonthItem(item: CostListItem.CostMonthItem) {\n",
    "    Row(\n",
    "        modifier = Modifier\n",
    "            .fillMaxWidth()\n",
    "            .height(40.dp)\n",
    "    ) {\n",
    "        Box(modifier = Modifier\n",
    "            .width(60.dp)\n",
    "            .fillMaxHeight()\n",
    "            .drawWithContent {\n",
    "                drawContent()\n",
    "                drawLine(\n",
    "                    color = Color(128, 203, 196),\n",
    "                    start = Offset(size.width / 2, 0f),\n",
    "                    end = Offset(size.width / 2, size.height),\n",
    "                    strokeWidth = 4.dp.toPx()\n",
    "                )\n",
    "            }\n",
    "        ) {\n",
    "            Image(\n",
    "                imageVector = Icons.Default.Circle,\n",
    "                contentDescription = \"\",\n",
    "                modifier = Modifier\n",
    "                    .fillMaxWidth()\n",
    "                    .padding(top = 6.dp),\n",
    "                colorFilter = ColorFilter.tint(Color(128, 203, 196))\n",
    "            )\n",
    "\n",
    "        }\n",
    "        Text(\n",
    "            text = item.month,\n",
    "            color = Color(166, 111, 131),\n",
    "            fontSize = 24.sp,\n",
    "            fontWeight = FontWeight.Bold,\n",
    "            textAlign = TextAlign.Center,\n",
    "            modifier = Modifier.fillMaxWidth(.8f)\n",
    "        )\n",
    "    }\n",
    "}"
   ]
  },
  {
   "cell_type": "markdown",
   "id": "4aba2583-7603-453a-96e5-44fa87c4efdc",
   "metadata": {},
   "source": [
    "W części `Box` jest rysowana jest pozioma linia wyśrodkowana wewnątrz prostokątnego obszaru o szerokości `60.dp` i pełnej wysokości. Linia ma kolor `(128, 203, 196)` i grubość `4.dp`. Ponad obszarem znajduje się ikona (`Icons.Default.Circle`), który ma ustawiony kolor na `(128, 203, 196)` - `Box` pozwala na umieszczanie elementów jeden na drugim. W części `Text` znajduje się tekst reprezentujący nazwę miesiąca.\n",
    "\n",
    "Metoda `drawWithContent` jest wywoływana na modifiekatorze `Box` i pozwala na rysowanie własnych treści wewnątrz komponentu. Wewnątrz metody najpierw wywoływana jest funkcja `drawContent()`, która rysuje oryginalną zawartość komponentu. Następnie wywoływana jest funkcja `drawLine`, która rysuje poziomą linię środkową.\n",
    "\n",
    "- `start` Punkt początkowy linii, który jest ustawiony na połowę szerokości prostokątnego obszaru (`size.width / 2`) i wysokość `0f`.\n",
    "- `end` Punkt końcowy linii, który jest ustawiony na połowę szerokości prostokątnego obszaru (`size.width / 2`) i wysokość `size.height`.\n",
    "- `strokeWidth` Grubość linii, która jest ustawiona na wartość `4.dp.toPx()`, czyli przeliczenie `4.dp` na piksele."
   ]
  },
  {
   "cell_type": "markdown",
   "id": "3fb3ad52-cb55-4442-8ada-cc71f5d30661",
   "metadata": {},
   "source": [
    "Ostatnim elementem jest `GeneralItem`, tuitaj w komponencie `Box` chcemy umieścić linię jako pierwszy element, kółko jako drugi, oraz ikonę jako trzeci."
   ]
  },
  {
   "cell_type": "code",
   "execution_count": null,
   "id": "e0188088-235b-401b-babb-0ff79e838bce",
   "metadata": {},
   "outputs": [],
   "source": [
    "@Composable\n",
    "private fun GeneralItem(item: CostListItem.CostGeneralItem) {\n",
    "    Row(\n",
    "        modifier = Modifier.height(68.dp),\n",
    "        verticalAlignment = Alignment.CenterVertically\n",
    "    ) {\n",
    "        Box(\n",
    "            modifier = Modifier\n",
    "                .width(60.dp)\n",
    "                .fillMaxHeight(),\n",
    "            contentAlignment = Alignment.Center\n",
    "        ) {\n",
    "            Canvas(modifier = Modifier.fillMaxSize()) {\n",
    "                drawLine(\n",
    "                    color = Color(128, 203, 196),\n",
    "                    start = Offset(size.width / 2, 0f),\n",
    "                    end = Offset(size.width / 2, size.height),\n",
    "                    strokeWidth = 4.dp.toPx()\n",
    "                )\n",
    "            }\n",
    "            Image(\n",
    "                imageVector = Icons.Default.Circle,\n",
    "                contentDescription = \"\",\n",
    "                modifier = Modifier\n",
    "                    .size(48.dp)\n",
    "                    .fillMaxWidth()\n",
    "                    .padding(top = 6.dp),\n",
    "                colorFilter = ColorFilter.tint(Color(128, 203, 196))\n",
    "            )\n",
    "\n",
    "            Image(\n",
    "                imageVector = item.cost.type.icon,\n",
    "                contentDescription = \"\",\n",
    "                modifier = Modifier\n",
    "                    .size(24.dp)\n",
    "                    .padding(top = 4.dp)\n",
    "            )\n",
    "\n",
    "        }\n",
    "        Column(Modifier) {\n",
    "            Text(\n",
    "                text = item.cost.type.costType,\n",
    "                fontSize = 20.sp,\n",
    "                color = Color(128, 203, 196)\n",
    "            )\n",
    "            Text(\n",
    "                text = item.cost.date.format(dateFormatter),\n",
    "                fontSize = 12.sp,\n",
    "                color = Color(128, 203, 196)\n",
    "            )\n",
    "        }\n",
    "        Spacer(Modifier.weight(1f))\n",
    "        Text(\n",
    "            text = item.cost.amount.toString().format(decimalFormat) + \" zł\",\n",
    "            modifier = Modifier\n",
    "                .align(Alignment.CenterVertically)\n",
    "                .padding(end = 12.dp),\n",
    "            fontSize = 24.sp,\n",
    "            fontWeight = FontWeight.Bold,\n",
    "            color = Color(128, 203, 196)\n",
    "        )\n",
    "    }\n",
    "}"
   ]
  },
  {
   "cell_type": "code",
   "execution_count": null,
   "id": "732a5c9a-f3d1-41ea-9117-82d200833677",
   "metadata": {},
   "outputs": [],
   "source": [
    "val dateFormatter: DateTimeFormatter = DateTimeFormatter.ofPattern(\"dd MMM yyyy\", Locale(\"pl\"))"
   ]
  },
  {
   "cell_type": "markdown",
   "id": "e4e795e7-42ae-4fe7-ae96-e6ff8b0b0012",
   "metadata": {},
   "source": [
    "Pierwszy element to `Box`, który zawiera linię środkową oraz ikony okręgu i ikony typu kosztu. Linia środkowa jest rysowana przy użyciu komponentu `Canvas` i funkcji `drawLine`. Ikony okręgu i typu kosztu są renderowane przy użyciu komponentu `Image`. Ustawione są odpowiednie kolory i rozmiary dla tych elementów. Drugi element to `Column`, który zawiera dwa teksty: typ kosztu i data. Teksty są renderowane przy użyciu komponentu `Text`. Trzeci element to `Spacer` z ustawioną wagą `1f`, co powoduje, że zajmuje dostępne dostępne miejsce i przesuwa następne elementy na prawą stronę. Ostatnim elementem jest `Text`, który wyświetla wartość kosztu. Ustawione są odpowiednie style, rozmiar, waga czcionki i kolor."
   ]
  },
  {
   "cell_type": "markdown",
   "id": "01dec18a-043c-4c5f-969f-4caf87cbfe48",
   "metadata": {},
   "source": [
    "W efekcie nasz ekran wygląda nastepująco"
   ]
  },
  {
   "cell_type": "markdown",
   "id": "0d9f85d6-0585-422c-b877-4c93cb9da3db",
   "metadata": {},
   "source": [
    "<img src=\"https://media0.giphy.com/media/v1.Y2lkPTc5MGI3NjExYWRlZGExYmI4OTZlNjY4MzZiM2NkZmE4ZWMzN2VlMGVjZjk4YWRhOSZlcD12MV9pbnRlcm5hbF9naWZzX2dpZklkJmN0PWc/lx96i0NeTGeYV35NFl/giphy.gif\" width=\"200\" />"
   ]
  },
  {
   "cell_type": "markdown",
   "id": "41dc703a-0811-45ce-9e74-df88e2edc0f1",
   "metadata": {},
   "source": [
    "## CalculatorsScreen"
   ]
  },
  {
   "cell_type": "markdown",
   "id": "80e65f66-b443-4015-8f25-f7b6df63eccc",
   "metadata": {},
   "source": [
    "Ostatni ekran będzie zawierał kilka kalkulatorów wybieranych przez `DropDownMenu`. "
   ]
  },
  {
   "cell_type": "markdown",
   "id": "4c74d93c-8cbb-4fe2-98ff-1e50df574b39",
   "metadata": {},
   "source": [
    "<img src=\"https://media3.giphy.com/media/v1.Y2lkPTc5MGI3NjExZDFmZTkxZjIxNzQ0NTJmNDFlM2NhN2NiNTlmYzU2N2ZkZTVhODM3MyZlcD12MV9pbnRlcm5hbF9naWZzX2dpZklkJmN0PWc/WyCanQMjlfmYguKc3l/giphy.gif\" width=\"200\" />"
   ]
  },
  {
   "cell_type": "markdown",
   "id": "a6bd762b-3fed-4a3b-8305-de1bae8b82c6",
   "metadata": {},
   "source": [
    "Będziemy się posługiwali edytowalnymi polami, obliczenia zostaną wykonane po naciśnięciu przycisku. Wpierw dodajmy funkcję sprawdzającą, czy wszystkie pola zostały wypełnione."
   ]
  },
  {
   "cell_type": "code",
   "execution_count": null,
   "id": "cc13f863-52e4-4060-aede-8d88741c4caa",
   "metadata": {},
   "outputs": [],
   "source": [
    "fun areFieldsEmptyOrNull(fieldTop: String?, fieldMiddle: String?, fieldBottom: String?): Boolean {\n",
    "    return fieldTop.isNullOrEmpty() || fieldMiddle.isNullOrEmpty() || fieldBottom.isNullOrEmpty()\n",
    "}"
   ]
  },
  {
   "cell_type": "markdown",
   "id": "f23ce7ab-1b05-48e9-aecf-9e2ecc661967",
   "metadata": {},
   "source": [
    "Dodajmy również metody wykonujące obliczenia."
   ]
  },
  {
   "cell_type": "code",
   "execution_count": null,
   "id": "d8b633a6-d538-484d-9a37-6ec621759ef5",
   "metadata": {},
   "outputs": [],
   "source": [
    "private fun fuelCalculator(values: Triple<String, String, String>): Pair<String, String> {\n",
    "\n",
    "    val distance = values.first.toDouble()\n",
    "    val cost = values.second.toDouble()\n",
    "    val fuelUsage = values.third.toDouble()\n",
    "\n",
    "    val fuelCost = (distance * fuelUsage) / 100\n",
    "    val fuelAmount = fuelCost * cost\n",
    "\n",
    "    val stringMain = decimalFormat.format(fuelCost).toString()\n",
    "    val stringBottom = decimalFormat.format(fuelAmount).toString()\n",
    "\n",
    "    return Pair(\"$stringMain l\", \"$stringBottom zł\")\n",
    "}\n",
    "\n",
    "private fun distanceCalculator(values: Triple<String, String, String>): Pair<String, String> {\n",
    "\n",
    "    val fuel = values.first.toDouble()\n",
    "    val price = values.second.toDouble()\n",
    "    val fuelUsage = values.third.toDouble()\n",
    "\n",
    "    val distance = fuel * price\n",
    "    val totalCost = (100 * fuel) / fuelUsage\n",
    "\n",
    "    val stringBottom = decimalFormat.format(distance).toString()\n",
    "    val stringMain = decimalFormat.format(totalCost).toString()\n",
    "\n",
    "    return Pair(\"$stringMain km\", \"$stringBottom zł\")\n",
    "}\n",
    "\n",
    "private fun travelCalculator(values: Triple<String, String, String>): Pair<String, String> {\n",
    "\n",
    "    val distance = values.first.toDouble()\n",
    "    val price = values.second.toDouble()\n",
    "    val fuelUsage = values.third.toDouble()\n",
    "\n",
    "    val totalFuel = (fuelUsage / 100) * distance\n",
    "    val totalPrice = totalFuel * price\n",
    "\n",
    "    val stringBottom = decimalFormat.format(totalFuel).toString()\n",
    "    val stringMain = decimalFormat.format(totalPrice).toString()\n",
    "\n",
    "    return Pair(\"$stringMain zł\", \"$stringBottom l\")\n",
    "}"
   ]
  },
  {
   "cell_type": "markdown",
   "id": "45da704c-584a-49ba-94fe-c91bdc5d0d12",
   "metadata": {},
   "source": [
    "Podobnie jak poprzednio, potrzebujemy kilka pól do obsługi rozwijanej listy."
   ]
  },
  {
   "cell_type": "code",
   "execution_count": null,
   "id": "fed293bd-4436-492c-8320-364f36019202",
   "metadata": {},
   "outputs": [],
   "source": [
    "val calculatorItems = listOf(\n",
    "    \"Koszt podróży\" to listOf(\"Odległość [km]\", \"Cena za litr [PLN]\", \"Spalanie [l/100km]\"),\n",
    "    \"Wymagane paliwo\" to listOf(\"Odległość [km]\", \"Cena za litr [PLN]\", \"Spalanie [l/100km]\"),\n",
    "    \"Odległość\" to listOf(\"Paliwo [l]\", \"Cena za listr [PLN]\", \"Spalanie [l/100km]\")\n",
    ")\n",
    "\n",
    "var expanded by remember { mutableStateOf(false) }\n",
    "\n",
    "var selectedText by remember { mutableStateOf(calculatorItems.first().first) }\n",
    "\n",
    "var textFieldSize by remember { mutableStateOf(Size.Zero) }\n",
    "\n",
    "val icon = if (expanded)\n",
    "    Icons.Filled.ArrowUpward\n",
    "else\n",
    "    Icons.Filled.ArrowDownward"
   ]
  },
  {
   "cell_type": "markdown",
   "id": "0de7a738-190f-4080-81f0-a80bbd61d0fd",
   "metadata": {},
   "source": [
    "Kolejne pole przechowuje informacje o etykietach w polach tekstowych - inicjujemy pierwszym elementem."
   ]
  },
  {
   "cell_type": "code",
   "execution_count": null,
   "id": "09cbacf8-7932-4d93-991a-6f17837c4558",
   "metadata": {},
   "outputs": [],
   "source": [
    "val labelData = remember { mutableStateListOf(calculatorItems.first().second) }"
   ]
  },
  {
   "cell_type": "markdown",
   "id": "93669c63-dcc5-4fd2-9c28-6a9ba5826156",
   "metadata": {},
   "source": [
    "Ostatnim elementem są pola przechowujące informajce oraz pokazujące wyniki obliczeń"
   ]
  },
  {
   "cell_type": "code",
   "execution_count": null,
   "id": "4dad3502-a4ec-455f-83cd-040780443a86",
   "metadata": {},
   "outputs": [],
   "source": [
    "var fieldTop by remember { mutableStateOf(\"\")}\n",
    "var fieldMiddle by remember { mutableStateOf(\"\")}\n",
    "var fieldBottom by remember { mutableStateOf(\"\")}\n",
    "\n",
    "var mainResult by remember { mutableStateOf(\"\")}\n",
    "var subResult by remember { mutableStateOf(\"\")}"
   ]
  },
  {
   "cell_type": "markdown",
   "id": "a5a57282-4f75-49e3-9323-3aabc7523011",
   "metadata": {},
   "source": [
    "Przejdźmy do layoutu - całość umieszczamy w `Column`. `DropDownMenu` wygląda jak w poprzednim ekranie."
   ]
  },
  {
   "cell_type": "code",
   "execution_count": null,
   "id": "b1677b17-abbe-4f36-b00d-f96d1d488347",
   "metadata": {},
   "outputs": [],
   "source": [
    "Column(Modifier.padding(20.dp)) {\n",
    "    OutlinedTextField(\n",
    "        value = selectedText,\n",
    "        readOnly = true,\n",
    "        onValueChange = { selectedText = it },\n",
    "        modifier = Modifier\n",
    "            .fillMaxWidth()\n",
    "            .onGloballyPositioned { coordinates ->\n",
    "                textFieldSize = coordinates.size.toSize()\n",
    "            },\n",
    "        label = { Text(\"Kalkulatory\", fontSize = 18.sp) },\n",
    "        trailingIcon = {\n",
    "            Icon(icon, \"contentDescription\",\n",
    "                Modifier.clickable { expanded = !expanded })\n",
    "        },\n",
    "        textStyle = TextStyle.Default.copy(fontSize = 24.sp, textAlign = TextAlign.Center)\n",
    "    )\n",
    "    CreateDropDownMenu(\n",
    "        expanded = expanded,\n",
    "        textFieldSize =  textFieldSize,\n",
    "        calculatorItems = calculatorItems,\n",
    "        onExpandedChange = {expanded = false},\n",
    "        onClick = { selected ->\n",
    "            selectedText = selected\n",
    "            expanded = false\n",
    "            labelData.clear()\n",
    "            labelData.add(calculatorItems.find { it.first == selectedText }!!.second)\n",
    "        }\n",
    "    )\n",
    "}"
   ]
  },
  {
   "cell_type": "code",
   "execution_count": null,
   "id": "ec0d776a-71aa-4530-bda4-0cd48fc2a70c",
   "metadata": {},
   "outputs": [],
   "source": [
    "@Composable\n",
    "private fun CreateDropDownMenu(\n",
    "    expanded: Boolean,\n",
    "    textFieldSize: Size,\n",
    "    calculatorItems: List<Pair<String, List<String>>>,\n",
    "    onExpandedChange: () -> Unit,\n",
    "    onClick: (String) -> Unit\n",
    ") {\n",
    "    DropdownMenu(\n",
    "        expanded = expanded,\n",
    "        onDismissRequest = { onExpandedChange() },\n",
    "        modifier = Modifier\n",
    "            .width(with(LocalDensity.current) { textFieldSize.width.toDp() })\n",
    "    ) {\n",
    "        calculatorItems.map { it.first }.forEach { name ->\n",
    "            DropdownMenuItem(\n",
    "                text = {\n",
    "                    Text(\n",
    "                        text = name,\n",
    "                        fontSize = 24.sp,\n",
    "                        textAlign = TextAlign.Center,\n",
    "                        modifier = Modifier.fillMaxWidth()\n",
    "                    )\n",
    "                },\n",
    "                onClick = {onClick(name)}\n",
    "                ,modifier = Modifier.fillMaxWidth()\n",
    "            )\n",
    "        }\n",
    "    }\n",
    "}"
   ]
  },
  {
   "cell_type": "markdown",
   "id": "2e35dd74-2bad-4957-9515-3d0a6e00c9f4",
   "metadata": {},
   "source": [
    "Wszystkie pola tekstowe umieszczamy na karcie."
   ]
  },
  {
   "cell_type": "code",
   "execution_count": null,
   "id": "d3743ed6-5599-446b-a376-905be6929009",
   "metadata": {},
   "outputs": [],
   "source": [
    "Card(\n",
    "    modifier = Modifier\n",
    "        .padding(12.dp)\n",
    "        .fillMaxWidth(),\n",
    "    shape = RoundedCornerShape(8.dp)\n",
    ") {"
   ]
  },
  {
   "cell_type": "markdown",
   "id": "e629c9c5-6c13-4a50-875a-fa2faabdef9d",
   "metadata": {},
   "source": [
    "Wewnątrez karty dodajemy trzy pola tekstowe - dane wejściowe dla obliczeń, oraz pola pokazujące wyniki."
   ]
  },
  {
   "cell_type": "code",
   "execution_count": null,
   "id": "ce6e6a27-e319-4d1c-a3c7-d1b4796c3f8a",
   "metadata": {},
   "outputs": [],
   "source": [
    "Column(\n",
    "    modifier = Modifier\n",
    "        .fillMaxWidth()\n",
    "        .padding(8.dp),\n",
    "    verticalArrangement = Arrangement.Center,\n",
    "    horizontalAlignment = Alignment.CenterHorizontally\n",
    ") {\n",
    "    CreateOutlinedTextField(\n",
    "        value = fieldTop,\n",
    "        onValueChange = { fieldTop = it },\n",
    "        labelText = labelData.first().first()\n",
    "    )\n",
    "    CreateOutlinedTextField(\n",
    "        value = fieldMiddle,\n",
    "        onValueChange = { fieldMiddle = it },\n",
    "        labelText = labelData.first().second()\n",
    "    )\n",
    "    CreateOutlinedTextField(\n",
    "        value = fieldBottom,\n",
    "        onValueChange = { fieldBottom = it },\n",
    "        labelText = labelData.first().third()\n",
    "    )\n",
    "    CreateBottomLabels(\n",
    "        selectedText = selectedText,\n",
    "        mainResult = mainResult,\n",
    "        subResult = subResult\n",
    "    )\n",
    "}"
   ]
  },
  {
   "cell_type": "code",
   "execution_count": null,
   "id": "48f98c46-d7f7-45e4-a369-0da37f4a566c",
   "metadata": {},
   "outputs": [],
   "source": [
    "@OptIn(ExperimentalMaterial3Api::class)\n",
    "@Composable\n",
    "fun CreateOutlinedTextField(\n",
    "    value: String,\n",
    "    onValueChange: (String) -> Unit,\n",
    "    labelText: String,\n",
    "    modifier: Modifier = Modifier,\n",
    ") {\n",
    "    OutlinedTextField(\n",
    "        value = value,\n",
    "        singleLine = true,\n",
    "        onValueChange = onValueChange,\n",
    "        keyboardOptions = KeyboardOptions(keyboardType = KeyboardType.Number),\n",
    "        modifier = modifier.fillMaxWidth(.8f),\n",
    "        label = { Text(text = labelText, fontSize = 16.sp) },\n",
    "        textStyle = TextStyle.Default.copy(fontSize = 24.sp, textAlign = TextAlign.Center)\n",
    "    )\n",
    "}"
   ]
  },
  {
   "cell_type": "code",
   "execution_count": null,
   "id": "9f7c067d-2456-42c5-81dd-46284fcdf6a7",
   "metadata": {},
   "outputs": [],
   "source": [
    "@Composable\n",
    "private fun CreateBottomLabels(\n",
    "    selectedText: String,\n",
    "    mainResult: String,\n",
    "    subResult: String\n",
    ") {\n",
    "    Row(\n",
    "        modifier = Modifier\n",
    "            .fillMaxWidth()\n",
    "            .padding(top = 12.dp)\n",
    "    ) {\n",
    "        Text(\n",
    "            text = selectedText,\n",
    "            modifier = Modifier.padding(start = 8.dp),\n",
    "            fontSize = 28.sp\n",
    "        )\n",
    "        Spacer(modifier = Modifier.weight(1f))\n",
    "        Column {\n",
    "            Text(\n",
    "                text = mainResult,\n",
    "                fontSize = 22.sp,\n",
    "                textAlign = TextAlign.End,\n",
    "                modifier = Modifier.fillMaxWidth()\n",
    "            )\n",
    "            Text(\n",
    "                text = subResult,\n",
    "                fontSize = 16.sp,\n",
    "                textAlign = TextAlign.End,\n",
    "                modifier = Modifier.fillMaxWidth()\n",
    "            )\n",
    "        }\n",
    "    }\n",
    "}"
   ]
  },
  {
   "cell_type": "markdown",
   "id": "f56a96ff-94b3-4285-91cd-9e1568851347",
   "metadata": {},
   "source": [
    "Wartości pól przechowujemy we wcześniej zdefiniowanych polach `fieldTop`, `fieldModdle`, `fieldBottom`. Etykiety przechowujemy w zmiennej `labelData`"
   ]
  },
  {
   "cell_type": "markdown",
   "id": "a2751fa4-13a6-463e-b6eb-97f4493d9b91",
   "metadata": {},
   "source": [
    "Poza kartą dodajemy przycisk, za pomocą którego wykonujemy obliczenia."
   ]
  },
  {
   "cell_type": "code",
   "execution_count": null,
   "id": "afb8464b-376b-4a73-bd96-d71425ec0c89",
   "metadata": {},
   "outputs": [],
   "source": [
    "CreateCalculateButton(\n",
    "    selectedText =  selectedText,\n",
    "    calculatorItems =  calculatorItems,\n",
    "    fieldTop =  fieldTop,\n",
    "    fieldMiddle =  fieldMiddle,\n",
    "    fieldBottom = fieldBottom,\n",
    "    onMainResultChange = {mainResult = it},\n",
    "    onSubResultChange = {subResult = it}\n",
    ")"
   ]
  },
  {
   "cell_type": "code",
   "execution_count": null,
   "id": "89654282-453b-48be-9b34-ce3aa9b0b10b",
   "metadata": {},
   "outputs": [],
   "source": [
    "@Composable\n",
    "private fun CreateCalculateButton(\n",
    "    selectedText: String,\n",
    "    calculatorItems: List<Pair<String, List<String>>>,\n",
    "    fieldTop: String,\n",
    "    fieldMiddle: String,\n",
    "    fieldBottom: String,\n",
    "    onMainResultChange: (String) -> Unit,\n",
    "    onSubResultChange: (String) -> Unit\n",
    ") {\n",
    "    Row(modifier = Modifier.fillMaxWidth()) {\n",
    "        Spacer(modifier = Modifier.weight(1f))\n",
    "        Button(\n",
    "            onClick = {\n",
    "                onClickCalculateButton(\n",
    "                    selectedText = selectedText,\n",
    "                    calculatorItems = calculatorItems,\n",
    "                    fieldTop = fieldTop,\n",
    "                    fieldMiddle = fieldMiddle,\n",
    "                    fieldBottom = fieldBottom,\n",
    "                    onMainResultChange = onMainResultChange,\n",
    "                    onSubResultChange = onSubResultChange\n",
    "                )\n",
    "            },\n",
    "            modifier = Modifier.padding(top = 12.dp, end = 12.dp),\n",
    "            shape = RoundedCornerShape(8.dp),\n",
    "            colors = ButtonDefaults.buttonColors(containerColor = Color.Red)\n",
    "        ) {\n",
    "            Text(\n",
    "                text = \"OBLICZ\",\n",
    "                color = Color.White,\n",
    "                fontSize = 16.sp,\n",
    "                fontWeight = FontWeight.Bold\n",
    "            )\n",
    "        }\n",
    "    }\n",
    "}"
   ]
  },
  {
   "cell_type": "code",
   "execution_count": null,
   "id": "a6c192a1-4627-47c6-9d05-82eaee3f5a77",
   "metadata": {},
   "outputs": [],
   "source": [
    "private fun onClickCalculateButton(\n",
    "    selectedText: String,\n",
    "    calculatorItems: List<Pair<String, List<String>>>,\n",
    "    fieldTop: String,\n",
    "    fieldMiddle: String,\n",
    "    fieldBottom: String,\n",
    "    onMainResultChange: (String) -> Unit,\n",
    "    onSubResultChange: (String) -> Unit\n",
    ") {\n",
    "    val isEmptyOrNull = areFieldsEmptyOrNull(fieldTop, fieldMiddle, fieldBottom)\n",
    "    if (isEmptyOrNull) {\n",
    "        onMainResultChange(\"\")\n",
    "        onSubResultChange(\"\")\n",
    "    }\n",
    "    else {\n",
    "        val result = when (selectedText) {\n",
    "            calculatorItems.first().first -> travelCalculator(\n",
    "                Triple(fieldTop, fieldMiddle, fieldBottom)\n",
    "            )\n",
    "\n",
    "            calculatorItems.second().first -> fuelCalculator(\n",
    "                Triple(fieldTop, fieldMiddle, fieldBottom)\n",
    "            )\n",
    "\n",
    "            else -> distanceCalculator(Triple(fieldTop, fieldMiddle, fieldBottom))\n",
    "        }\n",
    "\n",
    "        onMainResultChange(result.first)\n",
    "        onSubResultChange(result.second)\n",
    "    }\n",
    "}"
   ]
  },
  {
   "cell_type": "markdown",
   "id": "c71a9665-1346-4ee7-8f6d-c657f9257f50",
   "metadata": {},
   "source": [
    "Funkcja `onClickCalculateButton` jest odpowiedzialna za obsługę kliknięcia przycisku *OBLICZ*. Przyjmuje kilka parametrów, takich jak `selectedText` (tekst wybrany z rozwijanej listy), `calculatorItems` (lista par zawierających nazwę kalkulatora i listę pól), `fieldTop`, `fieldMiddle` i `fieldBottom` (wartości wprowadzone przez użytkownika), oraz funkcje `onMainResultChange` i `onSubResultChange`, które aktualizują wynik główny i wynik pomocniczy.\n",
    "\n",
    "Jeśli pola są puste lub mają wartość `null`, funkcja wywołuje funkcje `onMainResultChange` i `onSubResultChange` z pustymi wartościami, aby wyczyścić wyniki.\n",
    "\n",
    "W przeciwnym razie, funkcja wybiera odpowiedni kalkulator na podstawie `selectedText` i wywołuje odpowiednią funkcję (`travelCalculator`, `fuelCalculator`, `distanceCalculator`) z wartościami pól jako argumenty. Wynik jest zwracany jako para wartości i przekazywany do funkcji `onMainResultChange` i `onSubResultChange`, które aktualizują wyniki w komponencie nadrzędnym.\n",
    "\n",
    "Mopżemy przetestować aplikację."
   ]
  },
  {
   "cell_type": "markdown",
   "id": "cc93920f-e89e-4410-8f4d-573dbb405673",
   "metadata": {},
   "source": [
    "<table><tr><td><img src=\"https://media1.giphy.com/media/v1.Y2lkPTc5MGI3NjExY2MzYmNiN2NmOTE4NDVmZGU4ZTQzNjQ3ZjVkZDlhNzE3MTc0Y2FmOCZlcD12MV9pbnRlcm5hbF9naWZzX2dpZklkJmN0PWc/UT1CIBlbL1FftHf9Hk/giphy.gif\" width=\"200\" /></td><td><img src=\"https://media0.giphy.com/media/v1.Y2lkPTc5MGI3NjExYWRlZGExYmI4OTZlNjY4MzZiM2NkZmE4ZWMzN2VlMGVjZjk4YWRhOSZlcD12MV9pbnRlcm5hbF9naWZzX2dpZklkJmN0PWc/lx96i0NeTGeYV35NFl/giphy.gif\" width=\"200\" /></td><td><img src=\"https://media3.giphy.com/media/v1.Y2lkPTc5MGI3NjExZDFmZTkxZjIxNzQ0NTJmNDFlM2NhN2NiNTlmYzU2N2ZkZTVhODM3MyZlcD12MV9pbnRlcm5hbF9naWZzX2dpZklkJmN0PWc/WyCanQMjlfmYguKc3l/giphy.gif\" width=\"200\" /></td></tr></table>"
   ]
  },
  {
   "cell_type": "code",
   "execution_count": null,
   "id": "521549d9-8d70-4e32-95ba-f39db7e8c52c",
   "metadata": {},
   "outputs": [],
   "source": []
  }
 ],
 "metadata": {
  "kernelspec": {
   "display_name": "Kotlin",
   "language": "kotlin",
   "name": "kotlin"
  },
  "language_info": {
   "codemirror_mode": "text/x-kotlin",
   "file_extension": ".kt",
   "mimetype": "text/x-kotlin",
   "name": "kotlin",
   "nbconvert_exporter": "",
   "pygments_lexer": "kotlin",
   "version": "1.8.0-RC"
  }
 },
 "nbformat": 4,
 "nbformat_minor": 5
}
