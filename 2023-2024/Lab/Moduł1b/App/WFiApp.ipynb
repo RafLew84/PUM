{
 "cells": [
  {
   "cell_type": "markdown",
   "id": "feb37c97-5a60-49c8-8b12-1d34670eb159",
   "metadata": {},
   "source": [
    "# WFiApp"
   ]
  },
  {
   "cell_type": "markdown",
   "id": "f4a4a622-efde-424b-9b2b-72d7bb7f71b6",
   "metadata": {},
   "source": [
    "Aplikacja będzie wykorzystywać `LazyColumn`, gdzie każdym elementem na liście będzie `Card`. Dodamy również podstawową obsługę gestów oraz wykorzystamy `Compose Navigation` aby otworzyć nowy ekran w którym zaprezentowany będzie bardziej szczegółowy opis wybranego elementu listy. Będzie to wersja WFiApp z poprzedniego modułu, tym razem wykonana w `Compose`."
   ]
  },
  {
   "cell_type": "markdown",
   "id": "23ac7d95-4e06-4a69-8b46-15dde2f6fd64",
   "metadata": {},
   "source": [
    "<table><tr><td><img src=\"https://media4.giphy.com/media/v1.Y2lkPTc5MGI3NjExMmI2ZDBhMDQwZTgxZGVmMGE4YTc5NjQ5OTkxMjhjY2Y0NjVmMzFkYiZlcD12MV9pbnRlcm5hbF9naWZzX2dpZklkJmN0PWc/eEqzr1ktXtjwc1yZgb/giphy.gif\" width=\"200\" /></td><td><img src=\"https://media4.giphy.com/media/Acr6sC2y1H1SY2pxEj/giphy.webp\" width=\"200\" /></td><td><img src=\"https://media1.giphy.com/media/v1.Y2lkPTc5MGI3NjExZTg3MTczYTA5YjNkMGUzODczMjRmNTE3YmNjODhlODRhZWE4MjNiMCZlcD12MV9pbnRlcm5hbF9naWZzX2dpZklkJmN0PWc/fxAJ5nVpI08d1snvpy/giphy.gif\" width=\"350\" /></td></tr></table>"
   ]
  },
  {
   "cell_type": "markdown",
   "id": "a30035b6-ff11-4000-843f-8affe635d8e7",
   "metadata": {},
   "source": [
    "Będziemy wykorzystywać `Compose Navigation`, więc dodajmy odpowiednią zależność."
   ]
  },
  {
   "cell_type": "code",
   "execution_count": null,
   "id": "3b5c2622-f627-4a59-b6ae-ea108b955678",
   "metadata": {},
   "outputs": [],
   "source": [
    "implementation 'androidx.navigation:navigation-compose:2.5.3'"
   ]
  },
  {
   "cell_type": "markdown",
   "id": "fb5e2f79-e633-4ca8-a0c8-81860e122b4f",
   "metadata": {},
   "source": [
    "## Model"
   ]
  },
  {
   "cell_type": "markdown",
   "id": "821bc5be-fbaf-41d7-8729-6db0377cebc1",
   "metadata": {},
   "source": [
    "Dodajmy model reprezentujący instytut"
   ]
  },
  {
   "cell_type": "code",
   "execution_count": null,
   "id": "3f80f5f9-59ca-4ea9-8b02-b4d948d2660a",
   "metadata": {},
   "outputs": [],
   "source": [
    "data class Institute(\n",
    "    val title: String,\n",
    "    val info: String,\n",
    "    val imageResource: Int // identyfikatory obrazów są przechowywane jako int\n",
    ")"
   ]
  },
  {
   "cell_type": "markdown",
   "id": "e19c2a51-e2e1-42b1-94ce-7d6608be324f",
   "metadata": {},
   "source": [
    "Następnie dodajmy obiekt `DataProvider` przechowujący listę wszystkich instytutów"
   ]
  },
  {
   "cell_type": "code",
   "execution_count": null,
   "id": "1571dbb1-9c9d-492c-a1e9-66fd25cb94c4",
   "metadata": {},
   "outputs": [],
   "source": [
    "object DataProvider {\n",
    "\n",
    "    val institutes: ArrayList<Institute> = ArrayList()\n",
    "\n",
    "    fun getInstituteData(activity: Activity){\n",
    "        val instituteList = activity.resources.getStringArray(R.array.institute_titles)\n",
    "        val instituteInfo = activity.resources.getStringArray(R.array.institute_info)\n",
    "        val instituteImageResources = activity.resources.obtainTypedArray(R.array.institute_images)\n",
    "\n",
    "        for (i in instituteList.indices) institutes.add(\n",
    "            Institute(\n",
    "                instituteList[i],\n",
    "                instituteInfo[i],\n",
    "                instituteImageResources.getResourceId(i, 0)\n",
    "            )\n",
    "        )\n",
    "\n",
    "        instituteImageResources.recycle()\n",
    "    }\n",
    "}"
   ]
  },
  {
   "cell_type": "markdown",
   "id": "961281f5-7f24-465a-9382-07cb6e6f9ab0",
   "metadata": {},
   "source": [
    "## Lista - `Card` + `LazyColumn`"
   ]
  },
  {
   "cell_type": "markdown",
   "id": "66970b63-70b9-4f85-a751-9b13ffd5999c",
   "metadata": {},
   "source": [
    "<img src=\"https://i.ibb.co/PgKQ6nS/image.png\" width=\"350\" />"
   ]
  },
  {
   "cell_type": "markdown",
   "id": "5a28aca4-6dad-43ba-85d4-4439672e1ca0",
   "metadata": {},
   "source": [
    "Chcemy wyświewtlić listę wszystkich instytutów - każde pola będzie zawierać grafikę, tytuł znajdujący się na grafice (wraz z gradientem, aby poprzwić widoczność tekstu), oraz pole tekstowe zawierające podstawowe informacje. Rozpocznijmy od utworzenia naszej karty, dodajmy funkcję `Composable`, która renderuje kartę z obrazem."
   ]
  },
  {
   "cell_type": "code",
   "execution_count": null,
   "id": "91af70ad-a257-453f-8e60-31d9fde46245",
   "metadata": {},
   "outputs": [],
   "source": [
    "@Composable\n",
    "fun ImageCard(\n",
    "    painter: Painter,\n",
    "    contentDescription: String,\n",
    "    title: String,\n",
    "    info: String,\n",
    "    modifier: Modifier = Modifier\n",
    "){"
   ]
  },
  {
   "cell_type": "markdown",
   "id": "7074502e-251f-44d6-b02d-7fd984f6eaa1",
   "metadata": {},
   "source": [
    "ImageCard przyjmuje kilka parametrów:\n",
    "- `painter` - obiekt typu `Painter`, który reprezentuje obraz do wyświetlenia.\n",
    "- `contentDescription` - opis zawartości obrazu, który jest używany w celach dostępności.\n",
    "- `title` - tytuł karty, który będzie wyświetlany.\n",
    "- `info` - dodatkowe informacje na temat karty, które będą wyświetlane.\n",
    "- `modifier` - modyfikator, który kontroluje wygląd i rozmiar karty. Jest opcjonalny i domyślnie ustawiony na `Modifier`."
   ]
  },
  {
   "cell_type": "markdown",
   "id": "e9bdf238-c479-4561-b8bc-956a1b4f2341",
   "metadata": {},
   "source": [
    "Wewnątrz funkcji zdefiniujmy `Card`"
   ]
  },
  {
   "cell_type": "code",
   "execution_count": null,
   "id": "592eb620-35da-44c8-8c7c-7482848ad1bc",
   "metadata": {},
   "outputs": [],
   "source": [
    "Card(\n",
    "    modifier = modifier\n",
    "        .fillMaxWidth()\n",
    "        .padding(15.dp)\n",
    "        .clickable { },\n",
    "    shape = RoundedCornerShape(15.dp),\n",
    "    elevation = CardDefaults.cardElevation(defaultElevation = 10.dp)\n",
    ") {}"
   ]
  },
  {
   "cell_type": "markdown",
   "id": "a6540c81-dc9e-416c-b1dd-80caa9fdd1f8",
   "metadata": {},
   "source": [
    "`Card` jest komponentem, który używamy do tworzenia pojemników na inne komponenty, które mogą być stylizowane jako karty. Przyjmuje kilka parametrów, które definiują jego wygląd i zachowanie:\n",
    "- `modifier` - modyfikator który kontroluje wygląd i rozmiar karty. W tym przypadku, modyfikator składa się z kilku operacji, takich jak `fillMaxWidth()` (wypełnienie karty na szerokość dostępnej przestrzeni), `padding(15.dp)` (dodanie wewnętrznego marginesu 15 jednostek) i `clickable {}` (ustawienie obsługi kliknięcia na kartę).\n",
    "- `shape` - kształt karty. W tym przypadku, używany jest `RoundedCornerShape(15.dp)`, co oznacza, że karta będzie miała zaokrąglone narożniki o promieniu 15 jednostek.\n",
    "- `elevation` - podwyższenie karty. W tym przypadku, używany jest `CardDefaults.cardElevation(defaultElevation = 10.dp)`, co oznacza, że karta będzie miała domyślne podwyższenie o wartości 10 jednostek.\n",
    "\n",
    "Ponieważ sama grafika, kolor pod tekstem oraz tekst znajdują się na stosie (jedne na drugich), wewnątrz `Card` definiujemy `Box` - pozwala dodawać elementy na stos (podobnie jak `Column` dodaje elementuy jeden pod drugim i `Row` jeden obok drugiego, `Box` dodaje elementy jeden na drugi)."
   ]
  },
  {
   "cell_type": "code",
   "execution_count": null,
   "id": "4c49ebfb-a538-48e3-b98c-973d3d52912d",
   "metadata": {},
   "outputs": [],
   "source": [
    "Box(modifier = Modifier\n",
    "    .height(200.dp)\n",
    "    .fillMaxWidth()\n",
    "   ){}"
   ]
  },
  {
   "cell_type": "markdown",
   "id": "70a76650-dbaa-4b35-9aaf-3b93aed22ba2",
   "metadata": {},
   "source": [
    "Wysokość `Box` definiujemy na `200.dp` i wypełniamy całą dostępną szerokość. Wewnątrz chcemy umieścić trzy elementy, rozpocznijmy od dodania grafiki. Zdefiniujmy funkcję `Composable` `InstituteImage`"
   ]
  },
  {
   "cell_type": "code",
   "execution_count": null,
   "id": "c7138504-2b4b-41f2-a27c-437cc0e74b9d",
   "metadata": {},
   "outputs": [],
   "source": [
    "@Composable\n",
    "private fun InstituteImage(\n",
    "    painter: Painter,\n",
    "    contentDescription: String\n",
    ") {\n",
    "    Image(\n",
    "        painter = painter,\n",
    "        contentDescription = contentDescription,\n",
    "        contentScale = ContentScale.Crop,\n",
    "        modifier = Modifier.fillMaxWidth()\n",
    "    )\n",
    "}"
   ]
  },
  {
   "cell_type": "markdown",
   "id": "39ce0ecd-a7a4-4368-903a-ce04d62d8309",
   "metadata": {},
   "source": [
    "`InstituteImage` przyjmuje dwa parametry:\n",
    "- `painter` - obiekt typu `Painter`, który reprezentuje obraz do wyświetlenia.\n",
    "- `contentDescription` - opis zawartości obrazu, który jest używany w celach dostępności.\n",
    "Wewnątrz `InstituteImage` używamy komponentu `Image`, który renderuje obrazek. Przekazujemy `painter` jako parametr do `Image`, który reprezentuje obraz do wyświetlenia, a `contentDescription` jako opis dostępności dla obrazu. Dodatkowo, ustawiamy `contentScale` na `ContentScale.Crop`, co oznacza, że obrazek będzie przycięty, aby zmieścić się w ramach komponentu, jednocześnie zachowując proporcje. Modyfikator `Modifier.fillMaxWidth()` został zastosowany do komponentu `Image`, co oznacza, że obrazek wypełni całą dostępną szerokość."
   ]
  },
  {
   "cell_type": "markdown",
   "id": "83ce628e-23fb-4e7b-85d2-d85dea8c92c8",
   "metadata": {},
   "source": [
    "Drugim elementem będzie gradient koloru, który będzie wyświetlany pod tekstem. Dodajmy funkcję `Composable` `Gradient`"
   ]
  },
  {
   "cell_type": "code",
   "execution_count": null,
   "id": "c9bde3bc-f478-404d-a165-2d923df61ffa",
   "metadata": {},
   "outputs": [],
   "source": [
    "@Composable\n",
    "private fun Gradient() {\n",
    "    Box(\n",
    "        modifier = Modifier\n",
    "            .fillMaxSize()\n",
    "            .background(\n",
    "                Brush.verticalGradient(\n",
    "                    colors = listOf(\n",
    "                        Color.Transparent,\n",
    "                        Color.Black\n",
    "                    ),\n",
    "                    startY = 450f\n",
    "                )\n",
    "            )\n",
    "    )\n",
    "}"
   ]
  },
  {
   "cell_type": "markdown",
   "id": "b7130de4-4c4a-4067-822d-6b5d259317bd",
   "metadata": {},
   "source": [
    "Wewnątrz funkcji `Gradient` używamy komponentu `Box`, który działa jako kontener dla innych komponentów. W modyfikatorze `modifier` komponentu `Box`, zastosowano modyfikator `Modifier.fillMaxSize()`, który sprawia, że `Box` wypełnia całą dostępną przestrzeń. Użyto modyfikatora `.background()`, aby ustawić tło `Box` jako gradient. Wewnątrz modyfikatora `.background()`, użyto `Brush.verticalGradient()`, który tworzy pionowy gradient. W parametrze `colors` metody `Brush.verticalGradient()`, przekazano listę kolorów, w tym `Color.Transparent` i `Color.Black`. Gradient będzie płynnie przechodził od przezroczystego koloru na górze do czarnego koloru na dole. Dodatkowo, użyto parametru `startY = 450f`, który definiuje początek gradientu od 450 pikseli od góry."
   ]
  },
  {
   "cell_type": "markdown",
   "id": "3807b8f0-6233-44a9-9db6-649fd357935e",
   "metadata": {},
   "source": [
    "Ostatnim elementem jest `Text` wyświetlający tytuł"
   ]
  },
  {
   "cell_type": "code",
   "execution_count": null,
   "id": "ebe60f9d-b79b-458f-b771-fe2671a7e5a6",
   "metadata": {},
   "outputs": [],
   "source": [
    "Text(\n",
    "    text = title,\n",
    "    modifier = Modifier\n",
    "        .align(Alignment.BottomStart)\n",
    "        .padding(12.dp),\n",
    "    fontSize = 24.sp,\n",
    "    style = TextStyle(color = Color.White)\n",
    ")"
   ]
  },
  {
   "cell_type": "markdown",
   "id": "91b726af-9e10-421d-b9e4-af5d1011df73",
   "metadata": {},
   "source": [
    "Pod komponentem `Box`, w którym umieszczamy grafikę, gradient oraz tytuł, dodajmy jeszcze jeden komponent wyświetlający `info`"
   ]
  },
  {
   "cell_type": "code",
   "execution_count": null,
   "id": "14991f2f-14df-41df-af9a-735326f21d26",
   "metadata": {},
   "outputs": [],
   "source": [
    "Box(modifier = Modifier\n",
    "    .fillMaxWidth()\n",
    "    .height(45.dp)\n",
    ") {\n",
    "    Text(text = info)\n",
    "}"
   ]
  },
  {
   "cell_type": "markdown",
   "id": "4aab4032-2010-4f9f-9a6a-892b7d9a61a7",
   "metadata": {},
   "source": [
    "Pełny kod funkcji `ImageCard`"
   ]
  },
  {
   "cell_type": "code",
   "execution_count": null,
   "id": "93aeff58-949b-40d5-bd49-17b6815f9d9f",
   "metadata": {},
   "outputs": [],
   "source": [
    "@Composable\n",
    "fun ImageCard(\n",
    "    painter: Painter,\n",
    "    contentDescription: String,\n",
    "    title: String,\n",
    "    info: String,\n",
    "    modifier: Modifier = Modifier\n",
    "){\n",
    "        Card(\n",
    "            modifier = modifier\n",
    "                .fillMaxWidth()\n",
    "                .padding(15.dp)\n",
    "                .clickable { },\n",
    "            shape = RoundedCornerShape(15.dp),\n",
    "            elevation = CardDefaults.cardElevation(defaultElevation = 10.dp)\n",
    "        ) {\n",
    "            Box(modifier = Modifier\n",
    "                .height(200.dp)\n",
    "                .fillMaxWidth()){\n",
    "                InstituteImage(painter, contentDescription)\n",
    "                Gradient()\n",
    "                Text(\n",
    "                    text = title,\n",
    "                    modifier = Modifier\n",
    "                        .align(Alignment.BottomStart)\n",
    "                        .padding(12.dp),\n",
    "                    fontSize = 24.sp,\n",
    "                    style = TextStyle(color = Color.White)\n",
    "                )\n",
    "            }\n",
    "            Box(modifier = Modifier\n",
    "                .fillMaxWidth()\n",
    "                .height(45.dp)\n",
    "            ) {\n",
    "                Text(text = info)\n",
    "            }\n",
    "        }\n",
    "}"
   ]
  },
  {
   "cell_type": "markdown",
   "id": "80e95298-90f3-429f-8e4e-4539257e9ff7",
   "metadata": {},
   "source": [
    "Dodajmy funkcję `InstituteList` wyświetlającą wszystkie elementy listy danych z `DataProvider` za pomocą `ImageCard`"
   ]
  },
  {
   "cell_type": "code",
   "execution_count": null,
   "id": "f4c985f6-aeec-44c7-be4c-fffc8e7deba5",
   "metadata": {},
   "outputs": [],
   "source": [
    "@Composable\n",
    "fun InstituteList(){\n",
    "    val data by remember {\n",
    "        mutableStateOf(DataProvider.institutes.toList())\n",
    "    }\n",
    "\n",
    "    LazyColumn(\n",
    "        modifier = Modifier.fillMaxSize()\n",
    "    ){\n",
    "        items(data.size){index ->\n",
    "            Row(\n",
    "                modifier = Modifier\n",
    "                    .fillMaxSize()\n",
    "                    .padding(4.dp)\n",
    "                    .clickable { /*TODO*/ },\n",
    "                horizontalArrangement = Arrangement.SpaceAround,\n",
    "                verticalAlignment = Alignment.CenterVertically\n",
    "            ) {\n",
    "                ImageCard(\n",
    "                    painter = painterResource(id = data[index].imageResource),\n",
    "                    contentDescription = data[index].title,\n",
    "                    title = data[index].title,\n",
    "                    info = data[index].info\n",
    "                )\n",
    "            }\n",
    "        }\n",
    "    }\n",
    "}"
   ]
  },
  {
   "cell_type": "markdown",
   "id": "b157ca3a-77a3-43d5-9c33-d72c8345f572",
   "metadata": {},
   "source": [
    "`InstituteList` jest funkcją komponującą, która renderuje listę instytutów. Używamy `mutableStateOf` w celu utworzenia zmiennej stanu `data`, która jest zmienną, przechowującą listę instytutów. Wywołanie `DataProvider.institutes.toList()` zwraca listę instytutów z dostawcy danych.\n",
    "\n",
    "Wewnątrz `LazyColumn`, używamy bloku `items` do iteracji po każdym elemencie `data` i generowania wierszy w liście. Używamy komponentu `Row`, który renderuje wiersz z komponentami ułożonymi w poziomie. W modyfikatorze `Row`, używamy `Modifier.fillMaxSize()`, który sprawia, że Row wypełnia całą dostępną przestrzeń. Dodatkowo, używamy modyfikatora `.padding(4.dp)` do dodania marginesu 4 jednostek wokół wiersza. Używamy modyfikatora `.clickable { /*TODO*/ }`, aby dodać obsługę kliknięcia wiersza. Zrobimy to na późniejszym etapie. Wewnątrz `Row` używamy komponentu `ImageCard` (zdefiniowanego wcześniej), który renderuje kartę z obrazkiem dla każdego instytutu. Przekazujemy odpowiednie parametry do `ImageCard`, takie jak `painter` (obraz do wyświetlenia), `contentDescription` (opis obrazu), title (tytuł instytutu) i `info` (informacje o instytucie)."
   ]
  },
  {
   "cell_type": "markdown",
   "id": "136ab7d8-f869-44b5-a6e7-db5fda15f766",
   "metadata": {},
   "source": [
    "Fuinkcję `InteitutList` możemy wywołać w `MainActivity`"
   ]
  },
  {
   "cell_type": "markdown",
   "id": "2e3fa705-49ec-4d99-9813-fa3071bddcee",
   "metadata": {},
   "source": [
    "<img src=\"https://media4.giphy.com/media/Acr6sC2y1H1SY2pxEj/giphy.webp\" width=\"200\" />"
   ]
  },
  {
   "cell_type": "markdown",
   "id": "c565785e-a8af-4826-9a4f-bf37ac8477ed",
   "metadata": {},
   "source": [
    "## Detail Screen"
   ]
  },
  {
   "cell_type": "markdown",
   "id": "8f040b51-b4bc-4991-a3d3-30fdb2837e40",
   "metadata": {},
   "source": [
    "Przygotujmy widok ekranu dla *szczegółu* (w koncepcji *master-detail*). Wykorzystamy wcześniej zaimplementowaną funkcję `Composable` `ImageCard`, wpierw musimy ją zmodyfikować."
   ]
  },
  {
   "cell_type": "code",
   "execution_count": null,
   "id": "e0a8960c-d645-4ef8-a615-8c28555c71c8",
   "metadata": {},
   "outputs": [],
   "source": [
    "@Composable\n",
    "fun ImageCard(\n",
    "    painter: Painter,\n",
    "    contentDescription: String,\n",
    "    title: String,\n",
    "    info: String,\n",
    "    index: Int,\n",
    "    modifier: Modifier = Modifier,\n",
    "    onClick: (Int) -> Unit = { },\n",
    "    body: String = \"\"\n",
    ") {\n",
    "    Card(\n",
    "        modifier = modifier\n",
    "            .fillMaxWidth()\n",
    "            .padding(15.dp)\n",
    "            .clickable { onClick(index) },\n",
    "        shape = RoundedCornerShape(15.dp),\n",
    "        elevation = CardDefaults.cardElevation(defaultElevation = 10.dp)\n",
    "    ) {\n",
    "        Box(\n",
    "            modifier = Modifier\n",
    "                .height(200.dp)\n",
    "                .fillMaxWidth()\n",
    "        ) {\n",
    "            InstituteImage(painter, contentDescription)\n",
    "            Gradient()\n",
    "            Text(\n",
    "                text = title,\n",
    "                modifier = Modifier\n",
    "                    .align(Alignment.BottomStart)\n",
    "                    .padding(12.dp),\n",
    "                fontSize = 24.sp,\n",
    "                style = TextStyle(color = Color.White)\n",
    "            )\n",
    "        }\n",
    "        Column(\n",
    "            modifier = Modifier\n",
    "                .fillMaxWidth()\n",
    "        ) {\n",
    "            Text(text = info)\n",
    "            Text(text = body, modifier = Modifier.padding(start = 16.dp, top = 24.dp, end = 16.dp ))\n",
    "        }\n",
    "    }\n",
    "}"
   ]
  },
  {
   "cell_type": "markdown",
   "id": "f5c6130b-2876-40e5-bc7c-5dc3c59b734d",
   "metadata": {},
   "source": [
    "Funkcje `InstituteImage` oraz `Gradient` pozostają bez zmian. Nasza funkcja będzie przyjmować kilka dodatkowych parametrów."
   ]
  },
  {
   "cell_type": "code",
   "execution_count": null,
   "id": "1fbbd8e9-519b-48c3-91fb-8da1e698c4e6",
   "metadata": {},
   "outputs": [],
   "source": [
    "fun ImageCard(\n",
    "    painter: Painter,\n",
    "    contentDescription: String,\n",
    "    title: String,\n",
    "    info: String,\n",
    "    index: Int,\n",
    "    modifier: Modifier = Modifier,\n",
    "    onClick: (Int) -> Unit = { },\n",
    "    body: String = \"\"\n",
    ")"
   ]
  },
  {
   "cell_type": "markdown",
   "id": "371b1b10-3e1b-4edd-a6ed-4d654aa6485f",
   "metadata": {},
   "source": [
    "Przekazujemy funckcję `onClick`, którą wywołujemy przy kliknięciuu na element, a którą zaimplementujemy w komponencie odpowiedzialnym za nawigację. Ponieważ będziemy wykorzystywać tą funkcję w `Composable` odpowiedzialnych za renderowanie obu ekranów, a kliknięcie chcemy obsłużyć tylko na liście, dodajemy domyślną implementację w postaci pustej funkcji (`onClick: (Int) -> Unit = { }`). Kolejnym dodatkowym elementem jest `body`, jest to tekst który chcemy wyświetlić na ekranie `Detail`, na liście tekst pozostaje pusty, więc również stosuję domyślną wartość (``body: String = \"\"`). Ostanią zmianą w argumentach jest przekazanie indeksu (`index`) elementu - musimy przekazać indeks aby wywołać `onClick` z odpowiednim argumentem.\n",
    "\n",
    "Kolejną zmianą jest dodanie `clickable` do modyfikatora komponentu `Card`, oraz wywołanie w nim metody `onClick`."
   ]
  },
  {
   "cell_type": "code",
   "execution_count": null,
   "id": "920d439d-2461-43cf-af1c-90a00a7cbda1",
   "metadata": {},
   "outputs": [],
   "source": [
    "...\n",
    "Card(\n",
    "    modifier = modifier\n",
    "        .fillMaxWidth()\n",
    "        .padding(15.dp)\n",
    "        .clickable { onClick(index) }, // nasza karta będzie \"klikalna\"\n",
    "..."
   ]
  },
  {
   "cell_type": "markdown",
   "id": "7add7a57-729a-4d07-bc1d-7a0d421430b1",
   "metadata": {},
   "source": [
    "Ostatnią modyfikacją jest dodanie jednego pola `Text` w statunku do poprzedniej wersji, ponieważ chcemy to pole ustawić pod poprzednim, całość umieszczamy w komponencie `Column`"
   ]
  },
  {
   "cell_type": "code",
   "execution_count": null,
   "id": "3e6895c2-bfc8-42ac-8a5b-a7dca863f718",
   "metadata": {},
   "outputs": [],
   "source": [
    "Column(\n",
    "    modifier = Modifier\n",
    "        .fillMaxWidth()\n",
    ") {\n",
    "    Text(text = info)\n",
    "    Text(text = body, modifier = Modifier.padding(start = 16.dp, top = 24.dp, end = 16.dp )) // tutaj wyświetlimy tekst \"ciała\"\n",
    "}"
   ]
  },
  {
   "cell_type": "markdown",
   "id": "786fe2b3-074f-45b1-9436-bf32df76f7c0",
   "metadata": {},
   "source": [
    "Sam tekst dodaję, dla uproszczenia, jako stałą"
   ]
  },
  {
   "cell_type": "code",
   "execution_count": null,
   "id": "267a3373-a3a0-4a06-85f0-6775de51dbaf",
   "metadata": {},
   "outputs": [],
   "source": [
    "val lorem = \"Lorem ipsum dolor sit amet, consectetur adipiscing elit, sed do eiusmod tempor incididunt ut labore et dolore magna aliqua. \" +\n",
    "    \"Ut enim ad minim veniam, quis nostrud exercitation ullamco laboris nisi ut aliquip ex ea commodo consequat. Duis aute irure dolor in \" +\n",
    "    \"reprehenderit in voluptate velit esse cillum dolore eu fugiat nulla pariatur. Excepteur sint occaecat cupidatat non proident, sunt in \" +\n",
    "    \"culpa qui officia deserunt mollit anim id est laborum\""
   ]
  },
  {
   "cell_type": "markdown",
   "id": "cca03500-2cc6-4bf9-ab60-b0968003a43b",
   "metadata": {},
   "source": [
    "Powróćmy do komponentu `InstituteList`, teraz funkcja będzie przyjmować funkcję `onClick` jako argument, który przekażemy do funkcji `ImageCard`"
   ]
  },
  {
   "cell_type": "code",
   "execution_count": null,
   "id": "17c4dc50-afdc-4d81-883f-08a6cb119adf",
   "metadata": {},
   "outputs": [],
   "source": [
    "@Composable\n",
    "fun InstituteList(onClick: (Int) -> Unit) {\n",
    "...\n",
    "    ImageCard(\n",
    "        painter = painterResource(id = data[index].imageResource),\n",
    "        contentDescription = data[index].title,\n",
    "        title = data[index].title,\n",
    "        info = data[index].info,\n",
    "        onClick = onClick, // przekazujemy funkcję onClick\n",
    "        index = index\n",
    "    )\n",
    "...\n",
    "}"
   ]
  },
  {
   "cell_type": "markdown",
   "id": "353a763a-178f-45fb-88e4-b94bce9bb9c4",
   "metadata": {},
   "source": [
    "Przejdźmy do ekranu `Detail`"
   ]
  },
  {
   "cell_type": "code",
   "execution_count": null,
   "id": "7f730395-ddec-49b2-85ea-d0070368d7f2",
   "metadata": {},
   "outputs": [],
   "source": [
    "@Composable\n",
    "fun DetailView(\n",
    "    id: String?\n",
    "){\n",
    "    val data by remember {\n",
    "        mutableStateOf(DataProvider.institutes[id!!.toInt()])\n",
    "    }\n",
    "\n",
    "    Box(modifier = Modifier.fillMaxSize()) {\n",
    "        ImageCard(\n",
    "            painter = painterResource(id = data.imageResource),\n",
    "            contentDescription = data.title,\n",
    "            title = data.title,\n",
    "            info = data.info,\n",
    "            index = id?.toInt() ?: 0,\n",
    "            modifier = Modifier\n",
    "                .fillMaxSize()\n",
    "                .padding(0.dp),\n",
    "            body = lorem\n",
    "        )\n",
    "    }"
   ]
  },
  {
   "cell_type": "markdown",
   "id": "7e670b73-e2a2-4a1d-bc30-3d83d6c4be05",
   "metadata": {},
   "source": [
    "Będzie on przyjmował `id` - czyli indeks klikniętego elementu. Na podstawie tego indeksu, pobieramy dane z `DataProvider` i wyświetlamy na ekranie. W wywłaniu funkcji `ImageCard` pomijam `onClick` - tutaj nie chcę go implementować, więc pozostawiam domyślnie pustą funkcję, przekazuję `body` wcześniej dodany tekst w stałej `lorem` i tym razem nie korzystam z domyślnego modyfikatora. `id` zostanie przekazany jako `String?` (wymóg `Compose Navigation`), ponieważ ta wartość jest typu `String?`, w przypadku gdy będzie miał wartość `null` funkkcję `ImageCard` wywołamy z `index = 0` (`index = id?.toInt() ?: 0`)."
   ]
  },
  {
   "cell_type": "markdown",
   "id": "841f6110-ad96-4e46-85d5-ee563a96a9b8",
   "metadata": {},
   "source": [
    "## Navigation"
   ]
  },
  {
   "cell_type": "markdown",
   "id": "f10b0b52-9358-41b8-8b77-3fd25150e289",
   "metadata": {},
   "source": [
    "Ponieważ będziemy przekazywać argument w postaci `id` między ekranami, aby ułatwić nieco ten proces, dodajmy metodę `withArguments` do klasy `Screens`"
   ]
  },
  {
   "cell_type": "code",
   "execution_count": null,
   "id": "1d8485f3-11f1-4730-8d05-fc46d33050fa",
   "metadata": {},
   "outputs": [],
   "source": [
    "sealed class Screens(val route: String) {\n",
    "    object ListScreen : Screens(\"list\")\n",
    "    object DetailScreen : Screens(\"detail\")\n",
    "\n",
    "    fun withArgs(vararg args: String): String{\n",
    "        return buildString {\n",
    "            append(route)\n",
    "            args.forEach { arg ->\n",
    "                append(\"/$arg\")\n",
    "            }\n",
    "        }\n",
    "    }\n",
    "}"
   ]
  },
  {
   "cell_type": "markdown",
   "id": "55d872d2-38b7-4f7e-9a79-886e1c0c8c42",
   "metadata": {},
   "source": [
    "Teraz chcąc przekazać argumenty możemy wywołać funkcję, która utworzy odpowiedni `String` i przekaże go do nawigacji."
   ]
  },
  {
   "cell_type": "markdown",
   "id": "bcce721a-8523-47ca-84a3-888db52c5507",
   "metadata": {},
   "source": [
    "Utwórzmy komponent `Navigation` (który wywołamy w `MainActivity`). Przykładowo:\n",
    "\n",
    "- chcąc przekazać jeden argument `id`: `withArguments(id)` **->** `detail/id`\n",
    "- chcąc przekazać cztery argumenty `id`, `name`, `state`, `num` **->** `detail/id/name/state/num`\n",
    "\n",
    "Kolejnym elementem będzie utworzenie komponentu `Navigation`, który wywołamy w `MainActivity`"
   ]
  },
  {
   "cell_type": "code",
   "execution_count": null,
   "id": "cf7f71be-8c67-497c-9b4f-01b19f1d4345",
   "metadata": {},
   "outputs": [],
   "source": [
    "@Composable\n",
    "fun Navigation() {\n",
    "    val navController = rememberNavController()\n",
    "\n",
    "    NavHost(navController = navController, startDestination = Screens.ListScreen.route) {\n",
    "\n",
    "        composable(route = Screens.ListScreen.route ) {\n",
    "            InstituteList{navController.navigate(Screens.DetailScreen.withArgs(it.toString()))}\n",
    "        }\n",
    "\n",
    "        composable(\n",
    "            route = Screens.DetailScreen.route + \"/{index}\",\n",
    "            arguments = listOf(navArgument(\"index\") {\n",
    "            type = NavType.StringType\n",
    "        })) {\n",
    "            DetailView(id = it.arguments?.getString(\"index\"))\n",
    "        }\n",
    "    }\n",
    "}"
   ]
  },
  {
   "cell_type": "markdown",
   "id": "7444f934-f547-483d-8383-e647b0252dd4",
   "metadata": {},
   "source": [
    "Jak w poprzednich przykładach, dodajemy `navController` i tworzymy `NavHost`. Jako punkt startowy wskazujemy listę i tworzymy dwa `composable` po których chcemy nawigować. Pierwszym jest lista wszystkich elementów, funkcja `InstituteList` przyjmuje jako argument funkcję `onClick`, którą wywołujemy po kliknięciu w dowolny element listy - w wyniku czego chcemy przejść do ekranu `Detail`. Jaki argument chcę przekazać `id` - jeżeli użytkownik kliknie trzeci element, chcę przekazać `id` tego elementu, aby na ekranie `Detail` móc wyciągnąć dane z `DataProvider` o odpowiednim indeksie z list `institutes`. Wywołuję funkcję `withArgs` i przekazuję `id`"
   ]
  },
  {
   "cell_type": "code",
   "execution_count": null,
   "id": "b87944b2-f2e6-478b-be75-6f6d80ff2ee0",
   "metadata": {},
   "outputs": [],
   "source": [
    "composable(route = Screens.ListScreen.route ) {\n",
    "    InstituteList{navController.navigate(Screens.DetailScreen.withArgs(it.toString()))}\n",
    "}"
   ]
  },
  {
   "cell_type": "markdown",
   "id": "72c586e6-7364-44df-bfe1-1274ed8dab7d",
   "metadata": {},
   "source": [
    "Mopikm drugim elementeem `composable` jest `DetailView`, tutaj musimy odebrać argument i przekazać go jako parametr funkcji `DetailView`"
   ]
  },
  {
   "cell_type": "code",
   "execution_count": null,
   "id": "f5278492-a150-4dc2-9f1a-faeb61bc02b4",
   "metadata": {},
   "outputs": [],
   "source": [
    "composable(\n",
    "    route = Screens.DetailScreen.route + \"/{index}\",\n",
    "    arguments = listOf(navArgument(\"index\") {\n",
    "    type = NavType.StringType // zazwyczaj jawnie podaje się typ argumentu\n",
    "})) {\n",
    "    DetailView(id = it.arguments?.getString(\"index\"))\n",
    "}"
   ]
  },
  {
   "cell_type": "markdown",
   "id": "3ef8aaa2-40d3-4842-88e7-52577b1718b1",
   "metadata": {},
   "source": [
    "Możemy przetestować aplikację"
   ]
  },
  {
   "cell_type": "markdown",
   "id": "1bd9e63b-7fd5-4331-887b-19d19bc497fc",
   "metadata": {},
   "source": [
    "<img src=\"https://media4.giphy.com/media/v1.Y2lkPTc5MGI3NjExMmI2ZDBhMDQwZTgxZGVmMGE4YTc5NjQ5OTkxMjhjY2Y0NjVmMzFkYiZlcD12MV9pbnRlcm5hbF9naWZzX2dpZklkJmN0PWc/eEqzr1ktXtjwc1yZgb/giphy.gif\" width=\"200\" />"
   ]
  },
  {
   "cell_type": "markdown",
   "id": "8c0401b8-de8a-4c1a-bc4f-c0519ee2abb7",
   "metadata": {},
   "source": [
    "## LazyGrid"
   ]
  },
  {
   "cell_type": "markdown",
   "id": "55b7b25a-5130-4895-8e6a-9c48ec3db13e",
   "metadata": {},
   "source": [
    "Ostatnim elementem aplikacji będzie zmiana ilości kolumn wyświetlanych w przypadku zmiany orientacji urządzenia. Komponent `LazyColumn` wyświetla tylko jedną kolumnę, jeżeli chcemy mieć możliwość wyświetlania większej ilości musimy użyć komponentu `LazyGrid` - w tym przypadku `LazyVerticalGrid`"
   ]
  },
  {
   "cell_type": "code",
   "execution_count": null,
   "id": "4c797d24-9f02-4f53-8733-bdb9c2d6cfe3",
   "metadata": {},
   "outputs": [],
   "source": [
    "@Composable\n",
    "fun InstituteList(onClick: (Int) -> Unit) {\n",
    "    val data by remember { mutableStateOf(DataProvider.institutes.toList()) }\n",
    "    var numOfColumns by remember { mutableStateOf(1) }\n",
    "\n",
    "    numOfColumns = getColumnsFromOrientation()\n",
    "\n",
    "    LazyVerticalGrid(\n",
    "        columns = GridCells.Fixed(numOfColumns),\n",
    "        modifier = Modifier.fillMaxSize()\n",
    "    ) {...}"
   ]
  },
  {
   "cell_type": "markdown",
   "id": "77463e9a-4cfc-4209-8d8e-9a4078f12d02",
   "metadata": {},
   "source": [
    "Do funkcji `InstituteList` dodajemy pole `numOfColumns`, którego wartość będziemy modyfikować zależnie od orientacji - inicjujemy wartością 1. Ilość kolumn ustalimy w funkcji `getColumnsFromOrientation`, następnie przekażemy ilość do `LazyVerticalGrid`"
   ]
  },
  {
   "cell_type": "code",
   "execution_count": null,
   "id": "bcd7fbbc-3e2d-4df2-973e-083a391e62f7",
   "metadata": {},
   "outputs": [],
   "source": [
    "columns = GridCells.Fixed(numOfColumns)"
   ]
  },
  {
   "cell_type": "markdown",
   "id": "aedfa3ed-dd04-4006-bd30-6d7afdfce9ed",
   "metadata": {},
   "source": [
    "`columns` jest zmienną, która będzie reprezentować liczbę kolumn w siatce (`grid`). `GridCells.Fixed(numOfColumns)` to konstruktor obiektu `GridCells.Fixed`, gdzie `numOfColumns` jest liczbą określającą ilość kolumn w siatce. Dzięki temu ustawieniu, siatka będzie miała stałą liczbę kolumn."
   ]
  },
  {
   "cell_type": "code",
   "execution_count": null,
   "id": "e8c9ff55-d59b-4be9-9763-68d7946b9eec",
   "metadata": {},
   "outputs": [],
   "source": [
    "@Composable\n",
    "private fun getColumnsFromOrientation(): Int {\n",
    "    var orientation by remember { mutableStateOf(Configuration.ORIENTATION_PORTRAIT) }\n",
    "    val configuration = LocalConfiguration.current\n",
    "\n",
    "    LaunchedEffect(configuration) {\n",
    "        snapshotFlow { configuration.orientation }\n",
    "            .collect { orientation = it }\n",
    "    }\n",
    "\n",
    "    return when (orientation) {\n",
    "        Configuration.ORIENTATION_PORTRAIT -> { 1 }\n",
    "        else -> { 2 }\n",
    "    }\n",
    "}"
   ]
  },
  {
   "cell_type": "markdown",
   "id": "a7f1b857-3a45-431f-9f8a-d817b60bd5d1",
   "metadata": {},
   "source": [
    "Wewnątrz funkcji definiujemy zmienną `orientation`, która jest zmienną stanu (`mutableStateOf`) przechowującą aktualną orientację urządzenia. Początkowo ustawiamy ją na `Configuration.ORIENTATION_PORTRAIT`. Wykorzystujemy `LocalConfiguration.current`, aby uzyskać dostęp do bieżącej konfiguracji urządzenia. Używamy `LaunchedEffect` do obsługi zmiany konfiguracji urządzenia. W bloku `LaunchedEffect`, używamy `snapshotFlow` w celu utworzenia strumienia z obecną wartością `configuration.orientation` (strumienie omówimy dokładnie w jednym w kolejnych modułów), a następnie zbieramy (`collect`) wartości strumienia i przypisujemy je do zmiennej `orientation`. Zwracamy wartość liczby kolumn w zależności od orientacji urządzenia. Jeśli `orientation` jest równe `Configuration.ORIENTATION_PORTRAIT`, zwracamy 1, w przeciwnym razie zwracamy 2."
   ]
  },
  {
   "cell_type": "markdown",
   "id": "64a2459a-46ef-42ce-a20d-efb96120b415",
   "metadata": {},
   "source": [
    "Możemy przetestować aplikację."
   ]
  },
  {
   "cell_type": "markdown",
   "id": "a4b38c7a-094f-4050-aeeb-6954bdf8d375",
   "metadata": {},
   "source": [
    "<img src=\"https://media1.giphy.com/media/v1.Y2lkPTc5MGI3NjExZTg3MTczYTA5YjNkMGUzODczMjRmNTE3YmNjODhlODRhZWE4MjNiMCZlcD12MV9pbnRlcm5hbF9naWZzX2dpZklkJmN0PWc/fxAJ5nVpI08d1snvpy/giphy.gif\" width=\"350\" />"
   ]
  },
  {
   "cell_type": "code",
   "execution_count": null,
   "id": "486846e6-fe73-4155-8131-a0b3ae888bbf",
   "metadata": {},
   "outputs": [],
   "source": []
  }
 ],
 "metadata": {
  "kernelspec": {
   "display_name": "Kotlin",
   "language": "kotlin",
   "name": "kotlin"
  },
  "language_info": {
   "codemirror_mode": "text/x-kotlin",
   "file_extension": ".kt",
   "mimetype": "text/x-kotlin",
   "name": "kotlin",
   "nbconvert_exporter": "",
   "pygments_lexer": "kotlin",
   "version": "1.8.0-RC"
  }
 },
 "nbformat": 4,
 "nbformat_minor": 5
}
