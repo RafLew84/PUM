{
 "cells": [
  {
   "cell_type": "markdown",
   "id": "42a7716d-8ac7-49ab-9b8a-28f540b45317",
   "metadata": {},
   "source": [
    "# Jetpack Compose - Lista z wielokrotnym zaznaczeniem"
   ]
  },
  {
   "cell_type": "markdown",
   "id": "cfafddd8-e3e4-4c2c-b397-a1e117f5c2d2",
   "metadata": {},
   "source": [
    "Analogicznie do przykładu 2.2 przyjrzymy się jak wykonać listę wielokrotnego wybaru za pomocą `Jetpack Compose`"
   ]
  },
  {
   "cell_type": "markdown",
   "id": "f3f6cbb3-5efc-4cdf-a259-f5a8d885cf07",
   "metadata": {},
   "source": [
    "<img src=\"https://media0.giphy.com/media/v1.Y2lkPTc5MGI3NjExZWU3NTc1YjhhODhlOTRkYzliZWNiZjYwMWQwNTQ5NWNhMDE5MDgzYyZlcD12MV9pbnRlcm5hbF9naWZzX2dpZklkJmN0PWc/FWM1mPToLkEh2C3Htz/giphy.gif\" width=\"200\" />"
   ]
  },
  {
   "cell_type": "markdown",
   "id": "ba75447d-0cb7-4191-b931-e65836b1bf78",
   "metadata": {},
   "source": [
    "Zdefiniujmy nasz model danych"
   ]
  },
  {
   "cell_type": "code",
   "execution_count": null,
   "id": "2ae59fb4-e785-42ab-bad5-fed2e15c3ea2",
   "metadata": {},
   "outputs": [],
   "source": [
    "data class ListItem (val name: String, val isSelected: Boolean)"
   ]
  },
  {
   "cell_type": "markdown",
   "id": "71b1443f-3f91-49d0-993b-e2bfd5eb6dfb",
   "metadata": {},
   "source": [
    "Klasa ta reprezentuje pojedynczy element, który może być wyświetlany na liście. `ListItem` posiada dwie właściwości: `name` i `isSelected`. Właściwość `name` przechowuje nazwę elementu, a właściwość `isSelected` przechowuje informację o tym, czy element jest zaznaczony na liście czy nie."
   ]
  },
  {
   "cell_type": "markdown",
   "id": "b659ac56-cf0c-4989-a8f4-5336ce3654d7",
   "metadata": {},
   "source": [
    "Dodajmy funckję `@Composable`"
   ]
  },
  {
   "cell_type": "code",
   "execution_count": null,
   "id": "b7295ebf-b95b-46cf-8922-63d7fc6f2e1f",
   "metadata": {},
   "outputs": [],
   "source": [
    "@Composable\n",
    "fun MultiSelectList() {}"
   ]
  },
  {
   "cell_type": "markdown",
   "id": "ee84c9c4-1aff-4d99-bc2d-da3783d5e1c5",
   "metadata": {},
   "source": [
    "W pierwszym kroku tworzymy zmienną `names` za pomocą funkcji `mutableStateOf()`, która przechowuje listę `ListItem`."
   ]
  },
  {
   "cell_type": "code",
   "execution_count": null,
   "id": "775d8cb6-5bdb-4dcb-ae98-fedfd150bb27",
   "metadata": {},
   "outputs": [],
   "source": [
    "var names by remember {\n",
    "    mutableStateOf(List(50) { ListItem(name = \"$it\", isSelected = false) })\n",
    "}"
   ]
  },
  {
   "cell_type": "markdown",
   "id": "71117dc6-2aa0-4605-9c7c-aa96c4d94713",
   "metadata": {},
   "source": [
    "`remember` jest wykorzystywane do przechowywania listy `names`, która może być aktualizowana przez użytkownika. Dzięki zastosowaniu `remember`, `Compose` *wie*, kiedy lista uległa zmianie i jest w stanie wywołać funkcję `MultiSelectList()` ponownie, aby zaktualizować widok."
   ]
  },
  {
   "cell_type": "code",
   "execution_count": null,
   "id": "74f1eb31-0709-4c8c-a82b-ced625a17fa8",
   "metadata": {},
   "outputs": [],
   "source": [
    "LazyColumn(\n",
    "    modifier = Modifier.fillMaxSize()\n",
    ") {"
   ]
  },
  {
   "cell_type": "markdown",
   "id": "e67f118f-c33f-48e6-ac48-7fb2a7b4321c",
   "metadata": {},
   "source": [
    "`LazyColumn` to `Composable`, który renderuje listę w sposób leniwy, co oznacza, że renderowanie odbywa się tylko na tyle elementów, ile jest widocznych na ekranie."
   ]
  },
  {
   "cell_type": "code",
   "execution_count": null,
   "id": "42bcf13b-c9b0-45e8-be1d-c19ed3743296",
   "metadata": {},
   "outputs": [],
   "source": [
    "LazyColumn(\n",
    "    modifier = Modifier.fillMaxSize()\n",
    ") {\n",
    "    items(names.size) {index ->\n",
    "        Row(\n",
    "            ...\n",
    "        )\n",
    "        {\n",
    "            Text(\n",
    "                ...\n",
    "            )\n",
    "        }\n",
    "    }\n",
    "}"
   ]
  },
  {
   "cell_type": "markdown",
   "id": "549269ba-05c2-4742-b0a7-24be7d557602",
   "metadata": {},
   "source": [
    "W ciele `LazyColumn` znajduje się pętla `items`, która renderuje każdy element z listy `names`. Każdy element jest renderowany jako `Row` z tekstem, który jest renderowany jako `Text`."
   ]
  },
  {
   "cell_type": "code",
   "execution_count": null,
   "id": "466f995b-8306-4060-b475-ce9429bf9103",
   "metadata": {},
   "outputs": [],
   "source": [
    "Row(\n",
    "    modifier = Modifier\n",
    "        .fillMaxSize()\n",
    "        .clickable {...} // obsługa kliknięcia\n",
    "        .padding(4.dp),\n",
    "    horizontalArrangement = Arrangement.SpaceAround,\n",
    "    verticalAlignment = Alignment.CenterVertically\n",
    ")"
   ]
  },
  {
   "cell_type": "markdown",
   "id": "5cf34b41-e195-446d-b068-5ebe2f233c1d",
   "metadata": {},
   "source": [
    "`Row` jest ustawiony tak, aby wypełnił całą dostępną szerokość, a jego wysokość jest ustawiona automatycznie w zależności od zawartości."
   ]
  },
  {
   "cell_type": "code",
   "execution_count": null,
   "id": "759bf88d-a0f0-42e4-abff-25a6c0d28713",
   "metadata": {},
   "outputs": [],
   "source": [
    ".clickable { // obsługa kliknięcia\n",
    "    names = names.mapIndexed { currentIndex, item ->\n",
    "        if (index == currentIndex) item.copy(isSelected = !item.isSelected)\n",
    "        else item\n",
    "    }\n",
    "}"
   ]
  },
  {
   "cell_type": "markdown",
   "id": "5d4fee9e-052d-4fb0-a0b0-2a3b63537443",
   "metadata": {},
   "source": [
    "Kliknięcie w `Row` powoduje aktualizację stanu `names` - wywołuje się funkcja `mapIndexed`, która zwraca nową listę, w której wartość `isSelected` jest zmieniona dla elementu, który został kliknięty, a pozostałe elementy pozostają niezmienione."
   ]
  },
  {
   "cell_type": "code",
   "execution_count": null,
   "id": "d7319a5b-5ba8-4435-815d-32c8e5cb6dc8",
   "metadata": {},
   "outputs": [],
   "source": [
    "Text(\n",
    "    text = names[index].name,\n",
    "    textAlign = TextAlign.Center,\n",
    "    fontSize = 24.sp,\n",
    "    modifier = (\n",
    "            if (names[index].isSelected) Modifier.background(Color.Cyan)\n",
    "            else Modifier.background(Color.Transparent)\n",
    "            ).fillMaxWidth()\n",
    ")"
   ]
  },
  {
   "cell_type": "markdown",
   "id": "fe222b18-4560-4f17-a65a-bbe1f48dbf08",
   "metadata": {},
   "source": [
    "`Text` jest renderowany z odpowiednim kolorem tła, który zależy od wartości `isSelected`. Jeśli wartość `isSelected` jest `true`, tło jest ustawione na kolor `Cyan`, a jeśli wartość jest `false`, tło jest ustawione na kolor przezroczysty."
   ]
  },
  {
   "cell_type": "markdown",
   "id": "53c6f6cb-370e-4c18-9f8a-b184cda2beea",
   "metadata": {},
   "source": [
    "Pełny kod:"
   ]
  },
  {
   "cell_type": "code",
   "execution_count": null,
   "id": "15e9a312-6a5a-486d-8ff7-8259d8992b8b",
   "metadata": {},
   "outputs": [],
   "source": [
    "class MainActivity : ComponentActivity() {\n",
    "    override fun onCreate(savedInstanceState: Bundle?) {\n",
    "        super.onCreate(savedInstanceState)\n",
    "        setContent {\n",
    "            JetpackComposeMultiselectListBasicsTheme {\n",
    "                Surface(\n",
    "                    modifier = Modifier.fillMaxSize(),\n",
    "                    color = MaterialTheme.colorScheme.background\n",
    "                ) {\n",
    "                    MultiSelectList()\n",
    "                }\n",
    "            }\n",
    "        }\n",
    "    }\n",
    "}\n",
    "\n",
    "@Composable\n",
    "fun MultiSelectList() {\n",
    "    var names by remember {\n",
    "        mutableStateOf(List(50) { ListItem(name = \"$it\", isSelected = false) })\n",
    "    }\n",
    "\n",
    "    LazyColumn(\n",
    "        modifier = Modifier.fillMaxSize()\n",
    "    ) {\n",
    "        items(names.size) {index ->\n",
    "            Row(\n",
    "                modifier = Modifier\n",
    "                    .fillMaxSize()\n",
    "                    .clickable {\n",
    "                        names = names.mapIndexed { currentIndex, item ->\n",
    "                            if (index == currentIndex) item.copy(isSelected = !item.isSelected)\n",
    "                            else item\n",
    "                        }\n",
    "                    }\n",
    "                    .padding(4.dp),\n",
    "                horizontalArrangement = Arrangement.SpaceAround,\n",
    "                verticalAlignment = Alignment.CenterVertically\n",
    "            )\n",
    "            {\n",
    "                Text(\n",
    "                    text = names[index].name,\n",
    "                    textAlign = TextAlign.Center,\n",
    "                    fontSize = 24.sp,\n",
    "                    modifier = (\n",
    "                            if (names[index].isSelected) Modifier.background(Color.Cyan)\n",
    "                            else Modifier.background(Color.Transparent)\n",
    "                            ).fillMaxWidth()\n",
    "                )\n",
    "            }\n",
    "        }\n",
    "    }\n",
    "}\n",
    "\n",
    "@Preview(showBackground = true)\n",
    "@Composable\n",
    "fun GreetingPreview() {\n",
    "    JetpackComposeMultiselectListBasicsTheme {\n",
    "        MultiSelectList()\n",
    "    }\n",
    "}"
   ]
  },
  {
   "cell_type": "markdown",
   "id": "0156381f-8b1c-4996-818d-1fd0f40ecf9f",
   "metadata": {},
   "source": [
    "<img src=\"https://media0.giphy.com/media/v1.Y2lkPTc5MGI3NjExZWU3NTc1YjhhODhlOTRkYzliZWNiZjYwMWQwNTQ5NWNhMDE5MDgzYyZlcD12MV9pbnRlcm5hbF9naWZzX2dpZklkJmN0PWc/FWM1mPToLkEh2C3Htz/giphy.gif\" width=\"200\" />"
   ]
  }
 ],
 "metadata": {
  "kernelspec": {
   "display_name": "Kotlin",
   "language": "kotlin",
   "name": "kotlin"
  },
  "language_info": {
   "codemirror_mode": "text/x-kotlin",
   "file_extension": ".kt",
   "mimetype": "text/x-kotlin",
   "name": "kotlin",
   "nbconvert_exporter": "",
   "pygments_lexer": "kotlin",
   "version": "1.8.0-RC"
  }
 },
 "nbformat": 4,
 "nbformat_minor": 5
}
