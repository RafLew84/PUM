{
 "cells": [
  {
   "cell_type": "markdown",
   "id": "b9a0a6bd-27bf-49d0-b6d7-43a80dfb7013",
   "metadata": {},
   "source": [
    "# **Lista 2**"
   ]
  },
  {
   "cell_type": "markdown",
   "id": "0bdf093d-1513-4ab6-8821-c0a09c0c8a78",
   "metadata": {
    "tags": []
   },
   "source": [
    "### Termin wykonania: \n",
    "- gr. czwartek: 16.11.2023\n",
    "- gr. piątek: 17.11.2023\n",
    "- gr. poniedziałek: 20.11.2023"
   ]
  },
  {
   "cell_type": "markdown",
   "id": "1fe13608-fcd7-4e87-98e2-62574c8a3940",
   "metadata": {},
   "source": [
    "Przygotuj aplikację umożliwiającą przeglądanie list zadań oraz uzyskanych ocen.\n",
    "\n",
    "- Aplikacja posiada 3 ekrany:\n",
    "    - E1 - Fragment list zadań: wyświetla wszystkie listy zadań, wraz z nazwą przedmiotu, otrzymaną oceną (zakładamy że wszystkie listy są ocenione) i liczbą zadań na liście\n",
    "    - E2 - Fragment listy ocen: wyświetla średnią ocenę (ze wszystkich list) dla każdego przedmiotu\n",
    "    - E3 - Fragment listy zadań: wyświetla treść wybranej listy zadań - numer zadania, treść zadania i liczbę możliwych do uzyskania punktów"
   ]
  },
  {
   "cell_type": "markdown",
   "id": "c9ece851-206d-4d40-b950-7879e8dadfed",
   "metadata": {},
   "source": [
    "- Nawigacja:\n",
    "    - Fragmenty E1 i E2 dostępne są przez wybór opcji z dolnego paska (`BottomNavigation`)\n",
    "    - Po kliknięciu na element listy na fragmencie E1 przechodzimy na fragment E3, który pokazuje treść klikniętej listy"
   ]
  },
  {
   "cell_type": "markdown",
   "id": "e23581e9-34fa-45bc-a8e0-195eabe6a5bb",
   "metadata": {},
   "source": [
    "<img src=\"https://i.ibb.co/wgzKKQf/obraz-2023-10-04-215750649.png\" width=\"400\" />"
   ]
  },
  {
   "cell_type": "markdown",
   "id": "83f85497-7338-46e3-995f-90207e536e4d",
   "metadata": {},
   "source": [
    "- Aplikacja wykorzystuje tylko *dummy data*, nie ma możliwości edycji, dodania, usuwania elementów\n",
    "- Przykładowy model danych:\n",
    "    - Klasa `Exercise` definiuje pojedyncze zadanie, zawiera pola:\n",
    "        - `content` - treść zadania\n",
    "        - `points` - liczba punktów za zadanie\n",
    "    - Klasa `Subject` definiuje przedmiot, zawiera pola:\n",
    "        - `name` - nazwa przemdmiotu\n",
    "    - Klasa `ExerciseList` definiuje listę zadań, zawiera pola:\n",
    "        - `exercises` - lista zadań\n",
    "        - `subject` - przedmiot\n",
    "        - `grade` - ocena"
   ]
  },
  {
   "cell_type": "markdown",
   "id": "d179cfe6-eca5-4796-a9a6-41b259291743",
   "metadata": {},
   "source": [
    "- Treść zadań nie musi mieć sensu - można wykorzystać *lorem ipsum* o różnej długości\n",
    "- Przygotuj model danych, oraz metodę generującą dane (20 list zadań) - **2 pkt**\n",
    "    - każda lista zawiera maksymalnie 10 zadań, minimalnie 1 zadanie - ustalane losowo\n",
    "    - liczba punktów przydzielana losowo - maksymalnie 10 punktów za zadanie\n",
    "    - przedmiot przydzielany losowo z listy 5 przedmiotów - matematyka, pum, fizyka, elektronika, algorytmy\n",
    "    - ocena przydzielana losowo - między 3,0 a 5,0 z krokiem 0,5"
   ]
  },
  {
   "cell_type": "markdown",
   "id": "b3c7ccd8-16fa-4422-9882-5c754df2355c",
   "metadata": {},
   "source": [
    "- Dodaj do aplikacji `JetpackNavigation` i `BottomNavigation`. Przygotuj layout pierwszego fragmentu (E1) w oparciu o poniższą grafikę i obsłuż `RecyclerView` - **2 pkt**"
   ]
  },
  {
   "cell_type": "markdown",
   "id": "516f7678-caa8-446f-9986-a0ab6ce3cfbd",
   "metadata": {},
   "source": [
    "<img src=\"https://i.ibb.co/rFDRmwB/Zrzut-ekranu-2023-10-04-212458.png\" width=\"400\" />"
   ]
  },
  {
   "cell_type": "markdown",
   "id": "205c1e29-6037-46b4-ad5e-47e2de9eeee3",
   "metadata": {},
   "source": [
    "- Dodaj drugi fragment (E2) obsługiwany przez `BottomNavigation`, którego layout oparty jest na poniższej grafice - **1 pkt**"
   ]
  },
  {
   "cell_type": "markdown",
   "id": "b6376e01-2ed8-44cf-9806-20038b69e767",
   "metadata": {},
   "source": [
    "<img src=\"https://i.ibb.co/8Ybb09x/Zrzut-ekranu-2023-10-04-213320.png\" width=\"400\" />"
   ]
  },
  {
   "cell_type": "markdown",
   "id": "6d1ce4f4-8f7c-49d8-a63c-f3d71131278e",
   "metadata": {},
   "source": [
    "- Przygotuj listę danych i obsłuż `RecyclerView` fragmentu E2 - **2 pkt**"
   ]
  },
  {
   "cell_type": "markdown",
   "id": "0f04ebf3-93b8-47dd-add5-c5543061b326",
   "metadata": {},
   "source": [
    "- Dodaj do aplikacji fragment E3 na podstawie poniższego layoutu - **1 pkt**"
   ]
  },
  {
   "cell_type": "markdown",
   "id": "041f2f79-99fe-46ad-9763-6869fa94bcd3",
   "metadata": {},
   "source": [
    "<img src=\"https://i.ibb.co/FkrcCWh/obraz-2023-10-04-214730383.png\" width=\"400\" />"
   ]
  },
  {
   "cell_type": "markdown",
   "id": "39c20c42-f177-4703-848d-c859b7382f50",
   "metadata": {},
   "source": [
    "- Po kliknięciu na listę zadań (fragment E1), aplikacja przechodzi na fragment E3. Wyświetl zadania znajdujące się na wybranej liście - **2 pkt**"
   ]
  },
  {
   "cell_type": "markdown",
   "id": "036d884d-8fce-4c85-80b0-f37921f9c4f3",
   "metadata": {},
   "source": [
    "### Oceny\n",
    "\n",
    "|**ocena**|**punkty**|\n",
    "|:---:|:---:|\n",
    "|3,0 | 6 pkt|\n",
    "|3,5 | 7 pkt|\n",
    "|4,0 | 8 pkt|\n",
    "|4,5 | 9 pkt|\n",
    "|5,0 | 10 pkt|"
   ]
  }
 ],
 "metadata": {
  "kernelspec": {
   "display_name": "Kotlin",
   "language": "kotlin",
   "name": "kotlin"
  },
  "language_info": {
   "codemirror_mode": "text/x-kotlin",
   "file_extension": ".kt",
   "mimetype": "text/x-kotlin",
   "name": "kotlin",
   "nbconvert_exporter": "",
   "pygments_lexer": "kotlin",
   "version": "1.8.0-RC"
  }
 },
 "nbformat": 4,
 "nbformat_minor": 5
}
