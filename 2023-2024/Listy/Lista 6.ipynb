{
 "cells": [
  {
   "cell_type": "markdown",
   "id": "1756768d-6e01-462b-8d84-8cc7c7997f03",
   "metadata": {},
   "source": [
    "# **Lista 6**"
   ]
  },
  {
   "cell_type": "markdown",
   "id": "1645e11f-8b3c-441d-a73f-d83ac773f4f0",
   "metadata": {
    "tags": []
   },
   "source": [
    "### Termin wykonania: \n",
    "- ostatnie zajęcia"
   ]
  },
  {
   "cell_type": "markdown",
   "id": "c4de28a5-ab62-4f9b-9663-5627aaa87d08",
   "metadata": {},
   "source": [
    "Przygotuj aplikację prezentującą listę użytkowników pochodzącą z [random-data-api](https://random-data-api.com/api/v2/users?size=20).\n",
    "\n",
    "- Aplikacja zawiera dwa ekrany\n",
    "    - ekran startowy prezentuje listę 20 użytkowników\n",
    "    - drugi ekran prezentuje informacje szczegółowe na temat wybranego elementu\n",
    "    - przejście na drugi ekran poprzez kliknięcie elementu na liście\n",
    "- Aplikacja wykorzystuje bibliotekę `Retrofit`"
   ]
  },
  {
   "cell_type": "markdown",
   "id": "1a1c99fb-e08a-41d6-aec3-c818bfc2638b",
   "metadata": {},
   "source": [
    "<img src=\"https://i.ibb.co/pnrBBvW/Bez-tytu-u.png\" width=\"350\" />"
   ]
  },
  {
   "cell_type": "markdown",
   "id": "0504bb59-d8d4-4c50-bc7e-c0ebad412736",
   "metadata": {},
   "source": [
    "- Przygotuj model danych oraz pobierz dane z serwisu - **3 pkt**\n",
    "- Aplikacja wykorzystuje wzorzec MVVM - **2 pkt**\n",
    "- Wyświetl dane na liście (ekran startowy) - **3 pkt**\n",
    "- Wyświetl dane szczegółowe dla wybranego elementu na drugim ekranie - **2 pkt**"
   ]
  },
  {
   "cell_type": "markdown",
   "id": "c6a8e3f3-824d-4bce-a2b5-c124b93e008f",
   "metadata": {},
   "source": [
    "### Oceny\n",
    "\n",
    "|**ocena**|**punkty**|\n",
    "|:---:|:---:|\n",
    "|3,0 | 6 pkt|\n",
    "|3,5 | 7 pkt|\n",
    "|4,0 | 8 pkt|\n",
    "|4,5 | 9 pkt|\n",
    "|5,0 | 10 pkt|"
   ]
  }
 ],
 "metadata": {
  "kernelspec": {
   "display_name": "Kotlin",
   "language": "kotlin",
   "name": "kotlin"
  },
  "language_info": {
   "codemirror_mode": "text/x-kotlin",
   "file_extension": ".kt",
   "mimetype": "text/x-kotlin",
   "name": "kotlin",
   "nbconvert_exporter": "",
   "pygments_lexer": "kotlin",
   "version": "1.6.20-dev-6372"
  }
 },
 "nbformat": 4,
 "nbformat_minor": 5
}
