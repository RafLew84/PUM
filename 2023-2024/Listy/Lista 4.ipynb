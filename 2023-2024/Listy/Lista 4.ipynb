{
 "cells": [
  {
   "cell_type": "markdown",
   "id": "bba43b85-81ed-46bb-af9b-7f02668779d6",
   "metadata": {},
   "source": [
    "# **Lista 4**"
   ]
  },
  {
   "cell_type": "markdown",
   "id": "9080ba34-93a5-42c6-b1bd-7b9feb9c4d80",
   "metadata": {
    "tags": []
   },
   "source": [
    "### Termin wykonania: \n",
    "- gr. czwartek: 07.12.2023\n",
    "- gr. piątek: 08.12.2023\n",
    "- gr. poniedziałek: 11.12.2023"
   ]
  },
  {
   "cell_type": "markdown",
   "id": "079d239e-3767-420f-84ac-ec9b48611f33",
   "metadata": {},
   "source": [
    "Przygotuj aplikację umożliwiającą przeglądanie list zadań oraz uzyskanych ocen.\n",
    "\n",
    "- Aplikacja posiada 3 ekrany:\n",
    "    - E1 - Ekran list zadań: wyświetla wszystkie listy zadań, wraz z nazwą przedmiotu, otrzymaną oceną (zakładamy że wszystkie listy są ocenione) i liczbą zadań na liście\n",
    "    - E2 - Ekran listy ocen: wyświetla średnią ocenę (ze wszystkich list) dla każdego przedmiotu\n",
    "    - E3 - Ekran listy zadań: wyświetla treść wybranej listy zadań - numer zadania, treść zadania i liczbę możliwych do uzyskania punktów"
   ]
  },
  {
   "cell_type": "markdown",
   "id": "b56889ae-e80f-40d5-9780-474c59fb5200",
   "metadata": {},
   "source": [
    "- Nawigacja:\n",
    "    - Ekrany E1 i E2 dostępne są przez wybór opcji z dolnego paska (`NavigationBar`)\n",
    "    - Po kliknięciu na element listy na ekranie E1 przechodzimy na ekran E3, który pokazuje treść klikniętej listy"
   ]
  },
  {
   "cell_type": "markdown",
   "id": "f1e6f83f-96c8-42cb-9db5-c110646bea06",
   "metadata": {},
   "source": [
    "<img src=\"https://i.ibb.co/4j9Vy9Q/Zrzut-ekranu-2023-10-07-123047.png\" width=\"450\" />"
   ]
  },
  {
   "cell_type": "markdown",
   "id": "829c3d50-a4a2-43ea-af52-e8cd2e769882",
   "metadata": {},
   "source": [
    "- Aplikacja wykorzystuje tylko *dummy data*, nie ma możliwości edycji, dodania, usuwania elementów\n",
    "- Przykładowy model danych:\n",
    "    - Klasa `Exercise` definiuje pojedyncze zadanie, zawiera pola:\n",
    "        - `content` - treść zadania\n",
    "        - `points` - liczba punktów za zadanie\n",
    "    - Klasa `Subject` definiuje przedmiot, zawiera pola:\n",
    "        - `name` - nazwa przemdmiotu\n",
    "    - Klasa `ExerciseList` definiuje listę zadań, zawiera pola:\n",
    "        - `exercises` - lista zadań\n",
    "        - `subject` - przedmiot\n",
    "        - `grade` - ocena"
   ]
  },
  {
   "cell_type": "markdown",
   "id": "070106b5-6480-4cb1-b156-1e4712331a90",
   "metadata": {},
   "source": [
    "- Treść zadań nie musi mieć sensu - można wykorzystać *lorem ipsum* o różnej długości\n",
    "- Wykorzystaj model danych z listy 2"
   ]
  },
  {
   "cell_type": "markdown",
   "id": "9199fe85-e3fb-4751-b4d4-4aa72357cfce",
   "metadata": {},
   "source": [
    "- Dodaj do aplikacji `ComposeNavigation`. Przygotuj layout pierwszego ekranu (E1) w oparciu o poniższą grafikę i obsłuż `LazyColumn` - **3 pkt**"
   ]
  },
  {
   "cell_type": "markdown",
   "id": "16c6041b-36be-48e3-b739-7b713b40ed73",
   "metadata": {},
   "source": [
    "<img src=\"https://i.ibb.co/ySCKCrV/Zrzut-ekranu-2023-10-07-124011.png\" width=\"400\" />"
   ]
  },
  {
   "cell_type": "markdown",
   "id": "c1c00d6a-fa50-416a-8d13-476f13f20ab3",
   "metadata": {},
   "source": [
    "- Dodaj drugi ekran (E2) obsługiwany przez `NavigationBar`, którego layout oparty jest na poniższej grafice - **2 pkt**"
   ]
  },
  {
   "cell_type": "markdown",
   "id": "176fbb9c-13be-461d-a6b9-547887bacae5",
   "metadata": {},
   "source": [
    "<img src=\"https://i.ibb.co/B3c75h3/Zrzut-ekranu-2023-10-07-124430.png\" width=\"400\" />"
   ]
  },
  {
   "cell_type": "markdown",
   "id": "ace246b2-624d-4e2f-8b63-36998c55a797",
   "metadata": {},
   "source": [
    "- Przygotuj listę danych i obsłuż `LazyColumn` ekranu E2 - **2 pkt**"
   ]
  },
  {
   "cell_type": "markdown",
   "id": "599a742d-7619-4d13-8352-12f528f60070",
   "metadata": {},
   "source": [
    "- Dodaj do aplikacji ekran E3 na podstawie poniższego layoutu - **1 pkt**"
   ]
  },
  {
   "cell_type": "markdown",
   "id": "582a78d1-c737-41ae-a982-c0079db6d86b",
   "metadata": {},
   "source": [
    "<img src=\"https://i.ibb.co/k8c61J3/Zrzut-ekranu-2023-10-07-125550.png\" width=\"400\" />"
   ]
  },
  {
   "cell_type": "markdown",
   "id": "771b29a3-b80a-4a6d-9e61-a9c267804636",
   "metadata": {},
   "source": [
    "- Po kliknięciu na listę zadań (ekran E1), aplikacja przechodzi na ekran E3. Wyświetl zadania znajdujące się na wybranej liście - **2 pkt**"
   ]
  },
  {
   "cell_type": "markdown",
   "id": "e7d1bd3b-3c50-4ba6-a0c7-e2fce4612576",
   "metadata": {},
   "source": [
    "### Oceny\n",
    "\n",
    "|**ocena**|**punkty**|\n",
    "|:---:|:---:|\n",
    "|3,0 | 6 pkt|\n",
    "|3,5 | 7 pkt|\n",
    "|4,0 | 8 pkt|\n",
    "|4,5 | 9 pkt|\n",
    "|5,0 | 10 pkt|"
   ]
  }
 ],
 "metadata": {
  "kernelspec": {
   "display_name": "Kotlin",
   "language": "kotlin",
   "name": "kotlin"
  },
  "language_info": {
   "codemirror_mode": "text/x-kotlin",
   "file_extension": ".kt",
   "mimetype": "text/x-kotlin",
   "name": "kotlin",
   "nbconvert_exporter": "",
   "pygments_lexer": "kotlin",
   "version": "1.8.0-RC"
  }
 },
 "nbformat": 4,
 "nbformat_minor": 5
}
