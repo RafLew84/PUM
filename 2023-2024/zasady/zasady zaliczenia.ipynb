{
 "cells": [
  {
   "cell_type": "markdown",
   "id": "12b8722e-fc57-43bf-b406-d889a97ab110",
   "metadata": {},
   "source": [
    "# Zasady zaliczenia laboratorium\n",
    "\n",
    "## Programowanie Urządzeń Mobilnych"
   ]
  },
  {
   "cell_type": "markdown",
   "id": "5590fbe2-0622-4202-8525-d5635d398ad7",
   "metadata": {},
   "source": [
    "Warunkiem zaliczenia laboratorium jest uzyskanie pozytywnej oceny z wykonywanych zadań umieszczanych na listach:\n",
    "-  Na zajęcia przewidzianych jest 6 list zadań\n",
    "-  Z każdej listy wystawiana jest osobna ocena\n",
    "-  Nie jest konieczne zaliczenie wszystkich list aby otrzymać ocenę pozytywną z laboratorium\n",
    "-  Każda lista ma przydzieloną liczbę punktów\n",
    "-  Każda lista posiada informację o liczbie punktów wymaganych na konkretną ocenę\n",
    "-  Każda lista posiada termin zwrotu\n",
    "-  Za każdy tydzień opóźnienia otrzymana ocena jest obniżana o 0,5\n",
    "-  Każdą listę można poprawić w ciągu 4 tygodni od terminu zwrotu listy - za wyjątkiem końca semestru\n",
    "-  Poprawa list oddanych po terminie zwrotu jest możliwa pod warunkiem uzyskania co najmniej 50% punktów\n",
    "-  Ocena końcowa jest średnią arytmetyczną ze wszystkich ocen z list\n",
    "-  Wyjątkiem jest ocena 3,0 - należy uzyskać średnią co najmniej 3,0"
   ]
  }
 ],
 "metadata": {
  "kernelspec": {
   "display_name": "Kotlin",
   "language": "kotlin",
   "name": "kotlin"
  },
  "language_info": {
   "codemirror_mode": "text/x-kotlin",
   "file_extension": ".kt",
   "mimetype": "text/x-kotlin",
   "name": "kotlin",
   "nbconvert_exporter": "",
   "pygments_lexer": "kotlin",
   "version": "1.8.0-RC"
  }
 },
 "nbformat": 4,
 "nbformat_minor": 5
}
