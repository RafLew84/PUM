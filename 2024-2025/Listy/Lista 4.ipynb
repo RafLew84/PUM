{
 "cells": [
  {
   "cell_type": "markdown",
   "id": "4fff153c-f500-4655-ba53-971fde2fd6eb",
   "metadata": {},
   "source": [
    "# **Lista 4**"
   ]
  },
  {
   "cell_type": "markdown",
   "id": "4f1af34e-5887-4639-b077-ef1aeaacfacd",
   "metadata": {
    "tags": []
   },
   "source": [
    "### Termin wykonania: \n",
    "- grupa czw. 05.11.2024\n",
    "- grupa pn. 09.12.2024\n",
    "- grupa wt. 03.12.2024"
   ]
  },
  {
   "cell_type": "markdown",
   "id": "8758c94e-4dfc-4903-a79e-d1c05beec578",
   "metadata": {},
   "source": [
    "Prygotuj aplikację (wykorzystując `Jetpack Compose`) przeprowadzającą prosty quiz.\n",
    "\n",
    "- Przygotuj layout aplikacji w oparciu o poniższą grafikę - **3 pkt**"
   ]
  },
  {
   "cell_type": "markdown",
   "id": "f1b6088b-5a95-49d2-aac2-d561333016c4",
   "metadata": {},
   "source": [
    "<img src=\"https://i.ibb.co/kGSwqLk/l1.png\" width=\"400\" />"
   ]
  },
  {
   "cell_type": "markdown",
   "id": "d740d30b-f8dd-4c2a-9a49-f4d7af48b611",
   "metadata": {},
   "source": [
    "- Przygotuj model danych i wygeneruj listę 10 pytań - **1 pkt**\n",
    "- Dodaj obsługę wszystkich elementów ui - **3 pkt**\n",
    "- Dodaj punktację do aplikacji - **1 pkt**"
   ]
  },
  {
   "cell_type": "markdown",
   "id": "f4f87ba7-4a0b-450f-ad72-ecf02da9f31f",
   "metadata": {},
   "source": [
    "- Odpowiedź ustna - **2 pkt**"
   ]
  },
  {
   "cell_type": "markdown",
   "id": "25296162-6e0f-4e16-8949-96c4a9d38675",
   "metadata": {},
   "source": [
    "### Oceny\n",
    "\n",
    "|**ocena**|**punkty**|\n",
    "|:---:|:---:|\n",
    "|3,0 | 6 pkt|\n",
    "|3,5 | 7 pkt|\n",
    "|4,0 | 8 pkt|\n",
    "|4,5 | 9 pkt|\n",
    "|5,0 | 10 pkt|"
   ]
  }
 ],
 "metadata": {
  "kernelspec": {
   "display_name": "Python 3 (ipykernel)",
   "language": "python",
   "name": "python3"
  },
  "language_info": {
   "codemirror_mode": {
    "name": "ipython",
    "version": 3
   },
   "file_extension": ".py",
   "mimetype": "text/x-python",
   "name": "python",
   "nbconvert_exporter": "python",
   "pygments_lexer": "ipython3",
   "version": "3.9.18"
  }
 },
 "nbformat": 4,
 "nbformat_minor": 5
}
