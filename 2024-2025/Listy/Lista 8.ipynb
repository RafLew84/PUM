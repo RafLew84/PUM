{
 "cells": [
  {
   "cell_type": "markdown",
   "id": "2e597bd5-bb9e-46e1-88e0-db98677efa2f",
   "metadata": {},
   "source": [
    "# **Lista 8**"
   ]
  },
  {
   "cell_type": "markdown",
   "id": "ae53f007-b36e-4510-a6f9-2528732a412f",
   "metadata": {
    "tags": []
   },
   "source": [
    "### Termin wykonania: \n",
    "- grupa czw. 30.01.2025\n",
    "- grupa pn. 03.02.2025\n",
    "- grupa wt. 28.01.2025"
   ]
  },
  {
   "cell_type": "markdown",
   "id": "d8b2b6f4-06c9-46ff-9f6c-a7b25a328218",
   "metadata": {},
   "source": [
    "Przygotuj aplikację zarządzającą ocenami. Wyświetla wszystkie oceny\n",
    "\n",
    "- Aplikacja zapewnia trwałość danych: baza danych (`ROOM`) lub zapis do pliku (`SharedPreferences`, `DataStore`)\n",
    "- Aplikacja posiada trzy ekrany\n",
    "    - Wyświetlający wszystkie oceny\n",
    "    - Umożliwiający edycję oraz usunięcie istniejącego wpisu\n",
    "    - Umożliwiający dodanie nowego wpisu\n",
    "- Po kliknięci na element listy przechodzimy do ekranu umożliwiającego edycję\n",
    "- Po naciśnięciu przycisku `NOWY` przechodzimy na ekran umożliwiający dodanie nowego wpisu"
   ]
  },
  {
   "cell_type": "markdown",
   "id": "8c49098c-4bf2-4c92-92a2-fca677e3ab3b",
   "metadata": {},
   "source": [
    "<img src=\"https://i.ibb.co/BVLM3pD/1.png\" width=\"450\" />"
   ]
  },
  {
   "cell_type": "markdown",
   "id": "e16e241a-792d-415d-850e-2edbe2334a88",
   "metadata": {},
   "source": [
    "- Dodaj ekrany oraz nawigację - **2 pkt**\n",
    "- Aplikacja umożliwia dodanie i usunięcie elementów z bazy danych **3 pkt** / z pliku - **2 pkt**\n",
    "- Aplikacja umożliwia edycję wpisu - **1 pkt**\n",
    "- Aplikacja przetwarza dane w sposób asynchroniczny - **1 pkt**\n",
    "- Aplikacja wykorzystuje wzorzec MVVM - **1 pkt**\n",
    "- Odpowiedź ustna - **2 pkt**"
   ]
  },
  {
   "cell_type": "markdown",
   "id": "fe183e7e-e1f9-4d4e-af34-e389dc9d5574",
   "metadata": {},
   "source": [
    "### Oceny\n",
    "\n",
    "|**ocena**|**punkty**|\n",
    "|:---:|:---:|\n",
    "|3,0 | 6 pkt|\n",
    "|3,5 | 7 pkt|\n",
    "|4,0 | 8 pkt|\n",
    "|4,5 | 9 pkt|\n",
    "|5,0 | 10 pkt|"
   ]
  },
  {
   "cell_type": "code",
   "execution_count": null,
   "id": "43851824-de58-47a6-97aa-6bf5a053f3dc",
   "metadata": {},
   "outputs": [],
   "source": []
  }
 ],
 "metadata": {
  "kernelspec": {
   "display_name": "Kotlin",
   "language": "kotlin",
   "name": "kotlin"
  },
  "language_info": {
   "codemirror_mode": "text/x-kotlin",
   "file_extension": ".kt",
   "mimetype": "text/x-kotlin",
   "name": "kotlin",
   "nbconvert_exporter": "",
   "pygments_lexer": "kotlin",
   "version": "1.6.20-dev-6372"
  }
 },
 "nbformat": 4,
 "nbformat_minor": 5
}
