{
 "cells": [
  {
   "cell_type": "markdown",
   "id": "f92b4881-2abb-40f5-9c6f-6f21f42c86dd",
   "metadata": {},
   "source": [
    "# **Lista 1**"
   ]
  },
  {
   "cell_type": "markdown",
   "id": "5404551f-d988-4245-991b-1da12a3358f0",
   "metadata": {
    "tags": []
   },
   "source": [
    "### Termin wykonania: \n",
    "- grupa czw. 31.10.2024\n",
    "- grupa pn. 04.11.2024\n",
    "- grupa wt. 29.10.2024"
   ]
  },
  {
   "cell_type": "markdown",
   "id": "dc1ddc86-e26b-4e36-9aea-966813e09c4c",
   "metadata": {},
   "source": [
    "Prygotuj aplikację przeprowadzającą prosty quiz.\n",
    "\n",
    "- Przygotuj layout aplikacji w oparciu o poniższą grafikę - **3 pkt**"
   ]
  },
  {
   "cell_type": "markdown",
   "id": "989f3572-9ebd-4057-9cfa-55e1cd701e22",
   "metadata": {},
   "source": [
    "<img src=\"https://i.ibb.co/kGSwqLk/l1.png\" width=\"400\" />"
   ]
  },
  {
   "cell_type": "markdown",
   "id": "18a42014-885c-4e19-83c7-ff097d3d9694",
   "metadata": {},
   "source": [
    "- Przygotuj model danych i wygeneruj listę 10 pytań - **1 pkt**\n",
    "- Dodaj obsługę wszystkich elementów ui - **2 pkt**\n",
    "- Dodaj punktację do aplikacji - **1 pkt**\n",
    "- Po zakończeniu quizu wyświetl odpowiednią informację (możesz posłużyć się atrybutem *visible*) - **1 pkt**"
   ]
  },
  {
   "cell_type": "markdown",
   "id": "1bad675d-4e76-4fea-9abc-c68a5ce2b4f8",
   "metadata": {},
   "source": [
    "<img src=\"https://i.ibb.co/St5wG7K/Bez-tytu-u.png\" width=\"170\" />"
   ]
  },
  {
   "cell_type": "markdown",
   "id": "7092b081-4dea-484d-a5ca-fe251d97494f",
   "metadata": {},
   "source": [
    "- Odpowiedź ustna - **2 pkt**"
   ]
  },
  {
   "cell_type": "markdown",
   "id": "52c020cd-7473-43cd-ad8d-5fa3743fee66",
   "metadata": {},
   "source": [
    "### Oceny\n",
    "\n",
    "|**ocena**|**punkty**|\n",
    "|:---:|:---:|\n",
    "|3,0 | 6 pkt|\n",
    "|3,5 | 7 pkt|\n",
    "|4,0 | 8 pkt|\n",
    "|4,5 | 9 pkt|\n",
    "|5,0 | 10 pkt|"
   ]
  }
 ],
 "metadata": {
  "kernelspec": {
   "display_name": "Kotlin",
   "language": "kotlin",
   "name": "kotlin"
  },
  "language_info": {
   "codemirror_mode": "text/x-kotlin",
   "file_extension": ".kt",
   "mimetype": "text/x-kotlin",
   "name": "kotlin",
   "nbconvert_exporter": "",
   "pygments_lexer": "kotlin",
   "version": "1.8.20"
  }
 },
 "nbformat": 4,
 "nbformat_minor": 5
}
