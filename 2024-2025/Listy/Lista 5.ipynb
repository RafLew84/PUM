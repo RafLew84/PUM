{
 "cells": [
  {
   "cell_type": "markdown",
   "id": "f92b4881-2abb-40f5-9c6f-6f21f42c86dd",
   "metadata": {},
   "source": [
    "# **Lista 5**"
   ]
  },
  {
   "cell_type": "markdown",
   "id": "5404551f-d988-4245-991b-1da12a3358f0",
   "metadata": {
    "tags": []
   },
   "source": [
    "### Termin wykonania: \n",
    "- grupa czw. 05.12.2024\n",
    "- grupa pn. 09.12.2024\n",
    "- grupa wt. 03.12.2024"
   ]
  },
  {
   "cell_type": "markdown",
   "id": "dc1ddc86-e26b-4e36-9aea-966813e09c4c",
   "metadata": {},
   "source": [
    "Prygotuj aplikację (`Jetpack Compose`) symulującą system logowania i rejestracji użytkowników.\n",
    "\n",
    "Dodaj 4 ekrany do aplikacji\n",
    "- Główny ekran aplikacji - umożliwia przejście do ekranu logowania lub rejestracji"
   ]
  },
  {
   "cell_type": "markdown",
   "id": "989f3572-9ebd-4057-9cfa-55e1cd701e22",
   "metadata": {},
   "source": [
    "<img src=\"https://i.ibb.co/7CdpTPD/e1.png\" width=\"150\" />"
   ]
  },
  {
   "cell_type": "markdown",
   "id": "e5d0a1ed-b456-4bfe-be20-8dce005f47c7",
   "metadata": {},
   "source": [
    "- Ekran rejestracji - umożliwia dodanie nowego użytkownika - po kliknięciu przycisku przenosi do ekranu logowania, umożliwia również powrót do ekranu głównego"
   ]
  },
  {
   "cell_type": "markdown",
   "id": "1bc47259-6702-4985-910e-90ff58138dcb",
   "metadata": {},
   "source": [
    "<img src=\"https://i.ibb.co/jRxrPL8/e6.png\" width=\"150\" />"
   ]
  },
  {
   "cell_type": "markdown",
   "id": "055c2fda-701b-4dc1-a1e4-7e735656d9af",
   "metadata": {},
   "source": [
    "- Ekran logowania - umożliwia zalogowanie do aplikacji - po kliknięciu przycisków przenosi do ekranu powitalnego lub ekranu rejestracji"
   ]
  },
  {
   "cell_type": "markdown",
   "id": "782f7e4a-822a-4240-a50b-70ffd2454ed6",
   "metadata": {},
   "source": [
    "<img src=\"https://i.ibb.co/JkrBrhM/e7.png\" width=\"150\" />"
   ]
  },
  {
   "cell_type": "markdown",
   "id": "b889e3cb-5e94-4e36-a4f4-911cc6fb8e42",
   "metadata": {},
   "source": [
    "- Ekran powitalny - umożliwia wylogowanie i powrót do ekranu głównego"
   ]
  },
  {
   "cell_type": "markdown",
   "id": "b4fcc9ad-9941-4c2c-9846-e91254caabe4",
   "metadata": {},
   "source": [
    "<img src=\"https://i.ibb.co/m0QzMSL/e4.png\" width=\"150\" />"
   ]
  },
  {
   "cell_type": "markdown",
   "id": "18a42014-885c-4e19-83c7-ff097d3d9694",
   "metadata": {},
   "source": [
    "- Dodaj nawigację do aplikacji za pomocą Jetpack Compose - **4 pkt**\n",
    "- Dodaj model danych (klasa `User`), wygeneruj 5 użytkowników - aplikacja powinna umożliwiać logowanie  - **2 pkt**\n",
    "- Aplikacja powinna umożliwiać dodanie nowego użytkownika - **2 pkt**"
   ]
  },
  {
   "cell_type": "markdown",
   "id": "7092b081-4dea-484d-a5ca-fe251d97494f",
   "metadata": {},
   "source": [
    "- Odpowiedź ustna - **2 pkt**"
   ]
  },
  {
   "cell_type": "markdown",
   "id": "52c020cd-7473-43cd-ad8d-5fa3743fee66",
   "metadata": {},
   "source": [
    "### Oceny\n",
    "\n",
    "|**ocena**|**punkty**|\n",
    "|:---:|:---:|\n",
    "|3,0 | 6 pkt|\n",
    "|3,5 | 7 pkt|\n",
    "|4,0 | 8 pkt|\n",
    "|4,5 | 9 pkt|\n",
    "|5,0 | 10 pkt|"
   ]
  }
 ],
 "metadata": {
  "kernelspec": {
   "display_name": "Kotlin",
   "language": "kotlin",
   "name": "kotlin"
  },
  "language_info": {
   "codemirror_mode": "text/x-kotlin",
   "file_extension": ".kt",
   "mimetype": "text/x-kotlin",
   "name": "kotlin",
   "nbconvert_exporter": "",
   "pygments_lexer": "kotlin",
   "version": "1.8.20"
  }
 },
 "nbformat": 4,
 "nbformat_minor": 5
}
