{
 "cells": [
  {
   "cell_type": "markdown",
   "id": "2e597bd5-bb9e-46e1-88e0-db98677efa2f",
   "metadata": {},
   "source": [
    "# **Lista 7**"
   ]
  },
  {
   "cell_type": "markdown",
   "id": "ae53f007-b36e-4510-a6f9-2528732a412f",
   "metadata": {
    "tags": []
   },
   "source": [
    "### Termin wykonania: \n",
    "- grupa czw. 16.01.2025\n",
    "- grupa pn. 20.01.2025\n",
    "- grupa wt. 14.01.2025"
   ]
  },
  {
   "cell_type": "markdown",
   "id": "d8b2b6f4-06c9-46ff-9f6c-a7b25a328218",
   "metadata": {},
   "source": [
    "Przygotuj aplikację wyświetlającą oceny.\n",
    "\n",
    "- Aplikacja posiada dwa ekrany\n",
    "    - Wyświetlający listę wszystkich studentów\n",
    "    - Wyświetlający detale pojedynczego studenta\n",
    "- Po wybraniu studenta z listy, aplikacja przechodzi do drugiego ekranu wyświetlającego detale (master -> detail)\n",
    "- Model danych posiada pola: nr indeksu, imię, nazwisko, średnia wszystkich ocen, rok studiów\n",
    "- na ekranie listy wyświetlane są: nr indeksu, imię, nazwisko\n",
    "- na ekranie detalu wświetlane są wszystkie dane "
   ]
  },
  {
   "cell_type": "markdown",
   "id": "e16e241a-792d-415d-850e-2edbe2334a88",
   "metadata": {},
   "source": [
    "- Przygotuj model danych oraz dane przykładowe (*dummy data*) - **1 pkt**\n",
    "- Dodaj ekrany oraz nawigację - **2 pkt**\n",
    "- Aplikacja wykorzystuje wzorzec MVVM - **5 pkt**\n",
    "- Odpowiedź ustna - **2 pkt**"
   ]
  },
  {
   "cell_type": "markdown",
   "id": "fe183e7e-e1f9-4d4e-af34-e389dc9d5574",
   "metadata": {},
   "source": [
    "### Oceny\n",
    "\n",
    "|**ocena**|**punkty**|\n",
    "|:---:|:---:|\n",
    "|3,0 | 6 pkt|\n",
    "|3,5 | 7 pkt|\n",
    "|4,0 | 8 pkt|\n",
    "|4,5 | 9 pkt|\n",
    "|5,0 | 10 pkt|"
   ]
  },
  {
   "cell_type": "code",
   "execution_count": null,
   "id": "43851824-de58-47a6-97aa-6bf5a053f3dc",
   "metadata": {},
   "outputs": [],
   "source": []
  }
 ],
 "metadata": {
  "kernelspec": {
   "display_name": "Kotlin",
   "language": "kotlin",
   "name": "kotlin"
  },
  "language_info": {
   "codemirror_mode": "text/x-kotlin",
   "file_extension": ".kt",
   "mimetype": "text/x-kotlin",
   "name": "kotlin",
   "nbconvert_exporter": "",
   "pygments_lexer": "kotlin",
   "version": "1.6.20-dev-6372"
  }
 },
 "nbformat": 4,
 "nbformat_minor": 5
}
