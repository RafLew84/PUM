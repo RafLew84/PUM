{
 "cells": [
  {
   "cell_type": "markdown",
   "id": "bed74fc3-fcec-47b7-a10a-3cd2f4423c32",
   "metadata": {},
   "source": [
    "# ROOM - Podstawy"
   ]
  },
  {
   "cell_type": "markdown",
   "id": "fbb3f29b-7bbe-4d18-bf2f-0f78b9223f55",
   "metadata": {},
   "source": [
    "W tej aplikacji przyjrzymy się zastosowaniu lokalnej bazy danych **ROOM** w aplikacji."
   ]
  },
  {
   "cell_type": "markdown",
   "id": "876922fe-d269-48a7-9488-b446a7332c67",
   "metadata": {},
   "source": [
    "<img src=\"https://media0.giphy.com/media/v1.Y2lkPTc5MGI3NjExam82azljYWxraXAwcDM3dWk1NnowMTYwbDFqY3lzcDB1bm1uZHQxNCZlcD12MV9pbnRlcm5hbF9naWZfYnlfaWQmY3Q9Zw/wJ4PVlB2HlfUf2giVm/giphy.gif\" width=\"200\" />"
   ]
  },
  {
   "cell_type": "markdown",
   "id": "51d59242-4f9a-43cf-8c9a-8d09d72fac43",
   "metadata": {},
   "source": [
    "`Room` jest to biblioteka dostarczona przez Android Jetpack, która ułatwia pracę z lokalną bazą danych `SQLite`. Stanowi wygodny i wydajny sposób na przechowywanie danych wewnętrznych aplikacji. `SQLite` to lekka, wbudowana baza danych, która jest szeroko stosowana w aplikacjach mobilnych i innych systemach osadzonych.\n",
    "\n",
    "Główne cechy `SQLite` to:\n",
    "- Działa jako biblioteka dostępna w postaci pliku w aplikacji, co oznacza, że nie wymaga oddzielnego procesu serwera bazy danych. Aplikacja może bezpośrednio komunikować się z bazą danych.\n",
    "- Jest samowystarczalna, co oznacza, że cała baza danych jest przechowywana w jednym pliku. Nie ma potrzeby konfigurowania lub zarządzania wieloma plikami lub zasobami.\n",
    "- Transakcje - Obsługuje transakcje, co umożliwia grupowanie operacji bazodanowych jako pojedyncze, atomowe działanie. Transakcje są ważne, gdy chodzi o utrzymanie integralności danych. Każda operacja na bazie jest wykonywana w całości lub w ogóle - jest to ważne przy modyfikowaniu wielu tabel, oraz asynchronicznym przetwarzaniu.\n",
    "- Wsparcie dla standardowego `SQL` - obsługuje większość standardowego języka `SQL`, co ułatwia programowanie i wykonywanie zapytań.\n",
    "- Jest zaprojektowany w taki sposób, aby działał wydajnie nawet na urządzeniach o ograniczonych zasobach sprzętowych.\n",
    "\n",
    "Główne składniki biblioteki `Room` to:\n",
    "- `Entity` - Reprezentuje tabelę w bazie danych `SQLite`. Każda klasa oznaczona adnotacją `@Entity` może być mapowana do jednej tabeli w bazie danych, a pola klasy odpowiadają kolumnom tej tabeli.\n",
    "- `DAO` (*Data Access Object*) - Definiuje metody, które umożliwiają dostęp do danych w bazie danych. Możemy zdefiniować interfejs `DAO` za pomocą adnotacji `@Dao`, a Room automatycznie dostarczy implementację tych metod.\n",
    "- `Database` - Klasa bazowa, która reprezentuje bazę danych. To miejsce, gdzie definiujemy wszystkie *encje*, które mają zostać użyte w aplikacji, oraz wersję bazy danych. Room tworzy implementację bazy danych opartej na tej klasie.\n",
    "\n",
    "Aplikacja będzie wyświetlać listę wszystkich użytkowników przechowywanych w bazie danych na urządzeniu. Dodamy operacje dodawania pojedynczego użytkownika oraz czyszczenia danych z bazy."
   ]
  },
  {
   "cell_type": "markdown",
   "id": "9c722ce3-52cd-42b5-9746-cb0aebdbaf50",
   "metadata": {},
   "source": [
    "Dodajmy niezbędne zależności i pluginy do plików konfiguracyjnych aplikacji\n",
    "\n",
    "```kotlin\n",
    "plugins {\n",
    "    ...\n",
    "    id 'kotlin-kapt'\n",
    "}\n",
    "...\n",
    "dependencies {\n",
    "\n",
    "    implementation(libs.androidx.room.runtime)\n",
    "    annotationProcessor(libs.room.compiler)\n",
    "\n",
    "    implementation(libs.room.ktx)\n",
    "    //noinspection KaptUsageInsteadOfKsp\n",
    "    kapt(libs.room.compiler)\n",
    "\n",
    "\n",
    "    // ViewModel\n",
    "    implementation (libs.androidx.lifecycle.viewmodel.ktx)\n",
    "    //Fragment\n",
    "    implementation (libs.androidx.fragment.ktx)\n",
    "    ...\n",
    "}\n",
    "\n",
    "[versions]\n",
    "agp = \"8.5.2\"\n",
    "fragmentKtx = \"1.8.2\"\n",
    "kotlin = \"1.9.0\"\n",
    "coreKtx = \"1.13.1\"\n",
    "junit = \"4.13.2\"\n",
    "junitVersion = \"1.2.1\"\n",
    "espressoCore = \"3.6.1\"\n",
    "appcompat = \"1.7.0\"\n",
    "lifecycleViewmodelKtx = \"2.8.4\"\n",
    "material = \"1.12.0\"\n",
    "activity = \"1.9.1\"\n",
    "constraintlayout = \"2.1.4\"\n",
    "roomCompilerVersion = \"2.6.1\"\n",
    "\n",
    "[libraries]\n",
    "androidx-core-ktx = { group = \"androidx.core\", name = \"core-ktx\", version.ref = \"coreKtx\" }\n",
    "androidx-fragment-ktx = { module = \"androidx.fragment:fragment-ktx\", version.ref = \"fragmentKtx\" }\n",
    "androidx-lifecycle-viewmodel-ktx = { module = \"androidx.lifecycle:lifecycle-viewmodel-ktx\", version.ref = \"lifecycleViewmodelKtx\" }\n",
    "androidx-room-runtime = { module = \"androidx.room:room-runtime\", version.ref = \"roomCompilerVersion\" }\n",
    "junit = { group = \"junit\", name = \"junit\", version.ref = \"junit\" }\n",
    "androidx-junit = { group = \"androidx.test.ext\", name = \"junit\", version.ref = \"junitVersion\" }\n",
    "androidx-espresso-core = { group = \"androidx.test.espresso\", name = \"espresso-core\", version.ref = \"espressoCore\" }\n",
    "androidx-appcompat = { group = \"androidx.appcompat\", name = \"appcompat\", version.ref = \"appcompat\" }\n",
    "material = { group = \"com.google.android.material\", name = \"material\", version.ref = \"material\" }\n",
    "androidx-activity = { group = \"androidx.activity\", name = \"activity\", version.ref = \"activity\" }\n",
    "androidx-constraintlayout = { group = \"androidx.constraintlayout\", name = \"constraintlayout\", version.ref = \"constraintlayout\" }\n",
    "room-compiler = { module = \"androidx.room:room-compiler\", version.ref = \"roomCompilerVersion\" }\n",
    "room-ktx = { module = \"androidx.room:room-ktx\", version.ref = \"roomCompilerVersion\" }\n",
    "\n",
    "[plugins]\n",
    "android-application = { id = \"com.android.application\", version.ref = \"agp\" }\n",
    "jetbrains-kotlin-android = { id = \"org.jetbrains.kotlin.android\", version.ref = \"kotlin\" }\n",
    "```\n",
    "\n",
    "### **UWAGA!!!**\n",
    "Istnieje nowsza wtyczka służąca do przetwarzania adnotacji - `ksp`, jednak w trakcie pisania niniejszego notatnika jest w fazie testów i jeszcze jest niestabilna. Z tego powodu w notatnikach dalej będzie wykorzystywana starsza wtyczka `kapt`. `ksp` wprowadzono w celu zastąpienia `kapt`, więc w przyszłości może być konieczna migracja, bądź powyższy blok `plugins` będzie zdezaktualizowany. Więcej informacji [tutaj](https://developer.android.com/build/migrate-to-ksp)\n",
    "\n",
    "- **KAPT (Kotlin Annotation Processing Tool)** - jest to wtyczka kompilatora używana do przetwarzania adnotacji w języku Kotlin. Współpracuje z bibliotekami, które korzystają z adnotacji do generowania kodu w czasie kompilacji. Jej głównym zadaniem jest skanowanie kodu źródłowego w poszukiwaniu adnotacji i generowanie dodatkowego kodu na podstawie ich wystąpień. Jest to szczególnie użyteczne w przypadku bibliotek, które chcą automatycznie generować kod dla określonych przypadków użycia.\n",
    "- **KSP (Kotlin Symbol Processing)** - to nowsza wtyczka kompilatora, wprowadzona w celu **zastąpienia** `kapt`. Również służy do przetwarzania adnotacji i generowania kodu w czasie kompilacji. Główną różnicą jest jednak to, że `ksp` zostało zaprojektowane z myślą o bardziej elastycznym i wydajnym API. Oferuje programistom dostęp do bardziej zaawansowanego drzewa symboli, co ułatwia przetwarzanie i analizę kodu aplikacji. Dzięki temu może działać szybciej i jest bardziej skalowalne niż starsza wersja."
   ]
  },
  {
   "cell_type": "markdown",
   "id": "e8f7726c-e30e-4687-af9a-359b58514f73",
   "metadata": {},
   "source": [
    "Będziemy dodawać użytkowników, więc dodajmy obiekt pomocniczy, który ułatwi ich generowanie."
   ]
  },
  {
   "cell_type": "code",
   "execution_count": null,
   "id": "68a92080-39bd-4b77-8f71-b6894a1a0cc6",
   "metadata": {},
   "outputs": [],
   "source": [
    "data class User(\n",
    "    val firstName: String,\n",
    "    val lastName: String\n",
    ")"
   ]
  },
  {
   "cell_type": "code",
   "execution_count": null,
   "id": "5b00bab8-8f71-4428-8e7f-eb2f1859c6ef",
   "metadata": {},
   "outputs": [],
   "source": [
    "object DataProvider {\n",
    "    private val firstNames = listOf(\n",
    "        \"Adam\", \"Ewa\", \"Jan\", \"Anna\", \"Piotr\", \"Maria\", \"Tomasz\", \"Małgorzata\", \"Krzysztof\", \"Alicja\",\n",
    "        \"Andrzej\", \"Joanna\", \"Michał\", \"Barbara\", \"Kamil\", \"Magdalena\", \"Robert\", \"Monika\", \"Mateusz\", \"Natalia\"\n",
    "    )\n",
    "\n",
    "    private val lastNames = listOf(\n",
    "        \"Nowak\", \"Kowalski\", \"Wiśniewski\", \"Wójcik\", \"Kowalczyk\", \"Kamiński\", \"Lewandowski\", \"Zieliński\", \"Szymański\",\n",
    "        \"Woźniak\", \"Dąbrowski\", \"Kozłowski\", \"Jankowski\", \"Mazur\", \"Kwiatkowski\", \"Krawczyk\", \"Piotrowski\", \"Grabowski\",\n",
    "        \"Nowakowski\", \"Pawłowski\"\n",
    "    )\n",
    "\n",
    "    val user: User\n",
    "        get() = User(firstNames.random(), lastNames.random())\n",
    "}"
   ]
  },
  {
   "cell_type": "markdown",
   "id": "a873127b-9a39-4c85-892e-712b3387adf2",
   "metadata": {},
   "source": [
    "Przy każdej próbie odczytu pola `user` zostanie wywołany *getter*, który utworzy nową instancję klasy `User`"
   ]
  },
  {
   "cell_type": "markdown",
   "id": "2cef688b-2788-40fa-b72e-54f5dfe8af8c",
   "metadata": {},
   "source": [
    "## Elementy Room"
   ]
  },
  {
   "cell_type": "markdown",
   "id": "77ab83e1-2a55-4dc3-b70d-60a7c228f677",
   "metadata": {},
   "source": [
    "Przejdźmy do dodania wszystkich elementów bazy danych, rozpoczniemi od `Entity`. Zmodyfikujmy wcześniej dodaną klasę `User`."
   ]
  },
  {
   "cell_type": "code",
   "execution_count": null,
   "id": "add49e96-45f0-4ef1-af06-80016c71a7c6",
   "metadata": {},
   "outputs": [],
   "source": [
    "@Entity(tableName = \"user_table\")\n",
    "data class User(\n",
    "    @PrimaryKey(autoGenerate = true) val id: Int,\n",
    "    val firstName: String,\n",
    "    val lastName: String\n",
    ")"
   ]
  },
  {
   "cell_type": "markdown",
   "id": "292fba72-0ac9-4215-9b49-a6c6b95d65e4",
   "metadata": {},
   "source": [
    "- `@Entity(tableName = \"user_table\")` - Adnotacja `@Entity` jest używana do oznaczenia klasy jako *encji* bazy danych. Oznacza to, że obiekty tej klasy będą reprezentować wiersze w tabeli bazy danych. `tableName` to atrybut adnotacji `@Entity`, który definiuje nazwę tabeli, do której będą mapowane obiekty tej klasy. W tym przypadku tabela będzie miała nazwę `\"user_table\"`.\n",
    "- `@PrimaryKey(autoGenerate = true) val id: Int` - Adnotacja `@PrimaryKey` informuje, że pole `id` będzie kluczem głównym tabeli. W bazie danych, pole oznaczone jako klucz główny musi być unikatowe dla każdego wiersza. `autoGenerate = true` oznacza, że wartość klucza będzie generowana automatycznie przy dodawaniu nowego rekordu do tabeli.\n",
    "\n",
    "Adnotacja `@Entity` może posiadać szereg innych atrybutów:\n",
    "- `indices` - Pozwala na zdefiniowanie indeksów dla jednego lub wielu pól w tabeli. Indeksy pomagają w przyspieszeniu wyszukiwania danych w bazie danych.\n",
    "```kotlin\n",
    "@Entity(tableName = \"user_table\", indices = [Index(value = [\"firstName\", \"lastName\"])])\n",
    "data class User(\n",
    "    // ...\n",
    ")\n",
    "```\n",
    "- `foreignKeys` - Pozwala na zdefiniowanie kluczy obcych w tabeli. Określa relacje między tabelą bieżącą a innymi tabelami w bazie danych.\n",
    "```kotlin\n",
    "@Entity(\n",
    "    tableName = \"order_table\",\n",
    "    foreignKeys = [\n",
    "        ForeignKey(\n",
    "            entity = User::class,\n",
    "            parentColumns = [\"id\"],\n",
    "            childColumns = [\"user_id\"],\n",
    "            onDelete = ForeignKey.CASCADE\n",
    "        )\n",
    "    ]\n",
    ")\n",
    "data class Order(\n",
    "    // ...\n",
    "    val user_id: Int\n",
    ")\n",
    "```\n",
    "- `primaryKeys` - Pozwala na zdefiniowanie niestandardowego zestawu pól jako kluczy głównych tabeli.\n",
    "```kotlin\n",
    "@Entity(tableName = \"book_table\", primaryKeys = [\"isbn\", \"title\"])\n",
    "data class Book(\n",
    "    val isbn: String,\n",
    "    val title: String,\n",
    "    // ...\n",
    ")\n",
    "```\n",
    "- `ignoredColumns` - Pozwala na zdefiniowanie pól, które będą ignorowane przez `Room` i nie będą mapowane do tabeli w bazie danych.\n",
    "```kotlin\n",
    "@Entity(tableName = \"user_table\", ignoredColumns = [\"age\"])\n",
    "data class User(\n",
    "    val firstName: String,\n",
    "    val lastName: String,\n",
    "    val age: Int // ignorowane\n",
    "    // ...\n",
    ")\n",
    "```"
   ]
  },
  {
   "cell_type": "markdown",
   "id": "b0dbad48-80f9-487c-874c-5239c85cfd94",
   "metadata": {},
   "source": [
    "Kolejnym elementem będzie dodanie interfejsu `DAO`"
   ]
  },
  {
   "cell_type": "code",
   "execution_count": null,
   "id": "8d0328c9-bbbb-429f-915a-44d4aadf6e6d",
   "metadata": {},
   "outputs": [],
   "source": [
    "@Dao\n",
    "interface UserDao {\n",
    "    @Query(\"SELECT * FROM user_table ORDER BY lastName ASC, firstName ASC\")\n",
    "    fun getUsers(): Flow<List<User>>\n",
    "\n",
    "    @Insert(onConflict = OnConflictStrategy.IGNORE)\n",
    "    suspend fun insert(user: User)\n",
    "\n",
    "    @Query(\"DELETE FROM user_table\")\n",
    "    suspend fun deleteAll()\n",
    "}"
   ]
  },
  {
   "cell_type": "markdown",
   "id": "e0b33901-b1e5-4332-a524-294531c8d7e4",
   "metadata": {},
   "source": [
    "Interfejs `DAO` zawiera deklaracje metod, które pozwalają na interakcję z bazą danych i wykonywanie operacji.\n",
    "\n",
    "- `@Query(\"SELECT * FROM user_table ORDER BY lastName ASC, firstName ASC\")` - Jest to metoda do pobierania użytkowników z bazy danych. Zapytanie `SQL` `SELECT * FROM user_table ORDER BY lastName ASC, firstName ASC` wybiera wszystkie kolumny z tabeli `\"user_table\"` i sortuje wyniki według kolumny `lastName` rosnąco, a następnie według kolumny `firstName` rosnąco. Ta metoda zwraca dane jako `Flow<List<User>>`, co oznacza, że może przesyłać nowe wyniki w czasie rzeczywistym (np. gdy dane się zmienią).\n",
    "- `@Insert(onConflict = OnConflictStrategy.IGNORE)` - Jest to metoda do dodawania użytkownika do bazy danych. Adnotacja `@Insert` oznacza, że ta metoda jest używana do wstawiania danych do tabeli. Atrybut `onConflict = OnConflictStrategy.IGNORE` oznacza, że jeśli próba wstawienia użytkownika zakończy się konfliktem (np. duplikatem klucza głównego), zostanie zignorowana.\n",
    "- `@Query(\"DELETE FROM user_table\")` - Jest to metoda do usuwania wszystkich użytkowników z bazy danych. Zapytanie `SQL` `DELETE FROM user_table` usuwa wszystkie wiersze z tabeli `\"user_table\"` i czyszczenie jej zawartości.\n",
    "\n",
    "- `@Insert` - specjalna adnotacja, która nie wymaga podawania wprost kodu `SQL` - istanieją jeszcze `@Delete` oraz `@Update` - mocno ułatwia to wykonywanie podstawowych operacji na bazie. Adnotacja `@Query` wymaga podania pełnego zapytania `SQL` jako `String`\n",
    "\n",
    "Lista niektórych adnotacji, które można wykorzystać:\n",
    "- `@Update` - służy do aktualizacji danych w bazie danych. Metody oznaczone tą adnotacją muszą przyjmować jako argumenty obiekty klas, które reprezentują wiersze w tabeli. `Room` automatycznie wygeneruje odpowiednie zapytania `SQL` do zaktualizowania tych danych.\n",
    "```kotlin\n",
    "@Dao\n",
    "interface UserDao {\n",
    "    // ...\n",
    "\n",
    "    @Update\n",
    "    suspend fun update(user: User)\n",
    "\n",
    "    // ...\n",
    "}\n",
    "```\n",
    "- `@Delete` - jest używana do usuwania danych z bazy danych. Metody oznaczone tą adnotacją powinny przyjmować jako argumenty obiekty klas reprezentujących wiersze, które mają zostać usunięte.\n",
    "```kotlin\n",
    "@Dao\n",
    "interface UserDao {\n",
    "    // ...\n",
    "\n",
    "    @Delete\n",
    "    suspend fun delete(user: User)\n",
    "\n",
    "    // ...\n",
    "}\n",
    "```\n",
    "- `@Query` - pozwala na definiowanie własnych zapytań `SQL`.\n",
    "```kotlin\n",
    "@Dao\n",
    "interface UserDao {\n",
    "    // ...\n",
    "\n",
    "    @Query(\"SELECT * FROM user_table WHERE firstName = :firstName\") // zwraca listę wszystkich użytkowników gdzie pole w bazie (firstName) \n",
    "                                                                    // jest równe argumentowi przekazanemu w funkcji (:firstName)\n",
    "    fun getUsersByFirstName(firstName: String): List<User>\n",
    "\n",
    "    // ...\n",
    "}\n",
    "```\n",
    "- `@RawQuery` - pozwala na wykonywanie niezdefiniowanych z góry zapytań `SQL`, które można przekazać jako argument typu `SupportSQLiteQuery`.\n",
    "```kotlin\n",
    "@Dao\n",
    "interface UserDao {\n",
    "    // ...\n",
    "\n",
    "    @RawQuery\n",
    "    fun getUsersByRawQuery(query: SupportSQLiteQuery): List<User>\n",
    "\n",
    "    // ...\n",
    "}\n",
    "```\n",
    "- `@Transaction` - używana jest do oznaczenia metod, które wymagają wykonania kilku metod w transakcji. Transakcje pozwalają na wykonywanie zestawu operacji jako pojedynczą, atomową operację - albo transakcja jest wykonana w pełni, albo wcale.\n",
    "```kotlin\n",
    "@Dao\n",
    "interface UserDao {\n",
    "    // ...\n",
    "\n",
    "    @Transaction\n",
    "    suspend fun insertAndUpdate(user: User, updatedUser: User) {\n",
    "        insert(user)\n",
    "        update(updatedUser)\n",
    "    }\n",
    "\n",
    "    // ...\n",
    "}\n",
    "```"
   ]
  },
  {
   "cell_type": "markdown",
   "id": "55f3ced3-27e3-4333-a80a-53f97bdc53e1",
   "metadata": {},
   "source": [
    "Nie implementujemy metod tego interfejsu, ponieważ to `Room` automatycznie generuje implementacje tych metod w czasie kompilacji. Koncepcja ta nazywa się *automatyczną implementacją*.\n",
    "\n",
    "`Room` wykorzystuje mechanizm **Proxy** w języku Kotlin (lub **Refleksję** w języku Java), aby analizować interfejs `DAO` i generować kod `SQL` oraz operacje na bazie danych zgodnie z adnotacjami i deklaracjami metod. Dzięki temu nie musimy ręcznie implementować tych metod i zapytań."
   ]
  },
  {
   "cell_type": "markdown",
   "id": "178b3715-ca6e-4c5f-9624-9baa103a21ad",
   "metadata": {},
   "source": [
    "Ostatnim elementem będzie utworzenie klasy bazowej."
   ]
  },
  {
   "cell_type": "code",
   "execution_count": null,
   "id": "80438f5f-98da-48d5-bf47-24158ce4223a",
   "metadata": {},
   "outputs": [],
   "source": [
    "@Database(entities = [User::class], version = 1, exportSchema = false)\n",
    "abstract class UserDatabase : RoomDatabase() {\n",
    "    abstract fun userDao(): UserDao\n",
    "\n",
    "    companion object {\n",
    "        @Volatile\n",
    "        private var Instance: UserDatabase? = null\n",
    "\n",
    "        fun getDatabase(context: Context): UserDatabase {\n",
    "            return Instance ?: synchronized(this) {\n",
    "                Room.databaseBuilder(context, UserDatabase::class.java, \"user_database\")\n",
    "                    .build()\n",
    "                    .also { Instance = it }\n",
    "            }\n",
    "        }\n",
    "    }\n",
    "}"
   ]
  },
  {
   "cell_type": "markdown",
   "id": "567b2f08-3ab3-4ace-870c-c562cf5308b2",
   "metadata": {},
   "source": [
    "Klasa ta reprezentuje bazę danych dla aplikacji, która zawiera tylko jedną tabelę `User`. Wykorzystuje wzorzec **Singleton** i synchronizację w celu zapewnienia, że baza danych będzie miała tylko jedną instancję w całej aplikacji.\n",
    "\n",
    "- `@Database(entities = [User::class], version = 1, exportSchema = false)` - Adnotacja `@Database` jest używana do oznaczenia klasy `UserDatabase` jako bazowej klasy bazy danych `Room`.\n",
    "    - `entities` definiuje tablicę klas encji, które będą zawarte w tej bazie danych. \n",
    "    - `version` definiuje numer wersji bazy danych.\n",
    "    - `exportSchema` określa, czy `Room` ma eksportować schemat bazy danych do pliku na urządzeniu. W tym przypadku jest ustawiony na false - migracje bazy są poza zakresem przedmiotu.\n",
    "- `abstract fun userDao(): UserDao` - Jest to deklaracja abstrakcyjnej metody, która zwraca obiekt o typie interfejsu `UserDao`. Ta metoda będzie używana do uzyskania dostępu do operacji bazodanowych związanych z encją `User`. Jest metodą abstrakcyjną, ponieważ nie ma zdefiniowanej implementacji. Faktyczna implementacja tej metody jest generowana automatycznie przez `Room` w czasie kompilacji.\n",
    "- `@Volatile private var Instance: UserDatabase? = null` - Zmienna `Instance` jest oznaczona jako `volatile`, co zapewnia, że jej wartość jest zawsze widoczna dla innych wątków.\n",
    "- `fun getDatabase(context: Context): UserDatabase` - Jest to metoda fabryczna, która tworzy lub zwraca istniejącą instancję bazy danych. Jeśli instancja bazy danych już istnieje, zostanie zwrócona; w przeciwnym razie zostanie utworzona za pomocą `Room.databaseBuilder()`.\n",
    "- `Room.databaseBuilder()` używa `context` aplikacji, klasy `UserDatabase` oraz nazwy bazy danych (`\"user_database\"`) do skonfigurowania i zbudowania instancji `UserDatabase`. \n",
    "- `Metoda synchronized()` jest używana do synchronizacji dostępu do kodu, co zapewnia, że tylko jeden wątek może uzyskać dostęp do tej sekcji jednocześnie."
   ]
  },
  {
   "cell_type": "markdown",
   "id": "0fb114c7-bc19-40cf-8c37-7c8a04875eb5",
   "metadata": {},
   "source": [
    "## Repository\n",
    "\n",
    "Dodajmy proste repozytorium"
   ]
  },
  {
   "cell_type": "code",
   "execution_count": null,
   "id": "61f99449-b91d-4b24-aba6-880a6058989a",
   "metadata": {},
   "outputs": [],
   "source": [
    "class UserRepository(private val userDao: UserDao) {\n",
    "    fun getUsers() = userDao.getUsers()\n",
    "    suspend fun clear() = userDao.deleteAll()\n",
    "    suspend fun add(user: User) = userDao.insert(user)\n",
    "}"
   ]
  },
  {
   "cell_type": "markdown",
   "id": "800da4c0-9cd2-43f1-b2fb-d8e9849591a7",
   "metadata": {},
   "source": [
    "## ViewModel"
   ]
  },
  {
   "cell_type": "markdown",
   "id": "3196b759-f85c-4a5c-8c4f-8955eca07445",
   "metadata": {},
   "source": [
    "Przejdźmy do utworzenia klasy `UserViewModel`, ponieważ `UserDatabase` wymaga podania kontekstu aplikacji, przekażemy go przez konstruktor. Jest to problem, ponieważ `ViewModel` nie przyjmuje żadnych parametrów. Mamy do dyspozycji również `AndroidViewModel`, który umożliwia przekazanie kontekstu jako parametru do instancji `ViewModel`."
   ]
  },
  {
   "cell_type": "code",
   "execution_count": null,
   "id": "a7051945-2264-4951-93e1-907075a76f62",
   "metadata": {},
   "outputs": [],
   "source": [
    "class UserViewModel(application: Application) : AndroidViewModel(application) {\n",
    "\n",
    "    private val repository: UserRepository\n",
    "    private val _usersState = MutableStateFlow<List<User>>(emptyList())\n",
    "    val usersState: StateFlow<List<User>>\n",
    "        get() = _usersState\n",
    "\n",
    "    init {\n",
    "        val db = UserDatabase.getDatabase(application)\n",
    "        val dao = db.userDao()\n",
    "        repository = UserRepository(dao)\n",
    "\n",
    "        fetchUsers()\n",
    "    }\n",
    "\n",
    "    private fun fetchUsers() {\n",
    "        viewModelScope.launch {\n",
    "            repository.getUsers().collect { users ->\n",
    "                _usersState.value = users\n",
    "            }\n",
    "        }\n",
    "    }\n",
    "\n",
    "    fun clearUsers() {\n",
    "        viewModelScope.launch {\n",
    "            repository.clear()\n",
    "        }\n",
    "    }\n",
    "\n",
    "    fun addUser(user: User) {\n",
    "        viewModelScope.launch {\n",
    "            repository.add(user)\n",
    "        }\n",
    "    }\n",
    "}"
   ]
  },
  {
   "cell_type": "markdown",
   "id": "6a8b7cb3-e387-4aed-926e-1088ce41b5e6",
   "metadata": {},
   "source": [
    "- `init { ... }` blok inicjalizacyjny, który wykonuje kod podczas tworzenia instancji `UserViewModel`. W tym przypadku, następuje utworzenie instancji `UserDatabase`, uzyskanie `DAO` z bazy danych, a także utworzenie i zainicjowanie repozytorium `UserRepository`. Pozostałe elementy są znane z poprzednich przykładów."
   ]
  },
  {
   "cell_type": "markdown",
   "id": "636c6f78-4908-4f09-80f8-1356d73b5de9",
   "metadata": {},
   "source": [
    "### **UWAGA!!!**\n",
    "Tego typu tworzenie obiektów `UserDatabase` i `UserRepository` jest problematyczne - w ostatnim module zapoznamy się z techniką wstrzykiwania zależności (*dependency injection*), która pozwoli nam rozwiązać ten problem."
   ]
  },
  {
   "cell_type": "markdown",
   "id": "db3a4557-1955-4b4b-b7b9-02080e9c977b",
   "metadata": {},
   "source": [
    "## ui"
   ]
  },
  {
   "cell_type": "markdown",
   "id": "5c0510d7-244f-43ed-addb-4d6d8746018f",
   "metadata": {},
   "source": [
    "Dodajmy Fragment z `RecyclerView` w celu wyświetlenia całej listy."
   ]
  },
  {
   "cell_type": "code",
   "execution_count": null,
   "id": "1cedff64-9801-4f1c-86dd-bd8fc162f531",
   "metadata": {},
   "outputs": [],
   "source": [
    "class UserViewHolder(private val binding: RvItemBinding) : RecyclerView.ViewHolder(binding.root) {\n",
    "    fun bind(item: User) {\n",
    "        binding.textView.text = \"${item.firstName} ${item.lastName}\"\n",
    "    }\n",
    "}"
   ]
  },
  {
   "cell_type": "code",
   "execution_count": null,
   "id": "f5a7c66f-aeb0-44ce-a5bf-75e1cd1fce70",
   "metadata": {},
   "outputs": [],
   "source": [
    "class UserComparator : DiffUtil.ItemCallback<User>() {\n",
    "    override fun areItemsTheSame(oldItem: User, newItem: User): Boolean {\n",
    "        return oldItem === newItem\n",
    "    }\n",
    "\n",
    "    override fun areContentsTheSame(oldItem: User, newItem: User): Boolean {\n",
    "        return oldItem == newItem\n",
    "    }\n",
    "}"
   ]
  },
  {
   "cell_type": "code",
   "execution_count": null,
   "id": "88c2f901-32e0-4df6-9ef5-b36aad51357f",
   "metadata": {},
   "outputs": [],
   "source": [
    "class UserAdapter(userComparator: UserComparator) : ListAdapter<User, UserViewHolder>(userComparator) {\n",
    "    override fun onCreateViewHolder(parent: ViewGroup, viewType: Int): UserViewHolder {\n",
    "        return UserViewHolder(\n",
    "            RvItemBinding.inflate(\n",
    "                LayoutInflater.from(parent.context), parent, false\n",
    "            )\n",
    "        )\n",
    "    }\n",
    "\n",
    "    override fun onBindViewHolder(holder: UserViewHolder, position: Int) {\n",
    "        val item = getItem(position)\n",
    "        holder.bind(item)\n",
    "    }\n",
    "}"
   ]
  },
  {
   "cell_type": "code",
   "execution_count": null,
   "id": "319b378e-1b36-4a1d-9cfe-56c666c870cc",
   "metadata": {},
   "outputs": [],
   "source": [
    "class UserFragment : Fragment() {\n",
    "\n",
    "    private lateinit var binding: FragmentUserBinding\n",
    "\n",
    "    private val viewModel: UserViewModel by viewModels()\n",
    "\n",
    "    override fun onCreateView(\n",
    "        inflater: LayoutInflater, container: ViewGroup?,\n",
    "        savedInstanceState: Bundle?\n",
    "    ): View {\n",
    "        binding = FragmentUserBinding.inflate(inflater)\n",
    "\n",
    "        val userAdapter = UserAdapter(UserComparator())\n",
    "        viewLifecycleOwner.lifecycleScope.launch {\n",
    "            viewModel.usersState.collectLatest { users ->\n",
    "                userAdapter.submitList(users)\n",
    "            }\n",
    "        }\n",
    "\n",
    "        binding.rvList.apply{\n",
    "            adapter = userAdapter\n",
    "            layoutManager = LinearLayoutManager(requireContext())\n",
    "            itemAnimator = null\n",
    "        }\n",
    "\n",
    "        binding.addButton.setOnClickListener { viewModel.addUser(DataProvider.user) }\n",
    "        binding.clearButton.setOnClickListener { viewModel.clearUsers() }\n",
    "\n",
    "        return binding.root\n",
    "    }\n",
    "}"
   ]
  },
  {
   "cell_type": "markdown",
   "id": "67b22e76-5317-47da-844a-fd353871d1b1",
   "metadata": {},
   "source": [
    "Ustawiamy `itemAnimator` na `null`, aby uniknąć wyświetlania domyślnej animacji (*fadeout-fadein*) przy przeładowaniu listy."
   ]
  },
  {
   "cell_type": "markdown",
   "id": "fd082f16-f8cc-42cd-b0c3-a0fdb341e7cf",
   "metadata": {},
   "source": [
    "Możemy przetestować aplikacjię."
   ]
  },
  {
   "cell_type": "markdown",
   "id": "03199681-cfaf-4250-85fe-fa203f3a0a78",
   "metadata": {},
   "source": [
    "<img src=\"https://media0.giphy.com/media/v1.Y2lkPTc5MGI3NjExam82azljYWxraXAwcDM3dWk1NnowMTYwbDFqY3lzcDB1bm1uZHQxNCZlcD12MV9pbnRlcm5hbF9naWZfYnlfaWQmY3Q9Zw/wJ4PVlB2HlfUf2giVm/giphy.gif\" width=\"200\" />"
   ]
  }
 ],
 "metadata": {
  "kernelspec": {
   "display_name": "Kotlin",
   "language": "kotlin",
   "name": "kotlin"
  },
  "language_info": {
   "codemirror_mode": "text/x-kotlin",
   "file_extension": ".kt",
   "mimetype": "text/x-kotlin",
   "name": "kotlin",
   "nbconvert_exporter": "",
   "pygments_lexer": "kotlin",
   "version": "1.8.0-RC"
  }
 },
 "nbformat": 4,
 "nbformat_minor": 5
}
