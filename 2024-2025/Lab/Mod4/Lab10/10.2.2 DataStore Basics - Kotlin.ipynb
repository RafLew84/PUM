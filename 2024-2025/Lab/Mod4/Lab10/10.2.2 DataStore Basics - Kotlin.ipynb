{
 "cells": [
  {
   "cell_type": "markdown",
   "id": "90d044c2-9c8b-4f15-ae8b-612b23bc8740",
   "metadata": {},
   "source": [
    "# DataStore - Podstawy"
   ]
  },
  {
   "cell_type": "markdown",
   "id": "b25a5515-92fb-4f00-85f7-aa15565fc710",
   "metadata": {},
   "source": [
    "W tej aplikacji przyjrzymy się zastosowaniu **DataStore** w celu zapisania niewielkich ilości danych w pliku."
   ]
  },
  {
   "cell_type": "markdown",
   "id": "89fc85e5-8fc6-41e4-9d26-efbff6173a61",
   "metadata": {},
   "source": [
    "<img src=\"https://media0.giphy.com/media/v1.Y2lkPTc5MGI3NjExMHZ0Mmt6cjJwYjVrYzE0NWdpbHNqYXM5ZjVvNzc1bmhqZm1zY2F5NSZlcD12MV9pbnRlcm5hbF9naWZfYnlfaWQmY3Q9Zw/kd4nprniMKNt9fBZIv/giphy.gif\" width=\"200\" />"
   ]
  },
  {
   "cell_type": "markdown",
   "id": "db49fa4e-6ac2-4bd9-969a-ee32cef0bc7e",
   "metadata": {},
   "source": [
    "Jest to biblioteka, która pomaga w przechowywaniu i zarządzaniu danymi w sposób bardziej zoptymalizowany i bezpieczny niż starsze rozwiązania, takie jak `SharedPreferences` (zostanie omówiony w kolejnym przykładzie).\n",
    "\n",
    "`DataStore` jest często wykorzystywany do przechowywania niewielkich ilości danych, takich jak preferencje użytkownika, ustawienia aplikacji, stan sesji i tym podobne. Nie jest on jednak odpowiedni do przechowywania dużej ilości danych, jakie można znaleźć w bazach danych.\n",
    "\n",
    "Oferuje dwa główne rodzaje implementacji:\n",
    "- `Preferences DataStore` - Ten rodzaj jest podobny do `SharedPreferences`, ale jest oparty na protokole `Kotlin Coroutines` i zapewnia bezpieczne przechowywanie danych. Można w nim przechowywać dane w postaci *klucz-wartość*, gdzie klucze są ciągami znaków, a wartości mogą być różnymi typami danych, takimi jak liczby, ciągi znaków itp.\n",
    "- `Proto DataStore` - Ten rodzaj pozwala na zapisywanie danych w formacie `protobuf`. Jest to format serializacji danych opracowany przez firmę Google.\n",
    "\n",
    "Główne cehy korzystania z `DataStore` to:\n",
    "- Wsparcie dla asynchronicznych operacji dzięki `Kotlin Coroutines`.\n",
    "- Bezpieczeństwo wątkowe - unika problemów synchronizacyjnych, które mogą występować w przypadku `SharedPreferences`.\n",
    "- Automatyczne obsługiwania zmian wartości, co pozwala na łatwe reagowanie na zmiany danych.\n",
    "- Możliwość zapisywania i odczytywania niestandardowych typów danych dzięki `Protobuf`.\n",
    "\n",
    "W przykładowej aplikacji wykorzystamy `DataStore` do zapisania i odczytania nazwy użytkownika.\n",
    "\n",
    "Dodajmy niezbędne zależności do projektu:\n",
    "\n",
    "do bloku `dependencies`\n",
    "```kotlin\n",
    "    implementation (libs.androidx.lifecycle.viewmodel.ktx)\n",
    "    implementation (libs.androidx.fragment.ktx)\n",
    "    implementation (libs.androidx.datastore.preferences)\n",
    "```\n",
    "\n",
    "do pliku `libs.versions.toml`\n",
    "\n",
    "```kotlin\n",
    "[versions]\n",
    "agp = \"8.5.2\"\n",
    "datastorePreferences = \"1.1.1\"\n",
    "fragmentKtx = \"1.8.2\"\n",
    "kotlin = \"1.9.0\"\n",
    "coreKtx = \"1.13.1\"\n",
    "junit = \"4.13.2\"\n",
    "junitVersion = \"1.2.1\"\n",
    "espressoCore = \"3.6.1\"\n",
    "appcompat = \"1.7.0\"\n",
    "lifecycleViewmodelKtx = \"2.8.4\"\n",
    "material = \"1.12.0\"\n",
    "activity = \"1.9.1\"\n",
    "constraintlayout = \"2.1.4\"\n",
    "\n",
    "[libraries]\n",
    "androidx-core-ktx = { group = \"androidx.core\", name = \"core-ktx\", version.ref = \"coreKtx\" }\n",
    "androidx-datastore-preferences = { module = \"androidx.datastore:datastore-preferences\", version.ref = \"datastorePreferences\" }\n",
    "androidx-fragment-ktx = { module = \"androidx.fragment:fragment-ktx\", version.ref = \"fragmentKtx\" }\n",
    "androidx-lifecycle-viewmodel-ktx = { module = \"androidx.lifecycle:lifecycle-viewmodel-ktx\", version.ref = \"lifecycleViewmodelKtx\" }\n",
    "junit = { group = \"junit\", name = \"junit\", version.ref = \"junit\" }\n",
    "androidx-junit = { group = \"androidx.test.ext\", name = \"junit\", version.ref = \"junitVersion\" }\n",
    "androidx-espresso-core = { group = \"androidx.test.espresso\", name = \"espresso-core\", version.ref = \"espressoCore\" }\n",
    "androidx-appcompat = { group = \"androidx.appcompat\", name = \"appcompat\", version.ref = \"appcompat\" }\n",
    "material = { group = \"com.google.android.material\", name = \"material\", version.ref = \"material\" }\n",
    "androidx-activity = { group = \"androidx.activity\", name = \"activity\", version.ref = \"activity\" }\n",
    "androidx-constraintlayout = { group = \"androidx.constraintlayout\", name = \"constraintlayout\", version.ref = \"constraintlayout\" }\n",
    "\n",
    "[plugins]\n",
    "android-application = { id = \"com.android.application\", version.ref = \"agp\" }\n",
    "jetbrains-kotlin-android = { id = \"org.jetbrains.kotlin.android\", version.ref = \"kotlin\" }\n",
    "\n",
    "\n",
    "```\n",
    "\n",
    "Chcemy dodawać nazwy użytkowników, podobnie jak w poprzednich przykładach dodajmy *dummydata* w celu ułatwienia generacji przykładowych nazw."
   ]
  },
  {
   "cell_type": "code",
   "execution_count": null,
   "id": "3c60ffe3-a95a-4629-a053-5d79906f30fb",
   "metadata": {},
   "outputs": [],
   "source": [
    "object DataProvider {\n",
    "\n",
    "    private val usernames = listOf(\n",
    "        \"CoolDude123\",\n",
    "        \"SuperStar\",\n",
    "        \"GamerGirl99\",\n",
    "        \"TechMaster\",\n",
    "        \"MusicLover\",\n",
    "        \"FitnessFreak\",\n",
    "        \"Traveler_21\",\n",
    "        \"FoodieQueen\",\n",
    "        \"NatureLover\",\n",
    "        \"Fashionista\",\n",
    "        \"Bookworm42\",\n",
    "        \"MovieBuff\",\n",
    "        \"AdventureSeeker\",\n",
    "        \"PetLover_87\",\n",
    "        \"SportsFanatic\",\n",
    "        \"ArtisticSoul\",\n",
    "        \"StarGazer\",\n",
    "        \"YogaEnthusiast\",\n",
    "        \"PhotographyPro\",\n",
    "        \"DreamChaser\",\n",
    "        \"BeachBum123\",\n",
    "        \"CoffeeAddict\",\n",
    "        \"GameChanger\",\n",
    "        \"LaughOutLoud\",\n",
    "        \"MindfulSoul\",\n",
    "        \"HappyGoLucky\",\n",
    "        \"TechGeek1\",\n",
    "        \"FoodExplorer\",\n",
    "        \"FitnessJunkie\"\n",
    "    )\n",
    "\n",
    "    val username: String\n",
    "        get() = usernames.random()\n",
    "}"
   ]
  },
  {
   "cell_type": "markdown",
   "id": "3ce0e8ba-cb94-4f5a-bca4-dae8d80d48fb",
   "metadata": {},
   "source": [
    "Dodajmy klasę pomocniczą `SaveUsernameDataStore`, która służy do przechowywania i pobierania nazwy użytkownika przy użyciu `DataStore`. Wykorzystamy wzorzec Singleton, ponieważ chcemy posiadać tylko jeden obiekt przez który będziemy komunikowac się z `DataStore`."
   ]
  },
  {
   "cell_type": "code",
   "execution_count": null,
   "id": "1cf1557e-bae4-4142-b7e0-692b4c656741",
   "metadata": {},
   "outputs": [],
   "source": [
    "object SaveUsernameDataStore {\n",
    "    private val Context.dataStore: DataStore<Preferences> by preferencesDataStore(\"user_prefs\")\n",
    "    private val USERNAME_KEY = stringPreferencesKey(\"USERNAME\")\n",
    "\n",
    "    suspend fun storeUsername(context: Context, username: String) {\n",
    "        context.dataStore.edit { preferences ->\n",
    "            preferences[USERNAME_KEY] = username\n",
    "        }\n",
    "    }\n",
    "\n",
    "    fun getUsernameFlow(context: Context): Flow<String> {\n",
    "        return context.dataStore.data.map { preferences ->\n",
    "            preferences[USERNAME_KEY] ?: \"\"\n",
    "        }\n",
    "    }\n",
    "}"
   ]
  },
  {
   "cell_type": "markdown",
   "id": "0ff90448-96dc-4610-b806-75c5209914af",
   "metadata": {},
   "source": [
    "- `private val Context.dataStore: DataStore<Preferences> by preferencesDataStore(\"user_prefs\")` - Ta linia definiuje rozszerzenie (extension property) dla klasy `Context`. Tworzy ono obiekt `DataStore` typu `Preferences` o nazwie `user_prefs`. Ten `DataStore` będzie używany do przechowywania i pobierania preferencji użytkownika.\n",
    "- `private val USERNAME_KEY = stringPreferencesKey(\"USERNAME\")` - Ta linia definiuje prywatną stałą, która reprezentuje klucz używany do przechowywania i pobierania nazwy użytkownika w `DataStore`. Jest to obiekt typu `Preferences.Key<String>`.\n",
    "- `suspend fun storeUsername(context: Context, username: String)` Ta funkcja służy do zapisywania nazwy użytkownika w `DataStore`.\n",
    "- `fun getUsernameFlow(context: Context): Flow<String>` - Ta funkcja zwraca strumień asynchroniczny typu `Flow<String>`, który będzie emitować nazwę użytkownika za każdym razem, gdy wartość ulegnie zmianie."
   ]
  },
  {
   "cell_type": "markdown",
   "id": "6ca2c204-9320-4f22-8d91-e40ac97e7aa0",
   "metadata": {},
   "source": [
    "Dodajmy repozytorium"
   ]
  },
  {
   "cell_type": "code",
   "execution_count": null,
   "id": "e486b0ef-099b-4e2c-92a4-8a3402b861a9",
   "metadata": {},
   "outputs": [],
   "source": [
    "class UserRepository(private val application: Application) {\n",
    "    fun getUsername() = SaveUsernameDataStore.getUsernameFlow(application)\n",
    "    suspend fun add(username: String) = SaveUsernameDataStore.storeUsername(application, username)\n",
    "    suspend fun clear() = SaveUsernameDataStore.storeUsername(application, \"\")\n",
    "}"
   ]
  },
  {
   "cell_type": "markdown",
   "id": "4655c6aa-6491-4c92-80f4-e47bb3457489",
   "metadata": {},
   "source": [
    "Podobnie jak przy wykorzystaniu `Room`, musimy przekazać kontekst aplikacji jako parametr konstruktora. Więc musimy przekazać go również przez `AndroidViewModel`."
   ]
  },
  {
   "cell_type": "markdown",
   "id": "6e3de8d7-3b73-43d7-a662-6a0aa90e622b",
   "metadata": {},
   "source": [
    "Dodajmy `Viewmodel` - w kodzie nie ma żadnych nowych elementów."
   ]
  },
  {
   "cell_type": "code",
   "execution_count": null,
   "id": "e23489d8-620d-47cc-a6a1-6e821015d4f8",
   "metadata": {},
   "outputs": [],
   "source": [
    "class UserViewModel(application: Application) : AndroidViewModel(application) {\n",
    "    private val repository: UserRepository = UserRepository(application)\n",
    "    private val _username = MutableStateFlow(\"\")\n",
    "    val username: StateFlow<String>\n",
    "        get() = _username\n",
    "\n",
    "    init {\n",
    "        fetchUser()\n",
    "    }\n",
    "\n",
    "    private fun fetchUser() {\n",
    "        viewModelScope.launch {\n",
    "            repository.getUsername().collect { username ->\n",
    "                _username.value = username\n",
    "            }\n",
    "        }\n",
    "    }\n",
    "\n",
    "    fun addUsername(username: String) {\n",
    "        viewModelScope.launch {\n",
    "            repository.add(username)\n",
    "        }\n",
    "    }\n",
    "\n",
    "    fun clearUsername(){\n",
    "        viewModelScope.launch {\n",
    "            repository.clear()\n",
    "        }\n",
    "    }\n",
    "}"
   ]
  },
  {
   "cell_type": "markdown",
   "id": "6ce134f7-3aea-442a-b157-46c21f7aa2e4",
   "metadata": {},
   "source": [
    "Następnie dodajmy Fragment."
   ]
  },
  {
   "cell_type": "code",
   "execution_count": null,
   "id": "1275bd0b-c00b-45bc-8c02-f9c2a2766d69",
   "metadata": {},
   "outputs": [],
   "source": [
    "class UserFragment : Fragment() {\n",
    "\n",
    "     private lateinit var binding: FragmentUserBinding\n",
    "\n",
    "    private val viewModel: UserViewModel by viewModels()\n",
    "\n",
    "    override fun onCreateView(\n",
    "        inflater: LayoutInflater, container: ViewGroup?,\n",
    "        savedInstanceState: Bundle?\n",
    "    ): View {\n",
    "        binding = FragmentUserBinding.inflate(inflater)\n",
    "\n",
    "        viewLifecycleOwner.lifecycleScope.launch {\n",
    "            viewModel.username.collectLatest { user ->\n",
    "                binding.textView.text = \"Current saved user: $user\"\n",
    "            }\n",
    "        }\n",
    "\n",
    "        binding.addButton.setOnClickListener { viewModel.addUsername(DataProvider.username) }\n",
    "        binding.clearButton.setOnClickListener { viewModel.clearUsername() }\n",
    "\n",
    "        return binding.root\n",
    "    }\n",
    "}"
   ]
  },
  {
   "cell_type": "markdown",
   "id": "91e4219e-7f85-45da-bb67-9b732c99ad6e",
   "metadata": {},
   "source": [
    "Możemy przetestować aplikację."
   ]
  },
  {
   "cell_type": "markdown",
   "id": "9a883209-d0c9-4fbc-aff3-e439b585d5bc",
   "metadata": {},
   "source": [
    "<img src=\"https://media0.giphy.com/media/v1.Y2lkPTc5MGI3NjExMHZ0Mmt6cjJwYjVrYzE0NWdpbHNqYXM5ZjVvNzc1bmhqZm1zY2F5NSZlcD12MV9pbnRlcm5hbF9naWZfYnlfaWQmY3Q9Zw/kd4nprniMKNt9fBZIv/giphy.gif\" width=\"200\" />"
   ]
  }
 ],
 "metadata": {
  "kernelspec": {
   "display_name": "Kotlin",
   "language": "kotlin",
   "name": "kotlin"
  },
  "language_info": {
   "codemirror_mode": "text/x-kotlin",
   "file_extension": ".kt",
   "mimetype": "text/x-kotlin",
   "name": "kotlin",
   "nbconvert_exporter": "",
   "pygments_lexer": "kotlin",
   "version": "1.8.0-RC"
  }
 },
 "nbformat": 4,
 "nbformat_minor": 5
}
