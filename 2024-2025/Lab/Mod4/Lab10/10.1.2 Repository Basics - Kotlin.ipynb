{
 "cells": [
  {
   "cell_type": "markdown",
   "id": "2f6662fb-8c31-4676-8ad4-0a35614dfa2b",
   "metadata": {},
   "source": [
    "# Repozytorium - Podstawy"
   ]
  },
  {
   "cell_type": "markdown",
   "id": "5a1129bc-c93d-44c5-815f-00d896549e39",
   "metadata": {},
   "source": [
    "W tej aplikacji przyjrzymy się zastosowaniu **Repozytorium** w aplikacji."
   ]
  },
  {
   "cell_type": "markdown",
   "id": "1f8c97ee-57a5-4749-910b-f2da8e9708f0",
   "metadata": {},
   "source": [
    "<img src=\"https://media2.giphy.com/media/v1.Y2lkPTc5MGI3NjExeWR3YThvcTgxcDVhbzl2MzFja2hmcG9mMmc0d2s1aXpicDA5eHlsaSZlcD12MV9pbnRlcm5hbF9naWZfYnlfaWQmY3Q9Zw/b2E5YdNOMy3IC3fVU8/giphy.gif\" width=\"200\" />"
   ]
  },
  {
   "cell_type": "markdown",
   "id": "c38f360c-7fb8-475e-86c6-fc6258f41e83",
   "metadata": {},
   "source": [
    "**Repozytorium** jest warstwą pośredniczącą między danymi a resztą aplikacji, zapewniającymi dostęp do źródeł danych (np. bazy danych, zdalne API, odczyt z pliku) oraz operacje na danych. W kontekście wzorca `MVVM`, repozytorium pomaga w oddzieleniu logiki biznesowej od interakcji z danymi, co ułatwia testowanie, utrzymanie i rozszerzanie aplikacji. \n",
    "- Separacja odpowiedzialności - Izoluje logikę dostępu do danych od logiki biznesowej i ui. To pozwala na łatwiejsze zarządzanie i utrzymanie kodu, a także ułatwia współpracę między różnymi zespołami programistycznymi.\n",
    "- Testowalność - Zapewnia łatwość testowania, ponieważ zapewnia abstrakcję nad danymi. Dzięki temu możemy tworzyć testy jednostkowe i testy integracyjne, które pozwalają nam weryfikować poprawność funkcjonalności bez konieczności dostępu do rzeczywistych źródeł danych.\n",
    "- Łatwa wymiana źródeł danych - Dzięki repozytorium możemy zmieniać źródło danych bez wprowadzania zmian w innych częściach aplikacji. Na przykład, jeśli nasza aplikacja korzysta z lokalnej bazy danych, ale chcemy w przyszłości przejść na zdalne API, możemy to zrobić bez konieczności modyfikowania `ViewModel`'ów i warstwy ui.\n",
    "- Obsługa błędów i odzyskiwanie - Repozytoria mogą obsługiwać błędy związane z danymi, takie jak problemy z siecią czy błędy związane z bazą danych.\n",
    "- Optymalizacja dostępu do danych - Repozytoria mogą wprowadzać mechanizmy optymalizacji dostępu do danych, np. *cache'owanie* wyników zapytań czy ograniczenie ilości komunikacji sieciowej. To może przyspieszyć działanie aplikacji i zmniejszyć zużycie zasobów urządzenia. (*cachowanie* pojawi się w ostatnim module zajęć)\n",
    "- Logika dostępu do danych - jeżeli mamy kilka źródeł danych, logikę dostępu (dostęp do API co określony czas, na żądanie użytkownika, w przeciwnym wypadku wczytanie danych z lokalnej bazy) możemy umieścić w repozytorium, pozostawiając `ViewModel` z jednym źródłem danych\n",
    "\n",
    "Stosowanie repozytorium nie jest obowiązkowe we wzorcu MVVM (nie jest jego częścią), ale jest jednym z wielu sposobów na zorganizowanie kodu w bardziej czytelny sposób, co ułatwia pracę nad większymi i bardziej skomplikowanymi projektami. "
   ]
  },
  {
   "cell_type": "markdown",
   "id": "778f607c-0790-41c8-9218-28316a5b441c",
   "metadata": {},
   "source": [
    "Do wykorzystania repozytorium nie są wymagane żadne dodatkowe zależności w projekcie, dodajmy viewmodel\n",
    "\n",
    "do bloku `dependencies`\n",
    "```kotlin\n",
    "dependencies {\n",
    "    implementation (libs.androidx.fragment.ktx)\n",
    "    implementation (libs.androidx.lifecycle.viewmodel.ktx)\n",
    "    ...\n",
    "}\n",
    "```\n",
    "\n",
    "do pliku `libs.versions.toml`\n",
    "\n",
    "```kotlin\n",
    "[versions]\n",
    "fragmentKtx = \"1.8.2\"\n",
    "lifecycleViewmodelKtx = \"2.8.4\"\n",
    "...\n",
    "\n",
    "[libraries]\n",
    "androidx-fragment-ktx = { module = \"androidx.fragment:fragment-ktx\", version.ref = \"fragmentKtx\" }\n",
    "androidx-lifecycle-viewmodel-ktx = { module = \"androidx.lifecycle:lifecycle-viewmodel-ktx\", version.ref = \"lifecycleViewmodelKtx\" }\n",
    "...\n",
    "```"
   ]
  },
  {
   "cell_type": "markdown",
   "id": "c53810ca-340f-4a50-aaa1-e89c7727ee53",
   "metadata": {},
   "source": [
    "Nasza aplikacja będzie wyświetlała listę użytkowników, którą wygenerujemy (*dummy data*). Dodajmy model, oraz dane."
   ]
  },
  {
   "cell_type": "code",
   "execution_count": null,
   "id": "6e036e95-d1a7-41b0-8b4a-735ffb63dac6",
   "metadata": {},
   "outputs": [],
   "source": [
    "data class User(val firstName: String, val lastName: String)"
   ]
  },
  {
   "cell_type": "code",
   "execution_count": null,
   "id": "641e3c9c-5cb4-42a3-8397-1baca3bc462d",
   "metadata": {},
   "outputs": [],
   "source": [
    "object DataProvider {\n",
    "\n",
    "    private val firstNames = listOf(\n",
    "        \"Adam\", \"Ewa\", \"Jan\", \"Anna\", \"Piotr\", \"Maria\", \"Tomasz\", \"Małgorzata\", \"Krzysztof\", \"Alicja\",\n",
    "        \"Andrzej\", \"Joanna\", \"Michał\", \"Barbara\", \"Kamil\", \"Magdalena\", \"Robert\", \"Monika\", \"Mateusz\", \"Natalia\"\n",
    "    )\n",
    "\n",
    "    private val lastNames = listOf(\n",
    "        \"Nowak\", \"Kowalski\", \"Wiśniewski\", \"Wójcik\", \"Kowalczyk\", \"Kamiński\", \"Lewandowski\", \"Zieliński\", \"Szymański\",\n",
    "        \"Woźniak\", \"Dąbrowski\", \"Kozłowski\", \"Jankowski\", \"Mazur\", \"Kwiatkowski\", \"Krawczyk\", \"Piotrowski\", \"Grabowski\",\n",
    "        \"Nowakowski\", \"Pawłowski\"\n",
    "    )\n",
    "\n",
    "    val users = (0..40).map { User(firstNames.random(), lastNames.random()) }\n",
    "}"
   ]
  },
  {
   "cell_type": "markdown",
   "id": "a4ce7a71-e49d-4968-a8ef-9c6032e6e264",
   "metadata": {},
   "source": [
    "Dodajmy repozytorium, jest to zwykła klasa."
   ]
  },
  {
   "cell_type": "code",
   "execution_count": null,
   "id": "26608f22-d597-42ae-a2d7-48129fb1f659",
   "metadata": {},
   "outputs": [],
   "source": [
    "class UserRepository {\n",
    "    suspend fun getUsers(): List<User> {\n",
    "        delay(700L)\n",
    "        return DataProvider.users\n",
    "    }\n",
    "}"
   ]
  },
  {
   "cell_type": "markdown",
   "id": "0e2c1638-d6b4-42f8-a590-741a41ad1b53",
   "metadata": {},
   "source": [
    "Ten kod reprezentuje klasę o nazwie `UserRepository`, która jest odpowiedzialna za dostarczanie listy użytkowników (`User`) z źródła danych.\n",
    "\n",
    "- `suspend fun getUsers(): List<User> { ... }` - Funkcja zwracająca listę użytkowników. Powodem oznaczenia tej funkcji jako `suspend` jest wykorzystanie funkcji `delay()` w celu symulacji opóźnienia.\n",
    "- `delay(700L)` Powoduje wstrzymanie wykonywania kodu przez określony czas (700 milisekund)."
   ]
  },
  {
   "cell_type": "markdown",
   "id": "28405901-be4d-4e50-b2b7-0575e324bdad",
   "metadata": {},
   "source": [
    "W następnym kroku dodajmy `ViewModel`"
   ]
  },
  {
   "cell_type": "code",
   "execution_count": null,
   "id": "3818f861-47ef-4a51-967e-17d0d55452f7",
   "metadata": {},
   "outputs": [],
   "source": [
    "class UserViewModel : ViewModel() {\n",
    "\n",
    "    private val userRepository = UserRepository()\n",
    "\n",
    "    private val _usersList = MutableStateFlow<List<User>>(emptyList())\n",
    "    val usersList: StateFlow<List<User>> get() = _usersList\n",
    "\n",
    "    init {\n",
    "        loadUsers()\n",
    "    }\n",
    "\n",
    "    private fun loadUsers() {\n",
    "        viewModelScope.launch {\n",
    "            _usersList.value = userRepository.getUsers()\n",
    "        }\n",
    "    }\n",
    "}"
   ]
  },
  {
   "cell_type": "markdown",
   "id": "f2225b76-3d25-4a98-9441-c363f5277eea",
   "metadata": {},
   "source": [
    "`UserViewModel` służy jako warstwa pośrednicząca między ui a repozytorium. Po utworzeniu obiektu, inicjalizuje się funkcję `loadUsers()`, która asynchronicznie pobiera listę użytkowników z repozytorium i przechowuje je w `_usersList`."
   ]
  },
  {
   "cell_type": "markdown",
   "id": "fe061e92-685a-4e64-96f9-489887fa6afc",
   "metadata": {},
   "source": [
    "- `init { ... }` - Blok inicjalizacyjny, który zostanie wywołany podczas tworzenia obiektu `UserViewModel`. W bloku inicjalizacyjnym wywoływana jest funkcja `loadUsers()`, która ma za zadanie załadować listę użytkowników z repozytorium i umieścić je w `_usersList`.\n",
    "- `viewModelScope.launch { ... }` - `viewModelScope` jest dostarczany przez `ViewModel` i automatycznie zarządza cyklem życia Coroutine w zależności od cyklu życia `ViewModel`. `userRepository.getUsers()` wewnątrz bloku `launch` asynchronicznie pobiera listę użytkowników."
   ]
  },
  {
   "cell_type": "markdown",
   "id": "b1426690-9322-4081-9a64-2618524b8003",
   "metadata": {},
   "source": [
    "Utwórzmy Fragment z `RecyclerView` w celu wyświetlenia listy."
   ]
  },
  {
   "cell_type": "code",
   "execution_count": null,
   "id": "32950fce-33d0-4695-b57c-e75543a0d991",
   "metadata": {},
   "outputs": [],
   "source": [
    "class UserViewHolder(private val binding: RvItemBinding) : RecyclerView.ViewHolder(binding.root) {\n",
    "    fun bind(item: User) {\n",
    "        val fullName = \"${item.firstName} ${item.lastName}\"\n",
    "        binding.userTextView.text = fullName\n",
    "    }\n",
    "}"
   ]
  },
  {
   "cell_type": "code",
   "execution_count": null,
   "id": "985a9e8c-5279-4ad2-b04d-4d87ccc0e8f0",
   "metadata": {},
   "outputs": [],
   "source": [
    "class UserComparator : DiffUtil.ItemCallback<User>() {\n",
    "    override fun areItemsTheSame(oldItem: User, newItem: User): Boolean {\n",
    "        return oldItem === newItem\n",
    "    }\n",
    "\n",
    "    override fun areContentsTheSame(oldItem: User, newItem: User): Boolean {\n",
    "        return oldItem == newItem\n",
    "    }\n",
    "}"
   ]
  },
  {
   "cell_type": "code",
   "execution_count": null,
   "id": "34fa735f-5182-44d1-99e9-62cee555c74e",
   "metadata": {},
   "outputs": [],
   "source": [
    "class UserAdapter(userComparator: UserComparator) : ListAdapter<User, UserViewHolder>(userComparator) {\n",
    "    override fun onCreateViewHolder(parent: ViewGroup, viewType: Int): UserViewHolder {\n",
    "        return UserViewHolder(\n",
    "            RvItemBinding.inflate(\n",
    "                LayoutInflater.from(parent.context), parent, false\n",
    "            )\n",
    "        )\n",
    "    }\n",
    "\n",
    "    override fun onBindViewHolder(holder: UserViewHolder, position: Int) {\n",
    "        val item = getItem(position)\n",
    "        holder.bind(item)\n",
    "    }\n",
    "}"
   ]
  },
  {
   "cell_type": "code",
   "execution_count": null,
   "id": "572597fc-21ba-4c4c-873d-3d81f32e6ce6",
   "metadata": {},
   "outputs": [],
   "source": [
    "class UserFragment : Fragment() {\n",
    "\n",
    "    private lateinit var binding: FragmentUserBinding\n",
    "\n",
    "    private val viewModel: UserViewModel by viewModels()\n",
    "    private val userAdapter by lazy { UserAdapter(UserComparator())}\n",
    "\n",
    "    override fun onCreateView(\n",
    "        inflater: LayoutInflater, container: ViewGroup?,\n",
    "        savedInstanceState: Bundle?\n",
    "    ): View {\n",
    "        binding = FragmentUserBinding.inflate(inflater)\n",
    "\n",
    "        viewLifecycleOwner.lifecycleScope.launch {\n",
    "            viewLifecycleOwner.repeatOnLifecycle(Lifecycle.State.STARTED){\n",
    "                viewModel.usersList.collectLatest{ users ->\n",
    "                    userAdapter.submitList(users)\n",
    "                }\n",
    "            }\n",
    "        }\n",
    "\n",
    "        binding.rvList.apply{\n",
    "            adapter = userAdapter\n",
    "            layoutManager = LinearLayoutManager(requireContext())\n",
    "        }\n",
    "\n",
    "        return binding.root\n",
    "    }\n",
    "}"
   ]
  },
  {
   "cell_type": "markdown",
   "id": "bbf2cb64-5416-44bc-abc3-4b81815869a6",
   "metadata": {},
   "source": [
    "Możemy przetestować aplikację"
   ]
  },
  {
   "cell_type": "markdown",
   "id": "1fe5047a-6c27-4d50-8f60-1b6680d89ba9",
   "metadata": {},
   "source": [
    "<img src=\"https://media2.giphy.com/media/v1.Y2lkPTc5MGI3NjExeWR3YThvcTgxcDVhbzl2MzFja2hmcG9mMmc0d2s1aXpicDA5eHlsaSZlcD12MV9pbnRlcm5hbF9naWZfYnlfaWQmY3Q9Zw/b2E5YdNOMy3IC3fVU8/giphy.gif\" width=\"200\" />"
   ]
  }
 ],
 "metadata": {
  "kernelspec": {
   "display_name": "Kotlin",
   "language": "kotlin",
   "name": "kotlin"
  },
  "language_info": {
   "codemirror_mode": "text/x-kotlin",
   "file_extension": ".kt",
   "mimetype": "text/x-kotlin",
   "name": "kotlin",
   "nbconvert_exporter": "",
   "pygments_lexer": "kotlin",
   "version": "1.8.0-RC"
  }
 },
 "nbformat": 4,
 "nbformat_minor": 5
}
