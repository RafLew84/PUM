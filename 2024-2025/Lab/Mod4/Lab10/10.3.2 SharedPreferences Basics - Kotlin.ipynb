{
 "cells": [
  {
   "cell_type": "markdown",
   "id": "0a89d2b8-fd39-426c-88c4-8235a45134bf",
   "metadata": {},
   "source": [
    "# SharedPreferences - Podstawy"
   ]
  },
  {
   "cell_type": "markdown",
   "id": "78ad1f4f-7776-4948-89ce-ca87ddb4cf67",
   "metadata": {},
   "source": [
    "W tej aplikacji przyjrzymy się zastosowaniu **SharedPreferences** w celu zapisania niewielkich ilości danych w pliku."
   ]
  },
  {
   "cell_type": "markdown",
   "id": "b82948e8-09f2-48c3-83ce-18e34d919ff8",
   "metadata": {},
   "source": [
    "<img src=\"https://media0.giphy.com/media/v1.Y2lkPTc5MGI3NjExMHZ0Mmt6cjJwYjVrYzE0NWdpbHNqYXM5ZjVvNzc1bmhqZm1zY2F5NSZlcD12MV9pbnRlcm5hbF9naWZfYnlfaWQmY3Q9Zw/kd4nprniMKNt9fBZIv/giphy.gif\" width=\"200\" />"
   ]
  },
  {
   "cell_type": "markdown",
   "id": "b24a3553-6296-47a7-a5c2-e62c2947c1cb",
   "metadata": {},
   "source": [
    "`SharedPreferences` to mechanizm używany do przechowywania danych w postaci *klucz-wartość*. Służy do zachowywania małych ilości danych, takich jak ustawienia aplikacji, preferencje użytkownika czy stan sesji. Jest często używany do przechowywania informacji, które nie wymagają zbyt skomplikowanego modelu danych ani relacyjnej bazy danych. Przechowuje dane w plikach `XML`, które są przechowywane wewnątrz katalogu aplikacji.\n",
    "`SharedPreferences` a `DataStore`:\n",
    "- Typ danych i bezpieczeństwo:\n",
    "    - `SharedPreferences` przechowuje dane w plikach `XML` i obsługuje tylko typy prostych danych, takie jak liczby całkowite, ciągi znaków, wartości boolean itp. Jednak nie oferuje wbudowanej obsługi bardziej złożonych struktur danych.\n",
    "    - `DataStore` obsługuje niestandardowe typy danych i zapewnia automatyczną obsługę konwersji do i z formatu `protobuf`.\n",
    "- Wsparcie dla asynchroniczności:\n",
    "    - `SharedPreferences` oferuje operacje synchroniczne, co może wpływać na wydajność aplikacji, szczególnie gdy operacje odczytu/zapisu danych są wykonywane w wątku głównym.\n",
    "    - `DataStore` został zaprojektowany z myślą o asynchroniczności i wspiera Coroutines, dzięki czemu operacje odczytu/zapisu danych mogą być wykonywane asynchronicznie, co poprawia wydajność i responsywność aplikacji.\n",
    "- Bezpieczeństwo wątkowe:\n",
    "    - `SharedPreferences` nie jest wątkowo bezpieczne, co oznacza, że operacje odczytu/zapisu mogą powodować błędy synchronizacji, jeśli są wykonywane równocześnie przez wiele wątków.\n",
    "    - `DataStore` posiada wbudowane mechanizmy bezpieczeństwa ze względu na wielowątkowość. Można go bezpiecznie używać w aplikacjach wielowątkowych bez konieczności dodatkowej synchronizacji.\n",
    "- Obsługa zmian danych:\n",
    "    - `SharedPreferences` nie oferuje wbudowanej obsługi reagowania na zmiany danych. Możemy jedynie odczytać aktualny stan.\n",
    "    - `DataStore` umożliwia korzystanie z obiektu `Flow` lub `LiveData`, co pozwala na automatyczną obsługę zmian danych. Możemy zarejestrować obserwatora, który będzie otrzymywał powiadomienia o zmianach danych, co ułatwia reagowanie na aktualizacje danych w czasie rzeczywistym.\n",
    "    \n",
    "Aplikacja będzie kopią aplikacji z poprzedniego przykładu, dodajmy odpowiednie zależności\n",
    "do bloku `dependencies`\n",
    "```kotlin\n",
    "dependencies {\n",
    "    implementation (libs.androidx.fragment.ktx)\n",
    "    implementation (libs.androidx.lifecycle.viewmodel.ktx)\n",
    "    ...\n",
    "}\n",
    "```\n",
    "\n",
    "do pliku `libs.versions.toml`\n",
    "\n",
    "```kotlin\n",
    "[versions]\n",
    "fragmentKtx = \"1.8.2\"\n",
    "lifecycleViewmodelKtx = \"2.8.4\"\n",
    "...\n",
    "\n",
    "[libraries]\n",
    "androidx-fragment-ktx = { module = \"androidx.fragment:fragment-ktx\", version.ref = \"fragmentKtx\" }\n",
    "androidx-lifecycle-viewmodel-ktx = { module = \"androidx.lifecycle:lifecycle-viewmodel-ktx\", version.ref = \"lifecycleViewmodelKtx\" }\n",
    "...\n",
    "```\n",
    "\n",
    "Ponownie wykorzystamy *dummydata* do wygenerowania nazw użytkowników."
   ]
  },
  {
   "cell_type": "code",
   "execution_count": null,
   "id": "21d9bda3-1817-4e99-a8f4-5466fddd1ab8",
   "metadata": {},
   "outputs": [],
   "source": [
    "object DataProvider {\n",
    "\n",
    "    private val usernames = listOf(\n",
    "        \"CoolDude123\",\n",
    "        \"SuperStar\",\n",
    "        \"GamerGirl99\",\n",
    "        \"TechMaster\",\n",
    "        \"MusicLover\",\n",
    "        \"FitnessFreak\",\n",
    "        \"Traveler_21\",\n",
    "        \"FoodieQueen\",\n",
    "        \"NatureLover\",\n",
    "        \"Fashionista\",\n",
    "        \"Bookworm42\",\n",
    "        \"MovieBuff\",\n",
    "        \"AdventureSeeker\",\n",
    "        \"PetLover_87\",\n",
    "        \"SportsFanatic\",\n",
    "        \"ArtisticSoul\",\n",
    "        \"StarGazer\",\n",
    "        \"YogaEnthusiast\",\n",
    "        \"PhotographyPro\",\n",
    "        \"DreamChaser\",\n",
    "        \"BeachBum123\",\n",
    "        \"CoffeeAddict\",\n",
    "        \"GameChanger\",\n",
    "        \"LaughOutLoud\",\n",
    "        \"MindfulSoul\",\n",
    "        \"HappyGoLucky\",\n",
    "        \"TechGeek1\",\n",
    "        \"FoodExplorer\",\n",
    "        \"FitnessJunkie\"\n",
    "    )\n",
    "\n",
    "    val username: String\n",
    "        get() = usernames.random()\n",
    "}"
   ]
  },
  {
   "cell_type": "markdown",
   "id": "9d940c28-c109-4285-a8ff-bb1cc711b85e",
   "metadata": {},
   "source": [
    "Następnie dodajmy repozytorium, podobnie jak w poprzednich przypadkach, konieczne jest wykorzystanie kontekstu."
   ]
  },
  {
   "cell_type": "code",
   "execution_count": null,
   "id": "0f762f3b-742e-4e2d-aa10-af46cf74f4f4",
   "metadata": {},
   "outputs": [],
   "source": [
    "class UserRepository(application: Application) {\n",
    "\n",
    "    private val sharedPref = application.getSharedPreferences(\"fileName\", MODE_PRIVATE)\n",
    "\n",
    "    private var _username: String = sharedPref.getString(\"username\", \"\") ?: \"\"\n",
    "    val username: String\n",
    "        get() = _username\n",
    "\n",
    "    fun add(newUsername: String) {\n",
    "        val edit = sharedPref.edit()\n",
    "        edit.putString(\"username\", newUsername).apply()\n",
    "        _username = newUsername\n",
    "    }\n",
    "\n",
    "    fun clear() {\n",
    "        val edit = sharedPref.edit()\n",
    "        edit.putString(\"username\", \"\").apply()\n",
    "        _username = \"\"\n",
    "    }\n",
    "}"
   ]
  },
  {
   "cell_type": "markdown",
   "id": "9207a501-9721-4b8b-b343-1a73f706cde0",
   "metadata": {},
   "source": [
    "- `private val sharedPref = application.getSharedPreferences(\"fileName\", MODE_PRIVATE)` - Wykorzystuje `getSharedPreferences` na obiekcie `Application`, aby uzyskać dostęp do `SharedPreferences` o nazwie `fileName`. Argument `MODE_PRIVATE` wskazuje, że `SharedPreferences` są prywatne dla tej aplikacji i nie są dostępne dla innych aplikacji. Inne tryby:\n",
    "    - `MODE_APPEND` - pozwala dopisywać kolejne elementy bez nadpisywania\n",
    "    - `MODE_PRIVATE` - najczęściej wykorzystywany, dostęp do pliku tylko z poziomu aplikacji\n",
    "    - `MODE_WORLD_READABLE` - zezwala innym aplikacjom na odczyt\n",
    "    - `MODE_WORLD_WRITABVLE` - zezwala innym aplikacjom na zapis\n",
    "- `private var _username: String = sharedPref.getString(\"username\", \"\") ?: \"\"` - Jeśli wartość `username` odczytana jest jako `null`, używamy operatora elvis `?: \"\"`, aby ustawić domyślną wartość na pusty ciąg znaków.\n",
    "- `val edit = sharedPref.edit()` - Tworzy nowy obiekt `SharedPreferences.Editor`, który jest używany do edycji `SharedPreferences`. Dzięki temu edytorowi możemy dokonać zmian, takich jak dodawanie, usuwanie lub aktualizowanie danych.\n",
    "- `edit.putString(\"username\", newUsername).apply()` 0 W tej linii używamy metody `putString()` na obiekcie edytora, aby dodać nową wartość do `SharedPreferences`. Metoda `putString()` przyjmuje dwa argumenty: klucz (w tym przypadku \"username\") i wartość (nowa nazwa użytkownika). Wartość zostaje zapisana pod podanym kluczem. Następnie wywołujemy `apply()`, aby zatwierdzić te zmiany."
   ]
  },
  {
   "cell_type": "markdown",
   "id": "f1322c4b-99d1-4891-a392-4a2c42bfa0d9",
   "metadata": {},
   "source": [
    "Pozostałe części aplikacji nie różnią się od poprzedniego przykładu"
   ]
  },
  {
   "cell_type": "code",
   "execution_count": null,
   "id": "52aba87b-6d51-4037-8941-01e2e3d1decb",
   "metadata": {},
   "outputs": [],
   "source": [
    "class UserViewModel(application: Application) : AndroidViewModel(application) {\n",
    "    private val repository: UserRepository = UserRepository(application)\n",
    "    private val _username: MutableStateFlow<String> = MutableStateFlow(repository.username)\n",
    "\n",
    "    val username: StateFlow<String>\n",
    "        get() = _username\n",
    "\n",
    "    fun addUsername(username: String) {\n",
    "        repository.add(username)\n",
    "        _username.value = username\n",
    "    }\n",
    "\n",
    "    fun clearUsername() {\n",
    "        repository.clear()\n",
    "        _username.value = \"\"\n",
    "    }\n",
    "}"
   ]
  },
  {
   "cell_type": "code",
   "execution_count": null,
   "id": "9ffe113c-f80b-4003-84b6-b5f4a4f2117a",
   "metadata": {},
   "outputs": [],
   "source": [
    "class UserFragment : Fragment() {\n",
    "\n",
    "     private lateinit var binding: FragmentUserBinding\n",
    "\n",
    "    private val viewModel: UserViewModel by viewModels()\n",
    "\n",
    "    override fun onCreateView(\n",
    "        inflater: LayoutInflater, container: ViewGroup?,\n",
    "        savedInstanceState: Bundle?\n",
    "    ): View {\n",
    "        binding = FragmentUserBinding.inflate(inflater)\n",
    "\n",
    "        viewLifecycleOwner.lifecycleScope.launch {\n",
    "            viewModel.username.collectLatest { user ->\n",
    "                binding.textView.text = \"Current saved user: $user\"\n",
    "            }\n",
    "        }\n",
    "\n",
    "        binding.addButton.setOnClickListener { viewModel.addUsername(DataProvider.username) }\n",
    "        binding.clearButton.setOnClickListener { viewModel.clearUsername() }\n",
    "\n",
    "        return binding.root\n",
    "    }\n",
    "}"
   ]
  },
  {
   "cell_type": "markdown",
   "id": "831631cb-0955-4ad8-ad37-a9cd0a20b0dd",
   "metadata": {},
   "source": [
    "Możemy przetestować aplikację."
   ]
  },
  {
   "cell_type": "markdown",
   "id": "3e88d619-301e-4c7d-ba2f-3b6ba26b0907",
   "metadata": {},
   "source": [
    "<img src=\"https://media0.giphy.com/media/v1.Y2lkPTc5MGI3NjExMHZ0Mmt6cjJwYjVrYzE0NWdpbHNqYXM5ZjVvNzc1bmhqZm1zY2F5NSZlcD12MV9pbnRlcm5hbF9naWZfYnlfaWQmY3Q9Zw/kd4nprniMKNt9fBZIv/giphy.gif\" width=\"200\" />"
   ]
  }
 ],
 "metadata": {
  "kernelspec": {
   "display_name": "Kotlin",
   "language": "kotlin",
   "name": "kotlin"
  },
  "language_info": {
   "codemirror_mode": "text/x-kotlin",
   "file_extension": ".kt",
   "mimetype": "text/x-kotlin",
   "name": "kotlin",
   "nbconvert_exporter": "",
   "pygments_lexer": "kotlin",
   "version": "1.8.0-RC"
  }
 },
 "nbformat": 4,
 "nbformat_minor": 5
}
