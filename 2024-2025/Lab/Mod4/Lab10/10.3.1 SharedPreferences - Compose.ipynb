{
 "cells": [
  {
   "cell_type": "markdown",
   "id": "bc1d2d01-1be8-4b3b-bf98-7217a07a24ef",
   "metadata": {},
   "source": [
    "# Jetpack Compose - SharedPreferences - Podstawy"
   ]
  },
  {
   "cell_type": "markdown",
   "id": "203ea4a1-28f7-4308-8154-15af014d84cd",
   "metadata": {},
   "source": [
    "W tej aplikacji przyjrzymy się zastosowaniu **SharedPreferences** w celu zapisania niewielkich ilości danych w pliku."
   ]
  },
  {
   "cell_type": "markdown",
   "id": "0abce9bd-c913-4e18-9bab-73dc284eeea6",
   "metadata": {},
   "source": [
    "<img src=\"https://media0.giphy.com/media/v1.Y2lkPTc5MGI3NjExMHZ0Mmt6cjJwYjVrYzE0NWdpbHNqYXM5ZjVvNzc1bmhqZm1zY2F5NSZlcD12MV9pbnRlcm5hbF9naWZfYnlfaWQmY3Q9Zw/kd4nprniMKNt9fBZIv/giphy.gif\" width=\"200\" />"
   ]
  },
  {
   "cell_type": "markdown",
   "id": "b05447bc-212f-4154-99cf-8a2a78c90d98",
   "metadata": {},
   "source": [
    "`SharedPreferences` to mechanizm używany do przechowywania danych w postaci *klucz-wartość*. Służy do zachowywania małych ilości danych, takich jak ustawienia aplikacji, preferencje użytkownika czy stan sesji. Jest często używany do przechowywania informacji, które nie wymagają zbyt skomplikowanego modelu danych ani relacyjnej bazy danych. Przechowuje dane w plikach `XML`, które są przechowywane wewnątrz katalogu aplikacji.\n",
    "`SharedPreferences` a `DataStore`:\n",
    "- Typ danych i bezpieczeństwo:\n",
    "    - `SharedPreferences` przechowuje dane w plikach `XML` i obsługuje tylko typy prostych danych, takie jak liczby całkowite, ciągi znaków, wartości boolean itp. Jednak nie oferuje wbudowanej obsługi bardziej złożonych struktur danych.\n",
    "    - `DataStore` obsługuje niestandardowe typy danych i zapewnia automatyczną obsługę konwersji do i z formatu `protobuf`.\n",
    "- Wsparcie dla asynchroniczności:\n",
    "    - `SharedPreferences` oferuje operacje synchroniczne, co może wpływać na wydajność aplikacji, szczególnie gdy operacje odczytu/zapisu danych są wykonywane w wątku głównym.\n",
    "    - `DataStore` został zaprojektowany z myślą o asynchroniczności i wspiera Coroutines, dzięki czemu operacje odczytu/zapisu danych mogą być wykonywane asynchronicznie, co poprawia wydajność i responsywność aplikacji.\n",
    "- Bezpieczeństwo wątkowe:\n",
    "    - `SharedPreferences` nie jest wątkowo bezpieczne, co oznacza, że operacje odczytu/zapisu mogą powodować błędy synchronizacji, jeśli są wykonywane równocześnie przez wiele wątków.\n",
    "    - `DataStore` posiada wbudowane mechanizmy bezpieczeństwa ze względu na wielowątkowość. Można go bezpiecznie używać w aplikacjach wielowątkowych bez konieczności dodatkowej synchronizacji.\n",
    "- Obsługa zmian danych:\n",
    "    - `SharedPreferences` nie oferuje wbudowanej obsługi reagowania na zmiany danych. Możemy jedynie odczytać aktualny stan.\n",
    "    - `DataStore` umożliwia korzystanie z obiektu `Flow` lub `LiveData`, co pozwala na automatyczną obsługę zmian danych. Możemy zarejestrować obserwatora, który będzie otrzymywał powiadomienia o zmianach danych, co ułatwia reagowanie na aktualizacje danych w czasie rzeczywistym.\n",
    "    \n",
    "Aplikacja będzie kopią aplikacji z poprzedniego przykładu, dodajmy odpowiednie zależności\n",
    "```kotlin\n",
    "    implementation (libs.androidx.lifecycle.viewmodel.compose)\n",
    "    implementation (libs.androidx.lifecycle.viewmodel.ktx)\n",
    "    implementation (libs.androidx.lifecycle.runtime.compose)\n",
    "```\n",
    "\n",
    "```kotlin\n",
    "[versions]\n",
    "agp = \"8.5.2\"\n",
    "kotlin = \"1.9.0\"\n",
    "coreKtx = \"1.13.1\"\n",
    "junit = \"4.13.2\"\n",
    "junitVersion = \"1.2.1\"\n",
    "espressoCore = \"3.6.1\"\n",
    "lifecycleRuntimeKtx = \"2.8.4\"\n",
    "activityCompose = \"1.9.1\"\n",
    "composeBom = \"2024.04.01\"\n",
    "\n",
    "[libraries]\n",
    "androidx-core-ktx = { group = \"androidx.core\", name = \"core-ktx\", version.ref = \"coreKtx\" }\n",
    "androidx-lifecycle-runtime-compose = { module = \"androidx.lifecycle:lifecycle-runtime-compose\", version.ref = \"lifecycleRuntimeKtx\" }\n",
    "androidx-lifecycle-viewmodel-compose = { module = \"androidx.lifecycle:lifecycle-viewmodel-compose\", version.ref = \"lifecycleRuntimeKtx\" }\n",
    "androidx-lifecycle-viewmodel-ktx = { module = \"androidx.lifecycle:lifecycle-viewmodel-ktx\", version.ref = \"lifecycleRuntimeKtx\" }\n",
    "junit = { group = \"junit\", name = \"junit\", version.ref = \"junit\" }\n",
    "androidx-junit = { group = \"androidx.test.ext\", name = \"junit\", version.ref = \"junitVersion\" }\n",
    "androidx-espresso-core = { group = \"androidx.test.espresso\", name = \"espresso-core\", version.ref = \"espressoCore\" }\n",
    "androidx-lifecycle-runtime-ktx = { group = \"androidx.lifecycle\", name = \"lifecycle-runtime-ktx\", version.ref = \"lifecycleRuntimeKtx\" }\n",
    "androidx-activity-compose = { group = \"androidx.activity\", name = \"activity-compose\", version.ref = \"activityCompose\" }\n",
    "androidx-compose-bom = { group = \"androidx.compose\", name = \"compose-bom\", version.ref = \"composeBom\" }\n",
    "androidx-ui = { group = \"androidx.compose.ui\", name = \"ui\" }\n",
    "androidx-ui-graphics = { group = \"androidx.compose.ui\", name = \"ui-graphics\" }\n",
    "androidx-ui-tooling = { group = \"androidx.compose.ui\", name = \"ui-tooling\" }\n",
    "androidx-ui-tooling-preview = { group = \"androidx.compose.ui\", name = \"ui-tooling-preview\" }\n",
    "androidx-ui-test-manifest = { group = \"androidx.compose.ui\", name = \"ui-test-manifest\" }\n",
    "androidx-ui-test-junit4 = { group = \"androidx.compose.ui\", name = \"ui-test-junit4\" }\n",
    "androidx-material3 = { group = \"androidx.compose.material3\", name = \"material3\" }\n",
    "\n",
    "[plugins]\n",
    "android-application = { id = \"com.android.application\", version.ref = \"agp\" }\n",
    "jetbrains-kotlin-android = { id = \"org.jetbrains.kotlin.android\", version.ref = \"kotlin\" }\n",
    "\n",
    "\n",
    "```\n",
    "\n",
    "Ponownie wykorzystamy *dummydata* do wygenerowania nazw użytkowników."
   ]
  },
  {
   "cell_type": "code",
   "execution_count": null,
   "id": "ada2fcd9-3fb6-4dcd-b5f5-a5c2fe2559f5",
   "metadata": {},
   "outputs": [],
   "source": [
    "object DataProvider {\n",
    "\n",
    "    private val usernames = listOf(\n",
    "        \"CoolDude123\",\n",
    "        \"SuperStar\",\n",
    "        \"GamerGirl99\",\n",
    "        \"TechMaster\",\n",
    "        \"MusicLover\",\n",
    "        \"FitnessFreak\",\n",
    "        \"Traveler_21\",\n",
    "        \"FoodieQueen\",\n",
    "        \"NatureLover\",\n",
    "        \"Fashionista\",\n",
    "        \"Bookworm42\",\n",
    "        \"MovieBuff\",\n",
    "        \"AdventureSeeker\",\n",
    "        \"PetLover_87\",\n",
    "        \"SportsFanatic\",\n",
    "        \"ArtisticSoul\",\n",
    "        \"StarGazer\",\n",
    "        \"YogaEnthusiast\",\n",
    "        \"PhotographyPro\",\n",
    "        \"DreamChaser\",\n",
    "        \"BeachBum123\",\n",
    "        \"CoffeeAddict\",\n",
    "        \"GameChanger\",\n",
    "        \"LaughOutLoud\",\n",
    "        \"MindfulSoul\",\n",
    "        \"HappyGoLucky\",\n",
    "        \"TechGeek1\",\n",
    "        \"FoodExplorer\",\n",
    "        \"FitnessJunkie\"\n",
    "    )\n",
    "\n",
    "    val username: String\n",
    "        get() = usernames.random()\n",
    "}"
   ]
  },
  {
   "cell_type": "markdown",
   "id": "484b8aca-3c0c-4d51-a5e6-6323b375d17c",
   "metadata": {},
   "source": [
    "Następnie dodajmy repozytorium, podobnie jak w poprzednich przypadkach, konieczne jest wykorzystanie kontekstu."
   ]
  },
  {
   "cell_type": "code",
   "execution_count": null,
   "id": "627af8c6-53f2-430f-b56b-49ef9d5cede2",
   "metadata": {},
   "outputs": [],
   "source": [
    "class UserRepository(application: Application) {\n",
    "\n",
    "    private val sharedPref = application.getSharedPreferences(\"fileName\", MODE_PRIVATE)\n",
    "\n",
    "    private var _username: String = sharedPref.getString(\"username\", \"\") ?: \"\"\n",
    "    val username: String\n",
    "        get() = _username\n",
    "\n",
    "    fun add(newUsername: String) {\n",
    "        val edit = sharedPref.edit()\n",
    "        edit.putString(\"username\", newUsername).apply()\n",
    "        _username = newUsername\n",
    "    }\n",
    "\n",
    "    fun clear() {\n",
    "        val edit = sharedPref.edit()\n",
    "        edit.putString(\"username\", \"\").apply()\n",
    "        _username = \"\"\n",
    "    }\n",
    "}"
   ]
  },
  {
   "cell_type": "markdown",
   "id": "85dad6e9-d538-4238-b633-ab0bd424c789",
   "metadata": {},
   "source": [
    "- `private val sharedPref = application.getSharedPreferences(\"fileName\", MODE_PRIVATE)` - Wykorzystuje `getSharedPreferences` na obiekcie `Application`, aby uzyskać dostęp do `SharedPreferences` o nazwie `fileName`. Argument `MODE_PRIVATE` wskazuje, że `SharedPreferences` są prywatne dla tej aplikacji i nie są dostępne dla innych aplikacji. Inne tryby:\n",
    "    - `MODE_APPEND` - pozwala dopisywać kolejne elementy bez nadpisywania\n",
    "    - `MODE_PRIVATE` - najczęściej wykorzystywany, dostęp do pliku tylko z poziomu aplikacji\n",
    "    - `MODE_WORLD_READABLE` - zezwala innym aplikacjom na odczyt\n",
    "    - `MODE_WORLD_WRITABVLE` - zezwala innym aplikacjom na zapis\n",
    "- `private var _username: String = sharedPref.getString(\"username\", \"\") ?: \"\"` - Jeśli wartość `username` odczytana jest jako `null`, używamy operatora elvis `?: \"\"`, aby ustawić domyślną wartość na pusty ciąg znaków.\n",
    "- `val edit = sharedPref.edit()` - Tworzy nowy obiekt `SharedPreferences.Editor`, który jest używany do edycji `SharedPreferences`. Dzięki temu edytorowi możemy dokonać zmian, takich jak dodawanie, usuwanie lub aktualizowanie danych.\n",
    "- `edit.putString(\"username\", newUsername).apply()` 0 W tej linii używamy metody `putString()` na obiekcie edytora, aby dodać nową wartość do `SharedPreferences`. Metoda `putString()` przyjmuje dwa argumenty: klucz (w tym przypadku \"username\") i wartość (nowa nazwa użytkownika). Wartość zostaje zapisana pod podanym kluczem. Następnie wywołujemy `apply()`, aby zatwierdzić te zmiany."
   ]
  },
  {
   "cell_type": "markdown",
   "id": "b75817ac-c38f-4971-bfe6-e6ecea9db386",
   "metadata": {},
   "source": [
    "Pozostałe części aplikacji nie różnią się od poprzedniego przykładu"
   ]
  },
  {
   "cell_type": "code",
   "execution_count": null,
   "id": "0dc35143-4e30-457b-b29f-d34fb5d9ef90",
   "metadata": {},
   "outputs": [],
   "source": [
    "class UserViewModelFactory(private val application: Application) :\n",
    "    ViewModelProvider.Factory {\n",
    "    override fun <T : ViewModel> create(modelClass: Class<T>): T {\n",
    "        return UserViewModel(application) as T\n",
    "    }\n",
    "}"
   ]
  },
  {
   "cell_type": "code",
   "execution_count": null,
   "id": "9ef98499-74d3-46fb-b750-004a2af9c504",
   "metadata": {},
   "outputs": [],
   "source": [
    "class UserViewModel(application: Application) : ViewModel() {\n",
    "    private val repository: UserRepository = UserRepository(application)\n",
    "    private val _username: MutableStateFlow<String> = MutableStateFlow(repository.username)\n",
    "\n",
    "    val username: StateFlow<String>\n",
    "        get() = _username\n",
    "\n",
    "    fun addUsername(username: String) {\n",
    "        repository.add(username)\n",
    "        _username.value = username\n",
    "    }\n",
    "\n",
    "    fun clearUsername() {\n",
    "        repository.clear()\n",
    "        _username.value = \"\"\n",
    "    }\n",
    "}"
   ]
  },
  {
   "cell_type": "code",
   "execution_count": null,
   "id": "a1494da5-8d00-4b8f-9525-b7b984f3f028",
   "metadata": {},
   "outputs": [],
   "source": [
    "@Composable\n",
    "fun MainScreen(){\n",
    "\n",
    "    val viewModel: UserViewModel = viewModel(\n",
    "        LocalViewModelStoreOwner.current!!,\n",
    "        \"UserViewModel\",\n",
    "        UserViewModelFactory(LocalContext.current.applicationContext as Application)\n",
    "    )\n",
    "    val currentUsername by viewModel.username.collectAsStateWithLifecycle()\n",
    "\n",
    "    Column(modifier = Modifier.fillMaxSize()) {\n",
    "\n",
    "        Text(\n",
    "            text = \"Current saved username: $currentUsername\",\n",
    "            modifier = Modifier.padding(10.dp),\n",
    "            textAlign = TextAlign.Center,\n",
    "            fontSize = 24.sp\n",
    "        )\n",
    "\n",
    "        Button(\n",
    "            onClick = { viewModel.addUsername(DataProvider.username) },\n",
    "            modifier = Modifier\n",
    "                .fillMaxWidth()\n",
    "                .padding(4.dp)\n",
    "        ) {\n",
    "            Text(text = \"ADD\")\n",
    "        }\n",
    "\n",
    "        Button(\n",
    "            onClick = { viewModel.clearUsername() },\n",
    "            modifier = Modifier\n",
    "                .fillMaxWidth()\n",
    "                .padding(4.dp)\n",
    "        ) {\n",
    "            Text(text = \"CLEAR\")\n",
    "        }\n",
    "    }\n",
    "}"
   ]
  },
  {
   "cell_type": "code",
   "execution_count": null,
   "id": "aa170d73-3263-4696-93b4-34c3d409820c",
   "metadata": {},
   "outputs": [],
   "source": [
    "class MainActivity : ComponentActivity() {\n",
    "    override fun onCreate(savedInstanceState: Bundle?) {\n",
    "        super.onCreate(savedInstanceState)\n",
    "        setContent {\n",
    "            SharedPreferencesBasicsComposeTheme {\n",
    "                // A surface container using the 'background' color from the theme\n",
    "                Surface(\n",
    "                    modifier = Modifier.fillMaxSize(),\n",
    "                    color = MaterialTheme.colorScheme.background\n",
    "                ) {\n",
    "                    MainScreen()\n",
    "                }\n",
    "            }\n",
    "        }\n",
    "    }\n",
    "}"
   ]
  },
  {
   "cell_type": "markdown",
   "id": "a8aaa807-714e-4e9b-95e8-51f2d3dd3cb4",
   "metadata": {},
   "source": [
    "Możemy przetestować aplikację."
   ]
  },
  {
   "cell_type": "markdown",
   "id": "00426c9a-9ad1-4ea3-b158-ee8a47965329",
   "metadata": {},
   "source": [
    "<img src=\"https://media0.giphy.com/media/v1.Y2lkPTc5MGI3NjExMHZ0Mmt6cjJwYjVrYzE0NWdpbHNqYXM5ZjVvNzc1bmhqZm1zY2F5NSZlcD12MV9pbnRlcm5hbF9naWZfYnlfaWQmY3Q9Zw/kd4nprniMKNt9fBZIv/giphy.gif\" width=\"200\" />"
   ]
  }
 ],
 "metadata": {
  "kernelspec": {
   "display_name": "Kotlin",
   "language": "kotlin",
   "name": "kotlin"
  },
  "language_info": {
   "codemirror_mode": "text/x-kotlin",
   "file_extension": ".kt",
   "mimetype": "text/x-kotlin",
   "name": "kotlin",
   "nbconvert_exporter": "",
   "pygments_lexer": "kotlin",
   "version": "1.8.0-RC"
  }
 },
 "nbformat": 4,
 "nbformat_minor": 5
}
