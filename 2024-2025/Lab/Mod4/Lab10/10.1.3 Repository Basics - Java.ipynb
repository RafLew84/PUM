{
 "cells": [
  {
   "cell_type": "markdown",
   "id": "89b2ec9c-447f-4b50-9d34-4a23c3f6a218",
   "metadata": {},
   "source": [
    "# Repozytorium - Podstawy"
   ]
  },
  {
   "cell_type": "markdown",
   "id": "8bb70532-2009-43d7-ad11-407af9d85141",
   "metadata": {},
   "source": [
    "W tej aplikacji przyjrzymy się zastosowaniu **Repozytorium** w aplikacji."
   ]
  },
  {
   "cell_type": "markdown",
   "id": "b17cf1e3-864f-4df8-a65c-3144d487d8b1",
   "metadata": {},
   "source": [
    "<img src=\"https://media2.giphy.com/media/v1.Y2lkPTc5MGI3NjExeWR3YThvcTgxcDVhbzl2MzFja2hmcG9mMmc0d2s1aXpicDA5eHlsaSZlcD12MV9pbnRlcm5hbF9naWZfYnlfaWQmY3Q9Zw/b2E5YdNOMy3IC3fVU8/giphy.gif\" width=\"200\" />"
   ]
  },
  {
   "cell_type": "markdown",
   "id": "2cadc477-a7f4-4b41-8c48-0fa4a7478f06",
   "metadata": {},
   "source": [
    "**Repozytorium** jest warstwą pośredniczącą między danymi a resztą aplikacji, zapewniającymi dostęp do źródeł danych (np. bazy danych, zdalne API, odczyt z pliku) oraz operacje na danych. W kontekście wzorca `MVVM`, repozytorium pomaga w oddzieleniu logiki biznesowej od interakcji z danymi, co ułatwia testowanie, utrzymanie i rozszerzanie aplikacji. \n",
    "- Separacja odpowiedzialności - Izoluje logikę dostępu do danych od logiki biznesowej i ui. To pozwala na łatwiejsze zarządzanie i utrzymanie kodu, a także ułatwia współpracę między różnymi zespołami programistycznymi.\n",
    "- Testowalność - Zapewnia łatwość testowania, ponieważ zapewnia abstrakcję nad danymi. Dzięki temu możemy tworzyć testy jednostkowe i testy integracyjne, które pozwalają nam weryfikować poprawność funkcjonalności bez konieczności dostępu do rzeczywistych źródeł danych.\n",
    "- Łatwa wymiana źródeł danych - Dzięki repozytorium możemy zmieniać źródło danych bez wprowadzania zmian w innych częściach aplikacji. Na przykład, jeśli nasza aplikacja korzysta z lokalnej bazy danych, ale chcemy w przyszłości przejść na zdalne API, możemy to zrobić bez konieczności modyfikowania `ViewModel`'ów i warstwy ui.\n",
    "- Obsługa błędów i odzyskiwanie - Repozytoria mogą obsługiwać błędy związane z danymi, takie jak problemy z siecią czy błędy związane z bazą danych.\n",
    "- Optymalizacja dostępu do danych - Repozytoria mogą wprowadzać mechanizmy optymalizacji dostępu do danych, np. *cache'owanie* wyników zapytań czy ograniczenie ilości komunikacji sieciowej. To może przyspieszyć działanie aplikacji i zmniejszyć zużycie zasobów urządzenia. (*cachowanie* pojawi się w ostatnim module zajęć)\n",
    "- Logika dostępu do danych - jeżeli mamy kilka źródeł danych, logikę dostępu (dostęp do API co określony czas, na żądanie użytkownika, w przeciwnym wypadku wczytanie danych z lokalnej bazy) możemy umieścić w repozytorium, pozostawiając `ViewModel` z jednym źródłem danych\n",
    "\n",
    "Stosowanie repozytorium nie jest obowiązkowe we wzorcu MVVM (nie jest jego częścią), ale jest jednym z wielu sposobów na zorganizowanie kodu w bardziej czytelny sposób, co ułatwia pracę nad większymi i bardziej skomplikowanymi projektami. "
   ]
  },
  {
   "cell_type": "markdown",
   "id": "f2e33a60-3d11-4e4a-9664-2db77166ff19",
   "metadata": {},
   "source": [
    "Do wykorzystania repozytorium nie są wymagane żadne dodatkowe zależności w projekcie, dodajmy viewmodel\n",
    "\n",
    "do bloku `dependencies`\n",
    "```kotlin\n",
    "    ...\n",
    "    implementation (libs.lifecycle.viewmodel)\n",
    "    implementation(libs.lifecycle.viewmodel.android)\n",
    "    ...\n",
    "```\n",
    "\n",
    "do pliku `libs.versions.toml`\n",
    "\n",
    "```kotlin\n",
    "    [versions]\n",
    "    ...\n",
    "    lifecycleViewmodelAndroid = \"2.8.4\"\n",
    "    \n",
    "    [libraries]\n",
    "    ...\n",
    "    lifecycle-viewmodel = { module = \"androidx.lifecycle:lifecycle-viewmodel\", version.ref = \"lifecycleViewmodel\" }\n",
    "    lifecycle-viewmodel-android = { group = \"androidx.lifecycle\", name = \"lifecycle-viewmodel-android\", version.ref = \"lifecycleViewmodelAndroid\" }\n",
    "    ...\n",
    "```"
   ]
  },
  {
   "cell_type": "markdown",
   "id": "4c3aa8a2-32e7-453e-83f4-109b536e014c",
   "metadata": {},
   "source": [
    "Nasza aplikacja będzie wyświetlała listę użytkowników, którą wygenerujemy (*dummy data*). Dodajmy model, oraz dane."
   ]
  },
  {
   "cell_type": "code",
   "execution_count": null,
   "id": "3ce2ed59-7823-4881-8973-bcc9b758b904",
   "metadata": {},
   "outputs": [],
   "source": [
    "public class User {\n",
    "    private String firstName;\n",
    "    private String lastName;\n",
    "\n",
    "    public User(String firstName, String lastName) {\n",
    "        this.firstName = firstName;\n",
    "        this.lastName = lastName;\n",
    "    }\n",
    "\n",
    "    public String getFirstName() {\n",
    "        return firstName;\n",
    "    }\n",
    "\n",
    "    public void setFirstName(String firstName) {\n",
    "        this.firstName = firstName;\n",
    "    }\n",
    "\n",
    "    public String getLastName() {\n",
    "        return lastName;\n",
    "    }\n",
    "\n",
    "    public void setLastName(String lastName) {\n",
    "        this.lastName = lastName;\n",
    "    }\n",
    "\n",
    "    @Override\n",
    "    public boolean equals(Object o) {\n",
    "        if (this == o) return true;\n",
    "        if (o == null || getClass() != o.getClass()) return false;\n",
    "        User user = (User) o;\n",
    "        return Objects.equals(firstName, user.firstName) &&\n",
    "                Objects.equals(lastName, user.lastName);\n",
    "    }\n",
    "\n",
    "    @Override\n",
    "    public int hashCode() {\n",
    "        return Objects.hash(firstName, lastName);\n",
    "    }\n",
    "}\n"
   ]
  },
  {
   "cell_type": "code",
   "execution_count": null,
   "id": "69c8223f-b338-4ef0-9cd3-05c5f344ff3d",
   "metadata": {},
   "outputs": [],
   "source": [
    "public final class DataProvider {\n",
    "\n",
    "    private DataProvider(){}\n",
    "    private static final List<String> firstNames = Arrays.asList(\n",
    "            \"Adam\", \"Ewa\", \"Jan\", \"Anna\", \"Piotr\", \"Maria\", \"Tomasz\", \"Małgorzata\", \"Krzysztof\", \"Alicja\",\n",
    "            \"Andrzej\", \"Joanna\", \"Michał\", \"Barbara\", \"Kamil\", \"Magdalena\", \"Robert\", \"Monika\", \"Mateusz\", \"Natalia\"\n",
    "    );\n",
    "\n",
    "    private static final List<String> lastNames = Arrays.asList(\n",
    "            \"Nowak\", \"Kowalski\", \"Wiśniewski\", \"Wójcik\", \"Kowalczyk\", \"Kamiński\", \"Lewandowski\", \"Zieliński\", \"Szymański\",\n",
    "            \"Woźniak\", \"Dąbrowski\", \"Kozłowski\", \"Jankowski\", \"Mazur\", \"Kwiatkowski\", \"Krawczyk\", \"Piotrowski\", \"Grabowski\",\n",
    "            \"Nowakowski\", \"Pawłowski\"\n",
    "    );\n",
    "\n",
    "    private static final Random random = new Random();\n",
    "\n",
    "    public static List<User> getUsers() {\n",
    "        return generateUsers(41);\n",
    "    }\n",
    "\n",
    "    private static List<User> generateUsers(int count) {\n",
    "        List<User> users = new ArrayList<>();\n",
    "        for (int i = 0; i < count; i++) {\n",
    "            String firstName = getRandomElement(firstNames);\n",
    "            String lastName = getRandomElement(lastNames);\n",
    "            User user = new User(firstName, lastName);\n",
    "            users.add(user);\n",
    "        }\n",
    "        return users;\n",
    "    }\n",
    "\n",
    "    private static String getRandomElement(List<String> list) {\n",
    "        int index = random.nextInt(list.size());\n",
    "        return list.get(index);\n",
    "    }\n",
    "}"
   ]
  },
  {
   "cell_type": "markdown",
   "id": "9dc944ba-9492-4fdf-a249-dfc40084207c",
   "metadata": {},
   "source": [
    "Dodajmy repozytorium, jest to zwykła klasa."
   ]
  },
  {
   "cell_type": "code",
   "execution_count": null,
   "id": "f263dec2-0e70-408e-8998-3d2b5d5e99fd",
   "metadata": {},
   "outputs": [],
   "source": [
    "public class UserRepository {\n",
    "    public List<User> getUsers(){\n",
    "        return DataProvider.getUsers();\n",
    "    }\n",
    "}"
   ]
  },
  {
   "cell_type": "markdown",
   "id": "8835a01a-2183-4255-bb7e-a01fab686d9f",
   "metadata": {},
   "source": [
    "Ten kod reprezentuje klasę o nazwie `UserRepository`, która jest odpowiedzialna za dostarczanie listy użytkowników (`User`) z źródła danych.\n",
    "\n",
    "- `public List<User> getUsers(){ ... }` - Funkcja zwracająca listę użytkowników."
   ]
  },
  {
   "cell_type": "markdown",
   "id": "26296f09-0bd7-4dfe-8f96-c09b1fc164a7",
   "metadata": {},
   "source": [
    "W następnym kroku dodajmy `ViewModel`"
   ]
  },
  {
   "cell_type": "code",
   "execution_count": null,
   "id": "683902a1-ab0e-48a0-a835-aeff73683fa1",
   "metadata": {},
   "outputs": [],
   "source": [
    "public class UserViewModel extends ViewModel {\n",
    "\n",
    "    private final UserRepository userRepository;\n",
    "    private final MutableLiveData<List<User>> usersList = new MutableLiveData<>();\n",
    "    public LiveData<List<User>> getUsersList() {\n",
    "        return usersList;\n",
    "    }\n",
    "\n",
    "    public UserViewModel() {\n",
    "        userRepository = new UserRepository();\n",
    "        loadUsers();\n",
    "    }\n",
    "\n",
    "    private void loadUsers(){\n",
    "        usersList.setValue(userRepository.getUsers());\n",
    "    }\n",
    "\n",
    "}"
   ]
  },
  {
   "cell_type": "markdown",
   "id": "178402ed-d96e-4308-9aae-955dd556716b",
   "metadata": {},
   "source": [
    "`UserViewModel` służy jako warstwa pośrednicząca między ui a repozytorium. Po utworzeniu obiektu, inicjalizuje się funkcję `loadUsers()`, która asynchronicznie pobiera listę użytkowników z repozytorium i przechowuje je w `usersList`."
   ]
  },
  {
   "cell_type": "markdown",
   "id": "2d106b7c-046c-402c-b346-d83a4a7f1c18",
   "metadata": {},
   "source": [
    "- `public UserViewModel() { ... }` - W konstruktorze tworzona jest instancja repozytorium, oraz wywoływana jest funkcja `loadUsers()`, która ma za zadanie załadować listę użytkowników z repozytorium i umieścić je w `usersList`.\n",
    "- `viewModelScope.launch { ... }` - `viewModelScope` jest dostarczany przez `ViewModel` i automatycznie zarządza cyklem życia Coroutine w zależności od cyklu życia `ViewModel`. `userRepository.getUsers()` wewnątrz bloku `launch` asynchronicznie pobiera listę użytkowników."
   ]
  },
  {
   "cell_type": "markdown",
   "id": "75373baf-4a8a-41f8-a503-5ebd5f1b5c9c",
   "metadata": {},
   "source": [
    "Utwórzmy Fragment z `RecyclerView` w celu wyświetlenia listy."
   ]
  },
  {
   "cell_type": "code",
   "execution_count": null,
   "id": "800aac13-efb0-476f-ac76-4049a9d5c165",
   "metadata": {},
   "outputs": [],
   "source": [
    "public class UserViewHolder extends RecyclerView.ViewHolder {\n",
    "    private RvItemBinding binding;\n",
    "\n",
    "    public UserViewHolder(RvItemBinding binding) {\n",
    "        super(binding.getRoot());\n",
    "        this.binding = binding;\n",
    "    }\n",
    "\n",
    "    public void bind(User item) {\n",
    "        String fullName = item.getFirstName() + \" \" + item.getLastName();\n",
    "        binding.userTextView.setText(fullName);\n",
    "    }\n",
    "}"
   ]
  },
  {
   "cell_type": "code",
   "execution_count": null,
   "id": "82b17f2c-f5a0-4fc7-856f-541f7810a5f6",
   "metadata": {},
   "outputs": [],
   "source": [
    "public class UserComparator extends DiffUtil.ItemCallback<User> {\n",
    "    @Override\n",
    "    public boolean areItemsTheSame(@NonNull User oldItem, @NonNull User newItem) {\n",
    "        return oldItem == newItem;\n",
    "    }\n",
    "\n",
    "    @Override\n",
    "    public boolean areContentsTheSame(User oldItem, @NonNull User newItem) {\n",
    "        return oldItem.equals(newItem);\n",
    "    }\n",
    "}"
   ]
  },
  {
   "cell_type": "code",
   "execution_count": null,
   "id": "62b11070-c116-4050-8f49-d2ed1c415a8f",
   "metadata": {},
   "outputs": [],
   "source": [
    "public class UserAdapter extends ListAdapter<User, UserViewHolder> {\n",
    "    public UserAdapter(@NonNull DiffUtil.ItemCallback<User> diffCallback) {\n",
    "        super(diffCallback);\n",
    "    }\n",
    "\n",
    "    @NonNull\n",
    "    @Override\n",
    "    public UserViewHolder onCreateViewHolder(@NonNull ViewGroup parent, int viewType) {\n",
    "        LayoutInflater inflater = LayoutInflater.from(parent.getContext());\n",
    "        RvItemBinding binding = RvItemBinding.inflate(inflater, parent, false);\n",
    "        return new UserViewHolder(binding);\n",
    "    }\n",
    "\n",
    "    @Override\n",
    "    public void onBindViewHolder(@NonNull UserViewHolder holder, int position) {\n",
    "        User item = getItem(position);\n",
    "        holder.bind(item);\n",
    "    }\n",
    "}"
   ]
  },
  {
   "cell_type": "code",
   "execution_count": null,
   "id": "35a9e49f-6423-4e80-93c2-bbc67e028273",
   "metadata": {},
   "outputs": [],
   "source": [
    "public class UserFragment extends Fragment {\n",
    "\n",
    "    @Override\n",
    "    public View onCreateView(@NonNull LayoutInflater inflater, ViewGroup container,\n",
    "                             Bundle savedInstanceState) {\n",
    "        com.example.repositorybasicsjava.databinding.FragmentUserBinding binding = FragmentUserBinding.inflate(inflater);\n",
    "\n",
    "        UserViewModel viewModel = new ViewModelProvider(this).get(UserViewModel.class);\n",
    "        UserAdapter userAdapter = new UserAdapter(new UserComparator());\n",
    "\n",
    "        viewModel.getUsersList().observe(getViewLifecycleOwner(), users -> userAdapter.submitList(new ArrayList<>(users)));\n",
    "\n",
    "        binding.rvList.setAdapter(userAdapter);\n",
    "        binding.rvList.setLayoutManager(new LinearLayoutManager(requireContext()));\n",
    "\n",
    "        return binding.getRoot();\n",
    "    }\n",
    "}"
   ]
  },
  {
   "cell_type": "markdown",
   "id": "8f195a66-70a1-48c6-a134-cf55a8fb6bfc",
   "metadata": {},
   "source": [
    "Możemy przetestować aplikację"
   ]
  },
  {
   "cell_type": "markdown",
   "id": "22ab1e9b-b1fa-4cff-bbe9-2f62399465fc",
   "metadata": {},
   "source": [
    "<img src=\"https://media2.giphy.com/media/v1.Y2lkPTc5MGI3NjExeWR3YThvcTgxcDVhbzl2MzFja2hmcG9mMmc0d2s1aXpicDA5eHlsaSZlcD12MV9pbnRlcm5hbF9naWZfYnlfaWQmY3Q9Zw/b2E5YdNOMy3IC3fVU8/giphy.gif\" width=\"200\" />"
   ]
  }
 ],
 "metadata": {
  "kernelspec": {
   "display_name": "Kotlin",
   "language": "kotlin",
   "name": "kotlin"
  },
  "language_info": {
   "codemirror_mode": "text/x-kotlin",
   "file_extension": ".kt",
   "mimetype": "text/x-kotlin",
   "name": "kotlin",
   "nbconvert_exporter": "",
   "pygments_lexer": "kotlin",
   "version": "1.8.0-RC"
  }
 },
 "nbformat": 4,
 "nbformat_minor": 5
}
