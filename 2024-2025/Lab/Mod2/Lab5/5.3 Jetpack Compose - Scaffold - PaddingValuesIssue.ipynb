{
 "cells": [
  {
   "cell_type": "markdown",
   "id": "412db9d9-d5ae-4bce-95a5-c03c02422c31",
   "metadata": {},
   "source": [
    "# Jetpack Compose - Scaffold - PaddingValues"
   ]
  },
  {
   "cell_type": "markdown",
   "id": "07a66354-6a96-44db-91c1-62b5dc9ae4c8",
   "metadata": {},
   "source": [
    "Zobaczmy na przykładzie występujący problem z marginesami. Wykorzystajmy `Scaffold` i dodajmy cztery pola tekstowe w narożnikach ekranu."
   ]
  },
  {
   "cell_type": "code",
   "execution_count": null,
   "id": "870556c7-cce4-43a0-8f25-7589e9a317bd",
   "metadata": {},
   "outputs": [],
   "source": [
    "@SuppressLint(\"UnusedMaterial3ScaffoldPaddingParameter\")\n",
    "@OptIn(ExperimentalMaterial3Api::class)\n",
    "@Composable\n",
    "fun PaddingValuesIssue(){\n",
    "    Scaffold (\n",
    "        content = {\n",
    "            Box(modifier = Modifier.fillMaxSize()) {\n",
    "                Text(text = \"1\", fontSize = 150.sp, modifier = Modifier.align(Alignment.BottomEnd))\n",
    "                Text(text = \"2\", fontSize = 150.sp, modifier = Modifier.align(Alignment.BottomStart))\n",
    "                Text(text = \"3\", fontSize = 150.sp, modifier = Modifier.align(Alignment.TopEnd))\n",
    "                Text(text = \"4\", fontSize = 150.sp, modifier = Modifier.align(Alignment.TopStart))\n",
    "            }\n",
    "        },\n",
    "    )\n",
    "}"
   ]
  },
  {
   "cell_type": "markdown",
   "id": "08ed9a6b-e11f-4ca9-b7aa-4275cb4dbfdf",
   "metadata": {},
   "source": [
    "<img src=\"https://i.ibb.co/GsP49Zk/image.png\" width=\"200\" />"
   ]
  },
  {
   "cell_type": "markdown",
   "id": "96aa0eba-e4b5-4e15-9306-4439566fdc84",
   "metadata": {},
   "source": [
    "Następnie dodajmy `topBar` oraz `bottomBar`"
   ]
  },
  {
   "cell_type": "code",
   "execution_count": null,
   "id": "59325005-40be-4cfb-ba7c-bccb31bc0c6b",
   "metadata": {},
   "outputs": [],
   "source": [
    "@SuppressLint(\"UnusedMaterial3ScaffoldPaddingParameter\")\n",
    "@OptIn(ExperimentalMaterial3Api::class)\n",
    "@Composable\n",
    "fun PaddingValuesIssue(){\n",
    "    Scaffold (\n",
    "        topBar = { TopAppBar(title = { Text(\"TopBar\") }, colors = TopAppBarDefaults.smallTopAppBarColors(containerColor = Color.Magenta)\n",
    "        ) },\n",
    "        content = {\n",
    "            Box(modifier = Modifier.fillMaxSize()) {\n",
    "                Text(text = \"1\", fontSize = 150.sp, modifier = Modifier.align(Alignment.BottomEnd))\n",
    "                Text(text = \"2\", fontSize = 150.sp, modifier = Modifier.align(Alignment.BottomStart))\n",
    "                Text(text = \"3\", fontSize = 150.sp, modifier = Modifier.align(Alignment.TopEnd))\n",
    "                Text(text = \"4\", fontSize = 150.sp, modifier = Modifier.align(Alignment.TopStart))\n",
    "            }\n",
    "        },\n",
    "        bottomBar = { BottomAppBar(containerColor = Color.Magenta) { Text(text = \"BottomBar\") }}\n",
    "    )\n",
    "}"
   ]
  },
  {
   "cell_type": "markdown",
   "id": "fa7f1bab-f8c7-47b1-a195-6a0779303e80",
   "metadata": {},
   "source": [
    "<img src=\"https://i.ibb.co/KF1LmcP/image.png\" width=\"200\" />"
   ]
  },
  {
   "cell_type": "markdown",
   "id": "c4259a80-de9f-4a18-b616-fb8078e4e6dc",
   "metadata": {},
   "source": [
    "Jak widzimy, pola `Text` są częściowo przykryte przez dodane belki. Możemy ten problem rozwiązać przez zastosowanie `PaddingValues`. Jest5 to wielkość ustalana automatycznie na podstawie szerokości belek, otrzymujemy ją jako parametr `contents` w funkcji `Composable` `Scaffold`"
   ]
  },
  {
   "cell_type": "code",
   "execution_count": null,
   "id": "74d830fe-3c59-4aa6-bc9f-6424f7c4abdd",
   "metadata": {},
   "outputs": [],
   "source": [
    "// @SuppressLint(\"UnusedMaterial3ScaffoldPaddingParameter\")\n",
    "// @OptIn(ExperimentalMaterial3Api::class)\n",
    "// @Composable\n",
    "// fun PaddingValuesIssue(){\n",
    "//     Scaffold (\n",
    "//         topBar = { TopAppBar(title = { Text(\"TopBar\") }, colors = TopAppBarDefaults.smallTopAppBarColors(containerColor = Color.Magenta)\n",
    "//         ) },\n",
    "//         content = {\n",
    "//             ..."
   ]
  },
  {
   "cell_type": "code",
   "execution_count": null,
   "id": "43dea357-a1bb-464d-905b-31698d12bebc",
   "metadata": {},
   "outputs": [],
   "source": [
    "@OptIn(ExperimentalMaterial3Api::class)\n",
    "@Composable\n",
    "fun PaddingValuesIssue(){\n",
    "    Scaffold (\n",
    "        topBar = { TopAppBar(title = { Text(\"TopBar\") }, colors = TopAppBarDefaults.smallTopAppBarColors(containerColor = Color.Magenta)\n",
    "        ) },\n",
    "        content = { paddingValues -> // dostajemy automatrycznie ustaloną waretość marginesu\n",
    "            ..."
   ]
  },
  {
   "cell_type": "markdown",
   "id": "23a40353-236c-4125-9f01-234fe9fcb3f2",
   "metadata": {},
   "source": [
    "Wykorzystajmy tą wartość w naszym polu `Box`"
   ]
  },
  {
   "cell_type": "code",
   "execution_count": null,
   "id": "4c215567-5f6e-43bb-a03f-c40007f03ad2",
   "metadata": {},
   "outputs": [],
   "source": [
    "@OptIn(ExperimentalMaterial3Api::class)\n",
    "@Composable\n",
    "fun PaddingValuesIssue(){\n",
    "    Scaffold (\n",
    "        topBar = { TopAppBar(title = { Text(\"TopBar\") }, colors = TopAppBarDefaults.smallTopAppBarColors(containerColor = Color.Magenta)\n",
    "        ) },\n",
    "        content = { paddingValues ->\n",
    "            Box(modifier = Modifier\n",
    "                    .fillMaxSize()\n",
    "                    .padding(paddingValues) // wykorzystujemy automatycznie wygenerowaną wartość marginesów\n",
    "               ) {\n",
    "                Text(text = \"1\", fontSize = 150.sp, modifier = Modifier.align(Alignment.BottomEnd))\n",
    "                Text(text = \"2\", fontSize = 150.sp, modifier = Modifier.align(Alignment.BottomStart))\n",
    "                Text(text = \"3\", fontSize = 150.sp, modifier = Modifier.align(Alignment.TopEnd))\n",
    "                Text(text = \"4\", fontSize = 150.sp, modifier = Modifier.align(Alignment.TopStart))\n",
    "            }\n",
    "        },\n",
    "        bottomBar = { BottomAppBar(containerColor = Color.Magenta) { Text(text = \"BottomBar\") }}\n",
    "    )\n",
    "}"
   ]
  },
  {
   "cell_type": "markdown",
   "id": "c7b7fea1-29e5-4d8c-9024-61f2997b1b67",
   "metadata": {},
   "source": [
    "<img src=\"https://i.ibb.co/ZK7JGCQ/image.png\" width=\"200\" />"
   ]
  },
  {
   "cell_type": "markdown",
   "id": "6b03ae1e-ebfb-49a2-aebd-24fb7679bbef",
   "metadata": {},
   "source": [
    "Teraz możemy zmienić szerokość belki, a marginesy zostaną dostosowane automatycznie"
   ]
  },
  {
   "cell_type": "code",
   "execution_count": null,
   "id": "e52e60eb-6ca2-4878-9a31-ec2aeed6f45d",
   "metadata": {},
   "outputs": [],
   "source": [
    "@OptIn(ExperimentalMaterial3Api::class)\n",
    "@Composable\n",
    "fun PaddingValuesIssue(){\n",
    "    Scaffold (\n",
    "        topBar = { TopAppBar(\n",
    "            title = { Text(\"TopBar\") }, \n",
    "            colors = TopAppBarDefaults.smallTopAppBarColors(containerColor = Color.Magenta), \n",
    "            modifier = Modifier.fillMaxHeight(0.2f) // zmieniamy szerokość\n",
    "        ) },\n",
    "        content = { paddingValues ->\n",
    "            Box(modifier = Modifier.fillMaxSize().padding(paddingValues)) {\n",
    "                Text(text = \"1\", fontSize = 150.sp, modifier = Modifier.align(Alignment.BottomEnd))\n",
    "                Text(text = \"2\", fontSize = 150.sp, modifier = Modifier.align(Alignment.BottomStart))\n",
    "                Text(text = \"3\", fontSize = 150.sp, modifier = Modifier.align(Alignment.TopEnd))\n",
    "                Text(text = \"4\", fontSize = 150.sp, modifier = Modifier.align(Alignment.TopStart))\n",
    "            }\n",
    "        },\n",
    "        bottomBar = { BottomAppBar(containerColor = Color.Magenta) { Text(text = \"BottomBar\") }}\n",
    "    )\n",
    "}"
   ]
  },
  {
   "cell_type": "markdown",
   "id": "88493eca-5156-4697-9a73-1878279bf31c",
   "metadata": {},
   "source": [
    "<img src=\"https://i.ibb.co/B2r3cZ1/image.png\" width=\"200\" />"
   ]
  },
  {
   "cell_type": "code",
   "execution_count": null,
   "id": "8a2ac21a-2cb6-4f7b-8aee-da4738219802",
   "metadata": {},
   "outputs": [],
   "source": []
  }
 ],
 "metadata": {
  "kernelspec": {
   "display_name": "Kotlin",
   "language": "kotlin",
   "name": "kotlin"
  },
  "language_info": {
   "codemirror_mode": "text/x-kotlin",
   "file_extension": ".kt",
   "mimetype": "text/x-kotlin",
   "name": "kotlin",
   "nbconvert_exporter": "",
   "pygments_lexer": "kotlin",
   "version": "1.8.20"
  }
 },
 "nbformat": 4,
 "nbformat_minor": 5
}
