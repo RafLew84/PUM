{
 "cells": [
  {
   "cell_type": "markdown",
   "id": "928c2372-1952-4abe-92b2-a478be45ead9",
   "metadata": {},
   "source": [
    "# Jetpack Compose - LiveData - Podstawy"
   ]
  },
  {
   "cell_type": "markdown",
   "id": "c50c7762-edc4-4bf7-9d5b-ba26618bacae",
   "metadata": {},
   "source": [
    "W tej aplikacji przyjrzymy się zastosowaniu `LiveData` - części architektury **MVVM**.\n",
    "\n",
    "#### **UWAGA**\n",
    "W aplikacjach opartych na **JetpackCompose** wykorzystuje się `State` (który widzieliśmy w poprzednim przykładzie), `StateFlow`, lub `ComposeFlow` (które poznamy na kolejnych zajęciach). Również można tworzyć aplikacje oparte na `LiveData` lecz jest to rzadziej spotykane. W praktyce posiadając `LiveData` w aplikacji konwertujemy go do `State` przez metodę `observeAsState`, z którą zapoznamy się w tym przykładzie."
   ]
  },
  {
   "cell_type": "markdown",
   "id": "d81738c1-f414-4fad-a846-6a07733e7d9b",
   "metadata": {},
   "source": [
    "<img src=\"https://media2.giphy.com/media/v1.Y2lkPTc5MGI3NjExMDExYnllNDZwZW40NjAxbzl4ZTNlZXN0dHZ1aXE5MjFha2g2ZXV1ayZlcD12MV9pbnRlcm5hbF9naWZfYnlfaWQmY3Q9Zw/xYi3Uxdr0LCyxmoDJO/giphy.gif\" width=\"200\" />"
   ]
  },
  {
   "cell_type": "markdown",
   "id": "bde4caa8-8e2a-4e71-bc4a-ea1925394c4c",
   "metadata": {},
   "source": [
    "`LiveData` jest częścią bibliotek Androida i jest obiektem, który przechowuje dane **obserwowane** przez komponenty aplikacji, takie jak aktywności, fragmenty czy `ViewModel`. Jest zaprojektowany tak, aby dostarczać reaktywne i cykliczne powiadomienia o zmianach danych.\n",
    "\n",
    "**Reaktywność** to podejście w programowaniu, które koncentruje się na tym, aby system reagował na zmiany i propagował te zmiany w sposób automatyczny. W kontekście aplikacji, reaktywność odnosi się do zdolności systemu do dynamicznego reagowania na zmiany danych i propagowania tych zmian do odpowiednich komponentów. \n",
    "\n",
    "Opiera się na obsłudze zdarzeń, które są generowane w systemie w wyniku **zmian w danych**. Zdarzenia te mogą być przekształcane i łączone za pomocą różnych operacji, tworząc **strumienie danych**. Strumienie są sekwencją wartości, które mogą być emitowane i subskrybowane (obserwowane) przez komponenty. Automatycznie propaguje zmiany w danych do komponentów, które subskrybują te dane. Oznacza to, że komponenty **nie muszą** ręcznie monitorować i aktualizować danych, ponieważ system sam zarządza tym procesem."
   ]
  },
  {
   "cell_type": "markdown",
   "id": "0fba1d8f-fa6e-4f4a-962a-99464e071d24",
   "metadata": {},
   "source": [
    "- Obserwowanie zmian - Komponenty mogą subskrybować (obserwować) `LiveData`, aby otrzymywać powiadomienia o zmianach danych. Kiedy wartość zostanie zaktualizowana, subskrybenci (obserwatorzy) otrzymają aktualizację i będą mogli zareagować na nową wartość.\n",
    "- Bezpieczeństwo wątków - `LiveData` automatycznie zarządza wątkami, zapewnia, otrzymanie powiadomień na wątku `UI` (**głównym wątku**). Jeśli wartość `LiveData` zostanie zmieniona w wątku innym niż wątek główny, powiadomienia zostaną dostarczone do obserwatorów w wątku głównym, co ułatwia aktualizację interfejsu użytkownika.\n",
    "- Unikanie wycieków pamięci: `LiveData` jest **świadome cyklu życia komponentów** i automatycznie **zatrzymuje obserwację**, gdy komponenty, które go subskrybują, są w **stanie nieaktywnym**, takim jak aktywność w stanie pauzy lub fragment w stanie `detach`. Dzięki temu unika się wycieków pamięci, które mogą wystąpić, gdy komponenty trzymają referencje do innych komponentów poza ich cyklem życia."
   ]
  },
  {
   "cell_type": "markdown",
   "id": "a3e02efe-9385-4efa-a680-133c0d739b43",
   "metadata": {},
   "source": [
    "`LiveData` jest użyteczne w przypadku komunikacji między **warstwami aplikacji**, takimi jak `ViewModel` i interfejs użytkownika, ponieważ umożliwia bezpośrednie powiązanie danych z widokami (elementami ui), eliminując potrzebę ręcznej synchronizacji danych."
   ]
  },
  {
   "cell_type": "markdown",
   "id": "40b291b1-827b-452c-ab19-011849a2b743",
   "metadata": {},
   "source": [
    "`LiveData` jest bardziej odpowiednie do **tradycyjnych** (gdzie ui tworzony jest w oparciu o `View` z `Fragment`) aplikacji Android. `State` natomiast jest dedykowane dla aplikacji opartych na **Jetpack Compose**, które używają **deklaratywnego podejścia** do budowania `UI`. Oba mechanizmy dostarczają reaktywności i automatycznego odświeżania widoku w odpowiedzi na zmiany danych."
   ]
  },
  {
   "cell_type": "markdown",
   "id": "fc312a33-f334-4160-a67a-81b6bea387c9",
   "metadata": {},
   "source": [
    "Utworzymy prosty licznik, w którym wartość licznika będzie obserwowana. komponent odpowiedzialny za renderowanie ekranu będzie reagował automatycznie na zmiany tej wartości."
   ]
  },
  {
   "cell_type": "markdown",
   "id": "f0641ff7-912c-4999-9791-02069781da40",
   "metadata": {},
   "source": [
    "Aby skorzystać z `LiveData` i `ViewModel` musimy dodać odpowiednie zależności.\n",
    "\n",
    "do bloku `dependencies`\n",
    "\n",
    "```kotlin\n",
    "    implementation (libs.androidx.lifecycle.viewmodel.compose)\n",
    "    implementation (libs.androidx.lifecycle.livedata.ktx)\n",
    "    implementation (libs.androidx.runtime)\n",
    "    implementation (libs.androidx.runtime.livedata)\n",
    "    ...\n",
    "```\n",
    "\n",
    "do pliku `libs.versions.toml`\n",
    "```kotlin\n",
    "[versions]\n",
    "coreKtx = \"1.13.1\"\n",
    "lifecycleRuntimeKtx = \"2.8.4\"\n",
    "runtime = \"1.6.8\"\n",
    "...\n",
    "\n",
    "[libraries]\n",
    "androidx-core-ktx = { group = \"androidx.core\", name = \"core-ktx\", version.ref = \"coreKtx\" }\n",
    "androidx-lifecycle-livedata-ktx = { module = \"androidx.lifecycle:lifecycle-livedata-ktx\", version.ref = \"lifecycleRuntimeKtx\" }\n",
    "androidx-lifecycle-viewmodel-compose = { module = \"androidx.lifecycle:lifecycle-viewmodel-compose\", version.ref = \"lifecycleRuntimeKtx\" }\n",
    "androidx-runtime = { module = \"androidx.compose.runtime:runtime\", version.ref = \"runtime\" }\n",
    "androidx-runtime-livedata = { module = \"androidx.compose.runtime:runtime-livedata\", version.ref = \"runtime\" }\n",
    "...\n",
    "```"
   ]
  },
  {
   "cell_type": "markdown",
   "id": "8f70c681-9f37-435c-9a88-701fb80f8996",
   "metadata": {},
   "source": [
    "Rozpocznijmy od utworzenia `ViewModel`"
   ]
  },
  {
   "cell_type": "markdown",
   "id": "dd87cd1b-d0aa-42cc-9d90-c150279c9c77",
   "metadata": {},
   "source": [
    "### ViewModel"
   ]
  },
  {
   "cell_type": "code",
   "execution_count": null,
   "id": "1e25df1d-d269-4e00-b697-f6205cfa7b00",
   "metadata": {},
   "outputs": [],
   "source": [
    "class CounterViewModel : ViewModel() {\n",
    "    private var _counter = MutableLiveData(0)\n",
    "    val counter: LiveData<Int>\n",
    "        get() = _counter\n",
    "\n",
    "    fun increase(){\n",
    "        _counter.value = _counter.value?.inc()\n",
    "    }\n",
    "\n",
    "    fun decrease(){\n",
    "        _counter.value = _counter.value?.dec()\n",
    "    }\n",
    "\n",
    "    fun clear(){ _counter.value = 0 }\n",
    "}"
   ]
  },
  {
   "cell_type": "markdown",
   "id": "77f87e74-ee1a-435f-a96b-ededa6a1e6ae",
   "metadata": {},
   "source": [
    "- `private var _counter = MutableLiveData(0)` - `MutableLiveData` jest klasą służącą do przechowywania i zarządzania danymi reaktywnymi. pole przechowuje aktualną wartość licznika i jest zainicjalizowane wartością 0. Jest to prywatna wartość wspierająca - mamy do niej dostęp tylko z poziomu `CounterViewModel`. Jeżeli chcemy zmienić wartość z poziomu `CounterScreen`, wywołujemy odpowiednią metodę dostępową, która odpowiednio modyfikuje to pole.\n",
    "- `val counter: LiveData<Int> get() = _counter` Pole dostarcza dostęp do pola `_counter` tylko do odczytu, umożliwiając obserwowanie jego wartości bez możliwości zmiany. Jest to pole publiczne, które jest częścią interfejsu `CounterViewModel`\n",
    "- `fun increase()` Metoda dostępowa zwiększająca stan licznika.\n",
    "- `fun decrease()` Metoda dostępowa zmniejszająca stan licznika.\n",
    "- `fun clear()` Metoda dostępowa rresetująca stan licznika.\n",
    "\n",
    "Klasa `CounterViewModel` dostarcza interfejs do zarządzania stanem licznika poprzez metody `increase()`, `decrease()` i `clear()`. Pola `_counter` i `counter` umożliwiają obserwowanie wartości licznika i reagowanie na jego zmiany w innych komponentach są subskrybentami (blokują możliwość bezpośredniej zmiany licznika - do tego służą metody dostępowe)."
   ]
  },
  {
   "cell_type": "markdown",
   "id": "78884e0b-3b42-4d42-b0ae-6f1115c91597",
   "metadata": {},
   "source": [
    "### CounterScreen"
   ]
  },
  {
   "cell_type": "code",
   "execution_count": null,
   "id": "07b3e581-93cc-4c01-b575-0f4d4c7efa92",
   "metadata": {},
   "outputs": [],
   "source": [
    "@Composable\n",
    "fun CounterScreen() {\n",
    "\n",
    "    val viewModel: CounterViewModel = viewModel() // zapewnia dostęp do metod dostępowych i danych (tylko do odczytu)\n",
    "    val counterState = viewModel.counter.observeAsState() // przy każdej zmianie wartości counter,\n",
    "                                                          // counterState otrzymuje aktualną wartość\n",
    "\n",
    "    Column(\n",
    "        verticalArrangement = Arrangement.Center,\n",
    "        horizontalAlignment = Alignment.CenterHorizontally,\n",
    "        modifier = Modifier.fillMaxSize()\n",
    "    ) {\n",
    "        Spacer(modifier = Modifier.weight(0.3f))\n",
    "        Text(\n",
    "            text = counterState.value.toString(),\n",
    "            fontSize = 250.sp,\n",
    "            textAlign = TextAlign.Center,\n",
    "            modifier = Modifier.weight(1f),\n",
    "        )\n",
    "        Row(\n",
    "            verticalAlignment = Alignment.CenterVertically,\n",
    "            horizontalArrangement = Arrangement.Center,\n",
    "            modifier = Modifier.fillMaxWidth()\n",
    "        ) {\n",
    "            Button(\n",
    "                modifier = Modifier\n",
    "                    .weight(.5f)\n",
    "                    .padding(4.dp),\n",
    "                shape = RoundedCornerShape(4.dp),\n",
    "                onClick = {viewModel.increase()} // przycisk zwiększający stan licznika o 1\n",
    "            ) {\n",
    "                Text(text = \"Increase\")\n",
    "            }\n",
    "            Button(\n",
    "                modifier = Modifier\n",
    "                    .weight(.5f)\n",
    "                    .padding(4.dp),\n",
    "                shape = RoundedCornerShape(4.dp),\n",
    "                onClick = {viewModel.decrease()} // przycisk zmniejszający stan licznika o 1\n",
    "            ) {\n",
    "                Text(text = \"Decrease\")\n",
    "            }\n",
    "        }\n",
    "\n",
    "        Button(\n",
    "            modifier = Modifier.fillMaxWidth(),\n",
    "            shape = RectangleShape,\n",
    "            onClick = {viewModel.clear()} // przycisk ustawiający stan licznika na 0\n",
    "        ) {\n",
    "            Text(text = \"Reset\")\n",
    "        }\n",
    "    }\n",
    "}"
   ]
  },
  {
   "cell_type": "markdown",
   "id": "1cb83e33-0a4a-424c-8e6e-0df30c3a6a7b",
   "metadata": {},
   "source": [
    "Tworzymy dwie zmienne"
   ]
  },
  {
   "cell_type": "code",
   "execution_count": null,
   "id": "f088516a-3647-4bbe-99aa-94f996c42dbf",
   "metadata": {},
   "outputs": [],
   "source": [
    "val viewModel: CounterViewModel = viewModel()\n",
    "val counterState = viewModel.counter.observeAsState()"
   ]
  },
  {
   "cell_type": "markdown",
   "id": "df069163-8dd0-46b9-a01a-cb6df372642c",
   "metadata": {},
   "source": [
    "`viewModel` - która przechowuje instancję `CounterViewModel`.\n",
    "`counterState` który jest obiektem `State` uzyskanym za pomocą funkcji `observeAsState()`. Funkcja `observeAsState()` automatycznie subskrybuje `LiveData` i zwraca jego aktualną wartość w postaci `State`. Dzięki temu, gdy wartość `counter` w `viewModel` ulegnie zmianie, `counterState` zostanie automatycznie zaktualizowane. To spowoduje odświeżenie komponentu, który korzysta z tej wartości.\n",
    "\n",
    "Za każdym razem, gdy zmieniamy wartość `_counter` za pomocą metod dostępowych (`increase()`, `decrease()`, `clear()`), tekst w polu `Text`\n",
    "```kotlin\n",
    "text = counterState.value.toString(),\n",
    "```\n",
    "zostanie automatycznie odświeżona."
   ]
  },
  {
   "cell_type": "markdown",
   "id": "ef673619-645e-4459-9b63-9a3e1cba980f",
   "metadata": {},
   "source": [
    "Możemy przetestować aplikację"
   ]
  },
  {
   "cell_type": "markdown",
   "id": "6827d73d-fdfb-4044-a65d-350401e0e8ab",
   "metadata": {},
   "source": [
    "<table><tr><td><img src=\"https://media2.giphy.com/media/v1.Y2lkPTc5MGI3NjExMDExYnllNDZwZW40NjAxbzl4ZTNlZXN0dHZ1aXE5MjFha2g2ZXV1ayZlcD12MV9pbnRlcm5hbF9naWZfYnlfaWQmY3Q9Zw/xYi3Uxdr0LCyxmoDJO/giphy.gif\" width=\"150\" /></td><td><img src=\"https://media2.giphy.com/media/v1.Y2lkPTc5MGI3NjExZWl6emZ3cWxvYzByMDJ1aWdtbG94eTlyZzI0MTh4ejluejg1dnhzNiZlcD12MV9pbnRlcm5hbF9naWZfYnlfaWQmY3Q9Zw/S3uYswjxuVK1ILsds0/giphy.gif\" width=\"200\" /></td></tr></table>"
   ]
  },
  {
   "cell_type": "code",
   "execution_count": null,
   "id": "20d23eaa-e154-4bcb-9a3f-580310439e9b",
   "metadata": {},
   "outputs": [],
   "source": []
  }
 ],
 "metadata": {
  "kernelspec": {
   "display_name": "Kotlin",
   "language": "kotlin",
   "name": "kotlin"
  },
  "language_info": {
   "codemirror_mode": "text/x-kotlin",
   "file_extension": ".kt",
   "mimetype": "text/x-kotlin",
   "name": "kotlin",
   "nbconvert_exporter": "",
   "pygments_lexer": "kotlin",
   "version": "1.8.0-RC"
  }
 },
 "nbformat": 4,
 "nbformat_minor": 5
}
