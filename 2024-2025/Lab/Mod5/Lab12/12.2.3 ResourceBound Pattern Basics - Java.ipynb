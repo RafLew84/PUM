{
 "cells": [
  {
   "cell_type": "markdown",
   "id": "be8d0400-585e-487b-9b4d-54394c3eb4e5",
   "metadata": {},
   "source": [
    "# ResourceBound Pattern - Podstawy"
   ]
  },
  {
   "cell_type": "markdown",
   "id": "61594d78-a2f7-48bf-b661-21d28eb671df",
   "metadata": {},
   "source": [
    "W tej aplikacji przyjrzymy się zastosowaniu biblioteki zastosowaniu wzorca `ResourceBound`, który ułatwia obsługę różnych stanów (ładowanie, błąd, sukces) w przypadku obsługi danych z zewnętrznych serwisów."
   ]
  },
  {
   "cell_type": "markdown",
   "id": "97d50cba-f882-4185-8648-07a8716b0f81",
   "metadata": {},
   "source": [
    "<img src=\"https://media0.giphy.com/media/v1.Y2lkPTc5MGI3NjExNXRjMjNlbjJmYTNiMW45OW1iZmh2dnpzN2l1MmxsejB0eWlqNDNnMCZlcD12MV9pbnRlcm5hbF9naWZfYnlfaWQmY3Q9Zw/6lIYVQa6srpVlsTU7u/giphy.gif\" width=\"200\" />"
   ]
  },
  {
   "cell_type": "markdown",
   "id": "92d93bab-d726-4422-b296-05046badd1e2",
   "metadata": {},
   "source": [
    "Klasa `Resource` jest przydatna, gdy chcemy przekazywać różne stany operacji do interfejsu użytkownika. Na przykład, gdy pobieramy dane z sieci, możemy używać `Resource` do informowania interfejsu użytkownika o stanie ładowania, sukcesie lub błędzie, a także dostarczyć odpowiednie dane i komunikaty w zależności od wyniku operacji. Jest to często stosowane w architekturze **MVVM** (Model-View-ViewModel), aby lepiej zarządzać stanem interfejsu użytkownika i przekazywać wyniki operacji do widoku."
   ]
  },
  {
   "cell_type": "markdown",
   "id": "acfc2812-6312-4598-8d81-1452e67f1546",
   "metadata": {},
   "source": [
    "W tej aplikacji również wykorzystamy  [**JSONPlaceholder**](https://jsonplaceholder.typicode.com/), tym razem z endpointem `comments`"
   ]
  },
  {
   "cell_type": "markdown",
   "id": "4bdf6bcd-a664-4152-a291-a9e211bfd645",
   "metadata": {},
   "source": [
    "Nasza aplikacja wymaga dostępu do internetu, aby go uzyskać musimy dodać deklarację uprawnienia w pliku konfiguracyjnym aplikacji, który nazywa się `AndroidManifest.xml`. To uprawnienie informuje system operacyjny Android, że aplikacja potrzebuje dostępu do internetu."
   ]
  },
  {
   "cell_type": "code",
   "execution_count": null,
   "id": "2bb8478d-7666-43a0-9185-27d81f88b502",
   "metadata": {},
   "outputs": [],
   "source": [
    "<uses-permission android:name=\"android.permission.INTERNET\"/>"
   ]
  },
  {
   "cell_type": "markdown",
   "id": "00596d0c-fcde-462a-bd99-5dbfe9ffcb0a",
   "metadata": {},
   "source": [
    "Rozpocznijmy od dodania zależności\n",
    "```kotlin\n",
    "    implementation (libs.retrofit2.retrofit)\n",
    "    implementation (libs.gson)\n",
    "    implementation (libs.converter.gson)\n",
    "\n",
    "// ViewModel\n",
    "    implementation (libs.lifecycle.viewmodel)\n",
    "// LiveData\n",
    "    implementation (libs.lifecycle.livedata)\n",
    "```\n",
    "\n",
    "```kotlin\n",
    "[versions]\n",
    "agp = \"8.5.2\"\n",
    "converterGson = \"2.10.1\"\n",
    "gson = \"2.10.1\"\n",
    "junit = \"4.13.2\"\n",
    "junitVersion = \"1.2.1\"\n",
    "espressoCore = \"3.6.1\"\n",
    "appcompat = \"1.7.0\"\n",
    "lifecycleViewmodel = \"2.8.4\"\n",
    "material = \"1.12.0\"\n",
    "activity = \"1.9.1\"\n",
    "constraintlayout = \"2.1.4\"\n",
    "retrofitVersion = \"2.9.0\"\n",
    "\n",
    "[libraries]\n",
    "converter-gson = { module = \"com.squareup.retrofit2:converter-gson\", version.ref = \"converterGson\" }\n",
    "gson = { module = \"com.google.code.gson:gson\", version.ref = \"gson\" }\n",
    "junit = { group = \"junit\", name = \"junit\", version.ref = \"junit\" }\n",
    "ext-junit = { group = \"androidx.test.ext\", name = \"junit\", version.ref = \"junitVersion\" }\n",
    "espresso-core = { group = \"androidx.test.espresso\", name = \"espresso-core\", version.ref = \"espressoCore\" }\n",
    "appcompat = { group = \"androidx.appcompat\", name = \"appcompat\", version.ref = \"appcompat\" }\n",
    "lifecycle-livedata = { module = \"androidx.lifecycle:lifecycle-livedata\", version.ref = \"lifecycleViewmodel\" }\n",
    "lifecycle-viewmodel = { module = \"androidx.lifecycle:lifecycle-viewmodel\", version.ref = \"lifecycleViewmodel\" }\n",
    "material = { group = \"com.google.android.material\", name = \"material\", version.ref = \"material\" }\n",
    "activity = { group = \"androidx.activity\", name = \"activity\", version.ref = \"activity\" }\n",
    "constraintlayout = { group = \"androidx.constraintlayout\", name = \"constraintlayout\", version.ref = \"constraintlayout\" }\n",
    "retrofit2-retrofit = { module = \"com.squareup.retrofit2:retrofit\", version.ref = \"retrofitVersion\" }\n",
    "\n",
    "[plugins]\n",
    "android-application = { id = \"com.android.application\", version.ref = \"agp\" }\n",
    "\n",
    "\n",
    "```"
   ]
  },
  {
   "cell_type": "markdown",
   "id": "25d53281-0264-4336-a29d-35d6abd44681",
   "metadata": {},
   "source": [
    "Następnie dodajmy model danych"
   ]
  },
  {
   "cell_type": "code",
   "execution_count": null,
   "id": "99cb2ebc-aebe-4a11-b4ee-09a6c8a787ad",
   "metadata": {},
   "outputs": [],
   "source": [
    "public class CommentResponseItem {\n",
    "    private String body;\n",
    "    private String email;\n",
    "    private int id;\n",
    "    private String name;\n",
    "    private int postId;\n",
    "\n",
    "    public CommentResponseItem(String body, String email, int id, String name, int postId) {\n",
    "        this.body = body;\n",
    "        this.email = email;\n",
    "        this.id = id;\n",
    "        this.name = name;\n",
    "        this.postId = postId;\n",
    "    }\n",
    "\n",
    "    public String getBody() {\n",
    "        return body;\n",
    "    }\n",
    "\n",
    "    public void setBody(String body) {\n",
    "        this.body = body;\n",
    "    }\n",
    "\n",
    "    public String getEmail() {\n",
    "        return email;\n",
    "    }\n",
    "\n",
    "    public void setEmail(String email) {\n",
    "        this.email = email;\n",
    "    }\n",
    "\n",
    "    public int getId() {\n",
    "        return id;\n",
    "    }\n",
    "\n",
    "    public void setId(int id) {\n",
    "        this.id = id;\n",
    "    }\n",
    "\n",
    "    public String getName() {\n",
    "        return name;\n",
    "    }\n",
    "\n",
    "    public void setName(String name) {\n",
    "        this.name = name;\n",
    "    }\n",
    "\n",
    "    public int getPostId() {\n",
    "        return postId;\n",
    "    }\n",
    "\n",
    "    public void setPostId(int postId) {\n",
    "        this.postId = postId;\n",
    "    }\n",
    "\n",
    "    @Override\n",
    "    public String toString() {\n",
    "        return \"CommentResponseItem{\" +\n",
    "                \"body='\" + body + '\\'' +\n",
    "                \", email='\" + email + '\\'' +\n",
    "                \", id=\" + id +\n",
    "                \", name='\" + name + '\\'' +\n",
    "                \", postId=\" + postId +\n",
    "                '}';\n",
    "    }\n",
    "\n",
    "    @Override\n",
    "    public boolean equals(Object o) {\n",
    "        if (this == o) return true;\n",
    "        if (o == null || getClass() != o.getClass()) return false;\n",
    "        CommentResponseItem that = (CommentResponseItem) o;\n",
    "        return id == that.id &&\n",
    "                postId == that.postId &&\n",
    "                Objects.equals(body, that.body) &&\n",
    "                Objects.equals(email, that.email) &&\n",
    "                Objects.equals(name, that.name);\n",
    "    }\n",
    "\n",
    "    @Override\n",
    "    public int hashCode() {\n",
    "        return Objects.hash(body, email, id, name, postId);\n",
    "    }\n",
    "}"
   ]
  },
  {
   "cell_type": "markdown",
   "id": "dcaa3c5b-3b03-4c4a-bb37-0cb59231ea14",
   "metadata": {},
   "source": [
    "Następnie dodajmy interfejs"
   ]
  },
  {
   "cell_type": "code",
   "execution_count": null,
   "id": "b2b6968e-180a-4191-803b-2d726223da17",
   "metadata": {},
   "outputs": [],
   "source": [
    "public interface PlaceholderApi {\n",
    "    @GET(\"comments\")\n",
    "    Call<List<CommentResponseItem>> comments();\n",
    "}"
   ]
  },
  {
   "cell_type": "markdown",
   "id": "89428c3f-1cd2-4a6a-804e-7d5a3c8421a0",
   "metadata": {},
   "source": [
    "Dodajmy instancję `Retrofit` oraz repozytorium."
   ]
  },
  {
   "cell_type": "code",
   "execution_count": null,
   "id": "e592d7a9-64e6-4e6d-8d6d-175cb8298183",
   "metadata": {},
   "outputs": [],
   "source": [
    "public class RetrofitInstance {\n",
    "    private static final String BASE_URL = \"https://jsonplaceholder.typicode.com/\";\n",
    "    private static volatile PlaceholderApi apiInstance;\n",
    "\n",
    "    public static PlaceholderApi getApi() {\n",
    "        if (apiInstance == null) {\n",
    "            synchronized (RetrofitInstance.class) {\n",
    "                if (apiInstance == null) {\n",
    "                    apiInstance = new Retrofit.Builder()\n",
    "                            .baseUrl(BASE_URL)\n",
    "                            .addConverterFactory(GsonConverterFactory.create())\n",
    "                            .build()\n",
    "                            .create(PlaceholderApi.class);\n",
    "                }\n",
    "            }\n",
    "        }\n",
    "        return apiInstance;\n",
    "    }\n",
    "}"
   ]
  },
  {
   "cell_type": "code",
   "execution_count": null,
   "id": "62d2445d-df3d-4c80-a978-27076050dec8",
   "metadata": {},
   "outputs": [],
   "source": [
    "public class CommentRepository {\n",
    "    private final PlaceholderApi api = RetrofitInstance.getApi();\n",
    "\n",
    "    public Call<List<CommentResponseItem>> getComments() {\n",
    "        return api.comments();\n",
    "    }\n",
    "}"
   ]
  },
  {
   "cell_type": "markdown",
   "id": "4967163b-f35d-4d8f-975f-32b5b0fd5a65",
   "metadata": {},
   "source": [
    "Zanim przejdziemy do viewmodelu, dodajmy klasę `Resource`, która pozwoli nam reprezentować różne stany operacji. Stan będziemy reprezentować za pomocą trybu wyliczeniowego."
   ]
  },
  {
   "cell_type": "code",
   "execution_count": null,
   "id": "8c47b0cd-bc1c-40d6-8bdf-8d563981faed",
   "metadata": {},
   "outputs": [],
   "source": [
    "public enum Status {\n",
    "    SUCCESS,\n",
    "    ERROR,\n",
    "    LOADING\n",
    "}"
   ]
  },
  {
   "cell_type": "code",
   "execution_count": null,
   "id": "488d8e66-fcb5-4eaa-b7c7-d2c25486f624",
   "metadata": {},
   "outputs": [],
   "source": [
    "public class Resource<T> {\n",
    "    @NonNull\n",
    "    public final Status status;\n",
    "    @Nullable\n",
    "    public final T data;\n",
    "    @Nullable public final String message;\n",
    "\n",
    "    private Resource(@NonNull Status status, @Nullable T data, @Nullable String message) {\n",
    "        this.status = status;\n",
    "        this.data = data;\n",
    "        this.message = message;\n",
    "    }\n",
    "\n",
    "    public static <T> Resource<T> success(@NonNull T data) {\n",
    "        return new Resource<>(SUCCESS, data, null);\n",
    "    }\n",
    "\n",
    "    public static <T> Resource<T> error(String msg, @Nullable T data) {\n",
    "        return new Resource<>(ERROR, data, msg);\n",
    "    }\n",
    "\n",
    "    public static <T> Resource<T> loading(@Nullable T data) {\n",
    "        return new Resource<>(LOADING, data, null);\n",
    "    }\n",
    "}"
   ]
  },
  {
   "cell_type": "markdown",
   "id": "63ab1cfb-2be3-4617-9723-73455acb1de1",
   "metadata": {},
   "source": [
    "- `public class Resource<T>`: Jest to deklaracja klasy `Resource`, która jest opakowaniem wyniku operacji. Parametr generyczny `T` oznacza typ danych, które będą przechowywane w obiekcie `Resource`.\n",
    "- `@Nullable public final T data`: To jest pole `data`, które przechowuje wynik operacji. Może to być obiekt zawierający `dane` lub `null`, jeśli operacja nie zwróciła wyniku.\n",
    "- `@Nullable public final String message`: To jest pole `message`, które może zawierać wiadomość lub komunikat związany z wynikiem operacji. Jest to przydatne do przechowywania informacji zwrotnych lub błędów.\n",
    "- `public static <T> Resource<T> success(@NonNull T data)`: Jest to funkcja `Resource`, która reprezentuje sukces operacji. Przyjmuje dane (`data`) jako argument.\n",
    "- `public static <T> Resource<T> error(String msg, @Nullable T data)`: Jest to funkcja `Resource`, która reprezentuje błąd operacji. Przyjmuje wiadomość błędu (`message`) i opcjonalnie dane związane z błędem (`data`) jako argumenty.\n",
    "- `public static <T> Resource<T> loading(@Nullable T data)`: Jest to funkcja `Resource`, która reprezentuje stan ładowania. Nie przyjmuje żadnych danych. Jest używana do informowania interfejsu użytkownika, że operacja jest w trakcie wykonywania."
   ]
  },
  {
   "cell_type": "markdown",
   "id": "f5d6abe8-988b-436b-87ff-42902986d5ba",
   "metadata": {},
   "source": [
    "Następnie przejdźmy do implementacji viewmodel."
   ]
  },
  {
   "cell_type": "code",
   "execution_count": null,
   "id": "9c79b2f0-bef5-46fb-ae32-8d06f210b5cb",
   "metadata": {},
   "outputs": [],
   "source": [
    "public class CommentsViewModel extends ViewModel {\n",
    "\n",
    "    private final CommentRepository repository = new CommentRepository();\n",
    "    private final MutableLiveData<Resource<List<CommentResponseItem>>> _comments = new MutableLiveData<>();\n",
    "    public LiveData<Resource<List<CommentResponseItem>>> comments = _comments;\n",
    "\n",
    "    public CommentsViewModel() {\n",
    "        try {\n",
    "            getPosts();\n",
    "        } catch (IOException e) {\n",
    "            throw new RuntimeException(e);\n",
    "        }\n",
    "    }\n",
    "\n",
    "    private void getCommentsList() throws IOException {\n",
    "        Call<List<CommentResponseItem>> response = repository.getComments();\n",
    "\n",
    "        response.enqueue(new Callback<List<CommentResponseItem>>() {\n",
    "            @Override\n",
    "            public void onResponse(@NonNull Call<List<CommentResponseItem>> call, @NonNull Response<List<CommentResponseItem>> response) {\n",
    "                if (response.isSuccessful()){\n",
    "                    _comments.postValue(Resource.loading(null));\n",
    "                    List<CommentResponseItem> commentsResponse = response.body();\n",
    "                    if (postsResponse != null)\n",
    "                        _comments.postValue(Resource.success(commentsResponse));\n",
    "                }\n",
    "            }\n",
    "\n",
    "            @Override\n",
    "            public void onFailure(@NonNull Call<List<CommentResponseItem>> call, @NonNull Throwable t) {\n",
    "                _comments.postValue(Resource.error(t.getLocalizedMessage(), null));\n",
    "            }\n",
    "        });\n",
    "    }\n",
    "}"
   ]
  },
  {
   "cell_type": "markdown",
   "id": "35fb5e9a-5dc2-470a-9f9e-0dbcbd52d512",
   "metadata": {},
   "source": [
    "Funkcja `getCommentsList()` jest odpowiedzialna za inicjowanie operacji pobierania listy komentarzy, ustawianie odpowiedniego stanu `_comments` (`Loading`), wykonanie żądania HTTP, przetworzenie odpowiedzi i zaktualizowanie stanu `_comments` w zależności od wyniku operacji."
   ]
  },
  {
   "cell_type": "markdown",
   "id": "6ad8fd3e-2a70-453e-8e30-289cfb6a576c",
   "metadata": {},
   "source": [
    "- `_comments.postValue(Resource.loading(null));`: Na początku funkcja ustawia stan `_comments` na `Resource.loading()`, co oznacza, że operacja pobierania jest w trakcie wykonywania. Jest to sygnał dla interfejsu użytkownika, że aplikacja jest w trakcie ładowania danych.\n",
    "- `_comments.postValue(Resource.success(postsResponse));`: Jeśli odpowiedź jest udana, to wykorzystywany jest warunek `if (postsResponse != null)`, który sprawdza, czy ciało odpowiedzi (`response.body()`) nie jest `null`, a następnie tworzy obiekt za pomocą funcji `Resource.success` z danymi komentarzy i go zwraca. Ten obiekt oznacza sukces operacji i zawiera dane komentarzy.\n",
    "- `_comments.postValue(Resource.error(t.getLocalizedMessage(), null));`: Jeśli odpowiedź nie jest udana (kod stanu HTTP jest różny od 2xx), to jest tworzony obiekt przez funkcję `Resource.error` z komunikatem błędu uzyskanym z odpowiedzi (`t.getLocalizedMessage()`). Ten obiekt oznacza błąd operacji."
   ]
  },
  {
   "cell_type": "markdown",
   "id": "7abc47fc-d123-4536-874d-7b9ccdc428bd",
   "metadata": {},
   "source": [
    "Przejdźmy do fragmentu oraz elementów `RecyclerView`."
   ]
  },
  {
   "cell_type": "code",
   "execution_count": null,
   "id": "a1923276-aa46-49e4-b3e6-cc7c65d230ff",
   "metadata": {},
   "outputs": [],
   "source": [
    "public class CommentViewHolder extends RecyclerView.ViewHolder {\n",
    "    private final RvItemBinding binding;\n",
    "\n",
    "    public CommentViewHolder(RvItemBinding binding) {\n",
    "        super(binding.getRoot());\n",
    "        this.binding = binding;\n",
    "    }\n",
    "\n",
    "    public void bind(CommentResponseItem item) {\n",
    "        binding.title.setText(item.getName());\n",
    "        binding.body.setText(item.getBody());\n",
    "        binding.commentId.setText(String.valueOf(item.getPostId()));\n",
    "    }\n",
    "}"
   ]
  },
  {
   "cell_type": "code",
   "execution_count": null,
   "id": "772df21a-529e-4169-84bd-893c0d4a13a0",
   "metadata": {},
   "outputs": [],
   "source": [
    "public class CommentComparator extends DiffUtil.ItemCallback<CommentResponseItem> {\n",
    "    @Override\n",
    "    public boolean areItemsTheSame(@NonNull CommentResponseItem oldItem, @NonNull CommentResponseItem newItem) {\n",
    "        return oldItem == newItem;\n",
    "    }\n",
    "\n",
    "    @Override\n",
    "    public boolean areContentsTheSame(CommentResponseItem oldItem, @NonNull CommentResponseItem newItem) {\n",
    "        return oldItem.equals(newItem);\n",
    "    }\n",
    "}"
   ]
  },
  {
   "cell_type": "code",
   "execution_count": null,
   "id": "f91675ad-88aa-431a-beec-f75b66944bd6",
   "metadata": {},
   "outputs": [],
   "source": [
    "public class CommentAdapter extends ListAdapter<CommentResponseItem, CommentViewHolder> {\n",
    "    public CommentAdapter(CommentComparator userComparator) {\n",
    "        super(userComparator);\n",
    "    }\n",
    "\n",
    "    @NonNull\n",
    "    @Override\n",
    "    public CommentViewHolder onCreateViewHolder(@NonNull ViewGroup parent, int viewType) {\n",
    "        RvItemBinding binding = RvItemBinding.inflate(LayoutInflater.from(parent.getContext()), parent, false);\n",
    "        return new CommentViewHolder(binding);\n",
    "    }\n",
    "\n",
    "    @Override\n",
    "    public void onBindViewHolder(CommentViewHolder holder, int position) {\n",
    "        CommentResponseItem item = getItem(position);\n",
    "        holder.bind(item);\n",
    "    }\n",
    "}"
   ]
  },
  {
   "cell_type": "code",
   "execution_count": null,
   "id": "cc553dfc-0900-455d-8ae3-7a5b87c4d3ee",
   "metadata": {},
   "outputs": [],
   "source": [
    "public class CommentsFragment extends Fragment {\n",
    "\n",
    "    private FragmentCommentsBinding binding;\n",
    "    private CommentsViewModel viewModel;\n",
    "\n",
    "    @Override\n",
    "    public View onCreateView(@NonNull LayoutInflater inflater, ViewGroup container, Bundle savedInstanceState) {\n",
    "        binding = FragmentCommentsBinding.inflate(inflater, container, false);\n",
    "\n",
    "        CommentAdapter commentAdapter = new CommentAdapter(new CommentComparator());\n",
    "        viewModel = new ViewModelProvider(this).get(CommentsViewModel.class);\n",
    "\n",
    "        viewModel.comments.observe(getViewLifecycleOwner(), response -> {\n",
    "            if (response.status == Status.SUCCESS) {\n",
    "                    List<CommentResponseItem> data = response.data;\n",
    "                    if (data != null) {\n",
    "                        commentAdapter.submitList(data);\n",
    "                    }\n",
    "                } else if (response.status == Status.ERROR) {\n",
    "                    // Obsługa błędu\n",
    "                } else if (response.status == Status.LOADING) {\n",
    "                    // Obsługa stanu ładowania\n",
    "                }\n",
    "        });\n",
    "\n",
    "        binding.recycler.setLayoutManager(new LinearLayoutManager(requireContext()));\n",
    "        binding.recycler.setAdapter(commentAdapter);\n",
    "\n",
    "        return binding.getRoot();\n",
    "    }\n",
    "}"
   ]
  },
  {
   "cell_type": "markdown",
   "id": "93475cbb-65aa-4544-b91b-f8bd090502f6",
   "metadata": {},
   "source": [
    "- `if (response.status == Status.SUCCESS) { ... }`: Jeśli stan `response` to `Resource.success`, to dostarczana jest lista komentarzy dostępną w `response.data`.\n",
    "- `else if (response.status == Status.ERROR)`: Jeśli stan `response` to `Resource.error`, to nie są podejmowane żadne działania. Tutaj można dodać obsługę błędów, np. wyświetlanie komunikatu o błędzie.\n",
    "- `else if (response.status == Status.LOADING)`: Jeśli stan `response` to `Resource.loading`, to nie są podejmowane żadne działania. To może być miejsce na wyświetlenie wskaźnika ładowania lub innej informacji o trwającym procesie ładowania."
   ]
  },
  {
   "cell_type": "markdown",
   "id": "ef4a5dc3-62ca-4256-9e36-3ce829180d69",
   "metadata": {},
   "source": [
    "Możemy przetestować aplikację."
   ]
  },
  {
   "cell_type": "markdown",
   "id": "da2e554c-8582-445f-b26e-5cc57bb64eee",
   "metadata": {},
   "source": [
    "<img src=\"https://media0.giphy.com/media/v1.Y2lkPTc5MGI3NjExNXRjMjNlbjJmYTNiMW45OW1iZmh2dnpzN2l1MmxsejB0eWlqNDNnMCZlcD12MV9pbnRlcm5hbF9naWZfYnlfaWQmY3Q9Zw/6lIYVQa6srpVlsTU7u/giphy.gif\" width=\"200\" />"
   ]
  }
 ],
 "metadata": {
  "kernelspec": {
   "display_name": "Kotlin",
   "language": "kotlin",
   "name": "kotlin"
  },
  "language_info": {
   "codemirror_mode": "text/x-kotlin",
   "file_extension": ".kt",
   "mimetype": "text/x-kotlin",
   "name": "kotlin",
   "nbconvert_exporter": "",
   "pygments_lexer": "kotlin",
   "version": "1.8.0-RC"
  }
 },
 "nbformat": 4,
 "nbformat_minor": 5
}
