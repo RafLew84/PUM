{
 "cells": [
  {
   "cell_type": "markdown",
   "id": "be8d0400-585e-487b-9b4d-54394c3eb4e5",
   "metadata": {},
   "source": [
    "# ResourceBound Pattern - Podstawy"
   ]
  },
  {
   "cell_type": "markdown",
   "id": "61594d78-a2f7-48bf-b661-21d28eb671df",
   "metadata": {},
   "source": [
    "W tej aplikacji przyjrzymy się zastosowaniu biblioteki zastosowaniu wzorca `ResourceBound`, który ułatwia obsługę różnych stanów (ładowanie, błąd, sukces) w przypadku obsługi danych z zewnętrznych serwisów."
   ]
  },
  {
   "cell_type": "markdown",
   "id": "97d50cba-f882-4185-8648-07a8716b0f81",
   "metadata": {},
   "source": [
    "<img src=\"https://media0.giphy.com/media/v1.Y2lkPTc5MGI3NjExNXRjMjNlbjJmYTNiMW45OW1iZmh2dnpzN2l1MmxsejB0eWlqNDNnMCZlcD12MV9pbnRlcm5hbF9naWZfYnlfaWQmY3Q9Zw/6lIYVQa6srpVlsTU7u/giphy.gif\" width=\"200\" />"
   ]
  },
  {
   "cell_type": "markdown",
   "id": "92d93bab-d726-4422-b296-05046badd1e2",
   "metadata": {},
   "source": [
    "Klasa `Resource` jest przydatna, gdy chcemy przekazywać różne stany operacji do interfejsu użytkownika. Na przykład, gdy pobieramy dane z sieci, możemy używać `Resource` do informowania interfejsu użytkownika o stanie ładowania, sukcesie lub błędzie, a także dostarczyć odpowiednie dane i komunikaty w zależności od wyniku operacji. Jest to często stosowane w architekturze **MVVM** (Model-View-ViewModel), aby lepiej zarządzać stanem interfejsu użytkownika i przekazywać wyniki operacji do widoku."
   ]
  },
  {
   "cell_type": "markdown",
   "id": "acfc2812-6312-4598-8d81-1452e67f1546",
   "metadata": {},
   "source": [
    "W tej aplikacji również wykorzystamy  [**JSONPlaceholder**](https://jsonplaceholder.typicode.com/), tym razem z endpointem `comments`"
   ]
  },
  {
   "cell_type": "markdown",
   "id": "24ccdb2a-97ce-4eae-9c11-d9c4f24a3ac5",
   "metadata": {},
   "source": [
    "Nasza aplikacja wymaga dostępu do internetu, aby go uzyskać musimy dodać deklarację uprawnienia w pliku konfiguracyjnym aplikacji, który nazywa się `AndroidManifest.xml`. To uprawnienie informuje system operacyjny Android, że aplikacja potrzebuje dostępu do internetu."
   ]
  },
  {
   "cell_type": "code",
   "execution_count": null,
   "id": "62fe224d-fe20-42db-ab04-2aa796d52840",
   "metadata": {},
   "outputs": [],
   "source": [
    "<uses-permission android:name=\"android.permission.INTERNET\"/>"
   ]
  },
  {
   "cell_type": "markdown",
   "id": "00596d0c-fcde-462a-bd99-5dbfe9ffcb0a",
   "metadata": {},
   "source": [
    "Rozpocznijmy od dodania zależności\n",
    "```kotlin\n",
    "    implementation (libs.retrofit)\n",
    "    implementation (libs.gson)\n",
    "    implementation (libs.converter.gson)\n",
    "\n",
    "    // ViewModel\n",
    "    implementation (libs.androidx.lifecycle.viewmodel.ktx)\n",
    "    //Fragment\n",
    "    implementation (libs.androidx.fragment.ktx)\n",
    "```\n",
    "\n",
    "```kotlin\n",
    "[versions]\n",
    "agp = \"8.5.2\"\n",
    "converterGson = \"2.11.0\"\n",
    "fragmentKtx = \"1.8.2\"\n",
    "gson = \"2.10.1\"\n",
    "kotlin = \"1.9.0\"\n",
    "coreKtx = \"1.13.1\"\n",
    "junit = \"4.13.2\"\n",
    "junitVersion = \"1.2.1\"\n",
    "espressoCore = \"3.6.1\"\n",
    "appcompat = \"1.7.0\"\n",
    "lifecycleViewmodelKtx = \"2.8.4\"\n",
    "material = \"1.12.0\"\n",
    "activity = \"1.9.1\"\n",
    "constraintlayout = \"2.1.4\"\n",
    "\n",
    "[libraries]\n",
    "androidx-core-ktx = { group = \"androidx.core\", name = \"core-ktx\", version.ref = \"coreKtx\" }\n",
    "androidx-fragment-ktx = { module = \"androidx.fragment:fragment-ktx\", version.ref = \"fragmentKtx\" }\n",
    "androidx-lifecycle-viewmodel-ktx = { module = \"androidx.lifecycle:lifecycle-viewmodel-ktx\", version.ref = \"lifecycleViewmodelKtx\" }\n",
    "converter-gson = { module = \"com.squareup.retrofit2:converter-gson\", version.ref = \"converterGson\" }\n",
    "gson = { module = \"com.google.code.gson:gson\", version.ref = \"gson\" }\n",
    "junit = { group = \"junit\", name = \"junit\", version.ref = \"junit\" }\n",
    "androidx-junit = { group = \"androidx.test.ext\", name = \"junit\", version.ref = \"junitVersion\" }\n",
    "androidx-espresso-core = { group = \"androidx.test.espresso\", name = \"espresso-core\", version.ref = \"espressoCore\" }\n",
    "androidx-appcompat = { group = \"androidx.appcompat\", name = \"appcompat\", version.ref = \"appcompat\" }\n",
    "material = { group = \"com.google.android.material\", name = \"material\", version.ref = \"material\" }\n",
    "androidx-activity = { group = \"androidx.activity\", name = \"activity\", version.ref = \"activity\" }\n",
    "androidx-constraintlayout = { group = \"androidx.constraintlayout\", name = \"constraintlayout\", version.ref = \"constraintlayout\" }\n",
    "retrofit = { module = \"com.squareup.retrofit2:retrofit\", version.ref = \"converterGson\" }\n",
    "\n",
    "[plugins]\n",
    "android-application = { id = \"com.android.application\", version.ref = \"agp\" }\n",
    "jetbrains-kotlin-android = { id = \"org.jetbrains.kotlin.android\", version.ref = \"kotlin\" }\n",
    "\n",
    "\n",
    "```"
   ]
  },
  {
   "cell_type": "markdown",
   "id": "25d53281-0264-4336-a29d-35d6abd44681",
   "metadata": {},
   "source": [
    "Następnie dodajmy model danych"
   ]
  },
  {
   "cell_type": "code",
   "execution_count": null,
   "id": "99cb2ebc-aebe-4a11-b4ee-09a6c8a787ad",
   "metadata": {},
   "outputs": [],
   "source": [
    "data class CommentResponseItem(\n",
    "    val body: String,\n",
    "    val email: String,\n",
    "    val id: Int,\n",
    "    val name: String,\n",
    "    val postId: Int\n",
    ")"
   ]
  },
  {
   "cell_type": "markdown",
   "id": "dcaa3c5b-3b03-4c4a-bb37-0cb59231ea14",
   "metadata": {},
   "source": [
    "Następnie dodajmy interfejs"
   ]
  },
  {
   "cell_type": "code",
   "execution_count": null,
   "id": "b2b6968e-180a-4191-803b-2d726223da17",
   "metadata": {},
   "outputs": [],
   "source": [
    "interface PlaceholderApi {\n",
    "    @GET(\"comments\")\n",
    "    suspend fun comments(): Response<List<CommentResponseItem>>\n",
    "}"
   ]
  },
  {
   "cell_type": "markdown",
   "id": "afea9e90-160d-4e61-810a-7ff55e15d39c",
   "metadata": {},
   "source": [
    "Zwróćmy uwagę na zastosowanie obiektu `Response`, jest to obiekt, który reprezentuje odpowiedź HTTP otrzymaną od serwera po wysłaniu żądania HTTP. Jest to ważny element przy pracy z `Retrofit`, ponieważ umożliwia analizę wyników operacji sieciowych.\n",
    "\n",
    "- Reprezentacja odpowiedzi HTTP: `Response` zawiera wszystkie informacje otrzymane od serwera w odpowiedzi na żądanie HTTP. Obejmuje to kod stanu HTTP, nagłówki, dane i inne metadane.\n",
    "- Kod stanu HTTP: Obiekt `Response` zawiera kod stanu HTTP, który informuje o wyniku żądania. Na przykład, kod stanu 200 oznacza sukces, a kody stanu 4xx i 5xx oznaczają błędy. Możesz użyć kodu stanu, aby określić, czy operacja zakończyła się sukcesem czy błędem.\n",
    "- Dane odpowiedzi: `Response` może zawierać dane przesłane przez serwer. Odpowiedź może być w formacie JSON, XML, tekstu lub innym, w zależności od formatu danych przekazywanych między klientem a serwerem.\n",
    "- Nagłówki HTTP: Obiekt `Response` może również zawierać nagłówki HTTP przekazane przez serwer. Nagłówki mogą zawierać różne metadane dotyczące odpowiedzi, takie jak typ treści, długość treści, dane uwierzytelniające itp.\n",
    "- Przetwarzanie odpowiedzi: Za pomocą obiektów `Response` można przetwarzać odpowiedzi w celu wyodrębnienia potrzebnych danych lub informacji zwrotnych z serwera.\n",
    "- Obsługa błędów: `Response` umożliwia obsługę błędów HTTP. Jeśli serwer zwraca błąd, można to wykryć na podstawie kodu stanu i podjąć odpowiednie kroki, takie jak wyświetlenie komunikatu o błędzie użytkownikowi.\n",
    "- Sprawdzanie poprawności odpowiedzi: Przy użyciu `Response` można sprawdzać, czy odpowiedź jest poprawna i zawiera oczekiwane dane.\n",
    "- Przykładowe operacje na obiekcie `Response` w `Retrofit` obejmują sprawdzanie kodu stanu za pomocą `response.isSuccessful()`, odczytywanie danych za pomocą `response.body()`, pobieranie nagłówków za pomocą `response.headers()`, a także obsługę błędów, jeśli odpowiedź jest niepoprawna.\n",
    "- Obiekty typu `Response` są używane w celu skonkretyzowania i analizy wyników operacji sieciowych."
   ]
  },
  {
   "cell_type": "markdown",
   "id": "89428c3f-1cd2-4a6a-804e-7d5a3c8421a0",
   "metadata": {},
   "source": [
    "Dodajmy instancję `Retrofit` oraz repozytorium."
   ]
  },
  {
   "cell_type": "code",
   "execution_count": null,
   "id": "e592d7a9-64e6-4e6d-8d6d-175cb8298183",
   "metadata": {},
   "outputs": [],
   "source": [
    "object RetrofitInstance {\n",
    "    val api: PlaceholderApi by lazy {\n",
    "        Retrofit.Builder()\n",
    "            .baseUrl(\"https://jsonplaceholder.typicode.com/\")\n",
    "            .addConverterFactory(GsonConverterFactory.create())\n",
    "            .build()\n",
    "            .create(PlaceholderApi::class.java)\n",
    "    }\n",
    "}"
   ]
  },
  {
   "cell_type": "code",
   "execution_count": null,
   "id": "62d2445d-df3d-4c80-a978-27076050dec8",
   "metadata": {},
   "outputs": [],
   "source": [
    "class CommentRepository {\n",
    "    private val api = RetrofitInstance.api\n",
    "\n",
    "    suspend fun getComments() = api.comments()\n",
    "}"
   ]
  },
  {
   "cell_type": "markdown",
   "id": "4967163b-f35d-4d8f-975f-32b5b0fd5a65",
   "metadata": {},
   "source": [
    "Zanim przejdziemy do viewmodelu, dodajmy klasę `Resource`, która pozwoli nam reprezentować różne stany operacji."
   ]
  },
  {
   "cell_type": "code",
   "execution_count": null,
   "id": "488d8e66-fcb5-4eaa-b7c7-d2c25486f624",
   "metadata": {},
   "outputs": [],
   "source": [
    "sealed class Resource<T> (\n",
    "    val data: T? = null,\n",
    "    val message: String? = null\n",
    "){\n",
    "    class Success<T>(data: T) : Resource<T>(data)\n",
    "    class Error<T>(message: String, data: T? = null) : Resource<T>(data, message)\n",
    "    class Loading<T> : Resource<T>()\n",
    "}"
   ]
  },
  {
   "cell_type": "markdown",
   "id": "63ab1cfb-2be3-4617-9723-73455acb1de1",
   "metadata": {},
   "source": [
    "- `sealed class Resource<T>`: Jest to deklaracja klasy `Resource`, która jest opakowaniem wyniku operacji. Parametr generyczny `T` oznacza typ danych, które będą przechowywane w obiekcie `Resource`.\n",
    "- `val data: T? = null`: To jest pole `data`, które przechowuje wynik operacji. Może to być obiekt zawierający `dane` lub `null`, jeśli operacja nie zwróciła wyniku.\n",
    "- `val message: String? = null`: To jest pole `message`, które może zawierać wiadomość lub komunikat związany z wynikiem operacji. Jest to przydatne do przechowywania informacji zwrotnych lub błędów.\n",
    "- `class Success<T>(data: T) : Resource<T>(data)`: Jest to podklasa `Resource`, która reprezentuje sukces operacji. Przyjmuje dane (`data`) jako argument konstruktora.\n",
    "- `class Error<T>(message: String, data: T? = null) : Resource<T>(data, message)`: Jest to podklasa `Resource`, która reprezentuje błąd operacji. Przyjmuje wiadomość błędu (`message`) i opcjonalnie dane związane z błędem (`data`) jako argumenty konstruktora.\n",
    "- `class Loading<T> : Resource<T>()`: Jest to podklasa `Resource`, która reprezentuje stan ładowania. Nie przyjmuje żadnych danych. Jest używana do informowania interfejsu użytkownika, że operacja jest w trakcie wykonywania."
   ]
  },
  {
   "cell_type": "markdown",
   "id": "f5d6abe8-988b-436b-87ff-42902986d5ba",
   "metadata": {},
   "source": [
    "Następnie przejdźmy do implementacji viewmodel."
   ]
  },
  {
   "cell_type": "code",
   "execution_count": null,
   "id": "9c79b2f0-bef5-46fb-ae32-8d06f210b5cb",
   "metadata": {},
   "outputs": [],
   "source": [
    "class CommentsViewModel : ViewModel() {\n",
    "    private val repository = CommentRepository()\n",
    "    private var _comments: MutableStateFlow<Resource<List<CommentResponseItem>>> = MutableStateFlow(Resource.Loading())\n",
    "    val comments: StateFlow<Resource<List<CommentResponseItem>>> = _comments\n",
    "\n",
    "    init {\n",
    "        getCommentsList()\n",
    "    }\n",
    "\n",
    "    private fun getCommentsList() = viewModelScope.launch {\n",
    "        _comments.value = Resource.Loading()\n",
    "        val response = repository.getComments()\n",
    "        _comments.value = handleCommentsResponse(response)\n",
    "    }\n",
    "\n",
    "    private fun handleCommentsResponse(response: Response<List<CommentResponseItem>>)\n",
    "            : Resource<List<CommentResponseItem>> {\n",
    "        if (response.isSuccessful)\n",
    "            response.body()?.let { return Resource.Success(it) }\n",
    "        return Resource.Error(response.message())\n",
    "    }\n",
    "}"
   ]
  },
  {
   "cell_type": "markdown",
   "id": "a2fe5927-4761-4530-bb39-7c3200158032",
   "metadata": {},
   "source": [
    "Funkcja `handleCommentsResponse` jest używana do przetwarzania odpowiedzi HTTP z serwera w celu utworzenia odpowiedniego obiektu `Resource`. W zależności od wyniku operacji sieciowej, funkcja ta zwraca `Resource.Success` z danymi komentarzy lub `Resource.Error` z komunikatem błędu. "
   ]
  },
  {
   "cell_type": "markdown",
   "id": "a4c63b16-acc8-4d46-a12a-9c15564ff5e1",
   "metadata": {},
   "source": [
    "- `if (response.isSuccessful)`: To jest warunek sprawdzający, czy odpowiedź jest udana. `response.isSuccessful` zwraca `true`, jeśli kod stanu HTTP w odpowiedzi jest w zakresie 2xx, co oznacza sukces.\n",
    "- `response.body()?.let { return Resource.Success(it) }`: Jeśli odpowiedź jest udana, to wykorzystywany jest operator `?.let`, który sprawdza, czy ciało odpowiedzi (`response.body()`) nie jest `null`, a następnie tworzy obiekt `Resource.Success` z danymi komentarzy i go zwraca. Ten obiekt oznacza sukces operacji i zawiera dane komentarzy.\n",
    "- `return Resource.Error(response.message())`: Jeśli odpowiedź nie jest udana (kod stanu HTTP jest różny od 2xx), to jest tworzony obiekt `Resource.Error` z komunikatem błędu uzyskanym z odpowiedzi (`response.message()`). Ten obiekt oznacza błąd operacji."
   ]
  },
  {
   "cell_type": "markdown",
   "id": "35fb5e9a-5dc2-470a-9f9e-0dbcbd52d512",
   "metadata": {},
   "source": [
    "Funkcja `getCommentsList()` jest odpowiedzialna za inicjowanie operacji pobierania listy komentarzy, ustawianie odpowiedniego stanu `_comments` (`Loading`), wykonanie żądania HTTP, przetworzenie odpowiedzi i zaktualizowanie stanu `_comments` w zależności od wyniku operacji."
   ]
  },
  {
   "cell_type": "markdown",
   "id": "6ad8fd3e-2a70-453e-8e30-289cfb6a576c",
   "metadata": {},
   "source": [
    "- `_comments.value = Resource.Loading()`: Na początku funkcja ustawia stan `_comments` na `Resource.Loading()`, co oznacza, że operacja pobierania jest w trakcie wykonywania. Jest to sygnał dla interfejsu użytkownika, że aplikacja jest w trakcie ładowania danych.\n",
    "- `val response = repository.getComments()`: Następnie funkcja wywołuje metodę `getComments()` na instancji `repository`, aby wysłać żądanie HTTP do serwera w celu pobrania listy komentarzy.\n",
    "- `_comments.value = handleCommentsResponse(response)`: Po otrzymaniu odpowiedzi HTTP, funkcja przekazuje ten obiekt `Response` do funkcji `handleCommentsResponse(response)`. Ta funkcja przetwarza odpowiedź i zwraca odpowiedni obiekt `Resource`, który reprezentuje stan komentarzy. Wynik jest przypisywany do `_comments`, co aktualizuje stan komentarzy w `CommentsViewModel`."
   ]
  },
  {
   "cell_type": "markdown",
   "id": "7abc47fc-d123-4536-874d-7b9ccdc428bd",
   "metadata": {},
   "source": [
    "Przejdźmy do fragmentu oraz elementów `RecyclerView`."
   ]
  },
  {
   "cell_type": "code",
   "execution_count": null,
   "id": "a1923276-aa46-49e4-b3e6-cc7c65d230ff",
   "metadata": {},
   "outputs": [],
   "source": [
    "class CommentViewHolder(private val binding: RvItemBinding) : RecyclerView.ViewHolder(binding.root) {\n",
    "    fun bind(item: CommentResponseItem) {\n",
    "        binding.apply {\n",
    "            title.text = item.name\n",
    "            body.text = item.body\n",
    "            commentId.text = item.postId.toString()\n",
    "        }\n",
    "    }\n",
    "}"
   ]
  },
  {
   "cell_type": "code",
   "execution_count": null,
   "id": "772df21a-529e-4169-84bd-893c0d4a13a0",
   "metadata": {},
   "outputs": [],
   "source": [
    "class CommentComparator : DiffUtil.ItemCallback<CommentResponseItem>() {\n",
    "    override fun areItemsTheSame(oldItem: CommentResponseItem, newItem: CommentResponseItem): Boolean {\n",
    "        return oldItem === newItem\n",
    "    }\n",
    "\n",
    "    override fun areContentsTheSame(oldItem: CommentResponseItem, newItem: CommentResponseItem): Boolean {\n",
    "        return oldItem == newItem\n",
    "    }\n",
    "}"
   ]
  },
  {
   "cell_type": "code",
   "execution_count": null,
   "id": "f91675ad-88aa-431a-beec-f75b66944bd6",
   "metadata": {},
   "outputs": [],
   "source": [
    "class CommentAdapter(userComparator: CommentComparator) : ListAdapter<CommentResponseItem, CommentViewHolder>(userComparator) {\n",
    "    override fun onCreateViewHolder(parent: ViewGroup, viewType: Int): CommentViewHolder {\n",
    "        return CommentViewHolder(\n",
    "            RvItemBinding.inflate(\n",
    "                LayoutInflater.from(parent.context), parent, false\n",
    "            )\n",
    "        )\n",
    "    }\n",
    "\n",
    "    override fun onBindViewHolder(holder: CommentViewHolder, position: Int) {\n",
    "        val item = getItem(position)\n",
    "        holder.bind(item)\n",
    "    }\n",
    "}"
   ]
  },
  {
   "cell_type": "code",
   "execution_count": null,
   "id": "cc553dfc-0900-455d-8ae3-7a5b87c4d3ee",
   "metadata": {},
   "outputs": [],
   "source": [
    "class CommentsFragment : Fragment() {\n",
    "\n",
    "    private lateinit var binding: FragmentCommentsBinding\n",
    "\n",
    "    private val viewModel: CommentsViewModel by viewModels()\n",
    "\n",
    "    override fun onCreateView(\n",
    "        inflater: LayoutInflater, container: ViewGroup?,\n",
    "        savedInstanceState: Bundle?\n",
    "    ): View {\n",
    "        binding = FragmentCommentsBinding.inflate(inflater)\n",
    "\n",
    "        val commentAdapter = CommentAdapter(CommentComparator())\n",
    "        viewLifecycleOwner.lifecycleScope.launch {\n",
    "            viewModel.comments.collectLatest { response ->\n",
    "                when (response) {\n",
    "                    is Resource.Success -> {\n",
    "                        response.data?.let { res ->\n",
    "                            commentAdapter.submitList(res)\n",
    "                        }\n",
    "                    }\n",
    "\n",
    "                    is Resource.Error -> {}\n",
    "                    is Resource.Loading -> {}\n",
    "                }\n",
    "            }\n",
    "        }\n",
    "\n",
    "        binding.recycler.apply{\n",
    "            adapter = commentAdapter\n",
    "            layoutManager = LinearLayoutManager(requireContext())\n",
    "        }\n",
    "\n",
    "        return binding.root\n",
    "    }\n",
    "}"
   ]
  },
  {
   "cell_type": "markdown",
   "id": "93475cbb-65aa-4544-b91b-f8bd090502f6",
   "metadata": {},
   "source": [
    "`when (response) { ... }`: Jest to konstrukcja `when`, która w zależności od stanu response wyświetla odpowiedni widok. Możliwe stany to `Resource.Success`, `Resource.Error` i `Resource.Loading`.\n",
    "- `is Resource.Success -> { response.data?.let { ShowList(comments = it) } }`: Jeśli stan `response` to `Resource.Success`, to wywoływana jest funkcja `ShowList` z listą komentarzy dostępną w `response.data`.\n",
    "- `is Resource.Error -> { }`: Jeśli stan `response` to `Resource.Error`, to nie są podejmowane żadne działania. Tutaj można dodać obsługę błędów, np. wyświetlanie komunikatu o błędzie.\n",
    "- `is Resource.Loading -> { }`: Jeśli stan `response` to `Resource.Loading`, to nie są podejmowane żadne działania. To może być miejsce na wyświetlenie wskaźnika ładowania lub innej informacji o trwającym procesie ładowania."
   ]
  },
  {
   "cell_type": "markdown",
   "id": "ef4a5dc3-62ca-4256-9e36-3ce829180d69",
   "metadata": {},
   "source": [
    "Możemy przetestować aplikację."
   ]
  },
  {
   "cell_type": "markdown",
   "id": "da2e554c-8582-445f-b26e-5cc57bb64eee",
   "metadata": {},
   "source": [
    "<img src=\"https://media0.giphy.com/media/v1.Y2lkPTc5MGI3NjExNXRjMjNlbjJmYTNiMW45OW1iZmh2dnpzN2l1MmxsejB0eWlqNDNnMCZlcD12MV9pbnRlcm5hbF9naWZfYnlfaWQmY3Q9Zw/6lIYVQa6srpVlsTU7u/giphy.gif\" width=\"200\" />"
   ]
  }
 ],
 "metadata": {
  "kernelspec": {
   "display_name": "Kotlin",
   "language": "kotlin",
   "name": "kotlin"
  },
  "language_info": {
   "codemirror_mode": "text/x-kotlin",
   "file_extension": ".kt",
   "mimetype": "text/x-kotlin",
   "name": "kotlin",
   "nbconvert_exporter": "",
   "pygments_lexer": "kotlin",
   "version": "1.8.0-RC"
  }
 },
 "nbformat": 4,
 "nbformat_minor": 5
}
