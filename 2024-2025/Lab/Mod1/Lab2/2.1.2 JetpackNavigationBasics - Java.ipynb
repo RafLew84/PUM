{
 "cells": [
  {
   "cell_type": "markdown",
   "id": "542ad95e-a526-4e4a-80ca-999140664cd4",
   "metadata": {
    "tags": []
   },
   "source": [
    "## Jetpack Navigation"
   ]
  },
  {
   "cell_type": "markdown",
   "id": "129f76fa-e7e1-482f-9b3e-bae06cd45b3b",
   "metadata": {},
   "source": [
    "`Jetpack Navigation` to zestaw bibliotek dostarczających narzędzia do zarządzania nawigacją. Został stworzony, aby ułatwić rozwijanie aplikacji z wieloma ekranami poprzez zapewnienie jednolitej struktury nawigacji w całej aplikacji.\n",
    "\n",
    "Składa się z trzech głównych komponentów:\n",
    "- `NavHost` - to kontener, który jest używany do przechowywania fragmentów zdefiniowanych w plikach nawigacyjnych.\n",
    "- `NavController` - to obiekt, który jest używany do nawigowania między fragmentami i akcjami w pliku nawigacyjnym.\n",
    "- Plik nawigacyjny - to plik zdefiniowany w `XML`, który zawiera informacje o strukturze nawigacji aplikacji, takie jak fragmenty, akcje i argumenty.\n",
    "\n",
    "`Jetpack Navigation` oferuje wiele zalet, w tym łatwość konfigurowania nawigacji w aplikacji, ułatwienie przekazywania danych między fragmentami i możliwość korzystania z animacji przejść między fragmentami. Dodatkowo, narzędzie to umożliwia tworzenie nawigacji opartych na warunkach i obsługiwanie nawigacji w interfejsach użytkownika, takich jak paski narzędzi i menu. Nie ma potrzeby jawnego definiowania transakcji między fragmentami, ani zarządzania back stackiem."
   ]
  },
  {
   "cell_type": "markdown",
   "id": "872fe421-59d4-416a-817f-b4bf12b4d5f4",
   "metadata": {},
   "source": [
    "Aplikacja posłuży nam do zapoznania się z podstawami Jetpack Navigation."
   ]
  },
  {
   "cell_type": "markdown",
   "id": "d1a41d32-86c2-444f-80a4-dcb9e3a6f4b0",
   "metadata": {},
   "source": [
    "W pierwszym kroku musimy dodać `Navigation` do projektu - przejdźmy do pliku `libs.versions.toml`"
   ]
  },
  {
   "cell_type": "markdown",
   "id": "437fbf2d-8d53-4712-a91a-61139dd653f1",
   "metadata": {},
   "source": [
    "W bloku `[versions]` zdefiniujmy wersję nawigacji - aktualnie jest to `2.7.7`"
   ]
  },
  {
   "cell_type": "code",
   "execution_count": null,
   "id": "95a2c521-91f9-484f-906d-8edfeb9abd03",
   "metadata": {},
   "outputs": [],
   "source": [
    "navigationFragment = \"2.7.7\"\n",
    "navigationUi = \"2.7.7\""
   ]
  },
  {
   "cell_type": "markdown",
   "id": "87eb627f-539b-4e5e-9b53-606af1209dfe",
   "metadata": {},
   "source": [
    "W bloku `[libraries]` dodajemy nawigację"
   ]
  },
  {
   "cell_type": "code",
   "execution_count": null,
   "id": "f39632dd-15d1-4a90-9133-304368daefac",
   "metadata": {},
   "outputs": [],
   "source": [
    "navigation-fragment = { group = \"androidx.navigation\", name = \"navigation-fragment\", version.ref = \"navigationFragment\" }\n",
    "navigation-ui = { group = \"androidx.navigation\", name = \"navigation-ui\", version.ref = \"navigationUi\" }"
   ]
  },
  {
   "cell_type": "markdown",
   "id": "2a609725-4f00-4259-9b4e-efea6dbf0d19",
   "metadata": {},
   "source": [
    "Przejdźmy do pliku `build.gradle (Module)`. Tutaj dodajemy plugin w bloku `plugins`"
   ]
  },
  {
   "cell_type": "code",
   "execution_count": null,
   "id": "0b449647-d184-4fef-8104-6be61bb3c6fb",
   "metadata": {},
   "outputs": [],
   "source": [
    "plugins {\n",
    "    alias(libs.plugins.android.application)\n",
    "    id (\"androidx.navigation.safeargs\")\n",
    "}"
   ]
  },
  {
   "cell_type": "markdown",
   "id": "ac10398d-327d-4d7e-814c-f388f9a33f95",
   "metadata": {},
   "source": [
    "Następnie w pliku `build.gradle (Project)` dodajemy"
   ]
  },
  {
   "cell_type": "code",
   "execution_count": null,
   "id": "9cde9219-7d3e-4cd7-9777-132f63e2a8c2",
   "metadata": {},
   "outputs": [],
   "source": [
    "// Top-level build file where you can add configuration options common to all sub-projects/modules.\n",
    "buildscript { // przed blokiem plugins\n",
    "    repositories {\n",
    "        mavenCentral()\n",
    "    }\n",
    "\n",
    "    dependencies {\n",
    "        classpath (\"androidx.navigation:navigation-safe-args-gradle-plugin:2.7.7\")\n",
    "    }\n",
    "}\n",
    "plugins {\n",
    "    alias(libs.plugins.android.application) apply false\n",
    "}"
   ]
  },
  {
   "cell_type": "markdown",
   "id": "7fb995dc-b7c6-4f38-861b-66f6ab4e52c9",
   "metadata": {},
   "source": [
    "Dodajmy do projektu dwa fragmenty"
   ]
  },
  {
   "cell_type": "code",
   "execution_count": null,
   "id": "129a3645-5c41-42d5-b355-8b25ae5be05e",
   "metadata": {},
   "outputs": [],
   "source": [
    "public class FragmentA extends Fragment {\n",
    "\n",
    "    private FragmentABinding binding;\n",
    "\n",
    "    @Override\n",
    "    public View onCreateView(@NonNull LayoutInflater inflater, ViewGroup container,\n",
    "                             Bundle savedInstanceState) {\n",
    "        binding = FragmentABinding.inflate(inflater);\n",
    "        return binding.getRoot();\n",
    "    }\n",
    "}"
   ]
  },
  {
   "cell_type": "code",
   "execution_count": null,
   "id": "3e2563bb-b09e-4e1b-ae4b-4264e331386f",
   "metadata": {},
   "outputs": [],
   "source": [
    "public class FragmentB extends Fragment {\n",
    "\n",
    "    private FragmentBBinding binding;\n",
    "\n",
    "    @Override\n",
    "    public View onCreateView(@NonNull LayoutInflater inflater, ViewGroup container,\n",
    "                             Bundle savedInstanceState) {\n",
    "        binding = FragmentBBinding.inflate(inflater);\n",
    "        return binding.getRoot();\n",
    "    }\n",
    "}"
   ]
  },
  {
   "cell_type": "code",
   "execution_count": null,
   "id": "b1c216cd-7c4c-44d8-af02-eb0efe450606",
   "metadata": {},
   "outputs": [],
   "source": [
    "<?xml version=\"1.0\" encoding=\"utf-8\"?>\n",
    "<FrameLayout xmlns:android=\"http://schemas.android.com/apk/res/android\"\n",
    "    xmlns:tools=\"http://schemas.android.com/tools\"\n",
    "    android:layout_width=\"match_parent\"\n",
    "    android:layout_height=\"match_parent\"\n",
    "    tools:context=\".FragmentA\">\n",
    "\n",
    "    <TextView\n",
    "        android:layout_width=\"match_parent\"\n",
    "        android:layout_height=\"match_parent\"\n",
    "        android:text=\"FRAGMENT A\"\n",
    "        android:textColor=\"@color/black\"\n",
    "        android:textSize=\"36sp\"\n",
    "        android:layout_gravity=\"center_horizontal\"\n",
    "        android:gravity=\"center\"/>\n",
    "\n",
    "    <com.google.android.material.floatingactionbutton.FloatingActionButton\n",
    "        android:id=\"@+id/fabA\"\n",
    "        android:layout_width=\"wrap_content\"\n",
    "        android:layout_height=\"wrap_content\"\n",
    "        android:layout_margin=\"16dp\"\n",
    "        android:clickable=\"true\"\n",
    "        android:src=\"@android:drawable/arrow_up_float\"\n",
    "        android:contentDescription=\"FAB\" />\n",
    "</FrameLayout>"
   ]
  },
  {
   "cell_type": "code",
   "execution_count": null,
   "id": "3f221653-b20c-4d7a-9523-9464c1a3086d",
   "metadata": {},
   "outputs": [],
   "source": [
    "<?xml version=\"1.0\" encoding=\"utf-8\"?>\n",
    "<FrameLayout xmlns:android=\"http://schemas.android.com/apk/res/android\"\n",
    "    xmlns:tools=\"http://schemas.android.com/tools\"\n",
    "    android:layout_width=\"match_parent\"\n",
    "    android:layout_height=\"match_parent\"\n",
    "    tools:context=\".FragmentB\">\n",
    "\n",
    "    <TextView\n",
    "        android:layout_width=\"match_parent\"\n",
    "        android:layout_height=\"match_parent\"\n",
    "        android:text=\"FRAGMENT B\"\n",
    "        android:textColor=\"@color/black\"\n",
    "        android:textSize=\"36sp\"\n",
    "        android:layout_gravity=\"center_horizontal\"\n",
    "        android:gravity=\"center\"/>\n",
    "\n",
    "    <com.google.android.material.floatingactionbutton.FloatingActionButton\n",
    "        android:id=\"@+id/fabB\"\n",
    "        android:layout_width=\"wrap_content\"\n",
    "        android:layout_height=\"wrap_content\"\n",
    "        android:layout_margin=\"16dp\"\n",
    "        android:clickable=\"true\"\n",
    "        android:src=\"@android:drawable/arrow_up_float\"\n",
    "        android:contentDescription=\"FAB\" />\n",
    "</FrameLayout>"
   ]
  },
  {
   "cell_type": "markdown",
   "id": "5f5e1753-13ad-4f7e-8cf1-29519e94610f",
   "metadata": {},
   "source": [
    "W aplikacji oba fragmenty będą hostowane przez `MainActivity` - dodamy poruszanie się pomiędzy fragmentami oraz przekazanie pomiędzy nimi danych. Rozpocznijmy od dodania komponentu navigation. Otwieramy menu kontekstowe na katalogu `res`, wybieramy **New -> Android Resource File**, następnie jako `Rresource type` wybieramy `Navigation`."
   ]
  },
  {
   "cell_type": "markdown",
   "id": "37406bd3-c158-41e8-af0b-401fa6eca12c",
   "metadata": {},
   "source": [
    "<img src=\"https://media2.giphy.com/media/rT4AlrQTeyMcvxTtWJ/giphy.gif?cid=790b76113217a5c7c107d9af885c7436f4e307b4deecb3ea&rid=giphy.gif&ct=g\" width=\"350\" />"
   ]
  },
  {
   "cell_type": "markdown",
   "id": "f8b33b9a-4f1e-40a0-9333-43d1654966b3",
   "metadata": {},
   "source": [
    "Dodajmy nasze dwa fragmenty do `Navigation` - wybieram **New Destination**"
   ]
  },
  {
   "cell_type": "markdown",
   "id": "0052001e-c67a-4c8f-8ac3-5275456419c3",
   "metadata": {},
   "source": [
    "<img src=\"https://media0.giphy.com/media/SauLtu5l6x2jTx2i9h/giphy.gif?cid=790b7611691e19128a2195d8e2acc46b0710f6dc29ccbf71&rid=giphy.gif&ct=g\" width=\"350\" />"
   ]
  },
  {
   "cell_type": "markdown",
   "id": "effe5143-3419-4fb2-a08a-02681a0b6ec1",
   "metadata": {},
   "source": [
    "Następnie zdefiniujemy dwie akcje - przejście z `FragmentA` do `FragmentB` i przejście z `FragmentB` do `FragmentA`"
   ]
  },
  {
   "cell_type": "markdown",
   "id": "e85f8807-fbdc-45d3-90e2-94b434398643",
   "metadata": {},
   "source": [
    "<img src=\"https://media2.giphy.com/media/3mk9wIGGBFL38MRxQn/giphy.gif?cid=790b76113ee2bedc21833cf2196182a17ac22d49e5002864&rid=giphy.gif&ct=g\" width=\"350\" />"
   ]
  },
  {
   "cell_type": "markdown",
   "id": "2f8bde31-c30b-4ca5-b5e0-1f71e59ae379",
   "metadata": {},
   "source": [
    "Przechodząc do zakładki `Code` widzimy że mamy dodane do nawigacji dwa fragmenty oraz zdefiniowane dwie akcje."
   ]
  },
  {
   "cell_type": "code",
   "execution_count": null,
   "id": "8f1fe941-e1ed-4c35-a704-9e3f1742a4d4",
   "metadata": {},
   "outputs": [],
   "source": [
    "<?xml version=\"1.0\" encoding=\"utf-8\"?>\n",
    "<navigation xmlns:android=\"http://schemas.android.com/apk/res/android\"\n",
    "    xmlns:app=\"http://schemas.android.com/apk/res-auto\"\n",
    "    xmlns:tools=\"http://schemas.android.com/tools\"\n",
    "    android:id=\"@+id/navigation\"\n",
    "    app:startDestination=\"@id/fragmentA\">\n",
    "\n",
    "    <fragment\n",
    "        android:id=\"@+id/fragmentA\"\n",
    "        android:name=\"com.example.a12_jetpacknavigationbasics_java.FragmentA\"\n",
    "        android:label=\"fragment_a\"\n",
    "        tools:layout=\"@layout/fragment_a\" >\n",
    "        <action\n",
    "            android:id=\"@+id/to_fragmentB\"\n",
    "            app:destination=\"@id/fragmentB\" />\n",
    "    </fragment>\n",
    "    <fragment\n",
    "        android:id=\"@+id/fragmentB\"\n",
    "        android:name=\"com.example.a12_jetpacknavigationbasics_java.FragmentB\"\n",
    "        android:label=\"fragment_b\"\n",
    "        tools:layout=\"@layout/fragment_b\" >\n",
    "        <action\n",
    "            android:id=\"@+id/to_fragmentA\"\n",
    "            app:destination=\"@id/fragmentA\" />\n",
    "    </fragment>\n",
    "</navigation>"
   ]
  },
  {
   "cell_type": "markdown",
   "id": "99a7e5b3-49d2-4d0e-86b3-0591d38e9689",
   "metadata": {},
   "source": [
    "W kolejnym kroku umieścimy utworzoną nawigację w głównej aktywności. Przejdźmy do pliku `activity_main.xml`"
   ]
  },
  {
   "cell_type": "code",
   "execution_count": null,
   "id": "35f1cba0-773a-485f-a8a4-fd374147dcca",
   "metadata": {},
   "outputs": [],
   "source": [
    "<?xml version=\"1.0\" encoding=\"utf-8\"?>\n",
    "<androidx.constraintlayout.widget.ConstraintLayout \n",
    "xmlns:android=\"http://schemas.android.com/apk/res/android\"\n",
    "    xmlns:app=\"http://schemas.android.com/apk/res-auto\"\n",
    "    xmlns:tools=\"http://schemas.android.com/tools\"\n",
    "    android:layout_width=\"match_parent\"\n",
    "    android:layout_height=\"match_parent\"\n",
    "    tools:context=\".MainActivity\">\n",
    "\n",
    "    <androidx.fragment.app.FragmentContainerView\n",
    "        android:id=\"@+id/fragmentContainerView\"\n",
    "        android:name=\"androidx.navigation.fragment.NavHostFragment\"\n",
    "        android:layout_width=\"409dp\"\n",
    "        android:layout_height=\"729dp\"\n",
    "        app:defaultNavHost=\"true\"\n",
    "        app:layout_constraintBottom_toBottomOf=\"parent\"\n",
    "        app:layout_constraintEnd_toEndOf=\"parent\"\n",
    "        app:layout_constraintStart_toStartOf=\"parent\"\n",
    "        app:layout_constraintTop_toTopOf=\"parent\"\n",
    "        app:navGraph=\"@navigation/navigation\" />\n",
    "</androidx.constraintlayout.widget.ConstraintLayout>"
   ]
  },
  {
   "cell_type": "markdown",
   "id": "96cab893-8061-4b22-8699-296a2f0de271",
   "metadata": {},
   "source": [
    "Atrybut `app:navGraph` to atrybut ustawiany w pliku `XML` dla widoku `NavHostFragment`, który definiuje **graf nawigacji** dla aplikacji.\n",
    "\n",
    "W grafie nawigacji znajdują się elementy takie jak punkty nawigacji, takie jak ekran startowy, ekrany podrzędne i inne fragmenty, a także ich powiązania, czyli jakie akcje lub przejścia użytkownik może wykonać między nimi.\n",
    "\n",
    "Ustawienie `app:navGraph` na widoku `NavHostFragment` umożliwia aplikacji korzystanie z systemu nawigacji zdefiniowanego w grafie nawigacji. Dzięki temu możemy w łatwy sposób definiować i zarządzać ekranami w naszej aplikacji."
   ]
  },
  {
   "cell_type": "markdown",
   "id": "8578ceb8-3e53-4863-bb21-9b9eb6318398",
   "metadata": {},
   "source": [
    "Umożliwmy teraz przejście pomiędzy fragmentami - przejdźmy do `FragmentA` i w metodzie `onCreateView` zaimplementujmy metodę `onClick` naszego przycisku FAB."
   ]
  },
  {
   "cell_type": "markdown",
   "id": "c2efa3d7-ae22-4e3e-914a-2ade317d888b",
   "metadata": {},
   "source": [
    "`FAB` (*Floating Action Button*), czyli pływający przycisk akcji. Jest to widok w interfejsie użytkownika, który jest przyciskiem akcji zwykle umieszczonym w dolnym prawym rogu ekranu. `FAB` jest popularny w aplikacjach mobilnych, szczególnie w aplikacjach Material Design, ze względu na swoją wygodną lokalizację i wygląd."
   ]
  },
  {
   "cell_type": "code",
   "execution_count": null,
   "id": "01cc1b04-32a7-414d-acfd-372e349b75ae",
   "metadata": {},
   "outputs": [],
   "source": [
    "public class FragmentA extends Fragment {\n",
    "\n",
    "    private FragmentABinding binding;\n",
    "\n",
    "    @Override\n",
    "    public View onCreateView(@NonNull LayoutInflater inflater, ViewGroup container,\n",
    "                             Bundle savedInstanceState) {\n",
    "        binding = FragmentABinding.inflate(inflater);\n",
    "\n",
    "        binding.fabA.setOnClickListener(view -> {\n",
    "            \n",
    "        });\n",
    "\n",
    "        return binding.getRoot();\n",
    "    }\n",
    "}"
   ]
  },
  {
   "cell_type": "markdown",
   "id": "6deee2bd-26fe-47de-9042-9b4cc8dc3f51",
   "metadata": {},
   "source": [
    "W pierwszym kroku powiązujemy zdefiniowaną w `navigation.xml` akcję przejścia z `FragemntA` do `FragmentB` z polem typu `NavDirections`"
   ]
  },
  {
   "cell_type": "code",
   "execution_count": null,
   "id": "b236d2e2-c726-4728-8c9a-f0f92efbe04f",
   "metadata": {},
   "outputs": [],
   "source": [
    "NavDirections action = FragmentADirections.actionFragmentAToFragmentB();"
   ]
  },
  {
   "cell_type": "markdown",
   "id": "24de55cd-6be3-4ce0-b7b7-00888876b80b",
   "metadata": {},
   "source": [
    "`FragmentADirections` to klasa wygenerowana automatycznie przez `Jetpack Navigation`, która zawiera metody umożliwiające nawigację między fragmentami. Metoda `actionFragmentAToFragmentB()` jest jedną z tych metod i zwraca obiekt akcji (`action`) reprezentujący przejście z Fragmentu A do Fragmentu B."
   ]
  },
  {
   "cell_type": "code",
   "execution_count": null,
   "id": "2a3a0f04-7717-4adf-9e54-6af444afa6e6",
   "metadata": {},
   "outputs": [],
   "source": [
    "Navigation.findNavController(requireView()).navigate(action);"
   ]
  },
  {
   "cell_type": "markdown",
   "id": "6ec3ce26-705e-457d-a103-a902f54c642c",
   "metadata": {},
   "source": [
    "Metoda `Navigation.findNavController(requireView())` zwraca kontroler nawigacji powiązany z widokiem, w którym znajduje się `FAB`.\n",
    "\n",
    "Na końcu metoda `navigate(action)` kontrolera nawigacji wykonuje przejście do Fragmentu B przy użyciu akcji reprezentującej to przejście."
   ]
  },
  {
   "cell_type": "markdown",
   "id": "a4bf73ae-2918-4c5f-8a20-f4be72e0d9d4",
   "metadata": {},
   "source": [
    "Możemy przetestować aplikację."
   ]
  },
  {
   "cell_type": "markdown",
   "id": "1b025223-000d-4de4-97cc-202913ef7c2e",
   "metadata": {},
   "source": [
    "<img src=\"https://media2.giphy.com/media/SNlQKJgamzMqJ1P07l/giphy.gif?cid=790b7611999ca5eb8b95dd6d1e5d99374fd2179e95cfb8e4&rid=giphy.gif&ct=g\" width=\"150\" />"
   ]
  },
  {
   "cell_type": "markdown",
   "id": "6c61635c-9eff-4414-98b6-d5eac3c4139c",
   "metadata": {},
   "source": [
    "Możemy przejść z `FragmentA` na `FragmentB`. Zwróćmy uwagę że po naciśnięciu systemowego przycisku 'wstecz' nie opuszczamy aplikacji a powracamy do wcześniej odwiedzonego fragmentu."
   ]
  },
  {
   "cell_type": "markdown",
   "id": "f81b5f14-49d7-428f-a462-75e8dddb732e",
   "metadata": {},
   "source": [
    "Analogicznie zaimplementujmy nawigację wc odwrotną stronę."
   ]
  },
  {
   "cell_type": "code",
   "execution_count": null,
   "id": "30bd403f-dade-4df0-ada3-5935f4e87f1a",
   "metadata": {},
   "outputs": [],
   "source": [
    "public class FragmentB extends Fragment {\n",
    "\n",
    "    private FragmentBBinding binding;\n",
    "\n",
    "    @Override\n",
    "    public View onCreateView(@NonNull LayoutInflater inflater, ViewGroup container,\n",
    "                             Bundle savedInstanceState) {\n",
    "        binding = FragmentBBinding.inflate(inflater);\n",
    "\n",
    "        binding.fabB.setOnClickListener(v -> {\n",
    "            NavDirections action = FragmentBDirections.actionFragmentBToFragmentA();\n",
    "            Navigation.findNavController(requireView()).navigate(action);\n",
    "        });\n",
    "\n",
    "        return binding.getRoot();\n",
    "    }\n",
    "}"
   ]
  },
  {
   "cell_type": "markdown",
   "id": "81433071-4d80-4517-b498-70f3aa3ee339",
   "metadata": {},
   "source": [
    "<img src=\"https://media4.giphy.com/media/GCR61ZZK0DUQiMMNnL/giphy.gif?cid=790b76119275b562d7caf362c7c59b22110e155367f1ff96&rid=giphy.gif&ct=g\" width=\"150\" />"
   ]
  },
  {
   "cell_type": "markdown",
   "id": "5a2617d7-b351-4545-a68a-84b05184f8f2",
   "metadata": {},
   "source": [
    "Ostatnim elementem w tej aplikacji będzie przekazanie argumentu z `FragmentA` do `FragmentB` i wyświetlenie go w polu `TextView`. W tym celu utworzymy obiekt typu `Bundle` w którym przekażemy argument."
   ]
  },
  {
   "cell_type": "code",
   "execution_count": null,
   "id": "5916c0c9-47b4-4a5e-a1f4-0e013991c2cd",
   "metadata": {},
   "outputs": [],
   "source": [
    "public class FragmentA extends Fragment {\n",
    "\n",
    "    private FragmentABinding binding;\n",
    "\n",
    "    @Override\n",
    "    public View onCreateView(@NonNull LayoutInflater inflater, ViewGroup container,\n",
    "                             Bundle savedInstanceState) {\n",
    "        binding = FragmentABinding.inflate(inflater);\n",
    "\n",
    "        binding.fabA.setOnClickListener(view -> {\n",
    "//            NavDirections action = FragmentADirections.actionFragmentAToFragmentB();\n",
    "//            Navigation.findNavController(requireView()).navigate(action);\n",
    "\n",
    "            Bundle args = new Bundle();\n",
    "            args.putInt(\"key\", 5);\n",
    "            Navigation.findNavController(requireView()).navigate(R.id.fragmentB, args);\n",
    "        });\n",
    "\n",
    "        return binding.getRoot();\n",
    "    }\n",
    "}"
   ]
  },
  {
   "cell_type": "markdown",
   "id": "841e12a3-8723-49f8-bf33-e03009f6ab5c",
   "metadata": {},
   "source": [
    "W metodzie `navigate` jako pierwszy argument podajemy `id` fragmentu do którego chcemy przejść, jako drugi argument podajemy nasz obiekt `Bundle`.\n",
    "\n",
    "Przejdźmy do `FragmentB` i odbierzmy dane - do metodzy `onCreateView` dodajemy"
   ]
  },
  {
   "cell_type": "code",
   "execution_count": null,
   "id": "aaa38683-6125-4201-9941-3a9d536cb8ff",
   "metadata": {},
   "outputs": [],
   "source": [
    "binding.textView.setText(String.valueOf(\n",
    "        getArguments() != null ? getArguments().getInt(\"key\") : 0\n",
    "));"
   ]
  },
  {
   "cell_type": "markdown",
   "id": "9283f05a-1a0b-4deb-a14a-0ea56af56af4",
   "metadata": {},
   "source": [
    "Metoda `getArguments` pozwala odebrać przekazany obiekt - jeżeli jest `null` (obiekt nie istnieje) wstawiamy wartość domyślną (`0`)."
   ]
  },
  {
   "cell_type": "markdown",
   "id": "1a70c688-a538-480f-a7dc-f3ff74a11126",
   "metadata": {},
   "source": [
    "<img src=\"https://media0.giphy.com/media/xNGay43XL19rl7xQ2b/giphy.gif?cid=790b7611e3be23a0dca6dbfd13497708cacbfa1c7c9f9966&rid=giphy.gif&ct=g\" width=\"150\" />"
   ]
  },
  {
   "cell_type": "markdown",
   "id": "ccdb1954-0a9c-449c-82c1-3b27470b782b",
   "metadata": {},
   "source": [
    "Drugim sposobem jest dodanie argumentu do akcji. Przechodzimy do pliku `navigation.xml`. Do `<action>` zdefiniowanej we Fragmencie A dodajemy argument"
   ]
  },
  {
   "cell_type": "code",
   "execution_count": null,
   "id": "36caf84d-769f-4e56-997f-1e705470e1d7",
   "metadata": {},
   "outputs": [],
   "source": [
    "<fragment\n",
    "    android:id=\"@+id/fragmentA\"\n",
    "    android:name=\"com.example.a11_jetpacknavigationbasics_kotlin.FragmentA\"\n",
    "    android:label=\"fragment_a\"\n",
    "    tools:layout=\"@layout/fragment_a\" >\n",
    "    <action\n",
    "        android:id=\"@+id/action_fragmentA_to_fragmentB\"\n",
    "        app:destination=\"@id/fragmentB\" >\n",
    "        <argument android:name=\"value\"\n",
    "            app:argType=\"integer\"/>\n",
    "    </action>\n",
    "</fragment>"
   ]
  },
  {
   "cell_type": "markdown",
   "id": "b1672511-e2a5-4ca9-b70b-6de44d7e4a0e",
   "metadata": {},
   "source": [
    "Musimy jawnie podać typ argumentu i jego nazwę - nazwa jest jednocześnie kluczem do odbioru we Fragmencie B."
   ]
  },
  {
   "cell_type": "code",
   "execution_count": null,
   "id": "265658c6-e635-4a48-9b5e-458d436f43cd",
   "metadata": {},
   "outputs": [],
   "source": [
    "public class FragmentA extends Fragment {\n",
    "\n",
    "    private FragmentABinding binding;\n",
    "\n",
    "    @Override\n",
    "    public View onCreateView(@NonNull LayoutInflater inflater, ViewGroup container,\n",
    "                             Bundle savedInstanceState) {\n",
    "        binding = FragmentABinding.inflate(inflater);\n",
    "\n",
    "        binding.fabA.setOnClickListener(view -> {\n",
    "            NavDirections action = FragmentADirections.actionFragmentAToFragmentB(5);\n",
    "            Navigation.findNavController(requireView()).navigate(action);\n",
    "\n",
    "//            Bundle args = new Bundle();\n",
    "//            args.putInt(\"key\", 5);\n",
    "//            Navigation.findNavController(requireView()).navigate(R.id.fragmentB, args);\n",
    "        });\n",
    "\n",
    "        return binding.getRoot();\n",
    "    }\n",
    "}"
   ]
  },
  {
   "cell_type": "code",
   "execution_count": null,
   "id": "9cd2ec07-d92f-4ad3-b69b-2b4f88522267",
   "metadata": {},
   "outputs": [],
   "source": [
    "public class FragmentB extends Fragment {\n",
    "\n",
    "    private FragmentBBinding binding;\n",
    "\n",
    "    @Override\n",
    "    public View onCreateView(@NonNull LayoutInflater inflater, ViewGroup container,\n",
    "                             Bundle savedInstanceState) {\n",
    "        binding = FragmentBBinding.inflate(inflater);\n",
    "\n",
    "        binding.textView.setText(String.valueOf(\n",
    "                getArguments() != null ? getArguments().getInt(\"value\") : 0 // odbieramy jak poprzednio\n",
    "         ));                                                                // kluczem jest nazwa wartości \n",
    "                                                                            // z pliku navigation.xml\n",
    "\n",
    "        binding.fabB.setOnClickListener(v -> {\n",
    "            NavDirections action = FragmentBDirections.actionFragmentBToFragmentA();\n",
    "            Navigation.findNavController(requireView()).navigate(action);\n",
    "\n",
    "\n",
    "        });\n",
    "\n",
    "        return binding.getRoot();\n",
    "    }\n",
    "}"
   ]
  }
 ],
 "metadata": {
  "kernelspec": {
   "display_name": "Kotlin",
   "language": "kotlin",
   "name": "kotlin"
  },
  "language_info": {
   "codemirror_mode": "text/x-kotlin",
   "file_extension": ".kt",
   "mimetype": "text/x-kotlin",
   "name": "kotlin",
   "nbconvert_exporter": "",
   "pygments_lexer": "kotlin",
   "version": "1.8.20"
  }
 },
 "nbformat": 4,
 "nbformat_minor": 5
}
