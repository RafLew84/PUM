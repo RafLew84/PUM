{
 "cells": [
  {
   "cell_type": "markdown",
   "id": "3a87fd81-b746-473e-9b4b-e6ac36bfcfec",
   "metadata": {},
   "source": [
    "## Jetpack Navigation"
   ]
  },
  {
   "cell_type": "markdown",
   "id": "f02e292f-fd6c-4ffb-b904-fefe33f9d3d2",
   "metadata": {},
   "source": [
    "`Jetpack Navigation` to zestaw bibliotek dostarczających narzędzia do zarządzania nawigacją. Został stworzony, aby ułatwić rozwijanie aplikacji z wieloma ekranami poprzez zapewnienie jednolitej struktury nawigacji w całej aplikacji.\n",
    "\n",
    "Składa się z trzech głównych komponentów:\n",
    "- `NavHost` - to kontener, który jest używany do przechowywania fragmentów zdefiniowanych w plikach nawigacyjnych.\n",
    "- `NavController` - to obiekt, który jest używany do nawigowania między fragmentami i akcjami w pliku nawigacyjnym.\n",
    "- Plik nawigacyjny - to plik zdefiniowany w `XML`, który zawiera informacje o strukturze nawigacji aplikacji, takie jak fragmenty, akcje i argumenty.\n",
    "\n",
    "`Jetpack Navigation` oferuje wiele zalet, w tym łatwość konfigurowania nawigacji w aplikacji, ułatwienie przekazywania danych między fragmentami i możliwość korzystania z animacji przejść między fragmentami. Dodatkowo, narzędzie to umożliwia tworzenie nawigacji opartych na warunkach i obsługiwanie nawigacji w interfejsach użytkownika, takich jak paski narzędzi i menu. Nie ma potrzeby jawnego definiowania transakcji między fragmentami, ani zarządzania back stackiem."
   ]
  },
  {
   "cell_type": "markdown",
   "id": "1ef62e89-7bdb-40ae-a041-b7e3bfff9703",
   "metadata": {},
   "source": [
    "Aplikacja posłuży nam do zapoznania się z podstawami Jetpack Navigation."
   ]
  },
  {
   "cell_type": "markdown",
   "id": "7bec9fa3-a675-4671-9fb7-9acfb30e18d2",
   "metadata": {},
   "source": [
    "W pierwszym kroku musimy dodać `Navigation` do projektu - przejdźmy do pliku `libs.versions.toml`"
   ]
  },
  {
   "cell_type": "markdown",
   "id": "0668e812-af6f-4c81-afaf-695d6edd7ac4",
   "metadata": {},
   "source": [
    "W bloku `[versions]` zdefiniujmy wersję nawigacji - aktualnie jest to `2.7.7`"
   ]
  },
  {
   "cell_type": "code",
   "execution_count": null,
   "id": "0bc44aa1-2829-4a6b-88fe-f7462e8d529a",
   "metadata": {},
   "outputs": [],
   "source": [
    "navigationFragmentKtx = \"2.7.7\"\n",
    "navigationUiKtx = \"2.7.7\""
   ]
  },
  {
   "cell_type": "markdown",
   "id": "3b47b351-f991-40dc-81fa-4751308f0499",
   "metadata": {},
   "source": [
    "W bloku `[libraries]` dodajemy nawigację"
   ]
  },
  {
   "cell_type": "code",
   "execution_count": null,
   "id": "740ae576-d13b-49f3-bc84-f64dec1b5f38",
   "metadata": {},
   "outputs": [],
   "source": [
    "androidx-navigation-fragment-ktx = { group = \"androidx.navigation\", name = \"navigation-fragment-ktx\", version.ref = \"navigationFragmentKtx\" }\n",
    "androidx-navigation-ui-ktx = { group = \"androidx.navigation\", name = \"navigation-ui-ktx\", version.ref = \"navigationUiKtx\" }"
   ]
  },
  {
   "cell_type": "markdown",
   "id": "1544a447-b626-43ca-9cc6-45712676a43f",
   "metadata": {},
   "source": [
    "Przejdźmy do pliku `build.gradle (Module)`. Tutaj dodajemy plugin w bloku `plugins`"
   ]
  },
  {
   "cell_type": "code",
   "execution_count": null,
   "id": "cc1a1475-bca4-469d-829e-ade1bf2e3e57",
   "metadata": {},
   "outputs": [],
   "source": [
    "plugins {\n",
    "    alias(libs.plugins.android.application)\n",
    "    alias(libs.plugins.jetbrains.kotlin.android)\n",
    "    id (\"androidx.navigation.safeargs\")\n",
    "}"
   ]
  },
  {
   "cell_type": "markdown",
   "id": "b7cff529-4786-4723-a10f-ae5e74194d78",
   "metadata": {},
   "source": [
    "W pliku `build.gradle (Project)` dodajemy"
   ]
  },
  {
   "cell_type": "code",
   "execution_count": null,
   "id": "b08cf69e-83a0-4e8a-bfe5-c6be9e5179ce",
   "metadata": {},
   "outputs": [],
   "source": [
    "buildscript { // przed blokiem plugins\n",
    "    repositories {\n",
    "        mavenCentral()\n",
    "    }\n",
    "\n",
    "    dependencies {\n",
    "        classpath (\"androidx.navigation:navigation-safe-args-gradle-plugin:2.7.7\")\n",
    "    }\n",
    "}\n",
    "plugins {\n",
    "    alias(libs.plugins.android.application) apply false\n",
    "    alias(libs.plugins.jetbrains.kotlin.android) apply false\n",
    "}"
   ]
  },
  {
   "cell_type": "markdown",
   "id": "37b01a28-393d-45d9-bea5-276024f77643",
   "metadata": {},
   "source": [
    "Dodajmy do projektu dwa fragmenty (**menu kontekstowe katalogu kotlin+java -> New -> Fragment -> Fragment (Blank)**)"
   ]
  },
  {
   "cell_type": "code",
   "execution_count": null,
   "id": "d2f4e754-35ca-4ce1-befb-7c7cfe86879b",
   "metadata": {},
   "outputs": [],
   "source": [
    "class FragmentA : Fragment() {\n",
    "\n",
    "    private lateinit var binding: FragmentABinding\n",
    "\n",
    "    override fun onCreateView(\n",
    "        inflater: LayoutInflater, container: ViewGroup?,\n",
    "        savedInstanceState: Bundle?\n",
    "    ): View {\n",
    "        binding = FragmentABinding.inflate(inflater)\n",
    "        return binding.root\n",
    "    }\n",
    "}"
   ]
  },
  {
   "cell_type": "code",
   "execution_count": null,
   "id": "766f213d-25f9-43e0-a42e-e9dda6ea9779",
   "metadata": {},
   "outputs": [],
   "source": [
    "class FragmentB : Fragment() {\n",
    "\n",
    "    private lateinit var binding: FragmentBBinding\n",
    "\n",
    "    override fun onCreateView(\n",
    "        inflater: LayoutInflater, container: ViewGroup?,\n",
    "        savedInstanceState: Bundle?\n",
    "    ): View {\n",
    "        binding = FragmentBBinding.inflate(inflater)\n",
    "        return binding.root\n",
    "    }\n",
    "}"
   ]
  },
  {
   "cell_type": "code",
   "execution_count": null,
   "id": "2d96832f-7328-459c-bc46-038967a32944",
   "metadata": {},
   "outputs": [],
   "source": [
    "<?xml version=\"1.0\" encoding=\"utf-8\"?>\n",
    "<FrameLayout xmlns:android=\"http://schemas.android.com/apk/res/android\"\n",
    "    xmlns:tools=\"http://schemas.android.com/tools\"\n",
    "    android:layout_width=\"match_parent\"\n",
    "    android:layout_height=\"match_parent\"\n",
    "    tools:context=\".FragmentA\">\n",
    "\n",
    "    <TextView\n",
    "        android:layout_width=\"match_parent\"\n",
    "        android:layout_height=\"match_parent\"\n",
    "        android:text=\"FRAGMENT A\"\n",
    "        android:textColor=\"@color/black\"\n",
    "        android:textSize=\"36sp\"\n",
    "        android:layout_gravity=\"center_horizontal\"\n",
    "        android:gravity=\"center\"/>\n",
    "\n",
    "    <com.google.android.material.floatingactionbutton.FloatingActionButton\n",
    "        android:id=\"@+id/fabA\"\n",
    "        android:layout_width=\"wrap_content\"\n",
    "        android:layout_height=\"wrap_content\"\n",
    "        android:layout_margin=\"16dp\"\n",
    "        android:clickable=\"true\"\n",
    "        android:src=\"@android:drawable/arrow_up_float\"\n",
    "        android:contentDescription=\"FAB\" />\n",
    "</FrameLayout>"
   ]
  },
  {
   "cell_type": "code",
   "execution_count": null,
   "id": "a63d8419-8c4f-47a4-bd17-4e0520a94523",
   "metadata": {},
   "outputs": [],
   "source": [
    "<?xml version=\"1.0\" encoding=\"utf-8\"?>\n",
    "<FrameLayout xmlns:android=\"http://schemas.android.com/apk/res/android\"\n",
    "    xmlns:tools=\"http://schemas.android.com/tools\"\n",
    "    android:layout_width=\"match_parent\"\n",
    "    android:layout_height=\"match_parent\"\n",
    "    tools:context=\".FragmentB\">\n",
    "\n",
    "    <TextView\n",
    "        android:layout_width=\"match_parent\"\n",
    "        android:layout_height=\"match_parent\"\n",
    "        android:text=\"FRAGMENT B\"\n",
    "        android:textColor=\"@color/black\"\n",
    "        android:textSize=\"36sp\"\n",
    "        android:layout_gravity=\"center_horizontal\"\n",
    "        android:gravity=\"center\"/>\n",
    "\n",
    "    <com.google.android.material.floatingactionbutton.FloatingActionButton\n",
    "        android:id=\"@+id/fabB\"\n",
    "        android:layout_width=\"wrap_content\"\n",
    "        android:layout_height=\"wrap_content\"\n",
    "        android:layout_margin=\"16dp\"\n",
    "        android:clickable=\"true\"\n",
    "        android:src=\"@android:drawable/arrow_up_float\"\n",
    "        android:contentDescription=\"FAB\" />\n",
    "</FrameLayout>"
   ]
  },
  {
   "cell_type": "markdown",
   "id": "a6ad87ad-ef02-4991-a9b1-ba1c9da71c6c",
   "metadata": {},
   "source": [
    "W aplikacji oba fragmenty będą hostowane przez `MainActivity` - dodamy poruszanie się pomiędzy fragmentami oraz przekazanie pomiędzy nimi danych. Rozpocznijmy od dodania komponentu navigation. Otwieramy menu kontekstowe na katalogu `res`, wybieramy **New -> Android Resource File**, następnie jako `Rresource type` wybieramy `Navigation`."
   ]
  },
  {
   "cell_type": "markdown",
   "id": "c6508190-e443-4267-8450-5b802f023fd5",
   "metadata": {},
   "source": [
    "<img src=\"https://media2.giphy.com/media/rT4AlrQTeyMcvxTtWJ/giphy.gif?cid=790b76113217a5c7c107d9af885c7436f4e307b4deecb3ea&rid=giphy.gif&ct=g\" width=\"350\" />"
   ]
  },
  {
   "cell_type": "markdown",
   "id": "e5c7a882-b970-4c5e-bb46-e109af0aebf6",
   "metadata": {},
   "source": [
    "Dodajmy nasze dwa fragmenty do `Navigation` - wybieram **New Destination**"
   ]
  },
  {
   "cell_type": "markdown",
   "id": "9f5e0acb-6a75-429b-ac64-e9b059183445",
   "metadata": {},
   "source": [
    "<img src=\"https://media0.giphy.com/media/SauLtu5l6x2jTx2i9h/giphy.gif?cid=790b7611691e19128a2195d8e2acc46b0710f6dc29ccbf71&rid=giphy.gif&ct=g\" width=\"350\" />"
   ]
  },
  {
   "cell_type": "markdown",
   "id": "6080fa08-f7a0-4213-9508-3675fbb59fd4",
   "metadata": {},
   "source": [
    "Następnie zdefiniujemy dwie akcje - przejście z `FragmentA` do `FragmentB` i przejście z `FragmentB` do `FragmentA`"
   ]
  },
  {
   "cell_type": "markdown",
   "id": "0bc09d18-602d-49e1-a7db-12640261bec3",
   "metadata": {},
   "source": [
    "<img src=\"https://media1.giphy.com/media/3mk9wIGGBFL38MRxQn/giphy.gif\" width=\"350\" />"
   ]
  },
  {
   "cell_type": "markdown",
   "id": "aca851a5-e7ba-4d3a-92cb-eb72a1e9d720",
   "metadata": {},
   "source": [
    "Przechodząc do zakładki `Code` widzimy że mamy dodane do nawigacji dwa fragmenty oraz zdefiniowane dwie akcje."
   ]
  },
  {
   "cell_type": "code",
   "execution_count": null,
   "id": "c62ed01d-e59a-4f17-98f6-0518392d4cb6",
   "metadata": {},
   "outputs": [],
   "source": [
    "<?xml version=\"1.0\" encoding=\"utf-8\"?>\n",
    "<navigation xmlns:android=\"http://schemas.android.com/apk/res/android\"\n",
    "    xmlns:app=\"http://schemas.android.com/apk/res-auto\"\n",
    "    xmlns:tools=\"http://schemas.android.com/tools\"\n",
    "    android:id=\"@+id/navigation\"\n",
    "    app:startDestination=\"@id/fragmentA\"> <!-- ekran startowy -->\n",
    "\n",
    "    <fragment\n",
    "        android:id=\"@+id/fragmentA\"\n",
    "        android:name=\"com.example.a11_jetpacknavigationbasics_kotlin.FragmentA\"\n",
    "        android:label=\"fragment_a\"\n",
    "        tools:layout=\"@layout/fragment_a\" >\n",
    "        <action\n",
    "            android:id=\"@+id/to_fragmentB\"\n",
    "            app:destination=\"@id/fragmentB\" />\n",
    "    </fragment>\n",
    "    <fragment\n",
    "        android:id=\"@+id/fragmentB\"\n",
    "        android:name=\"com.example.a11_jetpacknavigationbasics_kotlin.FragmentB\"\n",
    "        android:label=\"fragment_b\"\n",
    "        tools:layout=\"@layout/fragment_b\" >\n",
    "        <action\n",
    "            android:id=\"@+id/to_fragmentA\"\n",
    "            app:destination=\"@id/fragmentA\" />\n",
    "    </fragment>\n",
    "</navigation>"
   ]
  },
  {
   "cell_type": "markdown",
   "id": "3e4d130e-60f4-41c0-ab19-6d067e22e454",
   "metadata": {},
   "source": [
    "W kolejnym kroku umieścimy utworzoną nawigację w głównej aktywności. Przejdźmy do pliku `activity_main.xml`"
   ]
  },
  {
   "cell_type": "code",
   "execution_count": null,
   "id": "be3e304f-12b7-41c7-b2f3-e8af4dc16e51",
   "metadata": {},
   "outputs": [],
   "source": [
    "<?xml version=\"1.0\" encoding=\"utf-8\"?>\n",
    "<androidx.constraintlayout.widget.ConstraintLayout xmlns:android=\"http://schemas.android.com/apk/res/android\"\n",
    "    xmlns:app=\"http://schemas.android.com/apk/res-auto\"\n",
    "    xmlns:tools=\"http://schemas.android.com/tools\"\n",
    "    android:layout_width=\"match_parent\"\n",
    "    android:layout_height=\"match_parent\"\n",
    "    tools:context=\".MainActivity\">\n",
    "\n",
    "    <androidx.fragment.app.FragmentContainerView\n",
    "        android:id=\"@+id/fragmentContainerView\"\n",
    "        android:name=\"androidx.navigation.fragment.NavHostFragment\"\n",
    "        android:layout_width=\"409dp\"\n",
    "        android:layout_height=\"729dp\"\n",
    "        app:defaultNavHost=\"true\"\n",
    "        app:layout_constraintBottom_toBottomOf=\"parent\"\n",
    "        app:layout_constraintEnd_toEndOf=\"parent\"\n",
    "        app:layout_constraintStart_toStartOf=\"parent\"\n",
    "        app:layout_constraintTop_toTopOf=\"parent\"\n",
    "        app:navGraph=\"@navigation/navigation\" />\n",
    "</androidx.constraintlayout.widget.ConstraintLayout>"
   ]
  },
  {
   "cell_type": "markdown",
   "id": "880ec47e-4807-4697-86e0-f280d8af1008",
   "metadata": {},
   "source": [
    "Atrybut `app:navGraph` to atrybut ustawiany w pliku `XML` dla widoku `NavHostFragment`, który definiuje **graf nawigacji** dla aplikacji.\n",
    "\n",
    "W grafie nawigacji znajdują się elementy takie jak punkty nawigacji, takie jak ekran startowy, ekrany podrzędne i inne fragmenty, a także ich powiązania, czyli jakie akcje lub przejścia użytkownik może wykonać między nimi.\n",
    "\n",
    "Ustawienie `app:navGraph` na widoku `NavHostFragment` umożliwia aplikacji korzystanie z systemu nawigacji zdefiniowanego w grafie nawigacji. Dzięki temu możemy w łatwy sposób definiować i zarządzać ekranami w naszej aplikacji."
   ]
  },
  {
   "cell_type": "markdown",
   "id": "f89e7934-1df1-47f1-a928-9a2d6b7398e8",
   "metadata": {},
   "source": [
    "Umożliwmy teraz przejście pomiędzy fragmentami - przejdźmy do `FragmentA` i w metodzie `onCreateView` zaimplementujmy metodę `onClick` naszego przycisku FAB."
   ]
  },
  {
   "cell_type": "markdown",
   "id": "3a7bef61-7cf7-43d9-8822-0210c8bc9cb0",
   "metadata": {},
   "source": [
    "`FAB` (*Floating Action Button*), czyli pływający przycisk akcji. Jest to widok w interfejsie użytkownika, który jest przyciskiem akcji zwykle umieszczonym w dolnym prawym rogu ekranu. `FAB` jest popularny w aplikacjach mobilnych, szczególnie w aplikacjach Material Design, ze względu na swoją wygodną lokalizację i wygląd."
   ]
  },
  {
   "cell_type": "code",
   "execution_count": null,
   "id": "c45170df-0dcb-4f9e-84b1-805a586aa78a",
   "metadata": {},
   "outputs": [],
   "source": [
    "binding.fabA.setOnClickListener {  }"
   ]
  },
  {
   "cell_type": "markdown",
   "id": "cd181f31-7a59-4945-90f8-6bced81bb558",
   "metadata": {},
   "source": [
    "W pierwszym kroku powiązujemy zdefiniowaną w `navigation.xml` akcję przejścia z `FragmentA` do `FragmentB` z polem typu `NavDirections`"
   ]
  },
  {
   "cell_type": "code",
   "execution_count": null,
   "id": "65e50a50-7fd9-4487-b848-9713e0bf7bfa",
   "metadata": {},
   "outputs": [],
   "source": [
    "val action = FragmentADirections.toFragmentB()"
   ]
  },
  {
   "cell_type": "markdown",
   "id": "f9bf40a5-09e0-4c00-9c4e-0e124b287cca",
   "metadata": {},
   "source": [
    "`FragmentADirections` to klasa wygenerowana automatycznie przez `Jetpack Navigation`, która zawiera metody umożliwiające nawigację między fragmentami.\n",
    "\n",
    "## **UWAGA**\n",
    "\n",
    "Generacja automatyczna klas `Directions` może nie zostać zainicjowania po dodaniu nawigacji. W przypadku nie wygenerowania klas można podjąć kilka kroków.\n",
    "1. **Build -> Clean Project**\n",
    "2. **Build -> Rebuild Project**\n",
    "3. **File -> Invalidate Caches**\n",
    "4. Usuń plugin **’androidx.navigation.safeargs.kotlin’.** -> synchronizacja -> przebuduj -> dodaj plugin **’androidx.navigation.safeargs.kotlin’.** -> synchronizacja -> przebuduj\n",
    "\n",
    "Metoda `actionFragmentAToFragmentB()` jest jedną z tych metod i zwraca obiekt akcji (`action`) reprezentujący przejście z Fragmentu A do Fragmentu B."
   ]
  },
  {
   "cell_type": "code",
   "execution_count": null,
   "id": "779b6ef5-842b-4ba6-894f-788760d4bdef",
   "metadata": {},
   "outputs": [],
   "source": [
    "Navigation.findNavController(requireView()).navigate(action)"
   ]
  },
  {
   "cell_type": "markdown",
   "id": "88278e46-d45f-43e4-ad9f-527dc40bf3d8",
   "metadata": {},
   "source": [
    "Metoda `Navigation.findNavController(requireView())` zwraca kontroler nawigacji powiązany z widokiem, w którym znajduje się `FAB`.\n",
    "\n",
    "Na końcu metoda `navigate(action)` kontrolera nawigacji wykonuje przejście do Fragmentu B przy użyciu akcji reprezentującej to przejście."
   ]
  },
  {
   "cell_type": "markdown",
   "id": "06436252-4269-460f-a826-01e580fc4cc3",
   "metadata": {},
   "source": [
    "Możemy przetestować aplikację."
   ]
  },
  {
   "cell_type": "markdown",
   "id": "9de2b6c5-def4-4d81-bb78-553789e5fd90",
   "metadata": {},
   "source": [
    "<img src=\"https://media2.giphy.com/media/SNlQKJgamzMqJ1P07l/giphy.gif?cid=790b7611999ca5eb8b95dd6d1e5d99374fd2179e95cfb8e4&rid=giphy.gif&ct=g\" width=\"150\" />"
   ]
  },
  {
   "cell_type": "markdown",
   "id": "c5b5d83a-b7de-4b43-b4ef-d3f1f566ecdf",
   "metadata": {},
   "source": [
    "Możemy przejść z `FragmentA` na `FragmentB`. Zwróćmy uwagę że po naciśnięciu systemowego przycisku 'wstecz' nie opuszczamy aplikacji a powracamy do wcześniej odwiedzonego fragmentu."
   ]
  },
  {
   "cell_type": "markdown",
   "id": "4c2e3f26-6c6e-4d51-9c08-7a1f62d69212",
   "metadata": {},
   "source": [
    "Analogicznie zaimplementujmy nawigację w odwrotną stronę."
   ]
  },
  {
   "cell_type": "code",
   "execution_count": null,
   "id": "ea00c1eb-f1e7-4d96-b9f2-6719d2ed1efa",
   "metadata": {},
   "outputs": [],
   "source": [
    "override fun onCreateView(\n",
    "    inflater: LayoutInflater, container: ViewGroup?,\n",
    "    savedInstanceState: Bundle?\n",
    "): View {\n",
    "    binding = FragmentBBinding.inflate(inflater)\n",
    "\n",
    "    binding.fabB.setOnClickListener {\n",
    "        val action = FragmentBDirections.actionFragmentBToFragmentA()\n",
    "        Navigation.findNavController(requireView()).navigate(action)\n",
    "    }\n",
    "\n",
    "    return binding.root\n",
    "}"
   ]
  },
  {
   "cell_type": "markdown",
   "id": "ee083424-89ba-4e92-9cb0-3e11185ba165",
   "metadata": {},
   "source": [
    "<img src=\"https://media4.giphy.com/media/GCR61ZZK0DUQiMMNnL/giphy.gif?cid=790b76119275b562d7caf362c7c59b22110e155367f1ff96&rid=giphy.gif&ct=g\" width=\"150\" />"
   ]
  },
  {
   "cell_type": "markdown",
   "id": "43b5171c-f1f4-414c-a723-5895b5504f3e",
   "metadata": {},
   "source": [
    "Ostatnim elementem będzie dodanie argumentu i przekazanie go pomiędzy fragmentami. Przejdźmy do pliku ze zdefiniowaną nawigacją i dodajmy `argument` do `action`"
   ]
  },
  {
   "cell_type": "code",
   "execution_count": null,
   "id": "79bba384-eaff-4452-93f0-75024747918c",
   "metadata": {},
   "outputs": [],
   "source": [
    "<fragment\n",
    "    android:id=\"@+id/fragmentA\"\n",
    "    android:name=\"com.example.myapplicationtt.FragmentA\"\n",
    "    android:label=\"fragment_a\"\n",
    "    tools:layout=\"@layout/fragment_a\" >\n",
    "    <action\n",
    "        android:id=\"@+id/action_fragmentA_to_fragmentB\"\n",
    "        app:destination=\"@id/fragmentB\" >\n",
    "\n",
    "        <!-- definiujemy nazwę argumentu oraz jego typ -->\n",
    "        <argument android:name=\"value\"\n",
    "            app:argType=\"integer\"/>\n",
    "    </action>\n",
    "</fragment>"
   ]
  },
  {
   "cell_type": "markdown",
   "id": "bf2c3543-dbcb-4254-b191-929598dbb6f5",
   "metadata": {},
   "source": [
    "W metodzie `navigate` jako pierwszy argument podajemy `id` fragmentu do którego chcemy przejść, jako drugi argument podajemy nasz obiekt `Bundle`.\n",
    "\n",
    "Przejdźmy do `FragmentB` i odbierzmy dane - do metodzy `onCreateView` dodajemy"
   ]
  },
  {
   "cell_type": "code",
   "execution_count": null,
   "id": "41d80aaf-c853-4610-8066-aa5578655750",
   "metadata": {},
   "outputs": [],
   "source": [
    "class FragmentB : Fragment() {\n",
    "\n",
    "    private lateinit var binding: FragmentBBinding\n",
    "\n",
    "    override fun onCreateView(\n",
    "        inflater: LayoutInflater, container: ViewGroup?,\n",
    "        savedInstanceState: Bundle?\n",
    "    ): View {\n",
    "        binding = FragmentBBinding.inflate(inflater)\n",
    "\n",
    "        binding.textView.text = arguments?.getInt(\"key\").toString() // odebranie danych\n",
    "\n",
    "        binding.fabB.setOnClickListener {\n",
    "            val action = FragmentBDirections.actionFragmentBToFragmentA()\n",
    "            Navigation.findNavController(requireView()).navigate(action)\n",
    "        }\n",
    "\n",
    "        return binding.root\n",
    "    }\n",
    "}"
   ]
  },
  {
   "cell_type": "markdown",
   "id": "2d203ec5-8d02-4667-96bf-c8ee03a0201d",
   "metadata": {},
   "source": [
    "Metoda `arguments` pozwala odebrać przekazany obiekt."
   ]
  },
  {
   "cell_type": "markdown",
   "id": "4ae262b8-7a65-4134-9807-ce4d0c291848",
   "metadata": {},
   "source": [
    "<img src=\"https://media0.giphy.com/media/xNGay43XL19rl7xQ2b/giphy.gif?cid=790b7611e3be23a0dca6dbfd13497708cacbfa1c7c9f9966&rid=giphy.gif&ct=g\" width=\"150\" />"
   ]
  }
 ],
 "metadata": {
  "kernelspec": {
   "display_name": "Kotlin",
   "language": "kotlin",
   "name": "kotlin"
  },
  "language_info": {
   "codemirror_mode": "text/x-kotlin",
   "file_extension": ".kt",
   "mimetype": "text/x-kotlin",
   "name": "kotlin",
   "nbconvert_exporter": "",
   "pygments_lexer": "kotlin",
   "version": "1.8.20"
  }
 },
 "nbformat": 4,
 "nbformat_minor": 5
}
