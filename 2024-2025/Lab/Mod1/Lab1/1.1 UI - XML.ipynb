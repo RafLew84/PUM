{
 "cells": [
  {
   "cell_type": "markdown",
   "id": "cbf56e39-0908-4ec9-88b0-ded23d68353c",
   "metadata": {},
   "source": [
    "# Interfejs Użytkownika - XML"
   ]
  },
  {
   "cell_type": "markdown",
   "id": "d8428fd2-f86f-46ff-80a8-3e74a9f40631",
   "metadata": {},
   "source": [
    "Wsszystkie elementy interfejsu użytkownika są zbudowane wykorzystując obiekty `View` i `ViewGroup`.\n",
    "\n",
    "- `View` - obiekt rysujący element na ekranie, z którym użytkownik może wejść w interakcję.\n",
    "- `ViewGroup` - kontener na obiekty `View` i inne obiekty `ViewGroup` - definiuje layout ekranu (lub jego części)\n",
    "\n",
    "Obiekty `View` i `ViewGroup` są przechowywane w hierarchii\n",
    "\n",
    "<img src=\"https://i.stack.imgur.com/KSCNf.png\"  width=\"600\" height=\"300\">\n"
   ]
  },
  {
   "cell_type": "markdown",
   "id": "fbfb28a5-07bc-40ed-9c03-17fb36fade1e",
   "metadata": {},
   "source": [
    "`ViewGroup` jest niewidzialnym dla użytkownika kontenerem organizującym zawarte w nim obiekty."
   ]
  },
  {
   "cell_type": "markdown",
   "id": "8d8e0f8b-6104-438c-9d4f-99f5b510617d",
   "metadata": {},
   "source": [
    "## Podstawy"
   ]
  },
  {
   "cell_type": "markdown",
   "id": "9972b23f-4bcc-408b-a3cd-294d805ccf0c",
   "metadata": {},
   "source": [
    "Rozpoczynając nowy projekt wybieramy `Empty View Activity`. W tym przykładzie posługujemy się tylko `XML` więc język jest bez znaczenia. `Package name` standardowo jest odwrotną nazwą domeny - w ramach tych zajęć posługuję się `pl.edu.uwr.pum`. Musimy również wybrać minimalną wersję `SDK` wsperaną przez aplikację - na zajęciach będzie to najczęściej `API 28`."
   ]
  },
  {
   "cell_type": "markdown",
   "id": "1ff5fef9-81ce-42bd-8680-942947e47760",
   "metadata": {},
   "source": [
    "Po rozpoczęciu projektu mamy plik `MainActivity` - czyli główną aktywność. W metodzie cyklu życia aktywności `OnCreate()` możemy odnaleźć wywołanie funkcji `setContentView()` która wskazuje w którym pliku zdefiniowany jest layout tej aktywności. Przechodzimy do pliku `activity_main.xml` w katalogu `res -> layout`."
   ]
  },
  {
   "cell_type": "markdown",
   "id": "e05fec85-de61-486d-96f6-d2fdd208e451",
   "metadata": {},
   "source": [
    "<img src=\"https://fv9-4.failiem.lv/thumb_show.php?i=n3mpezuv9&view\" width=\"800\" />"
   ]
  },
  {
   "cell_type": "markdown",
   "id": "0a1a248b-47bc-4efa-bcf1-84083188b70c",
   "metadata": {},
   "source": [
    "W prawym górnym rogu znajduują się trzy zakłdaki `Code`, `Split` i `Design` - przechodzimy do zakładki `Split`."
   ]
  },
  {
   "cell_type": "markdown",
   "id": "0a56e6c0-194b-4f2a-b4d3-23af8176e79d",
   "metadata": {
    "tags": []
   },
   "source": [
    "### `ContraintLayout`"
   ]
  },
  {
   "cell_type": "markdown",
   "id": "67814cd8-0933-442b-9463-74dc3a70907c",
   "metadata": {},
   "source": [
    "Domyślnie głównym elementem layoutu jest `ConstraintLayout`. `ConstraintLayout` opiera się na umieszczaniu elementów interfejsu w oparciu o relacje między nimi (ang. *\"constraints\"*). Relacje te określają, jak elementy powinny być pozycjonowane względem siebie i do krawędzi ekranu. W ten sposób można osiągnąć dokładne pozycjonowanie elementów w interfejsie użytkownika.\n",
    "\n",
    "Dzięki `ConstraintLayout` możliwe jest tworzenie skomplikowanych układów interfejsu użytkownika, które są elastyczne i skalowalne, bez konieczności stosowania zagnieżdżonych układów."
   ]
  },
  {
   "cell_type": "markdown",
   "id": "942077d2-027a-465b-94d4-4c3772bc8b60",
   "metadata": {},
   "source": [
    "<img src=\"https://i.stack.imgur.com/jkBbs.png\"  width=\"400\" height=\"200\">"
   ]
  },
  {
   "cell_type": "markdown",
   "id": "61df0188-7dc4-413b-99f8-23670f0e74d8",
   "metadata": {},
   "source": [
    "Rozpocznijmy od prostego przykładu z pojedynczym polem `TextView` (pole wyświetlające tekst)"
   ]
  },
  {
   "cell_type": "markdown",
   "id": "b022b353-67a1-47de-884f-acda5bacd312",
   "metadata": {},
   "source": [
    "```xml\n",
    "<?xml version=\"1.0\" encoding=\"utf-8\"?>\n",
    "<androidx.constraintlayout.widget.ConstraintLayout xmlns:android=\"http://schemas.android.com/apk/res/android\"\n",
    "    xmlns:app=\"http://schemas.android.com/apk/res-auto\"\n",
    "    xmlns:tools=\"http://schemas.android.com/tools\"\n",
    "    android:layout_width=\"match_parent\"\n",
    "    android:layout_height=\"match_parent\"\n",
    "    tools:context=\".MainActivity\">\n",
    "\n",
    "    <TextView\n",
    "        android:layout_width=\"wrap_content\"\n",
    "        android:layout_height=\"wrap_content\"\n",
    "        android:text=\"Hello World!\"\n",
    "        app:layout_constraintBottom_toBottomOf=\"parent\"\n",
    "        app:layout_constraintEnd_toEndOf=\"parent\"\n",
    "        app:layout_constraintStart_toStartOf=\"parent\"\n",
    "        app:layout_constraintTop_toTopOf=\"parent\" />\n",
    "\n",
    "</androidx.constraintlayout.widget.ConstraintLayout>\n",
    "```"
   ]
  },
  {
   "cell_type": "markdown",
   "id": "30dd6b76-16f6-49cc-9d2b-d1a45dd01986",
   "metadata": {},
   "source": [
    "Pierwsze dwie (lub trzy) linie kodu są atrybutami layoutu - muszą się znajdować w najbardziej zewnętrznym elemencie. W tych atrybutach zdefiniowane są pola i właściwości pozwalające na dostosowanie wyglądu layoutu."
   ]
  },
  {
   "cell_type": "markdown",
   "id": "34a00afd-0532-4f49-9511-aba4bf1c1d63",
   "metadata": {},
   "source": [
    "Przykładowo, podstawowe właściwości - szerokość i wysokość layoutu są zdefiniowane w atrybucie `android`. Każdy element layoutu musi posiadać minimum te dwie właściwości. Możemy je ustawić na cztery sposoby:\n",
    "- `match_parent` - dopasowanie do zewnętrznego elementu (rodzica); jeżeli używamy w najbardziej zewnętrznym elemencie - dopasowanie do rozmiarów ekranu\n",
    "- `wrap_content` - dopasowanie do zawartości elementu (przykładowo: dopasowanie do ilości tekstu)\n",
    "- `<ilość>dp (200dp)` - konkretny rozmiar; `dp` - **density independent pixel** - Jednostką tą wyraża się wymiary i położenie w sposób niezależny od gęstości pikseli\n",
    "- `0dp` - wypełnienie pozostałej dostępnej przestrzeni"
   ]
  },
  {
   "cell_type": "markdown",
   "id": "d40330c4-09bb-4a35-8710-0f314613bfbf",
   "metadata": {},
   "source": [
    "właściwości:\n",
    "- `app:layout_constraintBottom_toBottomOf=\"parent\"` - połączenie dna pola `TextView` z dnem kontenera zewnętrznego (`ConstraintLayout`)\n",
    "- `app:layout_constraintEnd_toEndOf=\"parent\"` - połączenie prawej krawędzi pola `TextView` z pprawą krawędzią kontenera zewnętrznego (`ConstraintLayout`)\n",
    "- `app:layout_constraintStart_toStartOf=\"parent\"` - połączenie lewej krawędzi pola `TextView` z lewą krawędzią kontenera zewnętrznego (`ConstraintLayout`)\n",
    "- `app:layout_constraintTop_toTopOf=\"parent\"` - połączenie górnej krawędzi pola `TextView` z górną krawędzią kontenera zewnętrznego (`ConstraintLayout`)"
   ]
  },
  {
   "cell_type": "markdown",
   "id": "0a68ba38-e3c9-4dbc-9ea2-2fe4b57af677",
   "metadata": {},
   "source": [
    "Dodajmy do layotu drugie pole `TextView` i umieśćmy je bezpośrednio pod pierwszym."
   ]
  },
  {
   "cell_type": "markdown",
   "id": "54825b0d-fa7d-43e5-8699-54ed5e6b195b",
   "metadata": {},
   "source": [
    "```xml\n",
    "<?xml version=\"1.0\" encoding=\"utf-8\"?>\n",
    "<androidx.constraintlayout.widget.ConstraintLayout xmlns:android=\"http://schemas.android.com/apk/res/android\"\n",
    "    xmlns:app=\"http://schemas.android.com/apk/res-auto\"\n",
    "    xmlns:tools=\"http://schemas.android.com/tools\"\n",
    "    android:layout_width=\"match_parent\"\n",
    "    android:layout_height=\"match_parent\"\n",
    "    tools:context=\".MainActivity\">\n",
    "\n",
    "    <TextView\n",
    "        android:id=\"@+id/textView2\"\n",
    "        android:layout_width=\"wrap_content\"\n",
    "        android:layout_height=\"wrap_content\"\n",
    "        android:text=\"Hello World!\"\n",
    "        android:textSize=\"24sp\"\n",
    "        app:layout_constraintBottom_toBottomOf=\"parent\"\n",
    "        app:layout_constraintEnd_toEndOf=\"parent\"\n",
    "        app:layout_constraintStart_toStartOf=\"parent\"\n",
    "        app:layout_constraintTop_toTopOf=\"parent\" />\n",
    "\n",
    "    <TextView\n",
    "        android:id=\"@+id/textView\"\n",
    "        android:layout_width=\"wrap_content\"\n",
    "        android:layout_height=\"wrap_content\"\n",
    "        android:layout_marginTop=\"8dp\"\n",
    "        android:text=\"TextView\"\n",
    "        android:textSize=\"24sp\"\n",
    "        app:layout_constraintEnd_toEndOf=\"parent\"\n",
    "        app:layout_constraintStart_toStartOf=\"parent\"\n",
    "        app:layout_constraintTop_toBottomOf=\"@+id/textView2\" />\n",
    "\n",
    "</androidx.constraintlayout.widget.ConstraintLayout>\n",
    "```"
   ]
  },
  {
   "cell_type": "markdown",
   "id": "c46329d3-c520-47e6-a218-bfae606b39f3",
   "metadata": {},
   "source": [
    "Aby móc odnieść się do odpowiednich pól nadajemy im identyfikatory (`android:id=\"@+id/textView\"`). Teraz możemy umieścić drugie pole `TextView` w odniesieniu do pierwszego. Jeżeli nie chcemy aby pola znajdowały się bezpośrednio jedno pod drugim, możemy wykorzystać właściwość `margin`, aby dodać pustą przestrzeń (`android:layout_marginTop=\"8dp\"`)."
   ]
  },
  {
   "cell_type": "markdown",
   "id": "ad53991d-22d0-459a-a3b4-0f27f78c9f81",
   "metadata": {},
   "source": [
    "`dp` (*density-independent pixel*) to jednostka, która służy do określania rozmiaru elementów interfejsu użytkownika, niezależnie od gęstości pikseli ekranu (ang. *density*). Dzięki temu, gdy użytkownik przesuwa się z urządzenia o mniejszej gęstości pikseli na urządzenie o większej gęstości pikseli, elementy interfejsu użytkownika wyglądają tak samo. Dlatego też, wartości `dp` są często używane do definiowania wymiarów elementów, takich jak marginesy, paddingi, wysokość i szerokość elementów.\n",
    "\n",
    "`sp` (*scale-independent pixel*) to jednostka, która jest podobna do `dp`, ale bierze również pod uwagę skalowanie czcionki (ang. *font scale*). Dzięki temu, elementy interfejsu użytkownika, które zawierają tekst, będą skalować się proporcjonalnie do wielkości czcionki ustawionej przez użytkownika w ustawieniach systemu. Dlatego też, wartości `sp` są często używane do definiowania rozmiaru czcionki."
   ]
  },
  {
   "cell_type": "markdown",
   "id": "0316686f-6176-4c21-a276-86e449c337b9",
   "metadata": {},
   "source": [
    "Wykorzystajmy teraz zakładkę **Design**. Przechodzimy do layoutu aktywności i do zakładki `Design`. Dodajmy do layoutu przycisk."
   ]
  },
  {
   "cell_type": "markdown",
   "id": "2702ae2a-1318-461b-a61e-e874f328641c",
   "metadata": {},
   "source": [
    "<img src=\"https://fv9-6.failiem.lv/thumb_show.php?i=pzntkpxba&view\" width=\"300\" />"
   ]
  },
  {
   "cell_type": "markdown",
   "id": "0f1cb80f-bf04-4d82-9e1a-8081f6f74424",
   "metadata": {},
   "source": [
    "Mamy cztery elementy które możemy zaznaczyć i przeciągnąć w kierunku dowolnej krawędzi tworząc w ten sposób ograniczenie (`constraint`)."
   ]
  },
  {
   "cell_type": "markdown",
   "id": "15a4d7af-0f2b-4301-a5ee-5c913897af4f",
   "metadata": {},
   "source": [
    "Jeżeli dodamy ograniczenie do górnej części ekranu, pojawi się warning o niewystarczającej liczbie ograniczeń."
   ]
  },
  {
   "cell_type": "markdown",
   "id": "23047e52-151e-4e1b-9b14-6124ab29924e",
   "metadata": {},
   "source": [
    "<img src=\"https://fv9-5.failiem.lv/thumb_show.php?i=b4m6r639a&view\" width=\"300\" />"
   ]
  },
  {
   "cell_type": "markdown",
   "id": "4e3df48f-d4f7-41ae-947d-dcb339fd3561",
   "metadata": {},
   "source": [
    "Minimalną liczbą ograniczeń są dwa - co najmniej jedno wertykalne i co najmniej jedno horyzontalne."
   ]
  },
  {
   "cell_type": "markdown",
   "id": "795d7692-bbc4-4aa9-847d-ce005d3aaab7",
   "metadata": {},
   "source": [
    "```xml\n",
    "    <Button\n",
    "        android:id=\"@+id/button\"\n",
    "        android:layout_width=\"wrap_content\"\n",
    "        android:layout_height=\"wrap_content\"\n",
    "        android:layout_marginStart=\"24dp\"\n",
    "        android:text=\"Button\"\n",
    "        app:layout_constraintEnd_toEndOf=\"parent\"\n",
    "        app:layout_constraintStart_toStartOf=\"parent\"\n",
    "        app:layout_constraintTop_toTopOf=\"parent\" />\n",
    "```"
   ]
  },
  {
   "cell_type": "markdown",
   "id": "85e96906-f9b1-44ce-b413-56d49e48c535",
   "metadata": {},
   "source": [
    "Połączenia pomiędzy elementami są kierunkowe. Dodajmy dwa przyciski do layoutu i utwórzmy pomiędzy nimi połączenie."
   ]
  },
  {
   "cell_type": "markdown",
   "id": "cde7f777-ae8c-4d71-9880-7a42d44f3c68",
   "metadata": {},
   "source": [
    "<img src=\"https://fv9-3.failiem.lv/thumb_show.php?i=s2c74txj7&view\" width=\"300\" />"
   ]
  },
  {
   "cell_type": "markdown",
   "id": "44f03620-ddca-49bd-80ab-4afe0fc06697",
   "metadata": {},
   "source": [
    "Czyli mamy połączenie od przycisku po lewej do przycisku po prawej stronie. Przy ustalonym marginesie pomiędzy dwoma elementami i połączeniu kierunkowym, przeciągając przycisk po lewej przeciągamy tylko ten przycisk zwiększając margines. Jeżeli zaczniemy przeciągać przycisk po prawej, margines zostanie zachowany a oba przyciski zmienią pozycję."
   ]
  },
  {
   "cell_type": "markdown",
   "id": "4dbf8080-1fd0-4c93-80a9-d27f6e249618",
   "metadata": {},
   "source": [
    "<img src=\"https://fv9-2.failiem.lv/thumb_show.php?i=9cznugwh7&view\" width=\"300\" />"
   ]
  },
  {
   "cell_type": "markdown",
   "id": "68a9026e-e54c-4c6d-8025-c44b57145b73",
   "metadata": {},
   "source": [
    "Rozwijając menu kontekstowe na jednym z przycisków możemy wybrać opcję **show baseline**, która umożliwia nam wyrównanie dwóch lub więcej elementów"
   ]
  },
  {
   "cell_type": "markdown",
   "id": "8d0d4822-d845-4758-a3b8-e8a43a9f4d91",
   "metadata": {},
   "source": [
    "<img src=\"https://fv9-3.failiem.lv/thumb_show.php?i=kxuj2wjh7&view\" width=\"300\" />"
   ]
  },
  {
   "cell_type": "markdown",
   "id": "93dbdfe2-696b-4079-984f-89d6c50c6f6d",
   "metadata": {},
   "source": [
    "### `LinearLayout`"
   ]
  },
  {
   "cell_type": "markdown",
   "id": "9d0636af-6d38-4646-8697-8605a68c3c1c",
   "metadata": {},
   "source": [
    "<img src=\"https://media.geeksforgeeks.org/wp-content/uploads/20210127084730/LLayout-660x425.png\"  width=\"400\" height=\"200\">"
   ]
  },
  {
   "cell_type": "markdown",
   "id": "af45ab28-9bf3-4a8a-bdbf-c02b8d277b23",
   "metadata": {},
   "source": [
    "`LinearLayout` to jedna z podstawowych klas layoutów w platformie Android, która umożliwia ustawienie elementów interfejsu użytkownika w linii prostej, w pionie lub w poziomie.\n",
    "\n",
    "Elementy interfejsu użytkownika są ustawione jeden po drugim wzdłuż osi `x` (dla orientacji poziomej) lub osi `y` (dla orientacji pionowej). Każdy element może być ustawiony z lewej strony, z prawej strony, na górze, na dole lub pośrodku. Elementy mogą również być ustawione z wagą, co oznacza, że zajmą więcej lub mniej miejsca na ekranie w zależności od tego, jakie wagi zostaną im przypisane.\n",
    "\n",
    "`LinearLayout` jest bardzo łatwy w użyciu i umożliwia szybkie tworzenie prostych układów interfejsu użytkownika, takich jak listy lub menu, które zawierają elementy ułożone jeden po drugim."
   ]
  },
  {
   "cell_type": "markdown",
   "id": "3026106b-bd52-406f-b369-58d44a8d3bdb",
   "metadata": {},
   "source": [
    "`LinearLayout` musi zawierać jeszcze jedną właściwość - **orientację**. Nasz jedyny layout ustawiamy w orientacji `vertical` - czyli każdy kolejno dodany element będzie umieszczany pod poprzednio dodanym."
   ]
  },
  {
   "cell_type": "code",
   "execution_count": null,
   "id": "3cae0ac0-2940-4c27-82a4-1a2ae1665432",
   "metadata": {},
   "outputs": [],
   "source": [
    "<?xml version=\"1.0\" encoding=\"utf-8\"?>\n",
    "<LinearLayout xmlns:android=\"http://schemas.android.com/apk/res/android\"\n",
    "    xmlns:tools=\"http://schemas.android.com/tools\"\n",
    "    android:layout_width=\"match_parent\"\n",
    "    android:layout_height=\"match_parent\"\n",
    "    android:orientation=\"vertical\"\n",
    "    tools:context=\".MainActivity\">\n",
    "\n",
    "</LinearLayout>"
   ]
  },
  {
   "cell_type": "markdown",
   "id": "880b00ed-ef62-482e-aec5-48c5dfacf1cc",
   "metadata": {},
   "source": [
    "Layouty możemy zagnieżdżać - jeżeli chcemy umieścić trzy elementy w takim rozmieszczeniu"
   ]
  },
  {
   "cell_type": "markdown",
   "id": "e712633b-07da-4ab5-9c4b-b83c21f00410",
   "metadata": {},
   "source": [
    "<img src=\"https://fv9-4.failiem.lv/thumb_show.php?i=kgy3uek74&view\" width=\"400\" />"
   ]
  },
  {
   "cell_type": "markdown",
   "id": "33b37d82-d8f3-413a-8e96-7f6b8e414bd0",
   "metadata": {},
   "source": [
    "możemy wykorzystać możliwość zgnieżdżenia dwóch `linearlayout` - jednego z orientacją **wertykalnej**, drugiego z orientacją **horyzontalną**"
   ]
  },
  {
   "cell_type": "code",
   "execution_count": null,
   "id": "af1ac751-2498-42fd-81b2-7764549ae879",
   "metadata": {},
   "outputs": [],
   "source": [
    "<?xml version=\"1.0\" encoding=\"utf-8\"?>\n",
    "<LinearLayout xmlns:android=\"http://schemas.android.com/apk/res/android\"\n",
    "    xmlns:tools=\"http://schemas.android.com/tools\"\n",
    "    android:layout_width=\"match_parent\"\n",
    "    android:layout_height=\"match_parent\"\n",
    "    android:orientation=\"vertical\"\n",
    "    tools:context=\".MainActivity\">\n",
    "\n",
    "    <LinearLayout\n",
    "        android:layout_width=\"match_parent\"\n",
    "        android:layout_height=\"wrap_content\"\n",
    "        android:orientation=\"horizontal\">\n",
    "\n",
    "        <TextView\n",
    "            android:layout_width=\"wrap_content\"\n",
    "            android:layout_height=\"wrap_content\"\n",
    "            android:layout_weight=\"1\"\n",
    "            android:text=\"PUM\"\n",
    "            android:textSize=\"20sp\"/>\n",
    "\n",
    "        <TextView\n",
    "            android:layout_width=\"wrap_content\"\n",
    "            android:layout_height=\"wrap_content\"\n",
    "            android:text=\"PUM2\"\n",
    "            android:layout_weight=\"1\"\n",
    "            android:textSize=\"20sp\"/>\n",
    "\n",
    "    </LinearLayout>\n",
    "\n",
    "    <EditText\n",
    "        android:layout_width=\"match_parent\"\n",
    "        android:layout_height=\"wrap_content\"\n",
    "        android:hint=\"PUM\"\n",
    "        android:autofillHints=\"false\"\n",
    "        android:inputType=\"\">\n",
    "    </EditText>\n",
    "</LinearLayout>"
   ]
  },
  {
   "cell_type": "markdown",
   "id": "92bf8ece-74d0-412f-a098-7227177c653b",
   "metadata": {},
   "source": [
    "Jeżeli chcemy rozmieścić elementy zawarte w rodzicu równomiernie możemy wykorzystać wagę layoutu - `android:layout_weight`. W powyższym przykładzie w obu polach `TextView` mamy wstawioną wagę 1, więc ich stosunek szerokości będzie wynosił 1:1."
   ]
  },
  {
   "cell_type": "markdown",
   "id": "d3da5887-560e-4c62-a007-f34031c7bb16",
   "metadata": {},
   "source": [
    "Elementy znajsujące się obok siebie i obok krawędzi często do nich przylegają. Aby tego uniknąć możemy wykorzystać właściwości `layout_margin` i `padding`"
   ]
  },
  {
   "cell_type": "markdown",
   "id": "17d84e77-a1a6-42e4-96aa-8be528f71b35",
   "metadata": {},
   "source": [
    "Pełny kod źródłowy przykładu:"
   ]
  },
  {
   "cell_type": "markdown",
   "id": "3f227f53-4421-49ba-b645-0f42294b637c",
   "metadata": {},
   "source": [
    "```xml\n",
    "<?xml version=\"1.0\" encoding=\"utf-8\"?>\n",
    "<LinearLayout xmlns:android=\"http://schemas.android.com/apk/res/android\"\n",
    "    xmlns:tools=\"http://schemas.android.com/tools\"\n",
    "    android:layout_width=\"match_parent\"\n",
    "    android:layout_height=\"match_parent\"\n",
    "    android:orientation=\"vertical\"\n",
    "    tools:context=\".MainActivity\">\n",
    "\n",
    "    <LinearLayout\n",
    "        android:layout_width=\"match_parent\"\n",
    "        android:layout_height=\"wrap_content\"\n",
    "        android:orientation=\"horizontal\">\n",
    "\n",
    "        <TextView\n",
    "            android:layout_width=\"wrap_content\"\n",
    "            android:layout_height=\"wrap_content\"\n",
    "            android:layout_weight=\"1\"\n",
    "            android:text=\"PUM\"\n",
    "            android:textSize=\"20sp\"/>\n",
    "\n",
    "        <TextView\n",
    "            android:layout_width=\"wrap_content\"\n",
    "            android:layout_height=\"wrap_content\"\n",
    "            android:text=\"PUM2\"\n",
    "            android:layout_weight=\"1\"\n",
    "            android:textSize=\"20sp\"/>\n",
    "\n",
    "    </LinearLayout>\n",
    "\n",
    "    <EditText\n",
    "        android:layout_width=\"match_parent\"\n",
    "        android:layout_height=\"wrap_content\"\n",
    "        android:hint=\"PUM\"\n",
    "        android:autofillHints=\"false\"\n",
    "        android:inputType=\"\">\n",
    "    </EditText>\n",
    "\n",
    "    <LinearLayout\n",
    "        android:layout_width=\"match_parent\"\n",
    "        android:layout_height=\"wrap_content\"\n",
    "        android:orientation=\"horizontal\">\n",
    "\n",
    "        <TextView\n",
    "            android:layout_width=\"wrap_content\"\n",
    "            android:layout_height=\"wrap_content\"\n",
    "            android:layout_weight=\"3\"\n",
    "            android:text=\"PUM\"\n",
    "            android:layout_marginStart=\"16dp\"\n",
    "            android:textSize=\"20sp\"/>\n",
    "\n",
    "        <Button\n",
    "            android:layout_width=\"wrap_content\"\n",
    "            android:layout_height=\"wrap_content\"\n",
    "            android:padding=\"16dp\"\n",
    "            android:layout_marginEnd=\"16dp\"\n",
    "            android:text=\"PUM2\"\n",
    "            android:layout_weight=\"1\"\n",
    "            android:textSize=\"20sp\"/>\n",
    "\n",
    "    </LinearLayout>\n",
    "</LinearLayout>\n",
    "```"
   ]
  },
  {
   "cell_type": "markdown",
   "id": "15cefb22-6d97-4636-94f2-f66142aa9baf",
   "metadata": {},
   "source": [
    "### Inne layouty"
   ]
  },
  {
   "cell_type": "markdown",
   "id": "f8cd7e14-7919-432a-afad-2d091e39ff1c",
   "metadata": {},
   "source": [
    "Oto lista kilku podstawowych typów layoutów dostępnych w Androidzie:\n",
    "\n",
    "- `LinearLayout` - układ elementów w linii prostej (w poziomie lub pionie)\n",
    "- `RelativeLayout` - układ elementów z użyciem względnych relacji między nimi\n",
    "- `ConstraintLayout` - elastyczny układ elementów z wykorzystaniem relacji między nimi\n",
    "- `FrameLayout` - układ elementów nakładających się na siebie, z widocznym tylko najwyższym elementem\n",
    "- `TableLayout` - układ elementów w formie tabeli, z kolumnami i wierszami\n",
    "- `GridLayout` - elastyczny układ elementów w formie siatki, w którym każdy element zajmuje taką samą przestrzeń\n",
    "- `ScrollView` - układ elementów, który umożliwia przewijanie zawartości, jeśli ta przekracza rozmiar ekranu\n",
    "- `CoordinatorLayout` - elastyczny układ elementów, który umożliwia koordynowanie zachowań między elementami interfejsu użytkownika"
   ]
  },
  {
   "cell_type": "markdown",
   "id": "98433737-5637-492a-9eef-edf265a203e9",
   "metadata": {},
   "source": [
    "Kilka podstawowych atrybutów layoutów w Androidzie:\n",
    "\n",
    "- `android:layout_width` - określa szerokość elementu\n",
    "- `android:layout_height` - określa wysokość elementu\n",
    "- `android:layout_margin` - określa margines wokół elementu\n",
    "- `android:layout_marginLeft` - określa margines z lewej strony elementu\n",
    "- `android:layout_marginRight` - określa margines z prawej strony elementu\n",
    "- `android:layout_marginTop` - określa margines z góry elementu\n",
    "- `android:layout_marginBottom` - określa margines z dołu elementu\n",
    "- `android:layout_padding` - określa wewnętrzny margines elementu\n",
    "- `android:layout_paddingLeft` - określa wewnętrzny margines z lewej strony elementu\n",
    "- `android:layout_paddingRight` - określa wewnętrzny margines z prawej strony elementu\n",
    "- `android:layout_paddingTop` - określa wewnętrzny margines z góry elementu\n",
    "- `android:layout_paddingBottom` - określa wewnętrzny margines z dołu elementu\n",
    "- `android:layout_gravity` - określa sposób wyrównania elementu w obrębie rodzica\n",
    "- `android:layout_weight` - określa wagę elementu w stosunku do innych elementów w układzie\n",
    "- `android:layout_alignParentTop` - określa, czy element powinien być wyrównany do góry rodzica\n",
    "- `android:layout_alignParentBottom` - określa, czy element powinien być wyrównany do dołu rodzica\n",
    "- `android:layout_alignParentLeft` - określa, czy element powinien być wyrównany do lewej strony rodzica\n",
    "- `android:layout_alignParentRight` - określa, czy element powinien być wyrównany do prawej strony rodzica\n",
    "- `android:layout_alignTop` - określa, czy element powinien być wyrównany do górnego krawędzi innego elementu\n",
    "- `android:layout_alignBottom` - określa, czy element powinien być wyrównany do dolnego krawędzi innego elementu."
   ]
  },
  {
   "cell_type": "markdown",
   "id": "27d9e94c-ecf7-4059-9057-500ed853c0db",
   "metadata": {},
   "source": [
    "Kilka podstawowych elementów interfejsu użytkownika w Androidzie:\n",
    "\n",
    "- `TextView` - element służący do wyświetlania tekstu na ekranie\n",
    "- `EditText` - pole tekstowe, które pozwala użytkownikowi na wprowadzanie tekstu\n",
    "- `Button` - przycisk, który użytkownik może kliknąć, aby wykonać jakąś akcję\n",
    "- `ImageButton` - przycisk, który wyświetla ikonę lub obrazek, a nie tekst\n",
    "- `CheckBox` - element służący do zaznaczania lub odznaczania wyboru\n",
    "- `RadioButton` - element, który umożliwia użytkownikowi wybór jednej z kilku opcji\n",
    "- `Switch` - element, który pozwala użytkownikowi przełączyć między dwoma stanami, na przykład włączony/wyłączony\n",
    "- `Spinner` - element, który wyświetla listę opcji, z których użytkownik może wybrać jedną\n",
    "- `ProgressBar` - element, który pokazuje postęp wykonywanej operacji\n",
    "- `SeekBar` - element, który pozwala użytkownikowi na wybór wartości z zakresu za pomocą suwaka.\n",
    "\n",
    "To tylko kilka podstawowych elementów interfejsu użytkownika w Androidzie. Istnieje wiele innych elementów, które można użyć w aplikacjach Androidowych, w tym np. `DatePicker`, `TimePicker`, `RatingBar`, `ListView`, `RecyclerView` i wiele innych."
   ]
  },
  {
   "cell_type": "code",
   "execution_count": null,
   "id": "2018d8b8-4fda-4380-a5c1-2a9c13fb4136",
   "metadata": {},
   "outputs": [],
   "source": []
  }
 ],
 "metadata": {
  "kernelspec": {
   "display_name": "Kotlin",
   "language": "kotlin",
   "name": "kotlin"
  },
  "language_info": {
   "codemirror_mode": "text/x-kotlin",
   "file_extension": ".kt",
   "mimetype": "text/x-kotlin",
   "name": "kotlin",
   "nbconvert_exporter": "",
   "pygments_lexer": "kotlin",
   "version": "1.8.20"
  }
 },
 "nbformat": 4,
 "nbformat_minor": 5
}
