{
 "cells": [
  {
   "cell_type": "markdown",
   "id": "01b75497-4cdc-41bf-8e0a-25c751038070",
   "metadata": {},
   "source": [
    "# CounterApp"
   ]
  },
  {
   "cell_type": "markdown",
   "id": "4cc3c9bd-79d0-4f07-a98e-6e49ed0e3a7e",
   "metadata": {},
   "source": [
    "Przejdźmy do utworzenia pierwszej aplikacji i stwórzmy prosty licznik. "
   ]
  },
  {
   "cell_type": "markdown",
   "id": "a57b375c-ce0f-4d1c-8acb-167887e1a066",
   "metadata": {},
   "source": [
    "<img src=\"https://media0.giphy.com/media/Lh9I3cXP2VdH1sFrsc/giphy.gif?cid=790b7611d0829bffb2f61d086d037fcf87f9b0f805ef3b33&rid=giphy.gif&ct=g\" width=\"200\" />"
   ]
  },
  {
   "cell_type": "markdown",
   "id": "b9754a23-6e5f-4aad-98a6-0cd96de601d2",
   "metadata": {},
   "source": [
    "Rozpoczniemy od utworzenia interfejsu zawierającego jeden `Button` i pole `TextView`. Przechodzimy do pliku `activity_main.xml`."
   ]
  },
  {
   "cell_type": "code",
   "execution_count": null,
   "id": "4d153252-f78e-4237-8182-7f2b4bc85f41",
   "metadata": {},
   "outputs": [],
   "source": [
    "<?xml version=\"1.0\" encoding=\"utf-8\"?>\n",
    "<LinearLayout xmlns:android=\"http://schemas.android.com/apk/res/android\"\n",
    "    xmlns:tools=\"http://schemas.android.com/tools\"\n",
    "    android:layout_width=\"match_parent\"\n",
    "    android:layout_height=\"match_parent\"\n",
    "    android:orientation=\"vertical\"\n",
    "    tools:context=\".MainActivity\">\n",
    "\n",
    "    <TextView\n",
    "        android:id=\"@+id/show_count\"\n",
    "        android:layout_width=\"match_parent\"\n",
    "        android:layout_height=\"0dp\"\n",
    "        android:layout_weight=\"1\"\n",
    "        android:text=\"0\"\n",
    "        android:textSize=\"250sp\"\n",
    "        android:gravity=\"center\"\n",
    "        android:textStyle=\"bold\"/>\n",
    "\n",
    "    <Button\n",
    "        android:layout_width=\"match_parent\"\n",
    "        android:layout_height=\"wrap_content\"\n",
    "        android:text=\"Count Up\"/>\n",
    "</LinearLayout>"
   ]
  },
  {
   "cell_type": "markdown",
   "id": "9bbfdb51-63ab-4c35-9da1-b368bf304a36",
   "metadata": {},
   "source": [
    "Zauważmy kilka nowych elementów:\n",
    "- `android:id` - jest identyfikatorem przez który możemy odnosić się do tego elementu w kodzie\n",
    "- `gravity` - wyśrodkowanie elementu"
   ]
  },
  {
   "cell_type": "markdown",
   "id": "cf3de71d-680c-4c07-a3f7-a4ba8773c630",
   "metadata": {},
   "source": [
    "Przejdźmy teraz do pliku `MainActivity.kt` w którym implementujemy funckjonalność głównej aktywności i dodajmy obsługę zdarzenia `onClick`. W pierwszej kolejności musimy utworzyć pole reprezentujące `TextView` - będzie to pole niemutowalne. Musimy również powiązać pole `showCount` z elementem layoutu o id `show_count`. W pierwszej kolejności robimy to wywołując metodę `findViewById` - jest to jedna z wielu dostępnych opcji. Ponieważ nasz `showCount` jest niemutowalny inicjalizację wykonujemy przez delegat `by lazy`."
   ]
  },
  {
   "cell_type": "code",
   "execution_count": null,
   "id": "2736f670-532a-4dd1-93fa-6c564d412271",
   "metadata": {},
   "outputs": [],
   "source": [
    "private val showCount: TextView by lazy{findViewById(R.id.show_count)}"
   ]
  },
  {
   "cell_type": "markdown",
   "id": "1b67b8a8-c2eb-4305-936f-af3d5ba1a2ad",
   "metadata": {},
   "source": [
    "Zwróćmy uwagę na wywołanie metody `findViewById`, jako argument przyjmuje ona id typu `Int`. Klasa `R` w Androidzie jest generowana automatycznie podczas kompilacji projektu i zawiera odwołania do zasobów aplikacji, takich jak pliki `xml`, pliki graficzne, stringi, style i wiele innych. Klasa `R` jest często używana do odwoływania się do zasobów aplikacji w kodzie Java lub Kotlin.\n",
    "\n",
    "Klasa `R` jest podzielona na wiele kategorii, takich jak `R.drawable`, `R.layout`, `R.string`, `R.color` i wiele innych. Każda kategoria odpowiada innemu typowi zasobu w aplikacji. Na przykład, `R.drawable` zawiera odwołania do plików graficznych, `R.layout` zawiera odwołania do plików `xml` z opisem interfejsu użytkownika, a `R.string` zawiera odwołania do ciągów tekstowych używanych w aplikacji."
   ]
  },
  {
   "cell_type": "markdown",
   "id": "e459533b-f440-47e3-b479-c9fdec9caa4c",
   "metadata": {},
   "source": [
    "Następnie dodajmy zmienną reprezentującą stan licznika"
   ]
  },
  {
   "cell_type": "code",
   "execution_count": null,
   "id": "5ab76d00-2d3d-4585-98d3-2835588ca505",
   "metadata": {},
   "outputs": [],
   "source": [
    "private var count = 0"
   ]
  },
  {
   "cell_type": "markdown",
   "id": "f153d595-5c79-43a0-b7b5-962a122ceb97",
   "metadata": {},
   "source": [
    "Kolejnym krokiem jest wyświetlenie tekstu, w tym celu wywołujemy metodę `text`"
   ]
  },
  {
   "cell_type": "code",
   "execution_count": null,
   "id": "38768dc3-7678-4007-8361-e35336435e2a",
   "metadata": {},
   "outputs": [],
   "source": [
    "override fun onCreate(savedInstanceState: Bundle?) {\n",
    "    super.onCreate(savedInstanceState)\n",
    "    setContentView(R.layout.activity_main)\n",
    "\n",
    "    showCount.text = count.toString()\n",
    "}"
   ]
  },
  {
   "cell_type": "markdown",
   "id": "66bc69de-687c-4d09-bd1b-7b5b8b82b468",
   "metadata": {},
   "source": [
    "Ostatnim krokiem jest dodanie implementacji metody `countUpButton`. W ciele klasy `MainActivity` dodajemy pole reprezentujące nasz przycisk (musimy również nadać mu id w pliku layoutu)."
   ]
  },
  {
   "cell_type": "code",
   "execution_count": null,
   "id": "0f564786-336d-4fbc-8ff3-56fd471d0cf5",
   "metadata": {},
   "outputs": [],
   "source": [
    "private val increaseButton: Button by lazy { findViewById(R.id.increase_button) }"
   ]
  },
  {
   "cell_type": "markdown",
   "id": "e1b2a13a-6421-4851-8d8e-dbca0e004e38",
   "metadata": {},
   "source": [
    "Następnie dodajemy kod obsługujący zdarzenie `onClick`"
   ]
  },
  {
   "cell_type": "code",
   "execution_count": null,
   "id": "878f8ba3-33ab-43f6-a124-847fb0ee1d41",
   "metadata": {},
   "outputs": [],
   "source": [
    "override fun onCreate(savedInstanceState: Bundle?) {\n",
    "    super.onCreate(savedInstanceState)\n",
    "    setContentView(R.layout.activity_main)\n",
    "\n",
    "    showCount.text = count.toString()\n",
    "\n",
    "    increaseButton.setOnClickListener {\n",
    "        count++\n",
    "        showCount.text = count.toString()\n",
    "    }\n",
    "}"
   ]
  },
  {
   "cell_type": "markdown",
   "id": "e63b893d-6dc9-42a9-83d0-529bc0bc9b21",
   "metadata": {},
   "source": [
    "Na tym etapie możemy zbudować projekt."
   ]
  },
  {
   "cell_type": "markdown",
   "id": "a4f5cec0-8b54-4579-9da7-2bfee3286b58",
   "metadata": {},
   "source": [
    "<img src=\"https://fv9-6.failiem.lv/thumb_show.php?i=e73zs4cbf&view\" width=\"200\" />"
   ]
  },
  {
   "cell_type": "markdown",
   "id": "1aef7cbe-2ebc-47a4-bb33-7499cc6e512c",
   "metadata": {},
   "source": [
    "### `Bundle`"
   ]
  },
  {
   "cell_type": "markdown",
   "id": "225c3fdc-b5ca-40c7-b1e3-a5b149a72246",
   "metadata": {},
   "source": [
    "Zwróćmy uwagę że przy zmianie orientacji urządzenia stan licznika jest resetowany"
   ]
  },
  {
   "cell_type": "markdown",
   "id": "f57e84a2-d29b-4147-a0f6-abe80b6d1ddc",
   "metadata": {},
   "source": [
    "<img src=\"https://fv9-5.failiem.lv/thumb_show.php?i=auy6zck7f&view\" width=\"200\" />"
   ]
  },
  {
   "cell_type": "markdown",
   "id": "23f6296c-6c21-44be-a15d-d05f4013bee9",
   "metadata": {},
   "source": [
    " Jest to związane z cyklem życia aktywności - aktywność jest niszczona i odtwarzana przy każdej zmianie konfiguracji. Możemy dane zachować przy pomocy obiektu typu `Bundle`. Zwróćmy uwagę na sygnaturę metody `OnCreate(savedInstanceState: Bundle?)` - przyjmuje ona jeden argument, to właśnie w nim możemy przekazać dane których nie chcemy utracić. Jest to typ zerowalny, ponieważ przy pierwszym uruchomieniu i wywołaniu metody `OnCreate` obiekt `Bundle` zawsze będzie miał wartość `null`."
   ]
  },
  {
   "cell_type": "markdown",
   "id": "10ed97d7-9829-4b63-af2e-bdd848096cdf",
   "metadata": {},
   "source": [
    "W pierwszym kroku musime zapisać dane które chcemy zachować i spakować je do obiektu `Bundle`. W tym celu mamy specjalną metodę którą możemy nadpisać w klasie `MainActivity` - metoda nazywa się `onSaveInstanceState`."
   ]
  },
  {
   "cell_type": "code",
   "execution_count": null,
   "id": "9f7513d5-b3f9-4738-9ae9-b06dab25081d",
   "metadata": {},
   "outputs": [],
   "source": [
    "override fun onSaveInstanceState(outState: Bundle) {\n",
    "    super.onSaveInstanceState(outState)\n",
    "    outState.putInt(\"counter_state\", count)\n",
    "}"
   ]
  },
  {
   "cell_type": "markdown",
   "id": "ecc4e472-7c02-4f5f-87bd-4c2cea549552",
   "metadata": {},
   "source": [
    "Do obiektu typu `Bundle` (standardowo nazywanym `outState` w metodzie `onSaveInstanceState`) możemy dodać dowolną liczbę danych za pomocą odpowiednich metod, tutaj chcemy przekazać stan licznika, więc używamy metody `putInt`. Metoda ta przyjmuje dwa argumenty:\n",
    "- klucz typu `String` który jest unikalnym identyfikatorem\n",
    "- wartość typu odpowiadającemu wywoływnej metodzie - tutaj wykorzystując metodę `putInt` wartość będzie typu `int`"
   ]
  },
  {
   "cell_type": "markdown",
   "id": "8f959fb1-1ad4-48b0-ba67-60e93c218981",
   "metadata": {},
   "source": [
    "Za każdym razem przy zmianie konfiguracji urządzenia metoda `onSaveInstanceState` jest wywoływana automatycznie. Dane możemy odebrać w metodzie `OnCreate`, która przyjmuje argueemnt typu `Bundle` (nie jest to jedyna możliwość - jest również metoda `onRestoreinstanceState`). Aby rozpakować przekazane dane do zmiennej `count` przypisujemy wartość wyciągniętą z argumentu `savedInstanceState` - pamiętając o sprawdzeniu czy `Bundle` nie ma wartości `null`. Posiada ją zawsze przy pierwszym uruchomieniu. Do metody `OnCreate` dodajemy kod"
   ]
  },
  {
   "cell_type": "code",
   "execution_count": null,
   "id": "5ea4f03e-78a7-4ec1-8f1b-41f873ae0c61",
   "metadata": {},
   "outputs": [],
   "source": [
    "if (savedInstanceState != null)\n",
    "    count = savedInstanceState.getInt(\"counter_state\")"
   ]
  },
  {
   "cell_type": "markdown",
   "id": "d74c279c-08ee-4d27-8e2a-3eb66886cc50",
   "metadata": {},
   "source": [
    "Tutaj istotna jest kolejność wywołań - wpierw próbujemy przypisać do `count` wartość z `savedInstanceState`, jeżeli to się nie uda wartość `count` pozostaje domyślna. Wartość wyjmujemy za pomocą analogicznej do `putInt` metody `getInt`, która przyjmuje jeden argument - jest to unikalny. Oczywistym jest że klucz w metodach `putInt` i `getInt` musi być ten sam. Dopiero wtedy wykonujemy aktualizację pola `showCount` (**TextView**)."
   ]
  },
  {
   "cell_type": "markdown",
   "id": "c95dc7a4-fe17-40cc-a6aa-1fc8c331bcc5",
   "metadata": {},
   "source": [
    "Przy prawidłowej implementacji stan licznika powinien być zachowany w przypadku wystąpienia zdarzenia rotacji."
   ]
  },
  {
   "cell_type": "markdown",
   "id": "9b11d05b-5ad0-44b8-a3c7-08498df5e0b2",
   "metadata": {},
   "source": [
    "### `ViewBinding`"
   ]
  },
  {
   "cell_type": "markdown",
   "id": "72cba054-2c48-4d02-bc8b-c77f171b3c23",
   "metadata": {},
   "source": [
    "Ostatnim elementem naszej pierwszej aplikacji będzie wykorzyystanie `ViewBinding` do połączenia elementów laoutu z odpowiednimi polami w klasie `MainActivity`."
   ]
  },
  {
   "cell_type": "markdown",
   "id": "717ab162-2c30-4c70-9a0a-0d7138bffbed",
   "metadata": {},
   "source": [
    "Metoda `findViewById` jest jednym ze sposobów uzyskania dostępu do elementów interfejsu użytkownika w Androidzie. Metoda ta służy do wyszukiwania elementu na podstawie jego identyfikatora, który jest zdefiniowany w pliku `XML` z opisem interfejsu użytkownika. Metoda ta zwraca obiekt typu `View`, który można następnie rzutować na odpowiedni typ elementu interfejsu użytkownika, np. `EditText` lub `Button`.\n",
    "\n",
    "`ViewBinding` to narzędzie wprowadzone przez Android Studio w wersji 3.6, które umożliwia wygodniejsze i bezpieczniejsze odwoływanie się do elementów interfejsu użytkownika w kodzie aplikacji. `ViewBinding` generuje klasę `Binding` dla każdego pliku `XML` z opisem interfejsu użytkownika, która zawiera odwołania do wszystkich elementów interfejsu użytkownika zdefiniowanych w tym pliku.\n",
    "\n",
    "W przeciwieństwie do metody `findViewById`, która jest wrażliwa na błędy podczas rzutowania obiektu `View` na konkretny typ elementu interfejsu użytkownika, `ViewBinding` zwraca już gotowe obiekty typu konkretnej klasy elementu interfejsu użytkownika. Ponadto, `ViewBinding` automatycznie generuje klasy `Binding` dla każdego pliku `XML` z opisem interfejsu użytkownika i odwołania do elementów interfejsu są odbywają się za pomocą bezpiecznych nullowalnych pól, co pozwala uniknąć problemów związanych z `NullPointerException`.\n",
    "\n",
    "Używanie `ViewBinding` jest zwykle uważane za lepsze rozwiązanie niż użycie metody `findViewById`, ponieważ jest to bardziej bezpieczne i wygodne rozwiązanie. Jednak zastosowanie `ViewBinding` wymaga dodatkowej konfiguracji projektu i wygenerowania odpowiednich klas `Binding` dla plików `XML` z opisem interfejsu użytkownika."
   ]
  },
  {
   "cell_type": "markdown",
   "id": "5a7a5bd8-5ac0-498c-b7d4-4189e8cf083a",
   "metadata": {},
   "source": [
    "Rozpoczniemy od dodania odpowiedniego wpisu do pliku `build.gradle(Module)`"
   ]
  },
  {
   "cell_type": "code",
   "execution_count": null,
   "id": "e7459f94-4716-438f-8341-3c5530f2e3f9",
   "metadata": {},
   "outputs": [],
   "source": [
    "android {\n",
    "    ...\n",
    "    buildFeatures {\n",
    "        viewBinding = true\n",
    "    }\n",
    "}"
   ]
  },
  {
   "cell_type": "markdown",
   "id": "f49267af-d0f6-43e3-a0d0-e98c211f5148",
   "metadata": {},
   "source": [
    "Przejdźmy do klasy `MainActivity`, w pierwszym kroku musimy utworzyć instancję automatycznie utworzonej klasy - plik do którego się odnosimy nosi nazwę `activity_main.xml`, więc klasa będzie nosić nazwę `ActivityMainBinding`"
   ]
  },
  {
   "cell_type": "code",
   "execution_count": null,
   "id": "ae0c0be8-dc16-4228-b2b7-50fac066754a",
   "metadata": {},
   "outputs": [],
   "source": [
    "private val binding by lazy { ActivityMainBinding.inflate(layoutInflater) }"
   ]
  },
  {
   "cell_type": "markdown",
   "id": "4c15ef91-97d4-40fc-8732-e0dd8dca6a14",
   "metadata": {},
   "source": [
    "`ActivityMainBinding` to klasa, która została wygenerowana automatycznie przez system `ViewBinding` na podstawie pliku `XML` z opisem interfejsu użytkownika (layoutu). Metoda `inflate` z klasy `ActivityMainBinding` tworzy obiekt typu `ActivityMainBinding`, który zawiera odwołania do wszystkich elementów interfejsu użytkownika zdefiniowanych w pliku `XML`.\n",
    "\n",
    "`layoutInflater` jest wykorzystywany do utworzenia obiektu `ActivityMainBinding`. `layoutInflater` jest obiektem, który umożliwia tworzenie obiektów z plików `XML` z opisem interfejsu użytkownika."
   ]
  },
  {
   "cell_type": "markdown",
   "id": "3ca0964e-cac1-43ff-8a30-be961e4935d4",
   "metadata": {},
   "source": [
    "Następnie możemy pozbyć się dwóch pól"
   ]
  },
  {
   "cell_type": "code",
   "execution_count": null,
   "id": "6ff60c8a-fbb2-466a-ac95-511a6880ffb0",
   "metadata": {},
   "outputs": [],
   "source": [
    "//private val showCount: TextView by lazy{findViewById(R.id.show_count)}\n",
    "//private val increaseButton: Button by lazy { findViewById(R.id.increase_button) }"
   ]
  },
  {
   "cell_type": "markdown",
   "id": "2cb31696-44e6-40e5-ad8d-6c706434a4ef",
   "metadata": {},
   "source": [
    "W kolejnym kroku musimy zmodyfikować argument metody `setContentVierw`"
   ]
  },
  {
   "cell_type": "code",
   "execution_count": null,
   "id": "8360c0ae-d80f-49cf-96e7-7a78eb33a616",
   "metadata": {},
   "outputs": [],
   "source": [
    "//setContentView(R.layout.activity_main)\n",
    "setContentView(binding.root)"
   ]
  },
  {
   "cell_type": "markdown",
   "id": "6da78035-e8ee-41cf-a420-20a5269cb720",
   "metadata": {},
   "source": [
    "Metoda `setContentView(R.layout.activity_main)` ustawia widok za pomocą pliku `XML` z opisem interfejsu użytkownika, który jest przechowywany w folderze `res/layout`. W tym przypadku, system Android odczytuje plik `activity_main.xml` z folderu `res/layout` i wstawia go jako widok do głównego okna aplikacji.\n",
    "\n",
    "Natomiast metoda `setContentView(binding.root)` ustawia widok, używając obiektu klasy `ActivityMainBinding`, który został utworzony przy użyciu `ViewBinding`. Ta metoda odwołuje się do właściwości `root` obiektu `ActivityMainBinding`, która reprezentuje najwyższy poziom widoku (najczęściej jest to `ConstraintLayout`, lub najbardziej *\"zewnętrzny\"* element layoutu), który został utworzony przez `ViewBinding`."
   ]
  },
  {
   "cell_type": "markdown",
   "id": "f95e31c7-e5c9-4224-8fb2-dc012538cbaf",
   "metadata": {},
   "source": [
    "Teraz przez `binding` możemy odnosić się do wszystkich pól zdefiniowanych (i posiadających `id`) w pliku `activity_main.xml`"
   ]
  },
  {
   "cell_type": "code",
   "execution_count": null,
   "id": "170583cb-0a47-40a4-97ae-af7fdba21411",
   "metadata": {},
   "outputs": [],
   "source": [
    "override fun onCreate(savedInstanceState: Bundle?) {\n",
    "    super.onCreate(savedInstanceState)\n",
    "    //setContentView(R.layout.activity_main)\n",
    "    setContentView(binding.root)\n",
    "\n",
    "    if (savedInstanceState != null)\n",
    "        count = savedInstanceState.getInt(\"counter_state\")\n",
    "\n",
    "    //showCount.text = count.toString()\n",
    "    binding.showCount.text = count.toString()\n",
    "\n",
    "    //increaseButton.setOnClickListener {\n",
    "    binding.increaseButton.setOnClickListener { \n",
    "        count++\n",
    "        //showCount.text = count.toString()\n",
    "        binding.showCount.text = count.toString()\n",
    "    }\n",
    "}"
   ]
  },
  {
   "cell_type": "markdown",
   "id": "7a473016-7fa5-46e1-990c-efcd85b46e16",
   "metadata": {},
   "source": [
    "Mopżna również spotkać się z wykorrzystaniem funkcji `apply`"
   ]
  },
  {
   "cell_type": "code",
   "execution_count": null,
   "id": "0e3c0409-138d-487f-8d2e-37737915dc4f",
   "metadata": {},
   "outputs": [],
   "source": [
    "binding.apply {\n",
    "    showCount.text = count.toString()\n",
    "    increaseButton.setOnClickListener {\n",
    "        count++\n",
    "        binding.showCount.text = count.toString()\n",
    "    }\n",
    "}"
   ]
  }
 ],
 "metadata": {
  "kernelspec": {
   "display_name": "Kotlin",
   "language": "kotlin",
   "name": "kotlin"
  },
  "language_info": {
   "codemirror_mode": "text/x-kotlin",
   "file_extension": ".kt",
   "mimetype": "text/x-kotlin",
   "name": "kotlin",
   "nbconvert_exporter": "",
   "pygments_lexer": "kotlin",
   "version": "1.8.20"
  }
 },
 "nbformat": 4,
 "nbformat_minor": 5
}
