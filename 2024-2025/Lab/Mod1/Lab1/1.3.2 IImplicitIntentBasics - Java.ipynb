{
 "cells": [
  {
   "cell_type": "markdown",
   "id": "43616581-81fa-4359-85d8-bc72e70043af",
   "metadata": {},
   "source": [
    "# Implicit Intent"
   ]
  },
  {
   "cell_type": "markdown",
   "id": "b5ce7ee5-65de-4807-bd80-05296c490b46",
   "metadata": {},
   "source": [
    "W tej aplikacji wykorzystamy mechanizm intentów domniemanych - wyślemy żądanie obłużenia adresu **url** strony domowej naszego wydziału. "
   ]
  },
  {
   "cell_type": "markdown",
   "id": "9615e3ae-7fc7-4306-84b6-22e5f10a14a9",
   "metadata": {},
   "source": [
    "`Intent` domniemany w Androidzie to rodzaj intencji, której celem jest uruchomienie akcji systemowej lub uruchomienie aktywności innej aplikacji bez potrzeby znania nazwy aktywności docelowej. Innymi słowy, ten `Intent` jest używany, gdy chcemy uruchomić aktywność lub usługę, ale nie mamy żadnych informacji na temat nazwy aktywności lub usługi.\n",
    "\n",
    "W przypadku domniemanych intentów, używamy pewnych filtrów lub kategorii, aby wskazać systemowi, czego dokładnie oczekujemy, a system podejmie decyzję o tym, która aktywność lub usługa spełnia nasze wymagania i uruchomi ją.\n",
    "\n",
    "Na przykład, jeśli chcemy otworzyć stronę internetową, możemy użyć `Intent` z akcją `ACTION_VIEW` i `URI` zawierającym adres `URL` strony internetowej. System automatycznie wybierze domyślną przeglądarkę lub aplikację, która obsługuje przeglądanie stron internetowych i uruchomi ją, aby otworzyć wskazaną stronę.\n",
    "\n",
    "`Intent` domniemany jest bardzo przydatny, gdy chcemy wykorzystać funkcjonalność innej aplikacji lub systemu bez konieczności ingerowania w kod źródłowy innej aplikacji."
   ]
  },
  {
   "cell_type": "markdown",
   "id": "9f6d9c37-25b7-4d87-9941-31b43c4a293f",
   "metadata": {},
   "source": [
    "`URI` (*Uniform Resource Identifier*) to ciąg znaków służący do identyfikacji zasobów w Internecie. `URI` składa się z kilku części, które opisują protokół, adres hosta, ścieżkę do zasobu oraz opcjonalne parametry.\n",
    "\n",
    "Na przykład, adres `URL` (*Uniform Resource Locator*), który służy do identyfikacji strony internetowej, jest rodzajem `URI`. Adres URL składa się z protokołu (np. `http` lub `https`), nazwy hosta (np. `www.example.com`) oraz ścieżki do zasobu (np. `/index.html`). Inne przykłady `URI` to adresy e-mail, numery telefonów czy identyfikatory plików na dysku twardym."
   ]
  },
  {
   "cell_type": "markdown",
   "id": "f6e0d088-c051-491e-9bca-a3099d157fd0",
   "metadata": {},
   "source": [
    "<img src=\"https://media0.giphy.com/media/8MIbW6rGduh30kpd5t/giphy.gif?cid=790b76117783e46f89fd7782861a51f1327132c4cb6e8559&rid=giphy.gif&ct=g\" width=\"150\" />"
   ]
  },
  {
   "cell_type": "markdown",
   "id": "7e29811e-3a4b-4304-a14a-10406dfb56fc",
   "metadata": {},
   "source": [
    "W pierwszej kolejności przygotowujemy layout."
   ]
  },
  {
   "cell_type": "code",
   "execution_count": null,
   "id": "9ce04cfe-e508-4bbd-9fe1-29f6bbe8436e",
   "metadata": {},
   "outputs": [],
   "source": [
    "<?xml version=\"1.0\" encoding=\"utf-8\"?>\n",
    "<androidx.constraintlayout.widget.ConstraintLayout xmlns:android=\"http://schemas.android.com/apk/res/android\"\n",
    "    xmlns:app=\"http://schemas.android.com/apk/res-auto\"\n",
    "    xmlns:tools=\"http://schemas.android.com/tools\"\n",
    "    android:layout_width=\"match_parent\"\n",
    "    android:layout_height=\"match_parent\"\n",
    "    tools:context=\".MainActivity\">\n",
    "\n",
    "    <Button\n",
    "        android:id=\"@+id/homeButton\"\n",
    "        android:layout_width=\"wrap_content\"\n",
    "        android:layout_height=\"wrap_content\"\n",
    "        android:text=\"Open Homepage\"\n",
    "        app:layout_constraintBottom_toBottomOf=\"parent\"\n",
    "        app:layout_constraintLeft_toLeftOf=\"parent\"\n",
    "        app:layout_constraintRight_toRightOf=\"parent\"\n",
    "        app:layout_constraintTop_toTopOf=\"parent\" />\n",
    "\n",
    "</androidx.constraintlayout.widget.ConstraintLayout>"
   ]
  },
  {
   "cell_type": "markdown",
   "id": "fc5590e2-8d9c-4188-822b-a71be74effb3",
   "metadata": {},
   "source": [
    "Dodajmy obsługę przycisku"
   ]
  },
  {
   "cell_type": "code",
   "execution_count": null,
   "id": "0ece5f62-71e1-4d69-b003-8b54a11c803b",
   "metadata": {},
   "outputs": [],
   "source": [
    "@Override\n",
    "protected void onCreate(Bundle savedInstanceState) {\n",
    "    super.onCreate(savedInstanceState);\n",
    "    setContentView(R.layout.activity_main);\n",
    "\n",
    "    Button button = findViewById(R.id.homeButton);\n",
    "    button.setOnClickListener(view -> {\n",
    "            \n",
    "    });\n",
    "}"
   ]
  },
  {
   "cell_type": "markdown",
   "id": "ad34ab1b-61eb-40bb-8da0-92dd6a63ef1c",
   "metadata": {},
   "source": [
    "Zdefiniujmy `String` przechowujący adres url"
   ]
  },
  {
   "cell_type": "code",
   "execution_count": null,
   "id": "da87b39a-eeed-48fc-a8f2-67632118e5f4",
   "metadata": {},
   "outputs": [],
   "source": [
    "String url = \"http://wfia.uni.wroc.pl/\";"
   ]
  },
  {
   "cell_type": "markdown",
   "id": "63824a17-ae04-4527-bbb4-eeb944fa84f4",
   "metadata": {},
   "source": [
    "Następnie tworzymy obiekt `Uri` (łańcuch znaków zapisany zgodnie z określoną składnią) do którego przekazujemy adres."
   ]
  },
  {
   "cell_type": "code",
   "execution_count": null,
   "id": "52915181-9f52-46e6-897f-15ea9fd1577c",
   "metadata": {},
   "outputs": [],
   "source": [
    "Uri uri = Uri.parse(url);"
   ]
  },
  {
   "cell_type": "markdown",
   "id": "fb887570-3082-478e-a76f-341abd14427c",
   "metadata": {},
   "source": [
    "W kolejnym kroku tworzę `Intent`, który przyjmuje dwa argumenty. Pierwszym jest rodzaj akcji który chcemy wykonać, drugim dane które przekażemy do wyselekcjonowanej aktywności."
   ]
  },
  {
   "cell_type": "code",
   "execution_count": null,
   "id": "4827e5bb-cc1d-440e-bab6-798d14a2d69e",
   "metadata": {},
   "outputs": [],
   "source": [
    "Intent intent = new Intent(Intent.ACTION_VIEW, uri);"
   ]
  },
  {
   "cell_type": "markdown",
   "id": "75c33403-e510-4e04-abae-47cb737cacff",
   "metadata": {},
   "source": [
    "Do `Intent` dodajmy odpowiednią kategorię - naszą kategorią jest `BROWSABLE`"
   ]
  },
  {
   "cell_type": "code",
   "execution_count": null,
   "id": "529003b0-3a35-4801-8cbf-6b99ecb3fb48",
   "metadata": {},
   "outputs": [],
   "source": [
    "intent.addCategory(Intent.CATEGORY_BROWSABLE);"
   ]
  },
  {
   "cell_type": "markdown",
   "id": "6ac98e21-2e66-4c9e-94fb-2d65d2837eae",
   "metadata": {},
   "source": [
    "Kolejnym elementem jest sprawdzenie czy aktywność pozwalająca obsłużyć żądaną akcję istnieje na urządzeniu"
   ]
  },
  {
   "cell_type": "code",
   "execution_count": null,
   "id": "49d3ba9b-dab3-4131-a3ab-72596169c485",
   "metadata": {},
   "outputs": [],
   "source": [
    "if (intent.resolveActivity(getPackageManager()) != null)"
   ]
  },
  {
   "cell_type": "markdown",
   "id": "c5471acd-3f90-4ee2-983e-0bcfdf17b6b7",
   "metadata": {},
   "source": [
    "Metoda `resolveActiviy` zwraca `null` gdy taka aktywność nie istnieje. Listę wszystkich aktywności przechowuje `PackageManager` do instancji którego możemy się dostać wywołując `packageManager`.\n",
    "\n",
    "Od **Android 11 (API 30)** w tym miejscu dostaniemy *warning* mówiący o użyciu tagów `<queries>`. Jest to związane z wprowadzonym od API 30 filtrowaniem widoczności pakietów - aby ograniczyć widoczność wszystkich pakietów (aplikacji zainstalowanych na urządzeniu). Niektóre aplikacje są widoczne automatycznie, aby dostać się do innych należy w naszej aplikacji określić jawnie jakie informacje są potrzebne.\n",
    "\n",
    "`<queries>` to sekcja w pliku AndroidManifest.xml, która pozwala na określenie zestawu zapytań (*queries*), które aplikacja obsługuje. W przypadku, gdy w innej aplikacji zostanie wywołany `Intent`, który pasuje do jednego z zapytań określonych w sekcji `<queries>`, system Android wyświetli naszą aplikację w liście aplikacji, które mogą obsłużyć ten `Intent`.\n",
    "\n",
    "Możliwość określenia zestawu zapytań, które aplikacja obsługuje, pozwala na zmniejszenie liczby fałszywych trafień.\n",
    "\n",
    "Na przykład, aplikacja obsługująca przeglądanie stron internetowych może zadeklarować zapytanie, które będzie odpowiadało za obsługę adresów `URL`, a aplikacja obsługująca odtwarzanie muzyki może zadeklarować zapytanie, które będzie odpowiadało za obsługę plików muzycznych.\n",
    "\n",
    "Możemy to zrobić w `AndroidManifest.xml`"
   ]
  },
  {
   "cell_type": "code",
   "execution_count": null,
   "id": "40dd9f85-4399-46ea-9a53-47b2aca7adc5",
   "metadata": {},
   "outputs": [],
   "source": [
    "<?xml version=\"1.0\" encoding=\"utf-8\"?>\n",
    "<manifest xmlns:android=\"http://schemas.android.com/apk/res/android\"\n",
    "    package=\"pl.edu.uwr.pum.implicitintentjava\">\n",
    "\n",
    "    <queries>\n",
    "        <intent>\n",
    "            <action android:name=\"android.intent.action.VIEW\" />\n",
    "            <category android:name=\"android.intent.category.BROWSABLE\" />\n",
    "            <data android:scheme=\"https\" />\n",
    "        </intent>\n",
    "    </queries>\n",
    "    ..."
   ]
  },
  {
   "cell_type": "markdown",
   "id": "a54d5feb-5cc9-4acc-b2ed-ee335b9c3896",
   "metadata": {},
   "source": [
    "Tutaj musimy sprecyzować kilka rzeczy\n",
    "- `<intent>` - definiuje Intent, który aplikacja jest w stanie obsłużyć\n",
    "- `<action>` - określa akcję Intentu, która musi być zgodna z wywołaniem z zewnątrz. W tym przypadku akcja to `VIEW`, co oznacza, że aplikacja jest w stanie obsłużyć Intenty do wyświetlania widoków.\n",
    "- `<category>` - określa kategorię Intentu, która również musi być zgodna z wywołaniem z zewnątrz. W tym przypadku kategoria to `BROWSABLE`, co oznacza, że aplikacja jest w stanie obsłużyć Intenty do wyświetlania zawartości internetowej.\n",
    "- `<data>` - określa dane, na których Intent jest wywoływany. W tym przypadku określono, że aplikacja jest w stanie obsłużyć Intenty dla protokołu `HTTPS`.\n",
    "\n",
    "Zwróćmy uwagę również na `<intent-filter>`. `<intent-filter>` jest używany do rejestrowania komponentów aplikacji (takich jak aktywności, odbiorniki itp.), które są w stanie obsłużyć określone Intenty. Element ten zawiera zestaw atrybutów, które precyzują rodzaj Intenta, jaki może zostać obsłużony przez aplikację. Aplikacja może mieć wiele `<intent-filter>` dla jednego komponentu, co umożliwia rejestrowanie różnych działań, jakie aplikacja jest w stanie obsłużyć.\n",
    "\n",
    "`<queries>` natomiast służy do określenia, jakie typy Intents mogą być kierowane do aplikacji z zewnątrz. Można to zastosować, gdy chcemy mieć większą kontrolę nad tym, jakie Intenty mogą być kierowane do naszej aplikacji, a jednocześnie chcemy uniknąć bezpieczeństwa lub wydajności w przypadku zbyt dużej liczby Intents, które aplikacja może obsługiwać.\n",
    "\n",
    "Podsumowując, `<intent-filter>` jest używany do rejestrowania działań, jakie aplikacja jest w stanie obsłużyć, a `<queries>` służy do określenia działań, jakie aplikacja jest zainteresowana obsługiwaniem z zewnątrz."
   ]
  },
  {
   "cell_type": "code",
   "execution_count": null,
   "id": "b55eca02-35aa-46eb-bfd5-1a357d82e078",
   "metadata": {},
   "outputs": [],
   "source": [
    "<intent-filter>\n",
    "    <action android:name=\"android.intent.action.MAIN\" />\n",
    "\n",
    "    <category android:name=\"android.intent.category.LAUNCHER\" />\n",
    "</intent-filter>"
   ]
  },
  {
   "cell_type": "markdown",
   "id": "e91f8479-df5b-40ec-a576-11e761daa192",
   "metadata": {},
   "source": [
    "To właśnie tutaj możemy określić kategorię i akcje jakie nasza aplikacja może obsłużyć - ta informacja trafia do `PackageManagera`. Jeżeli inna aplikacja zażąda wykonania akcji, którą nasza aplikacja jest w stanie obsłużyć - zostanie ona otwarta gdy jest jedyną aplikacją przypisaną do tej konkretnej akcji, lub zostanie pokazana w selektorze aplikacji wraz ze wszystkimi innymi mogącymi obsłużyć tą akcję."
   ]
  },
  {
   "cell_type": "markdown",
   "id": "edd3a042-8633-4cfe-9fc8-a44f846be0c4",
   "metadata": {},
   "source": [
    "Pozostaje już tylko włączyć aktywność wywołując metodą `startActivity`.\n",
    "\n",
    "Pełny kod metody `onCreate`"
   ]
  },
  {
   "cell_type": "code",
   "execution_count": null,
   "id": "c9b19ebf-dd49-4d62-81cb-58a132696c33",
   "metadata": {},
   "outputs": [],
   "source": [
    "@Override\n",
    "protected void onCreate(Bundle savedInstanceState) {\n",
    "    super.onCreate(savedInstanceState);\n",
    "    binding = ActivityMainBinding.inflate(getLayoutInflater());\n",
    "    setContentView(binding.getRoot());\n",
    "\n",
    "    binding.homeButton.setOnClickListener(view -> {\n",
    "        String url = \"http://wfia.uni.wroc.pl/\";\n",
    "        Uri uri = Uri.parse(url);\n",
    "\n",
    "        Intent intent = new Intent(Intent.ACTION_VIEW, uri);\n",
    "        intent.addCategory(Intent.CATEGORY_BROWSABLE);\n",
    "\n",
    "        if (intent.resolveActivity(getPackageManager()) != null)\n",
    "            startActivity(intent);\n",
    "    });\n",
    "}"
   ]
  },
  {
   "cell_type": "markdown",
   "id": "1d8e9afa-a76a-4f83-9241-ee5fc3821301",
   "metadata": {},
   "source": [
    "Możemy przetestować aplikację - po naciśnięciu przycisku powinna włączyć się domyślna przeglądarka lub selektor aplikacji."
   ]
  }
 ],
 "metadata": {
  "kernelspec": {
   "display_name": "Kotlin",
   "language": "kotlin",
   "name": "kotlin"
  },
  "language_info": {
   "codemirror_mode": "text/x-kotlin",
   "file_extension": ".kt",
   "mimetype": "text/x-kotlin",
   "name": "kotlin",
   "nbconvert_exporter": "",
   "pygments_lexer": "kotlin",
   "version": "1.8.0-RC"
  }
 },
 "nbformat": 4,
 "nbformat_minor": 5
}
