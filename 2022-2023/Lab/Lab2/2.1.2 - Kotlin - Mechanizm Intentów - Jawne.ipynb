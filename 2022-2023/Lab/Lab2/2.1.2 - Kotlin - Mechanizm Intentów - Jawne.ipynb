{
 "cells": [
  {
   "cell_type": "markdown",
   "id": "724ed8dc-0737-4c6f-be16-4589026acc5e",
   "metadata": {},
   "source": [
    "# 2.1 Explicit Intent"
   ]
  },
  {
   "cell_type": "markdown",
   "id": "e405255b-943f-4a15-8b70-4b9fcbe340c7",
   "metadata": {},
   "source": [
    "W tym przykładzie przyjrzymy się mechanizmowi intentów, rozpoczniemy od intentów jawnych. Stworzymy aplikację z dwiema aktywnościami i umożliwimy otworzenie drugiej aktywności z poziomu pierwszej (głównej). "
   ]
  },
  {
   "cell_type": "markdown",
   "id": "eef3aee4-295f-44aa-a597-db35a35d9b2c",
   "metadata": {},
   "source": [
    "Przedźmy do aktywności głównej i dodajmy przycisk do layoutu."
   ]
  },
  {
   "cell_type": "markdown",
   "id": "506bf34d-3a9a-423f-9aa4-912ea90eb5f1",
   "metadata": {},
   "source": [
    "### Layout i utworzenie drugiej aktywności"
   ]
  },
  {
   "cell_type": "markdown",
   "id": "50145872-aefc-40ab-a06e-20d308842259",
   "metadata": {},
   "source": [
    "```xml\n",
    "<?xml version=\"1.0\" encoding=\"utf-8\"?>\n",
    "<androidx.constraintlayout.widget.ConstraintLayout xmlns:android=\"http://schemas.android.com/apk/res/android\"\n",
    "    xmlns:app=\"http://schemas.android.com/apk/res-auto\"\n",
    "    xmlns:tools=\"http://schemas.android.com/tools\"\n",
    "    android:layout_width=\"match_parent\"\n",
    "    android:layout_height=\"match_parent\"\n",
    "    tools:context=\".MainActivity\">\n",
    "\n",
    "    <Button\n",
    "        android:id=\"@+id/button\"\n",
    "        android:layout_width=\"wrap_content\"\n",
    "        android:layout_height=\"wrap_content\"\n",
    "        android:text=\"Button\"\n",
    "        android:layout_margin=\"16dp\"\n",
    "        app:layout_constraintBottom_toBottomOf=\"parent\"\n",
    "        app:layout_constraintEnd_toEndOf=\"parent\"\n",
    "        android:onClick=\"startSecondActivity\"/>\n",
    "</androidx.constraintlayout.widget.ConstraintLayout>\n",
    "```"
   ]
  },
  {
   "cell_type": "markdown",
   "id": "77b66afe-4205-4f34-b7b6-b965ce62301c",
   "metadata": {},
   "source": [
    "Po naciśnięciu tego przycisku możliwe będzie przejście do drugiej aktywności."
   ]
  },
  {
   "cell_type": "markdown",
   "id": "217e9d2b-e2c7-4ea6-bbd2-4daac00c83eb",
   "metadata": {},
   "source": [
    "Następnie dodajmy drugą aktywność do projektu. W oknie **Project** wybieram z menu kontekstowego **New -> Activity -> Empty Activity**. Zaznaczam **Generate layout file** i odznaczam **Launcher Activity**. Przejdźmy do pliku `AndroidManifest.xml`"
   ]
  },
  {
   "cell_type": "markdown",
   "id": "1ee28dbb-fd17-42c3-9cd0-da1293263324",
   "metadata": {},
   "source": [
    "Mamy opisane dwie aktywności. Chcemy teraz wskazać rodzica dla **SecondActivity** . Do tagu `<activity />` dodaję opcję `android:parentActivityName=\".MainActivity\"` oraz `android:label=\"Second Activity\"`."
   ]
  },
  {
   "cell_type": "markdown",
   "id": "7b995d65-8a7d-4980-84ec-a25b5722bce9",
   "metadata": {},
   "source": [
    "```xml\n",
    "<activity\n",
    "    android:name=\".SecondActivity\"\n",
    "    android:parentActivityName=\".MainActivity\"\n",
    "    android:label=\"Second Activity\"\n",
    "    android:exported=\"false\" />\n",
    "```"
   ]
  },
  {
   "cell_type": "markdown",
   "id": "365bf99f-90c1-4d54-9601-525a8d7e7d52",
   "metadata": {},
   "source": [
    "Czyli wskazaliśmy ze aktywnością nadrzędną jest **MainActivity**. Zwróćmy również uwagę na kropkę przed nazwą aktywności głównej - pominięta została nazwa pakietu (`pl.edu.uwr.pum.explicitintentkotlin.MainActivity`). `label` posłuży jako wyświetlana nazwa aktywności."
   ]
  },
  {
   "cell_type": "markdown",
   "id": "912ec840-f318-44e2-b10b-b28e62775308",
   "metadata": {},
   "source": [
    "Teraz utworzymy prosty layout dla drugiej aktywności - przechodzimy do pliku `activity_second.xml` i dodajemy pole `TextView`."
   ]
  },
  {
   "cell_type": "markdown",
   "id": "b56ac6a2-498d-49fd-add5-4a3635f6bb02",
   "metadata": {},
   "source": [
    "```xml\n",
    "<?xml version=\"1.0\" encoding=\"utf-8\"?>\n",
    "<androidx.constraintlayout.widget.ConstraintLayout xmlns:android=\"http://schemas.android.com/apk/res/android\"\n",
    "    xmlns:app=\"http://schemas.android.com/apk/res-auto\"\n",
    "    xmlns:tools=\"http://schemas.android.com/tools\"\n",
    "    android:layout_width=\"match_parent\"\n",
    "    android:layout_height=\"match_parent\"\n",
    "    tools:context=\".SecondActivity\">\n",
    "\n",
    "    <TextView\n",
    "        android:id=\"@+id/textView\"\n",
    "        android:layout_width=\"wrap_content\"\n",
    "        android:layout_height=\"wrap_content\"\n",
    "        android:text=\"Second Activity\"\n",
    "        android:textSize=\"40sp\"\n",
    "        android:textStyle=\"bold\"\n",
    "        android:textColor=\"@color/black\"\n",
    "        app:layout_constraintBottom_toBottomOf=\"parent\"\n",
    "        app:layout_constraintEnd_toEndOf=\"parent\"\n",
    "        app:layout_constraintStart_toStartOf=\"parent\"\n",
    "        app:layout_constraintTop_toTopOf=\"parent\" />\n",
    "</androidx.constraintlayout.widget.ConstraintLayout>\n",
    "```"
   ]
  },
  {
   "cell_type": "markdown",
   "id": "1a914567-a012-4baa-a559-dec75864723f",
   "metadata": {},
   "source": [
    "### Utworzenie `Intent` i przejście do drugiej aktywności"
   ]
  },
  {
   "cell_type": "markdown",
   "id": "3978e086-cd7a-493f-85b0-1b1797adddd4",
   "metadata": {},
   "source": [
    "Dodajmy teraz obsługę przycisku w naszej głównej aktywności, przyjdźmy do pliku `MainActivity.kt`. Po wciśnięciu przycisku chcemy przejść do drugiej aktywności."
   ]
  },
  {
   "cell_type": "markdown",
   "id": "efe4f2fd-3622-46ad-b433-1ef2ec7d6710",
   "metadata": {},
   "source": [
    "```kotlin\n",
    "fun startSecondActivity(view: View) {\n",
    "    \n",
    "}\n",
    "```"
   ]
  },
  {
   "cell_type": "markdown",
   "id": "87684b8c-8927-453b-bb20-155d64fd97a6",
   "metadata": {},
   "source": [
    "W pierwszym kroku musimy utworzyć **intent**."
   ]
  },
  {
   "cell_type": "markdown",
   "id": "c6b0cab1-9062-4e16-a5c9-29a6043793b6",
   "metadata": {},
   "source": [
    "```kotlin\n",
    "val intent = Intent(this, SecondActivity::class.java)\n",
    "```"
   ]
  },
  {
   "cell_type": "markdown",
   "id": "18fbdafc-ef8c-4afc-ad50-cc034e916197",
   "metadata": {},
   "source": [
    "Konstruktor klasy `Intent` przyjmuje dwa argumenty. Pierwszym jest **context**, ponieważ aktywność jest swoim własnym kontekstem używamy słowa kluczowego `this`. Drugim argumentem jest klasa aktywności którą chcemy włączyć - tutaj będzie to `SecondActivity::class.java`."
   ]
  },
  {
   "cell_type": "markdown",
   "id": "34e13fa6-88e6-4fca-bda4-5d3fb1e3ee67",
   "metadata": {},
   "source": [
    "Aby włączyć aktywność wykonujemy metodę `startActivity`, jako argumentb podajemy poprzednio utworzony `Intent`."
   ]
  },
  {
   "cell_type": "markdown",
   "id": "c5928669-bf2e-4323-8f90-67e5754bbf9a",
   "metadata": {},
   "source": [
    "```kotlin\n",
    "startActivity(intent)\n",
    "```"
   ]
  },
  {
   "cell_type": "markdown",
   "id": "066f2338-318a-45f5-ab39-b1e064e9be6a",
   "metadata": {},
   "source": [
    "Na tym etapie możemy zbudować nasz projekt i przetestować funkcjonalność przycisku. Po przejściu do drugiej aktywności zwróćmy uwagę na przycisk powrotu znajdujący się na belce po lewej stronie."
   ]
  },
  {
   "cell_type": "markdown",
   "id": "d516d0f3-9e35-4533-8a97-e00c20b71ad5",
   "metadata": {},
   "source": [
    "<img src=\"images/explicitIntent1.png\" width=\"200\"/>"
   ]
  },
  {
   "cell_type": "markdown",
   "id": "cc9c3110-0d7d-4744-a3e6-fc170893fe9e",
   "metadata": {},
   "source": [
    "### Przekazanie danych do drugiej aktywności"
   ]
  },
  {
   "cell_type": "markdown",
   "id": "36f3e64d-1e2e-42d8-ac90-a2439032cb45",
   "metadata": {},
   "source": [
    "Kolejnym krokiem będzie przekazanie danych i ich odbiór w drugiej aktywności - tutaj przekażemy tekst z pola `EditText`. Do layoutu głównej aktywności dodajmy odpowiednie pole."
   ]
  },
  {
   "cell_type": "markdown",
   "id": "5237d670-71c9-48ff-89fd-9c9512bd7bbe",
   "metadata": {},
   "source": [
    "```xml\n",
    "<EditText\n",
    "    android:id=\"@+id/editTextMain\"\n",
    "    android:layout_width=\"0dp\"\n",
    "    android:layout_height=\"wrap_content\"\n",
    "    android:layout_margin=\"16dp\"\n",
    "    android:hint=\"message\"\n",
    "    android:textStyle=\"bold\"\n",
    "    android:textSize=\"24sp\"\n",
    "    app:layout_constraintBottom_toBottomOf=\"parent\"\n",
    "    app:layout_constraintEnd_toStartOf=\"@+id/button\"\n",
    "    app:layout_constraintStart_toStartOf=\"parent\"\n",
    "    android:importantForAutofill=\"no\"\n",
    "    android:inputType=\"\" />\n",
    "```"
   ]
  },
  {
   "cell_type": "markdown",
   "id": "d0dfea10-4130-42e1-b4bd-67276075638c",
   "metadata": {},
   "source": [
    "Pierwszą rzeczą jakiej będziemy potrzebować jest to **klucz** naszej wiadomości. Przejdźmy do klasy głównej aktyności `MainActivity.kt` i dodajmy odpowiednie pole. Standardowo klucze przechowuje się w niemutowalnych polach `const` najwyższego poziomu."
   ]
  },
  {
   "cell_type": "markdown",
   "id": "d868a9cf-059e-4022-818d-5c81451e9094",
   "metadata": {},
   "source": [
    "```kotlin\n",
    "const val EXTRA_MESSAGE = \"pl.edu.uwr.pum.explicitintentkotlin.MESSAGE\"\n",
    "```"
   ]
  },
  {
   "cell_type": "markdown",
   "id": "4912525f-b803-44a9-81a0-d0321c9b2c95",
   "metadata": {},
   "source": [
    "Standardowo nazwę stałej przechowującej klucz piszemy wielkimi literami, sam `String` zawierający klucz składa się z pakietu w której znajduje się aktywność wysyłająca i nazwy."
   ]
  },
  {
   "cell_type": "markdown",
   "id": "b1787985-ed85-4a1d-8a2c-fda7b8482747",
   "metadata": {},
   "source": [
    "Dalej utwórzmy pole reprezentujące `EditText` i połączmy z elementem layoutu o odpowiednim `id`."
   ]
  },
  {
   "cell_type": "markdown",
   "id": "45df3b05-85df-416f-a34c-9497cc9211da",
   "metadata": {},
   "source": [
    "```kotlin\n",
    "private val editText: EditText by lazy{findViewById(R.id.editTextMain)}\n",
    "```"
   ]
  },
  {
   "cell_type": "markdown",
   "id": "e7f35394-7b15-4027-8119-363840e0a7d6",
   "metadata": {},
   "source": [
    "Ostatnim krokiem będzie spakowanie danych i przesłanie ich do drugiej aktywności. Przechodzimy do metody `startSecondActivity` (czyli metody `onClick` naszego przycisku) i uzupełniamy implementację."
   ]
  },
  {
   "cell_type": "markdown",
   "id": "9a592a71-279c-4b18-a69e-66ad03c72368",
   "metadata": {},
   "source": [
    "W pierwszym kroku wyciągamy tekst z pola `EditText`"
   ]
  },
  {
   "cell_type": "markdown",
   "id": "d3442dff-8313-4586-a285-029f6480e2b8",
   "metadata": {},
   "source": [
    "```kotlin\n",
    "val message = editText.text.toString()\n",
    "```"
   ]
  },
  {
   "cell_type": "markdown",
   "id": "c47075b6-4e8b-432f-b5bc-c0d6df65b09d",
   "metadata": {},
   "source": [
    "Następnie dodajemy do intentu nasze dane - czyli `String` wyciągnięty z `EditText`. W tym celu na naszym obiekcie `Intent` wywołujemy metodę `putExtra`, która dodaje dane do obiektu `Intent` i przekazuje je do aktywności odbierającej. Zrobimy to za pomocą **Scope Function** `apply`."
   ]
  },
  {
   "cell_type": "markdown",
   "id": "37f395bd-9c84-4b66-b8a3-2b5357bd055a",
   "metadata": {},
   "source": [
    "```kotlin\n",
    "val intent = Intent(this, SecondActivity::class.java).apply {\n",
    "    putExtra(EXTRA_MESSAGE, message)\n",
    "}\n",
    "```"
   ]
  },
  {
   "cell_type": "markdown",
   "id": "a7e9072a-1087-4fed-93b8-d87ca5641043",
   "metadata": {},
   "source": [
    "Metoda przyjmuje dwa argumenty. Pierwszym jest nasz unikalny klucz, który mamy zapisany w stałej `EXTRA_MESSAGE`, drugim jest `String` który chcemy przekazać."
   ]
  },
  {
   "cell_type": "markdown",
   "id": "f7fafeb3-db5e-419c-8c78-d7fde5a074fb",
   "metadata": {},
   "source": [
    "```kotlin\n",
    "fun startSecondActivity(view: View) {\n",
    "    val message = editText.text.toString()\n",
    "    val intent = Intent(this, SecondActivity::class.java).apply {\n",
    "        putExtra(EXTRA_MESSAGE, message)\n",
    "    }\n",
    "    startActivity(intent)\n",
    "}\n",
    "```"
   ]
  },
  {
   "cell_type": "markdown",
   "id": "32a78233-ac5b-487e-ae4e-76f01f6990fb",
   "metadata": {},
   "source": [
    "### Odebranie danych z poziomu drugiej aktywności"
   ]
  },
  {
   "cell_type": "markdown",
   "id": "f7f8f9b4-fe7b-48ef-9ca0-75f18a2fc484",
   "metadata": {},
   "source": [
    "Kolejnym krokiem będzie odebranie danych z poziomu drugiej aktywności - odebrany `String` przekażemy do pola `TextView`. Odbieramy przesłane dane za pomocą metody `getStringExtra` wywołanej na odebranej instancji klasy `Intent` - w odróżnieniu od Javy nie ma konieczności jawnego wywołania metody `getIntent`. Pole `intent` umieszczone w metodzie `onCreate` zawiera instancję klasy `Intent` przekazaną przez `MainActivity`."
   ]
  },
  {
   "cell_type": "markdown",
   "id": "319ea351-2597-4501-b23a-965c763f7efa",
   "metadata": {},
   "source": [
    "```kotlin\n",
    "val message = intent.getStringExtra(EXTRA_MESSAGE)\n",
    "```"
   ]
  },
  {
   "cell_type": "markdown",
   "id": "9b8f7ba4-d32c-4ab4-a539-638d65da78cd",
   "metadata": {},
   "source": [
    "Metoda jako argument przyjmuje unikalny klucz, który mamy zapisany w stałej w pliku `MainActivity.kt`. W ostatnim kroku chcemy odebrany `String` przekazać do pola `TextView`."
   ]
  },
  {
   "cell_type": "markdown",
   "id": "19ddcbc3-740f-445a-87e6-22fa95292bf7",
   "metadata": {},
   "source": [
    "```kotlin\n",
    "package pl.edu.uwr.pum.explicitintentkotlin\n",
    "\n",
    "import androidx.appcompat.app.AppCompatActivity\n",
    "import android.os.Bundle\n",
    "import android.widget.TextView\n",
    "\n",
    "class SecondActivity : AppCompatActivity() {\n",
    "    override fun onCreate(savedInstanceState: Bundle?) {\n",
    "        super.onCreate(savedInstanceState)\n",
    "        setContentView(R.layout.activity_second)\n",
    "\n",
    "        val message = intent.getStringExtra(EXTRA_MESSAGE)\n",
    "        findViewById<TextView>(R.id.textView).apply {\n",
    "            text = message\n",
    "        }\n",
    "    }\n",
    "}\n",
    "```"
   ]
  },
  {
   "cell_type": "markdown",
   "id": "f56a040c-53ae-4bac-bb80-2407ba656fe3",
   "metadata": {},
   "source": [
    "Zwróćmy uwagę na wywołanie metody `findViewById`, ponieważ nie będzie nam potrzebne pole reprezentujące `TextView`, więc możemy bezpośrednia przez wywołanie tej metody dostać się po odpowiednim `id` do elementu layoutu który nas interesuje - konieczne jest jawne podanie typu `<TextView>` i za pomocą **Scope Function** ustawiamy text naszego `TextView` na `String` przekazany przez `Intent`."
   ]
  },
  {
   "cell_type": "markdown",
   "id": "51354300-3992-470b-b8dc-fd043a33c718",
   "metadata": {},
   "source": [
    "Na tym etapie możemy przetestować funkcjonalność aplikacji."
   ]
  },
  {
   "cell_type": "markdown",
   "id": "7bfa8f7b-22a2-4634-be5f-8b0fb7fb5c13",
   "metadata": {},
   "source": [
    "### Przekazanie odpowiedzi do aktywności głównej"
   ]
  },
  {
   "cell_type": "markdown",
   "id": "025bd590-1b03-4837-8b31-3da22fcdc38d",
   "metadata": {},
   "source": [
    "Kontynuujemy aplikację, kolejnym krokiem będzie zarządanie odpowiedzi z drugiej zktywności. Rozpocznijmy od zmodyfikowania layoutu drugiej aktywności - dodajmy pole `EditText` w którym wpiszemy naszą odpowiedź oraz `Button` w celu powrotu i zainicjowania powrotnego przesłania danych."
   ]
  },
  {
   "cell_type": "markdown",
   "id": "78a52559-9e9f-48e2-bb78-be5790a76860",
   "metadata": {},
   "source": [
    "```xml\n",
    "    <EditText\n",
    "        android:id=\"@+id/editTextSecond\"\n",
    "        android:layout_width=\"0dp\"\n",
    "        android:layout_height=\"wrap_content\"\n",
    "        android:layout_margin=\"16dp\"\n",
    "        android:hint=\"Back message\"\n",
    "        android:textStyle=\"bold\"\n",
    "        android:textSize=\"24sp\"\n",
    "        app:layout_constraintBottom_toBottomOf=\"parent\"\n",
    "        app:layout_constraintEnd_toStartOf=\"@+id/returnButton\"\n",
    "        app:layout_constraintStart_toStartOf=\"parent\" />\n",
    "\n",
    "    <Button\n",
    "        android:id=\"@+id/returnButton\"\n",
    "        android:layout_width=\"wrap_content\"\n",
    "        android:layout_height=\"wrap_content\"\n",
    "        android:text=\"Return\"\n",
    "        android:layout_margin=\"16dp\"\n",
    "        app:layout_constraintBottom_toBottomOf=\"parent\"\n",
    "        app:layout_constraintEnd_toEndOf=\"parent\"\n",
    "        android:onClick=\"returnMessage\"/>\n",
    "```"
   ]
  },
  {
   "cell_type": "markdown",
   "id": "9c91a730-72e2-4bc4-9d02-7217ea55edc6",
   "metadata": {},
   "source": [
    "Przejdźmy do klasy `SecondActivity.kt` i dodajmy pole przechowujące unikalny klucz naszej odpowiedzi."
   ]
  },
  {
   "cell_type": "markdown",
   "id": "f57ef816-b8ac-4e8e-ad8b-48344158dc53",
   "metadata": {},
   "source": [
    "```kotlin\n",
    "const val EXTRA_REPLY = \"pl.edu.uwr.pum.explicitintentkotlin.REPLY\"\n",
    "```"
   ]
  },
  {
   "cell_type": "markdown",
   "id": "99d9cc29-b53c-473c-8c1c-17c39a664c69",
   "metadata": {},
   "source": [
    "Następnie dodajmy metodę `onClick` przycisku **return**."
   ]
  },
  {
   "cell_type": "markdown",
   "id": "d24026cf-efea-4640-bc4b-a4114bc20d06",
   "metadata": {},
   "source": [
    "```kotlin\n",
    "fun returnMessage(view: View) {\n",
    "    setResult(\n",
    "        RESULT_OK, \n",
    "        Intent().apply {\n",
    "            putExtra(EXTRA_REPLY, \n",
    "                 findViewById<EditText>(R.id.editTextSecond).text)\n",
    "    })\n",
    "    finish()\n",
    "}\n",
    "```"
   ]
  },
  {
   "cell_type": "markdown",
   "id": "8dab7b94-0081-423f-a0ed-bc077dbba51f",
   "metadata": {},
   "source": [
    "Tworzymy `Intent` i wykorzystujemy metodę `putExtra` do dołączenia danych, które wyciągamy z `EditText`. Wywołujemy metodę `setResult` która przyjjmuje dwa argumenty. Pierwwzym jest kod - tutaj wykorzystamy kod `RESULT_OK`, czyli nie przewidujemy żadnych problemów z odczytaniem, jako drugi argument podajemy nasz `Intent`.\n",
    "\n",
    "W metodzie możemy podać różne kody, które są predefiniowane w klasie `Activity` - `RESULT_OK`, `RESULT_CANCELED` i `RESULT_FIRST_USER`. Pierwszy dotyczy przypadku w których wszystko poszło po naszej myśli i możemy przekazać dane powrotne. Dzięki `RESULT_CANCELED` możemy sprecyzować co nasza aktywność główna ma zrobić gdy nie uda się wysłać danych z drugiej aktywności. Trzeci przypadek istnieje aby uniknąć konfliktów - pozwala developerowi na wykorzystanie własnego (nie predefiniowanego) kodu.\n",
    "\n",
    "Na koniec wywołujemy metodę `finish` która kończyb działanie `SecondActivity`."
   ]
  },
  {
   "cell_type": "markdown",
   "id": "71cc422b-27b3-47d9-9ba5-fc4f80f1d784",
   "metadata": {},
   "source": [
    "Następnie do layoutu `MainActivity` dodajmy pole `TextView` w którym wyświetlimy odebraną wiadomość."
   ]
  },
  {
   "cell_type": "markdown",
   "id": "5341aae1-f1e0-4ade-8780-e72f661c4bf4",
   "metadata": {},
   "source": [
    "```xml\n",
    "    <TextView\n",
    "        android:id=\"@+id/textViewMain\"\n",
    "        android:layout_width=\"wrap_content\"\n",
    "        android:layout_height=\"wrap_content\"\n",
    "        android:text=\"Main Activity\"\n",
    "        android:textSize=\"40sp\"\n",
    "        android:textStyle=\"bold\"\n",
    "        android:textColor=\"@color/black\"\n",
    "        app:layout_constraintBottom_toBottomOf=\"parent\"\n",
    "        app:layout_constraintEnd_toEndOf=\"parent\"\n",
    "        app:layout_constraintStart_toStartOf=\"parent\"\n",
    "        app:layout_constraintTop_toTopOf=\"parent\" />\n",
    "```"
   ]
  },
  {
   "cell_type": "markdown",
   "id": "60c5822e-d5e2-4686-b743-997922ba05ea",
   "metadata": {},
   "source": [
    "Ostatnim krokiem będzie modyfikacja klasy `MainActivity.kt` w celu wysłania żądania i odebrania danych powrotnych."
   ]
  },
  {
   "cell_type": "markdown",
   "id": "0ea6f72e-5319-4dbb-bc99-b235568912ec",
   "metadata": {},
   "source": [
    "W pierwszym kroku w metodzie `onClick` chcemy poozbyć się wywołania `startActivity`. Teraz nie chcemy w prosty sposób włączać innej aktywności, tylko wysłać do niej żądanie przekazania danych."
   ]
  },
  {
   "cell_type": "markdown",
   "id": "eb4ce0bd-fa8d-457a-ab0e-e1027fe05633",
   "metadata": {},
   "source": [
    "```kotlin\n",
    "fun startSecondActivity(view: View) {\n",
    "    val message = editText.text.toString()\n",
    "    val intent = Intent(this, SecondActivity::class.java).apply {\n",
    "        putExtra(EXTRA_MESSAGE, message)\n",
    "    }\n",
    "    //startActivity(intent)\n",
    "}\n",
    "```"
   ]
  },
  {
   "cell_type": "markdown",
   "id": "d6793d45-b1ba-4950-85a5-a8554a862fdf",
   "metadata": {},
   "source": [
    "Musimy napisać launcher naszej drugiej aktywności."
   ]
  },
  {
   "cell_type": "markdown",
   "id": "e7a53e86-ab27-4b52-ade7-9d8fbd92d4f7",
   "metadata": {},
   "source": [
    "```kotlin\n",
    "private val secondActivityResultLauncher = registerForActivityResult(\n",
    "        ActivityResultContracts.StartActivityForResult()){\n",
    "            result ->\n",
    "                if (result.resultCode == Activity.RESULT_OK)\n",
    "                    findViewById<TextView>(R.id.textViewMain).text =\n",
    "                        result.data!!.getStringExtra(EXTRA_REPLY)\n",
    "}\n",
    "```"
   ]
  },
  {
   "cell_type": "markdown",
   "id": "327fa93c-cc8b-4756-979e-df4ebd4fb9dc",
   "metadata": {},
   "source": [
    "Tworzymy nowy `ActivityResultLauncher` i wywołujęmy `registerForActivityResult` który przyjmuje dwa argumenty. \n",
    "\n",
    "Rejestrujemy prośbę o rozpoczęcie innej aktywności. Powoduje to utworzenie wpisu w rejestrze powiązanym z drugą aktywnością, zarządzającym kodem żądania a także konwersjami do/z `Intent`. \n",
    "\n",
    "Jako pierwszy parametr podajemy `Contract`, nas interesuje metoda `StartActivityForResult`, poprzednio włączaliśmy drugą aktywność metodą `startActivity` - teraz żądamy odpowiedzi więc konieczne jest wykorzystanie innej meetody. Drugim argumentem jest `Callback` czyli tutaj jest to dostarczenie implementacji metody `onActivityResult` - tutaj określamy co robimy z danymi które dostajemy powrotnie z aktywności `SecondActivity`. Dla uproszczenia można to wywołanie zastąpić wyrażeniem **lambda**."
   ]
  },
  {
   "cell_type": "markdown",
   "id": "3541509e-ee55-4845-b238-5cf48c48ef44",
   "metadata": {},
   "source": [
    "`result` jest otrzymanym z drugiej aktywności `Intent` zawierającym dane. Następnie dodajjmy implementację metody `onActivityResult`"
   ]
  },
  {
   "cell_type": "markdown",
   "id": "5ba930af-0dc0-471a-bfa1-61a6ed5fd3d7",
   "metadata": {},
   "source": [
    "W pierwszym kroku sprawdzam czy aktywność zwraca z poprawnym kodem"
   ]
  },
  {
   "cell_type": "markdown",
   "id": "c5f66d0e-29be-4e0c-8109-98a282f04177",
   "metadata": {},
   "source": [
    "```kotlin\n",
    "if (result.resultCode == Activity.RESULT_OK)\n",
    "```"
   ]
  },
  {
   "cell_type": "markdown",
   "id": "a42ba1f8-604a-4b23-90e0-9b94225c8396",
   "metadata": {},
   "source": [
    "Następnie sprawdzamy czy dane istnieją i wyciągamy dane z `result` i umieszczamy w polu `textView`."
   ]
  },
  {
   "cell_type": "markdown",
   "id": "48d6f10a-2871-4cbe-b4ec-9c4c5db7b397",
   "metadata": {},
   "source": [
    "```kotlin\n",
    "findViewById<TextView>(R.id.textViewMain).text =\n",
    "                result.data!!.getStringExtra(EXTRA_REPLY)\n",
    "```"
   ]
  },
  {
   "cell_type": "markdown",
   "id": "a2101d56-7c7c-4ded-97ba-aef4ad1ecd5a",
   "metadata": {},
   "source": [
    "Ostatnim krokiem jest wykorzystanie `secondActivityResultLauncher` w metodzie `onClick` przycisku wysyłającego żądanie"
   ]
  },
  {
   "cell_type": "markdown",
   "id": "832b4ac2-b81b-471a-95c5-0914e6d625d6",
   "metadata": {},
   "source": [
    "```kotlin\n",
    "    fun startSecondActivity(view: View) {\n",
    "        val message = editText.text.toString()\n",
    "        val intent = Intent(this, SecondActivity::class.java).apply {\n",
    "            putExtra(EXTRA_MESSAGE, message)\n",
    "        }\n",
    "\n",
    "        secondActivityResultLauncher.launch(intent)\n",
    "    }\n",
    "```"
   ]
  },
  {
   "cell_type": "markdown",
   "id": "409e570b-e0f5-44b8-920a-2be8b326c26f",
   "metadata": {},
   "source": [
    "Możemy przetestowac aplikację."
   ]
  },
  {
   "cell_type": "code",
   "execution_count": null,
   "id": "ae031768-63ed-42a7-a4b1-243dd872277e",
   "metadata": {},
   "outputs": [],
   "source": []
  }
 ],
 "metadata": {
  "kernelspec": {
   "display_name": "Kotlin",
   "language": "kotlin",
   "name": "kotlin"
  },
  "language_info": {
   "codemirror_mode": "text/x-kotlin",
   "file_extension": ".kt",
   "mimetype": "text/x-kotlin",
   "name": "kotlin",
   "nbconvert_exporter": "",
   "pygments_lexer": "kotlin",
   "version": "1.6.20-dev-6372"
  }
 },
 "nbformat": 4,
 "nbformat_minor": 5
}
