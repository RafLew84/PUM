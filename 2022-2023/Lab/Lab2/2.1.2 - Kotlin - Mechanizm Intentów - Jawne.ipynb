{
 "cells": [
  {
   "cell_type": "markdown",
   "id": "724ed8dc-0737-4c6f-be16-4589026acc5e",
   "metadata": {},
   "source": [
    "# 2.1 Explicit Intent"
   ]
  },
  {
   "cell_type": "code",
   "execution_count": null,
   "id": "03ca28dc-867d-4d3c-9b4d-fb8a45b1a915",
   "metadata": {},
   "outputs": [],
   "source": []
  }
 ],
 "metadata": {
  "kernelspec": {
   "display_name": "Kotlin",
   "language": "kotlin",
   "name": "kotlin"
  },
  "language_info": {
   "codemirror_mode": "text/x-kotlin",
   "file_extension": ".kt",
   "mimetype": "text/x-kotlin",
   "name": "kotlin",
   "nbconvert_exporter": "",
   "pygments_lexer": "kotlin",
   "version": "1.6.20-dev-6372"
  }
 },
 "nbformat": 4,
 "nbformat_minor": 5
}
