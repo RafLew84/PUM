{
 "cells": [
  {
   "cell_type": "markdown",
   "id": "724ed8dc-0737-4c6f-be16-4589026acc5e",
   "metadata": {},
   "source": [
    "# 2.1 Explicit Intent"
   ]
  },
  {
   "cell_type": "markdown",
   "id": "e405255b-943f-4a15-8b70-4b9fcbe340c7",
   "metadata": {},
   "source": [
    "W tym przykładzie przyjrzymy się mechanizmowi intentów, rozpoczniemy od intentów jawnych. Stworzymy aplikację z dwiema aktywnościami i umożliwimy otworzenie drugiej aktywności z poziomu pierwszej (głównej). "
   ]
  },
  {
   "cell_type": "markdown",
   "id": "4d330f36-c72f-401e-b7dc-94bc54add6b1",
   "metadata": {},
   "source": [
    "<img src=\"https://media3.giphy.com/media/PHsI89pV5xucXPo04Q/giphy.gif?cid=790b7611aafef8fd0e301c0893d5eb7c0509e18967b4546a&rid=giphy.gif&ct=g\" width=\"150\" />"
   ]
  },
  {
   "cell_type": "markdown",
   "id": "eef3aee4-295f-44aa-a597-db35a35d9b2c",
   "metadata": {},
   "source": [
    "Przedźmy do aktywności głównej i dodajmy przycisk do layoutu."
   ]
  },
  {
   "cell_type": "markdown",
   "id": "506bf34d-3a9a-423f-9aa4-912ea90eb5f1",
   "metadata": {},
   "source": [
    "## **Layout i utworzenie drugiej aktywności**"
   ]
  },
  {
   "cell_type": "code",
   "execution_count": null,
   "id": "4e05422b-4f91-422a-b6a6-eb03097c6554",
   "metadata": {},
   "outputs": [],
   "source": [
    "<?xml version=\"1.0\" encoding=\"utf-8\"?>\n",
    "<androidx.constraintlayout.widget.ConstraintLayout xmlns:android=\"http://schemas.android.com/apk/res/android\"\n",
    "    xmlns:app=\"http://schemas.android.com/apk/res-auto\"\n",
    "    xmlns:tools=\"http://schemas.android.com/tools\"\n",
    "    android:layout_width=\"match_parent\"\n",
    "    android:layout_height=\"match_parent\"\n",
    "    tools:context=\".MainActivity\">\n",
    "\n",
    "    <Button\n",
    "        android:id=\"@+id/button\"\n",
    "        android:layout_width=\"wrap_content\"\n",
    "        android:layout_height=\"wrap_content\"\n",
    "        android:text=\"Button\"\n",
    "        android:layout_margin=\"16dp\"\n",
    "        app:layout_constraintBottom_toBottomOf=\"parent\"\n",
    "        app:layout_constraintEnd_toEndOf=\"parent\"\n",
    "        android:onClick=\"startSecondActivity\"/>\n",
    "</androidx.constraintlayout.widget.ConstraintLayout>"
   ]
  },
  {
   "cell_type": "markdown",
   "id": "77b66afe-4205-4f34-b7b6-b965ce62301c",
   "metadata": {},
   "source": [
    "Po naciśnięciu tego przycisku możliwe będzie przejście do drugiej aktywności."
   ]
  },
  {
   "cell_type": "markdown",
   "id": "217e9d2b-e2c7-4ea6-bbd2-4daac00c83eb",
   "metadata": {},
   "source": [
    "Następnie dodajmy drugą aktywność do projektu. W oknie **Project** wybieram z menu kontekstowego **New -> Activity -> Empty Activity**. Zaznaczam **Generate layout file** i odznaczam **Launcher Activity**. Przejdźmy do pliku `AndroidManifest.xml`"
   ]
  },
  {
   "cell_type": "markdown",
   "id": "1ee28dbb-fd17-42c3-9cd0-da1293263324",
   "metadata": {},
   "source": [
    "Mamy opisane dwie aktywności. Chcemy teraz wskazać rodzica dla **SecondActivity** . Do tagu `<activity />` dodaję opcję `android:parentActivityName=\".MainActivity\"` oraz `android:label=\"Second Activity\"`."
   ]
  },
  {
   "cell_type": "code",
   "execution_count": null,
   "id": "596a9af0-d6c3-4130-9717-3fc90650c1be",
   "metadata": {},
   "outputs": [],
   "source": [
    "<activity\n",
    "    android:name=\".SecondActivity\"\n",
    "    android:parentActivityName=\".MainActivity\"\n",
    "    android:label=\"Second Activity\"\n",
    "    android:exported=\"false\" />"
   ]
  },
  {
   "cell_type": "markdown",
   "id": "365bf99f-90c1-4d54-9601-525a8d7e7d52",
   "metadata": {},
   "source": [
    "Czyli wskazaliśmy ze aktywnością nadrzędną jest **MainActivity**. Zwróćmy również uwagę na kropkę przed nazwą aktywności głównej - pominięta została nazwa pakietu (`pl.edu.uwr.pum.explicitintentkotlin.MainActivity`). `label` posłuży jako wyświetlana nazwa aktywności."
   ]
  },
  {
   "cell_type": "markdown",
   "id": "912ec840-f318-44e2-b10b-b28e62775308",
   "metadata": {},
   "source": [
    "Teraz utworzymy prosty layout dla drugiej aktywności - przechodzimy do pliku `activity_second.xml` i dodajemy pole `TextView`."
   ]
  },
  {
   "cell_type": "code",
   "execution_count": null,
   "id": "3ba4f5df-9b3d-4137-b445-ded5faa6fd75",
   "metadata": {},
   "outputs": [],
   "source": [
    "<?xml version=\"1.0\" encoding=\"utf-8\"?>\n",
    "<androidx.constraintlayout.widget.ConstraintLayout xmlns:android=\"http://schemas.android.com/apk/res/android\"\n",
    "    xmlns:app=\"http://schemas.android.com/apk/res-auto\"\n",
    "    xmlns:tools=\"http://schemas.android.com/tools\"\n",
    "    android:layout_width=\"match_parent\"\n",
    "    android:layout_height=\"match_parent\"\n",
    "    tools:context=\".SecondActivity\">\n",
    "\n",
    "    <TextView\n",
    "        android:id=\"@+id/textView\"\n",
    "        android:layout_width=\"wrap_content\"\n",
    "        android:layout_height=\"wrap_content\"\n",
    "        android:text=\"Second Activity\"\n",
    "        android:textSize=\"40sp\"\n",
    "        android:textStyle=\"bold\"\n",
    "        android:textColor=\"@color/black\"\n",
    "        app:layout_constraintBottom_toBottomOf=\"parent\"\n",
    "        app:layout_constraintEnd_toEndOf=\"parent\"\n",
    "        app:layout_constraintStart_toStartOf=\"parent\"\n",
    "        app:layout_constraintTop_toTopOf=\"parent\" />\n",
    "</androidx.constraintlayout.widget.ConstraintLayout>"
   ]
  },
  {
   "cell_type": "markdown",
   "id": "1a914567-a012-4baa-a559-dec75864723f",
   "metadata": {},
   "source": [
    "## **Utworzenie `Intent` i przejście do drugiej aktywności**"
   ]
  },
  {
   "cell_type": "markdown",
   "id": "3978e086-cd7a-493f-85b0-1b1797adddd4",
   "metadata": {},
   "source": [
    "Dodajmy teraz obsługę przycisku w naszej głównej aktywności, przyjdźmy do pliku `MainActivity.kt`. Po wciśnięciu przycisku chcemy przejść do drugiej aktywności."
   ]
  },
  {
   "cell_type": "code",
   "execution_count": null,
   "id": "c990b020-05cb-4862-9d46-edbd4b2a3441",
   "metadata": {},
   "outputs": [],
   "source": [
    "fun startSecondActivity(view: View) {\n",
    "    \n",
    "}"
   ]
  },
  {
   "cell_type": "markdown",
   "id": "87684b8c-8927-453b-bb20-155d64fd97a6",
   "metadata": {},
   "source": [
    "W pierwszym kroku musimy utworzyć **intent**."
   ]
  },
  {
   "cell_type": "code",
   "execution_count": null,
   "id": "ba17af17-3c64-4e94-a6fc-12ebfae6aebc",
   "metadata": {},
   "outputs": [],
   "source": [
    "val intent = Intent(this, SecondActivity::class.java)"
   ]
  },
  {
   "cell_type": "markdown",
   "id": "18fbdafc-ef8c-4afc-ad50-cc034e916197",
   "metadata": {},
   "source": [
    "Konstruktor klasy `Intent` przyjmuje dwa argumenty. Pierwszym jest **context**, ponieważ aktywność jest swoim własnym kontekstem używamy słowa kluczowego `this`. Drugim argumentem jest klasa aktywności którą chcemy włączyć - tutaj będzie to `SecondActivity::class.java`."
   ]
  },
  {
   "cell_type": "markdown",
   "id": "34e13fa6-88e6-4fca-bda4-5d3fb1e3ee67",
   "metadata": {},
   "source": [
    "Aby włączyć aktywność wykonujemy metodę `startActivity`, jako argumentb podajemy poprzednio utworzony `Intent`."
   ]
  },
  {
   "cell_type": "code",
   "execution_count": null,
   "id": "ec2fc969-2bf9-47fd-92bf-6bb196d19b39",
   "metadata": {},
   "outputs": [],
   "source": [
    "startActivity(intent)"
   ]
  },
  {
   "cell_type": "markdown",
   "id": "066f2338-318a-45f5-ab39-b1e064e9be6a",
   "metadata": {},
   "source": [
    "Na tym etapie możemy zbudować nasz projekt i przetestować funkcjonalność przycisku. Po przejściu do drugiej aktywności zwróćmy uwagę na przycisk powrotu znajdujący się na belce po lewej stronie."
   ]
  },
  {
   "cell_type": "markdown",
   "id": "d516d0f3-9e35-4533-8a97-e00c20b71ad5",
   "metadata": {},
   "source": [
    "<img src=\"https://fv9-4.failiem.lv/thumb_show.php?i=vset6gbuc&view\" width=\"200\"/>"
   ]
  },
  {
   "cell_type": "markdown",
   "id": "cc9c3110-0d7d-4744-a3e6-fc170893fe9e",
   "metadata": {},
   "source": [
    "## **Przekazanie danych do drugiej aktywności**"
   ]
  },
  {
   "cell_type": "markdown",
   "id": "36f3e64d-1e2e-42d8-ac90-a2439032cb45",
   "metadata": {},
   "source": [
    "Kolejnym krokiem będzie przekazanie danych i ich odbiór w drugiej aktywności - tutaj przekażemy tekst z pola `EditText`. Do layoutu głównej aktywności dodajmy odpowiednie pole."
   ]
  },
  {
   "cell_type": "code",
   "execution_count": null,
   "id": "4df94807-8637-4ede-9c05-64512319f434",
   "metadata": {},
   "outputs": [],
   "source": [
    "<EditText\n",
    "    android:id=\"@+id/editTextMain\"\n",
    "    android:layout_width=\"0dp\"\n",
    "    android:layout_height=\"wrap_content\"\n",
    "    android:layout_margin=\"16dp\"\n",
    "    android:hint=\"message\"\n",
    "    android:textStyle=\"bold\"\n",
    "    android:textSize=\"24sp\"\n",
    "    app:layout_constraintBottom_toBottomOf=\"parent\"\n",
    "    app:layout_constraintEnd_toStartOf=\"@+id/button\"\n",
    "    app:layout_constraintStart_toStartOf=\"parent\"\n",
    "    android:importantForAutofill=\"no\"\n",
    "    android:inputType=\"\" />"
   ]
  },
  {
   "cell_type": "markdown",
   "id": "d0dfea10-4130-42e1-b4bd-67276075638c",
   "metadata": {},
   "source": [
    "Pierwszą rzeczą jakiej będziemy potrzebować jest to **klucz** naszej wiadomości. Przejdźmy do klasy głównej aktyności `MainActivity.kt` i dodajmy odpowiednie pole. Standardowo klucze przechowuje się w niemutowalnych polach `const` najwyższego poziomu."
   ]
  },
  {
   "cell_type": "code",
   "execution_count": null,
   "id": "9fd69974-0991-456e-9a7d-6fab0571aa9f",
   "metadata": {},
   "outputs": [],
   "source": [
    "const val EXTRA_MESSAGE = \"pl.edu.uwr.pum.explicitintentkotlin.MESSAGE\""
   ]
  },
  {
   "cell_type": "markdown",
   "id": "4912525f-b803-44a9-81a0-d0321c9b2c95",
   "metadata": {},
   "source": [
    "Standardowo nazwę stałej przechowującej klucz piszemy wielkimi literami, sam `String` zawierający klucz składa się z pakietu w której znajduje się aktywność wysyłająca i nazwy."
   ]
  },
  {
   "cell_type": "markdown",
   "id": "b1787985-ed85-4a1d-8a2c-fda7b8482747",
   "metadata": {},
   "source": [
    "Dalej utwórzmy pole reprezentujące `EditText` i połączmy z elementem layoutu o odpowiednim `id`."
   ]
  },
  {
   "cell_type": "code",
   "execution_count": null,
   "id": "325608a8-02d6-423d-a6f8-d95de8dd1269",
   "metadata": {},
   "outputs": [],
   "source": [
    "private val editText: EditText by lazy{findViewById(R.id.editTextMain)}"
   ]
  },
  {
   "cell_type": "markdown",
   "id": "e7f35394-7b15-4027-8119-363840e0a7d6",
   "metadata": {},
   "source": [
    "Ostatnim krokiem będzie spakowanie danych i przesłanie ich do drugiej aktywności. Przechodzimy do metody `startSecondActivity` (czyli metody `onClick` naszego przycisku) i uzupełniamy implementację."
   ]
  },
  {
   "cell_type": "markdown",
   "id": "9a592a71-279c-4b18-a69e-66ad03c72368",
   "metadata": {},
   "source": [
    "W pierwszym kroku wyciągamy tekst z pola `EditText`"
   ]
  },
  {
   "cell_type": "code",
   "execution_count": null,
   "id": "104a6fc9-1dc7-4884-8a88-5a6219ccb43a",
   "metadata": {},
   "outputs": [],
   "source": [
    "val message = editText.text.toString()"
   ]
  },
  {
   "cell_type": "markdown",
   "id": "c47075b6-4e8b-432f-b5bc-c0d6df65b09d",
   "metadata": {},
   "source": [
    "Następnie dodajemy do intentu nasze dane - czyli `String` wyciągnięty z `EditText`. W tym celu na naszym obiekcie `Intent` wywołujemy metodę `putExtra`, która dodaje dane do obiektu `Intent` i przekazuje je do aktywności odbierającej. Zrobimy to za pomocą **Scope Function** `apply`."
   ]
  },
  {
   "cell_type": "code",
   "execution_count": null,
   "id": "832050d0-5179-4948-835d-627524524db8",
   "metadata": {},
   "outputs": [],
   "source": [
    "val intent = Intent(this, SecondActivity::class.java).apply {\n",
    "    putExtra(EXTRA_MESSAGE, message)\n",
    "}"
   ]
  },
  {
   "cell_type": "markdown",
   "id": "a7e9072a-1087-4fed-93b8-d87ca5641043",
   "metadata": {},
   "source": [
    "Metoda przyjmuje dwa argumenty. Pierwszym jest nasz unikalny klucz, który mamy zapisany w stałej `EXTRA_MESSAGE`, drugim jest `String` który chcemy przekazać."
   ]
  },
  {
   "cell_type": "code",
   "execution_count": null,
   "id": "9b2a74a1-7aad-477c-be4e-32731a0795d1",
   "metadata": {},
   "outputs": [],
   "source": [
    "fun startSecondActivity(view: View) {\n",
    "    val message = editText.text.toString()\n",
    "    val intent = Intent(this, SecondActivity::class.java).apply {\n",
    "        putExtra(EXTRA_MESSAGE, message)\n",
    "    }\n",
    "    startActivity(intent)\n",
    "}"
   ]
  },
  {
   "cell_type": "markdown",
   "id": "32a78233-ac5b-487e-ae4e-76f01f6990fb",
   "metadata": {},
   "source": [
    "## **Odebranie danych z poziomu drugiej aktywności**"
   ]
  },
  {
   "cell_type": "markdown",
   "id": "f7f8f9b4-fe7b-48ef-9ca0-75f18a2fc484",
   "metadata": {},
   "source": [
    "Kolejnym krokiem będzie odebranie danych z poziomu drugiej aktywności - odebrany `String` przekażemy do pola `TextView`. Odbieramy przesłane dane za pomocą metody `getStringExtra` wywołanej na odebranej instancji klasy `Intent` - w odróżnieniu od Javy nie ma konieczności jawnego wywołania metody `getIntent`. Pole `intent` umieszczone w metodzie `onCreate` zawiera instancję klasy `Intent` przekazaną przez `MainActivity`."
   ]
  },
  {
   "cell_type": "code",
   "execution_count": null,
   "id": "6aa4894b-6542-4596-9f59-5ee7f93f5326",
   "metadata": {},
   "outputs": [],
   "source": [
    "val message = intent.getStringExtra(EXTRA_MESSAGE)"
   ]
  },
  {
   "cell_type": "markdown",
   "id": "9b8f7ba4-d32c-4ab4-a539-638d65da78cd",
   "metadata": {},
   "source": [
    "Metoda jako argument przyjmuje unikalny klucz, który mamy zapisany w stałej w pliku `MainActivity.kt`. W ostatnim kroku chcemy odebrany `String` przekazać do pola `TextView`."
   ]
  },
  {
   "cell_type": "code",
   "execution_count": null,
   "id": "bbe0ac9f-23d7-4d69-ab83-a7ddde1e9c59",
   "metadata": {},
   "outputs": [],
   "source": [
    "package pl.edu.uwr.pum.explicitintentkotlin\n",
    "\n",
    "import androidx.appcompat.app.AppCompatActivity\n",
    "import android.os.Bundle\n",
    "import android.widget.TextView\n",
    "\n",
    "class SecondActivity : AppCompatActivity() {\n",
    "    override fun onCreate(savedInstanceState: Bundle?) {\n",
    "        super.onCreate(savedInstanceState)\n",
    "        setContentView(R.layout.activity_second)\n",
    "\n",
    "        val message = intent.getStringExtra(EXTRA_MESSAGE)\n",
    "        findViewById<TextView>(R.id.textView).apply {\n",
    "            text = message\n",
    "        }\n",
    "    }\n",
    "}"
   ]
  },
  {
   "cell_type": "markdown",
   "id": "f56a040c-53ae-4bac-bb80-2407ba656fe3",
   "metadata": {},
   "source": [
    "Zwróćmy uwagę na wywołanie metody `findViewById`, ponieważ nie będzie nam potrzebne pole reprezentujące `TextView`, więc możemy bezpośrednia przez wywołanie tej metody dostać się po odpowiednim `id` do elementu layoutu który nas interesuje - konieczne jest jawne podanie typu `<TextView>` i za pomocą **Scope Function** ustawiamy text naszego `TextView` na `String` przekazany przez `Intent`."
   ]
  },
  {
   "cell_type": "markdown",
   "id": "51354300-3992-470b-b8dc-fd043a33c718",
   "metadata": {},
   "source": [
    "Na tym etapie możemy przetestować funkcjonalność aplikacji."
   ]
  },
  {
   "cell_type": "markdown",
   "id": "7bfa8f7b-22a2-4634-be5f-8b0fb7fb5c13",
   "metadata": {},
   "source": [
    "## **Przekazanie odpowiedzi do aktywności głównej**"
   ]
  },
  {
   "cell_type": "markdown",
   "id": "025bd590-1b03-4837-8b31-3da22fcdc38d",
   "metadata": {},
   "source": [
    "Kontynuujemy aplikację, kolejnym krokiem będzie zarządanie odpowiedzi z drugiej zktywności. Rozpocznijmy od zmodyfikowania layoutu drugiej aktywności - dodajmy pole `EditText` w którym wpiszemy naszą odpowiedź oraz `Button` w celu powrotu i zainicjowania powrotnego przesłania danych."
   ]
  },
  {
   "cell_type": "code",
   "execution_count": null,
   "id": "6ce97651-5e9c-4099-b7e9-ad365d15bf00",
   "metadata": {},
   "outputs": [],
   "source": [
    "    <EditText\n",
    "        android:id=\"@+id/editTextSecond\"\n",
    "        android:layout_width=\"0dp\"\n",
    "        android:layout_height=\"wrap_content\"\n",
    "        android:layout_margin=\"16dp\"\n",
    "        android:hint=\"Back message\"\n",
    "        android:textStyle=\"bold\"\n",
    "        android:textSize=\"24sp\"\n",
    "        app:layout_constraintBottom_toBottomOf=\"parent\"\n",
    "        app:layout_constraintEnd_toStartOf=\"@+id/returnButton\"\n",
    "        app:layout_constraintStart_toStartOf=\"parent\" />\n",
    "\n",
    "    <Button\n",
    "        android:id=\"@+id/returnButton\"\n",
    "        android:layout_width=\"wrap_content\"\n",
    "        android:layout_height=\"wrap_content\"\n",
    "        android:text=\"Return\"\n",
    "        android:layout_margin=\"16dp\"\n",
    "        app:layout_constraintBottom_toBottomOf=\"parent\"\n",
    "        app:layout_constraintEnd_toEndOf=\"parent\"\n",
    "        android:onClick=\"returnMessage\"/>"
   ]
  },
  {
   "cell_type": "markdown",
   "id": "9c91a730-72e2-4bc4-9d02-7217ea55edc6",
   "metadata": {},
   "source": [
    "Przejdźmy do klasy `SecondActivity.kt` i dodajmy pole przechowujące unikalny klucz naszej odpowiedzi."
   ]
  },
  {
   "cell_type": "code",
   "execution_count": null,
   "id": "f70d5e0f-cf4d-4781-bac9-f1da755905a5",
   "metadata": {},
   "outputs": [],
   "source": [
    "const val EXTRA_REPLY = \"pl.edu.uwr.pum.explicitintentkotlin.REPLY\""
   ]
  },
  {
   "cell_type": "markdown",
   "id": "99d9cc29-b53c-473c-8c1c-17c39a664c69",
   "metadata": {},
   "source": [
    "Następnie dodajmy metodę `onClick` przycisku **return**."
   ]
  },
  {
   "cell_type": "code",
   "execution_count": null,
   "id": "0d1cd9e5-9f08-4218-93b2-846e03fdcc41",
   "metadata": {},
   "outputs": [],
   "source": [
    "fun returnMessage(view: View) {\n",
    "    setResult(\n",
    "        RESULT_OK, \n",
    "        Intent().apply {\n",
    "            putExtra(EXTRA_REPLY, \n",
    "                 findViewById<EditText>(R.id.editTextSecond).text)\n",
    "    })\n",
    "    finish()\n",
    "}"
   ]
  },
  {
   "cell_type": "markdown",
   "id": "8dab7b94-0081-423f-a0ed-bc077dbba51f",
   "metadata": {},
   "source": [
    "Tworzymy `Intent` i wykorzystujemy metodę `putExtra` do dołączenia danych, które wyciągamy z `EditText`. Wywołujemy metodę `setResult` która przyjjmuje dwa argumenty. Pierwwzym jest kod - tutaj wykorzystamy kod `RESULT_OK`, czyli nie przewidujemy żadnych problemów z odczytaniem, jako drugi argument podajemy nasz `Intent`.\n",
    "\n",
    "W metodzie możemy podać różne kody, które są predefiniowane w klasie `Activity` - `RESULT_OK`, `RESULT_CANCELED` i `RESULT_FIRST_USER`. Pierwszy dotyczy przypadku w których wszystko poszło po naszej myśli i możemy przekazać dane powrotne. Dzięki `RESULT_CANCELED` możemy sprecyzować co nasza aktywność główna ma zrobić gdy nie uda się wysłać danych z drugiej aktywności. Trzeci przypadek istnieje aby uniknąć konfliktów - pozwala developerowi na wykorzystanie własnego (nie predefiniowanego) kodu.\n",
    "\n",
    "Na koniec wywołujemy metodę `finish` która kończyb działanie `SecondActivity`."
   ]
  },
  {
   "cell_type": "markdown",
   "id": "71cc422b-27b3-47d9-9ba5-fc4f80f1d784",
   "metadata": {},
   "source": [
    "Następnie do layoutu `MainActivity` dodajmy pole `TextView` w którym wyświetlimy odebraną wiadomość."
   ]
  },
  {
   "cell_type": "code",
   "execution_count": null,
   "id": "1649e1e1-2721-43c1-9921-43667192dc64",
   "metadata": {},
   "outputs": [],
   "source": [
    "    <TextView\n",
    "        android:id=\"@+id/textViewMain\"\n",
    "        android:layout_width=\"wrap_content\"\n",
    "        android:layout_height=\"wrap_content\"\n",
    "        android:text=\"Main Activity\"\n",
    "        android:textSize=\"40sp\"\n",
    "        android:textStyle=\"bold\"\n",
    "        android:textColor=\"@color/black\"\n",
    "        app:layout_constraintBottom_toBottomOf=\"parent\"\n",
    "        app:layout_constraintEnd_toEndOf=\"parent\"\n",
    "        app:layout_constraintStart_toStartOf=\"parent\"\n",
    "        app:layout_constraintTop_toTopOf=\"parent\" />"
   ]
  },
  {
   "cell_type": "markdown",
   "id": "60c5822e-d5e2-4686-b743-997922ba05ea",
   "metadata": {},
   "source": [
    "Ostatnim krokiem będzie modyfikacja klasy `MainActivity.kt` w celu wysłania żądania i odebrania danych powrotnych."
   ]
  },
  {
   "cell_type": "markdown",
   "id": "0ea6f72e-5319-4dbb-bc99-b235568912ec",
   "metadata": {},
   "source": [
    "W pierwszym kroku w metodzie `onClick` chcemy poozbyć się wywołania `startActivity`. Teraz nie chcemy w prosty sposób włączać innej aktywności, tylko wysłać do niej żądanie przekazania danych."
   ]
  },
  {
   "cell_type": "code",
   "execution_count": null,
   "id": "12e79bc5-8b43-4cda-bd48-e83af4c47268",
   "metadata": {},
   "outputs": [],
   "source": [
    "fun startSecondActivity(view: View) {\n",
    "    val message = editText.text.toString()\n",
    "    val intent = Intent(this, SecondActivity::class.java).apply {\n",
    "        putExtra(EXTRA_MESSAGE, message)\n",
    "    }\n",
    "    //startActivity(intent)\n",
    "}"
   ]
  },
  {
   "cell_type": "markdown",
   "id": "d6793d45-b1ba-4950-85a5-a8554a862fdf",
   "metadata": {},
   "source": [
    "Musimy napisać launcher naszej drugiej aktywności."
   ]
  },
  {
   "cell_type": "code",
   "execution_count": null,
   "id": "5bdd6ba5-3555-43e8-a438-dc2e6972f7bf",
   "metadata": {},
   "outputs": [],
   "source": [
    "private val secondActivityResultLauncher = registerForActivityResult(\n",
    "        ActivityResultContracts.StartActivityForResult()){\n",
    "            result ->\n",
    "                if (result.resultCode == Activity.RESULT_OK)\n",
    "                    findViewById<TextView>(R.id.textViewMain).text =\n",
    "                        result.data!!.getStringExtra(EXTRA_REPLY)\n",
    "}"
   ]
  },
  {
   "cell_type": "markdown",
   "id": "327fa93c-cc8b-4756-979e-df4ebd4fb9dc",
   "metadata": {},
   "source": [
    "Tworzymy nowy `ActivityResultLauncher` i wywołujęmy `registerForActivityResult` który przyjmuje dwa argumenty. \n",
    "\n",
    "Rejestrujemy prośbę o rozpoczęcie innej aktywności. Powoduje to utworzenie wpisu w rejestrze powiązanym z drugą aktywnością, zarządzającym kodem żądania a także konwersjami do/z `Intent`. \n",
    "\n",
    "Jako pierwszy parametr podajemy `Contract`, nas interesuje metoda `StartActivityForResult`, poprzednio włączaliśmy drugą aktywność metodą `startActivity` - teraz żądamy odpowiedzi więc konieczne jest wykorzystanie innej meetody. Drugim argumentem jest `Callback` czyli tutaj jest to dostarczenie implementacji metody `onActivityResult` - tutaj określamy co robimy z danymi które dostajemy powrotnie z aktywności `SecondActivity`. Dla uproszczenia można to wywołanie zastąpić wyrażeniem **lambda**."
   ]
  },
  {
   "cell_type": "markdown",
   "id": "3541509e-ee55-4845-b238-5cf48c48ef44",
   "metadata": {},
   "source": [
    "`result` jest otrzymanym z drugiej aktywności `Intent` zawierającym dane. Następnie dodajjmy implementację metody `onActivityResult`"
   ]
  },
  {
   "cell_type": "markdown",
   "id": "5ba930af-0dc0-471a-bfa1-61a6ed5fd3d7",
   "metadata": {},
   "source": [
    "W pierwszym kroku sprawdzam czy aktywność zwraca z poprawnym kodem"
   ]
  },
  {
   "cell_type": "code",
   "execution_count": null,
   "id": "71335788-c2ed-4db9-8c9d-982fcb230a7e",
   "metadata": {},
   "outputs": [],
   "source": [
    "if (result.resultCode == Activity.RESULT_OK)"
   ]
  },
  {
   "cell_type": "markdown",
   "id": "a42ba1f8-604a-4b23-90e0-9b94225c8396",
   "metadata": {},
   "source": [
    "Następnie sprawdzamy czy dane istnieją i wyciągamy dane z `result` i umieszczamy w polu `textView`."
   ]
  },
  {
   "cell_type": "code",
   "execution_count": null,
   "id": "5228b419-f6c9-4994-8b3e-c198ccff85ba",
   "metadata": {},
   "outputs": [],
   "source": [
    "findViewById<TextView>(R.id.textViewMain).text =\n",
    "                result.data!!.getStringExtra(EXTRA_REPLY)"
   ]
  },
  {
   "cell_type": "markdown",
   "id": "a2101d56-7c7c-4ded-97ba-aef4ad1ecd5a",
   "metadata": {},
   "source": [
    "Ostatnim krokiem jest wykorzystanie `secondActivityResultLauncher` w metodzie `onClick` przycisku wysyłającego żądanie"
   ]
  },
  {
   "cell_type": "code",
   "execution_count": null,
   "id": "a6244230-e10c-4555-8e58-76affaa101ca",
   "metadata": {},
   "outputs": [],
   "source": [
    "fun startSecondActivity(view: View) {\n",
    "    val message = editText.text.toString()\n",
    "    val intent = Intent(this, SecondActivity::class.java).apply {\n",
    "        putExtra(EXTRA_MESSAGE, message)\n",
    "    }\n",
    "\n",
    "    secondActivityResultLauncher.launch(intent)\n",
    "}"
   ]
  },
  {
   "cell_type": "markdown",
   "id": "409e570b-e0f5-44b8-920a-2be8b326c26f",
   "metadata": {},
   "source": [
    "Możemy przetestowac aplikację."
   ]
  },
  {
   "cell_type": "code",
   "execution_count": null,
   "id": "ae031768-63ed-42a7-a4b1-243dd872277e",
   "metadata": {},
   "outputs": [],
   "source": []
  }
 ],
 "metadata": {
  "kernelspec": {
   "display_name": "Kotlin",
   "language": "kotlin",
   "name": "kotlin"
  },
  "language_info": {
   "codemirror_mode": "text/x-kotlin",
   "file_extension": ".kt",
   "mimetype": "text/x-kotlin",
   "name": "kotlin",
   "nbconvert_exporter": "",
   "pygments_lexer": "kotlin",
   "version": "1.6.20-dev-6372"
  }
 },
 "nbformat": 4,
 "nbformat_minor": 5
}
