{
 "cells": [
  {
   "cell_type": "markdown",
   "id": "4386608f-1de5-42fe-adce-dbc2a32713ab",
   "metadata": {},
   "source": [
    "# 2.2 Interfejs `Parcelable`"
   ]
  },
  {
   "cell_type": "markdown",
   "id": "3c31eb77-4b98-449f-90a5-72440f793cd0",
   "metadata": {},
   "source": [
    "W tym przykładzie będziemy posiadać dwie aktywności, poprzez mechanizm `Intent` włączymy drugą aktywność oraz dzięki zaimplementowaniu interfejsu `Parcelable` przekażemy cały obiekt. Do `activity_main.xml` dodajemy jeden `Button` przez naciśnięcie którego otworzymy drugą aktywność."
   ]
  },
  {
   "cell_type": "markdown",
   "id": "166491c2-2e34-4969-8869-406dac9cfb45",
   "metadata": {},
   "source": [
    "```xml\n",
    "<?xml version=\"1.0\" encoding=\"utf-8\"?>\n",
    "<androidx.constraintlayout.widget.ConstraintLayout xmlns:android=\"http://schemas.android.com/apk/res/android\"\n",
    "    xmlns:app=\"http://schemas.android.com/apk/res-auto\"\n",
    "    xmlns:tools=\"http://schemas.android.com/tools\"\n",
    "    android:layout_width=\"match_parent\"\n",
    "    android:layout_height=\"match_parent\"\n",
    "    tools:context=\".MainActivity\">\n",
    "\n",
    "    <Button\n",
    "        android:id=\"@+id/sendButton\"\n",
    "        android:layout_width=\"wrap_content\"\n",
    "        android:layout_height=\"wrap_content\"\n",
    "        android:layout_margin=\"16dp\"\n",
    "        android:text=\"SEND\"\n",
    "        app:layout_constraintStart_toStartOf=\"parent\"\n",
    "        app:layout_constraintTop_toTopOf=\"parent\" />\n",
    "\n",
    "</androidx.constraintlayout.widget.ConstraintLayout>\n",
    "```"
   ]
  },
  {
   "cell_type": "markdown",
   "id": "9635544f-4ca4-4981-9672-c874e1cbdfd3",
   "metadata": {},
   "source": [
    "Następnie tworzymy drugą aktywność `SecondActivity.java` i uzupełniamy jej layout w pliku `second_activity.xml`"
   ]
  },
  {
   "cell_type": "markdown",
   "id": "f21360b6-4685-4c9e-a68b-09f718582c5f",
   "metadata": {},
   "source": [
    "```xml\n",
    "<?xml version=\"1.0\" encoding=\"utf-8\"?>\n",
    "<androidx.constraintlayout.widget.ConstraintLayout xmlns:android=\"http://schemas.android.com/apk/res/android\"\n",
    "    xmlns:app=\"http://schemas.android.com/apk/res-auto\"\n",
    "    xmlns:tools=\"http://schemas.android.com/tools\"\n",
    "    android:layout_width=\"match_parent\"\n",
    "    android:layout_height=\"match_parent\"\n",
    "    tools:context=\".SecondActivity\">\n",
    "\n",
    "    <TextView\n",
    "        android:id=\"@+id/textView\"\n",
    "        android:layout_width=\"match_parent\"\n",
    "        android:layout_height=\"wrap_content\"\n",
    "        android:textSize=\"24sp\"\n",
    "        app:layout_constraintBottom_toBottomOf=\"parent\"\n",
    "        app:layout_constraintStart_toStartOf=\"parent\"\n",
    "        app:layout_constraintTop_toTopOf=\"parent\" />\n",
    "\n",
    "</androidx.constraintlayout.widget.ConstraintLayout>\n",
    "```"
   ]
  },
  {
   "cell_type": "markdown",
   "id": "49e03229-1e4b-4a51-82bd-d29eb3197ff7",
   "metadata": {},
   "source": [
    "Przejdźmy do manifestu i określmy hierarchię aktywności"
   ]
  },
  {
   "cell_type": "markdown",
   "id": "4781d6be-e025-452e-817c-8a342b4a13c8",
   "metadata": {},
   "source": [
    "```xml\n",
    "        <activity\n",
    "            android:name=\".SecondActivity\"\n",
    "            android:parentActivityName=\".MainActivity\"\n",
    "            android:label=\"Second Activity\"\n",
    "            android:exported=\"false\" />\n",
    "```"
   ]
  },
  {
   "cell_type": "markdown",
   "id": "b4cf2070-235c-4eac-b47a-0dd77c3920d2",
   "metadata": {},
   "source": [
    "Następnie utwórzmy klasę której instancję przekażemy pomiędzy aktywnościami."
   ]
  },
  {
   "cell_type": "markdown",
   "id": "4f68c085-b71e-4041-bcc9-e115add9c2ba",
   "metadata": {},
   "source": [
    "```java\n",
    "package pl.edu.uwr.pum.parcelableexamplejava;\n",
    "\n",
    "public class Properties {\n",
    "    private int a;\n",
    "    private int b;\n",
    "    private String c;\n",
    "\n",
    "    public Properties(int a, int b, String c) {\n",
    "        this.a = a;\n",
    "        this.b = b;\n",
    "        this.c = c;\n",
    "    }\n",
    "\n",
    "    public int getA() {\n",
    "        return a;\n",
    "    }\n",
    "\n",
    "    public void setA(int a) {\n",
    "        this.a = a;\n",
    "    }\n",
    "\n",
    "    public int getB() {\n",
    "        return b;\n",
    "    }\n",
    "\n",
    "    public void setB(int b) {\n",
    "        this.b = b;\n",
    "    }\n",
    "\n",
    "    public String getC() {\n",
    "        return c;\n",
    "    }\n",
    "\n",
    "    public void setC(String c) {\n",
    "        this.c = c;\n",
    "    }\n",
    "}\n",
    "```"
   ]
  },
  {
   "cell_type": "markdown",
   "id": "1a73c2f3-3172-459e-b0ee-8205ea81d041",
   "metadata": {},
   "source": [
    "Aby być w stanie intancję takiej klasy przekazać do innej aktywności, musi ona implementować interfejs `Parcelable` (lub `Serializable` - więcej o różnicach poniżej)."
   ]
  },
  {
   "cell_type": "markdown",
   "id": "aeff2b4a-46f3-4ae1-9c77-0b9af8efe6ed",
   "metadata": {},
   "source": [
    "```java\n",
    "package pl.edu.uwr.pum.parcelableexamplejava;\n",
    "\n",
    "import android.os.Parcel;\n",
    "import android.os.Parcelable;\n",
    "\n",
    "public class Properties implements Parcelable {\n",
    "    private int a;\n",
    "    private int b;\n",
    "    private String c;\n",
    "\n",
    "    protected Properties(Parcel in) {\n",
    "        a = in.readInt();\n",
    "        b = in.readInt();\n",
    "        c = in.readString();\n",
    "    }\n",
    "\n",
    "    public static final Creator<Properties> CREATOR = new Creator<Properties>() {\n",
    "        @Override\n",
    "        public Properties createFromParcel(Parcel in) {\n",
    "            return new Properties(in);\n",
    "        }\n",
    "\n",
    "        @Override\n",
    "        public Properties[] newArray(int size) {\n",
    "            return new Properties[size];\n",
    "        }\n",
    "    };\n",
    "\n",
    "    @Override\n",
    "    public int describeContents() {\n",
    "        return 0;\n",
    "    }\n",
    "\n",
    "    @Override\n",
    "    public void writeToParcel(Parcel parcel, int i) {\n",
    "        parcel.writeInt(a);\n",
    "        parcel.writeInt(b);\n",
    "        parcel.writeString(c);\n",
    "    }\n",
    "}\n",
    "```"
   ]
  },
  {
   "cell_type": "markdown",
   "id": "b091f006-46bb-4f71-9ddd-060ab537bcc1",
   "metadata": {},
   "source": [
    "Jak widzimy musimy zaimplementować dwie metody, konstruktor oraz obiekt `Creator`. Jeżeli chcemy przekazać instancję klasy przez mechanizm `Intent` lub zachować w obiekcie `Bundle` w pierwszym kroku niejawnie zostanie wywołana metoda `writeToParcel`. Metoda ta opakowuje wszystkie właściwości klasy do obiektu `Parcel` wywołując metodę `write...` z odpowiednim typem. Przy odtwarzaniu instancji klasy `Properties` w pierwszym kroku wywoływana jest metoda `createFromParcel` znajdująca się w statycznym obiekcie `Creator`. Metoda ta wywołuje konstruktor przyjmujący jako argument `Parcel`. Istotnym elementem tej implementacji jest konieczność zachowania kolejności przy przekazywaniu właściwości do i z `Parcel`. Przyjrzyjmy się konstruktorowi i metodzie `writeToParcel`."
   ]
  },
  {
   "cell_type": "markdown",
   "id": "3d3798fd-ee66-4863-abc0-edfac3ece806",
   "metadata": {},
   "source": [
    "```java\n",
    "    protected Properties(Parcel in) {\n",
    "        a = in.readInt();\n",
    "        b = in.readInt();\n",
    "        c = in.readString();\n",
    "    }\n",
    "\n",
    "    @Override\n",
    "    public void writeToParcel(Parcel parcel, int i) {\n",
    "        parcel.writeInt(a);\n",
    "        parcel.writeInt(b);\n",
    "        parcel.writeString(c);\n",
    "    }\n",
    "```"
   ]
  },
  {
   "cell_type": "markdown",
   "id": "7a831e85-7f2d-4c61-9d9a-d25f9abd3395",
   "metadata": {},
   "source": [
    "Pola `a`, `b` i `c` są zapisywane do `Parcel` i odczytywane w konstruktorze dokładnie w tej samej kolejności - jest to niezbędne do poprawnego działania - zweróćmy uwagę że nie posługujemy się tutaj żadnym kluczem, czy jakimś unikalnym identyfikartorem."
   ]
  },
  {
   "cell_type": "markdown",
   "id": "07b305cf-5582-4651-9510-f1f0c2fa650f",
   "metadata": {},
   "source": [
    "Ostatnią metodą jest `describeContent` - w interfejsie zdefiniowana jest stała `CONTENT_FILE_DESCRIPTION` która powinna zostać użyta w tej metodzie do zwrócenia maski bitowej - tutaj zwrócimy wynik wwywołania metody `hashCode`."
   ]
  },
  {
   "cell_type": "markdown",
   "id": "f7cf3262-c5c0-4d80-a7e1-a81ff781afb0",
   "metadata": {},
   "source": [
    "```java\n",
    "    @Override\n",
    "    public int describeContents() {\n",
    "        return hashCode();\n",
    "    }\n",
    "```"
   ]
  },
  {
   "cell_type": "markdown",
   "id": "d3b964ac-dd3b-44f2-ac9b-1874ebe33571",
   "metadata": {},
   "source": [
    "Przejdźmy do implementacji metody `onClick` przycisku na głównej aktyności. Tym razem zrobimy to nieco inaczej, przechodzimy do pliku `MainActivity.java`. Do metody `onCreate` dodajemy"
   ]
  },
  {
   "cell_type": "markdown",
   "id": "9bfdf0ab-60e0-4778-a183-dbab230b64cc",
   "metadata": {},
   "source": [
    "```java\n",
    "Button button = findViewById(R.id.sendButton);\n",
    "button.setOnClickListener(new View.OnClickListener() {\n",
    "    @Override\n",
    "    public void onClick(View view) {\n",
    "\n",
    "    }\n",
    "});\n",
    "```"
   ]
  },
  {
   "cell_type": "markdown",
   "id": "8992ce15-8b4c-4eee-bb3e-3c8a58a033b8",
   "metadata": {},
   "source": [
    "Ustawiamy `onClickListener` przycisku i jako argument tworzymy **klasę anonimową** o typie  interfejsu `OnClickListener` znajdującego się w klasie `View`. Klasa `View` jest główną klasą wszystkich elementów interfejsu użytkownika - jest rozszerzana przez wszystkie klasy. Częściej spotykaną jest implementacja za pomocą wyrażenia **lambda**"
   ]
  },
  {
   "cell_type": "markdown",
   "id": "166227e8-271b-435b-8153-4d9704444af5",
   "metadata": {},
   "source": [
    "```java\n",
    "button.setOnClickListener(view -> {\n",
    "\n",
    "});\n",
    "```"
   ]
  },
  {
   "cell_type": "markdown",
   "id": "005415cb-aa2d-493c-8cc0-6c4158d5ad97",
   "metadata": {},
   "source": [
    "Dodajmy implementację `onClick`"
   ]
  },
  {
   "cell_type": "markdown",
   "id": "8ca4732b-11c0-4402-93a0-d31858884f41",
   "metadata": {},
   "source": [
    "```java\n",
    "package pl.edu.uwr.pum.parcelableexamplejava;\n",
    "\n",
    "import androidx.appcompat.app.AppCompatActivity;\n",
    "\n",
    "import android.content.Intent;\n",
    "import android.os.Bundle;\n",
    "import android.view.View;\n",
    "import android.widget.Button;\n",
    "\n",
    "public class MainActivity extends AppCompatActivity {\n",
    "\n",
    "    public static String EXTRA_KEY = \"parcel_example\";\n",
    "\n",
    "    private Properties prop;\n",
    "\n",
    "    @Override\n",
    "    protected void onCreate(Bundle savedInstanceState) {\n",
    "        super.onCreate(savedInstanceState);\n",
    "        setContentView(R.layout.activity_main);\n",
    "\n",
    "        Button button = findViewById(R.id.sendButton);\n",
    "\n",
    "        prop = new Properties(1, 2, \"String\");\n",
    "\n",
    "        button.setOnClickListener(view -> {\n",
    "            Intent intent = new Intent(this, SecondActivity.class);\n",
    "            intent.putExtra(EXTRA_KEY, prop);\n",
    "            startActivity(intent);\n",
    "        });\n",
    "    }\n",
    "}\n",
    "```"
   ]
  },
  {
   "cell_type": "markdown",
   "id": "fa558bc4-458e-4b64-bb1c-f7eecfeb157f",
   "metadata": {},
   "source": [
    "Tworzymy klucz dla `Intent`, następnie tworzymy instancję `Properties` oraz sam `Intent`. Wskazujemy kontekst jako `this` oraz cel którym jest `SecoondActivity.class`. Następnie dodajemy za pomocą metody `putExtra` nasz obiekt `prop` i wywołujemy `startActivity` w celu włączenia drugiej aktywności."
   ]
  },
  {
   "cell_type": "markdown",
   "id": "9feddb89-20a6-40d7-a70f-bc9e05f2f980",
   "metadata": {},
   "source": [
    "W następnym kroku odbierzemy dane w `SecondActivity` i rozpakujemy obiekt `Properties`. Przejdźmy do pliku `SecondActivity.java`"
   ]
  },
  {
   "cell_type": "markdown",
   "id": "fcb0f46e-fc50-4785-ad6d-b103ed831871",
   "metadata": {},
   "source": [
    "```java\n",
    "package pl.edu.uwr.pum.parcelableexamplejava;\n",
    "\n",
    "import androidx.appcompat.app.AppCompatActivity;\n",
    "\n",
    "import android.content.Intent;\n",
    "import android.os.Bundle;\n",
    "import android.widget.TextView;\n",
    "\n",
    "public class SecondActivity extends AppCompatActivity {\n",
    "\n",
    "    @Override\n",
    "    protected void onCreate(Bundle savedInstanceState) {\n",
    "        super.onCreate(savedInstanceState);\n",
    "        setContentView(R.layout.activity_second);\n",
    "\n",
    "        TextView textView = findViewById(R.id.textView);\n",
    "        Intent intent = getIntent();\n",
    "        Properties prop = intent.getParcelableExtra(MainActivity.EXTRA_KEY);\n",
    "\n",
    "        String result = \"\";\n",
    "\n",
    "        if(prop != null)\n",
    "            result = prop.getA() + prop.getB() + \" \" + prop.getC();\n",
    "\n",
    "        textView.setText(result);\n",
    "    }\n",
    "}\n",
    "```"
   ]
  },
  {
   "cell_type": "markdown",
   "id": "fc5c5f09-ce86-430d-8702-b1ecd7ba900f",
   "metadata": {},
   "source": [
    "Tworzymy `Intent` i wywoołujemy metodę `getIntent`, następnie tworzymy obiekt typu `Properties` - tutaj niejawnie zoostanie wywołany konstruktor z argumentem typu `Parcel`. Wyciągamy obiekt za pomocą metody `getParcelableExtra` jako argument podając klucz. Do odpowiednich pól możemy dostać się poprzez odpowiednie **gettery**. Możemy przetestować aplikację."
   ]
  },
  {
   "cell_type": "markdown",
   "id": "c7f64e6c-9cb2-4dfa-993a-e9ab459b97a5",
   "metadata": {},
   "source": [
    "### Interfejs `Serializable`"
   ]
  },
  {
   "cell_type": "markdown",
   "id": "17d0d734-9226-4711-9102-fe4e4eefaa7a",
   "metadata": {},
   "source": [
    "Dodajmy do projektu kolejną klasę `SerializableProperties`, która implementuje interfejs `Serializable` i powtórzmy wszystkie czynności."
   ]
  },
  {
   "cell_type": "markdown",
   "id": "3235ccca-4a24-4a3c-b19d-a7e7b91a3c3e",
   "metadata": {},
   "source": [
    "```java\n",
    "package pl.edu.uwr.pum.parcelableexamplejava;\n",
    "\n",
    "import java.io.Serializable;\n",
    "\n",
    "public class SerializableProperties implements Serializable {\n",
    "        private int a;\n",
    "        private int b;\n",
    "        private String c;\n",
    "\n",
    "        public SerializableProperties(int a, int b, String c) {\n",
    "            this.a = a;\n",
    "            this.b = b;\n",
    "            this.c = c;\n",
    "        }\n",
    "\n",
    "        public int getA() {\n",
    "            return a;\n",
    "        }\n",
    "\n",
    "        public void setA(int a) {\n",
    "            this.a = a;\n",
    "        }\n",
    "\n",
    "        public int getB() {\n",
    "            return b;\n",
    "        }\n",
    "\n",
    "        public void setB(int b) {\n",
    "            this.b = b;\n",
    "        }\n",
    "\n",
    "        public String getC() {\n",
    "            return c;\n",
    "        }\n",
    "\n",
    "        public void setC(String c) {\n",
    "            this.c = c;\n",
    "        }\n",
    "}\n",
    "```"
   ]
  },
  {
   "cell_type": "markdown",
   "id": "7297b90a-4a6c-4373-add7-ff584f55fff0",
   "metadata": {},
   "source": [
    "Interfejs `Serializable` jest **interfejsem znacznikowym** więc nie jest koonieczne implementowanie żadnych metod"
   ]
  },
  {
   "cell_type": "markdown",
   "id": "340788f9-3ae8-4eb7-83b0-0837bb4cbf83",
   "metadata": {},
   "source": [
    "W klasie `MainActivity.java` dodajmy jeszcze jedno pole\n",
    "\n",
    "```java\n",
    "    public static String EXTRA_SERIALIZABLE = \"serializable_example\";\n",
    "```\n",
    "Następnie utworzymy instancję klasy `SerializableProperties`\n",
    "\n",
    "```java\n",
    "serProp = new SerializableProperties(11, 12, \"Serializable\");\n",
    "```\n",
    "\n",
    "i dodamy ją do wcześniej utworzonego `Intent`\n",
    "\n",
    "```java\n",
    "button.setOnClickListener(view -> {\n",
    "    Intent intent = new Intent(this, SecondActivity.class);\n",
    "    intent.putExtra(EXTRA_KEY, prop);\n",
    "    intent.putExtra(EXTRA_SERIALIZABLE, serProp);\n",
    "    startActivity(intent);\n",
    "});\n",
    "```"
   ]
  },
  {
   "cell_type": "markdown",
   "id": "bfdeced9-a766-4b10-b3e4-3eb9528742b1",
   "metadata": {},
   "source": [
    "Przejdźmy do `SecondActivity`, rozpakujmy nasz drugi obiekt i dodajmy jego pola do `TextView`."
   ]
  },
  {
   "cell_type": "markdown",
   "id": "1ce49b7a-b3c6-4765-b2b6-e835d7969fe7",
   "metadata": {},
   "source": [
    "```java\n",
    "    protected void onCreate(Bundle savedInstanceState) {\n",
    "        super.onCreate(savedInstanceState);\n",
    "        setContentView(R.layout.activity_second);\n",
    "\n",
    "        TextView textView = findViewById(R.id.textView);\n",
    "        Intent intent = getIntent();\n",
    "        Properties prop = intent.getParcelableExtra(MainActivity.EXTRA_KEY);\n",
    "        SerializableProperties serProp = (SerializableProperties) \n",
    "        intent.getSerializableExtra(MainActivity.EXTRA_SERIALIZABLE);\n",
    "\n",
    "        String result = \"\";\n",
    "\n",
    "        if(prop != null)\n",
    "            result = prop.getA() + prop.getB() + \" \" + prop.getC() + \"---\" + serProp.getA() + \n",
    "                    serProp.getB() + \" \" + serProp.getC();\n",
    "\n",
    "        textView.setText(result);\n",
    "    }\n",
    "```"
   ]
  },
  {
   "cell_type": "markdown",
   "id": "10ba3376-fa11-4f94-979d-1e628273f328",
   "metadata": {},
   "source": [
    "Zwróćmy uwagę że przy wywołaniu metody `getSerializableExtra` dostajjjemy obiekt o typie interfejsu `Serializable` i potrszebujemy obiekt typu `SerializableProperties`. Ponieważ nasza klasa implementuje ten interfejs, możemy bezpiecznie rzutować na `SerializableProperties`."
   ]
  },
  {
   "cell_type": "markdown",
   "id": "b7b85788-2220-4fd7-b467-77cd61ca7159",
   "metadata": {},
   "source": [
    "Po uruchomieniu aplikacji powinniśmy dostać podobny wynik jak poprzednio. Widzimy że właściwie mogę zrobić dokładnie to samo przy pomocy dwóch interfejsów - `Parcelable` i `Serializable`; więc czym się różnią?\n",
    "- `Parcelable` jest szybszy od `Serializable`\n",
    "- `Serializable` jest interfejsem znacznikowym, więc implementacja jest szybsza\n",
    "- `Serializable` tworzy wiele tymczasowych obiektów - jest niewydajny\n",
    "- możemy przekazać całą tablicę obiektów za pomocą `Parcelable`\n",
    "- w kotlinie mamy do dyspozycji adnotację `@Parcelize` dzięki której dostajemy domyślną implementację wszystkich metod interfejsu `Parcelable`"
   ]
  },
  {
   "cell_type": "code",
   "execution_count": null,
   "id": "e4101e25-8c95-4812-b051-4a8249c0907b",
   "metadata": {},
   "outputs": [],
   "source": []
  }
 ],
 "metadata": {
  "kernelspec": {
   "display_name": "Java",
   "language": "java",
   "name": "java"
  },
  "language_info": {
   "codemirror_mode": "java",
   "file_extension": ".jshell",
   "mimetype": "text/x-java-source",
   "name": "Java",
   "pygments_lexer": "java",
   "version": "17+35-2724"
  }
 },
 "nbformat": 4,
 "nbformat_minor": 5
}
