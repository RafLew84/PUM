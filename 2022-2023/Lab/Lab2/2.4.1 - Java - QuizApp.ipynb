{
 "cells": [
  {
   "cell_type": "markdown",
   "id": "a6582d33-7f0a-4cae-bf46-c4f77cf0ec71",
   "metadata": {},
   "source": [
    "# 2.4 QuizApp"
   ]
  },
  {
   "cell_type": "markdown",
   "id": "78c4c414-7e16-4e9b-802b-aca3b60c575c",
   "metadata": {},
   "source": [
    "Ta aplikacja posłuży nam do zapoznania się z nowymi elementami. Zmodyfikujemy wygląd kilku kontrolek i wykorzystamy **progress bar**."
   ]
  },
  {
   "cell_type": "code",
   "execution_count": null,
   "id": "1f4c11d2-3b88-4b04-b98b-5a9cc24a34dd",
   "metadata": {},
   "outputs": [],
   "source": []
  },
  {
   "cell_type": "markdown",
   "id": "09443c55-c2fa-4107-85b3-892d4f42e443",
   "metadata": {},
   "source": [
    "W pierwszej kolejności chcemy zablokować ekran tylko do pozycji wertykalnej (portrait), w tym celu dodajemy do `AndroidManifest.xml` odpowiednią opcję\n",
    "\n",
    "```xml\n",
    "<activity\n",
    "    android:name=\".MainActivity\"\n",
    "    android:screenOrientation=\"portrait\"\n",
    "    android:exported=\"true\"\n",
    "    tools:ignore=\"LockedOrientationActivity\">\n",
    "```"
   ]
  },
  {
   "cell_type": "markdown",
   "id": "2e63c6b0-0bf1-41d9-b40a-fa52267603aa",
   "metadata": {},
   "source": [
    "Następnie przygotujmy model danych."
   ]
  },
  {
   "cell_type": "code",
   "execution_count": null,
   "id": "e8d1ae90-afdb-49dc-b551-6cede43a0f3d",
   "metadata": {},
   "outputs": [],
   "source": [
    "public class Question {\n",
    "    private String question;\n",
    "    private int imageSource;\n",
    "    private String answerOne;\n",
    "    private String answerTwo;\n",
    "    private String answerThree;\n",
    "    private int correctAnswer;\n",
    "\n",
    "    public Question(String question, \n",
    "                    int imageSource, \n",
    "                    String answerOne, \n",
    "                    String answerTwo, \n",
    "                    String answerThree, \n",
    "                    int correctAnswer) {\n",
    "        this.question = question;\n",
    "        this.imageSource = imageSource;\n",
    "        this.answerOne = answerOne;\n",
    "        this.answerTwo = answerTwo;\n",
    "        this.answerThree = answerThree;\n",
    "        this.correctAnswer = correctAnswer;\n",
    "    }\n",
    "\n",
    "    public String getQuestion() {\n",
    "        return question;\n",
    "    }\n",
    "\n",
    "    public int getImageSource() {\n",
    "        return imageSource;\n",
    "    }\n",
    "\n",
    "    public String getAnswerOne() {\n",
    "        return answerOne;\n",
    "    }\n",
    "\n",
    "    public String getAnswerTwo() {\n",
    "        return answerTwo;\n",
    "    }\n",
    "\n",
    "    public String getAnswerThree() {\n",
    "        return answerThree;\n",
    "    }\n",
    "\n",
    "    public int getCorrectAnswer() {\n",
    "        return correctAnswer;\n",
    "    }\n",
    "}"
   ]
  },
  {
   "cell_type": "markdown",
   "id": "9ad18055-4af2-469f-bc06-c08467a8dbff",
   "metadata": {},
   "source": [
    "Będziemy przechowywać pytania w `ArrayList` który umieścimy w klasie finalnej `Questions`"
   ]
  },
  {
   "cell_type": "code",
   "execution_count": null,
   "id": "4e98387f-059d-49c0-89ab-c5eae6598474",
   "metadata": {},
   "outputs": [],
   "source": [
    "public final class Questions {\n",
    "    private Questions(){}\n",
    "\n",
    "    public static ArrayList<Question> getQuestions(){\n",
    "        Random random = new Random();\n",
    "        int capacity = 10;\n",
    "        ArrayList<Question> questions = new ArrayList<>(capacity);\n",
    "        for(int i = 0; i < capacity; i++){\n",
    "            questions.add(\n",
    "                    new Question(\n",
    "                            \"Question \" + i,\n",
    "                            R.drawable.ic_flag,\n",
    "                            \"Answer 1\",\n",
    "                            \"Answer 2\",\n",
    "                            \"Answer 3\",\n",
    "                            random.nextInt(3) + 1\n",
    "                    )\n",
    "            );\n",
    "        }\n",
    "        return questions;\n",
    "    }\n",
    "}"
   ]
  },
  {
   "cell_type": "markdown",
   "id": "7ed898b6-9868-4fc1-9b50-8c40ccaebb6d",
   "metadata": {},
   "source": [
    "Przejdźmy do layoutu, naszym głównym elementem będzie `LinearLayout`, dodamy pole `TextView` które będzie nam wyświetlało numer pytania oraz `Imageview` wyświetlający grafikę. tutaj zastosujemy jedną grafikę dla wszystkich pytań (dla uproszczenia).\n",
    "\n",
    "```xml\n",
    "<?xml version=\"1.0\" encoding=\"utf-8\"?>\n",
    "<LinearLayout xmlns:android=\"http://schemas.android.com/apk/res/android\"\n",
    "    xmlns:app=\"http://schemas.android.com/apk/res-auto\"\n",
    "    xmlns:tools=\"http://schemas.android.com/tools\"\n",
    "    android:layout_width=\"match_parent\"\n",
    "    android:layout_height=\"match_parent\"\n",
    "    android:orientation=\"vertical\"\n",
    "    android:padding=\"16dp\"\n",
    "    android:gravity=\"center\"\n",
    "    tools:context=\".MainActivity\">\n",
    "\n",
    "    <TextView\n",
    "        android:id=\"@+id/text_view_question\"\n",
    "        android:layout_width=\"match_parent\"\n",
    "        android:layout_height=\"wrap_content\"\n",
    "        android:layout_margin=\"10dp\"\n",
    "        android:gravity=\"center\"\n",
    "        android:textColor=\"#363A43\"\n",
    "        android:textSize=\"22sp\"\n",
    "        android:text=\"QUESTION\"/>\n",
    "\n",
    "    <ImageView\n",
    "        android:id=\"@+id/image_view_question\"\n",
    "        android:layout_width=\"wrap_content\"\n",
    "        android:layout_height=\"wrap_content\"\n",
    "        android:layout_marginTop=\"20dp\"\n",
    "        android:contentDescription=\"image\"\n",
    "        android:src=\"@drawable/ic_flag\"/>\n",
    "\n",
    "</LinearLayout>\n",
    "```\n",
    "\n",
    "Następnie dodamy `linearlayout` w którym będziemy przechowywać `ProgressBar` oraz `textView` pokazujące progres całego quizu.\n",
    "\n",
    "```xml\n",
    "<LinearLayout\n",
    "    android:id=\"@+id/linear_layout_progress_bar\"\n",
    "    android:layout_width=\"match_parent\"\n",
    "    android:layout_height=\"wrap_content\"\n",
    "    android:layout_marginTop=\"20dp\"\n",
    "    android:gravity=\"center_vertical\"\n",
    "    android:orientation=\"horizontal\">\n",
    "\n",
    "    <ProgressBar\n",
    "        android:id=\"@+id/progress_bar\"\n",
    "        android:layout_width=\"0dp\"\n",
    "        android:layout_height=\"wrap_content\"\n",
    "        android:layout_weight=\"1\"\n",
    "        style=\"?android:attr/progressBarStyleHorizontal\"\n",
    "        android:indeterminate=\"false\"\n",
    "        android:max=\"10\"\n",
    "        android:progress=\"0\"/>\n",
    "\n",
    "    <TextView\n",
    "        android:id=\"@+id/text_view_progress\"\n",
    "        android:layout_width=\"wrap_content\"\n",
    "        android:layout_height=\"wrap_content\"\n",
    "        android:gravity=\"center\"\n",
    "        android:padding=\"12dp\"\n",
    "        android:textSize=\"14sp\"\n",
    "        android:text=\"0/10\"/>\n",
    "\n",
    "</LinearLayout>\n",
    "```\n",
    "\n",
    "chcemy zastosować `Progressbar` horyzontalny więc ustawiam odpowiedni styl `style=\"?android:attr/progressBarStyleHorizontal\"`. Ponieważ znamy ilość wszystkich pytań ustawiamy atrybut `indeterminate` na `false` - tutaj wypełnienie będzie odbywać się na podstawie liczby pytań. Maksymalną ilość pytań w naszym quizie (10) ustawiam jako `max`, czyli maksymalną wartość. `proggress` ustawiam na 0 - jest to wartość od której rozpoczyna pracę `ProgressBar`."
   ]
  },
  {
   "cell_type": "markdown",
   "id": "c34c7134-a283-4c63-9a11-ce12047091e4",
   "metadata": {},
   "source": [
    "35 minuta"
   ]
  }
 ],
 "metadata": {
  "kernelspec": {
   "display_name": "Java",
   "language": "java",
   "name": "java"
  },
  "language_info": {
   "codemirror_mode": "java",
   "file_extension": ".jshell",
   "mimetype": "text/x-java-source",
   "name": "Java",
   "pygments_lexer": "java",
   "version": "17+35-2724"
  }
 },
 "nbformat": 4,
 "nbformat_minor": 5
}
