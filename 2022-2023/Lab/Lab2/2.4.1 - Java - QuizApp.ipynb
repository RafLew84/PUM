{
 "cells": [
  {
   "cell_type": "markdown",
   "id": "a6582d33-7f0a-4cae-bf46-c4f77cf0ec71",
   "metadata": {},
   "source": [
    "# 2.4 QuizApp"
   ]
  },
  {
   "cell_type": "markdown",
   "id": "78c4c414-7e16-4e9b-802b-aca3b60c575c",
   "metadata": {},
   "source": [
    "Ta aplikacja posłuży nam do zapoznania się z nowymi elementami. Zmodyfikujemy wygląd kilku kontrolek i wykorzystamy **progress bar**."
   ]
  },
  {
   "cell_type": "markdown",
   "id": "c7602a7c-11bc-49a5-bdbb-bd94abbacc50",
   "metadata": {},
   "source": [
    "<img src=\"https://media1.giphy.com/media/KkRBm5TqFbEWEqnrIy/giphy.gif?cid=790b76114709b5b4e63072bd5b3af809b31816e92c710c39&rid=giphy.gif&ct=g\" width=\"150\" />"
   ]
  },
  {
   "cell_type": "markdown",
   "id": "09443c55-c2fa-4107-85b3-892d4f42e443",
   "metadata": {},
   "source": [
    "W pierwszej kolejności chcemy zablokować ekran tylko do pozycji wertykalnej (portrait), w tym celu dodajemy do `AndroidManifest.xml` odpowiednią opcję"
   ]
  },
  {
   "cell_type": "code",
   "execution_count": null,
   "id": "b2c91fc9-1499-4006-8ec8-5443b7732425",
   "metadata": {},
   "outputs": [],
   "source": [
    "<activity\n",
    "    android:name=\".MainActivity\"\n",
    "    android:screenOrientation=\"portrait\"\n",
    "    android:exported=\"true\"\n",
    "    tools:ignore=\"LockedOrientationActivity\">"
   ]
  },
  {
   "cell_type": "markdown",
   "id": "2e63c6b0-0bf1-41d9-b40a-fa52267603aa",
   "metadata": {},
   "source": [
    "Następnie przygotujmy model danych."
   ]
  },
  {
   "cell_type": "code",
   "execution_count": null,
   "id": "e8d1ae90-afdb-49dc-b551-6cede43a0f3d",
   "metadata": {},
   "outputs": [],
   "source": [
    "public class Question {\n",
    "    private String question;\n",
    "    private int imageSource;\n",
    "    private String answerOne;\n",
    "    private String answerTwo;\n",
    "    private String answerThree;\n",
    "    private int correctAnswer;\n",
    "\n",
    "    public Question(String question, \n",
    "                    int imageSource, \n",
    "                    String answerOne, \n",
    "                    String answerTwo, \n",
    "                    String answerThree, \n",
    "                    int correctAnswer) {\n",
    "        this.question = question;\n",
    "        this.imageSource = imageSource;\n",
    "        this.answerOne = answerOne;\n",
    "        this.answerTwo = answerTwo;\n",
    "        this.answerThree = answerThree;\n",
    "        this.correctAnswer = correctAnswer;\n",
    "    }\n",
    "\n",
    "    public String getQuestion() {\n",
    "        return question;\n",
    "    }\n",
    "\n",
    "    public int getImageSource() {\n",
    "        return imageSource;\n",
    "    }\n",
    "\n",
    "    public String getAnswerOne() {\n",
    "        return answerOne;\n",
    "    }\n",
    "\n",
    "    public String getAnswerTwo() {\n",
    "        return answerTwo;\n",
    "    }\n",
    "\n",
    "    public String getAnswerThree() {\n",
    "        return answerThree;\n",
    "    }\n",
    "\n",
    "    public int getCorrectAnswer() {\n",
    "        return correctAnswer;\n",
    "    }\n",
    "}"
   ]
  },
  {
   "cell_type": "markdown",
   "id": "9ad18055-4af2-469f-bc06-c08467a8dbff",
   "metadata": {},
   "source": [
    "Będziemy przechowywać pytania w `ArrayList` który umieścimy w klasie finalnej `Questions`"
   ]
  },
  {
   "cell_type": "code",
   "execution_count": null,
   "id": "4e98387f-059d-49c0-89ab-c5eae6598474",
   "metadata": {},
   "outputs": [],
   "source": [
    "public final class Questions {\n",
    "    private Questions(){}\n",
    "\n",
    "    public static ArrayList<Question> getQuestions(){\n",
    "        Random random = new Random();\n",
    "        int capacity = 10;\n",
    "        ArrayList<Question> questions = new ArrayList<>(capacity);\n",
    "        for(int i = 0; i < capacity; i++){\n",
    "            questions.add(\n",
    "                    new Question(\n",
    "                            \"Question \" + i,\n",
    "                            R.drawable.ic_flag,\n",
    "                            \"Answer 1\",\n",
    "                            \"Answer 2\",\n",
    "                            \"Answer 3\",\n",
    "                            random.nextInt(3) + 1\n",
    "                    )\n",
    "            );\n",
    "        }\n",
    "        return questions;\n",
    "    }\n",
    "}"
   ]
  },
  {
   "cell_type": "markdown",
   "id": "7ed898b6-9868-4fc1-9b50-8c40ccaebb6d",
   "metadata": {},
   "source": [
    "Przejdźmy do layoutu, naszym głównym elementem będzie `LinearLayout`, dodamy pole `TextView` które będzie nam wyświetlało numer pytania oraz `Imageview` wyświetlający grafikę. tutaj zastosujemy jedną grafikę dla wszystkich pytań (dla uproszczenia)."
   ]
  },
  {
   "cell_type": "code",
   "execution_count": null,
   "id": "8d2efaf3-b602-49e7-afee-01a783bc3a40",
   "metadata": {},
   "outputs": [],
   "source": [
    "<?xml version=\"1.0\" encoding=\"utf-8\"?>\n",
    "<LinearLayout xmlns:android=\"http://schemas.android.com/apk/res/android\"\n",
    "    xmlns:app=\"http://schemas.android.com/apk/res-auto\"\n",
    "    xmlns:tools=\"http://schemas.android.com/tools\"\n",
    "    android:layout_width=\"match_parent\"\n",
    "    android:layout_height=\"match_parent\"\n",
    "    android:orientation=\"vertical\"\n",
    "    android:padding=\"16dp\"\n",
    "    android:gravity=\"center\"\n",
    "    tools:context=\".MainActivity\">\n",
    "\n",
    "    <TextView\n",
    "        android:id=\"@+id/text_view_question\"\n",
    "        android:layout_width=\"match_parent\"\n",
    "        android:layout_height=\"wrap_content\"\n",
    "        android:layout_margin=\"10dp\"\n",
    "        android:gravity=\"center\"\n",
    "        android:textColor=\"#363A43\"\n",
    "        android:textSize=\"22sp\"\n",
    "        android:text=\"QUESTION\"/>\n",
    "\n",
    "    <ImageView\n",
    "        android:id=\"@+id/image_view_question\"\n",
    "        android:layout_width=\"wrap_content\"\n",
    "        android:layout_height=\"wrap_content\"\n",
    "        android:layout_marginTop=\"20dp\"\n",
    "        android:contentDescription=\"image\"\n",
    "        android:src=\"@drawable/ic_flag\"/>\n",
    "\n",
    "</LinearLayout>"
   ]
  },
  {
   "cell_type": "markdown",
   "id": "a9ef6a6a-bb19-43fa-b5f2-262f6b79026f",
   "metadata": {},
   "source": [
    "Następnie dodamy `linearlayout` w którym będziemy przechowywać `ProgressBar` oraz `textView` pokazujące progres całego quizu."
   ]
  },
  {
   "cell_type": "code",
   "execution_count": null,
   "id": "a93fdad6-9b8a-4f67-b16a-619af5465da6",
   "metadata": {},
   "outputs": [],
   "source": [
    "<LinearLayout\n",
    "    android:id=\"@+id/linear_layout_progress_bar\"\n",
    "    android:layout_width=\"match_parent\"\n",
    "    android:layout_height=\"wrap_content\"\n",
    "    android:layout_marginTop=\"20dp\"\n",
    "    android:gravity=\"center_vertical\"\n",
    "    android:orientation=\"horizontal\">\n",
    "\n",
    "    <ProgressBar\n",
    "        android:id=\"@+id/progress_bar\"\n",
    "        android:layout_width=\"0dp\"\n",
    "        android:layout_height=\"wrap_content\"\n",
    "        android:layout_weight=\"1\"\n",
    "        style=\"?android:attr/progressBarStyleHorizontal\"\n",
    "        android:indeterminate=\"false\"\n",
    "        android:max=\"10\"\n",
    "        android:progress=\"0\"/>\n",
    "\n",
    "    <TextView\n",
    "        android:id=\"@+id/text_view_progress\"\n",
    "        android:layout_width=\"wrap_content\"\n",
    "        android:layout_height=\"wrap_content\"\n",
    "        android:gravity=\"center\"\n",
    "        android:padding=\"12dp\"\n",
    "        android:textSize=\"14sp\"\n",
    "        android:text=\"0/10\"/>\n",
    "\n",
    "</LinearLayout>"
   ]
  },
  {
   "cell_type": "markdown",
   "id": "c1b4cb2f-5851-41fa-a1dd-07e290ff546e",
   "metadata": {},
   "source": [
    "chcemy zastosować `Progressbar` horyzontalny więc ustawiam odpowiedni styl `style=\"?android:attr/progressBarStyleHorizontal\"`. Ponieważ znamy ilość wszystkich pytań ustawiamy atrybut `indeterminate` na `false` - tutaj wypełnienie będzie odbywać się na podstawie liczby pytań. Maksymalną ilość pytań w naszym quizie (10) ustawiam jako `max`, czyli maksymalną wartość. `proggress` ustawiam na 0 - jest to wartość od której rozpoczyna pracę `ProgressBar`."
   ]
  },
  {
   "cell_type": "markdown",
   "id": "c34c7134-a283-4c63-9a11-ce12047091e4",
   "metadata": {},
   "source": [
    "## **Modyfikacja wyglądu `TextView`**"
   ]
  },
  {
   "cell_type": "markdown",
   "id": "def2affb-a536-46c6-afe5-3bc7c3514b58",
   "metadata": {},
   "source": [
    "Następnie dodamy pola `TextView` z treściami odpowiedzi."
   ]
  },
  {
   "cell_type": "code",
   "execution_count": null,
   "id": "7e9ed85f-803f-4199-87fd-8e3664d39756",
   "metadata": {},
   "outputs": [],
   "source": [
    "    <TextView\n",
    "        android:id=\"@+id/text_view_answer_one\"\n",
    "        android:layout_width=\"match_parent\"\n",
    "        android:layout_height=\"wrap_content\"\n",
    "        android:layout_margin=\"10dp\"\n",
    "        android:background=\"@drawable/default_answer_shape\""
   ]
  },
  {
   "cell_type": "markdown",
   "id": "c394aa43-e98a-45af-b613-6647c336d4ca",
   "metadata": {},
   "source": [
    "Jako background podaję `default_answer_shape` któy będzie określał wygląd pola. Do folderu `drawable` dodajmy plik `default_drawable_shape.xml` - jak **Root element** podajemy `shape` (będziemy definiowali kształt)."
   ]
  },
  {
   "cell_type": "code",
   "execution_count": null,
   "id": "a7ce42ab-a83b-46f0-a38b-f7dd34cadaed",
   "metadata": {},
   "outputs": [],
   "source": [
    "<?xml version=\"1.0\" encoding=\"utf-8\"?>\n",
    "<shape xmlns:android=\"http://schemas.android.com/apk/res/android\">\n",
    "\n",
    "</shape>"
   ]
  },
  {
   "cell_type": "markdown",
   "id": "423128a1-8a17-469a-b6ff-cd14a0097efc",
   "metadata": {},
   "source": [
    "W pierwszym kroku definiujemy kształt"
   ]
  },
  {
   "cell_type": "code",
   "execution_count": null,
   "id": "63978494-57b1-46e1-9f6f-065ca1b62c0d",
   "metadata": {},
   "outputs": [],
   "source": [
    "<shape xmlns:android=\"http://schemas.android.com/apk/res/android\"\n",
    "    android:shape=\"rectangle\">\n",
    "\n",
    "</shape>"
   ]
  },
  {
   "cell_type": "markdown",
   "id": "bf723738-7200-4bb4-8f55-95718bfb7698",
   "metadata": {},
   "source": [
    "Następnie zdefiniujmy szerokość i kolor obramowania"
   ]
  },
  {
   "cell_type": "code",
   "execution_count": null,
   "id": "e17b99c8-133d-4934-828b-86f6551e378c",
   "metadata": {},
   "outputs": [],
   "source": [
    "<shape xmlns:android=\"http://schemas.android.com/apk/res/android\"\n",
    "    android:shape=\"rectangle\">\n",
    "\n",
    "    <stroke\n",
    "        android:width=\"2dp\"\n",
    "        android:color=\"#DC77C5\"/>\n",
    "\n",
    "</shape>"
   ]
  },
  {
   "cell_type": "markdown",
   "id": "5acc0639-0724-46fd-ac9c-99c7e6ee6324",
   "metadata": {},
   "source": [
    "Zdefiniujmy również kolor tła"
   ]
  },
  {
   "cell_type": "code",
   "execution_count": null,
   "id": "eb8d0e31-838a-4566-862b-fd4725e06354",
   "metadata": {},
   "outputs": [],
   "source": [
    "<shape xmlns:android=\"http://schemas.android.com/apk/res/android\"\n",
    "    android:shape=\"rectangle\">\n",
    "\n",
    "    <stroke\n",
    "        android:width=\"2dp\"\n",
    "        android:color=\"#DC77C5\"/>\n",
    "\n",
    "    <solid\n",
    "        android:color=\"@color/white\"/>\n",
    "\n",
    "</shape>"
   ]
  },
  {
   "cell_type": "markdown",
   "id": "5bf36fe5-ca51-4965-bdd3-fd788f497a16",
   "metadata": {},
   "source": [
    "Ostatnim elementem będzie zaokrąglenie narożników"
   ]
  },
  {
   "cell_type": "code",
   "execution_count": null,
   "id": "dc81508e-d54e-4978-8df5-f452ad39ed77",
   "metadata": {},
   "outputs": [],
   "source": [
    "<?xml version=\"1.0\" encoding=\"utf-8\"?>\n",
    "<shape xmlns:android=\"http://schemas.android.com/apk/res/android\"\n",
    "    android:shape=\"rectangle\">\n",
    "\n",
    "    <stroke\n",
    "        android:width=\"2dp\"\n",
    "        android:color=\"#DC77C5\"/>\n",
    "\n",
    "    <solid\n",
    "        android:color=\"@color/white\"/>\n",
    "\n",
    "    <corners\n",
    "        android:radius=\"50dp\"/>\n",
    "\n",
    "</shape>"
   ]
  },
  {
   "cell_type": "markdown",
   "id": "01bbdd9d-3747-442e-8cab-19d339b18743",
   "metadata": {},
   "source": [
    "Powróćmy do layoutu i dokończmy tworzenie `TextView`"
   ]
  },
  {
   "cell_type": "code",
   "execution_count": null,
   "id": "998eb4fe-6a3a-4e8f-a50e-3fa442466420",
   "metadata": {},
   "outputs": [],
   "source": [
    "    <TextView\n",
    "        android:id=\"@+id/text_view_answer_one\"\n",
    "        android:layout_width=\"match_parent\"\n",
    "        android:layout_height=\"wrap_content\"\n",
    "        android:layout_margin=\"10dp\"\n",
    "        android:background=\"@drawable/default_answer_shape\"\n",
    "        android:gravity=\"center\"\n",
    "        android:padding=\"13dp\"\n",
    "        android:textColor=\"@color/black\"\n",
    "        android:textSize=\"20sp\"\n",
    "        android:text=\"ANSWER 1\"/>"
   ]
  },
  {
   "cell_type": "markdown",
   "id": "53233061-8363-4be7-9f0d-c1c9e9b19e09",
   "metadata": {},
   "source": [
    "Następnie skopiuję to pole jeszcze dwa razy"
   ]
  },
  {
   "cell_type": "code",
   "execution_count": null,
   "id": "edad137f-4f46-46c4-8d67-e2e7c8bdfca6",
   "metadata": {},
   "outputs": [],
   "source": [
    "    <TextView\n",
    "        android:id=\"@+id/text_view_answer_one\"\n",
    "        android:layout_width=\"match_parent\"\n",
    "        android:layout_height=\"wrap_content\"\n",
    "        android:layout_margin=\"10dp\"\n",
    "        android:background=\"@drawable/default_answer_shape\"\n",
    "        android:gravity=\"center\"\n",
    "        android:padding=\"13dp\"\n",
    "        android:textColor=\"@color/black\"\n",
    "        android:textSize=\"20sp\"\n",
    "        android:text=\"ANSWER 1\"/>    \n",
    "    \n",
    "    <TextView\n",
    "        android:id=\"@+id/text_view_answer_two\"\n",
    "        android:layout_width=\"match_parent\"\n",
    "        android:layout_height=\"wrap_content\"\n",
    "        android:layout_margin=\"10dp\"\n",
    "        android:background=\"@drawable/default_answer_shape\"\n",
    "        android:gravity=\"center\"\n",
    "        android:padding=\"13dp\"\n",
    "        android:textColor=\"@color/black\"\n",
    "        android:textSize=\"20sp\"\n",
    "        android:text=\"ANSWER 2\"/>    \n",
    "    \n",
    "    <TextView\n",
    "        android:id=\"@+id/text_view_answer_three\"\n",
    "        android:layout_width=\"match_parent\"\n",
    "        android:layout_height=\"wrap_content\"\n",
    "        android:layout_margin=\"10dp\"\n",
    "        android:background=\"@drawable/default_answer_shape\"\n",
    "        android:gravity=\"center\"\n",
    "        android:padding=\"13dp\"\n",
    "        android:textColor=\"@color/black\"\n",
    "        android:textSize=\"20sp\"\n",
    "        android:text=\"ANSWER 3\"/>"
   ]
  },
  {
   "cell_type": "markdown",
   "id": "78cf5924-34c6-4054-a5ff-1e9a8b2c6561",
   "metadata": {},
   "source": [
    "Ostatnim elementem będzie przycisk zatwierdzający zaznaczoną odpowiedź"
   ]
  },
  {
   "cell_type": "code",
   "execution_count": null,
   "id": "12437cca-f01b-46e1-9ffe-39e67ccb7ba9",
   "metadata": {},
   "outputs": [],
   "source": [
    "    <Button\n",
    "        android:id=\"@+id/button_next\"\n",
    "        android:layout_width=\"match_parent\"\n",
    "        android:layout_height=\"wrap_content\"\n",
    "        android:layout_margin=\"12dp\"\n",
    "        android:text=\"SUBMIT\"\n",
    "        android:textColor=\"@color/white\"\n",
    "        android:textSize=\"20sp\"\n",
    "        android:textStyle=\"bold\"/>"
   ]
  },
  {
   "cell_type": "markdown",
   "id": "7b9cb793-a767-474b-bc49-4d61739e7daa",
   "metadata": {},
   "source": [
    "## **Modyfikacja wyglądu `TextView` w odpowiedzi na akcję użytkownika**"
   ]
  },
  {
   "cell_type": "markdown",
   "id": "8ad03202-c456-4103-b0d9-db5f49e55ea6",
   "metadata": {},
   "source": [
    "Po kliknięciu na którąkolwiek odpowiedź chcemy ją w jakiś sposób wyróżnić. Zdefiniujmy wygląd w przypadku zaznaczenia w pliku `selected_answer_shape.xml` - który również dodajemy do folderu `drawable`"
   ]
  },
  {
   "cell_type": "code",
   "execution_count": null,
   "id": "a0c76cd2-4092-4cbe-a420-feb2b9ad3752",
   "metadata": {},
   "outputs": [],
   "source": [
    "<?xml version=\"1.0\" encoding=\"utf-8\"?>\n",
    "<shape xmlns:android=\"http://schemas.android.com/apk/res/android\"\n",
    "    android:shape=\"rectangle\">\n",
    "\n",
    "    <!-- pogrubienie i zmiana koloru -->\n",
    "    <stroke\n",
    "        android:width=\"5dp\" \n",
    "        android:color=\"@color/black\"/>\n",
    "\n",
    "    <solid\n",
    "        android:color=\"@color/white\"/>\n",
    "\n",
    "    <corners\n",
    "        android:radius=\"50dp\"/>\n",
    "\n",
    "</shape>"
   ]
  },
  {
   "cell_type": "markdown",
   "id": "aca25595-4db9-47cd-af5f-b0774b61d745",
   "metadata": {},
   "source": [
    "Przejdźmy do `MainActivity`"
   ]
  },
  {
   "cell_type": "markdown",
   "id": "6bd9ca9c-90db-4ecc-a774-46974bdb70c9",
   "metadata": {},
   "source": [
    "Dodajmy zmienną reprezentującą numer pytania na którym się znajdujemy - rozpoczynamy od pytania numer 1"
   ]
  },
  {
   "cell_type": "code",
   "execution_count": null,
   "id": "fd04ebd0-9f2e-43ce-9c50-f043a5cbadb9",
   "metadata": {},
   "outputs": [],
   "source": [
    "private int currentPosition = 1;"
   ]
  },
  {
   "cell_type": "markdown",
   "id": "9f8708b6-8a79-45b4-987f-14c657fc472f",
   "metadata": {},
   "source": [
    "Następnie potrzebujemy listę wszystkich pytań"
   ]
  },
  {
   "cell_type": "code",
   "execution_count": null,
   "id": "aff70b03-7c55-4d44-88b0-9df0f7260d59",
   "metadata": {},
   "outputs": [],
   "source": [
    "private ArrayList<Question> questions = Questions.getQuestions();"
   ]
  },
  {
   "cell_type": "markdown",
   "id": "688cdbde-5e91-45f7-8fb5-7b6c0b08c8bb",
   "metadata": {},
   "source": [
    "oraz zmienną reprezentującą aktualne zaznaczenie"
   ]
  },
  {
   "cell_type": "code",
   "execution_count": null,
   "id": "fbe58c88-05e8-4ceb-839f-1bf8774e29c9",
   "metadata": {},
   "outputs": [],
   "source": [
    "private int selectedAnswerPosition = 0;"
   ]
  },
  {
   "cell_type": "markdown",
   "id": "6a379d24-37d7-4e13-a332-8d62007a288d",
   "metadata": {},
   "source": [
    "Dodajmy funkcję ustawiającą nam odpowiednie pytanie"
   ]
  },
  {
   "cell_type": "code",
   "execution_count": null,
   "id": "719e7001-3357-499e-a7d3-cb44a42e20fc",
   "metadata": {},
   "outputs": [],
   "source": [
    "private void setQuestion(){\n",
    "}"
   ]
  },
  {
   "cell_type": "markdown",
   "id": "17e80c19-80b1-4cd0-995c-db703e95d20e",
   "metadata": {},
   "source": [
    "Wpierw wyciągnijmy dane z odpowiedniej pozycji"
   ]
  },
  {
   "cell_type": "code",
   "execution_count": null,
   "id": "7426b912-96a1-4a24-a99f-f36842d5527f",
   "metadata": {},
   "outputs": [],
   "source": [
    "Question question = questions.get(currentPosition - 1);"
   ]
  },
  {
   "cell_type": "markdown",
   "id": "37742fdd-1ac9-4f7a-8ab9-a41423f88c79",
   "metadata": {},
   "source": [
    "Połączmy pola layoutu z polami klasy"
   ]
  },
  {
   "cell_type": "code",
   "execution_count": null,
   "id": "fef82ea5-1dc6-4dc1-b129-5b1136237b89",
   "metadata": {},
   "outputs": [],
   "source": [
    "private TextView answerOne, answerTwo, answerThree, questionText, progressText;\n",
    "private Button submitButton;\n",
    "private ProgressBar progressBar;\n",
    "private ImageView imageView;\n",
    "\n",
    "@Override\n",
    "protected void onCreate(Bundle savedInstanceState) {\n",
    "    super.onCreate(savedInstanceState);\n",
    "    setContentView(R.layout.activity_main);\n",
    "\n",
    "    answerOne = findViewById(R.id.text_view_answer_one);\n",
    "    answerTwo = findViewById(R.id.text_view_answer_two);\n",
    "    answerThree = findViewById(R.id.text_view_answer_three);\n",
    "    questionText = findViewById(R.id.text_view_question);\n",
    "    submitButton = findViewById(R.id.button_next);\n",
    "    progressBar = findViewById(R.id.progress_bar);\n",
    "    imageView = findViewById(R.id.image_view_question);\n",
    "    progressText = findViewById(R.id.text_view_progress);\n",
    "\n",
    "    setQuestion();\n",
    "}"
   ]
  },
  {
   "cell_type": "markdown",
   "id": "a0e341b8-0e31-4f88-912f-cca6ba2f150e",
   "metadata": {},
   "source": [
    "Do metody `setQuestion` dodajmy ustawienie `ProgressBar` na odpowiednią pozycję"
   ]
  },
  {
   "cell_type": "code",
   "execution_count": null,
   "id": "059826dc-7247-4291-9b2e-5370193cc238",
   "metadata": {},
   "outputs": [],
   "source": [
    "progressBar.setProgress(currentPosition);"
   ]
  },
  {
   "cell_type": "markdown",
   "id": "491e0b14-8c13-493d-b22c-4573045ef551",
   "metadata": {},
   "source": [
    "Następnie ustawmy pola `TextView` oraz `ImageView`"
   ]
  },
  {
   "cell_type": "code",
   "execution_count": null,
   "id": "c788f64b-4da3-43c6-a2de-3d4eec201a36",
   "metadata": {},
   "outputs": [],
   "source": [
    "private void setQuestion(){\n",
    "    Question question = questions.get(currentPosition - 1);\n",
    "    progressBar.setProgress(currentPosition);\n",
    "    progressText.setText(currentPosition + \"/\" + progressBar.getMax());\n",
    "    questionText.setText(question.getQuestion());\n",
    "    answerOne.setText(question.getAnswerOne());\n",
    "    answerTwo.setText(question.getAnswerTwo());\n",
    "    answerThree.setText(question.getAnswerThree());\n",
    "    imageView.setImageResource(question.getImageSource());\n",
    "    submitButton.setText(\"SUBMIT\");\n",
    "}"
   ]
  },
  {
   "cell_type": "markdown",
   "id": "b0758baa-7481-4ba2-af61-220f763b5775",
   "metadata": {},
   "source": [
    "Wywołajmy metodę `setQuestion` w `onCreate`. Następnie dodajmy metodę ustawiającą widok domyślny"
   ]
  },
  {
   "cell_type": "code",
   "execution_count": null,
   "id": "f9371b2b-6d00-44b8-b9ab-9035795964f5",
   "metadata": {},
   "outputs": [],
   "source": [
    "private void setDefaultView(){\n",
    "}"
   ]
  },
  {
   "cell_type": "markdown",
   "id": "92355ba6-02af-45c8-b246-0c32dec1a2f1",
   "metadata": {},
   "source": [
    "W pierwszym kroku utworzymy liste wsztskich elementów których wygląd chcemy przywrócić do domyślnego"
   ]
  },
  {
   "cell_type": "code",
   "execution_count": null,
   "id": "45eee214-210d-42e6-ae09-2e939e0afb83",
   "metadata": {},
   "outputs": [],
   "source": [
    "ArrayList<TextView> answers = new ArrayList<TextView>(){{\n",
    "    add(answerOne);\n",
    "    add(answerTwo);\n",
    "    add(answerThree);\n",
    "}};"
   ]
  },
  {
   "cell_type": "markdown",
   "id": "a1ae05cd-1c80-4f46-a834-2a9338c6db45",
   "metadata": {},
   "source": [
    "Następnie przejdziemy przez wszystkie elementy i przywrócimy domyślny wygląd"
   ]
  },
  {
   "cell_type": "code",
   "execution_count": null,
   "id": "a2b49f73-f051-403b-ad90-ecc7580ac969",
   "metadata": {},
   "outputs": [],
   "source": [
    "for (TextView answer : answers){\n",
    "    answer.setTextColor(Color.parseColor(\"#000000\"));\n",
    "    answer.setTypeface(Typeface.DEFAULT);\n",
    "    answer.setBackground(ContextCompat.getDrawable(this, R.drawable.default_answer_shape));\n",
    "}"
   ]
  },
  {
   "cell_type": "markdown",
   "id": "4c8b1b09-7a76-4c85-b00a-b09ef09ce327",
   "metadata": {},
   "source": [
    "Metodę `setDefaultView` wywołujemy w metodzie `setQuestion`"
   ]
  },
  {
   "cell_type": "code",
   "execution_count": null,
   "id": "d2ee17f9-31e6-4c38-9c49-cb1ce0591513",
   "metadata": {},
   "outputs": [],
   "source": [
    "private void setQuestion(){\n",
    "    Question question = questions.get(currentPosition - 1);\n",
    "    setDefaultView();\n",
    "    ...\n",
    "}"
   ]
  },
  {
   "cell_type": "markdown",
   "id": "6eb04343-a627-44a3-b941-579c41384de1",
   "metadata": {},
   "source": [
    "W ostatniej metodzie bedziemy zmieniać wygląd wybranej kontrolki"
   ]
  },
  {
   "cell_type": "code",
   "execution_count": null,
   "id": "0e342a22-c8a6-493a-b382-43dc98b66cdb",
   "metadata": {},
   "outputs": [],
   "source": [
    "private void setSelectedView(TextView textView, int selectedAnswer){\n",
    "\n",
    "}"
   ]
  },
  {
   "cell_type": "markdown",
   "id": "47d90f26-06f9-47de-84df-72290bb48f5e",
   "metadata": {},
   "source": [
    "Wpierw wywołamy metodę `setDefaultView` i zmienimy ustawienia wybranego elementu"
   ]
  },
  {
   "cell_type": "code",
   "execution_count": null,
   "id": "940d834d-cd35-485b-93ac-c46569d799fd",
   "metadata": {},
   "outputs": [],
   "source": [
    "private void setSelectedView(TextView textView, int selectedAnswer){\n",
    "    setDefaultView();\n",
    "    selectedAnswerPosition = selectedAnswer;\n",
    "    textView.setTypeface(textView.getTypeface(), Typeface.BOLD);\n",
    "    textView.setBackground(ContextCompat.getDrawable(this, R.drawable.selected_answer_shape));\n",
    "}"
   ]
  },
  {
   "cell_type": "markdown",
   "id": "dc879d7e-6973-4dd2-bf57-f0a312c7f7a0",
   "metadata": {},
   "source": [
    "Kolejnym krokiem będzie implementacja metod `onClick` - zrobimy to w metodzie `onCreate`"
   ]
  },
  {
   "cell_type": "code",
   "execution_count": null,
   "id": "494b3626-467d-4557-ba30-81e93d2e7aa8",
   "metadata": {},
   "outputs": [],
   "source": [
    "answerOne.setOnClickListener(view -> {\n",
    "    setSelectedView(answerOne, 1);\n",
    "});\n",
    "\n",
    "answerTwo.setOnClickListener(view -> {\n",
    "    setSelectedView(answerTwo, 2);\n",
    "});\n",
    "\n",
    "answerThree.setOnClickListener(view -> {\n",
    "    setSelectedView(answerThree, 3);\n",
    "});"
   ]
  },
  {
   "cell_type": "markdown",
   "id": "67b7ed06-8593-413a-b6a5-b0fc472cbc38",
   "metadata": {},
   "source": [
    "Na tym etapie możemy przetestować aplikację"
   ]
  },
  {
   "cell_type": "markdown",
   "id": "545c1d2f-c423-4819-9032-bfa5911767e4",
   "metadata": {},
   "source": [
    "<img src=\"https://media1.giphy.com/media/g6z8YQk3uLUSTqf3R4/giphy.gif?cid=790b76112c11637ed315c500cc92d0191ce4fc54ff18c14a&rid=giphy.gif&ct=g\" width=\"150\" />"
   ]
  },
  {
   "cell_type": "markdown",
   "id": "edb78156-1686-4a70-b425-f205119ac7bc",
   "metadata": {},
   "source": [
    "## **Zaznaczenie prawidłowej oraz nieprawidłowej odpowiedzi**"
   ]
  },
  {
   "cell_type": "markdown",
   "id": "dd7e917a-07ba-4f2d-b04a-fba5611ad401",
   "metadata": {},
   "source": [
    "Dodajmy kolejne dwa pliki do folderu `drawable` - `correct_answer_shape.xml` oraz `incorrect_answer_shape.xml`\n",
    "\n",
    "- `correct_answer-shape.xml`"
   ]
  },
  {
   "cell_type": "code",
   "execution_count": null,
   "id": "d56f0f4d-e055-4742-8f25-44e3936c0bb8",
   "metadata": {},
   "outputs": [],
   "source": [
    "<?xml version=\"1.0\" encoding=\"utf-8\"?>\n",
    "<shape xmlns:android=\"http://schemas.android.com/apk/res/android\"\n",
    "    android:shape=\"rectangle\">\n",
    "\n",
    "    <stroke\n",
    "        android:width=\"2dp\"\n",
    "        android:color=\"#DC77C5\"/>\n",
    "\n",
    "    <!-- zmieniamy kolor -->\n",
    "    <solid\n",
    "        android:color=\"#00FF00\"/>\n",
    "\n",
    "    <corners\n",
    "        android:radius=\"50dp\"/>\n",
    "\n",
    "</shape>"
   ]
  },
  {
   "cell_type": "markdown",
   "id": "64a86eb7-f98d-456d-9403-1c333b3f0112",
   "metadata": {},
   "source": [
    "- `incorrect_answer-shape.xml`"
   ]
  },
  {
   "cell_type": "code",
   "execution_count": null,
   "id": "48055650-b7ab-4d09-810f-4ecfe65c4291",
   "metadata": {},
   "outputs": [],
   "source": [
    "<?xml version=\"1.0\" encoding=\"utf-8\"?>\n",
    "<shape xmlns:android=\"http://schemas.android.com/apk/res/android\"\n",
    "    android:shape=\"rectangle\">\n",
    "\n",
    "    <stroke\n",
    "        android:width=\"2dp\"\n",
    "        android:color=\"#DC77C5\"/>\n",
    "\n",
    "    <!-- zmieniamy kolor -->\n",
    "    <solid\n",
    "        android:color=\"#FF0000\"/>\n",
    "\n",
    "    <corners\n",
    "        android:radius=\"50dp\"/>\n",
    "\n",
    "</shape>"
   ]
  },
  {
   "cell_type": "markdown",
   "id": "c91a922f-b279-4946-babc-83a67ba094ee",
   "metadata": {},
   "source": [
    "Wróćmy do `MainActivity` i dodajmy metodę `setAnswerView` zmieniającą ustawienie tła na elemencie przyjętym w argumencie"
   ]
  },
  {
   "cell_type": "code",
   "execution_count": null,
   "id": "c2e9d3a4-fe03-4ee6-8e9d-33208536bb10",
   "metadata": {},
   "outputs": [],
   "source": [
    "private void setAnswerView(int answer, int drawableItem){\n",
    "    switch (answer){\n",
    "        case 1:\n",
    "            answerOne.setBackground(ContextCompat.getDrawable(this, drawableItem));\n",
    "            break;\n",
    "        case 2:\n",
    "            answerTwo.setBackground(ContextCompat.getDrawable(this, drawableItem));\n",
    "            break;\n",
    "        case 3:\n",
    "            answerThree.setBackground(ContextCompat.getDrawable(this, drawableItem));\n",
    "            break; default: break;\n",
    "    }\n",
    "}"
   ]
  },
  {
   "cell_type": "markdown",
   "id": "c1e78f58-dd44-402a-b3bb-3d41d341b9d7",
   "metadata": {},
   "source": [
    "Dodajmy teraz implementację `onClick` przycisku `Submit`"
   ]
  },
  {
   "cell_type": "markdown",
   "id": "decea2ae-dafb-408e-8eb5-94e3b469dfbf",
   "metadata": {},
   "source": [
    "Quiz rozpoczynamy ustawiając `selectedAnswerPosition` na 0, więc w pierwszym kroku inkrementujemy wartość aby przejść do pierwszego pytania"
   ]
  },
  {
   "cell_type": "code",
   "execution_count": null,
   "id": "e002f901-29ca-4241-b1f9-98c238af38cc",
   "metadata": {},
   "outputs": [],
   "source": [
    "submitButton.setOnClickListener(view -> {\n",
    "    if (selectedAnswerPosition == 0) {\n",
    "        currentPosition++;\n",
    "    }\n",
    "});"
   ]
  },
  {
   "cell_type": "markdown",
   "id": "2fea86e5-a91c-4364-b014-f117b3fbc97e",
   "metadata": {},
   "source": [
    "Dodajmy warunek na koniec quizu - wyświetlimy wiadomość w \"dymku\" `Toast`"
   ]
  },
  {
   "cell_type": "code",
   "execution_count": null,
   "id": "cf0059d4-b50d-4a08-bb4a-3fec32e77da0",
   "metadata": {},
   "outputs": [],
   "source": [
    "submitButton.setOnClickListener(view -> {\n",
    "    if (selectedAnswerPosition == 0) {\n",
    "        currentPosition++;\n",
    "        if (currentPosition <= questions.size())\n",
    "            setQuestion();\n",
    "        else\n",
    "            Toast.makeText(this, \"Quiz completed\",\n",
    "                    Toast.LENGTH_SHORT).show();\n",
    "    }\n",
    "});        "
   ]
  },
  {
   "cell_type": "markdown",
   "id": "17802cc3-dda8-46f2-a538-2d6dae107227",
   "metadata": {},
   "source": [
    "Następnie dodamy zmianę tła w przypadku zaznaczenia poprzwnej i niepoprawnej odpowiedzi"
   ]
  },
  {
   "cell_type": "code",
   "execution_count": null,
   "id": "a865df8a-8555-4a3d-b9e5-9024524c90bd",
   "metadata": {},
   "outputs": [],
   "source": [
    "submitButton.setOnClickListener(view -> {\n",
    "    if (selectedAnswerPosition == 0) {\n",
    "        currentPosition++;\n",
    "        if (currentPosition <= questions.size())\n",
    "            setQuestion();\n",
    "        else\n",
    "            Toast.makeText(this, \"Quiz completed\",\n",
    "                    Toast.LENGTH_SHORT).show();\n",
    "    } else {\n",
    "        Question question = questions.get(currentPosition - 1);\n",
    "        if (question.getCorrectAnswer() != selectedAnswerPosition)\n",
    "            setAnswerView(selectedAnswerPosition, R.drawable.incorrect_answer_shape);\n",
    "        setAnswerView(question.getCorrectAnswer(), R.drawable.correct_answer_shape);\n",
    "    }\n",
    "});    "
   ]
  },
  {
   "cell_type": "markdown",
   "id": "7cc60c41-14fe-46ad-8c7f-8e00a41bfc8e",
   "metadata": {},
   "source": [
    "Na koniec zmienimy tekst przycisku na zakończenie quizu oraz zresetujemy `selectedAnswerPosition`"
   ]
  },
  {
   "cell_type": "code",
   "execution_count": null,
   "id": "75f02a61-ab50-4699-abb2-ce5eb0af15d1",
   "metadata": {},
   "outputs": [],
   "source": [
    "submitButton.setOnClickListener(view -> {\n",
    "    if (selectedAnswerPosition == 0) {\n",
    "        currentPosition++;\n",
    "        if (currentPosition <= questions.size())\n",
    "            setQuestion();\n",
    "        else\n",
    "            Toast.makeText(this, \"Quiz completed\",\n",
    "                    Toast.LENGTH_SHORT).show();\n",
    "    } else {\n",
    "        Question question = questions.get(currentPosition - 1);\n",
    "        if (question.getCorrectAnswer() != selectedAnswerPosition)\n",
    "            setAnswerView(selectedAnswerPosition, R.drawable.incorrect_answer_shape);\n",
    "        setAnswerView(question.getCorrectAnswer(), R.drawable.correct_answer_shape);\n",
    " \n",
    "        if (currentPosition == questions.size())\n",
    "            submitButton.setText(\"FINISH\");\n",
    "        else\n",
    "            submitButton.setText(\"NEXT QUESTION\");\n",
    "    }\n",
    "\n",
    "    selectedAnswerPosition = 0;\n",
    "}); "
   ]
  },
  {
   "cell_type": "markdown",
   "id": "b087afee-6c22-4031-9703-30cbaf3fa83c",
   "metadata": {},
   "source": [
    "Napiszmy metodę zmieniającą właściwość `Clickable` pól `TextView`"
   ]
  },
  {
   "cell_type": "code",
   "execution_count": null,
   "id": "021cdf40-85ff-45e0-87a4-041845f67b34",
   "metadata": {},
   "outputs": [],
   "source": [
    "private void changeClickableAnswers(boolean isAnswered){\n",
    "    answerOne.setClickable(isAnswered);\n",
    "    answerTwo.setClickable(isAnswered);\n",
    "    answerThree.setClickable(isAnswered);\n",
    "}"
   ]
  },
  {
   "cell_type": "markdown",
   "id": "115c6315-3e1e-4584-aeae-5da9da25ea37",
   "metadata": {},
   "source": [
    "Funkcję wywołujemy w dwóch miejscach:\n",
    "- `onClick` przycisku"
   ]
  },
  {
   "cell_type": "code",
   "execution_count": null,
   "id": "aed7ed69-ec43-4fa5-9fd6-5c67ac9e520c",
   "metadata": {},
   "outputs": [],
   "source": [
    "if (currentPosition == questions.size())\n",
    "    submitButton.setText(\"FINISH\");\n",
    "else {\n",
    "    changeClickableAnswers(false);\n",
    "    submitButton.setText(\"NEXT QUESTION\");\n",
    "}"
   ]
  },
  {
   "cell_type": "markdown",
   "id": "611ee72e-1fc7-4a1a-a2f7-e50e58c8d635",
   "metadata": {},
   "source": [
    "- metoda `setQuestion`"
   ]
  },
  {
   "cell_type": "code",
   "execution_count": null,
   "id": "822fa41b-f87a-44f2-a6e7-7556a6e467e4",
   "metadata": {},
   "outputs": [],
   "source": [
    "private void setQuestion(){\n",
    "    Question question = questions.get(currentPosition - 1);\n",
    "    setDefaultView();\n",
    "    progressBar.setProgress(currentPosition);\n",
    "    progressText.setText(currentPosition + \"/\" + progressBar.getMax());\n",
    "    questionText.setText(question.getQuestion());\n",
    "    answerOne.setText(question.getAnswerOne());\n",
    "    answerTwo.setText(question.getAnswerTwo());\n",
    "    answerThree.setText(question.getAnswerThree());\n",
    "    imageView.setImageResource(question.getImageSource());\n",
    "    submitButton.setText(\"SUBMIT\");\n",
    "    changeClickableAnswers(true);\n",
    "}"
   ]
  },
  {
   "cell_type": "markdown",
   "id": "b2a53592-b5a2-4a20-a9ed-9b89a8489669",
   "metadata": {},
   "source": [
    "Możemy przetestować aplikację."
   ]
  },
  {
   "cell_type": "markdown",
   "id": "59f12eca-c81e-4998-b59f-3e2c9168b391",
   "metadata": {},
   "source": [
    "<img src=\"https://media1.giphy.com/media/KkRBm5TqFbEWEqnrIy/giphy.gif?cid=790b76114709b5b4e63072bd5b3af809b31816e92c710c39&rid=giphy.gif&ct=g\" width=\"150\" />"
   ]
  },
  {
   "cell_type": "code",
   "execution_count": null,
   "id": "58e5555a-b68d-43b5-a99e-46ec04e2d584",
   "metadata": {},
   "outputs": [],
   "source": []
  }
 ],
 "metadata": {
  "kernelspec": {
   "display_name": "Java",
   "language": "java",
   "name": "java"
  },
  "language_info": {
   "codemirror_mode": "java",
   "file_extension": ".jshell",
   "mimetype": "text/x-java-source",
   "name": "Java",
   "pygments_lexer": "java",
   "version": "17+35-2724"
  }
 },
 "nbformat": 4,
 "nbformat_minor": 5
}
