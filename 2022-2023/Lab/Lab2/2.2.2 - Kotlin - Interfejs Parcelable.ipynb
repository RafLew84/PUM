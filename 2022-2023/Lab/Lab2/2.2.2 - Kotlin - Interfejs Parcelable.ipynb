{
 "cells": [
  {
   "cell_type": "markdown",
   "id": "108492c8-bbde-43f6-b4eb-f2ee844fb1dd",
   "metadata": {},
   "source": [
    "# 2.2 Interfejs `Parcelable`"
   ]
  },
  {
   "cell_type": "markdown",
   "id": "00659535-e46e-49e6-8622-ef24328deafc",
   "metadata": {},
   "source": [
    "W tym przykładzie będziemy posiadać dwie aktywności, poprzez mechanizm `Intent` włączymy drugą aktywność oraz dzięki zaimplementowaniu interfejsu `Parcelable` przekażemy cały obiekt. Do `activity_main.xml` dodajemy jeden `Button` przez naciśnięcie którego otworzymy drugą aktywność."
   ]
  },
  {
   "cell_type": "code",
   "execution_count": null,
   "id": "14dc1c8d-5f29-4507-a146-b5e36b67120a",
   "metadata": {},
   "outputs": [],
   "source": [
    "<?xml version=\"1.0\" encoding=\"utf-8\"?>\n",
    "<androidx.constraintlayout.widget.ConstraintLayout xmlns:android=\"http://schemas.android.com/apk/res/android\"\n",
    "    xmlns:app=\"http://schemas.android.com/apk/res-auto\"\n",
    "    xmlns:tools=\"http://schemas.android.com/tools\"\n",
    "    android:layout_width=\"match_parent\"\n",
    "    android:layout_height=\"match_parent\"\n",
    "    tools:context=\".MainActivity\">\n",
    "\n",
    "    <Button\n",
    "        android:id=\"@+id/sendButton\"\n",
    "        android:layout_width=\"wrap_content\"\n",
    "        android:layout_height=\"wrap_content\"\n",
    "        android:layout_margin=\"16dp\"\n",
    "        android:text=\"SEND\"\n",
    "        app:layout_constraintStart_toStartOf=\"parent\"\n",
    "        app:layout_constraintTop_toTopOf=\"parent\" />\n",
    "\n",
    "</androidx.constraintlayout.widget.ConstraintLayout>"
   ]
  },
  {
   "cell_type": "markdown",
   "id": "f9c715ee-e480-4e81-8c61-58ed7d4ad907",
   "metadata": {},
   "source": [
    "Następnie tworzymy drugą aktywność `SecondActivity.kt` i uzupełniamy jej layout w pliku `second_activity.xml`"
   ]
  },
  {
   "cell_type": "code",
   "execution_count": null,
   "id": "5cc6ed30-cd49-4d4d-9c6b-d58d9c62bbd5",
   "metadata": {},
   "outputs": [],
   "source": [
    "<?xml version=\"1.0\" encoding=\"utf-8\"?>\n",
    "<androidx.constraintlayout.widget.ConstraintLayout xmlns:android=\"http://schemas.android.com/apk/res/android\"\n",
    "    xmlns:app=\"http://schemas.android.com/apk/res-auto\"\n",
    "    xmlns:tools=\"http://schemas.android.com/tools\"\n",
    "    android:layout_width=\"match_parent\"\n",
    "    android:layout_height=\"match_parent\"\n",
    "    tools:context=\".SecondActivity\">\n",
    "\n",
    "    <TextView\n",
    "        android:id=\"@+id/textView\"\n",
    "        android:layout_width=\"match_parent\"\n",
    "        android:layout_height=\"wrap_content\"\n",
    "        android:textSize=\"24sp\"\n",
    "        app:layout_constraintBottom_toBottomOf=\"parent\"\n",
    "        app:layout_constraintStart_toStartOf=\"parent\"\n",
    "        app:layout_constraintTop_toTopOf=\"parent\" />\n",
    "\n",
    "</androidx.constraintlayout.widget.ConstraintLayout>"
   ]
  },
  {
   "cell_type": "markdown",
   "id": "dff10afe-6b71-429c-a672-28313fd9c78c",
   "metadata": {},
   "source": [
    "Przejdźmy do manifestu i określmy hierarchię aktywności"
   ]
  },
  {
   "cell_type": "code",
   "execution_count": null,
   "id": "500e5d44-e025-4564-9b9b-914ed42a333a",
   "metadata": {},
   "outputs": [],
   "source": [
    "        <activity\n",
    "            android:name=\".SecondActivity\"\n",
    "            android:parentActivityName=\".MainActivity\"\n",
    "            android:label=\"Second Activity\"\n",
    "            android:exported=\"false\" />"
   ]
  },
  {
   "cell_type": "markdown",
   "id": "13ee0755-dc55-46f9-bad5-171d0111d29b",
   "metadata": {},
   "source": [
    "Następnie utwórzmy klasę której instancję przekażemy pomiędzy aktywnościami."
   ]
  },
  {
   "cell_type": "code",
   "execution_count": null,
   "id": "399db6d7-84f4-494b-8b01-9e8d490b7546",
   "metadata": {},
   "outputs": [],
   "source": [
    "class Properties(val a: Int, val b: Int, val c: String)"
   ]
  },
  {
   "cell_type": "markdown",
   "id": "8673cb57-b14b-4c41-b398-ed811e8b767d",
   "metadata": {},
   "source": [
    "Aby być w stanie intancję takiej klasy przekazać do innej aktywności, musi ona implementować interfejs `Parcelable` (lub `Serializable` - więcej o różnicach poniżej)."
   ]
  },
  {
   "cell_type": "code",
   "execution_count": null,
   "id": "f51d0529-2ae4-41ee-a64a-5ac308e7d500",
   "metadata": {},
   "outputs": [],
   "source": [
    "package pl.edu.uwr.pum.parcelableexamplekotlin\n",
    "\n",
    "import android.os.Parcel\n",
    "import android.os.Parcelable\n",
    "\n",
    "class Properties(private val a: Int, private val b: Int, private val c: String?) : Parcelable {\n",
    "    constructor(parcel: Parcel) : this(\n",
    "        parcel.readInt(),\n",
    "        parcel.readInt(),\n",
    "        parcel.readString()\n",
    "    ) {\n",
    "    }\n",
    "\n",
    "    override fun writeToParcel(parcel: Parcel, flags: Int) {\n",
    "        parcel.writeInt(a)\n",
    "        parcel.writeInt(b)\n",
    "        parcel.writeString(c)\n",
    "    }\n",
    "\n",
    "    override fun describeContents(): Int {\n",
    "        return 0\n",
    "    }\n",
    "\n",
    "    companion object CREATOR : Parcelable.Creator<Properties> {\n",
    "        override fun createFromParcel(parcel: Parcel): Properties {\n",
    "            return Properties(parcel)\n",
    "        }\n",
    "\n",
    "        override fun newArray(size: Int): Array<Properties?> {\n",
    "            return arrayOfNulls(size)\n",
    "        }\n",
    "    }\n",
    "}"
   ]
  },
  {
   "cell_type": "markdown",
   "id": "ffe1c57a-2315-45e9-b15a-3e552a069c79",
   "metadata": {},
   "source": [
    "Jakc widzimy musimy zaimplementować dwie metody, konstruktor oraz **companion object** `Creator`. Ponieważ obiekt towarzyszący jest sam w sobie jest obiektem więc nie ma żadnych ograniczeń - może rozszerzać klasy i implementować interfejsy. Jeżeli chcemy przekazać instancję klasy przez mechanizm `Intent` lub zachować w obiekcie `Bundle` w pierwszym kroku niejawnie zostanie wywołana metoda `writeToParcel`. Metoda ta opakowuje wszystkie właściwości klasy do obiektu `Parcel` wywołując metodę `write...` z odpowiednim typem. Przy odtwarzaniu instancji klasy `Properties` w pierwszym kroku wywoływana jest metoda `createFromParcel` znajdująca się w obiekcie towarzyszącym `Creator`. Metoda ta wywołuje drugorzędny konstruktor przyjmujący jako argument `Parcel`. Istotnym elementem tej implementacji jest konieczność zachowania kolejności przy przekazywaniu właściwości do i z `Parcel`. Przyjrzyjmy się konstruktorowi drugorzędnemu i metodzie `writeToParcel`."
   ]
  },
  {
   "cell_type": "code",
   "execution_count": null,
   "id": "d5a7678a-3c37-4135-a5f9-cd7ce474dd9b",
   "metadata": {},
   "outputs": [],
   "source": [
    "constructor(parcel: Parcel) : this(\n",
    "    parcel.readInt(),\n",
    "    parcel.readInt(),\n",
    "    parcel.readString()\n",
    ") {\n",
    "}\n",
    "\n",
    "override fun writeToParcel(parcel: Parcel, flags: Int) {\n",
    "    parcel.writeInt(a)\n",
    "    parcel.writeInt(b)\n",
    "    parcel.writeString(c)\n",
    "}"
   ]
  },
  {
   "cell_type": "markdown",
   "id": "82173dd4-ee59-492f-bdd6-7241222e4ebe",
   "metadata": {},
   "source": [
    "Pola `a`, `b` i `c` są zapisywane do `Parcel` i odczytywane w konstruktorze dokładnie w tej samej kolejności - jest to niezbędne do poprawnego działania - zweróćmy uwagę że nie posługujemy się tutaj żadnym kluczem, czy jakimś unikalnym identyfikartorem."
   ]
  },
  {
   "cell_type": "markdown",
   "id": "af8d1a0f-519d-48b7-922f-8d5621f79a6e",
   "metadata": {},
   "source": [
    "Ostatnią metodą jest `describeContent` - w interfejsie zdefiniowana jest stała `CONTENT_FILE_DESCRIPTION` która powinna zostać użyta w tej metodzie do zwrócenia maski bitowej - tutaj zwrócimy wynik wwywołania metody `hashCode`."
   ]
  },
  {
   "cell_type": "code",
   "execution_count": null,
   "id": "5f5eadd7-1b02-4a01-b4a2-658a646b9696",
   "metadata": {},
   "outputs": [],
   "source": [
    "override fun describeContents(): Int {\n",
    "    return hashCode()\n",
    "}"
   ]
  },
  {
   "cell_type": "markdown",
   "id": "b6c0ef9a-303f-4ee0-98d9-82eba4907f5b",
   "metadata": {},
   "source": [
    "Przejdźmy do implementacji metody `onClick` przycisku na głównej aktyności. Tym razem zrobimy to nieco inaczej, przechodzimy do pliku `MainActivity.kt`. Do metody `onCreate` dodajemy"
   ]
  },
  {
   "cell_type": "code",
   "execution_count": null,
   "id": "c84bac27-051f-4dfa-84ff-cc64dc49a26a",
   "metadata": {},
   "outputs": [],
   "source": [
    "findViewById<Button>(R.id.sendButton).setOnClickListener(){\n",
    "            \n",
    "}"
   ]
  },
  {
   "cell_type": "markdown",
   "id": "c274c493-4efa-44c5-969a-93f5400548b6",
   "metadata": {},
   "source": [
    "Ustawiamy `onClickListener` przycisku i jako argument przekazywany jest obiekt o typie  interfejsu `OnClickListener` znajdującego się w klasie `View` - implementujemy jako **lambdę**. Klasa `View` jest główną klasą wszystkich elementów interfejsu użytkownika - jest rozszerzana przez wszystkie klasy."
   ]
  },
  {
   "cell_type": "markdown",
   "id": "34178e6f-286c-4d78-9205-ff8ba4b316ec",
   "metadata": {},
   "source": [
    "Dodajmy implementację `onClick`"
   ]
  },
  {
   "cell_type": "code",
   "execution_count": null,
   "id": "9dac7d90-a294-46e6-acae-7e6a3c2d8b84",
   "metadata": {},
   "outputs": [],
   "source": [
    "findViewById<Button>(R.id.sendButton).setOnClickListener(){\n",
    "    val intent = Intent(this, SecondActivity::class.java)\n",
    "        .putExtra(EXTRA_KEY, Properties(1, 2, \"String\"))\n",
    "    startActivity(intent)\n",
    "}"
   ]
  },
  {
   "cell_type": "markdown",
   "id": "ad8a7e0b-6562-486f-abc3-29add57f927c",
   "metadata": {},
   "source": [
    "Tworzymy klucz dla `Intent`, następnie tworzymy instancję `Properties` oraz sam `Intent`. Wskazujemy kontekst jako `this` oraz cel którym jest `SecoondActivity::class.java`. Następnie dodajemy za pomocą metody `putExtra` nasz obiekt `Properties` i wywołujemy `startActivity` w celu włączenia drugiej aktywności."
   ]
  },
  {
   "cell_type": "markdown",
   "id": "aab59a6d-099b-4699-b9ae-d99c7cb9d3ac",
   "metadata": {},
   "source": [
    "W następnym kroku odbierzemy dane w `SecondActivity` i rozpakujemy obiekt `Properties`. Przejdźmy do pliku `SecondActivity.kt`"
   ]
  },
  {
   "cell_type": "code",
   "execution_count": null,
   "id": "63d6dc93-541b-4939-b076-4242731d5c46",
   "metadata": {},
   "outputs": [],
   "source": [
    "package pl.edu.uwr.pum.parcelableexamplekotlin\n",
    "\n",
    "import androidx.appcompat.app.AppCompatActivity\n",
    "import android.os.Bundle\n",
    "import android.widget.TextView\n",
    "\n",
    "class SecondActivity : AppCompatActivity() {\n",
    "    override fun onCreate(savedInstanceState: Bundle?) {\n",
    "        super.onCreate(savedInstanceState)\n",
    "        setContentView(R.layout.activity_second)\n",
    "        val prop = intent.getParcelableExtra<Properties>(EXTRA_KEY)\n",
    "        if (prop != null)\n",
    "            ((prop.a + prop.b).toString() + \" \" + prop.c)\n",
    "                .also { findViewById<TextView>(R.id.textView).text = it }\n",
    "    }\n",
    "}"
   ]
  },
  {
   "cell_type": "markdown",
   "id": "3913d528-a249-45c8-b1b2-0e82213e359e",
   "metadata": {},
   "source": [
    "Tworzymy `Intent` i wywoołujemy metodę `getIntent`, następnie tworzymy obiekt typu `Properties` - tutaj niejawnie zoostanie wywołany konstruktor z argumentem typu `Parcel`. Wyciągamy obiekt za pomocą metody `getParcelableExtra` jako argument podając klucz. Do odpowiednich pól możemy dostać się poprzez odpowiednie **gettery**. Możemy przetestować aplikację."
   ]
  },
  {
   "cell_type": "markdown",
   "id": "986faca8-46cd-4725-b81b-9235ac91e72e",
   "metadata": {},
   "source": [
    "## **Interfejs `Serializable`**"
   ]
  },
  {
   "cell_type": "markdown",
   "id": "72f4de01-7e53-47d1-bee8-cde7ffd4999f",
   "metadata": {},
   "source": [
    "Dodajmy do projektu kolejną klasę `SerializableProperties`, która implementuje interfejs `Serializable` i powtórzmy wszystkie czynności."
   ]
  },
  {
   "cell_type": "code",
   "execution_count": null,
   "id": "7ae2e89e-e799-439d-ae41-2571554147e9",
   "metadata": {},
   "outputs": [],
   "source": [
    "import java.io.Serializable\n",
    "\n",
    "class SerializableProperties (val a: Int, b: Int, c: String): Serializable"
   ]
  },
  {
   "cell_type": "markdown",
   "id": "8b717db3-6050-4c9d-8aac-bbe7b418f4e2",
   "metadata": {},
   "source": [
    "Interfejs `Serializable` jest **interfejsem znacznikowym** więc nie jest koonieczne implementowanie żadnych metod"
   ]
  },
  {
   "cell_type": "markdown",
   "id": "cad3c895-4c09-4a39-a198-0e978abdfe14",
   "metadata": {},
   "source": [
    "W klasie `MainActivity.kt` dodajmy jeszcze jedno pole"
   ]
  },
  {
   "cell_type": "code",
   "execution_count": null,
   "id": "30762c95-578b-41d1-b0eb-da31867bc60b",
   "metadata": {},
   "outputs": [],
   "source": [
    "const val EXTRA_SERIALIZABLE = \"serializable_example\""
   ]
  },
  {
   "cell_type": "markdown",
   "id": "90665681-afc7-4145-9b48-3094c4da9f40",
   "metadata": {},
   "source": [
    "Następnie utworzymy instancję klasy `SerializableProperties` i dodamy ją do wcześniej utworzonego `Intent`"
   ]
  },
  {
   "cell_type": "code",
   "execution_count": null,
   "id": "d0ffd464-db5c-4778-ab08-83639d5254f9",
   "metadata": {},
   "outputs": [],
   "source": [
    "findViewById<Button>(R.id.sendButton).setOnClickListener(){\n",
    "    val intent = Intent(this, SecondActivity::class.java)\n",
    "        .putExtra(EXTRA_KEY, Properties(1, 2, \"String\"))\n",
    "        .putExtra(EXTRA_SERIALIZABLE, SerializableProperties(11, 11, \"Serializable\"))\n",
    "    startActivity(intent)\n",
    "}"
   ]
  },
  {
   "cell_type": "markdown",
   "id": "fdc03e04-6096-406a-8ea7-3895c9280fcb",
   "metadata": {},
   "source": [
    "Przejdźmy do `SecondActivity`, rozpakujmy nasz drugi obiekt i dodajmy jego pola do `TextView`."
   ]
  },
  {
   "cell_type": "code",
   "execution_count": null,
   "id": "d068432d-62fc-4336-a359-7402e7c6e158",
   "metadata": {},
   "outputs": [],
   "source": [
    "class SecondActivity : AppCompatActivity() {\n",
    "    override fun onCreate(savedInstanceState: Bundle?) {\n",
    "        super.onCreate(savedInstanceState)\n",
    "        setContentView(R.layout.activity_second)\n",
    "        val prop = intent.getParcelableExtra<Properties>(EXTRA_KEY)\n",
    "        val serProp = intent.getSerializableExtra(EXTRA_SERIALIZABLE) as SerializableProperties\n",
    "        if (prop != null)\n",
    "            ((prop.a + prop.b).toString() + \" \" + prop.c + \"----\" +\n",
    "                    serProp.a + serProp.b + \" \" + serProp.c)\n",
    "                .also { findViewById<TextView>(R.id.textView).text = it }\n",
    "    }\n",
    "}"
   ]
  },
  {
   "cell_type": "markdown",
   "id": "feb870ac-ee6d-4b4f-8b59-449128f48ce7",
   "metadata": {},
   "source": [
    "Zwróćmy uwagę że przy wywołaniu metody `getSerializableExtra` dostajjjemy obiekt o typie interfejsu `Serializable` i potrszebujemy obiekt typu `SerializableProperties`. Ponieważ nasza klasa implementuje ten interfejs, możemy bezpiecznie rzutować na `SerializableProperties`."
   ]
  },
  {
   "cell_type": "markdown",
   "id": "963b786a-5bd4-4cbe-acb3-535752b87413",
   "metadata": {},
   "source": [
    "Po uruchomieniu aplikacji powinniśmy dostać podobny wynik jak poprzednio. Widzimy że właściwie mogę zrobić dokładnie to samo przy pomocy dwóch interfejsów - `Parcelable` i `Serializable`; więc czym się różnią?\n",
    "- `Parcelable` jest szybszy od `Serializable`\n",
    "- `Serializable` jest interfejsem znacznikowym, więc implementacja jest szybsza\n",
    "- `Serializable` tworzy wiele tymczasowych obiektów - jest niewydajny\n",
    "- możemy przekazać całą tablicę obiektów za pomocą `Parcelable`\n",
    "- w kotlinie mamy do dyspozycji adnotację `@Parcelize` dzięki której dostajemy domyślną implementację wszystkich metod interfejsu `Parcelable`"
   ]
  },
  {
   "cell_type": "markdown",
   "id": "8c283b24-69a7-46e1-848c-ba538cb666fb",
   "metadata": {},
   "source": [
    "## **Adnotacja `@Parcelize`**"
   ]
  },
  {
   "cell_type": "markdown",
   "id": "28dcf982-a31b-4c82-8b99-573bdbd9baf8",
   "metadata": {},
   "source": [
    "Dodajmy kolejną klasę do projektu i jak poprzednio przekażmy jej intstancję jako `Extra` to drugiej aktywności. W pierwszym kroku musimy przejść do pliku `build.gradle(Module)` i dodać plugin"
   ]
  },
  {
   "cell_type": "code",
   "execution_count": null,
   "id": "2a589885-ce1f-4cb0-865a-613f2592518b",
   "metadata": {},
   "outputs": [],
   "source": [
    "plugins {\n",
    "    id 'com.android.application'\n",
    "    id 'org.jetbrains.kotlin.android'\n",
    "    id 'kotlin-parcelize'\n",
    "}"
   ]
  },
  {
   "cell_type": "markdown",
   "id": "7dd012ff-cc76-43f3-8088-d8a09e01d33f",
   "metadata": {},
   "source": [
    "Następnie możemy wykorzystać adnotację `@Parcelize`"
   ]
  },
  {
   "cell_type": "code",
   "execution_count": null,
   "id": "24a5e9b4-6574-46cf-9953-ba284e991526",
   "metadata": {},
   "outputs": [],
   "source": [
    "import android.os.Parcelable\n",
    "import kotlinx.parcelize.Parcelize\n",
    "\n",
    "@Parcelize\n",
    "class ParcelizeProperties (val a: Int, val b: Int, val c: String) : Parcelable"
   ]
  },
  {
   "cell_type": "markdown",
   "id": "bc5b0f53-31bf-416a-be11-2369cdc94e6c",
   "metadata": {},
   "source": [
    "Dokonujemy modyfikacji w pliku `MainActivity.kt`"
   ]
  },
  {
   "cell_type": "code",
   "execution_count": null,
   "id": "e7b9bc9a-a4eb-4efe-865f-d54b2c427580",
   "metadata": {},
   "outputs": [],
   "source": [
    "findViewById<Button>(R.id.sendButton).setOnClickListener(){\n",
    "    val intent = Intent(this, SecondActivity::class.java)\n",
    "        .putExtra(EXTRA_KEY, Properties(1, 2, \"String\"))\n",
    "        .putExtra(EXTRA_SERIALIZABLE, SerializableProperties(11, 11, \"Serializable\"))\n",
    "        .putExtra(EXTRA_PARCELIZE, ParcelizeProperties(0, 0, \"Parcelize\"))\n",
    "    startActivity(intent)\n",
    "}"
   ]
  },
  {
   "cell_type": "markdown",
   "id": "900161ba-eea8-4bf6-9a6c-f1f7bb65a2eb",
   "metadata": {},
   "source": [
    "Oraz pliku `SecondActivity.kt`"
   ]
  },
  {
   "cell_type": "code",
   "execution_count": null,
   "id": "aaf5ffd2-ba25-4d67-8c6e-aac7f5e346c2",
   "metadata": {},
   "outputs": [],
   "source": [
    "override fun onCreate(savedInstanceState: Bundle?) {\n",
    "    super.onCreate(savedInstanceState)\n",
    "    setContentView(R.layout.activity_second)\n",
    "        \n",
    "    val prop = intent.getParcelableExtra<Properties>(EXTRA_KEY)\n",
    "    val serProp = intent.getSerializableExtra(EXTRA_SERIALIZABLE) as SerializableProperties\n",
    "    val parProp = intent.getParcelableExtra<ParcelizeProperties>(EXTRA_PARCELIZE)\n",
    "        \n",
    "    if (prop != null && parProp != null)\n",
    "        ((prop.a + prop.b).toString() + \" \" + prop.c + \"----\" +\n",
    "            serProp.a + serProp.b + \" \" + serProp.c + \"----\\n\" +\n",
    "            ( parProp.a + parProp.b).toString() + \" \" + parProp.c)\n",
    "        .also { findViewById<TextView>(R.id.textView).text = it }\n",
    "}"
   ]
  },
  {
   "cell_type": "markdown",
   "id": "488755cb-37c9-41de-aabe-99370d6979b4",
   "metadata": {},
   "source": [
    "Teraz możemy przetestowac aplikację. Widzimy że mamy możliwość automatycznej implementacji wszystkich niezbędnych elementów interfejsu `Parcelable`. Warunkiem jest posiadanie wszystkich pól w **konstruktorze głównym**."
   ]
  },
  {
   "cell_type": "code",
   "execution_count": null,
   "id": "74d3426b-d795-4daf-81c9-b55910e17713",
   "metadata": {},
   "outputs": [],
   "source": []
  }
 ],
 "metadata": {
  "kernelspec": {
   "display_name": "Kotlin",
   "language": "kotlin",
   "name": "kotlin"
  },
  "language_info": {
   "codemirror_mode": "text/x-kotlin",
   "file_extension": ".kt",
   "mimetype": "text/x-kotlin",
   "name": "kotlin",
   "nbconvert_exporter": "",
   "pygments_lexer": "kotlin",
   "version": "1.6.20-dev-6372"
  }
 },
 "nbformat": 4,
 "nbformat_minor": 5
}
