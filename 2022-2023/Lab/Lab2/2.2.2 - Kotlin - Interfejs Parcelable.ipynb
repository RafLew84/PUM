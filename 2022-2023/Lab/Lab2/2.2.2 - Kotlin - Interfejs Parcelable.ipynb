{
 "cells": [
  {
   "cell_type": "markdown",
   "id": "108492c8-bbde-43f6-b4eb-f2ee844fb1dd",
   "metadata": {},
   "source": [
    "# 2.2 Interfejs `Parcelable`"
   ]
  },
  {
   "cell_type": "markdown",
   "id": "00659535-e46e-49e6-8622-ef24328deafc",
   "metadata": {},
   "source": [
    "W tym przykładzie będziemy posiadać dwie aktywności, poprzez mechanizm `Intent` włączymy drugą aktywność oraz dzięki zaimplementowaniu interfejsu `Parcelable` przekażemy cały obiekt. Do `activity_main.xml` dodajemy jeden `Button` przez naciśnięcie którego otworzymy drugą aktywność."
   ]
  },
  {
   "cell_type": "markdown",
   "id": "3dce749e-7ff3-4169-8076-88ceac1cd3be",
   "metadata": {},
   "source": [
    "```xml\n",
    "<?xml version=\"1.0\" encoding=\"utf-8\"?>\n",
    "<androidx.constraintlayout.widget.ConstraintLayout xmlns:android=\"http://schemas.android.com/apk/res/android\"\n",
    "    xmlns:app=\"http://schemas.android.com/apk/res-auto\"\n",
    "    xmlns:tools=\"http://schemas.android.com/tools\"\n",
    "    android:layout_width=\"match_parent\"\n",
    "    android:layout_height=\"match_parent\"\n",
    "    tools:context=\".MainActivity\">\n",
    "\n",
    "    <Button\n",
    "        android:id=\"@+id/sendButton\"\n",
    "        android:layout_width=\"wrap_content\"\n",
    "        android:layout_height=\"wrap_content\"\n",
    "        android:layout_margin=\"16dp\"\n",
    "        android:text=\"SEND\"\n",
    "        app:layout_constraintStart_toStartOf=\"parent\"\n",
    "        app:layout_constraintTop_toTopOf=\"parent\" />\n",
    "\n",
    "</androidx.constraintlayout.widget.ConstraintLayout>\n",
    "```"
   ]
  },
  {
   "cell_type": "markdown",
   "id": "f9c715ee-e480-4e81-8c61-58ed7d4ad907",
   "metadata": {},
   "source": [
    "Następnie tworzymy drugą aktywność `SecondActivity.kt` i uzupełniamy jej layout w pliku `second_activity.xml`"
   ]
  },
  {
   "cell_type": "markdown",
   "id": "8eac4b27-1b07-40a8-9ed5-4beacb3f834f",
   "metadata": {},
   "source": [
    "```xml\n",
    "<?xml version=\"1.0\" encoding=\"utf-8\"?>\n",
    "<androidx.constraintlayout.widget.ConstraintLayout xmlns:android=\"http://schemas.android.com/apk/res/android\"\n",
    "    xmlns:app=\"http://schemas.android.com/apk/res-auto\"\n",
    "    xmlns:tools=\"http://schemas.android.com/tools\"\n",
    "    android:layout_width=\"match_parent\"\n",
    "    android:layout_height=\"match_parent\"\n",
    "    tools:context=\".SecondActivity\">\n",
    "\n",
    "    <TextView\n",
    "        android:id=\"@+id/textView\"\n",
    "        android:layout_width=\"match_parent\"\n",
    "        android:layout_height=\"wrap_content\"\n",
    "        android:textSize=\"24sp\"\n",
    "        app:layout_constraintBottom_toBottomOf=\"parent\"\n",
    "        app:layout_constraintStart_toStartOf=\"parent\"\n",
    "        app:layout_constraintTop_toTopOf=\"parent\" />\n",
    "\n",
    "</androidx.constraintlayout.widget.ConstraintLayout>\n",
    "```"
   ]
  },
  {
   "cell_type": "markdown",
   "id": "dff10afe-6b71-429c-a672-28313fd9c78c",
   "metadata": {},
   "source": [
    "Przejdźmy do manifestu i określmy hierarchię aktywności"
   ]
  },
  {
   "cell_type": "markdown",
   "id": "b04c946a-cd41-4ce8-a407-3c60fa5a8847",
   "metadata": {},
   "source": [
    "```xml\n",
    "        <activity\n",
    "            android:name=\".SecondActivity\"\n",
    "            android:parentActivityName=\".MainActivity\"\n",
    "            android:label=\"Second Activity\"\n",
    "            android:exported=\"false\" />\n",
    "```"
   ]
  },
  {
   "cell_type": "markdown",
   "id": "13ee0755-dc55-46f9-bad5-171d0111d29b",
   "metadata": {},
   "source": [
    "Następnie utwórzmy klasę której instancję przekażemy pomiędzy aktywnościami."
   ]
  },
  {
   "cell_type": "markdown",
   "id": "364f37c9-966d-4f79-8db8-4de0eb6d9b43",
   "metadata": {},
   "source": [
    "```kotlin\n",
    "class Properties(val a: Int, val b: Int, val c: String)\n",
    "```"
   ]
  },
  {
   "cell_type": "markdown",
   "id": "8673cb57-b14b-4c41-b398-ed811e8b767d",
   "metadata": {},
   "source": [
    "Aby być w stanie intancję takiej klasy przekazać do innej aktywności, musi ona implementować interfejs `Parcelable` (lub `Serializable` - więcej o różnicach poniżej)."
   ]
  },
  {
   "cell_type": "markdown",
   "id": "34179689-78ab-4c4d-8e4b-d58a394d4305",
   "metadata": {},
   "source": [
    "```kotlin\n",
    "package pl.edu.uwr.pum.parcelableexamplekotlin\n",
    "\n",
    "import android.os.Parcel\n",
    "import android.os.Parcelable\n",
    "\n",
    "class Properties(private val a: Int, private val b: Int, private val c: String?) : Parcelable {\n",
    "    constructor(parcel: Parcel) : this(\n",
    "        parcel.readInt(),\n",
    "        parcel.readInt(),\n",
    "        parcel.readString()\n",
    "    ) {\n",
    "    }\n",
    "\n",
    "    override fun writeToParcel(parcel: Parcel, flags: Int) {\n",
    "        parcel.writeInt(a)\n",
    "        parcel.writeInt(b)\n",
    "        parcel.writeString(c)\n",
    "    }\n",
    "\n",
    "    override fun describeContents(): Int {\n",
    "        return 0\n",
    "    }\n",
    "\n",
    "    companion object CREATOR : Parcelable.Creator<Properties> {\n",
    "        override fun createFromParcel(parcel: Parcel): Properties {\n",
    "            return Properties(parcel)\n",
    "        }\n",
    "\n",
    "        override fun newArray(size: Int): Array<Properties?> {\n",
    "            return arrayOfNulls(size)\n",
    "        }\n",
    "    }\n",
    "}\n",
    "```"
   ]
  },
  {
   "cell_type": "markdown",
   "id": "ffe1c57a-2315-45e9-b15a-3e552a069c79",
   "metadata": {},
   "source": [
    "Jakc widzimy musimy zaimplementować dwie metody, konstruktor oraz **companion object** `Creator`. Ponieważ obiekt towarzyszący jest sam w sobie jest obiektem więc nie ma żadnych ograniczeń - może rozszerzać klasy i implementować interfejsy. Jeżeli chcemy przekazać instancję klasy przez mechanizm `Intent` lub zachować w obiekcie `Bundle` w pierwszym kroku niejawnie zostanie wywołana metoda `writeToParcel`. Metoda ta opakowuje wszystkie właściwości klasy do obiektu `Parcel` wywołując metodę `write...` z odpowiednim typem. Przy odtwarzaniu instancji klasy `Properties` w pierwszym kroku wywoływana jest metoda `createFromParcel` znajdująca się w obiekcie towarzyszącym `Creator`. Metoda ta wywołuje drugorzędny konstruktor przyjmujący jako argument `Parcel`. Istotnym elementem tej implementacji jest konieczność zachowania kolejności przy przekazywaniu właściwości do i z `Parcel`. Przyjrzyjmy się konstruktorowi drugorzędnemu i metodzie `writeToParcel`."
   ]
  },
  {
   "cell_type": "markdown",
   "id": "0382804a-2d68-4018-9e2b-75fab95a8667",
   "metadata": {},
   "source": [
    "```kotlin\n",
    "    constructor(parcel: Parcel) : this(\n",
    "        parcel.readInt(),\n",
    "        parcel.readInt(),\n",
    "        parcel.readString()\n",
    "    ) {\n",
    "    }\n",
    "\n",
    "    override fun writeToParcel(parcel: Parcel, flags: Int) {\n",
    "        parcel.writeInt(a)\n",
    "        parcel.writeInt(b)\n",
    "        parcel.writeString(c)\n",
    "    }\n",
    "```"
   ]
  },
  {
   "cell_type": "markdown",
   "id": "82173dd4-ee59-492f-bdd6-7241222e4ebe",
   "metadata": {},
   "source": [
    "Pola `a`, `b` i `c` są zapisywane do `Parcel` i odczytywane w konstruktorze dokładnie w tej samej kolejności - jest to niezbędne do poprawnego działania - zweróćmy uwagę że nie posługujemy się tutaj żadnym kluczem, czy jakimś unikalnym identyfikartorem."
   ]
  },
  {
   "cell_type": "markdown",
   "id": "af8d1a0f-519d-48b7-922f-8d5621f79a6e",
   "metadata": {},
   "source": [
    "Ostatnią metodą jest `describeContent` - w interfejsie zdefiniowana jest stała `CONTENT_FILE_DESCRIPTION` która powinna zostać użyta w tej metodzie do zwrócenia maski bitowej - tutaj zwrócimy wynik wwywołania metody `hashCode`."
   ]
  },
  {
   "cell_type": "markdown",
   "id": "8df0a1ba-cbef-4084-bdba-690998f0d75f",
   "metadata": {},
   "source": [
    "```kotlin\n",
    "    override fun describeContents(): Int {\n",
    "        return hashCode()\n",
    "    }\n",
    "```"
   ]
  },
  {
   "cell_type": "markdown",
   "id": "b6c0ef9a-303f-4ee0-98d9-82eba4907f5b",
   "metadata": {},
   "source": [
    "Przejdźmy do implementacji metody `onClick` przycisku na głównej aktyności. Tym razem zrobimy to nieco inaczej, przechodzimy do pliku `MainActivity.kt`. Do metody `onCreate` dodajemy"
   ]
  },
  {
   "cell_type": "markdown",
   "id": "1d703698-05ec-40da-9e49-fd2df4554e40",
   "metadata": {},
   "source": [
    "```kotlin\n",
    "findViewById<Button>(R.id.sendButton).setOnClickListener(){\n",
    "            \n",
    "}\n",
    "```"
   ]
  },
  {
   "cell_type": "markdown",
   "id": "c274c493-4efa-44c5-969a-93f5400548b6",
   "metadata": {},
   "source": [
    "Ustawiamy `onClickListener` przycisku i jako argument przekazywany jest obiekt o typie  interfejsu `OnClickListener` znajdującego się w klasie `View` - implementujemy jako **lambdę**. Klasa `View` jest główną klasą wszystkich elementów interfejsu użytkownika - jest rozszerzana przez wszystkie klasy."
   ]
  },
  {
   "cell_type": "markdown",
   "id": "34178e6f-286c-4d78-9205-ff8ba4b316ec",
   "metadata": {},
   "source": [
    "Dodajmy implementację `onClick`"
   ]
  },
  {
   "cell_type": "markdown",
   "id": "9e958fb9-2c2f-45c7-b3ef-465973d8d64b",
   "metadata": {},
   "source": [
    "```kotlin\n",
    "findViewById<Button>(R.id.sendButton).setOnClickListener(){\n",
    "    val intent = Intent(this, SecondActivity::class.java)\n",
    "        .putExtra(EXTRA_KEY, Properties(1, 2, \"String\"))\n",
    "    startActivity(intent)\n",
    "}\n",
    "```"
   ]
  },
  {
   "cell_type": "markdown",
   "id": "ad8a7e0b-6562-486f-abc3-29add57f927c",
   "metadata": {},
   "source": [
    "Tworzymy klucz dla `Intent`, następnie tworzymy instancję `Properties` oraz sam `Intent`. Wskazujemy kontekst jako `this` oraz cel którym jest `SecoondActivity::class.java`. Następnie dodajemy za pomocą metody `putExtra` nasz obiekt `Properties` i wywołujemy `startActivity` w celu włączenia drugiej aktywności."
   ]
  },
  {
   "cell_type": "markdown",
   "id": "aab59a6d-099b-4699-b9ae-d99c7cb9d3ac",
   "metadata": {},
   "source": [
    "W następnym kroku odbierzemy dane w `SecondActivity` i rozpakujemy obiekt `Properties`. Przejdźmy do pliku `SecondActivity.kt`"
   ]
  },
  {
   "cell_type": "markdown",
   "id": "505e768b-3c7f-43be-9102-453cb2628903",
   "metadata": {},
   "source": [
    "```kotlin\n",
    "package pl.edu.uwr.pum.parcelableexamplekotlin\n",
    "\n",
    "import androidx.appcompat.app.AppCompatActivity\n",
    "import android.os.Bundle\n",
    "import android.widget.TextView\n",
    "\n",
    "class SecondActivity : AppCompatActivity() {\n",
    "    override fun onCreate(savedInstanceState: Bundle?) {\n",
    "        super.onCreate(savedInstanceState)\n",
    "        setContentView(R.layout.activity_second)\n",
    "        val prop = intent.getParcelableExtra<Properties>(EXTRA_KEY)\n",
    "        if (prop != null)\n",
    "            ((prop.a + prop.b).toString() + \" \" + prop.c)\n",
    "                .also { findViewById<TextView>(R.id.textView).text = it }\n",
    "    }\n",
    "}\n",
    "```"
   ]
  },
  {
   "cell_type": "markdown",
   "id": "3913d528-a249-45c8-b1b2-0e82213e359e",
   "metadata": {},
   "source": [
    "Tworzymy `Intent` i wywoołujemy metodę `getIntent`, następnie tworzymy obiekt typu `Properties` - tutaj niejawnie zoostanie wywołany konstruktor z argumentem typu `Parcel`. Wyciągamy obiekt za pomocą metody `getParcelableExtra` jako argument podając klucz. Do odpowiednich pól możemy dostać się poprzez odpowiednie **gettery**. Możemy przetestować aplikację."
   ]
  },
  {
   "cell_type": "markdown",
   "id": "986faca8-46cd-4725-b81b-9235ac91e72e",
   "metadata": {},
   "source": [
    "### Interfejs `Serializable`"
   ]
  },
  {
   "cell_type": "markdown",
   "id": "72f4de01-7e53-47d1-bee8-cde7ffd4999f",
   "metadata": {},
   "source": [
    "Dodajmy do projektu kolejną klasę `SerializableProperties`, która implementuje interfejs `Serializable` i powtórzmy wszystkie czynności."
   ]
  },
  {
   "cell_type": "markdown",
   "id": "0174a57b-17c6-4d34-b773-dd2b56a44d94",
   "metadata": {},
   "source": [
    "```kotlin\n",
    "import java.io.Serializable\n",
    "\n",
    "class SerializableProperties (val a: Int, b: Int, c: String): Serializable\n",
    "```"
   ]
  },
  {
   "cell_type": "markdown",
   "id": "8b717db3-6050-4c9d-8aac-bbe7b418f4e2",
   "metadata": {},
   "source": [
    "Interfejs `Serializable` jest **interfejsem znacznikowym** więc nie jest koonieczne implementowanie żadnych metod"
   ]
  },
  {
   "cell_type": "markdown",
   "id": "cad3c895-4c09-4a39-a198-0e978abdfe14",
   "metadata": {},
   "source": [
    "W klasie `MainActivity.kt` dodajmy jeszcze jedno pole\n",
    "\n",
    "```kotlin\n",
    "    const val EXTRA_SERIALIZABLE = \"serializable_example\"\n",
    "```\n",
    "Następnie utworzymy instancję klasy `SerializableProperties` i dodamy ją do wcześniej utworzonego `Intent`\n",
    "\n",
    "```kotlin\n",
    "findViewById<Button>(R.id.sendButton).setOnClickListener(){\n",
    "    val intent = Intent(this, SecondActivity::class.java)\n",
    "        .putExtra(EXTRA_KEY, Properties(1, 2, \"String\"))\n",
    "        .putExtra(EXTRA_SERIALIZABLE, SerializableProperties(11, 11, \"Serializable\"))\n",
    "    startActivity(intent)\n",
    "}\n",
    "```"
   ]
  },
  {
   "cell_type": "markdown",
   "id": "fdc03e04-6096-406a-8ea7-3895c9280fcb",
   "metadata": {},
   "source": [
    "Przejdźmy do `SecondActivity`, rozpakujmy nasz drugi obiekt i dodajmy jego pola do `TextView`."
   ]
  },
  {
   "cell_type": "markdown",
   "id": "186ae09d-9a6b-4d8a-85ee-27c62f1c1ecf",
   "metadata": {},
   "source": [
    "```kotlin\n",
    "class SecondActivity : AppCompatActivity() {\n",
    "    override fun onCreate(savedInstanceState: Bundle?) {\n",
    "        super.onCreate(savedInstanceState)\n",
    "        setContentView(R.layout.activity_second)\n",
    "        val prop = intent.getParcelableExtra<Properties>(EXTRA_KEY)\n",
    "        val serProp = intent.getSerializableExtra(EXTRA_SERIALIZABLE) as SerializableProperties\n",
    "        if (prop != null)\n",
    "            ((prop.a + prop.b).toString() + \" \" + prop.c + \"----\" +\n",
    "                    serProp.a + serProp.b + \" \" + serProp.c)\n",
    "                .also { findViewById<TextView>(R.id.textView).text = it }\n",
    "    }\n",
    "}\n",
    "```"
   ]
  },
  {
   "cell_type": "markdown",
   "id": "feb870ac-ee6d-4b4f-8b59-449128f48ce7",
   "metadata": {},
   "source": [
    "Zwróćmy uwagę że przy wywołaniu metody `getSerializableExtra` dostajjjemy obiekt o typie interfejsu `Serializable` i potrszebujemy obiekt typu `SerializableProperties`. Ponieważ nasza klasa implementuje ten interfejs, możemy bezpiecznie rzutować na `SerializableProperties`."
   ]
  },
  {
   "cell_type": "markdown",
   "id": "963b786a-5bd4-4cbe-acb3-535752b87413",
   "metadata": {},
   "source": [
    "Po uruchomieniu aplikacji powinniśmy dostać podobny wynik jak poprzednio. Widzimy że właściwie mogę zrobić dokładnie to samo przy pomocy dwóch interfejsów - `Parcelable` i `Serializable`; więc czym się różnią?\n",
    "- `Parcelable` jest szybszy od `Serializable`\n",
    "- `Serializable` jest interfejsem znacznikowym, więc implementacja jest szybsza\n",
    "- `Serializable` tworzy wiele tymczasowych obiektów - jest niewydajny\n",
    "- możemy przekazać całą tablicę obiektów za pomocą `Parcelable`\n",
    "- w kotlinie mamy do dyspozycji adnotację `@Parcelize` dzięki której dostajemy domyślną implementację wszystkich metod interfejsu `Parcelable`"
   ]
  },
  {
   "cell_type": "markdown",
   "id": "8c283b24-69a7-46e1-848c-ba538cb666fb",
   "metadata": {},
   "source": [
    "### Adnotacja `@Parcelize`"
   ]
  },
  {
   "cell_type": "markdown",
   "id": "28dcf982-a31b-4c82-8b99-573bdbd9baf8",
   "metadata": {},
   "source": [
    "Dodajmy kolejną klasę do projektu i jak poprzednio przekażmy jej intstancję jako `Extra` to drugiej aktywności. W pierwszym kroku musimy przejść do pliku `build.gradle(Module)` i dodać plugin"
   ]
  },
  {
   "cell_type": "markdown",
   "id": "c13158ff-03ad-4a6a-baca-27a5e926f6c1",
   "metadata": {},
   "source": [
    "```kotlin\n",
    "plugins {\n",
    "    id 'com.android.application'\n",
    "    id 'org.jetbrains.kotlin.android'\n",
    "    id 'kotlin-parcelize'\n",
    "}\n",
    "```"
   ]
  },
  {
   "cell_type": "markdown",
   "id": "7dd012ff-cc76-43f3-8088-d8a09e01d33f",
   "metadata": {},
   "source": [
    "Następnie możemy wykorzystać adnotację `@Parcelize`"
   ]
  },
  {
   "cell_type": "markdown",
   "id": "c27c67d7-7cbc-4dfe-a9c7-065f4544b935",
   "metadata": {},
   "source": [
    "```kotlin\n",
    "import android.os.Parcelable\n",
    "import kotlinx.parcelize.Parcelize\n",
    "\n",
    "@Parcelize\n",
    "class ParcelizeProperties (val a: Int, val b: Int, val c: String) : Parcelable\n",
    "```"
   ]
  },
  {
   "cell_type": "markdown",
   "id": "bc5b0f53-31bf-416a-be11-2369cdc94e6c",
   "metadata": {},
   "source": [
    "Dokonujemy modyfikacji w pliku `MainActivity.kt`\n",
    "\n",
    "```kotlin\n",
    "findViewById<Button>(R.id.sendButton).setOnClickListener(){\n",
    "    val intent = Intent(this, SecondActivity::class.java)\n",
    "        .putExtra(EXTRA_KEY, Properties(1, 2, \"String\"))\n",
    "        .putExtra(EXTRA_SERIALIZABLE, SerializableProperties(11, 11, \"Serializable\"))\n",
    "        .putExtra(EXTRA_PARCELIZE, ParcelizeProperties(0, 0, \"Parcelize\"))\n",
    "    startActivity(intent)\n",
    "}\n",
    "```\n",
    "\n",
    "Oraz pliku `SecondActivity.kt`\n",
    "\n",
    "```kotlin\n",
    "    override fun onCreate(savedInstanceState: Bundle?) {\n",
    "        super.onCreate(savedInstanceState)\n",
    "        setContentView(R.layout.activity_second)\n",
    "        \n",
    "        val prop = intent.getParcelableExtra<Properties>(EXTRA_KEY)\n",
    "        val serProp = intent.getSerializableExtra(EXTRA_SERIALIZABLE) as SerializableProperties\n",
    "        val parProp = intent.getParcelableExtra<ParcelizeProperties>(EXTRA_PARCELIZE)\n",
    "        \n",
    "        if (prop != null && parProp != null)\n",
    "            ((prop.a + prop.b).toString() + \" \" + prop.c + \"----\" +\n",
    "                    serProp.a + serProp.b + \" \" + serProp.c + \"----\\n\" +\n",
    "                    ( parProp.a + parProp.b).toString() + \" \" + parProp.c)\n",
    "                .also { findViewById<TextView>(R.id.textView).text = it }\n",
    "    }\n",
    "```"
   ]
  },
  {
   "cell_type": "markdown",
   "id": "488755cb-37c9-41de-aabe-99370d6979b4",
   "metadata": {},
   "source": [
    "Teraz możemy przetestowac aplikację. Widzimy że mamy możliwość automatycznej implementacji wszystkich niezbędnych elementów interfejsu `Parcelable`. Warunkiem jest posiadanie wszystkich pól w **konstruktorze głównym**."
   ]
  },
  {
   "cell_type": "code",
   "execution_count": null,
   "id": "74d3426b-d795-4daf-81c9-b55910e17713",
   "metadata": {},
   "outputs": [],
   "source": []
  }
 ],
 "metadata": {
  "kernelspec": {
   "display_name": "Kotlin",
   "language": "kotlin",
   "name": "kotlin"
  },
  "language_info": {
   "codemirror_mode": "text/x-kotlin",
   "file_extension": ".kt",
   "mimetype": "text/x-kotlin",
   "name": "kotlin",
   "nbconvert_exporter": "",
   "pygments_lexer": "kotlin",
   "version": "1.6.20-dev-6372"
  }
 },
 "nbformat": 4,
 "nbformat_minor": 5
}
