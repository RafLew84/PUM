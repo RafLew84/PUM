{
 "cells": [
  {
   "cell_type": "markdown",
   "id": "5b0fe7ca-472c-44a4-9449-52338f916a06",
   "metadata": {},
   "source": [
    "# 2.1 Explicit Intent"
   ]
  },
  {
   "cell_type": "markdown",
   "id": "1074a4ed-d353-4fd2-af90-4d9b576b3677",
   "metadata": {},
   "source": [
    "W tym przykładzie przyjrzymy się mechanizmowi intentów, rozpoczniemy od intentów jawnych. Stworzymy aplikację z dwiema aktywnościami i umożliwimy otworzenie drugiej aktywności z poziomu pierwszej (głównej). "
   ]
  },
  {
   "cell_type": "markdown",
   "id": "90707a44-01a0-4237-9681-9f190ed222af",
   "metadata": {},
   "source": [
    "Przedźmy do aktywności głównej i dodajmy przycisk do layoutu."
   ]
  },
  {
   "cell_type": "markdown",
   "id": "d998b016-2b7f-405a-817b-31f6598bc0b7",
   "metadata": {},
   "source": [
    "### Layout i utworzenie drugiej aktywności"
   ]
  },
  {
   "cell_type": "markdown",
   "id": "c4953456-397f-4e32-9f12-96c8f0ef7842",
   "metadata": {},
   "source": [
    "```xml\n",
    "<?xml version=\"1.0\" encoding=\"utf-8\"?>\n",
    "<androidx.constraintlayout.widget.ConstraintLayout xmlns:android=\"http://schemas.android.com/apk/res/android\"\n",
    "    xmlns:app=\"http://schemas.android.com/apk/res-auto\"\n",
    "    xmlns:tools=\"http://schemas.android.com/tools\"\n",
    "    android:layout_width=\"match_parent\"\n",
    "    android:layout_height=\"match_parent\"\n",
    "    tools:context=\".MainActivity\">\n",
    "\n",
    "    <Button\n",
    "        android:id=\"@+id/button\"\n",
    "        android:layout_width=\"wrap_content\"\n",
    "        android:layout_height=\"wrap_content\"\n",
    "        android:text=\"Button\"\n",
    "        android:layout_margin=\"16dp\"\n",
    "        app:layout_constraintBottom_toBottomOf=\"parent\"\n",
    "        app:layout_constraintEnd_toEndOf=\"parent\"\n",
    "        android:onClick=\"startSecondActivity\"/>\n",
    "</androidx.constraintlayout.widget.ConstraintLayout>\n",
    "```"
   ]
  },
  {
   "cell_type": "markdown",
   "id": "2ec39d7a-2a2f-44e2-8b2c-a281404de7d6",
   "metadata": {},
   "source": [
    "Po naciśnięciu tego przycisku możliwe będzie przejście do drugiej aktywności."
   ]
  },
  {
   "cell_type": "markdown",
   "id": "ecab78c6-a6f7-4768-b68a-f70bc1901ea5",
   "metadata": {},
   "source": [
    "Następnie dodajmy drugą aktywność do projektu. W oknie **Project** wybieram z menu kontekstowego **New -> Activity -> Empty Activity**. Zaznaczam **Generate layout file** i odznaczam **Launcher Activity**. Przejdźmy do pliku `AndroidManifest.xml`"
   ]
  },
  {
   "cell_type": "markdown",
   "id": "11befd07-1aed-4d16-bc09-a183dd02c51d",
   "metadata": {},
   "source": [
    "Mamy opisane dwie aktywności. Chcemy teraz wskazać rodzica dla **SecondActivity** . Do tagu `<activity />` dodaję opcję `android:parentActivityName=\".MainActivity\"` oraz `android:label=\"Second Activity\"`."
   ]
  },
  {
   "cell_type": "markdown",
   "id": "621bdd68-e73a-4ed9-8d0a-f04fae8ed808",
   "metadata": {},
   "source": [
    "```xml\n",
    "<activity\n",
    "    android:name=\".SecondActivity\"\n",
    "    android:parentActivityName=\".MainActivity\"\n",
    "    android:label=\"Second Activity\"\n",
    "    android:exported=\"false\" />\n",
    "```"
   ]
  },
  {
   "cell_type": "markdown",
   "id": "84b5e18c-4975-4490-94b7-e9c1e6fd9c0a",
   "metadata": {},
   "source": [
    "Czyli wskazaliśmy ze aktywnością nadrzędną jest **MainActivity**. Zwróćmy również uwagę na kropkę przed nazwą aktywności głównej - pominięta została nazwa pakietu (`pl.edu.uwr.pum.explicitintentjava.MainActivity`). `label` posłuży jako wyświetlana nazwa aktywności."
   ]
  },
  {
   "cell_type": "markdown",
   "id": "2cbd1457-9e48-469a-9083-4f193a1f51ea",
   "metadata": {},
   "source": [
    "Teraz utworzymy prosty layout dla drugiej aktywności - przechodzimy do pliku `activity_second.xml` i dodajemy pole `TextView`."
   ]
  },
  {
   "cell_type": "markdown",
   "id": "f953c373-3c50-4dc8-b286-0c8d1cee5af3",
   "metadata": {},
   "source": [
    "```xml\n",
    "<?xml version=\"1.0\" encoding=\"utf-8\"?>\n",
    "<androidx.constraintlayout.widget.ConstraintLayout xmlns:android=\"http://schemas.android.com/apk/res/android\"\n",
    "    xmlns:app=\"http://schemas.android.com/apk/res-auto\"\n",
    "    xmlns:tools=\"http://schemas.android.com/tools\"\n",
    "    android:layout_width=\"match_parent\"\n",
    "    android:layout_height=\"match_parent\"\n",
    "    tools:context=\".SecondActivity\">\n",
    "\n",
    "    <TextView\n",
    "        android:id=\"@+id/textView\"\n",
    "        android:layout_width=\"wrap_content\"\n",
    "        android:layout_height=\"wrap_content\"\n",
    "        android:text=\"Second Activity\"\n",
    "        android:textSize=\"40sp\"\n",
    "        android:textStyle=\"bold\"\n",
    "        android:textColor=\"@color/black\"\n",
    "        app:layout_constraintBottom_toBottomOf=\"parent\"\n",
    "        app:layout_constraintEnd_toEndOf=\"parent\"\n",
    "        app:layout_constraintStart_toStartOf=\"parent\"\n",
    "        app:layout_constraintTop_toTopOf=\"parent\" />\n",
    "</androidx.constraintlayout.widget.ConstraintLayout>\n",
    "```"
   ]
  },
  {
   "cell_type": "markdown",
   "id": "be642058-c265-4a02-ab18-19bf82c77fa8",
   "metadata": {},
   "source": [
    "### Utworzenie `Intent` i przejście do drugiej aktywności"
   ]
  },
  {
   "cell_type": "markdown",
   "id": "06ce2c98-1af9-4ec4-94f6-f3c8faec018d",
   "metadata": {},
   "source": [
    "Dodajmy teraz obsługę przycisku w naszej głównej aktywności, przyjdźmy do pliku `MainActivity.java`. Po wciśnięciu przycisku chcemy przejść do drugiej aktywności."
   ]
  },
  {
   "cell_type": "code",
   "execution_count": null,
   "id": "962ab27c-b968-469e-a54a-24736a6064e3",
   "metadata": {},
   "outputs": [],
   "source": [
    "public void startSecondActivity(View view) {\n",
    "        \n",
    "}"
   ]
  },
  {
   "cell_type": "markdown",
   "id": "a09c5ac1-a783-4c98-aa84-46dee11c5713",
   "metadata": {},
   "source": [
    "W pierwszym kroku musimy utworzyć **intent**."
   ]
  },
  {
   "cell_type": "code",
   "execution_count": null,
   "id": "343f6548-eb8c-438c-89e0-9794b0bff41f",
   "metadata": {},
   "outputs": [],
   "source": [
    "Intent intent = new Intent(this, SecondActivity.class);"
   ]
  },
  {
   "cell_type": "markdown",
   "id": "b83d4de4-89b6-4f6a-a316-c72244cde1f9",
   "metadata": {},
   "source": [
    "Konstruktor klasy `Intent` przyjmuje dwa argumenty. Pierwszym jest **context**, ponieważ aktywność jest swoim własnym kontekstem używamy słowa kluczowego `this`. Drugim argumentem jest klasa aktywności którą chcemy włączyć - tutaj będzie to `SecondActivity.class`."
   ]
  },
  {
   "cell_type": "markdown",
   "id": "94ee3658-8a04-4ef6-8eb6-908f81714152",
   "metadata": {},
   "source": [
    "Aby włączyć aktywność wykonujemy metodę `startActivity`, jako argumentb podajemy poprzednio utworzony `Intent`."
   ]
  },
  {
   "cell_type": "code",
   "execution_count": null,
   "id": "9f47c087-82fc-4632-8e60-db0db1e5ba68",
   "metadata": {},
   "outputs": [],
   "source": [
    "startActivity(intent);"
   ]
  },
  {
   "cell_type": "markdown",
   "id": "ce1f50c9-c8e9-49cb-8062-6dc80d3fcd7b",
   "metadata": {},
   "source": [
    "Na tym etapie możemy zbudować nasz projekt i przetestować funkcjonalność przycisku. Po przejściu do drugiej aktywności zwróćmy uwagę na przycisk powrotu znajdujący się na belce po lewej stronie."
   ]
  },
  {
   "cell_type": "markdown",
   "id": "db81fc2d-2122-4b54-b708-ee743ad6e56a",
   "metadata": {},
   "source": [
    "<img src=\"https://fv9-4.failiem.lv/thumb_show.php?i=vset6gbuc&view\" width=\"200\"/>"
   ]
  },
  {
   "cell_type": "markdown",
   "id": "589b80f3-6598-44ab-9f6d-53c4050dc749",
   "metadata": {},
   "source": [
    "Nawigację do aktywności nadrzędnej mamy dodaną automatyvcznie dzięki dodaniu do manifestu linii `android:parentActivityName=\".MainActivity\"`"
   ]
  },
  {
   "cell_type": "markdown",
   "id": "c0c5351f-68aa-4461-964e-575d500431bc",
   "metadata": {},
   "source": [
    "## **Przekazanie danych do drugiej aktywności**"
   ]
  },
  {
   "cell_type": "markdown",
   "id": "89ec1908-e0f1-4010-a7ca-88f505e48318",
   "metadata": {},
   "source": [
    "Kolejnym krokiem będzie przekazanie danych i ich odbiór w drugiej aktywności - tutaj przekażemy tekst z pola `EditText`. Do layoutu głównej aktywności dodajmy odpowiednie pole."
   ]
  },
  {
   "cell_type": "markdown",
   "id": "8f043bea-010e-4f11-b2cd-5228b78d2350",
   "metadata": {},
   "source": [
    "```xml\n",
    "    <EditText\n",
    "        android:id=\"@+id/editTextMain\"\n",
    "        android:layout_width=\"0dp\"\n",
    "        android:layout_height=\"wrap_content\"\n",
    "        android:layout_margin=\"16dp\"\n",
    "        android:hint=\"message\"\n",
    "        android:textStyle=\"bold\"\n",
    "        android:textSize=\"24sp\"\n",
    "        app:layout_constraintBottom_toBottomOf=\"parent\"\n",
    "        app:layout_constraintEnd_toStartOf=\"@+id/button\"\n",
    "        app:layout_constraintStart_toStartOf=\"parent\" />\n",
    "```"
   ]
  },
  {
   "cell_type": "markdown",
   "id": "ba285ce7-f68e-465b-bf04-ee4bcee867bb",
   "metadata": {},
   "source": [
    "Pierwszą rzeczą jakiej będziemy potrzebować jest to **klucz** naszej wiadomości. Przejdźmy do klasy głównej aktyności `MainActivity.java` i dodajmy odpowiednie pole. Standardowo klucze przechowuje się w finalnych polach statycznych klasy wysyłającej."
   ]
  },
  {
   "cell_type": "code",
   "execution_count": null,
   "id": "2721d368-ce48-4726-857f-b6a5f6147668",
   "metadata": {},
   "outputs": [],
   "source": [
    "public static final String EXTRA_MESSAGE = \"pl.edu.uwr.pum.explicitintentjava.MESSAGE\";"
   ]
  },
  {
   "cell_type": "markdown",
   "id": "41b6ce85-7285-461e-a628-a5a0a2d3833f",
   "metadata": {},
   "source": [
    "Standardowo nazwę stałej przechowującej klucz piszemy wielkimi literami, sam `String` zawierający klucz składa się z pakietu w której znajduje się aktywność wysyłająca i nazwy."
   ]
  },
  {
   "cell_type": "markdown",
   "id": "d5e0f3b8-fc98-440b-9917-3ec0baf25c4f",
   "metadata": {},
   "source": [
    "Dalej utwórzmy pole reprezentujące `EditText` i połączmy z elementem layoutu o odpowiednim `id`."
   ]
  },
  {
   "cell_type": "code",
   "execution_count": null,
   "id": "5777d9ea-5098-4a24-be04-172b09f0c597",
   "metadata": {},
   "outputs": [],
   "source": [
    "private EditText editText;\n",
    "\n",
    "@Override\n",
    "protected void onCreate(Bundle savedInstanceState) {\n",
    "    super.onCreate(savedInstanceState);\n",
    "    setContentView(R.layout.activity_main);\n",
    "        \n",
    "    editText = findViewById(R.id.editTextMain);\n",
    "}"
   ]
  },
  {
   "cell_type": "markdown",
   "id": "643998f6-3374-485c-a62f-6cfc24af06b4",
   "metadata": {},
   "source": [
    "Ostatnim krokiem będzie spakowanie danych i przesłanie ich do drugiej aktywności. Przechodzimy do metody `startSecondActivity` (czyli metody `onClick` naszego przycisku) i uzupełniamy implementację."
   ]
  },
  {
   "cell_type": "markdown",
   "id": "1cab0ae2-93ea-4e04-8086-c5ec2f0a8518",
   "metadata": {},
   "source": [
    "W pierwszym kroku wyciągamy tekst z pola `EditText`"
   ]
  },
  {
   "cell_type": "code",
   "execution_count": null,
   "id": "a469dc34-bdf5-4f48-8c15-62286967dc57",
   "metadata": {},
   "outputs": [],
   "source": [
    "String message = editText.getText().toString();"
   ]
  },
  {
   "cell_type": "markdown",
   "id": "cd5964c9-50eb-40c3-8fbc-1f3353977eec",
   "metadata": {},
   "source": [
    "Następnie dodajemy do intentu nasze dane - czyli `String` wyciągnięty z `EditText`. W tym celu na naszym obiekcie `Intent` wywołujemy metodę `putExtra`, która dodaje dane do obiektu `Intent` i przekazuje je do aktywności odbierającej."
   ]
  },
  {
   "cell_type": "code",
   "execution_count": null,
   "id": "afafb585-8935-4437-bd90-8efa52b163de",
   "metadata": {},
   "outputs": [],
   "source": [
    "intent.putExtra(EXTRA_MESSAGE, message);"
   ]
  },
  {
   "cell_type": "markdown",
   "id": "765a181e-e8a8-4c5e-aed6-759090318221",
   "metadata": {},
   "source": [
    "Metoda przyjmuje dwa argumenty. Pierwszym jest nasz unikalny klucz, który mamy zapisany w stałej `EXTRA_MESSAGE`, drugim jest `String` który chcemy przekazać."
   ]
  },
  {
   "cell_type": "code",
   "execution_count": null,
   "id": "f80b5f6a-29fe-43c0-8995-e5333aa6703d",
   "metadata": {},
   "outputs": [],
   "source": [
    "public void startSecondActivity(View view) {\n",
    "    String message = editText.getText().toString();\n",
    "    Intent intent = new Intent(this, SecondActivity.class);\n",
    "    intent.putExtra(EXTRA_MESSAGE, message);\n",
    "    startActivity(intent);\n",
    "}"
   ]
  },
  {
   "cell_type": "markdown",
   "id": "9d612160-5a3f-42b3-8c88-b72c8e1aa22b",
   "metadata": {},
   "source": [
    "## **Odebranie danych z poziomu drugiej aktywności**"
   ]
  },
  {
   "cell_type": "markdown",
   "id": "c1862e52-6e12-45ac-b6a0-2802db622dc3",
   "metadata": {},
   "source": [
    "Kolejnym krokiem będzie odebranie danych z poziomu drugiej aktywności - odebrany `String` przekażemy do pola `TextView`. Przechodzimy do pliku `SecondActivity.java` i w metodzie `onCreate` tworzymy `Intent` i wywołujemy metodę `getIntent` - dzięki tej metodzie przesłany `Intent` z aktywności głównej zostanie odebrany."
   ]
  },
  {
   "cell_type": "code",
   "execution_count": null,
   "id": "032cc0df-e2e7-46a1-8fb6-fe53d7a6cdb8",
   "metadata": {},
   "outputs": [],
   "source": [
    "Intent intent = getIntent();"
   ]
  },
  {
   "cell_type": "markdown",
   "id": "ae84c337-3897-433c-b701-08fcb3e37d27",
   "metadata": {},
   "source": [
    "Następnie odbieramy przesłane dane za pomocą metody `getStringExtra` wywołanej na odebranej instancji klasy `Intent`."
   ]
  },
  {
   "cell_type": "code",
   "execution_count": null,
   "id": "55666fde-366e-4777-90d3-18a71727ee5d",
   "metadata": {},
   "outputs": [],
   "source": [
    "String message = intent.getStringExtra(MainActivity.EXTRA_MESSAGE);"
   ]
  },
  {
   "cell_type": "markdown",
   "id": "a7f56aa4-3b3d-4b35-9463-00b27b1b196a",
   "metadata": {},
   "source": [
    "Metoda jako argument przyjmuje unikalny klucz, który mamy zapisany w stałej statycznej klasy `MainActivity`. W ostatnim kroku chcemy odebrany `String` przekazać do pola `TextView`."
   ]
  },
  {
   "cell_type": "code",
   "execution_count": null,
   "id": "b751c2a4-ef06-483a-aafe-280bac060812",
   "metadata": {},
   "outputs": [],
   "source": [
    "package pl.edu.uwr.pum.explicitintentjava;\n",
    "\n",
    "import androidx.appcompat.app.AppCompatActivity;\n",
    "\n",
    "import android.content.Intent;\n",
    "import android.os.Bundle;\n",
    "import android.widget.TextView;\n",
    "\n",
    "public class SecondActivity extends AppCompatActivity {\n",
    "\n",
    "    @Override\n",
    "    protected void onCreate(Bundle savedInstanceState) {\n",
    "        super.onCreate(savedInstanceState);\n",
    "        setContentView(R.layout.activity_second);\n",
    "\n",
    "        Intent intent = getIntent();\n",
    "        String message = intent.getStringExtra(MainActivity.EXTRA_MESSAGE);\n",
    "        TextView textView = findViewById(R.id.textView);\n",
    "        textView.setText(message);\n",
    "    }\n",
    "}"
   ]
  },
  {
   "cell_type": "markdown",
   "id": "c5d95525-828d-41f9-b712-7c934963cb83",
   "metadata": {},
   "source": [
    "Na tym etapie możemy przetestować funkcjonalność aplikacji."
   ]
  },
  {
   "cell_type": "markdown",
   "id": "81aec8d7-660f-4671-ad31-36f52bd0f46e",
   "metadata": {},
   "source": [
    "## **Przekazanie odpowiedzi do aktywności głównej**"
   ]
  },
  {
   "cell_type": "markdown",
   "id": "bf579486-5b77-4e0c-94ce-9240745532ff",
   "metadata": {},
   "source": [
    "Kontynuujemy aplikację, kolejnym krokiem będzie zarządanie odpowiedzi z drugiej zktywności. Rozpocznijmy od zmodyfikowania layoutu drugiej aktywności - dodajmy pole `EditText` w którym wpiszemy naszą odpowiedź oraz `Button` w celu powrotu i zainicjowania powrotnego przesłania danych."
   ]
  },
  {
   "cell_type": "markdown",
   "id": "278aaaa2-d7a6-46bc-b105-8230626bd21f",
   "metadata": {},
   "source": [
    "```xml\n",
    "    <EditText\n",
    "        android:id=\"@+id/editTextSecond\"\n",
    "        android:layout_width=\"0dp\"\n",
    "        android:layout_height=\"wrap_content\"\n",
    "        android:layout_margin=\"16dp\"\n",
    "        android:hint=\"Back message\"\n",
    "        android:textStyle=\"bold\"\n",
    "        android:textSize=\"24sp\"\n",
    "        app:layout_constraintBottom_toBottomOf=\"parent\"\n",
    "        app:layout_constraintEnd_toStartOf=\"@+id/button\"\n",
    "        app:layout_constraintStart_toStartOf=\"parent\" />\n",
    "\n",
    "    <Button\n",
    "        android:id=\"@+id/returnButton\"\n",
    "        android:layout_width=\"wrap_content\"\n",
    "        android:layout_height=\"wrap_content\"\n",
    "        android:text=\"Return\"\n",
    "        android:layout_margin=\"16dp\"\n",
    "        app:layout_constraintBottom_toBottomOf=\"parent\"\n",
    "        app:layout_constraintEnd_toEndOf=\"parent\"\n",
    "        android:onClick=\"returnMessage\"/>\n",
    "```"
   ]
  },
  {
   "cell_type": "markdown",
   "id": "bcb6a71a-2194-4ff8-bffa-5043e5b5d503",
   "metadata": {},
   "source": [
    "Przejdźmy do klasy `SecondActivity.java` i dodajmy pole statyczne przechowujące unikalny klucz naszej odpowiedzi."
   ]
  },
  {
   "cell_type": "code",
   "execution_count": null,
   "id": "3cb19fcc-ca09-45e0-a8d0-ea954764111e",
   "metadata": {},
   "outputs": [],
   "source": [
    "public static final String EXTRA_REPLY = \"pl.edu.uwr.pum.explicitintentjava.REPLY\";"
   ]
  },
  {
   "cell_type": "markdown",
   "id": "90110ef1-f964-4183-9da1-47fddf678b37",
   "metadata": {},
   "source": [
    "Następnie dodajmy pole `EditText` do klasy."
   ]
  },
  {
   "cell_type": "code",
   "execution_count": null,
   "id": "6a5fbb81-0399-47da-946a-6f18df5c03f6",
   "metadata": {},
   "outputs": [],
   "source": [
    "private EditText editText;\n",
    "\n",
    "@Override\n",
    "protected void onCreate(Bundle savedInstanceState) {\n",
    "    super.onCreate(savedInstanceState);\n",
    "    setContentView(R.layout.activity_second);\n",
    "        \n",
    "    editText = findViewById(R.id.editTextSecond);\n",
    "    ...\n",
    "}"
   ]
  },
  {
   "cell_type": "markdown",
   "id": "8aef6ca9-148d-49f4-afc7-2c986b898e9a",
   "metadata": {},
   "source": [
    "Następnie dodajmy metodę `onClick` przycisku **return**."
   ]
  },
  {
   "cell_type": "code",
   "execution_count": null,
   "id": "51d167eb-0698-4102-a70f-0cf26ad7617c",
   "metadata": {},
   "outputs": [],
   "source": [
    "public void returnMessage(View view) {\n",
    "    String reply = editText.getText().toString();\n",
    "    Intent intent = new Intent();\n",
    "        \n",
    "    intent.putExtra(EXTRA_REPLY, reply);\n",
    "    setResult(RESULT_OK, intent);\n",
    "    finish();\n",
    "}"
   ]
  },
  {
   "cell_type": "markdown",
   "id": "f6ca4410-da0c-4401-aa68-e8cf510cd06c",
   "metadata": {},
   "source": [
    "Podobnie jak przy wysyłaniu wiadomości z głównej aktywności tworzymy `String` i wrzucamy do niego tekst odczytany z pola `EditText`. Następnie tworzymy `Intent` i wykorzystujemy metodę `putExtra` do dołączenia danych. Wywołujemy metodę `setResult` która przyjjmuje dwa argumenty. Pierwwzym jest kod - tutaj wykorzystamy kod `RESULT_OK`, czyli nie przewidujemy żadnych problemów z odczytaniem, jako drugi argument podajemy nasz `Intent`.\n",
    "\n",
    "W metodzie możemy podać różne kody, które są predefiniowane w klasie `Activity` - `RESULT_OK`, `RESULT_CANCELED` i `RESULT_FIRST_USER`. Pierwszy dotyczy przypadku w których wszystko poszło po naszej myśli i możemy przekazać dane powrotne. Dzięki `RESULT_CANCELED` możemy sprecyzować co nasza aktywność główna ma zrobić gdy nie uda się wysłać danych z drugiej aktywności. Trzeci przypadek istnieje aby uniknąć konfliktów - pozwala developerowi na wykorzystanie własnego (nie predefiniowanego) kodu.\n",
    "\n",
    "Na koniec wywołujemy metodę `finish` która kończyb działanie `SecondActivity`."
   ]
  },
  {
   "cell_type": "markdown",
   "id": "f7e451c3-404b-40c9-96c6-716bc5667b27",
   "metadata": {},
   "source": [
    "Następnie do layoutu `MainActivity` dodajmy pole `TextView` w którym wyświetlimy odebraną wiadomość."
   ]
  },
  {
   "cell_type": "markdown",
   "id": "2beb039e-9988-4f3e-bd71-5e0839f8d4cd",
   "metadata": {},
   "source": [
    "```xml\n",
    "    <TextView\n",
    "        android:id=\"@+id/textViewMain\"\n",
    "        android:layout_width=\"wrap_content\"\n",
    "        android:layout_height=\"wrap_content\"\n",
    "        android:text=\"Main Activity\"\n",
    "        android:textSize=\"40sp\"\n",
    "        android:textStyle=\"bold\"\n",
    "        android:textColor=\"@color/black\"\n",
    "        app:layout_constraintBottom_toBottomOf=\"parent\"\n",
    "        app:layout_constraintEnd_toEndOf=\"parent\"\n",
    "        app:layout_constraintStart_toStartOf=\"parent\"\n",
    "        app:layout_constraintTop_toTopOf=\"parent\" />\n",
    "```"
   ]
  },
  {
   "cell_type": "markdown",
   "id": "b22c6246-04c9-4f88-9040-93f9efab14d4",
   "metadata": {},
   "source": [
    "I stwórzmy odpowiednie pole w klasie `MainActivity.java`."
   ]
  },
  {
   "cell_type": "code",
   "execution_count": null,
   "id": "8b4a4703-d03b-4d9b-9df4-1befbad148cd",
   "metadata": {},
   "outputs": [],
   "source": [
    "private EditText editText;\n",
    "private TextView textView;\n",
    "\n",
    "@Override\n",
    "protected void onCreate(Bundle savedInstanceState) {\n",
    "    super.onCreate(savedInstanceState);\n",
    "    setContentView(R.layout.activity_main);\n",
    "\n",
    "    editText = findViewById(R.id.editTextMain);\n",
    "    textView = findViewById(R.id.textViewMain);\n",
    "}"
   ]
  },
  {
   "cell_type": "markdown",
   "id": "9e4d851d-d567-49b0-9201-c6db2b675084",
   "metadata": {},
   "source": [
    "Ostatnim krokiem będzie modyfikacja klasy `MainActivity.java` w celu wysłania żądania i odebrania danych powrotnych."
   ]
  },
  {
   "cell_type": "markdown",
   "id": "f79921cb-c022-4a50-8185-30c5018328e1",
   "metadata": {},
   "source": [
    "W pierwszym kroku w metodzie `onClick` chcemy poozbyć się wywołania `startActivity`. Teraz nie chcemy w prosty sposób włączać innej aktywności, tylko wysłać do niej żądanie przekazania danych."
   ]
  },
  {
   "cell_type": "code",
   "execution_count": null,
   "id": "1a0059f0-46ff-4027-84d2-8671d3f628f1",
   "metadata": {},
   "outputs": [],
   "source": [
    "public void startSecondActivity(View view) {\n",
    "    String message = editText.getText().toString();\n",
    "    Intent intent = new Intent(this, SecondActivity.class);\n",
    "    intent.putExtra(EXTRA_MESSAGE, message);\n",
    "    //startActivity(intent); // <- usuwamy\n",
    "}"
   ]
  },
  {
   "cell_type": "markdown",
   "id": "807f4845-7892-4299-ae82-d9c29846c113",
   "metadata": {},
   "source": [
    "Musimy napisać launcher naszej drugiej aktywności."
   ]
  },
  {
   "cell_type": "code",
   "execution_count": null,
   "id": "d2c4eaa4-423b-454d-8ee3-48be40e21970",
   "metadata": {},
   "outputs": [],
   "source": [
    "ActivityResultLauncher<Intent> secondActivityResultLauncher = registerForActivityResult(\n",
    "        new ActivityResultContracts.StartActivityForResult(),\n",
    "        new ActivityResultCallback<ActivityResult>() {\n",
    "            @Override\n",
    "            public void onActivityResult(ActivityResult result) {\n",
    "                    \n",
    "            }\n",
    "        }\n",
    ");\n"
   ]
  },
  {
   "cell_type": "markdown",
   "id": "37606bdc-88bb-4bde-bc48-257c2146ce86",
   "metadata": {},
   "source": [
    "Tworzymy nowy `ActivityResultLauncher`, będziemy przekazywać `Intent` więc podajemy w sygnaturze `<Intent>` i wywołujęmy `registerForActivityResult` który przyjmuje dwa argumenty. \n",
    "\n",
    "Rejestrujemy prośbę o rozpoczęcie innej aktywności. Powoduje to utworzenie wpisu w rejestrze powiązanym z drugą aktywnością, zarządzającym kodem żądania a także konwersjami do/z `Intent`. Jako pierwszy parametr podajemy `Contract`, nas interesuje metoda `StartActivityForResult`, poprzednio włączaliśmy drugą aktywność metodą `startActivity` - teraz żądamy odpowiedzi więc konieczne jest wykorzystanie innej meetody. Drugim argumentem jest `Callback` czyli tutaj jest to dostarczenie implementacji metody `onActivityResult` - tutaj określamy co robimy z danymi które dostajemy powrotnie z aktywności `SecondActivity`. Dla uproszczenia można to wywołanie zastąpić wyrażeniem **lambda**."
   ]
  },
  {
   "cell_type": "code",
   "execution_count": null,
   "id": "7d328423-7b0b-42b9-a59a-515bf6d5041f",
   "metadata": {},
   "outputs": [],
   "source": [
    "ActivityResultLauncher<Intent> secondActivityResultLauncher = registerForActivityResult(\n",
    "        new ActivityResultContracts.StartActivityForResult(),\n",
    "        result -> {\n",
    "\n",
    "        }\n",
    ");"
   ]
  },
  {
   "cell_type": "markdown",
   "id": "6a030125-c0d3-4fe4-8045-5001132542ab",
   "metadata": {},
   "source": [
    "`result` jest otrzymanym z drugiej aktywności `Intent` zawierającym dane. Następnie dodajjmy implementację metody `onActivityResult`"
   ]
  },
  {
   "cell_type": "markdown",
   "id": "79538867-5628-4517-a9f0-541546b2de7f",
   "metadata": {},
   "source": [
    "W pierwszym kroku sprawdzam czy aktywność zwraca z poprawnym kodem"
   ]
  },
  {
   "cell_type": "code",
   "execution_count": null,
   "id": "32f2e44a-9893-4ceb-9d30-49eddc80f011",
   "metadata": {},
   "outputs": [],
   "source": [
    "if (result.getResultCode() == Activity.RESULT_OK)"
   ]
  },
  {
   "cell_type": "markdown",
   "id": "5fef50d6-84a7-4bb5-bbb5-eb7c9c75ed53",
   "metadata": {},
   "source": [
    "Następnie sprawdzamy czy dane istnieją i wyciągamy dane z `result` i umieszczamy w polu `textView`."
   ]
  },
  {
   "cell_type": "code",
   "execution_count": null,
   "id": "9f803418-1e11-4633-8dab-6c97c054a081",
   "metadata": {},
   "outputs": [],
   "source": [
    "ActivityResultLauncher<Intent> secondActivityResultLauncher = registerForActivityResult(\n",
    "    new ActivityResultContracts.StartActivityForResult(),\n",
    "    result -> {\n",
    "        if (result.getResultCode() == Activity.RESULT_OK && \n",
    "            result.getData() != null)\n",
    "            textView.setText(result.getData()\n",
    "                             .getStringExtra(SecondActivity.EXTRA_REPLY));\n",
    "        }\n",
    ");"
   ]
  },
  {
   "cell_type": "markdown",
   "id": "4a2812a1-9b4b-4773-a57f-b540ed1d1502",
   "metadata": {},
   "source": [
    "Ostatnim krokiem jest wykorzystanie `secondActivityResultLauncher` w metodzie `onClick` przycisku wysyłającego żądanie"
   ]
  },
  {
   "cell_type": "code",
   "execution_count": null,
   "id": "4492b192-5874-4e5f-b442-2c24d05ced7f",
   "metadata": {},
   "outputs": [],
   "source": [
    "public void startSecondActivity(View view) {\n",
    "    String message = editText.getText().toString();\n",
    "    Intent intent = new Intent(this, SecondActivity.class);\n",
    "    intent.putExtra(EXTRA_MESSAGE, message);\n",
    "    secondActivityResultLauncher.launch(intent);\n",
    "}"
   ]
  },
  {
   "cell_type": "markdown",
   "id": "445c01fb-5dcd-48da-88dc-4db71f66326a",
   "metadata": {},
   "source": [
    "Możemy przetestowac aplikację."
   ]
  },
  {
   "cell_type": "code",
   "execution_count": null,
   "id": "f090ddf5-125c-4323-87d8-e99a3f31f8e5",
   "metadata": {},
   "outputs": [],
   "source": []
  }
 ],
 "metadata": {
  "kernelspec": {
   "display_name": "Java",
   "language": "java",
   "name": "java"
  },
  "language_info": {
   "codemirror_mode": "java",
   "file_extension": ".jshell",
   "mimetype": "text/x-java-source",
   "name": "Java",
   "pygments_lexer": "java",
   "version": "17+35-2724"
  }
 },
 "nbformat": 4,
 "nbformat_minor": 5
}
