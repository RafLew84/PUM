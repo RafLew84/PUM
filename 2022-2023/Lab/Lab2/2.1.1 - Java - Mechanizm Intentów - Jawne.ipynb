{
 "cells": [
  {
   "cell_type": "markdown",
   "id": "5b0fe7ca-472c-44a4-9449-52338f916a06",
   "metadata": {},
   "source": [
    "# 2.1 Explicit Intent"
   ]
  },
  {
   "cell_type": "markdown",
   "id": "1074a4ed-d353-4fd2-af90-4d9b576b3677",
   "metadata": {},
   "source": [
    "W tym przykładzie przyjrzymy się mechanizmowi intentów, rozpoczniemy od intentów jawnych. Stworzymy aplikację z dwiema aktywnościami i umożliwimy otworzenie drugiej aktywności z poziomu pierwszej (głównej). "
   ]
  },
  {
   "cell_type": "markdown",
   "id": "90707a44-01a0-4237-9681-9f190ed222af",
   "metadata": {},
   "source": [
    "Przedźmy do aktywności głównej i dodajmy przycisk do layoutu."
   ]
  },
  {
   "cell_type": "markdown",
   "id": "d998b016-2b7f-405a-817b-31f6598bc0b7",
   "metadata": {},
   "source": [
    "### Layout i utworzenie drugiej aktywności"
   ]
  },
  {
   "cell_type": "markdown",
   "id": "c4953456-397f-4e32-9f12-96c8f0ef7842",
   "metadata": {},
   "source": [
    "```xml\n",
    "<?xml version=\"1.0\" encoding=\"utf-8\"?>\n",
    "<androidx.constraintlayout.widget.ConstraintLayout xmlns:android=\"http://schemas.android.com/apk/res/android\"\n",
    "    xmlns:app=\"http://schemas.android.com/apk/res-auto\"\n",
    "    xmlns:tools=\"http://schemas.android.com/tools\"\n",
    "    android:layout_width=\"match_parent\"\n",
    "    android:layout_height=\"match_parent\"\n",
    "    tools:context=\".MainActivity\">\n",
    "\n",
    "    <Button\n",
    "        android:id=\"@+id/button\"\n",
    "        android:layout_width=\"wrap_content\"\n",
    "        android:layout_height=\"wrap_content\"\n",
    "        android:text=\"Button\"\n",
    "        android:layout_margin=\"16dp\"\n",
    "        app:layout_constraintBottom_toBottomOf=\"parent\"\n",
    "        app:layout_constraintEnd_toEndOf=\"parent\"\n",
    "        android:onClick=\"startSecondActivity\"/>\n",
    "</androidx.constraintlayout.widget.ConstraintLayout>\n",
    "```"
   ]
  },
  {
   "cell_type": "markdown",
   "id": "2ec39d7a-2a2f-44e2-8b2c-a281404de7d6",
   "metadata": {},
   "source": [
    "Po naciśnięciu tego przycisku możliwe będzie przejście do drugiej aktywności."
   ]
  },
  {
   "cell_type": "markdown",
   "id": "ecab78c6-a6f7-4768-b68a-f70bc1901ea5",
   "metadata": {},
   "source": [
    "Następnie dodajmy drugą aktywność do projektu. W oknie **Project** wybieram z menu kontekstowego **New -> Activity -> Empty Activity**. Zaznaczam **Generate layout file** i odznaczam **Launcher Activity**. Przejdźmy do pliku `AndroidManifest.xml`"
   ]
  },
  {
   "cell_type": "markdown",
   "id": "11befd07-1aed-4d16-bc09-a183dd02c51d",
   "metadata": {},
   "source": [
    "Mamy opisane dwie aktywności. Chcemy teraz wskazać rodzica dla **SecondActivity** . Do tagu `<activity />` dodaję opcję `android:parentActivityName=\".MainActivity\"` oraz `android:label=\"Second Activity\"`."
   ]
  },
  {
   "cell_type": "markdown",
   "id": "621bdd68-e73a-4ed9-8d0a-f04fae8ed808",
   "metadata": {},
   "source": [
    "```xml\n",
    "<activity\n",
    "    android:name=\".SecondActivity\"\n",
    "    android:parentActivityName=\".MainActivity\"\n",
    "    android:label=\"Second Activity\"\n",
    "    android:exported=\"false\" />\n",
    "```"
   ]
  },
  {
   "cell_type": "markdown",
   "id": "84b5e18c-4975-4490-94b7-e9c1e6fd9c0a",
   "metadata": {},
   "source": [
    "Czyli wskazaliśmy ze aktywnością nadrzędną jest **MainActivity**. Zwróćmy również uwagę na kropkę przed nazwą aktywności głównej - pominięta została nazwa pakietu (`pl.edu.uwr.pum.explicitintentjava.MainActivity`). `label` posłuży jako wyświetlana nazwa aktywności."
   ]
  },
  {
   "cell_type": "markdown",
   "id": "2cbd1457-9e48-469a-9083-4f193a1f51ea",
   "metadata": {},
   "source": [
    "Teraz utworzymy prosty layout dla drugiej aktywności - przechodzimy do pliku `activity_second.xml` i dodajemy pole `TextView`."
   ]
  },
  {
   "cell_type": "markdown",
   "id": "f953c373-3c50-4dc8-b286-0c8d1cee5af3",
   "metadata": {},
   "source": [
    "```xml\n",
    "<?xml version=\"1.0\" encoding=\"utf-8\"?>\n",
    "<androidx.constraintlayout.widget.ConstraintLayout xmlns:android=\"http://schemas.android.com/apk/res/android\"\n",
    "    xmlns:app=\"http://schemas.android.com/apk/res-auto\"\n",
    "    xmlns:tools=\"http://schemas.android.com/tools\"\n",
    "    android:layout_width=\"match_parent\"\n",
    "    android:layout_height=\"match_parent\"\n",
    "    tools:context=\".SecondActivity\">\n",
    "\n",
    "    <TextView\n",
    "        android:id=\"@+id/textView\"\n",
    "        android:layout_width=\"wrap_content\"\n",
    "        android:layout_height=\"wrap_content\"\n",
    "        android:text=\"Second Activity\"\n",
    "        android:textSize=\"40sp\"\n",
    "        android:textStyle=\"bold\"\n",
    "        android:textColor=\"@color/black\"\n",
    "        app:layout_constraintBottom_toBottomOf=\"parent\"\n",
    "        app:layout_constraintEnd_toEndOf=\"parent\"\n",
    "        app:layout_constraintStart_toStartOf=\"parent\"\n",
    "        app:layout_constraintTop_toTopOf=\"parent\" />\n",
    "</androidx.constraintlayout.widget.ConstraintLayout>\n",
    "```"
   ]
  },
  {
   "cell_type": "markdown",
   "id": "be642058-c265-4a02-ab18-19bf82c77fa8",
   "metadata": {},
   "source": [
    "### Utworzenie `Intent` i przejście do drugiej aktywności"
   ]
  },
  {
   "cell_type": "markdown",
   "id": "06ce2c98-1af9-4ec4-94f6-f3c8faec018d",
   "metadata": {},
   "source": [
    "Dodajmy teraz obsługę przycisku w naszej głównej aktywności, przyjdźmy do pliku `MainActivity.java`. Po wciśnięciu przycisku chcemy przejść do drugiej aktywności."
   ]
  },
  {
   "cell_type": "markdown",
   "id": "47288073-ee90-4c65-b09e-51a69d43cf04",
   "metadata": {},
   "source": [
    "```java\n",
    "public void startSecondActivity(View view) {\n",
    "        \n",
    "}\n",
    "```"
   ]
  },
  {
   "cell_type": "markdown",
   "id": "a09c5ac1-a783-4c98-aa84-46dee11c5713",
   "metadata": {},
   "source": [
    "W pierwszym kroku musimy utworzyć **intent**."
   ]
  },
  {
   "cell_type": "markdown",
   "id": "46b484a5-78e1-4862-8b7a-88f124f8b800",
   "metadata": {},
   "source": [
    "```java\n",
    "Intent intent = new Intent(this, SecondActivity.class);\n",
    "```"
   ]
  },
  {
   "cell_type": "markdown",
   "id": "b83d4de4-89b6-4f6a-a316-c72244cde1f9",
   "metadata": {},
   "source": [
    "Konstruktor klasy `Intent` przyjmuje dwa argumenty. Pierwszym jest **context**, ponieważ aktywność jest swoim własnym kontekstem używamy słowa kluczowego `this`. Drugim argumentem jest klasa aktywności którą chcemy włączyć - tutaj będzie to `SecondActivity.class`."
   ]
  },
  {
   "cell_type": "markdown",
   "id": "94ee3658-8a04-4ef6-8eb6-908f81714152",
   "metadata": {},
   "source": [
    "Aby włączyć aktywność wykonujemy metodę `startActivity`, jako argumentb podajemy poprzednio utworzony `Intent`."
   ]
  },
  {
   "cell_type": "markdown",
   "id": "943f2926-1032-4703-b38c-879d2554db04",
   "metadata": {},
   "source": [
    "```java\n",
    "startActivity(intent);\n",
    "```"
   ]
  },
  {
   "cell_type": "markdown",
   "id": "ce1f50c9-c8e9-49cb-8062-6dc80d3fcd7b",
   "metadata": {},
   "source": [
    "Na tym etapie możemy zbudować nasz projekt i przetestować funkcjonalność przycisku. Po przejściu do drugiej aktywności zwróćmy uwagę na przycisk powrotu znajdujący się na belce po lewej stronie."
   ]
  },
  {
   "cell_type": "markdown",
   "id": "db81fc2d-2122-4b54-b708-ee743ad6e56a",
   "metadata": {},
   "source": [
    "<img src=\"images/explicitIntent1.png\" width=\"200\"/>"
   ]
  },
  {
   "cell_type": "markdown",
   "id": "589b80f3-6598-44ab-9f6d-53c4050dc749",
   "metadata": {},
   "source": [
    "Nawigację do aktywności nadrzędnej mamy dodaną automatyvcznie dzięki dodaniu do manifestu linii `android:parentActivityName=\".MainActivity\"`"
   ]
  },
  {
   "cell_type": "markdown",
   "id": "c0c5351f-68aa-4461-964e-575d500431bc",
   "metadata": {},
   "source": [
    "### Przekazanie danych do drugiej aktywności"
   ]
  },
  {
   "cell_type": "markdown",
   "id": "89ec1908-e0f1-4010-a7ca-88f505e48318",
   "metadata": {},
   "source": [
    "Kolejnym krokiem będzie przekazanie danych i ich odbiór w drugiej aktywności - tutaj przekażemy tekst z pola `EditText`. Do layoutu głównej aktywności dodajmy odpowiednie pole."
   ]
  },
  {
   "cell_type": "markdown",
   "id": "8f043bea-010e-4f11-b2cd-5228b78d2350",
   "metadata": {},
   "source": [
    "```xml\n",
    "    <EditText\n",
    "        android:id=\"@+id/editTextMain\"\n",
    "        android:layout_width=\"0dp\"\n",
    "        android:layout_height=\"wrap_content\"\n",
    "        android:layout_margin=\"16dp\"\n",
    "        android:hint=\"message\"\n",
    "        android:textStyle=\"bold\"\n",
    "        android:textSize=\"24sp\"\n",
    "        app:layout_constraintBottom_toBottomOf=\"parent\"\n",
    "        app:layout_constraintEnd_toStartOf=\"@+id/button\"\n",
    "        app:layout_constraintStart_toStartOf=\"parent\" />\n",
    "```"
   ]
  },
  {
   "cell_type": "markdown",
   "id": "ba285ce7-f68e-465b-bf04-ee4bcee867bb",
   "metadata": {},
   "source": [
    "Pierwszą rzeczą jakiej będziemy potrzebować jest to **klucz** naszej wiadomości. Przejdźmy do klasy głównej aktyności `MainActivity.java` i dodajmy odpowiednie pole. Standardowo klucze przechowuje się w finalnych polach statycznych klasy wysyłającej."
   ]
  },
  {
   "cell_type": "markdown",
   "id": "2c3bd332-21a4-42eb-bd20-7e1ede65b074",
   "metadata": {},
   "source": [
    "```java\n",
    "public static final String EXTRA_MESSAGE = \"pl.edu.uwr.pum.explicitintentjava.MESSAGE\";\n",
    "```"
   ]
  },
  {
   "cell_type": "markdown",
   "id": "41b6ce85-7285-461e-a628-a5a0a2d3833f",
   "metadata": {},
   "source": [
    "Standardowo nazwę stałej przechowującej klucz piszemy wielkimi literami, sam `String` zawierający klucz składa się z pakietu w której znajduje się aktywność wysyłająca i nazwy."
   ]
  },
  {
   "cell_type": "markdown",
   "id": "d5e0f3b8-fc98-440b-9917-3ec0baf25c4f",
   "metadata": {},
   "source": [
    "Dalej utwórzmy pole reprezentujące `EditText` i połączmy z elementem layoutu o odpowiednim `id`."
   ]
  },
  {
   "cell_type": "markdown",
   "id": "2b158ecc-979d-4ca6-a2f8-4e968dc51814",
   "metadata": {},
   "source": [
    "```java\n",
    "private EditText editText;\n",
    "\n",
    "@Override\n",
    "protected void onCreate(Bundle savedInstanceState) {\n",
    "    super.onCreate(savedInstanceState);\n",
    "    setContentView(R.layout.activity_main);\n",
    "        \n",
    "    editText = findViewById(R.id.editTextMain);\n",
    "}\n",
    "```"
   ]
  },
  {
   "cell_type": "markdown",
   "id": "643998f6-3374-485c-a62f-6cfc24af06b4",
   "metadata": {},
   "source": [
    "Ostatnim krokiem będzie spakowanie danych i przesłanie ich do drugiej aktywności. Przechodzimy do metody `startSecondActivity` (czyli metody `onClick` naszego przycisku) i uzupełniamy implementację."
   ]
  },
  {
   "cell_type": "markdown",
   "id": "1cab0ae2-93ea-4e04-8086-c5ec2f0a8518",
   "metadata": {},
   "source": [
    "W pierwszym kroku wyciągamy tekst z pola `EditText`"
   ]
  },
  {
   "cell_type": "markdown",
   "id": "09948da2-f79f-4867-a390-3c0c70b5bd7a",
   "metadata": {},
   "source": [
    "```java\n",
    "String message = editText.getText().toString();\n",
    "```"
   ]
  },
  {
   "cell_type": "markdown",
   "id": "cd5964c9-50eb-40c3-8fbc-1f3353977eec",
   "metadata": {},
   "source": [
    "Następnie dodajemy do intentu nasze dane - czyli `String` wyciągnięty z `EditText`. W tym celu na naszym obiekcie `Intent` wywołujemy metodę `putExtra`, która dodaje dane do obiektu `Intent` i przekazuje je do aktywności odbierającej."
   ]
  },
  {
   "cell_type": "markdown",
   "id": "20a96b10-f110-451d-80e0-90d0bfc6bd74",
   "metadata": {},
   "source": [
    "```java\n",
    "intent.putExtra(EXTRA_MESSAGE, message);\n",
    "```"
   ]
  },
  {
   "cell_type": "markdown",
   "id": "765a181e-e8a8-4c5e-aed6-759090318221",
   "metadata": {},
   "source": [
    "Metoda przyjmuje dwa argumenty. Pierwszym jest nasz unikalny klucz, który mamy zapisany w stałej `EXTRA_MESSAGE`, drugim jest `String` który chcemy przekazać."
   ]
  },
  {
   "cell_type": "markdown",
   "id": "24222c9d-d2e0-49a4-96ff-6a55de2546d2",
   "metadata": {},
   "source": [
    "```java\n",
    "public void startSecondActivity(View view) {\n",
    "    String message = editText.getText().toString();\n",
    "    Intent intent = new Intent(this, SecondActivity.class);\n",
    "    intent.putExtra(EXTRA_MESSAGE, message);\n",
    "    startActivity(intent);\n",
    "}\n",
    "```"
   ]
  },
  {
   "cell_type": "markdown",
   "id": "9d612160-5a3f-42b3-8c88-b72c8e1aa22b",
   "metadata": {},
   "source": [
    "### Odebranie danych z poziomu drugiej aktywności"
   ]
  },
  {
   "cell_type": "markdown",
   "id": "c1862e52-6e12-45ac-b6a0-2802db622dc3",
   "metadata": {},
   "source": [
    "Kolejnym krokiem będzie odebranie danych z poziomu drugiej aktywności - odebrany `String` przekażemy do pola `TextView`. Przechodzimy do pliku `SecondActivity.java` i w metodzie `onCreate` tworzymy `Intent` i wywołujemy metodę `getIntent` - dzięki tej metodzie przesłany `Intent` z aktywności głównej zostanie odebrany."
   ]
  },
  {
   "cell_type": "markdown",
   "id": "94199636-8709-4740-8ab9-0ea5fb55844a",
   "metadata": {},
   "source": [
    "```java\n",
    "Intent intent = getIntent();\n",
    "```"
   ]
  },
  {
   "cell_type": "markdown",
   "id": "ae84c337-3897-433c-b701-08fcb3e37d27",
   "metadata": {},
   "source": [
    "Następnie odbieramy przesłane dane za pomocą metody `getStringExtra` wywołanej na odebranej instancji klasy `Intent`."
   ]
  },
  {
   "cell_type": "markdown",
   "id": "155c7652-e916-41f2-80a4-e55c962e19eb",
   "metadata": {},
   "source": [
    "```java\n",
    "String message = intent.getStringExtra(MainActivity.EXTRA_MESSAGE);\n",
    "```"
   ]
  },
  {
   "cell_type": "markdown",
   "id": "a7f56aa4-3b3d-4b35-9463-00b27b1b196a",
   "metadata": {},
   "source": [
    "Metoda jako argument przyjmuje unikalny klucz, który mamy zapisany w stałej statycznej klasy `MainActivity`. W ostatnim kroku chcemy odebrany `String` przekazać do pola `TextView`."
   ]
  },
  {
   "cell_type": "markdown",
   "id": "f90458f4-9f6f-4f16-ad44-18732a851ecc",
   "metadata": {},
   "source": [
    "```java\n",
    "package pl.edu.uwr.pum.explicitintentjava;\n",
    "\n",
    "import androidx.appcompat.app.AppCompatActivity;\n",
    "\n",
    "import android.content.Intent;\n",
    "import android.os.Bundle;\n",
    "import android.widget.TextView;\n",
    "\n",
    "public class SecondActivity extends AppCompatActivity {\n",
    "\n",
    "    @Override\n",
    "    protected void onCreate(Bundle savedInstanceState) {\n",
    "        super.onCreate(savedInstanceState);\n",
    "        setContentView(R.layout.activity_second);\n",
    "\n",
    "        Intent intent = getIntent();\n",
    "        String message = intent.getStringExtra(MainActivity.EXTRA_MESSAGE);\n",
    "        TextView textView = findViewById(R.id.textView);\n",
    "        textView.setText(message);\n",
    "    }\n",
    "}\n",
    "```"
   ]
  },
  {
   "cell_type": "markdown",
   "id": "c5d95525-828d-41f9-b712-7c934963cb83",
   "metadata": {},
   "source": [
    "Na tym etapie możemy przetestować funkcjonalność aplikacji."
   ]
  },
  {
   "cell_type": "code",
   "execution_count": null,
   "id": "d7305881-301e-4159-949f-1976d006c217",
   "metadata": {},
   "outputs": [],
   "source": []
  }
 ],
 "metadata": {
  "kernelspec": {
   "display_name": "Java",
   "language": "java",
   "name": "java"
  },
  "language_info": {
   "codemirror_mode": "java",
   "file_extension": ".jshell",
   "mimetype": "text/x-java-source",
   "name": "Java",
   "pygments_lexer": "java",
   "version": "17+35-2724"
  }
 },
 "nbformat": 4,
 "nbformat_minor": 5
}
