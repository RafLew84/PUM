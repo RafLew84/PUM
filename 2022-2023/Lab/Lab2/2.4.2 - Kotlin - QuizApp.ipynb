{
 "cells": [
  {
   "cell_type": "markdown",
   "id": "f0e21f62-ec2d-4cc4-8cd3-88e0fe07c80d",
   "metadata": {},
   "source": [
    "# 2.4 QuizApp"
   ]
  },
  {
   "cell_type": "markdown",
   "id": "907073e5-677b-42fd-9699-0dd0a9d04ff3",
   "metadata": {},
   "source": [
    "Ta aplikacja posłuży nam do zapoznania się z nowymi elementami. Zmodyfikujemy wygląd kilku kontrolek i wykorzystamy **progress bar**."
   ]
  },
  {
   "cell_type": "markdown",
   "id": "b14d01bc-aa52-40de-bdbb-4188d88b5bf8",
   "metadata": {},
   "source": [
    "<img src=\"https://media1.giphy.com/media/KkRBm5TqFbEWEqnrIy/giphy.gif?cid=790b76114709b5b4e63072bd5b3af809b31816e92c710c39&rid=giphy.gif&ct=g\" width=\"150\" />"
   ]
  },
  {
   "cell_type": "markdown",
   "id": "2a7b339c-f47b-4157-a6ec-49ae1d0c176d",
   "metadata": {},
   "source": [
    "W pierwszej kolejności chcemy zablokować ekran tylko do pozycji wertykalnej (portrait), w tym celu dodajemy do `AndroidManifest.xml` odpowiednią opcję\n",
    "\n",
    "```xml\n",
    "<activity\n",
    "    android:name=\".MainActivity\"\n",
    "    android:screenOrientation=\"portrait\"\n",
    "    android:exported=\"true\"\n",
    "    tools:ignore=\"LockedOrientationActivity\">\n",
    "```"
   ]
  },
  {
   "cell_type": "markdown",
   "id": "5c80b460-4b0f-45d6-9001-25026e3eab81",
   "metadata": {},
   "source": [
    "Następnie przygotujmy model danych."
   ]
  },
  {
   "cell_type": "code",
   "execution_count": null,
   "id": "b37a2336-f518-4ff9-8bde-1de301df7406",
   "metadata": {},
   "outputs": [],
   "source": [
    "class Question(\n",
    "    val question: String,\n",
    "    val imageSource: Int,\n",
    "    val answerOne: String,\n",
    "    val answerTwo: String,\n",
    "    val answerThree: String,\n",
    "    val correctAnswer: Int\n",
    ")"
   ]
  },
  {
   "cell_type": "markdown",
   "id": "4d30aab1-ecc4-4e0c-8162-c970b282909d",
   "metadata": {},
   "source": [
    "Będziemy przechowywać pytania w `List` który umieścimy w obiekcie `Questions`"
   ]
  },
  {
   "cell_type": "code",
   "execution_count": null,
   "id": "ad80e830-6537-498d-ae59-ead778ed0996",
   "metadata": {},
   "outputs": [],
   "source": [
    "object Questions {\n",
    "    val questions: List<Question>\n",
    "        get() = (0 until 10).map { Question(\n",
    "            \"Question $it\",\n",
    "            R.drawable.ic_flag,\n",
    "            \"Answer 1\",\n",
    "            \"Answer 2\",\n",
    "            \"Answer 3\",\n",
    "            Random.nextInt(IntRange(1,3))\n",
    "        ) }\n",
    "}"
   ]
  },
  {
   "cell_type": "markdown",
   "id": "4557a247-de8f-4520-b71a-efb4b6e44ec3",
   "metadata": {},
   "source": [
    "Przejdźmy do layoutu, naszym głównym elementem będzie `LinearLayout`, dodamy pole `TextView` które będzie nam wyświetlało numer pytania oraz `Imageview` wyświetlający grafikę. tutaj zastosujemy jedną grafikę dla wszystkich pytań (dla uproszczenia).\n",
    "\n",
    "```xml\n",
    "<?xml version=\"1.0\" encoding=\"utf-8\"?>\n",
    "<LinearLayout xmlns:android=\"http://schemas.android.com/apk/res/android\"\n",
    "    xmlns:app=\"http://schemas.android.com/apk/res-auto\"\n",
    "    xmlns:tools=\"http://schemas.android.com/tools\"\n",
    "    android:layout_width=\"match_parent\"\n",
    "    android:layout_height=\"match_parent\"\n",
    "    android:orientation=\"vertical\"\n",
    "    android:padding=\"16dp\"\n",
    "    android:gravity=\"center\"\n",
    "    tools:context=\".MainActivity\">\n",
    "\n",
    "    <TextView\n",
    "        android:id=\"@+id/text_view_question\"\n",
    "        android:layout_width=\"match_parent\"\n",
    "        android:layout_height=\"wrap_content\"\n",
    "        android:layout_margin=\"10dp\"\n",
    "        android:gravity=\"center\"\n",
    "        android:textColor=\"#363A43\"\n",
    "        android:textSize=\"22sp\"\n",
    "        android:text=\"QUESTION\"/>\n",
    "\n",
    "    <ImageView\n",
    "        android:id=\"@+id/image_view_question\"\n",
    "        android:layout_width=\"wrap_content\"\n",
    "        android:layout_height=\"wrap_content\"\n",
    "        android:layout_marginTop=\"20dp\"\n",
    "        android:contentDescription=\"image\"\n",
    "        android:src=\"@drawable/ic_flag\"/>\n",
    "\n",
    "</LinearLayout>\n",
    "```\n",
    "\n",
    "Następnie dodamy `linearlayout` w którym będziemy przechowywać `ProgressBar` oraz `textView` pokazujące progres całego quizu.\n",
    "\n",
    "```xml\n",
    "<LinearLayout\n",
    "    android:id=\"@+id/linear_layout_progress_bar\"\n",
    "    android:layout_width=\"match_parent\"\n",
    "    android:layout_height=\"wrap_content\"\n",
    "    android:layout_marginTop=\"20dp\"\n",
    "    android:gravity=\"center_vertical\"\n",
    "    android:orientation=\"horizontal\">\n",
    "\n",
    "    <ProgressBar\n",
    "        android:id=\"@+id/progress_bar\"\n",
    "        android:layout_width=\"0dp\"\n",
    "        android:layout_height=\"wrap_content\"\n",
    "        android:layout_weight=\"1\"\n",
    "        style=\"?android:attr/progressBarStyleHorizontal\"\n",
    "        android:indeterminate=\"false\"\n",
    "        android:max=\"10\"\n",
    "        android:progress=\"0\"/>\n",
    "\n",
    "    <TextView\n",
    "        android:id=\"@+id/text_view_progress\"\n",
    "        android:layout_width=\"wrap_content\"\n",
    "        android:layout_height=\"wrap_content\"\n",
    "        android:gravity=\"center\"\n",
    "        android:padding=\"12dp\"\n",
    "        android:textSize=\"14sp\"\n",
    "        android:text=\"0/10\"/>\n",
    "\n",
    "</LinearLayout>\n",
    "```\n",
    "\n",
    "chcemy zastosować `Progressbar` horyzontalny więc ustawiam odpowiedni styl `style=\"?android:attr/progressBarStyleHorizontal\"`. Ponieważ znamy ilość wszystkich pytań ustawiamy atrybut `indeterminate` na `false` - tutaj wypełnienie będzie odbywać się na podstawie liczby pytań. Maksymalną ilość pytań w naszym quizie (10) ustawiam jako `max`, czyli maksymalną wartość. `proggress` ustawiam na 0 - jest to wartość od której rozpoczyna pracę `ProgressBar`."
   ]
  },
  {
   "cell_type": "markdown",
   "id": "41346855-5c89-4f47-b435-7a6f2a5ad666",
   "metadata": {},
   "source": [
    "## **Modyfikacja wyglądu `TextView`**"
   ]
  },
  {
   "cell_type": "markdown",
   "id": "4c5aa13b-6f78-4cd9-a5f2-820fdb0a37ee",
   "metadata": {},
   "source": [
    "Następnie dodamy pola `TextView` z treściami odpowiedzi.\n",
    "\n",
    "```xml\n",
    "    <TextView\n",
    "        android:id=\"@+id/text_view_answer_one\"\n",
    "        android:layout_width=\"match_parent\"\n",
    "        android:layout_height=\"wrap_content\"\n",
    "        android:layout_margin=\"10dp\"\n",
    "        android:background=\"@drawable/default_answer_shape\"\n",
    "```\n",
    "\n",
    "Jako background podaję `default_answer_shape` któy będzie określał wygląd pola. Do folderu `drawable` dodajmy plik `default_drawable_shape.xml` - jak **Root element** podajemy `shape` (będziemy definiowali kształt).\n",
    "\n",
    "```xml\n",
    "<?xml version=\"1.0\" encoding=\"utf-8\"?>\n",
    "<shape xmlns:android=\"http://schemas.android.com/apk/res/android\">\n",
    "\n",
    "</shape>\n",
    "```\n",
    "\n",
    "W pierwszym kroku definiujemy kształt\n",
    "\n",
    "```xml\n",
    "<shape xmlns:android=\"http://schemas.android.com/apk/res/android\"\n",
    "    android:shape=\"rectangle\">\n",
    "\n",
    "</shape>\n",
    "```\n",
    "\n",
    "Następnie zdefiniujmy szerokość i kolor obramowania\n",
    "\n",
    "```xml\n",
    "<shape xmlns:android=\"http://schemas.android.com/apk/res/android\"\n",
    "    android:shape=\"rectangle\">\n",
    "\n",
    "    <stroke\n",
    "        android:width=\"2dp\"\n",
    "        android:color=\"#DC77C5\"/>\n",
    "\n",
    "</shape>\n",
    "```\n",
    "\n",
    "Zdefiniujmy również kolor tła\n",
    "\n",
    "```xml\n",
    "<shape xmlns:android=\"http://schemas.android.com/apk/res/android\"\n",
    "    android:shape=\"rectangle\">\n",
    "\n",
    "    <stroke\n",
    "        android:width=\"2dp\"\n",
    "        android:color=\"#DC77C5\"/>\n",
    "\n",
    "    <solid\n",
    "        android:color=\"@color/white\"/>\n",
    "\n",
    "</shape>\n",
    "```\n",
    "\n",
    "Ostatnim elementem będzie zaokrąglenie narożników\n",
    "\n",
    "```xml\n",
    "<?xml version=\"1.0\" encoding=\"utf-8\"?>\n",
    "<shape xmlns:android=\"http://schemas.android.com/apk/res/android\"\n",
    "    android:shape=\"rectangle\">\n",
    "\n",
    "    <stroke\n",
    "        android:width=\"2dp\"\n",
    "        android:color=\"#DC77C5\"/>\n",
    "\n",
    "    <solid\n",
    "        android:color=\"@color/white\"/>\n",
    "\n",
    "    <corners\n",
    "        android:radius=\"50dp\"/>\n",
    "\n",
    "</shape>\n",
    "```\n",
    "\n",
    "Powróćmy do layoutu i dokończmy tworzenie `TextView`\n",
    "\n",
    "```xml\n",
    "    <TextView\n",
    "        android:id=\"@+id/text_view_answer_one\"\n",
    "        android:layout_width=\"match_parent\"\n",
    "        android:layout_height=\"wrap_content\"\n",
    "        android:layout_margin=\"10dp\"\n",
    "        android:background=\"@drawable/default_answer_shape\"\n",
    "        android:gravity=\"center\"\n",
    "        android:padding=\"13dp\"\n",
    "        android:textColor=\"@color/black\"\n",
    "        android:textSize=\"20sp\"\n",
    "        android:text=\"ANSWER 1\"/>\n",
    "```\n",
    "\n",
    "Następnie skopiuję to pole jeszcze dwa razy\n",
    "\n",
    "```xml\n",
    "    <TextView\n",
    "        android:id=\"@+id/text_view_answer_one\"\n",
    "        android:layout_width=\"match_parent\"\n",
    "        android:layout_height=\"wrap_content\"\n",
    "        android:layout_margin=\"10dp\"\n",
    "        android:background=\"@drawable/default_answer_shape\"\n",
    "        android:gravity=\"center\"\n",
    "        android:padding=\"13dp\"\n",
    "        android:textColor=\"@color/black\"\n",
    "        android:textSize=\"20sp\"\n",
    "        android:text=\"ANSWER 1\"/>    \n",
    "    \n",
    "    <TextView\n",
    "        android:id=\"@+id/text_view_answer_two\"\n",
    "        android:layout_width=\"match_parent\"\n",
    "        android:layout_height=\"wrap_content\"\n",
    "        android:layout_margin=\"10dp\"\n",
    "        android:background=\"@drawable/default_answer_shape\"\n",
    "        android:gravity=\"center\"\n",
    "        android:padding=\"13dp\"\n",
    "        android:textColor=\"@color/black\"\n",
    "        android:textSize=\"20sp\"\n",
    "        android:text=\"ANSWER 2\"/>    \n",
    "    \n",
    "    <TextView\n",
    "        android:id=\"@+id/text_view_answer_three\"\n",
    "        android:layout_width=\"match_parent\"\n",
    "        android:layout_height=\"wrap_content\"\n",
    "        android:layout_margin=\"10dp\"\n",
    "        android:background=\"@drawable/default_answer_shape\"\n",
    "        android:gravity=\"center\"\n",
    "        android:padding=\"13dp\"\n",
    "        android:textColor=\"@color/black\"\n",
    "        android:textSize=\"20sp\"\n",
    "        android:text=\"ANSWER 3\"/>\n",
    "```\n",
    "\n",
    "Ostatnim elementem będzie przycisk zatwierdzający zaznaczoną odpowiedź\n",
    "\n",
    "```xml\n",
    "    <Button\n",
    "        android:id=\"@+id/button_next\"\n",
    "        android:layout_width=\"match_parent\"\n",
    "        android:layout_height=\"wrap_content\"\n",
    "        android:layout_margin=\"12dp\"\n",
    "        android:text=\"SUBMIT\"\n",
    "        android:textColor=\"@color/white\"\n",
    "        android:textSize=\"20sp\"\n",
    "        android:textStyle=\"bold\"/>\n",
    "```"
   ]
  },
  {
   "cell_type": "markdown",
   "id": "d075e9c0-67c6-4ddc-91b2-2d648eb7941b",
   "metadata": {},
   "source": [
    "## **Modyfikacja wyglądu `TextView` w odpowiedzi na akcję użytkownika**"
   ]
  },
  {
   "cell_type": "markdown",
   "id": "6de7d5c1-08ae-4dc6-9a60-17fb994f2359",
   "metadata": {},
   "source": [
    "Po kliknięciu na którąkolwiek odpowiedź chcemy ją w jakiś sposób wyróżnić. Zdefiniujmy wygląd w przypadku zaznaczenia w pliku `selected_answer_shape.xml` - który również dodajemy do folderu `drawable`\n",
    "\n",
    "```xml\n",
    "<?xml version=\"1.0\" encoding=\"utf-8\"?>\n",
    "<shape xmlns:android=\"http://schemas.android.com/apk/res/android\"\n",
    "    android:shape=\"rectangle\">\n",
    "\n",
    "    <!-- pogrubienie i zmiana koloru -->\n",
    "    <stroke\n",
    "        android:width=\"5dp\" \n",
    "        android:color=\"@color/black\"/>\n",
    "\n",
    "    <solid\n",
    "        android:color=\"@color/white\"/>\n",
    "\n",
    "    <corners\n",
    "        android:radius=\"50dp\"/>\n",
    "\n",
    "</shape>\n",
    "```\n",
    "\n",
    "Przejdźmy do `MainActivity`"
   ]
  },
  {
   "cell_type": "markdown",
   "id": "8387b6d5-36e5-44ee-bf0f-d7e1f9b6c4c5",
   "metadata": {},
   "source": [
    "Dodajmy zmienną reprezentującą numer pytania na którym się znajdujemy - rozpoczynamy od pytania numer 1"
   ]
  },
  {
   "cell_type": "code",
   "execution_count": null,
   "id": "dde93037-2346-414b-9ee5-b6b18e6a077e",
   "metadata": {},
   "outputs": [],
   "source": [
    "private var currentPosition = 1"
   ]
  },
  {
   "cell_type": "markdown",
   "id": "45fa2b89-88e4-4774-9d5f-63bf1ea62015",
   "metadata": {},
   "source": [
    "Następnie potrzebujemy listę wszystkich pytań"
   ]
  },
  {
   "cell_type": "code",
   "execution_count": null,
   "id": "022723c9-176b-4d85-9902-f11346b7363b",
   "metadata": {},
   "outputs": [],
   "source": [
    "private val questions: List<Question> = Questions.questions"
   ]
  },
  {
   "cell_type": "markdown",
   "id": "885b28ec-25b9-4489-9275-3f1fd333b477",
   "metadata": {},
   "source": [
    "oraz zmienną reprezentującą aktualne zaznaczenie"
   ]
  },
  {
   "cell_type": "code",
   "execution_count": null,
   "id": "6d671f4f-b27d-4b28-937f-6ae6075a7a81",
   "metadata": {},
   "outputs": [],
   "source": [
    "private var selectedAnswerPosition = 0"
   ]
  },
  {
   "cell_type": "markdown",
   "id": "970c9403-294d-48ce-a601-0e054e07138c",
   "metadata": {},
   "source": [
    "Dodajmy funkcję ustawiającą nam odpowiednie pytanie"
   ]
  },
  {
   "cell_type": "code",
   "execution_count": null,
   "id": "af51aade-5a03-4c2f-a91e-544cefb12560",
   "metadata": {},
   "outputs": [],
   "source": [
    "private fun setQuestion() {}"
   ]
  },
  {
   "cell_type": "markdown",
   "id": "aa38dff6-fe2e-46c3-a328-76690486cf14",
   "metadata": {},
   "source": [
    "Wpierw wyciągnijmy dane z odpowiedniej pozycji"
   ]
  },
  {
   "cell_type": "code",
   "execution_count": null,
   "id": "0809897a-fae2-47e6-b988-a525072f805e",
   "metadata": {},
   "outputs": [],
   "source": [
    "val question = questions[currentPosition - 1]"
   ]
  },
  {
   "cell_type": "markdown",
   "id": "41ae0846-0b3c-4339-900a-29d178c0c67e",
   "metadata": {},
   "source": [
    "Połączmy pola layoutu z polami klasy"
   ]
  },
  {
   "cell_type": "code",
   "execution_count": null,
   "id": "dded8ae1-b144-4377-b039-b4080bf1d08e",
   "metadata": {},
   "outputs": [],
   "source": [
    "private val answerOne: TextView by lazy { findViewById(R.id.text_view_answer_one) }\n",
    "private val answerTwo: TextView by lazy { findViewById(R.id.text_view_answer_two)}\n",
    "private val answerThree: TextView by lazy { findViewById(R.id.text_view_answer_three)}\n",
    "private val questionText: TextView by lazy { findViewById(R.id.text_view_question)}\n",
    "private val progressText: TextView by lazy { findViewById(R.id.text_view_progress)}\n",
    "private val submitButton: Button by lazy { findViewById(R.id.button_next)}\n",
    "private val progressBar: ProgressBar by lazy { findViewById(R.id.progress_bar)}\n",
    "private val imageView: ImageView by lazy { findViewById(R.id.image_view_question)}"
   ]
  },
  {
   "cell_type": "markdown",
   "id": "7826ed20-7113-460c-ab68-6da10b1e3bde",
   "metadata": {},
   "source": [
    "Do metody `setQuestion` dodajmy ustawienie `ProgressBar` na odpowiednią pozycję"
   ]
  },
  {
   "cell_type": "code",
   "execution_count": null,
   "id": "763bb743-e634-4f13-a929-c4060e19e39b",
   "metadata": {},
   "outputs": [],
   "source": [
    "progressBar.progress = currentPosition"
   ]
  },
  {
   "cell_type": "markdown",
   "id": "b38271ba-a1b9-4260-b0d5-e2da5c1ab183",
   "metadata": {},
   "source": [
    "Następnie ustawmy pola `TextView` oraz `ImageView`"
   ]
  },
  {
   "cell_type": "code",
   "execution_count": null,
   "id": "fbefeb6a-22b0-4e62-92b9-d333c304579b",
   "metadata": {},
   "outputs": [],
   "source": [
    "private fun setQuestion() {\n",
    "    val question = questions[currentPosition - 1]\n",
    "    progressBar.progress = currentPosition\n",
    "    \"$currentPosition / ${progressBar.max}\".also { progressText.text = it }\n",
    "    questionText.text = question.question\n",
    "    answerOne.text = question.answerOne\n",
    "    answerTwo.text = question.answerTwo\n",
    "    answerThree.text = question.answerThree\n",
    "    imageView.setImageResource(question.imageSource);\n",
    "    submitButton.text = \"SUBMIT\"\n",
    "}"
   ]
  },
  {
   "cell_type": "markdown",
   "id": "1ed7a9e3-0f9a-406f-bb9f-d151b87b3460",
   "metadata": {},
   "source": [
    "Wywołajmy metodę `setQuestion` w `onCreate`. Następnie dodajmy metodę ustawiającą widok domyślny"
   ]
  },
  {
   "cell_type": "code",
   "execution_count": null,
   "id": "d5556858-1320-4b55-818a-d73f75de28c1",
   "metadata": {},
   "outputs": [],
   "source": [
    "private fun setDefaultView() {}"
   ]
  },
  {
   "cell_type": "markdown",
   "id": "f51dfb01-89e1-4209-8d48-fa0c19983bc9",
   "metadata": {},
   "source": [
    "W pierwszym kroku utworzymy liste wsztskich elementów których wygląd chcemy przywrócić do domyślnego"
   ]
  },
  {
   "cell_type": "code",
   "execution_count": null,
   "id": "9110ed45-2023-4145-be26-0e21a816a5ca",
   "metadata": {},
   "outputs": [],
   "source": [
    "val answers: List<TextView> = listOf(answerOne, answerTwo, answerThree)"
   ]
  },
  {
   "cell_type": "markdown",
   "id": "28e523a3-df08-495c-a774-7589504d154e",
   "metadata": {},
   "source": [
    "Następnie przejdziemy przez wszystkie elementy i przywrócimy domyślny wygląd"
   ]
  },
  {
   "cell_type": "code",
   "execution_count": null,
   "id": "5f6d621c-291c-4126-9813-8a4e7b60c634",
   "metadata": {},
   "outputs": [],
   "source": [
    "answers.forEach{\n",
    "    it.setTextColor(Color.parseColor(\"#000000\"))\n",
    "    it.typeface = Typeface.DEFAULT\n",
    "    it.background = ContextCompat.getDrawable(this, R.drawable.default_answer_shape)\n",
    "}"
   ]
  },
  {
   "cell_type": "markdown",
   "id": "0dc5d963-6c48-4134-a818-9288b3b247a8",
   "metadata": {},
   "source": [
    "Metodę `setDefaultView` wywołujemy w metodzie `setQuestion`"
   ]
  },
  {
   "cell_type": "code",
   "execution_count": null,
   "id": "81e9ad45-5948-450b-96a1-504becb56106",
   "metadata": {},
   "outputs": [],
   "source": [
    "private fun setQuestion() {\n",
    "    val question = questions[currentPosition - 1]\n",
    "    setDefaultView()\n",
    "    ...\n",
    "}"
   ]
  },
  {
   "cell_type": "markdown",
   "id": "24a2f599-2def-4569-a254-54948d2b92cf",
   "metadata": {},
   "source": [
    "W ostatniej metodzie bedziemy zmieniać wygląd wybranej kontrolki"
   ]
  },
  {
   "cell_type": "code",
   "execution_count": null,
   "id": "2f9582af-e158-4375-a741-e7f833854732",
   "metadata": {},
   "outputs": [],
   "source": [
    "private fun setSelectedView(textView: TextView, selectedAnswer: Int) {}"
   ]
  },
  {
   "cell_type": "markdown",
   "id": "9a5b83b5-35d8-47b9-98ff-4cfd2dfaace0",
   "metadata": {},
   "source": [
    "Wpierw wywołamy metodę `setDefaultView` i zmienimy ustawienia wybranego elementu"
   ]
  },
  {
   "cell_type": "markdown",
   "id": "a3dec18a-a80c-4ff2-89bd-c5fc98e326d1",
   "metadata": {},
   "source": [
    "Kolejnym krokiem będzie implementacja metod `onClick` - zrobimy to w metodzie `onCreate`"
   ]
  },
  {
   "cell_type": "code",
   "execution_count": null,
   "id": "3a8f28fc-0694-4077-b711-528effa56f21",
   "metadata": {},
   "outputs": [],
   "source": [
    "answerOne.setOnClickListener { setSelectedView(answerOne, 1) }\n",
    "answerTwo.setOnClickListener { setSelectedView(answerTwo, 2) }\n",
    "answerThree.setOnClickListener { setSelectedView(answerThree, 3) }"
   ]
  },
  {
   "cell_type": "markdown",
   "id": "6ea5d149-8c16-4bea-a359-105c35064c7a",
   "metadata": {},
   "source": [
    "Na tym etapie możemy przetestować aplikację"
   ]
  },
  {
   "cell_type": "markdown",
   "id": "a1d14c99-7f5f-4447-b3b7-2f1fe7663eb3",
   "metadata": {},
   "source": [
    "<img src=\"https://media1.giphy.com/media/g6z8YQk3uLUSTqf3R4/giphy.gif?cid=790b76112c11637ed315c500cc92d0191ce4fc54ff18c14a&rid=giphy.gif&ct=g\" width=\"150\" />"
   ]
  },
  {
   "cell_type": "markdown",
   "id": "420ab21a-ff3a-4edd-9cee-a7b3e74910e6",
   "metadata": {},
   "source": [
    "## **Zaznaczenie prawidłowej oraz nieprawidłowej odpowiedzi**"
   ]
  },
  {
   "cell_type": "markdown",
   "id": "846d6550-b4c4-410b-b0aa-89052af51d5e",
   "metadata": {},
   "source": [
    "Dodajmy kolejne dwa pliki do folderu `drawable` - `correct_answer_shape.xml` oraz `incorrect_answer_shape.xml`\n",
    "\n",
    "- `correct_answer-shape.xml`\n",
    "\n",
    "```xml\n",
    "<?xml version=\"1.0\" encoding=\"utf-8\"?>\n",
    "<shape xmlns:android=\"http://schemas.android.com/apk/res/android\"\n",
    "    android:shape=\"rectangle\">\n",
    "\n",
    "    <stroke\n",
    "        android:width=\"2dp\"\n",
    "        android:color=\"#DC77C5\"/>\n",
    "\n",
    "    <!-- zmieniamy kolor -->\n",
    "    <solid\n",
    "        android:color=\"#00FF00\"/>\n",
    "\n",
    "    <corners\n",
    "        android:radius=\"50dp\"/>\n",
    "\n",
    "</shape>\n",
    "```\n",
    "\n",
    "- `incorrect_answer-shape.xml`\n",
    "\n",
    "```xml\n",
    "<?xml version=\"1.0\" encoding=\"utf-8\"?>\n",
    "<shape xmlns:android=\"http://schemas.android.com/apk/res/android\"\n",
    "    android:shape=\"rectangle\">\n",
    "\n",
    "    <stroke\n",
    "        android:width=\"2dp\"\n",
    "        android:color=\"#DC77C5\"/>\n",
    "\n",
    "    <!-- zmieniamy kolor -->\n",
    "    <solid\n",
    "        android:color=\"#FF0000\"/>\n",
    "\n",
    "    <corners\n",
    "        android:radius=\"50dp\"/>\n",
    "\n",
    "</shape>\n",
    "```"
   ]
  },
  {
   "cell_type": "markdown",
   "id": "1253193e-6e2c-473b-8a0f-8cad66b24caa",
   "metadata": {},
   "source": [
    "Wróćmy do `MainActivity` i dodajmy metodę `setAnswerView` zmieniającą ustawienie tła na elemencie przyjętym w argumencie"
   ]
  },
  {
   "cell_type": "code",
   "execution_count": null,
   "id": "347aa6ed-a9eb-4ef0-a5cb-91a3c9f84c7b",
   "metadata": {},
   "outputs": [],
   "source": [
    "private fun setAnswerView(answer: Int, drawableItem: Int) {\n",
    "    when (answer) {\n",
    "        1 -> answerOne.background = ContextCompat.getDrawable(this, drawableItem)\n",
    "        2 -> answerTwo.background = ContextCompat.getDrawable(this, drawableItem)\n",
    "        3 -> answerThree.background = ContextCompat.getDrawable(this, drawableItem)\n",
    "    }\n",
    "}"
   ]
  },
  {
   "cell_type": "markdown",
   "id": "f9bbdce1-ad2e-4b9d-8040-767206ff2870",
   "metadata": {},
   "source": [
    "Dodajmy teraz implementację `onClick` przycisku `Submit`"
   ]
  },
  {
   "cell_type": "markdown",
   "id": "8ddeafa6-af26-4e1b-8e11-4ce25eab9221",
   "metadata": {},
   "source": [
    "Quiz rozpoczynamy ustawiając `selectedAnswerPosition` na 0, więc w pierwszym kroku inkrementujemy wartość aby przejść do pierwszego pytania"
   ]
  },
  {
   "cell_type": "code",
   "execution_count": null,
   "id": "bb3773ae-c8b7-4548-852a-8fc2c87f8bdd",
   "metadata": {},
   "outputs": [],
   "source": [
    "submitButton.setOnClickListener{\n",
    "    if (selectedAnswerPosition == 0)\n",
    "        currentPosition++\n",
    "}"
   ]
  },
  {
   "cell_type": "markdown",
   "id": "7258a6fb-0f30-4941-b1bc-d899cdc9f9e3",
   "metadata": {},
   "source": [
    "Dodajmy warunek na koniec quizu - wyświetlimy wiadomość w \"dymku\" `Toast`"
   ]
  },
  {
   "cell_type": "code",
   "execution_count": null,
   "id": "d0fdcc4d-5970-4b38-a248-8a58b8f80d0c",
   "metadata": {},
   "outputs": [],
   "source": [
    "submitButton.setOnClickListener {\n",
    "    if (selectedAnswerPosition == 0) {\n",
    "        currentPosition++\n",
    "        if (currentPosition <= questions.size)\n",
    "            setQuestion()\n",
    "        else\n",
    "            Toast.makeText(\n",
    "                this, \"Quiz completed\",\n",
    "                Toast.LENGTH_SHORT\n",
    "            ).show()\n",
    "    } else {\n",
    "        val question = questions[currentPosition - 1]\n",
    "        if (question.correctAnswer != selectedAnswerPosition)\n",
    "            setAnswerView(selectedAnswerPosition, R.drawable.incorrect_answer_shape)\n",
    "        setAnswerView(selectedAnswerPosition,R.drawable.correct_answer_shape)\n",
    "    }\n",
    "}"
   ]
  },
  {
   "cell_type": "markdown",
   "id": "6ac15598-2c4d-471d-8040-47306bb9ea5a",
   "metadata": {},
   "source": [
    "Na koniec zmienimy tekst przycisku na zakończenie quizu oraz zresetujemy `selectedAnswerPosition`"
   ]
  },
  {
   "cell_type": "code",
   "execution_count": null,
   "id": "b8cf8911-ccb2-4b0a-ad08-878a36fa9598",
   "metadata": {},
   "outputs": [],
   "source": [
    "submitButton.setOnClickListener {\n",
    "    if (selectedAnswerPosition == 0) {\n",
    "        currentPosition++\n",
    "        if (currentPosition <= questions.size)\n",
    "            setQuestion()\n",
    "        else\n",
    "            Toast.makeText(\n",
    "                this, \"Quiz completed\",\n",
    "                Toast.LENGTH_SHORT\n",
    "            ).show()\n",
    "    } else {\n",
    "        val question = questions[currentPosition - 1]\n",
    "        if (question.correctAnswer != selectedAnswerPosition)\n",
    "            setAnswerView(selectedAnswerPosition, R.drawable.incorrect_answer_shape)\n",
    "        setAnswerView(question.correctAnswer,R.drawable.correct_answer_shape)\n",
    "\n",
    "        if (currentPosition == questions.size)\n",
    "            submitButton.text = \"FINISH\"\n",
    "        else\n",
    "            submitButton.text = \"NEXT QUESTION\"\n",
    "    }\n",
    "\n",
    "    selectedAnswerPosition = 0\n",
    "}"
   ]
  },
  {
   "cell_type": "markdown",
   "id": "bf779178-fff9-49e5-b128-965ec94f7c5b",
   "metadata": {},
   "source": [
    "Napiszmy metodę zmieniającą właściwość `Clickable` pól `TextView`"
   ]
  },
  {
   "cell_type": "code",
   "execution_count": null,
   "id": "b4de3ec8-f5dc-4788-96be-6caba5c1fd3f",
   "metadata": {},
   "outputs": [],
   "source": [
    "private fun changeClickableAnswers(isAnswered: Boolean) {\n",
    "    answerOne.isClickable = isAnswered\n",
    "    answerTwo.isClickable = isAnswered\n",
    "    answerThree.isClickable = isAnswered\n",
    "}"
   ]
  },
  {
   "cell_type": "markdown",
   "id": "5a1d5461-5da0-4137-85f1-ddb2818ac768",
   "metadata": {},
   "source": [
    "Funkcję wywołujemy w dwóch miejscach:\n",
    "- `onClick` przycisku\n",
    "\n",
    "```java\n",
    "if (currentPosition == questions.size)\n",
    "    submitButton.text = \"FINISH\"\n",
    "else {\n",
    "    changeClickableAnswers(false)\n",
    "    submitButton.text = \"NEXT QUESTION\"\n",
    "}\n",
    "```\n",
    "\n",
    "- metoda `setQuestion`\n",
    "\n",
    "```java\n",
    "private fun setQuestion() {\n",
    "    val question = questions[currentPosition - 1]\n",
    "    setDefaultView()\n",
    "    progressBar.progress = currentPosition\n",
    "    questionText.text = question.question\n",
    "    answerOne.text = question.answerOne\n",
    "    answerTwo.text = question.answerTwo\n",
    "    answerThree.text = question.answerThree\n",
    "    imageView.setImageResource(question.imageSource);\n",
    "    submitButton.text = \"SUBMIT\"\n",
    "    changeClickableAnswers(true)\n",
    "}\n",
    "```"
   ]
  },
  {
   "cell_type": "markdown",
   "id": "bbebd555-03a1-40b5-8423-64e0c38c53b3",
   "metadata": {},
   "source": [
    "<img src=\"https://media1.giphy.com/media/KkRBm5TqFbEWEqnrIy/giphy.gif?cid=790b76114709b5b4e63072bd5b3af809b31816e92c710c39&rid=giphy.gif&ct=g\" width=\"150\" />"
   ]
  },
  {
   "cell_type": "code",
   "execution_count": null,
   "id": "78005b36-c48a-4b0c-8e80-a9f3b5a2d137",
   "metadata": {},
   "outputs": [],
   "source": []
  }
 ],
 "metadata": {
  "kernelspec": {
   "display_name": "Kotlin",
   "language": "kotlin",
   "name": "kotlin"
  },
  "language_info": {
   "codemirror_mode": "text/x-kotlin",
   "file_extension": ".kt",
   "mimetype": "text/x-kotlin",
   "name": "kotlin",
   "nbconvert_exporter": "",
   "pygments_lexer": "kotlin",
   "version": "1.6.20-dev-6372"
  }
 },
 "nbformat": 4,
 "nbformat_minor": 5
}
