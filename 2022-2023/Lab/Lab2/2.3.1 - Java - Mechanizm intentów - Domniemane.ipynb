{
 "cells": [
  {
   "cell_type": "markdown",
   "id": "9566fc3f-00c1-4a59-a49e-72673a068065",
   "metadata": {},
   "source": [
    "# 2.3 Implicit Intent"
   ]
  },
  {
   "cell_type": "markdown",
   "id": "771593c8-19c7-48c9-a76e-f8b00e2a2444",
   "metadata": {},
   "source": [
    "W tej aplikacji wykorzystamy mechanizm intentów domniemanych - wyślemy żądanie obłużenia adresu **url** strony domowej naszego wydziału. "
   ]
  },
  {
   "cell_type": "markdown",
   "id": "84e68978-ecc2-468f-92df-12f4cab3dc23",
   "metadata": {},
   "source": [
    "<img src=\"https://media0.giphy.com/media/8MIbW6rGduh30kpd5t/giphy.gif?cid=790b76117783e46f89fd7782861a51f1327132c4cb6e8559&rid=giphy.gif&ct=g\" width=\"150\" />"
   ]
  },
  {
   "cell_type": "markdown",
   "id": "55057ddc-8d2c-4acb-976e-a13dd12b262a",
   "metadata": {},
   "source": [
    "W pierwszej kolejności przygotowujemy layout."
   ]
  },
  {
   "cell_type": "code",
   "execution_count": null,
   "id": "5b50be2e-73eb-4156-833f-be80fb5ca929",
   "metadata": {},
   "outputs": [],
   "source": [
    "<?xml version=\"1.0\" encoding=\"utf-8\"?>\n",
    "<androidx.constraintlayout.widget.ConstraintLayout xmlns:android=\"http://schemas.android.com/apk/res/android\"\n",
    "    xmlns:app=\"http://schemas.android.com/apk/res-auto\"\n",
    "    xmlns:tools=\"http://schemas.android.com/tools\"\n",
    "    android:layout_width=\"match_parent\"\n",
    "    android:layout_height=\"match_parent\"\n",
    "    tools:context=\".MainActivity\">\n",
    "\n",
    "    <Button\n",
    "        android:id=\"@+id/homeButton\"\n",
    "        android:layout_width=\"wrap_content\"\n",
    "        android:layout_height=\"wrap_content\"\n",
    "        android:text=\"Open Homepage\"\n",
    "        app:layout_constraintBottom_toBottomOf=\"parent\"\n",
    "        app:layout_constraintLeft_toLeftOf=\"parent\"\n",
    "        app:layout_constraintRight_toRightOf=\"parent\"\n",
    "        app:layout_constraintTop_toTopOf=\"parent\" />\n",
    "\n",
    "</androidx.constraintlayout.widget.ConstraintLayout>"
   ]
  },
  {
   "cell_type": "markdown",
   "id": "c8dad009-25eb-4c80-a28b-10b98e332c0f",
   "metadata": {},
   "source": [
    "Dodajmy obsługę przycisku"
   ]
  },
  {
   "cell_type": "code",
   "execution_count": null,
   "id": "6eab79d2-77af-4436-b2d1-6d28770b4e28",
   "metadata": {},
   "outputs": [],
   "source": [
    "@Override\n",
    "protected void onCreate(Bundle savedInstanceState) {\n",
    "    super.onCreate(savedInstanceState);\n",
    "    setContentView(R.layout.activity_main);\n",
    "\n",
    "    Button button = findViewById(R.id.homeButton);\n",
    "    button.setOnClickListener(view -> {\n",
    "            \n",
    "    });\n",
    "}"
   ]
  },
  {
   "cell_type": "markdown",
   "id": "df5d3307-abe3-47ca-8ec2-d85fae3ec6ea",
   "metadata": {},
   "source": [
    "Zdefiniujmy `String` przechowujący adres url"
   ]
  },
  {
   "cell_type": "code",
   "execution_count": null,
   "id": "f02768a6-253e-4502-8d1b-bfce235d2f4d",
   "metadata": {},
   "outputs": [],
   "source": [
    "String url = \"http://wfia.uni.wroc.pl/\";"
   ]
  },
  {
   "cell_type": "markdown",
   "id": "0f77dd19-9c90-4ff4-afd0-03f74e1792ab",
   "metadata": {},
   "source": [
    "Następnie tworzymy obiekt `Uri` (łańcuch znaków zapisany zgodnie z określoną składnią) do którego przekazujemy adres."
   ]
  },
  {
   "cell_type": "code",
   "execution_count": null,
   "id": "a2f09cbd-f5f6-454e-9cea-64bfc52309e7",
   "metadata": {},
   "outputs": [],
   "source": [
    "Uri uri = Uri.parse(url);"
   ]
  },
  {
   "cell_type": "markdown",
   "id": "b264ad18-4f63-4c0b-ad22-1db601839538",
   "metadata": {},
   "source": [
    "W kolejnym kroku tworzę `Intent`, który przyjmuje dwa argumenty. Pierwszym jest rodzaj akcji który chcemy wykonać, drugim dane które przekażemy do wyselekcjonowanej aktywności."
   ]
  },
  {
   "cell_type": "code",
   "execution_count": null,
   "id": "d95fd960-73c9-477e-9085-33d9824062a6",
   "metadata": {},
   "outputs": [],
   "source": [
    "Intent intent = new Intent(Intent.ACTION_VIEW, uri);"
   ]
  },
  {
   "cell_type": "markdown",
   "id": "81096ead-4e19-4f55-a03a-666c159f1b80",
   "metadata": {},
   "source": [
    "Do `Intent` dodajmy odpowiednią kategorię - naszą kategorią jest `BROWSABLE`"
   ]
  },
  {
   "cell_type": "code",
   "execution_count": null,
   "id": "4d380e81-dcbb-47c8-b09a-43454a5ee034",
   "metadata": {},
   "outputs": [],
   "source": [
    "intent.addCategory(Intent.CATEGORY_BROWSABLE);"
   ]
  },
  {
   "cell_type": "markdown",
   "id": "052660fe-6d7c-4036-b2d5-30ad79d925eb",
   "metadata": {},
   "source": [
    "Kolejnym elementem jest sprawdzenie czy aktywność pozwalająca obsłużyć żądaną akcję istnieje na urządzeniu"
   ]
  },
  {
   "cell_type": "code",
   "execution_count": null,
   "id": "ea4b8996-3e54-4304-8f6e-1389d06e1e68",
   "metadata": {},
   "outputs": [],
   "source": [
    "if (intent.resolveActivity(getPackageManager()) != null)"
   ]
  },
  {
   "cell_type": "markdown",
   "id": "0e4efbc1-3dec-42c1-9211-8e0f48677ad9",
   "metadata": {},
   "source": [
    "\n",
    "Metoda `resolveActiviy` zwraca `null` gdy taka aktywność nie istnieje. Listę wszystkich aktywności przechowuje `PackageManager` do instancji którego możemy się dostać wywołując metodę `getPackageManager`.\n",
    "\n",
    "Od **Android 11 (API 30)** w tym miejscu dostaniemy *warning* mówiący o użyciu tagów `<queries>`. Jest to związane z wprowadzonym od API 30 filtrowaniem widoczności pakietów - aby ograniczyć widoczność wszystkich pakietów (aplikacji zainstalowanych na urządzeniu). Niektóre aplikacje są widoczne automatycznie, aby dostać się do innych należy w naszej aplikacji określić jawnie jakie informacje są potrzebne.\n",
    "\n",
    "Możemy to zrobić w `AndroidManifest.xml`"
   ]
  },
  {
   "cell_type": "code",
   "execution_count": null,
   "id": "9c762b26-94b9-4bc4-9020-4760c6a720e6",
   "metadata": {},
   "outputs": [],
   "source": [
    "<?xml version=\"1.0\" encoding=\"utf-8\"?>\n",
    "<manifest xmlns:android=\"http://schemas.android.com/apk/res/android\"\n",
    "    package=\"pl.edu.uwr.pum.implicitintentjava\">\n",
    "\n",
    "    <queries>\n",
    "        <intent>\n",
    "            <action android:name=\"android.intent.action.VIEW\" />\n",
    "            <category android:name=\"android.intent.category.BROWSABLE\" />\n",
    "            <data android:scheme=\"https\" />\n",
    "        </intent>\n",
    "    </queries>\n",
    "    ..."
   ]
  },
  {
   "cell_type": "markdown",
   "id": "4e83346a-bd20-4f9b-ba37-fb360144c2b3",
   "metadata": {},
   "source": [
    "Tutaj musimy sprecyzować trzy rzeczy\n",
    "- `action` - jaką akcję chcemy wykonać - odpowiada akcji utworzonego `Intent`\n",
    "- `category` - kategorię `Intent` - tutaj jest to `BROWSABLE`. \n",
    "\n",
    "W aplikacji mamy również dostęp do filtrów intentów, który możemy odnaleźć przy definicji naszejj aktywności głównej w plioku `AndroidManifest`"
   ]
  },
  {
   "cell_type": "code",
   "execution_count": null,
   "id": "8d03285b-664a-4dff-bcd5-0947dda21ed4",
   "metadata": {},
   "outputs": [],
   "source": [
    "<intent-filter>\n",
    "    <action android:name=\"android.intent.action.MAIN\" />\n",
    "\n",
    "    <category android:name=\"android.intent.category.LAUNCHER\" />\n",
    "</intent-filter>"
   ]
  },
  {
   "cell_type": "markdown",
   "id": "e93265bf-5b3f-4433-9cc2-57b69f7b71e3",
   "metadata": {},
   "source": [
    "To właśnie tutaj możemy określić kategorię i akcje jakie nasza aplikacja może obsłużyć - ta informacja trafia do `PackageManagera`. Jeżeli inna aplikacja zażąda wykonania akcji, którą nasza aplikacja jest w stanie obsłużyć - zostanie ona otwarta gdy jest jedyną aplikacją przypisaną do tej konkretnej akcji, lub zostanie pokazana w selektorze aplikacji wraz ze wszystkimi innymi mogącymi obsłużyć tą akcję.\n",
    "- `data` - schemat danych który będziemy przekazywać."
   ]
  },
  {
   "cell_type": "markdown",
   "id": "c5de4182-e2e5-44bd-8051-c2169eb4e186",
   "metadata": {},
   "source": [
    "Pozostaje już tylko włączyć aktywność wywołując metodą `startActivity`.\n",
    "\n",
    "Pełny kod metody `onCreate`"
   ]
  },
  {
   "cell_type": "code",
   "execution_count": null,
   "id": "59a719da-7e5d-4d30-b619-0ecf2ae73134",
   "metadata": {},
   "outputs": [],
   "source": [
    "@Override\n",
    "protected void onCreate(Bundle savedInstanceState) {\n",
    "    super.onCreate(savedInstanceState);\n",
    "    setContentView(R.layout.activity_main);\n",
    "\n",
    "    Button button = findViewById(R.id.homeButton);\n",
    "    button.setOnClickListener(view -> {\n",
    "    String url = \"http://wfia.uni.wroc.pl/\";\n",
    "    Uri uri = Uri.parse(url);\n",
    "\n",
    "    Intent intent = new Intent(Intent.ACTION_VIEW, uri);\n",
    "    intent.addCategory(Intent.CATEGORY_BROWSABLE);\n",
    "\n",
    "    if (intent.resolveActivity(getPackageManager()) != null)\n",
    "        startActivity(intent);\n",
    "    });\n",
    "}"
   ]
  },
  {
   "cell_type": "markdown",
   "id": "42801bb9-d67f-4900-87b9-dd05b8c6fe18",
   "metadata": {},
   "source": [
    "Możemy przetestować aplikację - po naciśnięciu przycisku powinna włączyć się domyślna przeglądarka lub selektor aplikacji."
   ]
  },
  {
   "cell_type": "code",
   "execution_count": null,
   "id": "5a4ab91d-a8c5-4678-947e-e546c46f463e",
   "metadata": {},
   "outputs": [],
   "source": []
  }
 ],
 "metadata": {
  "kernelspec": {
   "display_name": "Kotlin",
   "language": "kotlin",
   "name": "kotlin"
  },
  "language_info": {
   "codemirror_mode": "text/x-kotlin",
   "file_extension": ".kt",
   "mimetype": "text/x-kotlin",
   "name": "kotlin",
   "nbconvert_exporter": "",
   "pygments_lexer": "kotlin",
   "version": "1.8.0-RC"
  }
 },
 "nbformat": 4,
 "nbformat_minor": 5
}
