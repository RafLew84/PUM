{
 "cells": [
  {
   "cell_type": "markdown",
   "id": "9566fc3f-00c1-4a59-a49e-72673a068065",
   "metadata": {},
   "source": [
    "# 2.3 Implicit Intent"
   ]
  },
  {
   "cell_type": "markdown",
   "id": "771593c8-19c7-48c9-a76e-f8b00e2a2444",
   "metadata": {},
   "source": [
    "W tej aplikacji wykorzystamy mechanizm intentów domniemanych - wyślemy żądanie obłużenia adresu **url** strony domowej naszego wydziału. W pierwszej kolejności przygotowujemy layout."
   ]
  },
  {
   "cell_type": "markdown",
   "id": "359f6332-75e9-4f85-8d9e-e48253d12311",
   "metadata": {},
   "source": [
    "```xml\n",
    "<?xml version=\"1.0\" encoding=\"utf-8\"?>\n",
    "<androidx.constraintlayout.widget.ConstraintLayout xmlns:android=\"http://schemas.android.com/apk/res/android\"\n",
    "    xmlns:app=\"http://schemas.android.com/apk/res-auto\"\n",
    "    xmlns:tools=\"http://schemas.android.com/tools\"\n",
    "    android:layout_width=\"match_parent\"\n",
    "    android:layout_height=\"match_parent\"\n",
    "    tools:context=\".MainActivity\">\n",
    "\n",
    "    <Button\n",
    "        android:id=\"@+id/homeButton\"\n",
    "        android:layout_width=\"wrap_content\"\n",
    "        android:layout_height=\"wrap_content\"\n",
    "        android:text=\"Open Homepage\"\n",
    "        app:layout_constraintBottom_toBottomOf=\"parent\"\n",
    "        app:layout_constraintLeft_toLeftOf=\"parent\"\n",
    "        app:layout_constraintRight_toRightOf=\"parent\"\n",
    "        app:layout_constraintTop_toTopOf=\"parent\" />\n",
    "\n",
    "</androidx.constraintlayout.widget.ConstraintLayout>\n",
    "```"
   ]
  },
  {
   "cell_type": "markdown",
   "id": "c8dad009-25eb-4c80-a28b-10b98e332c0f",
   "metadata": {},
   "source": [
    "Dodajmy obsługę przycisku"
   ]
  },
  {
   "cell_type": "markdown",
   "id": "fa01f2f5-e77b-4b99-aafa-063ec591d944",
   "metadata": {},
   "source": [
    "```java\n",
    "    @Override\n",
    "    protected void onCreate(Bundle savedInstanceState) {\n",
    "        super.onCreate(savedInstanceState);\n",
    "        setContentView(R.layout.activity_main);\n",
    "\n",
    "        Button button = findViewById(R.id.homeButton);\n",
    "        button.setOnClickListener(view -> {\n",
    "            \n",
    "        });\n",
    "    }\n",
    "```"
   ]
  },
  {
   "cell_type": "markdown",
   "id": "df5d3307-abe3-47ca-8ec2-d85fae3ec6ea",
   "metadata": {},
   "source": [
    "Zdefiniujmy `String` przechowujący adres url\n",
    "\n",
    "```java\n",
    "String url = \"http://wfia.uni.wroc.pl/\";\n",
    "```\n",
    "\n",
    "Następnie tworzymy obiekt `Uri` (łańcuch znaków zapisany zgodnie z określoną składnią) do którego przekazujemy adres.\n",
    "\n",
    "```java\n",
    "Uri uri = Uri.parse(url);\n",
    "```\n",
    "\n",
    "W kolejnym kroku tworzę `Intent`, który przyjmuje dwa argumenty. Pierwszym jest rodzaj akcji który chcemy wykonać, drugim dane które przekażemy do wyselekcjonowanej aktywności.\n",
    "\n",
    "```java\n",
    "Intent intent = new Intent(Intent.ACTION_VIEW, uri);\n",
    "```\n",
    "\n",
    "Do `Intent` dodajmy odpowiednią kategorię - naszą kategorią jest `BROWSABLE`\n",
    "\n",
    "```java\n",
    "intent.addCategory(Intent.CATEGORY_BROWSABLE);\n",
    "```\n",
    "\n",
    "Kolejnym elementem jest sprawdzenie czy aktywność pozwalająca obsłużyć żądaną akcję istnieje na urządzeniu\n",
    "\n",
    "```java\n",
    "if (intent.resolveActivity(getPackageManager()) != null)\n",
    "```\n",
    "\n",
    "Metoda `resolveActiviy` zwraca `null` gdy taka aktywność nie istnieje. Listę wszystkich aktywności przechowuje `PackageManager` do instancji którego możemy się dostać wywołując metodę `getPackageManager`.\n",
    "\n",
    "Od **Android 11 (API 30)** w tym miejscu dostaniemy *warning* mówiący o użyciu tagów `<queries>`. Jest to związane z wprowadzonym od API 30 filtrowaniem widoczności pakietów - aby ograniczyć widoczność wszystkich pakietów (aplikacji zainstalowanych na urządzeniu). Niektóre aplikacje są widoczne automatycznie, aby dostać się do innych należy w naszej aplikacji określić jawnie jakie informacje są potrzebne.\n",
    "\n",
    "Możemy to zrobić w `AndroidManifest.xml`"
   ]
  },
  {
   "cell_type": "markdown",
   "id": "f0bb7789-c865-42a3-b3f4-34b93bbad72d",
   "metadata": {},
   "source": [
    "```xml\n",
    "<?xml version=\"1.0\" encoding=\"utf-8\"?>\n",
    "<manifest xmlns:android=\"http://schemas.android.com/apk/res/android\"\n",
    "    package=\"pl.edu.uwr.pum.implicitintentjava\">\n",
    "\n",
    "    <queries>\n",
    "        <intent>\n",
    "            <action android:name=\"android.intent.action.VIEW\" />\n",
    "            <category android:name=\"android.intent.category.BROWSABLE\" />\n",
    "            <data android:scheme=\"https\" />\n",
    "        </intent>\n",
    "    </queries>\n",
    "    ...\n",
    "```"
   ]
  },
  {
   "cell_type": "markdown",
   "id": "4e83346a-bd20-4f9b-ba37-fb360144c2b3",
   "metadata": {},
   "source": [
    "Tutaj musimy sprecyzować trzy rzeczy\n",
    "- `action` - jaką akcję chcemy wykonać - odpowiada akcji utworzonego `Intent`\n",
    "- `category` - kategorię `Intent` - tutaj jest to `BROWSABLE`. \n",
    "\n",
    "W aplikacji mamy również dostęp do filtrów intentów, który możemy odnaleźć przy definicji naszejj aktywności głównej w plioku `AndroidManifest`\n",
    "\n",
    "```xml\n",
    "<intent-filter>\n",
    "    <action android:name=\"android.intent.action.MAIN\" />\n",
    "\n",
    "    <category android:name=\"android.intent.category.LAUNCHER\" />\n",
    "</intent-filter>\n",
    "```\n",
    "\n",
    "To właśnie tutaj możemy określić kategorię i akcje jakie nasza aplikacja może obsłużyć - ta informacja trafia do `PackageManagera`. Jeżeli inna aplikacja zażąda wykonania akcji, którą nasza aplikacja jest w stanie obsłużyć - zostanie ona otwarta gdy jest jedyną aplikacją przypisaną do tej konkretnej akcji, lub zostanie pokazana w selektorze aplikacji wraz ze wszystkimi innymi mogącymi obsłużyć tą akcję.\n",
    "- `data` - schemat danych który będziemy przekazywać."
   ]
  },
  {
   "cell_type": "markdown",
   "id": "c5de4182-e2e5-44bd-8051-c2169eb4e186",
   "metadata": {},
   "source": [
    "Pozostaje już tylko włączyć aktywność wywołując metodą `startActivity`.\n",
    "\n",
    "Pełny kod metody `onCreate`\n",
    "\n",
    "```java\n",
    "    @Override\n",
    "    protected void onCreate(Bundle savedInstanceState) {\n",
    "        super.onCreate(savedInstanceState);\n",
    "        setContentView(R.layout.activity_main);\n",
    "\n",
    "        Button button = findViewById(R.id.homeButton);\n",
    "        button.setOnClickListener(view -> {\n",
    "            String url = \"http://wfia.uni.wroc.pl/\";\n",
    "            Uri uri = Uri.parse(url);\n",
    "\n",
    "            Intent intent = new Intent(Intent.ACTION_VIEW, uri);\n",
    "            intent.addCategory(Intent.CATEGORY_BROWSABLE);\n",
    "\n",
    "            if (intent.resolveActivity(getPackageManager()) != null)\n",
    "                startActivity(intent);\n",
    "        });\n",
    "    }\n",
    "```"
   ]
  },
  {
   "cell_type": "markdown",
   "id": "42801bb9-d67f-4900-87b9-dd05b8c6fe18",
   "metadata": {},
   "source": [
    "Możemy przetestować aplikację - po naciśnięciu przycisku powinna włączyć się domyślna przeglądarka lub selektor aplikacji."
   ]
  },
  {
   "cell_type": "code",
   "execution_count": null,
   "id": "5a4ab91d-a8c5-4678-947e-e546c46f463e",
   "metadata": {},
   "outputs": [],
   "source": []
  }
 ],
 "metadata": {
  "kernelspec": {
   "display_name": "Java",
   "language": "java",
   "name": "java"
  },
  "language_info": {
   "codemirror_mode": "java",
   "file_extension": ".jshell",
   "mimetype": "text/x-java-source",
   "name": "Java",
   "pygments_lexer": "java",
   "version": "17+35-2724"
  }
 },
 "nbformat": 4,
 "nbformat_minor": 5
}
