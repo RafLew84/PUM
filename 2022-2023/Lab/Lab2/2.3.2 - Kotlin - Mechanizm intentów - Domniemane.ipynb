{
 "cells": [
  {
   "cell_type": "markdown",
   "id": "06e41338-6534-428e-8e9c-8bda2f3a4c08",
   "metadata": {},
   "source": [
    "# 2.3 Implicit Intent"
   ]
  },
  {
   "cell_type": "markdown",
   "id": "d231b083-e748-4fce-ac95-8f1a0525777f",
   "metadata": {},
   "source": [
    "W tej aplikacji wykorzystamy mechanizm intentów domniemanych - wyślemy żądanie obłużenia adresu **url** strony domowej naszego wydziału. "
   ]
  },
  {
   "cell_type": "markdown",
   "id": "24e6f3c8-c3a0-4b14-aa8f-5df73db7d8b4",
   "metadata": {},
   "source": [
    "<img src=\"https://media0.giphy.com/media/8MIbW6rGduh30kpd5t/giphy.gif?cid=790b76117783e46f89fd7782861a51f1327132c4cb6e8559&rid=giphy.gif&ct=g\" width=\"150\" />"
   ]
  },
  {
   "cell_type": "markdown",
   "id": "347b2b22-94f4-4f80-9ea0-c750b83378c1",
   "metadata": {},
   "source": [
    "W pierwszej kolejności przygotowujemy layout."
   ]
  },
  {
   "cell_type": "code",
   "execution_count": null,
   "id": "2399d280-6268-4d5d-87d7-64920f343dd6",
   "metadata": {},
   "outputs": [],
   "source": [
    "<?xml version=\"1.0\" encoding=\"utf-8\"?>\n",
    "<androidx.constraintlayout.widget.ConstraintLayout xmlns:android=\"http://schemas.android.com/apk/res/android\"\n",
    "    xmlns:app=\"http://schemas.android.com/apk/res-auto\"\n",
    "    xmlns:tools=\"http://schemas.android.com/tools\"\n",
    "    android:layout_width=\"match_parent\"\n",
    "    android:layout_height=\"match_parent\"\n",
    "    tools:context=\".MainActivity\">\n",
    "\n",
    "    <Button\n",
    "        android:id=\"@+id/homeButton\"\n",
    "        android:layout_width=\"wrap_content\"\n",
    "        android:layout_height=\"wrap_content\"\n",
    "        android:text=\"Open Homepage\"\n",
    "        app:layout_constraintBottom_toBottomOf=\"parent\"\n",
    "        app:layout_constraintLeft_toLeftOf=\"parent\"\n",
    "        app:layout_constraintRight_toRightOf=\"parent\"\n",
    "        app:layout_constraintTop_toTopOf=\"parent\" />\n",
    "\n",
    "</androidx.constraintlayout.widget.ConstraintLayout>"
   ]
  },
  {
   "cell_type": "markdown",
   "id": "21de38f7-0040-483d-af09-40203842cf62",
   "metadata": {},
   "source": [
    "Dodajmy obsługę przycisku"
   ]
  },
  {
   "cell_type": "code",
   "execution_count": null,
   "id": "5468c350-c458-4c40-9627-34aa0ae79c15",
   "metadata": {},
   "outputs": [],
   "source": [
    "    override fun onCreate(savedInstanceState: Bundle?) {\n",
    "        super.onCreate(savedInstanceState)\n",
    "        setContentView(R.layout.activity_main)\n",
    "\n",
    "        findViewById<Button>(R.id.homeButton).setOnClickListener{\n",
    "            \n",
    "        }\n",
    "    }"
   ]
  },
  {
   "cell_type": "markdown",
   "id": "74545208-c59e-4513-afb3-2adeffac0aad",
   "metadata": {},
   "source": [
    "Zdefiniujmy `String` przechowujący adres url"
   ]
  },
  {
   "cell_type": "code",
   "execution_count": null,
   "id": "5172df73-2274-4d31-9e01-02a5ad157d00",
   "metadata": {},
   "outputs": [],
   "source": [
    "val url = \"http://wfia.uni.wroc.pl/\""
   ]
  },
  {
   "cell_type": "markdown",
   "id": "94c879b9-6267-4acc-9fe7-1675a88463a5",
   "metadata": {},
   "source": [
    "W kolejnym kroku tworzę `Intent`, który przyjmuje dwa argumenty. Pierwszym jest rodzaj akcji który chcemy wykonać, drugim dane które przekażemy do wyselekcjonowanej aktywności. Dane przekazujemy jako obiekt `Uri` (łańcuch znaków zapisany zgodnie z określoną składnią), do którego przekazujemy adres."
   ]
  },
  {
   "cell_type": "code",
   "execution_count": null,
   "id": "31c14a04-18a7-4b67-88dc-a3f5fe2ba071",
   "metadata": {},
   "outputs": [],
   "source": [
    "val intent = Intent(Intent.ACTION_VIEW, Uri.parse(url)).apply{\n",
    "    addCategory(CATEGORY_BROWSABLE)\n",
    "}"
   ]
  },
  {
   "cell_type": "markdown",
   "id": "6995c0af-c0dc-450e-88ee-55bf75532372",
   "metadata": {},
   "source": [
    "Do `Intent` dodajemy odpowiednią kategorię - naszą kategorią jest `BROWSABLE`\n",
    "\n",
    "Kolejnym elementem jest sprawdzenie czy aktywność pozwalająca obsłużyć żądaną akcję istnieje na urządzeniu"
   ]
  },
  {
   "cell_type": "code",
   "execution_count": null,
   "id": "673c3454-2de4-4164-946b-45920611acaf",
   "metadata": {},
   "outputs": [],
   "source": [
    "if (intent.resolveActivity(packageManager) != null)"
   ]
  },
  {
   "cell_type": "markdown",
   "id": "2a5f9eee-4670-4bc0-b77a-3e292ffb81d9",
   "metadata": {},
   "source": [
    "Metoda `resolveActiviy` zwraca `null` gdy taka aktywność nie istnieje. Listę wszystkich aktywności przechowuje `PackageManager` do instancji którego możemy się dostać wywołując `packageManager`.\n",
    "\n",
    "Od **Android 11 (API 30)** w tym miejscu dostaniemy *warning* mówiący o użyciu tagów `<queries>`. Jest to związane z wprowadzonym od API 30 filtrowaniem widoczności pakietów - aby ograniczyć widoczność wszystkich pakietów (aplikacji zainstalowanych na urządzeniu). Niektóre aplikacje są widoczne automatycznie, aby dostać się do innych należy w naszej aplikacji określić jawnie jakie informacje są potrzebne.\n",
    "\n",
    "Możemy to zrobić w `AndroidManifest.xml`"
   ]
  },
  {
   "cell_type": "code",
   "execution_count": null,
   "id": "4f0465a0-3b66-4e20-8154-b4fdc3306496",
   "metadata": {},
   "outputs": [],
   "source": [
    "<?xml version=\"1.0\" encoding=\"utf-8\"?>\n",
    "<manifest xmlns:android=\"http://schemas.android.com/apk/res/android\"\n",
    "    package=\"pl.edu.uwr.pum.implicitintentjava\">\n",
    "\n",
    "    <queries>\n",
    "        <intent>\n",
    "            <action android:name=\"android.intent.action.VIEW\" />\n",
    "            <category android:name=\"android.intent.category.BROWSABLE\" />\n",
    "            <data android:scheme=\"https\" />\n",
    "        </intent>\n",
    "    </queries>\n",
    "    ..."
   ]
  },
  {
   "cell_type": "markdown",
   "id": "c26ccbb4-ac63-42c5-9ac9-fb61ae7d6738",
   "metadata": {},
   "source": [
    "Tutaj musimy sprecyzować trzy rzeczy\n",
    "- `action` - jaką akcję chcemy wykonać - odpowiada akcji utworzonego `Intent`\n",
    "- `category` - kategorię `Intent` - tutaj jest to `BROWSABLE`. \n",
    "\n",
    "W aplikacji mamy również dostęp do filtrów intentów, który możemy odnaleźć przy definicji naszejj aktywności głównej w plioku `AndroidManifest`"
   ]
  },
  {
   "cell_type": "code",
   "execution_count": null,
   "id": "92fac09e-f749-49d0-83d2-b018a08ad6b0",
   "metadata": {},
   "outputs": [],
   "source": [
    "<intent-filter>\n",
    "    <action android:name=\"android.intent.action.MAIN\" />\n",
    "\n",
    "    <category android:name=\"android.intent.category.LAUNCHER\" />\n",
    "</intent-filter>"
   ]
  },
  {
   "cell_type": "markdown",
   "id": "210d59bd-4235-43e5-80a2-43c5271a4c70",
   "metadata": {},
   "source": [
    "To właśnie tutaj możemy określić kategorię i akcje jakie nasza aplikacja może obsłużyć - ta informacja trafia do `PackageManagera`. Jeżeli inna aplikacja zażąda wykonania akcji, którą nasza aplikacja jest w stanie obsłużyć - zostanie ona otwarta gdy jest jedyną aplikacją przypisaną do tej konkretnej akcji, lub zostanie pokazana w selektorze aplikacji wraz ze wszystkimi innymi mogącymi obsłużyć tą akcję.\n",
    "- `data` - schemat danych który będziemy przekazywać."
   ]
  },
  {
   "cell_type": "markdown",
   "id": "9ae2d174-9e27-4bca-8fe3-d04bfe81aea7",
   "metadata": {},
   "source": [
    "Pozostaje już tylko włączyć aktywność wywołując metodą `startActivity`.\n",
    "\n",
    "Pełny kod metody `onCreate`"
   ]
  },
  {
   "cell_type": "code",
   "execution_count": null,
   "id": "9425ddab-0027-40aa-b7bc-6f66edb5eb58",
   "metadata": {},
   "outputs": [],
   "source": [
    "    override fun onCreate(savedInstanceState: Bundle?) {\n",
    "        super.onCreate(savedInstanceState)\n",
    "        setContentView(R.layout.activity_main)\n",
    "\n",
    "        findViewById<Button>(R.id.homeButton).setOnClickListener{\n",
    "            val url = \"http://wfia.uni.wroc.pl/\"\n",
    "            val intent = Intent(Intent.ACTION_VIEW, Uri.parse(url)).apply{\n",
    "                addCategory(CATEGORY_BROWSABLE)\n",
    "            }\n",
    "\n",
    "            if (intent.resolveActivity(packageManager) != null)\n",
    "                startActivity(intent)\n",
    "        }\n",
    "    }"
   ]
  },
  {
   "cell_type": "markdown",
   "id": "bbf26873-66fe-4d3d-bc33-1bda51325282",
   "metadata": {},
   "source": [
    "Możemy przetestować aplikację - po naciśnięciu przycisku powinna włączyć się domyślna przeglądarka lub selektor aplikacji."
   ]
  },
  {
   "cell_type": "code",
   "execution_count": null,
   "id": "25722001-1dff-4869-9874-51dc9a3aa2b2",
   "metadata": {},
   "outputs": [],
   "source": []
  }
 ],
 "metadata": {
  "kernelspec": {
   "display_name": "Kotlin",
   "language": "kotlin",
   "name": "kotlin"
  },
  "language_info": {
   "codemirror_mode": "text/x-kotlin",
   "file_extension": ".kt",
   "mimetype": "text/x-kotlin",
   "name": "kotlin",
   "nbconvert_exporter": "",
   "pygments_lexer": "kotlin",
   "version": "1.8.0-RC"
  }
 },
 "nbformat": 4,
 "nbformat_minor": 5
}
