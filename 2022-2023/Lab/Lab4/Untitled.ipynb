{
 "cells": [
  {
   "cell_type": "markdown",
   "id": "069d3f06-a735-4aa6-a50d-3af8cdf57df0",
   "metadata": {},
   "source": [
    "## 4.4 ListOfLists"
   ]
  },
  {
   "cell_type": "markdown",
   "id": "3707f445-f8bb-42b0-b243-7044cc095ede",
   "metadata": {},
   "source": [
    "Wykorzystamy `Jetpack Navigation` wraz z `RecyclerView` aby stworzyć prostą aplikację w modelu **master-detail**."
   ]
  },
  {
   "cell_type": "code",
   "execution_count": null,
   "id": "ea845e8c-51fd-4661-bca9-01940fa76141",
   "metadata": {},
   "outputs": [],
   "source": []
  },
  {
   "cell_type": "markdown",
   "id": "79311e44-ff75-454d-9e14-ae47fd984602",
   "metadata": {},
   "source": [
    "### **Fragmenty**"
   ]
  },
  {
   "cell_type": "markdown",
   "id": "845b8b6c-c2c3-404a-aebd-25306e3958d3",
   "metadata": {},
   "source": [
    "W aplikacji będziemy posiadać dwa fragmenty hostowane przez aktywność. Oba fragmenty będą zawierać `RecyclerView` - na jednym będzie znajdowała się lista liter, nac drugim lista słów na daną literę. Rozpocznijmy od dodania dwóch fragmentów."
   ]
  },
  {
   "cell_type": "code",
   "execution_count": null,
   "id": "dc47802e-4ca8-443a-8e8d-1b6e7ee066e1",
   "metadata": {},
   "outputs": [],
   "source": [
    "class LetterFragment : Fragment() {\n",
    "\n",
    "    override fun onCreateView(\n",
    "        inflater: LayoutInflater, container: ViewGroup?,\n",
    "        savedInstanceState: Bundle?\n",
    "    ): View? {\n",
    "        return inflater.inflate(R.layout.fragment_letter, container, false)\n",
    "    }\n",
    "}"
   ]
  },
  {
   "cell_type": "markdown",
   "id": "697ed719-1a82-4119-a20c-b307b1606e4d",
   "metadata": {},
   "source": [
    "```xml\n",
    "<FrameLayout xmlns:android=\"http://schemas.android.com/apk/res/android\"\n",
    "    xmlns:tools=\"http://schemas.android.com/tools\"\n",
    "    android:layout_width=\"match_parent\"\n",
    "    android:layout_height=\"match_parent\"\n",
    "    tools:context=\".LetterFragment\">\n",
    "\n",
    "    <androidx.recyclerview.widget.RecyclerView\n",
    "        android:id=\"@+id/letterRecyclerView\"\n",
    "        android:layout_width=\"match_parent\"\n",
    "        android:layout_height=\"match_parent\"\n",
    "        android:clipToPadding=\"false\"\n",
    "        android:padding=\"16dp\" />\n",
    "\n",
    "</FrameLayout>\n",
    "```"
   ]
  },
  {
   "cell_type": "code",
   "execution_count": null,
   "id": "c0d98453-fe5a-4926-baaa-88b0c89a3002",
   "metadata": {},
   "outputs": [],
   "source": [
    "class WordFragment : Fragment() {\n",
    "\n",
    "    override fun onCreateView(\n",
    "        inflater: LayoutInflater, container: ViewGroup?,\n",
    "        savedInstanceState: Bundle?\n",
    "    ): View? {\n",
    "        return inflater.inflate(R.layout.fragment_word, container, false)\n",
    "    }\n",
    "}"
   ]
  },
  {
   "cell_type": "markdown",
   "id": "2e7326c1-bf27-447d-8de5-0502cf601335",
   "metadata": {},
   "source": [
    "```xml\n",
    "<FrameLayout xmlns:android=\"http://schemas.android.com/apk/res/android\"\n",
    "    xmlns:tools=\"http://schemas.android.com/tools\"\n",
    "    android:layout_width=\"match_parent\"\n",
    "    android:layout_height=\"match_parent\"\n",
    "    tools:context=\".WordFragment\">\n",
    "\n",
    "    <androidx.recyclerview.widget.RecyclerView\n",
    "        android:id=\"@+id/wordRecyclerView\"\n",
    "        android:layout_width=\"match_parent\"\n",
    "        android:layout_height=\"match_parent\"\n",
    "        android:clipToPadding=\"false\"\n",
    "        android:padding=\"16dp\" />\n",
    "\n",
    "</FrameLayout>\n",
    "```"
   ]
  },
  {
   "cell_type": "markdown",
   "id": "8f1acb45-e720-4429-86f7-113ac578f02a",
   "metadata": {},
   "source": [
    "### **Adaptery**"
   ]
  },
  {
   "cell_type": "markdown",
   "id": "0f7fcc5f-7808-40c4-9ec3-5d2496718a49",
   "metadata": {},
   "source": [
    "W kolejnym kroku napiszemy adaptery dla liter i słów. Rozpocznijmy od layoutu który będą wykorzystywały oba adaptery (`item_view.xml`)\n",
    "\n",
    "```xml\n",
    "<?xml version=\"1.0\" encoding=\"utf-8\"?>\n",
    "<Button xmlns:android=\"http://schemas.android.com/apk/res/android\"\n",
    "    android:id=\"@+id/button_item\"\n",
    "    android:layout_width=\"match_parent\"\n",
    "    android:layout_height=\"wrap_content\"\n",
    "    android:layout_margin=\"4dp\"\n",
    "    android:padding=\"8dp\" />\n",
    "```"
   ]
  },
  {
   "cell_type": "markdown",
   "id": "f39ea0f2-6c6d-4ad8-9d1a-5121b349b34a",
   "metadata": {},
   "source": [
    "Przejdźmy do `LetterAdapter`"
   ]
  },
  {
   "cell_type": "code",
   "execution_count": null,
   "id": "6b208131-7e9d-4393-8fa4-12ea38e39db1",
   "metadata": {},
   "outputs": [],
   "source": [
    "class LetterAdapter : RecyclerView.Adapter<LetterAdapter.LetterViewHolder>(){\n",
    "    private val list = ('A').rangeTo('Z').toList()\n",
    "\n",
    "    class LetterViewHolder(private val view: View) : RecyclerView.ViewHolder(view) {\n",
    "        val button: Button = view.findViewById(R.id.button_item)\n",
    "    }\n",
    "\n",
    "    override fun getItemCount(): Int = list.size\n",
    "\n",
    "    override fun onCreateViewHolder(parent: ViewGroup, viewType: Int): LetterViewHolder {\n",
    "        return LetterViewHolder(LayoutInflater\n",
    "            .from(parent.context)\n",
    "            .inflate(R.layout.item_view, parent, false))\n",
    "    }\n",
    "\n",
    "    override fun onBindViewHolder(holder: LetterViewHolder, position: Int) {\n",
    "        val item = list[position]\n",
    "        holder.button.text = item.toString()\n",
    "    }\n",
    "}"
   ]
  },
  {
   "cell_type": "markdown",
   "id": "b1c5cbb1-02fa-4cc4-b427-30e5efcc6823",
   "metadata": {},
   "source": [
    "`WordAdapter` będzie zawierał listę słów zaczynających się na literę, którą użytkownik wybierze na ekranie `FragmentLetter` - lista wszystkich śłów znajduje się w pliku `arrays.xml`"
   ]
  },
  {
   "cell_type": "code",
   "execution_count": null,
   "id": "a5a03a9e-5db5-4596-bf02-468a540cfe56",
   "metadata": {},
   "outputs": [],
   "source": [
    "class WordAdapter(private val letter: String, context: Context) :\n",
    "    RecyclerView.Adapter<WordAdapter.WordViewHolder>() {}"
   ]
  },
  {
   "cell_type": "markdown",
   "id": "602780a3-a92a-4092-9d90-926c1fafc856",
   "metadata": {},
   "source": [
    "W konstruktorze głównym `WordAdapter` przyjmuje literę, który będzie wykorzystywany do przefiltrowania listy wszystkich słów. Wczytywanie oraz filtrowanie wykonujemy w bloku `init`"
   ]
  },
  {
   "cell_type": "code",
   "execution_count": null,
   "id": "159ea0ec-2492-499f-9dc8-e5193a9aaf70",
   "metadata": {},
   "outputs": [],
   "source": [
    "class WordAdapter(private val letterId: String, context: Context) :\n",
    "    RecyclerView.Adapter<WordAdapter.WordViewHolder>() {\n",
    "\n",
    "    private val words: List<String>\n",
    "\n",
    "    init {\n",
    "        words = context.resources.getStringArray(R.array.words).toList()\n",
    "            .filter { it.startsWith(letterId, ignoreCase = true) }\n",
    "    }\n",
    "\n",
    "    class WordViewHolder(private val view: View) : RecyclerView.ViewHolder(view) {\n",
    "        val button: Button = view.findViewById(R.id.button_item)\n",
    "    }\n",
    "\n",
    "    override fun getItemCount(): Int = words.size\n",
    "\n",
    "    override fun onCreateViewHolder(parent: ViewGroup, viewType: Int): WordViewHolder {\n",
    "        return WordViewHolder(LayoutInflater\n",
    "            .from(parent.context)\n",
    "            .inflate(R.layout.item_view, parent, false))\n",
    "    }\n",
    "\n",
    "    override fun onBindViewHolder(holder: WordViewHolder, position: Int) {\n",
    "        val item = words[position]\n",
    "        holder.button.text = item\n",
    "    }\n",
    "}"
   ]
  },
  {
   "cell_type": "markdown",
   "id": "91830a3f-e473-436e-9d2f-5684f087ad4f",
   "metadata": {},
   "source": [
    "Dodajmy `RecyclerView` do `LetterFragment` oraz połączmy go z `LetterAdapter` -wykonujemy to w metodzie `onViewCreated`"
   ]
  },
  {
   "cell_type": "code",
   "execution_count": null,
   "id": "76861871-6ff6-4e39-981f-dd291705f2f6",
   "metadata": {},
   "outputs": [],
   "source": [
    "class LetterFragment : Fragment() {\n",
    "\n",
    "    override fun onCreateView(\n",
    "        inflater: LayoutInflater, container: ViewGroup?,\n",
    "        savedInstanceState: Bundle?\n",
    "    ): View? {\n",
    "        return inflater.inflate(R.layout.fragment_letter, container, false)\n",
    "    }\n",
    "\n",
    "    override fun onViewCreated(view: View, savedInstanceState: Bundle?) {\n",
    "        super.onViewCreated(view, savedInstanceState)\n",
    "        val recyclerView: RecyclerView = view.findViewById(R.id.letterRecyclerView)\n",
    "        recyclerView.layoutManager = LinearLayoutManager(context)\n",
    "        recyclerView.adapter = LetterAdapter()\n",
    "    }\n",
    "}"
   ]
  },
  {
   "cell_type": "markdown",
   "id": "3c5b982f-c4f6-4236-bd39-beca0bb637ec",
   "metadata": {},
   "source": [
    "### **Nawigacja**"
   ]
  },
  {
   "cell_type": "code",
   "execution_count": null,
   "id": "a42a0422-574c-48ed-9e94-ae6b59890fed",
   "metadata": {},
   "outputs": [],
   "source": []
  }
 ],
 "metadata": {
  "kernelspec": {
   "display_name": "Kotlin",
   "language": "kotlin",
   "name": "kotlin"
  },
  "language_info": {
   "codemirror_mode": "text/x-kotlin",
   "file_extension": ".kt",
   "mimetype": "text/x-kotlin",
   "name": "kotlin",
   "nbconvert_exporter": "",
   "pygments_lexer": "kotlin",
   "version": "1.6.20-dev-6372"
  }
 },
 "nbformat": 4,
 "nbformat_minor": 5
}
