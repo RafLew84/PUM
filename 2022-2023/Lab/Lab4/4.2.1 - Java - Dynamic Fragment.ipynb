{
 "cells": [
  {
   "cell_type": "markdown",
   "id": "8066af3c-c151-46fa-bbae-ce5b77d98828",
   "metadata": {},
   "source": [
    "# 4.1 Dynamic Fragment"
   ]
  },
  {
   "cell_type": "markdown",
   "id": "8602a506-8fc9-47ed-85ce-59ab7f84c866",
   "metadata": {},
   "source": [
    "W tej aplikacji posłużymy się trzema fragmentami które będą hostowane przez pojedynczą aktywność - fragmenty będziemy dodawać i podmieniać w sposób dynamiczny.\n",
    "\n",
    "Aplikacja będzie posiadała jedną aktywność hostującą, zawierającą jedynie `FragmentContainerView` w pliku layoutu\n",
    "\n",
    "```xml\n",
    "<?xml version=\"1.0\" encoding=\"utf-8\"?>\n",
    "<androidx.constraintlayout.widget.ConstraintLayout xmlns:android=\"http://schemas.android.com/apk/res/android\"\n",
    "    xmlns:app=\"http://schemas.android.com/apk/res-auto\"\n",
    "    xmlns:tools=\"http://schemas.android.com/tools\"\n",
    "    android:layout_width=\"match_parent\"\n",
    "    android:layout_height=\"match_parent\"\n",
    "    tools:context=\".MainActivity\">\n",
    "\n",
    "    <androidx.fragment.app.FragmentContainerView\n",
    "        android:id=\"@+id/fragment_container_view_tag\"\n",
    "        android:layout_width=\"match_parent\"\n",
    "        android:layout_height=\"match_parent\"\n",
    "        app:layout_constraintBottom_toBottomOf=\"parent\"\n",
    "        app:layout_constraintEnd_toEndOf=\"parent\"\n",
    "        app:layout_constraintStart_toStartOf=\"parent\"\n",
    "        app:layout_constraintTop_toTopOf=\"parent\" />\n",
    "\n",
    "</androidx.constraintlayout.widget.ConstraintLayout>\n",
    "```\n",
    "\n",
    "Następnie dodajmy do aplikacji klasę `MainFragment` - fragment, który będzie wyświetlany po uruchomieniu aplikacji. Rozpocznijmy od layoutu\n",
    "\n",
    "```xml\n",
    "<?xml version=\"1.0\" encoding=\"utf-8\"?>\n",
    "<LinearLayout xmlns:android=\"http://schemas.android.com/apk/res/android\"\n",
    "    xmlns:app=\"http://schemas.android.com/apk/res-auto\"\n",
    "    xmlns:tools=\"http://schemas.android.com/tools\"\n",
    "    android:orientation=\"vertical\"\n",
    "    android:layout_width=\"match_parent\"\n",
    "    android:layout_height=\"match_parent\">\n",
    "\n",
    "    <TextView\n",
    "        android:id=\"@+id/textView\"\n",
    "        android:textSize=\"36sp\"\n",
    "        android:textColor=\"@color/black\"\n",
    "        android:textAlignment=\"center\"\n",
    "        android:layout_gravity=\"center_horizontal\"\n",
    "        android:layout_marginTop=\"20dp\"\n",
    "        android:layout_width=\"match_parent\"\n",
    "        android:layout_height=\"wrap_content\"\n",
    "        android:text=\"MAIN FRAGMENT\" />\n",
    "</LinearLayout>\n",
    "```"
   ]
  },
  {
   "cell_type": "markdown",
   "id": "b271e080-0123-47c2-a12c-604fdec87ebd",
   "metadata": {},
   "source": [
    "Następnie dodajmy samą klassę"
   ]
  },
  {
   "cell_type": "code",
   "execution_count": null,
   "id": "2eaddb08-937a-4482-a26c-5c1e6ad55ea5",
   "metadata": {},
   "outputs": [],
   "source": [
    "public class MainFragment extends Fragment {\n",
    "\n",
    "    @Nullable\n",
    "    @Override\n",
    "    public View onCreateView(@NonNull LayoutInflater inflater, @Nullable ViewGroup container, @Nullable Bundle savedInstanceState) {\n",
    "        return inflater.inflate(R.layout.fragment_main, container, false);\n",
    "    }\n",
    "}"
   ]
  },
  {
   "cell_type": "markdown",
   "id": "a8c70a41-f1bb-42a9-8b1f-0b039447bd52",
   "metadata": {},
   "source": [
    "Przejdźmy do `MainActivity`. W metodzie `onCreate` dodamy `MainFragment` do `FragmentContainerView` - wykonujemy tą czynność poprzez mechanizm transakcji. W pierwszym kroku sprawdzamy czy kontener istnieje."
   ]
  },
  {
   "cell_type": "code",
   "execution_count": null,
   "id": "5952137e-fe24-4c77-95da-4a17ac76de93",
   "metadata": {},
   "outputs": [],
   "source": [
    "@Override\n",
    "protected void onCreate(Bundle savedInstanceState) {\n",
    "    super.onCreate(savedInstanceState);\n",
    "    setContentView(R.layout.activity_main);\n",
    "\n",
    "    if (findViewById(R.id.fragment_container_view_tag) != null){\n",
    "    }\n",
    "}"
   ]
  },
  {
   "cell_type": "markdown",
   "id": "f3ed526c-4dc0-40c4-a840-7a7eeb29d5a1",
   "metadata": {},
   "source": [
    "Wywołujemy metodę `supportFragmentManager`, która zwraca instancję klasy `SupportFragmentManager` - jest to klasa odpowiedzialna za wykonywanie akcji na fragmentach w naszej aplikacji. Następnie wywołujemy metodę `beginTransaction` rozpoczynającą transakcję.\n",
    "\n",
    "Wpierw chcemy dodać fragment, więc wywołujemy metodę `add`, przyjmuje dwa argumenty\n",
    "- `containerView` - kontener do którego ma zostać dodany fragment\n",
    "- `fragment` - fragment który ma zostać dodany\n",
    "\n",
    "Transakcję kończymy wywołując metodę `commit`"
   ]
  },
  {
   "cell_type": "code",
   "execution_count": null,
   "id": "cc4112b0-0641-46ee-a55a-05f05a8b7431",
   "metadata": {},
   "outputs": [],
   "source": [
    "if (findViewById(R.id.fragment_container_view_tag) != null){\n",
    "    getSupportFragmentManager()\n",
    "            .beginTransaction()\n",
    "            .add(R.id.fragment_container_view_tag, new MainFragment())\n",
    "            .commit();\n",
    "}"
   ]
  },
  {
   "cell_type": "markdown",
   "id": "6dab55c6-b291-46fc-8600-b957a6d1d3e8",
   "metadata": {},
   "source": [
    "Dodajmy do aplikacji fragment o nazwie `FragmentA`\n",
    "\n",
    "```xml\n",
    "<?xml version=\"1.0\" encoding=\"utf-8\"?>\n",
    "<LinearLayout xmlns:android=\"http://schemas.android.com/apk/res/android\"\n",
    "    xmlns:app=\"http://schemas.android.com/apk/res-auto\"\n",
    "    xmlns:tools=\"http://schemas.android.com/tools\"\n",
    "    android:orientation=\"vertical\"\n",
    "    android:layout_width=\"match_parent\"\n",
    "    android:layout_height=\"match_parent\">\n",
    "\n",
    "    <TextView\n",
    "        android:id=\"@+id/textView\"\n",
    "        android:textSize=\"36sp\"\n",
    "        android:textColor=\"@color/black\"\n",
    "        android:textAlignment=\"center\"\n",
    "        android:layout_gravity=\"center_horizontal\"\n",
    "        android:layout_marginTop=\"20dp\"\n",
    "        android:layout_width=\"match_parent\"\n",
    "        android:layout_height=\"wrap_content\"\n",
    "        android:text=\"FRAGMENT A\" />\n",
    "</LinearLayout>\n",
    "```"
   ]
  },
  {
   "cell_type": "code",
   "execution_count": null,
   "id": "27bbf481-6a83-4142-b1be-79e937c31886",
   "metadata": {},
   "outputs": [],
   "source": [
    "public class FragmentA extends Fragment {\n",
    "\n",
    "    @Nullable\n",
    "    @Override\n",
    "    public View onCreateView(@NonNull LayoutInflater inflater, @Nullable ViewGroup container, @Nullable Bundle savedInstanceState) {\n",
    "        return inflater.inflate(R.layout.fragment_a, container, false);\n",
    "    }\n",
    "}"
   ]
  },
  {
   "cell_type": "markdown",
   "id": "ae0d8ace-b86a-41f3-a360-acbd1c14b6e7",
   "metadata": {},
   "source": [
    "Następnie dodajmy przycisk do `MainFragment` po naciśnięciu którego podmienimy fragment na `MainActivity` na `FragmentA`\n",
    "\n",
    "```xml\n",
    "<?xml version=\"1.0\" encoding=\"utf-8\"?>\n",
    "<LinearLayout xmlns:android=\"http://schemas.android.com/apk/res/android\"\n",
    "    xmlns:app=\"http://schemas.android.com/apk/res-auto\"\n",
    "    xmlns:tools=\"http://schemas.android.com/tools\"\n",
    "    android:orientation=\"vertical\"\n",
    "    android:layout_width=\"match_parent\"\n",
    "    android:layout_height=\"match_parent\">\n",
    "\n",
    "    <TextView\n",
    "        android:id=\"@+id/textView\"\n",
    "        android:textSize=\"36sp\"\n",
    "        android:textColor=\"@color/black\"\n",
    "        android:textAlignment=\"center\"\n",
    "        android:layout_gravity=\"center_horizontal\"\n",
    "        android:layout_marginTop=\"20dp\"\n",
    "        android:layout_width=\"match_parent\"\n",
    "        android:layout_height=\"wrap_content\"\n",
    "        android:text=\"MAIN FRAGMENT\" />\n",
    "    \n",
    "    <Button\n",
    "        android:id=\"@+id/start_fragment_a\"\n",
    "        android:layout_width=\"wrap_content\"\n",
    "        android:layout_height=\"wrap_content\"\n",
    "        android:layout_gravity=\"center_horizontal\"\n",
    "        android:text=\"START FRAGMENT A\"\n",
    "        android:textSize=\"24sp\"/>\n",
    "</LinearLayout>\n",
    "```"
   ]
  },
  {
   "cell_type": "markdown",
   "id": "6da371cc-289d-455f-94b3-90e621a3adb8",
   "metadata": {},
   "source": [
    "W metodzie `onCreateView` dodaję transakcję. Wpierw musimy utworzyć obiekt `View` - tutaj będziemy łączyć pola klasy z elementami layoutu."
   ]
  },
  {
   "cell_type": "code",
   "execution_count": null,
   "id": "3dce26ce-2f89-4ecd-9e5f-3031c55d37ac",
   "metadata": {},
   "outputs": [],
   "source": [
    "@Nullable\n",
    "@Override\n",
    "public View onCreateView(@NonNull LayoutInflater inflater, @Nullable ViewGroup container, @Nullable Bundle savedInstanceState) {\n",
    "    View view = inflater.inflate(R.layout.fragment_main, container, false);\n",
    "    return view;\n",
    "}"
   ]
  },
  {
   "cell_type": "markdown",
   "id": "4ff4e235-c27f-4c6f-a9df-a9567555a0c2",
   "metadata": {},
   "source": [
    "Przez `View` dostajemy się do naszego `Button` i wywołujemy `setOnClickListener`, w metodzie `onClick` implementujemy transakcję."
   ]
  },
  {
   "cell_type": "code",
   "execution_count": null,
   "id": "4b8e60ad-15c8-482d-bc59-ba0ccbb679bd",
   "metadata": {},
   "outputs": [],
   "source": [
    "@Nullable\n",
    "@Override\n",
    "public View onCreateView(@NonNull LayoutInflater inflater, @Nullable ViewGroup container, @Nullable Bundle savedInstanceState) {\n",
    "    View view = inflater.inflate(R.layout.fragment_main, container, false);\n",
    "    view.findViewById(R.id.start_fragment_a)\n",
    "            .setOnClickListener(v -> requireActivity().getSupportFragmentManager()\n",
    "                .beginTransaction()\n",
    "                .replace(R.id.fragment_container_view_tag, new FragmentA())\n",
    "                .commit());\n",
    "    return view;\n",
    "}"
   ]
  },
  {
   "cell_type": "markdown",
   "id": "b0f56911-32da-4487-879e-c1d4b7afaebc",
   "metadata": {},
   "source": [
    "Dostęp do instancji `FragmentManager` możemy uzyskać tylko przez aktywność, więc musimy dostać się do aktywności hostującej - możemy to zrobić wywołując metodę `requireActivity`. Dalej wywołujemy metodę `getSupportFragmentManager` i rozpoczynamy transakcję. Teraz nie chcemy dodać nowego fragmentu - chcemy zastąpić już istniejęcy, więc wywołujemy meetodę `replace` która przyjmuje dwa argumenty:\n",
    "- `fragmentContainer` - kontener w którym ma nastąpić zamiana\n",
    "- `fragment` - fragment którym zastąpimy poprzendi fragment\n",
    "\n",
    "I jak poprzednio kończymy wywołując metodę `commit`. Możemy przetestować aplikację"
   ]
  },
  {
   "cell_type": "markdown",
   "id": "b88d9993-238c-486f-8bf6-e1f7a077d223",
   "metadata": {},
   "source": [
    "<img src=\"https://media0.giphy.com/media/y2AH5v1SE0HdSKUF97/giphy.gif?cid=790b76113e3e884baddad44b4cd21f93ca0926b8dbf8ff2d&rid=giphy.gif&ct=g\" width=\"150\" />"
   ]
  },
  {
   "cell_type": "markdown",
   "id": "d87078ed-92b5-4d67-a736-3c83f8aff254",
   "metadata": {},
   "source": [
    "Dodajmy przycisk do `FragmentA` przez który będziemy przechodzić na `FragmentB`\n",
    "\n",
    "```xml\n",
    "<?xml version=\"1.0\" encoding=\"utf-8\"?>\n",
    "<LinearLayout xmlns:android=\"http://schemas.android.com/apk/res/android\"\n",
    "    xmlns:app=\"http://schemas.android.com/apk/res-auto\"\n",
    "    xmlns:tools=\"http://schemas.android.com/tools\"\n",
    "    android:orientation=\"vertical\"\n",
    "    android:layout_width=\"match_parent\"\n",
    "    android:layout_height=\"match_parent\">\n",
    "\n",
    "    <TextView\n",
    "        android:id=\"@+id/textView\"\n",
    "        android:textSize=\"36sp\"\n",
    "        android:textColor=\"@color/black\"\n",
    "        android:textAlignment=\"center\"\n",
    "        android:layout_gravity=\"center_horizontal\"\n",
    "        android:layout_marginTop=\"20dp\"\n",
    "        android:layout_width=\"match_parent\"\n",
    "        android:layout_height=\"wrap_content\"\n",
    "        android:text=\"FRAGMENT A\" />\n",
    "\n",
    "    <Button\n",
    "        android:id=\"@+id/start_fragment_b\"\n",
    "        android:layout_width=\"wrap_content\"\n",
    "        android:layout_height=\"wrap_content\"\n",
    "        android:layout_gravity=\"center_horizontal\"\n",
    "        android:text=\"START FRAGMENT B\"\n",
    "        android:textSize=\"24sp\"/>\n",
    "</LinearLayout>\n",
    "```"
   ]
  },
  {
   "cell_type": "markdown",
   "id": "d28f19a7-6539-423f-be40-bafb9b7353cf",
   "metadata": {},
   "source": [
    "Dodajmy `FragmentB`\n",
    "\n",
    "```xml\n",
    "<?xml version=\"1.0\" encoding=\"utf-8\"?>\n",
    "<LinearLayout xmlns:android=\"http://schemas.android.com/apk/res/android\"\n",
    "    xmlns:app=\"http://schemas.android.com/apk/res-auto\"\n",
    "    xmlns:tools=\"http://schemas.android.com/tools\"\n",
    "    android:orientation=\"vertical\"\n",
    "    android:layout_width=\"match_parent\"\n",
    "    android:layout_height=\"match_parent\"\n",
    "    android:background=\"#FFFF44\">\n",
    "\n",
    "    <TextView\n",
    "        android:id=\"@+id/textView\"\n",
    "        android:textSize=\"36sp\"\n",
    "        android:textColor=\"@color/black\"\n",
    "        android:textAlignment=\"center\"\n",
    "        android:layout_gravity=\"center_horizontal\"\n",
    "        android:layout_marginTop=\"20dp\"\n",
    "        android:layout_width=\"match_parent\"\n",
    "        android:layout_height=\"wrap_content\"\n",
    "        android:text=\"FRAGMENT B\" />\n",
    "</LinearLayout>\n",
    "```"
   ]
  },
  {
   "cell_type": "code",
   "execution_count": null,
   "id": "912079f3-2656-47e3-a36f-50804c286cd1",
   "metadata": {},
   "outputs": [],
   "source": [
    "public class FragmentB extends Fragment {\n",
    "\n",
    "    @Nullable\n",
    "    @Override\n",
    "    public View onCreateView(@NonNull LayoutInflater inflater, @Nullable ViewGroup container, @Nullable Bundle savedInstanceState) {\n",
    "        return inflater.inflate(R.layout.fragment_b, container, false);\n",
    "    }\n",
    "}"
   ]
  },
  {
   "cell_type": "markdown",
   "id": "34160856-c6e3-433c-9f9f-4ae66e139e52",
   "metadata": {},
   "source": [
    "Obsłużmy przycisk w `FragmentA`"
   ]
  },
  {
   "cell_type": "code",
   "execution_count": null,
   "id": "373a779e-657a-4914-9813-e90b973cc7f8",
   "metadata": {},
   "outputs": [],
   "source": [
    "public class FragmentA extends Fragment {\n",
    "\n",
    "    @Nullable\n",
    "    @Override\n",
    "    public View onCreateView(@NonNull LayoutInflater inflater, @Nullable ViewGroup container, @Nullable Bundle savedInstanceState) {\n",
    "        View view =  inflater.inflate(R.layout.fragment_a, container, false);\n",
    "        view.findViewById(R.id.start_fragment_b)\n",
    "                .setOnClickListener(v -> requireActivity().getSupportFragmentManager()\n",
    "                        .beginTransaction()\n",
    "                        .replace(R.id.fragment_container_view_tag, new FragmentB())\n",
    "                        .commit());        \n",
    "        return view;\n",
    "    }\n",
    "}"
   ]
  },
  {
   "cell_type": "markdown",
   "id": "74e972ef-22f2-4359-9f23-1d3092dabeea",
   "metadata": {},
   "source": [
    "<img src=\"https://media4.giphy.com/media/N7NTTQvqcrkTAoKMjk/giphy.gif?cid=790b761140fc93578af668d97bd08bc5d0393d333789d1f3&rid=giphy.gif&ct=g\" width=\"150\" />"
   ]
  },
  {
   "cell_type": "markdown",
   "id": "fadccbef-5e94-4262-a779-30d76132646d",
   "metadata": {},
   "source": [
    "Zwróćmy uwagę - naciśnięcie przycisku systemowego 'wstecz' powoduje wyjście z aplikacji. Aby zapewnić nawigację wsteczną po wcześniejszych fragmentach, możemy dodać w transakcjach odpowiednią metodę - `addToBackStack`"
   ]
  },
  {
   "cell_type": "code",
   "execution_count": null,
   "id": "00408074-a3db-4724-8b86-fa2a343512fb",
   "metadata": {},
   "outputs": [],
   "source": [
    "requireActivity().getSupportFragmentManager()\n",
    "                        .beginTransaction()\n",
    "                        .replace(R.id.fragment_container_view_tag, new FragmentB())\n",
    "                        .addToBackStack(null)\n",
    "                        .commit());"
   ]
  },
  {
   "cell_type": "markdown",
   "id": "d4071d9e-88a6-409e-a759-ce3bf76eb0dd",
   "metadata": {},
   "source": [
    "<img src=\"https://media2.giphy.com/media/oK1Ui7n1li6cB05v6A/giphy.gif?cid=790b7611b9225c347685d83f7d45d92ed2e04cc4532139fa&rid=giphy.gif&ct=g\" width=\"150\" />"
   ]
  },
  {
   "cell_type": "code",
   "execution_count": null,
   "id": "c34f306c-5c2f-4ac4-b143-66b34371f58e",
   "metadata": {},
   "outputs": [],
   "source": []
  }
 ],
 "metadata": {
  "kernelspec": {
   "display_name": "Java",
   "language": "java",
   "name": "java"
  },
  "language_info": {
   "codemirror_mode": "java",
   "file_extension": ".jshell",
   "mimetype": "text/x-java-source",
   "name": "Java",
   "pygments_lexer": "java",
   "version": "17+35-2724"
  }
 },
 "nbformat": 4,
 "nbformat_minor": 5
}
