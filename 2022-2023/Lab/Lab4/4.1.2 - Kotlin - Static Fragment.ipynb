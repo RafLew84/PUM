{
 "cells": [
  {
   "cell_type": "markdown",
   "id": "c383a10d-85fb-446c-aba9-a7774b17660c",
   "metadata": {},
   "source": [
    "# 4.1 Static Fragment"
   ]
  },
  {
   "cell_type": "markdown",
   "id": "b29049a5-cd46-4547-a240-f500f4b4e5f6",
   "metadata": {},
   "source": [
    "Aplikacja będzie zawierała jedną aktywność do której statycznie dodamy fragment"
   ]
  },
  {
   "cell_type": "markdown",
   "id": "7cd436eb-aa0d-40bc-8d6c-a3088c2cdebd",
   "metadata": {},
   "source": [
    "Dodajmy do projektu klasę o nazwie `FragmentA` rozszerzającą klasę `Fragment`"
   ]
  },
  {
   "cell_type": "code",
   "execution_count": null,
   "id": "a2df545d-0602-449c-867c-b7589959be13",
   "metadata": {},
   "outputs": [],
   "source": [
    "class FragmentA : Fragment() {\n",
    "}"
   ]
  },
  {
   "cell_type": "markdown",
   "id": "1c22ea95-d396-4b49-83d5-b316a6db974f",
   "metadata": {},
   "source": [
    "Następnie utwórzmy plik layoutu o nazwie `fragment_a`\n",
    "\n",
    "```xml\n",
    "<?xml version=\"1.0\" encoding=\"utf-8\"?>\n",
    "<androidx.constraintlayout.widget.ConstraintLayout xmlns:android=\"http://schemas.android.com/apk/res/android\"\n",
    "    xmlns:app=\"http://schemas.android.com/apk/res-auto\"\n",
    "    xmlns:tools=\"http://schemas.android.com/tools\"\n",
    "    android:layout_width=\"match_parent\"\n",
    "    android:layout_height=\"match_parent\"\n",
    "    android:background=\"#FFF444\">\n",
    "\n",
    "    <TextView\n",
    "        android:id=\"@+id/textView\"\n",
    "        android:layout_width=\"wrap_content\"\n",
    "        android:layout_height=\"wrap_content\"\n",
    "        android:text=\"FragmentA\"\n",
    "        android:textColor=\"@color/black\"\n",
    "        android:textSize=\"36sp\"\n",
    "        app:layout_constraintBottom_toBottomOf=\"parent\"\n",
    "        app:layout_constraintEnd_toEndOf=\"parent\"\n",
    "        app:layout_constraintStart_toStartOf=\"parent\"\n",
    "        app:layout_constraintTop_toTopOf=\"parent\" />\n",
    "</androidx.constraintlayout.widget.ConstraintLayout>\n",
    "```\n",
    "\n",
    "I uzupełnijmy klasę `FragmentA` o metodę `onCreateView`"
   ]
  },
  {
   "cell_type": "code",
   "execution_count": null,
   "id": "7e8c319a-f5cd-4da6-9312-b77b681e8937",
   "metadata": {},
   "outputs": [],
   "source": [
    "class FragmentA : Fragment() {\n",
    "    override fun onCreateView(\n",
    "        inflater: LayoutInflater,\n",
    "        container: ViewGroup?,\n",
    "        savedInstanceState: Bundle?\n",
    "    ): View? {\n",
    "        return inflater.inflate(R.layout.fragment_a, container, false)\n",
    "    }\n",
    "}"
   ]
  },
  {
   "cell_type": "markdown",
   "id": "f80d7a11-8e6e-4acc-a336-23e70a70ab06",
   "metadata": {},
   "source": [
    "Następnie utwórzmy analogicznie klasę `FragmentB`\n",
    "\n",
    "```xml\n",
    "<?xml version=\"1.0\" encoding=\"utf-8\"?>\n",
    "<androidx.constraintlayout.widget.ConstraintLayout xmlns:android=\"http://schemas.android.com/apk/res/android\"\n",
    "    xmlns:app=\"http://schemas.android.com/apk/res-auto\"\n",
    "    xmlns:tools=\"http://schemas.android.com/tools\"\n",
    "    android:layout_width=\"match_parent\"\n",
    "    android:layout_height=\"match_parent\">\n",
    "\n",
    "    <TextView\n",
    "        android:id=\"@+id/textView\"\n",
    "        android:layout_width=\"wrap_content\"\n",
    "        android:layout_height=\"wrap_content\"\n",
    "        android:text=\"FragmentB\"\n",
    "        android:textColor=\"@color/black\"\n",
    "        android:textSize=\"36sp\"\n",
    "        app:layout_constraintBottom_toBottomOf=\"parent\"\n",
    "        app:layout_constraintEnd_toEndOf=\"parent\"\n",
    "        app:layout_constraintStart_toStartOf=\"parent\"\n",
    "        app:layout_constraintTop_toTopOf=\"parent\" />\n",
    "</androidx.constraintlayout.widget.ConstraintLayout>\n",
    "```"
   ]
  },
  {
   "cell_type": "code",
   "execution_count": null,
   "id": "46a95995-07dd-407c-8624-6478bc89bc15",
   "metadata": {},
   "outputs": [],
   "source": [
    "class FragmentB : Fragment() {\n",
    "    override fun onCreateView(\n",
    "        inflater: LayoutInflater,\n",
    "        container: ViewGroup?,\n",
    "        savedInstanceState: Bundle?\n",
    "    ): View? {\n",
    "        return inflater.inflate(R.layout.fragment_b, container, false)\n",
    "    }\n",
    "}"
   ]
  },
  {
   "cell_type": "markdown",
   "id": "bb8b98ac-f722-41c7-b79c-85f8a2e50160",
   "metadata": {},
   "source": [
    "Następnie do layoutu `MainActivity` dodamy oba fragmenty\n",
    "\n",
    "```xml\n",
    "<?xml version=\"1.0\" encoding=\"utf-8\"?>\n",
    "<LinearLayout xmlns:android=\"http://schemas.android.com/apk/res/android\"\n",
    "    xmlns:app=\"http://schemas.android.com/apk/res-auto\"\n",
    "    xmlns:tools=\"http://schemas.android.com/tools\"\n",
    "    android:layout_width=\"match_parent\"\n",
    "    android:layout_height=\"match_parent\"\n",
    "    android:orientation=\"vertical\"\n",
    "    tools:context=\".MainActivity\">\n",
    "\n",
    "    <fragment\n",
    "        android:id=\"@+id/fragmentA\"\n",
    "        android:layout_width=\"match_parent\"\n",
    "        android:layout_height=\"0dp\"\n",
    "        android:layout_weight=\"1\"\n",
    "        android:name=\"pl.edu.uwr.pum.staticfragmentkotlin.FragmentA\"/>\n",
    "\n",
    "    <fragment\n",
    "        android:id=\"@+id/fragmentB\"\n",
    "        android:layout_width=\"match_parent\"\n",
    "        android:layout_height=\"0dp\"\n",
    "        android:layout_weight=\"1\"\n",
    "        android:name=\"pl.edu.uwr.pum.staticfragmentkotlin.FragmentB\"/>\n",
    "\n",
    "</LinearLayout>\n",
    "```"
   ]
  },
  {
   "cell_type": "markdown",
   "id": "aa2a4fc9-0e26-4a18-85dd-a48f6d324d2e",
   "metadata": {},
   "source": [
    "Statycznie fragmenty dodajemy jako `<fragment />` - tutaj powinien pojawić się warning o zamianie na `fragmentContainer` ale w tym przykładzie go zignorujemy.\n",
    "\n",
    "W efekcie ekran główny naszej aplikacji mamy podzielony na dwa fragmenty, którymi możemy zarządzać niezależnie."
   ]
  },
  {
   "cell_type": "markdown",
   "id": "88a94e44-5e7c-4c9b-94ba-d22f3de3dfb1",
   "metadata": {},
   "source": [
    "<img src=\"https://fv9-4.failiem.lv/down.php?i=27wc7fe9u&view\" width=\"200\" />"
   ]
  },
  {
   "cell_type": "code",
   "execution_count": null,
   "id": "f769e128-2d8f-4c42-8cd1-ade056bffaec",
   "metadata": {},
   "outputs": [],
   "source": []
  }
 ],
 "metadata": {
  "kernelspec": {
   "display_name": "Kotlin",
   "language": "kotlin",
   "name": "kotlin"
  },
  "language_info": {
   "codemirror_mode": "text/x-kotlin",
   "file_extension": ".kt",
   "mimetype": "text/x-kotlin",
   "name": "kotlin",
   "nbconvert_exporter": "",
   "pygments_lexer": "kotlin",
   "version": "1.6.20-dev-6372"
  }
 },
 "nbformat": 4,
 "nbformat_minor": 5
}
