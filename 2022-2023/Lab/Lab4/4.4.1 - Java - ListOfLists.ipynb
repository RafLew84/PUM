{
 "cells": [
  {
   "cell_type": "markdown",
   "id": "8cb1aadb-e65a-4ee1-9e9b-13359cf286e6",
   "metadata": {},
   "source": [
    "## 4.4 ListOfLists"
   ]
  },
  {
   "cell_type": "markdown",
   "id": "c9bf444e-6fa8-4a90-84bb-957b753d1450",
   "metadata": {},
   "source": [
    "Wykorzystamy `Jetpack Navigation` wraz z `RecyclerView` aby stworzyć prostą aplikację w modelu **master-detail**."
   ]
  },
  {
   "cell_type": "markdown",
   "id": "89a61454-2160-4481-ac82-01c871c3607c",
   "metadata": {},
   "source": [
    "<img src=\"https://media4.giphy.com/media/12aNUkEltsj9IJX3DK/giphy.gif?cid=790b761153d67ec7afbe0798454db3f988f74125c2830ad8&rid=giphy.gif&ct=g\" width=\"150\" />"
   ]
  },
  {
   "cell_type": "markdown",
   "id": "15ca476c-5b32-4fef-8e00-71afc912a775",
   "metadata": {},
   "source": [
    "### **Fragmenty**"
   ]
  },
  {
   "cell_type": "markdown",
   "id": "c27b327e-89c6-4b06-9163-fbd2aa0164e1",
   "metadata": {},
   "source": [
    "W aplikacji będziemy posiadać dwa fragmenty hostowane przez aktywność. Oba fragmenty będą zawierać `RecyclerView` - na jednym będzie znajdowała się lista liter, nac drugim lista słów na daną literę. Rozpocznijmy od dodania dwóch fragmentów."
   ]
  },
  {
   "cell_type": "code",
   "execution_count": null,
   "id": "46605f7a-84d1-41c5-b0fc-178cdf55e5a0",
   "metadata": {},
   "outputs": [],
   "source": [
    "public class LetterFragment extends Fragment {\n",
    "\n",
    "    @Override\n",
    "    public View onCreateView(LayoutInflater inflater, ViewGroup container,\n",
    "                             Bundle savedInstanceState) {\n",
    "        return inflater.inflate(R.layout.fragment_letter, container, false);\n",
    "    }\n",
    "}"
   ]
  },
  {
   "cell_type": "code",
   "execution_count": null,
   "id": "17362a6f-f202-436a-a3ed-9a25acf41cc9",
   "metadata": {},
   "outputs": [],
   "source": [
    "<FrameLayout xmlns:android=\"http://schemas.android.com/apk/res/android\"\n",
    "    xmlns:tools=\"http://schemas.android.com/tools\"\n",
    "    android:layout_width=\"match_parent\"\n",
    "    android:layout_height=\"match_parent\"\n",
    "    tools:context=\".LetterFragment\">\n",
    "\n",
    "    <androidx.recyclerview.widget.RecyclerView\n",
    "        android:id=\"@+id/letterRecyclerView\"\n",
    "        android:layout_width=\"match_parent\"\n",
    "        android:layout_height=\"match_parent\"\n",
    "        android:clipToPadding=\"false\"\n",
    "        android:padding=\"16dp\" />\n",
    "\n",
    "</FrameLayout>"
   ]
  },
  {
   "cell_type": "code",
   "execution_count": null,
   "id": "b8cf85e5-3a44-443c-810f-bc212cd3ac3e",
   "metadata": {},
   "outputs": [],
   "source": [
    "public class WordFragment extends Fragment {\n",
    "\n",
    "    @Override\n",
    "    public View onCreateView(LayoutInflater inflater, ViewGroup container,\n",
    "                             Bundle savedInstanceState) {\n",
    "        return inflater.inflate(R.layout.fragment_word, container, false);\n",
    "    }\n",
    "}"
   ]
  },
  {
   "cell_type": "code",
   "execution_count": null,
   "id": "cea0f903-2a0f-4095-92f7-01efbf17acd1",
   "metadata": {},
   "outputs": [],
   "source": [
    "<FrameLayout xmlns:android=\"http://schemas.android.com/apk/res/android\"\n",
    "    xmlns:tools=\"http://schemas.android.com/tools\"\n",
    "    android:layout_width=\"match_parent\"\n",
    "    android:layout_height=\"match_parent\"\n",
    "    tools:context=\".WordFragment\">\n",
    "\n",
    "    <androidx.recyclerview.widget.RecyclerView\n",
    "        android:id=\"@+id/wordRecyclerView\"\n",
    "        android:layout_width=\"match_parent\"\n",
    "        android:layout_height=\"match_parent\"\n",
    "        android:clipToPadding=\"false\"\n",
    "        android:padding=\"16dp\" />\n",
    "\n",
    "</FrameLayout>"
   ]
  },
  {
   "cell_type": "markdown",
   "id": "9a672876-97e3-4617-b7db-595240368441",
   "metadata": {},
   "source": [
    "### **Adaptery**"
   ]
  },
  {
   "cell_type": "markdown",
   "id": "b3048296-23f1-43fc-82fd-2f85bb58ab6b",
   "metadata": {},
   "source": [
    "W kolejnym kroku napiszemy adaptery dla liter i słów. Rozpocznijmy od layoutu który będą wykorzystywały oba adaptery (`item_view.xml`)"
   ]
  },
  {
   "cell_type": "code",
   "execution_count": null,
   "id": "4d283894-bee1-418c-885c-540c881fced9",
   "metadata": {},
   "outputs": [],
   "source": [
    "<?xml version=\"1.0\" encoding=\"utf-8\"?>\n",
    "<Button xmlns:android=\"http://schemas.android.com/apk/res/android\"\n",
    "    android:id=\"@+id/button_item\"\n",
    "    android:layout_width=\"match_parent\"\n",
    "    android:layout_height=\"wrap_content\"\n",
    "    android:layout_margin=\"4dp\"\n",
    "    android:padding=\"8dp\" />"
   ]
  },
  {
   "cell_type": "markdown",
   "id": "f801503c-65a6-4e2f-b627-b71ba6d3b079",
   "metadata": {},
   "source": [
    "Przejdźmy do `LetterAdapter`"
   ]
  },
  {
   "cell_type": "code",
   "execution_count": null,
   "id": "a628961b-0ea7-4ace-8458-7f376060e1fa",
   "metadata": {},
   "outputs": [],
   "source": [
    "public class LetterAdapter extends RecyclerView.Adapter<LetterAdapter.ViewHolder> {\n",
    "\n",
    "    private final char[] letters = \"ABCDEFGHIJKLMNOPQRSTUVWXYZ\".toCharArray();\n",
    "\n",
    "    protected static class ViewHolder extends RecyclerView.ViewHolder {\n",
    "\n",
    "        private final Button button;\n",
    "\n",
    "        public ViewHolder(@NonNull View itemView) {\n",
    "            super(itemView);\n",
    "            button = itemView.findViewById(R.id.button_item);\n",
    "        }\n",
    "    }\n",
    "\n",
    "    @NonNull\n",
    "    @Override\n",
    "    public LetterAdapter.ViewHolder onCreateViewHolder(\n",
    "        @NonNull ViewGroup parent, \n",
    "        int viewType) {\n",
    "        return new ViewHolder(LayoutInflater\n",
    "                .from(parent.getContext())\n",
    "                .inflate(R.layout.item_view, parent, false));\n",
    "    }\n",
    "\n",
    "    @Override\n",
    "    public void onBindViewHolder(@NonNull LetterAdapter.ViewHolder holder, int position) {\n",
    "        char item = letters[position];\n",
    "        holder.button.setText(String.valueOf(item));\n",
    "    }\n",
    "\n",
    "    @Override\n",
    "    public int getItemCount() {\n",
    "        return letters.length;\n",
    "    }\n",
    "}"
   ]
  },
  {
   "cell_type": "markdown",
   "id": "631ad5e0-7f87-4cc4-b614-9476a3db9431",
   "metadata": {},
   "source": [
    "`WordAdapter` będzie zawierał listę słów zaczynających się na literę, którą użytkownik wybierze na ekranie `FragmentLetter` - lista wszystkich śłów znajduje się w pliku `arrays.xml`"
   ]
  },
  {
   "cell_type": "markdown",
   "id": "7fbeb806-817c-4031-88be-2c59c2eff4e7",
   "metadata": {},
   "source": [
    "W konstruktorze `WordAdapter` przyjmuje literę, która będzie wykorzystywana do przefiltrowania listy wszystkich słów."
   ]
  },
  {
   "cell_type": "code",
   "execution_count": null,
   "id": "e4fcbdec-03a8-4269-8f54-3df026958e8e",
   "metadata": {},
   "outputs": [],
   "source": [
    "public class WordAdapter extends RecyclerView.Adapter<WordAdapter.ViewHolder> {\n",
    "\n",
    "    private final ArrayList<String> words;\n",
    "\n",
    "    public WordAdapter(String letter, Context context){\n",
    "        words = Arrays.stream(context.getResources().getStringArray(R.array.words))\n",
    "                .filter(e -> e.toUpperCase(Locale.ROOT).startsWith(letter))\n",
    "                .collect(Collectors.toCollection(ArrayList::new));\n",
    "\n",
    "    protected static class ViewHolder extends RecyclerView.ViewHolder {\n",
    "        private final Button button;\n",
    "\n",
    "        public ViewHolder(@NonNull View itemView) {\n",
    "            super(itemView);\n",
    "            button = itemView.findViewById(R.id.button_item);\n",
    "        }\n",
    "    }\n",
    "\n",
    "    @NonNull\n",
    "    @Override\n",
    "    public WordAdapter.ViewHolder onCreateViewHolder(@NonNull ViewGroup parent, int viewType) {\n",
    "        return new ViewHolder(LayoutInflater\n",
    "                .from(parent.getContext())\n",
    "                .inflate(R.layout.item_view, parent, false));\n",
    "    }\n",
    "\n",
    "    @Override\n",
    "    public void onBindViewHolder(@NonNull WordAdapter.ViewHolder holder, int position) {\n",
    "        String item = words.get(position);\n",
    "        holder.button.setText(item);\n",
    "    }\n",
    "\n",
    "    @Override\n",
    "    public int getItemCount() {\n",
    "        return words.size();\n",
    "    }\n",
    "}"
   ]
  },
  {
   "cell_type": "markdown",
   "id": "f2cb5220-c932-46b4-8fc6-13f675b66811",
   "metadata": {},
   "source": [
    "Dodajmy `RecyclerView` do `LetterFragment` oraz połączmy go z `LetterAdapter` - wykonujemy to w metodzie `onViewCreated`"
   ]
  },
  {
   "cell_type": "code",
   "execution_count": null,
   "id": "61a63b16-e7da-47c6-8bd7-6d8595bffcd5",
   "metadata": {},
   "outputs": [],
   "source": [
    "@Override\n",
    "public void onViewCreated(@NonNull View view, @Nullable Bundle savedInstanceState) {\n",
    "    super.onViewCreated(view, savedInstanceState);\n",
    "    RecyclerView recyclerView = view.findViewById(R.id.letterRecyclerView);\n",
    "    recyclerView.setLayoutManager(new LinearLayoutManager(getContext()));\n",
    "    recyclerView.setAdapter(new LetterAdapter());\n",
    "}"
   ]
  },
  {
   "cell_type": "markdown",
   "id": "e7f2b41a-75e8-4eb4-92b7-af5d9a7a8f4e",
   "metadata": {},
   "source": [
    "### **Nawigacja**"
   ]
  },
  {
   "cell_type": "markdown",
   "id": "fea7ca0d-e5c2-408e-a81a-74e822bd56ec",
   "metadata": {},
   "source": [
    "Rozpoczniemy od dodania odpowiednich wpisów do plików `build.gradle`. Do `build.gradle(Module)` dodajemy"
   ]
  },
  {
   "cell_type": "code",
   "execution_count": null,
   "id": "8c5c5816-0975-463f-883f-21a84e668c9a",
   "metadata": {},
   "outputs": [],
   "source": [
    "plugins {\n",
    "    id 'com.android.application'\n",
    "    id 'androidx.navigation.safeargs'\n",
    "}\n",
    "\n",
    "def nav_version = \"2.5.0\"\n",
    "implementation \"androidx.navigation:navigation-fragment:$nav_version\"\n",
    "implementation \"androidx.navigation:navigation-ui:$nav_version\""
   ]
  },
  {
   "cell_type": "markdown",
   "id": "13ff2d57-8a1e-41cb-8347-16173a3c32c4",
   "metadata": {},
   "source": [
    "do pliku `build.gradle(Project)` przed blokiem `plugins` dodajemy"
   ]
  },
  {
   "cell_type": "code",
   "execution_count": null,
   "id": "0ba0fb5f-5c42-424e-befe-92ab7f419ddf",
   "metadata": {},
   "outputs": [],
   "source": [
    "buildscript { // przed blokiem plugins\n",
    "    repositories {\n",
    "        google()\n",
    "    }\n",
    "    dependencies {\n",
    "        def nav_version = \"2.5.0\"\n",
    "        classpath \"androidx.navigation:navigation-safe-args-gradle-plugin:$nav_version\"\n",
    "    }\n",
    "}"
   ]
  },
  {
   "cell_type": "markdown",
   "id": "dafa3df8-2c59-4603-b9f5-7c44d5de84e2",
   "metadata": {},
   "source": [
    "Rozwijamy menu kontekstowe na katalogu `res` i wybieramy **New -> Android Resource File**. Jako **Resource type** wybieramy `Navigation`, wpisujemy nazwę i przechodzimy dalej. Dodajemy nasze dwa fragmenty do grafu przez kliknięcie **New Destination**"
   ]
  },
  {
   "cell_type": "markdown",
   "id": "9f2269b8-5c5e-4995-8b53-7717ce8aecfd",
   "metadata": {},
   "source": [
    "<img src=\"https://media0.giphy.com/media/lpAzNFvKo2YYtS713w/giphy.gif?cid=790b7611aa030c5383793eabae2f506a034df4ec59a8020e&rid=giphy.gif&ct=g\" width=\"350\" />"
   ]
  },
  {
   "cell_type": "markdown",
   "id": "c0bb13d5-cd03-43d4-841d-498d9483f9ee",
   "metadata": {},
   "source": [
    "Zdefiniujmy akcję przejścia z `LetterFragment` do `WordFragment`"
   ]
  },
  {
   "cell_type": "markdown",
   "id": "bb0aa97d-e47b-447a-b280-3e92b279d4b6",
   "metadata": {},
   "source": [
    "<img src=\"https://media4.giphy.com/media/aEEE3YWxiOFwZIcKev/giphy.gif?cid=790b7611d69d9d1eb8ad6387ac07248ff1600f4a68b48059&rid=giphy.gif&ct=g\" width=\"350\" />"
   ]
  },
  {
   "cell_type": "markdown",
   "id": "16cb3ba8-9e3c-4604-b68d-dea059d38369",
   "metadata": {},
   "source": [
    "Będziemy przekazywać literę wybraną przez użytkownika w `LetterFragment`, więc dodajmy argument do fragmentu docelowego. W tym celu otwierzmy panel boczny **Attributes** i w zakładce **Arguments** dodajemy argument typu `String`"
   ]
  },
  {
   "cell_type": "markdown",
   "id": "a5427fea-19b4-4b3d-8d61-8e9ede30f04d",
   "metadata": {},
   "source": [
    "<img src=\"https://media3.giphy.com/media/L2HWTrUXkh9wnGtnef/giphy.gif?cid=790b7611f0c8db96023b41e464386f4db9cc3251c5bfb711&rid=giphy.gif&ct=g\" width=\"350\" />"
   ]
  },
  {
   "cell_type": "markdown",
   "id": "a434239d-9bac-4d81-ac49-32160a765084",
   "metadata": {},
   "source": [
    "Ustawmy `LetterFragment` jako fragment domowy - czyli wyświetlany jako pierwszy"
   ]
  },
  {
   "cell_type": "markdown",
   "id": "29140b42-686c-451f-97da-8382f92357bf",
   "metadata": {},
   "source": [
    "<img src=\"https://media1.giphy.com/media/keYDRfiD1JQUXWc0PG/giphy.gif?cid=790b761175c970a92c810f41bb0dc3c45596a4ab7e16a983&rid=giphy.gif&ct=g\" width=\"350\" />"
   ]
  },
  {
   "cell_type": "markdown",
   "id": "28462efe-f78b-4ac7-95af-93b0b9f49792",
   "metadata": {},
   "source": [
    "Pełny kod `navigation.xml`"
   ]
  },
  {
   "cell_type": "code",
   "execution_count": null,
   "id": "1a8f2f47-6207-4e9c-839a-9799d7b1b897",
   "metadata": {},
   "outputs": [],
   "source": [
    "<?xml version=\"1.0\" encoding=\"utf-8\"?>\n",
    "<navigation xmlns:android=\"http://schemas.android.com/apk/res/android\"\n",
    "    xmlns:app=\"http://schemas.android.com/apk/res-auto\"\n",
    "    xmlns:tools=\"http://schemas.android.com/tools\"\n",
    "    android:id=\"@+id/navigation\"\n",
    "    app:startDestination=\"@id/letterFragment\">\n",
    "\n",
    "    <fragment\n",
    "        android:id=\"@+id/letterFragment\"\n",
    "        android:name=\"pl.edu.uwr.pum.listoflistsjava.LetterFragment\"\n",
    "        android:label=\"fragment_letter\"\n",
    "        tools:layout=\"@layout/fragment_letter\" >\n",
    "        <action\n",
    "            android:id=\"@+id/action_letterFragment_to_wordFragment\"\n",
    "            app:destination=\"@id/wordFragment\" />\n",
    "        <argument\n",
    "            android:name=\"letter\"\n",
    "            app:argType=\"string\" />\n",
    "    </fragment>\n",
    "    <fragment\n",
    "        android:id=\"@+id/wordFragment\"\n",
    "        android:name=\"pl.edu.uwr.pum.listoflistsjava.WordFragment\"\n",
    "        android:label=\"fragment_word\"\n",
    "        tools:layout=\"@layout/fragment_word\" />\n",
    "</navigation>"
   ]
  },
  {
   "cell_type": "markdown",
   "id": "4e16a4ad-68c3-4852-b532-f3a9a8ee3a55",
   "metadata": {},
   "source": [
    "Następnie dodajmy akcję do `LetterAdapter`"
   ]
  },
  {
   "cell_type": "code",
   "execution_count": null,
   "id": "ec09b6f3-362e-40bc-8e59-e343d27f7c83",
   "metadata": {},
   "outputs": [],
   "source": [
    "@Override\n",
    "public void onBindViewHolder(@NonNull LetterAdapter.ViewHolder holder, int position) {\n",
    "    char item = letters[position];\n",
    "    holder.button.setText(String.valueOf(item));\n",
    "    holder.button.setOnClickListener(v -> {\n",
    "        NavDirections action = LetterFragmentDirections\n",
    "                .actionLetterFragmentToWordFragment(holder.button.getText().toString());\n",
    "        Navigation.findNavController(holder.itemView).navigate(action);\n",
    "    });\n",
    "}"
   ]
  },
  {
   "cell_type": "markdown",
   "id": "e9675fcc-de78-4025-a279-f0a9e9c63865",
   "metadata": {},
   "source": [
    "Zmodyfikujmy layout głównej aktywności"
   ]
  },
  {
   "cell_type": "code",
   "execution_count": null,
   "id": "e7d11ccd-5c37-42ac-9d4a-31049dc79204",
   "metadata": {},
   "outputs": [],
   "source": [
    "<?xml version=\"1.0\" encoding=\"utf-8\"?>\n",
    "<FrameLayout xmlns:android=\"http://schemas.android.com/apk/res/android\"\n",
    "    xmlns:tools=\"http://schemas.android.com/tools\"\n",
    "    xmlns:app=\"http://schemas.android.com/apk/res-auto\"\n",
    "    android:layout_width=\"match_parent\"\n",
    "    android:layout_height=\"match_parent\"\n",
    "    tools:context=\".MainActivity\">\n",
    "\n",
    "    <androidx.fragment.app.FragmentContainerView\n",
    "        android:id=\"@+id/nav_host_fragment\"\n",
    "        android:name=\"androidx.navigation.fragment.NavHostFragment\"\n",
    "        android:layout_width=\"match_parent\"\n",
    "        android:layout_height=\"match_parent\"\n",
    "        app:defaultNavHost=\"true\"\n",
    "        app:navGraph=\"@navigation/navigation\"/>\n",
    "\n",
    "</FrameLayout>"
   ]
  },
  {
   "cell_type": "markdown",
   "id": "1de218a6-a678-4e4a-a9cf-1ac7da7f2a66",
   "metadata": {},
   "source": [
    "Przekazany argument odbieramy w `WordFragment` w metodzie `onCreate`"
   ]
  },
  {
   "cell_type": "markdown",
   "id": "74949d2b-e4bd-49cb-94a9-b22e991d6e15",
   "metadata": {},
   "source": [
    "Zwróćmy uwagę na klucz \"letter\" - jest to nazwa ustalona przy dodawaniu argumentu w nawigacji"
   ]
  },
  {
   "cell_type": "code",
   "execution_count": null,
   "id": "24bf0ea3-788a-46b5-95c3-e45707d03aed",
   "metadata": {},
   "outputs": [],
   "source": [
    "    <fragment\n",
    "        android:id=\"@+id/wordFragment\"\n",
    "        android:name=\"pl.edu.uwr.pum.listoflistskotlin.WordFragment\"\n",
    "        android:label=\"fragment_word\"\n",
    "        tools:layout=\"@layout/fragment_word\" >\n",
    "        <argument\n",
    "            android:name=\"letter\"\n",
    "            app:argType=\"string\" />\n",
    "    </fragment>"
   ]
  },
  {
   "cell_type": "markdown",
   "id": "f8b8a0a4-27ca-4f76-9761-263b09431bd4",
   "metadata": {},
   "source": [
    "### **Implicit Intent**"
   ]
  },
  {
   "cell_type": "markdown",
   "id": "3170fa7d-f6ee-4211-949a-8cd6e6617b0d",
   "metadata": {},
   "source": [
    "Ostatnim elementem w tej aplikacji będzie wykorzystanie mechanizmu domniemanych intentów w celu wyszukania przez wyszukiwarkę znaczenia danego słowa. Zrobimy to w `WordAdapter`"
   ]
  },
  {
   "cell_type": "code",
   "execution_count": null,
   "id": "07386844-7246-4ffb-9517-e9ab7e46806b",
   "metadata": {},
   "outputs": [],
   "source": [
    "public class WordAdapter extends RecyclerView.Adapter<WordAdapter.ViewHolder> {\n",
    "\n",
    "    private final ArrayList<String> words;\n",
    "    private final Context context;\n",
    "\n",
    "    public WordAdapter(String letter, Context context){\n",
    "        this.context = context;\n",
    "        words = Arrays.stream(context.getResources().getStringArray(R.array.words))\n",
    "                .filter(e -> e.toUpperCase(Locale.ROOT).startsWith(letter))\n",
    "                .collect(Collectors.toCollection(ArrayList::new));\n",
    "    }\n",
    "\n",
    "    protected static class ViewHolder extends RecyclerView.ViewHolder {\n",
    "        private final Button button;\n",
    "\n",
    "        public ViewHolder(@NonNull View itemView) {\n",
    "            super(itemView);\n",
    "            button = itemView.findViewById(R.id.button_item);\n",
    "        }\n",
    "    }\n",
    "\n",
    "    @NonNull\n",
    "    @Override\n",
    "    public WordAdapter.ViewHolder onCreateViewHolder(@NonNull ViewGroup parent, int viewType) {\n",
    "        return new ViewHolder(LayoutInflater\n",
    "                .from(parent.getContext())\n",
    "                .inflate(R.layout.item_view, parent, false));\n",
    "    }\n",
    "\n",
    "    @Override\n",
    "    public void onBindViewHolder(@NonNull WordAdapter.ViewHolder holder, int position) {\n",
    "        String item = words.get(position);\n",
    "        holder.button.setText(item);\n",
    "        holder.button.setOnClickListener(v -> {\n",
    "            Uri queryUrl = Uri.parse(\"https://www.google.com/search?q=\" + item);\n",
    "            Intent intent = new Intent(Intent.ACTION_VIEW, queryUrl);\n",
    "            context.startActivity(intent);\n",
    "        });\n",
    "    }\n",
    "\n",
    "    @Override\n",
    "    public int getItemCount() {\n",
    "        return words.size();\n",
    "    }\n",
    "}\n"
   ]
  },
  {
   "cell_type": "markdown",
   "id": "995dc6b2-db32-412c-9689-48004c7fc135",
   "metadata": {},
   "source": [
    "Możemy przetestować aplikację"
   ]
  },
  {
   "cell_type": "markdown",
   "id": "600fb5cb-011e-48f3-baa1-62b815808431",
   "metadata": {},
   "source": [
    "<img src=\"https://media4.giphy.com/media/12aNUkEltsj9IJX3DK/giphy.gif?cid=790b761153d67ec7afbe0798454db3f988f74125c2830ad8&rid=giphy.gif&ct=g\" width=\"150\" />"
   ]
  },
  {
   "cell_type": "markdown",
   "id": "25898d4b-ddd4-4b3e-a1df-ab8d7b798bbb",
   "metadata": {},
   "source": [
    "Lista słów z pliku `arrays.xml`:\n",
    "\n",
    "```xml\n",
    "<?xml version=\"1.0\" encoding=\"utf-8\"?>\n",
    "<!--\n",
    "     Copyright (C) 2020 The Android Open Source Project\n",
    "\n",
    "     Licensed under the Apache License, Version 2.0 (the \"License\");\n",
    "     you may not use this file except in compliance with the License.\n",
    "     You may obtain a copy of the License at\n",
    "\n",
    "          http://www.apache.org/licenses/LICENSE-2.0\n",
    "\n",
    "     Unless required by applicable law or agreed to in writing, software\n",
    "     distributed under the License is distributed on an \"AS IS\" BASIS,\n",
    "     WITHOUT WARRANTIES OR CONDITIONS OF ANY KIND, either express or implied.\n",
    "     See the License for the specific language governing permissions and\n",
    "     limitations under the License.\n",
    "-->\n",
    "<resources>\n",
    "    <string-array name=\"words\">\n",
    "        <item>aargh</item>\n",
    "        <item>about</item>\n",
    "        <item>acidic</item>\n",
    "        <item>acne</item>\n",
    "        <item>acrid</item>\n",
    "        <item>acute</item>\n",
    "        <item>alphabet</item>\n",
    "        <item>anchor</item>\n",
    "        <item>anecdote</item>\n",
    "        <item>animal</item>\n",
    "        <item>automobile</item>\n",
    "        <item>awesome</item>\n",
    "        <item>back</item>\n",
    "        <item>balloon</item>\n",
    "        <item>basket</item>\n",
    "        <item>bench</item>\n",
    "        <item>best</item>\n",
    "        <item>birthday</item>\n",
    "        <item>books</item>\n",
    "        <item>brief</item>\n",
    "        <item>business</item>\n",
    "        <item>buy</item>\n",
    "        <item>camera</item>\n",
    "        <item>catapult</item>\n",
    "        <item>center</item>\n",
    "        <item>children</item>\n",
    "        <item>city</item>\n",
    "        <item>class</item>\n",
    "        <item>click</item>\n",
    "        <item>coffee</item>\n",
    "        <item>comment</item>\n",
    "        <item>company</item>\n",
    "        <item>contact</item>\n",
    "        <item>copyright</item>\n",
    "        <item>creative</item>\n",
    "        <item>data</item>\n",
    "        <item>day</item>\n",
    "        <item>details</item>\n",
    "        <item>development</item>\n",
    "        <item>dine</item>\n",
    "        <item>dream</item>\n",
    "        <item>dusk</item>\n",
    "        <item>each</item>\n",
    "        <item>education</item>\n",
    "        <item>electric</item>\n",
    "        <item>elephant</item>\n",
    "        <item>email</item>\n",
    "        <item>emerald</item>\n",
    "        <item>event</item>\n",
    "        <item>every</item>\n",
    "        <item>family</item>\n",
    "        <item>file</item>\n",
    "        <item>find</item>\n",
    "        <item>first</item>\n",
    "        <item>flair</item>\n",
    "        <item>flight</item>\n",
    "        <item>follow</item>\n",
    "        <item>forum</item>\n",
    "        <item>fox</item>\n",
    "        <item>free</item>\n",
    "        <item>frequent</item>\n",
    "        <item>full</item>\n",
    "        <item>game</item>\n",
    "        <item>general</item>\n",
    "        <item>glass</item>\n",
    "        <item>good</item>\n",
    "        <item>gram</item>\n",
    "        <item>gray</item>\n",
    "        <item>great</item>\n",
    "        <item>green</item>\n",
    "        <item>group</item>\n",
    "        <item>guide</item>\n",
    "        <item>guitar</item>\n",
    "        <item>haircut</item>\n",
    "        <item>health</item>\n",
    "        <item>hearsay</item>\n",
    "        <item>help</item>\n",
    "        <item>here</item>\n",
    "        <item>home</item>\n",
    "        <item>honey</item>\n",
    "        <item>hundred</item>\n",
    "        <item>hurried</item>\n",
    "        <item>ice</item>\n",
    "        <item>icon</item>\n",
    "        <item>inbox</item>\n",
    "        <item>incomplete</item>\n",
    "        <item>information</item>\n",
    "        <item>investment</item>\n",
    "        <item>item</item>\n",
    "        <item>jackal</item>\n",
    "        <item>january</item>\n",
    "        <item>job</item>\n",
    "        <item>join</item>\n",
    "        <item>joke</item>\n",
    "        <item>journal</item>\n",
    "        <item>july</item>\n",
    "        <item>jump</item>\n",
    "        <item>june</item>\n",
    "        <item>kangaroo</item>\n",
    "        <item>keep</item>\n",
    "        <item>keyboard</item>\n",
    "        <item>kind</item>\n",
    "        <item>kingdom</item>\n",
    "        <item>knowledge</item>\n",
    "        <item>known</item>\n",
    "        <item>koala</item>\n",
    "        <item>landscape</item>\n",
    "        <item>last</item>\n",
    "        <item>late</item>\n",
    "        <item>laugh</item>\n",
    "        <item>lemon</item>\n",
    "        <item>letter</item>\n",
    "        <item>lily</item>\n",
    "        <item>link</item>\n",
    "        <item>list</item>\n",
    "        <item>local</item>\n",
    "        <item>long</item>\n",
    "        <item>madeleine</item>\n",
    "        <item>magazine</item>\n",
    "        <item>make</item>\n",
    "        <item>many</item>\n",
    "        <item>marine</item>\n",
    "        <item>maze</item>\n",
    "        <item>meditate</item>\n",
    "        <item>message</item>\n",
    "        <item>momentum</item>\n",
    "        <item>moon</item>\n",
    "        <item>more</item>\n",
    "        <item>most</item>\n",
    "        <item>mountain</item>\n",
    "        <item>music</item>\n",
    "        <item>name</item>\n",
    "        <item>need</item>\n",
    "        <item>negotiate</item>\n",
    "        <item>news</item>\n",
    "        <item>next</item>\n",
    "        <item>night</item>\n",
    "        <item>north</item>\n",
    "        <item>not</item>\n",
    "        <item>now</item>\n",
    "        <item>number</item>\n",
    "        <item>number</item>\n",
    "        <item>oak</item>\n",
    "        <item>octopus</item>\n",
    "        <item>online</item>\n",
    "        <item>only</item>\n",
    "        <item>opposite</item>\n",
    "        <item>order</item>\n",
    "        <item>other</item>\n",
    "        <item>pack</item>\n",
    "        <item>page</item>\n",
    "        <item>painting</item>\n",
    "        <item>people</item>\n",
    "        <item>pillow</item>\n",
    "        <item>pizza</item>\n",
    "        <item>podcast</item>\n",
    "        <item>polar</item>\n",
    "        <item>policy</item>\n",
    "        <item>post</item>\n",
    "        <item>presentation</item>\n",
    "        <item>price</item>\n",
    "        <item>product</item>\n",
    "        <item>public</item>\n",
    "        <item>puppy</item>\n",
    "        <item>puzzle</item>\n",
    "        <item>quality</item>\n",
    "        <item>quantity</item>\n",
    "        <item>query</item>\n",
    "        <item>quest</item>\n",
    "        <item>question</item>\n",
    "        <item>quick</item>\n",
    "        <item>quince</item>\n",
    "        <item>quite</item>\n",
    "        <item>quotation</item>\n",
    "        <item>read</item>\n",
    "        <item>real</item>\n",
    "        <item>recipe</item>\n",
    "        <item>report</item>\n",
    "        <item>research</item>\n",
    "        <item>restaurant</item>\n",
    "        <item>review</item>\n",
    "        <item>revolve</item>\n",
    "        <item>rewind</item>\n",
    "        <item>right</item>\n",
    "        <item>search</item>\n",
    "        <item>secret</item>\n",
    "        <item>see</item>\n",
    "        <item>seed</item>\n",
    "        <item>service</item>\n",
    "        <item>ship</item>\n",
    "        <item>should</item>\n",
    "        <item>site</item>\n",
    "        <item>skill</item>\n",
    "        <item>stargaze</item>\n",
    "        <item>state</item>\n",
    "        <item>style</item>\n",
    "        <item>sunrise</item>\n",
    "        <item>taxi</item>\n",
    "        <item>tidy</item>\n",
    "        <item>time</item>\n",
    "        <item>together</item>\n",
    "        <item>tourist</item>\n",
    "        <item>trailer</item>\n",
    "        <item>travel</item>\n",
    "        <item>truck</item>\n",
    "        <item>under</item>\n",
    "        <item>unicorn</item>\n",
    "        <item>uniform</item>\n",
    "        <item>unique</item>\n",
    "        <item>united</item>\n",
    "        <item>university</item>\n",
    "        <item>uplife</item>\n",
    "        <item>useful</item>\n",
    "        <item>value</item>\n",
    "        <item>various</item>\n",
    "        <item>vase</item>\n",
    "        <item>version</item>\n",
    "        <item>very</item>\n",
    "        <item>video</item>\n",
    "        <item>view</item>\n",
    "        <item>violin</item>\n",
    "        <item>vision</item>\n",
    "        <item>visit</item>\n",
    "        <item>volume</item>\n",
    "        <item>walrus</item>\n",
    "        <item>wander</item>\n",
    "        <item>well</item>\n",
    "        <item>whirlwind</item>\n",
    "        <item>winter</item>\n",
    "        <item>world</item>\n",
    "        <item>would</item>\n",
    "        <item>xanthin</item>\n",
    "        <item>xenial</item>\n",
    "        <item>xenolith</item>\n",
    "        <item>xenon</item>\n",
    "        <item>xiphoid</item>\n",
    "        <item>yacht</item>\n",
    "        <item>year</item>\n",
    "        <item>yield</item>\n",
    "        <item>yoga</item>\n",
    "        <item>yogurt</item>\n",
    "        <item>young</item>\n",
    "        <item>your</item>\n",
    "        <item>zein</item>\n",
    "        <item>zero</item>\n",
    "        <item>zigzag</item>\n",
    "        <item>zine</item>\n",
    "        <item>zone</item>\n",
    "        <item>zoo</item>\n",
    "        <item>zouk</item>\n",
    "    </string-array>\n",
    "</resources>\n",
    "```"
   ]
  },
  {
   "cell_type": "code",
   "execution_count": null,
   "id": "d2d6e02f-15a5-421d-990b-dd5a2a8805df",
   "metadata": {},
   "outputs": [],
   "source": []
  }
 ],
 "metadata": {
  "kernelspec": {
   "display_name": "Java",
   "language": "java",
   "name": "java"
  },
  "language_info": {
   "codemirror_mode": "java",
   "file_extension": ".jshell",
   "mimetype": "text/x-java-source",
   "name": "Java",
   "pygments_lexer": "java",
   "version": "17+35-2724"
  }
 },
 "nbformat": 4,
 "nbformat_minor": 5
}
