{
 "cells": [
  {
   "cell_type": "markdown",
   "id": "d40933cd-b104-471f-8739-0fc0d134e36f",
   "metadata": {},
   "source": [
    "## 4.3 Jetpack Navigation"
   ]
  },
  {
   "cell_type": "markdown",
   "id": "dc775a2d-d95c-453b-9dcc-c52cca4a64e1",
   "metadata": {},
   "source": [
    "Aplikacja posłuży nam do zapoznania się z podstawami Jetpack Navigation."
   ]
  },
  {
   "cell_type": "markdown",
   "id": "4efed83d-b5ef-4a6a-b67a-f9208ee72c7a",
   "metadata": {},
   "source": [
    "W pierwszym kroku musimy dodać `Navigation` do projektu - przejdźmy do pliku `build.gradle (Module)`. Tutaj dodajemy dwie zależności"
   ]
  },
  {
   "cell_type": "code",
   "execution_count": null,
   "id": "95a2c521-91f9-484f-906d-8edfeb9abd03",
   "metadata": {},
   "outputs": [],
   "source": [
    "def nav_version = \"2.5.0\"\n",
    "implementation \"androidx.navigation:navigation-fragment:$nav_version\"\n",
    "implementation \"androidx.navigation:navigation-ui:$nav_version\""
   ]
  },
  {
   "cell_type": "markdown",
   "id": "2b86592a-5b01-4d68-bde6-6331c372cc0c",
   "metadata": {},
   "source": [
    "Oraz plugin"
   ]
  },
  {
   "cell_type": "code",
   "execution_count": null,
   "id": "f39632dd-15d1-4a90-9133-304368daefac",
   "metadata": {},
   "outputs": [],
   "source": [
    "plugins {\n",
    "    id 'com.android.application'\n",
    "    id 'androidx.navigation.safeargs'\n",
    "}"
   ]
  },
  {
   "cell_type": "markdown",
   "id": "31b05e1d-43a3-4fc2-893d-544e3e603cbe",
   "metadata": {},
   "source": [
    "Następnie w pliku `build.gradle (Project)` dodajemy"
   ]
  },
  {
   "cell_type": "code",
   "execution_count": null,
   "id": "9cde9219-7d3e-4cd7-9777-132f63e2a8c2",
   "metadata": {},
   "outputs": [],
   "source": [
    "buildscript { // przed blokiem plugins\n",
    "    repositories {\n",
    "        google()\n",
    "    }\n",
    "    dependencies {\n",
    "        def nav_version = \"2.5.0\"\n",
    "        classpath \"androidx.navigation:navigation-safe-args-gradle-plugin:$nav_version\"\n",
    "    }\n",
    "}"
   ]
  },
  {
   "cell_type": "markdown",
   "id": "f801db71-80fe-4344-8d77-4ba4db73b90d",
   "metadata": {},
   "source": [
    "Dodajmy do projektu dwa fragmenty"
   ]
  },
  {
   "cell_type": "code",
   "execution_count": null,
   "id": "129a3645-5c41-42d5-b355-8b25ae5be05e",
   "metadata": {},
   "outputs": [],
   "source": [
    "public class FragmentA extends Fragment {\n",
    "    @Override\n",
    "    public View onCreateView(LayoutInflater inflater, ViewGroup container,\n",
    "                             Bundle savedInstanceState) {\n",
    "        return inflater.inflate(R.layout.fragment_a, container, false);\n",
    "    }\n",
    "}\n",
    "\n",
    "public class FragmentB extends Fragment {\n",
    "\n",
    "    @Override\n",
    "    public View onCreateView(LayoutInflater inflater, ViewGroup container,\n",
    "                             Bundle savedInstanceState) {\n",
    "        return inflater.inflate(R.layout.fragment_b, container, false);\n",
    "    }\n",
    "}"
   ]
  },
  {
   "cell_type": "code",
   "execution_count": null,
   "id": "b1c216cd-7c4c-44d8-af02-eb0efe450606",
   "metadata": {},
   "outputs": [],
   "source": [
    "<?xml version=\"1.0\" encoding=\"utf-8\"?>\n",
    "<FrameLayout xmlns:android=\"http://schemas.android.com/apk/res/android\"\n",
    "    xmlns:tools=\"http://schemas.android.com/tools\"\n",
    "    android:layout_width=\"match_parent\"\n",
    "    android:layout_height=\"match_parent\"\n",
    "    tools:context=\".FragmentA\">\n",
    "\n",
    "    <TextView\n",
    "        android:layout_width=\"match_parent\"\n",
    "        android:layout_height=\"match_parent\"\n",
    "        android:text=\"FRAGMENT A\"\n",
    "        android:textColor=\"@color/black\"\n",
    "        android:textSize=\"36sp\"\n",
    "        android:layout_gravity=\"center_horizontal\"\n",
    "        android:gravity=\"center\"/>\n",
    "\n",
    "    <com.google.android.material.floatingactionbutton.FloatingActionButton\n",
    "        android:id=\"@+id/fabA\"\n",
    "        android:layout_width=\"wrap_content\"\n",
    "        android:layout_height=\"wrap_content\"\n",
    "        android:layout_margin=\"16dp\"\n",
    "        android:clickable=\"true\"\n",
    "        android:src=\"@android:drawable/arrow_up_float\"\n",
    "        android:contentDescription=\"FAB\" />\n",
    "</FrameLayout>"
   ]
  },
  {
   "cell_type": "code",
   "execution_count": null,
   "id": "3f221653-b20c-4d7a-9523-9464c1a3086d",
   "metadata": {},
   "outputs": [],
   "source": [
    "<?xml version=\"1.0\" encoding=\"utf-8\"?>\n",
    "<FrameLayout xmlns:android=\"http://schemas.android.com/apk/res/android\"\n",
    "    xmlns:tools=\"http://schemas.android.com/tools\"\n",
    "    android:layout_width=\"match_parent\"\n",
    "    android:layout_height=\"match_parent\"\n",
    "    tools:context=\".FragmentB\">\n",
    "\n",
    "    <TextView\n",
    "        android:layout_width=\"match_parent\"\n",
    "        android:layout_height=\"match_parent\"\n",
    "        android:text=\"FRAGMENT B\"\n",
    "        android:textColor=\"@color/black\"\n",
    "        android:textSize=\"36sp\"\n",
    "        android:layout_gravity=\"center_horizontal\"\n",
    "        android:gravity=\"center\"/>\n",
    "\n",
    "    <com.google.android.material.floatingactionbutton.FloatingActionButton\n",
    "        android:id=\"@+id/fabB\"\n",
    "        android:layout_width=\"wrap_content\"\n",
    "        android:layout_height=\"wrap_content\"\n",
    "        android:layout_margin=\"16dp\"\n",
    "        android:clickable=\"true\"\n",
    "        android:src=\"@android:drawable/arrow_up_float\"\n",
    "        android:contentDescription=\"FAB\" />\n",
    "</FrameLayout>"
   ]
  },
  {
   "cell_type": "markdown",
   "id": "c97d71f9-35ff-46ef-8380-b975283887dc",
   "metadata": {},
   "source": [
    "W aplikacji oba fragmenty będą hostowane przez `MainActivity` - dodamy poruszanie się pomiędzy fragmentami oraz przekazanie pomiędzy nimi danych. Rozpocznijmy od dodania komponentu navigation. Otwieramy menu kontekstowe na katalogu `res`, wybieramy **New -> Android Resource File**, następnie jako `Rresource type` wybieramy `Navigation`."
   ]
  },
  {
   "cell_type": "markdown",
   "id": "c49d5e30-071e-4573-b0da-ed8f2de6754b",
   "metadata": {},
   "source": [
    "<img src=\"https://media2.giphy.com/media/rT4AlrQTeyMcvxTtWJ/giphy.gif?cid=790b76113217a5c7c107d9af885c7436f4e307b4deecb3ea&rid=giphy.gif&ct=g\" width=\"350\" />"
   ]
  },
  {
   "cell_type": "markdown",
   "id": "81d5f92d-1a98-4241-b492-32df6322d61c",
   "metadata": {},
   "source": [
    "Dodajmy nasze dwa fragmenty do `Navigation` - wybieram **New Destination**"
   ]
  },
  {
   "cell_type": "markdown",
   "id": "8e36de74-9bc6-46ee-9bce-0a01393114c4",
   "metadata": {},
   "source": [
    "<img src=\"https://media0.giphy.com/media/SauLtu5l6x2jTx2i9h/giphy.gif?cid=790b7611691e19128a2195d8e2acc46b0710f6dc29ccbf71&rid=giphy.gif&ct=g\" width=\"350\" />"
   ]
  },
  {
   "cell_type": "markdown",
   "id": "8188f11b-dc0d-4c51-9247-ea045edb4c4a",
   "metadata": {},
   "source": [
    "Następnie zdefiniujemy dwie akcje - przejście z `FragmentA` do `FragmentB` i przejście z `FragmentB` do `FragmentA`"
   ]
  },
  {
   "cell_type": "markdown",
   "id": "a48e1ac1-407a-405e-82c0-d40336dc2fac",
   "metadata": {},
   "source": [
    "<img src=\"https://media2.giphy.com/media/3mk9wIGGBFL38MRxQn/giphy.gif?cid=790b76113ee2bedc21833cf2196182a17ac22d49e5002864&rid=giphy.gif&ct=g\" width=\"350\" />"
   ]
  },
  {
   "cell_type": "markdown",
   "id": "71cea453-9893-482d-b0cc-19cc08f934b5",
   "metadata": {},
   "source": [
    "Przechodząc do zakładki `Code` widzimy że mamy dodane do nawigacji dwa fragmenty oraz zdefiniowane dwie akcje."
   ]
  },
  {
   "cell_type": "code",
   "execution_count": null,
   "id": "8f1fe941-e1ed-4c35-a704-9e3f1742a4d4",
   "metadata": {},
   "outputs": [],
   "source": [
    "<?xml version=\"1.0\" encoding=\"utf-8\"?>\n",
    "<navigation xmlns:android=\"http://schemas.android.com/apk/res/android\"\n",
    "    xmlns:app=\"http://schemas.android.com/apk/res-auto\"\n",
    "    xmlns:tools=\"http://schemas.android.com/tools\"\n",
    "    android:id=\"@+id/navigation\"\n",
    "    app:startDestination=\"@id/fragmentA\">\n",
    "\n",
    "    <fragment\n",
    "        android:id=\"@+id/fragmentA\"\n",
    "        android:name=\"pl.edu.uwr.pum.jetpacknavigationjava.FragmentA\"\n",
    "        android:label=\"fragment_a\"\n",
    "        tools:layout=\"@layout/fragment_a\" >\n",
    "        <action\n",
    "            android:id=\"@+id/to_fragmentB\"\n",
    "            app:destination=\"@id/fragmentB\" />\n",
    "    </fragment>\n",
    "    <fragment\n",
    "        android:id=\"@+id/fragmentB\"\n",
    "        android:name=\"pl.edu.uwr.pum.jetpacknavigationjava.FragmentB\"\n",
    "        android:label=\"fragment_b\"\n",
    "        tools:layout=\"@layout/fragment_b\" >\n",
    "        <action\n",
    "            android:id=\"@+id/to_fragmentA\"\n",
    "            app:destination=\"@id/fragmentA\" />\n",
    "    </fragment>\n",
    "</navigation>"
   ]
  },
  {
   "cell_type": "markdown",
   "id": "d9451020-b523-4414-88b7-47a7af1c7fd4",
   "metadata": {},
   "source": [
    "W kolejnym kroku umieścimy utworzoną nawigację w głównej aktywności. Przejdźmy do pliku `activity_main.xml`"
   ]
  },
  {
   "cell_type": "code",
   "execution_count": null,
   "id": "35f1cba0-773a-485f-a8a4-fd374147dcca",
   "metadata": {},
   "outputs": [],
   "source": [
    "<?xml version=\"1.0\" encoding=\"utf-8\"?>\n",
    "<androidx.constraintlayout.widget.ConstraintLayout \n",
    "xmlns:android=\"http://schemas.android.com/apk/res/android\"\n",
    "    xmlns:app=\"http://schemas.android.com/apk/res-auto\"\n",
    "    xmlns:tools=\"http://schemas.android.com/tools\"\n",
    "    android:layout_width=\"match_parent\"\n",
    "    android:layout_height=\"match_parent\"\n",
    "    tools:context=\".MainActivity\">\n",
    "\n",
    "    <androidx.fragment.app.FragmentContainerView\n",
    "        android:id=\"@+id/fragmentContainerView\"\n",
    "        android:name=\"androidx.navigation.fragment.NavHostFragment\"\n",
    "        android:layout_width=\"409dp\"\n",
    "        android:layout_height=\"729dp\"\n",
    "        app:defaultNavHost=\"true\"\n",
    "        app:layout_constraintBottom_toBottomOf=\"parent\"\n",
    "        app:layout_constraintEnd_toEndOf=\"parent\"\n",
    "        app:layout_constraintStart_toStartOf=\"parent\"\n",
    "        app:layout_constraintTop_toTopOf=\"parent\"\n",
    "        app:navGraph=\"@navigation/navigation\" />\n",
    "</androidx.constraintlayout.widget.ConstraintLayout>"
   ]
  },
  {
   "cell_type": "markdown",
   "id": "86fac6b7-ddf7-49e4-a51e-c01839edb3be",
   "metadata": {},
   "source": [
    "Umożliwmy teraz przejście pomiędzy fragmentami - przejdźmy do `FragmentA` i w metodzie `onCreateView` zaimplementujmy metodę `onClick` naszego przycisku FAB."
   ]
  },
  {
   "cell_type": "code",
   "execution_count": null,
   "id": "01cc1b04-32a7-414d-acfd-372e349b75ae",
   "metadata": {},
   "outputs": [],
   "source": [
    "@Override\n",
    "public View onCreateView(LayoutInflater inflater, ViewGroup container,\n",
    "                         Bundle savedInstanceState) {\n",
    "    View view = inflater.inflate(R.layout.fragment_a, container, false);\n",
    "\n",
    "    view.findViewById(R.id.fabA).setOnClickListener(v ->{\n",
    "\n",
    "    });\n",
    "\n",
    "    return view;\n",
    "}"
   ]
  },
  {
   "cell_type": "markdown",
   "id": "f4883e1e-6a6c-48a4-a5b4-d7c58e2b11e6",
   "metadata": {},
   "source": [
    "W pierwszym kroku powiązujemy zdefiniowaną w `navigation.xml` akcję przejścia z `FragemntA` do `FragmentB` z polem typu `NavDirections`"
   ]
  },
  {
   "cell_type": "code",
   "execution_count": null,
   "id": "b236d2e2-c726-4728-8c9a-f0f92efbe04f",
   "metadata": {},
   "outputs": [],
   "source": [
    "NavDirections action = FragmentADirections.toFragmentB();"
   ]
  },
  {
   "cell_type": "markdown",
   "id": "ef59d0cb-0958-40ee-adfe-138a2d9cd27e",
   "metadata": {},
   "source": [
    "Klasa `FragmentADirections` jest klasą utworzoną automatycznie - zawiera ona metody powiązane ze zdefiniowanymi akcjami z pliku `navigation`"
   ]
  },
  {
   "cell_type": "markdown",
   "id": "a98ab149-dd19-4520-b885-72250f55a0eb",
   "metadata": {},
   "source": [
    "Następnie z klasy `Navigation` wywołujemy metodę `findNavControler`, która jako argument przyjmuje obiekt `View` - metoda ta zwraca `NavControler` powiązany z obietem `View` podanym w argumencie. Na koniec wywołujemy metodę `navigate` podając `action` jako argument."
   ]
  },
  {
   "cell_type": "code",
   "execution_count": null,
   "id": "2a3a0f04-7717-4adf-9e54-6af444afa6e6",
   "metadata": {},
   "outputs": [],
   "source": [
    "Navigation.findNavController(view).navigate(action);"
   ]
  },
  {
   "cell_type": "markdown",
   "id": "92bdedf2-f7c1-460b-8998-3540a57dcbd1",
   "metadata": {},
   "source": [
    "Możemy przetestować aplikację."
   ]
  },
  {
   "cell_type": "markdown",
   "id": "10174ebb-f6be-46aa-99d3-fc30c8d939bf",
   "metadata": {},
   "source": [
    "<img src=\"https://media2.giphy.com/media/SNlQKJgamzMqJ1P07l/giphy.gif?cid=790b7611999ca5eb8b95dd6d1e5d99374fd2179e95cfb8e4&rid=giphy.gif&ct=g\" width=\"150\" />"
   ]
  },
  {
   "cell_type": "markdown",
   "id": "3ae4ba70-26a6-4f86-8ab7-18e94ae768d7",
   "metadata": {},
   "source": [
    "Możemy przejść z `FragmentA` na `FragmentB`. Zwróćmy uwagę że po naciśnięciu systemowego przycisku 'wstecz' nie opuszczamy aplikacji a powracamy do wcześniej odwiedzonego fragmentu."
   ]
  },
  {
   "cell_type": "markdown",
   "id": "6ac34bcd-a33e-46b8-b7af-bd8498a3a685",
   "metadata": {},
   "source": [
    "Analogicznie zaimplementujmy nawigację wc odwrotną stronę."
   ]
  },
  {
   "cell_type": "code",
   "execution_count": null,
   "id": "30bd403f-dade-4df0-ada3-5935f4e87f1a",
   "metadata": {},
   "outputs": [],
   "source": [
    "public class FragmentB extends Fragment {\n",
    "\n",
    "    @Override\n",
    "    public View onCreateView(LayoutInflater inflater, ViewGroup container,\n",
    "                             Bundle savedInstanceState) {\n",
    "        View view = inflater.inflate(R.layout.fragment_b, container, false);\n",
    "\n",
    "        view.findViewById(R.id.fabB).setOnClickListener(v ->{\n",
    "            NavDirections action = FragmentBDirections.toFragmentA();\n",
    "            Navigation.findNavController(view).navigate(action);\n",
    "        });\n",
    "\n",
    "        return view;\n",
    "    }\n",
    "}"
   ]
  },
  {
   "cell_type": "markdown",
   "id": "d9964731-8fcf-4421-9ced-3a2428cba149",
   "metadata": {},
   "source": [
    "<img src=\"https://media4.giphy.com/media/GCR61ZZK0DUQiMMNnL/giphy.gif?cid=790b76119275b562d7caf362c7c59b22110e155367f1ff96&rid=giphy.gif&ct=g\" width=\"150\" />"
   ]
  },
  {
   "cell_type": "markdown",
   "id": "d5109d6d-3451-4e1c-aedb-535d854bb5e8",
   "metadata": {},
   "source": [
    "Ostatnim elementem w tej aplikacji będzie przekazanie argumentu z `FragmentA` do `FragmentB` i wyświetlenie go w polu `TextView`. W tym celu utworzymy obiekt typu `Bundle` w którym przekażemy argument."
   ]
  },
  {
   "cell_type": "code",
   "execution_count": null,
   "id": "5916c0c9-47b4-4a5e-a1f4-0e013991c2cd",
   "metadata": {},
   "outputs": [],
   "source": [
    "public class FragmentA extends Fragment {\n",
    "    @Override\n",
    "    public View onCreateView(LayoutInflater inflater, ViewGroup container,\n",
    "                             Bundle savedInstanceState) {\n",
    "        View view = inflater.inflate(R.layout.fragment_a, container, false);\n",
    "\n",
    "        view.findViewById(R.id.fabA).setOnClickListener(v ->{\n",
    "            //NavDirections action = FragmentADirections.toFragmentB();\n",
    "\n",
    "            Bundle args = new Bundle();\n",
    "            args.putInt(\"key\", 5);\n",
    "            Navigation.findNavController(view).navigate(R.id.to_fragmentB, args);\n",
    "        });\n",
    "\n",
    "        return view;\n",
    "    }\n",
    "}"
   ]
  },
  {
   "cell_type": "markdown",
   "id": "efb6ff4c-8d5e-41e6-bdc1-824ab0ff4d0b",
   "metadata": {},
   "source": [
    "W metodzie `navigate` tym razem wprost odwołujemy się do zdefiniowanej akcji `to_fragmentB` i jako deugi argument podajemy nasz obiekt `Bundle`.\n",
    "\n",
    "Przejdźmy do `FragmentB` i odbierzmy dane - do metodzy `onCreateView` dodajemy"
   ]
  },
  {
   "cell_type": "code",
   "execution_count": null,
   "id": "aaa38683-6125-4201-9941-3a9d536cb8ff",
   "metadata": {},
   "outputs": [],
   "source": [
    "TextView textView = view.findViewById(R.id.textViewB);\n",
    "textView.setText(String.valueOf(\n",
    "        getArguments() != null ? getArguments().getInt(\"key\") : 0\n",
    "));"
   ]
  },
  {
   "cell_type": "markdown",
   "id": "af4db2fe-bb70-4c48-874a-8b6e340e714f",
   "metadata": {},
   "source": [
    "Metoda `getArguments` pozwala odebrać przekazany obiekt - jeżeli jest `null` (obiekt nie istnieje) wstawiamy wartość domyślną."
   ]
  },
  {
   "cell_type": "markdown",
   "id": "771f3b1b-a5cb-4c58-8e73-00be774710ae",
   "metadata": {},
   "source": [
    "<img src=\"https://media0.giphy.com/media/xNGay43XL19rl7xQ2b/giphy.gif?cid=790b7611e3be23a0dca6dbfd13497708cacbfa1c7c9f9966&rid=giphy.gif&ct=g\" width=\"150\" />"
   ]
  },
  {
   "cell_type": "code",
   "execution_count": null,
   "id": "cf63567a-08ad-437a-b032-927d863cf3c4",
   "metadata": {},
   "outputs": [],
   "source": []
  }
 ],
 "metadata": {
  "kernelspec": {
   "display_name": "Java",
   "language": "java",
   "name": "java"
  },
  "language_info": {
   "codemirror_mode": "java",
   "file_extension": ".jshell",
   "mimetype": "text/x-java-source",
   "name": "Java",
   "pygments_lexer": "java",
   "version": "17+35-2724"
  }
 },
 "nbformat": 4,
 "nbformat_minor": 5
}
