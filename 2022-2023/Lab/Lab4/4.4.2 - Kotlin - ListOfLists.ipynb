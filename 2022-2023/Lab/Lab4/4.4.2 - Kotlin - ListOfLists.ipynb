{
 "cells": [
  {
   "cell_type": "markdown",
   "id": "069d3f06-a735-4aa6-a50d-3af8cdf57df0",
   "metadata": {},
   "source": [
    "## 4.4 ListOfLists"
   ]
  },
  {
   "cell_type": "markdown",
   "id": "3707f445-f8bb-42b0-b243-7044cc095ede",
   "metadata": {},
   "source": [
    "Wykorzystamy `Jetpack Navigation` wraz z `RecyclerView` aby stworzyć prostą aplikację w modelu **master-detail**."
   ]
  },
  {
   "cell_type": "code",
   "execution_count": null,
   "id": "ea845e8c-51fd-4661-bca9-01940fa76141",
   "metadata": {},
   "outputs": [],
   "source": []
  },
  {
   "cell_type": "markdown",
   "id": "79311e44-ff75-454d-9e14-ae47fd984602",
   "metadata": {},
   "source": [
    "### **Fragmenty**"
   ]
  },
  {
   "cell_type": "markdown",
   "id": "845b8b6c-c2c3-404a-aebd-25306e3958d3",
   "metadata": {},
   "source": [
    "W aplikacji będziemy posiadać dwa fragmenty hostowane przez aktywność. Oba fragmenty będą zawierać `RecyclerView` - na jednym będzie znajdowała się lista liter, nac drugim lista słów na daną literę. Rozpocznijmy od dodania dwóch fragmentów."
   ]
  },
  {
   "cell_type": "code",
   "execution_count": null,
   "id": "dc47802e-4ca8-443a-8e8d-1b6e7ee066e1",
   "metadata": {},
   "outputs": [],
   "source": [
    "class LetterFragment : Fragment() {\n",
    "\n",
    "    override fun onCreateView(\n",
    "        inflater: LayoutInflater, container: ViewGroup?,\n",
    "        savedInstanceState: Bundle?\n",
    "    ): View? {\n",
    "        return inflater.inflate(R.layout.fragment_letter, container, false)\n",
    "    }\n",
    "}"
   ]
  },
  {
   "cell_type": "markdown",
   "id": "697ed719-1a82-4119-a20c-b307b1606e4d",
   "metadata": {},
   "source": [
    "```xml\n",
    "<FrameLayout xmlns:android=\"http://schemas.android.com/apk/res/android\"\n",
    "    xmlns:tools=\"http://schemas.android.com/tools\"\n",
    "    android:layout_width=\"match_parent\"\n",
    "    android:layout_height=\"match_parent\"\n",
    "    tools:context=\".LetterFragment\">\n",
    "\n",
    "    <androidx.recyclerview.widget.RecyclerView\n",
    "        android:id=\"@+id/letterRecyclerView\"\n",
    "        android:layout_width=\"match_parent\"\n",
    "        android:layout_height=\"match_parent\"\n",
    "        android:clipToPadding=\"false\"\n",
    "        android:padding=\"16dp\" />\n",
    "\n",
    "</FrameLayout>\n",
    "```"
   ]
  },
  {
   "cell_type": "code",
   "execution_count": null,
   "id": "c0d98453-fe5a-4926-baaa-88b0c89a3002",
   "metadata": {},
   "outputs": [],
   "source": [
    "class WordFragment : Fragment() {\n",
    "\n",
    "    override fun onCreateView(\n",
    "        inflater: LayoutInflater, container: ViewGroup?,\n",
    "        savedInstanceState: Bundle?\n",
    "    ): View? {\n",
    "        return inflater.inflate(R.layout.fragment_word, container, false)\n",
    "    }\n",
    "}"
   ]
  },
  {
   "cell_type": "markdown",
   "id": "2e7326c1-bf27-447d-8de5-0502cf601335",
   "metadata": {},
   "source": [
    "```xml\n",
    "<FrameLayout xmlns:android=\"http://schemas.android.com/apk/res/android\"\n",
    "    xmlns:tools=\"http://schemas.android.com/tools\"\n",
    "    android:layout_width=\"match_parent\"\n",
    "    android:layout_height=\"match_parent\"\n",
    "    tools:context=\".WordFragment\">\n",
    "\n",
    "    <androidx.recyclerview.widget.RecyclerView\n",
    "        android:id=\"@+id/wordRecyclerView\"\n",
    "        android:layout_width=\"match_parent\"\n",
    "        android:layout_height=\"match_parent\"\n",
    "        android:clipToPadding=\"false\"\n",
    "        android:padding=\"16dp\" />\n",
    "\n",
    "</FrameLayout>\n",
    "```"
   ]
  },
  {
   "cell_type": "markdown",
   "id": "8f1acb45-e720-4429-86f7-113ac578f02a",
   "metadata": {},
   "source": [
    "### **Adaptery**"
   ]
  },
  {
   "cell_type": "markdown",
   "id": "0f7fcc5f-7808-40c4-9ec3-5d2496718a49",
   "metadata": {},
   "source": [
    "W kolejnym kroku napiszemy adaptery dla liter i słów. Rozpocznijmy od layoutu który będą wykorzystywały oba adaptery (`item_view.xml`)\n",
    "\n",
    "```xml\n",
    "<?xml version=\"1.0\" encoding=\"utf-8\"?>\n",
    "<Button xmlns:android=\"http://schemas.android.com/apk/res/android\"\n",
    "    android:id=\"@+id/button_item\"\n",
    "    android:layout_width=\"match_parent\"\n",
    "    android:layout_height=\"wrap_content\"\n",
    "    android:layout_margin=\"4dp\"\n",
    "    android:padding=\"8dp\" />\n",
    "```"
   ]
  },
  {
   "cell_type": "markdown",
   "id": "f39ea0f2-6c6d-4ad8-9d1a-5121b349b34a",
   "metadata": {},
   "source": [
    "Przejdźmy do `LetterAdapter`"
   ]
  },
  {
   "cell_type": "code",
   "execution_count": null,
   "id": "6b208131-7e9d-4393-8fa4-12ea38e39db1",
   "metadata": {},
   "outputs": [],
   "source": [
    "class LetterAdapter : RecyclerView.Adapter<LetterAdapter.LetterViewHolder>(){\n",
    "    private val list = ('A').rangeTo('Z').toList()\n",
    "\n",
    "    class LetterViewHolder(private val view: View) : RecyclerView.ViewHolder(view) {\n",
    "        val button: Button = view.findViewById(R.id.button_item)\n",
    "    }\n",
    "\n",
    "    override fun getItemCount(): Int = list.size\n",
    "\n",
    "    override fun onCreateViewHolder(parent: ViewGroup, viewType: Int): LetterViewHolder {\n",
    "        return LetterViewHolder(LayoutInflater\n",
    "            .from(parent.context)\n",
    "            .inflate(R.layout.item_view, parent, false))\n",
    "    }\n",
    "\n",
    "    override fun onBindViewHolder(holder: LetterViewHolder, position: Int) {\n",
    "        val item = list[position]\n",
    "        holder.button.text = item.toString()\n",
    "    }\n",
    "}"
   ]
  },
  {
   "cell_type": "markdown",
   "id": "b1c5cbb1-02fa-4cc4-b427-30e5efcc6823",
   "metadata": {},
   "source": [
    "`WordAdapter` będzie zawierał listę słów zaczynających się na literę, którą użytkownik wybierze na ekranie `FragmentLetter` - lista wszystkich śłów znajduje się w pliku `arrays.xml`"
   ]
  },
  {
   "cell_type": "code",
   "execution_count": null,
   "id": "a5a03a9e-5db5-4596-bf02-468a540cfe56",
   "metadata": {},
   "outputs": [],
   "source": [
    "class WordAdapter(private val letter: String, context: Context) :\n",
    "    RecyclerView.Adapter<WordAdapter.WordViewHolder>() {}"
   ]
  },
  {
   "cell_type": "markdown",
   "id": "602780a3-a92a-4092-9d90-926c1fafc856",
   "metadata": {},
   "source": [
    "W konstruktorze głównym `WordAdapter` przyjmuje literę, który będzie wykorzystywany do przefiltrowania listy wszystkich słów. Wczytywanie oraz filtrowanie wykonujemy w bloku `init`"
   ]
  },
  {
   "cell_type": "code",
   "execution_count": null,
   "id": "159ea0ec-2492-499f-9dc8-e5193a9aaf70",
   "metadata": {},
   "outputs": [],
   "source": [
    "class WordAdapter(private val letterId: String, context: Context) :\n",
    "    RecyclerView.Adapter<WordAdapter.WordViewHolder>() {\n",
    "\n",
    "    private val words: List<String>\n",
    "\n",
    "    init {\n",
    "        words = context.resources.getStringArray(R.array.words).toList()\n",
    "            .filter { it.startsWith(letterId, ignoreCase = true) }\n",
    "    }\n",
    "\n",
    "    class WordViewHolder(private val view: View) : RecyclerView.ViewHolder(view) {\n",
    "        val button: Button = view.findViewById(R.id.button_item)\n",
    "    }\n",
    "\n",
    "    override fun getItemCount(): Int = words.size\n",
    "\n",
    "    override fun onCreateViewHolder(parent: ViewGroup, viewType: Int): WordViewHolder {\n",
    "        return WordViewHolder(LayoutInflater\n",
    "            .from(parent.context)\n",
    "            .inflate(R.layout.item_view, parent, false))\n",
    "    }\n",
    "\n",
    "    override fun onBindViewHolder(holder: WordViewHolder, position: Int) {\n",
    "        val item = words[position]\n",
    "        holder.button.text = item\n",
    "    }\n",
    "}"
   ]
  },
  {
   "cell_type": "markdown",
   "id": "91830a3f-e473-436e-9d2f-5684f087ad4f",
   "metadata": {},
   "source": [
    "Dodajmy `RecyclerView` do `LetterFragment` oraz połączmy go z `LetterAdapter` -wykonujemy to w metodzie `onViewCreated`"
   ]
  },
  {
   "cell_type": "code",
   "execution_count": null,
   "id": "76861871-6ff6-4e39-981f-dd291705f2f6",
   "metadata": {},
   "outputs": [],
   "source": [
    "class LetterFragment : Fragment() {\n",
    "\n",
    "    override fun onCreateView(\n",
    "        inflater: LayoutInflater, container: ViewGroup?,\n",
    "        savedInstanceState: Bundle?\n",
    "    ): View? {\n",
    "        return inflater.inflate(R.layout.fragment_letter, container, false)\n",
    "    }\n",
    "\n",
    "    override fun onViewCreated(view: View, savedInstanceState: Bundle?) {\n",
    "        super.onViewCreated(view, savedInstanceState)\n",
    "        val recyclerView: RecyclerView = view.findViewById(R.id.letterRecyclerView)\n",
    "        recyclerView.layoutManager = LinearLayoutManager(context)\n",
    "        recyclerView.adapter = LetterAdapter()\n",
    "    }\n",
    "}"
   ]
  },
  {
   "cell_type": "markdown",
   "id": "3c5b982f-c4f6-4236-bd39-beca0bb637ec",
   "metadata": {},
   "source": [
    "### **Nawigacja**"
   ]
  },
  {
   "cell_type": "markdown",
   "id": "249b1fe9-1edf-467b-9879-63e9cf40cb27",
   "metadata": {},
   "source": [
    "Rozpoczniemy od dodania odpowiednich wpisów do plików `build.gradle`. Do `build.gradle(Module)` dodajemy"
   ]
  },
  {
   "cell_type": "code",
   "execution_count": null,
   "id": "749f9717-ee29-4ca8-b36a-2e68df4b4c9d",
   "metadata": {},
   "outputs": [],
   "source": [
    "plugins {\n",
    "    id 'com.android.application'\n",
    "    id 'org.jetbrains.kotlin.android'\n",
    "    id 'androidx.navigation.safeargs.kotlin'\n",
    "}\n",
    "\n",
    "dependencies {\n",
    "\n",
    "    def nav_version = \"2.5.0\"\n",
    "    implementation \"androidx.navigation:navigation-fragment:$nav_version\"\n",
    "    implementation \"androidx.navigation:navigation-ui:$nav_version\"\n",
    "}"
   ]
  },
  {
   "cell_type": "markdown",
   "id": "99eaf7b9-0941-4bf7-9c3c-9b1837cea41d",
   "metadata": {},
   "source": [
    "do pliku `build.gradle(Project)` przed blokiem `plugins` dodajemy"
   ]
  },
  {
   "cell_type": "code",
   "execution_count": null,
   "id": "05c42a2d-5681-4f4b-83fa-471aa48964cf",
   "metadata": {},
   "outputs": [],
   "source": [
    "buildscript {\n",
    "    repositories {\n",
    "        google()\n",
    "    }\n",
    "    dependencies {\n",
    "        def nav_version = \"2.5.0\"\n",
    "        classpath \"androidx.navigation:navigation-safe-args-gradle-plugin:$nav_version\"\n",
    "    }\n",
    "}"
   ]
  },
  {
   "cell_type": "markdown",
   "id": "34d74acd-ac57-41be-910f-a71212f93208",
   "metadata": {},
   "source": [
    "Rozwijamy menu kontekstowe na katalogu `res` i wybieramy **New -> Android Resource File**. Jako **Resource type** wybieramy `Navigation`, wpisujemy nazwę i przechodzimy dalej. Dodajemy nasze dwa fragmenty do grafu przez kliknięcie **New Destination**"
   ]
  },
  {
   "cell_type": "markdown",
   "id": "f0bf6ce2-77f6-46c7-a6d1-71077bada326",
   "metadata": {},
   "source": [
    "<img src=\"https://media0.giphy.com/media/lpAzNFvKo2YYtS713w/giphy.gif?cid=790b7611aa030c5383793eabae2f506a034df4ec59a8020e&rid=giphy.gif&ct=g\" width=\"350\" />"
   ]
  },
  {
   "cell_type": "markdown",
   "id": "3e7393c6-14a8-4b7d-99b1-6525d7cf2518",
   "metadata": {},
   "source": [
    "Zdefiniujmy akcję przejścia z `LetterFragment` do `WordFragment`"
   ]
  },
  {
   "cell_type": "markdown",
   "id": "0daa9bee-6633-4c5e-abd3-231013b9be89",
   "metadata": {},
   "source": [
    "<img src=\"https://media4.giphy.com/media/aEEE3YWxiOFwZIcKev/giphy.gif?cid=790b7611d69d9d1eb8ad6387ac07248ff1600f4a68b48059&rid=giphy.gif&ct=g\" width=\"350\" />"
   ]
  },
  {
   "cell_type": "markdown",
   "id": "0aede1e8-f5d7-48f1-aca4-fd7879dcf239",
   "metadata": {},
   "source": [
    "Będziemy przekazywać literę wybraną przez użytkownika w `LetterFragment`, więc dodajmy argument do fragmentu docelowego. W tym celu otwierzmy panel boczny **Attributes** i w zakładce **Arguments** dodajemy argument typu `String`"
   ]
  },
  {
   "cell_type": "markdown",
   "id": "ab09e2b9-f440-4ae9-b93c-926f2eb4c931",
   "metadata": {},
   "source": [
    "<img src=\"https://media3.giphy.com/media/L2HWTrUXkh9wnGtnef/giphy.gif?cid=790b7611f0c8db96023b41e464386f4db9cc3251c5bfb711&rid=giphy.gif&ct=g\" width=\"350\" />"
   ]
  },
  {
   "cell_type": "markdown",
   "id": "59073502-3e2a-4d59-a9a3-efba3d813b4a",
   "metadata": {},
   "source": [
    "Ustawmy `LetterFragment` jako fragment domowy - czyli wyświetlany jako pierwszy"
   ]
  },
  {
   "cell_type": "markdown",
   "id": "7cc84b2d-76b0-482f-b801-dcd1e0ba3769",
   "metadata": {},
   "source": [
    "<img src=\"https://media1.giphy.com/media/keYDRfiD1JQUXWc0PG/giphy.gif?cid=790b761175c970a92c810f41bb0dc3c45596a4ab7e16a983&rid=giphy.gif&ct=g\" width=\"350\" />"
   ]
  },
  {
   "cell_type": "markdown",
   "id": "d7db63d4-3aad-4e37-ae31-51099e64cc5a",
   "metadata": {},
   "source": [
    "Pełny kod `navigation.xml`\n",
    "\n",
    "```xml\n",
    "<?xml version=\"1.0\" encoding=\"utf-8\"?>\n",
    "<navigation xmlns:android=\"http://schemas.android.com/apk/res/android\"\n",
    "    xmlns:app=\"http://schemas.android.com/apk/res-auto\"\n",
    "    xmlns:tools=\"http://schemas.android.com/tools\"\n",
    "    android:id=\"@+id/navigation\"\n",
    "    app:startDestination=\"@id/letterFragment\">\n",
    "\n",
    "    <fragment\n",
    "        android:id=\"@+id/letterFragment\"\n",
    "        android:name=\"pl.edu.uwr.pum.listoflistskotlin.LetterFragment\"\n",
    "        android:label=\"fragment_letter\"\n",
    "        tools:layout=\"@layout/fragment_letter\" >\n",
    "        <action\n",
    "            android:id=\"@+id/action_letterFragment_to_wordFragment\"\n",
    "            app:destination=\"@id/wordFragment\" />\n",
    "    </fragment>\n",
    "    <fragment\n",
    "        android:id=\"@+id/wordFragment\"\n",
    "        android:name=\"pl.edu.uwr.pum.listoflistskotlin.WordFragment\"\n",
    "        android:label=\"fragment_word\"\n",
    "        tools:layout=\"@layout/fragment_word\" >\n",
    "        <argument\n",
    "            android:name=\"letter\"\n",
    "            app:argType=\"string\" />\n",
    "    </fragment>\n",
    "</navigation>\n",
    "```"
   ]
  },
  {
   "cell_type": "markdown",
   "id": "6255b927-ea51-425c-9fe5-0ac82d1ca3bb",
   "metadata": {},
   "source": [
    "Następnie dodajmy akcję do `LetterAdapter`"
   ]
  },
  {
   "cell_type": "code",
   "execution_count": null,
   "id": "ce1eaa10-6a01-41bd-a143-5b9227acc768",
   "metadata": {},
   "outputs": [],
   "source": [
    "override fun onBindViewHolder(holder: LetterViewHolder, position: Int) {\n",
    "    val item = list[position]\n",
    "    holder.button.text = item.toString()\n",
    "    holder.button.setOnClickListener {\n",
    "        val action = LetterFragmentDirections\n",
    "            .actionLetterFragmentToWordFragment(\n",
    "                letter = holder.button.text.toString()\n",
    "            )\n",
    "        holder.view.findNavController().navigate(action)\n",
    "    }\n",
    "}"
   ]
  },
  {
   "cell_type": "markdown",
   "id": "835d87c9-1bd7-48cf-9fd3-dfb5573904f7",
   "metadata": {},
   "source": [
    "Zmodyfikujmy layout głównej aktywności\n",
    "\n",
    "```xml\n",
    "<?xml version=\"1.0\" encoding=\"utf-8\"?>\n",
    "<FrameLayout xmlns:android=\"http://schemas.android.com/apk/res/android\"\n",
    "    xmlns:tools=\"http://schemas.android.com/tools\"\n",
    "    xmlns:app=\"http://schemas.android.com/apk/res-auto\"\n",
    "    android:layout_width=\"match_parent\"\n",
    "    android:layout_height=\"match_parent\"\n",
    "    tools:context=\".MainActivity\">\n",
    "\n",
    "    <androidx.fragment.app.FragmentContainerView\n",
    "        android:id=\"@+id/nav_host_fragment\"\n",
    "        android:name=\"androidx.navigation.fragment.NavHostFragment\"\n",
    "        android:layout_width=\"match_parent\"\n",
    "        android:layout_height=\"match_parent\"\n",
    "        app:defaultNavHost=\"true\"\n",
    "        app:navGraph=\"@navigation/navigation\"/>\n",
    "\n",
    "</FrameLayout>\n",
    "```"
   ]
  },
  {
   "cell_type": "markdown",
   "id": "ddc1f34e-c702-4f19-a7b1-4c885640d326",
   "metadata": {},
   "source": [
    "Przekazany argument odbieramy w `WordFragment` w metodzie `onCreate`"
   ]
  },
  {
   "cell_type": "code",
   "execution_count": null,
   "id": "e3393352-9f15-49df-a23b-c8f74cdf7b66",
   "metadata": {},
   "outputs": [],
   "source": [
    "class WordFragment : Fragment() {\n",
    "\n",
    "    private lateinit var letter: String\n",
    "\n",
    "    override fun onCreate(savedInstanceState: Bundle?) {\n",
    "        super.onCreate(savedInstanceState)\n",
    "\n",
    "        arguments?.let { letter = it.getString(\"letter\").toString() }\n",
    "    }\n",
    "\n",
    "    override fun onCreateView(\n",
    "        inflater: LayoutInflater, container: ViewGroup?,\n",
    "        savedInstanceState: Bundle?\n",
    "    ): View? {\n",
    "        return inflater.inflate(R.layout.fragment_word, container, false)\n",
    "    }\n",
    "\n",
    "    override fun onViewCreated(view: View, savedInstanceState: Bundle?) {\n",
    "        val recyclerView = view.findViewById<RecyclerView>(R.id.wordRecyclerView)\n",
    "        recyclerView.layoutManager = LinearLayoutManager(requireContext())\n",
    "        recyclerView.adapter = WordAdapter(letter, requireContext())\n",
    "    }\n",
    "}"
   ]
  },
  {
   "cell_type": "markdown",
   "id": "1934bed2-54e3-428a-a461-6da69c7959d7",
   "metadata": {},
   "source": [
    "Zwróćmy uwagę na klucz \"letter\" - jest to nazwa ustalona przy dodawaniu argumentu w nawigacji\n",
    "\n",
    "```xml\n",
    "    <fragment\n",
    "        android:id=\"@+id/wordFragment\"\n",
    "        android:name=\"pl.edu.uwr.pum.listoflistskotlin.WordFragment\"\n",
    "        android:label=\"fragment_word\"\n",
    "        tools:layout=\"@layout/fragment_word\" >\n",
    "        <argument\n",
    "            android:name=\"letter\"\n",
    "            app:argType=\"string\" />\n",
    "    </fragment>\n",
    "```"
   ]
  },
  {
   "cell_type": "markdown",
   "id": "ee37827f-575a-4b22-ac68-bb69cf9ea256",
   "metadata": {},
   "source": [
    "### **Implicit Intent**"
   ]
  },
  {
   "cell_type": "markdown",
   "id": "a1bfe54d-f215-4f63-982e-55250675adf8",
   "metadata": {},
   "source": [
    "Ostatnim elementem w tej aplikacji będzie wykorzystanie mechanizmu domniemanych intentów w celu wyszukania przez wyszukiwarkę znaczenia danego słowa. Zrobimy to w `WordAdapter`"
   ]
  },
  {
   "cell_type": "code",
   "execution_count": null,
   "id": "7e81365c-2150-46db-8d8b-391aa2e013ea",
   "metadata": {},
   "outputs": [],
   "source": [
    "override fun onBindViewHolder(holder: WordViewHolder, position: Int) {\n",
    "    val item = words[position]\n",
    "    holder.button.text = item\n",
    "\n",
    "    holder.button.setOnClickListener {\n",
    "        val queryUrl: Uri = Uri.parse(\"https://www.google.com/search?q=${item}\")\n",
    "        val intent = Intent(Intent.ACTION_VIEW, queryUrl)\n",
    "        context.startActivity(intent)\n",
    "    }\n",
    "}"
   ]
  },
  {
   "cell_type": "markdown",
   "id": "2f4ed208-ec3d-475b-b571-a4cb9dc60f24",
   "metadata": {},
   "source": [
    "Możemy przetestować aplikację"
   ]
  },
  {
   "cell_type": "markdown",
   "id": "8f193fce-09bb-437f-bd8e-f4b7fcde6c48",
   "metadata": {},
   "source": [
    "<img src=\"https://media4.giphy.com/media/12aNUkEltsj9IJX3DK/giphy.gif?cid=790b761153d67ec7afbe0798454db3f988f74125c2830ad8&rid=giphy.gif&ct=g\" width=\"150\" />"
   ]
  },
  {
   "cell_type": "markdown",
   "id": "14ebbf14-062d-4ce4-a637-9f7c6583ebef",
   "metadata": {},
   "source": [
    "Lista słów z pliku `arrays.xml`:\n",
    "\n",
    "```xml\n",
    "<?xml version=\"1.0\" encoding=\"utf-8\"?>\n",
    "<!--\n",
    "     Copyright (C) 2020 The Android Open Source Project\n",
    "\n",
    "     Licensed under the Apache License, Version 2.0 (the \"License\");\n",
    "     you may not use this file except in compliance with the License.\n",
    "     You may obtain a copy of the License at\n",
    "\n",
    "          http://www.apache.org/licenses/LICENSE-2.0\n",
    "\n",
    "     Unless required by applicable law or agreed to in writing, software\n",
    "     distributed under the License is distributed on an \"AS IS\" BASIS,\n",
    "     WITHOUT WARRANTIES OR CONDITIONS OF ANY KIND, either express or implied.\n",
    "     See the License for the specific language governing permissions and\n",
    "     limitations under the License.\n",
    "-->\n",
    "<resources>\n",
    "    <string-array name=\"words\">\n",
    "        <item>aargh</item>\n",
    "        <item>about</item>\n",
    "        <item>acidic</item>\n",
    "        <item>acne</item>\n",
    "        <item>acrid</item>\n",
    "        <item>acute</item>\n",
    "        <item>alphabet</item>\n",
    "        <item>anchor</item>\n",
    "        <item>anecdote</item>\n",
    "        <item>animal</item>\n",
    "        <item>automobile</item>\n",
    "        <item>awesome</item>\n",
    "        <item>back</item>\n",
    "        <item>balloon</item>\n",
    "        <item>basket</item>\n",
    "        <item>bench</item>\n",
    "        <item>best</item>\n",
    "        <item>birthday</item>\n",
    "        <item>books</item>\n",
    "        <item>brief</item>\n",
    "        <item>business</item>\n",
    "        <item>buy</item>\n",
    "        <item>camera</item>\n",
    "        <item>catapult</item>\n",
    "        <item>center</item>\n",
    "        <item>children</item>\n",
    "        <item>city</item>\n",
    "        <item>class</item>\n",
    "        <item>click</item>\n",
    "        <item>coffee</item>\n",
    "        <item>comment</item>\n",
    "        <item>company</item>\n",
    "        <item>contact</item>\n",
    "        <item>copyright</item>\n",
    "        <item>creative</item>\n",
    "        <item>data</item>\n",
    "        <item>day</item>\n",
    "        <item>details</item>\n",
    "        <item>development</item>\n",
    "        <item>dine</item>\n",
    "        <item>dream</item>\n",
    "        <item>dusk</item>\n",
    "        <item>each</item>\n",
    "        <item>education</item>\n",
    "        <item>electric</item>\n",
    "        <item>elephant</item>\n",
    "        <item>email</item>\n",
    "        <item>emerald</item>\n",
    "        <item>event</item>\n",
    "        <item>every</item>\n",
    "        <item>family</item>\n",
    "        <item>file</item>\n",
    "        <item>find</item>\n",
    "        <item>first</item>\n",
    "        <item>flair</item>\n",
    "        <item>flight</item>\n",
    "        <item>follow</item>\n",
    "        <item>forum</item>\n",
    "        <item>fox</item>\n",
    "        <item>free</item>\n",
    "        <item>frequent</item>\n",
    "        <item>full</item>\n",
    "        <item>game</item>\n",
    "        <item>general</item>\n",
    "        <item>glass</item>\n",
    "        <item>good</item>\n",
    "        <item>gram</item>\n",
    "        <item>gray</item>\n",
    "        <item>great</item>\n",
    "        <item>green</item>\n",
    "        <item>group</item>\n",
    "        <item>guide</item>\n",
    "        <item>guitar</item>\n",
    "        <item>haircut</item>\n",
    "        <item>health</item>\n",
    "        <item>hearsay</item>\n",
    "        <item>help</item>\n",
    "        <item>here</item>\n",
    "        <item>home</item>\n",
    "        <item>honey</item>\n",
    "        <item>hundred</item>\n",
    "        <item>hurried</item>\n",
    "        <item>ice</item>\n",
    "        <item>icon</item>\n",
    "        <item>inbox</item>\n",
    "        <item>incomplete</item>\n",
    "        <item>information</item>\n",
    "        <item>investment</item>\n",
    "        <item>item</item>\n",
    "        <item>jackal</item>\n",
    "        <item>january</item>\n",
    "        <item>job</item>\n",
    "        <item>join</item>\n",
    "        <item>joke</item>\n",
    "        <item>journal</item>\n",
    "        <item>july</item>\n",
    "        <item>jump</item>\n",
    "        <item>june</item>\n",
    "        <item>kangaroo</item>\n",
    "        <item>keep</item>\n",
    "        <item>keyboard</item>\n",
    "        <item>kind</item>\n",
    "        <item>kingdom</item>\n",
    "        <item>knowledge</item>\n",
    "        <item>known</item>\n",
    "        <item>koala</item>\n",
    "        <item>landscape</item>\n",
    "        <item>last</item>\n",
    "        <item>late</item>\n",
    "        <item>laugh</item>\n",
    "        <item>lemon</item>\n",
    "        <item>letter</item>\n",
    "        <item>lily</item>\n",
    "        <item>link</item>\n",
    "        <item>list</item>\n",
    "        <item>local</item>\n",
    "        <item>long</item>\n",
    "        <item>madeleine</item>\n",
    "        <item>magazine</item>\n",
    "        <item>make</item>\n",
    "        <item>many</item>\n",
    "        <item>marine</item>\n",
    "        <item>maze</item>\n",
    "        <item>meditate</item>\n",
    "        <item>message</item>\n",
    "        <item>momentum</item>\n",
    "        <item>moon</item>\n",
    "        <item>more</item>\n",
    "        <item>most</item>\n",
    "        <item>mountain</item>\n",
    "        <item>music</item>\n",
    "        <item>name</item>\n",
    "        <item>need</item>\n",
    "        <item>negotiate</item>\n",
    "        <item>news</item>\n",
    "        <item>next</item>\n",
    "        <item>night</item>\n",
    "        <item>north</item>\n",
    "        <item>not</item>\n",
    "        <item>now</item>\n",
    "        <item>number</item>\n",
    "        <item>number</item>\n",
    "        <item>oak</item>\n",
    "        <item>octopus</item>\n",
    "        <item>online</item>\n",
    "        <item>only</item>\n",
    "        <item>opposite</item>\n",
    "        <item>order</item>\n",
    "        <item>other</item>\n",
    "        <item>pack</item>\n",
    "        <item>page</item>\n",
    "        <item>painting</item>\n",
    "        <item>people</item>\n",
    "        <item>pillow</item>\n",
    "        <item>pizza</item>\n",
    "        <item>podcast</item>\n",
    "        <item>polar</item>\n",
    "        <item>policy</item>\n",
    "        <item>post</item>\n",
    "        <item>presentation</item>\n",
    "        <item>price</item>\n",
    "        <item>product</item>\n",
    "        <item>public</item>\n",
    "        <item>puppy</item>\n",
    "        <item>puzzle</item>\n",
    "        <item>quality</item>\n",
    "        <item>quantity</item>\n",
    "        <item>query</item>\n",
    "        <item>quest</item>\n",
    "        <item>question</item>\n",
    "        <item>quick</item>\n",
    "        <item>quince</item>\n",
    "        <item>quite</item>\n",
    "        <item>quotation</item>\n",
    "        <item>read</item>\n",
    "        <item>real</item>\n",
    "        <item>recipe</item>\n",
    "        <item>report</item>\n",
    "        <item>research</item>\n",
    "        <item>restaurant</item>\n",
    "        <item>review</item>\n",
    "        <item>revolve</item>\n",
    "        <item>rewind</item>\n",
    "        <item>right</item>\n",
    "        <item>search</item>\n",
    "        <item>secret</item>\n",
    "        <item>see</item>\n",
    "        <item>seed</item>\n",
    "        <item>service</item>\n",
    "        <item>ship</item>\n",
    "        <item>should</item>\n",
    "        <item>site</item>\n",
    "        <item>skill</item>\n",
    "        <item>stargaze</item>\n",
    "        <item>state</item>\n",
    "        <item>style</item>\n",
    "        <item>sunrise</item>\n",
    "        <item>taxi</item>\n",
    "        <item>tidy</item>\n",
    "        <item>time</item>\n",
    "        <item>together</item>\n",
    "        <item>tourist</item>\n",
    "        <item>trailer</item>\n",
    "        <item>travel</item>\n",
    "        <item>truck</item>\n",
    "        <item>under</item>\n",
    "        <item>unicorn</item>\n",
    "        <item>uniform</item>\n",
    "        <item>unique</item>\n",
    "        <item>united</item>\n",
    "        <item>university</item>\n",
    "        <item>uplife</item>\n",
    "        <item>useful</item>\n",
    "        <item>value</item>\n",
    "        <item>various</item>\n",
    "        <item>vase</item>\n",
    "        <item>version</item>\n",
    "        <item>very</item>\n",
    "        <item>video</item>\n",
    "        <item>view</item>\n",
    "        <item>violin</item>\n",
    "        <item>vision</item>\n",
    "        <item>visit</item>\n",
    "        <item>volume</item>\n",
    "        <item>walrus</item>\n",
    "        <item>wander</item>\n",
    "        <item>well</item>\n",
    "        <item>whirlwind</item>\n",
    "        <item>winter</item>\n",
    "        <item>world</item>\n",
    "        <item>would</item>\n",
    "        <item>xanthin</item>\n",
    "        <item>xenial</item>\n",
    "        <item>xenolith</item>\n",
    "        <item>xenon</item>\n",
    "        <item>xiphoid</item>\n",
    "        <item>yacht</item>\n",
    "        <item>year</item>\n",
    "        <item>yield</item>\n",
    "        <item>yoga</item>\n",
    "        <item>yogurt</item>\n",
    "        <item>young</item>\n",
    "        <item>your</item>\n",
    "        <item>zein</item>\n",
    "        <item>zero</item>\n",
    "        <item>zigzag</item>\n",
    "        <item>zine</item>\n",
    "        <item>zone</item>\n",
    "        <item>zoo</item>\n",
    "        <item>zouk</item>\n",
    "    </string-array>\n",
    "</resources>\n",
    "```"
   ]
  },
  {
   "cell_type": "code",
   "execution_count": null,
   "id": "151b06ea-cd20-4d26-ac93-b426c16cfd33",
   "metadata": {},
   "outputs": [],
   "source": []
  }
 ],
 "metadata": {
  "kernelspec": {
   "display_name": "Kotlin",
   "language": "kotlin",
   "name": "kotlin"
  },
  "language_info": {
   "codemirror_mode": "text/x-kotlin",
   "file_extension": ".kt",
   "mimetype": "text/x-kotlin",
   "name": "kotlin",
   "nbconvert_exporter": "",
   "pygments_lexer": "kotlin",
   "version": "1.6.20-dev-6372"
  }
 },
 "nbformat": 4,
 "nbformat_minor": 5
}
