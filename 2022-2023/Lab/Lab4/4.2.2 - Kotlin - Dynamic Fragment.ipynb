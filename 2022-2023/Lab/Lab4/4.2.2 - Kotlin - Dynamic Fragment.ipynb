{
 "cells": [
  {
   "cell_type": "markdown",
   "id": "0b0be029-ee9e-46f9-b00d-6217f41df69c",
   "metadata": {},
   "source": [
    "# 4.2 Dynamic Fragment"
   ]
  },
  {
   "cell_type": "markdown",
   "id": "7354c728-3f6b-45c6-b763-515000f70107",
   "metadata": {},
   "source": [
    "W tej aplikacji posłużymy się trzema fragmentami które będą hostowane przez pojedynczą aktywność - fragmenty będziemy dodawać i podmieniać w sposób dynamiczny.\n",
    "\n",
    "Aplikacja będzie posiadała jedną aktywność hostującą, zawierającą jedynie `FragmentContainerView` w pliku layoutu\n",
    "\n",
    "```xml\n",
    "<?xml version=\"1.0\" encoding=\"utf-8\"?>\n",
    "<androidx.constraintlayout.widget.ConstraintLayout xmlns:android=\"http://schemas.android.com/apk/res/android\"\n",
    "    xmlns:app=\"http://schemas.android.com/apk/res-auto\"\n",
    "    xmlns:tools=\"http://schemas.android.com/tools\"\n",
    "    android:layout_width=\"match_parent\"\n",
    "    android:layout_height=\"match_parent\"\n",
    "    tools:context=\".MainActivity\">\n",
    "\n",
    "    <androidx.fragment.app.FragmentContainerView\n",
    "        android:id=\"@+id/fragment_container_view_tag\"\n",
    "        android:layout_width=\"match_parent\"\n",
    "        android:layout_height=\"match_parent\"\n",
    "        app:layout_constraintBottom_toBottomOf=\"parent\"\n",
    "        app:layout_constraintEnd_toEndOf=\"parent\"\n",
    "        app:layout_constraintStart_toStartOf=\"parent\"\n",
    "        app:layout_constraintTop_toTopOf=\"parent\" />\n",
    "\n",
    "</androidx.constraintlayout.widget.ConstraintLayout>\n",
    "```\n",
    "\n",
    "Następnie dodajmy do aplikacji klasę `MainFragment` - fragment, który będzie wyświetlany po uruchomieniu aplikacji. Rozpocznijmy od layoutu\n",
    "\n",
    "```xml\n",
    "<?xml version=\"1.0\" encoding=\"utf-8\"?>\n",
    "<LinearLayout xmlns:android=\"http://schemas.android.com/apk/res/android\"\n",
    "    xmlns:app=\"http://schemas.android.com/apk/res-auto\"\n",
    "    xmlns:tools=\"http://schemas.android.com/tools\"\n",
    "    android:orientation=\"vertical\"\n",
    "    android:layout_width=\"match_parent\"\n",
    "    android:layout_height=\"match_parent\">\n",
    "\n",
    "    <TextView\n",
    "        android:id=\"@+id/textView\"\n",
    "        android:textSize=\"36sp\"\n",
    "        android:textColor=\"@color/black\"\n",
    "        android:textAlignment=\"center\"\n",
    "        android:layout_gravity=\"center_horizontal\"\n",
    "        android:layout_marginTop=\"20dp\"\n",
    "        android:layout_width=\"match_parent\"\n",
    "        android:layout_height=\"wrap_content\"\n",
    "        android:text=\"MAIN FRAGMENT\" />\n",
    "</LinearLayout>\n",
    "```"
   ]
  },
  {
   "cell_type": "markdown",
   "id": "6d59bce7-6360-4d2c-8953-83baa80d76fc",
   "metadata": {},
   "source": [
    "Przejdźmy do `MainActivity`. W metodzie `onCreate` dodamy `MainFragment` do `FragmentContainerView` - wykonujemy tą czynność poprzez mechanizm transakcji. W pierwszym kroku sprawdzamy czy kontener istnieje."
   ]
  },
  {
   "cell_type": "code",
   "execution_count": null,
   "id": "2901ab9a-4e19-4512-bdbd-26baa931315a",
   "metadata": {},
   "outputs": [],
   "source": [
    "override fun onCreate(savedInstanceState: Bundle?) {\n",
    "    super.onCreate(savedInstanceState)\n",
    "    setContentView(R.layout.activity_main)\n",
    "\n",
    "    if (findViewById<FragmentContainerView>(R.id.fragment_container_view_tag) != null){\n",
    "\n",
    "    }\n",
    "}"
   ]
  },
  {
   "cell_type": "markdown",
   "id": "8b3f3dab-910f-4d48-b08b-d647b4291b5d",
   "metadata": {},
   "source": [
    "Wywołujemy metodę `getSupportFragmentManager`, która zwraca instancję klasy `SupportFragmentManager` - jest to klasa odpowiedzialna za wykonywanie akcji na fragmentach w naszej aplikacji. Następnie wywołujemy metodę `beginTransaction` rozpoczynającą transakcję.\n",
    "\n",
    "Wpierw chcemy dodać fragment, więc wywołujemy metodę `add`, przyjmuje dwa argumenty\n",
    "- `containerView` - kontener do którego ma zostać dodany fragment\n",
    "- `fragment` - fragment który ma zostać dodany\n",
    "\n",
    "Transakcję kończymy wywołując metodę `commit`"
   ]
  },
  {
   "cell_type": "code",
   "execution_count": null,
   "id": "66448976-bae2-4b19-8365-3532eb857c95",
   "metadata": {},
   "outputs": [],
   "source": [
    "if (findViewById<FragmentContainerView>(R.id.fragment_container_view_tag) != null){\n",
    "    supportFragmentManager\n",
    "        .beginTransaction()\n",
    "        .add(R.id.fragment_container_view_tag, MainFragment())\n",
    "        .commit()\n",
    "}"
   ]
  },
  {
   "cell_type": "markdown",
   "id": "eb1d3ead-c1e8-4028-ad11-9805f4b747e1",
   "metadata": {},
   "source": [
    "Dodajmy do aplikacji fragment o nazwie `FragmentA`\n",
    "\n",
    "```xml\n",
    "<?xml version=\"1.0\" encoding=\"utf-8\"?>\n",
    "<LinearLayout xmlns:android=\"http://schemas.android.com/apk/res/android\"\n",
    "    xmlns:app=\"http://schemas.android.com/apk/res-auto\"\n",
    "    xmlns:tools=\"http://schemas.android.com/tools\"\n",
    "    android:orientation=\"vertical\"\n",
    "    android:layout_width=\"match_parent\"\n",
    "    android:layout_height=\"match_parent\">\n",
    "\n",
    "    <TextView\n",
    "        android:id=\"@+id/textView\"\n",
    "        android:textSize=\"36sp\"\n",
    "        android:textColor=\"@color/black\"\n",
    "        android:textAlignment=\"center\"\n",
    "        android:layout_gravity=\"center_horizontal\"\n",
    "        android:layout_marginTop=\"20dp\"\n",
    "        android:layout_width=\"match_parent\"\n",
    "        android:layout_height=\"wrap_content\"\n",
    "        android:text=\"FRAGMENT A\" />\n",
    "</LinearLayout>\n",
    "```"
   ]
  },
  {
   "cell_type": "code",
   "execution_count": null,
   "id": "f5bfec24-d120-41d1-8a4c-41976f3cf1b6",
   "metadata": {},
   "outputs": [],
   "source": [
    "class FragmentA : Fragment() {\n",
    "    override fun onCreateView(\n",
    "        inflater: LayoutInflater,\n",
    "        container: ViewGroup?,\n",
    "        savedInstanceState: Bundle?\n",
    "    ): View? {\n",
    "        return inflater.inflate(R.layout.fragment_a, container, false)\n",
    "    }\n",
    "}"
   ]
  },
  {
   "cell_type": "markdown",
   "id": "ec2038d8-ef4c-41a5-8b4b-05a06a456970",
   "metadata": {},
   "source": [
    "Następnie dodajmy przycisk do `MainFragment` po naciśnięciu którego podmienimy fragment na `MainActivity` na `FragmentA`\n",
    "\n",
    "```xml\n",
    "<?xml version=\"1.0\" encoding=\"utf-8\"?>\n",
    "<LinearLayout xmlns:android=\"http://schemas.android.com/apk/res/android\"\n",
    "    xmlns:app=\"http://schemas.android.com/apk/res-auto\"\n",
    "    xmlns:tools=\"http://schemas.android.com/tools\"\n",
    "    android:orientation=\"vertical\"\n",
    "    android:layout_width=\"match_parent\"\n",
    "    android:layout_height=\"match_parent\">\n",
    "\n",
    "    <TextView\n",
    "        android:id=\"@+id/textView\"\n",
    "        android:textSize=\"36sp\"\n",
    "        android:textColor=\"@color/black\"\n",
    "        android:textAlignment=\"center\"\n",
    "        android:layout_gravity=\"center_horizontal\"\n",
    "        android:layout_marginTop=\"20dp\"\n",
    "        android:layout_width=\"match_parent\"\n",
    "        android:layout_height=\"wrap_content\"\n",
    "        android:text=\"MAIN FRAGMENT\" />\n",
    "    \n",
    "    <Button\n",
    "        android:id=\"@+id/start_fragment_a\"\n",
    "        android:layout_width=\"wrap_content\"\n",
    "        android:layout_height=\"wrap_content\"\n",
    "        android:layout_gravity=\"center_horizontal\"\n",
    "        android:text=\"START FRAGMENT A\"\n",
    "        android:textSize=\"24sp\"/>\n",
    "</LinearLayout>\n",
    "```"
   ]
  },
  {
   "cell_type": "markdown",
   "id": "b6b630b9-d51d-4e6e-8357-b06b19657ec1",
   "metadata": {},
   "source": [
    "W metodzie `onCreateView` dodaję transakcję. Wpierw musimy utworzyć obiekt `View` - tutaj będziemy łączyć pola klasy z elementami layoutu."
   ]
  },
  {
   "cell_type": "code",
   "execution_count": null,
   "id": "8ed1854e-c45f-4ca9-9849-a6a5247289ba",
   "metadata": {},
   "outputs": [],
   "source": [
    "override fun onCreateView(\n",
    "    inflater: LayoutInflater,\n",
    "    container: ViewGroup?,\n",
    "    savedInstanceState: Bundle?\n",
    "): View? {\n",
    "    val view = inflater.inflate(R.layout.fragment_main, container, false)\n",
    "    return view\n",
    "}"
   ]
  },
  {
   "cell_type": "markdown",
   "id": "a1d05798-948f-4c2f-8fc3-181d18b2b379",
   "metadata": {},
   "source": [
    "Przez `View` dostajemy się do naszego `Button` i wywołujemy `setOnClickListener`, w metodzie `onClick` implementujemy transakcję."
   ]
  },
  {
   "cell_type": "code",
   "execution_count": null,
   "id": "d3ed23ae-2db1-453b-a594-9841d7372002",
   "metadata": {},
   "outputs": [],
   "source": [
    "override fun onCreateView(\n",
    "    inflater: LayoutInflater,\n",
    "    container: ViewGroup?,\n",
    "    savedInstanceState: Bundle?\n",
    "): View? {\n",
    "    val view = inflater.inflate(R.layout.fragment_main, container, false)\n",
    "    view.findViewById<Button>(R.id.start_fragment_a)\n",
    "        .setOnClickListener { requireActivity().supportFragmentManager\n",
    "            .beginTransaction()\n",
    "            .replace(R.id.fragment_container_view_tag, FragmentA())\n",
    "            .commit()\n",
    "        }\n",
    "    return view\n",
    "}"
   ]
  },
  {
   "cell_type": "markdown",
   "id": "66d1a84b-b258-4722-ad9e-a9cf6c6391ef",
   "metadata": {},
   "source": [
    "Dostęp do instancji `FragmentManager` możemy uzyskać tylko przez aktywność, więc musimy dostać się do aktywności hostującej - możemy to zrobić wywołując metodę `requireActivity`. Dalej wywołujemy metodę `supportFragmentManager` i rozpoczynamy transakcję. Teraz nie chcemy dodać nowego fragmentu - chcemy zastąpić już istniejęcy, więc wywołujemy meetodę `replace` która przyjmuje dwa argumenty:\n",
    "- `fragmentContainer` - kontener w którym ma nastąpić zamiana\n",
    "- `fragment` - fragment którym zastąpimy poprzendi fragment\n",
    "\n",
    "I jak poprzednio kończymy wywołując metodę `commit`. Możemy przetestować aplikację"
   ]
  },
  {
   "cell_type": "markdown",
   "id": "ffcfc764-4a93-4576-9cac-7fbb407963cd",
   "metadata": {},
   "source": [
    "<img src=\"https://media0.giphy.com/media/y2AH5v1SE0HdSKUF97/giphy.gif?cid=790b76113e3e884baddad44b4cd21f93ca0926b8dbf8ff2d&rid=giphy.gif&ct=g\" width=\"150\" />"
   ]
  },
  {
   "cell_type": "markdown",
   "id": "6975e525-122a-459e-bd4c-d6258f39ced3",
   "metadata": {},
   "source": [
    "Dodajmy przycisk do `FragmentA` przez który będziemy przechodzić na `FragmentB`\n",
    "\n",
    "```xml\n",
    "<?xml version=\"1.0\" encoding=\"utf-8\"?>\n",
    "<LinearLayout xmlns:android=\"http://schemas.android.com/apk/res/android\"\n",
    "    xmlns:app=\"http://schemas.android.com/apk/res-auto\"\n",
    "    xmlns:tools=\"http://schemas.android.com/tools\"\n",
    "    android:orientation=\"vertical\"\n",
    "    android:layout_width=\"match_parent\"\n",
    "    android:layout_height=\"match_parent\">\n",
    "\n",
    "    <TextView\n",
    "        android:id=\"@+id/textView\"\n",
    "        android:textSize=\"36sp\"\n",
    "        android:textColor=\"@color/black\"\n",
    "        android:textAlignment=\"center\"\n",
    "        android:layout_gravity=\"center_horizontal\"\n",
    "        android:layout_marginTop=\"20dp\"\n",
    "        android:layout_width=\"match_parent\"\n",
    "        android:layout_height=\"wrap_content\"\n",
    "        android:text=\"FRAGMENT A\" />\n",
    "\n",
    "    <Button\n",
    "        android:id=\"@+id/start_fragment_b\"\n",
    "        android:layout_width=\"wrap_content\"\n",
    "        android:layout_height=\"wrap_content\"\n",
    "        android:layout_gravity=\"center_horizontal\"\n",
    "        android:text=\"START FRAGMENT B\"\n",
    "        android:textSize=\"24sp\"/>\n",
    "</LinearLayout>\n",
    "```"
   ]
  },
  {
   "cell_type": "markdown",
   "id": "e8200d41-cdbf-4ca3-a25f-ee2c313fd899",
   "metadata": {},
   "source": [
    "Dodajmy `FragmentB`\n",
    "\n",
    "```xml\n",
    "<?xml version=\"1.0\" encoding=\"utf-8\"?>\n",
    "<LinearLayout xmlns:android=\"http://schemas.android.com/apk/res/android\"\n",
    "    xmlns:app=\"http://schemas.android.com/apk/res-auto\"\n",
    "    xmlns:tools=\"http://schemas.android.com/tools\"\n",
    "    android:orientation=\"vertical\"\n",
    "    android:layout_width=\"match_parent\"\n",
    "    android:layout_height=\"match_parent\"\n",
    "    android:background=\"#FFFF44\">\n",
    "\n",
    "    <TextView\n",
    "        android:id=\"@+id/textView\"\n",
    "        android:textSize=\"36sp\"\n",
    "        android:textColor=\"@color/black\"\n",
    "        android:textAlignment=\"center\"\n",
    "        android:layout_gravity=\"center_horizontal\"\n",
    "        android:layout_marginTop=\"20dp\"\n",
    "        android:layout_width=\"match_parent\"\n",
    "        android:layout_height=\"wrap_content\"\n",
    "        android:text=\"FRAGMENT B\" />\n",
    "</LinearLayout>\n",
    "```"
   ]
  },
  {
   "cell_type": "code",
   "execution_count": null,
   "id": "ef460128-64d4-4dc8-a337-31c6d3d7a3ab",
   "metadata": {},
   "outputs": [],
   "source": [
    "class FragmentB : Fragment() {\n",
    "    override fun onCreateView(\n",
    "        inflater: LayoutInflater,\n",
    "        container: ViewGroup?,\n",
    "        savedInstanceState: Bundle?\n",
    "    ): View? {\n",
    "        return inflater.inflate(R.layout.fragment_b, container, false)\n",
    "    }\n",
    "}"
   ]
  },
  {
   "cell_type": "markdown",
   "id": "b37f3486-3f8b-47a6-b5b1-d4c10e6bc5a7",
   "metadata": {},
   "source": [
    "Obsłużmy przycisk w `FragmentA`"
   ]
  },
  {
   "cell_type": "code",
   "execution_count": null,
   "id": "5da53130-0fad-448b-afeb-400ed3de9865",
   "metadata": {},
   "outputs": [],
   "source": [
    "class FragmentA : Fragment() {\n",
    "    override fun onCreateView(\n",
    "        inflater: LayoutInflater,\n",
    "        container: ViewGroup?,\n",
    "        savedInstanceState: Bundle?\n",
    "    ): View? {\n",
    "        val view = inflater.inflate(R.layout.fragment_a, container, false)\n",
    "        view.findViewById<Button>(R.id.start_fragment_b)\n",
    "            .setOnClickListener { requireActivity().supportFragmentManager\n",
    "                .beginTransaction()\n",
    "                .replace(R.id.fragment_container_view_tag, FragmentB())\n",
    "                .commit()\n",
    "            }\n",
    "        return view\n",
    "    }\n",
    "}"
   ]
  },
  {
   "cell_type": "markdown",
   "id": "bb21d21e-748e-42a0-b958-101d6b0582db",
   "metadata": {},
   "source": [
    "<img src=\"https://media4.giphy.com/media/N7NTTQvqcrkTAoKMjk/giphy.gif?cid=790b761140fc93578af668d97bd08bc5d0393d333789d1f3&rid=giphy.gif&ct=g\" width=\"150\" />"
   ]
  },
  {
   "cell_type": "markdown",
   "id": "997dc3f3-01b4-4fa2-a729-19a8967fd78f",
   "metadata": {},
   "source": [
    "Zwróćmy uwagę - naciśnięcie przycisku systemowego 'wstecz' powoduje wyjście z aplikacji. Aby zapewnić nawigację wsteczną po wcześniejszych fragmentach, możemy dodać w transakcjach odpowiednią metodę - `addToBackStack`"
   ]
  },
  {
   "cell_type": "code",
   "execution_count": null,
   "id": "398d7683-85eb-4121-8386-1e0268d58676",
   "metadata": {},
   "outputs": [],
   "source": [
    "view.findViewById<Button>(R.id.start_fragment_a)\n",
    "    .setOnClickListener { requireActivity().supportFragmentManager\n",
    "        .beginTransaction()\n",
    "        .replace(R.id.fragment_container_view_tag, FragmentA())\n",
    "        .addToBackStack(null)\n",
    "        .commit()\n",
    "    }"
   ]
  },
  {
   "cell_type": "markdown",
   "id": "2f189623-1fcf-4e2d-874a-a8adc86a8aab",
   "metadata": {},
   "source": [
    "<img src=\"https://media2.giphy.com/media/oK1Ui7n1li6cB05v6A/giphy.gif?cid=790b7611b9225c347685d83f7d45d92ed2e04cc4532139fa&rid=giphy.gif&ct=g\" width=\"150\" />"
   ]
  },
  {
   "cell_type": "code",
   "execution_count": null,
   "id": "6cd66065-4be0-41e5-9ea0-3ddd690d2320",
   "metadata": {},
   "outputs": [],
   "source": []
  }
 ],
 "metadata": {
  "kernelspec": {
   "display_name": "Kotlin",
   "language": "kotlin",
   "name": "kotlin"
  },
  "language_info": {
   "codemirror_mode": "text/x-kotlin",
   "file_extension": ".kt",
   "mimetype": "text/x-kotlin",
   "name": "kotlin",
   "nbconvert_exporter": "",
   "pygments_lexer": "kotlin",
   "version": "1.6.20-dev-6372"
  }
 },
 "nbformat": 4,
 "nbformat_minor": 5
}
