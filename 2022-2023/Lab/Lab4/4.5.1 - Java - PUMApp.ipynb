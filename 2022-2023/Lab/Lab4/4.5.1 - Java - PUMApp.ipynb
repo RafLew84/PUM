{
 "cells": [
  {
   "cell_type": "markdown",
   "id": "1e99a03c-958e-4368-9f6e-a1d355c501b6",
   "metadata": {},
   "source": [
    "## 4.5 PUMApp"
   ]
  },
  {
   "cell_type": "markdown",
   "id": "79423282-f40d-4347-be9b-442edf4009f5",
   "metadata": {},
   "source": [
    "W tej aplikacji wykorzystamy `RecyclerView`, `Drawer`, `Jetpack Navigation` oraz `Materials` do stworzenia prostej aplikacji będącej mocno uproszczoną wersją tego repozytorium."
   ]
  },
  {
   "cell_type": "code",
   "execution_count": null,
   "id": "908dc89b-1622-4b90-afb5-65215a3f4293",
   "metadata": {},
   "outputs": [],
   "source": []
  },
  {
   "cell_type": "markdown",
   "id": "365b2092-65cf-423d-93c6-874201f3e0bf",
   "metadata": {},
   "source": [
    "### **Fragmenty**"
   ]
  },
  {
   "cell_type": "markdown",
   "id": "9896a971-86d2-44ee-b7cf-4ffc3ae6f27a",
   "metadata": {},
   "source": [
    "Rozpocznijmy od dodania fragmentów (**Blank Fragment**) z których będzie składała się nasza aplikacja.\n",
    "\n",
    "- `StartFragment` - fragment domowy\n",
    "- `ModuleListFragment` - fragment zawierający listę modułów\n",
    "- `ModuleFragment` - fragment zawierający zawartość modułu\n",
    "- `LectureFragment` - fragment zawierający informacje o wykładzie\n",
    "- `LabListFragment` - fragment zawierający listę wszystkich labów przeznaczonych do tego laboratorium\n",
    "- `AppListFragment` - fragment zawierający listę wszystkich aplikacji przeznaczonych do tego laboratorium\n",
    "- `AboutFragment` - fragment zawierający podstawowe informacje o aplikacji\n",
    "- `SettingsFragment` - fragment zawierający ustawienia aplikacji - w tej aplikacji dodamy możliwość przełączenia na ciemny motyw"
   ]
  },
  {
   "cell_type": "markdown",
   "id": "726d2c7b-e135-4460-8fea-30df7cb8ecb5",
   "metadata": {},
   "source": [
    "### **Nawigacja**"
   ]
  },
  {
   "cell_type": "markdown",
   "id": "5db7beef-485e-41a2-ab6d-747c7e99c8dc",
   "metadata": {},
   "source": [
    "Dodajmy do aplikacji nawigację. Do skryptów `Gradle(Project)` dodajemy"
   ]
  },
  {
   "cell_type": "code",
   "execution_count": null,
   "id": "bcb9c408-f4bb-4ed5-aecf-e2c88e186fa5",
   "metadata": {},
   "outputs": [],
   "source": [
    "buildscript {\n",
    "    repositories {\n",
    "        google()\n",
    "    }\n",
    "    dependencies {\n",
    "        def nav_version = \"2.5.0\"\n",
    "        classpath \"androidx.navigation:navigation-safe-args-gradle-plugin:$nav_version\"\n",
    "    }\n",
    "}"
   ]
  },
  {
   "cell_type": "markdown",
   "id": "ca100c23-1a46-492c-a1a5-64845fbbffaf",
   "metadata": {},
   "source": [
    "Do `Gradle(Module)`"
   ]
  },
  {
   "cell_type": "code",
   "execution_count": null,
   "id": "5f41b995-ff37-4446-835c-137e124b5124",
   "metadata": {},
   "outputs": [],
   "source": [
    "plugins {\n",
    "    id 'com.android.application'\n",
    "    id 'org.jetbrains.kotlin.android'\n",
    "    id 'androidx.navigation.safeargs.kotlin'\n",
    "}\n",
    "\n",
    "dependencies {\n",
    "\n",
    "    def nav_version = \"2.5.0\"\n",
    "    implementation \"androidx.navigation:navigation-fragment:$nav_version\"\n",
    "    implementation \"androidx.navigation:navigation-ui:$nav_version\"\n",
    "}"
   ]
  },
  {
   "cell_type": "markdown",
   "id": "290e1de7-7a61-4ffc-b3b2-cd9f7340491a",
   "metadata": {},
   "source": [
    "Następnie synchronizujemy projekt i przechodzimy do utworzenia grafu."
   ]
  },
  {
   "cell_type": "markdown",
   "id": "7c3b94f2-8653-4681-9a21-b0578e8d678e",
   "metadata": {},
   "source": [
    "<img src=\"https://files.fm/thumb_show.php?i=375bnxj9c\" width=\"400\" />"
   ]
  },
  {
   "cell_type": "markdown",
   "id": "67abd9b0-c349-40a5-a0b4-2e2f8b5242c5",
   "metadata": {},
   "source": [
    "Zauważmy że `AboutFragment` oraz `SettingsFragment` nie posiadają żadnej zdefiniowanej akcji - nawigację do tych fragmentów dodamy za pomocą `Drawer`."
   ]
  },
  {
   "cell_type": "markdown",
   "id": "7c89e3ec-64ff-44c8-a533-b2b168edae39",
   "metadata": {},
   "source": [
    "Dodajmy `Menu` dla `Drawer`. Otwieramy menu kontekstowe na katalogu `res`, następnie **New -> Android Resource File**, jako **Resource Type** wybieram `Menu` - plik nazwijmy `drawer_menu`. Dodamy w nim dwa wpisy `<item>`\n",
    "\n",
    "```xml\n",
    "<?xml version=\"1.0\" encoding=\"utf-8\"?>\n",
    "<menu xmlns:android=\"http://schemas.android.com/apk/res/android\">\n",
    "    <item\n",
    "        android:id=\"@+id/aboutFragment\"\n",
    "        android:title=\"About\" />\n",
    "\n",
    "    <item\n",
    "        android:id=\"@+id/settingsFragment\"\n",
    "        android:title=\"Settings\" />\n",
    "</menu>\n",
    "```\n",
    "\n",
    "Istotną rzeczą są `id` - muszą być takie same jak w `navigation.xml` pola `id` nadane odpowiednim fragmentom. Tutaj chcemy zapewnić możliwość nawigacji z menu bocznego do dwóch fragmentów, więc dodajemy dwa pola o odpowiednich `id`.\n",
    "\n",
    "Kolejnym krokiem będzie modyfikacja layoutu `MainActivity`. Naszym głównym elementem będzie `DrawerLayout` - ponieważ chcemy móc otworzyć panel boczny, tutaj będzie on powiązany z aktywnością główną aplikacji.\n",
    "\n",
    "```xml\n",
    "<androidx.drawerlayout.widget.DrawerLayout xmlns:android=\"http://schemas.android.com/apk/res/android\"\n",
    "    xmlns:tools=\"http://schemas.android.com/tools\"\n",
    "    xmlns:app=\"http://schemas.android.com/apk/res-auto\"\n",
    "    android:layout_width=\"match_parent\"\n",
    "    android:layout_height=\"match_parent\"\n",
    "    android:id=\"@+id/drawerLayoutID\"\n",
    "    tools:context=\".MainActivity\">\n",
    "```\n",
    "\n",
    "Następnie potrzebujemy `FragmentContainer` - jak w poprzednich aplikacjach\n",
    "\n",
    "```xml\n",
    "    <LinearLayout\n",
    "        android:layout_width=\"match_parent\"\n",
    "        android:layout_height=\"match_parent\"\n",
    "        android:orientation=\"vertical\">\n",
    "\n",
    "        <androidx.fragment.app.FragmentContainerView\n",
    "            android:id=\"@+id/nav_host_fragment\"\n",
    "            android:name=\"androidx.navigation.fragment.NavHostFragment\"\n",
    "            android:layout_width=\"match_parent\"\n",
    "            android:layout_height=\"match_parent\"\n",
    "            app:defaultNavHost=\"true\"\n",
    "            app:navGraph=\"@navigation/navigation\" />\n",
    "    </LinearLayout>\n",
    "```\n",
    "\n",
    "Ostatnim elementem jest `NavigationView`, który pozwoli dodać wcześniej utworzony `drawer_menu` i wyświetlić panel boczny\n",
    "\n",
    "```xml\n",
    "    <com.google.android.material.navigation.NavigationView\n",
    "        android:id=\"@+id/navigation_drawerID\"\n",
    "        android:layout_width=\"wrap_content\"\n",
    "        android:layout_height=\"match_parent\"\n",
    "        android:layout_gravity=\"start\"\n",
    "        app:menu=\"@menu/drawer_menu\"/>\n",
    "\n",
    "</androidx.drawerlayout.widget.DrawerLayout>\n",
    "```\n",
    "\n"
   ]
  },
  {
   "cell_type": "markdown",
   "id": "6941cf98-0279-4284-a866-444365df6da8",
   "metadata": {},
   "source": [
    "Ostatnim krokiem w tworzeniu nawigacji w tym projekcie będzie spięcie wszystkiego w `MainActivity`. W pierwszym kroku musimy posiadać instancję `NavController`"
   ]
  },
  {
   "cell_type": "code",
   "execution_count": null,
   "id": "06fa4ce7-65bf-498c-b4f4-e403bfbaafd7",
   "metadata": {},
   "outputs": [],
   "source": [
    "private NavController navController;\n",
    "\n",
    "@Override\n",
    "protected void onCreate(Bundle savedInstanceState) {\n",
    "    super.onCreate(savedInstanceState);\n",
    "    setContentView(R.layout.activity_main);\n",
    "\n",
    "    NavHostFragment navHostFragment = (NavHostFragment) getSupportFragmentManager()\n",
    "            .findFragmentById(R.id.nav_host_fragment);\n",
    "\n",
    "    if (navHostFragment != null) {\n",
    "        navController = NavHostFragment.findNavController(navHostFragment);\n",
    "    }\n",
    "}"
   ]
  },
  {
   "cell_type": "markdown",
   "id": "c2aaef11-5d03-453e-9dfb-0a59b54969da",
   "metadata": {},
   "source": [
    "Następnie definiujemy `AppBarConfiguration` w którym łączymy `NavController` z `DrawerLayout`"
   ]
  },
  {
   "cell_type": "code",
   "execution_count": null,
   "id": "8a67561b-2c6d-40a4-99de-ea9ce17dffda",
   "metadata": {},
   "outputs": [],
   "source": [
    "private NavController navController;\n",
    "private AppBarConfiguration appBarConfiguration;\n",
    "\n",
    "@Override\n",
    "protected void onCreate(Bundle savedInstanceState) {\n",
    "    super.onCreate(savedInstanceState);\n",
    "    setContentView(R.layout.activity_main);\n",
    "\n",
    "    NavHostFragment navHostFragment = (NavHostFragment) getSupportFragmentManager()\n",
    "            .findFragmentById(R.id.nav_host_fragment);\n",
    "\n",
    "    if (navHostFragment != null) {\n",
    "        navController = NavHostFragment.findNavController(navHostFragment);\n",
    "    }\n",
    "\n",
    "    DrawerLayout drawerLayout = findViewById(R.id.drawerLayoutID);\n",
    "\n",
    "    appBarConfiguration =  new AppBarConfiguration.Builder(navController.getGraph())\n",
    "            .setOpenableLayout(drawerLayout)\n",
    "            .build();\n",
    "}"
   ]
  },
  {
   "cell_type": "markdown",
   "id": "461c67ef-4124-441e-b47a-41607d25a55b",
   "metadata": {},
   "source": [
    "W metodzie `onCreate` łączymy domyślny `ActionBar` z `NavController`"
   ]
  },
  {
   "cell_type": "code",
   "execution_count": null,
   "id": "cb8c0d44-b138-4cbe-92d9-6223242b1bca",
   "metadata": {},
   "outputs": [],
   "source": [
    "NavigationUI.setupActionBarWithNavController(this, navController, appBarConfiguration);"
   ]
  },
  {
   "cell_type": "markdown",
   "id": "10fb2c84-8221-4407-8183-8bded2cfa1a0",
   "metadata": {},
   "source": [
    "oraz `NavigationView` z `NavController`"
   ]
  },
  {
   "cell_type": "code",
   "execution_count": null,
   "id": "51275558-cb11-4ed3-9b60-ed682d39c796",
   "metadata": {},
   "outputs": [],
   "source": [
    "NavigationView navigationView = findViewById(R.id.navigation_drawerID);\n",
    "NavigationUI.setupWithNavController(navigationView, navController);"
   ]
  },
  {
   "cell_type": "markdown",
   "id": "015efef1-c241-4cb4-a43c-6a31d318b115",
   "metadata": {},
   "source": [
    "Dodamy implementacje dwóch metod. Pierwszą jest `onSupportNavigateUp` - pozwala ona na zmianę ikony szuflady na ikonę powrotu po opuszczeniu głównego ekranu aplikacji - szufladę zawsze można otworzyć przez przeciągnięcie."
   ]
  },
  {
   "cell_type": "code",
   "execution_count": null,
   "id": "020d7304-2ab8-4fd5-9be5-2b7c01528cef",
   "metadata": {},
   "outputs": [],
   "source": [
    "@Override\n",
    "public boolean onSupportNavigateUp() {\n",
    "    return NavigationUI.navigateUp(navController, appBarConfiguration) || super.onSupportNavigateUp();\n",
    "}"
   ]
  },
  {
   "cell_type": "markdown",
   "id": "8e2a8df8-8d6e-4bba-be73-54d41717772a",
   "metadata": {},
   "source": [
    "Następną metodą jest `onOptionsItemSelected` - pozwala ona na nawigację bez definiowania akcji pod warunkiem zgodności `id` w plikach `drawer_menu` oraz `navigation`"
   ]
  },
  {
   "cell_type": "code",
   "execution_count": null,
   "id": "286c2ee5-93e9-4d40-bb40-efa9b9e25460",
   "metadata": {},
   "outputs": [],
   "source": [
    "@Override\n",
    "public boolean onOptionsItemSelected(@NonNull MenuItem item) {\n",
    "    return NavigationUI.onNavDestinationSelected(item, navController) || super.onOptionsItemSelected(item);\n",
    "}"
   ]
  },
  {
   "cell_type": "markdown",
   "id": "635744af-2f52-4b2e-a4a2-027fe3b83b1f",
   "metadata": {},
   "source": [
    "Możemy przetestować działanie `Drawer`"
   ]
  },
  {
   "cell_type": "markdown",
   "id": "d12b5d1d-df6d-4392-a8e9-a31ffbb532f7",
   "metadata": {},
   "source": [
    "<img src=\"https://media1.giphy.com/media/v98tLyiUpSyfTG9VmD/giphy.gif?cid=790b76110cf80882ea0dfcb8fdb4c8c397f8a3d45e0401df&rid=giphy.gif&ct=g\" width=\"150\" />"
   ]
  },
  {
   "cell_type": "markdown",
   "id": "0b492014-b928-4795-be4b-f6003a9806a9",
   "metadata": {},
   "source": [
    "### **Zmiana motywu**"
   ]
  },
  {
   "cell_type": "markdown",
   "id": "bfcf636e-6c97-4f50-abae-e7cfbe781dd5",
   "metadata": {},
   "source": [
    "Dodajmy opcję zmiany motywu w naszej aplikacji - wykorzystamy w tym celu `RadioButton` oraz `RadioGroup`. Dodamy możliwość wyboru trzech motywów - jasny, ciemny, domyślny zintegrowany z Android. Możemy zauważyć że dwa motywy mamy już domyślnie zdefiniowane w plikach `themes.xml`. Rozpocznijmy od layoutu `fragment_settings`\n",
    "\n",
    "```xml\n",
    "<?xml version=\"1.0\" encoding=\"utf-8\"?>\n",
    "<FrameLayout xmlns:android=\"http://schemas.android.com/apk/res/android\"\n",
    "    xmlns:tools=\"http://schemas.android.com/tools\"\n",
    "    android:layout_width=\"match_parent\"\n",
    "    android:layout_height=\"match_parent\"\n",
    "    tools:context=\".fragments.SettingsFragment\">\n",
    "\n",
    "    <RelativeLayout\n",
    "        android:layout_width=\"match_parent\"\n",
    "        android:layout_height=\"match_parent\">\n",
    "\n",
    "        <TextView\n",
    "            android:id=\"@+id/textViewSettings\"\n",
    "            android:layout_width=\"match_parent\"\n",
    "            android:layout_height=\"wrap_content\"\n",
    "            android:layout_marginTop=\"30dp\"\n",
    "            android:gravity=\"center_horizontal\"\n",
    "            android:text=\"@string/default_value\"\n",
    "            android:textAlignment=\"center\"\n",
    "            android:textSize=\"36sp\" />\n",
    "\n",
    "        <TextView\n",
    "            android:id=\"@+id/textViewThemeSetting\"\n",
    "            android:layout_width=\"match_parent\"\n",
    "            android:layout_height=\"wrap_content\"\n",
    "            android:layout_below=\"@id/textViewSettings\"\n",
    "            android:layout_marginTop=\"30dp\"\n",
    "            android:gravity=\"center_horizontal\"\n",
    "            android:text=\"@string/theme_settings\"\n",
    "            android:textAlignment=\"center\"\n",
    "            android:textSize=\"28sp\" />\n",
    "\n",
    "        <TextView\n",
    "            android:id=\"@+id/textViewCurrentTheme\"\n",
    "            android:layout_width=\"match_parent\"\n",
    "            android:layout_height=\"wrap_content\"\n",
    "            android:layout_below=\"@id/textViewThemeSetting\"\n",
    "            android:layout_marginTop=\"6dp\"\n",
    "            android:gravity=\"center_horizontal\"\n",
    "            android:text=\"@string/current_theme\"\n",
    "            android:textAlignment=\"center\"\n",
    "            android:textSize=\"20sp\" />\n",
    "\n",
    "        <RadioGroup\n",
    "            android:id=\"@+id/radioButtonTheme\"\n",
    "            android:layout_width=\"match_parent\"\n",
    "            android:layout_height=\"wrap_content\"\n",
    "            android:layout_below=\"@id/textViewCurrentTheme\"\n",
    "            android:layout_marginTop=\"30dp\"\n",
    "            android:orientation=\"vertical\"\n",
    "            android:layout_marginStart=\"100dp\"\n",
    "            android:layout_centerHorizontal=\"true\"\n",
    "            android:padding=\"4dp\">\n",
    "\n",
    "            <RadioButton\n",
    "                android:id=\"@+id/radioButtonLight\"\n",
    "                android:layout_width=\"wrap_content\"\n",
    "                android:layout_height=\"wrap_content\"\n",
    "                android:layout_margin=\"5dp\"\n",
    "                android:padding=\"5dp\"\n",
    "                android:text=\"@string/light\"\n",
    "                android:textSize=\"24sp\"/>\n",
    "\n",
    "            <RadioButton\n",
    "                android:id=\"@+id/radioButtonDark\"\n",
    "                android:layout_width=\"wrap_content\"\n",
    "                android:layout_height=\"wrap_content\"\n",
    "                android:layout_margin=\"5dp\"\n",
    "                android:layout_weight=\"1\"\n",
    "                android:padding=\"5dp\"\n",
    "                android:text=\"@string/dark\"\n",
    "                android:textSize=\"24sp\"/>\n",
    "\n",
    "            <RadioButton\n",
    "                android:id=\"@+id/radioButtonDefault\"\n",
    "                android:layout_width=\"wrap_content\"\n",
    "                android:layout_height=\"wrap_content\"\n",
    "                android:layout_margin=\"5dp\"\n",
    "                android:layout_weight=\"1\"\n",
    "                android:padding=\"5dp\"\n",
    "                android:text=\"@string/system_default\"\n",
    "                android:textSize=\"20sp\"/>\n",
    "\n",
    "        </RadioGroup>\n",
    "    </RelativeLayout>\n",
    "\n",
    "</FrameLayout>\n",
    "```\n",
    "\n",
    "dodajmy odpowiednie elementy do `strings`\n",
    "\n",
    "```xml\n",
    "<resources>\n",
    "    <string name=\"app_name\">PUMApp</string>\n",
    "    <!-- TODO: Remove or change this placeholder text -->\n",
    "    <string name=\"hello_blank_fragment\">Hello blank fragment</string>\n",
    "    <string name=\"settings\">Settings</string>\n",
    "    <string name=\"default_value\">Settings</string>\n",
    "    <string name=\"light\">Light</string>\n",
    "    <string name=\"dark\">Dark</string>\n",
    "    <string name=\"light_theme\">Light Theme</string>\n",
    "    <string name=\"dark_theme\">Dark Theme</string>\n",
    "    <string name=\"system_default\">Android Compatible Theme</string>\n",
    "    <string name=\"selected_language\">English</string>\n",
    "    <string name=\"theme_settings\">Theme Settings</string>\n",
    "    <string name=\"current_theme\">Default</string>\n",
    "</resources>\n",
    "```\n",
    "\n",
    "Przejdźmy do `SettingsFragment` i zmieńmy tytuł na `ActionBar`. W metodzie `onCreateView` muisimy się dostać do `ActionBar`, w tym celu potrzebujemy instancję `AppCompatActivity` na której możemy wywołać metodę `getSupportActionBar`."
   ]
  },
  {
   "cell_type": "code",
   "execution_count": null,
   "id": "2cb5a40e-8879-4409-a53b-137e7f20316d",
   "metadata": {},
   "outputs": [],
   "source": [
    "@Override\n",
    "public View onCreateView(@NonNull LayoutInflater inflater, ViewGroup container,\n",
    "                         Bundle savedInstanceState) {\n",
    "    AppCompatActivity activity = (AppCompatActivity) getActivity();\n",
    "    ActionBar actionBar = null;\n",
    "    if (activity != null) {\n",
    "        actionBar = activity.getSupportActionBar();\n",
    "    }\n",
    "    if (actionBar != null) {\n",
    "        actionBar.setTitle(getString(R.string.settings));\n",
    "    }\n",
    "    return inflater.inflate(R.layout.fragment_settings, container, false);\n",
    "}"
   ]
  },
  {
   "cell_type": "markdown",
   "id": "fce90748-3caa-432f-a7d9-672491c6505e",
   "metadata": {},
   "source": [
    "Zmianę motywu wykonujemy przez wywołanie metody `AppCompatDelegate.setDefaultNightMode` z odpowiednimi opcjami."
   ]
  },
  {
   "cell_type": "code",
   "execution_count": null,
   "id": "fc72f65a-0cf4-49ba-aff8-54aa8d58df0a",
   "metadata": {},
   "outputs": [],
   "source": [
    "@Override\n",
    "public void onViewCreated(@NonNull View view, @Nullable Bundle savedInstanceState) {\n",
    "    super.onViewCreated(view, savedInstanceState);\n",
    "    \n",
    "    TextView textView = view.findViewById(R.id.textViewCurrentTheme);\n",
    "    RadioGroup radioGroup = view.findViewById(R.id.radioButtonTheme);\n",
    "    \n",
    "    radioGroup.setOnCheckedChangeListener((r, checkedId) -> {\n",
    "        if (checkedId == R.id.radioButtonLight){\n",
    "            textView.setText(getString(R.string.light_theme));\n",
    "            AppCompatDelegate.setDefaultNightMode(AppCompatDelegate.MODE_NIGHT_NO);\n",
    "        } else if (checkedId == R.id.radioButtonDark){\n",
    "            textView.setText(getString(R.string.dark_theme));\n",
    "            AppCompatDelegate.setDefaultNightMode(AppCompatDelegate.MODE_NIGHT_YES);\n",
    "        } else {\n",
    "            textView.setText(getString(R.string.current_theme));\n",
    "            AppCompatDelegate.setDefaultNightMode(AppCompatDelegate.MODE_NIGHT_FOLLOW_SYSTEM);\n",
    "        }\n",
    "    });\n",
    "}"
   ]
  },
  {
   "cell_type": "markdown",
   "id": "aa0a231b-80a5-48c6-8fb0-0c1fe7ab97bf",
   "metadata": {},
   "source": [
    "<img src=\"https://media3.giphy.com/media/xY5ZRDy5mPHiMIzGwH/giphy.gif?cid=790b7611e9194faebe71b6ed8cb1782db66bd3838afe9a77&rid=giphy.gif&ct=g\" width=\"150\" />"
   ]
  },
  {
   "cell_type": "markdown",
   "id": "8d4b69d8-2cbc-495c-b788-942f1cc6e3d7",
   "metadata": {},
   "source": [
    "Zmodyfikujmy nieco wygląd szuflady. Po pierwsze dodamy nagłówek. Do katalogu `layout` dodajemy plik `drawer_header`\n",
    "\n",
    "```xml\n",
    "<?xml version=\"1.0\" encoding=\"utf-8\"?>\n",
    "<RelativeLayout xmlns:android=\"http://schemas.android.com/apk/res/android\"\n",
    "    android:layout_width=\"match_parent\"\n",
    "    android:layout_height=\"200dp\"\n",
    "    android:orientation=\"horizontal\"\n",
    "    android:background=\"?colorSecondary\"\n",
    "    android:gravity=\"center\">\n",
    "\n",
    "    <ImageView\n",
    "        android:id=\"@+id/android_drawer_imageView\"\n",
    "        android:layout_width=\"wrap_content\"\n",
    "        android:layout_height=\"match_parent\"\n",
    "        android:src=\"@drawable/ic_android\"\n",
    "        android:contentDescription=\"@string/android\" />\n",
    "\n",
    "    <TextView\n",
    "        android:layout_width=\"wrap_content\"\n",
    "        android:layout_height=\"match_parent\"\n",
    "        android:text=\"@string/pum\"\n",
    "        android:textSize=\"72sp\"\n",
    "        android:gravity=\"center\"\n",
    "        android:layout_toEndOf=\"@id/android_drawer_imageView\"\n",
    "        android:textColor=\"?colorOnSecondary\"/>\n",
    "\n",
    "\n",
    "\n",
    "</RelativeLayout>\n",
    "```\n",
    "\n",
    "Do kolorów zdefiniowanych w `themes.xml` odnosimy się poprzez `?nazwa_atrybutu`\n",
    "\n",
    "```xml\n",
    "android:background=\"?colorSecondary\"\n",
    "```\n",
    "\n",
    "Grafikę definiujemy w katalogu `drawable` - otwieramy menu kontekstowe i wybieramy **New -> Vector Asset**, po kliknięciu na **ClipArt** możemy wybrać odpowiedni wygląd, lub zdefiniować własny\n",
    "\n",
    "```xml\n",
    "<vector android:height=\"76dp\" android:tint=\"#000000\"\n",
    "    android:viewportHeight=\"24\" android:viewportWidth=\"24\"\n",
    "    android:width=\"76dp\" xmlns:android=\"http://schemas.android.com/apk/res/android\">\n",
    "    <path android:fillColor=\"@android:color/white\" android:pathData=\"M16,1L8,1C6.34,1 5,2.34 5,4v16c0,1.66 1.34,3 3,3h8c1.66,0 3,-1.34 3,-3L19,4c0,-1.66 -1.34,-3 -3,-3zM14,21h-4v-1h4v1zM17.25,18L6.75,18L6.75,4h10.5v14z\"/>\n",
    "</vector>\n",
    "```\n",
    "\n",
    "Dodajmy również separator z nazwą oraz grafiki do `drawer_menu`\n",
    "\n",
    "```xml\n",
    "<?xml version=\"1.0\" encoding=\"utf-8\"?>\n",
    "<menu xmlns:android=\"http://schemas.android.com/apk/res/android\">\n",
    "    <item android:title=\"@string/settings\">\n",
    "        <menu>\n",
    "            <item\n",
    "                android:id=\"@+id/aboutFragment\"\n",
    "                android:icon=\"@drawable/ic_about\"\n",
    "                android:title=\"@string/about\" />\n",
    "\n",
    "            <item\n",
    "                android:id=\"@+id/settingsFragment\"\n",
    "                android:icon=\"@drawable/ic_settings\"\n",
    "                android:title=\"@string/settings\" />\n",
    "\n",
    "        </menu>\n",
    "    </item>\n",
    "</menu>\n",
    "```\n",
    "\n",
    "Aby wykorzystać utworzony nagłówek musimy dodać go do `NavigationView` w pliku `activity_main`\n",
    "\n",
    "```xml\n",
    "app:headerLayout=\"@layout/drawer_header\"\n",
    "\n",
    "    <com.google.android.material.navigation.NavigationView\n",
    "        android:id=\"@+id/navigation_drawerID\"\n",
    "        android:layout_width=\"wrap_content\"\n",
    "        android:layout_height=\"match_parent\"\n",
    "        android:layout_gravity=\"start\"\n",
    "        app:headerLayout=\"@layout/drawer_header\"\n",
    "        app:menu=\"@menu/drawer_menu\"/>\n",
    "```"
   ]
  },
  {
   "cell_type": "markdown",
   "id": "3afa49e9-e75d-4422-a6fa-8b9770359427",
   "metadata": {},
   "source": [
    "<img src=\"https://media4.giphy.com/media/GUtkxcigj4yDoiozTP/giphy.gif?cid=790b7611d67892dbf4b580d998ea69d1e48b7abe07bfcc04&rid=giphy.gif&ct=g\" width=\"150\" />"
   ]
  },
  {
   "cell_type": "markdown",
   "id": "ce84f1f0-966e-4631-b44d-633b57264e09",
   "metadata": {},
   "source": [
    "Dodajmy następnie przycisk do `StartFragment` w taki sam sposób jak w `QuickYogaApp`\n",
    "\n",
    "`start_button.xml` do katalogu `drawable`\n",
    "\n",
    "```xml\n",
    "<?xml version=\"1.0\" encoding=\"utf-8\"?>\n",
    "<shape xmlns:android=\"http://schemas.android.com/apk/res/android\"\n",
    "    android:shape=\"rectangle\">\n",
    "    <stroke android:width=\"7dp\"\n",
    "        android:color=\"?colorSecondary\"/>\n",
    "    <solid android:color=\"?colorSecondaryVariant\"/>\n",
    "    <corners android:radius=\"170dp\"/>\n",
    "\n",
    "</shape>\n",
    "```\n",
    "\n",
    "`start_button_ripple.xml` do katalogu `drawable`\n",
    "\n",
    "```xml\n",
    "<?xml version=\"1.0\" encoding=\"utf-8\"?>\n",
    "<ripple xmlns:android=\"http://schemas.android.com/apk/res/android\"\n",
    "    android:color=\"?colorSecondary\">\n",
    "    <item android:id=\"@+id/ripple_effect\">\n",
    "        <shape android:shape=\"rectangle\"/>\n",
    "    </item>\n",
    "    <item android:drawable=\"@drawable/start_button\"/>\n",
    "\n",
    "</ripple>\n",
    "```\n",
    "\n",
    "zmodyfikujmy layout `StartFragment`\n",
    "\n",
    "```xml\n",
    "<?xml version=\"1.0\" encoding=\"utf-8\"?>\n",
    "<FrameLayout xmlns:android=\"http://schemas.android.com/apk/res/android\"\n",
    "    xmlns:tools=\"http://schemas.android.com/tools\"\n",
    "    android:layout_width=\"match_parent\"\n",
    "    android:layout_height=\"match_parent\"\n",
    "    tools:context=\".fragments.StartFragment\">\n",
    "\n",
    "    <TextView\n",
    "        android:layout_width=\"wrap_content\"\n",
    "        android:layout_height=\"wrap_content\"\n",
    "        android:text=\"@string/pum\"\n",
    "        android:textSize=\"124sp\"\n",
    "        android:layout_gravity=\"center_horizontal\"\n",
    "        android:layout_marginTop=\"36dp\"\n",
    "        android:textStyle=\"bold\"/>\n",
    "\n",
    "    <LinearLayout\n",
    "        android:id=\"@+id/start_button_layout\"\n",
    "        android:layout_width=\"300dp\"\n",
    "        android:layout_height=\"150dp\"\n",
    "        android:layout_gravity=\"center\"\n",
    "        android:background=\"@drawable/start_button_ripple\"\n",
    "        android:gravity=\"center\">\n",
    "\n",
    "        <TextView\n",
    "            android:layout_width=\"wrap_content\"\n",
    "            android:layout_height=\"wrap_content\"\n",
    "            android:text=\"@string/start\"\n",
    "            android:textColor=\"?colorOnSecondary\"\n",
    "            android:textStyle=\"bold\"\n",
    "            android:textSize=\"45sp\"/>\n",
    "\n",
    "    </LinearLayout>\n",
    "\n",
    "</FrameLayout>\n",
    "```\n",
    "\n",
    "I na koniec zmieńmy tytuł pojawiający się na `ActionBar` oraz dodajmy `onClick`"
   ]
  },
  {
   "cell_type": "code",
   "execution_count": null,
   "id": "6b5c353e-657d-40f6-b3f9-266fef99b10c",
   "metadata": {},
   "outputs": [],
   "source": [
    "public class StartFragment extends Fragment {\n",
    "\n",
    "    @Override\n",
    "    public View onCreateView(@NonNull LayoutInflater inflater, ViewGroup container,\n",
    "                             Bundle savedInstanceState) {\n",
    "        AppCompatActivity activity = (AppCompatActivity) getActivity();\n",
    "        ActionBar actionBar = null;\n",
    "        if (activity != null) {\n",
    "            actionBar = activity.getSupportActionBar();\n",
    "        }\n",
    "        if (actionBar != null) {\n",
    "            actionBar.setTitle(getString(R.string.app_name));\n",
    "        }\n",
    "        return inflater.inflate(R.layout.fragment_start, container, false);\n",
    "    }\n",
    "\n",
    "    @Override\n",
    "    public void onViewCreated(@NonNull View view, @Nullable Bundle savedInstanceState) {\n",
    "        super.onViewCreated(view, savedInstanceState);\n",
    "        LinearLayout button = view.findViewById(R.id.start_button_layout);\n",
    "        button.setOnClickListener(view1 -> {\n",
    "            Navigation.findNavController(view).navigate(StartFragmentDirections.actionStartFragmentToModuleListFragment());\n",
    "        });\n",
    "    }\n",
    "}"
   ]
  },
  {
   "cell_type": "markdown",
   "id": "6745a512-38d7-42b5-ba6b-71cfaf5bd5fe",
   "metadata": {},
   "source": [
    "<img src=\"https://media4.giphy.com/media/vxFCJk2ezJecGe0q51/giphy.gif?cid=790b7611375b0d8e309f01295b707e9b33cd918c6b2cec75&rid=giphy.gif&ct=g\" width=\"150\" />"
   ]
  },
  {
   "cell_type": "code",
   "execution_count": null,
   "id": "e23f0c81-521c-4753-a5f9-120f87055e71",
   "metadata": {},
   "outputs": [],
   "source": []
  }
 ],
 "metadata": {
  "kernelspec": {
   "display_name": "Java",
   "language": "java",
   "name": "java"
  },
  "language_info": {
   "codemirror_mode": "java",
   "file_extension": ".jshell",
   "mimetype": "text/x-java-source",
   "name": "Java",
   "pygments_lexer": "java",
   "version": "17+35-2724"
  }
 },
 "nbformat": 4,
 "nbformat_minor": 5
}
