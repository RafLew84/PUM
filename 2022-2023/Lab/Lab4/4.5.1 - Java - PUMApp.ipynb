{
 "cells": [
  {
   "cell_type": "markdown",
   "id": "1e99a03c-958e-4368-9f6e-a1d355c501b6",
   "metadata": {},
   "source": [
    "## 4.5 PUMApp"
   ]
  },
  {
   "cell_type": "markdown",
   "id": "79423282-f40d-4347-be9b-442edf4009f5",
   "metadata": {},
   "source": [
    "W tej aplikacji wykorzystamy `RecyclerView`, `Drawer`, `Jetpack Navigation` oraz `Materials` do stworzenia prostej aplikacji będącej mocno uproszczoną wersją tego repozytorium."
   ]
  },
  {
   "cell_type": "code",
   "execution_count": null,
   "id": "908dc89b-1622-4b90-afb5-65215a3f4293",
   "metadata": {},
   "outputs": [],
   "source": []
  },
  {
   "cell_type": "markdown",
   "id": "365b2092-65cf-423d-93c6-874201f3e0bf",
   "metadata": {},
   "source": [
    "### **Fragmenty**"
   ]
  },
  {
   "cell_type": "markdown",
   "id": "9896a971-86d2-44ee-b7cf-4ffc3ae6f27a",
   "metadata": {},
   "source": [
    "Rozpocznijmy od dodania fragmentów (**Blank Fragment**) z których będzie składała się nasza aplikacja.\n",
    "\n",
    "- `StartFragment` - fragment domowy\n",
    "- `ModuleListFragment` - fragment zawierający listę modułów\n",
    "- `ModuleFragment` - fragment zawierający zawartość modułu\n",
    "- `LectureFragment` - fragment zawierający informacje o wykładzie\n",
    "- `LabListFragment` - fragment zawierający listę wszystkich labów przeznaczonych do tego laboratorium\n",
    "- `AppListFragment` - fragment zawierający listę wszystkich aplikacji przeznaczonych do tego laboratorium\n",
    "- `AboutFragment` - fragment zawierający podstawowe informacje o aplikacji\n",
    "- `SettingsFragment` - fragment zawierający ustawienia aplikacji - w tej aplikacji dodamy możliwość przełączenia na ciemny motyw"
   ]
  },
  {
   "cell_type": "markdown",
   "id": "726d2c7b-e135-4460-8fea-30df7cb8ecb5",
   "metadata": {},
   "source": [
    "### **Nawigacja**"
   ]
  },
  {
   "cell_type": "markdown",
   "id": "5db7beef-485e-41a2-ab6d-747c7e99c8dc",
   "metadata": {},
   "source": [
    "Dodajmy do aplikacji nawigację. Do skryptów `Gradle(Project)` dodajemy"
   ]
  },
  {
   "cell_type": "code",
   "execution_count": null,
   "id": "bcb9c408-f4bb-4ed5-aecf-e2c88e186fa5",
   "metadata": {},
   "outputs": [],
   "source": [
    "buildscript {\n",
    "    repositories {\n",
    "        google()\n",
    "    }\n",
    "    dependencies {\n",
    "        def nav_version = \"2.5.0\"\n",
    "        classpath \"androidx.navigation:navigation-safe-args-gradle-plugin:$nav_version\"\n",
    "    }\n",
    "}"
   ]
  },
  {
   "cell_type": "markdown",
   "id": "ca100c23-1a46-492c-a1a5-64845fbbffaf",
   "metadata": {},
   "source": [
    "Do `Gradle(Module)`"
   ]
  },
  {
   "cell_type": "code",
   "execution_count": null,
   "id": "5f41b995-ff37-4446-835c-137e124b5124",
   "metadata": {},
   "outputs": [],
   "source": [
    "plugins {\n",
    "    id 'com.android.application'\n",
    "    id 'org.jetbrains.kotlin.android'\n",
    "    id 'androidx.navigation.safeargs.kotlin'\n",
    "}\n",
    "\n",
    "dependencies {\n",
    "\n",
    "    def nav_version = \"2.5.0\"\n",
    "    implementation \"androidx.navigation:navigation-fragment:$nav_version\"\n",
    "    implementation \"androidx.navigation:navigation-ui:$nav_version\"\n",
    "}"
   ]
  },
  {
   "cell_type": "markdown",
   "id": "290e1de7-7a61-4ffc-b3b2-cd9f7340491a",
   "metadata": {},
   "source": [
    "Następnie synchronizujemy projekt i przechodzimy do utworzenia grafu."
   ]
  },
  {
   "cell_type": "markdown",
   "id": "7c3b94f2-8653-4681-9a21-b0578e8d678e",
   "metadata": {},
   "source": [
    "<img src=\"https://files.fm/thumb_show.php?i=375bnxj9c\" width=\"400\" />"
   ]
  },
  {
   "cell_type": "markdown",
   "id": "67abd9b0-c349-40a5-a0b4-2e2f8b5242c5",
   "metadata": {},
   "source": [
    "Zauważmy że `AboutFragment` oraz `SettingsFragment` nie posiadają żadnej zdefiniowanej akcji - nawigację do tych fragmentów dodamy za pomocą `Drawer`."
   ]
  },
  {
   "cell_type": "markdown",
   "id": "7c89e3ec-64ff-44c8-a533-b2b168edae39",
   "metadata": {},
   "source": [
    "Dodajmy `Menu` dla `Drawer`. Otwieramy menu kontekstowe na katalogu `res`, następnie **New -> Android Resource File**, jako **Resource Type** wybieram `Menu` - plik nazwijmy `drawer_menu`. Dodamy w nim dwa wpisy `<item>`\n",
    "\n",
    "```xml\n",
    "<?xml version=\"1.0\" encoding=\"utf-8\"?>\n",
    "<menu xmlns:android=\"http://schemas.android.com/apk/res/android\">\n",
    "    <item\n",
    "        android:id=\"@+id/aboutFragment\"\n",
    "        android:title=\"About\" />\n",
    "\n",
    "    <item\n",
    "        android:id=\"@+id/settingsFragment\"\n",
    "        android:title=\"Settings\" />\n",
    "</menu>\n",
    "```\n",
    "\n",
    "Istotną rzeczą są `id` - muszą być takie same jak w `navigation.xml` pola `id` nadane odpowiednim fragmentom. Tutaj chcemy zapewnić możliwość nawigacji z menu bocznego do dwóch fragmentów, więc dodajemy dwa pola o odpowiednich `id`.\n",
    "\n",
    "Kolejnym krokiem będzie modyfikacja layoutu `MainActivity`. Naszym głównym elementem będzie `DrawerLayout` - ponieważ chcemy móc otworzyć panel boczny, tutaj będzie on powiązany z aktywnością główną aplikacji.\n",
    "\n",
    "```xml\n",
    "<androidx.drawerlayout.widget.DrawerLayout xmlns:android=\"http://schemas.android.com/apk/res/android\"\n",
    "    xmlns:tools=\"http://schemas.android.com/tools\"\n",
    "    xmlns:app=\"http://schemas.android.com/apk/res-auto\"\n",
    "    android:layout_width=\"match_parent\"\n",
    "    android:layout_height=\"match_parent\"\n",
    "    android:id=\"@+id/drawerLayoutID\"\n",
    "    tools:context=\".MainActivity\">\n",
    "```\n",
    "\n",
    "Następnie potrzebujemy `FragmentContainer` - jak w poprzednich aplikacjach\n",
    "\n",
    "```xml\n",
    "    <LinearLayout\n",
    "        android:layout_width=\"match_parent\"\n",
    "        android:layout_height=\"match_parent\"\n",
    "        android:orientation=\"vertical\">\n",
    "\n",
    "        <androidx.fragment.app.FragmentContainerView\n",
    "            android:id=\"@+id/nav_host_fragment\"\n",
    "            android:name=\"androidx.navigation.fragment.NavHostFragment\"\n",
    "            android:layout_width=\"match_parent\"\n",
    "            android:layout_height=\"match_parent\"\n",
    "            app:defaultNavHost=\"true\"\n",
    "            app:navGraph=\"@navigation/navigation\" />\n",
    "    </LinearLayout>\n",
    "```\n",
    "\n",
    "Ostatnim elementem jest `NavigationView`, który pozwoli dodać wcześniej utworzony `drawer_menu` i wyświetlić panel boczny\n",
    "\n",
    "```xml\n",
    "    <com.google.android.material.navigation.NavigationView\n",
    "        android:id=\"@+id/navigation_drawerID\"\n",
    "        android:layout_width=\"wrap_content\"\n",
    "        android:layout_height=\"match_parent\"\n",
    "        android:layout_gravity=\"start\"\n",
    "        app:menu=\"@menu/drawer_menu\"/>\n",
    "\n",
    "</androidx.drawerlayout.widget.DrawerLayout>\n",
    "```\n",
    "\n"
   ]
  },
  {
   "cell_type": "markdown",
   "id": "6941cf98-0279-4284-a866-444365df6da8",
   "metadata": {},
   "source": [
    "Ostatnim krokiem w tworzeniu nawigacji w tym projekcie będzie spięcie wszystkiego w `MainActivity`. W pierwszym kroku musimy posiadać instancję `NavController`"
   ]
  },
  {
   "cell_type": "code",
   "execution_count": null,
   "id": "06fa4ce7-65bf-498c-b4f4-e403bfbaafd7",
   "metadata": {},
   "outputs": [],
   "source": [
    "private NavController navController;\n",
    "\n",
    "@Override\n",
    "protected void onCreate(Bundle savedInstanceState) {\n",
    "    super.onCreate(savedInstanceState);\n",
    "    setContentView(R.layout.activity_main);\n",
    "\n",
    "    NavHostFragment navHostFragment = (NavHostFragment) getSupportFragmentManager()\n",
    "            .findFragmentById(R.id.nav_host_fragment);\n",
    "\n",
    "    if (navHostFragment != null) {\n",
    "        navController = NavHostFragment.findNavController(navHostFragment);\n",
    "    }\n",
    "}"
   ]
  },
  {
   "cell_type": "markdown",
   "id": "c2aaef11-5d03-453e-9dfb-0a59b54969da",
   "metadata": {},
   "source": [
    "Następnie definiujemy `AppBarConfiguration` w którym łączymy `NavController` z `DrawerLayout`"
   ]
  },
  {
   "cell_type": "code",
   "execution_count": null,
   "id": "8a67561b-2c6d-40a4-99de-ea9ce17dffda",
   "metadata": {},
   "outputs": [],
   "source": [
    "private NavController navController;\n",
    "private AppBarConfiguration appBarConfiguration;\n",
    "\n",
    "@Override\n",
    "protected void onCreate(Bundle savedInstanceState) {\n",
    "    super.onCreate(savedInstanceState);\n",
    "    setContentView(R.layout.activity_main);\n",
    "\n",
    "    NavHostFragment navHostFragment = (NavHostFragment) getSupportFragmentManager()\n",
    "            .findFragmentById(R.id.nav_host_fragment);\n",
    "\n",
    "    if (navHostFragment != null) {\n",
    "        navController = NavHostFragment.findNavController(navHostFragment);\n",
    "    }\n",
    "\n",
    "    DrawerLayout drawerLayout = findViewById(R.id.drawerLayoutID);\n",
    "\n",
    "    appBarConfiguration =  new AppBarConfiguration.Builder(navController.getGraph())\n",
    "            .setOpenableLayout(drawerLayout)\n",
    "            .build();\n",
    "}"
   ]
  },
  {
   "cell_type": "markdown",
   "id": "461c67ef-4124-441e-b47a-41607d25a55b",
   "metadata": {},
   "source": [
    "W metodzie `onCreate` łączymy domyślny `ActionBar` z `NavController`"
   ]
  },
  {
   "cell_type": "code",
   "execution_count": null,
   "id": "cb8c0d44-b138-4cbe-92d9-6223242b1bca",
   "metadata": {},
   "outputs": [],
   "source": [
    "NavigationUI.setupActionBarWithNavController(this, navController, appBarConfiguration);"
   ]
  },
  {
   "cell_type": "markdown",
   "id": "10fb2c84-8221-4407-8183-8bded2cfa1a0",
   "metadata": {},
   "source": [
    "oraz `NavigationView` z `NavController`"
   ]
  },
  {
   "cell_type": "code",
   "execution_count": null,
   "id": "51275558-cb11-4ed3-9b60-ed682d39c796",
   "metadata": {},
   "outputs": [],
   "source": [
    "NavigationView navigationView = findViewById(R.id.navigation_drawerID);\n",
    "NavigationUI.setupWithNavController(navigationView, navController);"
   ]
  },
  {
   "cell_type": "markdown",
   "id": "015efef1-c241-4cb4-a43c-6a31d318b115",
   "metadata": {},
   "source": [
    "Dodamy implementacje dwóch metod. Pierwszą jest `onSupportNavigateUp` - pozwala ona na zmianę ikony szuflady na ikonę powrotu po opuszczeniu głównego ekranu aplikacji - szufladę zawsze można otworzyć przez przeciągnięcie."
   ]
  },
  {
   "cell_type": "code",
   "execution_count": null,
   "id": "020d7304-2ab8-4fd5-9be5-2b7c01528cef",
   "metadata": {},
   "outputs": [],
   "source": [
    "@Override\n",
    "public boolean onSupportNavigateUp() {\n",
    "    return NavigationUI.navigateUp(navController, appBarConfiguration) || super.onSupportNavigateUp();\n",
    "}"
   ]
  },
  {
   "cell_type": "markdown",
   "id": "8e2a8df8-8d6e-4bba-be73-54d41717772a",
   "metadata": {},
   "source": [
    "Następną metodą jest `onOptionsItemSelected` - pozwala ona na nawigację bez definiowania akcji pod warunkiem zgodności `id` w plikach `drawer_menu` oraz `navigation`"
   ]
  },
  {
   "cell_type": "code",
   "execution_count": null,
   "id": "286c2ee5-93e9-4d40-bb40-efa9b9e25460",
   "metadata": {},
   "outputs": [],
   "source": [
    "@Override\n",
    "public boolean onOptionsItemSelected(@NonNull MenuItem item) {\n",
    "    return NavigationUI.onNavDestinationSelected(item, navController) || super.onOptionsItemSelected(item);\n",
    "}"
   ]
  },
  {
   "cell_type": "markdown",
   "id": "635744af-2f52-4b2e-a4a2-027fe3b83b1f",
   "metadata": {},
   "source": [
    "Możemy przetestować działanie `Drawer`"
   ]
  },
  {
   "cell_type": "markdown",
   "id": "d12b5d1d-df6d-4392-a8e9-a31ffbb532f7",
   "metadata": {},
   "source": [
    "<img src=\"https://media1.giphy.com/media/v98tLyiUpSyfTG9VmD/giphy.gif?cid=790b76110cf80882ea0dfcb8fdb4c8c397f8a3d45e0401df&rid=giphy.gif&ct=g\" width=\"150\" />"
   ]
  },
  {
   "cell_type": "code",
   "execution_count": null,
   "id": "0f1bf422-488b-4740-9b49-1b7b81f4a078",
   "metadata": {},
   "outputs": [],
   "source": []
  }
 ],
 "metadata": {
  "kernelspec": {
   "display_name": "Java",
   "language": "java",
   "name": "java"
  },
  "language_info": {
   "codemirror_mode": "java",
   "file_extension": ".jshell",
   "mimetype": "text/x-java-source",
   "name": "Java",
   "pygments_lexer": "java",
   "version": "17+35-2724"
  }
 },
 "nbformat": 4,
 "nbformat_minor": 5
}
