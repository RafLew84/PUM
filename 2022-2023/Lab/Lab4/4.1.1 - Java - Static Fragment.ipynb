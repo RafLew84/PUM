{
 "cells": [
  {
   "cell_type": "markdown",
   "id": "1cebae18-e189-436f-a162-65a709a2d7c1",
   "metadata": {},
   "source": [
    "# 4.1 Static Fragment"
   ]
  },
  {
   "cell_type": "markdown",
   "id": "39df523a-75f8-435a-979c-53299e39c09e",
   "metadata": {},
   "source": [
    "Aplikacja będzie zawierała jedną aktywność do której statycznie dodamy fragment"
   ]
  },
  {
   "cell_type": "markdown",
   "id": "fd48e0a3-30cf-4734-9942-e6734baeeb8c",
   "metadata": {},
   "source": [
    "Dodajmy do projektu klasę o nazwie `FragmentA` rozszerzającą klasę `Fragment`"
   ]
  },
  {
   "cell_type": "code",
   "execution_count": null,
   "id": "cf1d820e-906c-495f-a869-72b4232f9a7b",
   "metadata": {},
   "outputs": [],
   "source": [
    "package pl.edu.uwr.pum.staticfragmentjava;\n",
    "\n",
    "import androidx.fragment.app.Fragment;\n",
    "\n",
    "public class FragmentA extends Fragment {\n",
    "}"
   ]
  },
  {
   "cell_type": "markdown",
   "id": "5f6d7489-222d-4ea9-832e-6a6cb958f22a",
   "metadata": {},
   "source": [
    "Następnie utwórzmy plik layoutu o nazwie `fragment_a`"
   ]
  },
  {
   "cell_type": "code",
   "execution_count": null,
   "id": "59f6f87c-cb4a-4f92-ad1c-2fe08629329a",
   "metadata": {},
   "outputs": [],
   "source": [
    "<?xml version=\"1.0\" encoding=\"utf-8\"?>\n",
    "<androidx.constraintlayout.widget.ConstraintLayout \n",
    "xmlns:android=\"http://schemas.android.com/apk/res/android\"\n",
    "    xmlns:app=\"http://schemas.android.com/apk/res-auto\"\n",
    "    xmlns:tools=\"http://schemas.android.com/tools\"\n",
    "    android:layout_width=\"match_parent\"\n",
    "    android:layout_height=\"match_parent\"\n",
    "    android:background=\"#FFF444\">\n",
    "\n",
    "    <TextView\n",
    "        android:id=\"@+id/textView\"\n",
    "        android:layout_width=\"wrap_content\"\n",
    "        android:layout_height=\"wrap_content\"\n",
    "        android:text=\"FragmentA\"\n",
    "        android:textColor=\"@color/black\"\n",
    "        android:textSize=\"36sp\"\n",
    "        app:layout_constraintBottom_toBottomOf=\"parent\"\n",
    "        app:layout_constraintEnd_toEndOf=\"parent\"\n",
    "        app:layout_constraintStart_toStartOf=\"parent\"\n",
    "        app:layout_constraintTop_toTopOf=\"parent\" />\n",
    "</androidx.constraintlayout.widget.ConstraintLayout>"
   ]
  },
  {
   "cell_type": "markdown",
   "id": "26fa1704-81cb-42b4-9113-f338fa73d412",
   "metadata": {},
   "source": [
    "I uzupełnijmy klasę `FragmentA` o metodę `onCreateView`"
   ]
  },
  {
   "cell_type": "code",
   "execution_count": null,
   "id": "eca5c882-6b8e-4b09-bfbc-4e56f331f5fa",
   "metadata": {},
   "outputs": [],
   "source": [
    "public class FragmentA extends Fragment {\n",
    "\n",
    "    @Nullable\n",
    "    @Override\n",
    "    public View onCreateView(@NonNull LayoutInflater inflater, @Nullable ViewGroup container, @Nullable Bundle savedInstanceState) {\n",
    "        return inflater.inflate(R.layout.fragment_a, container, false);\n",
    "    }\n",
    "}"
   ]
  },
  {
   "cell_type": "markdown",
   "id": "a5c25a36-1296-442c-be0a-4d4140ab0a2f",
   "metadata": {},
   "source": [
    "Następnie utwórzmy analogicznie klasę `FragmentB`"
   ]
  },
  {
   "cell_type": "code",
   "execution_count": null,
   "id": "664414b5-74b9-48fa-b7b2-f52a1ae0a76b",
   "metadata": {},
   "outputs": [],
   "source": [
    "<?xml version=\"1.0\" encoding=\"utf-8\"?>\n",
    "<androidx.constraintlayout.widget.ConstraintLayout\n",
    "xmlns:android=\"http://schemas.android.com/apk/res/android\"\n",
    "    xmlns:app=\"http://schemas.android.com/apk/res-auto\"\n",
    "    xmlns:tools=\"http://schemas.android.com/tools\"\n",
    "    android:layout_width=\"match_parent\"\n",
    "    android:layout_height=\"match_parent\">\n",
    "\n",
    "    <TextView\n",
    "        android:id=\"@+id/textView\"\n",
    "        android:layout_width=\"wrap_content\"\n",
    "        android:layout_height=\"wrap_content\"\n",
    "        android:text=\"FragmentB\"\n",
    "        android:textColor=\"@color/black\"\n",
    "        android:textSize=\"36sp\"\n",
    "        app:layout_constraintBottom_toBottomOf=\"parent\"\n",
    "        app:layout_constraintEnd_toEndOf=\"parent\"\n",
    "        app:layout_constraintStart_toStartOf=\"parent\"\n",
    "        app:layout_constraintTop_toTopOf=\"parent\" />\n",
    "</androidx.constraintlayout.widget.ConstraintLayout>"
   ]
  },
  {
   "cell_type": "code",
   "execution_count": null,
   "id": "4b60c988-55ec-4621-9a2e-5dfc9d141765",
   "metadata": {},
   "outputs": [],
   "source": [
    "public class FragmentB extends Fragment {\n",
    "\n",
    "    @Nullable\n",
    "    @Override\n",
    "    public View onCreateView(@NonNull LayoutInflater inflater, @Nullable ViewGroup container, @Nullable Bundle savedInstanceState) {\n",
    "        return inflater.inflate(R.layout.fragment_b, container, false);\n",
    "    }\n",
    "}\n"
   ]
  },
  {
   "cell_type": "markdown",
   "id": "8d8503cb-6783-4ac7-bbdd-257ac8faf0ed",
   "metadata": {},
   "source": [
    "Następnie do layoutu `MainActivity` dodamy oba fragmenty"
   ]
  },
  {
   "cell_type": "code",
   "execution_count": null,
   "id": "1d242b3a-6e14-410d-89ae-9e89609217b1",
   "metadata": {},
   "outputs": [],
   "source": [
    "<?xml version=\"1.0\" encoding=\"utf-8\"?>\n",
    "<LinearLayout xmlns:android=\"http://schemas.android.com/apk/res/android\"\n",
    "    xmlns:app=\"http://schemas.android.com/apk/res-auto\"\n",
    "    xmlns:tools=\"http://schemas.android.com/tools\"\n",
    "    android:layout_width=\"match_parent\"\n",
    "    android:layout_height=\"match_parent\"\n",
    "    android:orientation=\"vertical\"\n",
    "    tools:context=\".MainActivity\">\n",
    "\n",
    "    <fragment\n",
    "        android:id=\"@+id/fragmentA\"\n",
    "        android:layout_width=\"match_parent\"\n",
    "        android:layout_height=\"0dp\"\n",
    "        android:layout_weight=\"1\"\n",
    "        android:name=\"pl.edu.uwr.pum.staticfragmentjava.FragmentA\"/>\n",
    "\n",
    "    <fragment\n",
    "        android:id=\"@+id/fragmentB\"\n",
    "        android:layout_width=\"match_parent\"\n",
    "        android:layout_height=\"0dp\"\n",
    "        android:layout_weight=\"1\"\n",
    "        android:name=\"pl.edu.uwr.pum.staticfragmentjava.FragmentB\"/>\n",
    "\n",
    "</LinearLayout>"
   ]
  },
  {
   "cell_type": "markdown",
   "id": "8cff5166-0d83-48b0-a05a-f4ee651c5397",
   "metadata": {},
   "source": [
    "Statycznie fragmenty dodajemy jako `<fragment />` - tutaj powinien pojawić się warning o zamianie na `fragmentContainer` ale w tym przykładzie go zignorujemy.\n",
    "\n",
    "W efekcie ekran główny naszej aplikacji mamy podzielony na dwa fragmenty, którymi możemy zarządzać niezależnie."
   ]
  },
  {
   "cell_type": "markdown",
   "id": "b72bf891-6c2e-4bd2-9c10-7bbf1e542a1a",
   "metadata": {},
   "source": [
    "<img src=\"https://fv9-4.failiem.lv/f/27wc7fe9u\" width=\"200\" />"
   ]
  },
  {
   "cell_type": "code",
   "execution_count": null,
   "id": "1d063f74-2288-4790-b0f4-914e27d6a929",
   "metadata": {},
   "outputs": [],
   "source": []
  }
 ],
 "metadata": {
  "kernelspec": {
   "display_name": "Java",
   "language": "java",
   "name": "java"
  },
  "language_info": {
   "codemirror_mode": "java",
   "file_extension": ".jshell",
   "mimetype": "text/x-java-source",
   "name": "Java",
   "pygments_lexer": "java",
   "version": "17+35-2724"
  }
 },
 "nbformat": 4,
 "nbformat_minor": 5
}
