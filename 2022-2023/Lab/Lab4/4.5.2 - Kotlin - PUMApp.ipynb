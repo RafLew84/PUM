{
 "cells": [
  {
   "cell_type": "markdown",
   "id": "d4f237ad-99a0-452e-ab76-3aabbdf056fd",
   "metadata": {},
   "source": [
    "## 4.5 PUMApp"
   ]
  },
  {
   "cell_type": "markdown",
   "id": "96d6ab4b-061f-45f7-ac12-b4372632bf52",
   "metadata": {},
   "source": [
    "W tej aplikacji wykorzystamy `RecyclerView`, `Drawer`, `Jetpack Navigation` oraz `Materials` do stworzenia prostej aplikacji będącej mocno uproszczoną wersją tego repozytorium."
   ]
  },
  {
   "cell_type": "code",
   "execution_count": null,
   "id": "17fb85fb-3098-412b-9148-39f049605558",
   "metadata": {},
   "outputs": [],
   "source": []
  },
  {
   "cell_type": "markdown",
   "id": "794b9d2b-9e4f-483a-996b-d5168f64f49f",
   "metadata": {},
   "source": [
    "### **Fragmenty**"
   ]
  },
  {
   "cell_type": "markdown",
   "id": "10e44711-172f-42dc-b102-0dda45d57ddc",
   "metadata": {},
   "source": [
    "Rozpocznijmy od dodania fragmentów (**Blank Fragment**) z których będzie składała się nasza aplikacja.\n",
    "\n",
    "- `StartFragment` - fragment domowy\n",
    "- `ModuleListFragment` - fragment zawierający listę modułów\n",
    "- `ModuleFragment` - fragment zawierający zawartość modułu\n",
    "- `LectureFragment` - fragment zawierający informacje o wykładzie\n",
    "- `LabListFragment` - fragment zawierający listę wszystkich labów przeznaczonych do tego laboratorium\n",
    "- `AppListFragment` - fragment zawierający listę wszystkich aplikacji przeznaczonych do tego laboratorium\n",
    "- `AboutFragment` - fragment zawierający podstawowe informacje o aplikacji\n",
    "- `SettingsFragment` - fragment zawierający ustawienia aplikacji - w tej aplikacji dodamy możliwość przełączenia na ciemny motyw"
   ]
  },
  {
   "cell_type": "markdown",
   "id": "332ca9aa-f56c-4c00-8120-739870cccf9c",
   "metadata": {},
   "source": [
    "### **Nawigacja**"
   ]
  },
  {
   "cell_type": "markdown",
   "id": "f3908521-322f-4479-aa46-66803d29a700",
   "metadata": {},
   "source": [
    "Dodajmy do aplikacji nawigację. Do skryptów `Gradle(Project)` dodajemy"
   ]
  },
  {
   "cell_type": "code",
   "execution_count": null,
   "id": "b3db6eb0-7f2f-41b0-8bba-723746ea1260",
   "metadata": {},
   "outputs": [],
   "source": [
    "buildscript {\n",
    "    repositories {\n",
    "        google()\n",
    "    }\n",
    "    dependencies {\n",
    "        def nav_version = \"2.5.0\"\n",
    "        classpath \"androidx.navigation:navigation-safe-args-gradle-plugin:$nav_version\"\n",
    "    }\n",
    "}"
   ]
  },
  {
   "cell_type": "markdown",
   "id": "a3bb85cf-1de8-4a81-8b16-3a2fd07e6adb",
   "metadata": {},
   "source": [
    "Do `Gradle(Module)`"
   ]
  },
  {
   "cell_type": "code",
   "execution_count": null,
   "id": "d68c79ea-4db4-4be9-9322-f99fe1e307aa",
   "metadata": {},
   "outputs": [],
   "source": [
    "plugins {\n",
    "    id 'com.android.application'\n",
    "    id 'org.jetbrains.kotlin.android'\n",
    "    id 'androidx.navigation.safeargs.kotlin'\n",
    "}\n",
    "\n",
    "dependencies {\n",
    "\n",
    "    def nav_version = \"2.5.0\"\n",
    "    implementation \"androidx.navigation:navigation-fragment:$nav_version\"\n",
    "    implementation \"androidx.navigation:navigation-ui:$nav_version\"\n",
    "}"
   ]
  },
  {
   "cell_type": "markdown",
   "id": "bbfbfe82-4b91-4250-921a-70117017858d",
   "metadata": {},
   "source": [
    "Następnie synchronizujemy projekt i przechodzimy do utworzenia grafu."
   ]
  },
  {
   "cell_type": "markdown",
   "id": "56a3f2d5-598f-4843-8b53-660fbf95ada8",
   "metadata": {},
   "source": [
    "<img src=\"https://files.fm/thumb_show.php?i=375bnxj9c\" width=\"400\" />"
   ]
  },
  {
   "cell_type": "markdown",
   "id": "7ac0361d-96de-4d4c-a51c-f727236c0484",
   "metadata": {},
   "source": [
    "Zauważmy że `AboutFragment` oraz `SettingsFragment` nie posiadają żadnej zdefiniowanej akcji - nawigację do tych fragmentów dodamy za pomocą `Drawer`."
   ]
  },
  {
   "cell_type": "markdown",
   "id": "872df3f9-fe02-4e3f-b968-e7ae5031181b",
   "metadata": {},
   "source": [
    "Dodajmy `Menu` dla `Drawer`. Otwieramy menu kontekstowe na katalogu `res`, następnie **New -> Android Resource File**, jako **Resource Type** wybieram `Menu` - plik nazwijmy `drawer_menu`. Dodamy w nim dwa wpisy `<item>`\n",
    "\n",
    "```xml\n",
    "<?xml version=\"1.0\" encoding=\"utf-8\"?>\n",
    "<menu xmlns:android=\"http://schemas.android.com/apk/res/android\">\n",
    "    <item\n",
    "        android:id=\"@+id/aboutFragment\"\n",
    "        android:title=\"About\" />\n",
    "\n",
    "    <item\n",
    "        android:id=\"@+id/settingsFragment\"\n",
    "        android:title=\"Settings\" />\n",
    "</menu>\n",
    "```\n",
    "\n",
    "Istotną rzeczą są `id` - muszą być takie same jak w `navigation.xml` pola `id` nadane odpowiednim fragmentom. Tutaj chcemy zapewnić możliwość nawigacji z menu bocznego do dwóch fragmentów, więc dodajemy dwa pola o odpowiednich `id`.\n",
    "\n",
    "Kolejnym krokiem będzie modyfikacja layoutu `MainActivity`. Naszym głównym elementem będzie `DrawerLayout` - ponieważ chcemy móc otworzyć panel boczny, tutaj będzie on powiązany z aktywnością główną aplikacji.\n",
    "\n",
    "```xml\n",
    "<androidx.drawerlayout.widget.DrawerLayout xmlns:android=\"http://schemas.android.com/apk/res/android\"\n",
    "    xmlns:tools=\"http://schemas.android.com/tools\"\n",
    "    xmlns:app=\"http://schemas.android.com/apk/res-auto\"\n",
    "    android:layout_width=\"match_parent\"\n",
    "    android:layout_height=\"match_parent\"\n",
    "    android:id=\"@+id/drawerLayoutID\"\n",
    "    tools:context=\".MainActivity\">\n",
    "```\n",
    "\n",
    "Następnie potrzebujemy `FragmentContainer` - jak w poprzednich aplikacjach\n",
    "\n",
    "```xml\n",
    "    <LinearLayout\n",
    "        android:layout_width=\"match_parent\"\n",
    "        android:layout_height=\"match_parent\"\n",
    "        android:orientation=\"vertical\">\n",
    "\n",
    "        <androidx.fragment.app.FragmentContainerView\n",
    "            android:id=\"@+id/nav_host_fragment\"\n",
    "            android:name=\"androidx.navigation.fragment.NavHostFragment\"\n",
    "            android:layout_width=\"match_parent\"\n",
    "            android:layout_height=\"match_parent\"\n",
    "            app:defaultNavHost=\"true\"\n",
    "            app:navGraph=\"@navigation/navigation\" />\n",
    "    </LinearLayout>\n",
    "```\n",
    "\n",
    "Ostatnim elementem jest `NavigationView`, który pozwoli dodać wcześniej utworzony `drawer_menu` i wyświetlić panel boczny\n",
    "\n",
    "```xml\n",
    "    <com.google.android.material.navigation.NavigationView\n",
    "        android:id=\"@+id/navigation_drawerID\"\n",
    "        android:layout_width=\"wrap_content\"\n",
    "        android:layout_height=\"match_parent\"\n",
    "        android:layout_gravity=\"start\"\n",
    "        app:menu=\"@menu/drawer_menu\"/>\n",
    "\n",
    "</androidx.drawerlayout.widget.DrawerLayout>\n",
    "```\n",
    "\n"
   ]
  },
  {
   "cell_type": "markdown",
   "id": "dcc5670b-9314-477d-b79d-f1cd48dbeba4",
   "metadata": {},
   "source": [
    "Ostatnim krokiem w tworzeniu nawigacji w tym projekcie będzie spięcie wszystkiego w `MainActivity`. W pierwszym kroku musimy posiadać instancję `NavController`"
   ]
  },
  {
   "cell_type": "code",
   "execution_count": null,
   "id": "38074e7c-21d2-47ba-90cd-89e01691f93f",
   "metadata": {},
   "outputs": [],
   "source": [
    "private val navController: NavController by lazy {\n",
    "    val navHostFragment = supportFragmentManager.findFragmentById(R.id.nav_host_fragment)\n",
    "            as NavHostFragment\n",
    "    navHostFragment.findNavController()\n",
    "}"
   ]
  },
  {
   "cell_type": "markdown",
   "id": "63e5e3e5-0843-409a-9a85-4077df09605f",
   "metadata": {},
   "source": [
    "Następnie definiujemy `AppBarConfiguration` w którym łączymy `NavController` z `DrawerLayout`"
   ]
  },
  {
   "cell_type": "code",
   "execution_count": null,
   "id": "77eeb9e5-7d9b-421e-bde4-79dfb0d9a8e7",
   "metadata": {},
   "outputs": [],
   "source": [
    "private val appBarConfiguration: AppBarConfiguration by lazy {\n",
    "    val drawerLayout : DrawerLayout = findViewById(R.id.drawerLayoutID)\n",
    "    AppBarConfiguration(navController.graph, drawerLayout)\n",
    "}"
   ]
  },
  {
   "cell_type": "markdown",
   "id": "1af537ca-f7cc-4ed9-8cfb-b49873fc1228",
   "metadata": {},
   "source": [
    "W metodzie `onCreate` łączymy domyślny `ActionBar` z `NavController`"
   ]
  },
  {
   "cell_type": "code",
   "execution_count": null,
   "id": "2869a260-6d6c-424f-a7ce-14d06935c552",
   "metadata": {},
   "outputs": [],
   "source": [
    "setupActionBarWithNavController(navController, appBarConfiguration)"
   ]
  },
  {
   "cell_type": "markdown",
   "id": "71106a87-a297-4c4a-a9ca-cd73c340f570",
   "metadata": {},
   "source": [
    "oraz `NavigationView` z `NavController`"
   ]
  },
  {
   "cell_type": "code",
   "execution_count": null,
   "id": "cbef4196-67cf-4292-a7f7-fb34934e6e8c",
   "metadata": {},
   "outputs": [],
   "source": [
    "findViewById<NavigationView>(R.id.navigation_drawerID).setupWithNavController(navController)"
   ]
  },
  {
   "cell_type": "markdown",
   "id": "000191ed-491e-441e-88b9-2577c7ba45d1",
   "metadata": {},
   "source": [
    "Dodamy implementacje dwóch metod. Pierwszą jest `onSupportNavigateUp` - pozwala ona na zmianę ikony szuflady na ikonę powrotu po opuszczeniu głównego ekranu aplikacji - szufladę zawsze można otworzyć przez przeciągnięcie."
   ]
  },
  {
   "cell_type": "code",
   "execution_count": null,
   "id": "9975e442-116b-41ce-8265-9d384b080423",
   "metadata": {},
   "outputs": [],
   "source": [
    "override fun onSupportNavigateUp(): Boolean {\n",
    "    return navController.navigateUp(appBarConfiguration)\n",
    "            || super.onSupportNavigateUp()\n",
    "}"
   ]
  },
  {
   "cell_type": "markdown",
   "id": "ebd5165d-d02e-4e66-b72e-03c561e0ce90",
   "metadata": {},
   "source": [
    "Nasrtępną metodą jest `onOptionsItemSelected` - pozwala ona na nawigację bez definiowania akcji pod warunkiem zgodności `id` w plikach `drawer_menu` oraz `navigation`"
   ]
  },
  {
   "cell_type": "code",
   "execution_count": null,
   "id": "2c9729eb-c3cf-4ebd-8b67-cb8acc1690d5",
   "metadata": {},
   "outputs": [],
   "source": [
    "override fun onSupportNavigateUp(): Boolean {\n",
    "    return navController.navigateUp(appBarConfiguration)\n",
    "            || super.onSupportNavigateUp()\n",
    "}"
   ]
  },
  {
   "cell_type": "markdown",
   "id": "bf6f2c58-1c29-4306-80d5-5491125071d9",
   "metadata": {},
   "source": [
    "Możemy przetestować działanie `Drawer`"
   ]
  },
  {
   "cell_type": "markdown",
   "id": "0a91b814-59a8-4fe9-a71a-44b1cff8d870",
   "metadata": {},
   "source": [
    "<img src=\"https://media1.giphy.com/media/v98tLyiUpSyfTG9VmD/giphy.gif?cid=790b76110cf80882ea0dfcb8fdb4c8c397f8a3d45e0401df&rid=giphy.gif&ct=g\" width=\"150\" />"
   ]
  },
  {
   "cell_type": "code",
   "execution_count": null,
   "id": "473b4c06-9fc7-46d7-b1ae-e83b1f43bbdc",
   "metadata": {},
   "outputs": [],
   "source": []
  }
 ],
 "metadata": {
  "kernelspec": {
   "display_name": "Kotlin",
   "language": "kotlin",
   "name": "kotlin"
  },
  "language_info": {
   "codemirror_mode": "text/x-kotlin",
   "file_extension": ".kt",
   "mimetype": "text/x-kotlin",
   "name": "kotlin",
   "nbconvert_exporter": "",
   "pygments_lexer": "kotlin",
   "version": "1.6.20-dev-6372"
  }
 },
 "nbformat": 4,
 "nbformat_minor": 5
}
