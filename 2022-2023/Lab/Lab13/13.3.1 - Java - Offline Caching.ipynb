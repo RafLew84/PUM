{
 "cells": [
  {
   "cell_type": "code",
   "execution_count": null,
   "id": "cb5a782d-03b2-47a0-bf35-d5de339af085",
   "metadata": {},
   "outputs": [],
   "source": []
  },
  {
   "cell_type": "markdown",
   "id": "d2c2794e-f823-4d9c-b997-36434e414fd2",
   "metadata": {},
   "source": [
    "## 13.3 Offline Caching"
   ]
  },
  {
   "cell_type": "markdown",
   "id": "8743f16b-857b-4520-9056-6e00eed94870",
   "metadata": {},
   "source": [
    "W tej aplikacji zobaczymy w jaki sposób wykonać *offline caching* z wykorzystaniem lokalnej bazy danych. Zadanie polega na wykonaniu *snapshotu* danych dostępnych z zewnętrznego serwisu. Idea *offline cachingu* zakłada że urządzenie docelowe może nie mieć stałego dostępu do sieci. W przypadku braku dostępu, wykorzystujemy wersję danych dostępnych w lokalnej bazie.\n",
    "\n",
    "W aplikacji wykorzystamy https://random-data-api.com/, który przy każdym żądaniu generuje losowe dane, wykorzystamy *endpoint* `\\users` generując każdorazowo dane 20 użytkowników. W tej wersji chcemy całkowicie zastąpić istniejące dane w lokalnej bazie ich nową wersją.\n",
    "\n",
    "Podejście to spełnia warunki *single source of truth* - pojedynczego źródła danych dostarczanych użytkownikowi. Będziemy wyświetlać tylko dane pochodzące z lokalnej bazy.\n",
    "\n",
    "W aplikacji wykorzystamy architekturę **MVVM** wraz z bibliotekami `Dagger-Hilt`, `Retrofit`, `ROOM`, oraz `Glide`. Będzie zawierać pojedynczą aktywność na której umieścimy `RecyclerView` - tutaj nie będziemy wykorzystywać komponentu `Jetpack Navigation`."
   ]
  },
  {
   "cell_type": "markdown",
   "id": "8293b01d-a9fa-482c-8d84-0eb99cfcfb61",
   "metadata": {},
   "source": [
    "<img src=\"https://media1.giphy.com/media/y0RLxRN7SPJ7mI7Hw5/giphy.gif?cid=790b7611ea236e1ec92b9220e3629a80e851a7759882cbee&rid=giphy.gif&ct=g\" width=\"200\" />"
   ]
  },
  {
   "cell_type": "markdown",
   "id": "965179f7-fd25-4d4b-a802-8e2e1ce7e247",
   "metadata": {},
   "source": [
    "Rozpocznijmy od przygotowania modelu danych, odpowiedź serwera wygląda następująco."
   ]
  },
  {
   "cell_type": "code",
   "execution_count": null,
   "id": "c30676ea-3a7e-4a0c-8d96-99b232c56f22",
   "metadata": {},
   "outputs": [],
   "source": [
    "{\n",
    "   \"id\":4634,\n",
    "   \"uid\":\"e1c88b6e-800c-44fe-b45a-317d6311ea32\",\n",
    "   \"password\":\"rKbRvTZGIL\",\n",
    "   \"first_name\":\"Scott\",\n",
    "   \"last_name\":\"Veum\",\n",
    "   \"username\":\"scott.veum\",\n",
    "   \"email\":\"scott.veum@email.com\",\n",
    "   \"avatar\":\"https://robohash.org/quianihilexercitationem.png?size=300x300\\u0026set=set1\",\n",
    "   \"gender\":\"Non-binary\",\n",
    "   \"phone_number\":\"+420 573-352-4638 x18831\",\n",
    "   \"social_insurance_number\":\"968138909\",\n",
    "   \"date_of_birth\":\"1993-03-23\",\n",
    "   \"employment\":{\n",
    "      \"title\":\"Senior Agent\",\n",
    "      \"key_skill\":\"Networking skills\"\n",
    "   },\n",
    "   \"address\":{\n",
    "      \"city\":\"Juniorshire\",\n",
    "      \"street_name\":\"Pacocha Dale\",\n",
    "      \"street_address\":\"51943 Earnest Parks\",\n",
    "      \"zip_code\":\"26716-5002\",\n",
    "      \"state\":\"Mississippi\",\n",
    "      \"country\":\"United States\",\n",
    "      \"coordinates\":{\n",
    "         \"lat\":-56.16662202146844,\n",
    "         \"lng\":68.36895424808517\n",
    "      }\n",
    "   },\n",
    "   \"credit_card\":{\n",
    "      \"cc_number\":\"4135-2456-4633-3923\"\n",
    "   },\n",
    "   \"subscription\":{\n",
    "      \"plan\":\"Premium\",\n",
    "      \"status\":\"Idle\",\n",
    "      \"payment_method\":\"Credit card\",\n",
    "      \"term\":\"Payment in advance\"\n",
    "   }\n",
    "}"
   ]
  },
  {
   "cell_type": "markdown",
   "id": "c3a3a2c9-5387-4ae5-814f-b4643032cd6f",
   "metadata": {},
   "source": [
    "Na jej podstawie możemy zamodelować dane - można wykorzystać dowolny dostępny plugin, czy stronę internetową."
   ]
  },
  {
   "cell_type": "code",
   "execution_count": null,
   "id": "84545379-c035-4de4-b897-d63e4da3382e",
   "metadata": {},
   "outputs": [],
   "source": [
    "public class User {\n",
    "    private int id;\n",
    "    private String uid;\n",
    "    private String password;\n",
    "    private String first_name;\n",
    "    private String last_name;\n",
    "    private String username;\n",
    "    private String email;\n",
    "    private String avatar;\n",
    "    private String gender;\n",
    "    private String phone_number;\n",
    "    private String social_insurance_number;\n",
    "    private String date_of_birth;\n",
    "    private Employment employment;\n",
    "    private Address address;\n",
    "    private CreditCard credit_card;\n",
    "    private Subscription subscription;\n",
    "\n",
    "    public User(int id,\n",
    "                String uid,\n",
    "                String password,\n",
    "                String first_name,\n",
    "                String last_name,\n",
    "                String username,\n",
    "                String email,\n",
    "                String avatar,\n",
    "                String gender,\n",
    "                String phone_number,\n",
    "                String social_insurance_number,\n",
    "                String date_of_birth,\n",
    "                Employment employment,\n",
    "                Address address,\n",
    "                CreditCard credit_card,\n",
    "                Subscription subscription) {\n",
    "        this.id = id;\n",
    "        this.uid = uid;\n",
    "        this.password = password;\n",
    "        this.first_name = first_name;\n",
    "        this.last_name = last_name;\n",
    "        this.username = username;\n",
    "        this.email = email;\n",
    "        this.avatar = avatar;\n",
    "        this.gender = gender;\n",
    "        this.phone_number = phone_number;\n",
    "        this.social_insurance_number = social_insurance_number;\n",
    "        this.date_of_birth = date_of_birth;\n",
    "        this.employment = employment;\n",
    "        this.address = address;\n",
    "        this.credit_card = credit_card;\n",
    "        this.subscription = subscription;\n",
    "    }\n",
    "\n",
    "    public int getId() {\n",
    "        return id;\n",
    "    }\n",
    "\n",
    "    public void setId(int id) {\n",
    "        this.id = id;\n",
    "    }\n",
    "\n",
    "    public String getUid() {\n",
    "        return uid;\n",
    "    }\n",
    "\n",
    "    public void setUid(String uid) {\n",
    "        this.uid = uid;\n",
    "    }\n",
    "\n",
    "    public String getPassword() {\n",
    "        return password;\n",
    "    }\n",
    "\n",
    "    public void setPassword(String password) {\n",
    "        this.password = password;\n",
    "    }\n",
    "\n",
    "    public String getFirst_name() {\n",
    "        return first_name;\n",
    "    }\n",
    "\n",
    "    public void setFirst_name(String first_name) {\n",
    "        this.first_name = first_name;\n",
    "    }\n",
    "\n",
    "    public String getLast_name() {\n",
    "        return last_name;\n",
    "    }\n",
    "\n",
    "    public void setLast_name(String last_name) {\n",
    "        this.last_name = last_name;\n",
    "    }\n",
    "\n",
    "    public String getUsername() {\n",
    "        return username;\n",
    "    }\n",
    "\n",
    "    public void setUsername(String username) {\n",
    "        this.username = username;\n",
    "    }\n",
    "\n",
    "    public String getEmail() {\n",
    "        return email;\n",
    "    }\n",
    "\n",
    "    public void setEmail(String email) {\n",
    "        this.email = email;\n",
    "    }\n",
    "\n",
    "    public String getAvatar() {\n",
    "        return avatar;\n",
    "    }\n",
    "\n",
    "    public void setAvatar(String avatar) {\n",
    "        this.avatar = avatar;\n",
    "    }\n",
    "\n",
    "    public String getGender() {\n",
    "        return gender;\n",
    "    }\n",
    "\n",
    "    public void setGender(String gender) {\n",
    "        this.gender = gender;\n",
    "    }\n",
    "\n",
    "    public String getPhone_number() {\n",
    "        return phone_number;\n",
    "    }\n",
    "\n",
    "    public void setPhone_number(String phone_number) {\n",
    "        this.phone_number = phone_number;\n",
    "    }\n",
    "\n",
    "    public String getSocial_insurance_number() {\n",
    "        return social_insurance_number;\n",
    "    }\n",
    "\n",
    "    public void setSocial_insurance_number(String social_insurance_number) {\n",
    "        this.social_insurance_number = social_insurance_number;\n",
    "    }\n",
    "\n",
    "    public String getDate_of_birth() {\n",
    "        return date_of_birth;\n",
    "    }\n",
    "\n",
    "    public void setDate_of_birth(String date_of_birth) {\n",
    "        this.date_of_birth = date_of_birth;\n",
    "    }\n",
    "\n",
    "    public Employment getEmployment() {\n",
    "        return employment;\n",
    "    }\n",
    "\n",
    "    public void setEmployment(Employment employment) {\n",
    "        this.employment = employment;\n",
    "    }\n",
    "\n",
    "    public Address getAddress() {\n",
    "        return address;\n",
    "    }\n",
    "\n",
    "    public void setAddress(Address address) {\n",
    "        this.address = address;\n",
    "    }\n",
    "\n",
    "    public CreditCard getCredit_card() {\n",
    "        return credit_card;\n",
    "    }\n",
    "\n",
    "    public void setCredit_card(CreditCard credit_card) {\n",
    "        this.credit_card = credit_card;\n",
    "    }\n",
    "\n",
    "    public Subscription getSubscription() {\n",
    "        return subscription;\n",
    "    }\n",
    "\n",
    "    public void setSubscription(Subscription subscription) {\n",
    "        this.subscription = subscription;\n",
    "    }\n",
    "}\n",
    "\n",
    "public class Address {\n",
    "    private String city;\n",
    "    private String street_name;\n",
    "    private String street_address;\n",
    "    private String zip_code;\n",
    "    private String state;\n",
    "    private String country;\n",
    "\n",
    "    public Address(String city,\n",
    "                   String street_name,\n",
    "                   String street_address,\n",
    "                   String zip_code,\n",
    "                   String state,\n",
    "                   String country) {\n",
    "        this.city = city;\n",
    "        this.street_name = street_name;\n",
    "        this.street_address = street_address;\n",
    "        this.zip_code = zip_code;\n",
    "        this.state = state;\n",
    "        this.country = country;\n",
    "    }\n",
    "\n",
    "    public String getCity() {\n",
    "        return city;\n",
    "    }\n",
    "\n",
    "    public void setCity(String city) {\n",
    "        this.city = city;\n",
    "    }\n",
    "\n",
    "    public String getStreet_name() {\n",
    "        return street_name;\n",
    "    }\n",
    "\n",
    "    public void setStreet_name(String street_name) {\n",
    "        this.street_name = street_name;\n",
    "    }\n",
    "\n",
    "    public String getStreet_address() {\n",
    "        return street_address;\n",
    "    }\n",
    "\n",
    "    public void setStreet_address(String street_address) {\n",
    "        this.street_address = street_address;\n",
    "    }\n",
    "\n",
    "    public String getZip_code() {\n",
    "        return zip_code;\n",
    "    }\n",
    "\n",
    "    public void setZip_code(String zip_code) {\n",
    "        this.zip_code = zip_code;\n",
    "    }\n",
    "\n",
    "    public String getState() {\n",
    "        return state;\n",
    "    }\n",
    "\n",
    "    public void setState(String state) {\n",
    "        this.state = state;\n",
    "    }\n",
    "\n",
    "    public String getCountry() {\n",
    "        return country;\n",
    "    }\n",
    "\n",
    "    public void setCountry(String country) {\n",
    "        this.country = country;\n",
    "    }\n",
    "}\n",
    "\n",
    "public class CreditCard {\n",
    "    private String cc_number;\n",
    "\n",
    "    public CreditCard(String cc_number) {\n",
    "        this.cc_number = cc_number;\n",
    "    }\n",
    "\n",
    "    public String getCc_number() {\n",
    "        return cc_number;\n",
    "    }\n",
    "\n",
    "    public void setCc_number(String cc_number) {\n",
    "        this.cc_number = cc_number;\n",
    "    }\n",
    "}\n",
    "\n",
    "public class Employment {\n",
    "    private String title;\n",
    "    private String key_skill;\n",
    "\n",
    "    public Employment(String title) {\n",
    "        this.title = title;\n",
    "    }\n",
    "\n",
    "    public String getTitle() {\n",
    "        return title;\n",
    "    }\n",
    "\n",
    "    public void setTitle(String title) {\n",
    "        this.title = title;\n",
    "    }\n",
    "}\n",
    "\n",
    "\n",
    "public class Subscription {\n",
    "    private String plan;\n",
    "    private String status;\n",
    "    private String payment_method;\n",
    "    private String term;\n",
    "\n",
    "    public Subscription(String plan, String status, String payment_method, String term) {\n",
    "        this.plan = plan;\n",
    "        this.status = status;\n",
    "        this.payment_method = payment_method;\n",
    "        this.term = term;\n",
    "    }\n",
    "\n",
    "    public String getPlan() {\n",
    "        return plan;\n",
    "    }\n",
    "\n",
    "    public void setPlan(String plan) {\n",
    "        this.plan = plan;\n",
    "    }\n",
    "\n",
    "    public String getStatus() {\n",
    "        return status;\n",
    "    }\n",
    "\n",
    "    public void setStatus(String status) {\n",
    "        this.status = status;\n",
    "    }\n",
    "\n",
    "    public String getPayment_method() {\n",
    "        return payment_method;\n",
    "    }\n",
    "\n",
    "    public void setPayment_method(String payment_method) {\n",
    "        this.payment_method = payment_method;\n",
    "    }\n",
    "\n",
    "    public String getTerm() {\n",
    "        return term;\n",
    "    }\n",
    "\n",
    "    public void setTerm(String term) {\n",
    "        this.term = term;\n",
    "    }\n",
    "}\n"
   ]
  },
  {
   "cell_type": "markdown",
   "id": "f5f319a1-55af-4cf5-9720-ea95b9549dc7",
   "metadata": {},
   "source": [
    "Posiadając model danych, możemy przygotować layout elementu `RecyclerView` oraz głównej aktywności."
   ]
  },
  {
   "cell_type": "code",
   "execution_count": null,
   "id": "daf3ad07-f9e3-4c84-937e-1807f5af8305",
   "metadata": {},
   "outputs": [],
   "source": [
    "<?xml version=\"1.0\" encoding=\"utf-8\"?>\n",
    "<androidx.constraintlayout.widget.ConstraintLayout \n",
    "xmlns:android=\"http://schemas.android.com/apk/res/android\"\n",
    "    xmlns:app=\"http://schemas.android.com/apk/res-auto\"\n",
    "    xmlns:tools=\"http://schemas.android.com/tools\"\n",
    "    android:layout_width=\"match_parent\"\n",
    "    android:layout_height=\"match_parent\"\n",
    "    tools:context=\".ui.MainActivity\">\n",
    "\n",
    "    <androidx.recyclerview.widget.RecyclerView\n",
    "        android:id=\"@+id/recyclerView\"\n",
    "        android:layout_margin=\"8dp\"\n",
    "        android:layout_width=\"match_parent\"\n",
    "        android:layout_height=\"match_parent\"\n",
    "        app:layout_constraintBottom_toBottomOf=\"parent\"\n",
    "        app:layout_constraintEnd_toEndOf=\"parent\"\n",
    "        app:layout_constraintStart_toStartOf=\"parent\"\n",
    "        app:layout_constraintTop_toTopOf=\"parent\" />\n",
    "\n",
    "    <ProgressBar\n",
    "        android:id=\"@+id/progressBar\"\n",
    "        android:layout_width=\"wrap_content\"\n",
    "        android:layout_height=\"wrap_content\"\n",
    "        android:layout_gravity=\"center\"\n",
    "        android:layout_marginTop=\"36dp\"\n",
    "        android:background=\"@android:color/transparent\"\n",
    "        android:visibility=\"invisible\"\n",
    "        app:layout_constraintEnd_toEndOf=\"parent\"\n",
    "        app:layout_constraintStart_toStartOf=\"parent\"\n",
    "        app:layout_constraintTop_toTopOf=\"parent\" />\n",
    "\n",
    "</androidx.constraintlayout.widget.ConstraintLayout>"
   ]
  },
  {
   "cell_type": "code",
   "execution_count": null,
   "id": "e70ab83a-a8df-45d5-b18f-5e16f2b19b7a",
   "metadata": {},
   "outputs": [],
   "source": [
    "<?xml version=\"1.0\" encoding=\"utf-8\"?>\n",
    "<LinearLayout xmlns:android=\"http://schemas.android.com/apk/res/android\"\n",
    "    xmlns:app=\"http://schemas.android.com/apk/res-auto\"\n",
    "    xmlns:tools=\"http://schemas.android.com/tools\"\n",
    "    android:layout_width=\"match_parent\"\n",
    "    android:layout_height=\"wrap_content\"\n",
    "    android:layout_margin=\"8dp\"\n",
    "    android:orientation=\"vertical\">\n",
    "\n",
    "    <LinearLayout\n",
    "        android:layout_width=\"match_parent\"\n",
    "        android:layout_height=\"wrap_content\"\n",
    "        android:orientation=\"horizontal\">\n",
    "\n",
    "        <TextView\n",
    "            android:id=\"@+id/firstName\"\n",
    "            android:layout_width=\"0dp\"\n",
    "            android:layout_height=\"wrap_content\"\n",
    "            android:layout_weight=\"1\"\n",
    "            android:text=\"TextView\"\n",
    "            android:textSize=\"24sp\"\n",
    "            app:layout_constraintStart_toStartOf=\"parent\"\n",
    "            tools:layout_editor_absoluteY=\"22dp\" />\n",
    "\n",
    "        <TextView\n",
    "            android:id=\"@+id/lastName\"\n",
    "            android:layout_width=\"0dp\"\n",
    "            android:layout_height=\"wrap_content\"\n",
    "            android:layout_weight=\"1\"\n",
    "            android:text=\"TextView\"\n",
    "            android:textSize=\"24sp\"\n",
    "            app:layout_constraintEnd_toEndOf=\"parent\"\n",
    "            tools:layout_editor_absoluteY=\"20dp\" />\n",
    "    </LinearLayout>\n",
    "\n",
    "    <LinearLayout\n",
    "        android:layout_width=\"match_parent\"\n",
    "        android:layout_height=\"wrap_content\"\n",
    "        android:orientation=\"horizontal\">\n",
    "\n",
    "        <LinearLayout\n",
    "            android:layout_width=\"0dp\"\n",
    "            android:layout_weight=\"1\"\n",
    "            android:layout_height=\"wrap_content\"\n",
    "            android:orientation=\"vertical\">\n",
    "\n",
    "            <TextView\n",
    "                android:id=\"@+id/username\"\n",
    "                android:layout_width=\"wrap_content\"\n",
    "                android:layout_height=\"wrap_content\"\n",
    "                android:text=\"TextView\" />\n",
    "\n",
    "            <TextView\n",
    "                android:id=\"@+id/password\"\n",
    "                android:layout_width=\"wrap_content\"\n",
    "                android:layout_height=\"wrap_content\"\n",
    "                android:text=\"TextView\" />\n",
    "\n",
    "            <TextView\n",
    "                android:id=\"@+id/email\"\n",
    "                android:layout_width=\"wrap_content\"\n",
    "                android:layout_height=\"wrap_content\"\n",
    "                android:text=\"TextView\" />\n",
    "\n",
    "            <TextView\n",
    "                android:id=\"@+id/gender\"\n",
    "                android:layout_width=\"wrap_content\"\n",
    "                android:layout_height=\"wrap_content\"\n",
    "                android:text=\"TextView\" />\n",
    "\n",
    "            <TextView\n",
    "                android:id=\"@+id/phone\"\n",
    "                android:layout_width=\"wrap_content\"\n",
    "                android:layout_height=\"wrap_content\"\n",
    "                android:text=\"TextView\" />\n",
    "\n",
    "            <TextView\n",
    "                android:id=\"@+id/dateOfBirth\"\n",
    "                android:layout_width=\"wrap_content\"\n",
    "                android:layout_height=\"wrap_content\"\n",
    "                android:text=\"TextView\" />\n",
    "\n",
    "            <TextView\n",
    "                android:id=\"@+id/employment\"\n",
    "                android:layout_width=\"wrap_content\"\n",
    "                android:layout_height=\"wrap_content\"\n",
    "                android:text=\"TextView\" />\n",
    "\n",
    "\n",
    "        </LinearLayout>\n",
    "\n",
    "        <ImageView\n",
    "            android:id=\"@+id/image\"\n",
    "            android:layout_width=\"0dp\"\n",
    "            android:layout_weight=\"1\"\n",
    "            android:src=\"@drawable/ic_android_black_24dp\"\n",
    "            android:layout_height=\"wrap_content\"\n",
    "            android:contentDescription=\"user image\" />\n",
    "    </LinearLayout>\n",
    "\n",
    "    <LinearLayout\n",
    "        android:layout_width=\"match_parent\"\n",
    "        android:layout_height=\"wrap_content\"\n",
    "        android:layout_marginTop=\"8dp\"\n",
    "        android:orientation=\"horizontal\">\n",
    "\n",
    "        <TextView\n",
    "            android:id=\"@+id/country\"\n",
    "            android:layout_width=\"0dp\"\n",
    "            android:layout_weight=\"1\"\n",
    "            android:layout_height=\"wrap_content\"\n",
    "            android:text=\"TextView\" />\n",
    "\n",
    "        <TextView\n",
    "            android:id=\"@+id/city\"\n",
    "            android:layout_width=\"0dp\"\n",
    "            android:layout_weight=\"1\"\n",
    "            android:layout_height=\"wrap_content\"\n",
    "            android:text=\"TextView\" />\n",
    "\n",
    "        <TextView\n",
    "            android:id=\"@+id/state\"\n",
    "            android:layout_width=\"0dp\"\n",
    "            android:layout_weight=\"1\"\n",
    "            android:layout_height=\"wrap_content\"\n",
    "            android:text=\"TextView\" />\n",
    "    </LinearLayout>\n",
    "\n",
    "    <LinearLayout\n",
    "        android:layout_width=\"match_parent\"\n",
    "        android:layout_height=\"wrap_content\"\n",
    "        android:layout_marginTop=\"8dp\"\n",
    "        android:orientation=\"horizontal\">\n",
    "\n",
    "        <TextView\n",
    "            android:id=\"@+id/street_name\"\n",
    "            android:layout_width=\"0dp\"\n",
    "            android:layout_weight=\"1\"\n",
    "            android:layout_height=\"wrap_content\"\n",
    "            android:text=\"TextView\" />\n",
    "\n",
    "        <TextView\n",
    "            android:id=\"@+id/street_address\"\n",
    "            android:layout_width=\"0dp\"\n",
    "            android:layout_weight=\"1\"\n",
    "            android:layout_height=\"wrap_content\"\n",
    "            android:text=\"TextView\" />\n",
    "\n",
    "        <TextView\n",
    "            android:id=\"@+id/zip_code\"\n",
    "            android:layout_width=\"0dp\"\n",
    "            android:layout_weight=\"1\"\n",
    "            android:layout_height=\"wrap_content\"\n",
    "            android:text=\"TextView\" />\n",
    "    </LinearLayout>\n",
    "\n",
    "    <TextView\n",
    "        android:id=\"@+id/creditCardNumber\"\n",
    "        android:layout_width=\"wrap_content\"\n",
    "        android:layout_height=\"wrap_content\"\n",
    "        android:text=\"TextView\" />\n",
    "\n",
    "    <LinearLayout\n",
    "        android:layout_width=\"match_parent\"\n",
    "        android:layout_height=\"wrap_content\"\n",
    "        android:layout_marginTop=\"8dp\"\n",
    "        android:orientation=\"horizontal\">\n",
    "\n",
    "        <TextView\n",
    "            android:id=\"@+id/plan\"\n",
    "            android:layout_width=\"0dp\"\n",
    "            android:layout_weight=\"1\"\n",
    "            android:layout_height=\"wrap_content\"\n",
    "            android:text=\"TextView\" />\n",
    "\n",
    "        <TextView\n",
    "            android:id=\"@+id/status\"\n",
    "            android:layout_width=\"0dp\"\n",
    "            android:layout_weight=\"1\"\n",
    "            android:layout_height=\"wrap_content\"\n",
    "            android:text=\"TextView\" />\n",
    "\n",
    "        <TextView\n",
    "            android:id=\"@+id/payment_method\"\n",
    "            android:layout_width=\"0dp\"\n",
    "            android:layout_weight=\"1\"\n",
    "            android:layout_height=\"wrap_content\"\n",
    "            android:text=\"TextView\" />\n",
    "\n",
    "        <TextView\n",
    "            android:id=\"@+id/term\"\n",
    "            android:layout_width=\"0dp\"\n",
    "            android:layout_weight=\"1\"\n",
    "            android:layout_height=\"wrap_content\"\n",
    "            android:text=\"TextView\" />\n",
    "    </LinearLayout>\n",
    "</LinearLayout>"
   ]
  },
  {
   "cell_type": "markdown",
   "id": "f5630527-cb9b-4eb6-a1ee-e5581dbd6a67",
   "metadata": {},
   "source": [
    "Dodajmy interfejs `RandomApi` z jedną metodą, która zwraca listę 20 użytkowników"
   ]
  },
  {
   "cell_type": "code",
   "execution_count": null,
   "id": "70333cd8-c224-4b6a-8b31-81c0f08da5f1",
   "metadata": {},
   "outputs": [],
   "source": [
    "public interface RandomApi {\n",
    "    @GET(\"users?size=20\")\n",
    "    Call<List<User>> users();\n",
    "}"
   ]
  },
  {
   "cell_type": "markdown",
   "id": "19671a77-c8ef-43ef-99a6-910eef15ec8e",
   "metadata": {},
   "source": [
    "Dodajmy `AppModule` z metodą dostarczającą instancję obiektu o typie `RandomApi`."
   ]
  },
  {
   "cell_type": "code",
   "execution_count": null,
   "id": "0fc77f9b-7284-401b-81ff-9011eb36107f",
   "metadata": {},
   "outputs": [],
   "source": [
    "@Module\n",
    "@InstallIn(SingletonComponent.class)\n",
    "public class AppModule {\n",
    "\n",
    "    @Provides\n",
    "    @Singleton\n",
    "    RandomApi provideRandomApi(){\n",
    "        HttpLoggingInterceptor interceptor = new HttpLoggingInterceptor();\n",
    "        interceptor.setLevel(HttpLoggingInterceptor.Level.BODY);\n",
    "        OkHttpClient client = new OkHttpClient.Builder()\n",
    "                .addInterceptor(interceptor)\n",
    "                .build();\n",
    "        return new Retrofit.Builder()\n",
    "                .baseUrl(\"https://random-data-api.com/api/v2/\")\n",
    "                .addConverterFactory(GsonConverterFactory.create())\n",
    "                .client(client)\n",
    "                .build().create(RandomApi.class);\n",
    "    }\n",
    "}"
   ]
  },
  {
   "cell_type": "markdown",
   "id": "99b9ed43-757c-411d-9823-af934bdae37b",
   "metadata": {},
   "source": [
    "Przejdźmy do utworzenia lokalnej bazy danych - tutaj od razu napotykamy problem. Bazy danych mogą przyjmować tylko określone typy, nie mogą przechowywać obiektów niestandardowych. Klasa `User` posiada obiekty o typach `Address`, `CreditCard`, `Employment` i `Subsciption`. Aby zapisać instancje tych obiektów w bazie `ROOM`, musimy je przekonwertować do typu standardowego - tutaj wyborem jest `String`.\n",
    "\n",
    "Zaimplementujemy kilka klas - dla każdego typu - opisujących sposób konwersji. Rozpocznijmy od `AddressConverter`."
   ]
  },
  {
   "cell_type": "code",
   "execution_count": null,
   "id": "84bc3c27-3d22-4ee0-a535-c4a1cb33966a",
   "metadata": {},
   "outputs": [],
   "source": [
    "public class AddressConverter {"
   ]
  },
  {
   "cell_type": "markdown",
   "id": "c239df5c-6367-4915-8a40-64d169da1357",
   "metadata": {},
   "source": [
    "Klasa będzie posiadała dwie metody - dla konwersji `Address` -> `String`, oraz dla konwersji `String` -> `Address`.\n",
    "\n",
    "Samą konwersję można przeprowadzić na szereg różnych sposobów - tutaj wykorzystamy format `JSON`"
   ]
  },
  {
   "cell_type": "code",
   "execution_count": null,
   "id": "c67e39b6-fc44-4dcb-8c16-79c5532c1250",
   "metadata": {},
   "outputs": [],
   "source": [
    "@TypeConverter\n",
    "public static String fromAddress(Address address){\n",
    "    Gson gson = new Gson();\n",
    "    return gson.toJson(address);\n",
    "}"
   ]
  },
  {
   "cell_type": "markdown",
   "id": "6f784715-730f-45fc-8135-4da0bad6b232",
   "metadata": {},
   "source": [
    "Stosujemy adnotacje\n",
    "- `@TypeConverter` - adnotacja oznacza metody wykorzystywane do konwersji - samą konwersję `ROOM` przeprowadza automatycznie"
   ]
  },
  {
   "cell_type": "markdown",
   "id": "9a4c531b-3ea1-40a9-8ea6-651c676b6ce6",
   "metadata": {},
   "source": [
    "Potrzebujemy jeszcze drugą metodę konwersji."
   ]
  },
  {
   "cell_type": "code",
   "execution_count": null,
   "id": "56e9a899-1c65-417c-91d2-a79b77ec7da3",
   "metadata": {},
   "outputs": [],
   "source": [
    "@TypeConverter\n",
    "public static Address toAddress(String address){\n",
    "    Gson gson = new Gson();\n",
    "    return gson.fromJson(address, Address.class);\n",
    "}"
   ]
  },
  {
   "cell_type": "markdown",
   "id": "4ae6bb2e-6274-4105-b1fe-7151c3dc08af",
   "metadata": {},
   "source": [
    "Dodajmy pozostałe klasy konwerterów."
   ]
  },
  {
   "cell_type": "code",
   "execution_count": null,
   "id": "3f5eacd0-7999-4713-93c7-127c096eee25",
   "metadata": {},
   "outputs": [],
   "source": [
    "public class CreditCardConverter {\n",
    "\n",
    "    @TypeConverter\n",
    "    public static String fromCreditCard(CreditCard creditCard){\n",
    "        return creditCard.getCc_number();\n",
    "    }\n",
    "\n",
    "    @TypeConverter\n",
    "    public static CreditCard toCreditCard(String creditCard){\n",
    "        return new CreditCard(creditCard);\n",
    "    }\n",
    "}\n",
    "\n",
    "public class EmploymentConverter {\n",
    "    @TypeConverter\n",
    "    public static String fromEmployment(Employment employment){\n",
    "        return employment.getTitle();\n",
    "    }\n",
    "\n",
    "    @TypeConverter\n",
    "    public static Employment toEmployment(String employment){\n",
    "        return new Employment(employment);\n",
    "    }\n",
    "}\n",
    "\n",
    "public class SubscriptionConverter {\n",
    "    @TypeConverter\n",
    "    public static String fromSubscription(Subscription subscription){\n",
    "        Gson gson = new Gson();\n",
    "        return gson.toJson(subscription);\n",
    "    }\n",
    "\n",
    "    @TypeConverter\n",
    "    public  static Subscription toSubscription(String subscription){\n",
    "        Gson gson = new Gson();\n",
    "        return gson.fromJson(subscription, Subscription.class);\n",
    "    }\n",
    "}"
   ]
  },
  {
   "cell_type": "markdown",
   "id": "1c8e9b85-973e-415b-9a71-30021e2e3997",
   "metadata": {},
   "source": [
    "Przejdźmy do implementacji samej bazy, oznaczmy klasę `User` jako `@Entity` oraz `id` jako `@PrimaryKey`."
   ]
  },
  {
   "cell_type": "code",
   "execution_count": null,
   "id": "fdbd307f-e50c-4764-89dd-f7289a5f8380",
   "metadata": {},
   "outputs": [],
   "source": [
    "@Entity(tableName = \"users\")\n",
    "public class User {\n",
    "    @PrimaryKey\n",
    "    private int id;\n",
    "    ...\n",
    "}"
   ]
  },
  {
   "cell_type": "markdown",
   "id": "e01be244-bac9-4536-aac2-637d57c90a1c",
   "metadata": {},
   "source": [
    "Zdefiniujmy `Dao` z trzema metodami"
   ]
  },
  {
   "cell_type": "code",
   "execution_count": null,
   "id": "b7fd54d2-aff3-4540-9d9f-4c8bf6194efc",
   "metadata": {},
   "outputs": [],
   "source": [
    "@Dao\n",
    "public interface UserDao {\n",
    "    @Insert(onConflict = REPLACE)\n",
    "    void insert(List<User> users);\n",
    "\n",
    "    @Query(\"DELETE FROM users\")\n",
    "    void clear();\n",
    "\n",
    "    @Query(\"SELECT * FROM users\")\n",
    "    LiveData<List<User>> getUsers();\n",
    "}"
   ]
  },
  {
   "cell_type": "markdown",
   "id": "ca7bd8ae-66b7-4d50-9928-68d64a6d872e",
   "metadata": {},
   "source": [
    "Ponieważ chcemy zastępować całą listę w bazie, potrzebujemy dwóch metod\n",
    "- `clear` - czyści bazę\n",
    "- `instert` - dodaje nową listę\n",
    "\n",
    "Mamy również metodę zwracającą całą listę jako `LiveData`."
   ]
  },
  {
   "cell_type": "markdown",
   "id": "c9d27a48-743a-4b43-b396-513abc86fa40",
   "metadata": {},
   "source": [
    "Dodajmy klasę abstrakcyjną `UserDatabase`, wykorzystamy adnotację `TypeConverters` do zakomunikowania `ROOM` że wymagane jest wykorzystanie konwerterów, oraz podamy jawnie wszystkie obiekty konwerterów."
   ]
  },
  {
   "cell_type": "code",
   "execution_count": null,
   "id": "2b75186d-4585-4a89-ae25-5a114df3143a",
   "metadata": {},
   "outputs": [],
   "source": [
    "@Database(entities = {User.class}, version = 1, exportSchema = false)\n",
    "@TypeConverters({\n",
    "    AddressConverter.class, \n",
    "    CreditCardConverter.class, \n",
    "    EmploymentConverter.class, \n",
    "    SubscriptionConverter.class\n",
    "})\n",
    "public abstract class UserDatabase extends RoomDatabase {\n",
    "\n",
    "    public abstract UserDao userDao();\n",
    "\n",
    "    private static final int NUMBER_OF_THREADS = 4;\n",
    "    public static final ExecutorService databaseWriteExecutor =\n",
    "            Executors.newFixedThreadPool(NUMBER_OF_THREADS);\n",
    "}"
   ]
  },
  {
   "cell_type": "markdown",
   "id": "fe747009-51dc-44d3-9c15-98d85f840897",
   "metadata": {},
   "source": [
    "Do  klasy `AppModule` dodajmy metodę dostarczającą bazę danych"
   ]
  },
  {
   "cell_type": "code",
   "execution_count": null,
   "id": "235e12a1-0637-4006-8cbc-8a76bc015e04",
   "metadata": {},
   "outputs": [],
   "source": [
    "    @Provides\n",
    "    @Singleton\n",
    "    UserDatabase provideUserDatabase(Application app){\n",
    "        return Room\n",
    "            .databaseBuilder(\n",
    "                app, \n",
    "                UserDatabase.class, \n",
    "                \"user_database_java4\")\n",
    "            .build();\n",
    "    }"
   ]
  },
  {
   "cell_type": "markdown",
   "id": "0cefcdf1-68ed-4c9e-b8b2-4cba4bb28732",
   "metadata": {},
   "source": [
    "Podczasc pobierania danych mogą wystąpić trzy statusy - sukces, error, loading - dla pomyślnego zakończenia pobierania danych, błędu i czasu łączenia i pobierania."
   ]
  },
  {
   "cell_type": "code",
   "execution_count": null,
   "id": "cc3f7616-25b5-4107-8044-aa41cceedf40",
   "metadata": {},
   "outputs": [],
   "source": [
    "public enum Status {\n",
    "    SUCCESS,\n",
    "    ERROR,\n",
    "    LOADING\n",
    "}"
   ]
  },
  {
   "cell_type": "markdown",
   "id": "d9df0713-8a73-42ce-be3f-d6ce9fc7508d",
   "metadata": {},
   "source": [
    "Dodajmy klasę `Resources`, która pozwoli nam wyemitować odpowiedni stan."
   ]
  },
  {
   "cell_type": "code",
   "execution_count": null,
   "id": "33d27087-366c-4551-a52a-7c4d5bec03d6",
   "metadata": {},
   "outputs": [],
   "source": [
    "public class Resource<T> {}"
   ]
  },
  {
   "cell_type": "markdown",
   "id": "f8faba86-dd17-4b0f-933b-25d3d34d62e9",
   "metadata": {},
   "source": [
    "Klasa posiada trzy pola przechowujące status, dane oraz komunikat (otrzymywany w przypadku błędu)"
   ]
  },
  {
   "cell_type": "code",
   "execution_count": null,
   "id": "739bab79-a502-4f63-9dda-c2cdb69d3f9b",
   "metadata": {},
   "outputs": [],
   "source": [
    "@NonNull\n",
    "public final Status status;\n",
    "@Nullable\n",
    "public final T data;\n",
    "@Nullable public final String message;"
   ]
  },
  {
   "cell_type": "markdown",
   "id": "b6747798-4609-4e77-ad9f-69b27325ee6f",
   "metadata": {},
   "source": [
    "Klasa posiada konstruktor prywatny"
   ]
  },
  {
   "cell_type": "code",
   "execution_count": null,
   "id": "03dec03f-fb96-4fc4-9908-b392f9929d67",
   "metadata": {},
   "outputs": [],
   "source": [
    "private Resource(@NonNull Status status, @Nullable T data, @Nullable String message) {\n",
    "    this.status = status;\n",
    "    this.data = data;\n",
    "    this.message = message;\n",
    "}"
   ]
  },
  {
   "cell_type": "markdown",
   "id": "b26e5b31-65f5-4648-bb87-0783c98a9915",
   "metadata": {},
   "source": [
    "Ostatnią częścią, są trzy metody tworzące odpowiednia skonfigurowany obiekt `Resource`"
   ]
  },
  {
   "cell_type": "code",
   "execution_count": null,
   "id": "d369d1a9-f319-41e8-a752-8c407251c31c",
   "metadata": {},
   "outputs": [],
   "source": [
    "public static <T> Resource<T> success(@NonNull T data) {\n",
    "    return new Resource<>(SUCCESS, data, null);\n",
    "}\n",
    "\n",
    "public static <T> Resource<T> error(String msg, @Nullable T data) {\n",
    "    return new Resource<>(ERROR, data, msg);\n",
    "}\n",
    "\n",
    "public static <T> Resource<T> loading(@Nullable T data) {\n",
    "    return new Resource<>(LOADING, data, null);\n",
    "}"
   ]
  },
  {
   "cell_type": "markdown",
   "id": "2a23f97a-ad2d-43a1-b4bf-6558e391b1d3",
   "metadata": {},
   "source": [
    "Zdefiniujmy klasę abstrakcyjną `NetworkBoundResource`, bedzie ona odpowiedzialna za logikę dostępu do danych - kiedy i w jakich warunkach dostajemy dane z serwera lub bazy lokalnej."
   ]
  },
  {
   "cell_type": "code",
   "execution_count": null,
   "id": "fd52e498-7368-4b53-a210-1bef1a395bda",
   "metadata": {},
   "outputs": [],
   "source": [
    "public abstract class NetworkBoundResource<ResultType, RequestType> {"
   ]
  },
  {
   "cell_type": "markdown",
   "id": "1f987153-01d2-493d-a654-f8b9c9666a25",
   "metadata": {},
   "source": [
    "Klasa posiada dwa generyczne argumenty `ResultType` i `RequestType` -  dwa, ponieważ typ danych otrzymanych z api może się różnić od typu otrzymanego z lokalnej bazy - w tej aplikacji typ jest taki sam.\n",
    "\n",
    "Dodajmy jedno pole typ `MediatorLiveData` - klasa ta umożliwia obserwację kilku obiektów `LiveData` i reagować na zmiany.\n",
    "\n",
    "```java\n",
    "   LiveData  liveData1 = ...;\n",
    "   LiveData  liveData2 = ...;\n",
    "  \n",
    "   MediatorLiveData  liveDataMerger = new MediatorLiveData<>();\n",
    "   liveDataMerger.addSource(liveData1, value -> liveDataMerger.setValue(value));\n",
    "   liveDataMerger.addSource(liveData2, value -> liveDataMerger.setValue(value));\n",
    "```"
   ]
  },
  {
   "cell_type": "code",
   "execution_count": null,
   "id": "eaab72f0-db0e-4895-9ae6-ca2964853f90",
   "metadata": {},
   "outputs": [],
   "source": [
    "private final MediatorLiveData<Resource<ResultType>> result = new MediatorLiveData<>();"
   ]
  },
  {
   "cell_type": "markdown",
   "id": "0b1a583b-194c-486e-a247-45450bd2fe89",
   "metadata": {},
   "source": [
    "Ponieważ tworzymy klasę abstrakcyjną, w repozytorium utworzymy **klasę anonimową** o typie `NetworkBoundResource` i tam dostarczymy implementacje niektórych z poniższych metod.\n",
    "Zdefiniujmy metodę abstrakcyjną zwracającą `LiveData` z bazy lokalnej."
   ]
  },
  {
   "cell_type": "code",
   "execution_count": null,
   "id": "33709657-5082-40f0-a550-43d4cadc9c00",
   "metadata": {},
   "outputs": [],
   "source": [
    "@NonNull\n",
    "protected abstract LiveData<ResultType> loadFromDb();"
   ]
  },
  {
   "cell_type": "markdown",
   "id": "f5edbc16-e5ac-4566-9388-919e54a6f92c",
   "metadata": {},
   "source": [
    "Zdefiniujmy również metodę tworzącą obiekt `Call`"
   ]
  },
  {
   "cell_type": "code",
   "execution_count": null,
   "id": "cdbc7327-718b-474e-aba6-c9cf92b71f52",
   "metadata": {},
   "outputs": [],
   "source": [
    "@NonNull\n",
    "protected abstract Call<RequestType> createCall();"
   ]
  },
  {
   "cell_type": "markdown",
   "id": "5dba711b-c67a-4887-a661-5110035da5be",
   "metadata": {},
   "source": [
    "Kolejna metoda służy do zapisania obiektu `Call` w lokalnej bazie"
   ]
  },
  {
   "cell_type": "code",
   "execution_count": null,
   "id": "245d69ac-1ae6-4655-be99-969f8d07a37d",
   "metadata": {},
   "outputs": [],
   "source": [
    "protected abstract void saveCallResult(@NonNull RequestType item);"
   ]
  },
  {
   "cell_type": "markdown",
   "id": "ea412199-7039-419f-b567-f1e6a611a324",
   "metadata": {},
   "source": [
    "Metoda `shouldFetch` dostarcza informacji o tym czy chcemy aktualizować dane z serwera - domyślnie zwraca `true`"
   ]
  },
  {
   "cell_type": "code",
   "execution_count": null,
   "id": "989fdc8f-3e5b-4d21-a3e3-30e9149a2178",
   "metadata": {},
   "outputs": [],
   "source": [
    "protected boolean shouldFetch(@Nullable ResultType data) {\n",
    "    return true;\n",
    "}"
   ]
  },
  {
   "cell_type": "markdown",
   "id": "e48325ad-fa2b-4a90-898d-e6423570e715",
   "metadata": {},
   "source": [
    "Zdefiniujmy również metodę odpowiedzielną za niepowodzenie pobrania danych z serwera."
   ]
  },
  {
   "cell_type": "code",
   "execution_count": null,
   "id": "0a12ed2a-5f33-4bcc-b3a7-61c1005f8822",
   "metadata": {},
   "outputs": [],
   "source": [
    "protected void onFetchFailed() {}"
   ]
  },
  {
   "cell_type": "markdown",
   "id": "e6167907-cbf4-45f3-a547-a845c9a3382a",
   "metadata": {},
   "source": [
    "Dodajmy metodę zwracającą `LiveData` na podstawie obiektu `MediatorLiveData`"
   ]
  },
  {
   "cell_type": "code",
   "execution_count": null,
   "id": "31d67f2c-859e-4578-8f9c-3fa1d7e2c876",
   "metadata": {},
   "outputs": [],
   "source": [
    "public final LiveData<Resource<ResultType>> getAsLiveData() {\n",
    "    return result;\n",
    "}"
   ]
  },
  {
   "cell_type": "markdown",
   "id": "3d8b8927-31cb-4081-a32f-5b6fa0d2bc49",
   "metadata": {},
   "source": [
    "Następnie, dodajmy metodę `saveResultAndReInit` zapisującą wynik do bazy lokalnej oraz dodającą nową wersję `LiveData` do `MediatorLiveData`"
   ]
  },
  {
   "cell_type": "code",
   "execution_count": null,
   "id": "a7492398-481b-44f2-bfad-cbb185ac813c",
   "metadata": {},
   "outputs": [],
   "source": [
    "private void saveResultAndReInit(RequestType response) {\n",
    "    UserDatabase.databaseWriteExecutor.execute(() -> saveCallResult(response));\n",
    "    result.addSource(loadFromDb(), newData -> result.setValue(Resource.success(newData)));\n",
    "}"
   ]
  },
  {
   "cell_type": "markdown",
   "id": "8e99489e-5b76-43a4-946c-7829ca939c4d",
   "metadata": {},
   "source": [
    "W pierwszym kroku wykonujemy asynchronicznie metodę `saveCallResult` - zapisujemy w bazie wynik żądania z serwera. Następnie dodajemy nowe źródło do `MediatorLiveData` - wywołujemy metodę `loadFromDb` zwracającą `LiveData`, następnie ten obiekt (odnosimy się do niego jako `newData`) przekazujemy do `MediatorLiveData` wykonując metodę `setValue` - jest on *opakowany* w `Resource`."
   ]
  },
  {
   "cell_type": "markdown",
   "id": "a70b5875-5426-44dc-bdda-08e7e77ed285",
   "metadata": {},
   "source": [
    "Ostatnią metodą jest `fetchFromNetwork` przyjmująca jeden argument typu `LiveData`."
   ]
  },
  {
   "cell_type": "code",
   "execution_count": null,
   "id": "5347e28e-0a2d-4187-8757-c8b2c5ca3ee6",
   "metadata": {},
   "outputs": [],
   "source": [
    "private void fetchFromNetwork(final LiveData<ResultType> dbSource) {"
   ]
  },
  {
   "cell_type": "markdown",
   "id": "445465b2-94cb-497c-b010-2a2264941115",
   "metadata": {},
   "source": [
    "Wpierw dodajemy to co otrzymujemy z bazy jako źródło do `MediatorLiveData`"
   ]
  },
  {
   "cell_type": "code",
   "execution_count": null,
   "id": "6243e351-c540-4fe0-b245-b32196ab7ced",
   "metadata": {},
   "outputs": [],
   "source": [
    "result.addSource(dbSource, newData -> result.setValue(Resource.loading(newData)));"
   ]
  },
  {
   "cell_type": "markdown",
   "id": "5e36236e-8f43-47ec-aa8b-0d15f9ed68c3",
   "metadata": {},
   "source": [
    "Następnie wywołujemy metodę `createCall` i wywołujemy metodę `enqueue`"
   ]
  },
  {
   "cell_type": "code",
   "execution_count": null,
   "id": "8a359b71-4287-4cc9-a194-f7d454274c56",
   "metadata": {},
   "outputs": [],
   "source": [
    "createCall().enqueue(new Callback<RequestType>() {"
   ]
  },
  {
   "cell_type": "markdown",
   "id": "5836c612-0d4b-4724-a401-1a3c76ad8e19",
   "metadata": {},
   "source": [
    "W metodzie `onResponse` usuwamy stare źródło danych z `MediatorLiveData` i wywołujemy metodę `saveResultAndReInit` - czyli zamieniamy źródło."
   ]
  },
  {
   "cell_type": "code",
   "execution_count": null,
   "id": "7a5679bc-12d6-45af-8ea0-0a2e3cfc0aed",
   "metadata": {},
   "outputs": [],
   "source": [
    "@Override\n",
    "public void onResponse(\n",
    "    @NonNull Call<RequestType> call, \n",
    "    @NonNull Response<RequestType> response) {\n",
    "    result.removeSource(dbSource);\n",
    "    saveResultAndReInit(response.body());\n",
    "}"
   ]
  },
  {
   "cell_type": "markdown",
   "id": "00b53ebb-fffe-45a5-8f4b-77dd030366a0",
   "metadata": {},
   "source": [
    "W metodzie `onFailure` wywołujemy metodę `onFetchFail`, usuwamy źródło i dodajemy je ponownie lecz *opakowane* w `Resource.error` - w przypadku niepowodzenia dalej posługujemy się wersją bazy dostępną lokalnie."
   ]
  },
  {
   "cell_type": "code",
   "execution_count": null,
   "id": "ba65beec-7cf2-40fa-acc8-f90255d0d88b",
   "metadata": {},
   "outputs": [],
   "source": [
    "@Override\n",
    "public void onFailure(\n",
    "    @NonNull Call<RequestType> call, \n",
    "    @NonNull Throwable t) {\n",
    "    onFetchFailed();\n",
    "    result.removeSource(dbSource);\n",
    "    result.addSource(dbSource, \n",
    "                     newData -> result.setValue(Resource.error(t.getMessage(), newData)));\n",
    "}"
   ]
  },
  {
   "cell_type": "markdown",
   "id": "cff6b791-e8c0-4394-b7f1-03a17a12e38c",
   "metadata": {},
   "source": [
    "Ostatnim elementem jest konstruktor"
   ]
  },
  {
   "cell_type": "code",
   "execution_count": null,
   "id": "9c88d939-40c3-4311-8d13-9e754b90fd0d",
   "metadata": {},
   "outputs": [],
   "source": [
    "protected NetworkBoundResource() {\n",
    "    result.setValue(Resource.loading(null));\n",
    "    LiveData<ResultType> dbSource = loadFromDb();\n",
    "    result.addSource(dbSource, data -> {\n",
    "        result.removeSource(dbSource);\n",
    "        if (shouldFetch(data)) {\n",
    "            fetchFromNetwork(dbSource);\n",
    "        } else {\n",
    "            result.addSource(dbSource, \n",
    "                             newData -> result.setValue(Resource.success(newData)));\n",
    "        }\n",
    "    });\n",
    "}"
   ]
  },
  {
   "cell_type": "markdown",
   "id": "ed46e2aa-4902-4a1d-a603-d1be85943b39",
   "metadata": {},
   "source": [
    "Gdy wywołujemy konstruktor w pierwszej kolejności emitujemy stan `Resource.loading`, następnie ładujemy dane z lokalnej bazy i dodajemy źródło. Tym razem sprawdzamy czy powinniśmy wykonać żądanie z serwera. Jeżeli tak, wykonujemyn metodę `fetchFromNetwork`m jeżeli nie - ponownie dodajemy źródło i emitujemy stan `Resource.success`"
   ]
  },
  {
   "cell_type": "markdown",
   "id": "e5e2ca2a-7326-42a8-acd5-0e7857b4964f",
   "metadata": {},
   "source": [
    "Dodajmy repozytorium, wykorzystamy wstrzyknięcie przez konstruktor `RandomApi` oraz `UserDatabase`"
   ]
  },
  {
   "cell_type": "code",
   "execution_count": null,
   "id": "e5e4fa53-061c-4667-96b5-b1bfa1a16b3a",
   "metadata": {},
   "outputs": [],
   "source": [
    "public class UserRepository {\n",
    "\n",
    "    private final UserDao dao;\n",
    "    private final RandomApi api;\n",
    "\n",
    "    @Inject\n",
    "    public UserRepository(UserDao dao, RandomApi api) {\n",
    "        this.dao = dao;\n",
    "        this.api = api;\n",
    "    }\n",
    "}"
   ]
  },
  {
   "cell_type": "markdown",
   "id": "936e003d-97c4-4586-95e1-bffce272aaf8",
   "metadata": {},
   "source": [
    "W repozytorium zdefiniujmey jedną funkcję `getUsers`, w której wywołamy poprzednio zaimplementowaną `networkBoundResource`"
   ]
  },
  {
   "cell_type": "code",
   "execution_count": null,
   "id": "ed4c5e93-fbd9-465f-b8dc-026c05a2db7a",
   "metadata": {},
   "outputs": [],
   "source": [
    "public LiveData<Resource<List<User>>> getUsers() {"
   ]
  },
  {
   "cell_type": "markdown",
   "id": "29ff815d-4248-49ba-a1e5-895c684bb70e",
   "metadata": {},
   "source": [
    "Tworzymy **klasę anonimową**"
   ]
  },
  {
   "cell_type": "code",
   "execution_count": null,
   "id": "075ae660-1089-48ab-8939-9470c66788dc",
   "metadata": {},
   "outputs": [],
   "source": [
    "return new NetworkBoundResource<List<User>, List<User>>() {"
   ]
  },
  {
   "cell_type": "markdown",
   "id": "fe8d3e00-881f-409c-965e-4fbcb16e72e1",
   "metadata": {},
   "source": [
    "Dodajmy implementację metod zdefiniowanych w klasie `NetworkBoundResource`"
   ]
  },
  {
   "cell_type": "code",
   "execution_count": null,
   "id": "bf6dc7ee-a146-49a2-922a-eb8cac27c2e3",
   "metadata": {},
   "outputs": [],
   "source": [
    "@Override\n",
    "protected void saveCallResult(@NonNull List<User> item) {\n",
    "    dao.clear();\n",
    "    dao.insert(item);\n",
    "}\n",
    "\n",
    "@NonNull\n",
    "@Override\n",
    "protected LiveData<List<User>> loadFromDb() {return dao.getUsers();}\n",
    "\n",
    "@NonNull\n",
    "@Override\n",
    "protected Call<List<User>> createCall() {\n",
    "    return api.users();\n",
    "}"
   ]
  },
  {
   "cell_type": "markdown",
   "id": "8c5b2c0e-e5dc-4912-9c0e-557addeef12e",
   "metadata": {},
   "source": [
    "Ponieważ wywołujemy dwie funkcje: `clear` - czyszcząca bazę, oraz `insert` - dodająca całą listę.\n",
    "\n",
    "Pełny kod repozytorium:"
   ]
  },
  {
   "cell_type": "code",
   "execution_count": null,
   "id": "8758d987-2f96-458a-a712-b07a212e75a6",
   "metadata": {},
   "outputs": [],
   "source": [
    "public class UserRepository {\n",
    "\n",
    "    private final UserDao dao;\n",
    "    private final RandomApi api;\n",
    "\n",
    "    @Inject\n",
    "    public UserRepository(UserDao dao, RandomApi api) {\n",
    "        this.dao = dao;\n",
    "        this.api = api;\n",
    "    }\n",
    "\n",
    "    public LiveData<Resource<List<User>>> getUsers() {\n",
    "        return new NetworkBoundResource<List<User>, List<User>>() {\n",
    "\n",
    "            @Override\n",
    "            protected void saveCallResult(@NonNull List<User> item) {\n",
    "                dao.clear();\n",
    "                dao.insert(item);\n",
    "            }\n",
    "\n",
    "            @NonNull\n",
    "            @Override\n",
    "            protected LiveData<List<User>> loadFromDb() {return dao.getUsers();}\n",
    "\n",
    "            @NonNull\n",
    "            @Override\n",
    "            protected Call<List<User>> createCall() {\n",
    "                return api.users();\n",
    "            }\n",
    "        }.getAsLiveData();\n",
    "    }\n",
    "}"
   ]
  },
  {
   "cell_type": "markdown",
   "id": "bd999cbf-3ca8-407c-8a9e-99dc5dc68f5c",
   "metadata": {},
   "source": [
    "Na końcu wywołujemy `getAsLiceData` aby otrzymać obiekt typu `LiveData` a nie `MediatorLiveData`"
   ]
  },
  {
   "cell_type": "markdown",
   "id": "03287ad7-ed95-4069-9aca-a9b1e94bf8ae",
   "metadata": {},
   "source": [
    "Dodajmy `ViewModel`"
   ]
  },
  {
   "cell_type": "code",
   "execution_count": null,
   "id": "2bb08c05-75ba-4eb2-bbfc-05d9c29ff879",
   "metadata": {},
   "outputs": [],
   "source": [
    "@HiltViewModel\n",
    "public class UserViewModel extends ViewModel {\n",
    "    private LiveData<Resource<List<User>>> users;\n",
    "    private final UserRepository repository;\n",
    "\n",
    "    @Inject\n",
    "    public UserViewModel(UserRepository repository) {\n",
    "        this.repository = repository;\n",
    "\n",
    "    }\n",
    "\n",
    "    public LiveData<Resource<List<User>>> getUsers() {\n",
    "        return repository.getUsers();\n",
    "    }\n",
    "}"
   ]
  },
  {
   "cell_type": "markdown",
   "id": "3c45723e-3c3c-4206-a0d4-2d91c89d5d9d",
   "metadata": {},
   "source": [
    "W aktywności fgłównej posiadamy `RecyclerView`, więc dodajmyn `Comparator`, `ViewHolder` oraz `Adapter`"
   ]
  },
  {
   "cell_type": "code",
   "execution_count": null,
   "id": "5b7d8d5e-d833-4ee3-a8c5-a799b0c4f8cd",
   "metadata": {},
   "outputs": [],
   "source": [
    "public class UserComparator extends DiffUtil.ItemCallback<User> {\n",
    "    @Override\n",
    "    public boolean areItemsTheSame(@NonNull User oldItem, @NonNull User newItem) {\n",
    "        return newItem.getUid().equals(oldItem.getUid());\n",
    "    }\n",
    "\n",
    "    @Override\n",
    "    public boolean areContentsTheSame(@NonNull User oldItem, @NonNull User newItem) {\n",
    "        return newItem.getId() == oldItem.getId();\n",
    "    }\n",
    "}\n",
    "\n",
    "public class UserViewHolder extends RecyclerView.ViewHolder {\n",
    "\n",
    "    private final RvItemBinding binding;\n",
    "\n",
    "    public UserViewHolder(RvItemBinding binding) {\n",
    "        super(binding.getRoot());\n",
    "        this.binding = binding;\n",
    "    }\n",
    "\n",
    "    public void bind(User item){\n",
    "        binding.firstName.setText(item.getFirst_name());\n",
    "        binding.lastName.setText(item.getLast_name());\n",
    "        binding.city.setText(item.getAddress().getCity());\n",
    "        binding.country.setText(item.getAddress().getCountry());\n",
    "        binding.dateOfBirth.setText(item.getDate_of_birth());\n",
    "        binding.creditCardNumber.setText(item.getCredit_card().getCc_number());\n",
    "        binding.email.setText(item.getEmail());\n",
    "        binding.employment.setText(item.getEmployment().getTitle());\n",
    "        binding.gender.setText(item.getGender());\n",
    "        binding.password.setText(item.getPassword());\n",
    "        binding.paymentMethod.setText(item.getSubscription().getPayment_method());\n",
    "        binding.phone.setText(item.getPhone_number());\n",
    "        binding.plan.setText(item.getSubscription().getPlan());\n",
    "        binding.term.setText(item.getSubscription().getTerm());\n",
    "        binding.paymentMethod.setText(item.getSubscription().getPayment_method());\n",
    "        binding.state.setText(item.getAddress().getState());\n",
    "        binding.zipCode.setText(item.getAddress().getZip_code());\n",
    "        binding.status.setText(item.getSubscription().getStatus());\n",
    "        binding.streetAddress.setText(item.getAddress().getStreet_address());\n",
    "        binding.streetName.setText(item.getAddress().getStreet_name());\n",
    "        binding.username.setText(item.getUsername());\n",
    "        Glide.with(binding.getRoot()).load(item.getAvatar()).into(binding.image);\n",
    "    }\n",
    "}\n",
    "\n",
    "    \n",
    "public class UserAdapter extends ListAdapter<User, UserViewHolder> {\n",
    "    public UserAdapter(UserComparator comparator) {\n",
    "        super(comparator);\n",
    "    }\n",
    "\n",
    "    @NonNull\n",
    "    @Override\n",
    "    public UserViewHolder onCreateViewHolder(@NonNull ViewGroup parent, int viewType) {\n",
    "        return new UserViewHolder(RvItemBinding.inflate(\n",
    "                LayoutInflater.from(parent.getContext()), parent, false\n",
    "        ));\n",
    "    }\n",
    "\n",
    "    @Override\n",
    "    public void onBindViewHolder(@NonNull UserViewHolder holder, int position) {\n",
    "        User item = getItem(position);\n",
    "        holder.bind(item);\n",
    "    }\n",
    "}\n"
   ]
  },
  {
   "cell_type": "markdown",
   "id": "3fbab22a-d1bd-4ee5-9822-15ba8d996e94",
   "metadata": {},
   "source": [
    "Możemy przetestować aplikację. Jak widzimy przy pierwszym uruchomieniu ładowane są dane, przy drugim wyświetlane są dane *offline cached* z bazy lokalnej, asynchronicznie wykonywana jest aktualizacja z serwera."
   ]
  },
  {
   "cell_type": "markdown",
   "id": "e1a2960e-b474-4de2-8bd7-10dcf1ee5638",
   "metadata": {},
   "source": [
    "<img src=\"https://media1.giphy.com/media/y0RLxRN7SPJ7mI7Hw5/giphy.gif?cid=790b7611ea236e1ec92b9220e3629a80e851a7759882cbee&rid=giphy.gif&ct=g\" width=\"150\" />"
   ]
  }
 ],
 "metadata": {
  "kernelspec": {
   "display_name": "Java",
   "language": "java",
   "name": "java"
  },
  "language_info": {
   "codemirror_mode": "java",
   "file_extension": ".jshell",
   "mimetype": "text/x-java-source",
   "name": "Java",
   "pygments_lexer": "java",
   "version": "17+35-2724"
  }
 },
 "nbformat": 4,
 "nbformat_minor": 5
}
