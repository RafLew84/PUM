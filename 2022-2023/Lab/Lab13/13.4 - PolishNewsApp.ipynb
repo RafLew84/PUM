{
 "cells": [
  {
   "cell_type": "markdown",
   "id": "4c73becd-4246-4153-bf85-d63f6090098c",
   "metadata": {},
   "source": [
    "# 13.3 PolishNewsApp"
   ]
  },
  {
   "cell_type": "markdown",
   "id": "02774fac-5b30-4d67-b14e-718997b370b1",
   "metadata": {},
   "source": [
    "Aplikacja wykorzystuje architekturę **MVVM**."
   ]
  },
  {
   "cell_type": "markdown",
   "id": "7e7b9909-8159-4e32-b86b-94bc9a042e34",
   "metadata": {},
   "source": [
    "<img src=\"https://miro.medium.com/max/1100/0*PKo4mQsOOGUqPlVp.webp\" width=\"600\"/>"
   ]
  },
  {
   "cell_type": "markdown",
   "id": "9987b488-3008-49dd-aaf4-e6504defe16e",
   "metadata": {},
   "source": [
    "- Aplikacja będzie pokazywać listę 10 wiadomości z Polski\n",
    "- Jako zewnętrzne źródło danych wykorzystamy https://newsdata.io (`Retrofit`, `LoggingInterceptor`)\n",
    "- W aplikacji zastosujemy *offline caching* za pomocą `ROOM`, wraz z funkcją `networkBoundResource` oraz klasą `Resource`\n",
    "- Zapisane dane będą czyszczone co 10 minut\n",
    "- Aplikacja wykorzystuje strumienie (`Flow`, `StateFlow`) oraz kanały (`Channel`)\n",
    "- Można dodać artykuły do listy ulubionych (`ROOM`)\n",
    "- Aplikacja zawiera dwa fragmenty - nawigacja zostanie wykonana z pomocą bibliotek `BottomNavigation` oraz `Navigation`\n",
    "- Wykorzystamy *dependency injection* z bibliotekami `Dagger-Hilt`\n",
    "- Dane będą wyświetlane w `RecyclerView` z `ListAdapter`"
   ]
  },
  {
   "cell_type": "markdown",
   "id": "55ebcc4b-6286-426c-b84c-e454194fca4a",
   "metadata": {},
   "source": [
    "<table><tr><td><img src=\"https://media3.giphy.com/media/uER0JwmDholYnLXChH/giphy.gif?cid=790b76119058b2b2f72a5a208fa580c5adabc5d007d55022&rid=giphy.gif&ct=g\" width=\"200\" /></td><td><img src=\"https://media2.giphy.com/media/GprR3qLfjPdna6GY4m/giphy.gif?cid=790b76116f13b2b93dea78771b7ec3023cdf6f9877e4443a&rid=giphy.gif&ct=g\" width=\"200\" /></td>\n",
    "<td><img src=\"https://media2.giphy.com/media/GmKwtKs1YnfnrQxEPG/giphy.gif?cid=790b761102b60ac194f6443efdb6ac545a2d184ce159195b&rid=giphy.gif&ct=g\" width=\"200\" /></td></tr></table>"
   ]
  },
  {
   "cell_type": "markdown",
   "id": "35a0e145-7cb3-44d2-a07e-93f35896849b",
   "metadata": {},
   "source": [
    "### Konfiguracja"
   ]
  },
  {
   "cell_type": "markdown",
   "id": "61e371bb-474c-463d-a92e-fe54054f705f",
   "metadata": {},
   "source": [
    "Rozpoczniemy od skonfigurowania projektu, dodania odpowiednich zależności oraz dodania pola z `apikey` do projektu. Rozpocznijmy od zależności."
   ]
  },
  {
   "cell_type": "code",
   "execution_count": null,
   "id": "9e3b7a68-5f3d-41fd-b7a3-6d9da46e6469",
   "metadata": {},
   "outputs": [],
   "source": [
    "// build.gradle(Project)\n",
    "buildscript { // przed blokiem plugins\n",
    "    repositories {\n",
    "        google()\n",
    "    }\n",
    "    dependencies {\n",
    "        classpath \"androidx.navigation:navigation-safe-args-gradle-plugin:2.5.3\"\n",
    "    }\n",
    "}\n",
    "plugins {\n",
    "    id 'com.android.application' version '7.3.1' apply false\n",
    "    id 'com.android.library' version '7.3.1' apply false\n",
    "    id 'org.jetbrains.kotlin.android' version '1.7.20' apply false\n",
    "    id 'com.google.dagger.hilt.android' version '2.44' apply false\n",
    "}"
   ]
  },
  {
   "cell_type": "code",
   "execution_count": null,
   "id": "593a9e7b-354f-4ac1-b7a1-62d16672b56b",
   "metadata": {},
   "outputs": [],
   "source": [
    "//  build.gradle(Module)\n",
    "plugins {\n",
    "    id 'com.android.application'\n",
    "    id 'org.jetbrains.kotlin.android'\n",
    "    id 'androidx.navigation.safeargs.kotlin'\n",
    "    id 'kotlin-android'\n",
    "    id 'kotlin-kapt'\n",
    "    id 'dagger.hilt.android.plugin'\n",
    "}\n",
    "...\n",
    "android {\n",
    "    buildFeatures {\n",
    "        viewBinding = true\n",
    "    }\n",
    "    ...\n",
    "}\n",
    "...\n",
    "dependencies {\n",
    "\n",
    "    // Dagger-Hilt\n",
    "    implementation \"com.google.dagger:hilt-android:2.44\"\n",
    "    kapt \"com.google.dagger:hilt-android-compiler:2.44\"\n",
    "    kapt \"androidx.hilt:hilt-compiler:1.0.0\"\n",
    "    implementation 'androidx.hilt:hilt-navigation-fragment:1.0.0'\n",
    "\n",
    "    // Navigation\n",
    "    implementation \"androidx.navigation:navigation-fragment-ktx:2.5.3\"\n",
    "    implementation \"androidx.navigation:navigation-ui-ktx:2.5.3\"\n",
    "\n",
    "\n",
    "    // Fragment\n",
    "    implementation \"androidx.fragment:fragment-ktx:1.5.4\"\n",
    "\n",
    "    // ROOM\n",
    "    implementation(\"androidx.room:room-ktx:2.4.3\")\n",
    "    kapt(\"androidx.room:room-compiler:2.4.3\")\n",
    "\n",
    "    // ViewModel\n",
    "    implementation 'androidx.lifecycle:lifecycle-viewmodel-ktx:2.5.1'\n",
    "    // LiveData\n",
    "    implementation \"androidx.lifecycle:lifecycle-livedata-ktx:2.5.1\"\n",
    "\n",
    "    // Retrofit\n",
    "    implementation 'com.squareup.retrofit2:retrofit:2.9.0'\n",
    "    implementation 'com.squareup.retrofit2:converter-gson:2.9.0'\n",
    "\n",
    "    // OkHttp\n",
    "    implementation 'com.squareup.okhttp3:logging-interceptor:4.10.0'\n",
    "\n",
    "    // Glide\n",
    "    implementation 'com.github.bumptech.glide:glide:4.14.1'\n",
    "    annotationProcessor 'com.github.bumptech.glide:compiler:4.14.1'\n",
    "\n",
    "    // Paging3\n",
    "    implementation \"androidx.paging:paging-runtime-ktx:3.1.1\"\n",
    "\n",
    "    //SwipeRefreshLayout\n",
    "    implementation \"androidx.swiperefreshlayout:swiperefreshlayout:1.1.0\"\n",
    "\n",
    "    // CardView\n",
    "    implementation \"androidx.cardview:cardview:1.0.0\"\n",
    "    \n",
    "    ...\n",
    "}"
   ]
  },
  {
   "cell_type": "markdown",
   "id": "ac82e406-d8e0-4eb9-a079-e5c9b2f3936a",
   "metadata": {},
   "source": [
    "Dodajmy odpowiednie upoważnienia"
   ]
  },
  {
   "cell_type": "code",
   "execution_count": null,
   "id": "053d618d-944a-4a9e-a87d-503b47812cf6",
   "metadata": {},
   "outputs": [],
   "source": [
    "<manifest xmlns:android=\"http://schemas.android.com/apk/res/android\"\n",
    "    xmlns:tools=\"http://schemas.android.com/tools\">\n",
    "\n",
    "    <uses-permission android:name=\"android.permission.INTERNET\"/>\n",
    "    <uses-permission android:name=\"android.permission.ACCESS_NETWORK_STATE\"/>"
   ]
  },
  {
   "cell_type": "markdown",
   "id": "304dc672-afdb-4288-ad0e-daee2416e13a",
   "metadata": {},
   "source": [
    "Ponieważ https://newsdata.io/ wymaga posiadania unikalnego `apikey`, musimy go przechować w projekcie - jednocześnie nie chcemy go dodawać do repozytorium github. Sam klucz będziemy przechowywać w pliku `local.properties`"
   ]
  },
  {
   "cell_type": "code",
   "execution_count": null,
   "id": "7e8d9111-d2b1-46af-9345-865f548a1173",
   "metadata": {},
   "outputs": [],
   "source": [
    "NEWS_DATA_IO_KEY = \"klucz\""
   ]
  },
  {
   "cell_type": "markdown",
   "id": "215af2de-6695-4616-97d8-8fa4fd56e9fb",
   "metadata": {},
   "source": [
    "Musimy utworzyć pole do którego możemy odnieść się w projekcie, zrobimy to przy pomocy `gradle`. W ppbloku `defaultConfig` (`build.gradle(Module)`) tworzymy instancję `Properties` i wywołujemy metodę `load` (załadowanie pliku) oraz `newDataInputStream` (tworzy strumień  wejścia)."
   ]
  },
  {
   "cell_type": "code",
   "execution_count": null,
   "id": "51748d00-2a61-4da8-aef3-ba7ab19d79d8",
   "metadata": {},
   "outputs": [],
   "source": [
    "android {\n",
    "    ...\n",
    "    defaultConfig {\n",
    "        ...\n",
    "\n",
    "        Properties properties = new Properties()\n",
    "        properties.load(project.rootProject.file(\"local.properties\").newDataInputStream())\n",
    "    }\n",
    "    ...\n",
    "}"
   ]
  },
  {
   "cell_type": "markdown",
   "id": "721d550e-d536-45eb-8300-29d2570a0752",
   "metadata": {},
   "source": [
    "Następnie wywołujemy metodę `buildConfigField` pozwalającą na utworzenie pola dostępnego z poziomu projektu przez klasę `BuildConfig`"
   ]
  },
  {
   "cell_type": "code",
   "execution_count": null,
   "id": "612a3a8c-48dd-4a81-a86d-f30ab599ebdf",
   "metadata": {},
   "outputs": [],
   "source": [
    "android {\n",
    "    ...\n",
    "    defaultConfig {\n",
    "        ...\n",
    "\n",
    "        Properties properties = new Properties()\n",
    "        properties.load(project.rootProject.file(\"local.properties\").newDataInputStream())\n",
    "        \n",
    "        buildConfigField(\n",
    "            \"String\", // typ\n",
    "            \"NEWS_DATA_IO_KEY\", // nazwa\n",
    "            \"\\\"${properties.getProperty(\"NEWS_DATA_IO_KEY\")}\\\"\" // lokalizacja\n",
    "        )\n",
    "    }\n",
    "    ...\n",
    "}"
   ]
  },
  {
   "cell_type": "markdown",
   "id": "adad0b6d-c7a2-4474-927a-01c2ef11e0ad",
   "metadata": {},
   "source": [
    "W projekcie możemy dostać `apikey` przez wywołanie"
   ]
  },
  {
   "cell_type": "code",
   "execution_count": null,
   "id": "8b170980-13ef-4e1b-a640-7055200578a8",
   "metadata": {},
   "outputs": [],
   "source": [
    "const val API_KEY = BuildConfig.NEWS_DATA_IO_KEY"
   ]
  },
  {
   "cell_type": "markdown",
   "id": "c5756399-8b48-4378-a1f1-e1e308d1c952",
   "metadata": {},
   "source": [
    "### Layout + Nawigacja"
   ]
  },
  {
   "cell_type": "markdown",
   "id": "35a1cd1c-7ab1-4ca7-8bbc-e012de07fcbb",
   "metadata": {},
   "source": [
    "Dodajmy do nawigacji dwa fragmenty - każdy fragment dodajemy do odpowiedniego pakietu\n",
    "- `LatestNewsFragment` - lista najnowszych wiadomości - pakiet: `ui.features.latest`\n",
    "- `FavoriteNewsFragment` - lista ulubionych wiadomości - pakiet: `ui.features.favorite`\n",
    "- aktywność dodajemy do pakietu `ui`"
   ]
  },
  {
   "cell_type": "code",
   "execution_count": null,
   "id": "157e2ceb-835e-4cb0-bf28-ba616d5e2e72",
   "metadata": {},
   "outputs": [],
   "source": [
    "<?xml version=\"1.0\" encoding=\"utf-8\"?>\n",
    "<navigation xmlns:android=\"http://schemas.android.com/apk/res/android\"\n",
    "    xmlns:app=\"http://schemas.android.com/apk/res-auto\"\n",
    "    xmlns:tools=\"http://schemas.android.com/tools\"\n",
    "    android:id=\"@+id/navigation\"\n",
    "    app:startDestination=\"@id/latestNewsFragment\">\n",
    "\n",
    "    <fragment\n",
    "        android:id=\"@+id/latestNewsFragment\"\n",
    "        android:name=\"pl.udu.uwr.pum.polishnewsapp.ui.features.latest.LatestNewsFragment\"\n",
    "        android:label=\"@string/wiadomo_ci\"\n",
    "        tools:layout=\"@layout/fragment_latest_news\" />\n",
    "    <fragment\n",
    "        android:id=\"@+id/favoriteNewsFragment\"\n",
    "        android:name=\"pl.udu.uwr.pum.polishnewsapp.ui.features.favorite.FavoriteNewsFragment\"\n",
    "        android:label=\"@string/ulubione\"\n",
    "        tools:layout=\"@layout/fragment_favorite_news\" />\n",
    "</navigation>"
   ]
  },
  {
   "cell_type": "markdown",
   "id": "e9548568-89df-4394-a39e-fa8ff0561e0d",
   "metadata": {},
   "source": [
    "Ponieważ będziemy wykorzystywać `BottomNavigation`, musimy dodać plik `menu` z elementami które chcemy tam umieścić."
   ]
  },
  {
   "cell_type": "code",
   "execution_count": null,
   "id": "8e77115b-ee92-451c-ba6f-dfd697d79dbd",
   "metadata": {},
   "outputs": [],
   "source": [
    "<?xml version=\"1.0\" encoding=\"utf-8\"?>\n",
    "<menu xmlns:android=\"http://schemas.android.com/apk/res/android\">\n",
    "    <item\n",
    "        android:id=\"@id/latestNewsFragment\"\n",
    "        android:icon=\"@drawable/ic_latest\"\n",
    "        android:title=\"@string/wiadomo_ci\" />\n",
    "    <item\n",
    "        android:id=\"@id/favoriteNewsFragment\"\n",
    "        android:icon=\"@drawable/ic_favorite\"\n",
    "        android:title=\"@string/ulubione\" />\n",
    "</menu>"
   ]
  },
  {
   "cell_type": "markdown",
   "id": "a12b1466-b7d4-4678-8f54-60f6780a24d2",
   "metadata": {},
   "source": [
    "Dodajmy `FragmentContainerView` oraz `BottomNavigationView` do layoutu głównej aktywności"
   ]
  },
  {
   "cell_type": "code",
   "execution_count": null,
   "id": "b588f034-6be6-47c9-b915-611df88a1439",
   "metadata": {},
   "outputs": [],
   "source": [
    "<?xml version=\"1.0\" encoding=\"utf-8\"?>\n",
    "<LinearLayout xmlns:android=\"http://schemas.android.com/apk/res/android\"\n",
    "    xmlns:app=\"http://schemas.android.com/apk/res-auto\"\n",
    "    xmlns:tools=\"http://schemas.android.com/tools\"\n",
    "    android:layout_width=\"match_parent\"\n",
    "    android:layout_height=\"match_parent\"\n",
    "    android:orientation=\"vertical\"\n",
    "    tools:context=\".ui.MainActivity\">\n",
    "\n",
    "    <androidx.fragment.app.FragmentContainerView\n",
    "        android:id=\"@+id/nav_host_fragment\"\n",
    "        android:name=\"androidx.navigation.fragment.NavHostFragment\"\n",
    "        android:layout_width=\"match_parent\"\n",
    "        android:layout_height=\"0dp\"\n",
    "        android:layout_weight=\"1\"\n",
    "        app:defaultNavHost=\"true\"\n",
    "        app:navGraph=\"@navigation/navigation\"/>\n",
    "\n",
    "    <com.google.android.material.bottomnavigation.BottomNavigationView\n",
    "        android:id=\"@+id/bottom_nav_view\"\n",
    "        android:layout_width=\"match_parent\"\n",
    "        android:layout_height=\"wrap_content\"\n",
    "        app:menu=\"@menu/bottom_nav_menu\" />\n",
    "\n",
    "</LinearLayout>"
   ]
  },
  {
   "cell_type": "markdown",
   "id": "a8c8106f-250f-4d10-a936-ed36ef407b97",
   "metadata": {},
   "source": [
    "Przejdźmy do layoutu `LatestNewsFragment`. Wszystko umieścimy `CoordinationLayout`"
   ]
  },
  {
   "cell_type": "code",
   "execution_count": null,
   "id": "b5e7896d-5b75-4270-86f8-2c4f2df0dc75",
   "metadata": {},
   "outputs": [],
   "source": [
    "<?xml version=\"1.0\" encoding=\"utf-8\"?>\n",
    "<androidx.coordinatorlayout.widget.CoordinatorLayout \n",
    "xmlns:android=\"http://schemas.android.com/apk/res/android\"\n",
    "    xmlns:tools=\"http://schemas.android.com/tools\"\n",
    "    android:layout_width=\"match_parent\"\n",
    "    android:layout_height=\"match_parent\"\n",
    "    tools:context=\".ui.features.latest.LatestNewsFragment\">"
   ]
  },
  {
   "cell_type": "markdown",
   "id": "a1645d68-a2f2-44f6-9ea1-cc421bab7517",
   "metadata": {},
   "source": [
    "Następnie dodajmy `SwipeToRefreshLayout` - umożliwia wykonanie akcji pokazujący `ProgressBar`, standardowo wykorzystywany do odświeżania ekranu."
   ]
  },
  {
   "cell_type": "code",
   "execution_count": null,
   "id": "dcecadef-c77c-4b97-84e6-323b20686814",
   "metadata": {},
   "outputs": [],
   "source": [
    "    <androidx.swiperefreshlayout.widget.SwipeRefreshLayout\n",
    "        android:id=\"@+id/swipeToRefreshLayout\"\n",
    "        android:layout_width=\"match_parent\"\n",
    "        android:layout_height=\"match_parent\">"
   ]
  },
  {
   "cell_type": "markdown",
   "id": "806d8898-88ae-4be3-b51c-9a4fc317b022",
   "metadata": {},
   "source": [
    "Kolejne elementy umieścimy w `RelativeLayout`"
   ]
  },
  {
   "cell_type": "code",
   "execution_count": null,
   "id": "af72597f-62ba-4fe3-8c0b-18e057f01e04",
   "metadata": {},
   "outputs": [],
   "source": [
    "        <RelativeLayout\n",
    "            android:layout_width=\"match_parent\"\n",
    "            android:layout_height=\"match_parent\">"
   ]
  },
  {
   "cell_type": "markdown",
   "id": "a87c694a-2350-40fc-b689-ade8e1f4bb0f",
   "metadata": {},
   "source": [
    "Dodajmy `RecyclerView` wyświetlający naszą listę wiadomości, `TextView` wyświetlający komunikat błędu oraz przycisk umożliwiający ponowienie pobrania danych z serwera w przypadku braku połączenia."
   ]
  },
  {
   "cell_type": "code",
   "execution_count": null,
   "id": "26d63b9a-93c8-47f6-8c04-b2fcc1d38cd4",
   "metadata": {},
   "outputs": [],
   "source": [
    "        <RelativeLayout\n",
    "            android:layout_width=\"match_parent\"\n",
    "            android:layout_height=\"match_parent\">\n",
    "\n",
    "            <androidx.recyclerview.widget.RecyclerView\n",
    "                android:id=\"@+id/latestRecyclerView\"\n",
    "                android:layout_width=\"match_parent\"\n",
    "                android:layout_height=\"match_parent\"\n",
    "                android:layout_margin=\"8dp\"/>\n",
    "\n",
    "            <TextView\n",
    "                android:id=\"@+id/errorMessageTextView\"\n",
    "                android:layout_width=\"match_parent\"\n",
    "                android:layout_height=\"wrap_content\"\n",
    "                android:layout_above=\"@+id/retryButton\"\n",
    "                android:gravity=\"center_horizontal\"\n",
    "                android:layout_margin=\"8dp\"\n",
    "                android:textSize=\"24sp\"\n",
    "                android:visibility=\"gone\"\n",
    "                tools:visibility=\"visible\"\n",
    "                tools:text=\"Error message\"\n",
    "                />\n",
    "\n",
    "            <Button\n",
    "                android:id=\"@+id/retryButton\"\n",
    "                android:layout_width=\"wrap_content\"\n",
    "                android:layout_height=\"wrap_content\"\n",
    "                android:layout_centerInParent=\"true\"\n",
    "                android:visibility=\"gone\"\n",
    "                tools:visibility=\"visible\"\n",
    "                android:text=\"@string/po_cz\"/>\n",
    "\n",
    "        </RelativeLayout>\n",
    "\n",
    "    </androidx.swiperefreshlayout.widget.SwipeRefreshLayout>\n",
    "\n",
    "</androidx.coordinatorlayout.widget.CoordinatorLayout>"
   ]
  },
  {
   "cell_type": "markdown",
   "id": "f859091d-9519-46f1-be28-36db4bef56b0",
   "metadata": {},
   "source": [
    "Dodajmy layout dla `FavoriteNewsFragment` - tutaj chcemy wyświetlić `TextView` z informacją o pustej bazie, lub `RecyclerView` jeżeli w bazie istnieje choć jeden element."
   ]
  },
  {
   "cell_type": "code",
   "execution_count": null,
   "id": "94284527-9645-4d8f-9d68-47e046d0dffb",
   "metadata": {},
   "outputs": [],
   "source": [
    "<?xml version=\"1.0\" encoding=\"utf-8\"?>\n",
    "<RelativeLayout xmlns:android=\"http://schemas.android.com/apk/res/android\"\n",
    "    xmlns:tools=\"http://schemas.android.com/tools\"\n",
    "    android:layout_width=\"match_parent\"\n",
    "    android:layout_height=\"match_parent\"\n",
    "    tools:context=\".ui.features.favorite.FavoriteNewsFragment\">\n",
    "\n",
    "    <androidx.recyclerview.widget.RecyclerView\n",
    "        android:id=\"@+id/favoriteRecyclerView\"\n",
    "        android:layout_width=\"match_parent\"\n",
    "        android:layout_height=\"match_parent\" />\n",
    "\n",
    "    <TextView\n",
    "        android:id=\"@+id/messageTextView\"\n",
    "        android:layout_width=\"wrap_content\"\n",
    "        android:layout_height=\"wrap_content\"\n",
    "        android:layout_centerInParent=\"true\"\n",
    "        android:text=\"@string/brak_wynik_w\"\n",
    "        android:textSize=\"24sp\"\n",
    "        android:visibility=\"gone\"\n",
    "        tools:visibility=\"visible\" />\n",
    "\n",
    "</RelativeLayout>"
   ]
  },
  {
   "cell_type": "markdown",
   "id": "ee96bd48-4fd9-46d2-adc8-f49cb29840ad",
   "metadata": {},
   "source": [
    "Dodajmy jeszcze odpowiedni kod obsługujący `BottomNavigation` oraz `Navigation` wraz z `AppBar` do klasy `MainActivity`"
   ]
  },
  {
   "cell_type": "code",
   "execution_count": null,
   "id": "d66b383d-d13d-41a1-9d0f-5bd3c5671383",
   "metadata": {},
   "outputs": [],
   "source": [
    "class MainActivity : AppCompatActivity() {\n",
    "\n",
    "    private val binding: ActivityMainBinding by lazy {\n",
    "        ActivityMainBinding.inflate(layoutInflater)\n",
    "    }\n",
    "\n",
    "    private val navController: NavController by lazy {\n",
    "        val navHostFragment = supportFragmentManager.findFragmentById(R.id.nav_host_fragment)\n",
    "                as NavHostFragment\n",
    "        navHostFragment.findNavController()\n",
    "    }\n",
    "\n",
    "    private val appBarConfiguration: AppBarConfiguration by lazy {\n",
    "        AppBarConfiguration(setOf(R.id.latestNewsFragment, R.id.favoriteNewsFragment))\n",
    "    }\n",
    "\n",
    "    override fun onCreate(savedInstanceState: Bundle?) {\n",
    "        super.onCreate(savedInstanceState)\n",
    "        setContentView(binding.root)\n",
    "\n",
    "\n",
    "        binding.bottomNavView.setupWithNavController(navController)\n",
    "        setupActionBarWithNavController(navController, appBarConfiguration)\n",
    "    }\n",
    "\n",
    "    override fun onSupportNavigateUp(): Boolean {\n",
    "        return navController.navigateUp(appBarConfiguration)\n",
    "                || super.onSupportNavigateUp()\n",
    "    }\n",
    "}"
   ]
  },
  {
   "cell_type": "markdown",
   "id": "72b6ab23-7fd3-4858-9541-438b6b583aeb",
   "metadata": {},
   "source": [
    "### Model danych"
   ]
  },
  {
   "cell_type": "markdown",
   "id": "eea52b4e-0709-4294-a62a-5aa8063ee1eb",
   "metadata": {},
   "source": [
    "Przykładowe żądanie wygląda następująco https://newsdata.io/api/1/news?apikey=YOUR_API_KEY&country=pl&language=pl. W odpowiedzi dostaniemy listę wszystkich wiadomości w formacie `JSON`"
   ]
  },
  {
   "cell_type": "code",
   "execution_count": null,
   "id": "bdfec04c-78ac-4362-b2f9-a47f01da64c8",
   "metadata": {},
   "outputs": [],
   "source": [
    "{\n",
    "   \"status\":\"success\",\n",
    "   \"totalResults\":71057,\n",
    "   \"results\":[\n",
    "      {\n",
    "         \"title\":\"Wiceprezes Kruka sprzedał akcje za 4,1 mln zł\",\n",
    "         \"link\":\"https://www.pb.pl/wiceprezes-kruka-sprzedal-akcje-za-41-mln-zl-1140391\",\n",
    "         \"keywords\":null,\n",
    "         \"creator\":null,\n",
    "         \"video_url\":null,\n",
    "         \"description\":\"Michał Zasępa ...\n",
    "         \"content\":null,\n",
    "         \"pubDate\":\"2022-02-04 07:06:55\",\n",
    "         \"image_url\":null,\n",
    "         \"source_id\":\"pb\",\n",
    "         \"country\":[\n",
    "            \"poland\"\n",
    "         ],\n",
    "         \"category\":[\n",
    "            \"business\"\n",
    "         ],\n",
    "         \"language\":\"polish\"\n",
    "      }\n",
    "      ...\n",
    "   ],\n",
    "   \"nextPage\":1\n",
    "}"
   ]
  },
  {
   "cell_type": "markdown",
   "id": "7c5c0b49-e86a-4165-abe0-ea28eaf8d650",
   "metadata": {},
   "source": [
    "Widzimy że dostajemy listę 71057 elementów, podzielonych na *strony* po 10. W tej aplikacji obsłużymy dane tylko z jednej (losowej) strony i wykonamy prosty *offline caching*. `nextPage` jest wartością którą możemy się posłużyć ładując kolejną porcję 10 wiadomości - do obsługi **paginacji** w aplikacji służy biblioteka `Paging3` (pojawi się w kolejnym projekcie)."
   ]
  },
  {
   "cell_type": "markdown",
   "id": "e147a7f0-085a-4398-8f46-9194f5395b54",
   "metadata": {},
   "source": [
    "Przygotujmy model danych, tym razem wykorzystamy dwa modele danych\n",
    "- klasy `ArticleResponse` oraz `Article` będą wykorzystywane jako *data transfer object* **dto** - tylko do mapowania odpowiedzi serwera\n",
    "- klasa `LatestNews` posłuży jako `Entity` w bazie `ROOM`"
   ]
  },
  {
   "cell_type": "markdown",
   "id": "3bb8c41a-f558-43c9-a317-fd7144fc950c",
   "metadata": {},
   "source": [
    "Jak widzimy powyżej, w odpowiedzi dostajemy metadane i listę artykułów, więc wykorzystamy dwie klasy (pakiet `data.dto`)"
   ]
  },
  {
   "cell_type": "code",
   "execution_count": null,
   "id": "d28035c8-fc8c-4eb2-83bd-1e328c00822f",
   "metadata": {},
   "outputs": [],
   "source": [
    "data class ArticleResponse(\n",
    "    val nextPage: Int,\n",
    "    val results: List<Article>,\n",
    "    val status: String,\n",
    "    val totalResults: Int\n",
    ")\n",
    "\n",
    "data class Article(\n",
    "    val description: String?,\n",
    "    val image_url: String?,\n",
    "    val link: String,\n",
    "    val title: String?,\n",
    ")"
   ]
  },
  {
   "cell_type": "markdown",
   "id": "a41da0ae-9db5-4cd1-8df6-7d90753fdfd1",
   "metadata": {},
   "source": [
    "Nie potrzebujemy wszystkich elementów z odpowiedzi, więc część ignorujemy. Na podstawie modelu przygotujme layout  pojedynczego elementu `RecyclerView`"
   ]
  },
  {
   "cell_type": "markdown",
   "id": "e1a27a43-3ab2-4e35-bba9-74d3899e4d06",
   "metadata": {},
   "source": [
    "Całość umieścimy w `CardView`"
   ]
  },
  {
   "cell_type": "code",
   "execution_count": null,
   "id": "0163d056-3a46-4119-8c93-124ca01331a7",
   "metadata": {},
   "outputs": [],
   "source": [
    "<androidx.cardview.widget.CardView xmlns:android=\"http://schemas.android.com/apk/res/android\"\n",
    "    xmlns:app=\"http://schemas.android.com/apk/res-auto\"\n",
    "    android:layout_width=\"match_parent\"\n",
    "    android:layout_height=\"wrap_content\"\n",
    "    xmlns:tools=\"http://schemas.android.com/tools\"\n",
    "    android:layout_marginTop=\"8dp\"\n",
    "    app:cardBackgroundColor=\"@color/background\"\n",
    "    app:cardCornerRadius=\"30dp\"\n",
    "    app:cardElevation=\"15dp\">"
   ]
  },
  {
   "cell_type": "markdown",
   "id": "bb13d285-5c28-4b72-a6f3-91d0ee195761",
   "metadata": {},
   "source": [
    "Elementy wewnętrzne otoczymy przez `ContraintLayout`"
   ]
  },
  {
   "cell_type": "code",
   "execution_count": null,
   "id": "cc4c221f-7186-4785-b8bc-1d739ed0b9ab",
   "metadata": {},
   "outputs": [],
   "source": [
    "    <androidx.constraintlayout.widget.ConstraintLayout\n",
    "        android:layout_width=\"match_parent\"\n",
    "        android:layout_height=\"wrap_content\">"
   ]
  },
  {
   "cell_type": "markdown",
   "id": "46aaf9ec-e6ea-4574-bb8e-ab680152b30b",
   "metadata": {},
   "source": [
    "Dodajmy `ImageView` w który wstawimy pobraną grafikę"
   ]
  },
  {
   "cell_type": "code",
   "execution_count": null,
   "id": "3658a161-4bea-449f-aaec-870eacc5491d",
   "metadata": {},
   "outputs": [],
   "source": [
    "        <ImageView\n",
    "            android:id=\"@+id/articleImageView\"\n",
    "            android:layout_width=\"match_parent\"\n",
    "            android:layout_height=\"250dp\"\n",
    "            android:scaleType=\"centerCrop\"\n",
    "\n",
    "            app:layout_constraintEnd_toEndOf=\"parent\"\n",
    "            app:layout_constraintStart_toStartOf=\"parent\"\n",
    "            app:layout_constraintTop_toTopOf=\"parent\"\n",
    "            android:contentDescription=\"@string/image\" />"
   ]
  },
  {
   "cell_type": "markdown",
   "id": "6207ce76-e562-41cb-a7cf-75d19bc74d52",
   "metadata": {},
   "source": [
    "Dodajemy określoną wysokość i wykorzystujemy właściwość `scaleType=\"centerCrop\"`, który wypełni nam widget `ImageView` pobraną grafiką. Ponieważ na grafice chcemy umieścić tytuł artykułu, musimy się upewnić że będzie on widoczny - w tym celu dodamy gradient do katalogu `drawable`"
   ]
  },
  {
   "cell_type": "code",
   "execution_count": null,
   "id": "a7206b61-2cf2-4faa-8b85-b2c089a96102",
   "metadata": {},
   "outputs": [],
   "source": [
    "<?xml version=\"1.0\" encoding=\"utf-8\"?>\n",
    "<shape xmlns:android=\"http://schemas.android.com/apk/res/android\"\n",
    "    android:shape=\"rectangle\">\n",
    "\n",
    "    <gradient\n",
    "        android:angle=\"90\"\n",
    "        android:startColor=\"#000\"\n",
    "        android:endColor=\"#00FFFFFF\"/>\n",
    "\n",
    "</shape>"
   ]
  },
  {
   "cell_type": "markdown",
   "id": "f993d4f2-1931-49e4-8d5d-45393773c83d",
   "metadata": {},
   "source": [
    "W layoucie `RecyclerView` dodajmy `ImageView` zawierający wcześniej zdefiniowany gradient i umieśćmy go w tej samej pozycji co poprzedni `ImageView`"
   ]
  },
  {
   "cell_type": "code",
   "execution_count": null,
   "id": "bc47ce0c-9886-4783-aee1-34a66ac3b01b",
   "metadata": {},
   "outputs": [],
   "source": [
    "        <ImageView\n",
    "            android:layout_width=\"match_parent\"\n",
    "            android:layout_height=\"150dp\"\n",
    "            android:src=\"@drawable/gradient\"\n",
    "            app:layout_constraintBottom_toBottomOf=\"@id/articleImageView\"\n",
    "            app:layout_constraintEnd_toEndOf=\"parent\"\n",
    "            app:layout_constraintStart_toStartOf=\"parent\"\n",
    "            android:contentDescription=\"@string/gradient\" />"
   ]
  },
  {
   "cell_type": "markdown",
   "id": "ec581d53-ea2e-4d07-a9fd-5a5d31a2fa52",
   "metadata": {},
   "source": [
    "Kolejnym elementem będzie `ImageVCiew` zawierający ikonę - przez kliknięcie będziemy mogli dodać artykuł do uluibionych"
   ]
  },
  {
   "cell_type": "code",
   "execution_count": null,
   "id": "5c2ef246-9b43-4185-8faa-c9547006d756",
   "metadata": {},
   "outputs": [],
   "source": [
    "        <ImageView\n",
    "            android:id=\"@+id/favoriteImageView\"\n",
    "            android:layout_width=\"36dp\"\n",
    "            android:layout_height=\"36dp\"\n",
    "            android:layout_margin=\"12dp\"\n",
    "            android:src=\"@drawable/ic_favorite_unselected\"\n",
    "            app:layout_constraintBottom_toBottomOf=\"@id/articleImageView\"\n",
    "            app:layout_constraintEnd_toEndOf=\"parent\"\n",
    "            app:tint=\"@color/teal_200\"\n",
    "            android:contentDescription=\"@string/bookmark\" />"
   ]
  },
  {
   "cell_type": "markdown",
   "id": "f0e6adfb-8587-4c7e-8154-1a75912aa8f1",
   "metadata": {},
   "source": [
    "Cały layout kończymy dwoma polami `TextView` dla tytułu oraz opisu artykułu"
   ]
  },
  {
   "cell_type": "code",
   "execution_count": null,
   "id": "d084eeac-8c92-40bf-86ad-02d8bf3beb70",
   "metadata": {},
   "outputs": [],
   "source": [
    "        <TextView\n",
    "            android:id=\"@+id/titleTextView\"\n",
    "            android:layout_width=\"0dp\"\n",
    "            android:layout_height=\"wrap_content\"\n",
    "            app:layout_constraintStart_toStartOf=\"parent\"\n",
    "            app:layout_constraintEnd_toStartOf=\"@+id/favoriteImageView\"\n",
    "            app:layout_constraintBottom_toBottomOf=\"@id/articleImageView\"\n",
    "            android:textSize=\"16sp\"\n",
    "            android:maxLines=\"2\"\n",
    "            android:ellipsize=\"end\"\n",
    "            app:layout_constraintTop_toTopOf=\"@+id/favoriteImageView\"\n",
    "            tools:text=\"Rosja zawiesza udział w umowie zbożowej. Jest komentarz Erdogana\"\n",
    "            android:textColor=\"@color/teal_200\"\n",
    "            android:layout_margin=\"12dp\"/>\n",
    "\n",
    "        <TextView\n",
    "            android:id=\"@+id/descriptionTextView\"\n",
    "            android:layout_width=\"match_parent\"\n",
    "            android:layout_height=\"wrap_content\"\n",
    "            android:maxLines=\"3\"\n",
    "            android:ellipsize=\"end\"\n",
    "            android:layout_marginStart=\"20dp\"\n",
    "            android:layout_marginEnd=\"20dp\"\n",
    "            android:layout_marginBottom=\"12dp\"\n",
    "            android:textColor=\"@color/teal_200\"\n",
    "            app:layout_constraintTop_toBottomOf=\"@id/articleImageView\"\n",
    "            tools:text=\"Notowania ropy naftowej rozpoczęły bieżący tydzień, i jednocześnie ostatnią sesję października, od zniżki. Cena ropy gatunku Brent oscyluje w rejonie 92 USD za baryłkę, a notowania amerykańskiej ropy WTI poruszają się w okolicach 86 USD za baryłkę.\" />\n",
    "\n",
    "    </androidx.constraintlayout.widget.ConstraintLayout>\n",
    "</androidx.cardview.widget.CardView>"
   ]
  },
  {
   "cell_type": "markdown",
   "id": "b8945c9b-ea25-41dc-bf93-330bc1660d27",
   "metadata": {},
   "source": [
    "Ponieważ nie znamy długości opisu, chcemy go ograniczyć do maksymaslnie trzech linii za pomocą atrybutu `android:maxLines=\"3\"`. Jeżeli opis będzie dłuższy, możemy dodać symbol `...` na końcu za pomocą atrybutu `android:ellipsize=\"end\"`."
   ]
  },
  {
   "cell_type": "markdown",
   "id": "e6efd77e-9690-4491-b157-26d56e543d70",
   "metadata": {},
   "source": [
    "### Retrofit"
   ]
  },
  {
   "cell_type": "markdown",
   "id": "bf1fd494-6bc4-4e88-b5fd-146e193dc93a",
   "metadata": {},
   "source": [
    "Do pakietu `api` dodajmy interfejs `NwasApi`, będziemy w nim posiadać jedną metodę, zwracającą listę artykułów. Metoda przyjmuje jeden argument - `pageNumber`. Jak wcześniej wspomniałem newsdata.io zwraca listę artykułów podzieloną na *strony* - w tej aplikacji wykorzystamy argument `pageNumber` do pobrania listy 10 artykułów z losowej strony (łatwiej zobaczyć funkcjonalność *offline caching*)."
   ]
  },
  {
   "cell_type": "markdown",
   "id": "378b4999-e583-4a60-8e57-60ed8a560670",
   "metadata": {},
   "source": [
    "Chcemy artykuły dotyczące Polski w języku polskim"
   ]
  },
  {
   "cell_type": "code",
   "execution_count": null,
   "id": "9bf6eae9-8ba4-4033-a430-17b873d19986",
   "metadata": {},
   "outputs": [],
   "source": [
    "@GET(\"news?country=pl&language=pl\")"
   ]
  },
  {
   "cell_type": "markdown",
   "id": "8dc902bc-54f4-4553-8630-66ecc1bc29cd",
   "metadata": {},
   "source": [
    "Sama funkcja zwraca obiekt `ArticleResponse`"
   ]
  },
  {
   "cell_type": "code",
   "execution_count": null,
   "id": "83666588-0ef8-4e54-b25b-3a1ea7afd5fa",
   "metadata": {},
   "outputs": [],
   "source": [
    "suspend fun getLatestNews(\n",
    "    @Query(\"page\") pageNumber: Int\n",
    "): ArticleResponse"
   ]
  },
  {
   "cell_type": "markdown",
   "id": "6ec18e4e-6e02-4e77-8ad1-a7119c403dd9",
   "metadata": {},
   "source": [
    "Musimy jeszcze dodać do żądania nasz klucz, Możemy to zrobić za pomocą adnotacji `@Query`, jednak często dostępny jest `HTTP header`. Z dokumentacji (https://newsdata.io/docs):"
   ]
  },
  {
   "cell_type": "raw",
   "id": "517fb0bb-9b18-49c7-8dc4-528738c4e6d4",
   "metadata": {},
   "source": [
    "apikey | required | string | Your Newsdata.io API Key. Alternatively you can provide this via the X-ACCESS-KEY HTTP header."
   ]
  },
  {
   "cell_type": "markdown",
   "id": "fdf9aef4-e443-4b30-9981-04600e77f8c9",
   "metadata": {},
   "source": [
    "`Retrofit` dostarcza adnotację `@Header`, którą możemy tu wykorzystać. Musimy również podać wartość samego klucza, więc do pakietu `util` dodajmy plik `Const`"
   ]
  },
  {
   "cell_type": "code",
   "execution_count": null,
   "id": "b3990b79-e1f3-4b7d-b0d6-f05d6e517576",
   "metadata": {},
   "outputs": [],
   "source": [
    "const val API_KEY = BuildConfig.NEWS_DATA_IO_KEY"
   ]
  },
  {
   "cell_type": "markdown",
   "id": "ca0244da-7334-4c8a-a5f1-6cfa71d168ba",
   "metadata": {},
   "source": [
    "Następnie możemy wykorzystać tą wartość w adnotacji `@Headers` - musimy również podać nazwę nagłówka (znamy z dokumentacji: `X-ACCESS-KEY`)"
   ]
  },
  {
   "cell_type": "code",
   "execution_count": null,
   "id": "d468c09a-680c-4dde-9d71-464a6f43e371",
   "metadata": {},
   "outputs": [],
   "source": [
    "interface NewsApi {\n",
    "    @Headers(\"X-ACCESS-KEY: $API_KEY\")\n",
    "    @GET(\"news?country=pl&language=pl\")\n",
    "    suspend fun getLatestNews(\n",
    "        @Query(\"page\") pageNumber: Int\n",
    "    ): ArticleResponse\n",
    "}"
   ]
  },
  {
   "cell_type": "markdown",
   "id": "a7a2d29b-50c3-4874-80b1-90f8d3fccd91",
   "metadata": {},
   "source": [
    "Do pakietu `di` dodajmy obiekt `AppModule`"
   ]
  },
  {
   "cell_type": "code",
   "execution_count": null,
   "id": "d7d8e98a-bec8-4224-8645-9d7559dfc70f",
   "metadata": {},
   "outputs": [],
   "source": [
    "@Module\n",
    "@InstallIn(SingletonComponent::class)\n",
    "object AppModule {"
   ]
  },
  {
   "cell_type": "markdown",
   "id": "5cbf40f1-5594-445f-ab15-0b7fbeb36722",
   "metadata": {},
   "source": [
    "Tym razem napiszemy kilka metod dostarczających poszczególne komponenty wymagane do zwrócenia obiektu o typie `NewsApi`"
   ]
  },
  {
   "cell_type": "markdown",
   "id": "fb7536d7-90f8-4214-a0e6-f68fd91c01e8",
   "metadata": {},
   "source": [
    "Rozpocznijmy od dodaania metody dostarczającej iinstancję `LoggingInterceptor`"
   ]
  },
  {
   "cell_type": "code",
   "execution_count": null,
   "id": "2d747d56-297b-4047-8547-1c04d7eca220",
   "metadata": {},
   "outputs": [],
   "source": [
    "    @Provides\n",
    "    @Singleton\n",
    "    fun provideLoggingInterceptor(): HttpLoggingInterceptor{\n",
    "        val interceptor = HttpLoggingInterceptor()\n",
    "        interceptor.setLevel(HttpLoggingInterceptor.Level.BODY)\n",
    "        return interceptor\n",
    "    }"
   ]
  },
  {
   "cell_type": "markdown",
   "id": "c96c2c37-11d9-4a33-8f76-e1d722b89b8f",
   "metadata": {},
   "source": [
    "Następnie potrzebujemy `OkHttpClient`"
   ]
  },
  {
   "cell_type": "code",
   "execution_count": null,
   "id": "8e8d2b63-2e8e-47ec-b42d-28dca1662fab",
   "metadata": {},
   "outputs": [],
   "source": [
    "    @Provides\n",
    "    @Singleton\n",
    "    fun provideOkHttpClient(interceptor: HttpLoggingInterceptor): OkHttpClient =\n",
    "        OkHttpClient.Builder()\n",
    "            .addInterceptor(interceptor)\n",
    "            .build()"
   ]
  },
  {
   "cell_type": "markdown",
   "id": "dbe876e7-fa89-4cec-97e7-4d3bee652c80",
   "metadata": {},
   "source": [
    "oraz instancję `Retrofit`"
   ]
  },
  {
   "cell_type": "code",
   "execution_count": null,
   "id": "0d11abff-9d09-43cb-af72-b582c6720835",
   "metadata": {},
   "outputs": [],
   "source": [
    "    @Provides\n",
    "    @Singleton\n",
    "    fun provideRetrofit(client: OkHttpClient): Retrofit =\n",
    "        Retrofit.Builder()\n",
    "            .baseUrl(BASE_URL)\n",
    "            .addConverterFactory(GsonConverterFactory.create())\n",
    "            .client(client)\n",
    "            .build()"
   ]
  },
  {
   "cell_type": "markdown",
   "id": "00c4aced-cd79-4878-98d9-92fad321520b",
   "metadata": {},
   "source": [
    "Ostatecznie dodajemy metodę dostarczającą instancję obiektu o typi `NewsApi`"
   ]
  },
  {
   "cell_type": "code",
   "execution_count": null,
   "id": "08b583bd-dc5d-4eef-bb91-c24401f0db60",
   "metadata": {},
   "outputs": [],
   "source": [
    "    @Provides\n",
    "    @Singleton\n",
    "    fun provideNewsApi(retrofit: Retrofit): NewsApi = retrofit.create(NewsApi::class.java)"
   ]
  },
  {
   "cell_type": "markdown",
   "id": "b5cd9806-6986-412c-a4e4-f33ee412c376",
   "metadata": {},
   "source": [
    "### baza danych `ROOM`"
   ]
  },
  {
   "cell_type": "markdown",
   "id": "e1a6576f-e903-4a22-95ad-4ebc05658c44",
   "metadata": {},
   "source": [
    "Do pakietu `data.db.entities` dodajmy klasę `NewsArticle`, reprezentującą tabelę w naszej bazie"
   ]
  },
  {
   "cell_type": "code",
   "execution_count": null,
   "id": "e3d65aa7-8908-4edc-aa99-eb9ea9a2911a",
   "metadata": {},
   "outputs": [],
   "source": [
    "@Entity(tableName = \"articles\")\n",
    "data class NewsArticle (\n",
    "    val description: String?,\n",
    "    val imageUrl: String?,\n",
    "    @PrimaryKey val url: String,\n",
    "    val title: String?,\n",
    "    val isFavorite: Boolean,\n",
    "    val lastUpdate: Long = System.currentTimeMillis()\n",
    ")"
   ]
  },
  {
   "cell_type": "markdown",
   "id": "6b724dc9-fb49-46e7-b7e7-f745d1bf322b",
   "metadata": {},
   "source": [
    "Zawiera ona dodatkowe pola\n",
    "- `isFavorite` - czy artykuł został dodany do ulubionych\n",
    "- `lastUpdate` - przechowujemy czas utworzenia artykułu - wykorzystamy tą informację do czyszczenia bazy ze starych elementów.\n",
    "\n",
    "Jako klucz główny wykorzystamy adres url artykułu, który jest unikalny."
   ]
  },
  {
   "cell_type": "markdown",
   "id": "48147510-1e9e-4009-8140-ca24802325ae",
   "metadata": {},
   "source": [
    "Nasza aplikacja będzie wykorzystywać zasadę *single source of truth* - innymi słowy, posiadamy dokładnie jedną tabelę (`NewsArticle`), która zawsze posiada zaktualizowane dane.\n",
    "\n",
    "Tutaj napotykamy problem, ponieważ chceemy również posiadać zapisane ulubione artykuły. W przypadku zastosowania jednej tabeli możemy posłużyć się flagę `isFavorite` do uzyskania listy ulubionych. Jednak problem występuje, gdy chcemy dostać listę najnowszych artykułów - wiemy że jest 10 artykułów, jeżeli użytkownik doda 4 artykuły do ulubionych i następnie odświeży listę, na liście może znaleźć się 10, 11, 12, 13, lub 14 artykułów - innymi słowy możliwa jest sytuacja w której artykuł może znajdować się na liście ulubionych i być w liście najświeższych. Można zastosować *timestamp* podczas dodania i aktualizacji, wtedy listę świeżych artykułów otrzymamy sortując po czasie dodania/aktualizacji i wyciągnięciu pierwszych 10 artykułów - niezależnie od pola `isFavorite`.\n",
    "\n",
    "Możemy mieć sytuację w której nie jest proste określenie dokładnie które elementy będą przynależeć do której listy. W momencie gdy nie posiadamy dwóch wyróżników (ulubione, najnowsze), tylko cztery lub więcej, napotkamy problem który może nie być łatwy do rozwiązania.\n",
    "\n",
    "W naszym przypadku, naturalnym rozwiązaniem wydaje się być zastosowanie dwóch niezależnych tabel - jedną dla listy ulubionych oraz drugą dla listy najnowszych - jednak to łamie zasadę *single source of truth*, oraz występuje problem z synchronizacją danych (musimy się upewnić że dane w obu tabelach są aktualne).\n",
    "\n",
    "W aplikacji zastosujemy drugą tabelę `LatestNews`, będzie ona przechowywała tylko niezbędne informacje - tutaj będzie to wyróżnik artykułu (`url`) (pakiet `data.db.entities`)"
   ]
  },
  {
   "cell_type": "code",
   "execution_count": null,
   "id": "914e07cd-2960-436e-8def-ef7a381e5473",
   "metadata": {},
   "outputs": [],
   "source": [
    "@Entity(tableName = \"latest_news\")\n",
    "data class LatestNews (\n",
    "    val articleUrl: String,\n",
    "    @PrimaryKey(autoGenerate = true) val id: Int = 0\n",
    ")"
   ]
  },
  {
   "cell_type": "markdown",
   "id": "90389351-0b61-405f-b097-2fde795c9468",
   "metadata": {},
   "source": [
    "Aby dostać listę najnowszych artykułów wykorzystamy `INNER JOIN` - na podstawie danych zawartych w tabeli `latest_news`, wyciągniemy dane z tabeli `articles`.\n",
    "\n",
    "Do pakietu `db` dodajmy interfejs `ArticleDao`. Potrzebujemy metodę dodającą listę artykułów do tabeli `articles`."
   ]
  },
  {
   "cell_type": "code",
   "execution_count": null,
   "id": "df60e801-fa62-4b9e-8ed7-15350590b72d",
   "metadata": {},
   "outputs": [],
   "source": [
    "@Dao\n",
    "interface ArticleDao {\n",
    "    \n",
    "    @Insert(onConflict = REPLACE)\n",
    "    suspend fun insertArticles(articles: List<NewsArticle>)"
   ]
  },
  {
   "cell_type": "markdown",
   "id": "bf4be935-4304-438a-90b7-0af7b219d16c",
   "metadata": {},
   "source": [
    "Następnie dodajmy metodę dodającą listę najnowszych artykułów do tabeli `latest_news`"
   ]
  },
  {
   "cell_type": "code",
   "execution_count": null,
   "id": "11b00293-1fec-440e-b18a-c3865b5f728c",
   "metadata": {},
   "outputs": [],
   "source": [
    "    @Insert(onConflict = REPLACE)\n",
    "    suspend fun insertLatestNews(latestNews: List<LatestNews>)"
   ]
  },
  {
   "cell_type": "markdown",
   "id": "fed110e5-d816-4fc5-a579-c22fb54cc036",
   "metadata": {},
   "source": [
    "Potrzebujemy również metodę aktualizującą artykuł"
   ]
  },
  {
   "cell_type": "code",
   "execution_count": null,
   "id": "e756f3ac-420f-4cb8-a2e2-0043b36608c2",
   "metadata": {},
   "outputs": [],
   "source": [
    "    @Update\n",
    "    suspend fun updateArticle(newsArticle: NewsArticle)"
   ]
  },
  {
   "cell_type": "markdown",
   "id": "42bc51fd-0bd2-454d-a549-8c21e579cdd1",
   "metadata": {},
   "source": [
    "Ponieważ wykorzystujemy *offline caching*, musimy mieć możliwość usunięcia wszystkich artykułów z tabeli `latest_news`"
   ]
  },
  {
   "cell_type": "code",
   "execution_count": null,
   "id": "4475ff07-7bd5-4648-ac44-e948a78cf58b",
   "metadata": {},
   "outputs": [],
   "source": [
    "    @Query(\"DELETE FROM latest_news\")\n",
    "    suspend fun delete()"
   ]
  },
  {
   "cell_type": "markdown",
   "id": "7eefac97-503a-4703-8060-58d4ca64df70",
   "metadata": {},
   "source": [
    "Z tabeli `articles` usuwanie będzie automatycznie, po określonym czasie - tutaj musimyn się upewnić że usuwany artykuł nie jest ulubionym."
   ]
  },
  {
   "cell_type": "code",
   "execution_count": null,
   "id": "276d85b0-a960-4071-a8a4-fe8f2d499a21",
   "metadata": {},
   "outputs": [],
   "source": [
    "    @Query(\"DELETE FROM articles WHERE lastUpdate < :timeStampInMillis AND isFavorite = 0\")\n",
    "    suspend fun deleteNotFavoriteOlderThan(timeStampInMillis: Long)"
   ]
  },
  {
   "cell_type": "markdown",
   "id": "3ab03578-a113-49e9-b682-37638cf36daa",
   "metadata": {},
   "source": [
    "Pozostają dwie metody zwracające listę najnowszych artykułów jako `Flow` oraz listę wszystkich ulubionych artykułów (również `Flow`)"
   ]
  },
  {
   "cell_type": "code",
   "execution_count": null,
   "id": "c37579ce-c0fd-4e1b-b61a-bd3a699c9f1d",
   "metadata": {},
   "outputs": [],
   "source": [
    "    @Query(\"SELECT * FROM latest_news INNER JOIN articles ON articleUrl = url\")\n",
    "    fun getAllLatestNewsArticles(): Flow<List<NewsArticle>>\n",
    "    \n",
    "    @Query(\"SELECT * FROM articles WHERE isFavorite = 1\")\n",
    "    fun getAllFavorite(): Flow<List<NewsArticle>>"
   ]
  },
  {
   "cell_type": "markdown",
   "id": "c9497e1d-e671-4795-82f6-5584afbee72f",
   "metadata": {},
   "source": [
    "Kolejnym elementem będzie utworzenie klasy abstrakcyjnej `ArticleDatabase` (pakiet `db`)"
   ]
  },
  {
   "cell_type": "code",
   "execution_count": null,
   "id": "c4a04147-d935-4122-a570-16e8a9e9ce41",
   "metadata": {},
   "outputs": [],
   "source": [
    "@Database(entities = [NewsArticle::class, LatestNews::class], version = 1, exportSchema = false)\n",
    "abstract class ArticlesDatabase : RoomDatabase() {\n",
    "\n",
    "    abstract fun articleDao(): ArticleDao\n",
    "}"
   ]
  },
  {
   "cell_type": "markdown",
   "id": "318a4b89-e4ff-41e7-a45c-d13f54d56d13",
   "metadata": {},
   "source": [
    "Do `AppModule` dodajemy metodę dostępową"
   ]
  },
  {
   "cell_type": "code",
   "execution_count": null,
   "id": "4158a6d9-3494-4c32-af87-5620eb0eff5b",
   "metadata": {},
   "outputs": [],
   "source": [
    "    @Provides\n",
    "    @Singleton\n",
    "    fun provideArticlesDatabase(app: Application): ArticlesDatabase =\n",
    "        Room.databaseBuilder(app, ArticlesDatabase::class.java, DATABASE_NAME)\n",
    "            .build()"
   ]
  },
  {
   "cell_type": "markdown",
   "id": "c5d10cef-1afe-4188-8858-6029373bea2e",
   "metadata": {},
   "source": [
    "### *Dependency Injection*"
   ]
  },
  {
   "cell_type": "markdown",
   "id": "20f9fd62-60d9-4a76-909e-6d720b7af0f0",
   "metadata": {},
   "source": [
    "Dodajmy klasę główną aplikacji w pakiecie głównym"
   ]
  },
  {
   "cell_type": "code",
   "execution_count": null,
   "id": "015da0f7-b2e4-408b-964a-21a2ffb41f1d",
   "metadata": {},
   "outputs": [],
   "source": [
    "@HiltAndroidApp\n",
    "class PolishNewsApplication : Application()"
   ]
  },
  {
   "cell_type": "markdown",
   "id": "e4812742-8e1c-40b3-b319-51a732965bb6",
   "metadata": {},
   "source": [
    "Dodajmy odpowiedni wpis w `AndroidManifest`"
   ]
  },
  {
   "cell_type": "code",
   "execution_count": null,
   "id": "3d8a3769-bb9d-4c08-8dd0-13683118275b",
   "metadata": {},
   "outputs": [],
   "source": [
    "<application\n",
    "    android:name=\".PolishNewsApplication\""
   ]
  },
  {
   "cell_type": "markdown",
   "id": "ab81c898-cf3c-4f8b-8265-819494c911e7",
   "metadata": {},
   "source": [
    "`MainActivity` oraz oba fragmenty adnotujemy przez `@AndroidEntryPoint`"
   ]
  },
  {
   "cell_type": "code",
   "execution_count": null,
   "id": "c328a0c4-176a-4057-b9f9-b50e175a839d",
   "metadata": {},
   "outputs": [],
   "source": [
    "@AndroidEntryPoint\n",
    "class MainActivity : AppCompatActivity() {"
   ]
  },
  {
   "cell_type": "code",
   "execution_count": null,
   "id": "217c818c-bf39-4581-80f7-02e8b3ab3092",
   "metadata": {},
   "outputs": [],
   "source": [
    "@AndroidEntryPoint\n",
    "class LatestNewsFragment : Fragment() {"
   ]
  },
  {
   "cell_type": "code",
   "execution_count": null,
   "id": "c5b3b5b0-2c11-4027-9a57-cae39492121b",
   "metadata": {},
   "outputs": [],
   "source": [
    "@AndroidEntryPoint\n",
    "class FavoriteNewsFragment : Fragment() {"
   ]
  },
  {
   "cell_type": "markdown",
   "id": "15434190-c3b9-4e5c-8383-5f7277c45b0a",
   "metadata": {},
   "source": [
    "### `NetworkBoundResource`"
   ]
  },
  {
   "cell_type": "markdown",
   "id": "4b24ba54-dc3b-4fe4-919d-8bbecb80e81e",
   "metadata": {},
   "source": [
    "Zanim dodamy repozytorium, zaimplementujmy funkcję `networkBoundResource`. Dodajmy klasę `Resources` do pakietu `util`"
   ]
  },
  {
   "cell_type": "code",
   "execution_count": null,
   "id": "1e3b93d5-6294-41e5-8712-6fb72aee442c",
   "metadata": {},
   "outputs": [],
   "source": [
    "sealed class Resource<T>(\n",
    "    val data: T? = null,\n",
    "    val throwable: Throwable? = null\n",
    ") {\n",
    "    class Success<T>(data: T) : Resource<T>(data)\n",
    "    class Error<T>(throwable: Throwable, data: T? = null) : Resource<T>(data, throwable)\n",
    "    class Loading<T>(data: T? = null) : Resource<T>(data)\n",
    "}"
   ]
  },
  {
   "cell_type": "markdown",
   "id": "dc571add-e424-4cbf-826d-206d4399402c",
   "metadata": {},
   "source": [
    "Funkcja `networkBoundResource` będzie podobna do zaimplementowanej w poprzednim przykładzie, pierwsze cztery argumenty pozostają takie same"
   ]
  },
  {
   "cell_type": "code",
   "execution_count": null,
   "id": "60f11a02-f293-41e9-b448-5a208de2001f",
   "metadata": {},
   "outputs": [],
   "source": [
    "inline fun <ResultType, RequestType> networkBoundResource(\n",
    "    crossinline query: () -> Flow<ResultType>,\n",
    "    crossinline fetch: suspend () -> RequestType,\n",
    "    crossinline saveFetchResult: suspend (RequestType) -> Unit,\n",
    "    crossinline shouldFetch: (ResultType) -> Boolean = {true},"
   ]
  },
  {
   "cell_type": "markdown",
   "id": "a214d77f-4303-49c9-a977-a976df539133",
   "metadata": {},
   "source": [
    "Ponieważ chcemy obsłużyć błędy i pokazać odpowiedni komunikat użytkownikowi, dodamy dwa argumenty - odpowiadają one stanom `Error` oraz `Success`"
   ]
  },
  {
   "cell_type": "code",
   "execution_count": null,
   "id": "c14b1393-5cbd-4c5b-8199-079cca69ac54",
   "metadata": {},
   "outputs": [],
   "source": [
    "    crossinline fetchFailed: (Throwable) -> Unit = {},\n",
    "    crossinline fetchSuccess: () -> Unit = {}\n",
    ")"
   ]
  },
  {
   "cell_type": "markdown",
   "id": "2fb1d27f-1a45-4002-85a5-a09b9f8b6132",
   "metadata": {},
   "source": [
    "W poprzednim przykładzie tworzyliśmy `Flow`, tym razem wykorzystamy *builder* `ChannelFlow`."
   ]
  },
  {
   "cell_type": "code",
   "execution_count": null,
   "id": "ce4c3e4d-982c-49e3-8d1f-fac3e1a71a38",
   "metadata": {},
   "outputs": [],
   "source": [
    ") = channelFlow {"
   ]
  },
  {
   "cell_type": "markdown",
   "id": "6ee53149-0640-46f4-a575-cd93406382f4",
   "metadata": {},
   "source": [
    "Gdy chcemy dostać dane z serwera, emitujemy stan `Resource.Loading` zawierający zapisane dane (*cached data*), dzięki temu podczas ładowania możemy użytkownikowi pokazać aktualne dane które mamy zapisane lokalnie. Następnie wykonujemy `fetch` i emitujemy stan (`Resource.Error` lub `Resource.Success`). Po zakończeniu `fetch` funkcja `networkBoundResource` emituje aktualizacje bazy (otrzymane dane).\n",
    "\n",
    "W naszej aplikacji mamy możliwość dodania artykułu do ulubionych - przez kliknięcie. To może prowadzić do pewnych problemów. Korzystając z `Flow`, stan jest emitowany po zakończeniu całego bloku - innymi słowy musimy dostać odpowiedź z serwera (`Error` lub `Success`) aby móc wyemitować dane - jakiekolwiek zmiany na ui podczas ładowania (`Loading`) będą niedozwolone - więc, jeżeli użytkownik podczas ładowania będzie chciał dodać artykuł do ulubionych, wykorzystując zwykły `Flow`, nie będziemy w stanie zaktualizować ui. Aby taką funkcjonalność móc zapewnić, musimy mieć zapewnione aktualizacje podczas stanu ładowania.\n",
    "\n",
    "Dzięki zastosowaniu `ChannelFlow` możemy wykonać zadania współbieżnie - możemy otrzymywać aktualizacje podczas stanu ładowania za pomocą drugiej instancji `Flow`. W momencie gdy dostaniemy stan `Success` lub `Error` możemy zakończyć działanie `Flow` wykorzystywanego podczas stanu `Loading`."
   ]
  },
  {
   "cell_type": "markdown",
   "id": "1cc344c5-d090-4945-b87b-f07db5eef603",
   "metadata": {},
   "source": [
    "W pierwszej kolejności chcemy dostać aktualne dane z bazy i sprawdzić czy chcemy wykonać aktualizację."
   ]
  },
  {
   "cell_type": "code",
   "execution_count": null,
   "id": "fa5586a4-0291-4a39-a794-709f91d8736e",
   "metadata": {},
   "outputs": [],
   "source": [
    "    val data = query().first()\n",
    "    if (shouldFetch(data)){"
   ]
  },
  {
   "cell_type": "markdown",
   "id": "3dbba1f7-db6e-41f7-9667-b21428b4716d",
   "metadata": {},
   "source": [
    "Funkcja `query` zwraca `Flow` z danymi z bazy, wywołujemy funkcję `first` ponieważ chcemy pobrać tylko jedne raz dane (pojjedynczą kopię listy) -- innymi słowy, funkcja `first` jest tożsama z funkcją `collect`, lecz po otrzymaniu danych zatrzymuje działanie."
   ]
  },
  {
   "cell_type": "markdown",
   "id": "dd9394d2-13cd-4307-8d6c-101f2219c09d",
   "metadata": {},
   "source": [
    "W bloku `if` chcemy wyemitować stan `Loading` (współbieżnie), wykonujemy to przez wykorzystanie `Coroutine`"
   ]
  },
  {
   "cell_type": "code",
   "execution_count": null,
   "id": "92b5fd56-70e4-4347-8843-410673ea1aff",
   "metadata": {},
   "outputs": [],
   "source": [
    "        val loading = launch { query().collect{send(Resource.Loading(it))} }"
   ]
  },
  {
   "cell_type": "markdown",
   "id": "02afeebc-5132-41c6-9744-1fa62b07a372",
   "metadata": {},
   "source": [
    "Wartość zwracaną przechowujemy w `loading` aby móc zatrzymać wykonanie. `launch` uruchamia `Coroutine` wewnątrz naszego kanału. Wywołujemy metodę `collect` - zbiera każdą wartość wyemitowaną przez bazę (tutaj dostaniemy zmianę wartości `isFavorite`). Następnie chcemy wysłać dane (wyemitować) wraz ze stanem `Loading` za pomocą metody `send`.\n",
    "\n",
    "Następnie chcemy pobrać dane z serwera i zapisac w bazie."
   ]
  },
  {
   "cell_type": "code",
   "execution_count": null,
   "id": "d4e170f9-a56a-4c14-97a8-9ae21e526c33",
   "metadata": {},
   "outputs": [],
   "source": [
    "        saveFetchResult(fetch())"
   ]
  },
  {
   "cell_type": "markdown",
   "id": "00ae44e6-3fba-4844-a314-79f3d5712108",
   "metadata": {},
   "source": [
    "Po zapisaniu danych chcemy wykonać metodę `fetchSuccess` i zatrzymać działanie `Coroutine` z `Flow`v emitującym stan `Loading`"
   ]
  },
  {
   "cell_type": "code",
   "execution_count": null,
   "id": "dec781eb-334e-4912-9c42-93e66deee28b",
   "metadata": {},
   "outputs": [],
   "source": [
    "        fetchSuccess()\n",
    "        loading.cancel()"
   ]
  },
  {
   "cell_type": "markdown",
   "id": "dc21b4a8-3136-40b3-be27-876d4ebafd50",
   "metadata": {},
   "source": [
    "Następnie chcemy wysłać dane ze stanem `Success`"
   ]
  },
  {
   "cell_type": "code",
   "execution_count": null,
   "id": "664dba7f-060b-4d61-8ae0-1bad8ec48fc1",
   "metadata": {},
   "outputs": [],
   "source": [
    "        query().collect { send(Resource.Success(it)) }"
   ]
  },
  {
   "cell_type": "markdown",
   "id": "4a055e34-bf25-4d1d-a71f-c937a39e964a",
   "metadata": {},
   "source": [
    "Jeżeli dostaniemy błąd i pobranie danych z serwera zakończy się niepowodzeniem. Dodajmy blok `try-catch`"
   ]
  },
  {
   "cell_type": "code",
   "execution_count": null,
   "id": "d433b74b-dbd6-4308-a866-6b23f582fb37",
   "metadata": {},
   "outputs": [],
   "source": [
    "        try {\n",
    "            saveFetchResult(fetch())\n",
    "            fetchSuccess()\n",
    "            loading.cancel()\n",
    "            query().collect { send(Resource.Success(it)) }\n",
    "        } catch (t: Throwable) {"
   ]
  },
  {
   "cell_type": "markdown",
   "id": "4a5ba8cc-2717-4619-a8ea-39fe759c802f",
   "metadata": {},
   "source": [
    "W przypadku niepowodzenia chcemy wywołać metodę `fetchFailed` i również zatrzymać działanie `Coroutine` emitującego stan `Loading`"
   ]
  },
  {
   "cell_type": "code",
   "execution_count": null,
   "id": "efa80853-2307-4b26-a084-5a0232f52c35",
   "metadata": {},
   "outputs": [],
   "source": [
    "            fetchFailed(t)\n",
    "            loading.cancel()"
   ]
  },
  {
   "cell_type": "markdown",
   "id": "e4cfeb9e-d451-4268-bdd3-8ef33d848aeb",
   "metadata": {},
   "source": [
    "Następnie wysyłamy błąd i to co otrzymamy, wraz ze stanem `Error`"
   ]
  },
  {
   "cell_type": "code",
   "execution_count": null,
   "id": "6fed9e06-31f3-4598-8827-d49d0eeb4b90",
   "metadata": {},
   "outputs": [],
   "source": [
    "            query().collect{send(Resource.Error(t, it))}"
   ]
  },
  {
   "cell_type": "markdown",
   "id": "8ea1cefa-4ed4-437d-bafc-592aa014304b",
   "metadata": {},
   "source": [
    "Jeżeli `shouldFetch` zwróci `false` - czyli nie musimy wykonywać aktualizacji - wysyłamy dane wraz ze stanem `Success`"
   ]
  },
  {
   "cell_type": "code",
   "execution_count": null,
   "id": "0643dafd-94a2-47a3-a262-88f754b11e56",
   "metadata": {},
   "outputs": [],
   "source": [
    "    } else query().collect{send(Resource.Success(it))}"
   ]
  },
  {
   "cell_type": "markdown",
   "id": "5ac26a60-f611-4f0a-8a1d-3b3911874088",
   "metadata": {},
   "source": [
    "Pełny kod metody"
   ]
  },
  {
   "cell_type": "code",
   "execution_count": null,
   "id": "0dc3e317-5528-4924-8427-69295be186cf",
   "metadata": {},
   "outputs": [],
   "source": [
    "inline fun <ResultType, RequestType> networkBoundResource(\n",
    "    crossinline query: () -> Flow<ResultType>,\n",
    "    crossinline fetch: suspend () -> RequestType,\n",
    "    crossinline saveFetchResult: suspend (RequestType) -> Unit,\n",
    "    crossinline shouldFetch: (ResultType) -> Boolean = {true},\n",
    "    crossinline fetchFailed: (Throwable) -> Unit = {},\n",
    "    crossinline fetchSuccess: () -> Unit = {}\n",
    ") = channelFlow {\n",
    "    val data = query().first()\n",
    "    if (shouldFetch(data)){\n",
    "        val loading = launch { query().collect{send(Resource.Loading(it))} }\n",
    "        try {\n",
    "            saveFetchResult(fetch())\n",
    "            fetchSuccess()\n",
    "            loading.cancel()\n",
    "            query().collect { send(Resource.Success(it)) }\n",
    "        } catch (t: Throwable) {\n",
    "            fetchFailed(t)\n",
    "            loading.cancel()\n",
    "            query().collect{send(Resource.Error(t, it))}\n",
    "        }\n",
    "    } else query().collect{send(Resource.Success(it))}\n",
    "}"
   ]
  },
  {
   "cell_type": "markdown",
   "id": "5ce1651c-8306-44c9-adc0-23ec9f76cbba",
   "metadata": {},
   "source": [
    "### Repozytorium"
   ]
  },
  {
   "cell_type": "markdown",
   "id": "8cd3b69f-da13-4a5a-ba1a-2a41c87cbbe5",
   "metadata": {},
   "source": [
    "Możemy dodać do aplikacji repozytorium - tutaj dodamy logikę odświeżania. Wykorzystamy również wstrzykiwanie przez kosntruktor."
   ]
  },
  {
   "cell_type": "code",
   "execution_count": null,
   "id": "c08ea40c-4d00-4d34-a77e-233119113a54",
   "metadata": {},
   "outputs": [],
   "source": [
    "class NewsRepository @Inject constructor (\n",
    "    private val api: NewsApi,\n",
    "    private val db: ArticlesDatabase\n",
    ") {\n",
    "    private val dao = db.articleDao()"
   ]
  },
  {
   "cell_type": "markdown",
   "id": "6e90a906-a705-4125-bf67-c9c6cd6af851",
   "metadata": {},
   "source": [
    "Dodajmy metodę aktualizującą artykuł w bazie"
   ]
  },
  {
   "cell_type": "code",
   "execution_count": null,
   "id": "7db30c42-724e-403e-8edd-4fc983467292",
   "metadata": {},
   "outputs": [],
   "source": [
    "suspend fun updateArticle(newsArticle: NewsArticle) = dao.updateArticle(newsArticle)"
   ]
  },
  {
   "cell_type": "markdown",
   "id": "34472ddb-4e32-40c7-b6a8-1258b185a106",
   "metadata": {},
   "source": [
    "Następnie potrzebujemy metodę zwracającą strumień wszystkich artykułów"
   ]
  },
  {
   "cell_type": "code",
   "execution_count": null,
   "id": "85a2d2e0-605b-45d1-b65d-35586d64b096",
   "metadata": {},
   "outputs": [],
   "source": [
    "fun getAllFavoriteArticles(): Flow<List<NewsArticle>> = dao.getAllFavorite()"
   ]
  },
  {
   "cell_type": "markdown",
   "id": "732bb78a-38f5-4565-8ccf-720c57c287db",
   "metadata": {},
   "source": [
    "Oraz metodę usuwającą artykuły, które nie są ulubione - tutaj chcemy usunąć artykuły co określoną ilość czasu."
   ]
  },
  {
   "cell_type": "code",
   "execution_count": null,
   "id": "71c9ec9a-5702-41b0-94b6-c9b40d9e6ca7",
   "metadata": {},
   "outputs": [],
   "source": [
    "suspend fun deleteNonFavoriteArticlesOlderThan(timeStampInMillis: Long) = \n",
    "    dao.deleteNotFavoriteOlderThan(timeStampInMillis)"
   ]
  },
  {
   "cell_type": "markdown",
   "id": "e4c2c0f9-cbe0-49af-aaab-c25136f90b60",
   "metadata": {},
   "source": [
    "Na koniec dodajmy funkcję `getLatestNews` przyjmującą trzy argumenty\n",
    "- `requestRefresh` - zmienna `Boolean` określająca czy chcemy odświeżyć \n",
    "- `fetchFail`, `fetchSucces` - funkcje, które chcemy zaimplementować z `ViewModel`, więc tutaj tylko je przekazujemy.\n",
    "\n",
    "W funkcji wywołujemy `networkBoundResource`."
   ]
  },
  {
   "cell_type": "code",
   "execution_count": null,
   "id": "e857ed84-7c62-4be8-b8c7-b790a94384a1",
   "metadata": {},
   "outputs": [],
   "source": [
    "fun getLatestNews(\n",
    "    requestRefresh: Boolean,\n",
    "    fetchFail: (Throwable) -> Unit,\n",
    "    fetchSuccess: () -> Unit): Flow<Resource<List<NewsArticle>>> = networkBoundResource("
   ]
  },
  {
   "cell_type": "markdown",
   "id": "3ff312d5-f40a-4381-b813-abe6b16475ba",
   "metadata": {},
   "source": [
    "Musimy podać sześć argumentów, pierwszym będzie funkcja zwracająca najnowsze artykuły z bazy."
   ]
  },
  {
   "cell_type": "code",
   "execution_count": null,
   "id": "364c40fe-1633-4e67-a1d5-6a755da5c7dd",
   "metadata": {},
   "outputs": [],
   "source": [
    "    query = {dao.getAllLatestNewsArticles()},"
   ]
  },
  {
   "cell_type": "markdown",
   "id": "e9612fa7-adaf-4e56-9a17-9b86a1da27b8",
   "metadata": {},
   "source": [
    "Następnie podajmy funkcję zwracającą listę artykułów z serwera - tutaj posłużymy się argumentem `pageNumber` aby za każdym razem zwrócić listę 10 artykułów z losowej strony."
   ]
  },
  {
   "cell_type": "code",
   "execution_count": null,
   "id": "dd5e5ac9-c084-422e-acf6-252b7feb709d",
   "metadata": {},
   "outputs": [],
   "source": [
    "    fetch = {\n",
    "        val response = api.getLatestNews(Random.nextInt(1, 40))\n",
    "        response.results\n",
    "    },"
   ]
  },
  {
   "cell_type": "markdown",
   "id": "912abbeb-9142-452a-b42f-40ade1cc0c5d",
   "metadata": {},
   "source": [
    "Następnym argumentem bedzie funkcja `saveAndFetch`. Funkcja przyjmuje listę arykułów pobranych z serwera. Chcemy umieścić artykuły w bazie, ponieważ mamy dwie tabele, musimy zaktualizować obie."
   ]
  },
  {
   "cell_type": "code",
   "execution_count": null,
   "id": "047f91dc-1457-45c1-a817-82d349782460",
   "metadata": {},
   "outputs": [],
   "source": [
    "    saveFetchResult = { articles ->"
   ]
  },
  {
   "cell_type": "markdown",
   "id": "4704e7de-4172-403f-831e-1222f9a82eb3",
   "metadata": {},
   "source": [
    "Musimy określić które artykuły na świeżo pobranej liście znajdują się już w bazie i są oznaczone jako ulubione. W tym celu pobieramy listę uliubionych artykułów."
   ]
  },
  {
   "cell_type": "code",
   "execution_count": null,
   "id": "32d07ab9-859d-4159-b05b-78fff4fd6ef1",
   "metadata": {},
   "outputs": [],
   "source": [
    "        val favoriteArticles = dao.getAllFavorite().first()"
   ]
  },
  {
   "cell_type": "markdown",
   "id": "60296741-fe46-43ba-874c-af19492ca4a1",
   "metadata": {},
   "source": [
    "Tworzymy wartość `news` zawierającą artykuły, które chcemy dodać do bazy `articles`"
   ]
  },
  {
   "cell_type": "code",
   "execution_count": null,
   "id": "09276caf-b3cf-42d7-9ca7-c747b2488add",
   "metadata": {},
   "outputs": [],
   "source": [
    "        val news = articles.map { article ->"
   ]
  },
  {
   "cell_type": "markdown",
   "id": "8f12f5c6-96ea-444b-8555-a49d1cb931a8",
   "metadata": {},
   "source": [
    "Sprawdzamy, czy artykuł na liście znajduje się w `favoriteArticles` i zapisujemy wynik, który później wykorzystamy do utworzenia obiektów `NewsArticle`, które dodamy do bazy `articles`"
   ]
  },
  {
   "cell_type": "code",
   "execution_count": null,
   "id": "f24dac29-eb8b-4ea8-8e90-408fa0bcdd7c",
   "metadata": {},
   "outputs": [],
   "source": [
    "            val isFavorite = favoriteArticles.any { it.url == article.link }"
   ]
  },
  {
   "cell_type": "markdown",
   "id": "e77573e4-2895-4a1d-84c3-b7ad6b4eee20",
   "metadata": {},
   "source": [
    "Następnie tworzymy obiekt `NewsArticle`, który dodawany jest do listy `news`"
   ]
  },
  {
   "cell_type": "code",
   "execution_count": null,
   "id": "919159a5-457a-48fb-aad2-a07f6a5e1d5e",
   "metadata": {},
   "outputs": [],
   "source": [
    "    val news = articles.map { article ->\n",
    "        val isFavorite = favoriteArticles.any { it.url == article.link }\n",
    "        NewsArticle(\n",
    "            title = article.title,\n",
    "            url = article.link,\n",
    "            imageUrl = article.image_url,\n",
    "            isFavorite = isFavorite,\n",
    "            description = article.description\n",
    "        )\n",
    "    }"
   ]
  },
  {
   "cell_type": "markdown",
   "id": "5c2e0de7-7317-484f-b595-fc79935b9eef",
   "metadata": {},
   "source": [
    "Dalej, tworzymy listę `latest`, którą dodamy do tabeli `latest_news` - czyli potrzebujemy adresy url ze świeżo utworzonej listy `news`"
   ]
  },
  {
   "cell_type": "code",
   "execution_count": null,
   "id": "f6e0e1b6-f312-4fc8-82b3-c43230f86ed9",
   "metadata": {},
   "outputs": [],
   "source": [
    "    val latest = news.map { article ->\n",
    "        LatestNews(article.url)\n",
    "    }"
   ]
  },
  {
   "cell_type": "markdown",
   "id": "c8bfe1db-b2d6-4572-b5d8-718140cc5f8d",
   "metadata": {},
   "source": [
    "Wykonujemy aktualizację, chcemy się upewnić że wszystkie operacje są wykonane, więc wykorzystujemy `withTransaction`"
   ]
  },
  {
   "cell_type": "code",
   "execution_count": null,
   "id": "fd54bf7d-3c81-4dcb-ad5f-cfa4f5d73bc4",
   "metadata": {},
   "outputs": [],
   "source": [
    "    db.withTransaction {\n",
    "        dao.apply {\n",
    "            delete()\n",
    "            insertArticles(news)\n",
    "            insertLatestNews(latest)\n",
    "        }\n",
    "    }"
   ]
  },
  {
   "cell_type": "markdown",
   "id": "5cba2fcb-59ee-4e7b-84d5-1a49975ae58e",
   "metadata": {},
   "source": [
    "Pełna funkcja `saveFetchResult`"
   ]
  },
  {
   "cell_type": "code",
   "execution_count": null,
   "id": "875e41c4-02d7-40ae-abaa-dac65235dd46",
   "metadata": {},
   "outputs": [],
   "source": [
    "    saveFetchResult = { articles ->\n",
    "        val favoriteArticles = dao.getAllFavorite().first()\n",
    "        val news = articles.map { article ->\n",
    "            val isFavorite = favoriteArticles.any { it.url == article.link }\n",
    "            NewsArticle(\n",
    "                title = article.title,\n",
    "                url = article.link,\n",
    "                imageUrl = article.image_url,\n",
    "                isFavorite = isFavorite,\n",
    "                description = article.description\n",
    "            )\n",
    "        }\n",
    "\n",
    "        val latest = news.map { article ->\n",
    "            LatestNews(article.url)\n",
    "        }\n",
    "\n",
    "        db.withTransaction {\n",
    "            dao.apply {\n",
    "                delete()\n",
    "                insertArticles(news)\n",
    "                insertLatestNews(latest)\n",
    "            }\n",
    "        }\n",
    "    },"
   ]
  },
  {
   "cell_type": "markdown",
   "id": "de0e32db-e924-4e34-ad0b-3ebd398a62dd",
   "metadata": {},
   "source": [
    "Jako `fetchSuccess` przekazujemy `fetchSuccess`, którą dostajemy jako argument metody `getLatestNews`"
   ]
  },
  {
   "cell_type": "code",
   "execution_count": null,
   "id": "55b4b120-da4f-4cb4-b5eb-35058db9b366",
   "metadata": {},
   "outputs": [],
   "source": [
    "    fetchSuccess = fetchSuccess,"
   ]
  },
  {
   "cell_type": "markdown",
   "id": "69804d25-e7ed-403e-9c85-a06ce8802e88",
   "metadata": {},
   "source": [
    "W implementacji `fetchFail` chcemy rzucić wyjątek, którego nie chcemy obsługiwać, w pozostałych przypadkach wykonujemy metodę `fetchFail`, którą dostajemy jako argument `getLatestNews`"
   ]
  },
  {
   "cell_type": "code",
   "execution_count": null,
   "id": "2b822ab9-5707-4137-ae43-2a2993c8cff4",
   "metadata": {},
   "outputs": [],
   "source": [
    "    fetchFailed = { t ->\n",
    "        if (t !is HttpException && t !is IOException)\n",
    "            throw t\n",
    "        fetchFail(t)\n",
    "    },"
   ]
  },
  {
   "cell_type": "markdown",
   "id": "f6e0216d-0361-4245-92ab-347378ada11e",
   "metadata": {},
   "source": [
    "Ostatnim argumentem jest funkcja `shouldFetch` - tutaj zaimplementujemy logikę odświeżania listy. Chcemy odświeżyć jeżeli `requestRefresh`, który dostajemy w argumencie metody ma wartość `true`"
   ]
  },
  {
   "cell_type": "code",
   "execution_count": null,
   "id": "56f5aa35-4c10-4d71-b3ee-e879e448ad09",
   "metadata": {},
   "outputs": [],
   "source": [
    "    shouldFetch = { cached ->\n",
    "        if (requestRefresh) true else {"
   ]
  },
  {
   "cell_type": "markdown",
   "id": "550a69df-c35d-48ec-9e5f-50fea6280607",
   "metadata": {},
   "source": [
    "W przeciwnym razie, chcemy sprawdzić czy minął określony czas. Chcemy odświeżać co 10 minut, więc dodajmy odpowiednią wartość do pliku `Const`"
   ]
  },
  {
   "cell_type": "code",
   "execution_count": null,
   "id": "8fd3dc68-b318-4d8a-9efe-b89bf5c0afca",
   "metadata": {},
   "outputs": [],
   "source": [
    "val TIME_TO_REFRESH_DATA = TimeUnit.MINUTES.toMillis(10)"
   ]
  },
  {
   "cell_type": "markdown",
   "id": "7a2cf3db-1bda-47c1-82eb-3593ce3eaa5f",
   "metadata": {},
   "source": [
    "Sprawdzamy czy różnica między najmniejszą wartością `lastUpdate` z danych w bazie a aktualnym czasem przekracza 10 minut i zwracamy wartość `Boolean`"
   ]
  },
  {
   "cell_type": "code",
   "execution_count": null,
   "id": "94ffdb77-1488-4fad-a235-3e27977e884b",
   "metadata": {},
   "outputs": [],
   "source": [
    "    shouldFetch = { cached ->\n",
    "        if (requestRefresh) true else {\n",
    "        val oldestTimeStamp = cached.minByOrNull { article -> article.lastUpdate }?.lastUpdate\n",
    "        oldestTimeStamp == null || oldestTimeStamp < System.currentTimeMillis() - TIME_TO_REFRESH_DATA\n",
    "        }\n",
    "    }"
   ]
  },
  {
   "cell_type": "markdown",
   "id": "2fcb4ace-89b7-4c74-8660-0b75b7447fb0",
   "metadata": {},
   "source": [
    "### LatestNewsViewModel"
   ]
  },
  {
   "cell_type": "markdown",
   "id": "c7ba2d60-bc39-4734-bfe3-5fe023538bc9",
   "metadata": {},
   "source": [
    "Przejdźmy do pakietu `ui.features.latest` i dodajmy `LatestViewModel`"
   ]
  },
  {
   "cell_type": "code",
   "execution_count": null,
   "id": "a37041d4-2d07-4e8e-9a41-3700e57ef05d",
   "metadata": {},
   "outputs": [],
   "source": [
    "@HiltViewModel\n",
    "class LatestNewsViewModel @Inject constructor(\n",
    "    private val repository: NewsRepository\n",
    ") : ViewModel()"
   ]
  },
  {
   "cell_type": "markdown",
   "id": "c01304eb-97b8-4dc4-ad36-fc2c1fe21d19",
   "metadata": {},
   "source": [
    "Dodajmy kod pozwalający pobrać dane z serwera. "
   ]
  },
  {
   "cell_type": "code",
   "execution_count": null,
   "id": "c28ad225-e9ae-439b-8bc9-a88eee7f7cab",
   "metadata": {},
   "outputs": [],
   "source": [
    "val latestNews = repository.getLatestNews()"
   ]
  },
  {
   "cell_type": "markdown",
   "id": "37e75cbb-4e8e-4d8a-86ee-e8616c93ab7c",
   "metadata": {},
   "source": [
    "Tutaj napotykamy problem, `Flow` który otrzymujemy z funkcji `networkBoundRresource` jest *zimny*, czyli cały blok kodu w funkcji `networkBoundResource` \n",
    "\n",
    "```kotlin\n",
    "// NetworkBoundResource\n",
    " = channelFlow {\n",
    "    val data = query().first()\n",
    "    if (shouldFetch(data)){\n",
    "        val loading = launch { query().collect{send(Resource.Loading(it))} }\n",
    "        try {\n",
    "            saveFetchResult(fetch())\n",
    "            fetchSuccess()\n",
    "            loading.cancel()\n",
    "            query().collect { send(Resource.Success(it)) }\n",
    "        } catch (t: Throwable) {\n",
    "            fetchFailed(t)\n",
    "            loading.cancel()\n",
    "            query().collect{send(Resource.Error(t, it))}\n",
    "        }\n",
    "    } else query().collect{send(Resource.Success(it))}\n",
    "}\n",
    "```\n",
    "\n",
    "\n",
    "będzie wykonany za każdym razem gdy wywołamy metodę `getLatestNews`. Za każdym razem gdy zmienimy odświeżymy fragment (przejdziemy na inny fragment przez nawigację i z powrotem, lub zmienimy orientację urządzenia) metoda `getLatestNews` będzie wywołana, która rozpocznie działanie od początku. Aby tego uniknąć wykoszystamy `StateFlow` - przechowuje swoją ostatnią wartość, więc nie ma konieczności wykonania całego bloku `channelFlow` z funkcji `networkBoundResource`.\n",
    "\n",
    "`StateFlow` możemy utworzyć przez wywołanie metody `stateIn`, przyjmuje ona trzy parametry\n",
    "- `CoroutineScope` - zakres w którym `Flow` będzie zebrany, tutaj wykorzystamy `viewModelScope` co pozwoli na zachowanie stanu podczas zmian cyklu życia fragmentu. Gdy `ViewModel` na zakresie którego `StateFlow` będzie wykorzystany, zostanie zniszczony, sam `StateFlow` zostanie zatrzymany\n",
    "- `SharingStarted` - dzięki temu parametrowi możemy określić, kiedy nasz `StateFlow` staje się aktywny. Tutaj wykorzystamy `SharingStarted.Lazily` - oznacza to, że ten `StateFlow` będzie aktywny dopiero gdy jakiś obiekt rozpocznie zbieranie `latestNews`\n",
    "- `initialValue` - wartość początkowa, tutaj przekazujemy `null`"
   ]
  },
  {
   "cell_type": "code",
   "execution_count": null,
   "id": "12595b15-e119-4bec-9c62-8d52cd66c40d",
   "metadata": {},
   "outputs": [],
   "source": [
    "val latestNews = repository.getLatestNews().stateIn(viewModelScope, SharingStarted.Lazily, null)"
   ]
  },
  {
   "cell_type": "markdown",
   "id": "c8a5302b-d0eb-4a4a-aed4-03d227848736",
   "metadata": {},
   "source": [
    "Kolejnym elementem będzie implementacja metody umożliwiwającej odświeżenie danych z serwera na żądanie - będziemy ją wykorzystywać w odpowiedzi na zdarzenie `swipeToRefresh`."
   ]
  },
  {
   "cell_type": "code",
   "execution_count": null,
   "id": "c5f159b2-f635-4a0f-9037-bedb16561fd5",
   "metadata": {},
   "outputs": [],
   "source": [
    "fun refreshOnDemand() {}"
   ]
  },
  {
   "cell_type": "markdown",
   "id": "252b073f-6205-47f3-acb0-d977dcef938f",
   "metadata": {},
   "source": [
    "Tutaj napotykamy kolejny problem - w jaki sposób możemy ponownie wywołać metodę `getLatestNews` i podłączyć otrzymany `Flow` do zdefiniowanej wcześniej wartości `latestNews`. Niestety nie jest to proste zadanie, ponieważ we fragmencie wykonywana będzie metoda `collect` na poprzedniej wersji `Flow`. Czyli nie mogę zrobić"
   ]
  },
  {
   "cell_type": "code",
   "execution_count": null,
   "id": "f614c700-b7aa-436e-94b6-0440d33f0a76",
   "metadata": {},
   "outputs": [],
   "source": [
    "// tak nie można\n",
    "\n",
    "// dostajemy Flow \"pierwszy\"\n",
    "var latestNews = repository.getLatestNews().stateIn(viewModelScope, SharingStarted.Lazily, null)\n",
    "fun refreshOnDemand() {\n",
    "    // inna instancja Flow \"drugi\"\n",
    "    latestNews = repository.getLatestNews().stateIn(viewModelScope, SharingStarted.Lazily, null)\n",
    "}\n",
    "\n",
    "// Fragment\n",
    "override fun onViewCreated(view: View, savedInstanceState: Bundle?) {\n",
    "    viewLifecycleOwner.lifecycleScope.launchWhenStarted {\n",
    "                viewModel.latestNews.collect{} // zawsze zbieramy z \"pierwszego\" flow\n",
    "}"
   ]
  },
  {
   "cell_type": "markdown",
   "id": "72088a17-e346-4eee-8c79-d7c622cda167",
   "metadata": {},
   "source": [
    "Aby rozwiązać ten problem, wykorzystamy inny obiekt `Flow`, który będzie działał jako *trigger* - gdy wyemituje wartość, nasz `latestNews` `Flow` przełączy się na inny `Flow`.\n",
    "\n",
    "W pierwszej kolejności potrzebujemy `Flow`, który będzie działał jako sygnalista zmian - w tym celu wykorzystujemy *kanały* (`Channel`) - metoda komunikacji pomiędzy dwiema `Coroutines` - `coroutine1` może coś umieścić w kanale, `coroutine2` może odebrać z kanału. Ponieważ sam kanał również dziąła na `Coroutine`, obie strony mogą zawiesić wykonanie w oczekiwaniu na drugą stronę.\n",
    "\n",
    "Wykorzystamy kanała aby umieścić w nim sygnał do przełączenia się na inny `Flow` - chwilowo wykorzystamy typ `Unit`"
   ]
  },
  {
   "cell_type": "code",
   "execution_count": null,
   "id": "59bf9b79-9f7b-4634-8900-c6e0f5936d4a",
   "metadata": {},
   "outputs": [],
   "source": [
    "private val refreshChannelTrigger = Channel<Unit>()"
   ]
  },
  {
   "cell_type": "markdown",
   "id": "0b26439c-b50c-4643-9bf1-64028ba098ac",
   "metadata": {},
   "source": [
    "Do kanału możemy dostarczyć wartości tylko z wewnątrz `Coroutine`"
   ]
  },
  {
   "cell_type": "code",
   "execution_count": null,
   "id": "92700ba1-abb0-4c0d-b7bb-3066600f8feb",
   "metadata": {},
   "outputs": [],
   "source": [
    "fun refreshOnDemand() {\n",
    "        viewModelScope.launch { refreshChannelTrigger.send(Unit) }\n",
    "}"
   ]
  },
  {
   "cell_type": "markdown",
   "id": "3ef43f25-fcb8-4a9a-8d19-fc89e2306468",
   "metadata": {},
   "source": [
    "Na naszym `refreshChannelTrigger` wykonujemy metodę `send` i dostarczamy wartość o typie `Unit` do kanału, sygnalizując konieczność zmiany.\n",
    "\n",
    "Następnie tworzymy następną wartość, w której odbieramy wartość z `refreshChannelTrigger` jak `Flow`"
   ]
  },
  {
   "cell_type": "code",
   "execution_count": null,
   "id": "d68df12f-f135-4a8d-9f94-95b4fce16fee",
   "metadata": {},
   "outputs": [],
   "source": [
    "private val refreshTrigger = refreshChannelTrigger.receiveAsFlow()"
   ]
  },
  {
   "cell_type": "markdown",
   "id": "59613864-f58d-4177-861f-e311d2f052b2",
   "metadata": {},
   "source": [
    "Teraz możemy dostać sygnały do zmiany przez strumień `refreshTrigger` - jest to *ciepłe* lub *gorące* źródło danych - produkuje wartości niezależnie od tego czy jest zbieranee czy nie.\n",
    "\n",
    "Teraz dodajmy funkcjonalność do wartości `latestNews`"
   ]
  },
  {
   "cell_type": "code",
   "execution_count": null,
   "id": "c802a914-68c6-4780-a6c7-fd8833f56dba",
   "metadata": {},
   "outputs": [],
   "source": [
    "val latestNews = refreshTrigger.flatMapLatest {\n",
    "    repository.getLatestNews()\n",
    "}.stateIn(viewModelScope, SharingStarted.Lazily, null)"
   ]
  },
  {
   "cell_type": "markdown",
   "id": "699b9ebc-5dee-4127-a60b-2add2218b854",
   "metadata": {},
   "source": [
    "Za każdym razem gdy pojawi się wartość o typie `Unit` (czyli zostanie zasygnalizowana zmiana), zostanie wywołany blok `flatMapLatest` i nastąpi przełączenie na `Flow`, który otrzymamy przy wywołaniu `repository.getLatestNews` (poprzedni `Flow` jestb przerywany).\n",
    "\n",
    "Gdybyśmy tutaj wykorzystali `map`, dostalibyśmy `StateFlow<Flow<Resource<List<NewsArticle>>>>`, potrzebujemy `Flow` - dlatego wywołujemy `flatMap` aby otrzymać `Flow<Resource<List<NewsArticle>>>`. Ponieważ za każdym przełączeniem chcemy przerwać działanie poprzedniego `Flow`, wywołujemy `flatMapLatest` \n",
    "\n",
    "Jeżeli już jesteśmy w stanie `Loading`, chcemy zablokować możliwość ponownego odświeżenia."
   ]
  },
  {
   "cell_type": "code",
   "execution_count": null,
   "id": "9ee0ed6b-37aa-4b9e-a042-16c852a910f9",
   "metadata": {},
   "outputs": [],
   "source": [
    "fun refreshOnDemand() {\n",
    "    if (latestNews.value !is Resource.Loading)\n",
    "        viewModelScope.launch { refreshChannelTrigger.send(Unit) }\n",
    "}"
   ]
  },
  {
   "cell_type": "markdown",
   "id": "540adffd-17c8-4c8f-a507-9c2b266ffa2a",
   "metadata": {},
   "source": [
    "Potrzebujemy jeszcze jedną metodę - gdy nasz fragment staje się aktywny chcemy wykonać odświeżenie"
   ]
  },
  {
   "cell_type": "code",
   "execution_count": null,
   "id": "0ab2cd9d-9b0d-4c6f-bddd-b65a3fbc771a",
   "metadata": {},
   "outputs": [],
   "source": [
    "fun refreshOnStart() {\n",
    "    if (latestNews.value !is Resource.Loading)\n",
    "        viewModelScope.launch { refreshChannelTrigger.send(Unit) }\n",
    "}"
   ]
  },
  {
   "cell_type": "markdown",
   "id": "76214940-f646-47eb-b7cc-81b18d3272a8",
   "metadata": {},
   "source": [
    "Wróćmy do `latestNews`"
   ]
  },
  {
   "cell_type": "code",
   "execution_count": null,
   "id": "e033e141-1776-416a-b56c-2e14c8599653",
   "metadata": {},
   "outputs": [],
   "source": [
    "val latestNews = refreshTrigger.flatMapLatest {\n",
    "    repository.getLatestNews()\n",
    "}.stateIn(viewModelScope, SharingStarted.Lazily, null)"
   ]
  },
  {
   "cell_type": "markdown",
   "id": "08771dce-b3fa-4490-b031-cfe416bcc288",
   "metadata": {},
   "source": [
    "`repository.getLatestNews()` wymagając trzech argumentów w celu pokazania odpowiednich błędów i stanu. Jeżeli wystąpi błąd z połączeniem, pokażemy `SnackBar` z kodem błędu. W pierwszej kolejności dodajmy funkcję rozszerzającą do pliku `Util` (pakiet `util`)"
   ]
  },
  {
   "cell_type": "code",
   "execution_count": null,
   "id": "796e51e0-1921-4a04-91d6-4d55a46c96db",
   "metadata": {},
   "outputs": [],
   "source": [
    "fun Fragment.showSnackbar(\n",
    "    message: String,\n",
    "    duration: Int = Snackbar.LENGTH_LONG,\n",
    "    view: View = requireView()\n",
    "){\n",
    "    Snackbar.make(view, message, duration).show()\n",
    "}"
   ]
  },
  {
   "cell_type": "markdown",
   "id": "7414ab91-426b-4b4e-bcdb-641ba8cb97bf",
   "metadata": {},
   "source": [
    "W naszej metodzie `getLatestNews`, jako argument `onFetchFail` chcemy pokazać `SnackBar` z odpowiednim komunikatem."
   ]
  },
  {
   "cell_type": "code",
   "execution_count": null,
   "id": "8b03328a-bd79-428c-a2a9-afe8074c9b46",
   "metadata": {},
   "outputs": [],
   "source": [
    "repository.getLatestNews(\n",
    "    fetchFail = { t ->\n",
    ")"
   ]
  },
  {
   "cell_type": "markdown",
   "id": "337ba3ca-0aba-45f9-9a23-dd55abbf7af9",
   "metadata": {},
   "source": [
    "Tutaj znów napotykamy kłopot - `ViewModel` nie może posiadać referencji do fragmentu, lecz w jakiś sposób musimy wywołać metodę `showSnakcbar`. Zamiast wywoływać metodę wprost, wyemitujemy obserwowalne zdarzenie (`event`) - w tym celu wykorzystamy kanały."
   ]
  },
  {
   "cell_type": "code",
   "execution_count": null,
   "id": "d79c7192-d0e1-4132-8d85-2e44000a88aa",
   "metadata": {},
   "outputs": [],
   "source": [
    "private val eventChannel = Channel<>()"
   ]
  },
  {
   "cell_type": "markdown",
   "id": "75aa47d5-287e-4e19-9cfe-2a3117e6168e",
   "metadata": {},
   "source": [
    "Jako typ utworzymy klasę domkniętą wewnątrz `ViewModel` - analogicznie do klasy `Resources`"
   ]
  },
  {
   "cell_type": "code",
   "execution_count": null,
   "id": "66981503-90d1-4f41-a3f0-8707019e4c31",
   "metadata": {},
   "outputs": [],
   "source": [
    "sealed class Event {\n",
    "    data class ShowErrorMessage(val t: Throwable) : Event()\n",
    "}"
   ]
  },
  {
   "cell_type": "markdown",
   "id": "920a51a5-0658-423b-9398-a9fa079ca5c4",
   "metadata": {},
   "source": [
    "Teraz jako typ możemy wykorzystać `Event`"
   ]
  },
  {
   "cell_type": "code",
   "execution_count": null,
   "id": "d65b2bb9-d674-4c41-94ef-bcc9706d820a",
   "metadata": {},
   "outputs": [],
   "source": [
    "private val eventChannel = Channel<Event>()"
   ]
  },
  {
   "cell_type": "markdown",
   "id": "e0351166-53a1-48d1-9938-5e87f56f03d4",
   "metadata": {},
   "source": [
    "Podobnie jak poprzednio, chcemy posiadać `Flow`, przez który możemy wysłać odpowiednie zdarzenia do fragmentu."
   ]
  },
  {
   "cell_type": "code",
   "execution_count": null,
   "id": "6552bffe-1c83-4709-822c-c9c067ec59df",
   "metadata": {},
   "outputs": [],
   "source": [
    "val events = eventChannel.receiveAsFlow()"
   ]
  },
  {
   "cell_type": "markdown",
   "id": "339277fe-9dd6-494b-bee9-31f98d6ca80f",
   "metadata": {},
   "source": [
    "Zaimplementujmy `onFetchFail` - mnusimy wykorzystać `Coroutines` do przekazania wartości do kanału."
   ]
  },
  {
   "cell_type": "code",
   "execution_count": null,
   "id": "a5d75875-9e2b-406d-b2f9-0da901ab6f46",
   "metadata": {},
   "outputs": [],
   "source": [
    "val latestNews = refreshTrigger.flatMapLatest {\n",
    "    repository.getLatestNews(\n",
    "        fetchFail = { t ->\n",
    "            viewModelScope.launch { eventChannel.send(Event.ShowErrorMessage(t)) }\n",
    "        },     \n",
    "    )\n",
    "}.stateIn(viewModelScope, SharingStarted.Lazily, null)"
   ]
  },
  {
   "cell_type": "markdown",
   "id": "45c842d9-2ea7-41aa-b6fe-8b027ea7d58a",
   "metadata": {},
   "source": [
    "Przy wykonaniu odświeżania danych chcemy również rozpocząć przeglądanie nowych danych od pierwszego elementu, w tym celu musimy przestawić nasz `RecyclerView` na pierwszą pozycję. Ale jednocześnie chcemy uniknąć przewijania do pierwszego elementu przy zmianie i powrocie do fragmentu, lub przy zmianie orientacji urządzenia. W tym celu zdefiniujmy flagę."
   ]
  },
  {
   "cell_type": "code",
   "execution_count": null,
   "id": "aa050891-1ba0-4829-bd57-00216b332a66",
   "metadata": {},
   "outputs": [],
   "source": [
    "var pendingScrollToTop = false"
   ]
  },
  {
   "cell_type": "markdown",
   "id": "7bd6e3cc-264d-4af1-86a3-973fb1393d5b",
   "metadata": {},
   "source": [
    "Przestawmy ją przy wywołaniu `getLatestNews`"
   ]
  },
  {
   "cell_type": "code",
   "execution_count": null,
   "id": "8c6fd6ae-d1f8-46f3-b898-bb177ca5d720",
   "metadata": {},
   "outputs": [],
   "source": [
    "val latestNews = refreshTrigger.flatMapLatest {\n",
    "    repository.getLatestNews(\n",
    "        fetchFail = { t ->\n",
    "            viewModelScope.launch { eventChannel.send(Event.ShowErrorMessage(t)) }\n",
    "        },\n",
    "        fetchSuccess = { pendingScrollToTop = true }\n",
    "    )\n",
    "}.stateIn(viewModelScope, SharingStarted.Lazily, null)"
   ]
  },
  {
   "cell_type": "markdown",
   "id": "eeb1e77c-3a5c-4810-a47c-d0cfdd3940cf",
   "metadata": {},
   "source": [
    "Ostatnim elementem pozostaje logika odświeżania. W repozytorium zimplementowaliśmy `shouldFetch`\n",
    "\n",
    "```kotlin\n",
    "shouldFetch = { cached ->\n",
    "    if (requestRefresh) true else {\n",
    "    val oldestTimeStamp = cached.minByOrNull { article -> article.lastUpdate }?.lastUpdate\n",
    "    oldestTimeStamp == null || oldestTimeStamp < System.currentTimeMillis() - TIME_TO_REFRESH_DATA\n",
    "    }\n",
    "}\n",
    "```\n",
    "\n",
    "Jeżeli `requestRefresh` ma wartość `true`, powinniśmy odświeżyć dane, w przeciwnym razie posługujemy się czasem aby określić czy chcemy odświeżyć. `requestRefresh` jest ostatnim argumentem, który musimy przekazać do funkcji `getLatestNews` w naszym `ViewModel`. Mamy dwa możliwe stany\n",
    "- normalny trry odświeżenia - związany z upłynięcie czasu\n",
    "- odświeżenie na żądanie - przykładowo przy `swipeToRefresh`\n",
    "\n",
    "Aby opisać te dwa stany, wykorzystajmy `enum class`, który umieścimy wewnątrz `ViewModel`"
   ]
  },
  {
   "cell_type": "code",
   "execution_count": null,
   "id": "ea33751f-b87b-4d90-ab1d-d7b74c7c583d",
   "metadata": {},
   "outputs": [],
   "source": [
    "enum class Refresh {\n",
    "    REQUEST, NORMAL\n",
    "}"
   ]
  },
  {
   "cell_type": "markdown",
   "id": "59728e50-f5cc-438a-9ab7-7530e7db2744",
   "metadata": {},
   "source": [
    "Zmodyfikujmy nasze metody `refreshOnDemand` oraz `refreshOnStart`"
   ]
  },
  {
   "cell_type": "code",
   "execution_count": null,
   "id": "802f32a9-5451-4185-aac5-2593adc58197",
   "metadata": {},
   "outputs": [],
   "source": [
    "private val refreshChannelTrigger = Channel<Refresh>()\n",
    "\n",
    "...\n",
    "\n",
    "fun refreshOnDemand() {\n",
    "    if (latestNews.value !is Resource.Loading)\n",
    "        viewModelScope.launch { refreshChannelTrigger.send(Refresh.REQUEST) }\n",
    "}\n",
    "\n",
    "fun refreshOnStart() {\n",
    "    if (latestNews.value !is Resource.Loading)\n",
    "        viewModelScope.launch { refreshChannelTrigger.send(Refresh.NORMAL) }\n",
    "}"
   ]
  },
  {
   "cell_type": "markdown",
   "id": "34a59f76-2ecd-4156-8799-8c1e935016a5",
   "metadata": {},
   "source": [
    "Dodajmy ostatni argument do `getLatestNews`. Ponieważ zmieniliśmy typ naszego sygnalizatora z `Unit` na `Refresh`, `flatMapLatest` dostarczy nam najnowszą wartość - stąd dowiemy się w jakim trybiee chcemy odświeżyć dane"
   ]
  },
  {
   "cell_type": "code",
   "execution_count": null,
   "id": "b09f2c35-d8c0-4b6c-bee2-21446e801186",
   "metadata": {},
   "outputs": [],
   "source": [
    "val latestNews = refreshTrigger.flatMapLatest { refresh ->"
   ]
  },
  {
   "cell_type": "markdown",
   "id": "931e7a20-5789-4de3-b303-73cff513a452",
   "metadata": {},
   "source": [
    "Pierwszym argumentem `getLatestNews` jest `requestRefresh`, w trybie nomalnym chcemy przekazać `flase`, więc możemy zapisać"
   ]
  },
  {
   "cell_type": "code",
   "execution_count": null,
   "id": "3b5c8764-3b35-44a0-862e-e7ad8e6b74a7",
   "metadata": {},
   "outputs": [],
   "source": [
    "refresh == Refresh.REQUEST,"
   ]
  },
  {
   "cell_type": "markdown",
   "id": "c7a22970-83cf-4eb5-969a-3fcb51ced8cc",
   "metadata": {},
   "source": [
    "Ostatnia metod umiżliwia dodanie artykułu do ulubionych"
   ]
  },
  {
   "cell_type": "code",
   "execution_count": null,
   "id": "b97958e7-e4a0-44c0-8d4b-0a0ccf03e7a1",
   "metadata": {},
   "outputs": [],
   "source": [
    "fun addFavorite(newsArticle: NewsArticle){\n",
    "    val favorite = newsArticle.isFavorite\n",
    "    val updatedArticle = newsArticle.copy(isFavorite = !favorite) // tworzę kopię artykułu\n",
    "    viewModelScope.launch { repository.updateArticle(updatedArticle) }\n",
    "}"
   ]
  },
  {
   "cell_type": "markdown",
   "id": "48c49cf1-601e-4827-962c-1375ac28e5a5",
   "metadata": {},
   "source": [
    "Gdy wykorzystujemy reaktywne źródła danych (`LiveData`, `Flow`), powinniśmy wykorzystywać tylko **niemutowalne** właściwości, stąd zastosowanie kopiowania."
   ]
  },
  {
   "cell_type": "markdown",
   "id": "484e8ce0-a3ee-4a08-81db-1908edfa17b8",
   "metadata": {},
   "source": [
    "Pełny kod `LatestViewModel`"
   ]
  },
  {
   "cell_type": "code",
   "execution_count": null,
   "id": "c9e4960a-01ac-4a85-8e4e-924d9e05e88e",
   "metadata": {},
   "outputs": [],
   "source": [
    "@HiltViewModel\n",
    "class LatestNewsViewModel @Inject constructor(private val repository: NewsRepository) : ViewModel() {\n",
    "\n",
    "    private val eventChannel = Channel<Event>()\n",
    "    val events = eventChannel.receiveAsFlow()\n",
    "\n",
    "    private val refreshChannelTrigger = Channel<Refresh>()\n",
    "    private val refreshTrigger = refreshChannelTrigger.receiveAsFlow()\n",
    "\n",
    "    var pendingScrollToTop = false\n",
    "\n",
    "    @OptIn(ExperimentalCoroutinesApi::class)\n",
    "    val latestNews = refreshTrigger.flatMapLatest { refresh ->\n",
    "        repository.getLatestNews(\n",
    "            refresh == Refresh.REQUEST,\n",
    "            fetchFail = { t ->\n",
    "                viewModelScope.launch { eventChannel.send(Event.ShowErrorMessage(t)) }\n",
    "            },\n",
    "            fetchSuccess = { pendingScrollToTop = true }\n",
    "        )\n",
    "    }.stateIn(viewModelScope, SharingStarted.Lazily, null)\n",
    "\n",
    "    init {\n",
    "        viewModelScope.launch {\n",
    "            repository.deleteNonFavoriteArticlesOlderThan(\n",
    "                System.currentTimeMillis() - TIME_TO_DELETE_NOT_FAVORITE_ARTICLES\n",
    "            )\n",
    "        }\n",
    "    }\n",
    "\n",
    "\n",
    "    fun refreshOnDemand() {\n",
    "        if (latestNews.value !is Resource.Loading)\n",
    "            viewModelScope.launch { refreshChannelTrigger.send(Refresh.REQUEST) }\n",
    "    }\n",
    "\n",
    "    fun refreshOnStart() {\n",
    "        if (latestNews.value !is Resource.Loading)\n",
    "            viewModelScope.launch { refreshChannelTrigger.send(Refresh.NORMAL) }\n",
    "    }\n",
    "    \n",
    "    fun addFavorite(newsArticle: NewsArticle){\n",
    "        val favorite = newsArticle.isFavorite\n",
    "        val updatedArticle = newsArticle.copy(isFavorite = !favorite)\n",
    "        viewModelScope.launch { repository.updateArticle(updatedArticle) }\n",
    "    }\n",
    "\n",
    "    enum class Refresh {\n",
    "        REQUEST, NORMAL\n",
    "    }\n",
    "\n",
    "    sealed class Event {\n",
    "        data class ShowErrorMessage(val t: Throwable) : Event()\n",
    "    }\n",
    "}"
   ]
  },
  {
   "cell_type": "markdown",
   "id": "ab4e17b2-5c79-4567-bb31-262f1cb8e76c",
   "metadata": {},
   "source": [
    "### FavoriteViewModel"
   ]
  },
  {
   "cell_type": "markdown",
   "id": "892a9fae-6e78-40ed-a642-3f0831f3d429",
   "metadata": {},
   "source": [
    "Przejdźmy do `FavoriteViewModel`, potrzebujemy dostać wszystkie ulubione artykuły, więc jak poprzednio zastosujemy `stateIn`"
   ]
  },
  {
   "cell_type": "code",
   "execution_count": null,
   "id": "a1598e4f-5a9d-4aa2-905e-36186db69f1c",
   "metadata": {},
   "outputs": [],
   "source": [
    "@HiltViewModel\n",
    "class FavoriteViewModel @Inject constructor (\n",
    "    private val repository: NewsRepository\n",
    ") : ViewModel() {\n",
    "    val favorites = repository.getAllFavoriteArticles()\n",
    "        .stateIn(viewModelScope, SharingStarted.Lazily, null)\n",
    "}"
   ]
  },
  {
   "cell_type": "markdown",
   "id": "649c2445-cc39-4519-b318-688b8e8738fe",
   "metadata": {},
   "source": [
    "Drugą i ostatnią funkcją, której wymagamy, to możliwość dodania/usunięcia artykułu do bazy"
   ]
  },
  {
   "cell_type": "code",
   "execution_count": null,
   "id": "6f9d559f-0840-4c98-9396-18842b104fdf",
   "metadata": {},
   "outputs": [],
   "source": [
    "@HiltViewModel\n",
    "class FavoriteViewModel @Inject constructor (\n",
    "    private val repository: NewsRepository\n",
    ") : ViewModel() {\n",
    "    val favorites = repository.getAllFavoriteArticles()\n",
    "        .stateIn(viewModelScope, SharingStarted.Lazily, null)\n",
    "\n",
    "    fun addFavorite(newsArticle: NewsArticle){\n",
    "        val favorite = newsArticle.isFavorite\n",
    "        val updatedArticle = newsArticle.copy(isFavorite = !favorite)\n",
    "        viewModelScope.launch { repository.updateArticle(updatedArticle) }\n",
    "    }\n",
    "}"
   ]
  },
  {
   "cell_type": "markdown",
   "id": "9da2a12e-8c19-4b22-aca7-8460043c7f5d",
   "metadata": {},
   "source": [
    "### RecyclerView"
   ]
  },
  {
   "cell_type": "markdown",
   "id": "283e5da2-c217-4539-9b63-76d326bad8c2",
   "metadata": {},
   "source": [
    "Będziemy wyświetlać nasze listy za pomocą `RecyclerView`, więc jak zwykle musimy utworzyć adapter, viewholder oraz comparator. Zrobimy to w pakiecie `shared` - obie listy `RecyclerView` będą wykorzystywać te same elementy."
   ]
  },
  {
   "cell_type": "code",
   "execution_count": null,
   "id": "6105cfa2-85d4-4282-b12d-934924b6b11f",
   "metadata": {},
   "outputs": [],
   "source": [
    "class ArticleComparator : DiffUtil.ItemCallback<NewsArticle>() {\n",
    "    override fun areItemsTheSame(oldItem: NewsArticle, newItem: NewsArticle): Boolean = \n",
    "    newItem.url == oldItem.url\n",
    "    override fun areContentsTheSame(oldItem: NewsArticle, newItem: NewsArticle): Boolean = \n",
    "    newItem == oldItem\n",
    "}"
   ]
  },
  {
   "cell_type": "markdown",
   "id": "9840ddfd-029e-45b4-9d9b-fb234d283d9c",
   "metadata": {},
   "source": [
    "Przejdźmy do `ViewHolder`, chcemy dodać `onClickListener` dla całego elementu oraz dla `ImageView`, przez który będziemy dodawać/usuwać element z listy ulubionych. Tym razem przekażemy obie funkcje jako parametry konstruktora. Nie chcemy tworzyć obiektów nasłuchiwaczy w funkcji `bind`, ponieważ jest ona wywoływana często, więc prowadzi to do lawinowego tworzenia obiektów."
   ]
  },
  {
   "cell_type": "code",
   "execution_count": null,
   "id": "3b1b6017-42bc-4d53-86bf-394af62ad472",
   "metadata": {},
   "outputs": [],
   "source": [
    "class ArticleViewHolder(\n",
    "    private val binding: ItemArticleRvBinding,\n",
    "    private val onItemClick: (Int) -> Unit,\n",
    "    private val onFavoriteClick: (Int) -> Unit\n",
    "    )\n",
    "    : RecyclerView.ViewHolder(binding.root){"
   ]
  },
  {
   "cell_type": "markdown",
   "id": "f9a28df6-f085-42c1-b15d-cd729eab971c",
   "metadata": {},
   "source": [
    "Nasze dwie funkcje wywołujemy w bloku `init`, przy tworzeniu samego `ViewHolder`"
   ]
  },
  {
   "cell_type": "code",
   "execution_count": null,
   "id": "bb1455a2-931c-4ebd-87d2-df6105c5689d",
   "metadata": {},
   "outputs": [],
   "source": [
    "    init {\n",
    "        binding.apply {\n",
    "            root.setOnClickListener { click(onItemClick) }\n",
    "            favoriteImageView.setOnClickListener { click(onFavoriteClick) }\n",
    "        }\n",
    "    }\n",
    "    \n",
    "    private fun click(click: (Int) -> Unit) {\n",
    "        val position = bindingAdapterPosition\n",
    "        if (position != RecyclerView.NO_POSITION) click(position)\n",
    "    }"
   ]
  },
  {
   "cell_type": "markdown",
   "id": "30ea0e78-9ae8-4999-b592-17a326099c07",
   "metadata": {},
   "source": [
    "Funkcja `click` przyjmuje funkcję jako parametr. Pozycje elementu dostajemy wywołując metodę `bindingAdapterPosition`, sprawdzamy czy dostajemy prawidłową pozycję i wywołujemy funkcję `click`."
   ]
  },
  {
   "cell_type": "markdown",
   "id": "c3aba2a9-6925-4a75-869b-0f39ebbf38d8",
   "metadata": {},
   "source": [
    "Dalej dodajemy funkcję `bind`"
   ]
  },
  {
   "cell_type": "code",
   "execution_count": null,
   "id": "eddefe65-7121-4051-ac4b-53f01d783e23",
   "metadata": {},
   "outputs": [],
   "source": [
    "fun bind(item: NewsArticle){\n",
    "    binding.apply {"
   ]
  },
  {
   "cell_type": "markdown",
   "id": "1f8028e1-47ed-4ec1-8747-66b6bed0a04f",
   "metadata": {},
   "source": [
    "Ustawiamy tekst tytułu oraz opisu, pamiętając że są to elementy zerowalne"
   ]
  },
  {
   "cell_type": "code",
   "execution_count": null,
   "id": "4c490805-cab3-4185-b994-64feb0649fb1",
   "metadata": {},
   "outputs": [],
   "source": [
    "    titleTextView.text = item.title?:\"\"\n",
    "    descriptionTextView.text = item.description?:\"\""
   ]
  },
  {
   "cell_type": "markdown",
   "id": "59103824-f8fd-40c8-9a54-5210b0141e05",
   "metadata": {},
   "source": [
    "Dodajemy grafiki za pomocą biblioteki `Glide`"
   ]
  },
  {
   "cell_type": "code",
   "execution_count": null,
   "id": "3585197e-ab53-4502-9543-41637bdee035",
   "metadata": {},
   "outputs": [],
   "source": [
    "    if (item.imageUrl != null)\n",
    "        Glide.with(itemView)\n",
    "            .load(item.imageUrl)\n",
    "            .into(articleImageView)"
   ]
  },
  {
   "cell_type": "markdown",
   "id": "92763c85-b47d-4d75-b329-528b808781e7",
   "metadata": {},
   "source": [
    "Ponieważ `imageUrl` może mieć wartość `null` dodajemy blok `else` w którym czyścimy bufor (`Glide` zachowuje elementy, więc możemy duplikować grafiki gdy dostaniemy `null`) i ustawiamy naszą grafikę `no_image`"
   ]
  },
  {
   "cell_type": "code",
   "execution_count": null,
   "id": "4cb08dac-d458-4553-a2e5-de54f2b52727",
   "metadata": {},
   "outputs": [],
   "source": [
    "    else {\n",
    "        Glide.with(itemView).clear(articleImageView)\n",
    "        articleImageView.setImageResource(R.drawable.no_image)\n",
    "    }"
   ]
  },
  {
   "cell_type": "markdown",
   "id": "3171b433-ea08-4717-91ef-344a8cdc8b15",
   "metadata": {},
   "source": [
    "Dodajmy również obsługę `ImageView` reprezentującym informację o tym, czy artykuł znajduje się w ulubionych."
   ]
  },
  {
   "cell_type": "code",
   "execution_count": null,
   "id": "8162d876-91a0-4155-b89c-1699e335143d",
   "metadata": {},
   "outputs": [],
   "source": [
    "    favoriteImageView.setImageResource(\n",
    "        when{\n",
    "            item.isFavorite -> R.drawable.ic_favorite_selected\n",
    "            else -> R.drawable.ic_favorite_unselected\n",
    "        }\n",
    "    )"
   ]
  },
  {
   "cell_type": "markdown",
   "id": "8de9e6a9-56c1-458e-88a0-8e44d63dc07c",
   "metadata": {},
   "source": [
    "### LatestNewsFragment"
   ]
  },
  {
   "cell_type": "markdown",
   "id": "ea94b687-ef02-4bbb-8166-c63b21eed867",
   "metadata": {},
   "source": [
    "Rozpoczynamy od dodania odpowiednich pól"
   ]
  },
  {
   "cell_type": "code",
   "execution_count": null,
   "id": "03fbb3c6-a677-4bbe-a31c-122803edc7b7",
   "metadata": {},
   "outputs": [],
   "source": [
    "private val viewModel: LatestNewsViewModel by viewModels()\n",
    "\n",
    "private val menuHost: MenuHost by lazy { requireActivity() }\n",
    "\n",
    "lateinit var binding: FragmentLatestNewsBinding"
   ]
  },
  {
   "cell_type": "markdown",
   "id": "10fb651d-e96e-41f9-b59f-add602306414",
   "metadata": {},
   "source": [
    "Chcemy dodać opcję odświeeżenia listy w `menu` na `ActionBar`, w tym celu musimy wykorzystać `MenuHost`. W metodzie `onCreateView` ustawiamy layout."
   ]
  },
  {
   "cell_type": "code",
   "execution_count": null,
   "id": "ac61c85d-b282-4548-9293-04805a473360",
   "metadata": {},
   "outputs": [],
   "source": [
    "override fun onCreateView(\n",
    "    inflater: LayoutInflater, container: ViewGroup?,\n",
    "    savedInstanceState: Bundle?\n",
    "): View {\n",
    "    binding = FragmentLatestNewsBinding.inflate(layoutInflater, container, false)\n",
    "    return binding.root\n",
    "}"
   ]
  },
  {
   "cell_type": "markdown",
   "id": "0c86dc77-42b4-4252-ba3d-52d170b8c6db",
   "metadata": {},
   "source": [
    "Dodajmy funkcję obsługującą `menu`"
   ]
  },
  {
   "cell_type": "code",
   "execution_count": null,
   "id": "7ea677de-3742-4813-87a4-97074af47502",
   "metadata": {},
   "outputs": [],
   "source": [
    "private fun handleMenu() {\n",
    "    menuHost.addMenuProvider(object : MenuProvider {\n",
    "        override fun onCreateMenu(menu: Menu, menuInflater: MenuInflater) {\n",
    "            menuInflater.inflate(R.menu.menu_latest, menu)\n",
    "        }\n",
    "\n",
    "        override fun onMenuItemSelected(menuItem: MenuItem): Boolean {\n",
    "            return when (menuItem.itemId) {\n",
    "                R.id.refresh -> {\n",
    "                    viewModel.refreshOnDemand()\n",
    "                    true\n",
    "                }\n",
    "                else -> false\n",
    "            }\n",
    "        }\n",
    "    }, viewLifecycleOwner, Lifecycle.State.RESUMED)\n",
    "}"
   ]
  },
  {
   "cell_type": "markdown",
   "id": "d7c8eaf5-0d0d-49a4-a304-e39d77fc54f9",
   "metadata": {},
   "source": [
    "Korzystamy z implementacji `MenuProvider`, w metodzie `onCreateMenu` przekazujemy layout oraz samo `menu`. W metodzie `onMenuItemSelected` dodajemy obsługę wszystkich pozycji. Tutaj chcemy wykonać `refreshOnDemand`."
   ]
  },
  {
   "cell_type": "markdown",
   "id": "1926b7d2-bf0e-486e-bb67-dbbbb0951c5f",
   "metadata": {},
   "source": [
    "Chcemy również nadpisać funkcję `onStart` i wywołać `refreshOnStart`"
   ]
  },
  {
   "cell_type": "code",
   "execution_count": null,
   "id": "b7df9245-926b-4d2e-b2d7-8648ceacc9f1",
   "metadata": {},
   "outputs": [],
   "source": [
    "override fun onStart() {\n",
    "    super.onStart()\n",
    "    viewModel.refreshOnStart()\n",
    "}"
   ]
  },
  {
   "cell_type": "markdown",
   "id": "e2acab84-63df-4616-9040-d77e2cbb9b2e",
   "metadata": {},
   "source": [
    "Napiszmy również funkcję zmieniającą nam stan layoutu (widoczność elementów w zależności od stanu)"
   ]
  },
  {
   "cell_type": "code",
   "execution_count": null,
   "id": "5a641e13-b837-4320-be64-ee2dd1a0a6fb",
   "metadata": {},
   "outputs": [],
   "source": [
    "private fun FragmentLatestNewsBinding.layoutState(result: Resource<List<NewsArticle>>) {\n",
    "    swipeToRefreshLayout.isRefreshing = result is Resource.Loading\n",
    "    latestRecyclerView.isVisible = !result.data.isNullOrEmpty()\n",
    "    errorMessageTextView.isVisible = result.throwable != null && result.data.isNullOrEmpty()\n",
    "    retryButton.isVisible = result.throwable != null && result.data.isNullOrEmpty()\n",
    "    errorMessageTextView.text =\n",
    "        getString(R.string.blad, result.throwable?.localizedMessage ?: R.string.nieznany_blad)\n",
    "}"
   ]
  },
  {
   "cell_type": "markdown",
   "id": "ccd53997-8a38-402a-9f75-845e348aad65",
   "metadata": {},
   "source": [
    "Przejdźmy do metody `onViewCreated` i rozpocznijmy od dodania adaptera"
   ]
  },
  {
   "cell_type": "code",
   "execution_count": null,
   "id": "f28bfe39-3e38-4206-8d4d-724fc361e110",
   "metadata": {},
   "outputs": [],
   "source": [
    "val articleAdapter = ArticleAdapter(\n",
    "    onItemClick = {\n",
    "        val uri = Uri.parse(it.url)\n",
    "        val intent = Intent(Intent.ACTION_VIEW, uri)\n",
    "        requireActivity().startActivity(intent)\n",
    "    },\n",
    "    onFavoriteClick = { viewModel.addFavorite(it) }\n",
    ")"
   ]
  },
  {
   "cell_type": "markdown",
   "id": "14ab93ca-d8bd-429f-b05a-00445a7cdcf8",
   "metadata": {},
   "source": [
    "Musimy dostarczyć implementacje dwóch funkcji jako argrumenty, dla kliknięć w sam element oraz w ikonę ulubionych. Po kliknięciu w element wykorzystamy `Implicit Intent` aby otworzyć stronę zawierającą cały artykuł. Po naciśnięciu w ikonę ulubionych wykonujemy metodę `addFavorite`.\n",
    "\n",
    "Dodajmy `RecyclerView`"
   ]
  },
  {
   "cell_type": "code",
   "execution_count": null,
   "id": "7112ebc7-8ff6-41dc-b18c-0fe19529c02c",
   "metadata": {},
   "outputs": [],
   "source": [
    "binding.apply {\n",
    "    latestRecyclerView.apply {\n",
    "        adapter = articleAdapter\n",
    "        layoutManager = LinearLayoutManager(requireContext())\n",
    "        itemAnimator?.changeDuration = 0\n",
    "    }"
   ]
  },
  {
   "cell_type": "markdown",
   "id": "ac6572b1-95c4-4963-bacb-371caedb5748",
   "metadata": {},
   "source": [
    "Ustawiamy `itemAnimator.Dutration` na 0, aby pozbyć się efektu *flashu* przy przeładowaniu danych.\n",
    "\n",
    "Następnie chcemy rozpocząć zbieranie danych."
   ]
  },
  {
   "cell_type": "code",
   "execution_count": null,
   "id": "7e5e0b8a-907e-4043-a462-9a000aff8672",
   "metadata": {},
   "outputs": [],
   "source": [
    "viewLifecycleOwner.lifecycleScope.launchWhenStarted {\n",
    "                viewModel.latestNews.collect{"
   ]
  },
  {
   "cell_type": "markdown",
   "id": "95a155bc-e1a8-4078-a5ba-7616d31c0de8",
   "metadata": {},
   "source": [
    "Wykorzystujemy `launchWhenStarted` aby się upewnić, że fragment jest co najmniej w stanie `START` zanim rozpoczniemy zbieranie i obsługę danych. Sprawdzamy czy dostajemy `Resource<List<NewsArticle>>`, jeżeli nie - wychodzimy z bloku i kończymy działanie"
   ]
  },
  {
   "cell_type": "code",
   "execution_count": null,
   "id": "14e62582-1170-47eb-90d7-ea2329d253ec",
   "metadata": {},
   "outputs": [],
   "source": [
    "        val result = it ?: return@collect"
   ]
  },
  {
   "cell_type": "markdown",
   "id": "c955a499-fe6a-43ce-a83e-079f415ff35a",
   "metadata": {},
   "source": [
    "Dalej wywołujemy wcześniej zdefiniowany `layoutState`"
   ]
  },
  {
   "cell_type": "code",
   "execution_count": null,
   "id": "504c4148-9ed1-40b9-af48-4d4770962858",
   "metadata": {},
   "outputs": [],
   "source": [
    "        layoutState(result)"
   ]
  },
  {
   "cell_type": "markdown",
   "id": "b1c50881-db9b-45c2-8b67-406b5484e677",
   "metadata": {},
   "source": [
    "Nastęnie wykonujemy `submitList` na naszym `RecyclerView`, dostarczając nową wersję danych. Tutaj chcemy też przewinąć do pierwszej pozycji, jeżeli `pendingScrollToTop` ma wartość `true`."
   ]
  },
  {
   "cell_type": "code",
   "execution_count": null,
   "id": "2c0b6fcf-d588-4cbe-8bcd-a52cc21e5d8a",
   "metadata": {},
   "outputs": [],
   "source": [
    "        articleAdapter.submitList(result.data){\n",
    "            if (viewModel.pendingScrollToTop) {\n",
    "                latestRecyclerView.scrollToPosition(0)\n",
    "                viewModel.pendingScrollToTop = false\n",
    "            }\n",
    "        }"
   ]
  },
  {
   "cell_type": "markdown",
   "id": "f372ddf1-063b-4aef-85c0-6d262b811192",
   "metadata": {},
   "source": [
    "Pełny kod"
   ]
  },
  {
   "cell_type": "code",
   "execution_count": null,
   "id": "6a86c9f7-2b05-4b2c-aace-c2cbc6431265",
   "metadata": {},
   "outputs": [],
   "source": [
    "viewLifecycleOwner.lifecycleScope.launchWhenStarted {\n",
    "    viewModel.latestNews.collect{\n",
    "        val result = it ?: return@collect\n",
    "        layoutState(result)\n",
    "        articleAdapter.submitList(result.data){\n",
    "            if (viewModel.pendingScrollToTop) {\n",
    "                latestRecyclerView.scrollToPosition(0)\n",
    "                viewModel.pendingScrollToTop = false\n",
    "            }\n",
    "        }\n",
    "    }\n",
    "}"
   ]
  },
  {
   "cell_type": "markdown",
   "id": "51ee6ad0-bc24-4bc0-9964-05eddb142c4d",
   "metadata": {},
   "source": [
    "Następnie ustawmy nasłuchiwacze dla `RefreshListener` oraz `retryButton`"
   ]
  },
  {
   "cell_type": "code",
   "execution_count": null,
   "id": "f02bce70-b61f-45d6-a651-c0e3b11fabd3",
   "metadata": {},
   "outputs": [],
   "source": [
    "swipeToRefreshLayout.setOnRefreshListener { viewModel.refreshOnDemand() }\n",
    "retryButton.setOnClickListener { viewModel.refreshOnDemand() }"
   ]
  },
  {
   "cell_type": "markdown",
   "id": "7d8bb78f-078c-4b19-b495-c3a302ed5ec6",
   "metadata": {},
   "source": [
    "Ostatnim elementem jest pokazanie komunikatu o błędzie"
   ]
  },
  {
   "cell_type": "code",
   "execution_count": null,
   "id": "0ebf90b4-5ad1-475c-a206-0f1e2b0c456e",
   "metadata": {},
   "outputs": [],
   "source": [
    "viewLifecycleOwner.lifecycleScope.launchWhenStarted {\n",
    "    viewModel.events.collect{event -> // zbieramy zdarzenia (tylko jedno w aplikacji)\n",
    "        when(event){\n",
    "            is LatestNewsViewModel.Event.ShowErrorMessage ->\n",
    "                showSnackbar(getString(R.string.blad, event.t.localizedMessage?: R.string.nieznany_blad))\n",
    "        }.exhaustive\n",
    "    }\n",
    "}"
   ]
  },
  {
   "cell_type": "markdown",
   "id": "5f9ab308-be9f-4938-9419-5ef2a22564ba",
   "metadata": {},
   "source": [
    "Ponieważ nie chcemy obsługiwać ogólnego błędu (a więc stosować wyrażenia `else`), możemy na końcu dodać `exhaustive`, który oznacza że wszystkie opcje są wyczerpane. Samą implementację dodajemy do pliku `Util`"
   ]
  },
  {
   "cell_type": "code",
   "execution_count": null,
   "id": "87eb3a57-d641-4a98-9a8b-f28d0786156f",
   "metadata": {},
   "outputs": [],
   "source": [
    "val <T> T.exhaustive: T\n",
    "    get() = this"
   ]
  },
  {
   "cell_type": "markdown",
   "id": "52b4d801-6de8-472e-89f0-d37491ba863d",
   "metadata": {},
   "source": [
    "Pełny kod:"
   ]
  },
  {
   "cell_type": "code",
   "execution_count": null,
   "id": "0d6854bd-fa84-471d-bc9d-ef6171cb3e9e",
   "metadata": {},
   "outputs": [],
   "source": [
    "@AndroidEntryPoint\n",
    "class LatestNewsFragment : Fragment() {\n",
    "\n",
    "    private val viewModel: LatestNewsViewModel by viewModels()\n",
    "\n",
    "    private val menuHost: MenuHost by lazy { requireActivity() }\n",
    "\n",
    "    lateinit var binding: FragmentLatestNewsBinding\n",
    "\n",
    "    override fun onCreateView(\n",
    "        inflater: LayoutInflater, container: ViewGroup?,\n",
    "        savedInstanceState: Bundle?\n",
    "    ): View {\n",
    "        binding = FragmentLatestNewsBinding.inflate(layoutInflater, container, false)\n",
    "        return binding.root\n",
    "    }\n",
    "\n",
    "    override fun onViewCreated(view: View, savedInstanceState: Bundle?) {\n",
    "        super.onViewCreated(view, savedInstanceState)\n",
    "\n",
    "        val articleAdapter = ArticleAdapter(\n",
    "            onItemClick = {\n",
    "                val uri = Uri.parse(it.url)\n",
    "                val intent = Intent(Intent.ACTION_VIEW, uri)\n",
    "                requireActivity().startActivity(intent)\n",
    "            },\n",
    "            onFavoriteClick = { viewModel.addFavorite(it) }\n",
    "        )\n",
    "        binding.apply {\n",
    "            latestRecyclerView.apply {\n",
    "                adapter = articleAdapter\n",
    "                layoutManager = LinearLayoutManager(requireContext())\n",
    "                itemAnimator?.changeDuration = 0\n",
    "            }\n",
    "\n",
    "            viewLifecycleOwner.lifecycleScope.launchWhenStarted {\n",
    "                viewModel.latestNews.collect{\n",
    "                    val result = it ?: return@collect\n",
    "                    layoutState(result)\n",
    "                    articleAdapter.submitList(result.data){\n",
    "                        if (viewModel.pendingScrollToTop) {\n",
    "                            latestRecyclerView.scrollToPosition(0)\n",
    "                            viewModel.pendingScrollToTop = false\n",
    "                        }\n",
    "                    }\n",
    "                }\n",
    "            }\n",
    "\n",
    "            swipeToRefreshLayout.setOnRefreshListener { viewModel.refreshOnDemand() }\n",
    "            retryButton.setOnClickListener { viewModel.refreshOnDemand() }\n",
    "            viewLifecycleOwner.lifecycleScope.launchWhenStarted {\n",
    "                viewModel.events.collect{event ->\n",
    "                    when(event){\n",
    "                        is LatestNewsViewModel.Event.ShowErrorMessage ->\n",
    "                            showSnackbar(getString(\n",
    "                                R.string.blad, \n",
    "                                event.t.localizedMessage?: R.string.nieznany_blad))\n",
    "                    }.exhaustive\n",
    "                }\n",
    "            }\n",
    "        }\n",
    "\n",
    "        handleMenu()\n",
    "    }\n",
    "\n",
    "    private fun handleMenu() {\n",
    "        menuHost.addMenuProvider(object : MenuProvider {\n",
    "            override fun onCreateMenu(menu: Menu, menuInflater: MenuInflater) {\n",
    "                menuInflater.inflate(R.menu.menu_latest, menu)\n",
    "            }\n",
    "\n",
    "            override fun onMenuItemSelected(menuItem: MenuItem): Boolean {\n",
    "                return when (menuItem.itemId) {\n",
    "                    R.id.refresh -> {\n",
    "                        viewModel.refreshOnDemand()\n",
    "                        true\n",
    "                    }\n",
    "                    else -> false\n",
    "                }\n",
    "            }\n",
    "        }, viewLifecycleOwner, Lifecycle.State.RESUMED)\n",
    "    }\n",
    "\n",
    "    private fun FragmentLatestNewsBinding.layoutState(result: Resource<List<NewsArticle>>) {\n",
    "        swipeToRefreshLayout.isRefreshing = result is Resource.Loading\n",
    "        latestRecyclerView.isVisible = !result.data.isNullOrEmpty()\n",
    "        errorMessageTextView.isVisible = result.throwable != null && result.data.isNullOrEmpty()\n",
    "        retryButton.isVisible = result.throwable != null && result.data.isNullOrEmpty()\n",
    "        errorMessageTextView.text =\n",
    "            getString(R.string.blad, result.throwable?.localizedMessage ?: R.string.nieznany_blad)\n",
    "    }\n",
    "\n",
    "    override fun onStart() {\n",
    "        super.onStart()\n",
    "        viewModel.refreshOnStart()\n",
    "    }\n",
    "}"
   ]
  },
  {
   "cell_type": "markdown",
   "id": "2f4f07c5-c0b1-4916-ae1a-ff4440a9b330",
   "metadata": {},
   "source": [
    "### FavoriteNewsFragment"
   ]
  },
  {
   "cell_type": "markdown",
   "id": "186769d3-0bc0-42a6-821a-bb0f69439b42",
   "metadata": {},
   "source": [
    "Tutaj nie ma żadnych nowych elementów, więc tylko pełny kod."
   ]
  },
  {
   "cell_type": "code",
   "execution_count": null,
   "id": "20d5d3d2-1f4d-4145-81ae-590300639ef2",
   "metadata": {},
   "outputs": [],
   "source": [
    "@AndroidEntryPoint\n",
    "class FavoriteNewsFragment : Fragment() {\n",
    "\n",
    "    lateinit var binding: FragmentFavoriteNewsBinding\n",
    "\n",
    "    private val viewModel: FavoriteViewModel by viewModels()\n",
    "\n",
    "    override fun onCreateView(\n",
    "        inflater: LayoutInflater,\n",
    "        container: ViewGroup?,\n",
    "        savedInstanceState: Bundle?\n",
    "    ): View {\n",
    "        binding = FragmentFavoriteNewsBinding.inflate(layoutInflater, container, false)\n",
    "        return binding.root\n",
    "    }\n",
    "\n",
    "    override fun onViewCreated(view: View, savedInstanceState: Bundle?) {\n",
    "        super.onViewCreated(view, savedInstanceState)\n",
    "\n",
    "        val articleAdapter = ArticleAdapter(\n",
    "            onItemClick = {\n",
    "                val uri = Uri.parse(it.url)\n",
    "                val intent = Intent(Intent.ACTION_VIEW, uri)\n",
    "                requireActivity().startActivity(intent)\n",
    "            },\n",
    "            onFavoriteClick = { viewModel.addFavorite(it) }\n",
    "        )\n",
    "\n",
    "        binding.apply {\n",
    "            favoriteRecyclerView.apply {\n",
    "                adapter = articleAdapter\n",
    "                layoutManager = LinearLayoutManager(requireContext())\n",
    "            }\n",
    "\n",
    "            viewLifecycleOwner.lifecycleScope.launchWhenStarted {\n",
    "                viewModel.favorites.collect{\n",
    "                    val favorites = it ?: return@collect\n",
    "                    articleAdapter.submitList(favorites)\n",
    "                    messageTextView.isVisible = favorites.isEmpty()\n",
    "                    favoriteRecyclerView.isVisible = favorites.isNotEmpty()\n",
    "                }\n",
    "            }\n",
    "        }\n",
    "    }\n",
    "}"
   ]
  },
  {
   "cell_type": "markdown",
   "id": "4dd05ebf-417c-40fa-90ce-bbbb6bfe5856",
   "metadata": {},
   "source": [
    "Możemy przetestować aplikację"
   ]
  },
  {
   "cell_type": "markdown",
   "id": "cbde76e6-49f9-4397-a2f7-b4ab6f54c5ee",
   "metadata": {},
   "source": [
    "<table><tr><td><img src=\"https://media3.giphy.com/media/uER0JwmDholYnLXChH/giphy.gif?cid=790b76119058b2b2f72a5a208fa580c5adabc5d007d55022&rid=giphy.gif&ct=g\" width=\"200\" /></td><td><img src=\"https://media2.giphy.com/media/GprR3qLfjPdna6GY4m/giphy.gif?cid=790b76116f13b2b93dea78771b7ec3023cdf6f9877e4443a&rid=giphy.gif&ct=g\" width=\"200\" /></td>\n",
    "<td><img src=\"https://media2.giphy.com/media/GmKwtKs1YnfnrQxEPG/giphy.gif?cid=790b761102b60ac194f6443efdb6ac545a2d184ce159195b&rid=giphy.gif&ct=g\" width=\"200\" /></td></tr></table>"
   ]
  },
  {
   "cell_type": "code",
   "execution_count": null,
   "id": "abde788a-a55a-4ec5-95ce-1454ccbbcd2d",
   "metadata": {},
   "outputs": [],
   "source": []
  }
 ],
 "metadata": {
  "kernelspec": {
   "display_name": "Kotlin",
   "language": "kotlin",
   "name": "kotlin"
  },
  "language_info": {
   "codemirror_mode": "text/x-kotlin",
   "file_extension": ".kt",
   "mimetype": "text/x-kotlin",
   "name": "kotlin",
   "nbconvert_exporter": "",
   "pygments_lexer": "kotlin",
   "version": "1.6.20-dev-6372"
  }
 },
 "nbformat": 4,
 "nbformat_minor": 5
}
