{
 "cells": [
  {
   "cell_type": "markdown",
   "id": "fe87081c-ad77-495b-9550-0cee3f547d1e",
   "metadata": {},
   "source": [
    "## 13.1 Dagger-Hilt - Podstawy"
   ]
  },
  {
   "cell_type": "markdown",
   "id": "2dc5c61c-199e-481f-87d2-615ca5a5b1be",
   "metadata": {},
   "source": [
    "Wv tej aplikacji zapoznamy się z podstawami wykorzystania `Dagger-Hilt` w aplikacji. Jak zobaczymy zastosowanie biblioteki `Hilt` mocno upraszcza całą procedurę *wstrzyknięć*. Wykorzystamy `Retrofit2`, `LoggingInterceptor` i architekturę **MVVM**. Jako backend ponownie wybierzemy https://jsonplaceholder.typicode.com/.\n",
    "\n",
    "Rozpocznijmy od dodania odpowiednich zależności"
   ]
  },
  {
   "cell_type": "code",
   "execution_count": null,
   "id": "8ecbae44-5cc3-41bf-a182-5853d4842e47",
   "metadata": {},
   "outputs": [],
   "source": [
    "plugins {\n",
    "    id 'com.android.application'\n",
    "    id 'org.jetbrains.kotlin.android'\n",
    "    id 'kotlin-kapt'\n",
    "    id 'dagger.hilt.android.plugin'\n",
    "}\n",
    "...\n",
    "dependencies {\n",
    "\n",
    "    implementation \"com.google.dagger:hilt-android:2.44\"\n",
    "    kapt \"com.google.dagger:hilt-android-compiler:2.44\"\n",
    "    kapt \"androidx.hilt:hilt-compiler:1.0.0\"\n",
    "\n",
    "    // activity dla kotlin KTX + ViewModel\n",
    "    implementation \"androidx.activity:activity-ktx:1.5.0\"\n",
    "    \n",
    "    implementation 'com.squareup.retrofit2:retrofit:2.9.0'\n",
    "    implementation 'com.google.code.gson:gson:2.9.1'\n",
    "    implementation 'com.squareup.retrofit2:converter-gson:2.9.0'\n",
    "    implementation 'com.squareup.okhttp3:logging-interceptor:4.10.0'\n",
    "}"
   ]
  },
  {
   "cell_type": "markdown",
   "id": "310c2b08-f883-4489-b88d-8089e60c52b5",
   "metadata": {},
   "source": [
    "Do bloku `plugins` pliku `build.gradle(Project)` dodajemy"
   ]
  },
  {
   "cell_type": "code",
   "execution_count": null,
   "id": "da911ca6-5e54-4305-a378-c61cc0689bab",
   "metadata": {},
   "outputs": [],
   "source": [
    "id 'com.google.dagger.hilt.android' version '2.44' apply false"
   ]
  },
  {
   "cell_type": "markdown",
   "id": "aa8a52a4-d38b-4202-a57a-9456633d0d59",
   "metadata": {},
   "source": [
    "### Szkielet projektu"
   ]
  },
  {
   "cell_type": "markdown",
   "id": "98f504dd-473d-4987-9152-f2323d474fbf",
   "metadata": {},
   "source": [
    "Naszą aplikację podzielimy na kilka pakietów\n",
    "- `data` - model danych + dwa pakiety\n",
    "    - `remote` zawierający interfejs `PlaceholderApi`\n",
    "    - `repository` zawierający implementację repozytorium aplikacji\n",
    "- `di` - przeznaczony do *dependency injection* - tutaj dodamy moduły\n",
    "- `domain/remote` - zawiera interfejs repozytorium\n",
    "- `ui` - elementy interfejsu użytkownika\n",
    "- `util` - tutaj umieścimy znaną z poprzednich przykładów klasę `Resource`\n",
    "- w głównym pakiecie znajduje się klasa `MyApp` rozszerzająca `Application`"
   ]
  },
  {
   "cell_type": "markdown",
   "id": "4d7c6c1b-6f86-465b-ac79-0210b3f5a975",
   "metadata": {},
   "source": [
    "Rozpocznijmy od interfejsu `PlaceholderApi` w pakiecie `data/remote`. Jest on identyczny jak w przykładzie 11.1"
   ]
  },
  {
   "cell_type": "code",
   "execution_count": null,
   "id": "b5b92759-a16a-4926-8650-1243fe8c2d6e",
   "metadata": {},
   "outputs": [],
   "source": [
    "interface PlaceholderApi {\n",
    "    @GET(\"posts\")\n",
    "    suspend fun posts(): Response<List<Post>>\n",
    "}"
   ]
  },
  {
   "cell_type": "markdown",
   "id": "4f4b198f-59e9-4fb3-b512-e931f6b904ea",
   "metadata": {},
   "source": [
    "Dodajmy interfejs `AppRepository` dodający poziom abstrakcji do pakietu `domain/remote`"
   ]
  },
  {
   "cell_type": "code",
   "execution_count": null,
   "id": "74ec4bfe-fa12-4cea-a630-6ac59af4b2a4",
   "metadata": {},
   "outputs": [],
   "source": [
    "interface AppRepository {\n",
    "    suspend fun getPosts(): Response<List<Post>>\n",
    "}"
   ]
  },
  {
   "cell_type": "markdown",
   "id": "4a1d0350-b7e8-43c9-a4b7-a5980c74d949",
   "metadata": {},
   "source": [
    "Do pakietu `data` dodajmy model danych (identyczny jak w 11.1)"
   ]
  },
  {
   "cell_type": "code",
   "execution_count": null,
   "id": "9002ea65-37c0-4a7a-86de-1a349eeebd60",
   "metadata": {},
   "outputs": [],
   "source": [
    "data class Post (\n",
    "    val userId: Int,\n",
    "    val id: Int,\n",
    "    val title: String,\n",
    "\n",
    "    @SerializedName(\"body\")\n",
    "    val content: String\n",
    ")"
   ]
  },
  {
   "cell_type": "markdown",
   "id": "3ffb981f-ccee-4437-b6f6-352e7e4b3fac",
   "metadata": {},
   "source": [
    "Do pakietu `data/repository` dodajmy klasę `AppRepositoryImpl` implementującą interfejs `AppRepository`"
   ]
  },
  {
   "cell_type": "code",
   "execution_count": null,
   "id": "a2c334a6-9620-4f18-9380-9194374dc91a",
   "metadata": {},
   "outputs": [],
   "source": [
    "class AppRepositoryImpl(\n",
    "    private val api: PlaceholderApi\n",
    ") : AppRepository {\n",
    "    override suspend fun getPosts() = api.posts()\n",
    "}"
   ]
  },
  {
   "cell_type": "markdown",
   "id": "536f067c-5047-40e2-8ea8-a44c69cb44e8",
   "metadata": {},
   "source": [
    "Do pakietu `di` dodajmy nasz moduł `AppModule`, tutaj zdefiniujemy instancję `Retrofit`. Chcemy posiadać jeden moduł o czasie życia aplikacji (powiązany z kontekstem `Application`), więc będzie to `object`"
   ]
  },
  {
   "cell_type": "code",
   "execution_count": null,
   "id": "6a38b3b2-dcc7-4676-9a8b-8173ad260067",
   "metadata": {},
   "outputs": [],
   "source": [
    "@Module\n",
    "object AppModule {}"
   ]
  },
  {
   "cell_type": "markdown",
   "id": "6bff3ead-677c-4b08-9c6f-7e1fcfb72b5a",
   "metadata": {},
   "source": [
    "Drugą adnotacją którą zastosujemy jest `@InstallIn` - deklaruje do których komponentów opisana klasa/obiekt powinna zostać dodana podczas generacji obiektów przez `Hilt`."
   ]
  },
  {
   "cell_type": "code",
   "execution_count": null,
   "id": "5ca2b882-6cfc-4ca9-80af-6690835b5236",
   "metadata": {},
   "outputs": [],
   "source": [
    "@Module\n",
    "@InstallIn(SingletonComponent::class)\n",
    "object AppModule {}"
   ]
  },
  {
   "cell_type": "markdown",
   "id": "003d0fce-e82d-420a-b50c-5d2845e29769",
   "metadata": {},
   "source": [
    "Komponent podany jako argument `@InstallIn` decyduje o czasie życia zależności dodanych w module. Niektóre przekłady\n",
    "- `SingletonComponent` - czas życia aplikacji (poprzednio nazywany `ApplicationComponent`)\n",
    "- `ActivityComponent` - czas życia aktywności\n",
    "- `ViewModelComponent` - czas życia `ViewModel`\n",
    "- `ServiceComponent` - czas życia serwisu\n",
    "- `ActivityRetainedComponent` - czas życia aktywności + zmiana konfiguracji (rotacja)"
   ]
  },
  {
   "cell_type": "markdown",
   "id": "f032e728-99c2-4b42-8ceb-0aa894750a2b",
   "metadata": {},
   "source": [
    "Dodajmy metodę `providePlaceholderApi`, gdzie utworzymy instancję `Retrofit` i dodamy `LoggingInterceptor`"
   ]
  },
  {
   "cell_type": "code",
   "execution_count": null,
   "id": "6a654058-cd55-448a-a742-568f5a62ac7e",
   "metadata": {},
   "outputs": [],
   "source": [
    "@Provides\n",
    "@Singleton\n",
    "fun providePlaceholderApi(): PlaceholderApi{\n",
    "    val interceptor = HttpLoggingInterceptor()\n",
    "    interceptor.setLevel(HttpLoggingInterceptor.Level.BODY)\n",
    "    val client = OkHttpClient.Builder()\n",
    "        .addInterceptor(interceptor)\n",
    "        .build()\n",
    "    return Retrofit.Builder()\n",
    "        .baseUrl(\"https://jsonplaceholder.typicode.com/\")\n",
    "        .addConverterFactory(GsonConverterFactory.create())\n",
    "        .client(client)\n",
    "        .build().create(PlaceholderApi::class.java)\n",
    "}"
   ]
  },
  {
   "cell_type": "markdown",
   "id": "8e962468-12f0-4fac-a5bc-ff1099de2dd3",
   "metadata": {},
   "source": [
    "Jedynym nowym elementem jest adnotacja `@Singleton` - jeżeli `PlaceholderApi` zostanie wstrzyknięty do kilku klas, będzie to ta sama instancja. Bez tej adnotacji, przy wstrzykiwaniu do kilku klas, za każdym razem tworzona jest nowa instancja.\n",
    "\n",
    "Dodajmy drugą metodę dostarczającą repozytorium."
   ]
  },
  {
   "cell_type": "code",
   "execution_count": null,
   "id": "d4a9e2f3-72cf-4d07-aabd-0f5053fe5a9a",
   "metadata": {},
   "outputs": [],
   "source": [
    "@Provides\n",
    "@Singleton\n",
    "fun provideAppRepository(api: PlaceholderApi) : AppRepository{\n",
    "    return AppRepositoryImpl(api)\n",
    "}"
   ]
  },
  {
   "cell_type": "markdown",
   "id": "9dbc41c3-9006-44bc-a03d-fb6dbb0b6ee8",
   "metadata": {},
   "source": [
    "Do pakietu `util` dodajmy, znaną w wcześniejszych przykładów, klasę `Resource`"
   ]
  },
  {
   "cell_type": "code",
   "execution_count": null,
   "id": "c322fca5-e7f2-4021-b2cb-8d8a66171b1d",
   "metadata": {},
   "outputs": [],
   "source": [
    "sealed class Resource<T> (\n",
    "    val data: T? = null,\n",
    "    val message: String? = null\n",
    "){\n",
    "    class Success<T>(data: T) : Resource<T>(data)\n",
    "    class Error<T>(message: String, data: T? = null) : Resource<T>(data, message)\n",
    "    class Loading<T> : Resource<T>()\n",
    "}"
   ]
  },
  {
   "cell_type": "markdown",
   "id": "6ed3955b-5f75-482c-9563-2a148b098d1c",
   "metadata": {},
   "source": [
    "Dodajmy `AppViewModel`, wykorzystamy adnotację `HiltViewModel`, który pozwala bibliotece `Hilt` wykonać wstrzyknięcia do `ViewModel`, oraz wstrzyknąć sam `ViewModel` (jak i zastosować w kotlinie `by viewmodel()`) - dzięki tej adnotacji jest to o wiele łatwiejszev niż w przypadku zastosowania biblioteki `Dagger2`.\n",
    "\n",
    "Wykorzystamy adnotację `@Inject` do wstrzyknięcia przez konstruktor repozytorium do `AppViewModel`."
   ]
  },
  {
   "cell_type": "code",
   "execution_count": null,
   "id": "b1c2c170-f2c7-4f0c-a9af-f6f5b50c065f",
   "metadata": {},
   "outputs": [],
   "source": [
    "@HiltViewModel\n",
    "class AppViewModel @Inject constructor (\n",
    "    private val repository: AppRepository\n",
    ") : ViewModel() {"
   ]
  },
  {
   "cell_type": "markdown",
   "id": "cdb9ff4a-26b8-4e1f-92e8-c0ba64effabb",
   "metadata": {},
   "source": [
    "Dodajmy listę wszystkich postów."
   ]
  },
  {
   "cell_type": "code",
   "execution_count": null,
   "id": "be577ca4-c246-4554-9930-37a2bb88e070",
   "metadata": {},
   "outputs": [],
   "source": [
    "private var _posts: MutableLiveData<Resource<List<Post>>> = MutableLiveData()\n",
    "\n",
    "val posts: LiveData<Resource<List<Post>>>\n",
    "    get() = _posts"
   ]
  },
  {
   "cell_type": "markdown",
   "id": "c2dadaaf-a166-4bc4-bfd5-fecfd61df55d",
   "metadata": {},
   "source": [
    "Metodę obsługującą odpowiedź."
   ]
  },
  {
   "cell_type": "code",
   "execution_count": null,
   "id": "b00a7125-0d0c-452d-9a05-8d31c02ebfcc",
   "metadata": {},
   "outputs": [],
   "source": [
    "private fun handleMealResponse(response: Response<List<Post>>)\n",
    "        : Resource<List<Post>> {\n",
    "    if (response.isSuccessful)\n",
    "        response.body()?.let { return Resource.Success(it) }\n",
    "    return Resource.Error(response.message())\n",
    "}"
   ]
  },
  {
   "cell_type": "markdown",
   "id": "de0bb532-2f05-4186-b5b7-6343be37f68e",
   "metadata": {},
   "source": [
    "Na koniec dodajmy metodę `getPosts` wykorzystując `Coroutines` i `viewModelScope`"
   ]
  },
  {
   "cell_type": "code",
   "execution_count": null,
   "id": "284c1b14-3516-440e-a587-c6c766b3debd",
   "metadata": {},
   "outputs": [],
   "source": [
    "fun getPosts() = viewModelScope.launch {\n",
    "    _posts.postValue(Resource.Loading())\n",
    "    val response = repository.getPosts()\n",
    "    _posts.postValue(handleMealResponse(response))\n",
    "}"
   ]
  },
  {
   "cell_type": "markdown",
   "id": "5d0a5fde-c367-46c6-9b63-9273c073d594",
   "metadata": {},
   "source": [
    "Jak widzimy, poza zastosowaniem kilku adnotacji w samym kodzie nic się nie zmienia."
   ]
  },
  {
   "cell_type": "markdown",
   "id": "6a218a8a-ed99-4110-b8ae-e258ef05bc67",
   "metadata": {},
   "source": [
    "Wymaganym jest również dodanie klasy rozszerzającej klasę `Application`, z adnotacją `HiltAndroidApp`"
   ]
  },
  {
   "cell_type": "code",
   "execution_count": null,
   "id": "447a395d-bf39-4410-8424-1af77868731f",
   "metadata": {},
   "outputs": [],
   "source": [
    "@HiltAndroidApp\n",
    "class MyApp : Application() {\n",
    "}"
   ]
  },
  {
   "cell_type": "markdown",
   "id": "81ab906f-2df7-4670-8087-b6739a06ab74",
   "metadata": {},
   "source": [
    "Dzięki temu `Hilt` *wie* że w tej klasie może tworzyć komponenty `Dagger2`. Adnotacja `@HiltAndroidApp` wyzwala generowanie komponentów `Dagger2` przez `Hilt`. Tutaj musimy jeszcze dokonać zmiany w pliku `AndroidManifest` i dodać `name` o nazwie klasy rozszerzającej `Application`"
   ]
  },
  {
   "cell_type": "code",
   "execution_count": null,
   "id": "a7c08404-9814-44a5-be4f-efce1babbd31",
   "metadata": {},
   "outputs": [],
   "source": [
    "<application\n",
    "    android:name=\".MyApp\"\n",
    "    ..."
   ]
  },
  {
   "cell_type": "markdown",
   "id": "8508627c-e322-48e8-a850-7c22cad11f46",
   "metadata": {},
   "source": [
    "Ta klasa może zostać wykorzystana w momencie gdy musimy dostarczyć `applicationContext` (np. do `ROOM`) - `Hilt` automatycznie wygeneruje odpowiedni kod."
   ]
  },
  {
   "cell_type": "markdown",
   "id": "fdda320c-d22b-4975-90b7-f9559c0f1223",
   "metadata": {},
   "source": [
    "W aktywności głównej dodajemy `ViewModel`"
   ]
  },
  {
   "cell_type": "code",
   "execution_count": null,
   "id": "cd3d3711-333e-4203-8a45-0b42f3c3e70a",
   "metadata": {},
   "outputs": [],
   "source": [
    "private val viewModel: AppViewModel by viewModels()"
   ]
  },
  {
   "cell_type": "markdown",
   "id": "4077d56b-1961-4506-b812-b9a1affdc756",
   "metadata": {},
   "source": [
    "W samej aktywności musimy dodać adnotację `@AndroidEntryPoint` - wskazuje punkt wejściowy aplikacji dla `Hilt`"
   ]
  },
  {
   "cell_type": "markdown",
   "id": "cfacc833-11e8-4c29-bdf3-b7b4d698aa52",
   "metadata": {},
   "source": [
    "W metodzie `onCreate` inicjujemy połączenie z serwerem."
   ]
  },
  {
   "cell_type": "code",
   "execution_count": null,
   "id": "677996b5-34c6-4c6b-b150-2e63593f07a1",
   "metadata": {},
   "outputs": [],
   "source": [
    "viewModel.getPosts()"
   ]
  },
  {
   "cell_type": "markdown",
   "id": "28c47b19-3fae-4c28-af9c-c2aa499f991b",
   "metadata": {},
   "source": [
    "W pozostałych elementach nie ma żadnych nowych elementów."
   ]
  },
  {
   "cell_type": "code",
   "execution_count": null,
   "id": "7c087d6e-25e1-491f-bcfa-bfc853bcc285",
   "metadata": {},
   "outputs": [],
   "source": [
    "    private val viewModel: AppViewModel by viewModels()\n",
    "    private val progressBar: ProgressBar by lazy{findViewById(R.id.progressBar)}\n",
    "\n",
    "    override fun onCreate(savedInstanceState: Bundle?) {\n",
    "        super.onCreate(savedInstanceState)\n",
    "        setContentView(R.layout.activity_main)\n",
    "\n",
    "        viewModel.getPosts()\n",
    "\n",
    "        val textView = findViewById<TextView>(R.id.textView)\n",
    "\n",
    "        viewModel.posts.observe(this){ response ->\n",
    "            when (response) {\n",
    "                is Resource.Success -> {\n",
    "                    hideProgressBar()\n",
    "                    response.data?.let { res ->\n",
    "                        val content = StringBuilder()\n",
    "                        res.forEach {\n",
    "                            content\n",
    "                                .append(\"id: \").append(it.id).append(\"\\n\")\n",
    "                                .append(\"UserId: \").append(it.userId).append(\"\\n\")\n",
    "                                .append(\"title: \").append(it.title).append(\"\\n\")\n",
    "                                .append(\"body: \").append(it.content).append(\"\\n\\n\")\n",
    "                        }\n",
    "                        textView.text = content\n",
    "                    }\n",
    "                }\n",
    "                is Resource.Error -> {\n",
    "                    hideProgressBar()\n",
    "                    response.message?.let { Log.e(\"TAG\", \"Error occurred: $it\") }\n",
    "                }\n",
    "                is Resource.Loading -> showProgressBar()\n",
    "            }\n",
    "        }\n",
    "    }\n",
    "\n",
    "    private fun hideProgressBar(){\n",
    "        progressBar.visibility = View.INVISIBLE\n",
    "    }\n",
    "\n",
    "    private fun showProgressBar(){\n",
    "        progressBar.visibility = View.VISIBLE\n",
    "    }"
   ]
  },
  {
   "cell_type": "markdown",
   "id": "73e3b37c-0f4b-4ec3-b00f-2a5df8bdf2d3",
   "metadata": {},
   "source": [
    "g"
   ]
  },
  {
   "cell_type": "code",
   "execution_count": null,
   "id": "ac9fe6fc-15c5-425f-8f1e-f4f805544ee1",
   "metadata": {},
   "outputs": [],
   "source": []
  }
 ],
 "metadata": {
  "kernelspec": {
   "display_name": "Kotlin",
   "language": "kotlin",
   "name": "kotlin"
  },
  "language_info": {
   "codemirror_mode": "text/x-kotlin",
   "file_extension": ".kt",
   "mimetype": "text/x-kotlin",
   "name": "kotlin",
   "nbconvert_exporter": "",
   "pygments_lexer": "kotlin",
   "version": "1.6.20-dev-6372"
  }
 },
 "nbformat": 4,
 "nbformat_minor": 5
}
