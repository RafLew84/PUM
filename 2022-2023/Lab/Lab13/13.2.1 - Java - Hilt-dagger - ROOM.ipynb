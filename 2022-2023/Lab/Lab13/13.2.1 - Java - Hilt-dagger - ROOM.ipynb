{
 "cells": [
  {
   "cell_type": "markdown",
   "id": "fad40ca4-ed2f-4604-a711-a78ffbf171cb",
   "metadata": {},
   "source": [
    "## 13.2 Dagger-Hilt - Podstawy - ROOM"
   ]
  },
  {
   "cell_type": "markdown",
   "id": "a7fb8593-893e-4074-bd55-d7cec5735333",
   "metadata": {},
   "source": [
    "W tej aplikacji zaimplementujemy architekturę **MVVM** z wykorzystaniem `Dagger-Hilt` oraz lokalną bazą `ROOM`. Rozpocznijmy od dodania zależności."
   ]
  },
  {
   "cell_type": "code",
   "execution_count": null,
   "id": "d36aac6b-cdd4-4ce5-9fa2-d72c1f076237",
   "metadata": {},
   "outputs": [],
   "source": [
    "// build.gradle(Project)\n",
    "id 'com.google.dagger.hilt.android' version '2.44' apply false"
   ]
  },
  {
   "cell_type": "code",
   "execution_count": null,
   "id": "006d6de5-139f-4cfa-a8d6-edee32214b3f",
   "metadata": {},
   "outputs": [],
   "source": [
    "plugins {\n",
    "    id 'com.android.application'\n",
    "    id 'com.google.dagger.hilt.android'\n",
    "}\n",
    "\n",
    "dependencies {\n",
    "\n",
    "    // ROOM\n",
    "    implementation \"androidx.room:room-runtime:2.4.3\"\n",
    "    annotationProcessor \"androidx.room:room-compiler:2.4.3\"\n",
    "\n",
    "    // ViewModel\n",
    "    implementation 'androidx.lifecycle:lifecycle-viewmodel:2.5.1'\n",
    "    // LiveData\n",
    "    implementation \"androidx.lifecycle:lifecycle-livedata:2.5.1\"\n",
    "\n",
    "    implementation \"com.google.dagger:hilt-android:2.44\"\n",
    "    annotationProcessor 'androidx.hilt:hilt-compiler:1.0.0'\n",
    "    annotationProcessor \"com.google.dagger:hilt-android-compiler:2.44\"\n",
    "}"
   ]
  },
  {
   "cell_type": "markdown",
   "id": "853b79dc-4e3e-4046-9adf-707fa194ec2b",
   "metadata": {},
   "source": [
    "Zdefiniujmyn model danych."
   ]
  },
  {
   "cell_type": "code",
   "execution_count": null,
   "id": "d46eb1b2-43cb-489b-ae5a-24983ebc524a",
   "metadata": {},
   "outputs": [],
   "source": [
    "@Entity(tableName = \"student\")\n",
    "public class Student {\n",
    "\n",
    "    @PrimaryKey(autoGenerate = true)\n",
    "    private int id;\n",
    "\n",
    "    private final String name;\n",
    "\n",
    "    public Student(int id, String name) {\n",
    "        this.id = id;\n",
    "        this.name = name;\n",
    "    }\n",
    "\n",
    "    public String getName() {\n",
    "        return name;\n",
    "    }\n",
    "\n",
    "    public int getId() {\n",
    "        return id;\n",
    "    }\n",
    "}"
   ]
  },
  {
   "cell_type": "markdown",
   "id": "607e0813-83d8-4e61-911f-310c1f86ed5d",
   "metadata": {},
   "source": [
    "Następnie dodajmy klasę zwracającą instancję bazy - tutaj musimy przekazać `Context` w metodzie `getDatabase`."
   ]
  },
  {
   "cell_type": "code",
   "execution_count": null,
   "id": "6296ff29-5f62-4f9a-a457-c9b38a1e0343",
   "metadata": {},
   "outputs": [],
   "source": [
    "@Database(entities = {Student.class}, version = 1, exportSchema = false)\n",
    "public abstract class AppDatabase extends RoomDatabase{\n",
    "\n",
    "        public abstract AppDao appDao();\n",
    "\n",
    "        private static volatile AppDatabase INSTANCE;\n",
    "\n",
    "        private static final int NUMBER_OF_THREADS = 4;\n",
    "        public static final ExecutorService databaseWriteExecutor =\n",
    "                Executors.newFixedThreadPool(NUMBER_OF_THREADS);\n",
    "\n",
    "        public static AppDatabase getDatabase(final Context context) {\n",
    "            if (INSTANCE == null) {\n",
    "                synchronized (AppDatabase.class) {\n",
    "                    if (INSTANCE == null) {\n",
    "                        INSTANCE = Room.databaseBuilder(context.getApplicationContext(),\n",
    "                                        AppDatabase.class, \"student_database_java\")\n",
    "                                .build();\n",
    "                    }\n",
    "                }\n",
    "            }\n",
    "            return INSTANCE;\n",
    "        }\n",
    "}\n"
   ]
  },
  {
   "cell_type": "markdown",
   "id": "b5139feb-e6c9-4cf8-b744-87c75a1916ac",
   "metadata": {},
   "source": [
    "Kolejnym elementem bazy jest `Dao` - tutaj dodamy dwie metody do odczytania wszystkich danych oraz dodania pojedynczego elementu."
   ]
  },
  {
   "cell_type": "code",
   "execution_count": null,
   "id": "c2a24d9d-e528-4247-93e5-d186f761d46c",
   "metadata": {},
   "outputs": [],
   "source": [
    "@Dao\n",
    "public interface AppDao {\n",
    "    @Insert(onConflict = OnConflictStrategy.IGNORE)\n",
    "    void addItem(Student student);\n",
    "\n",
    "    @Query(\"SELECT * FROM student\")\n",
    "    LiveData<List<Student>> readAllData();\n",
    "}"
   ]
  },
  {
   "cell_type": "markdown",
   "id": "acac5162-7619-46f6-9f20-5f32f5d35672",
   "metadata": {},
   "source": [
    "W metodzie dostarczającej musimy przekazać `Application` jako `Context` do utworzenia `ROOM`. Biblioteka `Hilt` automatycznie wykorzysta instancję klasy `AppAplication`, którą musimy zdefiniować jako context - ponieważ rozszerza ona klasę `Application`, czas żecia `ROOM` jest tożsamy z czasem życia samej aplikacji."
   ]
  },
  {
   "cell_type": "code",
   "execution_count": null,
   "id": "dc827fbe-94db-4c9a-9d61-6ca50f6cee26",
   "metadata": {},
   "outputs": [],
   "source": [
    "@HiltAndroidApp\n",
    "public class AppApplication extends Application {}"
   ]
  },
  {
   "cell_type": "code",
   "execution_count": null,
   "id": "37cd22e7-2779-41ec-9b54-836c6d6c8b48",
   "metadata": {},
   "outputs": [],
   "source": [
    "<manifest xmlns:android=\"http://schemas.android.com/apk/res/android\"\n",
    "    xmlns:tools=\"http://schemas.android.com/tools\">\n",
    "\n",
    "    <application\n",
    "        android:name=\".AppApplication\"\n",
    "..."
   ]
  },
  {
   "cell_type": "markdown",
   "id": "9a0d040e-bb38-4676-b533-b3f2eff3225b",
   "metadata": {},
   "source": [
    "Dodajmy moduł aplikacji - jak w poprzednim przykładzie, wykorzystamy `SingletonComponent`"
   ]
  },
  {
   "cell_type": "code",
   "execution_count": null,
   "id": "d4459c4c-1b8c-4732-873f-a67d7cbb2d15",
   "metadata": {},
   "outputs": [],
   "source": [
    "@Module\n",
    "@InstallIn(SingletonComponent.class)\n",
    "public class AppModule {"
   ]
  },
  {
   "cell_type": "markdown",
   "id": "e463f673-46cc-4cab-aa7d-4500db64a573",
   "metadata": {},
   "source": [
    "Do modułu dodajmy metodę `getAppDB` dostarczającą instancję bazy danych"
   ]
  },
  {
   "cell_type": "code",
   "execution_count": null,
   "id": "7a6e1bf7-367e-4cb4-8f75-e15fbfb9239b",
   "metadata": {},
   "outputs": [],
   "source": [
    "@Singleton\n",
    "@Provides\n",
    "AppDatabase getAppDB(Application app){\n",
    "    return AppDatabase.getDatabase(app);\n",
    "}"
   ]
  },
  {
   "cell_type": "markdown",
   "id": "7bc32ba6-e5c5-47a6-8929-f9bc071ef588",
   "metadata": {},
   "source": [
    "Jak widzimy `getAppDB` przyjmuje instancję `Application` - `Hilt` automatycznie dostarcza instancję klasy oznaczonej jako `@HiltAndroidApp`."
   ]
  },
  {
   "cell_type": "markdown",
   "id": "e3ade181-ace9-4780-a4c3-9bd39ebde1b7",
   "metadata": {},
   "source": [
    "Drugą metodą jest `getDao` dostarczająca instancję obiektu implementującego interfejs `AppDao`."
   ]
  },
  {
   "cell_type": "code",
   "execution_count": null,
   "id": "9403d2d8-068a-43ae-8fee-fba5665a8b16",
   "metadata": {},
   "outputs": [],
   "source": [
    "@Singleton\n",
    "@Provides\n",
    "AppDao getDao(AppDatabase db){\n",
    "    return db.appDao();\n",
    "}"
   ]
  },
  {
   "cell_type": "markdown",
   "id": "49271cb5-69f9-4a98-b44e-e0b1c1f32e62",
   "metadata": {},
   "source": [
    "Następnym elementem **MVVM** będzie repozytorium, po raz kolejny posłużymy się interfejsem oraz klasą implementującą ten interfejs."
   ]
  },
  {
   "cell_type": "code",
   "execution_count": null,
   "id": "e66a54a4-b1e8-4472-b6be-f65ccb544efc",
   "metadata": {},
   "outputs": [],
   "source": [
    "public interface AppRepository {\n",
    "    LiveData<List<Student>> readAllData();\n",
    "    void insert(Student student);\n",
    "}"
   ]
  },
  {
   "cell_type": "code",
   "execution_count": null,
   "id": "6128f627-d6bc-44d9-b478-068f4ed0e8ce",
   "metadata": {},
   "outputs": [],
   "source": [
    "public class AppRepositoryImpl implements AppRepository {\n",
    "\n",
    "    private final AppDao appDao;\n",
    "\n",
    "    @Inject\n",
    "    public AppRepositoryImpl(AppDao appDao) {\n",
    "        this.appDao = appDao;\n",
    "    }\n",
    "\n",
    "    @Override\n",
    "    public LiveData<List<Student>> readAllData() {\n",
    "        return appDao.readAllData();\n",
    "    }\n",
    "\n",
    "    @Override\n",
    "    public void insert(Student student) {\n",
    "        appDao.addItem(student);\n",
    "    }\n",
    "}"
   ]
  },
  {
   "cell_type": "markdown",
   "id": "88df8491-7dce-4b14-9351-f17d5ef49a0e",
   "metadata": {},
   "source": [
    "Do repozytorium dodajemy instancję `AppDao` stosując wstrzyknięcie przez konstruktor."
   ]
  },
  {
   "cell_type": "markdown",
   "id": "489ef750-e888-41e8-a8ad-bdef02744204",
   "metadata": {},
   "source": [
    "Powróćmy do `AppModule` i dodajmy metodę dostarczającą repozytorium"
   ]
  },
  {
   "cell_type": "code",
   "execution_count": null,
   "id": "523a7759-cbdb-4cff-9452-171adad940b9",
   "metadata": {},
   "outputs": [],
   "source": [
    "@Singleton\n",
    "@Provides\n",
    "AppRepository provideAppRepository(AppDao appDao){\n",
    "    return new AppRepositoryImpl(appDao);\n",
    "}"
   ]
  },
  {
   "cell_type": "markdown",
   "id": "5a24b0d9-baa4-49b4-9301-7bf5fe4e6145",
   "metadata": {},
   "source": [
    "Ostatnim elementem **MVVM** jest `ViewModel`. Przyjmuje dwa argumenty - `Application` oraz `AppRepository` - które dostarczymy stosując wstrzyknięcie przez konstruktor."
   ]
  },
  {
   "cell_type": "code",
   "execution_count": null,
   "id": "74c17e86-3c67-4733-ab95-c376fe6074bb",
   "metadata": {},
   "outputs": [],
   "source": [
    "@HiltViewModel\n",
    "public class AppViewModel extends AndroidViewModel {\n",
    "\n",
    "    private final AppRepository repository;\n",
    "\n",
    "    @Inject\n",
    "    public AppViewModel(Application app, AppRepository repository) {\n",
    "        super(app);\n",
    "        this.repository = repository;\n",
    "    }"
   ]
  },
  {
   "cell_type": "markdown",
   "id": "8d2d5d47-8216-485a-9d79-896c505e7866",
   "metadata": {},
   "source": [
    "Kontekst aplikacji musimy przekazać do konstruktora klasy `AndroidViewModel`, jest to jedyne miejsce gdzie jest on wymagany, więc nie musimy tworzyć pola - stąd brak `val`/`var`."
   ]
  },
  {
   "cell_type": "markdown",
   "id": "8813936a-fea2-458b-af05-5b6178e53677",
   "metadata": {},
   "source": [
    "Dodajmy dwie wcześniej opisane metody."
   ]
  },
  {
   "cell_type": "code",
   "execution_count": null,
   "id": "ae0daee7-786d-4293-b050-6c6b3b355b17",
   "metadata": {},
   "outputs": [],
   "source": [
    "LiveData<List<Student>> readAllData(){\n",
    "    return repository.readAllData();\n",
    "}\n",
    "\n",
    "void insert(Student student){\n",
    "    AppDatabase.databaseWriteExecutor.execute(() -> repository.insert(student));\n",
    "}"
   ]
  },
  {
   "cell_type": "markdown",
   "id": "9b7572b8-7a1c-4fed-9dea-e8f9db0bd5b4",
   "metadata": {},
   "source": [
    "Główną aktywność oznaczamy jako `@AndroidEntryPoint`. Dodajmy `ViewModel`."
   ]
  },
  {
   "cell_type": "code",
   "execution_count": null,
   "id": "5c8db476-455a-4e8f-8df8-a330ba215b0d",
   "metadata": {},
   "outputs": [],
   "source": [
    "@AndroidEntryPoint\n",
    "public class MainActivity extends AppCompatActivity {\n",
    "\n",
    "    private AppViewModel viewModel;\n",
    "\n",
    "    @Override\n",
    "    protected void onCreate(Bundle savedInstanceState) {\n",
    "        super.onCreate(savedInstanceState);\n",
    "        setContentView(R.layout.activity_main);\n",
    "\n",
    "        viewModel = new ViewModelProvider(this).get(AppViewModel.class);\n"
   ]
  },
  {
   "cell_type": "markdown",
   "id": "480baafc-c2ad-42a9-917c-b3c36277bf96",
   "metadata": {},
   "source": [
    "W metodzie `onCreate` dodajmy kilka elementów do bazy oraz obserwator."
   ]
  },
  {
   "cell_type": "code",
   "execution_count": null,
   "id": "4b57557c-0a5b-4cbc-a882-ede17d0bafb1",
   "metadata": {},
   "outputs": [],
   "source": [
    "@Override\n",
    "protected void onCreate(Bundle savedInstanceState) {\n",
    "    super.onCreate(savedInstanceState);\n",
    "    setContentView(R.layout.activity_main);\n",
    "\n",
    "    TextView textView = findViewById(R.id.textview);\n",
    "\n",
    "    viewModel = new ViewModelProvider(this).get(AppViewModel.class);\n",
    "\n",
    "    viewModel.insert(new Student(0, \"Rafa\"));\n",
    "    viewModel.insert(new Student(0, \"Maciej\"));\n",
    "    viewModel.insert(new Student(0, \"Kuba\"));\n",
    "\n",
    "    viewModel.readAllData().observe(this, students ->{\n",
    "        StringBuilder content = new StringBuilder();\n",
    "        students.forEach(student -> content\n",
    "                .append(\"id: \").append(student.getId()).append(\"\\n\")\n",
    "                .append(\"Name: \").append(student.getName()).append(\"\\n\\n\"));\n",
    "        textView.setText(content.toString());\n",
    "    });\n",
    "}"
   ]
  }
 ],
 "metadata": {
  "kernelspec": {
   "display_name": "Java",
   "language": "java",
   "name": "java"
  },
  "language_info": {
   "codemirror_mode": "java",
   "file_extension": ".jshell",
   "mimetype": "text/x-java-source",
   "name": "Java",
   "pygments_lexer": "java",
   "version": "17+35-2724"
  }
 },
 "nbformat": 4,
 "nbformat_minor": 5
}
