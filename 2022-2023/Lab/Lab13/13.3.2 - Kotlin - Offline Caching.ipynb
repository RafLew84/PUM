{
 "cells": [
  {
   "cell_type": "markdown",
   "id": "3d04c608-8c68-4f61-b805-0641eeeffe91",
   "metadata": {},
   "source": [
    "## 13.3 Offline Caching"
   ]
  },
  {
   "cell_type": "markdown",
   "id": "ad1dc75f-e341-4123-86aa-0a7b4303f731",
   "metadata": {},
   "source": [
    "W tej aplikacji zobaczymy w jaki sposób wykonać *offline caching* z wykorzystaniem lokalnej bazy danych. Zadanie polega na wykonaniu *snapshotu* danych dostępnych z zewnętrznego serwisu. Idea *offline cachingu* zakłada że urządzenie docelowe może nie mieć stałego dostępu do sieci. W przypadku braku dostępu, wykorzystujemy wersję danych dostępnych w lokalnej bazie.\n",
    "\n",
    "W aplikacji wykorzystamy https://random-data-api.com/, który przy każdym żądaniu generuje losowe dane, wykorzystamy *endpoint* `\\users` generując każdorazowo dane 20 użytkowników. W tej wersji chcemy całkowicie zastąpić istniejące dane w lokalnej bazie ich nową wersją.\n",
    "\n",
    "Podejście to spełnia warunki *single source of truth* - pojedynczego źródła danych dostarczanych użytkownikowi. Będziemy wyświetlać tylko dane pochodzące z lokalnej bazy.\n",
    "\n",
    "W aplikacji wykorzystamy architekturę **MVVM** wraz z bibliotekami `Dagger-Hilt`, `Retrofit`, `ROOM`, oraz `Glide`. Będzie zawierać pojedynczą aktywność na której umieścimy `RecyclerView` - tutaj nie będziemy wykorzystywać komponentu `Jetpack Navigation`."
   ]
  },
  {
   "cell_type": "markdown",
   "id": "d850ab6f-a95b-4a00-a03a-3f7535ea14a0",
   "metadata": {},
   "source": [
    "<img src=\"https://media1.giphy.com/media/y0RLxRN7SPJ7mI7Hw5/giphy.gif?cid=790b7611ea236e1ec92b9220e3629a80e851a7759882cbee&rid=giphy.gif&ct=g\" width=\"200\" />"
   ]
  },
  {
   "cell_type": "markdown",
   "id": "e7f9f101-9c18-4c42-89fc-fa10126495c5",
   "metadata": {},
   "source": [
    "Rozpocznijmy od przygotowania modelu danych, odpowiedź serwera wygląda następująco."
   ]
  },
  {
   "cell_type": "code",
   "execution_count": null,
   "id": "1def70a8-b1e3-4b43-9668-648bc5776242",
   "metadata": {},
   "outputs": [],
   "source": [
    "{\n",
    "   \"id\":4634,\n",
    "   \"uid\":\"e1c88b6e-800c-44fe-b45a-317d6311ea32\",\n",
    "   \"password\":\"rKbRvTZGIL\",\n",
    "   \"first_name\":\"Scott\",\n",
    "   \"last_name\":\"Veum\",\n",
    "   \"username\":\"scott.veum\",\n",
    "   \"email\":\"scott.veum@email.com\",\n",
    "   \"avatar\":\"https://robohash.org/quianihilexercitationem.png?size=300x300\\u0026set=set1\",\n",
    "   \"gender\":\"Non-binary\",\n",
    "   \"phone_number\":\"+420 573-352-4638 x18831\",\n",
    "   \"social_insurance_number\":\"968138909\",\n",
    "   \"date_of_birth\":\"1993-03-23\",\n",
    "   \"employment\":{\n",
    "      \"title\":\"Senior Agent\",\n",
    "      \"key_skill\":\"Networking skills\"\n",
    "   },\n",
    "   \"address\":{\n",
    "      \"city\":\"Juniorshire\",\n",
    "      \"street_name\":\"Pacocha Dale\",\n",
    "      \"street_address\":\"51943 Earnest Parks\",\n",
    "      \"zip_code\":\"26716-5002\",\n",
    "      \"state\":\"Mississippi\",\n",
    "      \"country\":\"United States\",\n",
    "      \"coordinates\":{\n",
    "         \"lat\":-56.16662202146844,\n",
    "         \"lng\":68.36895424808517\n",
    "      }\n",
    "   },\n",
    "   \"credit_card\":{\n",
    "      \"cc_number\":\"4135-2456-4633-3923\"\n",
    "   },\n",
    "   \"subscription\":{\n",
    "      \"plan\":\"Premium\",\n",
    "      \"status\":\"Idle\",\n",
    "      \"payment_method\":\"Credit card\",\n",
    "      \"term\":\"Payment in advance\"\n",
    "   }\n",
    "}"
   ]
  },
  {
   "cell_type": "markdown",
   "id": "2c5d22f4-a309-4893-b371-666ba2e79cca",
   "metadata": {},
   "source": [
    "Na jej podstawie możemy zamodelować dane - można wykorzystać dowolny dostępny plugin, czy stronę internetową."
   ]
  },
  {
   "cell_type": "code",
   "execution_count": null,
   "id": "94477e48-f218-443e-84bd-13dee0d25686",
   "metadata": {},
   "outputs": [],
   "source": [
    "data class User(\n",
    "    val address: Address,\n",
    "    val avatar: String,\n",
    "    val credit_card: CreditCard,\n",
    "    val date_of_birth: String,\n",
    "    val email: String,\n",
    "    val employment: Employment,\n",
    "    val first_name: String,\n",
    "    val gender: String,\n",
    "    val id: Int,\n",
    "    val last_name: String,\n",
    "    val password: String,\n",
    "    val phone_number: String,\n",
    "    val social_insurance_number: String,\n",
    "    val subscription: Subscription,\n",
    "    val uid: String,\n",
    "    val username: String\n",
    ")\n",
    "\n",
    "data class Address(\n",
    "    val city: String,\n",
    "    val country: String,\n",
    "    val state: String,\n",
    "    val street_address: String,\n",
    "    val street_name: String,\n",
    "    val zip_code: String\n",
    ")\n",
    "\n",
    "data class CreditCard(\n",
    "    val cc_number: String\n",
    ")\n",
    "\n",
    "data class Employment(\n",
    "    val key_skill: String,\n",
    "    val title: String\n",
    ")\n",
    "\n",
    "data class Subscription(\n",
    "    val payment_method: String,\n",
    "    val plan: String,\n",
    "    val status: String,\n",
    "    val term: String\n",
    ")"
   ]
  },
  {
   "cell_type": "markdown",
   "id": "e45b5af6-23bb-4b9b-87cd-6c1caf6e7735",
   "metadata": {},
   "source": [
    "Posiadając model danych, możemy przygotować layout elementu `RecyclerView` oraz głównej aktywności."
   ]
  },
  {
   "cell_type": "code",
   "execution_count": null,
   "id": "ea2570e9-e2fd-4999-9b55-cdec1742ca79",
   "metadata": {},
   "outputs": [],
   "source": [
    "<?xml version=\"1.0\" encoding=\"utf-8\"?>\n",
    "<androidx.constraintlayout.widget.ConstraintLayout \n",
    "xmlns:android=\"http://schemas.android.com/apk/res/android\"\n",
    "    xmlns:app=\"http://schemas.android.com/apk/res-auto\"\n",
    "    xmlns:tools=\"http://schemas.android.com/tools\"\n",
    "    android:layout_width=\"match_parent\"\n",
    "    android:layout_height=\"match_parent\"\n",
    "    tools:context=\".ui.MainActivity\">\n",
    "\n",
    "    <androidx.recyclerview.widget.RecyclerView\n",
    "        android:id=\"@+id/recyclerView\"\n",
    "        android:layout_margin=\"8dp\"\n",
    "        android:layout_width=\"match_parent\"\n",
    "        android:layout_height=\"match_parent\"\n",
    "        app:layout_constraintBottom_toBottomOf=\"parent\"\n",
    "        app:layout_constraintEnd_toEndOf=\"parent\"\n",
    "        app:layout_constraintStart_toStartOf=\"parent\"\n",
    "        app:layout_constraintTop_toTopOf=\"parent\" />\n",
    "\n",
    "    <ProgressBar\n",
    "        android:id=\"@+id/progressBar\"\n",
    "        android:layout_width=\"wrap_content\"\n",
    "        android:layout_height=\"wrap_content\"\n",
    "        android:layout_gravity=\"center\"\n",
    "        android:layout_marginTop=\"36dp\"\n",
    "        android:background=\"@android:color/transparent\"\n",
    "        android:visibility=\"invisible\"\n",
    "        app:layout_constraintEnd_toEndOf=\"parent\"\n",
    "        app:layout_constraintStart_toStartOf=\"parent\"\n",
    "        app:layout_constraintTop_toTopOf=\"parent\" />\n",
    "\n",
    "</androidx.constraintlayout.widget.ConstraintLayout>"
   ]
  },
  {
   "cell_type": "code",
   "execution_count": null,
   "id": "fe6612a6-e8d4-4e04-a62e-ff1285090643",
   "metadata": {},
   "outputs": [],
   "source": [
    "<?xml version=\"1.0\" encoding=\"utf-8\"?>\n",
    "<LinearLayout xmlns:android=\"http://schemas.android.com/apk/res/android\"\n",
    "    xmlns:app=\"http://schemas.android.com/apk/res-auto\"\n",
    "    xmlns:tools=\"http://schemas.android.com/tools\"\n",
    "    android:layout_width=\"match_parent\"\n",
    "    android:layout_height=\"wrap_content\"\n",
    "    android:layout_margin=\"8dp\"\n",
    "    android:orientation=\"vertical\">\n",
    "\n",
    "    <LinearLayout\n",
    "        android:layout_width=\"match_parent\"\n",
    "        android:layout_height=\"wrap_content\"\n",
    "        android:orientation=\"horizontal\">\n",
    "\n",
    "        <TextView\n",
    "            android:id=\"@+id/firstName\"\n",
    "            android:layout_width=\"0dp\"\n",
    "            android:layout_height=\"wrap_content\"\n",
    "            android:layout_weight=\"1\"\n",
    "            android:text=\"TextView\"\n",
    "            android:textSize=\"24sp\"\n",
    "            app:layout_constraintStart_toStartOf=\"parent\"\n",
    "            tools:layout_editor_absoluteY=\"22dp\" />\n",
    "\n",
    "        <TextView\n",
    "            android:id=\"@+id/lastName\"\n",
    "            android:layout_width=\"0dp\"\n",
    "            android:layout_height=\"wrap_content\"\n",
    "            android:layout_weight=\"1\"\n",
    "            android:text=\"TextView\"\n",
    "            android:textSize=\"24sp\"\n",
    "            app:layout_constraintEnd_toEndOf=\"parent\"\n",
    "            tools:layout_editor_absoluteY=\"20dp\" />\n",
    "    </LinearLayout>\n",
    "\n",
    "    <LinearLayout\n",
    "        android:layout_width=\"match_parent\"\n",
    "        android:layout_height=\"wrap_content\"\n",
    "        android:orientation=\"horizontal\">\n",
    "\n",
    "        <LinearLayout\n",
    "            android:layout_width=\"0dp\"\n",
    "            android:layout_weight=\"1\"\n",
    "            android:layout_height=\"wrap_content\"\n",
    "            android:orientation=\"vertical\">\n",
    "\n",
    "            <TextView\n",
    "                android:id=\"@+id/username\"\n",
    "                android:layout_width=\"wrap_content\"\n",
    "                android:layout_height=\"wrap_content\"\n",
    "                android:text=\"TextView\" />\n",
    "\n",
    "            <TextView\n",
    "                android:id=\"@+id/password\"\n",
    "                android:layout_width=\"wrap_content\"\n",
    "                android:layout_height=\"wrap_content\"\n",
    "                android:text=\"TextView\" />\n",
    "\n",
    "            <TextView\n",
    "                android:id=\"@+id/email\"\n",
    "                android:layout_width=\"wrap_content\"\n",
    "                android:layout_height=\"wrap_content\"\n",
    "                android:text=\"TextView\" />\n",
    "\n",
    "            <TextView\n",
    "                android:id=\"@+id/gender\"\n",
    "                android:layout_width=\"wrap_content\"\n",
    "                android:layout_height=\"wrap_content\"\n",
    "                android:text=\"TextView\" />\n",
    "\n",
    "            <TextView\n",
    "                android:id=\"@+id/phone\"\n",
    "                android:layout_width=\"wrap_content\"\n",
    "                android:layout_height=\"wrap_content\"\n",
    "                android:text=\"TextView\" />\n",
    "\n",
    "            <TextView\n",
    "                android:id=\"@+id/dateOfBirth\"\n",
    "                android:layout_width=\"wrap_content\"\n",
    "                android:layout_height=\"wrap_content\"\n",
    "                android:text=\"TextView\" />\n",
    "\n",
    "            <TextView\n",
    "                android:id=\"@+id/employment\"\n",
    "                android:layout_width=\"wrap_content\"\n",
    "                android:layout_height=\"wrap_content\"\n",
    "                android:text=\"TextView\" />\n",
    "\n",
    "\n",
    "        </LinearLayout>\n",
    "\n",
    "        <ImageView\n",
    "            android:id=\"@+id/image\"\n",
    "            android:layout_width=\"0dp\"\n",
    "            android:layout_weight=\"1\"\n",
    "            android:src=\"@drawable/ic_android_black_24dp\"\n",
    "            android:layout_height=\"wrap_content\"\n",
    "            android:contentDescription=\"user image\" />\n",
    "    </LinearLayout>\n",
    "\n",
    "    <LinearLayout\n",
    "        android:layout_width=\"match_parent\"\n",
    "        android:layout_height=\"wrap_content\"\n",
    "        android:layout_marginTop=\"8dp\"\n",
    "        android:orientation=\"horizontal\">\n",
    "\n",
    "        <TextView\n",
    "            android:id=\"@+id/country\"\n",
    "            android:layout_width=\"0dp\"\n",
    "            android:layout_weight=\"1\"\n",
    "            android:layout_height=\"wrap_content\"\n",
    "            android:text=\"TextView\" />\n",
    "\n",
    "        <TextView\n",
    "            android:id=\"@+id/city\"\n",
    "            android:layout_width=\"0dp\"\n",
    "            android:layout_weight=\"1\"\n",
    "            android:layout_height=\"wrap_content\"\n",
    "            android:text=\"TextView\" />\n",
    "\n",
    "        <TextView\n",
    "            android:id=\"@+id/state\"\n",
    "            android:layout_width=\"0dp\"\n",
    "            android:layout_weight=\"1\"\n",
    "            android:layout_height=\"wrap_content\"\n",
    "            android:text=\"TextView\" />\n",
    "    </LinearLayout>\n",
    "\n",
    "    <LinearLayout\n",
    "        android:layout_width=\"match_parent\"\n",
    "        android:layout_height=\"wrap_content\"\n",
    "        android:layout_marginTop=\"8dp\"\n",
    "        android:orientation=\"horizontal\">\n",
    "\n",
    "        <TextView\n",
    "            android:id=\"@+id/street_name\"\n",
    "            android:layout_width=\"0dp\"\n",
    "            android:layout_weight=\"1\"\n",
    "            android:layout_height=\"wrap_content\"\n",
    "            android:text=\"TextView\" />\n",
    "\n",
    "        <TextView\n",
    "            android:id=\"@+id/street_address\"\n",
    "            android:layout_width=\"0dp\"\n",
    "            android:layout_weight=\"1\"\n",
    "            android:layout_height=\"wrap_content\"\n",
    "            android:text=\"TextView\" />\n",
    "\n",
    "        <TextView\n",
    "            android:id=\"@+id/zip_code\"\n",
    "            android:layout_width=\"0dp\"\n",
    "            android:layout_weight=\"1\"\n",
    "            android:layout_height=\"wrap_content\"\n",
    "            android:text=\"TextView\" />\n",
    "    </LinearLayout>\n",
    "\n",
    "    <TextView\n",
    "        android:id=\"@+id/creditCardNumber\"\n",
    "        android:layout_width=\"wrap_content\"\n",
    "        android:layout_height=\"wrap_content\"\n",
    "        android:text=\"TextView\" />\n",
    "\n",
    "    <LinearLayout\n",
    "        android:layout_width=\"match_parent\"\n",
    "        android:layout_height=\"wrap_content\"\n",
    "        android:layout_marginTop=\"8dp\"\n",
    "        android:orientation=\"horizontal\">\n",
    "\n",
    "        <TextView\n",
    "            android:id=\"@+id/plan\"\n",
    "            android:layout_width=\"0dp\"\n",
    "            android:layout_weight=\"1\"\n",
    "            android:layout_height=\"wrap_content\"\n",
    "            android:text=\"TextView\" />\n",
    "\n",
    "        <TextView\n",
    "            android:id=\"@+id/status\"\n",
    "            android:layout_width=\"0dp\"\n",
    "            android:layout_weight=\"1\"\n",
    "            android:layout_height=\"wrap_content\"\n",
    "            android:text=\"TextView\" />\n",
    "\n",
    "        <TextView\n",
    "            android:id=\"@+id/payment_method\"\n",
    "            android:layout_width=\"0dp\"\n",
    "            android:layout_weight=\"1\"\n",
    "            android:layout_height=\"wrap_content\"\n",
    "            android:text=\"TextView\" />\n",
    "\n",
    "        <TextView\n",
    "            android:id=\"@+id/term\"\n",
    "            android:layout_width=\"0dp\"\n",
    "            android:layout_weight=\"1\"\n",
    "            android:layout_height=\"wrap_content\"\n",
    "            android:text=\"TextView\" />\n",
    "    </LinearLayout>\n",
    "</LinearLayout>"
   ]
  },
  {
   "cell_type": "markdown",
   "id": "53e2c7e9-621b-4fcb-a47a-c42d908f44be",
   "metadata": {},
   "source": [
    "Dodajmy interfejs `RandomApi` z jedną metodą, która zwraca listę 20 użytkowników"
   ]
  },
  {
   "cell_type": "code",
   "execution_count": null,
   "id": "a4716555-7452-48ff-98a7-cfb1c0880cd5",
   "metadata": {},
   "outputs": [],
   "source": [
    "interface RandomApi {\n",
    "    @GET(\"users?size=20\")\n",
    "    suspend fun users(): List<User>\n",
    "}"
   ]
  },
  {
   "cell_type": "markdown",
   "id": "56a7253c-9208-408a-998e-88dc1019b1f4",
   "metadata": {},
   "source": [
    "Dodajmy `AppModule` z metodą dostarczającą instancję obiektu o typie `RandomApi`."
   ]
  },
  {
   "cell_type": "code",
   "execution_count": null,
   "id": "ce563a63-a609-41aa-9311-5bc8f9f1c3d4",
   "metadata": {},
   "outputs": [],
   "source": [
    "@Module\n",
    "@InstallIn(SingletonComponent::class)\n",
    "object AppModule {\n",
    "\n",
    "    @Provides\n",
    "    @Singleton\n",
    "    fun provideRandomApi(): RandomApi{\n",
    "        val interceptor = HttpLoggingInterceptor()\n",
    "        interceptor.setLevel(HttpLoggingInterceptor.Level.BODY)\n",
    "        val client = OkHttpClient.Builder()\n",
    "            .addInterceptor(interceptor)\n",
    "            .build()\n",
    "        return Retrofit.Builder()\n",
    "            .baseUrl(\"https://random-data-api.com/api/v2/\")\n",
    "            .addConverterFactory(GsonConverterFactory.create())\n",
    "            .client(client)\n",
    "            .build().create(RandomApi::class.java)\n",
    "    }\n",
    "}"
   ]
  },
  {
   "cell_type": "markdown",
   "id": "bc61e65f-7db7-4abe-bed1-1fedd5d87f93",
   "metadata": {},
   "source": [
    "Przejdźmy do utworzenia lokalnej bazy danych - tutaj od razu napotykamy problem. Bazy danych mogą przyjmować tylko określone typy, nie mogą przechowywać obiektów niestandardowych. Klasa `User` posiada obiekty o typach `Address`, `CreditCard`, `Employment` i `Subsciption`. Aby zapisać instancje tych obiektów w bazie `ROOM`, musimy je przekonwertować do typu standardowego - tutaj wyborem jest `String`.\n",
    "\n",
    "Zaimplementujemy kilka obiektów - dla każdego typu - opisujących sposób konwersji. Rozpocznijmy od `AddressConverter`."
   ]
  },
  {
   "cell_type": "code",
   "execution_count": null,
   "id": "63d20f25-6107-4336-9a45-851cda41f5f9",
   "metadata": {},
   "outputs": [],
   "source": [
    "object AddressConverter {}"
   ]
  },
  {
   "cell_type": "markdown",
   "id": "be5fd8c6-7d74-4247-982f-f85e0e49ab9b",
   "metadata": {},
   "source": [
    "Obiekt będzie posiadał dwie metody - dla konwersji `Address` -> `String`, oraz dla konwersji `String` -> `Address`.\n",
    "\n",
    "Samą konwersję można przeprowadzić na szereg różnych sposobów - tutaj wykorzystamy metodę `toString` (wszystkie klasy są klasami danych, więc posiadają domyślną implementację tej metody)."
   ]
  },
  {
   "cell_type": "code",
   "execution_count": null,
   "id": "b75830e1-b800-4b3c-b7ba-46e3de32c175",
   "metadata": {},
   "outputs": [],
   "source": [
    "@TypeConverter\n",
    "@JvmStatic\n",
    "fun fromAddress (address: Address): String{\n",
    "    return address.toString()\n",
    "}"
   ]
  },
  {
   "cell_type": "markdown",
   "id": "e4c631ed-32f1-48d1-977f-995ebc902089",
   "metadata": {},
   "source": [
    "Stosujemy dwie adnotacje\n",
    "- `@TypeConverter` - adnotacja oznacza metody wykorzystywane do konwersji - samą konwersję `ROOM` przeprowadza automatycznie\n",
    "- `@JvmStatic` - musimy tylko dostarczyć metody konwersji, nie obiekt z nimi powiązany (stąd wykorzystanie `object` a nie `class`) - dzięki tej adnotacji zostanie utworzona metoda statyczna w obiekcie."
   ]
  },
  {
   "cell_type": "markdown",
   "id": "46784326-916b-4d24-90a1-535eeda31a30",
   "metadata": {},
   "source": [
    "Potrzebujemy jeszcze drugą metodę konwersji - tutaj nie ma pojedynczej metody do rozpakowania `String`, który otrzymujemy, więc zrobimy to wykorzystując metody `substring`"
   ]
  },
  {
   "cell_type": "code",
   "execution_count": null,
   "id": "7a01ca3a-7dcc-4a84-bc76-f18d61df067a",
   "metadata": {},
   "outputs": [],
   "source": [
    "@TypeConverter\n",
    "@JvmStatic\n",
    "fun toAddress(address: String): Address{\n",
    "    val city = address.substringAfter(\"city=\").substringBefore(\",\")\n",
    "    val country = address.substringAfter(\"country=\").substringBefore(\",\")\n",
    "    val state = address.substringAfter(\"state=\").substringBefore(\",\")\n",
    "    val street_address = address.substringAfter(\"street_address=\").substringBefore(\",\")\n",
    "    val street_name = address.substringAfter(\"street_name=\").substringBefore(\",\")\n",
    "    val zip_code = address.substringAfter(\"zip_code=\").substringBefore(\")\")\n",
    "\n",
    "    return Address(city, country, state, street_address, street_name, zip_code)\n",
    "}"
   ]
  },
  {
   "cell_type": "markdown",
   "id": "d5b3384d-9cff-4e1b-8fca-31c9305135d3",
   "metadata": {},
   "source": [
    "Nie jest to typowa implementacja - często konwersja jest wykonywana do i z formatu `JSON` wykorzystując konwerter `Gson`"
   ]
  },
  {
   "cell_type": "markdown",
   "id": "04c0b670-fbc3-460d-ae46-29b687cb8489",
   "metadata": {},
   "source": [
    "Dodajmy pozostałe obiekty konwerterów."
   ]
  },
  {
   "cell_type": "code",
   "execution_count": null,
   "id": "eef0438a-b19e-4f2d-87e5-ce93164be516",
   "metadata": {},
   "outputs": [],
   "source": [
    "object CreditCardConverter {\n",
    "    @TypeConverter\n",
    "    @JvmStatic\n",
    "    fun fromCreditCard (creditCard: CreditCard): String{\n",
    "        return creditCard.cc_number\n",
    "    }\n",
    "\n",
    "    @TypeConverter\n",
    "    @JvmStatic\n",
    "    fun toCreditCard(creditCard: String): CreditCard {\n",
    "        return CreditCard(creditCard)\n",
    "    }\n",
    "}\n",
    "\n",
    "object EmploymentConverter {\n",
    "\n",
    "    @TypeConverter\n",
    "    @JvmStatic\n",
    "    fun fromEmployment (employment: Employment): String{\n",
    "        return employment.title\n",
    "    }\n",
    "\n",
    "    @TypeConverter\n",
    "    @JvmStatic\n",
    "    fun toEmployment(employment: String): Employment {\n",
    "        return Employment(employment, employment)\n",
    "    }\n",
    "}\n",
    "\n",
    "object SubscriptionConverter {\n",
    "\n",
    "    @TypeConverter\n",
    "    @JvmStatic\n",
    "    fun fromSubscription (subscription: Subscription): String{\n",
    "        return subscription.toString()\n",
    "    }\n",
    "\n",
    "    @TypeConverter\n",
    "    @JvmStatic\n",
    "    fun toSubscription(subscription: String): Subscription {\n",
    "        val payment_method = \n",
    "            subscription.substringAfter(\"payment_method=\").substringBefore(\",\")\n",
    "        val plan = subscription.substringAfter(\"plan=\").substringBefore(\",\")\n",
    "        val status = subscription.substringAfter(\"status=\").substringBefore(\",\")\n",
    "        val term = subscription.substringAfter(\"term=\").substringBefore(\")\")\n",
    "\n",
    "        return Subscription(payment_method, plan, status, term)\n",
    "    }\n",
    "}"
   ]
  },
  {
   "cell_type": "markdown",
   "id": "5f22818a-a7f7-4658-91f5-27d094db1cf7",
   "metadata": {},
   "source": [
    "Przejdźmy do implementacji samej bazy, oznaczmy klasę `User` jako `@Entity` oraz `id` jako `@PrimaryKey`."
   ]
  },
  {
   "cell_type": "code",
   "execution_count": null,
   "id": "9e8b7abe-8ebb-499f-8fc4-fcf232094e8c",
   "metadata": {},
   "outputs": [],
   "source": [
    "@Entity(tableName = \"users\")\n",
    "data class User(\n",
    "    ...\n",
    "    @PrimaryKey val id: Int,\n",
    "    ...\n",
    "    )"
   ]
  },
  {
   "cell_type": "markdown",
   "id": "f2287e33-35d0-40f8-9055-b1eea4d272c5",
   "metadata": {},
   "source": [
    "Zdefiniujmy `Dao` z trzema metodami"
   ]
  },
  {
   "cell_type": "code",
   "execution_count": null,
   "id": "25f8ce24-271a-4536-acd9-0277314f32fa",
   "metadata": {},
   "outputs": [],
   "source": [
    "@Dao\n",
    "interface UsersDao {\n",
    "    @Insert(onConflict = REPLACE)\n",
    "    suspend fun insert(user: List<User>)\n",
    "\n",
    "    @Query(\"DELETE FROM users\")\n",
    "    suspend fun clear()\n",
    "\n",
    "    @Query(\"SELECT * FROM users\")\n",
    "    fun getUsers(): Flow<List<User>>\n",
    "}"
   ]
  },
  {
   "cell_type": "markdown",
   "id": "654d9949-cd77-40a0-b76a-927e1a484e3e",
   "metadata": {},
   "source": [
    "Ponieważ chcemy zastępować całą listę w bazie, potrzebujemy dwóch metod\n",
    "- `clear` - czyści bazę\n",
    "- `instert` - dodaje nową listę\n",
    "\n",
    "Mamy również metodę zwracającą całą listę. Zwróćmy uwagę na zwracany typ. `Flow` jest asynchronicznym strumieniem wartości - oznacza to że zamiast jednej listy użytkowników, jest ona emitowana - co znacza że jest ona obserwowalna. Funkcja `getUsers` zwróci nam listę wszystkich użytkowników, gdy zmieni się jakakolwiek wartość w tabeli `users`, `ROOM` automatycznie wyemituje nową wersję listy użytkowników. Gdy lokalna baza zostanie zaktualizowana o nowe dane w serwera, `ROOM` wyemituje nową wersję, dzięki czemu możemy automatycznie dostarczyć nowe dane użytkownikowi."
   ]
  },
  {
   "cell_type": "markdown",
   "id": "b134be1a-055c-485e-b47e-3f6032488e18",
   "metadata": {},
   "source": [
    "Dodajmy klasę abstrakcyjną `UserDatabase`, wykorzystamy adnotację `TypeConverters` do zakomunikowania `ROOM` że wymagane jest wykorzystanie konwerterów, oraz podamy jawnie wszystkie obiekty konwerterów."
   ]
  },
  {
   "cell_type": "code",
   "execution_count": null,
   "id": "474174fb-a5ed-4cc8-9898-795a2998a6ac",
   "metadata": {},
   "outputs": [],
   "source": [
    "@Database(entities = [User::class], version = 1)\n",
    "@TypeConverters(\n",
    "    AddressConverter::class, \n",
    "    CreditCardConverter::class, \n",
    "    EmploymentConverter::class, \n",
    "    SubscriptionConverter::class)\n",
    "abstract class UserDatabase : RoomDatabase() {\n",
    "\n",
    "    abstract fun usersDao(): UsersDao\n",
    "}"
   ]
  },
  {
   "cell_type": "markdown",
   "id": "35b65768-bc5c-40c3-a3e8-6df4b48dad56",
   "metadata": {},
   "source": [
    "Do  klasy `AppModule` dodajmy metodę dostarczającą bazę danych"
   ]
  },
  {
   "cell_type": "code",
   "execution_count": null,
   "id": "370b3025-6ee1-410a-96c8-4e00a1972df6",
   "metadata": {},
   "outputs": [],
   "source": [
    "@Provides\n",
    "@Singleton\n",
    "fun provideUserDatabase(app: Application): UserDatabase = \n",
    "    Room\n",
    "        .databaseBuilder(\n",
    "            app, \n",
    "            UserDatabase::class.java, \n",
    "            \"kotlin_user_database\")\n",
    "        .build()"
   ]
  },
  {
   "cell_type": "markdown",
   "id": "a1d09cc5-447c-4394-9a86-c2ccd3776e98",
   "metadata": {},
   "source": [
    "Dodajmy klasę `Resources` znaną z poprzendnich przykładów"
   ]
  },
  {
   "cell_type": "code",
   "execution_count": null,
   "id": "a88aa6c8-ffa4-445d-bf81-eae2f27e6376",
   "metadata": {},
   "outputs": [],
   "source": [
    "sealed class Resource<T>(\n",
    "    val data: T? = null,\n",
    "    val throwable: Throwable? = null\n",
    ") {\n",
    "    class Success<T>(data: T) : Resource<T>(data)\n",
    "    class Error<T>(throwable: Throwable, data: T? = null) : Resource<T>(data, throwable)\n",
    "    class Loading<T>(data: T? = null) : Resource<T>(data)\n",
    "}"
   ]
  },
  {
   "cell_type": "markdown",
   "id": "d36c41ad-f3ee-4aa9-ab98-e020dd960270",
   "metadata": {},
   "source": [
    "Zdefiniujmy funkcję `networkBoundResource` w pliku `NetworkBoundResource`, bedzie ona odpowiedzialna za logikę dostępu do danych - kiedy i w jakich warunkach dostajemy dane z serwera lub bazy lokalnej."
   ]
  },
  {
   "cell_type": "code",
   "execution_count": null,
   "id": "cfa63524-2fe2-43a9-aec3-afa441f85ed9",
   "metadata": {},
   "outputs": [],
   "source": [
    "inline fun <ResultType, RequestType> networkBoundResource()"
   ]
  },
  {
   "cell_type": "markdown",
   "id": "fe822cc3-671a-484a-bf52-664fb8735088",
   "metadata": {},
   "source": [
    "`inline` poprawia znacznie wydajność tej funkcji. Funkcja będzie przyjmować funkcje jako argumenty i koordynować ich pracę - czyli okreslić kiedy wykonać połączenie z bazą lokalną, kiedy z api. Do funkcji przekazujemy dwa generyczne argumenty `ResultType` i `RequestType` - funkcja posiada dwa argumenty, ponieważ typ danych otrzymanych z api może się różnić od typu otrzymanego z lokalnej bazy - w tej aplikacji typ jest taki sam.\n",
    "\n",
    "Jako argumenty przekażemy cztery funkcje\n",
    "- query: () -> Flow<ResultType> - odpowiedzialna za pobranie danych z lokalnej bazy danych - nie przyjmuje argumentów, zwraca `Flow<ResultType>` - tutaj `ResultType` będzie odpowiadał `List<User>`.\n",
    "- fetch: suspend () -> RequestType - funkcja z zawieszeniem wykonania, nie przyjmująca argumentów, odpowiedzialna za pobranie danych z api, zwraca `RequestType` - tutaj `RequestType` odpowieda `List<User>`.\n",
    "- saveFetchResult: suspend (RequestType) -> Unit - funkcja z zawieszeniem wykonania, odpowiedzialna za przejęcie i zapisanie danych z api do bazy lokalnej, przyjmuje jeden argument - w naszej aplikacji bedzie przyjmować listę użytkowników pobraną z api.\n",
    "- shouldFetch: (ResultType) -> Boolean = {true} - decyduje czy dane z lokalnej bazy są aktualne i czy należy wykonać aktualizację, przejmuje jeden argument typu `ResultType` i zwraca `Booldean` - domyślnie wartość jest ustawiona na `True`.\n",
    "\n",
    "Popnieważ nasza funkcja posiada modyfikator `inline`, argumenty zwracające wartość muszą być oznaczone przez `crossinline`."
   ]
  },
  {
   "cell_type": "code",
   "execution_count": null,
   "id": "488c26f2-16b3-4ee4-86f5-4559d80e5100",
   "metadata": {},
   "outputs": [],
   "source": [
    "inline fun <ResultType, RequestType> networkBoundResource(\n",
    "    crossinline query: () -> Flow<ResultType>,\n",
    "    crossinline fetch: suspend () -> RequestType,\n",
    "    crossinline saveFetchResult: suspend (RequestType) -> Unit,\n",
    "    crossinline shouldFetch: (ResultType) -> Boolean = {true} // domyślnie zawsze aktualizuje\n",
    ")"
   ]
  },
  {
   "cell_type": "markdown",
   "id": "0a7aecc2-39c2-4060-89a6-1c0c25b2edf0",
   "metadata": {},
   "source": [
    "funkcja tworzy *zimny* `Flow` - zimny strumień (`Flow`) nie emituje danych dopóki inny obiekt nie rozpocznie odbierania."
   ]
  },
  {
   "cell_type": "code",
   "execution_count": null,
   "id": "306367dd-bf00-4806-ae73-1c2b74b755b5",
   "metadata": {},
   "outputs": [],
   "source": [
    "inline fun <ResultType, RequestType> networkBoundResource(\n",
    "    crossinline query: () -> Flow<ResultType>,\n",
    "    crossinline fetch: suspend () -> RequestType,\n",
    "    crossinline saveFetchResult: suspend (RequestType) -> Unit,\n",
    "    crossinline shouldFetch: (ResultType) -> Boolean = {true}\n",
    ") = flow {}"
   ]
  },
  {
   "cell_type": "markdown",
   "id": "cdb7f180-3ade-4a7f-845c-065d3e3ba164",
   "metadata": {},
   "source": [
    "W pierwszej kolejności musimy zdecydować czy chcemy dostać nową wersję danych z api, czy nie. Utwórzmy dane"
   ]
  },
  {
   "cell_type": "code",
   "execution_count": null,
   "id": "fa0567c5-ccc1-49af-9401-6cdc3eb7d871",
   "metadata": {},
   "outputs": [],
   "source": [
    "val data = query().first()"
   ]
  },
  {
   "cell_type": "markdown",
   "id": "0e0794bb-b93c-4280-b2cf-cc7aebd95ef8",
   "metadata": {},
   "source": [
    "Wywołujemy funkcję `query`, ponieważ zwraca ona `Flow`, a tutaj potrzebujemy tylko jedną listę - wywaołujemy funkcję `first`.\n",
    "\n",
    "Następnie w warunku `if` sprawdzamy czy musimy pobrać nowe dane"
   ]
  },
  {
   "cell_type": "markdown",
   "id": "88928d9f-d816-4b31-b343-c09c312cf330",
   "metadata": {},
   "source": [
    "if (shouldFetch(data)){"
   ]
  },
  {
   "cell_type": "markdown",
   "id": "16f98002-5135-406f-95b7-b792a61f69be",
   "metadata": {},
   "source": [
    "Jako argument podajemy dane, które wcześniej dostaliśmy z lokalnej bazy.\n",
    "\n",
    "Jeżeli musimy pobrać nowe dane, emitujemy stan ładowania (`Resource.Loading`)"
   ]
  },
  {
   "cell_type": "code",
   "execution_count": null,
   "id": "3854b7f1-5552-4cff-bd3f-959ef00f9490",
   "metadata": {},
   "outputs": [],
   "source": [
    "emit(Resource.Loading(data))"
   ]
  },
  {
   "cell_type": "markdown",
   "id": "00ecd009-608f-4f03-8592-e7859f752e4e",
   "metadata": {},
   "source": [
    "Możemy wyemitować wartości, wywołując funkcję `emit` - dzięki temu możemy wyświetlić na ekranie dane z bazy lokalnej podczas ładowania danych z api.\n",
    "\n",
    "Nasrtępnie chcemy pobrać dane z api i dodać je do bazy lokalnej."
   ]
  },
  {
   "cell_type": "code",
   "execution_count": null,
   "id": "1209c02a-029b-4fa7-a4e5-aa87db46aab7",
   "metadata": {},
   "outputs": [],
   "source": [
    "saveFetchResult(fetch())"
   ]
  },
  {
   "cell_type": "markdown",
   "id": "2b894680-588d-4149-9ca5-a7b09452580f",
   "metadata": {},
   "source": [
    "Musimy obsłużyć sytuację w której nasze żądanie nie zostanie zakończone sukcesem. Dodajmy blok `try-catch`"
   ]
  },
  {
   "cell_type": "code",
   "execution_count": null,
   "id": "d1504d98-c9b2-4479-98e3-438c6d3b5aed",
   "metadata": {},
   "outputs": [],
   "source": [
    "try {\n",
    "    saveFetchResult(fetch())\n",
    "} catch (throwable: Throwable){\n",
    "\n",
    "}"
   ]
  },
  {
   "cell_type": "markdown",
   "id": "125d2439-3471-42e4-955f-5b807b0883be",
   "metadata": {},
   "source": [
    "Jeżeli żądanie zostało zakończone sukcesem, chcemy przekazać dane do ui i wyemitować stan `Resource.Success`"
   ]
  },
  {
   "cell_type": "code",
   "execution_count": null,
   "id": "0ad72df8-3f98-4c59-90eb-de56d1b557c8",
   "metadata": {},
   "outputs": [],
   "source": [
    "try {\n",
    "    saveFetchResult(fetch())\n",
    "    query().map { Resource.Success(it) } // zwraca Flow<Resource<List<User>>>\n",
    "} catch (throwable: Throwable){\n",
    "\n",
    "}"
   ]
  },
  {
   "cell_type": "markdown",
   "id": "833e2c8a-ab2e-4492-b0c9-edb75e4a450d",
   "metadata": {},
   "source": [
    "Jeżeli dostaniemy błąd, chcemy wykonać aktualizację lokalną (korzystając z bazy) i wyemitować stan `Resource.Error`"
   ]
  },
  {
   "cell_type": "code",
   "execution_count": null,
   "id": "8a108860-d6a1-4613-94e2-3158032910a1",
   "metadata": {},
   "outputs": [],
   "source": [
    "try {\n",
    "    saveFetchResult(fetch())\n",
    "    query().map { Resource.Success(it) } // zwraca Flow<Resource<List<User>>>\n",
    "} catch (throwable: Throwable){\n",
    "    query().map { Resource.Error(throwable, it) }\n",
    "}"
   ]
  },
  {
   "cell_type": "markdown",
   "id": "5c538375-9ae3-41e4-8061-f6fa367b60c4",
   "metadata": {},
   "source": [
    "Jeżeli `if (shouldFetch(data))` zwróci `false`, chcemy zwrócić aktualne dane z bazy, niewymagające aktualizacji. "
   ]
  },
  {
   "cell_type": "code",
   "execution_count": null,
   "id": "3800fba2-4961-421e-8007-d31e7e74e012",
   "metadata": {},
   "outputs": [],
   "source": [
    "if (shouldFetch(data)){\n",
    "    emit(Resource.Loading(data))\n",
    "    try {\n",
    "        saveFetchResult(fetch())\n",
    "        query().map { Resource.Success(it) }\n",
    "    } catch (throwable: Throwable){\n",
    "        query().map { Resource.Error(throwable, it) }\n",
    "    }\n",
    "} else query().map { Resource.Success(it) }"
   ]
  },
  {
   "cell_type": "markdown",
   "id": "92411a64-466d-48c4-9561-d3175d9e3bd9",
   "metadata": {},
   "source": [
    "Ponieważ `query.map()` zwraca `Flow`, możemy utworzyć wartość i ją wyemitować."
   ]
  },
  {
   "cell_type": "code",
   "execution_count": null,
   "id": "f87827bb-35aa-4053-aceb-3cbcdb35d1c1",
   "metadata": {},
   "outputs": [],
   "source": [
    "val flow = if (shouldFetch(data)){\n",
    "    emit(Resource.Loading(data))\n",
    "    try {\n",
    "        saveFetchResult(fetch())\n",
    "        query().map { Resource.Success(it) }\n",
    "    } catch (throwable: Throwable){\n",
    "        query().map { Resource.Error(throwable, it) }\n",
    "    }\n",
    "} else query().map { Resource.Success(it) }\n",
    "\n",
    "emitAll(flow) // emituje przyszłe aktualizacje bazy"
   ]
  },
  {
   "cell_type": "markdown",
   "id": "e14d1fa3-f948-45e5-859a-35b63b6b9162",
   "metadata": {},
   "source": [
    "Pełny kod `networkBoundResource`"
   ]
  },
  {
   "cell_type": "code",
   "execution_count": null,
   "id": "66522140-c80a-418c-bdcf-d31dc9a4695d",
   "metadata": {},
   "outputs": [],
   "source": [
    "inline fun <ResultType, RequestType> networkBoundResource(\n",
    "    crossinline query: () -> Flow<ResultType>,\n",
    "    crossinline fetch: suspend () -> RequestType,\n",
    "    crossinline saveFetchResult: suspend (RequestType) -> Unit,\n",
    "    crossinline shouldFetch: (ResultType) -> Boolean = {true}\n",
    ") = flow {\n",
    "    val data = query().first()\n",
    "    val flow = if (shouldFetch(data)){\n",
    "        emit(Resource.Loading(data))\n",
    "        try {\n",
    "            saveFetchResult(fetch())\n",
    "            query().map { Resource.Success(it) }\n",
    "        } catch (throwable: Throwable){\n",
    "            query().map { Resource.Error(throwable, it) }\n",
    "        }\n",
    "    } else query().map { Resource.Success(it) }\n",
    "\n",
    "    emitAll(flow)\n",
    "}"
   ]
  },
  {
   "cell_type": "markdown",
   "id": "4b22e6e9-8e4a-414a-8eaf-0c8fe65990d5",
   "metadata": {},
   "source": [
    "Dodajmy repozytorium, wykorzystamy wstrzyknięcie przez konstruktor `RandomApi` oraz `UserDatabase`"
   ]
  },
  {
   "cell_type": "code",
   "execution_count": null,
   "id": "a9e14060-4629-4d6f-8c71-1c2bd1b65476",
   "metadata": {},
   "outputs": [],
   "source": [
    "class UserRepository @Inject constructor (\n",
    "    private val api: RandomApi,\n",
    "    private val db: UserDatabase\n",
    "        ) {"
   ]
  },
  {
   "cell_type": "markdown",
   "id": "be04c231-2f2e-44ff-9ecb-630a9ac383e2",
   "metadata": {},
   "source": [
    "W repozytorium zdefiniujmey jedną funkcję `getUsers`, w której wywołamy poprzednio zaimplementowaną `networkBoundResource`"
   ]
  },
  {
   "cell_type": "code",
   "execution_count": null,
   "id": "ebd7d67a-2200-471a-b292-4ec3626128d3",
   "metadata": {},
   "outputs": [],
   "source": [
    "fun getUsers() = networkBoundResource("
   ]
  },
  {
   "cell_type": "markdown",
   "id": "f76dac78-515a-484a-9473-3d736d85c5e0",
   "metadata": {},
   "source": [
    "Jako pierwszy argument przekazujemy funkcję `getUsers` z naszego `Dao`."
   ]
  },
  {
   "cell_type": "code",
   "execution_count": null,
   "id": "11545ba8-783d-4794-8b9a-473585b1f03b",
   "metadata": {},
   "outputs": [],
   "source": [
    "query = { db.usersDao().getUsers() },"
   ]
  },
  {
   "cell_type": "markdown",
   "id": "69660b3e-9ed3-446f-90e1-7960d7e07bd4",
   "metadata": {},
   "source": [
    "Jako drugi argument przekazujemy funkcję `users` z `RandomApi`"
   ]
  },
  {
   "cell_type": "code",
   "execution_count": null,
   "id": "f6da7939-bc53-46e8-bf98-51620a36d0e5",
   "metadata": {},
   "outputs": [],
   "source": [
    "fetch = { api.users() },"
   ]
  },
  {
   "cell_type": "markdown",
   "id": "b5b32568-ae24-4032-8c8c-2e500a275c99",
   "metadata": {},
   "source": [
    "Funkcję `saveFetchResult` wywołamy jako `withTransaction`"
   ]
  },
  {
   "cell_type": "code",
   "execution_count": null,
   "id": "377bbabc-4421-4235-a3b2-16c103415ebe",
   "metadata": {},
   "outputs": [],
   "source": [
    "saveFetchResult = { users ->\n",
    "    db.withTransaction {"
   ]
  },
  {
   "cell_type": "markdown",
   "id": "78e66a15-9d73-4149-9874-c73d0b6de5fc",
   "metadata": {},
   "source": [
    "`withTransaction` oznacza że **wszystkie** operacje w tym bloku będą wykonane lub **żadna**."
   ]
  },
  {
   "cell_type": "code",
   "execution_count": null,
   "id": "cf0c8eda-ffc4-4d7a-87e0-b9b45717630a",
   "metadata": {},
   "outputs": [],
   "source": [
    "saveFetchResult = { users ->\n",
    "    db.withTransaction {\n",
    "        db.usersDao().apply {\n",
    "            clear()\n",
    "            insert(users)\n",
    "        }\n",
    "    }\n",
    "}"
   ]
  },
  {
   "cell_type": "markdown",
   "id": "407e3f19-585d-4cd5-90cc-62f5715abfd7",
   "metadata": {},
   "source": [
    "Ponieważ wywołujemy dwie funkcje: `clear` - czyszcząca bazę, oraz `insert` - dodająca całą listę, wykorzystanie `withTransaction` pozwala nam uniknąć sytuacji w której usuwamy całą bazę, a `insert` nie kończy się sukcesem.\n",
    "\n",
    "Czwarty argument w tym przykładzie pozostawiamy z wartością domyślną.\n",
    "\n",
    "Pełny kods repozytorium:"
   ]
  },
  {
   "cell_type": "code",
   "execution_count": null,
   "id": "f60c8385-11a5-47dd-b131-d5e1fba9d3f8",
   "metadata": {},
   "outputs": [],
   "source": [
    "class UserRepository @Inject constructor (\n",
    "    private val api: RandomApi,\n",
    "    private val db: UserDatabase\n",
    "        ) {\n",
    "    fun getUsers() = networkBoundResource(\n",
    "        query = { db.usersDao().getUsers() },\n",
    "        fetch = { api.users() },\n",
    "        saveFetchResult = { users ->\n",
    "            db.withTransaction {\n",
    "                db.usersDao().apply {\n",
    "                    clear()\n",
    "                    insert(users)\n",
    "                }\n",
    "            }\n",
    "        }\n",
    "    )\n",
    "}"
   ]
  },
  {
   "cell_type": "markdown",
   "id": "f327f314-14f8-4d69-a3b0-c11a28cb5351",
   "metadata": {},
   "source": [
    "Dodajmy `ViewModel"
   ]
  },
  {
   "cell_type": "code",
   "execution_count": null,
   "id": "526c7c07-99f4-4427-b767-a8526568d95b",
   "metadata": {},
   "outputs": [],
   "source": [
    "@HiltViewModel\n",
    "class UserViewModel @Inject constructor(\n",
    "    repository: UserRepository\n",
    ") : ViewModel() {\n",
    "    val users = repository.getUsers().asLiveData()\n",
    "}"
   ]
  },
  {
   "cell_type": "markdown",
   "id": "c2fd8b0d-bde5-4c95-8c59-bcfe47d50833",
   "metadata": {},
   "source": [
    "Metoda `getUsers` zwraca `Flow`, więc wykorzystujemy `asLiveData` aby dostać instancję `LiveData`"
   ]
  },
  {
   "cell_type": "markdown",
   "id": "f1945a36-cf70-4503-ba3f-a1c9598e6031",
   "metadata": {},
   "source": [
    "W aktywności fgłównej posiadamy `RecyclerView`, więc dodajmyn `Comparator`, `ViewHolder` oraz `Adapter`"
   ]
  },
  {
   "cell_type": "code",
   "execution_count": null,
   "id": "4c3cd88c-b29a-49bd-bd4e-6602c30267ec",
   "metadata": {},
   "outputs": [],
   "source": [
    "class UserComparator : DiffUtil.ItemCallback<User>() {\n",
    "    override fun areItemsTheSame(oldItem: User, newItem: User): Boolean {\n",
    "        return newItem.uid == oldItem.uid\n",
    "    }\n",
    "\n",
    "    override fun areContentsTheSame(oldItem: User, newItem: User): Boolean {\n",
    "        return newItem == oldItem\n",
    "    }\n",
    "}\n",
    "\n",
    "class UserViewHolder(private val binding: RvItemBinding) : \n",
    "    RecyclerView.ViewHolder(binding.root) {\n",
    "    fun bind(item: User){\n",
    "        binding.firstName.text = item.first_name\n",
    "        binding.lastName.text = item.last_name\n",
    "        binding.city.text = item.address.city\n",
    "        binding.country.text = item.address.country\n",
    "        binding.dateOfBirth.text = item.date_of_birth\n",
    "        binding.creditCardNumber.text = item.credit_card.cc_number\n",
    "        binding.email.text = item.email\n",
    "        binding.employment.text = item.employment.title\n",
    "        binding.gender.text = item.gender\n",
    "        binding.password.text = item.password\n",
    "        binding.paymentMethod.text = item.subscription.payment_method\n",
    "        binding.phone.text = item.phone_number\n",
    "        binding.plan.text = item.subscription.plan\n",
    "        binding.term.text = item.subscription.term\n",
    "        binding.paymentMethod.text = item.subscription.payment_method\n",
    "        binding.state.text = item.address.state\n",
    "        binding.zipCode.text = item.address.zip_code\n",
    "        binding.status.text = item.subscription.status\n",
    "        binding.streetAddress.text = item.address.street_address\n",
    "        binding.streetName.text = item.address.street_name\n",
    "        binding.username.text = item.username\n",
    "        Glide.with(binding.root).load(item.avatar).into(binding.image)\n",
    "    }\n",
    "}\n",
    "    \n",
    "class UserAdapter(comparator: UserComparator) : \n",
    "    ListAdapter<User, UserViewHolder>(comparator) {\n",
    "    override fun onCreateViewHolder(\n",
    "        parent: ViewGroup, \n",
    "        viewType: Int\n",
    "    ): UserViewHolder = UserViewHolder(\n",
    "            RvItemBinding.inflate(\n",
    "                LayoutInflater.from(parent.context), parent, false\n",
    "            )\n",
    "        )\n",
    "\n",
    "    override fun onBindViewHolder(\n",
    "        holder: UserViewHolder, \n",
    "        position: Int\n",
    "    ) = holder.bind(getItem(position))\n",
    "}"
   ]
  },
  {
   "cell_type": "markdown",
   "id": "9611be21-0601-4599-be7f-0eb9f19ac2a7",
   "metadata": {},
   "source": [
    "Dodajmy klasę `Application`"
   ]
  },
  {
   "cell_type": "code",
   "execution_count": null,
   "id": "517aa40d-edfa-4ee8-93de-e2d3f7289278",
   "metadata": {},
   "outputs": [],
   "source": [
    "@HiltAndroidApp\n",
    "class UsersApplication : Application() {\n",
    "}"
   ]
  },
  {
   "cell_type": "markdown",
   "id": "206d67fb-980e-4dbe-8780-dc10f5399161",
   "metadata": {},
   "source": [
    "Na koniec zaimplementujmy niezbędne elementy w aktywności głównej"
   ]
  },
  {
   "cell_type": "code",
   "execution_count": null,
   "id": "5f3fe324-05a0-4b27-9dce-3cfdef38ae5c",
   "metadata": {},
   "outputs": [],
   "source": [
    "@AndroidEntryPoint\n",
    "class MainActivity : AppCompatActivity() {\n",
    "\n",
    "    private val binding: ActivityMainBinding by lazy {\n",
    "        ActivityMainBinding.inflate(layoutInflater)\n",
    "    }\n",
    "\n",
    "    private val viewModel: UserViewModel by viewModels()\n",
    "\n",
    "    override fun onCreate(savedInstanceState: Bundle?) {\n",
    "        super.onCreate(savedInstanceState)\n",
    "        setContentView(binding.root)\n",
    "\n",
    "        val adapter = UserAdapter(UserComparator())\n",
    "        setupRecyclerView(adapter)\n",
    "\n",
    "        viewModel.users.observe(this) { result ->\n",
    "            adapter.submitList(result.data)\n",
    "\n",
    "            binding.progressBar.isVisible = \n",
    "                result is Resource.Loading && result.data.isNullOrEmpty()\n",
    "        }\n",
    "\n",
    "    }\n",
    "\n",
    "    private fun setupRecyclerView(userAdapter: UserAdapter) {\n",
    "        binding.recyclerView.apply {\n",
    "            adapter = userAdapter\n",
    "            layoutManager = LinearLayoutManager(this@MainActivity)\n",
    "        }\n",
    "    }\n",
    "}"
   ]
  },
  {
   "cell_type": "markdown",
   "id": "50be5835-3970-42b8-89eb-b0f3db9b52e1",
   "metadata": {},
   "source": [
    "Możemy przetestować aplikację. Jak widzimy przy pierwszym uruchomieniu ładowane są dane, przy drugim wyświetlane są dane *offline cached* z bazy lokalnej, asynchronicznie wykonywana jest aktualizacja z serwera."
   ]
  },
  {
   "cell_type": "markdown",
   "id": "db412c12-7651-4427-bfd5-00a848cac749",
   "metadata": {},
   "source": [
    "<img src=\"https://media1.giphy.com/media/y0RLxRN7SPJ7mI7Hw5/giphy.gif?cid=790b7611ea236e1ec92b9220e3629a80e851a7759882cbee&rid=giphy.gif&ct=g\" width=\"150\" />"
   ]
  },
  {
   "cell_type": "code",
   "execution_count": null,
   "id": "d5b06481-23ee-4a1f-a80d-a8b752dc99d9",
   "metadata": {},
   "outputs": [],
   "source": []
  }
 ],
 "metadata": {
  "kernelspec": {
   "display_name": "Kotlin",
   "language": "kotlin",
   "name": "kotlin"
  },
  "language_info": {
   "codemirror_mode": "text/x-kotlin",
   "file_extension": ".kt",
   "mimetype": "text/x-kotlin",
   "name": "kotlin",
   "nbconvert_exporter": "",
   "pygments_lexer": "kotlin",
   "version": "1.6.20-dev-6372"
  }
 },
 "nbformat": 4,
 "nbformat_minor": 5
}
