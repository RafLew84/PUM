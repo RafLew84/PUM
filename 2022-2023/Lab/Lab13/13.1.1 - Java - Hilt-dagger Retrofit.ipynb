{
 "cells": [
  {
   "cell_type": "markdown",
   "id": "8b0d1092-f438-4283-8a73-6696fe0ed40d",
   "metadata": {},
   "source": [
    "## 13.1 Dagger-Hilt - Podstawy"
   ]
  },
  {
   "cell_type": "markdown",
   "id": "44289a68-d637-4a0d-b8ec-ea30e6c29819",
   "metadata": {},
   "source": [
    "Wv tej aplikacji zapoznamy się z podstawami wykorzystania `Dagger-Hilt` w aplikacji. Jak zobaczymy zastosowanie biblioteki `Hilt` mocno upraszcza całą procedurę *wstrzyknięć*. Wykorzystamy `Retrofit2`, `LoggingInterceptor` i architekturę **MVVM**. Jako backend ponownie wybierzemy https://jsonplaceholder.typicode.com/.\n",
    "\n",
    "Rozpocznijmy od dodania odpowiednich zależności"
   ]
  },
  {
   "cell_type": "code",
   "execution_count": null,
   "id": "7896e27f-bf0c-4540-8b81-7547ccf0c855",
   "metadata": {},
   "outputs": [],
   "source": [
    "plugins {\n",
    "    id 'com.android.application'\n",
    "    id 'com.google.dagger.hilt.android'\n",
    "}\n",
    "...\n",
    "dependencies {\n",
    "\n",
    "    implementation \"com.google.dagger:hilt-android:2.44\"\n",
    "    annotationProcessor 'androidx.hilt:hilt-compiler:1.0.0'\n",
    "    annotationProcessor \"com.google.dagger:hilt-android-compiler:2.44\"\n",
    "\n",
    "    implementation 'com.squareup.retrofit2:retrofit:2.9.0'\n",
    "    implementation 'com.google.code.gson:gson:2.9.1'\n",
    "    implementation 'com.squareup.retrofit2:converter-gson:2.9.0'\n",
    "    implementation 'com.squareup.okhttp3:logging-interceptor:4.10.0'\n",
    "}"
   ]
  },
  {
   "cell_type": "markdown",
   "id": "018168d3-57c3-4d01-875b-2c7a897129f0",
   "metadata": {},
   "source": [
    "Do bloku `plugins` pliku `build.gradle(Project)` dodajemy"
   ]
  },
  {
   "cell_type": "code",
   "execution_count": null,
   "id": "3ec27468-a1aa-4620-ac33-3a678e95d46f",
   "metadata": {},
   "outputs": [],
   "source": [
    "id 'com.google.dagger.hilt.android' version '2.44' apply false"
   ]
  },
  {
   "cell_type": "markdown",
   "id": "5c95b888-20f7-4755-9a30-9029a70aac5f",
   "metadata": {},
   "source": [
    "### Szkielet projektu"
   ]
  },
  {
   "cell_type": "markdown",
   "id": "adec411c-ebbe-446f-a82a-f5439d7cf810",
   "metadata": {},
   "source": [
    "Naszą aplikację podzielimy na kilka pakietów\n",
    "- `data` - model danych + dwa pakiety\n",
    "    - `remote` zawierający interfejs `PlaceholderApi`\n",
    "    - `repository` zawierający implementację repozytorium aplikacji\n",
    "- `di` - przeznaczony do *dependency injection* - tutaj dodamy moduły\n",
    "- `ui` - elementy interfejsu użytkownika\n",
    "- w głównym pakiecie znajduje się klasa `MyApp` rozszerzająca `Application`"
   ]
  },
  {
   "cell_type": "markdown",
   "id": "4618071e-40c6-4e8f-8152-e03ec9355f6c",
   "metadata": {},
   "source": [
    "Rozpocznijmy od interfejsu `PlaceholderApi` w pakiecie `data/remote`. Jest on identyczny jak w przykładzie 11.1"
   ]
  },
  {
   "cell_type": "code",
   "execution_count": null,
   "id": "30f817b9-c9eb-45ef-9b8e-eb4dfd7fa5e7",
   "metadata": {},
   "outputs": [],
   "source": [
    "public interface PlaceholderApi {\n",
    "    @GET(\"posts\")\n",
    "    Call<List<Post>> getPosts();\n",
    "}"
   ]
  },
  {
   "cell_type": "markdown",
   "id": "fae7f7d1-1cbd-4d3f-adb4-0fe353e76f24",
   "metadata": {},
   "source": [
    "Do pakietu `data` dodajmy model danych (identyczny jak w 11.1)"
   ]
  },
  {
   "cell_type": "code",
   "execution_count": null,
   "id": "7c36eab9-b7d0-4414-a31f-51525ef6b32b",
   "metadata": {},
   "outputs": [],
   "source": [
    "public class Post {\n",
    "    private int userId;\n",
    "    private int id;\n",
    "    private String title;\n",
    "\n",
    "    @SerializedName(\"body\")\n",
    "    String content;\n",
    "\n",
    "    public int getUserId() {\n",
    "        return userId;\n",
    "    }\n",
    "\n",
    "    public int getId() {\n",
    "        return id;\n",
    "    }\n",
    "\n",
    "    public String getTitle() {\n",
    "        return title;\n",
    "    }\n",
    "\n",
    "    public String getContent() {\n",
    "        return content;\n",
    "}\n",
    "}"
   ]
  },
  {
   "cell_type": "markdown",
   "id": "626b42fc-6a19-4a71-9c9e-5c46d22fa18a",
   "metadata": {},
   "source": [
    "Do pakietu `data/repository` dodajmy klasę `AppRepository`"
   ]
  },
  {
   "cell_type": "code",
   "execution_count": null,
   "id": "879387bf-81a5-485e-8de2-db8f2efce349",
   "metadata": {},
   "outputs": [],
   "source": [
    "public class AppRepository {\n",
    "    private final PlaceholderApi api;\n",
    "\n",
    "    public AppRepository(PlaceholderApi api) {\n",
    "        this.api = api;\n",
    "    }\n",
    "\n",
    "    public Call<List<Post>> getPosts() {\n",
    "        return api.getPosts();\n",
    "    }\n",
    "}"
   ]
  },
  {
   "cell_type": "markdown",
   "id": "6c61d744-a8ce-4b2f-ad35-aeccd62c11fe",
   "metadata": {},
   "source": [
    "Do pakietu `di` dodajmy nasz moduł `AppModule`, tutaj zdefiniujemy instancję `Retrofit`. Chcemy posiadać jeden moduł o czasie życia aplikacji (powiązany z kontekstem `Application`), więc będzie to `object`"
   ]
  },
  {
   "cell_type": "code",
   "execution_count": null,
   "id": "b25becc2-0d5e-4f18-bcfd-71b14093032f",
   "metadata": {},
   "outputs": [],
   "source": [
    "@Module\n",
    "public class AppModule {}"
   ]
  },
  {
   "cell_type": "markdown",
   "id": "0f59e4a8-f10e-4e0f-aab3-0b2e8c071800",
   "metadata": {},
   "source": [
    "Drugą adnotacją którą zastosujemy jest `@InstallIn` - deklaruje do których komponentów opisana klasa/obiekt powinna zostać dodana podczas generacji obiektów przez `Hilt`."
   ]
  },
  {
   "cell_type": "code",
   "execution_count": null,
   "id": "77e8dddf-1ffa-4e9c-bf09-60b533040f77",
   "metadata": {},
   "outputs": [],
   "source": [
    "@Module\n",
    "@InstallIn(SingletonComponent.class)\n",
    "public class AppModule {}"
   ]
  },
  {
   "cell_type": "markdown",
   "id": "dc1b800b-c5fb-477a-86bb-09d73aff811b",
   "metadata": {},
   "source": [
    "Komponent podany jako argument `@InstallIn` decyduje o czasie życia zależności dodanych w module. Niektóre przekłady\n",
    "- `SingletonComponent` - czas życia aplikacji (poprzednio nazywany `ApplicationComponent`)\n",
    "- `ActivityComponent` - czas życia aktywności\n",
    "- `ViewModelComponent` - czas życia `ViewModel`\n",
    "- `ServiceComponent` - czas życia serwisu\n",
    "- `ActivityRetainedComponent` - czas życia aktywności + zmiana konfiguracji (rotacja)"
   ]
  },
  {
   "cell_type": "markdown",
   "id": "fdb10b1e-17d8-4770-a850-65f75a159f63",
   "metadata": {},
   "source": [
    "Dodajmy metodę `providePlaceholderApi`, gdzie utworzymy instancję `Retrofit` i dodamy `LoggingInterceptor`"
   ]
  },
  {
   "cell_type": "code",
   "execution_count": null,
   "id": "d73d4215-d719-433e-8d50-91ed686c763a",
   "metadata": {},
   "outputs": [],
   "source": [
    "@Provides\n",
    "@Singleton\n",
    "PlaceholderApi providePlaceholderApi(){\n",
    "    HttpLoggingInterceptor interceptor = new HttpLoggingInterceptor();\n",
    "    interceptor.setLevel(HttpLoggingInterceptor.Level.BODY);\n",
    "    OkHttpClient client = new OkHttpClient.Builder()\n",
    "            .addInterceptor(interceptor)\n",
    "            .build();\n",
    "    return new Retrofit.Builder()\n",
    "            .baseUrl(\"https://jsonplaceholder.typicode.com/\")\n",
    "            .addConverterFactory(GsonConverterFactory.create())\n",
    "            .client(client)\n",
    "            .build().create(PlaceholderApi.class);\n",
    "}"
   ]
  },
  {
   "cell_type": "markdown",
   "id": "137a2435-add9-411e-8806-d9ed5c8b36d5",
   "metadata": {},
   "source": [
    "Jedynym nowym elementem jest adnotacja `@Singleton` - jeżeli `PlaceholderApi` zostanie wstrzyknięty do kilku klas, będzie to ta sama instancja. Bez tej adnotacji, przy wstrzykiwaniu do kilku klas, za każdym razem tworzona jest nowa instancja.\n",
    "\n",
    "Dodajmy drugą metodę dostarczającą repozytorium."
   ]
  },
  {
   "cell_type": "code",
   "execution_count": null,
   "id": "1908a595-db93-4fe8-a4cd-c62eabe14bae",
   "metadata": {},
   "outputs": [],
   "source": [
    "@Provides\n",
    "@Singleton\n",
    "AppRepository provideRepository(PlaceholderApi api){\n",
    "    return new AppRepositoryImpl(api);\n",
    "}"
   ]
  },
  {
   "cell_type": "markdown",
   "id": "34be85d8-2f23-4cd4-8da8-a4aab8f1a1d8",
   "metadata": {},
   "source": [
    "Dodajmy `AppViewModel`, wykorzystamy adnotację `HiltViewModel`, który pozwala bibliotece `Hilt` wykonać wstrzyknięcia do `ViewModel`, oraz wstrzyknąć sam `ViewModel` (jak i zastosować w kotlinie `by viewmodel()` lub `ViewModelProvider` w Javie) - dzięki tej adnotacji jest to o wiele łatwiejszev niż w przypadku zastosowania biblioteki `Dagger2`.\n",
    "\n",
    "Wykorzystamy adnotację `@Inject` do wstrzyknięcia przez konstruktor repozytorium do `AppViewModel`."
   ]
  },
  {
   "cell_type": "code",
   "execution_count": null,
   "id": "027736d9-9606-47c5-b77f-e56f89bd7f8f",
   "metadata": {},
   "outputs": [],
   "source": [
    "@HiltViewModel\n",
    "public class AppViewModel extends ViewModel {\n",
    "        private final AppRepository repository;\n",
    "    \n",
    "    @Inject\n",
    "    public AppViewModel(AppRepository repository) {\n",
    "        this.repository = repository;\n",
    "    }\n"
   ]
  },
  {
   "cell_type": "markdown",
   "id": "90088a99-263b-460b-89b2-e22583f106b4",
   "metadata": {},
   "source": [
    "Dodajmy listę wszystkich postów."
   ]
  },
  {
   "cell_type": "code",
   "execution_count": null,
   "id": "f003038f-5ecc-47ad-8f54-408f69bd5fe5",
   "metadata": {},
   "outputs": [],
   "source": [
    "private final MutableLiveData<List<Post>> posts = new MutableLiveData<>();\n",
    "\n",
    "public LiveData<List<Post>> getPosts() {\n",
    "        return posts;\n",
    "    }"
   ]
  },
  {
   "cell_type": "markdown",
   "id": "846c554f-aca4-41db-acdf-c18c859b251f",
   "metadata": {},
   "source": [
    "Na koniec dodajmy metodę `getPosts` wykorzystując `Coroutines` i `viewModelScope`"
   ]
  },
  {
   "cell_type": "code",
   "execution_count": null,
   "id": "71e6af09-d363-4b79-bfa2-310a260b6539",
   "metadata": {},
   "outputs": [],
   "source": [
    "public void getAllPosts(){\n",
    "    Call<List<Post>> responseCall = repository.getPosts();\n",
    "\n",
    "    responseCall.enqueue(new Callback<List<Post>>() {\n",
    "        @Override\n",
    "        public void onResponse(\n",
    "            @NonNull Call<List<Post>> call, \n",
    "            @NonNull Response<List<Post>> response) {\n",
    "            if (response.isSuccessful()){\n",
    "                List<Post> postsResponse = response.body();\n",
    "                if (postsResponse != null)\n",
    "                    posts.postValue(postsResponse);\n",
    "            }\n",
    "        }\n",
    "\n",
    "        @Override\n",
    "        public void onFailure(\n",
    "            @NonNull Call<List<Post>> call, \n",
    "            @NonNull Throwable t) {\n",
    "            Log.e(\"TAG\", \"error: \" + t.getMessage());\n",
    "        }\n",
    "    });\n",
    "}"
   ]
  },
  {
   "cell_type": "markdown",
   "id": "e6c1da5d-fa47-43fa-acd4-d45e296fc4b9",
   "metadata": {},
   "source": [
    "Jak widzimy, poza zastosowaniem kilku adnotacji w samym kodzie nic się nie zmienia."
   ]
  },
  {
   "cell_type": "markdown",
   "id": "89892d0a-c116-428d-8bb2-45907edd5027",
   "metadata": {},
   "source": [
    "Wymaganym jest również dodanie klasy rozszerzającej klasę `Application`, z adnotacją `HiltAndroidApp`"
   ]
  },
  {
   "cell_type": "code",
   "execution_count": null,
   "id": "77f054ff-3845-4680-8777-0449a009eb76",
   "metadata": {},
   "outputs": [],
   "source": [
    "@HiltAndroidApp\n",
    "public class MyApp extends Application {\n",
    "}"
   ]
  },
  {
   "cell_type": "markdown",
   "id": "2c724f58-42a2-43bd-b08d-7217a4a48a49",
   "metadata": {},
   "source": [
    "Dzięki temu `Hilt` *wie* że w tej klasie może tworzyć komponenty `Dagger2`. Adnotacja `@HiltAndroidApp` wyzwala generowanie komponentów `Dagger2` przez `Hilt`. Tutaj musimy jeszcze dokonać zmiany w pliku `AndroidManifest` i dodać `name` o nazwie klasy rozszerzającej `Application`"
   ]
  },
  {
   "cell_type": "code",
   "execution_count": null,
   "id": "f729ac2e-7e2c-49f6-b6b9-aee28f7f4ccf",
   "metadata": {},
   "outputs": [],
   "source": [
    "<application\n",
    "    android:name=\".MyApp\"\n",
    "    ..."
   ]
  },
  {
   "cell_type": "markdown",
   "id": "f75612a8-c9f8-43c4-9806-f38c95cdfb5d",
   "metadata": {},
   "source": [
    "Ta klasa może zostać wykorzystana w momencie gdy musimy dostarczyć `applicationContext` (np. do `ROOM`) - `Hilt` automatycznie wygeneruje odpowiedni kod."
   ]
  },
  {
   "cell_type": "markdown",
   "id": "de3938e0-d53d-45a6-9185-ab9c5ff80ef6",
   "metadata": {},
   "source": [
    "W aktywności głównej dodajemy `ViewModel`"
   ]
  },
  {
   "cell_type": "code",
   "execution_count": null,
   "id": "acd2448d-d230-4aa1-948a-cb3638e99d05",
   "metadata": {},
   "outputs": [],
   "source": [
    "AppViewModel viewModel = new ViewModelProvider(this).get(AppViewModel.class);"
   ]
  },
  {
   "cell_type": "markdown",
   "id": "a10a2957-2932-4e09-926a-512deb876f9f",
   "metadata": {},
   "source": [
    "W samej aktywności musimy dodać adnotację `@AndroidEntryPoint` - wskazuje punkt wejściowy aplikacji dla `Hilt`"
   ]
  },
  {
   "cell_type": "code",
   "execution_count": null,
   "id": "f41aa354-224b-43f8-89df-3665826836a7",
   "metadata": {},
   "outputs": [],
   "source": [
    "@AndroidEntryPoint\n",
    "public class MainActivity extends AppCompatActivity {"
   ]
  },
  {
   "cell_type": "markdown",
   "id": "9f4971a0-60a1-4827-b0ea-476cf5e88b47",
   "metadata": {},
   "source": [
    "W metodzie `onCreate` inicjujemy połączenie z serwerem."
   ]
  },
  {
   "cell_type": "code",
   "execution_count": null,
   "id": "300c733a-4449-416b-8ccd-384712b7a06b",
   "metadata": {},
   "outputs": [],
   "source": [
    "viewModel.getAllPosts();"
   ]
  },
  {
   "cell_type": "markdown",
   "id": "4f1d62bf-9140-43e0-a34c-5d01caa98de8",
   "metadata": {},
   "source": [
    "W pozostałych elementach nie ma żadnych nowych elementów."
   ]
  },
  {
   "cell_type": "code",
   "execution_count": null,
   "id": "46748735-afee-4460-9f91-8f4cb1623786",
   "metadata": {},
   "outputs": [],
   "source": [
    "viewModel.getPosts().observe(this, posts -> {\n",
    "    StringBuilder content = new StringBuilder();\n",
    "    posts.forEach( post ->\n",
    "            content\n",
    "                    .append(\"id: \").append(post.getId()).append(\"\\n\")\n",
    "                    .append(\"UserId: \").append(post.getUserId()).append(\"\\n\")\n",
    "                    .append(\"title: \").append(post.getTitle()).append(\"\\n\")\n",
    "                    .append(\"body: \").append(post.getContent()).append(\"\\n\\n\")\n",
    "    );\n",
    "    textView.setText(content.toString());\n",
    "});"
   ]
  }
 ],
 "metadata": {
  "kernelspec": {
   "display_name": "Java",
   "language": "java",
   "name": "java"
  },
  "language_info": {
   "codemirror_mode": "java",
   "file_extension": ".jshell",
   "mimetype": "text/x-java-source",
   "name": "Java",
   "pygments_lexer": "java",
   "version": "17+35-2724"
  }
 },
 "nbformat": 4,
 "nbformat_minor": 5
}
