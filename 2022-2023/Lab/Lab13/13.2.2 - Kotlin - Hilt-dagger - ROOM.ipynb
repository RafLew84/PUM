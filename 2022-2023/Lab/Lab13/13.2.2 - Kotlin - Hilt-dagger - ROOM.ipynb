{
 "cells": [
  {
   "cell_type": "markdown",
   "id": "d5826887-0d7f-4028-a4e0-d28ea892671c",
   "metadata": {},
   "source": [
    "## 13.2 Dagger-Hilt - Podstawy - ROOM"
   ]
  },
  {
   "cell_type": "markdown",
   "id": "9e7e0b38-ef95-4eca-8542-8dce18c6dc53",
   "metadata": {},
   "source": [
    "W tej aplikacji zaimplementujemy architekturę **MVVM** z wykorzystaniem `Dagger-Hilt` oraz lokalną bazą `ROOM`. Rozpocznijmy od dodania zależności."
   ]
  },
  {
   "cell_type": "code",
   "execution_count": null,
   "id": "42641340-d2c3-4493-a020-e7ac493a75ae",
   "metadata": {},
   "outputs": [],
   "source": [
    "// build.gradle(Project)\n",
    "id 'com.google.dagger.hilt.android' version '2.44' apply false"
   ]
  },
  {
   "cell_type": "code",
   "execution_count": null,
   "id": "87be74dd-4f70-4c77-89d0-8e4a481bdfbd",
   "metadata": {},
   "outputs": [],
   "source": [
    "plugins {\n",
    "    id 'com.android.application'\n",
    "    id 'org.jetbrains.kotlin.android'\n",
    "    id 'kotlin-kapt'\n",
    "    id 'dagger.hilt.android.plugin'\n",
    "    id 'kotlin-android'\n",
    "}\n",
    "\n",
    "dependencies {\n",
    "\n",
    "    implementation \"com.google.dagger:hilt-android:2.44\"\n",
    "    kapt \"com.google.dagger:hilt-android-compiler:2.44\"\n",
    "    kapt \"androidx.hilt:hilt-compiler:1.0.0\"\n",
    "\n",
    "\n",
    "    // activity dla kotlin KTX + ViewModel\n",
    "    implementation \"androidx.activity:activity-ktx:1.5.1\"\n",
    "\n",
    "    // ROOM\n",
    "    implementation(\"androidx.room:room-ktx:2.4.3\")\n",
    "    kapt(\"androidx.room:room-compiler:2.4.3\")\n",
    "\n",
    "    // ViewModel\n",
    "    implementation 'androidx.lifecycle:lifecycle-viewmodel-ktx:2.5.1'\n",
    "    // LiveData\n",
    "    implementation \"androidx.lifecycle:lifecycle-livedata-ktx:2.5.1\"\n",
    "}"
   ]
  },
  {
   "cell_type": "markdown",
   "id": "d59b066d-1586-43d3-aece-7fd5128a2eee",
   "metadata": {},
   "source": [
    "Zdefiniujmyn model danych."
   ]
  },
  {
   "cell_type": "code",
   "execution_count": null,
   "id": "57548277-7667-4f2c-a4ab-f137cebe9679",
   "metadata": {},
   "outputs": [],
   "source": [
    "@Entity(tableName = \"student\")\n",
    "data class Student(\n",
    "    @PrimaryKey(autoGenerate = true) var id: Int = 0,\n",
    "    val name: String)"
   ]
  },
  {
   "cell_type": "markdown",
   "id": "84c29bef-bb16-4cab-b044-9ffbf7ff8688",
   "metadata": {},
   "source": [
    "Następnie dodajmy klasę zwracającą instancję bazy - tutaj musimy przekazać `Context` w metodzie `getDatabase`."
   ]
  },
  {
   "cell_type": "code",
   "execution_count": null,
   "id": "b91ef41e-9a7b-46bf-ac1a-d6c6e927770b",
   "metadata": {},
   "outputs": [],
   "source": [
    "@Database(entities = [Student::class], version = 1)\n",
    "abstract class AppDatabase() : RoomDatabase() {\n",
    "\n",
    "    abstract fun appDao(): AppDao\n",
    "\n",
    "    companion object{\n",
    "        @Volatile private var INSTANCE: AppDatabase? = null\n",
    "\n",
    "        fun getDatabase(context: Context): AppDatabase {\n",
    "            return INSTANCE ?: synchronized(this) {\n",
    "                val instance = Room.databaseBuilder(\n",
    "                    context.applicationContext,\n",
    "                    AppDatabase::class.java,\n",
    "                    \"student_database_kotlin\"\n",
    "                ).build().also { INSTANCE = it }\n",
    "                instance\n",
    "            }\n",
    "        }\n",
    "    }\n",
    "}"
   ]
  },
  {
   "cell_type": "markdown",
   "id": "7ae96c80-0566-4d4c-b003-af3b98da13db",
   "metadata": {},
   "source": [
    "Kolejnym elementem bazy jest `Dao` - tutaj dodamy dwie metody do odczytania wszystkich danych oraz dodania pojedynczego elementu."
   ]
  },
  {
   "cell_type": "code",
   "execution_count": null,
   "id": "bad4d382-d83e-42d3-aba0-adff6f09c099",
   "metadata": {},
   "outputs": [],
   "source": [
    "@Dao\n",
    "interface AppDao {\n",
    "    @Insert(onConflict = OnConflictStrategy.IGNORE)\n",
    "    suspend fun addItem(student: Student)\n",
    "\n",
    "    @Query(\"SELECT * FROM student\")\n",
    "    fun readAllData(): LiveData<List<Student>>\n",
    "}"
   ]
  },
  {
   "cell_type": "markdown",
   "id": "0cc01aa0-e659-47d8-81d1-a1c109f3eed7",
   "metadata": {},
   "source": [
    "W metodzie dostarczającej musimy przekazać `Application` jako `Context` do utworzenia `ROOM`. Biblioteka `Hilt` automatycznie wykorzysta instancję klasy `AppAplication`, którą musimy zdefiniować jako context - ponieważ rozszerza ona klasę `Application`, czas żecia `ROOM` jest tożsamy z czasem życia samej aplikacji."
   ]
  },
  {
   "cell_type": "code",
   "execution_count": null,
   "id": "43cd72cb-7324-4a04-ac4a-c7295756086f",
   "metadata": {},
   "outputs": [],
   "source": [
    "@HiltAndroidApp\n",
    "class AppApplication : Application() {}"
   ]
  },
  {
   "cell_type": "code",
   "execution_count": null,
   "id": "b37052b5-e6fa-449d-af78-8613f990667d",
   "metadata": {},
   "outputs": [],
   "source": [
    "<manifest xmlns:android=\"http://schemas.android.com/apk/res/android\"\n",
    "    xmlns:tools=\"http://schemas.android.com/tools\">\n",
    "\n",
    "    <application\n",
    "        android:name=\".AppApplication\"\n",
    "..."
   ]
  },
  {
   "cell_type": "markdown",
   "id": "09dc9b56-e5bf-45d3-a3db-d2668769bd2d",
   "metadata": {},
   "source": [
    "Dodajmy moduł aplikacji - jak w poprzednim przykładzie, wykorzystamy `SingletonComponent`"
   ]
  },
  {
   "cell_type": "code",
   "execution_count": null,
   "id": "a45c8551-b786-456a-bf2c-eac29f00a879",
   "metadata": {},
   "outputs": [],
   "source": [
    "@Module\n",
    "@InstallIn(SingletonComponent::class)\n",
    "object AppModule {}"
   ]
  },
  {
   "cell_type": "markdown",
   "id": "68c93f14-40f9-4e2c-aeb9-f92acfcebd5d",
   "metadata": {},
   "source": [
    "Do modułu dodajmy metodę `getAppDB` dostarczającą instancję bazy danych"
   ]
  },
  {
   "cell_type": "code",
   "execution_count": null,
   "id": "7a5a4a9a-b169-4024-b839-b837d1a9baaf",
   "metadata": {},
   "outputs": [],
   "source": [
    "@Singleton\n",
    "@Provides\n",
    "fun getAppDB(app: Application): AppDatabase{\n",
    "    return AppDatabase.getDatabase(app)\n",
    "}"
   ]
  },
  {
   "cell_type": "markdown",
   "id": "ac645261-847f-4e2f-ba88-125965a84321",
   "metadata": {},
   "source": [
    "Jak widzimy `getAppDB` przyjmuje instancję `Application` - `Hilt` automatycznie dostarcza instancję klasy oznaczonej jako `@HiltAndroidApp`."
   ]
  },
  {
   "cell_type": "markdown",
   "id": "ee11bda7-18f4-4889-9185-71bc378d1eed",
   "metadata": {},
   "source": [
    "Drugą metodą jest `getDao` dostarczająca instancję obiektu implementującego interfejs `AppDao`."
   ]
  },
  {
   "cell_type": "code",
   "execution_count": null,
   "id": "f8737e86-8d93-4dca-9623-49ac1829e59b",
   "metadata": {},
   "outputs": [],
   "source": [
    "@Singleton\n",
    "@Provides\n",
    "fun getDao(db: AppDatabase): AppDao{\n",
    "    return db.appDao()\n",
    "}"
   ]
  },
  {
   "cell_type": "markdown",
   "id": "418aacc4-179d-47b7-af05-b4e160f4f9ca",
   "metadata": {},
   "source": [
    "Następnym elementem **MVVM** będzie repozytorium, po raz kolejny posłużymy się interfejsem oraz klasą implementującą ten interfejs."
   ]
  },
  {
   "cell_type": "code",
   "execution_count": null,
   "id": "713ec82f-00d9-4518-bc2c-db5ff98e4f68",
   "metadata": {},
   "outputs": [],
   "source": [
    "interface AppRepository {\n",
    "    val readAllData: LiveData<List<Student>>\n",
    "    suspend fun insert(student: Student)\n",
    "}"
   ]
  },
  {
   "cell_type": "code",
   "execution_count": null,
   "id": "3b5b7e76-df92-4199-8cab-7bf6a890b361",
   "metadata": {},
   "outputs": [],
   "source": [
    "class AppRepositoryImpl @Inject constructor (private val appDao: AppDao) : AppRepository {\n",
    "    override val readAllData: LiveData<List<Student>> = appDao.readAllData()\n",
    "    override suspend fun insert(student: Student) = appDao.addItem(student)\n",
    "}"
   ]
  },
  {
   "cell_type": "markdown",
   "id": "b2583950-0932-4e00-a93c-0780e4f86560",
   "metadata": {},
   "source": [
    "Do repozytorium dodajemy instancję `AppDao` stosując wstrzyknięcie przez konstruktor."
   ]
  },
  {
   "cell_type": "markdown",
   "id": "fcea1d13-56ac-4c2f-9d70-3d0ba942b760",
   "metadata": {},
   "source": [
    "Powróćmy do `AppModule` i dodajmy metodę dostarczającą repozytorium."
   ]
  },
  {
   "cell_type": "code",
   "execution_count": null,
   "id": "1fe77294-42cd-43f2-95cf-c6a940470cc9",
   "metadata": {},
   "outputs": [],
   "source": [
    "@Singleton\n",
    "@Provides\n",
    "fun provideAppRepository(appDao: AppDao) : AppRepository {\n",
    "    return AppRepositoryImpl(appDao)\n",
    "}"
   ]
  },
  {
   "cell_type": "markdown",
   "id": "f485c6e7-ea36-47f3-a736-ab849600c14e",
   "metadata": {},
   "source": [
    "Ostatnim elementem **MVVM** jest `ViewModel`. Przyjmuje dwa argumenty - `Application` oraz `AppRepository` - które dostarczymy stosując wstrzyknięcie przez konstruktor."
   ]
  },
  {
   "cell_type": "code",
   "execution_count": null,
   "id": "7033309b-165b-4f9a-be9d-dfe080921bc6",
   "metadata": {},
   "outputs": [],
   "source": [
    "@HiltViewModel\n",
    "class AppViewModel @Inject constructor(\n",
    "    app: Application,\n",
    "    private  val repository: AppRepository\n",
    ") : AndroidViewModel(app) {"
   ]
  },
  {
   "cell_type": "markdown",
   "id": "0b39990a-3c37-4b08-8e8b-c2c51f80ee76",
   "metadata": {},
   "source": [
    "Kontekst aplikacji musimy przekazać do konstruktora klasy `AndroidViewModel`, jest to jedyne miejsce gdzie jest on wymagany, więc nie musimy tworzyć pola - stąd brak `val`/`var`."
   ]
  },
  {
   "cell_type": "markdown",
   "id": "7fc14ac2-2264-4817-b9e6-e3ac26354693",
   "metadata": {},
   "source": [
    "Dodajmy dwie wcześniej opisane metody."
   ]
  },
  {
   "cell_type": "code",
   "execution_count": null,
   "id": "0ab1c8d4-0797-4bca-b126-b05175e11319",
   "metadata": {},
   "outputs": [],
   "source": [
    "val readAllData: LiveData<List<Student>> = repository.readAllData\n",
    "\n",
    "fun insert(student: Student) = viewModelScope.launch {\n",
    "    repository.insert(student)"
   ]
  },
  {
   "cell_type": "markdown",
   "id": "102ef6ba-1649-4343-998b-28de96e7edd4",
   "metadata": {},
   "source": [
    "Główną aktywność oznaczamy jako `@AndroidEntryPoint`. Dodajmy `ViewModel`."
   ]
  },
  {
   "cell_type": "code",
   "execution_count": null,
   "id": "0c502c5a-ce3c-4289-8725-dddd29b5cabf",
   "metadata": {},
   "outputs": [],
   "source": [
    "private val viewModel: AppViewModel by viewModels()"
   ]
  },
  {
   "cell_type": "markdown",
   "id": "bd6f2c6a-229f-414b-b6d1-2daab1514d0d",
   "metadata": {},
   "source": [
    "W metodzie `onCreate` dodajmy kilka elementów do bazy oraz obserwator."
   ]
  },
  {
   "cell_type": "code",
   "execution_count": null,
   "id": "80dd8391-898b-441b-b563-fba3e35d813c",
   "metadata": {},
   "outputs": [],
   "source": [
    "viewModel.apply {\n",
    "    insert(Student(0, \"Rafa\"))\n",
    "    insert(Student(0, \"Maciej\"))\n",
    "    insert(Student(0, \"Kuba\"))\n",
    "\n",
    "    readAllData.observe(this@MainActivity) { student ->\n",
    "        val content = StringBuilder()\n",
    "        student.forEach {\n",
    "            content\n",
    "                .append(\"id: \").append(it.id).append(\"\\n\")\n",
    "                .append(\"Name: \").append(it.name).append(\"\\n\\n\")\n",
    "        }\n",
    "        textView.text = content\n",
    "    }\n",
    "}"
   ]
  },
  {
   "cell_type": "code",
   "execution_count": null,
   "id": "f6677ae2-428d-4b1e-beed-789fe98e71b4",
   "metadata": {},
   "outputs": [],
   "source": []
  }
 ],
 "metadata": {
  "kernelspec": {
   "display_name": "Kotlin",
   "language": "kotlin",
   "name": "kotlin"
  },
  "language_info": {
   "codemirror_mode": "text/x-kotlin",
   "file_extension": ".kt",
   "mimetype": "text/x-kotlin",
   "name": "kotlin",
   "nbconvert_exporter": "",
   "pygments_lexer": "kotlin",
   "version": "1.6.20-dev-6372"
  }
 },
 "nbformat": 4,
 "nbformat_minor": 5
}
