{
 "cells": [
  {
   "cell_type": "markdown",
   "id": "49bab9c1-fbc1-475d-9cfd-c22e582bd555",
   "metadata": {},
   "source": [
    "# 3.1 RecyclerView"
   ]
  },
  {
   "cell_type": "markdown",
   "id": "4a4a25ec-dcc5-4588-9c47-d4c7b6a83756",
   "metadata": {},
   "source": [
    "Aplikację rozpoczniemy od utworzenia layoutu pojedynczego elementu listy. Przechodzimy do **res -> layout** i z menu kontekstowego wybieramy **New -> Layout Resource File** i jako nazwę podaję `word_list_item`. Przejdźmy do nowoutworzonego pliku i dodajmy pole `TextView` w którym będziemy wyświetlać słowo."
   ]
  },
  {
   "cell_type": "markdown",
   "id": "2e9254b1-ed2d-4cf9-abb9-629b17ff05a3",
   "metadata": {},
   "source": [
    "\n",
    "```xml\n",
    "<?xml version=\"1.0\" encoding=\"utf-8\"?>\n",
    "<LinearLayout\n",
    "    xmlns:android=\"http://schemas.android.com/apk/res/android\"\n",
    "    android:layout_width=\"match_parent\"\n",
    "    android:orientation=\"horizontal\"\n",
    "    android:layout_height=\"wrap_content\">\n",
    "\n",
    "    <TextView\n",
    "        android:id=\"@+id/singleWord\"\n",
    "        android:layout_width=\"match_parent\"\n",
    "        android:layout_height=\"wrap_content\"\n",
    "        android:textSize=\"24sp\"/>\n",
    "\n",
    "</LinearLayout>\n",
    "```\n",
    "\n",
    "Przejdźmy do pliku `MainActivity.kt` i utwórzmy naszą listę słów"
   ]
  },
  {
   "cell_type": "code",
   "execution_count": null,
   "id": "badf65ab-b8af-4cb4-b925-7f4b7551b7c6",
   "metadata": {},
   "outputs": [],
   "source": [
    "private val wordList by lazy { List(50) { \"word $it\" } }"
   ]
  },
  {
   "cell_type": "markdown",
   "id": "a2c57145-353f-4ab0-917e-ceca29b293fe",
   "metadata": {},
   "source": [
    "Następnie utworzymy klasę `WordListAdapter.kt`"
   ]
  },
  {
   "cell_type": "code",
   "execution_count": null,
   "id": "b7aed26d-3158-4b33-8f79-803bb6f7d2f3",
   "metadata": {},
   "outputs": [],
   "source": [
    "class WordListAdapter() : RecyclerView.Adapter<WordListAdapter.WordListViewHolder>(){\n",
    "    class WordListViewHolder(view: View) : RecyclerView.ViewHolder(view)\n",
    "}"
   ]
  },
  {
   "cell_type": "markdown",
   "id": "331e9114-33f2-454b-8cd5-c098b8528f7d",
   "metadata": {},
   "source": [
    "Utworzona klasa wewnętrzna `WordListViewHolder` musi rozszerzać zagnieżdżoną abstrakcyjną klasę `ViewHolder` klasy `RecyclerView`. Ponieważ klasa `WordListAdapter` rozszerza klasę `Adapter` więc musi implementować wszystkie jej metody."
   ]
  },
  {
   "cell_type": "code",
   "execution_count": null,
   "id": "ec881b8e-abf1-4ef6-abdc-0e1060c1faed",
   "metadata": {},
   "outputs": [],
   "source": [
    "class WordListAdapter() : RecyclerView.Adapter<WordListAdapter.WordListViewHolder>() {\n",
    "    override fun onCreateViewHolder(\n",
    "        parent: ViewGroup,\n",
    "        viewType: Int\n",
    "    ): WordListAdapter.WordListViewHolder {\n",
    "        TODO(\"Not yet implemented\")\n",
    "    }\n",
    "\n",
    "    override fun onBindViewHolder(holder: WordListAdapter.WordListViewHolder, position: Int) {\n",
    "        TODO(\"Not yet implemented\")\n",
    "    }\n",
    "\n",
    "    override fun getItemCount(): Int {\n",
    "        TODO(\"Not yet implemented\")\n",
    "    }\n",
    "\n",
    "    class WordListViewHolder(view: View) : RecyclerView.ViewHolder(view) {\n",
    "\n",
    "    }\n",
    "}"
   ]
  },
  {
   "cell_type": "markdown",
   "id": "8d2e1076-27d8-4e1b-92a1-7e4493fe1d57",
   "metadata": {},
   "source": [
    "Nasz layout elementu listy może być bardzo skomplikowany i zawierać wiele elementów - w tym prostym przykładzie mamy tylko jedno pole `TextView`. W przypadku gdy mamy wiele elementów i chcemy wykonać jakąś akcję - ale na całym elemencie listy a nie na jego części, musimy mieć możliwość zdefiniowania wspólnej metody dla całego elementu. Klasa `ViewHolder` udostępnia `itemView`, który oferuje taką funkcjonalność - do całego elementu możemy się odnieść poprzez `itemView`.\n",
    "\n",
    "Implementację rozpocznijmy od połączenia layoutu elementu z `ViewHolder`. w klasie `WordListViewHolder` dodaję pole `TextView` i w konstruktorze wykon8ujemy przypisanie przez wywołanie metody `findViewById`."
   ]
  },
  {
   "cell_type": "code",
   "execution_count": null,
   "id": "6f1073bb-d7c9-47f1-adad-e3c4a77703e9",
   "metadata": {},
   "outputs": [],
   "source": [
    "    class WordListViewHolder(itemView: View) : RecyclerView.ViewHolder(itemView) {\n",
    "        val word: TextView = itemView.findViewById((R.id.singleWord))\n",
    "    }"
   ]
  },
  {
   "cell_type": "markdown",
   "id": "846eb9fd-7d79-4741-b249-f2ba9e565258",
   "metadata": {},
   "source": [
    "Zwróćmy uwagę że metodę `findViewById` wykonujemy na `itemView` - tak postępujemy ze wszystkimi elementami layoutu.\n",
    "\n",
    "Przejdźmy do klasy `WordListAdapter`, dodajmy listę ze słowami do konstruktora."
   ]
  },
  {
   "cell_type": "code",
   "execution_count": null,
   "id": "3d143e8a-dae3-47d2-a3ef-4f37e173b579",
   "metadata": {},
   "outputs": [],
   "source": [
    "class WordListAdapter(\n",
    "    private val context: Context,\n",
    "    private val wordList: MutableList<String>\n",
    ") : RecyclerView.Adapter<WordListAdapter.WordListViewHolder>()"
   ]
  },
  {
   "cell_type": "markdown",
   "id": "cdee3233-a2d7-4a9b-bff0-e10a525a466e",
   "metadata": {},
   "source": [
    "Rozpocznijmy implementację wszystkich metod. Rozpoczniemy od `getItemCount` - metoda zwraca ilość elementów. Tutaj będzie to rozmiar listy"
   ]
  },
  {
   "cell_type": "code",
   "execution_count": null,
   "id": "8524f2eb-c7ba-4e14-94ab-ee64b251a8c6",
   "metadata": {},
   "outputs": [],
   "source": [
    "    override fun getItemCount() = wordList.size"
   ]
  },
  {
   "cell_type": "markdown",
   "id": "25f6f858-1f04-4a28-86db-a824cd961524",
   "metadata": {},
   "source": [
    "Przejdźmy do metody `onCreateViewHolder`. Metoda zwraca `ViewHolder`, więc wywołujemy konstruktor klasy `WordListViewHolder`. \n",
    "\n",
    "`LayoutInflater` tworzy obiekty `View` na podstawie pliku `xml` ze zdefiniowanym layoutem. Instancję `LayoutInflater` otrzymujemy wywołując metodę `from` i przekazując do niej `Context`. `Context` zawiera informacje o cały środowisku naszej aplikacji i o jej aktualnym stanie. Dzięki tej klasie (implementowanej automatycznie) możemy uzyskać dostęp do zasobów naszej aplikacji, mamy możliwość interakcji pomiędzy różnymi komponentami aplikacji. Wywołujemy metodę `inflate` na obiekcie `LayoutInflater`, tworzy ona hierarchię obiektów na podstawie pliku `xml`. \n",
    "\n",
    "Przyjmuje trzy argumenty\n",
    "- `resource` - wskazujemy nazwę zasobu ze zdefiniowanym layoutem\n",
    "- `ViewGroup` - rodzic utworzonej hierarchii\n",
    "- `attachToRoot` - dodanie utworzonej hierarchii do rodzica - jeżeli `true` dodanie jest natychmiastowe - najczęściej ustawiamy na `false`.\n",
    "\n",
    "Ostatnią metodą jest `onBindViewHolder`, tutaj połączymy dane z odpowiednimi elementami layoutu"
   ]
  },
  {
   "cell_type": "code",
   "execution_count": null,
   "id": "15cf3575-947b-430c-b9bb-e39ac75990f8",
   "metadata": {},
   "outputs": [],
   "source": [
    "    override fun onBindViewHolder(holder: WordViewHolder, position: Int) {\n",
    "        val word = wordList[position]\n",
    "        holder.word.text = word\n",
    "    }"
   ]
  },
  {
   "cell_type": "markdown",
   "id": "1f3c1101-1589-4488-a66b-55662688a7ee",
   "metadata": {},
   "source": [
    "Przy tworzeniu `RecyclerView` następuje automatyczna iteracja po wszystkich elementach listy. Przy każdej iteracji wywoływana jest metoda `onBindViewHolder`. Więc przy każdej iteracji wyciągamy tekst z `LinkedList` o zadanym indeksie, który jest taki sam jak pozycja na liście więc używamy `position` i ustawiamy tekst pola `TextView` do którego dostajemy się poprzez przekazany w argumencie metody `WordListViewHolder`.\n",
    "\n",
    "Pełny kod klasy `WordListAdapter`"
   ]
  },
  {
   "cell_type": "code",
   "execution_count": null,
   "id": "bc09710e-8acc-4a6f-9b8b-2f958279679f",
   "metadata": {},
   "outputs": [],
   "source": [
    "package pl.edu.uwr.pum.recyclerviewwordlistkotlin\n",
    "\n",
    "import android.content.Context\n",
    "import android.view.LayoutInflater\n",
    "import android.view.View\n",
    "import android.view.ViewGroup\n",
    "import android.widget.TextView\n",
    "import androidx.recyclerview.widget.RecyclerView\n",
    "\n",
    "class WordListAdapter(\n",
    "    private val context: Context,\n",
    "    private val wordList: MutableList<String>\n",
    ") : RecyclerView.Adapter<WordListAdapter.WordListViewHolder>() {\n",
    "\n",
    "    override fun onCreateViewHolder(\n",
    "        parent: ViewGroup,\n",
    "        viewType: Int\n",
    "    ): WordListAdapter.WordListViewHolder {\n",
    "        return WordListViewHolder(\n",
    "            LayoutInflater.from(context).inflate(\n",
    "            R.layout.word_list_item,\n",
    "            parent,\n",
    "            false))\n",
    "    }\n",
    "\n",
    "    override fun onBindViewHolder(holder: WordListAdapter.WordListViewHolder, position: Int) {\n",
    "        val word = wordList[position]\n",
    "        holder.word.text = word\n",
    "    }\n",
    "\n",
    "    override fun getItemCount() = wordList.size\n",
    "\n",
    "    class WordListViewHolder(itemView: View) : RecyclerView.ViewHolder(itemView) {\n",
    "        val word: TextView = itemView.findViewById((R.id.singleWord))\n",
    "    }\n",
    "\n",
    "}"
   ]
  },
  {
   "cell_type": "markdown",
   "id": "7192a0f7-1a92-4214-9994-a1fd86c80dd1",
   "metadata": {},
   "source": [
    "Dodajmy `RecyclerView` do `MainActivity`, w pierwszym kroku zmodyfikujemy layout.\n",
    "\n",
    "```xml\n",
    "<?xml version=\"1.0\" encoding=\"utf-8\"?>\n",
    "<LinearLayout xmlns:android=\"http://schemas.android.com/apk/res/android\"\n",
    "    xmlns:app=\"http://schemas.android.com/apk/res-auto\"\n",
    "    xmlns:tools=\"http://schemas.android.com/tools\"\n",
    "    android:layout_width=\"match_parent\"\n",
    "    android:layout_height=\"wrap_content\"\n",
    "    tools:context=\".MainActivity\">\n",
    "\n",
    "    <androidx.recyclerview.widget.RecyclerView\n",
    "        android:id=\"@+id/recyclerView\"\n",
    "        android:layout_width=\"match_parent\"\n",
    "        android:layout_height=\"wrap_content\" />\n",
    "\n",
    "</LinearLayout>\n",
    "```\n",
    "\n",
    "Następnie w klasie `MainActivity.kt` dodajemy `RecyclerView` i łączymy go z elementem layoutu. Następnie musimy utworzyć `WordListAdapter` i wskazać go jako adapter utworzonego `RecyclerView` przez wywołanie metody `setAdapter` (tutaj przez właściwość `adapter`)."
   ]
  },
  {
   "cell_type": "code",
   "execution_count": null,
   "id": "b468c270-e145-4cb9-91ad-a09e590bec8a",
   "metadata": {},
   "outputs": [],
   "source": [
    "        findViewById<RecyclerView>(R.id.recyclerView).apply { \n",
    "            adapter = WordListAdapter(this@MainActivity, wordList as MutableList<String>)\n",
    "        }"
   ]
  },
  {
   "cell_type": "markdown",
   "id": "396aca73-db51-46c2-9751-73a8a008ee59",
   "metadata": {},
   "source": [
    "Jako `Context` przekazujemy `this@MainActivity` ponieważ wszystkie klasy `Activity` rozszerzają klasę `Context` - musimy się posłużyć taką składnią, ponieważ `this` odnosi się w tym bloku do `RecyclerView`. \n",
    "\n",
    "Ostatnim elementem jest ostawienie `LayoutManager`, tutaj będzie to `LinearLayoutManager` - ustawia element zarządzający layoutem tego konkretnego `RecyclerView`."
   ]
  },
  {
   "cell_type": "code",
   "execution_count": null,
   "id": "0ccba7c2-b42d-4487-9a7b-2f75349f0868",
   "metadata": {},
   "outputs": [],
   "source": [
    "        findViewById<RecyclerView>(R.id.recyclerView).apply {\n",
    "            adapter = WordListAdapter(this@MainActivity, wordList as MutableList<String>)\n",
    "            layoutManager = LinearLayoutManager(this@MainActivity)\n",
    "        }"
   ]
  },
  {
   "cell_type": "markdown",
   "id": "deb30ef6-481d-4511-8942-a66f8a8522e9",
   "metadata": {},
   "source": [
    "Pałny kod klasy `MainActivity`"
   ]
  },
  {
   "cell_type": "code",
   "execution_count": null,
   "id": "382a4178-00a4-4244-86df-a85953e6d152",
   "metadata": {},
   "outputs": [],
   "source": [
    "package pl.edu.uwr.pum.recyclerviewwordlistkotlin\n",
    "\n",
    "import androidx.appcompat.app.AppCompatActivity\n",
    "import android.os.Bundle\n",
    "import androidx.recyclerview.widget.LinearLayoutManager\n",
    "import androidx.recyclerview.widget.RecyclerView\n",
    "\n",
    "class MainActivity : AppCompatActivity() {\n",
    "\n",
    "    private val wordList by lazy { List(50) { \"word $it\" } }\n",
    "\n",
    "    override fun onCreate(savedInstanceState: Bundle?) {\n",
    "        super.onCreate(savedInstanceState)\n",
    "        setContentView(R.layout.activity_main)\n",
    "\n",
    "        findViewById<RecyclerView>(R.id.recyclerView).apply {\n",
    "            adapter = WordListAdapter(this@MainActivity, wordList as MutableList<String>)\n",
    "            layoutManager = LinearLayoutManager(this@MainActivity)\n",
    "        }\n",
    "    }\n",
    "}"
   ]
  },
  {
   "cell_type": "markdown",
   "id": "f2df687e-f32e-4ac7-a132-aac27fd0195e",
   "metadata": {},
   "source": [
    "Na tym etapie możemy zbudować i przetestować naszą aplikację."
   ]
  },
  {
   "cell_type": "markdown",
   "id": "7290010c-6690-46d2-b8d6-cc0705e6a559",
   "metadata": {},
   "source": [
    "## **Dodanie obsługi `onClick` dla każdego elementu listy**\n",
    "\n",
    "Kolejnym etapem będzie dodanie wspólnej obsługi metody `onClick`. W tym celu przechodzimy do klasy `WordListAdapter.java` i w konstruktorze klasy `WordListViewHolder` dodajemy obsługę `onClick` na `itemView`"
   ]
  },
  {
   "cell_type": "code",
   "execution_count": null,
   "id": "cfd8f3de-a048-4e9b-ae3c-29eee04470ac",
   "metadata": {},
   "outputs": [],
   "source": [
    "        holder.itemView.setOnClickListener {\n",
    "            val element = holder.word.text\n",
    "            holder.word.text = \"Clicked $element\"\n",
    "        }"
   ]
  },
  {
   "cell_type": "markdown",
   "id": "d4472ad4-788b-431a-b975-1dd84fda3f6b",
   "metadata": {},
   "source": [
    "Teraz po każdym kliknięciu na element na liście zostanie zmodyfikowany wyświetlany napis."
   ]
  },
  {
   "cell_type": "markdown",
   "id": "6be0070a-7bee-4e53-baf5-5265aeecfe78",
   "metadata": {},
   "source": [
    "<img src=\"https://media1.giphy.com/media/1aYopt8vi6oAm9s45P/giphy.gif?cid=790b76118791d2fa03c66cbbac7c9a13d124bc4022b42749&rid=giphy.gif&ct=g\" width=\"200\" />"
   ]
  },
  {
   "cell_type": "markdown",
   "id": "a5285add-b94d-418d-a9ff-f1e25c4a72f1",
   "metadata": {},
   "source": [
    "Zmodyfikujmy metodę `onCLick` w klasie `WordListAdapter` aby również zmieniać kolor tła `TextView`"
   ]
  },
  {
   "cell_type": "code",
   "execution_count": null,
   "id": "f3d7ceb4-6725-4b08-942d-acbf3bed6587",
   "metadata": {},
   "outputs": [],
   "source": [
    "        holder.itemView.setOnClickListener {\n",
    "            val element = holder.word.text\n",
    "            holder.word.text = \"Clicked $element\"\n",
    "            holder.word.setBackgroundColor(Color.CYAN)\n",
    "        }"
   ]
  },
  {
   "cell_type": "markdown",
   "id": "1eb24292-63e9-4703-9a13-6d7ef81011f7",
   "metadata": {},
   "source": [
    "Po zbudowaniu projektu projektu zobaczymy nieoczekiwany efekt."
   ]
  },
  {
   "cell_type": "markdown",
   "id": "caec1c22-2384-43dc-9642-bdaf58a4e728",
   "metadata": {},
   "source": [
    "<img src=\"https://media2.giphy.com/media/a3fwOfI4AvhPzl0wbN/giphy.gif?cid=790b76113597bf172fcd25f11ee2cc82d767651fc679551d&rid=giphy.gif&ct=g\" width=\"200\" />"
   ]
  },
  {
   "cell_type": "markdown",
   "id": "5f2dbb17-4465-491f-9cb7-3f2177ceea7a",
   "metadata": {},
   "source": [
    "Powodem takiego działania jest zarządzanie pamięcią przez klasę `RecyclerView`. Jak sama nazwa wskazuje, mamy do czynienia z wielokrotnym wykorzystaniem elementów - `RecyclerView` wielokrotnie wykorzystuje te same kontenery, zmianie ulegają tylko dane."
   ]
  },
  {
   "cell_type": "markdown",
   "id": "fa145931-a242-46f0-bbf9-1b4cccd462a3",
   "metadata": {},
   "source": [
    "<img src=\"https://miro.medium.com/max/1400/1*PXa-ldDs870_hmvwOwjuyQ.png\" width=\"500\" />"
   ]
  },
  {
   "cell_type": "markdown",
   "id": "631dfb43-18e9-439c-b55d-08b481a6c1cf",
   "metadata": {},
   "source": [
    "Więc każda modyfikacja samego `TextView` jest również powielana."
   ]
  },
  {
   "cell_type": "code",
   "execution_count": null,
   "id": "fde32913-cdd4-4677-83f1-6ccd8d10de08",
   "metadata": {},
   "outputs": [],
   "source": []
  }
 ],
 "metadata": {
  "kernelspec": {
   "display_name": "Kotlin",
   "language": "kotlin",
   "name": "kotlin"
  },
  "language_info": {
   "codemirror_mode": "text/x-kotlin",
   "file_extension": ".kt",
   "mimetype": "text/x-kotlin",
   "name": "kotlin",
   "nbconvert_exporter": "",
   "pygments_lexer": "kotlin",
   "version": "1.6.20-dev-6372"
  }
 },
 "nbformat": 4,
 "nbformat_minor": 5
}
