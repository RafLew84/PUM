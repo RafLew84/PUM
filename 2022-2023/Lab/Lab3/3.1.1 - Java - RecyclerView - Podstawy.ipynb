{
 "cells": [
  {
   "cell_type": "markdown",
   "id": "b463c6d0-5740-4974-ad64-b28e378258be",
   "metadata": {},
   "source": [
    "# 3.1 RecyclerView"
   ]
  },
  {
   "cell_type": "markdown",
   "id": "0a8f4b87-89f1-41c7-9976-e402c077ac1e",
   "metadata": {},
   "source": [
    "<img src=\"https://media1.giphy.com/media/1aYopt8vi6oAm9s45P/giphy.gif?cid=790b76118791d2fa03c66cbbac7c9a13d124bc4022b42749&rid=giphy.gif&ct=g\" width=\"200\" />"
   ]
  },
  {
   "cell_type": "markdown",
   "id": "5304d7c0-598a-4703-8b80-2b2843e0869d",
   "metadata": {},
   "source": [
    "Aplikację rozpoczniemy od utworzenia layoutu pojedynczego elementu listy. Przechodzimy do **res -> layout** i z menu kontekstowego wybieramy **New -> Layout Resource File** i jako nazwę podaję `word_list_item`. Przejdźmy do nowoutworzonego pliku i dodajmy pole `TextView` w którym będziemy wyświetlać słowo.\n",
    "\n",
    "```xml\n",
    "<?xml version=\"1.0\" encoding=\"utf-8\"?>\n",
    "<LinearLayout\n",
    "    xmlns:android=\"http://schemas.android.com/apk/res/android\"\n",
    "    android:layout_width=\"match_parent\"\n",
    "    android:orientation=\"horizontal\"\n",
    "    android:layout_height=\"wrap_content\">\n",
    "\n",
    "    <TextView\n",
    "        android:id=\"@+id/singleWord\"\n",
    "        android:layout_width=\"match_parent\"\n",
    "        android:layout_height=\"wrap_content\"\n",
    "        android:textSize=\"24sp\"/>\n",
    "\n",
    "</LinearLayout>\n",
    "```\n",
    "\n",
    "Przejdźmy do pliku `MainActivity.java` i utwórzmy naszą listę słów"
   ]
  },
  {
   "cell_type": "code",
   "execution_count": null,
   "id": "0aa4bb7f-2815-45b7-b6cc-0932f9719d3d",
   "metadata": {},
   "outputs": [],
   "source": [
    "public class MainActivity extends AppCompatActivity {\n",
    "\n",
    "    private final LinkedList<String> wordList = new LinkedList<>();\n",
    "    \n",
    "    @Override\n",
    "    protected void onCreate(Bundle savedInstanceState) {\n",
    "        super.onCreate(savedInstanceState);\n",
    "        setContentView(R.layout.activity_main);\n",
    "        \n",
    "        for (int i = 0; i < 30; i++)\n",
    "            wordList.add(\"Word\" + i);\n",
    "    }\n",
    "}"
   ]
  },
  {
   "cell_type": "markdown",
   "id": "20030578-0caa-4334-a577-2086543005ef",
   "metadata": {},
   "source": [
    "Następnie utworzymy klasę `WordListAdapter.java`"
   ]
  },
  {
   "cell_type": "code",
   "execution_count": null,
   "id": "044bf54e-4268-429a-bd9d-9f68e6b238e9",
   "metadata": {},
   "outputs": [],
   "source": [
    "public class WordListAdapter extends RecyclerView.Adapter<WordListAdapter.WordListViewHolder> {\n",
    "}"
   ]
  },
  {
   "cell_type": "markdown",
   "id": "56a8f721-0df1-48c7-aa4f-c8c958856003",
   "metadata": {},
   "source": [
    "Klasa musi rozszerzać zagnieżdżoną klasę abstrakcyjną `Adapter` klasy `RecyclerView`. Musimy podać parametr typowany - jest to klasa rozszerzająca `ViewHolder` która będzie wykorzystana przez `Adapter`. Dodajemy ją jako klasę wewnętrzną"
   ]
  },
  {
   "cell_type": "code",
   "execution_count": null,
   "id": "edff81fd-99e1-4b59-b54b-6f9a691a4183",
   "metadata": {},
   "outputs": [],
   "source": [
    "public class WordListAdapter extends RecyclerView.Adapter<WordListAdapter.WordListViewHolder> {\n",
    "\n",
    "    protected class WordListViewHolder extends RecyclerView.ViewHolder {\n",
    "        public WordListViewHolder(@NonNull View itemView) {\n",
    "            super(itemView);\n",
    "        }\n",
    "    }\n",
    "}"
   ]
  },
  {
   "cell_type": "markdown",
   "id": "bbc48037-ec3b-44b2-bd41-0ec798bf9512",
   "metadata": {},
   "source": [
    "Utworzona klasa wewnętrzna `WordListViewHolder` musi rozszerzać zagnieżdżoną abstrakcyjną klasę `ViewHolder` klasy `RecyclerView`. Ponieważ klasa `WordListAdapter` rozszerza klasę `Adapter` więc musi implementować wszystkie jej metody."
   ]
  },
  {
   "cell_type": "code",
   "execution_count": null,
   "id": "45849d9a-c16b-4d82-afc4-1bbfb0736c87",
   "metadata": {},
   "outputs": [],
   "source": [
    "public class WordListAdapter extends RecyclerView.Adapter<WordListAdapter.WordListViewHolder> {\n",
    "    @NonNull\n",
    "    @Override\n",
    "    public WordListAdapter.WordListViewHolder onCreateViewHolder(@NonNull ViewGroup parent, int viewType) {\n",
    "        return null;\n",
    "    }\n",
    "\n",
    "    @Override\n",
    "    public void onBindViewHolder(@NonNull WordListAdapter.WordListViewHolder holder, int position) {\n",
    "\n",
    "    }\n",
    "\n",
    "    @Override\n",
    "    public int getItemCount() {\n",
    "        return 0;\n",
    "    }\n",
    "\n",
    "    protected class WordListViewHolder extends RecyclerView.ViewHolder {\n",
    "        public WordListViewHolder(@NonNull View itemView) {\n",
    "            super(itemView);\n",
    "        }\n",
    "    }\n",
    "}"
   ]
  },
  {
   "cell_type": "markdown",
   "id": "ae616d3c-e335-40e8-8800-5a3a2c010f01",
   "metadata": {},
   "source": [
    "Nasz layout elementu listy może być bardzo skomplikowany i zawierać wiele elementów - w tym prostym przykładzie mamy tylko jedno pole `TextView`. W przypadku gdy mamy wiele elementów i chcemy wykonać jakąś akcję - ale na całym elemencie listy a nie na jego części, musimy mieć możliwość zdefiniowania wspólnej metody dla całego elementu. Klasa `ViewHolder` udostępnia `itemView`, który oferuje taką funkcjonalność - do całego elementu możemy się odnieść poprzez `itemView`.\n",
    "\n",
    "Implementację rozpocznijmy od połączenia layoutu elementu z `ViewHolder`. w klasie `WordListViewHolder` dodaję pole `TextView` i w konstruktorze wykonujemy przypisanie przez wywołanie metody `findViewById`."
   ]
  },
  {
   "cell_type": "code",
   "execution_count": null,
   "id": "91134f8c-db68-4c07-8747-9192aadd8e11",
   "metadata": {},
   "outputs": [],
   "source": [
    "    protected class WordListViewHolder extends RecyclerView.ViewHolder {\n",
    "\n",
    "        private final TextView wordText;\n",
    "\n",
    "        public WordListViewHolder(@NonNull View itemView) {\n",
    "            super(itemView);\n",
    "            wordText = itemView.findViewById(R.id.singleWord);\n",
    "        }\n",
    "    }"
   ]
  },
  {
   "cell_type": "markdown",
   "id": "2a9a9fdf-7e47-488c-8d85-29386a224f4e",
   "metadata": {},
   "source": [
    "Zwróćmy uwagę że metodę `findViewById` wykonujemy na `itemView` - tak postępujemy ze wszystkimi elementami layoutu. Drugim polem które będziemy potrzebować jest referencja do `WordListAdapter`, którego instancję przekażemy w konstruktorze `WordListViewHolder`."
   ]
  },
  {
   "cell_type": "code",
   "execution_count": null,
   "id": "ef24b1b8-9844-4471-bfef-f44552a9aaf8",
   "metadata": {},
   "outputs": [],
   "source": [
    "    protected class WordListViewHolder extends RecyclerView.ViewHolder {\n",
    "\n",
    "        private final TextView wordText;\n",
    "        final WordListAdapter adapter;\n",
    "\n",
    "        public WordListViewHolder(@NonNull View itemView, WordListAdapter adapter) {\n",
    "            super(itemView);\n",
    "            this.adapter = adapter;\n",
    "            wordText = itemView.findViewById(R.id.singleWord);\n",
    "        }\n",
    "    }"
   ]
  },
  {
   "cell_type": "markdown",
   "id": "63a5f728-2319-4bea-a5f6-5e06bcf9386a",
   "metadata": {},
   "source": [
    "Przejdźmy do klasy `WordListAdapter`, dodajmy listę ze słowami i konstruktor."
   ]
  },
  {
   "cell_type": "code",
   "execution_count": null,
   "id": "ca4a87fd-ee37-4d07-b55d-fd8d1139c62c",
   "metadata": {},
   "outputs": [],
   "source": [
    "    private LinkedList<String> wordList;\n",
    "\n",
    "    public WordListAdapter(Context context, LinkedList<String> wordList){\n",
    "        this.wordList = wordList;\n",
    "    }"
   ]
  },
  {
   "cell_type": "markdown",
   "id": "ea4a0350-34b6-4b9c-b80e-dd226e132bd4",
   "metadata": {},
   "source": [
    "Drugim polem które będzie nam potrzebne jest `LayoutInflater`"
   ]
  },
  {
   "cell_type": "code",
   "execution_count": null,
   "id": "3288b448-e335-4b9d-8fd4-1f5837e547aa",
   "metadata": {},
   "outputs": [],
   "source": [
    "    private LinkedList<String> wordList;\n",
    "    private final LayoutInflater inflater;\n",
    "\n",
    "    public WordListAdapter(Context context, LinkedList<String> wordList){\n",
    "        inflater = LayoutInflater.from(context);\n",
    "        this.wordList = wordList;\n",
    "    }"
   ]
  },
  {
   "cell_type": "markdown",
   "id": "7c903010-4c4c-437c-ab2c-b5b9ab031ae3",
   "metadata": {},
   "source": [
    "`LayoutInflater` tworzy obiekty `View` na podstawie pliku `xml` ze zdefiniowanym layoutem. Instancję `LayoutInflater` otrzymujemy wywołując metodę `from` i przekazując do niej `Context`. `Context` zawiera informacje o cały środowisku naszej aplikacji i o jej aktualnym stanie. Dzięki tej klasie (implementowanej automatycznie) możemy uzyskać dostęp do zasobów naszej aplikacji, mamy możliwość interakcji pomiędzy różnymi komponentami aplikacji.\n",
    "\n",
    "Rozpocznijmy implementację wszystkich metod. Rozpoczniemy od `getItemCount` - metoda zwraca ilość elementów. Tutaj będzie to rozmiar listy"
   ]
  },
  {
   "cell_type": "code",
   "execution_count": null,
   "id": "23c9bb7a-2eaf-4230-a319-638b4e4689a8",
   "metadata": {},
   "outputs": [],
   "source": [
    "    @Override\n",
    "    public int getItemCount() {\n",
    "        return wordList.size();\n",
    "    }"
   ]
  },
  {
   "cell_type": "markdown",
   "id": "a1368206-adca-4624-8110-e32d2f0cfac7",
   "metadata": {},
   "source": [
    "Przejdźmy do metody `onCreateViewHolder`. W pierwszym kroku wywołamy metodę `inflate` na obiekcie `LayoutInflater`, tworzy ona hierarchię obiektów na podstawie pliku `xml`."
   ]
  },
  {
   "cell_type": "code",
   "execution_count": null,
   "id": "5a71693b-56e8-4991-beff-64f44114b2b5",
   "metadata": {},
   "outputs": [],
   "source": [
    "View itemView = inflater.inflate(R.layout.word_list_item, parent, false);"
   ]
  },
  {
   "cell_type": "markdown",
   "id": "0234d0ba-8806-456b-927e-ccae4b77afc5",
   "metadata": {},
   "source": [
    "Przyjmuje trzy argumenty\n",
    "- `resource` - wskazujemy nazwę zasobu ze zdefiniowanym layoutem\n",
    "- `ViewGroup` - rodzic utworzonej hierarchii\n",
    "- `attachToRoot` - dodanie utworzonej hierarchii do rodzica - jeżeli `true` dodanie jest natychmiastowe - najczęściej ustawiamy na `false`.\n",
    "\n",
    "Metoda zwraca `ViewHolder`, więc wywołujemy konstruktor klasy `WordListViewHolder`"
   ]
  },
  {
   "cell_type": "code",
   "execution_count": null,
   "id": "a5c28f8b-ce83-489e-8120-f49436fff4e3",
   "metadata": {},
   "outputs": [],
   "source": [
    "    @NonNull\n",
    "    @Override\n",
    "    public WordListAdapter.WordListViewHolder onCreateViewHolder(@NonNull ViewGroup parent, int viewType) {\n",
    "        View itemView = inflater.inflate(R.layout.word_list_item, parent, false);\n",
    "        return new WordListViewHolder(itemView, this);\n",
    "    }"
   ]
  },
  {
   "cell_type": "markdown",
   "id": "f5ac2906-51e9-41eb-941a-f4d223d48e54",
   "metadata": {},
   "source": [
    "Ostatnią metodą jest `onBindViewHolder`, tutaj połączymy dane z odpowiednimi elementami layoutu"
   ]
  },
  {
   "cell_type": "code",
   "execution_count": null,
   "id": "059f315f-3007-43f5-a999-7beb7e8b2873",
   "metadata": {},
   "outputs": [],
   "source": [
    "    @Override\n",
    "    public void onBindViewHolder(@NonNull WordListAdapter.WordListViewHolder holder, int position) {\n",
    "        String current = wordList.get(position);\n",
    "        holder.wordText.setText(current);\n",
    "    }"
   ]
  },
  {
   "cell_type": "markdown",
   "id": "729c30f9-4d8d-4794-b920-8223d5924a17",
   "metadata": {},
   "source": [
    "Przy tworzeniu `RecyclerView` następuje automatyczna iteracja po wszystkich elementach listy. Przy każdej iteracji wywoływana jest metoda `onBindViewHolder`. Więc przy każdej iteracji wyciągamy tekst z `LinkedList` o zadanym indeksie, który jest taki sam jak pozycja na liście więc używamy `position` i ustawiamy tekst pola `TextView` do którego dostajemy się poprzez przekazany w argumencie metody `WordListViewHolder`.\n",
    "\n",
    "Pełny kod klasy `WordListAdapter`"
   ]
  },
  {
   "cell_type": "code",
   "execution_count": null,
   "id": "d8991bd3-2e61-493f-824b-d128178be49b",
   "metadata": {},
   "outputs": [],
   "source": [
    "package pl.edu.uwr.pum.recyclerviewwordlistjava;\n",
    "\n",
    "import android.content.Context;\n",
    "import android.view.LayoutInflater;\n",
    "import android.view.View;\n",
    "import android.view.ViewGroup;\n",
    "import android.widget.TextView;\n",
    "\n",
    "import androidx.annotation.NonNull;\n",
    "import androidx.recyclerview.widget.RecyclerView;\n",
    "\n",
    "import java.util.LinkedList;\n",
    "\n",
    "public class WordListAdapter extends RecyclerView.Adapter<WordListAdapter.WordListViewHolder> {\n",
    "\n",
    "    private LinkedList<String> wordList;\n",
    "    private final LayoutInflater inflater;\n",
    "\n",
    "    public WordListAdapter(Context context, LinkedList<String> wordList) {\n",
    "        inflater = LayoutInflater.from(context);\n",
    "        this.wordList = wordList;\n",
    "    }\n",
    "\n",
    "    @NonNull\n",
    "    @Override\n",
    "    public WordListAdapter.WordListViewHolder onCreateViewHolder(@NonNull ViewGroup parent, int viewType) {\n",
    "        View itemView = inflater.inflate(R.layout.word_list_item, parent, false);\n",
    "        return new WordListViewHolder(itemView, this);\n",
    "    }\n",
    "\n",
    "    @Override\n",
    "    public void onBindViewHolder(@NonNull WordListAdapter.WordListViewHolder holder, int position) {\n",
    "        String current = wordList.get(position);\n",
    "        holder.wordText.setText(current);\n",
    "    }\n",
    "\n",
    "    @Override\n",
    "    public int getItemCount() {\n",
    "        return wordList.size();\n",
    "    }\n",
    "\n",
    "    protected static class WordListViewHolder extends RecyclerView.ViewHolder {\n",
    "\n",
    "        private final TextView wordText;\n",
    "        final WordListAdapter adapter;\n",
    "\n",
    "        public WordListViewHolder(@NonNull View itemView, WordListAdapter adapter) {\n",
    "            super(itemView);\n",
    "            this.adapter = adapter;\n",
    "            wordText = itemView.findViewById(R.id.singleWord);\n",
    "        }\n",
    "    }\n",
    "}"
   ]
  },
  {
   "cell_type": "markdown",
   "id": "fa589a25-aa90-4246-b68a-75dc12e6bc92",
   "metadata": {},
   "source": [
    "Dodajmy `RecyclerView` do `MainActivity`, w pierwszym kroku zmodyfikujemy layout.\n",
    "\n",
    "```xml\n",
    "<?xml version=\"1.0\" encoding=\"utf-8\"?>\n",
    "<LinearLayout xmlns:android=\"http://schemas.android.com/apk/res/android\"\n",
    "    xmlns:app=\"http://schemas.android.com/apk/res-auto\"\n",
    "    xmlns:tools=\"http://schemas.android.com/tools\"\n",
    "    android:layout_width=\"match_parent\"\n",
    "    android:layout_height=\"wrap_content\"\n",
    "    tools:context=\".MainActivity\">\n",
    "\n",
    "    <androidx.recyclerview.widget.RecyclerView\n",
    "        android:id=\"@+id/recyclerView\"\n",
    "        android:layout_width=\"match_parent\"\n",
    "        android:layout_height=\"wrap_content\" />\n",
    "\n",
    "</LinearLayout>\n",
    "```\n",
    "\n",
    "Następnie w klasie `MainActivity.java` dodajemy `RecyclerView` i łączymy go z elementem layoutu."
   ]
  },
  {
   "cell_type": "code",
   "execution_count": null,
   "id": "badbfeac-566d-466c-989c-c91c40419e9f",
   "metadata": {},
   "outputs": [],
   "source": [
    "RecyclerView recyclerView = findViewById(R.id.recyclerView);"
   ]
  },
  {
   "cell_type": "markdown",
   "id": "80f66f71-b7a4-4d5d-a318-c1238f0f639b",
   "metadata": {},
   "source": [
    "Teraz musimy utworzyć `WordListAdapter` i wskazać go jako adapter utworzonego `RecyclerView` przez wywołanie metody `setAdapter`."
   ]
  },
  {
   "cell_type": "code",
   "execution_count": null,
   "id": "686039b3-a2fa-4ca5-bbb3-9933406b67cb",
   "metadata": {},
   "outputs": [],
   "source": [
    "WordListAdapter wordListAdapter = new WordListAdapter(this, wordList);\n",
    "recyclerView.setAdapter(wordListAdapter);"
   ]
  },
  {
   "cell_type": "markdown",
   "id": "1b476576-267e-4961-ad56-f85b0feab5c7",
   "metadata": {},
   "source": [
    "Jako `Context` przekazujemy `this` ponieważ wszystkie klasy `Activity` rozszerzają klasę `Context`. \n",
    "\n",
    "Ostatnim elementem jest ostawienie `LayoutManager`, tutaj będzie to `LinearLayoutManager` - ustawia element zarządzający layoutem tego konkretnego `RecyclerView`."
   ]
  },
  {
   "cell_type": "code",
   "execution_count": null,
   "id": "6437e363-b19a-4cfe-b854-11a4e5c2d103",
   "metadata": {},
   "outputs": [],
   "source": [
    "recyclerView.setLayoutManager(new LinearLayoutManager(this));"
   ]
  },
  {
   "cell_type": "markdown",
   "id": "c1cdd22b-2f85-4e71-80d8-39895d7f87ea",
   "metadata": {},
   "source": [
    "Pełny kod klasy `MainActivity`"
   ]
  },
  {
   "cell_type": "code",
   "execution_count": null,
   "id": "519c5b4e-6657-48c9-815a-ed40b1f96d96",
   "metadata": {},
   "outputs": [],
   "source": [
    "package pl.edu.uwr.pum.recyclerviewwordlistjava;\n",
    "\n",
    "import androidx.appcompat.app.AppCompatActivity;\n",
    "import androidx.recyclerview.widget.LinearLayoutManager;\n",
    "import androidx.recyclerview.widget.RecyclerView;\n",
    "\n",
    "import android.os.Bundle;\n",
    "\n",
    "import java.util.LinkedList;\n",
    "import java.util.concurrent.LinkedBlockingDeque;\n",
    "\n",
    "public class MainActivity extends AppCompatActivity {\n",
    "\n",
    "    private final LinkedList<String> wordList = new LinkedList<>();\n",
    "\n",
    "    @Override\n",
    "    protected void onCreate(Bundle savedInstanceState) {\n",
    "        super.onCreate(savedInstanceState);\n",
    "        setContentView(R.layout.activity_main);\n",
    "\n",
    "        for (int i = 0; i < 50; i++)\n",
    "            wordList.addLast(\"Word\" + i);\n",
    "\n",
    "        RecyclerView recyclerView = findViewById(R.id.recyclerView);\n",
    "        WordListAdapter wordListAdapter = new WordListAdapter(this, wordList);\n",
    "        recyclerView.setAdapter(wordListAdapter);\n",
    "        recyclerView.setLayoutManager(new LinearLayoutManager(this));\n",
    "    }\n",
    "}"
   ]
  },
  {
   "cell_type": "markdown",
   "id": "8c8a6188-8cf8-45ac-8805-f7f11b40cc8f",
   "metadata": {},
   "source": [
    "Na tym etapie możemy zbudować i przetestować naszą aplikację."
   ]
  },
  {
   "cell_type": "markdown",
   "id": "e1d5bec1-4a26-4aac-996c-7fbc190a3f89",
   "metadata": {},
   "source": [
    "### Dodanie obsługi `onClick` dla każdego elementu listy\n",
    "\n",
    "Kolejnym etapem będzie dodanie wspólnej obsługi metody `onClick`. W tym celu przechodzimy do klasy `WordListAdapter.java` i w konstruktorze klasy `WordListViewHolder` dodajemy obsługę `onClick` na `itemView`"
   ]
  },
  {
   "cell_type": "code",
   "execution_count": null,
   "id": "cb0f1081-3ca9-4d56-a29b-f727e9d01e34",
   "metadata": {},
   "outputs": [],
   "source": [
    "        public WordListViewHolder(@NonNull View itemView, WordListAdapter adapter) {\n",
    "            super(itemView);\n",
    "            this.adapter = adapter;\n",
    "            wordText = itemView.findViewById(R.id.singleWord);\n",
    "            \n",
    "            itemView.setOnClickListener(view -> {\n",
    "                int position = getLayoutPosition();\n",
    "                String element = wordList.get(position);\n",
    "                wordList.set(position, \"Clicked!\" + element);\n",
    "                adapter.notifyItemChanged(position);\n",
    "            });\n",
    "        }"
   ]
  },
  {
   "cell_type": "markdown",
   "id": "91c8974b-fbc3-46cd-a401-c93962b38357",
   "metadata": {},
   "source": [
    "Pozycję klikniętego elementu dostajemy przez wywołanie `getLayoutPosition`, modyfikujemy element `LinkedList` i wywołujemy metodę `notifyItemChanged` na adapterze w celu powiadomienia o zmianie. Po otrzymaniu adapter automatycznie odświeży element o zadanej pozycji."
   ]
  },
  {
   "cell_type": "markdown",
   "id": "242a88e2-8e35-4189-be85-ce162b88d1e3",
   "metadata": {},
   "source": [
    "Teraz po każdym kliknięciu na element na liście zostanie zmodyfikowany wyświetlany napis."
   ]
  },
  {
   "cell_type": "markdown",
   "id": "0e5d4d36-8a1a-458f-b106-f829d74561f8",
   "metadata": {},
   "source": [
    "<img src=\"https://media1.giphy.com/media/1aYopt8vi6oAm9s45P/giphy.gif?cid=790b76118791d2fa03c66cbbac7c9a13d124bc4022b42749&rid=giphy.gif&ct=g\" width=\"200\" />"
   ]
  },
  {
   "cell_type": "markdown",
   "id": "f37e4999-5ec4-4c20-804a-e033c9689ae2",
   "metadata": {},
   "source": [
    "Zmodyfikujmy metodę `onCLick` w klasie `WordListAdapter` aby również zmieniać kolor tła `TextView`"
   ]
  },
  {
   "cell_type": "code",
   "execution_count": null,
   "id": "f89d5eca-a7dc-4c03-a32f-e72548fc261a",
   "metadata": {},
   "outputs": [],
   "source": [
    "            itemView.setOnClickListener(view -> {\n",
    "                int position = getLayoutPosition();\n",
    "                String element = wordList.get(position);\n",
    "                wordList.set(position, \"Clicked!\" + element);\n",
    "                adapter.notifyItemChanged(position);\n",
    "                wordText.setBackgroundColor(Color.CYAN);\n",
    "            });"
   ]
  },
  {
   "cell_type": "markdown",
   "id": "7e2c7971-22b9-47f3-a892-8eacd964723d",
   "metadata": {},
   "source": [
    "Po zbudowaniu projektu projektu zobaczymy nieoczekiwany efekt."
   ]
  },
  {
   "cell_type": "markdown",
   "id": "d8aa206e-473f-4ee7-8b66-ef856ef753b5",
   "metadata": {},
   "source": [
    "<img src=\"https://media2.giphy.com/media/a3fwOfI4AvhPzl0wbN/giphy.gif?cid=790b76113597bf172fcd25f11ee2cc82d767651fc679551d&rid=giphy.gif&ct=g\" width=\"200\" />"
   ]
  },
  {
   "cell_type": "markdown",
   "id": "2f7251c6-ddf5-4928-93ea-008b14cb67a4",
   "metadata": {},
   "source": [
    "Powodem takiego działania jest zarządzanie pamięcią przez klasę `RecyclerView`. Jak sama nazwa wskazuje, mamy do czynienia z wielokrotnym wykorzystaniem elementów - `RecyclerView` wielokrotnie wykorzystuje te same kontenery, zmianie ulegają tylko dane."
   ]
  },
  {
   "cell_type": "markdown",
   "id": "b616cf03-e50c-4461-a14a-297cab608f6b",
   "metadata": {},
   "source": [
    "<img src=\"https://miro.medium.com/max/1400/1*PXa-ldDs870_hmvwOwjuyQ.png\" width=\"500\" />"
   ]
  },
  {
   "cell_type": "markdown",
   "id": "b1ab570c-67fe-4e9c-b693-322935e12bd1",
   "metadata": {},
   "source": [
    "Więc każda modyfikacja samego `TextView` jest również powielana."
   ]
  },
  {
   "cell_type": "code",
   "execution_count": null,
   "id": "fa182ca2-6b45-464e-84f4-98e8ca1d5c5a",
   "metadata": {},
   "outputs": [],
   "source": []
  }
 ],
 "metadata": {
  "kernelspec": {
   "display_name": "Java",
   "language": "java",
   "name": "java"
  },
  "language_info": {
   "codemirror_mode": "java",
   "file_extension": ".jshell",
   "mimetype": "text/x-java-source",
   "name": "Java",
   "pygments_lexer": "java",
   "version": "17+35-2724"
  }
 },
 "nbformat": 4,
 "nbformat_minor": 5
}
