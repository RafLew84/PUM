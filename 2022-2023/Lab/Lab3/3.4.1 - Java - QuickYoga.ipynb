{
 "cells": [
  {
   "cell_type": "markdown",
   "id": "668c19f5-f210-4ce1-9195-8e81d744831b",
   "metadata": {},
   "source": [
    "# 3.4 QuickYoga"
   ]
  },
  {
   "cell_type": "markdown",
   "id": "173f8b30-6410-402b-a4a7-882d6bedcd8c",
   "metadata": {},
   "source": [
    "Aplikacja wykorzystuje `RecyclerView` oraz kilka elementów pozwalających zmodyfikować wygląd istniejących kontrolek oraz utworzenia nowych, bazujących na już istniejących. Również wykorzystamy `TextToSpeech` oraz `Media`."
   ]
  },
  {
   "cell_type": "markdown",
   "id": "493c7b76-455f-4491-8a5a-10bec3d1323e",
   "metadata": {},
   "source": [
    "<img src=\"https://media3.giphy.com/media/vmZ6b9CGnFihvmYrGT/giphy.gif?cid=790b7611ec174e1283189e1ed95201abaf1700ead6582144&rid=giphy.gif&ct=g\" width=\"200\" />"
   ]
  },
  {
   "cell_type": "markdown",
   "id": "041324d0-8656-4817-bf84-091777dda1ba",
   "metadata": {},
   "source": [
    "## **Layout**"
   ]
  },
  {
   "cell_type": "markdown",
   "id": "7c859a67-4acf-4469-863d-bd523c10f268",
   "metadata": {},
   "source": [
    "Rozpocznijmy od layoutu naszej aktywności głównej\n",
    "\n",
    "```xml\n",
    "<?xml version=\"1.0\" encoding=\"utf-8\"?>\n",
    "<androidx.constraintlayout.widget.ConstraintLayout xmlns:android=\"http://schemas.android.com/apk/res/android\"\n",
    "    xmlns:app=\"http://schemas.android.com/apk/res-auto\"\n",
    "    xmlns:tools=\"http://schemas.android.com/tools\"\n",
    "    android:layout_width=\"match_parent\"\n",
    "    android:layout_height=\"match_parent\"\n",
    "    android:background=\"@color/backgroundColor\"\n",
    "    tools:context=\".MainActivity\">\n",
    "\n",
    "    <LinearLayout\n",
    "        android:layout_width=\"match_parent\"\n",
    "        android:layout_height=\"match_parent\"\n",
    "        android:orientation=\"vertical\"\n",
    "        android:gravity=\"center\"\n",
    "        android:padding=\"@dimen/main_screen_padding\">\n",
    "\n",
    "        <ImageView\n",
    "            android:layout_width=\"match_parent\"\n",
    "            android:layout_height=\"wrap_content\"\n",
    "            android:contentDescription=\"@string/logo\"\n",
    "            android:src=\"@drawable/yoga_logo\"\n",
    "            android:layout_marginBottom=\"100dp\"/>\n",
    "\n",
    "        <LinearLayout\n",
    "            android:id=\"@+id/start_button_layout\"\n",
    "            android:layout_width=\"@dimen/start_button_x\"\n",
    "            android:layout_height=\"@dimen/start_button_y\"\n",
    "            android:gravity=\"center\">\n",
    "\n",
    "            <TextView\n",
    "                android:layout_width=\"wrap_content\"\n",
    "                android:layout_height=\"wrap_content\"\n",
    "                android:text=\"@string/start\"\n",
    "                android:textColor=\"@color/textColor\"\n",
    "                android:textStyle=\"bold\"\n",
    "                android:textSize=\"45sp\"/>\n",
    "\n",
    "        </LinearLayout>\n",
    "    </LinearLayout>\n",
    "\n",
    "</androidx.constraintlayout.widget.ConstraintLayout>\n",
    "```\n",
    "\n",
    "Do pliku `strings.xml` dodajemy\n",
    "\n",
    "```xml\n",
    "<resources>\n",
    "    <string name=\"app_name\">QuickYogaAppJava</string>\n",
    "\n",
    "    <string name=\"logo\">logo</string>\n",
    "    <string name=\"start\">START</string>\n",
    "    <string name=\"wait_text\">GET READY</string>\n",
    "    <string name=\"counter_start_default\">10</string>\n",
    "    <string name=\"yoga_position_name\">Yoga Position Name</string>\n",
    "    <string name=\"image\">image</string>\n",
    "    <string name=\"upcoming_position\">Upcoming position:</string>\n",
    "    <string name=\"complete\">END</string>\n",
    "    <string name=\"end_image\">end image</string>\n",
    "    <string name=\"finish\">FINISH</string>\n",
    "</resources>\n",
    "```\n",
    "\n",
    "W pliku `colors.xml` definiujemy kilka dodatkowych kolorów\n",
    "\n",
    "```xml\n",
    "    <color name=\"textColor\">#4EBEE0</color>\n",
    "    <color name=\"backgroundColor\">#000000</color>\n",
    "    <color name=\"buttonBackgroundColor\">#6ABFA5</color>\n",
    "```\n",
    "\n",
    "Następnie tworzymy plik `dimen.xml` w katalogu `res` i definiujemy kilka wartości, które posłużą nam w projektowaniu layoutu\n",
    "\n",
    "```xml\n",
    "<?xml version=\"1.0\" encoding=\"utf-8\"?>\n",
    "<resources>\n",
    "    <dimen name=\"main_screen_padding\">6dp</dimen>\n",
    "    <dimen name=\"start_button_x\">300dp</dimen>\n",
    "    <dimen name=\"start_button_y\">150dp</dimen>\n",
    "    <dimen name=\"progress_bar_size\">300dp</dimen>\n",
    "</resources>\n",
    "```"
   ]
  },
  {
   "cell_type": "markdown",
   "id": "e1eebef9-ecb9-4ea8-9ac2-476374127800",
   "metadata": {},
   "source": [
    "Dodajmy do projektu drugą aktywność, na której będziemy wyświetlać wszystkie liczniki oraz `RecyclerView`\n",
    "\n",
    "```xml\n",
    "<?xml version=\"1.0\" encoding=\"utf-8\"?>\n",
    "<RelativeLayout xmlns:android=\"http://schemas.android.com/apk/res/android\"\n",
    "    xmlns:app=\"http://schemas.android.com/apk/res-auto\"\n",
    "    xmlns:tools=\"http://schemas.android.com/tools\"\n",
    "    android:layout_width=\"match_parent\"\n",
    "    android:layout_height=\"match_parent\"\n",
    "    tools:context=\".ExerciseActivity\">\n",
    "\n",
    "</RelativeLayout>\n",
    "```\n",
    "\n",
    "W kolejnym kroku obsłużymy `onClick` aby móc przejść z głównej aktywności do aktywności z ćwiczeniami"
   ]
  },
  {
   "cell_type": "code",
   "execution_count": null,
   "id": "05b5cc58-f03f-4513-a746-ddd950598484",
   "metadata": {},
   "outputs": [],
   "source": [
    "@Override\n",
    "protected void onCreate(Bundle savedInstanceState) {\n",
    "    super.onCreate(savedInstanceState);\n",
    "    setContentView(R.layout.activity_main);\n",
    "\n",
    "    findViewById(R.id.start_button_layout).setOnClickListener(view -> {\n",
    "        Intent intent = new Intent(this, ExerciseActivity.class);\n",
    "        startActivity(intent);\n",
    "    });\n",
    "}"
   ]
  },
  {
   "cell_type": "markdown",
   "id": "01798bc7-79c5-41d2-aadb-756488d71395",
   "metadata": {},
   "source": [
    "Chcemy pozbyć się `NavigationBar` z głównej aktywności, w tym celu do metody `onCreate` dodajemy"
   ]
  },
  {
   "cell_type": "code",
   "execution_count": null,
   "id": "5ebdbce0-d6d7-466f-8b5e-bc6e820315c0",
   "metadata": {},
   "outputs": [],
   "source": [
    "getWindow().getDecorView().setSystemUiVisibility(View.SYSTEM_UI_FLAG_FULLSCREEN);"
   ]
  },
  {
   "cell_type": "markdown",
   "id": "d668df52-b83a-4b3a-88b4-b6374619f81c",
   "metadata": {},
   "source": [
    "Chcemy również pozbyć się `ActionBar` jak i zablokować orientację ekranu w pozycji `portrait`, w tym celu w pliku `AndroidManifest` dodajemy\n",
    "\n",
    "```xml\n",
    "<activity\n",
    "    android:name=\".ExerciseActivity\"\n",
    "    android:screenOrientation=\"portrait\"\n",
    "    android:theme=\"@style/Theme.AppCompat.Light.NoActionBar\"\n",
    "    android:exported=\"false\" />\n",
    "<activity\n",
    "    android:name=\".MainActivity\"\n",
    "    android:theme=\"@style/Theme.AppCompat.Light.NoActionBar\"\n",
    "    android:screenOrientation=\"portrait\"\n",
    "    android:exported=\"true\">\n",
    "```"
   ]
  },
  {
   "cell_type": "markdown",
   "id": "6d285f09-e55a-414e-8862-42f8fce7ed02",
   "metadata": {},
   "source": [
    "Kolejnym krokiem będzie zmiana koloru `ActionBar` w `ExerciseActivity` w tym celu adefiniujmy odpowiednie elementy w layoucie\n",
    "\n",
    "```xml\n",
    "<?xml version=\"1.0\" encoding=\"utf-8\"?>\n",
    "<RelativeLayout xmlns:android=\"http://schemas.android.com/apk/res/android\"\n",
    "    xmlns:app=\"http://schemas.android.com/apk/res-auto\"\n",
    "    xmlns:tools=\"http://schemas.android.com/tools\"\n",
    "    android:layout_width=\"match_parent\"\n",
    "    android:layout_height=\"match_parent\"\n",
    "    android:background=\"@color/backgroundColor\"\n",
    "    tools:context=\".ExerciseActivity\">\n",
    "\n",
    "    <androidx.appcompat.widget.Toolbar\n",
    "        android:id=\"@+id/toolbar\"\n",
    "        android:layout_width=\"match_parent\"\n",
    "        android:layout_height=\"?android:attr/actionBarSize\"\n",
    "        android:background=\"@color/backgroundColor\"/>\n",
    "\n",
    "</RelativeLayout>\n",
    "```\n",
    "\n",
    "Szerokość `Toolbar` ustawiamy na `match_parent`, wysokość jest standardowo zdefiniowana w atrybutach.\n",
    "\n",
    "Następnie dodajmy nawigację z poziomu kodu. Przejdźmy do klasy `ExerciseActivity` i dodajmy obsługę utworzonego `Toolbar`."
   ]
  },
  {
   "cell_type": "code",
   "execution_count": null,
   "id": "eb3c92a2-c518-4a36-af50-697101985124",
   "metadata": {},
   "outputs": [],
   "source": [
    "@Override\n",
    "protected void onCreate(Bundle savedInstanceState) {\n",
    "    super.onCreate(savedInstanceState);\n",
    "    setContentView(R.layout.activity_exercise);\n",
    "    Toolbar toolbar = findViewById(R.id.toolbar);\n",
    "    setSupportActionBar(toolbar);\n",
    "}"
   ]
  },
  {
   "cell_type": "markdown",
   "id": "28b77aa5-bdbf-44fa-ab5f-4972e0ffb9ed",
   "metadata": {},
   "source": [
    "Dodajmy możliwość nawigacji powrotnej"
   ]
  },
  {
   "cell_type": "code",
   "execution_count": null,
   "id": "3bf230a6-505c-480d-8c43-2bafdef91262",
   "metadata": {},
   "outputs": [],
   "source": [
    "@Override\n",
    "protected void onCreate(Bundle savedInstanceState) {\n",
    "    super.onCreate(savedInstanceState);\n",
    "    setContentView(R.layout.activity_exercise);\n",
    "    Toolbar toolbar = findViewById(R.id.toolbar);\n",
    "    setSupportActionBar(toolbar);\n",
    "    Objects.requireNonNull(getSupportActionBar()).setDisplayHomeAsUpEnabled(true); // wyświetla przycisk powrotu\n",
    "    toolbar.setNavigationOnClickListener(view -> {\n",
    "        onBackPressed(); // powrót do poprzedniej aktywności\n",
    "    });\n",
    "}"
   ]
  },
  {
   "cell_type": "markdown",
   "id": "9732933f-df63-41eb-b299-7e381ab52aaa",
   "metadata": {},
   "source": [
    "Musimy jeszcze zmienić kolor przycisku nawigacji powrotnej na `Toolbar`. Przejdźmy do pliku `themes.xml` i zdefiniujmy nowy styl\n",
    "\n",
    "```xml\n",
    "<style name=\"ExerciseToolbarTheme\"\n",
    "    parent=\"ThemeOverlay.AppCompat.ActionBar\">\n",
    "    <item name=\"colorControlNormal\">\n",
    "        @color/textColor\n",
    "    </item>\n",
    "</style>\n",
    "```\n",
    "\n",
    "Styl jest utworzony tylko dla utworzonego elementu `Toolbar`, którego rodzicem jest `ActionBar`. Przejdźmy do `activity_exercise.xml` i dodajmy utworzony styl jako `theme` naszego `Toolbar` oraz zmieńmy kolor czcionki\n",
    "\n",
    "```xml\n",
    "    <androidx.appcompat.widget.Toolbar\n",
    "        android:id=\"@+id/toolbar\"\n",
    "        android:theme=\"@style/ExerciseToolbarTheme\"\n",
    "        android:layout_width=\"match_parent\"\n",
    "        app:titleTextColor=\"@color/textColor\"\n",
    "        android:layout_height=\"?android:attr/actionBarSize\"\n",
    "        android:background=\"@color/backgroundColor\"/>\n",
    "```"
   ]
  },
  {
   "cell_type": "markdown",
   "id": "1f2655d6-2bb0-4635-b092-60df016c0c75",
   "metadata": {},
   "source": [
    "Zdefiniujmy kształt i prostą animację przycisku **START**. Wpierw utwórzmy nowy plik `start_button.xml` i dodajmy go do folderu `drawable`. Jako element **root** wybieram `shape`.\n",
    "\n",
    "```xml\n",
    "<?xml version=\"1.0\" encoding=\"utf-8\"?>\n",
    "<shape xmlns:android=\"http://schemas.android.com/apk/res/android\"\n",
    "    android:shape=\"rectangle\">\n",
    "    <stroke android:width=\"7dp\"\n",
    "        android:color=\"@color/textColor\"/>\n",
    "    <solid android:color=\"@color/backgroundColor\"/>\n",
    "    <corners android:radius=\"170dp\"/>\n",
    "\n",
    "</shape>\n",
    "```\n",
    "\n",
    "- `stroke` - ramka\n",
    "- `solid` - kolor wypełnienia\n",
    "- `corners` - narożniki\n",
    "\n",
    "Dodajmy efekt który będzie się pojawiał po naciśnięciu naszego przycisku. Do folderu `drawable` dodaję kolejny plik `start_button_ripple_bg.xml` - jako element **root** wybieram `ripple`\n",
    "\n",
    "```xml\n",
    "<?xml version=\"1.0\" encoding=\"utf-8\"?>\n",
    "<ripple xmlns:android=\"http://schemas.android.com/apk/res/android\"\n",
    "    android:color=\"@color/teal_200\">\n",
    "    <item android:id=\"@+id/ripple_effect\">\n",
    "        <shape android:shape=\"rectangle\"/>\n",
    "    </item>\n",
    "    <item android:drawable=\"@drawable/start_button\"/>\n",
    "\n",
    "</ripple>\n",
    "```\n",
    "\n",
    "- `color` - element wymagany, kolor efektu\n",
    "- `<item android:drawable=\"@drawable/start_button\"/>` - wskazujemy na którym elemencie efekt ma zostać zastosowany\n",
    "\n",
    "Przejdźmy do `activity_main.xml` i zastosujmy utworzony kształt z efektem na przycisku.\n",
    "\n",
    "```xml\n",
    "<LinearLayout\n",
    "    android:id=\"@+id/start_button_layout\"\n",
    "    android:layout_width=\"@dimen/start_button_x\"\n",
    "    android:layout_height=\"@dimen/start_button_y\"\n",
    "    android:background=\"@drawable/start_button_ripple_bg\"\n",
    "    android:gravity=\"center\">\n",
    "```\n",
    "\n",
    "Na tym etapie możemy przetestować funkcjonalność."
   ]
  },
  {
   "cell_type": "markdown",
   "id": "f674fcc2-b35b-408f-a8a1-f6fb5cfe5e6a",
   "metadata": {},
   "source": [
    "<img src=\"https://media1.giphy.com/media/5Ombs7SjB6D5B881TF/giphy.gif?cid=790b76116c819433e87262554ef1fca70628f4afe38e02fb&rid=giphy.gif&ct=g\" width=\"200\" />"
   ]
  },
  {
   "cell_type": "markdown",
   "id": "31e69966-6edc-48ab-bbaf-399ced943766",
   "metadata": {},
   "source": [
    "## **ProgressBar**"
   ]
  },
  {
   "cell_type": "markdown",
   "id": "906ca216-111f-46d2-b390-5cfc2155187d",
   "metadata": {},
   "source": [
    "W tej części zaprojektujemy i dodamu własny `ProgressBar` składający się z pola `TextView` oraz dwóch okręgów. W pierwszym kroku dodajmy nowy plik do folderu `drawable` o nazwie `custom_progress_bar_external_circle`, zdefiniujemy w nim podstawowy kształt zewnętrznego okręgu. Jako **root** wyblieram `layer-list`. `layer-list` wykorzystujemy gdy potrzebujemy kilku plików `xml` definiujących pojedynczy element.\n",
    "\n",
    "```xml\n",
    "<?xml version=\"1.0\" encoding=\"utf-8\"?>\n",
    "<layer-list xmlns:android=\"http://schemas.android.com/apk/res/android\">\n",
    "    <item>\n",
    "        <shape android:shape=\"ring\"\n",
    "            android:innerRadiusRatio=\"2.5\"\n",
    "            android:thicknessRatio=\"50.0\"\n",
    "            android:useLevel=\"true\">\n",
    "            <solid android:color=\"@color/textColor\"/>\n",
    "        </shape>\n",
    "    </item>\n",
    "</layer-list>\n",
    "```\n",
    "\n",
    "- `useLevel` - przyjmuje `true` jeżeli element jest używany jako `listDrawable`\n",
    "\n",
    "Podobnie dodajmy plik dla wewnętrznego okręgu - `custom_progress_bar_iner_circle`\n",
    "\n",
    "```xml\n",
    "<?xml version=\"1.0\" encoding=\"utf-8\"?>\n",
    "<layer-list xmlns:android=\"http://schemas.android.com/apk/res/android\">\n",
    "    <item>\n",
    "        <shape\n",
    "            android:innerRadiusRatio=\"3.5\"\n",
    "            android:shape=\"ring\"\n",
    "            android:thicknessRatio=\"18.0\"\n",
    "            android:useLevel=\"false\">\n",
    "            <solid android:color=\"@color/textColor\" />\n",
    "        </shape>\n",
    "    </item>\n",
    "</layer-list>\n",
    "```\n",
    "\n",
    "Przejdźmy do pliku `activity_exercise.xml` i dodajmy kilka elementów. Pod `Toolbar` dodamy `LinearLayout` w którym umieeścimy wszystkie elementy `ProgressBar`\n",
    "\n",
    "```xml\n",
    "    <LinearLayout\n",
    "        android:id=\"@+id/linear_layout_custom_view\"\n",
    "        android:layout_width=\"match_parent\"\n",
    "        android:layout_height=\"match_parent\"\n",
    "        android:layout_below=\"@id/toolbar\"\n",
    "        android:gravity=\"center\"\n",
    "        android:orientation=\"vertical\">\n",
    "```\n",
    "\n",
    "Następnie dodajmy pole `TextView` które posłuży do wyświetlania tytułu ćwiczenia\n",
    "\n",
    "```xml\n",
    "<TextView\n",
    "    android:layout_width=\"wrap_content\"\n",
    "    android:layout_height=\"wrap_content\"\n",
    "    android:text=\"START EXERCISE\"\n",
    "    android:textColor=\"@color/textColor\"\n",
    "    android:textSize=\"40sp\"\n",
    "    android:gravity=\"center\"/>\n",
    "```\n",
    "\n",
    "Kolejnym elementem będzie `FrameLayout` który pozwoli nam zebrać kilka elementów do wspólnego konteneru\n",
    "\n",
    "```xml\n",
    "<FrameLayout\n",
    "    android:layout_width=\"@dimen/progress_bar_size\"\n",
    "    android:layout_height=\"@dimen/progress_bar_size\"\n",
    "    android:background=\"@color/backgroundColor\">\n",
    "```\n",
    "\n",
    "Dalej rozpoczniemy dodawanie `ProgressBar`. Wpierw ustalamy styl który chcemy wykorzystać, tutaj będzie to **horyzontal**\n",
    "\n",
    "```xml\n",
    "<ProgressBar\n",
    "    android:id=\"@+id/progress_bar\"\n",
    "    android:layout_width=\"@dimen/progress_bar_size\"\n",
    "    android:layout_height=\"@dimen/progress_bar_size\"\n",
    "    style=\"?android:attr/progressBarStyleHorizontal\"/>\n",
    "```\n",
    "\n",
    "następnie nasz wewnętrzny okrąg ustawimy jako tło \n",
    "\n",
    "```xml\n",
    "<ProgressBar\n",
    "    android:layout_gravity=\"center\"\n",
    "    android:background=\"@drawable/custom_progress_bar_inner_circle\"/>\n",
    "```\n",
    "\n",
    "mamy 12 ćwiczeń, więc `max` ustawiamy na 12\n",
    "\n",
    "```xml\n",
    "<ProgressBar\n",
    "    android:max=\"12\"\n",
    "/>\n",
    "```\n",
    "\n",
    "znamy dokładnie liczbę elementów, więc ustawiamy `indeterminate` na `false`\n",
    "\n",
    "```xml\n",
    "<ProgressBar\n",
    "    android:indeterminate=\"false\"\n",
    "    android:max=\"12\"/>\n",
    "```\n",
    "\n",
    "również chcemy pokazwywać odwrotny progres (od 100% do 0%) więc `progress` zostaje ustawiony na 100.\n",
    "\n",
    "```xml\n",
    "<ProgressBar\n",
    "    android:progress=\"100\"/>\n",
    "```\n",
    "\n",
    "będziemy modyfikować zewnętrzny okrąg, więc `progressDrawable` ustawiam na `custom_progress_bar_external_circle`\n",
    "\n",
    "```xml\n",
    "<ProgressBar\n",
    "    android:id=\"@+id/progress_bar\"\n",
    "    android:layout_width=\"@dimen/progress_bar_size\"\n",
    "    android:layout_height=\"@dimen/progress_bar_size\"\n",
    "    style=\"?android:attr/progressBarStyleHorizontal\"\n",
    "    android:layout_gravity=\"center\"\n",
    "    android:background=\"@drawable/custom_progress_bar_inner_circle\"\n",
    "    android:indeterminate=\"false\"\n",
    "    android:max=\"12\"\n",
    "    android:progress=\"100\"\n",
    "    android:progressDrawable=\"@drawable/custom_progress_bar_external_circle\"\n",
    "    android:rotation=\"-90\"/>\n",
    "```\n",
    "\n",
    "chcemy zastosować odwrotny zegar, więc `rotation` zostaje ustawiony na -90."
   ]
  },
  {
   "cell_type": "markdown",
   "id": "d04a0f91-9582-40f4-8c53-0c6613a1bc87",
   "metadata": {},
   "source": [
    "Dodajmy prosty licznik do klasy `ExerciseActivity`"
   ]
  },
  {
   "cell_type": "markdown",
   "id": "806c240f-c4b9-4ded-a106-0d42e5216e4f",
   "metadata": {},
   "source": [
    "Ćwiczenia będą pojawiać się co 5 sekund, więc zróbmy licznik odliczający od 5. Wpierw zdefiniujmy kilka zmiennych."
   ]
  },
  {
   "cell_type": "code",
   "execution_count": null,
   "id": "5375ffaf-943e-4d05-8f29-9a7a0e04b7ee",
   "metadata": {},
   "outputs": [],
   "source": [
    "private CountDownTimer waitTimer;\n",
    "private int progressBarValue = 0;\n",
    "private long waitTimerDuration = 5000L;\n",
    "private long timerInterval = 1000;\n",
    "private int progressInterval = 5;"
   ]
  },
  {
   "cell_type": "markdown",
   "id": "c6e5e96c-59fe-4263-939a-d7e430f37fd3",
   "metadata": {},
   "source": [
    "- `progressBarValue` przechowuje wartość `ProgressBar`\n",
    "- `waitTimerDuration` czas oczekiwania\n",
    "- `timerInteval` czas po którym następuje zmiana licznika\n",
    "- `progressInterval` chcemy podzielić `ProgressBar` na 5 części"
   ]
  },
  {
   "cell_type": "markdown",
   "id": "c289582d-997a-4041-be1d-045a4304d02f",
   "metadata": {},
   "source": [
    "Następnie nadpiszemy metodę `onDestroy` i dodamy anulowanie `CountDownTimer` oraz zresetujemy wartość `ProgressBar`"
   ]
  },
  {
   "cell_type": "code",
   "execution_count": null,
   "id": "68aa9901-f7f4-4e19-89db-12cab0397ff1",
   "metadata": {},
   "outputs": [],
   "source": [
    "@Override\n",
    "protected void onDestroy() {\n",
    "    if (waitTimer != null) {\n",
    "        waitTimer.cancel();\n",
    "        progressBarValue = 0;\n",
    "    }\n",
    "    super.onDestroy();\n",
    "}"
   ]
  },
  {
   "cell_type": "markdown",
   "id": "adc6f0fe-b747-4891-9c26-e640c21bfe64",
   "metadata": {},
   "source": [
    "Dodajmy metodę ustawiającą `ProgressBar`. Wpierw połączmy `ProgressBar` z elementem layoutu, i ustawmy progres na `progressBarValue`."
   ]
  },
  {
   "cell_type": "code",
   "execution_count": null,
   "id": "fc727dce-b7b4-42e8-91b2-e0a8fefc6548",
   "metadata": {},
   "outputs": [],
   "source": [
    "private ProgressBar progressBar = findViewById(R.id.progress_bar);\n",
    "\n",
    "private void setupProgressBar(){\n",
    "    progressBar.setProgress(progressBarValue);\n",
    "}"
   ]
  },
  {
   "cell_type": "markdown",
   "id": "dcb4b80b-c9a3-4b97-b257-52bb7c1fa5f1",
   "metadata": {},
   "source": [
    "Następnie zainicjujmy `waitTimer`, musimy utworzyć nowy obiekt o typie `CountDownTimer` i dostarczyć implementacje dwóch metod.\n",
    "- `onTick` definiuje akcję po każdym interwale\n",
    "- `onFinish` definiuje akcje po zakończeniu odliczania\n",
    "\n",
    "`CountDownTimer` przyjmuje dwa argumenty\n",
    "- czas bezjednostkowy\n",
    "- interwał (jednostkę)"
   ]
  },
  {
   "cell_type": "code",
   "execution_count": null,
   "id": "69a998c1-b6d7-4114-9195-0cdbba8032c8",
   "metadata": {},
   "outputs": [],
   "source": [
    "waitTimer = new CountDownTimer(waitTimerDuration, timerInterval) {\n",
    "    @Override\n",
    "    public void onTick(long l) {\n",
    "\n",
    "    }\n",
    "\n",
    "    @Override\n",
    "    public void onFinish() {\n",
    "\n",
    "    }\n",
    "};"
   ]
  },
  {
   "cell_type": "markdown",
   "id": "44a3a552-b393-455b-98e5-a9bb13ea5f54",
   "metadata": {},
   "source": [
    "Dodajmy implementację `onFinish` - wyświetlimy wiadomość"
   ]
  },
  {
   "cell_type": "code",
   "execution_count": null,
   "id": "161e140b-31bf-4e51-8e46-d178f90fe7d8",
   "metadata": {},
   "outputs": [],
   "source": [
    "@Override\n",
    "public void onFinish() {\n",
    "    Toast.makeText(ExerciseActivity.this, \"YOGA TIME\", Toast.LENGTH_SHORT).show();\n",
    "}"
   ]
  },
  {
   "cell_type": "markdown",
   "id": "d3778195-0b6a-47bd-b6ac-86bce931cd39",
   "metadata": {},
   "source": [
    "Przejdźmy do implementacji metody `onTick`. Dodajemy pole `TextView` i wywołujemy metodę `findViewById`. Wpierw inkrementujemy wartość `progressBarValue`, następnie ustawiamy progres na `ProgressBar` i wyświetlamy odpowiedni text."
   ]
  },
  {
   "cell_type": "code",
   "execution_count": null,
   "id": "6344c4b5-7942-40be-a1b6-c0bf24dd02ce",
   "metadata": {},
   "outputs": [],
   "source": [
    "private TextView textViewCounter = findViewById(R.id.text_view_counter);\n",
    "\n",
    "@Override\n",
    "public void onTick(long l) {\n",
    "    progressBarValue++;\n",
    "    progressBar.setProgress(progressInterval - progressBarValue);\n",
    "    textViewCounter.setText(progressInterval - progressBarValue);\n",
    "}"
   ]
  },
  {
   "cell_type": "markdown",
   "id": "ab9ca282-e8c2-427d-988e-829bd6225c03",
   "metadata": {},
   "source": [
    "Implementację `CountDownTimer` kończymy wywołując metodę `start`"
   ]
  },
  {
   "cell_type": "code",
   "execution_count": null,
   "id": "694d3c65-f7b6-4cd5-b4a7-4a6f12a18bca",
   "metadata": {},
   "outputs": [],
   "source": [
    "waitTimer = new CountDownTimer(waitTimerDuration, timerInterval) {\n",
    "    @Override\n",
    "    public void onTick(long l) {\n",
    "        progressBarValue++;\n",
    "        progressBar.setProgress(progressInterval - progressBarValue);\n",
    "        textViewCounter.setText(String.valueOf(progressInterval - progressBarValue));\n",
    "    }\n",
    "\n",
    "    @Override\n",
    "    public void onFinish() {\n",
    "        Toast.makeText(ExerciseActivity.this, \"YOGA TIME\", Toast.LENGTH_SHORT).show();\n",
    "    }\n",
    "}.start();"
   ]
  },
  {
   "cell_type": "markdown",
   "id": "e731d4ee-acff-4a70-b87e-803dc98ebbfc",
   "metadata": {},
   "source": [
    "Do metody `onCreate` dodajmy wywołanie metody `setupProgressBar`"
   ]
  },
  {
   "cell_type": "code",
   "execution_count": null,
   "id": "ffa0e11c-1465-4782-b2f8-ebb092c34de3",
   "metadata": {},
   "outputs": [],
   "source": [
    "@Override\n",
    "protected void onCreate(Bundle savedInstanceState) {\n",
    "    super.onCreate(savedInstanceState);\n",
    "    setContentView(R.layout.activity_exercise);\n",
    "    Toolbar toolbar = findViewById(R.id.toolbar);\n",
    "    setSupportActionBar(toolbar);\n",
    "    Objects.requireNonNull(getSupportActionBar()).setDisplayHomeAsUpEnabled(true);\n",
    "    toolbar.setNavigationOnClickListener(view -> {\n",
    "        onBackPressed();\n",
    "    });\n",
    "    setupProgressBar();\n",
    "}"
   ]
  },
  {
   "cell_type": "markdown",
   "id": "a8dc8425-8b86-4997-86fb-50c7b3944099",
   "metadata": {},
   "source": [
    "Na tym etapie możemy przetestować aplikację."
   ]
  },
  {
   "cell_type": "markdown",
   "id": "989e89cb-b8fd-4158-a569-d4ce0f4385d0",
   "metadata": {},
   "source": [
    "<img src=\"https://media4.giphy.com/media/T1hFaLVxDkWnVSOHlb/giphy.gif?cid=790b76119c2d33faac1e1ab83e16b82d038339bd4cb439f3&rid=giphy.gif&ct=g\" width=\"200\" />"
   ]
  },
  {
   "cell_type": "markdown",
   "id": "23521a08-b8a7-47db-ac49-d567e16a2042",
   "metadata": {},
   "source": [
    "Kolejnym krokiem będzie dodanie `CountDownTimer` dla wykonywania ćwiczenia. Ponieważ będziemy mieć dwa liczniki, dodajmy flagę przez ustawienie której będziemy przełączać się między licznikami"
   ]
  },
  {
   "cell_type": "code",
   "execution_count": null,
   "id": "f1a1f5a2-df62-4c30-a17a-16ea85f01514",
   "metadata": {},
   "outputs": [],
   "source": [
    "private boolean isYoga = false;"
   ]
  },
  {
   "cell_type": "markdown",
   "id": "776a354b-4b35-4645-8259-c1e373a260c7",
   "metadata": {},
   "source": [
    "Będziemy posługiwać się jedną instancję klasy `CountDownTimer`, więc zmieńmy nazwę `waitTimer` na `timer`"
   ]
  },
  {
   "cell_type": "code",
   "execution_count": null,
   "id": "163b967c-56fb-4346-a979-cbbbfca44128",
   "metadata": {},
   "outputs": [],
   "source": [
    "private CountDownTimer timer;"
   ]
  },
  {
   "cell_type": "markdown",
   "id": "a42b4084-7c0e-4e5b-88aa-6b4cc9948f5d",
   "metadata": {},
   "source": [
    "Następnie zdefiniujmy czas trwania ćwiczenia oraz interwał"
   ]
  },
  {
   "cell_type": "code",
   "execution_count": null,
   "id": "a2a7d2b4-b5e8-491e-bf6b-581afe9712bb",
   "metadata": {},
   "outputs": [],
   "source": [
    "private long yogaTimerDuration = 7000L;\n",
    "private int yogaProgressInterval = 7;"
   ]
  },
  {
   "cell_type": "markdown",
   "id": "6564a3fd-1e25-4dd4-bacc-733c041a94db",
   "metadata": {},
   "source": [
    "Zmodyfikujmy metodę `setupProgressBar` oraz metodę `onFinish`"
   ]
  },
  {
   "cell_type": "code",
   "execution_count": null,
   "id": "640e3e25-ac35-4b55-9bcb-4679aeb15766",
   "metadata": {},
   "outputs": [],
   "source": [
    "private void setupProgressBar(){\n",
    "    long timerDuration;\n",
    "    int progressInterval;\n",
    "    if (isYoga){\n",
    "        // ćwiczenie\n",
    "        timerDuration = yogaTimerDuration;\n",
    "        progressInterval = yogaProgressInterval;\n",
    "        progressBar.setMax(yogaProgressInterval);\n",
    "    }else{\n",
    "        // oczekiwanie\n",
    "        timerDuration = waitTimerDuration;\n",
    "        progressInterval = waitProgressInterval;\n",
    "        progressBar.setMax(progressInterval);\n",
    "    }\n",
    "    progressBar.setProgress(progressBarValue);\n",
    "    timer = new CountDownTimer(timerDuration, timerInterval) {\n",
    "        @Override\n",
    "        public void onTick(long l) {\n",
    "            progressBarValue++;\n",
    "            progressBar.setProgress(progressInterval - progressBarValue);\n",
    "            textViewCounter.setText(String.valueOf(progressInterval - progressBarValue));\n",
    "        }\n",
    "\n",
    "        @Override\n",
    "        public void onFinish() {\n",
    "            Toast.makeText(ExerciseActivity.this, \"YOGA TIME\", Toast.LENGTH_SHORT).show();\n",
    "            if (timer != null) {\n",
    "                timer.cancel();\n",
    "                progressBarValue = 0;\n",
    "            }\n",
    "            isYoga = !isYoga;\n",
    "            setupProgressBar();\n",
    "        }\n",
    "    }.start();\n",
    "}"
   ]
  },
  {
   "cell_type": "markdown",
   "id": "1fc936d3-e6b9-48a7-8ce4-93419bff912e",
   "metadata": {},
   "source": [
    "## **Dodanie danych**"
   ]
  },
  {
   "cell_type": "markdown",
   "id": "9ada4622-b0b4-42cd-9126-e6fb3416346f",
   "metadata": {},
   "source": [
    "Dodajmy dane do naszej aplikacji"
   ]
  },
  {
   "cell_type": "code",
   "execution_count": null,
   "id": "e3743049-21c7-4050-8ec3-8f0d43b9971b",
   "metadata": {},
   "outputs": [],
   "source": [
    "package pl.edu.uwr.pum.quickyogaappjava;\n",
    "\n",
    "public class YogaPose {\n",
    "    private final int id;\n",
    "    private final String name;\n",
    "    private final int image;\n",
    "    private boolean isCompleted = false;\n",
    "    private boolean isSelected = false;\n",
    "\n",
    "    public YogaPose(int id, String name, int image) {\n",
    "        this.id = id;\n",
    "        this.name = name;\n",
    "        this.image = image;\n",
    "    }\n",
    "\n",
    "    public boolean isCompleted() {\n",
    "        return isCompleted;\n",
    "    }\n",
    "\n",
    "    public void setCompleted(boolean completed) {\n",
    "        isCompleted = completed;\n",
    "    }\n",
    "\n",
    "    public boolean isSelected() {\n",
    "        return isSelected;\n",
    "    }\n",
    "\n",
    "    public void setSelected(boolean selected) {\n",
    "        isSelected = selected;\n",
    "    }\n",
    "\n",
    "    public int getId() {\n",
    "        return id;\n",
    "    }\n",
    "\n",
    "    public String getName() {\n",
    "        return name;\n",
    "    }\n",
    "\n",
    "    public int getImage() {\n",
    "        return image;\n",
    "    }\n",
    "}"
   ]
  },
  {
   "cell_type": "code",
   "execution_count": null,
   "id": "0eda9839-f725-4265-bb5b-6fd51796225e",
   "metadata": {},
   "outputs": [],
   "source": [
    "public final class YogaPoses {\n",
    "    private YogaPoses(){}\n",
    "\n",
    "    public static ArrayList<YogaPose> getYogaPoses(){\n",
    "        int[] images = {\n",
    "                R.drawable.e1w,\n",
    "                R.drawable.e2w,\n",
    "                R.drawable.e3w,\n",
    "                R.drawable.e4w,\n",
    "                R.drawable.e5w,\n",
    "                R.drawable.e6w,\n",
    "                R.drawable.e7w,\n",
    "                R.drawable.e8w,\n",
    "                R.drawable.e9w,\n",
    "                R.drawable.e10w,\n",
    "                R.drawable.e11w,\n",
    "                R.drawable.e12w,\n",
    "        };\n",
    "\n",
    "        String[] names = {\"Cobra\", \"Lord of the Dance\", \"Low Lunge\", \"Dancer\",\n",
    "                \"Wide Leg Forward Bend\", \"Warrior\", \"Lord Of The Dance Full\",\n",
    "                \"Squatting Toe Balance\", \"Lord Of The Dance Revolved\", \n",
    "                \"Wheel, One Legged\", \"Shoulder Stand, Split\", \"Warrior, Reverse\"};\n",
    "\n",
    "        ArrayList<YogaPose> yogaPoses = new ArrayList<>(12);\n",
    "        for(int i = 0; i < 12; i++){\n",
    "            yogaPoses.add(\n",
    "                    new YogaPose(\n",
    "                            i,\n",
    "                            names[i],\n",
    "                            images[i]\n",
    "                    )\n",
    "            );\n",
    "        }\n",
    "        return yogaPoses;\n",
    "    }\n",
    "}"
   ]
  },
  {
   "cell_type": "markdown",
   "id": "e62007e8-1461-4f3b-9348-f20eb97a39c9",
   "metadata": {},
   "source": [
    "Przejdźmy do `ExerciseActivity` i dodajmy wyświetlanie odpowiednich ćwiczeń. Zacnziemy od dwóch zmiennych."
   ]
  },
  {
   "cell_type": "code",
   "execution_count": null,
   "id": "d7fdf730-80b5-4a1e-8762-38cae148a7ed",
   "metadata": {},
   "outputs": [],
   "source": [
    "private ArrayList<YogaPose> yogaPosesList;\n",
    "private int exercisePosition = 0;"
   ]
  },
  {
   "cell_type": "markdown",
   "id": "3f05a24a-cc37-4a44-85ca-1737b8559f78",
   "metadata": {},
   "source": [
    "Inkrementację numeru ćwiczenia dodamy w metodzie `onFinish`"
   ]
  },
  {
   "cell_type": "code",
   "execution_count": null,
   "id": "24b59019-3392-4577-9514-65824f63a911",
   "metadata": {},
   "outputs": [],
   "source": [
    "@Override\n",
    "public void onFinish() {\n",
    "    Toast.makeText(ExerciseActivity.this, \"YOGA TIME\", Toast.LENGTH_SHORT).show();\n",
    "    if (timer != null) {\n",
    "        timer.cancel();\n",
    "        progressBarValue = 0;\n",
    "    }\n",
    "\n",
    "    if (isYoga){\n",
    "        exercisePosition++;\n",
    "    }\n",
    "\n",
    "    isYoga = !isYoga;\n",
    "    setupProgressBar();\n",
    "}"
   ]
  },
  {
   "cell_type": "markdown",
   "id": "aee505fc-39b2-4a19-bcb1-9feebd982f86",
   "metadata": {},
   "source": [
    "Do layoutu dodajmy `ImageView`\n",
    "\n",
    "```xml\n",
    "...\n",
    "<LinearLayout\n",
    "    android:id=\"@+id/linear_layout_custom_view\"\n",
    "    android:layout_width=\"match_parent\"\n",
    "    android:layout_height=\"match_parent\"\n",
    "    android:layout_below=\"@id/toolbar\"\n",
    "    android:gravity=\"center\"\n",
    "    android:orientation=\"vertical\">\n",
    "\n",
    "    <ImageView\n",
    "        android:id=\"@+id/yoga_image\"\n",
    "        android:layout_width=\"wrap_content\"\n",
    "        android:layout_height=\"0dp\"\n",
    "        android:scaleType=\"fitXY\"\n",
    "        android:layout_weight=\"1\"\n",
    "        android:contentDescription=\"@string/image\"/>\n",
    "...\n",
    "```"
   ]
  },
  {
   "cell_type": "markdown",
   "id": "e0410b24-a8d5-4014-9b6c-f71933dc3ff2",
   "metadata": {},
   "source": [
    "Powróćmy do `ExerciseActivity` i dokonajmy odpowiednich modyfikacji. W metodzie `onCreate` inicjujemy listę ćwiczeń"
   ]
  },
  {
   "cell_type": "code",
   "execution_count": null,
   "id": "926a1dfd-b7db-4681-9adc-5e33efaf09d9",
   "metadata": {},
   "outputs": [],
   "source": [
    "yogaPosesList = YogaPoses.getYogaPoses();"
   ]
  },
  {
   "cell_type": "markdown",
   "id": "7e4fe5e7-e71f-49c3-af6d-b8665ee499cd",
   "metadata": {},
   "source": [
    "W metodzie `onDestroy` będziemy resetować pozycję"
   ]
  },
  {
   "cell_type": "code",
   "execution_count": null,
   "id": "f603de5a-0ce7-4818-8113-3d64e4d24279",
   "metadata": {},
   "outputs": [],
   "source": [
    "@Override\n",
    "protected void onDestroy() {\n",
    "    if (timer != null) {\n",
    "        timer.cancel();\n",
    "        progressBarValue = 0;\n",
    "    }\n",
    "\n",
    "    exercisePosition = 0; // resetowanie pozycji\n",
    "\n",
    "    super.onDestroy();\n",
    "}"
   ]
  },
  {
   "cell_type": "markdown",
   "id": "5d12cf7a-1c6e-4996-a30b-7ace760b0c7c",
   "metadata": {},
   "source": [
    "Połączmy `ImageView` z odpowiednim polem"
   ]
  },
  {
   "cell_type": "code",
   "execution_count": null,
   "id": "6b8caa4d-1431-450b-bc8f-55970b3c4a30",
   "metadata": {},
   "outputs": [],
   "source": [
    "private ImageView imageView;\n",
    "\n",
    "@Override\n",
    "protected void onCreate(Bundle savedInstanceState) {\n",
    "    super.onCreate(savedInstanceState);\n",
    "    setContentView(R.layout.activity_exercise);\n",
    "\n",
    "    progressBar = findViewById(R.id.progress_bar);\n",
    "    textViewCounter = findViewById(R.id.text_view_counter);\n",
    "    imageView = findViewById(R.id.yoga_image);\n",
    "    ...\n",
    "}"
   ]
  },
  {
   "cell_type": "markdown",
   "id": "381e0197-cab8-4b4d-bda6-e717a7628308",
   "metadata": {},
   "source": [
    "Zmodyfikujmy widoczność `ImageView` w zależności od stanu aplikacji - widoczny dla ćwiczenia; niewidoczny dla oczekiwania"
   ]
  },
  {
   "cell_type": "code",
   "execution_count": null,
   "id": "4ddc8dd3-05b9-4bdb-88dd-1076af2ff402",
   "metadata": {},
   "outputs": [],
   "source": [
    "if (isYoga){\n",
    "    timerDuration = yogaTimerDuration;\n",
    "    progressInterval = yogaProgressInterval;\n",
    "    progressBar.setMax(yogaProgressInterval);\n",
    "    imageView.setVisibility(View.VISIBLE); // widoczny\n",
    "}else{\n",
    "    timerDuration = waitTimerDuration;\n",
    "    progressInterval = waitProgressInterval;\n",
    "    progressBar.setMax(progressInterval);\n",
    "    imageView.setVisibility(View.INVISIBLE); // niewidoczny\n",
    "}"
   ]
  },
  {
   "cell_type": "markdown",
   "id": "a7422083-beb4-424c-b2a8-0488bc086b32",
   "metadata": {},
   "source": [
    "Zmodyfikujmy ponownie layout i dodajmy identyfikator dla pola `TextView` wyświetlającego tytuł ćwiczenia i dodajmy odpowiednie połączenie w klasie `ExerciseActivity`\n",
    "\n",
    "```xml\n",
    "<TextView\n",
    "    android:id=\"@+id/text_view_exercise_title\"\n",
    "    android:layout_width=\"wrap_content\"\n",
    "    android:layout_height=\"wrap_content\"\n",
    "    android:text=\"START EXERCISE\"\n",
    "    android:textColor=\"@color/textColor\"\n",
    "    android:textSize=\"40sp\"\n",
    "    android:gravity=\"center\"/>\n",
    "```"
   ]
  },
  {
   "cell_type": "code",
   "execution_count": null,
   "id": "c065aa4a-b251-44e1-a6b4-16e0431709bc",
   "metadata": {},
   "outputs": [],
   "source": [
    "private TextView textViewExerciseName;\n",
    "\n",
    "@Override\n",
    "protected void onCreate(Bundle savedInstanceState) {\n",
    "    super.onCreate(savedInstanceState);\n",
    "    setContentView(R.layout.activity_exercise);\n",
    "\n",
    "    progressBar = findViewById(R.id.progress_bar);\n",
    "    textViewCounter = findViewById(R.id.text_view_counter);\n",
    "    imageView = findViewById(R.id.yoga_image);\n",
    "    textViewExerciseName = findViewById(R.id.text_view_exercise_title);\n",
    "    ...\n",
    "}"
   ]
  },
  {
   "cell_type": "markdown",
   "id": "eb53541a-6b1c-49b1-bf96-de83a9bac777",
   "metadata": {},
   "source": [
    "Ponownie zmodyfikujmy metodę `setupProgressBar` i ustawmy odpowiedni tytuł oraz grafikę"
   ]
  },
  {
   "cell_type": "code",
   "execution_count": null,
   "id": "8f911923-362a-486d-a046-2a62d60ac91c",
   "metadata": {},
   "outputs": [],
   "source": [
    "if (isYoga){\n",
    "    timerDuration = yogaTimerDuration;\n",
    "    progressInterval = yogaProgressInterval;\n",
    "    progressBar.setMax(yogaProgressInterval);\n",
    "    textViewExerciseName.setText(yogaPosesList.get(exercisePosition).getName()); // tytuł\n",
    "    imageView.setVisibility(View.VISIBLE);\n",
    "    imageView.setImageResource(yogaPosesList.get(exercisePosition).getImage()); // grafika\n",
    "}else{\n",
    "    timerDuration = waitTimerDuration;\n",
    "    progressInterval = waitProgressInterval;\n",
    "    progressBar.setMax(progressInterval);\n",
    "    imageView.setVisibility(View.INVISIBLE);\n",
    "    textViewExerciseName.setText(getString(R.string.wait_text)); // tytuł\n",
    "}"
   ]
  },
  {
   "cell_type": "markdown",
   "id": "e2f8abbf-a6ec-4c55-acd4-ad73bbc80d10",
   "metadata": {},
   "source": [
    "Przejdźmy do metody `onFinish` i dodajmy warunek zakończenia"
   ]
  },
  {
   "cell_type": "code",
   "execution_count": null,
   "id": "ae4a1b39-9200-4fbb-9879-3b7232ee6685",
   "metadata": {},
   "outputs": [],
   "source": [
    "if (exercisePosition < yogaPosesList.size())\n",
    "    setupProgressBar();\n",
    "else\n",
    "    Toast.makeText(ExerciseActivity.this, \"COMPLETE\", Toast.LENGTH_SHORT).show();"
   ]
  },
  {
   "cell_type": "markdown",
   "id": "ca5bc0c9-fc41-44d2-b747-865604c830ba",
   "metadata": {},
   "source": [
    "Na tym etapie możemy przetestować aplikację"
   ]
  },
  {
   "cell_type": "markdown",
   "id": "e651635a-49a2-483a-a503-9e26f6d27cc8",
   "metadata": {},
   "source": [
    "<img src=\"https://media0.giphy.com/media/p4L6fWNHOts81bkN1e/giphy.gif?cid=790b7611799691beefe1a9e2288cd38958d65b504189bf0c&rid=giphy.gif&ct=g\" width=\"200\" />"
   ]
  },
  {
   "cell_type": "markdown",
   "id": "1f174568-f591-43dd-9f14-8e53457f8bf0",
   "metadata": {},
   "source": [
    "## **`TextToSpeech` oraz `MediaPlayer`**"
   ]
  },
  {
   "cell_type": "markdown",
   "id": "671252be-3069-470d-b9bb-9a4769665121",
   "metadata": {},
   "source": [
    "Rozpocznijmy od dodania `TextToSpeech`. Klasa `ExerciseActivity` będzie implementowała interfejs `TextToSpeech.OnInitListener`"
   ]
  },
  {
   "cell_type": "code",
   "execution_count": null,
   "id": "90a40a71-5dcb-4899-b781-dc26bab1a7f3",
   "metadata": {},
   "outputs": [],
   "source": [
    "public class ExerciseActivity extends AppCompatActivity implements TextToSpeech.OnInitListener{}"
   ]
  },
  {
   "cell_type": "markdown",
   "id": "c0dd81ee-bead-42f3-9d7f-874106ee1f89",
   "metadata": {},
   "source": [
    "Musimy dostarczyć implementację metody `onInit`"
   ]
  },
  {
   "cell_type": "code",
   "execution_count": null,
   "id": "af19b414-642d-4579-999e-d9d26ae11123",
   "metadata": {},
   "outputs": [],
   "source": [
    "@Override\n",
    "public void onInit(int i) {\n",
    "\n",
    "}"
   ]
  },
  {
   "cell_type": "markdown",
   "id": "a114afde-148f-4ce4-9b5c-dc338c4a4e44",
   "metadata": {},
   "source": [
    "Wpierw dodajmy zmienną"
   ]
  },
  {
   "cell_type": "code",
   "execution_count": null,
   "id": "bdb36b9f-42a6-4ab1-b956-8600f3e31b89",
   "metadata": {},
   "outputs": [],
   "source": [
    "private TextToSpeech textToSpeech;"
   ]
  },
  {
   "cell_type": "markdown",
   "id": "6a5dbb88-e850-4353-8b68-dd73870ad3e4",
   "metadata": {},
   "source": [
    "W metodzie `onCreate` zainicjujmy tą zmienną."
   ]
  },
  {
   "cell_type": "code",
   "execution_count": null,
   "id": "c260f53d-be4a-4921-a107-7d946cb12774",
   "metadata": {},
   "outputs": [],
   "source": [
    "textToSpeech = new TextToSpeech(this, this);"
   ]
  },
  {
   "cell_type": "markdown",
   "id": "ecb2d9d2-b01a-4058-beb2-715c08500cc7",
   "metadata": {},
   "source": [
    "Konstruktor przyjmuje dwa argumenty\n",
    "- `context` - każda aktywność jest swoim własnym kontekstem, więc używamy `this`\n",
    "- `listener` - ponieważ nasza aktywność implementuje interfejs `TextToSpeech.OnInitListener`, również wykorzystujemy `this`\n",
    "\n",
    "W pierwszej kolejności zapewnijmy zatrzymanie działania `TextToSpeech`, do metody `onDestroy` dodajmy"
   ]
  },
  {
   "cell_type": "code",
   "execution_count": null,
   "id": "b5e83dd9-fc3b-4927-a867-b765b66ce35e",
   "metadata": {},
   "outputs": [],
   "source": [
    "if (textToSpeech != null) {\n",
    "    textToSpeech.stop();\n",
    "    textToSpeech.shutdown();\n",
    "}"
   ]
  },
  {
   "cell_type": "markdown",
   "id": "63898c89-dd93-4727-9dae-09d0cfc81ad6",
   "metadata": {},
   "source": [
    "Dodajmy metodę przyjmującą jeden argument typu `String` - będzie to tekst ćwiczenia który chcemy aby został odczytany."
   ]
  },
  {
   "cell_type": "code",
   "execution_count": null,
   "id": "f16cac84-3a42-49b0-aa93-31d4e0230b6b",
   "metadata": {},
   "outputs": [],
   "source": [
    "private void speakPoseName(String text){\n",
    "    textToSpeech.speak(text, TextToSpeech.QUEUE_FLUSH, null, \"\");\n",
    "}"
   ]
  },
  {
   "cell_type": "markdown",
   "id": "ed71fb71-32b2-434b-82e4-2c2ee9c73011",
   "metadata": {},
   "source": [
    "Metoda `speak` przyjmuje cztery argumenty:\n",
    "- `text` - `String` do przetworzenia\n",
    "- `queueMode` - określa sposób przetwarzania - `QUEUE_FLUSH` oznacza, że przerywane jest odtwarzanie tekstu w momencie ponownego wywołania metody `speak` - kolejne wypowiadane kwestie nie będą odtwarzane jednocześnie\n",
    "- `params` - pozawala na ustawienie parametrów silnika (np. głośność) - `null` dla ustawień domyślnych\n",
    "- `utteranceId` - identyfikator - tutaj nie wykorzystany.\n",
    "\n",
    "W kolejnym kroku zastosujmy utworzoną metodę - zrobimy to w metodzie `setupProgressBar` przy przejściu do nowego ćwiczenia. `TextToSpeech` będzie odczytywał nazwę ćwiczenia."
   ]
  },
  {
   "cell_type": "code",
   "execution_count": null,
   "id": "c8979228-4bbc-452d-b8dc-bfdcf0d3f21f",
   "metadata": {},
   "outputs": [],
   "source": [
    "private void setupProgressBar(){\n",
    "    long timerDuration;\n",
    "    int progressInterval;\n",
    "    if (isYoga){\n",
    "        timerDuration = yogaTimerDuration;\n",
    "        progressInterval = yogaProgressInterval;\n",
    "        \n",
    "        speakPoseName(yogaPosesList.get(exercisePosition).getName());\n",
    "    ...\n",
    "}"
   ]
  },
  {
   "cell_type": "markdown",
   "id": "102bfd60-02a1-4c7a-9537-81f3831c21a0",
   "metadata": {},
   "source": [
    "Pozostaje jeszcze implementacja metody `onInit`"
   ]
  },
  {
   "cell_type": "code",
   "execution_count": null,
   "id": "d462acbf-2147-4ecc-8af0-57b053de62b7",
   "metadata": {},
   "outputs": [],
   "source": [
    "@Override\n",
    "public void onInit(int i) {\n",
    "    if (i == TextToSpeech.SUCCESS)\n",
    "        textToSpeech.setLanguage(Locale.ENGLISH);\n",
    "}"
   ]
  },
  {
   "cell_type": "markdown",
   "id": "4263dede-7dfd-40ed-bf0b-aa0d4864482d",
   "metadata": {},
   "source": [
    "Przyjmuje jeden argument typu `int` - domyślnie nazwany `i` - oznacza status. Sprawdzamy czy odczyt wykonał się prawidłowo - jeżeli tak to ustawiamy język."
   ]
  },
  {
   "cell_type": "markdown",
   "id": "52e72541-be75-4191-8513-419ad05eb28f",
   "metadata": {},
   "source": [
    "Przejdźmy do dodania klasy `Media` do projektu - będziemy odtwarzać dźwięk po każdym zakończonym ćwiczeniu. W pierwszym kroku w katalogu `res` utwórzmy katalog `raw` - jest to katalog do którego będziemy wrzucać wszystkie media. Dodajemy do niegoplik z dźwiękiem który chcemy odtwarzyć (wszystkie wykorzystane pliki w projekcie znajdują się w folderze **sourceCode** i odpowiednim podfolderze).\n",
    "\n",
    "Przejdźmy do klasy `ExerciseActivity` i dodajmy zmienną `MediaPlayer`"
   ]
  },
  {
   "cell_type": "code",
   "execution_count": null,
   "id": "8873ae98-e719-4710-80ec-29f786e9a5af",
   "metadata": {},
   "outputs": [],
   "source": [
    "private MediaPlayer player;"
   ]
  },
  {
   "cell_type": "markdown",
   "id": "0ce8959f-20e4-435c-94a0-b98a27cf074f",
   "metadata": {},
   "source": [
    "Przejdźmy do metody `onDestroy` i upewnijmy się że `MediaPlayer` zostanie odpowiednio zamknięty"
   ]
  },
  {
   "cell_type": "code",
   "execution_count": null,
   "id": "bf80cdc9-0b90-4c69-86d5-457a7a846137",
   "metadata": {},
   "outputs": [],
   "source": [
    "if (player != null)\n",
    "    player.stop();"
   ]
  },
  {
   "cell_type": "markdown",
   "id": "eb50c96d-c4fd-4084-8365-dace3d10f1b9",
   "metadata": {},
   "source": [
    "Dźwięk chcemy odtworzyć po zakończeniu ćwiczenia - zrobimy to więc na początku przerwy - przechodzimy do metody `setupProgressBar`"
   ]
  },
  {
   "cell_type": "code",
   "execution_count": null,
   "id": "f2778796-2f31-486a-ac10-842ec5806929",
   "metadata": {},
   "outputs": [],
   "source": [
    "...\n",
    "}else{\n",
    "\n",
    "    timerDuration = waitTimerDuration;\n",
    "    progressInterval = waitProgressInterval;\n",
    "    try {\n",
    "        player = MediaPlayer.create(this, R.raw.dingding);\n",
    "        player.setLooping(false);\n",
    "        player.start();\n",
    "    } catch (Exception e){\n",
    "        e.printStackTrace();\n",
    "    }\n",
    "..."
   ]
  },
  {
   "cell_type": "markdown",
   "id": "56335176-6a97-4ea0-b84d-7cce242620a1",
   "metadata": {},
   "source": [
    "Tworzymy nowy `MediaPlayer` za pomocą metody `create` - przyjmuje dwa argumenty\n",
    "- `constext` - każda aktywność jest swoim własnym kontekstem, więc wykorzystujemy `this`\n",
    "- zasób do odtworzenia\n",
    "\n",
    "Następnie blokujemy odtwarzanie w pętli i inicjujemy wywołując metodę `start`."
   ]
  },
  {
   "cell_type": "markdown",
   "id": "19bb6017-3401-41df-aef5-c38bb2059906",
   "metadata": {},
   "source": [
    "## **`RecyclerView`**"
   ]
  },
  {
   "cell_type": "markdown",
   "id": "acd9ba2c-edf6-4eff-ad45-c8db5a3cea6a",
   "metadata": {},
   "source": [
    "Ostatnim elementem będzie dodanie `RecyclerView` zawierający liczbę ćwiczeń - oznaczymy aktualnie wykonywane oraz wszystkie zakończone ćwiczenia.\n",
    "\n",
    "W pierwszym kroku dodajmy tło - w folderze `drawable` utwórzmy plik `item_circular_bg` i jako **root** podajmy `shape`\n",
    "\n",
    "```xml\n",
    "<?xml version=\"1.0\" encoding=\"utf-8\"?>\n",
    "<shape xmlns:android=\"http://schemas.android.com/apk/res/android\"\n",
    "    android:shape=\"oval\">\n",
    "\n",
    "    <solid android:color=\"@color/backgroundColor\"/>\n",
    "    <stroke android:width=\"1dp\"\n",
    "        android:color=\"@color/textColor\"/>\n",
    "\n",
    "</shape>\n",
    "```\n",
    "\n",
    "Kolejnym elementem będzie layout pojedynczego elementu `RecyclerView` - do folderu `layout` dodajmy plik `item_view_yoga_list`\n",
    "\n",
    "```xml\n",
    "<?xml version=\"1.0\" encoding=\"utf-8\"?>\n",
    "<TextView xmlns:android=\"http://schemas.android.com/apk/res/android\"\n",
    "    android:id=\"@+id/textViewItemRV\"\n",
    "    android:layout_width=\"20dp\"\n",
    "    android:layout_height=\"20dp\"\n",
    "    android:layout_margin=\"2dp\"\n",
    "    android:padding=\"2dp\"\n",
    "    android:gravity=\"center\"\n",
    "    android:textColor=\"@color/textColor\"\n",
    "    android:text=\"1\"\n",
    "    android:textSize=\"12sp\"\n",
    "    android:textStyle=\"bold\"\n",
    "    android:background=\"@drawable/item_circular_bg\">\n",
    "\n",
    "</TextView>\n",
    "```\n",
    "\n",
    "Jak widzimy jedynym elementem layoutu dla `RecyclerView` jest pole `TextView`.\n",
    "\n",
    "Przejdźmy do napisania adaptera"
   ]
  },
  {
   "cell_type": "code",
   "execution_count": null,
   "id": "59732472-804e-4813-ba51-61cf6505284f",
   "metadata": {},
   "outputs": [],
   "source": [
    "package pl.edu.uwr.pum.quickyogaappjava;\n",
    "\n",
    "import android.content.Context;\n",
    "import android.view.LayoutInflater;\n",
    "import android.view.View;\n",
    "import android.view.ViewGroup;\n",
    "import android.widget.TextView;\n",
    "\n",
    "import androidx.annotation.NonNull;\n",
    "import androidx.recyclerview.widget.RecyclerView;\n",
    "\n",
    "import java.util.ArrayList;\n",
    "\n",
    "public class YogaAdapter extends RecyclerView.Adapter<YogaAdapter.YogaViewHolder> {\n",
    "\n",
    "    private final ArrayList<YogaPose> yogaPoses;\n",
    "\n",
    "    public YogaAdapter(ArrayList<YogaPose> yogaPoses) {\n",
    "        this.yogaPoses = yogaPoses;\n",
    "    }\n",
    "\n",
    "    protected static class YogaViewHolder extends RecyclerView.ViewHolder {\n",
    "\n",
    "        private final TextView textView;\n",
    "\n",
    "        public YogaViewHolder(@NonNull View itemView) {\n",
    "            super(itemView);\n",
    "            textView = itemView.findViewById(R.id.textViewItemRV);\n",
    "        }\n",
    "\n",
    "        public void bind (YogaPose currentExercise){\n",
    "            textView.setText(String.valueOf(currentExercise.getId() + 1));\n",
    "        }\n",
    "    }\n",
    "\n",
    "    @NonNull\n",
    "    @Override\n",
    "    public YogaAdapter.YogaViewHolder onCreateViewHolder(@NonNull ViewGroup parent, int viewType) {\n",
    "        return new YogaViewHolder(\n",
    "                LayoutInflater.from(\n",
    "                        parent.getContext()).inflate(\n",
    "                        R.layout.item_view_yoga_list,\n",
    "                        parent,\n",
    "                        false));\n",
    "    }\n",
    "\n",
    "    @Override\n",
    "    public void onBindViewHolder(@NonNull YogaAdapter.YogaViewHolder holder, int position) {\n",
    "        YogaPose currentExercise = yogaPoses.get(position);\n",
    "        holder.bind(currentExercise);\n",
    "    }\n",
    "\n",
    "    @Override\n",
    "    public int getItemCount() {\n",
    "        return yogaPoses.size();\n",
    "    }\n",
    "}\n"
   ]
  },
  {
   "cell_type": "markdown",
   "id": "60e03b01-986d-4ad5-bd5a-4f168b051a60",
   "metadata": {},
   "source": [
    "Następnie w metodzie `onCreate` klasy `ExerciseActivity` zdefiniujmy nasz `RecyclerView`"
   ]
  },
  {
   "cell_type": "code",
   "execution_count": null,
   "id": "9616f38d-0e83-4a33-abac-9101e79b2d03",
   "metadata": {},
   "outputs": [],
   "source": [
    "...\n",
    "RecyclerView recyclerView = findViewById(R.id.recyclerView);\n",
    "recyclerView.setLayoutManager(\n",
    "        new LinearLayoutManager(\n",
    "                this,\n",
    "                LinearLayoutManager.HORIZONTAL,\n",
    "                false));\n",
    "YogaAdapter adapter = new YogaAdapter(yogaPosesList);\n",
    "recyclerView.setAdapter(adapter);\n",
    "..."
   ]
  },
  {
   "cell_type": "markdown",
   "id": "227c05e7-0d0c-40d0-8872-5ecc1278832c",
   "metadata": {},
   "source": [
    "Pozostaje nam zmiana wyglądu elementów dla oznaczenia aktualnie wykonywanego i zakończonych ćwiczeń - oraz dodanie odpowiedniej logiki do aplikacji. Do folderu `drawable` doodajmy plik `item_circular_selected.xml` w którym zdefiniujemy wygląd elementu listy dla aktualnie wykonywanego ćwiczenia\n",
    "\n",
    "```xml\n",
    "<?xml version=\"1.0\" encoding=\"utf-8\"?>\n",
    "<shape xmlns:android=\"http://schemas.android.com/apk/res/android\"\n",
    "    android:shape=\"oval\">\n",
    "\n",
    "    <solid android:color=\"@color/backgroundColor\"/>\n",
    "    <stroke android:width=\"1dp\"\n",
    "        android:color=\"#FFFFD4\"/>\n",
    "\n",
    "</shape>\n",
    "```\n",
    "\n",
    "Teraz dodajmy plik `item_circular_completed.xml` - definicja wyglądu reprezentującego zakończone ćwiczenie\n",
    "\n",
    "```xml\n",
    "<?xml version=\"1.0\" encoding=\"utf-8\"?>\n",
    "<shape xmlns:android=\"http://schemas.android.com/apk/res/android\"\n",
    "    android:shape=\"oval\">\n",
    "\n",
    "    <solid android:color=\"@color/textColor\"/>\n",
    "\n",
    "</shape>\n",
    "```\n",
    "\n",
    "Przechodzimy do `YogaAdapter` i zmodyfikujmy metodę `bind` "
   ]
  },
  {
   "cell_type": "code",
   "execution_count": null,
   "id": "527d2ab0-0b73-4068-8c28-e883cdc6bd96",
   "metadata": {},
   "outputs": [],
   "source": [
    "public void bind (YogaPose currentExercise){\n",
    "    textView.setText(String.valueOf(currentExercise.getId() + 1));\n",
    "    if (currentExercise.isSelected())\n",
    "        textView.setBackground(ContextCompat.getDrawable(context, R.drawable.item_circular_selected));\n",
    "    else if (currentExercise.isCompleted()) {\n",
    "        textView.setBackground(ContextCompat.getDrawable(context, R.drawable.item_circular_completed));\n",
    "        textView.setTextColor(Color.parseColor(\"#000000\"));\n",
    "    } else{\n",
    "        textView.setBackground(ContextCompat.getDrawable(context, R.drawable.item_circular_bg));\n",
    "        textView.setTextColor(ContextCompat.getColor(context, R.color.textColor));\n",
    "    }\n",
    "}"
   ]
  },
  {
   "cell_type": "markdown",
   "id": "efbc426c-0cb6-4477-8aaf-12569878909b",
   "metadata": {},
   "source": [
    "Przejdźmy do `ExerciseActivity` i zmodyfikujmy metodę `onFinish`"
   ]
  },
  {
   "cell_type": "code",
   "execution_count": null,
   "id": "4df560fd-0001-48de-84b0-a518e45c7621",
   "metadata": {},
   "outputs": [],
   "source": [
    "if (isYoga){\n",
    "    yogaPosesList.get(exercisePosition).setSelected(false);\n",
    "    yogaPosesList.get(exercisePosition).setCompleted(true);\n",
    "    adapter.notifyItemChanged(exercisePosition);\n",
    "    exercisePosition++;\n",
    "}"
   ]
  },
  {
   "cell_type": "markdown",
   "id": "0cb18ad4-c672-41c6-b16c-ce064066d5db",
   "metadata": {},
   "source": [
    "Następnie w metodzie `setupProgressBar` i ustawiamy `isSelected` aktualnego ćwiczenia na `true`"
   ]
  },
  {
   "cell_type": "code",
   "execution_count": null,
   "id": "8e856b13-9974-42e0-a675-7dd1370dfbac",
   "metadata": {},
   "outputs": [],
   "source": [
    "...\n",
    "if (isYoga){\n",
    "    timerDuration = yogaTimerDuration;\n",
    "    progressInterval = yogaProgressInterval;\n",
    "    speakPoseName(yogaPosesList.get(exercisePosition).getName());\n",
    "    progressBar.setMax(yogaProgressInterval);\n",
    "    textViewExerciseName.setText(yogaPosesList.get(exercisePosition).getName());\n",
    "    imageView.setVisibility(View.VISIBLE);\n",
    "    yogaPosesList.get(exercisePosition).setSelected(true);\n",
    "    adapter.notifyItemChanged(exercisePosition);\n",
    "    ..."
   ]
  },
  {
   "cell_type": "markdown",
   "id": "e8fb1f44-e04a-4708-bb9f-a9671c75f74f",
   "metadata": {},
   "source": [
    "Możemy przetestować aplikację"
   ]
  },
  {
   "cell_type": "markdown",
   "id": "2b4dc17f-73dd-4e1c-a9a4-fb6f4814d69f",
   "metadata": {},
   "source": [
    "<img src=\"https://media3.giphy.com/media/vmZ6b9CGnFihvmYrGT/giphy.gif?cid=790b7611ec174e1283189e1ed95201abaf1700ead6582144&rid=giphy.gif&ct=g\" width=\"200\" />"
   ]
  },
  {
   "cell_type": "code",
   "execution_count": null,
   "id": "8fd9481e-bfbd-4451-a74e-431e9d5206d1",
   "metadata": {},
   "outputs": [],
   "source": []
  }
 ],
 "metadata": {
  "kernelspec": {
   "display_name": "Java",
   "language": "java",
   "name": "java"
  },
  "language_info": {
   "codemirror_mode": "java",
   "file_extension": ".jshell",
   "mimetype": "text/x-java-source",
   "name": "Java",
   "pygments_lexer": "java",
   "version": "17+35-2724"
  }
 },
 "nbformat": 4,
 "nbformat_minor": 5
}
