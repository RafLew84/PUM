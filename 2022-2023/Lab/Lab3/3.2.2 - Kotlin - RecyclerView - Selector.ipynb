{
 "cells": [
  {
   "cell_type": "markdown",
   "id": "d4cadeed-49be-4076-b93d-449ba0fbd093",
   "metadata": {},
   "source": [
    "# 3.2 RecyclerView - Selection"
   ]
  },
  {
   "cell_type": "markdown",
   "id": "6afee1a3-25ef-48ee-8040-c82f81fc2f24",
   "metadata": {},
   "source": [
    "<img src=\"https://media1.giphy.com/media/7VOdnpyhosbBDIQPR0/giphy.gif?cid=790b76117ce18b657fd9003f6e29b87c453b5bfad7667dad&rid=giphy.gif&ct=g\" width=\"200\" />"
   ]
  },
  {
   "cell_type": "markdown",
   "id": "50c1e840-4a2a-479d-a4c4-88d59e1ec04a",
   "metadata": {},
   "source": [
    "## **Implementacja `RecyclerView`**\n",
    "\n",
    "Naszą aplikację rozpoczniemy od utworzenia layoutu `main_activity.xml`"
   ]
  },
  {
   "cell_type": "code",
   "execution_count": null,
   "id": "8e14a296-16a2-4f7d-91b2-79e5f97e6627",
   "metadata": {},
   "outputs": [],
   "source": [
    "<?xml version=\"1.0\" encoding=\"utf-8\"?>\n",
    "<LinearLayout xmlns:android=\"http://schemas.android.com/apk/res/android\"\n",
    "    xmlns:app=\"http://schemas.android.com/apk/res-auto\"\n",
    "    xmlns:tools=\"http://schemas.android.com/tools\"\n",
    "    android:layout_width=\"match_parent\"\n",
    "    android:layout_height=\"wrap_content\"\n",
    "    tools:context=\".MainActivity\">\n",
    "\n",
    "    <androidx.recyclerview.widget.RecyclerView\n",
    "        android:id=\"@+id/recyclerView\"\n",
    "        android:layout_width=\"match_parent\"\n",
    "        android:layout_height=\"wrap_content\" />\n",
    "\n",
    "</LinearLayout>"
   ]
  },
  {
   "cell_type": "markdown",
   "id": "ec979c29-87ee-4842-8f1c-ed97fbe214cb",
   "metadata": {},
   "source": [
    "Następnie dodajmy plik `rv_item.xml`, który będzie zawierał zdefiniowany layout pojedynczego elementu `RecyclerView`"
   ]
  },
  {
   "cell_type": "markdown",
   "id": "b57b7f60-c6c6-418c-b819-7bd5240362ef",
   "metadata": {},
   "source": [
    "<?xml version=\"1.0\" encoding=\"utf-8\"?>\n",
    "<LinearLayout xmlns:android=\"http://schemas.android.com/apk/res/android\"\n",
    "    android:layout_width=\"match_parent\"\n",
    "    android:orientation=\"horizontal\"\n",
    "    android:layout_height=\"wrap_content\">\n",
    "\n",
    "    <TextView\n",
    "        android:id=\"@+id/numberText\"\n",
    "        android:layout_width=\"match_parent\"\n",
    "        android:layout_height=\"wrap_content\"\n",
    "        android:text=\"default text\"\n",
    "        android:textSize=\"24sp\"\n",
    "        android:layout_gravity=\"center\"\n",
    "        android:textAlignment=\"center\"\n",
    "        android:layout_margin=\"16dp\"\n",
    "        android:background=\"@drawable/item_background\"\n",
    "        android:textStyle=\"bold\"/>\n",
    "\n",
    "</LinearLayout>"
   ]
  },
  {
   "cell_type": "markdown",
   "id": "13153701-9640-42fe-be4c-1ac4898daae4",
   "metadata": {},
   "source": [
    "Będziemy posiadali tylko jedno pole `TextView`, w który wyświetlimy liczbę. Przejdźmy do `MainActivitry` i dodajmy funkcję zwracającą listę elementów, które będziemy wyświetlać."
   ]
  },
  {
   "cell_type": "code",
   "execution_count": null,
   "id": "a531f89b-41d9-4ab1-8df4-27e89665a948",
   "metadata": {},
   "outputs": [],
   "source": [
    "    private fun createList(): List<Int>{\n",
    "        return (0..50).map { it }\n",
    "    }"
   ]
  },
  {
   "cell_type": "markdown",
   "id": "a4afd077-e385-4153-b69d-a93882fd322e",
   "metadata": {},
   "source": [
    "Następnie zaimplementujmy klasę `NumberListAdapter`"
   ]
  },
  {
   "cell_type": "code",
   "execution_count": null,
   "id": "b0c86c13-26a2-460c-9e30-d9afaa1c281f",
   "metadata": {},
   "outputs": [],
   "source": [
    "class NumberListAdapter(\n",
    "    private val numberList: List<Int>,\n",
    ") : RecyclerView.Adapter<NumberListAdapter.NumberListViewHolder>() {\n",
    "\n",
    "    override fun onCreateViewHolder(\n",
    "        parent: ViewGroup,\n",
    "        viewType: Int\n",
    "    ): NumberListViewHolder {\n",
    "        return NumberListViewHolder(\n",
    "            LayoutInflater.from(parent.context).inflate(\n",
    "                R.layout.rv_item,\n",
    "                parent,\n",
    "                false\n",
    "            )\n",
    "        )\n",
    "    }\n",
    "\n",
    "    override fun onBindViewHolder(holder: NumberListViewHolder, position: Int) {\n",
    "        holder.bind(numberList[position])\n",
    "    }\n",
    "\n",
    "    override fun getItemCount() = numberList.size\n",
    "\n",
    "    class NumberListViewHolder(itemView: View) : RecyclerView.ViewHolder(itemView) {\n",
    "        val number: TextView = itemView.findViewById(R.id.numberText)\n",
    "\n",
    "        fun bind(value: Int) {\n",
    "            number.text = value.toString()\n",
    "        }\n",
    "    }\n",
    "}"
   ]
  },
  {
   "cell_type": "markdown",
   "id": "734dd255-cc1c-4f54-98d0-ab8e15d8cf73",
   "metadata": {},
   "source": [
    "Tym razem nasz `Adapter` nie przyjmuje `Context` w konstruktorze. Do instancji `Context`, w metodzie `onCreateViewHolder` odwołujemy się przez `parent.parent`. W klasie `ViewHolder` mamy funkcję `bind` łączącą dane z odpowiednimi polami layoutu, jest ona następnie wywołana w metodzie `onBindViewHolder`."
   ]
  },
  {
   "cell_type": "markdown",
   "id": "167adbd4-bac3-460a-898a-f2757f050ea6",
   "metadata": {
    "tags": []
   },
   "source": [
    "## **Implementacja `Selector`**\n",
    "\n",
    "W pierwszym kroku przejdźmy do pliku `build.gradle` i w bloku `dependencies` dodajmy wpis"
   ]
  },
  {
   "cell_type": "code",
   "execution_count": null,
   "id": "ebec02a1-a385-461a-b77b-337a05b409ed",
   "metadata": {},
   "outputs": [],
   "source": [
    "    implementation 'androidx.recyclerview:recyclerview-selection:1.1.0'"
   ]
  },
  {
   "cell_type": "markdown",
   "id": "e4d4b61f-d1e4-4b20-8ae0-1007a21afdc2",
   "metadata": {},
   "source": [
    "Po zmodyfikowaniu skryptu `gradle` musimy wykonać synchronizację (**Sync Project with Gradle Files**). Chcemy uzyskać możliwość zaznaczania elementów i zmieniania ich właściwości. W pierwszym kroku musimy zdecydować się na typ klucza który będziemy wykorzystywać:\n",
    "- `String` - wykorzystywany gdy mamy identyfikator `String`\n",
    "- `Long` - wykorzystywamy gdy mamy identyfikator numeryczny\n",
    "- `Parcelable` - gdy wykorzystujemy jako klucz np. `Uri`\n",
    "W naszym przypadku wykorzystamy `Long` i właściwość `position` naszego `RecyclerView`.\n",
    "\n",
    "Przechodzimy do klasy `NumberListAdapter`, w pierwszym kroku musimy ustawić `hasStableIds` - zmiana na `true` oznacza że każdy element może być reprezentowany przez unikalny klucz. Do konstruktora dodajemy"
   ]
  },
  {
   "cell_type": "code",
   "execution_count": null,
   "id": "0d2b82ce-575b-410d-a451-231d725df52a",
   "metadata": {},
   "outputs": [],
   "source": [
    "    init {\n",
    "        setHasStableIds(true)\n",
    "    }"
   ]
  },
  {
   "cell_type": "markdown",
   "id": "ecaaf387-bbe9-4d34-9a6a-15b518530dcf",
   "metadata": {},
   "source": [
    "Następnie chcemy wykorzystać właściwość `position` jako identyfikator, w tym celu nadpisujemy metodę `getItemId`"
   ]
  },
  {
   "cell_type": "code",
   "execution_count": null,
   "id": "8ff82f57-0d5d-4f96-a71f-9fa6ab4de6dc",
   "metadata": {},
   "outputs": [],
   "source": [
    "    override fun getItemId(position: Int): Long = position.toLong()"
   ]
  },
  {
   "cell_type": "markdown",
   "id": "296afcb8-6d49-498f-a1a6-037961a8cbc6",
   "metadata": {},
   "source": [
    "Kolejnym krokiem jest implementacja klasy `KeyProvider`, tutaj skorzystamy z domyślnej implementacji `StableIdKeyProvider`. Następnie musimy dostarczyć implementację `ItemDetailsLookup` - klasa ta zawiera informacje o zaznaczonych przez użytkownika elementach. Dodajmy nowy plik do projektu - `NumberItemDetailsLookup.kt`.\n",
    "\n",
    "Klasa `NumberItemDetailsLookup` musi rozszerzać klasę `ItemDetailsLookup`"
   ]
  },
  {
   "cell_type": "code",
   "execution_count": null,
   "id": "5ca4651c-401e-4683-9f7a-1a9ad87e8d91",
   "metadata": {},
   "outputs": [],
   "source": [
    "class NumberItemDetailsLookup(private val recyclerView: RecyclerView) :\n",
    "    ItemDetailsLookup<Long>()"
   ]
  },
  {
   "cell_type": "markdown",
   "id": "855b737a-9617-4069-9613-1825ad934eec",
   "metadata": {},
   "source": [
    "W klasie będziemy potrzebować pola `RecyclerView` reprezentujący naszą listę. Samo zaznaczanie w tej bibliotece bazuje na `MotionEvent` który musimy zmapować na nasz `ViewHolder`. W tym celu musimy naspisać metodę `getItemDetails`"
   ]
  },
  {
   "cell_type": "code",
   "execution_count": null,
   "id": "9eebcf25-f25d-46de-9fd2-49e28e613e4b",
   "metadata": {},
   "outputs": [],
   "source": [
    "    override fun getItemDetails(event: MotionEvent): ItemDetails<Long>?{}"
   ]
  },
  {
   "cell_type": "markdown",
   "id": "773d404e-b7f0-44a2-bd23-9e081b8ee27d",
   "metadata": {},
   "source": [
    "W pierwszym kroku potrzebujemy dostać się do naszego `ViewHolder` - zapiszemy go w obiekcie `View`. Możemy się do niego dostać wywołując metodę `findChildViewHolder` z klasy `RecyclerView`"
   ]
  },
  {
   "cell_type": "code",
   "execution_count": null,
   "id": "75a245bf-ab57-4dcf-9232-5a95d725db09",
   "metadata": {},
   "outputs": [],
   "source": [
    "        val view = recyclerView.findChildViewUnder(event.x, event.y)"
   ]
  },
  {
   "cell_type": "markdown",
   "id": "80bb7f46-8599-4a59-b464-fb2bc6105b72",
   "metadata": {},
   "source": [
    "Metoda ta przyjmuje dwa argumenty\n",
    "- `x` pozycję horyzontalną wyrażoną w pikselach\n",
    "- `y` pozycję wertykalną wyrażoną w pikselach\n",
    "\n",
    "Przekazując instancję `MotionEvent` z wywołanymi metodami `x` i `y` możemy ustalić który element został zaznaczony. Następnie sprawdzamy czy udało się zwrócić `ViewHolder` w warunku `if`, jeżeli wszystko poszło pomyślnie metoda zwraca obiekt typu `ItemDetails`, w przeciwnym razie zwracamy `null`"
   ]
  },
  {
   "cell_type": "code",
   "execution_count": null,
   "id": "7e4807f1-26ed-406f-a8c4-735c5037dabb",
   "metadata": {},
   "outputs": [],
   "source": [
    "return (recyclerView.getChildViewHolder(view) as NumberListAdapter.NumberListViewHolder).getItemDetails()"
   ]
  },
  {
   "cell_type": "markdown",
   "id": "32dc4f79-8d11-4a24-92fe-1bdc1a723436",
   "metadata": {},
   "source": [
    "Obiekt `ItemDetails` musi zawierać dwie informacje:\n",
    "- `position` - pozycję elementu `RecyclerView`\n",
    "- `selectionId` - unikalny identyfikator elementu `RecyclerView`\n",
    "\n",
    "Aby otrzymać te elementy do klasy `NumberListAdapter.NumberViewHolder` dodajemy metodę `getItemDetails` zwracającą `ItemDetail`."
   ]
  },
  {
   "cell_type": "code",
   "execution_count": null,
   "id": "65fdcec1-57ca-41cc-9d23-27226ed7378f",
   "metadata": {},
   "outputs": [],
   "source": [
    "        fun getItemDetails(): ItemDetailsLookup.ItemDetails<Long> =\n",
    "            object : ItemDetailsLookup.ItemDetails<Long>() {\n",
    "                override fun getPosition(): Int = adapterPosition\n",
    "                override fun getSelectionKey(): Long = itemId\n",
    "            }"
   ]
  },
  {
   "cell_type": "markdown",
   "id": "90243a24-e232-49e0-9c28-5d522cea29af",
   "metadata": {},
   "source": [
    "Zwracany obiekt (anonimowy) musi implementować dwie metody. Aktualną pozycję wyciągamy przez wyołanie metody `adapterPosition` - metoda zwraca `Adapter` który jako ostatni był powiązany z tym `ViewHolder` lub `null` jeżeli takiego powiązanie nie było. W metodzie `getSelectionKey` zwracamy wywołanie metody `itemId` klasy `RecyclerView`.\n",
    "\n",
    "Kolejnym krokiem będzie zmienienie koloru tła zaznaczonego elementu. Możemy to zdefiniować w pliku `xml`. Do folderu **res -> drawable** dodajemy nowy plik **Drawable Resource File** (`item_background.xml`), jako **root element** wybieramy `selector`. Chcemy zdefiniować dwa kolory i ustawić jeden z nich dla stanu aktywnego"
   ]
  },
  {
   "cell_type": "code",
   "execution_count": null,
   "id": "9f3e9c12-ac2a-49de-8fef-ef8870ca1bbf",
   "metadata": {},
   "outputs": [],
   "source": [
    "<?xml version=\"1.0\" encoding=\"utf-8\"?>\n",
    "<selector xmlns:android=\"http://schemas.android.com/apk/res/android\">\n",
    "    <item android:drawable=\"@android:color/holo_blue_bright\" android:state_activated=\"true\" />\n",
    "    <item android:drawable=\"@android:color/white\" />\n",
    "</selector>"
   ]
  },
  {
   "cell_type": "markdown",
   "id": "619e2ec2-02e0-4b87-a215-632e7edad6d6",
   "metadata": {},
   "source": [
    "Kolor stanu aktywnego ustawiamy przez zmianę domyślnej wartości `android:state_activated` na `true`. W ten sposób zmianę tła będziemy mieć połączoną z właściwością `isSelected` elementu. \n",
    "\n",
    "Żeby z niego skorzystać potrzebujemy jeszcze jednego elementu - `SelectionTracker`. W klasie `NumberListAdapter` dodajemy odpowiednie pole z `setterem`"
   ]
  },
  {
   "cell_type": "code",
   "execution_count": null,
   "id": "513dad7b-de42-4a0a-bec9-4ca4be4895e4",
   "metadata": {},
   "outputs": [],
   "source": [
    "    lateinit var selectionTracker: SelectionTracker<Long>"
   ]
  },
  {
   "cell_type": "markdown",
   "id": "0339d33c-1c97-4d64-b279-8fef16510d09",
   "metadata": {},
   "source": [
    "`SelectionTracker` umożliwia śledzenie wszystkich elementów zaznaczonych przez użytkownika i pozwala sprawdzić czy dany element jest zaznaczony czy nie. Zmodyfikujmy metodę `bind` klasy `ViewHolder` aby umożliwić śledzenie - robimy to poprzez ustawienie pola `isActivated` na `itemView`"
   ]
  },
  {
   "cell_type": "code",
   "execution_count": null,
   "id": "82fe4e5f-e80b-4026-b1ac-8f24c0f32757",
   "metadata": {},
   "outputs": [],
   "source": [
    "        fun bind(value: Int, isActivated: Boolean = false) {\n",
    "            number.text = value.toString()\n",
    "            itemView.isActivated = isActivated\n",
    "        }"
   ]
  },
  {
   "cell_type": "markdown",
   "id": "7f35bdf5-d230-498e-a876-fb22e2f9dcad",
   "metadata": {},
   "source": [
    "Teraz musimy zmodyfikować wywołanie w metodzie `onBindViewHolder`"
   ]
  },
  {
   "cell_type": "code",
   "execution_count": null,
   "id": "fffd9372-e9c5-44b2-a08a-b5fab8ff039d",
   "metadata": {},
   "outputs": [],
   "source": [
    "    override fun onBindViewHolder(holder: NumberListViewHolder, position: Int) {\n",
    "        holder.bind(numberList[position], selectionTracker.isSelected(position.toLong()))\n",
    "    }"
   ]
  },
  {
   "cell_type": "markdown",
   "id": "85b80f68-05b5-4aaf-8913-628e7da8648f",
   "metadata": {},
   "source": [
    "Na instancji `SelectionTracker` wywołujemy metodę `isSelected` sptawdzającą czy element o zadanym `id` jest zaznaczony przez użytkownika. Jako `id` przekazujemy `position` zrzutowany na `long`.\n",
    "\n",
    "Ostatnim krokiem jest utworzenie `SelectionTracker` w klasie `MainActivity` i połączenie go z naszym `RecyclerView`. "
   ]
  },
  {
   "cell_type": "code",
   "execution_count": null,
   "id": "327b236e-ab30-4d4c-94ac-83f82ebcfef8",
   "metadata": {},
   "outputs": [],
   "source": [
    "        recyclerView.adapter = numberListAdapter\n",
    "        val selectionTracker = SelectionTracker.Builder(\n",
    "            \"numberSelection\",\n",
    "            recyclerView,\n",
    "            StableIdKeyProvider(recyclerView),\n",
    "            NumberItemDetailsLookup(recyclerView),\n",
    "            StorageStrategy.createLongStorage()\n",
    "        ).withSelectionPredicate(\n",
    "            SelectionPredicates.createSelectAnything()\n",
    "        ).build()\n",
    "        numberListAdapter.selectionTracker = selectionTracker"
   ]
  },
  {
   "cell_type": "markdown",
   "id": "492eb73f-7c73-4aa8-aa4e-f7630992e036",
   "metadata": {},
   "source": [
    "Tutaj istotna jest kolejność wykonania\n",
    "- tworzymy `RecyclerView`\n",
    "- powiązujemy `Adapter` z `RecyclerView`\n",
    "- powiązujemy `SelectionTracker` z `RecyclerView`\n",
    "\n",
    "Aby utworzyć `SelectionTracker` wykorzystujemy `Builder`"
   ]
  },
  {
   "cell_type": "code",
   "execution_count": null,
   "id": "e8a91b5f-6bc6-491e-9224-227d4e4e52e4",
   "metadata": {},
   "outputs": [],
   "source": [
    "val selectionTracker = SelectionTracker.Builder()"
   ]
  },
  {
   "cell_type": "markdown",
   "id": "e212a286-4490-4aab-af3f-fa157f456d7e",
   "metadata": {},
   "source": [
    "Przyjmuje on szereg argumentów\n",
    "- `selectionId` - `String` jednoznacznie identyfikujący `SelectionTracker` dla danej aktywności\n",
    "- `recyclerView` - instancja `RecyclerView` na którym wywołujemy `SelectionTracker`\n",
    "- `keyProvider` - źródło kluczy po których rozróżniamy elementy - tutaj wykorzystaliśmy domyślną implementację klasy `StableIdKeyProvider`\n",
    "- `detailsLookup` - źródło informacji o elementach `Recyclerview` (pozycja elementu, unikalny identyfikator elementu)\n",
    "- `storage` - strategia przechowywania stanu - możemy przechować informację o tym, które elementy są aktualnie zaznaczone\n",
    "\n",
    "Następnie wywołujemy funkcję `withSelectionPredicate`, która pozwala nam określić sposób w jaki stosujemy zaznaczenie (możemy określić ograniczenia). Tutaj wywołana jest metoda `createSelectionAnything` nie posiadająca żadnych ograniczeń - jednocześnie zezwala na zaznaczenie wielu elementów.\n"
   ]
  },
  {
   "cell_type": "markdown",
   "id": "37962159-9799-41c6-ba51-a3bb6f943408",
   "metadata": {},
   "source": [
    "Na tym etapie możemy przetestować aplikację."
   ]
  },
  {
   "cell_type": "markdown",
   "id": "f75f5b73-5d52-4ebc-8794-f531098d9550",
   "metadata": {},
   "source": [
    "<img src=\"https://media1.giphy.com/media/7VOdnpyhosbBDIQPR0/giphy.gif?cid=790b76117ce18b657fd9003f6e29b87c453b5bfad7667dad&rid=giphy.gif&ct=g\" width=\"200\" />"
   ]
  },
  {
   "cell_type": "code",
   "execution_count": null,
   "id": "0318ef09-c63e-4f6f-996b-7d95c17b6e51",
   "metadata": {},
   "outputs": [],
   "source": []
  }
 ],
 "metadata": {
  "kernelspec": {
   "display_name": "Kotlin",
   "language": "kotlin",
   "name": "kotlin"
  },
  "language_info": {
   "codemirror_mode": "text/x-kotlin",
   "file_extension": ".kt",
   "mimetype": "text/x-kotlin",
   "name": "kotlin",
   "nbconvert_exporter": "",
   "pygments_lexer": "kotlin",
   "version": "1.6.20-dev-6372"
  }
 },
 "nbformat": 4,
 "nbformat_minor": 5
}
