{
 "cells": [
  {
   "cell_type": "markdown",
   "id": "587e2a5e-4e82-4b30-93de-b5688785f945",
   "metadata": {},
   "source": [
    "# 3.3 WFiApp"
   ]
  },
  {
   "cell_type": "markdown",
   "id": "e84b550f-836e-414c-a0a1-f8487eece185",
   "metadata": {},
   "source": [
    "Aplikacja będzie wykorzystywać `RecyclerView`, gdzie każdym elementem na liście będzie `CardView`. Dodamy również podstawową obsługę gestów oraz wykorzystamy `Intent` aby otworzyć nową aktywność w której zaprezentowany będzie bardziej szczegółowy opis wybranego elementu listy."
   ]
  },
  {
   "cell_type": "markdown",
   "id": "c38a9d03-77a1-48dd-8d72-057d42b316b7",
   "metadata": {},
   "source": [
    "## **Tworzenie layoutów**\n",
    "\n",
    "Rozpocznijmy od utworzenia layoutu dla `MainActivity`. Naszym głównym elementem będzie `RelativeLayout`\n",
    "\n",
    "```xml\n",
    "<RelativeLayout xmlns:android=\"http://schemas.android.com/apk/res/android\"\n",
    "    xmlns:tools=\"http://schemas.android.com/tools\"\n",
    "    android:layout_width=\"match_parent\"\n",
    "    android:layout_height=\"match_parent\"\n",
    "    android:paddingBottom=\"@dimen/activity_vertical_margin\"\n",
    "    android:paddingLeft=\"@dimen/activity_horizontal_margin\"\n",
    "    android:paddingRight=\"@dimen/activity_horizontal_margin\"\n",
    "    android:paddingTop=\"@dimen/activity_vertical_margin\"\n",
    "    android:background=\"#1111\"\n",
    "    tools:context=\".MainActivity\">\n",
    "```\n",
    "\n",
    "Do katalogu **values** dodajemy plik `dimens.xml` w którym możemy przechowywać stałe wartości liczbowe\n",
    "\n",
    "```xml\n",
    "<?xml version=\"1.0\" encoding=\"utf-8\"?>\n",
    "<resources>\n",
    "    <dimen name=\"activity_horizontal_margin\">16dp</dimen>\n",
    "    <dimen name=\"activity_vertical_margin\">16dp</dimen>\n",
    "</resources>\n",
    "```\n",
    "\n",
    "Następnie dodajemy `RecyclerView`\n",
    "\n",
    "```xml\n",
    "    <androidx.recyclerview.widget.RecyclerView\n",
    "        android:id=\"@+id/recyclerView\"\n",
    "        android:scrollbars=\"vertical\"\n",
    "        android:layout_width=\"match_parent\"\n",
    "        android:layout_height=\"match_parent\" />\n",
    "```\n",
    "\n",
    "Ostatnim elementem będzie `FloatingActionButton (FAB)`\n",
    "\n",
    "```xml\n",
    "    <com.google.android.material.floatingactionbutton.FloatingActionButton\n",
    "        android:layout_width=\"wrap_content\"\n",
    "        android:layout_height=\"wrap_content\"\n",
    "        android:layout_alignParentBottom=\"true\"\n",
    "        android:layout_alignParentEnd=\"true\"\n",
    "        android:layout_margin=\"@dimen/activity_horizontal_margin\"\n",
    "        android:tint=\"@android:color/white\"\n",
    "        android:contentDescription=\"@string/fab_desc\" />\n",
    "```\n",
    "\n",
    "Tutaj zalecanym jest podanie `contentDescription`, którego tekst będziemy przechowywać w pliku `strings.xml` w katalogu **values**.\n",
    "\n",
    "```xml\n",
    "<resources>\n",
    "    <string name=\"app_name\">WFiAppKotlin</string>\n",
    "    <string name=\"fab_desc\">refresh</string>\n",
    "</resources>\n",
    "```\n",
    "\n",
    "Chcemy jeszcze utworzyć ikonę dla naszego `FAB`, w tym celu na katalogu **drawable** wybieramy **New -> Image Asset**\n",
    "\n",
    "- jako **Icon Type** podajemy **Action Bar and Tab Icons**\n",
    "- jako nazwę wpisuję `ic_reset`\n",
    "- jako **Clip Art** wybieram **refresh**\n",
    "- **Theme** pozostawiam jako **HOLO_LIGHT**\n",
    "\n",
    "Po zatwierdzeniu, w folderze `drawable` powinien zostać utworzony folder `ic_reset` ze zdefiniowaną ikoną. Możemy się do niej odnieść podobnie jak do pozostałych elementów - podając `@<nazwa_folderu>/<nazwa_pliku>` - `\"@drawable/ic_reset\"`. Teraz dodaję ikonę do `FAB`.\n",
    "\n",
    "```xml\n",
    "    <com.google.android.material.floatingactionbutton.FloatingActionButton\n",
    "        android:layout_width=\"wrap_content\"\n",
    "        android:layout_height=\"wrap_content\"\n",
    "        android:layout_alignParentBottom=\"true\"\n",
    "        android:layout_alignParentEnd=\"true\"\n",
    "        android:layout_margin=\"@dimen/activity_horizontal_margin\"\n",
    "        android:src=\"@drawable/ic_reset\"\n",
    "        android:tint=\"@android:color/white\"\n",
    "        android:contentDescription=\"@string/fab_desc\" />\n",
    "```\n",
    "\n",
    "Przechodzimy do utworzenia `DetailActivity`. Z menu kontekstowego otwartego na nazwie pakietu wybieram **New -> Activity -> Empty Activity**. Do manifestu dodaję informację o hierarchii\n",
    "\n",
    "```xml\n",
    "        <activity\n",
    "            android:name=\".DetailActivity\"\n",
    "            android:parentActivityName=\".MainActivity\"\n",
    "            android:label=\"Detail Activity\"\n",
    "            android:exported=\"false\" />\n",
    "```\n",
    "\n",
    "Przejdźmy do zdefiniowania layoutu. Naszym głównym elementem będzie `ScrollView` - w przypadku gdy zamieszczony tekst (lub inne elementy) będą przekraczać rozmiar ekranu będziemy mieć możliwość przewijania.\n",
    "\n",
    "```xml\n",
    "<?xml version=\"1.0\" encoding=\"utf-8\"?>\n",
    "<ScrollView xmlns:android=\"http://schemas.android.com/apk/res/android\"\n",
    "    android:layout_width=\"match_parent\"\n",
    "    android:layout_height=\"match_parent\"> \n",
    "```\n",
    "\n",
    "Wewnątrz umieścimy `RelativeLayout`\n",
    "\n",
    "```xml\n",
    "    <RelativeLayout xmlns:tools=\"http://schemas.android.com/tools\"\n",
    "        android:layout_width=\"match_parent\"\n",
    "        android:layout_height=\"wrap_content\"\n",
    "        tools:context=\".DetailActivity\">\n",
    "```\n",
    "\n",
    "Pierwszym elementem będzie `ImageView` w którym będziemy wyświetlać grafiki naszych wydziałowych instytutów.\n",
    "\n",
    "```xml\n",
    "        <ImageView\n",
    "            android:id=\"@+id/instituteImageDetail\"\n",
    "            android:layout_width=\"match_parent\"\n",
    "            android:layout_height=\"wrap_content\"\n",
    "            android:adjustViewBounds=\"true\"\n",
    "            android:contentDescription=\"@string/iv_desc\" />\n",
    "```\n",
    "\n",
    "Do `strings.xml` dodaję `contentDescription`\n",
    "\n",
    "```xml\n",
    "<string name=\"iv_desc\">image of the institute</string>\n",
    "```\n",
    "\n",
    "Następnie dodajemy trzy `TextView` które będą wyświetlały dodatkowe informacje w aplikacji - nazwę instytutu (w obszarze `ImageView`), nazwę uniwersytetu oraz opis.\n",
    "\n",
    "```xml\n",
    "        <TextView\n",
    "            android:id=\"@+id/titleDetail\"\n",
    "            style=\"@style/InstituteDetailTitle\"\n",
    "            android:layout_width=\"wrap_content\"\n",
    "            android:layout_height=\"wrap_content\"\n",
    "            android:layout_alignBottom=\"@id/instituteImageDetail\"\n",
    "            android:padding=\"@dimen/activity_horizontal_margin\"\n",
    "            android:text=\"@string/title_placeholder\"\n",
    "            android:theme=\"@style/ThemeOverlay.AppCompat.Dark\" />\n",
    "\n",
    "        <TextView\n",
    "            android:id=\"@+id/universityTitleDetail\"\n",
    "            style=\"@style/InstituteDetailText\"\n",
    "            android:layout_width=\"wrap_content\"\n",
    "            android:layout_height=\"wrap_content\"\n",
    "            android:layout_below=\"@id/instituteImageDetail\"\n",
    "            android:padding=\"@dimen/activity_horizontal_margin\"\n",
    "            android:text=\"@string/institute_placeholder\"\n",
    "            android:textColor=\"?android:textColorSecondary\" />\n",
    "\n",
    "        <TextView\n",
    "            android:id=\"@+id/genericTextDetail\"\n",
    "            style=\"@style/InstituteDetailText\"\n",
    "            android:layout_width=\"wrap_content\"\n",
    "            android:layout_height=\"wrap_content\"\n",
    "            android:layout_below=\"@id/newsTitleDetail\"\n",
    "            android:padding=\"@dimen/activity_horizontal_margin\"\n",
    "            android:text=\"@string/subtitle_detail_text\" />\n",
    "```\n",
    "\n",
    "Do `strings.xml` dodajemy\n",
    "\n",
    "```xml\n",
    "    <string name=\"title_placeholder\">University of Wroclaw</string>\n",
    "    <string name=\"institute_placeholder\">institute</string>\n",
    "    <string name=\"subtitle_detail_text\">Lorem ipsum dolor sit amet, consectetur adipiscing elit. Praesent ultrices congue rutrum. Phasellus elementum ipsum ac convallis aliquam. Suspendisse eleifend eros a enim faucibus mollis. Nunc placerat, est vitae vestibulum blandit, dolor diam fringilla tellus, eu euismod mauris neque at neque.</string>\n",
    "```\n",
    "\n",
    "Skorzystamy ze zdefiniowanych domyślnie ustawień tekstu `Headline` i `Subhead`, w tym celu wykorzystamy `style`. Do pliku `themes.xml` dodajemy\n",
    "\n",
    "```xml\n",
    "    <style name=\"InstituteDetailText\" parent=\"TextAppearance.AppCompat.Subhead\"/>\n",
    "\n",
    "    <style name=\"InstituteTitle\" parent=\"TextAppearance.AppCompat.Headline\"/>\n",
    "\n",
    "    <style name=\"InstituteDetailTitle\" parent=\"TextAppearance.AppCompat.Headline\"/>\n",
    "```\n",
    "\n",
    "Pliki graficzne dodaję do folderu **Drawable**.\n",
    "\n",
    "W pierwszym kroku zdefiniujmy layout pojedynczego elementu `RecylcerView`. Rozpocznijmy od dodania zależności do pliku `build.gradle` aby móc skorzystać z `CardView`"
   ]
  },
  {
   "cell_type": "code",
   "execution_count": null,
   "id": "b3d8f15d-61a4-4e1a-ab48-37cebf58b7ce",
   "metadata": {},
   "outputs": [],
   "source": [
    "implementation(\"androidx.cardview:cardview:1.0.0\")"
   ]
  },
  {
   "cell_type": "markdown",
   "id": "93a145aa-a6be-4e7b-864e-4cb303cfaf0c",
   "metadata": {},
   "source": [
    "Po dodaniu musimy wykonać **synchronizację projektu**.\n",
    "\n",
    "Do folderu **layout** dodaję plik `rv_item.xml`. Głównym elementym będzie `CardView`, pozostałe elementy są takie same jak w layoucie `DetailActivity`"
   ]
  },
  {
   "cell_type": "markdown",
   "id": "f6350173-a162-4da9-896f-32dc58faa992",
   "metadata": {},
   "source": [
    "```xml\n",
    "<?xml version=\"1.0\" encoding=\"utf-8\"?>\n",
    "<androidx.cardview.widget.CardView xmlns:android=\"http://schemas.android.com/apk/res/android\"\n",
    "    android:layout_width=\"match_parent\"\n",
    "    android:layout_height=\"wrap_content\"\n",
    "    xmlns:app=\"http://schemas.android.com/apk/res-auto\"\n",
    "    android:layout_margin=\"@dimen/recycler_view_element_padding\"\n",
    "    app:cardBackgroundColor=\"#0b5294\"\n",
    "    app:cardCornerRadius=\"30dp\"\n",
    "    app:cardElevation=\"15dp\">\n",
    "\n",
    "    <RelativeLayout\n",
    "        android:layout_width=\"match_parent\"\n",
    "        android:layout_height=\"wrap_content\">\n",
    "\n",
    "        <ImageView\n",
    "            android:id=\"@+id/instituteImage\"\n",
    "            android:layout_width=\"match_parent\"\n",
    "            android:layout_height=\"wrap_content\"\n",
    "            android:adjustViewBounds=\"true\"\n",
    "            android:contentDescription=\"@string/iv_desc\" />\n",
    "\n",
    "        <TextView\n",
    "            android:id=\"@+id/title\"\n",
    "            style=\"@style/InstituteTitle\"\n",
    "            android:layout_width=\"wrap_content\"\n",
    "            android:layout_height=\"wrap_content\"\n",
    "            android:padding=\"@dimen/recycler_view_element_padding\"\n",
    "            android:layout_alignBottom=\"@id/instituteImage\"\n",
    "            android:theme=\"@style/ThemeOverlay.AppCompat.Dark\"\n",
    "            android:text=\"@string/title_placeholder\" />\n",
    "\n",
    "        <TextView\n",
    "            android:id=\"@+id/cardTitle\"\n",
    "            style=\"@style/InstituteDetailText\"\n",
    "            android:layout_width=\"wrap_content\"\n",
    "            android:layout_height=\"wrap_content\"\n",
    "            android:layout_below=\"@id/instituteImage\"\n",
    "            android:textColor=\"@android:color/white\"\n",
    "            android:padding=\"@dimen/recycler_view_element_padding\"\n",
    "            android:text=\"@string/title_placeholder\" />\n",
    "\n",
    "        <TextView\n",
    "            android:id=\"@+id/subTitle\"\n",
    "            style=\"@style/InstituteDetailText\"\n",
    "            android:layout_width=\"wrap_content\"\n",
    "            android:layout_height=\"wrap_content\"\n",
    "            android:layout_below=\"@id/cardTitle\"\n",
    "            android:padding=\"@dimen/recycler_view_element_padding\"\n",
    "            android:textColor=\"@android:color/white\"\n",
    "            android:text=\"@string/institute_placeholder\" />\n",
    "\n",
    "    </RelativeLayout>\n",
    "</androidx.cardview.widget.CardView>\n",
    "```"
   ]
  },
  {
   "cell_type": "markdown",
   "id": "c7a7a202-a02a-48cd-8bd7-84d61c15db77",
   "metadata": {},
   "source": [
    "## **Model danych**\n",
    "\n",
    "Dodajmy klasę reprezentującą model danych"
   ]
  },
  {
   "cell_type": "code",
   "execution_count": null,
   "id": "3c601cd5-7dd0-4f61-a433-61a876ac71c5",
   "metadata": {},
   "outputs": [],
   "source": [
    "data class Institute(\n",
    "    val title: String, \n",
    "    val info: String, \n",
    "    val imageResource: Int // identyfikatory są przechowywane jako int\n",
    ")"
   ]
  },
  {
   "cell_type": "markdown",
   "id": "0bc50e04-9df9-431f-b4e3-5cd8e016decf",
   "metadata": {},
   "source": [
    "## **Utworzenie listy `Institute`**\n",
    "\n",
    "Listę wszystkich informacji o instytutach (i biblioteki) będziemy przechowywać w tabelach `<array>` w pliku `strings.xml`\n",
    "\n",
    "```xml\n",
    "    <string-array name=\"institute_titles\">\n",
    "        <item>Institute of Astronomy</item>\n",
    "        <item>Institute of Experimental Physics</item>\n",
    "        <item>Institute of Theoretical Physics</item>\n",
    "        <item>Library</item>\n",
    "    </string-array>\n",
    "\n",
    "    <string-array name=\"institute_info\">\n",
    "        <item>Welcome to Institute of Astronomy!</item>\n",
    "        <item>Welcome to Institute of Experimental Physics!</item>\n",
    "        <item>Welcome to Institute of Theoretical Physics!</item>\n",
    "        <item>Welcome to Library!</item>\n",
    "    </string-array>\n",
    "\n",
    "\n",
    "    <array name=\"institute_images\">\n",
    "        <item>@drawable/img_ia</item>\n",
    "        <item>@drawable/img_ifd</item>\n",
    "        <item>@drawable/img_ift</item>\n",
    "        <item>@drawable/img_bib</item>\n",
    "    </array>\n",
    "```\n",
    "\n",
    "Na podstawie tych informacji chcemy stworzyć kolekcję zawierającą wszystkie `Institute`. W klasie `MainActivity` dodajmy "
   ]
  },
  {
   "cell_type": "code",
   "execution_count": null,
   "id": "fad734d8-1332-498b-9e50-3a70a3a4f3b3",
   "metadata": {},
   "outputs": [],
   "source": [
    "private val institutes: ArrayList<Institute> = ArrayList()"
   ]
  },
  {
   "cell_type": "markdown",
   "id": "5a1576ac-7a4e-4908-a441-ff5c5c9a1a17",
   "metadata": {},
   "source": [
    "Dodajmy metodę `initializeData`"
   ]
  },
  {
   "cell_type": "code",
   "execution_count": null,
   "id": "dd2bd5ae-6d96-4e3d-8c44-3dde5032a96b",
   "metadata": {},
   "outputs": [],
   "source": [
    "private fun initializeData()"
   ]
  },
  {
   "cell_type": "markdown",
   "id": "b124863d-70c6-4061-8091-e623226170a7",
   "metadata": {},
   "source": [
    "Wpierw utworzymy dwie tablice `String` do przechowania danych z tablic `institute_titles` oraz `institute_info`"
   ]
  },
  {
   "cell_type": "code",
   "execution_count": null,
   "id": "c77eee02-630a-4dde-a11e-fdc1e0cfe665",
   "metadata": {},
   "outputs": [],
   "source": [
    "val instituteList = resources.getStringArray(R.array.institute_titles)\n",
    "val instituteInfo = resources.getStringArray(R.array.institute_info)"
   ]
  },
  {
   "cell_type": "markdown",
   "id": "6285ce38-2119-443f-aad2-8ab4cf73defa",
   "metadata": {},
   "source": [
    "Aby przechować zasoby (odnośniki do plików graficznych z tabeli `institute_images`) skorzystamy z `TypedArray` - jest to kontener do przechowaywania wartości `Resources`."
   ]
  },
  {
   "cell_type": "code",
   "execution_count": null,
   "id": "532759d6-9f23-4859-a373-5ba7420a2d8e",
   "metadata": {},
   "outputs": [],
   "source": [
    "val instituteImageResources = resources.obtainTypedArray(R.array.institute_images)"
   ]
  },
  {
   "cell_type": "markdown",
   "id": "ab136127-cd0d-4889-ae6d-ee7bba01e6ba",
   "metadata": {},
   "source": [
    "Ponieważ metoda posłuży nam również do odświeżania całej listy, w pierwszej kolejności wywołujemy `clear` usuwającą wszystkie elementy z listy"
   ]
  },
  {
   "cell_type": "code",
   "execution_count": null,
   "id": "80f4c757-e90d-48fe-b198-8e89c60483ba",
   "metadata": {},
   "outputs": [],
   "source": [
    "institutes.clear()"
   ]
  },
  {
   "cell_type": "markdown",
   "id": "7b25f398-42d8-4cfa-8aa7-2960801a6cf2",
   "metadata": {},
   "source": [
    "Następnie tworzymy listę "
   ]
  },
  {
   "cell_type": "code",
   "execution_count": null,
   "id": "c5ea6cd9-bbd3-451c-bef9-77346e740ebb",
   "metadata": {},
   "outputs": [],
   "source": [
    "for (i in instituteList.indices) institutes.add(\n",
    "    Institute(\n",
    "        instituteList[i],\n",
    "        instituteInfo[i],\n",
    "        instituteImageResources.getResourceId(i, 0)\n",
    "    )\n",
    ")"
   ]
  },
  {
   "cell_type": "markdown",
   "id": "b2d35b32-9b0c-45b6-985f-1a2dd7b02136",
   "metadata": {},
   "source": [
    "Ostatnim elementem jest wywołanie metody `recycle` na tablicy `TypedArray`. Pozwala ona na odtworzenie tablicy, która może zostać ponownie wykorzystana."
   ]
  },
  {
   "cell_type": "code",
   "execution_count": null,
   "id": "20ffec3c-798a-4b14-98bc-169304803d10",
   "metadata": {},
   "outputs": [],
   "source": [
    "instituteImageResources.recycle()"
   ]
  },
  {
   "cell_type": "markdown",
   "id": "7263f050-4971-4555-874d-7a3b536dbcd4",
   "metadata": {},
   "source": [
    "Następnie dodajmy obsługę `onClick` dla `FloatingActionButton` w metodzie `onCreate`"
   ]
  },
  {
   "cell_type": "code",
   "execution_count": null,
   "id": "dd684dfc-73e8-46cd-bd83-d3360b2f76ab",
   "metadata": {},
   "outputs": [],
   "source": [
    "findViewById<FloatingActionButton>(R.id.fabRefreshButton).setOnClickListener { \n",
    "    initializeData()\n",
    "}"
   ]
  },
  {
   "cell_type": "markdown",
   "id": "0203d33c-1157-4b08-8c4a-bb2279aec1de",
   "metadata": {},
   "source": [
    "## **`RecyclerView`**\n",
    "\n",
    "Kolejnym krokiem będzie utworzenie klasy `Adapter`."
   ]
  },
  {
   "cell_type": "code",
   "execution_count": null,
   "id": "9e044da3-6c90-4420-bc66-eb07f34b2ee7",
   "metadata": {},
   "outputs": [],
   "source": [
    "package pl.edu.uwr.pum.wfiappkotlin\n",
    "import android.content.Context\n",
    "import android.view.LayoutInflater\n",
    "import android.view.View\n",
    "import android.view.ViewGroup\n",
    "import android.widget.TextView\n",
    "import androidx.recyclerview.widget.RecyclerView\n",
    "\n",
    "\n",
    "class InstituteAdapter(\n",
    "    private val context: Context,\n",
    "    private val institutes: ArrayList<Institute>) :\n",
    "    RecyclerView.Adapter<InstituteAdapter.InstituteViewHolder>() {\n",
    "\n",
    "    inner class InstituteViewHolder(itemView: View) : RecyclerView.ViewHolder(itemView) {\n",
    "        private val titleTextView: TextView = itemView.findViewById(R.id.title)\n",
    "        private val infoTextView: TextView = itemView.findViewById(R.id.subTitle)\n",
    "\n",
    "        fun bind(currentInstitute: Institute) {\n",
    "            titleTextView.text = currentInstitute.title\n",
    "            infoTextView.text = currentInstitute.info\n",
    "        }\n",
    "    }\n",
    "\n",
    "    override fun onCreateViewHolder(parent: ViewGroup, viewType: Int): InstituteViewHolder =  InstituteViewHolder(\n",
    "            LayoutInflater.from(parent.context).inflate(\n",
    "                R.layout.rv_item,\n",
    "                parent, false\n",
    "            )\n",
    "        )\n",
    "\n",
    "    override fun onBindViewHolder(holder: InstituteViewHolder, position: Int) {\n",
    "        val currentInstitute = institutes[position]\n",
    "        holder.bind(currentInstitute)\n",
    "    }\n",
    "\n",
    "    override fun getItemCount() = institutes.size\n",
    "}"
   ]
  },
  {
   "cell_type": "markdown",
   "id": "6361853c-5430-4604-a210-9508d84ee04a",
   "metadata": {},
   "source": [
    "Mamy połączone dane tekstowe z polami `TextView`. Kolejnym krokiem będzie skorzystanie z biblioteki `Glide` do obsługi ładowania grafik w pola `ImageView`. W pierwszym kroku musimy dodać odpowiednie zależności - przechodzimy do pliku `build.gradle` i dodajemy"
   ]
  },
  {
   "cell_type": "code",
   "execution_count": null,
   "id": "47864d27-26ef-4f25-bec6-5e282d33c556",
   "metadata": {},
   "outputs": [],
   "source": [
    "  implementation 'com.github.bumptech.glide:glide:4.13.0'\n",
    "  annotationProcessor 'com.github.bumptech.glide:compiler:4.13.0'"
   ]
  },
  {
   "cell_type": "markdown",
   "id": "b4f6e6ba-782f-4f8e-8fae-cf631c5e0303",
   "metadata": {},
   "source": [
    "Dodajemy odpowiednie pole w `ViewHolder`"
   ]
  },
  {
   "cell_type": "code",
   "execution_count": null,
   "id": "2a865e7f-acc1-4161-b938-91998991e89b",
   "metadata": {},
   "outputs": [],
   "source": [
    "private val instituteImage: ImageView = itemView.findViewById(R.id.instituteImage)"
   ]
  },
  {
   "cell_type": "markdown",
   "id": "22516524-2248-4cfd-a4f9-3cc44ed4fa57",
   "metadata": {},
   "source": [
    "Następnie w metodzie `bind` dodamy ładowanie grafiki"
   ]
  },
  {
   "cell_type": "code",
   "execution_count": null,
   "id": "e0586440-6630-4202-9207-dc78aa9e6386",
   "metadata": {},
   "outputs": [],
   "source": [
    "Glide.with(context).load(currentInstitute.imageResource)\n",
    "    .into(instituteImage)"
   ]
  },
  {
   "cell_type": "markdown",
   "id": "5f1b956b-871a-4653-acae-14373e2cb3b1",
   "metadata": {},
   "source": [
    "\n",
    "Musimy podać `Context` przy wywołaniu, ponieważ tą informację przechowuje klasa `Adapter`, która jest klasą zewnętrzną, musimy zmienić sygnaturę klasy `ViewHolder` z klasy zagnieżdżonej na klasę wewnętrzną. W ten sposób klasa `ViewHolder` będzie posiadała referencję do klasy `Adapter`, więc możemy odwołać się do wszystkich ich pól. Metoda `load` przyjmuje jeden argument `int` będący identyfikatorem zasobu. Następnie wywołujemy metodę `into` w której wskazujemy element docelowy."
   ]
  },
  {
   "cell_type": "markdown",
   "id": "168ac9f2-c222-4520-9dc1-54d55421739b",
   "metadata": {},
   "source": [
    "## **Obsługa `onClick`**\n",
    "\n",
    "Chcemy dodać obsługę zdarzenia `onClick` elementu listy, w tym celu zmienimy sygnaturę klasy `ViewHolder`, teraz będzie ona implementowała interfejs `View.OnClickListener`"
   ]
  },
  {
   "cell_type": "code",
   "execution_count": null,
   "id": "ae6c51d1-abc1-4f81-9b04-fdb6a3eac09c",
   "metadata": {},
   "outputs": [],
   "source": [
    "inner class InstituteViewHolder(itemView: View) : RecyclerView.ViewHolder(itemView), View.OnClickListener"
   ]
  },
  {
   "cell_type": "markdown",
   "id": "b5c8cdff-b1bf-4766-b6bf-b83fd576033b",
   "metadata": {},
   "source": [
    "Następnie dodajemy implementację metody `onClick`"
   ]
  },
  {
   "cell_type": "code",
   "execution_count": null,
   "id": "b888275e-13bf-4e0d-9638-b475c5bd993a",
   "metadata": {},
   "outputs": [],
   "source": [
    "override fun onClick(p0: View?) {}"
   ]
  },
  {
   "cell_type": "markdown",
   "id": "b54b98bc-dd11-422f-96a1-2425de6adbfe",
   "metadata": {},
   "source": [
    "Ponieważ chcemy przekazać dane do `DetailActivity`, w tym przykładzie prześlemy cały obiekt. Nasz klasa reprezentująca model danych (`Institute`) musi implementować interfejs `Parcelable`. W pierwszym kroku dodajmy odpowiedni **plugin** do pliku `build.gradle`"
   ]
  },
  {
   "cell_type": "code",
   "execution_count": null,
   "id": "9ff13241-fc86-4c97-bb93-2f5ce7a385b6",
   "metadata": {},
   "outputs": [],
   "source": [
    "plugins {\n",
    "    id 'com.android.application'\n",
    "    id 'org.jetbrains.kotlin.android'\n",
    "    id(\"kotlin-parcelize\")\n",
    "}"
   ]
  },
  {
   "cell_type": "markdown",
   "id": "4d62fa9d-f5a4-448b-ad8d-de923b54a0a9",
   "metadata": {},
   "source": [
    "Następnie możemy skorzystać z adnotacji `@Parcelize` aby dodać automatyczną implementację."
   ]
  },
  {
   "cell_type": "code",
   "execution_count": null,
   "id": "e6dd04cd-aed3-45dc-ac7d-1dc6d201d304",
   "metadata": {},
   "outputs": [],
   "source": [
    "@Parcelize\n",
    "data class Institute(\n",
    "    val title: String,\n",
    "    val info: String,\n",
    "    val imageResource: Int // identyfikatory są przechowywane jako int\n",
    ") : Parcelable"
   ]
  },
  {
   "cell_type": "markdown",
   "id": "77bba367-92ce-4093-aeee-8f5ba69eedfc",
   "metadata": {},
   "source": [
    "Następnie w klasie `Adapter` utwórzmy odpowiedni klucz dla `Intent`"
   ]
  },
  {
   "cell_type": "markdown",
   "id": "33494374-3c8f-42de-8662-8490e346b5ce",
   "metadata": {},
   "source": [
    "Dodajmy implementację metody `onClick`. W pierwszej kolejności musimy wyciągnąć element na którym została wywołana funckja"
   ]
  },
  {
   "cell_type": "code",
   "execution_count": null,
   "id": "c24e69e7-beff-4562-adcc-e104efb0b742",
   "metadata": {},
   "outputs": [],
   "source": [
    "val institute = institutes[adapterPosition]"
   ]
  },
  {
   "cell_type": "markdown",
   "id": "da536d04-f604-446f-a023-a34499e97491",
   "metadata": {},
   "source": [
    "Następnie tworzymy nowy `Intent` i dodajemy dane"
   ]
  },
  {
   "cell_type": "code",
   "execution_count": null,
   "id": "4e0198a9-e9fd-422b-9daa-5cc1a051effa",
   "metadata": {},
   "outputs": [],
   "source": [
    "val intent = Intent(context, DetailActivity::class.java).apply {\n",
    "    putExtra(INSTITUTE_EXTRA, institute)\n",
    "}"
   ]
  },
  {
   "cell_type": "markdown",
   "id": "64ab4656-78bb-43bd-b5e3-6a8a62674c68",
   "metadata": {},
   "source": [
    "Ostatnim elementem będzie wywołanie metody `startActivity`, tą metodę musimy wywołać na odpowiednim `Context`"
   ]
  },
  {
   "cell_type": "code",
   "execution_count": null,
   "id": "4e019d21-f48d-4f7b-a9b8-dcd7f92158aa",
   "metadata": {},
   "outputs": [],
   "source": [
    "context.startActivity(intent)"
   ]
  },
  {
   "cell_type": "markdown",
   "id": "939a6e28-aae7-4872-933d-65c6599f0aec",
   "metadata": {},
   "source": [
    "Na koniec musimy ustawić `OnClickListener`, do klasy `InstituteViewHolder` dodajemy"
   ]
  },
  {
   "cell_type": "code",
   "execution_count": null,
   "id": "311efb3e-2db8-4519-959c-3da53a8528f6",
   "metadata": {},
   "outputs": [],
   "source": [
    "init {\n",
    "    itemView.setOnClickListener(this)\n",
    "}"
   ]
  },
  {
   "cell_type": "markdown",
   "id": "94ac9c89-645b-4931-92d0-70bf1028ae02",
   "metadata": {},
   "source": [
    "## **GridLayoutManager**\n",
    "\n",
    "Przejdźmy do dodania `RecyclerView` do `MainActivity`. Wpierw dodajmy zmienną `InstituteAdapter` do klasy"
   ]
  },
  {
   "cell_type": "code",
   "execution_count": null,
   "id": "69540af0-35c2-4642-9316-fcb55a4b3962",
   "metadata": {},
   "outputs": [],
   "source": [
    "private val instituteAdapter by lazy { InstituteAdapter(this, institutes) }"
   ]
  },
  {
   "cell_type": "markdown",
   "id": "414eeee5-dfbe-4d23-912e-a11ea4251e28",
   "metadata": {},
   "source": [
    "W metodzie `onCreate` dodajemy `RecyclerView`"
   ]
  },
  {
   "cell_type": "code",
   "execution_count": null,
   "id": "7bf5af0f-3c4f-4092-9f7d-630564f3c90a",
   "metadata": {},
   "outputs": [],
   "source": [
    "val recyclerView = findViewById<RecyclerView>(R.id.recyclerView)"
   ]
  },
  {
   "cell_type": "markdown",
   "id": "d30d964a-cba5-4549-8af9-7577aaa0ca6c",
   "metadata": {},
   "source": [
    "W tej aplikacji wykorzystamy `GridLayoutManager` i uzależnimy liczbę kolumn od orientacji urządzenia. W widoku wertykalnym będziemy mieć jedną kolumnę, w horyzontalnym dwie - czyli dwa `CardView` obok siebie."
   ]
  },
  {
   "cell_type": "markdown",
   "id": "0fa11bf3-8802-4ecb-843d-4fe54755a512",
   "metadata": {},
   "source": [
    "<img src=\"https://media2.giphy.com/media/gooBI30gtU5fMkmCZu/giphy.gif?cid=790b7611df027999cb2a17ec28a3095ad5693e6e76c37990&rid=giphy.gif&ct=g\" width=\"200\" />"
   ]
  },
  {
   "cell_type": "markdown",
   "id": "ca843744-a17f-4751-9a9e-cfc44bb37741",
   "metadata": {},
   "source": [
    "Aby to osiągnąć musimy zdefiniować zmienną, która będzie zmieniała wartość po zmianie orientacji urządzenia. Do folderu **values** dodajmy nowy plik o nazwie `integers.xml`\n",
    "\n",
    "```xml\n",
    "<?xml version=\"1.0\" encoding=\"utf-8\"?>\n",
    "<resources>\n",
    "    <integer name=\"grid_column_count\">1</integer>\n",
    "</resources>\n",
    "```\n",
    "\n",
    "Chcemy teraz zdefiniować inną wartość dla zmiennej `grid_column_count` dla innej orientacji. Ponownie do folderu **values** dodajemy plik o nazwie `integers.xml` lecz tym razem w zakładce **Available qualifiers** wybieram **Orientation** i dodaję do wybranych kwalifikatorów. Następnie z rozwijanego menu wybieram **Landscape**.\n",
    "\n",
    "```xml\n",
    "<?xml version=\"1.0\" encoding=\"utf-8\"?>\n",
    "<resources>\n",
    "    <integer name=\"grid_column_count\">2</integer>\n",
    "</resources>\n",
    "```\n",
    "\n",
    "Mechanizm ten pozwala na przygotowanie różnych wersji plików w zależności od wybranego kwalifikatora.\n",
    "\n",
    "Powróćmy do `MainActivity` i dodajmy zmienną przechowującą wartość `grid_column_count`"
   ]
  },
  {
   "cell_type": "code",
   "execution_count": null,
   "id": "4111cba2-e782-49d7-8a87-df6b2bc5315b",
   "metadata": {},
   "outputs": [],
   "source": [
    "val gridColumnCount = resources.getInteger(R.integer.grid_column_count)"
   ]
  },
  {
   "cell_type": "markdown",
   "id": "e80f67fa-089c-4d5c-8bce-d60b71aeef5a",
   "metadata": {},
   "source": [
    "Następnie ustawmy `LayoutManager`"
   ]
  },
  {
   "cell_type": "code",
   "execution_count": null,
   "id": "2b49e743-baf3-4f07-93d0-fd1e11e707f0",
   "metadata": {},
   "outputs": [],
   "source": [
    "recyclerView.apply {\n",
    "    layoutManager = GridLayoutManager(this@MainActivity, gridColumnCount)\n",
    "}"
   ]
  },
  {
   "cell_type": "markdown",
   "id": "6f85d227-8994-48e1-826d-3b69ef371dfb",
   "metadata": {},
   "source": [
    "Konstruktor `GridLayoutManager` przyjmuje dwa parametry - `Context` oraz liczbę kolumn. Jako liczbę kolumn podajemy utworzoną `gridColumnCount`. Następnie i powiązujemy `Adapter` z `RecyclerView`"
   ]
  },
  {
   "cell_type": "code",
   "execution_count": null,
   "id": "9a57f595-cc84-4f30-a2a7-cbb1018c236d",
   "metadata": {},
   "outputs": [],
   "source": [
    "recyclerView.apply {\n",
    "    layoutManager = GridLayoutManager(this@MainActivity, gridColumnCount)\n",
    "    adapter = instituteAdapter\n",
    "}"
   ]
  },
  {
   "cell_type": "markdown",
   "id": "d5c6c931-a917-4d07-8aec-9fffdfd812da",
   "metadata": {},
   "source": [
    "Ostatnim krokiem jest modyfikacja metody `onClick` na `Fab` - gdy chcemy przeładować dane, musimy również poinformować o tym fakcie `Adapter`"
   ]
  },
  {
   "cell_type": "code",
   "execution_count": null,
   "id": "2238c30f-df7b-4317-95c3-b4b8c9a070fb",
   "metadata": {},
   "outputs": [],
   "source": [
    "findViewById<FloatingActionButton>(R.id.fabRefreshButton).setOnClickListener {\n",
    "    initializeData()\n",
    "    instituteAdapter.notifyDataSetChanged()\n",
    "}"
   ]
  },
  {
   "cell_type": "markdown",
   "id": "3af02c12-0f95-447c-b484-898fd6d2a5d0",
   "metadata": {},
   "source": [
    "Metodę `initializeData` wywołujemy również w metodzie `onCreate` i możemy przetestować aplikację."
   ]
  },
  {
   "cell_type": "markdown",
   "id": "e80c2dfd-9df9-44a0-8274-e14eda9ec98a",
   "metadata": {},
   "source": [
    "## **Odebranie danych w `DetailActivity`**"
   ]
  },
  {
   "cell_type": "markdown",
   "id": "0fef8e05-81d8-41df-bd11-61716ed76f56",
   "metadata": {},
   "source": [
    "Teraz zajmiemy odebraniem danych i wyświetleniem ich w `DetailActivity`. W pierwszej kolejności tworzymy instancję `Institute` i odbierzmy dane z `Intent`"
   ]
  },
  {
   "cell_type": "code",
   "execution_count": null,
   "id": "f99ffcde-3adb-4337-bf43-749f6066d58f",
   "metadata": {},
   "outputs": [],
   "source": [
    "val institute = intent.getParcelableExtra<Institute>(INSTITUTE_EXTRA)"
   ]
  },
  {
   "cell_type": "markdown",
   "id": "e0771daf-9a33-47f4-aa6d-5e9e2afa42f6",
   "metadata": {},
   "source": [
    "Następnie połączmy dane z odpowiednimi polami layoutu"
   ]
  },
  {
   "cell_type": "code",
   "execution_count": null,
   "id": "7df95031-62fa-41c2-bb88-a9c333316f99",
   "metadata": {},
   "outputs": [],
   "source": [
    "if (institute != null){\n",
    "    findViewById<TextView>(R.id.titleDetail).text = institute.title\n",
    "    Glide.with(this)\n",
    "        .load(institute.imageResource)\n",
    "        .into(findViewById(R.id.instituteImageDetail))\n",
    "    findViewById<ImageView>(R.id.instituteImageDetail)\n",
    "}"
   ]
  },
  {
   "cell_type": "markdown",
   "id": "0114257d-05d1-4596-b8b7-111cabbc422d",
   "metadata": {},
   "source": [
    "Na tym etapie możemy przetestować aplikację."
   ]
  },
  {
   "cell_type": "markdown",
   "id": "04d1e819-d4c0-4d8e-9a4e-85549d05c7cc",
   "metadata": {},
   "source": [
    "## **Obsługa gestów**"
   ]
  },
  {
   "cell_type": "markdown",
   "id": "62856a3b-a579-40a0-a7bc-d2f4998ca5a5",
   "metadata": {},
   "source": [
    "Dodajmy do aplikacji podstawową obsługę gestów. Chcemy mieć możliwość przestawienia elementów na liście (**drag & drop**) oraz usunięcia jednego elementu (**swipe to dismiss**). Posłużymy się klasą `ItemTouchHelper` ułatwiającą implementację odpowiedzi na zdarzania przez `RecyclerView`.\n",
    "\n",
    "W pierwszej kolejności chcemy ustalić przesuwając element w jakich kierunkach chcemy usunąć element. Do metody `onCreate` dodajmy zmienną reprezentującą liczbę kierunków"
   ]
  },
  {
   "cell_type": "code",
   "execution_count": null,
   "id": "1bab886c-efa9-4216-a1e7-06209a636011",
   "metadata": {},
   "outputs": [],
   "source": [
    "val swipeDirs = if (gridColumnCount > 1) 0 else ItemTouchHelper.LEFT or ItemTouchHelper.RIGHT"
   ]
  },
  {
   "cell_type": "markdown",
   "id": "ff37895a-bcbf-4297-910a-81f3be5b79e2",
   "metadata": {},
   "source": [
    "Uzależniamy możliwość usunięcia elementu listy od orientacji urządzenia - czyli od liczby wyświetlanych kolumn. Jeżeli znajdujemy się w orientacji **portrait** zmienna `swiepDirs` będzie miała wartość reprezentującą kierunki `LEFT` i `RIGHT`. Tutaj posługujemy się **alternatywą** (operator `or`)."
   ]
  },
  {
   "cell_type": "markdown",
   "id": "cb1a422f-28f3-441d-a8f4-c11615c52a07",
   "metadata": {},
   "source": [
    "W następnej kolejności zaimplementujemy samą funckjonalność, będziemy potrzebować instancję klasy `IteemTouchHelper`"
   ]
  },
  {
   "cell_type": "code",
   "execution_count": null,
   "id": "7940fd82-a7e5-4dcd-9db6-7999bcd7a513",
   "metadata": {},
   "outputs": [],
   "source": [
    "val helper = ItemTouchHelper()"
   ]
  },
  {
   "cell_type": "markdown",
   "id": "7b1141e5-cfe9-4b02-93aa-7a49fbfed2ce",
   "metadata": {},
   "source": [
    "Jako parametr konstruktora musimy podać `Callback` na którym będzie działać utworzony `ItemTouchHelper`. Tutaj chhcemy zaimplementować podstawową funkcjonalność, więc możemy skorzystać z uproszczonego klasy `SimpleCallback`. Jako parametr podajemy instancję klasy anonimowej "
   ]
  },
  {
   "cell_type": "code",
   "execution_count": null,
   "id": "4d6d71c7-9d78-4986-93c3-3f63a42b8905",
   "metadata": {},
   "outputs": [],
   "source": [
    "val helper = ItemTouchHelper(ItemTouchHelper.SimpleCallback{\n",
    "\n",
    "})"
   ]
  },
  {
   "cell_type": "markdown",
   "id": "cd8e8ea5-d092-4329-917b-bab990cdda95",
   "metadata": {},
   "source": [
    "Klasa `SimpleCallback` przyjmuje dwa parametry\n",
    "- `dragDirs` - określający kierunki przeciągnięcia elementu\n",
    "- `swipeDirs` - określający kierunki przemiecenia elementu"
   ]
  },
  {
   "cell_type": "code",
   "execution_count": null,
   "id": "9e1903af-3204-4da1-8f9e-7b6c13bd399b",
   "metadata": {},
   "outputs": [],
   "source": [
    "val helper = ItemTouchHelper(object: ItemTouchHelper.SimpleCallback(\n",
    "    ItemTouchHelper.LEFT or ItemTouchHelper.RIGHT or\n",
    "            ItemTouchHelper.UP or ItemTouchHelper.DOWN,\n",
    "    swipeDirs\n",
    ")"
   ]
  },
  {
   "cell_type": "markdown",
   "id": "2231278c-a532-40c8-8c5b-06dd0ac2066c",
   "metadata": {},
   "source": [
    "Będziemy mieć możliwość przeciągania elementu w czterech kierunkach i wykonania **swipe to dismiss** tylko w dwóch kierunkach w orientacji wertykalnej."
   ]
  },
  {
   "cell_type": "markdown",
   "id": "b4f22a15-90a0-49b9-beb6-4a4b9ed30a04",
   "metadata": {},
   "source": [
    "Mamy dwie możliwości, więc mamy również dwie metody do zaimplementowania"
   ]
  },
  {
   "cell_type": "code",
   "execution_count": null,
   "id": "dfc9d4ee-e9cf-4146-a325-602daf0e00d0",
   "metadata": {},
   "outputs": [],
   "source": [
    "override fun onMove(\n",
    "    recyclerView: RecyclerView,\n",
    "    viewHolder: RecyclerView.ViewHolder,\n",
    "    target: RecyclerView.ViewHolder\n",
    "): Boolean {\n",
    "}\n",
    "\n",
    "override fun onSwiped(viewHolder: RecyclerView.ViewHolder, direction: Int) {\n",
    "}"
   ]
  },
  {
   "cell_type": "markdown",
   "id": "7625e1c9-8044-45cf-8e38-66046d52f6ea",
   "metadata": {},
   "source": [
    "W metodzie `onSwiped` chcemy dodać implementację usuwającą przemieciony element. W pierwszej kolejności usuniemy element o zadanej pozycji z naszej kolekcji `institutes`, następnie powiadomimy `Adapter` o usuniętym elemencie aby wykonać odświeżenie `RecyclerView`"
   ]
  },
  {
   "cell_type": "code",
   "execution_count": null,
   "id": "4ec90f15-ab86-4812-9673-625229f16c8e",
   "metadata": {},
   "outputs": [],
   "source": [
    "override fun onSwiped(viewHolder: RecyclerView.ViewHolder, direction: Int) {\n",
    "    institutes.removeAt(viewHolder.adapterPosition)\n",
    "    instituteAdapter.notifyItemRemoved(viewHolder.adapterPosition)\n",
    "}"
   ]
  },
  {
   "cell_type": "markdown",
   "id": "8b492205-23ad-4971-a61a-4fb405181bbc",
   "metadata": {},
   "source": [
    "Musimy podczepić utworzony `ItemTouchHelper` pod `RecyclerView`"
   ]
  },
  {
   "cell_type": "code",
   "execution_count": null,
   "id": "72f4ae28-483b-4c25-bd9b-0cbbaaa24bbd",
   "metadata": {},
   "outputs": [],
   "source": [
    "helper.attachToRecyclerView(recyclerView)"
   ]
  },
  {
   "cell_type": "markdown",
   "id": "5ef34713-871a-43e1-bbe4-3e050d287c85",
   "metadata": {},
   "source": [
    "Możemy przetestować funkcjonalność **swipe to dismiss**"
   ]
  },
  {
   "cell_type": "markdown",
   "id": "f6c0d997-e237-48f7-9113-fd8f5afb4718",
   "metadata": {},
   "source": [
    "<img src=\"https://media2.giphy.com/media/h5Xh7V5IA5E3BV4ytL/giphy.gif?cid=790b7611412fedb227b91c2cb44067aa88f517a18214afde&rid=giphy.gif&ct=g\" width=\"200\" />"
   ]
  },
  {
   "cell_type": "markdown",
   "id": "7675e71b-9eee-42a4-b944-d1c9bc058bea",
   "metadata": {},
   "source": [
    "Dodajmy implementację metody `onMove`. Musimy zdefiniować dwie pozycje, który element przesuwamy i na które miejsce. Zdefiniujmy dwie zmienne"
   ]
  },
  {
   "cell_type": "code",
   "execution_count": null,
   "id": "e637d0c4-46e2-4c6c-81d7-9ded4d86b29c",
   "metadata": {},
   "outputs": [],
   "source": [
    "val from = viewHolder.adapterPosition\n",
    "val to = target.adapterPosition"
   ]
  },
  {
   "cell_type": "markdown",
   "id": "daa97555-7c16-4152-b60e-65d9ab3292ff",
   "metadata": {},
   "source": [
    "`ViewHolder` odnosi się do elemtu na którym wykonujemy czynność, `target` jest elementem docelowym. Następnie wykonujemy metodę `swap` na naszej kolekcji i powiadamiamy `Adapter` o wykonanej operacji."
   ]
  },
  {
   "cell_type": "code",
   "execution_count": null,
   "id": "cd075a47-98db-4da2-b64b-f3eec11f3bcc",
   "metadata": {},
   "outputs": [],
   "source": [
    "override fun onMove(\n",
    "    recyclerView: RecyclerView,\n",
    "    viewHolder: RecyclerView.ViewHolder,\n",
    "    target: RecyclerView.ViewHolder\n",
    "): Boolean {\n",
    "    val from = viewHolder.adapterPosition\n",
    "    val to = target.adapterPosition\n",
    "\n",
    "    Collections.swap(institutes, from, to)\n",
    "    instituteAdapter.notifyItemMoved(from, to)\n",
    "    return true\n",
    "}"
   ]
  },
  {
   "cell_type": "markdown",
   "id": "a50f49e5-39be-47d9-a392-a0c4716ae41a",
   "metadata": {},
   "source": [
    "Metoda `onMove` zwraca `boolean` w zależności od powodzenia operacji. Tutaj, dla prostoty, zawsze zwrócimy `true`. Możemy przetestować funkcjonalność."
   ]
  },
  {
   "cell_type": "markdown",
   "id": "57bac842-9512-4d6b-a5d2-e863234cfd48",
   "metadata": {},
   "source": [
    "<img src=\"https://media2.giphy.com/media/uwDAUUAjLZnyKqLg3J/giphy.gif?cid=790b76110bdb83e20fb638b9fb5150422cf100e384687bcf&rid=giphy.gif&ct=g\" width=\"200\" />"
   ]
  },
  {
   "cell_type": "code",
   "execution_count": null,
   "id": "44726530-e87d-4132-b547-e61f3c49ca7f",
   "metadata": {},
   "outputs": [],
   "source": []
  }
 ],
 "metadata": {
  "kernelspec": {
   "display_name": "Kotlin",
   "language": "kotlin",
   "name": "kotlin"
  },
  "language_info": {
   "codemirror_mode": "text/x-kotlin",
   "file_extension": ".kt",
   "mimetype": "text/x-kotlin",
   "name": "kotlin",
   "nbconvert_exporter": "",
   "pygments_lexer": "kotlin",
   "version": "1.6.20-dev-6372"
  }
 },
 "nbformat": 4,
 "nbformat_minor": 5
}
