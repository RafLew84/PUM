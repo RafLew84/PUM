{
 "cells": [
  {
   "cell_type": "markdown",
   "id": "3992ff8f-bb5c-479b-8f23-35953927c492",
   "metadata": {},
   "source": [
    "# 3.2 RecyclerView - Selection"
   ]
  },
  {
   "cell_type": "markdown",
   "id": "fba54ce4-d588-4a46-8212-5203b002bec4",
   "metadata": {},
   "source": [
    "<img src=\"https://media1.giphy.com/media/7VOdnpyhosbBDIQPR0/giphy.gif?cid=790b76117ce18b657fd9003f6e29b87c453b5bfad7667dad&rid=giphy.gif&ct=g\" width=\"200\" />"
   ]
  },
  {
   "cell_type": "markdown",
   "id": "a96ab807-3c1e-4245-bb06-1a32ec0cfce9",
   "metadata": {},
   "source": [
    "## **Implementacja `RecyclerView`**\n",
    "\n",
    "Naszą aplikację rozpoczniemy od utworzenia layoutu `main_activity.xml`"
   ]
  },
  {
   "cell_type": "code",
   "execution_count": null,
   "id": "5ba21f4c-171c-48ab-b078-d505f6c8c9c9",
   "metadata": {},
   "outputs": [],
   "source": [
    "<?xml version=\"1.0\" encoding=\"utf-8\"?>\n",
    "<LinearLayout xmlns:android=\"http://schemas.android.com/apk/res/android\"\n",
    "    xmlns:app=\"http://schemas.android.com/apk/res-auto\"\n",
    "    xmlns:tools=\"http://schemas.android.com/tools\"\n",
    "    android:layout_width=\"match_parent\"\n",
    "    android:layout_height=\"wrap_content\"\n",
    "    tools:context=\".MainActivity\">\n",
    "\n",
    "    <androidx.recyclerview.widget.RecyclerView\n",
    "        android:id=\"@+id/recyclerView\"\n",
    "        android:layout_width=\"match_parent\"\n",
    "        android:layout_height=\"wrap_content\" />\n",
    "\n",
    "</LinearLayout>"
   ]
  },
  {
   "cell_type": "markdown",
   "id": "80696e69-4fd6-4f4c-bc77-3eb0a5eab6ab",
   "metadata": {},
   "source": [
    "Następnie dodajmy plik `rv_item.xml`, który będzie zawierał zdefiniowany layout pojedynczego elementu `RecyclerView`"
   ]
  },
  {
   "cell_type": "code",
   "execution_count": null,
   "id": "1a3a97d1-8e0a-4007-b416-a9342dde7b4b",
   "metadata": {},
   "outputs": [],
   "source": [
    "<?xml version=\"1.0\" encoding=\"utf-8\"?>\n",
    "<LinearLayout xmlns:android=\"http://schemas.android.com/apk/res/android\"\n",
    "    android:layout_width=\"match_parent\"\n",
    "    android:orientation=\"horizontal\"\n",
    "    android:layout_height=\"wrap_content\">\n",
    "\n",
    "    <TextView\n",
    "        android:id=\"@+id/numberText\"\n",
    "        android:layout_width=\"match_parent\"\n",
    "        android:layout_height=\"wrap_content\"\n",
    "        android:text=\"default text\"\n",
    "        android:textSize=\"24sp\"\n",
    "        android:layout_gravity=\"center\"\n",
    "        android:textAlignment=\"center\"\n",
    "        android:layout_margin=\"16dp\"\n",
    "        android:background=\"@drawable/item_background\"\n",
    "        android:textStyle=\"bold\"/>\n",
    "\n",
    "</LinearLayout>"
   ]
  },
  {
   "cell_type": "markdown",
   "id": "a4affb63-cce7-4447-bb85-7c71de7a2b9a",
   "metadata": {},
   "source": [
    "Będziemy posiadali tylko jedno pole `TextView`, w który wyświetlimy liczbę. Przejdźmy do `MainActivitry` i dodajmy funkcję zwracającą listę elementów, które będziemy wyświetlać."
   ]
  },
  {
   "cell_type": "code",
   "execution_count": null,
   "id": "8d930999-eb6e-4bc6-8052-23acdd8d0781",
   "metadata": {},
   "outputs": [],
   "source": [
    "    private LinkedList<Integer> createList(){\n",
    "        LinkedList<Integer> numbers = new LinkedList<>();\n",
    "        for(int i = 0; i < 50; i++)\n",
    "            numbers.add(i);\n",
    "        return  numbers;\n",
    "    }"
   ]
  },
  {
   "cell_type": "markdown",
   "id": "3fe74596-c735-4d27-8f60-d59b92db90d1",
   "metadata": {},
   "source": [
    "Następnie zaimplementujmy klasę `NumberListAdapter`"
   ]
  },
  {
   "cell_type": "code",
   "execution_count": null,
   "id": "8c8f6086-a64e-43ba-a0f7-6afc8df43fe4",
   "metadata": {},
   "outputs": [],
   "source": [
    "public class NumberListAdapter extends \n",
    "    RecyclerView.Adapter<NumberListAdapter.NumberListViewHolder>{\n",
    "\n",
    "    private final LinkedList<Integer> numberList;\n",
    "\n",
    "    public NumberListAdapter(LinkedList<Integer> numberList){\n",
    "        this.numberList = numberList;\n",
    "    }\n",
    "\n",
    "    @NonNull\n",
    "    @Override\n",
    "    public NumberListViewHolder onCreateViewHolder(@NonNull ViewGroup parent, int viewType) {\n",
    "        return new NumberListViewHolder(RvItemBinding.inflate(\n",
    "                LayoutInflater.from(parent.getContext()),\n",
    "                parent,\n",
    "                false\n",
    "        ));\n",
    "    }\n",
    "\n",
    "    @Override\n",
    "    public void onBindViewHolder(@NonNull NumberListViewHolder holder, int position) {\n",
    "        holder.bind(numberList.get(position));\n",
    "    }\n",
    "\n",
    "    @Override\n",
    "    public int getItemCount() {\n",
    "        return numberList.size();\n",
    "    }\n",
    "} "
   ]
  },
  {
   "cell_type": "code",
   "execution_count": null,
   "id": "e72d2d9c-2aa1-4799-889d-c98444bcdffe",
   "metadata": {},
   "outputs": [],
   "source": [
    "class NumberListViewHolder extends \n",
    "    RecyclerView.ViewHolder {\n",
    "\n",
    "    private final RvItemBinding binding;\n",
    "    public NumberListViewHolder(RvItemBinding binding) {\n",
    "        super(binding.getRoot());\n",
    "        this.binding = binding;\n",
    "    }\n",
    "\n",
    "    public void bind(int value){\n",
    "        binding.numberText.setText(String.valueOf(value));\n",
    "    }\n",
    "}"
   ]
  },
  {
   "cell_type": "markdown",
   "id": "9877893d-05c9-40ee-9010-5d2671eb307b",
   "metadata": {},
   "source": [
    "Tym razem nasz `Adapter` nie przyjmuje `Context` w konstruktorze. Do instancji `Context`, w metodzie `onCreateViewHolder` odwołujemy się przez `parent.getContext()`. W klasie `ViewHolder` mamy funkcję `bind` łączącą dane z odpowiednimi polami layoutu, jest ona następnie wywołana w metodzie `onBindViewHolder`."
   ]
  },
  {
   "cell_type": "markdown",
   "id": "1d151f47-812a-4857-8133-df2b118df1e0",
   "metadata": {},
   "source": [
    "## **Implementacja `Selector`**\n",
    "\n",
    "W pierwszym kroku przejdźmy do pliku `build.gradle` i w bloku `dependencies` dodajmy wpis\n",
    "\n",
    "```kotlin\n",
    "    implementation 'androidx.recyclerview:recyclerview-selection:1.1.0'\n",
    "```\n",
    "\n",
    "Po zmodyfikowaniu skryptu `gradle` musimy wykonać synchronizację (**Sync Project with Gradle Files**). Chcemy uzyskać możliwość zaznaczania elementów i zmieniania ich właściwości. W pierwszym kroku musimy zdecydować się na typ klucza który będziemy wykorzystywać:\n",
    "- `String` - wykorzystywany gdy mamy identyfikator `String`\n",
    "- `Long` - wykorzystywamy gdy mamy identyfikator numeryczny\n",
    "- `Parcelable` - gdy wykorzystujemy jako klucz np. `Uri`\n",
    "W naszym przypadku wykorzystamy `Long` i właściwość `position` naszego `RecyclerView`.\n",
    "\n",
    "Przechodzimy do klasy `NumberListAdapter`, w pierwszym kroku musimy ustawić `hasStableIds` - zmiana na `true` oznacza że każdy element może być reprezentowany przez unikalny klucz. Do konstruktora dodajemy"
   ]
  },
  {
   "cell_type": "code",
   "execution_count": null,
   "id": "529251b0-2563-4cfb-b4fb-197517c47634",
   "metadata": {},
   "outputs": [],
   "source": [
    "    public NumberListAdapter(LinkedList<Integer> numberList){\n",
    "        this.numberList = numberList;\n",
    "        setHasStableIds(true);\n",
    "    }"
   ]
  },
  {
   "cell_type": "markdown",
   "id": "5ea14f06-0d27-48f5-8e02-ed9c79f92b10",
   "metadata": {},
   "source": [
    "Następnie chcemy wykorzystać właściwość `position` jako identyfikator, w tym celu nadpisujemy metodę `getItemId`"
   ]
  },
  {
   "cell_type": "code",
   "execution_count": null,
   "id": "619a72fe-7506-48a2-9b49-7584c2b7f036",
   "metadata": {},
   "outputs": [],
   "source": [
    "    @Override\n",
    "    public long getItemId(int position) {\n",
    "        return position;\n",
    "    }"
   ]
  },
  {
   "cell_type": "markdown",
   "id": "c288d230-058a-46c2-a579-91770382923b",
   "metadata": {},
   "source": [
    "Kolejnym krokiem jest implementacja klasy `KeyProvider`, tutaj skorzystamy z domyślnej implementacji `StableIdKeyProvider`. Następnie musimy dostarczyć implementację `ItemDetailsLookup` - klasa ta zawiera informacje o zaznaczonych przez użytkownika elementach. Dodajmy nowy plik do projektu - `NumberItemDetailsLookup.java`.\n",
    "\n",
    "Klasa `NumberItemDetailsLookup` musi rozszerzać klasę `ItemDetailsLookup`"
   ]
  },
  {
   "cell_type": "code",
   "execution_count": null,
   "id": "53300baf-818c-4794-b691-264fe90d9324",
   "metadata": {},
   "outputs": [],
   "source": [
    "public class NumberItemDetailsLookup extends ItemDetailsLookup<Long> {}"
   ]
  },
  {
   "cell_type": "markdown",
   "id": "35534b95-bc72-4318-a3af-39d9cd6d7be1",
   "metadata": {},
   "source": [
    "W klasie będziemy potrzebować pola `RecyclerView` reprezentujący naszą listę"
   ]
  },
  {
   "cell_type": "code",
   "execution_count": null,
   "id": "5ecab407-c88a-492f-9e58-b409f95e7f0a",
   "metadata": {},
   "outputs": [],
   "source": [
    "private final RecyclerView recyclerView;\n",
    "\n",
    "public NumberItemDetailsLookup(RecyclerView recyclerView) {\n",
    "    this.recyclerView = recyclerView;\n",
    "}"
   ]
  },
  {
   "cell_type": "markdown",
   "id": "b0748e60-d78c-4aeb-9e04-2684369694be",
   "metadata": {},
   "source": [
    "Samo zaznaczanie w tej bibliotece bazuje na `MotionEvent` który musimy zmapować na nasz `ViewHolder`. W tym celu musimy naspisać metodę `getItemDetails`"
   ]
  },
  {
   "cell_type": "code",
   "execution_count": null,
   "id": "f5cee177-f4f6-4723-b578-07145f309888",
   "metadata": {},
   "outputs": [],
   "source": [
    "public ItemDetails<Long> getItemDetails(@NonNull MotionEvent e) {}"
   ]
  },
  {
   "cell_type": "markdown",
   "id": "5cf90eb4-40fb-4fb7-87dc-bcd0c332378f",
   "metadata": {},
   "source": [
    "W pierwszym kroku potrzebujemy dostać się do naszego `ViewHolder` - zapiszemy go w obiekcie `View`. Możemy się do niego dostać wywołując metodę `findChildViewHolder` z klasy `RecyclerView`"
   ]
  },
  {
   "cell_type": "code",
   "execution_count": null,
   "id": "0506c2b4-c496-4d0f-a717-cf3ddcfc11f4",
   "metadata": {},
   "outputs": [],
   "source": [
    "View view = recyclerView.findChildViewUnder(e.getX(), e.getY());"
   ]
  },
  {
   "cell_type": "markdown",
   "id": "8856dcfd-50d4-426f-8ae4-3740ae3955a4",
   "metadata": {},
   "source": [
    "Metoda ta przyjmuje dwa argumenty\n",
    "- `x` pozycję horyzontalną wyrażoną w pikselach\n",
    "- `y` pozycję wertykalną wyrażoną w pikselach\n",
    "\n",
    "Przekazując instancję `MotionEvent` z wywołanymi metodami `getX` i `getY` możemy ustalić który element został zaznaczony. Następnie sprawdzamy czy udało się zwrócić `ViewHolder` w warunku `if`, jeżeli wszystko poszło pomyślnie metoda zwraca obiekt typu `ItemDetails`, w przeciwnym razie zwracamy `null`"
   ]
  },
  {
   "cell_type": "code",
   "execution_count": null,
   "id": "2ae1573c-177e-46c5-9362-b9c596583f10",
   "metadata": {},
   "outputs": [],
   "source": [
    "return ((NumberListAdapter.NumberListViewHolder)recyclerView\n",
    "    .getChildViewHolder(view)).getItemDetails();"
   ]
  },
  {
   "cell_type": "markdown",
   "id": "98b47ff9-27a1-4f36-9ff8-43f02f3bc31d",
   "metadata": {},
   "source": [
    "Obiekt `ItemDetails` musi zawierać dwie informacje:\n",
    "- `position` - pozycję elementu `RecyclerView`\n",
    "- `selectionId` - unikalny identyfikator elementu `RecyclerView`\n",
    "\n",
    "Aby otrzymać te elementy do klasy `NumberListAdapter.NumberViewHolder` dodajemy metodę `getItemDetails` zwracającą `ItemDetail`."
   ]
  },
  {
   "cell_type": "code",
   "execution_count": null,
   "id": "c81fddbb-858f-4a0b-b595-2ba89307265d",
   "metadata": {},
   "outputs": [],
   "source": [
    "public ItemDetailsLookup.ItemDetails<Long> getItemDetails() {\n",
    "    return new ItemDetailsLookup.ItemDetails<Long>() {\n",
    "        @Override\n",
    "        public int getPosition() {\n",
    "            return getAdapterPosition();\n",
    "        }\n",
    "\n",
    "        @NonNull\n",
    "        @Override\n",
    "        public Long getSelectionKey() {\n",
    "            return getItemId();\n",
    "        }\n",
    "    };\n",
    "}"
   ]
  },
  {
   "cell_type": "markdown",
   "id": "4bcd5cee-0c80-4a3d-8d35-0fcd29a6a09c",
   "metadata": {},
   "source": [
    "Zwracany obiekt (klasa anonimowa) musi implementować dwie metody. Aktualną pozycję wyciągamy przez wyołanie metody `getAdapterPosition` - metoda zwraca `Adapter` który jako ostatni był powiązany z tym `ViewHolder` lub `null` jeżeli takiego powiązanie nie było. W metodzie `getSelectionKey` zwracamy wywołanie metody `getItemId` klasy `RecyclerView`.\n",
    "\n",
    "Kolejnym krokiem będzie zmienienie koloru tła zaznaczonego elementu. Możemy to zdefiniować w pliku `xml`. Do folderu **res -> drawable** dodajemy nowy plik **Drawable Resource File** (`item_background.xml`), jako **root element** wybieramy `selector`. Chcemy zdefiniować dwa kolory i ustawić jeden z nich dla stanu aktywnego\n"
   ]
  },
  {
   "cell_type": "code",
   "execution_count": null,
   "id": "d4b54c1c-5903-4b31-be1c-89ae4629a075",
   "metadata": {},
   "outputs": [],
   "source": [
    "<?xml version=\"1.0\" encoding=\"utf-8\"?>\n",
    "<selector xmlns:android=\"http://schemas.android.com/apk/res/android\">\n",
    "    <item android:drawable=\"@android:color/holo_blue_bright\" android:state_activated=\"true\" />\n",
    "    <item android:drawable=\"@android:color/white\" />\n",
    "</selector>"
   ]
  },
  {
   "cell_type": "markdown",
   "id": "820ca789-d390-436b-b172-c47258c59b65",
   "metadata": {},
   "source": [
    "Kolor stanu aktywnego ustawiamy przez zmianę domyślnej wartości `android:state_activated` na `true`. W ten sposób zmianę tła będziemy mieć połączoną z właściwością `isSelected` elementu. \n",
    "\n",
    "Żeby z niego skorzystać potrzebujemy jeszcze jednego elementu - `SelectionTracker`. W klasie `NumberListAdapter` dodajemy odpowiednie pole z `setterem`"
   ]
  },
  {
   "cell_type": "code",
   "execution_count": null,
   "id": "39492abb-6de2-4348-a25b-5c4a9d816471",
   "metadata": {},
   "outputs": [],
   "source": [
    "    private SelectionTracker<Long> selectionTracker;\n",
    "    public void setSelectionTracker(SelectionTracker<Long> selectionTracker) {\n",
    "        this.selectionTracker = selectionTracker;\n",
    "    }"
   ]
  },
  {
   "cell_type": "markdown",
   "id": "84654a83-91b3-4374-9061-ee27748927b9",
   "metadata": {},
   "source": [
    "`SelectionTracker` umożliwia śledzenie wszystkich elementów zaznaczonych przez użytkownika i pozwala sprawdzić czy dany element jest zaznaczony czy nie. Zmodyfikujmy metodę `bind` klasy `ViewHolder` aby umożliwić śledzenie - robimy to poprzez ustawienie pola `isActivated` na `itemView`"
   ]
  },
  {
   "cell_type": "code",
   "execution_count": null,
   "id": "0177fa09-3f96-4067-87f9-c3fab0e68686",
   "metadata": {},
   "outputs": [],
   "source": [
    "        public void bind(int value, boolean isActivated){\n",
    "            textView.setText(String.valueOf(value));\n",
    "            itemView.setActivated(isActivated);\n",
    "        }"
   ]
  },
  {
   "cell_type": "markdown",
   "id": "d2c32d30-6411-43b8-997c-564d08028797",
   "metadata": {},
   "source": [
    "Teraz musimy zmodyfikować wywołanie w metodzie `onBindViewHolder`"
   ]
  },
  {
   "cell_type": "code",
   "execution_count": null,
   "id": "96e82296-35ad-4aa6-b5d3-6cbcded82bb0",
   "metadata": {},
   "outputs": [],
   "source": [
    "    @Override\n",
    "    public void onBindViewHolder(@NonNull NumberListAdapter.NumberListViewHolder holder, int position) {\n",
    "        holder.bind(numberList.get(position), selectionTracker.isSelected((long)position));\n",
    "    }"
   ]
  },
  {
   "cell_type": "markdown",
   "id": "141a40bc-5553-4058-83b0-6a60a0992b7a",
   "metadata": {},
   "source": [
    "Na instancji `SelectionTracker` wywołujemy metodę `isSelected` sptawdzającą czy element o zadanym `id` jest zaznaczony przez użytkownika. Jako `id` przekazujemy `position` zrzutowany na `long`.\n",
    "\n",
    "Ostatnim krokiem jest utworzenie `SelectionTracker` w klasie `MainActivity` i połączenie go z naszym `RecyclerView`. "
   ]
  },
  {
   "cell_type": "code",
   "execution_count": null,
   "id": "01160aff-153e-4db4-9b09-8c60b457c561",
   "metadata": {},
   "outputs": [],
   "source": [
    "recyclerView.setAdapter(numberListAdapter);\n",
    "SelectionTracker<Long> selectionTracker = new SelectionTracker.Builder<>(\n",
    "    \"numberSelection\",\n",
    "    recyclerView,\n",
    "    new StableIdKeyProvider(recyclerView),\n",
    "    new NumberItemDetailsLookup(recyclerView),\n",
    "    StorageStrategy.createLongStorage()\n",
    ").withSelectionPredicate(\n",
    "    SelectionPredicates.createSelectAnything()\n",
    ").build();\n",
    "numberListAdapter.setSelectionTracker(selectionTracker);"
   ]
  },
  {
   "cell_type": "markdown",
   "id": "9c43f739-d3ad-4950-8778-afbecc1c1487",
   "metadata": {},
   "source": [
    "Tutaj istotna jest kolejność wykonania\n",
    "- tworzymy `RecyclerView`\n",
    "- powiązujemy `Adapter` z `RecyclerView`\n",
    "- powiązujemy `SelectionTracker` z `RecyclerView`\n",
    "\n",
    "Aby utworzyć `SelectionTracker` wykorzystujemy `Builder`"
   ]
  },
  {
   "cell_type": "code",
   "execution_count": null,
   "id": "fa1edcde-fa5b-4f99-ade9-50b583a0fd1d",
   "metadata": {},
   "outputs": [],
   "source": [
    "SelectionTracker<Long> selectionTracker = new SelectionTracker.Builder<>()"
   ]
  },
  {
   "cell_type": "markdown",
   "id": "163fb167-c6f3-468c-ad92-fc33134ee0b4",
   "metadata": {},
   "source": [
    "Przyjmuje on szereg argumentów\n",
    "- `selectionId` - `String` jednoznacznie identyfikujący `SelectionTracker` dla danej aktywności\n",
    "- `recyclerView` - instancja `RecyclerView` na którym wywołujemy `SelectionTracker`\n",
    "- `keyProvider` - źródło kluczy po których rozróżniamy elementy - tutaj wykorzystaliśmy domyślną implementację klasy `StableIdKeyProvider`\n",
    "- `detailsLookup` - źródło informacji o elementach `Recyclerview` (pozycja elementu, unikalny identyfikator elementu)\n",
    "- `storage` - strategia przechowywania stanu - możemy przechować informację o tym, które elementy są aktualnie zaznaczone\n",
    "\n",
    "Następnie wywołujemy funkcję `withSelectionPredicate`, która pozwala nam określić sposób w jaki stosujemy zaznaczenie (możemy określić ograniczenia). Tutaj wywołana jest metoda `createSelectionAnything` nie posiadająca żadnych ograniczeń - jednocześnie zezwala na zaznaczenie wielu elementów.\n",
    "    "
   ]
  },
  {
   "cell_type": "markdown",
   "id": "47d6128e-d54f-487f-b9dd-dc234dcc1a81",
   "metadata": {},
   "source": [
    "Na tym etapie możemy przetestować aplikację."
   ]
  },
  {
   "cell_type": "markdown",
   "id": "68741fc9-7208-421c-bcae-9955e4736604",
   "metadata": {},
   "source": [
    "<img src=\"https://media1.giphy.com/media/7VOdnpyhosbBDIQPR0/giphy.gif?cid=790b76117ce18b657fd9003f6e29b87c453b5bfad7667dad&rid=giphy.gif&ct=g\" width=\"200\" />"
   ]
  },
  {
   "cell_type": "code",
   "execution_count": null,
   "id": "c601c865-4524-4c4a-b857-cc02a6ddfd39",
   "metadata": {},
   "outputs": [],
   "source": []
  }
 ],
 "metadata": {
  "kernelspec": {
   "display_name": "Java",
   "language": "java",
   "name": "java"
  },
  "language_info": {
   "codemirror_mode": "java",
   "file_extension": ".jshell",
   "mimetype": "text/x-java-source",
   "name": "Java",
   "pygments_lexer": "java",
   "version": "17+35-2724"
  }
 },
 "nbformat": 4,
 "nbformat_minor": 5
}
