{
 "cells": [
  {
   "cell_type": "markdown",
   "id": "644c4ba3-0131-4671-a7ec-29c1adca3f14",
   "metadata": {},
   "source": [
    "# 3.4 QuickYoga"
   ]
  },
  {
   "cell_type": "markdown",
   "id": "8c2355ee-89d2-47e0-b1a5-abd443217266",
   "metadata": {},
   "source": [
    "Aplikacja wykorzystuje `RecyclerView` oraz kilka elementów pozwalających zmodyfikować wygląd istniejących kontrolek oraz utworzenia nowych, bazujących na już istniejących. Również wykorzystamy `TextToSpeech` oraz `MediaPlayer`."
   ]
  },
  {
   "cell_type": "markdown",
   "id": "50170153-6064-441f-bc57-058d1feb5420",
   "metadata": {},
   "source": [
    "<img src=\"https://media3.giphy.com/media/vmZ6b9CGnFihvmYrGT/giphy.gif?cid=790b7611ec174e1283189e1ed95201abaf1700ead6582144&rid=giphy.gif&ct=g\" width=\"200\" />"
   ]
  },
  {
   "cell_type": "markdown",
   "id": "3fc6d100-6149-43e8-ad70-c5c8c63ecf05",
   "metadata": {},
   "source": [
    "## **Layout**"
   ]
  },
  {
   "cell_type": "markdown",
   "id": "f0ffcb5b-3b4d-4e0b-bded-4013ec546b5b",
   "metadata": {},
   "source": [
    "Rozpocznijmy od layoutu naszej aktywności głównej"
   ]
  },
  {
   "cell_type": "code",
   "execution_count": null,
   "id": "10f67985-8a53-465c-99d2-07a1cac0b514",
   "metadata": {},
   "outputs": [],
   "source": [
    "<?xml version=\"1.0\" encoding=\"utf-8\"?>\n",
    "<androidx.constraintlayout.widget.ConstraintLayout xmlns:android=\"http://schemas.android.com/apk/res/android\"\n",
    "    xmlns:app=\"http://schemas.android.com/apk/res-auto\"\n",
    "    xmlns:tools=\"http://schemas.android.com/tools\"\n",
    "    android:layout_width=\"match_parent\"\n",
    "    android:layout_height=\"match_parent\"\n",
    "    android:background=\"@color/backgroundColor\"\n",
    "    tools:context=\".MainActivity\">\n",
    "\n",
    "    <LinearLayout\n",
    "        android:layout_width=\"match_parent\"\n",
    "        android:layout_height=\"match_parent\"\n",
    "        android:orientation=\"vertical\"\n",
    "        android:gravity=\"center\"\n",
    "        android:padding=\"@dimen/main_screen_padding\">\n",
    "\n",
    "        <ImageView\n",
    "            android:layout_width=\"match_parent\"\n",
    "            android:layout_height=\"wrap_content\"\n",
    "            android:contentDescription=\"@string/logo\"\n",
    "            android:src=\"@drawable/yoga_logo\"\n",
    "            android:layout_marginBottom=\"100dp\"/>\n",
    "\n",
    "        <LinearLayout\n",
    "            android:id=\"@+id/start_button_layout\"\n",
    "            android:layout_width=\"@dimen/start_button_x\"\n",
    "            android:layout_height=\"@dimen/start_button_y\"\n",
    "            android:gravity=\"center\">\n",
    "\n",
    "            <TextView\n",
    "                android:layout_width=\"wrap_content\"\n",
    "                android:layout_height=\"wrap_content\"\n",
    "                android:text=\"@string/start\"\n",
    "                android:textColor=\"@color/textColor\"\n",
    "                android:textStyle=\"bold\"\n",
    "                android:textSize=\"45sp\"/>\n",
    "\n",
    "        </LinearLayout>\n",
    "    </LinearLayout>\n",
    "\n",
    "</androidx.constraintlayout.widget.ConstraintLayout>"
   ]
  },
  {
   "cell_type": "markdown",
   "id": "d67a5bff-5f1b-432a-9c23-fc5ccc476fdc",
   "metadata": {},
   "source": [
    "Do pliku `strings.xml` dodajemy"
   ]
  },
  {
   "cell_type": "code",
   "execution_count": null,
   "id": "8332a791-737e-43dd-adcf-2ed2f864549a",
   "metadata": {},
   "outputs": [],
   "source": [
    "<resources>\n",
    "    <string name=\"app_name\">QuickYogaAppJava</string>\n",
    "\n",
    "    <string name=\"logo\">logo</string>\n",
    "    <string name=\"start\">START</string>\n",
    "    <string name=\"wait_text\">GET READY</string>\n",
    "    <string name=\"counter_start_default\">10</string>\n",
    "    <string name=\"yoga_position_name\">Yoga Position Name</string>\n",
    "    <string name=\"image\">image</string>\n",
    "    <string name=\"upcoming_position\">Upcoming position:</string>\n",
    "    <string name=\"complete\">END</string>\n",
    "    <string name=\"end_image\">end image</string>\n",
    "    <string name=\"finish\">FINISH</string>\n",
    "</resources>"
   ]
  },
  {
   "cell_type": "markdown",
   "id": "1b0504e4-55c1-432c-9b55-67fe739a4d2b",
   "metadata": {},
   "source": [
    "W pliku `colors.xml` definiujemy kilka dodatkowych kolorów"
   ]
  },
  {
   "cell_type": "code",
   "execution_count": null,
   "id": "5b155264-996a-4b39-b9be-15d08fb55868",
   "metadata": {},
   "outputs": [],
   "source": [
    "    <color name=\"textColor\">#4EBEE0</color>\n",
    "    <color name=\"backgroundColor\">#000000</color>\n",
    "    <color name=\"buttonBackgroundColor\">#6ABFA5</color>"
   ]
  },
  {
   "cell_type": "markdown",
   "id": "5dfed30e-b44d-4202-8589-388c80013c6c",
   "metadata": {},
   "source": [
    "Następnie tworzymy plik `dimen.xml` w katalogu `res` i definiujemy kilka wartości, które posłużą nam w projektowaniu layoutu"
   ]
  },
  {
   "cell_type": "code",
   "execution_count": null,
   "id": "ae5701de-e5b7-4011-b331-0fa422a46a53",
   "metadata": {},
   "outputs": [],
   "source": [
    "<?xml version=\"1.0\" encoding=\"utf-8\"?>\n",
    "<resources>\n",
    "    <dimen name=\"main_screen_padding\">6dp</dimen>\n",
    "    <dimen name=\"start_button_x\">300dp</dimen>\n",
    "    <dimen name=\"start_button_y\">150dp</dimen>\n",
    "    <dimen name=\"progress_bar_size\">300dp</dimen>\n",
    "</resources>"
   ]
  },
  {
   "cell_type": "markdown",
   "id": "031acee9-8e8b-4692-afab-ec2a7404a19f",
   "metadata": {},
   "source": [
    "Dodajmy do projektu drugą aktywność, na której będziemy wyświetlać wszystkie liczniki oraz `RecyclerView`"
   ]
  },
  {
   "cell_type": "code",
   "execution_count": null,
   "id": "30dfaa87-596a-4440-8665-4b3e90d5cc11",
   "metadata": {},
   "outputs": [],
   "source": [
    "<?xml version=\"1.0\" encoding=\"utf-8\"?>\n",
    "<RelativeLayout xmlns:android=\"http://schemas.android.com/apk/res/android\"\n",
    "    xmlns:app=\"http://schemas.android.com/apk/res-auto\"\n",
    "    xmlns:tools=\"http://schemas.android.com/tools\"\n",
    "    android:layout_width=\"match_parent\"\n",
    "    android:layout_height=\"match_parent\"\n",
    "    tools:context=\".ExerciseActivity\">\n",
    "\n",
    "</RelativeLayout>"
   ]
  },
  {
   "cell_type": "markdown",
   "id": "1a6ab268-66b4-4820-b511-99ccd0e3baee",
   "metadata": {},
   "source": [
    "W kolejnym kroku obsłużymy `onClick` aby móc przejść z głównej aktywności do aktywności z ćwiczeniami"
   ]
  },
  {
   "cell_type": "code",
   "execution_count": null,
   "id": "8a139e37-3974-41d0-b3d7-fc346be40850",
   "metadata": {},
   "outputs": [],
   "source": [
    "override fun onCreate(savedInstanceState: Bundle?) {\n",
    "    super.onCreate(savedInstanceState)\n",
    "    setContentView(R.layout.activity_main)\n",
    "\n",
    "    findViewById<View>(R.id.start_button_layout).setOnClickListener {\n",
    "        val intent = Intent(this, ExerciseActivity::class.java)\n",
    "        startActivity(intent)\n",
    "    }\n",
    "}"
   ]
  },
  {
   "cell_type": "markdown",
   "id": "0e93fca6-b96f-439e-b798-e01d17625622",
   "metadata": {},
   "source": [
    "Chcemy pozbyć się `NavigationBar` z głównej aktywności, w tym celu do metody `onCreate` dodajemy"
   ]
  },
  {
   "cell_type": "code",
   "execution_count": null,
   "id": "55daef3d-7e91-4e7d-85ed-758808156573",
   "metadata": {},
   "outputs": [],
   "source": [
    "if (Build.VERSION.SDK_INT >= Build.VERSION_CODES.R) {\n",
    "    window.setDecorFitsSystemWindows(false)\n",
    "} else {\n",
    "    window.decorView.systemUiVisibility = View.SYSTEM_UI_FLAG_FULLSCREEN\n",
    "}"
   ]
  },
  {
   "cell_type": "markdown",
   "id": "7ddd5d86-ac43-4a03-b189-602020bcfc92",
   "metadata": {},
   "source": [
    "Chcemy również pozbyć się `ActionBar` jak i zablokować orientację ekranu w pozycji `portrait`, w tym celu w pliku `AndroidManifest` dodajemy"
   ]
  },
  {
   "cell_type": "code",
   "execution_count": null,
   "id": "ef615490-7056-477b-a563-4849e62ce54e",
   "metadata": {},
   "outputs": [],
   "source": [
    "<activity\n",
    "    android:name=\".ExerciseActivity\"\n",
    "    android:screenOrientation=\"portrait\"\n",
    "    android:theme=\"@style/Theme.AppCompat.Light.NoActionBar\"\n",
    "    android:exported=\"false\" />\n",
    "<activity\n",
    "    android:name=\".MainActivity\"\n",
    "    android:theme=\"@style/Theme.AppCompat.Light.NoActionBar\"\n",
    "    android:screenOrientation=\"portrait\"\n",
    "    android:exported=\"true\">"
   ]
  },
  {
   "cell_type": "markdown",
   "id": "bf72bc19-16b9-41ff-800d-4cf26a4ff8ab",
   "metadata": {},
   "source": [
    "Kolejnym krokiem będzie zmiana koloru `ActionBar` w `ExerciseActivity` w tym celu adefiniujmy odpowiednie elementy w layoucie"
   ]
  },
  {
   "cell_type": "code",
   "execution_count": null,
   "id": "1c718fcb-f174-47f3-9fba-879b9f4dca9b",
   "metadata": {},
   "outputs": [],
   "source": [
    "<?xml version=\"1.0\" encoding=\"utf-8\"?>\n",
    "<RelativeLayout xmlns:android=\"http://schemas.android.com/apk/res/android\"\n",
    "    xmlns:app=\"http://schemas.android.com/apk/res-auto\"\n",
    "    xmlns:tools=\"http://schemas.android.com/tools\"\n",
    "    android:layout_width=\"match_parent\"\n",
    "    android:layout_height=\"match_parent\"\n",
    "    android:background=\"@color/backgroundColor\"\n",
    "    tools:context=\".ExerciseActivity\">\n",
    "\n",
    "    <androidx.appcompat.widget.Toolbar\n",
    "        android:id=\"@+id/toolbar\"\n",
    "        android:layout_width=\"match_parent\"\n",
    "        android:layout_height=\"?android:attr/actionBarSize\"\n",
    "        android:background=\"@color/backgroundColor\"/>\n",
    "\n",
    "</RelativeLayout>"
   ]
  },
  {
   "cell_type": "markdown",
   "id": "55bd6cd5-24e6-4713-bed6-99b888db7669",
   "metadata": {},
   "source": [
    "Szerokość `Toolbar` ustawiamy na `match_parent`, wysokość jest standardowo zdefiniowana w atrybutach.\n",
    "\n",
    "Następnie dodajmy nawigację z poziomu kodu. Przejdźmy do klasy `ExerciseActivity` i dodajmy obsługę utworzonego `Toolbar`."
   ]
  },
  {
   "cell_type": "code",
   "execution_count": null,
   "id": "27e3f1a5-055e-4c58-baf2-d9a3e91c1e9d",
   "metadata": {},
   "outputs": [],
   "source": [
    "override fun onCreate(savedInstanceState: Bundle?) {\n",
    "    super.onCreate(savedInstanceState)\n",
    "    setContentView(R.layout.activity_exercise)\n",
    "    val toolbar: Toolbar = findViewById(R.id.toolbar)\n",
    "    setSupportActionBar(toolbar)\n",
    "}"
   ]
  },
  {
   "cell_type": "markdown",
   "id": "ed4c42be-5278-4f2a-ad45-3f560c347aeb",
   "metadata": {},
   "source": [
    "Dodajmy możliwość nawigacji powrotnej"
   ]
  },
  {
   "cell_type": "code",
   "execution_count": null,
   "id": "7de738b1-6605-4488-b574-e47e0d41d642",
   "metadata": {},
   "outputs": [],
   "source": [
    "override fun onCreate(savedInstanceState: Bundle?) {\n",
    "    super.onCreate(savedInstanceState)\n",
    "    setContentView(R.layout.activity_exercise)\n",
    "    val toolbar: Toolbar = findViewById(R.id.toolbar)\n",
    "    setSupportActionBar(toolbar)\n",
    "    supportActionBar?.setDisplayHomeAsUpEnabled(true) // wyświetla przycisk powrotu\n",
    "    toolbar.setNavigationOnClickListener { onBackPressed() } // powrót do poprzedniej aktywności\n",
    "}"
   ]
  },
  {
   "cell_type": "markdown",
   "id": "7511feff-4475-48b9-b11d-a625da898618",
   "metadata": {},
   "source": [
    "Musimy jeszcze zmienić kolor przycisku nawigacji powrotnej na `Toolbar`. Przejdźmy do pliku `themes.xml` i zdefiniujmy nowy styl"
   ]
  },
  {
   "cell_type": "code",
   "execution_count": null,
   "id": "619ba4d4-3295-434a-b920-2fa8dd2f009c",
   "metadata": {},
   "outputs": [],
   "source": [
    "<style name=\"ExerciseToolbarTheme\"\n",
    "    parent=\"ThemeOverlay.AppCompat.ActionBar\">\n",
    "    <item name=\"colorControlNormal\">\n",
    "        @color/textColor\n",
    "    </item>\n",
    "</style>"
   ]
  },
  {
   "cell_type": "markdown",
   "id": "02147dd8-6f72-42d6-82d9-453786e8afbf",
   "metadata": {},
   "source": [
    "Styl jest utworzony tylko dla dodanego elementu `Toolbar`, którego rodzicem jest `ActionBar`. Przejdźmy do `activity_exercise.xml` i dodajmy utworzony styl jako `theme` naszego `Toolbar` oraz zmieńmy kolor czcionki"
   ]
  },
  {
   "cell_type": "code",
   "execution_count": null,
   "id": "77482839-9703-4d72-99ac-3516979544e5",
   "metadata": {},
   "outputs": [],
   "source": [
    "<androidx.appcompat.widget.Toolbar\n",
    "    android:id=\"@+id/toolbar\"\n",
    "    android:theme=\"@style/ExerciseToolbarTheme\"\n",
    "    android:layout_width=\"match_parent\"\n",
    "    app:titleTextColor=\"@color/textColor\"\n",
    "    android:layout_height=\"?android:attr/actionBarSize\"\n",
    "    android:background=\"@color/backgroundColor\"/>"
   ]
  },
  {
   "cell_type": "markdown",
   "id": "361c22b9-9d3b-428b-8171-898772199939",
   "metadata": {},
   "source": [
    "Zdefiniujmy kształt i prostą animację przycisku **START**. Wpierw utwórzmy nowy plik `start_button.xml` i dodajmy go do folderu `drawable`. Jako element **root** wybieram `shape`."
   ]
  },
  {
   "cell_type": "code",
   "execution_count": null,
   "id": "3ecb2395-dbf5-41de-a59c-6b23eda7a732",
   "metadata": {},
   "outputs": [],
   "source": [
    "<?xml version=\"1.0\" encoding=\"utf-8\"?>\n",
    "<shape xmlns:android=\"http://schemas.android.com/apk/res/android\"\n",
    "    android:shape=\"rectangle\">\n",
    "    <stroke android:width=\"7dp\"\n",
    "        android:color=\"@color/textColor\"/>\n",
    "    <solid android:color=\"@color/backgroundColor\"/>\n",
    "    <corners android:radius=\"170dp\"/>\n",
    "\n",
    "</shape>"
   ]
  },
  {
   "cell_type": "markdown",
   "id": "feff86e0-1b19-41af-904b-280acbe6ee77",
   "metadata": {},
   "source": [
    "- `stroke` - ramka\n",
    "- `solid` - kolor wypełnienia\n",
    "- `corners` - narożniki\n",
    "\n",
    "Dodajmy efekt który będzie się pojawiał po naciśnięciu naszego przycisku. Do folderu `drawable` dodaję kolejny plik `start_button_ripple_bg.xml` - jako element **root** wybieram `ripple`"
   ]
  },
  {
   "cell_type": "code",
   "execution_count": null,
   "id": "0ba7ce0a-c978-4664-96f8-1004180287d2",
   "metadata": {},
   "outputs": [],
   "source": [
    "<?xml version=\"1.0\" encoding=\"utf-8\"?>\n",
    "<ripple xmlns:android=\"http://schemas.android.com/apk/res/android\"\n",
    "    android:color=\"@color/teal_200\">\n",
    "    <item android:id=\"@+id/ripple_effect\">\n",
    "        <shape android:shape=\"rectangle\"/>\n",
    "    </item>\n",
    "    <item android:drawable=\"@drawable/start_button\"/>\n",
    "\n",
    "</ripple>"
   ]
  },
  {
   "cell_type": "markdown",
   "id": "188bbc9e-a4ec-4b32-b99e-b5637e85957a",
   "metadata": {},
   "source": [
    "- `color` - element wymagany, kolor efektu\n",
    "- `<item android:drawable=\"@drawable/start_button\"/>` - wskazujemy na którym elemencie efekt ma zostać zastosowany\n",
    "\n",
    "Przejdźmy do `activity_main.xml` i zastosujmy utworzony kształt z efektem na przycisku."
   ]
  },
  {
   "cell_type": "code",
   "execution_count": null,
   "id": "8c86085d-7414-4232-821e-e002ad4a26df",
   "metadata": {},
   "outputs": [],
   "source": [
    "<LinearLayout\n",
    "    android:id=\"@+id/start_button_layout\"\n",
    "    android:layout_width=\"@dimen/start_button_x\"\n",
    "    android:layout_height=\"@dimen/start_button_y\"\n",
    "    android:background=\"@drawable/start_button_ripple_bg\"\n",
    "    android:gravity=\"center\">"
   ]
  },
  {
   "cell_type": "markdown",
   "id": "68f57564-0671-4bd0-abb4-a2ea71b59dd6",
   "metadata": {},
   "source": [
    "Na tym etapie możemy przetestować funkcjonalność."
   ]
  },
  {
   "cell_type": "markdown",
   "id": "2a5fc540-9228-4cd4-ad1e-4dd1082c6266",
   "metadata": {},
   "source": [
    "<img src=\"https://media1.giphy.com/media/5Ombs7SjB6D5B881TF/giphy.gif?cid=790b76116c819433e87262554ef1fca70628f4afe38e02fb&rid=giphy.gif&ct=g\" width=\"200\" />"
   ]
  },
  {
   "cell_type": "markdown",
   "id": "daa10eca-ea33-4a6b-bcdc-f03b703c53df",
   "metadata": {},
   "source": [
    "## **ProgressBar**"
   ]
  },
  {
   "cell_type": "markdown",
   "id": "c2f95f1a-f28a-4de1-ad1a-60b325faf6ec",
   "metadata": {},
   "source": [
    "W tej części zaprojektujemy i dodamu własny `ProgressBar` składający się z pola `TextView` oraz dwóch okręgów. W pierwszym kroku dodajmy nowy plik do folderu `drawable` o nazwie `custom_progress_bar_external_circle`, zdefiniujemy w nim podstawowy kształt zewnętrznego okręgu. Jako **root** wyblieram `layer-list`. `layer-list` wykorzystujemy gdy potrzebujemy kilku plików `xml` definiujących pojedynczy element."
   ]
  },
  {
   "cell_type": "code",
   "execution_count": null,
   "id": "1ff1e132-00b3-4a88-82e9-0e5aaf3c9347",
   "metadata": {},
   "outputs": [],
   "source": [
    "<?xml version=\"1.0\" encoding=\"utf-8\"?>\n",
    "<layer-list xmlns:android=\"http://schemas.android.com/apk/res/android\">\n",
    "    <item>\n",
    "        <shape android:shape=\"ring\"\n",
    "            android:innerRadiusRatio=\"2.5\"\n",
    "            android:thicknessRatio=\"50.0\"\n",
    "            android:useLevel=\"true\">\n",
    "            <solid android:color=\"@color/textColor\"/>\n",
    "        </shape>\n",
    "    </item>\n",
    "</layer-list>"
   ]
  },
  {
   "cell_type": "markdown",
   "id": "4078b1e4-6064-46f7-ad3e-850ba2ea82f2",
   "metadata": {},
   "source": [
    "- `useLevel` - przyjmuje `true` jeżeli element jest używany jako `listDrawable`\n",
    "\n",
    "Podobnie dodajmy plik dla wewnętrznego okręgu - `custom_progress_bar_iner_circle`"
   ]
  },
  {
   "cell_type": "code",
   "execution_count": null,
   "id": "c4a3df45-700a-44df-a847-b6e2056e1979",
   "metadata": {},
   "outputs": [],
   "source": [
    "<?xml version=\"1.0\" encoding=\"utf-8\"?>\n",
    "<layer-list xmlns:android=\"http://schemas.android.com/apk/res/android\">\n",
    "    <item>\n",
    "        <shape\n",
    "            android:innerRadiusRatio=\"3.5\"\n",
    "            android:shape=\"ring\"\n",
    "            android:thicknessRatio=\"18.0\"\n",
    "            android:useLevel=\"false\">\n",
    "            <solid android:color=\"@color/textColor\" />\n",
    "        </shape>\n",
    "    </item>\n",
    "</layer-list>"
   ]
  },
  {
   "cell_type": "markdown",
   "id": "4e164008-8995-4340-99fb-241c7703fb94",
   "metadata": {},
   "source": [
    "Przejdźmy do pliku `activity_exercise.xml` i dodajmy kilka elementów. Pod `Toolbar` dodamy `LinearLayout` w którym umieścimy wszystkie elementy `ProgressBar`"
   ]
  },
  {
   "cell_type": "code",
   "execution_count": null,
   "id": "8bdcad30-8a13-4e84-aba5-f7b61c0aae10",
   "metadata": {},
   "outputs": [],
   "source": [
    "    <LinearLayout\n",
    "        android:id=\"@+id/linear_layout_custom_view\"\n",
    "        android:layout_width=\"match_parent\"\n",
    "        android:layout_height=\"match_parent\"\n",
    "        android:layout_below=\"@id/toolbar\"\n",
    "        android:gravity=\"center\"\n",
    "        android:orientation=\"vertical\">"
   ]
  },
  {
   "cell_type": "markdown",
   "id": "97ace7fb-d252-46f5-8a0f-11ed4f0f9a4e",
   "metadata": {},
   "source": [
    "Następnie dodajmy pole `TextView` które posłuży do wyświetlania tytułu ćwiczenia"
   ]
  },
  {
   "cell_type": "code",
   "execution_count": null,
   "id": "0b1084bc-ba78-43ff-9c1f-553c35ba04b6",
   "metadata": {},
   "outputs": [],
   "source": [
    "<TextView\n",
    "    android:layout_width=\"wrap_content\"\n",
    "    android:layout_height=\"wrap_content\"\n",
    "    android:text=\"START EXERCISE\"\n",
    "    android:textColor=\"@color/textColor\"\n",
    "    android:textSize=\"40sp\"\n",
    "    android:gravity=\"center\"/>"
   ]
  },
  {
   "cell_type": "markdown",
   "id": "d77cb6a1-7f18-41b7-9799-88cb4254080a",
   "metadata": {},
   "source": [
    "Kolejnym elementem będzie `FrameLayout` który pozwoli nam zebrać kilka elementów do wspólnego konteneru"
   ]
  },
  {
   "cell_type": "code",
   "execution_count": null,
   "id": "fec71a2d-17aa-4516-9ce4-496c9511f5ac",
   "metadata": {},
   "outputs": [],
   "source": [
    "<FrameLayout\n",
    "    android:layout_width=\"@dimen/progress_bar_size\"\n",
    "    android:layout_height=\"@dimen/progress_bar_size\"\n",
    "    android:background=\"@color/backgroundColor\">"
   ]
  },
  {
   "cell_type": "markdown",
   "id": "924b2ad6-fd36-42d7-bea0-c02282e712f2",
   "metadata": {},
   "source": [
    "Dalej rozpoczniemy dodawanie `ProgressBar`. Wpierw ustalamy styl który chcemy wykorzystać, tutaj będzie to **horyzontal**"
   ]
  },
  {
   "cell_type": "code",
   "execution_count": null,
   "id": "ae0aafa4-d7df-460e-8d2d-b03c6d18fde9",
   "metadata": {},
   "outputs": [],
   "source": [
    "<ProgressBar\n",
    "    android:id=\"@+id/progress_bar\"\n",
    "    android:layout_width=\"@dimen/progress_bar_size\"\n",
    "    android:layout_height=\"@dimen/progress_bar_size\"\n",
    "    style=\"?android:attr/progressBarStyleHorizontal\"/>"
   ]
  },
  {
   "cell_type": "markdown",
   "id": "e794f6e6-8e30-44e2-951f-807f8bf28d8f",
   "metadata": {},
   "source": [
    "następnie nasz wewnętrzny okrąg ustawimy jako tło "
   ]
  },
  {
   "cell_type": "code",
   "execution_count": null,
   "id": "5ac0fe7e-d927-40d8-8f90-d78c7fd0ee4c",
   "metadata": {},
   "outputs": [],
   "source": [
    "<ProgressBar\n",
    "    android:layout_gravity=\"center\"\n",
    "    android:background=\"@drawable/custom_progress_bar_inner_circle\"/>"
   ]
  },
  {
   "cell_type": "markdown",
   "id": "6d9fd673-1dec-4513-8482-b5ddc8a491e9",
   "metadata": {},
   "source": [
    "mamy 12 ćwiczeń, więc `max` ustawiamy na 12"
   ]
  },
  {
   "cell_type": "code",
   "execution_count": null,
   "id": "b0c40da5-bba3-4d7b-a990-ea0ebe47f2e0",
   "metadata": {},
   "outputs": [],
   "source": [
    "<ProgressBar\n",
    "    android:max=\"12\"\n",
    "/>"
   ]
  },
  {
   "cell_type": "markdown",
   "id": "c458d52a-54f4-4d81-ad18-d59a65bff2cc",
   "metadata": {},
   "source": [
    "znamy dokładnie liczbę elementów, więc ustawiamy `indeterminate` na `false`"
   ]
  },
  {
   "cell_type": "code",
   "execution_count": null,
   "id": "bd9bcb00-3178-47da-b5fc-c12ae7f42411",
   "metadata": {},
   "outputs": [],
   "source": [
    "<ProgressBar\n",
    "    android:indeterminate=\"false\"\n",
    "    android:max=\"12\"/>"
   ]
  },
  {
   "cell_type": "markdown",
   "id": "98c93714-11a1-4bda-b409-83f2d956d365",
   "metadata": {},
   "source": [
    "również chcemy pokazwywać odwrotny progres (od 100% do 0%) więc `progress` zostaje ustawiony na 100."
   ]
  },
  {
   "cell_type": "code",
   "execution_count": null,
   "id": "a598f00d-512c-49f2-aa36-f353972f566e",
   "metadata": {},
   "outputs": [],
   "source": [
    "<ProgressBar\n",
    "    android:progress=\"100\"/>"
   ]
  },
  {
   "cell_type": "markdown",
   "id": "33674ce5-9731-4a4c-8586-0ff97a862543",
   "metadata": {},
   "source": [
    "będziemy modyfikować zewnętrzny okrąg, więc `progressDrawable` ustawiam na `custom_progress_bar_external_circle`"
   ]
  },
  {
   "cell_type": "code",
   "execution_count": null,
   "id": "a082a4c9-ab00-44d4-b898-e138ff47a5f0",
   "metadata": {},
   "outputs": [],
   "source": [
    "<ProgressBar\n",
    "    android:id=\"@+id/progress_bar\"\n",
    "    android:layout_width=\"@dimen/progress_bar_size\"\n",
    "    android:layout_height=\"@dimen/progress_bar_size\"\n",
    "    style=\"?android:attr/progressBarStyleHorizontal\"\n",
    "    android:layout_gravity=\"center\"\n",
    "    android:background=\"@drawable/custom_progress_bar_inner_circle\"\n",
    "    android:indeterminate=\"false\"\n",
    "    android:max=\"12\"\n",
    "    android:progress=\"100\"\n",
    "    android:progressDrawable=\"@drawable/custom_progress_bar_external_circle\"\n",
    "    android:rotation=\"-90\"/>"
   ]
  },
  {
   "cell_type": "markdown",
   "id": "088a8bdb-3aa6-4733-9c5e-24de771255c2",
   "metadata": {},
   "source": [
    "chcemy zastosować odwrotny zegar, więc `rotation` zostaje ustawiony na -90."
   ]
  },
  {
   "cell_type": "markdown",
   "id": "d3bd8774-ab7b-4adc-affd-b27cdfe5bd47",
   "metadata": {},
   "source": [
    "Ostatnim elementem będzie pole `TextView` wyświetlający stan `ProgressBar`"
   ]
  },
  {
   "cell_type": "code",
   "execution_count": null,
   "id": "e1423a4c-7678-4489-9bb6-97e0a722c54c",
   "metadata": {},
   "outputs": [],
   "source": [
    "<LinearLayout\n",
    "    android:layout_width=\"wrap_content\"\n",
    "    android:layout_height=\"wrap_content\"\n",
    "    android:layout_gravity=\"center\"\n",
    "    android:gravity=\"center\"\n",
    "    android:background=\"@color/backgroundColor\">\n",
    "    <TextView\n",
    "        android:id=\"@+id/text_view_counter\"\n",
    "        android:layout_width=\"wrap_content\"\n",
    "        android:layout_height=\"wrap_content\"\n",
    "        android:textColor=\"@color/textColor\"\n",
    "        android:text=\"100\"\n",
    "        android:textSize=\"76sp\"\n",
    "        android:textStyle=\"bold\"/>\n",
    "</LinearLayout>"
   ]
  },
  {
   "cell_type": "markdown",
   "id": "27d326a1-2f3b-4127-8d44-993a3145b54a",
   "metadata": {},
   "source": [
    "Dodajmy prosty licznik do klasy `ExerciseActivity`"
   ]
  },
  {
   "cell_type": "markdown",
   "id": "a94f4d0f-ede4-434f-ad15-c13e4bdafeb6",
   "metadata": {},
   "source": [
    "Ćwiczenia będą pojawiać się co 5 sekund, więc zróbmy licznik odliczający od 5. Wpierw zdefiniujmy kilka zmiennych."
   ]
  },
  {
   "cell_type": "code",
   "execution_count": null,
   "id": "8537dc8a-04ef-4500-a648-fb1127bdd454",
   "metadata": {},
   "outputs": [],
   "source": [
    "private lateinit var timer: CountDownTimer\n",
    "\n",
    "private var progressBarValue = 0\n",
    "private val waitTimerDuration = 5000L\n",
    "private val timerInterval: Long = 1000\n",
    "private val progressInterval = 5"
   ]
  },
  {
   "cell_type": "markdown",
   "id": "5e1576b7-09d9-43c9-a107-1f70072947cf",
   "metadata": {},
   "source": [
    "- `progressBarValue` przechowuje wartość `ProgressBar`\n",
    "- `waitTimerDuration` czas oczekiwania\n",
    "- `timerInteval` czas po którym następuje zmiana licznika\n",
    "- `progressInterval` chcemy podzielić `ProgressBar` na 5 części"
   ]
  },
  {
   "cell_type": "markdown",
   "id": "6fe8aabc-1768-44b1-924f-508d97fd8f54",
   "metadata": {},
   "source": [
    "Następnie nadpiszemy metodę `onDestroy` i dodamy anulowanie `CountDownTimer` oraz zresetujemy wartość `ProgressBar`"
   ]
  },
  {
   "cell_type": "code",
   "execution_count": null,
   "id": "b5fa213f-92cb-44e3-8790-559f212a227b",
   "metadata": {},
   "outputs": [],
   "source": [
    "override fun onDestroy() {\n",
    "    timer.cancel()\n",
    "    progressBarValue = 0\n",
    "    super.onDestroy()\n",
    "}"
   ]
  },
  {
   "cell_type": "markdown",
   "id": "f91dc961-634f-4936-94e7-c51e7caea73c",
   "metadata": {},
   "source": [
    "Dodajmy metodę ustawiającą `ProgressBar`. Wpierw połączmy `ProgressBar` z elementem layoutu, i ustawmy progres na `progressBarValue`."
   ]
  },
  {
   "cell_type": "code",
   "execution_count": null,
   "id": "03a7115f-cf00-4ea9-a69f-2c2116284e4c",
   "metadata": {},
   "outputs": [],
   "source": [
    "private val progressBar by lazy { findViewById<ProgressBar>(R.id.progress_bar)}\n",
    "private val textViewCounter by lazy { findViewById<TextView>(R.id.text_view_counter) }\n",
    "\n",
    "private fun setupProgressBar() {\n",
    "    progressBar.progress = progressBarValue\n",
    "}"
   ]
  },
  {
   "cell_type": "markdown",
   "id": "329ea523-25b9-469c-927b-6d80b5b42f16",
   "metadata": {},
   "source": [
    "Następnie zainicjujmy `waitTimer`, musimy utworzyć nowy obiekt o typie `CountDownTimer` i dostarczyć implementacje dwóch metod.\n",
    "- `onTick` definiuje akcję po każdym interwale\n",
    "- `onFinish` definiuje akcje po zakończeniu odliczania\n",
    "\n",
    "`CountDownTimer` przyjmuje dwa argumenty\n",
    "- czas bezjednostkowy\n",
    "- interwał (jednostkę)"
   ]
  },
  {
   "cell_type": "code",
   "execution_count": null,
   "id": "7626fa8c-af59-4979-a3c1-eb2b24f7efd9",
   "metadata": {},
   "outputs": [],
   "source": [
    "timer = object: CountDownTimer(waitTimerDuration, timerInterval) {}\n",
    "    override fun onFinish() {}\n",
    "} }"
   ]
  },
  {
   "cell_type": "markdown",
   "id": "0fa61853-dc50-4b4d-93ba-7a80cedad4af",
   "metadata": {},
   "source": [
    "Dodajmy implementację `onFinish` - wyświetlimy wiadomość"
   ]
  },
  {
   "cell_type": "code",
   "execution_count": null,
   "id": "503a5e54-a453-4012-8c01-bb5742b7e2fb",
   "metadata": {},
   "outputs": [],
   "source": [
    "override fun onTick(l: Long) {\n",
    "    progressBarValue++\n",
    "    progressBar.progress = progressInterval - progressBarValue\n",
    "    textViewCounter.text = (progressInterval - progressBarValue).toString()\n",
    "}"
   ]
  },
  {
   "cell_type": "markdown",
   "id": "de3165e4-7699-492b-b18f-f2c8c850849a",
   "metadata": {},
   "source": [
    "Przejdźmy do implementacji metody `onTick`. Dodajemy pole `TextView` i wywołujemy metodę `findViewById`. Wpierw inkrementujemy wartość `progressBarValue`, następnie ustawiamy progres na `ProgressBar` i wyświetlamy odpowiedni text."
   ]
  },
  {
   "cell_type": "code",
   "execution_count": null,
   "id": "57ff6b5a-2fa3-4ad1-b607-8a6715164737",
   "metadata": {},
   "outputs": [],
   "source": [
    "override fun onFinish() {\n",
    "    Toast.makeText(this@ExerciseActivity, \"YOGA TIME\", Toast.LENGTH_SHORT).show()\n",
    "}"
   ]
  },
  {
   "cell_type": "markdown",
   "id": "571052b9-991d-4cf6-84f3-62532966f0c2",
   "metadata": {},
   "source": [
    "Implementację `CountDownTimer` kończymy wywołując metodę `start`"
   ]
  },
  {
   "cell_type": "code",
   "execution_count": null,
   "id": "9ecde803-11dc-4c48-9e38-5d4218472e3b",
   "metadata": {},
   "outputs": [],
   "source": [
    "timer = object: CountDownTimer(waitTimerDuration, timerInterval) {\n",
    "    override fun onTick(l: Long) {\n",
    "        progressBarValue++\n",
    "        progressBar.progress = waitProgressInterval - progressBarValue\n",
    "        textViewCounter.text = (waitProgressInterval - progressBarValue).toString()}\n",
    "    override fun onFinish() {\n",
    "        Toast.makeText(this@ExerciseActivity, \"YOGA TIME\", Toast.LENGTH_SHORT).show()\n",
    "        timer.cancel()\n",
    "        progressBarValue = 0\n",
    "        isYoga = !isYoga\n",
    "        setupProgressBar()\n",
    "    }\n",
    "}.start() }"
   ]
  },
  {
   "cell_type": "markdown",
   "id": "24ac15d0-7738-41d4-9155-e3c738c3832a",
   "metadata": {},
   "source": [
    "Do metody `onCreate` dodajmy wywołanie metody `setupProgressBar`"
   ]
  },
  {
   "cell_type": "markdown",
   "id": "4b909730-a1d8-43a0-a8c6-9e4430ade004",
   "metadata": {},
   "source": [
    "Na tym etapie możemy przetestować aplikację."
   ]
  },
  {
   "cell_type": "markdown",
   "id": "9caeff93-7459-453d-bd87-deffd4ecc9ef",
   "metadata": {},
   "source": [
    "<img src=\"https://media4.giphy.com/media/T1hFaLVxDkWnVSOHlb/giphy.gif?cid=790b76119c2d33faac1e1ab83e16b82d038339bd4cb439f3&rid=giphy.gif&ct=g\" width=\"200\" />"
   ]
  },
  {
   "cell_type": "markdown",
   "id": "2fc6302c-e448-44fe-8bc1-63442f37dd38",
   "metadata": {},
   "source": [
    "Kolejnym krokiem będzie dodanie `CountDownTimer` dla wykonywania ćwiczenia. Ponieważ będziemy mieć dwa liczniki, dodajmy flagę przez ustawienie której będziemy przełączać się między licznikami"
   ]
  },
  {
   "cell_type": "code",
   "execution_count": null,
   "id": "6dd77419-236b-4f78-8585-8d6996174ba3",
   "metadata": {},
   "outputs": [],
   "source": [
    "private var isYoga = false"
   ]
  },
  {
   "cell_type": "markdown",
   "id": "5917cefc-375e-43e0-89c1-00841872a9a0",
   "metadata": {},
   "source": [
    "Będziemy posługiwać się jedną instancję klasy `CountDownTimer`, więc zmieńmy nazwę `waitTimer` na `timer`"
   ]
  },
  {
   "cell_type": "code",
   "execution_count": null,
   "id": "b01f50ed-9167-49b0-b8ff-ca68a12f5856",
   "metadata": {},
   "outputs": [],
   "source": [
    "private CountDownTimer timer"
   ]
  },
  {
   "cell_type": "markdown",
   "id": "3f25b4e8-5205-43e5-8200-329dedca3d54",
   "metadata": {},
   "source": [
    "Następnie zdefiniujmy czas trwania ćwiczenia oraz interwał"
   ]
  },
  {
   "cell_type": "code",
   "execution_count": null,
   "id": "0c26b714-fa08-439a-a454-e205d69c4b51",
   "metadata": {},
   "outputs": [],
   "source": [
    "private val yogaTimerDuration = 7000L\n",
    "private val yogaProgressInterval = 7"
   ]
  },
  {
   "cell_type": "markdown",
   "id": "35783153-63e1-40cb-bfc1-363b4fb1b674",
   "metadata": {},
   "source": [
    "Zmodyfikujmy metodę `setupProgressBar` oraz metodę `onFinish`"
   ]
  },
  {
   "cell_type": "code",
   "execution_count": null,
   "id": "517f0d65-3f6c-45dd-a31f-91a396311a7f",
   "metadata": {},
   "outputs": [],
   "source": [
    "private fun setupProgressBar() {\n",
    "    val timerDuration: Long\n",
    "    val progressInterval: Int\n",
    "    if (isYoga) {\n",
    "        // ćwiczenie\n",
    "        timerDuration = yogaTimerDuration\n",
    "        progressInterval = yogaProgressInterval\n",
    "        progressBar.max = yogaProgressInterval\n",
    "    } else {\n",
    "        // oczekiwanie\n",
    "        timerDuration = waitTimerDuration\n",
    "        progressInterval = waitProgressInterval\n",
    "        progressBar.max = progressInterval\n",
    "    }\n",
    "    timer = object: CountDownTimer(timerDuration, timerInterval) {\n",
    "        override fun onTick(l: Long) {\n",
    "            progressBarValue++\n",
    "            progressBar.progress = progressInterval - progressBarValue\n",
    "            textViewCounter.text = (progressInterval - progressBarValue).toString()}\n",
    "        override fun onFinish() {\n",
    "            Toast.makeText(this@ExerciseActivity, \"YOGA TIME\", Toast.LENGTH_SHORT).show()\n",
    "            timer.cancel()\n",
    "            progressBarValue = 0\n",
    "            isYoga = !isYoga\n",
    "            setupProgressBar()\n",
    "        }\n",
    "    }.start()\n",
    "    progressBar.progress = progressBarValue\n",
    "}"
   ]
  },
  {
   "cell_type": "markdown",
   "id": "627e432a-fde4-4f5a-ba94-005e97e4fc6d",
   "metadata": {},
   "source": [
    "## **Dodanie danych**"
   ]
  },
  {
   "cell_type": "markdown",
   "id": "02a8b5f0-81c2-4c81-ad00-0195f8cfc003",
   "metadata": {},
   "source": [
    "Dodajmy dane do naszej aplikacji"
   ]
  },
  {
   "cell_type": "code",
   "execution_count": null,
   "id": "28234e21-719f-4043-bb2b-3a32d91bf8ea",
   "metadata": {},
   "outputs": [],
   "source": [
    "class YogaPose(val id: Int, val name: String, val image: Int) {\n",
    "    var isCompleted = false\n",
    "    var isSelected = false\n",
    "}"
   ]
  },
  {
   "cell_type": "code",
   "execution_count": null,
   "id": "1106016c-7627-41e0-b907-281eb53dc4ab",
   "metadata": {},
   "outputs": [],
   "source": [
    "object YogaPoses {\n",
    "    val yogaPoses: ArrayList<YogaPose>\n",
    "        get() {\n",
    "            val images = intArrayOf(\n",
    "                R.drawable.e1w,\n",
    "                R.drawable.e2w,\n",
    "                R.drawable.e3w,\n",
    "                R.drawable.e4w,\n",
    "                R.drawable.e5w,\n",
    "                R.drawable.e6w,\n",
    "                R.drawable.e7w,\n",
    "                R.drawable.e8w,\n",
    "                R.drawable.e9w,\n",
    "                R.drawable.e10w,\n",
    "                R.drawable.e11w,\n",
    "                R.drawable.e12w\n",
    "            )\n",
    "            val names = arrayOf(\n",
    "                \"Cobra\", \"Lord of the Dance\", \"Low Lunge\", \"Dancer\",\n",
    "                \"Wide Leg Forward Bend\", \"Warrior\", \"Lord Of The Dance Full\",\n",
    "                \"Squatting Toe Balance\", \"Lord Of The Dance Revolved\",\n",
    "                \"Wheel, One Legged\", \"Shoulder Stand, Split\", \"Warrior, Reverse\"\n",
    "            )\n",
    "            val yogaPoses: ArrayList<YogaPose> = ArrayList(12)\n",
    "            for (i in 0..11) {\n",
    "                yogaPoses.add(\n",
    "                    YogaPose(\n",
    "                        i,\n",
    "                        names[i],\n",
    "                        images[i]\n",
    "                    )\n",
    "                )\n",
    "            }\n",
    "            return yogaPoses\n",
    "        }\n",
    "}"
   ]
  },
  {
   "cell_type": "markdown",
   "id": "189fbfa6-3bfa-4b30-a1bf-ecf3a62a8a51",
   "metadata": {},
   "source": [
    "Przejdźmy do `ExerciseActivity` i dodajmy wyświetlanie odpowiednich ćwiczeń. Zacnziemy od dwóch zmiennych."
   ]
  },
  {
   "cell_type": "code",
   "execution_count": null,
   "id": "4b69ad5c-d03d-4e90-9fdb-3efff20224d0",
   "metadata": {},
   "outputs": [],
   "source": [
    "private val yogaPosesList: ArrayList<YogaPose> = YogaPoses.yogaPoses\n",
    "private var exercisePosition = 0"
   ]
  },
  {
   "cell_type": "markdown",
   "id": "8e701883-c6c3-441f-b8e5-11d75003797c",
   "metadata": {},
   "source": [
    "Inkrementację numeru ćwiczenia dodamy w metodzie `onFinish`"
   ]
  },
  {
   "cell_type": "code",
   "execution_count": null,
   "id": "5e3a3d4d-45bf-44b9-9fbb-9dce2f20c544",
   "metadata": {},
   "outputs": [],
   "source": [
    "override fun onFinish() {\n",
    "    Toast.makeText(this@ExerciseActivity, \"YOGA TIME\", Toast.LENGTH_SHORT).show()\n",
    "    timer.cancel()\n",
    "    progressBarValue = 0\n",
    "\n",
    "    if (isYoga){\n",
    "        exercisePosition++\n",
    "    }\n",
    "\n",
    "    isYoga = !isYoga\n",
    "    setupProgressBar()\n",
    "}"
   ]
  },
  {
   "cell_type": "markdown",
   "id": "c60a4abb-a35c-41c9-ab25-4eda52bdf896",
   "metadata": {},
   "source": [
    "Do layoutu dodajmy `ImageView`"
   ]
  },
  {
   "cell_type": "code",
   "execution_count": null,
   "id": "a59162a0-cc9f-4e59-a0c1-c9e6d38e17b7",
   "metadata": {},
   "outputs": [],
   "source": [
    "...\n",
    "<LinearLayout\n",
    "    android:id=\"@+id/linear_layout_custom_view\"\n",
    "    android:layout_width=\"match_parent\"\n",
    "    android:layout_height=\"match_parent\"\n",
    "    android:layout_below=\"@id/toolbar\"\n",
    "    android:gravity=\"center\"\n",
    "    android:orientation=\"vertical\">\n",
    "\n",
    "    <ImageView\n",
    "        android:id=\"@+id/yoga_image\"\n",
    "        android:layout_width=\"wrap_content\"\n",
    "        android:layout_height=\"0dp\"\n",
    "        android:scaleType=\"fitXY\"\n",
    "        android:layout_weight=\"1\"\n",
    "        android:contentDescription=\"@string/image\"/>\n",
    "..."
   ]
  },
  {
   "cell_type": "markdown",
   "id": "25f9cc93-fe58-45e5-bd4e-4ef6416eb8c7",
   "metadata": {},
   "source": [
    "W metodzie `onDestroy` będziemy resetować pozycję"
   ]
  },
  {
   "cell_type": "code",
   "execution_count": null,
   "id": "f492824b-42e1-4be2-b923-e3e7b78f2f2a",
   "metadata": {},
   "outputs": [],
   "source": [
    "override fun onDestroy() {\n",
    "    timer.cancel()\n",
    "    progressBarValue = 0\n",
    "\n",
    "    exercisePosition = 0; // resetowanie pozycji\n",
    "\n",
    "    super.onDestroy()\n",
    "}"
   ]
  },
  {
   "cell_type": "markdown",
   "id": "456b71a2-b154-4538-b7a3-d5a1c5d2dffe",
   "metadata": {},
   "source": [
    "Połączmy `ImageView` z odpowiednim polem"
   ]
  },
  {
   "cell_type": "code",
   "execution_count": null,
   "id": "071a1d38-3134-47b6-a98e-f4988c08b808",
   "metadata": {},
   "outputs": [],
   "source": [
    "private val imageView by lazy { findViewById<ImageView>(R.id.yoga_image) }"
   ]
  },
  {
   "cell_type": "markdown",
   "id": "049f5180-290d-4541-9fc5-9c037de61d08",
   "metadata": {},
   "source": [
    "Zmodyfikujmy widoczność `ImageView` w zależności od stanu aplikacji - widoczny dla ćwiczenia; niewidoczny dla oczekiwania"
   ]
  },
  {
   "cell_type": "code",
   "execution_count": null,
   "id": "4f26e0eb-dcb2-48b7-a15d-c6f589903b81",
   "metadata": {},
   "outputs": [],
   "source": [
    "if (isYoga) {\n",
    "    // ćwiczenie\n",
    "    timerDuration = yogaTimerDuration\n",
    "    progressInterval = yogaProgressInterval\n",
    "    progressBar.max = yogaProgressInterval\n",
    "    imageView.visibility = View.VISIBLE\n",
    "} else {\n",
    "    // oczekiwanie\n",
    "    timerDuration = waitTimerDuration\n",
    "    progressInterval = waitProgressInterval\n",
    "    progressBar.max = progressInterval\n",
    "    imageView.visibility = View.INVISIBLE\n",
    "}"
   ]
  },
  {
   "cell_type": "markdown",
   "id": "88ee576c-8f17-4609-982e-f9a9c48c9637",
   "metadata": {},
   "source": [
    "Zmodyfikujmy ponownie layout i dodajmy identyfikator dla pola `TextView` wyświetlającego tytuł ćwiczenia i dodajmy odpowiednie połączenie w klasie `ExerciseActivity`"
   ]
  },
  {
   "cell_type": "code",
   "execution_count": null,
   "id": "0132f78b-607a-48fe-abe4-2bd8a2b421bf",
   "metadata": {},
   "outputs": [],
   "source": [
    "<TextView\n",
    "    android:id=\"@+id/text_view_exercise_title\"\n",
    "    android:layout_width=\"wrap_content\"\n",
    "    android:layout_height=\"wrap_content\"\n",
    "    android:text=\"START EXERCISE\"\n",
    "    android:textColor=\"@color/textColor\"\n",
    "    android:textSize=\"40sp\"\n",
    "    android:gravity=\"center\"/>"
   ]
  },
  {
   "cell_type": "code",
   "execution_count": null,
   "id": "fcf0e7ba-a4ae-47ab-9f11-f58e32d07c91",
   "metadata": {},
   "outputs": [],
   "source": [
    "private val textViewExerciseName by lazy { findViewById<TextView>(R.id.text_view_exercise_title) }"
   ]
  },
  {
   "cell_type": "markdown",
   "id": "895e5d99-f1f0-40f6-a69a-3c73d247006e",
   "metadata": {},
   "source": [
    "Ponownie zmodyfikujmy metodę `setupProgressBar` i ustawmy odpowiedni tytuł oraz grafikę"
   ]
  },
  {
   "cell_type": "code",
   "execution_count": null,
   "id": "38c1dad8-18c8-44a0-81e1-0e1789704ebc",
   "metadata": {},
   "outputs": [],
   "source": [
    "if (isYoga) {\n",
    "    // ćwiczenie\n",
    "    timerDuration = yogaTimerDuration\n",
    "    progressInterval = yogaProgressInterval\n",
    "    progressBar.max = yogaProgressInterval\n",
    "    textViewExerciseName.text = yogaPosesList[exercisePosition].name // tytuł\n",
    "    imageView.visibility = View.VISIBLE\n",
    "    imageView.setImageResource(yogaPosesList[exercisePosition].image) // grafika\n",
    "} else {\n",
    "    // oczekiwanie\n",
    "    timerDuration = waitTimerDuration\n",
    "    progressInterval = waitProgressInterval\n",
    "    progressBar.max = progressInterval\n",
    "    imageView.visibility = View.INVISIBLE\n",
    "    textViewExerciseName.text = getString(R.string.wait_text)\n",
    "}"
   ]
  },
  {
   "cell_type": "markdown",
   "id": "a24276aa-247b-4e6c-a9e2-371fb39ef400",
   "metadata": {},
   "source": [
    "Przejdźmy do metody `onFinish` i dodajmy warunek zakończenia"
   ]
  },
  {
   "cell_type": "code",
   "execution_count": null,
   "id": "b03372e3-d65c-45d8-90b5-3c5206ed60ca",
   "metadata": {},
   "outputs": [],
   "source": [
    "if (exercisePosition < yogaPosesList.size)\n",
    "    setupProgressBar()\n",
    "else\n",
    "    Toast.makeText(this@ExerciseActivity, \"COMPLETE\", Toast.LENGTH_SHORT).show();"
   ]
  },
  {
   "cell_type": "markdown",
   "id": "c53767b9-46dd-4ef5-989e-087fe307ded2",
   "metadata": {},
   "source": [
    "Na tym etapie możemy przetestować aplikację"
   ]
  },
  {
   "cell_type": "markdown",
   "id": "402accc6-2ff0-4753-83e7-c12b24a975ab",
   "metadata": {},
   "source": [
    "<img src=\"https://media0.giphy.com/media/p4L6fWNHOts81bkN1e/giphy.gif?cid=790b7611799691beefe1a9e2288cd38958d65b504189bf0c&rid=giphy.gif&ct=g\" width=\"200\" />"
   ]
  },
  {
   "cell_type": "markdown",
   "id": "65c6a541-2d28-4dcc-97a1-1cc9adb3a2dd",
   "metadata": {},
   "source": [
    "## **`TextToSpeech` oraz `MediaPlayer`**"
   ]
  },
  {
   "cell_type": "markdown",
   "id": "f6a84f75-70d5-4ef9-a20d-71399854dafd",
   "metadata": {},
   "source": [
    "Rozpocznijmy od dodania `TextToSpeech`. Klasa `ExerciseActivity` będzie implementowała interfejs `TextToSpeech.OnInitListener`"
   ]
  },
  {
   "cell_type": "code",
   "execution_count": null,
   "id": "f8b1644f-6122-4f64-9049-ebd08eac824a",
   "metadata": {},
   "outputs": [],
   "source": [
    "class ExerciseActivity : AppCompatActivity(), TextToSpeech.OnInitListener {"
   ]
  },
  {
   "cell_type": "markdown",
   "id": "0ec81842-d04f-4ad0-83d8-04ffd7691ab0",
   "metadata": {},
   "source": [
    "Musimy dostarczyć implementację metody `onInit`"
   ]
  },
  {
   "cell_type": "code",
   "execution_count": null,
   "id": "26a29427-527e-43a9-b59a-29ce7d7d3fac",
   "metadata": {},
   "outputs": [],
   "source": [
    "override fun onInit(p0: Int) {\n",
    "    TODO(\"Not yet implemented\")\n",
    "}"
   ]
  },
  {
   "cell_type": "markdown",
   "id": "21772d9b-e1a1-493f-b98a-f57e5edec609",
   "metadata": {},
   "source": [
    "Wpierw dodajmy zmienną"
   ]
  },
  {
   "cell_type": "code",
   "execution_count": null,
   "id": "929d3785-6dfe-45eb-b4a4-c223f7fb79c2",
   "metadata": {},
   "outputs": [],
   "source": [
    "private val textToSpeech by lazy { TextToSpeech(this, this) }"
   ]
  },
  {
   "cell_type": "markdown",
   "id": "267c6414-faa5-456e-bd49-71828d59d445",
   "metadata": {},
   "source": [
    "Konstruktor przyjmuje dwa argumenty\n",
    "- `context` - każda aktywność jest swoim własnym kontekstem, więc używamy `this`\n",
    "- `listener` - ponieważ nasza aktywność implementuje interfejs `TextToSpeech.OnInitListener`, również wykorzystujemy `this`\n",
    "\n",
    "W pierwszej kolejności zapewnijmy zatrzymanie działania `TextToSpeech`, do metody `onDestroy` dodajmy"
   ]
  },
  {
   "cell_type": "code",
   "execution_count": null,
   "id": "58037b7f-4fd7-4f34-8255-8d9215a6a3c4",
   "metadata": {},
   "outputs": [],
   "source": [
    "override fun onDestroy() {\n",
    "    timer.cancel()\n",
    "    progressBarValue = 0\n",
    "\n",
    "    exercisePosition = 0; // resetowanie pozycji\n",
    "\n",
    "    textToSpeech.stop();\n",
    "    textToSpeech.shutdown();\n",
    "\n",
    "    super.onDestroy()\n",
    "}"
   ]
  },
  {
   "cell_type": "markdown",
   "id": "1f2cdb34-6cdb-4ba9-ab2c-46d877cbaef7",
   "metadata": {},
   "source": [
    "Dodajmy metodę przyjmującą jeden argument typu `String` - będzie to tekst ćwiczenia który chcemy aby został odczytany."
   ]
  },
  {
   "cell_type": "code",
   "execution_count": null,
   "id": "a068769c-ba70-49e7-9aa1-fdb4df47435d",
   "metadata": {},
   "outputs": [],
   "source": [
    "private fun speakPoseName(text: String) {\n",
    "    textToSpeech.speak(text, TextToSpeech.QUEUE_FLUSH, null, \"\")\n",
    "}"
   ]
  },
  {
   "cell_type": "markdown",
   "id": "af11a740-f37e-4d34-8130-ba8a22b52528",
   "metadata": {},
   "source": [
    "Metoda `speak` przyjmuje cztery argumenty:\n",
    "- `text` - `String` do przetworzenia\n",
    "- `queueMode` - określa sposób przetwarzania - `QUEUE_FLUSH` oznacza, że przerywane jest odtwarzanie tekstu w momencie ponownego wywołania metody `speak` - kolejne wypowiadane kwestie nie będą odtwarzane jednocześnie\n",
    "- `params` - pozawala na ustawienie parametrów silnika (np. głośność) - `null` dla ustawień domyślnych\n",
    "- `utteranceId` - identyfikator - tutaj nie wykorzystany.\n",
    "\n",
    "W kolejnym kroku zastosujmy utworzoną metodę - zrobimy to w metodzie `setupProgressBar` przy przejściu do nowego ćwiczenia. `TextToSpeech` będzie odczytywał nazwę ćwiczenia."
   ]
  },
  {
   "cell_type": "code",
   "execution_count": null,
   "id": "c900c11e-ad2e-4d51-9890-9bd3ae20c06c",
   "metadata": {},
   "outputs": [],
   "source": [
    "if (isYoga) {\n",
    "    // ćwiczenie\n",
    "    timerDuration = yogaTimerDuration\n",
    "    progressInterval = yogaProgressInterval\n",
    "    speakPoseName(yogaPosesList[exercisePosition].name)\n",
    "    ..."
   ]
  },
  {
   "cell_type": "markdown",
   "id": "dcc4a391-0bd1-4d5a-93d6-21ac9132bc35",
   "metadata": {},
   "source": [
    "Pozostaje jeszcze implementacja metody `onInit`"
   ]
  },
  {
   "cell_type": "code",
   "execution_count": null,
   "id": "6c8b9e37-ce44-4b0f-a980-4a55f565c29a",
   "metadata": {},
   "outputs": [],
   "source": [
    "override fun onInit(p0: Int) {\n",
    "    if (p0 == TextToSpeech.SUCCESS)\n",
    "        textToSpeech.language = Locale.ENGLISH\n",
    "}"
   ]
  },
  {
   "cell_type": "markdown",
   "id": "fa84bba0-64b0-4cb8-8c1f-5c8db81989bd",
   "metadata": {},
   "source": [
    "Przyjmuje jeden argument typu `int` - domyślnie nazwany `i` - oznacza status. Sprawdzamy czy odczyt wykonał się prawidłowo - jeżeli tak to ustawiamy język."
   ]
  },
  {
   "cell_type": "markdown",
   "id": "0db381e4-adbd-4f84-8849-0143f955712e",
   "metadata": {},
   "source": [
    "Przejdźmy do dodania klasy `Media` do projektu - będziemy odtwarzać dźwięk po każdym zakończonym ćwiczeniu. W pierwszym kroku w katalogu `res` utwórzmy katalog `raw` - jest to katalog do którego będziemy wrzucać wszystkie media. Dodajemy do niegoplik z dźwiękiem który chcemy odtwarzyć (wszystkie wykorzystane pliki w projekcie znajdują się w folderze **sourceCode** i odpowiednim podfolderze).\n",
    "\n",
    "Przejdźmy do klasy `ExerciseActivity` i dodajmy zmienną `MediaPlayer`"
   ]
  },
  {
   "cell_type": "code",
   "execution_count": null,
   "id": "dc18b469-0647-4db7-b741-544595dd35f8",
   "metadata": {},
   "outputs": [],
   "source": [
    "private lateinit var mediaPlayer: MediaPlayer"
   ]
  },
  {
   "cell_type": "code",
   "execution_count": null,
   "id": "b57e2823-4c40-4237-8098-c3ff3105f519",
   "metadata": {},
   "outputs": [],
   "source": [
    "mediaPlayer.stop()"
   ]
  },
  {
   "cell_type": "markdown",
   "id": "c328f28d-5a6c-4f99-9b43-b7a63d65ef55",
   "metadata": {},
   "source": [
    "Do metody `onCreate` wywołajmy dwie metody klasy `MediaPlayer`"
   ]
  },
  {
   "cell_type": "code",
   "execution_count": null,
   "id": "9d5aaea5-deac-43b9-80a3-d0de62d8ac45",
   "metadata": {},
   "outputs": [],
   "source": [
    "} else {\n",
    "    // oczekiwanie\n",
    "    timerDuration = waitTimerDuration\n",
    "    progressInterval = waitProgressInterval\n",
    "    try {\n",
    "        mediaPlayer = MediaPlayer.create(this, R.raw.dingding)\n",
    "        mediaPlayer.setLooping(false)\n",
    "        mediaPlayer.start()\n",
    "    } catch (e: Exception){\n",
    "        e.printStackTrace()\n",
    "    }\n",
    "    ..."
   ]
  },
  {
   "cell_type": "markdown",
   "id": "78bd2c31-7802-49bb-a626-e49d096e1e2c",
   "metadata": {},
   "source": [
    "Tworzymy nowy `MediaPlayer` za pomocą metody `create` - przyjmuje dwa argumenty\n",
    "- `constext` - każda aktywność jest swoim własnym kontekstem, więc wykorzystujemy `this`\n",
    "- zasób do odtworzenia\n",
    "\n",
    "Następnie blokujemy odtwarzanie w pętli i inicjujemy wywołując metodę `start`."
   ]
  },
  {
   "cell_type": "markdown",
   "id": "80619208-dba7-45d6-8f9c-800defe8879c",
   "metadata": {},
   "source": [
    "## **`RecyclerView`**"
   ]
  },
  {
   "cell_type": "markdown",
   "id": "a659e915-fdd6-46f8-95b3-7ee96917c318",
   "metadata": {},
   "source": [
    "Ostatnim elementem będzie dodanie `RecyclerView` zawierający liczbę ćwiczeń - oznaczymy aktualnie wykonywane oraz wszystkie zakończone ćwiczenia.\n",
    "\n",
    "W pierwszym kroku dodajmy tło - w folderze `drawable` utwórzmy plik `item_circular_bg` i jako **root** podajmy `shape`"
   ]
  },
  {
   "cell_type": "code",
   "execution_count": null,
   "id": "f1a42a98-5522-4652-93d0-ad4ffeffcc7c",
   "metadata": {},
   "outputs": [],
   "source": [
    "<?xml version=\"1.0\" encoding=\"utf-8\"?>\n",
    "<shape xmlns:android=\"http://schemas.android.com/apk/res/android\"\n",
    "    android:shape=\"oval\">\n",
    "\n",
    "    <solid android:color=\"@color/backgroundColor\"/>\n",
    "    <stroke android:width=\"1dp\"\n",
    "        android:color=\"@color/textColor\"/>\n",
    "\n",
    "</shape>"
   ]
  },
  {
   "cell_type": "markdown",
   "id": "1ab9dd8d-0654-46d7-af3c-91c395ef3390",
   "metadata": {},
   "source": [
    "Kolejnym elementem będzie layout pojedynczego elementu `RecyclerView` - do folderu `layout` dodajmy plik `item_view_yoga_list`"
   ]
  },
  {
   "cell_type": "code",
   "execution_count": null,
   "id": "3cb40cd0-50f7-4596-885b-b45b03f531bf",
   "metadata": {},
   "outputs": [],
   "source": [
    "<?xml version=\"1.0\" encoding=\"utf-8\"?>\n",
    "<TextView xmlns:android=\"http://schemas.android.com/apk/res/android\"\n",
    "    android:id=\"@+id/textViewItemRV\"\n",
    "    android:layout_width=\"20dp\"\n",
    "    android:layout_height=\"20dp\"\n",
    "    android:layout_margin=\"2dp\"\n",
    "    android:padding=\"2dp\"\n",
    "    android:gravity=\"center\"\n",
    "    android:textColor=\"@color/textColor\"\n",
    "    android:text=\"1\"\n",
    "    android:textSize=\"12sp\"\n",
    "    android:textStyle=\"bold\"\n",
    "    android:background=\"@drawable/item_circular_bg\">\n",
    "\n",
    "</TextView>"
   ]
  },
  {
   "cell_type": "markdown",
   "id": "723af080-6165-402c-a47d-daa4ed3a7500",
   "metadata": {},
   "source": [
    "Jak widzimy jedynym elementem layoutu dla `RecyclerView` jest pole `TextView`."
   ]
  },
  {
   "cell_type": "markdown",
   "id": "447dc6f6-2fbf-40a4-bcec-54d0590bd35c",
   "metadata": {},
   "source": [
    "Dodajmy `RecyclerView` do layoutu `ExerciseActivty`"
   ]
  },
  {
   "cell_type": "code",
   "execution_count": null,
   "id": "c5250f4b-a89f-4063-bb2a-521b63df840a",
   "metadata": {},
   "outputs": [],
   "source": [
    "<androidx.recyclerview.widget.RecyclerView\n",
    "    android:id=\"@+id/recyclerView\"\n",
    "    android:layout_width=\"wrap_content\"\n",
    "    android:layout_height=\"wrap_content\"\n",
    "    android:layout_centerHorizontal=\"true\"\n",
    "    android:layout_alignParentBottom=\"true\"\n",
    "    android:layout_margin=\"3dp\" />"
   ]
  },
  {
   "cell_type": "markdown",
   "id": "a9ccbb6a-cfdf-470c-94fe-262347460c6f",
   "metadata": {},
   "source": [
    "Przejdźmy do napisania adaptera"
   ]
  },
  {
   "cell_type": "code",
   "execution_count": null,
   "id": "b7e7483a-6bd8-430b-9412-2c91afdf3024",
   "metadata": {},
   "outputs": [],
   "source": [
    "class YogaAdapter(private val yogaPoses: ArrayList<YogaPose>) :\n",
    "    RecyclerView.Adapter<YogaAdapter.YogaViewHolder>() {\n",
    "    class YogaViewHolder(itemView: View) : RecyclerView.ViewHolder(itemView) {\n",
    "        private val textView: TextView\n",
    "        fun bind(currentExercise: YogaPose) {\n",
    "            textView.text = \"${currentExercise.id + 1}\"\n",
    "        }\n",
    "\n",
    "        init {\n",
    "            textView = itemView.findViewById(R.id.textViewItemRV)\n",
    "        }\n",
    "    }\n",
    "\n",
    "    override fun onCreateViewHolder(parent: ViewGroup, viewType: Int): YogaViewHolder {\n",
    "        return YogaViewHolder(\n",
    "            LayoutInflater.from(\n",
    "                parent.context\n",
    "            ).inflate(\n",
    "                R.layout.item_view_yoga_list,\n",
    "                parent,\n",
    "                false\n",
    "            )\n",
    "        )\n",
    "    }\n",
    "\n",
    "    override fun onBindViewHolder(holder: YogaViewHolder, position: Int) {\n",
    "        val currentExercise = yogaPoses[position]\n",
    "        holder.bind(currentExercise)\n",
    "    }\n",
    "\n",
    "    override fun getItemCount(): Int = yogaPoses.size\n",
    "    \n",
    "}"
   ]
  },
  {
   "cell_type": "markdown",
   "id": "3e9ebabd-b037-4af8-88c7-68b6b6a3d087",
   "metadata": {},
   "source": [
    "Następnie zdefiniujmy nasz `RecyclerView`"
   ]
  },
  {
   "cell_type": "code",
   "execution_count": null,
   "id": "41e9019f-c226-486e-8db3-f3d4d209994e",
   "metadata": {},
   "outputs": [],
   "source": [
    "private val recyclerView by lazy { findViewById<RecyclerView>(R.id.recyclerView) }\n",
    "private val adapter: YogaAdapter by lazy { YogaAdapter(yogaPosesList) }"
   ]
  },
  {
   "cell_type": "markdown",
   "id": "daac72ed-c008-491d-b4c4-45c58890a1f1",
   "metadata": {},
   "source": [
    "Pozostaje nam zmiana wyglądu elementów dla oznaczenia aktualnie wykonywanego i zakończonych ćwiczeń - oraz dodanie odpowiedniej logiki do aplikacji. Do folderu `drawable` doodajmy plik `item_circular_selected.xml` w którym zdefiniujemy wygląd elementu listy dla aktualnie wykonywanego ćwiczenia"
   ]
  },
  {
   "cell_type": "code",
   "execution_count": null,
   "id": "dddbf71c-3261-49c3-a772-dffdf8017230",
   "metadata": {},
   "outputs": [],
   "source": [
    "<?xml version=\"1.0\" encoding=\"utf-8\"?>\n",
    "<shape xmlns:android=\"http://schemas.android.com/apk/res/android\"\n",
    "    android:shape=\"oval\">\n",
    "\n",
    "    <solid android:color=\"@color/backgroundColor\"/>\n",
    "    <stroke android:width=\"1dp\"\n",
    "        android:color=\"#FFFFD4\"/>\n",
    "\n",
    "</shape>"
   ]
  },
  {
   "cell_type": "markdown",
   "id": "9cdf1be3-6975-4544-bf8a-7f44164b1ff4",
   "metadata": {},
   "source": [
    "Teraz dodajmy plik `item_circular_completed.xml` - definicja wyglądu reprezentującego zakończone ćwiczenie"
   ]
  },
  {
   "cell_type": "code",
   "execution_count": null,
   "id": "450a06fb-92c9-48ea-bb88-5e2ac7518c74",
   "metadata": {},
   "outputs": [],
   "source": [
    "<?xml version=\"1.0\" encoding=\"utf-8\"?>\n",
    "<shape xmlns:android=\"http://schemas.android.com/apk/res/android\"\n",
    "    android:shape=\"oval\">\n",
    "\n",
    "    <solid android:color=\"@color/textColor\"/>\n",
    "\n",
    "</shape>"
   ]
  },
  {
   "cell_type": "markdown",
   "id": "d633afe5-ae59-4a70-91d1-50863b90cae0",
   "metadata": {},
   "source": [
    "Przechodzimy do `YogaAdapter` i zmodyfikujmy metodę `bind` "
   ]
  },
  {
   "cell_type": "code",
   "execution_count": null,
   "id": "b04abf0e-5436-4f8d-be5b-25f953a18802",
   "metadata": {},
   "outputs": [],
   "source": [
    "fun bind(currentExercise: YogaPose) {\n",
    "    textView.text = \"${currentExercise.id + 1}\"\n",
    "    if (currentExercise.isSelected)\n",
    "        textView.background = ContextCompat.getDrawable(context, R.drawable.item_circular_selected)\n",
    "    else if (currentExercise.isCompleted) {\n",
    "        textView.background = ContextCompat.getDrawable(context, R.drawable.item_circular_completed)\n",
    "        textView.setTextColor(Color.parseColor(\"#000000\"));\n",
    "    } else{\n",
    "        textView.background = ContextCompat.getDrawable(context, R.drawable.item_circular_bg)\n",
    "        textView.setTextColor(ContextCompat.getColor(context, R.color.textColor));\n",
    "    }\n",
    "}"
   ]
  },
  {
   "cell_type": "markdown",
   "id": "857c8a03-3799-4c39-98ec-ede069219b79",
   "metadata": {},
   "source": [
    "Przejdźmy do `ExerciseActivity` i zmodyfikujmy metodę `onFinish`"
   ]
  },
  {
   "cell_type": "code",
   "execution_count": null,
   "id": "f1df497d-77f3-4a1a-9ff0-76c06d9e54a9",
   "metadata": {},
   "outputs": [],
   "source": [
    "if (isYoga) {\n",
    "    yogaPosesList[exercisePosition].isSelected = false\n",
    "    yogaPosesList[exercisePosition].isCompleted = true"
   ]
  },
  {
   "cell_type": "markdown",
   "id": "4ea83431-74f6-4377-9fe7-109685615427",
   "metadata": {},
   "source": [
    "Następnie w metodzie `setupProgressBar` i ustawiamy `isSelected` aktualnego ćwiczenia na `true`"
   ]
  },
  {
   "cell_type": "code",
   "execution_count": null,
   "id": "63fc7d80-c841-48a0-aca3-8013c8dc86e6",
   "metadata": {},
   "outputs": [],
   "source": [
    "if (isYoga) {\n",
    "    // ćwiczenie\n",
    "    timerDuration = yogaTimerDuration\n",
    "    progressInterval = yogaProgressInterval\n",
    "    speakPoseName(yogaPosesList[exercisePosition].name)\n",
    "    progressBar.max = yogaProgressInterval\n",
    "    textViewExerciseName.text = yogaPosesList[exercisePosition].name // tytuł\n",
    "    imageView.visibility = View.VISIBLE\n",
    "    imageView.setImageResource(yogaPosesList[exercisePosition].image) // grafika\n",
    "    yogaPosesList[exercisePosition].isSelected = true\n",
    "    adapter.notifyItemChanged(exercisePosition)\n",
    "    ..."
   ]
  },
  {
   "cell_type": "markdown",
   "id": "84c9c274-ad98-414b-ada8-59b27d330904",
   "metadata": {},
   "source": [
    "Możemy przetestować aplikację"
   ]
  },
  {
   "cell_type": "markdown",
   "id": "7e50cce8-1a91-4f45-8c87-3ef3e4df3b7a",
   "metadata": {},
   "source": [
    "<img src=\"https://media3.giphy.com/media/vmZ6b9CGnFihvmYrGT/giphy.gif?cid=790b7611ec174e1283189e1ed95201abaf1700ead6582144&rid=giphy.gif&ct=g\" width=\"200\" />"
   ]
  },
  {
   "cell_type": "code",
   "execution_count": null,
   "id": "05713266-3c8a-4cfe-bd31-63eeb58493f9",
   "metadata": {},
   "outputs": [],
   "source": []
  }
 ],
 "metadata": {
  "kernelspec": {
   "display_name": "Kotlin",
   "language": "kotlin",
   "name": "kotlin"
  },
  "language_info": {
   "codemirror_mode": "text/x-kotlin",
   "file_extension": ".kt",
   "mimetype": "text/x-kotlin",
   "name": "kotlin",
   "nbconvert_exporter": "",
   "pygments_lexer": "kotlin",
   "version": "1.6.20-dev-6372"
  }
 },
 "nbformat": 4,
 "nbformat_minor": 5
}
