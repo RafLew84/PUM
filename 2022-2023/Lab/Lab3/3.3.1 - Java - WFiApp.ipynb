{
 "cells": [
  {
   "cell_type": "markdown",
   "id": "af68f05f-3eaa-48a0-a15f-d990b8bd7014",
   "metadata": {},
   "source": [
    "# 3.3 WFiApp"
   ]
  },
  {
   "cell_type": "markdown",
   "id": "369148b2-5195-494f-abc0-48adddab02b7",
   "metadata": {},
   "source": [
    "Aplikacja będzie wykorzystywać `RecyclerView`, gdzie każdym elementem na liście będzie `CardView`. Dodamy również podstawową obsługę gestów oraz wykorzystamy `Intent` aby otworzyć nową aktywność w której zaprezentowany będzie bardziej szczegółowy opis wybranego elementu listy."
   ]
  },
  {
   "cell_type": "markdown",
   "id": "80e47e8b-e125-4209-965a-33bd37903efd",
   "metadata": {},
   "source": [
    "<table><tr><td><img src=\"https://media2.giphy.com/media/gooBI30gtU5fMkmCZu/giphy.gif?cid=790b7611df027999cb2a17ec28a3095ad5693e6e76c37990&rid=giphy.gif&ct=g\" width=\"200\" /></td><td><img src=\"https://media2.giphy.com/media/h5Xh7V5IA5E3BV4ytL/giphy.gif?cid=790b7611412fedb227b91c2cb44067aa88f517a18214afde&rid=giphy.gif&ct=g\" width=\"150\" /></td><td><img src=\"https://media2.giphy.com/media/uwDAUUAjLZnyKqLg3J/giphy.gif?cid=790b76110bdb83e20fb638b9fb5150422cf100e384687bcf&rid=giphy.gif&ct=g\" width=\"150\" /></td></tr></table>"
   ]
  },
  {
   "cell_type": "markdown",
   "id": "6008c994-9978-4b46-a6f4-adc4364c5b74",
   "metadata": {
    "tags": []
   },
   "source": [
    "## **Tworzenie layoutów**\n",
    "\n",
    "Rozpocznijmy od utworzenia layoutu dla `MainActivity`. Naszym głównym elementem będzie `RelativeLayout`"
   ]
  },
  {
   "cell_type": "markdown",
   "id": "1d5cd3e4-221b-4923-beb0-59ac3ce67961",
   "metadata": {},
   "source": [
    "<RelativeLayout xmlns:android=\"http://schemas.android.com/apk/res/android\"\n",
    "    xmlns:tools=\"http://schemas.android.com/tools\"\n",
    "    android:layout_width=\"match_parent\"\n",
    "    android:layout_height=\"match_parent\"\n",
    "    android:paddingBottom=\"@dimen/activity_vertical_margin\"\n",
    "    android:paddingLeft=\"@dimen/activity_horizontal_margin\"\n",
    "    android:paddingRight=\"@dimen/activity_horizontal_margin\"\n",
    "    android:paddingTop=\"@dimen/activity_vertical_margin\"\n",
    "    android:background=\"#1111\"\n",
    "    tools:context=\".MainActivity\">"
   ]
  },
  {
   "cell_type": "markdown",
   "id": "ecc2f8bf-b818-4d07-acbe-1498df5afe06",
   "metadata": {},
   "source": [
    "Do katalogu **values** dodajemy plik `dimens.xml` w którym możemy przechowywać stałe wartości liczbowe"
   ]
  },
  {
   "cell_type": "markdown",
   "id": "6080d7c5-3d9e-44db-bcc0-fbf53dae1a71",
   "metadata": {},
   "source": [
    "<?xml version=\"1.0\" encoding=\"utf-8\"?>\n",
    "<resources>\n",
    "    <dimen name=\"activity_horizontal_margin\">16dp</dimen>\n",
    "    <dimen name=\"activity_vertical_margin\">16dp</dimen>\n",
    "</resources>"
   ]
  },
  {
   "cell_type": "markdown",
   "id": "cc6c882c-c191-4e7c-81a6-36dd4e806d5f",
   "metadata": {},
   "source": [
    "Następnie dodajemy `RecyclerView`"
   ]
  },
  {
   "cell_type": "code",
   "execution_count": null,
   "id": "bbd2192b-052c-4caf-9440-688723eb1e60",
   "metadata": {},
   "outputs": [],
   "source": [
    "    <androidx.recyclerview.widget.RecyclerView\n",
    "        android:id=\"@+id/recyclerView\"\n",
    "        android:scrollbars=\"vertical\"\n",
    "        android:layout_width=\"match_parent\"\n",
    "        android:layout_height=\"match_parent\" />"
   ]
  },
  {
   "cell_type": "markdown",
   "id": "cd7736ce-5c63-4826-bb0b-df5df2e67e24",
   "metadata": {},
   "source": [
    "Ostatnim elementem będzie `FloatingActionButton (FAB)`"
   ]
  },
  {
   "cell_type": "code",
   "execution_count": null,
   "id": "f4ad4b45-d1f0-41ec-a0d8-ca7fcb860b72",
   "metadata": {},
   "outputs": [],
   "source": [
    "    <com.google.android.material.floatingactionbutton.FloatingActionButton\n",
    "        android:layout_width=\"wrap_content\"\n",
    "        android:layout_height=\"wrap_content\"\n",
    "        android:layout_alignParentBottom=\"true\"\n",
    "        android:layout_alignParentEnd=\"true\"\n",
    "        android:layout_margin=\"@dimen/activity_horizontal_margin\"\n",
    "        android:tint=\"@android:color/white\"\n",
    "        android:contentDescription=\"@string/fab_desc\" />"
   ]
  },
  {
   "cell_type": "markdown",
   "id": "f170ee66-0205-482b-9792-e267396da383",
   "metadata": {},
   "source": [
    "Tutaj zalecanym jest podanie `contentDescription`, którego tekst będziemy przechowywać w pliku `strings.xml` w katalogu **values**."
   ]
  },
  {
   "cell_type": "code",
   "execution_count": null,
   "id": "11ad5ffb-a86f-409a-8d11-3f6d85f21b11",
   "metadata": {},
   "outputs": [],
   "source": [
    "<resources>\n",
    "    <string name=\"app_name\">WFiAppJava</string>\n",
    "    <string name=\"fab_desc\">refresh</string>\n",
    "</resources>"
   ]
  },
  {
   "cell_type": "markdown",
   "id": "6ddf19d8-f14c-4191-bf93-d65b0138401d",
   "metadata": {},
   "source": [
    "Chcemy jeszcze utworzyć ikonę dla naszego `FAB`, w tym celu na katalogu **drawable** wybieramy **New -> Image Asset**\n",
    "\n",
    "- jako **Icon Type** podajemy **Action Bar and Tab Icons**\n",
    "- jako nazwę wpisuję `ic_reset`\n",
    "- jako **Clip Art** wybieram **refresh**\n",
    "- **Theme** pozostawiam jako **HOLO_LIGHT**\n",
    "\n",
    "Po zatwierdzeniu, w folderze `drawable` powinien zostać utworzony folder `ic_reset` ze zdefiniowaną ikoną. Możemy się do niej odnieść podobnie jak do pozostałych elementów - podając `@<nazwa_folderu>/<nazwa_pliku>` - `\"@drawable/ic_reset\"`. Teraz dodaję ikonę do `FAB`."
   ]
  },
  {
   "cell_type": "code",
   "execution_count": null,
   "id": "322af275-ca0c-4dc7-9450-0e6b97affae1",
   "metadata": {},
   "outputs": [],
   "source": [
    "    <com.google.android.material.floatingactionbutton.FloatingActionButton\n",
    "        android:layout_width=\"wrap_content\"\n",
    "        android:layout_height=\"wrap_content\"\n",
    "        android:layout_alignParentBottom=\"true\"\n",
    "        android:layout_alignParentEnd=\"true\"\n",
    "        android:layout_margin=\"@dimen/activity_horizontal_margin\"\n",
    "        android:src=\"@drawable/ic_reset\"\n",
    "        android:tint=\"@android:color/white\"\n",
    "        android:contentDescription=\"@string/fab_desc\" />"
   ]
  },
  {
   "cell_type": "markdown",
   "id": "173914f9-0e46-4234-8d45-88f9cd7e931f",
   "metadata": {},
   "source": [
    "Przechodzimy do utworzenia `DetailActivity`. Z menu kontekstowego otwartego na nazwie pakietu wybieram **New -> Activity -> Empty Activity**. Do manifestu dodaję informację o hierarchii"
   ]
  },
  {
   "cell_type": "code",
   "execution_count": null,
   "id": "c66e7839-3a93-499a-a79f-67df1cfa13e3",
   "metadata": {},
   "outputs": [],
   "source": [
    "        <activity\n",
    "            android:name=\".DetailActivity\"\n",
    "            android:parentActivityName=\".MainActivity\"\n",
    "            android:label=\"Detail Activity\"\n",
    "            android:exported=\"false\" />"
   ]
  },
  {
   "cell_type": "markdown",
   "id": "ec3c7824-ea36-4145-94ad-4b3359c1e880",
   "metadata": {},
   "source": [
    "Przejdźmy do zdefiniowania layoutu. Naszym głównym elementem będzie `ScrollView` - w przypadku gdy zamieszczony tekst (lub inne elementy) będą przekraczać rozmiar ekranu będziemy mieć możliwość przewijania."
   ]
  },
  {
   "cell_type": "code",
   "execution_count": null,
   "id": "a6850fa9-aca5-458f-990d-7ec3a7c3c950",
   "metadata": {},
   "outputs": [],
   "source": [
    "<?xml version=\"1.0\" encoding=\"utf-8\"?>\n",
    "<ScrollView xmlns:android=\"http://schemas.android.com/apk/res/android\"\n",
    "    android:layout_width=\"match_parent\"\n",
    "    android:layout_height=\"match_parent\"> "
   ]
  },
  {
   "cell_type": "markdown",
   "id": "f8a5b22c-e2ec-481e-91ba-517d3f3b1760",
   "metadata": {},
   "source": [
    "Wewnątrz umieścimy `RelativeLayout`"
   ]
  },
  {
   "cell_type": "code",
   "execution_count": null,
   "id": "2c747250-f536-40fe-afa0-7e6f9f8bb0a5",
   "metadata": {},
   "outputs": [],
   "source": [
    "    <RelativeLayout xmlns:tools=\"http://schemas.android.com/tools\"\n",
    "        android:layout_width=\"match_parent\"\n",
    "        android:layout_height=\"wrap_content\"\n",
    "        tools:context=\".DetailActivity\">"
   ]
  },
  {
   "cell_type": "markdown",
   "id": "56ce833a-4966-45d2-acb5-27d32f4dfef8",
   "metadata": {},
   "source": [
    "Pierwszym elementem będzie `ImageView` w którym będziemy wyświetlać grafiki naszych wydziałowych instytutów."
   ]
  },
  {
   "cell_type": "code",
   "execution_count": null,
   "id": "119d0c83-93d5-4ad1-8cbe-83459f74e4e3",
   "metadata": {},
   "outputs": [],
   "source": [
    "        <ImageView\n",
    "            android:id=\"@+id/instituteImageDetail\"\n",
    "            android:layout_width=\"match_parent\"\n",
    "            android:layout_height=\"wrap_content\"\n",
    "            android:adjustViewBounds=\"true\"\n",
    "            android:contentDescription=\"@string/iv_desc\" />"
   ]
  },
  {
   "cell_type": "markdown",
   "id": "957ceb8a-cd51-4f0c-9835-30d27f34cc19",
   "metadata": {},
   "source": [
    "Do `strings.xml` dodaję `contentDescription`"
   ]
  },
  {
   "cell_type": "code",
   "execution_count": null,
   "id": "2aa14631-d407-4297-b8eb-8f95c249f90b",
   "metadata": {},
   "outputs": [],
   "source": [
    "<string name=\"iv_desc\">image of the institute</string>"
   ]
  },
  {
   "cell_type": "markdown",
   "id": "5493e1af-860c-4bcb-8cca-a9f0286abd5a",
   "metadata": {},
   "source": [
    "Następnie dodajemy trzy `TextView` które będą wyświetlały dodatkowe informacje w aplikacji - nazwę instytutu (w obszarze `ImageView`), nazwę uniwersytetu oraz opis."
   ]
  },
  {
   "cell_type": "code",
   "execution_count": null,
   "id": "0c7ecf9e-83e2-4227-a0f8-d8bbb500ade6",
   "metadata": {},
   "outputs": [],
   "source": [
    "        <TextView\n",
    "            android:id=\"@+id/titleDetail\"\n",
    "            style=\"@style/InstituteDetailTitle\"\n",
    "            android:layout_width=\"wrap_content\"\n",
    "            android:layout_height=\"wrap_content\"\n",
    "            android:layout_alignBottom=\"@id/instituteImageDetail\"\n",
    "            android:padding=\"@dimen/activity_horizontal_margin\"\n",
    "            android:text=\"@string/title_placeholder\"\n",
    "            android:theme=\"@style/ThemeOverlay.AppCompat.Dark\" />\n",
    "\n",
    "        <TextView\n",
    "            android:id=\"@+id/universityTitleDetail\"\n",
    "            style=\"@style/InstituteDetailText\"\n",
    "            android:layout_width=\"wrap_content\"\n",
    "            android:layout_height=\"wrap_content\"\n",
    "            android:layout_below=\"@id/instituteImageDetail\"\n",
    "            android:padding=\"@dimen/activity_horizontal_margin\"\n",
    "            android:text=\"@string/institute_placeholder\"\n",
    "            android:textColor=\"?android:textColorSecondary\" />\n",
    "\n",
    "        <TextView\n",
    "            android:id=\"@+id/genericTextDetail\"\n",
    "            style=\"@style/InstituteDetailText\"\n",
    "            android:layout_width=\"wrap_content\"\n",
    "            android:layout_height=\"wrap_content\"\n",
    "            android:layout_below=\"@id/newsTitleDetail\"\n",
    "            android:padding=\"@dimen/activity_horizontal_margin\"\n",
    "            android:text=\"@string/subtitle_detail_text\" />"
   ]
  },
  {
   "cell_type": "markdown",
   "id": "afb4dd00-2c31-468e-9510-d187de1e460b",
   "metadata": {},
   "source": [
    "Do `strings.xml` dodajemy"
   ]
  },
  {
   "cell_type": "code",
   "execution_count": null,
   "id": "356286fd-64f8-46ca-9858-be64eb1a8557",
   "metadata": {},
   "outputs": [],
   "source": [
    "    <string name=\"title_placeholder\">University of Wroclaw</string>\n",
    "    <string name=\"institute_placeholder\">institute</string>\n",
    "    <string name=\"subtitle_detail_text\">Lorem ipsum dolor sit amet, consectetur adipiscing elit. Praesent ultrices congue rutrum. Phasellus elementum ipsum ac convallis aliquam. Suspendisse eleifend eros a enim faucibus mollis. Nunc placerat, est vitae vestibulum blandit, dolor diam fringilla tellus, eu euismod mauris neque at neque.</string>\n"
   ]
  },
  {
   "cell_type": "markdown",
   "id": "ba84ad8e-4cf6-4700-a61e-5a8f50be3c84",
   "metadata": {},
   "source": [
    "Skorzystamy ze zdefiniowanych domyślnie ustawień tekstu `Headline` i `Subhead`, w tym celu wykorzystamy `style`. Do pliku `themes.xml` dodajemy"
   ]
  },
  {
   "cell_type": "code",
   "execution_count": null,
   "id": "693d7dbf-9b6a-475b-9ae1-8bbe45536f45",
   "metadata": {},
   "outputs": [],
   "source": [
    "    <style name=\"InstituteDetailText\" parent=\"TextAppearance.AppCompat.Subhead\"/>\n",
    "\n",
    "    <style name=\"InstituteTitle\" parent=\"TextAppearance.AppCompat.Headline\"/>\n",
    "\n",
    "    <style name=\"InstituteDetailTitle\" parent=\"TextAppearance.AppCompat.Headline\"/>"
   ]
  },
  {
   "cell_type": "markdown",
   "id": "b193c540-ce24-49be-a55b-4f37a31b680f",
   "metadata": {},
   "source": [
    "Pliki graficzne dodaję do folderu **Drawable**.\n",
    "\n",
    "W pierwszym kroku zdefiniujmy layout pojedynczego elementu `RecylcerView`. Rozpocznijmy od dodania zależności do pliku `build.gradle` aby móc skorzystać z `CardView`"
   ]
  },
  {
   "cell_type": "code",
   "execution_count": null,
   "id": "ffa5a4f6-be23-4d22-b26e-b47e54cdc25f",
   "metadata": {},
   "outputs": [],
   "source": [
    "implementation(\"androidx.cardview:cardview:1.0.0\")"
   ]
  },
  {
   "cell_type": "markdown",
   "id": "e6a14e89-e336-4a02-9d88-7ea91d40c465",
   "metadata": {},
   "source": [
    "\n",
    "Po dodaniu musimy wykonać **synchronizację projektu**.\n",
    "\n",
    "Do folderu **layout** dodaję plik `rv_item.xml`. Głównym elementym będzie `CardView`, pozostałe elementy są takie same jak w layoucie `DetailActivity`"
   ]
  },
  {
   "cell_type": "code",
   "execution_count": null,
   "id": "1542a1cf-b028-44f2-94d2-cf1088c6f636",
   "metadata": {},
   "outputs": [],
   "source": [
    "<?xml version=\"1.0\" encoding=\"utf-8\"?>\n",
    "<androidx.cardview.widget.CardView xmlns:android=\"http://schemas.android.com/apk/res/android\"\n",
    "    android:layout_width=\"match_parent\"\n",
    "    android:layout_height=\"wrap_content\"\n",
    "    xmlns:app=\"http://schemas.android.com/apk/res-auto\"\n",
    "    android:layout_margin=\"@dimen/recycler_view_element_padding\"\n",
    "    app:cardBackgroundColor=\"#0b5294\"\n",
    "    app:cardCornerRadius=\"30dp\"\n",
    "    app:cardElevation=\"15dp\">\n",
    "\n",
    "    <RelativeLayout\n",
    "        android:layout_width=\"match_parent\"\n",
    "        android:layout_height=\"wrap_content\">\n",
    "\n",
    "        <ImageView\n",
    "            android:id=\"@+id/instituteImage\"\n",
    "            android:layout_width=\"match_parent\"\n",
    "            android:layout_height=\"wrap_content\"\n",
    "            android:adjustViewBounds=\"true\"\n",
    "            android:contentDescription=\"@string/iv_desc\" />\n",
    "\n",
    "        <TextView\n",
    "            android:id=\"@+id/title\"\n",
    "            style=\"@style/InstituteTitle\"\n",
    "            android:layout_width=\"wrap_content\"\n",
    "            android:layout_height=\"wrap_content\"\n",
    "            android:padding=\"@dimen/recycler_view_element_padding\"\n",
    "            android:layout_alignBottom=\"@id/instituteImage\"\n",
    "            android:theme=\"@style/ThemeOverlay.AppCompat.Dark\"\n",
    "            android:text=\"@string/title_placeholder\" />\n",
    "\n",
    "        <TextView\n",
    "            android:id=\"@+id/cardTitle\"\n",
    "            style=\"@style/InstituteDetailText\"\n",
    "            android:layout_width=\"wrap_content\"\n",
    "            android:layout_height=\"wrap_content\"\n",
    "            android:layout_below=\"@id/instituteImage\"\n",
    "            android:textColor=\"@android:color/white\"\n",
    "            android:padding=\"@dimen/recycler_view_element_padding\"\n",
    "            android:text=\"@string/title_placeholder\" />\n",
    "\n",
    "        <TextView\n",
    "            android:id=\"@+id/subTitle\"\n",
    "            style=\"@style/InstituteDetailText\"\n",
    "            android:layout_width=\"wrap_content\"\n",
    "            android:layout_height=\"wrap_content\"\n",
    "            android:layout_below=\"@id/cardTitle\"\n",
    "            android:padding=\"@dimen/recycler_view_element_padding\"\n",
    "            android:textColor=\"@android:color/white\"\n",
    "            android:text=\"@string/institute_placeholder\" />\n",
    "\n",
    "    </RelativeLayout>\n",
    "</androidx.cardview.widget.CardView>"
   ]
  },
  {
   "cell_type": "markdown",
   "id": "54777aa9-c093-4724-b808-20346640fbfb",
   "metadata": {},
   "source": [
    "## **Model danych**\n",
    "\n",
    "Dodajmy klasę reprezentującą model danych"
   ]
  },
  {
   "cell_type": "code",
   "execution_count": null,
   "id": "e359ad5d-d321-4bdc-a701-5face0e6344f",
   "metadata": {},
   "outputs": [],
   "source": [
    "package pl.edu.uwr.pum.wfiappjava;\n",
    "\n",
    "public class Institute {\n",
    "    private String title;\n",
    "    private String info;\n",
    "    private final int imageResource; // identyfikatory są przechowywane jako int\n",
    "\n",
    "    public Institute(String title, String info, int imageResource) {\n",
    "        this.title = title;\n",
    "        this.info = info;\n",
    "        this.imageResource = imageResource;\n",
    "    }\n",
    "\n",
    "    public String getTitle() {\n",
    "        return title;\n",
    "    }\n",
    "\n",
    "    public String getInfo() {\n",
    "        return info;\n",
    "    }\n",
    "\n",
    "    public int getImageResource() {\n",
    "        return imageResource;\n",
    "    }\n",
    "}"
   ]
  },
  {
   "cell_type": "markdown",
   "id": "74e8f2c3-8fdd-4842-804d-f8405c8fa808",
   "metadata": {},
   "source": [
    "## **Utworzenie listy `Institute`**\n",
    "\n",
    "Listę wszystkich informacji o instytutach (i biblioteki) będziemy przechowywać w tabelach `<array>` w pliku `strings.xml`"
   ]
  },
  {
   "cell_type": "code",
   "execution_count": null,
   "id": "2334da3f-bcae-47e9-ba3e-7b452b7402e9",
   "metadata": {},
   "outputs": [],
   "source": [
    "    <string-array name=\"institute_titles\">\n",
    "        <item>Institute of Astronomy</item>\n",
    "        <item>Institute of Experimental Physics</item>\n",
    "        <item>Institute of Theoretical Physics</item>\n",
    "        <item>Library</item>\n",
    "    </string-array>\n",
    "\n",
    "    <string-array name=\"institute_info\">\n",
    "        <item>Welcome to Institute of Astronomy!</item>\n",
    "        <item>Welcome to Institute of Experimental Physics!</item>\n",
    "        <item>Welcome to Institute of Theoretical Physics!</item>\n",
    "        <item>Welcome to Library!</item>\n",
    "    </string-array>\n",
    "\n",
    "\n",
    "    <array name=\"institute_images\">\n",
    "        <item>@drawable/img_ia</item>\n",
    "        <item>@drawable/img_ifd</item>\n",
    "        <item>@drawable/img_ift</item>\n",
    "        <item>@drawable/img_bib</item>\n",
    "    </array>"
   ]
  },
  {
   "cell_type": "markdown",
   "id": "127acfd1-ccff-419e-8590-fea52d786df7",
   "metadata": {},
   "source": [
    "Na podstawie tych informacji chcemy stworzyć kolekcję zawierającą wszystkie `Institute`. W klasie `MainActivity` dodajmy "
   ]
  },
  {
   "cell_type": "code",
   "execution_count": null,
   "id": "5a90fc19-7d52-46be-8241-5379540e4a7a",
   "metadata": {},
   "outputs": [],
   "source": [
    "    private final ArrayList<Institute> institutes = new ArrayList<>();"
   ]
  },
  {
   "cell_type": "markdown",
   "id": "0cac14b2-8436-430e-8f18-f5b7982c3a33",
   "metadata": {},
   "source": [
    "Dodajmy metodę `initializeData`"
   ]
  },
  {
   "cell_type": "code",
   "execution_count": 1,
   "id": "d1668d41-7c78-454c-a521-cdbccca6e274",
   "metadata": {},
   "outputs": [],
   "source": [
    "private void initializeData(){}"
   ]
  },
  {
   "cell_type": "markdown",
   "id": "9d9d3d9c-c0da-4afa-a5c1-8d5a8b2c54c3",
   "metadata": {},
   "source": [
    "Wpierw utworzymy dwie tablice `String` do przechowania danych z tablic `institute_titles` oraz `institute_info`"
   ]
  },
  {
   "cell_type": "code",
   "execution_count": null,
   "id": "95823ea0-3b9e-496c-ba8a-7225f5ddc4ec",
   "metadata": {},
   "outputs": [],
   "source": [
    "String[] instituteList = getResources().getStringArray(R.array.institute_titles);\n",
    "String[] instituteInfo = getResources().getStringArray(R.array.institute_info);"
   ]
  },
  {
   "cell_type": "markdown",
   "id": "4e3af5bd-e770-4b35-9c5e-b371c6483eb2",
   "metadata": {},
   "source": [
    "Aby przechować zasoby (odnośniki do plików graficznych z tabeli `institute_images`) skorzystamy z `TypedArray` - jest to kontener do przechowaywania wartości `Resources`."
   ]
  },
  {
   "cell_type": "code",
   "execution_count": null,
   "id": "f57eb8b2-2d38-413e-b03f-b3e86da852a9",
   "metadata": {},
   "outputs": [],
   "source": [
    "TypedArray instituteImageResources = getResources().obtainTypedArray(R.array.institute_images);"
   ]
  },
  {
   "cell_type": "markdown",
   "id": "fcd456cb-72f7-4856-a2e7-847320e4b2ff",
   "metadata": {},
   "source": [
    "Ponieważ metoda posłuży nam również do odświeżania całej listy, w pierwszej kolejności wywołujemy `clear` usuwającą wszystkie elementy z listy"
   ]
  },
  {
   "cell_type": "code",
   "execution_count": null,
   "id": "231253b2-e88c-4f2c-9ca5-0ad0bb200136",
   "metadata": {},
   "outputs": [],
   "source": [
    "institutes.clear();"
   ]
  },
  {
   "cell_type": "markdown",
   "id": "b3095498-15da-4a15-8b9e-f07c0423eef3",
   "metadata": {},
   "source": [
    "Następnie tworzymy listę "
   ]
  },
  {
   "cell_type": "code",
   "execution_count": null,
   "id": "2465ec3a-73cf-4fcb-a7d6-2823a8bbed53",
   "metadata": {},
   "outputs": [],
   "source": [
    "for(int i = 0; i < instituteList.length; i++)\n",
    "    institutes.add(new Institute(\n",
    "        instituteList[i],\n",
    "        instituteInfo[i], \n",
    "        instituteImageResources.getResourceId(i,0))\n",
    "    );"
   ]
  },
  {
   "cell_type": "markdown",
   "id": "46227f47-757b-413a-903c-1445390e6a36",
   "metadata": {},
   "source": [
    "Ostatnim elementem jest wywołanie metody `recycle` na tablicy `TypedArray`. Pozwala ona na odtworzenie tablicy, która może zostać ponownie wykorzystana."
   ]
  },
  {
   "cell_type": "code",
   "execution_count": null,
   "id": "a922d45e-1367-4dce-854b-cdfdb28667bd",
   "metadata": {},
   "outputs": [],
   "source": [
    "instituteImageResources.recycle();"
   ]
  },
  {
   "cell_type": "markdown",
   "id": "31d98cf6-fa1e-4e8a-bde7-123d48b284bd",
   "metadata": {},
   "source": [
    "Następnie dodajmy obsługę `onClick` dla `FloatingActionButton` w metodzie `onCreate`"
   ]
  },
  {
   "cell_type": "code",
   "execution_count": null,
   "id": "c5ea7b27-1a86-41a7-bc19-6acfc4a13f45",
   "metadata": {},
   "outputs": [],
   "source": [
    "findViewById(R.id.fabRefreshButton).setOnClickListener(view -> initializeData());"
   ]
  },
  {
   "cell_type": "markdown",
   "id": "72a68e3b-70e3-4c22-9c7b-c972048685f0",
   "metadata": {
    "tags": []
   },
   "source": [
    "## **`RecyclerView`**\n",
    "\n",
    "Kolejnym krokiem będzie utworzenie klasy `Adapter`."
   ]
  },
  {
   "cell_type": "code",
   "execution_count": null,
   "id": "9d7150fa-1051-4bff-a310-20bb21ab758a",
   "metadata": {},
   "outputs": [],
   "source": [
    "public class InstituteAdapter extends RecyclerView.Adapter<InstituteAdapter.InstituteViewHolder> {\n",
    "\n",
    "    private final ArrayList<Institute> institutes;\n",
    "    private final Context context;\n",
    "\n",
    "    public InstituteAdapter(Context context, ArrayList<Institute> instituteData){\n",
    "        this.institutes = instituteData;\n",
    "        this.context = context; // context będzie potrzebny do biblioteki Glide\n",
    "    }\n",
    "\n",
    "    public static class InstituteViewHolder extends RecyclerView.ViewHolder{\n",
    "\n",
    "        private final TextView titleTextView;\n",
    "        private final TextView infoTextView;\n",
    "\n",
    "        public InstituteViewHolder(@NonNull View itemView) {\n",
    "            super(itemView);\n",
    "\n",
    "            titleTextView = itemView.findViewById(R.id.title);\n",
    "            infoTextView = itemView.findViewById(R.id.subTitle);\n",
    "        }\n",
    "\n",
    "        public void bind(Institute currentInstitute){\n",
    "            titleTextView.setText(currentInstitute.getTitle());\n",
    "            infoTextView.setText(currentInstitute.getInfo());\n",
    "        }\n",
    "    }\n",
    "\n",
    "    @NonNull\n",
    "    @Override\n",
    "    public InstituteAdapter.InstituteViewHolder onCreateViewHolder(@NonNull ViewGroup parent, int viewType) {\n",
    "        return new InstituteViewHolder(LayoutInflater.from(parent.getContext()).inflate(R.layout.rv_item,\n",
    "                parent, false));\n",
    "    }\n",
    "\n",
    "    @Override\n",
    "    public void onBindViewHolder(@NonNull InstituteAdapter.InstituteViewHolder holder, int position) {\n",
    "        Institute currentInstitute = institutes.get(position);\n",
    "        holder.bind(currentInstitute);\n",
    "    }\n",
    "\n",
    "    @Override\n",
    "    public int getItemCount() {\n",
    "        return institutes.size();\n",
    "    }\n",
    "}"
   ]
  },
  {
   "cell_type": "markdown",
   "id": "c24b7025-15d9-4fd4-8f5a-eabe5a37a5d9",
   "metadata": {},
   "source": [
    "Mamy połączone dane tekstowe z polami `TextView`. Kolejnym krokiem będzie skorzystanie z biblioteki `Glide` do obsługi ładowania grafik w pola `ImageView`. W pierwszym kroku musimy dodać odpowiednie zależności - przechodzimy do pliku `build.gradle` i dodajemy"
   ]
  },
  {
   "cell_type": "code",
   "execution_count": null,
   "id": "ea0c188e-3440-471e-8813-7348911a9b29",
   "metadata": {},
   "outputs": [],
   "source": [
    "  implementation 'com.github.bumptech.glide:glide:4.13.0'\n",
    "  annotationProcessor 'com.github.bumptech.glide:compiler:4.13.0'"
   ]
  },
  {
   "cell_type": "markdown",
   "id": "c421c67c-ee04-4f28-8704-2866e3e172ac",
   "metadata": {},
   "source": [
    "Dodajemy odpowiednie pole w `ViewHolder`"
   ]
  },
  {
   "cell_type": "code",
   "execution_count": null,
   "id": "fc114008-836e-466d-87c4-faf637779a40",
   "metadata": {},
   "outputs": [],
   "source": [
    "public static class InstituteViewHolder extends RecyclerView.ViewHolder{\n",
    "\n",
    "    private final TextView titleTextView;\n",
    "    private final TextView infoTextView;\n",
    "    private final ImageView instituteImage;\n",
    "\n",
    "    public InstituteViewHolder(@NonNull View itemView) {\n",
    "        super(itemView);\n",
    "\n",
    "        titleTextView = itemView.findViewById(R.id.title);\n",
    "        infoTextView = itemView.findViewById(R.id.subTitle);\n",
    "        instituteImage = itemView.findViewById(R.id.instituteImage);\n",
    "    }"
   ]
  },
  {
   "cell_type": "markdown",
   "id": "2915c14d-caa4-4119-95fc-ec04b5db8283",
   "metadata": {},
   "source": [
    "Następnie w metodzie `bind` dodamy ładowanie grafiki"
   ]
  },
  {
   "cell_type": "code",
   "execution_count": null,
   "id": "03410e1a-46c5-43c9-9772-07b73b7b4406",
   "metadata": {},
   "outputs": [],
   "source": [
    "public void bind(Institute currentInstitute){\n",
    "    titleTextView.setText(currentInstitute.getTitle());\n",
    "    infoTextView.setText(currentInstitute.getInfo());\n",
    "\n",
    "    Glide.with(context).load(currentInstitute.getImageResource())\n",
    "            .into(instituteImage);\n",
    "}"
   ]
  },
  {
   "cell_type": "markdown",
   "id": "c0471b5c-6443-481b-8a2c-722081d53e8a",
   "metadata": {},
   "source": [
    "Musimy podać `Context` przy wywołaniu, ponieważ tą informację przechowuje klasa `Adapter`, która jest klasą zewnętrzną, musimy zmienić sygnaturę klasy `ViewHolder` z klasy zagnieżdżonej na klasę wewnętrzną. W ten sposób klasa `ViewHolder` będzie posiadała referencję do klasy `Adapter`, więc możemy odwołać się do wszystkich ich pól. Metoda `load` przyjmuje jeden argument `int` będący identyfikatorem zasobu. Następnie wywołujemy metodę `into` w której wskazujemy element docelowy."
   ]
  },
  {
   "cell_type": "markdown",
   "id": "9ac2ec19-1a51-400f-a21c-fd9942ef30d5",
   "metadata": {},
   "source": [
    "## **Obsługa `onClick`**\n",
    "\n",
    "Chcemy dodać obsługę zdarzenia `onClick` elementu listy, w tym celu zmienimy sygnaturę klasy `ViewHolder`, teraz będzie ona implementowała interfejs `View.OnClickListener`"
   ]
  },
  {
   "cell_type": "code",
   "execution_count": null,
   "id": "a648aa7b-8b28-43f5-96fb-436c44a7fb60",
   "metadata": {},
   "outputs": [],
   "source": [
    "    public class InstituteViewHolder extends RecyclerView.ViewHolder implements View\n",
    "            .OnClickListener{"
   ]
  },
  {
   "cell_type": "markdown",
   "id": "ff1ea0c5-0439-4034-86ec-ede35d29db80",
   "metadata": {},
   "source": [
    "Następnie dodajemy implementację metody `onClick`"
   ]
  },
  {
   "cell_type": "code",
   "execution_count": null,
   "id": "3f3bd813-3c84-4ab8-a3b3-03ce4eae1be2",
   "metadata": {},
   "outputs": [],
   "source": [
    "        @Override\n",
    "        public void onClick(View v) {\n",
    "        }"
   ]
  },
  {
   "cell_type": "markdown",
   "id": "c1379fb1-4e85-4b99-8564-767a1588157e",
   "metadata": {},
   "source": [
    "Ponieważ chcemy przekazać dane do `DetailActivity`, w tym przykładzie prześlemy cały obiekt. Nasz klasa reprezentująca model danych (`Institute`) musi implementować interfejs `Parcelable`"
   ]
  },
  {
   "cell_type": "code",
   "execution_count": null,
   "id": "73bc99e0-679e-475a-a593-0ea52887bc85",
   "metadata": {},
   "outputs": [],
   "source": [
    "public class Institute implements Parcelable {\n",
    "    private final String title;\n",
    "    private final String info;\n",
    "    private final int imageResource;\n",
    "\n",
    "    public Institute(String title, String info, int imageResource) {\n",
    "        this.title = title;\n",
    "        this.info = info;\n",
    "        this.imageResource = imageResource;\n",
    "    }\n",
    "\n",
    "    protected Institute(Parcel in) {\n",
    "        title = in.readString();\n",
    "        info = in.readString();\n",
    "        imageResource = in.readInt();\n",
    "    }\n",
    "\n",
    "    public static final Creator<Institute> CREATOR = new Creator<Institute>() {\n",
    "        @Override\n",
    "        public Institute createFromParcel(Parcel in) {\n",
    "            return new Institute(in);\n",
    "        }\n",
    "\n",
    "        @Override\n",
    "        public Institute[] newArray(int size) {\n",
    "            return new Institute[size];\n",
    "        }\n",
    "    };\n",
    "\n",
    "    public String getTitle() {\n",
    "        return title;\n",
    "    }\n",
    "\n",
    "    public String getInfo() {\n",
    "        return info;\n",
    "    }\n",
    "\n",
    "    public int getImageResource() {\n",
    "        return imageResource;\n",
    "    }\n",
    "\n",
    "    @Override\n",
    "    public int describeContents() {\n",
    "        return 0;\n",
    "    }\n",
    "\n",
    "    @Override\n",
    "    public void writeToParcel(Parcel parcel, int i) {\n",
    "        parcel.writeString(title);\n",
    "        parcel.writeString(info);\n",
    "        parcel.writeInt(imageResource);\n",
    "    }\n",
    "}"
   ]
  },
  {
   "cell_type": "markdown",
   "id": "10e186ab-51a9-42fd-91c4-1fd83cf9b508",
   "metadata": {},
   "source": [
    "Następnie w klasie `Adapter` utwórzmy odpowiedni klucz dla `Intent`"
   ]
  },
  {
   "cell_type": "code",
   "execution_count": null,
   "id": "6e933ded-a603-40fe-81a3-283779a9b97f",
   "metadata": {},
   "outputs": [],
   "source": [
    "public static final String INSTITUTE_EXTRA = \"pl.edu.uwr.pum.wfiappjava.institute\";"
   ]
  },
  {
   "cell_type": "markdown",
   "id": "e749cb68-b18b-4d18-969f-5f6c7906c9b2",
   "metadata": {},
   "source": [
    "Dodajmy implementację metody `onClick`. W pierwszej kolejności musimy wyciągnąć element na którym została wywołana funckja"
   ]
  },
  {
   "cell_type": "code",
   "execution_count": null,
   "id": "c6255903-12a6-479c-8906-6907ea067001",
   "metadata": {},
   "outputs": [],
   "source": [
    "Institute currentInstitute = institutes.get(getAdapterPosition());"
   ]
  },
  {
   "cell_type": "markdown",
   "id": "15773211-fb24-4bda-9496-2caa82138146",
   "metadata": {},
   "source": [
    "Następnie tworzymy nowy `Intent` i dodajemy dane"
   ]
  },
  {
   "cell_type": "code",
   "execution_count": null,
   "id": "208d0551-a522-47a1-95e4-ff96d1d90449",
   "metadata": {},
   "outputs": [],
   "source": [
    "Intent intent = new Intent(context, DetailActivity.class);\n",
    "intent.putExtra(INSTITUTE_EXTRA, currentInstitute);"
   ]
  },
  {
   "cell_type": "markdown",
   "id": "f2e748eb-0c7a-45cf-a448-aaf26b7e3255",
   "metadata": {},
   "source": [
    "Ostatnim elementem będzie wywołanie metody `startActivity`, tą metodę musimy wywołać na odpowiednim `Context`"
   ]
  },
  {
   "cell_type": "code",
   "execution_count": null,
   "id": "ef880a0f-e2f9-4221-aaae-5de85a103ffd",
   "metadata": {},
   "outputs": [],
   "source": [
    "context.startActivity(intent);"
   ]
  },
  {
   "cell_type": "markdown",
   "id": "147fd4e7-a007-48d4-93dd-67587a209b52",
   "metadata": {},
   "source": [
    "Na koniec musimy ustawić `OnClickListener`, do konstruktora `InstituteViewHolder` dodajemy"
   ]
  },
  {
   "cell_type": "code",
   "execution_count": null,
   "id": "05692e6e-3fc9-4a14-995f-e66fc3187bd9",
   "metadata": {},
   "outputs": [],
   "source": [
    "itemView.setOnClickListener(this);"
   ]
  },
  {
   "cell_type": "markdown",
   "id": "746c3240-29e4-4b9f-bee6-690b7505a7d7",
   "metadata": {},
   "source": [
    "## **GridLayoutManager**\n",
    "\n",
    "Przejdźmy do dodania `RecyclerView` do `MainActivity`. Wpierw dodajmy zmienną `InstituteAdapter` do klasy"
   ]
  },
  {
   "cell_type": "code",
   "execution_count": null,
   "id": "6b470e36-a051-4a1c-af01-544bedee8185",
   "metadata": {},
   "outputs": [],
   "source": [
    "private InstituteAdapter instituteAdapter;"
   ]
  },
  {
   "cell_type": "markdown",
   "id": "79e58be9-79fa-4bfd-90f8-2c9d363e7328",
   "metadata": {},
   "source": [
    "W metodzie `onCreate` dodajemy `RecyclerView`"
   ]
  },
  {
   "cell_type": "code",
   "execution_count": null,
   "id": "49334897-33a1-4f44-9e3b-6757f2249344",
   "metadata": {},
   "outputs": [],
   "source": [
    "RecyclerView mRecyclerView = findViewById(R.id.recyclerView);"
   ]
  },
  {
   "cell_type": "markdown",
   "id": "6160a976-8542-48c0-82d1-1ff87bd5bd84",
   "metadata": {},
   "source": [
    "W tej aplikacji wykorzystamy `GridLayoutManager` i uzależnimy liczbę kolumn od orientacji urządzenia. W widoku wertykalnym będziemy mieć jedną kolumnę, w horyzontalnym dwie - czyli dwa `CardView` obok siebie."
   ]
  },
  {
   "cell_type": "markdown",
   "id": "146326b4-4396-4eaa-aff8-3727f698b003",
   "metadata": {},
   "source": [
    "<img src=\"https://media2.giphy.com/media/gooBI30gtU5fMkmCZu/giphy.gif?cid=790b7611df027999cb2a17ec28a3095ad5693e6e76c37990&rid=giphy.gif&ct=g\" width=\"200\" />"
   ]
  },
  {
   "cell_type": "markdown",
   "id": "ab468b88-3b3e-4ea6-b94d-4c64f7ca9f8f",
   "metadata": {},
   "source": [
    "Aby to osiągnąć musimy zdefiniować zmienną, która będzie zmieniała wartość po zmianie orientacji urządzenia. Do folderu **values** dodajmy nowy plik o nazwie `integers.xml`"
   ]
  },
  {
   "cell_type": "code",
   "execution_count": null,
   "id": "a80b9582-7da1-4407-be37-073914be4c7e",
   "metadata": {},
   "outputs": [],
   "source": [
    "<?xml version=\"1.0\" encoding=\"utf-8\"?>\n",
    "<resources>\n",
    "    <integer name=\"grid_column_count\">1</integer>\n",
    "</resources>"
   ]
  },
  {
   "cell_type": "markdown",
   "id": "ba5162af-4bbb-40f2-af15-2e00b9fb77cf",
   "metadata": {},
   "source": [
    "Chcemy teraz zdefiniować inną wartość dla zmiennej `grid_column_count` dla innej orientacji. Ponownie do folderu **values** dodajemy plik o nazwie `integers.xml` lecz tym razem w zakładce **Available qualifiers** wybieram **Orientation** i dodaję do wybranych kwalifikatorów. Następnie z rozwijanego menu wybieram **Landscape**."
   ]
  },
  {
   "cell_type": "code",
   "execution_count": null,
   "id": "a43e8cc0-5c2b-4302-b2be-cc55b7c99b9b",
   "metadata": {},
   "outputs": [],
   "source": [
    "<?xml version=\"1.0\" encoding=\"utf-8\"?>\n",
    "<resources>\n",
    "    <integer name=\"grid_column_count\">2</integer>\n",
    "</resources>"
   ]
  },
  {
   "cell_type": "markdown",
   "id": "63ed8c29-8faa-481d-8597-d6d2315d8c55",
   "metadata": {},
   "source": [
    "Mechanizm ten pozwala na przygotowanie różnych wersji plików w zależności od wybranego kwalifikatora.\n",
    "\n",
    "Powróćmy do `MainActivity` i dodajmy zmienną przechowującą wartość `grid_column_count`"
   ]
  },
  {
   "cell_type": "code",
   "execution_count": null,
   "id": "d03b2524-f4d2-4011-9995-9e6d6b09895a",
   "metadata": {},
   "outputs": [],
   "source": [
    "int gridColumnCount = getResources().getInteger(R.integer.grid_column_count);"
   ]
  },
  {
   "cell_type": "markdown",
   "id": "054adea0-61f3-4620-9669-082fa94782fb",
   "metadata": {},
   "source": [
    "Następnie ustawmy `LayoutManager`"
   ]
  },
  {
   "cell_type": "code",
   "execution_count": null,
   "id": "5c1d09dc-70ca-436f-b5a3-2ea13bb699a2",
   "metadata": {},
   "outputs": [],
   "source": [
    "mRecyclerView.setLayoutManager(new GridLayoutManager(this, gridColumnCount));"
   ]
  },
  {
   "cell_type": "markdown",
   "id": "6728d2c7-890c-4db1-ba61-64b8d45b5bdb",
   "metadata": {},
   "source": [
    "Konstruktor `GridLayoutManager` przyjmuje dwa parametry - `Context` oraz liczbę kolumn. Jako liczbę kolumn podajemy utworzoną `gridColumnCount`. Następnie tworzymy `Adapter` i powiązujemy go z `RecyclerView`"
   ]
  },
  {
   "cell_type": "code",
   "execution_count": null,
   "id": "25ae6521-3e98-48b5-8d67-a7125f709db7",
   "metadata": {},
   "outputs": [],
   "source": [
    "instituteAdapter = new InstituteAdapter(this, institutes);\n",
    "mRecyclerView.setAdapter(instituteAdapter);"
   ]
  },
  {
   "cell_type": "markdown",
   "id": "295ab21c-c99e-42ad-b8f0-3509a7daf62e",
   "metadata": {},
   "source": [
    "Ostatnim krokiem jest modyfikacja metody `onClick` na `Fab` - gdy chcemy przeładować dane, musimy również poinformować o tym fakcie `Adapter`"
   ]
  },
  {
   "cell_type": "code",
   "execution_count": null,
   "id": "dcb837a7-ef34-407d-a0ba-fb5971007864",
   "metadata": {},
   "outputs": [],
   "source": [
    "findViewById(R.id.fabRefreshButton).setOnClickListener(view -> {\n",
    "    initializeData();\n",
    "    instituteAdapter.notifyDataSetChanged();\n",
    "});"
   ]
  },
  {
   "cell_type": "markdown",
   "id": "c7c61d0b-82b5-4f01-a357-c89957c476dc",
   "metadata": {},
   "source": [
    "Metodę `initializeData` wywołujemy również w metodzie `onCreate` i możemy przetestować aplikację."
   ]
  },
  {
   "cell_type": "markdown",
   "id": "2ce90b33-3b4a-4903-ae9f-24cab996c5bd",
   "metadata": {},
   "source": [
    "## **Odebranie danych w `DetailActivity`**"
   ]
  },
  {
   "cell_type": "markdown",
   "id": "55c99698-c357-44c4-93ca-9633d701604f",
   "metadata": {},
   "source": [
    "Teraz zajmiemy odebraniem danych i wyświetleniem ich w `DetailActivity`. W pierwszej kolejności tworzymy instancję `Institute` i odbierzmy dane z `Intent`"
   ]
  },
  {
   "cell_type": "code",
   "execution_count": null,
   "id": "38b9b713-5952-4b4a-b99c-d304654f778c",
   "metadata": {},
   "outputs": [],
   "source": [
    "Institute institute = getIntent().getParcelableExtra(InstituteAdapter.INSTITUTE_EXTRA);"
   ]
  },
  {
   "cell_type": "markdown",
   "id": "a47186aa-f0b8-4cd6-8307-0afd86720c7b",
   "metadata": {},
   "source": [
    "Następnie połączmy dane z odpowiednimi polami layoutu"
   ]
  },
  {
   "cell_type": "code",
   "execution_count": null,
   "id": "d1cf147e-b858-4dcc-b289-85eb1cead63d",
   "metadata": {},
   "outputs": [],
   "source": [
    "TextView instituteTitle = findViewById(R.id.titleDetail);\n",
    "ImageView instituteImage = findViewById(R.id.instituteImageDetail);\n",
    "\n",
    "if(institute != null) {\n",
    "    instituteTitle.setText(institute.getTitle());\n",
    "\n",
    "    Glide.with(this)\n",
    "        .load(institute.getImageResource())\n",
    "        .into(instituteImage);\n",
    "}"
   ]
  },
  {
   "cell_type": "markdown",
   "id": "8bb3c915-79d8-4160-be66-e4fd82152954",
   "metadata": {},
   "source": [
    "Na tym etapie możemy przetestować aplikację."
   ]
  },
  {
   "cell_type": "markdown",
   "id": "d6f98f2d-a00f-46cd-b11e-13c41de85433",
   "metadata": {},
   "source": [
    "## **Obsługa gestów**"
   ]
  },
  {
   "cell_type": "markdown",
   "id": "71eb10c4-6852-4370-a1f3-25c4eaf75c0b",
   "metadata": {},
   "source": [
    "Dodajmy do aplikacji podstawową obsługę gestów. Chcemy mieć możliwość przestawienia elementów na liście (**drag & drop**) oraz usunięcia jednego elementu (**swipe to dismiss**). Posłużymy się klasą `ItemTouchHelper` ułatwiającą implementację odpowiedzi na zdarzania przez `RecyclerView`.\n",
    "\n",
    "W pierwszej kolejności chcemy ustalić przesuwając element w jakich kierunkach chcemy usunąć element. Do metody `onCreate` dodajmy zmienną reprezentującą liczbę kierunków"
   ]
  },
  {
   "cell_type": "code",
   "execution_count": null,
   "id": "d84b2382-b022-47cd-8711-248e0d2ce750",
   "metadata": {},
   "outputs": [],
   "source": [
    "int swipeDirs;\n",
    "\n",
    "if(gridColumnCount >1)\n",
    "    swipeDirs = 0;\n",
    "else\n",
    "    swipeDirs = ItemTouchHelper.LEFT | ItemTouchHelper.RIGHT;"
   ]
  },
  {
   "cell_type": "markdown",
   "id": "df7c5236-3ba5-4288-9a19-6cb8ab1ef3bb",
   "metadata": {},
   "source": [
    "Uzależniamy możliwość usunięcia elementu listy od orientacji urządzenia - czyli od liczby wyświetlanych kolumn. Jeżeli znajdujemy się w orientacji **portrait** zmienna `swiepDirs` będzie miała wartość reprezentującą kierunki `LEFT` i `RIGHT`. Tutaj posługujemy się **alternatywą** (operator `|`)."
   ]
  },
  {
   "cell_type": "markdown",
   "id": "421d977c-b70a-453f-806f-c5fec78fca6e",
   "metadata": {},
   "source": [
    "W następnej kolejności zaimplementujemy samą funckjonalność, będziemy potrzebować instancję klasy `IteemTouchHelper`"
   ]
  },
  {
   "cell_type": "code",
   "execution_count": null,
   "id": "e195eef9-39a2-42dc-ae49-e6a431062326",
   "metadata": {},
   "outputs": [],
   "source": [
    "ItemTouchHelper helper = new ItemTouchHelper();"
   ]
  },
  {
   "cell_type": "markdown",
   "id": "4b97a6d9-aa25-440b-b10c-df7bd013996c",
   "metadata": {},
   "source": [
    "Jako parametr konstruktora musimy podać `Callback` na którym będzie działać utworzony `ItemTouchHelper`. Tutaj chhcemy zaimplementować podstawową funkcjonalność, więc możemy skorzystać z uproszczonego klasy `SimpleCallback`. Jako parametr podajemy instancję klasy anonimowej "
   ]
  },
  {
   "cell_type": "code",
   "execution_count": null,
   "id": "5c9170e7-4b02-4b1f-b551-f07412dce6ac",
   "metadata": {},
   "outputs": [],
   "source": [
    "ItemTouchHelper helper = new ItemTouchHelper(new ItemTouchHelper.SimpleCallback() {"
   ]
  },
  {
   "cell_type": "markdown",
   "id": "5fd14993-d256-4e80-b1b8-fb4588afdf8f",
   "metadata": {},
   "source": [
    "Klasa `SimpleCallback` przyjmuje dwa parametry\n",
    "- `dragDirs` - określający kierunki przeciągnięcia elementu\n",
    "- `swipeDirs` - określający kierunki przemiecenia elementu"
   ]
  },
  {
   "cell_type": "code",
   "execution_count": null,
   "id": "3e6bc0a1-aa06-46e7-b6bd-3fb80ea02b18",
   "metadata": {},
   "outputs": [],
   "source": [
    "ItemTouchHelper helper = new ItemTouchHelper(new ItemTouchHelper.SimpleCallback(\n",
    "                ItemTouchHelper.LEFT | ItemTouchHelper.RIGHT |\n",
    "                        ItemTouchHelper.UP | ItemTouchHelper.DOWN,\n",
    "                swipeDirs\n",
    "        )"
   ]
  },
  {
   "cell_type": "markdown",
   "id": "49845319-0da3-4fad-b28c-6b038b835920",
   "metadata": {},
   "source": [
    "Będziemy mieć możliwość przeciągania elementu w czterech kierunkach i wykonania **swipe to dismiss** tylko w dwóch kierunkach w orientacji wertykalnej."
   ]
  },
  {
   "cell_type": "markdown",
   "id": "13b070b5-080d-4b76-a15d-3ceec38f94ef",
   "metadata": {},
   "source": [
    "Mamy dwie możliwości, więc mamy również dwie metody do zaimplementowania"
   ]
  },
  {
   "cell_type": "code",
   "execution_count": null,
   "id": "2c2d7871-5a1f-4fc4-922e-8b261a69de15",
   "metadata": {},
   "outputs": [],
   "source": [
    "@Override\n",
    "public boolean onMove(\n",
    "    @NonNull RecyclerView recyclerView, \n",
    "    @NonNull RecyclerView.ViewHolder viewHolder, \n",
    "    @NonNull RecyclerView.ViewHolder target) {\n",
    "    return false;\n",
    "}\n",
    "\n",
    "@Override\n",
    "public void onSwiped(@NonNull RecyclerView.ViewHolder viewHolder, int direction) {\n",
    "\n",
    "}"
   ]
  },
  {
   "cell_type": "markdown",
   "id": "f55d1057-aa0a-49f7-887a-41076970b5a9",
   "metadata": {},
   "source": [
    "W metodzie `onSwiped` chcemy dodać implementację usuwającą przemieciony element. W pierwszej kolejności usuniemy element o zadanej pozycji z naszej kolekcji `institutes`, następnie powiadomimy `Adapter` o usuniętym elemencie aby wykonać odświeżenie `RecyclerView`"
   ]
  },
  {
   "cell_type": "code",
   "execution_count": null,
   "id": "f49e4bfc-ee8d-46ec-b64d-90995ea2660a",
   "metadata": {},
   "outputs": [],
   "source": [
    "@Override\n",
    "public void onSwiped(@NonNull RecyclerView.ViewHolder viewHolder, int direction) {\n",
    "    institutes.remove(viewHolder.getAdapterPosition());\n",
    "    instituteAdapter.notifyItemRemoved(viewHolder.getAdapterPosition());\n",
    "}"
   ]
  },
  {
   "cell_type": "markdown",
   "id": "b23984a2-50ba-4950-96af-ca0fa22d884e",
   "metadata": {},
   "source": [
    "Musimy podczepić utworzony `ItemTouchHelper` pod `RecyclerView`"
   ]
  },
  {
   "cell_type": "code",
   "execution_count": null,
   "id": "c9bfb145-c5b8-4b90-b69a-7ce787a212a6",
   "metadata": {},
   "outputs": [],
   "source": [
    "helper.attachToRecyclerView(recyclerView);"
   ]
  },
  {
   "cell_type": "markdown",
   "id": "2411048d-26d9-46a1-b774-267abd4888b7",
   "metadata": {},
   "source": [
    "Możemy przetestować funkcjonalność **swipe to dismiss**"
   ]
  },
  {
   "cell_type": "markdown",
   "id": "c0e05cf8-e72a-4bfc-8cc3-3508daeced8d",
   "metadata": {},
   "source": [
    "<img src=\"https://media2.giphy.com/media/h5Xh7V5IA5E3BV4ytL/giphy.gif?cid=790b7611412fedb227b91c2cb44067aa88f517a18214afde&rid=giphy.gif&ct=g\" width=\"150\" />"
   ]
  },
  {
   "cell_type": "markdown",
   "id": "dfe32765-ce9f-452e-bae1-ed7b39404c0b",
   "metadata": {},
   "source": [
    "Dodajmy implementację metody `onMove`. Musimy zdefiniować dwie pozycje, który element przesuwamy i na które miejsce. Zdefiniujmy dwie zmienne"
   ]
  },
  {
   "cell_type": "code",
   "execution_count": null,
   "id": "a355e804-1dbe-4d2d-a7d3-4a76c32bca76",
   "metadata": {},
   "outputs": [],
   "source": [
    "int from = viewHolder.getAdapterPosition();\n",
    "int to = target.getAdapterPosition();"
   ]
  },
  {
   "cell_type": "markdown",
   "id": "89afc703-fb47-410c-b655-5972203714e1",
   "metadata": {},
   "source": [
    "`ViewHolder` odnosi się do elemtu na którym wykonujemy czynność, `target` jest elementem docelowym. Następnie wykonujemy metodę `swap` na naszej kolekcji i powiadamiamy `Adapter` o wykonanej operacji."
   ]
  },
  {
   "cell_type": "code",
   "execution_count": null,
   "id": "d01ddfc6-6785-4c4c-9c20-de8541c7f4bd",
   "metadata": {},
   "outputs": [],
   "source": [
    "@Override\n",
    "public boolean onMove(@NonNull RecyclerView recyclerView, @NonNull RecyclerView.ViewHolder viewHolder, @NonNull RecyclerView.ViewHolder target) {\n",
    "    int from = viewHolder.getAdapterPosition();\n",
    "    int to = target.getAdapterPosition();\n",
    "\n",
    "    Collections.swap(institutes, from, to);\n",
    "    instituteAdapter.notifyItemMoved(from, to);\n",
    "    return true;\n",
    "}"
   ]
  },
  {
   "cell_type": "markdown",
   "id": "07624501-d5c6-451d-9ab0-a31cf7e7620c",
   "metadata": {},
   "source": [
    "Metoda `onMove` zwraca `boolean` w zależności od powodzenia operacji. Tutaj, dla prostoty, zawsze zwrócimy `true`. Możemy przetestować funkcjonalność."
   ]
  },
  {
   "cell_type": "markdown",
   "id": "b6ed7015-1fe0-4c75-931a-bac7dc5533bb",
   "metadata": {},
   "source": [
    "<img src=\"https://media2.giphy.com/media/uwDAUUAjLZnyKqLg3J/giphy.gif?cid=790b76110bdb83e20fb638b9fb5150422cf100e384687bcf&rid=giphy.gif&ct=g\" width=\"150\" />"
   ]
  },
  {
   "cell_type": "code",
   "execution_count": null,
   "id": "58e98e8f-c866-4607-a70a-1aee12236cf7",
   "metadata": {},
   "outputs": [],
   "source": []
  }
 ],
 "metadata": {
  "kernelspec": {
   "display_name": "Java",
   "language": "java",
   "name": "java"
  },
  "language_info": {
   "codemirror_mode": "java",
   "file_extension": ".jshell",
   "mimetype": "text/x-java-source",
   "name": "Java",
   "pygments_lexer": "java",
   "version": "17+35-2724"
  }
 },
 "nbformat": 4,
 "nbformat_minor": 5
}
