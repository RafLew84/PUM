{
 "cells": [
  {
   "cell_type": "markdown",
   "id": "638a23f5-49aa-440b-a3a9-d19820bf0176",
   "metadata": {},
   "source": [
    "## 12.3 Moduły i metody dostarczające (provider methods)"
   ]
  },
  {
   "cell_type": "markdown",
   "id": "9e4387f1-3044-432a-97cf-3855c2abb472",
   "metadata": {},
   "source": [
    "Do tej pory cały proces wstrzykiwania był relatywnie prosty. Jeżeli jednak nie mamy dostępu do klasy której instancję chcemy wstrzyknąć (klasy dostępne w zewnętrznych bibliotekach - przykładowo `Notification`, `SharedPreferences`, `RecyclerView`, `Retrofit`) nie możemy zastosować wstrzykiwania przez konstruktor, metodę czy pole - innymi słowy nie możemy modyfikować tej klasy. Musimy zastosować nieco inny mechanizm.\n",
    "\n",
    "Załóżmy że nasz komputer składa się tylko z cpu i gpu. Klasy pochodzą z zewnętrznych bibliotek, więc nie możemy dokonać żadnej modyfikacji. Konstruktor klasy `Computer` przyjmuje dwa argumenty: `GPU` i `CPU`"
   ]
  },
  {
   "cell_type": "code",
   "execution_count": null,
   "id": "203bdad7-7a94-428e-a3bc-5221287b29c4",
   "metadata": {},
   "outputs": [],
   "source": [
    "class Computer(val gpu: GPU, val cpu: CPU) {\n",
    "    fun work():String{\n",
    "        return \"working\"\n",
    "    }\n",
    "}\n",
    "class CPU {}\n",
    "class GPU {}"
   ]
  },
  {
   "cell_type": "markdown",
   "id": "fd9b88a2-bd90-41ae-bbac-5b4e6b6fd25c",
   "metadata": {},
   "source": [
    "W jaki sposób możemy pokazać bibliotece `Dagger2` jak utworzyć obiekty `Computer`, `GPU` i `CPU`, oraz kolejność ich tworzenia? W tym celu wykorzystamy **moduły** - są to zwykłe klasy które są dodane do grafu tworzonego przez `Dagger2`.\n",
    "\n",
    "Dodajmy metody dostarczające - mamy dwie zależności: `GPU` i `CPU`."
   ]
  },
  {
   "cell_type": "code",
   "execution_count": null,
   "id": "629ab868-8f79-4356-b8cd-7687861126e6",
   "metadata": {},
   "outputs": [],
   "source": [
    "@Module\n",
    "class ComputerModule {\n",
    "    @Provides\n",
    "    fun provideGpu(): GPU{\n",
    "        return GPU()\n",
    "    }\n",
    "\n",
    "    @Provides\n",
    "    fun provideCpu(): CPU{\n",
    "        return CPU()\n",
    "    }\n",
    "}"
   ]
  },
  {
   "cell_type": "markdown",
   "id": "9b9ba1b2-8787-447b-84e6-6e3ac8d73d13",
   "metadata": {},
   "source": [
    "Adnotacja `@Provides` pozwala oznaczyć metodę dostarczającą. Gdy `Dagger2` potrzebuje obiektu typu `CPU`, odwołuje się do odpowiedniej metody.\n",
    "\n",
    "Pozostaje dostarczyć metodę tworzącą obiekt typu `Computer`"
   ]
  },
  {
   "cell_type": "code",
   "execution_count": null,
   "id": "e96737c7-5b97-4d43-b5ef-dd4e7930a2f4",
   "metadata": {},
   "outputs": [],
   "source": [
    "@Provides\n",
    "fun provideComputer(cpu: CPU, gpu: GPU): Computer{\n",
    "    return Computer(gpu, cpu)\n",
    "}"
   ]
  },
  {
   "cell_type": "markdown",
   "id": "c92e1363-fada-40ac-8361-3dd96d148fd8",
   "metadata": {},
   "source": [
    "Konstruktor `Computer` wymaga podania obiektów `CPU` i `GPU`, ponieważ mamy już metody dostarczające te obiekty, możemy przekazać `cpu` i `gpu` w argumentach metody `provideComputer` - `Dagger2` automatycznie użyje pozostałych metod dostarczających do utworzenia odpowiednich obiektów.\n",
    "\n",
    "Do interfejsu `ComputerComponent`, przy adnotacji `@Component` musimy podać tablicę modułów"
   ]
  },
  {
   "cell_type": "code",
   "execution_count": null,
   "id": "69e9bbbc-12c2-4d90-aaf0-8a6038c4c2a0",
   "metadata": {},
   "outputs": [],
   "source": [
    "@Component(modules = [ComputerModule::class])\n",
    "interface ComputerComponent {\n",
    "    fun inject(activity: MainActivity)\n",
    "}"
   ]
  },
  {
   "cell_type": "markdown",
   "id": "c198e2a2-d581-4eca-a2aa-c65fca75ee97",
   "metadata": {},
   "source": [
    "W głównej aktywności nie wprowadzamy żadnych zmian w statunku do poprzedniego przykładu."
   ]
  },
  {
   "cell_type": "code",
   "execution_count": null,
   "id": "7f0bb014-8453-43cb-ac89-ea640dc2afb0",
   "metadata": {},
   "outputs": [],
   "source": [
    "class MainActivity : AppCompatActivity() {\n",
    "\n",
    "    @Inject\n",
    "    lateinit var computer: Computer\n",
    "\n",
    "    override fun onCreate(savedInstanceState: Bundle?) {\n",
    "        super.onCreate(savedInstanceState)\n",
    "        setContentView(R.layout.activity_main)\n",
    "\n",
    "        val component = DaggerComputerComponent.create()\n",
    "        component.inject(this)\n",
    "        val textView = findViewById<TextView>(R.id.textview)\n",
    "        textView.text = computer.work()\n",
    "    }\n",
    "}"
   ]
  },
  {
   "cell_type": "code",
   "execution_count": null,
   "id": "98e3213d-d76b-49df-9659-38d1e18db03e",
   "metadata": {},
   "outputs": [],
   "source": []
  }
 ],
 "metadata": {
  "kernelspec": {
   "display_name": "Kotlin",
   "language": "kotlin",
   "name": "kotlin"
  },
  "language_info": {
   "codemirror_mode": "text/x-kotlin",
   "file_extension": ".kt",
   "mimetype": "text/x-kotlin",
   "name": "kotlin",
   "nbconvert_exporter": "",
   "pygments_lexer": "kotlin",
   "version": "1.6.20-dev-6372"
  }
 },
 "nbformat": 4,
 "nbformat_minor": 5
}
