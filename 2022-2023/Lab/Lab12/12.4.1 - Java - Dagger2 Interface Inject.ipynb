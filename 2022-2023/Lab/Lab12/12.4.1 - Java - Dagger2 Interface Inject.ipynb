{
 "cells": [
  {
   "cell_type": "markdown",
   "id": "7609afb2-da4f-4a9b-ae1a-fcf437db586b",
   "metadata": {},
   "source": [
    "## 12.4 Wstrzykiwanie interfejsów"
   ]
  },
  {
   "cell_type": "markdown",
   "id": "b31b512f-e89f-4d62-b92a-ed033d6e42c4",
   "metadata": {},
   "source": [
    "W tym przykładzie przyjrzymy się procesowi wstrzyknięć interfejsów. W dalszym ciągu posługujemy się abstrakcją komputera - tym razem nasz komputer będzie składał się tylko z cpu. `CPU` jest interfejsem, mamy również dwie klasy implementujące ten interfejs - `AMD` i `Intel`."
   ]
  },
  {
   "cell_type": "code",
   "execution_count": null,
   "id": "45679c93-3c3b-4781-90a8-c17657f232a2",
   "metadata": {},
   "outputs": [],
   "source": [
    "public interface CPU {\n",
    "    String name();\n",
    "}\n",
    "\n",
    "public class Intel implements CPU {\n",
    "\n",
    "    @Override\n",
    "    public String name() {\n",
    "        return \"intel\";\n",
    "    }\n",
    "}\n",
    "\n",
    "public class AMD implements CPU {\n",
    "\n",
    "    @Override\n",
    "    public String name() {\n",
    "        return \"amd\";\n",
    "    }\n",
    "}\n",
    "\n",
    "public class Computer {\n",
    "    private CPU cpu;\n",
    "\n",
    "    @Inject\n",
    "    public Computer(CPU cpu) {\n",
    "        this.cpu = cpu;\n",
    "    }\n",
    "\n",
    "    public String cpuName(){\n",
    "        return cpu.name();\n",
    "    }\n",
    "}"
   ]
  },
  {
   "cell_type": "markdown",
   "id": "4a3016e9-6669-4ff5-94aa-dffcb3bfec0b",
   "metadata": {},
   "source": [
    "klasy `AMD` i `Intel` posiadają kontruktor z adnotacją `@Inject`"
   ]
  },
  {
   "cell_type": "code",
   "execution_count": null,
   "id": "118f3d35-0db7-41b9-ba44-8121ac24c474",
   "metadata": {},
   "outputs": [],
   "source": [
    "public class AMD implements CPU {\n",
    "\n",
    "    @Inject\n",
    "    public AMD() {}\n",
    "\n",
    "    @Override\n",
    "    public String name() {\n",
    "        return \"amd\";\n",
    "    }\n",
    "}\n",
    "\n",
    "public class Intel implements CPU {\n",
    "\n",
    "    @Inject\n",
    "    public Intel() {}\n",
    "\n",
    "    @Override\n",
    "    public String name() {\n",
    "        return \"intel\";\n",
    "    }\n",
    "}"
   ]
  },
  {
   "cell_type": "markdown",
   "id": "fe6fc694-2d3c-491e-93fe-0793c1c20430",
   "metadata": {},
   "source": [
    "Teraz `Dagger2` wie jak stworzyć te dwie klasy, jednak w konstruktorze klasy `Computer` przyjmujemy argument o typie interfejsu `CPU`, więc musimy jescze wskazać w odpowiednim module sposób inicjalizacji `CPU`. potrzebujemy dwa moduły - dla każdego `CPU`."
   ]
  },
  {
   "cell_type": "code",
   "execution_count": null,
   "id": "bc9c3db0-9455-46a8-8993-56218f143c96",
   "metadata": {},
   "outputs": [],
   "source": [
    "@Module\n",
    "public class AmdModule {\n",
    "    @Provides\n",
    "    CPU provideCpu(AMD cpu){\n",
    "        return cpu;\n",
    "    }\n",
    "}"
   ]
  },
  {
   "cell_type": "markdown",
   "id": "bfe925e0-b1e3-40cf-8f32-6fddadac367a",
   "metadata": {},
   "source": [
    "Nasz `AmdModule` zawiera jedną metodę `providesCpu` z adnotacją `@Provides`. Metoda przyjmuje jeden argument typu `AMD` i zwraca obiekt typu `CPU`."
   ]
  },
  {
   "cell_type": "markdown",
   "id": "ffbcaff3-b791-4a8c-a022-e4944ef01002",
   "metadata": {},
   "source": [
    "W interfejsie `ComputerComponent` jako argument adnotacji `@Component`, podejemy listę wszystkich modułów - możemy podać tylko **jeden** moduł klasy rozszerzającej interfejs `CPU`."
   ]
  },
  {
   "cell_type": "code",
   "execution_count": null,
   "id": "12487dec-902e-4220-954c-3d19f22badce",
   "metadata": {},
   "outputs": [],
   "source": [
    "@Component(modules = AmdModule.class)\n",
    "public interface ComputerComponent {\n",
    "    void inject(MainActivity mainActivity);\n",
    "}"
   ]
  },
  {
   "cell_type": "markdown",
   "id": "791646f6-3d75-4aab-884b-e81528efe31b",
   "metadata": {},
   "source": [
    "Główna aktywność pozostaje bez zmian od ostatniego przykładu"
   ]
  },
  {
   "cell_type": "code",
   "execution_count": null,
   "id": "fb1ac6e6-8c33-4d83-943a-2a33f14ee0b3",
   "metadata": {},
   "outputs": [],
   "source": [
    "public class MainActivity extends AppCompatActivity {\n",
    "\n",
    "    @Inject\n",
    "    public Computer computer;\n",
    "\n",
    "    @Override\n",
    "    protected void onCreate(Bundle savedInstanceState) {\n",
    "        super.onCreate(savedInstanceState);\n",
    "        setContentView(R.layout.activity_main);\n",
    "\n",
    "        ComputerComponent component = DaggerComputerComponent.create();\n",
    "        component.inject(this);\n",
    "        TextView textView = findViewById(R.id.textview);\n",
    "        textView.setText(computer.cpuName());\n",
    "    }\n",
    "}"
   ]
  },
  {
   "cell_type": "markdown",
   "id": "99433a5f-c5a4-4636-8d96-d4c21b73fdf0",
   "metadata": {},
   "source": [
    "Jeżeli chcemy wykorzystać `IntelModule`"
   ]
  },
  {
   "cell_type": "code",
   "execution_count": null,
   "id": "ab4934e6-7764-43f1-a7c7-7ed4ef1df2c1",
   "metadata": {},
   "outputs": [],
   "source": [
    "@Module\n",
    "public class IntelModule {\n",
    "    @Provides\n",
    "    CPU provideIntel(Intel cpu){\n",
    "        return cpu;\n",
    "    }\n",
    "}"
   ]
  },
  {
   "cell_type": "markdown",
   "id": "1c6d9919-f969-4360-9f33-de02a3756a4a",
   "metadata": {},
   "source": [
    "Musimy zamienić nazwę modułu w intefejsie `ComputerComponent`"
   ]
  },
  {
   "cell_type": "code",
   "execution_count": null,
   "id": "b83ff72a-f407-4316-b528-1f91e6025d49",
   "metadata": {},
   "outputs": [],
   "source": [
    "@Component(modules = IntelModule.class)\n",
    "public interface ComputerComponent {\n",
    "    void inject(MainActivity mainActivity);\n",
    "}"
   ]
  },
  {
   "cell_type": "markdown",
   "id": "217bf8b5-f8f0-4a22-8e06-10e30ec56830",
   "metadata": {},
   "source": [
    "### **`@Binds`**"
   ]
  },
  {
   "cell_type": "markdown",
   "id": "bd2e340c-6ab9-4588-a7dc-c2a181a38094",
   "metadata": {},
   "source": [
    "Ponieważ w klasie `AmdModule` posiadamy jedną metodę, zwracającą przesłany argument, możemy zoptymalizować kod i uniknąć tworzenia jej instancji. W tym celu zmienimy klasę na klasę abstrakcyjną, oraz metodę na metodę abstrakcyjną (bez ciała)."
   ]
  },
  {
   "cell_type": "code",
   "execution_count": null,
   "id": "7410539c-19ae-4ee6-ac7a-52c7e21475e8",
   "metadata": {},
   "outputs": [],
   "source": [
    "@Module\n",
    "abstract public class AmdModule {\n",
    "    @Binds\n",
    "    abstract CPU provideCpu(AMD cpu);\n",
    "}"
   ]
  }
 ],
 "metadata": {
  "kernelspec": {
   "display_name": "Java",
   "language": "java",
   "name": "java"
  },
  "language_info": {
   "codemirror_mode": "java",
   "file_extension": ".jshell",
   "mimetype": "text/x-java-source",
   "name": "Java",
   "pygments_lexer": "java",
   "version": "17+35-2724"
  }
 },
 "nbformat": 4,
 "nbformat_minor": 5
}
