{
 "cells": [
  {
   "cell_type": "markdown",
   "id": "cde3bf85-38db-404b-8d90-fd085609f333",
   "metadata": {},
   "source": [
    "## 12.5 Wstrzykiwanie wartości (Value Injection)"
   ]
  },
  {
   "cell_type": "markdown",
   "id": "27d95090-032a-4916-abc8-da94bef3fc19",
   "metadata": {},
   "source": [
    "Zajmijmy się teraz przekazaniem wartości przez konstruktor w czasie wykonania. Naszym przykładem dalej będzie `Computer`, tym razem będzie posiadał tylko jeden komponent - `GPU`. Klasa `GPU` będzie przyjmować jeden paramtetr przez konstruktor - liczbę rdzeni typu `Int`."
   ]
  },
  {
   "cell_type": "code",
   "execution_count": null,
   "id": "a976853e-d5c6-4d0b-a56e-be26e0ae3e35",
   "metadata": {},
   "outputs": [],
   "source": [
    "class Computer @Inject constructor(private val gpu: GPU) {\n",
    "    fun getGpuCores(): String{\n",
    "        return gpu.gpuCores.toString()\n",
    "    }\n",
    "}\n",
    "\n",
    "class GPU(val gpuCores: Int) {}"
   ]
  },
  {
   "cell_type": "markdown",
   "id": "74951f83-93a1-489b-93eb-235f861b6e6a",
   "metadata": {},
   "source": [
    "Teraz nie możemy wykorzystać adnotacji `@Inject` przy konstruktorze klasy `GPU` - liczba rdzeni będzie znana w czasie wykonania aplikacji (może być podana przez użytkownika). Musimy manualnie wywołać konstruktor i w jakiś sposób przekazać wartość `gpuCores`.\n",
    "\n",
    "Tym razem nasza klasa z adnotacją `@Module` będzie posiadała konstruktor w którym przekażemy wartość `gpuCores`"
   ]
  },
  {
   "cell_type": "code",
   "execution_count": null,
   "id": "817a2bc6-ae56-4331-bb6e-c843942417da",
   "metadata": {},
   "outputs": [],
   "source": [
    "@Module\n",
    "class GpuModule(private val gpuCores: Int) {\n",
    "\n",
    "    @Provides\n",
    "    fun provideGpu(): GPU{\n",
    "        return GPU(gpuCores)\n",
    "    }\n",
    "}"
   ]
  },
  {
   "cell_type": "markdown",
   "id": "7358e42b-3515-489f-945a-6d6ed3720353",
   "metadata": {},
   "source": [
    "Naszx `ComputerComponent` nie zawiera żadnych nowych elementów."
   ]
  },
  {
   "cell_type": "code",
   "execution_count": null,
   "id": "37ace1df-78e5-47a2-8d9c-639b614408f1",
   "metadata": {},
   "outputs": [],
   "source": [
    "@Component(modules = [GpuModule::class])\n",
    "interface ComputerComponent {\n",
    "    fun inject(mainActivity: MainActivity)\n",
    "}"
   ]
  },
  {
   "cell_type": "markdown",
   "id": "30efb9a9-f007-4d36-afaa-d80dfe3d8935",
   "metadata": {},
   "source": [
    "Zmiany natomiast pojawią się w automatycznie wygenerowanej klasie `DaggerComputerComponent`. Nie mamy dostępnej metody `create`, teraz musimy manualnie wywołać konstruktor klasy `GpuModule`. Do tego automatycznie generowana jest implementacja wzorca projektowego [budowniczy](https://refactoring.guru/pl/design-patterns/builder)."
   ]
  },
  {
   "cell_type": "code",
   "execution_count": null,
   "id": "abfea1ae-d55f-499c-aff9-c5fe4e7b2f56",
   "metadata": {},
   "outputs": [],
   "source": [
    "val component = DaggerComputerComponent.builder()\n",
    "    .gpuModule(GpuModule(8)) // możemy przekazać liczbę rdzeni w czasie wykonania\n",
    "    .build()"
   ]
  },
  {
   "cell_type": "markdown",
   "id": "c5e6d083-c905-459c-9dfc-49165293ebde",
   "metadata": {},
   "source": [
    "Tak jak w poprzednich przykładach, trworzymy instancję obiektu o typie interfejsu `ComputerComponent`, następnie wywołujemy metodę `inject`"
   ]
  },
  {
   "cell_type": "code",
   "execution_count": null,
   "id": "d170e9eb-5d48-4558-8801-cc15ab874970",
   "metadata": {},
   "outputs": [],
   "source": [
    "class MainActivity : AppCompatActivity() {\n",
    "\n",
    "    @Inject\n",
    "    lateinit var computer: Computer\n",
    "\n",
    "    override fun onCreate(savedInstanceState: Bundle?) {\n",
    "        super.onCreate(savedInstanceState)\n",
    "        setContentView(R.layout.activity_main)\n",
    "\n",
    "        val component = DaggerComputerComponent.builder()\n",
    "            .gpuModule(GpuModule(8))\n",
    "            .build()\n",
    "\n",
    "        component.inject(this)\n",
    "        val textView = findViewById<TextView>(R.id.textview)\n",
    "        textView.text = computer.getGpuCores()\n",
    "    }\n",
    "}"
   ]
  },
  {
   "cell_type": "markdown",
   "id": "6a7bec03-75b2-4801-99d8-1b0c115325e9",
   "metadata": {},
   "source": [
    "### Metoda dostarczająca"
   ]
  },
  {
   "cell_type": "markdown",
   "id": "c29a689c-d942-42f6-8b48-2e556f7d08f3",
   "metadata": {},
   "source": [
    "W klasie `GpuModule` przekazujemy jawnie wartość `gpuCores`, możemy jednak zaimplementować metodę dostarczającą dla tej zmiennej - dzięki temu możemy tą jedną wartość dostarczyć do wielu obiektów - jednym z zastosowań w androidzie jest przekazanie **applicationContext**.\n",
    "\n",
    "Powróćmy do klasy `GpuModule` i dodajmy metodę `provideGpuCores`"
   ]
  },
  {
   "cell_type": "code",
   "execution_count": null,
   "id": "99201a01-0bcc-463a-bec7-4cecf32f1d94",
   "metadata": {},
   "outputs": [],
   "source": [
    "@Provides\n",
    "fun provideGpuCores(): Int{\n",
    "    return gpuCores\n",
    "}"
   ]
  },
  {
   "cell_type": "markdown",
   "id": "febaf919-1023-4505-8174-03f5d2f6a91c",
   "metadata": {},
   "source": [
    "Teraz możemy wstrzyknąć za pomocą konstruktora `GPU`"
   ]
  },
  {
   "cell_type": "code",
   "execution_count": null,
   "id": "0c927077-bf94-49a7-b3f7-8ff4a445c374",
   "metadata": {},
   "outputs": [],
   "source": [
    "class GPU @Inject constructor (val gpuCores: Int) {}"
   ]
  },
  {
   "cell_type": "markdown",
   "id": "671683c9-13a0-45ec-bc04-f75c40e01a93",
   "metadata": {},
   "source": [
    "Teraz z kolei, możemy zmodyfikować metodę `provideGpu` klasy `GpuModule` i przekazać `gpu` przez parametr."
   ]
  },
  {
   "cell_type": "code",
   "execution_count": null,
   "id": "8670c235-699d-4859-a9c5-183203b1deca",
   "metadata": {},
   "outputs": [],
   "source": [
    "@Provides\n",
    "fun provideGpu(gpu: GPU): GPU{\n",
    "    return gpu\n",
    "}"
   ]
  },
  {
   "cell_type": "markdown",
   "id": "2beebcda-a85e-4f9e-9ffc-fceb228f7f3b",
   "metadata": {},
   "source": [
    "Tutaj konieczne jest  pamiętanie i jednej istotnej rzeczy - `Dagger2` nie interesuje nazwa zmiennej, tylko jej **typ**. Co może być kłopotliwe - jeżeli konstruktor przyjmuje dwa parametry o typie `Int`, `Dagger2` ich nie rozróżni. Jest to możliwe z kilkoma dodatkowymi adnotacjami. Elementy przedstawione do tej pory są wystarczające nac potrzeby tych zajęć, więc tutaj zakończymy omawianie biblioteki `Dagger2`."
   ]
  },
  {
   "cell_type": "code",
   "execution_count": null,
   "id": "e8382613-e96b-42c6-823d-82d457d2787a",
   "metadata": {},
   "outputs": [],
   "source": []
  }
 ],
 "metadata": {
  "kernelspec": {
   "display_name": "Kotlin",
   "language": "kotlin",
   "name": "kotlin"
  },
  "language_info": {
   "codemirror_mode": "text/x-kotlin",
   "file_extension": ".kt",
   "mimetype": "text/x-kotlin",
   "name": "kotlin",
   "nbconvert_exporter": "",
   "pygments_lexer": "kotlin",
   "version": "1.6.20-dev-6372"
  }
 },
 "nbformat": 4,
 "nbformat_minor": 5
}
