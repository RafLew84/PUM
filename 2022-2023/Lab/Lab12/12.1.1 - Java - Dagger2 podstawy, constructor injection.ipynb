{
 "cells": [
  {
   "cell_type": "markdown",
   "id": "a67cdba3-2a6d-47cc-b3df-4d5c196bf931",
   "metadata": {},
   "source": [
    "## 12.1 Dagger2 - Wstrzykiwanie zależności - Podstawy"
   ]
  },
  {
   "cell_type": "markdown",
   "id": "4bb7d5ef-2fee-42f8-a381-1b2f051bbd4c",
   "metadata": {},
   "source": [
    "Aplikacja posłuży nam do zapoznania się z ideą **dependency injection**, czyli wstrzykiwaniem zależności. Wykorzystamy tylko pojedynczą aktywność z polem `TextView` (bez fragmentów i nawigacji).\n",
    "\n",
    "Rozpoczniemy od dodania odpowiednich zależności do projektu. Zależności możemy skopiować ze strony projektu na [github](https://github.com/google/dagger)."
   ]
  },
  {
   "cell_type": "code",
   "execution_count": null,
   "id": "0f47f522-065c-4ac5-8561-7e4f5458bfe5",
   "metadata": {},
   "outputs": [],
   "source": [
    "dependencies {\n",
    "\n",
    "    implementation 'com.google.dagger:dagger:2.44'\n",
    "    annotationProcessor 'com.google.dagger:dagger-compiler:2.44'\n",
    "\n",
    "    implementation 'com.google.dagger:dagger-android:2.44'\n",
    "    implementation 'com.google.dagger:dagger-android-support:2.44'\n",
    "    annotationProcessor 'com.google.dagger:dagger-android-processor:2.44'\n",
    "}"
   ]
  },
  {
   "cell_type": "markdown",
   "id": "aff38932-291a-480e-8fc1-e48fe2e03a9c",
   "metadata": {},
   "source": [
    "Napiszmy kilka klas reprezentujących komputrer oraz jego składowe."
   ]
  },
  {
   "cell_type": "code",
   "execution_count": null,
   "id": "dd6dd787-d235-4eaf-967e-2381f371c07b",
   "metadata": {},
   "outputs": [],
   "source": [
    "public class Computer {}\n",
    "public class Case {}\n",
    "public class CPU {}\n",
    "public class GPU {}\n",
    "public class Motherboard {}\n",
    "public class PowerSupply {}"
   ]
  },
  {
   "cell_type": "markdown",
   "id": "f8a603ed-a755-4adb-b702-a82ca36b3ca3",
   "metadata": {},
   "source": [
    "Klasa `Computer` nie powinna odpowiadać za utworzenie zależności, więc przekazemy je do konstruktora głównego. Dodamy również jedną metodę."
   ]
  },
  {
   "cell_type": "code",
   "execution_count": null,
   "id": "5d2f169d-bc48-496e-93d2-dbd921ca5996",
   "metadata": {},
   "outputs": [],
   "source": [
    "public class Computer {\n",
    "    private Case computerCase;\n",
    "    private GPU gpu;\n",
    "    private CPU cpu;\n",
    "    private Motherboard motherboard;\n",
    "    private PowerSupply powerSupply;\n",
    "\n",
    "    public Computer(\n",
    "            Case computerCase,\n",
    "            CPU cpu,\n",
    "            GPU gpu,\n",
    "            Motherboard motherboard,\n",
    "            PowerSupply powerSupply){\n",
    "        this.computerCase = computerCase;\n",
    "        this.cpu = cpu;\n",
    "        this.gpu = gpu;\n",
    "        this.motherboard = motherboard;\n",
    "        this.powerSupply = powerSupply;\n",
    "    }\n",
    "    \n",
    "    public String work(){\n",
    "        return \"working\";\n",
    "    }\n",
    "}"
   ]
  },
  {
   "cell_type": "markdown",
   "id": "f7f442c2-727d-4bb9-aacd-9176c3129ec7",
   "metadata": {},
   "source": [
    "Przejdźmy do głównej aktynwości i dodajmy zmienną `Computer` oraz ustawmy text pola `TextView` w metodzie `onCreate`."
   ]
  },
  {
   "cell_type": "code",
   "execution_count": null,
   "id": "3e61bd39-7e12-41f1-a333-aea547f9878e",
   "metadata": {},
   "outputs": [],
   "source": [
    "public class MainActivity extends AppCompatActivity {\n",
    "    \n",
    "    private Computer computer;\n",
    "\n",
    "    @Override\n",
    "    protected void onCreate(Bundle savedInstanceState) {\n",
    "        super.onCreate(savedInstanceState);\n",
    "        setContentView(R.layout.activity_main);\n",
    "        \n",
    "        TextView textView = findViewById(R.id.textview);\n",
    "        textView.setText(computer.work());\n",
    "    }\n",
    "}"
   ]
  },
  {
   "cell_type": "markdown",
   "id": "09304685-9b6e-4f71-9262-a9b2b154000b",
   "metadata": {},
   "source": [
    "Musimy jeszcze zainicjować obiekt `Computer`. Aby to zrobić musielibyśmy utworzyć szereg innych obiektów."
   ]
  },
  {
   "cell_type": "code",
   "execution_count": null,
   "id": "a4ab35d3-e903-4d60-bf2f-b51471e593d8",
   "metadata": {},
   "outputs": [],
   "source": [
    "public class MainActivity extends AppCompatActivity {\n",
    "\n",
    "    private Computer computer;\n",
    "\n",
    "    @Override\n",
    "    protected void onCreate(Bundle savedInstanceState) {\n",
    "        super.onCreate(savedInstanceState);\n",
    "        setContentView(R.layout.activity_main);\n",
    "\n",
    "//         Case computerCase = new Case();\n",
    "//         GPU gpu = new GPU();\n",
    "//         CPU cpu = new CPU();\n",
    "//         Motherboard motherboard = new Motherboard();\n",
    "//         PowerSupply powerSupply = new PowerSupply();\n",
    "        \n",
    "//         computer = new Computer(computerCase, cpu, gpu, motherboard, powerSupply);\n",
    "\n",
    "        TextView textView = findViewById(R.id.textview);\n",
    "        textView.setText(computer.work());\n",
    "    }\n",
    "}"
   ]
  },
  {
   "cell_type": "markdown",
   "id": "53f13550-c736-41fa-b69a-825103912907",
   "metadata": {},
   "source": [
    "Ponieważ nie chcemy tego robić manualnie za każdym razem, wykorzystamy bibliotekę `Dagger2`.\n",
    "\n",
    "Utwórzmy nowy interfejs o nazwie `computerComponent` - tutaj zostanie utworzony `DAG` ([Skierowany graf acykliczny](https://pl.wikipedia.org/wiki/Skierowany_graf_acykliczny)) w którym zostaną zawarte wszystkie informacje o zależnościach klasy `Computer` (od czego zależy klasa `Computer` oraz kolejność w jakich wszystkie zależności muszą zostać utworzone).\n",
    "\n",
    "`@Component` tworzy i przechowuje obiekt, następnie dostarcza go do odbiorcy - często nazywany *injector*"
   ]
  },
  {
   "cell_type": "code",
   "execution_count": null,
   "id": "0d62b421-7aff-4d2f-8f23-701a1b475a64",
   "metadata": {},
   "outputs": [],
   "source": [
    "@Component\n",
    "public interface ComputerComponent {\n",
    "}"
   ]
  },
  {
   "cell_type": "markdown",
   "id": "74efa77b-7d4c-45c6-ac90-4f6e30c61f42",
   "metadata": {},
   "source": [
    "Zdefiniujmy jedną metodę `getComputer`"
   ]
  },
  {
   "cell_type": "code",
   "execution_count": null,
   "id": "bfc0b3b3-48c1-431c-b6e8-83df57522fe7",
   "metadata": {},
   "outputs": [],
   "source": [
    "@Component\n",
    "public interface ComputerComponent {\n",
    "    Computer getComputer();\n",
    "}"
   ]
  },
  {
   "cell_type": "markdown",
   "id": "d992552a-c13c-487c-8790-99d0e372098b",
   "metadata": {},
   "source": [
    "`Dagger2` w czasie kompilacji zaimplementuje ten interfejs i doda automatycznie niezbędny kod. Kolejnym krokiem będzie odpowiednie oznaczenie wszystkich konstruktorów (**wstrzykiwanie przez konstruktor**) które musza zostać wykorzystane przy tworzeniu instancji klasy `Computer`."
   ]
  },
  {
   "cell_type": "code",
   "execution_count": null,
   "id": "8b836fc8-dad6-45e1-b899-96787c4d679e",
   "metadata": {},
   "outputs": [],
   "source": [
    "class Computer @Inject constructor (\n",
    "    private val case: Case,\n",
    "    private val gpu: GPU,\n",
    "    private val cpu: CPU,\n",
    "    private val motherboard: Motherboard,\n",
    "    private val powerSupply: PowerSupply\n",
    "        ) {\n",
    "    fun work(): String{\n",
    "        return \"working\"\n",
    "    }\n",
    "}"
   ]
  },
  {
   "cell_type": "markdown",
   "id": "81d4c597-d9c3-4486-bfff-62d8c68361a1",
   "metadata": {},
   "source": [
    "`Dagger2` musi jeszcze posiadać informację o sposobie zainicjowania wszystkich zależności."
   ]
  },
  {
   "cell_type": "code",
   "execution_count": null,
   "id": "e958238a-8829-4842-9c87-f3eb4eb67456",
   "metadata": {},
   "outputs": [],
   "source": [
    "public class Case {\n",
    "    @Inject\n",
    "    public Case() {\n",
    "    }\n",
    "}\n",
    "\n",
    "public class CPU {\n",
    "    @Inject\n",
    "    public CPU() {\n",
    "    }\n",
    "}\n",
    "\n",
    "public class GPU {\n",
    "    @Inject\n",
    "    public GPU() {\n",
    "    }\n",
    "}\n",
    "\n",
    "public class Motherboard {\n",
    "    @Inject\n",
    "    public Motherboard() {\n",
    "    }\n",
    "}\n",
    "\n",
    "public class PowerSupply {\n",
    "    @Inject\n",
    "    public PowerSupply() {\n",
    "    }\n",
    "}"
   ]
  },
  {
   "cell_type": "markdown",
   "id": "d1736ac3-99c8-43a2-a2a5-534aa2583fff",
   "metadata": {},
   "source": [
    "W klasie `MainActivity` nie możemy zastosować adnotacji `@Inject` na konstruktorze - instancję klasy `Computer` otrzymamy dzięki interfejsowi `ComputerComponent`. Ponieważ wykorzystaliśmy adnotację `@Component` mamy dostępną klasę `DaggerComputerComponent` wygenerowaną automatycznie, posiada ona metoda `create` dzięki której możemy stworzyć obiekt o typie interfejsu `ComputerComponent`"
   ]
  },
  {
   "cell_type": "code",
   "execution_count": null,
   "id": "b001b0e8-52cc-4e79-b01b-1b795ddaf448",
   "metadata": {},
   "outputs": [],
   "source": [
    "ComputerComponent component = DaggerComputerComponent.create();"
   ]
  },
  {
   "cell_type": "markdown",
   "id": "33504de6-9613-44a3-b0d8-9dabe971f1a3",
   "metadata": {},
   "source": [
    "Następnie skorzystamy z metody `getComputer` zdefiniowanej w interfejsie `ComputerComponent`"
   ]
  },
  {
   "cell_type": "code",
   "execution_count": null,
   "id": "bf600c88-783d-437c-8021-4a9db547eaad",
   "metadata": {},
   "outputs": [],
   "source": [
    "computer = component.getComputer();"
   ]
  },
  {
   "cell_type": "markdown",
   "id": "166385e7-4429-4112-9aaf-243ebcddd427",
   "metadata": {},
   "source": [
    "Pełny kod `MainActivity`"
   ]
  },
  {
   "cell_type": "code",
   "execution_count": null,
   "id": "ae7237f7-d8ea-464d-bf45-6f5af974ea15",
   "metadata": {},
   "outputs": [],
   "source": [
    "public class MainActivity extends AppCompatActivity {\n",
    "\n",
    "    private Computer computer;\n",
    "\n",
    "    @Override\n",
    "    protected void onCreate(Bundle savedInstanceState) {\n",
    "        super.onCreate(savedInstanceState);\n",
    "        setContentView(R.layout.activity_main);\n",
    "\n",
    "        ComputerComponent component = DaggerComputerComponent.create();\n",
    "        computer = component.getComputer();\n",
    "\n",
    "        TextView textView = findViewById(R.id.textview);\n",
    "        textView.setText(computer.work());\n",
    "    }\n",
    "}"
   ]
  }
 ],
 "metadata": {
  "kernelspec": {
   "display_name": "Java",
   "language": "java",
   "name": "java"
  },
  "language_info": {
   "codemirror_mode": "java",
   "file_extension": ".jshell",
   "mimetype": "text/x-java-source",
   "name": "Java",
   "pygments_lexer": "java",
   "version": "17+35-2724"
  }
 },
 "nbformat": 4,
 "nbformat_minor": 5
}
