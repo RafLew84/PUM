{
 "cells": [
  {
   "cell_type": "markdown",
   "id": "fc584017-12b3-4888-81ea-2d51679e2101",
   "metadata": {},
   "source": [
    "## 12.1 Dagger2 - Wstrzykiwanie zależności - Podstawy"
   ]
  },
  {
   "cell_type": "markdown",
   "id": "2b8957fe-87de-489e-b3fa-676b9655e383",
   "metadata": {},
   "source": [
    "Aplikacja posłuży nam do zapoznania się z ideą **dependency injection**, czyli wstrzykiwaniem zależności. Wykorzystamy tylko pojedynczą aktywność z polem `TextView` (bez fragmentów i nawigacji).\n",
    "\n",
    "Rozpoczniemy od dodania odpowiednich zależności do projektu. Zależności możemy skopiować ze strony projektu na [github](https://github.com/google/dagger)."
   ]
  },
  {
   "cell_type": "code",
   "execution_count": null,
   "id": "6d6c267e-5b3f-4869-9c34-dac13d6cd09e",
   "metadata": {},
   "outputs": [],
   "source": [
    "plugins {\n",
    "    id 'com.android.application'\n",
    "    id 'org.jetbrains.kotlin.android'\n",
    "    id 'kotlin-kapt'\n",
    "}\n",
    "...\n",
    "dependencies {\n",
    "\n",
    "    implementation 'com.google.dagger:dagger:2.44'\n",
    "    annotationProcessor 'com.google.dagger:dagger-compiler:2.44'\n",
    "\n",
    "    implementation 'com.google.dagger:dagger-android:2.44'\n",
    "    implementation 'com.google.dagger:dagger-android-support:2.44'\n",
    "    annotationProcessor 'com.google.dagger:dagger-android-processor:2.44'\n",
    "\n",
    "    kapt 'com.google.dagger:dagger-android-processor:2.44'\n",
    "    kapt 'com.google.dagger:dagger-compiler:2.44'\n",
    "}"
   ]
  },
  {
   "cell_type": "markdown",
   "id": "3bc13352-019e-4dfd-909f-f65da71755cd",
   "metadata": {},
   "source": [
    "Napiszmy kilka klas reprezentujących komputrer oraz jego składowe."
   ]
  },
  {
   "cell_type": "code",
   "execution_count": null,
   "id": "e1c8e5b1-4c90-463e-a19d-5ef6570b6dac",
   "metadata": {},
   "outputs": [],
   "source": [
    "class Computer {}\n",
    "class Case {}\n",
    "class CPU {}\n",
    "class GPU {}\n",
    "class Motherboard {}\n",
    "class PowerSupply {}"
   ]
  },
  {
   "cell_type": "markdown",
   "id": "e0ec2a3d-2c5d-4e84-b92d-5ac4103b058a",
   "metadata": {},
   "source": [
    "Klasa `Computer` nie powinna odpowiadać za utworzenie zależności, więc przekazemy je do konstruktora głównego. Dodamy również jedną metodę."
   ]
  },
  {
   "cell_type": "code",
   "execution_count": null,
   "id": "7b610a58-d96d-4a01-b8e0-47ec3bb8ce3d",
   "metadata": {},
   "outputs": [],
   "source": [
    "class Computer (\n",
    "    private val case: Case,\n",
    "    private val gpu: GPU,\n",
    "    private val cpu: CPU,\n",
    "    private val motherboard: Motherboard,\n",
    "    private val powerSupply: PowerSupply\n",
    "        ) {\n",
    "    fun work(): String{\n",
    "        return \"working\"\n",
    "    }\n",
    "}"
   ]
  },
  {
   "cell_type": "markdown",
   "id": "18848c32-1f3b-4df6-b2de-b393ce25fbbf",
   "metadata": {},
   "source": [
    "Przejdźmy do głównej aktynwości i dodajmy zmienną `Computer` oraz ustawmy text pola `TextView` w metodzie `onCreate`."
   ]
  },
  {
   "cell_type": "code",
   "execution_count": null,
   "id": "5da602ba-7476-4644-9130-ccffc4ab92e9",
   "metadata": {},
   "outputs": [],
   "source": [
    "class MainActivity : AppCompatActivity() {\n",
    "\n",
    "    private lateinit var computer: Computer\n",
    "\n",
    "    override fun onCreate(savedInstanceState: Bundle?) {\n",
    "        super.onCreate(savedInstanceState)\n",
    "        setContentView(R.layout.activity_main)\n",
    "\n",
    "        val textView = findViewById<TextView>(R.id.textview)\n",
    "        textView.text = computer.work()\n",
    "    }\n",
    "}"
   ]
  },
  {
   "cell_type": "markdown",
   "id": "c18e5d5c-93f0-4033-9be2-0c780a07ffe2",
   "metadata": {},
   "source": [
    "Musimy jeszcze zainicjować obiekt `Computer`. Aby to zrobić musielibyśmy utworzyć szereg innych obiektów."
   ]
  },
  {
   "cell_type": "code",
   "execution_count": null,
   "id": "17037725-77d9-48fe-95d9-87bc425a10e5",
   "metadata": {},
   "outputs": [],
   "source": [
    "override fun onCreate(savedInstanceState: Bundle?) {\n",
    "    super.onCreate(savedInstanceState)\n",
    "    setContentView(R.layout.activity_main)\n",
    "    \n",
    "//     val case = Case()\n",
    "//     val gpu = GPU()\n",
    "//     val cpu = CPU()\n",
    "//     val motherboard = Motherboard()\n",
    "//     val powerSupply = PowerSupply()\n",
    "    \n",
    "//     computer = Computer(case, gpu, cpu, motherboard, powerSupply)\n",
    "\n",
    "    val textView = findViewById<TextView>(R.id.textview)\n",
    "    textView.text = computer.work()\n",
    "}"
   ]
  },
  {
   "cell_type": "markdown",
   "id": "ffc42b3b-3d62-47db-ac0e-8dae29ff705b",
   "metadata": {},
   "source": [
    "Ponieważ nie chcemy tego robić manualnie za każdym razem, wykorzystamy bibliotekę `Dagger2`.\n",
    "\n",
    "Utwórzmy nowy interfejs o nazwie `computerComponent` - tutaj zostanie utworzony `DAG` ([Skierowany graf acykliczny](https://pl.wikipedia.org/wiki/Skierowany_graf_acykliczny)) w którym zostaną zawarte wszystkie informacje o zależnościach klasy `Computer` (od czego zależy klasa `Computer` oraz kolejność w jakich wszystkie zależności muszą zostać utworzone).\n",
    "\n",
    "`@Component` tworzy i przechowuje obiekt, następnie dostarcza go do odbiorcy - często nazywany *injector*"
   ]
  },
  {
   "cell_type": "code",
   "execution_count": null,
   "id": "ba302375-9ae2-4355-979d-bf4649f5bee0",
   "metadata": {},
   "outputs": [],
   "source": [
    "@Component\n",
    "interface ComputerComponent {\n",
    "}"
   ]
  },
  {
   "cell_type": "markdown",
   "id": "6018efc7-cf72-490c-9ab8-3963ab727379",
   "metadata": {},
   "source": [
    "Zdefiniujmy jedną metodę `getComputer`"
   ]
  },
  {
   "cell_type": "code",
   "execution_count": null,
   "id": "a3790aa8-af9f-4812-98a7-f33a20caf9a9",
   "metadata": {},
   "outputs": [],
   "source": [
    "@Component\n",
    "interface ComputerComponent {\n",
    "    fun getComputer(): Computer\n",
    "}"
   ]
  },
  {
   "cell_type": "markdown",
   "id": "13f14326-6bb4-4541-a8ba-1f6ce58b7261",
   "metadata": {},
   "source": [
    "`Dagger2` w czasi kompilacji zaimplementuje ten interfejs i doda automatycznie niezbędny kod. Kolejnym krokiem będzie odpowiednie oznaczenie wszystkich konstruktorów (**wstrzykiwanie przez konstruktor**) które musza zostać wykorzystane przy tworzeniu instancji klasy `Computer`."
   ]
  },
  {
   "cell_type": "code",
   "execution_count": null,
   "id": "db6f254e-e229-4920-b90e-c24a953ebfd0",
   "metadata": {},
   "outputs": [],
   "source": [
    "class Computer @Inject constructor (\n",
    "    private val case: Case,\n",
    "    private val gpu: GPU,\n",
    "    private val cpu: CPU,\n",
    "    private val motherboard: Motherboard,\n",
    "    private val powerSupply: PowerSupply\n",
    "        ) {\n",
    "    fun work(): String{\n",
    "        return \"working\"\n",
    "    }\n",
    "}"
   ]
  },
  {
   "cell_type": "markdown",
   "id": "f8d1e65e-3f01-4d3b-ae94-a30971dd19bd",
   "metadata": {},
   "source": [
    "Aby użyć adnotacji `@Inject` musimy wykorzystać słowo kluczowe `constructor`. `Dagger2` musi jeszcze posiadać informację o sposobie zainicjowania wszystkich zależności."
   ]
  },
  {
   "cell_type": "code",
   "execution_count": null,
   "id": "25c63839-cbc2-43d6-b5b8-3dae979d938a",
   "metadata": {},
   "outputs": [],
   "source": [
    "class Case @Inject constructor()\n",
    "class CPU @Inject constructor()\n",
    "class GPU @Inject constructor()\n",
    "class Motherboard @Inject constructor()\n",
    "class PowerSupply @Inject constructor()"
   ]
  },
  {
   "cell_type": "markdown",
   "id": "7d800c68-042d-461b-b1db-aae775f1d8b7",
   "metadata": {},
   "source": [
    "W klasie `MainActivity` nie możemy zastosować adnotacji `@Inject` na konstruktorze - instancję klasy `Computer` otrzymamy dzięki interfejsowi `ComputerComponent`. Ponieważ wykorzystaliśmy adnotację `@Component` mamy dostępną klasę `DaggerComputerComponent` wygenerowaną automatycznie, posiada ona metoda `create` dzięki której możemy stworzyć obiekt o typie interfejsu `ComputerComponent`"
   ]
  },
  {
   "cell_type": "code",
   "execution_count": null,
   "id": "b98b8b98-10c2-4451-8f00-4beca84b895e",
   "metadata": {},
   "outputs": [],
   "source": [
    "val component = DaggerComputerComponent.create()"
   ]
  },
  {
   "cell_type": "markdown",
   "id": "5094a715-12c4-4607-968b-3d7d2c7e1bac",
   "metadata": {},
   "source": [
    "Następnie skorzystamy z metody `getComputer` zdefiniowanej w interfejsie `ComputerComponent`"
   ]
  },
  {
   "cell_type": "code",
   "execution_count": null,
   "id": "4d7e6784-eda2-47d7-a0a7-a170025b0b78",
   "metadata": {},
   "outputs": [],
   "source": [
    "computer = component.getComputer()"
   ]
  },
  {
   "cell_type": "markdown",
   "id": "fa47be10-bd87-4555-a6e6-98bc3b6b9027",
   "metadata": {},
   "source": [
    "Pełny kod `MainActivity`"
   ]
  },
  {
   "cell_type": "code",
   "execution_count": null,
   "id": "82efb1bc-fdf4-4b2e-a71e-aa8b83b04ab4",
   "metadata": {},
   "outputs": [],
   "source": [
    "class MainActivity : AppCompatActivity() {\n",
    "\n",
    "    private lateinit var computer: Computer\n",
    "\n",
    "    override fun onCreate(savedInstanceState: Bundle?) {\n",
    "        super.onCreate(savedInstanceState)\n",
    "        setContentView(R.layout.activity_main)\n",
    "\n",
    "        val component = DaggerComputerComponent.create()\n",
    "        computer = component.getComputer()\n",
    "        val textView = findViewById<TextView>(R.id.textview)\n",
    "        textView.text = computer.work()\n",
    "    }\n",
    "}"
   ]
  },
  {
   "cell_type": "code",
   "execution_count": null,
   "id": "d39c986e-03cd-482e-9fc5-494a10ef5362",
   "metadata": {},
   "outputs": [],
   "source": []
  }
 ],
 "metadata": {
  "kernelspec": {
   "display_name": "Kotlin",
   "language": "kotlin",
   "name": "kotlin"
  },
  "language_info": {
   "codemirror_mode": "text/x-kotlin",
   "file_extension": ".kt",
   "mimetype": "text/x-kotlin",
   "name": "kotlin",
   "nbconvert_exporter": "",
   "pygments_lexer": "kotlin",
   "version": "1.6.20-dev-6372"
  }
 },
 "nbformat": 4,
 "nbformat_minor": 5
}
