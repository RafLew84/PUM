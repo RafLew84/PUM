{
 "cells": [
  {
   "cell_type": "markdown",
   "id": "0e37bff3-7110-4337-b602-2952887a64e6",
   "metadata": {},
   "source": [
    "## 12.4 Wstrzykiwanie interfejsów"
   ]
  },
  {
   "cell_type": "markdown",
   "id": "2efe3b0f-0231-42a9-b246-26dd8dda58e3",
   "metadata": {},
   "source": [
    "W tym przykładzie przyjrzymy się procesowi wstrzyknięć interfejsów. W dalszym ciągu posługujemy się abstrakcją komputera - tym razem nasz komputer będzie składał się tylko z cpu. `CPU` jest interfejsem, mamy również dwie klasy implementujące ten interfejs - `AMD` i `Intel`."
   ]
  },
  {
   "cell_type": "code",
   "execution_count": null,
   "id": "83b84d69-99d4-4e1c-9765-17d96430d6f3",
   "metadata": {},
   "outputs": [],
   "source": [
    "interface CPU {\n",
    "    fun name(): String\n",
    "}\n",
    "\n",
    "class Intel : CPU {\n",
    "    override fun name(): String {\n",
    "        return \"intel\"\n",
    "    }\n",
    "}\n",
    "\n",
    "class AMD : CPU {\n",
    "    override fun name(): String {\n",
    "        return \"amd\"\n",
    "    }\n",
    "}\n",
    "\n",
    "class Computer @Inject constructor(val cpu: CPU) {\n",
    "    fun cpuName(): String{\n",
    "        return cpu.name()\n",
    "    }\n",
    "}"
   ]
  },
  {
   "cell_type": "markdown",
   "id": "91f38371-5065-414f-8978-f4aad0f780bf",
   "metadata": {},
   "source": [
    "klasy `AMD` i `Intel` posiadają kontruktor z adnotacją `@Inject`"
   ]
  },
  {
   "cell_type": "code",
   "execution_count": null,
   "id": "eb36651a-f8b3-4ca4-a076-1352bbf86cf4",
   "metadata": {},
   "outputs": [],
   "source": [
    "class Intel @Inject constructor() : CPU {\n",
    "    override fun name(): String {\n",
    "        return \"intel\"\n",
    "    }\n",
    "}\n",
    "\n",
    "class AMD @Inject constructor() : CPU {\n",
    "    override fun name(): String {\n",
    "        return \"amd\"\n",
    "    }\n",
    "}"
   ]
  },
  {
   "cell_type": "markdown",
   "id": "75345257-93b8-41d1-b5b5-a806749a9001",
   "metadata": {},
   "source": [
    "Teraz `Dagger2` wie jak stworzyć te dwie klasy, jednak w konstruktorze klasy `Computer` przyjmujemy argument o typie interfejsu `CPU`, więc musimy jescze wskazać w odpowiednim module sposób inicjalizacji `CPU`. potrzebujemy dwa moduły - dla każdego `CPU`."
   ]
  },
  {
   "cell_type": "code",
   "execution_count": null,
   "id": "f75792c5-c823-416f-aeca-6d5a7fa66a5c",
   "metadata": {},
   "outputs": [],
   "source": [
    "@Module\n",
    "class AmdModule {\n",
    "    @Provides\n",
    "    fun provideCpu(cpu: AMD): CPU{\n",
    "        return cpu\n",
    "    }\n",
    "}"
   ]
  },
  {
   "cell_type": "markdown",
   "id": "d7d30f2b-dead-4bb5-82c1-40bbb9b143f3",
   "metadata": {},
   "source": [
    "Nasz `AmdModule` zawiera jedną metodę `providesCpu` z adnotacją `@Provides`. Metoda przyjmuje jeden argument typu `AMD` i zwraca obiekt typu `CPU`."
   ]
  },
  {
   "cell_type": "markdown",
   "id": "68e41e10-6dbe-4a4b-9c78-08c790711308",
   "metadata": {},
   "source": [
    "W interfejsie `ComputerComponent` jako argument adnotacji `@Component`, podejemy listę wszystkich modułów - możemy podać tylko **jeden** moduł klasy rozszerzającej interfejs `CPU`."
   ]
  },
  {
   "cell_type": "code",
   "execution_count": null,
   "id": "fb470edc-0c0b-4550-b482-e49ae5c5917b",
   "metadata": {},
   "outputs": [],
   "source": [
    "@Component(modules = [AmdModule::class])\n",
    "interface ComputerComponent {\n",
    "    fun inject(mainActivity: MainActivity)\n",
    "}"
   ]
  },
  {
   "cell_type": "markdown",
   "id": "4b2fe02b-aa98-4759-a0d1-42bfec73a067",
   "metadata": {},
   "source": [
    "Główna aktywność pozostaje bez zmian od ostatniego przykładu"
   ]
  },
  {
   "cell_type": "code",
   "execution_count": null,
   "id": "6d1940ef-4122-4130-8ba0-5662994581d5",
   "metadata": {},
   "outputs": [],
   "source": [
    "class MainActivity : AppCompatActivity() {\n",
    "\n",
    "    @Inject\n",
    "    lateinit var computer: Computer\n",
    "\n",
    "    override fun onCreate(savedInstanceState: Bundle?) {\n",
    "        super.onCreate(savedInstanceState)\n",
    "        setContentView(R.layout.activity_main)\n",
    "\n",
    "        val component = DaggerComputerComponent.create()\n",
    "        component.inject(this)\n",
    "        val textView = findViewById<TextView>(R.id.textview)\n",
    "        textView.text = computer.cpuName()\n",
    "    }\n",
    "}"
   ]
  },
  {
   "cell_type": "markdown",
   "id": "d486f31a-607d-49c6-8d4f-11f2fd9467c6",
   "metadata": {},
   "source": [
    "Jeżeli chcemy wykorzystać `IntelModule`"
   ]
  },
  {
   "cell_type": "code",
   "execution_count": null,
   "id": "847cbd2f-7b07-4a84-b098-b4a9aab106bb",
   "metadata": {},
   "outputs": [],
   "source": [
    "@Module\n",
    "class IntelModule {\n",
    "    @Provides\n",
    "    fun provideCpu(cpu: Intel): CPU {\n",
    "        return cpu\n",
    "    }\n",
    "}"
   ]
  },
  {
   "cell_type": "markdown",
   "id": "ded9a2fb-98d5-4603-99eb-b427b9a108a4",
   "metadata": {},
   "source": [
    "Musimy zamienić nazwę modułu w intefejsie `ComputerComponent`"
   ]
  },
  {
   "cell_type": "code",
   "execution_count": null,
   "id": "c9eedc6d-808f-41d1-b7ea-b9e467b81ac9",
   "metadata": {},
   "outputs": [],
   "source": [
    "@Component(modules = [IntelModule::class])\n",
    "interface ComputerComponent {\n",
    "    fun inject(mainActivity: MainActivity)\n",
    "}"
   ]
  },
  {
   "cell_type": "markdown",
   "id": "27d13e82-dcb0-4106-8dbd-f12bec5be8ec",
   "metadata": {},
   "source": [
    "### **`@Binds`**"
   ]
  },
  {
   "cell_type": "markdown",
   "id": "75cb8247-79bf-4ada-959f-786066d61dbd",
   "metadata": {},
   "source": [
    "Ponieważ w klasie `AmdModule` posiadamy jedną metodę, zwracającą przesłany argument, możemy zoptymalizować kod i uniknąć tworzenia jej instancji. W tym celu zmienimy klasę na klasę abstrakcyjną, oraz metodę na metodę abstrakcyjną (bez ciała)."
   ]
  },
  {
   "cell_type": "code",
   "execution_count": null,
   "id": "f40855f7-17c9-46ef-987d-418e07e0ef6c",
   "metadata": {},
   "outputs": [],
   "source": [
    "@Module\n",
    "abstract class AmdModule {\n",
    "    @Binds\n",
    "    abstract fun bindCpu(cpu: AMD): CPU\n",
    "}"
   ]
  },
  {
   "cell_type": "code",
   "execution_count": null,
   "id": "b21195e4-c462-489f-9c18-41bd2fd5e060",
   "metadata": {},
   "outputs": [],
   "source": []
  }
 ],
 "metadata": {
  "kernelspec": {
   "display_name": "Kotlin",
   "language": "kotlin",
   "name": "kotlin"
  },
  "language_info": {
   "codemirror_mode": "text/x-kotlin",
   "file_extension": ".kt",
   "mimetype": "text/x-kotlin",
   "name": "kotlin",
   "nbconvert_exporter": "",
   "pygments_lexer": "kotlin",
   "version": "1.6.20-dev-6372"
  }
 },
 "nbformat": 4,
 "nbformat_minor": 5
}
