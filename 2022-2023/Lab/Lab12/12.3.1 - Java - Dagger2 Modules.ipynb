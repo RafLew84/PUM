{
 "cells": [
  {
   "cell_type": "markdown",
   "id": "a98ce3e4-119f-48f0-a2e9-a448aaa008a0",
   "metadata": {},
   "source": [
    "## 12.3 Moduły i metody dostarczające (provider methods)"
   ]
  },
  {
   "cell_type": "markdown",
   "id": "0c32e6d0-3d23-40f1-8332-5e9d72c46393",
   "metadata": {},
   "source": [
    "Do tej pory cały proces wstrzykiwania był relatywnie prosty. Jeżeli jednak nie mamy dostępu do klasy której instancję chcemy wstrzyknąć (klasy dostępne w zewnętrznych bibliotekach - przykładowo `Notification`, `SharedPreferences`, `RecyclerView`, `Retrofit`) nie możemy zastosować wstrzykiwania przez konstruktor, metodę czy pole - innymi słowy nie możemy modyfikować tej klasy. Musimy zastosować nieco inny mechanizm.\n",
    "\n",
    "Załóżmy że nasz komputer składa się tylko z cpu i gpu. Klasy pochodzą z zewnętrznych bibliotek, więc nie możemy dokonać żadnej modyfikacji. Konstruktor klasy `Computer` przyjmuje dwa argumenty: `GPU` i `CPU`"
   ]
  },
  {
   "cell_type": "code",
   "execution_count": null,
   "id": "974283c7-f538-4d25-9984-5c4b47be80f3",
   "metadata": {},
   "outputs": [],
   "source": [
    "public class Computer {\n",
    "    private GPU gpu;\n",
    "    private CPU cpu;\n",
    "\n",
    "    public Computer(GPU gpu, CPU cpu) {\n",
    "        this.gpu = gpu;\n",
    "        this.cpu = cpu;\n",
    "    }\n",
    "\n",
    "    public String work(){\n",
    "        return \"working\";\n",
    "    }\n",
    "}\n",
    "\n",
    "public class CPU {}\n",
    "public class GPU {}"
   ]
  },
  {
   "cell_type": "markdown",
   "id": "ff7ab08e-75ed-48b1-a8d0-600515271681",
   "metadata": {},
   "source": [
    "W jaki sposób możemy pokazać bibliotece `Dagger2` jak utworzyć obiekty `Computer`, `GPU` i `CPU`, oraz kolejność ich tworzenia? W tym celu wykorzystamy **moduły** - są to zwykłe klasy które są dodane do grafu tworzonego przez `Dagger2`.\n",
    "\n",
    "Dodajmy metody dostarczające - mamy dwie zależności: `GPU` i `CPU`."
   ]
  },
  {
   "cell_type": "code",
   "execution_count": null,
   "id": "01fe3df4-ba1b-496b-9ae4-607c57b0ecbf",
   "metadata": {},
   "outputs": [],
   "source": [
    "@Module\n",
    "public class ComputerModule {\n",
    "    @Provides\n",
    "    static GPU provideGpu(){\n",
    "        return new GPU();\n",
    "    }\n",
    "    \n",
    "    @Provides\n",
    "    static CPU provideCpu(){\n",
    "        return new CPU();\n",
    "    }\n",
    "}"
   ]
  },
  {
   "cell_type": "markdown",
   "id": "75dc3273-53e8-47c4-98c5-c8eedad55869",
   "metadata": {},
   "source": [
    "Adnotacja `@Provides` pozwala oznaczyć metodę dostarczającą. Gdy `Dagger2` potrzebuje obiektu typu `CPU`, odwołuje się do odpowiedniej metody.\n",
    "\n",
    "Pozostaje dostarczyć metodę tworzącą obiekt typu `Computer`"
   ]
  },
  {
   "cell_type": "code",
   "execution_count": null,
   "id": "e74f77e4-8bf7-4773-b324-49681edbb16c",
   "metadata": {},
   "outputs": [],
   "source": [
    "@Provides\n",
    "static Computer provideComputer(GPU gpu, CPU cpu){\n",
    "    return new Computer(gpu, cpu);\n",
    "}"
   ]
  },
  {
   "cell_type": "markdown",
   "id": "e915a024-6ba5-4510-8d0a-9a401baf4ac9",
   "metadata": {},
   "source": [
    "Konstruktor `Computer` wymaga podania obiektów `CPU` i `GPU`, ponieważ mamy już metody dostarczające te obiekty, możemy przekazać `cpu` i `gpu` w argumentach metody `provideComputer` - `Dagger2` automatycznie użyje pozostałych metod dostarczających do utworzenia odpowiednich obiektów.\n",
    "\n",
    "Do interfejsu `ComputerComponent`, przy adnotacji `@Component` musimy podać tablicę modułów"
   ]
  },
  {
   "cell_type": "code",
   "execution_count": null,
   "id": "c78c38ff-a946-4002-b53b-e3afee2da2a4",
   "metadata": {},
   "outputs": [],
   "source": [
    "@Component(modules = ComputerModule.class)\n",
    "public interface ComputerComponent {\n",
    "    void inject(MainActivity mainActivity);\n",
    "}"
   ]
  },
  {
   "cell_type": "markdown",
   "id": "c6e67662-f001-4df1-b052-a2ead9fd27e6",
   "metadata": {},
   "source": [
    "W głównej aktywności nie wprowadzamy żadnych zmian w statunku do poprzedniego przykładu."
   ]
  },
  {
   "cell_type": "code",
   "execution_count": null,
   "id": "5a23cc21-8d8f-40b3-ad59-5aa92503249b",
   "metadata": {},
   "outputs": [],
   "source": [
    "public class MainActivity extends AppCompatActivity {\n",
    "    @Inject\n",
    "    public Computer computer;\n",
    "\n",
    "    @Override\n",
    "    protected void onCreate(Bundle savedInstanceState) {\n",
    "        super.onCreate(savedInstanceState);\n",
    "        setContentView(R.layout.activity_main);\n",
    "\n",
    "        ComputerComponent component = DaggerComputerComponent.create();\n",
    "        component.inject(this);\n",
    "        TextView textView = findViewById(R.id.textview);\n",
    "        textView.setText(computer.work());\n",
    "    }\n",
    "}"
   ]
  },
  {
   "cell_type": "markdown",
   "id": "f2d90ab4-f19d-4db7-a589-4a07919c2280",
   "metadata": {},
   "source": [
    "j"
   ]
  }
 ],
 "metadata": {
  "kernelspec": {
   "display_name": "Java",
   "language": "java",
   "name": "java"
  },
  "language_info": {
   "codemirror_mode": "java",
   "file_extension": ".jshell",
   "mimetype": "text/x-java-source",
   "name": "Java",
   "pygments_lexer": "java",
   "version": "17+35-2724"
  }
 },
 "nbformat": 4,
 "nbformat_minor": 5
}
