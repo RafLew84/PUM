{
 "cells": [
  {
   "cell_type": "markdown",
   "id": "4f2740f3-15c5-4d33-ae7b-10267efce72c",
   "metadata": {},
   "source": [
    "## 12.2 Wstrzykiwanie do metod i do pól (Field Injection, Method Injection)"
   ]
  },
  {
   "cell_type": "markdown",
   "id": "dbc5389d-72c9-4fef-b894-83b35058952f",
   "metadata": {},
   "source": [
    "Wykorzystamy poprzedni przykład."
   ]
  },
  {
   "cell_type": "markdown",
   "id": "bff26dec-f0ba-4313-8312-d45c000e9718",
   "metadata": {},
   "source": [
    "### Field Injection"
   ]
  },
  {
   "cell_type": "markdown",
   "id": "204c949e-3361-4bf0-aa19-8e01a1d6e102",
   "metadata": {},
   "source": [
    "Tym razem wstrzykniemy obiekt `Computer` bezpośrednio do pola. Z metody `onCreate` klasy `MainActivity` pozbędziemy się `component`"
   ]
  },
  {
   "cell_type": "code",
   "execution_count": null,
   "id": "ea5b894f-0c6b-4d29-b06e-76321fe94a9e",
   "metadata": {},
   "outputs": [],
   "source": [
    "// val component = DaggerComputerComponent.create()\n",
    "// computer = component.getComputer()"
   ]
  },
  {
   "cell_type": "markdown",
   "id": "a7c71a7b-a773-4e08-bc09-6dd74b20592c",
   "metadata": {},
   "source": [
    "I dodajmy adnotację `@Inject` do pola `computer`"
   ]
  },
  {
   "cell_type": "code",
   "execution_count": null,
   "id": "bcd408e6-4212-4c2d-a884-cb9160f79841",
   "metadata": {},
   "outputs": [],
   "source": [
    "@Inject\n",
    "lateinit var computer: Computer"
   ]
  },
  {
   "cell_type": "markdown",
   "id": "e9a18be8-f55b-4fe9-b2e5-9db82e6d7e63",
   "metadata": {},
   "source": [
    "Zwróćmy uwagę na brak modyfikatora `private` - gdy chcemy wykonać wstrzyknięcie bezpośrednio do pola, musi być ono **publiczne**."
   ]
  },
  {
   "cell_type": "markdown",
   "id": "0583fceb-9584-4946-bdc6-a9e22954a429",
   "metadata": {},
   "source": [
    "W interfejsie `ComputerComponent` usuwamy metodę `getComputer`, zamiast niej dodajemy metodę `inject`, przyjmującą jeden argument typu `MainActivity`"
   ]
  },
  {
   "cell_type": "code",
   "execution_count": null,
   "id": "d570c9da-1115-41e9-8c7a-d1c273f2b769",
   "metadata": {},
   "outputs": [],
   "source": [
    "@Component\n",
    "interface ComputerComponent {\n",
    "    fun inject(activity: MainActivity)\n",
    "}"
   ]
  },
  {
   "cell_type": "markdown",
   "id": "5ec42c40-db8f-4ea5-b5ce-3c3eadff4f06",
   "metadata": {},
   "source": [
    "Przechodzimy do głównej aktywności. Jak poprzednio tworzymy `component`, tym razem wywołujemy metodę `inject` podając jako argument `this`"
   ]
  },
  {
   "cell_type": "code",
   "execution_count": null,
   "id": "eb2fa481-0dd5-4d4d-b2e0-17e895aac761",
   "metadata": {},
   "outputs": [],
   "source": [
    "val component = DaggerComputerComponent.create()\n",
    "component.inject(this)"
   ]
  },
  {
   "cell_type": "markdown",
   "id": "6ff35a8e-8d0e-4353-81ea-8bfc33b73038",
   "metadata": {},
   "source": [
    "Przez wywołanie metody `inject` przekazujemy `MainActivity` do `Dagger2`. Automatycznie nastąpi wstrzyknięcie **wszystkich** pól oznaczonych adnotacją `@Inject`.\n",
    "\n",
    "Minusem jest konieczność upublicznienia wszystkich pól. Zaletą jest możliwość wykonania wstrzyknięcia do wielu pól i uniknięcia pisania dla każdego osobnej metody."
   ]
  },
  {
   "cell_type": "markdown",
   "id": "4cf0531e-39e1-425a-bcd7-9e6d46e2607c",
   "metadata": {},
   "source": [
    "### Method Injection"
   ]
  },
  {
   "cell_type": "markdown",
   "id": "c9b2a2db-91bf-435b-a982-08d7842671b7",
   "metadata": {},
   "source": [
    "Ostatnim sposobem wykonywania wstrzyknięć są wstrzyknięcia przez metodę - zdecydowanie najrzadziej wykorzystywane.\n",
    "\n",
    "Dodajmy klasę `Monitor` z jedną metodą `setComputer`"
   ]
  },
  {
   "cell_type": "code",
   "execution_count": null,
   "id": "58a50c78-0b24-48ac-9f9b-4f2e1b27a05f",
   "metadata": {},
   "outputs": [],
   "source": [
    "class Monitor @Inject constructor() {\n",
    "    fun setListener(computer: Computer): String{\n",
    "        return \"monitor connected\"\n",
    "    }\n",
    "}"
   ]
  },
  {
   "cell_type": "markdown",
   "id": "e9d6ea21-10cb-40b7-97ed-06975b7d34b2",
   "metadata": {},
   "source": [
    "Dodajmy pole publiczne (pomocnicze) oraz metodę `monitor` do klasy `Computer`"
   ]
  },
  {
   "cell_type": "code",
   "execution_count": null,
   "id": "2dc1292f-5d79-44ec-a49c-a7001d7ad297",
   "metadata": {},
   "outputs": [],
   "source": [
    "class Computer @Inject constructor (\n",
    "    private val case: Case,\n",
    "    private val gpu: GPU,\n",
    "    private val cpu: CPU,\n",
    "    private val motherboard: Motherboard,\n",
    "    private val powerSupply: PowerSupply\n",
    "        ) {\n",
    "\n",
    "    var text: String = \" \"\n",
    "\n",
    "    fun work(): String{\n",
    "        return \"working\"\n",
    "    }\n",
    "\n",
    "    @Inject\n",
    "    fun monitor(monitor: Monitor){\n",
    "        text = monitor.setComputer(this)\n",
    "    }\n",
    "}"
   ]
  },
  {
   "cell_type": "markdown",
   "id": "d855641f-1467-4276-94b7-21297f80ef29",
   "metadata": {},
   "source": [
    "W głównej aktywności możemy dodać tekst do pola `TextView`"
   ]
  },
  {
   "cell_type": "code",
   "execution_count": null,
   "id": "ac74f5d1-3d78-4279-a36d-e2117bbc264f",
   "metadata": {},
   "outputs": [],
   "source": [
    "textView.text = computer.work() + computer.text"
   ]
  },
  {
   "cell_type": "markdown",
   "id": "359170d3-a30c-4a7a-bdd4-568c447d760d",
   "metadata": {},
   "source": [
    "### Podsumowanie"
   ]
  },
  {
   "cell_type": "markdown",
   "id": "a08de66c-2587-4f7a-9779-a90d5546b92c",
   "metadata": {},
   "source": [
    "- najpopularniejsze jest wstrzykiwanie przez konstruktor\n",
    "- jeżeli w klasie mamy wszystkie trzy typy wstrzyknięć, kolejność wykonania jest następująca\n",
    "    - konstruktor\n",
    "    - pole\n",
    "    - metoda\n",
    "- rzadko wykorzystuje się więcej niż jeden sposób\n",
    "- wykorzystanie wszystkich trzech jest niespotykane\n",
    "- jednym z niewielu zastosowań wstrzykiwania przez metodę jest sytuacja w której musimy przekazać instancję jako argument\n",
    "\n",
    "```kotlin\n",
    "        monitor.setComputer(this)\n",
    "```\n",
    "\n",
    "- jeżeli to wywołanie zostałby przeniesione do konstruktora lub blokku `init`, w efekcie dostalibyśmy `NuyllPointerException` - ponieważ staramy się przekazać obiekt który nie został jeszcze utworzony do metody ninnej klasy\n",
    "- jeżeli chcemy wykonać wstrrzyknięcie do pola w klasie z dostępnym konstruktorem, nie jest konieczne wykonywanie innych operacji. Przykładowo, jeżeli chcemy wstrzyknąć `GPU` do klasy `Computer` przez pole, jedyną zmianą którą musimy wykonać jest dodanie adnotacji `@Inject` do odpowiedniego pola (pole to musi być publiczne, niefinalne)\n",
    "\n",
    "```kotlin\n",
    "        @Inject lateinit var gpu: GPU\n",
    "```\n",
    "- jeżeli nie mamy dostępnego konstruktora w klasie (aktywność, fragment), tworzymy obiekt o typie interfejsu za pomocą automatycznie wygenerowanej klasy\n",
    "\n",
    "```kotlin\n",
    "         val component = DaggerComputerComponent.create()\n",
    "         component.inject(this)\n",
    "```\n",
    "- w poprzednich dwóch punktach różnicą jest metoda inicjacji - jeżeli jest dostępny konstruktor i wykonujemy również wstrzyknięcie przez konstruktor, inicjuje to cały proces. Jeżeli konstruktora nie ma, musimy zainicjować proces manualnie wywołując metodę `inject`"
   ]
  },
  {
   "cell_type": "code",
   "execution_count": null,
   "id": "9050a98d-af0e-45c5-8b9f-7dcac0451b0f",
   "metadata": {},
   "outputs": [],
   "source": []
  }
 ],
 "metadata": {
  "kernelspec": {
   "display_name": "Kotlin",
   "language": "kotlin",
   "name": "kotlin"
  },
  "language_info": {
   "codemirror_mode": "text/x-kotlin",
   "file_extension": ".kt",
   "mimetype": "text/x-kotlin",
   "name": "kotlin",
   "nbconvert_exporter": "",
   "pygments_lexer": "kotlin",
   "version": "1.6.20-dev-6372"
  }
 },
 "nbformat": 4,
 "nbformat_minor": 5
}
