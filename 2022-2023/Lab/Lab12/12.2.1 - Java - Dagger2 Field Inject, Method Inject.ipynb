{
 "cells": [
  {
   "cell_type": "markdown",
   "id": "015d10ba-8bbb-4eea-9ac0-fa899e0bddf1",
   "metadata": {},
   "source": [
    "## 12.2 Wstrzykiwanie do metod i do pól (Field Injection, Method Injection)"
   ]
  },
  {
   "cell_type": "markdown",
   "id": "d80d1149-ba35-45ab-83c5-a7c56ffcbe9e",
   "metadata": {},
   "source": [
    "Wykorzystamy poprzedni przykład."
   ]
  },
  {
   "cell_type": "markdown",
   "id": "fdd2e8bc-baac-4a15-a756-51de0d4bdc8a",
   "metadata": {},
   "source": [
    "### Field Injection"
   ]
  },
  {
   "cell_type": "markdown",
   "id": "b44e6773-1346-488b-b9ee-e06ed832ebec",
   "metadata": {},
   "source": [
    "Tym razem wstrzykniemy obiekt `Computer` bezpośrednio do pola. Z metody `onCreate` klasy `MainActivity` pozbędziemy się `component`"
   ]
  },
  {
   "cell_type": "code",
   "execution_count": null,
   "id": "e80ef4bc-7a3e-4453-ac6f-2ea854f766e8",
   "metadata": {},
   "outputs": [],
   "source": [
    "// ComputerComponent component = DaggerComputerComponent.create()\n",
    "// computer = component.getComputer()"
   ]
  },
  {
   "cell_type": "markdown",
   "id": "5233aa8c-7b78-408d-b991-9987275d6c83",
   "metadata": {},
   "source": [
    "I dodajmy adnotację `@Inject` do pola `computer`"
   ]
  },
  {
   "cell_type": "code",
   "execution_count": null,
   "id": "e86ca114-be4d-4c3a-b425-5e45bf141937",
   "metadata": {},
   "outputs": [],
   "source": [
    "@Inject\n",
    "public Computer computer;"
   ]
  },
  {
   "cell_type": "markdown",
   "id": "4ccc1ec4-da2d-4046-bad8-7f6ff2c7b591",
   "metadata": {},
   "source": [
    "Zwróćmy uwagę na modyfikator `public` - gdy chcemy wykonać wstrzyknięcie bezpośrednio do pola, musi być ono **publiczne**."
   ]
  },
  {
   "cell_type": "markdown",
   "id": "e959e7bd-a4c6-404e-9c27-9240702d9122",
   "metadata": {},
   "source": [
    "W interfejsie `ComputerComponent` usuwamy metodę `getComputer`, zamiast niej dodajemy metodę `inject`, przyjmującą jeden argument typu `MainActivity`"
   ]
  },
  {
   "cell_type": "code",
   "execution_count": null,
   "id": "9f0a0927-81e6-4d08-83b2-4e8de6545bd9",
   "metadata": {},
   "outputs": [],
   "source": [
    "@Component\n",
    "public interface ComputerComponent {\n",
    "    void inject(MainActivity mainActivity);\n",
    "}"
   ]
  },
  {
   "cell_type": "markdown",
   "id": "9f7e9798-9eaa-4475-b12e-6d959c5f7d69",
   "metadata": {},
   "source": [
    "Przechodzimy do głównej aktywności. Jak poprzednio tworzymy `component`, tym razem wywołujemy metodę `inject` podając jako argument `this`"
   ]
  },
  {
   "cell_type": "code",
   "execution_count": null,
   "id": "31fe6e3d-bd46-4268-87be-2748795455dd",
   "metadata": {},
   "outputs": [],
   "source": [
    "ComputerComponent component = DaggerComputerComponent.create();\n",
    "component.inject(this);"
   ]
  },
  {
   "cell_type": "markdown",
   "id": "d3e5d3bc-507b-42ef-971b-61c484ecc561",
   "metadata": {},
   "source": [
    "Przez wywołanie metody `inject` przekazujemy `MainActivity` do `Dagger2`. Automatycznie nastąpi wstrzyknięcie **wszystkich** pól oznaczonych adnotacją `@Inject`.\n",
    "\n",
    "Minusem jest konieczność upublicznienia wszystkich pól. Zaletą jest możliwość wykonania wstrzyknięcia do wielu pól i uniknięcia pisania dla każdego osobnej metody."
   ]
  },
  {
   "cell_type": "markdown",
   "id": "a822ae99-046f-459f-995d-9eb0a0048336",
   "metadata": {},
   "source": [
    "### Method Injection"
   ]
  },
  {
   "cell_type": "markdown",
   "id": "17cb73a2-25cd-4359-9d12-6a7e5c1d57f5",
   "metadata": {},
   "source": [
    "Ostatnim sposobem wykonywania wstrzyknięć są wstrzyknięcia przez metodę - zdecydowanie najrzadziej wykorzystywane.\n",
    "\n",
    "Dodajmy klasę `Monitor` z jedną metodą `setComputer`"
   ]
  },
  {
   "cell_type": "code",
   "execution_count": null,
   "id": "4a0879a5-5208-477d-8ad5-265a1c46a684",
   "metadata": {},
   "outputs": [],
   "source": [
    "public class Monitor {\n",
    "    @Inject\n",
    "    public Monitor() {\n",
    "    }\n",
    "\n",
    "    public String setComputer(Computer computer){\n",
    "        return \"monitor connected\";\n",
    "    }\n",
    "}"
   ]
  },
  {
   "cell_type": "markdown",
   "id": "b12838d3-8216-465a-9855-58917a9245dd",
   "metadata": {},
   "source": [
    "Dodajmy pole publiczne (pomocnicze) oraz metodę `monitor` do klasy `Computer`"
   ]
  },
  {
   "cell_type": "code",
   "execution_count": null,
   "id": "eef20013-6f6d-4ca2-9033-a187b8fb9761",
   "metadata": {},
   "outputs": [],
   "source": [
    "public class Computer {\n",
    "    private Case computerCase;\n",
    "    private GPU gpu;\n",
    "    private CPU cpu;\n",
    "    private Motherboard motherboard;\n",
    "    private PowerSupply powerSupply;\n",
    "\n",
    "    public String text;\n",
    "\n",
    "    @Inject\n",
    "    public Computer(\n",
    "            Case computerCase,\n",
    "            CPU cpu,\n",
    "            GPU gpu,\n",
    "            Motherboard motherboard,\n",
    "            PowerSupply powerSupply){\n",
    "        this.computerCase = computerCase;\n",
    "        this.cpu = cpu;\n",
    "        this.gpu = gpu;\n",
    "        this.motherboard = motherboard;\n",
    "        this.powerSupply = powerSupply;\n",
    "    }\n",
    "\n",
    "    public String work(){\n",
    "        return \"working\";\n",
    "    }\n",
    "\n",
    "    @Inject\n",
    "    public void monitor(Monitor monitor){\n",
    "        text = monitor.setComputer(this);\n",
    "    }\n",
    "}"
   ]
  },
  {
   "cell_type": "markdown",
   "id": "b1316208-57a9-4117-8149-8ba68273a951",
   "metadata": {},
   "source": [
    "W głównej aktywności możemy dodać tekst do pola `TextView`"
   ]
  },
  {
   "cell_type": "code",
   "execution_count": null,
   "id": "22c8c010-9009-43b9-aec2-1d46dce07d7d",
   "metadata": {},
   "outputs": [],
   "source": [
    "textView.setText(computer.work() + computer.text);"
   ]
  },
  {
   "cell_type": "markdown",
   "id": "790779b8-731b-4fd4-984e-2dd5f44bf002",
   "metadata": {},
   "source": [
    "### Podsumowanie"
   ]
  },
  {
   "cell_type": "markdown",
   "id": "1dcb7bb4-044c-4298-a4c6-f9f1d011e88b",
   "metadata": {},
   "source": [
    "- najpopularniejsze jest wstrzykiwanie przez konstruktor\n",
    "- jeżeli w klasie mamy wszystkie trzy typy wstrzyknięć, kolejność wykonania jest następująca\n",
    "    - konstruktor\n",
    "    - pole\n",
    "    - metoda\n",
    "- rzadko wykorzystuje się więcej niż jeden sposób\n",
    "- wykorzystanie wszystkich trzech jest niespotykane\n",
    "- jednym z niewielu zastosowań wstrzykiwania przez metodę jest sytuacja w której musimy przekazać instancję jako argument\n",
    "\n",
    "```kotlin\n",
    "        monitor.setComputer(this)\n",
    "```\n",
    "\n",
    "- jeżeli to wywołanie zostałby przeniesione do konstruktora lub blokku `init`, w efekcie dostalibyśmy `NuyllPointerException` - ponieważ staramy się przekazać obiekt który nie został jeszcze utworzony do metody ninnej klasy\n",
    "- jeżeli chcemy wykonać wstrrzyknięcie do pola w klasie z dostępnym konstruktorem, nie jest konieczne wykonywanie innych operacji. Przykładowo, jeżeli chcemy wstrzyknąć `GPU` do klasy `Computer` przez pole, jedyną zmianą którą musimy wykonać jest dodanie adnotacji `@Inject` do odpowiedniego pola (pole to musi być publiczne, niefinalne)\n",
    "\n",
    "```kotlin\n",
    "        @Inject lateinit var gpu: GPU\n",
    "```\n",
    "- jeżeli nie mamy dostępnego konstruktora w klasie (aktywność, fragment), tworzymy obiekt o typie interfejsu za pomocą automatycznie wygenerowanej klasy\n",
    "\n",
    "```kotlin\n",
    "         val component = DaggerComputerComponent.create()\n",
    "         component.inject(this)\n",
    "```\n",
    "- w poprzednich dwóch punktach różnicą jest metoda inicjacji - jeżeli jest dostępny konstruktor i wykonujemy również wstrzyknięcie przez konstruktor, inicjuje to cały proces. Jeżeli konstruktora nie ma, musimy zainicjować proces manualnie wywołując metodę `inject`"
   ]
  }
 ],
 "metadata": {
  "kernelspec": {
   "display_name": "Java",
   "language": "java",
   "name": "java"
  },
  "language_info": {
   "codemirror_mode": "java",
   "file_extension": ".jshell",
   "mimetype": "text/x-java-source",
   "name": "Java",
   "pygments_lexer": "java",
   "version": "17+35-2724"
  }
 },
 "nbformat": 4,
 "nbformat_minor": 5
}
