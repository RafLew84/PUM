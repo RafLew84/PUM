{
 "cells": [
  {
   "cell_type": "markdown",
   "id": "5b4b5c01-6bf6-4ad8-b6b1-c16b1fbab004",
   "metadata": {},
   "source": [
    "## 11.1 Retrofit - podstawy"
   ]
  },
  {
   "cell_type": "markdown",
   "id": "8f5c4095-c33b-4890-80e8-7307f399a859",
   "metadata": {},
   "source": [
    "Przechodzimy do serii aplikacji w których zapoznamy się z biblioteką `Retrofit` - jedną z najpopularniejszych bibliotek służąca wysyłaniu i odbieraniu danych z zewnętrznych serwisów. Generuje ona kod sieciowy - z naszej strony musimy zadeklarować interfejs wraz z metodami opisującymi operacje sieciowe które chcemy wykonać. Analogicznie jak w przypadku biblioteki `ROOM` będziemy posługiwać się adnotwacjami w celu dostarczenia informacji na podstawie których kod zostanie wygenerowany przez `Retrofit`.\n",
    "\n",
    "W tej części wykonamy `GET` aby pobrać dane z serwera i wyświetlić je w naszej aplikacji. Aby maksymalnie uprościć elementy niezwiązane z `Retrofit` posłużymy się pojedynczą aktywnością oraz jednym polem `TextView`.\n",
    "\n",
    "Nasza aplikacja będzie komunikować się z zewnętrznym serwisem, więc niezbędne jest odpowiednie upoważnienie"
   ]
  },
  {
   "cell_type": "code",
   "execution_count": null,
   "id": "ced06ec3-a88d-4172-a532-fdb1142573aa",
   "metadata": {},
   "outputs": [],
   "source": [
    "<uses-permission android:name=\"android.permission.INTERNET\"/>"
   ]
  },
  {
   "cell_type": "markdown",
   "id": "cc42053f-9828-4b01-acc5-942869aed188",
   "metadata": {},
   "source": [
    "Następnie musimy dodać `Retrofit` do zależności w naszej aplikacji"
   ]
  },
  {
   "cell_type": "code",
   "execution_count": null,
   "id": "e74a1ea0-36d8-4549-af0a-d1612cd25981",
   "metadata": {},
   "outputs": [],
   "source": [
    "implementation 'com.squareup.retrofit2:retrofit:2.9.0'"
   ]
  },
  {
   "cell_type": "markdown",
   "id": "cd66c168-f778-47df-bccd-9ea668aa88c5",
   "metadata": {},
   "source": [
    "Aby przekonwertować odpowiedź `Response` serwera na odpowiednie obiekty w Javie będziemy potrzebować odpowiedni konwerter - dostępnych jest [kilka](https://square.github.io/retrofit/), nas interesuje `Gson`"
   ]
  },
  {
   "cell_type": "code",
   "execution_count": null,
   "id": "7fca01e0-9d0e-4a91-9cfe-4bf7bd95c352",
   "metadata": {},
   "outputs": [],
   "source": [
    "implementation 'com.squareup.retrofit2:converter-gson:2.9.0'"
   ]
  },
  {
   "cell_type": "markdown",
   "id": "09a47f88-e49a-4e30-bfa4-630def9207ef",
   "metadata": {},
   "source": [
    "W tym przykładzie wykorzystamy [**JSONPlaceholder**](https://jsonplaceholder.typicode.com/), który jest API przeznaczonym do testowania. Mamy dostępnych kilka **endpointów**\n",
    "- posts\n",
    "- comments\n",
    "- albums\n",
    "- photos\n",
    "- todos\n",
    "- users\n",
    "\n",
    "W tym przykładzie wybierzemy pierwszy (posts), rozpoczniemy komunikację z tym serwerem oraz asynchronicznie wykonamy operację `GET` - czyli pobierzemy wszystkie posty i wrzucimy jch treść do `TextView`. Posty znajdziemy w formacie `JSON` - jest to format służący komunikacji pomiędzy naszą aplikacją a serwerem. Na serwerze znajduje się w chwili pisania 100 postów, struktura pojedynczego postu wygląda następująco"
   ]
  },
  {
   "cell_type": "code",
   "execution_count": null,
   "id": "6493028d-5417-46d0-bf53-94559053feeb",
   "metadata": {},
   "outputs": [],
   "source": [
    "{\n",
    "    \"userId\": 1,\n",
    "    \"id\": 1,\n",
    "    \"title\": \"sunt aut ...\",\n",
    "    \"body\": \"quia et ...\"\n",
    "},"
   ]
  },
  {
   "cell_type": "markdown",
   "id": "d3adcd68-d778-4c4f-9138-2d27415a7b64",
   "metadata": {},
   "source": [
    "W pierwszym kroku musimy stworzyć nasz model danych odpowiadający strukturze obecnej na serwerze. Więc do klasy `Post` dodajemy pola `userId`, `id`, `title` oraz `body`. Jeżeli chcemy wykorzystać inną nazwę musimy użyć adnotacji `@SerializedName` - tutaj zmienimy nazwę `body` na `content`. W argumencie `@SerializedName` podajemy nazwę którą chcemy zmienić jako `String` - czyli ta nazwa musi odpowiadać nazwie obecnej w formacie dostępnym na serwerze."
   ]
  },
  {
   "cell_type": "code",
   "execution_count": null,
   "id": "d0233c7b-553e-4cb2-a8cd-a7d4cddec7f2",
   "metadata": {},
   "outputs": [],
   "source": [
    "public class Post {\n",
    "    private int userId;\n",
    "    private int id;\n",
    "    private String title;\n",
    "\n",
    "    @SerializedName(\"body\")\n",
    "    String content;\n",
    "\n",
    "    public int getUserId() {\n",
    "        return userId;\n",
    "    }\n",
    "\n",
    "    public int getId() {\n",
    "        return id;\n",
    "    }\n",
    "\n",
    "    public String getTitle() {\n",
    "        return title;\n",
    "    }\n",
    "\n",
    "    public String getContent() {\n",
    "        return content;\n",
    "    }\n",
    "}"
   ]
  },
  {
   "cell_type": "markdown",
   "id": "bb680a1f-41e9-4619-b273-d6b01b4849e3",
   "metadata": {},
   "source": [
    "Zmieńmy jeszcze layout gfłównej aktywności - chcemy wyświetlić wszystkie posty w jednym polu `TextView`, więc umieścimy je w `NestedScrollView` aby umożliwić przewijanie."
   ]
  },
  {
   "cell_type": "code",
   "execution_count": null,
   "id": "f124f419-a1ff-4f19-a993-9c8a7c94131d",
   "metadata": {},
   "outputs": [],
   "source": [
    "<androidx.constraintlayout.widget.ConstraintLayout \n",
    "    xmlns:android=\"http://schemas.android.com/apk/res/android\"\n",
    "    xmlns:app=\"http://schemas.android.com/apk/res-auto\"\n",
    "    xmlns:tools=\"http://schemas.android.com/tools\"\n",
    "    android:layout_width=\"match_parent\"\n",
    "    android:layout_height=\"match_parent\"\n",
    "    tools:context=\".MainActivity\">\n",
    "\n",
    "    <androidx.core.widget.NestedScrollView\n",
    "        android:layout_width=\"match_parent\"\n",
    "        android:layout_height=\"match_parent\">\n",
    "\n",
    "        <TextView\n",
    "            android:id=\"@+id/textView\"\n",
    "            android:layout_width=\"wrap_content\"\n",
    "            android:layout_height=\"wrap_content\"\n",
    "            android:text=\"Hello World!\"\n",
    "            app:layout_constraintBottom_toBottomOf=\"parent\"\n",
    "            app:layout_constraintEnd_toEndOf=\"parent\"\n",
    "            app:layout_constraintStart_toStartOf=\"parent\"\n",
    "            app:layout_constraintTop_toTopOf=\"parent\" />\n",
    "\n",
    "    </androidx.core.widget.NestedScrollView>\n",
    "\n",
    "</androidx.constraintlayout.widget.ConstraintLayout>"
   ]
  },
  {
   "cell_type": "markdown",
   "id": "a85a4033-0a03-4e6b-ab60-6d609f6b5aa5",
   "metadata": {},
   "source": [
    "Teraz musimy stworzyć interfejs w którym zdefiniujemy metodę służącą zwróceniu danych z serwera"
   ]
  },
  {
   "cell_type": "code",
   "execution_count": null,
   "id": "15ba9aaf-405f-4d4c-87ea-e9a7f659d047",
   "metadata": {},
   "outputs": [],
   "source": [
    "public interface PlaceholderApi {\n",
    "    Call<List<Post>> getPosts();\n",
    "}"
   ]
  },
  {
   "cell_type": "markdown",
   "id": "1ebab980-feb1-4239-a58b-ecec647eed2d",
   "metadata": {},
   "source": [
    "Zwracanym obiektem jest `Call` zawierający listę wszystkich postów. Oprócz danych w tym obiekcie znajdują się również obiekty `Response` oraz `Request` zawierające informacje o samym połączeniu oraz metoda `enqueue` pozwalająca na asynchroniczne wysłanie żądania oraz powiadomienia zwrotnego, lub błędu - innymi słowy `Call` hermetyzuje pojedynczy `Request` oraz pojedynczy `Response`.\n",
    "\n",
    "Musimy wykorzystać adnotację `@GET` aby poinformować `Retrofit` co dokładnie ta metoda ma robić. Dzięki temu `Retrofit` będzie w stanie wygenerować odpowiedni kod."
   ]
  },
  {
   "cell_type": "code",
   "execution_count": null,
   "id": "f7ef09b4-afc7-4f19-866d-66978d4cb08a",
   "metadata": {},
   "outputs": [],
   "source": [
    "public interface PlaceholderApi {\n",
    "\n",
    "    @GET(\"posts\")\n",
    "    Call<List<Post>> getPosts();\n",
    "}"
   ]
  },
  {
   "cell_type": "markdown",
   "id": "916546cf-12b4-4c12-9f3c-bcdac7981b2c",
   "metadata": {},
   "source": [
    "Adres URL naszego API wygląda następująco [https://jsonplaceholder.typicode.com/posts](https://jsonplaceholder.typicode.com/posts). Część \"https://jsonplaceholder.typicode.com\" jest adresem bazowym, \"posts\" jest relatywnym adresem (endpoint) - przy adnotacjach w interfejsie posługujemy się tylko relatywnym adresem."
   ]
  },
  {
   "cell_type": "markdown",
   "id": "df813a15-bbda-44d2-890e-f9454dd4b3f3",
   "metadata": {},
   "source": [
    "Przejdźmy do głównej aktywności - w metodzie `onCreate` wykonamy nasze żądanie `GET`. W pierwszej kolejności potrzebujemy instancję `Restrofit`"
   ]
  },
  {
   "cell_type": "code",
   "execution_count": null,
   "id": "cddee6e7-962b-4889-979d-d9987f0726df",
   "metadata": {},
   "outputs": [],
   "source": [
    "Retrofit retrofit = new Retrofit.Builder()"
   ]
  },
  {
   "cell_type": "markdown",
   "id": "81fe1c97-56fe-418f-8bb9-005406776cce",
   "metadata": {},
   "source": [
    "Następnie podajemy `baseUrl` - jak widzieliśmy wqcześniej będzie to \"https://jsonplaceholder.typicode.com\""
   ]
  },
  {
   "cell_type": "code",
   "execution_count": null,
   "id": "6bd8b30f-b596-49df-9ed8-9d756e87ced1",
   "metadata": {},
   "outputs": [],
   "source": [
    "        .baseUrl(\"https://jsonplaceholder.typicode.com/\")"
   ]
  },
  {
   "cell_type": "markdown",
   "id": "2c5b47da-3a27-42ab-944e-7bd8e2f4c54c",
   "metadata": {},
   "source": [
    "Definiujemy nasz `ConverterFactory` - my używamy formatu `JSON`, więc konwerterem będzie `Gson`"
   ]
  },
  {
   "cell_type": "code",
   "execution_count": null,
   "id": "ad972789-e32a-466a-b13c-52c4dc0eb721",
   "metadata": {},
   "outputs": [],
   "source": [
    "        .addConverterFactory(GsonConverterFactory.create())"
   ]
  },
  {
   "cell_type": "markdown",
   "id": "1ee5fe26-4367-4b34-b257-551d70e7c8e1",
   "metadata": {},
   "source": [
    "na koniec wywołujemy metodę `build`"
   ]
  },
  {
   "cell_type": "code",
   "execution_count": null,
   "id": "b95ead45-e04e-4f62-aecb-e37e85f0378a",
   "metadata": {},
   "outputs": [],
   "source": [
    "Retrofit retrofit = new Retrofit.Builder()\n",
    "        .baseUrl(\"https://jsonplaceholder.typicode.com/\")\n",
    "        .addConverterFactory(GsonConverterFactory.create())\n",
    "        .build();"
   ]
  },
  {
   "cell_type": "markdown",
   "id": "4e02622a-0d9d-4cf7-bc66-ae7850d66d85",
   "metadata": {},
   "source": [
    "Posiadając instancję `Retrofit` możemy utworzyć instancję `PlaceholderApi`."
   ]
  },
  {
   "cell_type": "code",
   "execution_count": null,
   "id": "d38c9cca-e593-44f4-a6c5-b4fdb9f83c72",
   "metadata": {},
   "outputs": [],
   "source": [
    "PlaceholderApi api = retrofit.create(PlaceholderApi.class);"
   ]
  },
  {
   "cell_type": "markdown",
   "id": "97844974-ac06-43b6-bca9-0cdc5ca0c4bb",
   "metadata": {},
   "source": [
    "Aby wykonać żądanie sieciowe wymagany jest obiekt typu `Call`"
   ]
  },
  {
   "cell_type": "code",
   "execution_count": null,
   "id": "f715a318-3054-4944-a659-9e5a31787f34",
   "metadata": {},
   "outputs": [],
   "source": [
    "Call<List<Post>> call = api.getPosts();"
   ]
  },
  {
   "cell_type": "markdown",
   "id": "0912fd73-d51e-4d34-b260-270806af8682",
   "metadata": {},
   "source": [
    "Na tym obiekcie możemy wykonać `execute` - jest to wykonanie synchroniczne. Jeżeli nastąpi próba wykonania operacji sieciowych na wątku głównym zostanie rzucony wyjątek. Musimy wykonać operację sieciową asynchronicznie - tutaj `Retrofit` dostarcza odpowiednią metodę `enqueue`, której parametrem jest obiekt o typie interfejsu `Callback`. "
   ]
  },
  {
   "cell_type": "code",
   "execution_count": null,
   "id": "79d1ab7a-b6d5-4a9e-a3c4-fe4537768883",
   "metadata": {},
   "outputs": [],
   "source": [
    "call.enqueue(new Callback<List<Post>>() {\n",
    "    @SuppressLint(\"DefaultLocale\")\n",
    "    @Override\n",
    "    public void onResponse(\n",
    "        @NonNull Call<List<Post>> call,\n",
    "        @NonNull Response<List<Post>> response) {\n",
    "    }\n",
    "\n",
    "    @Override\n",
    "    public void onFailure(\n",
    "        @NonNull Call<List<Post>> call, \n",
    "        @NonNull Throwable t) {\n",
    "    }"
   ]
  },
  {
   "cell_type": "markdown",
   "id": "22099f2f-5332-4d98-9003-85cb0150d0bd",
   "metadata": {},
   "source": [
    "Musimy zaimplementować dwie metody\n",
    "- `onResponse` - wykonywana przy sukcesie komunikacji z serwerem - co oznacza samą komunikację a nie powodzenie samej operacji (przykładowo możemy dostać znany kod 404 przy próbie dostępu do danych które nie istnieją na serwerze)\n",
    "- `onFailure` - wykonywana przy braku komunikacji z serwerem\n",
    "\n",
    "W metodzie `onResponse` mamy dwa argumenty reprezentujące obiekty `Call` i `Response`. W pierwszym kroku implementacji tej metody sprawdzamy czy odpowiedź jest poprawna"
   ]
  },
  {
   "cell_type": "code",
   "execution_count": null,
   "id": "e7244d50-21c1-45ae-a853-e2a570ef98e2",
   "metadata": {},
   "outputs": [],
   "source": [
    "if (response.isSuccessful()) {"
   ]
  },
  {
   "cell_type": "markdown",
   "id": "7a8e8f6c-81be-4815-8bc9-f12d47b7909a",
   "metadata": {},
   "source": [
    "Czyli kod który otrzymujemy mieści się w zakresie 200 - 300 - więcej informacji o kodach [tutaj](https://developer.mozilla.org/en-US/docs/Web/HTTP/Status). Następnie musimy rozpakować dane - są one przechowywane w polu `body` obiektu `Response`. Oprócz tego `Response` posiada jeszcze pole typu `okhttp3.Response` zawierające kod odpowiedzi, rodzaj wykorzystanego protokołu (`HTTP 1.1`), oraz kilka innych informacji - w tym przykładzie są one nie istotne."
   ]
  },
  {
   "cell_type": "code",
   "execution_count": null,
   "id": "17acd36b-1b18-44b1-aeba-4bcaa0b85a10",
   "metadata": {},
   "outputs": [],
   "source": [
    "List<Post> posts = response.body();"
   ]
  },
  {
   "cell_type": "markdown",
   "id": "d0c7318e-f984-4099-9f7a-a4b2426c7d9f",
   "metadata": {},
   "source": [
    "Następnie, wykorzystując pętlę `foreach`, umieścimy wszystkie dane w polu `TextView`"
   ]
  },
  {
   "cell_type": "code",
   "execution_count": null,
   "id": "70acedce-8fb9-43b6-bdb1-8b7be5ca5a21",
   "metadata": {},
   "outputs": [],
   "source": [
    "posts.forEach(post -> {\n",
    "    StringBuilder content = new StringBuilder();\n",
    "    content.append(\"id: \").append(post.getId()).append(\"\\n\")\n",
    "            .append(\"UserId: \").append(post.getUserId()).append(\"\\n\")\n",
    "            .append(\"title: \").append(post.getTitle()).append(\"\\n\")\n",
    "            .append(\"body: \").append(post.getContent()).append(\"\\n\\n\");\n",
    "    textView.append(content);\n",
    "});"
   ]
  },
  {
   "cell_type": "markdown",
   "id": "865d7f34-6e2f-49d8-a3e1-fbbd6ed598e5",
   "metadata": {},
   "source": [
    "Jeżeli dostaniemy odpowiedź z kodem spoza podanego wyżej zakresu, drukujemy w polu `TextView` ten kod "
   ]
  },
  {
   "cell_type": "code",
   "execution_count": null,
   "id": "59bd1407-5c7e-4d66-ae09-5673c626e96a",
   "metadata": {},
   "outputs": [],
   "source": [
    "} else {\n",
    "    textView.setText(String.format(\"Code: %d\", response.code()));\n",
    "}"
   ]
  },
  {
   "cell_type": "markdown",
   "id": "528d69ca-2000-4f6e-ada9-8a66d3135784",
   "metadata": {},
   "source": [
    "Metoda `onFailure` posiada argument `Throwable` - jest to superklasa `Exception` i `Error`. Tutaj wydrukujemy wiadomość która zostanie wysłana przy niepowodzeniu operacji"
   ]
  },
  {
   "cell_type": "code",
   "execution_count": null,
   "id": "3333231c-ca26-49da-9f85-4e2f3637a55d",
   "metadata": {},
   "outputs": [],
   "source": [
    "@Override\n",
    "public void onFailure(\n",
    "    @NonNull Call<List<Post>> call, \n",
    "    @NonNull Throwable t) {\n",
    "    textView.setText(t.getMessage());\n",
    "}"
   ]
  },
  {
   "cell_type": "markdown",
   "id": "58009e63-4734-4da2-a297-9a2604f59ad5",
   "metadata": {},
   "source": [
    "Pełny kod aktywności"
   ]
  },
  {
   "cell_type": "code",
   "execution_count": null,
   "id": "a9358efb-96f4-4c1c-8653-48a4115de47f",
   "metadata": {},
   "outputs": [],
   "source": [
    "public class MainActivity extends AppCompatActivity {\n",
    "\n",
    "    @Override\n",
    "    protected void onCreate(Bundle savedInstanceState) {\n",
    "        super.onCreate(savedInstanceState);\n",
    "        setContentView(R.layout.activity_main);\n",
    "\n",
    "        TextView textView = findViewById(R.id.textView);\n",
    "\n",
    "        Retrofit retrofit = new Retrofit.Builder()\n",
    "                .baseUrl(\"https://jsonplaceholder.typicode.com/\")\n",
    "                .addConverterFactory(GsonConverterFactory.create())\n",
    "                .build();\n",
    "\n",
    "        PlaceholderApi api = retrofit.create(PlaceholderApi.class);\n",
    "\n",
    "        Call<List<Post>> call = api.getPosts();\n",
    "\n",
    "        call.enqueue(new Callback<List<Post>>() {\n",
    "            @SuppressLint(\"DefaultLocale\")\n",
    "            @Override\n",
    "            public void onResponse(\n",
    "                @NonNull Call<List<Post>> call,\n",
    "                @NonNull Response<List<Post>> response) {\n",
    "                if (response.isSuccessful()) {\n",
    "                    List<Post> posts = response.body();\n",
    "                    if (posts != null) {\n",
    "                        posts.forEach(post -> {\n",
    "                            StringBuilder content = new StringBuilder();\n",
    "                            content\n",
    "                                .append(\"id: \")\n",
    "                                .append(post.getId())\n",
    "                                .append(\"\\n\")\n",
    "                                .append(\"UserId: \")\n",
    "                                .append(post.getUserId())\n",
    "                                .append(\"\\n\")\n",
    "                                .append(\"title: \")\n",
    "                                .append(post.getTitle())\n",
    "                                .append(\"\\n\")\n",
    "                                .append(\"body: \")\n",
    "                                .append(post.getContent())\n",
    "                                .append(\"\\n\\n\");\n",
    "                            textView.append(content);\n",
    "                        });\n",
    "                    }\n",
    "                } else {\n",
    "                    textView.setText(\n",
    "                        String.format(\"Code: %d\", response.code()));\n",
    "                }\n",
    "            }\n",
    "\n",
    "            @Override\n",
    "            public void onFailure(\n",
    "                @NonNull Call<List<Post>> call, \n",
    "                @NonNull Throwable t) {\n",
    "                textView.setText(t.getMessage());\n",
    "            }\n",
    "        });\n",
    "    }\n",
    "}"
   ]
  },
  {
   "cell_type": "markdown",
   "id": "4c5cd725-684d-4f14-bb18-a83d73378e0e",
   "metadata": {},
   "source": [
    "Możemy przetestować aplikację - samo ściągnięcie danych i wyświetlenie może zająć kilkanaście sekund"
   ]
  },
  {
   "cell_type": "markdown",
   "id": "fd9e65e3-5ac0-4c78-9494-efeddd75c33a",
   "metadata": {},
   "source": [
    "<img src=\"https://media2.giphy.com/media/TjtDMwfxyC6HEIh29i/giphy.gif?cid=790b761100981bb41312fc0d0d08dd7a7d2672b1e408e844&rid=giphy.gif&ct=g\" width=\"150\" />"
   ]
  },
  {
   "cell_type": "code",
   "execution_count": null,
   "id": "11292868-23dc-484f-9b7b-5a792f90d8fe",
   "metadata": {},
   "outputs": [],
   "source": []
  }
 ],
 "metadata": {
  "kernelspec": {
   "display_name": "Java",
   "language": "java",
   "name": "java"
  },
  "language_info": {
   "codemirror_mode": "java",
   "file_extension": ".jshell",
   "mimetype": "text/x-java-source",
   "name": "Java",
   "pygments_lexer": "java",
   "version": "17+35-2724"
  }
 },
 "nbformat": 4,
 "nbformat_minor": 5
}
