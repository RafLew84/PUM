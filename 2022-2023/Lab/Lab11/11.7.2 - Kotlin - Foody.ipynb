{
 "cells": [
  {
   "cell_type": "markdown",
   "id": "7750161e-cb80-4f83-9c91-f5fd7333c997",
   "metadata": {},
   "source": [
    "## 11.7 Foody"
   ]
  },
  {
   "cell_type": "markdown",
   "id": "b9f41b21-6737-4548-b661-be52b9f28554",
   "metadata": {},
   "source": [
    "Aplikacja będzie podobna do poprzedniej, tym razem wykorzystamy `api` https://www.themealdb.com/. Przygotujemy trzy fragmenty\n",
    "- `FoodListFragment` - fragment wyświetlający listę wszystkich potraw - przefiltrujemy po kraju\n",
    "- `FoodDetailFragment` - fragment wyświetlający dokładniejsze informacje o danej potrawie\n",
    "- `FavoriteFragment` - fragment wyświtlający listęv ulubionych potraw\n",
    "\n",
    "Wykorzystamy `BottomNavigation`, na którym umieścimy fragmenty listy potraw oraz listę ulubionych. Na fragment wyświetlający dokładniejsze infoprmacje będziemy mogli się przenieść z obu fragmentów - przekazany zostanie `id` potrawy. Do stworzenia listy ulubionych potraw wykorzystamy lokalną bazę `ROOM`.\n",
    "\n",
    "W tej aplikacji posłużymy się pojedynczym `ViewModel` powiązanym z aktywnością hostującą."
   ]
  },
  {
   "cell_type": "markdown",
   "id": "d8a33488-dd87-4c7e-8d56-a612ec7bfc84",
   "metadata": {},
   "source": [
    "<table><tr><td><img src=\"https://media0.giphy.com/media/lpzoI5Wm7JrPHlXdpd/giphy.gif\" width=\"200\" /></td><td><img src=\"https://media2.giphy.com/media/5Zd75RkXZeDJNb46bF/giphy.gif\" width=\"200\" /></td></tr></table>"
   ]
  },
  {
   "cell_type": "markdown",
   "id": "1f4346dd-5afe-4885-816f-e26d91c4a166",
   "metadata": {},
   "source": [
    "Dodajmy odpowiednie zależności"
   ]
  },
  {
   "cell_type": "code",
   "execution_count": null,
   "id": "296a8756-7a2d-42c4-83ec-a43100331edf",
   "metadata": {},
   "outputs": [],
   "source": [
    "buildscript { // przed blokiem plugins\n",
    "    repositories {\n",
    "        google()\n",
    "    }\n",
    "    dependencies {\n",
    "        classpath \"androidx.navigation:navigation-safe-args-gradle-plugin:2.5.2\"\n",
    "    }\n",
    "}"
   ]
  },
  {
   "cell_type": "code",
   "execution_count": null,
   "id": "bac7fac0-6116-4d85-a368-86b16f028304",
   "metadata": {},
   "outputs": [],
   "source": [
    "plugins {\n",
    "    id 'com.android.application'\n",
    "    id 'org.jetbrains.kotlin.android'\n",
    "    id 'androidx.navigation.safeargs.kotlin'\n",
    "    id 'kotlin-android'\n",
    "    id 'kotlin-kapt'\n",
    "}\n",
    "...\n",
    "dependencies {\n",
    "\n",
    "    // ROOM\n",
    "    implementation(\"androidx.room:room-ktx:2.4.3\")\n",
    "    kapt(\"androidx.room:room-compiler:2.4.3\")\n",
    "\n",
    "    // ViewModel\n",
    "    implementation 'androidx.lifecycle:lifecycle-viewmodel-ktx:2.5.1'\n",
    "    // LiveData\n",
    "    implementation \"androidx.lifecycle:lifecycle-livedata-ktx:2.5.1\"\n",
    "\n",
    "    // Fragment\n",
    "    implementation \"androidx.fragment:fragment-ktx:1.5.3\"\n",
    "\n",
    "    // Navigation\n",
    "    implementation \"androidx.navigation:navigation-fragment-ktx:2.5.2\"\n",
    "    implementation \"androidx.navigation:navigation-ui-ktx:2.5.2\"\n",
    "\n",
    "    // Retrofit\n",
    "    implementation 'com.squareup.retrofit2:retrofit:2.9.0'\n",
    "    implementation 'com.squareup.retrofit2:converter-gson:2.9.0'\n",
    "\n",
    "    // OkHttp\n",
    "    implementation 'com.squareup.okhttp3:logging-interceptor:4.10.0'\n",
    "\n",
    "    // Glide\n",
    "    implementation 'com.github.bumptech.glide:glide:4.13.2'\n",
    "    annotationProcessor 'com.github.bumptech.glide:compiler:4.13.2'\n",
    "    ...\n",
    "}"
   ]
  },
  {
   "cell_type": "markdown",
   "id": "2dc0209f-e648-4948-88db-c2418f136eba",
   "metadata": {},
   "source": [
    "Dodajmy również odpowiednie upoważnienie do `AndroidManifest`"
   ]
  },
  {
   "cell_type": "code",
   "execution_count": null,
   "id": "aca1c731-c13d-4d4a-88c0-42a012cb24fe",
   "metadata": {},
   "outputs": [],
   "source": [
    "<uses-permission android:name=\"android.permission.INTERNET\"/>"
   ]
  },
  {
   "cell_type": "markdown",
   "id": "ad0c6018-b8e1-4fc6-a22d-04b02154b618",
   "metadata": {},
   "source": [
    "### **`Navigation`**"
   ]
  },
  {
   "cell_type": "markdown",
   "id": "bfcad79f-d2c8-4d6c-9fc3-035ccc0378c8",
   "metadata": {},
   "source": [
    "Rozpocznijmy od utworzenia fragmentów i dodania nawigacji"
   ]
  },
  {
   "cell_type": "markdown",
   "id": "37196d56-b255-4488-abf9-2c1619d6cdd6",
   "metadata": {},
   "source": [
    "<img src=\"https://fv9-4.failiem.lv/down.php?i=bu3zkrzvs\" width=\"400\" />"
   ]
  },
  {
   "cell_type": "code",
   "execution_count": null,
   "id": "6f4ee3e5-7861-46a7-8c0b-e573c7c68755",
   "metadata": {},
   "outputs": [],
   "source": [
    "<?xml version=\"1.0\" encoding=\"utf-8\"?>\n",
    "<navigation xmlns:android=\"http://schemas.android.com/apk/res/android\"\n",
    "    xmlns:app=\"http://schemas.android.com/apk/res-auto\"\n",
    "    xmlns:tools=\"http://schemas.android.com/tools\"\n",
    "    android:id=\"@+id/navigation\"\n",
    "    app:startDestination=\"@id/foodListFragment\">\n",
    "\n",
    "    <fragment\n",
    "        android:id=\"@+id/foodListFragment\"\n",
    "        android:name=\"pl.udu.uwr.pum.foody.ui.fragments.FoodListFragment\"\n",
    "        android:label=\"fragment_food_list\"\n",
    "        tools:layout=\"@layout/fragment_food_list\" >\n",
    "        <action\n",
    "            android:id=\"@+id/action_foodListFragment_to_foodDetailFragment\"\n",
    "            app:destination=\"@id/foodDetailFragment\" >\n",
    "            <argument\n",
    "                android:name=\"id\"\n",
    "                app:argType=\"string\" />\n",
    "        </action>\n",
    "    </fragment>\n",
    "    <fragment\n",
    "        android:id=\"@+id/foodDetailFragment\"\n",
    "        android:name=\"pl.udu.uwr.pum.foody.ui.fragments.FoodDetailFragment\"\n",
    "        android:label=\"fragment_food_detail\"\n",
    "        tools:layout=\"@layout/fragment_food_detail\" >\n",
    "        <action\n",
    "            android:id=\"@+id/action_foodDetailFragment_to_foodListFragment\"\n",
    "            app:destination=\"@id/foodListFragment\" />\n",
    "        <action\n",
    "            android:id=\"@+id/action_foodDetailFragment_to_favoriteFragment\"\n",
    "            app:destination=\"@id/favoriteFragment\" />\n",
    "    </fragment>\n",
    "    <fragment\n",
    "        android:id=\"@+id/favoriteFragment\"\n",
    "        android:name=\"pl.udu.uwr.pum.foody.ui.fragments.FavoriteFragment\"\n",
    "        android:label=\"fragment_favorite\"\n",
    "        tools:layout=\"@layout/fragment_favorite\" >\n",
    "        <action\n",
    "            android:id=\"@+id/action_favoriteFragment_to_foodDetailFragment\"\n",
    "            app:destination=\"@id/foodDetailFragment\" >\n",
    "            <argument\n",
    "                android:name=\"id\"\n",
    "                app:argType=\"string\" />\n",
    "        </action>\n",
    "    </fragment>\n",
    "</navigation>"
   ]
  },
  {
   "cell_type": "markdown",
   "id": "1edaf561-e189-40a1-856b-c1586eb8c8f9",
   "metadata": {},
   "source": [
    "Następnie dodajmy `menu` dla `BottomNavigation`"
   ]
  },
  {
   "cell_type": "code",
   "execution_count": null,
   "id": "cc794dc6-b0b7-4f1f-b23b-bc5885347159",
   "metadata": {},
   "outputs": [],
   "source": [
    "<?xml version=\"1.0\" encoding=\"utf-8\"?>\n",
    "<menu xmlns:android=\"http://schemas.android.com/apk/res/android\">\n",
    "    <item\n",
    "        android:id=\"@id/foodListFragment\"\n",
    "        android:icon=\"@drawable/ic_food\"\n",
    "        android:title=\"@string/food\" />\n",
    "    <item\n",
    "        android:id=\"@id/favoriteFragment\"\n",
    "        android:icon=\"@drawable/ic_favorite\"\n",
    "        android:title=\"@string/favorite\" />\n",
    "</menu>"
   ]
  },
  {
   "cell_type": "markdown",
   "id": "d89f1eb5-de73-43cb-b119-7fb1044989d2",
   "metadata": {},
   "source": [
    "Dodajmy nawigację w klasie `MainActivity`"
   ]
  },
  {
   "cell_type": "code",
   "execution_count": null,
   "id": "327997a1-6e00-4bac-8829-b12e03b71dbc",
   "metadata": {},
   "outputs": [],
   "source": [
    "class MainActivity : AppCompatActivity() {\n",
    "\n",
    "    private val binding: ActivityMainBinding by lazy {\n",
    "        ActivityMainBinding.inflate(layoutInflater)\n",
    "    }\n",
    "\n",
    "    private val navController: NavController by lazy {\n",
    "        val navHostFragment = supportFragmentManager.findFragmentById(R.id.nav_host_fragment)\n",
    "                as NavHostFragment\n",
    "        navHostFragment.findNavController()\n",
    "    }\n",
    "\n",
    "    private val appBarConfiguration: AppBarConfiguration by lazy {\n",
    "        AppBarConfiguration(setOf(R.id.foodListFragment, R.id.favoriteFragment))\n",
    "    }\n",
    "\n",
    "    override fun onCreate(savedInstanceState: Bundle?) {\n",
    "        super.onCreate(savedInstanceState)\n",
    "        setContentView(binding.root)\n",
    "\n",
    "        binding.bottomNavView.setupWithNavController(navController)\n",
    "        setupActionBarWithNavController(navController, appBarConfiguration)\n",
    "    }\n",
    "\n",
    "    override fun onSupportNavigateUp(): Boolean {\n",
    "        return navController.navigateUp(appBarConfiguration)\n",
    "                || super.onSupportNavigateUp()\n",
    "    }\n",
    "}"
   ]
  },
  {
   "cell_type": "markdown",
   "id": "61a0a873-2017-407b-a824-acc41a9d6b13",
   "metadata": {},
   "source": [
    "Zwróćmy uwagę na `appBarConfiguration`, teraz mamy dwa fragmenty tzw. top level, z których chcemy przejść na inny fragment. Jako argument `AppBarCon figuration` nie podajemy `navController.graph` jak dotychczas, tylko zbiór wszystkich fragmentów które chcemy dodać do `BottomNavigation`"
   ]
  },
  {
   "cell_type": "code",
   "execution_count": null,
   "id": "7a531073-ecd8-497d-a207-727136cd23df",
   "metadata": {},
   "outputs": [],
   "source": [
    "private val appBarConfiguration: AppBarConfiguration by lazy {\n",
    "    AppBarConfiguration(setOf(R.id.foodListFragment, R.id.favoriteFragment))\n",
    "}"
   ]
  },
  {
   "cell_type": "markdown",
   "id": "45783923-5e00-4640-afe6-6969186e391e",
   "metadata": {},
   "source": [
    "### **`Retrofit`**"
   ]
  },
  {
   "cell_type": "markdown",
   "id": "7903caa6-736b-4872-8681-7499733afb23",
   "metadata": {},
   "source": [
    "Zmapujmy dane za pomocą pluginu `JSONToKotlin`, w efekcie dostaniemy kilkadziesiąt pól w klasie `Meal` - wybierzmy kilka"
   ]
  },
  {
   "cell_type": "code",
   "execution_count": null,
   "id": "ac692a68-299f-49b0-8dde-fe01860bddf6",
   "metadata": {},
   "outputs": [],
   "source": [
    "data class MealResponse(\n",
    "    val meals: List<Meal>\n",
    ")\n",
    "\n",
    "data class Meal(\n",
    "    @PrimaryKey\n",
    "    val idMeal: String,\n",
    "    val strArea: String,\n",
    "    val strCategory: String,\n",
    "    val strInstructions: String,\n",
    "    val strMeal: String,\n",
    "    val strMealThumb: String,\n",
    "    val strYoutube: String\n",
    ")"
   ]
  },
  {
   "cell_type": "markdown",
   "id": "1276ee28-95a5-4f3d-a328-cb234f7a3b54",
   "metadata": {},
   "source": [
    "Dodajmy interfejs `FoodApi` z dwiema metodami\n",
    "- `getFood` - zwraca listę wszystkich potraw, jako `area` wybieramy Polskę\n",
    "- `getFoodById` - zwraca potrawę o zadanych `id`"
   ]
  },
  {
   "cell_type": "code",
   "execution_count": null,
   "id": "6212ac44-aba6-4adf-a3c6-a6be37ee7da9",
   "metadata": {},
   "outputs": [],
   "source": [
    "interface FoodApi {\n",
    "    @GET(\"api/json/v1/1/filter.php?a=Polish\")\n",
    "    suspend fun getFood() : Response<MealResponse>\n",
    "\n",
    "    @GET(\"api/json/v1/1/lookup.php?\")\n",
    "    suspend fun getFoodById(@Query(\"i\") id: String) : Response<MealResponse>\n",
    "}"
   ]
  },
  {
   "cell_type": "markdown",
   "id": "f9f7562d-e6e9-4473-8bf2-734997a2e145",
   "metadata": {},
   "source": [
    "Dodajmy plik `Constants` w którym będziemy przechowywać nasz `baseUrl`"
   ]
  },
  {
   "cell_type": "code",
   "execution_count": null,
   "id": "c09cb0d3-c02e-4479-b908-4050fa5d4f16",
   "metadata": {},
   "outputs": [],
   "source": [
    "const val baseUrl = \"https://www.themealdb.com/\""
   ]
  },
  {
   "cell_type": "markdown",
   "id": "664b5c37-e4cc-463e-83d5-e16f05ca1190",
   "metadata": {},
   "source": [
    "Następnie utwórzmy instancję klasy `Retrofit`, również wykorzystamy `LoggingInterceptor`"
   ]
  },
  {
   "cell_type": "code",
   "execution_count": null,
   "id": "06c0f4ad-43e8-41d9-b353-f1bfc8971288",
   "metadata": {},
   "outputs": [],
   "source": [
    "object RetrofitInstance {\n",
    "    val api: FoodApi by lazy {\n",
    "        val logging = HttpLoggingInterceptor()\n",
    "        logging.setLevel(HttpLoggingInterceptor.Level.BODY)\n",
    "        val client = OkHttpClient.Builder()\n",
    "            .addInterceptor(logging)\n",
    "            .build()\n",
    "        Retrofit.Builder()\n",
    "            .baseUrl(baseUrl)\n",
    "            .addConverterFactory(GsonConverterFactory.create())\n",
    "            .client(client)\n",
    "            .build()\n",
    "            .create(FoodApi::class.java)\n",
    "    }\n",
    "}"
   ]
  },
  {
   "cell_type": "markdown",
   "id": "d1021096-7c95-466a-a3e4-4504af4e37de",
   "metadata": {},
   "source": [
    "### **`ROOM`**"
   ]
  },
  {
   "cell_type": "markdown",
   "id": "539c1826-2c57-4325-997d-a0c81a468b25",
   "metadata": {},
   "source": [
    "Będziemy chcieli dać użytkownikowi zapisanie ulubionych potraw w bazie danych. Rozpocznijmy od utworzenia `@Entity`, przejdźmy do klasy `Meal` i dodajmy odpowiednią adnotację."
   ]
  },
  {
   "cell_type": "code",
   "execution_count": null,
   "id": "ee75746b-99a0-45da-b9a7-6d1e836606fd",
   "metadata": {},
   "outputs": [],
   "source": [
    "@Entity(tableName = \"meal\")\n",
    "data class Meal(\n",
    "    @PrimaryKey\n",
    "    val idMeal: String,\n",
    "    val strArea: String,\n",
    "    val strCategory: String,\n",
    "    val strInstructions: String,\n",
    "    val strMeal: String,\n",
    "    val strMealThumb: String,\n",
    "    val strYoutube: String\n",
    ")"
   ]
  },
  {
   "cell_type": "markdown",
   "id": "e51a0054-d09e-4454-ab20-d501b1d56a3a",
   "metadata": {},
   "source": [
    "Następnie utwórzmy interfejs `FoodDao` i dodajmy trzy metody pozwalające na wyciuągnięcie wszystkich elementów, dodanie i usunięcie elementu."
   ]
  },
  {
   "cell_type": "code",
   "execution_count": null,
   "id": "7ce9314f-9628-4248-8284-bcc82935cf39",
   "metadata": {},
   "outputs": [],
   "source": [
    "@Dao\n",
    "interface FoodDao {\n",
    "    @Insert(onConflict = REPLACE)\n",
    "    suspend fun insert(meal: Meal)\n",
    "\n",
    "    @Delete\n",
    "    suspend fun delete(meal: Meal)\n",
    "\n",
    "    @Query(\"SELECT * FROM meal\")\n",
    "    fun getAllMeals() : LiveData<List<Meal>>\n",
    "}"
   ]
  },
  {
   "cell_type": "markdown",
   "id": "d2ea09d8-00d3-4579-991f-84ce59821287",
   "metadata": {},
   "source": [
    "Zdefiniujmy również klasę reprezentującą bazę danych"
   ]
  },
  {
   "cell_type": "code",
   "execution_count": null,
   "id": "7ce7f0c2-dad0-42ff-b890-f7f2706e8714",
   "metadata": {},
   "outputs": [],
   "source": [
    "@Database(entities = [Meal::class], version = 1, exportSchema = false)\n",
    "abstract class MealDatabase : RoomDatabase() {\n",
    "    abstract fun foodDao(): FoodDao\n",
    "\n",
    "    companion object{\n",
    "        @Volatile private var INSTANCE: MealDatabase? = null\n",
    "\n",
    "        fun getDatabase(context: Context): MealDatabase {\n",
    "            return INSTANCE ?: synchronized(this){\n",
    "                val instance = Room.databaseBuilder(\n",
    "                    context.applicationContext,\n",
    "                    MealDatabase::class.java,\n",
    "                    \"meal_database\"\n",
    "                ).build().also { INSTANCE = it }\n",
    "                instance\n",
    "            }\n",
    "        }\n",
    "    }\n",
    "}"
   ]
  },
  {
   "cell_type": "markdown",
   "id": "1c724ac8-c0f2-4576-b943-274bc6a85b4d",
   "metadata": {},
   "source": [
    "### **Szkielet `MVVM`**"
   ]
  },
  {
   "cell_type": "markdown",
   "id": "2692f228-d6a2-460e-9f10-a1e1fc7580c4",
   "metadata": {},
   "source": [
    "Utwórzmy repozytorium z odpowiednimi metodami dostępowymi do naszego `api` oraz `ROOM`."
   ]
  },
  {
   "cell_type": "code",
   "execution_count": null,
   "id": "6c5bb0fe-1b9b-47d9-be0b-32553f0852e9",
   "metadata": {},
   "outputs": [],
   "source": [
    "class FoodRepository(private val foodDao: FoodDao) {\n",
    "    suspend fun getFood() = RetrofitInstance.api.getFood()\n",
    "    suspend fun getFoodById(id: String) = RetrofitInstance.api.getFoodById(id)\n",
    "\n",
    "    val readAllData: LiveData<List<Meal>> = foodDao.getAllMeals()\n",
    "    suspend fun insert(meal: Meal) = foodDao.insert(meal)\n",
    "    suspend fun delete(meal: Meal) = foodDao.delete(meal)\n",
    "}"
   ]
  },
  {
   "cell_type": "markdown",
   "id": "e34d3683-4b82-439d-9b8a-181b007dd81f",
   "metadata": {},
   "source": [
    "Kolejną klasą będzie nazsz `FoodViewModel` - w tej aplikacji będziemy posiadać jeden `ViewModel` współdzielony przez wszystkie fragmenty. Ponieważ metoda `getDatabase` wymaga podania `Context`, musimy go przekazać w konstruktorze - wykorzystamy `Application` (najszerszy kontekst)."
   ]
  },
  {
   "cell_type": "code",
   "execution_count": null,
   "id": "5d1cb5ab-b0e8-43c1-bd58-3c52c695ab70",
   "metadata": {},
   "outputs": [],
   "source": [
    "class FoodViewModel(application: Application) : AndroidViewModel(application) {"
   ]
  },
  {
   "cell_type": "markdown",
   "id": "72a108a5-5e41-4472-8525-a876de316e17",
   "metadata": {},
   "source": [
    "Dodajmy repozytorium oraz dwa `MutableLiveData` w których dbierzemy wynik zapytań. Tutaj również skorzystamy z klasy `Resource` która pozwala w łatwiejszy sposób zarządzać stanem."
   ]
  },
  {
   "cell_type": "code",
   "execution_count": null,
   "id": "62486aed-3b24-4dd4-aac7-c18775ecfa44",
   "metadata": {},
   "outputs": [],
   "source": [
    "private val repository: FoodRepository\n",
    "private val _mealList: MutableLiveData<Resource<MealResponse>> = MutableLiveData()\n",
    "private val _meal: MutableLiveData<Resource<MealResponse>> = MutableLiveData()"
   ]
  },
  {
   "cell_type": "code",
   "execution_count": null,
   "id": "9adb4ed5-c175-4c27-89b8-d0bceded02cc",
   "metadata": {},
   "outputs": [],
   "source": [
    "sealed class Resource<T> (\n",
    "    val data: T? = null,\n",
    "    val message: String? = null\n",
    "){\n",
    "    class Success<T>(data: T) : Resource<T>(data)\n",
    "    class Error<T>(message: String, data: T? = null) : Resource<T>(data, message)\n",
    "    class Loading<T> : Resource<T>()\n",
    "}"
   ]
  },
  {
   "cell_type": "markdown",
   "id": "8e047f17-2256-4558-9a9f-5f84e2d33b4e",
   "metadata": {},
   "source": [
    "Dodajmy publiczne wartości wspomagające, zwracające `LiveData`"
   ]
  },
  {
   "cell_type": "code",
   "execution_count": null,
   "id": "28f224dd-c24b-47e7-ba83-b103675cd387",
   "metadata": {},
   "outputs": [],
   "source": [
    "val mealList: LiveData<Resource<MealResponse>>\n",
    "    get() = _mealList\n",
    "\n",
    "val meal: LiveData<Resource<MealResponse>>\n",
    "    get() = _meal"
   ]
  },
  {
   "cell_type": "markdown",
   "id": "f77b2844-8c59-4bdd-b543-8726b97f7952",
   "metadata": {},
   "source": [
    "Ostatnim polem jest `readAllData`, czyli `LiveData` przechowujący odpowiedź z lokalnej bazy"
   ]
  },
  {
   "cell_type": "code",
   "execution_count": null,
   "id": "09d6421c-72e4-4d54-acf3-600aeaca89e6",
   "metadata": {},
   "outputs": [],
   "source": [
    "val readAllData: LiveData<List<Meal>>"
   ]
  },
  {
   "cell_type": "markdown",
   "id": "581f8073-ef0d-4e05-9b30-8077a8f551eb",
   "metadata": {},
   "source": [
    "W bloku `init` inicjujemy `foodDao` repozytorium i `readAllData`"
   ]
  },
  {
   "cell_type": "code",
   "execution_count": null,
   "id": "66775f53-5fb4-4b13-a78f-464b38af704a",
   "metadata": {},
   "outputs": [],
   "source": [
    "init {\n",
    "    val foodDao = MealDatabase.getDatabase(application).foodDao()\n",
    "    repository = FoodRepository(foodDao)\n",
    "    readAllData = repository.readAllData\n",
    "}"
   ]
  },
  {
   "cell_type": "markdown",
   "id": "7ca5547b-9cf4-484b-9d57-ce0024c1c99c",
   "metadata": {},
   "source": [
    "Dodajmy funkcję pomocniczą `handleMealResponse`"
   ]
  },
  {
   "cell_type": "code",
   "execution_count": null,
   "id": "b90a9103-7d5c-4560-8341-5ef9cc9071a3",
   "metadata": {},
   "outputs": [],
   "source": [
    "private fun handleMealResponse(response: Response<MealResponse>)\n",
    "        : Resource<MealResponse> {\n",
    "    if (response.isSuccessful)\n",
    "        response.body()?.let { return Resource.Success(it) }\n",
    "    return Resource.Error(response.message())\n",
    "}"
   ]
  },
  {
   "cell_type": "markdown",
   "id": "e0bb9b5b-d9df-4ebe-a3b5-9a59ffe65fb9",
   "metadata": {},
   "source": [
    "Nastrępnie zdefiniujmy funkcje zwracające listę potraw oraz potrawę po `id`"
   ]
  },
  {
   "cell_type": "code",
   "execution_count": null,
   "id": "040da3e7-f938-4d19-a9aa-cfa1a89c3462",
   "metadata": {},
   "outputs": [],
   "source": [
    "fun getMealList() = viewModelScope.launch {\n",
    "    _mealList.postValue(Resource.Loading())\n",
    "    val response = repository.getFood()\n",
    "    _mealList.postValue(handleMealResponse(response))\n",
    "}"
   ]
  },
  {
   "cell_type": "code",
   "execution_count": null,
   "id": "a11babb7-1f84-4bd8-9a97-d9385848d503",
   "metadata": {},
   "outputs": [],
   "source": [
    "fun getMealById(id: String) = viewModelScope.launch {\n",
    "    _meal.postValue(Resource.Loading())\n",
    "    val response = repository.getFoodById(id)\n",
    "    _meal.postValue(handleMealResponse(response))\n",
    "}"
   ]
  },
  {
   "cell_type": "markdown",
   "id": "dcdb62e7-bce9-4981-9f13-de737a25425d",
   "metadata": {},
   "source": [
    "Ostatnim elementem będą funkcję dodania u usunięcia potrawy z lokalnej bazy"
   ]
  },
  {
   "cell_type": "code",
   "execution_count": null,
   "id": "b3eb7fc0-836a-451e-833d-40ce11d17ac9",
   "metadata": {},
   "outputs": [],
   "source": [
    "fun insert(meal: Meal) = viewModelScope.launch {\n",
    "    repository.insert(meal)\n",
    "}\n",
    "\n",
    "fun delete(meal: Meal) = viewModelScope.launch {\n",
    "    repository.delete(meal)\n",
    "}"
   ]
  },
  {
   "cell_type": "markdown",
   "id": "28e28827-d3eb-403e-8e12-388e8e209494",
   "metadata": {},
   "source": [
    "### **`RecyclerView`**"
   ]
  },
  {
   "cell_type": "markdown",
   "id": "856150e7-278c-41de-82ce-2ad05ea2d723",
   "metadata": {},
   "source": [
    "Wykorzystamy `RecyclerView` dwa razy - dla listy wszystkich potraw, oraz listy ulubionych potraw. Zdefiniujmy więc layout pojedynczego elementu"
   ]
  },
  {
   "cell_type": "code",
   "execution_count": null,
   "id": "9904c594-f3ca-4947-b502-af12feb20431",
   "metadata": {},
   "outputs": [],
   "source": [
    "<LinearLayout xmlns:android=\"http://schemas.android.com/apk/res/android\"\n",
    "    android:layout_width=\"match_parent\"\n",
    "    android:layout_height=\"wrap_content\"\n",
    "    android:orientation=\"vertical\"\n",
    "    android:layout_marginTop=\"16dp\">\n",
    "\n",
    "    <TextView\n",
    "        android:id=\"@+id/name\"\n",
    "        android:layout_width=\"wrap_content\"\n",
    "        android:layout_height=\"wrap_content\"\n",
    "        android:layout_gravity=\"center\"\n",
    "        android:text=\"nazwa\"\n",
    "        android:textSize=\"24sp\"\n",
    "        android:layout_margin=\"8dp\"/>\n",
    "\n",
    "    <ImageView\n",
    "        android:id=\"@+id/image\"\n",
    "        android:layout_width=\"match_parent\"\n",
    "        android:layout_gravity=\"center\"\n",
    "        android:layout_height=\"200dp\"\n",
    "        android:scaleType=\"centerCrop\"\n",
    "        android:layout_marginStart=\"25dp\"\n",
    "        android:layout_marginEnd=\"25dp\"\n",
    "        android:contentDescription=\"@string/food_image\" />\n",
    "\n",
    "</LinearLayout>"
   ]
  },
  {
   "cell_type": "markdown",
   "id": "10c8cfca-128d-4560-a37d-a6c84eac1704",
   "metadata": {},
   "source": [
    "Dodajmy `Comparator`, który (podobnie jak layout) będzie dla obu wspólny"
   ]
  },
  {
   "cell_type": "code",
   "execution_count": null,
   "id": "e0deb0b5-226b-4950-afcf-77eb432fd6d1",
   "metadata": {},
   "outputs": [],
   "source": [
    "class FoodComparator : DiffUtil.ItemCallback<Meal>() {\n",
    "    override fun areItemsTheSame(oldItem: Meal, newItem: Meal): Boolean {\n",
    "        return newItem.strMeal == oldItem.strMeal\n",
    "    }\n",
    "\n",
    "    override fun areContentsTheSame(oldItem: Meal, newItem: Meal): Boolean {\n",
    "        return newItem.idMeal == oldItem.idMeal\n",
    "    }\n",
    "}"
   ]
  },
  {
   "cell_type": "markdown",
   "id": "b50b62ac-304e-47e7-be4b-2a472a8352ff",
   "metadata": {},
   "source": [
    "Następnie utwórzmy dwa `ViewHolder`"
   ]
  },
  {
   "cell_type": "code",
   "execution_count": null,
   "id": "5af798df-5d6d-46b3-b056-40d0167983f1",
   "metadata": {},
   "outputs": [],
   "source": [
    "class FoodViewHolder(private val binding: ListItemRvBinding)\n",
    "    : RecyclerView.ViewHolder(binding.root){\n",
    "        fun bind(item: Meal){\n",
    "            binding.name.text = item.strMeal\n",
    "            Glide.with(binding.root)\n",
    "                .load(item.strMealThumb)\n",
    "                .into(binding.image)\n",
    "            binding.root.setOnClickListener {\n",
    "                val action: NavDirections = FoodListFragmentDirections\n",
    "                    .actionFoodListFragmentToFoodDetailFragment(\n",
    "                        item.idMeal\n",
    "                    )\n",
    "                Navigation.findNavController(binding.root).navigate(action)\n",
    "            }\n",
    "        }\n",
    "}"
   ]
  },
  {
   "cell_type": "code",
   "execution_count": null,
   "id": "832655d4-cf45-4c08-b7ea-35f31b164f75",
   "metadata": {},
   "outputs": [],
   "source": [
    "class FavoriteViewHolder(private val binding: ListItemRvBinding)\n",
    "    : RecyclerView.ViewHolder(binding.root){\n",
    "        fun bind(item: Meal){\n",
    "            binding.name.text = item.strMeal\n",
    "            Glide.with(binding.root)\n",
    "                .load(item.strMealThumb)\n",
    "                .into(binding.image)\n",
    "            binding.root.setOnClickListener {\n",
    "                val action: NavDirections = FavoriteFragmentDirections\n",
    "                    .actionFavoriteFragmentToFoodDetailFragment(\n",
    "                        item.idMeal\n",
    "                    )\n",
    "                Navigation.findNavController(binding.root).navigate(action)\n",
    "            }\n",
    "        }\n",
    "}"
   ]
  },
  {
   "cell_type": "markdown",
   "id": "6848f5f9-c828-4553-be23-fd383464d80b",
   "metadata": {},
   "source": [
    "Wykorzystujemy `ImageView`, grafikę którą pobieramy wstawiamy za pomocą biblioteki `Glide`. Dodajmy również dwa adaptery."
   ]
  },
  {
   "cell_type": "code",
   "execution_count": null,
   "id": "a6c6a253-bf99-4b55-9fad-fd04791ae6b0",
   "metadata": {},
   "outputs": [],
   "source": [
    "class FoodAdapter(itemComparator: FoodComparator)\n",
    "    : ListAdapter<Meal, FoodViewHolder>(itemComparator) {\n",
    "    override fun onCreateViewHolder(parent: ViewGroup, viewType: Int): FoodViewHolder {\n",
    "        return FoodViewHolder(\n",
    "            ListItemRvBinding.inflate(\n",
    "                LayoutInflater.from(parent.context), parent, false\n",
    "            )\n",
    "        )\n",
    "    }\n",
    "\n",
    "    override fun onBindViewHolder(holder: FoodViewHolder, position: Int) {\n",
    "        val item = getItem(position)\n",
    "        holder.bind(item)\n",
    "    }\n",
    "}"
   ]
  },
  {
   "cell_type": "code",
   "execution_count": null,
   "id": "54ebc77c-e6f9-4c97-9b8a-8a79639aa48e",
   "metadata": {},
   "outputs": [],
   "source": [
    "class FavoriteAdapter(itemComparator: FoodComparator) \n",
    "    : ListAdapter<Meal, FavoriteViewHolder>(itemComparator) {\n",
    "    override fun onCreateViewHolder(parent: ViewGroup, viewType: Int): FavoriteViewHolder {\n",
    "        return FavoriteViewHolder(\n",
    "            ListItemRvBinding.inflate(\n",
    "                LayoutInflater.from(parent.context), parent, false\n",
    "            )\n",
    "        )\n",
    "    }\n",
    "\n",
    "    override fun onBindViewHolder(holder: FavoriteViewHolder, position: Int) {\n",
    "        val item = getItem(position)\n",
    "        holder.bind(item)\n",
    "    }\n",
    "\n",
    "    fun getItemAt(position: Int): Meal{\n",
    "        return getItem(position)\n",
    "    }\n",
    "}"
   ]
  },
  {
   "cell_type": "markdown",
   "id": "5f074df3-6cb6-4b84-a756-80148e088244",
   "metadata": {},
   "source": [
    "### **`FoodListFragment`**"
   ]
  },
  {
   "cell_type": "markdown",
   "id": "363daf30-6430-4dee-8f7f-144f5ab315f8",
   "metadata": {},
   "source": [
    "Rozpocznijmy od layoutu"
   ]
  },
  {
   "cell_type": "code",
   "execution_count": null,
   "id": "78f8d775-3b59-498f-87a5-106d52eeaf36",
   "metadata": {},
   "outputs": [],
   "source": [
    "<?xml version=\"1.0\" encoding=\"utf-8\"?>\n",
    "<androidx.constraintlayout.widget.ConstraintLayout \n",
    "xmlns:android=\"http://schemas.android.com/apk/res/android\"\n",
    "    xmlns:app=\"http://schemas.android.com/apk/res-auto\"\n",
    "    xmlns:tools=\"http://schemas.android.com/tools\"\n",
    "    android:layout_width=\"match_parent\"\n",
    "    android:layout_height=\"match_parent\">\n",
    "\n",
    "    <androidx.recyclerview.widget.RecyclerView\n",
    "        android:id=\"@+id/foodRV\"\n",
    "        android:layout_width=\"match_parent\"\n",
    "        android:layout_height=\"0dp\"\n",
    "        android:layout_margin=\"8dp\"\n",
    "        app:layout_constraintEnd_toEndOf=\"parent\"\n",
    "        app:layout_constraintStart_toStartOf=\"parent\"\n",
    "        app:layout_constraintTop_toTopOf=\"parent\" />\n",
    "\n",
    "    <ProgressBar\n",
    "        android:id=\"@+id/progressBar\"\n",
    "        android:layout_width=\"wrap_content\"\n",
    "        android:layout_height=\"wrap_content\"\n",
    "        android:layout_gravity=\"center\"\n",
    "        android:layout_marginTop=\"36dp\"\n",
    "        android:background=\"@android:color/transparent\"\n",
    "        android:visibility=\"invisible\"\n",
    "        app:layout_constraintEnd_toEndOf=\"parent\"\n",
    "        app:layout_constraintStart_toStartOf=\"parent\"\n",
    "        app:layout_constraintTop_toTopOf=\"parent\" />\n",
    "\n",
    "</androidx.constraintlayout.widget.ConstraintLayout>"
   ]
  },
  {
   "cell_type": "markdown",
   "id": "40a3e864-dbcb-43ff-ba08-f14d30d9e806",
   "metadata": {},
   "source": [
    "Utworzmy `ViewModel` - tym razem wykorzystamy `activityViewModel`."
   ]
  },
  {
   "cell_type": "code",
   "execution_count": null,
   "id": "e5b1210a-0da2-43cc-adc1-d884f6f22d19",
   "metadata": {},
   "outputs": [],
   "source": [
    "private val foodViewModel: FoodViewModel by activityViewModels()"
   ]
  },
  {
   "cell_type": "markdown",
   "id": "d7da43eb-7064-4766-991c-e934ac8e58a5",
   "metadata": {},
   "source": [
    "Dodajmy funkcje pomocnicze"
   ]
  },
  {
   "cell_type": "code",
   "execution_count": null,
   "id": "3cc575ef-1aef-4880-a132-48ae2260847c",
   "metadata": {},
   "outputs": [],
   "source": [
    "private fun hideProgressBar(){\n",
    "    binding.progressBar.visibility = View.INVISIBLE\n",
    "}\n",
    "\n",
    "private fun showProgressBar(){\n",
    "    binding.progressBar.visibility = View.VISIBLE\n",
    "}\n",
    "\n",
    "private fun setupRecyclerView(foodAdapter: FoodAdapter) {\n",
    "    binding.foodRV.apply {\n",
    "        adapter = foodAdapter\n",
    "        layoutManager = LinearLayoutManager(requireContext())\n",
    "    }\n",
    "}"
   ]
  },
  {
   "cell_type": "markdown",
   "id": "16226336-f516-41f6-95e6-143de43249a3",
   "metadata": {},
   "source": [
    "Ostatnią funkcją będzie `observeFood`"
   ]
  },
  {
   "cell_type": "code",
   "execution_count": null,
   "id": "a88bc430-edbb-47df-8a18-a9aa520d450e",
   "metadata": {},
   "outputs": [],
   "source": [
    "private fun observeFood(foodAdapter: FoodAdapter) {\n",
    "    foodViewModel.mealList.observe(viewLifecycleOwner) { response ->\n",
    "        when (response) {\n",
    "            is Resource.Success -> {\n",
    "                hideProgressBar()\n",
    "                response.data?.let { res ->\n",
    "                    foodAdapter.submitList(res.meals)\n",
    "                }\n",
    "            }\n",
    "            is Resource.Error -> {\n",
    "                hideProgressBar()\n",
    "                response.message?.let { Log.e(TAG, \"Error occurred: $it\") }\n",
    "            }\n",
    "            is Resource.Loading -> showProgressBar()\n",
    "        }\n",
    "    }\n",
    "}"
   ]
  },
  {
   "cell_type": "markdown",
   "id": "fd179153-36c8-41e7-bb6c-4c184c1d1cac",
   "metadata": {},
   "source": [
    "W `onViewCreated` wywołuję wcześniej zdefiniowane funkcje"
   ]
  },
  {
   "cell_type": "code",
   "execution_count": null,
   "id": "4dc6f126-f24a-44d1-bd65-aadbfe7b05e7",
   "metadata": {},
   "outputs": [],
   "source": [
    "override fun onViewCreated(view: View, savedInstanceState: Bundle?) {\n",
    "    super.onViewCreated(view, savedInstanceState)\n",
    "\n",
    "    foodViewModel.getMealList()\n",
    "\n",
    "    val adapter = FoodAdapter(FoodComparator())\n",
    "    setupRecyclerView(adapter)\n",
    "\n",
    "    observeFood(adapter)\n",
    "}"
   ]
  },
  {
   "cell_type": "markdown",
   "id": "a8a8b374-14b3-411a-ab60-28a1f2c1148d",
   "metadata": {},
   "source": [
    "### **`FoodDetailFragment`**"
   ]
  },
  {
   "cell_type": "markdown",
   "id": "10ec568c-dda5-4102-8f6c-e5bbdf2d5019",
   "metadata": {},
   "source": [
    "Rozpocznijmy od layoutu"
   ]
  },
  {
   "cell_type": "code",
   "execution_count": null,
   "id": "02775103-e6c9-4c1b-a0eb-0acb393f7db3",
   "metadata": {},
   "outputs": [],
   "source": [
    "<?xml version=\"1.0\" encoding=\"utf-8\"?>\n",
    "<ScrollView xmlns:android=\"http://schemas.android.com/apk/res/android\"\n",
    "    xmlns:tools=\"http://schemas.android.com/tools\"\n",
    "    android:layout_width=\"match_parent\"\n",
    "    android:layout_height=\"match_parent\">\n",
    "\n",
    "    <RelativeLayout\n",
    "        android:layout_width=\"match_parent\"\n",
    "        android:layout_height=\"wrap_content\"\n",
    "        tools:context=\".DetailActivity\">\n",
    "\n",
    "        <ProgressBar\n",
    "            android:id=\"@+id/progressBar\"\n",
    "            android:layout_width=\"wrap_content\"\n",
    "            android:layout_height=\"wrap_content\"\n",
    "            android:layout_alignParentStart=\"true\"\n",
    "            android:layout_alignParentTop=\"true\"\n",
    "            android:layout_alignParentEnd=\"true\"\n",
    "            android:layout_gravity=\"center\"\n",
    "            android:layout_marginStart=\"181dp\"\n",
    "            android:layout_marginTop=\"35dp\"\n",
    "            android:layout_marginEnd=\"182dp\"\n",
    "            android:background=\"@android:color/transparent\"\n",
    "            android:visibility=\"invisible\" />\n",
    "\n",
    "        <ImageView\n",
    "            android:id=\"@+id/foodImage\"\n",
    "            android:layout_width=\"match_parent\"\n",
    "            android:layout_height=\"wrap_content\"\n",
    "            android:adjustViewBounds=\"true\"\n",
    "            android:contentDescription=\"@string/food_image\" />\n",
    "\n",
    "        <TextView\n",
    "            android:id=\"@+id/title\"\n",
    "            android:layout_width=\"wrap_content\"\n",
    "            android:layout_height=\"wrap_content\"\n",
    "            android:layout_alignBottom=\"@id/foodImage\"\n",
    "            android:padding=\"8dp\"\n",
    "            android:text=\"@string/title\"\n",
    "            android:theme=\"@style/ThemeOverlay.AppCompat.Dark\" />\n",
    "\n",
    "        <TextView\n",
    "            android:id=\"@+id/category\"\n",
    "            android:layout_width=\"wrap_content\"\n",
    "            android:layout_height=\"wrap_content\"\n",
    "            android:layout_below=\"@id/foodImage\"\n",
    "            android:padding=\"8dp\"\n",
    "            android:text=\"@string/category\"\n",
    "            android:textColor=\"?android:textColorSecondary\" />\n",
    "\n",
    "        <TextView\n",
    "            android:id=\"@+id/instructions\"\n",
    "            android:layout_width=\"wrap_content\"\n",
    "            android:layout_height=\"wrap_content\"\n",
    "            android:layout_below=\"@id/category\"\n",
    "            android:padding=\"8dp\"\n",
    "            android:text=\"@string/instructions\" />\n",
    "\n",
    "        <com.google.android.material.floatingactionbutton.FloatingActionButton\n",
    "            android:id=\"@+id/favoriteButton\"\n",
    "            android:layout_width=\"wrap_content\"\n",
    "            android:layout_height=\"wrap_content\"\n",
    "            android:layout_alignBottom=\"@id/foodImage\"\n",
    "            android:layout_alignParentEnd=\"true\"\n",
    "            android:layout_marginEnd=\"8dp\"\n",
    "            android:layout_marginTop=\"16dp\"\n",
    "            android:contentDescription=\"@string/favorite_button\"\n",
    "            android:src=\"@drawable/ic_favorite_border\" />\n",
    "    </RelativeLayout>\n",
    "</ScrollView>"
   ]
  },
  {
   "cell_type": "markdown",
   "id": "5cea98d2-0b75-4ae2-b2a3-b4ed9f5b7169",
   "metadata": {},
   "source": [
    "Utwórzmy `ViewModel` i odbierzmy argument"
   ]
  },
  {
   "cell_type": "code",
   "execution_count": null,
   "id": "c1cd0a48-07cf-4aaa-a4d7-d3ae34f19205",
   "metadata": {},
   "outputs": [],
   "source": [
    "private val foodViewModel: FoodViewModel by activityViewModels()\n",
    "\n",
    "private val id: String? by lazy { requireArguments().getString(\"id\") }"
   ]
  },
  {
   "cell_type": "markdown",
   "id": "4d60cbf2-5ab8-4dfa-93a2-26b6e3e12023",
   "metadata": {},
   "source": [
    "W metodzie `onCreate` wywołajmy `getMealById` "
   ]
  },
  {
   "cell_type": "code",
   "execution_count": null,
   "id": "7d0fca95-b7a6-44b7-8be1-5efcba540da7",
   "metadata": {},
   "outputs": [],
   "source": [
    "override fun onCreateView(\n",
    "    inflater: LayoutInflater, container: ViewGroup?,\n",
    "    savedInstanceState: Bundle?\n",
    "): View {\n",
    "    binding = FragmentFoodDetailBinding.inflate(layoutInflater, container, false)\n",
    "    foodViewModel.getMealById(id!!)\n",
    "    return binding.root\n",
    "}"
   ]
  },
  {
   "cell_type": "markdown",
   "id": "76def1dd-b20c-45dc-ab3b-2cd523705dbe",
   "metadata": {},
   "source": [
    "Dodajmy funkcje pomocnicze"
   ]
  },
  {
   "cell_type": "code",
   "execution_count": null,
   "id": "5091d3a0-ab0b-48c1-83e9-bd079fcde371",
   "metadata": {},
   "outputs": [],
   "source": [
    "private fun inflate(item: Meal) {\n",
    "    Glide.with(this)\n",
    "        .load(item.strMealThumb)\n",
    "        .into(binding.foodImage)\n",
    "    binding.category.text = item.strCategory\n",
    "    binding.title.text = item.strMeal\n",
    "    binding.instructions.text = item.strInstructions\n",
    "}\n",
    "\n",
    "private fun hideProgressBar(){\n",
    "    binding.progressBar.visibility = View.INVISIBLE\n",
    "}\n",
    "\n",
    "private fun showProgressBar(){\n",
    "    binding.progressBar.visibility = View.VISIBLE\n",
    "}"
   ]
  },
  {
   "cell_type": "markdown",
   "id": "5859463d-046b-4645-863a-6a6a568b0af4",
   "metadata": {},
   "source": [
    "Dodajmy funkcję `observeMeal`"
   ]
  },
  {
   "cell_type": "code",
   "execution_count": null,
   "id": "646d1b1a-6970-401e-a53b-4aa75a089661",
   "metadata": {},
   "outputs": [],
   "source": [
    "private fun observeMeal() {\n",
    "    foodViewModel.meal.observe(viewLifecycleOwner) { response ->\n",
    "        when (response) {\n",
    "            is Resource.Success -> {\n",
    "                hideProgressBar()\n",
    "                response.data?.let { res ->\n",
    "                    val item = res.meals.first()\n",
    "                    inflate(item)\n",
    "                    binding.favoriteButton.setOnClickListener {\n",
    "                        foodViewModel.insert(item)\n",
    "                    }\n",
    "                }\n",
    "            }\n",
    "            is Resource.Error -> {\n",
    "                hideProgressBar()\n",
    "                response.message?.let { Log.e(TAG, \"Error occurred: $it\") }\n",
    "            }\n",
    "            is Resource.Loading -> showProgressBar()\n",
    "        }\n",
    "    }\n",
    "}"
   ]
  },
  {
   "cell_type": "markdown",
   "id": "b033c17b-af64-4df4-8f59-a8d5bcb3a5c8",
   "metadata": {},
   "source": [
    "Ponieważ dostaję odpowiedź jako listę, tutaj będzie tob lista jednoelementowa, więc wykorzystuję funkcję `first`"
   ]
  },
  {
   "cell_type": "code",
   "execution_count": null,
   "id": "1314bc33-233f-4e8a-a8c4-e126219ee8bb",
   "metadata": {},
   "outputs": [],
   "source": [
    "val item = res.meals.first()"
   ]
  },
  {
   "cell_type": "markdown",
   "id": "297b4f6b-7d66-4e98-9e2a-94d8afe62304",
   "metadata": {},
   "source": [
    "Następnie wywołuję funkcję `inflate` zdefiniowaną wcześniej"
   ]
  },
  {
   "cell_type": "code",
   "execution_count": null,
   "id": "be466d30-5302-473a-a256-e1428666825f",
   "metadata": {},
   "outputs": [],
   "source": [
    "inflate(item)"
   ]
  },
  {
   "cell_type": "markdown",
   "id": "20c4a755-ea3d-4728-88a5-6754f035fee1",
   "metadata": {},
   "source": [
    "Dodaję również obsługę `onClick` przycisku dodającego potrawę do ulubionych"
   ]
  },
  {
   "cell_type": "code",
   "execution_count": null,
   "id": "d7081d70-fbac-433c-a615-00c2fa5183c2",
   "metadata": {},
   "outputs": [],
   "source": [
    "binding.favoriteButton.setOnClickListener {\n",
    "    foodViewModel.insert(item)\n",
    "}"
   ]
  },
  {
   "cell_type": "markdown",
   "id": "3c5cffc3-cafe-4c7a-aae8-1808c3698b17",
   "metadata": {},
   "source": [
    "### **`FavoriteFragment`**"
   ]
  },
  {
   "cell_type": "markdown",
   "id": "61067ade-1767-4aa5-b4ca-79fa605d5029",
   "metadata": {},
   "source": [
    "Rozpocznijmy od layoutu"
   ]
  },
  {
   "cell_type": "code",
   "execution_count": null,
   "id": "0e13aa54-6cfd-4623-8a72-7bcae429f0b0",
   "metadata": {},
   "outputs": [],
   "source": [
    "<?xml version=\"1.0\" encoding=\"utf-8\"?>\n",
    "<androidx.constraintlayout.widget.ConstraintLayout \n",
    "xmlns:android=\"http://schemas.android.com/apk/res/android\"\n",
    "    xmlns:app=\"http://schemas.android.com/apk/res-auto\"\n",
    "    xmlns:tools=\"http://schemas.android.com/tools\"\n",
    "    android:layout_width=\"match_parent\"\n",
    "    android:layout_height=\"match_parent\">\n",
    "\n",
    "    <androidx.recyclerview.widget.RecyclerView\n",
    "        android:id=\"@+id/favoriteRV\"\n",
    "        android:layout_width=\"match_parent\"\n",
    "        android:layout_height=\"0dp\"\n",
    "        android:layout_margin=\"8dp\"\n",
    "        app:layout_constraintEnd_toEndOf=\"parent\"\n",
    "        app:layout_constraintStart_toStartOf=\"parent\"\n",
    "        app:layout_constraintTop_toTopOf=\"parent\" />\n",
    "\n",
    "</androidx.constraintlayout.widget.ConstraintLayout>"
   ]
  },
  {
   "cell_type": "markdown",
   "id": "d3977d16-4e13-473c-8372-1166b8cd25f4",
   "metadata": {},
   "source": [
    "Dodajmy `ViewModel`"
   ]
  },
  {
   "cell_type": "code",
   "execution_count": null,
   "id": "adc42067-31e5-4b4a-801d-6d7d88b133b5",
   "metadata": {},
   "outputs": [],
   "source": [
    "private val foodViewModel: FoodViewModel by activityViewModels()"
   ]
  },
  {
   "cell_type": "markdown",
   "id": "9d065b79-6ad7-4347-a9e0-5a5a3a525634",
   "metadata": {},
   "source": [
    "Dodajmy dwie funkcje pomocnicze"
   ]
  },
  {
   "cell_type": "code",
   "execution_count": null,
   "id": "24982557-814f-4206-b786-3d9c53a04b16",
   "metadata": {},
   "outputs": [],
   "source": [
    "private fun setupRecyclerView(favoriteAdapter: FavoriteAdapter) {\n",
    "    binding.favoriteRV.apply {\n",
    "        adapter = favoriteAdapter\n",
    "        layoutManager = LinearLayoutManager(requireContext())\n",
    "    }\n",
    "}\n",
    "\n",
    "private fun swipeToDelete(adapter: FavoriteAdapter) {\n",
    "    ItemTouchHelper(object : ItemTouchHelper.SimpleCallback(\n",
    "        0,\n",
    "        ItemTouchHelper.RIGHT or ItemTouchHelper.LEFT\n",
    "    ) {\n",
    "        override fun onMove(\n",
    "            recyclerView: RecyclerView,\n",
    "            viewHolder: RecyclerView.ViewHolder,\n",
    "            target: RecyclerView.ViewHolder\n",
    "        ): Boolean {\n",
    "            return false\n",
    "        }\n",
    "\n",
    "        override fun onSwiped(viewHolder: RecyclerView.ViewHolder, direction: Int) {\n",
    "            foodViewModel.delete(adapter.getItemAt(viewHolder.adapterPosition))\n",
    "        }\n",
    "    }).attachToRecyclerView(binding.favoriteRV)\n",
    "}"
   ]
  },
  {
   "cell_type": "markdown",
   "id": "94777eeb-98fa-403b-9c2c-6793531dfb96",
   "metadata": {},
   "source": [
    "W metodzie `onViewCreated` wywołujemy wcześniej zdefiniowane metody"
   ]
  },
  {
   "cell_type": "code",
   "execution_count": null,
   "id": "ca76a502-0ba7-4c98-a62b-09018c436e3f",
   "metadata": {},
   "outputs": [],
   "source": [
    "override fun onViewCreated(view: View, savedInstanceState: Bundle?) {\n",
    "    super.onViewCreated(view, savedInstanceState)\n",
    "\n",
    "    val adapter = FavoriteAdapter(FoodComparator())\n",
    "    setupRecyclerView(adapter)\n",
    "    foodViewModel.readAllData.observe(viewLifecycleOwner, adapter::submitList)\n",
    "    swipeToDelete(adapter)\n",
    "}"
   ]
  },
  {
   "cell_type": "markdown",
   "id": "2e959fe8-9dfc-4880-95fb-0b8fcd5964bc",
   "metadata": {},
   "source": [
    "Możemy przetestować aplikację"
   ]
  },
  {
   "cell_type": "markdown",
   "id": "63e21d8d-fd02-4c46-9d4f-f2954b381a18",
   "metadata": {},
   "source": [
    "<table><tr><td><img src=\"https://media0.giphy.com/media/lpzoI5Wm7JrPHlXdpd/giphy.gif\" width=\"150\" /></td><td><img src=\"https://media2.giphy.com/media/5Zd75RkXZeDJNb46bF/giphy.gif\" width=\"150\" /></td></tr></table>"
   ]
  },
  {
   "cell_type": "code",
   "execution_count": null,
   "id": "afeeedb3-0e56-4ff4-b371-98441cc82712",
   "metadata": {},
   "outputs": [],
   "source": []
  }
 ],
 "metadata": {
  "kernelspec": {
   "display_name": "Kotlin",
   "language": "kotlin",
   "name": "kotlin"
  },
  "language_info": {
   "codemirror_mode": "text/x-kotlin",
   "file_extension": ".kt",
   "mimetype": "text/x-kotlin",
   "name": "kotlin",
   "nbconvert_exporter": "",
   "pygments_lexer": "kotlin",
   "version": "1.6.20-dev-6372"
  }
 },
 "nbformat": 4,
 "nbformat_minor": 5
}
