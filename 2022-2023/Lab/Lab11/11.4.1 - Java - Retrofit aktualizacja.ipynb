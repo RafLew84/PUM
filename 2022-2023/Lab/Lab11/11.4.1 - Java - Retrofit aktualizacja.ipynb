{
 "cells": [
  {
   "cell_type": "markdown",
   "id": "4dbfaee8-eb47-4fa0-9b29-6779e633bb59",
   "metadata": {},
   "source": [
    "## 11.4 Retrofit - aktualizacja i usuwanie danych"
   ]
  },
  {
   "cell_type": "markdown",
   "id": "1d382947-c28b-4fc7-b925-0f07e3c3af4d",
   "metadata": {},
   "source": [
    "### **@PUT, @PATCH**"
   ]
  },
  {
   "cell_type": "code",
   "execution_count": null,
   "id": "722fceda-df5d-4948-8a01-d1441baa920b",
   "metadata": {},
   "outputs": [],
   "source": [
    "@PUT(\"posts/{id}\")\n",
    "Call<Post> putPost(@Path(\"id\") int postId, @Body Post post);\n",
    "\n",
    "@PATCH(\"posts/{id}\")\n",
    "Call<Post> patchPost(@Path(\"id\") int postId, @Body Post post);"
   ]
  },
  {
   "cell_type": "markdown",
   "id": "3bdf96e9-c394-4e39-92f6-414545b7ac05",
   "metadata": {},
   "source": [
    "Jeżeli chcemy zaktualizować dane możemy wykorzystać dwie adnotacje\n",
    "- `@PUT` - zastępuje **cały rekord** obecny na serwerze przez rekord przesłany\n",
    "- `@PATCH` - zastępuje **pola** które prześlemy"
   ]
  },
  {
   "cell_type": "markdown",
   "id": "51ec6ead-8d32-47f1-bce3-18144068e4d4",
   "metadata": {},
   "source": [
    "Przykładowo, wykonując metodę `putPost`"
   ]
  },
  {
   "cell_type": "code",
   "execution_count": null,
   "id": "a161fbcd-9011-4b3b-a7dd-7b1094a3780e",
   "metadata": {},
   "outputs": [],
   "source": [
    "service.putPost(101, new Post(1, null, \"content\"));"
   ]
  },
  {
   "cell_type": "markdown",
   "id": "498472f4-88ff-4541-826c-b01f52ddff31",
   "metadata": {},
   "source": [
    "post o identyfikatorze 101 zostanie zastąpiony przesłanym postem - tytuł będzie miał wartość `null`"
   ]
  },
  {
   "cell_type": "code",
   "execution_count": null,
   "id": "c4fbcbb6-c30d-4e5e-9a01-3a9cc38c750a",
   "metadata": {},
   "outputs": [],
   "source": [
    "service.patchPost(101, new Post(1, null, \"content\"));"
   ]
  },
  {
   "cell_type": "markdown",
   "id": "a9c90e8f-6a65-40f5-b6bf-4769311923ec",
   "metadata": {},
   "source": [
    "Jeżeli wykonamy metodę `patchPost` - tylko pola przesłane (`userId` oraz `content`) dla postu o `id` 101 zostaną zaktualizowane, tytuł pozostanie bez zmian"
   ]
  },
  {
   "cell_type": "markdown",
   "id": "056e01aa-5bf6-476c-acfa-f8f8a234cdd2",
   "metadata": {},
   "source": [
    "### **@DELETE**"
   ]
  },
  {
   "cell_type": "markdown",
   "id": "bbb92ee8-e92b-422a-bad1-387f0d4bf253",
   "metadata": {},
   "source": [
    "Usuwanie ma składnie którą już znamy, jedyną różnicą jest zastosowanie adnotacji `@DELETE` - tutaj metoda musi posiadać typ zwrotnu `Call<Void>`, ponieważ w testowym api dostaniemy zwrotny obiekt bez części `body`"
   ]
  },
  {
   "cell_type": "code",
   "execution_count": null,
   "id": "f4d48b4e-746a-4c98-84d6-f14bc0f06ee1",
   "metadata": {},
   "outputs": [],
   "source": [
    "@DELETE(\"posts/{id}\")\n",
    "Call<Void> deletePost(@Path(\"id\") int postId);"
   ]
  },
  {
   "cell_type": "code",
   "execution_count": null,
   "id": "6153afdf-b90c-4244-86eb-e899a8264ea2",
   "metadata": {},
   "outputs": [],
   "source": []
  }
 ],
 "metadata": {
  "kernelspec": {
   "display_name": "Java",
   "language": "java",
   "name": "java"
  },
  "language_info": {
   "codemirror_mode": "java",
   "file_extension": ".jshell",
   "mimetype": "text/x-java-source",
   "name": "Java",
   "pygments_lexer": "java",
   "version": "17+35-2724"
  }
 },
 "nbformat": 4,
 "nbformat_minor": 5
}
