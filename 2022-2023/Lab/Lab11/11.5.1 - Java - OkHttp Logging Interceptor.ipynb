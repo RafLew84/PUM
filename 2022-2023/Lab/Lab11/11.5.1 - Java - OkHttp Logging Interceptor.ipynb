{
 "cells": [
  {
   "cell_type": "markdown",
   "id": "4bf4187c-1b5c-4f4b-b7cd-cab4dffacde3",
   "metadata": {},
   "source": [
    "## 11.5 OkHttp - Logging Interceptor"
   ]
  },
  {
   "cell_type": "markdown",
   "id": "5002b9dd-e414-413d-bc38-af4a80c61cc1",
   "metadata": {},
   "source": [
    "Ostatnim elementem, który dodamy do naszej aplikacji będzie `LoggingInterceptor`, który pozwoli na otrzymanie informacji o samym połączeniu (`Request` i `Response`) i danych które są przesyłane między serwerem a naszą aplikacją. Ponieważ logger znajduje w bibliotece `OkHttp` - jest to biblioteka na której zbudowany jest `Retrofit` - musimy dodać odpowiednią zależność"
   ]
  },
  {
   "cell_type": "code",
   "execution_count": null,
   "id": "a48b5112-f4e5-4ab5-b9ee-6763010ed055",
   "metadata": {},
   "outputs": [],
   "source": [
    "implementation 'com.squareup.okhttp3:logging-interceptor:4.10.0'"
   ]
  },
  {
   "cell_type": "markdown",
   "id": "1816fbe3-8382-4078-9255-210c81f71873",
   "metadata": {},
   "source": [
    "Nie dodajemy całej biblioteki `OkHttp`, będziemy wykorzystywać tylko `LoginInterceptor`"
   ]
  },
  {
   "cell_type": "markdown",
   "id": "2e5c67bd-2417-41b8-a3ad-21337cfba566",
   "metadata": {},
   "source": [
    "Przechodzimy do klasy `RetrofitFactory` i dodajemy `HttpLoggingInterceptor`"
   ]
  },
  {
   "cell_type": "code",
   "execution_count": null,
   "id": "58e5bbea-a11f-4df2-978e-b945b8c0874a",
   "metadata": {},
   "outputs": [],
   "source": [
    "HttpLoggingInterceptor interceptor = new HttpLoggingInterceptor();"
   ]
  },
  {
   "cell_type": "markdown",
   "id": "0f5e6ef0-ad05-4111-ad69-4d696b0f1309",
   "metadata": {},
   "source": [
    "Następnie musimy ustawić poziom - nas będzie interesować `BODY`"
   ]
  },
  {
   "cell_type": "code",
   "execution_count": null,
   "id": "d5d12b9b-3037-4eb1-8f42-72b55b4b2822",
   "metadata": {},
   "outputs": [],
   "source": [
    "interceptor.setLevel(HttpLoggingInterceptor.Level.BODY);"
   ]
  },
  {
   "cell_type": "markdown",
   "id": "0b2b1422-89e7-4cc2-bac5-164243c0de0a",
   "metadata": {},
   "source": [
    "Tworzymy `OkHttpClient`"
   ]
  },
  {
   "cell_type": "code",
   "execution_count": null,
   "id": "ddf9b415-a047-4751-adbf-8234a21c9276",
   "metadata": {},
   "outputs": [],
   "source": [
    "OkHttpClient client = new OkHttpClient.Builder()\n",
    "        .addInterceptor(interceptor)\n",
    "        .build();"
   ]
  },
  {
   "cell_type": "markdown",
   "id": "76498424-8886-4881-a17b-2680c92cf999",
   "metadata": {},
   "source": [
    "`Retrofit` wykorzystuje domyślną implementację `OkHttpClient`, musimy ją zastąpić powyższą z dodanym loggerem"
   ]
  },
  {
   "cell_type": "code",
   "execution_count": null,
   "id": "3060d0d8-cbed-4728-b614-72ab62ac06c3",
   "metadata": {},
   "outputs": [],
   "source": [
    "INSTANCE = new Retrofit.Builder()\n",
    "        .baseUrl(\"https://jsonplaceholder.typicode.com/\")\n",
    "        .addConverterFactory(GsonConverterFactory.create())\n",
    "        .client(client) // dodajemy nasz OkHttpClient\n",
    "        .build().create(PlaceholderService.class);"
   ]
  },
  {
   "cell_type": "markdown",
   "id": "10dde387-0ce6-447b-97cf-ca66a8124e0d",
   "metadata": {},
   "source": [
    "Teraz, wykonując metodę `putPost` dostaniemy odpowiednią informację zwrotną o połączeniu i przesłanych danych"
   ]
  },
  {
   "cell_type": "markdown",
   "id": "8c042d34-5ae0-429d-9ce8-c89784738764",
   "metadata": {},
   "source": [
    "```bash\n",
    "I/okhttp.OkHttpClient: --> PUT https://jsonplaceholder.typicode.com/posts/101\n",
    "I/okhttp.OkHttpClient: Content-Type: application/json; charset=UTF-8\n",
    "I/okhttp.OkHttpClient: Content-Length: 29\n",
    "I/okhttp.OkHttpClient: {\"body\":\"content\",\"userId\":1}\n",
    "I/okhttp.OkHttpClient: --> END PUT (29-byte body)\n",
    "```"
   ]
  },
  {
   "cell_type": "markdown",
   "id": "157b79a3-af78-40b8-bdbb-e5d23c94cb44",
   "metadata": {},
   "source": [
    "```bash\n",
    "I/okhttp.OkHttpClient: <-- 500 https://jsonplaceholder.typicode.com/posts/101 (20666ms)\n",
    "...\n",
    "I/okhttp.OkHttpClient: <-- END HTTP (819-byte body)\n",
    "```"
   ]
  },
  {
   "cell_type": "code",
   "execution_count": null,
   "id": "e1422f95-e3fa-419d-8430-c6cf2449335f",
   "metadata": {},
   "outputs": [],
   "source": []
  }
 ],
 "metadata": {
  "kernelspec": {
   "display_name": "Java",
   "language": "java",
   "name": "java"
  },
  "language_info": {
   "codemirror_mode": "java",
   "file_extension": ".jshell",
   "mimetype": "text/x-java-source",
   "name": "Java",
   "pygments_lexer": "java",
   "version": "17+35-2724"
  }
 },
 "nbformat": 4,
 "nbformat_minor": 5
}
