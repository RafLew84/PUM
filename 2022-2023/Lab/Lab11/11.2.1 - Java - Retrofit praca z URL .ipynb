{
 "cells": [
  {
   "cell_type": "markdown",
   "id": "8500c39c-b76e-40f0-b0c7-da621f4a9f42",
   "metadata": {},
   "source": [
    "## 11.2 Retrofit - praca z URL"
   ]
  },
  {
   "cell_type": "markdown",
   "id": "87725611-09df-4461-841d-c06e47091102",
   "metadata": {},
   "source": [
    "W poprzedniej aplikacji uzyskaliśmy dostęp do wszystkich postów, zazwyczaj potrzebujemy tylko jakiś podzbiór wszystkich dostępnych danych. W tym celu posługujemy się odpowiednimi parametrami w adresie URL. Ponownie wykorzystamy [**JSONPlaceholder**](https://jsonplaceholder.typicode.com/) - w sekcji **Rooutes** mamy podane różne rodzaje metod `HTTP`\n",
    "- GET\t/posts\n",
    "- GET\t/posts/1\n",
    "- GET\t/posts/1/comments\n",
    "- GET\t/comments?postId=1\n",
    "- POST\t/posts\n",
    "- PUT\t/posts/1\n",
    "- PATCH\t/posts/1\n",
    "- DELETE\t/posts/1\n",
    "\n",
    "W tym przykładzie wyświetlimy wszystkie komentarze pod postem o zadanym identyfikatorze. Możemy to wykonać wykorzystując */posts/1/comments*\n",
    "- posts - zwraca wszystkie posty\n",
    "- 1 - identyfikator posta\n",
    "- comments - zwraca wszystkie komentarze\n",
    "\n",
    "Pamiętamy aby aplikacja miała dostęp do internetu oraz odpowiednie zależności.\n",
    "\n",
    "Rozpoczniemy od modelu - format komentarzy wygląda następująco"
   ]
  },
  {
   "cell_type": "code",
   "execution_count": null,
   "id": "93ea1b19-c523-4108-b7de-99c872ed9069",
   "metadata": {},
   "outputs": [],
   "source": [
    "{\n",
    "\"postId\": 1,\n",
    "\"id\": 1,\n",
    "\"name\": \"id labore ex et quam laborum\",\n",
    "\"email\": \"Eliseo@gardner.biz\",\n",
    "\"body\": \"laudantium enim ...\"\n",
    "},"
   ]
  },
  {
   "cell_type": "markdown",
   "id": "5d66cf7c-5e6d-4fb4-9bf2-3619a8773b27",
   "metadata": {},
   "source": [
    "Więc tworzymy klasę o odpowiednich polach"
   ]
  },
  {
   "cell_type": "code",
   "execution_count": null,
   "id": "c1416071-a978-44f6-9d95-8543d621fcc6",
   "metadata": {},
   "outputs": [],
   "source": [
    "public class Comment {\n",
    "    private int postId;\n",
    "    private int id;\n",
    "    private String name;\n",
    "    private String email;\n",
    "\n",
    "    @SerializedName(\"body\")\n",
    "    private String text;\n",
    "\n",
    "    public int getPostId() {\n",
    "        return postId;\n",
    "    }\n",
    "\n",
    "    public int getId() {\n",
    "        return id;\n",
    "    }\n",
    "\n",
    "    public String getName() {\n",
    "        return name;\n",
    "    }\n",
    "\n",
    "    public String getEmail() {\n",
    "        return email;\n",
    "    }\n",
    "}"
   ]
  },
  {
   "cell_type": "markdown",
   "id": "72b4a2ac-dd3e-4e62-9b39-5bfcaf759355",
   "metadata": {},
   "source": [
    "Utwórzmy nasz interfejs"
   ]
  },
  {
   "cell_type": "code",
   "execution_count": null,
   "id": "29c96d96-e7b9-440e-915a-74ecdd80281a",
   "metadata": {},
   "outputs": [],
   "source": [
    "public interface PlaceholderService {\n",
    "\n",
    "    @GET(\"posts/1/comments\")\n",
    "    Call<List<Comment>> getComments();\n",
    "}"
   ]
  },
  {
   "cell_type": "markdown",
   "id": "afdcdc49-33b4-4a4d-a711-46736ae1bb44",
   "metadata": {},
   "source": [
    "Utwórzmy `Retrofit` - tym razem jako singleton"
   ]
  },
  {
   "cell_type": "code",
   "execution_count": null,
   "id": "a9258c33-baac-4c7e-aaf2-378cf304727f",
   "metadata": {},
   "outputs": [],
   "source": [
    "public final class RetrofitFactory {\n",
    "    private RetrofitFactory(){}\n",
    "\n",
    "    private static volatile PlaceholderService INSTANCE;\n",
    "    private final String url = \"https://jsonplaceholder.typicode.com/\";\n",
    "\n",
    "    public static PlaceholderService makeService() {\n",
    "        if (INSTANCE == null) {\n",
    "            synchronized (RetrofitFactory.class) {\n",
    "                if (INSTANCE == null) {\n",
    "                    INSTANCE = new Retrofit.Builder()\n",
    "                            .baseUrl(url)\n",
    "                            .addConverterFactory(GsonConverterFactory.create())\n",
    "                            .build().create(PlaceholderService.class);\n",
    "                }\n",
    "            }\n",
    "        }\n",
    "        return INSTANCE;\n",
    "    }\n",
    "}"
   ]
  },
  {
   "cell_type": "markdown",
   "id": "041b1751-3de5-4f73-944e-fb7958485522",
   "metadata": {},
   "source": [
    "W aktywności głównej kod w niewielkim stopniu różnie się od poprzedniego przykładu"
   ]
  },
  {
   "cell_type": "code",
   "execution_count": null,
   "id": "f030c3e3-2be1-45a5-b650-9e6153626c8b",
   "metadata": {},
   "outputs": [],
   "source": [
    "        TextView textView = findViewById(R.id.textView);\n",
    "\n",
    "        PlaceholderService service = RetrofitFactory.makeService();\n",
    "\n",
    "        Call<List<Comment>> call = service.getComments();\n",
    "\n",
    "        call.enqueue(new Callback<List<Comment>>() {\n",
    "            @SuppressLint(\"SetTextI18n\")\n",
    "            @Override\n",
    "            public void onResponse(\n",
    "                @NonNull Call<List<Comment>> call, \n",
    "                @NonNull Response<List<Comment>> response) {\n",
    "                if (response.isSuccessful()){\n",
    "                    List<Comment> comments = response.body();\n",
    "                    if (comments != null) {\n",
    "                        comments.forEach(comment -> {\n",
    "                            StringBuilder content = new StringBuilder();\n",
    "                            content.append(\"id: \").append(comment.getId()).append(\"\\n\")\n",
    "                                .append(\"PostId: \")\n",
    "                                .append(comment.getPostId())\n",
    "                                .append(\"\\n\")\n",
    "                                .append(\"name: \")\n",
    "                                .append(comment.getName())\n",
    "                                .append(\"\\n\")\n",
    "                                .append(\"email: \")\n",
    "                                .append(comment.getEmail())\n",
    "                                .append(\"\\n\")\n",
    "                                .append(\"text: \")\n",
    "                                .append(comment.getText())\n",
    "                                .append(\"\\n\\n\");\n",
    "                            textView.append(content);\n",
    "                        });\n",
    "                    }\n",
    "                } else\n",
    "                    textView.setText(\"Code: \" + response.code());\n",
    "            }\n",
    "\n",
    "            @Override\n",
    "            public void onFailure(\n",
    "                @NonNull Call<List<Comment>> call, \n",
    "                @NonNull Throwable t) {\n",
    "                textView.setText(t.getMessage());\n",
    "            }\n",
    "        });"
   ]
  },
  {
   "cell_type": "markdown",
   "id": "14e9ad85-5d73-4b55-a696-a36cdf89151e",
   "metadata": {},
   "source": [
    "W odpowiedzi dostaniemy listę wszysktich komentarzy pod postem o identyfikatorze równym 1.\n",
    "\n",
    "### **@Path**\n",
    "\n",
    "Jeżeli chcemy napisać metodę przyjmującą jako parametr `id` posta, musimy wykorzystać odpowiednią adnotację - zmodyfikujmy metodę `getComments` w interfejsie `PlaceholderService`"
   ]
  },
  {
   "cell_type": "code",
   "execution_count": null,
   "id": "11580647-dd73-4c93-924d-191b130cfd71",
   "metadata": {},
   "outputs": [],
   "source": [
    "@GET(\"posts/{id}/comments\")\n",
    "Call<List<Comment>> getComments(@Path(\"id\") int postId);"
   ]
  },
  {
   "cell_type": "markdown",
   "id": "debdbaca-dcd4-4bc0-b196-ba5cd2bf5d0d",
   "metadata": {},
   "source": [
    "Dzięki zastosowaniu adnotacji `@Path` przekazujemy informację o zastosowaniu parametru metody jako składowej adresu `URL`. Tutaj musimy zwrócić uwagę na parametr `@Path` `\"id\"` - musi on być zgodny z częścią parametru adnotacji `@GET`, który podajemy w nawiasach `{id}`. Teraz wywołanie metody wygląda następująco"
   ]
  },
  {
   "cell_type": "code",
   "execution_count": null,
   "id": "57135373-c208-47b3-859d-2d352ed48627",
   "metadata": {},
   "outputs": [],
   "source": [
    "Call<List<Comment>> call = service.getComments(3);"
   ]
  },
  {
   "cell_type": "markdown",
   "id": "25ac759d-764d-41e1-884c-0e0dc0e0662c",
   "metadata": {},
   "source": [
    "### **@Query**"
   ]
  },
  {
   "cell_type": "markdown",
   "id": "bcdd713b-597d-45a1-a6bd-5f7d9bf70254",
   "metadata": {},
   "source": [
    "Mamy również drugi sposób przekazania argumentu i uzyskania tej samej informacji - */comments?postId=1*. Dostaniemy dokładnie ta samą informację - wszystkie komentarza pod postem o zadanym `id`. Tym razem musimy wykorzystać adnotację `@Query` - zapytanie jest rozpoczynane symbolem `?`.\n",
    "\n",
    "Dodajmy metodę `getCommentsFromQuery`"
   ]
  },
  {
   "cell_type": "code",
   "execution_count": null,
   "id": "4fcee6b8-0963-4e75-b4c8-536ae2b0d1c9",
   "metadata": {},
   "outputs": [],
   "source": [
    "@GET(\"comments\")\n",
    "Call<List<Comment>> getCommentsFromQuery(@Query(\"postId\") int postId);"
   ]
  },
  {
   "cell_type": "markdown",
   "id": "2090eb1c-dd57-4267-b5f1-b3826f90709b",
   "metadata": {},
   "source": [
    "Tutaj parametr adnotacji `@Query` musi odpowiadać nazwie parametru (lub metody) obecnej w zapytaniu - tutaj będzie to */comments?postId=1*. Pozostałe elementy zapytania (znak rozpoczynający zapytanie oraz symbol `=`) zostanie dodany automatycznie. Metodę wywołujemy tak samo jak poprzednią"
   ]
  },
  {
   "cell_type": "code",
   "execution_count": null,
   "id": "671acf6c-1693-4ed5-9e31-c11a93f89c16",
   "metadata": {},
   "outputs": [],
   "source": [
    "Call<List<Comment>> call = service.getCommentsFromQuery(3);"
   ]
  },
  {
   "cell_type": "markdown",
   "id": "3d814ce9-05a5-4903-9c39-b009b0f48170",
   "metadata": {},
   "source": [
    "Możemy również podać wiele parametrów - ich nazwy i wszystkie możliwości znadziemy w dokumentacji na stronie z  której korzystamy.\n",
    "\n",
    "Chcemy uzyskać listę wszystkich komentarzy pod postem o zadanych `id`, posortowane po identyfikatorze malejąco. `url` będzie wyglądał następująco\n",
    "- */comments?postId=1&_sort=id&_order=desc* - znak `&` rozdziela parametry\n",
    "\n",
    "Napiszmy odpowiednią metodę"
   ]
  },
  {
   "cell_type": "code",
   "execution_count": null,
   "id": "46793ab9-caa3-4535-8b2c-ffce38e491e8",
   "metadata": {},
   "outputs": [],
   "source": [
    "@GET(\"comments\")\n",
    "Call<List<Comment>> getSortedComments(\n",
    "        @Query(\"postId\") int postId,\n",
    "        @Query(\"_sort\") String sort,\n",
    "        @Query(\"_order\") String order);"
   ]
  },
  {
   "cell_type": "markdown",
   "id": "bce602d2-df76-496a-89de-1b9b06a4a43e",
   "metadata": {},
   "source": [
    "Wywołanie metody"
   ]
  },
  {
   "cell_type": "code",
   "execution_count": null,
   "id": "374312e4-82b0-4641-8869-0d843efd3131",
   "metadata": {},
   "outputs": [],
   "source": [
    "Call<List<Comment>> call = service.getSortedComments(2, \"id\", \"desc\");"
   ]
  },
  {
   "cell_type": "markdown",
   "id": "6166f7c0-30cb-49fb-9c25-6bd0c9be6bbb",
   "metadata": {},
   "source": [
    "Zwróćmy uwagę że parametr sortowania podajemy jakoi `String`.\n",
    "\n",
    "Jeżeli chcemy dostać wszystkie komentarze posortowane malejąco po `id`, możemy zmodyfikować powyższą metodę i jako parametr `posrId` przekazać `null` - aby to zrobić musimy zamienić typ prymitywny `int` na obiekt `Integer`"
   ]
  },
  {
   "cell_type": "code",
   "execution_count": null,
   "id": "def57d7c-6968-4a5a-ae34-57a9b26c5012",
   "metadata": {},
   "outputs": [],
   "source": [
    "@GET(\"comments\")\n",
    "Call<List<Comment>> getNullableComments(\n",
    "        @Query(\"postId\") Integer postId,\n",
    "        @Query(\"_sort\") String sort,\n",
    "        @Query(\"_order\") String order);"
   ]
  },
  {
   "cell_type": "markdown",
   "id": "bd61b189-e6fd-4f0d-bb17-2dac78175104",
   "metadata": {},
   "source": [
    "Teraz chcąc wszystkie komentarze, możemy wywołać to funkcję"
   ]
  },
  {
   "cell_type": "code",
   "execution_count": null,
   "id": "745c1731-784b-4b53-a155-aad29a2b30e4",
   "metadata": {},
   "outputs": [],
   "source": [
    "Call<List<Comment>> call = service.getNullableComments(null, \"id\", \"desc\");"
   ]
  },
  {
   "cell_type": "markdown",
   "id": "ab9a4f05-22e9-465e-8053-07d4c1be87db",
   "metadata": {},
   "source": [
    "`null` można podać jako każdy argument - chcąc dostać wszystkie komentarze możemy wywołać metodę"
   ]
  },
  {
   "cell_type": "code",
   "execution_count": null,
   "id": "92632faa-0569-448a-a7f7-b58c17450753",
   "metadata": {},
   "outputs": [],
   "source": [
    "Call<List<Comment>> call = service.getNullableComments(null, null, null);"
   ]
  },
  {
   "cell_type": "markdown",
   "id": "ac4e1d19-e9c7-4b28-ae05-9ff7d24b6cca",
   "metadata": {},
   "source": [
    "Jeżeli chcemy dostać listę komentarzy z kilku postów, możemy zadeklarować metodę przyjmującą tablicę (lub listę) identyfikatorów"
   ]
  },
  {
   "cell_type": "code",
   "execution_count": null,
   "id": "0eb7784d-bc7d-460f-ac93-588c8cadfdc8",
   "metadata": {},
   "outputs": [],
   "source": [
    "@GET(\"comments\")\n",
    "Call<List<Comment>> getSortedCommentsFromPosts(\n",
    "        @Query(\"postId\") Integer[] postsId,\n",
    "        @Query(\"_sort\") String sort,\n",
    "        @Query(\"_order\") String order);"
   ]
  },
  {
   "cell_type": "markdown",
   "id": "59cc22ba-6d05-4f67-941a-d00e117abcde",
   "metadata": {},
   "source": [
    "Wtedy chcąc otrzymać posortowane komentarze z kilku postów, możemy metodę wywołać następująco"
   ]
  },
  {
   "cell_type": "code",
   "execution_count": null,
   "id": "6b913bcb-94fd-4ff0-9f7f-46f5c8cc2305",
   "metadata": {},
   "outputs": [],
   "source": [
    "Call<List<Comment>> call = service.getSortedCommentsFromPosts(\n",
    "    new Integer[]{1, 3, 6, 8}, \"id\", \"desc\");"
   ]
  },
  {
   "cell_type": "markdown",
   "id": "84ed60dd-fda2-42b9-977b-1647d22c4480",
   "metadata": {},
   "source": [
    "### **@QueryMap**"
   ]
  },
  {
   "cell_type": "markdown",
   "id": "b7491c82-82f6-4a26-8277-45c0b7814d17",
   "metadata": {},
   "source": [
    "Jeżeli chcemy napisać metodę przyjmującą dowolną ilość parametrów, których nie określamy w definicji samej funkcji, możemy wykorzystać adnotację `@QueryMap`"
   ]
  },
  {
   "cell_type": "code",
   "execution_count": null,
   "id": "228cad28-fd01-4ae3-af38-809264260afb",
   "metadata": {},
   "outputs": [],
   "source": [
    "@GET(\"comments\")\n",
    "Call<List<Comment>> getComments(\n",
    "        @QueryMap Map<String, String> param\n",
    ");"
   ]
  },
  {
   "cell_type": "markdown",
   "id": "fcba4a32-4bce-4347-8bde-269dea5cd147",
   "metadata": {},
   "source": [
    "Nasza metoda przyjmuje `Map` - pary klucz-wartość, gdzie kluczem typu `String` jest nazwa parametru. Wartości też podajemy jako `String`. Teraz w głównej aktywności możemy utworzyć mapę pożądanych parametrów i wykorzystać ją jako parametr funkcji."
   ]
  },
  {
   "cell_type": "code",
   "execution_count": null,
   "id": "0e460244-771f-4b14-92ef-abafec5647f1",
   "metadata": {},
   "outputs": [],
   "source": [
    "Map<String, String> param = new HashMap<>();\n",
    "param.put(\"postId\", \"1\");\n",
    "param.put(\"_sort\", \"id\");\n",
    "param.put(\"_order\", \"desc\");\n",
    "\n",
    "Call<List<Comment>> call = service.getComments(param);"
   ]
  },
  {
   "cell_type": "markdown",
   "id": "6a8112c7-4530-4e4a-91d7-8e5f4ca071a5",
   "metadata": {},
   "source": [
    "### **@Url**"
   ]
  },
  {
   "cell_type": "markdown",
   "id": "6e3f7abf-02bb-4b6a-a8a8-d321f1a7f899",
   "metadata": {},
   "source": [
    "Jeżeli adres jest skomplikowany z większą ilością parametrów, możemy chieć przekazać sam `url` jako parametr funkcji."
   ]
  },
  {
   "cell_type": "code",
   "execution_count": null,
   "id": "b3058a37-7188-4ad9-8eaf-6a159258916f",
   "metadata": {},
   "outputs": [],
   "source": [
    "@GET\n",
    "Call<List<Comment>> getComments(\n",
    "        @Url String url\n",
    ");"
   ]
  },
  {
   "cell_type": "markdown",
   "id": "d7e72886-c66c-48cb-897f-87784a1d041d",
   "metadata": {},
   "source": [
    "Wtedy w wywołaniu metody `getComments` podajemy cały adres `url`"
   ]
  },
  {
   "cell_type": "code",
   "execution_count": null,
   "id": "98bf04c0-fe32-4c5f-b0a2-dc0af323fba3",
   "metadata": {},
   "outputs": [],
   "source": [
    "Call<List<Comment>> call = service.getComments(\"comments?postId=3\");"
   ]
  },
  {
   "cell_type": "markdown",
   "id": "f752bbe2-9397-4fc4-a9a8-b9dda0a6eb9c",
   "metadata": {},
   "source": [
    "Możemy również podać"
   ]
  },
  {
   "cell_type": "code",
   "execution_count": null,
   "id": "ee5fda9c-663e-4d97-b7bf-26ac03616a16",
   "metadata": {},
   "outputs": [],
   "source": [
    "Call<List<Comment>> call = service.getComments(\n",
    "    \"https://jsonplaceholder.typicode.com/comments?postId=3\");"
   ]
  },
  {
   "cell_type": "markdown",
   "id": "85af457d-276d-4172-a02f-a1a14c32351d",
   "metadata": {},
   "source": [
    "Na tym zakończymy omawianie podstaw pracy z adresami `url` oraz `GET`"
   ]
  },
  {
   "cell_type": "code",
   "execution_count": null,
   "id": "f70f3048-7368-4161-9887-9d32fa074a20",
   "metadata": {},
   "outputs": [],
   "source": []
  }
 ],
 "metadata": {
  "kernelspec": {
   "display_name": "Java",
   "language": "java",
   "name": "java"
  },
  "language_info": {
   "codemirror_mode": "java",
   "file_extension": ".jshell",
   "mimetype": "text/x-java-source",
   "name": "Java",
   "pygments_lexer": "java",
   "version": "17+35-2724"
  }
 },
 "nbformat": 4,
 "nbformat_minor": 5
}
