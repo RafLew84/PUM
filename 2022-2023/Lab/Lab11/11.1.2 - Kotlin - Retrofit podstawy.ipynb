{
 "cells": [
  {
   "cell_type": "markdown",
   "id": "6f185d9e-3adf-4ea2-8d9e-aaaa07e2cc64",
   "metadata": {},
   "source": [
    "## 11.1 Retrofit - podstawy"
   ]
  },
  {
   "cell_type": "markdown",
   "id": "5f2a7972-d3b5-4bc4-9046-7ec3fed960f1",
   "metadata": {},
   "source": [
    "Przechodzimy do serii aplikacji w których zapoznamy się z biblioteką `Retrofit` - jedną z najpopularniejszych bibliotek służąca wysyłaniu i odbieraniu danych z zewnętrznych serwisów. Generuje ona kod sieciowy - z naszej strony musimy zadeklarować interfejs wraz z metodami opisującymi operacje sieciowe które chcemy wykonać. Analogicznie jak w przypadku biblioteki `ROOM` będziemy posługiwać się adnotwacjami w celu dostarczenia informacji na podstawie których kod zostanie wygenerowany przez `Retrofit`.\n",
    "\n",
    "W tej części wykonamy `GET` aby pobrać dane z serwera i wyświetlić je w naszej aplikacji. Aby maksymalnie uprościć elementy niezwiązane z `Retrofit` posłużymy się pojedynczą aktywnością oraz jednym polem `TextView`.\n",
    "\n",
    "Nasza aplikacja będzie komunikować się z zewnętrznym serwisem, więc niezbędne jest odpowiednie upoważnienie"
   ]
  },
  {
   "cell_type": "code",
   "execution_count": null,
   "id": "88022e94-0eab-4dd5-99ca-ba4589bb570c",
   "metadata": {},
   "outputs": [],
   "source": [
    "<uses-permission android:name=\"android.permission.INTERNET\"/>"
   ]
  },
  {
   "cell_type": "markdown",
   "id": "a32fec5f-a771-4021-b560-35b30f7b87fb",
   "metadata": {},
   "source": [
    "Następnie musimy dodać `Retrofit` do zależności w naszej aplikacji"
   ]
  },
  {
   "cell_type": "code",
   "execution_count": null,
   "id": "39b46c1a-043c-4f68-8211-135a90bf7689",
   "metadata": {},
   "outputs": [],
   "source": [
    "implementation 'com.squareup.retrofit2:retrofit:2.9.0'"
   ]
  },
  {
   "cell_type": "markdown",
   "id": "37a420cd-6654-4c19-b1ce-bee2f314ad6e",
   "metadata": {},
   "source": [
    "Aby przekonwertować odpowiedź `Response` serwera na odpowiednie obiekty w Javie będziemy potrzebować odpowiedni konwerter - dostępnych jest [kilka](https://square.github.io/retrofit/), nas interesuje `Gson`"
   ]
  },
  {
   "cell_type": "code",
   "execution_count": null,
   "id": "a2dfc648-d025-4aa4-910a-1b5d7bea4097",
   "metadata": {},
   "outputs": [],
   "source": [
    "implementation 'com.squareup.retrofit2:converter-gson:2.9.0'"
   ]
  },
  {
   "cell_type": "markdown",
   "id": "bc3cf15b-ad49-432a-a177-ef586db48b1f",
   "metadata": {},
   "source": [
    "W tym przykładzie wykorzystamy [**JSONPlaceholder**](https://jsonplaceholder.typicode.com/), który jest API przeznaczonym do testowania. Mamy dostępnych kilka **endpointów**\n",
    "- posts\n",
    "- comments\n",
    "- albums\n",
    "- photos\n",
    "- todos\n",
    "- users\n",
    "\n",
    "W tym przykładzie wybierzemy pierwszy (posts), rozpoczniemy komunikację z tym serwerem oraz asynchronicznie wykonamy operację `GET` - czyli pobierzemy wszystkie posty i wrzucimy jch treść do `TextView`. Posty znajdziemy w formacie `JSON` - jest to format służący komunikacji pomiędzy naszą aplikacją a serwerem. Na serwerze znajduje się w chwili pisania 100 postów, struktura pojedynczego postu wygląda następująco"
   ]
  },
  {
   "cell_type": "code",
   "execution_count": null,
   "id": "fcd94a4b-d62f-4989-934c-0308ffd04e10",
   "metadata": {},
   "outputs": [],
   "source": [
    "{\n",
    "    \"userId\": 1,\n",
    "    \"id\": 1,\n",
    "    \"title\": \"sunt aut ...\",\n",
    "    \"body\": \"quia et ...\"\n",
    "},"
   ]
  },
  {
   "cell_type": "markdown",
   "id": "5d24e899-35ad-4ec1-8405-1382ed50a9e0",
   "metadata": {},
   "source": [
    "W pierwszym kroku musimy stworzyć nasz model danych odpowiadający strukturze obecnej na serwerze. Więc do klasy `Post` dodajemy pola `userId`, `id`, `title` oraz `body`. Jeżeli chcemy wykorzystać inną nazwę musimy użyć adnotacji `@SerializedName` - tutaj zmienimy nazwę `body` na `content`. W argumencie `@SerializedName` podajemy nazwę którą chcemy zmienić jako `String` - czyli ta nazwa musi odpowiadać nazwie obecnej w formacie dostępnym na serwerze."
   ]
  },
  {
   "cell_type": "code",
   "execution_count": null,
   "id": "85523a99-b840-4c4a-bf83-14ba8b489b25",
   "metadata": {},
   "outputs": [],
   "source": [
    "data class Post (\n",
    "    val userId: Int,\n",
    "    val id: Int,\n",
    "    val title: String,\n",
    "\n",
    "    @SerializedName(\"body\")\n",
    "    val content: String\n",
    ")"
   ]
  },
  {
   "cell_type": "markdown",
   "id": "5966f7cc-3736-4912-a968-9de79854d058",
   "metadata": {},
   "source": [
    "Zmieńmy jeszcze layout gfłównej aktywności - chcemy wyświetlić wszystkie posty w jednym polu `TextView`, więc umieścimy je w `NestedScrollView` aby umożliwić przewijanie."
   ]
  },
  {
   "cell_type": "code",
   "execution_count": null,
   "id": "34f7daeb-b121-4d01-8c9f-8accbfb622bf",
   "metadata": {},
   "outputs": [],
   "source": [
    "<androidx.constraintlayout.widget.ConstraintLayout \n",
    "    xmlns:android=\"http://schemas.android.com/apk/res/android\"\n",
    "    xmlns:app=\"http://schemas.android.com/apk/res-auto\"\n",
    "    xmlns:tools=\"http://schemas.android.com/tools\"\n",
    "    android:layout_width=\"match_parent\"\n",
    "    android:layout_height=\"match_parent\"\n",
    "    tools:context=\".MainActivity\">\n",
    "\n",
    "    <androidx.core.widget.NestedScrollView\n",
    "        android:layout_width=\"match_parent\"\n",
    "        android:layout_height=\"match_parent\">\n",
    "\n",
    "        <TextView\n",
    "            android:id=\"@+id/textView\"\n",
    "            android:layout_width=\"wrap_content\"\n",
    "            android:layout_height=\"wrap_content\"\n",
    "            android:text=\"Hello World!\"\n",
    "            app:layout_constraintBottom_toBottomOf=\"parent\"\n",
    "            app:layout_constraintEnd_toEndOf=\"parent\"\n",
    "            app:layout_constraintStart_toStartOf=\"parent\"\n",
    "            app:layout_constraintTop_toTopOf=\"parent\" />\n",
    "\n",
    "    </androidx.core.widget.NestedScrollView>\n",
    "\n",
    "</androidx.constraintlayout.widget.ConstraintLayout>"
   ]
  },
  {
   "cell_type": "markdown",
   "id": "d7bedfb9-b546-4fe1-8266-aa2cc6b16b41",
   "metadata": {},
   "source": [
    "Teraz musimy stworzyć interfejs w którym zdefiniujemy metodę służącą zwróceniu danych z serwera"
   ]
  },
  {
   "cell_type": "code",
   "execution_count": null,
   "id": "db4abccb-9aa5-4aed-94ea-5b042241dfa5",
   "metadata": {},
   "outputs": [],
   "source": [
    "interface PlaceholderApi {\n",
    "    fun posts(): Call<List<Post>>\n",
    "}"
   ]
  },
  {
   "cell_type": "markdown",
   "id": "5d320308-a957-4f1d-98e4-8e5a083f1955",
   "metadata": {},
   "source": [
    "Zwracanym obiektem jest `Call` zawierający listę wszystkich postów. Oprócz danych w tym obiekcie znajdują się również obiekty `Response` oraz `Request` zawierające informacje o samym połączeniu oraz metoda `enqueue` pozwalająca na asynchroniczne wysłanie żądania oraz powiadomienia zwrotnego, lub błędu - innymi słowy `Call` hermetyzuje pojedynczy `Request` oraz pojedynczy `Response`.\n",
    "\n",
    "Musimy wykorzystać adnotację `@GET` aby poinformować `Retrofit` co dokładnie ta metoda ma robić. Dzięki temu `Retrofit` będzie w stanie wygenerować odpowiedni kod."
   ]
  },
  {
   "cell_type": "code",
   "execution_count": null,
   "id": "a2a5f345-867a-45a7-8d51-ce81465e295a",
   "metadata": {},
   "outputs": [],
   "source": [
    "interface PlaceholderApi {\n",
    "    @GET(\"posts\")\n",
    "    fun posts(): Call<List<Post>>\n",
    "}"
   ]
  },
  {
   "cell_type": "markdown",
   "id": "331e6647-5cc1-4f7a-8af7-9b87d9038542",
   "metadata": {},
   "source": [
    "Adres URL naszego API wygląda następująco [https://jsonplaceholder.typicode.com/posts](https://jsonplaceholder.typicode.com/posts). Część \"https://jsonplaceholder.typicode.com\" jest adresem bazowym, \"posts\" jest relatywnym adresem (endpoint) - przy adnotacjach w interfejsie posługujemy się tylko relatywnym adresem."
   ]
  },
  {
   "cell_type": "markdown",
   "id": "a3669fce-5670-420d-92dc-cdb7c1d3a2f5",
   "metadata": {},
   "source": [
    "Przejdźmy do głównej aktywności - w metodzie `onCreate` wykonamy nasze żądanie `GET`. W pierwszej kolejności potrzebujemy instancję `Restrofit`"
   ]
  },
  {
   "cell_type": "code",
   "execution_count": null,
   "id": "7475ad7d-bb13-4df0-8a68-1eb70cb17d2e",
   "metadata": {},
   "outputs": [],
   "source": [
    "val retrofit = Retrofit.Builder()"
   ]
  },
  {
   "cell_type": "markdown",
   "id": "98ffde6f-59ec-4e8f-a79e-41038a26b37f",
   "metadata": {},
   "source": [
    "Następnie podajemy `baseUrl` - jak widzieliśmy wqcześniej będzie to \"https://jsonplaceholder.typicode.com\""
   ]
  },
  {
   "cell_type": "code",
   "execution_count": null,
   "id": "a5958884-b7ea-4e33-a6e0-5b85215ab17a",
   "metadata": {},
   "outputs": [],
   "source": [
    "        .baseUrl(\"https://jsonplaceholder.typicode.com/\")"
   ]
  },
  {
   "cell_type": "markdown",
   "id": "8dcbf4db-8d40-4b68-baaa-c1a9a6454ee9",
   "metadata": {},
   "source": [
    "Definiujemy nasz `ConverterFactory` - my używamy formatu `JSON`, więc konwerterem będzie `Gson`"
   ]
  },
  {
   "cell_type": "code",
   "execution_count": null,
   "id": "74dfba33-39e3-4dd0-a0c8-f9b02b24e2f0",
   "metadata": {},
   "outputs": [],
   "source": [
    "        .addConverterFactory(GsonConverterFactory.create())"
   ]
  },
  {
   "cell_type": "markdown",
   "id": "df485efd-1944-4b6a-8c46-9c2814569117",
   "metadata": {},
   "source": [
    "na koniec wywołujemy metodę `build`"
   ]
  },
  {
   "cell_type": "code",
   "execution_count": null,
   "id": "e862b736-3dcd-46a1-937b-1ecc37e0d1be",
   "metadata": {},
   "outputs": [],
   "source": [
    "val retrofit = Retrofit.Builder()\n",
    "    .baseUrl(\"https://jsonplaceholder.typicode.com/\")\n",
    "    .addConverterFactory(GsonConverterFactory.create())\n",
    "    .build()"
   ]
  },
  {
   "cell_type": "markdown",
   "id": "43542138-02c7-4ca5-8f56-84ca6a88977f",
   "metadata": {},
   "source": [
    "Posiadając instancję `Retrofit` możemy utworzyć instancję `PlaceholderApi`."
   ]
  },
  {
   "cell_type": "code",
   "execution_count": null,
   "id": "14ba5eca-59ed-4eae-baee-18526cecc16f",
   "metadata": {},
   "outputs": [],
   "source": [
    "val api = retrofit.create(PlaceholderApi::class.java)"
   ]
  },
  {
   "cell_type": "markdown",
   "id": "96ec6927-0be5-4c2e-8654-aa03777ad75e",
   "metadata": {},
   "source": [
    "Aby wykonać żądanie sieciowe wymagany jest obiekt typu `Call`"
   ]
  },
  {
   "cell_type": "code",
   "execution_count": null,
   "id": "c431e3da-b217-462b-aa29-38bf1542439f",
   "metadata": {},
   "outputs": [],
   "source": [
    "val posts = getData(api)"
   ]
  },
  {
   "cell_type": "markdown",
   "id": "a8076212-f7c6-4b89-8de1-2e4db6bb5454",
   "metadata": {},
   "source": [
    "Na tym obiekcie możemy wykonać `execute` - jest to wykonanie synchroniczne. Jeżeli nastąpi próba wykonania operacji sieciowych na wątku głównym zostanie rzucony wyjątek. Musimy wykonać operację sieciową asynchronicznie - tutaj `Retrofit` dostarcza odpowiednią metodę `enqueue`, której parametrem jest obiekt o typie interfejsu `Callback`. \n",
    "\n",
    "Zaznaczmy że w kotlinie nie wykorzystuje się zazwyczaj tej metody - zamiast niej korzystamy z `Coroutines`. Wersja z `Coroutines` znajduje się poniżej."
   ]
  },
  {
   "cell_type": "code",
   "execution_count": null,
   "id": "c4c3b8bc-c1bb-44b1-8d66-c5a5ac43968e",
   "metadata": {},
   "outputs": [],
   "source": [
    "call.enqueue(object : Callback<List<Post>> {\n",
    "    override fun onResponse(\n",
    "        call: Call<List<Post>?>, \n",
    "        response: Response<List<Post>?>) {\n",
    "    }\n",
    "\n",
    "    override fun onFailure(call: Call<List<Post>?>, t: Throwable) {\n",
    "    }\n",
    "})"
   ]
  },
  {
   "cell_type": "markdown",
   "id": "edfda7ee-f40a-4e10-a7e5-e146921c6b30",
   "metadata": {},
   "source": [
    "Musimy zaimplementować dwie metody\n",
    "- `onResponse` - wykonywana przy sukcesie komunikacji z serwerem - co oznacza samą komunikację a nie powodzenie samej operacji (przykładowo możemy dostać znany kod 404 przy próbie dostępu do danych które nie istnieją na serwerze)\n",
    "- `onFailure` - wykonywana przy braku komunikacji z serwerem\n",
    "\n",
    "W metodzie `onResponse` mamy dwa argumenty reprezentujące obiekty `Call` i `Response`. W pierwszym kroku implementacji tej metody sprawdzamy czy odpowiedź jest poprawna"
   ]
  },
  {
   "cell_type": "code",
   "execution_count": null,
   "id": "52c3d973-6870-4661-8782-0f1a67949385",
   "metadata": {},
   "outputs": [],
   "source": [
    "if (response.isSuccessful) {"
   ]
  },
  {
   "cell_type": "markdown",
   "id": "da12b465-6a70-4302-ab3e-b5545fe0eabf",
   "metadata": {},
   "source": [
    "Czyli kod który otrzymujemy mieści się w zakresie 200 - 300 - więcej informacji o kodach [tutaj](https://developer.mozilla.org/en-US/docs/Web/HTTP/Status). Następnie musimy rozpakować dane - są one przechowywane w polu `body` obiektu `Response`. Oprócz tego `Response` posiada jeszcze pole typu `okhttp3.Response` zawierające kod odpowiedzi, rodzaj wykorzystanego protokołu (`HTTP 1.1`), oraz kilka innych informacji - w tym przykładzie są one nie istotne."
   ]
  },
  {
   "cell_type": "code",
   "execution_count": null,
   "id": "4743afc7-39c6-48d3-9e39-9ffed6bbf145",
   "metadata": {},
   "outputs": [],
   "source": [
    "val posts = response.body()"
   ]
  },
  {
   "cell_type": "markdown",
   "id": "fb3f988d-eca6-45ca-a142-a020bd976733",
   "metadata": {},
   "source": [
    "Następnie, wykorzystując pętlę `foreach`, umieścimy wszystkie dane w polu `TextView`"
   ]
  },
  {
   "cell_type": "code",
   "execution_count": null,
   "id": "adebc980-124e-4578-a0e8-ff9031a0c47a",
   "metadata": {},
   "outputs": [],
   "source": [
    "posts?.forEach {\n",
    "   val content = StringBuilder()\n",
    "   content.append(\"id: \").append(it.id).append(\"\\n\")\n",
    "       .append(\"UserId: \").append(it.userId).append(\"\\n\")\n",
    "       .append(\"title: \").append(it.title).append(\"\\n\")\n",
    "       .append(\"body: \").append(it.title).append(\"\\n\\n\")\n",
    "   textView.append(content)"
   ]
  },
  {
   "cell_type": "markdown",
   "id": "50272e51-09ea-4961-b8e0-febda08960fc",
   "metadata": {},
   "source": [
    "Jeżeli dostaniemy odpowiedź z kodem spoza podanego wyżej zakresu, drukujemy w polu `TextView` ten kod "
   ]
  },
  {
   "cell_type": "code",
   "execution_count": null,
   "id": "872cbb33-2be7-49bd-af12-5e47d42d2521",
   "metadata": {},
   "outputs": [],
   "source": [
    "} else {\n",
    "    textView.text = \"Code: ${response.code()}\"\n",
    "}"
   ]
  },
  {
   "cell_type": "markdown",
   "id": "77895e21-b9e3-4bf4-9499-84a88b52f540",
   "metadata": {},
   "source": [
    "Metoda `onFailure` posiada argument `Throwable` - jest to superklasa `Exception` i `Error`. Tutaj wydrukujemy wiadomość która zostanie wysłana przy niepowodzeniu operacji"
   ]
  },
  {
   "cell_type": "code",
   "execution_count": null,
   "id": "bf461ad7-13b0-447c-a45f-779686afd53e",
   "metadata": {},
   "outputs": [],
   "source": [
    "override fun onFailure(\n",
    "    call: Call<List<Post>?>,\n",
    "    t: Throwable) {\n",
    "   textView.text = t.message\n",
    "}"
   ]
  },
  {
   "cell_type": "markdown",
   "id": "4010db3f-b076-4685-b18e-3a98c4814e63",
   "metadata": {},
   "source": [
    "Możemy przetestować aplikację - samo ściągnięcie danych i wyświetlenie może zająć kilkanaście sekund"
   ]
  },
  {
   "cell_type": "markdown",
   "id": "03fe312e-bce9-4f9b-a1f9-741fb7055df2",
   "metadata": {},
   "source": [
    "<img src=\"https://media2.giphy.com/media/TjtDMwfxyC6HEIh29i/giphy.gif?cid=790b761100981bb41312fc0d0d08dd7a7d2672b1e408e844&rid=giphy.gif&ct=g\" width=\"150\" />"
   ]
  },
  {
   "cell_type": "markdown",
   "id": "c6c603ff-b3b2-4f52-8681-d7d5ef8950a7",
   "metadata": {},
   "source": [
    "Zamiast metody `enqueue` klasy `Call` z biblioteki `Retrofit`, teraz wykorzystamy `Coroutines`. W naszym interfejsie możemy zostać przy obiekcie typu `Call`, lecz często spotykanym jest odebranie obiektu typu `Response` - jednak musimy zamienić `getData` na `suspend fun`.\n",
    "\n",
    "W głównej aktynwości dodajmy metodę pomocniczą, która asynchronicznie wyciągnie odpowiedź serwera na wątku roboczym."
   ]
  },
  {
   "cell_type": "code",
   "execution_count": null,
   "id": "3c2a0b40-e385-4298-a6ba-d5d17993dadf",
   "metadata": {},
   "outputs": [],
   "source": [
    "private suspend fun getData(api: PlaceholderApi): List<Post> {\n",
    "   return withContext(Dispatchers.IO) {\n",
    "       val response = async { api.posts() }\n",
    "       val result = response.await().body()\n",
    "       return@withContext result!!\n",
    "   }\n",
    "}"
   ]
  },
  {
   "cell_type": "markdown",
   "id": "9e6dd265-8ddf-42aa-abff-f79043fd93ab",
   "metadata": {},
   "source": [
    "Przeanalizujmy składnię. `withContext` rozpoczyna wykonanie i zawiesza je do czasu otrzymania wartości zwracanej."
   ]
  },
  {
   "cell_type": "code",
   "execution_count": null,
   "id": "969c46c9-a10c-4658-8d65-4e1c8daec5e1",
   "metadata": {},
   "outputs": [],
   "source": [
    "val response = async { api.posts() }"
   ]
  },
  {
   "cell_type": "markdown",
   "id": "8a6551cb-ce33-4652-9245-55af3f833627",
   "metadata": {},
   "source": [
    "`async` rozpoczyna nową `Courutine` wykonywaną asynchronicznie i zwracającą wartość zapisaną w `response` typu `Deferred`."
   ]
  },
  {
   "cell_type": "code",
   "execution_count": null,
   "id": "56803c67-1b27-4cad-9d2f-af617f303940",
   "metadata": {},
   "outputs": [],
   "source": [
    "val result = response.await().body()"
   ]
  },
  {
   "cell_type": "markdown",
   "id": "3233aa7b-35bd-4fa6-a2bf-12c140af3d26",
   "metadata": {},
   "source": [
    "Funkcja `await` blokuje aktualną `Coroutine` dopóki `response` nie jest dostępny.\n",
    "\n",
    "Następnie chcemy zwrócić listę wszystkich `Post`, więc w pierwszym kroku musimy zwrócić z bloku `withContext`"
   ]
  },
  {
   "cell_type": "code",
   "execution_count": null,
   "id": "d784cb18-3ae5-4d86-a65c-d23acfeeb094",
   "metadata": {},
   "outputs": [],
   "source": [
    "return@withContext result!!"
   ]
  },
  {
   "cell_type": "markdown",
   "id": "7e26f622-5a71-41d5-b40c-ef166352063e",
   "metadata": {},
   "source": [
    "Ponieważ `withContext` również zwraca wartość, więc możemy umieścić przed nim `return`."
   ]
  },
  {
   "cell_type": "code",
   "execution_count": null,
   "id": "b65ed230-a0db-459a-95d6-4f1275882f46",
   "metadata": {},
   "outputs": [],
   "source": [
    "return withContext(Dispatchers.IO) {"
   ]
  },
  {
   "cell_type": "markdown",
   "id": "659ead52-c772-4b9c-91ae-35ca6510af80",
   "metadata": {},
   "source": [
    "Tutaj ważna rzecz - elementy ui możemy modyfikować tylko na **wątku głównym**, więc w metodzie `onCreate` aktualizację ui wykonujemy na wątku głównym."
   ]
  },
  {
   "cell_type": "code",
   "execution_count": null,
   "id": "316061cf-5127-41de-9eee-dd0a88413fec",
   "metadata": {},
   "outputs": [],
   "source": [
    "CoroutineScope(Dispatchers.Main).launch {\n",
    "    val posts = getData(api)\n",
    "    posts.forEach {\n",
    "       val content = StringBuilder()\n",
    "       content.append(\"id: \").append(it.id).append(\"\\n\")\n",
    "           .append(\"UserId: \").append(it.userId).append(\"\\n\")\n",
    "           .append(\"title: \").append(it.title).append(\"\\n\")\n",
    "           .append(\"body: \").append(it.title).append(\"\\n\\n\")\n",
    "       textView.append(content)\n",
    "   }\n",
    "}"
   ]
  },
  {
   "cell_type": "markdown",
   "id": "c8b20951-0c83-4b22-b051-7b1bac5b0083",
   "metadata": {},
   "source": [
    "Całość możemy wykonać w jednym bloku w metodzie `onCreate`"
   ]
  },
  {
   "cell_type": "code",
   "execution_count": null,
   "id": "8f30e997-07ce-4c8d-9e5d-3808f961a62a",
   "metadata": {},
   "outputs": [],
   "source": [
    "GlobalScope.launch(Dispatchers.Main) {\n",
    "\n",
    "    val posts = withContext(Dispatchers.IO) {\n",
    "        val response = async { api.posts() }\n",
    "        return@withContext response.await()\n",
    "    }\n",
    "    val call = posts.await()\n",
    "    call.forEach {\n",
    "        val content = StringBuilder()\n",
    "        content.append(\"id: \").append(it.id).append(\"\\n\")\n",
    "            .append(\"UserId: \").append(it.userId).append(\"\\n\")\n",
    "            .append(\"title: \").append(it.title).append(\"\\n\")\n",
    "            .append(\"body: \").append(it.title).append(\"\\n\\n\")\n",
    "        textView.append(content)\n",
    "    }\n",
    "}"
   ]
  }
 ],
 "metadata": {
  "kernelspec": {
   "display_name": "Kotlin",
   "language": "kotlin",
   "name": "kotlin"
  },
  "language_info": {
   "codemirror_mode": "text/x-kotlin",
   "file_extension": ".kt",
   "mimetype": "text/x-kotlin",
   "name": "kotlin",
   "nbconvert_exporter": "",
   "pygments_lexer": "kotlin",
   "version": "1.6.20-dev-6372"
  }
 },
 "nbformat": 4,
 "nbformat_minor": 5
}
