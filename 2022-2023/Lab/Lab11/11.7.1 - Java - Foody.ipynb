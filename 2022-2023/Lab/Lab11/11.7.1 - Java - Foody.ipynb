{
 "cells": [
  {
   "cell_type": "markdown",
   "id": "0f36c4f1-9846-474e-82e5-f7e841626dbb",
   "metadata": {},
   "source": [
    "## 11.7 Foody"
   ]
  },
  {
   "cell_type": "markdown",
   "id": "255f4984-a08d-4daa-9acf-db1af42513a4",
   "metadata": {},
   "source": [
    "Aplikacja będzie podobna do poprzedniej, tym razem wykorzystamy `api` https://www.themealdb.com/. Przygotujemy trzy fragmenty\n",
    "- `FoodListFragment` - fragment wyświetlający listę wszystkich potraw - przefiltrujemy po kraju\n",
    "- `FoodDetailFragment` - fragment wyświetlający dokładniejsze informacje o danej potrawie\n",
    "- `FavoriteFragment` - fragment wyświtlający listęv ulubionych potraw\n",
    "\n",
    "Wykorzystamy `BottomNavigation`, na którym umieścimy fragmenty listy potraw oraz listę ulubionych. Na fragment wyświetlający dokładniejsze infoprmacje będziemy mogli się przenieść z obu fragmentów - przekazany zostanie `id` potrawy. Do stworzenia listy ulubionych potraw wykorzystamy lokalną bazę `ROOM`.\n",
    "\n",
    "W tej aplikacji posłużymy się pojedynczym `ViewModel` powiązanym z aktywnością hostującą."
   ]
  },
  {
   "cell_type": "markdown",
   "id": "f2b29c53-9c3e-4a76-9cab-fb30c6bc042e",
   "metadata": {},
   "source": [
    "<table><tr><td><img src=\"https://media0.giphy.com/media/lpzoI5Wm7JrPHlXdpd/giphy.gif\" width=\"200\" /></td><td><img src=\"https://media2.giphy.com/media/5Zd75RkXZeDJNb46bF/giphy.gif\" width=\"200\" /></td></tr></table>"
   ]
  },
  {
   "cell_type": "markdown",
   "id": "f4ded4e8-1bd2-44ac-a228-bc3e0d7097dd",
   "metadata": {},
   "source": [
    "Dodajmy odpowiednie zależności"
   ]
  },
  {
   "cell_type": "code",
   "execution_count": null,
   "id": "dee79325-add0-4fa4-be3a-21a2f694d6c9",
   "metadata": {},
   "outputs": [],
   "source": [
    "buildscript { // przed blokiem plugins\n",
    "    repositories {\n",
    "        google()\n",
    "    }\n",
    "    dependencies {\n",
    "        classpath \"androidx.navigation:navigation-safe-args-gradle-plugin:2.5.2\"\n",
    "    }\n",
    "}"
   ]
  },
  {
   "cell_type": "code",
   "execution_count": null,
   "id": "848edba7-a245-46b1-ac39-5fbc8d74de21",
   "metadata": {},
   "outputs": [],
   "source": [
    "plugins {\n",
    "    id 'com.android.application'\n",
    "    id 'androidx.navigation.safeargs'\n",
    "}\n",
    "...\n",
    "dependencies {\n",
    "\n",
    "    // ROOM\n",
    "    implementation \"androidx.room:room-runtime:2.4.3\"\n",
    "    annotationProcessor \"androidx.room:room-compiler:2.4.3\"\n",
    "\n",
    "    // ViewModel\n",
    "    implementation 'androidx.lifecycle:lifecycle-viewmodel:2.5.1'\n",
    "    // LiveData\n",
    "    implementation \"androidx.lifecycle:lifecycle-livedata:2.5.1\"\n",
    "\n",
    "    // Navigation\n",
    "    implementation \"androidx.navigation:navigation-fragment:2.5.2\"\n",
    "    implementation \"androidx.navigation:navigation-ui:2.5.2\"\n",
    "\n",
    "    // Retrofit\n",
    "    implementation 'com.squareup.retrofit2:retrofit:2.9.0'\n",
    "    implementation 'com.squareup.retrofit2:converter-gson:2.9.0'\n",
    "\n",
    "    // OkHttp\n",
    "    implementation 'com.squareup.okhttp3:logging-interceptor:4.10.0'\n",
    "\n",
    "    // Glide\n",
    "    implementation 'com.github.bumptech.glide:glide:4.14.1'\n",
    "    annotationProcessor 'com.github.bumptech.glide:compiler:4.14.1'\n",
    "    ...\n",
    "}"
   ]
  },
  {
   "cell_type": "markdown",
   "id": "024b0920-5962-474b-82fc-83a14da9a833",
   "metadata": {},
   "source": [
    "Dodajmy również odpowiednie upoważnienie do `AndroidManifest`"
   ]
  },
  {
   "cell_type": "code",
   "execution_count": null,
   "id": "9f40878e-80e3-4f23-93a5-b04cfb57a3d6",
   "metadata": {},
   "outputs": [],
   "source": [
    "<uses-permission android:name=\"android.permission.INTERNET\"/>"
   ]
  },
  {
   "cell_type": "markdown",
   "id": "d680243d-0ad3-4bda-9fab-f3c620cabb17",
   "metadata": {},
   "source": [
    "### **`Navigation`**"
   ]
  },
  {
   "cell_type": "markdown",
   "id": "92dd5bdb-6c9d-4a84-b030-c6a66cbabaa8",
   "metadata": {},
   "source": [
    "Rozpocznijmy od utworzenia fragmentów i dodania nawigacji"
   ]
  },
  {
   "cell_type": "markdown",
   "id": "b565fda6-0209-47e7-97b3-5932f7b53bfe",
   "metadata": {},
   "source": [
    "<img src=\"https://fv9-4.failiem.lv/down.php?i=bu3zkrzvs\" width=\"400\" />"
   ]
  },
  {
   "cell_type": "code",
   "execution_count": null,
   "id": "85614428-7804-454b-a488-aed24936c09c",
   "metadata": {},
   "outputs": [],
   "source": [
    "<?xml version=\"1.0\" encoding=\"utf-8\"?>\n",
    "<navigation xmlns:android=\"http://schemas.android.com/apk/res/android\"\n",
    "    xmlns:app=\"http://schemas.android.com/apk/res-auto\"\n",
    "    xmlns:tools=\"http://schemas.android.com/tools\"\n",
    "    android:id=\"@+id/navigation\"\n",
    "    app:startDestination=\"@id/mealListFragment\">\n",
    "\n",
    "    <fragment\n",
    "        android:id=\"@+id/mealListFragment\"\n",
    "        android:name=\"pl.udu.uwr.pum.foodyjava.ui.fragments.MealListFragment\"\n",
    "        android:label=\"fragment_meal_list\"\n",
    "        tools:layout=\"@layout/fragment_meal_list\" >\n",
    "        <action\n",
    "            android:id=\"@+id/action_mealListFragment_to_mealDetailFragment\"\n",
    "            app:destination=\"@id/mealDetailFragment\" >\n",
    "            <argument\n",
    "                android:name=\"id\"\n",
    "                app:argType=\"string\" />\n",
    "        </action>\n",
    "    </fragment>\n",
    "    <fragment\n",
    "        android:id=\"@+id/mealDetailFragment\"\n",
    "        android:name=\"pl.udu.uwr.pum.foodyjava.ui.fragments.MealDetailFragment\"\n",
    "        android:label=\"fragment_meal_detail\"\n",
    "        tools:layout=\"@layout/fragment_meal_detail\" >\n",
    "        <action\n",
    "            android:id=\"@+id/action_mealDetailFragment_to_mealListFragment\"\n",
    "            app:destination=\"@id/mealListFragment\" />\n",
    "        <action\n",
    "            android:id=\"@+id/action_mealDetailFragment_to_favoriteFragment\"\n",
    "            app:destination=\"@id/favoriteFragment\" />\n",
    "    </fragment>\n",
    "    <fragment\n",
    "        android:id=\"@+id/favoriteFragment\"\n",
    "        android:name=\"pl.udu.uwr.pum.foodyjava.ui.fragments.FavoriteFragment\"\n",
    "        android:label=\"fragment_favorite\"\n",
    "        tools:layout=\"@layout/fragment_favorite\" >\n",
    "        <action\n",
    "            android:id=\"@+id/action_favoriteFragment_to_mealDetailFragment\"\n",
    "            app:destination=\"@id/mealDetailFragment\" >\n",
    "            <argument\n",
    "                android:name=\"id\"\n",
    "                app:argType=\"string\" />\n",
    "        </action>\n",
    "    </fragment>\n",
    "</navigation>"
   ]
  },
  {
   "cell_type": "markdown",
   "id": "1b131679-5a89-4634-a770-246ca87d72fd",
   "metadata": {},
   "source": [
    "Następnie dodajmy `menu` dla `BottomNavigation`"
   ]
  },
  {
   "cell_type": "code",
   "execution_count": null,
   "id": "6b969dd6-fc10-4353-ae08-72d96d503a0f",
   "metadata": {},
   "outputs": [],
   "source": [
    "<?xml version=\"1.0\" encoding=\"utf-8\"?>\n",
    "<menu xmlns:android=\"http://schemas.android.com/apk/res/android\">\n",
    "    <item\n",
    "        android:id=\"@id/foodListFragment\"\n",
    "        android:icon=\"@drawable/ic_food\"\n",
    "        android:title=\"@string/food\" />\n",
    "    <item\n",
    "        android:id=\"@id/favoriteFragment\"\n",
    "        android:icon=\"@drawable/ic_favorite\"\n",
    "        android:title=\"@string/favorite\" />\n",
    "</menu>"
   ]
  },
  {
   "cell_type": "markdown",
   "id": "ebc18d26-9e7b-461a-ad33-4a2769002359",
   "metadata": {},
   "source": [
    "Dodajmy nawigację w klasie `MainActivity`"
   ]
  },
  {
   "cell_type": "code",
   "execution_count": null,
   "id": "932827d1-4a67-4284-af22-1b78bb35884d",
   "metadata": {},
   "outputs": [],
   "source": [
    "public class MainActivity extends AppCompatActivity {\n",
    "\n",
    "    private NavController navController;\n",
    "    private AppBarConfiguration appBarConfiguration;\n",
    "\n",
    "    @Override\n",
    "    protected void onCreate(Bundle savedInstanceState) {\n",
    "        super.onCreate(savedInstanceState);\n",
    "        ActivityMainBinding binding = ActivityMainBinding.inflate(getLayoutInflater());\n",
    "        setContentView(binding.getRoot());\n",
    "\n",
    "        Set<Integer> topLevelDestinationIds = new HashSet<>();\n",
    "        topLevelDestinationIds.add(R.id.mealListFragment);\n",
    "        topLevelDestinationIds.add(R.id.favoriteFragment);\n",
    "\n",
    "        NavHostFragment navHostFragment = (NavHostFragment) getSupportFragmentManager()\n",
    "                .findFragmentById(R.id.nav_host_fragment);\n",
    "\n",
    "        if (navHostFragment != null) {\n",
    "            navController = NavHostFragment.findNavController(navHostFragment);\n",
    "            NavigationUI.setupWithNavController(binding.bottomNavView, navController);\n",
    "        }\n",
    "\n",
    "        appBarConfiguration =  new AppBarConfiguration.Builder(topLevelDestinationIds)\n",
    "                .build();\n",
    "\n",
    "        NavigationUI.setupActionBarWithNavController(this, navController, appBarConfiguration);\n",
    "    }\n",
    "\n",
    "    @Override\n",
    "    public boolean onSupportNavigateUp() {\n",
    "        return NavigationUI.navigateUp(navController, appBarConfiguration) \n",
    "            || super.onSupportNavigateUp();\n",
    "    }\n",
    "}"
   ]
  },
  {
   "cell_type": "markdown",
   "id": "fa12f490-6f65-438a-9f85-98570f3282cf",
   "metadata": {},
   "source": [
    "Zwróćmy uwagę na `appBarConfiguration`, teraz mamy dwa fragmenty tzw. top level, z których chcemy przejść na inny fragment. Jako argument `AppBarCon figuration` nie podajemy `navController.getGraph()` jak dotychczas, tylko zbiór wszystkich fragmentów które chcemy dodać do `BottomNavigation`"
   ]
  },
  {
   "cell_type": "code",
   "execution_count": null,
   "id": "01804350-df40-4061-9ab1-fb9dd746e007",
   "metadata": {},
   "outputs": [],
   "source": [
    "Set<Integer> topLevelDestinationIds = new HashSet<>();\n",
    "topLevelDestinationIds.add(R.id.mealListFragment);\n",
    "topLevelDestinationIds.add(R.id.favoriteFragment);\n",
    "\n",
    "appBarConfiguration =  new AppBarConfiguration.Builder(topLevelDestinationIds)\n",
    "        .build();"
   ]
  },
  {
   "cell_type": "markdown",
   "id": "efe3bafa-61b9-42d6-babb-b87408a6b264",
   "metadata": {},
   "source": [
    "### **`Retrofit`**"
   ]
  },
  {
   "cell_type": "markdown",
   "id": "08b31fc1-b823-4206-8428-b14b3e454556",
   "metadata": {},
   "source": [
    "Zmapujmy dane za pomocą strony https://json2csharp.com/code-converters/json-to-pojo, w efekcie dostaniemy kilkadziesiąt pól w klasie `Meal` - wybierzmy kilka"
   ]
  },
  {
   "cell_type": "code",
   "execution_count": null,
   "id": "b5ff6ef8-dcbd-46c2-8b4e-53e9daffe3eb",
   "metadata": {},
   "outputs": [],
   "source": [
    "public class MealResponse{\n",
    "    public ArrayList<Meal> meals;\n",
    "}\n",
    "\n",
    "public class Meal {\n",
    "    public String idMeal;\n",
    "    public String strMeal;\n",
    "    public String strCategory;\n",
    "    public String strArea;\n",
    "    public String strInstructions;\n",
    "    public String strMealThumb;\n",
    "    public String strTags;\n",
    "    public String strYoutube;\n",
    "}"
   ]
  },
  {
   "cell_type": "markdown",
   "id": "7d4cf80e-cfca-4521-93a9-62a869b0ddaa",
   "metadata": {},
   "source": [
    "Dodajmy interfejs `MealApi` z dwiema metodami\n",
    "- `getMealFromApi` - zwraca listę wszystkich potraw, jako `area` wybieramy Polskę\n",
    "- `getMealById` - zwraca potrawę o zadanych `id`"
   ]
  },
  {
   "cell_type": "code",
   "execution_count": null,
   "id": "1e8c012c-44bd-498c-ba9f-231245f8a3bc",
   "metadata": {},
   "outputs": [],
   "source": [
    "public interface MealApi {\n",
    "    @GET(\"api/json/v1/1/filter.php?a=Polish\")\n",
    "    Call<MealResponse> getMealFromApi();\n",
    "\n",
    "    @GET(\"api/json/v1/1/lookup.php?\")\n",
    "    Call<MealResponse> getMealById(@Query(\"i\")String id);\n",
    "}"
   ]
  },
  {
   "cell_type": "markdown",
   "id": "815d9141-0df4-4e4c-a1ca-e98024cfa7ed",
   "metadata": {},
   "source": [
    "Następnie utwórzmy instancję klasy `Retrofit`, również wykorzystamy `LoggingInterceptor`"
   ]
  },
  {
   "cell_type": "code",
   "execution_count": null,
   "id": "c3be999c-78cc-4d7d-b8ed-8c803cc9eafb",
   "metadata": {},
   "outputs": [],
   "source": [
    "public class RetrofitInstance {\n",
    "    private RetrofitInstance(){}\n",
    "\n",
    "    private static volatile MealApi api;\n",
    "    private static final String baseUrl = \"https://www.themealdb.com/\";\n",
    "\n",
    "    public static MealApi getApi() {\n",
    "        if (api == null) {\n",
    "            synchronized (RetrofitInstance.class) {\n",
    "                if (api == null) {\n",
    "                    HttpLoggingInterceptor interceptor = new HttpLoggingInterceptor();\n",
    "                    interceptor.setLevel(HttpLoggingInterceptor.Level.BODY);\n",
    "                    OkHttpClient client = new OkHttpClient.Builder()\n",
    "                            .addInterceptor(interceptor)\n",
    "                            .build();\n",
    "                    api = new Retrofit.Builder()\n",
    "                            .baseUrl(baseUrl)\n",
    "                            .addConverterFactory(GsonConverterFactory.create())\n",
    "                            .client(client)\n",
    "                            .build().create(MealApi.class);\n",
    "                }\n",
    "            }\n",
    "        }\n",
    "        return api;\n",
    "    }\n",
    "}"
   ]
  },
  {
   "cell_type": "markdown",
   "id": "88a5d81d-7960-4016-91ac-9b168ed20ec9",
   "metadata": {},
   "source": [
    "### **`ROOM`**"
   ]
  },
  {
   "cell_type": "markdown",
   "id": "17b7d1ae-aafd-4a2e-bf08-87625e4befbd",
   "metadata": {},
   "source": [
    "Będziemy chcieli dać użytkownikowi zapisanie ulubionych potraw w bazie danych. Rozpocznijmy od utworzenia `@Entity`, przejdźmy do klasy `Meal` i dodajmy odpowiednią adnotację."
   ]
  },
  {
   "cell_type": "code",
   "execution_count": null,
   "id": "8e6bd240-b078-48b5-afb3-d033a31c9d29",
   "metadata": {},
   "outputs": [],
   "source": [
    "@Entity(tableName = \"meals\")\n",
    "public class Meal {\n",
    "    @PrimaryKey\n",
    "    @NonNull\n",
    "    public String idMeal;\n",
    "    public String strMeal;\n",
    "    public String strCategory;\n",
    "    public String strArea;\n",
    "    public String strInstructions;\n",
    "    public String strMealThumb;\n",
    "    public String strTags;\n",
    "    public String strYoutube;\n",
    "}"
   ]
  },
  {
   "cell_type": "markdown",
   "id": "12c953f1-abdf-462a-a3ee-151dbc93da8c",
   "metadata": {},
   "source": [
    "Następnie utwórzmy interfejs `MealDao` i dodajmy trzy metody pozwalające na wyciuągnięcie wszystkich elementów, dodanie i usunięcie elementu."
   ]
  },
  {
   "cell_type": "code",
   "execution_count": null,
   "id": "aa90afd2-3c6a-40fd-be59-093ed8dc70ea",
   "metadata": {},
   "outputs": [],
   "source": [
    "@Dao\n",
    "public interface MealDao {\n",
    "    @Insert(onConflict = REPLACE)\n",
    "    void insert(Meal meal);\n",
    "\n",
    "    @Delete\n",
    "    void delete(Meal meal);\n",
    "\n",
    "    @Query(\"SELECT * FROM meals\")\n",
    "    LiveData<List<Meal>> getAllMeals();\n",
    "}"
   ]
  },
  {
   "cell_type": "markdown",
   "id": "61d971fe-62f3-4efc-b917-f053414a7e5b",
   "metadata": {},
   "source": [
    "Zdefiniujmy również klasę reprezentującą bazę danych"
   ]
  },
  {
   "cell_type": "code",
   "execution_count": null,
   "id": "a7c3ecaf-4ae5-448f-85a3-9fb466eb1f5b",
   "metadata": {},
   "outputs": [],
   "source": [
    "@Database(entities = {Meal.class}, version = 1, exportSchema = false)\n",
    "public abstract class MealDatabase extends RoomDatabase {\n",
    "    public abstract MealDao mealDao();\n",
    "\n",
    "    private static volatile MealDatabase INSTANCE;\n",
    "\n",
    "    private static final int NUMBER_OF_THREADS = 4;\n",
    "    public static final ExecutorService databaseWriteExecutor =\n",
    "            Executors.newFixedThreadPool(NUMBER_OF_THREADS);\n",
    "\n",
    "    public static MealDatabase getDatabase(final Context context) {\n",
    "        if (INSTANCE == null) {\n",
    "            synchronized (MealDatabase.class) {\n",
    "                if (INSTANCE == null) {\n",
    "                    INSTANCE = Room.databaseBuilder(context.getApplicationContext(),\n",
    "                                    MealDatabase.class, \"meal_database\")\n",
    "                            .build();\n",
    "                }\n",
    "            }\n",
    "        }\n",
    "        return INSTANCE;\n",
    "    }\n",
    "}"
   ]
  },
  {
   "cell_type": "markdown",
   "id": "3008a99f-95a0-4d53-997b-d53322ed4534",
   "metadata": {},
   "source": [
    "### **Szkielet `MVVM`**"
   ]
  },
  {
   "cell_type": "markdown",
   "id": "2c741cbf-e4e2-4947-b068-9bd99b664fe1",
   "metadata": {},
   "source": [
    "Utwórzmy repozytorium z odpowiednimi metodami dostępowymi do naszego `api` oraz `ROOM`."
   ]
  },
  {
   "cell_type": "code",
   "execution_count": null,
   "id": "64272566-8394-4780-b448-538614d4f90b",
   "metadata": {},
   "outputs": [],
   "source": [
    "public class MealRepository {\n",
    "\n",
    "    private final MealDao mealDao;\n",
    "\n",
    "    public MealRepository(Application application) {\n",
    "        MealDatabase db = MealDatabase.getDatabase(application);\n",
    "        mealDao = db.mealDao();\n",
    "    }\n",
    "\n",
    "    public Call<MealResponse> getMealFromApi(){\n",
    "        return RetrofitInstance.getApi().getMealFromApi();\n",
    "    }\n",
    "\n",
    "    public Call<MealResponse> getMealById(String id){\n",
    "        return RetrofitInstance.getApi().getMealById(id);\n",
    "    }\n",
    "\n",
    "    public void insert(Meal meal){\n",
    "        mealDao.insert(meal);\n",
    "    }\n",
    "\n",
    "    public void delete(Meal meal){\n",
    "        mealDao.delete(meal);\n",
    "    }\n",
    "\n",
    "    public LiveData<List<Meal>> getAllMeals(){\n",
    "        return mealDao.getAllMeals();\n",
    "    }\n",
    "}"
   ]
  },
  {
   "cell_type": "markdown",
   "id": "515e1eeb-d9e5-417e-80b2-54ca38fd7c23",
   "metadata": {},
   "source": [
    "Kolejną klasą będzie nazsz `MealViewModel` - w tej aplikacji będziemy posiadać jeden `ViewModel` współdzielony przez wszystkie fragmenty. Ponieważ metoda `getDatabase` wymaga podania `Context`, musimy go przekazać w konstruktorze - wykorzystamy `Application` (najszerszy kontekst)."
   ]
  },
  {
   "cell_type": "code",
   "execution_count": null,
   "id": "5158145a-d006-44ef-8715-947e0f90aeec",
   "metadata": {},
   "outputs": [],
   "source": [
    "public class MealViewModel extends AndroidViewModel {\n",
    "        public MealViewModel(@NonNull Application application) {\n",
    "        super(application);\n",
    "    }\n",
    "}"
   ]
  },
  {
   "cell_type": "markdown",
   "id": "d66130f8-5316-44a2-968b-d5b7100dd9e9",
   "metadata": {},
   "source": [
    "Dodajmy repozytorium oraz dwa `MutableLiveData` w których dbierzemy wynik zapytań."
   ]
  },
  {
   "cell_type": "code",
   "execution_count": null,
   "id": "b2d5b8e4-e4f1-4f0a-a018-c7be1299a4b3",
   "metadata": {},
   "outputs": [],
   "source": [
    "private final MealRepository repository;\n",
    "\n",
    "private final MutableLiveData<MealResponse> meals = new MutableLiveData<>();\n",
    "private final MutableLiveData<MealResponse> meal = new MutableLiveData<>();"
   ]
  },
  {
   "cell_type": "markdown",
   "id": "0f28da0d-f942-4dd9-ae7b-c0dc5e589a06",
   "metadata": {},
   "source": [
    "Dodajmy gettery"
   ]
  },
  {
   "cell_type": "code",
   "execution_count": null,
   "id": "1b9f4dd3-fe7b-43b2-b9d9-90604a683917",
   "metadata": {},
   "outputs": [],
   "source": [
    "public LiveData<MealResponse> getMeals() {\n",
    "    return meals;\n",
    "}\n",
    "\n",
    "public LiveData<MealResponse> getMeal() {\n",
    "    return meal;\n",
    "}"
   ]
  },
  {
   "cell_type": "markdown",
   "id": "55218de7-8bae-4ebd-bbe8-edd61434e4ea",
   "metadata": {},
   "source": [
    "Ostatnim polem jest `readAllData`, czyli `LiveData` przechowujący odpowiedź z lokalnej bazy"
   ]
  },
  {
   "cell_type": "code",
   "execution_count": null,
   "id": "5ff8a4b1-45dd-42bd-8aea-fec319027f50",
   "metadata": {},
   "outputs": [],
   "source": [
    "private LiveData<List<Meal>> favorites;\n",
    "\n",
    "public LiveData<List<Meal>> getFavorites() {\n",
    "        return favorites;\n",
    "    }"
   ]
  },
  {
   "cell_type": "markdown",
   "id": "9dd3548e-63e1-4341-8ca3-f4fc48104ef1",
   "metadata": {},
   "source": [
    "W bloku konstruktorze inicjujemy repozytorium"
   ]
  },
  {
   "cell_type": "code",
   "execution_count": null,
   "id": "e8441a1b-144f-4db4-9e5c-f09dd913b7e6",
   "metadata": {},
   "outputs": [],
   "source": [
    "public MealViewModel(@NonNull Application application) {\n",
    "    super(application);\n",
    "    repository = new MealRepository(application);\n",
    "}"
   ]
  },
  {
   "cell_type": "markdown",
   "id": "89aa0ec6-936e-49ec-a43b-8e84033550eb",
   "metadata": {},
   "source": [
    "Nastrępnie zdefiniujmy funkcje zwracające listę potraw oraz potrawę po `id`"
   ]
  },
  {
   "cell_type": "code",
   "execution_count": null,
   "id": "a731d849-a1e1-4e81-b878-72a036e0f07d",
   "metadata": {},
   "outputs": [],
   "source": [
    "public void getMealsFromApi(){\n",
    "    Call<MealResponse> responseCall = repository.getMealFromApi();\n",
    "\n",
    "    responseCall.enqueue(new Callback<MealResponse>() {\n",
    "        @Override\n",
    "        public void onResponse(@NonNull Call<MealResponse> call, \n",
    "                               @NonNull Response<MealResponse> response) {\n",
    "            if (response.isSuccessful()){\n",
    "                MealResponse mealResponse = response.body();\n",
    "                if (mealResponse != null)\n",
    "                    meals.postValue(mealResponse);\n",
    "            }\n",
    "        }\n",
    "\n",
    "        @Override\n",
    "        public void onFailure(@NonNull Call<MealResponse> call, @NonNull Throwable t) {\n",
    "            Log.e(TAG, \"error: \" + t.getMessage() + \"at \" + TAG);\n",
    "        }\n",
    "    });\n",
    "}"
   ]
  },
  {
   "cell_type": "code",
   "execution_count": null,
   "id": "261cb846-399c-42cd-8f98-9176f82a0fc7",
   "metadata": {},
   "outputs": [],
   "source": [
    "public void getMealById(String id){\n",
    "    Call<MealResponse> responseCall = repository.getMealById(id);\n",
    "\n",
    "    responseCall.enqueue(new Callback<MealResponse>() {\n",
    "        @Override\n",
    "        public void onResponse(@NonNull Call<MealResponse> call, \n",
    "                               @NonNull Response<MealResponse> response) {\n",
    "            if (response.isSuccessful()){\n",
    "                MealResponse mealResponse = response.body();\n",
    "                if (mealResponse != null)\n",
    "                    meal.postValue(mealResponse);\n",
    "            }\n",
    "        }\n",
    "\n",
    "        @Override\n",
    "        public void onFailure(@NonNull Call<MealResponse> call, @NonNull Throwable t) {\n",
    "            Log.e(TAG, \"error: \" + t.getMessage() + \"at \" + TAG);\n",
    "        }\n",
    "    });\n",
    "}"
   ]
  },
  {
   "cell_type": "markdown",
   "id": "b5c878f1-d9b1-4810-bd63-e087928bb0e7",
   "metadata": {},
   "source": [
    "Ostatnim elementem będą funkcję dodania, usunięcia i odczytu potrawy z lokalnej bazy"
   ]
  },
  {
   "cell_type": "code",
   "execution_count": null,
   "id": "b7d12c4f-7774-4bf8-8eda-eef091a0d70d",
   "metadata": {},
   "outputs": [],
   "source": [
    "public void getAllMeals(){\n",
    "    favorites = repository.getAllMeals();\n",
    "}\n",
    "\n",
    "public void insert(Meal meal){\n",
    "    MealDatabase.databaseWriteExecutor.execute(() -> repository.insert(meal));\n",
    "}\n",
    "\n",
    "public void delete(Meal meal){\n",
    "    MealDatabase.databaseWriteExecutor.execute(() -> repository.delete(meal));\n",
    "}"
   ]
  },
  {
   "cell_type": "markdown",
   "id": "6c9ef49c-52d0-43fa-ae08-df974921e22b",
   "metadata": {},
   "source": [
    "### **`RecyclerView`**"
   ]
  },
  {
   "cell_type": "markdown",
   "id": "55f1351e-9916-41af-a18e-2b5ad7e10f23",
   "metadata": {},
   "source": [
    "Wykorzystamy `RecyclerView` dwa razy - dla listy wszystkich potraw, oraz listy ulubionych potraw. Zdefiniujmy więc layout pojedynczego elementu"
   ]
  },
  {
   "cell_type": "code",
   "execution_count": null,
   "id": "3d439cc3-9e79-4842-afa6-2e0d39bbc7b3",
   "metadata": {},
   "outputs": [],
   "source": [
    "<LinearLayout xmlns:android=\"http://schemas.android.com/apk/res/android\"\n",
    "    android:layout_width=\"match_parent\"\n",
    "    android:layout_height=\"wrap_content\"\n",
    "    android:orientation=\"vertical\"\n",
    "    android:layout_marginTop=\"16dp\">\n",
    "\n",
    "    <TextView\n",
    "        android:id=\"@+id/name\"\n",
    "        android:layout_width=\"wrap_content\"\n",
    "        android:layout_height=\"wrap_content\"\n",
    "        android:layout_gravity=\"center\"\n",
    "        android:text=\"nazwa\"\n",
    "        android:textSize=\"24sp\"\n",
    "        android:layout_margin=\"8dp\"/>\n",
    "\n",
    "    <ImageView\n",
    "        android:id=\"@+id/image\"\n",
    "        android:layout_width=\"match_parent\"\n",
    "        android:layout_gravity=\"center\"\n",
    "        android:layout_height=\"200dp\"\n",
    "        android:scaleType=\"centerCrop\"\n",
    "        android:layout_marginStart=\"25dp\"\n",
    "        android:layout_marginEnd=\"25dp\"\n",
    "        android:contentDescription=\"@string/food_image\" />\n",
    "\n",
    "</LinearLayout>"
   ]
  },
  {
   "cell_type": "markdown",
   "id": "ed04f07d-585d-451b-abfa-730fac387a50",
   "metadata": {},
   "source": [
    "Dodajmy `Comparator`, który (podobnie jak layout) będzie dla obu wspólny"
   ]
  },
  {
   "cell_type": "code",
   "execution_count": null,
   "id": "c3299faf-dfba-427c-be1e-bcefcffbab49",
   "metadata": {},
   "outputs": [],
   "source": [
    "public class MealComparator extends DiffUtil.ItemCallback<Meal> {\n",
    "    @Override\n",
    "    public boolean areItemsTheSame(@NonNull Meal oldItem, @NonNull Meal newItem) {\n",
    "        return newItem.idMeal.equals(oldItem.idMeal);\n",
    "    }\n",
    "\n",
    "    @Override\n",
    "    public boolean areContentsTheSame(@NonNull Meal oldItem, @NonNull Meal newItem) {\n",
    "        return newItem.strMeal.equals(oldItem.strMeal);\n",
    "    }\n",
    "}"
   ]
  },
  {
   "cell_type": "markdown",
   "id": "15aa8b3d-feb8-44f1-95d4-a145ef31c535",
   "metadata": {},
   "source": [
    "Następnie utwórzmy dwa `ViewHolder`"
   ]
  },
  {
   "cell_type": "code",
   "execution_count": null,
   "id": "8d82da9e-f9c2-49e2-99b5-db46ff891e1e",
   "metadata": {},
   "outputs": [],
   "source": [
    "public class MealViewHolder extends RecyclerView.ViewHolder {\n",
    "    private final ListItemRvBinding binding;\n",
    "    public MealViewHolder(ListItemRvBinding binding) {\n",
    "        super(binding.getRoot());\n",
    "        this.binding = binding;\n",
    "    }\n",
    "\n",
    "    public void bind(Meal item){\n",
    "        binding.name.setText(item.strMeal);\n",
    "        Glide.with(binding.getRoot())\n",
    "                .load(item.strMealThumb)\n",
    "                .into(binding.image);\n",
    "        binding.getRoot().setOnClickListener(view -> {\n",
    "            NavDirections action = MealListFragmentDirections\n",
    "                    .actionMealListFragmentToMealDetailFragment(\n",
    "                            item.idMeal\n",
    "                    );\n",
    "            Navigation.findNavController(binding.getRoot()).navigate(action);\n",
    "        });\n",
    "    }\n",
    "}"
   ]
  },
  {
   "cell_type": "code",
   "execution_count": null,
   "id": "8fa4154d-0675-4b6c-92e2-e7b0706d2d86",
   "metadata": {},
   "outputs": [],
   "source": [
    "public class FavoriteViewHolder extends RecyclerView.ViewHolder {\n",
    "    private final ListItemRvBinding binding;\n",
    "    public FavoriteViewHolder(ListItemRvBinding binding) {\n",
    "        super(binding.getRoot());\n",
    "        this.binding = binding;\n",
    "    }\n",
    "\n",
    "    public void bind(Meal item){\n",
    "        binding.name.setText(item.strMeal);\n",
    "        Glide.with(binding.getRoot())\n",
    "                .load(item.strMealThumb)\n",
    "                .into(binding.image);\n",
    "        binding.getRoot().setOnClickListener(view -> {\n",
    "            NavDirections action = FavoriteFragmentDirections\n",
    "                    .actionFavoriteFragmentToMealDetailFragment(\n",
    "                            item.idMeal\n",
    "                    );\n",
    "            Navigation.findNavController(binding.getRoot()).navigate(action);\n",
    "        });\n",
    "    }\n",
    "}"
   ]
  },
  {
   "cell_type": "markdown",
   "id": "56c9a08c-a58c-4e94-ad67-cfaea4c4acdb",
   "metadata": {},
   "source": [
    "Wykorzystujemy `ImageView`, grafikę którą pobieramy wstawiamy za pomocą biblioteki `Glide`. Dodajmy również dwa adaptery."
   ]
  },
  {
   "cell_type": "code",
   "execution_count": null,
   "id": "8ba5fde2-91be-476a-8776-d2aca2bc4a7e",
   "metadata": {},
   "outputs": [],
   "source": [
    "public class MealAdapter extends ListAdapter<Meal, MealViewHolder> {\n",
    "    public MealAdapter(MealComparator comparator) {\n",
    "        super(comparator);\n",
    "    }\n",
    "\n",
    "    @NonNull\n",
    "    @Override\n",
    "    public MealViewHolder onCreateViewHolder(@NonNull ViewGroup parent, int viewType) {\n",
    "        return new MealViewHolder(ListItemRvBinding.inflate(\n",
    "                LayoutInflater.from(parent.getContext()), parent, false\n",
    "        ));\n",
    "    }\n",
    "\n",
    "    @Override\n",
    "    public void onBindViewHolder(@NonNull MealViewHolder holder, int position) {\n",
    "        Meal item = getItem(position);\n",
    "        holder.bind(item);\n",
    "    }\n",
    "}\n"
   ]
  },
  {
   "cell_type": "code",
   "execution_count": null,
   "id": "a1156781-c09a-4d2d-9410-10840078f340",
   "metadata": {},
   "outputs": [],
   "source": [
    "public class FavoriteAdapter extends ListAdapter<Meal, FavoriteViewHolder> {\n",
    "    public FavoriteAdapter(MealComparator comparator) {\n",
    "        super(comparator);\n",
    "    }\n",
    "\n",
    "    @NonNull\n",
    "    @Override\n",
    "    public FavoriteViewHolder onCreateViewHolder(@NonNull ViewGroup parent, int viewType) {\n",
    "        return new FavoriteViewHolder(ListItemRvBinding.inflate(\n",
    "                LayoutInflater.from(parent.getContext()), parent, false\n",
    "        ));\n",
    "    }\n",
    "\n",
    "    @Override\n",
    "    public void onBindViewHolder(@NonNull FavoriteViewHolder holder, int position) {\n",
    "        Meal item = getItem(position);\n",
    "        holder.bind(item);\n",
    "    }\n",
    "\n",
    "    public Meal getItemAt(int position){\n",
    "        return getItem(position);\n",
    "    }\n",
    "}"
   ]
  },
  {
   "cell_type": "markdown",
   "id": "2c1c56ca-0c6e-4bfe-a682-9d95177a5403",
   "metadata": {},
   "source": [
    "### **`MealListFragment`**"
   ]
  },
  {
   "cell_type": "markdown",
   "id": "0b36b554-50c7-41cf-98df-f7a2555f9352",
   "metadata": {},
   "source": [
    "Rozpocznijmy od layoutu"
   ]
  },
  {
   "cell_type": "code",
   "execution_count": null,
   "id": "72689c4f-4968-48af-be2f-d4153e7e7f2b",
   "metadata": {},
   "outputs": [],
   "source": [
    "<?xml version=\"1.0\" encoding=\"utf-8\"?>\n",
    "<androidx.constraintlayout.widget.ConstraintLayout \n",
    "xmlns:android=\"http://schemas.android.com/apk/res/android\"\n",
    "    xmlns:app=\"http://schemas.android.com/apk/res-auto\"\n",
    "    xmlns:tools=\"http://schemas.android.com/tools\"\n",
    "    android:layout_width=\"match_parent\"\n",
    "    android:layout_height=\"match_parent\">\n",
    "\n",
    "    <androidx.recyclerview.widget.RecyclerView\n",
    "        android:id=\"@+id/foodRV\"\n",
    "        android:layout_width=\"match_parent\"\n",
    "        android:layout_height=\"0dp\"\n",
    "        android:layout_margin=\"8dp\"\n",
    "        app:layout_constraintEnd_toEndOf=\"parent\"\n",
    "        app:layout_constraintStart_toStartOf=\"parent\"\n",
    "        app:layout_constraintTop_toTopOf=\"parent\" />\n",
    "\n",
    "    <ProgressBar\n",
    "        android:id=\"@+id/progressBar\"\n",
    "        android:layout_width=\"wrap_content\"\n",
    "        android:layout_height=\"wrap_content\"\n",
    "        android:layout_gravity=\"center\"\n",
    "        android:layout_marginTop=\"36dp\"\n",
    "        android:background=\"@android:color/transparent\"\n",
    "        android:visibility=\"invisible\"\n",
    "        app:layout_constraintEnd_toEndOf=\"parent\"\n",
    "        app:layout_constraintStart_toStartOf=\"parent\"\n",
    "        app:layout_constraintTop_toTopOf=\"parent\" />\n",
    "\n",
    "</androidx.constraintlayout.widget.ConstraintLayout>"
   ]
  },
  {
   "cell_type": "markdown",
   "id": "e392beab-3f83-4fec-afaf-fcd292f55c0a",
   "metadata": {},
   "source": [
    "Utworzmy `ViewModel`."
   ]
  },
  {
   "cell_type": "code",
   "execution_count": null,
   "id": "d36a6cd1-cd0b-4b0e-bb1d-ded5e4c1bdc6",
   "metadata": {},
   "outputs": [],
   "source": [
    "private MealViewModel viewModel;\n",
    "\n",
    "@Override\n",
    "public View onCreateView(@NonNull LayoutInflater inflater, ViewGroup container,\n",
    "                         Bundle savedInstanceState) {\n",
    "    binding = FragmentMealListBinding.inflate(inflater, container, false);\n",
    "    viewModel = new ViewModelProvider(requireActivity()).get(MealViewModel.class);\n",
    "    viewModel.getMealsFromApi();\n",
    "    return binding.getRoot();\n",
    "}"
   ]
  },
  {
   "cell_type": "markdown",
   "id": "d0834151-fd54-4e3c-83e7-749e40ab4e02",
   "metadata": {},
   "source": [
    "Dodajmy funkcje pomocnicze"
   ]
  },
  {
   "cell_type": "code",
   "execution_count": null,
   "id": "719829b9-8bdd-4f97-b3b0-dc1d96f9a582",
   "metadata": {},
   "outputs": [],
   "source": [
    "private void setupRecyclerView(MealAdapter adapter){\n",
    "    binding.foodRV.setAdapter(adapter);\n",
    "    binding.foodRV.setLayoutManager(new LinearLayoutManager(requireContext()));\n",
    "}"
   ]
  },
  {
   "cell_type": "markdown",
   "id": "78510d92-c097-443c-89f0-5a263b6c4a63",
   "metadata": {},
   "source": [
    "W `onViewCreated` wywołuję wcześniej zdefiniowane funkcje i dodajemy obserwator"
   ]
  },
  {
   "cell_type": "code",
   "execution_count": null,
   "id": "8b51f74e-67e9-4d2c-9562-021503c653ff",
   "metadata": {},
   "outputs": [],
   "source": [
    "@Override\n",
    "public void onViewCreated(@NonNull View view, @Nullable Bundle savedInstanceState) {\n",
    "    super.onViewCreated(view, savedInstanceState);\n",
    "\n",
    "    MealAdapter adapter = new MealAdapter(new MealComparator());\n",
    "    setupRecyclerView(adapter);\n",
    "\n",
    "    viewModel.getMeals().observe(getViewLifecycleOwner(), \n",
    "                                 mealResponse -> adapter.submitList(mealResponse.meals));\n",
    "}"
   ]
  },
  {
   "cell_type": "markdown",
   "id": "65c29822-b6a5-4858-be9b-60e5aa14ea82",
   "metadata": {},
   "source": [
    "### **`MealDetailFragment`**"
   ]
  },
  {
   "cell_type": "markdown",
   "id": "6c80c00a-ec47-4da5-a929-808e0004da4d",
   "metadata": {},
   "source": [
    "Rozpocznijmy od layoutu"
   ]
  },
  {
   "cell_type": "code",
   "execution_count": null,
   "id": "ebcc2916-69ad-4ad3-a3bb-b735d7edc7a8",
   "metadata": {},
   "outputs": [],
   "source": [
    "<?xml version=\"1.0\" encoding=\"utf-8\"?>\n",
    "<ScrollView xmlns:android=\"http://schemas.android.com/apk/res/android\"\n",
    "    xmlns:tools=\"http://schemas.android.com/tools\"\n",
    "    android:layout_width=\"match_parent\"\n",
    "    android:layout_height=\"match_parent\">\n",
    "\n",
    "    <RelativeLayout\n",
    "        android:layout_width=\"match_parent\"\n",
    "        android:layout_height=\"wrap_content\"\n",
    "        tools:context=\".DetailActivity\">\n",
    "\n",
    "        <ProgressBar\n",
    "            android:id=\"@+id/progressBar\"\n",
    "            android:layout_width=\"wrap_content\"\n",
    "            android:layout_height=\"wrap_content\"\n",
    "            android:layout_alignParentStart=\"true\"\n",
    "            android:layout_alignParentTop=\"true\"\n",
    "            android:layout_alignParentEnd=\"true\"\n",
    "            android:layout_gravity=\"center\"\n",
    "            android:layout_marginStart=\"181dp\"\n",
    "            android:layout_marginTop=\"35dp\"\n",
    "            android:layout_marginEnd=\"182dp\"\n",
    "            android:background=\"@android:color/transparent\"\n",
    "            android:visibility=\"invisible\" />\n",
    "\n",
    "        <ImageView\n",
    "            android:id=\"@+id/foodImage\"\n",
    "            android:layout_width=\"match_parent\"\n",
    "            android:layout_height=\"wrap_content\"\n",
    "            android:adjustViewBounds=\"true\"\n",
    "            android:contentDescription=\"@string/food_image\" />\n",
    "\n",
    "        <TextView\n",
    "            android:id=\"@+id/title\"\n",
    "            android:layout_width=\"wrap_content\"\n",
    "            android:layout_height=\"wrap_content\"\n",
    "            android:layout_alignBottom=\"@id/foodImage\"\n",
    "            android:padding=\"8dp\"\n",
    "            android:text=\"@string/title\"\n",
    "            android:theme=\"@style/ThemeOverlay.AppCompat.Dark\" />\n",
    "\n",
    "        <TextView\n",
    "            android:id=\"@+id/category\"\n",
    "            android:layout_width=\"wrap_content\"\n",
    "            android:layout_height=\"wrap_content\"\n",
    "            android:layout_below=\"@id/foodImage\"\n",
    "            android:padding=\"8dp\"\n",
    "            android:text=\"@string/category\"\n",
    "            android:textColor=\"?android:textColorSecondary\" />\n",
    "\n",
    "        <TextView\n",
    "            android:id=\"@+id/instructions\"\n",
    "            android:layout_width=\"wrap_content\"\n",
    "            android:layout_height=\"wrap_content\"\n",
    "            android:layout_below=\"@id/category\"\n",
    "            android:padding=\"8dp\"\n",
    "            android:text=\"@string/instructions\" />\n",
    "\n",
    "        <com.google.android.material.floatingactionbutton.FloatingActionButton\n",
    "            android:id=\"@+id/favoriteButton\"\n",
    "            android:layout_width=\"wrap_content\"\n",
    "            android:layout_height=\"wrap_content\"\n",
    "            android:layout_alignBottom=\"@id/foodImage\"\n",
    "            android:layout_alignParentEnd=\"true\"\n",
    "            android:layout_marginEnd=\"8dp\"\n",
    "            android:layout_marginTop=\"16dp\"\n",
    "            android:contentDescription=\"@string/favorite_button\"\n",
    "            android:src=\"@drawable/ic_favorite_border\" />\n",
    "    </RelativeLayout>\n",
    "</ScrollView>"
   ]
  },
  {
   "cell_type": "markdown",
   "id": "12fc12a2-4841-4b03-94b3-9ace31f26d80",
   "metadata": {},
   "source": [
    "Utwórzmy `ViewModel` i odbierzmy argument"
   ]
  },
  {
   "cell_type": "code",
   "execution_count": null,
   "id": "eefcba90-21d0-49b8-b8e9-43f88b017fd0",
   "metadata": {},
   "outputs": [],
   "source": [
    "@Override\n",
    "public View onCreateView(@NonNull LayoutInflater inflater, ViewGroup container,\n",
    "                         Bundle savedInstanceState) {\n",
    "    binding = FragmentMealDetailBinding.inflate(inflater, container, false);\n",
    "    id = requireArguments().getString(\"id\");\n",
    "    viewModel = new ViewModelProvider(requireActivity()).get(MealViewModel.class);\n",
    "    viewModel.getMealById(id);\n",
    "    return binding.getRoot();\n",
    "}"
   ]
  },
  {
   "cell_type": "markdown",
   "id": "78904e4d-2d21-4654-800e-a82b20c2e8ab",
   "metadata": {},
   "source": [
    "W metodzie `onCreate` wywołajmy `getMealById` "
   ]
  },
  {
   "cell_type": "code",
   "execution_count": null,
   "id": "07938fd1-338c-40d4-a00a-86b675d68332",
   "metadata": {},
   "outputs": [],
   "source": [
    "override fun onCreateView(\n",
    "    inflater: LayoutInflater, container: ViewGroup?,\n",
    "    savedInstanceState: Bundle?\n",
    "): View {\n",
    "    binding = FragmentFoodDetailBinding.inflate(layoutInflater, container, false)\n",
    "    foodViewModel.getMealById(id!!)\n",
    "    return binding.root\n",
    "}"
   ]
  },
  {
   "cell_type": "markdown",
   "id": "5978af40-50ef-4984-83a0-b9082d6bd8af",
   "metadata": {},
   "source": [
    "Dodajmy funkcje pomocnicze"
   ]
  },
  {
   "cell_type": "code",
   "execution_count": null,
   "id": "4a6375d7-f4d0-40ca-b534-6c62642295ea",
   "metadata": {},
   "outputs": [],
   "source": [
    "private void inflate(Meal item){\n",
    "    Glide.with(this)\n",
    "            .load(item.strMealThumb)\n",
    "            .into(binding.foodImage);\n",
    "    binding.category.setText(item.strCategory);\n",
    "    binding.title.setText(item.strMeal);\n",
    "    binding.instructions.setText(item.strInstructions);\n",
    "}"
   ]
  },
  {
   "cell_type": "markdown",
   "id": "ec1e44e0-b56b-42d4-8506-77608068e761",
   "metadata": {},
   "source": [
    "Ponieważ dostaję odpowiedź jako listę, tutaj będzie tob lista jednoelementowa, więc wykorzystuję funkcję `findFirst`"
   ]
  },
  {
   "cell_type": "code",
   "execution_count": null,
   "id": "cedfaca2-0023-401c-a8f8-2fd36d76de24",
   "metadata": {},
   "outputs": [],
   "source": [
    "mealResponse.meals.stream().findFirst().orElse(null))"
   ]
  },
  {
   "cell_type": "markdown",
   "id": "c147345a-a150-46e6-b28f-839673aa8060",
   "metadata": {},
   "source": [
    "Następnie wywołuję funkcję `inflate` zdefiniowaną wcześniej"
   ]
  },
  {
   "cell_type": "code",
   "execution_count": null,
   "id": "088c4221-79ee-4eb8-bfd5-52b9525ab8b1",
   "metadata": {},
   "outputs": [],
   "source": [
    "mealResponse.meals.stream().findFirst().ifPresent(this::inflate)"
   ]
  },
  {
   "cell_type": "markdown",
   "id": "a812f527-9c9d-48d2-99b8-3d1e90b7fefd",
   "metadata": {},
   "source": [
    "Dodaję również obsługę `onClick` przycisku dodającego potrawę do ulubionych"
   ]
  },
  {
   "cell_type": "code",
   "execution_count": null,
   "id": "f972acd5-c91c-4651-9d96-d474f80a76ae",
   "metadata": {},
   "outputs": [],
   "source": [
    "binding.favoriteButton.setOnClickListener(v -> {\n",
    "    viewModel.insert(mealResponse.meals.stream().findFirst().orElse(null));\n",
    "});"
   ]
  },
  {
   "cell_type": "markdown",
   "id": "05783836-e47c-4656-a31c-395f33fd69c3",
   "metadata": {},
   "source": [
    "Pełny kod metody `onViewCreated`"
   ]
  },
  {
   "cell_type": "code",
   "execution_count": null,
   "id": "8c272320-8958-41af-8ba0-bdf9140e8324",
   "metadata": {},
   "outputs": [],
   "source": [
    "@Override\n",
    "public void onViewCreated(@NonNull View view, @Nullable Bundle savedInstanceState) {\n",
    "    super.onViewCreated(view, savedInstanceState);\n",
    "\n",
    "    viewModel.getMeal().observe(getViewLifecycleOwner(), mealResponse -> {\n",
    "        mealResponse.meals.stream().findFirst().ifPresent(this::inflate);\n",
    "        binding.favoriteButton.setOnClickListener(v -> {\n",
    "            viewModel.insert(mealResponse.meals.stream().findFirst().orElse(null));\n",
    "        });\n",
    "    });\n",
    "}"
   ]
  },
  {
   "cell_type": "markdown",
   "id": "0a35f4d8-b95a-457f-9073-929644d61dc4",
   "metadata": {},
   "source": [
    "### **`FavoriteFragment`**"
   ]
  },
  {
   "cell_type": "markdown",
   "id": "63f67eef-524f-4f12-ad33-595659dac68a",
   "metadata": {},
   "source": [
    "Rozpocznijmy od layoutu"
   ]
  },
  {
   "cell_type": "code",
   "execution_count": null,
   "id": "7e34fcd9-f4d4-4878-9da0-2986564c7a4c",
   "metadata": {},
   "outputs": [],
   "source": [
    "<?xml version=\"1.0\" encoding=\"utf-8\"?>\n",
    "<androidx.constraintlayout.widget.ConstraintLayout \n",
    "xmlns:android=\"http://schemas.android.com/apk/res/android\"\n",
    "    xmlns:app=\"http://schemas.android.com/apk/res-auto\"\n",
    "    xmlns:tools=\"http://schemas.android.com/tools\"\n",
    "    android:layout_width=\"match_parent\"\n",
    "    android:layout_height=\"match_parent\">\n",
    "\n",
    "    <androidx.recyclerview.widget.RecyclerView\n",
    "        android:id=\"@+id/favoriteRV\"\n",
    "        android:layout_width=\"match_parent\"\n",
    "        android:layout_height=\"0dp\"\n",
    "        android:layout_margin=\"8dp\"\n",
    "        app:layout_constraintEnd_toEndOf=\"parent\"\n",
    "        app:layout_constraintStart_toStartOf=\"parent\"\n",
    "        app:layout_constraintTop_toTopOf=\"parent\" />\n",
    "\n",
    "</androidx.constraintlayout.widget.ConstraintLayout>"
   ]
  },
  {
   "cell_type": "markdown",
   "id": "1ca7b7a4-5f33-4091-843a-a83d9f3f54bc",
   "metadata": {},
   "source": [
    "Dodajmy `ViewModel`"
   ]
  },
  {
   "cell_type": "code",
   "execution_count": null,
   "id": "d90449d1-2318-4274-b869-839994b458ca",
   "metadata": {},
   "outputs": [],
   "source": [
    "private MealViewModel viewModel;\n",
    "\n",
    "@Override\n",
    "public View onCreateView(@NonNull LayoutInflater inflater, ViewGroup container,\n",
    "                         Bundle savedInstanceState) {\n",
    "    binding = FragmentFavoriteBinding.inflate(inflater, container, false);\n",
    "    viewModel = new ViewModelProvider(requireActivity()).get(MealViewModel.class);\n",
    "    viewModel.getAllMeals();\n",
    "    return binding.getRoot();\n",
    "}"
   ]
  },
  {
   "cell_type": "markdown",
   "id": "ca816146-249c-4f11-9834-cc660d5dec72",
   "metadata": {},
   "source": [
    "Dodajmy dwie funkcje pomocnicze"
   ]
  },
  {
   "cell_type": "code",
   "execution_count": null,
   "id": "84ed3e9c-b76d-48de-8f6b-63571c20aeb1",
   "metadata": {},
   "outputs": [],
   "source": [
    "private void setupRecyclerView(FavoriteAdapter adapter){\n",
    "    binding.favoriteRV.setAdapter(adapter);\n",
    "    binding.favoriteRV.setLayoutManager(new LinearLayoutManager(requireContext()));\n",
    "}\n",
    "\n",
    "private void swipeToDelete(FavoriteAdapter adapter) {\n",
    "    new ItemTouchHelper(new ItemTouchHelper.SimpleCallback(0,\n",
    "            ItemTouchHelper.RIGHT | ItemTouchHelper.LEFT) {\n",
    "        @Override\n",
    "        public boolean onMove(@NonNull RecyclerView recyclerView, \n",
    "                              @NonNull RecyclerView.ViewHolder viewHolder, \n",
    "                              @NonNull RecyclerView.ViewHolder target) {\n",
    "            return false;\n",
    "        }\n",
    "\n",
    "        @Override\n",
    "        public void onSwiped(@NonNull RecyclerView.ViewHolder viewHolder, int direction) {\n",
    "            viewModel.delete(adapter.getItemAt(viewHolder.getAdapterPosition()));\n",
    "        }\n",
    "    }).attachToRecyclerView(binding.favoriteRV);\n",
    "}"
   ]
  },
  {
   "cell_type": "markdown",
   "id": "b2146b4d-0cd5-4acb-a2ce-d53dd4c491b0",
   "metadata": {},
   "source": [
    "W metodzie `onViewCreated` wywołujemy wcześniej zdefiniowane metody"
   ]
  },
  {
   "cell_type": "code",
   "execution_count": null,
   "id": "033f79fe-52e9-44d9-9175-3ce7881c1ce7",
   "metadata": {},
   "outputs": [],
   "source": [
    "@Override\n",
    "public void onViewCreated(@NonNull View view, @Nullable Bundle savedInstanceState) {\n",
    "    super.onViewCreated(view, savedInstanceState);\n",
    "\n",
    "    FavoriteAdapter adapter = new FavoriteAdapter(new MealComparator());\n",
    "    setupRecyclerView(adapter);\n",
    "\n",
    "    viewModel.getFavorites().observe(getViewLifecycleOwner(), adapter::submitList);\n",
    "\n",
    "    swipeToDelete(adapter);\n",
    "}"
   ]
  },
  {
   "cell_type": "markdown",
   "id": "e84b3cc5-9e2c-471b-9519-04a6d0b97b72",
   "metadata": {},
   "source": [
    "Możemy przetestować aplikację"
   ]
  },
  {
   "cell_type": "markdown",
   "id": "da79cfe8-063f-4b6f-88bf-87b96add94bf",
   "metadata": {},
   "source": [
    "<table><tr><td><img src=\"https://media0.giphy.com/media/lpzoI5Wm7JrPHlXdpd/giphy.gif\" width=\"150\" /></td><td><img src=\"https://media2.giphy.com/media/5Zd75RkXZeDJNb46bF/giphy.gif\" width=\"150\" /></td></tr></table>"
   ]
  }
 ],
 "metadata": {
  "kernelspec": {
   "display_name": "Java",
   "language": "java",
   "name": "java"
  },
  "language_info": {
   "codemirror_mode": "java",
   "file_extension": ".jshell",
   "mimetype": "text/x-java-source",
   "name": "Java",
   "pygments_lexer": "java",
   "version": "17+35-2724"
  }
 },
 "nbformat": 4,
 "nbformat_minor": 5
}
