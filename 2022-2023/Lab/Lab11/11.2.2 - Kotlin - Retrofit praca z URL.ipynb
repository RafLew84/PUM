{
 "cells": [
  {
   "cell_type": "markdown",
   "id": "70bc1230-3c3f-4b1b-b3cf-48f5d1409aa0",
   "metadata": {},
   "source": [
    "## 11.2 Retrofit - praca z URL"
   ]
  },
  {
   "cell_type": "markdown",
   "id": "dc64a8ab-079f-4056-b47a-22e7d4dc102e",
   "metadata": {},
   "source": [
    "W poprzedniej aplikacji uzyskaliśmy dostęp do wszystkich postów, zazwyczaj potrzebujemy tylko jakiś podzbiór wszystkich dostępnych danych. W tym celu posługujemy się odpowiednimi parametrami w adresie URL. Ponownie wykorzystamy [**JSONPlaceholder**](https://jsonplaceholder.typicode.com/) - w sekcji **Rooutes** mamy podane różne rodzaje metod `HTTP`\n",
    "- GET\t/posts\n",
    "- GET\t/posts/1\n",
    "- GET\t/posts/1/comments\n",
    "- GET\t/comments?postId=1\n",
    "- POST\t/posts\n",
    "- PUT\t/posts/1\n",
    "- PATCH\t/posts/1\n",
    "- DELETE\t/posts/1\n",
    "\n",
    "W tym przykładzie wyświetlimy wszystkie komentarze pod postem o zadanym identyfikatorze. Możemy to wykonać wykorzystując */posts/1/comments*\n",
    "- posts - zwraca wszystkie posty\n",
    "- 1 - identyfikator posta\n",
    "- comments - zwraca wszystkie komentarze\n",
    "\n",
    "Pamiętamy aby aplikacja miała dostęp do internetu oraz odpowiednie zależności.\n",
    "\n",
    "Rozpoczniemy od modelu - format komentarzy wygląda następująco"
   ]
  },
  {
   "cell_type": "code",
   "execution_count": null,
   "id": "13aa2209-0a0e-4fae-ae39-41babfef32fa",
   "metadata": {},
   "outputs": [],
   "source": [
    "{\n",
    "\"postId\": 1,\n",
    "\"id\": 1,\n",
    "\"name\": \"id labore ex et quam laborum\",\n",
    "\"email\": \"Eliseo@gardner.biz\",\n",
    "\"body\": \"laudantium enim ...\"\n",
    "},"
   ]
  },
  {
   "cell_type": "markdown",
   "id": "1f6a9cda-1fb9-4deb-ae30-20b4221f4d56",
   "metadata": {},
   "source": [
    "Więc tworzymy klasę o odpowiednich polach"
   ]
  },
  {
   "cell_type": "code",
   "execution_count": null,
   "id": "67b80a25-a22e-4747-99fe-8a1e9580b068",
   "metadata": {},
   "outputs": [],
   "source": [
    "data class Comment(\n",
    "    val postId: Int,\n",
    "    val id: Int,\n",
    "    val name: String,\n",
    "    val email: String,\n",
    "    @SerializedName(\"body\")\n",
    "    val text: String\n",
    ")\n"
   ]
  },
  {
   "cell_type": "markdown",
   "id": "ad8c79f0-52cd-4d0d-9b7f-3779da3a87d2",
   "metadata": {},
   "source": [
    "Utwórzmy nasz interfejs"
   ]
  },
  {
   "cell_type": "code",
   "execution_count": null,
   "id": "185eefdb-d2e8-4a38-81cd-0653b3d9b1b9",
   "metadata": {},
   "outputs": [],
   "source": [
    "interface PlaceholderService {\n",
    "    @GET(\"posts/1/comments\")\n",
    "    fun getComments(): Call<List<Comment>>\n",
    "}"
   ]
  },
  {
   "cell_type": "markdown",
   "id": "91ae05d5-4ee3-4e81-a259-3c29ce50c73a",
   "metadata": {},
   "source": [
    "Utwórzmy `Retrofit` - tym razem jako singleton"
   ]
  },
  {
   "cell_type": "code",
   "execution_count": null,
   "id": "72cdba18-eb9c-4eaa-9396-ade69a226177",
   "metadata": {},
   "outputs": [],
   "source": [
    "object RetrofitFactory {\n",
    "\n",
    "    private const val url = \"https://jsonplaceholder.typicode.com/\"\n",
    "\n",
    "    val service: PlaceholderService by lazy {\n",
    "        Retrofit.Builder()\n",
    "            .baseUrl(url)\n",
    "            .addConverterFactory(GsonConverterFactory.create())\n",
    "            .build().create(PlaceholderService::class.java)\n",
    "    }\n",
    "}"
   ]
  },
  {
   "cell_type": "markdown",
   "id": "ae0390be-b658-43ba-bd8c-dbc1f5a8193c",
   "metadata": {},
   "source": [
    "W aktywności głównej kod w niewielkim stopniu różnie się od poprzedniego przykładu"
   ]
  },
  {
   "cell_type": "code",
   "execution_count": null,
   "id": "5db33a3c-152a-4b48-b66a-616b9c2ecc5d",
   "metadata": {},
   "outputs": [],
   "source": [
    "val textView = findViewById<TextView>(R.id.textView)\n",
    "\n",
    "val service: PlaceholderService = RetrofitFactory.service\n",
    "\n",
    "val call = service.getComments(\"comments?postId=3\")\n",
    "\n",
    "call.enqueue(object : Callback<List<Comment>?> {\n",
    "    @SuppressLint(\"SetTextI18n\")\n",
    "    override fun onResponse(\n",
    "        call: Call<List<Comment>?>,\n",
    "        response: Response<List<Comment>?>\n",
    "    ) {\n",
    "        if (response.isSuccessful) {\n",
    "            val comments = response.body()\n",
    "            comments?.forEach(Consumer { comment: Comment ->\n",
    "                val content = StringBuilder()\n",
    "                content.append(\"id: \").append(comment.id).append(\"\\n\")\n",
    "                    .append(\"PostId: \").append(comment.postId).append(\"\\n\")\n",
    "                    .append(\"name: \").append(comment.name).append(\"\\n\")\n",
    "                    .append(\"email: \").append(comment.email).append(\"\\n\")\n",
    "                    .append(\"text: \").append(comment.text).append(\"\\n\\n\")\n",
    "                textView.append(content)\n",
    "            })\n",
    "        } else textView.text = \"Code: \" + response.code()\n",
    "    }\n",
    "\n",
    "    override fun onFailure(call: Call<List<Comment>?>, t: Throwable) {\n",
    "        textView.text = t.message\n",
    "    }\n",
    "})"
   ]
  },
  {
   "cell_type": "markdown",
   "id": "be19e5a3-3097-41d2-b230-202175e46c10",
   "metadata": {},
   "source": [
    "W odpowiedzi dostaniemy listę wszysktich komentarzy pod postem o identyfikatorze równym 1.\n",
    "\n",
    "### **@Path**\n",
    "\n",
    "Jeżeli chcemy napisać metodę przyjmującą jako parametr `id` posta, musimy wykorzystać odpowiednią adnotację - zmodyfikujmy metodę `getComments` w interfejsie `PlaceholderService`"
   ]
  },
  {
   "cell_type": "code",
   "execution_count": null,
   "id": "931d651e-ea36-43c5-b5a4-4dc8d84a84d6",
   "metadata": {},
   "outputs": [],
   "source": [
    "@GET(\"posts/{id}/comments\")\n",
    "fun getComments(@Path(\"id\") postId: Int): Call<List<Comment>>"
   ]
  },
  {
   "cell_type": "markdown",
   "id": "f97ed3c8-e6c0-41bb-92c9-1c754abf17c3",
   "metadata": {},
   "source": [
    "Dzięki zastosowaniu adnotacji `@Path` przekazujemy informację o zastosowaniu parametru metody jako składowej adresu `URL`. Tutaj musimy zwrócić uwagę na parametr `@Path` `\"id\"` - musi on być zgodny z częścią parametru adnotacji `@GET`, który podajemy w nawiasach `{id}`. Teraz wywołanie metody wygląda następująco"
   ]
  },
  {
   "cell_type": "code",
   "execution_count": null,
   "id": "cd315c17-617e-4096-b62d-57d18f37188e",
   "metadata": {},
   "outputs": [],
   "source": [
    "val call = service.getComments(3)"
   ]
  },
  {
   "cell_type": "markdown",
   "id": "67597f4f-5036-483b-a2f3-1a0a8fa4aa77",
   "metadata": {},
   "source": [
    "### **@Query**"
   ]
  },
  {
   "cell_type": "markdown",
   "id": "ec6b376a-0485-417d-a606-4e90ac439a46",
   "metadata": {},
   "source": [
    "Mamy również drugi sposób przekazania argumentu i uzyskania tej samej informacji - */comments?postId=1*. Dostaniemy dokładnie ta samą informację - wszystkie komentarza pod postem o zadanym `id`. Tym razem musimy wykorzystać adnotację `@Query` - zapytanie jest rozpoczynane symbolem `?`.\n",
    "\n",
    "Dodajmy metodę `getCommentsFromQuery`"
   ]
  },
  {
   "cell_type": "code",
   "execution_count": null,
   "id": "f7a9f233-1d08-41ab-a6da-01d4d36397c6",
   "metadata": {},
   "outputs": [],
   "source": [
    "@GET(\"comments\")\n",
    "fun getCommentsFromQuery(@Query(\"postId\") postId: Int): Call<List<Comment>>"
   ]
  },
  {
   "cell_type": "markdown",
   "id": "63ccc85f-da36-436e-aae6-d6b468b7531d",
   "metadata": {},
   "source": [
    "Tutaj parametr adnotacji `@Query` musi odpowiadać nazwie parametru (lub metody) obecnej w zapytaniu - tutaj będzie to */comments?postId=1*. Pozostałe elementy zapytania (znak rozpoczynający zapytanie oraz symbol `=`) zostanie dodany automatycznie. Metodę wywołujemy tak samo jak poprzednią"
   ]
  },
  {
   "cell_type": "code",
   "execution_count": null,
   "id": "cdbb9a76-3ce3-48cb-bb63-2ae6768f98f5",
   "metadata": {},
   "outputs": [],
   "source": [
    "val call = service.getCommentsFromQuery(3);"
   ]
  },
  {
   "cell_type": "markdown",
   "id": "a38fb9ff-2e13-4477-8208-5468d74dc993",
   "metadata": {},
   "source": [
    "Możemy również podać wiele parametrów - ich nazwy i wszystkie możliwości znadziemy w dokumentacji na stronie z  której korzystamy.\n",
    "\n",
    "Chcemy uzyskać listę wszystkich komentarzy pod postem o zadanych `id`, posortowane po identyfikatorze malejąco. `url` będzie wyglądał następująco\n",
    "- */comments?postId=1&_sort=id&_order=desc* - znak `&` rozdziela parametry\n",
    "\n",
    "Napiszmy odpowiednią metodę"
   ]
  },
  {
   "cell_type": "code",
   "execution_count": null,
   "id": "91b94968-f71f-485e-89f7-4cecbda4daff",
   "metadata": {},
   "outputs": [],
   "source": [
    "@GET(\"comments\")\n",
    "fun getSortedComments(\n",
    "    @Query(\"postId\") postId: Int,\n",
    "    @Query(\"_sort\") sort: String,\n",
    "    @Query(\"_order\") order: String\n",
    "): Call<List<Comment>>"
   ]
  },
  {
   "cell_type": "markdown",
   "id": "8e017706-54cf-4418-81eb-1577249720b1",
   "metadata": {},
   "source": [
    "Wywołanie metody"
   ]
  },
  {
   "cell_type": "code",
   "execution_count": null,
   "id": "89784a49-1119-4b6d-8871-a146e7e95b74",
   "metadata": {},
   "outputs": [],
   "source": [
    "val call = service.getSortedComments(2, \"id\", \"desc\")"
   ]
  },
  {
   "cell_type": "markdown",
   "id": "fdaee784-d42c-4ebe-ad76-b88cb01e3575",
   "metadata": {},
   "source": [
    "Zwróćmy uwagę że parametr sortowania podajemy jakoi `String`.\n",
    "\n",
    "Jeżeli chcemy dostać wszystkie komentarze posortowane malejąco po `id`, możemy przekazać jako parametr `posrId` wartość `null`"
   ]
  },
  {
   "cell_type": "markdown",
   "id": "31b4cd9b-c67d-46f7-9e27-e75ba9f39acc",
   "metadata": {},
   "source": [
    "Teraz chcąc wszystkie komentarze, możemy wywołać to funkcję"
   ]
  },
  {
   "cell_type": "code",
   "execution_count": null,
   "id": "b5055071-dc96-4124-9c85-6ad67dca6660",
   "metadata": {},
   "outputs": [],
   "source": [
    "val call = service.getSortedComments(null, \"id\", \"desc\")"
   ]
  },
  {
   "cell_type": "markdown",
   "id": "942e4fb6-9f2c-4785-bea3-6a009eca87df",
   "metadata": {},
   "source": [
    "`null` można podać jako każdy argument - chcąc dostać wszystkie komentarze możemy wywołać metodę"
   ]
  },
  {
   "cell_type": "code",
   "execution_count": null,
   "id": "f9d4f8ff-4749-4f46-b779-043738559600",
   "metadata": {},
   "outputs": [],
   "source": [
    "val call = service.getSortedComments(null, null, null)"
   ]
  },
  {
   "cell_type": "markdown",
   "id": "4347fcea-ccf2-4852-90de-a9de200a5963",
   "metadata": {},
   "source": [
    "Jeżeli chcemy dostać listę komentarzy z kilku postów, możemy zadeklarować metodę przyjmującą tablicę (lub listę) identyfikatorów"
   ]
  },
  {
   "cell_type": "code",
   "execution_count": null,
   "id": "28d5aaf2-4b48-4b2f-8dd1-a8e1852d5c3d",
   "metadata": {},
   "outputs": [],
   "source": [
    "@GET(\"comments\")\n",
    "fun getSortedCommentsFromPosts(\n",
    "    @Query(\"postId\") postsId: List<Int>,\n",
    "    @Query(\"_sort\") sort: String,\n",
    "    @Query(\"_order\") order: String\n",
    "): Call<List<Comment>>"
   ]
  },
  {
   "cell_type": "markdown",
   "id": "020704d2-df0a-497a-8652-a9fdb8a033dc",
   "metadata": {},
   "source": [
    "Wtedy chcąc otrzymać posortowane komentarze z kilku postów, możemy metodę wywołać następująco"
   ]
  },
  {
   "cell_type": "code",
   "execution_count": null,
   "id": "fa19870b-eafc-4f25-ad7e-dab99b93bfbb",
   "metadata": {},
   "outputs": [],
   "source": [
    "Call<List<Comment>> call = service.getSortedCommentsFromPosts(\n",
    "    listOf(1, 3, 6, 7), \"id\", \"desc\");"
   ]
  },
  {
   "cell_type": "markdown",
   "id": "624f09ec-8f4b-470e-b5ff-80315447905d",
   "metadata": {},
   "source": [
    "### **@QueryMap**"
   ]
  },
  {
   "cell_type": "markdown",
   "id": "663e7b9d-93dc-4fdc-8700-3d93a1ce06d2",
   "metadata": {},
   "source": [
    "Jeżeli chcemy napisać metodę przyjmującą dowolną ilość parametrów, których nie określamy w definicji samej funkcji, możemy wykorzystać adnotację `@QueryMap`"
   ]
  },
  {
   "cell_type": "code",
   "execution_count": null,
   "id": "7418d25c-c891-47ef-803b-7a907b657c42",
   "metadata": {},
   "outputs": [],
   "source": [
    "@GET(\"comments\")\n",
    "fun getComments(\n",
    "    @QueryMap param: Map<String, String>\n",
    "): Call<List<Comment>>"
   ]
  },
  {
   "cell_type": "markdown",
   "id": "e599b59f-5c30-4013-8ceb-513345a3b29f",
   "metadata": {},
   "source": [
    "Nasza metoda przyjmuje `Map` - pary klucz-wartość, gdzie kluczem typu `String` jest nazwa parametru. Wartości też podajemy jako `String`. Teraz w głównej aktywności możemy utworzyć mapę pożądanych parametrów i wykorzystać ją jako parametr funkcji."
   ]
  },
  {
   "cell_type": "code",
   "execution_count": null,
   "id": "0dbabda9-402b-4254-bb93-dab24831829f",
   "metadata": {},
   "outputs": [],
   "source": [
    "val param: MutableMap<String, String> = HashMap()\n",
    "param[\"postId\"] = \"1\"\n",
    "param[\"_sort\"] = \"id\"\n",
    "param[\"_order\"] = \"desc\"\n",
    "\n",
    "val call = service.getComments(param);"
   ]
  },
  {
   "cell_type": "markdown",
   "id": "73923cf3-f2e6-4b99-bb6f-29c203984063",
   "metadata": {},
   "source": [
    "### **@Url**"
   ]
  },
  {
   "cell_type": "markdown",
   "id": "ee43a04e-b694-417d-a55c-f67fb52029ec",
   "metadata": {},
   "source": [
    "Jeżeli adres jest skomplikowany z większą ilością parametrów, możemy chieć przekazać sam `url` jako parametr funkcji."
   ]
  },
  {
   "cell_type": "code",
   "execution_count": null,
   "id": "07c1b881-e7ea-4203-bd76-07bba0c6dea5",
   "metadata": {},
   "outputs": [],
   "source": [
    "@GET\n",
    "fun getComments(\n",
    "    @Url url: String\n",
    "): Call<List<Comment>>"
   ]
  },
  {
   "cell_type": "markdown",
   "id": "7df11293-5c84-4aef-bd50-a2fcea0632f9",
   "metadata": {},
   "source": [
    "Wtedy w wywołaniu metody `getComments` podajemy cały adres `url`"
   ]
  },
  {
   "cell_type": "code",
   "execution_count": null,
   "id": "cd771294-9cb0-4284-ae7b-f735da768ce9",
   "metadata": {},
   "outputs": [],
   "source": [
    "val call = service.getComments(\"comments?postId=3\");"
   ]
  },
  {
   "cell_type": "markdown",
   "id": "395d3e5c-2f1d-4942-b3b1-37f3604414a0",
   "metadata": {},
   "source": [
    "Możemy również podać"
   ]
  },
  {
   "cell_type": "code",
   "execution_count": null,
   "id": "74dcd778-c600-4cdf-85d7-537f358471d3",
   "metadata": {},
   "outputs": [],
   "source": [
    "val call = service.getComments(\n",
    "    \"https://jsonplaceholder.typicode.com/comments?postId=3\");"
   ]
  },
  {
   "cell_type": "markdown",
   "id": "7515fc87-293d-42d1-9bfc-198033d82b5f",
   "metadata": {},
   "source": [
    "Na tym zakończymy omawianie podstaw pracy z adresami `url` oraz `GET`"
   ]
  }
 ],
 "metadata": {
  "kernelspec": {
   "display_name": "Kotlin",
   "language": "kotlin",
   "name": "kotlin"
  },
  "language_info": {
   "codemirror_mode": "text/x-kotlin",
   "file_extension": ".kt",
   "mimetype": "text/x-kotlin",
   "name": "kotlin",
   "nbconvert_exporter": "",
   "pygments_lexer": "kotlin",
   "version": "1.6.20-dev-6372"
  }
 },
 "nbformat": 4,
 "nbformat_minor": 5
}
