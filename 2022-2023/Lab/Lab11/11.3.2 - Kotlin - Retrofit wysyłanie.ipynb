{
 "cells": [
  {
   "cell_type": "markdown",
   "id": "5830c074-0cde-437d-b570-73a895070962",
   "metadata": {},
   "source": [
    "## 11.3 Retrofit - wysyłanie danych"
   ]
  },
  {
   "cell_type": "markdown",
   "id": "ea443806-d667-4514-8db4-63b239a8e817",
   "metadata": {},
   "source": [
    "Kontynuujemy poprzedni przykład - tym razem wykonamy żądanie `POST`, czyli wyślemy dane na serwer z naszej aplikacji. Żądanie wykonamy na endpoincie `posts`. W pierwszym kroku będziemy potrzebować konstruktor w naszym modelu."
   ]
  },
  {
   "cell_type": "code",
   "execution_count": null,
   "id": "51ef00ec-9312-4a87-8248-e01729c11fb3",
   "metadata": {},
   "outputs": [],
   "source": [
    "data class Post (\n",
    "    val userId: Int,\n",
    "    val title: String,\n",
    "\n",
    "    @SerializedName(\"body\")\n",
    "    val content: String\n",
    "){\n",
    "    var id: Int? = null\n",
    "}"
   ]
  },
  {
   "cell_type": "markdown",
   "id": "f0cded76-e4ae-42c7-b15d-f8b63f4f524f",
   "metadata": {},
   "source": [
    "Konstruktor nie przyjmuje parametru `id` ponieważ jest on nadawany automatycznie.\n",
    "\n",
    "Chcemy wysłać nowy post na serwer, w tym celu potrzebujemy odpowiedniej metody - wykorzystamy adnotację `@POST`"
   ]
  },
  {
   "cell_type": "code",
   "execution_count": null,
   "id": "891c56b8-6ce5-4813-9b1a-8ae152789f03",
   "metadata": {},
   "outputs": [],
   "source": [
    "@POST(\"posts\")\n",
    "fun createPost(@Body post: Post): Call<Post>"
   ]
  },
  {
   "cell_type": "markdown",
   "id": "3fb329ca-effa-4494-a1ba-f8d89b2bb89a",
   "metadata": {},
   "source": [
    "Metoda przyjmuje jeden parametr typu `Post` z adnotacją `@Body` - ponieważ wykorzystujemy `Gson`, nasz `Post` automatycznie zostanie przekonwertowany do formatu `JSON`.\n",
    "\n",
    "Ponieważ [**JSONPlaceholder**](https://jsonplaceholder.typicode.com/) jest testowym api, nie przechowuje wysyłanych danych na serwerze - zostanie wysłana informacja o powodzeniu/niepowodzeniu operacji oraz powrotnie zostanie przesłany `Post` który wysłaliśmy. Dlatego typem zwracanym tej metody jest `Call<Post>`"
   ]
  },
  {
   "cell_type": "markdown",
   "id": "e736abb6-b03b-4fb0-9222-0ab2d4999eb5",
   "metadata": {},
   "source": [
    "Metodę wywołujemy wprost"
   ]
  },
  {
   "cell_type": "code",
   "execution_count": null,
   "id": "4f905b79-46c1-4114-9442-60f4aca33034",
   "metadata": {},
   "outputs": [],
   "source": [
    "service.createPost(Post(200, \"nowy\", \"nowy post\"))"
   ]
  },
  {
   "cell_type": "markdown",
   "id": "cd2c64ec-bafc-4d56-ae8f-24b4f92efa27",
   "metadata": {},
   "source": [
    "### **@FormUrlEncoded**"
   ]
  },
  {
   "cell_type": "markdown",
   "id": "1a4e4604-5b62-4af4-a64a-dbbf090189dc",
   "metadata": {},
   "source": [
    "Jeżeli nie chcemy tworzyć nowego obiektu `Post`, możemy podać tylko argumenty - musimy jednak wykorzystać adnotację `@FormUrlEncoded`, każde pole oznaczamy adnotacją `@Field`"
   ]
  },
  {
   "cell_type": "code",
   "execution_count": null,
   "id": "5e39c6bf-4a33-4fa6-be0f-9a94a67d2ad9",
   "metadata": {},
   "outputs": [],
   "source": [
    "@FormUrlEncoded\n",
    "@POST(\"posts\")\n",
    "fun createPost(\n",
    "    @Field(\"userId\") userId: Int,\n",
    "    @Field(\"title\") title: String,\n",
    "    @Field(\"body\") text: String\n",
    "): Call<Post>"
   ]
  },
  {
   "cell_type": "markdown",
   "id": "272203d2-ef2f-444d-b98c-278ba181e186",
   "metadata": {},
   "source": [
    "Podobnie jak poprzednio, te dane nie będą umieszczone na serwerze testowym, tylko dostaniemy w odpowiedzi `Response` oraz post który wysłaliśmy"
   ]
  },
  {
   "cell_type": "markdown",
   "id": "88e1d7fc-339f-40af-9bfb-6b53cf5d186a",
   "metadata": {},
   "source": [
    "### **@FieldMap**"
   ]
  },
  {
   "cell_type": "markdown",
   "id": "894c9604-4c51-429d-8a8c-47af29798997",
   "metadata": {},
   "source": [
    "Podobnie jak przy `GET` możemy utworzyć mapę zamiast podawać wszystkie argumenty, w tym celu korzystamy z adnotacji `@FieldMap`"
   ]
  },
  {
   "cell_type": "code",
   "execution_count": null,
   "id": "c67c0d66-3973-4866-aece-8fa14c324fdb",
   "metadata": {},
   "outputs": [],
   "source": [
    "@FormUrlEncoded\n",
    "@POST(\"posts\")\n",
    "fun createPost(\n",
    "    @FieldMap param: Map<String, String>\n",
    "): Call<Post>"
   ]
  },
  {
   "cell_type": "markdown",
   "id": "89d4b998-793f-49b6-a412-06140be8b1c6",
   "metadata": {},
   "source": [
    "a"
   ]
  }
 ],
 "metadata": {
  "kernelspec": {
   "display_name": "Kotlin",
   "language": "kotlin",
   "name": "kotlin"
  },
  "language_info": {
   "codemirror_mode": "text/x-kotlin",
   "file_extension": ".kt",
   "mimetype": "text/x-kotlin",
   "name": "kotlin",
   "nbconvert_exporter": "",
   "pygments_lexer": "kotlin",
   "version": "1.6.20-dev-6372"
  }
 },
 "nbformat": 4,
 "nbformat_minor": 5
}
