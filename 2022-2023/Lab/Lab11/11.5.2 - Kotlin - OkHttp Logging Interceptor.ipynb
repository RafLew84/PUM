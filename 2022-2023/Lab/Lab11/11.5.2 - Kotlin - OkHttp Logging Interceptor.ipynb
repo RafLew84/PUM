{
 "cells": [
  {
   "cell_type": "markdown",
   "id": "297ca946-4e91-4db0-990d-ae2201832796",
   "metadata": {},
   "source": [
    "## 11.5 OkHttp - Logging Interceptor"
   ]
  },
  {
   "cell_type": "markdown",
   "id": "efbefa47-538a-4ae0-9a89-26578f08644a",
   "metadata": {},
   "source": [
    "Ostatnim elementem, który dodamy do naszej aplikacji będzie `LoggingInterceptor`, który pozwoli na otrzymanie informacji o samym połączeniu (`Request` i `Response`) i danych które są przesyłane między serwerem a naszą aplikacją. Ponieważ logger znajduje w bibliotece `OkHttp` - jest to biblioteka na której zbudowany jest `Retrofit` - musimy dodać odpowiednią zależność"
   ]
  },
  {
   "cell_type": "code",
   "execution_count": null,
   "id": "deb236f2-eead-4681-b003-59fcec4cb12b",
   "metadata": {},
   "outputs": [],
   "source": [
    "implementation 'com.squareup.okhttp3:logging-interceptor:4.10.0'"
   ]
  },
  {
   "cell_type": "markdown",
   "id": "4dd3d6d8-44a9-4f9d-a01b-ca3b95175cbd",
   "metadata": {},
   "source": [
    "Nie dodajemy całej biblioteki `OkHttp`, będziemy wykorzystywać tylko `LoginInterceptor`"
   ]
  },
  {
   "cell_type": "markdown",
   "id": "884abbd9-f394-4d71-bdc2-088c955afc34",
   "metadata": {},
   "source": [
    "Przechodzimy do obiektu `RetrofitFactory` i dodajemy `HttpLoggingInterceptor`"
   ]
  },
  {
   "cell_type": "code",
   "execution_count": null,
   "id": "1575eaac-0688-41e0-a20e-57ed8a2e138d",
   "metadata": {},
   "outputs": [],
   "source": [
    "val interceptor = HttpLoggingInterceptor()"
   ]
  },
  {
   "cell_type": "markdown",
   "id": "b2e9df80-4d08-4903-a1da-7f3c14b54873",
   "metadata": {},
   "source": [
    "Następnie musimy ustawić poziom - nas będzie interesować `BODY`"
   ]
  },
  {
   "cell_type": "code",
   "execution_count": null,
   "id": "819f3f37-0a74-40af-bc44-89a98c74902b",
   "metadata": {},
   "outputs": [],
   "source": [
    "interceptor.setLevel(HttpLoggingInterceptor.Level.BODY)"
   ]
  },
  {
   "cell_type": "markdown",
   "id": "79f8889e-dce8-48d3-a73a-58b57a20b558",
   "metadata": {},
   "source": [
    "Tworzymy `OkHttpClient`"
   ]
  },
  {
   "cell_type": "code",
   "execution_count": null,
   "id": "5ba72abb-5b35-41f5-a799-21e0edc0f496",
   "metadata": {},
   "outputs": [],
   "source": [
    "val client = OkHttpClient.Builder()\n",
    "    .addInterceptor(interceptor)\n",
    "    .build()"
   ]
  },
  {
   "cell_type": "markdown",
   "id": "0705f406-c642-40e3-83c1-94cd5429825a",
   "metadata": {},
   "source": [
    "`Retrofit` wykorzystuje domyślną implementację `OkHttpClient`, musimy ją zastąpić powyższą z dodanym loggerem"
   ]
  },
  {
   "cell_type": "code",
   "execution_count": null,
   "id": "cb725360-056a-463f-82fd-eb718512293a",
   "metadata": {},
   "outputs": [],
   "source": [
    "Retrofit.Builder()\n",
    "    .baseUrl(url)\n",
    "    .addConverterFactory(GsonConverterFactory.create())\n",
    "    .client(client)\n",
    "    .build().create(PlaceholderService::class.java)"
   ]
  },
  {
   "cell_type": "markdown",
   "id": "5c31ded3-f824-4b39-9d4f-7eb66079525b",
   "metadata": {},
   "source": [
    "Teraz, wykonując metodę `putPost` dostaniemy odpowiednią informację zwrotną o połączeniu i przesłanych danych"
   ]
  },
  {
   "cell_type": "markdown",
   "id": "b92c3789-62d4-43f9-ad98-616214e47428",
   "metadata": {},
   "source": [
    "```bash\n",
    "I/okhttp.OkHttpClient: --> PUT https://jsonplaceholder.typicode.com/posts/101\n",
    "I/okhttp.OkHttpClient: Content-Type: application/json; charset=UTF-8\n",
    "I/okhttp.OkHttpClient: Content-Length: 29\n",
    "I/okhttp.OkHttpClient: {\"body\":\"content\",\"userId\":1}\n",
    "I/okhttp.OkHttpClient: --> END PUT (29-byte body)\n",
    "```"
   ]
  },
  {
   "cell_type": "markdown",
   "id": "165b1fa4-9f60-41d4-b966-d020f2270b77",
   "metadata": {},
   "source": [
    "```bash\n",
    "I/okhttp.OkHttpClient: <-- 500 https://jsonplaceholder.typicode.com/posts/101 (20666ms)\n",
    "...\n",
    "I/okhttp.OkHttpClient: <-- END HTTP (819-byte body)\n",
    "```"
   ]
  }
 ],
 "metadata": {
  "kernelspec": {
   "display_name": "Kotlin",
   "language": "kotlin",
   "name": "kotlin"
  },
  "language_info": {
   "codemirror_mode": "text/x-kotlin",
   "file_extension": ".kt",
   "mimetype": "text/x-kotlin",
   "name": "kotlin",
   "nbconvert_exporter": "",
   "pygments_lexer": "kotlin",
   "version": "1.6.20-dev-6372"
  }
 },
 "nbformat": 4,
 "nbformat_minor": 5
}
