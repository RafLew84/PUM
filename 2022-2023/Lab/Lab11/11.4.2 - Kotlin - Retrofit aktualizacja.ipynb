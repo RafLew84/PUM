{
 "cells": [
  {
   "cell_type": "markdown",
   "id": "b760e0a1-6853-4cf6-96d7-0a0a0c27cd8c",
   "metadata": {},
   "source": [
    "## 11.4 Retrofit - aktualizacja i usuwanie danych"
   ]
  },
  {
   "cell_type": "markdown",
   "id": "28c3194b-a5d4-4f7d-8ea6-cfcb779530e9",
   "metadata": {},
   "source": [
    "### **@PUT, @PATCH**"
   ]
  },
  {
   "cell_type": "code",
   "execution_count": null,
   "id": "b6e90efc-696f-45ce-9d02-2df20e99361d",
   "metadata": {},
   "outputs": [],
   "source": [
    "@PUT(\"posts/{id}\")\n",
    "fun putPost(@Path(\"id\") postId: Int, @Body post: Post): Call<Post>\n",
    "\n",
    "@PATCH(\"posts/{id}\")\n",
    "fun patchPost(@Path(\"id\") postId: Int, @Body post: Post): Call<Post>"
   ]
  },
  {
   "cell_type": "markdown",
   "id": "53ad95d4-d217-43d5-9017-46d4c9c7acf2",
   "metadata": {},
   "source": [
    "Jeżeli chcemy zaktualizować dane możemy wykorzystać dwie adnotacje\n",
    "- `@PUT` - zastępuje **cały rekord** obecny na serwerze przez rekord przesłany\n",
    "- `@PATCH` - zastępuje **pola** które prześlemy"
   ]
  },
  {
   "cell_type": "markdown",
   "id": "572e8e32-5b14-405a-bb43-4915c5b0e12b",
   "metadata": {},
   "source": [
    "Przykładowo, wykonując metodę `putPost`"
   ]
  },
  {
   "cell_type": "code",
   "execution_count": null,
   "id": "ed69a546-e3be-45d2-a62c-0e50e1fbd80a",
   "metadata": {},
   "outputs": [],
   "source": [
    "service.putPost(101, Post(1, null, \"content\"))"
   ]
  },
  {
   "cell_type": "markdown",
   "id": "74bdf1b7-5fd7-45b0-aeec-c7b514d8ccea",
   "metadata": {},
   "source": [
    "post o identyfikatorze 101 zostanie zastąpiony przesłanym postem - tytuł będzie miał wartość `null`"
   ]
  },
  {
   "cell_type": "code",
   "execution_count": null,
   "id": "233fdbca-d560-4d7d-b53a-8ae5b6ca2122",
   "metadata": {},
   "outputs": [],
   "source": [
    "service.patchPost(101, Post(1, null, \"content\"))"
   ]
  },
  {
   "cell_type": "markdown",
   "id": "53a43c5b-3044-408e-8b3a-2ba9ebdee40d",
   "metadata": {},
   "source": [
    "Jeżeli wykonamy metodę `patchPost` - tylko pola przesłane (`userId` oraz `content`) dla postu o `id` 101 zostaną zaktualizowane, tytuł pozostanie bez zmian"
   ]
  },
  {
   "cell_type": "markdown",
   "id": "7a1adb3d-9eb1-4864-91a2-a09ab6841c35",
   "metadata": {},
   "source": [
    "### **@DELETE**"
   ]
  },
  {
   "cell_type": "markdown",
   "id": "86f003fb-22a4-45dd-bf6c-9918a67f26b2",
   "metadata": {},
   "source": [
    "Usuwanie ma składnie którą już znamy, jedyną różnicą jest zastosowanie adnotacji `@DELETE` - tutaj metoda musi posiadać typ zwrotnu `Call<Unit>`, ponieważ w testowym api dostaniemy zwrotny obiekt bez części `body`"
   ]
  },
  {
   "cell_type": "code",
   "execution_count": null,
   "id": "a1eaae04-3bd0-4b29-a2ad-dfa3bffb7676",
   "metadata": {},
   "outputs": [],
   "source": [
    "@DELETE(\"posts/{id}\")\n",
    "fun deletePost(@Path(\"id\") postId: Int): Call<Void>"
   ]
  },
  {
   "cell_type": "code",
   "execution_count": null,
   "id": "5932cf8c-c0b9-4107-9201-a92d5025305b",
   "metadata": {},
   "outputs": [],
   "source": []
  }
 ],
 "metadata": {
  "kernelspec": {
   "display_name": "Kotlin",
   "language": "kotlin",
   "name": "kotlin"
  },
  "language_info": {
   "codemirror_mode": "text/x-kotlin",
   "file_extension": ".kt",
   "mimetype": "text/x-kotlin",
   "name": "kotlin",
   "nbconvert_exporter": "",
   "pygments_lexer": "kotlin",
   "version": "1.6.20-dev-6372"
  }
 },
 "nbformat": 4,
 "nbformat_minor": 5
}
