{
 "cells": [
  {
   "cell_type": "markdown",
   "id": "f81b96b7-85b6-4835-8089-34039c81d0b9",
   "metadata": {},
   "source": [
    "## 11.3 Retrofit - wysyłanie danych"
   ]
  },
  {
   "cell_type": "markdown",
   "id": "2c882f07-3c97-47a7-b61d-2601e09d51ec",
   "metadata": {},
   "source": [
    "Kontynuujemy poprzedni przykład - tym razem wykonamy żądanie `POST`, czyli wyślemy dane na serwer z naszej aplikacji. Żądanie wykonamy na endpoincie `posts`. W pierwszym kroku będziemy potrzebować konstruktor w naszym modelu."
   ]
  },
  {
   "cell_type": "code",
   "execution_count": null,
   "id": "23fb803b-cd3c-402a-85c1-6f73fc1f8b29",
   "metadata": {},
   "outputs": [],
   "source": [
    "public class Post {\n",
    "    private final Integer userId;\n",
    "    private Integer id;\n",
    "    private final String title;\n",
    "\n",
    "    @SerializedName(\"body\")\n",
    "    String content;\n",
    "\n",
    "    public Post(Integer userId, String title, String content) {\n",
    "        this.userId = userId;\n",
    "        this.title = title;\n",
    "        this.content = content;\n",
    "    }\n",
    "\n",
    "    public int getUserId() {\n",
    "        return userId;\n",
    "    }\n",
    "\n",
    "    public int getId() {\n",
    "        return id;\n",
    "    }\n",
    "\n",
    "    public String getTitle() {\n",
    "        return title;\n",
    "    }\n",
    "\n",
    "    public String getContent() {\n",
    "        return content;\n",
    "    }\n",
    "}"
   ]
  },
  {
   "cell_type": "markdown",
   "id": "99a7ed2e-a5ec-4567-83cd-5ea03322b5ff",
   "metadata": {},
   "source": [
    "Konstruktor nie przyjmuje parametru `id` ponieważ jest on nadawany automatycznie.\n",
    "\n",
    "Chcemy wysłać nowy post na serwer, w tym celu potrzebujemy odpowiedniej metody - wykorzystamy adnotację `@POST`"
   ]
  },
  {
   "cell_type": "code",
   "execution_count": null,
   "id": "b6f564f4-7357-496c-81cc-8a068121078b",
   "metadata": {},
   "outputs": [],
   "source": [
    "@POST(\"posts\")\n",
    "Call<Post> createPost(@Body Post post);"
   ]
  },
  {
   "cell_type": "markdown",
   "id": "e9037bf9-2938-4be7-89db-05e627bbe187",
   "metadata": {},
   "source": [
    "Metoda przyjmuje jeden parametr typu `Post` z adnotacją `@Body` - ponieważ wykorzystujemy `Gson`, nasz `Post` automatycznie zostanie przekonwertowany do formatu `JSON`.\n",
    "\n",
    "Ponieważ [**JSONPlaceholder**](https://jsonplaceholder.typicode.com/) jest testowym api, nie przechowuje wysyłanych danych na serwerze - zostanie wysłana informacja o powodzeniu/niepowodzeniu operacji oraz powrotnie zostanie przesłany `Post` który wysłaliśmy. Dlatego typem zwracanym tej metody jest `Call<Post>`"
   ]
  },
  {
   "cell_type": "markdown",
   "id": "671d78da-62ae-4d66-acc8-e8a77aeae5ae",
   "metadata": {},
   "source": [
    "Metodę wywołujemy wprost"
   ]
  },
  {
   "cell_type": "code",
   "execution_count": null,
   "id": "dd47393c-dbe0-479b-b21f-dcdb1cf85c28",
   "metadata": {},
   "outputs": [],
   "source": [
    "service.createPost(new Post(200, \"nowy\", \"nowy post\"));"
   ]
  },
  {
   "cell_type": "markdown",
   "id": "a652295a-ddad-4eea-81cf-06714660d577",
   "metadata": {},
   "source": [
    "### **@FormUrlEncoded**"
   ]
  },
  {
   "cell_type": "markdown",
   "id": "2eb1607e-3b3b-440e-9b61-574bd4f7e62d",
   "metadata": {},
   "source": [
    "Jeżeli nie chcemy tworzyć nowego obiektu `Post`, możemy podać tylko argumenty - musimy jednak wykorzystać adnotację `@FormUrlEncoded`, każde pole oznaczamy adnotacją `@Field`"
   ]
  },
  {
   "cell_type": "code",
   "execution_count": null,
   "id": "cc2b6037-7488-4a93-96e5-9136d26a5a3b",
   "metadata": {},
   "outputs": [],
   "source": [
    "@FormUrlEncoded\n",
    "@POST(\"posts\")\n",
    "Call<Post> createPost(\n",
    "        @Field(\"userId\") int userId,\n",
    "        @Field(\"title\") String title,\n",
    "        @Field(\"body\") String text\n",
    ");"
   ]
  },
  {
   "cell_type": "markdown",
   "id": "37eaa76a-e2d0-4b98-b386-d5854a0442af",
   "metadata": {},
   "source": [
    "Podobnie jak poprzednio, te dane nie będą umieszczone na serwerze testowym, tylko dostaniemy w odpowiedzi `Response` oraz post który wysłaliśmy"
   ]
  },
  {
   "cell_type": "markdown",
   "id": "15f08a6e-f318-4725-bca1-d89045c79a1a",
   "metadata": {},
   "source": [
    "### **@FieldMap**"
   ]
  },
  {
   "cell_type": "markdown",
   "id": "0c3ed075-e925-4f1d-82a9-48f953edafa8",
   "metadata": {},
   "source": [
    "Podobnie jak przy `GET` możemy utworzyć mapę zamiast podawać wszystkie argumenty, w tym celu korzystamy z adnotacji `@FieldMap`"
   ]
  },
  {
   "cell_type": "code",
   "execution_count": null,
   "id": "9a19f05c-44d9-454a-8301-0d09c397db39",
   "metadata": {},
   "outputs": [],
   "source": [
    "@FormUrlEncoded\n",
    "@POST(\"posts\")\n",
    "Call<Post> createPost(\n",
    "        @FieldMap Map<String, String> param\n",
    ");"
   ]
  },
  {
   "cell_type": "code",
   "execution_count": null,
   "id": "856ee836-f1ed-461d-a44a-a05d9344030a",
   "metadata": {},
   "outputs": [],
   "source": []
  }
 ],
 "metadata": {
  "kernelspec": {
   "display_name": "Java",
   "language": "java",
   "name": "java"
  },
  "language_info": {
   "codemirror_mode": "java",
   "file_extension": ".jshell",
   "mimetype": "text/x-java-source",
   "name": "Java",
   "pygments_lexer": "java",
   "version": "17+35-2724"
  }
 },
 "nbformat": 4,
 "nbformat_minor": 5
}
