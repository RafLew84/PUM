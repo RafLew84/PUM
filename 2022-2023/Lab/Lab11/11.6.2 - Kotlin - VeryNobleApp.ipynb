{
 "cells": [
  {
   "cell_type": "markdown",
   "id": "a1a14104-6dad-443e-872c-65355238928a",
   "metadata": {},
   "source": [
    "## 11.6 VeryNobleApp"
   ]
  },
  {
   "cell_type": "markdown",
   "id": "46c8f2b1-1c6e-4b30-82c4-4742ab701a08",
   "metadata": {},
   "source": [
    "W tej aplikacji wykorzystamy darmowe api ze strony [nabelprize.org](https://app.swaggerhub.com/apis/NobelMedia/NobelMasterData/2.1) do stworzenia aplikacji wyświetlającej nagrody nobla w architekturze `MVVM`. Aplikacja będzie zawierała cztery fragmenty:\n",
    "- `NobelAwardsFragment` wyświetlający listę (`RecyclerView`) wszystkich nagród według kategorii\n",
    "- `NobelAwardFragment` wyświetlający więcej informacji na temat wybranej na poprzednim ekranie nagrody, zawiera również listę (`RecyclerView`) wszystkich laureatów nagrody\n",
    "- `LaureateFragment` wyświetlający więcej informacji na temat wybranego na poprzednim ekranie laureata, również zawiera `RecyclerView` ze wszystkimi nagrodami otrzymanymi przez danego laureata\n",
    "- `WikiFragment` wyświetlający wpis na wikipedii dotyczący wybranego laureate - strona wyświetlana jest za pomocą `WebView`."
   ]
  },
  {
   "cell_type": "markdown",
   "id": "0173744f-3dde-4fd7-92c3-b11798ca484d",
   "metadata": {},
   "source": [
    "<table><tr><td><img src=\"https://media0.giphy.com/media/NuuG5HnAdmdTjLV0DV/giphy.webp\" width=\"200\" /></td><td><img src=\"https://media3.giphy.com/media/6pIR2WozCb81CcuGZo/giphy.webp\" width=\"200\" /></td><td><img src=\"https://media0.giphy.com/media/8QoE7dYN8as4gRjE16/giphy.webp\" width=\"200\" /></td></tr></table>"
   ]
  },
  {
   "cell_type": "markdown",
   "id": "a8fb98af-1962-4914-91fa-d5e9457174e8",
   "metadata": {},
   "source": [
    "\n",
    "Tutaj mniejszy nacisk przyłożymy na warstwę danych (zostanie wygenerowana automatycznie) - skupimy się na implementacji architektury `MVVM` wykorzystując bibliotekę `Retrofit`. Wykorzystamy pojedyncze repozytorium oraz zaimplementujemy osobny `ViewModel` dla każdego fragmentu, który tego wymaga.\n",
    "\n",
    "Rozpocznijmy od zmodyfikowania skryptów `gradle`, do pliku `gradle(Project)` dodajemy możliwość przesyłania argumentów przez `Navigation`"
   ]
  },
  {
   "cell_type": "code",
   "execution_count": null,
   "id": "87c2a2b9-4294-423b-91d4-3eaef5488980",
   "metadata": {},
   "outputs": [],
   "source": [
    "buildscript { // przed blokiem plugins\n",
    "    repositories {\n",
    "        google()\n",
    "    }\n",
    "    dependencies {\n",
    "        classpath \"androidx.navigation:navigation-safe-args-gradle-plugin:2.5.2\"\n",
    "    }\n",
    "}"
   ]
  },
  {
   "cell_type": "markdown",
   "id": "6472c992-8f34-412c-9908-80d76cb6fbd9",
   "metadata": {},
   "source": [
    "Uzupełniamy również plik `gradle(Module)`"
   ]
  },
  {
   "cell_type": "code",
   "execution_count": null,
   "id": "3fc499f2-16a4-49b6-95ce-7eb28ef3c71a",
   "metadata": {},
   "outputs": [],
   "source": [
    "plugins {\n",
    "    id 'com.android.application'\n",
    "    id 'org.jetbrains.kotlin.android'\n",
    "    id 'androidx.navigation.safeargs.kotlin'\n",
    "    id 'kotlin-android'\n",
    "    id 'kotlin-kapt'\n",
    "}\n",
    "...\n",
    "android {\n",
    "    ...\n",
    "    buildFeatures {\n",
    "        viewBinding true\n",
    "    }\n",
    "}\n",
    "...\n",
    "dependencies {\n",
    "    // ViewModel\n",
    "    implementation 'androidx.lifecycle:lifecycle-viewmodel-ktx:2.5.1'\n",
    "    // LiveData\n",
    "    implementation \"androidx.lifecycle:lifecycle-livedata-ktx:2.5.1\"\n",
    "\n",
    "    // Fragment\n",
    "    implementation \"androidx.fragment:fragment-ktx:1.5.2\"\n",
    "\n",
    "    // Navigation\n",
    "    implementation \"androidx.navigation:navigation-fragment-ktx:2.5.2\"\n",
    "    implementation \"androidx.navigation:navigation-ui-ktx:2.5.2\"\n",
    "\n",
    "    // Retrofit\n",
    "    implementation 'com.squareup.retrofit2:retrofit:2.9.0'\n",
    "    implementation 'com.squareup.retrofit2:converter-gson:2.9.0'\n",
    "\n",
    "    // OkHttp\n",
    "    implementation 'com.squareup.okhttp3:logging-interceptor:4.10.0'\n",
    "    ...\n",
    "}"
   ]
  },
  {
   "cell_type": "markdown",
   "id": "4a3763f1-e5ca-4dae-acde-92807c0dbda6",
   "metadata": {},
   "source": [
    "### **`Navigation`**"
   ]
  },
  {
   "cell_type": "markdown",
   "id": "f28f801f-1767-4476-a552-090ddc4110d8",
   "metadata": {},
   "source": [
    "Nawigacja w tej aplikacji będzie liniowa - z jednego fragmetu można przejść do jednego innego fragmentu i z powrotem. Dodajmy nawigację i utwórzmy odpowiednie akcje"
   ]
  },
  {
   "cell_type": "code",
   "execution_count": null,
   "id": "78e86a66-b496-4f34-a29c-d7b8d726676e",
   "metadata": {},
   "outputs": [],
   "source": [
    "<?xml version=\"1.0\" encoding=\"utf-8\"?>\n",
    "<navigation xmlns:android=\"http://schemas.android.com/apk/res/android\"\n",
    "    xmlns:app=\"http://schemas.android.com/apk/res-auto\"\n",
    "    xmlns:tools=\"http://schemas.android.com/tools\"\n",
    "    android:id=\"@+id/navigation\"\n",
    "    app:startDestination=\"@id/nobelAwardsFragment\">\n",
    "\n",
    "    <fragment\n",
    "        android:id=\"@+id/nobelAwardsFragment\"\n",
    "        android:name=\"pl.udu.uwr.pum.verynobleappkotlin.ui.\n",
    "fragments.nobleawards.NobelAwardsFragment\"\n",
    "        android:label=\"Nagrody Nobla\"\n",
    "        tools:layout=\"@layout/fragment_nobel_awards\" >\n",
    "        <action\n",
    "            android:id=\"@+id/action_nobelAwardsFragment_to_nobelAwardFragment\"\n",
    "            app:destination=\"@id/nobelAwardFragment\" >\n",
    "        </action>\n",
    "    </fragment>\n",
    "    <fragment\n",
    "        android:id=\"@+id/nobelAwardFragment\"\n",
    "        android:name=\"pl.udu.uwr.pum.verynobleappkotlin.ui.fragments.nobelaward.NobelAwardFragment\"\n",
    "        android:label=\"Nagroda Nobla\"\n",
    "        tools:layout=\"@layout/fragment_nobel_award\" >\n",
    "        <action\n",
    "            android:id=\"@+id/action_nobelAwardFragment_to_nobelAwardsFragment\"\n",
    "            app:destination=\"@id/nobelAwardsFragment\" />\n",
    "        <action\n",
    "            android:id=\"@+id/action_nobelAwardFragment_to_laureateFragment\"\n",
    "            app:destination=\"@id/laureateFragment\" >\n",
    "        </action>\n",
    "    </fragment>\n",
    "    <fragment\n",
    "        android:id=\"@+id/laureateFragment\"\n",
    "        android:name=\"pl.udu.uwr.pum.verynobleappkotlin.ui.fragments.laureate.LaureateFragment\"\n",
    "        android:label=\"Laureat\"\n",
    "        tools:layout=\"@layout/fragment_laureate\" >\n",
    "        <action\n",
    "            android:id=\"@+id/action_laureateFragment_to_nobelAwardFragment\"\n",
    "            app:destination=\"@id/nobelAwardFragment\" />\n",
    "        <action\n",
    "            android:id=\"@+id/action_laureateFragment_to_wikiLaureateFragment\"\n",
    "            app:destination=\"@id/wikiLaureateFragment\" >\n",
    "        </action>\n",
    "    </fragment>\n",
    "    <fragment\n",
    "        android:id=\"@+id/wikiLaureateFragment\"\n",
    "        android:name=\"pl.udu.uwr.pum.verynobleappkotlin.ui.fragments.wiki.WikiLaureateFragment\"\n",
    "        android:label=\"Wikipedia\"\n",
    "        tools:layout=\"@layout/fragment_wiki_laureate\" />\n",
    "</navigation>"
   ]
  },
  {
   "cell_type": "markdown",
   "id": "82988c1b-1b86-4e8c-9ecd-e8407bcff3c1",
   "metadata": {},
   "source": [
    "### **`Retrofit`**"
   ]
  },
  {
   "cell_type": "markdown",
   "id": "e5f6ef92-274c-40fd-a0ad-b18ad7bb7f67",
   "metadata": {},
   "source": [
    "Wszystkie fragmenty wraz z aktywnością umieszczam w pakiecie `ui`. Dodajmy pakiet `api` do którego dodamy interfejs z metodami dostępowymi (których ciało zostanie wygenerowane przez `Retrofit`), oraz instancję samoego `Retrofit`. Wpierw przyjrzyjmy się naszemu [api](https://app.swaggerhub.com/apis/NobelMedia/NobelMasterData/2.1) - do uzyskania listy wszystkich nagród nobla o zadanej kategorii wykorzystamy endpoint **/nobelPrizes**, bazowym adresem `url` jest https://api.nobelprize.org/ - pełne zapytanie będzie wyglądać następująco\n",
    "  'https://api.nobelprize.org/2.1/nobelPrizes?limit=30&sort=desc&nobelPrizeYear=2000&yearTo=2021&nobelPrizeCategory=eco&format=json'\n",
    "\n",
    "Mamy tutaj serię parametrów:\n",
    "```xml\n",
    "- name: `offset`  \n",
    "  in: query  \n",
    "  description: Liczba elementów pominiętych przed rozpoczęciem zbierania  \n",
    "  type: `integer`  \n",
    "  minimum: 1  \n",
    "\n",
    "- name: `limit`  \n",
    "  in: query  \n",
    "  description: Liczba zwróconych elementów  \n",
    "  type: `integer`  \n",
    "  minimum: 1\n",
    "\n",
    "- name: `sort`  \n",
    "  in: query  \n",
    "  description: Kolejność sortowania  \n",
    "  type: `string`  \n",
    "  enum: [\"asc\", \"desc\"]  \n",
    "\n",
    "- name: `nobelPrizeYear`  \n",
    "  in: query  \n",
    "  description: Rok przyznania nagrody nobla  \n",
    "  type: `integer`  \n",
    "  minimum: 1901\n",
    "\n",
    "- name: `yearTo`  \n",
    "  in: query  \n",
    "  description: Z `nobelPrizeYear` wykorzystywany do wygenerowania zakresu  \n",
    "  type: `integer`  \n",
    "  minimum: 1901\n",
    "\n",
    "- name: `nobelPrizeCategory`  \n",
    "  in: query  \n",
    "  description: Kategoria nagrody nobla  \n",
    "  type: `string`  \n",
    "  enum: [\"che\", \"eco\", \"lit\", \"pea\", \"phy\", \"med\"]\n",
    "\n",
    "- name: `format`  \n",
    "  in: query  \n",
    "  description: Format wyjścia - domyślnie json  \n",
    "  type: `string`  \n",
    "  enum: [\"json\", \"csv\"]\n",
    "\n",
    "- name: `csvLang`  \n",
    "  in: query  \n",
    "  description: Język wyjścia - domyślnie angielski  \n",
    "  type: `string`  \n",
    "  enum: [\"en\", \"se\", \"no\"]\n",
    "```"
   ]
  },
  {
   "cell_type": "markdown",
   "id": "9f524400-3249-4d31-afc0-2ef92cf9f38c",
   "metadata": {},
   "source": [
    "Przykładowy wynik zapytania   https://api.nobelprize.org/2.1/nobelPrizes?limit=1&sort=desc&nobelPrizeYear=2000&nobelPrizeCategory=phy"
   ]
  },
  {
   "cell_type": "markdown",
   "id": "499b82e9-576d-4640-9dcb-c26f6535b325",
   "metadata": {},
   "source": [
    "```json\n",
    "{\n",
    "  \"nobelPrizes\": [\n",
    "    {\n",
    "      \"awardYear\": \"2000\",\n",
    "      \"category\": {\n",
    "        \"en\": \"Physics\",\n",
    "        \"no\": \"Fysikk\",\n",
    "        \"se\": \"Fysik\"\n",
    "      },\n",
    "      \"categoryFullName\": {\n",
    "        \"en\": \"The Nobel Prize in Physics\",\n",
    "        \"no\": \"Nobelprisen i fysikk\",\n",
    "        \"se\": \"Nobelpriset i fysik\"\n",
    "      },\n",
    "      \"dateAwarded\": \"2000-10-10\",\n",
    "      \"topMotivation\": {\n",
    "        \"en\": \"for basic work on information and communication technology\"\n",
    "      },\n",
    "      \"prizeAmount\": 9000000,\n",
    "      \"prizeAmountAdjusted\": 11538617,\n",
    "      \"links\": [\n",
    "        {\n",
    "          \"rel\": \"nobelPrize\",\n",
    "          \"href\": \"https://api.nobelprize.org/2/nobelPrize/phy/2000\",\n",
    "          \"action\": \"GET\",\n",
    "          \"types\": \"application/json\"\n",
    "        }\n",
    "      ],\n",
    "      \"laureates\": [\n",
    "        {\n",
    "          \"id\": \"726\",\n",
    "          \"knownName\": {\n",
    "            \"en\": \"Zhores Alferov\"\n",
    "          },\n",
    "          \"fullName\": {\n",
    "            \"en\": \"Zhores I. Alferov\"\n",
    "          },\n",
    "          \"portion\": \"1/4\",\n",
    "          \"sortOrder\": \"1\",\n",
    "          \"motivation\": {\n",
    "            \"en\": \"for developing semiconductor heterostructures used in high-speed- and opto-electronics\",\n",
    "            \"se\": \"för utvecklingen av halvledarheterostrukturer för höghastighets- och optoelektronik\"\n",
    "          },\n",
    "          \"links\": [\n",
    "            {\n",
    "              \"rel\": \"laureate\",\n",
    "              \"href\": \"https://api.nobelprize.org/2/laureate/726\",\n",
    "              \"action\": \"GET\",\n",
    "              \"types\": \"application/json\"\n",
    "            }\n",
    "          ]\n",
    "        },\n",
    "        {\n",
    "          \"id\": \"727\",\n",
    "          \"knownName\": {\n",
    "            \"en\": \"Herbert Kroemer\"\n",
    "          },\n",
    "          \"fullName\": {\n",
    "            \"en\": \"Herbert Kroemer\"\n",
    "          },\n",
    "          \"portion\": \"1/4\",\n",
    "          \"sortOrder\": \"2\",\n",
    "          \"motivation\": {\n",
    "            \"en\": \"for developing semiconductor heterostructures used in high-speed- and opto-electronics\",\n",
    "            \"se\": \"för utvecklingen av halvledarheterostrukturer för höghastighets- och optoelektronik\"\n",
    "          },\n",
    "          \"links\": [\n",
    "            {\n",
    "              \"rel\": \"laureate\",\n",
    "              \"href\": \"https://api.nobelprize.org/2/laureate/727\",\n",
    "              \"action\": \"GET\",\n",
    "              \"types\": \"application/json\"\n",
    "            }\n",
    "          ]\n",
    "        },\n",
    "        {\n",
    "          \"id\": \"728\",\n",
    "          \"knownName\": {\n",
    "            \"en\": \"Jack Kilby\"\n",
    "          },\n",
    "          \"fullName\": {\n",
    "            \"en\": \"Jack S. Kilby\"\n",
    "          },\n",
    "          \"portion\": \"1/2\",\n",
    "          \"sortOrder\": \"3\",\n",
    "          \"motivation\": {\n",
    "            \"en\": \"for his part in the invention of the integrated circuit\",\n",
    "            \"se\": \"för hans del i uppfinningen av den integrerade kretsen\"\n",
    "          },\n",
    "          \"links\": [\n",
    "            {\n",
    "              \"rel\": \"laureate\",\n",
    "              \"href\": \"https://api.nobelprize.org/2/laureate/728\",\n",
    "              \"action\": \"GET\",\n",
    "              \"types\": \"application/json\"\n",
    "            }\n",
    "          ]\n",
    "        }\n",
    "      ]\n",
    "    }\n",
    "  ],\n",
    "  \"meta\": {\n",
    "    \"offset\": 0,\n",
    "    \"limit\": 1,\n",
    "    \"nobelPrizeYear\": 2000,\n",
    "    \"nobelPrizeCategory\": \"phy\",\n",
    "    \"count\": 1,\n",
    "    \"terms\": \"https://www.nobelprize.org/about/terms-of-use-for-api-nobelprize-org-and-data-nobelprize-org/\",\n",
    "    \"license\": \"https://www.nobelprize.org/about/terms-of-use-for-api-nobelprize-org-and-data-nobelprize-org/#licence\",\n",
    "    \"disclaimer\": \"https://www.nobelprize.org/about/terms-of-use-for-api-nobelprize-org-and-data-nobelprize-org/#disclaimer\"\n",
    "  }\n",
    "}\n",
    "```"
   ]
  },
  {
   "cell_type": "markdown",
   "id": "2ca30152-04e6-4037-9ded-7b1ef0af37c7",
   "metadata": {},
   "source": [
    "Możemy wynik zmapować przy pomocy pluginu w Android Studio - `JSONToKotlinClass` - w efekcie dostaniemy całą serię klas, które dodajemy do pakietu `data`"
   ]
  },
  {
   "cell_type": "code",
   "execution_count": null,
   "id": "0d82ac61-7d08-4629-b47c-68bd5df2b4d4",
   "metadata": {},
   "outputs": [],
   "source": [
    "data class NobelPrizeResponse(\n",
    "    val meta: Meta,\n",
    "    val nobelPrizes: List<NobelPrize>\n",
    ")\n",
    "\n",
    "data class Meta(\n",
    "    val count: Int,\n",
    "    val disclaimer: String,\n",
    "    val license: String,\n",
    "    val limit: Int,\n",
    "    val nobelPrizeCategory: String,\n",
    "    val nobelPrizeYear: Int,\n",
    "    val offset: Int,\n",
    "    val terms: String,\n",
    "    val yearTo: Int\n",
    ")\n",
    "\n",
    "data class NobelPrize(\n",
    "    val awardYear: String,\n",
    "    val category: Category,\n",
    "    val categoryFullName: CategoryFullName,\n",
    "    val dateAwarded: String,\n",
    "    val laureates: List<Laureate>?,\n",
    "    val links: List<LinkX>,\n",
    "    val prizeAmount: Int,\n",
    "    val prizeAmountAdjusted: Int,\n",
    "    val topMotivation: TopMotivation?\n",
    ")\n",
    "\n",
    "data class Category(\n",
    "    val en: String,\n",
    "    val no: String,\n",
    "    val se: String\n",
    ")\n",
    "\n",
    "data class CategoryFullName(\n",
    "    val en: String,\n",
    "    val no: String,\n",
    "    val se: String\n",
    ")\n",
    "\n",
    "data class TopMotivation(\n",
    "    val en: String\n",
    ")\n",
    "\n",
    "data class Laureate(\n",
    "    val fullName: FullName?,\n",
    "    val id: String,\n",
    "    val knownName: KnownName,\n",
    "    val links: List<LinkX>,\n",
    "    val motivation: Motivation,\n",
    "    val portion: String,\n",
    "    val sortOrder: String\n",
    ")\n",
    "\n",
    "data class FullName(\n",
    "    val en: String?\n",
    ")\n",
    "\n",
    "data class KnownName(\n",
    "    val en: String\n",
    ")\n",
    "\n",
    "data class Motivation(\n",
    "    val en: String\n",
    ")\n",
    "\n",
    "data class LinkX(\n",
    "    val action: String,\n",
    "    val href: String,\n",
    "    val rel: String,\n",
    "    val types: String\n",
    ")"
   ]
  },
  {
   "cell_type": "markdown",
   "id": "a91a0e49-e647-4943-9f5f-0e3b896a1773",
   "metadata": {},
   "source": [
    "Główną klasą jest `NobelPrizeResponse`, zawierającą metadane oraz listę nagród nobla - w tej aplikacji nie wykorzystamy wszystkich danych, lecz możemy pozostawić wygenerowane klasy bez zmian.\n",
    "\n",
    "Do pakietu `api` dodajmy interfejs `NobelPrizeApi` i zdefiniujmy metodę zwracającą listę nagród dla zadanej kategorii. Będziemy zapytania wykonywać **asynchronicznie**, więc definiujemy `getNobelProzes` jako funkcję zawieszoną"
   ]
  },
  {
   "cell_type": "code",
   "execution_count": null,
   "id": "0c9edaeb-ba20-4397-b1ed-f6ec1251c209",
   "metadata": {},
   "outputs": [],
   "source": [
    "interface NobelPrizeApi {\n",
    "    @GET(\"2.1/nobelPrizes\")\n",
    "    suspend fun getNobelPrizes(\n",
    "        @Query(\"limit\") limit: Int = 200,\n",
    "        @Query(\"sort\") sort: String = \"desc\",\n",
    "        @Query(\"nobelPrizeYear\") yearFrom: Int = 1901,\n",
    "        @Query(\"yearTo\") yearTo: Int = 2022,\n",
    "        @Query(\"nobelPrizeCategory\") category: String,\n",
    "        @Query(\"format\") format: String = \"json\"\n",
    "    ) : Response<NobelPrizeResponse>\n",
    "}"
   ]
  },
  {
   "cell_type": "markdown",
   "id": "fb7e6b08-e3d1-49b3-b926-2bc13f43089a",
   "metadata": {},
   "source": [
    "Następnie utwórzmy instancję `Retrofit` - do pakietu `api` dodajmy obiekt `RetrofitInstance`. Wykorzystamy również `HttpLoggingInterceptor` w celu sprawdzenia odpowiedzi."
   ]
  },
  {
   "cell_type": "code",
   "execution_count": null,
   "id": "6e3df8f4-24c1-4fd0-8a28-fbcd6acb758a",
   "metadata": {},
   "outputs": [],
   "source": [
    "object RetrofitInstance {\n",
    "    val api: NobelPrizeApi by lazy {\n",
    "        val logging = HttpLoggingInterceptor()\n",
    "        logging.setLevel(HttpLoggingInterceptor.Level.BODY)\n",
    "        val client = OkHttpClient.Builder()\n",
    "            .addInterceptor(logging)\n",
    "            .build()\n",
    "        Retrofit.Builder()\n",
    "            .baseUrl(baseUrl)\n",
    "            .addConverterFactory(GsonConverterFactory.create())\n",
    "            .client(client)\n",
    "            .build()\n",
    "            .create(NobelPrizeApi::class.java)\n",
    "    }\n",
    "}"
   ]
  },
  {
   "cell_type": "markdown",
   "id": "c9e2a28d-312a-402e-8019-f9f7c54453c3",
   "metadata": {},
   "source": [
    "Do pakietu `util` dodajmy plik `Constants` w którym zdefiniujemy `baseUrl`"
   ]
  },
  {
   "cell_type": "code",
   "execution_count": null,
   "id": "fb4772cd-6605-480a-b73f-8e3177f9cbf8",
   "metadata": {},
   "outputs": [],
   "source": [
    "const val baseUrl: String = \"https://api.nobelprize.org/\""
   ]
  },
  {
   "cell_type": "markdown",
   "id": "16325191-799c-452f-840b-ee4afa92b6da",
   "metadata": {},
   "source": [
    "Do manifestu dodajmy upoważnienie na dostęp do internetu"
   ]
  },
  {
   "cell_type": "code",
   "execution_count": null,
   "id": "91ad7304-20ad-4b5e-ae83-55ad1e557c0f",
   "metadata": {},
   "outputs": [],
   "source": [
    "<uses-permission android:name=\"android.permission.INTERNET\"/>"
   ]
  },
  {
   "cell_type": "markdown",
   "id": "fd5f98cd-fe19-4d26-828a-e2ae5edaf852",
   "metadata": {},
   "source": [
    "### **szkielet `MVVM`**"
   ]
  },
  {
   "cell_type": "markdown",
   "id": "edda5981-d52e-4b26-a33f-bc71c61e544d",
   "metadata": {},
   "source": [
    "Rozpocznijmy od repozytorium (w pakiecie `repository`) - zawiera jedną metodę `getNobelPrizes`"
   ]
  },
  {
   "cell_type": "code",
   "execution_count": null,
   "id": "b24e41ec-c95f-458c-aa27-b63da1c049fc",
   "metadata": {},
   "outputs": [],
   "source": [
    "class NobelRepository {\n",
    "    suspend fun getNobelPrizes(category: String) = \n",
    "    RetrofitInstance.api.getNobelPrizes(category=category)\n",
    "}"
   ]
  },
  {
   "cell_type": "markdown",
   "id": "ede5431f-64d2-4b5d-81ed-673230011448",
   "metadata": {},
   "source": [
    "Dodajmy do pakietu zawierającego `NobelAwardsFragment` (`ui.fragments.nobelawards`) odpowiedni `ViewModel`"
   ]
  },
  {
   "cell_type": "code",
   "execution_count": null,
   "id": "dd2ab71e-c79d-4139-a4fe-e81914e6528c",
   "metadata": {},
   "outputs": [],
   "source": [
    "class NobelPrizesViewModel : ViewModel() {\n",
    "    private val repository = NobelRepository()\n",
    "    private val _nobelPrizes: \n",
    "    MutableLiveData<NobelPrizeResponse> = MutableLiveData()\n",
    "\n",
    "    val noblePrizes: LiveData<NobelPrizeResponse>\n",
    "        get() = _nobelPrizes\n",
    "}"
   ]
  },
  {
   "cell_type": "markdown",
   "id": "998eeb20-86a4-4e54-bca0-94fe7851983f",
   "metadata": {},
   "source": [
    "Odbieramy dane jako `NobelPrizeResponse` - przechowujemy je jako `MutableLiveData` w prywatnej wartości `_nobelPrizes`. Dodajemy pole wspomagające z getterem, które wystawimy jako publiczne - zwraca `LiveData` (niemutowalne).\n",
    "\n",
    "Jest to niewystarczające do pełnego odebrania odpowiedzi - wprowadźmy wrapper zalecany przez **Google** - do pakietu `util` dodajmy klasę `Resource` - będzie to klasa generyczna, zapieczętowana. Klasa ta pozwoli nam na rozróżnienie odpowiedzi poprawnej od błędnej, oraz określenie stanu ładowania. W konstruktorze umieszczamy dwa pola\n",
    "- `data` - typu `T` zawierającą otrzymane dane\n",
    "- `message` - typu `String` zawierającą komunikat błędu\n",
    "Domyślnie inicjujemy obie wartości jako `null`"
   ]
  },
  {
   "cell_type": "code",
   "execution_count": null,
   "id": "703c62d8-70ec-4415-b46e-90697e1a085d",
   "metadata": {},
   "outputs": [],
   "source": [
    "sealed class Resource<T> (\n",
    "    val data: T? = null,\n",
    "    val message: String? = null\n",
    "){}"
   ]
  },
  {
   "cell_type": "markdown",
   "id": "d904444d-0da2-4156-ba5b-434fc884c92e",
   "metadata": {},
   "source": [
    "Ponieważ jest to klasa zapieczętowana, mamy pełną kontrolę nad klasami które mogą ją rozszerzać. W ciele `Resource` zdefiniujemy trzy klasy reprezentujące trzy stany\n",
    "- `Success` - klasa rozszerzająca klasę `Resource`, jeżeli dostaniemy poprawną odpowiedź nasz `Response` posiada `body`, więc jako argument konstruktora podajemy `data` który otrzymujemy - `message` pozostaje jako `null` (nie ma błędu)"
   ]
  },
  {
   "cell_type": "code",
   "execution_count": null,
   "id": "e67c2ee7-0775-4d78-aab2-6e4faba5c174",
   "metadata": {},
   "outputs": [],
   "source": [
    "class Success<T>(data: T) : Resource<T>(data)"
   ]
  },
  {
   "cell_type": "markdown",
   "id": "79cfbc8b-2642-4562-92a6-8a45128dbf11",
   "metadata": {},
   "source": [
    "- `Error` - klasa rozszerzająca klasę `Resource`, jeżeli zostanie wygenerowany błąd, dostaniemy odpowiedni komunikat, który przekazujemy w konstruktorze. Przy tej odpowiedzi nasz `Response` może posiadać `body` (opcjonalnie), więc jako drugi argument przekazujemy `data` jako typ zerowalny zainicjowany domyślnie `null`"
   ]
  },
  {
   "cell_type": "code",
   "execution_count": null,
   "id": "9a429a45-3753-411d-b72d-aebc5eebf067",
   "metadata": {},
   "outputs": [],
   "source": [
    "class Error<T>(message: String, data: T? = null) : Resource<T>(data, message)"
   ]
  },
  {
   "cell_type": "markdown",
   "id": "b82f6ce8-ddc8-4603-82cd-d7282bc63431",
   "metadata": {},
   "source": [
    "- `Loading` - klasa rozszerzająca klasę `Resource`, reprezentująca stan ładowania - nie posiada parametrów konstruktora"
   ]
  },
  {
   "cell_type": "code",
   "execution_count": null,
   "id": "404376af-6b44-49b9-8f9a-d4f07574cea6",
   "metadata": {},
   "outputs": [],
   "source": [
    "class Loading<T> : Resource<T>()"
   ]
  },
  {
   "cell_type": "markdown",
   "id": "389d0e8b-6c4c-4a4d-9630-d1cea71e9ef1",
   "metadata": {},
   "source": [
    "Pełny kod klasy `Resource`"
   ]
  },
  {
   "cell_type": "code",
   "execution_count": null,
   "id": "64280afe-1037-48d9-8595-4ec9f119daad",
   "metadata": {},
   "outputs": [],
   "source": [
    "sealed class Resource<T> (\n",
    "    val data: T? = null,\n",
    "    val message: String? = null\n",
    "){\n",
    "    class Success<T>(data: T) : Resource<T>(data)\n",
    "    class Error<T>(message: String, data: T? = null) : Resource<T>(data, message)\n",
    "    class Loading<T> : Resource<T>()\n",
    "}"
   ]
  },
  {
   "cell_type": "markdown",
   "id": "2c704814-a1ca-45fa-a4d8-54de9ad52bbf",
   "metadata": {},
   "source": [
    "Gdy wykonamy żądanie, emitujemy stan `Loading`, po otrzymaniu odpowiedzi emitujemy `Success` lub `Error`"
   ]
  },
  {
   "cell_type": "markdown",
   "id": "3885a252-7667-463b-9266-82b472bb8b23",
   "metadata": {},
   "source": [
    "Powróćmy do klasy `NobelPrizesViewModel` - teraz nasze `LiveData` będzie typu `Resource<NobelPrizeResponse>`"
   ]
  },
  {
   "cell_type": "code",
   "execution_count": null,
   "id": "86629011-47bf-4425-85a1-00c855d22801",
   "metadata": {},
   "outputs": [],
   "source": [
    "class NobelPrizesViewModel : ViewModel() {\n",
    "    private val repository = NobelRepository()\n",
    "    private val _nobelPrizes: \n",
    "    MutableLiveData<Resource<NobelPrizeResponse>> = MutableLiveData()\n",
    "\n",
    "    val noblePrizes: LiveData<Resource<NobelPrizeResponse>>\n",
    "        get() = _nobelPrizes"
   ]
  },
  {
   "cell_type": "markdown",
   "id": "47bfc9ef-018a-4e6d-a406-2a09ea98226e",
   "metadata": {},
   "source": [
    "Dodajmy metodę obsługującą `Response`, która wyemituje odpowiedni stan w zależności od stanu odpowiedzi."
   ]
  },
  {
   "cell_type": "code",
   "execution_count": null,
   "id": "7ea1fb4a-b923-4a00-938a-c5c648dfbdfc",
   "metadata": {},
   "outputs": [],
   "source": [
    "private fun handleNobelPrizesResponse(response: Response<NobelPrizeResponse>)\n",
    ": Resource<NobelPrizeResponse>{\n",
    "    if (response.isSuccessful)\n",
    "        response.body()?.let { return Resource.Success(it) }\n",
    "    return Resource.Error(response.message())\n",
    "}"
   ]
  },
  {
   "cell_type": "markdown",
   "id": "da351e7a-0cf3-4d52-95cf-a703f80d961a",
   "metadata": {},
   "source": [
    "Funkcja zwraca odpowiedni `Resource`, jeżeli `response.isSuccessful` jest spełniony chcemy wyemitować stan `Resource.Success`, przyjmujący dane jako parametr konstruktora. W przeciwnym razie zwracamy obiekt `Resource.Error` z odpowiednim komunikatem.\n",
    "\n",
    "Następnie zdefiniujmy funkcję zwracającą listę wszystkich nagród dla zadanej kategorii."
   ]
  },
  {
   "cell_type": "code",
   "execution_count": null,
   "id": "bfe80d8e-a37d-439d-8b59-8ab56119d4d0",
   "metadata": {},
   "outputs": [],
   "source": [
    "fun getNobelPrizes(category: String) = viewModelScope.launch {}"
   ]
  },
  {
   "cell_type": "markdown",
   "id": "76d1b977-2892-42d8-bea8-efc8978801c2",
   "metadata": {},
   "source": [
    "W pierwszym kroku, po wykonaniu żądania, emitujemy stan ładowania"
   ]
  },
  {
   "cell_type": "code",
   "execution_count": null,
   "id": "a8cf1c04-54e8-41af-ae78-bd78ce5c2554",
   "metadata": {},
   "outputs": [],
   "source": [
    "_nobelPrizes.postValue(Resource.Loading())"
   ]
  },
  {
   "cell_type": "markdown",
   "id": "42fc8ca2-5f37-485b-918c-8dda441ad21b",
   "metadata": {},
   "source": [
    "Następnie wywołujemy metodę `getNobelPrizes` z naszego repozytorium"
   ]
  },
  {
   "cell_type": "code",
   "execution_count": null,
   "id": "f443711f-f5f1-4bdd-a3c7-35300d6543ae",
   "metadata": {},
   "outputs": [],
   "source": [
    "val response = repository.getNobelPrizes(category= category)"
   ]
  },
  {
   "cell_type": "markdown",
   "id": "37d0d796-6125-4fab-a319-d58b9a8d6917",
   "metadata": {},
   "source": [
    "Następnie do `MutableLiveData` emitujemy stan zależny od otrzymanej odpowiedzi - w tym celu korzystamy z wcześniej zdefiniowanej funkcji `handleNobelPrizesResponse`"
   ]
  },
  {
   "cell_type": "code",
   "execution_count": null,
   "id": "c08f8ebd-008a-4a70-ada4-e8ffb1dce835",
   "metadata": {},
   "outputs": [],
   "source": [
    "_nobelPrizes.postValue(handleNobelPrizesResponse(response))"
   ]
  },
  {
   "cell_type": "markdown",
   "id": "c788a283-ca04-4022-a5af-fa0fd556d6d2",
   "metadata": {},
   "source": [
    "Pełny kod metody `getNobelPrizes`"
   ]
  },
  {
   "cell_type": "code",
   "execution_count": null,
   "id": "defa9c53-ff51-4ff1-846b-4d11a1a4a9e8",
   "metadata": {},
   "outputs": [],
   "source": [
    "fun getNobelPrizes(category: String) = viewModelScope.launch {\n",
    "    _nobelPrizes.postValue(Resource.Loading())\n",
    "    val response = repository.getNobelPrizes(category= category)\n",
    "    _nobelPrizes.postValue(handleNobelPrizesResponse(response))\n",
    "}"
   ]
  },
  {
   "cell_type": "markdown",
   "id": "831f1a9a-bb29-422d-a522-8f72f9eb5f62",
   "metadata": {},
   "source": [
    "Ponieważ nie przy starcie aplikacji chcemy wyświetlić dane - tutaj będą to wszystkie nagrody dla fizyki - musimy określić kategorie. Przejdźmy do pliku `Constants` w pakiecie `util` i dodajmy klasę wyliczeniową wraz z mapą pozwalającą na wybór kategorii."
   ]
  },
  {
   "cell_type": "code",
   "execution_count": null,
   "id": "1be036f3-d697-47cc-9418-0a1638a3421b",
   "metadata": {},
   "outputs": [],
   "source": [
    "enum class Cat{\n",
    "    PHYSICS, CHEMISTRY, LITERATURE, PEACE, ECONOMY, PHYSIOLOGYORMEDICINE\n",
    "}\n",
    "\n",
    "val categories = mapOf(\n",
    "    Cat.PHYSICS to \"phy\",\n",
    "    Cat.CHEMISTRY to \"che\",\n",
    "    Cat.ECONOMY to \"eco\",\n",
    "    Cat.LITERATURE to \"lit\",\n",
    "    Cat.PEACE to \"pea\",\n",
    "    Cat.PHYSIOLOGYORMEDICINE to \"med\"\n",
    ")"
   ]
  },
  {
   "cell_type": "markdown",
   "id": "7f760a53-24c5-4831-8815-2766296ba908",
   "metadata": {},
   "source": [
    "W naszym `NobelAwardsViewModel` wywołajmy funkcję `getNobelPrizes` w bloku `init` - co pozwoli nam zainicjować listę przy starcie aplikacji."
   ]
  },
  {
   "cell_type": "code",
   "execution_count": null,
   "id": "31df221c-d4b8-457f-82b4-68589cd7ab97",
   "metadata": {},
   "outputs": [],
   "source": [
    "init {\n",
    "    categories[Cat.PHYSICS]?.let { getNobelPrizes(category = it) }\n",
    "}"
   ]
  },
  {
   "cell_type": "markdown",
   "id": "2da308fc-6fae-40dc-adf8-49f5652015e3",
   "metadata": {},
   "source": [
    "### **`NobelAwardsFragment`**"
   ]
  },
  {
   "cell_type": "markdown",
   "id": "9f0b4d65-0dff-4d6a-8f19-18bffe825029",
   "metadata": {},
   "source": [
    "Przejdźmy do fragmentu i rozpocznijmy od layoutu"
   ]
  },
  {
   "cell_type": "code",
   "execution_count": null,
   "id": "25db7216-5b53-4a21-adfa-006546eac49b",
   "metadata": {},
   "outputs": [],
   "source": [
    "<?xml version=\"1.0\" encoding=\"utf-8\"?>\n",
    "<androidx.constraintlayout.widget.ConstraintLayout \n",
    "xmlns:android=\"http://schemas.android.com/apk/res/android\"\n",
    "    xmlns:app=\"http://schemas.android.com/apk/res-auto\"\n",
    "    xmlns:tools=\"http://schemas.android.com/tools\"\n",
    "    android:layout_width=\"match_parent\"\n",
    "    android:layout_height=\"match_parent\">\n",
    "\n",
    "    <Spinner\n",
    "        android:id=\"@+id/categorySpinner\"\n",
    "        style=\"@style/Widget.AppCompat.Spinner\"\n",
    "        android:layout_width=\"match_parent\"\n",
    "        android:layout_height=\"wrap_content\"\n",
    "        android:drawSelectorOnTop=\"true\"\n",
    "        app:layout_constraintEnd_toEndOf=\"parent\"\n",
    "        app:layout_constraintStart_toStartOf=\"parent\"\n",
    "        app:layout_constraintTop_toTopOf=\"parent\" />\n",
    "\n",
    "    <androidx.recyclerview.widget.RecyclerView\n",
    "        android:id=\"@+id/nobelPrizeRV\"\n",
    "        android:layout_width=\"match_parent\"\n",
    "        android:layout_height=\"0dp\"\n",
    "        android:layout_margin=\"8dp\"\n",
    "        app:layout_constraintEnd_toEndOf=\"parent\"\n",
    "        app:layout_constraintTop_toBottomOf=\"@+id/categorySpinner\" />\n",
    "\n",
    "    <ProgressBar\n",
    "        android:id=\"@+id/nobelPrizeProgressBar\"\n",
    "        android:layout_width=\"wrap_content\"\n",
    "        android:layout_height=\"wrap_content\"\n",
    "        android:layout_gravity=\"center\"\n",
    "        android:layout_marginTop=\"8dp\"\n",
    "        android:background=\"@android:color/transparent\"\n",
    "        android:visibility=\"invisible\"\n",
    "        app:layout_constraintEnd_toEndOf=\"parent\"\n",
    "        app:layout_constraintStart_toStartOf=\"parent\"\n",
    "        app:layout_constraintTop_toBottomOf=\"@+id/categorySpinner\" />\n",
    "\n",
    "</androidx.constraintlayout.widget.ConstraintLayout>"
   ]
  },
  {
   "cell_type": "markdown",
   "id": "c681f490-e31e-4685-bac7-5675182c339a",
   "metadata": {},
   "source": [
    "Wykorzystamy trzy elementy\n",
    "- `Spinner` do wyboru kategorii\n",
    "- `RecyclerView` do wyświetlenia listy\n",
    "- `ProgressBar` wyświetlany przy ładowaniu danych\n",
    "\n",
    "Zdefiniujmy layout dla elementu spinnera"
   ]
  },
  {
   "cell_type": "code",
   "execution_count": null,
   "id": "76ac8b88-3417-4a33-b6ad-e15acb2814fe",
   "metadata": {},
   "outputs": [],
   "source": [
    "<TextView xmlns:android=\"http://schemas.android.com/apk/res/android\"\n",
    "    android:id=\"@+id/spinner_layout\"\n",
    "    android:layout_width=\"match_parent\"\n",
    "    android:layout_height=\"wrap_content\"\n",
    "    android:ellipsize=\"marquee\"\n",
    "    android:fontFamily=\"sans-serif\"\n",
    "    android:gravity=\"center\"\n",
    "    android:singleLine=\"true\"\n",
    "    android:text=\"\"\n",
    "    android:padding=\"10dp\"\n",
    "    android:textSize=\"24sp\" />"
   ]
  },
  {
   "cell_type": "markdown",
   "id": "457e2e1f-34c5-4e64-bda8-18c617dd799e",
   "metadata": {},
   "source": [
    "oraz dla pojedynczego elementu `RecyclerView`"
   ]
  },
  {
   "cell_type": "code",
   "execution_count": null,
   "id": "28695d86-8d09-4824-be8e-236d2b2baefd",
   "metadata": {},
   "outputs": [],
   "source": [
    "<?xml version=\"1.0\" encoding=\"utf-8\"?>\n",
    "\n",
    "<androidx.cardview.widget.CardView xmlns:android=\"http://schemas.android.com/apk/res/android\"\n",
    "    xmlns:app=\"http://schemas.android.com/apk/res-auto\"\n",
    "    android:layout_width=\"match_parent\"\n",
    "    android:layout_height=\"wrap_content\"\n",
    "    app:cardCornerRadius=\"30dp\"\n",
    "    app:cardElevation=\"15dp\"\n",
    "    app:cardBackgroundColor=\"@color/teal_200\"\n",
    "    android:layout_margin=\"8dp\"\n",
    "    >\n",
    "<androidx.constraintlayout.widget.ConstraintLayout\n",
    "    android:layout_width=\"match_parent\"\n",
    "    android:layout_height=\"wrap_content\"\n",
    "\n",
    "    android:layout_marginTop=\"16dp\"\n",
    "    >\n",
    "\n",
    "        <TextView\n",
    "            android:id=\"@+id/year\"\n",
    "            android:layout_width=\"wrap_content\"\n",
    "            android:layout_height=\"wrap_content\"\n",
    "            android:layout_margin=\"8dp\"\n",
    "            android:layout_marginBottom=\"46dp\"\n",
    "            android:text=\"2000\"\n",
    "            android:textSize=\"24sp\"\n",
    "            app:layout_constraintBottom_toBottomOf=\"@+id/motivation\"\n",
    "            app:layout_constraintStart_toStartOf=\"parent\"\n",
    "            app:layout_constraintTop_toTopOf=\"parent\" />\n",
    "\n",
    "        <TextView\n",
    "            android:id=\"@+id/listOfLaureates\"\n",
    "            android:layout_width=\"0dp\"\n",
    "            android:layout_height=\"wrap_content\"\n",
    "            android:layout_margin=\"8dp\"\n",
    "            android:fontFamily=\"sans-serif-smallcaps\"\n",
    "            android:text=\"Syukuro Manabe, Klaus Hasselmann, Klaus Hasselmann, Klaus Hasselmann\"\n",
    "            android:textAlignment=\"textStart\"\n",
    "            android:textSize=\"18sp\"\n",
    "            app:layout_constraintEnd_toEndOf=\"parent\"\n",
    "            app:layout_constraintStart_toEndOf=\"@+id/year\"\n",
    "            app:layout_constraintTop_toTopOf=\"parent\" />\n",
    "\n",
    "        <TextView\n",
    "            android:id=\"@+id/motivation\"\n",
    "            android:layout_width=\"0dp\"\n",
    "            android:layout_height=\"wrap_content\"\n",
    "            android:layout_margin=\"8dp\"\n",
    "            android:fontFamily=\"sans-serif-black\"\n",
    "            android:text=\"for groundbreaking contributions to our understanding of complex physical systems\"\n",
    "            app:layout_constraintEnd_toEndOf=\"parent\"\n",
    "            app:layout_constraintStart_toEndOf=\"@+id/year\"\n",
    "            app:layout_constraintTop_toBottomOf=\"@+id/listOfLaureates\" />\n",
    "\n",
    "</androidx.constraintlayout.widget.ConstraintLayout>\n",
    "\n",
    "</androidx.cardview.widget.CardView>"
   ]
  },
  {
   "cell_type": "markdown",
   "id": "d6ebd9c7-35a9-4ee0-81be-62a32c76465b",
   "metadata": {},
   "source": [
    "Kolejnym niezbędnym elementem jest adapter dla `RecyclerView` - dodajmy pakiet `adapters.nobelprizes` - skorzystamy z `ListAdapter`, więc musimy utworzyć trzy klasy. Rozpocznijmy od `ViewHolder`"
   ]
  },
  {
   "cell_type": "code",
   "execution_count": null,
   "id": "4be94c81-4f2c-41df-ad3a-1044fd6235c4",
   "metadata": {},
   "outputs": [],
   "source": [
    "class NobelPrizeViewHolder(private val binding: NobelPrizeRvItemBinding)\n",
    "    : RecyclerView.ViewHolder(binding.root){}"
   ]
  },
  {
   "cell_type": "markdown",
   "id": "cfdeffc5-1632-45fb-b173-f653ebd53ea8",
   "metadata": {},
   "source": [
    "Ponieważ dostęp do laureatów nagrody mamy przez listę, a chcemy wyświetlić ich `FullName` w polu `TextView`, dodajmy metodę zwracającą sformatowany `String`"
   ]
  },
  {
   "cell_type": "code",
   "execution_count": null,
   "id": "2e9d3922-7ed2-422d-a45e-891f4facb095",
   "metadata": {},
   "outputs": [],
   "source": [
    "private fun laureates(item: NobelPrize): String{\n",
    "    val laureates = StringBuilder()\n",
    "    item.laureates?\n",
    "    .forEach { laureates.append(it.fullName?.en?:\"no name\").append(\" ; \") }\n",
    "        ?: laureates.append(\"no names\")\n",
    "    return laureates.toString()\n",
    "}"
   ]
  },
  {
   "cell_type": "markdown",
   "id": "02ce2bbf-e62f-47f2-913d-6854d7e0c052",
   "metadata": {},
   "source": [
    "Tutaj musimy zwrócić uwagę, że pola które otrzymujemy z serwera mogą być puste (`null`), musimy te przypadki również obsłużyć. Dodajmy funkcję `bind`"
   ]
  },
  {
   "cell_type": "code",
   "execution_count": null,
   "id": "9acadcfd-5d0a-428d-b01a-d678706eac39",
   "metadata": {},
   "outputs": [],
   "source": [
    "fun bind(item: NobelPrize){\n",
    "    binding.year.text = item.awardYear\n",
    "    binding.motivation.text = item.topMotivation?.en?:\"not specified\"\n",
    "    binding.listOfLaureates.text = laureates(item)\n",
    "}"
   ]
  },
  {
   "cell_type": "markdown",
   "id": "bb6095c6-f2a2-47a9-a75e-286e491c0012",
   "metadata": {},
   "source": [
    "Zdefiniujmy `Comparator` oraz `Adapter`"
   ]
  },
  {
   "cell_type": "code",
   "execution_count": null,
   "id": "32413e03-5b62-4d00-adb1-558dbcc8f99f",
   "metadata": {},
   "outputs": [],
   "source": [
    "class NobelPrizeComparator : DiffUtil.ItemCallback<NobelPrize>() {\n",
    "    override fun areItemsTheSame(oldItem: NobelPrize, newItem: NobelPrize): Boolean {\n",
    "        return oldItem.awardYear == newItem.awardYear\n",
    "    }\n",
    "\n",
    "    override fun areContentsTheSame(oldItem: NobelPrize, newItem: NobelPrize): Boolean {\n",
    "        return oldItem == newItem\n",
    "    }\n",
    "}"
   ]
  },
  {
   "cell_type": "code",
   "execution_count": null,
   "id": "647c593c-8d94-4edc-b3e3-563148d6c832",
   "metadata": {},
   "outputs": [],
   "source": [
    "class NobelPrizeAdapter(itemComparator: NobelPrizeComparator) \n",
    "    : ListAdapter<NobelPrize, NobelPrizeViewHolder>(itemComparator) {\n",
    "    override fun onCreateViewHolder(parent: ViewGroup, viewType: Int): NobelPrizeViewHolder {\n",
    "        return NobelPrizeViewHolder(NobelPrizeRvItemBinding.inflate(\n",
    "            LayoutInflater.from(parent.context), parent, false\n",
    "        ))\n",
    "    }\n",
    "\n",
    "    override fun onBindViewHolder(holder: NobelPrizeViewHolder, position: Int) {\n",
    "        val item = getItem(position)\n",
    "        holder.bind(item)\n",
    "    }\n",
    "}"
   ]
  },
  {
   "cell_type": "markdown",
   "id": "d546a6ca-d563-45e1-b36f-b1788c008633",
   "metadata": {},
   "source": [
    "Przejdźmy do `NobelAwardsFragment` - dodajmy `viewModel`"
   ]
  },
  {
   "cell_type": "code",
   "execution_count": null,
   "id": "0bf995d3-4c13-4270-b15a-8af4a91c3ca8",
   "metadata": {},
   "outputs": [],
   "source": [
    "private val nobelPrizesViewModel: NobelPrizesViewModel by viewModels()"
   ]
  },
  {
   "cell_type": "markdown",
   "id": "8838a121-0e26-4457-9fab-0256fe580733",
   "metadata": {},
   "source": [
    "Nastrępnie zdefiniujmy funkcję pomocniczą dla `RecyclerView`"
   ]
  },
  {
   "cell_type": "code",
   "execution_count": null,
   "id": "de1848cc-45d9-4dca-8a4e-63cc4fb9cead",
   "metadata": {},
   "outputs": [],
   "source": [
    "private fun setupRecyclerView(nobelAdapter: NobelPrizeAdapter) {\n",
    "    binding.nobelPrizeRV.apply {\n",
    "        adapter = nobelAdapter\n",
    "        layoutManager = LinearLayoutManager(requireContext())\n",
    "    }\n",
    "}"
   ]
  },
  {
   "cell_type": "markdown",
   "id": "febe723d-be1f-4d84-ae19-6f4892a906e3",
   "metadata": {},
   "source": [
    "Następnie oddajmy funkcję pomocniczą dla `Spinner`"
   ]
  },
  {
   "cell_type": "code",
   "execution_count": null,
   "id": "44a3fc8c-ad4f-441a-a88b-4ae68837ae0c",
   "metadata": {},
   "outputs": [],
   "source": [
    "private fun setupSpinner() {\n",
    "    binding.categorySpinner.apply {\n",
    "        adapter = ArrayAdapter(\n",
    "            context,\n",
    "            R.layout.spinner_nobel_award_layout,\n",
    "            categories.keys.map { it })\n",
    "        onItemSelectedListener = object : AdapterView.OnItemSelectedListener {\n",
    "            override fun onItemSelected(\n",
    "                parent: AdapterView<*>?,\n",
    "                view: View?,\n",
    "                position: Int,\n",
    "                id: Long\n",
    "            ) {\n",
    "                nobelPrizesViewModel.getNobelPrizes(categories.values.map { it }[position])\n",
    "            }\n",
    "\n",
    "            override fun onNothingSelected(parent: AdapterView<*>?) {}\n",
    "        }\n",
    "    }\n",
    "}"
   ]
  },
  {
   "cell_type": "markdown",
   "id": "b78e4b6e-fc04-4ae5-aea1-248233aa2d4e",
   "metadata": {},
   "source": [
    "Dodajmy jeszcze dwie funkcje określające widoczność `ProgressBar`"
   ]
  },
  {
   "cell_type": "code",
   "execution_count": null,
   "id": "940bb644-b109-4f54-a95a-11bd2a3a9c04",
   "metadata": {},
   "outputs": [],
   "source": [
    "private fun hideProgressBar(){\n",
    "    binding.nobelPrizeProgressBar.visibility = View.INVISIBLE\n",
    "}\n",
    "\n",
    "private fun showProgressBar(){\n",
    "    binding.nobelPrizeProgressBar.visibility = View.VISIBLE\n",
    "}"
   ]
  },
  {
   "cell_type": "markdown",
   "id": "43ae3710-632f-41dd-98b0-266a68cbdbce",
   "metadata": {},
   "source": [
    "Finalnie, zdefiniujmy funkcję obsługującą odpowiedź"
   ]
  },
  {
   "cell_type": "code",
   "execution_count": null,
   "id": "70db81a6-b7ae-4870-8e9c-a1550f7d5104",
   "metadata": {},
   "outputs": [],
   "source": [
    "private fun observeNoblePrizeList(nobelAdapter: NobelPrizeAdapter) {"
   ]
  },
  {
   "cell_type": "markdown",
   "id": "651ff0ef-e0c8-4adb-b1d8-0eabf5cb5dba",
   "metadata": {},
   "source": [
    "W zależności od wyemitowanej odpowiedzi chcemy ustawić fragment w odpowiedni stan"
   ]
  },
  {
   "cell_type": "code",
   "execution_count": null,
   "id": "d18263b0-c483-4bae-969f-b8341d6b81d2",
   "metadata": {},
   "outputs": [],
   "source": [
    "    nobelPrizesViewModel.noblePrizes.observe(viewLifecycleOwner) { response ->\n",
    "        when (response) {"
   ]
  },
  {
   "cell_type": "markdown",
   "id": "ef78175f-40e9-4cd7-a8e9-7e45c7729e56",
   "metadata": {},
   "source": [
    "Jeżeli naszym stanem jest ładowanie, chcemy pokazać `ProgressBar`"
   ]
  },
  {
   "cell_type": "code",
   "execution_count": null,
   "id": "a3f43173-241b-41ff-a676-be3d41332245",
   "metadata": {},
   "outputs": [],
   "source": [
    "            is Resource.Loading -> showProgressBar()"
   ]
  },
  {
   "cell_type": "markdown",
   "id": "75a4900a-1b22-40ba-8845-48d61a8ca5e4",
   "metadata": {},
   "source": [
    "Jeżeli dostajemy błąd, chawamy `ProgressBar` i wyświetlamy komunikat - tutaj dla uproszczenia zrobimy to za pomocą `Log`"
   ]
  },
  {
   "cell_type": "code",
   "execution_count": null,
   "id": "e87711a3-c3ca-4b1d-8284-272c7dd8d762",
   "metadata": {},
   "outputs": [],
   "source": [
    "            is Resource.Error -> {\n",
    "                hideProgressBar()\n",
    "                response.message?.let { Log.e(TAG, \"Error occurred: $it\") }\n",
    "            }"
   ]
  },
  {
   "cell_type": "markdown",
   "id": "fa7f2deb-6743-4b57-8350-61880e2f2342",
   "metadata": {},
   "source": [
    "Zdefiniujmy stałą `TAG`"
   ]
  },
  {
   "cell_type": "code",
   "execution_count": null,
   "id": "25996ec1-7a32-4bd4-bb99-ee35c81a4319",
   "metadata": {},
   "outputs": [],
   "source": [
    "private val TAG = \"NobelAwardsFragment\""
   ]
  },
  {
   "cell_type": "markdown",
   "id": "c555258b-8afa-4470-a6c2-88d599f8ee42",
   "metadata": {},
   "source": [
    "Jeżeli odpowiedź jest poprawna, chowamy `ProgressBar` i wykonujemy metodę `submitList` na adapterze `RecyclerView`"
   ]
  },
  {
   "cell_type": "code",
   "execution_count": null,
   "id": "d4650675-f82a-4527-a1d2-c158358cbd41",
   "metadata": {},
   "outputs": [],
   "source": [
    "            is Resource.Success -> {\n",
    "                hideProgressBar()\n",
    "                response.data?.let { nobelAdapter.submitList(it.nobelPrizes) }\n",
    "            }"
   ]
  },
  {
   "cell_type": "markdown",
   "id": "c8b7a1f6-f7be-4dc2-b197-bb4915c9e0dc",
   "metadata": {},
   "source": [
    "W metodzie `onViewCreated` wykonujemy wcześniej zdefiniowane metody"
   ]
  },
  {
   "cell_type": "code",
   "execution_count": null,
   "id": "86dc9ce6-cdba-4f29-b4ef-64f47180dc7d",
   "metadata": {},
   "outputs": [],
   "source": [
    "override fun onViewCreated(view: View, savedInstanceState: Bundle?) {\n",
    "    super.onViewCreated(view, savedInstanceState)\n",
    "\n",
    "    setupSpinner()\n",
    "\n",
    "    val nobelAdapter = NobelPrizeAdapter(NobelPrizeComparator())\n",
    "    setupRecyclerView(nobelAdapter)\n",
    "\n",
    "    observeNoblePrizeList(nobelAdapter)\n",
    "}"
   ]
  },
  {
   "cell_type": "markdown",
   "id": "efb54976-715b-4f7a-bad8-27f616fd0b21",
   "metadata": {},
   "source": [
    "Możemy przetestować aplikację"
   ]
  },
  {
   "cell_type": "markdown",
   "id": "77d66b8b-08be-4399-a4f3-274a460c8dfd",
   "metadata": {},
   "source": [
    "<img src=\"https://media0.giphy.com/media/NuuG5HnAdmdTjLV0DV/giphy.webp\" width=\"150\" />"
   ]
  },
  {
   "cell_type": "markdown",
   "id": "e15bf2ca-1485-4779-897f-cfca77223ff0",
   "metadata": {},
   "source": [
    "### **`NobelAwardFragment`**"
   ]
  },
  {
   "cell_type": "markdown",
   "id": "fbc48e83-cebf-42f9-9d20-4b0ab8fcdb12",
   "metadata": {},
   "source": [
    "Obsłużymy teraz kolejny fragment - wyświetlający pełniejszą informację o zadanej nagrodzie. Musimy jednoznacznie określić nagrodę - ponieważ nie mamy dostępnego identyfikatora, posłużymy się rokiem oraz kategorią.\n",
    "\n",
    "Z fragmentu `NobelAwardsFragment` prześlemy dwie informacje (`awardYear`, `category`) do `NobelAwardFragment`, następnie połączymy się z serwerem i wykonamy odpowiednie żądanie. Istnieje również inny sposób na osiągnięcie tego samoego rezultatu - ponieważ mamy już dostępne wszystkie dane, możemy również przekazać cały obiekt (tutaj należy wwykorzystać interfejs `Serializable`, lub `Parcelable`).\n",
    "\n",
    "Po pierwsze dodajmy odpowiednie argumenty do `navigation`."
   ]
  },
  {
   "cell_type": "code",
   "execution_count": null,
   "id": "11bb0d02-163e-40c6-90b3-072ba53f5ad6",
   "metadata": {},
   "outputs": [],
   "source": [
    "<fragment\n",
    "    android:id=\"@+id/nobelAwardsFragment\"\n",
    "    android:name=\"pl.udu.uwr.pum.verynobleappkotlin.ui.fragments.nobleawards.NobelAwardsFragment\"\n",
    "    android:label=\"Nagrody Nobla\"\n",
    "    tools:layout=\"@layout/fragment_nobel_awards\" >\n",
    "    <action\n",
    "        android:id=\"@+id/action_nobelAwardsFragment_to_nobelAwardFragment\"\n",
    "        app:destination=\"@id/nobelAwardFragment\" >\n",
    "        <argument\n",
    "            android:name=\"category\"\n",
    "            app:argType=\"string\" />\n",
    "        <argument\n",
    "            android:name=\"awardYear\"\n",
    "            app:argType=\"string\" />\n",
    "    </action>\n",
    "</fragment>"
   ]
  },
  {
   "cell_type": "markdown",
   "id": "2a390a69-de48-4d5e-8d26-586083356684",
   "metadata": {},
   "source": [
    "Dodajmy `onClick` do funkcji `bind` klasy `NobelPrizeViewHolder`"
   ]
  },
  {
   "cell_type": "code",
   "execution_count": null,
   "id": "ea7330f9-87af-4bd9-863d-347f01bc5083",
   "metadata": {},
   "outputs": [],
   "source": [
    "binding.root.setOnClickListener {\n",
    "    val action: NavDirections = NobelAwardsFragmentDirections\n",
    "        .actionNobelAwardsFragmentToNobelAwardFragment(\n",
    "            category = item.category.en,\n",
    "            awardYear = item.awardYear\n",
    "        )\n",
    "    findNavController(binding.root).navigate(action)\n",
    "}"
   ]
  },
  {
   "cell_type": "markdown",
   "id": "26992541-0242-4bb5-96d3-94b68cd61694",
   "metadata": {},
   "source": [
    "Dodajmy funkcję `getNobelPrize` do `NobelPrizeApi`, która przyjmować będzie kategorię i rok"
   ]
  },
  {
   "cell_type": "code",
   "execution_count": null,
   "id": "e51a26e3-26ff-4790-9dea-19aaca33a246",
   "metadata": {},
   "outputs": [],
   "source": [
    "@GET(\"2.1/nobelPrizes\")\n",
    "suspend fun getNobelPrize(\n",
    "    @Query(\"nobelPrizeYear\") year: Int,\n",
    "    @Query(\"nobelPrizeCategory\") category: String,\n",
    ") : Response<NobelPrizeResponse>"
   ]
  },
  {
   "cell_type": "markdown",
   "id": "a7a408cc-6fef-4278-b34b-979b8e826c81",
   "metadata": {},
   "source": [
    "Dodajmy również odpowiednią metodę do `NobelRepository`"
   ]
  },
  {
   "cell_type": "code",
   "execution_count": null,
   "id": "21ac1ec0-bda2-4084-a221-e9ddda288ac4",
   "metadata": {},
   "outputs": [],
   "source": [
    "suspend fun getNobelPrize(year: Int, category: String) = \n",
    "    RetrofitInstance.api.getNobelPrize(year = year, category = category)"
   ]
  },
  {
   "cell_type": "markdown",
   "id": "c7e55b76-5569-4c34-9931-d04daa9e5d36",
   "metadata": {},
   "source": [
    "Przygotujmy layout dla `NobelAwardFragment`"
   ]
  },
  {
   "cell_type": "code",
   "execution_count": null,
   "id": "c39a7d4f-47f9-4bc5-abee-d105e3a062c4",
   "metadata": {},
   "outputs": [],
   "source": [
    "<?xml version=\"1.0\" encoding=\"utf-8\"?>\n",
    "<androidx.constraintlayout.widget.ConstraintLayout\n",
    "xmlns:android=\"http://schemas.android.com/apk/res/android\"\n",
    "    xmlns:app=\"http://schemas.android.com/apk/res-auto\"\n",
    "    xmlns:tools=\"http://schemas.android.com/tools\"\n",
    "    android:layout_width=\"match_parent\"\n",
    "    android:layout_height=\"match_parent\"\n",
    "    tools:context=\".ui.fragments.nobelaward.NobelAwardFragment\">\n",
    "\n",
    "    <ProgressBar\n",
    "        android:id=\"@+id/nobelPrizeProgressBar\"\n",
    "        android:layout_width=\"wrap_content\"\n",
    "        android:layout_height=\"wrap_content\"\n",
    "        android:layout_gravity=\"center\"\n",
    "        android:layout_marginTop=\"8dp\"\n",
    "        android:background=\"@android:color/transparent\"\n",
    "        android:visibility=\"invisible\"\n",
    "        app:layout_constraintEnd_toEndOf=\"parent\"\n",
    "        app:layout_constraintStart_toStartOf=\"parent\"\n",
    "        app:layout_constraintTop_toBottomOf=\"@+id/dateAwardTextView\" />\n",
    "\n",
    "    <TextView\n",
    "        android:id=\"@+id/categoryFullNameTextView\"\n",
    "        android:layout_width=\"wrap_content\"\n",
    "        android:layout_height=\"wrap_content\"\n",
    "        android:layout_marginTop=\"16dp\"\n",
    "        android:fontFamily=\"sans-serif-smallcaps\"\n",
    "        android:text=\"Physics\"\n",
    "        android:textSize=\"24sp\"\n",
    "        app:layout_constraintEnd_toEndOf=\"parent\"\n",
    "        app:layout_constraintStart_toStartOf=\"parent\"\n",
    "        app:layout_constraintTop_toTopOf=\"parent\" />\n",
    "\n",
    "    <TextView\n",
    "        android:id=\"@+id/dateAwardTextView\"\n",
    "        android:layout_width=\"wrap_content\"\n",
    "        android:layout_height=\"wrap_content\"\n",
    "        android:fontFamily=\"sans-serif\"\n",
    "        android:text=\"Date awarded\"\n",
    "        android:textSize=\"24sp\"\n",
    "        app:layout_constraintEnd_toEndOf=\"parent\"\n",
    "        app:layout_constraintStart_toStartOf=\"parent\"\n",
    "        app:layout_constraintTop_toBottomOf=\"@+id/categoryFullNameTextView\" />\n",
    "\n",
    "    <androidx.recyclerview.widget.RecyclerView\n",
    "        android:id=\"@+id/nobelAwardRV\"\n",
    "        android:layout_width=\"match_parent\"\n",
    "        android:layout_height=\"0dp\"\n",
    "        android:layout_margin=\"8dp\"\n",
    "        app:layout_constraintTop_toBottomOf=\"@+id/dateAwardTextView\" />\n",
    "\n",
    "</androidx.constraintlayout.widget.ConstraintLayout>"
   ]
  },
  {
   "cell_type": "markdown",
   "id": "a0af8eb2-f4b5-4637-a025-8776dcf1e4e6",
   "metadata": {},
   "source": [
    "Również tutaj będziemy mieli `RecyclerView` - wyświetlimy w nim listę laureatów nagrody. Dodajmy layout dla pojedynczego elementu."
   ]
  },
  {
   "cell_type": "code",
   "execution_count": null,
   "id": "3dc0ed86-06d1-4455-8a4b-4beb49e040fc",
   "metadata": {},
   "outputs": [],
   "source": [
    "<?xml version=\"1.0\" encoding=\"utf-8\"?>\n",
    "\n",
    "<androidx.cardview.widget.CardView \n",
    "xmlns:android=\"http://schemas.android.com/apk/res/android\"\n",
    "    xmlns:app=\"http://schemas.android.com/apk/res-auto\"\n",
    "    android:layout_width=\"match_parent\"\n",
    "    android:layout_height=\"wrap_content\"\n",
    "    app:cardCornerRadius=\"30dp\"\n",
    "    app:cardElevation=\"15dp\"\n",
    "    app:cardBackgroundColor=\"@color/teal_200\"\n",
    "    android:layout_margin=\"8dp\"\n",
    "    >\n",
    "\n",
    "<androidx.constraintlayout.widget.ConstraintLayout\n",
    "    android:layout_width=\"match_parent\"\n",
    "    android:layout_height=\"wrap_content\"\n",
    "    android:layout_margin=\"16dp\">\n",
    "\n",
    "\n",
    "    <TextView\n",
    "        android:id=\"@+id/fullNameTextView\"\n",
    "        android:layout_width=\"match_parent\"\n",
    "        android:layout_height=\"wrap_content\"\n",
    "        android:layout_margin=\"8dp\"\n",
    "        android:fontFamily=\"sans-serif-smallcaps\"\n",
    "        android:text=\"Full Name\"\n",
    "        android:textSize=\"24sp\"\n",
    "        app:layout_constraintEnd_toEndOf=\"parent\"\n",
    "        app:layout_constraintStart_toStartOf=\"parent\"\n",
    "        app:layout_constraintTop_toTopOf=\"parent\" />\n",
    "\n",
    "    <TextView\n",
    "        android:id=\"@+id/textView2\"\n",
    "        android:layout_width=\"wrap_content\"\n",
    "        android:layout_height=\"wrap_content\"\n",
    "        android:layout_margin=\"8dp\"\n",
    "        android:text=\"Portion: \"\n",
    "        android:textSize=\"20sp\"\n",
    "        app:layout_constraintStart_toStartOf=\"parent\"\n",
    "        app:layout_constraintTop_toBottomOf=\"@+id/fullNameTextView\" />\n",
    "\n",
    "    <TextView\n",
    "        android:id=\"@+id/portionTextView\"\n",
    "        android:layout_width=\"wrap_content\"\n",
    "        android:layout_height=\"wrap_content\"\n",
    "        android:layout_margin=\"8dp\"\n",
    "        android:text=\"1/4\"\n",
    "        android:textSize=\"20sp\"\n",
    "        app:layout_constraintStart_toEndOf=\"@+id/textView2\"\n",
    "        app:layout_constraintTop_toBottomOf=\"@+id/fullNameTextView\" />\n",
    "\n",
    "    <TextView\n",
    "        android:id=\"@+id/motivationTextView\"\n",
    "        android:layout_width=\"match_parent\"\n",
    "        android:layout_height=\"wrap_content\"\n",
    "        android:layout_margin=\"8dp\"\n",
    "        android:text=\"motivation\"\n",
    "        android:textSize=\"16sp\"\n",
    "        app:layout_constraintEnd_toEndOf=\"parent\"\n",
    "        app:layout_constraintStart_toStartOf=\"parent\"\n",
    "        app:layout_constraintTop_toBottomOf=\"@+id/portionTextView\" />\n",
    "\n",
    "</androidx.constraintlayout.widget.ConstraintLayout>\n",
    "</androidx.cardview.widget.CardView>"
   ]
  },
  {
   "cell_type": "markdown",
   "id": "751aaace-5883-4555-a694-502dfecfcb53",
   "metadata": {},
   "source": [
    "Skoro mamy `RecyclerView`, musimy zaimplementować odpowiedni adapter - do pakietu `adapters` dodajmy pakiet `nobelprizelaureates` i tworzymy klasy `LaureateViewHolder`, `LaureateComparator`, `LaureateAdapter`"
   ]
  },
  {
   "cell_type": "code",
   "execution_count": null,
   "id": "9053f876-7e7d-4743-9e2a-db6258b00ca5",
   "metadata": {},
   "outputs": [],
   "source": [
    "class LaureateViewHolder(private val binding: LaureateRvItemBinding)\n",
    "    : RecyclerView.ViewHolder(binding.root){\n",
    "        fun bind(item: Laureate){\n",
    "            binding.fullNameTextView.text = item.fullName?.en?: \"missing name\"\n",
    "            binding.portionTextView.text = item.portion\n",
    "            binding.motivationTextView.text = item.motivation.en\n",
    "        }\n",
    "}"
   ]
  },
  {
   "cell_type": "code",
   "execution_count": null,
   "id": "5a168472-8495-4338-ae48-cc10c67d5ff1",
   "metadata": {},
   "outputs": [],
   "source": [
    "class LaureateComparator : DiffUtil.ItemCallback<Laureate>() {\n",
    "    override fun areItemsTheSame(oldItem: Laureate, newItem: Laureate): Boolean {\n",
    "        return oldItem.id == newItem.id\n",
    "    }\n",
    "\n",
    "    override fun areContentsTheSame(oldItem: Laureate, newItem: Laureate): Boolean {\n",
    "        return oldItem == newItem\n",
    "    }\n",
    "}"
   ]
  },
  {
   "cell_type": "code",
   "execution_count": null,
   "id": "e66b6294-820c-4931-afec-7507462e1ac5",
   "metadata": {},
   "outputs": [],
   "source": [
    "class LaureateAdapter(itemComparator: LaureateComparator) \n",
    "    : ListAdapter<Laureate, LaureateViewHolder>(itemComparator) {\n",
    "    override fun onCreateViewHolder(parent: ViewGroup, viewType: Int): LaureateViewHolder {\n",
    "        return LaureateViewHolder(\n",
    "            LaureateRvItemBinding.inflate(\n",
    "            LayoutInflater.from(parent.context), parent, false\n",
    "        ))\n",
    "    }\n",
    "\n",
    "    override fun onBindViewHolder(holder: LaureateViewHolder, position: Int) {\n",
    "        val item = getItem(position)\n",
    "        holder.bind(item)\n",
    "    }\n",
    "}"
   ]
  },
  {
   "cell_type": "markdown",
   "id": "6e772e3e-e56a-4e49-9609-a32880b5372b",
   "metadata": {},
   "source": [
    "Do pakieru `ui.fragments` dodajmy pakiet `nobelaward` i przenieśmy do niego klasę `NobelAwardFragment`. W tym pakiecie tworzymy również `NobelPrizeViewModel`"
   ]
  },
  {
   "cell_type": "code",
   "execution_count": null,
   "id": "128dab66-8d2d-49f6-a60c-8cbe977e3b8d",
   "metadata": {},
   "outputs": [],
   "source": [
    "class NobelPrizeViewModel : ViewModel() {\n",
    "    private val repository = NobelRepository()\n",
    "    private val _nobelPrize: MutableLiveData<Resource<NobelPrizeResponse>> = MutableLiveData()\n",
    "\n",
    "    val noblePrize: LiveData<Resource<NobelPrizeResponse>>\n",
    "        get() = _nobelPrize\n",
    "\n",
    "    fun getNobelPrize(year: Int, category: String) = viewModelScope.launch {\n",
    "        _nobelPrize.postValue(Resource.Loading())\n",
    "        val response = repository.getNobelPrize(year= year, category= category)\n",
    "        _nobelPrize.postValue(handleNobelPrizesResponse(response))\n",
    "    }\n",
    "\n",
    "    private fun handleNobelPrizesResponse(response: Response<NobelPrizeResponse>)\n",
    "            : Resource<NobelPrizeResponse> {\n",
    "        if (response.isSuccessful)\n",
    "            response.body()?.let { return Resource.Success(it) }\n",
    "        return Resource.Error(response.message())\n",
    "    }\n",
    "}"
   ]
  },
  {
   "cell_type": "markdown",
   "id": "42f5f6e6-bd54-4831-bb20-89eff4aa1ce1",
   "metadata": {},
   "source": [
    "W `NobelAwardFragment` tworzymy `viewmodel` oraz odbieramy przesłane argumenty."
   ]
  },
  {
   "cell_type": "code",
   "execution_count": null,
   "id": "8a4b0992-9a76-40cf-8474-36bbbe883111",
   "metadata": {},
   "outputs": [],
   "source": [
    "class NobelAwardFragment : Fragment() {\n",
    "\n",
    "    private val nobelPrizeViewModel: NobelPrizeViewModel by viewModels()\n",
    "    private val TAG = \"NobelAwardFragment\"\n",
    "\n",
    "    private val category: String? by lazy { requireArguments().getString(\"category\") }\n",
    "    private val awardYear: String? by lazy { requireArguments().getString(\"awardYear\") }\n",
    "    ...\n",
    "}"
   ]
  },
  {
   "cell_type": "markdown",
   "id": "6f16c51c-0240-46a7-8b09-d44b79c44ecc",
   "metadata": {},
   "source": [
    "Podobnie jak w poprzednim fragmencie dodajmy kilka funkcji pomocniczych"
   ]
  },
  {
   "cell_type": "code",
   "execution_count": null,
   "id": "c708dd90-0172-4efe-b1cf-7b2070bcb0d9",
   "metadata": {},
   "outputs": [],
   "source": [
    "private fun hideProgressBar(){\n",
    "    binding.nobelPrizeProgressBar.visibility = View.INVISIBLE\n",
    "}\n",
    "\n",
    "private fun showProgressBar(){\n",
    "    binding.nobelPrizeProgressBar.visibility = View.VISIBLE\n",
    "}\n",
    "\n",
    "private fun setupRecyclerView(laureateAdapter: LaureateAdapter) {\n",
    "    binding.nobelAwardRV.apply {\n",
    "        adapter = laureateAdapter\n",
    "        layoutManager = LinearLayoutManager(requireContext())\n",
    "    }\n",
    "}\n",
    "\n",
    "private fun observeNoblePrize(laureateAdapter: LaureateAdapter) {\n",
    "    nobelPrizeViewModel.noblePrize.observe(viewLifecycleOwner) { response ->\n",
    "        when (response) {\n",
    "            is Resource.Success -> {\n",
    "                hideProgressBar()\n",
    "                response.data?.let {\n",
    "                    binding.categoryFullNameTextView.text = \n",
    "                        it.nobelPrizes.first().categoryFullName.en\n",
    "                    binding.dateAwardTextView.text = it.nobelPrizes.first().dateAwarded\n",
    "                    laureateAdapter.submitList(it.nobelPrizes.first().laureates)\n",
    "                }\n",
    "            }\n",
    "            is Resource.Error -> {\n",
    "                hideProgressBar()\n",
    "                response.message?.let { Log.e(TAG, \"Error occurred: $it\") }\n",
    "            }\n",
    "            is Resource.Loading -> showProgressBar()\n",
    "        }\n",
    "    }\n",
    "}"
   ]
  },
  {
   "cell_type": "markdown",
   "id": "d20571ea-1d55-4999-8d50-a1f3f7507d4f",
   "metadata": {},
   "source": [
    "W przypadku poprawnej odpowiedzi ustawiamy odpowiednie pola, oraz przesyłamy listę laureatów do adaptera `RecyclerView`.\n",
    "\n",
    "Zwróćmy uwagę na to że `nobelPrizes` jest listą"
   ]
  },
  {
   "cell_type": "code",
   "execution_count": null,
   "id": "1dd44131-592f-4b92-b08c-c396c9846dd0",
   "metadata": {},
   "outputs": [],
   "source": [
    "data class NobelPrizeResponse(\n",
    "    val meta: Meta,\n",
    "    val nobelPrizes: List<NobelPrize>\n",
    ")"
   ]
  },
  {
   "cell_type": "markdown",
   "id": "5406ed7f-34da-4364-9b87-7767c59fc2d0",
   "metadata": {},
   "source": [
    "Ale wiemy że w tym przypadku dostaniemy zawsze jeden element w liście, więc posługujemy się funkcją `first` aby uzyskać do niego dostęp"
   ]
  },
  {
   "cell_type": "markdown",
   "id": "c5abcfd1-2855-4805-8131-2e75e6b41aa4",
   "metadata": {},
   "source": [
    "Możemy przetestować aplikację"
   ]
  },
  {
   "cell_type": "markdown",
   "id": "f29e939e-763b-4bfb-a9e9-7e20427ec853",
   "metadata": {},
   "source": [
    "<img src=\"https://media3.giphy.com/media/6pIR2WozCb81CcuGZo/giphy.webp\" width=\"150\" />"
   ]
  },
  {
   "cell_type": "markdown",
   "id": "5c26cc15-9be3-4982-b9d8-f6a733c1010e",
   "metadata": {},
   "source": [
    "### **`LaureateFragment`**"
   ]
  },
  {
   "cell_type": "markdown",
   "id": "300b6b0b-f2f5-4dd9-b537-0f0cfae61a71",
   "metadata": {},
   "source": [
    "Fragment będzie wyświetlał informacje o wybranym laureacie. W `NobelAwardFragment` mamy listę laureatów jednej, konkretnej nagrody nobla. Dodamy obsługę `onClick` i przekażemy `id` laureata do `LaureateFragment`, który wyświetli pełniejsze informacje. Tym razem skorzystamy z innego endpointa **/laureate/{laureateID}**. Przykładowe żądanie: http://api.nobelprize.org/2.1/laureate/11\n",
    "\n",
    "Tutaj mamy tylko jeden parametr\n",
    "```xml\n",
    "- name: `laureateID`  \n",
    "  in: path  \n",
    "  required: `true`  \n",
    "  description: ID laureata.  \n",
    "  type: `integer`  \n",
    "  minimum: 1\n",
    "```"
   ]
  },
  {
   "cell_type": "markdown",
   "id": "0867cff1-7a51-410a-96f9-b68458b62c54",
   "metadata": {},
   "source": [
    "Odpowiedź wygląda następująco"
   ]
  },
  {
   "cell_type": "code",
   "execution_count": null,
   "id": "b4e9477a-8f72-4390-b1fd-238a0ef93ab6",
   "metadata": {},
   "outputs": [],
   "source": [
    "[\n",
    "  {\n",
    "    \"id\": \"11\",\n",
    "    \"knownName\": {\n",
    "      \"en\": \"Albert A. Michelson\",\n",
    "      \"se\": \"Albert A. Michelson\"\n",
    "    },\n",
    "    \"givenName\": {\n",
    "      \"en\": \"Albert A.\",\n",
    "      \"se\": \"Albert A.\"\n",
    "    },\n",
    "    \"familyName\": {\n",
    "      \"en\": \"Michelson\",\n",
    "      \"se\": \"Michelson\"\n",
    "    },\n",
    "    \"fullName\": {\n",
    "      \"en\": \"Albert Abraham Michelson\",\n",
    "      \"se\": \"Albert Abraham Michelson\"\n",
    "    },\n",
    "    \"fileName\": \"michelson\",\n",
    "    \"gender\": \"male\",\n",
    "    \"birth\": {\n",
    "      \"date\": \"1852-12-19\",\n",
    "      \"place\": {\n",
    "        \"city\": {\n",
    "          \"en\": \"Strelno\",\n",
    "          \"no\": \"Strelno\",\n",
    "          \"se\": \"Strelno\"\n",
    "        },\n",
    "        \"country\": {\n",
    "          \"en\": \"Prussia\",\n",
    "          \"no\": \"Preussen\",\n",
    "          \"se\": \"Preussen\"\n",
    "        },\n",
    "        \"cityNow\": {\n",
    "          \"en\": \"Strzelno\",\n",
    "          \"no\": \"Strzelno\",\n",
    "          \"se\": \"Strzelno\",\n",
    "          \"sameAs\": [\n",
    "            \"https://www.wikidata.org/wiki/Q1005414\",\n",
    "            \"https://www.wikipedia.org/wiki/Strzelno\"\n",
    "          ]\n",
    "        },\n",
    "        \"countryNow\": {\n",
    "          \"en\": \"Poland\",\n",
    "          \"no\": \"Polen\",\n",
    "          \"se\": \"Polen\",\n",
    "          \"sameAs\": [\n",
    "            \"https://www.wikidata.org/wiki/Q36\"\n",
    "          ]\n",
    "        },\n",
    "        \"continent\": {\n",
    "          \"en\": \"Europe\",\n",
    "          \"no\": \"Europa\",\n",
    "          \"se\": \"Europa\"\n",
    "        },\n",
    "        \"locationString\": {\n",
    "          \"en\": \"Strelno, Prussia (now Strzelno, Poland)\",\n",
    "          \"no\": \"Strelno, Preussen (nå Strzelno, Polen)\",\n",
    "          \"se\": \"Strelno, Preussen (nu Strzelno, Polen)\"\n",
    "        }\n",
    "      }\n",
    "    },\n",
    "    \"death\": {\n",
    "      \"date\": \"1931-05-09\",\n",
    "      \"place\": {\n",
    "        \"city\": {\n",
    "          \"en\": \"Pasadena, CA\",\n",
    "          \"no\": \"Pasadena, CA\",\n",
    "          \"se\": \"Pasadena, CA\"\n",
    "        },\n",
    "        \"country\": {\n",
    "          \"en\": \"USA\",\n",
    "          \"no\": \"USA\",\n",
    "          \"se\": \"USA\",\n",
    "          \"sameAs\": \"https://www.wikidata.org/wiki/Q30\"\n",
    "        },\n",
    "        \"cityNow\": {\n",
    "          \"en\": \"Pasadena, CA\",\n",
    "          \"no\": \"Pasadena, CA\",\n",
    "          \"se\": \"Pasadena, CA\",\n",
    "          \"sameAs\": [\n",
    "            \"https://www.wikidata.org/wiki/Q485176\",\n",
    "            \"https://www.wikipedia.org/wiki/Pasadena,_California\"\n",
    "          ]\n",
    "        },\n",
    "        \"countryNow\": {\n",
    "          \"en\": \"USA\",\n",
    "          \"no\": \"USA\",\n",
    "          \"se\": \"USA\",\n",
    "          \"sameAs\": [\n",
    "            \"https://www.wikidata.org/wiki/Q30\"\n",
    "          ]\n",
    "        },\n",
    "        \"continent\": {\n",
    "          \"en\": \"North America\",\n",
    "          \"no\": \"Nord-Amerika\",\n",
    "          \"se\": \"Nordamerika\"\n",
    "        },\n",
    "        \"locationString\": {\n",
    "          \"en\": \"Pasadena, CA, USA\",\n",
    "          \"no\": \"Pasadena, CA, USA\",\n",
    "          \"se\": \"Pasadena, CA, USA\"\n",
    "        }\n",
    "      }\n",
    "    },\n",
    "    \"wikipedia\": {\n",
    "      \"slug\": \"Albert_Abraham_Michelson\",\n",
    "      \"english\": \"https://en.wikipedia.org/wiki/Albert_Abraham_Michelson\"\n",
    "    },\n",
    "    \"wikidata\": {\n",
    "      \"id\": \"Q127234\",\n",
    "      \"url\": \"https://www.wikidata.org/wiki/Q127234\"\n",
    "    },\n",
    "    \"sameAs\": [\n",
    "      \"https://www.wikidata.org/wiki/Q127234\",\n",
    "      \"https://en.wikipedia.org/wiki/Albert_Abraham_Michelson\"\n",
    "    ],\n",
    "    \"links\": [\n",
    "      {\n",
    "        \"rel\": \"laureate\",\n",
    "        \"href\": \"https://api.nobelprize.org/2/laureate/11\",\n",
    "        \"action\": \"GET\",\n",
    "        \"types\": \"application/json\"\n",
    "      },\n",
    "      {\n",
    "        \"rel\": \"external\",\n",
    "        \"href\": \"https://www.nobelprize.org/laureate/11\",\n",
    "        \"title\": \"Albert A. Michelson - Facts\",\n",
    "        \"action\": \"GET\",\n",
    "        \"types\": \"text/html\",\n",
    "        \"class\": [\n",
    "          \"laureate facts\"\n",
    "        ]\n",
    "      }\n",
    "    ],\n",
    "    \"nobelPrizes\": [\n",
    "      {\n",
    "        \"awardYear\": \"1907\",\n",
    "        \"category\": {\n",
    "          \"en\": \"Physics\",\n",
    "          \"no\": \"Fysikk\",\n",
    "          \"se\": \"Fysik\"\n",
    "        },\n",
    "        \"categoryFullName\": {\n",
    "          \"en\": \"The Nobel Prize in Physics\",\n",
    "          \"no\": \"Nobelprisen i fysikk\",\n",
    "          \"se\": \"Nobelpriset i fysik\"\n",
    "        },\n",
    "        \"sortOrder\": \"1\",\n",
    "        \"portion\": \"1\",\n",
    "        \"prizeStatus\": \"received\",\n",
    "        \"motivation\": {\n",
    "          \"en\": \"for his optical precision instruments and the spectroscopic and metrological investigations carried out with their aid\",\n",
    "          \"se\": \"för hans optiska precisionsinstrument och hans därmed utförda spektroskopiska och metrologiska undersökningar\"\n",
    "        },\n",
    "        \"prizeAmount\": 138796,\n",
    "        \"prizeAmountAdjusted\": 7161123,\n",
    "        \"affiliations\": [\n",
    "          {\n",
    "            \"name\": {\n",
    "              \"en\": \"University of Chicago\",\n",
    "              \"no\": \"University of Chicago\",\n",
    "              \"se\": \"University of Chicago\"\n",
    "            },\n",
    "            \"nameNow\": {\n",
    "              \"en\": \"University of Chicago\"\n",
    "            },\n",
    "            \"city\": {\n",
    "              \"en\": \"Chicago, IL\",\n",
    "              \"no\": \"Chicago, IL\",\n",
    "              \"se\": \"Chicago, IL\"\n",
    "            },\n",
    "            \"country\": {\n",
    "              \"en\": \"USA\",\n",
    "              \"no\": \"USA\",\n",
    "              \"se\": \"USA\"\n",
    "            },\n",
    "            \"cityNow\": {\n",
    "              \"en\": \"Chicago, IL\",\n",
    "              \"no\": \"Chicago, IL\",\n",
    "              \"se\": \"Chicago, IL\",\n",
    "              \"sameAs\": [\n",
    "                \"https://www.wikidata.org/wiki/Q1297\",\n",
    "                \"https://www.wikipedia.org/wiki/Chicago\"\n",
    "              ]\n",
    "            },\n",
    "            \"countryNow\": {\n",
    "              \"en\": \"USA\",\n",
    "              \"no\": \"USA\",\n",
    "              \"se\": \"USA\",\n",
    "              \"sameAs\": [\n",
    "                \"https://www.wikidata.org/wiki/Q30\"\n",
    "              ]\n",
    "            },\n",
    "            \"locationString\": {\n",
    "              \"en\": \"Chicago, IL, USA\",\n",
    "              \"no\": \"Chicago, IL, USA\",\n",
    "              \"se\": \"Chicago, IL, USA\"\n",
    "            }\n",
    "          }\n",
    "        ],\n",
    "        \"links\": [\n",
    "          {\n",
    "            \"rel\": \"nobelPrize\",\n",
    "            \"href\": \"https://api.nobelprize.org/2/nobelPrize/phy/1907\",\n",
    "            \"action\": \"GET\",\n",
    "            \"types\": \"application/json\"\n",
    "          },\n",
    "          {\n",
    "            \"rel\": \"external\",\n",
    "            \"href\": \"https://www.nobelprize.org/prizes/physics/1907/michelson/facts/\",\n",
    "            \"title\": \"Albert A. Michelson - Facts\",\n",
    "            \"action\": \"GET\",\n",
    "            \"types\": \"text/html\",\n",
    "            \"class\": [\n",
    "              \"laureate facts\"\n",
    "            ]\n",
    "          },\n",
    "          {\n",
    "            \"rel\": \"external\",\n",
    "            \"href\": \"https://www.nobelprize.org/prizes/physics/1907/summary/\",\n",
    "            \"title\": \"The Nobel Prize in Physics 1907\",\n",
    "            \"action\": \"GET\",\n",
    "            \"types\": \"text/html\",\n",
    "            \"class\": [\n",
    "              \"prize summary\"\n",
    "            ]\n",
    "          }\n",
    "        ]\n",
    "      }\n",
    "    ],\n",
    "    \"meta\": {\n",
    "      \"terms\": \"https://www.nobelprize.org/about/terms-of-use-for-api-nobelprize-org-and-data-nobelprize-org/\",\n",
    "      \"license\": \"https://www.nobelprize.org/about/terms-of-use-for-api-nobelprize-org-and-data-nobelprize-org/#licence\",\n",
    "      \"disclaimer\": \"https://www.nobelprize.org/about/terms-of-use-for-api-nobelprize-org-and-data-nobelprize-org/#disclaimer\"\n",
    "    }\n",
    "  }\n",
    "]"
   ]
  },
  {
   "cell_type": "markdown",
   "id": "64b6652e-9bb5-4d9c-8524-908dd21f4de3",
   "metadata": {},
   "source": [
    "Również tutaj skorzystamy z pluginy `JsonToKotlinClass`, który automatycznie generuje nam klasy"
   ]
  },
  {
   "cell_type": "code",
   "execution_count": null,
   "id": "8f9e4edf-78a2-421c-a1e6-ef04cfa61e65",
   "metadata": {},
   "outputs": [],
   "source": [
    "class LaureateResponse : ArrayList<LaureateResponseItem>()\n",
    "\n",
    "data class LaureateResponseItem(\n",
    "    val birth: Birth,\n",
    "    val death: Death?,\n",
    "    val familyName: FamilyName,\n",
    "    val fileName: String,\n",
    "    val fullName: FullName,\n",
    "    val gender: String,\n",
    "    val givenName: GivenName,\n",
    "    val id: String,\n",
    "    val knownName: KnownName,\n",
    "    val links: List<Link>,\n",
    "    val meta: Meta,\n",
    "    val nobelPrizes: List<NobelPrize>,\n",
    "    val sameAs: List<String>,\n",
    "    val wikidata: Wikidata,\n",
    "    val wikipedia: Wikipedia\n",
    ")\n",
    "\n",
    "data class Birth(\n",
    "    val date: String,\n",
    "    val place: Place\n",
    ")\n",
    "\n",
    "data class Death(\n",
    "    val date: String?,\n",
    "    val place: PlaceX\n",
    ")\n",
    "\n",
    "data class FamilyName(\n",
    "    val en: String,\n",
    "    val se: String\n",
    ")\n",
    "\n",
    "data class FullName(\n",
    "    val en: String,\n",
    "    val se: String\n",
    ")\n",
    "\n",
    "data class GivenName(\n",
    "    val en: String,\n",
    "    val se: String\n",
    ")\n",
    "\n",
    "data class KnownName(\n",
    "    val en: String,\n",
    "    val se: String\n",
    ")\n",
    "\n",
    "data class Link(\n",
    "    val action: String,\n",
    "    val `class`: List<String>,\n",
    "    val href: String,\n",
    "    val rel: String,\n",
    "    val title: String,\n",
    "    val types: String\n",
    ")\n",
    "\n",
    "data class Place(\n",
    "    val city: City,\n",
    "    val cityNow: CityNow,\n",
    "    val continent: Continent,\n",
    "    val country: Country,\n",
    "    val countryNow: CountryNow,\n",
    "    val locationString: LocationString\n",
    ")\n",
    "\n",
    "data class PlaceX(\n",
    "    val city: City,\n",
    "    val cityNow: CityNow,\n",
    "    val continent: Continent,\n",
    "    val country: CountryX,\n",
    "    val countryNow: CountryNow,\n",
    "    val locationString: LocationString\n",
    ")\n",
    "\n",
    "data class Meta(\n",
    "    val disclaimer: String,\n",
    "    val license: String,\n",
    "    val terms: String\n",
    ")\n",
    "\n",
    "data class Category(\n",
    "    val en: String,\n",
    "    val no: String,\n",
    "    val se: String\n",
    ")\n",
    "\n",
    "data class CategoryFullName(\n",
    "    val en: String,\n",
    "    val no: String,\n",
    "    val se: String\n",
    ")\n",
    "\n",
    "data class Country(\n",
    "    val en: String,\n",
    "    val no: String,\n",
    "    val se: String\n",
    ")\n",
    "\n",
    "data class CountryNow(\n",
    "    val en: String,\n",
    "    val no: String,\n",
    "    val sameAs: List<String>,\n",
    "    val se: String\n",
    ")\n",
    "\n",
    "data class LocationString(\n",
    "    val en: String,\n",
    "    val no: String,\n",
    "    val se: String\n",
    ")\n",
    "\n",
    "data class Motivation(\n",
    "    val en: String,\n",
    "    val se: String\n",
    ")\n",
    "\n",
    "data class Name(\n",
    "    val en: String,\n",
    "    val no: String,\n",
    "    val se: String\n",
    ")\n",
    "\n",
    "data class NameNow(\n",
    "    val en: String\n",
    ")\n",
    "\n",
    "data class NobelPrize(\n",
    "    val affiliations: List<Affiliation>?,\n",
    "    val awardYear: String,\n",
    "    val category: Category,\n",
    "    val categoryFullName: CategoryFullName,\n",
    "    val links: List<Link>,\n",
    "    val motivation: Motivation,\n",
    "    val portion: String,\n",
    "    val prizeAmount: Int,\n",
    "    val prizeAmountAdjusted: Int,\n",
    "    val prizeStatus: String,\n",
    "    val sortOrder: String\n",
    ")\n",
    "\n",
    "data class Affiliation(\n",
    "    val city: City,\n",
    "    val cityNow: CityNow,\n",
    "    val country: Country,\n",
    "    val countryNow: CountryNow,\n",
    "    val locationString: LocationString,\n",
    "    val name: Name,\n",
    "    val nameNow: NameNow\n",
    ")\n",
    "\n",
    "data class City(\n",
    "    val en: String,\n",
    "    val no: String,\n",
    "    val se: String\n",
    ")\n",
    "\n",
    "data class CityNow(\n",
    "    val en: String,\n",
    "    val no: String,\n",
    "    val sameAs: List<String>,\n",
    "    val se: String\n",
    ")\n",
    "\n",
    "data class Continent(\n",
    "    val en: String,\n",
    "    val no: String,\n",
    "    val se: String\n",
    ")\n",
    "\n",
    "data class CountryX(\n",
    "    val en: String,\n",
    "    val no: String,\n",
    "    val sameAs: String,\n",
    "    val se: String\n",
    ")\n",
    "\n",
    "data class Wikidata(\n",
    "    val id: String,\n",
    "    val url: String\n",
    ")\n",
    "\n",
    "data class Wikipedia(\n",
    "    val english: String,\n",
    "    val slug: String\n",
    ")"
   ]
  },
  {
   "cell_type": "markdown",
   "id": "1c0fb8a2-728e-420f-b4f9-65a8b6a3e449",
   "metadata": {},
   "source": [
    "Jak widać dostaliśmy koło 40 klas - jak wspominałem na początku nie będziemy specjalnie się przejmować tym co się dzieje dokładnie w tych klasach, więc zostawmy je tak jak zostały wygenerowane.\n",
    "\n",
    "Zwróćmy uwagę na dwie pierwsze klasy\n",
    "- `LaureateResponse : ArrayList<LaureateResponseItem>()` - odpowiedź dostajemy jako listę\n",
    "- `LaureateResponseItem` - element listy\n",
    "\n",
    "Dodajmy argument do `navigation`"
   ]
  },
  {
   "cell_type": "code",
   "execution_count": null,
   "id": "3e5080e0-31a6-448b-bf5d-7f24a2353e1d",
   "metadata": {},
   "outputs": [],
   "source": [
    "<fragment\n",
    "    android:id=\"@+id/nobelAwardFragment\"\n",
    "    android:name=\"pl.udu.uwr.pum.verynobleappkotlin.ui.fragments.nobelaward.NobelAwardFragment\"\n",
    "    android:label=\"Nagroda Nobla\"\n",
    "    tools:layout=\"@layout/fragment_nobel_award\" >\n",
    "    <action\n",
    "        android:id=\"@+id/action_nobelAwardFragment_to_nobelAwardsFragment\"\n",
    "        app:destination=\"@id/nobelAwardsFragment\" />\n",
    "    <action\n",
    "        android:id=\"@+id/action_nobelAwardFragment_to_laureateFragment\"\n",
    "        app:destination=\"@id/laureateFragment\" >\n",
    "        <argument\n",
    "            android:name=\"id\"\n",
    "            app:argType=\"string\" />\n",
    "    </action>\n",
    "</fragment>"
   ]
  },
  {
   "cell_type": "markdown",
   "id": "20e4f555-f220-4ced-9a54-b9b6a5eaf295",
   "metadata": {},
   "source": [
    "Dodajmy również `onClick` do funkcji `bind` klasy `LaureateViewHolder`"
   ]
  },
  {
   "cell_type": "code",
   "execution_count": null,
   "id": "c4eb5d75-30c6-4bab-828d-1aeed0ab0617",
   "metadata": {},
   "outputs": [],
   "source": [
    "binding.root.setOnClickListener {\n",
    "    val action: NavDirections = NobelAwardFragmentDirections\n",
    "        .actionNobelAwardFragmentToLaureateFragment(item.id)\n",
    "    Navigation.findNavController(binding.root).navigate(action)\n",
    "}"
   ]
  },
  {
   "cell_type": "markdown",
   "id": "ef3c8adf-b31f-463b-a4b4-b69940c08fb7",
   "metadata": {},
   "source": [
    "Przygotujmy layout `LaureateFragment`"
   ]
  },
  {
   "cell_type": "code",
   "execution_count": null,
   "id": "23e97df2-5f18-4ec8-bcd0-8af1bfbc6da8",
   "metadata": {},
   "outputs": [],
   "source": [
    "<?xml version=\"1.0\" encoding=\"utf-8\"?>\n",
    "<androidx.constraintlayout.widget.ConstraintLayout \n",
    "xmlns:android=\"http://schemas.android.com/apk/res/android\"\n",
    "    xmlns:app=\"http://schemas.android.com/apk/res-auto\"\n",
    "    xmlns:tools=\"http://schemas.android.com/tools\"\n",
    "    android:layout_width=\"match_parent\"\n",
    "    android:layout_height=\"match_parent\"\n",
    "    android:layout_margin=\"8dp\">\n",
    "\n",
    "    <ProgressBar\n",
    "        android:id=\"@+id/laureateProgressBar\"\n",
    "        android:layout_width=\"wrap_content\"\n",
    "        android:layout_height=\"wrap_content\"\n",
    "        android:layout_gravity=\"center\"\n",
    "        android:layout_marginTop=\"8dp\"\n",
    "        android:background=\"@android:color/transparent\"\n",
    "        android:visibility=\"invisible\"\n",
    "        app:layout_constraintEnd_toEndOf=\"parent\"\n",
    "        app:layout_constraintStart_toStartOf=\"parent\"\n",
    "        app:layout_constraintTop_toBottomOf=\"@+id/fullNameTextView\" />\n",
    "\n",
    "    <TextView\n",
    "        android:id=\"@+id/fullNameTextView\"\n",
    "        android:layout_width=\"match_parent\"\n",
    "        android:layout_height=\"wrap_content\"\n",
    "        android:fontFamily=\"sans-serif-smallcaps\"\n",
    "        android:gravity=\"center\"\n",
    "        android:text=\"Full Name\"\n",
    "        android:textSize=\"24sp\"\n",
    "        app:layout_constraintEnd_toEndOf=\"parent\"\n",
    "        app:layout_constraintStart_toStartOf=\"parent\"\n",
    "        app:layout_constraintTop_toTopOf=\"parent\" />\n",
    "\n",
    "    <TextView\n",
    "        android:id=\"@+id/birth\"\n",
    "        android:layout_width=\"wrap_content\"\n",
    "        android:layout_height=\"wrap_content\"\n",
    "        android:text=\"Birth:\"\n",
    "        android:textSize=\"20sp\"\n",
    "        app:layout_constraintStart_toStartOf=\"parent\"\n",
    "        app:layout_constraintTop_toBottomOf=\"@+id/fullNameTextView\" />\n",
    "\n",
    "    <TextView\n",
    "        android:id=\"@+id/birthDateTextView\"\n",
    "        android:layout_width=\"wrap_content\"\n",
    "        android:layout_height=\"wrap_content\"\n",
    "        android:layout_marginStart=\"8dp\"\n",
    "        android:text=\"19.01.2000\"\n",
    "        android:textSize=\"20sp\"\n",
    "        app:layout_constraintStart_toEndOf=\"@+id/birth\"\n",
    "        app:layout_constraintTop_toBottomOf=\"@+id/fullNameTextView\" />\n",
    "\n",
    "    <TextView\n",
    "        android:id=\"@+id/death\"\n",
    "        android:layout_width=\"wrap_content\"\n",
    "        android:layout_height=\"wrap_content\"\n",
    "        android:layout_marginEnd=\"8dp\"\n",
    "        android:text=\"Death:\"\n",
    "        android:textSize=\"20sp\"\n",
    "        app:layout_constraintEnd_toStartOf=\"@+id/deathDateTextView\"\n",
    "        app:layout_constraintTop_toBottomOf=\"@+id/fullNameTextView\" />\n",
    "\n",
    "    <TextView\n",
    "        android:id=\"@+id/deathDateTextView\"\n",
    "        android:layout_width=\"wrap_content\"\n",
    "        android:layout_height=\"wrap_content\"\n",
    "        android:text=\"19.01.2000\"\n",
    "        android:textSize=\"20sp\"\n",
    "        app:layout_constraintEnd_toEndOf=\"parent\"\n",
    "        app:layout_constraintTop_toBottomOf=\"@+id/fullNameTextView\" />\n",
    "\n",
    "    <TextView\n",
    "        android:id=\"@+id/birthCityTextView\"\n",
    "        android:layout_width=\"wrap_content\"\n",
    "        android:layout_height=\"wrap_content\"\n",
    "        android:layout_marginStart=\"8dp\"\n",
    "        android:text=\"Warszawa\"\n",
    "        android:textSize=\"20sp\"\n",
    "        app:layout_constraintStart_toEndOf=\"@+id/birth\"\n",
    "        app:layout_constraintTop_toBottomOf=\"@+id/birthDateTextView\" />\n",
    "\n",
    "    <TextView\n",
    "        android:id=\"@+id/deathCityTextView\"\n",
    "        android:layout_width=\"wrap_content\"\n",
    "        android:layout_height=\"wrap_content\"\n",
    "        android:layout_marginEnd=\"8dp\"\n",
    "        android:text=\"Warszawa\"\n",
    "        android:textSize=\"20sp\"\n",
    "        app:layout_constraintEnd_toEndOf=\"parent\"\n",
    "        app:layout_constraintTop_toBottomOf=\"@+id/deathDateTextView\" />\n",
    "\n",
    "    <TextView\n",
    "        android:id=\"@+id/birthCountryTextView\"\n",
    "        android:layout_width=\"wrap_content\"\n",
    "        android:layout_height=\"wrap_content\"\n",
    "        android:layout_marginStart=\"8dp\"\n",
    "        android:text=\"Poland\"\n",
    "        android:textSize=\"20sp\"\n",
    "        app:layout_constraintStart_toEndOf=\"@+id/birth\"\n",
    "        app:layout_constraintTop_toBottomOf=\"@+id/birthCityTextView\" />\n",
    "\n",
    "    <TextView\n",
    "        android:id=\"@+id/deathCountryTextView\"\n",
    "        android:layout_width=\"wrap_content\"\n",
    "        android:layout_height=\"wrap_content\"\n",
    "        android:text=\"Poland\"\n",
    "        android:textSize=\"20sp\"\n",
    "        android:layout_marginEnd=\"8dp\"\n",
    "        app:layout_constraintEnd_toEndOf=\"parent\"\n",
    "        app:layout_constraintTop_toBottomOf=\"@+id/deathCityTextView\" />\n",
    "\n",
    "    <androidx.recyclerview.widget.RecyclerView\n",
    "        android:id=\"@+id/laureateRV\"\n",
    "        android:layout_width=\"match_parent\"\n",
    "        android:layout_height=\"0dp\"\n",
    "        app:layout_constraintEnd_toEndOf=\"parent\"\n",
    "        app:layout_constraintStart_toStartOf=\"parent\"\n",
    "        app:layout_constraintTop_toBottomOf=\"@+id/birthCountryTextView\" />\n",
    "\n",
    "    <Button\n",
    "        android:id=\"@+id/wikiButton\"\n",
    "        android:layout_width=\"match_parent\"\n",
    "        android:layout_height=\"wrap_content\"\n",
    "        android:text=\"wikipedia\"\n",
    "        android:layout_marginStart=\"36dp\"\n",
    "        android:layout_marginEnd=\"36dp\"\n",
    "        app:layout_constraintEnd_toEndOf=\"parent\"\n",
    "        app:layout_constraintStart_toStartOf=\"parent\"\n",
    "        app:layout_constraintTop_toBottomOf=\"@+id/laureateRV\" />\n",
    "\n",
    "</androidx.constraintlayout.widget.ConstraintLayout>"
   ]
  },
  {
   "cell_type": "markdown",
   "id": "71f712d3-74cd-4e84-9c7c-6dfff143e3ee",
   "metadata": {},
   "source": [
    "Laureat może posiadać kilka nagród nobla, więc dodajmy również tutaj `RecyclerView` z listą wszystkich nagród otrzymanych przez laureata. W dostępnych danych mamy również link do strony na wikipedi, wykorzystamy to na kolejnym fragmencie, do którego przejdziemy dzięki dodanemu przyciskowi.\n",
    "\n",
    "Dodajmy również layout pojedynczego elementu listy"
   ]
  },
  {
   "cell_type": "code",
   "execution_count": null,
   "id": "8e00e020-60e8-4ad7-9e84-45c83545c230",
   "metadata": {},
   "outputs": [],
   "source": [
    "<?xml version=\"1.0\" encoding=\"utf-8\"?>\n",
    "<androidx.cardview.widget.CardView xmlns:android=\"http://schemas.android.com/apk/res/android\"\n",
    "    xmlns:app=\"http://schemas.android.com/apk/res-auto\"\n",
    "    android:layout_width=\"match_parent\"\n",
    "    android:layout_height=\"wrap_content\"\n",
    "    app:cardCornerRadius=\"30dp\"\n",
    "    app:cardElevation=\"15dp\"\n",
    "    app:cardBackgroundColor=\"@color/teal_200\"\n",
    "    android:layout_margin=\"8dp\"\n",
    "    >\n",
    "\n",
    "<androidx.constraintlayout.widget.ConstraintLayout\n",
    "    android:layout_width=\"match_parent\"\n",
    "    android:layout_height=\"wrap_content\"\n",
    "    android:layout_margin=\"16dp\">\n",
    "\n",
    "    <TextView\n",
    "        android:id=\"@+id/yearTextView\"\n",
    "        android:layout_width=\"wrap_content\"\n",
    "        android:layout_height=\"wrap_content\"\n",
    "        android:text=\"2000\"\n",
    "        android:textSize=\"20sp\"\n",
    "        app:layout_constraintStart_toStartOf=\"parent\"\n",
    "        app:layout_constraintTop_toTopOf=\"parent\" />\n",
    "\n",
    "    <TextView\n",
    "        android:id=\"@+id/categoryFullNameTextView\"\n",
    "        android:layout_width=\"wrap_content\"\n",
    "        android:layout_height=\"wrap_content\"\n",
    "        android:layout_marginStart=\"4dp\"\n",
    "        android:layout_marginBottom=\"3dp\"\n",
    "        android:text=\"Physics\"\n",
    "        android:textSize=\"20sp\"\n",
    "        app:layout_constraintBottom_toBottomOf=\"@+id/yearTextView\"\n",
    "        app:layout_constraintEnd_toEndOf=\"parent\"\n",
    "        app:layout_constraintStart_toEndOf=\"@+id/yearTextView\"\n",
    "        app:layout_constraintTop_toTopOf=\"parent\" />\n",
    "\n",
    "    <TextView\n",
    "        android:id=\"@+id/motivationTextView\"\n",
    "        android:layout_width=\"0dp\"\n",
    "        android:layout_height=\"wrap_content\"\n",
    "        android:layout_marginStart=\"8dp\"\n",
    "        android:lines=\"4\"\n",
    "        android:text=\"for groundbreaking contributions to our understanding of complex physical systems\"\n",
    "        android:textSize=\"12sp\"\n",
    "        app:layout_constraintEnd_toEndOf=\"parent\"\n",
    "        app:layout_constraintStart_toEndOf=\"@+id/portion\"\n",
    "        app:layout_constraintTop_toBottomOf=\"@+id/affiliationsTextView\" />\n",
    "\n",
    "    <TextView\n",
    "        android:id=\"@+id/portion\"\n",
    "        android:layout_width=\"wrap_content\"\n",
    "        android:layout_height=\"wrap_content\"\n",
    "        android:layout_marginStart=\"4dp\"\n",
    "        android:text=\"Portion:\"\n",
    "        android:textSize=\"8sp\"\n",
    "        app:layout_constraintStart_toStartOf=\"parent\"\n",
    "        app:layout_constraintTop_toBottomOf=\"@+id/affiliationsTextView\" />\n",
    "\n",
    "    <TextView\n",
    "        android:id=\"@+id/portionTextView\"\n",
    "        android:layout_width=\"wrap_content\"\n",
    "        android:layout_height=\"wrap_content\"\n",
    "        android:text=\"1/2\"\n",
    "        android:textSize=\"20sp\"\n",
    "        android:layout_marginStart=\"4dp\"\n",
    "        app:layout_constraintStart_toStartOf=\"parent\"\n",
    "        app:layout_constraintTop_toBottomOf=\"@+id/portion\" />\n",
    "\n",
    "    <TextView\n",
    "        android:id=\"@+id/affiliationsTextView\"\n",
    "        android:layout_width=\"0dp\"\n",
    "        android:layout_height=\"wrap_content\"\n",
    "        android:gravity=\"center\"\n",
    "        android:text=\"Uniwersytet Wroclawski\"\n",
    "        android:textSize=\"20sp\"\n",
    "        app:layout_constraintEnd_toEndOf=\"parent\"\n",
    "\n",
    "        app:layout_constraintStart_toEndOf=\"@+id/affiliations\"\n",
    "        app:layout_constraintTop_toBottomOf=\"@+id/categoryFullNameTextView\" />\n",
    "\n",
    "    <TextView\n",
    "        android:id=\"@+id/affiliations\"\n",
    "        android:layout_width=\"wrap_content\"\n",
    "        android:layout_height=\"wrap_content\"\n",
    "        android:layout_marginBottom=\"4dp\"\n",
    "        android:text=\"Affiliations:\"\n",
    "        android:textSize=\"16sp\"\n",
    "        app:layout_constraintBottom_toTopOf=\"@+id/motivationTextView\"\n",
    "        app:layout_constraintStart_toStartOf=\"parent\"\n",
    "        app:layout_constraintTop_toBottomOf=\"@+id/yearTextView\" />\n",
    "\n",
    "</androidx.constraintlayout.widget.ConstraintLayout>\n",
    "</androidx.cardview.widget.CardView>"
   ]
  },
  {
   "cell_type": "markdown",
   "id": "fa4e6e59-a469-4f92-b0cc-a7dc24ced9f7",
   "metadata": {},
   "source": [
    "Oraz przygotujmy adapter. Dodajmy pakiet `laureatenobelprize` do pakietu `adapters` i zaimplementujmy odpowiednie klasy"
   ]
  },
  {
   "cell_type": "code",
   "execution_count": null,
   "id": "cc8321eb-b167-40a2-b99c-062738465d54",
   "metadata": {},
   "outputs": [],
   "source": [
    "class NobelPrizeViewHolder(private val binding: LaureateNobelPrizeRvItemBinding)\n",
    "    : RecyclerView.ViewHolder(binding.root) {\n",
    "    fun bind(item: NobelPrize){\n",
    "        binding.yearTextView.text = item.awardYear\n",
    "        binding.portionTextView.text = item.portion\n",
    "        binding.motivationTextView.text = item.motivation.en\n",
    "        binding.categoryFullNameTextView.text = item.categoryFullName.en\n",
    "        binding.affiliationsTextView.text = affiliations(item)\n",
    "    }\n",
    "\n",
    "    private fun affiliations(item: NobelPrize): String{\n",
    "        val affiliations = StringBuilder()\n",
    "        item.affiliations?.forEach { affiliations.append(it.name.en).append(\"\\n\") }\n",
    "        return affiliations.toString()\n",
    "    }\n",
    "}"
   ]
  },
  {
   "cell_type": "markdown",
   "id": "a904e050-8f1b-493c-9e1a-0d9c25a3ab22",
   "metadata": {},
   "source": [
    "Wyświetlamy nazwy instytutów z którymi jest powiązana dana osoba. Podobnie jak w przypadku `NobelPrizesViewHolder` dodajmy dodatkową metodę - mamy dostępną listę wszystkich instytutów, chcemy `String`."
   ]
  },
  {
   "cell_type": "code",
   "execution_count": null,
   "id": "6da247fe-74b6-4756-ace0-3a365c599797",
   "metadata": {},
   "outputs": [],
   "source": [
    "class NobelPrizeComparator : DiffUtil.ItemCallback<NobelPrize>() {\n",
    "    override fun areItemsTheSame(oldItem: NobelPrize, newItem: NobelPrize): Boolean {\n",
    "        return oldItem === newItem\n",
    "    }\n",
    "\n",
    "    override fun areContentsTheSame(oldItem: NobelPrize, newItem: NobelPrize): Boolean {\n",
    "        return oldItem == newItem\n",
    "    }\n",
    "}"
   ]
  },
  {
   "cell_type": "code",
   "execution_count": null,
   "id": "823d9f6c-e7fb-4f43-ab36-bf59c466fe1f",
   "metadata": {},
   "outputs": [],
   "source": [
    "class NobelPrizeAdapter(itemComparator: NobelPrizeComparator) \n",
    "    : ListAdapter<NobelPrize, NobelPrizeViewHolder>(itemComparator) {\n",
    "    override fun onCreateViewHolder(parent: ViewGroup, viewType: Int)\n",
    "        : NobelPrizeViewHolder {\n",
    "        return NobelPrizeViewHolder(\n",
    "            LaureateNobelPrizeRvItemBinding.inflate(\n",
    "                LayoutInflater.from(parent.context), parent, false\n",
    "            )\n",
    "        )\n",
    "    }\n",
    "\n",
    "    override fun onBindViewHolder(holder: NobelPrizeViewHolder, position: Int) {\n",
    "        val item = getItem(position)\n",
    "        holder.bind(item)\n",
    "    }\n",
    "}"
   ]
  },
  {
   "cell_type": "markdown",
   "id": "9896b627-230a-45fa-a8fd-472586b1d7a3",
   "metadata": {},
   "source": [
    "Do interfejsu `NobelPrizeApi` dodajmy nową funkcję"
   ]
  },
  {
   "cell_type": "code",
   "execution_count": null,
   "id": "bbdc9c14-63c3-4bb3-951a-9fd24b41cd31",
   "metadata": {},
   "outputs": [],
   "source": [
    "@GET(\"2.1/laureate/{laureateID}\")\n",
    "suspend fun getLaureates(@Path(\"laureateID\") id: String) \n",
    "    : Response<LaureateResponse>"
   ]
  },
  {
   "cell_type": "markdown",
   "id": "09b4dfca-d06e-4fde-aa3f-809080acf093",
   "metadata": {},
   "source": [
    "dodajmy również `getLaureate` do repozytorium"
   ]
  },
  {
   "cell_type": "code",
   "execution_count": null,
   "id": "56869b90-4cd7-406c-8c8b-1588576ebab8",
   "metadata": {},
   "outputs": [],
   "source": [
    "suspend fun getLaureate(id: String) = RetrofitInstance.api.getLaureates(id)"
   ]
  },
  {
   "cell_type": "markdown",
   "id": "6af50d3e-2357-4009-b3a3-c580110067c4",
   "metadata": {},
   "source": [
    "Do pakietu `ui.fragmenst.laureate` dodajmy `LaureateViewModel` - jest on analogiczny do poprzednich"
   ]
  },
  {
   "cell_type": "code",
   "execution_count": null,
   "id": "ffca000f-6647-45dd-a674-17a2c777fce4",
   "metadata": {},
   "outputs": [],
   "source": [
    "class LaureateViewModel : ViewModel() {\n",
    "    private val repository = NobelRepository()\n",
    "    private val _laureate: MutableLiveData<Resource<LaureateResponse>> = MutableLiveData()\n",
    "\n",
    "    val laureate: LiveData<Resource<LaureateResponse>>\n",
    "        get() = _laureate\n",
    "\n",
    "    fun getLaureate(id: String) = viewModelScope.launch {\n",
    "        _laureate.postValue(Resource.Loading())\n",
    "        val response = repository.getLaureate(id)\n",
    "        _laureate.postValue(handleLaureateResponse(response))\n",
    "    }\n",
    "\n",
    "    private fun handleLaureateResponse(response: Response<LaureateResponse>)\n",
    "            : Resource<LaureateResponse> {\n",
    "        if (response.isSuccessful)\n",
    "            response.body()?.let { return Resource.Success(it) }\n",
    "        return Resource.Error(response.message())\n",
    "    }\n",
    "}"
   ]
  },
  {
   "cell_type": "markdown",
   "id": "2b30e182-789e-4472-8d61-e9b6ec32c8ea",
   "metadata": {},
   "source": [
    "W `LaureateFragment` odbieramy przesłany argument"
   ]
  },
  {
   "cell_type": "code",
   "execution_count": null,
   "id": "a7ea9584-848d-4aab-82f1-5f7416dd0430",
   "metadata": {},
   "outputs": [],
   "source": [
    "private val id: String? by lazy { requireArguments().getString(\"id\") }"
   ]
  },
  {
   "cell_type": "markdown",
   "id": "968af0e9-8a14-474c-adde-4020ca3f7318",
   "metadata": {},
   "source": [
    "Podobnie jak w poprzednich fragmentach, dodajmy kilka funkcji"
   ]
  },
  {
   "cell_type": "code",
   "execution_count": null,
   "id": "a636acd8-0cdf-47ee-aa2d-b0a68dd54a57",
   "metadata": {},
   "outputs": [],
   "source": [
    "private fun hideProgressBar(){\n",
    "    binding.laureateProgressBar.visibility = View.INVISIBLE\n",
    "}\n",
    "\n",
    "private fun showProgressBar(){\n",
    "    binding.laureateProgressBar.visibility = View.VISIBLE\n",
    "}\n",
    "\n",
    "private fun observeLaureatePrize(nobelPrizeAdapter: NobelPrizeAdapter) {\n",
    "    laureateViewModel.laureate.observe(viewLifecycleOwner) { response ->\n",
    "        when (response) {\n",
    "            is Resource.Success -> {\n",
    "                hideProgressBar()\n",
    "                response.data?.let { res ->\n",
    "                    inflateLayoutWithDate(res[0]) // res jest typu ArrayList\n",
    "                    nobelPrizeAdapter.submitList(res[0].nobelPrizes)\n",
    "\n",
    "                    binding.wikiButton.setOnClickListener {\n",
    "                        val action: NavDirections = LaureateFragmentDirections\n",
    "                            .actionLaureateFragmentToWikiLaureateFragment(\n",
    "                                res[0].wikipedia.english\n",
    "                            )\n",
    "                        findNavController().navigate(action)\n",
    "                    }\n",
    "                }\n",
    "            }\n",
    "            is Resource.Error -> {\n",
    "                hideProgressBar()\n",
    "                response.message?.let { Log.e(TAG, \"Error occurred: $it\") }\n",
    "            }\n",
    "            is Resource.Loading -> showProgressBar()\n",
    "        }\n",
    "    }\n",
    "}\n",
    "\n",
    "private fun inflateLayoutWithDate(item: LaureateResponseItem){\n",
    "    binding.fullNameTextView.text = item.fullName.en\n",
    "    binding.birthDateTextView.text = item.birth.date\n",
    "    binding.birthCityTextView.text = item.birth.place.city.en\n",
    "    binding.birthCountryTextView.text = item.birth.place.country.en\n",
    "    binding.deathDateTextView.text = item.death?.date?:\"\"\n",
    "    binding.deathCityTextView.text = item.death?.place?.city?.en?:\"\"\n",
    "    binding.deathCountryTextView.text = item.death?.place?.country?.en?:\"\"\n",
    "}\n",
    "\n",
    "private fun setupRecyclerView(nobelPrizeAdapter: NobelPrizeAdapter) {\n",
    "    binding.laureateRV.apply {\n",
    "        adapter = nobelPrizeAdapter\n",
    "        layoutManager = LinearLayoutManager(requireContext())\n",
    "    }\n",
    "}"
   ]
  },
  {
   "cell_type": "markdown",
   "id": "cc6b19ce-5282-4e45-847a-6c9d5f1fcd82",
   "metadata": {},
   "source": [
    "Nasze dane otrzymujemy jako `ArrayList`, więc używamy odpowiednich metod dostępowych. Dodajemy również obsługę `onClick` naszego przycisku, dzięki któremu przechodzimy na `WikiFragment` - przekazujemy również `url` do wpisu w wikipedii."
   ]
  },
  {
   "cell_type": "markdown",
   "id": "b054ec19-1c97-4910-89e3-d37e123c3e3d",
   "metadata": {},
   "source": [
    "### **`WikiFragment`**"
   ]
  },
  {
   "cell_type": "markdown",
   "id": "aa431028-5c20-4d21-af1c-c72d89196a3f",
   "metadata": {},
   "source": [
    "W tym fragmencie wyświetlimy stronę internetową wiki - zrobimy to wykorzystując `WebView`. Rozpocznijmy od layoutu."
   ]
  },
  {
   "cell_type": "code",
   "execution_count": null,
   "id": "52050c53-9af1-420c-9a3d-4ad12056fb54",
   "metadata": {},
   "outputs": [],
   "source": [
    "<FrameLayout xmlns:android=\"http://schemas.android.com/apk/res/android\"\n",
    "    xmlns:tools=\"http://schemas.android.com/tools\"\n",
    "    android:layout_width=\"match_parent\"\n",
    "    android:layout_height=\"match_parent\"\n",
    "    tools:context=\".ui.fragments.wiki.WikiLaureateFragment\">\n",
    "\n",
    "    <WebView\n",
    "        android:id=\"@+id/webView\"\n",
    "        android:layout_margin=\"8dp\"\n",
    "        android:layout_width=\"match_parent\"\n",
    "        android:layout_height=\"match_parent\"/>\n",
    "\n",
    "</FrameLayout>"
   ]
  },
  {
   "cell_type": "markdown",
   "id": "9364846e-0ea1-419b-84bc-673fdd4d88ab",
   "metadata": {},
   "source": [
    "W `WikiFragment` odbieramy argument"
   ]
  },
  {
   "cell_type": "code",
   "execution_count": null,
   "id": "6db15396-0eca-4dc6-aac5-542c0a979b2c",
   "metadata": {},
   "outputs": [],
   "source": [
    "private val wikiUrl: String? by lazy { requireArguments().getString(\"url\") }"
   ]
  },
  {
   "cell_type": "markdown",
   "id": "d49206f0-f2c7-4721-980d-d03dec371a74",
   "metadata": {},
   "source": [
    "I w metodzie `onViewCreated` inicjujemy `WebView`"
   ]
  },
  {
   "cell_type": "code",
   "execution_count": null,
   "id": "67d42d50-5867-4402-ad47-69b7fdf8a4c4",
   "metadata": {},
   "outputs": [],
   "source": [
    "binding.webView.apply {\n",
    "    webViewClient = WebViewClient()\n",
    "    loadUrl(wikiUrl!!)\n",
    "}"
   ]
  },
  {
   "cell_type": "markdown",
   "id": "09deef9f-82b0-488e-94b2-d17e463ae277",
   "metadata": {},
   "source": [
    "W pierwszym kroku tworzymy `WebViewClient` - jest to klasa która pozwala aplikacji przejąć kontrolę przy ładowaniu `url` do `WebView`. Jeżeli klient nie jest zainicjowany, `WebView` przekazuje kontrolę do `ActivityManager`, aby ten wybrał odpowiedni handler dla tego typu zasobu.\n",
    "\n",
    "Następnie wykorzystujemy `loeadUrl` do załadowania adresu i wyświetlenia treści."
   ]
  },
  {
   "cell_type": "markdown",
   "id": "fbcdf250-e71c-421b-a251-f1b944ca487f",
   "metadata": {},
   "source": [
    "Możemy przetestować aplikację"
   ]
  },
  {
   "cell_type": "markdown",
   "id": "95decab0-124f-4032-add7-90439110e59c",
   "metadata": {},
   "source": [
    "<table><tr><td><img src=\"https://media0.giphy.com/media/NuuG5HnAdmdTjLV0DV/giphy.webp\" width=\"150\" /></td><td><img src=\"https://media3.giphy.com/media/6pIR2WozCb81CcuGZo/giphy.webp\" width=\"150\" /></td><td><img src=\"https://media0.giphy.com/media/8QoE7dYN8as4gRjE16/giphy.webp\" width=\"150\" /></td></tr></table>"
   ]
  },
  {
   "cell_type": "code",
   "execution_count": null,
   "id": "142bdf9e-d7ed-4459-89d0-ea41f3a630a0",
   "metadata": {},
   "outputs": [],
   "source": []
  }
 ],
 "metadata": {
  "kernelspec": {
   "display_name": "Kotlin",
   "language": "kotlin",
   "name": "kotlin"
  },
  "language_info": {
   "codemirror_mode": "text/x-kotlin",
   "file_extension": ".kt",
   "mimetype": "text/x-kotlin",
   "name": "kotlin",
   "nbconvert_exporter": "",
   "pygments_lexer": "kotlin",
   "version": "1.6.20-dev-6372"
  }
 },
 "nbformat": 4,
 "nbformat_minor": 5
}
