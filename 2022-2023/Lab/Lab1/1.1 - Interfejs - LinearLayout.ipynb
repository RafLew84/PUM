{
 "cells": [
  {
   "cell_type": "markdown",
   "id": "b494a7ee-5d67-43b6-90e8-fdc8285c8427",
   "metadata": {},
   "source": [
    "# 1.1 LinearLayout"
   ]
  },
  {
   "cell_type": "markdown",
   "id": "ca2e5db9-9c3b-463e-8c54-a74f225d834a",
   "metadata": {},
   "source": [
    "Rozpoczynając nowy projekt wybieramy `Empty Activity`. W tym przykładzie posługujjemyy się tylko `XML` więc język jest bez znaczenia. `Package name` standardowo jest odwrotną nazwą domeny - w ramach tych zajęć posługuję się `pl.edu.uwr.pum`. Musimy również wybrać minimalną wersję `SDK` wsperaną przez aplikację - na zajęciach będzie to najczęściej `API 28`."
   ]
  },
  {
   "cell_type": "markdown",
   "id": "39f74371-3461-47af-aabb-d1ff48f6c42b",
   "metadata": {},
   "source": [
    "Po rozpoczęciu projektu mamy plik `MainActivity` - czyli główną aktywność. W metodzie cyklu życia aktywności `OnCreate()` możemy odnaleźć wywołanie funkcji `setContentView()` która wskazuje w którym pliku zdefiniowany jest layout tej aktywności. Przechodzimy do pliku `activity_main.xml` w katalogu `res -> layout`."
   ]
  },
  {
   "cell_type": "markdown",
   "id": "b8dfdb92-78f4-47b2-bdc8-cc2c4faa2d8c",
   "metadata": {},
   "source": [
    "<img src=\"https://fv9-4.failiem.lv/thumb_show.php?i=n3mpezuv9&view\" width=\"800\" />"
   ]
  },
  {
   "cell_type": "markdown",
   "id": "1e06f35e-1dd5-4e91-8a3b-c3a4527cd3ab",
   "metadata": {},
   "source": [
    "W prawym górnym rogu znajduują się trzy zakłdaki `Code`, `Split` i `Design` - przechodzimy do zakładki `Split`."
   ]
  },
  {
   "cell_type": "markdown",
   "id": "44c4c733-9b30-482b-b84e-3455adae5f88",
   "metadata": {},
   "source": [
    "Domyślnie głównym elementem layoutu jest `ConstraintLayout` - tutaj zastąpimy go poprzez `LinearLayyout` i usuwamy pozostałe elementy."
   ]
  },
  {
   "cell_type": "markdown",
   "id": "4108446c-dc09-417f-beea-73793d609cbd",
   "metadata": {},
   "source": [
    "```xml\n",
    "<?xml version=\"1.0\" encoding=\"utf-8\"?>\n",
    "<LinearLayout xmlns:android=\"http://schemas.android.com/apk/res/android\"\n",
    "    xmlns:tools=\"http://schemas.android.com/tools\"\n",
    "    android:layout_width=\"match_parent\"\n",
    "    android:layout_height=\"match_parent\"\n",
    "    android:orientation=\"vertical\"\n",
    "    tools:context=\".MainActivity\">\n",
    "\n",
    "</LinearLayout>\n",
    "```"
   ]
  },
  {
   "cell_type": "markdown",
   "id": "bbb13935-c793-4ffe-9c6a-63199ccbd32a",
   "metadata": {},
   "source": [
    "Pierwsze dwie (lub trzy) linie kodu są atrybutami layoutu - muszą się znajdować w najbardziej zewnętrznym elemencie. W tych atrybutach zdefiniowane są pola i właściwości pozwalające na dostosowanie wyglądu layoutu."
   ]
  },
  {
   "cell_type": "markdown",
   "id": "a34e6ba5-34cf-42f0-9348-02d13267f5cd",
   "metadata": {},
   "source": [
    "Przykładowo, podstawowe właściwości - szerokość i wysokość layoutu są zdefiniowane w atrybucie `android`. Każdy element layoutu musi posiadać minimum te dwie właściwości. Możemy je ustawić na cztery sposoby:\n",
    "- `match_parent` - dopasowanie do zewnętrznego elementu (rodzica); jeżeli używamy w najbardziej zewnętrznym elemencie - dopasowanie do rozmiarów ekranu\n",
    "- `wrap_content` - dopasowanie do zawartości elementu (przykładowo: dopasowanie do ilości tekstu)\n",
    "- `<ilość>dp (200dp)` - konkretny rozmiar; `dp` - **density independent pixel** - Jednostką tą wyraża się wymiary i położenie w sposób niezależny od gęstości pikseli\n",
    "- `0dp` - wypełnienie pozostałej dostępnej przestrzeni"
   ]
  },
  {
   "cell_type": "markdown",
   "id": "b50369a0-e305-405e-882e-673b43e9b02d",
   "metadata": {},
   "source": [
    "`LinearLayout` musi zawierać jeszcze jedną właściwość - **orientację**. Nasz jedyny layout ustawiamy w orientacji `vertical` - czyli każdy kolejno dodany element będzie umieszczany pod poprzednio dodanym."
   ]
  },
  {
   "cell_type": "markdown",
   "id": "6c265501-c605-49c0-abfe-f080295abeb5",
   "metadata": {},
   "source": [
    "```xml\n",
    "        <TextView\n",
    "            android:layout_width=\"wrap_content\"\n",
    "            android:layout_height=\"wrap_content\"\n",
    "            android:text=\"PUM\"\n",
    "            android:textSize=\"20sp\"/>\n",
    "\n",
    "        <TextView\n",
    "            android:layout_width=\"wrap_content\"\n",
    "            android:layout_height=\"wrap_content\"\n",
    "            android:text=\"PUM2\"\n",
    "            android:textSize=\"20sp\"/>\n",
    "```"
   ]
  },
  {
   "cell_type": "markdown",
   "id": "7eeed530-ba08-407d-8ae8-4a3839076dc5",
   "metadata": {},
   "source": [
    "Layouty możemy zagnieżdżać - jeżeli chcemy umieścić trzy elementy w takim rozmieszczeniu"
   ]
  },
  {
   "cell_type": "markdown",
   "id": "97daf765-c753-4c92-a9d8-74bf7b8b4780",
   "metadata": {},
   "source": [
    "<img src=\"https://fv9-4.failiem.lv/thumb_show.php?i=kgy3uek74&view\" width=\"400\" />"
   ]
  },
  {
   "cell_type": "markdown",
   "id": "e6ae0e2d-29e7-4ec3-b593-1380c5cbe4dc",
   "metadata": {},
   "source": [
    "możemyy wykorzystać możliwość zgnieżdżenia dwóch `linearlayout` - jednego z orientacją **wertykalnej**, drugiego z orientacją **horyzontalną**"
   ]
  },
  {
   "cell_type": "markdown",
   "id": "7f3315b2-060c-4070-ac76-13ee2489d57b",
   "metadata": {},
   "source": [
    "```xml\n",
    "<?xml version=\"1.0\" encoding=\"utf-8\"?>\n",
    "<LinearLayout xmlns:android=\"http://schemas.android.com/apk/res/android\"\n",
    "    xmlns:tools=\"http://schemas.android.com/tools\"\n",
    "    android:layout_width=\"match_parent\"\n",
    "    android:layout_height=\"match_parent\"\n",
    "    android:orientation=\"vertical\"\n",
    "    tools:context=\".MainActivity\">\n",
    "\n",
    "    <LinearLayout\n",
    "        android:layout_width=\"match_parent\"\n",
    "        android:layout_height=\"wrap_content\"\n",
    "        android:orientation=\"horizontal\">\n",
    "\n",
    "        <TextView\n",
    "            android:layout_width=\"wrap_content\"\n",
    "            android:layout_height=\"wrap_content\"\n",
    "            android:layout_weight=\"1\"\n",
    "            android:text=\"PUM\"\n",
    "            android:textSize=\"20sp\"/>\n",
    "\n",
    "        <TextView\n",
    "            android:layout_width=\"wrap_content\"\n",
    "            android:layout_height=\"wrap_content\"\n",
    "            android:text=\"PUM2\"\n",
    "            android:layout_weight=\"1\"\n",
    "            android:textSize=\"20sp\"/>\n",
    "\n",
    "    </LinearLayout>\n",
    "\n",
    "    <EditText\n",
    "        android:layout_width=\"match_parent\"\n",
    "        android:layout_height=\"wrap_content\"\n",
    "        android:hint=\"PUM\"\n",
    "        android:autofillHints=\"false\"\n",
    "        android:inputType=\"\">\n",
    "    </EditText>\n",
    "</LinearLayout>\n",
    "```"
   ]
  },
  {
   "cell_type": "markdown",
   "id": "c7dce111-3dea-4297-989b-df6983fb470a",
   "metadata": {},
   "source": [
    "Jeżeli chcemy rozmieścić elementy zawarte w rodzicu równomiernie możemy wykorzystać wagę layoutu - `android:layout_weight`. W powyższym przykładzie w obu polach `TextView` mamy wstawioną wagę 1, więc ich stosunek szerokości będzie wynosił 1:1."
   ]
  },
  {
   "cell_type": "markdown",
   "id": "77011bcf-655d-41eb-9bf5-b4f399f2828c",
   "metadata": {},
   "source": [
    "Elementy znajsujące się obok siebie i obok krawędzi często do nich przylegają. Aby tego uniknąć możemy wykorzystać właściwości `layout_margin` i `padding`"
   ]
  },
  {
   "cell_type": "markdown",
   "id": "c063b936-de5c-43a7-bbde-1fccd96fc517",
   "metadata": {},
   "source": [
    "Pełny kod źródłowy przykładu:"
   ]
  },
  {
   "cell_type": "markdown",
   "id": "28edfc20-8b43-4628-913f-cbb93e78b03d",
   "metadata": {},
   "source": [
    "```xml\n",
    "<?xml version=\"1.0\" encoding=\"utf-8\"?>\n",
    "<LinearLayout xmlns:android=\"http://schemas.android.com/apk/res/android\"\n",
    "    xmlns:tools=\"http://schemas.android.com/tools\"\n",
    "    android:layout_width=\"match_parent\"\n",
    "    android:layout_height=\"match_parent\"\n",
    "    android:orientation=\"vertical\"\n",
    "    tools:context=\".MainActivity\">\n",
    "\n",
    "    <LinearLayout\n",
    "        android:layout_width=\"match_parent\"\n",
    "        android:layout_height=\"wrap_content\"\n",
    "        android:orientation=\"horizontal\">\n",
    "\n",
    "        <TextView\n",
    "            android:layout_width=\"wrap_content\"\n",
    "            android:layout_height=\"wrap_content\"\n",
    "            android:layout_weight=\"1\"\n",
    "            android:text=\"PUM\"\n",
    "            android:textSize=\"20sp\"/>\n",
    "\n",
    "        <TextView\n",
    "            android:layout_width=\"wrap_content\"\n",
    "            android:layout_height=\"wrap_content\"\n",
    "            android:text=\"PUM2\"\n",
    "            android:layout_weight=\"1\"\n",
    "            android:textSize=\"20sp\"/>\n",
    "\n",
    "    </LinearLayout>\n",
    "\n",
    "    <EditText\n",
    "        android:layout_width=\"match_parent\"\n",
    "        android:layout_height=\"wrap_content\"\n",
    "        android:hint=\"PUM\"\n",
    "        android:autofillHints=\"false\"\n",
    "        android:inputType=\"\">\n",
    "    </EditText>\n",
    "\n",
    "    <LinearLayout\n",
    "        android:layout_width=\"match_parent\"\n",
    "        android:layout_height=\"wrap_content\"\n",
    "        android:orientation=\"horizontal\">\n",
    "\n",
    "        <TextView\n",
    "            android:layout_width=\"wrap_content\"\n",
    "            android:layout_height=\"wrap_content\"\n",
    "            android:layout_weight=\"3\"\n",
    "            android:text=\"PUM\"\n",
    "            android:layout_marginStart=\"16dp\"\n",
    "            android:textSize=\"20sp\"/>\n",
    "\n",
    "        <Button\n",
    "            android:layout_width=\"wrap_content\"\n",
    "            android:layout_height=\"wrap_content\"\n",
    "            android:padding=\"16dp\"\n",
    "            android:layout_marginEnd=\"16dp\"\n",
    "            android:text=\"PUM2\"\n",
    "            android:layout_weight=\"1\"\n",
    "            android:textSize=\"20sp\"/>\n",
    "\n",
    "    </LinearLayout>\n",
    "</LinearLayout>\n",
    "```"
   ]
  },
  {
   "cell_type": "code",
   "execution_count": null,
   "id": "86263975-7c6d-46fd-b555-12fc97ec3bba",
   "metadata": {},
   "outputs": [],
   "source": []
  }
 ],
 "metadata": {
  "kernelspec": {
   "display_name": "Kotlin",
   "language": "kotlin",
   "name": "kotlin"
  },
  "language_info": {
   "codemirror_mode": "text/x-kotlin",
   "file_extension": ".kt",
   "mimetype": "text/x-kotlin",
   "name": "kotlin",
   "nbconvert_exporter": "",
   "pygments_lexer": "kotlin",
   "version": "1.6.20-dev-6372"
  }
 },
 "nbformat": 4,
 "nbformat_minor": 5
}
