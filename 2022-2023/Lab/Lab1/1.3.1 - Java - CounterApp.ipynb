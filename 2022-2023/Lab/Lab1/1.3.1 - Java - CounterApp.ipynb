{
 "cells": [
  {
   "cell_type": "markdown",
   "id": "8516b005-6a68-462a-8fc8-e033aad00238",
   "metadata": {},
   "source": [
    "## 1.3 CounterApp"
   ]
  },
  {
   "cell_type": "markdown",
   "id": "b124fb2f-f9bd-4e35-8d90-2c73831b41f4",
   "metadata": {},
   "source": [
    "Przejdźmy do utworzenia pierwszej aplikacji i stwórzmy prosty licznik. "
   ]
  },
  {
   "cell_type": "markdown",
   "id": "23dbb07e-9cbb-414d-bc3e-e5593d4227d7",
   "metadata": {},
   "source": [
    "<img src=\"https://media0.giphy.com/media/Lh9I3cXP2VdH1sFrsc/giphy.gif?cid=790b7611d0829bffb2f61d086d037fcf87f9b0f805ef3b33&rid=giphy.gif&ct=g\" width=\"200\" />"
   ]
  },
  {
   "cell_type": "markdown",
   "id": "2d5af573-9297-469e-bc0f-12d735047612",
   "metadata": {},
   "source": [
    "Rozpoczniemy od utworzenia interfejsu zawierającego jeden `Button` i pole `TextView`. Przechodzimy do pliku `activity_main.xml`."
   ]
  },
  {
   "cell_type": "markdown",
   "id": "b627fe07-dfd3-481c-aa76-43ca9ea3c53f",
   "metadata": {},
   "source": [
    "```xml\n",
    "<?xml version=\"1.0\" encoding=\"utf-8\"?>\n",
    "<LinearLayout xmlns:android=\"http://schemas.android.com/apk/res/android\"\n",
    "    xmlns:tools=\"http://schemas.android.com/tools\"\n",
    "    android:layout_width=\"match_parent\"\n",
    "    android:layout_height=\"match_parent\"\n",
    "    android:orientation=\"vertical\"\n",
    "    tools:context=\".MainActivity\">\n",
    "\n",
    "    <TextView\n",
    "        android:id=\"@+id/show_count\"\n",
    "        android:layout_width=\"match_parent\"\n",
    "        android:layout_height=\"0dp\"\n",
    "        android:layout_weight=\"1\"\n",
    "        android:text=\"0\"\n",
    "        android:textSize=\"250sp\"\n",
    "        android:gravity=\"center\"\n",
    "        android:textStyle=\"bold\"/>\n",
    "\n",
    "    <Button\n",
    "        android:layout_width=\"match_parent\"\n",
    "        android:layout_height=\"wrap_content\"\n",
    "        android:text=\"Count Up\"\n",
    "        android:onClick=\"countUpButton\"/>\n",
    "</LinearLayout>\n",
    "```"
   ]
  },
  {
   "cell_type": "markdown",
   "id": "65229947-2760-4a85-b4d2-ada3de5a1daf",
   "metadata": {},
   "source": [
    "Zauważmy kilka nowych elementów:\n",
    "- `android:id` - jest identyfikatorem przez który możemy odnosić się do tego elementu w kodzie\n",
    "- `gravity` - wyśrodkowanie elementu\n",
    "- `android:onClick` - jedna z wielu możliwości dodania metody obsługi zdarzenia `onClick` - metoda nosi nazwę **countUpButton**, jej implementacja będzie znajdować się w pliku głównej aktywności"
   ]
  },
  {
   "cell_type": "markdown",
   "id": "637d99d5-807c-4271-ae78-18ea33df1e54",
   "metadata": {},
   "source": [
    "Przejdźmy teraz do pliku `MainActivity.java` w którym implementujemy funckjonalność głównej aktywności i dodajmy obsługę zdarzenia `onClick`. W pierwszej kolejności musimy utworzyć pole reprezentujące `TextView`. Do klasy `MainActivity` dodajemy"
   ]
  },
  {
   "cell_type": "code",
   "execution_count": null,
   "id": "b1f25b2c-d56f-4568-b45c-cbde12316278",
   "metadata": {},
   "outputs": [],
   "source": [
    "private TextView showCount;"
   ]
  },
  {
   "cell_type": "markdown",
   "id": "26b75935-696d-41bc-8917-322713fc261f",
   "metadata": {},
   "source": [
    "W następnym kroku musimy powiązać pole `showCount` z elementem layoutu `show_count`, robimy to wywołując metodę `findViewById` z poziomu metody `OnCreate` - jest to jedna z wielu dostępnym opcji."
   ]
  },
  {
   "cell_type": "code",
   "execution_count": null,
   "id": "7d40a744-6f23-4f2d-974a-d852b97ba83a",
   "metadata": {},
   "outputs": [],
   "source": [
    "protected void onCreate(Bundle savedInstanceState) {\n",
    "    super.onCreate(savedInstanceState);\n",
    "    setContentView(R.layout.activity_main);\n",
    "\n",
    "    showCount = findViewById(R.id.show_count);\n",
    "}"
   ]
  },
  {
   "cell_type": "markdown",
   "id": "c78f9f6b-edfd-4145-b5fd-51687ef6244b",
   "metadata": {},
   "source": [
    "Następnie dodajmy zmienną reprezentującą stan licznika"
   ]
  },
  {
   "cell_type": "code",
   "execution_count": null,
   "id": "ac3c3878-01fc-41b5-9bf7-62bda80b6e86",
   "metadata": {},
   "outputs": [],
   "source": [
    "private int count;"
   ]
  },
  {
   "cell_type": "markdown",
   "id": "23b1f1d8-2ac9-4340-8bdf-a5915a423c8e",
   "metadata": {},
   "source": [
    "Kolejnym krokiem jest wyświetlenie tekstu, w tym celu wywołujemy metodę `setText`"
   ]
  },
  {
   "cell_type": "code",
   "execution_count": null,
   "id": "bd170556-e132-4534-8925-f036000cc00a",
   "metadata": {},
   "outputs": [],
   "source": [
    "protected void onCreate(Bundle savedInstanceState) {\n",
    "    super.onCreate(savedInstanceState);\n",
    "    setContentView(R.layout.activity_main);\n",
    "\n",
    "    showCount = findViewById(R.id.show_count);\n",
    "\n",
    "    if (showCount != null)\n",
    "        showCount.setText(String.format(Locale.GERMAN, \"%,d\", count));\n",
    "    }\n",
    "}"
   ]
  },
  {
   "cell_type": "markdown",
   "id": "33071a6f-dfae-44d8-b729-610215947f73",
   "metadata": {},
   "source": [
    "Ostatnim krokiem jest dodanie implementacji metody `countUpButton`. W ciele klasy `MainActivity` dodajemy"
   ]
  },
  {
   "cell_type": "code",
   "execution_count": null,
   "id": "b86b317a-b052-4fbe-a7c2-adbf60979aaf",
   "metadata": {},
   "outputs": [],
   "source": [
    "public void countUpButton(View view) {\n",
    "    count++;\n",
    "    if (showCount != null)\n",
    "        showCount.setText(String.format(Locale.GERMAN, \"%,d\", count));\n",
    "}"
   ]
  },
  {
   "cell_type": "markdown",
   "id": "af87299d-fd15-4d10-8f1d-60f4cefb8b29",
   "metadata": {},
   "source": [
    "Na tym etapie możemy zbudować projekt. Pełny kod źródłowy:"
   ]
  },
  {
   "cell_type": "markdown",
   "id": "b381408f-b89e-4324-9505-b43e912d3b42",
   "metadata": {},
   "source": [
    "`activity_main.xml`"
   ]
  },
  {
   "cell_type": "markdown",
   "id": "4240c411-d8a1-4fba-b673-f2b7910e0788",
   "metadata": {},
   "source": [
    "```xml\n",
    "<?xml version=\"1.0\" encoding=\"utf-8\"?>\n",
    "<LinearLayout xmlns:android=\"http://schemas.android.com/apk/res/android\"\n",
    "    xmlns:tools=\"http://schemas.android.com/tools\"\n",
    "    android:layout_width=\"match_parent\"\n",
    "    android:layout_height=\"match_parent\"\n",
    "    android:orientation=\"vertical\"\n",
    "    tools:context=\".MainActivity\">\n",
    "\n",
    "    <TextView\n",
    "        android:id=\"@+id/show_count\"\n",
    "        android:layout_width=\"match_parent\"\n",
    "        android:layout_height=\"0dp\"\n",
    "        android:layout_weight=\"1\"\n",
    "        android:text=\"0\"\n",
    "        android:textSize=\"250sp\"\n",
    "        android:gravity=\"center\"\n",
    "        android:textStyle=\"bold\"/>\n",
    "\n",
    "    <Button\n",
    "        android:layout_width=\"match_parent\"\n",
    "        android:layout_height=\"wrap_content\"\n",
    "        android:text=\"Count Up\"\n",
    "        android:onClick=\"countUpButton\"/>\n",
    "</LinearLayout>\n",
    "```"
   ]
  },
  {
   "cell_type": "markdown",
   "id": "e8878b8e-c142-4345-b3e4-130a6573d8f2",
   "metadata": {},
   "source": [
    "`MainActivity.java`"
   ]
  },
  {
   "cell_type": "code",
   "execution_count": null,
   "id": "653ea928-1eb2-41b4-ae3c-9d4e1e51431a",
   "metadata": {},
   "outputs": [],
   "source": [
    "package pl.edu.uwr.pum.counterappjava;\n",
    "\n",
    "import androidx.appcompat.app.AppCompatActivity;\n",
    "\n",
    "import android.os.Bundle;\n",
    "import android.view.View;\n",
    "import android.widget.TextView;\n",
    "\n",
    "import java.util.Locale;\n",
    "\n",
    "public class MainActivity extends AppCompatActivity {\n",
    "\n",
    "    private int count;\n",
    "    private TextView showCount;\n",
    "\n",
    "    @Override\n",
    "    protected void onCreate(Bundle savedInstanceState) {\n",
    "        super.onCreate(savedInstanceState);\n",
    "        setContentView(R.layout.activity_main);\n",
    "\n",
    "        showCount = findViewById(R.id.show_count);\n",
    "\n",
    "        if (showCount != null)\n",
    "            showCount.setText(String.format(Locale.GERMAN, \"%,d\", count));\n",
    "    }\n",
    "\n",
    "    public void countUpButton(View view) {\n",
    "        count++;\n",
    "        if (showCount != null)\n",
    "            showCount.setText(String.format(Locale.GERMAN, \"%,d\", count));\n",
    "    }\n",
    "}"
   ]
  },
  {
   "cell_type": "markdown",
   "id": "39914b5c-5ce7-4f0b-b1bf-90ca08f5fef1",
   "metadata": {},
   "source": [
    "<img src=\"https://fv9-6.failiem.lv/thumb_show.php?i=e73zs4cbf&view\" width=\"200\" />"
   ]
  },
  {
   "cell_type": "markdown",
   "id": "00e9c0f4-ca41-4905-92d6-c785662c8442",
   "metadata": {},
   "source": [
    "Zwróćmy uwagę że przy zmianie orientacji urządzenia stan licznika jest resetowany"
   ]
  },
  {
   "cell_type": "markdown",
   "id": "36563b3c-d194-421b-9ab3-3027356fab42",
   "metadata": {},
   "source": [
    "<img src=\"https://fv9-5.failiem.lv/thumb_show.php?i=auy6zck7f&view\" width=\"200\" />"
   ]
  },
  {
   "cell_type": "markdown",
   "id": "d7f81eed-5454-4214-acff-cab35c950ee9",
   "metadata": {},
   "source": [
    "Jest to związane z cyklem życia aktywności - aktywność jest niszczona i odtwarzana przy każdej zmianie konfiguracji. Możemy dane zachować przy pomocy obiektu typu `Bundle`. Zwróćmy uwagę na sygnaturę metody `OnCreate(Bundle savedInstanceState)` - przyjmuje ona jeden argument, to właśnie w nim możemy przekazać dane których nie chcemy utracić."
   ]
  },
  {
   "cell_type": "markdown",
   "id": "c54f81b5-2d20-4086-add3-ca5b91f4b94e",
   "metadata": {},
   "source": [
    "W pierwszym kroku musime zapisać dane które chcemy zachować i spakować je do obiektu `Bundle`. W tym celu mamy specjalną metodę którą możemy nadpisać w klasie `MainActivity` - metoda nazywa się `onSaveInstanceState`."
   ]
  },
  {
   "cell_type": "code",
   "execution_count": null,
   "id": "cc24d648-4706-4277-bc41-654091c3e20f",
   "metadata": {},
   "outputs": [],
   "source": [
    "@Override\n",
    "protected void onSaveInstanceState(@NonNull Bundle outState) {\n",
    "    super.onSaveInstanceState(outState);\n",
    "\n",
    "    outState.putInt(\"counter_state\", count);\n",
    "}"
   ]
  },
  {
   "cell_type": "markdown",
   "id": "a7f0ff06-0a96-49cb-bc13-6788a997ecef",
   "metadata": {},
   "source": [
    "Do obiektu typu `Bundle` (standardowo nazywanym `outState` w metodzie `onSaveInstanceState`) możemy dodać dowolną liczbę danych za pomocą odpowiednich metod, tutaj chcemy przekazać stan licznika, więc używamy metody `putInt`. Metoda ta przyjmuje dwa argumenty:\n",
    "- klucz typu `String` który jest unikalnym identyfikatorem\n",
    "- wartość typu odpowiadającemu wywoływnej metodzie - tutaj wykorzystując metodę `putInt` wartość będzie typu `int`"
   ]
  },
  {
   "cell_type": "markdown",
   "id": "5e3142bc-1482-4498-a1c6-abc9fb055aeb",
   "metadata": {},
   "source": [
    "Za każdym razem przy zmianie konfiguracji urządzenia metoda `onSaveInstanceState` jest wywoływana automatycznie. Dane możemy odebrać w metodzie `OnCreate`, która przyjmuje argueemnt typu `Bundle` (nie jest to jedyna możliwość - jest również metoda `onRestoreinstanceState`). Aby rozpakować przekazane dane do zmiennej `count` przypisujemy wartość wyciągniętą z argumentu `savedInstanceState` - pamiętając o sprawdzeniu czy `Bundle` nie ma wartości `null`. Posiada ją zawsze przy pierwszym uruchomieniu. Do metody `OnCreate` dodajemy kod"
   ]
  },
  {
   "cell_type": "code",
   "execution_count": null,
   "id": "5bce6a6a-7901-4402-8943-2d9303711922",
   "metadata": {},
   "outputs": [],
   "source": [
    "if (savedInstanceState != null)\n",
    "    count = savedInstanceState.getInt(\"counter_state\");"
   ]
  },
  {
   "cell_type": "markdown",
   "id": "4f9cd374-4556-4c6d-bd3f-c8a0de852017",
   "metadata": {},
   "source": [
    "Tutaj istotna jest kolejność wywołań - wpierw próbujemy przypisać do `count` wartość z `savedInstanceState`, jeżeli to się nie uda wartoość `count` pozostaje domyślna. Wartość wyjmujemy za pomocą analogicznej do `putInt` metody `getInt`, która przyjmuje jeden argument - jest to unikalny. Oczywistym jest że klucz w metodach `putInt` i `getInt` musi być ten sam. Dopiero wtedy wykonujemy aktualizację pola `showCount` (**TextView**). Pełny kod metody `OnCreate`"
   ]
  },
  {
   "cell_type": "code",
   "execution_count": null,
   "id": "d8563f3e-73fc-4f40-8dd2-b85d35a068c2",
   "metadata": {},
   "outputs": [],
   "source": [
    "@Override\n",
    "protected void onCreate(Bundle savedInstanceState) {\n",
    "    super.onCreate(savedInstanceState);\n",
    "    setContentView(R.layout.activity_main);\n",
    "\n",
    "    showCount = findViewById(R.id.show_count);\n",
    "\n",
    "    if (savedInstanceState != null)\n",
    "        count = savedInstanceState.getInt(\"counter_state\");\n",
    "\n",
    "    if (showCount != null)\n",
    "        showCount.setText(Integer.toString(count));\n",
    "}"
   ]
  },
  {
   "cell_type": "markdown",
   "id": "ca9017f6-b3c9-4f8f-9532-4d0a4dd4a243",
   "metadata": {},
   "source": [
    "Przy prawidłowej implementacji stan licznika powinien być zachowany w przypadku wystąpienia zdarzenia rotacji."
   ]
  },
  {
   "cell_type": "markdown",
   "id": "c378612e-65a8-4d25-b0c0-95c275739624",
   "metadata": {},
   "source": [
    "Pełny kod `MainActivity.java`"
   ]
  },
  {
   "cell_type": "code",
   "execution_count": null,
   "id": "1665192b-641e-471a-a374-2060a7a47e59",
   "metadata": {},
   "outputs": [],
   "source": [
    "package pl.edu.uwr.pum.counterappjava;\n",
    "\n",
    "import androidx.annotation.NonNull;\n",
    "import androidx.appcompat.app.AppCompatActivity;\n",
    "\n",
    "import android.annotation.SuppressLint;\n",
    "import android.os.Bundle;\n",
    "import android.view.View;\n",
    "import android.widget.TextView;\n",
    "\n",
    "import java.util.Locale;\n",
    "\n",
    "public class MainActivity extends AppCompatActivity {\n",
    "\n",
    "    private int count;\n",
    "    private TextView showCount;\n",
    "\n",
    "    @Override\n",
    "    protected void onCreate(Bundle savedInstanceState) {\n",
    "        super.onCreate(savedInstanceState);\n",
    "        setContentView(R.layout.activity_main);\n",
    "\n",
    "        showCount = findViewById(R.id.show_count);\n",
    "\n",
    "        if (savedInstanceState != null)\n",
    "            count = savedInstanceState.getInt(\"counter_state\");\n",
    "\n",
    "        if (showCount != null)\n",
    "            showCount.setText(String.format(Locale.GERMAN, \"%,d\", count));\n",
    "    }\n",
    "\n",
    "    public void countUpButton(View view) {\n",
    "        count++;\n",
    "        if (showCount != null)\n",
    "            showCount.setText(String.format(Locale.GERMAN, \"%,d\", count));\n",
    "    }\n",
    "\n",
    "    @Override\n",
    "    protected void onSaveInstanceState(@NonNull Bundle outState) {\n",
    "        super.onSaveInstanceState(outState);\n",
    "\n",
    "        outState.putInt(\"counter_state\", count);\n",
    "    }\n",
    "}"
   ]
  }
 ],
 "metadata": {
  "kernelspec": {
   "display_name": "Java",
   "language": "java",
   "name": "java"
  },
  "language_info": {
   "codemirror_mode": "java",
   "file_extension": ".jshell",
   "mimetype": "text/x-java-source",
   "name": "Java",
   "pygments_lexer": "java",
   "version": "17+35-2724"
  }
 },
 "nbformat": 4,
 "nbformat_minor": 5
}
