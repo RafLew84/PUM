{
 "cells": [
  {
   "cell_type": "markdown",
   "id": "90b077e0-1e48-4010-b7c9-16e12f7e627f",
   "metadata": {},
   "source": [
    "## 1.3 CounterApp"
   ]
  },
  {
   "cell_type": "markdown",
   "id": "aeb3367a-bd4e-4e15-8406-304afc71c98b",
   "metadata": {},
   "source": [
    "Przejdźmy do utworzenia pierwszej aplikacji i stwórzmy prosty licznik. Rozpoczniemy od utworzenia interfejsu zawierającego jeden `Button` i pole `TextView`. Przechodzimy do pliku `activity_main.xml`."
   ]
  },
  {
   "cell_type": "markdown",
   "id": "04e6ea3b-8495-471c-8187-0da2114ad288",
   "metadata": {},
   "source": [
    "```xml\n",
    "<?xml version=\"1.0\" encoding=\"utf-8\"?>\n",
    "<LinearLayout xmlns:android=\"http://schemas.android.com/apk/res/android\"\n",
    "    xmlns:tools=\"http://schemas.android.com/tools\"\n",
    "    android:layout_width=\"match_parent\"\n",
    "    android:layout_height=\"match_parent\"\n",
    "    android:orientation=\"vertical\"\n",
    "    tools:context=\".MainActivity\">\n",
    "\n",
    "    <TextView\n",
    "        android:id=\"@+id/show_count\"\n",
    "        android:layout_width=\"match_parent\"\n",
    "        android:layout_height=\"0dp\"\n",
    "        android:layout_weight=\"1\"\n",
    "        android:text=\"0\"\n",
    "        android:textSize=\"250sp\"\n",
    "        android:gravity=\"center\"\n",
    "        android:textStyle=\"bold\"/>\n",
    "\n",
    "    <Button\n",
    "        android:layout_width=\"match_parent\"\n",
    "        android:layout_height=\"wrap_content\"\n",
    "        android:text=\"Count Up\"\n",
    "        android:onClick=\"countUpButton\"/>\n",
    "</LinearLayout>\n",
    "```"
   ]
  },
  {
   "cell_type": "markdown",
   "id": "38bc4a0e-d609-4516-9e28-c984e9beb6a2",
   "metadata": {},
   "source": [
    "Zauważmy kilka nowych elementów:\n",
    "- `android:id` - jest identyfikatorem przez który możemy odnosić się do tego elementu w kodzie\n",
    "- `gravity` - wyśrodkowanie elementu\n",
    "- `android:onClick` - jedna z wielu możliwości dodania metody obsługi zdarzenia `onClick` - metoda nosi nazwę **countUpButton**, jej implementacja będzie znajdować się w pliku głównej aktywności"
   ]
  },
  {
   "cell_type": "markdown",
   "id": "81b556ed-3cb8-4d83-ab5c-a44794640379",
   "metadata": {},
   "source": [
    "Przejdźmy teraz do pliku `MainActivity.kt` w którym implementujemy funckjonalność głównej aktywności i dodajmy obsługę zdarzenia `onClick`. W pierwszej kolejności musimy utworzyć pole reprezentujące `TextView` - będzie to pole niemutowalne. Musimy również powiązać pole `showCount` z elementem layoutu `show_count`, robimy to wywołując metodę `findViewById` - jest to jedna z wielu dostępnym opcji. Ponieważ nash `showCount` jest niemutowalny inicjalizację wykonujemy przez delegat `by lazy`."
   ]
  },
  {
   "cell_type": "code",
   "execution_count": null,
   "id": "cd9c83c2-4532-45d5-a5ae-c6be612b4adc",
   "metadata": {},
   "outputs": [],
   "source": [
    "private val showCount: TextView by lazy{findViewById(R.id.show_count)}"
   ]
  },
  {
   "cell_type": "markdown",
   "id": "14204fb3-c70c-473b-9655-7b3070172f6d",
   "metadata": {},
   "source": [
    "Następnie dodajmy zmienną reprezentującą stan licznika"
   ]
  },
  {
   "cell_type": "code",
   "execution_count": null,
   "id": "ba6bf06f-6544-4e2a-ae08-f31efa9e0380",
   "metadata": {},
   "outputs": [],
   "source": [
    "private var count = 0"
   ]
  },
  {
   "cell_type": "markdown",
   "id": "203d9fca-1c1e-4c4c-8d9c-7bc2e5e9b3be",
   "metadata": {},
   "source": [
    "Kolejnym krokiem jest wyświetlenie tekstu, w tym celu wywołujemy metodę `setText`"
   ]
  },
  {
   "cell_type": "code",
   "execution_count": null,
   "id": "7233d01d-da04-49d2-8fab-56323734aa1c",
   "metadata": {},
   "outputs": [],
   "source": [
    "override fun onCreate(savedInstanceState: Bundle?) {\n",
    "    super.onCreate(savedInstanceState)\n",
    "    setContentView(R.layout.activity_main)\n",
    "\n",
    "    showCount.text = String.format(Locale.GERMAN, \"%,d\", count)\n",
    "}"
   ]
  },
  {
   "cell_type": "markdown",
   "id": "091598af-c60d-486c-8f34-7f2f36412141",
   "metadata": {},
   "source": [
    "Ostatnim krokiem jest dodanie implementacji metody `countUpButton`. W ciele klasy `MainActivity` dodajemy"
   ]
  },
  {
   "cell_type": "code",
   "execution_count": null,
   "id": "7f0703f5-19cd-41ca-807b-90190908c595",
   "metadata": {},
   "outputs": [],
   "source": [
    "fun countUpButton(view: View?) {\n",
    "    count++\n",
    "    showCount.text = count.toString()\n",
    "}"
   ]
  },
  {
   "cell_type": "markdown",
   "id": "153fb8d8-9ef0-4c33-b8ab-627ffe3465e6",
   "metadata": {},
   "source": [
    "Na tym etapie możemy zbudować projekt. Pełny kod źródłowy:"
   ]
  },
  {
   "cell_type": "markdown",
   "id": "bddb73ae-8628-4737-b901-5133776c6d76",
   "metadata": {},
   "source": [
    "```xml\n",
    "<?xml version=\"1.0\" encoding=\"utf-8\"?>\n",
    "<LinearLayout xmlns:android=\"http://schemas.android.com/apk/res/android\"\n",
    "    xmlns:tools=\"http://schemas.android.com/tools\"\n",
    "    android:layout_width=\"match_parent\"\n",
    "    android:layout_height=\"match_parent\"\n",
    "    android:orientation=\"vertical\"\n",
    "    tools:context=\".MainActivity\">\n",
    "\n",
    "    <TextView\n",
    "        android:id=\"@+id/show_count\"\n",
    "        android:layout_width=\"match_parent\"\n",
    "        android:layout_height=\"0dp\"\n",
    "        android:layout_weight=\"1\"\n",
    "        android:text=\"0\"\n",
    "        android:textSize=\"250sp\"\n",
    "        android:gravity=\"center\"\n",
    "        android:textStyle=\"bold\"/>\n",
    "\n",
    "    <Button\n",
    "        android:layout_width=\"match_parent\"\n",
    "        android:layout_height=\"wrap_content\"\n",
    "        android:text=\"Count Up\"\n",
    "        android:onClick=\"countUpButton\"/>\n",
    "</LinearLayout>\n",
    "```"
   ]
  },
  {
   "cell_type": "markdown",
   "id": "56df1a5d-b017-448e-bdaf-165c78e87205",
   "metadata": {},
   "source": [
    "`MainActivity.kt`"
   ]
  },
  {
   "cell_type": "code",
   "execution_count": null,
   "id": "4759df0f-dda3-4d6d-b5b8-89e0d1c35e4d",
   "metadata": {},
   "outputs": [],
   "source": [
    "package pl.edu.uwr.pum.counterappkotlin\n",
    "\n",
    "import android.os.Bundle\n",
    "import android.view.View\n",
    "import android.widget.TextView\n",
    "import androidx.appcompat.app.AppCompatActivity\n",
    "import java.util.*\n",
    "\n",
    "class MainActivity : AppCompatActivity() {\n",
    "\n",
    "    private var count = 0\n",
    "    private val showCount: TextView by lazy{findViewById(R.id.show_count)}\n",
    "\n",
    "    override fun onCreate(savedInstanceState: Bundle?) {\n",
    "        super.onCreate(savedInstanceState)\n",
    "        setContentView(R.layout.activity_main)\n",
    "\n",
    "        showCount.text = String.format(Locale.GERMAN, \"%,d\", count)\n",
    "    }\n",
    "\n",
    "    fun countUpButton(view: View?) {\n",
    "        count++\n",
    "        showCount.text = count.toString()\n",
    "    }\n",
    "}"
   ]
  },
  {
   "cell_type": "markdown",
   "id": "bb137b3e-1f71-4ffa-ae6f-0ca9788ca4e5",
   "metadata": {},
   "source": [
    "<img src=\"counterapp.png\" alt=\"CounterApp\" width=\"200\"/>"
   ]
  },
  {
   "cell_type": "markdown",
   "id": "f2d55343-fec6-439b-b3fb-7734ee126c3e",
   "metadata": {},
   "source": [
    "Zwróćmy uwagę że przy zmianie orientacji urządzenia stan licznika jest resetowany"
   ]
  },
  {
   "cell_type": "markdown",
   "id": "92e4b38f-0303-4543-a023-9cbd9b2d843e",
   "metadata": {},
   "source": [
    "<img src=\"counterapp2.png\" alt=\"CounterApp\" width=\"300\"/>"
   ]
  },
  {
   "cell_type": "code",
   "execution_count": null,
   "id": "cf68504d-876d-4bb8-9f9f-400e2c49b6a7",
   "metadata": {},
   "outputs": [],
   "source": [
    " "
   ]
  }
 ],
 "metadata": {
  "kernelspec": {
   "display_name": "Kotlin",
   "language": "kotlin",
   "name": "kotlin"
  },
  "language_info": {
   "codemirror_mode": "text/x-kotlin",
   "file_extension": ".kt",
   "mimetype": "text/x-kotlin",
   "name": "kotlin",
   "nbconvert_exporter": "",
   "pygments_lexer": "kotlin",
   "version": "1.6.20-dev-6372"
  }
 },
 "nbformat": 4,
 "nbformat_minor": 5
}
