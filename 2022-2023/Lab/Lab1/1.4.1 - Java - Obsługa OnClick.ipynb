{
 "cells": [
  {
   "cell_type": "markdown",
   "id": "4d7772bb-8252-44ed-878a-c5cc2cd22565",
   "metadata": {},
   "source": [
    "# 1.4 Obsługa OnClick"
   ]
  },
  {
   "cell_type": "markdown",
   "id": "084351d0-3c3f-4a4f-a73e-7e913ff4ba62",
   "metadata": {},
   "source": [
    "W tej prostej aplikacji zobaczymy jak można obsłużyć zdarzenie `OnClick` wielu przycisków za pomocą jednej metody."
   ]
  },
  {
   "cell_type": "markdown",
   "id": "7d554419-d00c-455f-a762-d6977dd11385",
   "metadata": {},
   "source": [
    "<img src=\"https://media3.giphy.com/media/m46pqpsLauFYI3fmjH/giphy.gif?cid=790b76111cadfb9da47edb09ab432ce2ec973063776a99f6&rid=giphy.gif&ct=g\" width=\"150\" />"
   ]
  },
  {
   "cell_type": "markdown",
   "id": "e1cf44fc-4a83-4a64-b8ff-e0de19917532",
   "metadata": {},
   "source": [
    " Zacznijmy od interfejsu."
   ]
  },
  {
   "cell_type": "code",
   "execution_count": null,
   "id": "4adf07e8-5796-4dd2-821c-06bffffa372d",
   "metadata": {},
   "outputs": [],
   "source": [
    "<?xml version=\"1.0\" encoding=\"utf-8\"?>\n",
    "<androidx.constraintlayout.widget.ConstraintLayout xmlns:android=\"http://schemas.android.com/apk/res/android\"\n",
    "    xmlns:app=\"http://schemas.android.com/apk/res-auto\"\n",
    "    xmlns:tools=\"http://schemas.android.com/tools\"\n",
    "    android:layout_width=\"match_parent\"\n",
    "    android:layout_height=\"match_parent\"\n",
    "    tools:context=\".MainActivity\">\n",
    "\n",
    "    <TextView\n",
    "        android:id=\"@+id/textView\"\n",
    "        android:layout_width=\"wrap_content\"\n",
    "        android:layout_height=\"wrap_content\"\n",
    "        android:text=\"0\"\n",
    "        app:layout_constraintBottom_toBottomOf=\"parent\"\n",
    "        app:layout_constraintLeft_toLeftOf=\"parent\"\n",
    "        android:textSize=\"60sp\"\n",
    "        app:layout_constraintRight_toRightOf=\"parent\"\n",
    "        app:layout_constraintTop_toTopOf=\"parent\" />\n",
    "\n",
    "    <Button\n",
    "        android:id=\"@+id/button1\"\n",
    "        android:layout_width=\"wrap_content\"\n",
    "        android:layout_height=\"wrap_content\"\n",
    "        android:text=\"1\"\n",
    "        app:layout_constraintStart_toStartOf=\"parent\"\n",
    "        android:onClick=\"onClickButton\"\n",
    "        app:layout_constraintTop_toTopOf=\"parent\" />\n",
    "\n",
    "    <Button\n",
    "        android:id=\"@+id/button2\"\n",
    "        android:layout_width=\"wrap_content\"\n",
    "        android:layout_height=\"wrap_content\"\n",
    "        android:text=\"2\"\n",
    "        app:layout_constraintBottom_toBottomOf=\"parent\"\n",
    "        android:onClick=\"onClickButton\"\n",
    "        app:layout_constraintEnd_toEndOf=\"parent\" />\n",
    "\n",
    "</androidx.constraintlayout.widget.ConstraintLayout>"
   ]
  },
  {
   "cell_type": "markdown",
   "id": "ef5803a4-e375-4239-8f79-bc89b65758fb",
   "metadata": {},
   "source": [
    "Zrwóćmy uwagę że metoda `android:onClick` obu przycisków posiada tą samą nazwę. Mamy też pole `TextView` do którego dodamy tekst znajdujący się na przycisku. Przejdźmy do `MainActivity` i podepnijmy pole pod odpowiedni element"
   ]
  },
  {
   "cell_type": "code",
   "execution_count": null,
   "id": "41c1a8c4-2a34-4bb9-9c39-9ad2e70bbae7",
   "metadata": {},
   "outputs": [],
   "source": [
    "private TextView textView;\n",
    "\n",
    "@Override\n",
    "protected void onCreate(Bundle savedInstanceState) {\n",
    "    super.onCreate(savedInstanceState);\n",
    "    setContentView(R.layout.activity_main);\n",
    "\n",
    "    textView = findViewById(R.id.textView);\n",
    "}"
   ]
  },
  {
   "cell_type": "markdown",
   "id": "989230b1-bc05-4ec6-a914-8db7b1f99ef2",
   "metadata": {},
   "source": [
    "Dodajmy teraz obsługę naszej zbiorczej metody `OnClick`"
   ]
  },
  {
   "cell_type": "code",
   "execution_count": null,
   "id": "00e38f16-b9fd-42fd-bbc1-955be4accf90",
   "metadata": {},
   "outputs": [],
   "source": [
    "public void onClickButton(View view) {\n",
    "    textView.append(((Button) view).getText());\n",
    "}"
   ]
  },
  {
   "cell_type": "markdown",
   "id": "aee5c9d9-c949-493a-ae27-d75161708fb3",
   "metadata": {},
   "source": [
    "Do pola `TextView` po każdym kliknięciu dodajemy tekst obecny na przyciskach. Nasza metoda `onClickButton` przyjmuje jeden arggument typpu `View` - `View` jest klasą po której dziedziczą wszystkie elementy interfejsu. Możemy na tym elemencie wywołać metodę `getText` lecz wcześniej musimy jawnie wskazać typ kontrolki - tutaj są to instancje klasy `Button` więc wykonujemy rzutowanie `(Button) view`, teraz możemy wywołać metodę `getText`. W zależności od teego który przycisk zostanie naciśnięty, zostanie on przekazany jako `View` do metody."
   ]
  },
  {
   "cell_type": "markdown",
   "id": "a148d302-1a0d-4d95-9118-5822ff7fde6b",
   "metadata": {},
   "source": [
    "Pełny kod `MainActivity.java`"
   ]
  },
  {
   "cell_type": "code",
   "execution_count": null,
   "id": "d5d6f73c-b4d3-4214-8a5e-ebd0efe7a935",
   "metadata": {},
   "outputs": [],
   "source": [
    "package pl.edu.uwr.pum.onclickexamplejava;\n",
    "\n",
    "import androidx.appcompat.app.AppCompatActivity;\n",
    "\n",
    "import android.os.Bundle;\n",
    "import android.view.View;\n",
    "import android.widget.Button;\n",
    "import android.widget.TextView;\n",
    "\n",
    "public class MainActivity extends AppCompatActivity {\n",
    "\n",
    "    private TextView textView;\n",
    "\n",
    "    @Override\n",
    "    protected void onCreate(Bundle savedInstanceState) {\n",
    "        super.onCreate(savedInstanceState);\n",
    "        setContentView(R.layout.activity_main);\n",
    "\n",
    "        textView = findViewById(R.id.textView);\n",
    "    }\n",
    "\n",
    "    public void onClickButton(View view) {\n",
    "        textView.append(((Button) view).getText());\n",
    "    }\n",
    "}"
   ]
  }
 ],
 "metadata": {
  "kernelspec": {
   "display_name": "Java",
   "language": "java",
   "name": "java"
  },
  "language_info": {
   "codemirror_mode": "java",
   "file_extension": ".jshell",
   "mimetype": "text/x-java-source",
   "name": "Java",
   "pygments_lexer": "java",
   "version": "17+35-2724"
  }
 },
 "nbformat": 4,
 "nbformat_minor": 5
}
