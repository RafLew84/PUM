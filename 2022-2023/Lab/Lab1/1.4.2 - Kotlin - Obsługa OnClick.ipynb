{
 "cells": [
  {
   "cell_type": "markdown",
   "id": "1198e11c-5da5-46a7-9f3c-e2a7cfbea737",
   "metadata": {},
   "source": [
    "# 1.4 Obsługa OnClick"
   ]
  },
  {
   "cell_type": "markdown",
   "id": "b2037ff1-5811-4349-9257-51e4df4f8d92",
   "metadata": {},
   "source": [
    "W tej prostej aplikacji zobaczymy jak można obsłużyć zdarzenie `OnClick` wielu przycisków za pomocą jednej metody. "
   ]
  },
  {
   "cell_type": "markdown",
   "id": "451e7b35-5388-4551-babf-96679783d850",
   "metadata": {},
   "source": [
    "<img src=\"https://media3.giphy.com/media/m46pqpsLauFYI3fmjH/giphy.gif?cid=790b76111cadfb9da47edb09ab432ce2ec973063776a99f6&rid=giphy.gif&ct=g\" width=\"150\" />"
   ]
  },
  {
   "cell_type": "markdown",
   "id": "26314acd-a9a8-444e-aa2a-25b8911f49d0",
   "metadata": {},
   "source": [
    "Zacznijmy od interfejsu."
   ]
  },
  {
   "cell_type": "code",
   "execution_count": null,
   "id": "1d606dae-d5a5-4cc1-86a6-369a7da4a68b",
   "metadata": {},
   "outputs": [],
   "source": [
    "<?xml version=\"1.0\" encoding=\"utf-8\"?>\n",
    "<androidx.constraintlayout.widget.ConstraintLayout xmlns:android=\"http://schemas.android.com/apk/res/android\"\n",
    "    xmlns:app=\"http://schemas.android.com/apk/res-auto\"\n",
    "    xmlns:tools=\"http://schemas.android.com/tools\"\n",
    "    android:layout_width=\"match_parent\"\n",
    "    android:layout_height=\"match_parent\"\n",
    "    tools:context=\".MainActivity\">\n",
    "\n",
    "    <TextView\n",
    "        android:id=\"@+id/textView\"\n",
    "        android:layout_width=\"wrap_content\"\n",
    "        android:layout_height=\"wrap_content\"\n",
    "        android:text=\"0\"\n",
    "        app:layout_constraintBottom_toBottomOf=\"parent\"\n",
    "        app:layout_constraintLeft_toLeftOf=\"parent\"\n",
    "        android:textSize=\"60sp\"\n",
    "        app:layout_constraintRight_toRightOf=\"parent\"\n",
    "        app:layout_constraintTop_toTopOf=\"parent\" />\n",
    "\n",
    "    <Button\n",
    "        android:id=\"@+id/button1\"\n",
    "        android:layout_width=\"wrap_content\"\n",
    "        android:layout_height=\"wrap_content\"\n",
    "        android:text=\"1\"\n",
    "        app:layout_constraintStart_toStartOf=\"parent\"\n",
    "        android:onClick=\"onClickButton\"\n",
    "        app:layout_constraintTop_toTopOf=\"parent\" />\n",
    "\n",
    "    <Button\n",
    "        android:id=\"@+id/button2\"\n",
    "        android:layout_width=\"wrap_content\"\n",
    "        android:layout_height=\"wrap_content\"\n",
    "        android:text=\"2\"\n",
    "        app:layout_constraintBottom_toBottomOf=\"parent\"\n",
    "        android:onClick=\"onClickButton\"\n",
    "        app:layout_constraintEnd_toEndOf=\"parent\" />\n",
    "\n",
    "</androidx.constraintlayout.widget.ConstraintLayout>"
   ]
  },
  {
   "cell_type": "markdown",
   "id": "a4d6bc25-7a5f-4373-a6c7-35b1173e403a",
   "metadata": {},
   "source": [
    "Zrwóćmy uwagę że metoda `android:onClick` obu przycisków posiada tą samą nazwę. Mamy też pole `TextView` do którego dodamy tekst znajdujący się na przycisku. Przejdźmy do `MainActivity` i podepnijmy pole pod odpowiedni element"
   ]
  },
  {
   "cell_type": "code",
   "execution_count": null,
   "id": "988d116b-15d5-4480-bb4d-85e4c10e2ccf",
   "metadata": {},
   "outputs": [],
   "source": [
    "private val textView: TextView by lazy {findViewById(R.id.textView)}"
   ]
  },
  {
   "cell_type": "markdown",
   "id": "297fcb83-8da2-40eb-a576-70bb82c22ec9",
   "metadata": {},
   "source": [
    "Dodajmy teraz obsługę naszej zbiorczej metody `OnClick`"
   ]
  },
  {
   "cell_type": "code",
   "execution_count": null,
   "id": "3500d7f3-62da-43a2-b229-77f0bbf9fd92",
   "metadata": {},
   "outputs": [],
   "source": [
    "fun onClickButton(view: android.view.View) {\n",
    "    textView.append((view as Button).text)\n",
    "}"
   ]
  },
  {
   "cell_type": "markdown",
   "id": "87f270ae-f971-413a-8364-5904f8f5d1da",
   "metadata": {},
   "source": [
    "Do pola `TextView` po każdym kliknięciu dodajemy tekst obecny na przyciskach. Nasza metoda `onClickButton` przyjmuje jeden arggument typpu `View` - `View` jest klasą po której dziedziczą wszystkie elementy interfejsu. Możemy na tym elemencie wywołać właściwość `text` lecz wcześniej musimy jawnie wskazać typ kontrolki - tutaj są to instancje klasy `Button` więc wykonujemy rzutowanie `view as Button`, teraz możemy wywołać właściwość `text`. W zależności od teego który przycisk zostanie naciśnięty, zostanie on przekazany jako `View` do metody."
   ]
  },
  {
   "cell_type": "markdown",
   "id": "4153443d-3a43-4323-9f72-5a6ded839d3e",
   "metadata": {},
   "source": [
    "Pełny kod `MainActivity.kt`"
   ]
  },
  {
   "cell_type": "code",
   "execution_count": null,
   "id": "885d03bb-e5d9-4dc7-a996-f2221cb0e9eb",
   "metadata": {},
   "outputs": [],
   "source": [
    "package pl.edu.uwr.pum.onclickexamplekotlin\n",
    "\n",
    "import androidx.appcompat.app.AppCompatActivity\n",
    "import android.os.Bundle\n",
    "import android.widget.Button\n",
    "import android.widget.TextView\n",
    "\n",
    "class MainActivity : AppCompatActivity() {\n",
    "    private val textView: TextView by lazy {findViewById(R.id.textView)}\n",
    "\n",
    "    override fun onCreate(savedInstanceState: Bundle?) {\n",
    "        super.onCreate(savedInstanceState)\n",
    "        setContentView(R.layout.activity_main)\n",
    "    }\n",
    "\n",
    "    fun onClickButton(view: android.view.View) {\n",
    "        textView.append((view as Button).text)\n",
    "    }\n",
    "}"
   ]
  }
 ],
 "metadata": {
  "kernelspec": {
   "display_name": "Kotlin",
   "language": "kotlin",
   "name": "kotlin"
  },
  "language_info": {
   "codemirror_mode": "text/x-kotlin",
   "file_extension": ".kt",
   "mimetype": "text/x-kotlin",
   "name": "kotlin",
   "nbconvert_exporter": "",
   "pygments_lexer": "kotlin",
   "version": "1.6.20-dev-6372"
  }
 },
 "nbformat": 4,
 "nbformat_minor": 5
}
