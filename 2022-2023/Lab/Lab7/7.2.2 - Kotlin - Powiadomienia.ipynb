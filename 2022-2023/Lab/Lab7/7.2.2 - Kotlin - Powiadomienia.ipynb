{
 "cells": [
  {
   "cell_type": "markdown",
   "id": "f51796a4-04e5-4630-9c5a-e203318137e6",
   "metadata": {},
   "source": [
    "## 7.2 Powiadomienia - podstawy"
   ]
  },
  {
   "cell_type": "markdown",
   "id": "3e4bb48a-5a3f-47e2-8843-a59959f56603",
   "metadata": {},
   "source": [
    "W tej aplikacji zaimplementujemy proste powiadomienie wysyłane po naciśnięciu przycisku. Rozpocznijmy od layoutu aktywności"
   ]
  },
  {
   "cell_type": "code",
   "execution_count": null,
   "id": "cdca134e-ea06-4732-9fad-d62fcddb2588",
   "metadata": {},
   "outputs": [],
   "source": [
    "<?xml version=\"1.0\" encoding=\"utf-8\"?>\n",
    "<RelativeLayout\n",
    "    xmlns:android=\"http://schemas.android.com/apk/res/android\"\n",
    "    xmlns:tools=\"http://schemas.android.com/tools\"\n",
    "    android:layout_width=\"match_parent\"\n",
    "    android:layout_height=\"match_parent\"\n",
    "    tools:context=\".MainActivity\">\n",
    "\n",
    "    <Button\n",
    "        android:id=\"@+id/button\"\n",
    "        android:layout_width=\"wrap_content\"\n",
    "        android:layout_height=\"wrap_content\"\n",
    "        android:layout_centerInParent=\"true\"\n",
    "        android:text=\"Powiadom\"\n",
    "        android:textSize=\"36sp\"/>\n",
    "\n",
    "</RelativeLayout>"
   ]
  },
  {
   "cell_type": "markdown",
   "id": "ccfb2dd8-ed6b-46e0-854e-100ace76e192",
   "metadata": {},
   "source": [
    "Będziemy potrzebować kilka stałych wartości\n",
    "- identyfikator kanału\n",
    "- nazwę kanału\n",
    "- identyfikator powiadomienia"
   ]
  },
  {
   "cell_type": "code",
   "execution_count": null,
   "id": "145aff10-b003-4fa4-8e1d-be022b1e4fbb",
   "metadata": {},
   "outputs": [],
   "source": [
    "private val channelID = \"channel_id\"\n",
    "private val channelName = \"channel_name\"\n",
    "private val notificationId = 1"
   ]
  },
  {
   "cell_type": "markdown",
   "id": "f445f758-4dca-46be-b094-e26fc31e39ef",
   "metadata": {},
   "source": [
    "W metodzie `onCreate` dodajmy obsługę `onClick` przycisku w której wywołamy metodę `createNotification`"
   ]
  },
  {
   "cell_type": "markdown",
   "id": "75a31094-c7c8-496b-a986-56d87e410f9c",
   "metadata": {},
   "source": [
    "W metodzie zdefiniujmy dwie zmienne\n",
    "- `description` - zawierającą wymagany opis\n",
    "- `importance` - zawierającą informację o istotności powiadomienia"
   ]
  },
  {
   "cell_type": "code",
   "execution_count": null,
   "id": "d085cdf2-f150-42cb-977b-0630153f4c3f",
   "metadata": {},
   "outputs": [],
   "source": [
    "private fun createNotificationChannel() {\n",
    "    val descriptionText = \"powiadomienie\"\n",
    "    val importance = NotificationManager.IMPORTANCE_DEFAULT"
   ]
  },
  {
   "cell_type": "markdown",
   "id": "8ebde642-c6d9-470a-a038-d252d3560faa",
   "metadata": {},
   "source": [
    "Następnie utwórzmy sam kanał i ustawmy opis"
   ]
  },
  {
   "cell_type": "code",
   "execution_count": null,
   "id": "6357166f-dfe5-4c05-a8ba-2fd82d5d4565",
   "metadata": {},
   "outputs": [],
   "source": [
    "    val channel = NotificationChannel(\"channel_id\", channelName, importance).apply {\n",
    "        description = descriptionText\n",
    "    }"
   ]
  },
  {
   "cell_type": "markdown",
   "id": "c883beb7-babd-465b-9855-ecc3be76056c",
   "metadata": {},
   "source": [
    "Kolejnym krokiem będzie dodanie kanału do `NotificationManager`"
   ]
  },
  {
   "cell_type": "code",
   "execution_count": null,
   "id": "3ba1592b-b94b-4723-a997-1a89b606e2b9",
   "metadata": {},
   "outputs": [],
   "source": [
    "    val notificationManager: NotificationManager =\n",
    "        getSystemService(Context.NOTIFICATION_SERVICE) as NotificationManager\n",
    "    notificationManager.createNotificationChannel(channel)"
   ]
  },
  {
   "cell_type": "markdown",
   "id": "af9495c5-4e12-434f-8e6a-029e6896b8df",
   "metadata": {},
   "source": [
    "Gdy użytkownik kliknie na powiadomienie chcemy otworzyć naszą główną aktywność, w tym celu musimy utworzyć `Intent`"
   ]
  },
  {
   "cell_type": "code",
   "execution_count": null,
   "id": "76e1d7fe-bf03-41e2-a351-542d31bd201d",
   "metadata": {},
   "outputs": [],
   "source": [
    "    val intent = Intent(this, MainActivity::class.java)"
   ]
  },
  {
   "cell_type": "markdown",
   "id": "a1a2fc99-4b17-4f66-af17-1230fafdceba",
   "metadata": {},
   "source": [
    "Po naciśnięciu powiadomienia tutaj chcemy przejść na nową instancję `MainActivity` - musimy ustawić odpowiednie flagi\n",
    "- `FLAG_ACTIVITY_NEW_TASK` - aktywność zostanie ustawiona na tasku aktualnego stosu\n",
    "- `FLAG_ACTIVITY_CLEAR_TASK` - sprawia że task powiązany z tą aktywnością zostanie wyczyszczony przed startem aktywności"
   ]
  },
  {
   "cell_type": "code",
   "execution_count": null,
   "id": "76461dda-9448-4f5d-92cc-3764023553af",
   "metadata": {},
   "outputs": [],
   "source": [
    "    val intent = Intent(this, MainActivity::class.java).apply {\n",
    "        flags = Intent.FLAG_ACTIVITY_NEW_TASK or Intent.FLAG_ACTIVITY_CLEAR_TASK\n",
    "    }"
   ]
  },
  {
   "cell_type": "markdown",
   "id": "59125c6a-6981-4d2b-ad79-7277523c8aa7",
   "metadata": {},
   "source": [
    "Kolejnym krokiem będzie utworzenie `PendingIntent` - zawiera opis intentu i wykonywanej przez niego akcji. Przyjmuje cztery argumenty\n",
    "- `context`\n",
    "- `requestCode` - unikalny kod dla tego intentu - tutaj ustawimy 0\n",
    "- `Intent`\n",
    "- `flags` - tutaj wykorzystamy `PendingIntent.FLAG_IMMUTABLE` - opisuje `PendingIntent` i jest wykorzystywana do jego identyfikacji"
   ]
  },
  {
   "cell_type": "code",
   "execution_count": null,
   "id": "66a6084d-f87d-42ca-9374-17e89603f645",
   "metadata": {},
   "outputs": [],
   "source": [
    "    val pendingIntent: PendingIntent =\n",
    "        PendingIntent.getActivity(this, 0, intent, PendingIntent.FLAG_IMMUTABLE)"
   ]
  },
  {
   "cell_type": "markdown",
   "id": "f9bbc450-a392-43bb-8c9f-0e623e7cde60",
   "metadata": {},
   "source": [
    "Następnie tworzymy samo powiadomienie za pomocą klasy `NotificationCompat.Builder`"
   ]
  },
  {
   "cell_type": "code",
   "execution_count": null,
   "id": "5a88f6d2-1995-41ea-9642-fb906b74cbf3",
   "metadata": {},
   "outputs": [],
   "source": [
    "    NotificationCompat.Builder builder = new NotificationCompat.Builder(this, channelID)\n",
    "            .setSmallIcon(R.drawable.ic_baseline_notifications_24)\n",
    "            .setContentTitle(\"Powiadomienie\")\n",
    "            .setContentText(\"Treść powiadomienia\")\n",
    "            .setStyle(\n",
    "                    new NotificationCompat.BigTextStyle()\n",
    "                            .bigText(\"Dalszy tekst powiadomienia\")\n",
    "            )\n",
    "            .setContentIntent(pendingIntent)\n",
    "            .setPriority(NotificationCompat.PRIORITY_DEFAULT);"
   ]
  },
  {
   "cell_type": "markdown",
   "id": "a431f2da-15c0-4efc-be4c-4394da4f7c44",
   "metadata": {},
   "source": [
    "Aby powiadomienie pojawiło się na pasku statusu musimy wywołać metodę `notify` klasy `NotificationManagerCompat`"
   ]
  },
  {
   "cell_type": "code",
   "execution_count": null,
   "id": "e5da1aab-d188-4d69-ac12-a02951d57c68",
   "metadata": {},
   "outputs": [],
   "source": [
    "    NotificationManagerCompat notificationCompat = \n",
    "        NotificationManagerCompat.from(this);\n",
    "    notificationCompat.notify(notificationId, builder.build());"
   ]
  },
  {
   "cell_type": "markdown",
   "id": "b2f5e5b6-1fa2-4f47-bbef-520337ef5910",
   "metadata": {},
   "source": [
    "Pełna metoda `createNotification`"
   ]
  },
  {
   "cell_type": "code",
   "execution_count": null,
   "id": "3da4e687-1aec-4174-b379-7d31fc7d7519",
   "metadata": {},
   "outputs": [],
   "source": [
    "private void createNotification() {\n",
    "    String description = \"powiadomienie\";\n",
    "    final int importance = NotificationManager.IMPORTANCE_DEFAULT;\n",
    "    final NotificationChannel channel =\n",
    "            new NotificationChannel(channelID, channelName, importance);\n",
    "    channel.setDescription(description);\n",
    "\n",
    "    NotificationManager notificationManager =\n",
    "            getSystemService(NotificationManager.class);\n",
    "    notificationManager.createNotificationChannel(channel);\n",
    "\n",
    "    Intent intent = new Intent(this, MainActivity.class);\n",
    "    intent.setFlags(Intent.FLAG_ACTIVITY_NEW_TASK | Intent.FLAG_ACTIVITY_CLEAR_TASK);\n",
    "    PendingIntent pendingIntent = PendingIntent.getActivity(this, 0, intent, PendingIntent.FLAG_IMMUTABLE);\n",
    "\n",
    "    NotificationCompat.Builder builder = new NotificationCompat.Builder(this, channelID)\n",
    "            .setSmallIcon(R.drawable.ic_baseline_notifications_24)\n",
    "            .setContentTitle(\"Powiadomienie\")\n",
    "            .setContentText(\"Treść powiadomienia\")\n",
    "            .setStyle(\n",
    "                    new NotificationCompat.BigTextStyle()\n",
    "                            .bigText(\"Dalszy tekst powiadomienia\")\n",
    "            )\n",
    "            .setContentIntent(pendingIntent)\n",
    "            .setPriority(NotificationCompat.PRIORITY_DEFAULT);\n",
    "\n",
    "    NotificationManagerCompat notificationCompat = NotificationManagerCompat.from(this);\n",
    "    notificationCompat.notify(notificationId, builder.build());\n",
    "\n",
    "}"
   ]
  },
  {
   "cell_type": "markdown",
   "id": "b9bc6a7d-e570-450e-8f5c-bee4415fdb06",
   "metadata": {},
   "source": [
    "Możemy przetestować aplikację"
   ]
  },
  {
   "cell_type": "markdown",
   "id": "c0d7155a-a18e-458d-b291-b52f9f5b57a1",
   "metadata": {},
   "source": [
    "<img src=\"https://media0.giphy.com/media/zJnliRZnVbCiSYKqDK/giphy.gif?cid=790b7611af1d10893a8a44e25b60c026eb6d131de379fcf3&rid=giphy.gif&ct=g\" width=\"150\" />"
   ]
  }
 ],
 "metadata": {
  "kernelspec": {
   "display_name": "Kotlin",
   "language": "kotlin",
   "name": "kotlin"
  },
  "language_info": {
   "codemirror_mode": "text/x-kotlin",
   "file_extension": ".kt",
   "mimetype": "text/x-kotlin",
   "name": "kotlin",
   "nbconvert_exporter": "",
   "pygments_lexer": "kotlin",
   "version": "1.6.20-dev-6372"
  }
 },
 "nbformat": 4,
 "nbformat_minor": 5
}
