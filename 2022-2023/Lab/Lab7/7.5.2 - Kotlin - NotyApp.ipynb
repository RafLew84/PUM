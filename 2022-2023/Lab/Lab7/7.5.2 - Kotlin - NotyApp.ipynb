{
 "cells": [
  {
   "cell_type": "markdown",
   "id": "4402bfb3-12f9-429a-9379-dcd434663ee7",
   "metadata": {},
   "source": [
    "## 7.5 NotyApp"
   ]
  },
  {
   "cell_type": "markdown",
   "id": "8d079b37-99eb-4e80-be38-f0fce817ff1e",
   "metadata": {},
   "source": [
    "Aplikacja będzie zawierać prostą listę notatek/zadań zapisaną w bazie danych `SQLite`. Lista będzie dostępna z poziomu `Widget` jak i w samej aplikacji. Przyjrzymy się jak zaimplemntować podstawowe elementy komunikacji między widgetem a naszą aplikacją, oraz jak aktualizować dane wyświetlane w `ListView` na `Widget`."
   ]
  },
  {
   "cell_type": "code",
   "execution_count": null,
   "id": "64b5a362-d5bf-4eb1-9aac-e1fa37ef04c2",
   "metadata": {},
   "outputs": [],
   "source": []
  },
  {
   "cell_type": "markdown",
   "id": "b3528a7d-2223-41d0-9a50-fabef020c1f8",
   "metadata": {},
   "source": [
    "### **Layout**"
   ]
  },
  {
   "cell_type": "markdown",
   "id": "b240293c-760a-4362-a593-a9607e5de829",
   "metadata": {},
   "source": [
    "Rozpocznijmy od utworzenia layoutów dla samego widgetu oraz dla pojedynczego elementu `ListView` (podobnie jak w `RecyclerView`). Layout widgetu będzie składał się z samego `ListView` oraz pola `TextView`, które będzie wyświetlane gdy lista jest pusta"
   ]
  },
  {
   "cell_type": "code",
   "execution_count": null,
   "id": "63dd92f2-c50e-47ab-aa44-c36992c37cd3",
   "metadata": {},
   "outputs": [],
   "source": [
    "// noty_widget_provider.xml\n",
    "<RelativeLayout xmlns:android=\"http://schemas.android.com/apk/res/android\"\n",
    "    style=\"@style/Widget.NotyJava.AppWidget.Container\"\n",
    "    android:layout_width=\"match_parent\"\n",
    "    android:layout_height=\"match_parent\"\n",
    "    android:theme=\"@style/Theme.NotyJava.AppWidgetContainer\">\n",
    "\n",
    "    <ListView\n",
    "        android:id=\"@+id/listViewWidget\"\n",
    "        android:layout_width=\"match_parent\"\n",
    "        android:layout_height=\"match_parent\"/>\n",
    "\n",
    "    <TextView\n",
    "        android:id=\"@+id/emptyViewTextView\"\n",
    "        android:layout_width=\"match_parent\"\n",
    "        android:layout_height=\"match_parent\"\n",
    "        android:textSize=\"20sp\"\n",
    "        android:text=\"lista jest pusta\"/>\n",
    "</RelativeLayout>"
   ]
  },
  {
   "cell_type": "markdown",
   "id": "cb5ee250-8c06-4455-a91a-b81729c7a1b3",
   "metadata": {},
   "source": [
    "Następnie dodajmy layout pojedynczego elementu listy - wstępnie będzie to tylko pole `TextView`"
   ]
  },
  {
   "cell_type": "code",
   "execution_count": null,
   "id": "9f76868f-9a00-4e8c-9461-9e2d5b40ec70",
   "metadata": {},
   "outputs": [],
   "source": [
    "// item_view.xml\n",
    "<RelativeLayout xmlns:android=\"http://schemas.android.com/apk/res/android\"\n",
    "    android:layout_width=\"match_parent\"\n",
    "    android:layout_height=\"wrap_content\">\n",
    "\n",
    "    <TextView\n",
    "        android:id=\"@+id/itemListTextView\"\n",
    "        android:layout_width=\"match_parent\"\n",
    "        android:layout_height=\"110dp\"\n",
    "        android:gravity=\"center\"\n",
    "        android:text=\"przykład długiego tekstu\"\n",
    "        android:background=\"@color/teal_200\"\n",
    "        android:textColor=\"@color/black\"/>\n",
    "\n",
    "</RelativeLayout>"
   ]
  },
  {
   "cell_type": "markdown",
   "id": "98ff7db9-876f-4612-8dd4-3f85c191a6da",
   "metadata": {},
   "source": [
    "Dodajmy opis widgetu do katalogu `xml`"
   ]
  },
  {
   "cell_type": "code",
   "execution_count": null,
   "id": "62756ba5-96db-45aa-94cb-f7a6e429adf5",
   "metadata": {},
   "outputs": [],
   "source": [
    "// noty_widget_provider_info.xml\n",
    "<appwidget-provider xmlns:android=\"http://schemas.android.com/apk/res/android\"\n",
    "    android:initialLayout=\"@layout/noty_widget_provider\"\n",
    "    android:minHeight=\"110dp\"\n",
    "    android:minResizeHeight=\"40dp\"\n",
    "    android:minWidth=\"110dp\"\n",
    "    android:resizeMode=\"vertical|horizontal\"\n",
    "    android:updatePeriodMillis=\"36000000\"\n",
    "    android:widgetCategory=\"home_screen\" />"
   ]
  },
  {
   "cell_type": "markdown",
   "id": "47e765e3-60e8-4653-bf85-1827a669cbea",
   "metadata": {},
   "source": [
    "Wstępnie dane będziemy pobierać (jak zwykle) z `DataProvider`"
   ]
  },
  {
   "cell_type": "code",
   "execution_count": null,
   "id": "c527f1a9-8637-4fa8-ab4c-b10fbb9d0ce0",
   "metadata": {},
   "outputs": [],
   "source": [
    "object DataProvider {\n",
    "    val dummyData = listOf(\n",
    "        \"notatka 1\", \n",
    "        \"notatka 2\", \n",
    "        \"notatka 3\", \n",
    "        \"notatka 4\", \n",
    "        \"notatka 5\", \n",
    "        \"notatka 6\", \n",
    "        \"notatka 7\", \n",
    "        \"notatka 8\", \n",
    "        \"notatka 9\")\n",
    "}"
   ]
  },
  {
   "cell_type": "markdown",
   "id": "620b7983-f014-4501-a14f-321aabf1b114",
   "metadata": {},
   "source": [
    "### **RemoteViewsService**"
   ]
  },
  {
   "cell_type": "markdown",
   "id": "9cc56c62-1115-484f-8989-9658df027ab6",
   "metadata": {},
   "source": [
    "Rozpoczniemy od implementacji odpowiedniej usługi - jest ona niezbędna ponieważ widget działa na kompletnie innym procesie i nie możemy się komunikować wprost. Klasa `RemoteViewsService` jest usługą, z którą widgety będą się łączyć aby adapter mógł otrzymać instancje `RemoteViews`"
   ]
  },
  {
   "cell_type": "code",
   "execution_count": null,
   "id": "20daa049-f695-4972-8aaf-f5d6374e6537",
   "metadata": {},
   "outputs": [],
   "source": [
    "class NotyWidgetService : RemoteViewsService() {\n",
    "    override fun onGetViewFactory(intent: Intent): RemoteViewsFactory {\n",
    "        return null\n",
    "    }"
   ]
  },
  {
   "cell_type": "markdown",
   "id": "606f68ee-9aab-41f7-ae76-64489aa8de50",
   "metadata": {},
   "source": [
    "Musimy zaimplementować jedną metodę `onGetViewFactory`, która zwraca obiekt dostarczający dane. W tym celu zaimplementujemy klasę implementującą interfejs `RemoteViewsFactory` zawierającą szerego niezbędnych metod\n",
    "- `onCreate` - tutaj łączymy się z bazą danych, wywoływana zaraz po konstruktorze\n",
    "- `onDataSetChanged` - wywoływana gdy adapter wywołuje `notifyDataSetChanged`\n",
    "- `onDestroy` - wywoływana w momencie usunięcia powiązania z ostatnim adapterem\n",
    "- `getCount` - zwraca liczbę elementów w kolekcji\n",
    "- `getViewAt` - zwraca obiekt `View` powiązany z daną pozycją\n",
    "- `getLoadingView` - zezwala na załączenie własnego `View` dla ekranu ładowania\n",
    "- `getViewTypeCount` - zwraca liczbę **różnych** typów `View` wykorzystywanych przez adapter - w tym przykładzie będziemy wykorzystywać jeden typ\n",
    "- `getItemId` - zwraca identyfikator - tutaj będzie to odpowiednikiem rzędu na liście\n",
    "- `hasStableIds` - określa czy identyfikatory pozostają niezmienne przy zmianie powiązanych z nim danych"
   ]
  },
  {
   "cell_type": "code",
   "execution_count": null,
   "id": "3811023c-21bd-488e-9746-71736ea411d6",
   "metadata": {},
   "outputs": [],
   "source": [
    "class NotyWidgetItemFactory() : RemoteViewsFactory {\n",
    "    override fun onCreate() {}\n",
    "\n",
    "    override fun onDataSetChanged() {}\n",
    "    override fun onDestroy() {}\n",
    "\n",
    "    override fun getCount(): Int {}\n",
    "\n",
    "    override fun getViewAt(position: Int): RemoteViews {}\n",
    "\n",
    "    override fun getLoadingView(): RemoteViews? {}\n",
    "\n",
    "    override fun getViewTypeCount(): Int {}\n",
    "\n",
    "    override fun getItemId(position: Int): Long {}\n",
    "\n",
    "    override fun hasStableIds(): Boolean {}\n",
    "}"
   ]
  },
  {
   "cell_type": "markdown",
   "id": "eb6d59bc-e79c-4a27-9e8d-e24330c1523b",
   "metadata": {},
   "source": [
    "Rozpocznijmy od dodania i inicjalizacji kilku pól"
   ]
  },
  {
   "cell_type": "code",
   "execution_count": null,
   "id": "b73c1aec-1d00-45af-b93e-1acfa9e541a0",
   "metadata": {},
   "outputs": [],
   "source": [
    "class NotyWidgetItemFactory(private val context: Context, intent: Intent) :\n",
    "    RemoteViewsFactory {\n",
    "    private val appWidgetId: Int\n",
    "    private lateinit var noteList: List<String>\n",
    "        \n",
    "    init {\n",
    "            appWidgetId = intent.getIntExtra(\n",
    "                AppWidgetManager.EXTRA_APPWIDGET_ID,\n",
    "                AppWidgetManager.INVALID_APPWIDGET_ID)\n",
    "        }  \n",
    "    }"
   ]
  },
  {
   "cell_type": "markdown",
   "id": "a1c30589-bbb6-4203-8e65-f7ac1bf4eea9",
   "metadata": {},
   "source": [
    "- W metodzie `onCreate` zainicjujemy listę notatek - w pierwszej fazie będzie to lista z klasy `DataProvider`"
   ]
  },
  {
   "cell_type": "code",
   "execution_count": null,
   "id": "5cf20658-196c-48ad-8575-535cce43fdb0",
   "metadata": {},
   "outputs": [],
   "source": [
    "override fun onCreate() {\n",
    "    // otworz baze danych\n",
    "    noteList = DataProvider.dummyData\n",
    "}"
   ]
  },
  {
   "cell_type": "markdown",
   "id": "0dced8fd-cffe-4fc2-9c31-fc2ae1ead8c1",
   "metadata": {},
   "source": [
    "- `getCount` zwraca wielkość listy"
   ]
  },
  {
   "cell_type": "code",
   "execution_count": null,
   "id": "851d1ee9-6e7b-49ec-9ae6-5313e169598c",
   "metadata": {},
   "outputs": [],
   "source": [
    "override fun getCount(): Int = noteList.size"
   ]
  },
  {
   "cell_type": "markdown",
   "id": "f4edab06-3005-439c-b8b5-1e7a9e1c04e7",
   "metadata": {},
   "source": [
    "- W tym przykładzie będziemy wykorzystywać z domyślnego widoku ładowania, więc metoda zwraca `null`"
   ]
  },
  {
   "cell_type": "code",
   "execution_count": null,
   "id": "45fcab27-6cac-4190-b809-ddb1eac1422a",
   "metadata": {},
   "outputs": [],
   "source": [
    "override fun getLoadingView(): RemoteViews? {\n",
    "    return null\n",
    "}"
   ]
  },
  {
   "cell_type": "markdown",
   "id": "2393660e-8166-404b-b41b-a09f5d6d1f47",
   "metadata": {},
   "source": [
    "- Posiadamy jeden typ `View`, więc zwracamy `1`"
   ]
  },
  {
   "cell_type": "code",
   "execution_count": null,
   "id": "991eb243-e0b5-44c3-8839-142ebfd4983a",
   "metadata": {},
   "outputs": [],
   "source": [
    "override fun getViewTypeCount(): Int = 1"
   ]
  },
  {
   "cell_type": "markdown",
   "id": "5ff5858c-c1d8-46fe-aed3-2ad4b5ba7061",
   "metadata": {},
   "source": [
    "- ponieważ w pierwszej fazie będziemy korzystać tylko z listy, posłużymy się pozycją jako identyfikatorem"
   ]
  },
  {
   "cell_type": "code",
   "execution_count": null,
   "id": "5d5ecc86-2a12-4671-9746-fe854adc69c3",
   "metadata": {},
   "outputs": [],
   "source": [
    "override fun getItemId(position: Int): Long = position.toLong()"
   ]
  },
  {
   "cell_type": "markdown",
   "id": "2350b4e3-2e7b-4c88-ba02-ed2920fbe15e",
   "metadata": {},
   "source": [
    "- nasza kolekcja w tej chwili posiada stabilne `id`"
   ]
  },
  {
   "cell_type": "code",
   "execution_count": null,
   "id": "cde9a76b-d6ec-4ad4-94d5-f0b04baddfa5",
   "metadata": {},
   "outputs": [],
   "source": [
    "override fun hasStableIds(): Boolean = true"
   ]
  },
  {
   "cell_type": "markdown",
   "id": "0c03965e-ea0c-47ab-a251-d06386f4db71",
   "metadata": {},
   "source": [
    "- w metodzie `getViewAt` zwracamy odpowiedni obiekt"
   ]
  },
  {
   "cell_type": "code",
   "execution_count": null,
   "id": "7c3d28e9-08c2-474e-ab7d-17f5f07a2a70",
   "metadata": {},
   "outputs": [],
   "source": [
    "override fun getViewAt(position: Int): RemoteViews {\n",
    "    val remoteViews = RemoteViews(context.packageName, R.layout.item_list)\n",
    "    remoteViews.setTextViewText(R.id.itemListTextView, noteList[position])\n",
    "    return remoteViews\n",
    "}"
   ]
  },
  {
   "cell_type": "markdown",
   "id": "3c2ec996-b7d2-4f94-931b-84fdb197a160",
   "metadata": {},
   "source": [
    "Powracamy do klasy `NotyWidgetService` i w metodzie `onGetViewFactory` zwracamy instancję `NotyWidgetItemFactory`"
   ]
  },
  {
   "cell_type": "code",
   "execution_count": null,
   "id": "0dcdec2b-2b42-43f7-81ef-20556ddea93f",
   "metadata": {},
   "outputs": [],
   "source": [
    "class NotyWidgetService : RemoteViewsService() {\n",
    "    override fun onGetViewFactory(intent: Intent): RemoteViewsFactory {\n",
    "        return NotyWidgetItemFactory(applicationContext, intent)\n",
    "    }\n",
    "    ...\n",
    "}"
   ]
  },
  {
   "cell_type": "markdown",
   "id": "d11edbf0-553b-4da5-8ec9-97febde18a95",
   "metadata": {},
   "source": [
    "### **AppWidgetProvider**"
   ]
  },
  {
   "cell_type": "markdown",
   "id": "84020fe9-d2ed-4495-8f2a-3ecddd47a4b7",
   "metadata": {},
   "source": [
    "Drugim niezbędnym elementem będzie `AppWidgetProvider`"
   ]
  },
  {
   "cell_type": "code",
   "execution_count": null,
   "id": "eac7bfb0-9211-4a0b-98c7-dcd210754ea1",
   "metadata": {},
   "outputs": [],
   "source": [
    "class NotyWidgetProvider : AppWidgetProvider() {\n",
    "    override fun onUpdate(\n",
    "        context: Context,\n",
    "        appWidgetManager: AppWidgetManager,\n",
    "        appWidgetIds: IntArray\n",
    "    ) {}"
   ]
  },
  {
   "cell_type": "markdown",
   "id": "22fed887-b3f2-4051-a6cf-9a42dd3b59df",
   "metadata": {},
   "source": [
    "W metodzie `onUpdate` przechodzimy przez wszystkie instancje naszego widgetu"
   ]
  },
  {
   "cell_type": "code",
   "execution_count": null,
   "id": "dc958fd2-7365-465c-9836-95e7b457c3a2",
   "metadata": {},
   "outputs": [],
   "source": [
    "for (appWidgetId in appWidgetIds) {"
   ]
  },
  {
   "cell_type": "markdown",
   "id": "bbba1229-75ed-4a7a-af06-6b887a091c6f",
   "metadata": {},
   "source": [
    "Tworzymy nowy `Intent` przekierowujący do usługi"
   ]
  },
  {
   "cell_type": "code",
   "execution_count": null,
   "id": "18c655de-d2c4-4724-8083-40cf3b3516a8",
   "metadata": {},
   "outputs": [],
   "source": [
    "    val serviceIntent = Intent(context, NotyWidgetService::class.java)"
   ]
  },
  {
   "cell_type": "markdown",
   "id": "95b96708-6493-4a7f-abed-5ddf0471c434",
   "metadata": {},
   "source": [
    "następnie dodajmy `id` widgetu oraz wykorzystujemy metodę `setData` - metoda ta wskazuje lokalizację obiektu (przykładowo może być to plik)"
   ]
  },
  {
   "cell_type": "code",
   "execution_count": null,
   "id": "df96fa08-5f69-42d5-9584-35751120c6a0",
   "metadata": {},
   "outputs": [],
   "source": [
    "    serviceIntent.apply {\n",
    "        putExtra(AppWidgetManager.EXTRA_APPWIDGET_ID, appWidgetId)\n",
    "        data = Uri.parse(serviceIntent.toUri(Intent.URI_INTENT_SCHEME))\n",
    "    }"
   ]
  },
  {
   "cell_type": "markdown",
   "id": "37316973-295d-4c37-9915-60b4c81f78d3",
   "metadata": {},
   "source": [
    "Tworzymy nasze `RemoteViews`"
   ]
  },
  {
   "cell_type": "code",
   "execution_count": null,
   "id": "c6fe41cb-c1a0-48e4-bab1-f3abd9c2aadf",
   "metadata": {},
   "outputs": [],
   "source": [
    "    val views = RemoteViews(context.packageName, R.layout.noty_widget_provider)"
   ]
  },
  {
   "cell_type": "markdown",
   "id": "63120aa7-d299-44bb-8729-8142bb26e204",
   "metadata": {},
   "source": [
    "ustawiamy adapter i widok dla pustej kolekcji"
   ]
  },
  {
   "cell_type": "code",
   "execution_count": null,
   "id": "4181049d-057a-4c78-9d50-74ea288c5ba9",
   "metadata": {},
   "outputs": [],
   "source": [
    "    views.apply {\n",
    "        setRemoteAdapter(R.id.listViewWidget, serviceIntent)\n",
    "        setEmptyView(R.id.listViewWidget, R.id.emptyViewTextView)\n",
    "    }"
   ]
  },
  {
   "cell_type": "markdown",
   "id": "e0dfb2b1-eccc-46f4-9441-fbca8d5a83ee",
   "metadata": {},
   "source": [
    "na koniec wywołujemy metodę `updateAppWidget`"
   ]
  },
  {
   "cell_type": "code",
   "execution_count": null,
   "id": "555b82ee-7dc0-4086-8d6a-e22706aae620",
   "metadata": {},
   "outputs": [],
   "source": [
    "    appWidgetManager.updateAppWidget(appWidgetId, views)"
   ]
  },
  {
   "cell_type": "markdown",
   "id": "440583fe-4903-4ee4-8d6e-5c7b33d06f08",
   "metadata": {},
   "source": [
    "Po wyjściu z pętli `for` wywołujemy metodę superklasy"
   ]
  },
  {
   "cell_type": "code",
   "execution_count": null,
   "id": "0435600d-1820-4aff-9198-9397ce1e86c9",
   "metadata": {},
   "outputs": [],
   "source": [
    "    }\n",
    "super.onUpdate(context, appWidgetManager, appWidgetIds)"
   ]
  },
  {
   "cell_type": "markdown",
   "id": "8fcd6868-9321-4ee8-99d1-13218eccb087",
   "metadata": {},
   "source": [
    "Pełny kod klasy `NotyWidgetProvider`"
   ]
  },
  {
   "cell_type": "code",
   "execution_count": null,
   "id": "57a6b371-dfca-4601-967b-6ef8bf2ce66b",
   "metadata": {},
   "outputs": [],
   "source": [
    "class NotyWidgetProvider : AppWidgetProvider() {\n",
    "    override fun onUpdate(\n",
    "        context: Context,\n",
    "        appWidgetManager: AppWidgetManager,\n",
    "        appWidgetIds: IntArray\n",
    "    ) {\n",
    "        for (appWidgetId in appWidgetIds) {\n",
    "            val serviceIntent = Intent(context, NotyWidgetService::class.java)\n",
    "            serviceIntent.apply {\n",
    "                putExtra(AppWidgetManager.EXTRA_APPWIDGET_ID, appWidgetId)\n",
    "                data = Uri.parse(serviceIntent.toUri(Intent.URI_INTENT_SCHEME))\n",
    "            }\n",
    "            val views = RemoteViews(context.packageName, R.layout.noty_widget_provider)\n",
    "            views.apply {\n",
    "                setRemoteAdapter(R.id.listViewWidget, serviceIntent)\n",
    "                setEmptyView(R.id.listViewWidget, R.id.emptyViewTextView)\n",
    "            }\n",
    "            appWidgetManager.updateAppWidget(appWidgetId, views)\n",
    "        }\n",
    "        super.onUpdate(context, appWidgetManager, appWidgetIds)\n",
    "    }\n",
    "}"
   ]
  },
  {
   "cell_type": "markdown",
   "id": "6e39c073-a66e-4640-a5d8-988a551da8ba",
   "metadata": {},
   "source": [
    "Do `AndroidManifest` musimy wprowadzić informacje o naszym providerze oraz service."
   ]
  },
  {
   "cell_type": "code",
   "execution_count": null,
   "id": "c6c98868-c9b5-4e99-b017-b2b1243bbe27",
   "metadata": {},
   "outputs": [],
   "source": [
    "<receiver\n",
    "    android:name=\".provider.NotyWidgetProvider\"\n",
    "    android:exported=\"false\">\n",
    "    <intent-filter>\n",
    "        <action android:name=\"android.appwidget.action.APPWIDGET_UPDATE\" />\n",
    "    </intent-filter>\n",
    "\n",
    "    <meta-data\n",
    "        android:name=\"android.appwidget.provider\"\n",
    "        android:resource=\"@xml/noty_widget_provider_info\" />\n",
    "</receiver>\n",
    "\n",
    "<service\n",
    "    android:name=\".service.NotyWidgetService\"\n",
    "    android:permission=\"android.permission.BIND_REMOTEVIEWS\" />"
   ]
  },
  {
   "cell_type": "markdown",
   "id": "a15f98cd-7fd3-4bc6-9354-902e8de98268",
   "metadata": {},
   "source": [
    "Możemy przetestować aplikację i widget."
   ]
  },
  {
   "cell_type": "markdown",
   "id": "a0900ef9-45ef-4c95-a2f3-52935a5f1b37",
   "metadata": {},
   "source": [
    "<table><tr><td><img src=\"https://media2.giphy.com/media/U0lFKx7L0xtZHrpaLQ/giphy.gif?cid=790b76119fc11ce6d16c4ba7009680f1447b35e164c8012a&rid=giphy.gif&ct=g\" width=\"150\" /></td><td><img src=\"https://media2.giphy.com/media/1BNcJ99feU4EosbU19/giphy.gif?cid=790b76117e6f80ef480e50e651e2e981d067cfeb27c6e32c&rid=giphy.gif&ct=g\" width=\"150\" /></td</tr></table>"
   ]
  },
  {
   "cell_type": "markdown",
   "id": "ce89ab94-5eaf-4084-962a-7d751d9b6a9b",
   "metadata": {},
   "source": [
    "### **Odświeżanie**"
   ]
  },
  {
   "cell_type": "markdown",
   "id": "a62e72e2-2af0-42d6-8687-849ac951d0e9",
   "metadata": {},
   "source": [
    "Poza automatycznym odświeżaniem co 30 minut dodamy odświeżanie na przycisk umieszczony na widgecie. Zmodyfikujmy layout widgetu"
   ]
  },
  {
   "cell_type": "code",
   "execution_count": null,
   "id": "19bc39bb-03bd-40b8-b405-b6682a5c4df8",
   "metadata": {},
   "outputs": [],
   "source": [
    "<RelativeLayout xmlns:android=\"http://schemas.android.com/apk/res/android\"\n",
    "    style=\"@style/Widget.NotyJava.AppWidget.Container\"\n",
    "    android:layout_width=\"match_parent\"\n",
    "    android:layout_height=\"match_parent\"\n",
    "    android:theme=\"@style/Theme.NotyJava.AppWidgetContainer\">\n",
    "\n",
    "    <LinearLayout\n",
    "        android:layout_width=\"match_parent\"\n",
    "        android:layout_height=\"match_parent\"\n",
    "        android:orientation=\"vertical\">\n",
    "\n",
    "        <Button\n",
    "            android:id=\"@+id/refreshButtonWidget\"\n",
    "            android:layout_width=\"match_parent\"\n",
    "            android:backgroundTint=\"@color/cardview_dark_background\"\n",
    "            android:text=\"refresh\"\n",
    "            android:layout_height=\"wrap_content\"/>\n",
    "\n",
    "\n",
    "    <ListView\n",
    "        android:id=\"@+id/listViewWidget\"\n",
    "        android:layout_width=\"match_parent\"\n",
    "        android:layout_height=\"match_parent\" />\n",
    "\n",
    "    </LinearLayout>\n",
    "\n",
    "    <TextView\n",
    "        android:id=\"@+id/emptyViewTextView\"\n",
    "        android:layout_width=\"match_parent\"\n",
    "        android:layout_height=\"match_parent\"\n",
    "        android:textSize=\"20sp\"\n",
    "        android:gravity=\"center\"\n",
    "        android:text=\"lista jest pusta\"/>\n",
    "</RelativeLayout>"
   ]
  },
  {
   "cell_type": "markdown",
   "id": "966fd001-0599-4047-95d7-a6efb5a16709",
   "metadata": {},
   "source": [
    "Przy odświeżeniu chcemy wywołać (niejawnie) metodę `onDataSetChange` klasy `NotyWidgetService`, więc przedźmy do tej metody i ją nieco zmodyfikujmy"
   ]
  },
  {
   "cell_type": "code",
   "execution_count": null,
   "id": "c86f76f3-b9b1-47ef-8053-c596063ba800",
   "metadata": {},
   "outputs": [],
   "source": [
    "override fun onDataSetChanged() {\n",
    "    DataProvider.dummyData.add(\n",
    "        \"Nowa notatka \" + (DataProvider.dummyData.size + 1))\n",
    "}"
   ]
  },
  {
   "cell_type": "markdown",
   "id": "f8f945aa-478a-4918-86f3-5cc09c71d9f3",
   "metadata": {},
   "source": [
    "Czyli przy każdym wywołaniu tej metody będziemy dodawać nową notatkę do listy - tą funkcjonalność póżniej zmienimy. Wróćmy do klasy `NotyWidgetProvider` i obsłużmy przycisk. W pierwszej kolejności musimy utworzyć `Intent`, określimy w nim akcję którą chcemy wykonać - tutaj będzie to `ACTION_APPWIDGET_UPDATE`."
   ]
  },
  {
   "cell_type": "code",
   "execution_count": null,
   "id": "ec0656d5-cf96-4cc7-9503-f9b369c84b9f",
   "metadata": {},
   "outputs": [],
   "source": [
    "val intentUpdate = Intent(context, NotyWidgetProvider::class.java)\n",
    "intentUpdate.action = AppWidgetManager.ACTION_APPWIDGET_UPDATE"
   ]
  },
  {
   "cell_type": "markdown",
   "id": "1e66745a-5e38-42b9-8eed-01c831310dc0",
   "metadata": {},
   "source": [
    "Następnie musimy przekazać **wszystkie** identyfikatory widgetów"
   ]
  },
  {
   "cell_type": "code",
   "execution_count": null,
   "id": "4941557b-04f9-459d-8173-3426eacf66e2",
   "metadata": {},
   "outputs": [],
   "source": [
    "val idArray = intArrayOf(appWidgetId)\n",
    "val intentUpdate = Intent(context, NotyWidgetProvider::class.java)\n",
    "intentUpdate.apply {\n",
    "    action = AppWidgetManager.ACTION_APPWIDGET_UPDATE\n",
    "    putExtra(AppWidgetManager.EXTRA_APPWIDGET_IDS, idArray)\n",
    "}"
   ]
  },
  {
   "cell_type": "markdown",
   "id": "c875dc29-3120-4bf8-849e-56add46dffe6",
   "metadata": {},
   "source": [
    "Tworzymy `PendingIntent` który wykona transmisję"
   ]
  },
  {
   "cell_type": "code",
   "execution_count": null,
   "id": "61a2247d-5975-4c62-b75e-8306dc8e1858",
   "metadata": {},
   "outputs": [],
   "source": [
    "val pendingUpdate = PendingIntent.getBroadcast(\n",
    "    context, appWidgetId, intentUpdate,\n",
    "    PendingIntent.FLAG_UPDATE_CURRENT or PendingIntent.FLAG_MUTABLE\n",
    ")"
   ]
  },
  {
   "cell_type": "markdown",
   "id": "d1dc03ff-3a4b-47f3-a38f-0aef209819e6",
   "metadata": {},
   "source": [
    "ustawiamy `setOnClickPendingIntent` na `RemoteViews`"
   ]
  },
  {
   "cell_type": "code",
   "execution_count": null,
   "id": "2de9d2b2-ccd0-4e0f-89d2-be6b0888e15f",
   "metadata": {},
   "outputs": [],
   "source": [
    "views.setOnClickPendingIntent(R.id.refreshButtonWidget, pendingUpdate)"
   ]
  },
  {
   "cell_type": "markdown",
   "id": "00a5cea9-9b68-4b23-9bb4-2b18b406f49f",
   "metadata": {},
   "source": [
    "na koniec metody `onUpdate` wykonujemy `notifyAppWidgetViewDataChanged`"
   ]
  },
  {
   "cell_type": "code",
   "execution_count": null,
   "id": "9bf2fc60-8d11-4c3b-8f4e-b204a98a8891",
   "metadata": {},
   "outputs": [],
   "source": [
    "appWidgetManager.notifyAppWidgetViewDataChanged(appWidgetId, R.id.listViewWidget)"
   ]
  },
  {
   "cell_type": "markdown",
   "id": "f4a9f003-b93f-4849-9374-80fba345575e",
   "metadata": {},
   "source": [
    "Pełny kod metody `onUpdate`"
   ]
  },
  {
   "cell_type": "code",
   "execution_count": null,
   "id": "4e8d9f87-6605-414b-a1bd-44a5d2ff68f0",
   "metadata": {},
   "outputs": [],
   "source": [
    "@RequiresApi(Build.VERSION_CODES.S)\n",
    "override fun onUpdate(\n",
    "    context: Context,\n",
    "    appWidgetManager: AppWidgetManager,\n",
    "    appWidgetIds: IntArray\n",
    ") {\n",
    "    for (appWidgetId in appWidgetIds) {\n",
    "        val serviceIntent = Intent(context, NotyWidgetService::class.java)\n",
    "        serviceIntent.apply {\n",
    "            putExtra(AppWidgetManager.EXTRA_APPWIDGET_ID, appWidgetId)\n",
    "            data = Uri.parse(serviceIntent.toUri(Intent.URI_INTENT_SCHEME))\n",
    "        }\n",
    "        val idArray = intArrayOf(appWidgetId)\n",
    "        val intentUpdate = Intent(context, NotyWidgetProvider::class.java)\n",
    "        intentUpdate.apply {\n",
    "            action = AppWidgetManager.ACTION_APPWIDGET_UPDATE\n",
    "            putExtra(AppWidgetManager.EXTRA_APPWIDGET_IDS, idArray)\n",
    "        }\n",
    "\n",
    "        val pendingUpdate = PendingIntent.getBroadcast(\n",
    "            context, appWidgetId, intentUpdate,\n",
    "            PendingIntent.FLAG_UPDATE_CURRENT or PendingIntent.FLAG_MUTABLE\n",
    "        )\n",
    "\n",
    "        val views = RemoteViews(context.packageName, R.layout.noty_widget_provider)\n",
    "        views.apply {\n",
    "            setRemoteAdapter(R.id.listViewWidget, serviceIntent)\n",
    "            setEmptyView(R.id.listViewWidget, R.id.emptyViewTextView)\n",
    "            setOnClickPendingIntent(R.id.refreshButtonWidget, pendingUpdate)\n",
    "        }\n",
    "        appWidgetManager.updateAppWidget(appWidgetId, views)\n",
    "        appWidgetManager.notifyAppWidgetViewDataChanged(appWidgetId, R.id.listViewWidget)\n",
    "    }\n",
    "    super.onUpdate(context, appWidgetManager, appWidgetIds)\n",
    "}"
   ]
  },
  {
   "cell_type": "markdown",
   "id": "af839cd4-e28e-4e0a-9bc5-7b26a87dece0",
   "metadata": {},
   "source": [
    "Możemy przetestować aplikację"
   ]
  },
  {
   "cell_type": "markdown",
   "id": "c0e892fb-df0e-491f-8179-151dd5fa7b2d",
   "metadata": {},
   "source": [
    "<img src=\"https://media1.giphy.com/media/1MmSrqHNPMJ7t6sJd5/giphy.gif?cid=790b761108493c629628d2f83d3b785b8ada6d0dad9b1f6b&rid=giphy.gif&ct=g\" width=\"150\" />"
   ]
  },
  {
   "cell_type": "markdown",
   "id": "4fe4667b-93ea-4c70-bd70-a49e41428ce8",
   "metadata": {},
   "source": [
    "### **ListView onClick**"
   ]
  },
  {
   "cell_type": "markdown",
   "id": "483be0e1-0f7b-48e9-9a80-65c6ca8909f6",
   "metadata": {},
   "source": [
    "Kolejnym krokiem będzie modyfikacja elementu listy po kliknięciu. Ponieważ tworzenie `PendingIntent` dla każdego elementu listy jest operacją niezwykle kosztochłonną wykonujemy to w dwóch krokach. W klasie `NotyWidgetProvider` utworzymy `PendingIntentTemplate` - szablon intentu. Oraz `FillIntent` przez który prześlemy potrzebne dane. W pierwszym kroku zdefiniujmy `Intent` w klasie `NotyWidgetProvider` w którym zdefiniujemy akcję."
   ]
  },
  {
   "cell_type": "code",
   "execution_count": null,
   "id": "1d3e2f52-1f7f-4fd4-8547-0a079f6fe4b3",
   "metadata": {},
   "outputs": [],
   "source": [
    "val clickIntent = Intent(context, NotyWidgetProvider::class.java)"
   ]
  },
  {
   "cell_type": "markdown",
   "id": "36d25e54-ef89-4049-b0ab-5523e1259f5b",
   "metadata": {},
   "source": [
    "Musimy określić identyfikator, który posłuży nam do wykonania akcji"
   ]
  },
  {
   "cell_type": "code",
   "execution_count": null,
   "id": "1ae7e7ae-0e85-4262-9e2a-8a3f8cf13120",
   "metadata": {},
   "outputs": [],
   "source": [
    "const val ACTION_DONE = \"actionDone\""
   ]
  },
  {
   "cell_type": "code",
   "execution_count": null,
   "id": "ff706df0-1f16-4fbb-8cb3-1fbb02f14cf9",
   "metadata": {},
   "outputs": [],
   "source": [
    "clickIntent.action = ACTION_DONE"
   ]
  },
  {
   "cell_type": "markdown",
   "id": "5ee35bd4-a4c5-44be-939f-b4e37eaf791c",
   "metadata": {},
   "source": [
    "Następnie tworzymy `PendingIntent`"
   ]
  },
  {
   "cell_type": "code",
   "execution_count": null,
   "id": "bc9574d5-d30d-4f9a-86f2-6b183c2e912c",
   "metadata": {},
   "outputs": [],
   "source": [
    "val clickPendingIntent = PendingIntent.getBroadcast(\n",
    "    context, 0, clickIntent,\n",
    "    PendingIntent.FLAG_MUTABLE\n",
    ")"
   ]
  },
  {
   "cell_type": "markdown",
   "id": "2578538e-5843-4049-a05a-1cf01c00747f",
   "metadata": {},
   "source": [
    "oraz ustawiamy `PendingIntentTemplate`"
   ]
  },
  {
   "cell_type": "code",
   "execution_count": null,
   "id": "7b4dbf9f-78c5-4961-90af-9cbd1dc51052",
   "metadata": {},
   "outputs": [],
   "source": [
    "val views = RemoteViews(context.packageName, R.layout.noty_widget_provider)\n",
    "views.apply {\n",
    "    setRemoteAdapter(R.id.listViewWidget, serviceIntent)\n",
    "    setEmptyView(R.id.listViewWidget, R.id.emptyViewTextView)\n",
    "    // ustawiamy pendingIntentTemplate\n",
    "    setPendingIntentTemplate(R.id.listViewWidget, clickPendingIntent)\n",
    "    setOnClickPendingIntent(R.id.refreshButtonWidget, pendingUpdate)\n",
    "}"
   ]
  },
  {
   "cell_type": "markdown",
   "id": "08f17ad7-076d-4066-8b6d-e4032cd8e427",
   "metadata": {},
   "source": [
    "Zmodyfikowana metoda `onUpdate`"
   ]
  },
  {
   "cell_type": "code",
   "execution_count": null,
   "id": "c3034723-72be-42e7-ac0f-6625e9d73c5f",
   "metadata": {},
   "outputs": [],
   "source": [
    "const val ACTION_DONE = \"actionDone\"\n",
    "\n",
    "class NotyWidgetProvider : AppWidgetProvider() {\n",
    "\n",
    "    @RequiresApi(Build.VERSION_CODES.S)\n",
    "    override fun onUpdate(\n",
    "        context: Context,\n",
    "        appWidgetManager: AppWidgetManager,\n",
    "        appWidgetIds: IntArray\n",
    "    ) {\n",
    "        for (appWidgetId in appWidgetIds) {\n",
    "            val serviceIntent = Intent(context, NotyWidgetService::class.java)\n",
    "            serviceIntent.apply {\n",
    "                putExtra(AppWidgetManager.EXTRA_APPWIDGET_ID, appWidgetId)\n",
    "                data = Uri.parse(serviceIntent.toUri(Intent.URI_INTENT_SCHEME))\n",
    "            }\n",
    "\n",
    "            val clickIntent = Intent(context, NotyWidgetProvider::class.java)\n",
    "            clickIntent.action = ACTION_DONE\n",
    "\n",
    "            val clickPendingIntent = PendingIntent.getBroadcast(\n",
    "                context, 0, clickIntent,\n",
    "                PendingIntent.FLAG_MUTABLE\n",
    "            )\n",
    "            val idArray = intArrayOf(appWidgetId)\n",
    "            val intentUpdate = Intent(context, NotyWidgetProvider::class.java)\n",
    "            intentUpdate.apply {\n",
    "                action = AppWidgetManager.ACTION_APPWIDGET_UPDATE\n",
    "                putExtra(AppWidgetManager.EXTRA_APPWIDGET_IDS, idArray)\n",
    "            }\n",
    "\n",
    "            val pendingUpdate = PendingIntent.getBroadcast(\n",
    "                context, appWidgetId, intentUpdate,\n",
    "                PendingIntent.FLAG_UPDATE_CURRENT or PendingIntent.FLAG_MUTABLE\n",
    "            )\n",
    "\n",
    "            val views = RemoteViews(context.packageName, R.layout.noty_widget_provider)\n",
    "            views.apply {\n",
    "                setRemoteAdapter(R.id.listViewWidget, serviceIntent)\n",
    "                setEmptyView(R.id.listViewWidget, R.id.emptyViewTextView)\n",
    "                setPendingIntentTemplate(R.id.listViewWidget, clickPendingIntent)\n",
    "                setOnClickPendingIntent(R.id.refreshButtonWidget, pendingUpdate)\n",
    "            }\n",
    "            appWidgetManager.updateAppWidget(appWidgetId, views)\n",
    "            appWidgetManager.notifyAppWidgetViewDataChanged(appWidgetId, R.id.listViewWidget)\n",
    "        }\n",
    "        super.onUpdate(context, appWidgetManager, appWidgetIds)\n",
    "    }\n",
    "}"
   ]
  },
  {
   "cell_type": "markdown",
   "id": "8fc7ea71-e8f4-44d1-bf8f-3429742adc42",
   "metadata": {},
   "source": [
    "Przechodzimy do klasy `NotyWidgetService`, w metodzie `getViewAt` tworzymy `FillIntent` i przesyłamy niezbędne dane"
   ]
  },
  {
   "cell_type": "code",
   "execution_count": null,
   "id": "684adcee-1c7a-48e7-8042-e534300a2f91",
   "metadata": {},
   "outputs": [],
   "source": [
    "val fillIntent = Intent()\n",
    "fillIntent.apply {\n",
    "    putExtra(AppWidgetManager.EXTRA_APPWIDGET_ID, appWidgetId)\n",
    "    putExtra(\"position\", position)\n",
    "}\n",
    "remoteViews.setOnClickFillInIntent(R.id.itemListTextView, fillIntent)"
   ]
  },
  {
   "cell_type": "markdown",
   "id": "93165c77-4c82-47b7-88c9-4a768e481261",
   "metadata": {},
   "source": [
    "Ostatnim krokiem jest odebranie danych i wykonanie akcji, robimy to w klasie `NotyWidgetProvider` nadpisując metodę `onReceive`"
   ]
  },
  {
   "cell_type": "code",
   "execution_count": null,
   "id": "146ceefd-9f7c-4cfa-ab6e-c86a3b72e696",
   "metadata": {},
   "outputs": [],
   "source": [
    "override fun onReceive(context: Context?, intent: Intent) {\n",
    "    super.onReceive(context, intent)\n",
    "}"
   ]
  },
  {
   "cell_type": "markdown",
   "id": "aa8f41cd-a8fd-4e46-bbb5-6187428b8d1f",
   "metadata": {},
   "source": [
    "Wpierw określmy akcję którą będziemy obsługiwać"
   ]
  },
  {
   "cell_type": "code",
   "execution_count": null,
   "id": "8dac0997-fdbf-4110-8de3-2d0597fd1428",
   "metadata": {},
   "outputs": [],
   "source": [
    "if (ACTION_DONE == intent.action) {"
   ]
  },
  {
   "cell_type": "markdown",
   "id": "25872175-e070-4262-8c41-9a54e1d0af6d",
   "metadata": {},
   "source": [
    "rozpakujmy dane"
   ]
  },
  {
   "cell_type": "code",
   "execution_count": null,
   "id": "0806a08f-a77d-48ba-b47a-c835862302a1",
   "metadata": {},
   "outputs": [],
   "source": [
    "val appWidgetId = intent.getIntExtra(\n",
    "    AppWidgetManager.EXTRA_APPWIDGET_ID,\n",
    "    AppWidgetManager.INVALID_APPWIDGET_ID\n",
    ")\n",
    "val position = intent.getIntExtra(\"position\", 100)"
   ]
  },
  {
   "cell_type": "markdown",
   "id": "c1eecc18-ec89-42f8-ad5b-2ca6ee2c1403",
   "metadata": {},
   "source": [
    "Pobierzmy instancję `AppWidgetManager`"
   ]
  },
  {
   "cell_type": "code",
   "execution_count": null,
   "id": "5074848d-02b4-4260-8bb5-a9c7b3b2f369",
   "metadata": {},
   "outputs": [],
   "source": [
    "val appWidgetManager = AppWidgetManager.getInstance(context)"
   ]
  },
  {
   "cell_type": "markdown",
   "id": "12b5ba1d-d231-44a4-afb6-d2936f873949",
   "metadata": {},
   "source": [
    "i zmodyfikujmy element na liście"
   ]
  },
  {
   "cell_type": "code",
   "execution_count": null,
   "id": "6fb412ce-4337-4f8e-8763-a19c73cb14dd",
   "metadata": {},
   "outputs": [],
   "source": [
    "DataProvider.dummyData[position] = \"zmiana\""
   ]
  },
  {
   "cell_type": "markdown",
   "id": "22dc6187-9a1e-42f0-89eb-a5345e9c62cb",
   "metadata": {},
   "source": [
    "następnie wykonujemy `notifyAppWidgetViewDataChanged`"
   ]
  },
  {
   "cell_type": "code",
   "execution_count": null,
   "id": "9619dd4f-ba3a-44eb-a84a-b1590aaaf972",
   "metadata": {},
   "outputs": [],
   "source": [
    "appWidgetManager.notifyAppWidgetViewDataChanged(appWidgetId, R.id.listViewWidget)"
   ]
  },
  {
   "cell_type": "markdown",
   "id": "92ecf69d-e88b-48a7-8b20-4011b0e22a9b",
   "metadata": {},
   "source": [
    "Pełna metoda `onReceive`"
   ]
  },
  {
   "cell_type": "code",
   "execution_count": null,
   "id": "c540f002-d334-48bf-b90e-d5b6297587b7",
   "metadata": {},
   "outputs": [],
   "source": [
    "override fun onReceive(context: Context?, intent: Intent) {\n",
    "    if (ACTION_DONE == intent.action) {\n",
    "        val appWidgetId = intent.getIntExtra(\n",
    "            AppWidgetManager.EXTRA_APPWIDGET_ID,\n",
    "            AppWidgetManager.INVALID_APPWIDGET_ID\n",
    "        )\n",
    "        val position = intent.getIntExtra(\"position\", 100)\n",
    "        val appWidgetManager = AppWidgetManager.getInstance(context)\n",
    "        DataProvider.dummyData[position] = \"zmiana\"\n",
    "        appWidgetManager.notifyAppWidgetViewDataChanged(appWidgetId, R.id.listViewWidget)\n",
    "    }\n",
    "    super.onReceive(context, intent)\n",
    "}"
   ]
  },
  {
   "cell_type": "markdown",
   "id": "ae12a685-a3e3-46f9-91e4-b9d5f7b400e2",
   "metadata": {},
   "source": [
    "Możemy przetestować aplikację - po kliknięciu każdego elementu listy, zostanie on zmieniony ale również zostanie dodany nowy element, ponieważ będzie wywołana metoda `onDataSetChanged`"
   ]
  },
  {
   "cell_type": "markdown",
   "id": "168bac71-dad2-4120-9bfa-ac385abcdcec",
   "metadata": {},
   "source": [
    "<img src=\"https://media2.giphy.com/media/aCLr1hpAQuVMUFKCZb/giphy.gif?cid=790b7611a7a7f667dcf133dcf9cd4bf638e9c5bf8dbc1f31&rid=giphy.gif&ct=g\" width=\"150\" />"
   ]
  },
  {
   "cell_type": "markdown",
   "id": "c263c20c-395f-4639-800c-fcc2995feddc",
   "metadata": {},
   "source": [
    "### **Baza danych**"
   ]
  },
  {
   "cell_type": "markdown",
   "id": "ce0d48b2-8977-46dc-86cc-2678de60dbe5",
   "metadata": {},
   "source": [
    "Notatki będziemy przechowywać w bazie danych, notatkę przeczytaną/zrealizowaną oznaczymy innym kolorem tekstu. Oprócz tego dodamy również godzinę wykonania zadania. Rozpocznijmy od zdefiniowania modelu"
   ]
  },
  {
   "cell_type": "code",
   "execution_count": null,
   "id": "0dd5d0e0-9875-48d6-ae26-cb07789f1446",
   "metadata": {},
   "outputs": [],
   "source": [
    "class NoteModel(var textNote: String, val time: LocalTime) {\n",
    "    var id = 0\n",
    "        private set\n",
    "    var color = Color.BLACK\n",
    "\n",
    "    constructor(id: Int, textNote: String, time: LocalTime, color: Int) : this(textNote, time) {\n",
    "        this.id = id\n",
    "        this.color = color\n",
    "    }\n",
    "}"
   ]
  },
  {
   "cell_type": "markdown",
   "id": "1b3705eb-b4e3-4ff5-94aa-037fa9f0e17e",
   "metadata": {},
   "source": [
    "Zdefiniujmy również dane testowe w klasie `DataProvider`"
   ]
  },
  {
   "cell_type": "code",
   "execution_count": null,
   "id": "e3330514-4a00-41c6-9852-e02188f452c1",
   "metadata": {},
   "outputs": [],
   "source": [
    "val notes: List<NoteModel> = listOf(\n",
    "    NoteModel(\"notatka 1\", LocalTime.of(12, 0)),\n",
    "    NoteModel(\"notatka 2\", LocalTime.of(13, 0)),\n",
    "    NoteModel(\"notatka 3\", LocalTime.of(21, 0)),\n",
    "    NoteModel(\"notatka 4\", LocalTime.of(9, 9)),\n",
    "    NoteModel(\"notatka 5\", LocalTime.of(22, 34)),\n",
    "    NoteModel(\"notatka 6\", LocalTime.of(11, 22)),\n",
    "    NoteModel(\"notatka 7\", localTime)\n",
    ")"
   ]
  },
  {
   "cell_type": "markdown",
   "id": "4f0e4a3b-2a42-43f4-aa4a-0b4e9c991d00",
   "metadata": {},
   "source": [
    "Stwórzmy naszą bazę danych"
   ]
  },
  {
   "cell_type": "code",
   "execution_count": null,
   "id": "c354e2a2-669c-420b-97e4-27a1b22df0f2",
   "metadata": {},
   "outputs": [],
   "source": [
    "class DBHandler(context: Context) :\n",
    "    SQLiteOpenHelper(context, DATABASE_NAME, null, DATABASE_VERSION) {\n",
    "    override fun onCreate(db: SQLiteDatabase) {\n",
    "        val CREATE_STUDENTS_TABLE = \"CREATE TABLE \" +\n",
    "                NOTES_TABLE +\n",
    "                \"(\" +\n",
    "                COLUMN_ID + \" \" +\n",
    "                \"INTEGER PRIMARY KEY AUTOINCREMENT NOT NULL,\" +\n",
    "                COLUMN_TEXT +\n",
    "                \" TEXT,\" +\n",
    "                COLUMN_TIME +\n",
    "                \" TEXT,\" +\n",
    "                COLUMN_COLOR +\n",
    "                \" INTEGER\" +\n",
    "                \")\"\n",
    "        db.execSQL(CREATE_STUDENTS_TABLE)\n",
    "    }\n",
    "\n",
    "    override fun onUpgrade(db: SQLiteDatabase, oldVersion: Int, newVersion: Int) {\n",
    "        db.execSQL(\"DROP TABLE IF EXISTS $NOTES_TABLE\")\n",
    "        onCreate(db)\n",
    "    }\n",
    "\n",
    "    companion object {\n",
    "        private const val DATABASE_VERSION = 1\n",
    "        private const val DATABASE_NAME = \"notesBDo.db\"\n",
    "        private const val NOTES_TABLE = \"NotesTable\"\n",
    "\n",
    "        private const val COLUMN_ID = \"_id\"\n",
    "        private const val COLUMN_TEXT = \"text\"\n",
    "        private const val COLUMN_TIME = \"time\"\n",
    "        private const val COLUMN_COLOR = \"color\"\n",
    "    }\n",
    "}"
   ]
  },
  {
   "cell_type": "markdown",
   "id": "6ea7c842-b105-4124-a4c6-1e32807bdc94",
   "metadata": {},
   "source": [
    "Będziemy potrzebować kilka metod, zacznijmy od dodania nowego wpisu do bazy"
   ]
  },
  {
   "cell_type": "code",
   "execution_count": null,
   "id": "d5b47965-51fd-4516-94e4-38ac88d8a1f6",
   "metadata": {},
   "outputs": [],
   "source": [
    "    fun addNote(note: NoteModel) {\n",
    "        val db = this.writableDatabase\n",
    "        val values = ContentValues()\n",
    "        values.apply {\n",
    "            put(COLUMN_TEXT, note.textNote)\n",
    "            put(COLUMN_TIME, note.time.toString())\n",
    "            put(COLUMN_COLOR, note.color)\n",
    "        }\n",
    "        db.insert(NOTES_TABLE, null, values)\n",
    "        db.close()\n",
    "    }"
   ]
  },
  {
   "cell_type": "markdown",
   "id": "bb4cf6d1-6e6f-486d-a7bd-41d515c4d5df",
   "metadata": {},
   "source": [
    "Przejdźmy do metody zwracającą listę wszystkich notatek"
   ]
  },
  {
   "cell_type": "code",
   "execution_count": null,
   "id": "bf3df850-6ad8-4efb-a241-fd3eb93d93eb",
   "metadata": {},
   "outputs": [],
   "source": [
    "    val notes: List<NoteModel>\n",
    "        get() {\n",
    "            val notes = mutableListOf<NoteModel>()\n",
    "            val db = this.readableDatabase\n",
    "            val cursor = db.rawQuery(\"SELECT * FROM $NOTES_TABLE\", null)\n",
    "            if (cursor.moveToFirst()) {\n",
    "                do {\n",
    "                    notes.add(\n",
    "                        NoteModel(\n",
    "                            cursor.getInt(0),\n",
    "                            cursor.getString(1),\n",
    "                            LocalTime.parse(cursor.getString(2)),\n",
    "                            cursor.getInt(3)\n",
    "                        )\n",
    "                    )\n",
    "                } while (cursor.moveToNext())\n",
    "            }\n",
    "            db.close()\n",
    "            cursor.close()\n",
    "            return notes\n",
    "        }"
   ]
  },
  {
   "cell_type": "markdown",
   "id": "73848828-80fe-4513-b8ed-e80e3b98bf4c",
   "metadata": {},
   "source": [
    "Będziemy również aktualizować kolor danej notatki"
   ]
  },
  {
   "cell_type": "code",
   "execution_count": null,
   "id": "55054da2-cd5d-447f-a2de-7992e1b79b42",
   "metadata": {},
   "outputs": [],
   "source": [
    "    fun updateNote(id: Int) {\n",
    "        val db = this.writableDatabase\n",
    "        val contentValues = ContentValues()\n",
    "        contentValues.put(COLUMN_COLOR, Color.CYAN)\n",
    "        db.update(\n",
    "            NOTES_TABLE,\n",
    "            contentValues,\n",
    "            \"$COLUMN_ID=$id\",\n",
    "            null\n",
    "        )\n",
    "        db.close()\n",
    "    }"
   ]
  },
  {
   "cell_type": "markdown",
   "id": "6ad1e38c-2cb2-49bb-a308-c6b7113f5bd5",
   "metadata": {},
   "source": [
    "Zainicjujmy naszą bazę za pomocą danych testowych w klasie `MainActivity`"
   ]
  },
  {
   "cell_type": "code",
   "execution_count": null,
   "id": "ab74e8f8-074b-442f-96a0-2f798a5f49df",
   "metadata": {},
   "outputs": [],
   "source": [
    "    override fun onCreate(savedInstanceState: Bundle?) {\n",
    "        super.onCreate(savedInstanceState)\n",
    "        setContentView(R.layout.activity_main)\n",
    "        val dbHandler = DBHandler(this)\n",
    "        DataProvider.notes.forEach { dbHandler.addNote(it) }\n",
    "        dbHandler.close()\n",
    "    }"
   ]
  },
  {
   "cell_type": "markdown",
   "id": "2a7e2625-4711-4800-af30-23cf69cb9833",
   "metadata": {},
   "source": [
    "Dokonajmy zmian w klasie `NotyWidgetItemFactory`, będziemy potrzebować zmienną `DBHandler`"
   ]
  },
  {
   "cell_type": "code",
   "execution_count": null,
   "id": "bd655ac1-e0d7-4faa-bc8b-5724c6fbb31f",
   "metadata": {},
   "outputs": [],
   "source": [
    "private DBHandler dbHandler;"
   ]
  },
  {
   "cell_type": "markdown",
   "id": "17ad1a76-ecee-4215-a364-e33de5a51a57",
   "metadata": {},
   "source": [
    "Bazę zainicjujemy w metodzie `onCreate`, tutaj również zainicjujemy lokalną listę"
   ]
  },
  {
   "cell_type": "code",
   "execution_count": null,
   "id": "ffa9bcdd-f905-400f-8554-ef16a3e5830c",
   "metadata": {},
   "outputs": [],
   "source": [
    "    override fun onCreate() {\n",
    "        dbHandler = DBHandler(context)\n",
    "        noteList = dbHandler.notes\n",
    "    }"
   ]
  },
  {
   "cell_type": "markdown",
   "id": "83658ca3-ea51-416d-bd4f-7b723878d223",
   "metadata": {},
   "source": [
    "Przy każdej zmianie chcemy odświeżyć listę i pobrać aktualne dane"
   ]
  },
  {
   "cell_type": "code",
   "execution_count": null,
   "id": "5efbf6ce-02a4-47e7-a6a4-656d0cabe99e",
   "metadata": {},
   "outputs": [],
   "source": [
    "    override fun onDataSetChanged() {\n",
    "        noteList = dbHandler.notes\n",
    "    }"
   ]
  },
  {
   "cell_type": "markdown",
   "id": "46bb39e7-d061-4999-81ef-38c7ff00ebf5",
   "metadata": {},
   "source": [
    "W metodzie `onDestroy` zamykamy dostęp do bazy"
   ]
  },
  {
   "cell_type": "code",
   "execution_count": null,
   "id": "da049f68-4e28-4faf-b5f0-0ab8d37a8168",
   "metadata": {},
   "outputs": [],
   "source": [
    "    override fun onDestroy() {\n",
    "        dbHandler.close()\n",
    "    }"
   ]
  },
  {
   "cell_type": "markdown",
   "id": "ffbc0cf8-ad62-41fe-b7e3-82dae2cd1e07",
   "metadata": {},
   "source": [
    "W metodzie `getViewAt` ustawmy tekst oraz kolor tekstu elementów listy"
   ]
  },
  {
   "cell_type": "code",
   "execution_count": null,
   "id": "46ba9415-a137-4eaa-bba1-aa9b8a6e19b2",
   "metadata": {},
   "outputs": [],
   "source": [
    "        val remoteViews = RemoteViews(\n",
    "            context.packageName, \n",
    "            R.layout.item_list)\n",
    "        remoteViews.setTextViewText(\n",
    "            R.id.itemListTextView, \n",
    "            noteList[position].time.toString() + \n",
    "                \"\\n\" + noteList[position].textNote\n",
    "        )\n",
    "        remoteViews.setTextColor(\n",
    "            R.id.itemListTextView, \n",
    "            noteList[position].color)"
   ]
  },
  {
   "cell_type": "markdown",
   "id": "c6e66642-4acd-4697-9ff9-5222bdf6c7f4",
   "metadata": {},
   "source": [
    "Przez `FillIntent` będziemy przesyłać `appWidgetId` oraz `id` elementu listy"
   ]
  },
  {
   "cell_type": "code",
   "execution_count": null,
   "id": "02f0d89a-50ea-40b5-9f1a-9f9c20d97132",
   "metadata": {},
   "outputs": [],
   "source": [
    "        val fillIntent = Intent()\n",
    "        fillIntent.apply {\n",
    "            putExtra(AppWidgetManager.EXTRA_APPWIDGET_ID, appWidgetId)\n",
    "            putExtra(\"id\", noteList[position].id)\n",
    "        }\n",
    "        remoteViews.setOnClickFillInIntent(\n",
    "            R.id.itemListTextView, \n",
    "            fillIntent)\n",
    "        return remoteViews"
   ]
  },
  {
   "cell_type": "markdown",
   "id": "e07e5b57-acef-43d7-ad03-e9df2ad2929b",
   "metadata": {},
   "source": [
    "Zmienimy również `getItemId` - teraz będziemy posługiwać się `id` z bazy danych"
   ]
  },
  {
   "cell_type": "code",
   "execution_count": null,
   "id": "7ea86b10-9510-4259-9cd5-318c02baa667",
   "metadata": {},
   "outputs": [],
   "source": [
    "override fun getItemId(position: Int): Long = noteList[position].id.toLong()"
   ]
  },
  {
   "cell_type": "markdown",
   "id": "f0f4c23d-70c6-463f-931b-13e8ae87122f",
   "metadata": {},
   "source": [
    "Przejdźmy do klasy `NotyWidgetProvider` i w metodzie `onReceive` zaktualizujmy element listy"
   ]
  },
  {
   "cell_type": "code",
   "execution_count": null,
   "id": "3bafd65b-bbd0-4989-9d50-c4a99095693e",
   "metadata": {},
   "outputs": [],
   "source": [
    "    override fun onReceive(context: Context, intent: Intent) {\n",
    "        if (ACTION_DONE == intent.action) {\n",
    "            val appWidgetId = intent.getIntExtra(\n",
    "                AppWidgetManager.EXTRA_APPWIDGET_ID,\n",
    "                AppWidgetManager.INVALID_APPWIDGET_ID\n",
    "            )\n",
    "            val id = intent.getIntExtra(\"id\", 100)\n",
    "            val appWidgetManager = AppWidgetManager.getInstance(context)\n",
    "            val dbHandler = DBHandler(context)\n",
    "            dbHandler.updateNote(id)\n",
    "            dbHandler.close()\n",
    "            appWidgetManager.notifyAppWidgetViewDataChanged(appWidgetId, R.id.listViewWidget)\n",
    "        }\n",
    "        super.onReceive(context, intent)\n",
    "    }"
   ]
  },
  {
   "cell_type": "markdown",
   "id": "8afab37c-6556-4cd1-a7c2-6054d340bc0b",
   "metadata": {},
   "source": [
    "Możemy przetestować aplikację"
   ]
  },
  {
   "cell_type": "markdown",
   "id": "1cd8061e-3c0d-437b-86fc-e61dd0a4129f",
   "metadata": {},
   "source": [
    "<img src=\"https://media2.giphy.com/media/jCI4kz73h3KJEs0AJj/giphy.gif\" width=\"150\" />"
   ]
  },
  {
   "cell_type": "markdown",
   "id": "cfe57e6e-c892-434e-90ad-0ba0b69048d6",
   "metadata": {},
   "source": [
    "### **Navigation**"
   ]
  },
  {
   "cell_type": "markdown",
   "id": "20430643-6647-40e8-b2a3-ef98a183721c",
   "metadata": {},
   "source": [
    "Dodajmy nawigację do aplikacji - wykorzystamy trzy fragmenty\n",
    "- `NotesFragment` - wyświetlający listę wszystkich notatek - posiada `onClick` przez który można przejść do edycji\n",
    "- `AddNoteFragment` - umożliwiający dodanie nowej notatki\n",
    "- `EditNoteFragment` - umożliwiający edycję istniejącej notatki\n",
    "\n",
    "`NotesFragment` i `AddNoteFragment` będą znajdować się na `BottomViewNavigation`. Rozpocznijmy od dodania `navigation.xml`"
   ]
  },
  {
   "cell_type": "code",
   "execution_count": null,
   "id": "0a18882f-7232-46de-8c3b-075ef31a708f",
   "metadata": {},
   "outputs": [],
   "source": [
    "<navigation xmlns:android=\"http://schemas.android.com/apk/res/android\"\n",
    "    xmlns:app=\"http://schemas.android.com/apk/res-auto\"\n",
    "    xmlns:tools=\"http://schemas.android.com/tools\"\n",
    "    android:id=\"@+id/navigation\"\n",
    "    app:startDestination=\"@id/notesFragment\">\n",
    "\n",
    "    <fragment\n",
    "        android:id=\"@+id/addNoteFragment\"\n",
    "        android:name=\"pl.udu.uwr.pum.notyjava.fragments.AddNoteFragment\"\n",
    "        android:label=\"fragment_add_note\"\n",
    "        tools:layout=\"@layout/fragment_add_note\" />\n",
    "    <fragment\n",
    "        android:id=\"@+id/notesFragment\"\n",
    "        android:name=\"pl.udu.uwr.pum.notyjava.fragments.NotesFragment\"\n",
    "        android:label=\"fragment_notes\"\n",
    "        tools:layout=\"@layout/fragment_notes\" >\n",
    "        <action\n",
    "            android:id=\"@+id/action_notesFragment_to_editNoteFragment\"\n",
    "            app:destination=\"@id/editNoteFragment\" >\n",
    "            <argument\n",
    "                android:name=\"id\"\n",
    "                app:argType=\"integer\" />\n",
    "        </action>\n",
    "    </fragment>\n",
    "    <fragment\n",
    "        android:id=\"@+id/editNoteFragment\"\n",
    "        android:name=\"pl.udu.uwr.pum.notyjava.fragments.EditNoteFragment\"\n",
    "        android:label=\"EditNoteFragment\" >\n",
    "        <action\n",
    "            android:id=\"@+id/action_editNoteFragment_to_notesFragment\"\n",
    "            app:destination=\"@id/notesFragment\" />\n",
    "    </fragment>\n",
    "</navigation>"
   ]
  },
  {
   "cell_type": "markdown",
   "id": "13201222-14d0-4f55-9d57-97d339b55e12",
   "metadata": {},
   "source": [
    "Mamy zdefiniowane dwie akcje\n",
    "- `action_notesFragment_to_editNoteFragment` - przejście do edycji notatki - tutaj będziemy przersyłać `id`\n",
    "- `action_editNoteFragment_to_notesFragment` - wywoływana po zakończeniu edycji - umożliwia powrót do listy\n",
    "\n",
    "Dodajmy `menu` dla `BottomViewNavigation`"
   ]
  },
  {
   "cell_type": "code",
   "execution_count": null,
   "id": "b98bd031-813b-4e54-8d61-a741c53468c4",
   "metadata": {},
   "outputs": [],
   "source": [
    "<menu xmlns:android=\"http://schemas.android.com/apk/res/android\">\n",
    "    <item\n",
    "        android:id=\"@id/notesFragment\"\n",
    "        android:icon=\"@drawable/ic_home\"\n",
    "        android:title=\"Notatki\" />\n",
    "    <item\n",
    "        android:id=\"@id/addNoteFragment\"\n",
    "        android:icon=\"@drawable/ic_add\"\n",
    "        android:title=\"Dodaj\" />\n",
    "</menu>"
   ]
  },
  {
   "cell_type": "markdown",
   "id": "f42db416-abd3-4876-847b-ba6309744460",
   "metadata": {},
   "source": [
    "I zmodyfikujmy layout `MainActivity`"
   ]
  },
  {
   "cell_type": "code",
   "execution_count": null,
   "id": "22379928-447a-48a1-96d3-938a3483363c",
   "metadata": {},
   "outputs": [],
   "source": [
    "<LinearLayout xmlns:android=\"http://schemas.android.com/apk/res/android\"\n",
    "    xmlns:tools=\"http://schemas.android.com/tools\"\n",
    "    xmlns:app=\"http://schemas.android.com/apk/res-auto\"\n",
    "    android:layout_width=\"match_parent\"\n",
    "    android:layout_height=\"match_parent\"\n",
    "    android:orientation=\"vertical\"\n",
    "    tools:context=\".MainActivity\">\n",
    "\n",
    "    <androidx.fragment.app.FragmentContainerView\n",
    "        android:id=\"@+id/nav_host_fragment\"\n",
    "        android:name=\"androidx.navigation.fragment.NavHostFragment\"\n",
    "        android:layout_width=\"match_parent\"\n",
    "        android:layout_height=\"0dp\"\n",
    "        android:layout_weight=\"1\"\n",
    "        app:defaultNavHost=\"true\"\n",
    "        app:navGraph=\"@navigation/navigation\"/>\n",
    "\n",
    "    <com.google.android.material.bottomnavigation.BottomNavigationView\n",
    "        android:id=\"@+id/bottom_nav_view\"\n",
    "        android:layout_width=\"match_parent\"\n",
    "        android:layout_height=\"wrap_content\"\n",
    "        app:menu=\"@menu/bottom_menu\" />\n",
    "\n",
    "</LinearLayout>"
   ]
  },
  {
   "cell_type": "markdown",
   "id": "5e10b192-9604-4513-980f-d7611b9aa137",
   "metadata": {},
   "source": [
    "Dodajmy `ViewBinding`, `BottomNavigation` i `NavController` do `MainActivity`"
   ]
  },
  {
   "cell_type": "code",
   "execution_count": null,
   "id": "5384d562-2eb5-4334-a583-95a6b9f093aa",
   "metadata": {},
   "outputs": [],
   "source": [
    "class MainActivity : AppCompatActivity() {\n",
    "\n",
    "    private val binding: ActivityMainBinding \n",
    "        by lazy { ActivityMainBinding.inflate(layoutInflater) }\n",
    "    private val navController: NavController by lazy {\n",
    "        val navHostFragment = supportFragmentManager\n",
    "            .findFragmentById(R.id.nav_host_fragment) as NavHostFragment\n",
    "            NavHostFragment.findNavController(navHostFragment)\n",
    "    }\n",
    "\n",
    "    override fun onCreate(savedInstanceState: Bundle?) {\n",
    "        super.onCreate(savedInstanceState)\n",
    "        setContentView(binding.root)\n",
    "\n",
    "        val bottomNavigationView = findViewById<BottomNavigationView>(R.id.bottom_nav_view)\n",
    "        setupWithNavController(bottomNavigationView, navController)\n",
    "    }\n",
    "}"
   ]
  },
  {
   "cell_type": "markdown",
   "id": "767ef5b7-4aa0-45af-8f8b-f7ffe1626599",
   "metadata": {},
   "source": [
    "### **RecyclerView**"
   ]
  },
  {
   "cell_type": "markdown",
   "id": "9565f72d-c502-4654-bdea-5fca512bf4b6",
   "metadata": {},
   "source": [
    "Dodajmy widok listy na `NotesFragment`, wpierw dodajmy `RecyclerView` do layoutu fragmentu"
   ]
  },
  {
   "cell_type": "code",
   "execution_count": null,
   "id": "64622b5b-8163-421f-9e65-79efaebf392c",
   "metadata": {},
   "outputs": [],
   "source": [
    "<FrameLayout xmlns:android=\"http://schemas.android.com/apk/res/android\"\n",
    "    xmlns:tools=\"http://schemas.android.com/tools\"\n",
    "    android:layout_width=\"match_parent\"\n",
    "    android:layout_height=\"match_parent\"\n",
    "    android:background=\"@color/cardview_dark_background\"\n",
    "    tools:context=\".fragments.NotesFragment\">\n",
    "\n",
    "    <androidx.recyclerview.widget.RecyclerView\n",
    "        android:id=\"@+id/recyclerView\"\n",
    "        android:layout_width=\"match_parent\"\n",
    "        android:layout_height=\"match_parent\"\n",
    "        android:layout_margin=\"12dp\"/>\n",
    "\n",
    "</FrameLayout>"
   ]
  },
  {
   "cell_type": "markdown",
   "id": "2c456e24-4f9e-4747-9d94-600932be31c4",
   "metadata": {},
   "source": [
    "Następnie przygotujmy adapter"
   ]
  },
  {
   "cell_type": "code",
   "execution_count": null,
   "id": "aaea46f2-480c-4512-bb88-3cf13c6b63f9",
   "metadata": {},
   "outputs": [],
   "source": [
    "class NotyAdapter(private val notes: List<NoteModel>) :\n",
    "    RecyclerView.Adapter<NotyAdapter.ViewHolder>() {\n",
    "    override fun onCreateViewHolder(parent: ViewGroup, viewType: Int): ViewHolder {\n",
    "        return ViewHolder(\n",
    "            RecyclerItemViewBinding.inflate(\n",
    "                LayoutInflater.from(parent.context), parent, false\n",
    "            )\n",
    "        )\n",
    "    }\n",
    "\n",
    "    override fun getItemCount(): Int {\n",
    "        return notes.size\n",
    "    }\n",
    "\n",
    "    class ViewHolder(val binding: RecyclerItemViewBinding) :\n",
    "        RecyclerView.ViewHolder(binding.root) {\n",
    "        fun bind(item: NoteModel) {\n",
    "            binding.timeTextView.text = item.time.toString()\n",
    "            binding.textTextView.text = item.textNote\n",
    "            binding.timeTextView.setTextColor(item.color)\n",
    "            binding.textTextView.setTextColor(item.color)\n",
    "        }\n",
    "    }\n",
    "}"
   ]
  },
  {
   "cell_type": "markdown",
   "id": "3758713e-ac50-4da7-aa9c-1869520361d2",
   "metadata": {},
   "source": [
    "W metodzie `onBindViewHolder` dodajmy obsługę metody `onClick` i zaimplementujmy przejście do `EditNoteFragment`"
   ]
  },
  {
   "cell_type": "code",
   "execution_count": null,
   "id": "cc43830b-7537-4f18-976e-056bb59723c7",
   "metadata": {},
   "outputs": [],
   "source": [
    "    override fun onBindViewHolder(holder: ViewHolder, position: Int) {\n",
    "        val item: NoteModel = notes[position]\n",
    "        holder.bind(item)\n",
    "        holder.binding.root.setOnClickListener {\n",
    "            val action: NavDirections = NotesFragmentDirections\n",
    "                .actionNotesFragmentToEditNoteFragment(item.id)\n",
    "            findNavController(holder.binding.root).navigate(action)\n",
    "        }\n",
    "    }"
   ]
  },
  {
   "cell_type": "markdown",
   "id": "e92b6f3f-9093-454b-a60a-3d0d0c020cf5",
   "metadata": {},
   "source": [
    "Finalnie dodajmy `RecyclerView` do `NotesFragment`"
   ]
  },
  {
   "cell_type": "code",
   "execution_count": null,
   "id": "73c2419f-d447-45c3-8cfd-bf4c684e3aaf",
   "metadata": {},
   "outputs": [],
   "source": [
    "class NotesFragment : Fragment() {\n",
    "    private lateinit var binding: FragmentNotesBinding\n",
    "    private val dbHandler: DBHandler by lazy { DBHandler(requireContext()) }\n",
    "\n",
    "    override fun onCreateView(\n",
    "        inflater: LayoutInflater, container: ViewGroup?,\n",
    "        savedInstanceState: Bundle?\n",
    "    ): View {\n",
    "        binding = FragmentNotesBinding.inflate(layoutInflater)\n",
    "        return binding.root\n",
    "    }\n",
    "\n",
    "    override fun onViewCreated(view: View, savedInstanceState: Bundle?) {\n",
    "        super.onViewCreated(view, savedInstanceState)\n",
    "        binding.recyclerView.apply {\n",
    "            layoutManager = LinearLayoutManager(context)\n",
    "            adapter = NotyAdapter(dbHandler.notes)\n",
    "        }\n",
    "    }\n",
    "\n",
    "    override fun onDestroy() {\n",
    "        super.onDestroy()\n",
    "        dbHandler.close()\n",
    "    }\n",
    "}"
   ]
  },
  {
   "cell_type": "markdown",
   "id": "ea107fd0-a5da-4b7b-a209-be11aa1fcdd1",
   "metadata": {},
   "source": [
    "### **Edycja notatki**"
   ]
  },
  {
   "cell_type": "markdown",
   "id": "7399a366-17b8-47a2-8dca-611a2d1683f6",
   "metadata": {},
   "source": [
    "Zacznijmy od layoutu - do ustawienia czasu wykonania wykorzystamy `TimePicker`"
   ]
  },
  {
   "cell_type": "code",
   "execution_count": null,
   "id": "76892eb2-2d92-47a2-8274-f6932e29ae9f",
   "metadata": {},
   "outputs": [],
   "source": [
    "<?xml version=\"1.0\" encoding=\"utf-8\"?>\n",
    "<LinearLayout xmlns:android=\"http://schemas.android.com/apk/res/android\"\n",
    "    xmlns:tools=\"http://schemas.android.com/tools\"\n",
    "    android:layout_width=\"match_parent\"\n",
    "    android:layout_height=\"match_parent\"\n",
    "    android:orientation=\"vertical\"\n",
    "    android:layout_margin=\"12dp\">\n",
    "\n",
    "    <TextView\n",
    "        android:layout_width=\"match_parent\"\n",
    "        android:layout_height=\"wrap_content\"\n",
    "        android:text=\"ustaw czas zakończenia\"\n",
    "        android:textSize=\"24sp\"\n",
    "        android:gravity=\"center_horizontal\"/>\n",
    "\n",
    "    <TimePicker\n",
    "        android:id=\"@+id/timePicker\"\n",
    "        android:layout_width=\"wrap_content\"\n",
    "        android:layout_height=\"wrap_content\"\n",
    "        android:layout_gravity=\"center_horizontal\"\n",
    "        android:timePickerMode=\"clock\"/>\n",
    "\n",
    "    <EditText\n",
    "        android:id=\"@+id/textEditText\"\n",
    "        android:layout_width=\"match_parent\"\n",
    "        android:layout_height=\"wrap_content\"\n",
    "        android:textSize=\"24sp\"\n",
    "        android:layout_marginTop=\"12dp\"\n",
    "        android:autofillHints=\"hints\"\n",
    "        android:inputType=\"textLongMessage\"\n",
    "        android:hint=\"tekst notatki\"/>\n",
    "\n",
    "    <CheckBox\n",
    "        android:id=\"@+id/checked\"\n",
    "        android:layout_width=\"wrap_content\"\n",
    "        android:layout_height=\"wrap_content\"\n",
    "        android:textSize=\"24sp\"\n",
    "        android:layout_marginTop=\"12dp\"\n",
    "        android:layout_gravity=\"center_horizontal\"\n",
    "        android:text=\"zakończone\"/>\n",
    "\n",
    "    <Button\n",
    "        android:id=\"@+id/saveButton\"\n",
    "        android:layout_width=\"match_parent\"\n",
    "        android:layout_height=\"wrap_content\"\n",
    "        android:layout_marginStart=\"24dp\"\n",
    "        android:layout_marginEnd=\"24dp\"\n",
    "        android:text=\"zapisz\"\n",
    "        android:textSize=\"18sp\"/>\n",
    "\n",
    "</LinearLayout>"
   ]
  },
  {
   "cell_type": "markdown",
   "id": "d107abae-8695-4e92-a8b1-f787d4399379",
   "metadata": {},
   "source": [
    "W metodzie `onCreate` odbieramy `id` przesłane z `NotesFragment`"
   ]
  },
  {
   "cell_type": "code",
   "execution_count": null,
   "id": "6a48f492-3dce-4d89-96c6-2fb9eddce0b9",
   "metadata": {},
   "outputs": [],
   "source": [
    "class EditNoteFragment : Fragment() {\n",
    "    private lateinit var binding: FragmentEditNoteBinding\n",
    "    private val dbHandler: DBHandler by lazy { DBHandler(requireContext()) }\n",
    "    private var noteId = 0\n",
    "    override fun onCreate(savedInstanceState: Bundle?) {\n",
    "        super.onCreate(savedInstanceState)\n",
    "        noteId = requireArguments().getInt(\"id\")\n",
    "    }\n",
    "\n",
    "    override fun onCreateView(\n",
    "        inflater: LayoutInflater, container: ViewGroup?,\n",
    "        savedInstanceState: Bundle?\n",
    "    ): View {\n",
    "        binding = FragmentEditNoteBinding.inflate(layoutInflater)\n",
    "        return binding.root\n",
    "    }\n",
    "\n",
    "    override fun onDestroy() {\n",
    "        super.onDestroy()\n",
    "        dbHandler.close()\n",
    "    }\n",
    "}"
   ]
  },
  {
   "cell_type": "markdown",
   "id": "870f98ed-c9c2-4f44-a06a-f02bfc6aba36",
   "metadata": {},
   "source": [
    "W metodzie `onViewCreated` musimy dostać element listy z bazy po `id`. Wpierw dodajmy odpowiednią metodę do klasy `DBHandler`"
   ]
  },
  {
   "cell_type": "code",
   "execution_count": null,
   "id": "3e30c572-42a3-43b7-8c43-26ba137fba6e",
   "metadata": {},
   "outputs": [],
   "source": [
    "    fun getNote(id: Int): NoteModel {\n",
    "        lateinit var note: NoteModel\n",
    "        val db = this.readableDatabase\n",
    "        val cursor =\n",
    "            db.rawQuery(\"SELECT * FROM $NOTES_TABLE WHERE $COLUMN_ID = $id\", null)\n",
    "        if (cursor.moveToFirst()) {\n",
    "            do {\n",
    "                note = NoteModel(\n",
    "                    cursor.getInt(0),\n",
    "                    cursor.getString(1),\n",
    "                    LocalTime.parse(cursor.getString(2)),\n",
    "                    cursor.getInt(3)\n",
    "                )\n",
    "            } while (cursor.moveToNext())\n",
    "        }\n",
    "        db.close()\n",
    "        cursor.close()\n",
    "        return note\n",
    "    }"
   ]
  },
  {
   "cell_type": "markdown",
   "id": "55fa1383-ec5f-4749-bcaa-bc662ca85cd0",
   "metadata": {},
   "source": [
    "W klasie `EditNoteFragment` wykorzystujemy ją do uzyskania odpowiedniego elementu listy"
   ]
  },
  {
   "cell_type": "code",
   "execution_count": null,
   "id": "6a4a7dd6-e3e6-42f0-ba7c-c5311bc09b02",
   "metadata": {},
   "outputs": [],
   "source": [
    "    override fun onViewCreated(view: View, savedInstanceState: Bundle?) {\n",
    "        super.onViewCreated(view, savedInstanceState)\n",
    "\n",
    "        binding.timePicker.setIs24HourView(true)\n",
    "        val note: NoteModel = dbHandler.getNote(noteId)"
   ]
  },
  {
   "cell_type": "markdown",
   "id": "2a188080-26fc-48bd-89b5-81a5d4e6f3cc",
   "metadata": {},
   "source": [
    "Ustawiamy również `TimePicker` w opcji 24-godzinnej (zamiast 12). Przekazujemy wszystkie informacje z elementu na ui."
   ]
  },
  {
   "cell_type": "code",
   "execution_count": null,
   "id": "fd2dbde0-698d-497c-84a7-b7924ef599b1",
   "metadata": {},
   "outputs": [],
   "source": [
    "        binding.apply {\n",
    "            textEditText.setText(note.textNote)\n",
    "            timePicker.hour = note.time.hour\n",
    "            timePicker.minute = note.time.minute\n",
    "            checked.isChecked = note.color == Color.CYAN"
   ]
  },
  {
   "cell_type": "markdown",
   "id": "982dab31-48df-4485-892f-5152a5d0f1ab",
   "metadata": {},
   "source": [
    "Następnie dodajemy obsługę `onClick` dla `saveButton`, wpierw uzyskujemy wszystkie dane od użytkownika"
   ]
  },
  {
   "cell_type": "code",
   "execution_count": null,
   "id": "572c491f-1c8c-4a2e-a835-c19ee69a808e",
   "metadata": {},
   "outputs": [],
   "source": [
    "            saveButton.setOnClickListener {\n",
    "                val text: String = binding.textEditText.text.toString()\n",
    "                if (text.isEmpty()) \n",
    "                    Toast.makeText(context, \"Podaj tekst\", Toast.LENGTH_SHORT)\n",
    "                    .show()\n",
    "                else {"
   ]
  },
  {
   "cell_type": "markdown",
   "id": "434cfd66-18a1-428f-8d1f-11c0cdcfd22d",
   "metadata": {},
   "source": [
    "Musimy również ustawić kolor czcionki na podstawie statusu `CheckBox`"
   ]
  },
  {
   "cell_type": "code",
   "execution_count": null,
   "id": "09bb0eda-e3f5-4391-a8d7-1162ab0429be",
   "metadata": {},
   "outputs": [],
   "source": [
    "                    var color = Color.BLACK\n",
    "                    if (binding.checked.isChecked) color = Color.CYAN"
   ]
  },
  {
   "cell_type": "markdown",
   "id": "b64ca50e-7095-452d-849e-f71c1d29ee2f",
   "metadata": {},
   "source": [
    "Następnie musimy wykonać aktualizację elementu na bazie danych, w tym celu zaimplementujemy metodę `updateNote` w klasie `DBHandler` (metoda o takiej nazwie już istnieje - służy tylko do zmiany koloru czcionki - więc zmienimy jej nazwę na `refreshNote`)"
   ]
  },
  {
   "cell_type": "code",
   "execution_count": null,
   "id": "3aed590e-69ad-484d-aa2d-a885b8ef0da3",
   "metadata": {},
   "outputs": [],
   "source": [
    "// DBHandler\n",
    "    fun updateNote(id: Int, text: String, time: LocalTime, color: Int) {\n",
    "        val db = this.writableDatabase\n",
    "        val contentValues = ContentValues()\n",
    "        contentValues.apply {\n",
    "            put(COLUMN_ID, id)\n",
    "            put(COLUMN_TEXT, text)\n",
    "            put(COLUMN_TIME, time.toString())\n",
    "            put(COLUMN_COLOR, color)\n",
    "        }\n",
    "        db.update(\n",
    "            NOTES_TABLE,\n",
    "            contentValues,\n",
    "            \"$COLUMN_ID=$id\",\n",
    "            null\n",
    "        )\n",
    "        db.close()\n",
    "    }"
   ]
  },
  {
   "cell_type": "markdown",
   "id": "e177361a-b3f3-497a-83c0-e38e27b8f9fc",
   "metadata": {},
   "source": [
    "Wykonujemy metodę `updateNote` oraz dzięki zdefiniowanej akcji powracamy do listy notatek"
   ]
  },
  {
   "cell_type": "code",
   "execution_count": null,
   "id": "ca35ffb2-91b3-4435-ab62-19935cd5280e",
   "metadata": {},
   "outputs": [],
   "source": [
    "                    dbHandler.updateNote(\n",
    "                        noteId, \n",
    "                        text, \n",
    "                        LocalTime.of(\n",
    "                            binding.timePicker.hour, \n",
    "                            binding.timePicker.minute), \n",
    "                        color)\n",
    "                    val action = EditNoteFragmentDirections\n",
    "                        .actionEditNoteFragmentToNotesFragment()\n",
    "                    findNavController(view).navigate(action)"
   ]
  },
  {
   "cell_type": "markdown",
   "id": "e0c7327a-8ca0-4c70-bf4a-f43894975d45",
   "metadata": {},
   "source": [
    "Pełna metoda `onViewCreated`:"
   ]
  },
  {
   "cell_type": "code",
   "execution_count": null,
   "id": "d7fbc7d7-eec8-407d-adac-e93a4f5647e8",
   "metadata": {},
   "outputs": [],
   "source": [
    "    override fun onViewCreated(view: View, savedInstanceState: Bundle?) {\n",
    "        super.onViewCreated(view, savedInstanceState)\n",
    "\n",
    "        binding.timePicker.setIs24HourView(true)\n",
    "        val note: NoteModel = dbHandler.getNote(noteId)\n",
    "        binding.apply {\n",
    "            textEditText.setText(note.textNote)\n",
    "            timePicker.hour = note.time.hour\n",
    "            timePicker.minute = note.time.minute\n",
    "            checked.isChecked = note.color == Color.CYAN\n",
    "            saveButton.setOnClickListener {\n",
    "                val text: String = binding.textEditText.text.toString()\n",
    "                if (text.isEmpty()) \n",
    "                    Toast.makeText(context, \"Podaj tekst\", Toast.LENGTH_SHORT)\n",
    "                    .show()\n",
    "                else {\n",
    "                    var color = Color.BLACK\n",
    "                    if (binding.checked.isChecked) color = Color.CYAN\n",
    "                    dbHandler.updateNote(\n",
    "                        noteId, \n",
    "                        text, \n",
    "                        LocalTime.of(\n",
    "                            binding.timePicker.hour, \n",
    "                            binding.timePicker.minute), \n",
    "                        color)\n",
    "                    val action = EditNoteFragmentDirections\n",
    "                        .actionEditNoteFragmentToNotesFragment()\n",
    "                    findNavController(view).navigate(action)\n",
    "                }\n",
    "            }\n",
    "        }\n",
    "    }"
   ]
  },
  {
   "cell_type": "markdown",
   "id": "83fe59f4-8159-4a0e-980a-ef4b7b6dde95",
   "metadata": {},
   "source": [
    "### **Dodanie nowej notatki**"
   ]
  },
  {
   "cell_type": "markdown",
   "id": "bf1def46-dab9-422b-9bf1-eed91c7ca2bd",
   "metadata": {},
   "source": [
    "Ostatnim elementem będzie dodanie nowej notatki we fragmencie `AddNoteFragment`, rozpocznijmy od layoutu,"
   ]
  },
  {
   "cell_type": "code",
   "execution_count": null,
   "id": "f75b59e1-ec41-410b-b6df-99c841a75e12",
   "metadata": {},
   "outputs": [],
   "source": [
    "<?xml version=\"1.0\" encoding=\"utf-8\"?>\n",
    "<LinearLayout xmlns:android=\"http://schemas.android.com/apk/res/android\"\n",
    "    xmlns:tools=\"http://schemas.android.com/tools\"\n",
    "    android:layout_width=\"match_parent\"\n",
    "    android:layout_height=\"match_parent\"\n",
    "    android:orientation=\"vertical\"\n",
    "    android:layout_margin=\"12dp\"\n",
    "    tools:context=\".fragments.AddNoteFragment\">\n",
    "\n",
    "    <TextView\n",
    "        android:layout_width=\"match_parent\"\n",
    "        android:layout_height=\"wrap_content\"\n",
    "        android:text=\"ustaw czas zakończenia\"\n",
    "        android:textSize=\"24sp\"\n",
    "        android:gravity=\"center_horizontal\"/>\n",
    "\n",
    "    <TimePicker\n",
    "        android:id=\"@+id/timePicker\"\n",
    "        android:layout_width=\"wrap_content\"\n",
    "        android:layout_height=\"wrap_content\"\n",
    "        android:layout_gravity=\"center_horizontal\"\n",
    "        android:timePickerMode=\"clock\"/>\n",
    "\n",
    "    <EditText\n",
    "        android:id=\"@+id/textEditText\"\n",
    "        android:layout_width=\"match_parent\"\n",
    "        android:layout_height=\"wrap_content\"\n",
    "        android:textSize=\"24sp\"\n",
    "        android:layout_marginTop=\"12dp\"\n",
    "        android:autofillHints=\"hints\"\n",
    "        android:inputType=\"textLongMessage\"\n",
    "        android:hint=\"tekst notatki\"/>\n",
    "\n",
    "    <Button\n",
    "        android:id=\"@+id/saveButton\"\n",
    "        android:layout_width=\"match_parent\"\n",
    "        android:layout_height=\"wrap_content\"\n",
    "        android:layout_marginStart=\"24dp\"\n",
    "        android:layout_marginEnd=\"24dp\"\n",
    "        android:text=\"zapisz\"\n",
    "        android:textSize=\"18sp\"/>\n",
    "\n",
    "</LinearLayout>"
   ]
  },
  {
   "cell_type": "markdown",
   "id": "a6f79f4c-a081-469a-8690-0cc0ce3410b1",
   "metadata": {},
   "source": [
    "Sama klasa jest podobna do `EditNoteFragment` z tą różnicą, że nie musimy odczytywać danych z bazy, oraz tutaj nie używamy `CheckBox`"
   ]
  },
  {
   "cell_type": "code",
   "execution_count": null,
   "id": "f1a081ba-3658-417d-8102-e5956d7247b7",
   "metadata": {},
   "outputs": [],
   "source": [
    "class AddNoteFragment : Fragment() {\n",
    "    private lateinit var binding: FragmentAddNoteFragmentBinding\n",
    "    private val dbHandler: DBHandler by lazy { DBHandler(requireContext()) }\n",
    "\n",
    "    override fun onCreateView(\n",
    "        inflater: LayoutInflater, container: ViewGroup?,\n",
    "        savedInstanceState: Bundle?\n",
    "    ): View {\n",
    "        binding = FragmentAddNoteFragmentBinding.inflate(layoutInflater)\n",
    "        return binding.root\n",
    "    }\n",
    "\n",
    "    override fun onViewCreated(view: View, savedInstanceState: Bundle?) {\n",
    "        super.onViewCreated(view, savedInstanceState)\n",
    "        binding.timePicker.setIs24HourView(true)\n",
    "        binding.saveButton.setOnClickListener {\n",
    "            val text: String = binding.textEditText.text.toString()\n",
    "            if (text.isEmpty()) \n",
    "                Toast.makeText(context, \"Podaj tekst\", Toast.LENGTH_SHORT)\n",
    "                .show()\n",
    "            else\n",
    "                dbHandler.addNote(NoteModel(\n",
    "                    text,\n",
    "                    LocalTime.of(binding.timePicker.hour, binding.timePicker.minute))\n",
    "                )\n",
    "        }\n",
    "    }\n",
    "\n",
    "    override fun onDestroy() {\n",
    "        super.onDestroy()\n",
    "        dbHandler.close()\n",
    "    }\n",
    "}"
   ]
  },
  {
   "cell_type": "markdown",
   "id": "1d420c23-31b7-437e-aeb9-a7fafa8feda9",
   "metadata": {},
   "source": [
    "Możemy przetestować aplikację"
   ]
  },
  {
   "cell_type": "markdown",
   "id": "5ef21cd1-55f0-4fa2-8bd7-cf777e6a90e5",
   "metadata": {},
   "source": [
    "<table><tr><td><img src=\"https://media0.giphy.com/media/3Fy8K9fSojsxTMX0Tn/giphy.gif?cid=790b76118027642f3423b655d4e472d3c0fbd2efdad0b809&rid=giphy.gif&ct=g\" width=\"150\" /></td><td><img src=\"https://media2.giphy.com/media/7SbvK3HIMAjOqhIMnr/giphy.gif?cid=790b7611f664ff3f0186d201e611c3da83b0271fa4f06023&rid=giphy.gif&ct=g\" width=\"150\" /></td><td><img src=\"https://media2.giphy.com/media/QgsbpUcPcEkPP54ybL/giphy.gif?cid=790b76114c1fb8674be1e51f0e46805e2b6c3bae5f14212c&rid=giphy.gif&ct=g\" width=\"150\" /></td></tr></table>"
   ]
  }
 ],
 "metadata": {
  "kernelspec": {
   "display_name": "Kotlin",
   "language": "kotlin",
   "name": "kotlin"
  },
  "language_info": {
   "codemirror_mode": "text/x-kotlin",
   "file_extension": ".kt",
   "mimetype": "text/x-kotlin",
   "name": "kotlin",
   "nbconvert_exporter": "",
   "pygments_lexer": "kotlin",
   "version": "1.6.20-dev-6372"
  }
 },
 "nbformat": 4,
 "nbformat_minor": 5
}
