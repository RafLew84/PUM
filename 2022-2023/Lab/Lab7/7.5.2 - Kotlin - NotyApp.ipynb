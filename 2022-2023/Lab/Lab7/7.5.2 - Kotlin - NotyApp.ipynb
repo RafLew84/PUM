{
 "cells": [
  {
   "cell_type": "markdown",
   "id": "4402bfb3-12f9-429a-9379-dcd434663ee7",
   "metadata": {},
   "source": [
    "## 7.5 NotyApp"
   ]
  },
  {
   "cell_type": "markdown",
   "id": "8d079b37-99eb-4e80-be38-f0fce817ff1e",
   "metadata": {},
   "source": [
    "Aplikacja będzie zawierać prostą listę notatek/zadań zapisaną w bazie danych `SQLite`. Lista będzie dostępna z poziomu `Widget` jak i w samej aplikacji. Przyjrzymy się jak zaimplemntować podstawowe elementy komunikacji między widgetem a naszą aplikacją, oraz jak aktualizować dane wyświetlane w `ListView` na `Widget`."
   ]
  },
  {
   "cell_type": "code",
   "execution_count": null,
   "id": "64b5a362-d5bf-4eb1-9aac-e1fa37ef04c2",
   "metadata": {},
   "outputs": [],
   "source": []
  },
  {
   "cell_type": "markdown",
   "id": "b3528a7d-2223-41d0-9a50-fabef020c1f8",
   "metadata": {},
   "source": [
    "### **Layout**"
   ]
  },
  {
   "cell_type": "markdown",
   "id": "b240293c-760a-4362-a593-a9607e5de829",
   "metadata": {},
   "source": [
    "Rozpocznijmy od utworzenia layoutów dla samego widgetu oraz dla pojedynczego elementu `ListView` (podobnie jak w `RecyclerView`). Layout widgetu będzie składał się z samego `ListView` oraz pola `TextView`, które będzie wyświetlane gdy lista jest pusta"
   ]
  },
  {
   "cell_type": "code",
   "execution_count": null,
   "id": "63dd92f2-c50e-47ab-aa44-c36992c37cd3",
   "metadata": {},
   "outputs": [],
   "source": [
    "// noty_widget_provider.xml\n",
    "<RelativeLayout xmlns:android=\"http://schemas.android.com/apk/res/android\"\n",
    "    style=\"@style/Widget.NotyJava.AppWidget.Container\"\n",
    "    android:layout_width=\"match_parent\"\n",
    "    android:layout_height=\"match_parent\"\n",
    "    android:theme=\"@style/Theme.NotyJava.AppWidgetContainer\">\n",
    "\n",
    "    <ListView\n",
    "        android:id=\"@+id/listViewWidget\"\n",
    "        android:layout_width=\"match_parent\"\n",
    "        android:layout_height=\"match_parent\"/>\n",
    "\n",
    "    <TextView\n",
    "        android:id=\"@+id/emptyViewTextView\"\n",
    "        android:layout_width=\"match_parent\"\n",
    "        android:layout_height=\"match_parent\"\n",
    "        android:textSize=\"20sp\"\n",
    "        android:text=\"lista jest pusta\"/>\n",
    "</RelativeLayout>"
   ]
  },
  {
   "cell_type": "markdown",
   "id": "cb5ee250-8c06-4455-a91a-b81729c7a1b3",
   "metadata": {},
   "source": [
    "Następnie dodajmy layout pojedynczego elementu listy - wstępnie będzie to tylko pole `TextView`"
   ]
  },
  {
   "cell_type": "code",
   "execution_count": null,
   "id": "9f76868f-9a00-4e8c-9461-9e2d5b40ec70",
   "metadata": {},
   "outputs": [],
   "source": [
    "// item_view.xml\n",
    "<RelativeLayout xmlns:android=\"http://schemas.android.com/apk/res/android\"\n",
    "    android:layout_width=\"match_parent\"\n",
    "    android:layout_height=\"wrap_content\">\n",
    "\n",
    "    <TextView\n",
    "        android:id=\"@+id/itemListTextView\"\n",
    "        android:layout_width=\"match_parent\"\n",
    "        android:layout_height=\"110dp\"\n",
    "        android:gravity=\"center\"\n",
    "        android:text=\"przykład długiego tekstu\"\n",
    "        android:background=\"@color/teal_200\"\n",
    "        android:textColor=\"@color/black\"/>\n",
    "\n",
    "</RelativeLayout>"
   ]
  },
  {
   "cell_type": "markdown",
   "id": "98ff7db9-876f-4612-8dd4-3f85c191a6da",
   "metadata": {},
   "source": [
    "Dodajmy opis widgetu do katalogu `xml`"
   ]
  },
  {
   "cell_type": "code",
   "execution_count": null,
   "id": "62756ba5-96db-45aa-94cb-f7a6e429adf5",
   "metadata": {},
   "outputs": [],
   "source": [
    "// noty_widget_provider_info.xml\n",
    "<appwidget-provider xmlns:android=\"http://schemas.android.com/apk/res/android\"\n",
    "    android:initialLayout=\"@layout/noty_widget_provider\"\n",
    "    android:minHeight=\"110dp\"\n",
    "    android:minResizeHeight=\"40dp\"\n",
    "    android:minWidth=\"110dp\"\n",
    "    android:resizeMode=\"vertical|horizontal\"\n",
    "    android:updatePeriodMillis=\"36000000\"\n",
    "    android:widgetCategory=\"home_screen\" />"
   ]
  },
  {
   "cell_type": "markdown",
   "id": "47e765e3-60e8-4653-bf85-1827a669cbea",
   "metadata": {},
   "source": [
    "Wstępnie dane będziemy pobierać (jak zwykle) z `DataProvider`"
   ]
  },
  {
   "cell_type": "code",
   "execution_count": null,
   "id": "c527f1a9-8637-4fa8-ab4c-b10fbb9d0ce0",
   "metadata": {},
   "outputs": [],
   "source": [
    "object DataProvider {\n",
    "    val dummyData = listOf(\n",
    "        \"notatka 1\", \n",
    "        \"notatka 2\", \n",
    "        \"notatka 3\", \n",
    "        \"notatka 4\", \n",
    "        \"notatka 5\", \n",
    "        \"notatka 6\", \n",
    "        \"notatka 7\", \n",
    "        \"notatka 8\", \n",
    "        \"notatka 9\")\n",
    "}"
   ]
  },
  {
   "cell_type": "markdown",
   "id": "620b7983-f014-4501-a14f-321aabf1b114",
   "metadata": {},
   "source": [
    "### **RemoteViewsService**"
   ]
  },
  {
   "cell_type": "markdown",
   "id": "9cc56c62-1115-484f-8989-9658df027ab6",
   "metadata": {},
   "source": [
    "Rozpoczniemy od implementacji odpowiedniej usługi - jest ona niezbędna ponieważ widget działa na kompletnie innym procesie i nie możemy się komunikować wprost. Klasa `RemoteViewsService` jest usługą, z którą widgety będą się łączyć aby adapter mógł otrzymać instancje `RemoteViews`"
   ]
  },
  {
   "cell_type": "code",
   "execution_count": null,
   "id": "20daa049-f695-4972-8aaf-f5d6374e6537",
   "metadata": {},
   "outputs": [],
   "source": [
    "class NotyWidgetService : RemoteViewsService() {\n",
    "    override fun onGetViewFactory(intent: Intent): RemoteViewsFactory {\n",
    "        return null\n",
    "    }"
   ]
  },
  {
   "cell_type": "markdown",
   "id": "606f68ee-9aab-41f7-ae76-64489aa8de50",
   "metadata": {},
   "source": [
    "Musimy zaimplementować jedną metodę `onGetViewFactory`, która zwraca obiekt dostarczający dane. W tym celu zaimplementujemy klasę implementującą interfejs `RemoteViewsFactory` zawierającą szerego niezbędnych metod\n",
    "- `onCreate` - tutaj łączymy się z bazą danych, wywoływana zaraz po konstruktorze\n",
    "- `onDataSetChanged` - wywoływana gdy adapter wywołuje `notifyDataSetChanged`\n",
    "- `onDestroy` - wywoływana w momencie usunięcia powiązania z ostatnim adapterem\n",
    "- `getCount` - zwraca liczbę elementów w kolekcji\n",
    "- `getViewAt` - zwraca obiekt `View` powiązany z daną pozycją\n",
    "- `getLoadingView` - zezwala na załączenie własnego `View` dla ekranu ładowania\n",
    "- `getViewTypeCount` - zwraca liczbę **różnych** typów `View` wykorzystywanych przez adapter - w tym przykładzie będziemy wykorzystywać jeden typ\n",
    "- `getItemId` - zwraca identyfikator - tutaj będzie to odpowiednikiem rzędu na liście\n",
    "- `hasStableIds` - określa czy identyfikatory pozostają niezmienne przy zmianie powiązanych z nim danych"
   ]
  },
  {
   "cell_type": "code",
   "execution_count": null,
   "id": "3811023c-21bd-488e-9746-71736ea411d6",
   "metadata": {},
   "outputs": [],
   "source": [
    "class NotyWidgetItemFactory() : RemoteViewsFactory {\n",
    "    override fun onCreate() {}\n",
    "\n",
    "    override fun onDataSetChanged() {}\n",
    "    override fun onDestroy() {}\n",
    "\n",
    "    override fun getCount(): Int {}\n",
    "\n",
    "    override fun getViewAt(position: Int): RemoteViews {}\n",
    "\n",
    "    override fun getLoadingView(): RemoteViews? {}\n",
    "\n",
    "    override fun getViewTypeCount(): Int {}\n",
    "\n",
    "    override fun getItemId(position: Int): Long {}\n",
    "\n",
    "    override fun hasStableIds(): Boolean {}\n",
    "}"
   ]
  },
  {
   "cell_type": "markdown",
   "id": "eb6d59bc-e79c-4a27-9e8d-e24330c1523b",
   "metadata": {},
   "source": [
    "Rozpocznijmy od dodania i inicjalizacji kilku pól"
   ]
  },
  {
   "cell_type": "code",
   "execution_count": null,
   "id": "b73c1aec-1d00-45af-b93e-1acfa9e541a0",
   "metadata": {},
   "outputs": [],
   "source": [
    "class NotyWidgetItemFactory(private val context: Context, intent: Intent) :\n",
    "    RemoteViewsFactory {\n",
    "    private val appWidgetId: Int\n",
    "    private lateinit var noteList: List<String>\n",
    "        \n",
    "    init {\n",
    "            appWidgetId = intent.getIntExtra(\n",
    "                AppWidgetManager.EXTRA_APPWIDGET_ID,\n",
    "                AppWidgetManager.INVALID_APPWIDGET_ID)\n",
    "        }  \n",
    "    }"
   ]
  },
  {
   "cell_type": "markdown",
   "id": "a1c30589-bbb6-4203-8e65-f7ac1bf4eea9",
   "metadata": {},
   "source": [
    "- W metodzie `onCreate` zainicjujemy listę notatek - w pierwszej fazie będzie to lista z klasy `DataProvider`"
   ]
  },
  {
   "cell_type": "code",
   "execution_count": null,
   "id": "5cf20658-196c-48ad-8575-535cce43fdb0",
   "metadata": {},
   "outputs": [],
   "source": [
    "override fun onCreate() {\n",
    "    // otworz baze danych\n",
    "    noteList = DataProvider.dummyData\n",
    "}"
   ]
  },
  {
   "cell_type": "markdown",
   "id": "0dced8fd-cffe-4fc2-9c31-fc2ae1ead8c1",
   "metadata": {},
   "source": [
    "- `getCount` zwraca wielkość listy"
   ]
  },
  {
   "cell_type": "code",
   "execution_count": null,
   "id": "851d1ee9-6e7b-49ec-9ae6-5313e169598c",
   "metadata": {},
   "outputs": [],
   "source": [
    "override fun getCount(): Int = noteList.size"
   ]
  },
  {
   "cell_type": "markdown",
   "id": "f4edab06-3005-439c-b8b5-1e7a9e1c04e7",
   "metadata": {},
   "source": [
    "- W tym przykładzie będziemy wykorzystywać z domyślnego widoku ładowania, więc metoda zwraca `null`"
   ]
  },
  {
   "cell_type": "code",
   "execution_count": null,
   "id": "45fcab27-6cac-4190-b809-ddb1eac1422a",
   "metadata": {},
   "outputs": [],
   "source": [
    "override fun getLoadingView(): RemoteViews? {\n",
    "    return null\n",
    "}"
   ]
  },
  {
   "cell_type": "markdown",
   "id": "2393660e-8166-404b-b41b-a09f5d6d1f47",
   "metadata": {},
   "source": [
    "- Posiadamy jeden typ `View`, więc zwracamy `1`"
   ]
  },
  {
   "cell_type": "code",
   "execution_count": null,
   "id": "991eb243-e0b5-44c3-8839-142ebfd4983a",
   "metadata": {},
   "outputs": [],
   "source": [
    "override fun getViewTypeCount(): Int = 1"
   ]
  },
  {
   "cell_type": "markdown",
   "id": "5ff5858c-c1d8-46fe-aed3-2ad4b5ba7061",
   "metadata": {},
   "source": [
    "- ponieważ w pierwszej fazie będziemy korzystać tylko z listy, posłużymy się pozycją jako identyfikatorem"
   ]
  },
  {
   "cell_type": "code",
   "execution_count": null,
   "id": "5d5ecc86-2a12-4671-9746-fe854adc69c3",
   "metadata": {},
   "outputs": [],
   "source": [
    "override fun getItemId(position: Int): Long = position.toLong()"
   ]
  },
  {
   "cell_type": "markdown",
   "id": "2350b4e3-2e7b-4c88-ba02-ed2920fbe15e",
   "metadata": {},
   "source": [
    "- nasza kolekcja w tej chwili posiada stabilne `id`"
   ]
  },
  {
   "cell_type": "code",
   "execution_count": null,
   "id": "cde9a76b-d6ec-4ad4-94d5-f0b04baddfa5",
   "metadata": {},
   "outputs": [],
   "source": [
    "override fun hasStableIds(): Boolean = true"
   ]
  },
  {
   "cell_type": "markdown",
   "id": "0c03965e-ea0c-47ab-a251-d06386f4db71",
   "metadata": {},
   "source": [
    "- w metodzie `getViewAt` zwracamy odpowiedni obiekt"
   ]
  },
  {
   "cell_type": "code",
   "execution_count": null,
   "id": "7c3d28e9-08c2-474e-ab7d-17f5f07a2a70",
   "metadata": {},
   "outputs": [],
   "source": [
    "override fun getViewAt(position: Int): RemoteViews {\n",
    "    val remoteViews = RemoteViews(context.packageName, R.layout.item_list)\n",
    "    remoteViews.setTextViewText(R.id.itemListTextView, noteList[position])\n",
    "    return remoteViews\n",
    "}"
   ]
  },
  {
   "cell_type": "markdown",
   "id": "3c2ec996-b7d2-4f94-931b-84fdb197a160",
   "metadata": {},
   "source": [
    "Powracamy do klasy `NotyWidgetService` i w metodzie `onGetViewFactory` zwracamy instancję `NotyWidgetItemFactory`"
   ]
  },
  {
   "cell_type": "code",
   "execution_count": null,
   "id": "0dcdec2b-2b42-43f7-81ef-20556ddea93f",
   "metadata": {},
   "outputs": [],
   "source": [
    "class NotyWidgetService : RemoteViewsService() {\n",
    "    override fun onGetViewFactory(intent: Intent): RemoteViewsFactory {\n",
    "        return NotyWidgetItemFactory(applicationContext, intent)\n",
    "    }\n",
    "    ...\n",
    "}"
   ]
  },
  {
   "cell_type": "markdown",
   "id": "d11edbf0-553b-4da5-8ec9-97febde18a95",
   "metadata": {},
   "source": [
    "### **AppWidgetProvider**"
   ]
  },
  {
   "cell_type": "markdown",
   "id": "84020fe9-d2ed-4495-8f2a-3ecddd47a4b7",
   "metadata": {},
   "source": [
    "Drugim niezbędnym elementem będzie `AppWidgetProvider`"
   ]
  },
  {
   "cell_type": "code",
   "execution_count": null,
   "id": "eac7bfb0-9211-4a0b-98c7-dcd210754ea1",
   "metadata": {},
   "outputs": [],
   "source": [
    "class NotyWidgetProvider : AppWidgetProvider() {\n",
    "    override fun onUpdate(\n",
    "        context: Context,\n",
    "        appWidgetManager: AppWidgetManager,\n",
    "        appWidgetIds: IntArray\n",
    "    ) {}"
   ]
  },
  {
   "cell_type": "markdown",
   "id": "22fed887-b3f2-4051-a6cf-9a42dd3b59df",
   "metadata": {},
   "source": [
    "W metodzie `onUpdate` przechodzimy przez wszystkie instancje naszego widgetu"
   ]
  },
  {
   "cell_type": "code",
   "execution_count": null,
   "id": "dc958fd2-7365-465c-9836-95e7b457c3a2",
   "metadata": {},
   "outputs": [],
   "source": [
    "for (appWidgetId in appWidgetIds) {"
   ]
  },
  {
   "cell_type": "markdown",
   "id": "bbba1229-75ed-4a7a-af06-6b887a091c6f",
   "metadata": {},
   "source": [
    "Tworzymy nowy `Intent` przekierowujący do usługi"
   ]
  },
  {
   "cell_type": "code",
   "execution_count": null,
   "id": "18c655de-d2c4-4724-8083-40cf3b3516a8",
   "metadata": {},
   "outputs": [],
   "source": [
    "    val serviceIntent = Intent(context, NotyWidgetService::class.java)"
   ]
  },
  {
   "cell_type": "markdown",
   "id": "95b96708-6493-4a7f-abed-5ddf0471c434",
   "metadata": {},
   "source": [
    "następnie dodajmy `id` widgetu oraz wykorzystujemy metodę `setData` - metoda ta wskazuje lokalizację obiektu (przykładowo może być to plik)"
   ]
  },
  {
   "cell_type": "code",
   "execution_count": null,
   "id": "df96fa08-5f69-42d5-9584-35751120c6a0",
   "metadata": {},
   "outputs": [],
   "source": [
    "    serviceIntent.apply {\n",
    "        putExtra(AppWidgetManager.EXTRA_APPWIDGET_ID, appWidgetId)\n",
    "        data = Uri.parse(serviceIntent.toUri(Intent.URI_INTENT_SCHEME))\n",
    "    }"
   ]
  },
  {
   "cell_type": "markdown",
   "id": "37316973-295d-4c37-9915-60b4c81f78d3",
   "metadata": {},
   "source": [
    "Tworzymy nasze `RemoteViews`"
   ]
  },
  {
   "cell_type": "code",
   "execution_count": null,
   "id": "c6fe41cb-c1a0-48e4-bab1-f3abd9c2aadf",
   "metadata": {},
   "outputs": [],
   "source": [
    "    val views = RemoteViews(context.packageName, R.layout.noty_widget_provider)"
   ]
  },
  {
   "cell_type": "markdown",
   "id": "63120aa7-d299-44bb-8729-8142bb26e204",
   "metadata": {},
   "source": [
    "ustawiamy adapter i widok dla pustej kolekcji"
   ]
  },
  {
   "cell_type": "code",
   "execution_count": null,
   "id": "4181049d-057a-4c78-9d50-74ea288c5ba9",
   "metadata": {},
   "outputs": [],
   "source": [
    "    views.apply {\n",
    "        setRemoteAdapter(R.id.listViewWidget, serviceIntent)\n",
    "        setEmptyView(R.id.listViewWidget, R.id.emptyViewTextView)\n",
    "    }"
   ]
  },
  {
   "cell_type": "markdown",
   "id": "e0dfb2b1-eccc-46f4-9441-fbca8d5a83ee",
   "metadata": {},
   "source": [
    "na koniec wywołujemy metodę `updateAppWidget`"
   ]
  },
  {
   "cell_type": "code",
   "execution_count": null,
   "id": "555b82ee-7dc0-4086-8d6a-e22706aae620",
   "metadata": {},
   "outputs": [],
   "source": [
    "    appWidgetManager.updateAppWidget(appWidgetId, views)"
   ]
  },
  {
   "cell_type": "markdown",
   "id": "440583fe-4903-4ee4-8d6e-5c7b33d06f08",
   "metadata": {},
   "source": [
    "Po wyjściu z pętli `for` wywołujemy metodę superklasy"
   ]
  },
  {
   "cell_type": "code",
   "execution_count": null,
   "id": "0435600d-1820-4aff-9198-9397ce1e86c9",
   "metadata": {},
   "outputs": [],
   "source": [
    "    }\n",
    "super.onUpdate(context, appWidgetManager, appWidgetIds)"
   ]
  },
  {
   "cell_type": "markdown",
   "id": "8fcd6868-9321-4ee8-99d1-13218eccb087",
   "metadata": {},
   "source": [
    "Pełny kod klasy `NotyWidgetProvider`"
   ]
  },
  {
   "cell_type": "code",
   "execution_count": null,
   "id": "57a6b371-dfca-4601-967b-6ef8bf2ce66b",
   "metadata": {},
   "outputs": [],
   "source": [
    "class NotyWidgetProvider : AppWidgetProvider() {\n",
    "    override fun onUpdate(\n",
    "        context: Context,\n",
    "        appWidgetManager: AppWidgetManager,\n",
    "        appWidgetIds: IntArray\n",
    "    ) {\n",
    "        for (appWidgetId in appWidgetIds) {\n",
    "            val serviceIntent = Intent(context, NotyWidgetService::class.java)\n",
    "            serviceIntent.apply {\n",
    "                putExtra(AppWidgetManager.EXTRA_APPWIDGET_ID, appWidgetId)\n",
    "                data = Uri.parse(serviceIntent.toUri(Intent.URI_INTENT_SCHEME))\n",
    "            }\n",
    "            val views = RemoteViews(context.packageName, R.layout.noty_widget_provider)\n",
    "            views.apply {\n",
    "                setRemoteAdapter(R.id.listViewWidget, serviceIntent)\n",
    "                setEmptyView(R.id.listViewWidget, R.id.emptyViewTextView)\n",
    "            }\n",
    "            appWidgetManager.updateAppWidget(appWidgetId, views)\n",
    "        }\n",
    "        super.onUpdate(context, appWidgetManager, appWidgetIds)\n",
    "    }\n",
    "}"
   ]
  },
  {
   "cell_type": "markdown",
   "id": "6e39c073-a66e-4640-a5d8-988a551da8ba",
   "metadata": {},
   "source": [
    "Do `AndroidManifest` musimy wprowadzić informacje o naszym providerze oraz service."
   ]
  },
  {
   "cell_type": "code",
   "execution_count": null,
   "id": "c6c98868-c9b5-4e99-b017-b2b1243bbe27",
   "metadata": {},
   "outputs": [],
   "source": [
    "<receiver\n",
    "    android:name=\".provider.NotyWidgetProvider\"\n",
    "    android:exported=\"false\">\n",
    "    <intent-filter>\n",
    "        <action android:name=\"android.appwidget.action.APPWIDGET_UPDATE\" />\n",
    "    </intent-filter>\n",
    "\n",
    "    <meta-data\n",
    "        android:name=\"android.appwidget.provider\"\n",
    "        android:resource=\"@xml/noty_widget_provider_info\" />\n",
    "</receiver>\n",
    "\n",
    "<service\n",
    "    android:name=\".service.NotyWidgetService\"\n",
    "    android:permission=\"android.permission.BIND_REMOTEVIEWS\" />"
   ]
  },
  {
   "cell_type": "markdown",
   "id": "a15f98cd-7fd3-4bc6-9354-902e8de98268",
   "metadata": {},
   "source": [
    "Możemy przetestować aplikację i widget."
   ]
  },
  {
   "cell_type": "markdown",
   "id": "a0900ef9-45ef-4c95-a2f3-52935a5f1b37",
   "metadata": {},
   "source": [
    "<table><tr><td><img src=\"https://media2.giphy.com/media/U0lFKx7L0xtZHrpaLQ/giphy.gif?cid=790b76119fc11ce6d16c4ba7009680f1447b35e164c8012a&rid=giphy.gif&ct=g\" width=\"150\" /></td><td><img src=\"https://media2.giphy.com/media/1BNcJ99feU4EosbU19/giphy.gif?cid=790b76117e6f80ef480e50e651e2e981d067cfeb27c6e32c&rid=giphy.gif&ct=g\" width=\"150\" /></td</tr></table>"
   ]
  }
 ],
 "metadata": {
  "kernelspec": {
   "display_name": "Kotlin",
   "language": "kotlin",
   "name": "kotlin"
  },
  "language_info": {
   "codemirror_mode": "text/x-kotlin",
   "file_extension": ".kt",
   "mimetype": "text/x-kotlin",
   "name": "kotlin",
   "nbconvert_exporter": "",
   "pygments_lexer": "kotlin",
   "version": "1.6.20-dev-6372"
  }
 },
 "nbformat": 4,
 "nbformat_minor": 5
}
