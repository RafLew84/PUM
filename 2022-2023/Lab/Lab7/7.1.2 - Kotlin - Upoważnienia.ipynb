{
 "cells": [
  {
   "cell_type": "markdown",
   "id": "7a319a44-3dc9-467c-bd16-baaee2f68b57",
   "metadata": {},
   "source": [
    "## 7.1 Upoważnienia - podstawy"
   ]
  },
  {
   "cell_type": "markdown",
   "id": "be2a0b81-0c8b-41ac-9c43-d8863b615cf1",
   "metadata": {},
   "source": [
    "W aplikacji poprosimy u dostęp do kamery - nie będziemy jeszcze z niej korzystać. Nie będziemy również wykorzystywać zewnętrznych bibliotek do zarządzania upoważnieniami. Tutaj posłużymy się tylko jedną aktywnością aby zobaczyć jak wyglądają podstawy i implementacja niezbędnych elementów.\n",
    "\n",
    "Jeżeli aplikacja wymaga wykorzystania elementów do których niezbędne jest upoważnienie musi zadeklarować to w `AndroidManifest.xml`"
   ]
  },
  {
   "cell_type": "code",
   "execution_count": null,
   "id": "834834c6-a25d-4bac-a1a8-4bb62d541a18",
   "metadata": {},
   "outputs": [],
   "source": [
    "<uses-permission android:name=\"android.permission.CAMERA\" />"
   ]
  },
  {
   "cell_type": "markdown",
   "id": "e0f7238d-a9b9-4cec-ab22-47d237aafbc4",
   "metadata": {},
   "source": [
    "Jeżeli pożądane upoważnienie jest zaliczane do niebezpiecznych wymagane jest uwierzytelnienie przez użytkownika. W tej aplikacji poprosimy o nadanie upoważnienia przez przycisk, więc zmodyfikujmy layout"
   ]
  },
  {
   "cell_type": "code",
   "execution_count": null,
   "id": "27772be1-07af-43c3-b879-9e7accad3a40",
   "metadata": {},
   "outputs": [],
   "source": [
    "<?xml version=\"1.0\" encoding=\"utf-8\"?>\n",
    "<androidx.constraintlayout.widget.ConstraintLayout \n",
    "xmlns:android=\"http://schemas.android.com/apk/res/android\"\n",
    "    xmlns:app=\"http://schemas.android.com/apk/res-auto\"\n",
    "    xmlns:tools=\"http://schemas.android.com/tools\"\n",
    "    android:layout_width=\"match_parent\"\n",
    "    android:layout_height=\"match_parent\"\n",
    "    tools:context=\".MainActivity\">\n",
    "\n",
    "    <Button\n",
    "        android:id=\"@+id/cameraButton\"\n",
    "        android:layout_width=\"wrap_content\"\n",
    "        android:layout_height=\"wrap_content\"\n",
    "        android:text=\"kamera\"\n",
    "        app:layout_constraintBottom_toBottomOf=\"parent\"\n",
    "        app:layout_constraintEnd_toEndOf=\"parent\"\n",
    "        app:layout_constraintStart_toStartOf=\"parent\"\n",
    "        app:layout_constraintTop_toTopOf=\"parent\" />\n",
    "\n",
    "</androidx.constraintlayout.widget.ConstraintLayout>"
   ]
  },
  {
   "cell_type": "markdown",
   "id": "b606c91c-20d0-41e4-a1d9-6bd91cd2c8f3",
   "metadata": {},
   "source": [
    "Pierwszym elementem będzie zdefiniowanie `registerForActivityResult` - tutaj tylko wykonamy proste logowanie odpowiedzi"
   ]
  },
  {
   "cell_type": "code",
   "execution_count": null,
   "id": "c7c1ffec-5cdc-40a2-9437-2560336ba653",
   "metadata": {},
   "outputs": [],
   "source": [
    "private val requestPermissionLauncher =\n",
    "    registerForActivityResult(\n",
    "        ActivityResultContracts.RequestPermission()\n",
    "    ) { isGranted: Boolean ->\n",
    "        if (isGranted) {\n",
    "            Log.i(\"Permission: \", \"Granted\")\n",
    "        } else {\n",
    "            Log.i(\"Permission: \", \"Denied\")\n",
    "        }\n",
    "    }"
   ]
  },
  {
   "cell_type": "markdown",
   "id": "d209311b-e3a1-44b8-a1af-fa6eb4f80526",
   "metadata": {},
   "source": [
    "Następnie przejdźmy do obsługi przycisku"
   ]
  },
  {
   "cell_type": "code",
   "execution_count": null,
   "id": "df1ab2e9-9dd5-4913-b88b-994c3df41067",
   "metadata": {},
   "outputs": [],
   "source": [
    "findViewById<Button>(R.id.cameraButton).setOnClickListener {}"
   ]
  },
  {
   "cell_type": "markdown",
   "id": "3fe18bc2-2aaa-4935-babc-9c78eb2fb6c1",
   "metadata": {},
   "source": [
    "Mamy trzy możliwości do obsłużenia\n",
    "- upoważnienie jest już nadane - wyświetlimy tylko prostą wiadomość"
   ]
  },
  {
   "cell_type": "code",
   "execution_count": null,
   "id": "e9843b78-0ce0-42bf-83a2-05d9f39f2869",
   "metadata": {},
   "outputs": [],
   "source": [
    "findViewById<Button>(R.id.cameraButton).setOnClickListener {\n",
    "    when {ContextCompat.checkSelfPermission(\n",
    "        this, Manifest.permission.CAMERA) ==\n",
    "        PackageManager.PERMISSION_GRANTED -> {\n",
    "            Toast.makeText(this, \"Upoważnienie nadane\", Toast.LENGTH_SHORT).show()\n",
    "        }"
   ]
  },
  {
   "cell_type": "markdown",
   "id": "0b2c9861-951f-4de9-8bab-804c9542ee0d",
   "metadata": {},
   "source": [
    "- upoważnienie zostało już odrzucone - tutaj możemy pokazać `Rationale`, czyli krótką informację dla użytkownika przedstawiającą konieczność nadania upoważnienia"
   ]
  },
  {
   "cell_type": "code",
   "execution_count": null,
   "id": "3d697bcb-a689-4535-aa12-3d51fd855b41",
   "metadata": {},
   "outputs": [],
   "source": [
    "ActivityCompat.shouldShowRequestPermissionRationale(\n",
    "                    this,\n",
    "                    Manifest.permission.CAMERA) -> {\n",
    "                        showMessageOKCancel(\"Wymagane upoważnienie\")\n",
    "                    }"
   ]
  },
  {
   "cell_type": "markdown",
   "id": "be5081b1-59d5-4dd7-be18-10c8007a2aae",
   "metadata": {},
   "source": [
    "Wiadomość wyświetlimy w formie `AlertDialog`, więc napiszmy metodę `showMessageOKCancel` - jeżeli użytkwnik naciśnie przycisk `OK` wyświetlamy ponownie prośbę o nadanie upoważnienia"
   ]
  },
  {
   "cell_type": "code",
   "execution_count": null,
   "id": "f69dcc73-fd3b-4420-bc71-c8d2cf8e88e4",
   "metadata": {},
   "outputs": [],
   "source": [
    "private fun showMessageOKCancel(message: String) {\n",
    "    AlertDialog.Builder(this@MainActivity)\n",
    "        .setMessage(message)\n",
    "        .setPositiveButton(\"OK\") { dialogInterface: DialogInterface, _: Int ->\n",
    "            requestPermissionLauncher.launch(Manifest.permission.CAMERA)\n",
    "            dialogInterface.dismiss()\n",
    "        }\n",
    "        .setNegativeButton(\"Cancel\", null)\n",
    "        .create()\n",
    "        .show()\n",
    "}"
   ]
  },
  {
   "cell_type": "markdown",
   "id": "09e8c0c0-641e-4f4f-a660-02e3ea356165",
   "metadata": {},
   "source": [
    "- upoważnienie nie jest nadane - tutaj wyśeitlamy odpowiedni dialog systemowy"
   ]
  },
  {
   "cell_type": "code",
   "execution_count": null,
   "id": "19c1218e-5480-4cc6-b7c1-ef700513919e",
   "metadata": {},
   "outputs": [],
   "source": [
    "else -> {requestPermissionLauncher.launch(Manifest.permission.CAMERA)}"
   ]
  },
  {
   "cell_type": "markdown",
   "id": "42d0331c-9384-46b7-83b7-5c75cccd893d",
   "metadata": {},
   "source": [
    "Możemy przetestować aplikację"
   ]
  },
  {
   "cell_type": "markdown",
   "id": "742cf3fc-f2c2-461f-9070-fa539d5b75ad",
   "metadata": {},
   "source": [
    "<img src=\"https://media4.giphy.com/media/VQjGu7ODaLLGmoe2FV/giphy.gif?cid=790b76110edd5cb95bc2f985617c813559c9d235ae6dafcd&rid=giphy.gif&ct=g\" width=\"150\" />"
   ]
  }
 ],
 "metadata": {
  "kernelspec": {
   "display_name": "Kotlin",
   "language": "kotlin",
   "name": "kotlin"
  },
  "language_info": {
   "codemirror_mode": "text/x-kotlin",
   "file_extension": ".kt",
   "mimetype": "text/x-kotlin",
   "name": "kotlin",
   "nbconvert_exporter": "",
   "pygments_lexer": "kotlin",
   "version": "1.6.20-dev-6372"
  }
 },
 "nbformat": 4,
 "nbformat_minor": 5
}
