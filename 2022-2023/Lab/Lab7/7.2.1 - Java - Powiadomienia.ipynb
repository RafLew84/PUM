{
 "cells": [
  {
   "cell_type": "markdown",
   "id": "4d8eb282-b8b0-4249-bc47-52c0cec84191",
   "metadata": {},
   "source": [
    "## 7.2 Powiadomienia - podstawy"
   ]
  },
  {
   "cell_type": "markdown",
   "id": "93db977c-2730-49ef-b822-7e1f7701a1fb",
   "metadata": {},
   "source": [
    "W tej aplikacji zaimplementujemy proste powiadomienie wysyłane po naciśnięciu przycisku. Rozpocznijmy od layoutu aktywności"
   ]
  },
  {
   "cell_type": "code",
   "execution_count": null,
   "id": "6223bf3f-8e00-499f-ba62-1f13b5474ab9",
   "metadata": {},
   "outputs": [],
   "source": [
    "<?xml version=\"1.0\" encoding=\"utf-8\"?>\n",
    "<RelativeLayout\n",
    "    xmlns:android=\"http://schemas.android.com/apk/res/android\"\n",
    "    xmlns:tools=\"http://schemas.android.com/tools\"\n",
    "    android:layout_width=\"match_parent\"\n",
    "    android:layout_height=\"match_parent\"\n",
    "    tools:context=\".MainActivity\">\n",
    "\n",
    "    <Button\n",
    "        android:id=\"@+id/button\"\n",
    "        android:layout_width=\"wrap_content\"\n",
    "        android:layout_height=\"wrap_content\"\n",
    "        android:layout_centerInParent=\"true\"\n",
    "        android:text=\"Powiadom\"\n",
    "        android:textSize=\"36sp\"/>\n",
    "\n",
    "</RelativeLayout>"
   ]
  },
  {
   "cell_type": "markdown",
   "id": "bce61e07-b099-4522-bc29-225f9396e51f",
   "metadata": {},
   "source": [
    "Będziemy potrzebować kilka stałych wartości\n",
    "- identyfikator kanału\n",
    "- nazwę kanału\n",
    "- identyfikator powiadomienia"
   ]
  },
  {
   "cell_type": "code",
   "execution_count": null,
   "id": "9ec0dddb-22aa-4e8a-acac-a89baa1ceb5f",
   "metadata": {},
   "outputs": [],
   "source": [
    "private final String channelID = \"channel_id\";\n",
    "private final String channelName = \"channel_name\";\n",
    "private final int notificationId = 1;"
   ]
  },
  {
   "cell_type": "markdown",
   "id": "431a73b4-4aa2-40cf-9fd0-5288ae8b0307",
   "metadata": {},
   "source": [
    "W metodzie `onCreate` dodajmy obsługę `onClick` przycisku w której wywołamy metodę `createNotification`"
   ]
  },
  {
   "cell_type": "markdown",
   "id": "03ca00f7-f740-4a5f-8bd9-865bef16437a",
   "metadata": {},
   "source": [
    "W metodzie zdefiniujmy dwie zmienne\n",
    "- `description` - zawierającą wymagany opis\n",
    "- `importance` - zawierającą informację o istotności powiadomienia"
   ]
  },
  {
   "cell_type": "code",
   "execution_count": null,
   "id": "8fe5865d-9b92-4495-9e93-82455e4a1e01",
   "metadata": {},
   "outputs": [],
   "source": [
    "private void createNotification() {\n",
    "    String description = \"powiadomienie\";\n",
    "    final int importance = NotificationManager.IMPORTANCE_DEFAULT;"
   ]
  },
  {
   "cell_type": "markdown",
   "id": "4249386e-838d-45b0-b387-6864ddf7f987",
   "metadata": {},
   "source": [
    "Następnie utwórzmy sam kanał i ustawmy opis"
   ]
  },
  {
   "cell_type": "code",
   "execution_count": null,
   "id": "bf7c9b48-b35c-4f13-b224-fc1da591b9a4",
   "metadata": {},
   "outputs": [],
   "source": [
    "    final NotificationChannel channel =\n",
    "            new NotificationChannel(channelID, channelName, importance);\n",
    "    channel.setDescription(description);"
   ]
  },
  {
   "cell_type": "markdown",
   "id": "b4a94bca-5518-4a6b-aa6a-cb2f74770e69",
   "metadata": {},
   "source": [
    "Kolejnym krokiem będzie dodanie kanału do `NotificationManager`"
   ]
  },
  {
   "cell_type": "code",
   "execution_count": null,
   "id": "923d2300-c02a-463d-b2fc-0de11da75da8",
   "metadata": {},
   "outputs": [],
   "source": [
    "    NotificationManager notificationManager =\n",
    "            getSystemService(NotificationManager.class);\n",
    "    notificationManager.createNotificationChannel(channel);"
   ]
  },
  {
   "cell_type": "markdown",
   "id": "2c998b41-63c2-4f12-9bb7-94b5f7ca139b",
   "metadata": {},
   "source": [
    "Gdy użytkownik kliknie na powiadomienie chcemy otworzyć naszą główną aktywność, w tym celu musimy utworzyć `Intent`"
   ]
  },
  {
   "cell_type": "code",
   "execution_count": null,
   "id": "5255c27e-5af8-4ebe-a5c6-f778a369aa0e",
   "metadata": {},
   "outputs": [],
   "source": [
    "    Intent intent = new Intent(this, MainActivity.class);"
   ]
  },
  {
   "cell_type": "markdown",
   "id": "9058145d-75e7-4c13-bf7f-d3c0a084cba0",
   "metadata": {},
   "source": [
    "Po naciśnięciu powiadomienia tutaj chcemy przejść na nową instancję `MainActivity` - musimy ustawić odpowiednie flagi\n",
    "- `FLAG_ACTIVITY_NEW_TASK` - aktywność zostanie ustawiona na tasku aktualnego stosu\n",
    "- `FLAG_ACTIVITY_CLEAR_TASK` - sprawia że task powiązany z tą aktywnością zostanie wyczyszczony przed startem aktywności"
   ]
  },
  {
   "cell_type": "code",
   "execution_count": null,
   "id": "0eab6cec-282f-478e-bb37-4804b3018173",
   "metadata": {},
   "outputs": [],
   "source": [
    "    intent.setFlags(Intent.FLAG_ACTIVITY_NEW_TASK | Intent.FLAG_ACTIVITY_CLEAR_TASK);"
   ]
  },
  {
   "cell_type": "markdown",
   "id": "ac6b595d-c693-4001-be24-a517bcb2b561",
   "metadata": {},
   "source": [
    "Kolejnym krokiem będzie utworzenie `PendingIntent` - zawiera opis intentu i wykonywanej przez niego akcji. Przyjmuje cztery argumenty\n",
    "- `context`\n",
    "- `requestCode` - unikalny kod dla tego intentu - tutaj ustawimy 0\n",
    "- `Intent`\n",
    "- `flags` - tutaj wykorzystamy `PendingIntent.FLAG_IMMUTABLE` - opisuje `PendingIntent` i jest wykorzystywana do jego identyfikacji"
   ]
  },
  {
   "cell_type": "code",
   "execution_count": null,
   "id": "1e98000a-b927-44c4-ba65-a78cdcadafc3",
   "metadata": {},
   "outputs": [],
   "source": [
    "    PendingIntent pendingIntent = \n",
    "        PendingIntent.getActivity(this, 0, intent, PendingIntent.FLAG_IMMUTABLE);"
   ]
  },
  {
   "cell_type": "markdown",
   "id": "3bc603e6-6245-452d-99d0-0dac86fa898a",
   "metadata": {},
   "source": [
    "Następnie tworzymy samo powiadomienie za pomocą klasy `NotificationCompat.Builder`"
   ]
  },
  {
   "cell_type": "code",
   "execution_count": null,
   "id": "436d90f5-e395-4978-b533-ada1c93d19eb",
   "metadata": {},
   "outputs": [],
   "source": [
    "    NotificationCompat.Builder builder = new NotificationCompat.Builder(this, channelID)\n",
    "            .setSmallIcon(R.drawable.ic_baseline_notifications_24)\n",
    "            .setContentTitle(\"Powiadomienie\")\n",
    "            .setContentText(\"Treść powiadomienia\")\n",
    "            .setStyle(\n",
    "                    new NotificationCompat.BigTextStyle()\n",
    "                            .bigText(\"Dalszy tekst powiadomienia\")\n",
    "            )\n",
    "            .setContentIntent(pendingIntent)\n",
    "            .setPriority(NotificationCompat.PRIORITY_DEFAULT);"
   ]
  },
  {
   "cell_type": "markdown",
   "id": "56e04860-55c0-4036-8707-9b9f76e1f98a",
   "metadata": {},
   "source": [
    "Aby powiadomienie pojawiło się na pasku statusu musimy wywołać metodę `notify` klasy `NotificationManagerCompat`"
   ]
  },
  {
   "cell_type": "code",
   "execution_count": null,
   "id": "a6b1feec-00dc-454f-b10c-f6492442efa5",
   "metadata": {},
   "outputs": [],
   "source": [
    "    NotificationManagerCompat notificationCompat = NotificationManagerCompat.from(this);\n",
    "    notificationCompat.notify(notificationId, builder.build());"
   ]
  },
  {
   "cell_type": "markdown",
   "id": "f9586ec8-a06f-46f7-a3c9-bb3ca449ffc3",
   "metadata": {},
   "source": [
    "Pełna metoda `createNotification`"
   ]
  },
  {
   "cell_type": "code",
   "execution_count": null,
   "id": "0003b408-614c-440d-9b7c-fb4b2e093a74",
   "metadata": {},
   "outputs": [],
   "source": [
    "private void createNotification() {\n",
    "    String description = \"powiadomienie\";\n",
    "    final int importance = NotificationManager.IMPORTANCE_DEFAULT;\n",
    "    final NotificationChannel channel =\n",
    "            new NotificationChannel(channelID, channelName, importance);\n",
    "    channel.setDescription(description);\n",
    "\n",
    "    NotificationManager notificationManager =\n",
    "            getSystemService(NotificationManager.class);\n",
    "    notificationManager.createNotificationChannel(channel);\n",
    "\n",
    "    Intent intent = new Intent(this, MainActivity.class);\n",
    "    intent.setFlags(Intent.FLAG_ACTIVITY_NEW_TASK | Intent.FLAG_ACTIVITY_CLEAR_TASK);\n",
    "    PendingIntent pendingIntent = \n",
    "        PendingIntent.getActivity(this, 0, intent, PendingIntent.FLAG_IMMUTABLE);\n",
    "\n",
    "    NotificationCompat.Builder builder = new NotificationCompat.Builder(this, channelID)\n",
    "            .setSmallIcon(R.drawable.ic_baseline_notifications_24)\n",
    "            .setContentTitle(\"Powiadomienie\")\n",
    "            .setContentText(\"Treść powiadomienia\")\n",
    "            .setStyle(\n",
    "                    new NotificationCompat.BigTextStyle()\n",
    "                            .bigText(\"Dalszy tekst powiadomienia\")\n",
    "            )\n",
    "            .setContentIntent(pendingIntent)\n",
    "            .setPriority(NotificationCompat.PRIORITY_DEFAULT);\n",
    "\n",
    "    NotificationManagerCompat notificationCompat = NotificationManagerCompat.from(this);\n",
    "    notificationCompat.notify(notificationId, builder.build());\n",
    "\n",
    "}"
   ]
  },
  {
   "cell_type": "markdown",
   "id": "66489c86-fb40-4dde-bc0f-bc7056fba4d3",
   "metadata": {},
   "source": [
    "Możemy przetestować aplikację"
   ]
  },
  {
   "cell_type": "markdown",
   "id": "ff033d81-9c47-46d3-be8b-236c23703fd2",
   "metadata": {},
   "source": [
    "<img src=\"https://media0.giphy.com/media/zJnliRZnVbCiSYKqDK/giphy.gif?cid=790b7611af1d10893a8a44e25b60c026eb6d131de379fcf3&rid=giphy.gif&ct=g\" width=\"150\" />"
   ]
  },
  {
   "cell_type": "code",
   "execution_count": null,
   "id": "28efb5eb-9f8e-4b4f-852e-68e1837341dc",
   "metadata": {},
   "outputs": [],
   "source": []
  }
 ],
 "metadata": {
  "kernelspec": {
   "display_name": "Java",
   "language": "java",
   "name": "java"
  },
  "language_info": {
   "codemirror_mode": "java",
   "file_extension": ".jshell",
   "mimetype": "text/x-java-source",
   "name": "Java",
   "pygments_lexer": "java",
   "version": "17+35-2724"
  }
 },
 "nbformat": 4,
 "nbformat_minor": 5
}
