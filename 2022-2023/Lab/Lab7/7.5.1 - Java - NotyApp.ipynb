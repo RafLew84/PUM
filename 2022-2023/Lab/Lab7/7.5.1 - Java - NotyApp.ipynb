{
 "cells": [
  {
   "cell_type": "markdown",
   "id": "a217452e-dcb8-4b01-8257-430e9d712b1c",
   "metadata": {},
   "source": [
    "## 7.5 NotyApp"
   ]
  },
  {
   "cell_type": "markdown",
   "id": "c65e31c7-8854-49a2-ba91-990416ecdea9",
   "metadata": {},
   "source": [
    "Aplikacja będzie zawierać prostą listę notatek/zadań zapisaną w bazie danych `SQLite`. Lista będzie dostępna z poziomu `Widget` jak i w samej aplikacji. Przyjrzymy się jak zaimplemntować podstawowe elementy komunikacji między widgetem a naszą aplikacją, oraz jak aktualizować dane wyświetlane w `ListView` na `Widget`."
   ]
  },
  {
   "cell_type": "code",
   "execution_count": null,
   "id": "b7cf9a30-19e1-46eb-8f9f-55af7a02f6a9",
   "metadata": {},
   "outputs": [],
   "source": []
  },
  {
   "cell_type": "markdown",
   "id": "c8fb25e0-bcb1-46f4-b206-b7cf7e83bc22",
   "metadata": {},
   "source": [
    "### **Layout**"
   ]
  },
  {
   "cell_type": "markdown",
   "id": "31fbf76e-217e-4106-9716-b6e56ea9bc72",
   "metadata": {},
   "source": [
    "Rozpocznijmy od utworzenia layoutów dla samego widgetu oraz dla pojedynczego elementu `ListView` (podobnie jak w `RecyclerView`). Layout widgetu będzie składał się z samego `ListView` oraz pola `TextView`, które będzie wyświetlane gdy lista jest pusta"
   ]
  },
  {
   "cell_type": "code",
   "execution_count": null,
   "id": "3a1591b8-7bdb-426b-8853-7ce778ca1589",
   "metadata": {},
   "outputs": [],
   "source": [
    "// noty_widget_provider.xml\n",
    "<RelativeLayout xmlns:android=\"http://schemas.android.com/apk/res/android\"\n",
    "    style=\"@style/Widget.NotyJava.AppWidget.Container\"\n",
    "    android:layout_width=\"match_parent\"\n",
    "    android:layout_height=\"match_parent\"\n",
    "    android:theme=\"@style/Theme.NotyJava.AppWidgetContainer\">\n",
    "\n",
    "    <ListView\n",
    "        android:id=\"@+id/listViewWidget\"\n",
    "        android:layout_width=\"match_parent\"\n",
    "        android:layout_height=\"match_parent\"/>\n",
    "\n",
    "    <TextView\n",
    "        android:id=\"@+id/emptyViewTextView\"\n",
    "        android:layout_width=\"match_parent\"\n",
    "        android:layout_height=\"match_parent\"\n",
    "        android:textSize=\"20sp\"\n",
    "        android:text=\"lista jest pusta\"/>\n",
    "</RelativeLayout>"
   ]
  },
  {
   "cell_type": "markdown",
   "id": "e973340e-c363-443b-a8a5-67febea64ff4",
   "metadata": {},
   "source": [
    "Następnie dodajmy layout pojedynczego elementu listy - wstępnie będzie to tylko pole `TextView`"
   ]
  },
  {
   "cell_type": "code",
   "execution_count": null,
   "id": "74f5e962-181c-4250-b39d-33a267fc3cca",
   "metadata": {},
   "outputs": [],
   "source": [
    "// item_view.xml\n",
    "<RelativeLayout xmlns:android=\"http://schemas.android.com/apk/res/android\"\n",
    "    android:layout_width=\"match_parent\"\n",
    "    android:layout_height=\"wrap_content\">\n",
    "\n",
    "    <TextView\n",
    "        android:id=\"@+id/itemListTextView\"\n",
    "        android:layout_width=\"match_parent\"\n",
    "        android:layout_height=\"110dp\"\n",
    "        android:gravity=\"center\"\n",
    "        android:text=\"przykład długiego tekstu\"\n",
    "        android:background=\"@color/teal_200\"\n",
    "        android:textColor=\"@color/black\"/>\n",
    "\n",
    "</RelativeLayout>"
   ]
  },
  {
   "cell_type": "markdown",
   "id": "2bb64117-db9e-4e40-a594-323223e98332",
   "metadata": {},
   "source": [
    "Dodajmy opis widgetu do katalogu `xml`"
   ]
  },
  {
   "cell_type": "code",
   "execution_count": null,
   "id": "bfc45141-ea6f-43da-b59e-3aa8a6018b3e",
   "metadata": {},
   "outputs": [],
   "source": [
    "// noty_widget_provider_info.xml\n",
    "<appwidget-provider xmlns:android=\"http://schemas.android.com/apk/res/android\"\n",
    "    android:initialLayout=\"@layout/noty_widget_provider\"\n",
    "    android:minHeight=\"110dp\"\n",
    "    android:minResizeHeight=\"40dp\"\n",
    "    android:minWidth=\"110dp\"\n",
    "    android:resizeMode=\"vertical|horizontal\"\n",
    "    android:updatePeriodMillis=\"36000000\"\n",
    "    android:widgetCategory=\"home_screen\" />"
   ]
  },
  {
   "cell_type": "markdown",
   "id": "812b0903-be7f-43bb-b6bb-137e63f3861a",
   "metadata": {},
   "source": [
    "Wstępnie dane będziemy pobierać (jak zwykle) z `DataProvider`"
   ]
  },
  {
   "cell_type": "code",
   "execution_count": null,
   "id": "4b3dd4a6-3bb8-42fb-b0c4-7ef2a061f06e",
   "metadata": {},
   "outputs": [],
   "source": [
    "public final class DataProvider {\n",
    "    private DataProvider(){}\n",
    "\n",
    "    public static final String[] data = {\n",
    "        \"notatka 1\", \n",
    "        \"notatka 2\", \n",
    "        \"notatka 3\", \n",
    "        \"notatka 4\", \n",
    "        \"notatka 5\", \n",
    "        \"notatka 6\", \n",
    "        \"notatka 7\", \n",
    "        \"notatka 8\", \n",
    "        \"notatka 9\"};\n",
    "\n",
    "    public static ArrayList<String> dummyData = new ArrayList<>(Arrays.asList(data));\n",
    "}"
   ]
  },
  {
   "cell_type": "markdown",
   "id": "3a69e467-95cf-4c99-98c7-3f6cf7e1617f",
   "metadata": {},
   "source": [
    "### **RemoteViewsService**"
   ]
  },
  {
   "cell_type": "markdown",
   "id": "ec0d868c-4142-4181-9ed9-8ae37ddb83d0",
   "metadata": {},
   "source": [
    "Rozpoczniemy od implementacji odpowiedniej usługi - jest ona niezbędna ponieważ widget działa na kompletnie innym procesie i nie możemy się komunikować wprost. Klasa `RemoteViewsService` jest usługą, z którą widgety będą się łączyć aby adapter mógł otrzymać instancje `RemoteViews`"
   ]
  },
  {
   "cell_type": "code",
   "execution_count": null,
   "id": "438589ce-ad58-434e-93d2-596c3c67cf12",
   "metadata": {},
   "outputs": [],
   "source": [
    "public class NotyWidgetService extends RemoteViewsService {\n",
    "    @Override\n",
    "    public RemoteViewsFactory onGetViewFactory(Intent intent) {\n",
    "        return null;\n",
    "    }\n",
    "}"
   ]
  },
  {
   "cell_type": "markdown",
   "id": "b99f34c0-5e4f-43f5-8234-03d8b13a7f11",
   "metadata": {},
   "source": [
    "Musimy zaimplementować jedną metodę `onGetViewFactory`, która zwraca obiekt dostarczający dane. W tym celu zaimplementujemy klasę implementującą interfejs `RemoteViewsFactory` zawierającą szerego niezbędnych metod\n",
    "- `onCreate` - tutaj łączymy się z bazą danych, wywoływana zaraz po konstruktorze\n",
    "- `onDataSetChanged` - wywoływana gdy adapter wywołuje `notifyDataSetChanged`\n",
    "- `onDestroy` - wywoływana w momencie usunięcia powiązania z ostatnim adapterem\n",
    "- `getCount` - zwraca liczbę elementów w kolekcji\n",
    "- `getViewAt` - zwraca obiekt `View` powiązany z daną pozycją\n",
    "- `getLoadingView` - zezwala na załączenie własnego `View` dla ekranu ładowania\n",
    "- `getViewTypeCount` - zwraca liczbę **różnych** typów `View` wykorzystywanych przez adapter - w tym przykładzie będziemy wykorzystywać jeden typ\n",
    "- `getItemId` - zwraca identyfikator - tutaj będzie to odpowiednikiem rzędu na liście\n",
    "- `hasStableIds` - określa czy identyfikatory pozostają niezmienne przy zmianie powiązanych z nim danych"
   ]
  },
  {
   "cell_type": "code",
   "execution_count": null,
   "id": "563c89ca-c084-44e5-954a-0fbf6e25caaf",
   "metadata": {},
   "outputs": [],
   "source": [
    "static class NotyWidgetItemFactory implements RemoteViewsFactory {\n",
    "    \n",
    "            @Override\n",
    "        public void onCreate() {\n",
    "        }\n",
    "\n",
    "        @Override\n",
    "        public void onDataSetChanged() {\n",
    "\n",
    "        }\n",
    "\n",
    "        @Override\n",
    "        public void onDestroy() {\n",
    "        }\n",
    "\n",
    "        @Override\n",
    "        public int getCount() {\n",
    "        }\n",
    "\n",
    "        @Override\n",
    "        public RemoteViews getViewAt(int position) {\n",
    "\n",
    "        }\n",
    "\n",
    "        @Override\n",
    "        public RemoteViews getLoadingView() {\n",
    "            return null;\n",
    "        }\n",
    "\n",
    "        @Override\n",
    "        public int getViewTypeCount() {\n",
    "        }\n",
    "\n",
    "        @Override\n",
    "        public long getItemId(int position) {\n",
    "        }\n",
    "\n",
    "        @Override\n",
    "        public boolean hasStableIds() {\n",
    "        }"
   ]
  },
  {
   "cell_type": "markdown",
   "id": "5ce4ce2a-9daa-468c-8db4-c4c4295f0479",
   "metadata": {},
   "source": [
    "Rozpocznijmy od dodania kilku pól"
   ]
  },
  {
   "cell_type": "code",
   "execution_count": null,
   "id": "49d8b62b-013a-4c3e-9fab-f84b50a8ac1b",
   "metadata": {},
   "outputs": [],
   "source": [
    "private final Context context;\n",
    "private final int appWidgetId;\n",
    "private ArrayList<String> noteList;"
   ]
  },
  {
   "cell_type": "markdown",
   "id": "7be96154-0a0b-4dca-bfa5-47777c892244",
   "metadata": {},
   "source": [
    "Musimy również zaimplementować konstruktor w którym przekażemy `context` oraz `appWidgetId`"
   ]
  },
  {
   "cell_type": "code",
   "execution_count": null,
   "id": "07322d58-99a2-453b-904d-cfe8b6b0562f",
   "metadata": {},
   "outputs": [],
   "source": [
    "public NotyWidgetItemFactory(Context context, Intent intent){\n",
    "    this.context = context;\n",
    "    this.appWidgetId = intent.getIntExtra(AppWidgetManager.EXTRA_APPWIDGET_ID,\n",
    "            AppWidgetManager.INVALID_APPWIDGET_ID);\n",
    "}"
   ]
  },
  {
   "cell_type": "markdown",
   "id": "53ebd7b6-1f62-444f-885b-7966366d512f",
   "metadata": {},
   "source": [
    "- W metodzie `onCreate` zainicjujemy listę notatek - w pierwszej fazie będzie to lista z klasy `DataProvider`"
   ]
  },
  {
   "cell_type": "code",
   "execution_count": null,
   "id": "f27d2106-d628-4253-9f6c-68f92e1f8b8f",
   "metadata": {},
   "outputs": [],
   "source": [
    "@Override\n",
    "public void onCreate() {\n",
    "    noteList = DataProvider.dummyData;\n",
    "}"
   ]
  },
  {
   "cell_type": "markdown",
   "id": "ca499ddd-55dd-49b6-886d-4e2d20085c43",
   "metadata": {},
   "source": [
    "- `getCount` zwraca wielkość listy"
   ]
  },
  {
   "cell_type": "code",
   "execution_count": null,
   "id": "a0d642b7-9049-4fde-b6e8-0c7e27d168e5",
   "metadata": {},
   "outputs": [],
   "source": [
    "@Override\n",
    "public int getCount() {\n",
    "    return noteList.size();\n",
    "}"
   ]
  },
  {
   "cell_type": "markdown",
   "id": "78a0adb3-9181-4d86-adb7-b74ce8f3da2d",
   "metadata": {},
   "source": [
    "- W tym przykładzie będziemy wykorzystywać z domyślnego widoku ładowania, więc metoda zwraca `null`"
   ]
  },
  {
   "cell_type": "code",
   "execution_count": null,
   "id": "b41339fa-5e9a-453a-a7f0-e314900ad41d",
   "metadata": {},
   "outputs": [],
   "source": [
    "@Override\n",
    "public RemoteViews getLoadingView() {\n",
    "    return null;\n",
    "}"
   ]
  },
  {
   "cell_type": "markdown",
   "id": "bf722ff3-4fb4-45d4-a1c1-451164cd644b",
   "metadata": {},
   "source": [
    "- Posiadamy jeden typ `View`, więc zwracamy `1`"
   ]
  },
  {
   "cell_type": "code",
   "execution_count": null,
   "id": "44b3a3d8-d232-4721-ad8d-436aa111a807",
   "metadata": {},
   "outputs": [],
   "source": [
    "@Override\n",
    "public int getViewTypeCount() {\n",
    "    return 1;\n",
    "}"
   ]
  },
  {
   "cell_type": "markdown",
   "id": "46c5edf1-2ea3-4bf7-9863-fcac4896f71a",
   "metadata": {},
   "source": [
    "- ponieważ w pierwszej fazie będziemy korzystać tylko z listy, posłużymy się pozycją jako identyfikatorem"
   ]
  },
  {
   "cell_type": "code",
   "execution_count": null,
   "id": "91f98e39-77e1-4dfe-be65-72dbd8d37e06",
   "metadata": {},
   "outputs": [],
   "source": [
    "@Override\n",
    "public long getItemId(int position) {\n",
    "    return position;\n",
    "}"
   ]
  },
  {
   "cell_type": "markdown",
   "id": "51d37649-d61f-4cc5-9496-012387c5778a",
   "metadata": {},
   "source": [
    "- nasza kolekcja w tej chwili posiada stabilne `id`"
   ]
  },
  {
   "cell_type": "code",
   "execution_count": null,
   "id": "e96a1a56-3b07-435e-999f-fae7dd6dda69",
   "metadata": {},
   "outputs": [],
   "source": [
    "@Override\n",
    "public boolean hasStableIds() {\n",
    "    return true;\n",
    "}"
   ]
  },
  {
   "cell_type": "markdown",
   "id": "dee6a7fb-7e4e-4d1b-a9ac-861db214d507",
   "metadata": {},
   "source": [
    "- w metodzie `getViewAt` zwracamy odpowiedni obiekt"
   ]
  },
  {
   "cell_type": "code",
   "execution_count": null,
   "id": "33304ae3-46c2-447a-a91c-f6135a846896",
   "metadata": {},
   "outputs": [],
   "source": [
    "@Override\n",
    "public RemoteViews getViewAt(int position) {\n",
    "    RemoteViews remoteViews = new RemoteViews(context.getPackageName(), R.layout.item_list);\n",
    "    remoteViews.setTextViewText(R.id.itemListTextView, noteList.get(position));\n",
    "    return remoteViews;\n",
    "}"
   ]
  },
  {
   "cell_type": "markdown",
   "id": "0151099d-69e5-449e-9356-b90041154fab",
   "metadata": {},
   "source": [
    "Powracamy do klasy `NotyWidgetService` i w metodzie `onGetViewFactory` zwracamy instancję `NotyWidgetItemFactory`"
   ]
  },
  {
   "cell_type": "code",
   "execution_count": null,
   "id": "42f01dfd-1ae9-4f58-93df-41511d62f78c",
   "metadata": {},
   "outputs": [],
   "source": [
    "public class NotyWidgetService extends RemoteViewsService {\n",
    "\n",
    "    @Override\n",
    "    public RemoteViewsFactory onGetViewFactory(Intent intent) {\n",
    "        return new NotyWidgetItemFactory(getApplicationContext(), intent);\n",
    "    }\n",
    "    ...\n",
    "}"
   ]
  },
  {
   "cell_type": "markdown",
   "id": "95370d7a-4365-4819-a27d-a11cdd28e679",
   "metadata": {},
   "source": [
    "### **AppWidgetProvider**"
   ]
  },
  {
   "cell_type": "markdown",
   "id": "5f783792-95a4-4c7c-8d80-e9369a22f911",
   "metadata": {},
   "source": [
    "Drugim niezbędnym elementem będzie `AppWidgetProvider`"
   ]
  },
  {
   "cell_type": "code",
   "execution_count": null,
   "id": "18100124-3065-48bc-a683-580153215544",
   "metadata": {},
   "outputs": [],
   "source": [
    "public class NotyWidgetProvider extends AppWidgetProvider {\n",
    "    @Override\n",
    "    public void onUpdate(Context context, AppWidgetManager appWidgetManager, int[] appWidgetIds) {\n",
    "        super.onUpdate(context, appWidgetManager, appWidgetIds);\n",
    "    }\n",
    "}"
   ]
  },
  {
   "cell_type": "markdown",
   "id": "b146a35d-7ec5-498b-ad38-ea3ba51e555d",
   "metadata": {},
   "source": [
    "W metodzie `onUpdate` przechodzimy przez wszystkie instancje naszego widgetu"
   ]
  },
  {
   "cell_type": "code",
   "execution_count": null,
   "id": "d98d659a-9260-4969-a1dc-19db30056740",
   "metadata": {},
   "outputs": [],
   "source": [
    "for (int appWidgetId : appWidgetIds) {"
   ]
  },
  {
   "cell_type": "markdown",
   "id": "f76a0060-5c92-41fb-bac1-347b2a52164a",
   "metadata": {},
   "source": [
    "Tworzymy nowy `Intent` przekierowujący do usługi"
   ]
  },
  {
   "cell_type": "code",
   "execution_count": null,
   "id": "45c821ce-e6cf-4e2c-8d54-8632932b4078",
   "metadata": {},
   "outputs": [],
   "source": [
    "    Intent serviceIntent = new Intent(context, NotyWidgetService.class);"
   ]
  },
  {
   "cell_type": "markdown",
   "id": "60557662-5ccc-43bb-a30f-4d8b578ebb3e",
   "metadata": {},
   "source": [
    "następnie dodajmy `id` widgetu oraz wykorzystujemy metodę `setData` - metoda ta wskazuje lokalizację obiektu (przykładowo może być to plik)"
   ]
  },
  {
   "cell_type": "code",
   "execution_count": null,
   "id": "fbf4ffd1-5302-4349-becf-a908524726bc",
   "metadata": {},
   "outputs": [],
   "source": [
    "    serviceIntent.putExtra(AppWidgetManager.EXTRA_APPWIDGET_ID, appWidgetId);\n",
    "    serviceIntent.setData(Uri.parse(serviceIntent.toUri(Intent.URI_INTENT_SCHEME)));"
   ]
  },
  {
   "cell_type": "markdown",
   "id": "d45ef3a9-e0ee-45db-87b2-5de050b634c0",
   "metadata": {},
   "source": [
    "Tworzymy nasze `RemoteViews`"
   ]
  },
  {
   "cell_type": "code",
   "execution_count": null,
   "id": "cd27c434-b9be-4886-8de1-17e3fe943653",
   "metadata": {},
   "outputs": [],
   "source": [
    "    RemoteViews views = new RemoteViews(context.getPackageName(), R.layout.noty_widget_provider);"
   ]
  },
  {
   "cell_type": "markdown",
   "id": "94b50781-dfc9-48f9-a1d5-59826e2d462e",
   "metadata": {},
   "source": [
    "ustawiamy adapter i widok dla pustej kolekcji"
   ]
  },
  {
   "cell_type": "code",
   "execution_count": null,
   "id": "26bda4cb-4572-474b-b57b-a5b826fcfa63",
   "metadata": {},
   "outputs": [],
   "source": [
    "    views.setRemoteAdapter(R.id.listViewWidget, serviceIntent);\n",
    "    views.setEmptyView(R.id.listViewWidget, R.id.emptyViewTextView);"
   ]
  },
  {
   "cell_type": "markdown",
   "id": "01a17bf8-0dd2-4206-85d6-3fe33fbbfb9b",
   "metadata": {},
   "source": [
    "na koniec wywołujemy metodę `updateAppWidget`"
   ]
  },
  {
   "cell_type": "code",
   "execution_count": null,
   "id": "3f838257-6b63-4974-919a-6fbd0615bf7c",
   "metadata": {},
   "outputs": [],
   "source": [
    "    appWidgetManager.updateAppWidget(appWidgetId, views);"
   ]
  },
  {
   "cell_type": "markdown",
   "id": "85e7dd15-e917-4093-87c7-b62ec27a3cc4",
   "metadata": {},
   "source": [
    "Po wyjściu z pętli `for` wywołujemy metodę superklasy"
   ]
  },
  {
   "cell_type": "code",
   "execution_count": null,
   "id": "3bb628c9-d44f-4aa1-917d-bc1f416241b8",
   "metadata": {},
   "outputs": [],
   "source": [
    "    }\n",
    "    super.onUpdate(context, appWidgetManager, appWidgetIds);"
   ]
  },
  {
   "cell_type": "markdown",
   "id": "5e757503-9ec5-4d70-94a9-73191fa47dfb",
   "metadata": {},
   "source": [
    "Pełny kod klasy `NotyWidgetProvider`"
   ]
  },
  {
   "cell_type": "code",
   "execution_count": null,
   "id": "fddf9551-71a6-42fb-a503-3f3cc57e2f0d",
   "metadata": {},
   "outputs": [],
   "source": [
    "public class NotyWidgetProvider extends AppWidgetProvider {\n",
    "    @Override\n",
    "    public void onUpdate(Context context, AppWidgetManager appWidgetManager, int[] appWidgetIds) {\n",
    "        for (int appWidgetId : appWidgetIds) {\n",
    "\n",
    "            Intent serviceIntent = new Intent(context, NotyWidgetService.class);\n",
    "            serviceIntent.putExtra(AppWidgetManager.EXTRA_APPWIDGET_ID, appWidgetId);\n",
    "            serviceIntent.setData(Uri.parse(serviceIntent.toUri(Intent.URI_INTENT_SCHEME)));\n",
    "\n",
    "            RemoteViews views = new RemoteViews(context.getPackageName(), R.layout.noty_widget_provider);\n",
    "            views.setRemoteAdapter(R.id.listViewWidget, serviceIntent);\n",
    "            views.setEmptyView(R.id.listViewWidget, R.id.emptyViewTextView);\n",
    "            appWidgetManager.updateAppWidget(appWidgetId, views);\n",
    "        }\n",
    "        super.onUpdate(context, appWidgetManager, appWidgetIds);\n",
    "    }\n",
    "}"
   ]
  },
  {
   "cell_type": "markdown",
   "id": "df6ca04f-6065-4d52-87d3-94d07468a0bc",
   "metadata": {},
   "source": [
    "Do `AndroidManifest` musimy wprowadzić informacje o naszym providerze oraz service."
   ]
  },
  {
   "cell_type": "code",
   "execution_count": null,
   "id": "8955d91f-98ff-4c5f-8b75-3cd1c95f6d12",
   "metadata": {},
   "outputs": [],
   "source": [
    "<receiver\n",
    "    android:name=\".provider.NotyWidgetProvider\"\n",
    "    android:exported=\"false\">\n",
    "    <intent-filter>\n",
    "        <action android:name=\"android.appwidget.action.APPWIDGET_UPDATE\" />\n",
    "    </intent-filter>\n",
    "\n",
    "    <meta-data\n",
    "        android:name=\"android.appwidget.provider\"\n",
    "        android:resource=\"@xml/noty_widget_provider_info\" />\n",
    "</receiver>\n",
    "\n",
    "<service\n",
    "    android:name=\".service.NotyWidgetService\"\n",
    "    android:permission=\"android.permission.BIND_REMOTEVIEWS\" />"
   ]
  },
  {
   "cell_type": "markdown",
   "id": "fb9e4a6f-0001-4d6c-84c7-51c4043a528e",
   "metadata": {},
   "source": [
    "Możemy przetestować aplikację i widget."
   ]
  },
  {
   "cell_type": "markdown",
   "id": "5a6105e6-4d94-4e8c-9396-8803c3e4944e",
   "metadata": {},
   "source": [
    "<table><tr><td><img src=\"https://media2.giphy.com/media/U0lFKx7L0xtZHrpaLQ/giphy.gif?cid=790b76119fc11ce6d16c4ba7009680f1447b35e164c8012a&rid=giphy.gif&ct=g\" width=\"150\" /></td><td><img src=\"https://media2.giphy.com/media/1BNcJ99feU4EosbU19/giphy.gif?cid=790b76117e6f80ef480e50e651e2e981d067cfeb27c6e32c&rid=giphy.gif&ct=g\" width=\"150\" /></td</tr></table>"
   ]
  },
  {
   "cell_type": "markdown",
   "id": "ddeddb38-dde4-482d-802f-4c57a1d86759",
   "metadata": {},
   "source": [
    "### **Odświeżanie**"
   ]
  },
  {
   "cell_type": "markdown",
   "id": "6c5133c9-a6d9-4d28-87ff-2da45b7fc9aa",
   "metadata": {},
   "source": [
    "Poza automatycznym odświeżaniem co 30 minut dodamy odświeżanie na przycisk umieszczony na widgecie. Zmodyfikujmy layout widgetu"
   ]
  },
  {
   "cell_type": "code",
   "execution_count": null,
   "id": "325daa2f-19e5-4de0-b5a6-d1c59d078091",
   "metadata": {},
   "outputs": [],
   "source": [
    "<RelativeLayout xmlns:android=\"http://schemas.android.com/apk/res/android\"\n",
    "    style=\"@style/Widget.NotyJava.AppWidget.Container\"\n",
    "    android:layout_width=\"match_parent\"\n",
    "    android:layout_height=\"match_parent\"\n",
    "    android:theme=\"@style/Theme.NotyJava.AppWidgetContainer\">\n",
    "\n",
    "    <LinearLayout\n",
    "        android:layout_width=\"match_parent\"\n",
    "        android:layout_height=\"match_parent\"\n",
    "        android:orientation=\"vertical\">\n",
    "\n",
    "        <Button\n",
    "            android:id=\"@+id/refreshButtonWidget\"\n",
    "            android:layout_width=\"match_parent\"\n",
    "            android:backgroundTint=\"@color/cardview_dark_background\"\n",
    "            android:text=\"refresh\"\n",
    "            android:layout_height=\"wrap_content\"/>\n",
    "\n",
    "\n",
    "    <ListView\n",
    "        android:id=\"@+id/listViewWidget\"\n",
    "        android:layout_width=\"match_parent\"\n",
    "        android:layout_height=\"match_parent\" />\n",
    "\n",
    "    </LinearLayout>\n",
    "\n",
    "    <TextView\n",
    "        android:id=\"@+id/emptyViewTextView\"\n",
    "        android:layout_width=\"match_parent\"\n",
    "        android:layout_height=\"match_parent\"\n",
    "        android:textSize=\"20sp\"\n",
    "        android:gravity=\"center\"\n",
    "        android:text=\"lista jest pusta\"/>\n",
    "</RelativeLayout>"
   ]
  },
  {
   "cell_type": "markdown",
   "id": "b779debc-d6c3-45f5-8670-3e413aa0c0f3",
   "metadata": {},
   "source": [
    "Przy odświeżeniu chcemy wywołać (niejawnie) metodę `onDataSetChange` klasy `NotyWidgetService`, więc przedźmy do tej metody i ją nieco zmodyfikujmy"
   ]
  },
  {
   "cell_type": "code",
   "execution_count": null,
   "id": "821f7e57-a9a0-446e-8cb1-cd50400f0c3f",
   "metadata": {},
   "outputs": [],
   "source": [
    "@Override\n",
    "public void onDataSetChanged() {\n",
    "    DataProvider.dummyData.add(\n",
    "        \"Nowa notatka \" + (DataProvider.dummyData.size() + 1));\n",
    "}"
   ]
  },
  {
   "cell_type": "markdown",
   "id": "79ebbf0b-39b6-4571-a761-77e353b1c8fe",
   "metadata": {},
   "source": [
    "Czyli przy każdym wywołaniu tej metody będziemy dodawać nową notatkę do listy - tą funkcjonalność póżniej zmienimy. Wróćmy do klasy `NotyWidgetProvider` i obsłużmy przycisk. W pierwszej kolejności musimy utworzyć `Intent`, określimy w nim akcję którą chcemy wykonać - tutaj będzie to `ACTION_APPWIDGET_UPDATE`."
   ]
  },
  {
   "cell_type": "code",
   "execution_count": null,
   "id": "be8e499f-94e7-48bb-a7ce-3dd745d24a33",
   "metadata": {},
   "outputs": [],
   "source": [
    "Intent intentUpdate = new Intent(context, NotyWidgetProvider.class);\n",
    "intentUpdate.setAction(AppWidgetManager.ACTION_APPWIDGET_UPDATE);"
   ]
  },
  {
   "cell_type": "markdown",
   "id": "7b4131ad-271c-47a3-ba3f-6ee3b3c043d2",
   "metadata": {},
   "source": [
    "Następnie musimy przekazać **wszystkie** identyfikatory widgetów"
   ]
  },
  {
   "cell_type": "code",
   "execution_count": null,
   "id": "143ffa59-ce39-4287-a1f8-474c1ef8d81e",
   "metadata": {},
   "outputs": [],
   "source": [
    "int[] idArray = new int[]{appWidgetId};\n",
    "intentUpdate.putExtra(AppWidgetManager.EXTRA_APPWIDGET_IDS, idArray);"
   ]
  },
  {
   "cell_type": "markdown",
   "id": "7f7fd355-e446-495b-bcfd-00aa7a774ecc",
   "metadata": {},
   "source": [
    "Tworzymy `PendingIntent` który wykona transmisję"
   ]
  },
  {
   "cell_type": "code",
   "execution_count": null,
   "id": "709ea1d0-1d51-478a-849b-0e830dd9d70d",
   "metadata": {},
   "outputs": [],
   "source": [
    "PendingIntent pendingUpdate = PendingIntent.getBroadcast(\n",
    "        context, appWidgetId, intentUpdate,\n",
    "        PendingIntent.FLAG_UPDATE_CURRENT | PendingIntent.FLAG_MUTABLE);"
   ]
  },
  {
   "cell_type": "markdown",
   "id": "29a7ce8c-6030-40d4-87d1-db6f254db4ef",
   "metadata": {},
   "source": [
    "ustawiamy `setOnClickPendingIntent` na `RemoteViews`"
   ]
  },
  {
   "cell_type": "code",
   "execution_count": null,
   "id": "37c2b32b-a059-4642-bd9e-0d358c0f1b88",
   "metadata": {},
   "outputs": [],
   "source": [
    "views.setOnClickPendingIntent(R.id.refreshButtonWidget, pendingUpdate);"
   ]
  },
  {
   "cell_type": "markdown",
   "id": "2ac0ee8d-7ef4-42f6-a93a-16b909128436",
   "metadata": {},
   "source": [
    "na koniec metody `onUpdate` wykonujemy `notifyAppWidgetViewDataChanged`"
   ]
  },
  {
   "cell_type": "code",
   "execution_count": null,
   "id": "d1164631-c32c-477a-959a-d35965d90ef4",
   "metadata": {},
   "outputs": [],
   "source": [
    "appWidgetManager.notifyAppWidgetViewDataChanged(appWidgetId, R.id.listViewWidget);"
   ]
  },
  {
   "cell_type": "markdown",
   "id": "e701a4f0-e5ad-4a89-a5b0-2556c34b034f",
   "metadata": {},
   "source": [
    "Pełny kod metody `onUpdate`"
   ]
  },
  {
   "cell_type": "code",
   "execution_count": null,
   "id": "641e3f8a-2fd1-44f4-8939-aa520583a823",
   "metadata": {},
   "outputs": [],
   "source": [
    "@RequiresApi(api = Build.VERSION_CODES.S)\n",
    "@Override\n",
    "public void onUpdate(\n",
    "    Context context, \n",
    "    AppWidgetManager \n",
    "    appWidgetManager, \n",
    "    int[] appWidgetIds) {\n",
    "    for (int appWidgetId : appWidgetIds) {\n",
    "\n",
    "        Intent serviceIntent = new Intent(context, NotyWidgetService.class);\n",
    "        serviceIntent.putExtra(AppWidgetManager.EXTRA_APPWIDGET_ID, appWidgetId);\n",
    "        serviceIntent.setData(Uri.parse(serviceIntent.toUri(Intent.URI_INTENT_SCHEME)));\n",
    "\n",
    "        Intent intentUpdate = new Intent(context, NotyWidgetProvider.class);\n",
    "        intentUpdate.setAction(AppWidgetManager.ACTION_APPWIDGET_UPDATE);\n",
    "\n",
    "        int[] idArray = new int[]{appWidgetId};\n",
    "        intentUpdate.putExtra(AppWidgetManager.EXTRA_APPWIDGET_IDS, idArray);\n",
    "\n",
    "        PendingIntent pendingUpdate = PendingIntent.getBroadcast(\n",
    "                context, appWidgetId, intentUpdate,\n",
    "                PendingIntent.FLAG_UPDATE_CURRENT | PendingIntent.FLAG_MUTABLE);\n",
    "\n",
    "        RemoteViews views = new RemoteViews(\n",
    "            context.getPackageName(), \n",
    "            R.layout.noty_widget_provider);\n",
    "        views.setRemoteAdapter(R.id.listViewWidget, serviceIntent);\n",
    "        views.setEmptyView(R.id.listViewWidget, R.id.emptyViewTextView);\n",
    "        views.setOnClickPendingIntent(R.id.refreshButtonWidget, pendingUpdate);\n",
    "\n",
    "        appWidgetManager.updateAppWidget(appWidgetId, views);\n",
    "        appWidgetManager.notifyAppWidgetViewDataChanged(appWidgetId, R.id.listViewWidget);\n",
    "    }\n",
    "    super.onUpdate(context, appWidgetManager, appWidgetIds);\n",
    "}"
   ]
  },
  {
   "cell_type": "markdown",
   "id": "f0250969-ff8a-405c-b570-154b230b4b0e",
   "metadata": {},
   "source": [
    "Możemy przetestować aplikację"
   ]
  },
  {
   "cell_type": "markdown",
   "id": "412d9331-721f-4166-b4e7-862093d7f779",
   "metadata": {},
   "source": [
    "<img src=\"https://media1.giphy.com/media/1MmSrqHNPMJ7t6sJd5/giphy.gif?cid=790b761108493c629628d2f83d3b785b8ada6d0dad9b1f6b&rid=giphy.gif&ct=g\" width=\"150\" />"
   ]
  },
  {
   "cell_type": "markdown",
   "id": "0a5815a4-defa-490e-9aa3-13764c2560d0",
   "metadata": {},
   "source": [
    "### **ListView onClick**"
   ]
  },
  {
   "cell_type": "markdown",
   "id": "0925a90e-774a-41cf-ae73-c90fc6de8ed0",
   "metadata": {},
   "source": [
    "Kolejnym krokiem będzie modyfikacja elementu listy po kliknięciu. Ponieważ tworzenie `PendingIntent` dla każdego elementu listy jest operacją niezwykle kosztochłonną wykonujemy to w dwóch krokach. W klasie `NotyWidgetProvider` utworzymy `PendingIntentTemplate` - szablon intentu. Oraz `FillIntent` przez który prześlemy potrzebne dane. W pierwszym kroku zdefiniujmy `Intent` w klasie `NotyWidgetProvider` w którym zdefiniujemy akcję."
   ]
  },
  {
   "cell_type": "code",
   "execution_count": null,
   "id": "446276dd-0d19-49c8-a875-89ffb5db71e9",
   "metadata": {},
   "outputs": [],
   "source": [
    "Intent clickIntent = new Intent(context, NotyWidgetProvider.class);"
   ]
  },
  {
   "cell_type": "markdown",
   "id": "ef691a9d-cfbd-4f91-b5ad-031d3931aa79",
   "metadata": {},
   "source": [
    "Musimy określić identyfikator, który posłuży nam do wykonania akcji"
   ]
  },
  {
   "cell_type": "code",
   "execution_count": null,
   "id": "793b5898-3c89-42d2-aaee-a17071b5d0a6",
   "metadata": {},
   "outputs": [],
   "source": [
    "public static final String ACTION_DONE = \"actionDone\";"
   ]
  },
  {
   "cell_type": "code",
   "execution_count": null,
   "id": "cefa2d62-f41b-4641-b561-1268187ae677",
   "metadata": {},
   "outputs": [],
   "source": [
    "clickIntent.setAction(ACTION_DONE);"
   ]
  },
  {
   "cell_type": "markdown",
   "id": "a576fc22-e62b-48bf-8c0e-9718f0f11b20",
   "metadata": {},
   "source": [
    "Następnie tworzymy `PendingIntent`"
   ]
  },
  {
   "cell_type": "code",
   "execution_count": null,
   "id": "e10c9a78-14a2-48eb-9eb8-4e315e27ee5a",
   "metadata": {},
   "outputs": [],
   "source": [
    "PendingIntent clickPendingIntent = PendingIntent.getBroadcast(\n",
    "        context, 0, clickIntent,\n",
    "        PendingIntent.FLAG_MUTABLE);"
   ]
  },
  {
   "cell_type": "markdown",
   "id": "a91c1291-b2cc-4c7c-b626-13d5139de177",
   "metadata": {},
   "source": [
    "oraz ustawiamy `PendingIntentTemplate`"
   ]
  },
  {
   "cell_type": "code",
   "execution_count": null,
   "id": "3744332f-8cdf-4ab2-9c5f-382f79dd712e",
   "metadata": {},
   "outputs": [],
   "source": [
    "views.setPendingIntentTemplate(R.id.listViewWidget, clickPendingIntent);"
   ]
  },
  {
   "cell_type": "markdown",
   "id": "e67b1db2-1a96-47ee-8947-f6aa9288423c",
   "metadata": {},
   "source": [
    "Zmodyfikowana metoda `onUpdate`"
   ]
  },
  {
   "cell_type": "code",
   "execution_count": null,
   "id": "d30095e5-4faa-4341-bcf8-e1fef53c3a3d",
   "metadata": {},
   "outputs": [],
   "source": [
    "@RequiresApi(api = Build.VERSION_CODES.S)\n",
    "@Override\n",
    "public void onUpdate(\n",
    "    Context context, \n",
    "    AppWidgetManager appWidgetManager, \n",
    "    int[] appWidgetIds) {\n",
    "    for (int appWidgetId : appWidgetIds) {\n",
    "\n",
    "        Intent serviceIntent = new Intent(context, NotyWidgetService.class);\n",
    "        serviceIntent.putExtra(AppWidgetManager.EXTRA_APPWIDGET_ID, appWidgetId);\n",
    "        serviceIntent.setData(Uri.parse(serviceIntent.toUri(Intent.URI_INTENT_SCHEME)));\n",
    "\n",
    "        Intent clickIntent = new Intent(context, NotyWidgetProvider.class);\n",
    "        clickIntent.setAction(ACTION_DONE);\n",
    "        PendingIntent clickPendingIntent = PendingIntent.getBroadcast(\n",
    "                context, 0, clickIntent,\n",
    "                PendingIntent.FLAG_MUTABLE);\n",
    "\n",
    "        Intent intentUpdate = new Intent(context, NotyWidgetProvider.class);\n",
    "        intentUpdate.setAction(AppWidgetManager.ACTION_APPWIDGET_UPDATE);\n",
    "\n",
    "        int[] idArray = new int[]{appWidgetId};\n",
    "        intentUpdate.putExtra(AppWidgetManager.EXTRA_APPWIDGET_IDS, idArray);\n",
    "\n",
    "        PendingIntent pendingUpdate = PendingIntent.getBroadcast(\n",
    "                context, appWidgetId, intentUpdate,\n",
    "                PendingIntent.FLAG_UPDATE_CURRENT | PendingIntent.FLAG_MUTABLE);\n",
    "\n",
    "        RemoteViews views = new RemoteViews(\n",
    "            context.getPackageName(), \n",
    "            R.layout.noty_widget_provider);\n",
    "        views.setRemoteAdapter(R.id.listViewWidget, serviceIntent);\n",
    "        views.setEmptyView(R.id.listViewWidget, R.id.emptyViewTextView);\n",
    "        views.setPendingIntentTemplate(R.id.listViewWidget, clickPendingIntent);\n",
    "        views.setOnClickPendingIntent(R.id.refreshButtonWidget, pendingUpdate);\n",
    "\n",
    "        appWidgetManager.updateAppWidget(appWidgetId, views);\n",
    "        appWidgetManager.notifyAppWidgetViewDataChanged(appWidgetId, R.id.listViewWidget);\n",
    "    }\n",
    "    super.onUpdate(context, appWidgetManager, appWidgetIds);\n",
    "}"
   ]
  },
  {
   "cell_type": "markdown",
   "id": "c6304233-997c-48ef-9ae3-1f582dcf61d2",
   "metadata": {},
   "source": [
    "Przechodzimy do klasy `NotyWidgetService`, w metodzie `getViewAt` tworzymy `FillIntent` i przesyłamy niezbędne dane"
   ]
  },
  {
   "cell_type": "code",
   "execution_count": null,
   "id": "5e000320-858e-4b12-8041-37ca59d6edfa",
   "metadata": {},
   "outputs": [],
   "source": [
    "Intent fillIntent = new Intent();\n",
    "fillIntent.putExtra(AppWidgetManager.EXTRA_APPWIDGET_ID, appWidgetId);\n",
    "fillIntent.putExtra(\"position\", position);\n",
    "remoteViews.setOnClickFillInIntent(R.id.itemListTextView, fillIntent);"
   ]
  },
  {
   "cell_type": "markdown",
   "id": "b58b5606-2316-49a7-84aa-2baeef5ac02b",
   "metadata": {},
   "source": [
    "Ostatnim krokiem jest odebranie danych i wykonanie akcji, robimy to w klasie `NotyWidgetProvider` nadpisując metodę `onReceive`"
   ]
  },
  {
   "cell_type": "code",
   "execution_count": null,
   "id": "a8aba5d5-cecf-4cf2-92ff-f8104ee8bd61",
   "metadata": {},
   "outputs": [],
   "source": [
    "@Override\n",
    "public void onReceive(Context context, Intent intent) {\n",
    "    super.onReceive(context, intent);\n",
    "}"
   ]
  },
  {
   "cell_type": "markdown",
   "id": "1f86d494-7e04-4ddb-9cf6-b4e70ce61d59",
   "metadata": {},
   "source": [
    "Wpierw określmy akcję którą będziemy obsługiwać"
   ]
  },
  {
   "cell_type": "code",
   "execution_count": null,
   "id": "b3f7f75a-4f1a-4b66-9201-d127396b0e49",
   "metadata": {},
   "outputs": [],
   "source": [
    "if (ACTION_DONE.equals(intent.getAction())){"
   ]
  },
  {
   "cell_type": "markdown",
   "id": "53e2b0fe-ccb8-45fc-8207-46e34b310a59",
   "metadata": {},
   "source": [
    "rozpakujmy dane"
   ]
  },
  {
   "cell_type": "code",
   "execution_count": null,
   "id": "4b5beae0-0dad-41d1-9eca-3d85ddc5ec6c",
   "metadata": {},
   "outputs": [],
   "source": [
    "int appWidgetId = intent.getIntExtra(AppWidgetManager.EXTRA_APPWIDGET_ID,\n",
    "        AppWidgetManager.INVALID_APPWIDGET_ID);\n",
    "int position = intent.getIntExtra(\"position\", 100);"
   ]
  },
  {
   "cell_type": "markdown",
   "id": "e8899dda-c711-4d2e-b500-87868c1624ae",
   "metadata": {},
   "source": [
    "Pobierzmy instancję `AppWidgetManager`"
   ]
  },
  {
   "cell_type": "code",
   "execution_count": null,
   "id": "7dce04e5-6386-4471-ad0d-7a7ae5a58d59",
   "metadata": {},
   "outputs": [],
   "source": [
    "AppWidgetManager appWidgetManager = AppWidgetManager.getInstance(context);"
   ]
  },
  {
   "cell_type": "markdown",
   "id": "3f7943d0-3c67-40f8-a779-dc14cedab8c4",
   "metadata": {},
   "source": [
    "i zmodyfikujmy element na liście"
   ]
  },
  {
   "cell_type": "code",
   "execution_count": null,
   "id": "83b0f5dc-62dc-48ed-81b0-1ed204a60aa9",
   "metadata": {},
   "outputs": [],
   "source": [
    "DataProvider.dummyData.set(position, \"zmiana\");"
   ]
  },
  {
   "cell_type": "markdown",
   "id": "ac061221-917b-49d4-88bb-c6bc46fbc152",
   "metadata": {},
   "source": [
    "następnie wykonujemy `notifyAppWidgetViewDataChanged`"
   ]
  },
  {
   "cell_type": "code",
   "execution_count": null,
   "id": "89007917-7d29-4bfe-9264-f6a7afa43733",
   "metadata": {},
   "outputs": [],
   "source": [
    "appWidgetManager.notifyAppWidgetViewDataChanged(appWidgetId, R.id.listViewWidget);"
   ]
  },
  {
   "cell_type": "markdown",
   "id": "7cf10d25-865e-4800-80fb-1c6d5db471bc",
   "metadata": {},
   "source": [
    "Pełna metoda `onReceive`"
   ]
  },
  {
   "cell_type": "code",
   "execution_count": null,
   "id": "5f62ed19-baec-4ec4-9ad3-e53a5b13d926",
   "metadata": {},
   "outputs": [],
   "source": [
    "@Override\n",
    "public void onReceive(Context context, Intent intent) {\n",
    "    if (ACTION_DONE.equals(intent.getAction())){\n",
    "        int appWidgetId = intent.getIntExtra(AppWidgetManager.EXTRA_APPWIDGET_ID,\n",
    "                AppWidgetManager.INVALID_APPWIDGET_ID);\n",
    "        int position = intent.getIntExtra(\"position\", 100);\n",
    "        AppWidgetManager appWidgetManager = AppWidgetManager.getInstance(context);\n",
    "\n",
    "        DataProvider.dummyData.set(position, \"zmiana\");\n",
    "\n",
    "        appWidgetManager.notifyAppWidgetViewDataChanged(appWidgetId, R.id.listViewWidget);\n",
    "    }\n",
    "    super.onReceive(context, intent);\n",
    "}"
   ]
  },
  {
   "cell_type": "markdown",
   "id": "3a02c6fd-f4e8-45b7-a82f-af70f7036b96",
   "metadata": {},
   "source": [
    "Możemy przetestować aplikację - po kliknięciu każdego elementu listy, zostanie on zmieniony ale również zostanie dodany nowy element, ponieważ będzie wywołana metoda `onDataSetChanged`"
   ]
  },
  {
   "cell_type": "markdown",
   "id": "a99408a1-12ad-464b-b5a1-bbfd7c813f8b",
   "metadata": {},
   "source": [
    "<img src=\"https://media2.giphy.com/media/aCLr1hpAQuVMUFKCZb/giphy.gif?cid=790b7611a7a7f667dcf133dcf9cd4bf638e9c5bf8dbc1f31&rid=giphy.gif&ct=g\" width=\"150\" />"
   ]
  },
  {
   "cell_type": "markdown",
   "id": "92abe81b-95fd-4165-b20f-cea7d72560f6",
   "metadata": {},
   "source": [
    "### **Baza danych**"
   ]
  },
  {
   "cell_type": "markdown",
   "id": "94740ca7-b835-416b-91d4-5814ad12d0f5",
   "metadata": {},
   "source": [
    "Notatki będziemy przechowywać w bazie danych, notatkę przeczytaną/zrealizowaną oznaczymy innym kolorem tekstu. Oprócz tego dodamy również godzinę wykonania zadania. Rozpocznijmy od zdefiniowania modelu"
   ]
  },
  {
   "cell_type": "code",
   "execution_count": null,
   "id": "cc888cb9-4820-48d1-a9e3-078b13958eff",
   "metadata": {},
   "outputs": [],
   "source": [
    "public class NoteModel {\n",
    "    private int id = 0;\n",
    "    private String textNote;\n",
    "    private final LocalTime time;\n",
    "    private int color = Color.BLACK;\n",
    "\n",
    "    public NoteModel(String textNote, LocalTime date) {\n",
    "        this.textNote = textNote;\n",
    "        this.time = date;\n",
    "    }\n",
    "\n",
    "    public NoteModel(int id, String textNote, LocalTime time, int color) {\n",
    "        this(textNote, time);\n",
    "        this.id = id;\n",
    "        this.color = color;\n",
    "    }\n",
    "\n",
    "    public String getTextNote() {\n",
    "        return textNote;\n",
    "    }\n",
    "\n",
    "    public LocalTime getTime() {\n",
    "        return time;\n",
    "    }\n",
    "\n",
    "    public int getId() {\n",
    "        return id;\n",
    "    }\n",
    "\n",
    "    public void setTextNote(String textNote) {\n",
    "        this.textNote = textNote;\n",
    "    }\n",
    "\n",
    "    public int getColor() {\n",
    "        return color;\n",
    "    }\n",
    "\n",
    "    public void setColor(int color) {\n",
    "        this.color = color;\n",
    "    }\n",
    "}"
   ]
  },
  {
   "cell_type": "markdown",
   "id": "9703fee9-6511-4139-a25f-2b74cd325b10",
   "metadata": {},
   "source": [
    "Zdefiniujmy również dane testowe w klasie `DataProvider`"
   ]
  },
  {
   "cell_type": "code",
   "execution_count": null,
   "id": "773fe8cb-d2cc-44b8-b081-d91837ecedac",
   "metadata": {},
   "outputs": [],
   "source": [
    "private static final NoteModel[] notes = {\n",
    "        new NoteModel(\"notatka 1\", LocalTime.of(12, 0)),\n",
    "        new NoteModel(\"notatka 2\", LocalTime.of(13, 0)),\n",
    "        new NoteModel(\"notatka 3\", LocalTime.of(21, 0)),\n",
    "        new NoteModel(\"notatka 4\", LocalTime.of(9, 9)),\n",
    "        new NoteModel(\"notatka 5\", LocalTime.of(22, 34)),\n",
    "        new NoteModel(\"notatka 6\", LocalTime.of(11, 22)),\n",
    "        new NoteModel(\"notatka 7\", localTime)\n",
    "};\n",
    "\n",
    "public static ArrayList<NoteModel> dummyData2 = new ArrayList<>(Arrays.asList(notes));"
   ]
  },
  {
   "cell_type": "markdown",
   "id": "9cd8da84-486e-4793-9e64-ea9feed81ee9",
   "metadata": {},
   "source": [
    "Stwórzmy naszą bazę danych"
   ]
  },
  {
   "cell_type": "code",
   "execution_count": null,
   "id": "bf64a5ce-6599-40a1-8777-ae1ce52e8b8e",
   "metadata": {},
   "outputs": [],
   "source": [
    "public class DBHandler extends SQLiteOpenHelper {\n",
    "\n",
    "    private static int DATABASE_VERSION = 1;\n",
    "    private static final String DATABASE_NAME = \"notesBDk.db\";\n",
    "    private static final String NOTES_TABLE = \"NotesTable\";\n",
    "\n",
    "    private static final String COLUMN_ID = \"_id\";\n",
    "    private static final String COLUMN_TEXT = \"text\";\n",
    "    private static final String COLUMN_TIME = \"time\";\n",
    "    private static final String COLUMN_COLOR = \"color\";\n",
    "\n",
    "    public DBHandler(@Nullable Context context) {\n",
    "        super(context, DATABASE_NAME, null, DATABASE_VERSION);\n",
    "    }\n",
    "\n",
    "    @Override\n",
    "    public void onCreate(SQLiteDatabase db) {\n",
    "        String CREATE_STUDENTS_TABLE = \"CREATE TABLE \" +\n",
    "                NOTES_TABLE +\n",
    "                \"(\" +\n",
    "                COLUMN_ID + \" \" +\n",
    "                \"INTEGER PRIMARY KEY AUTOINCREMENT NOT NULL,\" +\n",
    "                COLUMN_TEXT +\n",
    "                \" TEXT,\" +\n",
    "                COLUMN_TIME +\n",
    "                \" TEXT,\" +\n",
    "                COLUMN_COLOR +\n",
    "                \" INTEGER\" +\n",
    "                \")\";\n",
    "\n",
    "        db.execSQL(CREATE_STUDENTS_TABLE);\n",
    "    }\n",
    "\n",
    "    @Override\n",
    "    public void onUpgrade(SQLiteDatabase db, int oldVersion, int newVersion) {\n",
    "        db.execSQL(\"DROP TABLE IF EXISTS \" + NOTES_TABLE);\n",
    "        onCreate(db);\n",
    "    }\n",
    "}"
   ]
  },
  {
   "cell_type": "markdown",
   "id": "24ef114a-5f2b-4196-bb42-469cd8765be8",
   "metadata": {},
   "source": [
    "Będziemy potrzebować kilka metod, zacznijmy od dodania nowego wpisu do bazy"
   ]
  },
  {
   "cell_type": "code",
   "execution_count": null,
   "id": "dc11f55a-555b-4155-964d-de614a526d25",
   "metadata": {},
   "outputs": [],
   "source": [
    "    public void addNote(NoteModel note){\n",
    "        SQLiteDatabase db = this.getWritableDatabase();\n",
    "\n",
    "        ContentValues values = new ContentValues();\n",
    "        values.put(COLUMN_TEXT, note.getTextNote());\n",
    "        values.put(COLUMN_TIME, note.getTime().toString());\n",
    "        values.put(COLUMN_COLOR, note.getColor());\n",
    "\n",
    "        db.insert(NOTES_TABLE, null, values);\n",
    "        db.close();\n",
    "    }"
   ]
  },
  {
   "cell_type": "markdown",
   "id": "ea7b5e69-ed5e-40a3-b973-a69adf49e22e",
   "metadata": {},
   "source": [
    "Przejdźmy do metody zwracającą listę wszystkich notatek"
   ]
  },
  {
   "cell_type": "code",
   "execution_count": null,
   "id": "3591dbf2-6515-486e-a3e2-6748d3a1bd09",
   "metadata": {},
   "outputs": [],
   "source": [
    "    public ArrayList<NoteModel>  getNotes() {\n",
    "        ArrayList<NoteModel> notes = new ArrayList<>();\n",
    "\n",
    "        SQLiteDatabase db = this.getReadableDatabase();\n",
    "\n",
    "        Cursor cursor = db.rawQuery(\"SELECT * FROM \" + NOTES_TABLE, null);\n",
    "\n",
    "        if (cursor.moveToFirst()) {\n",
    "            do {\n",
    "                notes.add(new NoteModel(\n",
    "                        cursor.getInt(0),\n",
    "                        cursor.getString(1),\n",
    "                        LocalTime.parse(cursor.getString(2)),\n",
    "                        cursor.getInt(3)));\n",
    "            } while (cursor.moveToNext());\n",
    "        }\n",
    "\n",
    "        db.close();\n",
    "        cursor.close();\n",
    "        return notes;\n",
    "    }"
   ]
  },
  {
   "cell_type": "markdown",
   "id": "1b0a091f-2708-47d2-926e-600ee7c0c059",
   "metadata": {},
   "source": [
    "Będziemy również aktualizować kolor danej notatki"
   ]
  },
  {
   "cell_type": "code",
   "execution_count": null,
   "id": "90be4f2b-06cc-40b1-8e3a-fd839c08d533",
   "metadata": {},
   "outputs": [],
   "source": [
    "    public void updateNote (int id){\n",
    "        SQLiteDatabase db = this.getWritableDatabase();\n",
    "        ContentValues contentValues = new ContentValues();\n",
    "        contentValues.put(COLUMN_COLOR, Color.CYAN);\n",
    "\n",
    "        db.update(NOTES_TABLE,\n",
    "                contentValues,\n",
    "                COLUMN_ID + \"=\" + id,\n",
    "                null);\n",
    "\n",
    "        db.close();\n",
    "    }"
   ]
  },
  {
   "cell_type": "markdown",
   "id": "ecd1c15c-f0a4-4a0e-9926-9234c786f8f8",
   "metadata": {},
   "source": [
    "Zainicjujmy naszą bazę za pomocą danych testowych w klasie `MainActivity`"
   ]
  },
  {
   "cell_type": "code",
   "execution_count": null,
   "id": "696f5203-79f2-4edc-8c12-b0d4203b167e",
   "metadata": {},
   "outputs": [],
   "source": [
    "    @Override\n",
    "    protected void onCreate(Bundle savedInstanceState) {\n",
    "        super.onCreate(savedInstanceState);\n",
    "        setContentView(R.layout.activity_main);\n",
    "        DBHandler dbHandler = new DBHandler(this);\n",
    "        DataProvider.dummyData2.forEach(dbHandler::addNote);\n",
    "        dbHandler.close();\n",
    "    }"
   ]
  },
  {
   "cell_type": "markdown",
   "id": "237cec12-f151-4565-805a-0bb5cdc27253",
   "metadata": {},
   "source": [
    "Dokonajmy zmian w klasie `NotyWidgetItemFactory`, będziemy potrzebować zmienną `DBHandler`"
   ]
  },
  {
   "cell_type": "code",
   "execution_count": null,
   "id": "888e8ff4-7b76-4039-9638-e1e97ce20ea5",
   "metadata": {},
   "outputs": [],
   "source": [
    "private DBHandler dbHandler;"
   ]
  },
  {
   "cell_type": "markdown",
   "id": "e642ae1e-e37e-4d81-9b48-56bba4bb10cf",
   "metadata": {},
   "source": [
    "Bazę zainicjujemy w metodzie `onCreate`, tutaj również zainicjujemy lokalną listę"
   ]
  },
  {
   "cell_type": "code",
   "execution_count": null,
   "id": "105151b4-be69-4bad-a6bd-40de6048ead1",
   "metadata": {},
   "outputs": [],
   "source": [
    "    @Override\n",
    "    public void onCreate() {\n",
    "        dbHandler = new DBHandler(context);\n",
    "        noteList = dbHandler.getNotes();\n",
    "    }"
   ]
  },
  {
   "cell_type": "markdown",
   "id": "68118df1-762d-4686-a689-20c7525af2f5",
   "metadata": {},
   "source": [
    "Przy każdej zmianie chcemy odświeżyć listę i pobrać aktualne dane"
   ]
  },
  {
   "cell_type": "code",
   "execution_count": null,
   "id": "6b83db7b-0d0a-4763-a9f8-1b06e908f01f",
   "metadata": {},
   "outputs": [],
   "source": [
    "    @Override\n",
    "    public void onDataSetChanged() {\n",
    "        noteList = dbHandler.getNotes();\n",
    "    }"
   ]
  },
  {
   "cell_type": "markdown",
   "id": "0bc2da76-8af5-4d44-9c47-4861fdf8c9df",
   "metadata": {},
   "source": [
    "W metodzie `onDestroy` zamykamy dostęp do bazy"
   ]
  },
  {
   "cell_type": "code",
   "execution_count": null,
   "id": "f36e8ac8-b577-4d66-bc22-e2f7128018d7",
   "metadata": {},
   "outputs": [],
   "source": [
    "    @Override\n",
    "    public void onDestroy() {\n",
    "        dbHandler.close();\n",
    "    }"
   ]
  },
  {
   "cell_type": "markdown",
   "id": "0aed276e-80a0-41dc-afda-a84a1f2f22e7",
   "metadata": {},
   "source": [
    "W metodzie `getViewAt` ustawmy tekst oraz kolor tekstu elementów listy"
   ]
  },
  {
   "cell_type": "code",
   "execution_count": null,
   "id": "a46cff00-9b1d-41b1-9559-c53c5af9ab8b",
   "metadata": {},
   "outputs": [],
   "source": [
    "    RemoteViews remoteViews = \n",
    "        new RemoteViews(context.getPackageName(), R.layout.item_list);\n",
    "    remoteViews.setTextViewText(\n",
    "        R.id.itemListTextView, \n",
    "        noteList.get(position).getTime().toString()\n",
    "        + \"\\n\" + noteList.get(position).getTextNote());\n",
    "    remoteViews.setTextColor(\n",
    "        R.id.itemListTextView,  \n",
    "        noteList.get(position).getColor());"
   ]
  },
  {
   "cell_type": "markdown",
   "id": "3b8c1095-6f85-4283-a5a7-6baf72c76b3c",
   "metadata": {},
   "source": [
    "Przez `FillIntent` będziemy przesyłać `appWidgetId` oraz `id` elementu listy"
   ]
  },
  {
   "cell_type": "code",
   "execution_count": null,
   "id": "fc0ecbfa-0cfe-4bec-bdd1-397d3e3f56c1",
   "metadata": {},
   "outputs": [],
   "source": [
    "        Intent fillIntent = new Intent();\n",
    "        fillIntent.putExtra(AppWidgetManager.EXTRA_APPWIDGET_ID, appWidgetId);\n",
    "        fillIntent.putExtra(\"id\", noteList.get(position).getId());\n",
    "        remoteViews.setOnClickFillInIntent(R.id.itemListTextView, fillIntent);\n",
    "        return remoteViews;"
   ]
  },
  {
   "cell_type": "markdown",
   "id": "59a867dd-a031-489d-bd07-0e6cc1f5ea97",
   "metadata": {},
   "source": [
    "Zmienimy również `getItemId` - teraz będziemy posługiwać się `id` z bazy danych"
   ]
  },
  {
   "cell_type": "code",
   "execution_count": null,
   "id": "652f2ce2-447d-4530-9f7a-0da08d57988b",
   "metadata": {},
   "outputs": [],
   "source": [
    "        @Override\n",
    "        public long getItemId(int position) {\n",
    "            return noteList.get(position).getId(); // identyfikacja\n",
    "        }"
   ]
  },
  {
   "cell_type": "markdown",
   "id": "b1173c9a-c734-4863-876c-923ffeea7e59",
   "metadata": {},
   "source": [
    "Przejdźmy do klasy `NotyWidgetProvider` i w metodzie `onReceive` zaktualizujmy element listy"
   ]
  },
  {
   "cell_type": "code",
   "execution_count": null,
   "id": "541ec6d5-961b-48ec-a998-7c1d7245c64d",
   "metadata": {},
   "outputs": [],
   "source": [
    "    @Override\n",
    "    public void onReceive(Context context, Intent intent) {\n",
    "        if (ACTION_DONE.equals(intent.getAction())){\n",
    "            int appWidgetId = intent.getIntExtra(AppWidgetManager.EXTRA_APPWIDGET_ID,\n",
    "                    AppWidgetManager.INVALID_APPWIDGET_ID);\n",
    "            int id = intent.getIntExtra(\"id\", 100);\n",
    "            AppWidgetManager appWidgetManager = AppWidgetManager.getInstance(context);\n",
    "\n",
    "            DBHandler dbHandler = new DBHandler(context);\n",
    "            dbHandler.updateNote(id);\n",
    "\n",
    "            appWidgetManager.notifyAppWidgetViewDataChanged(appWidgetId, R.id.listViewWidget);\n",
    "        }\n",
    "        super.onReceive(context, intent);\n",
    "    }"
   ]
  },
  {
   "cell_type": "markdown",
   "id": "fd27b0dd-b84c-4629-b36f-569b55c5d99e",
   "metadata": {},
   "source": [
    "Możemy przetestować aplikację"
   ]
  },
  {
   "cell_type": "markdown",
   "id": "4f6f9a81-0833-4bb5-b3aa-76eb184a7f5e",
   "metadata": {},
   "source": [
    "<img src=\"https://media2.giphy.com/media/jCI4kz73h3KJEs0AJj/giphy.gif\" width=\"150\" />"
   ]
  },
  {
   "cell_type": "code",
   "execution_count": null,
   "id": "b7ab23fc-4e15-4f41-b642-8b5472f0af87",
   "metadata": {},
   "outputs": [],
   "source": []
  }
 ],
 "metadata": {
  "kernelspec": {
   "display_name": "Java",
   "language": "java",
   "name": "java"
  },
  "language_info": {
   "codemirror_mode": "java",
   "file_extension": ".jshell",
   "mimetype": "text/x-java-source",
   "name": "Java",
   "pygments_lexer": "java",
   "version": "17+35-2724"
  }
 },
 "nbformat": 4,
 "nbformat_minor": 5
}
