{
 "cells": [
  {
   "cell_type": "markdown",
   "id": "a217452e-dcb8-4b01-8257-430e9d712b1c",
   "metadata": {},
   "source": [
    "## 7.5 NotyApp"
   ]
  },
  {
   "cell_type": "markdown",
   "id": "c65e31c7-8854-49a2-ba91-990416ecdea9",
   "metadata": {},
   "source": [
    "Aplikacja będzie zawierać prostą listę notatek/zadań zapisaną w bazie danych `SQLite`. Lista będzie dostępna z poziomu `Widget` jak i w samej aplikacji. Przyjrzymy się jak zaimplemntować podstawowe elementy komunikacji między widgetem a naszą aplikacją, oraz jak aktualizować dane wyświetlane w `ListView` na `Widget`."
   ]
  },
  {
   "cell_type": "code",
   "execution_count": null,
   "id": "b7cf9a30-19e1-46eb-8f9f-55af7a02f6a9",
   "metadata": {},
   "outputs": [],
   "source": []
  },
  {
   "cell_type": "markdown",
   "id": "c8fb25e0-bcb1-46f4-b206-b7cf7e83bc22",
   "metadata": {},
   "source": [
    "### **Layout**"
   ]
  },
  {
   "cell_type": "markdown",
   "id": "31fbf76e-217e-4106-9716-b6e56ea9bc72",
   "metadata": {},
   "source": [
    "Rozpocznijmy od utworzenia layoutów dla samego widgetu oraz dla pojedynczego elementu `ListView` (podobnie jak w `RecyclerView`). Layout widgetu będzie składał się z samego `ListView` oraz pola `TextView`, które będzie wyświetlane gdy lista jest pusta"
   ]
  },
  {
   "cell_type": "code",
   "execution_count": null,
   "id": "3a1591b8-7bdb-426b-8853-7ce778ca1589",
   "metadata": {},
   "outputs": [],
   "source": [
    "// noty_widget_provider.xml\n",
    "<RelativeLayout xmlns:android=\"http://schemas.android.com/apk/res/android\"\n",
    "    style=\"@style/Widget.NotyJava.AppWidget.Container\"\n",
    "    android:layout_width=\"match_parent\"\n",
    "    android:layout_height=\"match_parent\"\n",
    "    android:theme=\"@style/Theme.NotyJava.AppWidgetContainer\">\n",
    "\n",
    "    <ListView\n",
    "        android:id=\"@+id/listViewWidget\"\n",
    "        android:layout_width=\"match_parent\"\n",
    "        android:layout_height=\"match_parent\"/>\n",
    "\n",
    "    <TextView\n",
    "        android:id=\"@+id/emptyViewTextView\"\n",
    "        android:layout_width=\"match_parent\"\n",
    "        android:layout_height=\"match_parent\"\n",
    "        android:textSize=\"20sp\"\n",
    "        android:text=\"lista jest pusta\"/>\n",
    "</RelativeLayout>"
   ]
  },
  {
   "cell_type": "markdown",
   "id": "e973340e-c363-443b-a8a5-67febea64ff4",
   "metadata": {},
   "source": [
    "Następnie dodajmy layout pojedynczego elementu listy - wstępnie będzie to tylko pole `TextView`"
   ]
  },
  {
   "cell_type": "code",
   "execution_count": null,
   "id": "74f5e962-181c-4250-b39d-33a267fc3cca",
   "metadata": {},
   "outputs": [],
   "source": [
    "// item_view.xml\n",
    "<RelativeLayout xmlns:android=\"http://schemas.android.com/apk/res/android\"\n",
    "    android:layout_width=\"match_parent\"\n",
    "    android:layout_height=\"wrap_content\">\n",
    "\n",
    "    <TextView\n",
    "        android:id=\"@+id/itemListTextView\"\n",
    "        android:layout_width=\"match_parent\"\n",
    "        android:layout_height=\"110dp\"\n",
    "        android:gravity=\"center\"\n",
    "        android:text=\"przykład długiego tekstu\"\n",
    "        android:background=\"@color/teal_200\"\n",
    "        android:textColor=\"@color/black\"/>\n",
    "\n",
    "</RelativeLayout>"
   ]
  },
  {
   "cell_type": "markdown",
   "id": "2bb64117-db9e-4e40-a594-323223e98332",
   "metadata": {},
   "source": [
    "Dodajmy opis widgetu do katalogu `xml`"
   ]
  },
  {
   "cell_type": "code",
   "execution_count": null,
   "id": "bfc45141-ea6f-43da-b59e-3aa8a6018b3e",
   "metadata": {},
   "outputs": [],
   "source": [
    "// noty_widget_provider_info.xml\n",
    "<appwidget-provider xmlns:android=\"http://schemas.android.com/apk/res/android\"\n",
    "    android:initialLayout=\"@layout/noty_widget_provider\"\n",
    "    android:minHeight=\"110dp\"\n",
    "    android:minResizeHeight=\"40dp\"\n",
    "    android:minWidth=\"110dp\"\n",
    "    android:resizeMode=\"vertical|horizontal\"\n",
    "    android:updatePeriodMillis=\"36000000\"\n",
    "    android:widgetCategory=\"home_screen\" />"
   ]
  },
  {
   "cell_type": "markdown",
   "id": "812b0903-be7f-43bb-b6bb-137e63f3861a",
   "metadata": {},
   "source": [
    "Wstępnie dane będziemy pobierać (jak zwykle) z `DataProvider`"
   ]
  },
  {
   "cell_type": "code",
   "execution_count": null,
   "id": "4b3dd4a6-3bb8-42fb-b0c4-7ef2a061f06e",
   "metadata": {},
   "outputs": [],
   "source": [
    "public final class DataProvider {\n",
    "    private DataProvider(){}\n",
    "\n",
    "    public static final String[] data = {\n",
    "        \"notatka 1\", \n",
    "        \"notatka 2\", \n",
    "        \"notatka 3\", \n",
    "        \"notatka 4\", \n",
    "        \"notatka 5\", \n",
    "        \"notatka 6\", \n",
    "        \"notatka 7\", \n",
    "        \"notatka 8\", \n",
    "        \"notatka 9\"};\n",
    "\n",
    "    public static ArrayList<String> dummyData = new ArrayList<>(Arrays.asList(data));\n",
    "}"
   ]
  },
  {
   "cell_type": "markdown",
   "id": "3a69e467-95cf-4c99-98c7-3f6cf7e1617f",
   "metadata": {},
   "source": [
    "### **RemoteViewsService**"
   ]
  },
  {
   "cell_type": "markdown",
   "id": "ec0d868c-4142-4181-9ed9-8ae37ddb83d0",
   "metadata": {},
   "source": [
    "Rozpoczniemy od implementacji odpowiedniej usługi - jest ona niezbędna ponieważ widget działa na kompletnie innym procesie i nie możemy się komunikować wprost. Klasa `RemoteViewsService` jest usługą, z którą widgety będą się łączyć aby adapter mógł otrzymać instancje `RemoteViews`"
   ]
  },
  {
   "cell_type": "code",
   "execution_count": null,
   "id": "438589ce-ad58-434e-93d2-596c3c67cf12",
   "metadata": {},
   "outputs": [],
   "source": [
    "public class NotyWidgetService extends RemoteViewsService {\n",
    "    @Override\n",
    "    public RemoteViewsFactory onGetViewFactory(Intent intent) {\n",
    "        return null;\n",
    "    }\n",
    "}"
   ]
  },
  {
   "cell_type": "markdown",
   "id": "b99f34c0-5e4f-43f5-8234-03d8b13a7f11",
   "metadata": {},
   "source": [
    "Musimy zaimplementować jedną metodę `onGetViewFactory`, która zwraca obiekt dostarczający dane. W tym celu zaimplementujemy klasę implementującą interfejs `RemoteViewsFactory` zawierającą szerego niezbędnych metod\n",
    "- `onCreate` - tutaj łączymy się z bazą danych, wywoływana zaraz po konstruktorze\n",
    "- `onDataSetChanged` - wywoływana gdy adapter wywołuje `notifyDataSetChanged`\n",
    "- `onDestroy` - wywoływana w momencie usunięcia powiązania z ostatnim adapterem\n",
    "- `getCount` - zwraca liczbę elementów w kolekcji\n",
    "- `getViewAt` - zwraca obiekt `View` powiązany z daną pozycją\n",
    "- `getLoadingView` - zezwala na załączenie własnego `View` dla ekranu ładowania\n",
    "- `getViewTypeCount` - zwraca liczbę **różnych** typów `View` wykorzystywanych przez adapter - w tym przykładzie będziemy wykorzystywać jeden typ\n",
    "- `getItemId` - zwraca identyfikator - tutaj będzie to odpowiednikiem rzędu na liście\n",
    "- `hasStableIds` - określa czy identyfikatory pozostają niezmienne przy zmianie powiązanych z nim danych"
   ]
  },
  {
   "cell_type": "code",
   "execution_count": null,
   "id": "563c89ca-c084-44e5-954a-0fbf6e25caaf",
   "metadata": {},
   "outputs": [],
   "source": [
    "static class NotyWidgetItemFactory implements RemoteViewsFactory {\n",
    "    \n",
    "            @Override\n",
    "        public void onCreate() {\n",
    "        }\n",
    "\n",
    "        @Override\n",
    "        public void onDataSetChanged() {\n",
    "\n",
    "        }\n",
    "\n",
    "        @Override\n",
    "        public void onDestroy() {\n",
    "        }\n",
    "\n",
    "        @Override\n",
    "        public int getCount() {\n",
    "        }\n",
    "\n",
    "        @Override\n",
    "        public RemoteViews getViewAt(int position) {\n",
    "\n",
    "        }\n",
    "\n",
    "        @Override\n",
    "        public RemoteViews getLoadingView() {\n",
    "            return null;\n",
    "        }\n",
    "\n",
    "        @Override\n",
    "        public int getViewTypeCount() {\n",
    "        }\n",
    "\n",
    "        @Override\n",
    "        public long getItemId(int position) {\n",
    "        }\n",
    "\n",
    "        @Override\n",
    "        public boolean hasStableIds() {\n",
    "        }"
   ]
  },
  {
   "cell_type": "markdown",
   "id": "5ce4ce2a-9daa-468c-8db4-c4c4295f0479",
   "metadata": {},
   "source": [
    "Rozpocznijmy od dodania kilku pól"
   ]
  },
  {
   "cell_type": "code",
   "execution_count": null,
   "id": "49d8b62b-013a-4c3e-9fab-f84b50a8ac1b",
   "metadata": {},
   "outputs": [],
   "source": [
    "private final Context context;\n",
    "private final int appWidgetId;\n",
    "private ArrayList<String> noteList;"
   ]
  },
  {
   "cell_type": "markdown",
   "id": "7be96154-0a0b-4dca-bfa5-47777c892244",
   "metadata": {},
   "source": [
    "Musimy również zaimplementować konstruktor w którym przekażemy `context` oraz `appWidgetId`"
   ]
  },
  {
   "cell_type": "code",
   "execution_count": null,
   "id": "07322d58-99a2-453b-904d-cfe8b6b0562f",
   "metadata": {},
   "outputs": [],
   "source": [
    "public NotyWidgetItemFactory(Context context, Intent intent){\n",
    "    this.context = context;\n",
    "    this.appWidgetId = intent.getIntExtra(AppWidgetManager.EXTRA_APPWIDGET_ID,\n",
    "            AppWidgetManager.INVALID_APPWIDGET_ID);\n",
    "}"
   ]
  },
  {
   "cell_type": "markdown",
   "id": "53ebd7b6-1f62-444f-885b-7966366d512f",
   "metadata": {},
   "source": [
    "- W metodzie `onCreate` zainicjujemy listę notatek - w pierwszej fazie będzie to lista z klasy `DataProvider`"
   ]
  },
  {
   "cell_type": "code",
   "execution_count": null,
   "id": "f27d2106-d628-4253-9f6c-68f92e1f8b8f",
   "metadata": {},
   "outputs": [],
   "source": [
    "@Override\n",
    "public void onCreate() {\n",
    "    noteList = DataProvider.dummyData;\n",
    "}"
   ]
  },
  {
   "cell_type": "markdown",
   "id": "ca499ddd-55dd-49b6-886d-4e2d20085c43",
   "metadata": {},
   "source": [
    "- `getCount` zwraca wielkość listy"
   ]
  },
  {
   "cell_type": "code",
   "execution_count": null,
   "id": "a0d642b7-9049-4fde-b6e8-0c7e27d168e5",
   "metadata": {},
   "outputs": [],
   "source": [
    "@Override\n",
    "public int getCount() {\n",
    "    return noteList.size();\n",
    "}"
   ]
  },
  {
   "cell_type": "markdown",
   "id": "78a0adb3-9181-4d86-adb7-b74ce8f3da2d",
   "metadata": {},
   "source": [
    "- W tym przykładzie będziemy wykorzystywać z domyślnego widoku ładowania, więc metoda zwraca `null`"
   ]
  },
  {
   "cell_type": "code",
   "execution_count": null,
   "id": "b41339fa-5e9a-453a-a7f0-e314900ad41d",
   "metadata": {},
   "outputs": [],
   "source": [
    "@Override\n",
    "public RemoteViews getLoadingView() {\n",
    "    return null;\n",
    "}"
   ]
  },
  {
   "cell_type": "markdown",
   "id": "bf722ff3-4fb4-45d4-a1c1-451164cd644b",
   "metadata": {},
   "source": [
    "- Posiadamy jeden typ `View`, więc zwracamy `1`"
   ]
  },
  {
   "cell_type": "code",
   "execution_count": null,
   "id": "44b3a3d8-d232-4721-ad8d-436aa111a807",
   "metadata": {},
   "outputs": [],
   "source": [
    "@Override\n",
    "public int getViewTypeCount() {\n",
    "    return 1;\n",
    "}"
   ]
  },
  {
   "cell_type": "markdown",
   "id": "46c5edf1-2ea3-4bf7-9863-fcac4896f71a",
   "metadata": {},
   "source": [
    "- ponieważ w pierwszej fazie będziemy korzystać tylko z listy, posłużymy się pozycją jako identyfikatorem"
   ]
  },
  {
   "cell_type": "code",
   "execution_count": null,
   "id": "91f98e39-77e1-4dfe-be65-72dbd8d37e06",
   "metadata": {},
   "outputs": [],
   "source": [
    "@Override\n",
    "public long getItemId(int position) {\n",
    "    return position;\n",
    "}"
   ]
  },
  {
   "cell_type": "markdown",
   "id": "51d37649-d61f-4cc5-9496-012387c5778a",
   "metadata": {},
   "source": [
    "- nasza kolekcja w tej chwili posiada stabilne `id`"
   ]
  },
  {
   "cell_type": "code",
   "execution_count": null,
   "id": "e96a1a56-3b07-435e-999f-fae7dd6dda69",
   "metadata": {},
   "outputs": [],
   "source": [
    "@Override\n",
    "public boolean hasStableIds() {\n",
    "    return true;\n",
    "}"
   ]
  },
  {
   "cell_type": "markdown",
   "id": "dee6a7fb-7e4e-4d1b-a9ac-861db214d507",
   "metadata": {},
   "source": [
    "- w metodzie `getViewAt` zwracamy odpowiedni obiekt"
   ]
  },
  {
   "cell_type": "code",
   "execution_count": null,
   "id": "33304ae3-46c2-447a-a91c-f6135a846896",
   "metadata": {},
   "outputs": [],
   "source": [
    "@Override\n",
    "public RemoteViews getViewAt(int position) {\n",
    "    RemoteViews remoteViews = new RemoteViews(context.getPackageName(), R.layout.item_list);\n",
    "    remoteViews.setTextViewText(R.id.itemListTextView, noteList.get(position));\n",
    "    return remoteViews;\n",
    "}"
   ]
  },
  {
   "cell_type": "markdown",
   "id": "0151099d-69e5-449e-9356-b90041154fab",
   "metadata": {},
   "source": [
    "Powracamy do klasy `NotyWidgetService` i w metodzie `onGetViewFactory` zwracamy instancję `NotyWidgetItemFactory`"
   ]
  },
  {
   "cell_type": "code",
   "execution_count": null,
   "id": "42f01dfd-1ae9-4f58-93df-41511d62f78c",
   "metadata": {},
   "outputs": [],
   "source": [
    "public class NotyWidgetService extends RemoteViewsService {\n",
    "\n",
    "    @Override\n",
    "    public RemoteViewsFactory onGetViewFactory(Intent intent) {\n",
    "        return new NotyWidgetItemFactory(getApplicationContext(), intent);\n",
    "    }\n",
    "    ...\n",
    "}"
   ]
  },
  {
   "cell_type": "markdown",
   "id": "95370d7a-4365-4819-a27d-a11cdd28e679",
   "metadata": {},
   "source": [
    "### **AppWidgetProvider**"
   ]
  },
  {
   "cell_type": "markdown",
   "id": "5f783792-95a4-4c7c-8d80-e9369a22f911",
   "metadata": {},
   "source": [
    "Drugim niezbędnym elementem będzie `AppWidgetProvider`"
   ]
  },
  {
   "cell_type": "code",
   "execution_count": null,
   "id": "18100124-3065-48bc-a683-580153215544",
   "metadata": {},
   "outputs": [],
   "source": [
    "public class NotyWidgetProvider extends AppWidgetProvider {\n",
    "    @Override\n",
    "    public void onUpdate(Context context, AppWidgetManager appWidgetManager, int[] appWidgetIds) {\n",
    "        super.onUpdate(context, appWidgetManager, appWidgetIds);\n",
    "    }\n",
    "}"
   ]
  },
  {
   "cell_type": "markdown",
   "id": "b146a35d-7ec5-498b-ad38-ea3ba51e555d",
   "metadata": {},
   "source": [
    "W metodzie `onUpdate` przechodzimy przez wszystkie instancje naszego widgetu"
   ]
  },
  {
   "cell_type": "code",
   "execution_count": null,
   "id": "d98d659a-9260-4969-a1dc-19db30056740",
   "metadata": {},
   "outputs": [],
   "source": [
    "for (int appWidgetId : appWidgetIds) {"
   ]
  },
  {
   "cell_type": "markdown",
   "id": "f76a0060-5c92-41fb-bac1-347b2a52164a",
   "metadata": {},
   "source": [
    "Tworzymy nowy `Intent` przekierowujący do usługi"
   ]
  },
  {
   "cell_type": "code",
   "execution_count": null,
   "id": "45c821ce-e6cf-4e2c-8d54-8632932b4078",
   "metadata": {},
   "outputs": [],
   "source": [
    "    Intent serviceIntent = new Intent(context, NotyWidgetService.class);"
   ]
  },
  {
   "cell_type": "markdown",
   "id": "60557662-5ccc-43bb-a30f-4d8b578ebb3e",
   "metadata": {},
   "source": [
    "następnie dodajmy `id` widgetu oraz wykorzystujemy metodę `setData` - metoda ta wskazuje lokalizację obiektu (przykładowo może być to plik)"
   ]
  },
  {
   "cell_type": "code",
   "execution_count": null,
   "id": "fbf4ffd1-5302-4349-becf-a908524726bc",
   "metadata": {},
   "outputs": [],
   "source": [
    "    serviceIntent.putExtra(AppWidgetManager.EXTRA_APPWIDGET_ID, appWidgetId);\n",
    "    serviceIntent.setData(Uri.parse(serviceIntent.toUri(Intent.URI_INTENT_SCHEME)));"
   ]
  },
  {
   "cell_type": "markdown",
   "id": "d45ef3a9-e0ee-45db-87b2-5de050b634c0",
   "metadata": {},
   "source": [
    "Tworzymy nasze `RemoteViews`"
   ]
  },
  {
   "cell_type": "code",
   "execution_count": null,
   "id": "cd27c434-b9be-4886-8de1-17e3fe943653",
   "metadata": {},
   "outputs": [],
   "source": [
    "    RemoteViews views = new RemoteViews(context.getPackageName(), R.layout.noty_widget_provider);"
   ]
  },
  {
   "cell_type": "markdown",
   "id": "94b50781-dfc9-48f9-a1d5-59826e2d462e",
   "metadata": {},
   "source": [
    "ustawiamy adapter i widok dla pustej kolekcji"
   ]
  },
  {
   "cell_type": "code",
   "execution_count": null,
   "id": "26bda4cb-4572-474b-b57b-a5b826fcfa63",
   "metadata": {},
   "outputs": [],
   "source": [
    "    views.setRemoteAdapter(R.id.listViewWidget, serviceIntent);\n",
    "    views.setEmptyView(R.id.listViewWidget, R.id.emptyViewTextView);"
   ]
  },
  {
   "cell_type": "markdown",
   "id": "01a17bf8-0dd2-4206-85d6-3fe33fbbfb9b",
   "metadata": {},
   "source": [
    "na koniec wywołujemy metodę `updateAppWidget`"
   ]
  },
  {
   "cell_type": "code",
   "execution_count": null,
   "id": "3f838257-6b63-4974-919a-6fbd0615bf7c",
   "metadata": {},
   "outputs": [],
   "source": [
    "    appWidgetManager.updateAppWidget(appWidgetId, views);"
   ]
  },
  {
   "cell_type": "markdown",
   "id": "85e7dd15-e917-4093-87c7-b62ec27a3cc4",
   "metadata": {},
   "source": [
    "Po wyjściu z pętli `for` wywołujemy metodę superklasy"
   ]
  },
  {
   "cell_type": "code",
   "execution_count": null,
   "id": "3bb628c9-d44f-4aa1-917d-bc1f416241b8",
   "metadata": {},
   "outputs": [],
   "source": [
    "    }\n",
    "    super.onUpdate(context, appWidgetManager, appWidgetIds);"
   ]
  },
  {
   "cell_type": "markdown",
   "id": "5e757503-9ec5-4d70-94a9-73191fa47dfb",
   "metadata": {},
   "source": [
    "Pełny kod klasy `NotyWidgetProvider`"
   ]
  },
  {
   "cell_type": "code",
   "execution_count": null,
   "id": "fddf9551-71a6-42fb-a503-3f3cc57e2f0d",
   "metadata": {},
   "outputs": [],
   "source": [
    "public class NotyWidgetProvider extends AppWidgetProvider {\n",
    "    @Override\n",
    "    public void onUpdate(Context context, AppWidgetManager appWidgetManager, int[] appWidgetIds) {\n",
    "        for (int appWidgetId : appWidgetIds) {\n",
    "\n",
    "            Intent serviceIntent = new Intent(context, NotyWidgetService.class);\n",
    "            serviceIntent.putExtra(AppWidgetManager.EXTRA_APPWIDGET_ID, appWidgetId);\n",
    "            serviceIntent.setData(Uri.parse(serviceIntent.toUri(Intent.URI_INTENT_SCHEME)));\n",
    "\n",
    "            RemoteViews views = new RemoteViews(context.getPackageName(), R.layout.noty_widget_provider);\n",
    "            views.setRemoteAdapter(R.id.listViewWidget, serviceIntent);\n",
    "            views.setEmptyView(R.id.listViewWidget, R.id.emptyViewTextView);\n",
    "            appWidgetManager.updateAppWidget(appWidgetId, views);\n",
    "        }\n",
    "        super.onUpdate(context, appWidgetManager, appWidgetIds);\n",
    "    }\n",
    "}"
   ]
  },
  {
   "cell_type": "markdown",
   "id": "df6ca04f-6065-4d52-87d3-94d07468a0bc",
   "metadata": {},
   "source": [
    "Do `AndroidManifest` musimy wprowadzić informacje o naszym providerze oraz service."
   ]
  },
  {
   "cell_type": "code",
   "execution_count": null,
   "id": "8955d91f-98ff-4c5f-8b75-3cd1c95f6d12",
   "metadata": {},
   "outputs": [],
   "source": [
    "<receiver\n",
    "    android:name=\".provider.NotyWidgetProvider\"\n",
    "    android:exported=\"false\">\n",
    "    <intent-filter>\n",
    "        <action android:name=\"android.appwidget.action.APPWIDGET_UPDATE\" />\n",
    "    </intent-filter>\n",
    "\n",
    "    <meta-data\n",
    "        android:name=\"android.appwidget.provider\"\n",
    "        android:resource=\"@xml/noty_widget_provider_info\" />\n",
    "</receiver>\n",
    "\n",
    "<service\n",
    "    android:name=\".service.NotyWidgetService\"\n",
    "    android:permission=\"android.permission.BIND_REMOTEVIEWS\" />"
   ]
  },
  {
   "cell_type": "markdown",
   "id": "fb9e4a6f-0001-4d6c-84c7-51c4043a528e",
   "metadata": {},
   "source": [
    "Możemy przetestować aplikację i widget."
   ]
  },
  {
   "cell_type": "markdown",
   "id": "5a6105e6-4d94-4e8c-9396-8803c3e4944e",
   "metadata": {},
   "source": [
    "<table><tr><td><img src=\"https://media2.giphy.com/media/U0lFKx7L0xtZHrpaLQ/giphy.gif?cid=790b76119fc11ce6d16c4ba7009680f1447b35e164c8012a&rid=giphy.gif&ct=g\" width=\"150\" /></td><td><img src=\"https://media2.giphy.com/media/1BNcJ99feU4EosbU19/giphy.gif?cid=790b76117e6f80ef480e50e651e2e981d067cfeb27c6e32c&rid=giphy.gif&ct=g\" width=\"150\" /></td</tr></table>"
   ]
  },
  {
   "cell_type": "code",
   "execution_count": null,
   "id": "c10bdf28-0ac5-4ff7-b780-7be827b02c94",
   "metadata": {},
   "outputs": [],
   "source": []
  }
 ],
 "metadata": {
  "kernelspec": {
   "display_name": "Java",
   "language": "java",
   "name": "java"
  },
  "language_info": {
   "codemirror_mode": "java",
   "file_extension": ".jshell",
   "mimetype": "text/x-java-source",
   "name": "Java",
   "pygments_lexer": "java",
   "version": "17+35-2724"
  }
 },
 "nbformat": 4,
 "nbformat_minor": 5
}
