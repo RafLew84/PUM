{
 "cells": [
  {
   "cell_type": "markdown",
   "id": "6e918c34-3b80-43cd-82cb-0a3a66f5a652",
   "metadata": {},
   "source": [
    "## 7.4 GalleryApp"
   ]
  },
  {
   "cell_type": "markdown",
   "id": "f663528f-231f-4072-8379-d2195cea6a3e",
   "metadata": {},
   "source": [
    "W tej aplikacji utworzymy prostą aplikację pełniącą rolę galerii zdjęć wykonanych aparatem. Będzie ona zawierać upoważnienia, bazę danych `SQLite`, dane będziemy wyświetlać w `RecyclerView`, obsługa aparatu odbędzie się za pomocą `Implicit Intent` - czyli otworzymy aplikację obsługującą aparat, wykonamy zdjęcie i prześlemy je do naszej aplikacji, następnie dodamy je do bazy danych i wyświetlimy w `RecyclerView`. Aplikacja będzie zawierać `Jetpack Navigation` oraz `Bottom Navigation`."
   ]
  },
  {
   "cell_type": "markdown",
   "id": "e2492835-9f33-4eba-8884-6ad8dc60a2c4",
   "metadata": {},
   "source": [
    "<table><tr><td><img src=\"https://media0.giphy.com/media/G5SmlOFRHlILBw9R0p/giphy.gif?cid=790b7611e3c8a0777e1e09d8e312633955f2b237e8abe275&rid=giphy.gif&ct=g\" width=\"200\" /></td><td><img src=\"https://media2.giphy.com/media/WxnetLg3yS6HddItSS/giphy.gif?cid=790b76112cb28038325c4acc25284dfa06b0788beca930d1&rid=giphy.gif&ct=g\" width=\"200\" /></td><td><img src=\"https://media0.giphy.com/media/oHuY0UmB6ZQY7Q7h31/giphy.gif?cid=790b7611d9bf36c59e0682886abc760a9fbec4b5db0f4f2e&rid=giphy.gif&ct=g\" width=\"200\" /></td></tr></table>"
   ]
  },
  {
   "cell_type": "markdown",
   "id": "787348cf-1bb4-4a12-abaa-c7fbb1459914",
   "metadata": {},
   "source": [
    "### **Bottom Navigation**"
   ]
  },
  {
   "cell_type": "markdown",
   "id": "60b9573a-e1ad-4375-9ca8-ce6bb98c9e1b",
   "metadata": {},
   "source": [
    "Rozpocznijmy od dodania dwóch fragmentów oraz nawigacji. Dodajmy dwa puste fragmenty `GalleryFragment` oraz `AddPictureFragment` oraz `navigation`"
   ]
  },
  {
   "cell_type": "code",
   "execution_count": null,
   "id": "3ef2362c-5741-4697-997a-fccff237ff86",
   "metadata": {},
   "outputs": [],
   "source": [
    "<navigation xmlns:android=\"http://schemas.android.com/apk/res/android\"\n",
    "    xmlns:app=\"http://schemas.android.com/apk/res-auto\"\n",
    "    xmlns:tools=\"http://schemas.android.com/tools\"\n",
    "    android:id=\"@+id/navigation\"\n",
    "    app:startDestination=\"@id/galleryFragment\">\n",
    "\n",
    "    <fragment\n",
    "        android:id=\"@+id/addPictureFragment\"\n",
    "        android:name=\"pl.udu.uwr.pum.galleryappjava.fragments.AddPictureFragment\"\n",
    "        android:label=\"fragment_add_picture\"\n",
    "        tools:layout=\"@layout/fragment_add_picture\" />\n",
    "    <fragment\n",
    "        android:id=\"@+id/galleryFragment\"\n",
    "        android:name=\"pl.udu.uwr.pum.galleryappjava.fragments.GalleryFragment\"\n",
    "        android:label=\"fragment_gallery\"\n",
    "        tools:layout=\"@layout/fragment_gallery\" />\n",
    "</navigation>"
   ]
  },
  {
   "cell_type": "markdown",
   "id": "d016b6d3-28fb-451d-84fa-2982af7f8b76",
   "metadata": {},
   "source": [
    "`GalleryFragment` ustawiamy jako domowy. Następnie dodajmy `menu` dla `Bottom Navigation`"
   ]
  },
  {
   "cell_type": "code",
   "execution_count": null,
   "id": "7fa13eed-d949-4195-b6f5-f12812fdc0ca",
   "metadata": {},
   "outputs": [],
   "source": [
    "<menu xmlns:android=\"http://schemas.android.com/apk/res/android\">\n",
    "    <item\n",
    "        android:id=\"@id/galleryFragment\"\n",
    "        android:icon=\"@drawable/ic_gallery\"\n",
    "        android:title=\"Gallery\" />\n",
    "    <item\n",
    "        android:id=\"@id/addPictureFragment\"\n",
    "        android:icon=\"@drawable/ic_add\"\n",
    "        android:title=\"Add\" />\n",
    "</menu>"
   ]
  },
  {
   "cell_type": "markdown",
   "id": "37585eb0-0344-4af6-9b1c-69b088f9bfa0",
   "metadata": {},
   "source": [
    "Dodajmy `FragmentContainer` i `BottomNavigationView` do layoutu głównej aktywności"
   ]
  },
  {
   "cell_type": "code",
   "execution_count": null,
   "id": "8c47f770-cf79-4a8b-919c-b7ff3a7ed024",
   "metadata": {},
   "outputs": [],
   "source": [
    "<LinearLayout xmlns:android=\"http://schemas.android.com/apk/res/android\"\n",
    "    xmlns:tools=\"http://schemas.android.com/tools\"\n",
    "    xmlns:app=\"http://schemas.android.com/apk/res-auto\"\n",
    "    android:layout_width=\"match_parent\"\n",
    "    android:layout_height=\"match_parent\"\n",
    "    android:orientation=\"vertical\"\n",
    "    tools:context=\".MainActivity\">\n",
    "\n",
    "    <androidx.fragment.app.FragmentContainerView\n",
    "        android:id=\"@+id/nav_host_fragment\"\n",
    "        android:name=\"androidx.navigation.fragment.NavHostFragment\"\n",
    "        android:layout_width=\"match_parent\"\n",
    "        android:layout_height=\"0dp\"\n",
    "        android:layout_weight=\"1\"\n",
    "        app:defaultNavHost=\"true\"\n",
    "        app:navGraph=\"@navigation/navigation\"/>\n",
    "\n",
    "    <com.google.android.material.bottomnavigation.BottomNavigationView\n",
    "        android:id=\"@+id/bottom_nav_view\"\n",
    "        android:layout_width=\"match_parent\"\n",
    "        android:layout_height=\"wrap_content\"\n",
    "        app:menu=\"@menu/bottom_menu\" />\n",
    "\n",
    "</LinearLayout>"
   ]
  },
  {
   "cell_type": "markdown",
   "id": "a33a60b4-40ba-4e24-87e5-83d484adec69",
   "metadata": {},
   "source": [
    "Przejdźmy do `MainActivity` i połączmy nawigację"
   ]
  },
  {
   "cell_type": "code",
   "execution_count": null,
   "id": "e0b029db-328b-4db5-87e3-a5a976b262a9",
   "metadata": {},
   "outputs": [],
   "source": [
    "public class MainActivity extends AppCompatActivity {\n",
    "\n",
    "    @Override\n",
    "    protected void onCreate(Bundle savedInstanceState) {\n",
    "        super.onCreate(savedInstanceState);\n",
    "        ActivityMainBinding binding = ActivityMainBinding.inflate(getLayoutInflater());\n",
    "        setContentView(binding.getRoot());\n",
    "\n",
    "        NavHostFragment navHostFragment = (NavHostFragment) getSupportFragmentManager()\n",
    "                .findFragmentById(R.id.nav_host_fragment);\n",
    "        if (navHostFragment != null) {\n",
    "            NavController navController = NavHostFragment.findNavController(navHostFragment);\n",
    "            NavigationUI.setupWithNavController(binding.bottomNavView, navController);\n",
    "        }\n",
    "    }\n",
    "}"
   ]
  },
  {
   "cell_type": "markdown",
   "id": "97e60e4e-a5b0-4ba2-8964-33763be73057",
   "metadata": {},
   "source": [
    "### **Permission**"
   ]
  },
  {
   "cell_type": "markdown",
   "id": "00699fb3-26db-4ed4-9f97-37338769d67b",
   "metadata": {},
   "source": [
    "Dodajmy upoważnienie na wykorzystanie aparatu do aplikacji. Przejdźmy do `AndroidManifest.xml` i dodajmy odpowiedni wpis"
   ]
  },
  {
   "cell_type": "code",
   "execution_count": null,
   "id": "d63e7ef3-f323-4ddf-85b4-ba04cbac8d69",
   "metadata": {},
   "outputs": [],
   "source": [
    "<uses-permission android:name=\"android.permission.CAMERA\" />"
   ]
  },
  {
   "cell_type": "markdown",
   "id": "c4380096-ded6-4393-af13-10b8fb9e8f91",
   "metadata": {},
   "source": [
    "W layoucie `AddPictureFragment` dodamy dwa przyciski odpowiedzialne za wykonanie zdjęcia (sprawdzenie upoważnienia oraz otworzenie aplikacji obsługującej aparat) oraz za zapis do bazy danych. Mamy również `EditText` w który będziemy wpisywać tytuł zdjęcia oraz `ImageView` do którego będziemy przekazywać wykonane zdjęcie."
   ]
  },
  {
   "cell_type": "code",
   "execution_count": null,
   "id": "3195c0f1-bc39-4f5d-8168-d1fd9f0ca4c7",
   "metadata": {},
   "outputs": [],
   "source": [
    "<LinearLayout xmlns:android=\"http://schemas.android.com/apk/res/android\"\n",
    "    xmlns:app=\"http://schemas.android.com/apk/res-auto\"\n",
    "    xmlns:tools=\"http://schemas.android.com/tools\"\n",
    "    android:layout_width=\"match_parent\"\n",
    "    android:layout_height=\"match_parent\"\n",
    "    android:orientation=\"vertical\">\n",
    "\n",
    "    <EditText\n",
    "        android:id=\"@+id/edit_text_title\"\n",
    "        android:layout_width=\"match_parent\"\n",
    "        android:layout_height=\"wrap_content\"\n",
    "        android:layout_margin=\"20dp\"\n",
    "        android:textSize=\"24sp\"\n",
    "        android:hint=\"Title\"\n",
    "        android:inputType=\"textCapWords\"\n",
    "        android:autofillHints=\"title\" />\n",
    "\n",
    "    <LinearLayout\n",
    "        android:layout_width=\"wrap_content\"\n",
    "        android:layout_height=\"0dp\"\n",
    "        android:layout_weight=\"1\"\n",
    "        android:gravity=\"center\"\n",
    "        android:layout_gravity=\"center\"\n",
    "        android:orientation=\"vertical\">\n",
    "\n",
    "        <ImageView\n",
    "            android:id=\"@+id/image_view_picture\"\n",
    "            android:layout_width=\"300dp\"\n",
    "            android:layout_height=\"300dp\"\n",
    "            android:layout_margin=\"40dp\"\n",
    "            android:contentDescription=\"picture\" />\n",
    "\n",
    "    </LinearLayout>\n",
    "\n",
    "    <LinearLayout\n",
    "        android:layout_width=\"match_parent\"\n",
    "        android:layout_height=\"wrap_content\"\n",
    "        android:orientation=\"horizontal\">\n",
    "\n",
    "    <Button\n",
    "        android:id=\"@+id/button_camera\"\n",
    "        android:layout_width=\"0dp\"\n",
    "        android:layout_weight=\"1\"\n",
    "        android:layout_margin=\"25dp\"\n",
    "        android:layout_height=\"wrap_content\"\n",
    "        android:layout_gravity=\"center\"\n",
    "        android:text=\"otwórz aparat\"\n",
    "        android:gravity=\"center\"/>\n",
    "\n",
    "    <Button\n",
    "        android:id=\"@+id/button_save_picture\"\n",
    "        android:layout_width=\"0dp\"\n",
    "        android:layout_weight=\"1\"\n",
    "        android:layout_height=\"wrap_content\"\n",
    "        android:layout_margin=\"25dp\"\n",
    "        android:gravity=\"center\"\n",
    "        android:layout_gravity=\"center\"\n",
    "        android:text=\"zapisz\"/>\n",
    "    </LinearLayout>\n",
    "</LinearLayout>"
   ]
  },
  {
   "cell_type": "markdown",
   "id": "86bc2f0c-4695-40e4-b2d8-42a678b3ec4b",
   "metadata": {},
   "source": [
    "Przy naciśnięciu przycisku **zapisz** wpierw sprawdzimy czy aplikacja posiada uprawnienie, następnie wyślemy odpowiedni `Intent`. W pierwszym kroku dodajmy `ViewBinding`"
   ]
  },
  {
   "cell_type": "code",
   "execution_count": null,
   "id": "af74f734-ba71-4733-aa81-7c37e3eecc6c",
   "metadata": {},
   "outputs": [],
   "source": [
    "private FragmentAddPictureBinding binding;\n",
    "\n",
    "@Override\n",
    "public View onCreateView(@NonNull LayoutInflater inflater, ViewGroup container,\n",
    "                         Bundle savedInstanceState) {\n",
    "    binding = FragmentAddPictureBinding.inflate(inflater, container, false);\n",
    "    return binding.getRoot();\n",
    "}"
   ]
  },
  {
   "cell_type": "markdown",
   "id": "9ba4194b-35b3-4bba-b6ab-16a0fa27e361",
   "metadata": {},
   "source": [
    "Zacznijmy od dwóch `ActivityResultLauncher`\n",
    "- `requestCameraPermissionLauncher` - implementuje metodę `RequestPermission`, wykorzystamy do otworzenia dialogu z możliwością udzielenia upoważnienia\n",
    "- `resultLauncherCamera` - implementacja metody `StartActivityForResult`, wykorzystamy przy wysłaniu intentu z żądaniem wykonania zdjęcia - dzięki tej metodzie możemy obsłużyć wartość zwrotną."
   ]
  },
  {
   "cell_type": "code",
   "execution_count": null,
   "id": "1f96653e-da34-44ca-893c-6e19e09e36a6",
   "metadata": {},
   "outputs": [],
   "source": [
    "ActivityResultLauncher<String> requestCameraPermissionLauncher = registerForActivityResult(\n",
    "        new ActivityResultContracts.RequestPermission(), isGranted -> {\n",
    "            if (isGranted) {\n",
    "                launchCamera();\n",
    "            }\n",
    "        });"
   ]
  },
  {
   "cell_type": "markdown",
   "id": "dc44405e-bec2-488c-b652-42dedd5b8f71",
   "metadata": {},
   "source": [
    "Jeżeli posiadamy odpowiednie upoważnienie wykonujemy metodę `launchCamera`, którą zaimplementujemy nieco później.\n",
    "\n",
    "Teraz przejdźmy do `resultLauncherCamera`"
   ]
  },
  {
   "cell_type": "code",
   "execution_count": null,
   "id": "076fdc6a-d5e8-4b7d-99a7-453559ba43b7",
   "metadata": {},
   "outputs": [],
   "source": [
    "ActivityResultLauncher<Intent> resultLauncherCamera = registerForActivityResult(\n",
    "        new ActivityResultContracts.StartActivityForResult(),\n",
    "        result -> {});"
   ]
  },
  {
   "cell_type": "markdown",
   "id": "2fc42a97-4141-4986-858b-d6ef64ed014a",
   "metadata": {},
   "source": [
    "Jeżeli zdjęcie zostanie wykonane prawidłowo i dostaniemy dane zwrotne (sprawdzamy w warunku), odbieramy dane za pomocą `Intent`"
   ]
  },
  {
   "cell_type": "code",
   "execution_count": null,
   "id": "40e651a7-ad71-400a-a486-691cd2b46921",
   "metadata": {},
   "outputs": [],
   "source": [
    "if (result.getResultCode() == Activity.RESULT_OK) {\n",
    "    Intent data = result.getData();"
   ]
  },
  {
   "cell_type": "markdown",
   "id": "caac50bd-c640-43a3-82b2-5d877f23c6bc",
   "metadata": {},
   "source": [
    "Następnie musimy je rozpakować, dane w tym przypadku otrzymujemy w postaci `Bitmap`"
   ]
  },
  {
   "cell_type": "code",
   "execution_count": null,
   "id": "2868b647-f874-4d96-9253-e78718535ae5",
   "metadata": {},
   "outputs": [],
   "source": [
    "if (result.getResultCode() == Activity.RESULT_OK) {\n",
    "    Intent data = result.getData();\n",
    "    Bitmap imageBitmap;\n",
    "    if (data != null) {\n",
    "        imageBitmap = (Bitmap) data.getExtras().get(\"data\");\n",
    "        binding.imageViewPicture.setImageBitmap(imageBitmap);\n",
    "    }\n",
    "}"
   ]
  },
  {
   "cell_type": "markdown",
   "id": "59557035-fc0f-4a18-9ab2-c9aba02f7bc3",
   "metadata": {},
   "source": [
    "Klucz \"data\", wykorzystany w metodzie `get` jest standardową nazwą nadaną automatycznie. Następnie ustawiamy otrzymaną bitmapę na `ImageView` za pomocą metody `setImageBitmap`. \n",
    "\n",
    "Dodajmy metodę `openCamera`, którą wywołamy jako `onClick` przycisku wykonującego zdjęcie. Mamy trzy możliwości\n",
    "- upoważnienie zostało nadane - wywołujemy metodę `launchCamera`\n",
    "- upoważnienie zostało odrzucone - pokazujemy `Rationale`\n",
    "- aplikacja jest świeżo zainstalowana i włączona pierwszy raz - pokazujemy dialog z możliwością nadania upoważnienia\n",
    "\n",
    "Te trzy opcje chcemy obsłużyć"
   ]
  },
  {
   "cell_type": "code",
   "execution_count": null,
   "id": "2f129239-532b-4495-a9d1-e84fc5f5bbec",
   "metadata": {},
   "outputs": [],
   "source": [
    "private void openCamera(){\n",
    "    if (ContextCompat.checkSelfPermission(requireContext(), Manifest.permission.CAMERA)\n",
    "            == PackageManager.PERMISSION_GRANTED )\n",
    "        launchCamera(); // włączam aplikację przez implicit intent\n",
    "    else if (ActivityCompat.shouldShowRequestPermissionRationale(requireActivity(), \n",
    "                                                                 Manifest.permission.CAMERA))\n",
    "        showMessageOKCancel(getString(R.string.rationale_camera)); // Rationale\n",
    "    else\n",
    "        requestCameraPermissionLauncher.launch(Manifest.permission.CAMERA); // proszę o upoważnienie\n",
    "}"
   ]
  },
  {
   "cell_type": "markdown",
   "id": "a72895cb-bc11-405c-aa89-1309b146135d",
   "metadata": {},
   "source": [
    "Dodajmy implementację metody `showMessageOkCancel`"
   ]
  },
  {
   "cell_type": "code",
   "execution_count": null,
   "id": "284884fb-06b7-4877-a4e5-33be8db152bc",
   "metadata": {},
   "outputs": [],
   "source": [
    "private void showMessageOKCancel(String message) {\n",
    "    new AlertDialog.Builder(requireContext())\n",
    "            .setMessage(message)\n",
    "            .setPositiveButton(\"OK\", (dialog, which) -> {  // jeżeli ok proszę o upoważnienie\n",
    "                requestCameraPermissionLauncher.launch(Manifest.permission.CAMERA);\n",
    "                dialog.dismiss();\n",
    "            })\n",
    "            .setNegativeButton(\"Cancel\", null) // jeżeli nie to nic nie robię\n",
    "            .create()\n",
    "            .show();\n",
    "}"
   ]
  },
  {
   "cell_type": "markdown",
   "id": "5c5bc425-ca03-4936-a470-582daf1eedb2",
   "metadata": {},
   "source": [
    "Pozostaje metoda `launchCamera` wysyłająca intent z prośbą o wykonanie zdjęcia"
   ]
  },
  {
   "cell_type": "code",
   "execution_count": null,
   "id": "099250aa-a681-4286-888e-d0dfcd118a64",
   "metadata": {},
   "outputs": [],
   "source": [
    "private void launchCamera(){\n",
    "    Intent intent = new Intent(MediaStore.ACTION_IMAGE_CAPTURE);\n",
    "    resultLauncherCamera.launch(intent);\n",
    "}"
   ]
  },
  {
   "cell_type": "markdown",
   "id": "acddb444-2a6a-4212-9ab7-4dc8e9333de7",
   "metadata": {},
   "source": [
    "Dodajmy obsługę przycisku `buttonCamera` w metodzie `onViewCreated`"
   ]
  },
  {
   "cell_type": "code",
   "execution_count": null,
   "id": "1bc31e88-adfc-47b1-84a2-6cefd324089d",
   "metadata": {},
   "outputs": [],
   "source": [
    "binding.buttonCamera.setOnClickListener(v -> {\n",
    "    openCamera();\n",
    "});"
   ]
  },
  {
   "cell_type": "markdown",
   "id": "0b83c7bc-7850-49ae-a08b-8fafbe682992",
   "metadata": {},
   "source": [
    "### **Zapis do bazy**"
   ]
  },
  {
   "cell_type": "markdown",
   "id": "d9bfc380-4fd6-448d-a6b3-563a5298bd6a",
   "metadata": {},
   "source": [
    "W następnym kroku zapiszemy zdjęcie w bazie danych, rozpocznijmy od określenia modelu danych"
   ]
  },
  {
   "cell_type": "code",
   "execution_count": null,
   "id": "cc55dc68-8d98-470f-b178-aa2c6039fa75",
   "metadata": {},
   "outputs": [],
   "source": [
    "public class PictureModel {\n",
    "    private int id = 0;\n",
    "    private final String title;\n",
    "    private final String image;\n",
    "\n",
    "    public PictureModel(String title, String image) {\n",
    "        this.title = title;\n",
    "        this.image = image;\n",
    "    }\n",
    "\n",
    "    public PictureModel(int id, String title, String image){\n",
    "        this(title, image);\n",
    "        this.id = id;\n",
    "    }\n",
    "\n",
    "    public String getTitle() {\n",
    "        return title;\n",
    "    }\n",
    "\n",
    "    public String getImage() {\n",
    "        return image;\n",
    "    }\n",
    "}"
   ]
  },
  {
   "cell_type": "markdown",
   "id": "5b643861-b7ce-4ac4-a484-6e931659107e",
   "metadata": {},
   "source": [
    "Będziemy przechowywać nazwę zdjęcia i jego ścieżkę dostępu jako `String`. Przejdźmy do klasy `DBHandler`. Dodajmy podstawowe metody i pola"
   ]
  },
  {
   "cell_type": "code",
   "execution_count": null,
   "id": "82eb3539-9b0d-42d7-8d02-dc24f21d8f16",
   "metadata": {},
   "outputs": [],
   "source": [
    "public class DBHandler extends SQLiteOpenHelper {\n",
    "\n",
    "    private static final int DATABASE_VERSION = 1;\n",
    "    private static final String DATABASE_NAME = \"galleryDBJava\";\n",
    "    private static final String TABLE_GALLERY = \"GalleryTablString\";\n",
    "\n",
    "    private static final String KEY_ID = \"_id\";\n",
    "    private static final String KEY_TITLE = \"title\";\n",
    "    private static final String KEY_IMAGE = \"image\";\n",
    "\n",
    "    public DBHandler(@Nullable Context context){\n",
    "        super(context, DATABASE_NAME, null, DATABASE_VERSION);\n",
    "    }\n",
    "\n",
    "    @Override\n",
    "    public void onCreate(SQLiteDatabase db) {\n",
    "        String CREATE_GALLERY_TABLE = \"CREATE TABLE \" +\n",
    "                TABLE_GALLERY +\n",
    "                \"(\" +\n",
    "                KEY_ID + \" \" +\n",
    "                \"INTEGER PRIMARY KEY,\" +\n",
    "                KEY_TITLE +\n",
    "                \" TEXT,\" +\n",
    "                KEY_IMAGE +\n",
    "                \" TEXT\" +\n",
    "                \")\";\n",
    "\n",
    "        db.execSQL(CREATE_GALLERY_TABLE);\n",
    "    }\n",
    "\n",
    "    @Override\n",
    "    public void onUpgrade(SQLiteDatabase db, int oldVersion, int newVersion) {\n",
    "        db.execSQL(\"DROP TABLE IF EXISTS \" + TABLE_GALLERY);\n",
    "        onCreate(db);\n",
    "    }\n",
    "}"
   ]
  },
  {
   "cell_type": "markdown",
   "id": "d883ccb0-2874-49ae-9353-856c352b3d93",
   "metadata": {},
   "source": [
    "Następnie dodajmy metodę dodającą wpis do bazy"
   ]
  },
  {
   "cell_type": "code",
   "execution_count": null,
   "id": "561d37ea-50e3-45c5-93c3-ed520774ac45",
   "metadata": {},
   "outputs": [],
   "source": [
    "public long addToGallery(PictureModel singleItem){\n",
    "    SQLiteDatabase db = this.getWritableDatabase();\n",
    "\n",
    "    ContentValues contentValues = new ContentValues();\n",
    "    contentValues.put(KEY_TITLE, singleItem.getTitle());\n",
    "    contentValues.put(KEY_IMAGE, singleItem.getImage());\n",
    "\n",
    "    long result = db.insert(TABLE_GALLERY, null, contentValues);\n",
    "    db.close();\n",
    "    return result;\n",
    "}"
   ]
  },
  {
   "cell_type": "markdown",
   "id": "73e67806-a946-4fb0-941a-7df8d4c5500d",
   "metadata": {},
   "source": [
    "Zmienna `result` posłuży do określenia poprawności wykonania operacji.\n",
    "\n",
    "Drugą metodą będzie `getAllItems` zwracająca listę wszystkich elementów, lub pustą listę"
   ]
  },
  {
   "cell_type": "code",
   "execution_count": null,
   "id": "fcad358c-92e7-4469-a9a0-579fe14c20ad",
   "metadata": {},
   "outputs": [],
   "source": [
    "public ArrayList<PictureModel> getAllItems(){\n",
    "    ArrayList<PictureModel> itemList = new ArrayList<>();\n",
    "\n",
    "    String selectQuery = \"SELECT * FROM \" + TABLE_GALLERY;\n",
    "\n",
    "    SQLiteDatabase db = this.getReadableDatabase();\n",
    "\n",
    "    try{\n",
    "        Cursor cursor = db.rawQuery(selectQuery, null);\n",
    "        if(cursor.moveToFirst()){\n",
    "            do{\n",
    "                PictureModel place = new PictureModel(\n",
    "                        cursor.getInt(0),\n",
    "                        cursor.getString(1),\n",
    "                        cursor.getString(2)\n",
    "                );\n",
    "                itemList.add(place);\n",
    "            } while (cursor.moveToNext());\n",
    "        }\n",
    "        cursor.close();\n",
    "    } catch (SQLiteException e){\n",
    "        e.printStackTrace();\n",
    "        return new ArrayList<>();\n",
    "    }\n",
    "    return itemList;\n",
    "}"
   ]
  },
  {
   "cell_type": "markdown",
   "id": "9f8721a0-a7e2-4130-b8c8-8b18c11478b2",
   "metadata": {},
   "source": [
    "Wróćmy do klasy `AddPictureFragment` - chcemy zapisać ścieżkę dostępu do pliku, więc zdefiniujmy zmienną `Uri`"
   ]
  },
  {
   "cell_type": "code",
   "execution_count": null,
   "id": "de97c745-9495-47e7-8dc2-e4df91ac63d3",
   "metadata": {},
   "outputs": [],
   "source": [
    "private Uri pictureAbsolutePath;"
   ]
  },
  {
   "cell_type": "markdown",
   "id": "f9ad7845-4211-42e4-ba4a-7dbc37295f1d",
   "metadata": {},
   "source": [
    "W obsłudze `buttonSavePicture` wpierw obsłużmy błędy, w tym celu zdefiniujmy metodę `checkForErrors`"
   ]
  },
  {
   "cell_type": "code",
   "execution_count": null,
   "id": "ceec0450-e84b-42fc-8833-6bede667e946",
   "metadata": {},
   "outputs": [],
   "source": [
    "private boolean checkForErrors(){\n",
    "    if (binding.editTextTitle.getText().toString().isEmpty())\n",
    "        return true;\n",
    "    return pictureAbsolutePath == null;\n",
    "}"
   ]
  },
  {
   "cell_type": "markdown",
   "id": "b514f71e-2991-4cf6-8140-23c49b928402",
   "metadata": {},
   "source": [
    "Wyświetlimy `Toast` jeżeli pojawią się błędy"
   ]
  },
  {
   "cell_type": "code",
   "execution_count": null,
   "id": "6268a049-c512-4103-a901-d9340c9a93fe",
   "metadata": {},
   "outputs": [],
   "source": [
    "binding.buttonSavePicture.setOnClickListener(v -> {\n",
    "    if (checkForErrors())\n",
    "        Toast.makeText(\n",
    "        getContext(), \n",
    "        getString(R.string.error_imageView), \n",
    "        Toast.LENGTH_LONG\n",
    "    ).show();"
   ]
  },
  {
   "cell_type": "markdown",
   "id": "3ecd2a0b-c6b3-414e-9590-8a27b331746a",
   "metadata": {},
   "source": [
    "W przeciwnym razie tworzymy nowy wpis na podstawie zdefiniowanego modelu"
   ]
  },
  {
   "cell_type": "code",
   "execution_count": null,
   "id": "ba55d0d7-e06c-4d53-8ed8-9e9b6beec2f1",
   "metadata": {},
   "outputs": [],
   "source": [
    "    else {\n",
    "            PictureModel item = new PictureModel(\n",
    "                binding.editTextTitle.getText().toString(),\n",
    "                pictureAbsolutePath.toString()\n",
    "        );"
   ]
  },
  {
   "cell_type": "markdown",
   "id": "5c56f285-71df-42f5-9523-5826a721f51c",
   "metadata": {},
   "source": [
    "i dodajemy do bazy"
   ]
  },
  {
   "cell_type": "code",
   "execution_count": null,
   "id": "0b8ab50f-24c2-4093-ad3f-2032600fc090",
   "metadata": {},
   "outputs": [],
   "source": [
    "            DBHandler dbHandler = new DBHandler(requireContext());\n",
    "            long addItemResult = dbHandler.addToGallery(item);"
   ]
  },
  {
   "cell_type": "markdown",
   "id": "ed83a3ef-1605-44af-bcc5-e5277197ada4",
   "metadata": {},
   "source": [
    "Na koniec wyświetlamy informację o powodzeniu operacji"
   ]
  },
  {
   "cell_type": "code",
   "execution_count": null,
   "id": "b013eada-1ba1-4631-9ad0-752bd9ed817d",
   "metadata": {},
   "outputs": [],
   "source": [
    "            if(addItemResult > 0)\n",
    "                Toast.makeText(getContext(), \"SUCCESS\", Toast.LENGTH_SHORT).show();\n",
    "        }\n",
    "    });\n",
    "}"
   ]
  },
  {
   "cell_type": "markdown",
   "id": "2475429d-9ab2-4166-ac41-0526d4fc260e",
   "metadata": {},
   "source": [
    "Musimy jeszcze zapisać plik lokalnie na dysku (w bazie przechowujemy tylko ścieżkę dodstępu), zdefiniujmy metodę `saveImage`"
   ]
  },
  {
   "cell_type": "code",
   "execution_count": null,
   "id": "5fc5cbf1-c7ea-43cc-ba39-5c77e2448fdc",
   "metadata": {},
   "outputs": [],
   "source": [
    "private Uri saveImage(Bitmap bitmap) {"
   ]
  },
  {
   "cell_type": "markdown",
   "id": "2c951359-2fea-43b7-8f3f-20ec0da5f095",
   "metadata": {},
   "source": [
    "Utwórzmy plik i posłużmy się metodą `getDir` klasy `Context` - jeżeli katalog o zadanej nazwie nie istnieje zostaje on utworzony, jeżeli istnieje nowy plik zostanie do niego dodany. Jest to katalog w którym aplikacja posiada uprawnienia do zapisu i odczytu własnych danych."
   ]
  },
  {
   "cell_type": "code",
   "execution_count": null,
   "id": "0135605d-4a49-4648-8c3a-62ded5151260",
   "metadata": {},
   "outputs": [],
   "source": [
    "File file = requireContext().getDir(\"myGalleryJava\", Context.MODE_PRIVATE);"
   ]
  },
  {
   "cell_type": "markdown",
   "id": "c6d12293-65c1-4b54-87b3-1e3e64ea67e3",
   "metadata": {},
   "source": [
    "Następnie tworzymy plik - tutaj nazwą pliku będzie uniwersalny unikalny identyfikator `UUID` wygenerowany losowo"
   ]
  },
  {
   "cell_type": "code",
   "execution_count": null,
   "id": "51aa6814-df8a-4143-8783-1120affa6151",
   "metadata": {},
   "outputs": [],
   "source": [
    "file = new File(file, UUID.randomUUID().toString() + \".jpg\");"
   ]
  },
  {
   "cell_type": "markdown",
   "id": "8f7deb9d-fe71-4a8f-9406-04be7387399f",
   "metadata": {},
   "source": [
    "Oraz zapisujemy otrzymaną bitmapę"
   ]
  },
  {
   "cell_type": "code",
   "execution_count": null,
   "id": "9a088a60-10b0-4f06-989c-da341baba382",
   "metadata": {},
   "outputs": [],
   "source": [
    "try {\n",
    "    OutputStream stream = new FileOutputStream(file);\n",
    "    bitmap.compress(Bitmap.CompressFormat.JPEG, 100, stream);\n",
    "    stream.flush();\n",
    "    stream.close();\n",
    "} catch (IOException e) {\n",
    "    e.printStackTrace();\n",
    "}"
   ]
  },
  {
   "cell_type": "markdown",
   "id": "f3974cfb-d735-40d9-8cec-81116b08a187",
   "metadata": {},
   "source": [
    "Metoda zwraca ścieżkę absolutną jako `Uri`"
   ]
  },
  {
   "cell_type": "code",
   "execution_count": null,
   "id": "41c14d56-d58e-4363-8f7c-7c76194057b9",
   "metadata": {},
   "outputs": [],
   "source": [
    "return Uri.parse(file.getAbsolutePath());"
   ]
  },
  {
   "cell_type": "markdown",
   "id": "bf3c5adf-d07d-4e51-88b9-4f713fc647a8",
   "metadata": {},
   "source": [
    "Metodę `saveImage` wykonujemy przy odebraniu danych - `resultLauncherCamera`"
   ]
  },
  {
   "cell_type": "code",
   "execution_count": null,
   "id": "315c866c-481c-4a4c-8fc6-e06aaf6963d1",
   "metadata": {},
   "outputs": [],
   "source": [
    "ActivityResultLauncher<Intent> resultLauncherCamera = registerForActivityResult(\n",
    "        new ActivityResultContracts.StartActivityForResult(),\n",
    "        result -> {\n",
    "            if (result.getResultCode() == Activity.RESULT_OK) {\n",
    "                Intent data = result.getData();\n",
    "                Bitmap imageBitmap;\n",
    "                if (data != null) {\n",
    "                    imageBitmap = (Bitmap) data.getExtras().get(\"data\");\n",
    "                    binding.imageViewPicture.setImageBitmap(imageBitmap);\n",
    "                    pictureAbsolutePath = saveImage(imageBitmap); // zapis pliku oraz ścieżki\n",
    "                }\n",
    "            }\n",
    "        });"
   ]
  },
  {
   "cell_type": "markdown",
   "id": "31cb8c06-a08f-473a-b9d1-fd99c241d2c2",
   "metadata": {},
   "source": [
    "### **RecyclerView**"
   ]
  },
  {
   "cell_type": "markdown",
   "id": "27c88f18-7a0e-4266-8de6-94ecb716059e",
   "metadata": {},
   "source": [
    "W `GalleryFragment` będzie znajdował się `RecyclerView`, więc rozpocznijmy od adaptera"
   ]
  },
  {
   "cell_type": "code",
   "execution_count": null,
   "id": "a057e2cd-8608-41fa-b490-932cefcc46d3",
   "metadata": {},
   "outputs": [],
   "source": [
    "public class GalleryAdapter extends RecyclerView.Adapter<GalleryAdapter.ViewHolder> {\n",
    "\n",
    "    private final ArrayList<PictureModel> pictures;\n",
    "\n",
    "    public GalleryAdapter(ArrayList<PictureModel> pictures){\n",
    "        this.pictures = pictures;\n",
    "    }\n",
    "    @NonNull\n",
    "    @Override\n",
    "    public ViewHolder onCreateViewHolder(@NonNull ViewGroup parent, int viewType) {\n",
    "        return new ViewHolder(ItemViewBinding.inflate(\n",
    "                LayoutInflater.from(parent.getContext()), parent, false));\n",
    "    }\n",
    "\n",
    "    @Override\n",
    "    public void onBindViewHolder(@NonNull ViewHolder holder, int position) {\n",
    "        PictureModel item = pictures.get(position);\n",
    "        holder.bind(item);\n",
    "    }\n",
    "\n",
    "    @Override\n",
    "    public int getItemCount() {\n",
    "        return pictures.size();\n",
    "    }\n",
    "\n",
    "    public static class ViewHolder extends RecyclerView.ViewHolder {\n",
    "        private final ItemViewBinding itemBinding;\n",
    "        public ViewHolder(@NonNull ItemViewBinding itemBinding) {\n",
    "            super(itemBinding.getRoot());\n",
    "            this.itemBinding = itemBinding;\n",
    "        }\n",
    "\n",
    "        public void bind(PictureModel item){\n",
    "            itemBinding.textViewTitle.setText(item.getTitle());\n",
    "            itemBinding.rcImageView.setImageURI(Uri.parse(item.getImage()));\n",
    "        }\n",
    "    }\n",
    "}"
   ]
  },
  {
   "cell_type": "markdown",
   "id": "8e3c71d4-bdbb-480c-a320-de0336c30475",
   "metadata": {},
   "source": [
    "dodajmy `RecyclerView` do layoutu fragmentu"
   ]
  },
  {
   "cell_type": "code",
   "execution_count": null,
   "id": "e7e889bc-63d6-439a-81dc-9491aa75c11d",
   "metadata": {},
   "outputs": [],
   "source": [
    "<FrameLayout xmlns:android=\"http://schemas.android.com/apk/res/android\"\n",
    "    xmlns:tools=\"http://schemas.android.com/tools\"\n",
    "    android:layout_width=\"match_parent\"\n",
    "    android:layout_height=\"match_parent\"\n",
    "    tools:context=\".fragments.GalleryFragment\">\n",
    "\n",
    "    <androidx.recyclerview.widget.RecyclerView\n",
    "        android:id=\"@+id/recycler\"\n",
    "        android:layout_width=\"match_parent\"\n",
    "        android:layout_height=\"match_parent\" />\n",
    "\n",
    "</FrameLayout>"
   ]
  },
  {
   "cell_type": "markdown",
   "id": "69e8e90a-6cb5-4549-ae75-a78012b7ee04",
   "metadata": {},
   "source": [
    "Ostatnim krokiem będzie dodanie `RecyclerView` do `GalleryFragment`"
   ]
  },
  {
   "cell_type": "code",
   "execution_count": null,
   "id": "85fa40d5-bd4b-48d5-a74d-47a5b5d2762b",
   "metadata": {},
   "outputs": [],
   "source": [
    "public class GalleryFragment extends Fragment {\n",
    "\n",
    "    private FragmentGalleryBinding binding;\n",
    "\n",
    "    @Override\n",
    "    public View onCreateView(@NonNull LayoutInflater inflater, ViewGroup container,\n",
    "                             Bundle savedInstanceState) {\n",
    "        binding = FragmentGalleryBinding.inflate(inflater, container, false);\n",
    "        return binding.getRoot();\n",
    "    }\n",
    "\n",
    "    @Override\n",
    "    public void onViewCreated(@NonNull View view, @Nullable Bundle savedInstanceState) {\n",
    "        super.onViewCreated(view, savedInstanceState);\n",
    "        DBHandler dbHandler = new DBHandler(requireContext());\n",
    "        binding.recycler.setLayoutManager(new LinearLayoutManager(requireContext()));\n",
    "        binding.recycler.setAdapter(new GalleryAdapter(dbHandler.getAllItems()));\n",
    "    }\n",
    "}"
   ]
  },
  {
   "cell_type": "markdown",
   "id": "8e6fafc9-f399-4412-85d6-36192761c076",
   "metadata": {},
   "source": [
    "Możemy przetestować aplikację"
   ]
  },
  {
   "cell_type": "markdown",
   "id": "6a4840b9-c535-4d87-ab05-66ce14248cb0",
   "metadata": {},
   "source": [
    "<table><tr><td><img src=\"https://media0.giphy.com/media/G5SmlOFRHlILBw9R0p/giphy.gif?cid=790b7611e3c8a0777e1e09d8e312633955f2b237e8abe275&rid=giphy.gif&ct=g\" width=\"150\" /></td><td><img src=\"https://media2.giphy.com/media/WxnetLg3yS6HddItSS/giphy.gif?cid=790b76112cb28038325c4acc25284dfa06b0788beca930d1&rid=giphy.gif&ct=g\" width=\"150\" /></td><td><img src=\"https://media0.giphy.com/media/oHuY0UmB6ZQY7Q7h31/giphy.gif?cid=790b7611d9bf36c59e0682886abc760a9fbec4b5db0f4f2e&rid=giphy.gif&ct=g\" width=\"150\" /></td></tr></table>"
   ]
  },
  {
   "cell_type": "code",
   "execution_count": null,
   "id": "37ce9d04-e52a-4635-88f1-b14fe89c719b",
   "metadata": {},
   "outputs": [],
   "source": []
  }
 ],
 "metadata": {
  "kernelspec": {
   "display_name": "Java",
   "language": "java",
   "name": "java"
  },
  "language_info": {
   "codemirror_mode": "java",
   "file_extension": ".jshell",
   "mimetype": "text/x-java-source",
   "name": "Java",
   "pygments_lexer": "java",
   "version": "17+35-2724"
  }
 },
 "nbformat": 4,
 "nbformat_minor": 5
}
