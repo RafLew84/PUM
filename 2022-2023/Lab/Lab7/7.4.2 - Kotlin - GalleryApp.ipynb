{
 "cells": [
  {
   "cell_type": "markdown",
   "id": "9fbed285-42ef-49dc-ad67-ff8c292fb15c",
   "metadata": {},
   "source": [
    "## 7.4 GalleryApp"
   ]
  },
  {
   "cell_type": "markdown",
   "id": "dbeaa344-8179-4144-9aba-3c434977b878",
   "metadata": {},
   "source": [
    "W tej aplikacji utworzymy prostą aplikację pełniącą rolę galerii zdjęć wykonanych aparatem. Będzie ona zawierać upoważnienia, bazę danych `SQLite`, dane będziemy wyświetlać w `RecyclerView`, obsługa aparatu odbędzie się za pomocą `Implicit Intent` - czyli otworzymy aplikację obsługującą aparat, wykonamy zdjęcie i prześlemy je do naszej aplikacji, następnie dodamy je do bazy danych i wyświetlimy w `RecyclerView`. Aplikacja będzie zawierać `Jetpack Navigation` oraz `Bottom Navigation`."
   ]
  },
  {
   "cell_type": "code",
   "execution_count": null,
   "id": "19c94356-6d93-48c9-a056-2ebaedc369d2",
   "metadata": {},
   "outputs": [],
   "source": []
  },
  {
   "cell_type": "markdown",
   "id": "a7d8670a-965e-4624-af34-cae4e05cd732",
   "metadata": {},
   "source": [
    "### **Bottom Navigation**"
   ]
  },
  {
   "cell_type": "markdown",
   "id": "981d9b3c-6d75-4070-a5ca-d5fcc5f9a917",
   "metadata": {},
   "source": [
    "Rozpocznijmy od dodania dwóch fragmentów oraz nawigacji. Dodajmy dwa puste fragmenty `GalleryFragment` oraz `AddPictureFragment` oraz `navigation`\n",
    "\n",
    "```xml\n",
    "<navigation xmlns:android=\"http://schemas.android.com/apk/res/android\"\n",
    "    xmlns:app=\"http://schemas.android.com/apk/res-auto\"\n",
    "    xmlns:tools=\"http://schemas.android.com/tools\"\n",
    "    android:id=\"@+id/navigation\"\n",
    "    app:startDestination=\"@id/galleryFragment\">\n",
    "\n",
    "    <fragment\n",
    "        android:id=\"@+id/addPictureFragment\"\n",
    "        android:name=\"pl.udu.uwr.pum.galleryappjava.fragments.AddPictureFragment\"\n",
    "        android:label=\"fragment_add_picture\"\n",
    "        tools:layout=\"@layout/fragment_add_picture\" />\n",
    "    <fragment\n",
    "        android:id=\"@+id/galleryFragment\"\n",
    "        android:name=\"pl.udu.uwr.pum.galleryappjava.fragments.GalleryFragment\"\n",
    "        android:label=\"fragment_gallery\"\n",
    "        tools:layout=\"@layout/fragment_gallery\" />\n",
    "</navigation>\n",
    "```\n",
    "\n",
    "`GalleryFragment` ustawiamy jako domowy. Następnie dodajmy `menu` dla `Bottom Navigation`\n",
    "\n",
    "```xml\n",
    "<menu xmlns:android=\"http://schemas.android.com/apk/res/android\">\n",
    "    <item\n",
    "        android:id=\"@id/galleryFragment\"\n",
    "        android:icon=\"@drawable/ic_gallery\"\n",
    "        android:title=\"Gallery\" />\n",
    "    <item\n",
    "        android:id=\"@id/addPictureFragment\"\n",
    "        android:icon=\"@drawable/ic_add\"\n",
    "        android:title=\"Add\" />\n",
    "</menu>\n",
    "```\n",
    "\n",
    "Dodajmy `FragmentContainer` i `BottomNavigationView` do layoutu głównej aktywności\n",
    "\n",
    "```xml\n",
    "<LinearLayout xmlns:android=\"http://schemas.android.com/apk/res/android\"\n",
    "    xmlns:tools=\"http://schemas.android.com/tools\"\n",
    "    xmlns:app=\"http://schemas.android.com/apk/res-auto\"\n",
    "    android:layout_width=\"match_parent\"\n",
    "    android:layout_height=\"match_parent\"\n",
    "    android:orientation=\"vertical\"\n",
    "    tools:context=\".MainActivity\">\n",
    "\n",
    "    <androidx.fragment.app.FragmentContainerView\n",
    "        android:id=\"@+id/nav_host_fragment\"\n",
    "        android:name=\"androidx.navigation.fragment.NavHostFragment\"\n",
    "        android:layout_width=\"match_parent\"\n",
    "        android:layout_height=\"0dp\"\n",
    "        android:layout_weight=\"1\"\n",
    "        app:defaultNavHost=\"true\"\n",
    "        app:navGraph=\"@navigation/navigation\"/>\n",
    "\n",
    "    <com.google.android.material.bottomnavigation.BottomNavigationView\n",
    "        android:id=\"@+id/bottom_nav_view\"\n",
    "        android:layout_width=\"match_parent\"\n",
    "        android:layout_height=\"wrap_content\"\n",
    "        app:menu=\"@menu/bottom_menu\" />\n",
    "\n",
    "</LinearLayout>\n",
    "```\n",
    "\n",
    "Przejdźmy do `MainActivity` i połączmy nawigację"
   ]
  },
  {
   "cell_type": "code",
   "execution_count": null,
   "id": "8790f80e-aeff-4ed0-b807-368cc8b5aefa",
   "metadata": {},
   "outputs": [],
   "source": [
    "class MainActivity : AppCompatActivity() {\n",
    "\n",
    "    private lateinit var binding: ActivityMainBinding\n",
    "\n",
    "    private val navController: NavController by lazy {\n",
    "        val navHostFragment = supportFragmentManager.findFragmentById(R.id.nav_host_fragment)\n",
    "                as NavHostFragment\n",
    "        navHostFragment.findNavController()\n",
    "    }\n",
    "\n",
    "    override fun onCreate(savedInstanceState: Bundle?) {\n",
    "        super.onCreate(savedInstanceState)\n",
    "        binding = ActivityMainBinding.inflate(layoutInflater)\n",
    "        setContentView(binding.root)\n",
    "\n",
    "        binding.bottomNavView.setupWithNavController(navController)\n",
    "    }\n",
    "}"
   ]
  },
  {
   "cell_type": "markdown",
   "id": "561d6535-05cc-4e7e-8b36-ae415187cb28",
   "metadata": {},
   "source": [
    "### **Permission**"
   ]
  },
  {
   "cell_type": "markdown",
   "id": "b7671583-cd71-4d33-9626-8b9734630d17",
   "metadata": {},
   "source": [
    "Dodajmy upoważnienie na wykorzystanie aparatu do aplikacji. Przejdźmy do `AndroidManifest.xml` i dodajmy odpowiedni wpis\n",
    "\n",
    "```xml\n",
    "<uses-permission android:name=\"android.permission.CAMERA\" />\n",
    "```\n",
    "\n",
    "W layoucie `AddPictureFragment` dodamy dwa przyciski odpowiedzialne za wykonanie zdjęcia (sprawdzenie upoważnienia oraz otworzenie aplikacji obsługującej aparat) oraz za zapis do bazy danych. Mamy również `EditText` w który będziemy wpisywać tytuł zdjęcia oraz `ImageView` do którego będziemy przekazywać wykonane zdjęcie.\n",
    "\n",
    "```xml\n",
    "<LinearLayout xmlns:android=\"http://schemas.android.com/apk/res/android\"\n",
    "    xmlns:app=\"http://schemas.android.com/apk/res-auto\"\n",
    "    xmlns:tools=\"http://schemas.android.com/tools\"\n",
    "    android:layout_width=\"match_parent\"\n",
    "    android:layout_height=\"match_parent\"\n",
    "    android:orientation=\"vertical\">\n",
    "\n",
    "    <EditText\n",
    "        android:id=\"@+id/edit_text_title\"\n",
    "        android:layout_width=\"match_parent\"\n",
    "        android:layout_height=\"wrap_content\"\n",
    "        android:layout_margin=\"20dp\"\n",
    "        android:textSize=\"24sp\"\n",
    "        android:hint=\"Title\"\n",
    "        android:inputType=\"textCapWords\"\n",
    "        android:autofillHints=\"title\" />\n",
    "\n",
    "    <LinearLayout\n",
    "        android:layout_width=\"wrap_content\"\n",
    "        android:layout_height=\"0dp\"\n",
    "        android:layout_weight=\"1\"\n",
    "        android:gravity=\"center\"\n",
    "        android:layout_gravity=\"center\"\n",
    "        android:orientation=\"vertical\">\n",
    "\n",
    "        <ImageView\n",
    "            android:id=\"@+id/image_view_picture\"\n",
    "            android:layout_width=\"300dp\"\n",
    "            android:layout_height=\"300dp\"\n",
    "            android:layout_margin=\"40dp\"\n",
    "            android:contentDescription=\"picture\" />\n",
    "\n",
    "    </LinearLayout>\n",
    "\n",
    "    <LinearLayout\n",
    "        android:layout_width=\"match_parent\"\n",
    "        android:layout_height=\"wrap_content\"\n",
    "        android:orientation=\"horizontal\">\n",
    "\n",
    "    <Button\n",
    "        android:id=\"@+id/button_camera\"\n",
    "        android:layout_width=\"0dp\"\n",
    "        android:layout_weight=\"1\"\n",
    "        android:layout_margin=\"25dp\"\n",
    "        android:layout_height=\"wrap_content\"\n",
    "        android:layout_gravity=\"center\"\n",
    "        android:text=\"otwórz aparat\"\n",
    "        android:gravity=\"center\"/>\n",
    "\n",
    "    <Button\n",
    "        android:id=\"@+id/button_save_picture\"\n",
    "        android:layout_width=\"0dp\"\n",
    "        android:layout_weight=\"1\"\n",
    "        android:layout_height=\"wrap_content\"\n",
    "        android:layout_margin=\"25dp\"\n",
    "        android:gravity=\"center\"\n",
    "        android:layout_gravity=\"center\"\n",
    "        android:text=\"zapisz\"/>\n",
    "    </LinearLayout>\n",
    "</LinearLayout>\n",
    "```\n",
    "\n",
    "Przy naciśnięciu przycisku **zapisz** wpierw sprawdzimy czy aplikacja posiada uprawnienie, następnie wyślemy odpowiedni `Intent`. W pierwszym kroku dodajmy `ViewBinding`"
   ]
  },
  {
   "cell_type": "code",
   "execution_count": null,
   "id": "31b09912-58f3-44b9-83fa-60546dfc3bb2",
   "metadata": {},
   "outputs": [],
   "source": [
    "class AddPictureFragment : Fragment(){\n",
    "\n",
    "    private lateinit var binding: FragmentAddPictureBinding\n",
    "\n",
    "    override fun onCreateView(\n",
    "        inflater: LayoutInflater, container: ViewGroup?,\n",
    "        savedInstanceState: Bundle?\n",
    "    ): View {\n",
    "        binding = FragmentAddPictureBinding.inflate(inflater, container, false)\n",
    "        return binding.root\n",
    "    }"
   ]
  },
  {
   "cell_type": "markdown",
   "id": "fe9b00cc-869e-4dcf-b87c-b479f049e5d4",
   "metadata": {},
   "source": [
    "Zacznijmy od dwóch `ActivityResultLauncher`\n",
    "- `requestCameraPermissionLauncher` - implementuje metodę `RequestPermission`, wykorzystamy do otworzenia dialogu z możliwością udzielenia upoważnienia\n",
    "- `resultLauncherCamera` - implementacja metody `StartActivityForResult`, wykorzystamy przy wysłaniu intentu z żądaniem wykonania zdjęcia - dzięki tej metodzie możemy obsłużyć wartość zwrotną."
   ]
  },
  {
   "cell_type": "code",
   "execution_count": null,
   "id": "32005018-e027-4fd1-9df4-17578de76241",
   "metadata": {},
   "outputs": [],
   "source": [
    "private val requestCameraPermissionLauncher = registerForActivityResult(\n",
    "    ActivityResultContracts.RequestPermission()\n",
    ") {\n",
    "    if (it){ launchCamera() }\n",
    "}"
   ]
  },
  {
   "cell_type": "markdown",
   "id": "ea920f64-a6f2-4546-bc88-c1e7c3456944",
   "metadata": {},
   "source": [
    "Jeżeli posiadamy odpowiednie upoważnienie wykonujemy metodę `launchCamera`, którą zaimplementujemy nieco później.\n",
    "\n",
    "Teraz przejdźmy do `resultLauncherCamera`"
   ]
  },
  {
   "cell_type": "code",
   "execution_count": null,
   "id": "b0de04dd-e4a6-475c-843a-6648d9cc2811",
   "metadata": {},
   "outputs": [],
   "source": [
    "private val resultLauncherCamera = registerForActivityResult(\n",
    "    ActivityResultContracts.StartActivityForResult()) { result ->"
   ]
  },
  {
   "cell_type": "markdown",
   "id": "773afada-18e1-4be3-974c-3200b276c6b5",
   "metadata": {},
   "source": [
    "Jeżeli zdjęcie zostanie wykonane prawidłowo i dostaniemy dane zwrotne (sprawdzamy w warunku), odbieramy dane za pomocą `Intent`"
   ]
  },
  {
   "cell_type": "code",
   "execution_count": null,
   "id": "2d5b2de6-417d-441d-add0-28dfdd25db6d",
   "metadata": {},
   "outputs": [],
   "source": [
    "if (result.resultCode == RESULT_OK) {\n",
    "    val data: Intent? = result.data"
   ]
  },
  {
   "cell_type": "markdown",
   "id": "79a9f8d4-846f-4798-8281-8928fb70e475",
   "metadata": {},
   "source": [
    "Następnie musimy je rozpakować, dane w tym przypadku otrzymujemy w postaci `Bitmap`"
   ]
  },
  {
   "cell_type": "code",
   "execution_count": null,
   "id": "ba8e9f3d-6163-494e-bb4d-6b406ed1b892",
   "metadata": {},
   "outputs": [],
   "source": [
    "if (result.resultCode == RESULT_OK) {\n",
    "    val data: Intent? = result.data\n",
    "    val imageBitmap = data?.extras?.get(\"data\") as Bitmap\n",
    "    binding.imageViewPicture.setImageBitmap(imageBitmap)\n",
    "}"
   ]
  },
  {
   "cell_type": "markdown",
   "id": "861e3686-6065-429b-84c6-12ddabbcab9c",
   "metadata": {},
   "source": [
    "Klucz \"data\", wykorzystany w metodzie `get` jest standardową nazwą nadaną automatycznie. Następnie ustawiamy otrzymaną bitmapę na `ImageView` za pomocą metody `setImageBitmap`. \n",
    "\n",
    "Dodajmy metodę `openCamera`, którą wywołamy jako `onClick` przycisku wykonującego zdjęcie. Mamy trzy możliwości\n",
    "- upoważnienie zostało nadane - wywołujemy metodę `launchCamera`\n",
    "- upoważnienie zostało odrzucone - pokazujemy `Rationale`\n",
    "- aplikacja jest świeżo zainstalowana i włączona pierwszy raz - pokazujemy dialog z możliwością nadania upoważnienia\n",
    "\n",
    "Te trzy opcje chcemy obsłużyć"
   ]
  },
  {
   "cell_type": "code",
   "execution_count": null,
   "id": "58ab9704-fe4b-426d-845f-0e359d6e36da",
   "metadata": {},
   "outputs": [],
   "source": [
    "    private fun openCamera(){\n",
    "        when {ContextCompat.checkSelfPermission(\n",
    "            requireContext(), Manifest.permission.CAMERA) ==\n",
    "                PackageManager.PERMISSION_GRANTED -> {\n",
    "            launchCamera() // włączam aplikację przez implicit intent\n",
    "        }\n",
    "            ActivityCompat.shouldShowRequestPermissionRationale(\n",
    "                requireActivity(),\n",
    "                Manifest.permission.CAMERA) -> {\n",
    "                showMessageOKCancel(getString(R.string.rationale_camera)) // Rationale\n",
    "            }\n",
    "            else -> {\n",
    "                requestCameraPermissionLauncher\n",
    "                    .launch(Manifest.permission.CAMERA) // jeżeli nie to nic nie robię\n",
    "            }\n",
    "        }\n",
    "    }"
   ]
  },
  {
   "cell_type": "markdown",
   "id": "250a6972-bdfb-4dff-b977-d2a04ba79d50",
   "metadata": {},
   "source": [
    "Dodajmy implementację metody `showMessageOkCancel`"
   ]
  },
  {
   "cell_type": "code",
   "execution_count": null,
   "id": "98cf83c3-5bc8-455f-a19b-1344b2b0d829",
   "metadata": {},
   "outputs": [],
   "source": [
    "    private fun showMessageOKCancel(message: String) {\n",
    "        AlertDialog.Builder(requireContext())\n",
    "            .setMessage(message)\n",
    "            .setPositiveButton(\"OK\") { dialogInterface: DialogInterface, _: Int ->\n",
    "                // jeżeli ok proszę o upoważnienie\n",
    "                requestCameraPermissionLauncher.launch(Manifest.permission.CAMERA) \n",
    "                dialogInterface.dismiss()\n",
    "            }\n",
    "            .setNegativeButton(\"Cancel\", null) // jeżeli nie to nic nie robię\n",
    "            .create()\n",
    "            .show()\n",
    "    }"
   ]
  },
  {
   "cell_type": "markdown",
   "id": "64e18639-6b14-4898-afb8-f1fc8bd7e2c4",
   "metadata": {},
   "source": [
    "Pozostaje metoda `launchCamera` wysyłająca intent z prośbą o wykonanie zdjęcia"
   ]
  },
  {
   "cell_type": "code",
   "execution_count": null,
   "id": "678660c4-861c-46dd-84a6-d8f6147172bd",
   "metadata": {},
   "outputs": [],
   "source": [
    "private fun launchCamera(){\n",
    "    val intent = Intent(MediaStore.ACTION_IMAGE_CAPTURE)\n",
    "    resultLauncherCamera.launch(intent)\n",
    "}"
   ]
  },
  {
   "cell_type": "markdown",
   "id": "58a523a7-a069-4fa8-ba47-36cd22dd44d6",
   "metadata": {},
   "source": [
    "Dodajmy obsługę przycisku `buttonCamera` w metodzie `onViewCreated`"
   ]
  },
  {
   "cell_type": "code",
   "execution_count": null,
   "id": "daf3bf48-fc54-4054-9932-082ede8a4a90",
   "metadata": {},
   "outputs": [],
   "source": [
    "binding.buttonCamera.setOnClickListener {\n",
    "    openCamera()\n",
    "}"
   ]
  },
  {
   "cell_type": "markdown",
   "id": "65e8aaaf-c2da-4b29-a50c-e018a1435db8",
   "metadata": {},
   "source": [
    "### **Zapis do bazy**"
   ]
  },
  {
   "cell_type": "markdown",
   "id": "2acf8eaf-48b2-4e78-bc30-6fa2c79a3148",
   "metadata": {},
   "source": [
    "W następnym kroku zapiszemy zdjęcie w bazie danych, rozpocznijmy od określenia modelu danych"
   ]
  },
  {
   "cell_type": "code",
   "execution_count": null,
   "id": "801987ff-249d-4a72-a091-17018d06de0c",
   "metadata": {},
   "outputs": [],
   "source": [
    "data class PictureModel(val title: String, val image: String) {\n",
    "    var id: Int = 0\n",
    "\n",
    "    constructor(id: Int, title: String, image: String) : this(title, image) {\n",
    "        this.id = id\n",
    "    }\n",
    "}"
   ]
  },
  {
   "cell_type": "markdown",
   "id": "c48d3845-e743-418b-8012-18c2f16b2077",
   "metadata": {},
   "source": [
    "Będziemy przechowywać nazwę zdjęcia i jego ścieżkę dostępu jako `String`. Przejdźmy do klasy `DBHandler`. Dodajmy podstawowe metody i pola"
   ]
  },
  {
   "cell_type": "code",
   "execution_count": null,
   "id": "11bc54e3-d7e7-4e9c-bab7-29f981c7a2dc",
   "metadata": {},
   "outputs": [],
   "source": [
    "class DBHandler(context: Context) :\n",
    "    SQLiteOpenHelper(context, DATABASE_NAME, null, DATABASE_VERSION) {\n",
    "\n",
    "    companion object{\n",
    "        private const val DATABASE_VERSION = 1\n",
    "        private const val DATABASE_NAME = \"galleryDBKotlin\"\n",
    "        private const val TABLE_GALLERY = \"GalleryTable\"\n",
    "\n",
    "        private const val KEY_ID = \"_id\"\n",
    "        private const val KEY_TITLE = \"title\"\n",
    "        private const val KEY_IMAGE = \"image\"\n",
    "    }\n",
    "\n",
    "    override fun onCreate(db: SQLiteDatabase?) {\n",
    "        val CREATE_GALLERY_TABLE =\n",
    "            \"CREATE TABLE $TABLE_GALLERY(\" +\n",
    "                    \"$KEY_ID INTEGER PRIMARY KEY AUTOINCREMENT NOT NULL,\" +\n",
    "                    \"$KEY_TITLE TEXT,\" +\n",
    "                    \"$KEY_IMAGE TEXT)\"\n",
    "\n",
    "        db?.execSQL(CREATE_GALLERY_TABLE)\n",
    "    }\n",
    "\n",
    "    override fun onUpgrade(db: SQLiteDatabase?, p1: Int, p2: Int) {\n",
    "        db!!.execSQL(\"DROP TABLE IF EXISTS $TABLE_GALLERY\")\n",
    "        onCreate(db)\n",
    "    }\n",
    "}"
   ]
  },
  {
   "cell_type": "markdown",
   "id": "c2390a1c-71ab-4cc5-91a8-1aab7f6524c5",
   "metadata": {},
   "source": [
    "Następnie dodajmy metodę dodającą wpis do bazy"
   ]
  },
  {
   "cell_type": "code",
   "execution_count": null,
   "id": "5d58e6f9-5fff-44c3-a8d4-a0a4f317208e",
   "metadata": {},
   "outputs": [],
   "source": [
    "fun addToGallery(singleItem: PictureModel): Long{\n",
    "    val db = this.writableDatabase\n",
    "\n",
    "    val contentValues = ContentValues()\n",
    "    contentValues.put(KEY_TITLE, singleItem.title)\n",
    "    contentValues.put(KEY_IMAGE, singleItem.image)\n",
    "\n",
    "    val result = db.insert(TABLE_GALLERY, null, contentValues)\n",
    "    db.close()\n",
    "    return result\n",
    "}"
   ]
  },
  {
   "cell_type": "markdown",
   "id": "b71f4466-cd77-455c-b9ee-09612fb68abe",
   "metadata": {},
   "source": [
    "Zmienna `result` posłuży do określenia poprawności wykonania operacji.\n",
    "\n",
    "Drugą metodą będzie `getAllItems` zwracająca listę wszystkich elementów, lub pustą listę"
   ]
  },
  {
   "cell_type": "code",
   "execution_count": null,
   "id": "ec271d52-27a1-4a08-9fa3-d38eb48094fd",
   "metadata": {},
   "outputs": [],
   "source": [
    "fun getAllItems(): List<PictureModel>{\n",
    "    val itemList: MutableList<PictureModel> = mutableListOf()\n",
    "\n",
    "    val selectQuery = \"SELECT * FROM $TABLE_GALLERY\"\n",
    "\n",
    "    val db = this.readableDatabase\n",
    "\n",
    "    try{\n",
    "        val cursor: Cursor = db.rawQuery(selectQuery, null)\n",
    "        if(cursor.moveToFirst()){\n",
    "            do{\n",
    "                val place = PictureModel(\n",
    "                    cursor.getInt(0),\n",
    "                    cursor.getString(1),\n",
    "                    cursor.getString(2)\n",
    "                )\n",
    "                itemList.add(place)\n",
    "            } while (cursor.moveToNext())\n",
    "        }\n",
    "        cursor.close()\n",
    "    } catch (e: SQLiteException){\n",
    "        e.printStackTrace()\n",
    "        return emptyList()\n",
    "    }\n",
    "\n",
    "    return itemList\n",
    "}"
   ]
  },
  {
   "cell_type": "markdown",
   "id": "75cea70e-f617-4010-aa9d-7081a2b61a3a",
   "metadata": {},
   "source": [
    "Wróćmy do klasy `AddPictureFragment` - chcemy zapisać ścieżkę dostępu do pliku, więc zdefiniujmy zmienną `Uri`"
   ]
  },
  {
   "cell_type": "code",
   "execution_count": null,
   "id": "fce84c5f-bc94-4a7a-82ff-2053771fc5f2",
   "metadata": {},
   "outputs": [],
   "source": [
    "private lateinit var pictureAbsolutePath: Uri"
   ]
  },
  {
   "cell_type": "markdown",
   "id": "bb7b3139-55d5-4c9e-95c8-10368cf1ed11",
   "metadata": {},
   "source": [
    "W obsłudze `buttonSavePicture` wpierw obsłużmy błędy, w tym celu zdefiniujmy metodę `checkForErrors`"
   ]
  },
  {
   "cell_type": "code",
   "execution_count": null,
   "id": "5b77ca33-9802-47d4-bba9-d5751d89fca7",
   "metadata": {},
   "outputs": [],
   "source": [
    "private fun checkForErrors(): Boolean{\n",
    "    if (binding.editTextTitle.text.isEmpty())\n",
    "        return true\n",
    "    if (!this::pictureAbsolutePath.isInitialized)\n",
    "        return true\n",
    "    return false\n",
    "}"
   ]
  },
  {
   "cell_type": "markdown",
   "id": "1f853344-309c-4a4c-a6ef-c1d46fcf18b1",
   "metadata": {},
   "source": [
    "Wyświetlimy `Toast` jeżeli pojawią się błędy"
   ]
  },
  {
   "cell_type": "code",
   "execution_count": null,
   "id": "806e9fd8-a4ac-4dab-abaf-a205cb587b10",
   "metadata": {},
   "outputs": [],
   "source": [
    "binding.buttonSavePicture.setOnClickListener {\n",
    "    if (checkForErrors())\n",
    "        Toast.makeText(\n",
    "            context, \n",
    "            getString(R.string.error_imageView), \n",
    "            Toast.LENGTH_LONG\n",
    "        ).show()"
   ]
  },
  {
   "cell_type": "markdown",
   "id": "c497cc85-16d2-4cce-863d-8bb820f3cb20",
   "metadata": {},
   "source": [
    "W przeciwnym razie tworzymy nowy wpis na podstawie zdefiniowanego modelu"
   ]
  },
  {
   "cell_type": "code",
   "execution_count": null,
   "id": "9d8f4ea8-d3c4-4bb4-bf08-735d1b9e5f43",
   "metadata": {},
   "outputs": [],
   "source": [
    "    else{\n",
    "        val item = PictureModel(\n",
    "            binding.editTextTitle.text.toString(),\n",
    "            pictureAbsolutePath.toString()\n",
    "        )"
   ]
  },
  {
   "cell_type": "markdown",
   "id": "1ea9eea6-eb06-4748-b56c-d5a3256880e1",
   "metadata": {},
   "source": [
    "i dodajemy do bazy"
   ]
  },
  {
   "cell_type": "code",
   "execution_count": null,
   "id": "4b1216a1-8b18-432d-89fd-7d9b370f59ea",
   "metadata": {},
   "outputs": [],
   "source": [
    "        val dbHandler = DBHandler(requireContext())\n",
    "        val addItemResult = dbHandler.addToGallery(item)"
   ]
  },
  {
   "cell_type": "markdown",
   "id": "1dbc1ab9-da1f-4ede-84f1-d9b9c011fa36",
   "metadata": {},
   "source": [
    "Na koniec wyświetlamy informację o powodzeniu operacji"
   ]
  },
  {
   "cell_type": "code",
   "execution_count": null,
   "id": "2ec81de6-e6a6-4a3e-88d9-50e9dfb8e5e6",
   "metadata": {},
   "outputs": [],
   "source": [
    "        if(addItemResult > 0)\n",
    "            Toast.makeText(context, \"SUCCESS\", Toast.LENGTH_SHORT).show()\n",
    "    }\n",
    "}"
   ]
  },
  {
   "cell_type": "markdown",
   "id": "ac5b5450-e074-47b7-8508-74c92a0480ae",
   "metadata": {},
   "source": [
    "Musimy jeszcze zapisać plik lokalnie na dysku (w bazie przechowujemy tylko ścieżkę dodstępu), zdefiniujmy metodę `saveImage`"
   ]
  },
  {
   "cell_type": "code",
   "execution_count": null,
   "id": "11f76a2b-cfbe-465a-84b6-5084bab3866b",
   "metadata": {},
   "outputs": [],
   "source": [
    "private fun saveImage(bitmap: Bitmap): Uri {"
   ]
  },
  {
   "cell_type": "markdown",
   "id": "43ff47c5-eb82-49a8-84b5-ad383a74382d",
   "metadata": {},
   "source": [
    "Utwórzmy plik i posłużmy się metodą `getDir` klasy `Context` - jeżeli katalog o zadanej nazwie nie istnieje zostaje on utworzony, jeżeli istnieje nowy plik zostanie do niego dodany. Jest to katalog w którym aplikacja posiada uprawnienia do zapisu i odczytu własnych danych."
   ]
  },
  {
   "cell_type": "code",
   "execution_count": null,
   "id": "8bab1fba-5b85-4199-b267-913c4f8ff320",
   "metadata": {},
   "outputs": [],
   "source": [
    "var file = requireContext().getDir(\"myGalleryKotlin\", Context.MODE_PRIVATE)"
   ]
  },
  {
   "cell_type": "markdown",
   "id": "294b133b-bf36-48bd-b881-8937b491ef27",
   "metadata": {},
   "source": [
    "Następnie tworzymy plik - tutaj nazwą pliku będzie uniwersalny unikalny identyfikator `UUID` wygenerowany losowo"
   ]
  },
  {
   "cell_type": "code",
   "execution_count": null,
   "id": "0bd475ac-b3cd-47df-b4ff-49bfac5a0227",
   "metadata": {},
   "outputs": [],
   "source": [
    "file = File(file, \"${UUID.randomUUID()}.jpg\")"
   ]
  },
  {
   "cell_type": "markdown",
   "id": "a97aee01-8dca-4981-ba9c-606c3839b7cc",
   "metadata": {},
   "source": [
    "Oraz zapisujemy otrzymaną bitmapę"
   ]
  },
  {
   "cell_type": "code",
   "execution_count": null,
   "id": "4def0e56-b2f9-4cb6-b769-eb88b8740776",
   "metadata": {},
   "outputs": [],
   "source": [
    "try {\n",
    "    val stream: OutputStream = FileOutputStream(file)\n",
    "    bitmap.compress(Bitmap.CompressFormat.JPEG, 100, stream)\n",
    "    stream.flush()\n",
    "    stream.close()\n",
    "} catch (e: IOException) {\n",
    "    e.printStackTrace()\n",
    "}"
   ]
  },
  {
   "cell_type": "markdown",
   "id": "eb2f4c89-db10-4613-a47e-0426b499b631",
   "metadata": {},
   "source": [
    "Metoda zwraca ścieżkę absolutną jako `Uri`"
   ]
  },
  {
   "cell_type": "code",
   "execution_count": null,
   "id": "f2b8b3b0-7c8e-4a1c-aa95-83b5cfb12f74",
   "metadata": {},
   "outputs": [],
   "source": [
    "return Uri.parse(file.absolutePath)"
   ]
  },
  {
   "cell_type": "markdown",
   "id": "9e8a1502-973b-45e9-8694-59921ac21409",
   "metadata": {},
   "source": [
    "Metodę `saveImage` wykonujemy przy odebraniu danych - `resultLauncherCamera`"
   ]
  },
  {
   "cell_type": "code",
   "execution_count": null,
   "id": "e99b2cd3-b70b-4b91-9aa6-f18ef08b95b1",
   "metadata": {},
   "outputs": [],
   "source": [
    "private val resultLauncherCamera = registerForActivityResult(\n",
    "    ActivityResultContracts.StartActivityForResult()) { result ->\n",
    "    if (result.resultCode == RESULT_OK) {\n",
    "        val data: Intent? = result.data\n",
    "        val imageBitmap = data?.extras?.get(\"data\") as Bitmap\n",
    "        binding.imageViewPicture.setImageBitmap(imageBitmap)\n",
    "        pictureAbsolutePath = saveImage(imageBitmap) // zapis pliku oraz ścieżki\n",
    "    }\n",
    "}"
   ]
  },
  {
   "cell_type": "markdown",
   "id": "ae846fd8-0b22-451e-996d-997b61bbe5c5",
   "metadata": {},
   "source": [
    "### **RecyclerView**"
   ]
  },
  {
   "cell_type": "markdown",
   "id": "7d553b86-07ba-4983-a6fa-1f99f6d27bca",
   "metadata": {},
   "source": [
    "W `GalleryFragment` będzie znajdował się `RecyclerView`, więc rozpocznijmy od adaptera"
   ]
  },
  {
   "cell_type": "code",
   "execution_count": null,
   "id": "a2cc0501-7238-4593-af22-df84bc800609",
   "metadata": {},
   "outputs": [],
   "source": [
    "class GalleryAdapter(private val pictures: List<PictureModel>) \n",
    "    : RecyclerView.Adapter<GalleryAdapter.ViewHolder>() {\n",
    "\n",
    "    class ViewHolder(private val itemBinding: ItemViewBinding) \n",
    "        : RecyclerView.ViewHolder(itemBinding.root) {\n",
    "        fun bind (item: PictureModel){\n",
    "            itemBinding.textViewTitle.text = item.title\n",
    "            itemBinding.rcImageView.setImageURI(Uri.parse(item.image))\n",
    "        }\n",
    "    }\n",
    "\n",
    "    override fun onCreateViewHolder(parent: ViewGroup, viewType: Int): ViewHolder {\n",
    "        return ViewHolder(\n",
    "            ItemViewBinding.inflate(\n",
    "                LayoutInflater.from(parent.context), parent, false))\n",
    "    }\n",
    "\n",
    "    override fun onBindViewHolder(holder: ViewHolder, position: Int) {\n",
    "        val item = pictures[position]\n",
    "        holder.bind(item)\n",
    "    }\n",
    "\n",
    "    override fun getItemCount(): Int = pictures.size\n",
    "}"
   ]
  },
  {
   "cell_type": "markdown",
   "id": "c4c8abb5-3ec5-4566-b7a0-9845521ea2dc",
   "metadata": {},
   "source": [
    "dodajmy `RecyclerView` do layoutu fragmentu\n",
    "\n",
    "```xml\n",
    "<FrameLayout xmlns:android=\"http://schemas.android.com/apk/res/android\"\n",
    "    xmlns:tools=\"http://schemas.android.com/tools\"\n",
    "    android:layout_width=\"match_parent\"\n",
    "    android:layout_height=\"match_parent\"\n",
    "    tools:context=\".fragments.GalleryFragment\">\n",
    "\n",
    "    <androidx.recyclerview.widget.RecyclerView\n",
    "        android:id=\"@+id/recycler\"\n",
    "        android:layout_width=\"match_parent\"\n",
    "        android:layout_height=\"match_parent\" />\n",
    "\n",
    "</FrameLayout>\n",
    "```\n",
    "\n",
    "Ostatnim krokiem będzie dodanie `RecyclerView` do `GalleryFragment`"
   ]
  },
  {
   "cell_type": "code",
   "execution_count": null,
   "id": "c205f668-5101-40ea-9b0b-e3279d653304",
   "metadata": {},
   "outputs": [],
   "source": [
    "class GalleryFragment : Fragment() {\n",
    "\n",
    "    private lateinit var binding: FragmentGalleryBinding\n",
    "\n",
    "    override fun onCreateView(\n",
    "        inflater: LayoutInflater, container: ViewGroup?,\n",
    "        savedInstanceState: Bundle?\n",
    "    ): View {\n",
    "        binding = FragmentGalleryBinding.inflate(inflater, container, false)\n",
    "        return binding.root\n",
    "    }\n",
    "\n",
    "    override fun onViewCreated(view: View, savedInstanceState: Bundle?) {\n",
    "        super.onViewCreated(view, savedInstanceState)\n",
    "\n",
    "        val dbHandler = DBHandler(requireContext())\n",
    "\n",
    "        binding.recycler.apply {\n",
    "            layoutManager = LinearLayoutManager(requireContext())\n",
    "            adapter = GalleryAdapter(dbHandler.getAllItems())\n",
    "        }\n",
    "    }\n",
    "}"
   ]
  },
  {
   "cell_type": "markdown",
   "id": "1f5f208a-fa16-49ab-8f0f-1c02098bae51",
   "metadata": {},
   "source": [
    "Możemy przetestować aplikację"
   ]
  }
 ],
 "metadata": {
  "kernelspec": {
   "display_name": "Kotlin",
   "language": "kotlin",
   "name": "kotlin"
  },
  "language_info": {
   "codemirror_mode": "text/x-kotlin",
   "file_extension": ".kt",
   "mimetype": "text/x-kotlin",
   "name": "kotlin",
   "nbconvert_exporter": "",
   "pygments_lexer": "kotlin",
   "version": "1.6.20-dev-6372"
  }
 },
 "nbformat": 4,
 "nbformat_minor": 5
}
