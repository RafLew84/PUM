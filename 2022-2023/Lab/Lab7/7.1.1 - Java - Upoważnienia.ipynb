{
 "cells": [
  {
   "cell_type": "markdown",
   "id": "a87be9e8-ff52-4f68-ad94-148d7f1a15a6",
   "metadata": {},
   "source": [
    "## 7.1 Upoważnienia - podstawy"
   ]
  },
  {
   "cell_type": "markdown",
   "id": "62266b18-11a6-4c4a-a2a1-195c8fd7593d",
   "metadata": {},
   "source": [
    "W aplikacji poprosimy u dostęp do kamery - nie będziemy jeszcze z niej korzystać. Nie będziemy również wykorzystywać zewnętrznych bibliotek do zarządzania upoważnieniami. Tutaj posłużymy się tylko jedną aktywnością aby zobaczyć jak wyglądają podstawy i implementacja niezbędnych elementów.\n",
    "\n",
    "Jeżeli aplikacja wymaga wykorzystania elementów do których niezbędne jest upoważnienie musi zadeklarować to w `AndroidManifest.xml`"
   ]
  },
  {
   "cell_type": "code",
   "execution_count": null,
   "id": "a2801f9d-f436-4b36-92e8-20b66935c0b0",
   "metadata": {},
   "outputs": [],
   "source": [
    "<uses-permission android:name=\"android.permission.CAMERA\" />"
   ]
  },
  {
   "cell_type": "markdown",
   "id": "b081f3d8-8619-4de0-b8eb-ab0234671117",
   "metadata": {},
   "source": [
    "Jeżeli pożądane upoważnienie jest zaliczane do niebezpiecznych wymagane jest uwierzytelnienie przez użytkownika. W tej aplikacji poprosimy o nadanie upoważnienia przez przycisk, więc zmodyfikujmy layout"
   ]
  },
  {
   "cell_type": "code",
   "execution_count": null,
   "id": "0ad2d538-7dd1-4f62-b43e-b0a09953e607",
   "metadata": {},
   "outputs": [],
   "source": [
    "<?xml version=\"1.0\" encoding=\"utf-8\"?>\n",
    "<androidx.constraintlayout.widget.ConstraintLayout \n",
    "xmlns:android=\"http://schemas.android.com/apk/res/android\"\n",
    "    xmlns:app=\"http://schemas.android.com/apk/res-auto\"\n",
    "    xmlns:tools=\"http://schemas.android.com/tools\"\n",
    "    android:layout_width=\"match_parent\"\n",
    "    android:layout_height=\"match_parent\"\n",
    "    tools:context=\".MainActivity\">\n",
    "\n",
    "    <Button\n",
    "        android:id=\"@+id/cameraButton\"\n",
    "        android:layout_width=\"wrap_content\"\n",
    "        android:layout_height=\"wrap_content\"\n",
    "        android:text=\"kamera\"\n",
    "        app:layout_constraintBottom_toBottomOf=\"parent\"\n",
    "        app:layout_constraintEnd_toEndOf=\"parent\"\n",
    "        app:layout_constraintStart_toStartOf=\"parent\"\n",
    "        app:layout_constraintTop_toTopOf=\"parent\" />\n",
    "\n",
    "</androidx.constraintlayout.widget.ConstraintLayout>"
   ]
  },
  {
   "cell_type": "markdown",
   "id": "3ddabf0c-4abc-4e15-86c1-e45112d7db14",
   "metadata": {},
   "source": [
    "Pierwszym elementem będzie zdefiniowanie `registerForActivityResult` - tutaj tylko wykonamy proste logowanie odpowiedzi"
   ]
  },
  {
   "cell_type": "code",
   "execution_count": null,
   "id": "b09e4f7d-f5c4-4d25-b471-4f378fb2951a",
   "metadata": {},
   "outputs": [],
   "source": [
    "private final ActivityResultLauncher<String> requestPermissionLauncher =\n",
    "        registerForActivityResult(new ActivityResultContracts.RequestPermission(), isGranted -> {\n",
    "            if (isGranted) {\n",
    "                Log.i(\"Permission: \", \"Granted\");\n",
    "            } else {\n",
    "                Log.i(\"Permission: \", \"Denied\");\n",
    "            }\n",
    "        });"
   ]
  },
  {
   "cell_type": "markdown",
   "id": "4c89a37a-7ee2-419a-a4ea-72112a09817a",
   "metadata": {},
   "source": [
    "Następnie przejdźmy do obsługi przycisku"
   ]
  },
  {
   "cell_type": "code",
   "execution_count": null,
   "id": "4172eae7-bc0c-4390-891e-6f65134f06a2",
   "metadata": {},
   "outputs": [],
   "source": [
    "findViewById(R.id.cameraButton).setOnClickListener(v -> {})"
   ]
  },
  {
   "cell_type": "markdown",
   "id": "6c92c723-ba76-4770-a6ac-50acf2e4c1e9",
   "metadata": {},
   "source": [
    "Mamy trzy możliwości do obsłużenia\n",
    "- upoważnienie jest już nadane - wyświetlimy tylko prostą wiadomość"
   ]
  },
  {
   "cell_type": "code",
   "execution_count": null,
   "id": "ed9b953e-276e-4675-81ee-5470ca1bee8e",
   "metadata": {},
   "outputs": [],
   "source": [
    "if (ContextCompat.checkSelfPermission(\n",
    "        this,\n",
    "        Manifest.permission.CAMERA\n",
    ") == PackageManager.PERMISSION_GRANTED) {\n",
    "    Toast.makeText(this, \"Upoważnienie nadane\", Toast.LENGTH_SHORT).show();\n",
    "}"
   ]
  },
  {
   "cell_type": "markdown",
   "id": "95b1bbd4-1e43-494b-9a75-9fb42c92c355",
   "metadata": {},
   "source": [
    "- upoważnienie zostało już odrzucone - tutaj możemy pokazać `Rationale`, czyli krótką informację dla użytkownika przedstawiającą konieczność nadania upoważnienia"
   ]
  },
  {
   "cell_type": "code",
   "execution_count": null,
   "id": "011ab5b6-f763-474e-8ff3-b0a8a77631c3",
   "metadata": {},
   "outputs": [],
   "source": [
    "else if (ActivityCompat.shouldShowRequestPermissionRationale(this, Manifest.permission.CAMERA)) {\n",
    "                showMessageOKCancel(\"Wymagane upoważnienie\");\n",
    "            }"
   ]
  },
  {
   "cell_type": "markdown",
   "id": "b28c9608-0c67-40fb-bff8-1513e228ae02",
   "metadata": {},
   "source": [
    "Wiadomość wyświetlimy w formie `AlertDialog`, więc napiszmy metodę `showMessageOKCancel` - jeżeli użytkwnik naciśnie przycisk `OK` wyświetlamy ponownie prośbę o nadanie upoważnienia"
   ]
  },
  {
   "cell_type": "code",
   "execution_count": null,
   "id": "32212ff5-cdb0-4952-8d8b-8903898f9abe",
   "metadata": {},
   "outputs": [],
   "source": [
    "private void showMessageOKCancel(String message) {\n",
    "    new AlertDialog.Builder(MainActivity.this)\n",
    "            .setMessage(message)\n",
    "            .setPositiveButton(\"OK\", (dialogInterface, i) -> {\n",
    "                requestPermissionLauncher.launch(Manifest.permission.CAMERA);\n",
    "                dialogInterface.dismiss();\n",
    "            })\n",
    "            .setNegativeButton(\"Cancel\", null)\n",
    "            .create()\n",
    "            .show();\n",
    "}"
   ]
  },
  {
   "cell_type": "markdown",
   "id": "7db82462-22ab-4ba9-a882-132be0ea7080",
   "metadata": {},
   "source": [
    "- upoważnienie nie jest nadane - tutaj wyśeitlamy odpowiedni dialog systemowy"
   ]
  },
  {
   "cell_type": "code",
   "execution_count": null,
   "id": "6a99d316-fd8c-4dc0-8e43-a95f5878781a",
   "metadata": {},
   "outputs": [],
   "source": [
    "else {requestPermissionLauncher.launch(Manifest.permission.CAMERA);}"
   ]
  },
  {
   "cell_type": "markdown",
   "id": "b6caf1bb-0de1-46de-982d-3576a27a6e4e",
   "metadata": {},
   "source": [
    "Możemy przetestować aplikację"
   ]
  },
  {
   "cell_type": "markdown",
   "id": "baf2146c-1620-4ad7-b635-8279e40f3d22",
   "metadata": {},
   "source": [
    "<img src=\"https://media4.giphy.com/media/VQjGu7ODaLLGmoe2FV/giphy.gif?cid=790b76110edd5cb95bc2f985617c813559c9d235ae6dafcd&rid=giphy.gif&ct=g\" width=\"150\" />"
   ]
  },
  {
   "cell_type": "code",
   "execution_count": null,
   "id": "c8ad0542-5e88-4e7f-86ac-f6483c9b859b",
   "metadata": {},
   "outputs": [],
   "source": []
  }
 ],
 "metadata": {
  "kernelspec": {
   "display_name": "Java",
   "language": "java",
   "name": "java"
  },
  "language_info": {
   "codemirror_mode": "java",
   "file_extension": ".jshell",
   "mimetype": "text/x-java-source",
   "name": "Java",
   "pygments_lexer": "java",
   "version": "17+35-2724"
  }
 },
 "nbformat": 4,
 "nbformat_minor": 5
}
