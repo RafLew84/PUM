{
 "cells": [
  {
   "cell_type": "markdown",
   "id": "b56d6ea5-3d44-4453-888e-8ecd797fa86e",
   "metadata": {},
   "source": [
    "## 7.3 AppWidget - podstawy"
   ]
  },
  {
   "cell_type": "markdown",
   "id": "45b9f289-ae39-462e-a1fc-d6c6309814d0",
   "metadata": {},
   "source": [
    "W tej aplikacji zobaczymy jak utworzyć prosty widget. Dodamy widget w formie przycisku na ekran główny urządzenia i dodamy do niego ekran konfiguracji. Wszystkie elementy w tym przykładzie dodamy ręcznie, szybszym rozwiązaniem jest dodanie widgetu wprost przez wybranie z menu kontekstowego **New -> Widget -> App Widget**."
   ]
  },
  {
   "cell_type": "markdown",
   "id": "b48941f9-5209-4bb9-af0e-27d9573e290a",
   "metadata": {},
   "source": [
    "W pierwszym kroku dodamy layout naszego widgeta - standardowo do katalogu `layout` dodajemy plik `app_widget_layout`. Layout widgetu posiada pewne ograniczenia w dostępnych elementach.\n",
    "\n",
    "```xml\n",
    "<RelativeLayout xmlns:android=\"http://schemas.android.com/apk/res/android\"\n",
    "    android:layout_width=\"match_parent\"\n",
    "    android:layout_height=\"match_parent\">\n",
    "\n",
    "    <Button\n",
    "        android:id=\"@+id/widgetButton\"\n",
    "        android:layout_width=\"wrap_content\"\n",
    "        android:layout_height=\"wrap_content\"\n",
    "        android:layout_centerInParent=\"true\"\n",
    "        android:text=\"Widget\"/>\n",
    "\n",
    "</RelativeLayout>\n",
    "```\n",
    "\n",
    "Wpierw otworzymy okno naszej aplikacji po naciśnięciu tego przycisku, następnie dodamy ekran konfiguracyjny i zmienimy tekst przy dodaniu widgetu na ekran.\n",
    "\n",
    "Drugim krokiem będzie implementacja klasy providera, która zawiera implementacje metod reagujących na zmianęv stanu naszego widgetu lub na aktualizację danych."
   ]
  },
  {
   "cell_type": "code",
   "execution_count": null,
   "id": "2a3479b1-49a9-479f-945f-109e0f237b15",
   "metadata": {},
   "outputs": [],
   "source": [
    "class WidgetProvider : AppWidgetProvider() {}"
   ]
  },
  {
   "cell_type": "markdown",
   "id": "e5e4d6ad-0950-4052-a116-5dc39d13bfb4",
   "metadata": {},
   "source": [
    "W tym przykładzie będzie interesować nas tylko implementacja metody `onUpdate`"
   ]
  },
  {
   "cell_type": "code",
   "execution_count": null,
   "id": "2d93b818-378a-4e3d-9e4b-35920ab9bc1d",
   "metadata": {},
   "outputs": [],
   "source": [
    "override fun onUpdate(\n",
    "    context: Context?,\n",
    "    appWidgetManager: AppWidgetManager?,\n",
    "    appWidgetIds: IntArray?\n",
    ") {\n",
    "    super.onUpdate(context, appWidgetManager, appWidgetIds)\n",
    "}"
   ]
  },
  {
   "cell_type": "markdown",
   "id": "12eefe1e-0e54-40ea-b5fe-18cea322301d",
   "metadata": {},
   "source": [
    "Metoda przyjmuje trzy argumenty\n",
    "- `context`\n",
    "- `AppWidggetManager` - ponieważ widget działa na innym procesie będziemy się komunikować przez odpowedni manager\n",
    "- `appWidgetIds` - ponieważ możemy mieć wiele instancji widgetu na ekranie domowym potrzebujemy sposób na nadanie unikalnych identyfikatorów"
   ]
  },
  {
   "cell_type": "markdown",
   "id": "24b5f14a-0cec-4ca4-bc53-6ef35410e7da",
   "metadata": {},
   "source": [
    "Standardowo przechodzi się przez wszystkie identyfikatory dostępne w tabeli"
   ]
  },
  {
   "cell_type": "code",
   "execution_count": null,
   "id": "0bb97042-aee7-4e38-96e1-e0a5bb818e7d",
   "metadata": {},
   "outputs": [],
   "source": [
    "    for (appWidgetId in appWidgetIds!!) {}"
   ]
  },
  {
   "cell_type": "markdown",
   "id": "2a13705e-9987-42f3-9fda-aaa581918e48",
   "metadata": {},
   "source": [
    "Chcemy otworzyć ekran główny naszej aplikacji, więc dodamy tutaj odpowiedni `Intent` oraz (tak jak w powiadomieniach) `PendingIntent`"
   ]
  },
  {
   "cell_type": "code",
   "execution_count": null,
   "id": "168aaf6c-3486-4868-a64f-af645fa0bf57",
   "metadata": {},
   "outputs": [],
   "source": [
    "    val intent = Intent(context, MainActivity::class.java)\n",
    "    val pendingIntent = PendingIntent.getActivity(\n",
    "        context,\n",
    "        0,\n",
    "        intent,\n",
    "        PendingIntent.FLAG_IMMUTABLE\n",
    "    )"
   ]
  },
  {
   "cell_type": "markdown",
   "id": "3634deed-e756-43a7-ab09-71c3b079228e",
   "metadata": {},
   "source": [
    "Nastęnie layout naszego widgetu będziemy przekazywać jako `RemoteView`"
   ]
  },
  {
   "cell_type": "code",
   "execution_count": null,
   "id": "687e326e-759c-4dd4-afda-ee3d96137cb6",
   "metadata": {},
   "outputs": [],
   "source": [
    "    val views = RemoteViews(\n",
    "        context.packageName,\n",
    "        R.layout.app_widget_layout\n",
    "    )"
   ]
  },
  {
   "cell_type": "markdown",
   "id": "2e005e46-7cad-4b86-a8f4-377e20b148ff",
   "metadata": {},
   "source": [
    "Następnie chcemy dodać obsługę `onClick` przycisku w layoucie widgetu, w tym celu musimy wywołać metodę `setOnClickPendingIntent`"
   ]
  },
  {
   "cell_type": "code",
   "execution_count": null,
   "id": "322d1776-70f4-4915-ab0f-c67f8cd25969",
   "metadata": {},
   "outputs": [],
   "source": [
    "    views.setOnClickPendingIntent(R.id.widgetButton, pendingIntent)"
   ]
  },
  {
   "cell_type": "markdown",
   "id": "57c5cdd4-ce7d-49ac-828a-a8cdcd7db0dc",
   "metadata": {},
   "source": [
    "Następnie wywołujemy `updateAppWidget` na każdej instancji naszego widgetu"
   ]
  },
  {
   "cell_type": "code",
   "execution_count": null,
   "id": "eb1636ff-71f6-4038-b4fd-1d7a14618afa",
   "metadata": {},
   "outputs": [],
   "source": [
    "    appWidgetManager!!.updateAppWidget(appWidgetId, views)"
   ]
  },
  {
   "cell_type": "markdown",
   "id": "6f9f146c-b957-494b-b576-ed7298397dc5",
   "metadata": {},
   "source": [
    "Pełna implementacja metody `onUpdate`"
   ]
  },
  {
   "cell_type": "code",
   "execution_count": null,
   "id": "9659a33c-95da-4de5-bfbb-c3368c7b12f7",
   "metadata": {},
   "outputs": [],
   "source": [
    "override fun onUpdate(\n",
    "    context: Context?,\n",
    "    appWidgetManager: AppWidgetManager?,\n",
    "    appWidgetIds: IntArray?\n",
    ") {\n",
    "    super.onUpdate(context, appWidgetManager, appWidgetIds)\n",
    "    for (appWidgetId in appWidgetIds!!) {\n",
    "        val intent = Intent(context, MainActivity::class.java)\n",
    "        val pendingIntent = PendingIntent.getActivity(\n",
    "            context,\n",
    "            0,\n",
    "            intent,\n",
    "            PendingIntent.FLAG_IMMUTABLE\n",
    "        )\n",
    "\n",
    "        val views = RemoteViews(\n",
    "            context.packageName,\n",
    "            R.layout.app_widget_layout\n",
    "        )\n",
    "        views.setOnClickPendingIntent(R.id.widgetButton, pendingIntent)\n",
    "        appWidgetManager!!.updateAppWidget(appWidgetId, views)\n",
    "    }\n",
    "}"
   ]
  },
  {
   "cell_type": "markdown",
   "id": "ba303bee-1e54-4de1-8218-8a565e7c2e5f",
   "metadata": {},
   "source": [
    "Kolejnym krokiem będzie zdefiniowanie rozmiarów konteneru na widget i kilku dodatkowych informacji, robimy to w katalogu `xml`. Dodajmy nowy plik `app_widget_info.xml`, jako **root element** wybieramy `appwidget-provider`\n",
    "\n",
    "```xml\n",
    "<?xml version=\"1.0\" encoding=\"utf-8\"?>\n",
    "<appwidget-provider xmlns:android=\"http://schemas.android.com/apk/res/android\"\n",
    "    >\n",
    "\n",
    "</appwidget-provider>\n",
    "```\n",
    "\n",
    "dodamy kilka elementów\n",
    "- layout startowy - będzie to layout zdefiniowany dla naszego widgetu\n",
    "```xml\n",
    "    android:initialLayout=\"@layout/app_widget_layout\"\n",
    "```\n",
    "\n",
    "\n",
    "- rozmiar minimalny - podajemy `40dp` oraz `110dp`, czyli nasz rozmiar będzie wynosił 1 x 2 komórki\n",
    "```xml\n",
    "    android:minHeight=\"40dp\"\n",
    "    android:minWidth=\"110dp\"\n",
    "```\n",
    "\n",
    "\n",
    "- umożliwimy zmniejszenie rozmiarów do 1 kolumny\n",
    "```xml\n",
    "    android:minResizeWidth=\"40dp\"\n",
    "```\n",
    "\n",
    "\n",
    "- umożliwimy zmianę rozmiaru widgetu w obu kierunkach\n",
    "```xml\n",
    "    android:resizeMode=\"vertical|horizontal\"\n",
    "```\n",
    "\n",
    "\n",
    "- aktualizacja widgetu zazwyczaj nie mniej niż 30 minut\n",
    "```xml\n",
    "    android:updatePeriodMillis=\"36000000\"\n",
    "```\n",
    "\n",
    "\n",
    "- widget będzie dostępny tylko na ekranie domowym\n",
    "```xml\n",
    "    android:widgetCategory=\"home_screen\"\n",
    "```\n",
    "\n",
    "\n",
    "pełny plik `app_widget_info.xml`\n",
    "```xml\n",
    "<?xml version=\"1.0\" encoding=\"utf-8\"?>\n",
    "<appwidget-provider xmlns:android=\"http://schemas.android.com/apk/res/android\"\n",
    "   android:initialLayout=\"@layout/app_widget_layout\"\n",
    "    android:minHeight=\"40dp\"\n",
    "    android:minWidth=\"110dp\"\n",
    "    android:minResizeWidth=\"40dp\"\n",
    "    android:resizeMode=\"vertical|horizontal\"\n",
    "    android:updatePeriodMillis=\"36000000\"\n",
    "    android:widgetCategory=\"home_screen\">\n",
    "\n",
    "</appwidget-provider>\n",
    "```\n",
    "\n",
    "W kolejnym kroku musimy zarejestrować nasz widget w manifeście aplikacji - przechodzimy do `AndroidManifest`. w tagach `receiver` dodajemy nazwę naszego widgetu (wewnątrz `application`)\n",
    "\n",
    "\n",
    "```xml\n",
    "<receiver android:name=\".WidgetProvider\"\n",
    "    android:exported=\"false\">\n",
    "</receiver>\n",
    "```\n",
    "\n",
    "Następnie dodajemy `intent-filter` i definiujemy dostępne akcje\n",
    "```xml\n",
    "<receiver android:name=\".WidgetProvider\"\n",
    "    android:exported=\"false\">\n",
    "    <intent-filter>\n",
    "        <action android:name=\"android.appwidget.action.APPWIDGET_UPDATE\"/>\n",
    "    </intent-filter>\n",
    "</receiver>\n",
    "```\n",
    "\n",
    "Ostatnię wymaganą informacją jest wskazanie providera i konfiguracji\n",
    "\n",
    "```xml\n",
    "<receiver android:name=\".WidgetProvider\"\n",
    "    android:exported=\"false\">\n",
    "    <intent-filter>\n",
    "        <action android:name=\"android.appwidget.action.APPWIDGET_UPDATE\"/>\n",
    "    </intent-filter>\n",
    "    <meta-data\n",
    "        android:name=\"android.appwidget.provider\"\n",
    "        android:resource=\"@xml/app_widget_info\"/>\n",
    "</receiver>\n",
    "```"
   ]
  },
  {
   "cell_type": "markdown",
   "id": "2c590655-bfd0-4872-8ee4-7b82df7117ea",
   "metadata": {},
   "source": [
    "Możemy przetestować aplikację"
   ]
  },
  {
   "cell_type": "markdown",
   "id": "7c379b98-8660-4634-b31b-9acd578de491",
   "metadata": {},
   "source": [
    "<img src=\"https://media1.giphy.com/media/SMYlTXKvTUc8W5gIvZ/giphy.gif?cid=790b761136c8abe5f6d73470d6cef5ccce8c5ab1a89cebcc&rid=giphy.gif&ct=g\" width=\"150\" />"
   ]
  },
  {
   "cell_type": "markdown",
   "id": "8a407efd-ae16-4c34-a1f3-3783200df777",
   "metadata": {},
   "source": [
    "W kolejnym kroku dodamy aktywność umożliwiającą konfigurowanie naszego widgetu, rozpocznijmy od layoutu\n",
    "\n",
    "```xml\n",
    "<?xml version=\"1.0\" encoding=\"utf-8\"?>\n",
    "<LinearLayout xmlns:android=\"http://schemas.android.com/apk/res/android\"\n",
    "    xmlns:app=\"http://schemas.android.com/apk/res-auto\"\n",
    "    xmlns:tools=\"http://schemas.android.com/tools\"\n",
    "    android:layout_width=\"match_parent\"\n",
    "    android:layout_height=\"match_parent\"\n",
    "    tools:context=\".WidgetConfigActivity\"\n",
    "    android:orientation=\"vertical\">\n",
    "\n",
    "    <EditText\n",
    "        android:id=\"@+id/widgetConfigEditText\"\n",
    "        android:layout_width=\"match_parent\"\n",
    "        android:layout_height=\"wrap_content\"\n",
    "        android:hint=\"set button text\"\n",
    "        android:layout_margin=\"16dp\"/>\n",
    "\n",
    "    <Button\n",
    "        android:id=\"@+id/widgetConfigButton\"\n",
    "        android:layout_width=\"wrap_content\"\n",
    "        android:layout_height=\"wrap_content\"\n",
    "        android:layout_marginStart=\"16dp\"\n",
    "        android:text=\"confirm\"/>\n",
    "\n",
    "</LinearLayout>\n",
    "```\n",
    "\n",
    "Przejdźmy do `WidgetConfigActivity` i dodajmy `ViewBinding`"
   ]
  },
  {
   "cell_type": "code",
   "execution_count": null,
   "id": "5a4fe2e8-b1d7-4d92-90be-e26d402dfd4e",
   "metadata": {},
   "outputs": [],
   "source": [
    "class WidgetConfigActivity : AppCompatActivity() {\n",
    "\n",
    "    override fun onCreate(savedInstanceState: Bundle?) {\n",
    "        super.onCreate(savedInstanceState)\n",
    "        setContentView(binding.root)\n",
    "    }\n",
    "}"
   ]
  },
  {
   "cell_type": "markdown",
   "id": "0f6d188a-08c0-4327-93e6-d2846735d17c",
   "metadata": {},
   "source": [
    "Naszą konfigurację będziemy przechowywać w `SharedPreferences`. Wstępnie będziemy potrzebować dwa klucze dla `SharedPreferences` oraz klucz umożliwiający weryfikację poprawności przesłania danych do widgetu"
   ]
  },
  {
   "cell_type": "code",
   "execution_count": null,
   "id": "2bde1d93-6878-4402-9737-58710b435e0b",
   "metadata": {},
   "outputs": [],
   "source": [
    "const val SHARED_PREFS = \"shared_prefs\"\n",
    "const val KEY_BUTTON_TEXT = \"keyButton\""
   ]
  },
  {
   "cell_type": "markdown",
   "id": "81a07c39-9938-4ca6-a31f-ebd1affbcb28",
   "metadata": {},
   "source": [
    "Następnie dodamy identyfikator naszego widgetu"
   ]
  },
  {
   "cell_type": "code",
   "execution_count": null,
   "id": "48fd1772-644d-4937-96d2-6f129cb830b6",
   "metadata": {},
   "outputs": [],
   "source": [
    "private var appWidgetId = AppWidgetManager.INVALID_APPWIDGET_ID"
   ]
  },
  {
   "cell_type": "markdown",
   "id": "0e853c68-88bd-44fc-af45-efc52b1026a8",
   "metadata": {},
   "source": [
    "Ekran konfiguracji zostanie uruchomiony w momencie umieszczenia widgetu na ekranie domowym - gdy to się stanie do aktywności zostanie przekazanych `Intent`, więc musimy go odebrać i rozpakować dane"
   ]
  },
  {
   "cell_type": "code",
   "execution_count": null,
   "id": "5fa34ccd-0bf8-4efb-a974-d76c17af6301",
   "metadata": {},
   "outputs": [],
   "source": [
    "val extras = intent.extras"
   ]
  },
  {
   "cell_type": "markdown",
   "id": "23cb3ebf-02fa-4c89-9869-ebd0c0ef2d1d",
   "metadata": {},
   "source": [
    "Z otrzymanych `extras` wyciągamy `id` widgetu"
   ]
  },
  {
   "cell_type": "code",
   "execution_count": null,
   "id": "81cf952c-433a-4d48-aecd-7e1c51f74a22",
   "metadata": {},
   "outputs": [],
   "source": [
    "if (extras != null) {\n",
    "    appWidgetId = extras.getInt(\n",
    "        AppWidgetManager.EXTRA_APPWIDGET_ID,\n",
    "        AppWidgetManager.INVALID_APPWIDGET_ID\n",
    "    )\n",
    "}"
   ]
  },
  {
   "cell_type": "markdown",
   "id": "007112b6-ac25-485a-a986-c5bd5e2ebcd7",
   "metadata": {},
   "source": [
    "Jeżeli otrzymane `id` jest niepoprawne i równe wartości domyślnej wyciągniętej z `extras` (`INVALID_APPWIDGET_ID`) chcemy zakończyć działanie aktywności"
   ]
  },
  {
   "cell_type": "code",
   "execution_count": null,
   "id": "913f943b-e759-4926-b549-4412fe712b54",
   "metadata": {},
   "outputs": [],
   "source": [
    "if (appWidgetId == AppWidgetManager.INVALID_APPWIDGET_ID) finish()"
   ]
  },
  {
   "cell_type": "markdown",
   "id": "20d47bd8-58b8-4f09-acb6-07635812fdd5",
   "metadata": {},
   "source": [
    "Następnie implementujemy `onClick` przycisku. Dalej chcemy otwierać aktywność główną, więc implementujemy dokładnie tak jak poprzednio"
   ]
  },
  {
   "cell_type": "code",
   "execution_count": null,
   "id": "c09a6e02-e138-4f73-88fe-02798bb5eee4",
   "metadata": {},
   "outputs": [],
   "source": [
    "binding.widgetConfigButton.setOnClickListener {\n",
    "    val appWidgetManager = AppWidgetManager.getInstance(this)\n",
    "    val intent = Intent(this, MainActivity::class.java)\n",
    "    val pendingIntent = PendingIntent.getActivity(\n",
    "        this,\n",
    "        0,\n",
    "        intent,\n",
    "        PendingIntent.FLAG_IMMUTABLE)"
   ]
  },
  {
   "cell_type": "markdown",
   "id": "60c5c1ce-fa3c-4217-b252-75276fdc753c",
   "metadata": {},
   "source": [
    "Następnie wyciągamy tekst z pola `EditText` i jeżeli nie jest pusty wykonujemy kilka czynności. Wpierw tworzymy `RemoteViews`, który da nam dostęp do layoutu widgetu. Następnie ustawiamy `onClick` przycisku na widgecie"
   ]
  },
  {
   "cell_type": "code",
   "execution_count": null,
   "id": "48b053df-49a4-4a31-b528-71222ae1cd5e",
   "metadata": {},
   "outputs": [],
   "source": [
    "if (text.isNotEmpty()) {\n",
    "    val views = RemoteViews(\n",
    "        this@WidgetConfigActivity.packageName,\n",
    "        R.layout.app_widget_layout\n",
    "    ).setOnClickPendingIntent(R.id.widgetButton, pendingIntent)"
   ]
  },
  {
   "cell_type": "markdown",
   "id": "2605fa24-45e9-4039-8615-55e1e5d5899f",
   "metadata": {},
   "source": [
    "Następnie chcemy ustawić tekst przycisku, robimy to wywołując metodę `setCharSequence`, przyjmuje trzy argumenty\n",
    "- id elementu który chcemy zmodyfikować\n",
    "- nazwę metody którą chcemy wywołać (podajemy jako `String`) - tutaj będzie to `setText`\n",
    "- `String` który chcemy przkekazać"
   ]
  },
  {
   "cell_type": "code",
   "execution_count": null,
   "id": "9c3bc361-33bf-4dc6-a6a7-24b0daa94799",
   "metadata": {},
   "outputs": [],
   "source": [
    "val views = RemoteViews(\n",
    "    this@WidgetConfigActivity.packageName,\n",
    "    R.layout.app_widget_layout\n",
    ").apply {\n",
    "    setOnClickPendingIntent(R.id.widgetButton, pendingIntent)\n",
    "    setCharSequence(R.id.widgetButton, \"setText\", text)\n",
    "}"
   ]
  },
  {
   "cell_type": "markdown",
   "id": "a80b931d-2681-42d9-95fb-11f7af3a8729",
   "metadata": {},
   "source": [
    "Następnie wywołujemy `updateAppWidget`"
   ]
  },
  {
   "cell_type": "code",
   "execution_count": null,
   "id": "18e63430-04f5-43a0-9f5e-56fd7cab20ae",
   "metadata": {},
   "outputs": [],
   "source": [
    "    appWidgetManager.updateAppWidget(appWidgetId, views)"
   ]
  },
  {
   "cell_type": "markdown",
   "id": "4abf1485-0578-41a2-b882-4ef251fd974c",
   "metadata": {},
   "source": [
    "Samą wartość będziemy przechowywać w `SharedPreferences`"
   ]
  },
  {
   "cell_type": "code",
   "execution_count": null,
   "id": "01578883-adae-46be-9c7a-fcaf2f201c81",
   "metadata": {},
   "outputs": [],
   "source": [
    "    val sharedPreferences = getSharedPreferences(\n",
    "        SHARED_PREFS, MODE_PRIVATE)\n",
    "    val editor = sharedPreferences.edit()\n",
    "    editor.apply {\n",
    "        putString(KEY_BUTTON_TEXT + appWidgetId, text)\n",
    "        apply()}"
   ]
  },
  {
   "cell_type": "markdown",
   "id": "90078327-054b-4412-83db-20268574d855",
   "metadata": {},
   "source": [
    "Ostatnim krokiem jest stworzenie i przekazanie `Intent` z identyfikatorem widgetu który aktualizujemy"
   ]
  },
  {
   "cell_type": "code",
   "execution_count": null,
   "id": "6d22da6e-4993-42ea-9b8b-c629a6071d96",
   "metadata": {},
   "outputs": [],
   "source": [
    "    val resultIntent = Intent()\n",
    "    resultIntent.putExtra(AppWidgetManager.EXTRA_APPWIDGET_ID, appWidgetId)\n",
    "    setResult(RESULT_OK, resultIntent)"
   ]
  },
  {
   "cell_type": "markdown",
   "id": "c8cce40f-025d-461e-a639-ea4d49486624",
   "metadata": {},
   "source": [
    "Na koniec kończymy działanie aktynwości konfiguracyjnej"
   ]
  },
  {
   "cell_type": "code",
   "execution_count": null,
   "id": "68d576cb-2e02-4879-a353-6ab0b778c0f4",
   "metadata": {},
   "outputs": [],
   "source": [
    "    finish()"
   ]
  },
  {
   "cell_type": "markdown",
   "id": "999fb57e-49c5-4bb6-93ce-8eb628dd1fe3",
   "metadata": {},
   "source": [
    "W kolejnym kroku musimy ppoinformować o przeznaczeniu aktywności w `AndroidManifest`, czyli wskazujemy że `WidgetConfigActivity` odpowiada za konfigurację widgetu\n",
    "\n",
    "```xml\n",
    "<activity\n",
    "    android:name=\".WidgetConfigActivity\"\n",
    "    android:exported=\"false\">\n",
    "    <intent-filter>\n",
    "        <action android:name=\"android.appwidget.action.APPWIDGET_CONFIGURE\"/>\n",
    "    </intent-filter>\n",
    "</activity>\n",
    "```"
   ]
  },
  {
   "cell_type": "markdown",
   "id": "d0231500-12a2-403f-83b1-5564b68fd4a9",
   "metadata": {},
   "source": [
    "W pliku `app_widget_info.xml` wskazujemy aktywność odpowiedzialną za konfigurację\n",
    "\n",
    "```xml\n",
    "android:configure=\"pl.edu.uwr.pum.widgetbasicsjava.WidgetConfigActivity\"\n",
    "```"
   ]
  },
  {
   "cell_type": "markdown",
   "id": "c41bf07e-bf3d-4b11-8989-1c6a2cd53e07",
   "metadata": {},
   "source": [
    "Musimy jeszcze wprowadzić zmiany w klasie `WidgetProvider`, wyciągniemy tekst z `SharedPreferences` i uaktualnimy text przycisku."
   ]
  },
  {
   "cell_type": "code",
   "execution_count": null,
   "id": "b4459b90-7d83-4733-b475-a0df286ec40c",
   "metadata": {},
   "outputs": [],
   "source": [
    "override fun onUpdate(\n",
    "    context: Context?,\n",
    "    appWidgetManager: AppWidgetManager?,\n",
    "    appWidgetIds: IntArray?\n",
    ") {\n",
    "    super.onUpdate(context, appWidgetManager, appWidgetIds)\n",
    "    for (appWidgetId in appWidgetIds!!) {\n",
    "        val intent = Intent(context, MainActivity::class.java)\n",
    "        val pendingIntent = PendingIntent.getActivity(\n",
    "            context,\n",
    "            0,\n",
    "            intent,\n",
    "            PendingIntent.FLAG_IMMUTABLE\n",
    "        )\n",
    "\n",
    "        val preferences = context!!.getSharedPreferences(\n",
    "            SHARED_PREFS, Context.MODE_PRIVATE)\n",
    "        val text = preferences.getString(\n",
    "            KEY_BUTTON_TEXT + appWidgetId, \"Click me\")\n",
    "\n",
    "        val views = RemoteViews(\n",
    "            context.packageName,\n",
    "            R.layout.app_widget_layout\n",
    "        )\n",
    "        views.apply {\n",
    "            setOnClickPendingIntent(R.id.widgetButton, pendingIntent)\n",
    "            setCharSequence(R.id.widgetButton, \"setText\", text)\n",
    "        }\n",
    "        appWidgetManager!!.updateAppWidget(appWidgetId, views)\n",
    "    }\n",
    "}"
   ]
  },
  {
   "cell_type": "markdown",
   "id": "e98fb9c0-75f2-419c-839a-c10dc4d7b41d",
   "metadata": {},
   "source": [
    "Możemy przetestować aplikację"
   ]
  },
  {
   "cell_type": "markdown",
   "id": "c2e0dc25-d1e7-4b34-8290-6c5772b6f414",
   "metadata": {},
   "source": [
    "<img src=\"https://media0.giphy.com/media/eOVuYgGRlI3wZBfE1g/giphy.gif?cid=790b7611e2b3d01b76b1ccf0996ad803a5ecdfe4030108a5&rid=giphy.gif&ct=g\" width=\"150\" />"
   ]
  }
 ],
 "metadata": {
  "kernelspec": {
   "display_name": "Kotlin",
   "language": "kotlin",
   "name": "kotlin"
  },
  "language_info": {
   "codemirror_mode": "text/x-kotlin",
   "file_extension": ".kt",
   "mimetype": "text/x-kotlin",
   "name": "kotlin",
   "nbconvert_exporter": "",
   "pygments_lexer": "kotlin",
   "version": "1.6.20-dev-6372"
  }
 },
 "nbformat": 4,
 "nbformat_minor": 5
}
