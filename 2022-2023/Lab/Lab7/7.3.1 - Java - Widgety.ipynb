{
 "cells": [
  {
   "cell_type": "markdown",
   "id": "605ee551-fe23-4d04-96e1-9ac366572cf2",
   "metadata": {},
   "source": [
    "## 7.3 AppWidget - podstawy"
   ]
  },
  {
   "cell_type": "markdown",
   "id": "787c5e7b-b8e4-49d3-aed8-51b9a5ec3b28",
   "metadata": {},
   "source": [
    "W tej aplikacji zobaczymy jak utworzyć prosty widget. Dodamy widget w formie przycisku na ekran główny urządzenia i dodamy do niego ekran konfiguracji. Wszystkie elementy w tym przykładzie dodamy ręcznie, szybszym rozwiązaniem jest dodanie widgetu wprost przez wybranie z menu kontekstowego **New -> Widget -> App Widget**."
   ]
  },
  {
   "cell_type": "markdown",
   "id": "dc535eda-efab-4033-a6a1-ef091ff82dd2",
   "metadata": {},
   "source": [
    "W pierwszym kroku dodamy layout naszego widgeta - standardowo do katalogu `layout` dodajemy plik `app_widget_layout`. Layout widgetu posiada pewne ograniczenia w dostępnych elementach.\n",
    "\n",
    "```xml\n",
    "<RelativeLayout xmlns:android=\"http://schemas.android.com/apk/res/android\"\n",
    "    android:layout_width=\"match_parent\"\n",
    "    android:layout_height=\"match_parent\">\n",
    "\n",
    "    <Button\n",
    "        android:id=\"@+id/widgetButton\"\n",
    "        android:layout_width=\"wrap_content\"\n",
    "        android:layout_height=\"wrap_content\"\n",
    "        android:layout_centerInParent=\"true\"\n",
    "        android:text=\"Widget\"/>\n",
    "\n",
    "</RelativeLayout>\n",
    "```\n",
    "\n",
    "Wpierw otworzymy okno naszej aplikacji po naciśnięciu tego przycisku, następnie dodamy ekran konfiguracyjny i zmienimy tekst przy dodaniu widgetu na ekran.\n",
    "\n",
    "Drugim krokiem będzie implementacja klasy providera, która zawiera implementacje metod reagujących na zmianęv stanu naszego widgetu lub na aktualizację danych."
   ]
  },
  {
   "cell_type": "code",
   "execution_count": null,
   "id": "09a27921-25bb-475f-ad3a-3157e37e0cd1",
   "metadata": {},
   "outputs": [],
   "source": [
    "public class WidgetProvider extends AppWidgetProvider {}"
   ]
  },
  {
   "cell_type": "markdown",
   "id": "2a90deb4-c6c7-4a6e-b000-287d565ef8e1",
   "metadata": {},
   "source": [
    "W tym przykładzie będzie interesować nas tylko implementacja metody `onUpdate`"
   ]
  },
  {
   "cell_type": "code",
   "execution_count": null,
   "id": "81fa2c82-b462-43dc-a450-8c7105ab817c",
   "metadata": {},
   "outputs": [],
   "source": [
    "@Override\n",
    "public void onUpdate(Context context, AppWidgetManager appWidgetManager, int[] appWidgetIds) {\n",
    "    super.onUpdate(context, appWidgetManager, appWidgetIds);\n",
    "}"
   ]
  },
  {
   "cell_type": "markdown",
   "id": "95b49249-a133-4b02-9358-edb07f23ef31",
   "metadata": {},
   "source": [
    "Metoda przyjmuje trzy argumenty\n",
    "- `context`\n",
    "- `AppWidggetManager` - ponieważ widget działa na innym procesie będziemy się komunikować przez odpowedni manager\n",
    "- `appWidgetIds` - ponieważ możemy mieć wiele instancji widgetu na ekranie domowym potrzebujemy sposób na nadanie unikalnych identyfikatorów"
   ]
  },
  {
   "cell_type": "markdown",
   "id": "4b1bb00e-d185-4b73-ba63-31d83ef01980",
   "metadata": {},
   "source": [
    "Standardowo przechodzi się przez wszystkie identyfikatory dostępne w tabeli"
   ]
  },
  {
   "cell_type": "code",
   "execution_count": null,
   "id": "00cac74a-84d6-4367-9e9f-2c49bcab8f73",
   "metadata": {},
   "outputs": [],
   "source": [
    "    for (int appWidgetId : appWidgetIds){}"
   ]
  },
  {
   "cell_type": "markdown",
   "id": "1e076fee-ce84-41d8-a213-e65444dca245",
   "metadata": {},
   "source": [
    "Chcemy otworzyć ekran główny naszej aplikacji, więc dodamy tutaj odpowiedni `Intent` oraz (tak jak w powiadomieniach) `PendingIntent`"
   ]
  },
  {
   "cell_type": "code",
   "execution_count": null,
   "id": "4c7c96d9-f5a6-4507-b4f8-272e47c5c188",
   "metadata": {},
   "outputs": [],
   "source": [
    "    Intent intent = new Intent(context, MainActivity.class);\n",
    "    PendingIntent pendingIntent = PendingIntent.getActivity(\n",
    "            context,\n",
    "            0,\n",
    "            intent,\n",
    "            PendingIntent.FLAG_IMMUTABLE);"
   ]
  },
  {
   "cell_type": "markdown",
   "id": "8e500a10-fa60-40e0-bee6-b6e660010411",
   "metadata": {},
   "source": [
    "Nastęnie layout naszego widgetu będziemy przekazywać jako `RemoteView`"
   ]
  },
  {
   "cell_type": "code",
   "execution_count": null,
   "id": "dd451797-3fab-4c21-8a91-ea45eb8f686d",
   "metadata": {},
   "outputs": [],
   "source": [
    "    RemoteViews views = new RemoteViews(\n",
    "                    context.getPackageName(),\n",
    "                    R.layout.app_widget_layout);"
   ]
  },
  {
   "cell_type": "markdown",
   "id": "86578b19-f4d3-4984-b53d-7af50f426f1a",
   "metadata": {},
   "source": [
    "Następnie chcemy dodać obsługę `onClick` przycisku w layoucie widgetu, w tym celu musimy wywołać metodę `setOnClickPendingIntent`"
   ]
  },
  {
   "cell_type": "code",
   "execution_count": null,
   "id": "966f47df-8748-4396-aee1-9b36abf1f547",
   "metadata": {},
   "outputs": [],
   "source": [
    "    views.setOnClickPendingIntent(R.id.widgetButton, pendingIntent);"
   ]
  },
  {
   "cell_type": "markdown",
   "id": "3d87ec36-f825-4c3b-97f5-530cd443b0f0",
   "metadata": {},
   "source": [
    "Następnie wywołujemy `updateAppWidget` na każdej instancji naszego widgetu"
   ]
  },
  {
   "cell_type": "code",
   "execution_count": null,
   "id": "98282a6a-bbd8-4c43-aab4-46b30dd71921",
   "metadata": {},
   "outputs": [],
   "source": [
    "    appWidgetManager.updateAppWidget(appWidgetId, views);"
   ]
  },
  {
   "cell_type": "markdown",
   "id": "74c1830e-f85b-4c0f-ae5d-a84cde1c883f",
   "metadata": {},
   "source": [
    "Pełna implementacja metody `onUpdate`"
   ]
  },
  {
   "cell_type": "code",
   "execution_count": null,
   "id": "002bc1f4-5d00-4b18-a487-4527f3a128ce",
   "metadata": {},
   "outputs": [],
   "source": [
    "@Override\n",
    "public void onUpdate(Context context, AppWidgetManager appWidgetManager, int[] appWidgetIds) {\n",
    "    super.onUpdate(context, appWidgetManager, appWidgetIds);\n",
    "    for (int appWidgetId : appWidgetIds){\n",
    "        Intent intent = new Intent(context, MainActivity.class);\n",
    "        PendingIntent pendingIntent = PendingIntent.getActivity(\n",
    "                context,\n",
    "                0,\n",
    "                intent,\n",
    "                PendingIntent.FLAG_IMMUTABLE);\n",
    "\n",
    "        RemoteViews views =\n",
    "                new RemoteViews(\n",
    "                        context.getPackageName(),\n",
    "                        R.layout.app_widget_layout);\n",
    "\n",
    "        views.setOnClickPendingIntent(R.id.widgetButton, pendingIntent);\n",
    "        appWidgetManager.updateAppWidget(appWidgetId, views);\n",
    "    }\n",
    "}"
   ]
  },
  {
   "cell_type": "markdown",
   "id": "c472bbf0-ff86-4b27-a090-4ce5bbdc43f5",
   "metadata": {},
   "source": [
    "Kolejnym krokiem będzie zdefiniowanie rozmiarów konteneru na widget i kilku dodatkowych informacji, robimy to w katalogu `xml`. Dodajmy nowy plik `app_widget_info.xml`, jako **root element** wybieramy `appwidget-provider`\n",
    "\n",
    "```xml\n",
    "<?xml version=\"1.0\" encoding=\"utf-8\"?>\n",
    "<appwidget-provider xmlns:android=\"http://schemas.android.com/apk/res/android\"\n",
    "    >\n",
    "\n",
    "</appwidget-provider>\n",
    "```\n",
    "\n",
    "dodamy kilka elementów\n",
    "- layout startowy - będzie to layout zdefiniowany dla naszego widgetu\n",
    "```xml\n",
    "    android:initialLayout=\"@layout/app_widget_layout\"\n",
    "```\n",
    "\n",
    "\n",
    "- rozmiar minimalny - podajemy `40dp` oraz `110dp`, czyli nasz rozmiar będzie wynosił 1 x 2 komórki\n",
    "```xml\n",
    "    android:minHeight=\"40dp\"\n",
    "    android:minWidth=\"110dp\"\n",
    "```\n",
    "\n",
    "\n",
    "- umożliwimy zmniejszenie rozmiarów do 1 kolumny\n",
    "```xml\n",
    "    android:minResizeWidth=\"40dp\"\n",
    "```\n",
    "\n",
    "\n",
    "- umożliwimy zmianę rozmiaru widgetu w obu kierunkach\n",
    "```xml\n",
    "    android:resizeMode=\"vertical|horizontal\"\n",
    "```\n",
    "\n",
    "\n",
    "- aktualizacja widgetu zazwyczaj nie mniej niż 30 minut\n",
    "```xml\n",
    "    android:updatePeriodMillis=\"36000000\"\n",
    "```\n",
    "\n",
    "\n",
    "- widget będzie dostępny tylko na ekranie domowym\n",
    "```xml\n",
    "    android:widgetCategory=\"home_screen\"\n",
    "```\n",
    "\n",
    "\n",
    "pełny plik `app_widget_info.xml`\n",
    "```xml\n",
    "<?xml version=\"1.0\" encoding=\"utf-8\"?>\n",
    "<appwidget-provider xmlns:android=\"http://schemas.android.com/apk/res/android\"\n",
    "   android:initialLayout=\"@layout/app_widget_layout\"\n",
    "    android:minHeight=\"40dp\"\n",
    "    android:minWidth=\"110dp\"\n",
    "    android:minResizeWidth=\"40dp\"\n",
    "    android:resizeMode=\"vertical|horizontal\"\n",
    "    android:updatePeriodMillis=\"36000000\"\n",
    "    android:widgetCategory=\"home_screen\">\n",
    "\n",
    "</appwidget-provider>\n",
    "```\n",
    "\n",
    "W kolejnym kroku musimy zarejestrować nasz widget w manifeście aplikacji - przechodzimy do `AndroidManifest`. w tagach `receiver` dodajemy nazwę naszego widgetu (wewnątrz `application`)\n",
    "\n",
    "\n",
    "```xml\n",
    "<receiver android:name=\".WidgetProvider\"\n",
    "    android:exported=\"false\">\n",
    "</receiver>\n",
    "```\n",
    "\n",
    "Następnie dodajemy `intent-filter` i definiujemy dostępne akcje\n",
    "```xml\n",
    "<receiver android:name=\".WidgetProvider\"\n",
    "    android:exported=\"false\">\n",
    "    <intent-filter>\n",
    "        <action android:name=\"android.appwidget.action.APPWIDGET_UPDATE\"/>\n",
    "    </intent-filter>\n",
    "</receiver>\n",
    "```\n",
    "\n",
    "Ostatnię wymaganą informacją jest wskazanie providera i konfiguracji\n",
    "\n",
    "```xml\n",
    "<receiver android:name=\".WidgetProvider\"\n",
    "    android:exported=\"false\">\n",
    "    <intent-filter>\n",
    "        <action android:name=\"android.appwidget.action.APPWIDGET_UPDATE\"/>\n",
    "    </intent-filter>\n",
    "    <meta-data\n",
    "        android:name=\"android.appwidget.provider\"\n",
    "        android:resource=\"@xml/app_widget_info\"/>\n",
    "</receiver>\n",
    "```"
   ]
  },
  {
   "cell_type": "markdown",
   "id": "a0f0eca9-6a91-49e0-9fee-e6299484c473",
   "metadata": {},
   "source": [
    "Możemy przetestować aplikację"
   ]
  },
  {
   "cell_type": "markdown",
   "id": "5031d3f8-0598-4e9a-aad4-60ee42dea630",
   "metadata": {},
   "source": [
    "<img src=\"https://media1.giphy.com/media/SMYlTXKvTUc8W5gIvZ/giphy.gif?cid=790b761136c8abe5f6d73470d6cef5ccce8c5ab1a89cebcc&rid=giphy.gif&ct=g\" width=\"150\" />"
   ]
  },
  {
   "cell_type": "markdown",
   "id": "22af3073-a564-4514-862f-1408784504df",
   "metadata": {},
   "source": [
    "W kolejnym kroku dodamy aktywność umożliwiającą konfigurowanie naszego widgetu, rozpocznijmy od layoutu\n",
    "\n",
    "```xml\n",
    "<?xml version=\"1.0\" encoding=\"utf-8\"?>\n",
    "<LinearLayout xmlns:android=\"http://schemas.android.com/apk/res/android\"\n",
    "    xmlns:app=\"http://schemas.android.com/apk/res-auto\"\n",
    "    xmlns:tools=\"http://schemas.android.com/tools\"\n",
    "    android:layout_width=\"match_parent\"\n",
    "    android:layout_height=\"match_parent\"\n",
    "    tools:context=\".WidgetConfigActivity\"\n",
    "    android:orientation=\"vertical\">\n",
    "\n",
    "    <EditText\n",
    "        android:id=\"@+id/widgetConfigEditText\"\n",
    "        android:layout_width=\"match_parent\"\n",
    "        android:layout_height=\"wrap_content\"\n",
    "        android:hint=\"set button text\"\n",
    "        android:layout_margin=\"16dp\"/>\n",
    "\n",
    "    <Button\n",
    "        android:id=\"@+id/widgetConfigButton\"\n",
    "        android:layout_width=\"wrap_content\"\n",
    "        android:layout_height=\"wrap_content\"\n",
    "        android:layout_marginStart=\"16dp\"\n",
    "        android:text=\"confirm\"/>\n",
    "\n",
    "</LinearLayout>\n",
    "```\n",
    "\n",
    "Przejdźmy do `WidgetConfigActivity` i dodajmy `ViewBinding`"
   ]
  },
  {
   "cell_type": "code",
   "execution_count": null,
   "id": "69799e05-14f8-42fe-8419-ce6dbd257040",
   "metadata": {},
   "outputs": [],
   "source": [
    "public class WidgetConfigActivity extends AppCompatActivity {\n",
    "\n",
    "    private ActivityWidgetConfigBinding binding;\n",
    "    @Override\n",
    "    protected void onCreate(Bundle savedInstanceState) {\n",
    "        super.onCreate(savedInstanceState);\n",
    "        binding = ActivityWidgetConfigBinding.inflate(getLayoutInflater());\n",
    "        setContentView(binding.getRoot());\n",
    "    }\n",
    "}"
   ]
  },
  {
   "cell_type": "markdown",
   "id": "129d994e-033b-455d-a9bc-0406596d8044",
   "metadata": {},
   "source": [
    "Naszą konfigurację będziemy przechowywać w `SharedPreferences`. Wstępnie będziemy potrzebować dwa klucze dla `SharedPreferences` oraz klucz umożliwiający weryfikację poprawności przesłania danych do widgetu"
   ]
  },
  {
   "cell_type": "code",
   "execution_count": null,
   "id": "aca8f323-130d-495d-9878-7abef02eeb79",
   "metadata": {},
   "outputs": [],
   "source": [
    "public static final String SHARED_PREFS = \"shared_prefs\";\n",
    "public static final String KEY_BUTTON_TEXT = \"keyButton\";"
   ]
  },
  {
   "cell_type": "markdown",
   "id": "b568c828-ed68-463e-bfd4-11f546ed1f3e",
   "metadata": {},
   "source": [
    "Następnie dodamy identyfikator naszego widgetu"
   ]
  },
  {
   "cell_type": "code",
   "execution_count": null,
   "id": "22957b00-e184-4ff5-85d3-0b1cce625680",
   "metadata": {},
   "outputs": [],
   "source": [
    "private int appWidgetId = AppWidgetManager.INVALID_APPWIDGET_ID;"
   ]
  },
  {
   "cell_type": "markdown",
   "id": "b9f8f583-ce85-4efd-b3c1-b93a25945681",
   "metadata": {},
   "source": [
    "Ekran konfiguracji zostanie uruchomiony w momencie umieszczenia widgetu na ekranie domowym - gdy to się stanie do aktywności zostanie przekazanych `Intent`, więc musimy go odebrać"
   ]
  },
  {
   "cell_type": "code",
   "execution_count": null,
   "id": "aea9e011-4e8c-4f7f-bb38-c36bf65bb346",
   "metadata": {},
   "outputs": [],
   "source": [
    "Intent configIntent = getIntent();"
   ]
  },
  {
   "cell_type": "markdown",
   "id": "11c161ab-ba1a-4278-8c8b-4f25c20da5c1",
   "metadata": {},
   "source": [
    "Następnie musimy rozpakować dane"
   ]
  },
  {
   "cell_type": "code",
   "execution_count": null,
   "id": "45189931-4d1d-4a00-b015-a35b876bec34",
   "metadata": {},
   "outputs": [],
   "source": [
    "Bundle extras = configIntent.getExtras();"
   ]
  },
  {
   "cell_type": "markdown",
   "id": "0d3ae488-1455-49da-b762-234844abd56b",
   "metadata": {},
   "source": [
    "Z otrzymanych `extras` wyciągamy `id` widgetu"
   ]
  },
  {
   "cell_type": "code",
   "execution_count": null,
   "id": "04e7b2e5-4391-4483-a5e7-22e175eaa2f0",
   "metadata": {},
   "outputs": [],
   "source": [
    "if (extras != null){\n",
    "    appWidgetId = extras.getInt(AppWidgetManager.EXTRA_APPWIDGET_ID,\n",
    "            AppWidgetManager.INVALID_APPWIDGET_ID);\n",
    "}"
   ]
  },
  {
   "cell_type": "markdown",
   "id": "3678c708-c0f1-488f-af75-77b7f4b270bf",
   "metadata": {},
   "source": [
    "Jeżeli otrzymane `id` jest niepoprawne i równe wartości domyślnej wyciągniętej z `extras` (`INVALID_APPWIDGET_ID`) chcemy zakończyć działanie aktywności"
   ]
  },
  {
   "cell_type": "code",
   "execution_count": null,
   "id": "b9c17fd6-0378-4387-9cd3-123d98ae8935",
   "metadata": {},
   "outputs": [],
   "source": [
    "if (appWidgetId == AppWidgetManager.INVALID_APPWIDGET_ID)\n",
    "    finish();"
   ]
  },
  {
   "cell_type": "markdown",
   "id": "8cb90931-7918-494c-80c7-0a9ac8b21b91",
   "metadata": {},
   "source": [
    "Następnie implementujemy `onClick` przycisku. Dalej chcemy otwierać aktywność główną, więc implementujemy dokładnie tak jak poprzednio"
   ]
  },
  {
   "cell_type": "code",
   "execution_count": null,
   "id": "a88cb525-e1b2-46b4-a7ec-3af685167557",
   "metadata": {},
   "outputs": [],
   "source": [
    "binding.widgetConfigButton.setOnClickListener(v -> {\n",
    "    AppWidgetManager appWidgetManager = AppWidgetManager.getInstance(this);\n",
    "    Intent intent = new Intent(this, MainActivity.class);\n",
    "    PendingIntent pendingIntent = PendingIntent.getActivity(\n",
    "            this,\n",
    "            0,\n",
    "            intent,\n",
    "            PendingIntent.FLAG_IMMUTABLE);"
   ]
  },
  {
   "cell_type": "markdown",
   "id": "03cfdf5c-4343-4041-9987-6cf6083ed735",
   "metadata": {},
   "source": [
    "Następnie wyciągamy tekst z pola `EditText` i jeżeli nie jest pusty wykonujemy kilka czynności. Wpierw tworzymy `RemoteViews`, który da nam dostęp do layoutu widgetu. Następnie ustawiamy `onClick` przycisku na widgecie"
   ]
  },
  {
   "cell_type": "code",
   "execution_count": null,
   "id": "e9c9c008-00ec-49b3-9be5-31d4d6eca7d2",
   "metadata": {},
   "outputs": [],
   "source": [
    "if (!text.isEmpty()){\n",
    "    RemoteViews views = new RemoteViews(\n",
    "            WidgetConfigActivity.this.getPackageName(),\n",
    "            R.layout.app_widget_layout\n",
    "    );\n",
    "\n",
    "    views.setOnClickPendingIntent(R.id.widgetButton, pendingIntent);"
   ]
  },
  {
   "cell_type": "markdown",
   "id": "20133c98-8fbd-469b-8d2d-932a510a4523",
   "metadata": {},
   "source": [
    "Następnie chcemy ustawić tekst przycisku, robimy to wywołując metodę `setCharSequence`, przyjmuje trzy argumenty\n",
    "- id elementu który chcemy zmodyfikować\n",
    "- nazwę metody którą chcemy wywołać (podajemy jako `String`) - tutaj będzie to `setText`\n",
    "- `String` który chcemy przkekazać"
   ]
  },
  {
   "cell_type": "code",
   "execution_count": null,
   "id": "2db618c7-8ae5-446f-bc02-d30d216d6a73",
   "metadata": {},
   "outputs": [],
   "source": [
    "    views.setCharSequence(R.id.widgetButton, \"setText\", text);"
   ]
  },
  {
   "cell_type": "markdown",
   "id": "a6bfaece-03f7-4f16-bf32-dbc58e00f404",
   "metadata": {},
   "source": [
    "Następnie wywołujemy `updateAppWidget`"
   ]
  },
  {
   "cell_type": "code",
   "execution_count": null,
   "id": "85d11a15-1431-4f83-a580-87bd7a06fea4",
   "metadata": {},
   "outputs": [],
   "source": [
    "    appWidgetManager.updateAppWidget(appWidgetId, views);"
   ]
  },
  {
   "cell_type": "markdown",
   "id": "44a001e7-aa68-4959-8042-275389eaf23a",
   "metadata": {},
   "source": [
    "Samą wartość będziemy przechowywać w `SharedPreferences`"
   ]
  },
  {
   "cell_type": "code",
   "execution_count": null,
   "id": "7e158a9d-d8a2-46b3-9c25-d312f9c6455a",
   "metadata": {},
   "outputs": [],
   "source": [
    "    SharedPreferences sharedPreferences = \n",
    "        getSharedPreferences(SHARED_PREFS, MODE_PRIVATE);\n",
    "    SharedPreferences.Editor editor = sharedPreferences.edit();\n",
    "    editor.putString(KEY_BUTTON_TEXT + appWidgetId, text);\n",
    "    editor.apply();"
   ]
  },
  {
   "cell_type": "markdown",
   "id": "e8b5bea3-2481-4261-a81e-fd4018b3b102",
   "metadata": {},
   "source": [
    "Ostatnim krokiem jest stworzenie i przekazanie `Intent` z identyfikatorem widgetu który aktualizujemy"
   ]
  },
  {
   "cell_type": "code",
   "execution_count": null,
   "id": "6709dc6f-06e0-4bc8-90a6-c1aa69d85524",
   "metadata": {},
   "outputs": [],
   "source": [
    "    Intent resultIntent = new Intent();\n",
    "    resultIntent.putExtra(AppWidgetManager.EXTRA_APPWIDGET_ID, appWidgetId);\n",
    "    setResult(RESULT_OK, resultIntent);"
   ]
  },
  {
   "cell_type": "markdown",
   "id": "8b29d286-c27e-4199-9e4d-941d87081d8d",
   "metadata": {},
   "source": [
    "Na koniec kończymy działanie aktynwości konfiguracyjnej"
   ]
  },
  {
   "cell_type": "code",
   "execution_count": null,
   "id": "1badffe4-7a40-4232-b6ae-09093c5d6bd1",
   "metadata": {},
   "outputs": [],
   "source": [
    "    finish();"
   ]
  },
  {
   "cell_type": "markdown",
   "id": "a85aacb2-c73d-4761-82da-44e6448da261",
   "metadata": {},
   "source": [
    "W kolejnym kroku musimy ppoinformować o przeznaczeniu aktywności w `AndroidManifest`, czyli wskazujemy że `WidgetConfigActivity` odpowiada za konfigurację widgetu\n",
    "\n",
    "```xml\n",
    "<activity\n",
    "    android:name=\".WidgetConfigActivity\"\n",
    "    android:exported=\"false\">\n",
    "    <intent-filter>\n",
    "        <action android:name=\"android.appwidget.action.APPWIDGET_CONFIGURE\"/>\n",
    "    </intent-filter>\n",
    "</activity>\n",
    "```"
   ]
  },
  {
   "cell_type": "markdown",
   "id": "8a1d51b6-696a-48b0-8e6f-39591b686cb6",
   "metadata": {},
   "source": [
    "W pliku `app_widget_info.xml` wskazujemy aktywność odpowiedzialną za konfigurację\n",
    "\n",
    "```xml\n",
    "android:configure=\"pl.edu.uwr.pum.widgetbasicsjava.WidgetConfigActivity\"\n",
    "```"
   ]
  },
  {
   "cell_type": "markdown",
   "id": "e0ffc167-9b6e-4a16-afc0-55ade00ee0c2",
   "metadata": {},
   "source": [
    "Musimy jeszcze wprowadzić zmiany w klasie `WidgetProvider`, wyciągniemy tekst z `SharedPreferences` i uaktualnimy text przycisku."
   ]
  },
  {
   "cell_type": "code",
   "execution_count": null,
   "id": "88c10ba8-f1b5-4c74-9917-458ad0187185",
   "metadata": {},
   "outputs": [],
   "source": [
    "@Override\n",
    "public void onUpdate(Context context, AppWidgetManager appWidgetManager, int[] appWidgetIds) {\n",
    "    super.onUpdate(context, appWidgetManager, appWidgetIds);\n",
    "    for (int appWidgetId : appWidgetIds){\n",
    "        Intent intent = new Intent(context, MainActivity.class);\n",
    "        PendingIntent pendingIntent = PendingIntent.getActivity(\n",
    "                context,\n",
    "                0,\n",
    "                intent,\n",
    "                PendingIntent.FLAG_IMMUTABLE);\n",
    "\n",
    "        SharedPreferences preferences = context.getSharedPreferences(\n",
    "            WidgetConfigActivity.SHARED_PREFS, \n",
    "            Context.MODE_PRIVATE);\n",
    "        String text = preferences.\n",
    "            getString(WidgetConfigActivity.KEY_BUTTON_TEXT + appWidgetId, \"Click me\");\n",
    "\n",
    "        RemoteViews views =\n",
    "                new RemoteViews(\n",
    "                        context.getPackageName(),\n",
    "                        R.layout.app_widget_layout);\n",
    "\n",
    "        views.setOnClickPendingIntent(R.id.widgetButton, pendingIntent);\n",
    "        views.setCharSequence(R.id.widgetButton, \"setText\", text);\n",
    "        appWidgetManager.updateAppWidget(appWidgetId, views);\n",
    "    }\n",
    "}"
   ]
  },
  {
   "cell_type": "markdown",
   "id": "b41a2254-fcd6-40aa-90c0-21708aa7b59b",
   "metadata": {},
   "source": [
    "Możemy przetestować aplikację"
   ]
  },
  {
   "cell_type": "markdown",
   "id": "72f65058-674b-49ab-9d1b-2a5f6bfaf232",
   "metadata": {},
   "source": [
    "<img src=\"https://media0.giphy.com/media/eOVuYgGRlI3wZBfE1g/giphy.gif?cid=790b7611e2b3d01b76b1ccf0996ad803a5ecdfe4030108a5&rid=giphy.gif&ct=g\" width=\"150\" />"
   ]
  },
  {
   "cell_type": "code",
   "execution_count": null,
   "id": "b412141e-d128-4b21-9804-3c0a2fd026ed",
   "metadata": {},
   "outputs": [],
   "source": []
  }
 ],
 "metadata": {
  "kernelspec": {
   "display_name": "Java",
   "language": "java",
   "name": "java"
  },
  "language_info": {
   "codemirror_mode": "java",
   "file_extension": ".jshell",
   "mimetype": "text/x-java-source",
   "name": "Java",
   "pygments_lexer": "java",
   "version": "17+35-2724"
  }
 },
 "nbformat": 4,
 "nbformat_minor": 5
}
