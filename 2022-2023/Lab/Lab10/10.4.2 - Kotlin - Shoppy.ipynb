{
 "cells": [
  {
   "cell_type": "markdown",
   "id": "06c9b6b6-b29d-4664-8943-31156ec4e55e",
   "metadata": {},
   "source": [
    "## 10.4 Shoppy"
   ]
  },
  {
   "cell_type": "markdown",
   "id": "b0f7c70a-620c-4326-9b1e-7019ccc58fc4",
   "metadata": {},
   "source": [
    "W tej apllikacji zaimplementujemy architekturę `MVVM`. Aplikacja będzie listą zakupową z bazą `ROOM` umożliwiająca dodanie elementu, usunięcie, edycję oraz wyszukanie. Wykorzystamy `Jetpack Navigation`do nawigowania po trzech fragmentach\n",
    "- `ListFragment` - fragment domowy wyświetlający listę wszystkich elementów oraz pozwalający przeszukać bazę\n",
    "- `AddFragment` - przejście z `ListFragment` za pomocą `FAB` - umożliwia dodanie nowego elementu do bazy\n",
    "- `UpdateFragment` - przejście przez kliknięcie elementu `RecyclerView` na `ListFragment` - umożliwia edycję wybranego elementu."
   ]
  },
  {
   "cell_type": "code",
   "execution_count": null,
   "id": "5a1b139c-a18c-4704-9566-dadbdb04695a",
   "metadata": {},
   "outputs": [],
   "source": []
  },
  {
   "cell_type": "markdown",
   "id": "5b2ec49d-f3e0-439f-9424-abab4cbc39cb",
   "metadata": {},
   "source": [
    "Dodajmy wymagane zależności do plików `build.gradle`"
   ]
  },
  {
   "cell_type": "code",
   "execution_count": null,
   "id": "cd1ce3d5-5f5f-4780-9003-581218053731",
   "metadata": {},
   "outputs": [],
   "source": [
    "// Project\n",
    "buildscript { // przed blokiem plugins\n",
    "    repositories {\n",
    "        google()\n",
    "    }\n",
    "    dependencies {\n",
    "        classpath \"androidx.navigation:navigation-safe-args-gradle-plugin:2.5.1\"\n",
    "    }\n",
    "}"
   ]
  },
  {
   "cell_type": "code",
   "execution_count": null,
   "id": "7e0e2f3f-a840-4380-b0ee-3bd79ba917ef",
   "metadata": {},
   "outputs": [],
   "source": [
    "// Module\n",
    "plugins {\n",
    "    id 'com.android.application'\n",
    "    id 'org.jetbrains.kotlin.android'\n",
    "    id 'androidx.navigation.safeargs.kotlin'\n",
    "    id 'kotlin-android'\n",
    "    id 'kotlin-kapt'\n",
    "}\n",
    "...\n",
    "buildFeatures {\n",
    "    viewBinding true\n",
    "}\n",
    "...\n",
    "dependencies {\n",
    "\n",
    "    // ROOM\n",
    "    implementation(\"androidx.room:room-ktx:2.4.3\")\n",
    "    kapt(\"androidx.room:room-compiler:2.4.3\")\n",
    "\n",
    "    // ViewModel\n",
    "    implementation 'androidx.lifecycle:lifecycle-viewmodel-ktx:2.5.1'\n",
    "    // LiveData\n",
    "    implementation \"androidx.lifecycle:lifecycle-livedata-ktx:2.5.1\"\n",
    "\n",
    "    // Fragment\n",
    "    implementation \"androidx.fragment:fragment-ktx:1.5.2\"\n",
    "\n",
    "    // Navigation\n",
    "    implementation \"androidx.navigation:navigation-fragment:2.5.1\"\n",
    "    implementation \"androidx.navigation:navigation-ui:2.5.1\"\n",
    "    ...\n",
    "}"
   ]
  },
  {
   "cell_type": "markdown",
   "id": "46517f70-7336-4bee-a0c8-f9df76933c40",
   "metadata": {},
   "source": [
    "### **data**"
   ]
  },
  {
   "cell_type": "markdown",
   "id": "4badbba2-dcf9-4f97-bc69-298959bb6751",
   "metadata": {},
   "source": [
    "Rozpocznijmy od zdefiniowania modelu - klasa `Item` będzie posiadała trzy pola\n",
    "- `id` - unikalny identyfikator\n",
    "- `name` - nazwa produktu\n",
    "- `quantity` - ilość danego produktu\n",
    "Nasza klasa będzie reprezentowała tabelę w bazie `ROOM`, więc dodamy również adnotację `@Entity`"
   ]
  },
  {
   "cell_type": "code",
   "execution_count": null,
   "id": "936ec5f7-960c-4ceb-be4d-c82106e1b25d",
   "metadata": {},
   "outputs": [],
   "source": [
    "@Entity(tableName = \"item_table\")\n",
    "data class Item (\n",
    "    @PrimaryKey(autoGenerate = true)\n",
    "    val id: Int,\n",
    "    val name: String,\n",
    "    val quantity: Int\n",
    ")"
   ]
  },
  {
   "cell_type": "markdown",
   "id": "10cdae4f-197b-4299-b315-6cb20730d98b",
   "metadata": {},
   "source": [
    "Wykorzystujemy pole `id` jako `PrimaryKey` który będzie automatycznie generowany przez `ROOM`."
   ]
  },
  {
   "cell_type": "markdown",
   "id": "be92d0db-a2cc-47da-b261-d5ed8799f5fb",
   "metadata": {},
   "source": [
    "Zdefiniujmy nasz `DAO` z odpowiednimi metodami"
   ]
  },
  {
   "cell_type": "code",
   "execution_count": null,
   "id": "57273613-7dab-4cac-873c-2358b241860a",
   "metadata": {},
   "outputs": [],
   "source": [
    "interface ItemDao {\n",
    "\n",
    "    @Insert(onConflict = OnConflictStrategy.IGNORE)\n",
    "    suspend fun addItem(item: Item) // dodaj element\n",
    "\n",
    "    @Query(\"SELECT * FROM item_table ORDER BY id ASC\")\n",
    "    fun readAllData(): LiveData<List<Item>> // czytaj wszystkie elementy\n",
    "\n",
    "    @Query(\"SELECT * FROM item_table WHERE id = :id\")\n",
    "    fun getItem(id: Int): LiveData<Item> // czytaj element o zadanym id\n",
    "\n",
    "    @Update(onConflict = OnConflictStrategy.REPLACE)\n",
    "    suspend fun updateItem(item: Item) // aktualizuj element\n",
    "\n",
    "    @Delete\n",
    "    suspend fun deleteItem(item: Item) // usuń element\n",
    "\n",
    "    @Query(\"DELETE FROM item_table\")\n",
    "    suspend fun deleteAllItems() // usuń wszystkie elementy\n",
    "\n",
    "    @Query(\"SELECT * FROM item_table WHERE name LIKE :query\")\n",
    "    fun search(query: String): LiveData<List<Item>> // wyszukaj element o zadanej nazwie\n",
    "}"
   ]
  },
  {
   "cell_type": "markdown",
   "id": "bae10cba-265a-4966-87c6-4f6bffc9faaa",
   "metadata": {},
   "source": [
    "Kolejnym elementem będzie baza danych `ROOM` - tak jak poprzednio wykorzystamy `ExecutorService` to zapisu do bazy. Z bazy dane zwrócimy jako `LiveData`"
   ]
  },
  {
   "cell_type": "code",
   "execution_count": null,
   "id": "8da0f942-3f91-4810-a031-8f762a490077",
   "metadata": {},
   "outputs": [],
   "source": [
    "@Database(entities = [Item::class], version = 1, exportSchema = false)\n",
    "abstract class ItemDatabase : RoomDatabase() {\n",
    "\n",
    "    abstract fun itemDao(): ItemDao\n",
    "\n",
    "    companion object{\n",
    "        @Volatile private var INSTANCE: ItemDatabase? = null\n",
    "\n",
    "        fun getDatabase(context: Context): ItemDatabase {\n",
    "            return INSTANCE ?: synchronized(this) {\n",
    "                val instance = Room.databaseBuilder(\n",
    "                    context.applicationContext,\n",
    "                    ItemDatabase::class.java,\n",
    "                    \"word_database_kotlin\"\n",
    "                ).build().also { INSTANCE = it }\n",
    "                instance\n",
    "            }\n",
    "        }\n",
    "    }\n",
    "}"
   ]
  },
  {
   "cell_type": "markdown",
   "id": "b0451605-4a0b-4ea6-a262-b853779f2c0d",
   "metadata": {},
   "source": [
    "Następnie zdefiniujmy `Repository` - element nie należący do architektury `MVVM` lecz mocno zalecany. Dodajmy dwa pola `ItemDao` oraz `readAllData`"
   ]
  },
  {
   "cell_type": "code",
   "execution_count": null,
   "id": "4c5d290e-e914-419e-a381-2aeb0901aead",
   "metadata": {},
   "outputs": [],
   "source": [
    "class ItemRepository(private val itemDao: ItemDao) {\n",
    "    val readAllData: LiveData<List<Item>> = itemDao.readAllData()"
   ]
  },
  {
   "cell_type": "markdown",
   "id": "56255f51-2cbc-4e4b-bc7b-db4413f74822",
   "metadata": {},
   "source": [
    "W bloku `init` inicjujemy `itemDao`"
   ]
  },
  {
   "cell_type": "code",
   "execution_count": null,
   "id": "0e2e909e-dbb6-4ebd-95d2-f7f8267861a1",
   "metadata": {},
   "outputs": [],
   "source": [
    "    init {\n",
    "        val itemDao = ItemDatabase.getDatabase(application).itemDao()\n",
    "    }"
   ]
  },
  {
   "cell_type": "markdown",
   "id": "8971e848-a0eb-45da-8e8b-844941574f64",
   "metadata": {},
   "source": [
    "I wystawiamy wszystkie metody interfejsu `ItemDao`"
   ]
  },
  {
   "cell_type": "code",
   "execution_count": null,
   "id": "1989c61c-23a5-4089-93a9-8f7272832e96",
   "metadata": {},
   "outputs": [],
   "source": [
    "    suspend fun addItem(item: Item){\n",
    "        itemDao.addItem(item)\n",
    "    }\n",
    "\n",
    "    fun getItem(id: Int): LiveData<Item>{\n",
    "        return itemDao.getItem(id)\n",
    "    }\n",
    "\n",
    "    suspend fun updateItem(item: Item){\n",
    "        itemDao.updateItem(item)\n",
    "    }\n",
    "\n",
    "    suspend fun deleteItem(item: Item){\n",
    "        itemDao.deleteItem(item)\n",
    "    }\n",
    "\n",
    "    suspend fun deleteAllItems(){\n",
    "        itemDao.deleteAllItems()\n",
    "    }\n",
    "\n",
    "    fun searchItem(query: String): LiveData<List<Item>>{\n",
    "        return itemDao.search(query)\n",
    "    }"
   ]
  },
  {
   "cell_type": "markdown",
   "id": "75893c7d-e58f-4ad3-a4d5-8354359a0ad1",
   "metadata": {},
   "source": [
    "Ostatnim elementem danych będzie `ItemViewModel` - dodajmy dwa pola przechowujące `Repository` oraz listę wszystkich elementów "
   ]
  },
  {
   "cell_type": "code",
   "execution_count": null,
   "id": "abf72fc8-d931-4b69-a20c-93a1f817b18d",
   "metadata": {},
   "outputs": [],
   "source": [
    "class ItemViewModel(application: Application) : AndroidViewModel(application) {\n",
    "    val readAllData: LiveData<List<Item>>\n",
    "    private val repository: ItemRepository"
   ]
  },
  {
   "cell_type": "markdown",
   "id": "85c14484-eaa5-4896-8463-34c4ade5e3bc",
   "metadata": {},
   "source": [
    "W bloku `init` zainicjujmy te dwa pola"
   ]
  },
  {
   "cell_type": "code",
   "execution_count": null,
   "id": "9ce98115-ee25-4765-af7e-b5fd212d12e9",
   "metadata": {},
   "outputs": [],
   "source": [
    "    init {\n",
    "        repository = ItemRepository(itemDao)\n",
    "        readAllData = repository.readAllData\n",
    "    }"
   ]
  },
  {
   "cell_type": "markdown",
   "id": "e25b4d8b-3861-44cf-a693-fd8b39a2c1a3",
   "metadata": {},
   "source": [
    "Dodajmy metody odczytujące dane z bazy i zwracające `LiveData`"
   ]
  },
  {
   "cell_type": "code",
   "execution_count": null,
   "id": "d31263c6-e3df-4015-80f7-b266202c1f4e",
   "metadata": {},
   "outputs": [],
   "source": [
    "    fun getItem(id: Int): LiveData<Item>{\n",
    "        return repository.getItem(id)\n",
    "    }\n",
    "\n",
    "    fun searchItem(query: String): LiveData<List<Item>>{\n",
    "        return repository.searchItem(query)\n",
    "    }"
   ]
  },
  {
   "cell_type": "markdown",
   "id": "31ea025d-b2e1-451c-848e-1efb5503a194",
   "metadata": {},
   "source": [
    "oraz metody zapisujące dane do bazy - tutaj wykorzystamy `ExecutorService` zdefiniowany w klasie `ItemDatabase`"
   ]
  },
  {
   "cell_type": "code",
   "execution_count": null,
   "id": "10b7c1dc-c77b-4efb-882a-3cc3160ae4ed",
   "metadata": {},
   "outputs": [],
   "source": [
    "    fun updateItem(item: Item){\n",
    "        viewModelScope.launch {\n",
    "            repository.updateItem(item)\n",
    "        }\n",
    "    }\n",
    "\n",
    "    fun deleteItem(item: Item){\n",
    "        viewModelScope.launch {\n",
    "            repository.deleteItem(item)\n",
    "        }\n",
    "    }\n",
    "\n",
    "    fun deleteAll(){\n",
    "        viewModelScope.launch {\n",
    "            repository.deleteAllItems()\n",
    "        }\n",
    "    }\n",
    "    \n",
    "    fun addItem(item: Item){\n",
    "        viewModelScope.launch {\n",
    "            repository.addItem(item)\n",
    "        }\n",
    "    }"
   ]
  },
  {
   "cell_type": "markdown",
   "id": "6759582f-93ae-445c-9f91-7b39b613ecd3",
   "metadata": {},
   "source": [
    "### **nawigacja**"
   ]
  },
  {
   "cell_type": "markdown",
   "id": "1efec90f-bc4a-4e4e-a4c0-954bacc3e732",
   "metadata": {},
   "source": [
    "Do layoutu aktywności dodajemy `FragmentContainerView`"
   ]
  },
  {
   "cell_type": "code",
   "execution_count": null,
   "id": "b7f98d2d-2c11-48dc-893d-728f0f5b121e",
   "metadata": {},
   "outputs": [],
   "source": [
    "<androidx.constraintlayout.widget.ConstraintLayout \n",
    "    xmlns:android=\"http://schemas.android.com/apk/res/android\"\n",
    "    xmlns:app=\"http://schemas.android.com/apk/res-auto\"\n",
    "    xmlns:tools=\"http://schemas.android.com/tools\"\n",
    "    android:layout_width=\"match_parent\"\n",
    "    android:layout_height=\"match_parent\"\n",
    "    tools:context=\".MainActivity\">\n",
    "\n",
    "    <androidx.fragment.app.FragmentContainerView\n",
    "        android:id=\"@+id/fragmentContainerView\"\n",
    "        android:name=\"androidx.navigation.fragment.NavHostFragment\"\n",
    "        android:layout_width=\"409dp\"\n",
    "        android:layout_height=\"match_parent\"\n",
    "        app:defaultNavHost=\"true\"\n",
    "        app:layout_constraintBottom_toBottomOf=\"parent\"\n",
    "        app:layout_constraintEnd_toEndOf=\"parent\"\n",
    "        app:layout_constraintHorizontal_bias=\"0.5\"\n",
    "        app:layout_constraintStart_toStartOf=\"parent\"\n",
    "        app:layout_constraintTop_toTopOf=\"parent\"\n",
    "        app:navGraph=\"@navigation/navigation\" />\n",
    "</androidx.constraintlayout.widget.ConstraintLayout>"
   ]
  },
  {
   "cell_type": "markdown",
   "id": "5d028a4d-84d0-4213-b1a4-d8df80b8dcb1",
   "metadata": {},
   "source": [
    "Layouty `AddFragment` oraz `UpdateFragment` będą zawierać dwa pola `EditText` oraz przycisk dzięki któremu wykonamy zapis/aktualizację"
   ]
  },
  {
   "cell_type": "code",
   "execution_count": null,
   "id": "a15b55ba-378a-4957-b52c-54b13f0ba0ee",
   "metadata": {},
   "outputs": [],
   "source": [
    "<androidx.constraintlayout.widget.ConstraintLayout \n",
    "    xmlns:android=\"http://schemas.android.com/apk/res/android\"\n",
    "    xmlns:app=\"http://schemas.android.com/apk/res-auto\"\n",
    "    xmlns:tools=\"http://schemas.android.com/tools\"\n",
    "    android:layout_width=\"match_parent\"\n",
    "    android:layout_height=\"match_parent\"\n",
    "    tools:context=\".fragments.add.AddFragment\">\n",
    "\n",
    "    <EditText\n",
    "        android:id=\"@+id/nameEditText\"\n",
    "        android:layout_width=\"match_parent\"\n",
    "        android:layout_height=\"wrap_content\"\n",
    "        android:hint=\"@string/nazwa\"\n",
    "        android:textSize=\"24sp\"\n",
    "        android:gravity=\"center_horizontal\"\n",
    "        android:layout_marginStart=\"16dp\"\n",
    "        android:layout_marginTop=\"50dp\"\n",
    "        android:layout_marginEnd=\"16dp\"\n",
    "        app:layout_constraintEnd_toEndOf=\"parent\"\n",
    "        app:layout_constraintStart_toStartOf=\"parent\"\n",
    "        app:layout_constraintTop_toTopOf=\"parent\"\n",
    "        android:inputType=\"text\"\n",
    "        android:importantForAutofill=\"no\" />\n",
    "\n",
    "    <EditText\n",
    "        android:id=\"@+id/quantityEditText\"\n",
    "        android:layout_width=\"match_parent\"\n",
    "        android:layout_height=\"wrap_content\"\n",
    "        android:layout_marginStart=\"16dp\"\n",
    "        android:layout_marginTop=\"16dp\"\n",
    "        android:layout_marginEnd=\"16dp\"\n",
    "        android:gravity=\"center_horizontal\"\n",
    "        android:hint=\"@string/ilosc\"\n",
    "        android:importantForAutofill=\"no\"\n",
    "        android:textSize=\"24sp\"\n",
    "        app:layout_constraintEnd_toEndOf=\"parent\"\n",
    "        app:layout_constraintStart_toStartOf=\"parent\"\n",
    "        app:layout_constraintTop_toBottomOf=\"@+id/nameEditText\"\n",
    "        android:inputType=\"number\" />\n",
    "\n",
    "    <Button\n",
    "        android:id=\"@+id/saveButton\"\n",
    "        android:layout_width=\"match_parent\"\n",
    "        android:layout_height=\"wrap_content\"\n",
    "        android:layout_marginStart=\"24dp\"\n",
    "        android:layout_marginTop=\"16dp\"\n",
    "        android:layout_marginEnd=\"24dp\"\n",
    "        android:text=\"@string/dodaj\"\n",
    "        android:textSize=\"24sp\"\n",
    "        app:layout_constraintEnd_toEndOf=\"parent\"\n",
    "        app:layout_constraintStart_toStartOf=\"parent\"\n",
    "        app:layout_constraintTop_toBottomOf=\"@+id/quantityEditText\" />\n",
    "\n",
    "\n",
    "</androidx.constraintlayout.widget.ConstraintLayout>"
   ]
  },
  {
   "cell_type": "markdown",
   "id": "e893a8ec-ebb8-4358-a873-46019a752cdb",
   "metadata": {},
   "source": [
    "Layout `ListFragment` będzie zawiera `RecyclerView`, dwa `FloatingActionButton` (przejście do `AddFragment` oraz czyszczenie całej listy), oraz pole `SearchView`, które wykorzystamy do przeszukiwania bazy."
   ]
  },
  {
   "cell_type": "markdown",
   "id": "d1e67e55-5a4e-4e90-86b4-0aaa08b8401c",
   "metadata": {},
   "source": [
    "Dodajmy nawigację, do `ListFragment` dodajemy dwie akcje\n",
    "- przejście do `AddFragment`\n",
    "- przejście do `UpdateFragment` - tutaj przekazujemy `id`"
   ]
  },
  {
   "cell_type": "code",
   "execution_count": null,
   "id": "3f65b75e-c767-480b-bac8-6dfec87c1129",
   "metadata": {},
   "outputs": [],
   "source": [
    "    <fragment\n",
    "        android:id=\"@+id/listFragment\"\n",
    "        android:name=\"pl.udu.uwr.pum.shoppyjava.fragments.list.ListFragment\"\n",
    "        android:label=\"@string/lista\"\n",
    "        tools:layout=\"@layout/fragment_list\" >\n",
    "        <action\n",
    "            android:id=\"@+id/action_listFragment_to_addFragment\"\n",
    "            app:destination=\"@id/addFragment\" />\n",
    "        <action\n",
    "            android:id=\"@+id/action_listFragment_to_updateFragment\"\n",
    "            app:destination=\"@id/updateFragment\" >\n",
    "            <argument\n",
    "                android:name=\"id\"\n",
    "                app:argType=\"integer\" />\n",
    "        </action>\n",
    "    </fragment>"
   ]
  },
  {
   "cell_type": "markdown",
   "id": "0051ecc7-3ceb-4e49-b6ab-bbe227ae9258",
   "metadata": {},
   "source": [
    "W pozostałych dwóch fragmentach definiujemy akcję przejścia powrotnego na `ListFragment`"
   ]
  },
  {
   "cell_type": "code",
   "execution_count": null,
   "id": "f0e23ab6-c9d8-481b-97b8-0ccf7229de94",
   "metadata": {},
   "outputs": [],
   "source": [
    "    <fragment\n",
    "        android:id=\"@+id/addFragment\"\n",
    "        android:name=\"pl.udu.uwr.pum.shoppyjava.fragments.add.AddFragment\"\n",
    "        android:label=\"@string/dodaj\"\n",
    "        tools:layout=\"@layout/fragment_add\" >\n",
    "        <action\n",
    "            android:id=\"@+id/action_addFragment_to_listFragment\"\n",
    "            app:destination=\"@id/listFragment\" />\n",
    "    </fragment>\n",
    "    <fragment\n",
    "        android:id=\"@+id/updateFragment\"\n",
    "        android:name=\"pl.udu.uwr.pum.shoppyjava.fragments.update.UpdateFragment\"\n",
    "        android:label=\"@string/edytuj\"\n",
    "        tools:layout=\"@layout/fragment_update\" >\n",
    "        <action\n",
    "            android:id=\"@+id/action_updateFragment_to_listFragment\"\n",
    "            app:destination=\"@id/listFragment\" />\n",
    "    </fragment>"
   ]
  },
  {
   "cell_type": "markdown",
   "id": "d709f21d-907c-46ae-8811-37a781972fcd",
   "metadata": {},
   "source": [
    "### **MainActivity**"
   ]
  },
  {
   "cell_type": "markdown",
   "id": "a9ea62dd-b0e8-43db-8d17-f45fed4560f9",
   "metadata": {},
   "source": [
    "W głównej aktywności umożliwimy nawigację wsteczną z poziomu `ActionBar`"
   ]
  },
  {
   "cell_type": "code",
   "execution_count": null,
   "id": "146568dd-2df3-4e90-b7af-8af728a1031f",
   "metadata": {},
   "outputs": [],
   "source": [
    "class MainActivity : AppCompatActivity() {\n",
    "\n",
    "    private val binding: ActivityMainBinding by lazy {\n",
    "        ActivityMainBinding.inflate(layoutInflater)\n",
    "    }\n",
    "\n",
    "\n",
    "    private val navController: NavController by lazy {\n",
    "        val navHostFragment = \n",
    "        supportFragmentManager.findFragmentById(R.id.fragmentContainerView)\n",
    "                as NavHostFragment\n",
    "        navHostFragment.findNavController()\n",
    "    }\n",
    "\n",
    "    private val appBarConfiguration: AppBarConfiguration by lazy {\n",
    "        AppBarConfiguration(navController.graph)\n",
    "    }\n",
    "\n",
    "    override fun onCreate(savedInstanceState: Bundle?) {\n",
    "        super.onCreate(savedInstanceState)\n",
    "        setContentView(binding.root)\n",
    "\n",
    "        setupActionBarWithNavController(navController, appBarConfiguration)\n",
    "    }\n",
    "\n",
    "    override fun onSupportNavigateUp(): Boolean {\n",
    "        return navController.navigateUp(appBarConfiguration)\n",
    "                || super.onSupportNavigateUp()\n",
    "    }\n",
    "}"
   ]
  },
  {
   "cell_type": "markdown",
   "id": "9b44f8d4-4aec-4592-918f-b92e948b479b",
   "metadata": {},
   "source": [
    "### **AddFragment**"
   ]
  },
  {
   "cell_type": "markdown",
   "id": "fa08b2a4-c40a-43b3-ab17-bc226c8f5ef1",
   "metadata": {},
   "source": [
    "Rozpocznijmy od dodania `ItemViewModel`"
   ]
  },
  {
   "cell_type": "code",
   "execution_count": null,
   "id": "78f92161-1ff9-4422-9323-00978b468e8f",
   "metadata": {},
   "outputs": [],
   "source": [
    "    private val itemViewModel: ItemViewModel by viewModels()"
   ]
  },
  {
   "cell_type": "markdown",
   "id": "725bc797-d562-41e7-a8c1-b863876ea0f2",
   "metadata": {},
   "source": [
    "Zdefiniujmy metode `insertToDatabase` - przyjmuje ona jako argument `View`, który jest wymagany przy wywołaniu metody `findNavController`"
   ]
  },
  {
   "cell_type": "code",
   "execution_count": null,
   "id": "ec30f933-5582-42ed-8432-5f399e667c92",
   "metadata": {},
   "outputs": [],
   "source": [
    "    private fun insertToDatabase() {"
   ]
  },
  {
   "cell_type": "markdown",
   "id": "01b0009c-7a16-4fa3-b5b1-a506bf58bf50",
   "metadata": {},
   "source": [
    "W pierwszym kroku sprawdźmy czy pole `EditText` nie są puste"
   ]
  },
  {
   "cell_type": "code",
   "execution_count": null,
   "id": "a13fe99c-2c3e-4f7c-bcbb-7df846976216",
   "metadata": {},
   "outputs": [],
   "source": [
    "    val name = binding.nameEditText.text.toString()\n",
    "    val quantity = binding.quantityEditText.text.toString()\n",
    "\n",
    "    if (name.isNotEmpty() && quantity.isNotEmpty()){"
   ]
  },
  {
   "cell_type": "markdown",
   "id": "819c9de6-4461-43ea-8aea-e20355a77098",
   "metadata": {},
   "source": [
    "Jeżeli tak jest - tworzymy nowy `Item` z dostępnych danych i wykonujemy metodę `insert` z klasy `ItemViewModel`"
   ]
  },
  {
   "cell_type": "code",
   "execution_count": null,
   "id": "18ec420a-dd63-4d1f-b2bc-053caa00a705",
   "metadata": {},
   "outputs": [],
   "source": [
    "    if (name.isNotEmpty() && quantity.isNotEmpty()){\n",
    "        val item = Item(0, name, quantity.toInt())\n",
    "        itemViewModel.addItem(item)\n",
    "        findNavController()\n",
    "            .navigate(\n",
    "                AddFragmentDirections.actionAddFragmentToListFragment())\n",
    "    } "
   ]
  },
  {
   "cell_type": "markdown",
   "id": "24f7f7de-ba51-4f72-8dcd-99658918bfc2",
   "metadata": {},
   "source": [
    "Ostatnim elementem jest powrót do `ListFragemnt` po dodaniu nowego elementu"
   ]
  },
  {
   "cell_type": "code",
   "execution_count": null,
   "id": "9d4b0737-fa29-44e3-8d9e-436bdcfde89b",
   "metadata": {},
   "outputs": [],
   "source": [
    "findNavController()\n",
    "    .navigate(AddFragmentDirections.actionAddFragmentToListFragment())"
   ]
  },
  {
   "cell_type": "markdown",
   "id": "8575557d-ecf0-4223-bd5b-5d3f55a5d6e8",
   "metadata": {},
   "source": [
    "W przeciwnym wypadku wyświetlamy błąd"
   ]
  },
  {
   "cell_type": "code",
   "execution_count": null,
   "id": "c24ef63d-5b7e-4887-a993-ae4acdcef3e3",
   "metadata": {},
   "outputs": [],
   "source": [
    "    } else{\n",
    "        binding.nameEditText.error = \"Podaj nazwę\"\n",
    "        binding.quantityEditText.error = \"Podaj ilość\"\n",
    "    }"
   ]
  },
  {
   "cell_type": "markdown",
   "id": "b16a0b60-3f83-4ad8-897b-4b24c5cecbb7",
   "metadata": {},
   "source": [
    "W metodzie `onViewCreated` dodajemy obsługę `onClick` przycisku odpowiadającego za aktualizację"
   ]
  },
  {
   "cell_type": "code",
   "execution_count": null,
   "id": "4be980f7-dc1b-4d08-ad98-c02962da3100",
   "metadata": {},
   "outputs": [],
   "source": [
    "binding.saveButton.setOnClickListener {insertToDatabase()}"
   ]
  },
  {
   "cell_type": "markdown",
   "id": "c7d29615-424e-4212-9acc-37a0bd43f8b8",
   "metadata": {},
   "source": [
    "### **UpdateFragment**"
   ]
  },
  {
   "cell_type": "markdown",
   "id": "dfc464e2-02b6-4c01-bfd7-d5744d7cbde6",
   "metadata": {},
   "source": [
    "Rozpocznijmy od dodania pola `ItemViewModel` oraz `int` reprezentujący odebrane `id` z `ListFragment`"
   ]
  },
  {
   "cell_type": "code",
   "execution_count": null,
   "id": "22cd81df-1da6-4d1b-9467-3c1ddfcd507f",
   "metadata": {},
   "outputs": [],
   "source": [
    "private val itemViewModel: ItemViewModel by viewModels()\n",
    "\n",
    "private val itemId: Int by lazy { requireArguments().getInt(\"id\") }"
   ]
  },
  {
   "cell_type": "markdown",
   "id": "6ceb0b0e-34b5-492e-bf99-e01d6561b10b",
   "metadata": {},
   "source": [
    "Zdefiniujmy metodę wypełniającą pola `EditText` danymi pochodziącymi z elementu odpowiadającego `id` przekazanemu w arggumentach."
   ]
  },
  {
   "cell_type": "code",
   "execution_count": null,
   "id": "a7865a58-aa21-4a49-a657-0bf4b24788cf",
   "metadata": {},
   "outputs": [],
   "source": [
    "private fun displayItem(item: Item){\n",
    "    binding.nameEditText.setText(item.name)\n",
    "    binding.quantityEditText.setText(item.quantity.toString())\n",
    "}"
   ]
  },
  {
   "cell_type": "markdown",
   "id": "d8286304-223a-48d4-899c-a78c2dc7edb3",
   "metadata": {},
   "source": [
    "Dodajmy również metodę `updateItem`, która jest niemal identyczna jak poprzednio zdefiniowana `insertToDatabase`"
   ]
  },
  {
   "cell_type": "code",
   "execution_count": null,
   "id": "724584e0-f4aa-4efa-869d-d75769e1029d",
   "metadata": {},
   "outputs": [],
   "source": [
    "    private fun updateItem() {\n",
    "        val name = binding.nameEditText.text.toString()\n",
    "        val quantity = binding.quantityEditText.text.toString()\n",
    "\n",
    "        if (name.isNotEmpty() && quantity.isNotEmpty()){\n",
    "            val item = Item(itemId, name, quantity.toInt())\n",
    "            itemViewModel.updateItem(item)\n",
    "            findNavController()\n",
    "                .navigate(UpdateFragmentDirections\n",
    "                        .actionUpdateFragmentToListFragment())\n",
    "        } else{\n",
    "            binding.nameEditText.error = \"Podaj nazwę\"\n",
    "            binding.quantityEditText.error = \"Podaj ilość\"\n",
    "        }\n",
    "    }"
   ]
  },
  {
   "cell_type": "markdown",
   "id": "345f3182-bba9-4952-a936-ceb9e365e639",
   "metadata": {},
   "source": [
    "W metodzie `onViewCreated` wyciągamy element z bazy za pomocą metody `getItem` i dodajemy obserwator - `displayItem`"
   ]
  },
  {
   "cell_type": "code",
   "execution_count": null,
   "id": "2d31fc87-a5ea-4bc8-afea-24d585fafda9",
   "metadata": {},
   "outputs": [],
   "source": [
    "itemViewModel.getItem(itemId)\n",
    "    .observe(viewLifecycleOwner, this::displayItem)"
   ]
  },
  {
   "cell_type": "markdown",
   "id": "72a9b298-fe09-4d70-8f18-61ac20734344",
   "metadata": {},
   "source": [
    "oraz zaimplementujmy metodę `onClick` przycisku aktualizującego element"
   ]
  },
  {
   "cell_type": "code",
   "execution_count": null,
   "id": "262b5066-5e96-423d-821f-642a994a3e7d",
   "metadata": {},
   "outputs": [],
   "source": [
    "binding.updateButton.setOnClickListener { updateItem() }"
   ]
  },
  {
   "cell_type": "markdown",
   "id": "aeaed015-5881-4675-be44-6fc7016dd5ee",
   "metadata": {},
   "source": [
    "### **ListFragment**"
   ]
  },
  {
   "cell_type": "markdown",
   "id": "225d4243-60f0-4957-b4a0-47bd12eefaa1",
   "metadata": {},
   "source": [
    "Rozpocznijmy implementację od zdefiniowania layoutu pojedynczego elementu"
   ]
  },
  {
   "cell_type": "code",
   "execution_count": null,
   "id": "7fcbd416-f843-4d4b-8ef4-bb28bf8b1b5b",
   "metadata": {},
   "outputs": [],
   "source": [
    "<androidx.constraintlayout.widget.ConstraintLayout \n",
    "    xmlns:android=\"http://schemas.android.com/apk/res/android\"\n",
    "    xmlns:app=\"http://schemas.android.com/apk/res-auto\"\n",
    "    xmlns:tools=\"http://schemas.android.com/tools\"\n",
    "    android:layout_width=\"match_parent\"\n",
    "    android:layout_height=\"wrap_content\"\n",
    "    android:padding=\"24dp\">\n",
    "\n",
    "    <TextView\n",
    "        android:id=\"@+id/nameTextViewRV\"\n",
    "        android:layout_width=\"0dp\"\n",
    "        android:layout_height=\"wrap_content\"\n",
    "        android:text=\"nazwa przedmiotu\"\n",
    "        android:textSize=\"24sp\"\n",
    "        android:textStyle=\"bold\"\n",
    "        app:layout_constraintEnd_toStartOf=\"@+id/guideline\"\n",
    "        app:layout_constraintStart_toStartOf=\"parent\"\n",
    "        app:layout_constraintTop_toTopOf=\"parent\" />\n",
    "\n",
    "    <TextView\n",
    "        android:id=\"@+id/quantityTextViewRV\"\n",
    "        android:layout_width=\"wrap_content\"\n",
    "        android:layout_height=\"wrap_content\"\n",
    "        android:gravity=\"end\"\n",
    "        android:text=\"999\"\n",
    "        android:textSize=\"24sp\"\n",
    "        app:layout_constraintEnd_toEndOf=\"parent\"\n",
    "        app:layout_constraintStart_toStartOf=\"@+id/guideline\"\n",
    "        app:layout_constraintTop_toTopOf=\"parent\" />\n",
    "\n",
    "    <androidx.constraintlayout.widget.Guideline\n",
    "        android:id=\"@+id/guideline\"\n",
    "        android:layout_width=\"wrap_content\"\n",
    "        android:layout_height=\"wrap_content\"\n",
    "        android:orientation=\"vertical\"\n",
    "        app:layout_constraintGuide_percent=\"0.75\" />\n",
    "\n",
    "\n",
    "</androidx.constraintlayout.widget.ConstraintLayout>"
   ]
  },
  {
   "cell_type": "markdown",
   "id": "d046213e-bde2-4afe-9f9e-196bd7996127",
   "metadata": {},
   "source": [
    "Dodajmy `ItemViewHolder`"
   ]
  },
  {
   "cell_type": "code",
   "execution_count": null,
   "id": "1dc5933d-507a-4e03-9efe-23800fd81571",
   "metadata": {},
   "outputs": [],
   "source": [
    "class ItemViewHolder(private val binding: ItemRecyclerviewBinding) \n",
    "    : RecyclerView.ViewHolder(binding.root) {\n",
    "\n",
    "    fun bind(item: Item) {\n",
    "        binding.nameTextViewRV.text = item.name\n",
    "        binding.quantityTextViewRV.text = item.quantity.toString()\n",
    "\n",
    "        binding.root.setOnClickListener {\n",
    "            val action: NavDirections = ListFragmentDirections\n",
    "                .actionListFragmentToUpdateFragment(item.id)\n",
    "            findNavController(binding.root).navigate(action)\n",
    "        }\n",
    "    }\n",
    "}"
   ]
  },
  {
   "cell_type": "markdown",
   "id": "9a730a6d-69d2-47e0-8743-ee53c3d97b59",
   "metadata": {},
   "source": [
    "Dodajemy implementację `onClick` elementu listy - przechodzimy do `UpdateFragment` przekazując `id` klikniętego elementu."
   ]
  },
  {
   "cell_type": "markdown",
   "id": "fedb70da-763c-4f5b-b79b-1fc95aada7b1",
   "metadata": {},
   "source": [
    "Dodajmy `ItemComparator` - dzięki niemu możemy zdefiniować metody porównujące elementy - jest wykorzystywany podczas wywołania `submitList` w klasie `Listfragment` (niejawnie)"
   ]
  },
  {
   "cell_type": "code",
   "execution_count": null,
   "id": "779a3b7a-77d4-452d-ab86-1cf8eb9b0871",
   "metadata": {},
   "outputs": [],
   "source": [
    "class ItemComparator : DiffUtil.ItemCallback<Item>() {\n",
    "    override fun areItemsTheSame(oldItem: Item, newItem: Item): Boolean {\n",
    "        return oldItem === newItem\n",
    "    }\n",
    "\n",
    "    override fun areContentsTheSame(oldItem: Item, newItem: Item): Boolean {\n",
    "        return oldItem.name == newItem.name && oldItem.quantity == newItem.quantity\n",
    "    }\n",
    "}"
   ]
  },
  {
   "cell_type": "markdown",
   "id": "6ee32838-970c-4410-a563-0593b88f5c4d",
   "metadata": {},
   "source": [
    "Klasa `ItemAdapter` będzie rozszerzać `ListAdapter` - co ułatwi indeksowanie i zmianę danych"
   ]
  },
  {
   "cell_type": "code",
   "execution_count": null,
   "id": "57e14ff7-24ee-4c44-a0e7-fa2dfbe8a077",
   "metadata": {},
   "outputs": [],
   "source": [
    "class ItemAdapter(itemComparator: ItemComparator) \n",
    "    : ListAdapter<Item, ItemViewHolder>(itemComparator) {\n",
    "\n",
    "    override fun onCreateViewHolder(parent: ViewGroup, viewType: Int): ItemViewHolder {\n",
    "        return ItemViewHolder(ItemRecyclerviewBinding.inflate(\n",
    "            LayoutInflater.from(parent.context), parent, false\n",
    "        ))\n",
    "    }\n",
    "\n",
    "    override fun onBindViewHolder(holder: ItemViewHolder, position: Int) {\n",
    "        val item = getItem(position)\n",
    "        holder.bind(item)\n",
    "    }\n",
    "\n",
    "    public fun getItemAt(position: Int): Item{\n",
    "        return getItem(position)\n",
    "    }\n",
    "}"
   ]
  },
  {
   "cell_type": "markdown",
   "id": "fa09ca11-9e6e-4325-94ec-851b39c2e85c",
   "metadata": {},
   "source": [
    "Oprócz metod które musimy nadpisać, dodajemy metodę publiczną `getItemAt` zwracającą element na zadanej pozycji - wykorzystamy ją przy implementacji przeszukiwania w `ListFragment`.\n",
    "\n",
    "W metodzie `onViewCreated` klasy `Listfragment` dodajmy `RecyclerView`"
   ]
  },
  {
   "cell_type": "code",
   "execution_count": null,
   "id": "968e9de1-6dcc-47df-9b93-dccffbdf22dd",
   "metadata": {},
   "outputs": [],
   "source": [
    "val adapter = ItemAdapter(ItemComparator())\n",
    "binding.listRecyclerView.apply{\n",
    "    adapter = adapter\n",
    "    layoutManager = LinearLayoutManager(requireContext())\n",
    "}"
   ]
  },
  {
   "cell_type": "markdown",
   "id": "1f6210fe-6d41-4770-84e8-aa147a9a8d55",
   "metadata": {},
   "source": [
    "Następnie dodajmy obserwator"
   ]
  },
  {
   "cell_type": "code",
   "execution_count": null,
   "id": "8e278924-1690-4e28-87cc-1c06eacd62d0",
   "metadata": {},
   "outputs": [],
   "source": [
    "itemViewModel.readAllData.observe(viewLifecycleOwner, adapter::submitList)"
   ]
  },
  {
   "cell_type": "markdown",
   "id": "68359ab2-8b80-4200-b7d5-0fff6714ed3d",
   "metadata": {},
   "source": [
    "Dodajmy obsługę `onClick` dwóch `FAB` służących dodaniu i usunięciu wszystkich elementów"
   ]
  },
  {
   "cell_type": "code",
   "execution_count": null,
   "id": "8c1b51dc-a807-41bc-9a0a-b8a053a5d7d2",
   "metadata": {},
   "outputs": [],
   "source": [
    "binding.addItemFAB.setOnClickListener {\n",
    "    findNavController()\n",
    "        .navigate(ListFragmentDirections.actionListFragmentToAddFragment())}\n",
    "\n",
    "binding.clearDataFAB.setOnClickListener { deleteAll()}"
   ]
  },
  {
   "cell_type": "markdown",
   "id": "944bfd33-fe29-42d3-ab6e-ac19aed6e6a7",
   "metadata": {},
   "source": [
    "#### **swipeToDelete**"
   ]
  },
  {
   "cell_type": "markdown",
   "id": "0b31d397-b5b0-4611-885d-933a0b789ab3",
   "metadata": {},
   "source": [
    "zaimplementujmy funkcję `swipeToDelete` - będziemy usuwać elementu z bazy poprzez wykonanie zdarzenia `swipe` w lewo lub prawo. Jako argument metoda przyjmuje `ItemAdapter`. W pierwszym kroku tworzymy `ItemTouchHelper` - argumentem jest `SimpleCallback`. Jako `dragDirs` podajemy 0 (nie będziemy wykorzystywać tej funkcjonalności), a jako `swipeDirs` podajemy odpowiednie `int` zdefiniowane w klasie `ItemTouchHelper`"
   ]
  },
  {
   "cell_type": "code",
   "execution_count": null,
   "id": "8e28dc13-22d0-4213-9db0-f809df5c95f0",
   "metadata": {},
   "outputs": [],
   "source": [
    " private fun swipeToDelete(adapter: ItemAdapter) {\n",
    "        ItemTouchHelper(object : ItemTouchHelper.SimpleCallback(\n",
    "            0,\n",
    "            ItemTouchHelper.RIGHT or ItemTouchHelper.LEFT\n",
    "        ) {"
   ]
  },
  {
   "cell_type": "markdown",
   "id": "4028cff6-1eab-4840-b3c6-1afcc7934410",
   "metadata": {},
   "source": [
    "Implementacja metody `onMove` nas nie interesuje, więc zwracamy `false`"
   ]
  },
  {
   "cell_type": "code",
   "execution_count": null,
   "id": "daddfdc1-811e-445c-875b-9e3253a0563b",
   "metadata": {},
   "outputs": [],
   "source": [
    "    override fun onMove(\n",
    "        recyclerView: RecyclerView,\n",
    "        viewHolder: RecyclerView.ViewHolder,\n",
    "        target: RecyclerView.ViewHolder\n",
    "    ): Boolean {\n",
    "        return false\n",
    "    }"
   ]
  },
  {
   "cell_type": "markdown",
   "id": "7fa50836-39d9-428d-b0be-fab77c053e22",
   "metadata": {},
   "source": [
    "W metodzie `onSwiped` wywołujemy `delete` klasy `ItemViewModel` - tutaj jako argument musimy podać element który chcemy usunąć, a mamy dostępną tylko pozycję elementu (przez metodę `getAdapterPosition`). W celu wyciągnięcia elementu wykorzystamy wcześniej zdefiniowaną metodę `getItemAt` w klasie `ItemAdapter`"
   ]
  },
  {
   "cell_type": "code",
   "execution_count": null,
   "id": "553d62ec-27a9-4f8d-8dcc-e7388f2c00df",
   "metadata": {},
   "outputs": [],
   "source": [
    "    override fun onSwiped(viewHolder: RecyclerView.ViewHolder, direction: Int) {\n",
    "        itemViewModel.deleteItem(adapter.getItemAt(viewHolder.adapterPosition))\n",
    "    }\n",
    "}).attachToRecyclerView(binding.listRecyclerView)"
   ]
  },
  {
   "cell_type": "markdown",
   "id": "c820c88c-bb09-4bf6-b800-fb8ae2f40ef8",
   "metadata": {},
   "source": [
    "Metodę `swipeToDelete` wywołujemy w `onViewCreated`"
   ]
  },
  {
   "cell_type": "code",
   "execution_count": null,
   "id": "5f1086ee-0a78-4991-bd0c-d5ee9be8da78",
   "metadata": {},
   "outputs": [],
   "source": [
    "swipeToDelete(adapter)"
   ]
  },
  {
   "cell_type": "markdown",
   "id": "093e4a5a-354f-4f18-8692-549bf26809c5",
   "metadata": {},
   "source": [
    "#### **searchView**"
   ]
  },
  {
   "cell_type": "markdown",
   "id": "c46b5508-4eab-4e69-b6f5-2bfbf791804a",
   "metadata": {},
   "source": [
    "Ostatnim elementem tej aplikacji jest implementacja `SearchView`, pozwalająca na przeszukanie bazy. W tym celu stwórzmy nową metodę `setupSearchView` - również tutaj jako parametr przekażemy `ItemAdapter`"
   ]
  },
  {
   "cell_type": "code",
   "execution_count": null,
   "id": "825f82d4-871e-41bc-b0d9-e8e4f525b765",
   "metadata": {},
   "outputs": [],
   "source": [
    "private fun setupSearchView(adapter: ItemAdapter) {"
   ]
  },
  {
   "cell_type": "markdown",
   "id": "078f0201-7095-433f-bb64-73b050d47ccb",
   "metadata": {},
   "source": [
    "Tutaj dodamy `setOnQueryTextListener` do naszego `SearchView`, który wymaga implementacji dwóch metod\n",
    "- `onQueryTextSubmit` - wykonana po zakończeniu edycji i zatwierdzeniu\n",
    "- `onQueryTextChange` - wykonana przy każdej zmianie tekstu w polu `SearchView`\n",
    "\n",
    "W obu tych metodach wykonamy tą samą metodę - `search`."
   ]
  },
  {
   "cell_type": "code",
   "execution_count": null,
   "id": "12bd0176-9094-4899-b8bd-5f16c7af5812",
   "metadata": {},
   "outputs": [],
   "source": [
    "    binding.searchSearchView\n",
    "    .setOnQueryTextListener(object : SearchView.OnQueryTextListener {\n",
    "        override fun onQueryTextSubmit(query: String?): Boolean {\n",
    "            if (query != null) search(query, adapter)\n",
    "            return true\n",
    "        }\n",
    "\n",
    "        override fun onQueryTextChange(newText: String?): Boolean {\n",
    "            if (newText != null) search(newText, adapter)\n",
    "            return true\n",
    "        }\n",
    "\n",
    "    })"
   ]
  },
  {
   "cell_type": "markdown",
   "id": "c970195e-b812-4e9e-8bb8-3bdbf7c5842a",
   "metadata": {},
   "source": [
    "Zdefiniujmy metodę `search` - argumentem jest tekst do wyszukania oraz `ItemAdapter`, w pierwszym kroku zdefiniujmy `String` reprezentujący frazę do wyszukania"
   ]
  },
  {
   "cell_type": "code",
   "execution_count": null,
   "id": "ba8c4c61-dd98-4e45-8d1d-416b58ee17fa",
   "metadata": {},
   "outputs": [],
   "source": [
    "private fun search(query: String, adapter: ItemAdapter){\n",
    "    val searchQuery = \"%$query%\""
   ]
  },
  {
   "cell_type": "markdown",
   "id": "3c6678dd-16d5-4365-9b07-ae7defd2ed5b",
   "metadata": {},
   "source": [
    "Nastęnie na `ItemViewModel` wykonajmy metodę `search` zwracającą listę wszystkich elementów pasujących do frazy wyszukania, oraz dodajmy obserwator i wykonajmy `submitList` - zaowocuje to natychmiastowym wyświetleniem wyniku w `RecyclerView`."
   ]
  },
  {
   "cell_type": "code",
   "execution_count": null,
   "id": "057e2a69-1ea8-4d29-aa0c-f2efb031f90a",
   "metadata": {},
   "outputs": [],
   "source": [
    "    itemViewModel.searchItem(searchQuery)\n",
    "    .observe(viewLifecycleOwner, adapter::submitList)"
   ]
  },
  {
   "cell_type": "markdown",
   "id": "b67cda75-7853-4f96-8652-3a2c01defacd",
   "metadata": {},
   "source": [
    "Możemy przetestować aplikację"
   ]
  }
 ],
 "metadata": {
  "kernelspec": {
   "display_name": "Kotlin",
   "language": "kotlin",
   "name": "kotlin"
  },
  "language_info": {
   "codemirror_mode": "text/x-kotlin",
   "file_extension": ".kt",
   "mimetype": "text/x-kotlin",
   "name": "kotlin",
   "nbconvert_exporter": "",
   "pygments_lexer": "kotlin",
   "version": "1.6.20-dev-6372"
  }
 },
 "nbformat": 4,
 "nbformat_minor": 5
}
