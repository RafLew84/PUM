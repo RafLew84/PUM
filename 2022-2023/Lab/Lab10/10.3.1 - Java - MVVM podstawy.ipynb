{
 "cells": [
  {
   "cell_type": "markdown",
   "id": "65b6146e-a9a8-45dd-8976-fdee61524e19",
   "metadata": {},
   "source": [
    "## 10.3 Model View ViewModel - podstawy"
   ]
  },
  {
   "cell_type": "markdown",
   "id": "5f73316f-eb5d-49b2-b0cf-c7e91106f04d",
   "metadata": {},
   "source": [
    "Podstawy tej architektury widzieliśmy już w poprzednim tygodniu. Dla kompletności dodajmy również wersję `MVVM`. Model pozostaje bez zmian"
   ]
  },
  {
   "cell_type": "code",
   "execution_count": null,
   "id": "90315850-f164-447a-b20c-279d53244089",
   "metadata": {},
   "outputs": [],
   "source": [
    "public class Model {\n",
    "    private final String text;\n",
    "    private final int score;\n",
    "    private final int ratio;\n",
    "\n",
    "    public Model(String text, int score, int ratio) {\n",
    "        this.text = text;\n",
    "        this.score = score;\n",
    "        this.ratio = ratio;\n",
    "    }\n",
    "\n",
    "    public String getData(){\n",
    "        return text + \" \" + score + \" \" + ratio;\n",
    "    }\n",
    "}"
   ]
  },
  {
   "cell_type": "markdown",
   "id": "1236d19f-f575-484b-afa2-c0c92bf03f1f",
   "metadata": {},
   "source": [
    "interfejs `MyView` zastępujemy klasą `VewModel`, gdzie nasz tekst wystawimy jako `LiveData`"
   ]
  },
  {
   "cell_type": "code",
   "execution_count": null,
   "id": "f66e5cef-7931-40d9-8b49-8394fd741e1e",
   "metadata": {},
   "outputs": [],
   "source": [
    "public class MyViewModel extends ViewModel {\n",
    "\n",
    "    private final MutableLiveData<String> myData = new MutableLiveData<>();\n",
    "\n",
    "    public LiveData<String> getMyData() {\n",
    "        return myData;\n",
    "    }\n",
    "\n",
    "    public MyViewModel(){\n",
    "        myData.setValue(getModel().getData());\n",
    "    }\n",
    "\n",
    "    private Model getModel() {\n",
    "        return new Model(\"text\", 1, 2);\n",
    "    }\n",
    "}"
   ]
  },
  {
   "cell_type": "markdown",
   "id": "786a326e-3780-487b-889c-76a9e8932c2c",
   "metadata": {},
   "source": [
    "Do klasy `MainActivity` dodajemy referencję do utworzonego `ViewModel` przez `ViewModelProvider` i ustawiamy obserwatorów."
   ]
  },
  {
   "cell_type": "code",
   "execution_count": null,
   "id": "86586347-654f-4a25-95e0-6ec58554e307",
   "metadata": {},
   "outputs": [],
   "source": [
    "public class MainActivity extends AppCompatActivity {\n",
    "\n",
    "    private TextView textView;\n",
    "    private Button button;\n",
    "\n",
    "    private MyViewModel myViewModel;\n",
    "\n",
    "    @Override\n",
    "    protected void onCreate(Bundle savedInstanceState) {\n",
    "        super.onCreate(savedInstanceState);\n",
    "        setContentView(R.layout.activity_main);\n",
    "\n",
    "        textView = findViewById(R.id.textView);\n",
    "        button = findViewById(R.id.button);\n",
    "\n",
    "        myViewModel = new ViewModelProvider(this).get(MyViewModel.class);\n",
    "\n",
    "        myViewModel.getMyData().observe(this, s -> textView.setText(s));\n",
    "    }"
   ]
  },
  {
   "cell_type": "code",
   "execution_count": null,
   "id": "1cf5f75c-cba1-4cfc-93ef-8d80750a2f92",
   "metadata": {},
   "outputs": [],
   "source": []
  }
 ],
 "metadata": {
  "kernelspec": {
   "display_name": "Java",
   "language": "java",
   "name": "java"
  },
  "language_info": {
   "codemirror_mode": "java",
   "file_extension": ".jshell",
   "mimetype": "text/x-java-source",
   "name": "Java",
   "pygments_lexer": "java",
   "version": "17+35-2724"
  }
 },
 "nbformat": 4,
 "nbformat_minor": 5
}
