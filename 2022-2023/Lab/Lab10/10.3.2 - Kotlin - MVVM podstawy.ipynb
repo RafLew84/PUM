{
 "cells": [
  {
   "cell_type": "markdown",
   "id": "3eaef401-617c-4aa5-a4c5-33cbab931a0e",
   "metadata": {},
   "source": [
    "## 10.3 Model View ViewModel - podstawy"
   ]
  },
  {
   "cell_type": "markdown",
   "id": "888898f6-8875-4a79-b2b1-6536c1072185",
   "metadata": {},
   "source": [
    "Podstawy tej architektury widzieliśmy już w poprzednim tygodniu. Dla kompletności dodajmy również wersję `MVVM`. Model pozostaje bez zmian"
   ]
  },
  {
   "cell_type": "code",
   "execution_count": null,
   "id": "db5cfe90-4b69-470e-b294-fc220280179f",
   "metadata": {},
   "outputs": [],
   "source": [
    "data class Model (\n",
    "    private val text: String,\n",
    "    private val score: Int,\n",
    "    private val ratio: Int)\n",
    "{\n",
    "    fun getData(): String{\n",
    "        return \"$text $score $ratio\"\n",
    "    }\n",
    "}"
   ]
  },
  {
   "cell_type": "markdown",
   "id": "76a7aca2-8d18-459b-8a2b-14d83445f85d",
   "metadata": {},
   "source": [
    "interfejs `MyView` zastępujemy klasą `VewModel`, gdzie nasz tekst wystawimy jako `LiveData`"
   ]
  },
  {
   "cell_type": "code",
   "execution_count": null,
   "id": "43ad70bd-01e8-40db-b40a-2798d246518f",
   "metadata": {},
   "outputs": [],
   "source": [
    "class MyViewModel : ViewModel() {\n",
    "\n",
    "    private var _myData: MutableLiveData<String> = MutableLiveData()\n",
    "    val myData: LiveData<String> = _myData\n",
    "\n",
    "    private fun getModel(): Model {\n",
    "        return Model(\"text\", 1, 2)\n",
    "    }\n",
    "\n",
    "    init {\n",
    "        _myData.value = getModel().getData()\n",
    "    }\n",
    "}"
   ]
  },
  {
   "cell_type": "markdown",
   "id": "1c34eedf-2735-43f7-b008-cee58ccd5953",
   "metadata": {},
   "source": [
    "Do klasy `MainActivity` dodajemy referencję do utworzonego `ViewModel` przez `ViewModelProvider` i ustawiamy obserwatorów."
   ]
  },
  {
   "cell_type": "code",
   "execution_count": null,
   "id": "6387aa2e-ebd0-4e09-a856-69b9b2c3fcfb",
   "metadata": {},
   "outputs": [],
   "source": [
    "class MainActivity : AppCompatActivity() {\n",
    "\n",
    "    private val textView: TextView by lazy { findViewById(R.id.textView) }\n",
    "    private val button: Button by lazy { findViewById(R.id.button) }\n",
    "\n",
    "    private val myViewModel: MyViewModel by viewModels()\n",
    "\n",
    "    override fun onCreate(savedInstanceState: Bundle?) {\n",
    "        super.onCreate(savedInstanceState)\n",
    "        setContentView(R.layout.activity_main)\n",
    "\n",
    "        myViewModel.myData.observe(this){\n",
    "            textView.text = it\n",
    "        }\n",
    "    }\n",
    "}"
   ]
  }
 ],
 "metadata": {
  "kernelspec": {
   "display_name": "Kotlin",
   "language": "kotlin",
   "name": "kotlin"
  },
  "language_info": {
   "codemirror_mode": "text/x-kotlin",
   "file_extension": ".kt",
   "mimetype": "text/x-kotlin",
   "name": "kotlin",
   "nbconvert_exporter": "",
   "pygments_lexer": "kotlin",
   "version": "1.6.20-dev-6372"
  }
 },
 "nbformat": 4,
 "nbformat_minor": 5
}
