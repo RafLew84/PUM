{
 "cells": [
  {
   "cell_type": "markdown",
   "id": "2dcbdf9d-26a2-45b2-992e-37afd86cf1be",
   "metadata": {},
   "source": [
    "## 10.1 Model View Controller - podstawy"
   ]
  },
  {
   "cell_type": "markdown",
   "id": "3c5cfe55-34f8-40f8-8d93-71cd8ffa75c4",
   "metadata": {},
   "source": [
    "Aplikacja posłuży przedstawieniu ppodstawowej struktury architektury `MVC`. Posłużymy się tylko pojedynczym przyciskiem i jednym polem `TextView`. Rozpocznijmy od `Model`"
   ]
  },
  {
   "cell_type": "code",
   "execution_count": null,
   "id": "463d31aa-3179-4c48-ad56-6afeb6a53427",
   "metadata": {},
   "outputs": [],
   "source": [
    "public class Model {\n",
    "    private final String text;\n",
    "    private final int score;\n",
    "    private final int ratio;\n",
    "\n",
    "    public Model(String text, int score, int ratio) {\n",
    "        this.text = text;\n",
    "        this.score = score;\n",
    "        this.ratio = ratio;\n",
    "    }\n",
    "\n",
    "    public String getData(){\n",
    "        return text + \" \" + score + \" \" + ratio;\n",
    "    }\n",
    "}"
   ]
  },
  {
   "cell_type": "markdown",
   "id": "466960c9-ce74-4abb-97dd-a9e1538df4ed",
   "metadata": {},
   "source": [
    "W tym prostym przykładzie nie będziemy wykorzystywać baz danych ani łączyć się z serwisami zewnętrznymi, więc umieścimy metodę `getData` w klasie `Model`.\n",
    "\n",
    "W architekturze `MVC` aktywność często pełni pdwójną rolę - `View` oraz `Controller`. Tutaj dla przejrzystości wyrzucimy `View` do soobnej klasy. Ściślej rzecz ujmując naszym kontrolerem jest aktywność, jako `View` wykorzystujemy tylko pole `TextView`."
   ]
  },
  {
   "cell_type": "code",
   "execution_count": null,
   "id": "cc6cc0f4-c9b7-49e9-9895-375f8143cc96",
   "metadata": {},
   "outputs": [],
   "source": [
    "public class MyView {\n",
    "    private final TextView textView;\n",
    "    private final Model model;\n",
    "\n",
    "    public MyView(TextView textView, Model model) {\n",
    "        this.textView = textView;\n",
    "        this.model = model;\n",
    "    }\n",
    "\n",
    "    public void display(){\n",
    "        textView.setText(model.getData());\n",
    "    }\n",
    "}"
   ]
  },
  {
   "cell_type": "markdown",
   "id": "e7094c75-fe35-45f4-a2c0-fe7db6d6d92f",
   "metadata": {},
   "source": [
    "W klasie aktywności musimy zainicjować pola "
   ]
  },
  {
   "cell_type": "code",
   "execution_count": null,
   "id": "3728088d-7189-4b11-afaf-6d8b78b1c647",
   "metadata": {},
   "outputs": [],
   "source": [
    "private TextView textView;\n",
    "private Button button;\n",
    "\n",
    "private Model model;\n",
    "private MyView myView;\n",
    "\n",
    "@Override\n",
    "protected void onCreate(Bundle savedInstanceState) {\n",
    "    super.onCreate(savedInstanceState);\n",
    "    setContentView(R.layout.activity_main);\n",
    "\n",
    "    textView = findViewById(R.id.textView);\n",
    "    button = findViewById(R.id.button);"
   ]
  },
  {
   "cell_type": "markdown",
   "id": "902d958d-4193-47a7-8f0f-d735d410c768",
   "metadata": {},
   "source": [
    "Następnie utworzyć `Model`"
   ]
  },
  {
   "cell_type": "code",
   "execution_count": null,
   "id": "cc54bbb6-25fb-465a-849e-3b9733d8cfbe",
   "metadata": {},
   "outputs": [],
   "source": [
    "    model = new Model(\"text\", 1, 2);"
   ]
  },
  {
   "cell_type": "markdown",
   "id": "e98724f4-680c-4833-b3b5-f5bdacd5d1fd",
   "metadata": {},
   "source": [
    "oraz `View`, który przyjkmuje `Model` jako parametr."
   ]
  },
  {
   "cell_type": "code",
   "execution_count": null,
   "id": "bb84ac33-c7b9-4460-b31e-4ed456c67423",
   "metadata": {},
   "outputs": [],
   "source": [
    "    myView = new MyView(textView, model);"
   ]
  },
  {
   "cell_type": "markdown",
   "id": "c52a0bba-98f3-403e-854a-a51a86bd57fb",
   "metadata": {},
   "source": [
    "Następnie dodajmy obsługę przycisku"
   ]
  },
  {
   "cell_type": "code",
   "execution_count": null,
   "id": "a4527fad-166c-4bdb-9852-b037e8b6d88b",
   "metadata": {},
   "outputs": [],
   "source": [
    "    button.setOnClickListener(v -> {\n",
    "        myView.display();\n",
    "    });"
   ]
  },
  {
   "cell_type": "markdown",
   "id": "1a151358-ddbc-43b6-9790-8755e69d819f",
   "metadata": {},
   "source": [
    "Podsumowując\n",
    "- `View` odpowiada za inicjalizację widoków, zachowanie elementów ui, zmiany ich właściwości\n",
    "- `View` posiada referencję do modelu z którego czerpie dane\n",
    "- `Controller` (`MainActivity`) przechwytuje zdarzenia i oddelegowuje ich wykonanie do `Model` oraz powiadamia `View` o zmianie stanu."
   ]
  },
  {
   "cell_type": "code",
   "execution_count": null,
   "id": "34d4c236-aa47-4dd2-9361-b07bc9de8b83",
   "metadata": {},
   "outputs": [],
   "source": []
  }
 ],
 "metadata": {
  "kernelspec": {
   "display_name": "Java",
   "language": "java",
   "name": "java"
  },
  "language_info": {
   "codemirror_mode": "java",
   "file_extension": ".jshell",
   "mimetype": "text/x-java-source",
   "name": "Java",
   "pygments_lexer": "java",
   "version": "17+35-2724"
  }
 },
 "nbformat": 4,
 "nbformat_minor": 5
}
