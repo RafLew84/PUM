{
 "cells": [
  {
   "cell_type": "markdown",
   "id": "0937a03c-1b2b-4be6-a8db-bbfe7d9b848d",
   "metadata": {},
   "source": [
    "## 10.4 Shoppy"
   ]
  },
  {
   "cell_type": "markdown",
   "id": "51bf4a0c-31ec-444b-94d1-116bfd1b6205",
   "metadata": {},
   "source": [
    "W tej apllikacji zaimplementujemy architekturę `MVVM`. Aplikacja będzie listą zakupową z bazą `ROOM` umożliwiająca dodanie elementu, usunięcie, edycję oraz wyszukanie. Wykorzystamy `Jetpack Navigation`do nawigowania po trzech fragmentach\n",
    "- `ListFragment` - fragment domowy wyświetlający listę wszystkich elementów oraz pozwalający przeszukać bazę\n",
    "- `AddFragment` - przejście z `ListFragment` za pomocą `FAB` - umożliwia dodanie nowego elementu do bazy\n",
    "- `UpdateFragment` - przejście przez kliknięcie elementu `RecyclerView` na `ListFragment` - umożliwia edycję wybranego elementu."
   ]
  },
  {
   "cell_type": "code",
   "execution_count": null,
   "id": "f465643e-a40e-4c76-8e76-f7db417e2547",
   "metadata": {},
   "outputs": [],
   "source": []
  },
  {
   "cell_type": "markdown",
   "id": "239efa80-fe47-4472-8fa2-422617bfdbf9",
   "metadata": {},
   "source": [
    "Dodajmy wymagane zależności do plików `build.gradle`"
   ]
  },
  {
   "cell_type": "code",
   "execution_count": null,
   "id": "dfc1c3ea-bb7e-421f-a16b-3856e84b10db",
   "metadata": {},
   "outputs": [],
   "source": [
    "// Project\n",
    "buildscript {\n",
    "    repositories {\n",
    "        google()\n",
    "    }\n",
    "    dependencies {\n",
    "        classpath \"androidx.navigation:navigation-safe-args-gradle-plugin:2.5.1\"\n",
    "    }\n",
    "}"
   ]
  },
  {
   "cell_type": "code",
   "execution_count": null,
   "id": "8629692a-63de-4874-87fc-fd0ce23ecde3",
   "metadata": {},
   "outputs": [],
   "source": [
    "// Module\n",
    "plugins {\n",
    "    id 'com.android.application'\n",
    "    id 'androidx.navigation.safeargs'\n",
    "}\n",
    "...\n",
    "buildFeatures {\n",
    "    viewBinding true\n",
    "}\n",
    "...\n",
    "dependencies {\n",
    "\n",
    "    // Navigation\n",
    "    implementation \"androidx.navigation:navigation-fragment:2.5.1\"\n",
    "    implementation \"androidx.navigation:navigation-ui:2.5.1\"\n",
    "\n",
    "    // ROOM\n",
    "    implementation \"androidx.room:room-runtime:2.4.3\"\n",
    "    annotationProcessor \"androidx.room:room-compiler:2.4.3\"\n",
    "\n",
    "    // ViewModel\n",
    "    implementation 'androidx.lifecycle:lifecycle-viewmodel:2.5.1'\n",
    "\n",
    "    // LiveData\n",
    "    implementation \"androidx.lifecycle:lifecycle-livedata:2.5.1\"\n",
    "    ...\n",
    "}"
   ]
  },
  {
   "cell_type": "markdown",
   "id": "305300e9-1510-4de9-bcc0-2a1c0653ea47",
   "metadata": {},
   "source": [
    "### **data**"
   ]
  },
  {
   "cell_type": "markdown",
   "id": "b6370772-d68b-4f9a-b5a5-3d891e94d2cf",
   "metadata": {},
   "source": [
    "Rozpocznijmy od zdefiniowania modelu - klasa `Item` będzie posiadała trzy pola\n",
    "- `id` - unikalny identyfikator\n",
    "- `name` - nazwa produktu\n",
    "- `quantity` - ilość danego produktu\n",
    "Nasza klasa będzie reprezentowała tabelę w bazie `ROOM`, więc dodamy również adnotację `@Entity`"
   ]
  },
  {
   "cell_type": "code",
   "execution_count": null,
   "id": "bff8e16c-d742-478d-861c-b8c91a8fbe3b",
   "metadata": {},
   "outputs": [],
   "source": [
    "@Entity(tableName = \"item_table\")\n",
    "public class Item {\n",
    "\n",
    "    @PrimaryKey(autoGenerate = true)\n",
    "    private final int id;\n",
    "    private final String name;\n",
    "    private final int quantity;\n",
    "\n",
    "    public Item(int id, String name, int quantity) {\n",
    "        this.id = id;\n",
    "        this.name = name;\n",
    "        this.quantity = quantity;\n",
    "    }\n",
    "\n",
    "    public String getName() {\n",
    "        return name;\n",
    "    }\n",
    "\n",
    "    public int getQuantity() {\n",
    "        return quantity;\n",
    "    }\n",
    "\n",
    "    public int getId() {\n",
    "        return id;\n",
    "    }\n",
    "}"
   ]
  },
  {
   "cell_type": "markdown",
   "id": "f5365e66-e489-4f9b-850d-ae108ef708a1",
   "metadata": {},
   "source": [
    "Wykorzystujemy pole `id` jako `PrimaryKey` który będzie automatycznie generowany przez `ROOM`."
   ]
  },
  {
   "cell_type": "markdown",
   "id": "f2e00223-5732-4ddc-9c85-e63e03b05443",
   "metadata": {},
   "source": [
    "Zdefiniujmy nasz `DAO` z odpowiednimi metodami"
   ]
  },
  {
   "cell_type": "code",
   "execution_count": null,
   "id": "5faafbcd-c224-49ce-b70f-926f252b3a71",
   "metadata": {},
   "outputs": [],
   "source": [
    "@Dao\n",
    "public interface ItemDao {\n",
    "    @Insert(onConflict = OnConflictStrategy.IGNORE)\n",
    "    void addItem(Item item); // dodaj element\n",
    "\n",
    "    @Query(\"SELECT * FROM item_table ORDER BY id ASC\")\n",
    "    LiveData<List<Item>> readAllData(); // czytaj wszystkie elementy\n",
    "\n",
    "    @Query(\"SELECT * FROM item_table WHERE id = :id\")\n",
    "    LiveData<Item> getItem(int id); // czytaj element o zadanym id\n",
    "\n",
    "    @Update(onConflict = OnConflictStrategy.REPLACE)\n",
    "    void updateItem(Item item); // aktualizuj element\n",
    "\n",
    "    @Delete\n",
    "    void deleteItem(Item item); // usuń element\n",
    "\n",
    "    @Query(\"DELETE FROM item_table\")\n",
    "    void deleteAll(); // usuń wszystkie elementy\n",
    "\n",
    "    @Query(\"SELECT * FROM item_table WHERE name LIKE :query\")\n",
    "    LiveData<List<Item>> searchItem(String query); // wyszukaj element o zadanej nazwie\n",
    "}"
   ]
  },
  {
   "cell_type": "markdown",
   "id": "bb965b9d-321d-4f20-9b50-eea1b2b9a778",
   "metadata": {},
   "source": [
    "Kolejnym elementem będzie baza danych `ROOM` - tak jak poprzednio wykorzystamy `ExecutorService` to zapisu do bazy. Z bazy dane zwrócimy jako `LiveData`"
   ]
  },
  {
   "cell_type": "code",
   "execution_count": null,
   "id": "f1ea3068-9f4d-4b39-a23c-e09d3bdcb838",
   "metadata": {},
   "outputs": [],
   "source": [
    "@Database(entities = {Item.class}, version = 1, exportSchema = false)\n",
    "abstract public class ItemDatabase extends RoomDatabase {\n",
    "\n",
    "    public abstract ItemDao itemDao();\n",
    "\n",
    "    private static volatile ItemDatabase INSTANCE;\n",
    "\n",
    "    private static final int NUMBER_OF_THREADS = 4;\n",
    "    public static final ExecutorService databaseWriteExecutor =\n",
    "            Executors.newFixedThreadPool(NUMBER_OF_THREADS);\n",
    "\n",
    "    public static ItemDatabase getDatabase(final Context context) {\n",
    "        if (INSTANCE == null) {\n",
    "            synchronized (ItemDatabase.class) {\n",
    "                if (INSTANCE == null) {\n",
    "                    INSTANCE = Room.databaseBuilder(context.getApplicationContext(),\n",
    "                                    ItemDatabase.class, \"item_database_java\")\n",
    "                            .build();\n",
    "                }\n",
    "            }\n",
    "        }\n",
    "        return INSTANCE;\n",
    "    }\n",
    "}"
   ]
  },
  {
   "cell_type": "markdown",
   "id": "f35a8949-f11a-4b4a-b78e-bbc9322950c9",
   "metadata": {},
   "source": [
    "Następnie zdefiniujmy `Repository` - element nie należący do architektury `MVVM` lecz mocno zalecany. Dodajmy dwa pola `ItemDao` oraz `readAllData`"
   ]
  },
  {
   "cell_type": "code",
   "execution_count": null,
   "id": "3d232a66-680b-4fd9-bf02-ea8f7a806409",
   "metadata": {},
   "outputs": [],
   "source": [
    "public class ItemRepository {\n",
    "\n",
    "    private final ItemDao itemDao;\n",
    "    private final LiveData<List<Item>> readAllData;"
   ]
  },
  {
   "cell_type": "markdown",
   "id": "79a556ef-a620-4c49-bfde-44b24bec970b",
   "metadata": {},
   "source": [
    "W konstruktorze inicjujemy `itemDao` oraz `readAllData`"
   ]
  },
  {
   "cell_type": "code",
   "execution_count": null,
   "id": "5572b6cb-502f-442f-9ae1-f31af3d6939e",
   "metadata": {},
   "outputs": [],
   "source": [
    "    public ItemRepository(Application application){\n",
    "        ItemDatabase db = ItemDatabase.getDatabase(application);\n",
    "        itemDao = db.itemDao();\n",
    "        readAllData = itemDao.readAllData();\n",
    "    }"
   ]
  },
  {
   "cell_type": "markdown",
   "id": "d8ef617c-5a19-4eaf-bf37-2b9c0a0caaf7",
   "metadata": {},
   "source": [
    "I wystawiamy wszystkie metody interfejsu `ItemDao`"
   ]
  },
  {
   "cell_type": "code",
   "execution_count": null,
   "id": "b175d4d2-7e6a-4ef1-a294-a26ccefafbd8",
   "metadata": {},
   "outputs": [],
   "source": [
    "    public LiveData<List<Item>> ReadAllData() {\n",
    "        return readAllData;\n",
    "    }\n",
    "\n",
    "    public LiveData<Item> getItem(int id){\n",
    "        return itemDao.getItem(id);\n",
    "    }\n",
    "\n",
    "    public void delete(Item item){\n",
    "        itemDao.deleteItem(item);\n",
    "    }\n",
    "\n",
    "    public void update(Item item){\n",
    "        itemDao.updateItem(item);\n",
    "    }\n",
    "\n",
    "    public void insert(Item item) { itemDao.addItem(item); }\n",
    "\n",
    "    public void deleteAll(){ itemDao.deleteAll(); }\n",
    "\n",
    "    public LiveData<List<Item>> searchItem(String query){\n",
    "        return itemDao.searchItem(query);\n",
    "    }"
   ]
  },
  {
   "cell_type": "markdown",
   "id": "b44c7f6e-8322-4d70-aff1-7675e8c42960",
   "metadata": {},
   "source": [
    "Ostatnim elementem danych będzie `ItemViewModel` - dodajmy dwa pola przechowujące `Repository` oraz listę wszystkich elementów "
   ]
  },
  {
   "cell_type": "code",
   "execution_count": null,
   "id": "47567490-8a1f-48f9-b679-f81dc5b60c5e",
   "metadata": {},
   "outputs": [],
   "source": [
    "public class ItemViewModel extends AndroidViewModel {\n",
    "\n",
    "    private final ItemRepository repository;\n",
    "\n",
    "    private final LiveData<List<Item>> readAllData;"
   ]
  },
  {
   "cell_type": "markdown",
   "id": "f65c8390-e278-4ad4-89d7-ea2d69c01e1a",
   "metadata": {},
   "source": [
    "W konstruktorze zainicjujmy te dwa pola"
   ]
  },
  {
   "cell_type": "code",
   "execution_count": null,
   "id": "4463af4b-49c8-44ce-8f5e-f3dd008d7084",
   "metadata": {},
   "outputs": [],
   "source": [
    "    public ItemViewModel(@NonNull Application application) {\n",
    "        super(application);\n",
    "        repository = new ItemRepository(application);\n",
    "        readAllData = repository.ReadAllData();\n",
    "    }"
   ]
  },
  {
   "cell_type": "markdown",
   "id": "67e1ba9e-fc68-4e47-9fac-a7b57e051462",
   "metadata": {},
   "source": [
    "Dodajmy metody odczytujące dane z bazy i zwracające `LiveData`"
   ]
  },
  {
   "cell_type": "code",
   "execution_count": null,
   "id": "434a021e-7c3c-42a4-acb2-9fa14038e1b7",
   "metadata": {},
   "outputs": [],
   "source": [
    "    public LiveData<List<Item>> getAllData() { // getter\n",
    "        return readAllData;\n",
    "    }\n",
    "\n",
    "    public LiveData<Item> getItem(int id){\n",
    "        return repository.getItem(id);\n",
    "    }\n",
    "\n",
    "    public LiveData<List<Item>> search(String query){\n",
    "        return repository.searchItem(query);\n",
    "    }"
   ]
  },
  {
   "cell_type": "markdown",
   "id": "e27643d4-5484-43ce-9453-378b4d7b24b2",
   "metadata": {},
   "source": [
    "oraz metody zapisujące dane do bazy - tutaj wykorzystamy `ExecutorService` zdefiniowany w klasie `ItemDatabase`"
   ]
  },
  {
   "cell_type": "code",
   "execution_count": null,
   "id": "6a5b6c1a-f2e2-4d02-99f7-a9e2b8c713f0",
   "metadata": {},
   "outputs": [],
   "source": [
    "    public void update(Item item){\n",
    "        ItemDatabase.databaseWriteExecutor\n",
    "            .execute(() -> repository.update(item));\n",
    "    }\n",
    "\n",
    "    public void insert(Item item) {\n",
    "        ItemDatabase.databaseWriteExecutor\n",
    "            .execute(() -> repository.insert(item));\n",
    "    }\n",
    "\n",
    "    public void delete(Item item){\n",
    "        ItemDatabase.databaseWriteExecutor\n",
    "            .execute(() -> repository.delete(item));\n",
    "    }\n",
    "\n",
    "    public void deleteAll(){\n",
    "        ItemDatabase.databaseWriteExecutor\n",
    "            .execute(repository::deleteAll);\n",
    "    }"
   ]
  },
  {
   "cell_type": "markdown",
   "id": "d1ea3ca9-45e9-48ff-af6f-4e52b19892a4",
   "metadata": {},
   "source": [
    "### **nawigacja**"
   ]
  },
  {
   "cell_type": "markdown",
   "id": "2f180b27-9b70-4bc4-8bb8-920a78c43337",
   "metadata": {},
   "source": [
    "Do layoutu aktywności dodajemy `FragmentContainerView`"
   ]
  },
  {
   "cell_type": "code",
   "execution_count": null,
   "id": "ddc9c50e-6061-44b9-880c-668dec8c8aae",
   "metadata": {},
   "outputs": [],
   "source": [
    "<androidx.constraintlayout.widget.ConstraintLayout \n",
    "    xmlns:android=\"http://schemas.android.com/apk/res/android\"\n",
    "    xmlns:app=\"http://schemas.android.com/apk/res-auto\"\n",
    "    xmlns:tools=\"http://schemas.android.com/tools\"\n",
    "    android:layout_width=\"match_parent\"\n",
    "    android:layout_height=\"match_parent\"\n",
    "    tools:context=\".MainActivity\">\n",
    "\n",
    "    <androidx.fragment.app.FragmentContainerView\n",
    "        android:id=\"@+id/fragmentContainerView\"\n",
    "        android:name=\"androidx.navigation.fragment.NavHostFragment\"\n",
    "        android:layout_width=\"409dp\"\n",
    "        android:layout_height=\"match_parent\"\n",
    "        app:defaultNavHost=\"true\"\n",
    "        app:layout_constraintBottom_toBottomOf=\"parent\"\n",
    "        app:layout_constraintEnd_toEndOf=\"parent\"\n",
    "        app:layout_constraintHorizontal_bias=\"0.5\"\n",
    "        app:layout_constraintStart_toStartOf=\"parent\"\n",
    "        app:layout_constraintTop_toTopOf=\"parent\"\n",
    "        app:navGraph=\"@navigation/navigation\" />\n",
    "</androidx.constraintlayout.widget.ConstraintLayout>"
   ]
  },
  {
   "cell_type": "markdown",
   "id": "1019451f-f6bf-40e5-afc5-ce6ac7aec683",
   "metadata": {},
   "source": [
    "Layouty `AddFragment` oraz `UpdateFragment` będą zawierać dwa pola `EditText` oraz przycisk dzięki któremu wykonamy zapis/aktualizację"
   ]
  },
  {
   "cell_type": "code",
   "execution_count": null,
   "id": "822a5bf8-f197-4204-b73c-392a24391fb3",
   "metadata": {},
   "outputs": [],
   "source": [
    "<androidx.constraintlayout.widget.ConstraintLayout \n",
    "    xmlns:android=\"http://schemas.android.com/apk/res/android\"\n",
    "    xmlns:app=\"http://schemas.android.com/apk/res-auto\"\n",
    "    xmlns:tools=\"http://schemas.android.com/tools\"\n",
    "    android:layout_width=\"match_parent\"\n",
    "    android:layout_height=\"match_parent\"\n",
    "    tools:context=\".fragments.add.AddFragment\">\n",
    "\n",
    "    <EditText\n",
    "        android:id=\"@+id/nameEditText\"\n",
    "        android:layout_width=\"match_parent\"\n",
    "        android:layout_height=\"wrap_content\"\n",
    "        android:hint=\"@string/nazwa\"\n",
    "        android:textSize=\"24sp\"\n",
    "        android:gravity=\"center_horizontal\"\n",
    "        android:layout_marginStart=\"16dp\"\n",
    "        android:layout_marginTop=\"50dp\"\n",
    "        android:layout_marginEnd=\"16dp\"\n",
    "        app:layout_constraintEnd_toEndOf=\"parent\"\n",
    "        app:layout_constraintStart_toStartOf=\"parent\"\n",
    "        app:layout_constraintTop_toTopOf=\"parent\"\n",
    "        android:inputType=\"text\"\n",
    "        android:importantForAutofill=\"no\" />\n",
    "\n",
    "    <EditText\n",
    "        android:id=\"@+id/quantityEditText\"\n",
    "        android:layout_width=\"match_parent\"\n",
    "        android:layout_height=\"wrap_content\"\n",
    "        android:layout_marginStart=\"16dp\"\n",
    "        android:layout_marginTop=\"16dp\"\n",
    "        android:layout_marginEnd=\"16dp\"\n",
    "        android:gravity=\"center_horizontal\"\n",
    "        android:hint=\"@string/ilosc\"\n",
    "        android:importantForAutofill=\"no\"\n",
    "        android:textSize=\"24sp\"\n",
    "        app:layout_constraintEnd_toEndOf=\"parent\"\n",
    "        app:layout_constraintStart_toStartOf=\"parent\"\n",
    "        app:layout_constraintTop_toBottomOf=\"@+id/nameEditText\"\n",
    "        android:inputType=\"number\" />\n",
    "\n",
    "    <Button\n",
    "        android:id=\"@+id/saveButton\"\n",
    "        android:layout_width=\"match_parent\"\n",
    "        android:layout_height=\"wrap_content\"\n",
    "        android:layout_marginStart=\"24dp\"\n",
    "        android:layout_marginTop=\"16dp\"\n",
    "        android:layout_marginEnd=\"24dp\"\n",
    "        android:text=\"@string/dodaj\"\n",
    "        android:textSize=\"24sp\"\n",
    "        app:layout_constraintEnd_toEndOf=\"parent\"\n",
    "        app:layout_constraintStart_toStartOf=\"parent\"\n",
    "        app:layout_constraintTop_toBottomOf=\"@+id/quantityEditText\" />\n",
    "\n",
    "\n",
    "</androidx.constraintlayout.widget.ConstraintLayout>"
   ]
  },
  {
   "cell_type": "markdown",
   "id": "bf3268be-4ab9-4349-9b9a-6980fdb84086",
   "metadata": {},
   "source": [
    "Layout `ListFragment` będzie zawiera `RecyclerView`, dwa `FloatingActionButton` (przejście do `AddFragment` oraz czyszczenie całej listy), oraz pole `SearchView`, które wykorzystamy do przeszukiwania bazy."
   ]
  },
  {
   "cell_type": "markdown",
   "id": "2a27ec99-0c27-4ab2-b774-f5755d4ea527",
   "metadata": {},
   "source": [
    "Dodajmy nawigację, do `ListFragment` dodajemy dwie akcje\n",
    "- przejście do `AddFragment`\n",
    "- przejście do `UpdateFragment` - tutaj przekazujemy `id`"
   ]
  },
  {
   "cell_type": "code",
   "execution_count": null,
   "id": "edd0777c-6ae9-4e59-8697-612b2bc1a35c",
   "metadata": {},
   "outputs": [],
   "source": [
    "    <fragment\n",
    "        android:id=\"@+id/listFragment\"\n",
    "        android:name=\"pl.udu.uwr.pum.shoppyjava.fragments.list.ListFragment\"\n",
    "        android:label=\"@string/lista\"\n",
    "        tools:layout=\"@layout/fragment_list\" >\n",
    "        <action\n",
    "            android:id=\"@+id/action_listFragment_to_addFragment\"\n",
    "            app:destination=\"@id/addFragment\" />\n",
    "        <action\n",
    "            android:id=\"@+id/action_listFragment_to_updateFragment\"\n",
    "            app:destination=\"@id/updateFragment\" >\n",
    "            <argument\n",
    "                android:name=\"id\"\n",
    "                app:argType=\"integer\" />\n",
    "        </action>\n",
    "    </fragment>"
   ]
  },
  {
   "cell_type": "markdown",
   "id": "2d3f70af-03ee-4e37-bed5-d05eccb0aa47",
   "metadata": {},
   "source": [
    "W pozostałych dwóch fragmentach definiujemy akcję przejścia powrotnego na `ListFragment`"
   ]
  },
  {
   "cell_type": "code",
   "execution_count": null,
   "id": "8d38f8df-0740-47d4-823f-736b62ed55d8",
   "metadata": {},
   "outputs": [],
   "source": [
    "    <fragment\n",
    "        android:id=\"@+id/addFragment\"\n",
    "        android:name=\"pl.udu.uwr.pum.shoppyjava.fragments.add.AddFragment\"\n",
    "        android:label=\"@string/dodaj\"\n",
    "        tools:layout=\"@layout/fragment_add\" >\n",
    "        <action\n",
    "            android:id=\"@+id/action_addFragment_to_listFragment\"\n",
    "            app:destination=\"@id/listFragment\" />\n",
    "    </fragment>\n",
    "    <fragment\n",
    "        android:id=\"@+id/updateFragment\"\n",
    "        android:name=\"pl.udu.uwr.pum.shoppyjava.fragments.update.UpdateFragment\"\n",
    "        android:label=\"@string/edytuj\"\n",
    "        tools:layout=\"@layout/fragment_update\" >\n",
    "        <action\n",
    "            android:id=\"@+id/action_updateFragment_to_listFragment\"\n",
    "            app:destination=\"@id/listFragment\" />\n",
    "    </fragment>"
   ]
  },
  {
   "cell_type": "markdown",
   "id": "51c0a5df-7afe-4a78-ba1c-aab06c24cf42",
   "metadata": {},
   "source": [
    "### **MainActivity**"
   ]
  },
  {
   "cell_type": "markdown",
   "id": "f9df750d-77de-4067-9ce9-3a902056fdde",
   "metadata": {},
   "source": [
    "W głównej aktywności umożliwimy nawigację wsteczną z poziomu `ActionBar`"
   ]
  },
  {
   "cell_type": "code",
   "execution_count": null,
   "id": "7632e624-4a86-42f8-969f-bb3caf54ff29",
   "metadata": {},
   "outputs": [],
   "source": [
    "public class MainActivity extends AppCompatActivity {\n",
    "\n",
    "    private NavController navController;\n",
    "    private AppBarConfiguration appBarConfiguration;\n",
    "\n",
    "    @Override\n",
    "    protected void onCreate(Bundle savedInstanceState) {\n",
    "        super.onCreate(savedInstanceState);\n",
    "        ActivityMainBinding binding = \n",
    "            ActivityMainBinding.inflate(getLayoutInflater());\n",
    "        setContentView(binding.getRoot());\n",
    "\n",
    "        NavHostFragment navHostFragment = \n",
    "            (NavHostFragment) getSupportFragmentManager()\n",
    "                .findFragmentById(R.id.fragmentContainerView);\n",
    "\n",
    "        if (navHostFragment != null) {\n",
    "            navController = \n",
    "                NavHostFragment.findNavController(navHostFragment);\n",
    "        }\n",
    "\n",
    "        appBarConfiguration =  \n",
    "            new AppBarConfiguration.Builder(navController.getGraph())\n",
    "                .build();\n",
    "\n",
    "        NavigationUI.setupActionBarWithNavController(\n",
    "            this, \n",
    "            navController, \n",
    "            appBarConfiguration);\n",
    "    }\n",
    "\n",
    "    @Override\n",
    "    public boolean onSupportNavigateUp() {\n",
    "        return NavigationUI\n",
    "            .navigateUp(navController, appBarConfiguration) \n",
    "            || super.onSupportNavigateUp();\n",
    "    }\n",
    "}"
   ]
  },
  {
   "cell_type": "markdown",
   "id": "629f9e4b-b7ce-4bb8-822f-236b170b21d1",
   "metadata": {},
   "source": [
    "### **AddFragment**"
   ]
  },
  {
   "cell_type": "markdown",
   "id": "49de2466-9955-48cd-892f-b7e44edd54a9",
   "metadata": {},
   "source": [
    "Rozpocznijmy od dodania `ItemViewModel`"
   ]
  },
  {
   "cell_type": "code",
   "execution_count": null,
   "id": "eb731a3f-43f9-4ef3-bda5-ff64ec3a0755",
   "metadata": {},
   "outputs": [],
   "source": [
    "    private ItemViewModel viewModel;"
   ]
  },
  {
   "cell_type": "markdown",
   "id": "c3ba0612-4278-4161-88a5-122fed257f6f",
   "metadata": {},
   "source": [
    "Zainicjujemy go w metodzie `onCreate`"
   ]
  },
  {
   "cell_type": "code",
   "execution_count": null,
   "id": "def2e5f2-39b4-4d36-b0da-17fe39eddf2e",
   "metadata": {},
   "outputs": [],
   "source": [
    "    @Override\n",
    "    public void onCreate(@Nullable Bundle savedInstanceState) {\n",
    "        super.onCreate(savedInstanceState);\n",
    "\n",
    "        viewModel = new ViewModelProvider(this)\n",
    "            .get(ItemViewModel.class);\n",
    "    }"
   ]
  },
  {
   "cell_type": "markdown",
   "id": "fc9287c8-7bf8-4c4c-8dbd-4a8942d55dbf",
   "metadata": {},
   "source": [
    "Zdefiniujmy metode `insertToDatabase` - przyjmuje ona jako argument `View`, który jest wymagany przy wywołaniu metody `findNavController`"
   ]
  },
  {
   "cell_type": "code",
   "execution_count": null,
   "id": "1f4780d5-df54-4f8f-87e6-99ff12159100",
   "metadata": {},
   "outputs": [],
   "source": [
    "private void insertToDatabase(View view) {"
   ]
  },
  {
   "cell_type": "markdown",
   "id": "e25e340f-a12a-4380-a4c2-98ec6f4f3bab",
   "metadata": {},
   "source": [
    "W pierwszym kroku sprawdźmy czy pole `EditText` nie są puste"
   ]
  },
  {
   "cell_type": "code",
   "execution_count": null,
   "id": "af4d62b9-dfa7-402b-89b4-b782ff3d364e",
   "metadata": {},
   "outputs": [],
   "source": [
    "    String name = binding.nameEditText.getText().toString();\n",
    "    String quantity = binding.quantityEditText.getText().toString();\n",
    "\n",
    "    if (TextUtils.isEmpty(name) && TextUtils.isEmpty(quantity)){"
   ]
  },
  {
   "cell_type": "markdown",
   "id": "e017aac3-55a9-46a6-b2d6-3677da64190b",
   "metadata": {},
   "source": [
    "Jeżeli tak jest - wyświetlamy błąd"
   ]
  },
  {
   "cell_type": "code",
   "execution_count": null,
   "id": "803fd255-ed1a-403d-aa01-568bb1ae7880",
   "metadata": {},
   "outputs": [],
   "source": [
    "    if (TextUtils.isEmpty(name) && TextUtils.isEmpty(quantity)){\n",
    "        binding.nameEditText.setError(\"Podaj nazwę\");\n",
    "        binding.quantityEditText.setError(\"Podaj ilość\");"
   ]
  },
  {
   "cell_type": "markdown",
   "id": "938d5799-f453-46f5-a417-9554094ef5cd",
   "metadata": {},
   "source": [
    "W przeciwnym wypadku tworzymy nowy `Item` z dostępnych danych i wykonujemy metodę `insert` z klasy `ItemViewModel`"
   ]
  },
  {
   "cell_type": "code",
   "execution_count": null,
   "id": "148e3e64-f2b2-40c3-b847-06e262134605",
   "metadata": {},
   "outputs": [],
   "source": [
    "    } else {\n",
    "        Item item = new Item(0, name, Integer.parseInt(quantity));\n",
    "        viewModel.insert(item);"
   ]
  },
  {
   "cell_type": "markdown",
   "id": "cc710b07-baed-4db3-9996-84eea1720432",
   "metadata": {},
   "source": [
    "Ostatnim elementem jest powrót do `ListFragemnt` po dodaniu nowego elementu"
   ]
  },
  {
   "cell_type": "code",
   "execution_count": null,
   "id": "5f6353a8-0939-46ac-8c69-1b4610dff34f",
   "metadata": {},
   "outputs": [],
   "source": [
    "    Navigation.findNavController(view)\n",
    "        .navigate(AddFragmentDirections.actionAddFragmentToListFragment());"
   ]
  },
  {
   "cell_type": "markdown",
   "id": "b8b6c7f6-c917-48e3-8b0a-6d5045b13551",
   "metadata": {},
   "source": [
    "W metodzie `onViewCreated` dodajemy obsługę `onClick` przycisku odpowiadającego za aktualizację"
   ]
  },
  {
   "cell_type": "code",
   "execution_count": null,
   "id": "e6108f7d-240a-49da-bd00-6c1439e6e3b9",
   "metadata": {},
   "outputs": [],
   "source": [
    "    binding.saveButton.setOnClickListener(v -> insertToDatabase(view));"
   ]
  },
  {
   "cell_type": "markdown",
   "id": "7a31b260-86d6-4c58-9099-0d85f4125e46",
   "metadata": {},
   "source": [
    "### **UpdateFragment**"
   ]
  },
  {
   "cell_type": "markdown",
   "id": "19d02ce6-1050-40a9-a261-543123b29b96",
   "metadata": {},
   "source": [
    "Rozpocznijmy od dodania pola `ItemViewModel` oraz `int` reprezentujący odebrane `id` z `ListFragment`"
   ]
  },
  {
   "cell_type": "code",
   "execution_count": null,
   "id": "cd38cf3d-e642-4fbf-bdc4-1e67e8ac6f98",
   "metadata": {},
   "outputs": [],
   "source": [
    "private ItemViewModel itemViewModel;\n",
    "\n",
    "private int itemId;"
   ]
  },
  {
   "cell_type": "markdown",
   "id": "e7b82018-38c7-495b-a7dc-6b1d97ac0420",
   "metadata": {},
   "source": [
    "Inicjalizację wykonajmy w metodzie `onCreate`"
   ]
  },
  {
   "cell_type": "code",
   "execution_count": null,
   "id": "759327fe-e9bf-4d40-9bcc-df9771e5fdbf",
   "metadata": {},
   "outputs": [],
   "source": [
    "    @Override\n",
    "    public void onCreate(@Nullable Bundle savedInstanceState) {\n",
    "        super.onCreate(savedInstanceState);\n",
    "        itemViewModel = new ViewModelProvider(requireActivity()).get(ItemViewModel.class);\n",
    "        itemId = requireArguments().getInt(\"id\");\n",
    "    }"
   ]
  },
  {
   "cell_type": "markdown",
   "id": "7b49661a-d4da-44f2-9752-154222030c6e",
   "metadata": {},
   "source": [
    "Zdefiniujmy metodę wypełniającą pola `EditText` danymi pochodziącymi z elementu odpowiadającego `id` przekazanemu w arggumentach."
   ]
  },
  {
   "cell_type": "code",
   "execution_count": null,
   "id": "bd911528-3ccf-404f-9e5a-8bb3c406fe0d",
   "metadata": {},
   "outputs": [],
   "source": [
    "private void displayItem(Item item) {\n",
    "    binding.nameEditText.setText(item.getName());\n",
    "    binding.quantityEditText\n",
    "        .setText(String.valueOf(item.getQuantity()));\n",
    "}"
   ]
  },
  {
   "cell_type": "markdown",
   "id": "a8971ea5-f89e-4c00-a916-9e92779cad8c",
   "metadata": {},
   "source": [
    "Dodajmy również metodę `updateItem`, która jest niemal identyczna jak poprzednio zdefiniowana `insertToDatabase`"
   ]
  },
  {
   "cell_type": "code",
   "execution_count": null,
   "id": "7950c94f-b994-4d2d-a853-7d93524b0ca4",
   "metadata": {},
   "outputs": [],
   "source": [
    "    private void updateItem(View view) {\n",
    "        String name = binding.nameEditText.getText().toString();\n",
    "        String quantity = binding.quantityEditText.getText().toString();\n",
    "\n",
    "        if (TextUtils.isEmpty(name) && TextUtils.isEmpty(quantity)){\n",
    "            binding.nameEditText.setError(\"Podaj nazwę\");\n",
    "            binding.quantityEditText.setError(\"Podaj ilość\");\n",
    "        } else {\n",
    "            Item item = new Item(itemId, name, Integer.parseInt(quantity));\n",
    "            itemViewModel.update(item);\n",
    "            Navigation.findNavController(view)\n",
    "                .navigate(UpdateFragmentDirections\n",
    "                          .actionUpdateFragmentToListFragment());\n",
    "        }\n",
    "    }"
   ]
  },
  {
   "cell_type": "markdown",
   "id": "06631f02-206f-42ac-8736-12535b9dd826",
   "metadata": {},
   "source": [
    "W metodzie `onViewCreated` wyciągamy element z bazy za pomocą metody `getItem` i dodajemy obserwator - `displayItem`"
   ]
  },
  {
   "cell_type": "code",
   "execution_count": null,
   "id": "9afbd3a4-e824-4f17-af02-2bcaf05f23ce",
   "metadata": {},
   "outputs": [],
   "source": [
    "itemViewModel.getItem(itemId)\n",
    "    .observe(getViewLifecycleOwner(), this::displayItem);"
   ]
  },
  {
   "cell_type": "markdown",
   "id": "448605cd-575d-48f7-9e70-1e46a385ae1e",
   "metadata": {},
   "source": [
    "oraz zaimplementujmy metodę `onClick` przycisku aktualizującego element"
   ]
  },
  {
   "cell_type": "code",
   "execution_count": null,
   "id": "672d12f6-c2fc-405e-ab2f-7b8a179b9798",
   "metadata": {},
   "outputs": [],
   "source": [
    "binding.updateButton.setOnClickListener(v -> updateItem(view));"
   ]
  },
  {
   "cell_type": "markdown",
   "id": "aa426aa0-e9e3-4436-a218-93689cfad3ed",
   "metadata": {},
   "source": [
    "### **ListFragment**"
   ]
  },
  {
   "cell_type": "markdown",
   "id": "3b64a960-c1f6-4527-95ec-3f368a7c2381",
   "metadata": {},
   "source": [
    "Rozpocznijmy implementację od zdefiniowania layoutu pojedynczego elementu"
   ]
  },
  {
   "cell_type": "code",
   "execution_count": null,
   "id": "b45d5c88-e8b3-4bf0-aef8-fdfec037e3fa",
   "metadata": {},
   "outputs": [],
   "source": [
    "<androidx.constraintlayout.widget.ConstraintLayout \n",
    "    xmlns:android=\"http://schemas.android.com/apk/res/android\"\n",
    "    xmlns:app=\"http://schemas.android.com/apk/res-auto\"\n",
    "    xmlns:tools=\"http://schemas.android.com/tools\"\n",
    "    android:layout_width=\"match_parent\"\n",
    "    android:layout_height=\"wrap_content\"\n",
    "    android:padding=\"24dp\">\n",
    "\n",
    "    <TextView\n",
    "        android:id=\"@+id/nameTextViewRV\"\n",
    "        android:layout_width=\"0dp\"\n",
    "        android:layout_height=\"wrap_content\"\n",
    "        android:text=\"nazwa przedmiotu\"\n",
    "        android:textSize=\"24sp\"\n",
    "        android:textStyle=\"bold\"\n",
    "        app:layout_constraintEnd_toStartOf=\"@+id/guideline\"\n",
    "        app:layout_constraintStart_toStartOf=\"parent\"\n",
    "        app:layout_constraintTop_toTopOf=\"parent\" />\n",
    "\n",
    "    <TextView\n",
    "        android:id=\"@+id/quantityTextViewRV\"\n",
    "        android:layout_width=\"wrap_content\"\n",
    "        android:layout_height=\"wrap_content\"\n",
    "        android:gravity=\"end\"\n",
    "        android:text=\"999\"\n",
    "        android:textSize=\"24sp\"\n",
    "        app:layout_constraintEnd_toEndOf=\"parent\"\n",
    "        app:layout_constraintStart_toStartOf=\"@+id/guideline\"\n",
    "        app:layout_constraintTop_toTopOf=\"parent\" />\n",
    "\n",
    "    <androidx.constraintlayout.widget.Guideline\n",
    "        android:id=\"@+id/guideline\"\n",
    "        android:layout_width=\"wrap_content\"\n",
    "        android:layout_height=\"wrap_content\"\n",
    "        android:orientation=\"vertical\"\n",
    "        app:layout_constraintGuide_percent=\"0.75\" />\n",
    "\n",
    "\n",
    "</androidx.constraintlayout.widget.ConstraintLayout>"
   ]
  },
  {
   "cell_type": "markdown",
   "id": "cc6ff9e2-c1ea-40eb-a814-eb18e420c8fd",
   "metadata": {},
   "source": [
    "Dodajmy `ItemViewHolder`"
   ]
  },
  {
   "cell_type": "code",
   "execution_count": null,
   "id": "69bf9a38-0c7c-410d-b33a-5eb31e571649",
   "metadata": {},
   "outputs": [],
   "source": [
    "public class ItemViewHolder extends RecyclerView.ViewHolder {\n",
    "\n",
    "    private final ItemRecyclerviewBinding binding;\n",
    "\n",
    "    public ItemViewHolder(@NonNull ItemRecyclerviewBinding binding) {\n",
    "        super(binding.getRoot());\n",
    "        this.binding = binding;\n",
    "    }\n",
    "\n",
    "    public void bind(Item item){\n",
    "        binding.nameTextViewRV.setText(item.getName());\n",
    "        binding.quantityTextViewRV.setText(String.valueOf(item.getQuantity()));\n",
    "\n",
    "        binding.getRoot().setOnClickListener(v -> {\n",
    "            NavDirections action = ListFragmentDirections\n",
    "                    .actionListFragmentToUpdateFragment(item.getId());\n",
    "            Navigation.findNavController(binding.getRoot()).navigate(action);\n",
    "        });\n",
    "    }\n",
    "}"
   ]
  },
  {
   "cell_type": "markdown",
   "id": "b6086f70-bd4b-42ea-89d9-96f540c3ea99",
   "metadata": {},
   "source": [
    "Dodajemy implementację `onClick` elementu listy - przechodzimy do `UpdateFragment` przekazując `id` klikniętego elementu."
   ]
  },
  {
   "cell_type": "markdown",
   "id": "f49d170f-b59d-4ad9-813f-e84470eb50c8",
   "metadata": {},
   "source": [
    "Dodajmy `ItemComparator` - dzięki niemu możemy zdefiniować metody porównujące elementy - jest wykorzystywany podczas wywołania `submitList` w klasie `Listfragment` (niejawnie)"
   ]
  },
  {
   "cell_type": "code",
   "execution_count": null,
   "id": "53cf40ed-24b6-4dde-a003-3478c414e52b",
   "metadata": {},
   "outputs": [],
   "source": [
    "public class ItemComparator extends DiffUtil.ItemCallback<Item> {\n",
    "    @Override\n",
    "    public boolean areItemsTheSame(@NonNull Item oldItem, @NonNull Item newItem) {\n",
    "        return oldItem == newItem;\n",
    "    }\n",
    "\n",
    "    @Override\n",
    "    public boolean areContentsTheSame(@NonNull Item oldItem, @NonNull Item newItem) {\n",
    "        return oldItem.getName().equals(newItem.getName()) &&\n",
    "                oldItem.getQuantity() == newItem.getQuantity();\n",
    "    }\n",
    "}"
   ]
  },
  {
   "cell_type": "markdown",
   "id": "0f999130-0136-432e-a44e-44a4c7d9239e",
   "metadata": {},
   "source": [
    "Klasa `ItemAdapter` będzie rozszerzać `ListAdapter` - co ułatwi indeksowanie i zmianę danych"
   ]
  },
  {
   "cell_type": "code",
   "execution_count": null,
   "id": "2a2ec48e-8027-4924-8722-af1066d267a9",
   "metadata": {},
   "outputs": [],
   "source": [
    "public class ItemAdapter extends ListAdapter<Item, ItemViewHolder> {\n",
    "\n",
    "    public ItemAdapter(ItemComparator comparator){\n",
    "        super(comparator);\n",
    "    }\n",
    "\n",
    "    @NonNull\n",
    "    @Override\n",
    "    public ItemViewHolder onCreateViewHolder(@NonNull ViewGroup parent, int viewType) {\n",
    "        return new ItemViewHolder(ItemRecyclerviewBinding.inflate(\n",
    "                LayoutInflater.from(parent.getContext()), parent, false)\n",
    "        );\n",
    "    }\n",
    "\n",
    "    @Override\n",
    "    public void onBindViewHolder(@NonNull ItemViewHolder holder, int position) {\n",
    "        Item item = getItem(position);\n",
    "        holder.bind(item);\n",
    "    }\n",
    "\n",
    "    public Item getItemAt(int position){\n",
    "        return getItem(position);\n",
    "    }\n",
    "}"
   ]
  },
  {
   "cell_type": "markdown",
   "id": "7a10c029-cbd8-4e23-9326-2b602360db66",
   "metadata": {},
   "source": [
    "Oprócz metod które musimy nadpisać, dodajemy metodę publiczną `getItemAt` zwracającą element na zadanej pozycji - wykorzystamy ją przy implementacji przeszukiwania w `ListFragment`.\n",
    "\n",
    "W metodzie `onViewCreated` klasy `Listfragment` dodajmy `RecyclerView`"
   ]
  },
  {
   "cell_type": "code",
   "execution_count": null,
   "id": "202d57bc-4058-43c1-93ac-673175a9db0b",
   "metadata": {},
   "outputs": [],
   "source": [
    "ItemAdapter adapter = new ItemAdapter(new ItemComparator());\n",
    "binding.listRecyclerView.setLayoutManager(new LinearLayoutManager(getContext()));\n",
    "binding.listRecyclerView.setAdapter(adapter);"
   ]
  },
  {
   "cell_type": "markdown",
   "id": "e5a9f1dd-7397-4aca-a0af-d0be6c9359d1",
   "metadata": {},
   "source": [
    "Następnie dodajmy obserwator"
   ]
  },
  {
   "cell_type": "code",
   "execution_count": null,
   "id": "2c0ce592-8686-4dd1-a533-e29526b714c4",
   "metadata": {},
   "outputs": [],
   "source": [
    "itemViewModel.getAllData().observe(getViewLifecycleOwner(), adapter::submitList);"
   ]
  },
  {
   "cell_type": "markdown",
   "id": "266832f7-d69f-49df-8279-a8ab4d4e7c37",
   "metadata": {},
   "source": [
    "Dodajmy obsługę `onClick` dwóch `FAB` służących dodaniu i usunięciu wszystkich elementów"
   ]
  },
  {
   "cell_type": "code",
   "execution_count": null,
   "id": "a6dc05b4-93fc-4dc6-8780-24d44bbde6df",
   "metadata": {},
   "outputs": [],
   "source": [
    "binding.addItemFAB.setOnClickListener(v ->\n",
    "        Navigation.findNavController(view)\n",
    "                .navigate(ListFragmentDirections.actionListFragmentToAddFragment()));\n",
    "\n",
    "binding.clearDataFAB.setOnClickListener(v -> itemViewModel.deleteAll());"
   ]
  },
  {
   "cell_type": "markdown",
   "id": "5818c81a-35ef-44e3-a9cd-d0383407e601",
   "metadata": {},
   "source": [
    "#### **swipeToDelete**"
   ]
  },
  {
   "cell_type": "markdown",
   "id": "453924cf-ae1b-4717-b52e-f01bfb2b7028",
   "metadata": {},
   "source": [
    "zaimplementujmy funkcję `swipeToDelete` - będziemy usuwać elementu z bazy poprzez wykonanie zdarzenia `swipe` w lewo lub prawo. Jako argument metoda przyjmuje `ItemAdapter`. W pierwszym kroku tworzymy `ItemTouchHelper` - argumentem jest `SimpleCallback`. Jako `dragDirs` podajemy 0 (nie będziemy wykorzystywać tej funkcjonalności), a jako `swipeDirs` podajemy odpowiednie `int` zdefiniowane w klasie `ItemTouchHelper`"
   ]
  },
  {
   "cell_type": "code",
   "execution_count": null,
   "id": "c36653e8-c974-4c97-811e-414111e6de66",
   "metadata": {},
   "outputs": [],
   "source": [
    "    private void swipeToDelete(ItemAdapter adapter) {\n",
    "        new ItemTouchHelper(new ItemTouchHelper.SimpleCallback(0,\n",
    "                ItemTouchHelper.RIGHT | ItemTouchHelper.LEFT) {"
   ]
  },
  {
   "cell_type": "markdown",
   "id": "4a768954-f4b7-4966-96e3-f58158f66a85",
   "metadata": {},
   "source": [
    "Implementacja metody `onMove` nas nie interesuje, więc zwracamy `false`"
   ]
  },
  {
   "cell_type": "code",
   "execution_count": null,
   "id": "ad9c611f-9350-4e3c-97c0-489286c67a66",
   "metadata": {},
   "outputs": [],
   "source": [
    "    @Override\n",
    "    public boolean onMove(\n",
    "        @NonNull RecyclerView recyclerView, \n",
    "        @NonNull RecyclerView.ViewHolder viewHolder, \n",
    "        @NonNull RecyclerView.ViewHolder target) {\n",
    "        return false;\n",
    "    }"
   ]
  },
  {
   "cell_type": "markdown",
   "id": "e5b51462-feac-4ffe-8e51-9c5a1f4dd317",
   "metadata": {},
   "source": [
    "W metodzie `onSwiped` wywołujemy `delete` klasy `ItemViewModel` - tutaj jako argument musimy podać element który chcemy usunąć, a mamy dostępną tylko pozycję elementu (przez metodę `getAdapterPosition`). W celu wyciągnięcia elementu wykorzystamy wcześniej zdefiniowaną metodę `getItemAt` w klasie `ItemAdapter`"
   ]
  },
  {
   "cell_type": "code",
   "execution_count": null,
   "id": "7a631409-e3c9-4bb7-bdca-fee786e946d8",
   "metadata": {},
   "outputs": [],
   "source": [
    "    @Override\n",
    "    public void onSwiped(\n",
    "        @NonNull RecyclerView.ViewHolder viewHolder, \n",
    "        int direction) {\n",
    "        itemViewModel.delete(adapter.getItemAt(viewHolder.getAdapterPosition()));\n",
    "    }\n",
    "}).attachToRecyclerView(binding.listRecyclerView);"
   ]
  },
  {
   "cell_type": "markdown",
   "id": "cc3bf206-409b-4f4e-9afc-45bf654a0730",
   "metadata": {},
   "source": [
    "Metodę `swipeToDelete` wywołujemy w `onViewCreated`"
   ]
  },
  {
   "cell_type": "code",
   "execution_count": null,
   "id": "20430347-36ad-45df-8eb3-d4f49079fd13",
   "metadata": {},
   "outputs": [],
   "source": [
    "swipeToDelete(adapter);"
   ]
  },
  {
   "cell_type": "markdown",
   "id": "ce405282-ad00-45fb-a003-135e33ceb82f",
   "metadata": {},
   "source": [
    "#### **searchView**"
   ]
  },
  {
   "cell_type": "markdown",
   "id": "d9211e16-97af-47dc-8774-0bc5dcb3d9da",
   "metadata": {},
   "source": [
    "Ostatnim elementem tej aplikacji jest implementacja `SearchView`, pozwalająca na przeszukanie bazy. W tym celu stwórzmy nową metodę `setupSearchView` - również tutaj jako parametr przekażemy `ItemAdapter`"
   ]
  },
  {
   "cell_type": "code",
   "execution_count": null,
   "id": "f4455168-e8b3-4ab3-9439-550ca17c0e77",
   "metadata": {},
   "outputs": [],
   "source": [
    "private void setupSearchView(ItemAdapter adapter) {"
   ]
  },
  {
   "cell_type": "markdown",
   "id": "a0f486fe-d9c4-46a3-9fde-f79794c7b775",
   "metadata": {},
   "source": [
    "Tutaj dodamy `setOnQueryTextListener` do naszego `SearchView`, który wymaga implementacji dwóch metod\n",
    "- `onQueryTextSubmit` - wykonana po zakończeniu edycji i zatwierdzeniu\n",
    "- `onQueryTextChange` - wykonana przy każdej zmianie tekstu w polu `SearchView`\n",
    "\n",
    "W obu tych metodach wykonamy tą samą metodę - `search`."
   ]
  },
  {
   "cell_type": "code",
   "execution_count": null,
   "id": "8f674f27-229c-4ab0-88f7-b020ee6b003f",
   "metadata": {},
   "outputs": [],
   "source": [
    "    binding.searchSearchView.setOnQueryTextListener(\n",
    "        new SearchView.OnQueryTextListener() {\n",
    "        @Override\n",
    "        public boolean onQueryTextSubmit(String query) {\n",
    "            if (query != null) search(query, adapter);\n",
    "            return true;\n",
    "        }\n",
    "\n",
    "        @Override\n",
    "        public boolean onQueryTextChange(String newText) {\n",
    "            if (newText != null) search(newText, adapter);\n",
    "            return true;\n",
    "        }\n",
    "    });"
   ]
  },
  {
   "cell_type": "markdown",
   "id": "ba5c7026-0323-4749-9fae-95eddee5953f",
   "metadata": {},
   "source": [
    "Zdefiniujmy metodę `search` - argumentem jest tekst do wyszukania oraz `ItemAdapter`, w pierwszym kroku zdefiniujmy `String` reprezentujący frazę do wyszukania"
   ]
  },
  {
   "cell_type": "code",
   "execution_count": null,
   "id": "50c4ab60-a579-42d6-a8bf-bf1543afe5c8",
   "metadata": {},
   "outputs": [],
   "source": [
    "private void search(String query, ItemAdapter adapter){\n",
    "    String searchQuery = \"%\" + query + \"%\";"
   ]
  },
  {
   "cell_type": "markdown",
   "id": "6bb4f084-a0f5-447a-af74-f5b6f658d401",
   "metadata": {},
   "source": [
    "Nastęnie na `ItemViewModel` wykonajmy metodę `search` zwracającą listę wszystkich elementów pasujących do frazy wyszukania, oraz dodajmy obserwator i wykonajmy `submitList` - zaowocuje to natychmiastowym wyświetleniem wyniku w `RecyclerView`."
   ]
  },
  {
   "cell_type": "code",
   "execution_count": null,
   "id": "08b84a00-8dc3-41d2-bcb2-07138e92e488",
   "metadata": {},
   "outputs": [],
   "source": [
    "    itemViewModel.search(searchQuery)\n",
    "        .observe(getViewLifecycleOwner(), adapter::submitList);"
   ]
  },
  {
   "cell_type": "markdown",
   "id": "59d6aaae-3257-4f9a-b1d8-6944ee4a58fe",
   "metadata": {},
   "source": [
    "Możemy przetestować aplikację"
   ]
  },
  {
   "cell_type": "code",
   "execution_count": null,
   "id": "96e4dbd6-f7c9-4567-943a-d335e988fe3f",
   "metadata": {},
   "outputs": [],
   "source": []
  }
 ],
 "metadata": {
  "kernelspec": {
   "display_name": "Java",
   "language": "java",
   "name": "java"
  },
  "language_info": {
   "codemirror_mode": "java",
   "file_extension": ".jshell",
   "mimetype": "text/x-java-source",
   "name": "Java",
   "pygments_lexer": "java",
   "version": "17+35-2724"
  }
 },
 "nbformat": 4,
 "nbformat_minor": 5
}
