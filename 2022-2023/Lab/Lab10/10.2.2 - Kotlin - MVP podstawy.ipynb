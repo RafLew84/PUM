{
 "cells": [
  {
   "cell_type": "markdown",
   "id": "510fa028-2dde-47e0-89a4-0db39881c673",
   "metadata": {},
   "source": [
    "## 10.2 Model View Presenter - podstawy"
   ]
  },
  {
   "cell_type": "markdown",
   "id": "8259798a-3ab1-4ecf-95cc-c2318adb1b5d",
   "metadata": {},
   "source": [
    "W tym przykłądzie przyjrzymy się podstawom wzorca `MVP` - jak poprzednio posłużymy się tylko przyciskiem i polem `TextView`. `Model` pozostaje ten sam."
   ]
  },
  {
   "cell_type": "code",
   "execution_count": null,
   "id": "883d3645-0e97-43a0-8804-1c12f68e2447",
   "metadata": {},
   "outputs": [],
   "source": [
    "data class Model (\n",
    "    private val text: String,\n",
    "    private val score: Int,\n",
    "    private val ratio: Int)\n",
    "{\n",
    "    fun getData(): String{\n",
    "        return \"$text $score $ratio\"\n",
    "    }\n",
    "}"
   ]
  },
  {
   "cell_type": "markdown",
   "id": "3b86cd49-0f7c-47f0-b73d-1929587e3625",
   "metadata": {},
   "source": [
    "Tym razem posłużymy się interfejsem zawierającym pojedynczą metodę `onDisplay` jako pośrednikiem."
   ]
  },
  {
   "cell_type": "code",
   "execution_count": null,
   "id": "c7eedde9-e5c7-4121-8a4b-8c18a3b60567",
   "metadata": {},
   "outputs": [],
   "source": [
    "interface MyView {\n",
    "    fun onDisplay(text: String)\n",
    "}"
   ]
  },
  {
   "cell_type": "markdown",
   "id": "4ca03ba3-2130-4803-ad7c-aa2ff2cd5a7d",
   "metadata": {},
   "source": [
    "Dodajmy klasę reprezentującą naszego prezentera"
   ]
  },
  {
   "cell_type": "code",
   "execution_count": null,
   "id": "b90160ed-33a8-4a0e-beca-5b3e39d8d164",
   "metadata": {},
   "outputs": [],
   "source": [
    "class Presenter(private val myView: MyView) {"
   ]
  },
  {
   "cell_type": "markdown",
   "id": "6033904e-c79a-429f-9995-7ba27d8cb1ee",
   "metadata": {},
   "source": [
    "Klasa posiada referencję do obiektu implementującego interfejs `MyView`"
   ]
  },
  {
   "cell_type": "markdown",
   "id": "e362a6a6-1eed-48e8-824e-345df6b33153",
   "metadata": {},
   "source": [
    "Dodajmy metodę wystawiającą nam dane"
   ]
  },
  {
   "cell_type": "code",
   "execution_count": null,
   "id": "66f05554-f53f-4ab9-ac81-937394466c3b",
   "metadata": {},
   "outputs": [],
   "source": [
    "    fun getModel(): Model {\n",
    "        return Model(\"text\", 1, 2)\n",
    "    }"
   ]
  },
  {
   "cell_type": "markdown",
   "id": "d697273b-c8e5-4b34-9787-698238dbbf54",
   "metadata": {},
   "source": [
    "oraz metodę wywołującą `onDisplay` z interfejsu `myView`"
   ]
  },
  {
   "cell_type": "code",
   "execution_count": null,
   "id": "80fb12d9-e1bb-46a9-bb49-7604182483e8",
   "metadata": {},
   "outputs": [],
   "source": [
    "    fun getDetails() {\n",
    "        myView.onDisplay(getModel().getData())\n",
    "    }"
   ]
  },
  {
   "cell_type": "markdown",
   "id": "418c73e4-c81b-485c-95d6-52e770b609b6",
   "metadata": {},
   "source": [
    "Do aktywności głównej dodajemy referencję do prezentera"
   ]
  },
  {
   "cell_type": "code",
   "execution_count": null,
   "id": "8d7e7bb0-2f32-47b7-8e77-56e85b688eca",
   "metadata": {},
   "outputs": [],
   "source": [
    "    private val textView: TextView by lazy { findViewById(R.id.textView) }\n",
    "    private val button: Button by lazy { findViewById(R.id.button) }\n",
    "\n",
    "    private val presenter: Presenter by lazy { Presenter(this) }"
   ]
  },
  {
   "cell_type": "markdown",
   "id": "b440643f-624f-473c-8851-570735fc5f08",
   "metadata": {},
   "source": [
    "Nasz aktywność implementuje interfejs `MyView`"
   ]
  },
  {
   "cell_type": "code",
   "execution_count": null,
   "id": "5d47795b-75be-497d-accf-cf06356c855e",
   "metadata": {},
   "outputs": [],
   "source": [
    "class MainActivity : AppCompatActivity(), MyView {"
   ]
  },
  {
   "cell_type": "markdown",
   "id": "ee31e3d6-d736-4428-be7f-6b2b45f9d2b5",
   "metadata": {},
   "source": [
    "więc musimy zaimplementować metodę `onDisplay`"
   ]
  },
  {
   "cell_type": "code",
   "execution_count": null,
   "id": "c48b8759-0b17-47de-840d-962134fac501",
   "metadata": {},
   "outputs": [],
   "source": [
    "    override fun onDisplay(text: String) {\n",
    "        textView.text = text\n",
    "    }"
   ]
  },
  {
   "cell_type": "markdown",
   "id": "63e18e9f-06e5-4e7e-ba09-7155e983dbfc",
   "metadata": {},
   "source": [
    "Teraz interfejs `MyView` tworzy kontrakt definiujący oczekiwane zachowania. Dodajmy implementację `onClick`"
   ]
  },
  {
   "cell_type": "code",
   "execution_count": null,
   "id": "5848ff1b-675d-4696-93d1-d56faf18fb2e",
   "metadata": {},
   "outputs": [],
   "source": [
    "        button.setOnClickListener { presenter.getDetails() }"
   ]
  },
  {
   "cell_type": "markdown",
   "id": "36579b98-9e1c-46ac-b467-9974b0dafae4",
   "metadata": {},
   "source": [
    "Interfejs `MyView` definiuje jedną metodę `onDisplay`.\n",
    "Klasa `Presenter` posiada referencję do obiektu o typie interfejsu `MyView` oraz publiczną metodę `getDetails` wywołującą metodę `onDisplay` - aktywność implementuje ten interfejs oraz dostarcza implementację metody `onDisplay`. W implemetacji metody `onClick` zostaje wywołana metoda `getDetails` klasy `Presenter`.\n",
    "\n",
    "Interfejs `MyView` tworzy połączenie między `Model` a `Presenter`. Połączenie między `Presenter` a `View` (`MainActivity`) zostaje utworzone przez implementację interfejsu `MyView` przez `MainActvitiy`"
   ]
  }
 ],
 "metadata": {
  "kernelspec": {
   "display_name": "Kotlin",
   "language": "kotlin",
   "name": "kotlin"
  },
  "language_info": {
   "codemirror_mode": "text/x-kotlin",
   "file_extension": ".kt",
   "mimetype": "text/x-kotlin",
   "name": "kotlin",
   "nbconvert_exporter": "",
   "pygments_lexer": "kotlin",
   "version": "1.6.20-dev-6372"
  }
 },
 "nbformat": 4,
 "nbformat_minor": 5
}
