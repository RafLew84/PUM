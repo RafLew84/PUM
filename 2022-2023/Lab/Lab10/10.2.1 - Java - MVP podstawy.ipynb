{
 "cells": [
  {
   "cell_type": "markdown",
   "id": "c5fa74ab-756c-414f-9f2c-75a64db64c2e",
   "metadata": {},
   "source": [
    "## 10.2 Model View Presenter - podstawy"
   ]
  },
  {
   "cell_type": "markdown",
   "id": "f5574f45-0046-444a-b6f6-bffc07d5c7f8",
   "metadata": {},
   "source": [
    "W tym przykłądzie przyjrzymy się podstawom wzorca `MVP` - jak poprzednio posłużymy się tylko przyciskiem i polem `TextView`. `Model` pozostaje ten sam."
   ]
  },
  {
   "cell_type": "code",
   "execution_count": null,
   "id": "a5ca4b49-0f4a-4ab0-aa71-4c2098c8c88d",
   "metadata": {},
   "outputs": [],
   "source": [
    "public class Model {\n",
    "    private final String text;\n",
    "    private final int score;\n",
    "    private final int ratio;\n",
    "\n",
    "    public Model(String text, int score, int ratio) {\n",
    "        this.text = text;\n",
    "        this.score = score;\n",
    "        this.ratio = ratio;\n",
    "    }\n",
    "\n",
    "    public String getData(){\n",
    "        return text + \" \" + score + \" \" + ratio;\n",
    "    }\n",
    "}"
   ]
  },
  {
   "cell_type": "markdown",
   "id": "ab495d5f-5a3e-414f-a81c-c2dfa802c7ab",
   "metadata": {},
   "source": [
    "Tym razem posłużymy się interfejsem zawierającym pojedynczą metodę `onDisplay` jako pośrednikiem."
   ]
  },
  {
   "cell_type": "code",
   "execution_count": null,
   "id": "4b947fa8-929b-433c-a624-0e45323d478d",
   "metadata": {},
   "outputs": [],
   "source": [
    "public interface MyView {\n",
    "    void onDisplay(String text);\n",
    "}"
   ]
  },
  {
   "cell_type": "markdown",
   "id": "837614b2-0094-4689-9100-0951865dda3b",
   "metadata": {},
   "source": [
    "Dodajmy klasę reprezentującą naszego prezentera"
   ]
  },
  {
   "cell_type": "code",
   "execution_count": null,
   "id": "2f25c536-9363-46e9-913a-f76c136f10dd",
   "metadata": {},
   "outputs": [],
   "source": [
    "public class Presenter {"
   ]
  },
  {
   "cell_type": "markdown",
   "id": "26d86586-123a-4077-a779-7ca10d406529",
   "metadata": {},
   "source": [
    "Klasa posiada referencję do obiektu implementującego interfejs `MyView`"
   ]
  },
  {
   "cell_type": "code",
   "execution_count": null,
   "id": "1fd4fbd8-2d3e-4865-9507-a219dbf93088",
   "metadata": {},
   "outputs": [],
   "source": [
    "    private final MyView myView;"
   ]
  },
  {
   "cell_type": "markdown",
   "id": "dbaec74b-7a3c-4e4c-b706-7a3dc0d1ce03",
   "metadata": {},
   "source": [
    "Dodajmy metodę wystawiającą nam dane"
   ]
  },
  {
   "cell_type": "code",
   "execution_count": null,
   "id": "9691f538-6e67-46b1-905e-df7defceaf47",
   "metadata": {},
   "outputs": [],
   "source": [
    "    public Model getModel(){\n",
    "        return new Model(\"text\", 1, 2);\n",
    "    }"
   ]
  },
  {
   "cell_type": "markdown",
   "id": "994cfb43-b2a7-4f7d-b057-3bc0a655a96c",
   "metadata": {},
   "source": [
    "oraz metodę wywołującą `onDisplay` z interfejsu `myView`"
   ]
  },
  {
   "cell_type": "code",
   "execution_count": null,
   "id": "bcb04a17-f76a-4b71-9179-d96e67992368",
   "metadata": {},
   "outputs": [],
   "source": [
    "    public void getDetails(){\n",
    "        myView.onDisplay(getModel().getData());\n",
    "    }"
   ]
  },
  {
   "cell_type": "markdown",
   "id": "dbc70243-8595-4012-9623-0d5064deb27d",
   "metadata": {},
   "source": [
    "Do aktywności głównej dodajemy referencję do prezentera"
   ]
  },
  {
   "cell_type": "code",
   "execution_count": null,
   "id": "8673fee9-c024-4aba-8a7e-3754efbe584b",
   "metadata": {},
   "outputs": [],
   "source": [
    "    private TextView textView;\n",
    "    private Button button;\n",
    "\n",
    "    private Presenter presenter;\n",
    "\n",
    "    @Override\n",
    "    protected void onCreate(Bundle savedInstanceState) {\n",
    "        super.onCreate(savedInstanceState);\n",
    "        setContentView(R.layout.activity_main);\n",
    "\n",
    "        textView = findViewById(R.id.textView);\n",
    "        button = findViewById(R.id.button);\n",
    "\n",
    "        presenter = new Presenter(this);\n",
    "    }"
   ]
  },
  {
   "cell_type": "markdown",
   "id": "d7914986-0565-4ef7-b52a-68cce37b0ae3",
   "metadata": {},
   "source": [
    "Nasz aktywność implementuje interfejs `MyView`"
   ]
  },
  {
   "cell_type": "code",
   "execution_count": null,
   "id": "500847cc-0881-4289-908e-28318bb5a55c",
   "metadata": {},
   "outputs": [],
   "source": [
    "public class MainActivity extends AppCompatActivity implements MyView {"
   ]
  },
  {
   "cell_type": "markdown",
   "id": "e14e5156-b531-46a6-a16c-eebbd58e167d",
   "metadata": {},
   "source": [
    "więc musimy zaimplementować metodę `onDisplay`"
   ]
  },
  {
   "cell_type": "code",
   "execution_count": null,
   "id": "ae486499-fbcb-4240-93a7-9ef843494e43",
   "metadata": {},
   "outputs": [],
   "source": [
    "    @Override\n",
    "    public void onDisplay(String text) {\n",
    "        textView.setText(text);\n",
    "    }"
   ]
  },
  {
   "cell_type": "markdown",
   "id": "1f424351-283d-48c5-9748-34ae28b5c059",
   "metadata": {},
   "source": [
    "Teraz interfejs `MyView` tworzy kontrakt definiujący oczekiwane zachowania. Dodajmy implementację `onClick`"
   ]
  },
  {
   "cell_type": "code",
   "execution_count": null,
   "id": "4ccbd15c-9331-4580-9944-7538d127a302",
   "metadata": {},
   "outputs": [],
   "source": [
    "        button.setOnClickListener(v -> presenter.getDetails());"
   ]
  },
  {
   "cell_type": "markdown",
   "id": "46bd57d1-69d8-4b68-9630-c4eccc13feb8",
   "metadata": {},
   "source": [
    "Interfejs `MyView` definiuje jedną metodę `onDisplay`.\n",
    "Klasa `Presenter` posiada referencję do obiektu o typie interfejsu `MyView` oraz publiczną metodę `getDetails` wywołującą metodę `onDisplay` - aktywność implementuje ten interfejs oraz dostarcza implementację metody `onDisplay`. W implemetacji metody `onClick` zostaje wywołana metoda `getDetails` klasy `Presenter`.\n",
    "\n",
    "Interfejs `MyView` tworzy połączenie między `Model` a `Presenter`. Połączenie między `Presenter` a `View` (`MainActivity`) zostaje utworzone przez implementację interfejsu `MyView` przez `MainActvitiy`"
   ]
  },
  {
   "cell_type": "code",
   "execution_count": null,
   "id": "f431ebd8-f6fe-436c-adf6-ebe5d7c1614d",
   "metadata": {},
   "outputs": [],
   "source": []
  }
 ],
 "metadata": {
  "kernelspec": {
   "display_name": "Java",
   "language": "java",
   "name": "java"
  },
  "language_info": {
   "codemirror_mode": "java",
   "file_extension": ".jshell",
   "mimetype": "text/x-java-source",
   "name": "Java",
   "pygments_lexer": "java",
   "version": "17+35-2724"
  }
 },
 "nbformat": 4,
 "nbformat_minor": 5
}
