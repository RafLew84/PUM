{
 "cells": [
  {
   "cell_type": "markdown",
   "id": "040864cc-7d5b-4df2-b168-8cd115e50784",
   "metadata": {},
   "source": [
    "## 10.1 Model View Controller - podstawy"
   ]
  },
  {
   "cell_type": "markdown",
   "id": "96214e15-9ef7-4b91-b8e1-99552b7e84fc",
   "metadata": {},
   "source": [
    "Aplikacja posłuży przedstawieniu ppodstawowej struktury architektury `MVC`. Posłużymy się tylko pojedynczym przyciskiem i jednym polem `TextView`. Rozpocznijmy od `Model`"
   ]
  },
  {
   "cell_type": "code",
   "execution_count": null,
   "id": "333639e7-1890-4064-994f-f9561a8f09e2",
   "metadata": {},
   "outputs": [],
   "source": [
    "data class Model (\n",
    "    private val text: String,\n",
    "    private val score: Int,\n",
    "    private val ratio: Int)\n",
    "{\n",
    "    fun getData(): String{\n",
    "        return \"$text $score $ratio\"\n",
    "    }\n",
    "}"
   ]
  },
  {
   "cell_type": "markdown",
   "id": "fd990da7-c930-4cb4-ae9f-46aa72dc02f8",
   "metadata": {},
   "source": [
    "W tym prostym przykładzie nie będziemy wykorzystywać baz danych ani łączyć się z serwisami zewnętrznymi, więc umieścimy metodę `getData` w klasie `Model`.\n",
    "\n",
    "W architekturze `MVC` aktywność często pełni pdwójną rolę - `View` oraz `Controller`. Tutaj dla przejrzystości wyrzucimy `View` do soobnej klasy. Ściślej rzecz ujmując naszym kontrolerem jest aktywność, jako `View` wykorzystujemy tylko pole `TextView`."
   ]
  },
  {
   "cell_type": "code",
   "execution_count": null,
   "id": "b1a09127-f653-4ba7-88bb-b1ba4db36b35",
   "metadata": {},
   "outputs": [],
   "source": [
    "class MyView (private val textView: TextView, private val model: Model){\n",
    "    fun display(){\n",
    "        textView.text = model.getData()\n",
    "    }\n",
    "}"
   ]
  },
  {
   "cell_type": "markdown",
   "id": "3dbe71a3-a3b6-4456-8e2c-452f86727b74",
   "metadata": {},
   "source": [
    "W klasie aktywności musimy zainicjować pola "
   ]
  },
  {
   "cell_type": "code",
   "execution_count": null,
   "id": "494ec15d-e0b5-4854-b1c9-8a8676b7793a",
   "metadata": {},
   "outputs": [],
   "source": [
    "    private val textView: TextView by lazy { findViewById(R.id.textView) }\n",
    "    private val button: Button by lazy { findViewById(R.id.button) }"
   ]
  },
  {
   "cell_type": "markdown",
   "id": "7496ade7-04c7-4478-b263-dc947a045871",
   "metadata": {},
   "source": [
    "Następnie utworzyć `Model`"
   ]
  },
  {
   "cell_type": "code",
   "execution_count": null,
   "id": "40cc117a-4ad4-48f5-9ed7-ac339ae71e11",
   "metadata": {},
   "outputs": [],
   "source": [
    "    private val model: Model by lazy { Model(\"text\", 1, 2) }"
   ]
  },
  {
   "cell_type": "markdown",
   "id": "1540a499-5760-4077-b963-77051725c1a8",
   "metadata": {},
   "source": [
    "oraz `View`, który przyjkmuje `Model` jako parametr."
   ]
  },
  {
   "cell_type": "code",
   "execution_count": null,
   "id": "734b321e-5196-4a64-8929-473081e6a505",
   "metadata": {},
   "outputs": [],
   "source": [
    "    private val myView: MyView by lazy { MyView(textView, model) }"
   ]
  },
  {
   "cell_type": "markdown",
   "id": "27c5802f-f956-4093-a512-6ed235721878",
   "metadata": {},
   "source": [
    "Następnie dodajmy obsługę przycisku"
   ]
  },
  {
   "cell_type": "code",
   "execution_count": null,
   "id": "b1359d97-b519-4fa2-8a2e-5cc3aeb22fd8",
   "metadata": {},
   "outputs": [],
   "source": [
    "    button.setOnClickListener { myView.display() }"
   ]
  },
  {
   "cell_type": "markdown",
   "id": "3201d99d-b886-430b-be3f-a52d66e4a43c",
   "metadata": {},
   "source": [
    "Podsumowując\n",
    "- `View` odpowiada za inicjalizację widoków, zachowanie elementów ui, zmiany ich właściwości\n",
    "- `View` posiada referencję do modelu z którego czerpie dane\n",
    "- `Controller` (`MainActivity`) przechwytuje zdarzenia i oddelegowuje ich wykonanie do `Model` oraz powiadamia `View` o zmianie stanu."
   ]
  }
 ],
 "metadata": {
  "kernelspec": {
   "display_name": "Kotlin",
   "language": "kotlin",
   "name": "kotlin"
  },
  "language_info": {
   "codemirror_mode": "text/x-kotlin",
   "file_extension": ".kt",
   "mimetype": "text/x-kotlin",
   "name": "kotlin",
   "nbconvert_exporter": "",
   "pygments_lexer": "kotlin",
   "version": "1.6.20-dev-6372"
  }
 },
 "nbformat": 4,
 "nbformat_minor": 5
}
