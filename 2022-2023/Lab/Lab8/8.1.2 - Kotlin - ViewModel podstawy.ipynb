{
 "cells": [
  {
   "cell_type": "markdown",
   "id": "98596049-ed7b-4266-b1bb-94d1c54ee3aa",
   "metadata": {},
   "source": [
    "## 8.1 ViewModel - podstawy"
   ]
  },
  {
   "cell_type": "markdown",
   "id": "3db096a9-1ee1-4bfe-a39e-76548de73eb4",
   "metadata": {},
   "source": [
    "Niniejsza aplikacja posłuży nam do zapoznania się z `ViewModel`, będzie to prosta gra polegająca na odgadywaniu słów - sama aplikacja jak i jej cel pochodzi z oficjalnego codelab ze strony [Android for developers](https://developer.android.com/codelabs/basic-android-kotlin-training-viewmodel)"
   ]
  },
  {
   "cell_type": "markdown",
   "id": "cea44903-7e91-4d7d-8023-757bc01d74d7",
   "metadata": {},
   "source": [
    "<img src=\"https://media1.giphy.com/media/2ozolRG1R2XcrOUmEF/giphy.gif?cid=790b76119699d290f0f5b74513aa7a0cb8a3ea2eda68b0a3&rid=giphy.gif&ct=g\" width=\"200\" />"
   ]
  },
  {
   "cell_type": "markdown",
   "id": "da469e69-dc45-49e7-b4a1-fcd768d9dca8",
   "metadata": {},
   "source": [
    "Tą aplikacją rozpoczniemy również zapoznanie się z elementami oraz zasadami architektury aplikacji mobilnych - tutaj zajmiemy się rozdzieleniem interfejsu użytkownika i modelu\n",
    "- `Fragment` - jest odpowiedzialny za wyświetlenie wszystkich elementów interfejsu wraz z powiązanymi z nimi danych na ekranie urządzenia, odpowiada również za reagowanie na zdarzenia interfejsu użytkownika.\n",
    "- `ViewModel` - odpowiedzialny za przechowywanie i przetwarzanie danych niezbędnych dla interfejsu użytkownika"
   ]
  },
  {
   "cell_type": "markdown",
   "id": "9ce5829d-c47c-4c0c-9c15-244b2a9b1a97",
   "metadata": {},
   "source": [
    "Aplikacja będzie składać się z jednego fragmentu hostowanego przez aktywność, rozpocznijmy od layoutu aktywności"
   ]
  },
  {
   "cell_type": "code",
   "execution_count": null,
   "id": "8a9d0a45-9ac2-41d0-a666-34bf2b0c31be",
   "metadata": {},
   "outputs": [],
   "source": [
    "<?xml version=\"1.0\" encoding=\"utf-8\"?>\n",
    "<androidx.constraintlayout.widget.ConstraintLayout \n",
    "xmlns:android=\"http://schemas.android.com/apk/res/android\"\n",
    "    xmlns:app=\"http://schemas.android.com/apk/res-auto\"\n",
    "    xmlns:tools=\"http://schemas.android.com/tools\"\n",
    "    android:layout_width=\"match_parent\"\n",
    "    android:layout_height=\"match_parent\"\n",
    "    tools:context=\".MainActivity\">\n",
    "\n",
    "    <androidx.fragment.app.FragmentContainerView\n",
    "        android:id=\"@+id/game_fragment\"\n",
    "        android:name=\"pl.udu.uwr.pum.viewmodelbasicsjava.ScrambleFragment\"\n",
    "        android:layout_width=\"0dp\"\n",
    "        android:layout_height=\"0dp\"\n",
    "        app:layout_constraintLeft_toLeftOf=\"parent\"\n",
    "        app:layout_constraintRight_toRightOf=\"parent\"\n",
    "        app:layout_constraintTop_toTopOf=\"parent\"\n",
    "        app:layout_constraintBottom_toBottomOf=\"parent\" />\n",
    "\n",
    "</androidx.constraintlayout.widget.ConstraintLayout>"
   ]
  },
  {
   "cell_type": "markdown",
   "id": "fa423e23-1c45-4389-a175-e0facbedcc08",
   "metadata": {},
   "source": [
    "Dodajmy również layout fragmentu"
   ]
  },
  {
   "cell_type": "code",
   "execution_count": null,
   "id": "e140680a-9938-4563-a453-7e2bed2d839a",
   "metadata": {},
   "outputs": [],
   "source": [
    "<?xml version=\"1.0\" encoding=\"utf-8\"?>\n",
    "<ScrollView xmlns:android=\"http://schemas.android.com/apk/res/android\"\n",
    "    xmlns:app=\"http://schemas.android.com/apk/res-auto\"\n",
    "    xmlns:tools=\"http://schemas.android.com/tools\"\n",
    "    android:layout_width=\"match_parent\"\n",
    "    android:layout_height=\"match_parent\">\n",
    "\n",
    "    <androidx.constraintlayout.widget.ConstraintLayout\n",
    "        android:layout_width=\"match_parent\"\n",
    "        android:layout_height=\"wrap_content\"\n",
    "        android:padding=\"@dimen/default_padding\"\n",
    "        tools:context=\".ui.game.GameFragment\">\n",
    "\n",
    "        <Button\n",
    "            android:id=\"@+id/skip\"\n",
    "            style=\"?attr/materialButtonOutlinedStyle\"\n",
    "            android:layout_width=\"0dp\"\n",
    "            android:layout_height=\"wrap_content\"\n",
    "            android:layout_marginStart=\"@dimen/default_padding\"\n",
    "            android:layout_marginEnd=\"@dimen/default_padding\"\n",
    "            android:text=\"@string/skip\"\n",
    "            app:layout_constraintBaseline_toBaselineOf=\"@+id/submit\"\n",
    "            app:layout_constraintEnd_toStartOf=\"@+id/submit\"\n",
    "            app:layout_constraintStart_toStartOf=\"parent\" />\n",
    "\n",
    "        <Button\n",
    "            android:id=\"@+id/submit\"\n",
    "            android:layout_width=\"0dp\"\n",
    "            android:layout_height=\"wrap_content\"\n",
    "            android:layout_marginTop=\"@dimen/default_margin\"\n",
    "            android:text=\"@string/submit\"\n",
    "            app:layout_constraintEnd_toEndOf=\"parent\"\n",
    "            app:layout_constraintStart_toEndOf=\"@+id/skip\"\n",
    "            app:layout_constraintTop_toBottomOf=\"@+id/textField\" />\n",
    "\n",
    "        <TextView\n",
    "            android:id=\"@+id/textView_instructions\"\n",
    "            android:layout_width=\"wrap_content\"\n",
    "            android:layout_height=\"wrap_content\"\n",
    "            android:text=\"@string/instructions\"\n",
    "            android:textSize=\"17sp\"\n",
    "            app:layout_constraintBottom_toTopOf=\"@+id/textField\"\n",
    "            app:layout_constraintEnd_toEndOf=\"parent\"\n",
    "            app:layout_constraintStart_toStartOf=\"parent\"\n",
    "            app:layout_constraintTop_toBottomOf=\"@+id/textView_unscrambled_word\" />\n",
    "\n",
    "        <TextView\n",
    "            android:id=\"@+id/textView_unscrambled_word\"\n",
    "            android:layout_width=\"wrap_content\"\n",
    "            android:layout_height=\"wrap_content\"\n",
    "            android:layout_marginTop=\"@dimen/default_margin\"\n",
    "            android:layout_marginBottom=\"@dimen/default_margin\"\n",
    "            android:textAppearance=\"@style/TextAppearance.MaterialComponents.Headline3\"\n",
    "            app:layout_constraintBottom_toTopOf=\"@+id/textView_instructions\"\n",
    "            app:layout_constraintEnd_toEndOf=\"parent\"\n",
    "            app:layout_constraintStart_toStartOf=\"parent\"\n",
    "            app:layout_constraintTop_toBottomOf=\"@+id/word_count\"\n",
    "            tools:text=\"Scramble word\" />\n",
    "\n",
    "        <TextView\n",
    "            android:id=\"@+id/word_count\"\n",
    "            android:layout_width=\"wrap_content\"\n",
    "            android:layout_height=\"wrap_content\"\n",
    "            android:text=\"@string/word_count\"\n",
    "            android:textAppearance=\"@style/TextAppearance.MaterialComponents.Headline6\"\n",
    "            app:layout_constraintBottom_toTopOf=\"@+id/textView_unscrambled_word\"\n",
    "            app:layout_constraintStart_toStartOf=\"parent\"\n",
    "            app:layout_constraintTop_toTopOf=\"parent\"\n",
    "            tools:text=\"3 of 10 words\" />\n",
    "\n",
    "        <TextView\n",
    "            android:id=\"@+id/score\"\n",
    "            android:layout_width=\"wrap_content\"\n",
    "            android:layout_height=\"wrap_content\"\n",
    "            android:text=\"@string/score\"\n",
    "            android:textAllCaps=\"true\"\n",
    "            android:textAppearance=\"@style/TextAppearance.MaterialComponents.Headline6\"\n",
    "            app:layout_constraintEnd_toEndOf=\"parent\"\n",
    "            app:layout_constraintTop_toTopOf=\"parent\"\n",
    "            tools:text=\"Score: 20\" />\n",
    "\n",
    "        <com.google.android.material.textfield.TextInputLayout\n",
    "            android:id=\"@+id/textField\"\n",
    "            style=\"@style/Widget.ViewModelBasicsKotlin.TextInputLayout.OutlinedBox\"\n",
    "            android:layout_width=\"0dp\"\n",
    "            android:layout_height=\"wrap_content\"\n",
    "            android:layout_marginTop=\"@dimen/default_margin\"\n",
    "            android:hint=\"@string/enter_your_word\"\n",
    "            app:errorIconDrawable=\"@drawable/ic_error\"\n",
    "            app:helperTextTextAppearance=\"@style/TextAppearance.MaterialComponents.Subtitle1\"\n",
    "            app:layout_constraintBottom_toTopOf=\"@+id/submit\"\n",
    "            app:layout_constraintEnd_toEndOf=\"parent\"\n",
    "            app:layout_constraintStart_toStartOf=\"parent\"\n",
    "            app:layout_constraintTop_toBottomOf=\"@+id/textView_instructions\">\n",
    "\n",
    "            <com.google.android.material.textfield.TextInputEditText\n",
    "                android:id=\"@+id/text_input_edit_text\"\n",
    "                android:layout_width=\"match_parent\"\n",
    "                android:layout_height=\"match_parent\"\n",
    "                android:inputType=\"textPersonName|textNoSuggestions\"\n",
    "                android:maxLines=\"1\" />\n",
    "        </com.google.android.material.textfield.TextInputLayout>\n",
    "\n",
    "    </androidx.constraintlayout.widget.ConstraintLayout>\n",
    "</ScrollView>"
   ]
  },
  {
   "cell_type": "markdown",
   "id": "ea637c47-4b95-494f-833f-62d587161830",
   "metadata": {},
   "source": [
    "Standardowo, jeszcze w tym przykładzie, wykorzystamy `DataProvider` do wystawienia danych"
   ]
  },
  {
   "cell_type": "code",
   "execution_count": null,
   "id": "3308fd36-8d7e-4cb0-90f1-7963fa690488",
   "metadata": {},
   "outputs": [],
   "source": [
    "const val MAX_NO_OF_WORDS = 10\n",
    "const val SCORE_INCREASE = 20\n",
    "\n",
    "val allWordsList: List<String> =\n",
    "    listOf(\"animal\",\n",
    "        \"auto\",\n",
    "        \"anecdote\",\n",
    "           ...\n",
    "           ) // pełna lista znajduje się \n",
    "             // na końcu notatnika"
   ]
  },
  {
   "cell_type": "markdown",
   "id": "1a4468a8-f772-4aab-99e4-074f7d8331a0",
   "metadata": {},
   "source": [
    "### **ViewModel**"
   ]
  },
  {
   "cell_type": "markdown",
   "id": "baf005bd-4110-40fe-af96-e003be0bb484",
   "metadata": {},
   "source": [
    "Aby skorzystać z `ViewModel` musimy dodać odpowiednią zależność"
   ]
  },
  {
   "cell_type": "code",
   "execution_count": null,
   "id": "5ec340b5-db64-418a-ac8f-e5050c5ef8be",
   "metadata": {},
   "outputs": [],
   "source": [
    "implementation 'androidx.lifecycle:lifecycle-viewmodel-ktx:2.5.1'"
   ]
  },
  {
   "cell_type": "markdown",
   "id": "7eb4146d-7366-4144-837f-6a751b47092a",
   "metadata": {},
   "source": [
    "Utwórzmy klasę `ScrambleViewModel`, która musi rozszerzać klasę `ViewModel`"
   ]
  },
  {
   "cell_type": "code",
   "execution_count": 2,
   "id": "ce6661f8-978e-4b35-a580-5fd27496b1c5",
   "metadata": {},
   "outputs": [],
   "source": [
    "class ScrambleViewModel : ViewModel() {}"
   ]
  },
  {
   "cell_type": "markdown",
   "id": "50f62ffe-836a-490d-b281-ac2417668056",
   "metadata": {},
   "source": [
    "Nasza gra polega na odgadywaniu słów na podstawie podanych liter - dodajmy kilka pól\n",
    "- `currentWordCount` - przechowuje numer aktualnego słowa w grze\n",
    "- `score`- liczba punktów\n",
    "- `currentWord` - aktualne słowo do odgadnięcia\n",
    "- `usedWordList` - słowa które już pojawiły się w grze\n",
    "- `currentScrambledWord` - wszystkie litery aktualnego słowa w kolejności losowej"
   ]
  },
  {
   "cell_type": "code",
   "execution_count": null,
   "id": "a5ebdb1c-d8be-4cee-b8ef-bf50b5942bb9",
   "metadata": {},
   "outputs": [],
   "source": [
    "    private var currentWordCount = 0\n",
    "\n",
    "    private lateinit var _currentScrambledWord: String\n",
    "    val currentScrambledWord: String\n",
    "        get() = _currentScrambledWord\n",
    "\n",
    "    private var usedWordsList: MutableList<String> = mutableListOf()\n",
    "    private lateinit var currentWord: String\n",
    "\n",
    "    private var _score = 0\n",
    "    val score: Int\n",
    "        get() = _score"
   ]
  },
  {
   "cell_type": "markdown",
   "id": "1d4b8e5b-2954-46a0-8092-57dee27eec57",
   "metadata": {},
   "source": [
    "Zwróćmy uwagę na istnienie pól `val` i `var` o podobnej nazwie, jest to tzw. **właściwość wspierająca**. Powyżej nadpisujemy `get`, który zwraca wartość tylko do odczytu - więc wystawiamy tylko niemutowalne dane."
   ]
  },
  {
   "cell_type": "markdown",
   "id": "c8df5023-64a3-4a48-a1b2-c44996ed1427",
   "metadata": {},
   "source": [
    "Pierwszą metodą będzie `increaseScore` zwiększająca liczbę punktów o ilość zdefiniowaną w `DataProvider`"
   ]
  },
  {
   "cell_type": "code",
   "execution_count": null,
   "id": "e019815b-37a2-4b50-be13-621d5b763140",
   "metadata": {},
   "outputs": [],
   "source": [
    "    private fun increaseScore() {\n",
    "        _score += SCORE_INCREASE\n",
    "    }"
   ]
  },
  {
   "cell_type": "markdown",
   "id": "e8eb2929-4690-41a8-a5ff-ba69ff2f470a",
   "metadata": {},
   "source": [
    "Następnie zaimplementujmy `getNextWord` przypisującą do zmiennych `currentWord` i `currentScrambledWord` wylosowane słowo"
   ]
  },
  {
   "cell_type": "markdown",
   "id": "5c94c1f5-ccfa-45dd-a503-7064f4f9d74f",
   "metadata": {},
   "source": [
    "W pierwszym kroku losujemy słowo z listy"
   ]
  },
  {
   "cell_type": "code",
   "execution_count": null,
   "id": "69794a99-cef6-470c-b0e5-2fb8b1eab89a",
   "metadata": {},
   "outputs": [],
   "source": [
    "currentWord = allWordsList.random()"
   ]
  },
  {
   "cell_type": "markdown",
   "id": "8ffa742c-e4b5-40aa-9267-32ad0cd1d5d5",
   "metadata": {},
   "source": [
    "Następnie zamieniamy losowo litery i sprawdzamy czy po zmianie nie otrzymaliśmy tego samego słowa"
   ]
  },
  {
   "cell_type": "code",
   "execution_count": null,
   "id": "d3fc7a37-da97-49f3-b893-a000a7a7361b",
   "metadata": {},
   "outputs": [],
   "source": [
    "val tempWord = currentWord.toCharArray()\n",
    "while (String(tempWord) == currentWord) tempWord.shuffle()"
   ]
  },
  {
   "cell_type": "markdown",
   "id": "4f38092b-ca0d-463d-8d3b-5473a4dea9bc",
   "metadata": {},
   "source": [
    "Jeżeli wylosowane słowo znajduje się na liście już wykorzystanych słów, losujemy ponownie"
   ]
  },
  {
   "cell_type": "code",
   "execution_count": null,
   "id": "c4875b22-20a9-432e-b886-1cf5b9722d3b",
   "metadata": {},
   "outputs": [],
   "source": [
    "if (usedWordsList.contains(currentWord)) getNextWord()"
   ]
  },
  {
   "cell_type": "markdown",
   "id": "49cf6f8a-881c-4ddc-9aaa-07dccbb1eb09",
   "metadata": {},
   "source": [
    "W przeciwnym zwiększamy licznik słów i dodajemy wylosowane słowo na listę już użytych"
   ]
  },
  {
   "cell_type": "code",
   "execution_count": null,
   "id": "2634193b-aa65-4bf4-9d5b-b39505df2442",
   "metadata": {},
   "outputs": [],
   "source": [
    "else {\n",
    "    _currentScrambledWord = String(tempWord)\n",
    "    ++currentWordCount\n",
    "    usedWordsList.add(currentWord)\n",
    "}"
   ]
  },
  {
   "cell_type": "markdown",
   "id": "a8605668-230a-4403-a4a1-621586757c13",
   "metadata": {},
   "source": [
    "Pełna metoda `getNextWord`"
   ]
  },
  {
   "cell_type": "code",
   "execution_count": null,
   "id": "db43db99-40be-4862-88ce-7000be7a133a",
   "metadata": {},
   "outputs": [],
   "source": [
    "    private fun getNextWord() {\n",
    "        currentWord = allWordsList.random()\n",
    "        val tempWord = currentWord.toCharArray()\n",
    "        while (String(tempWord) == currentWord) tempWord.shuffle()\n",
    "        if (usedWordsList.contains(currentWord)) getNextWord() else {\n",
    "            _currentScrambledWord = String(tempWord)\n",
    "            ++currentWordCount\n",
    "            usedWordsList.add(currentWord)\n",
    "        }\n",
    "    }"
   ]
  },
  {
   "cell_type": "markdown",
   "id": "b1f4972a-c386-4694-8315-72655a258514",
   "metadata": {},
   "source": [
    "Przejdźmy do metod publicznych \n",
    "- metoda resetująca wszystkie dane"
   ]
  },
  {
   "cell_type": "code",
   "execution_count": null,
   "id": "028c9930-75bc-4de8-8892-258f4bd808ee",
   "metadata": {},
   "outputs": [],
   "source": [
    "    fun reinitializeData() {\n",
    "        _score = 0\n",
    "        currentWordCount = 0\n",
    "        usedWordsList.clear()\n",
    "        getNextWord()\n",
    "    }"
   ]
  },
  {
   "cell_type": "markdown",
   "id": "b256c606-7062-40e7-b4a6-d3dc3afea1ce",
   "metadata": {},
   "source": [
    "- metoda w której sprawdzimy słowo podane przez użytkownika"
   ]
  },
  {
   "cell_type": "code",
   "execution_count": null,
   "id": "f30d4a4b-91e1-4fa7-80ec-cc3196312011",
   "metadata": {},
   "outputs": [],
   "source": [
    "    fun isUserWordCorrect(playerWord: String): Boolean {\n",
    "        return if (playerWord.equals(currentWord, true)) {\n",
    "            increaseScore()\n",
    "            true\n",
    "        }\n",
    "        else false\n",
    "    }"
   ]
  },
  {
   "cell_type": "markdown",
   "id": "d417aab5-4b13-400f-ac14-e5241284296b",
   "metadata": {},
   "source": [
    "- metoda sprawdzająca czy nie przekraczamy maksymalnej liczby słów"
   ]
  },
  {
   "cell_type": "code",
   "execution_count": null,
   "id": "b405e863-27e4-4f19-84e3-2862cdca1e0d",
   "metadata": {},
   "outputs": [],
   "source": [
    "    fun nextWord(): Boolean {\n",
    "        return if (currentWordCount < MAX_NO_OF_WORDS) {\n",
    "            getNextWord()\n",
    "            true\n",
    "        } else false\n",
    "    }"
   ]
  },
  {
   "cell_type": "markdown",
   "id": "bdc066f3-c3dd-4b3a-9165-cedc9de50aa6",
   "metadata": {},
   "source": [
    "Na koniec zainicjujmy zmienne"
   ]
  },
  {
   "cell_type": "code",
   "execution_count": null,
   "id": "1bb2261a-10b0-425a-a6f0-e41b71d5aa3b",
   "metadata": {},
   "outputs": [],
   "source": [
    "    init {\n",
    "        getNextWord()\n",
    "    }"
   ]
  },
  {
   "cell_type": "markdown",
   "id": "cc7bbe21-00bb-4444-a0bb-b8cb35904f4d",
   "metadata": {},
   "source": [
    "### **Fragment**"
   ]
  },
  {
   "cell_type": "markdown",
   "id": "072391ac-85bd-4913-b5fc-91727d107a47",
   "metadata": {},
   "source": [
    "Fragment rozpocznijmy od dodania i zainicjowania `ViewModel`"
   ]
  },
  {
   "cell_type": "code",
   "execution_count": null,
   "id": "386e2035-068d-498e-b09a-9bd8cc692de6",
   "metadata": {},
   "outputs": [],
   "source": [
    "private val viewModel: ScrambleViewModel by viewModels()"
   ]
  },
  {
   "cell_type": "markdown",
   "id": "5a6da3ae-eb27-430e-8bf5-14c03dababcc",
   "metadata": {},
   "source": [
    "Tutaj niejawnie wywoływany jest konstruktor klasy `ViewModelProvider` oraz jego metoda `get`. Żąda on (za pomocą metody `get`) od `ViewModelStore` zwrócenia instancji klasy `ViewModel` jeżeli istnieje, lub utworzyć nową w przeciwnym przypadku. Argumentem kontruktora jest `ViewModelStoreOwner`, którym może być aktywność lub fragment. Metoda `get` przyjmuje jako argument `ViewModel` który zostaje klasą modelową. Utworzony `ViewModel` jest powiązany z cyklem życia `ViewModelStoreOwner` (tutaj jest to `ScrambleFragment`) i jest utrzymywany tak długo jak istnieje powiązany `owner` - czyli dopóki aktywność/fragment jest w cyklu życia jak i sama aplikacja.\n",
    "\n",
    "Aby skorzystać z delegatu `viemodels` musimy dodać do zależności fragment"
   ]
  },
  {
   "cell_type": "code",
   "execution_count": null,
   "id": "0114091d-8bb5-4400-b119-ac3852efac8c",
   "metadata": {},
   "outputs": [],
   "source": [
    "implementation 'androidx.fragment:fragment-ktx:1.5.2'"
   ]
  },
  {
   "cell_type": "markdown",
   "id": "6ad1ebd0-d5df-42ae-ad80-2ce0eb18a10c",
   "metadata": {},
   "source": [
    "Do metody `onViewCreated` dodajmy obsługę zdarzeń i ustawmy elementy UI"
   ]
  },
  {
   "cell_type": "code",
   "execution_count": null,
   "id": "7817e4b2-d538-490e-9c74-044d45dec225",
   "metadata": {},
   "outputs": [],
   "source": [
    "    override fun onViewCreated(view: View, savedInstanceState: Bundle?) {\n",
    "        super.onViewCreated(view, savedInstanceState)\n",
    "\n",
    "        binding.submit.setOnClickListener { onSubmitWord() }\n",
    "        binding.skip.setOnClickListener { onSkipWord() }\n",
    "\n",
    "        updateNextWordOnScreen()\n",
    "        binding.score.text = getString(R.string.score, 0)\n",
    "        binding.wordCount.text = getString(\n",
    "            R.string.word_count, 0, MAX_NO_OF_WORDS)\n",
    "    }"
   ]
  },
  {
   "cell_type": "markdown",
   "id": "395eea5a-a2aa-4da9-a4fa-27838c20b958",
   "metadata": {},
   "source": [
    "Zwróćmy uwagę na metodę `getString`, oprócz `id` zasobu z pliku `strings.xml` przyjmuje on dodatkowe argumenty oznaczające parametry samego łańcucha znaków. Przykładowo, posiadając zdefiniowany zasób"
   ]
  },
  {
   "cell_type": "code",
   "execution_count": null,
   "id": "3c403ad4-7ac4-442d-8a0f-771e21775143",
   "metadata": {},
   "outputs": [],
   "source": [
    "<string name=\"score\">Score: %d</string>"
   ]
  },
  {
   "cell_type": "markdown",
   "id": "79fb41f5-d944-4956-b86f-8a28c47b4941",
   "metadata": {},
   "source": [
    "przyjmuje on jeden parametr"
   ]
  },
  {
   "cell_type": "code",
   "execution_count": null,
   "id": "913fb3b3-46f5-4708-aa8b-60d4c2e09fa0",
   "metadata": {},
   "outputs": [],
   "source": [
    "getString(R.string.score, 0);"
   ]
  },
  {
   "cell_type": "markdown",
   "id": "86d12afb-dd75-4ea9-94e9-ab2f0787e180",
   "metadata": {},
   "source": [
    "Dodajmy kilka metod\n",
    "- koniec gry"
   ]
  },
  {
   "cell_type": "code",
   "execution_count": null,
   "id": "36fbf6b4-1127-4481-a4ce-9b2027421f33",
   "metadata": {},
   "outputs": [],
   "source": [
    "    private fun exitGame() {\n",
    "        activity?.finish()\n",
    "    }"
   ]
  },
  {
   "cell_type": "markdown",
   "id": "6b7a0d19-8a29-4a93-a39f-e40484eadd18",
   "metadata": {},
   "source": [
    "- ustawienie pól błędu dla `TextInputLayout` i `TextInputEditText`"
   ]
  },
  {
   "cell_type": "code",
   "execution_count": null,
   "id": "282e7659-4126-425d-aa85-7ebf6322f6fa",
   "metadata": {},
   "outputs": [],
   "source": [
    "    private fun setErrorTextField(error: Boolean) {\n",
    "        if (error) {\n",
    "            binding.textField.isErrorEnabled = true\n",
    "            binding.textField.error = getString(R.string.try_again)\n",
    "        } else {\n",
    "            binding.textField.isErrorEnabled = false\n",
    "            binding.textInputEditText.text = null\n",
    "        }\n",
    "    }"
   ]
  },
  {
   "cell_type": "markdown",
   "id": "baece0d5-9e64-4995-a7e7-ea9a07f9921e",
   "metadata": {},
   "source": [
    "- aktualizacja aktualnie wyświetlanego słowa"
   ]
  },
  {
   "cell_type": "code",
   "execution_count": null,
   "id": "3382c198-f796-4e29-a02a-ec6c264685f4",
   "metadata": {},
   "outputs": [],
   "source": [
    "    private fun updateNextWordOnScreen() {\n",
    "        binding.textViewUnscrambledWord.text = viewModel.currentScrambledWord\n",
    "    }"
   ]
  },
  {
   "cell_type": "markdown",
   "id": "3315d8ca-b765-4f2f-99e7-94a0f1921dcb",
   "metadata": {},
   "source": [
    "- restart gry"
   ]
  },
  {
   "cell_type": "code",
   "execution_count": null,
   "id": "c6d9e232-7f04-4f52-863b-a08a45b12a0d",
   "metadata": {},
   "outputs": [],
   "source": [
    "    private fun restartGame() {\n",
    "        viewModel.reinitializeData()\n",
    "        setErrorTextField(false)\n",
    "        updateNextWordOnScreen()\n",
    "    }"
   ]
  },
  {
   "cell_type": "markdown",
   "id": "8c30b8cf-75c6-40c1-8cec-b90213578f55",
   "metadata": {},
   "source": [
    "- wyświetlenie finalnego wyniku"
   ]
  },
  {
   "cell_type": "code",
   "execution_count": null,
   "id": "ae39add3-92d2-40a2-a765-6bb783c6727f",
   "metadata": {},
   "outputs": [],
   "source": [
    "    private fun showFinalScoreDialog() {\n",
    "        MaterialAlertDialogBuilder(requireContext())\n",
    "            .setTitle(getString(R.string.congratulations))\n",
    "            .setMessage(getString(R.string.you_scored, viewModel.score))\n",
    "            .setCancelable(false)\n",
    "            .setNegativeButton(getString(R.string.exit)) { _, _ -> exitGame() }\n",
    "            .setPositiveButton(getString(R.string.play_again)) { _, _ -> restartGame() }\n",
    "            .show()\n",
    "    }"
   ]
  },
  {
   "cell_type": "markdown",
   "id": "8123e2f5-5259-4118-b4d4-a7ee1fb197fb",
   "metadata": {},
   "source": [
    "- zatwierdzenie wpisanego słowa przez użytkownika"
   ]
  },
  {
   "cell_type": "code",
   "execution_count": null,
   "id": "649cc898-5a27-4008-9991-ac054c9379b3",
   "metadata": {},
   "outputs": [],
   "source": [
    "    private fun onSubmitWord() {\n",
    "        val playerWord = binding.textInputEditText.text.toString()\n",
    "\n",
    "        if (viewModel.isUserWordCorrect(playerWord)) {\n",
    "            setErrorTextField(false)\n",
    "            if (viewModel.nextWord()) updateNextWordOnScreen()\n",
    "            else showFinalScoreDialog()\n",
    "        } else setErrorTextField(true)\n",
    "    }"
   ]
  },
  {
   "cell_type": "markdown",
   "id": "0352221f-4af1-42c1-bd28-bfd27821e596",
   "metadata": {},
   "source": [
    "- ominięcie słowa"
   ]
  },
  {
   "cell_type": "code",
   "execution_count": null,
   "id": "56b184b0-b4d4-40bd-9732-251101d313a2",
   "metadata": {},
   "outputs": [],
   "source": [
    "    private fun onSkipWord() {\n",
    "        if (viewModel.nextWord()) {\n",
    "            setErrorTextField(false)\n",
    "            updateNextWordOnScreen()\n",
    "        } else showFinalScoreDialog()\n",
    "    }"
   ]
  },
  {
   "cell_type": "markdown",
   "id": "d59b690f-6d59-4117-8cad-5d8f99be6800",
   "metadata": {},
   "source": [
    "Ten przykład w tym miejscu przerwiemy - w następnym notatniku dodamy `LiveData` i `DataBinding` do aplikacji.\n",
    "\n",
    "Zwróćmy uwagę na kilka szczegółów\n",
    "- Dążymy do rozdzielenia klas posiadających różne obowiązki\n",
    "- `ScrambleFragment` odpowiada **tylko** za zarządzanie interfejsem i interakcją z użytkownikiem - **nie jest** źródłem danych które są podawane na ekran urządzenia\n",
    "- `ScrambleViewModel` odpowiada za przechowanie i zarządzanie danymi, które są wymagane dla ui"
   ]
  },
  {
   "cell_type": "markdown",
   "id": "2332b2f7-2958-4ed2-ab1a-f32e01b10970",
   "metadata": {},
   "source": [
    "Możemy przetestować aplikację"
   ]
  },
  {
   "cell_type": "markdown",
   "id": "2ec969f8-8a7a-4dd4-ab0d-5afb116091f4",
   "metadata": {},
   "source": [
    "<img src=\"https://media1.giphy.com/media/2ozolRG1R2XcrOUmEF/giphy.gif?cid=790b76119699d290f0f5b74513aa7a0cb8a3ea2eda68b0a3&rid=giphy.gif&ct=g\" width=\"150\" />"
   ]
  },
  {
   "cell_type": "code",
   "execution_count": null,
   "id": "2326beb6-4fcf-4bb5-afbb-605f37a52d5c",
   "metadata": {},
   "outputs": [],
   "source": [
    "val allWordsList: List<String> =\n",
    "    listOf(\"animal\",\n",
    "        \"auto\",\n",
    "        \"anecdote\",\n",
    "        \"alphabet\",\n",
    "        \"all\",\n",
    "        \"awesome\",\n",
    "        \"arise\",\n",
    "        \"balloon\",\n",
    "        \"basket\",\n",
    "        \"bench\",\n",
    "        \"best\",\n",
    "        \"birthday\",\n",
    "        \"book\",\n",
    "        \"briefcase\",\n",
    "        \"camera\",\n",
    "        \"camping\",\n",
    "        \"candle\",\n",
    "        \"cat\",\n",
    "        \"cauliflower\",\n",
    "        \"chat\",\n",
    "        \"children\",\n",
    "        \"class\",\n",
    "        \"classic\",\n",
    "        \"classroom\",\n",
    "        \"coffee\",\n",
    "        \"colorful\",\n",
    "        \"cookie\",\n",
    "        \"creative\",\n",
    "        \"cruise\",\n",
    "        \"dance\",\n",
    "        \"daytime\",\n",
    "        \"dinosaur\",\n",
    "        \"doorknob\",\n",
    "        \"dine\",\n",
    "        \"dream\",\n",
    "        \"dusk\",\n",
    "        \"eating\",\n",
    "        \"elephant\",\n",
    "        \"emerald\",\n",
    "        \"eerie\",\n",
    "        \"electric\",\n",
    "        \"finish\",\n",
    "        \"flowers\",\n",
    "        \"follow\",\n",
    "        \"fox\",\n",
    "        \"frame\",\n",
    "        \"free\",\n",
    "        \"frequent\",\n",
    "        \"funnel\",\n",
    "        \"green\",\n",
    "        \"guitar\",\n",
    "        \"grocery\",\n",
    "        \"glass\",\n",
    "        \"great\",\n",
    "        \"giggle\",\n",
    "        \"haircut\",\n",
    "        \"half\",\n",
    "        \"homemade\",\n",
    "        \"happen\",\n",
    "        \"honey\",\n",
    "        \"hurry\",\n",
    "        \"hundred\",\n",
    "        \"ice\",\n",
    "        \"igloo\",\n",
    "        \"invest\",\n",
    "        \"invite\",\n",
    "        \"icon\",\n",
    "        \"introduce\",\n",
    "        \"joke\",\n",
    "        \"jovial\",\n",
    "        \"journal\",\n",
    "        \"jump\",\n",
    "        \"join\",\n",
    "        \"kangaroo\",\n",
    "        \"keyboard\",\n",
    "        \"kitchen\",\n",
    "        \"koala\",\n",
    "        \"kind\",\n",
    "        \"kaleidoscope\",\n",
    "        \"landscape\",\n",
    "        \"late\",\n",
    "        \"laugh\",\n",
    "        \"learning\",\n",
    "        \"lemon\",\n",
    "        \"letter\",\n",
    "        \"lily\",\n",
    "        \"magazine\",\n",
    "        \"marine\",\n",
    "        \"marshmallow\",\n",
    "        \"maze\",\n",
    "        \"meditate\",\n",
    "        \"melody\",\n",
    "        \"minute\",\n",
    "        \"monument\",\n",
    "        \"moon\",\n",
    "        \"motorcycle\",\n",
    "        \"mountain\",\n",
    "        \"music\",\n",
    "        \"north\",\n",
    "        \"nose\",\n",
    "        \"night\",\n",
    "        \"name\",\n",
    "        \"never\",\n",
    "        \"negotiate\",\n",
    "        \"number\",\n",
    "        \"opposite\",\n",
    "        \"octopus\",\n",
    "        \"oak\",\n",
    "        \"order\",\n",
    "        \"open\",\n",
    "        \"polar\",\n",
    "        \"pack\",\n",
    "        \"painting\",\n",
    "        \"person\",\n",
    "        \"picnic\",\n",
    "        \"pillow\",\n",
    "        \"pizza\",\n",
    "        \"podcast\",\n",
    "        \"presentation\",\n",
    "        \"puppy\",\n",
    "        \"puzzle\",\n",
    "        \"recipe\",\n",
    "        \"release\",\n",
    "        \"restaurant\",\n",
    "        \"revolve\",\n",
    "        \"rewind\",\n",
    "        \"room\",\n",
    "        \"run\",\n",
    "        \"secret\",\n",
    "        \"seed\",\n",
    "        \"ship\",\n",
    "        \"shirt\",\n",
    "        \"should\",\n",
    "        \"small\",\n",
    "        \"spaceship\",\n",
    "        \"stargazing\",\n",
    "        \"skill\",\n",
    "        \"street\",\n",
    "        \"style\",\n",
    "        \"sunrise\",\n",
    "        \"taxi\",\n",
    "        \"tidy\",\n",
    "        \"timer\",\n",
    "        \"together\",\n",
    "        \"tooth\",\n",
    "        \"tourist\",\n",
    "        \"travel\",\n",
    "        \"truck\",\n",
    "        \"under\",\n",
    "        \"useful\",\n",
    "        \"unicorn\",\n",
    "        \"unique\",\n",
    "        \"uplift\",\n",
    "        \"uniform\",\n",
    "        \"vase\",\n",
    "        \"violin\",\n",
    "        \"visitor\",\n",
    "        \"vision\",\n",
    "        \"volume\",\n",
    "        \"view\",\n",
    "        \"walrus\",\n",
    "        \"wander\",\n",
    "        \"world\",\n",
    "        \"winter\",\n",
    "        \"well\",\n",
    "        \"whirlwind\",\n",
    "        \"x-ray\",\n",
    "        \"xylophone\",\n",
    "        \"yoga\",\n",
    "        \"yogurt\",\n",
    "        \"yoyo\",\n",
    "        \"you\",\n",
    "        \"year\",\n",
    "        \"yummy\",\n",
    "        \"zebra\",\n",
    "        \"zigzag\",\n",
    "        \"zoology\",\n",
    "        \"zone\",\n",
    "        \"zeal\")"
   ]
  }
 ],
 "metadata": {
  "kernelspec": {
   "display_name": "Kotlin",
   "language": "kotlin",
   "name": "kotlin"
  },
  "language_info": {
   "codemirror_mode": "text/x-kotlin",
   "file_extension": ".kt",
   "mimetype": "text/x-kotlin",
   "name": "kotlin",
   "nbconvert_exporter": "",
   "pygments_lexer": "kotlin",
   "version": "1.6.20-dev-6372"
  }
 },
 "nbformat": 4,
 "nbformat_minor": 5
}
