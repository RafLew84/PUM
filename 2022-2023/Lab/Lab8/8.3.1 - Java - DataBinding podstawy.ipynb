{
 "cells": [
  {
   "cell_type": "markdown",
   "id": "33048fdd-c6a6-491a-9568-6dfc42385f4c",
   "metadata": {},
   "source": [
    "## 8.3 DataBinding - podstawy"
   ]
  },
  {
   "cell_type": "markdown",
   "id": "f8081ad4-649c-48aa-ac15-44f331af7f0b",
   "metadata": {},
   "source": [
    "Obok `ViewBinding` mamy również dostępną drugą opcję - `DataBinding`. Pozwala ona na powiązanie komponentów ui w plikach definiujących layout (`xml`) bezpośrednio z danymi.\n",
    "\n",
    "Kontynuujemy aplikację z punktu 8.2 - dodamy `DataBinding`"
   ]
  },
  {
   "cell_type": "markdown",
   "id": "e73e30c0-b09a-45bc-8864-fac1487c30f8",
   "metadata": {},
   "source": [
    "W pierwszym kroku zamieńmy w `gradle` `viewbinding` na `databinding`"
   ]
  },
  {
   "cell_type": "code",
   "execution_count": null,
   "id": "3c440f86-3173-431c-8b9c-acc4760ca7fa",
   "metadata": {},
   "outputs": [],
   "source": [
    "buildFeatures {\n",
    "    dataBinding = true\n",
    "}"
   ]
  },
  {
   "cell_type": "markdown",
   "id": "1ac57dcf-62c2-4ab6-bd6e-86c5139554df",
   "metadata": {},
   "source": [
    "Następnie zmodyfiikujmy layout fragmentu dodając `<layout>` oraz `<data>`"
   ]
  },
  {
   "cell_type": "code",
   "execution_count": null,
   "id": "d3f501e1-58d2-4b64-b217-b300b4c03942",
   "metadata": {},
   "outputs": [],
   "source": [
    "<layout xmlns:android=\"http://schemas.android.com/apk/res/android\"\n",
    "    xmlns:app=\"http://schemas.android.com/apk/res-auto\"\n",
    "    xmlns:tools=\"http://schemas.android.com/tools\">\n",
    "\n",
    "    <data>\n",
    "\n",
    "    </data>\n",
    "\n",
    "    <ScrollView\n",
    "    ...\n",
    "    </ScrollView\n",
    "</layout>"
   ]
  },
  {
   "cell_type": "markdown",
   "id": "68298cf1-36b9-464e-b0ed-38f941b9abab",
   "metadata": {},
   "source": [
    "Następnie wstawmy dwie zmienne - `viewModel` oraz `maxNoOfWords`"
   ]
  },
  {
   "cell_type": "code",
   "execution_count": null,
   "id": "62e9dc9e-2f37-4376-8b0b-b5e2b42a48b2",
   "metadata": {},
   "outputs": [],
   "source": [
    "    <data>\n",
    "        <variable\n",
    "            name=\"scrambleViewModel\"\n",
    "            type=\"pl.udu.uwr.pum.databindingbasicsjava.viemodel.ScrambleViewModel\" />\n",
    "\n",
    "        <variable\n",
    "            name=\"maxNoOfWords\"\n",
    "            type=\"int\" />\n",
    "    </data>"
   ]
  },
  {
   "cell_type": "markdown",
   "id": "9f9ea789-7bd2-4d39-bd92-8bb3bab7c9d6",
   "metadata": {},
   "source": [
    "Przejdźmy do klasy `ScrambleFragment` i w pierwszej kolejności w metodzie `onCreateView` zmieńmy źródło `binding`"
   ]
  },
  {
   "cell_type": "code",
   "execution_count": null,
   "id": "0aa425e4-88ba-4c44-8c80-f2dda00db29c",
   "metadata": {},
   "outputs": [],
   "source": [
    "binding = FragmentScrambleBinding.inflate(\n",
    "    inflater, \n",
    "    container, \n",
    "    false); // usunąć\n",
    "\n",
    "binding = DataBindingUtil.inflate(\n",
    "    inflater, \n",
    "    R.layout.fragment_scramble, \n",
    "    container, \n",
    "    false); // dodać"
   ]
  },
  {
   "cell_type": "markdown",
   "id": "4f9b5fd2-4260-44bb-b152-4625fd174344",
   "metadata": {},
   "source": [
    "Następnie usuńmy z metody `onViewVCreated`"
   ]
  },
  {
   "cell_type": "code",
   "execution_count": null,
   "id": "bce2b77a-6acc-4afe-a511-a7038955c7ca",
   "metadata": {},
   "outputs": [],
   "source": [
    "viewModel.getCurrentScrambledWord()\n",
    "    .observe(getViewLifecycleOwner(), newWord ->\n",
    "        binding.textViewUnscrambledWord.setText(newWord));\n",
    "\n",
    "viewModel.getScore()\n",
    "    .observe(getViewLifecycleOwner(), score ->\n",
    "        binding.score.setText(String.valueOf(score)));\n",
    "\n",
    "viewModel.getCurrentWordCount()\n",
    "    .observe(getViewLifecycleOwner(), wordCount ->\n",
    "        binding.wordCount.setText(\n",
    "            getString(\n",
    "                R.string.word_count, \n",
    "                wordCount, \n",
    "                DataProvider.MAX_NO_OF_WORDS)));"
   ]
  },
  {
   "cell_type": "markdown",
   "id": "7e8bd779-8243-4a8f-8dd5-cb1905efb0a2",
   "metadata": {},
   "source": [
    "Te dane ustawimy bezpośrednio w layoucie. Wpierw musimy ustawić zmienne zdefiniowane w pliku `fragment_scramble.xml` - do metody `onViewCreated` dodajemy"
   ]
  },
  {
   "cell_type": "code",
   "execution_count": null,
   "id": "af4806fb-b7ea-4d0b-b2c3-97d46dba1a4b",
   "metadata": {},
   "outputs": [],
   "source": [
    "binding.setScrambleViewModel(viewModel);\n",
    "binding.setMaxNoOfWords(DataProvider.MAX_NO_OF_WORDS);"
   ]
  },
  {
   "cell_type": "markdown",
   "id": "6202b07c-1cfd-4de8-b221-82169fd10ac4",
   "metadata": {},
   "source": [
    "Na końcu metody `onViewCreated` musimy wskazać `LifeCycleOwner`"
   ]
  },
  {
   "cell_type": "code",
   "execution_count": null,
   "id": "896251e5-0a0e-4771-b3bc-5046e3cfc4d8",
   "metadata": {},
   "outputs": [],
   "source": [
    "binding.setLifecycleOwner(getViewLifecycleOwner());"
   ]
  },
  {
   "cell_type": "markdown",
   "id": "9c21030b-160f-4dc1-ac16-82652c9aa667",
   "metadata": {},
   "source": [
    "Możemy teraz dodać wyrażenia wiążące do pól w layoucie fragmentu"
   ]
  },
  {
   "cell_type": "code",
   "execution_count": null,
   "id": "85b64a96-bd7b-4620-a20b-5c9620d82ee2",
   "metadata": {},
   "outputs": [],
   "source": [
    "<TextView\n",
    "    android:id=\"@+id/textView_unscrambled_word\"\n",
    "        ...\n",
    "    android:text=\"@{scrambleViewModel.currentScrambledWord}\" />\n",
    "        \n",
    "<TextView\n",
    "    android:id=\"@+id/word_count\"\n",
    "        ...\n",
    "    android:text=\"@{@string/word_count(scrambleViewModel.currentWordCount, maxNoOfWords)}\" /> \n",
    "<TextView\n",
    "    android:id=\"@+id/score\"\n",
    "        ...\n",
    "    android:text=\"@{@string/score(scrambleViewModel.score)}\" />      "
   ]
  },
  {
   "cell_type": "code",
   "execution_count": null,
   "id": "1d04696b-ecc0-4c22-8e0e-1752b3cedc76",
   "metadata": {},
   "outputs": [],
   "source": []
  }
 ],
 "metadata": {
  "kernelspec": {
   "display_name": "Java",
   "language": "java",
   "name": "java"
  },
  "language_info": {
   "codemirror_mode": "java",
   "file_extension": ".jshell",
   "mimetype": "text/x-java-source",
   "name": "Java",
   "pygments_lexer": "java",
   "version": "17+35-2724"
  }
 },
 "nbformat": 4,
 "nbformat_minor": 5
}
