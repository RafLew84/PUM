{
 "cells": [
  {
   "cell_type": "markdown",
   "id": "1d5fa850-182e-4b49-bfe5-01626a753ce6",
   "metadata": {},
   "source": [
    "## 8.1 ViewModel - podstawy"
   ]
  },
  {
   "cell_type": "markdown",
   "id": "4e021243-9cc3-4216-b70f-8b9b4874ff42",
   "metadata": {},
   "source": [
    "Niniejsza aplikacja posłuży nam do zapoznania się z `ViewModel`, będzie to prosta gra polegająca na odgadywaniu słów - sama aplikacja jak i jej cel pochodzi z oficjalnego codelab ze strony [Android for developers](https://developer.android.com/codelabs/basic-android-kotlin-training-viewmodel)"
   ]
  },
  {
   "cell_type": "markdown",
   "id": "fa5bfae1-00b9-43a7-9bef-1a514dbfdd74",
   "metadata": {},
   "source": [
    "<img src=\"https://media1.giphy.com/media/2ozolRG1R2XcrOUmEF/giphy.gif?cid=790b76119699d290f0f5b74513aa7a0cb8a3ea2eda68b0a3&rid=giphy.gif&ct=g\" width=\"200\" />"
   ]
  },
  {
   "cell_type": "markdown",
   "id": "c5bccebc-b124-47be-b557-aba94b9c04e5",
   "metadata": {},
   "source": [
    "Tą aplikacją rozpoczniemy również zapoznanie się z elementami oraz zasadami architektury aplikacji mobilnych - tutaj zajmiemy się rozdzieleniem interfejsu użytkownika i modelu\n",
    "- `Fragment` - jest odpowiedzialny za wyświetlenie wszystkich elementów interfejsu wraz z powiązanymi z nimi danych na ekranie urządzenia, odpowiada również za reagowanie na zdarzenia interfejsu użytkownika.\n",
    "- `ViewModel` - odpowiedzialny za przechowywanie i przetwarzanie danych niezbędnych dla interfejsu użytkownika"
   ]
  },
  {
   "cell_type": "markdown",
   "id": "8fac6339-ed21-4ebe-a39f-ef2949b121b4",
   "metadata": {},
   "source": [
    "Aplikacja będzie składać się z jednego fragmentu hostowanego przez aktywność, rozpocznijmy od layoutu aktywności"
   ]
  },
  {
   "cell_type": "code",
   "execution_count": null,
   "id": "8997ab8b-53b0-46b1-bf45-2a4f75e8ed65",
   "metadata": {},
   "outputs": [],
   "source": [
    "<?xml version=\"1.0\" encoding=\"utf-8\"?>\n",
    "<androidx.constraintlayout.widget.ConstraintLayout \n",
    "xmlns:android=\"http://schemas.android.com/apk/res/android\"\n",
    "    xmlns:app=\"http://schemas.android.com/apk/res-auto\"\n",
    "    xmlns:tools=\"http://schemas.android.com/tools\"\n",
    "    android:layout_width=\"match_parent\"\n",
    "    android:layout_height=\"match_parent\"\n",
    "    tools:context=\".MainActivity\">\n",
    "\n",
    "    <androidx.fragment.app.FragmentContainerView\n",
    "        android:id=\"@+id/game_fragment\"\n",
    "        android:name=\"pl.udu.uwr.pum.viewmodelbasicsjava.ScrambleFragment\"\n",
    "        android:layout_width=\"0dp\"\n",
    "        android:layout_height=\"0dp\"\n",
    "        app:layout_constraintLeft_toLeftOf=\"parent\"\n",
    "        app:layout_constraintRight_toRightOf=\"parent\"\n",
    "        app:layout_constraintTop_toTopOf=\"parent\"\n",
    "        app:layout_constraintBottom_toBottomOf=\"parent\" />\n",
    "\n",
    "</androidx.constraintlayout.widget.ConstraintLayout>"
   ]
  },
  {
   "cell_type": "markdown",
   "id": "72e4dd83-2c89-4de4-8066-2479b25e4465",
   "metadata": {},
   "source": [
    "Dodajmy również layout fragmentu"
   ]
  },
  {
   "cell_type": "code",
   "execution_count": null,
   "id": "765b1318-a336-4c3e-b452-4bb1f01782fb",
   "metadata": {},
   "outputs": [],
   "source": [
    "<?xml version=\"1.0\" encoding=\"utf-8\"?>\n",
    "<ScrollView xmlns:android=\"http://schemas.android.com/apk/res/android\"\n",
    "    xmlns:app=\"http://schemas.android.com/apk/res-auto\"\n",
    "    xmlns:tools=\"http://schemas.android.com/tools\"\n",
    "    android:layout_width=\"match_parent\"\n",
    "    android:layout_height=\"match_parent\">\n",
    "\n",
    "    <androidx.constraintlayout.widget.ConstraintLayout\n",
    "        android:layout_width=\"match_parent\"\n",
    "        android:layout_height=\"wrap_content\"\n",
    "        android:padding=\"@dimen/default_padding\"\n",
    "        tools:context=\".ui.game.GameFragment\">\n",
    "\n",
    "        <Button\n",
    "            android:id=\"@+id/skip\"\n",
    "            style=\"?attr/materialButtonOutlinedStyle\"\n",
    "            android:layout_width=\"0dp\"\n",
    "            android:layout_height=\"wrap_content\"\n",
    "            android:layout_marginStart=\"@dimen/default_padding\"\n",
    "            android:layout_marginEnd=\"@dimen/default_padding\"\n",
    "            android:text=\"@string/skip\"\n",
    "            app:layout_constraintBaseline_toBaselineOf=\"@+id/submit\"\n",
    "            app:layout_constraintEnd_toStartOf=\"@+id/submit\"\n",
    "            app:layout_constraintStart_toStartOf=\"parent\" />\n",
    "\n",
    "        <Button\n",
    "            android:id=\"@+id/submit\"\n",
    "            android:layout_width=\"0dp\"\n",
    "            android:layout_height=\"wrap_content\"\n",
    "            android:layout_marginTop=\"@dimen/default_margin\"\n",
    "            android:text=\"@string/submit\"\n",
    "            app:layout_constraintEnd_toEndOf=\"parent\"\n",
    "            app:layout_constraintStart_toEndOf=\"@+id/skip\"\n",
    "            app:layout_constraintTop_toBottomOf=\"@+id/textField\" />\n",
    "\n",
    "        <TextView\n",
    "            android:id=\"@+id/textView_instructions\"\n",
    "            android:layout_width=\"wrap_content\"\n",
    "            android:layout_height=\"wrap_content\"\n",
    "            android:text=\"@string/instructions\"\n",
    "            android:textSize=\"17sp\"\n",
    "            app:layout_constraintBottom_toTopOf=\"@+id/textField\"\n",
    "            app:layout_constraintEnd_toEndOf=\"parent\"\n",
    "            app:layout_constraintStart_toStartOf=\"parent\"\n",
    "            app:layout_constraintTop_toBottomOf=\"@+id/textView_unscrambled_word\" />\n",
    "\n",
    "        <TextView\n",
    "            android:id=\"@+id/textView_unscrambled_word\"\n",
    "            android:layout_width=\"wrap_content\"\n",
    "            android:layout_height=\"wrap_content\"\n",
    "            android:layout_marginTop=\"@dimen/default_margin\"\n",
    "            android:layout_marginBottom=\"@dimen/default_margin\"\n",
    "            android:textAppearance=\"@style/TextAppearance.MaterialComponents.Headline3\"\n",
    "            app:layout_constraintBottom_toTopOf=\"@+id/textView_instructions\"\n",
    "            app:layout_constraintEnd_toEndOf=\"parent\"\n",
    "            app:layout_constraintStart_toStartOf=\"parent\"\n",
    "            app:layout_constraintTop_toBottomOf=\"@+id/word_count\"\n",
    "            tools:text=\"Scramble word\" />\n",
    "\n",
    "        <TextView\n",
    "            android:id=\"@+id/word_count\"\n",
    "            android:layout_width=\"wrap_content\"\n",
    "            android:layout_height=\"wrap_content\"\n",
    "            android:text=\"@string/word_count\"\n",
    "            android:textAppearance=\"@style/TextAppearance.MaterialComponents.Headline6\"\n",
    "            app:layout_constraintBottom_toTopOf=\"@+id/textView_unscrambled_word\"\n",
    "            app:layout_constraintStart_toStartOf=\"parent\"\n",
    "            app:layout_constraintTop_toTopOf=\"parent\"\n",
    "            tools:text=\"3 of 10 words\" />\n",
    "\n",
    "        <TextView\n",
    "            android:id=\"@+id/score\"\n",
    "            android:layout_width=\"wrap_content\"\n",
    "            android:layout_height=\"wrap_content\"\n",
    "            android:text=\"@string/score\"\n",
    "            android:textAllCaps=\"true\"\n",
    "            android:textAppearance=\"@style/TextAppearance.MaterialComponents.Headline6\"\n",
    "            app:layout_constraintEnd_toEndOf=\"parent\"\n",
    "            app:layout_constraintTop_toTopOf=\"parent\"\n",
    "            tools:text=\"Score: 20\" />\n",
    "\n",
    "        <com.google.android.material.textfield.TextInputLayout\n",
    "            android:id=\"@+id/textField\"\n",
    "            style=\"@style/Widget.ViewModelBasicsKotlin.TextInputLayout.OutlinedBox\"\n",
    "            android:layout_width=\"0dp\"\n",
    "            android:layout_height=\"wrap_content\"\n",
    "            android:layout_marginTop=\"@dimen/default_margin\"\n",
    "            android:hint=\"@string/enter_your_word\"\n",
    "            app:errorIconDrawable=\"@drawable/ic_error\"\n",
    "            app:helperTextTextAppearance=\"@style/TextAppearance.MaterialComponents.Subtitle1\"\n",
    "            app:layout_constraintBottom_toTopOf=\"@+id/submit\"\n",
    "            app:layout_constraintEnd_toEndOf=\"parent\"\n",
    "            app:layout_constraintStart_toStartOf=\"parent\"\n",
    "            app:layout_constraintTop_toBottomOf=\"@+id/textView_instructions\">\n",
    "\n",
    "            <com.google.android.material.textfield.TextInputEditText\n",
    "                android:id=\"@+id/text_input_edit_text\"\n",
    "                android:layout_width=\"match_parent\"\n",
    "                android:layout_height=\"match_parent\"\n",
    "                android:inputType=\"textPersonName|textNoSuggestions\"\n",
    "                android:maxLines=\"1\" />\n",
    "        </com.google.android.material.textfield.TextInputLayout>\n",
    "\n",
    "    </androidx.constraintlayout.widget.ConstraintLayout>\n",
    "</ScrollView>"
   ]
  },
  {
   "cell_type": "markdown",
   "id": "f483e172-f37e-4480-b33c-16cf50c188a2",
   "metadata": {},
   "source": [
    "Standardowo, jeszcze w tym przykładzie, wykorzystamy `DataProvider` do wystawienia danych"
   ]
  },
  {
   "cell_type": "code",
   "execution_count": null,
   "id": "3c65cd95-c8b7-4d17-850f-c361536706a9",
   "metadata": {},
   "outputs": [],
   "source": [
    "public final class DataProvider {\n",
    "    private DataProvider(){}\n",
    "\n",
    "    public static final int MAX_NO_OF_WORDS = 10; // maksymalna liczba słów w grze\n",
    "    public static final int SCORE_INCREASE = 20; // liczba punktów za poprawne odgadnięcie słowa\n",
    "\n",
    "    private static final String[] words = {\n",
    "            \"animal\",\n",
    "            \"auto\",\n",
    "            ...\n",
    "            // prłna lista słów znajduje się na\n",
    "            // końcu notatnika\n",
    "    };\n",
    "\n",
    "    public static ArrayList<String> allWordsList = new ArrayList<>(Arrays.asList(words));\n",
    "}"
   ]
  },
  {
   "cell_type": "markdown",
   "id": "6c319f65-e302-48fa-9357-7efcca4e27e5",
   "metadata": {},
   "source": [
    "### **ViewModel**"
   ]
  },
  {
   "cell_type": "markdown",
   "id": "ee1be40c-8219-41c8-b950-f1f5d8747668",
   "metadata": {},
   "source": [
    "Aby skorzystać z `ViewModel` musimy dodać odpowiednią zależność"
   ]
  },
  {
   "cell_type": "code",
   "execution_count": null,
   "id": "5e46158f-bfc4-4dab-abe3-89cfff236ce2",
   "metadata": {},
   "outputs": [],
   "source": [
    "implementation 'androidx.lifecycle:lifecycle-viewmodel:2.5.1'"
   ]
  },
  {
   "cell_type": "markdown",
   "id": "8e51f564-6f41-4ee8-8316-242c8a56bdce",
   "metadata": {},
   "source": [
    "Utwórzmy klasę `ScrambleViewModel`, która musi rozszerzać klasę `ViewModel`"
   ]
  },
  {
   "cell_type": "code",
   "execution_count": 2,
   "id": "6f6d04dd-0da7-49c8-b005-2597328316b3",
   "metadata": {},
   "outputs": [],
   "source": [
    "public class ScrambleViewModel extends ViewModel {}"
   ]
  },
  {
   "cell_type": "markdown",
   "id": "8c5812d9-bbc5-4c2d-9b57-6eac2569cd66",
   "metadata": {},
   "source": [
    "Nasza gra polega na odgadywaniu słów na podstawie podanych liter - dodajmy kilka pól\n",
    "- `currentWordCount` - przechowuje numer aktualnego słowa w grze\n",
    "- `score`- liczba punktów\n",
    "- `currentWord` - aktualne słowo do odgadnięcia\n",
    "- `usedWordList` - słowa które już pojawiły się w grze\n",
    "- `currentScrambledWord` - wszystkie litery aktualnego słowa w kolejności losowej"
   ]
  },
  {
   "cell_type": "code",
   "execution_count": null,
   "id": "15d11d76-8fb8-4063-9430-7fec84835a62",
   "metadata": {},
   "outputs": [],
   "source": [
    "    private int currentWordCount = 0;\n",
    "    private int score = 0;\n",
    "    private String currentWord;\n",
    "    private final ArrayList<String> usedWordsList = new ArrayList<>();\n",
    "    private String currentScrambledWord;"
   ]
  },
  {
   "cell_type": "markdown",
   "id": "ef2e8449-8a30-47a1-a7aa-77a697a3afb6",
   "metadata": {},
   "source": [
    "Dodajmy gettery"
   ]
  },
  {
   "cell_type": "code",
   "execution_count": null,
   "id": "92b6b153-9f27-4f44-a174-1fff1d58ef9b",
   "metadata": {},
   "outputs": [],
   "source": [
    "    public int getScore() {\n",
    "        return score;\n",
    "    }\n",
    "\n",
    "    public String getCurrentScrambledWord() {\n",
    "        return currentScrambledWord;\n",
    "    }"
   ]
  },
  {
   "cell_type": "markdown",
   "id": "17c647d3-a8eb-431b-8e99-c7b997ed9c17",
   "metadata": {},
   "source": [
    "Pierwszą metodą będzie `increaseScore` zwiększająca liczbę punktów o ilość zdefiniowaną w `DataProvider`"
   ]
  },
  {
   "cell_type": "code",
   "execution_count": null,
   "id": "ee53204a-01ad-4fb0-9d39-9e12923fef57",
   "metadata": {},
   "outputs": [],
   "source": [
    "    private void increaseScore() {\n",
    "        score += DataProvider.SCORE_INCREASE;\n",
    "    }"
   ]
  },
  {
   "cell_type": "markdown",
   "id": "a2e7adc7-423c-4ea8-bf66-cc65bc73e2e7",
   "metadata": {},
   "source": [
    "Następnie zaimplementujmy `getNextWord` przypisującą do zmiennych `currentWord` i `currentScrambledWord` wylosowane słowo"
   ]
  },
  {
   "cell_type": "markdown",
   "id": "fbd71c43-e494-4eaa-9dc1-d9ec4492810d",
   "metadata": {},
   "source": [
    "W pierwszym kroku losujemy słowo z listy"
   ]
  },
  {
   "cell_type": "code",
   "execution_count": null,
   "id": "2cb68839-0d66-42fe-9932-d8f5a6084dbd",
   "metadata": {},
   "outputs": [],
   "source": [
    "Random rand = new Random();\n",
    "currentWord = DataProvider.allWordsList.get(rand.nextInt(DataProvider.allWordsList.size()));"
   ]
  },
  {
   "cell_type": "markdown",
   "id": "cb34306c-6fb0-4fde-b062-3a869bf55b0a",
   "metadata": {},
   "source": [
    "Następnie zamieniamy losowo litery i sprawdzamy czy po zmianie nie otrzymaliśmy tego samego słowa"
   ]
  },
  {
   "cell_type": "code",
   "execution_count": null,
   "id": "7c7445ed-d11e-4e85-b97d-e1e9071452a8",
   "metadata": {},
   "outputs": [],
   "source": [
    "while (String.valueOf(tempWord).equals(currentWord)){\n",
    "    for (int i = tempWord.length - 1; i > 0; i--){\n",
    "        int j = (int) (Math.random() * (i + 1));\n",
    "\n",
    "        char temp = tempWord[i];\n",
    "        tempWord[i] = tempWord[j];\n",
    "        tempWord[j] = temp;\n",
    "    }\n",
    "}"
   ]
  },
  {
   "cell_type": "markdown",
   "id": "b6dd7b0b-95bd-408b-9232-4596a2ef2239",
   "metadata": {},
   "source": [
    "Jeżeli wylosowane słowo znajduje się na liście już wykorzystanych słów, losujemy ponownie"
   ]
  },
  {
   "cell_type": "code",
   "execution_count": null,
   "id": "bb982893-6564-4a49-b833-2f3aaf1b8c70",
   "metadata": {},
   "outputs": [],
   "source": [
    "if (usedWordsList.contains(currentWord)) getNextWord();"
   ]
  },
  {
   "cell_type": "markdown",
   "id": "bcdde3a8-7d19-4b19-af02-cba3412be628",
   "metadata": {},
   "source": [
    "W przeciwnym wypadku pozbywamy się zbędnych elementów, zwiększamy licznik słów i dodajemy wylosowane słowo na listę już użytych"
   ]
  },
  {
   "cell_type": "code",
   "execution_count": null,
   "id": "52f4bef3-68d7-4ccd-8569-ba4a957a4da7",
   "metadata": {},
   "outputs": [],
   "source": [
    "else {\n",
    "    currentScrambledWord = Arrays.toString(tempWord)\n",
    "            .replace(\",\", \"\")\n",
    "            .replace(\"[\", \"\")\n",
    "            .replace(\"]\", \"\")\n",
    "            .replace(\" \", \"\")\n",
    "            .trim();\n",
    "    ++currentWordCount;\n",
    "    usedWordsList.add(currentWord);\n",
    "}"
   ]
  },
  {
   "cell_type": "markdown",
   "id": "bdd39e95-ae3f-44d6-95d9-d64740d9be8c",
   "metadata": {},
   "source": [
    "Pełna metoda `getNextWord`"
   ]
  },
  {
   "cell_type": "code",
   "execution_count": null,
   "id": "af67ab66-1d1e-4476-86a0-e835d899997d",
   "metadata": {},
   "outputs": [],
   "source": [
    "    private void getNextWord() {\n",
    "        Random rand = new Random();\n",
    "        currentWord = DataProvider.allWordsList.get(rand.nextInt(DataProvider.allWordsList.size()));;\n",
    "        char[] tempWord = currentWord.toCharArray();\n",
    "        if (usedWordsList.contains(currentWord)) getNextWord();\n",
    "        else {\n",
    "            do{\n",
    "                for (int i = tempWord.length - 1; i > 0; i--){\n",
    "                    int j = (int) (Math.random() * (i + 1));\n",
    "\n",
    "                    char temp = tempWord[i];\n",
    "                    tempWord[i] = tempWord[j];\n",
    "                    tempWord[j] = temp;\n",
    "                }\n",
    "            }while (String.valueOf(tempWord).equals(currentWord));\n",
    "            currentScrambledWord = Arrays.toString(tempWord)\n",
    "                    .replace(\",\", \"\")\n",
    "                    .replace(\"[\", \"\")\n",
    "                    .replace(\"]\", \"\")\n",
    "                    .replace(\" \", \"\")\n",
    "                    .trim();\n",
    "            ++currentWordCount;\n",
    "            usedWordsList.add(currentWord);\n",
    "        }\n",
    "    }"
   ]
  },
  {
   "cell_type": "markdown",
   "id": "71b2ad51-8d99-4eab-b649-a2e0ce2fad17",
   "metadata": {},
   "source": [
    "Przejdźmy do metod publicznych \n",
    "- metoda resetująca wszystkie dane"
   ]
  },
  {
   "cell_type": "code",
   "execution_count": null,
   "id": "bc912348-801a-4777-8113-1ee3c2946a41",
   "metadata": {},
   "outputs": [],
   "source": [
    "    public void reinitializeData() {\n",
    "        score = 0;\n",
    "        currentWordCount = 0;\n",
    "        usedWordsList.clear();\n",
    "        getNextWord();\n",
    "    }"
   ]
  },
  {
   "cell_type": "markdown",
   "id": "8f9cdfb4-f340-4a7b-b0ce-75fb38b3c45a",
   "metadata": {},
   "source": [
    "- metoda w której sprawdzimy słowo podane przez użytkownika"
   ]
  },
  {
   "cell_type": "code",
   "execution_count": null,
   "id": "11842704-8446-4234-b9b5-4cb4b22411ff",
   "metadata": {},
   "outputs": [],
   "source": [
    "    public boolean isUserWordCorrect(String playerWord) {\n",
    "        if (playerWord.equals(currentWord)) {\n",
    "            increaseScore();\n",
    "            return true;\n",
    "        }\n",
    "        return false;\n",
    "    }"
   ]
  },
  {
   "cell_type": "markdown",
   "id": "b4527bd2-e76e-4211-b9c2-c19c2951a91b",
   "metadata": {},
   "source": [
    "- metoda sprawdzająca czy nie przekraczamy maksymalnej liczby słów"
   ]
  },
  {
   "cell_type": "code",
   "execution_count": null,
   "id": "20a0abea-0da1-4450-81ea-a2298ab5f327",
   "metadata": {},
   "outputs": [],
   "source": [
    "    public boolean nextWord() {\n",
    "        if (currentWordCount < DataProvider.MAX_NO_OF_WORDS) {\n",
    "            getNextWord();\n",
    "            return true;\n",
    "        }\n",
    "        return false;\n",
    "    }"
   ]
  },
  {
   "cell_type": "markdown",
   "id": "3b0d602f-3ae3-4c55-a024-fdb2c3a2b54c",
   "metadata": {},
   "source": [
    "Na koniec dodajmy konstruktor w którym zainicjujemy zmienne"
   ]
  },
  {
   "cell_type": "code",
   "execution_count": null,
   "id": "4c7387f9-aa14-4a9c-b20e-bcc95be02257",
   "metadata": {},
   "outputs": [],
   "source": [
    "    public ScrambleViewModel () {\n",
    "        super();\n",
    "        getNextWord();\n",
    "    }"
   ]
  },
  {
   "cell_type": "markdown",
   "id": "cd9eb533-ff39-4a47-8f7f-6874662195b2",
   "metadata": {},
   "source": [
    "### **Fragment**"
   ]
  },
  {
   "cell_type": "markdown",
   "id": "f1c2e114-4f0b-4502-b0fd-a2a7ff2b0a2d",
   "metadata": {},
   "source": [
    "Fragment rozpocznijmy od dodania `ViewModel` w metodzie `onCreate`"
   ]
  },
  {
   "cell_type": "code",
   "execution_count": null,
   "id": "ea424913-2f50-4669-9a3b-919e03bce2f1",
   "metadata": {},
   "outputs": [],
   "source": [
    "    @Override\n",
    "    public void onCreate(@Nullable Bundle savedInstanceState) {\n",
    "        super.onCreate(savedInstanceState);\n",
    "        viewModel = new ViewModelProvider(this).get(ScrambleViewModel.class);\n",
    "    }"
   ]
  },
  {
   "cell_type": "markdown",
   "id": "1fae063c-af34-4d1d-8567-2d1c6ba3bfb7",
   "metadata": {},
   "source": [
    "Klasa `ViewModelProvider` (niejawnie) żąda (za pomocą metody `get`) od `ViewModelStore` zwrócenia instancji klasy `ViewModel` jeżeli istnieje, lub utworzyć nową w przeciwnym przypadku. Argumentem kontruktora jest `ViewModelStoreOwner`, którym może być aktywność lub fragment. Metoda `get` przyjmuje jako argument `ViewModel` który zostaje klasą modelową. Utworzony `ViewModel` jest powiązany z cyklem życia `ViewModelStoreOwner` (tutaj jest to `ScrambleFragment`) i jest utrzymywany tak długo jak istnieje powiązany `owner` - czyli dopóki aktywność/fragment jest w cyklu życia jak i sama aplikacja."
   ]
  },
  {
   "cell_type": "markdown",
   "id": "019cbf5e-84a5-4757-b310-221429ad4499",
   "metadata": {},
   "source": [
    "Do metody `onViewCreated` dodajmy obsługę zdarzeń i ustawmy elementy UI"
   ]
  },
  {
   "cell_type": "code",
   "execution_count": null,
   "id": "ea38203d-f8cb-4470-8e60-5cdfda6673e2",
   "metadata": {},
   "outputs": [],
   "source": [
    "    @Override\n",
    "    public void onViewCreated(@NonNull View view, Bundle savedInstanceState) {\n",
    "        super.onViewCreated(view, savedInstanceState);\n",
    "\n",
    "        binding.submit.setOnClickListener(v -> onSubmitWord());\n",
    "        binding.skip.setOnClickListener(v -> onSkipWord());\n",
    "\n",
    "        updateNextWordOnScreen();\n",
    "        binding.score.setText(getString(R.string.score, 0));\n",
    "        binding.wordCount.setText(getString(\n",
    "                R.string.word_count, 0, DataProvider.MAX_NO_OF_WORDS));\n",
    "    }"
   ]
  },
  {
   "cell_type": "markdown",
   "id": "e0099bde-06be-4f1a-8260-c47cd6cf5a49",
   "metadata": {},
   "source": [
    "Zwróćmy uwagę na metodę `getString`, oprócz `id` zasobu z pliku `strings.xml` przyjmuje on dodatkowe argumenty oznaczające parametry samego łańcucha znaków. Przykładowo, posiadając zdefiniowany zasób"
   ]
  },
  {
   "cell_type": "code",
   "execution_count": null,
   "id": "57e1bea6-3c4e-4cb3-a2e5-6bf8972a971d",
   "metadata": {},
   "outputs": [],
   "source": [
    "<string name=\"score\">Score: %d</string>"
   ]
  },
  {
   "cell_type": "markdown",
   "id": "9e550304-b822-4afc-ad90-ac5e301f6e26",
   "metadata": {},
   "source": [
    "przyjmuje on jeden parametr"
   ]
  },
  {
   "cell_type": "code",
   "execution_count": null,
   "id": "6fc27dd9-4d2d-4f03-8bab-f834c02e7fc9",
   "metadata": {},
   "outputs": [],
   "source": [
    "getString(R.string.score, 0);"
   ]
  },
  {
   "cell_type": "markdown",
   "id": "9970516f-999e-4642-97d7-c7bbf755a273",
   "metadata": {},
   "source": [
    "Dodajmy kilka metod\n",
    "- koniec gry"
   ]
  },
  {
   "cell_type": "code",
   "execution_count": null,
   "id": "386c0353-8f3b-48d4-8cbd-e2f9943c4de5",
   "metadata": {},
   "outputs": [],
   "source": [
    "    private void exitGame() {\n",
    "        if (getActivity() != null)\n",
    "            getActivity().finish();\n",
    "    }"
   ]
  },
  {
   "cell_type": "markdown",
   "id": "0018ca2a-f813-4e14-ab6f-005ea762b5e7",
   "metadata": {},
   "source": [
    "- ustawienie pól błędu dla `TextInputLayout` i `TextInputEditText`"
   ]
  },
  {
   "cell_type": "code",
   "execution_count": null,
   "id": "03de50aa-9bb6-4b7f-8701-f237e831d02e",
   "metadata": {},
   "outputs": [],
   "source": [
    "    private void setErrorTextField(boolean error) {\n",
    "        if (error) {\n",
    "            binding.textField.setErrorEnabled(true);\n",
    "            binding.textField.setError(getString(R.string.try_again));\n",
    "        } else {\n",
    "            binding.textField.setErrorEnabled(false);\n",
    "            binding.textInputEditText.setText(null);\n",
    "        }\n",
    "    }"
   ]
  },
  {
   "cell_type": "markdown",
   "id": "cbe7feb8-bdf2-49aa-b998-fbf96b1796dd",
   "metadata": {},
   "source": [
    "- aktualizacja aktualnie wyświetlanego słowa"
   ]
  },
  {
   "cell_type": "code",
   "execution_count": null,
   "id": "44a869f5-7b05-44a8-8321-ebeba39dc6ed",
   "metadata": {},
   "outputs": [],
   "source": [
    "    private void updateNextWordOnScreen() {\n",
    "        binding.textViewUnscrambledWord.setText(viewModel.getCurrentScrambledWord());\n",
    "    }"
   ]
  },
  {
   "cell_type": "markdown",
   "id": "456326ac-0a76-4514-ba22-eb56a5baad06",
   "metadata": {},
   "source": [
    "- restart gry"
   ]
  },
  {
   "cell_type": "code",
   "execution_count": null,
   "id": "65535b9d-e39f-47ce-b576-1f62cb30673b",
   "metadata": {},
   "outputs": [],
   "source": [
    "    private void restartGame() {\n",
    "        viewModel.reinitializeData();\n",
    "        setErrorTextField(false);\n",
    "        updateNextWordOnScreen();\n",
    "    }"
   ]
  },
  {
   "cell_type": "markdown",
   "id": "cda014ac-2dc8-4ccd-879b-7c7b8affb696",
   "metadata": {},
   "source": [
    "- wyświetlenie finalnego wyniku"
   ]
  },
  {
   "cell_type": "code",
   "execution_count": null,
   "id": "89ea69b7-4fa3-41f2-a28f-198df6ccf726",
   "metadata": {},
   "outputs": [],
   "source": [
    "    private void showFinalScoreDialog() {\n",
    "        new MaterialAlertDialogBuilder(requireContext())\n",
    "                .setTitle(getString(R.string.congratulations))\n",
    "                .setMessage(getString(R.string.you_scored, viewModel.getScore()))\n",
    "                .setCancelable(false)\n",
    "                .setNegativeButton(getString(R.string.exit), (dialog, which) -> exitGame())\n",
    "            .setPositiveButton(getString(R.string.play_again), (dialog, which) -> restartGame())\n",
    "            .show();\n",
    "    }"
   ]
  },
  {
   "cell_type": "markdown",
   "id": "eb2f3eff-eb3f-4f84-ae34-3c5f95b495df",
   "metadata": {},
   "source": [
    "- zatwierdzenie wpisanego słowa przez użytkownika"
   ]
  },
  {
   "cell_type": "code",
   "execution_count": null,
   "id": "ba4ec2c9-a271-4600-bf82-87d708df0a31",
   "metadata": {},
   "outputs": [],
   "source": [
    "    private void onSubmitWord() {\n",
    "        String playerWord = \"\";\n",
    "        if (binding.textInputEditText.getText() != null)\n",
    "            playerWord = binding.textInputEditText.getText().toString();\n",
    "\n",
    "        if (viewModel.isUserWordCorrect(playerWord)) {\n",
    "            setErrorTextField(false);\n",
    "            if (viewModel.nextWord()) updateNextWordOnScreen();\n",
    "            else showFinalScoreDialog();\n",
    "        } else setErrorTextField(true);\n",
    "    }"
   ]
  },
  {
   "cell_type": "markdown",
   "id": "585e990a-544f-4a95-87a2-785ee2ed548b",
   "metadata": {},
   "source": [
    "- ominięcie słowa"
   ]
  },
  {
   "cell_type": "code",
   "execution_count": null,
   "id": "c1b188b8-835b-4afb-bcc8-07c25435c112",
   "metadata": {},
   "outputs": [],
   "source": [
    "    private void onSkipWord() {\n",
    "        if (viewModel.nextWord()) {\n",
    "            setErrorTextField(false);\n",
    "            updateNextWordOnScreen();\n",
    "        } else showFinalScoreDialog();\n",
    "    }"
   ]
  },
  {
   "cell_type": "markdown",
   "id": "d497d76c-9b49-4f52-bb27-a5ae6fdfb4c4",
   "metadata": {},
   "source": [
    "Ten przykład w tym miejscu przerwiemy - w następnym notatniku dodamy `LiveData` i `DataBinding` do aplikacji.\n",
    "\n",
    "Zwróćmy uwagę na kilka szczegółów\n",
    "- Dążymy do rozdzielenia klas posiadających różne obowiązki\n",
    "- `ScrambleFragment` odpowiada **tylko** za zarządzanie interfejsem i interakcją z użytkownikiem - **nie jest** źródłem danych które są podawane na ekran urządzenia\n",
    "- `ScrambleViewModel` odpowiada za przechowanie i zarządzanie danymi, które są wymagane dla ui"
   ]
  },
  {
   "cell_type": "markdown",
   "id": "d6a1802d-ab98-4766-adf9-c08e6c5c8435",
   "metadata": {},
   "source": [
    "Możemy przetestować aplikację"
   ]
  },
  {
   "cell_type": "markdown",
   "id": "6911c4d5-1540-4c1d-8f25-dbb168767416",
   "metadata": {},
   "source": [
    "<img src=\"https://media1.giphy.com/media/2ozolRG1R2XcrOUmEF/giphy.gif?cid=790b76119699d290f0f5b74513aa7a0cb8a3ea2eda68b0a3&rid=giphy.gif&ct=g\" width=\"150\" />"
   ]
  },
  {
   "cell_type": "code",
   "execution_count": null,
   "id": "d24d3a30-8e9e-45f4-b1a5-1c1615e92b61",
   "metadata": {},
   "outputs": [],
   "source": [
    "    private static final String[] words = {\n",
    "            \"animal\",\n",
    "            \"auto\",\n",
    "            \"anecdote\",\n",
    "            \"alphabet\",\n",
    "            \"all\",\n",
    "            \"awesome\",\n",
    "            \"arise\",\n",
    "            \"balloon\",\n",
    "            \"basket\",\n",
    "            \"bench\",\n",
    "            \"best\",\n",
    "            \"birthday\",\n",
    "            \"book\",\n",
    "            \"briefcase\",\n",
    "            \"camera\",\n",
    "            \"camping\",\n",
    "            \"candle\",\n",
    "            \"cat\",\n",
    "            \"cauliflower\",\n",
    "            \"chat\",\n",
    "            \"children\",\n",
    "            \"class\",\n",
    "            \"classic\",\n",
    "            \"classroom\",\n",
    "            \"coffee\",\n",
    "            \"colorful\",\n",
    "            \"cookie\",\n",
    "            \"creative\",\n",
    "            \"cruise\",\n",
    "            \"dance\",\n",
    "            \"daytime\",\n",
    "            \"dinosaur\",\n",
    "            \"doorknob\",\n",
    "            \"dine\",\n",
    "            \"dream\",\n",
    "            \"dusk\",\n",
    "            \"eating\",\n",
    "            \"elephant\",\n",
    "            \"emerald\",\n",
    "            \"eerie\",\n",
    "            \"electric\",\n",
    "            \"finish\",\n",
    "            \"flowers\",\n",
    "            \"follow\",\n",
    "            \"fox\",\n",
    "            \"frame\",\n",
    "            \"free\",\n",
    "            \"frequent\",\n",
    "            \"funnel\",\n",
    "            \"green\",\n",
    "            \"guitar\",\n",
    "            \"grocery\",\n",
    "            \"glass\",\n",
    "            \"great\",\n",
    "            \"giggle\",\n",
    "            \"haircut\",\n",
    "            \"half\",\n",
    "            \"homemade\",\n",
    "            \"happen\",\n",
    "            \"honey\",\n",
    "            \"hurry\",\n",
    "            \"hundred\",\n",
    "            \"ice\",\n",
    "            \"igloo\",\n",
    "            \"invest\",\n",
    "            \"invite\",\n",
    "            \"icon\",\n",
    "            \"introduce\",\n",
    "            \"joke\",\n",
    "            \"jovial\",\n",
    "            \"journal\",\n",
    "            \"jump\",\n",
    "            \"join\",\n",
    "            \"kangaroo\",\n",
    "            \"keyboard\",\n",
    "            \"kitchen\",\n",
    "            \"koala\",\n",
    "            \"kind\",\n",
    "            \"kaleidoscope\",\n",
    "            \"landscape\",\n",
    "            \"late\",\n",
    "            \"laugh\",\n",
    "            \"learning\",\n",
    "            \"lemon\",\n",
    "            \"letter\",\n",
    "            \"lily\",\n",
    "            \"magazine\",\n",
    "            \"marine\",\n",
    "            \"marshmallow\",\n",
    "            \"maze\",\n",
    "            \"meditate\",\n",
    "            \"melody\",\n",
    "            \"minute\",\n",
    "            \"monument\",\n",
    "            \"moon\",\n",
    "            \"motorcycle\",\n",
    "            \"mountain\",\n",
    "            \"music\",\n",
    "            \"north\",\n",
    "            \"nose\",\n",
    "            \"night\",\n",
    "            \"name\",\n",
    "            \"never\",\n",
    "            \"negotiate\",\n",
    "            \"number\",\n",
    "            \"opposite\",\n",
    "            \"octopus\",\n",
    "            \"oak\",\n",
    "            \"order\",\n",
    "            \"open\",\n",
    "            \"polar\",\n",
    "            \"pack\",\n",
    "            \"painting\",\n",
    "            \"person\",\n",
    "            \"picnic\",\n",
    "            \"pillow\",\n",
    "            \"pizza\",\n",
    "            \"podcast\",\n",
    "            \"presentation\",\n",
    "            \"puppy\",\n",
    "            \"puzzle\",\n",
    "            \"recipe\",\n",
    "            \"release\",\n",
    "            \"restaurant\",\n",
    "            \"revolve\",\n",
    "            \"rewind\",\n",
    "            \"room\",\n",
    "            \"run\",\n",
    "            \"secret\",\n",
    "            \"seed\",\n",
    "            \"ship\",\n",
    "            \"shirt\",\n",
    "            \"should\",\n",
    "            \"small\",\n",
    "            \"spaceship\",\n",
    "            \"stargazing\",\n",
    "            \"skill\",\n",
    "            \"street\",\n",
    "            \"style\",\n",
    "            \"sunrise\",\n",
    "            \"taxi\",\n",
    "            \"tidy\",\n",
    "            \"timer\",\n",
    "            \"together\",\n",
    "            \"tooth\",\n",
    "            \"tourist\",\n",
    "            \"travel\",\n",
    "            \"truck\",\n",
    "            \"under\",\n",
    "            \"useful\",\n",
    "            \"unicorn\",\n",
    "            \"unique\",\n",
    "            \"uplift\",\n",
    "            \"uniform\",\n",
    "            \"vase\",\n",
    "            \"violin\",\n",
    "            \"visitor\",\n",
    "            \"vision\",\n",
    "            \"volume\",\n",
    "            \"view\",\n",
    "            \"walrus\",\n",
    "            \"wander\",\n",
    "            \"world\",\n",
    "            \"winter\",\n",
    "            \"well\",\n",
    "            \"whirlwind\",\n",
    "            \"x-ray\",\n",
    "            \"xylophone\",\n",
    "            \"yoga\",\n",
    "            \"yogurt\",\n",
    "            \"yoyo\",\n",
    "            \"you\",\n",
    "            \"year\",\n",
    "            \"yummy\",\n",
    "            \"zebra\",\n",
    "            \"zigzag\",\n",
    "            \"zoology\",\n",
    "            \"zone\",\n",
    "            \"zeal\"\n",
    "    };"
   ]
  }
 ],
 "metadata": {
  "kernelspec": {
   "display_name": "Java",
   "language": "java",
   "name": "java"
  },
  "language_info": {
   "codemirror_mode": "java",
   "file_extension": ".jshell",
   "mimetype": "text/x-java-source",
   "name": "Java",
   "pygments_lexer": "java",
   "version": "17+35-2724"
  }
 },
 "nbformat": 4,
 "nbformat_minor": 5
}
