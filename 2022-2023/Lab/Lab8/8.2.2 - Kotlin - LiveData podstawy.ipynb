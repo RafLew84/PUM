{
 "cells": [
  {
   "cell_type": "markdown",
   "id": "c48fdd55-21fd-4803-8879-8c48e9a6b1d4",
   "metadata": {},
   "source": [
    "## 8.2 LiveData - podstawy"
   ]
  },
  {
   "cell_type": "markdown",
   "id": "607821bf-4af2-4f7a-b750-b303776f6167",
   "metadata": {},
   "source": [
    "Kontynuujemy aplikację z poprzedniego notatnika - dodamy `LiveData` do aplikacji i rozpoczniemy aktualizację danych na ui.\n",
    "\n",
    "`LiveData` przechowuje dane, które inne obiekty mogą obserwować i reagować na zmiany. Jest to element tzw. **lifecycle-aware** - gdy podłączamy obserwator do `LiveData`, jest on powiązany z obiektem `LifeCycleOwner` (aktywność/fragment) i wykonuje aktualizacje tylko w stanie aktywnym."
   ]
  },
  {
   "cell_type": "markdown",
   "id": "e5f63e57-7f8d-4fe3-b9ff-1adf2c783735",
   "metadata": {},
   "source": [
    "<img src=\"https://media1.giphy.com/media/tcOAkShGdPpbMpwlMw/giphy.gif\" width=\"150\" />"
   ]
  },
  {
   "cell_type": "markdown",
   "id": "978a3405-a018-4a17-bdc5-988944cff5dd",
   "metadata": {},
   "source": [
    "Zmiany rozpocznijmy od dodania `MutableLiveData` do klasy `ScrambleViewModel`, wpierw zmodyfikujmy `currentScrambledWord`."
   ]
  },
  {
   "cell_type": "code",
   "execution_count": null,
   "id": "c9ee938e-c0e9-41e0-87f2-8805a4a159ab",
   "metadata": {},
   "outputs": [],
   "source": [
    "private val _currentWordCount = MutableLiveData(0)"
   ]
  },
  {
   "cell_type": "markdown",
   "id": "fad92d92-4de0-44c1-9b6f-f7def3c174e7",
   "metadata": {},
   "source": [
    "Przejdźmy do zmiennej wspomagającej i zwróćmy obiekt `LiveData` - niemutowalny - wystawiamy tylko dane niemutowalne"
   ]
  },
  {
   "cell_type": "code",
   "execution_count": null,
   "id": "6cc96cc7-76ce-4289-8035-0c502ccb1a61",
   "metadata": {},
   "outputs": [],
   "source": [
    "val currentWordCount: LiveData<Int>\n",
    "    get() = _currentWordCount"
   ]
  },
  {
   "cell_type": "markdown",
   "id": "aa583024-d877-4893-b86a-558e6b19c9ba",
   "metadata": {},
   "source": [
    "Następnioe musimy zmodyfikować metodę `getNextWord` w klasie `ScrambleViewModel` - wartość zmiennej `currentScrambledWord` teraz modyfikujemy przez wywołanie metody `setValue`"
   ]
  },
  {
   "cell_type": "code",
   "execution_count": null,
   "id": "19b46ef8-bba0-4215-9561-5dc6261153c8",
   "metadata": {},
   "outputs": [],
   "source": [
    "_currentScrambledWord.value = String(tempWord)"
   ]
  },
  {
   "cell_type": "markdown",
   "id": "3151f69c-f59b-467d-b738-e28e69ea0d31",
   "metadata": {},
   "source": [
    "Kolejne dwie zmienne, które musimy obserwować we fragmencie to `currentWordCount` i `score` - dodajmy `LiveData`"
   ]
  },
  {
   "cell_type": "code",
   "execution_count": null,
   "id": "867111dc-c157-44a2-b8ef-eddb17cc4afa",
   "metadata": {},
   "outputs": [],
   "source": [
    "    private val _score = MutableLiveData(0)\n",
    "    val score: LiveData<Int>\n",
    "        get() = _score\n",
    "\n",
    "    private val _currentWordCount = MutableLiveData(0)\n",
    "    val currentWordCount: LiveData<Int>\n",
    "        get() = _currentWordCount"
   ]
  },
  {
   "cell_type": "markdown",
   "id": "ac5fbd86-618c-4ae4-b700-d6bdeb2f1c44",
   "metadata": {},
   "source": [
    "Zmodyfikujmy metody\n",
    "- `nextWord` - zwróćmy uwagę na wywołanie metody `getValue`"
   ]
  },
  {
   "cell_type": "code",
   "execution_count": null,
   "id": "bac2d8ea-86d2-44f4-8f39-28e0bf00a6ea",
   "metadata": {},
   "outputs": [],
   "source": [
    "    fun nextWord(): Boolean {\n",
    "        return if (currentWordCount.value!! < MAX_NO_OF_WORDS) {\n",
    "            getNextWord()\n",
    "            true\n",
    "        } else false\n",
    "    }"
   ]
  },
  {
   "cell_type": "markdown",
   "id": "9dabacc0-4dfc-4161-93e9-82b9b3424050",
   "metadata": {},
   "source": [
    "- `reinitializeData`"
   ]
  },
  {
   "cell_type": "code",
   "execution_count": null,
   "id": "e8e2900a-24aa-435c-93b4-7deb2c7505b6",
   "metadata": {},
   "outputs": [],
   "source": [
    "    fun reinitializeData() {\n",
    "        _score.value = 0\n",
    "        _currentWordCount.value = 0\n",
    "        usedWordsList.clear()\n",
    "        getNextWord()\n",
    "    }"
   ]
  },
  {
   "cell_type": "markdown",
   "id": "31fb25c6-6275-4c6d-921e-4c7e95d1f834",
   "metadata": {},
   "source": [
    "- w metodzie `getNextWord` musimy wykonać inkrementację, nie możemy zrobić tego wprost"
   ]
  },
  {
   "cell_type": "code",
   "execution_count": null,
   "id": "d75faf49-0e8d-40c5-a09e-294aff250750",
   "metadata": {},
   "outputs": [],
   "source": [
    "_currentWordCount.value = currentWordCount.value?.inc()"
   ]
  },
  {
   "cell_type": "markdown",
   "id": "08b9d63a-25d7-4db9-9573-5d2c99db3463",
   "metadata": {},
   "source": [
    "- podobnie w metodzie `increaseScore`"
   ]
  },
  {
   "cell_type": "code",
   "execution_count": null,
   "id": "e7978047-614d-4af0-853b-ad57fb711ecd",
   "metadata": {},
   "outputs": [],
   "source": [
    "    private fun increaseScore() {\n",
    "        _score.value = _score.value?.plus(SCORE_INCREASE)\n",
    "    }"
   ]
  },
  {
   "cell_type": "markdown",
   "id": "8b9e7b72-b7c7-4ccc-a41a-6aa7c04ae365",
   "metadata": {},
   "source": [
    "Przejdźmy do `ScrambleFragment`, w pierwszej kolejności pozbądźmy się metody `updateNextWordOnScreen` i wszystkich jej wywołań - nie będzie już ona potrzebna. Zmodyfikujmy metodę `onSubmitWord`"
   ]
  },
  {
   "cell_type": "code",
   "execution_count": null,
   "id": "c53421f7-4fee-4404-8325-d14a36d23a00",
   "metadata": {},
   "outputs": [],
   "source": [
    "    private fun onSubmitWord() {\n",
    "        val playerWord = binding.textInputEditText.text.toString()\n",
    "\n",
    "        if (viewModel.isUserWordCorrect(playerWord)) {\n",
    "            setErrorTextField(false)\n",
    "            if (!viewModel.nextWord()) showFinalScoreDialog()\n",
    "        } else setErrorTextField(true)\n",
    "    }"
   ]
  },
  {
   "cell_type": "markdown",
   "id": "8d1ec000-2500-4169-991c-ececf309c28c",
   "metadata": {},
   "source": [
    "Następnie podłączmy obserwator dla trzech `LiveData` w metodzie `onViewCreated`"
   ]
  },
  {
   "cell_type": "code",
   "execution_count": null,
   "id": "694f117b-0f58-4cdc-9295-f7d86722ca9f",
   "metadata": {},
   "outputs": [],
   "source": [
    "        viewModel.currentScrambledWord.observe(viewLifecycleOwner) { newWord ->\n",
    "            binding.textViewUnscrambledWord.text = newWord}\n",
    "\n",
    "        viewModel.score.observe(viewLifecycleOwner) {score ->\n",
    "            binding.score.text = score.toString()}\n",
    "\n",
    "        viewModel.currentWordCount.observe(viewLifecycleOwner) {wordCount ->\n",
    "            binding.wordCount.text = getString(\n",
    "                R.string.word_count, wordCount, MAX_NO_OF_WORDS)}"
   ]
  },
  {
   "cell_type": "markdown",
   "id": "c983a5b7-22a9-4a8e-a87c-6cee82b6d1ad",
   "metadata": {},
   "source": [
    "Metoda `observe` przyjnmuje dwa argumenty\n",
    "- `LifeCycleOwner` - otrzymujemy przez wywołanie metody `getViewLifecycleOwner`\n",
    "- lambda (obiekt anonimowy) - parametrem jest tutaj wartość \"obserwowana\" - zawsze aktualna\n",
    "\n",
    "Pozostałe metody odpowiednio modysikujemy wykorzystując metody `getValue`\n",
    "\n",
    "Możemy przetestować aplikację - zwróćmy uwagę że teraz wszystkie elementy layoutu są aktualizowane - ponieważ wykorzystujemy `ViewModel` i `LiveData` nie musimy implementować odpowiednich metod w klasie fragmentu."
   ]
  },
  {
   "cell_type": "markdown",
   "id": "ceebc676-272a-4240-a0b2-fb3d29da7bd8",
   "metadata": {},
   "source": [
    "<img src=\"https://media1.giphy.com/media/tcOAkShGdPpbMpwlMw/giphy.gif\" width=\"200\" />"
   ]
  }
 ],
 "metadata": {
  "kernelspec": {
   "display_name": "Kotlin",
   "language": "kotlin",
   "name": "kotlin"
  },
  "language_info": {
   "codemirror_mode": "text/x-kotlin",
   "file_extension": ".kt",
   "mimetype": "text/x-kotlin",
   "name": "kotlin",
   "nbconvert_exporter": "",
   "pygments_lexer": "kotlin",
   "version": "1.8.20"
  }
 },
 "nbformat": 4,
 "nbformat_minor": 5
}
