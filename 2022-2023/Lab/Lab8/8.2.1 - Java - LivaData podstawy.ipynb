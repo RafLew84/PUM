{
 "cells": [
  {
   "cell_type": "markdown",
   "id": "eb49c2b3-f961-44cd-9a4a-ce41e14c9fd8",
   "metadata": {},
   "source": [
    "## 8.2 LiveData - podstawy"
   ]
  },
  {
   "cell_type": "markdown",
   "id": "8c59b07d-4834-4736-b1cb-a659bbc3c11e",
   "metadata": {},
   "source": [
    "Kontynuujemy aplikację z poprzedniego notatnika - dodamy `LiveData` do aplikacji i rozpoczniemy aktualizację danych na ui.\n",
    "\n",
    "`LiveData` przechowuje dane, które inne obiekty mogą obserwować i reagować na zmiany. Jest to element tzw. **lifecycle-aware** - gdy podłączamy obserwator do `LiveData`, jest on powiązany z obiektem `LifeCycleOwner` (aktywność/fragment) i wykonuje aktualizacje tylko w stanie aktywnym."
   ]
  },
  {
   "cell_type": "markdown",
   "id": "672ebec2-7b60-4e2a-9757-0ad2ebd61c44",
   "metadata": {},
   "source": [
    "<img src=\"https://media1.giphy.com/media/tcOAkShGdPpbMpwlMw/giphy.gif\" width=\"150\" />"
   ]
  },
  {
   "cell_type": "markdown",
   "id": "5be9d809-d376-4f68-a7e1-d5e88b049f52",
   "metadata": {},
   "source": [
    "Zmiany rozpocznijmy od dodania `MutableLiveData` do klasy `ScrambleViewModel`, wpierw zmodyfikujmy `currentScrambledWord`."
   ]
  },
  {
   "cell_type": "code",
   "execution_count": null,
   "id": "07499bf1-1546-4501-9fa0-35458a8b3634",
   "metadata": {},
   "outputs": [],
   "source": [
    "private final MutableLiveData<String> currentScrambledWord = \n",
    "    new MutableLiveData<>();"
   ]
  },
  {
   "cell_type": "markdown",
   "id": "6ab7a66e-b250-42e4-badc-426cbbd69739",
   "metadata": {},
   "source": [
    "Przejdźmy do gettera i zwróćmy obiekt `LiveData` - niemutowalny - wystawiamy tylko dane niemutowalne"
   ]
  },
  {
   "cell_type": "code",
   "execution_count": null,
   "id": "7385de15-e480-48d5-8b5e-2ba82a31f17f",
   "metadata": {},
   "outputs": [],
   "source": [
    "public LiveData<String> getCurrentScrambledWord() {\n",
    "        return currentScrambledWord;\n",
    "    }"
   ]
  },
  {
   "cell_type": "markdown",
   "id": "5b89ba67-1e74-4c1f-b08b-bc1d215490a3",
   "metadata": {},
   "source": [
    "Następnioe musimy zmodyfikować metodę `getNextWord` w klasie `ScrambleViewModel` - wartość zmiennej `currentScrambledWord` teraz modyfikujemy przez wywołanie metody `setValue`"
   ]
  },
  {
   "cell_type": "code",
   "execution_count": null,
   "id": "11986e24-d91e-4e4e-91c7-8f93e47904a7",
   "metadata": {},
   "outputs": [],
   "source": [
    "    currentScrambledWord.setValue(\n",
    "        Arrays.toString(tempWord)\n",
    "            .replace(\",\", \"\")\n",
    "            .replace(\"[\", \"\")\n",
    "            .replace(\"]\", \"\")\n",
    "            .replace(\" \", \"\")\n",
    "            .trim());"
   ]
  },
  {
   "cell_type": "markdown",
   "id": "a2fbceb6-19f6-4104-8ad7-22c7d4654afa",
   "metadata": {},
   "source": [
    "Kolejne dwie zmienne, które musimy obserwować we fragmencie to `currentWordCount` i `score` - dodajmy `MutableLiveData` i ustawmy odpowiednie gettery"
   ]
  },
  {
   "cell_type": "code",
   "execution_count": null,
   "id": "5da8acd4-33da-40f0-aec9-eccee2661c09",
   "metadata": {},
   "outputs": [],
   "source": [
    "    private final MutableLiveData<Integer> currentWordCount = \n",
    "        new MutableLiveData<>(0); // inicjujemy 0\n",
    "    private final MutableLiveData<Integer> score = \n",
    "        new MutableLiveData<>(0); // inicjujemy 0\n",
    "\n",
    "...\n",
    "    \n",
    "    public LiveData<Integer> getScore() {\n",
    "        return score;\n",
    "    }\n",
    "\n",
    "    public LiveData<Integer> getCurrentWordCount() {\n",
    "        return currentWordCount;\n",
    "    }"
   ]
  },
  {
   "cell_type": "markdown",
   "id": "778fbadd-b103-4875-adf9-a1178cd64a5a",
   "metadata": {},
   "source": [
    "Zmodyfikujmy metody\n",
    "- `nextWord` - zwróćmy uwagę na wywołanie metody `getValue` - tutaj musimy sprawdzić czy nie zwróci ona `null`"
   ]
  },
  {
   "cell_type": "code",
   "execution_count": null,
   "id": "0d6ed6e7-2bfc-45a0-adb4-a7beb49e310f",
   "metadata": {},
   "outputs": [],
   "source": [
    "    public boolean nextWord() {\n",
    "            if (currentWordCount.getValue() != null &&\n",
    "                    currentWordCount.getValue() < DataProvider.MAX_NO_OF_WORDS) {\n",
    "                getNextWord();\n",
    "                return true;\n",
    "            }\n",
    "            return false;\n",
    "    }"
   ]
  },
  {
   "cell_type": "markdown",
   "id": "17f1efbf-b5bc-44cb-8c36-ce8a1f9efdb5",
   "metadata": {},
   "source": [
    "- `reinitializeData`"
   ]
  },
  {
   "cell_type": "code",
   "execution_count": null,
   "id": "0eb339c6-cb89-4fe7-86cf-54fa864c3858",
   "metadata": {},
   "outputs": [],
   "source": [
    "    public void reinitializeData() {\n",
    "        score.setValue(0);\n",
    "        currentWordCount.setValue(0);\n",
    "        usedWordsList.clear();\n",
    "        getNextWord();\n",
    "    }"
   ]
  },
  {
   "cell_type": "markdown",
   "id": "84a4daf7-0311-425a-93dc-3c8bf71b2031",
   "metadata": {},
   "source": [
    "- w metodzie `getNextWord` musimy wykonać inkrementację, nie możemy zrobić tego wprost"
   ]
  },
  {
   "cell_type": "code",
   "execution_count": null,
   "id": "17ba1884-a695-48c5-8839-2402ea03c2d0",
   "metadata": {},
   "outputs": [],
   "source": [
    "    if (currentWordCount.getValue() != null)\n",
    "        currentWordCount.setValue(currentWordCount.getValue() + 1);"
   ]
  },
  {
   "cell_type": "markdown",
   "id": "02810a37-398b-48f9-8033-e8818b7cefc9",
   "metadata": {},
   "source": [
    "- podobnie w metodzie `increaseScore`"
   ]
  },
  {
   "cell_type": "code",
   "execution_count": null,
   "id": "a8badbbb-6e79-4137-9cb9-bb2d1d6a6cd9",
   "metadata": {},
   "outputs": [],
   "source": [
    "    private void increaseScore() {\n",
    "        if (score.getValue() != null)\n",
    "            score.setValue(score.getValue() + DataProvider.SCORE_INCREASE);\n",
    "    }"
   ]
  },
  {
   "cell_type": "markdown",
   "id": "22ccb28c-d20d-428a-95ef-2b94ed933941",
   "metadata": {},
   "source": [
    "Przejdźmy do `ScrambleFragment`, w pierwszej kolejności pozbądźmy się metody `updateNextWordOnScreen` i wszystkich jej wywołań - nie będzie już ona potrzebna. Zmodyfikujmy metodę `onSubmitWord`"
   ]
  },
  {
   "cell_type": "code",
   "execution_count": null,
   "id": "8ea400c4-15d0-45c7-81ce-5ede91a9603c",
   "metadata": {},
   "outputs": [],
   "source": [
    "    private void onSubmitWord() {\n",
    "        String playerWord = \"\";\n",
    "        if (binding.textInputEditText.getText() != null)\n",
    "            playerWord = binding.textInputEditText.getText().toString();\n",
    "\n",
    "        if (viewModel.isUserWordCorrect(playerWord)) {\n",
    "            setErrorTextField(false);\n",
    "            if (!viewModel.nextWord()) showFinalScoreDialog();\n",
    "        } else setErrorTextField(true);\n",
    "    }"
   ]
  },
  {
   "cell_type": "markdown",
   "id": "132612b4-179b-4fb8-9d91-59e86fc6047d",
   "metadata": {},
   "source": [
    "Następnie podłączmy obserwator dla trzech `LiveData` w metodzie `onViewCreated`"
   ]
  },
  {
   "cell_type": "code",
   "execution_count": null,
   "id": "5d3fa42a-553f-48f1-a4d5-3a37d1b6eb04",
   "metadata": {},
   "outputs": [],
   "source": [
    "        viewModel.getCurrentScrambledWord()\n",
    "            .observe(getViewLifecycleOwner(), newWord ->\n",
    "                binding.textViewUnscrambledWord.setText(newWord));\n",
    "\n",
    "        viewModel.getScore()\n",
    "            .observe(getViewLifecycleOwner(), score ->\n",
    "                binding.score.setText(String.valueOf(score)));\n",
    "\n",
    "        viewModel.getCurrentWordCount()\n",
    "            .observe(getViewLifecycleOwner(), wordCount ->\n",
    "                binding.wordCount.setText(\n",
    "                    getString(\n",
    "                        R.string.word_count,\n",
    "                        wordCount, \n",
    "                        DataProvider.MAX_NO_OF_WORDS)));"
   ]
  },
  {
   "cell_type": "markdown",
   "id": "ed2eb7cc-19d8-44b6-b277-142d8c881de8",
   "metadata": {},
   "source": [
    "Metoda `observe` przyjnmuje dwa argumenty\n",
    "- `LifeCycleOwner` - otrzymujemy przez wywołanie metody `getViewLifecycleOwner`\n",
    "- lambda (obiekt anonimowy) - parametrem jest tutaj wartość \"obserwowana\" - zawsze aktualna\n",
    "\n",
    "Pozostałe metody odpowiednio modysikujemy wykorzystując metody `getValue`\n",
    "\n",
    "Możemy przetestować aplikację - zwróćmy uwagę że teraz wszystkie elementy layoutu są aktualizowane - ponieważ wykorzystujemy `ViewModel` i `LiveData` nie musimy implementować odpowiednich metod w klasie fragmentu."
   ]
  },
  {
   "cell_type": "markdown",
   "id": "0e9cdeb6-5193-4a9d-8bed-0ff64c9775fe",
   "metadata": {},
   "source": [
    "<img src=\"https://media1.giphy.com/media/tcOAkShGdPpbMpwlMw/giphy.gif\" width=\"200\" />"
   ]
  },
  {
   "cell_type": "code",
   "execution_count": null,
   "id": "c4369e09-aa3c-4d5d-bb5a-e9d778695539",
   "metadata": {},
   "outputs": [],
   "source": []
  }
 ],
 "metadata": {
  "kernelspec": {
   "display_name": "Java",
   "language": "java",
   "name": "java"
  },
  "language_info": {
   "codemirror_mode": "java",
   "file_extension": ".jshell",
   "mimetype": "text/x-java-source",
   "name": "Java",
   "pygments_lexer": "java",
   "version": "17+35-2724"
  }
 },
 "nbformat": 4,
 "nbformat_minor": 5
}
