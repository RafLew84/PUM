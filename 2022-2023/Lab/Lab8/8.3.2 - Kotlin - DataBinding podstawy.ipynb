{
 "cells": [
  {
   "cell_type": "code",
   "execution_count": null,
   "id": "88a4a497-4915-4664-970f-d7547205f3c6",
   "metadata": {},
   "outputs": [],
   "source": []
  },
  {
   "cell_type": "markdown",
   "id": "4c045455-3626-4a95-9182-b9ab89bb45dc",
   "metadata": {},
   "source": [
    "## 8.3 DataBinding - podstawy"
   ]
  },
  {
   "cell_type": "markdown",
   "id": "68068936-38b7-4204-ac0b-ff398efd0d9f",
   "metadata": {},
   "source": [
    "Obok `ViewBinding` mamy również dostępną drugą opcję - `DataBinding`. Pozwala ona na powiązanie komponentów ui w plikach definiujących layout (`xml`) bezpośrednio z danymi.\n",
    "\n",
    "Kontynuujemy aplikację z punktu 8.2 - dodamy `DataBinding`"
   ]
  },
  {
   "cell_type": "markdown",
   "id": "17c5085a-f611-4b78-95aa-0003a4a00946",
   "metadata": {},
   "source": [
    "W pierwszym kroku zamieńmy w `gradle` `viewbinding` na `databinding`"
   ]
  },
  {
   "cell_type": "code",
   "execution_count": null,
   "id": "b5ac2767-222a-4653-b09a-ec42521ef5d3",
   "metadata": {},
   "outputs": [],
   "source": [
    "buildFeatures {\n",
    "    dataBinding = true\n",
    "}"
   ]
  },
  {
   "cell_type": "markdown",
   "id": "d62c27d8-9f67-4de7-8eb9-c1ee3bd4e39e",
   "metadata": {},
   "source": [
    "Następnie zmodyfiikujmy layout fragmentu dodając `<layout>` oraz `<data>`"
   ]
  },
  {
   "cell_type": "code",
   "execution_count": null,
   "id": "50976e43-ce75-4b23-9447-dfd22b6be3fc",
   "metadata": {},
   "outputs": [],
   "source": [
    "<layout xmlns:android=\"http://schemas.android.com/apk/res/android\"\n",
    "    xmlns:app=\"http://schemas.android.com/apk/res-auto\"\n",
    "    xmlns:tools=\"http://schemas.android.com/tools\">\n",
    "\n",
    "    <data>\n",
    "\n",
    "    </data>\n",
    "\n",
    "    <ScrollView\n",
    "    ...\n",
    "    </ScrollView\n",
    "</layout>"
   ]
  },
  {
   "cell_type": "markdown",
   "id": "f4c51894-ce0b-4a1b-8a18-b68b2f42486d",
   "metadata": {},
   "source": [
    "Następnie wstawmy dwie zmienne - `viewModel` oraz `maxNoOfWords`"
   ]
  },
  {
   "cell_type": "code",
   "execution_count": null,
   "id": "5db82048-73d8-48bd-af3d-502096be46dc",
   "metadata": {},
   "outputs": [],
   "source": [
    "    <data>\n",
    "        <variable\n",
    "            name=\"scrambleViewModel\"\n",
    "            type=\"pl.udu.uwr.pum.databindingbasicskotlin.viemodel.ScrambleViewModel\" />\n",
    "\n",
    "        <variable\n",
    "            name=\"maxNoOfWords\"\n",
    "            type=\"int\" />\n",
    "    </data>"
   ]
  },
  {
   "cell_type": "markdown",
   "id": "6b4b923a-a6dd-4997-aaf6-c56f2a12119c",
   "metadata": {},
   "source": [
    "Przejdźmy do klasy `ScrambleFragment` i w pierwszej kolejności w metodzie `onCreateView` zmieńmy źródło `binding`"
   ]
  },
  {
   "cell_type": "code",
   "execution_count": null,
   "id": "5293717d-23cb-4978-b9ac-29082dd29910",
   "metadata": {},
   "outputs": [],
   "source": [
    "binding = FragmentScrambleBinding.inflate(\n",
    "    inflater, \n",
    "    container, \n",
    "    false) // usunąć\n",
    "\n",
    "binding = DataBindingUtil.inflate(\n",
    "    inflater, \n",
    "    R.layout.fragment_scramble, \n",
    "    container, \n",
    "    false) // dodać"
   ]
  },
  {
   "cell_type": "markdown",
   "id": "d62f5e22-175f-43ff-b14a-29ab3af344a9",
   "metadata": {},
   "source": [
    "Następnie usuńmy z metody `onViewVCreated`"
   ]
  },
  {
   "cell_type": "code",
   "execution_count": null,
   "id": "dd110b83-6bcd-4f56-9219-0cd05e40a27b",
   "metadata": {},
   "outputs": [],
   "source": [
    "viewModel.currentScrambledWord.observe(viewLifecycleOwner) { newWord ->\n",
    "    binding.textViewUnscrambledWord.text = newWord}\n",
    "\n",
    "viewModel.score.observe(viewLifecycleOwner) {score ->\n",
    "    binding.score.text = score.toString()}\n",
    "\n",
    "viewModel.currentWordCount.observe(viewLifecycleOwner) {wordCount ->\n",
    "    binding.wordCount.text = getString(\n",
    "        R.string.word_count, wordCount, MAX_NO_OF_WORDS)}"
   ]
  },
  {
   "cell_type": "markdown",
   "id": "47d6002e-bbc5-4e16-8bcd-2e2e19e83a95",
   "metadata": {},
   "source": [
    "Te dane ustawimy bezpośrednio w layoucie. Wpierw musimy ustawić zmienne zdefiniowane w pliku `fragment_scramble.xml` - do metody `onViewCreated` dodajemy"
   ]
  },
  {
   "cell_type": "code",
   "execution_count": null,
   "id": "04cd4e44-a2f5-410b-98cb-cbd14898170a",
   "metadata": {},
   "outputs": [],
   "source": [
    "binding.scrambleViewModel = viewModel\n",
    "binding.maxNoOfWords = MAX_NO_OF_WORDS"
   ]
  },
  {
   "cell_type": "markdown",
   "id": "56c7d8ab-d54f-4f76-a7d4-13d5e2e44b77",
   "metadata": {},
   "source": [
    "Na końcu metody `onViewCreated` musimy wskazać `LifeCycleOwner`"
   ]
  },
  {
   "cell_type": "code",
   "execution_count": null,
   "id": "de63fa43-f450-4c84-974b-5c47a69da976",
   "metadata": {},
   "outputs": [],
   "source": [
    "binding.lifecycleOwner = viewLifecycleOwner"
   ]
  },
  {
   "cell_type": "markdown",
   "id": "0dba231d-5c60-4f2d-8a30-4e38f1e6e644",
   "metadata": {},
   "source": [
    "Możemy teraz dodać wyrażenia wiążące do pól w layoucie fragmentu"
   ]
  },
  {
   "cell_type": "code",
   "execution_count": null,
   "id": "b7842851-96d9-4a60-8ff5-f0c38c97cf17",
   "metadata": {},
   "outputs": [],
   "source": [
    "<TextView\n",
    "    android:id=\"@+id/textView_unscrambled_word\"\n",
    "        ...\n",
    "    android:text=\"@{scrambleViewModel.currentScrambledWord}\" />\n",
    "        \n",
    "<TextView\n",
    "    android:id=\"@+id/word_count\"\n",
    "        ...\n",
    "    android:text=\"@{@string/word_count(scrambleViewModel.currentWordCount, maxNoOfWords)}\" /> \n",
    "<TextView\n",
    "    android:id=\"@+id/score\"\n",
    "        ...\n",
    "    android:text=\"@{@string/score(scrambleViewModel.score)}\" />      "
   ]
  }
 ],
 "metadata": {
  "kernelspec": {
   "display_name": "Kotlin",
   "language": "kotlin",
   "name": "kotlin"
  },
  "language_info": {
   "codemirror_mode": "text/x-kotlin",
   "file_extension": ".kt",
   "mimetype": "text/x-kotlin",
   "name": "kotlin",
   "nbconvert_exporter": "",
   "pygments_lexer": "kotlin",
   "version": "1.6.20-dev-6372"
  }
 },
 "nbformat": 4,
 "nbformat_minor": 5
}
