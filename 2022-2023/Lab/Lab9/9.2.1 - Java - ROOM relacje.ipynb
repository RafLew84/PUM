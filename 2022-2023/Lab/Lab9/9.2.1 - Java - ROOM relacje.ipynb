{
 "cells": [
  {
   "cell_type": "markdown",
   "id": "12800e99-291b-4496-95a9-555b698c3bc3",
   "metadata": {},
   "source": [
    "## 9.2 ROOM - relacje"
   ]
  },
  {
   "cell_type": "markdown",
   "id": "4f4d31b4-6bcd-4bb0-b692-15e6c197831a",
   "metadata": {},
   "source": [
    "Aplikacja będzie zawierała tylko pojedynczą aktywność, jednak skupimy się tylko na bazie `ROOM` i kilku możliwym relacjom pomiędzy tabelami. Poprawność samej bazy zweryfikujemy za pomocą `App Inspector` - nie będziemy przygotowywać layotu ani przesyłać danych z bazy, skupimy się tylko na samym `ROOM`."
   ]
  },
  {
   "cell_type": "markdown",
   "id": "16b7df0b-6a05-457a-acc2-3d168128a790",
   "metadata": {},
   "source": [
    "Sama baza będzie składała się z kilku tabel reprezentujących wydział. Rozpocznijmy od dodanie odpowiednich zależności do aplikacji"
   ]
  },
  {
   "cell_type": "code",
   "execution_count": null,
   "id": "6f629263-3b12-4ff2-af52-b430f1bb99cc",
   "metadata": {},
   "outputs": [],
   "source": [
    "    // ROOM\n",
    "    implementation \"androidx.room:room-runtime:2.4.3\"\n",
    "    annotationProcessor \"androidx.room:room-compiler:2.4.3\"\n",
    "\n",
    "    // ViewModel\n",
    "    implementation 'androidx.lifecycle:lifecycle-viewmodel:2.5.1'\n",
    "    // LiveData\n",
    "    implementation \"androidx.lifecycle:lifecycle-livedata:2.5.1\""
   ]
  },
  {
   "cell_type": "markdown",
   "id": "499b3e4e-48f3-4bd6-acfd-228a6161a1a1",
   "metadata": {},
   "source": [
    "### **Relacja 1-1**"
   ]
  },
  {
   "cell_type": "markdown",
   "id": "417f3915-6fc7-4c4e-80f1-c8278f6cdfee",
   "metadata": {},
   "source": [
    "W relacji 1-1 jednemu elementowi jednej tabeli odpowiada dokładnie jeden element innej tabeli. Rozpocznijmy od dodania `@Entity` reprezentującego dziekana."
   ]
  },
  {
   "cell_type": "code",
   "execution_count": null,
   "id": "a2793abe-5a34-4530-be1d-ea92727659b0",
   "metadata": {},
   "outputs": [],
   "source": [
    "@Entity\n",
    "public class Dean {"
   ]
  },
  {
   "cell_type": "markdown",
   "id": "ea3fcbc0-6ae2-4763-99ec-1b2b21437cd8",
   "metadata": {},
   "source": [
    "Klasa będzie posiadać dwa pola - `deanName` oraz `facultyName` - pierwsze wykorzystamy jako klucz główny"
   ]
  },
  {
   "cell_type": "code",
   "execution_count": null,
   "id": "94a66aac-c80e-490b-ac88-b9baca4135df",
   "metadata": {},
   "outputs": [],
   "source": [
    "@Entity\n",
    "public class Dean {\n",
    "\n",
    "    @NonNull\n",
    "    @PrimaryKey\n",
    "    private final String deanName;\n",
    "    private final String facultyName;\n",
    "\n",
    "    public Dean(@NonNull String deanName, @NonNull String facultyName){\n",
    "        this.deanName = deanName;\n",
    "        this.facultyName = facultyName;\n",
    "    }\n",
    "\n",
    "    @NonNull\n",
    "    public String getDeanName() {\n",
    "        return deanName;\n",
    "    }\n",
    "\n",
    "    public String getFacultyName() {\n",
    "        return facultyName;\n",
    "    }\n",
    "}"
   ]
  },
  {
   "cell_type": "markdown",
   "id": "ac733e43-b805-4259-9be0-9ddcb7e44973",
   "metadata": {},
   "source": [
    "Czyli każdy dziekan posiada swoją nazwę oraz wydział do którego jest przypisany.\n",
    "\n",
    "Następnie dodajmy `@Entity` opisujący sam wydział."
   ]
  },
  {
   "cell_type": "code",
   "execution_count": null,
   "id": "ff99ddee-a18d-4925-b98c-a8f84d2ca094",
   "metadata": {},
   "outputs": [],
   "source": [
    "@Entity\n",
    "public class Faculty {\n",
    "\n",
    "    @NonNull\n",
    "    @PrimaryKey\n",
    "    private final String facultyName;\n",
    "\n",
    "    public Faculty(@NonNull String facultyName) {\n",
    "        this.facultyName = facultyName;\n",
    "    }\n",
    "\n",
    "    @NonNull\n",
    "    public String getFacultyName() {\n",
    "        return facultyName;\n",
    "    }\n",
    "}"
   ]
  },
  {
   "cell_type": "markdown",
   "id": "329ba1df-36ce-4bbd-b5c8-04e505da324f",
   "metadata": {},
   "source": [
    "Klasa `Faculty` posiada jedno pole reprezentujące nazwę wydziału.\n",
    "\n",
    "Dzięki zastosowaniu adnotacji `@Entity` tabele `Dean` oraz `Faculty` zostaną utworzone w bazie danych. Następnie ustalimy relację pomiędzy tymi dwiema tabelami. Wydział może posiadać tylko jednego dziakana oraz dziekan może zarządzać tylko jednym wydziałem, mamy tutaj relację **1-1** - jest to najprostsza relacja.\n",
    "\n",
    "Taką relację musimy opisać w odpowiedniej klasie - relację pomiędzy dziekanem a wydziałem opiszemy w klasie `FacultyAndDean`"
   ]
  },
  {
   "cell_type": "code",
   "execution_count": null,
   "id": "052adeb1-639c-4a8b-a714-726c7e0da1f8",
   "metadata": {},
   "outputs": [],
   "source": [
    "public class FacultyAndDean {\n",
    "}"
   ]
  },
  {
   "cell_type": "markdown",
   "id": "15f0c15f-18d0-429a-aeb7-79ad0d81e04a",
   "metadata": {},
   "source": [
    "Ponieważ mamy relację 1-1 to jej kierunek nie ma znaczenia - w tym przykładzie mamy pole reprezentujące wydział - `facultyName` w klasie `Dean`, więc powiążemy dziekana z wydziałem. Pole `facultyName` w klasie `Dean` jest tzw. **kluczem obcym**."
   ]
  },
  {
   "cell_type": "code",
   "execution_count": null,
   "id": "c674e583-f772-4f06-b068-b6318fadbc56",
   "metadata": {},
   "outputs": [],
   "source": [
    "public class FacultyAndDean {\n",
    "    @Embedded\n",
    "    public Faculty faculty;"
   ]
  },
  {
   "cell_type": "markdown",
   "id": "fac23aac-99f2-43ca-bf18-ce9df150bc7e",
   "metadata": {},
   "source": [
    "W pierwszym kroku dodajemy pole `Faculty` i oznaczamy je jako `@Embedded` - adnotacja ta informuje kompilator że pole `faculty` jest bytem (`@Entity`) bazy `ROOM`, a co za tym idzie, może uzyskać do niego dostęp bezpośrednio przez wygenerowanie zapytania `SQL`.\n",
    "\n",
    "Drugim polem będzie instancja klasy `Dean` - już bez adnotacji."
   ]
  },
  {
   "cell_type": "code",
   "execution_count": null,
   "id": "8f01abe9-7a5d-463b-aca2-cda0b6703205",
   "metadata": {},
   "outputs": [],
   "source": [
    "public class FacultyAndDean {\n",
    "    @Embedded\n",
    "    public Faculty faculty;\n",
    "\n",
    "    public Dean dean;\n",
    "}"
   ]
  },
  {
   "cell_type": "markdown",
   "id": "bcb54c11-9bb7-4595-aabf-933ab10d489b",
   "metadata": {},
   "source": [
    "Po wybraniu odpowiedniego wydziału (przez automatycznie wygenerowanie zapytanie `SQL`) do pola `dean` zostanie zwrócony przydzielony dziekan.\n",
    "\n",
    "Pozostaje nam określić relację pomiędzy tymi dwiema tabelami"
   ]
  },
  {
   "cell_type": "code",
   "execution_count": null,
   "id": "c4447030-c41c-430e-899e-02d6a7e2e6c9",
   "metadata": {},
   "outputs": [],
   "source": [
    "public class FacultyAndDean {\n",
    "    @Embedded public Faculty faculty;\n",
    "\n",
    "    @Relation(\n",
    "            parentColumn = \"facultyName\", // faculty\n",
    "            entityColumn = \"facultyName\"  // dean\n",
    "    )\n",
    "\n",
    "    public Dean dean;\n",
    "}"
   ]
  },
  {
   "cell_type": "markdown",
   "id": "8cf19aac-a87a-4f9d-8891-b89fcffdbf06",
   "metadata": {},
   "source": [
    "Czyli porównujemy, czy pole `facultyName` klasy `Faculty` oraz `facultyName` klasy `Dean`. Czyli klasa `FacultyAndDean` umożliwia automatyczne wykonanie `JOIN` i zwrócenie odpowiednich elementów z obu tabel."
   ]
  },
  {
   "cell_type": "markdown",
   "id": "1f3e80e4-af27-4a4d-97df-16c8d406ccb2",
   "metadata": {},
   "source": [
    "Przejdźmy do utworzenia `FacultyDao`"
   ]
  },
  {
   "cell_type": "code",
   "execution_count": null,
   "id": "70634d90-d6f1-48d5-8595-846b354b4ef8",
   "metadata": {},
   "outputs": [],
   "source": [
    "@Dao\n",
    "public interface FacultyDao {"
   ]
  },
  {
   "cell_type": "markdown",
   "id": "9c871908-9c14-4a23-9888-9a36684afba4",
   "metadata": {},
   "source": [
    "Dodajmy kilka metod\n",
    "- dodanie nowego dziekana"
   ]
  },
  {
   "cell_type": "code",
   "execution_count": null,
   "id": "df3a8e33-f127-4d73-a43c-d602d6b1c0fc",
   "metadata": {},
   "outputs": [],
   "source": [
    "    @Insert(onConflict = OnConflictStrategy.IGNORE)\n",
    "    void insertDean(Dean dean);"
   ]
  },
  {
   "cell_type": "markdown",
   "id": "55d18fb9-4bc7-4e16-a6bc-310a4d0d43e2",
   "metadata": {},
   "source": [
    "- dodanie nowego wydziału"
   ]
  },
  {
   "cell_type": "code",
   "execution_count": null,
   "id": "e47d00ce-3146-409d-86cd-d75f244b232c",
   "metadata": {},
   "outputs": [],
   "source": [
    "    @Insert(onConflict = OnConflictStrategy.IGNORE)\n",
    "    void insertFaculty(Faculty faculty);"
   ]
  },
  {
   "cell_type": "markdown",
   "id": "67de8aca-9ea5-41ed-867e-502f973eca39",
   "metadata": {},
   "source": [
    "- metoda zwracająca wydział oraz przypisany do niego dziekan. Ponieważ pracujemy tutaj na dwóch tabelach, chcemy zapewnić bezpieczeństwo zec względu na wątki - w tym celu używamy adnotacji `@Transaction`. W tej metodzie odwołujemy się bezpośrednio do tabeli `faculty`, jednak będziemy również przeszukiwać tabelę `dean`, więc nie chcemy aby w tym samym czasie inny wątek tą tabelę np. modyfikował."
   ]
  },
  {
   "cell_type": "code",
   "execution_count": null,
   "id": "2d910588-d77e-400c-b88c-c91aea3d3c40",
   "metadata": {},
   "outputs": [],
   "source": [
    "    @Transaction\n",
    "    @Query(\"SELECT * FROM faculty WHERE facultyName = :facultyName\")\n",
    "    FacultyAndDean getFacultyAndDean(String facultyName);"
   ]
  },
  {
   "cell_type": "markdown",
   "id": "aaa67bc2-6f6c-4056-afd2-9644f5c60cc4",
   "metadata": {},
   "source": [
    "Dodajmy klasę `FacultyRoomDatabase`"
   ]
  },
  {
   "cell_type": "code",
   "execution_count": null,
   "id": "6af56b37-db75-4324-b216-b74fbaf6ff80",
   "metadata": {},
   "outputs": [],
   "source": [
    "@Database(\n",
    "        entities = {\n",
    "                Faculty.class,\n",
    "                Dean.class,\n",
    "        },\n",
    "        version = 1,\n",
    "        exportSchema = false\n",
    ")\n",
    "abstract class FacultyRoomDatabase extends RoomDatabase {\n",
    "    public abstract FacultyDao facultyDao();\n",
    "\n",
    "    private static volatile FacultyRoomDatabase INSTANCE;\n",
    "    private static final int NUM_OF_THREADS = 4;\n",
    "\n",
    "    public static final ExecutorService dbWriteExecutor = \n",
    "        Executors.newFixedThreadPool(NUM_OF_THREADS);\n",
    "\n",
    "    public static FacultyRoomDatabase getDatabase(final Context context){\n",
    "        if(INSTANCE == null){\n",
    "            INSTANCE = Room\n",
    "                    .databaseBuilder(context.getApplicationContext(),\n",
    "                            FacultyRoomDatabase.class,\n",
    "                            \"my_new_db\")\n",
    "                    .build();\n",
    "        }\n",
    "\n",
    "        return INSTANCE;\n",
    "    }\n",
    "}"
   ]
  },
  {
   "cell_type": "markdown",
   "id": "6117ffe6-fe39-4604-a162-f3d0dc3935ea",
   "metadata": {},
   "source": [
    "Zwróćmy uwagę, że w polu `entities` musimy podać **wszystkie** klasy oznaczone jako `@Entity`. Również tutaj mamy 'akademicką' implementację singletona."
   ]
  },
  {
   "cell_type": "markdown",
   "id": "ac1c6b6a-6dd4-4b0f-8a7e-6902d5a6858c",
   "metadata": {},
   "source": [
    "Oraz w głównej aktywności zainicjujmy bazę i dodajmy kilka elementów"
   ]
  },
  {
   "cell_type": "code",
   "execution_count": null,
   "id": "ca9c898b-5c27-4db5-aad1-65e7e68c5a1e",
   "metadata": {},
   "outputs": [],
   "source": [
    "    @Override\n",
    "    protected void onCreate(Bundle savedInstanceState) {\n",
    "        super.onCreate(savedInstanceState);\n",
    "        setContentView(R.layout.activity_main);\n",
    "\n",
    "        FacultyRoomDatabase.dbWriteExecutor.execute(() ->{\n",
    "            FacultyDao dao = FacultyRoomDatabase.getDatabase(this).facultyDao();\n",
    "\n",
    "            List<Faculty> faculties = new ArrayList<>();\n",
    "            faculties.add(new Faculty(\"Physics and Astronomy\"));\n",
    "            faculties.add(new Faculty(\"Computer Science\"));\n",
    "            faculties.add(new Faculty(\"Psychology\"));\n",
    "\n",
    "\n",
    "            List<Dean> deans = new ArrayList<>();\n",
    "            deans.add(new Dean(\"Marek P\", \"Computer Science\"));\n",
    "            deans.add(new Dean(\"Michal P\", \"Psychology\"));\n",
    "            deans.add(new Dean(\"Arek P\", \"Physics and Astronomy\"));\n",
    "\n",
    "            for(Dean d : deans)\n",
    "                dao.insertDean(d);\n",
    "\n",
    "            for(Faculty f : faculties)\n",
    "                dao.insertFaculty(f);\n",
    "        });\n",
    "    }"
   ]
  },
  {
   "cell_type": "markdown",
   "id": "071591e6-159a-453f-95ff-362bbd167ebf",
   "metadata": {},
   "source": [
    "Zbudujmy aplikację i wykorzystajmy `App Inspector` aby przjerzeć bazę"
   ]
  },
  {
   "cell_type": "markdown",
   "id": "4489647a-03e7-4a6f-823c-0c4770a51b75",
   "metadata": {},
   "source": [
    "<img src=\"https://media3.giphy.com/media/qe7jBhllmpgnYIWqO2/giphy.gif?cid=790b76115d6f610efc818124664ae35fd2920fe965443eba&rid=giphy.gif&ct=g\" width=\"400\" />"
   ]
  },
  {
   "cell_type": "markdown",
   "id": "207bf4b9-bdc9-4c79-8167-5de5bda859fa",
   "metadata": {},
   "source": [
    "Następnie spróbujmy wykorzystać metodę `getFacultyAndDean`"
   ]
  },
  {
   "cell_type": "code",
   "execution_count": null,
   "id": "59d5a4ac-73b2-40c0-9067-5eab86336e70",
   "metadata": {},
   "outputs": [],
   "source": [
    "        FacultyRoomDatabase.dbWriteExecutor.execute(() -> {\n",
    "            FacultyAndDean myFaculty = dao.getFacultyAndDean(\"Physics and Astronomy\");\n",
    "            TextView t1 = findViewById(R.id.textView1);\n",
    "            TextView t2 = findViewById(R.id.textView2);\n",
    "            t1.setText(myFaculty.faculty.getFacultyName());\n",
    "            t2.setText(myFaculty.dean.getDeanName());\n",
    "        });"
   ]
  },
  {
   "cell_type": "markdown",
   "id": "bfdbf515-b03d-427a-9692-0db8f02a15b4",
   "metadata": {},
   "source": [
    "<img src=\"https://media1.giphy.com/media/BKAimOcA8fEqotVXIA/giphy.gif?cid=790b7611f9b14783bd71567e24ad8b3ffd7d859e1f91f8f4&rid=giphy.gif&ct=g\" width=\"200\" />"
   ]
  },
  {
   "cell_type": "markdown",
   "id": "039d6816-c533-4f09-b5f3-b0db8fb2434d",
   "metadata": {},
   "source": [
    "### **Relacja 1-N**"
   ]
  },
  {
   "cell_type": "markdown",
   "id": "3b31c274-7e9a-4a7b-8c62-4f4f005c01c2",
   "metadata": {},
   "source": [
    "Przjedźmy do relacji 1-wiele, czyli do jednego elementu z tabeli może być przypisanych wiele elementów z innej tabeli. Do naszej bazy dodamy tabelę reprezentującą studenta - mamy wielu studentów powiązanych z jednym wydziałem (na potrzeby przykładu przyjmiemy że student może być powiązany tylko z jednym wydziałem)"
   ]
  },
  {
   "cell_type": "markdown",
   "id": "371b6fce-92b7-4030-9329-def1c1d94ed0",
   "metadata": {},
   "source": [
    "W tej relacji już ma znaczenie klucz której klasy jest kluczem obcym. Musimy do klasy `Student` dołączyć `facyltuName` jako klucz obcy. Dodajmy klasę `@Entity` reprezentującą studenta"
   ]
  },
  {
   "cell_type": "code",
   "execution_count": null,
   "id": "5ca4076e-3849-4d58-8c8d-b964c88af110",
   "metadata": {},
   "outputs": [],
   "source": [
    "@Entity\n",
    "public class Student {\n",
    "\n",
    "    @NonNull\n",
    "    @PrimaryKey\n",
    "    private final String studentName;\n",
    "    private final int indexNumber;\n",
    "    private final String facultyName;\n",
    "\n",
    "    public Student(@NonNull String studentName, int indexNumber, String facultyName) {\n",
    "        this.studentName = studentName;\n",
    "        this.indexNumber = indexNumber;\n",
    "        this.facultyName = facultyName;\n",
    "    }\n",
    "\n",
    "    @NonNull\n",
    "    public String getStudentName() {\n",
    "        return studentName;\n",
    "    }\n",
    "\n",
    "    public int getIndexNumber() {\n",
    "        return indexNumber;\n",
    "    }\n",
    "\n",
    "    public String getFacultyName() {\n",
    "        return facultyName;\n",
    "    }\n",
    "}"
   ]
  },
  {
   "cell_type": "markdown",
   "id": "a29e48bc-8b86-46b7-9a10-cefddd683640",
   "metadata": {},
   "source": [
    "Następnie określmy relację pomiędzy klasą `Student` a klasą `Faculty`, różnicą do poprzedniego przykładu jest to, że zastosujemy listę do przechowania wszystkich studentów powiązanych z danym wydziałem"
   ]
  },
  {
   "cell_type": "code",
   "execution_count": null,
   "id": "47d98a8c-9b2f-4a82-88d8-badcb4c26e2b",
   "metadata": {},
   "outputs": [],
   "source": [
    "public class FacultyWithStudents {\n",
    "    @Embedded\n",
    "    public Faculty faculty;\n",
    "\n",
    "    @Relation(\n",
    "            parentColumn = \"facultyName\",\n",
    "            entityColumn = \"facultyName\"\n",
    "    )\n",
    "\n",
    "    public List<Student> studentList;\n",
    "}"
   ]
  },
  {
   "cell_type": "markdown",
   "id": "e2a53ba1-fc13-4501-9107-fe9cd61ce663",
   "metadata": {},
   "source": [
    "Dodajmy kilka metod do `FacultyDao`"
   ]
  },
  {
   "cell_type": "code",
   "execution_count": null,
   "id": "cdc7f40a-60d7-4b8c-bc1c-dde38983ec92",
   "metadata": {},
   "outputs": [],
   "source": [
    "@Dao\n",
    "public interface FacultyDao {\n",
    "\n",
    "    @Insert(onConflict = OnConflictStrategy.IGNORE)\n",
    "    void insertStudent(Student student);\n",
    "\n",
    "    @Transaction\n",
    "    @Query(\"SELECT * FROM student WHERE facultyName = :facultyName\")\n",
    "    List<FacultyWithStudents> getFacultyWithStudents(String facultyName);\n",
    "}"
   ]
  },
  {
   "cell_type": "markdown",
   "id": "fa2729ab-dfa0-4126-a75b-7b3e5dc89060",
   "metadata": {},
   "source": [
    "Umożliwiamy dodanie nowego studenta, oraz zwrócenie z bazy wszystkich studentów z określonym wydziałem. Musimy również dodać do listry `entities` w bazie danych klasę `Student`"
   ]
  },
  {
   "cell_type": "code",
   "execution_count": null,
   "id": "40ea76a6-fd6b-4dd5-9022-0684ef6bdc10",
   "metadata": {},
   "outputs": [],
   "source": [
    "@Database(\n",
    "        entities = {\n",
    "                Faculty.class,\n",
    "                Dean.class,\n",
    "                Student.class\n",
    "        },\n",
    "        version = 1,\n",
    "        exportSchema = false\n",
    ")\n",
    "abstract public class FacultyRoomDatabase extends RoomDatabase {"
   ]
  },
  {
   "cell_type": "markdown",
   "id": "f03ecc65-0856-4c48-99ee-77ed19995a09",
   "metadata": {},
   "source": [
    "### **Relacja M-N**"
   ]
  },
  {
   "cell_type": "markdown",
   "id": "31ead467-9085-4736-b98b-237e28b73b9a",
   "metadata": {},
   "source": [
    "Ostatnią relacją której się przyjrzymy będzie relacja wiele-wiele. Czyli wielu elementom jednej tabeli może być przypisanych wiele elementów innej tabeli. Dodamy `@Entity` reprezentujący wykład - na każdy wykład może uczęszczać wielu studentów jak również jeden student może chodzić na wiele wykładów. Rozpocznijmy od dodania klasy reprezentującej wykład"
   ]
  },
  {
   "cell_type": "code",
   "execution_count": null,
   "id": "9fb7e748-bcdf-4fc4-ac6b-86b895af3416",
   "metadata": {},
   "outputs": [],
   "source": [
    "@Entity\n",
    "public class Lecture {\n",
    "\n",
    "    @NonNull\n",
    "    @PrimaryKey\n",
    "    private final String lectureName;\n",
    "\n",
    "    public Lecture(@NonNull String lectureName) {\n",
    "        this.lectureName = lectureName;\n",
    "    }\n",
    "\n",
    "    @NonNull\n",
    "    public String getLectureName() {\n",
    "        return lectureName;\n",
    "    }\n",
    "}"
   ]
  },
  {
   "cell_type": "markdown",
   "id": "a761bf1d-e390-4e65-b3f9-08914c92d7af",
   "metadata": {},
   "source": [
    "Tutaj nie będziemy dodawać kluczy obcych bezpośrednio do klas - musimy utworzyć nową klasę do której dodamy klucze z obu tabel jako klucze obce. Dodajmy nową klasę `StudentLectureCrossRef`"
   ]
  },
  {
   "cell_type": "code",
   "execution_count": null,
   "id": "f0bd7419-45b5-4852-87c1-a713b795644b",
   "metadata": {},
   "outputs": [],
   "source": [
    "@Entity(primaryKeys = {\"studentName\", \"lectureName\"})\n",
    "public class StudentLectureCrossRef {"
   ]
  },
  {
   "cell_type": "markdown",
   "id": "e8b4dfec-ba29-4c18-9fb0-0e59b45b1396",
   "metadata": {},
   "source": [
    "Tutaj w adnotacji `@Entity` dodajemy informację o kluczach głównych obu tabel dla których tworzymy `CrossRef`. Umoliwi nam to wyciąganie z bazy listy wszystkich studentów uczęszczających na jeden konkretny wykład, jak i również listę wszystkich wykładów na które jest zapisany jeden konkretny student ."
   ]
  },
  {
   "cell_type": "code",
   "execution_count": null,
   "id": "05f4a19f-d955-43a8-bf14-b4fd6789bd1d",
   "metadata": {},
   "outputs": [],
   "source": [
    "@Entity(primaryKeys = {\"studentName\", \"lectureName\"})\n",
    "public class StudentLectureCrossRef {\n",
    "    @NonNull\n",
    "    public String studentName;\n",
    "\n",
    "    @NonNull\n",
    "    @ColumnInfo(index = true)\n",
    "    public String lectureName;\n",
    "\n",
    "    public StudentLectureCrossRef(\n",
    "        @NonNull String lectureName, \n",
    "        @NonNull String studentName) {\n",
    "        this.lectureName = lectureName;\n",
    "        this.studentName = studentName;\n",
    "    }\n",
    "}"
   ]
  },
  {
   "cell_type": "markdown",
   "id": "41daf2d9-f6e3-4561-a770-d8aa6ed8dc66",
   "metadata": {},
   "source": [
    "Jeżeli tworzenie relacji wymaga indeksowania możemy posłużyć się adnotacją `@ColumnInfo(index = true)` - nie każda relacja wiele-wiele wymaga indeksowania. Musimy teraz zdefiniować dwie relacje 1-wiele w których klasa `StudentLectureCrossRef` będzie wykorzystana jako klasa pomocnicza."
   ]
  },
  {
   "cell_type": "code",
   "execution_count": null,
   "id": "d511eac6-6344-4071-b829-3bf7b99a2c95",
   "metadata": {},
   "outputs": [],
   "source": [
    "public class LectureWithStudents {\n",
    "    @Embedded\n",
    "    public Lecture lecture;\n",
    "\n",
    "    @Relation(\n",
    "            parentColumn = \"lectureName\",\n",
    "            entityColumn = \"studentName\",\n",
    "            associateBy = @Junction(StudentLectureCrossRef.class)\n",
    "    )\n",
    "\n",
    "    public List<Student> studentList;\n",
    "}"
   ]
  },
  {
   "cell_type": "code",
   "execution_count": null,
   "id": "7775943f-465b-475b-9cbc-2705ccc5a32c",
   "metadata": {},
   "outputs": [],
   "source": [
    "public class StudentWithLectures {\n",
    "    @Embedded\n",
    "    public Student student;\n",
    "\n",
    "    @Relation(\n",
    "            parentColumn = \"studentName\",\n",
    "            entityColumn = \"lectureName\",\n",
    "            associateBy = @Junction(StudentLectureCrossRef.class)\n",
    "    )\n",
    "\n",
    "    public List<Lecture> lectureList;\n",
    "}"
   ]
  },
  {
   "cell_type": "markdown",
   "id": "ea5adf94-2810-4a90-a040-f45f966e4f47",
   "metadata": {},
   "source": [
    "Jak widzimy klasy te różnią się niewiele od określania relacji 1-wiele - różnicą jest zastosowanie adnotacji `@Junction`. Ponieważ porównanie pól `studentName` i `lectureName` nie jest możliwe, wskazujemy bazie `ROOM` w jaki sposób te dwa pola są ze sobą powiązane za pomocą `associateBy`. Tutaj wymagana jest adnotacja `@Junction` (deklaruje *junction* który zostanie użyty do wykonania `JOIN`)"
   ]
  },
  {
   "cell_type": "markdown",
   "id": "ae88bb09-3672-4490-8a03-f4342bf44db7",
   "metadata": {},
   "source": [
    "Dodajmy kilka metod do `FacultyDao`"
   ]
  },
  {
   "cell_type": "code",
   "execution_count": null,
   "id": "289fcadd-4e48-476b-be60-2f0e86de1252",
   "metadata": {},
   "outputs": [],
   "source": [
    "@Dao\n",
    "public interface FacultyDao {\n",
    "\n",
    "    @Insert(onConflict = OnConflictStrategy.IGNORE)\n",
    "    void insertFaculty(Faculty faculty);\n",
    "\n",
    "    @Insert(onConflict = OnConflictStrategy.IGNORE)\n",
    "    void insertDean(Dean dean);\n",
    "\n",
    "    @Insert(onConflict = OnConflictStrategy.IGNORE)\n",
    "    void insertStudent(Student student);\n",
    "\n",
    "    @Transaction\n",
    "    @Query(\"SELECT * FROM faculty WHERE facultyName = :facultyName\")\n",
    "    FacultyAndDean getFacultyAndDean(String facultyName);\n",
    "\n",
    "    @Transaction\n",
    "    @Query(\"SELECT * FROM student WHERE facultyName = :facultyName\")\n",
    "    List<FacultyWithStudents> getFacultyWithStudents(String facultyName);\n",
    "}"
   ]
  },
  {
   "cell_type": "markdown",
   "id": "f8fceb8a-cda0-4526-8161-1d840493141c",
   "metadata": {},
   "source": [
    "Oraz zmodyfikujmy `entities` w naszej bazie"
   ]
  },
  {
   "cell_type": "code",
   "execution_count": null,
   "id": "4e1c5fb1-051b-4ccc-bd4a-20f5f98669f5",
   "metadata": {},
   "outputs": [],
   "source": [
    "@Database(\n",
    "        entities = {\n",
    "                Faculty.class,\n",
    "                Student.class,\n",
    "                Dean.class,\n",
    "                Lecture.class,\n",
    "                StudentLectureCrossRef.class\n",
    "        },\n",
    "        version = 3,\n",
    "        exportSchema = false\n",
    ")\n",
    "abstract public class FacultyRoomDatabase extends RoomDatabase {"
   ]
  },
  {
   "cell_type": "markdown",
   "id": "bd28d37a-84af-426f-b0a3-678fe75a0bd1",
   "metadata": {},
   "source": [
    "Dodajmy trochę danych testowych o zobaczmy bazę w `App Inspector`"
   ]
  },
  {
   "cell_type": "code",
   "execution_count": null,
   "id": "9c51b43c-61f7-4cd1-b45b-60bfbf40b605",
   "metadata": {},
   "outputs": [],
   "source": [
    "public class MainActivity extends AppCompatActivity {\n",
    "\n",
    "    @Override\n",
    "    protected void onCreate(Bundle savedInstanceState) {\n",
    "        super.onCreate(savedInstanceState);\n",
    "        setContentView(R.layout.activity_main);\n",
    "        FacultyDao dao = FacultyRoomDatabase.getDatabase(this).facultyDao();\n",
    "\n",
    "        FacultyRoomDatabase.dbWriteExecutor.execute(() ->{\n",
    "\n",
    "            List<Faculty> faculties = new ArrayList<>();\n",
    "            faculties.add(new Faculty(\"Physics and Astronomy\"));\n",
    "            faculties.add(new Faculty(\"Computer Science\"));\n",
    "            faculties.add(new Faculty(\"Psychology\"));\n",
    "\n",
    "            List<Dean> deans = new ArrayList<>();\n",
    "            deans.add(new Dean(\"Marek P\", \"Computer Science\"));\n",
    "            deans.add(new Dean(\"Michal P\", \"Psychology\"));\n",
    "            deans.add(new Dean(\"Arek P\", \"Physics and Astronomy\"));\n",
    "            deans.add(new Dean(\"Arek L\", \"Physics\"));\n",
    "\n",
    "            List<Student> students = new ArrayList<>();\n",
    "            students.add(new Student(\"Raf Lew\", 1, \"Physics and Astronomy\"));\n",
    "            students.add(new Student(\"Lew Raf\", 2, \"Computer Science\"));\n",
    "            students.add(new Student(\"R Lew\", 3, \"Physics and Astronomy\"));\n",
    "            students.add(new Student(\"Raf L\", 4, \"Computer Science\"));\n",
    "            students.add(new Student(\"Rafal Lew\", 5, \"Psychology\"));\n",
    "\n",
    "            List<Lecture> lectures = new ArrayList<>();\n",
    "            lectures.add(new Lecture(\"PUM\"));\n",
    "            lectures.add(new Lecture(\"C programming\"));\n",
    "            lectures.add(new Lecture(\"Basic Psychology\"));\n",
    "            lectures.add(new Lecture(\"Fundamental Physics\"));\n",
    "\n",
    "            List<StudentLectureCrossRef> studentsLectureRelations = new ArrayList<>();\n",
    "            studentsLectureRelations.add(new StudentLectureCrossRef(\n",
    "                \"Raf Lew\", \"PUM\"));\n",
    "            studentsLectureRelations.add(new StudentLectureCrossRef(\n",
    "                \"Raf Lew\", \"C Programming\"));\n",
    "            studentsLectureRelations.add(new StudentLectureCrossRef(\n",
    "                \"Raf Lew\", \"Fundamental Physics\"));\n",
    "            studentsLectureRelations.add(new StudentLectureCrossRef(\n",
    "                \"R Lew\", \"PUM\"));\n",
    "            studentsLectureRelations.add(new StudentLectureCrossRef(\n",
    "                \"R Lew\", \"Basic Psychology\"));\n",
    "            studentsLectureRelations.add(new StudentLectureCrossRef(\n",
    "                \"Lew Raf\", \"PUM\"));\n",
    "            studentsLectureRelations.add(new StudentLectureCrossRef(\n",
    "                \"Lew Raf\", \"Fundamental Physics\"));\n",
    "            studentsLectureRelations.add(new StudentLectureCrossRef(\n",
    "                \"Raf L\", \"PUM\"));\n",
    "\n",
    "            for(Dean d : deans)\n",
    "                dao.insertDean(d);\n",
    "\n",
    "            for(Faculty f : faculties)\n",
    "                dao.insertFaculty(f);\n",
    "\n",
    "            for(Student s : students)\n",
    "                dao.insertStudent(s);\n",
    "\n",
    "            for(Lecture l : lectures)\n",
    "                dao.insertLecture(l);\n",
    "\n",
    "            for(StudentLectureCrossRef sl : studentsLectureRelations)\n",
    "                dao.insertStudentLectureCrossRef(sl);\n",
    "        });\n",
    "        FacultyRoomDatabase.dbWriteExecutor.execute(() -> {\n",
    "            FacultyAndDean myFaculty = dao.getFacultyAndDean(\"Physics and Astronomy\");\n",
    "            TextView t1 = findViewById(R.id.textView1);\n",
    "            TextView t2 = findViewById(R.id.textView2);\n",
    "            t1.setText(myFaculty.faculty.getFacultyName());\n",
    "            t2.setText(myFaculty.dean.getDeanName());\n",
    "        });\n",
    "    }\n",
    "}"
   ]
  },
  {
   "cell_type": "markdown",
   "id": "92505a45-1de0-40c1-a0eb-1c3b846e82a1",
   "metadata": {},
   "source": [
    "<img src=\"https://media4.giphy.com/media/ydNTPPeaGmYTSySrrc/giphy.gif?cid=790b7611dc0a9473e080b7798c1208ad1c8de9b2ad91c849&rid=giphy.gif&ct=g\" width=\"400\" />"
   ]
  },
  {
   "cell_type": "code",
   "execution_count": null,
   "id": "1bf3b520-b531-459b-bf26-635c504bc015",
   "metadata": {},
   "outputs": [],
   "source": []
  }
 ],
 "metadata": {
  "kernelspec": {
   "display_name": "Java",
   "language": "java",
   "name": "java"
  },
  "language_info": {
   "codemirror_mode": "java",
   "file_extension": ".jshell",
   "mimetype": "text/x-java-source",
   "name": "Java",
   "pygments_lexer": "java",
   "version": "17+35-2724"
  }
 },
 "nbformat": 4,
 "nbformat_minor": 5
}
