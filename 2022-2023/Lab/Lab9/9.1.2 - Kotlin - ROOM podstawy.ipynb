{
 "cells": [
  {
   "cell_type": "markdown",
   "id": "9ef97e00-31c4-4bf0-8813-2855f8610574",
   "metadata": {},
   "source": [
    " ## 9.1 ROOM - podstawy"
   ]
  },
  {
   "cell_type": "markdown",
   "id": "acd526d4-0ad5-46d6-96bf-639853745701",
   "metadata": {},
   "source": [
    "Przyjrzyjmy się `ROOM` - jest to warstwa abstrakcji służąca jako punkt dostępu do do bazy `SQLite`, znacznie upraszcza pracę z wewnętrzną bazą na urzadzeniu. W tej aplikacji zaimplementujemy bazę przechowującą słowa - umożliwimy wyświetlanie wszystkich słów oraz dodanie nowego elementu. Wykorzystamy elementy architektury - `ViewModel`, `LiveData` oraz `ROOM`. Przykłado pochodzi z oficjalnego [codelab](https://developer.android.com/codelabs/android-room-with-a-view-kotlin#7)."
   ]
  },
  {
   "cell_type": "markdown",
   "id": "6fdfc394-263b-41a5-8e8d-305579f4a51e",
   "metadata": {},
   "source": [
    "<img src=\"https://media3.giphy.com/media/MMcJ5i46Q0FIBspUEQ/giphy.gif\" width=\"200\" />"
   ]
  },
  {
   "cell_type": "markdown",
   "id": "6d4fda69-1880-4762-a706-4cf2472ab9d8",
   "metadata": {},
   "source": [
    "Rozpocznijmy od dodania odpowiednich zależności"
   ]
  },
  {
   "cell_type": "code",
   "execution_count": null,
   "id": "f847d02c-1156-4313-8ef3-8642126c8fbc",
   "metadata": {},
   "outputs": [],
   "source": [
    "plugins {\n",
    "    id 'com.android.application'\n",
    "    id 'org.jetbrains.kotlin.android'\n",
    "    id 'kotlin-android'\n",
    "    id 'kotlin-kapt'\n",
    "}\n",
    "\n",
    "// ROOM\n",
    "implementation(\"androidx.room:room-ktx:2.4.3\")\n",
    "kapt(\"androidx.room:room-compiler:2.4.3\")\n",
    "\n",
    "// ViewModel\n",
    "implementation 'androidx.lifecycle:lifecycle-viewmodel-ktx:2.5.1'\n",
    "// LiveData\n",
    "implementation \"androidx.lifecycle:lifecycle-livedata-ktx:2.5.1\"\n",
    "\n",
    "// Activity\n",
    "implementation \"androidx.activity:activity-ktx:1.5.1\""
   ]
  },
  {
   "cell_type": "markdown",
   "id": "150f5a66-e7c5-4c18-a285-9e0e16d0a00f",
   "metadata": {},
   "source": [
    "Nasza aplikacja składała się tylko z jednej aktywności, na której dodamy `RecyclerView` - tym razem wykorzystamy `ListAdapter` (zamiast zwykłego adaptera) oraz `DiffUtil` do określenia różnic między elementami kolekcji."
   ]
  },
  {
   "cell_type": "markdown",
   "id": "4726ed55-e7ea-4832-812b-e9c0d0940ebc",
   "metadata": {},
   "source": [
    "### **ROOM**"
   ]
  },
  {
   "cell_type": "markdown",
   "id": "d3617492-f393-4d57-96ee-d78da316e535",
   "metadata": {},
   "source": [
    "#### **Entity**"
   ]
  },
  {
   "cell_type": "markdown",
   "id": "d6242244-5be2-4215-92a1-da2fae9da240",
   "metadata": {},
   "source": [
    "Tworzenie bazy rozpoczniemy od klasy `Word` jest to byt (`Entity`) reprezentujący tabelę w bazie `SQLite`."
   ]
  },
  {
   "cell_type": "code",
   "execution_count": null,
   "id": "9fcea499-4696-4d67-a5ba-d60d1dd44c0d",
   "metadata": {},
   "outputs": [],
   "source": [
    "@Entity(tableName = \"word_table\")\n",
    "class Word()"
   ]
  },
  {
   "cell_type": "markdown",
   "id": "e80b5f2b-312f-4bd4-8dc7-1e1f0daa38a1",
   "metadata": {},
   "source": [
    "`@Entity(tableName = \"word_table\")` - każda klasa oznaczona adnotacją `@Entity` reprezentuje tabelę `SQLite`. Możemy określić nazwę tabeli jaką chcemy nadać w samej bazie wykorzystując właściwość `tableName` - tylko w przypadku gdy chcemy aby nazwa tabeli była inna niż nazwa klasy.\n",
    "\n",
    "Nasza klasa będzie posiadała jedną właściwość (pole), będzie to słowo (`word`) typu `String`. Każda właściwość w klasie reprezentuje kolumnę w tabeli - więc w naszym przykładzie zostanie utworzona jedna tabela o nazwie `word_table` posiadająca jedną kolumnę o nazwie `word`."
   ]
  },
  {
   "cell_type": "code",
   "execution_count": null,
   "id": "6a7c5775-bddf-4b92-a075-112d0353642a",
   "metadata": {},
   "outputs": [],
   "source": [
    "@Entity(tableName = \"word_table\")\n",
    "class Word(@PrimaryKey @ColumnInfo(name = \"word\") val word: String)"
   ]
  },
  {
   "cell_type": "markdown",
   "id": "6bd87102-74ff-47b6-990e-4a51ecea304f",
   "metadata": {},
   "source": [
    "- `@PrimaryKey` - każda `Entity` wymaga posiadania jednego klucza głównego (unikalnego identyfikatora), w tym przykładzie, dla uproszczenia, samo słowo będzie jednocześnie kluczem głównym.\n",
    "- `@NonNull` - oznacza że parametr, pole lub wartość zwracana metody nie może mieć wartości `null`\n",
    "- `@ColumnInfo(name = \"word\")` - pozwala nadać nazwę kolumnie, jeżeli jest ona inna niż nazwa pola - w tym przykładzie jest ona taka sama, więc tą adnotację możemy usunąć."
   ]
  },
  {
   "cell_type": "markdown",
   "id": "971a2908-c931-436b-8def-34bb1ede38fa",
   "metadata": {},
   "source": [
    "#### **DAO**"
   ]
  },
  {
   "cell_type": "markdown",
   "id": "e82b4d28-8d0f-4208-843e-31c9c7738222",
   "metadata": {},
   "source": [
    "`DAO` (*Data Access Object*) weryfikuje kod `SQL` podczas kompilacji i powiązuje go z odpowiednią metodą - musi być interfejsem lub klasą abstrakcyjną."
   ]
  },
  {
   "cell_type": "code",
   "execution_count": null,
   "id": "b15a64cb-3ae6-4956-a9b6-47726733268c",
   "metadata": {},
   "outputs": [],
   "source": [
    "@Dao\n",
    "interface WordDao {"
   ]
  },
  {
   "cell_type": "markdown",
   "id": "4d41f30b-ae4d-4b6a-9c6c-7fdaa8d2f5cc",
   "metadata": {},
   "source": [
    "Podobnie jak przy `@Entity` posługujemy się adnotacją `@Dao` do oznaczenia interfejsu jako części `ROOM`. Tutaj dodamy kilka metod pozwialających nam dodać element do bazy, usunąć wszystkie elementy oraz wyciągnąć z bazy listę posortowanych elementów. Rozpocznijmy od metody `insert`"
   ]
  },
  {
   "cell_type": "code",
   "execution_count": null,
   "id": "b0d2c541-793a-4513-b70d-4cfe9f83ebe6",
   "metadata": {},
   "outputs": [],
   "source": [
    "    @Insert(onConflict = OnConflictStrategy.IGNORE)\n",
    "    suspend fun insert(word: Word)"
   ]
  },
  {
   "cell_type": "markdown",
   "id": "b83dfe11-e5d1-46ec-83ac-d9a091a4a5ad",
   "metadata": {},
   "source": [
    "- `suspend fun insert(word: Word);` deklaruje funkcję zawieszenia wstawiającą jeden element\n",
    "- `@Insert` - specjalna adnotacja, która nie wymaga podawania wprost kodu `SQL` - istanieją jeszcze `@Delete` oraz `@Update` - mocno ułatwia to wykonywanie podstawowych operacji na bazie\n",
    "- `onConflictStrategy` - określa zachowanie w przypadku wystąpienia konfliktu podczas próby dodania elementu do bazy (czyli próby dodania elementu który już istnieje) - tutaj będziemy ignorować, czyli próba dodania słowa które już istnieje w bazie zostanie zignorowana\n",
    "\n",
    "Kolejną będzie metoda usuwająca wszystkie elementy z listy"
   ]
  },
  {
   "cell_type": "code",
   "execution_count": null,
   "id": "93db4b56-38f9-4b61-ac21-c6276f5dd919",
   "metadata": {},
   "outputs": [],
   "source": [
    "    @Query(\"DELETE FROM word_table\")\n",
    "    suspend fun deleteAll()"
   ]
  },
  {
   "cell_type": "markdown",
   "id": "66fafdf0-8861-4257-8657-c988389241d2",
   "metadata": {},
   "source": [
    "Adnotacja `@Delete` służy do usuwania tylko jednego elementu, do usunięcia wszystkich musimy dodać odpowiednie zapytanie.\n",
    "- `@Query` - wymaga podania zapytania SQL jako parametru typu `String`"
   ]
  },
  {
   "cell_type": "markdown",
   "id": "ebe07ce5-a04c-4d22-96a4-73c7105e9ada",
   "metadata": {},
   "source": [
    "Ostatnią metodą będzie `getAlphabetizedWords` zwracająca posortowaną listę wszystkich słów."
   ]
  },
  {
   "cell_type": "code",
   "execution_count": null,
   "id": "a820ad62-dc17-43f1-a4cf-cdecf1d14e25",
   "metadata": {},
   "outputs": [],
   "source": [
    "    @Query(\"SELECT * FROM word_table ORDER BY word ASC\")\n",
    "    fun getAlphabetizedWords(): LiveData<List<Word>>"
   ]
  },
  {
   "cell_type": "markdown",
   "id": "f6cb32e5-de7d-486b-927a-a5680d341d59",
   "metadata": {},
   "source": [
    "Metoda zwraca listę wszystkich słów jako `LiveData`"
   ]
  },
  {
   "cell_type": "markdown",
   "id": "19c3f218-74f5-403e-b429-b0c1e27c399d",
   "metadata": {},
   "source": [
    "#### **RoomDatabase**"
   ]
  },
  {
   "cell_type": "markdown",
   "id": "93531d39-c83d-4659-8242-7cb0afbd77d0",
   "metadata": {},
   "source": [
    "Jedną z ważniejszych cech bazy `ROOM` jest brak zezwolenia na wykonywanie zapytań na wątku głównym (nazywanym również wątkiem ui). Wszystkie zapytania zwracające dane z bazy są wykonywane asynchronicznie. Klasa reprezentująca samą bazę musi być **klasą abstrakcyjną** i musi rozszerzać klasę `RoomDatabase`."
   ]
  },
  {
   "cell_type": "code",
   "execution_count": null,
   "id": "06390dc2-a034-4eee-a8e4-4742ca03b3fa",
   "metadata": {},
   "outputs": [],
   "source": [
    "@Database(entities = [Word::class], version = 1, exportSchema = false)\n",
    "abstract class WordRoomDatabase : RoomDatabase() {"
   ]
  },
  {
   "cell_type": "markdown",
   "id": "98618089-411e-4255-a01f-b4b19c014f61",
   "metadata": {},
   "source": [
    "Ponownie wykorzystujemy adnotację aby poinformować kompilator że ta klasa jest komponentem `ROOM`. Sama adnotacja `@Database` przyjmuje kilka parametrów\n",
    "- `entities` - określa byty (tabele) należące do bazy\n",
    "- `version` - określa wersję bazy\n",
    "- `exportSchema` - migracje baz danych tutaj pominiemy, więc ustawimy na `false`"
   ]
  },
  {
   "cell_type": "markdown",
   "id": "1f81c634-84ad-4c46-9763-cddba4f90785",
   "metadata": {},
   "source": [
    "Baza wystawia `DAO` przez abstrakcyjny getter dla każdego `@Dao`."
   ]
  },
  {
   "cell_type": "code",
   "execution_count": null,
   "id": "48d62411-114e-46d4-8dec-2ff2c52453de",
   "metadata": {},
   "outputs": [],
   "source": [
    "    abstract fun wordDao(): WordDao"
   ]
  },
  {
   "cell_type": "markdown",
   "id": "b9ce0b4a-5176-4606-bd09-a8519c357e86",
   "metadata": {},
   "source": [
    "Samą bazę zaimplementujemy jako `Singleton` aby zapobiec tworzeniu wielu instancji bazy. Innymi słowy chcemy zapobiec wielokrotnemu otwarciu bazy i niekontrolowanemu wykonywaniu operacji."
   ]
  },
  {
   "cell_type": "markdown",
   "id": "b7a45435-6dee-4ab7-84f8-7ed29ccb75a4",
   "metadata": {},
   "source": [
    "W pierwszym kroku dodajmy zmienną `INSTANCE` w której będziemy przechowywać naszą jedyną instancję teggo obiektu"
   ]
  },
  {
   "cell_type": "code",
   "execution_count": null,
   "id": "a086a774-5935-43e6-916d-21ea99e02cef",
   "metadata": {},
   "outputs": [],
   "source": [
    "    companion object {\n",
    "        @Volatile\n",
    "        private var INSTANCE: WordRoomDatabase? = null"
   ]
  },
  {
   "cell_type": "markdown",
   "id": "ecb2be98-a69f-40c9-a7b6-32447b4c2e48",
   "metadata": {},
   "source": [
    "Potrzebujemy jeszcze metodę `getDatabase`, która zainicjuje nam bazę jeżeli ta jeszcze nie istnieje, lub zwróci nam `INSTANCE` jeżeli została utworzona wcześniej."
   ]
  },
  {
   "cell_type": "code",
   "execution_count": null,
   "id": "e74ac248-f842-4b86-8de9-2d2c06f8e5f8",
   "metadata": {},
   "outputs": [],
   "source": [
    "    fun getDatabase(context: Context): WordRoomDatabase {\n",
    "        return INSTANCE ?: synchronized(this) {\n",
    "            val instance = Room.databaseBuilder(\n",
    "                context.applicationContext,\n",
    "                WordRoomDatabase::class.java,\n",
    "                \"word_database_kotlin\"\n",
    "            ).build().also { INSTANCE = it }\n",
    "            instance\n",
    "        }\n",
    "    }"
   ]
  },
  {
   "cell_type": "markdown",
   "id": "11b5ea10-f144-4feb-82dc-901abcd1e03a",
   "metadata": {},
   "source": [
    "W tym celu wykorzystujemy `Room.databaseBuilder` który przyjmuje kontekst. Zwróćmy uwagę na zastosowanie kontekstu aplikacji, a nie np. aktywności - kontekst aplikacji jest najszerszym kontekstem i najczęściej to na nim tworzymy bazę i wszystkie powiązane z nią elementy."
   ]
  },
  {
   "cell_type": "markdown",
   "id": "405e1ab1-4dfd-4ef4-8f3b-a1249af7a7c5",
   "metadata": {},
   "source": [
    "### **ViewModel**"
   ]
  },
  {
   "cell_type": "markdown",
   "id": "4f5b3090-6970-4d17-967c-d3d36b838da3",
   "metadata": {},
   "source": [
    "Utwórzmy `ViewModel` - tym razem rozszerzymy `AndroidViewModel`, a nie jak poprzednio `ViewModel` - różnica jest w parametrze. `AndroidViewModel` może przekazać parametr - `RoomDatabase` wymaga podania kontekstu (zazwyczaj jest nim `Application`), który przekazujemy jako parametr. Dodajmy też dwa pola reprezentujące bazę danych oraz `LiveData` naszej listy słów."
   ]
  },
  {
   "cell_type": "code",
   "execution_count": null,
   "id": "a7f29c6c-fe44-4fdb-b9f6-16e5377c30ef",
   "metadata": {},
   "outputs": [],
   "source": [
    "class WordViewModel(application: Application) : AndroidViewModel(application) {\n",
    "    private val db: WordRoomDatabase\n",
    "    val getAllWords: LiveData<List<Word>>"
   ]
  },
  {
   "cell_type": "markdown",
   "id": "89fe9d81-2cdd-463a-9b9f-c79feb772868",
   "metadata": {},
   "source": [
    "Dodajmy również blok `init`"
   ]
  },
  {
   "cell_type": "code",
   "execution_count": null,
   "id": "cfe47d65-dfab-485d-b949-fad8d7e7c23c",
   "metadata": {},
   "outputs": [],
   "source": [
    "    init {\n",
    "        db = WordRoomDatabase.getDatabase(application)\n",
    "        getAllWords = db.wordDao().getAlphabetizedWords()\n",
    "    }"
   ]
  },
  {
   "cell_type": "markdown",
   "id": "628b9814-2ed4-4fab-8e97-18815182ac3e",
   "metadata": {},
   "source": [
    "Ostatnią metodą klasy będzie `insert` umożliwiająca dodanie elementu do bazy - wykorzystamy `Coroutines` z `viewModelScope`"
   ]
  },
  {
   "cell_type": "code",
   "execution_count": null,
   "id": "18af87f1-8ef9-4084-9a46-185f2dc51e1b",
   "metadata": {},
   "outputs": [],
   "source": [
    "    fun insert(word: Word) {\n",
    "        viewModelScope.launch{\n",
    "            db.wordDao().insert(word)\n",
    "        }\n",
    "    }"
   ]
  },
  {
   "cell_type": "markdown",
   "id": "a0eff644-bd70-4bde-b569-b80eec781bc3",
   "metadata": {},
   "source": [
    "### **RecyclerView + ListAdapter + DiffUtil**"
   ]
  },
  {
   "cell_type": "markdown",
   "id": "1f8b120a-23ba-40fa-88ef-204ae84c186c",
   "metadata": {},
   "source": [
    "Przejdźmy do wyświetlenia danych i umożliwienia dodania nowego słowa. Wpierw zdefiniujmy layouty. Layout głównej aktywności zawierający `RecyclerView`"
   ]
  },
  {
   "cell_type": "code",
   "execution_count": null,
   "id": "cef32a94-b444-4369-9e68-2fb9591b7375",
   "metadata": {},
   "outputs": [],
   "source": [
    "<?xml version=\"1.0\" encoding=\"utf-8\"?>\n",
    "<androidx.constraintlayout.widget.ConstraintLayout\n",
    "    xmlns:android=\"http://schemas.android.com/apk/res/android\"\n",
    "    xmlns:app=\"http://schemas.android.com/apk/res-auto\"\n",
    "    xmlns:tools=\"http://schemas.android.com/tools\"\n",
    "    android:layout_width=\"match_parent\"\n",
    "    android:layout_height=\"match_parent\"\n",
    "    tools:context=\".view.MainActivity\">\n",
    "\n",
    "    <androidx.recyclerview.widget.RecyclerView\n",
    "        android:id=\"@+id/recyclerview\"\n",
    "        android:layout_width=\"0dp\"\n",
    "        android:layout_height=\"0dp\"\n",
    "        tools:listitem=\"@layout/recyclerview_item\"\n",
    "        android:padding=\"12dp\"\n",
    "        app:layout_constraintBottom_toBottomOf=\"parent\"\n",
    "        app:layout_constraintLeft_toLeftOf=\"parent\"\n",
    "        app:layout_constraintRight_toRightOf=\"parent\"\n",
    "        app:layout_constraintTop_toTopOf=\"parent\" />\n",
    "\n",
    "    <com.google.android.material.floatingactionbutton.FloatingActionButton\n",
    "        android:id=\"@+id/fab\"\n",
    "        app:layout_constraintBottom_toBottomOf=\"parent\"\n",
    "        app:layout_constraintEnd_toEndOf=\"parent\"\n",
    "        android:layout_width=\"wrap_content\"\n",
    "        android:layout_height=\"wrap_content\"\n",
    "        android:layout_margin=\"16dp\"\n",
    "        android:contentDescription=\"add word\"\n",
    "        android:src=\"@drawable/ic_add\"/>\n",
    "\n",
    "</androidx.constraintlayout.widget.ConstraintLayout>"
   ]
  },
  {
   "cell_type": "markdown",
   "id": "17a9a5fd-00b1-41d6-971b-59ca70f1aa4d",
   "metadata": {},
   "source": [
    "Dodajmy również layout dla pojedynczego elementu listy"
   ]
  },
  {
   "cell_type": "code",
   "execution_count": null,
   "id": "889f1b78-a8bd-4a2a-a801-0331e2770c96",
   "metadata": {},
   "outputs": [],
   "source": [
    "<?xml version=\"1.0\" encoding=\"utf-8\"?>\n",
    "<LinearLayout xmlns:android=\"http://schemas.android.com/apk/res/android\"\n",
    "    android:orientation=\"vertical\"\n",
    "    android:layout_width=\"match_parent\"\n",
    "    android:layout_height=\"wrap_content\">\n",
    "\n",
    "    <TextView\n",
    "        android:id=\"@+id/textView\"\n",
    "        android:layout_width=\"match_parent\"\n",
    "        android:layout_height=\"wrap_content\" />\n",
    "</LinearLayout>"
   ]
  },
  {
   "cell_type": "markdown",
   "id": "9988662e-de4f-4475-a12b-6dd64702c1c0",
   "metadata": {},
   "source": [
    "Rozpocznijmy od utworzenia klasy `ViewHolder`"
   ]
  },
  {
   "cell_type": "code",
   "execution_count": null,
   "id": "2da185dd-6988-4813-ab08-7e7061fbeb70",
   "metadata": {},
   "outputs": [],
   "source": [
    "class WordViewHolder(itemView: View) : RecyclerView.ViewHolder(itemView) {\n",
    "    private val wordItemView: TextView = itemView.findViewById(R.id.textView)\n",
    "\n",
    "    fun bind(text: String?) {\n",
    "        wordItemView.text = text\n",
    "    }\n",
    "}"
   ]
  },
  {
   "cell_type": "markdown",
   "id": "57290fc9-f763-40b9-8802-18ed3194dd40",
   "metadata": {},
   "source": [
    "Następnie Dodajmy klasę `WordComparator` rozszerzjącą klasę `DiffUtil.ItemCallback`, służy ona dwóm celom\n",
    "- indeksowanie list\n",
    "- rozróżnianie elementów\n",
    "\n",
    "Mamy do zaimplementowania dwie metody\n",
    "- `areItemsTheSame` - wskazująca czy dwa elementy są tym samym (np. porównanie referencyjne)\n",
    "- `areContentsTheSame` - wskazująca czy dwa elementy są takie same (np. porównanie strukturalne)"
   ]
  },
  {
   "cell_type": "code",
   "execution_count": null,
   "id": "720dfdad-abfa-4188-8d2c-791f24ad4b81",
   "metadata": {},
   "outputs": [],
   "source": [
    "class WordsComparator : DiffUtil.ItemCallback<Word>() {\n",
    "    override fun areItemsTheSame(oldItem: Word, newItem: Word): Boolean {\n",
    "        return oldItem === newItem\n",
    "    }\n",
    "\n",
    "    override fun areContentsTheSame(oldItem: Word, newItem: Word): Boolean {\n",
    "        return oldItem.word == newItem.word\n",
    "    }\n",
    "}"
   ]
  },
  {
   "cell_type": "markdown",
   "id": "01449e22-4bd2-40a3-9af4-cf17e8fb23b8",
   "metadata": {},
   "source": [
    "Pozostaje implementacja `WordListAdapter` rozszerzającej `ListAdapter` - jest to klasa dostarczająca taką samą funkcjonalność jak `RecyclerView.Adapter`, dodatkowo umożliwia obliczenie różnic między listami (na wątku roboczym)"
   ]
  },
  {
   "cell_type": "code",
   "execution_count": null,
   "id": "067f6b02-2274-4006-80b6-ef6041611109",
   "metadata": {},
   "outputs": [],
   "source": [
    "class WordListAdapter(wordsComparator: WordsComparator) : ListAdapter<Word, WordViewHolder>(wordsComparator) {\n",
    "\n",
    "    override fun onCreateViewHolder(parent: ViewGroup, viewType: Int): WordViewHolder {\n",
    "        return WordViewHolder(LayoutInflater.from(parent.context).inflate(\n",
    "            R.layout.recyclerview_item, parent, false\n",
    "        ))\n",
    "    }\n",
    "\n",
    "    override fun onBindViewHolder(holder: WordViewHolder, position: Int) {\n",
    "        val current = getItem(position)\n",
    "        holder.bind(current.word)\n",
    "    }\n",
    "}"
   ]
  },
  {
   "cell_type": "markdown",
   "id": "27040b97-0999-47e0-974f-6423bfdd0c20",
   "metadata": {},
   "source": [
    "### **Aktywność**"
   ]
  },
  {
   "cell_type": "markdown",
   "id": "b4fb55a2-35ad-449e-9463-de05142db3c7",
   "metadata": {},
   "source": [
    "Do głównej aktywności dodajmy dwie zmienne"
   ]
  },
  {
   "cell_type": "code",
   "execution_count": null,
   "id": "1a656d16-d754-46f5-848b-eef2f826d98d",
   "metadata": {},
   "outputs": [],
   "source": [
    "    private val wordViewModel: WordViewModel by viewModels()\n",
    "\n",
    "    private var num = 0 // licznik słów"
   ]
  },
  {
   "cell_type": "markdown",
   "id": "83cf77b1-0d7f-4399-b577-95f2e7e58151",
   "metadata": {},
   "source": [
    "Dodajmy `Recyclerview`"
   ]
  },
  {
   "cell_type": "code",
   "execution_count": null,
   "id": "8c2cdf5c-675c-4020-8cbd-b83eeea0f699",
   "metadata": {},
   "outputs": [],
   "source": [
    "val recyclerView = findViewById<RecyclerView>(R.id.recyclerview)\n",
    "val adapter = WordListAdapter(WordsComparator())\n",
    "recyclerView.adapter = adapter\n",
    "recyclerView.layoutManager = LinearLayoutManager(this)"
   ]
  },
  {
   "cell_type": "markdown",
   "id": "9664ad17-1fb4-4712-a539-be7721727308",
   "metadata": {},
   "source": [
    "Podłączmy obserwator do listy słów"
   ]
  },
  {
   "cell_type": "code",
   "execution_count": null,
   "id": "b4a7bbea-11f9-4a7f-8cea-19ff87313d90",
   "metadata": {},
   "outputs": [],
   "source": [
    "wordViewModel.getAllWords.observe(this) { words ->\n",
    "    words?.let { adapter.submitList(it) }\n",
    "}"
   ]
  },
  {
   "cell_type": "markdown",
   "id": "449349b8-07b9-4b38-9fb1-29508a4fb438",
   "metadata": {},
   "source": [
    "Gdy pojawia się nowa wersja listy wywołujemy metodę `submitList` klasy `ListAdapter` - lista zostaje automatycznie odświeżona przy każdej zmianie."
   ]
  },
  {
   "cell_type": "markdown",
   "id": "8ac37fd9-19ac-4a8c-9e10-fec5165e870d",
   "metadata": {},
   "source": [
    "Na koniec dodajmy możliwość dodania nowego słowa"
   ]
  },
  {
   "cell_type": "code",
   "execution_count": null,
   "id": "2cc30df2-16a3-4160-a086-7d716a17a881",
   "metadata": {},
   "outputs": [],
   "source": [
    "val fab = findViewById<FloatingActionButton>(R.id.fab)\n",
    "fab.setOnClickListener {\n",
    "    wordViewModel.insert(Word(\"word $num\"))\n",
    "    num++\n",
    "}"
   ]
  },
  {
   "cell_type": "markdown",
   "id": "9f36bb73-c19f-4814-be9e-b74759851122",
   "metadata": {},
   "source": [
    "Możemy przetestować aplikację"
   ]
  },
  {
   "cell_type": "markdown",
   "id": "fe574bdc-3205-47fa-a5cb-7253ac58bfc7",
   "metadata": {},
   "source": [
    "<img src=\"https://media3.giphy.com/media/MMcJ5i46Q0FIBspUEQ/giphy.gif\" width=\"150\" />"
   ]
  }
 ],
 "metadata": {
  "kernelspec": {
   "display_name": "Kotlin",
   "language": "kotlin",
   "name": "kotlin"
  },
  "language_info": {
   "codemirror_mode": "text/x-kotlin",
   "file_extension": ".kt",
   "mimetype": "text/x-kotlin",
   "name": "kotlin",
   "nbconvert_exporter": "",
   "pygments_lexer": "kotlin",
   "version": "1.6.20-dev-6372"
  }
 },
 "nbformat": 4,
 "nbformat_minor": 5
}
