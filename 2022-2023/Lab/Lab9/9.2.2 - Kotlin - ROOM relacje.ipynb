{
 "cells": [
  {
   "cell_type": "markdown",
   "id": "39a569d9-5e58-4d98-bc57-c76de171522a",
   "metadata": {},
   "source": [
    "## 9.2 ROOM - relacje"
   ]
  },
  {
   "cell_type": "markdown",
   "id": "d19a64df-ee0f-4214-9134-512876b44d98",
   "metadata": {},
   "source": [
    "Aplikacja będzie zawierała tylko pojedynczą aktywność, jednak skupimy się tylko na bazie `ROOM` i kilku możliwym relacjom pomiędzy tabelami. Poprawność samej bazy zweryfikujemy za pomocą `App Inspector` - nie będziemy przygotowywać layotu ani przesyłać danych z bazy, skupimy się tylko na samym `ROOM`."
   ]
  },
  {
   "cell_type": "markdown",
   "id": "82852791-0993-49f6-b4d1-376c267a01ec",
   "metadata": {},
   "source": [
    "Sama baza będzie składała się z kilku tabel reprezentujących wydział. Rozpocznijmy od dodanie odpowiednich zależności do aplikacji"
   ]
  },
  {
   "cell_type": "code",
   "execution_count": null,
   "id": "ae3ffea9-8b9d-4126-9003-9a49b24f8d5a",
   "metadata": {},
   "outputs": [],
   "source": [
    "    // ROOM\n",
    "    implementation \"androidx.room:room-runtime:2.4.3\"\n",
    "    annotationProcessor \"androidx.room:room-compiler:2.4.3\"\n",
    "\n",
    "    // ViewModel\n",
    "    implementation 'androidx.lifecycle:lifecycle-viewmodel:2.5.1'\n",
    "    // LiveData\n",
    "    implementation \"androidx.lifecycle:lifecycle-livedata:2.5.1\""
   ]
  },
  {
   "cell_type": "markdown",
   "id": "86f317be-199a-475c-a80f-fec36ce9dfc9",
   "metadata": {},
   "source": [
    "### **Relacja 1-1**"
   ]
  },
  {
   "cell_type": "markdown",
   "id": "c03545a8-e6c5-4220-8493-7bdcf241d606",
   "metadata": {},
   "source": [
    "W relacji 1-1 jednemu elementowi jednej tabeli odpowiada dokładnie jeden element innej tabeli. Rozpocznijmy od dodania `@Entity` reprezentującego dziekana."
   ]
  },
  {
   "cell_type": "code",
   "execution_count": null,
   "id": "0123f96a-85aa-4746-bd39-f01e9c03abf1",
   "metadata": {},
   "outputs": [],
   "source": [
    "@Entity\n",
    "data class Dean ("
   ]
  },
  {
   "cell_type": "markdown",
   "id": "3db4d1c0-efc5-4dc2-9b30-5d7001a3de4f",
   "metadata": {},
   "source": [
    "Klasa będzie posiadać dwa pola - `deanName` oraz `facultyName` - pierwsze wykorzystamy jako klucz główny"
   ]
  },
  {
   "cell_type": "code",
   "execution_count": null,
   "id": "3ccd6e55-7410-4602-90cc-143ceba6101d",
   "metadata": {},
   "outputs": [],
   "source": [
    "@Entity\n",
    "data class Dean (\n",
    "    @PrimaryKey(autoGenerate = false)\n",
    "    val deanName: String,\n",
    "    val facultyName: String\n",
    ")"
   ]
  },
  {
   "cell_type": "markdown",
   "id": "bfede9fc-c0bc-4099-969a-82418b6f6def",
   "metadata": {},
   "source": [
    "Czyli każdy dziekan posiada swoją nazwę oraz wydział do którego jest przypisany.\n",
    "\n",
    "Następnie dodajmy `@Entity` opisujący sam wydział."
   ]
  },
  {
   "cell_type": "code",
   "execution_count": null,
   "id": "e83bf8a1-be18-4fce-b894-09fdad208bdd",
   "metadata": {},
   "outputs": [],
   "source": [
    "@Entity\n",
    "data class Faculty (\n",
    "    @PrimaryKey(autoGenerate = false)\n",
    "    val facultyName: String\n",
    ")"
   ]
  },
  {
   "cell_type": "markdown",
   "id": "d3dd2167-0251-4c2d-bf33-69886c04e7e1",
   "metadata": {},
   "source": [
    "Klasa `Faculty` posiada jedno pole reprezentujące nazwę wydziału.\n",
    "\n",
    "Dzięki zastosowaniu adnotacji `@Entity` tabele `Dean` oraz `Faculty` zostaną utworzone w bazie danych. Następnie ustalimy relację pomiędzy tymi dwiema tabelami. Wydział może posiadać tylko jednego dziakana oraz dziekan może zarządzać tylko jednym wydziałem, mamy tutaj relację **1-1** - jest to najprostsza relacja.\n",
    "\n",
    "Taką relację musimy opisać w odpowiedniej klasie - relację pomiędzy dziekanem a wydziałem opiszemy w klasie `FacultyAndDean`"
   ]
  },
  {
   "cell_type": "code",
   "execution_count": null,
   "id": "4a619d48-1eeb-4766-954a-7631f7ed2189",
   "metadata": {},
   "outputs": [],
   "source": [
    "data class FacultyAndDean ("
   ]
  },
  {
   "cell_type": "markdown",
   "id": "f774e7e5-6a75-430d-9d42-832176870f02",
   "metadata": {},
   "source": [
    "Ponieważ mamy relację 1-1 to jej kierunek nie ma znaczenia - w tym przykładzie mamy pole reprezentujące wydział - `facultyName` w klasie `Dean`, więc powiążemy dziekana z wydziałem. Pole `facultyName` w klasie `Dean` jest tzw. **kluczem obcym**."
   ]
  },
  {
   "cell_type": "code",
   "execution_count": null,
   "id": "542a6053-9004-4c07-808d-a46af1688916",
   "metadata": {},
   "outputs": [],
   "source": [
    "data class FacultyAndDean (\n",
    "    @Embedded val faculty: Faculty,"
   ]
  },
  {
   "cell_type": "markdown",
   "id": "9cf93e99-30a7-40d8-8eb3-d224c1b1ef73",
   "metadata": {},
   "source": [
    "W pierwszym kroku dodajemy pole `Faculty` i oznaczamy je jako `@Embedded` - adnotacja ta informuje kompilator że pole `faculty` jest bytem (`@Entity`) bazy `ROOM`, a co za tym idzie, może uzyskać do niego dostęp bezpośrednio przez wygenerowanie zapytania `SQL`.\n",
    "\n",
    "Drugim polem będzie instancja klasy `Dean` - już bez adnotacji."
   ]
  },
  {
   "cell_type": "code",
   "execution_count": null,
   "id": "f5cdbc57-1676-48e4-b9f8-6815adcf3f2b",
   "metadata": {},
   "outputs": [],
   "source": [
    "public class FacultyAndDean {\n",
    "    @Embedded\n",
    "    public Faculty faculty;\n",
    "\n",
    "    public Dean dean;\n",
    "}"
   ]
  },
  {
   "cell_type": "markdown",
   "id": "a4b4065c-b26f-4717-aa2b-040f9f2213e8",
   "metadata": {},
   "source": [
    "Po wybraniu odpowiedniego wydziału (przez automatycznie wygenerowanie zapytanie `SQL`) do pola `dean` zostanie zwrócony przydzielony dziekan.\n",
    "\n",
    "Pozostaje nam określić relację pomiędzy tymi dwiema tabelami"
   ]
  },
  {
   "cell_type": "code",
   "execution_count": null,
   "id": "c67cb71e-a7d3-4492-8c38-5b82e79cea9a",
   "metadata": {},
   "outputs": [],
   "source": [
    "data class FacultyAndDean (\n",
    "    @Embedded val faculty: Faculty,\n",
    "\n",
    "    @Relation(\n",
    "        parentColumn = \"facultyName\", // Faculty\n",
    "        entityColumn = \"facultyName\"  // Student\n",
    "    )\n",
    "\n",
    "    val dean: Dean\n",
    "    )"
   ]
  },
  {
   "cell_type": "markdown",
   "id": "26509691-2ab7-43be-b8ce-795d250e1a4d",
   "metadata": {},
   "source": [
    "Czyli porównujemy, czy pole `facultyName` klasy `Faculty` oraz `facultyName` klasy `Dean`. Czyli klasa `FacultyAndDean` umożliwia automatyczne wykonanie `JOIN` i zwrócenie odpowiednich elementów z obu tabel."
   ]
  },
  {
   "cell_type": "markdown",
   "id": "e2ca6d3b-1c53-44fd-92f8-e1e99c03f3f3",
   "metadata": {},
   "source": [
    "Przejdźmy do utworzenia `FacultyDao`"
   ]
  },
  {
   "cell_type": "code",
   "execution_count": null,
   "id": "af2bdb2c-5cb6-4211-abb3-473b01703e05",
   "metadata": {},
   "outputs": [],
   "source": [
    "@Dao\n",
    "interface FacultyDao {"
   ]
  },
  {
   "cell_type": "markdown",
   "id": "fa0ca439-cd99-497b-81a7-6bce02ea60d1",
   "metadata": {},
   "source": [
    "Dodajmy kilka metod\n",
    "- dodanie nowego dziekana"
   ]
  },
  {
   "cell_type": "code",
   "execution_count": null,
   "id": "374a1c12-f060-43a4-be48-5dc33cd1b732",
   "metadata": {},
   "outputs": [],
   "source": [
    "    @Insert(onConflict = OnConflictStrategy.IGNORE)\n",
    "    suspend fun insertDean(dean: Dean)"
   ]
  },
  {
   "cell_type": "markdown",
   "id": "40b8443a-3990-4042-873e-38b092e254e7",
   "metadata": {},
   "source": [
    "- dodanie nowego wydziału"
   ]
  },
  {
   "cell_type": "code",
   "execution_count": null,
   "id": "acce6149-dc85-4cd1-8ec6-c3104b1ca1a3",
   "metadata": {},
   "outputs": [],
   "source": [
    "    @Insert(onConflict = OnConflictStrategy.IGNORE)\n",
    "    suspend fun insertFaculty(faculty: Faculty)"
   ]
  },
  {
   "cell_type": "markdown",
   "id": "dba0f79b-b8d0-42d2-bc93-cafc6d7272a9",
   "metadata": {},
   "source": [
    "- metoda zwracająca wydział oraz przypisany do niego dziekan. Ponieważ pracujemy tutaj na dwóch tabelach, chcemy zapewnić bezpieczeństwo zec względu na wątki - w tym celu używamy adnotacji `@Transaction`. W tej metodzie odwołujemy się bezpośrednio do tabeli `faculty`, jednak będziemy również przeszukiwać tabelę `dean`, więc nie chcemy aby w tym samym czasie inny wątek tą tabelę np. modyfikował."
   ]
  },
  {
   "cell_type": "code",
   "execution_count": null,
   "id": "5bf40b64-2154-4e4e-8540-432a5e6d8b8f",
   "metadata": {},
   "outputs": [],
   "source": [
    "    @Transaction\n",
    "    @Query(\"SELECT * FROM faculty WHERE facultyName = :facultyName\")\n",
    "    suspend fun getFacultyAndDean(facultyName: String): FacultyAndDean"
   ]
  },
  {
   "cell_type": "markdown",
   "id": "8c3a8053-f6b4-441d-88fd-46c35f705ebb",
   "metadata": {},
   "source": [
    "Dodajmy klasę `FacultyRoomDatabase`"
   ]
  },
  {
   "cell_type": "code",
   "execution_count": null,
   "id": "2bd54f51-ced6-43c0-9264-1f156272eef0",
   "metadata": {},
   "outputs": [],
   "source": [
    "@Database(\n",
    "    entities = [\n",
    "        Faculty::class,\n",
    "        Dean::class,\n",
    "    ],\n",
    "    version = 1,\n",
    "    exportSchema = false\n",
    ")\n",
    "abstract class FacultyRoomDatabase : RoomDatabase() {\n",
    "    abstract val facultyDao: FacultyDao\n",
    "\n",
    "    companion object{\n",
    "        @Volatile\n",
    "        private var INSTANCE: FacultyRoomDatabase? = null\n",
    "\n",
    "        fun getInstance(context: Context): FacultyRoomDatabase{\n",
    "            synchronized(this){\n",
    "                return  INSTANCE ?: Room.databaseBuilder(\n",
    "                    context.applicationContext,\n",
    "                    FacultyRoomDatabase::class.java,\n",
    "                    \"kotlin_faculty_db\"\n",
    "                ).build().also {\n",
    "                    INSTANCE = it\n",
    "                }\n",
    "            }\n",
    "        }\n",
    "    }\n",
    "}"
   ]
  },
  {
   "cell_type": "markdown",
   "id": "097ab7e8-0b92-4426-afcf-10e0d1d2c315",
   "metadata": {},
   "source": [
    "Zwróćmy uwagę, że w polu `entities` musimy podać **wszystkie** klasy oznaczone jako `@Entity`. Również tutaj mamy 'akademicką' implementację singletona."
   ]
  },
  {
   "cell_type": "markdown",
   "id": "b86acb65-1745-4b68-ae7d-daf0ab94711f",
   "metadata": {},
   "source": [
    "Oraz w głównej aktywności zainicjujmy bazę i dodajmy kilka elementów"
   ]
  },
  {
   "cell_type": "code",
   "execution_count": null,
   "id": "6318068b-7577-4a68-88e2-152e5decfc36",
   "metadata": {},
   "outputs": [],
   "source": [
    "override fun onCreate(savedInstanceState: Bundle?) {\n",
    "        super.onCreate(savedInstanceState)\n",
    "        setContentView(R.layout.activity_main)\n",
    "\n",
    "        val dao = FacultyRoomDatabase.getInstance(this).facultyDao\n",
    "\n",
    "        val faculties = listOf(\n",
    "            Faculty(\"Physics and Astronomy\"),\n",
    "            Faculty(\"Computer Science\"),\n",
    "            Faculty(\"Psychology\")\n",
    "        )\n",
    "\n",
    "        val deans = listOf(\n",
    "            Dean(\"Marek P\", \"Computer Science\"),\n",
    "            Dean(\"Michal P\", \"Psychology\"),\n",
    "            Dean(\"Arek P\", \"Physics and Astronomy\"),\n",
    "        )\n",
    "\n",
    "        )\n",
    "\n",
    "        lifecycleScope.launch{\n",
    "            faculties.forEach { dao.insertFaculty(it) }\n",
    "            deans.forEach { dao.insertDean(it) }\n",
    "            \n",
    "            val myFaculty: FacultyAndDean = dao.getFacultyAndDean(\"Physics and Astronomy\")\n",
    "            val t1 = findViewById<TextView>(R.id.textView1)\n",
    "            val t2 = findViewById<TextView>(R.id.textView2)\n",
    "            t1.text = myFaculty.faculty.facultyName\n",
    "            t2.text = myFaculty.dean.deanName\n",
    "        }\n",
    "    }"
   ]
  },
  {
   "cell_type": "markdown",
   "id": "6388e065-a037-4bf1-b3dc-2f4b1b63190f",
   "metadata": {},
   "source": [
    "Zbudujmy aplikację i wykorzystajmy `App Inspector` aby przjerzeć bazę"
   ]
  },
  {
   "cell_type": "markdown",
   "id": "7058c63a-5718-44ff-a488-4d0c71ebbf47",
   "metadata": {},
   "source": [
    "<img src=\"https://media3.giphy.com/media/qe7jBhllmpgnYIWqO2/giphy.gif?cid=790b76115d6f610efc818124664ae35fd2920fe965443eba&rid=giphy.gif&ct=g\" width=\"400\" />"
   ]
  },
  {
   "cell_type": "markdown",
   "id": "8fc4c927-9e44-4750-9591-080e5a45a5ac",
   "metadata": {},
   "source": [
    "Następnie spróbujmy wykorzystać metodę `getFacultyAndDean`"
   ]
  },
  {
   "cell_type": "markdown",
   "id": "48e33823-fc9d-4131-9fa7-f001140492bd",
   "metadata": {},
   "source": [
    "<img src=\"https://media1.giphy.com/media/BKAimOcA8fEqotVXIA/giphy.gif?cid=790b7611f9b14783bd71567e24ad8b3ffd7d859e1f91f8f4&rid=giphy.gif&ct=g\" width=\"200\" />"
   ]
  },
  {
   "cell_type": "markdown",
   "id": "298ad355-43a5-41b4-99e2-aedc236133e8",
   "metadata": {},
   "source": [
    "### **Relacja 1-N**"
   ]
  },
  {
   "cell_type": "markdown",
   "id": "e75aac58-38d8-428f-b022-7df55d093b94",
   "metadata": {},
   "source": [
    "Przjedźmy do relacji 1-wiele, czyli do jednego elementu z tabeli może być przypisanych wiele elementów z innej tabeli. Do naszej bazy dodamy tabelę reprezentującą studenta - mamy wielu studentów powiązanych z jednym wydziałem (na potrzeby przykładu przyjmiemy że student może być powiązany tylko z jednym wydziałem)"
   ]
  },
  {
   "cell_type": "markdown",
   "id": "9699881a-fc37-4aff-bc9a-0a331e71ccba",
   "metadata": {},
   "source": [
    "W tej relacji już ma znaczenie klucz której klasy jest kluczem obcym. Musimy do klasy `Student` dołączyć `facyltuName` jako klucz obcy. Dodajmy klasę `@Entity` reprezentującą studenta"
   ]
  },
  {
   "cell_type": "code",
   "execution_count": null,
   "id": "5fb26fb9-d9c1-4381-b027-8edb2b9c622e",
   "metadata": {},
   "outputs": [],
   "source": [
    "@Entity\n",
    "data class Student (\n",
    "    @PrimaryKey(autoGenerate = false)\n",
    "    val studentName: String,\n",
    "    val indexNumber: Int,\n",
    "    val facultyName: String\n",
    "        )"
   ]
  },
  {
   "cell_type": "markdown",
   "id": "d6a1a073-cb8f-469a-859c-b57d1374bbc5",
   "metadata": {},
   "source": [
    "Następnie określmy relację pomiędzy klasą `Student` a klasą `Faculty`, różnicą do poprzedniego przykładu jest to, że zastosujemy listę do przechowania wszystkich studentów powiązanych z danym wydziałem"
   ]
  },
  {
   "cell_type": "code",
   "execution_count": null,
   "id": "8d357ec5-9b5d-406d-b7c5-f9df6f7e795e",
   "metadata": {},
   "outputs": [],
   "source": [
    "data class FacultyWithStudents (\n",
    "    @Embedded val faculty: Faculty,\n",
    "\n",
    "    @Relation(\n",
    "        parentColumn = \"facultyName\",\n",
    "        entityColumn = \"facultyName\"\n",
    "    )\n",
    "\n",
    "    val students: List<Student>\n",
    "        )"
   ]
  },
  {
   "cell_type": "markdown",
   "id": "29b5abde-edce-453b-9b66-a6778aa8ab7c",
   "metadata": {},
   "source": [
    "Dodajmy kilka metod do `FacultyDao`"
   ]
  },
  {
   "cell_type": "code",
   "execution_count": null,
   "id": "aa060d81-5aa7-4681-ba19-87ada7569803",
   "metadata": {},
   "outputs": [],
   "source": [
    "    @Insert(onConflict = OnConflictStrategy.IGNORE)\n",
    "    suspend fun insertStudent(student: Student)\n",
    "\n",
    "    @Transaction\n",
    "    @Query(\"SELECT * FROM student WHERE facultyName = :facultyName\")\n",
    "    suspend fun getFacultyWithStudents(facultyName: String): List<FacultyWithStudents>\n",
    "}"
   ]
  },
  {
   "cell_type": "markdown",
   "id": "13d269a6-45f3-4a70-a53c-41f65e34c57a",
   "metadata": {},
   "source": [
    "Umożliwiamy dodanie nowego studenta, oraz zwrócenie z bazy wszystkich studentów z określonym wydziałem. Musimy również dodać do listry `entities` w bazie danych klasę `Student`"
   ]
  },
  {
   "cell_type": "code",
   "execution_count": null,
   "id": "c06d87f6-f66f-42bb-802f-669360c25aa7",
   "metadata": {},
   "outputs": [],
   "source": [
    "@Database(\n",
    "    entities = [\n",
    "        Faculty::class,\n",
    "        Dean::class,\n",
    "        Student::class,\n",
    "    ],\n",
    "    version = 1,\n",
    "    exportSchema = false\n",
    ")\n",
    "abstract class FacultyRoomDatabase : RoomDatabase() {"
   ]
  },
  {
   "cell_type": "markdown",
   "id": "e1b993ce-5c5a-4c6f-9a77-b2b43ff50c36",
   "metadata": {},
   "source": [
    "### **Relacja M-N**"
   ]
  },
  {
   "cell_type": "markdown",
   "id": "d30a62c5-2742-4c82-b75c-6eb27e719443",
   "metadata": {},
   "source": [
    "Ostatnią relacją której się przyjrzymy będzie relacja wiele-wiele. Czyli wielu elementom jednej tabeli może być przypisanych wiele elementów innej tabeli. Dodamy `@Entity` reprezentujący wykład - na każdy wykład może uczęszczać wielu studentów jak również jeden student może chodzić na wiele wykładów. Rozpocznijmy od dodania klasy reprezentującej wykład"
   ]
  },
  {
   "cell_type": "code",
   "execution_count": null,
   "id": "02803cdc-9b40-439c-843c-2e55649d027a",
   "metadata": {},
   "outputs": [],
   "source": [
    "@Entity\n",
    "data class Lecture (\n",
    "    @PrimaryKey(autoGenerate = false)\n",
    "    val lectureName: String\n",
    "        )"
   ]
  },
  {
   "cell_type": "markdown",
   "id": "4260827c-a3e6-4322-a427-c903942811bf",
   "metadata": {},
   "source": [
    "Tutaj nie będziemy dodawać kluczy obcych bezpośrednio do klas - musimy utworzyć nową klasę do której dodamy klucze z obu tabel jako klucze obce. Dodajmy nową klasę `StudentLectureCrossRef`"
   ]
  },
  {
   "cell_type": "code",
   "execution_count": null,
   "id": "50ceddd9-cf4c-4f6e-a152-4ef9f88d6522",
   "metadata": {},
   "outputs": [],
   "source": [
    "@Entity(primaryKeys = [\"studentName\", \"lectureName\"])\n",
    "data class StudentLectureCrossRef ("
   ]
  },
  {
   "cell_type": "markdown",
   "id": "c0b470d3-a0c9-4430-806d-3e4d1167267a",
   "metadata": {},
   "source": [
    "Tutaj w adnotacji `@Entity` dodajemy informację o kluczach głównych obu tabel dla których tworzymy `CrossRef`. Umoliwi nam to wyciąganie z bazy listy wszystkich studentów uczęszczających na jeden konkretny wykład, jak i również listę wszystkich wykładów na które jest zapisany jeden konkretny student ."
   ]
  },
  {
   "cell_type": "code",
   "execution_count": null,
   "id": "ea866f7d-bf66-443c-9fbf-eee1fc0009e8",
   "metadata": {},
   "outputs": [],
   "source": [
    "@Entity(primaryKeys = [\"studentName\", \"lectureName\"])\n",
    "data class StudentLectureCrossRef (\n",
    "    val studentName: String,\n",
    "    val lectureName: String\n",
    "        )"
   ]
  },
  {
   "cell_type": "markdown",
   "id": "14f109a2-750b-4126-af71-f26c7e9c9528",
   "metadata": {},
   "source": [
    "Jeżeli tworzenie relacji wymaga indeksowania możemy posłużyć się adnotacją `@ColumnInfo(index = true)` - nie każda relacja wiele-wiele wymaga indeksowania. Musimy teraz zdefiniować dwie relacje 1-wiele w których klasa `StudentLectureCrossRef` będzie wykorzystana jako klasa pomocnicza."
   ]
  },
  {
   "cell_type": "code",
   "execution_count": null,
   "id": "1b9ca5e0-f251-4abb-8b80-dedbd67ee642",
   "metadata": {},
   "outputs": [],
   "source": [
    "data class LectureWithStudents (\n",
    "    @Embedded val lecture: Lecture,\n",
    "\n",
    "    @Relation(\n",
    "        parentColumn = \"lectureName\",\n",
    "        entityColumn = \"studentName\",\n",
    "        associateBy = Junction(StudentLectureCrossRef::class)\n",
    "    )\n",
    "\n",
    "    val students: List<Student>\n",
    "        )"
   ]
  },
  {
   "cell_type": "code",
   "execution_count": null,
   "id": "bc6cb7ce-a19a-478a-8739-6f7edb1418f0",
   "metadata": {},
   "outputs": [],
   "source": [
    "data class StudentWithLectures (\n",
    "    @Embedded val student: Student,\n",
    "\n",
    "    @Relation(\n",
    "        parentColumn = \"studentName\",\n",
    "        entityColumn = \"lectureName\",\n",
    "        associateBy = Junction(StudentLectureCrossRef::class)\n",
    "    )\n",
    "\n",
    "    val lectures: List<Lecture>\n",
    "    )"
   ]
  },
  {
   "cell_type": "markdown",
   "id": "4e16a09f-f4c7-4262-bcd0-06dc9202dc8b",
   "metadata": {},
   "source": [
    "Jak widzimy klasy te różnią się niewiele od określania relacji 1-wiele - różnicą jest zastosowanie adnotacji `@Junction`. Ponieważ porównanie pól `studentName` i `lectureName` nie jest możliwe, wskazujemy bazie `ROOM` w jaki sposób te dwa pola są ze sobą powiązane za pomocą `associateBy`. Tutaj wymagana jest adnotacja `@Junction` (deklaruje *junction* który zostanie użyty do wykonania `JOIN`)"
   ]
  },
  {
   "cell_type": "markdown",
   "id": "7a5572d9-1c86-4370-9608-51e63bffb5fb",
   "metadata": {},
   "source": [
    "Dodajmy kilka metod do `FacultyDao`"
   ]
  },
  {
   "cell_type": "code",
   "execution_count": null,
   "id": "ea9e7047-2516-4e20-9d4e-858e8b0efde2",
   "metadata": {},
   "outputs": [],
   "source": [
    "@Dao\n",
    "interface FacultyDao {\n",
    "\n",
    "    @Insert(onConflict = OnConflictStrategy.IGNORE)\n",
    "    fun insertFaculty(faculty: Faculty)\n",
    "\n",
    "    @Insert(onConflict = OnConflictStrategy.IGNORE)\n",
    "    fun insertDean(dean: Dean)\n",
    "\n",
    "    @Insert(onConflict = OnConflictStrategy.IGNORE)\n",
    "    fun insertStudent(student: Student)\n",
    "\n",
    "    @Insert(onConflict = OnConflictStrategy.IGNORE)\n",
    "    fun insertStudentLectureCrossRef(crossRef: StudentLectureCrossRef)\n",
    "\n",
    "    @Insert(onConflict = OnConflictStrategy.IGNORE)\n",
    "    fun insertLecture(lecture: Lecture)\n",
    "\n",
    "    @Transaction\n",
    "    @Query(\"SELECT * FROM faculty WHERE facultyName = :facultyName\")\n",
    "    fun getFacultyAndDean(facultyName: String): FacultyAndDean\n",
    "\n",
    "    @Transaction\n",
    "    @Query(\"SELECT * FROM student WHERE facultyName = :facultyName\")\n",
    "    fun getFacultyWithStudents(facultyName: String): List<FacultyWithStudents>"
   ]
  },
  {
   "cell_type": "markdown",
   "id": "2184727f-b2b1-4774-96fa-7684c6876e19",
   "metadata": {},
   "source": [
    "Oraz zmodyfikujmy `entities` w naszej bazie"
   ]
  },
  {
   "cell_type": "code",
   "execution_count": null,
   "id": "079732e9-13a3-46b4-9a0d-5b1074d4cfba",
   "metadata": {},
   "outputs": [],
   "source": [
    "@Database(\n",
    "    entities = [\n",
    "        Faculty::class,\n",
    "        Dean::class,\n",
    "        Student::class,\n",
    "        Lecture::class,\n",
    "        StudentLectureCrossRef::class\n",
    "    ],\n",
    "    version = 1,\n",
    "    exportSchema = false\n",
    ")\n",
    "abstract class FacultyRoomDatabase : RoomDatabase() {"
   ]
  },
  {
   "cell_type": "markdown",
   "id": "99404191-bbd4-42c6-97f1-bac361afbf4a",
   "metadata": {},
   "source": [
    "Dodajmy trochę danych testowych o zobaczmy bazę w `App Inspector`"
   ]
  },
  {
   "cell_type": "code",
   "execution_count": null,
   "id": "053b04c2-7937-4fdb-ac9b-17e73b3eb80a",
   "metadata": {},
   "outputs": [],
   "source": [
    "override fun onCreate(savedInstanceState: Bundle?) {\n",
    "        super.onCreate(savedInstanceState)\n",
    "        setContentView(R.layout.activity_main)\n",
    "\n",
    "        val dao = FacultyRoomDatabase.getInstance(this).facultyDao\n",
    "\n",
    "        val faculties = listOf(\n",
    "            Faculty(\"Physics and Astronomy\"),\n",
    "            Faculty(\"Computer Science\"),\n",
    "            Faculty(\"Psychology\")\n",
    "        )\n",
    "\n",
    "        val lectures = listOf(\n",
    "            Lecture(\"PUM\"),\n",
    "            Lecture(\"C programming\"),\n",
    "            Lecture(\"Basic Psychology\"),\n",
    "            Lecture(\"Fundamental Physics\")\n",
    "        )\n",
    "\n",
    "        val students = listOf(\n",
    "            Student(\"Raf Lew\", 1, \"Physics and Astronomy\"),\n",
    "            Student(\"Lew Raf\", 2, \"Computer Science\"),\n",
    "            Student(\"R Lew\", 3, \"Physics and Astronomy\"),\n",
    "            Student(\"Raf L\", 4, \"Computer Science\"),\n",
    "            Student(\"Rafal Lew\", 5, \"Psychology\"),\n",
    "        )\n",
    "\n",
    "        val deans = listOf(\n",
    "            Dean(\"Marek P\", \"Computer Science\"),\n",
    "            Dean(\"Michal P\", \"Psychology\"),\n",
    "            Dean(\"Arek P\", \"Physics and Astronomy\"),\n",
    "        )\n",
    "\n",
    "        val studentsLectureRelations = listOf(\n",
    "            StudentLectureCrossRef(\"Raf Lew\", \"PUM\"),\n",
    "            StudentLectureCrossRef(\"Raf Lew\", \"C Programming\"),\n",
    "            StudentLectureCrossRef(\"Raf Lew\", \"Fundamental Physics\"),\n",
    "            StudentLectureCrossRef(\"R Lew\", \"PUM\"),\n",
    "            StudentLectureCrossRef(\"R Lew\", \"Basic Psychology\"),\n",
    "            StudentLectureCrossRef(\"Lew Raf\", \"PUM\"),\n",
    "            StudentLectureCrossRef(\"Lew Raf\", \"Fundamental Physics\"),\n",
    "            StudentLectureCrossRef(\"Raf L\", \"PUM\")\n",
    "        )\n",
    "\n",
    "        lifecycleScope.launch{\n",
    "            faculties.forEach { dao.insertFaculty(it) }\n",
    "            deans.forEach { dao.insertDean(it) }\n",
    "            students.forEach { dao.insertStudent(it) }\n",
    "            lectures.forEach { dao.insertLecture(it) }\n",
    "            studentsLectureRelations.forEach { dao.insertStudentLectureCrossRef(it) }\n",
    "            val myFaculty: FacultyAndDean = dao.getFacultyAndDean(\"Physics and Astronomy\")\n",
    "            val t1 = findViewById<TextView>(R.id.textView1)\n",
    "            val t2 = findViewById<TextView>(R.id.textView2)\n",
    "            t1.text = myFaculty.faculty.facultyName\n",
    "            t2.text = myFaculty.dean.deanName\n",
    "        }\n",
    "    }"
   ]
  },
  {
   "cell_type": "markdown",
   "id": "0b960ee6-9fff-4553-9a2a-932e82825faa",
   "metadata": {},
   "source": [
    "<img src=\"https://media4.giphy.com/media/ydNTPPeaGmYTSySrrc/giphy.gif?cid=790b7611dc0a9473e080b7798c1208ad1c8de9b2ad91c849&rid=giphy.gif&ct=g\" width=\"400\" />"
   ]
  }
 ],
 "metadata": {
  "kernelspec": {
   "display_name": "Kotlin",
   "language": "kotlin",
   "name": "kotlin"
  },
  "language_info": {
   "codemirror_mode": "text/x-kotlin",
   "file_extension": ".kt",
   "mimetype": "text/x-kotlin",
   "name": "kotlin",
   "nbconvert_exporter": "",
   "pygments_lexer": "kotlin",
   "version": "1.8.20"
  }
 },
 "nbformat": 4,
 "nbformat_minor": 5
}
