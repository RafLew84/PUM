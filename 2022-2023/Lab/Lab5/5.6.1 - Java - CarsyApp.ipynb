{
 "cells": [
  {
   "cell_type": "markdown",
   "id": "10f4716e-333b-4045-b9e9-5c72f8f0ea1a",
   "metadata": {},
   "source": [
    "## 5.6 Carsy"
   ]
  },
  {
   "cell_type": "markdown",
   "id": "6c0258fe-4cae-4b2e-90e3-7682755d45ae",
   "metadata": {},
   "source": [
    "Aplikacja wykorzystuje `BottomNavigation` oraz `DrawerNavigation`. Po raz kolejny wykorzystamy tylko statyczne dostarczone przez obiekt `dataProvider`. Wykorzystamy `RecyclerView` w kilku różnych konfiguracjach. Będzie to uboga wersja [Fuelio](https://play.google.com/store/apps/details?id=com.kajda.fuelio&hl=pl&gl=US)\n",
    "- `RecyclerView` z grupowaniem elementów osiągniętym przez wykorzystanie dwóch `ViewHolder`"
   ]
  },
  {
   "cell_type": "code",
   "execution_count": null,
   "id": "5eace307-2ed0-4c89-9791-22bad6ba0c4e",
   "metadata": {},
   "outputs": [],
   "source": []
  },
  {
   "cell_type": "markdown",
   "id": "5bdcfb8a-95d4-4af5-a2b1-e28847d7a89c",
   "metadata": {},
   "source": [
    "### **BottomNavigation**"
   ]
  },
  {
   "cell_type": "markdown",
   "id": "52e75661-617a-40ce-82c0-8e16d092ff79",
   "metadata": {},
   "source": [
    "Rozpocznijmy od dodania trzech pustych fragmentów (`OverviewFragment`, `CalculatorsFragment`, `TimeLineFragment`) i nawigacji\n",
    "\n",
    "`navigation.xml`\n",
    "```xml\n",
    "<?xml version=\"1.0\" encoding=\"utf-8\"?>\n",
    "<navigation xmlns:android=\"http://schemas.android.com/apk/res/android\"\n",
    "    xmlns:app=\"http://schemas.android.com/apk/res-auto\"\n",
    "    xmlns:tools=\"http://schemas.android.com/tools\"\n",
    "    android:id=\"@+id/navigation\"\n",
    "    app:startDestination=\"@id/overviewFragment\">\n",
    "\n",
    "    <fragment\n",
    "        android:id=\"@+id/calculatorsFragment\"\n",
    "        android:name=\"pl.udu.uwr.pum.carsyappkotlin.fragments.CalculatorsFragment\"\n",
    "        android:label=\"fragment_calculators\"\n",
    "        tools:layout=\"@layout/fragment_calculators\" />\n",
    "    <fragment\n",
    "        android:id=\"@+id/timeLineFragment\"\n",
    "        android:name=\"pl.udu.uwr.pum.carsyappkotlin.fragments.TimeLineFragment\"\n",
    "        android:label=\"fragment_time_line\"\n",
    "        tools:layout=\"@layout/fragment_time_line\" />\n",
    "    <fragment\n",
    "        android:id=\"@+id/overviewFragment\"\n",
    "        android:name=\"pl.udu.uwr.pum.carsyappkotlin.fragments.OverviewFragment\"\n",
    "        android:label=\"fragment_overview\"\n",
    "        tools:layout=\"@layout/fragment_overview\" />\n",
    "</navigation>\n",
    "```\n",
    "\n",
    "Po raz kolejny dodajemy tylko fragmenty nie definiując dla nich akcji. `OverviewFragment` oznaczam jako fragment domowy. Musimy również utworzyć `menu` dla `BottomNavigation`\n",
    "\n",
    "`bottom_menu.xml`\n",
    "```xml\n",
    "<?xml version=\"1.0\" encoding=\"utf-8\"?>\n",
    "<menu xmlns:android=\"http://schemas.android.com/apk/res/android\">\n",
    "    <item\n",
    "        android:id=\"@id/overviewFragment\"\n",
    "        android:title=\"@string/overview\" />\n",
    "    <item\n",
    "        android:id=\"@id/timeLineFragment\"\n",
    "        android:title=\"@string/time_line\" />\n",
    "\n",
    "    <item\n",
    "        android:id=\"@id/calculatorsFragment\"\n",
    "        android:title=\"@string/calculators\" />\n",
    "</menu>\n",
    "```\n",
    "\n",
    "Pamiętajmy, że `android:id` muszą być takie same jak w `navigation.xml` aby automatyczna nawigacja działała prawidłowo.\n",
    "\n",
    "Przejdźmy do `MainActivity` i dodajmy nawigację oraz połączmy ją z `BottomNavigation`"
   ]
  },
  {
   "cell_type": "code",
   "execution_count": null,
   "id": "99deb47d-ad47-4f69-90ee-b5a3cbb7ef85",
   "metadata": {},
   "outputs": [],
   "source": [
    "public class MainActivity extends AppCompatActivity {\n",
    "\n",
    "    private NavController navController;\n",
    "\n",
    "    @Override\n",
    "    protected void onCreate(Bundle savedInstanceState) {\n",
    "        super.onCreate(savedInstanceState);\n",
    "        setContentView(R.layout.activity_main);\n",
    "\n",
    "        NavHostFragment navHostFragment = (NavHostFragment) getSupportFragmentManager()\n",
    "                .findFragmentById(R.id.nav_host_fragment);\n",
    "\n",
    "        if (navHostFragment != null) {\n",
    "            navController = NavHostFragment.findNavController(navHostFragment);\n",
    "        }\n",
    "\n",
    "        BottomNavigationView bottomNavigationView = findViewById(R.id.bottom_nav_view);\n",
    "        NavigationUI.setupWithNavController(bottomNavigationView, navController);\n",
    "    }\n",
    "}"
   ]
  },
  {
   "cell_type": "markdown",
   "id": "52c46aeb-62f9-4462-8a31-676a6542089e",
   "metadata": {},
   "source": [
    "W efekcie powinniśmy otrzymać podstawową nawigację z trzema ekranami."
   ]
  },
  {
   "cell_type": "markdown",
   "id": "f406d53e-c74f-481b-b027-3413f24cdfea",
   "metadata": {},
   "source": [
    "<img src=\"https://media1.giphy.com/media/x0j1SX0qmejSUNRtHu/giphy.gif?cid=790b7611bcaddd3fe77b775f20dd38e5e0cfa788c1e83df7&rid=giphy.gif&ct=g\" width=\"150\" />"
   ]
  },
  {
   "cell_type": "markdown",
   "id": "4984eee7-6077-45f1-9ca5-de15781acfab",
   "metadata": {},
   "source": [
    "### **TimeLineFragment**"
   ]
  },
  {
   "cell_type": "markdown",
   "id": "fead52e9-1096-4103-9bcd-e5f595cb087c",
   "metadata": {},
   "source": [
    "Chcemy przygotować listę w postaci osi czasu, która będzie zbliżona do tego co oferuje aplikacja **Fuelio**"
   ]
  },
  {
   "cell_type": "markdown",
   "id": "2956bb09-b8ed-49fc-8e34-1108fe1a1d78",
   "metadata": {},
   "source": [
    "<img src=\"https://play-lh.googleusercontent.com/Lm6SO1jsUF-VjsrfkIV9x-qpPIkIOIvgWkBGmxyZuHWPSbkYMS0oLhgoBk9wLXq6Xw=w5120-h2880\" width=\"150\" />"
   ]
  },
  {
   "cell_type": "markdown",
   "id": "41e604a6-2ee8-46bc-8b67-6f829c9cf8a5",
   "metadata": {},
   "source": [
    "Zrobimy to w postaci `RecyclerView` z dwoma `ViewHolder`. Wpierw przygotujmy dane. Typ kosztu zdefiniujemy jako `enum class`, będziemy przechowywać w niej typ oraz ikonę."
   ]
  },
  {
   "cell_type": "code",
   "execution_count": null,
   "id": "5466bdcb-014c-4fcb-a8e5-43e10d129e95",
   "metadata": {},
   "outputs": [],
   "source": [
    "public enum CostType {\n",
    "    REFUELING(\"Tankowanie\", R.drawable.ic_fuel),\n",
    "    SERVICE(\"Serwis\", R.drawable.ic_car_repair),\n",
    "    PARKING(\"Parking\", R.drawable.ic_parking),\n",
    "    INSURANCE(\"Ubezpieczenie\", R.drawable.ic_general_cost),\n",
    "    TICKET(\"Mandat\", R.drawable.ic_ticket);\n",
    "\n",
    "    private final String costType;\n",
    "    private final int icon;\n",
    "\n",
    "    CostType(String costType, int icon) {\n",
    "        this.costType = costType;\n",
    "        this.icon = icon;\n",
    "    }\n",
    "\n",
    "    public String getCostType() {\n",
    "        return costType;\n",
    "    }\n",
    "\n",
    "    public int getIcon() {\n",
    "        return icon;\n",
    "    }\n",
    "}"
   ]
  },
  {
   "cell_type": "markdown",
   "id": "9a41fb72-dc8a-44bb-a3bc-79ea8655db80",
   "metadata": {},
   "source": [
    "Ikony standardowo wybieramy spośród dostępnych w **Android Studio** (**New -> Vector Asset**). Model danych zawiera typ kosztu, datę oraz kwotę."
   ]
  },
  {
   "cell_type": "code",
   "execution_count": null,
   "id": "2adf1ce0-138d-40dc-a79b-089dfe67bac9",
   "metadata": {},
   "outputs": [],
   "source": [
    "public class Cost {\n",
    "    private final CostType type;\n",
    "    private final LocalDate date;\n",
    "    private final int amount;\n",
    "\n",
    "    public Cost(CostType type, LocalDate date, int amount){\n",
    "        this.type = type;\n",
    "        this.date = date;\n",
    "        this.amount = amount;\n",
    "    }\n",
    "\n",
    "    public CostType getType() {\n",
    "        return type;\n",
    "    }\n",
    "\n",
    "    public LocalDate getDate() {\n",
    "        return date;\n",
    "    }\n",
    "\n",
    "    public int getAmount() {\n",
    "        return amount;\n",
    "    }\n",
    "}"
   ]
  },
  {
   "cell_type": "markdown",
   "id": "107e832f-9a02-401e-8ebb-9b71edc72f53",
   "metadata": {},
   "source": [
    "Ponieważ będziemy posiadać pojedynczy `RecyclerView` i dwa `ViewHolder`, musimy w jakiś sposób rozróżnić typ naszych danych - dla uproszczenia będziemy sortować po miesiącach (bez uwzględnienia lat). Więc chcemy zdefiniować dwa typy \n",
    "- `CostListItem` - klasa bazowa"
   ]
  },
  {
   "cell_type": "code",
   "execution_count": null,
   "id": "8540fc3d-0453-4bff-b08f-7a43867edeb4",
   "metadata": {},
   "outputs": [],
   "source": [
    "public abstract class CostListItem {\n",
    "    public static final int TYPE_DATE = 0;\n",
    "    public static final int TYPE_GENERAL = 1;\n",
    "\n",
    "    abstract public int getType();\n",
    "}"
   ]
  },
  {
   "cell_type": "markdown",
   "id": "6624f074-33ab-4fb6-b063-43d897e9af1e",
   "metadata": {},
   "source": [
    "- `CostDateItem` - posiadający tylko datę po której będziemy sortować oraz na podstawie której utworzymy wersję layoutu dla `RecyclerView`"
   ]
  },
  {
   "cell_type": "code",
   "execution_count": null,
   "id": "b9d11e0a-febc-40eb-acc6-af0f8a3b59c9",
   "metadata": {},
   "outputs": [],
   "source": [
    "public class CostDateItem extends CostListItem {\n",
    "    private String date;\n",
    "\n",
    "    public CostDateItem(String date){\n",
    "        this.date = date;\n",
    "    }\n",
    "\n",
    "    public String getDate() {\n",
    "        return date;\n",
    "    }\n",
    "\n",
    "    @Override\n",
    "    public int getType() {\n",
    "        return TYPE_DATE;\n",
    "    }\n",
    "}"
   ]
  },
  {
   "cell_type": "markdown",
   "id": "a5c80d82-89e0-45f2-beba-a02648a38a9c",
   "metadata": {},
   "source": [
    "- `CostGeneralItem` - każdy inny element dla którego również utworzymy layout"
   ]
  },
  {
   "cell_type": "code",
   "execution_count": null,
   "id": "e6e09b9c-4c78-4878-9dc4-7227a4f68680",
   "metadata": {},
   "outputs": [],
   "source": [
    "public class CostGeneralItem extends CostListItem {\n",
    "    private Cost cost;\n",
    "\n",
    "    public Cost getCost() {\n",
    "        return cost;\n",
    "    }\n",
    "\n",
    "    public CostGeneralItem(Cost cost){\n",
    "        this.cost = cost;\n",
    "    }\n",
    "\n",
    "\n",
    "    @Override\n",
    "    public int getType() {\n",
    "        return TYPE_GENERAL;\n",
    "    }\n",
    "}"
   ]
  },
  {
   "cell_type": "markdown",
   "id": "eab104ea-9aaa-415f-b2eb-e063f2c38766",
   "metadata": {},
   "source": [
    "Przejdźmy do obiektu `DataProvider` - w pierwszym kroku utworzymy listę kosztów"
   ]
  },
  {
   "cell_type": "code",
   "execution_count": null,
   "id": "f5a46a00-4ea1-4118-bf1f-99b14bb9db24",
   "metadata": {},
   "outputs": [],
   "source": [
    "public final class DataProvider {\n",
    "    private DataProvider() {\n",
    "    }\n",
    "\n",
    "    public static ArrayList<Cost> getGeneralCosts() {\n",
    "        ArrayList<Cost> items = new ArrayList<>();\n",
    "        for (int i = 0; i < 100; i++) {\n",
    "            items.add(new Cost(\n",
    "                    CostType.values()[new Random().nextInt(CostType.values().length)],\n",
    "                    LocalDate.of(2022, new Random().nextInt(12) + 1, new Random().nextInt(28) + 1),\n",
    "                    new Random().nextInt(5000)));\n",
    "        }\n",
    "        return items;\n",
    "    }\n",
    "}"
   ]
  },
  {
   "cell_type": "markdown",
   "id": "da48cd52-8a30-4215-a720-19add5fb7e09",
   "metadata": {},
   "source": [
    "Ponieważ mamy jeden `RecyclerView`, więc będziemy mieć jedną listę - musimy ją odpowiednio przygotować. Wykorzystamy `SortedMap` i posortujemy całość po miesiącach, następnie pogrupujemy względem miesięcy."
   ]
  },
  {
   "cell_type": "code",
   "execution_count": null,
   "id": "328ec3a5-5e28-47f8-9fdd-3c6819402e7b",
   "metadata": {},
   "outputs": [],
   "source": [
    "private static final SortedMap<Month, ArrayList<Cost>> groupedHashMap = \n",
    "    groupDataIntoHashMap(getGeneralCosts());\n",
    "\n",
    "private static SortedMap<Month, ArrayList<Cost>> groupDataIntoHashMap(ArrayList<Cost> itemList) {\n",
    "\n",
    "    SortedMap<Month, ArrayList<Cost>> groupedHashMap = new TreeMap<>();\n",
    "    for (Cost cost : itemList) {\n",
    "        Month hashMapKey = cost.getDate().getMonth();\n",
    "        if (groupedHashMap.containsKey(hashMapKey)) {\n",
    "            Objects.requireNonNull(groupedHashMap.get(hashMapKey)).add(cost);\n",
    "        } else {\n",
    "            ArrayList<Cost> list = new ArrayList<>();\n",
    "            list.add(cost);\n",
    "            groupedHashMap.put(hashMapKey, list);\n",
    "        }\n",
    "    }\n",
    "    return groupedHashMap;\n",
    "}"
   ]
  },
  {
   "cell_type": "markdown",
   "id": "35b70e76-def4-4a89-8541-b3337483617a",
   "metadata": {},
   "source": [
    "Następnie napiszemy funkcję `getTimeLineList` zwracająca listę dla `RecyclerView`"
   ]
  },
  {
   "cell_type": "code",
   "execution_count": null,
   "id": "bbf7ebf0-11d8-4452-9a5a-a0cdc3bae643",
   "metadata": {},
   "outputs": [],
   "source": [
    "public static ArrayList<CostListItem> getTimeLineList() {"
   ]
  },
  {
   "cell_type": "markdown",
   "id": "fa577ce1-921b-406c-a382-408424eed342",
   "metadata": {},
   "source": [
    "Utwórzmy listę pomocniczą"
   ]
  },
  {
   "cell_type": "code",
   "execution_count": null,
   "id": "876f2cb6-43e1-459c-b4c0-4aed8b9473f1",
   "metadata": {},
   "outputs": [],
   "source": [
    "ArrayList<CostListItem> items = new ArrayList<>();"
   ]
  },
  {
   "cell_type": "markdown",
   "id": "64e77f8d-de61-44f6-a6d5-717a7d020dd3",
   "metadata": {},
   "source": [
    "Przechodzimy po wszystkich kluczach w naszej mapie"
   ]
  },
  {
   "cell_type": "code",
   "execution_count": null,
   "id": "acab1779-3af8-46ff-9a5c-d406faa74f45",
   "metadata": {},
   "outputs": [],
   "source": [
    "for (Month date : groupedHashMap.keySet()) {"
   ]
  },
  {
   "cell_type": "markdown",
   "id": "b54ed9f7-4771-4ee5-a598-c49755827af5",
   "metadata": {},
   "source": [
    "W pętli tworzę listę wszystkich elementów z danego miesiąca, następnie ją sortuję względem dnia miesiąca i każdy element `CostGeneralItem` dodaję do `list`"
   ]
  },
  {
   "cell_type": "code",
   "execution_count": null,
   "id": "df5168ba-2b7d-49a8-b5b6-989223956be8",
   "metadata": {},
   "outputs": [],
   "source": [
    "ArrayList<Cost> groupingItems = groupedHashMap.get(date);\n",
    "if (groupingItems != null) {\n",
    "    groupingItems.sort(Comparator.comparingInt(o -> o.getDate().getDayOfMonth()));\n",
    "    groupingItems.forEach(cost -> items.add(new CostGeneralItem(cost)));\n",
    "}"
   ]
  },
  {
   "cell_type": "markdown",
   "id": "db697d28-3972-4e4c-9522-39dd7b774ace",
   "metadata": {},
   "source": [
    "Ostatnim elementem pętli będzie dodanie `CostDateItem`"
   ]
  },
  {
   "cell_type": "code",
   "execution_count": null,
   "id": "ed332110-1bdd-4858-bda9-4048371f9489",
   "metadata": {},
   "outputs": [],
   "source": [
    "CostDateItem dateItem = new CostDateItem(date.name());\n",
    "items.add(dateItem);"
   ]
  },
  {
   "cell_type": "markdown",
   "id": "3738f8a9-b413-4ad3-9da2-c198bc95de9a",
   "metadata": {},
   "source": [
    "Na koniec wychodzimy z pętli `for` i zwracamy listę"
   ]
  },
  {
   "cell_type": "code",
   "execution_count": null,
   "id": "f6cc77f3-19eb-4954-a0a6-bee713287d02",
   "metadata": {},
   "outputs": [],
   "source": [
    "    }\n",
    "    return items;\n",
    "}"
   ]
  },
  {
   "cell_type": "markdown",
   "id": "92edff30-a11a-44e0-8c7b-f4ba37731847",
   "metadata": {},
   "source": [
    "Pełna funkcja"
   ]
  },
  {
   "cell_type": "code",
   "execution_count": null,
   "id": "f01b3fe3-cc79-4f76-9669-3acccc0e2399",
   "metadata": {},
   "outputs": [],
   "source": [
    "public static ArrayList<CostListItem> getTimeLineList() {\n",
    "    ArrayList<CostListItem> items = new ArrayList<>();\n",
    "\n",
    "    for (Month date : groupedHashMap.keySet()) {\n",
    "        ArrayList<Cost> groupingItems = groupedHashMap.get(date);\n",
    "        if (groupingItems != null) {\n",
    "            groupingItems.sort(Comparator.comparingInt(o -> o.getDate().getDayOfMonth()));\n",
    "            groupingItems.forEach(cost -> items.add(new CostGeneralItem(cost)));\n",
    "        }\n",
    "        CostDateItem dateItem = new CostDateItem(date.name());\n",
    "        items.add(dateItem);\n",
    "    }\n",
    "    return items;\n",
    "}"
   ]
  },
  {
   "cell_type": "markdown",
   "id": "40448822-2bc8-496b-a6c8-da4813b2072b",
   "metadata": {},
   "source": [
    "Podsumowując:\n",
    "- tworzą listę do której wrzucę wszystkie elementy odpowiednio posortowane - lista zawiera elementy typu `CostListItem`\n",
    "- przechodzę po kluczach wcześniej utworzonej mapy (miesiące)\n",
    "- dodaję wszystkie elementy `CostGeneralItem` - wszystkie koszty dla danego miesiąca\n",
    "- na koniec dodaję `CostDateItem` - miesiąc\n",
    "\n",
    "Przejdźmy do `TimeLineAdapter` - klasa będzie przyjmowała w parametrze `Context` i rozszerzała `RecyclerView.Adapter`"
   ]
  },
  {
   "cell_type": "code",
   "execution_count": null,
   "id": "e25d8612-7f00-45c3-885f-7e5a753c776e",
   "metadata": {},
   "outputs": [],
   "source": [
    "public class TimeLineAdapter extends RecyclerView.Adapter<RecyclerView.ViewHolder> {}"
   ]
  },
  {
   "cell_type": "markdown",
   "id": "9dc1d7b8-fe2e-4c7d-b67d-533ba133a582",
   "metadata": {},
   "source": [
    "W pierwszej kolejności dodajmy listę elementów."
   ]
  },
  {
   "cell_type": "code",
   "execution_count": null,
   "id": "b77e5864-0cfa-482d-9c20-aa19a8d830b2",
   "metadata": {},
   "outputs": [],
   "source": [
    "private final ArrayList<CostListItem> itemList = DataProvider.getTimeLineList();"
   ]
  },
  {
   "cell_type": "markdown",
   "id": "5fe33dc0-0958-4a26-aec4-f3433b5dbe23",
   "metadata": {},
   "source": [
    "Zdefiniujmy dwie klasy `ViewHolder` - pierwszą będzie klasa dla elementu grupującego (tutaj jest to data - miesiąc)"
   ]
  },
  {
   "cell_type": "code",
   "execution_count": null,
   "id": "1fc9a9cc-0bd7-4ad8-b1f2-cf3e8d1f3210",
   "metadata": {},
   "outputs": [],
   "source": [
    "    static class DateViewHolder extends RecyclerView.ViewHolder{\n",
    "\n",
    "        private final TextView dateTextView;\n",
    "\n",
    "        public DateViewHolder(@NonNull View itemView) {\n",
    "            super(itemView);\n",
    "\n",
    "            dateTextView = itemView.findViewById(R.id.timeLineDateTextView);\n",
    "        }\n",
    "\n",
    "        public void bind(CostDateItem item){\n",
    "            dateTextView.setText(item.getDate());\n",
    "        }\n",
    "    }"
   ]
  },
  {
   "cell_type": "markdown",
   "id": "08f9dafc-2f09-4f95-9d44-783f520ba39d",
   "metadata": {},
   "source": [
    "Dla tego `ViewHolder` definiujemy layout w pliku `date_item_timeline.xml`\n",
    "\n",
    "\n",
    "```xml\n",
    "<?xml version=\"1.0\" encoding=\"utf-8\"?>\n",
    "<androidx.constraintlayout.widget.ConstraintLayout xmlns:android=\"http://schemas.android.com/apk/res/android\"\n",
    "    xmlns:app=\"http://schemas.android.com/apk/res-auto\"\n",
    "    android:layout_width=\"match_parent\"\n",
    "    android:layout_height=\"wrap_content\"\n",
    "    android:layout_marginStart=\"4dp\"\n",
    "    android:layout_marginEnd=\"4dp\">\n",
    "\n",
    "    <View\n",
    "        android:id=\"@+id/RVcolorBarView\"\n",
    "        android:layout_width=\"16px\"\n",
    "        android:layout_height=\"0dp\"\n",
    "        android:layout_marginStart=\"24dp\"\n",
    "        android:background=\"?attr/colorPrimary\"\n",
    "        android:outlineAmbientShadowColor=\"?attr/colorPrimary\"\n",
    "        android:outlineSpotShadowColor=\"?attr/colorPrimary\"\n",
    "        app:layout_constraintBottom_toBottomOf=\"parent\"\n",
    "        app:layout_constraintStart_toStartOf=\"parent\"\n",
    "        app:layout_constraintTop_toTopOf=\"parent\" />\n",
    "\n",
    "    <ImageView\n",
    "        android:layout_width=\"wrap_content\"\n",
    "        android:layout_height=\"wrap_content\"\n",
    "        android:layout_marginStart=\"19dp\"\n",
    "        android:layout_marginTop=\"24dp\"\n",
    "        android:background=\"@drawable/ic_round_circle\"\n",
    "        android:backgroundTint=\"?attr/colorPrimary\"\n",
    "        android:contentDescription=\"@string/bullet\"\n",
    "        app:layout_constraintBottom_toBottomOf=\"@+id/RVcolorBarView\"\n",
    "        app:layout_constraintStart_toStartOf=\"parent\"\n",
    "        app:layout_constraintTop_toTopOf=\"@+id/RVcolorBarView\" />\n",
    "\n",
    "    <TextView\n",
    "        android:id=\"@+id/timeLineDateTextView\"\n",
    "        android:layout_width=\"wrap_content\"\n",
    "        android:layout_height=\"wrap_content\"\n",
    "        android:layout_marginStart=\"16dp\"\n",
    "        android:layout_marginTop=\"24dp\"\n",
    "        android:fontFamily=\"serif\"\n",
    "        android:textColor=\"?attr/colorSecondary\"\n",
    "        android:padding=\"4dp\"\n",
    "        android:text=\"@string/date\"\n",
    "        android:textSize=\"16sp\"\n",
    "        app:layout_constraintBottom_toBottomOf=\"parent\"\n",
    "        app:layout_constraintStart_toStartOf=\"@id/RVcolorBarView\"\n",
    "        app:layout_constraintTop_toTopOf=\"parent\" />\n",
    "\n",
    "</androidx.constraintlayout.widget.ConstraintLayout>\n",
    "```\n",
    "\n",
    "Jak widzimy mamy tylko jedno pole `TextView` wyświetlające nazwę miesiąca po którym grupujemy. Pozostałe dwa elementy są graficznym indykatorem - `View` jest linią o zadanej grubości i `ImageView` tutaj ma formę wypełnionego koła."
   ]
  },
  {
   "cell_type": "markdown",
   "id": "849b521b-6d51-407e-b8cc-15ba6762c6e8",
   "metadata": {},
   "source": [
    "Zdefiniujmy również drugi `ViewHolder` dla pozostałych elementów na liście - tutaj chcemy pokazać typ kosztu, kwotę, pełną datę, oraz ikonę dla odpowiedniego typu kosztu."
   ]
  },
  {
   "cell_type": "code",
   "execution_count": null,
   "id": "52a4dced-aaaf-4217-ac39-b229585ce907",
   "metadata": {},
   "outputs": [],
   "source": [
    "class GeneralViewHolder extends RecyclerView.ViewHolder{\n",
    "\n",
    "    private final TextView costTypeTextView;\n",
    "    private final TextView fullDateTextView;\n",
    "    private final TextView amountTextView;\n",
    "    private final ImageView iconImageView;\n",
    "\n",
    "    public GeneralViewHolder(@NonNull View itemView) {\n",
    "        super(itemView);\n",
    "\n",
    "        costTypeTextView = itemView.findViewById(R.id.timeLineCostTypeNameTextView);\n",
    "        fullDateTextView = itemView.findViewById(R.id.timeLineFullDateTextView);\n",
    "        amountTextView = itemView.findViewById(R.id.timeLineCostAmountTextView);\n",
    "        iconImageView = itemView.findViewById(R.id.iconTimeLineImageView);\n",
    "    }\n",
    "\n",
    "    public void bind(CostGeneralItem item){\n",
    "        costTypeTextView.setText(item.getCost().getType().getCostType());\n",
    "        fullDateTextView.setText(item.getCost().getDate().format(FormatterUtil.dateFormatter));\n",
    "        amountTextView.setText(String.format(\"%s zł\", item.getCost().getAmount()));\n",
    "        iconImageView.setBackground(ContextCompat.getDrawable(context, item.getCost().getType().getIcon()));\n",
    "    }\n",
    "}"
   ]
  },
  {
   "cell_type": "markdown",
   "id": "c701ff82-8fe1-4224-837b-df9e21819628",
   "metadata": {},
   "source": [
    "Będziemy również formatować nieco `String` przy dacie, więc zdefiniujmy `DateTimeFormatter`"
   ]
  },
  {
   "cell_type": "code",
   "execution_count": null,
   "id": "8c471037-9c9b-41c8-8f0c-af443b482776",
   "metadata": {},
   "outputs": [],
   "source": [
    "public final class FormatterUtil {\n",
    "    private FormatterUtil(){}\n",
    "\n",
    "    public static DateTimeFormatter dateFormatter = DateTimeFormatter.ofPattern(\"yyyy MMM dd\");\n",
    "}"
   ]
  },
  {
   "cell_type": "markdown",
   "id": "87399c57-1aac-4509-85bf-6493800ea881",
   "metadata": {},
   "source": [
    "Layout jest nieco bardziej skomplikowany\n",
    "\n",
    "```xml\n",
    "<?xml version=\"1.0\" encoding=\"utf-8\"?>\n",
    "<androidx.constraintlayout.widget.ConstraintLayout xmlns:android=\"http://schemas.android.com/apk/res/android\"\n",
    "    xmlns:app=\"http://schemas.android.com/apk/res-auto\"\n",
    "    android:layout_width=\"match_parent\"\n",
    "    android:layout_height=\"wrap_content\"\n",
    "    android:layout_marginStart=\"4dp\"\n",
    "    android:layout_marginEnd=\"4dp\">\n",
    "\n",
    "    <View\n",
    "        android:id=\"@+id/RVcolorBarView\"\n",
    "        android:layout_width=\"16px\"\n",
    "        android:layout_height=\"0dp\"\n",
    "        android:layout_marginStart=\"24dp\"\n",
    "        android:background=\"?attr/colorPrimary\"\n",
    "        android:outlineAmbientShadowColor=\"?attr/colorPrimary\"\n",
    "        android:outlineSpotShadowColor=\"?attr/colorPrimary\"\n",
    "        app:layout_constraintBottom_toBottomOf=\"parent\"\n",
    "        app:layout_constraintStart_toStartOf=\"parent\"\n",
    "        app:layout_constraintTop_toTopOf=\"parent\" />\n",
    "\n",
    "    <ImageView\n",
    "        android:id=\"@+id/imageView\"\n",
    "        android:layout_width=\"wrap_content\"\n",
    "        android:layout_height=\"wrap_content\"\n",
    "        android:layout_marginStart=\"3.2dp\"\n",
    "        android:background=\"@drawable/ic_round_circle_big\"\n",
    "        android:backgroundTint=\"?attr/colorPrimary\"\n",
    "        android:contentDescription=\"@string/bullet\"\n",
    "        app:layout_constraintBottom_toBottomOf=\"@+id/RVcolorBarView\"\n",
    "        app:layout_constraintStart_toStartOf=\"parent\"\n",
    "        app:layout_constraintTop_toTopOf=\"@+id/RVcolorBarView\" />\n",
    "\n",
    "    <ImageView\n",
    "        android:id=\"@+id/iconTimeLineImageView\"\n",
    "        android:layout_width=\"wrap_content\"\n",
    "        android:layout_height=\"wrap_content\"\n",
    "        android:layout_marginStart=\"12dp\"\n",
    "        android:layout_marginTop=\"8dp\"\n",
    "        android:background=\"@drawable/ic_car_repair\"\n",
    "        android:backgroundTint=\"@color/white\"\n",
    "        android:contentDescription=\"@string/bullet\"\n",
    "        app:layout_constraintBottom_toBottomOf=\"@+id/imageView\"\n",
    "        app:layout_constraintStart_toStartOf=\"@+id/imageView\"\n",
    "        app:layout_constraintTop_toTopOf=\"@+id/imageView\"\n",
    "        app:layout_constraintVertical_bias=\"0.285\" />\n",
    "\n",
    "    <TextView\n",
    "        android:id=\"@+id/timeLineCostTypeNameTextView\"\n",
    "        android:layout_width=\"wrap_content\"\n",
    "        android:layout_height=\"wrap_content\"\n",
    "        android:padding=\"4dp\"\n",
    "        android:text=\"@string/costtype_name\"\n",
    "        android:textSize=\"24sp\"\n",
    "        app:layout_constraintBottom_toBottomOf=\"parent\"\n",
    "        app:layout_constraintStart_toEndOf=\"@+id/imageView\"\n",
    "        app:layout_constraintTop_toTopOf=\"parent\" />\n",
    "\n",
    "    <TextView\n",
    "        android:id=\"@+id/timeLineCostAmountTextView\"\n",
    "        android:layout_width=\"wrap_content\"\n",
    "        android:layout_height=\"wrap_content\"\n",
    "        android:layout_marginEnd=\"16dp\"\n",
    "        android:padding=\"4dp\"\n",
    "        android:text=\"1200 zł\"\n",
    "        android:textSize=\"24sp\"\n",
    "        app:layout_constraintBottom_toBottomOf=\"parent\"\n",
    "        app:layout_constraintEnd_toEndOf=\"parent\"\n",
    "        app:layout_constraintTop_toTopOf=\"parent\" />\n",
    "\n",
    "    <TextView\n",
    "        android:id=\"@+id/timeLineFullDateTextView\"\n",
    "        android:layout_width=\"wrap_content\"\n",
    "        android:layout_height=\"wrap_content\"\n",
    "        android:fontFamily=\"serif\"\n",
    "        android:paddingStart=\"4dp\"\n",
    "        android:text=\"@string/date\"\n",
    "        android:textSize=\"16sp\"\n",
    "        app:layout_constraintBottom_toBottomOf=\"parent\"\n",
    "        app:layout_constraintStart_toEndOf=\"@+id/imageView\"\n",
    "        app:layout_constraintTop_toBottomOf=\"@+id/timeLineCostTypeNameTextView\" />\n",
    "\n",
    "</androidx.constraintlayout.widget.ConstraintLayout>\n",
    "```\n",
    "\n",
    "Zauważmy że znów mamy `View` o tych samych parametrch co w poprzednim layoucie co sprawia wrażenie ciągłości przez wszystkie elementy. Mamy również dwa `ImageView` - pierwszy zastosowałem jako okrągłe tło o jednolitym kolorze dla ikony obecnej w drugim."
   ]
  },
  {
   "cell_type": "markdown",
   "id": "f606fb87-b81f-45e5-9d15-07273b0e0b11",
   "metadata": {},
   "source": [
    "Przejdźmy do metody `onCreateViewHolder` - zwrócimy `ViewHolder` dla zadanego `viewType`. Ponieważ będziemy wykorzystywać dwa, musimy zdefiniować jeszcze `viewType`."
   ]
  },
  {
   "cell_type": "code",
   "execution_count": null,
   "id": "c0687c93-1a02-4acd-ae36-7823e881887d",
   "metadata": {},
   "outputs": [],
   "source": [
    "@NonNull\n",
    "@Override\n",
    "public RecyclerView.ViewHolder onCreateViewHolder(@NonNull ViewGroup parent, int viewType) {\n",
    "\n",
    "    RecyclerView.ViewHolder viewHolder;\n",
    "    LayoutInflater inflater = LayoutInflater.from(parent.getContext());\n",
    "\n",
    "    switch (viewType){\n",
    "        case CostListItem.TYPE_DATE:\n",
    "            View dateView = inflater.inflate(R.layout.date_item_timeline, parent, false);\n",
    "            viewHolder = new DateViewHolder(dateView);\n",
    "            break;\n",
    "        case CostListItem.TYPE_GENERAL:\n",
    "            View generalView = inflater.inflate(R.layout.general_item_timeline, parent, false);\n",
    "            viewHolder = new GeneralViewHolder(generalView);\n",
    "            break;\n",
    "        default:\n",
    "            throw new IllegalStateException(\"Unexpected value: \" + viewType);\n",
    "    }\n",
    "\n",
    "    return viewHolder;\n",
    "}"
   ]
  },
  {
   "cell_type": "markdown",
   "id": "34f45638-54f7-4eb5-beb9-fc2a5b7e6582",
   "metadata": {},
   "source": [
    "Aby zdefiniować `viewType` musimy nadpisać metodę `getItemViewType`"
   ]
  },
  {
   "cell_type": "code",
   "execution_count": null,
   "id": "053a649f-c3b0-4906-b4a9-92ccd5af053d",
   "metadata": {},
   "outputs": [],
   "source": [
    "public int getItemViewType(int position) {\n",
    "    return itemList.get(position).getType();\n",
    "} // zwraca typ elementu na liście"
   ]
  },
  {
   "cell_type": "markdown",
   "id": "4c034343-83fb-4624-85b7-26ec12e51901",
   "metadata": {},
   "source": [
    "Zaimplementujmy metodę `getItemCount`"
   ]
  },
  {
   "cell_type": "code",
   "execution_count": null,
   "id": "ce8d9755-0b68-4caf-976f-ce73f2ba21ac",
   "metadata": {},
   "outputs": [],
   "source": [
    "@Override\n",
    "public int getItemCount() {\n",
    "    return itemList.size();\n",
    "}"
   ]
  },
  {
   "cell_type": "markdown",
   "id": "2d03ed9c-9c5b-4754-bd0f-244f4bc8cd81",
   "metadata": {},
   "source": [
    "Pozostaje implementacja metody `onBindViewHolder` - w zależności od typu `ViewHolder` chcemy przekazać `CostListItem` jako `CostGeneralItem` zawierający instancję `Cost` lub `CostDateItem` zawierający nazwę miesiąca jako `String`."
   ]
  },
  {
   "cell_type": "code",
   "execution_count": null,
   "id": "4bc69881-d2ef-426a-a6f5-9dd84bfe6436",
   "metadata": {},
   "outputs": [],
   "source": [
    "override fun onBindViewHolder(holder: RecyclerView.ViewHolder, position: Int) {\n",
    "    when (holder.itemViewType) {\n",
    "        CostListItem.TYPE_DATE -> (holder as DateViewHolder).bind(\n",
    "            item = itemList[position] as CostDateItem\n",
    "        )\n",
    "        CostListItem.TYPE_GENERAL -> (holder as GeneralViewHolder).bind(\n",
    "            item = itemList[position] as CostGeneralItem\n",
    "        )\n",
    "    }\n",
    "}"
   ]
  },
  {
   "cell_type": "markdown",
   "id": "b82b9966-95b8-4371-a0fe-657d702990ab",
   "metadata": {},
   "source": [
    "Przejdźmy do `TimeLineFragment` i dodajmy nasz RecyclerView"
   ]
  },
  {
   "cell_type": "code",
   "execution_count": null,
   "id": "e10e9c30-d1bf-4d56-acc2-20745af8093c",
   "metadata": {},
   "outputs": [],
   "source": [
    "@Override\n",
    "public void onBindViewHolder(@NonNull RecyclerView.ViewHolder holder, int position) {\n",
    "    switch (holder.getItemViewType()){\n",
    "        case CostListItem.TYPE_DATE:\n",
    "            CostDateItem costDateItem = (CostDateItem) itemList.get(position);\n",
    "            DateViewHolder dateViewHolder = (DateViewHolder) holder;\n",
    "            dateViewHolder.bind(costDateItem);\n",
    "            break;\n",
    "        case CostListItem.TYPE_GENERAL:\n",
    "            CostGeneralItem costGeneralItem = (CostGeneralItem) itemList.get(position);\n",
    "            GeneralViewHolder generalViewHolder = (GeneralViewHolder) holder;\n",
    "            generalViewHolder.bind(costGeneralItem);\n",
    "            break;\n",
    "        default:\n",
    "            throw new IllegalStateException(\"Unexpected type\");\n",
    "    }\n",
    "}"
   ]
  },
  {
   "cell_type": "markdown",
   "id": "454ccc20-8d6f-46b4-a970-3196db80a0c5",
   "metadata": {},
   "source": [
    "Możemy przetestować aplikację"
   ]
  },
  {
   "cell_type": "markdown",
   "id": "8214c199-c940-4e56-8b83-1dad720c208b",
   "metadata": {},
   "source": [
    "<img src=\"https://media4.giphy.com/media/S4iOJk9GSVcizP2tRw/giphy.gif?cid=790b76113b3cee84bee0e3484c2fbc03807cf26e022c376a&rid=giphy.gif&ct=g\" width=\"150\" />"
   ]
  }
 ],
 "metadata": {
  "kernelspec": {
   "display_name": "Java",
   "language": "java",
   "name": "java"
  },
  "language_info": {
   "codemirror_mode": "java",
   "file_extension": ".jshell",
   "mimetype": "text/x-java-source",
   "name": "Java",
   "pygments_lexer": "java",
   "version": "17+35-2724"
  }
 },
 "nbformat": 4,
 "nbformat_minor": 5
}
