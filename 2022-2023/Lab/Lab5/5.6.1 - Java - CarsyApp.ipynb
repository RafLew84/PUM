{
 "cells": [
  {
   "cell_type": "markdown",
   "id": "10f4716e-333b-4045-b9e9-5c72f8f0ea1a",
   "metadata": {},
   "source": [
    "## 5.6 Carsy"
   ]
  },
  {
   "cell_type": "markdown",
   "id": "6c0258fe-4cae-4b2e-90e3-7682755d45ae",
   "metadata": {},
   "source": [
    "Aplikacja wykorzystuje `BottomNavigation` oraz `DrawerNavigation`. Po raz kolejny wykorzystamy tylko statyczne dostarczone przez obiekt `dataProvider`. Wykorzystamy `RecyclerView` w kilku różnych konfiguracjach. Będzie to uboga wersja [Fuelio](https://play.google.com/store/apps/details?id=com.kajda.fuelio&hl=pl&gl=US)\n",
    "- `RecyclerView` z grupowaniem elementów osiągniętym przez wykorzystanie dwóch `ViewHolder`"
   ]
  },
  {
   "cell_type": "markdown",
   "id": "2ac1fd2d-bcb0-4624-b28a-5647a25f76e9",
   "metadata": {},
   "source": [
    "<table><tr><td><img src=\"https://media2.giphy.com/media/0lpf97nejk58XmgAP1/giphy.gif?cid=790b7611c2da1160570c8dd99550ec3cec763c3d4c38b025&rid=giphy.gif&ct=g\" width=\"200\" /></td><td><img src=\"https://media2.giphy.com/media/hv5Ewg1qBwSj99Ju82/giphy.gif?cid=790b7611ccbb9fccb551bafa99c524b39c01a03d957a334b&rid=giphy.gif&ct=g\" width=\"200\" /></td><td><img src=\"https://media4.giphy.com/media/FkSzT1Y6TNOtg89XKr/giphy.gif?cid=790b76119c5e65885f7be2c85549b516585eebeb4a8d4baa&rid=giphy.gif&ct=g\" width=\"200\" /></td></tr></table>"
   ]
  },
  {
   "cell_type": "markdown",
   "id": "5bdcfb8a-95d4-4af5-a2b1-e28847d7a89c",
   "metadata": {},
   "source": [
    "### **BottomNavigation**"
   ]
  },
  {
   "cell_type": "markdown",
   "id": "52e75661-617a-40ce-82c0-8e16d092ff79",
   "metadata": {},
   "source": [
    "Rozpocznijmy od dodania trzech pustych fragmentów (`OverviewFragment`, `CalculatorsFragment`, `TimeLineFragment`) i nawigacji\n",
    "\n",
    "`navigation.xml`"
   ]
  },
  {
   "cell_type": "code",
   "execution_count": null,
   "id": "c885653c-9743-4c06-93ea-e3624d665197",
   "metadata": {},
   "outputs": [],
   "source": [
    "<?xml version=\"1.0\" encoding=\"utf-8\"?>\n",
    "<navigation xmlns:android=\"http://schemas.android.com/apk/res/android\"\n",
    "    xmlns:app=\"http://schemas.android.com/apk/res-auto\"\n",
    "    xmlns:tools=\"http://schemas.android.com/tools\"\n",
    "    android:id=\"@+id/navigation\"\n",
    "    app:startDestination=\"@id/overviewFragment\">\n",
    "\n",
    "    <fragment\n",
    "        android:id=\"@+id/calculatorsFragment\"\n",
    "        android:name=\"pl.udu.uwr.pum.carsyappkotlin.fragments.CalculatorsFragment\"\n",
    "        android:label=\"fragment_calculators\"\n",
    "        tools:layout=\"@layout/fragment_calculators\" />\n",
    "    <fragment\n",
    "        android:id=\"@+id/timeLineFragment\"\n",
    "        android:name=\"pl.udu.uwr.pum.carsyappkotlin.fragments.TimeLineFragment\"\n",
    "        android:label=\"fragment_time_line\"\n",
    "        tools:layout=\"@layout/fragment_time_line\" />\n",
    "    <fragment\n",
    "        android:id=\"@+id/overviewFragment\"\n",
    "        android:name=\"pl.udu.uwr.pum.carsyappkotlin.fragments.OverviewFragment\"\n",
    "        android:label=\"fragment_overview\"\n",
    "        tools:layout=\"@layout/fragment_overview\" />\n",
    "</navigation>"
   ]
  },
  {
   "cell_type": "markdown",
   "id": "c0f65d6a-9d06-47f2-a7a2-e1f853d3debc",
   "metadata": {},
   "source": [
    "Po raz kolejny dodajemy tylko fragmenty nie definiując dla nich akcji. `OverviewFragment` oznaczam jako fragment domowy. Musimy również utworzyć `menu` dla `BottomNavigation`\n",
    "\n",
    "`bottom_menu.xml`"
   ]
  },
  {
   "cell_type": "code",
   "execution_count": null,
   "id": "8d9a48b9-e1e3-4b1e-9394-9f61997d039c",
   "metadata": {},
   "outputs": [],
   "source": [
    "<?xml version=\"1.0\" encoding=\"utf-8\"?>\n",
    "<menu xmlns:android=\"http://schemas.android.com/apk/res/android\">\n",
    "    <item\n",
    "        android:id=\"@id/overviewFragment\"\n",
    "        android:title=\"@string/overview\" />\n",
    "    <item\n",
    "        android:id=\"@id/timeLineFragment\"\n",
    "        android:title=\"@string/time_line\" />\n",
    "\n",
    "    <item\n",
    "        android:id=\"@id/calculatorsFragment\"\n",
    "        android:title=\"@string/calculators\" />\n",
    "</menu>"
   ]
  },
  {
   "cell_type": "markdown",
   "id": "89eb5bd1-df7f-4f39-af4a-3f485a5bfef1",
   "metadata": {},
   "source": [
    "Pamiętajmy, że `android:id` muszą być takie same jak w `navigation.xml` aby automatyczna nawigacja działała prawidłowo.\n",
    "\n",
    "Przejdźmy do `MainActivity` i dodajmy nawigację oraz połączmy ją z `BottomNavigation`"
   ]
  },
  {
   "cell_type": "code",
   "execution_count": null,
   "id": "99deb47d-ad47-4f69-90ee-b5a3cbb7ef85",
   "metadata": {},
   "outputs": [],
   "source": [
    "public class MainActivity extends AppCompatActivity {\n",
    "\n",
    "    private NavController navController;\n",
    "\n",
    "    private ActivityMainBinding binding;\n",
    "\n",
    "    @Override\n",
    "    protected void onCreate(Bundle savedInstanceState) {\n",
    "        super.onCreate(savedInstanceState);\n",
    "        binding = ActivityMainBinding.inflate(getLayoutInflater());\n",
    "        setContentView(binding.getRoot());\n",
    "\n",
    "        NavHostFragment navHostFragment = (NavHostFragment) getSupportFragmentManager()\n",
    "                .findFragmentById(R.id.nav_host_fragment);\n",
    "\n",
    "        if (navHostFragment != null) {\n",
    "            navController = NavHostFragment.findNavController(navHostFragment);\n",
    "        }\n",
    "\n",
    "        NavigationUI.setupWithNavController(binding.bottomNavView, navController);\n",
    "    }\n",
    "}"
   ]
  },
  {
   "cell_type": "markdown",
   "id": "52c46aeb-62f9-4462-8a31-676a6542089e",
   "metadata": {},
   "source": [
    "W efekcie powinniśmy otrzymać podstawową nawigację z trzema ekranami."
   ]
  },
  {
   "cell_type": "markdown",
   "id": "f406d53e-c74f-481b-b027-3413f24cdfea",
   "metadata": {},
   "source": [
    "<img src=\"https://media1.giphy.com/media/x0j1SX0qmejSUNRtHu/giphy.gif?cid=790b7611bcaddd3fe77b775f20dd38e5e0cfa788c1e83df7&rid=giphy.gif&ct=g\" width=\"150\" />"
   ]
  },
  {
   "cell_type": "markdown",
   "id": "4984eee7-6077-45f1-9ca5-de15781acfab",
   "metadata": {},
   "source": [
    "### **TimeLineFragment**"
   ]
  },
  {
   "cell_type": "markdown",
   "id": "fead52e9-1096-4103-9bcd-e5f595cb087c",
   "metadata": {},
   "source": [
    "Chcemy przygotować listę w postaci osi czasu, która będzie zbliżona do tego co oferuje aplikacja **Fuelio**"
   ]
  },
  {
   "cell_type": "markdown",
   "id": "2956bb09-b8ed-49fc-8e34-1108fe1a1d78",
   "metadata": {},
   "source": [
    "<img src=\"https://play-lh.googleusercontent.com/Lm6SO1jsUF-VjsrfkIV9x-qpPIkIOIvgWkBGmxyZuHWPSbkYMS0oLhgoBk9wLXq6Xw=w5120-h2880\" width=\"150\" />"
   ]
  },
  {
   "cell_type": "markdown",
   "id": "41e604a6-2ee8-46bc-8b67-6f829c9cf8a5",
   "metadata": {},
   "source": [
    "Zrobimy to w postaci `RecyclerView` z dwoma `ViewHolder`. Wpierw przygotujmy dane. Typ kosztu zdefiniujemy jako `enum class`, będziemy przechowywać w niej typ oraz ikonę."
   ]
  },
  {
   "cell_type": "code",
   "execution_count": null,
   "id": "5466bdcb-014c-4fcb-a8e5-43e10d129e95",
   "metadata": {},
   "outputs": [],
   "source": [
    "public enum CostType {\n",
    "    REFUELING(\"Tankowanie\", R.drawable.ic_fuel),\n",
    "    SERVICE(\"Serwis\", R.drawable.ic_car_repair),\n",
    "    PARKING(\"Parking\", R.drawable.ic_parking),\n",
    "    INSURANCE(\"Ubezpieczenie\", R.drawable.ic_general_cost),\n",
    "    TICKET(\"Mandat\", R.drawable.ic_ticket);\n",
    "\n",
    "    private final String costType;\n",
    "    private final int icon;\n",
    "\n",
    "    CostType(String costType, int icon) {\n",
    "        this.costType = costType;\n",
    "        this.icon = icon;\n",
    "    }\n",
    "\n",
    "    public String getCostType() {\n",
    "        return costType;\n",
    "    }\n",
    "\n",
    "    public int getIcon() {\n",
    "        return icon;\n",
    "    }\n",
    "}"
   ]
  },
  {
   "cell_type": "markdown",
   "id": "9a41fb72-dc8a-44bb-a3bc-79ea8655db80",
   "metadata": {},
   "source": [
    "Ikony standardowo wybieramy spośród dostępnych w **Android Studio** (**New -> Vector Asset**). Model danych zawiera typ kosztu, datę oraz kwotę."
   ]
  },
  {
   "cell_type": "code",
   "execution_count": null,
   "id": "2adf1ce0-138d-40dc-a79b-089dfe67bac9",
   "metadata": {},
   "outputs": [],
   "source": [
    "public class Cost {\n",
    "    private final CostType type;\n",
    "    private final LocalDate date;\n",
    "    private final int amount;\n",
    "\n",
    "    public Cost(CostType type, LocalDate date, int amount){\n",
    "        this.type = type;\n",
    "        this.date = date;\n",
    "        this.amount = amount;\n",
    "    }\n",
    "\n",
    "    public CostType getType() {\n",
    "        return type;\n",
    "    }\n",
    "\n",
    "    public LocalDate getDate() {\n",
    "        return date;\n",
    "    }\n",
    "\n",
    "    public int getAmount() {\n",
    "        return amount;\n",
    "    }\n",
    "}"
   ]
  },
  {
   "cell_type": "markdown",
   "id": "107e832f-9a02-401e-8ebb-9b71edc72f53",
   "metadata": {},
   "source": [
    "Ponieważ będziemy posiadać pojedynczy `RecyclerView` i dwa `ViewHolder`, musimy w jakiś sposób rozróżnić typ naszych danych - dla uproszczenia będziemy sortować po miesiącach (bez uwzględnienia lat). Więc chcemy zdefiniować dwa typy \n",
    "- `CostListItem` - klasa bazowa"
   ]
  },
  {
   "cell_type": "code",
   "execution_count": null,
   "id": "8540fc3d-0453-4bff-b08f-7a43867edeb4",
   "metadata": {},
   "outputs": [],
   "source": [
    "public abstract class CostListItem {\n",
    "    public static final int TYPE_DATE = 0;\n",
    "    public static final int TYPE_GENERAL = 1;\n",
    "\n",
    "    abstract public int getType();\n",
    "}"
   ]
  },
  {
   "cell_type": "markdown",
   "id": "6624f074-33ab-4fb6-b063-43d897e9af1e",
   "metadata": {},
   "source": [
    "- `CostDateItem` - posiadający tylko datę po której będziemy sortować oraz na podstawie której utworzymy wersję layoutu dla `RecyclerView`"
   ]
  },
  {
   "cell_type": "code",
   "execution_count": null,
   "id": "b9d11e0a-febc-40eb-acc6-af0f8a3b59c9",
   "metadata": {},
   "outputs": [],
   "source": [
    "public class CostDateItem extends CostListItem {\n",
    "    private String date;\n",
    "\n",
    "    public CostDateItem(String date){\n",
    "        this.date = date;\n",
    "    }\n",
    "\n",
    "    public String getDate() {\n",
    "        return date;\n",
    "    }\n",
    "\n",
    "    @Override\n",
    "    public int getType() {\n",
    "        return TYPE_DATE;\n",
    "    }\n",
    "}"
   ]
  },
  {
   "cell_type": "markdown",
   "id": "a5c80d82-89e0-45f2-beba-a02648a38a9c",
   "metadata": {},
   "source": [
    "- `CostGeneralItem` - każdy inny element dla którego również utworzymy layout"
   ]
  },
  {
   "cell_type": "code",
   "execution_count": null,
   "id": "e6e09b9c-4c78-4878-9dc4-7227a4f68680",
   "metadata": {},
   "outputs": [],
   "source": [
    "public class CostGeneralItem extends CostListItem {\n",
    "    private Cost cost;\n",
    "\n",
    "    public Cost getCost() {\n",
    "        return cost;\n",
    "    }\n",
    "\n",
    "    public CostGeneralItem(Cost cost){\n",
    "        this.cost = cost;\n",
    "    }\n",
    "\n",
    "\n",
    "    @Override\n",
    "    public int getType() {\n",
    "        return TYPE_GENERAL;\n",
    "    }\n",
    "}"
   ]
  },
  {
   "cell_type": "markdown",
   "id": "eab104ea-9aaa-415f-b2eb-e063f2c38766",
   "metadata": {},
   "source": [
    "Przejdźmy do obiektu `DataProvider` - w pierwszym kroku utworzymy listę kosztów"
   ]
  },
  {
   "cell_type": "code",
   "execution_count": null,
   "id": "f5a46a00-4ea1-4118-bf1f-99b14bb9db24",
   "metadata": {},
   "outputs": [],
   "source": [
    "public final class DataProvider {\n",
    "    private DataProvider() {\n",
    "    }\n",
    "\n",
    "    public static ArrayList<Cost> getGeneralCosts() {\n",
    "        ArrayList<Cost> items = new ArrayList<>();\n",
    "        for (int i = 0; i < 100; i++) {\n",
    "            items.add(new Cost(\n",
    "                    CostType.values()[new Random().nextInt(CostType.values().length)],\n",
    "                    LocalDate.of(2022, new Random().nextInt(12) + 1, new Random().nextInt(28) + 1),\n",
    "                    new Random().nextInt(5000)));\n",
    "        }\n",
    "        return items;\n",
    "    }\n",
    "}"
   ]
  },
  {
   "cell_type": "markdown",
   "id": "da48cd52-8a30-4215-a720-19add5fb7e09",
   "metadata": {},
   "source": [
    "Ponieważ mamy jeden `RecyclerView`, więc będziemy mieć jedną listę - musimy ją odpowiednio przygotować. Wykorzystamy `SortedMap` i posortujemy całość po miesiącach, następnie pogrupujemy względem miesięcy."
   ]
  },
  {
   "cell_type": "code",
   "execution_count": null,
   "id": "328ec3a5-5e28-47f8-9fdd-3c6819402e7b",
   "metadata": {},
   "outputs": [],
   "source": [
    "private static final SortedMap<Month, ArrayList<Cost>> groupedHashMap = \n",
    "    groupDataIntoHashMap(getGeneralCosts());\n",
    "\n",
    "private static SortedMap<Month, ArrayList<Cost>> groupDataIntoHashMap(ArrayList<Cost> itemList) {\n",
    "\n",
    "    SortedMap<Month, ArrayList<Cost>> groupedHashMap = new TreeMap<>();\n",
    "    for (Cost cost : itemList) {\n",
    "        Month hashMapKey = cost.getDate().getMonth();\n",
    "        if (groupedHashMap.containsKey(hashMapKey)) {\n",
    "            Objects.requireNonNull(groupedHashMap.get(hashMapKey)).add(cost);\n",
    "        } else {\n",
    "            ArrayList<Cost> list = new ArrayList<>();\n",
    "            list.add(cost);\n",
    "            groupedHashMap.put(hashMapKey, list);\n",
    "        }\n",
    "    }\n",
    "    return groupedHashMap;\n",
    "}"
   ]
  },
  {
   "cell_type": "markdown",
   "id": "35b70e76-def4-4a89-8541-b3337483617a",
   "metadata": {},
   "source": [
    "Następnie napiszemy funkcję `getTimeLineList` zwracająca listę dla `RecyclerView`"
   ]
  },
  {
   "cell_type": "code",
   "execution_count": null,
   "id": "bbf7ebf0-11d8-4452-9a5a-a0cdc3bae643",
   "metadata": {},
   "outputs": [],
   "source": [
    "public static ArrayList<CostListItem> getTimeLineList() {"
   ]
  },
  {
   "cell_type": "markdown",
   "id": "fa577ce1-921b-406c-a382-408424eed342",
   "metadata": {},
   "source": [
    "Utwórzmy listę pomocniczą"
   ]
  },
  {
   "cell_type": "code",
   "execution_count": null,
   "id": "876f2cb6-43e1-459c-b4c0-4aed8b9473f1",
   "metadata": {},
   "outputs": [],
   "source": [
    "ArrayList<CostListItem> items = new ArrayList<>();"
   ]
  },
  {
   "cell_type": "markdown",
   "id": "64e77f8d-de61-44f6-a6d5-717a7d020dd3",
   "metadata": {},
   "source": [
    "Przechodzimy po wszystkich kluczach w naszej mapie"
   ]
  },
  {
   "cell_type": "code",
   "execution_count": null,
   "id": "acab1779-3af8-46ff-9a5c-d406faa74f45",
   "metadata": {},
   "outputs": [],
   "source": [
    "for (Month date : groupedHashMap.keySet()) {"
   ]
  },
  {
   "cell_type": "markdown",
   "id": "b54ed9f7-4771-4ee5-a598-c49755827af5",
   "metadata": {},
   "source": [
    "W pętli tworzę listę wszystkich elementów z danego miesiąca, następnie ją sortuję względem dnia miesiąca i każdy element `CostGeneralItem` dodaję do `list`"
   ]
  },
  {
   "cell_type": "code",
   "execution_count": null,
   "id": "df5168ba-2b7d-49a8-b5b6-989223956be8",
   "metadata": {},
   "outputs": [],
   "source": [
    "ArrayList<Cost> groupingItems = groupedHashMap.get(date);\n",
    "if (groupingItems != null) {\n",
    "    groupingItems.sort(Comparator.comparingInt(o -> o.getDate().getDayOfMonth()));\n",
    "    groupingItems.forEach(cost -> items.add(new CostGeneralItem(cost)));\n",
    "}"
   ]
  },
  {
   "cell_type": "markdown",
   "id": "db697d28-3972-4e4c-9522-39dd7b774ace",
   "metadata": {},
   "source": [
    "Ostatnim elementem pętli będzie dodanie `CostDateItem`"
   ]
  },
  {
   "cell_type": "code",
   "execution_count": null,
   "id": "ed332110-1bdd-4858-bda9-4048371f9489",
   "metadata": {},
   "outputs": [],
   "source": [
    "CostDateItem dateItem = new CostDateItem(date.name());\n",
    "items.add(dateItem);"
   ]
  },
  {
   "cell_type": "markdown",
   "id": "3738f8a9-b413-4ad3-9da2-c198bc95de9a",
   "metadata": {},
   "source": [
    "Na koniec wychodzimy z pętli `for` i zwracamy listę"
   ]
  },
  {
   "cell_type": "code",
   "execution_count": null,
   "id": "f6cc77f3-19eb-4954-a0a6-bee713287d02",
   "metadata": {},
   "outputs": [],
   "source": [
    "    }\n",
    "    return items;\n",
    "}"
   ]
  },
  {
   "cell_type": "markdown",
   "id": "92edff30-a11a-44e0-8c7b-f4ba37731847",
   "metadata": {},
   "source": [
    "Pełna funkcja"
   ]
  },
  {
   "cell_type": "code",
   "execution_count": null,
   "id": "f01b3fe3-cc79-4f76-9669-3acccc0e2399",
   "metadata": {},
   "outputs": [],
   "source": [
    "public static ArrayList<CostListItem> getTimeLineList() {\n",
    "    ArrayList<CostListItem> items = new ArrayList<>();\n",
    "\n",
    "    for (Month date : groupedHashMap.keySet()) {\n",
    "        ArrayList<Cost> groupingItems = groupedHashMap.get(date);\n",
    "        if (groupingItems != null) {\n",
    "            groupingItems.sort(Comparator.comparingInt(o -> o.getDate().getDayOfMonth()));\n",
    "            groupingItems.forEach(cost -> items.add(new CostGeneralItem(cost)));\n",
    "        }\n",
    "        CostDateItem dateItem = new CostDateItem(date.name());\n",
    "        items.add(dateItem);\n",
    "    }\n",
    "    return items;\n",
    "}"
   ]
  },
  {
   "cell_type": "markdown",
   "id": "40448822-2bc8-496b-a6c8-da4813b2072b",
   "metadata": {},
   "source": [
    "Podsumowując:\n",
    "- tworzą listę do której wrzucę wszystkie elementy odpowiednio posortowane - lista zawiera elementy typu `CostListItem`\n",
    "- przechodzę po kluczach wcześniej utworzonej mapy (miesiące)\n",
    "- dodaję wszystkie elementy `CostGeneralItem` - wszystkie koszty dla danego miesiąca\n",
    "- na koniec dodaję `CostDateItem` - miesiąc\n",
    "\n",
    "Przejdźmy do `TimeLineAdapter` - klasa będzie przyjmowała w parametrze `Context` i rozszerzała `RecyclerView.Adapter`"
   ]
  },
  {
   "cell_type": "code",
   "execution_count": null,
   "id": "e25d8612-7f00-45c3-885f-7e5a753c776e",
   "metadata": {},
   "outputs": [],
   "source": [
    "public class TimeLineAdapter extends RecyclerView.Adapter<RecyclerView.ViewHolder> {}"
   ]
  },
  {
   "cell_type": "markdown",
   "id": "9dc1d7b8-fe2e-4c7d-b67d-533ba133a582",
   "metadata": {},
   "source": [
    "W pierwszej kolejności dodajmy listę elementów."
   ]
  },
  {
   "cell_type": "code",
   "execution_count": null,
   "id": "b77e5864-0cfa-482d-9c20-aa19a8d830b2",
   "metadata": {},
   "outputs": [],
   "source": [
    "private final ArrayList<CostListItem> itemList = DataProvider.getTimeLineList();"
   ]
  },
  {
   "cell_type": "markdown",
   "id": "5fe33dc0-0958-4a26-aec4-f3433b5dbe23",
   "metadata": {},
   "source": [
    "Zdefiniujmy dwie klasy `ViewHolder` - pierwszą będzie klasa dla elementu grupującego (tutaj jest to data - miesiąc)"
   ]
  },
  {
   "cell_type": "code",
   "execution_count": null,
   "id": "1fc9a9cc-0bd7-4ad8-b1f2-cf3e8d1f3210",
   "metadata": {},
   "outputs": [],
   "source": [
    "    static class DateViewHolder extends RecyclerView.ViewHolder{\n",
    "\n",
    "        private final TextView dateTextView;\n",
    "\n",
    "        public DateViewHolder(@NonNull View itemView) {\n",
    "            super(itemView);\n",
    "\n",
    "            dateTextView = itemView.findViewById(R.id.timeLineDateTextView);\n",
    "        }\n",
    "\n",
    "        public void bind(CostDateItem item){\n",
    "            dateTextView.setText(item.getDate());\n",
    "        }\n",
    "    }"
   ]
  },
  {
   "cell_type": "markdown",
   "id": "08f9dafc-2f09-4f95-9d44-783f520ba39d",
   "metadata": {},
   "source": [
    "Dla tego `ViewHolder` definiujemy layout w pliku `date_item_timeline.xml`"
   ]
  },
  {
   "cell_type": "code",
   "execution_count": null,
   "id": "afaaa8ae-c22f-433c-b2b4-45ad0e1860b4",
   "metadata": {},
   "outputs": [],
   "source": [
    "<?xml version=\"1.0\" encoding=\"utf-8\"?>\n",
    "<androidx.constraintlayout.widget.ConstraintLayout \n",
    "xmlns:android=\"http://schemas.android.com/apk/res/android\"\n",
    "    xmlns:app=\"http://schemas.android.com/apk/res-auto\"\n",
    "    android:layout_width=\"match_parent\"\n",
    "    android:layout_height=\"wrap_content\"\n",
    "    android:layout_marginStart=\"4dp\"\n",
    "    android:layout_marginEnd=\"4dp\">\n",
    "\n",
    "    <View\n",
    "        android:id=\"@+id/RVcolorBarView\"\n",
    "        android:layout_width=\"16px\"\n",
    "        android:layout_height=\"0dp\"\n",
    "        android:layout_marginStart=\"24dp\"\n",
    "        android:background=\"?attr/colorPrimary\"\n",
    "        android:outlineAmbientShadowColor=\"?attr/colorPrimary\"\n",
    "        android:outlineSpotShadowColor=\"?attr/colorPrimary\"\n",
    "        app:layout_constraintBottom_toBottomOf=\"parent\"\n",
    "        app:layout_constraintStart_toStartOf=\"parent\"\n",
    "        app:layout_constraintTop_toTopOf=\"parent\" />\n",
    "\n",
    "    <ImageView\n",
    "        android:layout_width=\"wrap_content\"\n",
    "        android:layout_height=\"wrap_content\"\n",
    "        android:layout_marginStart=\"19dp\"\n",
    "        android:layout_marginTop=\"24dp\"\n",
    "        android:background=\"@drawable/ic_round_circle\"\n",
    "        android:backgroundTint=\"?attr/colorPrimary\"\n",
    "        android:contentDescription=\"@string/bullet\"\n",
    "        app:layout_constraintBottom_toBottomOf=\"@+id/RVcolorBarView\"\n",
    "        app:layout_constraintStart_toStartOf=\"parent\"\n",
    "        app:layout_constraintTop_toTopOf=\"@+id/RVcolorBarView\" />\n",
    "\n",
    "    <TextView\n",
    "        android:id=\"@+id/timeLineDateTextView\"\n",
    "        android:layout_width=\"wrap_content\"\n",
    "        android:layout_height=\"wrap_content\"\n",
    "        android:layout_marginStart=\"16dp\"\n",
    "        android:layout_marginTop=\"24dp\"\n",
    "        android:fontFamily=\"serif\"\n",
    "        android:textColor=\"?attr/colorSecondary\"\n",
    "        android:padding=\"4dp\"\n",
    "        android:text=\"@string/date\"\n",
    "        android:textSize=\"16sp\"\n",
    "        app:layout_constraintBottom_toBottomOf=\"parent\"\n",
    "        app:layout_constraintStart_toStartOf=\"@id/RVcolorBarView\"\n",
    "        app:layout_constraintTop_toTopOf=\"parent\" />\n",
    "\n",
    "</androidx.constraintlayout.widget.ConstraintLayout>"
   ]
  },
  {
   "cell_type": "markdown",
   "id": "e52dacfc-60a7-49d1-b74b-692deacb493c",
   "metadata": {},
   "source": [
    "Jak widzimy mamy tylko jedno pole `TextView` wyświetlające nazwę miesiąca po którym grupujemy. Pozostałe dwa elementy są graficznym indykatorem - `View` jest linią o zadanej grubości i `ImageView` tutaj ma formę wypełnionego koła."
   ]
  },
  {
   "cell_type": "markdown",
   "id": "849b521b-6d51-407e-b8cc-15ba6762c6e8",
   "metadata": {},
   "source": [
    "Zdefiniujmy również drugi `ViewHolder` dla pozostałych elementów na liście - tutaj chcemy pokazać typ kosztu, kwotę, pełną datę, oraz ikonę dla odpowiedniego typu kosztu."
   ]
  },
  {
   "cell_type": "code",
   "execution_count": null,
   "id": "52a4dced-aaaf-4217-ac39-b229585ce907",
   "metadata": {},
   "outputs": [],
   "source": [
    "class GeneralViewHolder extends RecyclerView.ViewHolder{\n",
    "\n",
    "    private final TextView costTypeTextView;\n",
    "    private final TextView fullDateTextView;\n",
    "    private final TextView amountTextView;\n",
    "    private final ImageView iconImageView;\n",
    "\n",
    "    public GeneralViewHolder(@NonNull View itemView) {\n",
    "        super(itemView);\n",
    "\n",
    "        costTypeTextView = itemView.findViewById(R.id.timeLineCostTypeNameTextView);\n",
    "        fullDateTextView = itemView.findViewById(R.id.timeLineFullDateTextView);\n",
    "        amountTextView = itemView.findViewById(R.id.timeLineCostAmountTextView);\n",
    "        iconImageView = itemView.findViewById(R.id.iconTimeLineImageView);\n",
    "    }\n",
    "\n",
    "    public void bind(CostGeneralItem item){\n",
    "        costTypeTextView.setText(item.getCost().getType().getCostType());\n",
    "        fullDateTextView.setText(item.getCost().getDate().format(FormatterUtil.dateFormatter));\n",
    "        amountTextView.setText(String.format(\"%s zł\", item.getCost().getAmount()));\n",
    "        iconImageView.setBackground(\n",
    "            ContextCompat\n",
    "            .getDrawable(context, item.getCost().getType().getIcon()));\n",
    "    }\n",
    "}"
   ]
  },
  {
   "cell_type": "markdown",
   "id": "c701ff82-8fe1-4224-837b-df9e21819628",
   "metadata": {},
   "source": [
    "Będziemy również formatować nieco `String` przy dacie, więc zdefiniujmy `DateTimeFormatter`"
   ]
  },
  {
   "cell_type": "code",
   "execution_count": null,
   "id": "8c471037-9c9b-41c8-8f0c-af443b482776",
   "metadata": {},
   "outputs": [],
   "source": [
    "public final class FormatterUtil {\n",
    "    private FormatterUtil(){}\n",
    "\n",
    "    public static DateTimeFormatter dateFormatter = DateTimeFormatter.ofPattern(\"yyyy MMM dd\");\n",
    "}"
   ]
  },
  {
   "cell_type": "markdown",
   "id": "87399c57-1aac-4509-85bf-6493800ea881",
   "metadata": {},
   "source": [
    "Layout jest nieco bardziej skomplikowany"
   ]
  },
  {
   "cell_type": "code",
   "execution_count": null,
   "id": "44760342-36ce-4582-bd82-f600aa7659d5",
   "metadata": {},
   "outputs": [],
   "source": [
    "<?xml version=\"1.0\" encoding=\"utf-8\"?>\n",
    "<androidx.constraintlayout.widget.ConstraintLayout xmlns:android=\"http://schemas.android.com/apk/res/android\"\n",
    "    xmlns:app=\"http://schemas.android.com/apk/res-auto\"\n",
    "    android:layout_width=\"match_parent\"\n",
    "    android:layout_height=\"wrap_content\"\n",
    "    android:layout_marginStart=\"4dp\"\n",
    "    android:layout_marginEnd=\"4dp\">\n",
    "\n",
    "    <View\n",
    "        android:id=\"@+id/RVcolorBarView\"\n",
    "        android:layout_width=\"16px\"\n",
    "        android:layout_height=\"0dp\"\n",
    "        android:layout_marginStart=\"24dp\"\n",
    "        android:background=\"?attr/colorPrimary\"\n",
    "        android:outlineAmbientShadowColor=\"?attr/colorPrimary\"\n",
    "        android:outlineSpotShadowColor=\"?attr/colorPrimary\"\n",
    "        app:layout_constraintBottom_toBottomOf=\"parent\"\n",
    "        app:layout_constraintStart_toStartOf=\"parent\"\n",
    "        app:layout_constraintTop_toTopOf=\"parent\" />\n",
    "\n",
    "    <ImageView\n",
    "        android:id=\"@+id/imageView\"\n",
    "        android:layout_width=\"wrap_content\"\n",
    "        android:layout_height=\"wrap_content\"\n",
    "        android:layout_marginStart=\"3.2dp\"\n",
    "        android:background=\"@drawable/ic_round_circle_big\"\n",
    "        android:backgroundTint=\"?attr/colorPrimary\"\n",
    "        android:contentDescription=\"@string/bullet\"\n",
    "        app:layout_constraintBottom_toBottomOf=\"@+id/RVcolorBarView\"\n",
    "        app:layout_constraintStart_toStartOf=\"parent\"\n",
    "        app:layout_constraintTop_toTopOf=\"@+id/RVcolorBarView\" />\n",
    "\n",
    "    <ImageView\n",
    "        android:id=\"@+id/iconTimeLineImageView\"\n",
    "        android:layout_width=\"wrap_content\"\n",
    "        android:layout_height=\"wrap_content\"\n",
    "        android:layout_marginStart=\"12dp\"\n",
    "        android:layout_marginTop=\"8dp\"\n",
    "        android:background=\"@drawable/ic_car_repair\"\n",
    "        android:backgroundTint=\"@color/white\"\n",
    "        android:contentDescription=\"@string/bullet\"\n",
    "        app:layout_constraintBottom_toBottomOf=\"@+id/imageView\"\n",
    "        app:layout_constraintStart_toStartOf=\"@+id/imageView\"\n",
    "        app:layout_constraintTop_toTopOf=\"@+id/imageView\"\n",
    "        app:layout_constraintVertical_bias=\"0.285\" />\n",
    "\n",
    "    <TextView\n",
    "        android:id=\"@+id/timeLineCostTypeNameTextView\"\n",
    "        android:layout_width=\"wrap_content\"\n",
    "        android:layout_height=\"wrap_content\"\n",
    "        android:padding=\"4dp\"\n",
    "        android:text=\"@string/costtype_name\"\n",
    "        android:textSize=\"24sp\"\n",
    "        app:layout_constraintBottom_toBottomOf=\"parent\"\n",
    "        app:layout_constraintStart_toEndOf=\"@+id/imageView\"\n",
    "        app:layout_constraintTop_toTopOf=\"parent\" />\n",
    "\n",
    "    <TextView\n",
    "        android:id=\"@+id/timeLineCostAmountTextView\"\n",
    "        android:layout_width=\"wrap_content\"\n",
    "        android:layout_height=\"wrap_content\"\n",
    "        android:layout_marginEnd=\"16dp\"\n",
    "        android:padding=\"4dp\"\n",
    "        android:text=\"1200 zł\"\n",
    "        android:textSize=\"24sp\"\n",
    "        app:layout_constraintBottom_toBottomOf=\"parent\"\n",
    "        app:layout_constraintEnd_toEndOf=\"parent\"\n",
    "        app:layout_constraintTop_toTopOf=\"parent\" />\n",
    "\n",
    "    <TextView\n",
    "        android:id=\"@+id/timeLineFullDateTextView\"\n",
    "        android:layout_width=\"wrap_content\"\n",
    "        android:layout_height=\"wrap_content\"\n",
    "        android:fontFamily=\"serif\"\n",
    "        android:paddingStart=\"4dp\"\n",
    "        android:text=\"@string/date\"\n",
    "        android:textSize=\"16sp\"\n",
    "        app:layout_constraintBottom_toBottomOf=\"parent\"\n",
    "        app:layout_constraintStart_toEndOf=\"@+id/imageView\"\n",
    "        app:layout_constraintTop_toBottomOf=\"@+id/timeLineCostTypeNameTextView\" />\n",
    "\n",
    "</androidx.constraintlayout.widget.ConstraintLayout>"
   ]
  },
  {
   "cell_type": "markdown",
   "id": "b9ce7711-d616-4bed-b795-e65c283f85f1",
   "metadata": {},
   "source": [
    "Zauważmy że znów mamy `View` o tych samych parametrch co w poprzednim layoucie co sprawia wrażenie ciągłości przez wszystkie elementy. Mamy również dwa `ImageView` - pierwszy zastosowałem jako okrągłe tło o jednolitym kolorze dla ikony obecnej w drugim."
   ]
  },
  {
   "cell_type": "markdown",
   "id": "f606fb87-b81f-45e5-9d15-07273b0e0b11",
   "metadata": {},
   "source": [
    "Przejdźmy do metody `onCreateViewHolder` - zwrócimy `ViewHolder` dla zadanego `viewType`. Ponieważ będziemy wykorzystywać dwa, musimy zdefiniować jeszcze `viewType`."
   ]
  },
  {
   "cell_type": "code",
   "execution_count": null,
   "id": "c0687c93-1a02-4acd-ae36-7823e881887d",
   "metadata": {},
   "outputs": [],
   "source": [
    "@NonNull\n",
    "@Override\n",
    "public RecyclerView.ViewHolder onCreateViewHolder(@NonNull ViewGroup parent, int viewType) {\n",
    "\n",
    "    RecyclerView.ViewHolder viewHolder;\n",
    "    LayoutInflater inflater = LayoutInflater.from(parent.getContext());\n",
    "\n",
    "    switch (viewType){\n",
    "        case CostListItem.TYPE_DATE:\n",
    "            View dateView = inflater.inflate(R.layout.date_item_timeline, parent, false);\n",
    "            viewHolder = new DateViewHolder(dateView);\n",
    "            break;\n",
    "        case CostListItem.TYPE_GENERAL:\n",
    "            View generalView = inflater.inflate(R.layout.general_item_timeline, parent, false);\n",
    "            viewHolder = new GeneralViewHolder(generalView);\n",
    "            break;\n",
    "        default:\n",
    "            throw new IllegalStateException(\"Unexpected value: \" + viewType);\n",
    "    }\n",
    "\n",
    "    return viewHolder;\n",
    "}"
   ]
  },
  {
   "cell_type": "markdown",
   "id": "34f45638-54f7-4eb5-beb9-fc2a5b7e6582",
   "metadata": {},
   "source": [
    "Aby zdefiniować `viewType` musimy nadpisać metodę `getItemViewType`"
   ]
  },
  {
   "cell_type": "code",
   "execution_count": null,
   "id": "053a649f-c3b0-4906-b4a9-92ccd5af053d",
   "metadata": {},
   "outputs": [],
   "source": [
    "public int getItemViewType(int position) {\n",
    "    return itemList.get(position).getType();\n",
    "} // zwraca typ elementu na liście"
   ]
  },
  {
   "cell_type": "markdown",
   "id": "4c034343-83fb-4624-85b7-26ec12e51901",
   "metadata": {},
   "source": [
    "Zaimplementujmy metodę `getItemCount`"
   ]
  },
  {
   "cell_type": "code",
   "execution_count": null,
   "id": "ce8d9755-0b68-4caf-976f-ce73f2ba21ac",
   "metadata": {},
   "outputs": [],
   "source": [
    "@Override\n",
    "public int getItemCount() {\n",
    "    return itemList.size();\n",
    "}"
   ]
  },
  {
   "cell_type": "markdown",
   "id": "2d03ed9c-9c5b-4754-bd0f-244f4bc8cd81",
   "metadata": {},
   "source": [
    "Pozostaje implementacja metody `onBindViewHolder` - w zależności od typu `ViewHolder` chcemy przekazać `CostListItem` jako `CostGeneralItem` zawierający instancję `Cost` lub `CostDateItem` zawierający nazwę miesiąca jako `String`."
   ]
  },
  {
   "cell_type": "code",
   "execution_count": null,
   "id": "4bc69881-d2ef-426a-a6f5-9dd84bfe6436",
   "metadata": {},
   "outputs": [],
   "source": [
    "override fun onBindViewHolder(holder: RecyclerView.ViewHolder, position: Int) {\n",
    "    when (holder.itemViewType) {\n",
    "        CostListItem.TYPE_DATE -> (holder as DateViewHolder).bind(\n",
    "            item = itemList[position] as CostDateItem\n",
    "        )\n",
    "        CostListItem.TYPE_GENERAL -> (holder as GeneralViewHolder).bind(\n",
    "            item = itemList[position] as CostGeneralItem\n",
    "        )\n",
    "    }\n",
    "}"
   ]
  },
  {
   "cell_type": "markdown",
   "id": "b82b9966-95b8-4371-a0fe-657d702990ab",
   "metadata": {},
   "source": [
    "Przejdźmy do `TimeLineFragment` i dodajmy nasz RecyclerView"
   ]
  },
  {
   "cell_type": "code",
   "execution_count": null,
   "id": "e10e9c30-d1bf-4d56-acc2-20745af8093c",
   "metadata": {},
   "outputs": [],
   "source": [
    "@Override\n",
    "public void onBindViewHolder(@NonNull RecyclerView.ViewHolder holder, int position) {\n",
    "    switch (holder.getItemViewType()){\n",
    "        case CostListItem.TYPE_DATE:\n",
    "            CostDateItem costDateItem = (CostDateItem) itemList.get(position);\n",
    "            DateViewHolder dateViewHolder = (DateViewHolder) holder;\n",
    "            dateViewHolder.bind(costDateItem);\n",
    "            break;\n",
    "        case CostListItem.TYPE_GENERAL:\n",
    "            CostGeneralItem costGeneralItem = (CostGeneralItem) itemList.get(position);\n",
    "            GeneralViewHolder generalViewHolder = (GeneralViewHolder) holder;\n",
    "            generalViewHolder.bind(costGeneralItem);\n",
    "            break;\n",
    "        default:\n",
    "            throw new IllegalStateException(\"Unexpected type\");\n",
    "    }\n",
    "}"
   ]
  },
  {
   "cell_type": "markdown",
   "id": "454ccc20-8d6f-46b4-a970-3196db80a0c5",
   "metadata": {},
   "source": [
    "Możemy przetestować aplikację"
   ]
  },
  {
   "cell_type": "markdown",
   "id": "8214c199-c940-4e56-8b83-1dad720c208b",
   "metadata": {},
   "source": [
    "<img src=\"https://media4.giphy.com/media/S4iOJk9GSVcizP2tRw/giphy.gif?cid=790b76113b3cee84bee0e3484c2fbc03807cf26e022c376a&rid=giphy.gif&ct=g\" width=\"150\" />"
   ]
  },
  {
   "cell_type": "markdown",
   "id": "e7bffd0e-1691-42ad-b2be-1c250ae43192",
   "metadata": {},
   "source": [
    "### **Model danych**"
   ]
  },
  {
   "cell_type": "markdown",
   "id": "17f42272-4474-447f-a899-4f02c418daca",
   "metadata": {},
   "source": [
    "Przygotujmy prosty model danych opisujący samochód"
   ]
  },
  {
   "cell_type": "code",
   "execution_count": null,
   "id": "acfc89dd-9cc7-4c1d-8a07-c622f04fd197",
   "metadata": {},
   "outputs": [],
   "source": [
    "public class Car {\n",
    "    private final String name;\n",
    "    private final String brand;\n",
    "    private final String model;\n",
    "    private final int yearOfProduction;\n",
    "    private ArrayList<Cost> costs;\n",
    "\n",
    "    public Car(String name, String brand, String model, int yearOfProduction, ArrayList<Cost> costs) {\n",
    "        this.name = name;\n",
    "        this.brand = brand;\n",
    "        this.model = model;\n",
    "        this.yearOfProduction = yearOfProduction;\n",
    "        this.costs = costs;\n",
    "    }\n",
    "\n",
    "    public void setCosts(ArrayList<Cost> costs) {\n",
    "        this.costs = costs;\n",
    "    }\n",
    "\n",
    "    public String getName() {\n",
    "        return name;\n",
    "    }\n",
    "\n",
    "    public String getBrand() {\n",
    "        return brand;\n",
    "    }\n",
    "\n",
    "    public String getModel() {\n",
    "        return model;\n",
    "    }\n",
    "\n",
    "    public int getYearOfProduction() {\n",
    "        return yearOfProduction;\n",
    "    }\n",
    "\n",
    "    public ArrayList<Cost> getCosts() {\n",
    "        return costs;\n",
    "    }\n",
    "}\n"
   ]
  },
  {
   "cell_type": "markdown",
   "id": "0074f416-87ab-4366-8c45-a2198db67130",
   "metadata": {},
   "source": [
    "Poza standardowymi polami umieścimy również listę wszystkich kosztów (do której nie będziemy dodawać kolejnych wpisów). Musimy wprowadzić niewielkie zmiany w `DataProvider` i wystawić liste wszystkich samochodów. Zmienimy `generalCosts` na funkcję przyjmującą rozmiar listy."
   ]
  },
  {
   "cell_type": "code",
   "execution_count": null,
   "id": "f135142a-23b9-49eb-95bf-18a47237dd81",
   "metadata": {},
   "outputs": [],
   "source": [
    "private static ArrayList<Cost> getGeneralCosts(int size) {\n",
    "    ArrayList<Cost> items = new ArrayList<>();\n",
    "    for (int i = 0; i < size; i++) {\n",
    "        items.add(new Cost(\n",
    "                CostType.values()[new Random().nextInt(CostType.values().length)],\n",
    "                LocalDate.of(2022, new Random().nextInt(12) + 1, new Random().nextInt(28) + 1),\n",
    "                new Random().nextInt(5000)));\n",
    "    }\n",
    "    return items;\n",
    "}"
   ]
  },
  {
   "cell_type": "markdown",
   "id": "3c1171cd-b680-4a7d-b47c-c3568d92afdd",
   "metadata": {},
   "source": [
    "Zmodyfikujemy również nieco funkcję `getTimeLineList`"
   ]
  },
  {
   "cell_type": "code",
   "execution_count": null,
   "id": "984381f3-ffb2-4d1d-bf6e-c4674e39237c",
   "metadata": {},
   "outputs": [],
   "source": [
    "public static ArrayList<CostListItem> getTimeLineList(ArrayList<Cost> costs) {\n",
    "    ArrayList<CostListItem> items = new ArrayList<>();\n",
    "\n",
    "    final SortedMap<Month, ArrayList<Cost>> groupedHashMap = groupDataIntoHashMap(costs);\n",
    "\n",
    "    for (Month date : groupedHashMap.keySet()) {\n",
    "        ArrayList<Cost> groupingItems = groupedHashMap.get(date);\n",
    "        if (groupingItems != null) {\n",
    "            groupingItems.sort(Comparator.comparingInt(o -> o.getDate().getDayOfMonth()));\n",
    "            groupingItems.forEach(cost -> items.add(new CostGeneralItem(cost)));\n",
    "        }\n",
    "        CostDateItem dateItem = new CostDateItem(date.name());\n",
    "        items.add(dateItem);\n",
    "    }\n",
    "    return items;\n",
    "}\n",
    "\n",
    "private static SortedMap<Month, ArrayList<Cost>> groupDataIntoHashMap(ArrayList<Cost> itemList) {\n",
    "\n",
    "    SortedMap<Month, ArrayList<Cost>> groupedHashMap = new TreeMap<>();\n",
    "    for (Cost cost : itemList) {\n",
    "        Month hashMapKey = cost.getDate().getMonth();\n",
    "        if (groupedHashMap.containsKey(hashMapKey)) {\n",
    "            Objects.requireNonNull(groupedHashMap.get(hashMapKey)).add(cost);\n",
    "        } else {\n",
    "            ArrayList<Cost> list = new ArrayList<>();\n",
    "            list.add(cost);\n",
    "            groupedHashMap.put(hashMapKey, list);\n",
    "        }\n",
    "    }\n",
    "    return groupedHashMap;\n",
    "}"
   ]
  },
  {
   "cell_type": "markdown",
   "id": "c1e6e776-cfa0-4241-bbf3-7199430d6aa5",
   "metadata": {},
   "source": [
    "Chcemy mieć możliwość pokazania listy wszystkich kosztów dla każdego samochodu. Zmieńmy sygnaturę klasy `TimeLineAdapter` - będzie przyjmować listę wszystkich kosztów `List<Cost>`"
   ]
  },
  {
   "cell_type": "code",
   "execution_count": null,
   "id": "5a1b427f-c80b-432d-80a3-974f8153bde0",
   "metadata": {},
   "outputs": [],
   "source": [
    "public class TimeLineAdapter extends RecyclerView.Adapter<RecyclerView.ViewHolder> {\n",
    "\n",
    "    private final Context context;\n",
    "    private final ArrayList<CostListItem> itemList;\n",
    "\n",
    "    public TimeLineAdapter(Context context, ArrayList<Cost> costs){\n",
    "        this.context = context;\n",
    "        this.itemList = DataProvider.getTimeLineList(costs);\n",
    "        Collections.reverse(itemList);\n",
    "    }\n",
    "    ...\n",
    "}"
   ]
  },
  {
   "cell_type": "markdown",
   "id": "ae3a2814-9eb2-45f6-a067-33853c94761f",
   "metadata": {},
   "source": [
    "Ostatnim elementem będzie wystawienie listy wszystkich samochodów przez obiekt `DataProvider`"
   ]
  },
  {
   "cell_type": "code",
   "execution_count": null,
   "id": "bbb759e0-67db-4e28-a977-91480bb88c4f",
   "metadata": {},
   "outputs": [],
   "source": [
    "public static ArrayList<Car> getCars(){\n",
    "    ArrayList<Car> cars = new ArrayList<>();\n",
    "    cars.add(new Car(\"Domowy\", \"Skoda\", \"Fabia\", 2002, getGeneralCosts(100)));\n",
    "    cars.add(new Car(\"Służbowy\", \"BMW\", \"Coupe\", 2015, getGeneralCosts(50)));\n",
    "    cars.add(new Car(\"Kolekcjonerski\", \"Fiat\", \"125p\", 1985, getGeneralCosts(10)));\n",
    "    return cars;\n",
    "}"
   ]
  },
  {
   "cell_type": "markdown",
   "id": "8bd9bbcd-aff4-4deb-af33-bb6b822a971e",
   "metadata": {},
   "source": [
    "### **Menu rozwijane - Spinner**"
   ]
  },
  {
   "cell_type": "markdown",
   "id": "dca6775c-2df6-4ed6-b539-4b3247cd6714",
   "metadata": {},
   "source": [
    "Na `TimeLineFragment` będziemy zmieniać listę kosztów za pomocą `Spinner`. W pierwszym kroku dodajmy go do layoutu"
   ]
  },
  {
   "cell_type": "code",
   "execution_count": null,
   "id": "46572081-c410-4b5a-84b3-80f901089a67",
   "metadata": {},
   "outputs": [],
   "source": [
    "<?xml version=\"1.0\" encoding=\"utf-8\"?>\n",
    "<LinearLayout xmlns:android=\"http://schemas.android.com/apk/res/android\"\n",
    "    xmlns:tools=\"http://schemas.android.com/tools\"\n",
    "    android:layout_width=\"match_parent\"\n",
    "    android:layout_height=\"match_parent\"\n",
    "    android:orientation=\"vertical\"\n",
    "    tools:context=\".fragments.TimeLineFragment\">\n",
    "\n",
    "    <Spinner\n",
    "        android:id=\"@+id/cars_spinner\"\n",
    "        android:layout_width=\"match_parent\"\n",
    "        android:drawSelectorOnTop=\"true\"\n",
    "        android:background=\"@drawable/spinner_bg\"\n",
    "        style=\"@style/Widget.AppCompat.Spinner\"\n",
    "        android:layout_marginTop=\"20dp\"\n",
    "        android:layout_marginStart=\"10dp\"\n",
    "        android:layout_marginEnd=\"10dp\"\n",
    "        android:layout_height=\"wrap_content\" />\n",
    "\n",
    "    <androidx.recyclerview.widget.RecyclerView\n",
    "        android:id=\"@+id/timeLineRecyclerView\"\n",
    "        android:layout_width=\"match_parent\"\n",
    "        android:layout_height=\"0dp\"\n",
    "        android:layout_weight=\"1\"\n",
    "        android:layout_marginTop=\"12dp\" />\n",
    "\n",
    "</LinearLayout>"
   ]
  },
  {
   "cell_type": "markdown",
   "id": "f9724bee-93e3-4724-a1c6-31773d794d4e",
   "metadata": {},
   "source": [
    "W pliku `spinner_bg` w katalogu `drawable` definiujemy tło naszego spinnera"
   ]
  },
  {
   "cell_type": "code",
   "execution_count": null,
   "id": "9018f4de-3d99-4412-8bea-586e8c137295",
   "metadata": {},
   "outputs": [],
   "source": [
    "<?xml version=\"1.0\" encoding=\"utf-8\"?>\n",
    "<selector xmlns:android=\"http://schemas.android.com/apk/res/android\"\n",
    "    android:exitFadeDuration=\"@android:integer/config_mediumAnimTime\">\n",
    "    <item>\n",
    "        <inset android:insetLeft=\"-1dp\" android:insetRight=\"-1dp\">\n",
    "            <shape android:shape=\"rectangle\">\n",
    "                <stroke android:width=\"1dp\"\n",
    "                    android:color=\"@color/black\" />\n",
    "                <solid android:color=\"?attr/colorPrimary\" />\n",
    "                <corners android:radius=\"100dp\"/>\n",
    "            </shape>\n",
    "        </inset>\n",
    "    </item>\n",
    "</selector>"
   ]
  },
  {
   "cell_type": "markdown",
   "id": "285a6466-0011-4767-938e-3c7a733239c6",
   "metadata": {},
   "source": [
    "Kolejnym krokiem będzie utworzenie layoutu pojedynczego elementu listy `Spinner` - będzie to pole `TextView`. W katalogu `layout` tworzymy nowy plik `spinner_layout`"
   ]
  },
  {
   "cell_type": "code",
   "execution_count": null,
   "id": "913c7b3c-be66-4dfb-9e33-be012897d7fe",
   "metadata": {},
   "outputs": [],
   "source": [
    "<?xml version=\"1.0\" encoding=\"utf-8\"?>\n",
    "<TextView xmlns:android=\"http://schemas.android.com/apk/res/android\"\n",
    "    android:id=\"@+id/spinner_layout\"\n",
    "    android:layout_width=\"match_parent\"\n",
    "    android:layout_height=\"wrap_content\"\n",
    "    android:ellipsize=\"marquee\"\n",
    "    android:fontFamily=\"sans-serif\"\n",
    "    android:gravity=\"center\"\n",
    "    android:textColor=\"?attr/colorOnPrimary\"\n",
    "    android:background=\"@drawable/spinner_bg\"\n",
    "    android:singleLine=\"true\"\n",
    "    android:text=\"CAR\"\n",
    "    android:padding=\"10dp\"\n",
    "    android:textSize=\"35sp\" />"
   ]
  },
  {
   "cell_type": "markdown",
   "id": "6162a042-a1bc-4c6e-806c-1506592aefc4",
   "metadata": {},
   "source": [
    "Pozostało utworzyć `Spinner` w metodzie `onViewVCreated` klasy `TimeLineFragment`. Będziemy przeładowywać cały adapter w `RecyclerView`, więc tworzymy odpowiednią zmienną"
   ]
  },
  {
   "cell_type": "code",
   "execution_count": null,
   "id": "c8840df5-01a8-4e67-97c5-d66930d66742",
   "metadata": {},
   "outputs": [],
   "source": [
    "public class TimeLineFragment extends Fragment {\n",
    "\n",
    "    @Override\n",
    "    public View onCreateView(LayoutInflater inflater, ViewGroup container,\n",
    "                             Bundle savedInstanceState) {\n",
    "        // Inflate the layout for this fragment\n",
    "        return inflater.inflate(R.layout.fragment_time_line, container, false);\n",
    "    }\n",
    "\n",
    "    @Override\n",
    "    public void onViewCreated(@NonNull View view, @Nullable Bundle savedInstanceState) {\n",
    "        super.onViewCreated(view, savedInstanceState);\n",
    "        RecyclerView recyclerView = view.findViewById(R.id.timeLineRecyclerView);\n",
    "        recyclerView.setLayoutManager(new LinearLayoutManager(requireContext()));\n",
    "        recyclerView.setAdapter(\n",
    "            new TimeLineAdapter(\n",
    "                    requireContext(), \n",
    "                    DataProvider.getCars().get(0).getCosts()));\n",
    "    }\n",
    "}"
   ]
  },
  {
   "cell_type": "markdown",
   "id": "01454887-ec68-4a89-9516-39b451422b51",
   "metadata": {},
   "source": [
    "Przejdźmy do obsłużenia `Spinner`, tutaj również będziemy potrzebować odpowiedni adapter. Adapterem który wykorzystamy będzie `ArrayAdapter` przyjmuje on trzy argumenty\n",
    "- `context`\n",
    "- `layout`\n",
    "- listę danych\n",
    "Jako dane podajemy listę naszych nazw samochodów"
   ]
  },
  {
   "cell_type": "code",
   "execution_count": null,
   "id": "3e96ea23-98e1-4ecd-9957-b33197f146d8",
   "metadata": {},
   "outputs": [],
   "source": [
    "Spinner spinner = view.findViewById(R.id.cars_spinner);\n",
    "ArrayAdapter<String> adapter = new ArrayAdapter<>(getContext(), R.layout.spinner_layout,\n",
    "        DataProvider.getCars().stream().map(Car::getName).collect(Collectors.toList()));\n",
    "spinner.setAdapter(adapter);"
   ]
  },
  {
   "cell_type": "markdown",
   "id": "442efcb3-dcd9-4d09-9967-0de6f7005e97",
   "metadata": {},
   "source": [
    "Następnie chcemy podmienić adapter i odświeżyć `RecyclerView` po wybraniu opcji na `Spinner` - w tym calu implementujemy `AdapterView.OnItemSelectedListener`. Ten interfejs zawiera dwie metody\n",
    "- `onItemSelected`\n",
    "- `onNothingSelected`"
   ]
  },
  {
   "cell_type": "code",
   "execution_count": null,
   "id": "febd6549-0151-4e95-9250-2622e966494c",
   "metadata": {},
   "outputs": [],
   "source": [
    "@Override\n",
    "public void onViewCreated(@NonNull View view, @Nullable Bundle savedInstanceState) {\n",
    "    super.onViewCreated(view, savedInstanceState);\n",
    "\n",
    "    Spinner spinner = view.findViewById(R.id.cars_spinner);\n",
    "    ArrayAdapter<String> adapter = new ArrayAdapter<>(getContext(), R.layout.spinner_layout,\n",
    "            DataProvider.getCars().stream().map(Car::getName).collect(Collectors.toList()));\n",
    "    spinner.setAdapter(adapter);\n",
    "    spinner.setOnItemSelectedListener(new AdapterView.OnItemSelectedListener() {\n",
    "        @Override\n",
    "        public void onItemSelected(AdapterView<?> parent, View view, int position, long id) {}\n",
    "\n",
    "        @Override\n",
    "        public void onNothingSelected(AdapterView<?> parent) {\n",
    "\n",
    "        }\n",
    "    });\n",
    "}"
   ]
  },
  {
   "cell_type": "markdown",
   "id": "198a0f78-356a-49d1-9a8d-c18584165397",
   "metadata": {},
   "source": [
    "Nas interesuje tylko pierwsza, `onNothingSelected` pozostawimy pustą. Wywołamy metodę `swapAdapter` klasy `RecyclerView` - przyjmuje ona dwa parametry\n",
    "- adapter - nowy adapter, który zastąpi poprzedni\n",
    "- `removeAndRecycleExistingViews: Boolean` - jeśli ustawimy jako `true` wszystkie utworzone do tej pory obiekty `View` zostaną usunięte"
   ]
  },
  {
   "cell_type": "code",
   "execution_count": null,
   "id": "8c01b010-8981-41bf-8946-3406ed80378e",
   "metadata": {},
   "outputs": [],
   "source": [
    "@Override\n",
    "public void onViewCreated(@NonNull View view, @Nullable Bundle savedInstanceState) {\n",
    "    super.onViewCreated(view, savedInstanceState);\n",
    "    RecyclerView recyclerView = view.findViewById(R.id.timeLineRecyclerView);\n",
    "    recyclerView.setLayoutManager(new LinearLayoutManager(requireContext()));\n",
    "    recyclerView.setAdapter(\n",
    "        new TimeLineAdapter(requireContext(), \n",
    "                            DataProvider.getCars().get(0).getCosts()));\n",
    "\n",
    "    Spinner spinner = view.findViewById(R.id.cars_spinner);\n",
    "    ArrayAdapter<String> adapter = new ArrayAdapter<>(getContext(), R.layout.spinner_layout,\n",
    "            DataProvider.getCars().stream().map(Car::getName).collect(Collectors.toList()));\n",
    "    spinner.setAdapter(adapter);\n",
    "    spinner.setOnItemSelectedListener(new AdapterView.OnItemSelectedListener() {\n",
    "        @Override\n",
    "        public void onItemSelected(AdapterView<?> parent, View view, int position, long id) {\n",
    "            recyclerView.swapAdapter(\n",
    "                new TimeLineAdapter(getContext(),\n",
    "                                    DataProvider.getCars().get(position).getCosts()), \n",
    "                                    true);\n",
    "        }\n",
    "\n",
    "        @Override\n",
    "        public void onNothingSelected(AdapterView<?> parent) {\n",
    "\n",
    "        }\n",
    "    });\n",
    "}"
   ]
  },
  {
   "cell_type": "markdown",
   "id": "528123ea-839b-47d3-9d87-360cb7f1293d",
   "metadata": {},
   "source": [
    "Możemy przetestować aplikację"
   ]
  },
  {
   "cell_type": "markdown",
   "id": "8e136d75-2472-4619-8259-874fe48920e1",
   "metadata": {},
   "source": [
    "<img src=\"https://media2.giphy.com/media/Qo4yNLd6gn7090SWRl/giphy.gif?cid=790b7611251b7107f210b555df82ce9f979a76103dae2791&rid=giphy.gif&ct=g\" width=\"150\" />"
   ]
  },
  {
   "cell_type": "markdown",
   "id": "7db03cdf-04b6-474b-a46d-32d38df70b7c",
   "metadata": {},
   "source": [
    "### **CalculatorsFragment**"
   ]
  },
  {
   "cell_type": "markdown",
   "id": "24e285d6-4a70-42b9-9a21-5c8484d95df8",
   "metadata": {},
   "source": [
    "Dodamy możliwość skorzystania z trzech kalkulatorów pozwalających obliczyć podstawowe parametry na podstawie informacji o paliwie, spalaniu, cenie i dystansie. Kalkulatory będą współdzielić layout, zmianę będziemy dokonywać za pomocą `Spinner`.\n",
    "\n",
    "Będziemy posługiwać się liczbami zmiennoprzecinkowymi, więc dodajmy zaokrąglenie do dwóch miejsc. W pliku `FormatterUtil` dodajemy"
   ]
  },
  {
   "cell_type": "code",
   "execution_count": null,
   "id": "23266dce-0542-404e-bf8b-2bcc419239fc",
   "metadata": {},
   "outputs": [],
   "source": [
    "public static DecimalFormat decimalFormat = new DecimalFormat(\"#.##\");"
   ]
  },
  {
   "cell_type": "markdown",
   "id": "49537b84-be4f-45ae-934e-431d86ff7fe8",
   "metadata": {},
   "source": [
    "Przygotujmy layout z formularzem oraz spinnerem"
   ]
  },
  {
   "cell_type": "code",
   "execution_count": null,
   "id": "62b39fcb-7e26-4526-a2fb-e60e05a628f3",
   "metadata": {},
   "outputs": [],
   "source": [
    "<?xml version=\"1.0\" encoding=\"utf-8\"?>\n",
    "<LinearLayout xmlns:android=\"http://schemas.android.com/apk/res/android\"\n",
    "    xmlns:tools=\"http://schemas.android.com/tools\"\n",
    "    android:layout_width=\"match_parent\"\n",
    "    android:layout_height=\"match_parent\"\n",
    "    xmlns:app=\"http://schemas.android.com/apk/res-auto\"\n",
    "    android:orientation=\"vertical\"\n",
    "    tools:context=\".fragments.TimeLineFragment\">\n",
    "\n",
    "    <Spinner\n",
    "        android:id=\"@+id/calculators_spinner\"\n",
    "        style=\"@style/Widget.AppCompat.Spinner\"\n",
    "        android:layout_width=\"match_parent\"\n",
    "        android:layout_height=\"wrap_content\"\n",
    "        android:layout_marginStart=\"10dp\"\n",
    "        android:layout_marginTop=\"20dp\"\n",
    "        android:layout_marginEnd=\"10dp\"\n",
    "        android:background=\"@drawable/spinner_bg\"\n",
    "        android:drawSelectorOnTop=\"true\" />\n",
    "\n",
    "    <androidx.cardview.widget.CardView\n",
    "        android:layout_width=\"match_parent\"\n",
    "        android:layout_height=\"wrap_content\"\n",
    "        android:layout_marginStart=\"10dp\"\n",
    "        android:layout_marginTop=\"20dp\"\n",
    "        android:layout_marginEnd=\"10dp\"\n",
    "        android:backgroundTint=\"?attr/colorPrimary\"\n",
    "        android:outlineProvider=\"background\"\n",
    "        app:cardCornerRadius=\"35dp\">\n",
    "\n",
    "        <LinearLayout\n",
    "            android:layout_width=\"match_parent\"\n",
    "            android:layout_height=\"match_parent\"\n",
    "            android:layout_marginTop=\"20dp\"\n",
    "            android:orientation=\"vertical\">\n",
    "\n",
    "            <com.google.android.material.textfield.TextInputLayout\n",
    "                android:id=\"@+id/editInputLayout1\"\n",
    "                style=\"@style/Widget.MaterialComponents.TextInputLayout.OutlinedBox\"\n",
    "                android:layout_width=\"match_parent\"\n",
    "                android:layout_height=\"wrap_content\"\n",
    "                android:hint=\"@string/odleg_o\"\n",
    "                app:boxStrokeColor=\"#fff\"\n",
    "                android:theme=\"@style/editText\"\n",
    "                app:hintTextColor=\"?attr/colorOnPrimary\"\n",
    "                android:textColorHint=\"#fff\">\n",
    "\n",
    "                <com.google.android.material.textfield.TextInputEditText\n",
    "                    android:id=\"@+id/editText1\"\n",
    "                    android:layout_width=\"match_parent\"\n",
    "                    android:layout_height=\"wrap_content\"\n",
    "                    android:layout_marginStart=\"50dp\"\n",
    "                    android:layout_marginTop=\"20dp\"\n",
    "                    android:layout_marginEnd=\"50dp\"\n",
    "                    android:gravity=\"center\"\n",
    "                    android:textColor=\"?attr/colorOnPrimary\"\n",
    "                    android:textSize=\"18sp\"\n",
    "                    android:textColorHighlight=\"?attr/colorOnPrimary\"\n",
    "                    android:inputType=\"number\" />\n",
    "            </com.google.android.material.textfield.TextInputLayout>\n",
    "\n",
    "            <com.google.android.material.textfield.TextInputLayout\n",
    "                android:id=\"@+id/editInputLayout2\"\n",
    "                style=\"@style/Widget.MaterialComponents.TextInputLayout.OutlinedBox\"\n",
    "                android:layout_width=\"match_parent\"\n",
    "                android:layout_height=\"wrap_content\"\n",
    "                android:hint=\"@string/cena_za_litr\"\n",
    "                app:boxStrokeColor=\"?attr/colorOnPrimary\"\n",
    "                android:theme=\"@style/editText\"\n",
    "                app:hintTextColor=\"?attr/colorOnPrimary\"\n",
    "                android:textColorHint=\"#fff\">\n",
    "\n",
    "                <com.google.android.material.textfield.TextInputEditText\n",
    "                    android:id=\"@+id/editText2\"\n",
    "                    android:layout_width=\"match_parent\"\n",
    "                    android:layout_height=\"wrap_content\"\n",
    "                    android:layout_marginStart=\"50dp\"\n",
    "                    android:layout_marginTop=\"20dp\"\n",
    "                    android:layout_marginEnd=\"50dp\"\n",
    "                    android:gravity=\"center\"\n",
    "                    android:textColor=\"?attr/colorOnPrimary\"\n",
    "                    android:textSize=\"18sp\"\n",
    "                    android:textColorHighlight=\"@color/white\"\n",
    "                    android:inputType=\"numberDecimal\" />\n",
    "            </com.google.android.material.textfield.TextInputLayout>\n",
    "\n",
    "            <com.google.android.material.textfield.TextInputLayout\n",
    "                android:id=\"@+id/editInputLayout3\"\n",
    "                style=\"@style/Widget.MaterialComponents.TextInputLayout.OutlinedBox\"\n",
    "                android:layout_width=\"match_parent\"\n",
    "                android:layout_height=\"wrap_content\"\n",
    "                android:hint=\"@string/spalanie\"\n",
    "                app:boxStrokeColor=\"?attr/colorOnPrimary\"\n",
    "                android:theme=\"@style/editText\"\n",
    "                app:hintTextColor=\"?attr/colorOnPrimary\"\n",
    "                android:textColorHint=\"?attr/colorOnPrimary\">\n",
    "\n",
    "                <com.google.android.material.textfield.TextInputEditText\n",
    "                    android:id=\"@+id/editText3\"\n",
    "                    android:layout_width=\"match_parent\"\n",
    "                    android:layout_height=\"wrap_content\"\n",
    "                    android:layout_marginStart=\"50dp\"\n",
    "                    android:layout_marginTop=\"20dp\"\n",
    "                    android:layout_marginEnd=\"50dp\"\n",
    "                    android:gravity=\"center\"\n",
    "                    android:textColor=\"?attr/colorOnPrimary\"\n",
    "                    android:textSize=\"18sp\"\n",
    "                    android:textColorHighlight=\"?attr/colorOnPrimary\"\n",
    "                    android:inputType=\"numberDecimal\" />\n",
    "            </com.google.android.material.textfield.TextInputLayout>\n",
    "\n",
    "            <LinearLayout\n",
    "                android:layout_width=\"match_parent\"\n",
    "                android:layout_height=\"wrap_content\"\n",
    "                android:layout_marginTop=\"40dp\"\n",
    "                android:layout_marginStart=\"15dp\"\n",
    "                android:orientation=\"horizontal\">\n",
    "\n",
    "                <com.google.android.material.textview.MaterialTextView\n",
    "                    android:id=\"@+id/textViewMainTitle\"\n",
    "                    android:layout_width=\"wrap_content\"\n",
    "                    android:layout_height=\"wrap_content\"\n",
    "                    android:textColor=\"?attr/colorOnPrimary\"\n",
    "                    android:text=\"MainTitle\"\n",
    "                    android:textStyle=\"bold\"\n",
    "                    android:textSize=\"24sp\" />\n",
    "\n",
    "                <com.google.android.material.textview.MaterialTextView\n",
    "                    android:id=\"@+id/textViewMainValue\"\n",
    "                    android:layout_width=\"0dp\"\n",
    "                    android:layout_weight=\"1\"\n",
    "                    android:textAlignment=\"viewEnd\"\n",
    "                    android:layout_height=\"wrap_content\"\n",
    "                    android:textColor=\"?attr/colorOnPrimary\"\n",
    "                    android:textStyle=\"bold\"\n",
    "                    android:text=\"\"\n",
    "                    android:layout_marginEnd=\"20dp\"\n",
    "                    android:textSize=\"24sp\" />\n",
    "\n",
    "            </LinearLayout>\n",
    "            <com.google.android.material.textview.MaterialTextView\n",
    "                android:id=\"@+id/textViewBottomValue\"\n",
    "                android:layout_width=\"match_parent\"\n",
    "                android:textAlignment=\"viewEnd\"\n",
    "                android:layout_height=\"wrap_content\"\n",
    "                android:textColor=\"?attr/colorOnPrimary\"\n",
    "                android:text=\"\"\n",
    "                android:layout_marginEnd=\"20dp\"\n",
    "                android:layout_marginStart=\"20dp\"\n",
    "                android:textSize=\"18sp\"\n",
    "                android:layout_marginBottom=\"20dp\"/>\n",
    "        </LinearLayout>\n",
    "    </androidx.cardview.widget.CardView>\n",
    "\n",
    "    <com.google.android.material.button.MaterialButton\n",
    "        android:id=\"@+id/calculateButton\"\n",
    "        android:layout_width=\"wrap_content\"\n",
    "        android:layout_height=\"wrap_content\"\n",
    "        android:backgroundTint=\"@android:color/holo_red_dark\"\n",
    "        android:layout_gravity=\"right\"\n",
    "        android:layout_marginEnd=\"35dp\"\n",
    "        android:text=\"Oblicz\"/>\n",
    "\n",
    "</LinearLayout>"
   ]
  },
  {
   "cell_type": "markdown",
   "id": "a447914c-1255-4d51-bb14-50fd1eb36efb",
   "metadata": {},
   "source": [
    "Aby wykorzystać inną niż domyślna kolorystyka pól `EditText`, dodajmy do `themes.xml` własny styl"
   ]
  },
  {
   "cell_type": "code",
   "execution_count": null,
   "id": "fe5b404c-5ffc-40a0-8ae1-7ea33910747d",
   "metadata": {},
   "outputs": [],
   "source": [
    "<style name=\"editText\" parent=\"Widget.MaterialComponents.TextInputLayout.OutlinedBox.Dense\">\n",
    "    <item name=\"boxStrokeColor\">#fff</item>\n",
    "    <item name=\"boxStrokeWidth\">2dp</item>\n",
    "</style>"
   ]
  },
  {
   "cell_type": "markdown",
   "id": "16fdbfc3-31fe-428d-a9a8-95693b13bb0e",
   "metadata": {},
   "source": [
    "Zwróćmy uwagę że pole `EditText` jest zastąpione przez wersję dodstępną w `Materials Design` - możemy zwrócić uwagę że w pliku `gradle` w bloku `dependencies` domyślnie mamy tą bibliotekę już dodaną"
   ]
  },
  {
   "cell_type": "code",
   "execution_count": null,
   "id": "f56c7a14-e29f-48a1-b826-d95e126af2b8",
   "metadata": {},
   "outputs": [],
   "source": [
    "implementation 'com.google.android.material:material:1.6.1'"
   ]
  },
  {
   "cell_type": "markdown",
   "id": "229b84e6-551a-4f01-866e-2525a726b11a",
   "metadata": {},
   "source": [
    "Zwykłe pole `EditText` jest zastąpione przez dwa pole\n",
    "- `TextInputLayout` - zawierający podpowiedź i kilka elementów graficznych\n",
    "- `TextInputEditText` - sam `EditText`\n",
    "\n",
    "Kolejnym elementem jest modyfikacja wejścia w tych polach\n",
    "- `android:inputType=\"number\"` - liczby całkowite - zostanie wyświetlona tylko klawiatura numeryczna\n",
    "- `android:inputType=\"numberDecimal\"` - liczby zmiennoprzecinkowe\n",
    "\n",
    "Zamieszczonym przyciskiem będziemy wykonywać obliczenie."
   ]
  },
  {
   "cell_type": "markdown",
   "id": "2bc35ca3-4d51-441c-91b7-948a01d2f5be",
   "metadata": {},
   "source": [
    "Przejdźmy do klasy `CalculatorsFragment` i metody `onViewCreated` - dodajmy `Spinner`"
   ]
  },
  {
   "cell_type": "code",
   "execution_count": null,
   "id": "9d6ea7f8-1034-4c6f-abbe-1eada3439003",
   "metadata": {},
   "outputs": [],
   "source": [
    "String[] titles = {\"Koszt podróży\", \"Odległość\", \"Wymagane paliwo\"};\n",
    "Spinner spinner = view.findViewById(R.id.calculators_spinner);\n",
    "ArrayAdapter<String> adapter = new ArrayAdapter<>(\n",
    "    getContext(), \n",
    "    R.layout.spinner_layout, \n",
    "    titles);\n",
    "spinner.setAdapter(adapter);"
   ]
  },
  {
   "cell_type": "markdown",
   "id": "68868cef-1449-4ce4-93b8-7c3ec4b28464",
   "metadata": {},
   "source": [
    "Wykorzystujemy ten sam layout co w poprzednim `Spinner`. Dodajmy implementację `onItemSelected`"
   ]
  },
  {
   "cell_type": "code",
   "execution_count": null,
   "id": "3f7eeaf0-2192-4d1c-ad59-7a1a5d8d0dee",
   "metadata": {},
   "outputs": [],
   "source": [
    "spinner.setOnItemSelectedListener(new AdapterView.OnItemSelectedListener() {\n",
    "    @Override\n",
    "    public void onItemSelected(AdapterView<?> parent, View v, int position, long id) {}"
   ]
  },
  {
   "cell_type": "markdown",
   "id": "334cb0af-477a-4bbb-acfc-cce5d08bf36d",
   "metadata": {},
   "source": [
    "W pierwszym kroku ustawimy tekst pola `textViewMainTitle` jako nazwę kalkulatora oraz w zależności od wybranego kalkulatora zmienimy podpowiedź jednego pola `TextInputLayout`"
   ]
  },
  {
   "cell_type": "code",
   "execution_count": null,
   "id": "ef375ad7-2530-40d5-9082-bca91a174922",
   "metadata": {},
   "outputs": [],
   "source": [
    "TextView textView = view.findViewById(R.id.textViewMainTitle);\n",
    "textView.setText(titles[position]);\n",
    "\n",
    "TextInputLayout textInputLayout = view.findViewById(R.id.editInputLayout1);\n",
    "if (position == 1)\n",
    "    textInputLayout.setHint(\"Paliwo [l]\");\n",
    "else\n",
    "    textInputLayout.setHint(\"Odległość [km]\");"
   ]
  },
  {
   "cell_type": "markdown",
   "id": "1ecfb555-91bc-4587-b31d-fbf8c1701edc",
   "metadata": {},
   "source": [
    "Kolejnym krokiem będzie obsługa `onCLick` przycisku"
   ]
  },
  {
   "cell_type": "code",
   "execution_count": null,
   "id": "194a6b19-f7fd-4fef-8aee-db89b3ee529b",
   "metadata": {},
   "outputs": [],
   "source": [
    "MaterialButton materialButton = view.findViewById(R.id.calculateButton);\n",
    "materialButton.setOnClickListener(v1 -> {});"
   ]
  },
  {
   "cell_type": "markdown",
   "id": "42f485ad-30fb-4064-a9c6-5b98aa4739a7",
   "metadata": {},
   "source": [
    "Rozpocznijmy od wyjęcia wszystkich danych z pól `EditText`"
   ]
  },
  {
   "cell_type": "code",
   "execution_count": null,
   "id": "819d0cc5-e233-4734-ac3c-be267e30973b",
   "metadata": {},
   "outputs": [],
   "source": [
    "EditText editText1 = view.findViewById(R.id.editText1);\n",
    "EditText editText2 = view.findViewById(R.id.editText2);\n",
    "EditText editText3 = view.findViewById(R.id.editText3);\n",
    "Triple<String, String, String> input =new Triple<>(\n",
    "    editText1.getText().toString(),\n",
    "    editText2.getText().toString(),\n",
    "    editText3.getText().toString()\n",
    ");"
   ]
  },
  {
   "cell_type": "markdown",
   "id": "71e6ab3b-132e-4058-afaf-fd3adcffc802",
   "metadata": {},
   "source": [
    "Na podstawie tych danych (w zależności od wybranego kalkulatora) chcemy przeprowadzić odpowiednie obliczenia, zróbmy to w metodzie `calculators`"
   ]
  },
  {
   "cell_type": "code",
   "execution_count": null,
   "id": "ad8eb6a7-bf16-445f-a245-32cb68c5f765",
   "metadata": {},
   "outputs": [],
   "source": [
    "private Pair<String, String> calculators (int position, Triple<String, String, String> values ){\n",
    "    switch (position){\n",
    "        case 0:\n",
    "            String bottomString = FormatterUtil.decimalFormat.format(\n",
    "                (Double.parseDouble(values.getThird()) / 100) * \n",
    "                Double.parseDouble(values.getFirst()));\n",
    "            String mainString = FormatterUtil.decimalFormat.format(\n",
    "                Double.parseDouble(bottomString) * \n",
    "                Double.parseDouble(values.getSecond()));\n",
    "            return new Pair<>(mainString + \" zł\", bottomString + \" l\");\n",
    "        case 1:\n",
    "            bottomString = FormatterUtil.decimalFormat.format(\n",
    "                Double.parseDouble(values.getFirst()) * \n",
    "                Double.parseDouble(values.getSecond()));\n",
    "            mainString = FormatterUtil.decimalFormat.format(\n",
    "                (100 * Double.parseDouble(values.getFirst())) / \n",
    "                Double.parseDouble(values.getThird()));\n",
    "            return new Pair<>(mainString + \" km\", bottomString + \" zł\");\n",
    "        case 2:\n",
    "            mainString = FormatterUtil.decimalFormat.format(\n",
    "                (Double.parseDouble(values.getFirst()) * \n",
    "                 Double.parseDouble(values.getThird())) / 100 );\n",
    "            bottomString = FormatterUtil.decimalFormat.format(\n",
    "                Double.parseDouble(mainString) * \n",
    "                Double.parseDouble(values.getSecond()));\n",
    "            return new Pair<>(mainString + \" l\", bottomString + \" zł\");\n",
    "        default:\n",
    "            return new Pair<>(\"\", \"\");\n",
    "    }\n",
    "}"
   ]
  },
  {
   "cell_type": "markdown",
   "id": "d422ddf4-b058-42a9-a20a-939904a0fa9b",
   "metadata": {},
   "source": [
    "Każdy kalkulator oblicza dwie wielkości, więc zwracam je jako `Pair<String, String>`. W meotdzie `onClick` sprawdzamy czy to co dastajemy z pól `EditText` nie jest puste i wywołujemy powyższą metodę - wyniki umieszczamy na odpowiednich polach `TextView`"
   ]
  },
  {
   "cell_type": "code",
   "execution_count": null,
   "id": "19a6e2e5-13ac-43e5-9aaf-4992b948e79f",
   "metadata": {},
   "outputs": [],
   "source": [
    "if (!input.getFirst().isEmpty() \n",
    "    && !input.getSecond().isEmpty() \n",
    "    && !input.getThird().isEmpty()){\n",
    "    TextView mainTextView = view.findViewById(R.id.textViewMainValue);\n",
    "    TextView bottomTextView = view.findViewById(R.id.textViewBottomValue);\n",
    "\n",
    "    Pair<String, String> values = calculators(position, input);\n",
    "    mainTextView.setText(values.first);\n",
    "    bottomTextView.setText(values.second);\n",
    "}"
   ]
  },
  {
   "cell_type": "markdown",
   "id": "89ee16b6-c89c-4a68-b74a-01b44e22915a",
   "metadata": {},
   "source": [
    "Pełna metoda `onViewCreated`:"
   ]
  },
  {
   "cell_type": "code",
   "execution_count": null,
   "id": "c30a4070-0533-4235-a36a-c4933d5a444c",
   "metadata": {},
   "outputs": [],
   "source": [
    "@Override\n",
    "public void onViewCreated(@NonNull View view, @Nullable Bundle savedInstanceState) {\n",
    "    super.onViewCreated(view, savedInstanceState);\n",
    "\n",
    "    String[] titles = {\"Koszt podróży\", \"Odległość\", \"Wymagane paliwo\"};\n",
    "    Spinner spinner = view.findViewById(R.id.calculators_spinner);\n",
    "    ArrayAdapter<String> adapter = new ArrayAdapter<>(\n",
    "        getContext(), \n",
    "        R.layout.spinner_layout, \n",
    "        titles);\n",
    "    adapter.setDropDownViewResource(R.layout.spinner_dropdown_layout);\n",
    "    spinner.setAdapter(adapter);\n",
    "\n",
    "\n",
    "    spinner.setOnItemSelectedListener(new AdapterView.OnItemSelectedListener() {\n",
    "        @Override\n",
    "        public void onItemSelected(AdapterView<?> parent, View v, int position, long id) {\n",
    "            TextView textView = view.findViewById(R.id.textViewMainTitle);\n",
    "            textView.setText(titles[position]);\n",
    "\n",
    "            TextInputLayout textInputLayout = view.findViewById(R.id.editInputLayout1);\n",
    "            if (position == 1)\n",
    "                textInputLayout.setHint(\"Paliwo [l]\");\n",
    "            else\n",
    "                textInputLayout.setHint(\"Odległość [km]\");\n",
    "\n",
    "            MaterialButton materialButton = view.findViewById(R.id.calculateButton);\n",
    "            materialButton.setOnClickListener(v1 -> {\n",
    "                EditText editText1 = view.findViewById(R.id.editText1);\n",
    "                EditText editText2 = view.findViewById(R.id.editText2);\n",
    "                EditText editText3 = view.findViewById(R.id.editText3);\n",
    "                Triple<String, String, String> input =new Triple<>(\n",
    "                    editText1.getText().toString(),\n",
    "                    editText2.getText().toString(),\n",
    "                    editText3.getText().toString()\n",
    "                );\n",
    "\n",
    "                if (!input.getFirst().isEmpty() \n",
    "                    && !input.getSecond().isEmpty() \n",
    "                    && !input.getThird().isEmpty()){\n",
    "                    TextView mainTextView = view.findViewById(R.id.textViewMainValue);\n",
    "                    TextView bottomTextView = view.findViewById(R.id.textViewBottomValue);\n",
    "\n",
    "                    Pair<String, String> values = calculators(position, input);\n",
    "                    mainTextView.setText(values.first);\n",
    "                    bottomTextView.setText(values.second);\n",
    "                }\n",
    "            });\n",
    "        }\n",
    "\n",
    "        @Override\n",
    "        public void onNothingSelected(AdapterView<?> parent) {\n",
    "\n",
    "        }\n",
    "    });\n",
    "}"
   ]
  },
  {
   "cell_type": "markdown",
   "id": "2eaf01dd-f51b-4153-90c8-9f1f45b07241",
   "metadata": {},
   "source": [
    "Możemy przetestować aplikację"
   ]
  },
  {
   "cell_type": "markdown",
   "id": "bfc35a9c-9983-4841-8287-3b3221f76d05",
   "metadata": {},
   "source": [
    "<img src=\"https://media1.giphy.com/media/6Ee7Ygm11rzDTIbGYW/giphy.gif?cid=790b761123f95e9b3caef44cdf2de4af63e5e1962bbee76a&rid=giphy.gif&ct=g\" width=\"150\" />"
   ]
  },
  {
   "cell_type": "markdown",
   "id": "1673fb42-8d0a-4806-802d-cee5b2a621a1",
   "metadata": {},
   "source": [
    "Zmieńmy nieco wygląd aplikacji - usuńmy plik `themes.xml(night)`. W pliku `colors.xml` zdefiniujmy kilka kolorów"
   ]
  },
  {
   "cell_type": "code",
   "execution_count": null,
   "id": "081e39a6-0e5a-4682-a1b4-7baa014030c8",
   "metadata": {},
   "outputs": [],
   "source": [
    "<?xml version=\"1.0\" encoding=\"utf-8\"?>\n",
    "<resources>\n",
    "    <color name=\"purple_200\">#FFBB86FC</color>\n",
    "    <color name=\"purple_500\">#FF6200EE</color>\n",
    "    <color name=\"purple_700\">#FF3700B3</color>\n",
    "    <color name=\"teal_200\">#FF03DAC5</color>\n",
    "    <color name=\"teal_700\">#FF018786</color>\n",
    "    <color name=\"black\">#FF000000</color>\n",
    "    <color name=\"white\">#FFFFFFFF</color>\n",
    "    <color name=\"mtrl_textinput_default_box_stroke_color\">#fff</color>\n",
    "    <color name=\"green_500\">#FF1EB980</color>\n",
    "    <color name=\"dark_blue_900\">#FF26282F</color>\n",
    "    <color name=\"dark_blue_500\">#FF004940</color>\n",
    "\n",
    "</resources>"
   ]
  },
  {
   "cell_type": "markdown",
   "id": "c25e3677-28d8-419e-855b-611d655b20c4",
   "metadata": {},
   "source": [
    "Następnie zmodyfikujmy plik `themes.xml`"
   ]
  },
  {
   "cell_type": "code",
   "execution_count": null,
   "id": "909d55f5-40c6-44a4-bdcb-45b74c555660",
   "metadata": {},
   "outputs": [],
   "source": [
    "<resources xmlns:tools=\"http://schemas.android.com/tools\">\n",
    "    <!-- Base application theme. -->\n",
    "    <style name=\"Theme.CarsyAppKotlin\" parent=\"Theme.MaterialComponents.DayNight.NoActionBar\">\n",
    "        <!-- Primary brand color. -->\n",
    "        <item name=\"colorPrimary\">@color/dark_blue_500</item>\n",
    "        <item name=\"colorPrimaryVariant\">@color/dark_blue_900</item>\n",
    "        <item name=\"colorOnPrimary\">@color/teal_700</item>\n",
    "        <!-- Secondary brand color. -->\n",
    "        <item name=\"colorSecondary\">@color/teal_700</item>\n",
    "        <item name=\"colorSecondaryVariant\">@color/teal_200</item>\n",
    "        <item name=\"colorOnSecondary\">@color/white</item>\n",
    "        <!-- Status bar color. -->\n",
    "        <item name=\"android:statusBarColor\" tools:targetApi=\"l\">?attr/colorPrimaryVariant</item>\n",
    "        <!-- Customize your theme here. -->\n",
    "    </style>\n",
    "\n",
    "    <style name=\"editText\" parent=\"Widget.MaterialComponents.TextInputLayout.OutlinedBox.Dense\">\n",
    "        <item name=\"boxStrokeColor\">@color/teal_200</item>\n",
    "        <item name=\"boxStrokeWidth\">2dp</item>\n",
    "    </style>\n",
    "</resources>"
   ]
  },
  {
   "cell_type": "markdown",
   "id": "e5aa172a-1982-4aa8-967a-9ffdaec71f1e",
   "metadata": {},
   "source": [
    "Dodajmy osobny layout dla menu rozwijanego w `Spinner` (`spinner_dropdown_layoutx.xml`)"
   ]
  },
  {
   "cell_type": "code",
   "execution_count": null,
   "id": "3e367ea5-d5a3-41f0-8562-3f3c4f2da72b",
   "metadata": {},
   "outputs": [],
   "source": [
    "<?xml version=\"1.0\" encoding=\"utf-8\"?>\n",
    "<TextView xmlns:android=\"http://schemas.android.com/apk/res/android\"\n",
    "    android:id=\"@+id/spinner_layout\"\n",
    "    android:layout_width=\"match_parent\"\n",
    "    android:layout_height=\"wrap_content\"\n",
    "    android:ellipsize=\"marquee\"\n",
    "    android:fontFamily=\"sans-serif\"\n",
    "    android:gravity=\"center\"\n",
    "    android:textColor=\"@color/teal_200\"\n",
    "    android:background=\"@drawable/spinner_dropdown_bg\"\n",
    "    android:singleLine=\"true\"\n",
    "    android:text=\"CAR\"\n",
    "    android:padding=\"10dp\"\n",
    "    android:textSize=\"35sp\" />"
   ]
  },
  {
   "cell_type": "markdown",
   "id": "c72df941-827a-4590-8415-c8d41eec86f6",
   "metadata": {},
   "source": [
    "W klasach `TimeLineFragment` i `CalculatorsFragment` wykorzystajmy utworzony layout"
   ]
  },
  {
   "cell_type": "code",
   "execution_count": null,
   "id": "6d18f26f-343a-44ae-9945-b1e19de24814",
   "metadata": {},
   "outputs": [],
   "source": [
    "...\n",
    "adapter.setDropDownViewResource(R.layout.spinner_dropdown_layout);\n",
    "..."
   ]
  },
  {
   "cell_type": "markdown",
   "id": "d159fe94-d96e-41f0-b109-0c6c71dd5085",
   "metadata": {},
   "source": [
    "Przejdźmy do layoutu głównej aktywności i zmodyfikujmy kolorystykę `BottomNavigationView`"
   ]
  },
  {
   "cell_type": "code",
   "execution_count": null,
   "id": "854770e2-17ef-467b-9b95-56db161404f5",
   "metadata": {},
   "outputs": [],
   "source": [
    "<com.google.android.material.bottomnavigation.BottomNavigationView\n",
    "    android:id=\"@+id/bottom_nav_view\"\n",
    "    android:layout_width=\"match_parent\"\n",
    "    android:layout_height=\"wrap_content\"\n",
    "    android:background=\"@color/dark_blue_900\"\n",
    "    app:itemIconTint=\"@drawable/bottom_navigation_highlight\"\n",
    "    app:itemTextColor=\"@drawable/bottom_navigation_highlight\"\n",
    "    app:menu=\"@menu/bottom_menu\" />"
   ]
  },
  {
   "cell_type": "markdown",
   "id": "ebde892f-7153-4cd2-96a6-dd477ffb6611",
   "metadata": {},
   "source": [
    "Pozbywamy się w ten sposób domyślnych ustawień dla podświetlenie zaznaczonej ikony oraz tekstu, więc zdefiniujmy własny w pliku `bottom_navigation_highlight.xml` (katalog `drawable`)"
   ]
  },
  {
   "cell_type": "code",
   "execution_count": null,
   "id": "2b206eea-9b4c-417a-a2bd-6d36d95bcae7",
   "metadata": {},
   "outputs": [],
   "source": [
    "<?xml version=\"1.0\" encoding=\"utf-8\"?>\n",
    "<selector xmlns:android=\"http://schemas.android.com/apk/res/android\">\n",
    "    <item android:state_checked=\"true\" android:color=\"@color/teal_200\" />\n",
    "    <item android:state_checked=\"false\" android:color=\"@color/teal_700\"/>\n",
    "</selector>"
   ]
  },
  {
   "cell_type": "markdown",
   "id": "2a75e46a-4ad4-4174-bffe-20f35af11d83",
   "metadata": {},
   "source": [
    "W plikach `date_item_timeline.xml` i `general_item_timeline.xml` zmieniamy kolor tła na"
   ]
  },
  {
   "cell_type": "code",
   "execution_count": null,
   "id": "4ec5a90a-8090-4b14-95bb-4c712bfb923f",
   "metadata": {},
   "outputs": [],
   "source": [
    "android:background=\"@color/dark_blue_900\""
   ]
  },
  {
   "cell_type": "markdown",
   "id": "7ddf0e0c-6cec-4761-8caf-e7f4fa04340c",
   "metadata": {},
   "source": [
    "oraz kolor podpowiedzi na"
   ]
  },
  {
   "cell_type": "code",
   "execution_count": null,
   "id": "80f693ab-d99b-4a97-928a-ad863b99810f",
   "metadata": {},
   "outputs": [],
   "source": [
    "android:backgroundTint=\"@color/teal_200\""
   ]
  },
  {
   "cell_type": "markdown",
   "id": "360b41c5-f99b-481c-aebc-b56c98ad53c9",
   "metadata": {},
   "source": [
    "Modyfikujemy layout `CalculatorsFragment`"
   ]
  },
  {
   "cell_type": "code",
   "execution_count": null,
   "id": "fc3162b5-569d-490b-a4d7-1a6e33f7bceb",
   "metadata": {},
   "outputs": [],
   "source": [
    "<?xml version=\"1.0\" encoding=\"utf-8\"?>\n",
    "<LinearLayout xmlns:android=\"http://schemas.android.com/apk/res/android\"\n",
    "    xmlns:tools=\"http://schemas.android.com/tools\"\n",
    "    android:layout_width=\"match_parent\"\n",
    "    android:layout_height=\"match_parent\"\n",
    "    xmlns:app=\"http://schemas.android.com/apk/res-auto\"\n",
    "    android:orientation=\"vertical\"\n",
    "    android:background=\"@color/dark_blue_900\"\n",
    "    tools:context=\".fragments.TimeLineFragment\">\n",
    "\n",
    "    <Spinner\n",
    "        android:id=\"@+id/calculators_spinner\"\n",
    "        style=\"@style/Widget.AppCompat.Spinner\"\n",
    "        android:layout_width=\"match_parent\"\n",
    "        android:layout_height=\"wrap_content\"\n",
    "        android:layout_marginStart=\"10dp\"\n",
    "        android:popupBackground=\"@android:color/transparent\"\n",
    "        android:layout_marginTop=\"20dp\"\n",
    "        android:dropDownVerticalOffset=\"64dp\"\n",
    "        android:popupElevation=\"3dp\"\n",
    "        android:layout_marginEnd=\"10dp\"\n",
    "        android:background=\"@drawable/spinner_bg\"\n",
    "        android:drawSelectorOnTop=\"true\" />\n",
    "\n",
    "    <androidx.cardview.widget.CardView\n",
    "        android:layout_width=\"match_parent\"\n",
    "        android:layout_height=\"wrap_content\"\n",
    "        android:layout_marginStart=\"10dp\"\n",
    "        android:layout_marginTop=\"20dp\"\n",
    "        android:layout_marginEnd=\"10dp\"\n",
    "        android:backgroundTint=\"?attr/colorPrimary\"\n",
    "        android:outlineProvider=\"background\"\n",
    "        app:cardCornerRadius=\"35dp\">\n",
    "\n",
    "        <LinearLayout\n",
    "            android:layout_width=\"match_parent\"\n",
    "            android:layout_height=\"match_parent\"\n",
    "            android:layout_marginTop=\"20dp\"\n",
    "            android:orientation=\"vertical\">\n",
    "\n",
    "            <com.google.android.material.textfield.TextInputLayout\n",
    "                android:id=\"@+id/editInputLayout1\"\n",
    "                style=\"@style/Widget.MaterialComponents.TextInputLayout.OutlinedBox\"\n",
    "                android:layout_width=\"match_parent\"\n",
    "                android:layout_height=\"wrap_content\"\n",
    "                android:hint=\"@string/odleg_o\"\n",
    "                app:boxStrokeColor=\"@color/teal_200\"\n",
    "                android:theme=\"@style/editText\"\n",
    "                app:hintTextColor=\"@color/teal_200\"\n",
    "                android:textColorHint=\"@color/teal_200\">\n",
    "\n",
    "                <com.google.android.material.textfield.TextInputEditText\n",
    "                    android:id=\"@+id/editText1\"\n",
    "                    android:layout_width=\"match_parent\"\n",
    "                    android:layout_height=\"wrap_content\"\n",
    "                    android:layout_marginStart=\"50dp\"\n",
    "                    android:layout_marginTop=\"20dp\"\n",
    "                    android:layout_marginEnd=\"50dp\"\n",
    "                    android:gravity=\"center\"\n",
    "                    android:textColor=\"@color/teal_200\"\n",
    "                    android:textSize=\"18sp\"\n",
    "                    android:textColorHighlight=\"@color/teal_200\"\n",
    "                    android:inputType=\"number\" />\n",
    "            </com.google.android.material.textfield.TextInputLayout>\n",
    "\n",
    "            <com.google.android.material.textfield.TextInputLayout\n",
    "                android:id=\"@+id/editInputLayout2\"\n",
    "                style=\"@style/Widget.MaterialComponents.TextInputLayout.OutlinedBox\"\n",
    "                android:layout_width=\"match_parent\"\n",
    "                android:layout_height=\"wrap_content\"\n",
    "                android:hint=\"@string/cena_za_litr\"\n",
    "                app:boxStrokeColor=\"@color/teal_200\"\n",
    "                android:theme=\"@style/editText\"\n",
    "                app:hintTextColor=\"@color/teal_200\"\n",
    "                android:textColorHint=\"@color/teal_200\">\n",
    "\n",
    "                <com.google.android.material.textfield.TextInputEditText\n",
    "                    android:id=\"@+id/editText2\"\n",
    "                    android:layout_width=\"match_parent\"\n",
    "                    android:layout_height=\"wrap_content\"\n",
    "                    android:layout_marginStart=\"50dp\"\n",
    "                    android:layout_marginTop=\"20dp\"\n",
    "                    android:layout_marginEnd=\"50dp\"\n",
    "                    android:gravity=\"center\"\n",
    "                    android:textColor=\"@color/teal_200\"\n",
    "                    android:textSize=\"18sp\"\n",
    "                    android:textColorHighlight=\"@color/teal_200\"\n",
    "                    android:inputType=\"numberDecimal\" />\n",
    "            </com.google.android.material.textfield.TextInputLayout>\n",
    "\n",
    "            <com.google.android.material.textfield.TextInputLayout\n",
    "                android:id=\"@+id/editInputLayout3\"\n",
    "                style=\"@style/Widget.MaterialComponents.TextInputLayout.OutlinedBox\"\n",
    "                android:layout_width=\"match_parent\"\n",
    "                android:layout_height=\"wrap_content\"\n",
    "                android:hint=\"@string/spalanie\"\n",
    "                app:boxStrokeColor=\"@color/teal_200\"\n",
    "                android:theme=\"@style/editText\"\n",
    "                app:hintTextColor=\"@color/teal_200\"\n",
    "                android:textColorHint=\"@color/teal_200\">\n",
    "\n",
    "                <com.google.android.material.textfield.TextInputEditText\n",
    "                    android:id=\"@+id/editText3\"\n",
    "                    android:layout_width=\"match_parent\"\n",
    "                    android:layout_height=\"wrap_content\"\n",
    "                    android:layout_marginStart=\"50dp\"\n",
    "                    android:layout_marginTop=\"20dp\"\n",
    "                    android:layout_marginEnd=\"50dp\"\n",
    "                    android:gravity=\"center\"\n",
    "                    android:textColor=\"@color/teal_200\"\n",
    "                    android:textSize=\"18sp\"\n",
    "                    android:textColorHighlight=\"@color/teal_200\"\n",
    "                    android:inputType=\"numberDecimal\" />\n",
    "            </com.google.android.material.textfield.TextInputLayout>\n",
    "\n",
    "            <LinearLayout\n",
    "                android:layout_width=\"match_parent\"\n",
    "                android:layout_height=\"wrap_content\"\n",
    "                android:layout_marginTop=\"40dp\"\n",
    "                android:layout_marginStart=\"15dp\"\n",
    "                android:orientation=\"horizontal\">\n",
    "\n",
    "                <com.google.android.material.textview.MaterialTextView\n",
    "                    android:id=\"@+id/textViewMainTitle\"\n",
    "                    android:layout_width=\"wrap_content\"\n",
    "                    android:layout_height=\"wrap_content\"\n",
    "                    android:textColor=\"@color/teal_200\"\n",
    "                    android:text=\"MainTitle\"\n",
    "                    android:textStyle=\"bold\"\n",
    "                    android:textSize=\"24sp\" />\n",
    "\n",
    "                <com.google.android.material.textview.MaterialTextView\n",
    "                    android:id=\"@+id/textViewMainValue\"\n",
    "                    android:layout_width=\"0dp\"\n",
    "                    android:layout_weight=\"1\"\n",
    "                    android:textAlignment=\"viewEnd\"\n",
    "                    android:layout_height=\"wrap_content\"\n",
    "                    android:textColor=\"?attr/colorOnPrimary\"\n",
    "                    android:textStyle=\"bold\"\n",
    "                    android:text=\"\"\n",
    "                    android:layout_marginEnd=\"20dp\"\n",
    "                    android:textSize=\"24sp\" />\n",
    "\n",
    "            </LinearLayout>\n",
    "            <com.google.android.material.textview.MaterialTextView\n",
    "                android:id=\"@+id/textViewBottomValue\"\n",
    "                android:layout_width=\"match_parent\"\n",
    "                android:textAlignment=\"viewEnd\"\n",
    "                android:layout_height=\"wrap_content\"\n",
    "                android:textColor=\"@color/teal_200\"\n",
    "                android:text=\"\"\n",
    "                android:layout_marginEnd=\"20dp\"\n",
    "                android:layout_marginStart=\"20dp\"\n",
    "                android:textSize=\"18sp\"\n",
    "                android:layout_marginBottom=\"20dp\"/>\n",
    "        </LinearLayout>\n",
    "    </androidx.cardview.widget.CardView>\n",
    "\n",
    "    <com.google.android.material.button.MaterialButton\n",
    "        android:id=\"@+id/calculateButton\"\n",
    "        android:layout_width=\"wrap_content\"\n",
    "        android:layout_height=\"wrap_content\"\n",
    "        android:backgroundTint=\"@android:color/holo_red_dark\"\n",
    "        android:textColor=\"@color/white\"\n",
    "        android:layout_gravity=\"right\"\n",
    "        android:textSize=\"18sp\"\n",
    "        android:layout_marginEnd=\"35dp\"\n",
    "        android:text=\"Oblicz\"/>\n",
    "\n",
    "</LinearLayout>"
   ]
  },
  {
   "cell_type": "markdown",
   "id": "ccb5f16d-a17e-4212-9ca0-d83cba9a94ae",
   "metadata": {},
   "source": [
    "Również modyfikujemy layout `TimeLineFragment`"
   ]
  },
  {
   "cell_type": "code",
   "execution_count": null,
   "id": "0af18c18-6eb5-40e2-8037-2b0813bfe8c6",
   "metadata": {},
   "outputs": [],
   "source": [
    "<?xml version=\"1.0\" encoding=\"utf-8\"?>\n",
    "<LinearLayout xmlns:android=\"http://schemas.android.com/apk/res/android\"\n",
    "    xmlns:tools=\"http://schemas.android.com/tools\"\n",
    "    android:layout_width=\"match_parent\"\n",
    "    android:layout_height=\"match_parent\"\n",
    "    android:orientation=\"vertical\"\n",
    "    android:background=\"@color/dark_blue_900\"\n",
    "    tools:context=\".fragments.TimeLineFragment\">\n",
    "\n",
    "    <Spinner\n",
    "        android:id=\"@+id/cars_spinner\"\n",
    "        android:layout_width=\"match_parent\"\n",
    "        android:drawSelectorOnTop=\"true\"\n",
    "        android:popupBackground=\"@android:color/transparent\"\n",
    "        android:background=\"@drawable/spinner_bg\"\n",
    "        style=\"@style/Widget.AppCompat.Spinner\"\n",
    "        android:layout_marginTop=\"20dp\"\n",
    "        android:popupElevation=\"3dp\"\n",
    "        android:layout_marginStart=\"10dp\"\n",
    "        android:dropDownVerticalOffset=\"64dp\"\n",
    "        android:layout_marginEnd=\"10dp\"\n",
    "        android:layout_height=\"wrap_content\" />\n",
    "\n",
    "    <androidx.recyclerview.widget.RecyclerView\n",
    "        android:id=\"@+id/timeLineRecyclerView\"\n",
    "        android:layout_width=\"match_parent\"\n",
    "        android:layout_height=\"0dp\"\n",
    "        android:layout_weight=\"1\"\n",
    "        android:layout_marginTop=\"12dp\" />\n",
    "\n",
    "</LinearLayout>"
   ]
  },
  {
   "cell_type": "markdown",
   "id": "96062651-aced-42a5-9f22-25ab943ced3c",
   "metadata": {},
   "source": [
    "Po zmianach aplikacją powinna wyglądać następująco"
   ]
  },
  {
   "cell_type": "markdown",
   "id": "c5c34401-accc-485d-bd5e-1be0583fd47f",
   "metadata": {},
   "source": [
    "<img src=\"https://media1.giphy.com/media/27zha8NAaWcBwWCJ6Q/giphy.gif?cid=790b7611b21116465fd1c582d6ad6ce899d6a4cb9e89cd4b&rid=giphy.gif&ct=g\" width=\"150\" />"
   ]
  },
  {
   "cell_type": "markdown",
   "id": "b3e16937-c9eb-47e4-b3a2-1c1f5f3c4d49",
   "metadata": {},
   "source": [
    "### **OverviewFragment**"
   ]
  },
  {
   "cell_type": "markdown",
   "id": "6301efe4-117f-4d1c-99d2-892b854fa2c5",
   "metadata": {},
   "source": [
    "Do fragmentu zawierającego przegląd dodamy dwa `RecyclerView` zawierające podsumowanie wydatków oraz przegląd wszystkich samochodów. Jak również informację o całkowitych poniesionych kosztach. Rozpocznijmy od layoutu"
   ]
  },
  {
   "cell_type": "markdown",
   "id": "1c08674e-2843-4298-b8e8-aeb6f9b9e2c9",
   "metadata": {},
   "source": [
    "Ponieważ nie wszystko może zostać zmieszczone na jednym ekranie naszym głównym elementem będzie `ScrollView`"
   ]
  },
  {
   "cell_type": "code",
   "execution_count": null,
   "id": "02611adc-2a12-48fe-abbd-f4ba7e8dd43e",
   "metadata": {},
   "outputs": [],
   "source": [
    "<ScrollView  xmlns:android=\"http://schemas.android.com/apk/res/android\"\n",
    "    xmlns:tools=\"http://schemas.android.com/tools\"\n",
    "    android:layout_width=\"match_parent\"\n",
    "    android:background=\"@color/dark_blue_900\"\n",
    "    android:layout_height=\"match_parent\">"
   ]
  },
  {
   "cell_type": "markdown",
   "id": "b5b28b8b-c749-493a-b186-273e1b7404f3",
   "metadata": {},
   "source": [
    "Pozostałe elementy umieścimy w `LinearLayout`"
   ]
  },
  {
   "cell_type": "code",
   "execution_count": null,
   "id": "e2f3646d-aef0-49a4-9017-8335dd14a988",
   "metadata": {},
   "outputs": [],
   "source": [
    "<LinearLayout\n",
    "    android:layout_width=\"match_parent\"\n",
    "    android:layout_height=\"wrap_content\"\n",
    "    android:orientation=\"vertical\"\n",
    "    android:background=\"@color/dark_blue_900\"\n",
    "    tools:context=\".fragments.OverviewFragment\">"
   ]
  },
  {
   "cell_type": "markdown",
   "id": "5703a27c-08f3-4a5e-ae34-47cae31b0646",
   "metadata": {},
   "source": [
    "Dodajmy dwa `RecyclerView` z polami `TextView`"
   ]
  },
  {
   "cell_type": "code",
   "execution_count": null,
   "id": "e37bb1e7-1298-4235-b943-19fbb2fe1846",
   "metadata": {},
   "outputs": [],
   "source": [
    "    <TextView\n",
    "        android:layout_width=\"match_parent\"\n",
    "        android:layout_height=\"wrap_content\"\n",
    "        android:textSize=\"24sp\"\n",
    "        android:text=\"@string/podsumowanie\"\n",
    "        android:gravity=\"center\"\n",
    "        android:textColor=\"@color/teal_200\"\n",
    "        android:textStyle=\"bold\"\n",
    "        android:layout_marginTop=\"24dp\"\n",
    "        />\n",
    "\n",
    "    <androidx.recyclerview.widget.RecyclerView\n",
    "        android:id=\"@+id/overviewCostsRecyclerView\"\n",
    "        android:layout_width=\"match_parent\"\n",
    "        android:layout_height=\"wrap_content\"\n",
    "        android:layout_marginTop=\"12dp\" />\n",
    "\n",
    "    <TextView\n",
    "        android:layout_width=\"match_parent\"\n",
    "        android:layout_height=\"wrap_content\"\n",
    "        android:textSize=\"24sp\"\n",
    "        android:text=\"@string/gara\"\n",
    "        android:gravity=\"center\"\n",
    "        android:textColor=\"@color/teal_200\"\n",
    "        android:textStyle=\"bold\"\n",
    "        android:layout_marginTop=\"24dp\"\n",
    "        />\n",
    "\n",
    "    <androidx.recyclerview.widget.RecyclerView\n",
    "        android:id=\"@+id/overviewCarsRecyclerView\"\n",
    "        android:layout_width=\"match_parent\"\n",
    "        android:layout_height=\"wrap_content\"\n",
    "        android:layout_marginTop=\"12dp\" />"
   ]
  },
  {
   "cell_type": "markdown",
   "id": "9679dab9-8bc2-4004-b62a-3049b6912a8c",
   "metadata": {},
   "source": [
    "Na końcu umieścimy `CardView` zawierający pola przeznaczone do przedstawienie całkowitych kosztów"
   ]
  },
  {
   "cell_type": "code",
   "execution_count": null,
   "id": "eff6df7d-5827-4124-8af8-9d3ec143d982",
   "metadata": {},
   "outputs": [],
   "source": [
    "\n",
    "```xml\n",
    "    <androidx.cardview.widget.CardView\n",
    "        xmlns:app=\"http://schemas.android.com/apk/res-auto\"\n",
    "        android:layout_width=\"match_parent\"\n",
    "        android:layout_height=\"wrap_content\"\n",
    "        android:layout_marginTop=\"12dp\"\n",
    "        android:layout_marginStart=\"40dp\"\n",
    "        android:layout_marginEnd=\"40dp\"\n",
    "        app:cardCornerRadius=\"45dp\">\n",
    "\n",
    "        <androidx.constraintlayout.widget.ConstraintLayout\n",
    "            android:layout_width=\"match_parent\"\n",
    "            android:layout_height=\"wrap_content\"\n",
    "            android:layout_marginStart=\"4dp\"\n",
    "            android:layout_marginEnd=\"4dp\"\n",
    "            android:background=\"@color/dark_blue_500\">\n",
    "\n",
    "            <TextView\n",
    "                android:id=\"@+id/overviewCarName\"\n",
    "                android:layout_width=\"match_parent\"\n",
    "                android:layout_height=\"wrap_content\"\n",
    "                android:background=\"@color/green_500\"\n",
    "                android:gravity=\"center\"\n",
    "                android:padding=\"4dp\"\n",
    "                android:text=\"@string/koszty_ca_kowite\"\n",
    "                android:textColor=\"@color/black\"\n",
    "                android:textSize=\"24sp\"\n",
    "                app:layout_constraintStart_toStartOf=\"parent\"\n",
    "                app:layout_constraintTop_toTopOf=\"parent\" />\n",
    "\n",
    "            <TextView\n",
    "                android:layout_width=\"match_parent\"\n",
    "                android:layout_height=\"wrap_content\"\n",
    "                android:padding=\"4dp\"\n",
    "                android:layout_marginStart=\"24dp\"\n",
    "                android:text=\"@string/tankowanie\"\n",
    "                android:textColor=\"@color/teal_200\"\n",
    "                android:textSize=\"18sp\"\n",
    "                app:layout_constraintStart_toStartOf=\"parent\"\n",
    "                app:layout_constraintTop_toBottomOf=\"@+id/overviewCarName\" />\n",
    "\n",
    "            <TextView\n",
    "                android:id=\"@+id/overviewFueling\"\n",
    "                android:layout_width=\"match_parent\"\n",
    "                android:layout_height=\"wrap_content\"\n",
    "                android:padding=\"4dp\"\n",
    "                android:gravity=\"end\"\n",
    "                android:layout_marginEnd=\"24dp\"\n",
    "                android:text=\"1 000 000.00 zł\"\n",
    "                android:textColor=\"@color/teal_200\"\n",
    "                android:textSize=\"18sp\"\n",
    "                app:layout_constraintStart_toStartOf=\"parent\"\n",
    "                app:layout_constraintTop_toBottomOf=\"@+id/overviewCarName\" />\n",
    "\n",
    "            <TextView\n",
    "                android:layout_width=\"match_parent\"\n",
    "                android:layout_height=\"wrap_content\"\n",
    "                android:padding=\"4dp\"\n",
    "                android:layout_marginStart=\"24dp\"\n",
    "                android:text=\"@string/serwis\"\n",
    "                android:textColor=\"@color/teal_200\"\n",
    "                android:textSize=\"18sp\"\n",
    "                app:layout_constraintStart_toStartOf=\"parent\"\n",
    "                app:layout_constraintTop_toBottomOf=\"@+id/overviewFueling\" />\n",
    "\n",
    "            <TextView\n",
    "                android:id=\"@+id/overviewService\"\n",
    "                android:layout_width=\"match_parent\"\n",
    "                android:layout_height=\"wrap_content\"\n",
    "                android:padding=\"4dp\"\n",
    "                android:gravity=\"end\"\n",
    "                android:layout_marginEnd=\"24dp\"\n",
    "                android:text=\"1 000 000.00 zł\"\n",
    "                android:textColor=\"@color/teal_200\"\n",
    "                android:textSize=\"18sp\"\n",
    "                app:layout_constraintStart_toStartOf=\"parent\"\n",
    "                app:layout_constraintTop_toBottomOf=\"@+id/overviewFueling\" />\n",
    "\n",
    "            <TextView\n",
    "                android:layout_width=\"match_parent\"\n",
    "                android:layout_height=\"wrap_content\"\n",
    "                android:padding=\"4dp\"\n",
    "                android:layout_marginStart=\"24dp\"\n",
    "                android:text=\"@string/parkowanie\"\n",
    "                android:textColor=\"@color/teal_200\"\n",
    "                android:textSize=\"18sp\"\n",
    "                app:layout_constraintStart_toStartOf=\"parent\"\n",
    "                app:layout_constraintTop_toBottomOf=\"@+id/overviewService\" />\n",
    "\n",
    "            <TextView\n",
    "                android:id=\"@+id/overviewParking\"\n",
    "                android:layout_width=\"match_parent\"\n",
    "                android:layout_height=\"wrap_content\"\n",
    "                android:padding=\"4dp\"\n",
    "                android:gravity=\"end\"\n",
    "                android:layout_marginEnd=\"24dp\"\n",
    "                android:text=\"1 000 000.00 zł\"\n",
    "                android:textColor=\"@color/teal_200\"\n",
    "                android:textSize=\"18sp\"\n",
    "                app:layout_constraintStart_toStartOf=\"parent\"\n",
    "                app:layout_constraintTop_toBottomOf=\"@+id/overviewService\" />\n",
    "\n",
    "            <TextView\n",
    "                android:layout_width=\"match_parent\"\n",
    "                android:layout_height=\"wrap_content\"\n",
    "                android:padding=\"4dp\"\n",
    "                android:layout_marginStart=\"24dp\"\n",
    "                android:text=\"@string/ubezpieczenie\"\n",
    "                android:textColor=\"@color/teal_200\"\n",
    "                android:textSize=\"18sp\"\n",
    "                app:layout_constraintStart_toStartOf=\"parent\"\n",
    "                app:layout_constraintTop_toBottomOf=\"@+id/overviewParking\" />\n",
    "\n",
    "            <TextView\n",
    "                android:id=\"@+id/overviewInsurance\"\n",
    "                android:layout_width=\"match_parent\"\n",
    "                android:layout_height=\"wrap_content\"\n",
    "                android:padding=\"4dp\"\n",
    "                android:gravity=\"end\"\n",
    "                android:layout_marginEnd=\"24dp\"\n",
    "                android:text=\"1 000 000.00 zł\"\n",
    "                android:textColor=\"@color/teal_200\"\n",
    "                android:textSize=\"18sp\"\n",
    "                app:layout_constraintStart_toStartOf=\"parent\"\n",
    "                app:layout_constraintTop_toBottomOf=\"@+id/overviewParking\" />\n",
    "\n",
    "            <TextView\n",
    "                android:layout_width=\"match_parent\"\n",
    "                android:layout_height=\"wrap_content\"\n",
    "                android:padding=\"4dp\"\n",
    "                android:layout_marginStart=\"24dp\"\n",
    "                android:text=\"@string/mandat\"\n",
    "                android:textColor=\"@color/teal_200\"\n",
    "                android:textSize=\"18sp\"\n",
    "                app:layout_constraintStart_toStartOf=\"parent\"\n",
    "                app:layout_constraintTop_toBottomOf=\"@+id/overviewInsurance\" />\n",
    "\n",
    "            <TextView\n",
    "                android:id=\"@+id/overviewTicket\"\n",
    "                android:layout_width=\"match_parent\"\n",
    "                android:layout_height=\"wrap_content\"\n",
    "                android:padding=\"4dp\"\n",
    "                android:gravity=\"end\"\n",
    "                android:layout_marginEnd=\"24dp\"\n",
    "                android:text=\"1 000 000.00 zł\"\n",
    "                android:textColor=\"@color/teal_200\"\n",
    "                android:textSize=\"18sp\"\n",
    "                app:layout_constraintStart_toStartOf=\"parent\"\n",
    "                app:layout_constraintTop_toBottomOf=\"@+id/overviewInsurance\" />\n",
    "\n",
    "        </androidx.constraintlayout.widget.ConstraintLayout>\n",
    "    </androidx.cardview.widget.CardView>\n",
    "\n",
    "</LinearLayout>\n",
    "\n",
    "</ScrollView>"
   ]
  },
  {
   "cell_type": "markdown",
   "id": "d460134b-ba26-42e4-b45e-03d2c84b61f6",
   "metadata": {},
   "source": [
    "W następnym kroku przygotujmy layouty dla `RecyclerView`\n",
    "- przedstawiający sumaryczne koszty ze względu na kategorią poniesione dla każdego posiadanego samochodu\n",
    "- przedstawiający podstawowe informacje o posiadanych samochodach\n",
    "\n",
    "`ite_recyclerview_cost_overview.xml`"
   ]
  },
  {
   "cell_type": "code",
   "execution_count": null,
   "id": "de514a58-3507-4b74-bed4-195385d5349c",
   "metadata": {},
   "outputs": [],
   "source": [
    "<?xml version=\"1.0\" encoding=\"utf-8\"?>\n",
    "<androidx.cardview.widget.CardView xmlns:android=\"http://schemas.android.com/apk/res/android\"\n",
    "    xmlns:app=\"http://schemas.android.com/apk/res-auto\"\n",
    "    android:layout_width=\"match_parent\"\n",
    "    android:layout_height=\"wrap_content\"\n",
    "    android:layout_marginStart=\"40dp\"\n",
    "    android:layout_marginEnd=\"40dp\"\n",
    "    app:cardCornerRadius=\"45dp\">\n",
    "\n",
    "    <androidx.constraintlayout.widget.ConstraintLayout\n",
    "        android:layout_width=\"match_parent\"\n",
    "        android:layout_height=\"wrap_content\"\n",
    "        android:layout_marginStart=\"4dp\"\n",
    "        android:layout_marginEnd=\"4dp\"\n",
    "        android:background=\"@color/dark_blue_500\">\n",
    "\n",
    "        <TextView\n",
    "            android:id=\"@+id/overviewRecyclerViewCarName\"\n",
    "            android:layout_width=\"match_parent\"\n",
    "            android:layout_height=\"wrap_content\"\n",
    "            android:background=\"@color/green_500\"\n",
    "            android:gravity=\"center\"\n",
    "            android:padding=\"4dp\"\n",
    "            android:text=\"@string/car_name\"\n",
    "            android:textColor=\"@color/black\"\n",
    "            android:textSize=\"24sp\"\n",
    "            app:layout_constraintStart_toStartOf=\"parent\"\n",
    "            app:layout_constraintTop_toTopOf=\"parent\" />\n",
    "\n",
    "        <TextView\n",
    "            android:layout_width=\"match_parent\"\n",
    "            android:layout_height=\"wrap_content\"\n",
    "            android:padding=\"4dp\"\n",
    "            android:layout_marginStart=\"24dp\"\n",
    "            android:text=\"@string/tankowanie\"\n",
    "            android:textColor=\"@color/teal_200\"\n",
    "            android:textSize=\"18sp\"\n",
    "            app:layout_constraintStart_toStartOf=\"parent\"\n",
    "            app:layout_constraintTop_toBottomOf=\"@+id/overviewRecyclerViewCarName\" />\n",
    "\n",
    "        <TextView\n",
    "            android:id=\"@+id/overviewRecyclerViewFueling\"\n",
    "            android:layout_width=\"match_parent\"\n",
    "            android:layout_height=\"wrap_content\"\n",
    "            android:padding=\"4dp\"\n",
    "            android:gravity=\"end\"\n",
    "            android:layout_marginEnd=\"24dp\"\n",
    "            android:text=\"1 000 000.00 zł\"\n",
    "            android:textColor=\"@color/teal_200\"\n",
    "            android:textSize=\"18sp\"\n",
    "            app:layout_constraintStart_toStartOf=\"parent\"\n",
    "            app:layout_constraintTop_toBottomOf=\"@+id/overviewRecyclerViewCarName\" />\n",
    "\n",
    "        <TextView\n",
    "            android:layout_width=\"match_parent\"\n",
    "            android:layout_height=\"wrap_content\"\n",
    "            android:padding=\"4dp\"\n",
    "            android:layout_marginStart=\"24dp\"\n",
    "            android:text=\"@string/serwis\"\n",
    "            android:textColor=\"@color/teal_200\"\n",
    "            android:textSize=\"18sp\"\n",
    "            app:layout_constraintStart_toStartOf=\"parent\"\n",
    "            app:layout_constraintTop_toBottomOf=\"@+id/overviewRecyclerViewFueling\" />\n",
    "\n",
    "        <TextView\n",
    "            android:id=\"@+id/overviewRecyclerViewService\"\n",
    "            android:layout_width=\"match_parent\"\n",
    "            android:layout_height=\"wrap_content\"\n",
    "            android:padding=\"4dp\"\n",
    "            android:gravity=\"end\"\n",
    "            android:layout_marginEnd=\"24dp\"\n",
    "            android:text=\"1 000 000.00 zł\"\n",
    "            android:textColor=\"@color/teal_200\"\n",
    "            android:textSize=\"18sp\"\n",
    "            app:layout_constraintStart_toStartOf=\"parent\"\n",
    "            app:layout_constraintTop_toBottomOf=\"@+id/overviewRecyclerViewFueling\" />\n",
    "\n",
    "        <TextView\n",
    "            android:layout_width=\"match_parent\"\n",
    "            android:layout_height=\"wrap_content\"\n",
    "            android:padding=\"4dp\"\n",
    "            android:layout_marginStart=\"24dp\"\n",
    "            android:text=\"@string/parkowanie\"\n",
    "            android:textColor=\"@color/teal_200\"\n",
    "            android:textSize=\"18sp\"\n",
    "            app:layout_constraintStart_toStartOf=\"parent\"\n",
    "            app:layout_constraintTop_toBottomOf=\"@+id/overviewRecyclerViewService\" />\n",
    "\n",
    "        <TextView\n",
    "            android:id=\"@+id/overviewRecyclerViewParking\"\n",
    "            android:layout_width=\"match_parent\"\n",
    "            android:layout_height=\"wrap_content\"\n",
    "            android:padding=\"4dp\"\n",
    "            android:gravity=\"end\"\n",
    "            android:layout_marginEnd=\"24dp\"\n",
    "            android:text=\"1 000 000.00 zł\"\n",
    "            android:textColor=\"@color/teal_200\"\n",
    "            android:textSize=\"18sp\"\n",
    "            app:layout_constraintStart_toStartOf=\"parent\"\n",
    "            app:layout_constraintTop_toBottomOf=\"@+id/overviewRecyclerViewService\" />\n",
    "\n",
    "        <TextView\n",
    "            android:layout_width=\"match_parent\"\n",
    "            android:layout_height=\"wrap_content\"\n",
    "            android:padding=\"4dp\"\n",
    "            android:layout_marginStart=\"24dp\"\n",
    "            android:text=\"@string/ubezpieczenie\"\n",
    "            android:textColor=\"@color/teal_200\"\n",
    "            android:textSize=\"18sp\"\n",
    "            app:layout_constraintStart_toStartOf=\"parent\"\n",
    "            app:layout_constraintTop_toBottomOf=\"@+id/overviewRecyclerViewParking\" />\n",
    "\n",
    "        <TextView\n",
    "            android:id=\"@+id/overviewRecyclerViewInsurance\"\n",
    "            android:layout_width=\"match_parent\"\n",
    "            android:layout_height=\"wrap_content\"\n",
    "            android:padding=\"4dp\"\n",
    "            android:gravity=\"end\"\n",
    "            android:layout_marginEnd=\"24dp\"\n",
    "            android:text=\"1 000 000.00 zł\"\n",
    "            android:textColor=\"@color/teal_200\"\n",
    "            android:textSize=\"18sp\"\n",
    "            app:layout_constraintStart_toStartOf=\"parent\"\n",
    "            app:layout_constraintTop_toBottomOf=\"@+id/overviewRecyclerViewParking\" />\n",
    "\n",
    "        <TextView\n",
    "            android:layout_width=\"match_parent\"\n",
    "            android:layout_height=\"wrap_content\"\n",
    "            android:padding=\"4dp\"\n",
    "            android:layout_marginStart=\"24dp\"\n",
    "            android:text=\"@string/mandat\"\n",
    "            android:textColor=\"@color/teal_200\"\n",
    "            android:textSize=\"18sp\"\n",
    "            app:layout_constraintStart_toStartOf=\"parent\"\n",
    "            app:layout_constraintTop_toBottomOf=\"@+id/overviewRecyclerViewInsurance\" />\n",
    "\n",
    "        <TextView\n",
    "            android:id=\"@+id/overviewRecyclerViewTicket\"\n",
    "            android:layout_width=\"match_parent\"\n",
    "            android:layout_height=\"wrap_content\"\n",
    "            android:padding=\"4dp\"\n",
    "            android:gravity=\"end\"\n",
    "            android:layout_marginEnd=\"24dp\"\n",
    "            android:text=\"1 000 000.00 zł\"\n",
    "            android:textColor=\"@color/teal_200\"\n",
    "            android:textSize=\"18sp\"\n",
    "            app:layout_constraintStart_toStartOf=\"parent\"\n",
    "            app:layout_constraintTop_toBottomOf=\"@+id/overviewRecyclerViewInsurance\" />\n",
    "\n",
    "    </androidx.constraintlayout.widget.ConstraintLayout>\n",
    "</androidx.cardview.widget.CardView>"
   ]
  },
  {
   "cell_type": "markdown",
   "id": "227d275f-6785-460c-934d-7ef007dbe6e0",
   "metadata": {},
   "source": [
    "`item_recyclerview_cars_overview.xml`"
   ]
  },
  {
   "cell_type": "code",
   "execution_count": null,
   "id": "9f582523-2ad1-4e17-97d2-b33a88587f74",
   "metadata": {},
   "outputs": [],
   "source": [
    "<?xml version=\"1.0\" encoding=\"utf-8\"?>\n",
    "<androidx.cardview.widget.CardView xmlns:android=\"http://schemas.android.com/apk/res/android\"\n",
    "    xmlns:app=\"http://schemas.android.com/apk/res-auto\"\n",
    "    android:layout_width=\"wrap_content\"\n",
    "    android:layout_height=\"wrap_content\"\n",
    "    android:layout_marginStart=\"4dp\"\n",
    "    android:layout_marginEnd=\"4dp\"\n",
    "    app:cardCornerRadius=\"45dp\">\n",
    "\n",
    "    <androidx.constraintlayout.widget.ConstraintLayout\n",
    "        android:layout_width=\"match_parent\"\n",
    "        android:layout_height=\"wrap_content\"\n",
    "        android:layout_marginStart=\"4dp\"\n",
    "        android:layout_marginEnd=\"4dp\"\n",
    "        android:background=\"@color/dark_blue_500\">\n",
    "\n",
    "        <TextView\n",
    "            android:id=\"@+id/overviewViewPagerCarName\"\n",
    "            android:layout_width=\"200dp\"\n",
    "            android:layout_height=\"wrap_content\"\n",
    "            android:background=\"@color/green_500\"\n",
    "            android:gravity=\"center\"\n",
    "            android:padding=\"4dp\"\n",
    "            android:text=\"@string/domowy\"\n",
    "            android:textColor=\"@color/black\"\n",
    "            android:textSize=\"24sp\"\n",
    "            app:layout_constraintStart_toStartOf=\"parent\"\n",
    "            app:layout_constraintTop_toTopOf=\"parent\" />\n",
    "\n",
    "        <TextView\n",
    "            android:id=\"@+id/textView\"\n",
    "            android:layout_width=\"match_parent\"\n",
    "            android:layout_height=\"wrap_content\"\n",
    "            android:layout_marginStart=\"24dp\"\n",
    "            android:padding=\"4dp\"\n",
    "            android:text=\"@string/marka\"\n",
    "            android:textColor=\"@color/teal_200\"\n",
    "            android:textSize=\"18sp\"\n",
    "            app:layout_constraintStart_toStartOf=\"parent\"\n",
    "            app:layout_constraintTop_toBottomOf=\"@+id/overviewViewPagerCarName\" />\n",
    "\n",
    "        <TextView\n",
    "            android:id=\"@+id/overviewViewPagerBrand\"\n",
    "            android:layout_width=\"wrap_content\"\n",
    "            android:layout_height=\"wrap_content\"\n",
    "            android:layout_marginEnd=\"24dp\"\n",
    "            android:gravity=\"end\"\n",
    "            android:padding=\"4dp\"\n",
    "            android:text=\"@string/skoda\"\n",
    "            android:textColor=\"@color/teal_200\"\n",
    "            android:textSize=\"18sp\"\n",
    "            app:layout_constraintEnd_toEndOf=\"@+id/overviewViewPagerCarName\"\n",
    "            app:layout_constraintTop_toBottomOf=\"@+id/overviewViewPagerCarName\" />\n",
    "\n",
    "        <TextView\n",
    "            android:layout_width=\"match_parent\"\n",
    "            android:layout_height=\"wrap_content\"\n",
    "            android:padding=\"4dp\"\n",
    "            android:layout_marginStart=\"24dp\"\n",
    "            android:text=\"@string/model\"\n",
    "            android:textColor=\"@color/teal_200\"\n",
    "            android:textSize=\"18sp\"\n",
    "            app:layout_constraintStart_toStartOf=\"parent\"\n",
    "            app:layout_constraintTop_toBottomOf=\"@+id/overviewViewPagerBrand\" />\n",
    "\n",
    "        <TextView\n",
    "            android:id=\"@+id/overviewViewPagerModel\"\n",
    "            android:layout_width=\"match_parent\"\n",
    "            android:layout_height=\"wrap_content\"\n",
    "            android:padding=\"4dp\"\n",
    "            android:gravity=\"end\"\n",
    "            android:layout_marginEnd=\"24dp\"\n",
    "            android:text=\"@string/fabia\"\n",
    "            android:textColor=\"@color/teal_200\"\n",
    "            android:textSize=\"18sp\"\n",
    "            app:layout_constraintEnd_toEndOf=\"@+id/overviewViewPagerCarName\"\n",
    "            app:layout_constraintTop_toBottomOf=\"@+id/overviewViewPagerBrand\" />\n",
    "\n",
    "        <TextView\n",
    "            android:layout_width=\"match_parent\"\n",
    "            android:layout_height=\"wrap_content\"\n",
    "            android:padding=\"4dp\"\n",
    "            android:layout_marginStart=\"24dp\"\n",
    "            android:text=\"@string/rok\"\n",
    "            android:textColor=\"@color/teal_200\"\n",
    "            android:textSize=\"18sp\"\n",
    "            app:layout_constraintStart_toStartOf=\"parent\"\n",
    "            app:layout_constraintTop_toBottomOf=\"@+id/overviewViewPagerModel\" />\n",
    "\n",
    "        <TextView\n",
    "            android:id=\"@+id/overviewViewPagerYearOfProduction\"\n",
    "            android:layout_width=\"match_parent\"\n",
    "            android:layout_height=\"wrap_content\"\n",
    "            android:padding=\"4dp\"\n",
    "            android:gravity=\"end\"\n",
    "            android:layout_marginEnd=\"24dp\"\n",
    "            android:text=\"@string/_1999\"\n",
    "            android:textColor=\"@color/teal_200\"\n",
    "            android:textSize=\"18sp\"\n",
    "            app:layout_constraintEnd_toEndOf=\"@+id/overviewViewPagerCarName\"\n",
    "            app:layout_constraintTop_toBottomOf=\"@+id/overviewViewPagerModel\" />\n",
    "\n",
    "        <TextView\n",
    "            android:layout_width=\"match_parent\"\n",
    "            android:layout_height=\"wrap_content\"\n",
    "            android:padding=\"4dp\"\n",
    "            android:layout_marginStart=\"24dp\"\n",
    "            android:text=\"@string/suma_koszt_w\"\n",
    "            android:textColor=\"@color/teal_200\"\n",
    "            android:textSize=\"18sp\"\n",
    "            app:layout_constraintStart_toStartOf=\"parent\"\n",
    "            app:layout_constraintTop_toBottomOf=\"@+id/overviewViewPagerYearOfProduction\" />\n",
    "\n",
    "        <TextView\n",
    "            android:id=\"@+id/overviewViewPagerTotalCosts\"\n",
    "            android:layout_width=\"match_parent\"\n",
    "            android:layout_height=\"wrap_content\"\n",
    "            android:padding=\"4dp\"\n",
    "            android:gravity=\"end\"\n",
    "            android:layout_marginEnd=\"24dp\"\n",
    "            android:text=\"1 000.00 zł\"\n",
    "            android:textColor=\"@color/teal_200\"\n",
    "            android:textSize=\"18sp\"\n",
    "            app:layout_constraintEnd_toEndOf=\"@+id/overviewViewPagerCarName\"\n",
    "            app:layout_constraintTop_toBottomOf=\"@+id/overviewViewPagerYearOfProduction\" />\n",
    "\n",
    "    </androidx.constraintlayout.widget.ConstraintLayout>\n",
    "</androidx.cardview.widget.CardView>"
   ]
  },
  {
   "cell_type": "markdown",
   "id": "d8b955bf-4454-4164-8af5-9ac8d067a111",
   "metadata": {},
   "source": [
    "Zmieńmy formatowanie wartości zmiennoprzecinkowych, przejdźmy do klasy `FormatterUtil`"
   ]
  },
  {
   "cell_type": "code",
   "execution_count": null,
   "id": "c8fa3dad-2302-4b6e-bfc0-fbb77787f300",
   "metadata": {},
   "outputs": [],
   "source": [
    "public static DecimalFormat decimalFormat = new DecimalFormat(\"###,###.## zł\");"
   ]
  },
  {
   "cell_type": "markdown",
   "id": "bfe454bb-c74c-46a5-a5ef-b14c31a72ae2",
   "metadata": {},
   "source": [
    "Pierwszym będzie `OverviewCarsAdapter`"
   ]
  },
  {
   "cell_type": "code",
   "execution_count": null,
   "id": "0c1067e1-2689-4388-bb35-3dc965dc2094",
   "metadata": {},
   "outputs": [],
   "source": [
    "public class OverviewCarsAdapter extends RecyclerView.Adapter<OverviewCarsAdapter.ViewHolder> {\n",
    "\n",
    "    private final ArrayList<Car> cars = DataProvider.getCars();\n",
    "\n",
    "    public static class ViewHolder extends RecyclerView.ViewHolder {\n",
    "\n",
    "        private final TextView carNameTextView;\n",
    "        private final TextView brandTextView;\n",
    "        private final TextView modelTextView;\n",
    "        private final TextView yearTextView;\n",
    "        private final TextView totalCostsTextView;\n",
    "\n",
    "        public ViewHolder(@NonNull View itemView) {\n",
    "            super(itemView);\n",
    "\n",
    "            carNameTextView= itemView.findViewById(R.id.overviewViewPagerCarName);\n",
    "            brandTextView = itemView.findViewById(R.id.overviewViewPagerBrand);\n",
    "            modelTextView = itemView.findViewById(R.id.overviewViewPagerModel);\n",
    "            yearTextView = itemView.findViewById(R.id.overviewViewPagerYearOfProduction);\n",
    "            totalCostsTextView = itemView.findViewById(R.id.overviewViewPagerTotalCosts);\n",
    "        }\n",
    "\n",
    "        public void bind (Car item){\n",
    "            carNameTextView.setText(item.getName());\n",
    "            brandTextView.setText(item.getBrand());\n",
    "            modelTextView.setText(item.getModel());\n",
    "            yearTextView.setText(item.getYearOfProduction());\n",
    "            totalCostsTextView.setText(FormatterUtil.decimalFormat.format(\n",
    "                item.getCosts().stream()\n",
    "                .map(Cost::getAmount)\n",
    "                .reduce(0, Integer::sum))\n",
    "            );\n",
    "        }\n",
    "    }\n",
    "\n",
    "    @NonNull\n",
    "    @Override\n",
    "    public ViewHolder onCreateViewHolder(@NonNull ViewGroup parent, int viewType) {\n",
    "        return new ViewHolder(LayoutInflater.from(parent.getContext()).inflate(\n",
    "                R.layout.item_recyclerview_cars_overview, parent, false\n",
    "        ));\n",
    "    }\n",
    "\n",
    "    @Override\n",
    "    public void onBindViewHolder(@NonNull ViewHolder holder, int position) {\n",
    "        Car item = cars.get(position);\n",
    "    }\n",
    "\n",
    "    @Override\n",
    "    public int getItemCount() {\n",
    "        return cars.size();\n",
    "    }\n",
    "}\n"
   ]
  },
  {
   "cell_type": "markdown",
   "id": "6f942ace-0cb3-4580-8160-9edb6ff93957",
   "metadata": {},
   "source": [
    "W funkcji `bind` pole `totalCostsTextView` będzie przechowywało informację o całkowitym poniesionym koszcie, aby to obliczyć na liście `costs` wywołujemy metodę `filter` - zwracającą listę wszystkich wartości (`getAmount`), `map` zwracającą listę wszystkich kosztów, oraz `reduce` zwracającą sumę.\n",
    "\n",
    "Przejdźmy do `OverviewCostsAdapter`, chcemy obliczyć sumę kosztów każdego typu i przekazać wynik do `TextView`. Napiszmy metodę pomocniczą w klasie `ViewHolder` zwracającą sumę kosztów o zadanym typie."
   ]
  },
  {
   "cell_type": "code",
   "execution_count": null,
   "id": "a97d19ef-1d31-4828-be0b-8ca69232e9f8",
   "metadata": {},
   "outputs": [],
   "source": [
    "private String costValue(Car item, CostType costType){\n",
    "    return FormatterUtil.decimalFormat.format(\n",
    "            item.getCosts().stream()\n",
    "                    .filter(i-> i.getType() == costType)\n",
    "                    .map(Cost::getAmount)\n",
    "                    .reduce(0, Integer::sum)\n",
    "    );\n",
    "}"
   ]
  },
  {
   "cell_type": "markdown",
   "id": "8e29429c-1222-44e7-9a76-3f211963c368",
   "metadata": {},
   "source": [
    "Pełna klasa adaptera:"
   ]
  },
  {
   "cell_type": "code",
   "execution_count": null,
   "id": "2a2480a2-ab2d-4171-8822-5808b40a6e7c",
   "metadata": {},
   "outputs": [],
   "source": [
    "public class OverviewCostsAdapter extends RecyclerView.Adapter<OverviewCostsAdapter.ViewHolder> {\n",
    "\n",
    "    private final ArrayList<Car> cars = DataProvider.getCars();\n",
    "\n",
    "    public static class ViewHolder extends RecyclerView.ViewHolder {\n",
    "\n",
    "        private final TextView carNameTextView;\n",
    "        private final TextView refuelingTextView;\n",
    "        private final TextView serviceTextView;\n",
    "        private final TextView parkingTextView;\n",
    "        private final TextView insuranceTextView;\n",
    "        private final TextView ticketTextView;\n",
    "\n",
    "        public ViewHolder(@NonNull View itemView) {\n",
    "            super(itemView);\n",
    "\n",
    "            carNameTextView = itemView.findViewById(R.id.overviewRecyclerViewCarName);\n",
    "            refuelingTextView = itemView.findViewById(R.id.overviewRecyclerViewFueling);\n",
    "            serviceTextView = itemView.findViewById(R.id.overviewRecyclerViewService);\n",
    "            parkingTextView = itemView.findViewById(R.id.overviewRecyclerViewParking);\n",
    "            insuranceTextView = itemView.findViewById(R.id.overviewRecyclerViewInsurance);\n",
    "            ticketTextView = itemView.findViewById(R.id.overviewRecyclerViewTicket);\n",
    "        }\n",
    "\n",
    "        public void bind (Car item){\n",
    "            carNameTextView.setText(item.getName());\n",
    "            refuelingTextView.setText(costValue(item, CostType.REFUELING));\n",
    "            serviceTextView.setText(costValue(item, CostType.SERVICE));\n",
    "            parkingTextView.setText(costValue(item, CostType.PARKING));\n",
    "            insuranceTextView.setText(costValue(item, CostType.INSURANCE));\n",
    "            ticketTextView.setText(costValue(item, CostType.TICKET));\n",
    "        }\n",
    "\n",
    "        private String costValue(Car item, CostType costType){\n",
    "            return FormatterUtil.decimalFormat.format(\n",
    "                    item.getCosts().stream()\n",
    "                            .filter(i-> i.getType() == costType)\n",
    "                            .map(Cost::getAmount)\n",
    "                            .reduce(0, Integer::sum)\n",
    "            );\n",
    "        }\n",
    "    }\n",
    "\n",
    "    @NonNull\n",
    "    @Override\n",
    "    public ViewHolder onCreateViewHolder(@NonNull ViewGroup parent, int viewType) {\n",
    "        return new ViewHolder(LayoutInflater.from(parent.getContext()).inflate(\n",
    "                R.layout.item_recyclerview_cost_overview, parent, false\n",
    "        ));\n",
    "    }\n",
    "\n",
    "    @Override\n",
    "    public void onBindViewHolder(@NonNull ViewHolder holder, int position) {\n",
    "        Car item = cars.get(position);\n",
    "        holder.bind(item);\n",
    "    }\n",
    "\n",
    "    @Override\n",
    "    public int getItemCount() {\n",
    "        return cars.size();\n",
    "    }\n",
    "}\n"
   ]
  },
  {
   "cell_type": "markdown",
   "id": "f8ca6a5f-07c8-4f24-8bb2-909a99d972cc",
   "metadata": {},
   "source": [
    "Do metody `onViewCreated` klasy `OverviewFragment` dodajemy `RecyclerView`"
   ]
  },
  {
   "cell_type": "code",
   "execution_count": null,
   "id": "8784a8ab-e483-456c-a761-a47a955cd520",
   "metadata": {},
   "outputs": [],
   "source": [
    "    public void onViewCreated(@NonNull View view, @Nullable Bundle savedInstanceState) {\n",
    "        super.onViewCreated(view, savedInstanceState);\n",
    "\n",
    "        RecyclerView costsRecyclerView = view.findViewById(R.id.overviewCostsRecyclerView);\n",
    "        costsRecyclerView.setLayoutManager(\n",
    "            new LinearLayoutManager(getContext(), LinearLayoutManager.HORIZONTAL, false));\n",
    "        costsRecyclerView.setAdapter(new OverviewCostsAdapter());\n",
    "\n",
    "        RecyclerView carsRecyclerView = view.findViewById(R.id.overviewCarsRecyclerView);\n",
    "        carsRecyclerView.setLayoutManager(\n",
    "            new LinearLayoutManager(getContext(), LinearLayoutManager.HORIZONTAL, false));\n",
    "        carsRecyclerView.setAdapter(new OverviewCarsAdapter());\n",
    "    }"
   ]
  },
  {
   "cell_type": "markdown",
   "id": "c695d669-b909-48d1-b7fb-da1d0a93b585",
   "metadata": {},
   "source": [
    "Następnie chcemy dostać całkowitą sumę kosztów dla każdego typu (dla wszystkich samochodów), napiszmy metodę pomocniczą"
   ]
  },
  {
   "cell_type": "code",
   "execution_count": null,
   "id": "62be1a11-b9b6-4c84-92df-d73653dac4c6",
   "metadata": {},
   "outputs": [],
   "source": [
    "private int totalValue(CostType costType){\n",
    "    return  DataProvider.getCars().stream()\n",
    "            .flatMap(list -> list.getCosts().stream())\n",
    "            .filter(i-> i.getType() == costType)\n",
    "            .map(Cost::getAmount)\n",
    "            .reduce(0, Integer::sum);\n",
    "}"
   ]
  },
  {
   "cell_type": "markdown",
   "id": "4017a8f3-919c-4e77-b5a4-d72cc00a412d",
   "metadata": {},
   "source": [
    "Ponieważ każdy obierkt `Car` zawiera `List<Cost>`, wykonując `map` dostaniemy `List<List<Cost>>`. Będziemy sumować wszystkie koszty o zadanym typie, więc chcemy mieć jedną listę - w tym celu wykorzystujemy `flatMap`, która zwróci `List<Cost>`. Dalsze krokie są takie same jak poprzednio."
   ]
  },
  {
   "cell_type": "code",
   "execution_count": null,
   "id": "199b476a-56a4-43b6-9240-dd9b7542e4eb",
   "metadata": {},
   "outputs": [],
   "source": [
    "public class OverviewFragment extends Fragment {\n",
    "\n",
    "    @Override\n",
    "    public View onCreateView(LayoutInflater inflater, ViewGroup container,\n",
    "                             Bundle savedInstanceState) {\n",
    "        // Inflate the layout for this fragment\n",
    "        return inflater.inflate(R.layout.fragment_overview, container, false);\n",
    "    }\n",
    "\n",
    "    @Override\n",
    "    public void onViewCreated(@NonNull View view, @Nullable Bundle savedInstanceState) {\n",
    "        super.onViewCreated(view, savedInstanceState);\n",
    "\n",
    "        RecyclerView costsRecyclerView = view.findViewById(R.id.overviewCostsRecyclerView);\n",
    "        costsRecyclerView.setLayoutManager(\n",
    "            new LinearLayoutManager(getContext(), LinearLayoutManager.HORIZONTAL, false));\n",
    "        costsRecyclerView.setAdapter(new OverviewCostsAdapter());\n",
    "\n",
    "        RecyclerView carsRecyclerView = view.findViewById(R.id.overviewCarsRecyclerView);\n",
    "        carsRecyclerView.setLayoutManager(\n",
    "            new LinearLayoutManager(getContext(), LinearLayoutManager.HORIZONTAL, false));\n",
    "        carsRecyclerView.setAdapter(new OverviewCarsAdapter());\n",
    "\n",
    "        TextView refuelingTextView = view.findViewById(R.id.overviewFueling);\n",
    "        refuelingTextView.setText(\n",
    "            FormatterUtil.decimalFormat.format(totalValue(CostType.REFUELING)));\n",
    "\n",
    "        TextView serviceTextView = view.findViewById(R.id.overviewService);\n",
    "        serviceTextView.setText(\n",
    "            FormatterUtil.decimalFormat.format(totalValue(CostType.SERVICE)));\n",
    "\n",
    "        TextView parkingTextView = view.findViewById(R.id.overviewParking);\n",
    "        parkingTextView.setText(\n",
    "            FormatterUtil.decimalFormat.format(totalValue(CostType.PARKING)));\n",
    "\n",
    "        TextView insuranceTextView = view.findViewById(R.id.overviewInsurance);\n",
    "        insuranceTextView.setText(\n",
    "            FormatterUtil.decimalFormat.format(totalValue(CostType.INSURANCE)));\n",
    "\n",
    "        TextView ticketTextView = view.findViewById(R.id.overviewTicket);\n",
    "        ticketTextView.setText(\n",
    "            FormatterUtil.decimalFormat.format(totalValue(CostType.TICKET)));\n",
    "\n",
    "    }\n",
    "\n",
    "    private int totalValue(CostType costType){\n",
    "        return  DataProvider.getCars().stream()\n",
    "                .flatMap(list -> list.getCosts().stream())\n",
    "                .filter(i-> i.getType() == costType)\n",
    "                .map(Cost::getAmount)\n",
    "                .reduce(0, Integer::sum);\n",
    "    }\n",
    "}"
   ]
  },
  {
   "cell_type": "markdown",
   "id": "7c667d18-1e00-49b1-9800-4e594b5ed8d2",
   "metadata": {},
   "source": [
    "Możemy przetestować aplikację"
   ]
  },
  {
   "cell_type": "markdown",
   "id": "dcc50411-7b71-456f-ba20-a4e1c8998dde",
   "metadata": {},
   "source": [
    "<table><tr><td><img src=\"https://media2.giphy.com/media/0lpf97nejk58XmgAP1/giphy.gif?cid=790b7611c2da1160570c8dd99550ec3cec763c3d4c38b025&rid=giphy.gif&ct=g\" width=\"150\" /></td><td><img src=\"https://media2.giphy.com/media/hv5Ewg1qBwSj99Ju82/giphy.gif?cid=790b7611ccbb9fccb551bafa99c524b39c01a03d957a334b&rid=giphy.gif&ct=g\" width=\"150\" /></td><td><img src=\"https://media4.giphy.com/media/FkSzT1Y6TNOtg89XKr/giphy.gif?cid=790b76119c5e65885f7be2c85549b516585eebeb4a8d4baa&rid=giphy.gif&ct=g\" width=\"150\" /></td></tr></table>"
   ]
  },
  {
   "cell_type": "code",
   "execution_count": null,
   "id": "dd0ab7f1-1869-4b4e-98df-52bfbcef3dd9",
   "metadata": {},
   "outputs": [],
   "source": []
  }
 ],
 "metadata": {
  "kernelspec": {
   "display_name": "Java",
   "language": "java",
   "name": "java"
  },
  "language_info": {
   "codemirror_mode": "java",
   "file_extension": ".jshell",
   "mimetype": "text/x-java-source",
   "name": "Java",
   "pygments_lexer": "java",
   "version": "17+35-2724"
  }
 },
 "nbformat": 4,
 "nbformat_minor": 5
}
