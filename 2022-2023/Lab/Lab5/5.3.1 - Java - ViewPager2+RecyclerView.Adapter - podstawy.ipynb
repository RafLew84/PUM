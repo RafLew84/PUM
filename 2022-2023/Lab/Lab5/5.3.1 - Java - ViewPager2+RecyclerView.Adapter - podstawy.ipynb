{
 "cells": [
  {
   "cell_type": "markdown",
   "id": "48003167-b4c5-4ac5-9275-ce11de4f3a5e",
   "metadata": {},
   "source": [
    "## 5.3 ViewPager2 - RecyclerView.Adapter"
   ]
  },
  {
   "cell_type": "markdown",
   "id": "4c75204f-d9a6-4707-a001-871a7ccdd7f2",
   "metadata": {},
   "source": [
    "Tym razem napiszemy prostą aplikację wykorzystując `ViewPager` z `RecyclerView.Adapter`"
   ]
  },
  {
   "cell_type": "markdown",
   "id": "d358a360-bc39-49d1-95b5-d0dd113f6e58",
   "metadata": {},
   "source": [
    "<img src=\"https://media2.giphy.com/media/IxABynoYm0kk5y2D6p/giphy.gif?cid=790b761106f7ee3c6bd2b00ae1183a00d72cde79df168fb3&rid=giphy.gif&ct=g\" width=\"200\" />"
   ]
  },
  {
   "cell_type": "markdown",
   "id": "456b8997-044e-4fcf-99d7-ad7b26267fe7",
   "metadata": {},
   "source": [
    "Dane do wyświetlenia będziemy przechowywać w `MainActivity` w tablicy `String`"
   ]
  },
  {
   "cell_type": "code",
   "execution_count": null,
   "id": "27e6d721-a8d4-44ee-a1cf-e65ec3102958",
   "metadata": {},
   "outputs": [],
   "source": [
    "public class MainActivity extends AppCompatActivity {\n",
    "\n",
    "    public static final String[] values = {\"pierwszy\", \"drugi\", \"trzeci\"};\n",
    "    ...\n",
    "}"
   ]
  },
  {
   "cell_type": "markdown",
   "id": "329edbb0-227f-4af7-a409-7438eedb4073",
   "metadata": {},
   "source": [
    "Rozpocznijmy od layoutu pojedynczego elementu\n",
    "\n",
    "```xml\n",
    "<?xml version=\"1.0\" encoding=\"utf-8\"?>\n",
    "<androidx.constraintlayout.widget.ConstraintLayout xmlns:android=\"http://schemas.android.com/apk/res/android\"\n",
    "    android:layout_width=\"match_parent\"\n",
    "    android:layout_height=\"match_parent\">\n",
    "\n",
    "    <TextView\n",
    "        android:id=\"@+id/textView\"\n",
    "        android:layout_width=\"match_parent\"\n",
    "        android:layout_height=\"match_parent\"\n",
    "        android:gravity=\"center\"\n",
    "        android:textSize=\"36sp\"/>\n",
    "\n",
    "</androidx.constraintlayout.widget.ConstraintLayout>\n",
    "```\n",
    "\n",
    "Następnie zaimplementujmy `PagerAdapter`, który tym razem będzie rozszerzał klasę `RecyclerView.Adapter` - sama implementacja adaptera nie różni się od wcześniejszych"
   ]
  },
  {
   "cell_type": "code",
   "execution_count": null,
   "id": "2fe94989-b927-4761-823c-f96c1e7e4a66",
   "metadata": {},
   "outputs": [],
   "source": [
    "public class PagerAdapter extends RecyclerView.Adapter<PagerAdapter.ViewHolder> {\n",
    "    @NonNull\n",
    "    @Override\n",
    "    public ViewHolder onCreateViewHolder(@NonNull ViewGroup parent, int viewType) {\n",
    "        return new ViewHolder(\n",
    "                LayoutInflater.from(parent.getContext()).inflate(\n",
    "                        R.layout.item_view, parent, false\n",
    "                )\n",
    "        );\n",
    "    }\n",
    "\n",
    "    @Override\n",
    "    public void onBindViewHolder(@NonNull ViewHolder holder, int position) {\n",
    "        holder.bind(MainActivity.values[position]);\n",
    "    }\n",
    "\n",
    "    @Override\n",
    "    public int getItemCount() {\n",
    "        return MainActivity.values.length;\n",
    "    }\n",
    "\n",
    "    public static class ViewHolder extends RecyclerView.ViewHolder {\n",
    "\n",
    "        private final TextView textView;\n",
    "\n",
    "        public ViewHolder(@NonNull View itemView) {\n",
    "            super(itemView);\n",
    "            textView = itemView.findViewById(R.id.textView);\n",
    "        }\n",
    "\n",
    "        public void bind(String text){\n",
    "            textView.setText(text);\n",
    "        }\n",
    "    }\n",
    "}"
   ]
  },
  {
   "cell_type": "markdown",
   "id": "70e098d0-bfbb-4a10-9044-806ca66a4569",
   "metadata": {},
   "source": [
    "Dodajmy `ViewPager` do layoutu głównej aktywności\n",
    "\n",
    "```xml\n",
    "<?xml version=\"1.0\" encoding=\"utf-8\"?>\n",
    "<androidx.constraintlayout.widget.ConstraintLayout xmlns:android=\"http://schemas.android.com/apk/res/android\"\n",
    "    xmlns:app=\"http://schemas.android.com/apk/res-auto\"\n",
    "    xmlns:tools=\"http://schemas.android.com/tools\"\n",
    "    android:layout_width=\"match_parent\"\n",
    "    android:layout_height=\"match_parent\"\n",
    "    tools:context=\".MainActivity\">\n",
    "\n",
    "    <androidx.viewpager2.widget.ViewPager2\n",
    "        android:id=\"@+id/viewPager\"\n",
    "        android:layout_width=\"match_parent\"\n",
    "        android:layout_height=\"match_parent\"/>\n",
    "\n",
    "</androidx.constraintlayout.widget.ConstraintLayout>\n",
    "```\n",
    "\n",
    "Następnie utworzymy `ViewPager` i `PagerAdapter` oraz połączymy wszystko w metodzie `onCreate` klasy `MainActivity`"
   ]
  },
  {
   "cell_type": "code",
   "execution_count": null,
   "id": "2a458fc9-f602-4798-8be0-53124ec7a4ee",
   "metadata": {},
   "outputs": [],
   "source": [
    "public class MainActivity extends AppCompatActivity {\n",
    "\n",
    "    public static final String[] values = {\"pierwszy\", \"drugi\", \"trzeci\"};\n",
    "\n",
    "    @Override\n",
    "    protected void onCreate(Bundle savedInstanceState) {\n",
    "        super.onCreate(savedInstanceState);\n",
    "        setContentView(R.layout.activity_main);\n",
    "\n",
    "        ViewPager2 viewPager2 = findViewById(R.id.viewPager);\n",
    "        viewPager2.setAdapter(new PagerAdapter());\n",
    "    }\n",
    "}"
   ]
  },
  {
   "cell_type": "markdown",
   "id": "e708b818-dcf5-4ca9-bd0a-03f490a7a56e",
   "metadata": {},
   "source": [
    "W tym przypadku `ViewPager` działa jak `RecyclerView` z tą różnicą że wyświetla jeden element na ekranie."
   ]
  },
  {
   "cell_type": "markdown",
   "id": "280ed78f-3a57-4415-8375-aa4dd56d09cd",
   "metadata": {},
   "source": [
    "<img src=\"https://media2.giphy.com/media/IxABynoYm0kk5y2D6p/giphy.gif?cid=790b761106f7ee3c6bd2b00ae1183a00d72cde79df168fb3&rid=giphy.gif&ct=g\" width=\"150\" />"
   ]
  },
  {
   "cell_type": "code",
   "execution_count": null,
   "id": "ce9f22aa-061b-4065-a3d8-78649ab50538",
   "metadata": {},
   "outputs": [],
   "source": []
  }
 ],
 "metadata": {
  "kernelspec": {
   "display_name": "Java",
   "language": "java",
   "name": "java"
  },
  "language_info": {
   "codemirror_mode": "java",
   "file_extension": ".jshell",
   "mimetype": "text/x-java-source",
   "name": "Java",
   "pygments_lexer": "java",
   "version": "17+35-2724"
  }
 },
 "nbformat": 4,
 "nbformat_minor": 5
}
