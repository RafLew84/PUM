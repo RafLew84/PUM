{
 "cells": [
  {
   "cell_type": "markdown",
   "id": "23c6577e-3128-455f-a4fc-cf0dcb31a1bf",
   "metadata": {},
   "source": [
    "## 4.5 Bottom Navigation"
   ]
  },
  {
   "cell_type": "markdown",
   "id": "5ef6d441-0831-4bc9-9e70-e37b8c571c99",
   "metadata": {},
   "source": [
    "Aplikacja posłuży do przedstawienia podstaw `BottomNavigation` - jednej z popularniejszych metod nawigacji."
   ]
  },
  {
   "cell_type": "markdown",
   "id": "7100d84e-0bea-4bc3-982d-228ceb528aac",
   "metadata": {},
   "source": [
    "<img src=\"https://media0.giphy.com/media/8mzEzkPcR5jBCVzjf5/giphy.gif?cid=790b761101e1065f89e55c786d7cc54428a8c153e97e7892&rid=giphy.gif&ct=g\" width=\"200\" />"
   ]
  },
  {
   "cell_type": "markdown",
   "id": "c93cec17-8092-4852-afc7-e09457ae2099",
   "metadata": {},
   "source": [
    "Aplikację rozpoczniemy od dodania fragmentów."
   ]
  },
  {
   "cell_type": "code",
   "execution_count": null,
   "id": "7fa88edf-8a52-4dfd-9477-7a1969f818f1",
   "metadata": {},
   "outputs": [],
   "source": [
    "class HomeFragment : Fragment() {\n",
    "\n",
    "    override fun onCreateView(\n",
    "        inflater: LayoutInflater, container: ViewGroup?,\n",
    "        savedInstanceState: Bundle?\n",
    "    ): View? {\n",
    "        // Inflate the layout for this fragment\n",
    "        return inflater.inflate(R.layout.fragment_home, container, false)\n",
    "    }\n",
    "}"
   ]
  },
  {
   "cell_type": "code",
   "execution_count": null,
   "id": "217f6d1c-9e72-4cfb-aa80-5a8762f7a0e4",
   "metadata": {},
   "outputs": [],
   "source": [
    "class FirstFragment : Fragment() {\n",
    "\n",
    "    override fun onCreateView(\n",
    "        inflater: LayoutInflater, container: ViewGroup?,\n",
    "        savedInstanceState: Bundle?\n",
    "    ): View? {\n",
    "        // Inflate the layout for this fragment\n",
    "        return inflater.inflate(R.layout.fragment_first, container, false)\n",
    "    }\n",
    "}"
   ]
  },
  {
   "cell_type": "code",
   "execution_count": null,
   "id": "56b7eb0a-fcb4-4e27-bfc2-ecc278635b9a",
   "metadata": {},
   "outputs": [],
   "source": [
    "class SecondFragment : Fragment() {\n",
    "\n",
    "    override fun onCreateView(\n",
    "        inflater: LayoutInflater, container: ViewGroup?,\n",
    "        savedInstanceState: Bundle?\n",
    "    ): View? {\n",
    "        // Inflate the layout for this fragment\n",
    "        return inflater.inflate(R.layout.fragment_second, container, false)\n",
    "    }\n",
    "}"
   ]
  },
  {
   "cell_type": "code",
   "execution_count": null,
   "id": "74c97d7b-a552-483e-983f-3f761d23e808",
   "metadata": {},
   "outputs": [],
   "source": [
    "class SettingsFragment : Fragment() {\n",
    "\n",
    "    override fun onCreateView(\n",
    "        inflater: LayoutInflater, container: ViewGroup?,\n",
    "        savedInstanceState: Bundle?\n",
    "    ): View? {\n",
    "        // Inflate the layout for this fragment\n",
    "        return inflater.inflate(R.layout.fragment_settings, container, false)\n",
    "    }\n",
    "}"
   ]
  },
  {
   "cell_type": "markdown",
   "id": "9b43aa31-49c1-4cdc-be9d-886276ef46ef",
   "metadata": {},
   "source": [
    "Layouty są identyczne za wyjątkiem tekstu w polu `TextView`\n",
    "\n",
    "```xml\n",
    "<?xml version=\"1.0\" encoding=\"utf-8\"?>\n",
    "<FrameLayout xmlns:android=\"http://schemas.android.com/apk/res/android\"\n",
    "    xmlns:tools=\"http://schemas.android.com/tools\"\n",
    "    android:layout_width=\"match_parent\"\n",
    "    android:layout_height=\"match_parent\"\n",
    "    tools:context=\".HomeFragment\">\n",
    "\n",
    "    <TextView\n",
    "        android:layout_width=\"match_parent\"\n",
    "        android:layout_height=\"match_parent\"\n",
    "        android:layout_gravity=\"center\"\n",
    "        android:gravity=\"center\"\n",
    "        android:text=\"HOME\"\n",
    "        android:textSize=\"67sp\"\n",
    "        android:textStyle=\"bold\" />\n",
    "\n",
    "</FrameLayout>\n",
    "```"
   ]
  },
  {
   "cell_type": "markdown",
   "id": "2ece245e-ca14-451f-8475-36cfbb6c5131",
   "metadata": {},
   "source": [
    "### **BottomNavigationView**"
   ]
  },
  {
   "cell_type": "markdown",
   "id": "9579ef56-0bac-427f-bb7f-c04d573eaadf",
   "metadata": {},
   "source": [
    "W kolejnym kroku dodajmy nawigację. Nie definiujemy żadnych akcji pomiędzy fragmentami - `HomeFragment` ustawiamy jako *domowy*.\n",
    "\n",
    "<img src=\"https://files.fm/thumb_show.php?i=a2jvc2ttk\" width=\"400\" />\n",
    "\n",
    "```xml\n",
    "<?xml version=\"1.0\" encoding=\"utf-8\"?>\n",
    "<navigation xmlns:android=\"http://schemas.android.com/apk/res/android\"\n",
    "    xmlns:app=\"http://schemas.android.com/apk/res-auto\"\n",
    "    xmlns:tools=\"http://schemas.android.com/tools\"\n",
    "    android:id=\"@+id/navigation\"\n",
    "    app:startDestination=\"@id/homeFragment\">\n",
    "\n",
    "    <fragment\n",
    "        android:id=\"@+id/firstFragment\"\n",
    "        android:name=\"pl.edu.uwr.pum.bottomnavigationkotlin.FirstFragment\"\n",
    "        android:label=\"fragment_first\"\n",
    "        tools:layout=\"@layout/fragment_first\" />\n",
    "    <fragment\n",
    "        android:id=\"@+id/homeFragment\"\n",
    "        android:name=\"pl.edu.uwr.pum.bottomnavigationkotlin.HomeFragment\"\n",
    "        android:label=\"fragment_home\"\n",
    "        tools:layout=\"@layout/fragment_home\" />\n",
    "    <fragment\n",
    "        android:id=\"@+id/secondFragment\"\n",
    "        android:name=\"pl.edu.uwr.pum.bottomnavigationkotlin.SecondFragment\"\n",
    "        android:label=\"fragment_second\"\n",
    "        tools:layout=\"@layout/fragment_second\" />\n",
    "    <fragment\n",
    "        android:id=\"@+id/settingsFragment\"\n",
    "        android:name=\"pl.edu.uwr.pum.bottomnavigationkotlin.SettingsFragment\"\n",
    "        android:label=\"fragment_settings\"\n",
    "        tools:layout=\"@layout/fragment_settings\" />\n",
    "</navigation>\n",
    "```\n",
    "\n",
    "Następnie zdefiniujmy `menu` dla `BottomNavigation`. Do katalogu **res/menu** dodajemy plik `bottom_nav_menu`\n",
    "\n",
    "```xml\n",
    "<?xml version=\"1.0\" encoding=\"utf-8\"?>\n",
    "<menu xmlns:android=\"http://schemas.android.com/apk/res/android\">\n",
    "    <item\n",
    "        android:id=\"@id/homeFragment\"\n",
    "        android:icon=\"@drawable/ic_home\"\n",
    "        android:title=\"HOME\" />\n",
    "    <item\n",
    "        android:id=\"@id/firstFragment\"\n",
    "        android:icon=\"@drawable/ic_android\"\n",
    "        android:title=\"FIRST\" />\n",
    "\n",
    "    <item\n",
    "        android:id=\"@id/secondFragment\"\n",
    "        android:icon=\"@drawable/ic_email\"\n",
    "        android:title=\"SECOND\" />\n",
    "</menu>\n",
    "```\n",
    "\n",
    "Ikony możemy dodać do katalogu `drawable` z menu kontekstowego wybierając **New -> Vector Asset**. `id` pozecji wc `menu` musi być takie same jak w nawigacji - w pliku `navigation.xml`. Przejdźmy do layoutu głównej aktywności i dodajmy `FragmentContainer` oraz `BottomNavigationView`\n",
    "\n",
    "```xml\n",
    "<?xml version=\"1.0\" encoding=\"utf-8\"?>\n",
    "<LinearLayout xmlns:android=\"http://schemas.android.com/apk/res/android\"\n",
    "    xmlns:tools=\"http://schemas.android.com/tools\"\n",
    "    xmlns:app=\"http://schemas.android.com/apk/res-auto\"\n",
    "    android:layout_width=\"match_parent\"\n",
    "    android:layout_height=\"match_parent\"\n",
    "    android:orientation=\"vertical\"\n",
    "    tools:context=\".MainActivity\">\n",
    "\n",
    "    <androidx.fragment.app.FragmentContainerView\n",
    "        android:id=\"@+id/nav_host_fragment\"\n",
    "        android:name=\"androidx.navigation.fragment.NavHostFragment\"\n",
    "        android:layout_width=\"match_parent\"\n",
    "        android:layout_height=\"0dp\"\n",
    "        android:layout_weight=\"1\"\n",
    "        app:defaultNavHost=\"true\"\n",
    "        app:navGraph=\"@navigation/navigation\"/>\n",
    "\n",
    "    <com.google.android.material.bottomnavigation.BottomNavigationView\n",
    "        android:id=\"@+id/bottom_nav_view\"\n",
    "        android:layout_width=\"match_parent\"\n",
    "        android:layout_height=\"wrap_content\"\n",
    "        app:menu=\"@menu/bottom_nav_menu\" />\n",
    "\n",
    "</LinearLayout>\n",
    "```\n",
    "\n",
    "Ostatnim krokiem jest połączenie głównej aktywności z `Jetpack Navigation` oraz `BottomNavigationView`. Przedźmy do klasy `MainActivity`. Wpierw dodajmy `NavController`"
   ]
  },
  {
   "cell_type": "code",
   "execution_count": null,
   "id": "c1098223-37d4-40a4-9ee3-45680f30b13e",
   "metadata": {},
   "outputs": [],
   "source": [
    "private val navController: NavController by lazy {\n",
    "    val navHostFragment = supportFragmentManager.findFragmentById(R.id.nav_host_fragment)\n",
    "            as NavHostFragment\n",
    "    navHostFragment.findNavController()\n",
    "}"
   ]
  },
  {
   "cell_type": "markdown",
   "id": "647ce77f-857d-4508-bd28-896d08a9f03a",
   "metadata": {},
   "source": [
    "Następnie musimy połączyć `BottomNavigationView` z `Navigation` - robimy to w metodzie `onCreate`"
   ]
  },
  {
   "cell_type": "code",
   "execution_count": null,
   "id": "c11f8d3c-53c9-4296-a9d4-6bfeaa52fab6",
   "metadata": {},
   "outputs": [],
   "source": [
    "val bottomNav = findViewById<BottomNavigationView>(R.id.bottom_nav_view)\n",
    "bottomNav?.setupWithNavController(navController)"
   ]
  },
  {
   "cell_type": "markdown",
   "id": "2b07e22e-971b-40dc-b321-020a162f51ff",
   "metadata": {},
   "source": [
    "Możemy przetestować aplikację"
   ]
  },
  {
   "cell_type": "markdown",
   "id": "0ef364ad-62c8-4cd9-848d-427bf20b8a46",
   "metadata": {},
   "source": [
    "<img src=\"https://media1.giphy.com/media/RAoPBRNJRh3xGzK5Mg/giphy.gif?cid=790b761142c45c3857e061db4a4da9d95ce06a0511e4cf6a&rid=giphy.gif&ct=g\" width=\"150\" />"
   ]
  },
  {
   "cell_type": "markdown",
   "id": "fbdc975a-c8df-4cd5-9ab9-2e544ebdaa5a",
   "metadata": {},
   "source": [
    "### **Menu Navigation**"
   ]
  },
  {
   "cell_type": "markdown",
   "id": "56a81253-48ed-4ae7-806a-f8b44b798e99",
   "metadata": {},
   "source": [
    "Dodamy jeszcze możliwość przejścia na `SettingsFragment` z poziomu `menu` na `Actionbar`. W pierwszym kroku zdefiniujmy nasze menu - do katalogu `menu` dodajemy plik `actionbar_menu.xml`\n",
    "\n",
    "```xml\n",
    "<?xml version=\"1.0\" encoding=\"utf-8\"?>\n",
    "<menu xmlns:android=\"http://schemas.android.com/apk/res/android\">\n",
    "    <item\n",
    "        android:id=\"@id/settingsFragment\"\n",
    "        android:icon=\"@drawable/ic_settings\"\n",
    "        android:title=\"SETTINGS\" />\n",
    "</menu>\n",
    "```\n",
    "\n",
    "Następnie musimy zdefiniować `AppBarConfiguration` i połączyć `Actionbar` z `NavControoller`. W `MainActivity` dodajemy"
   ]
  },
  {
   "cell_type": "code",
   "execution_count": null,
   "id": "88068bf7-d59b-4aad-9eb7-885ed682e73d",
   "metadata": {},
   "outputs": [],
   "source": [
    "private val appBarConfiguration: AppBarConfiguration by lazy {\n",
    "    AppBarConfiguration(navController.graph)\n",
    "}"
   ]
  },
  {
   "cell_type": "markdown",
   "id": "b4c4534c-b43a-4a54-b6f2-9395c731ccab",
   "metadata": {},
   "source": [
    "oraz w metodzie `onCreate`"
   ]
  },
  {
   "cell_type": "code",
   "execution_count": null,
   "id": "afd4d8c2-272f-4eb1-a0fc-d5ada3f0377a",
   "metadata": {},
   "outputs": [],
   "source": [
    "setupActionBarWithNavController(navController, appBarConfiguration)"
   ]
  },
  {
   "cell_type": "markdown",
   "id": "4e2e8566-cfd4-41fb-a1a0-ee2d17ef4d5e",
   "metadata": {},
   "source": [
    "Musimy również połączyć layout menu zdefiniowany w pliku `actionbar_menu` z `ActionBar` - robimy do w klasie `MainActivity` nadpisując metodę `onCreateOptionsMenu`"
   ]
  },
  {
   "cell_type": "code",
   "execution_count": null,
   "id": "bf3ef30f-9b5e-40aa-b4b2-90dc232d2f65",
   "metadata": {},
   "outputs": [],
   "source": [
    "override fun onCreateOptionsMenu(menu: Menu): Boolean {\n",
    "    menuInflater.inflate(R.menu.actionbar_menu, menu)\n",
    "    return super.onCreateOptionsMenu(menu)\n",
    "}"
   ]
  },
  {
   "cell_type": "markdown",
   "id": "417edb4d-21d6-4fa0-85ea-a94a237f111a",
   "metadata": {},
   "source": [
    "Kolejnym krokiem jest dodanie możliwości nawigacji przy kliknięciu wybranej opcji - to wykonujemy nadpisując metodę `onOptionsItemSelected` w klasie `MainActivity`"
   ]
  },
  {
   "cell_type": "code",
   "execution_count": null,
   "id": "b055b453-784e-41e2-b3a3-7edc99ee30f6",
   "metadata": {},
   "outputs": [],
   "source": [
    "override fun onOptionsItemSelected(item: MenuItem): Boolean {\n",
    "    return item.onNavDestinationSelected(navController)\n",
    "            || super.onOptionsItemSelected(item)\n",
    "}"
   ]
  },
  {
   "cell_type": "markdown",
   "id": "ba5bbd5c-012c-498e-886b-b045cccdb60c",
   "metadata": {},
   "source": [
    "Ostatnim elementem będzie umożliwienie powrotu z `SettingsFragment` do `HomeFragment` przez przycisk powrotu w aplikacji - w tym celu nadpisujemy metodę `onSupportNavigateUp` w klasie `MainActivity`"
   ]
  },
  {
   "cell_type": "code",
   "execution_count": null,
   "id": "dc498cf1-e7de-457f-b475-aca9e0c9e6bc",
   "metadata": {},
   "outputs": [],
   "source": [
    "override fun onSupportNavigateUp(): Boolean {\n",
    "    return navController.navigateUp(appBarConfiguration)\n",
    "            || super.onSupportNavigateUp()\n",
    "}"
   ]
  },
  {
   "cell_type": "markdown",
   "id": "ce4dd149-3164-4d72-b98a-af7ecff3579d",
   "metadata": {},
   "source": [
    "Możemy przetestować aplikację"
   ]
  },
  {
   "cell_type": "markdown",
   "id": "999e9c89-ad72-40fa-b4aa-002f6425471d",
   "metadata": {},
   "source": [
    "<img src=\"https://media0.giphy.com/media/8mzEzkPcR5jBCVzjf5/giphy.gif?cid=790b761101e1065f89e55c786d7cc54428a8c153e97e7892&rid=giphy.gif&ct=g\" width=\"150\" />"
   ]
  },
  {
   "cell_type": "code",
   "execution_count": null,
   "id": "10191d6e-f375-43a9-ad0a-d600acfd9ed3",
   "metadata": {},
   "outputs": [],
   "source": []
  }
 ],
 "metadata": {
  "kernelspec": {
   "display_name": "Kotlin",
   "language": "kotlin",
   "name": "kotlin"
  },
  "language_info": {
   "codemirror_mode": "text/x-kotlin",
   "file_extension": ".kt",
   "mimetype": "text/x-kotlin",
   "name": "kotlin",
   "nbconvert_exporter": "",
   "pygments_lexer": "kotlin",
   "version": "1.6.20-dev-6372"
  }
 },
 "nbformat": 4,
 "nbformat_minor": 5
}
