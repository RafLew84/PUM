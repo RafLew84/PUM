{
 "cells": [
  {
   "cell_type": "markdown",
   "id": "a007f898-bea3-4455-9d79-45eb2178a1f4",
   "metadata": {},
   "source": [
    "## 5.2 ViewPager2 - FragmentStateAdapter"
   ]
  },
  {
   "cell_type": "markdown",
   "id": "7548de63-2ba0-4aa0-8534-df1d8cea6df9",
   "metadata": {},
   "source": [
    "W tej aplikacji wykorzystamy `ViewPager2` z `FragmentStateAdapter` do przełączania się pomiędzy fragmentami"
   ]
  },
  {
   "cell_type": "markdown",
   "id": "33f3681d-688c-4f12-b5e7-c84e7ecfc019",
   "metadata": {},
   "source": [
    "<img src=\"https://media1.giphy.com/media/wliEyLAjczpotTaO2G/giphy.gif?cid=790b7611c738cd8544979998f3a67fceb1f27b20d4a9e363&rid=giphy.gif&ct=g\" width=\"200\" />"
   ]
  },
  {
   "cell_type": "markdown",
   "id": "44d92602-fb4e-48c6-a2d8-3ccae6978b9f",
   "metadata": {},
   "source": [
    "W pierwszym kroku dodajmy `TemplateFragment`, który posłuży nam za szablon - wykorzystamy go cztery razy do utworzenia czterech ekranów."
   ]
  },
  {
   "cell_type": "code",
   "execution_count": null,
   "id": "7e009852-591d-4927-8061-7c8bd2782512",
   "metadata": {},
   "outputs": [],
   "source": [
    "public class TemplateFragment extends Fragment {\n",
    "\n",
    "    private final int position;\n",
    "\n",
    "    public TemplateFragment(int position){\n",
    "        super();\n",
    "        this.position = position;\n",
    "    }\n",
    "\n",
    "\n",
    "    @Override\n",
    "    public View onCreateView(LayoutInflater inflater, ViewGroup container,\n",
    "                             Bundle savedInstanceState) {\n",
    "        // Inflate the layout for this fragment\n",
    "        return inflater.inflate(R.layout.fragment_template, container, false);\n",
    "    }\n",
    "\n",
    "    @Override\n",
    "    public void onViewCreated(@NonNull View view, @Nullable Bundle savedInstanceState) {\n",
    "        super.onViewCreated(view, savedInstanceState);\n",
    "        TextView textView = view.findViewById(R.id.textView);\n",
    "        textView.setText(String.format(Locale.UK, \"FRAGMENT %d\", position));\n",
    "    }\n",
    "}"
   ]
  },
  {
   "cell_type": "markdown",
   "id": "33d22a60-0062-48ad-b9f1-6bf3ef099d4c",
   "metadata": {},
   "source": [
    "```xml\n",
    "<?xml version=\"1.0\" encoding=\"utf-8\"?>\n",
    "<FrameLayout xmlns:android=\"http://schemas.android.com/apk/res/android\"\n",
    "    xmlns:tools=\"http://schemas.android.com/tools\"\n",
    "    android:layout_width=\"match_parent\"\n",
    "    android:layout_height=\"match_parent\"\n",
    "    tools:context=\".TemplateFragment\">\n",
    "\n",
    "\n",
    "    <TextView\n",
    "        android:id=\"@+id/textView\"\n",
    "        android:layout_width=\"match_parent\"\n",
    "        android:layout_height=\"match_parent\"\n",
    "        android:textSize=\"36sp\"\n",
    "        android:gravity=\"center\"\n",
    "        android:text=\"FRAGMENT\" />\n",
    "\n",
    "</FrameLayout>\n",
    "```\n",
    "\n",
    "Jak widzimy layout zawiera tylko jedno pole `TextView` na którym będziemy wyświetlać nazwę \"Fragment\", wraz z jego pozycją w `FragmentStateAdapter`. Pozycję przekażemy w konstruktorze.\n",
    "\n",
    "Przejdźmy do utworzenia `FragmentStateAdapter` - podobnie jak w przypadku `RecyclerView`, `ViewPager` wymaga adaptera do poprawnego wyświetlania danych. Nasza klasa `PagerAdapter` musi rozszerzać klasę `FragemntStateAdapter`"
   ]
  },
  {
   "cell_type": "code",
   "execution_count": null,
   "id": "eecd6ac7-338c-4ff1-a679-6ea9358e67ca",
   "metadata": {},
   "outputs": [],
   "source": [
    "public class PagerAdapter extends FragmentStateAdapter {}"
   ]
  },
  {
   "cell_type": "markdown",
   "id": "6e78dc72-cd19-4562-ad07-ef107c816063",
   "metadata": {},
   "source": [
    "W odróżnieniu od `RecyclerView.Adapter` tutaj musimy zaimplementować tylko dwie metody. Pierwszą jest `createFragment` która zwraca fragment na odpowiedniej pozycji. Drugą metodą jest `getItemCount` zwracająca liczbę elementów - jest to metoda pochodząca z klasy `RecyclerView.Adapter`, którą `FragmentStateAdapter` rozszerza."
   ]
  },
  {
   "cell_type": "code",
   "execution_count": null,
   "id": "822a66c7-9629-467d-9d09-96f4bd9c3ed8",
   "metadata": {},
   "outputs": [],
   "source": [
    "public class PagerAdapter extends FragmentStateAdapter {\n",
    "\n",
    "    @NonNull\n",
    "    @Override\n",
    "    public Fragment createFragment(int position) {\n",
    "    }\n",
    "\n",
    "    @Override\n",
    "    public int getItemCount() {\n",
    "    }\n",
    "}"
   ]
  },
  {
   "cell_type": "markdown",
   "id": "432863a6-148c-4735-9f3a-e79143d6bef8",
   "metadata": {},
   "source": [
    "Zacznijmy od konstruktora - w tym przykładzie będziemy umieszczać `ViewPager` bezpośrednio w `MainActivity`, więc parametrem konstruktora będzie `FragmentActivity` - jeżeli chcemy umieścić go we fragmencie, może przyjmować `Fragment`."
   ]
  },
  {
   "cell_type": "code",
   "execution_count": null,
   "id": "a9f5e66e-c9a4-4587-a03c-296e2ec6a214",
   "metadata": {},
   "outputs": [],
   "source": [
    "public PagerAdapter(@NonNull FragmentActivity fragmentActivity) {\n",
    "    super(fragmentActivity);\n",
    "}"
   ]
  },
  {
   "cell_type": "markdown",
   "id": "1e7c5c13-6307-4eaa-80b2-dc082d5fdb1d",
   "metadata": {},
   "source": [
    "Metoda `createFragment` będzie nam zwracać instancję `TemplateFragment`, przez argument przekażemy pozycję która później zostanie wyświetlona w `TextView`"
   ]
  },
  {
   "cell_type": "code",
   "execution_count": null,
   "id": "cc1e77a0-c6ac-45cc-8109-e53d80d5f8ef",
   "metadata": {},
   "outputs": [],
   "source": [
    "@NonNull\n",
    "@Override\n",
    "public Fragment createFragment(int position) {\n",
    "    return new TemplateFragment(position);\n",
    "}"
   ]
  },
  {
   "cell_type": "markdown",
   "id": "e3bdf4e4-4f64-4537-a26f-034185b7a3b2",
   "metadata": {},
   "source": [
    "Metoda `getItemCount` zwraca nam liczbę elementów, tutaj będzie ona przechowywana w klasie `MainActivity`"
   ]
  },
  {
   "cell_type": "code",
   "execution_count": null,
   "id": "9d8de7be-2873-439f-8f56-d9eb65d71201",
   "metadata": {},
   "outputs": [],
   "source": [
    "@Override\n",
    "public int getItemCount() {\n",
    "    return MainActivity.num;\n",
    "}"
   ]
  },
  {
   "cell_type": "code",
   "execution_count": null,
   "id": "8f13da12-dc12-4e51-b468-9475b5342aef",
   "metadata": {},
   "outputs": [],
   "source": [
    "public class MainActivity extends AppCompatActivity {\n",
    "\n",
    "    public static final int num = 4;\n",
    "    \n",
    "    ...\n",
    "}"
   ]
  },
  {
   "cell_type": "markdown",
   "id": "5c2d8bfd-a7b1-479a-ac3c-9e411aa78c04",
   "metadata": {},
   "source": [
    "Dodajmy `ViewPager` do layoutu głównej aktywności\n",
    "\n",
    "```xml\n",
    "<?xml version=\"1.0\" encoding=\"utf-8\"?>\n",
    "<androidx.constraintlayout.widget.ConstraintLayout xmlns:android=\"http://schemas.android.com/apk/res/android\"\n",
    "    xmlns:app=\"http://schemas.android.com/apk/res-auto\"\n",
    "    xmlns:tools=\"http://schemas.android.com/tools\"\n",
    "    android:layout_width=\"match_parent\"\n",
    "    android:layout_height=\"match_parent\"\n",
    "    tools:context=\".MainActivity\">\n",
    "\n",
    "    <androidx.viewpager2.widget.ViewPager2\n",
    "        android:id=\"@+id/viewPager\"\n",
    "        android:layout_width=\"match_parent\"\n",
    "        android:layout_height=\"match_parent\"\n",
    "        app:layout_constraintBottom_toBottomOf=\"parent\"\n",
    "        app:layout_constraintEnd_toEndOf=\"parent\"\n",
    "        app:layout_constraintStart_toStartOf=\"parent\"\n",
    "        app:layout_constraintTop_toTopOf=\"parent\" />\n",
    "</androidx.constraintlayout.widget.ConstraintLayout>\n",
    "```\n",
    "\n",
    "Następnie w metodzie `onCreate` klasy `MainActivity` utworzymy `ViewPager` oraz połączymy z `PagerAdapter` dokładnie w taki sam sposób jak w przypadku `RecyclerView`."
   ]
  },
  {
   "cell_type": "code",
   "execution_count": null,
   "id": "6ddecb94-4bc3-4977-a9ed-f456337f3e11",
   "metadata": {},
   "outputs": [],
   "source": [
    "public class MainActivity extends AppCompatActivity {\n",
    "\n",
    "    public static final int num = 4;\n",
    "\n",
    "    @Override\n",
    "    protected void onCreate(Bundle savedInstanceState) {\n",
    "        super.onCreate(savedInstanceState);\n",
    "        setContentView(R.layout.activity_main);\n",
    "\n",
    "        ViewPager2 viewPager2 = findViewById(R.id.viewPager);\n",
    "        PagerAdapter adapter = new PagerAdapter(this);\n",
    "        viewPager2.setAdapter(adapter);\n",
    "    }\n",
    "}"
   ]
  },
  {
   "cell_type": "markdown",
   "id": "60559a1d-86ae-4231-8637-67796fcbba40",
   "metadata": {},
   "source": [
    "Możemy przetestować aplikację"
   ]
  },
  {
   "cell_type": "markdown",
   "id": "d758cf6b-23e9-4a9c-b65f-5e82c1c5248c",
   "metadata": {},
   "source": [
    "<img src=\"https://media1.giphy.com/media/wliEyLAjczpotTaO2G/giphy.gif?cid=790b7611c738cd8544979998f3a67fceb1f27b20d4a9e363&rid=giphy.gif&ct=g\" width=\"150\" />"
   ]
  },
  {
   "cell_type": "code",
   "execution_count": null,
   "id": "57469516-0c1a-4954-bddb-295f79ec157b",
   "metadata": {},
   "outputs": [],
   "source": []
  }
 ],
 "metadata": {
  "kernelspec": {
   "display_name": "Java",
   "language": "java",
   "name": "java"
  },
  "language_info": {
   "codemirror_mode": "java",
   "file_extension": ".jshell",
   "mimetype": "text/x-java-source",
   "name": "Java",
   "pygments_lexer": "java",
   "version": "17+35-2724"
  }
 },
 "nbformat": 4,
 "nbformat_minor": 5
}
