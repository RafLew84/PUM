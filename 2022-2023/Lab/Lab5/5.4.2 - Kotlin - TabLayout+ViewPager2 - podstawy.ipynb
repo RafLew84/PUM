{
 "cells": [
  {
   "cell_type": "markdown",
   "id": "97ae0cc8-fba8-418c-8967-0e4e210ad22d",
   "metadata": {
    "tags": []
   },
   "source": [
    "## 5.4 TabLayout - ViewPager2"
   ]
  },
  {
   "cell_type": "markdown",
   "id": "b78e05e5-24d0-4f4d-8ae9-2e123b701e83",
   "metadata": {},
   "source": [
    "Obok `Bottom Navigation` popularnym sposobem nawigacji w aplikacji jest zastosowanie `TabLayout` z `ViewPager2` - czyli nawigacja przez zakładki."
   ]
  },
  {
   "cell_type": "markdown",
   "id": "1b8a7b43-900f-436d-995d-a0cf923e4e95",
   "metadata": {},
   "source": [
    "<img src=\"https://media3.giphy.com/media/LlWHV0R2wtX74BgAp4/giphy.gif?cid=790b76117b4e012450c3250923ee6ccfc48e476446e3c919&rid=giphy.gif&ct=g\" width=\"200\" />"
   ]
  },
  {
   "cell_type": "markdown",
   "id": "d6d1c34a-3992-4926-8f40-589c13ede2f7",
   "metadata": {},
   "source": [
    "Tutaj wykorzystamy `ViewPager` z `FragmentStateAdapter` - i jak poprzednio zrobimy tylko jeden fragment (`TemplateFragment`) na którym będziemy modyfikować tekst pola `TextView` w zależności od pozycji. Rozpocznijmy od dodania fragmentu"
   ]
  },
  {
   "cell_type": "code",
   "execution_count": null,
   "id": "4296a921-d3fc-4ab0-9da7-f1273a5fca94",
   "metadata": {},
   "outputs": [],
   "source": [
    "class TemplateFragment : Fragment() {\n",
    "    override fun onCreateView(\n",
    "        inflater: LayoutInflater, container: ViewGroup?,\n",
    "        savedInstanceState: Bundle?\n",
    "    ): View? {\n",
    "        // Inflate the layout for this fragment\n",
    "        return inflater.inflate(R.layout.fragment_template, container, false)\n",
    "    }\n",
    "}"
   ]
  },
  {
   "cell_type": "code",
   "execution_count": null,
   "id": "96d83d97-887f-422f-be72-0169de5ae713",
   "metadata": {},
   "outputs": [],
   "source": [
    "<?xml version=\"1.0\" encoding=\"utf-8\"?>\n",
    "<FrameLayout xmlns:android=\"http://schemas.android.com/apk/res/android\"\n",
    "    xmlns:tools=\"http://schemas.android.com/tools\"\n",
    "    android:layout_width=\"match_parent\"\n",
    "    android:layout_height=\"match_parent\"\n",
    "    tools:context=\".TemplateFragment\">\n",
    "\n",
    "\n",
    "    <TextView\n",
    "        android:id=\"@+id/textView\"\n",
    "        android:layout_width=\"match_parent\"\n",
    "        android:layout_height=\"match_parent\"\n",
    "        android:textSize=\"36sp\"\n",
    "        android:gravity=\"center\"\n",
    "        android:text=\"FRAGMENT\" />\n",
    "\n",
    "</FrameLayout>"
   ]
  },
  {
   "cell_type": "markdown",
   "id": "08465111-895b-431c-8284-5e1ff8c9350a",
   "metadata": {},
   "source": [
    "Tym razem nie przez konstruktor, a przez `Bundle` prześlemy pozycję do fragmentu. Rozpocznijmy od implementacji `PagerAdapter`. Ponownie mój `ViewPager` będzie znajdował się bezpośrednio w `MainActivity`, więc wykorzystam konstruktor z paramterem `FragmentActivity`"
   ]
  },
  {
   "cell_type": "code",
   "execution_count": null,
   "id": "9472ecd1-169a-40d3-aef7-29ba908a3698",
   "metadata": {},
   "outputs": [],
   "source": [
    "class PagerAdapter(fragmentActivity: FragmentActivity) : FragmentStateAdapter(fragmentActivity) {}"
   ]
  },
  {
   "cell_type": "markdown",
   "id": "badfa6be-d205-4e3a-92dd-110c057cafaa",
   "metadata": {},
   "source": [
    "Chcę utworzyć cztery elementy, więc `getItemCount` zwróci 4"
   ]
  },
  {
   "cell_type": "code",
   "execution_count": null,
   "id": "c15ea9f9-6d14-409c-87ef-a8bfa7afc82c",
   "metadata": {},
   "outputs": [],
   "source": [
    "override fun getItemCount(): Int = 4"
   ]
  },
  {
   "cell_type": "markdown",
   "id": "efbefae1-d3da-4e84-aa90-bfc7731a3466",
   "metadata": {},
   "source": [
    "W metodzie `createFragment` chcę utworzyć instancję `TemplateFragment`, oraz przez `Bundle` przekazać jego pozycję w `ViewPager`."
   ]
  },
  {
   "cell_type": "code",
   "execution_count": null,
   "id": "ecbe0fae-f583-49a4-80ae-84b94b389da1",
   "metadata": {},
   "outputs": [],
   "source": [
    "const val arg =\"key\"\n",
    "\n",
    "override fun createFragment(position: Int): Fragment {\n",
    "    val fragment = TemplateFragment()\n",
    "    fragment.arguments = Bundle().apply {\n",
    "        putInt(arg, position + 1)\n",
    "    }"
   ]
  },
  {
   "cell_type": "markdown",
   "id": "b532c95e-cd49-4541-9890-b405c0187b8f",
   "metadata": {},
   "source": [
    "Przejdźmy do implementacji `TemplateFragment`, w metodzie `onViewCreated` odbieramy przekazany argument wywołując metodę `getArguments` i ustawiam text pola `TextView`"
   ]
  },
  {
   "cell_type": "code",
   "execution_count": null,
   "id": "660886f2-bee2-4326-a7db-9cb2c24bad59",
   "metadata": {},
   "outputs": [],
   "source": [
    "@SuppressLint(\"SetTextI18n\")\n",
    "override fun onViewCreated(view: View, savedInstanceState: Bundle?) {\n",
    "    super.onViewCreated(view, savedInstanceState)\n",
    "    arguments?.takeIf { it.containsKey(arg) }?.apply {\n",
    "        view.findViewById<TextView>(R.id.textView).text = \"Fragment ${getInt(arg)}\"\n",
    "    }\n",
    "}"
   ]
  },
  {
   "cell_type": "markdown",
   "id": "33c07829-fb91-4cfc-8290-c740388f99a2",
   "metadata": {},
   "source": [
    "Przejdźmy do layoutu głównej aktywności i dodajmy `ViewPager` oraz `TabLayout`"
   ]
  },
  {
   "cell_type": "code",
   "execution_count": null,
   "id": "01b0b9db-ab96-4842-9902-291ddf893439",
   "metadata": {},
   "outputs": [],
   "source": [
    "<LinearLayout xmlns:android=\"http://schemas.android.com/apk/res/android\"\n",
    "    xmlns:app=\"http://schemas.android.com/apk/res-auto\"\n",
    "    xmlns:tools=\"http://schemas.android.com/tools\"\n",
    "    android:layout_width=\"match_parent\"\n",
    "    android:layout_height=\"match_parent\"\n",
    "    android:orientation=\"vertical\"\n",
    "    tools:context=\".MainActivity\">\n",
    "\n",
    "    <com.google.android.material.tabs.TabLayout\n",
    "        android:id=\"@+id/tabLayout\"\n",
    "        android:layout_width=\"match_parent\"\n",
    "        android:layout_height=\"wrap_content\" />\n",
    "\n",
    "    <androidx.viewpager2.widget.ViewPager2\n",
    "        android:id=\"@+id/viewPager\"\n",
    "        android:layout_width=\"match_parent\"\n",
    "        android:layout_height=\"0dp\"\n",
    "        android:layout_weight=\"1\"/>\n",
    "\n",
    "</LinearLayout>"
   ]
  },
  {
   "cell_type": "markdown",
   "id": "da3cccaf-8c96-48b5-89f6-83bf74ca771c",
   "metadata": {},
   "source": [
    "W metodzie `onCreate` klasy `MainActivity` wpierw tworzymy `ViewPager` i ustawiamy `PagerAdapter`"
   ]
  },
  {
   "cell_type": "code",
   "execution_count": null,
   "id": "1e5a8250-b00d-4326-95a7-5aaef5707fd6",
   "metadata": {},
   "outputs": [],
   "source": [
    "val viewPager2 = findViewById<ViewPager2>(R.id.viewPager)\n",
    "viewPager2.apply {adapter = PagerAdapter(this@MainActivity)}"
   ]
  },
  {
   "cell_type": "markdown",
   "id": "c4529a4c-3e07-40eb-b241-92f121409a99",
   "metadata": {},
   "source": [
    "Następnie tworzymy `TabLayout` i łączymy go z `ViewPager` przez utworzenie instancji `TabLayoutMediator` i wywołanie metody `attach`"
   ]
  },
  {
   "cell_type": "code",
   "execution_count": null,
   "id": "09ed625e-8a1e-4d60-b6b8-592c6d55fc45",
   "metadata": {},
   "outputs": [],
   "source": [
    "val tabLayout: TabLayout = findViewById(R.id.tabLayout)\n",
    "TabLayoutMediator(tabLayout, viewPager2){ tab, position ->\n",
    "    tab.text = \"Fragment ${position + 1}\"\n",
    "}.attach()"
   ]
  },
  {
   "cell_type": "markdown",
   "id": "5dbf8ada-a68c-4b70-9ebc-e8db0cf20e8c",
   "metadata": {},
   "source": [
    "`TabLayoutMediator` przyjmuje trzy paramtery:\n",
    "- instancję `TabLayout`\n",
    "- instancję `ViewPager`\n",
    "- `TabLayoutMediator.TabConfigurationStrategy` - interfejs który musi zostać zaimplementowany w celu ustawienia tekstu oraz stylu zakładek oraz"
   ]
  },
  {
   "cell_type": "markdown",
   "id": "6fca861e-5b21-48cb-866b-5ac8dd52c027",
   "metadata": {},
   "source": [
    "Możemy przetestować aplikację"
   ]
  },
  {
   "cell_type": "markdown",
   "id": "2fb16f1a-5e4f-4d46-b517-37495717a1f0",
   "metadata": {},
   "source": [
    "<img src=\"https://media3.giphy.com/media/LlWHV0R2wtX74BgAp4/giphy.gif?cid=790b76117b4e012450c3250923ee6ccfc48e476446e3c919&rid=giphy.gif&ct=g\" width=\"150\" />"
   ]
  }
 ],
 "metadata": {
  "kernelspec": {
   "display_name": "Kotlin",
   "language": "kotlin",
   "name": "kotlin"
  },
  "language_info": {
   "codemirror_mode": "text/x-kotlin",
   "file_extension": ".kt",
   "mimetype": "text/x-kotlin",
   "name": "kotlin",
   "nbconvert_exporter": "",
   "pygments_lexer": "kotlin",
   "version": "1.8.0-RC"
  }
 },
 "nbformat": 4,
 "nbformat_minor": 5
}
