{
 "cells": [
  {
   "cell_type": "markdown",
   "id": "acb73e4c-4730-45fe-b447-9f2194109626",
   "metadata": {},
   "source": [
    "## 5.5 MyFinance"
   ]
  },
  {
   "cell_type": "markdown",
   "id": "a8961f54-a771-439f-81ea-e15d8c29c49c",
   "metadata": {},
   "source": [
    "Aplikacja MyFinance wykorzystuje `TabLayout Navigation` z `ViewPager2`. Dane dostarczymy jak w poprzednich przykładach przez obiekt `dataProvider` zawierający hardcodowane przykładowe pozycje. Aplikacja zawiera trzy ekrany pokazujące stan oszczędności oraz rachunki - ekran główny zawiera podsumowanie. Dodamy customową animację do `TabLayout.Tab` oraz `DonutChart` podsumowujący stan naszych finansów oraz kilka elementów urozmaicających wygląd naszej aplikacji. Sam layout aplikacji bazujev na przykładzie z **Android Open Project** [link](https://github.com/android/compose-samples/tree/main/Rally)"
   ]
  },
  {
   "cell_type": "markdown",
   "id": "356b2b66-731b-40a1-a5c0-a15e0390e894",
   "metadata": {},
   "source": [
    "<table><tr><td><img src=\"https://media1.giphy.com/media/49RzyXBmRBa59Wi47n/giphy.gif?cid=790b76111b9b9991bd4197bf8d7295e517603d04f8ba2992&rid=giphy.gif&ct=g\" width=\"200\" /></td><td><img src=\"https://media1.giphy.com/media/zbqykvBYncTRQLCAja/giphy.gif?cid=790b7611d47e3d6d46e7b736ac29fe3cc9bc281aed07c1c0&rid=giphy.gif&ct=g\" width=\"200\" /></td><td><img src=\"https://media3.giphy.com/media/BbcDIUyV6IodX2yGVx/giphy.gif?cid=790b7611d1bf2abf7deacc8ad5a71a6a13adfbc9f4344954&rid=giphy.gif&ct=g\" width=\"200\" /></td></tr></table>"
   ]
  },
  {
   "cell_type": "markdown",
   "id": "e1cf7335-a071-45c1-b0a8-80cecb29d765",
   "metadata": {},
   "source": [
    "Nasza aplikacja będzie posiadała zdefiniowany layout tylko w orientacji `portrait`, więc zablookujemy możliwość zmiany w plik `AndroidManifest.xml` - do aktywności dodamy\n",
    "\n",
    "```xml\n",
    "android:screenOrientation=\"portrait\"\n",
    "```"
   ]
  },
  {
   "cell_type": "markdown",
   "id": "ad5874af-51cd-4bca-afc0-1c8e4efbac80",
   "metadata": {},
   "source": [
    "### **TabLayout i ViewPager2**"
   ]
  },
  {
   "cell_type": "markdown",
   "id": "8ab2ca0b-6d0d-41b2-ab90-e68feb67230d",
   "metadata": {},
   "source": [
    "Aplikację rozpoczniemy od dodania nawigacji. Dodajmy trzy fragmenty (`BlankFragment`) - `OverviewFragment`, `AccountsFragment`, `BillsFragment`"
   ]
  },
  {
   "cell_type": "code",
   "execution_count": null,
   "id": "20e640f1-d078-44b3-899b-f65b1286f3d2",
   "metadata": {},
   "outputs": [],
   "source": [
    "class AccountsFragment : Fragment() {\n",
    "    override fun onCreateView(\n",
    "        inflater: LayoutInflater, container: ViewGroup?,\n",
    "        savedInstanceState: Bundle?\n",
    "    ): View? {\n",
    "        // Inflate the layout for this fragment\n",
    "        return inflater.inflate(R.layout.fragment_accounts, container, false)\n",
    "    }\n",
    "}\n",
    "\n",
    "class BillsFragment : Fragment() {\n",
    "    override fun onCreateView(\n",
    "        inflater: LayoutInflater, container: ViewGroup?,\n",
    "        savedInstanceState: Bundle?\n",
    "    ): View? {\n",
    "        // Inflate the layout for this fragment\n",
    "        return inflater.inflate(R.layout.fragment_bills, container, false)\n",
    "    }\n",
    "}\n",
    "\n",
    "class OverviewFragment : Fragment() {\n",
    "\n",
    "    override fun onCreateView(\n",
    "        inflater: LayoutInflater, container: ViewGroup?,\n",
    "        savedInstanceState: Bundle?\n",
    "    ): View? {\n",
    "        // Inflate the layout for this fragment\n",
    "        return inflater.inflate(R.layout.fragment_overview, container, false)\n",
    "    }\n",
    "}"
   ]
  },
  {
   "cell_type": "markdown",
   "id": "0604239d-6756-43a9-a7b5-17712fa95da5",
   "metadata": {},
   "source": [
    "W layoutach chwilowo zmieniam tylko text pola `TextView` na nazwę fragmentu. Ponieważ nasza aplikacja będzie posiadać tylko jeden motyw usuwamy plik `themes.xml(night)` do pliku `colors.xml` dodajemy kilka kolorów"
   ]
  },
  {
   "cell_type": "code",
   "execution_count": null,
   "id": "d3802e92-3ec8-4aff-8983-7b7c0ee46ba4",
   "metadata": {},
   "outputs": [],
   "source": [
    "<color name=\"green_500\">#FF1EB980</color>\n",
    "<color name=\"dark_blue_900\">#FF26282F</color>\n",
    "<color name=\"dark_blue_500\">#FF004940</color>"
   ]
  },
  {
   "cell_type": "markdown",
   "id": "6de77a0a-4422-47f8-9ef4-e3915276b95c",
   "metadata": {},
   "source": [
    "Następnie modyfikujemy plik `themes.xml`"
   ]
  },
  {
   "cell_type": "code",
   "execution_count": null,
   "id": "6156306c-cb6d-4498-ac70-3fe7402c60b4",
   "metadata": {},
   "outputs": [],
   "source": [
    "<style name=\"Theme.MyFinanceAppKotlin\" parent=\"Theme.MaterialComponents.DayNight.NoActionBar\">\n",
    "    <!-- Primary brand color. -->\n",
    "    <item name=\"colorPrimary\">@color/dark_blue_500</item>\n",
    "    <item name=\"colorPrimaryVariant\">@color/dark_blue_900</item>\n",
    "    <item name=\"colorOnPrimary\">@color/teal_700</item>\n",
    "    <!-- Secondary brand color. -->\n",
    "    <item name=\"colorSecondary\">@color/teal_700</item>\n",
    "    <item name=\"colorSecondaryVariant\">@color/teal_200</item>\n",
    "    <item name=\"colorOnSecondary\">@color/white</item>\n",
    "    <!-- Status bar color. -->\n",
    "    <item name=\"android:statusBarColor\" tools:targetApi=\"l\">?attr/colorPrimaryVariant</item>\n",
    "    <!-- Customize your theme here. -->\n",
    "</style>"
   ]
  },
  {
   "cell_type": "markdown",
   "id": "267e9d2c-27ab-45c0-baac-8f85c2bc1e12",
   "metadata": {},
   "source": [
    "Aplikacja nie będzie wykorzystywać `ActionBar`, więc jako `parent` podajemy `NoActionBar`.\n",
    "\n",
    "Nasz `ViewPager2` dodamy bezpośrednio do `MainActivity` - zmodyfikujmy layout"
   ]
  },
  {
   "cell_type": "code",
   "execution_count": null,
   "id": "3a200e51-c871-45fa-9d92-4018c4d91896",
   "metadata": {},
   "outputs": [],
   "source": [
    "<?xml version=\"1.0\" encoding=\"utf-8\"?>\n",
    "<LinearLayout xmlns:android=\"http://schemas.android.com/apk/res/android\"\n",
    "    xmlns:app=\"http://schemas.android.com/apk/res-auto\"\n",
    "    xmlns:tools=\"http://schemas.android.com/tools\"\n",
    "    android:layout_width=\"match_parent\"\n",
    "    android:layout_height=\"match_parent\"\n",
    "    android:orientation=\"vertical\"\n",
    "    tools:context=\".MainActivity\">\n",
    "\n",
    "    <com.google.android.material.tabs.TabLayout\n",
    "        android:id=\"@+id/tabLayout\"\n",
    "        android:layout_width=\"match_parent\"\n",
    "        android:background=\"@color/dark_blue_900\"\n",
    "        app:tabTextColor=\"@color/white\"\n",
    "        android:layout_height=\"wrap_content\"\n",
    "        app:tabInlineLabel=\"true\"\n",
    "        app:tabIconTint=\"@color/teal_200\"\n",
    "        app:tabMode=\"fixed\"\n",
    "        app:tabGravity=\"start\"\n",
    "        app:tabMaxWidth=\"0dp\" />\n",
    "\n",
    "    <androidx.viewpager2.widget.ViewPager2\n",
    "        android:id=\"@+id/viewPager\"\n",
    "        android:layout_width=\"match_parent\"\n",
    "        android:layout_height=\"0dp\"\n",
    "        android:layout_weight=\"1\"/>\n",
    "\n",
    "</LinearLayout>"
   ]
  },
  {
   "cell_type": "markdown",
   "id": "5f700cf3-8719-474f-b8b9-2fc3f6cd2d0b",
   "metadata": {},
   "source": [
    "Kilka elementów zastosowanych w `TabLayout`\n",
    "- `tabMode` - sposób w jaki mają zostać wyświetlone zakładki\n",
    "    - `fixed` - tak jak zostaną podane, rozmiar zostanie automatycznie dostosowany\n",
    "    - `scrollable` - zakładki nie będą dokowane na całą szerokość ekranu, tylko kilka zostanie wyświetlonych - dostęp do niewidocznych użytkownik może uzyskać przez przewijanie\n",
    "- `tabGravity` - sposób rozmieszczenia zakładek\n",
    "- `tabMaxWidth` - ustawienie maksymalnej szerokości - `0dp` dostosowuje rozmiar zakładki do jej zawartości\n",
    "- `tabIconTint` - kolor wyświetlanej ikony\n",
    "- `tabInlineLabel` - ustawienie ikony i tekstu w rzędzie - przyjmuje `true` lub `false`\n",
    "\n",
    "`ViewPager2` zawiera `layout_height` ustawiony na `0dp` oraz `layout_weight = \"1\"` pozwala wypełnić pozostałą przestrzeń w `LinearLayout`\n",
    "\n",
    "Do pliku `build.gradle(Module)` w bloku `dependencies` dodajmy"
   ]
  },
  {
   "cell_type": "code",
   "execution_count": null,
   "id": "61eb5080-b268-4295-bae2-272d321898fb",
   "metadata": {},
   "outputs": [],
   "source": [
    "implementation \"androidx.viewpager2:viewpager2:1.0.0\""
   ]
  },
  {
   "cell_type": "markdown",
   "id": "c2ebad86-b1c6-4e7a-b5e4-09b4c6f6c05c",
   "metadata": {},
   "source": [
    "Po zsynchronizowaniu projektu dodajmy klasę `FinanceAdapter` do pliku `MainActivity`"
   ]
  },
  {
   "cell_type": "code",
   "execution_count": null,
   "id": "1f83829b-73ed-436a-a000-a20a8787924e",
   "metadata": {},
   "outputs": [],
   "source": [
    "class FinanceAdapter(fragmentActivity: FragmentActivity) \n",
    "    : FragmentStateAdapter(fragmentActivity) {\n",
    "    private val fragments = listOf(\n",
    "        OverviewFragment(), \n",
    "        AccountsFragment(), \n",
    "        BillsFragment())\n",
    "    override fun getItemCount(): Int = fragments.size\n",
    "    override fun createFragment(position: Int): Fragment = fragments[position]\n",
    "}"
   ]
  },
  {
   "cell_type": "markdown",
   "id": "8de9166f-40c9-4912-ac94-8940fc056114",
   "metadata": {},
   "source": [
    "Następnie utworzymy `ViewPager2` i `TabLayout` w metodzie `onCreate` głównej aktywności"
   ]
  },
  {
   "cell_type": "code",
   "execution_count": null,
   "id": "beecc26d-0495-40f4-bc83-91ccf8e9d1d2",
   "metadata": {},
   "outputs": [],
   "source": [
    "override fun onCreate(savedInstanceState: Bundle?) {\n",
    "    super.onCreate(savedInstanceState)\n",
    "    setContentView(R.layout.activity_main)\n",
    "\n",
    "    val viewPager2 = findViewById<ViewPager2>(R.id.viewPager)\n",
    "    viewPager2.apply {\n",
    "        adapter = FinanceAdapter(this@MainActivity)\n",
    "    }\n",
    "\n",
    "    val tabLayout: TabLayout = findViewById(R.id.tabLayout)\n",
    "    tabLayoutSetup(this, tabLayout, viewPager2)\n",
    "}"
   ]
  },
  {
   "cell_type": "markdown",
   "id": "f1e73e85-7213-4510-9d0d-24b8e33203a0",
   "metadata": {},
   "source": [
    "Następnym krokiem jest napisanie metody `tabLayoutSetup`, dodajmy do projektu nowy pakiet `util` i w nim utworzymy nowy plik `UiSetup`. Do pliku dodajmy tytuły naszych zakładek"
   ]
  },
  {
   "cell_type": "code",
   "execution_count": null,
   "id": "d1a3d4cc-6a5e-4074-b0ff-fa3daf2583ca",
   "metadata": {},
   "outputs": [],
   "source": [
    "private val tabTitles = listOf(\n",
    "    R.string.overview_name, \n",
    "    R.string.accounts_name, \n",
    "    R.string.bills_name)"
   ]
  },
  {
   "cell_type": "markdown",
   "id": "a09704d2-3048-49b3-b23f-0674b62740e7",
   "metadata": {},
   "source": [
    "I do pliku `strings.xml`"
   ]
  },
  {
   "cell_type": "code",
   "execution_count": null,
   "id": "673b1bce-b32b-4a54-b04e-ecbac3a2ca7f",
   "metadata": {},
   "outputs": [],
   "source": [
    "<string name=\"overview_name\">Overview</string>\n",
    "<string name=\"accounts_name\">Accounts</string>\n",
    "<string name=\"bills_name\">Bills</string>"
   ]
  },
  {
   "cell_type": "markdown",
   "id": "cc16619f-0834-46c7-a73b-21682abbadca",
   "metadata": {},
   "source": [
    "Dodajmy metodę `tabLayoutSetup` do pliku `UiSetup`"
   ]
  },
  {
   "cell_type": "code",
   "execution_count": null,
   "id": "30896088-c9cf-424c-b667-a70246b5cc4c",
   "metadata": {},
   "outputs": [],
   "source": [
    "fun tabLayoutSetup(context: Context, tabLayout: TabLayout, viewPager2: ViewPager2) {\n",
    "    setupTabLayoutMediator(context, tabLayout, viewPager2)\n",
    "}\n",
    "\n",
    "private fun setupTabLayoutMediator(\n",
    "    context: Context, \n",
    "    tabLayout: TabLayout, \n",
    "    viewPager2: ViewPager2) {\n",
    "    TabLayoutMediator(tabLayout, viewPager2) { tab, position ->\n",
    "        tab.apply {text = context.getString(tabTitles[position])}\n",
    "    }.attach()\n",
    "}"
   ]
  },
  {
   "cell_type": "markdown",
   "id": "f157a237-e105-4ad0-974b-358ec5f655fd",
   "metadata": {},
   "source": [
    "Możemy przetestować aplikację"
   ]
  },
  {
   "cell_type": "markdown",
   "id": "737d1189-7984-42ae-8543-0e98af95b1fc",
   "metadata": {},
   "source": [
    "<img src=\"https://media1.giphy.com/media/9IdIFNbyyewccfTTjG/giphy.gif?cid=790b76113f11b618eb6ce26cdf2e17faf07d98203cdf7e21&rid=giphy.gif&ct=g\" width=\"150\" />"
   ]
  },
  {
   "cell_type": "markdown",
   "id": "99120c41-6224-49e9-9bff-67e0c27063b5",
   "metadata": {},
   "source": [
    "Zmodyfikujmy metodę `tabLayoutSetup`"
   ]
  },
  {
   "cell_type": "code",
   "execution_count": null,
   "id": "5cd1c65b-8351-4963-bde4-3e6d9e592dd7",
   "metadata": {},
   "outputs": [],
   "source": [
    "private val tabTitles = listOf(\n",
    "    R.string.overview_name, \n",
    "    R.string.accounts_name,\n",
    "    R.string.bills_name)\n",
    "private val tabIcons = listOf(\n",
    "    R.drawable.ic_overview, \n",
    "    R.drawable.ic_accounts, \n",
    "    R.drawable.ic_bills)\n",
    "\n",
    "fun tabLayoutSetup(context: Context, tabLayout: TabLayout, viewPager2: ViewPager2) {\n",
    "    setupTabLayoutMediator(context, tabLayout, viewPager2)\n",
    "}\n",
    "\n",
    "private fun setupTabLayoutMediator(\n",
    "    context: Context, \n",
    "    tabLayout: TabLayout, \n",
    "    viewPager2: ViewPager2) {\n",
    "    TabLayoutMediator(tabLayout, viewPager2) { tab, position ->\n",
    "        tab.icon = ContextCompat.getDrawable(context, tabIcons[position])\n",
    "        tab.apply {\n",
    "            text = context.getString(tabTitles[position])\n",
    "            icon?.setTint(Color.WHITE)\n",
    "        }\n",
    "    }.attach()\n",
    "}"
   ]
  },
  {
   "cell_type": "markdown",
   "id": "5d8bfc3f-5cb1-40ba-b351-653176388913",
   "metadata": {},
   "source": [
    "Metoda `icon?.setTint` pozwala zmienić kolor grafiki wektorowej - ustawiamy na białą. Nasza aplikacja teraz wygląda następująco."
   ]
  },
  {
   "cell_type": "markdown",
   "id": "3ea41477-7788-400b-b98f-e7b21916427f",
   "metadata": {},
   "source": [
    "<img src=\"https://media0.giphy.com/media/gGFILN8lnvSsCIacNt/giphy.gif?cid=790b7611d2de0256b614247faddd193614ba76fa00201eec&rid=giphy.gif&ct=g\" width=\"150\" />"
   ]
  },
  {
   "cell_type": "markdown",
   "id": "eba492a3-374b-4bbc-8bf6-1173d95e74b3",
   "metadata": {},
   "source": [
    "Chcemy pokazać tylko ikonę nie zaznaczonej zakładki oraz ikonę z tekstem wybranej zakładce. Dodajmy metodę `tabSelection` w której zaimplementujemy metody `addOnTabSelectedListener`. \n",
    "\n",
    "`TabSelectionListener` obsługuje tylko zdarzenia `onTabSelected`, `onTabUnselected` i `onTabReselected`. W pierwszych dwóch zmienimy tekst zakładki"
   ]
  },
  {
   "cell_type": "code",
   "execution_count": null,
   "id": "346cf1fe-6c6f-4eec-9547-027f321b31c8",
   "metadata": {},
   "outputs": [],
   "source": [
    "private val tabTitles = listOf(\n",
    "    R.string.overview_name, \n",
    "    R.string.accounts_name, \n",
    "    R.string.bills_name)\n",
    "private val tabIcons = listOf(\n",
    "    R.drawable.ic_overview, \n",
    "    R.drawable.ic_accounts, \n",
    "    R.drawable.ic_bills)\n",
    "\n",
    "fun tabLayoutSetup(context: Context, tabLayout: TabLayout, viewPager2: ViewPager2) {\n",
    "    setupTabLayoutMediator(context, tabLayout, viewPager2)\n",
    "    setupTabSelection(context, tabLayout)\n",
    "}\n",
    "\n",
    "private fun setupTabLayoutMediator(\n",
    "    context: Context, \n",
    "    tabLayout: TabLayout, \n",
    "    viewPager2: ViewPager2) {\n",
    "    TabLayoutMediator(tabLayout, viewPager2) { tab, position ->\n",
    "        tab.icon = ContextCompat.getDrawable(context, tabIcons[position])\n",
    "        tab.apply {\n",
    "            text = context.getString(tabTitles[position])\n",
    "            icon?.setTint(Color.WHITE)\n",
    "        }\n",
    "    }.attach()\n",
    "}\n",
    "\n",
    "private fun setupTabSelection(context: Context, tabLayout: TabLayout){\n",
    "    tabLayout.addOnTabSelectedListener(object : TabLayout.OnTabSelectedListener {\n",
    "        override fun onTabSelected(tab: TabLayout.Tab) {\n",
    "            tab.apply {\n",
    "                text = context.getString(tabTitles[tab.position])\n",
    "            }\n",
    "        }\n",
    "\n",
    "        override fun onTabUnselected(tab: TabLayout.Tab) {\n",
    "            tab.text = \"\"\n",
    "        }\n",
    "\n",
    "        override fun onTabReselected(tab: TabLayout.Tab) {}\n",
    "    })\n",
    "}"
   ]
  },
  {
   "cell_type": "markdown",
   "id": "64630903-408b-42ec-a96b-27ff18f4559d",
   "metadata": {},
   "source": [
    "<img src=\"https://media0.giphy.com/media/uzc9KIxaD4KinhS1GQ/giphy.gif?cid=790b7611153c63bbec947cab1bc09d6c638f7323bdc36e8c&rid=giphy.gif&ct=g\" width=\"150\" />"
   ]
  },
  {
   "cell_type": "markdown",
   "id": "b272c319-026d-4a15-b72d-4530c95f4418",
   "metadata": {},
   "source": [
    "Musimy jeszcze zainicjować w odpowiedni sposób zakładki. Zmodyfikujmy metodę `setupTabLayoutMediator`. Tekst i kolor ikony ustawimy tylko dla `position == 0`, co odpowiada ekranowi głównemu aplikacji."
   ]
  },
  {
   "cell_type": "code",
   "execution_count": null,
   "id": "bd30aab4-47e2-4929-b5f7-8cffe179aad0",
   "metadata": {},
   "outputs": [],
   "source": [
    "private fun setupTabLayoutMediator(\n",
    "    context: Context, \n",
    "    tabLayout: TabLayout, \n",
    "    viewPager2: ViewPager2) {\n",
    "    TabLayoutMediator(tabLayout, viewPager2) { tab, position ->\n",
    "        tab.icon = ContextCompat.getDrawable(context, tabIcons[position])\n",
    "        if (position == 0) tab.apply {\n",
    "            text = context.getString(tabTitles[position])\n",
    "            icon?.setTint(Color.WHITE)\n",
    "        }\n",
    "    }.attach()\n",
    "}"
   ]
  },
  {
   "cell_type": "markdown",
   "id": "933f52ea-189d-4f60-9844-e99adf3ee54d",
   "metadata": {},
   "source": [
    "<img src=\"https://media0.giphy.com/media/8wosma6sipcea16wxt/giphy.gif?cid=790b76114eedb95754c5e7f3b59ff15167d82c6bc0910831&rid=giphy.gif&ct=g\" width=\"150\" />"
   ]
  },
  {
   "cell_type": "markdown",
   "id": "af3e0fd8-6b60-44e5-ab49-40ef3e5e0cfb",
   "metadata": {},
   "source": [
    "Dodajmy customową animację do zakładek. Użyjemy prostego skalowania - niezaznaczona zakładka będzie wyświetlać tylko przeskalowaną (70%) ikonę. Dodajmy metodę `initialTabsSetup`"
   ]
  },
  {
   "cell_type": "code",
   "execution_count": null,
   "id": "3903b041-b7aa-46ae-b498-3b5e6230bc87",
   "metadata": {},
   "outputs": [],
   "source": [
    "private fun initialTabsSetup(viewGroup: ViewGroup, tabLayout: TabLayout){\n",
    "    for (i in 0 until viewGroup.childCount) {\n",
    "        if (i == tabLayout.selectedTabPosition) continue\n",
    "        val tab = viewGroup.getChildAt(i)\n",
    "        tab.scaleX = tabScaleLow\n",
    "        tab.scaleY = tabScaleLow\n",
    "    }\n",
    "}"
   ]
  },
  {
   "cell_type": "markdown",
   "id": "60981419-e785-45f4-ab88-6e175dc01d34",
   "metadata": {},
   "source": [
    "Skalować możemy tylko na obiektach `View` - bezpośrednio nie możemy tego zrobić na `TabLayout.Tab`, ponieważ nie rozszerza on `View`. Więc jako parametr metody podamy `ViewGroup`, który będzie naszym zawierał nasze zakładki. Chcemy skalować wszystkie elementy poza aktualnie zaznaczonym, dlatego mamy warunek `if (...) continue`. Następnie wywołajmy tą metodę w `tabLayoutSetup`"
   ]
  },
  {
   "cell_type": "code",
   "execution_count": null,
   "id": "6cf8028a-300b-40a8-beae-cb5ae7647e38",
   "metadata": {},
   "outputs": [],
   "source": [
    "fun tabLayoutSetup(context: Context, tabLayout: TabLayout, viewPager2: ViewPager2) {\n",
    "    setupTabLayoutMediator(context, tabLayout, viewPager2)\n",
    "    val vg = tabLayout.getChildAt(0) as ViewGroup\n",
    "    initialTabsSetup(vg, tabLayout)\n",
    "    setupTabSelection(context, tabLayout)\n",
    "}"
   ]
  },
  {
   "cell_type": "markdown",
   "id": "b96ee0f2-8ad0-4ad8-ab15-75c5f5410ef7",
   "metadata": {},
   "source": [
    "Z `TabLayout` wywołujemy metodę `getChildAt()` wyciągając wszyskie `Tabs` przepisane do tego `TabLayout` i rzutujemy na `ViewGroup` - co pozwala użyć na `Tabs` animacji. Dodajmy metodę `setupAnimation` wykonującą prostą animację powiększania."
   ]
  },
  {
   "cell_type": "code",
   "execution_count": null,
   "id": "e6be66fa-022b-49bc-bb4b-32568615ef5a",
   "metadata": {},
   "outputs": [],
   "source": [
    "private fun setupAnimation(view: View, scale: Float, duration: Long){\n",
    "    view.animate()\n",
    "        .scaleX(scale)\n",
    "        .scaleY(scale)\n",
    "        .setInterpolator(FastOutSlowInInterpolator())\n",
    "        .setDuration(duration)\n",
    "        .start()\n",
    "}"
   ]
  },
  {
   "cell_type": "markdown",
   "id": "53765456-096e-4228-9a10-606f2a4484c3",
   "metadata": {},
   "source": [
    "- `scaleX`, `scaleY` - skalowanie do zadanej wartości z przedziału (0.0 - 1.0)\n",
    "- `setInterpolator` - umożliwia wykorzystanie podstawowych animacji\n",
    "- `FastOutSlowInInterpolator` - wykorzysuje [tablicowanie](https://pl.wikipedia.org/wiki/Tablicowanie) z [krzywymi Beziera](https://pl.wikipedia.org/wiki/Krzywa_B%C3%A9ziera) do wykonania utworzenia animacji - tutaj zastosujemy skalowanie\n",
    "- `setDuration` - długość animacji w milisekundach\n",
    "\n",
    "Teraz wykorzystajmy tą metodę do zmiany rozmiarów zakładek po zaznaczeniu."
   ]
  },
  {
   "cell_type": "code",
   "execution_count": null,
   "id": "7a5c2c2e-4ff0-4c8c-b258-6cf211c0aa90",
   "metadata": {},
   "outputs": [],
   "source": [
    "private const val tabScaleLow = 0.7f\n",
    "private const val tabScaleHigh = 1f\n",
    "\n",
    "private val tabTitles = listOf(\n",
    "    R.string.overview_name, \n",
    "    R.string.accounts_name, \n",
    "    R.string.bills_name)\n",
    "private val tabIcons = listOf(\n",
    "    R.drawable.ic_overview, \n",
    "    R.drawable.ic_accounts, \n",
    "    R.drawable.ic_bills)\n",
    "\n",
    "fun tabLayoutSetup(context: Context, tabLayout: TabLayout, viewPager2: ViewPager2) {\n",
    "    setupTabLayoutMediator(context, tabLayout, viewPager2)\n",
    "    val vg = tabLayout.getChildAt(0) as ViewGroup\n",
    "    initialTabsSetup(vg, tabLayout)\n",
    "    setupTabSelection(context, vg, tabLayout)\n",
    "}\n",
    "\n",
    "private fun setupTabLayoutMediator(\n",
    "    context: Context, \n",
    "    tabLayout: TabLayout, \n",
    "    viewPager2: ViewPager2) {\n",
    "    TabLayoutMediator(tabLayout, viewPager2) { tab, position ->\n",
    "        tab.icon = ContextCompat.getDrawable(context, tabIcons[position])\n",
    "        if (position == 0) tab.apply {\n",
    "            text = context.getString(tabTitles[position])\n",
    "            icon?.setTint(Color.WHITE)\n",
    "        }\n",
    "    }.attach()\n",
    "}\n",
    "\n",
    "private fun initialTabsSetup(viewGroup: ViewGroup, tabLayout: TabLayout){\n",
    "    for (i in 0 until viewGroup.childCount) {\n",
    "        if (i == tabLayout.selectedTabPosition) continue\n",
    "        val a = viewGroup.getChildAt(i)\n",
    "        a.scaleX = tabScaleLow\n",
    "        a.scaleY = tabScaleLow\n",
    "    }\n",
    "}\n",
    "\n",
    "private fun setupTabSelection(context: Context, viewGroup: ViewGroup, tabLayout: TabLayout){\n",
    "    tabLayout.addOnTabSelectedListener(object : TabLayout.OnTabSelectedListener {\n",
    "        override fun onTabSelected(tab: TabLayout.Tab) {\n",
    "            tab.apply {\n",
    "                text = context.getString(tabTitles[tab.position])\n",
    "                icon?.setTint(Color.WHITE)\n",
    "            }\n",
    "\n",
    "            setupAnimation(viewGroup.getChildAt(tab.position), tabScaleHigh,\n",
    "                context.resources.getInteger(android.R.integer.config_mediumAnimTime).toLong())\n",
    "        }\n",
    "\n",
    "        override fun onTabUnselected(tab: TabLayout.Tab) {\n",
    "            tab.text = \"\"\n",
    "            setupAnimation(viewGroup.getChildAt(tab.position), tabScaleLow, 1L)\n",
    "        }\n",
    "\n",
    "        override fun onTabReselected(tab: TabLayout.Tab) {}\n",
    "    })\n",
    "}\n",
    "\n",
    "private fun setupAnimation(view: View, scale: Float, duration: Long){\n",
    "    view.animate()\n",
    "        .scaleX(scale)\n",
    "        .scaleY(scale)\n",
    "        .setInterpolator(FastOutSlowInInterpolator())\n",
    "        .setDuration(duration)\n",
    "        .start()\n",
    "}"
   ]
  },
  {
   "cell_type": "markdown",
   "id": "ea4835cd-4ed6-4801-8787-ff6d35e28525",
   "metadata": {},
   "source": [
    "<img src=\"https://media2.giphy.com/media/4sMOjoEDLmVGtiC7FD/giphy.gif?cid=790b761140e3aa2701d05ed0f4d943a6f3bf656a58a60e90&rid=giphy.gif&ct=g\" width=\"150\" />"
   ]
  },
  {
   "cell_type": "markdown",
   "id": "9d746bbd-1863-42fb-8da0-e9d4360dbf2b",
   "metadata": {},
   "source": [
    "### **Dane**"
   ]
  },
  {
   "cell_type": "markdown",
   "id": "e17b1f4b-5472-4477-aeee-a7e35ceecf87",
   "metadata": {},
   "source": [
    "Dodajmy dane do naszego projektu"
   ]
  },
  {
   "cell_type": "code",
   "execution_count": null,
   "id": "4732390d-9b31-480d-ad0e-330d9d516952",
   "metadata": {},
   "outputs": [],
   "source": [
    "data class Account(\n",
    "    val name: String,\n",
    "    val number: String,\n",
    "    val amount: Double,\n",
    "    val color: Int\n",
    ")"
   ]
  },
  {
   "cell_type": "code",
   "execution_count": null,
   "id": "5f3e020b-f7ff-4fc7-bf6e-c94c5fcc8fee",
   "metadata": {},
   "outputs": [],
   "source": [
    "import java.time.LocalDate\n",
    "\n",
    "data class Bill (\n",
    "    val name: String,\n",
    "    val endDate: LocalDate,\n",
    "    val amount: Double,\n",
    "    val color: Int\n",
    ")"
   ]
  },
  {
   "cell_type": "code",
   "execution_count": null,
   "id": "b8a95715-490a-43e5-abd2-3e258bd9b11b",
   "metadata": {},
   "outputs": [],
   "source": [
    "import android.graphics.Color\n",
    "import java.time.LocalDate\n",
    "\n",
    "object DataProvider {\n",
    "\n",
    "    val accounts = listOf(\n",
    "        Account(\"Home savings\", \"1111111111\", 23456.34, Color.BLUE),\n",
    "        Account(\"Car savings\", \"2222222222\", 126578.99, Color.LTGRAY),\n",
    "        Account(\"Vacation\", \"3457733323\", 9875.12, Color.MAGENTA),\n",
    "        Account(\"Emergency\", \"9488344443\", 10000.77, Color.RED),\n",
    "        Account(\"Healthcare\", \"3243554434\", 12345.00, Color.YELLOW),\n",
    "        Account(\"Shopping\", \"2947560007\", 3456.56, Color.BLACK)\n",
    "    )\n",
    "\n",
    "    val bills = listOf(\n",
    "        Bill(\"Bank Credit\", LocalDate.of(2022, 9,22), 2300.0, Color.BLACK),\n",
    "        Bill(\"Tuition\", LocalDate.of(2023, 2,10), 1200.0, Color.BLUE),\n",
    "        Bill(\"Rent\", LocalDate.of(2022, 8,3), 1023.87, Color.YELLOW),\n",
    "        Bill(\"Loan\", LocalDate.of(2022, 12,22), 334.0, Color.GRAY),\n",
    "        Bill(\"Car Repair\", LocalDate.of(2023, 1,9), 982.38, Color.WHITE),\n",
    "        Bill(\"Dress Loan\", LocalDate.of(2023, 5,18), 243.0, Color.MAGENTA)\n",
    "    )\n",
    "\n",
    "    val totalAccountsAmount = (accounts.indices).sumOf { accounts[it].amount }\n",
    "    val totalBillsAmount = (bills.indices).sumOf { bills[it].amount }\n",
    "}"
   ]
  },
  {
   "cell_type": "markdown",
   "id": "c15534e4-fb01-448d-a70b-4de5e8412dd9",
   "metadata": {},
   "source": [
    "Klasa `Account` zawiera pola\n",
    "- `name` - nazwa konta\n",
    "- `number` - numer rachunku\n",
    "- `amount` - zebrana kwota\n",
    "- `color` - kolor powiązany z kontem\n",
    "\n",
    "Klasa `Bills`:\n",
    "- `name` - nazwa rachunku\n",
    "- `endDate` - data spłaty\n",
    "- `amount` - kwota do spłaty\n",
    "- `color` - kolor powiązany z rachunkiem\n",
    "\n",
    "W obiekcie `DataProvider` znnajdują się:\n",
    "- `accounts` - lista wszystkich kont\n",
    "- `bills` - lista wszystkich rachunków\n",
    "- `totalAccountsAmount` - całkowita kwota na wszystkich rachunkach\n",
    "- `totalBillsAmount` - całkowita kwota wszystkich rachunków"
   ]
  },
  {
   "cell_type": "markdown",
   "id": "8d153803-8041-4335-9327-550fa3e251c7",
   "metadata": {},
   "source": [
    "### **AccountsFragment**"
   ]
  },
  {
   "cell_type": "markdown",
   "id": "62c1bd4b-3cb7-4d22-abe9-9f2b806dcc1d",
   "metadata": {},
   "source": [
    "Ponieważ `AccountsFragment` i `BillsFragment` będą używać tego samego layoutu, zdefiniujemy jeden plik `xml` o nazwie `fragment_detail_info`, rozpocznijmy od dodania `RecyclerView`"
   ]
  },
  {
   "cell_type": "code",
   "execution_count": null,
   "id": "e914fb58-45e7-4281-bf0c-608a64c237bb",
   "metadata": {},
   "outputs": [],
   "source": [
    "<?xml version=\"1.0\" encoding=\"utf-8\"?>\n",
    "<androidx.constraintlayout.widget.ConstraintLayout \n",
    "xmlns:android=\"http://schemas.android.com/apk/res/android\"\n",
    "    xmlns:tools=\"http://schemas.android.com/tools\"\n",
    "    xmlns:app=\"http://schemas.android.com/apk/res-auto\"\n",
    "    android:layout_width=\"match_parent\"\n",
    "    android:layout_height=\"match_parent\"\n",
    "    android:background=\"@color/dark_blue_900\"\n",
    "    tools:context=\".fragments.AccountsFragment\">\n",
    "    \n",
    "        <androidx.recyclerview.widget.RecyclerView\n",
    "            android:id=\"@+id/recyclerView\"\n",
    "            android:layout_width=\"match_parent\"\n",
    "            android:layout_height=\"0dp\"\n",
    "            android:layout_marginTop=\"12dp\"\n",
    "            app:layout_constraintBottom_toBottomOf=\"parent\"\n",
    "            app:layout_constraintEnd_toEndOf=\"parent\"\n",
    "            app:layout_constraintTop_toTopOf=\"parent\" />\n",
    "        \n",
    "</androidx.constraintlayout.widget.ConstraintLayout>"
   ]
  },
  {
   "cell_type": "markdown",
   "id": "4e5da8df-5bba-4196-9d4a-5842fe6473db",
   "metadata": {},
   "source": [
    "Utwórzmy layout elementu `RecyclerView`\n",
    "\n",
    "`recyclerview_item_view.xml`"
   ]
  },
  {
   "cell_type": "code",
   "execution_count": null,
   "id": "3ebe1133-5492-4fa4-9300-538ddfddd958",
   "metadata": {},
   "outputs": [],
   "source": [
    "<?xml version=\"1.0\" encoding=\"utf-8\"?>\n",
    "<androidx.constraintlayout.widget.ConstraintLayout \n",
    "xmlns:android=\"http://schemas.android.com/apk/res/android\"\n",
    "    xmlns:app=\"http://schemas.android.com/apk/res-auto\"\n",
    "    android:layout_width=\"match_parent\"\n",
    "    android:layout_height=\"wrap_content\"\n",
    "    android:layout_margin=\"4dp\"\n",
    "    android:background=\"@color/dark_blue_500\">\n",
    "\n",
    "    <View\n",
    "        android:id=\"@+id/RVcolorBarView\"\n",
    "        android:layout_width=\"12px\"\n",
    "        android:layout_height=\"0dp\"\n",
    "        android:background=\"@color/white\"\n",
    "        android:layout_marginStart=\"8dp\"\n",
    "        android:layout_marginBottom=\"8dp\"\n",
    "        android:layout_marginTop=\"8dp\"\n",
    "        app:layout_constraintBottom_toBottomOf=\"parent\"\n",
    "        app:layout_constraintStart_toStartOf=\"parent\"\n",
    "        app:layout_constraintTop_toTopOf=\"parent\" />\n",
    "\n",
    "    <TextView\n",
    "        android:id=\"@+id/RVNumberTextView\"\n",
    "        android:layout_width=\"wrap_content\"\n",
    "        android:layout_height=\"wrap_content\"\n",
    "        android:layout_marginStart=\"16dp\"\n",
    "        android:fontFamily=\"serif-monospace\"\n",
    "        android:padding=\"4dp\"\n",
    "        android:text=\"******1111\"\n",
    "        android:textColor=\"@color/white\"\n",
    "        android:textSize=\"16sp\"\n",
    "        app:layout_constraintBottom_toBottomOf=\"parent\"\n",
    "        app:layout_constraintStart_toStartOf=\"@id/RVcolorBarView\"\n",
    "        app:layout_constraintTop_toBottomOf=\"@+id/RVNameTextView\" />\n",
    "\n",
    "    <TextView\n",
    "        android:id=\"@+id/RVNameTextView\"\n",
    "        android:layout_width=\"wrap_content\"\n",
    "        android:layout_height=\"wrap_content\"\n",
    "        android:layout_marginStart=\"16dp\"\n",
    "        android:layout_marginTop=\"8dp\"\n",
    "        android:fontFamily=\"sans-serif-smallcaps\"\n",
    "        android:padding=\"4dp\"\n",
    "        android:text=\"Savings\"\n",
    "        android:textColor=\"@color/white\"\n",
    "        android:textSize=\"18sp\"\n",
    "        android:textStyle=\"bold\"\n",
    "        app:layout_constraintStart_toStartOf=\"@id/RVcolorBarView\"\n",
    "        app:layout_constraintTop_toTopOf=\"parent\" />\n",
    "\n",
    "    <TextView\n",
    "        android:id=\"@+id/RVValueTextView\"\n",
    "        android:layout_width=\"wrap_content\"\n",
    "        android:layout_height=\"wrap_content\"\n",
    "        android:padding=\"16dp\"\n",
    "        android:text=\"1111111 zł\"\n",
    "        android:textColor=\"@color/white\"\n",
    "        android:textSize=\"30sp\"\n",
    "        app:layout_constraintBottom_toBottomOf=\"parent\"\n",
    "        app:layout_constraintEnd_toEndOf=\"parent\"\n",
    "        app:layout_constraintTop_toTopOf=\"parent\" />\n",
    "\n",
    "</androidx.constraintlayout.widget.ConstraintLayout>"
   ]
  },
  {
   "cell_type": "markdown",
   "id": "08cd32ec-7e54-4ec2-8f7b-30d0b6bc9f5a",
   "metadata": {},
   "source": [
    "Pierwszym elementem jest `View`, będzie to pasek pokazujący kolor powiązany w danym kontem."
   ]
  },
  {
   "cell_type": "markdown",
   "id": "0b4ec8be-02d0-4920-a1b7-c2846b82d93d",
   "metadata": {},
   "source": [
    "Będziemy wyświetlać kwoty, więc dodajmy odpowiednie formatowanie, do pakietu `utils` dodajmy plik `FormatterUtil`. W nim dodajmy jedno pole zawierające `NumberFormat`"
   ]
  },
  {
   "cell_type": "code",
   "execution_count": null,
   "id": "0498231a-bd6a-4add-9855-2aa05ec5b1ac",
   "metadata": {},
   "outputs": [],
   "source": [
    "val formatter: NumberFormat = DecimalFormat(\"#,###.##\")"
   ]
  },
  {
   "cell_type": "markdown",
   "id": "8e81a9ad-32ff-45cc-844a-a153ee984a69",
   "metadata": {},
   "source": [
    "Następnie zaimplementujmy `AccountAdapter`"
   ]
  },
  {
   "cell_type": "code",
   "execution_count": null,
   "id": "1e9eafe4-f158-4849-89a1-166b9e398091",
   "metadata": {},
   "outputs": [],
   "source": [
    "class AccountAdapter : RecyclerView.Adapter<AccountAdapter.ViewHolder>(){\n",
    "    inner class ViewHolder (view: View) : RecyclerView.ViewHolder(view) {\n",
    "        private val nameTextView: TextView = view.findViewById(R.id.RVNameTextView)\n",
    "        private val accountNumberTextView: TextView = view.findViewById(R.id.RVNumberTextView)\n",
    "        private val colorBar: View = view.findViewById(R.id.RVcolorBarView)\n",
    "        private val amountTextView: TextView = view.findViewById(R.id.RVValueTextView)\n",
    "\n",
    "        fun bind(item: Account){\n",
    "            nameTextView.text = item.name\n",
    "            accountNumberTextView.text = item.number.replaceRange(0 until 6, \"******\")\n",
    "            (\"${formatter.format(item.amount)} zł\").also { amountTextView.text = it }\n",
    "            colorBar.setBackgroundColor(item.color)\n",
    "        }\n",
    "    }\n",
    "\n",
    "    override fun onCreateViewHolder(parent: ViewGroup, viewType: Int): ViewHolder {\n",
    "        return ViewHolder(\n",
    "            LayoutInflater.from(parent.context).inflate(\n",
    "                R.layout.rtecyclerview_item_view, parent, false\n",
    "            ))\n",
    "    }\n",
    "\n",
    "    override fun onBindViewHolder(holder: ViewHolder, position: Int) {\n",
    "        val item = DataProvider.accounts[position]\n",
    "        holder.bind(item)\n",
    "    }\n",
    "\n",
    "    override fun getItemCount(): Int = DataProvider.accounts.size\n",
    "}"
   ]
  },
  {
   "cell_type": "markdown",
   "id": "c7a205d0-3cbe-4fcc-b0c7-c97feccc0310",
   "metadata": {},
   "source": [
    "Do `AccountsFragment` dodajmy `ViewPager2` w metodzie `onViewCreated`"
   ]
  },
  {
   "cell_type": "code",
   "execution_count": null,
   "id": "7ea57995-e5db-4358-b5a9-aaaa18439273",
   "metadata": {},
   "outputs": [],
   "source": [
    "class AccountsFragment : Fragment() {\n",
    "\n",
    "    override fun onCreateView(\n",
    "        inflater: LayoutInflater, container: ViewGroup?,\n",
    "        savedInstanceState: Bundle?\n",
    "    ): View? {\n",
    "        // Inflate the layout for this fragment\n",
    "        return inflater.inflate(R.layout.fragment_detail_info, container, false)\n",
    "    }\n",
    "\n",
    "    override fun onViewCreated(view: View, savedInstanceState: Bundle?) {\n",
    "        super.onViewCreated(view, savedInstanceState)\n",
    "        view.findViewById<RecyclerView>(R.id.recyclerView).apply {\n",
    "            adapter = AccountAdapter()\n",
    "            layoutManager = LinearLayoutManager(this.context)\n",
    "        }\n",
    "    }\n",
    "}"
   ]
  },
  {
   "cell_type": "markdown",
   "id": "69f6e0e1-a990-40b0-b5d0-1f606c9db3ff",
   "metadata": {},
   "source": [
    "<img src=\"https://media2.giphy.com/media/grRVpWcSBxxdbt727W/giphy.gif?cid=790b76116c546b317dcc43461641e6ff4d09490235131cfa&rid=giphy.gif&ct=g\" width=\"150\" />"
   ]
  },
  {
   "cell_type": "markdown",
   "id": "9fd420dc-3cc3-44ec-aa45-e91c51ab5f8b",
   "metadata": {},
   "source": [
    "Kolejnym elementem będzie `DonutChart` (wykorzystamy [doughnut](https://github.com/futuredapp/donut)), do zależnościach dodajemy"
   ]
  },
  {
   "cell_type": "code",
   "execution_count": null,
   "id": "fa8fa0b4-c9e0-4488-9cda-9d558e3f9f6f",
   "metadata": {},
   "outputs": [],
   "source": [
    "implementation(\"app.futured.donut:donut:2.2.2\")"
   ]
  },
  {
   "cell_type": "markdown",
   "id": "6ef6dc73-e133-4f7d-8c76-7186db6ac0a8",
   "metadata": {},
   "source": [
    "do layoutu `fragment_detail_info` dodajemy `DonutProgressView` i dwa pola `TextView`"
   ]
  },
  {
   "cell_type": "code",
   "execution_count": null,
   "id": "4e80d7c0-3908-415f-9b0a-1bc88f1ce887",
   "metadata": {},
   "outputs": [],
   "source": [
    "<?xml version=\"1.0\" encoding=\"utf-8\"?>\n",
    "<androidx.constraintlayout.widget.ConstraintLayout \n",
    "xmlns:android=\"http://schemas.android.com/apk/res/android\"\n",
    "    xmlns:tools=\"http://schemas.android.com/tools\"\n",
    "    xmlns:app=\"http://schemas.android.com/apk/res-auto\"\n",
    "    android:layout_width=\"match_parent\"\n",
    "    android:layout_height=\"match_parent\"\n",
    "    android:background=\"@color/dark_blue_900\"\n",
    "    tools:context=\".fragments.AccountsFragment\">\n",
    "\n",
    "        <TextView\n",
    "            android:layout_width=\"wrap_content\"\n",
    "            android:layout_height=\"wrap_content\"\n",
    "            android:text=\"@string/total\"\n",
    "            android:textColor=\"@color/white\"\n",
    "            android:textSize=\"26sp\"\n",
    "            app:layout_constraintBottom_toTopOf=\"@+id/totalAmountTextView\"\n",
    "            app:layout_constraintEnd_toEndOf=\"parent\"\n",
    "            app:layout_constraintStart_toStartOf=\"parent\" />\n",
    "\n",
    "        <TextView\n",
    "            android:id=\"@+id/totalAmountTextView\"\n",
    "            android:layout_width=\"wrap_content\"\n",
    "            android:layout_height=\"wrap_content\"\n",
    "            android:text=\"100000 zł\"\n",
    "            android:textColor=\"@color/white\"\n",
    "            android:textSize=\"38sp\"\n",
    "            android:fontFamily=\"serif\"\n",
    "            app:layout_constraintBottom_toBottomOf=\"@+id/donut_viewAccount\"\n",
    "            app:layout_constraintEnd_toEndOf=\"parent\"\n",
    "            app:layout_constraintStart_toStartOf=\"parent\"\n",
    "            app:layout_constraintTop_toTopOf=\"parent\" />\n",
    "\n",
    "        <app.futured.donut.DonutProgressView\n",
    "            android:id=\"@+id/donut_viewAccount\"\n",
    "            android:layout_width=\"300dp\"\n",
    "            android:layout_height=\"300dp\"\n",
    "            app:donut_bgLineColor=\"@color/white\"\n",
    "            app:donut_gapAngle=\"20\"\n",
    "            app:donut_gapWidth=\"4\"\n",
    "            app:donut_animationDuration=\"1500\"\n",
    "            app:donut_strokeWidth=\"6dp\"\n",
    "            android:layout_marginTop=\"16dp\"\n",
    "            app:layout_constraintEnd_toEndOf=\"parent\"\n",
    "            app:layout_constraintStart_toStartOf=\"parent\"\n",
    "            app:layout_constraintTop_toTopOf=\"parent\" />\n",
    "\n",
    "        <androidx.recyclerview.widget.RecyclerView\n",
    "            android:id=\"@+id/recyclerView\"\n",
    "            android:layout_width=\"match_parent\"\n",
    "            android:layout_height=\"0dp\"\n",
    "            android:layout_marginTop=\"12dp\"\n",
    "            app:layout_constraintBottom_toBottomOf=\"parent\"\n",
    "            app:layout_constraintEnd_toEndOf=\"parent\"\n",
    "            app:layout_constraintTop_toBottomOf=\"@+id/donut_viewAccount\" />\n",
    "\n",
    "\n",
    "</androidx.constraintlayout.widget.ConstraintLayout>"
   ]
  },
  {
   "cell_type": "markdown",
   "id": "cda09c24-7561-4616-9c1d-aae0207bd8ff",
   "metadata": {},
   "source": [
    "W `AccountsFragment` dodajemy obsługę `DonutProgressView` - musimy przekazać dane jako listę `DonutSection`. `DonutSection` przyjmuje trzy argumenty\n",
    "- `name` - nazwę\n",
    "- `color` - kolor\n",
    "- `amount` - wartość z przedziału 0.0 - 1.0"
   ]
  },
  {
   "cell_type": "code",
   "execution_count": null,
   "id": "df8aeebc-58d3-47f7-a701-d54f8c50e7fe",
   "metadata": {},
   "outputs": [],
   "source": [
    "override fun onViewCreated(view: View, savedInstanceState: Bundle?) {\n",
    "    super.onViewCreated(view, savedInstanceState)\n",
    "    view.findViewById<RecyclerView>(R.id.recyclerView).apply {\n",
    "        adapter = AccountAdapter()\n",
    "        layoutManager = LinearLayoutManager(this.context)\n",
    "    }\n",
    "\n",
    "    view.findViewById<DonutProgressView>(R.id.donut_viewAccount).apply {\n",
    "        val values = (0 until DataProvider.accounts.size).map { DonutSection(\n",
    "            DataProvider.accounts[it].name,\n",
    "            DataProvider.accounts[it].color,\n",
    "            DataProvider.accounts[it].amount.toFloat() / \n",
    "                DataProvider.totalAccountsAmount.toFloat()\n",
    "        ) }\n",
    "        submitData(values)\n",
    "    }\n",
    "\n",
    "    view.findViewById<TextView>(R.id.totalAmountTextView).apply {\n",
    "        (\"${formatter.format(DataProvider.totalAccountsAmount)} zł\").also { text = it }\n",
    "    }\n",
    "}"
   ]
  },
  {
   "cell_type": "markdown",
   "id": "4b4191c5-78f9-4d0d-a64a-d140d2f1ea1d",
   "metadata": {},
   "source": [
    "W efekcie otrzymamy"
   ]
  },
  {
   "cell_type": "markdown",
   "id": "b257013f-f0ce-42bb-a061-bc91e24adc6f",
   "metadata": {},
   "source": [
    "<img src=\"https://media3.giphy.com/media/V6olKtypWuObTJXxmz/giphy.gif?cid=790b761116be30abedbc5c9f9c7a309c74243ac9e1060564&rid=giphy.gif&ct=g\" width=\"150\" />"
   ]
  },
  {
   "cell_type": "markdown",
   "id": "71fc77ef-0ed7-4fe2-8187-362d00062073",
   "metadata": {},
   "source": [
    "### **BillsFragment**"
   ]
  },
  {
   "cell_type": "markdown",
   "id": "420c30a2-bbc2-4d32-8bfd-3840ecbd88d8",
   "metadata": {},
   "source": [
    "Do `FormatterUtil` dodajmy `DateTimeFormatter` pozwalający sformatować datę"
   ]
  },
  {
   "cell_type": "code",
   "execution_count": null,
   "id": "c321aa11-6004-4ae7-95d7-599fc8242631",
   "metadata": {},
   "outputs": [],
   "source": [
    "val dateFormatter: DateTimeFormatter = DateTimeFormatter.ofPattern(\"yyyy MMM dd\")"
   ]
  },
  {
   "cell_type": "markdown",
   "id": "306bb0d4-73a3-478c-ba1c-0f07b0596a11",
   "metadata": {},
   "source": [
    "Przejdźmy do `BillAdapter`"
   ]
  },
  {
   "cell_type": "code",
   "execution_count": null,
   "id": "1fdb61b8-2af8-4251-ba16-c087882157b4",
   "metadata": {},
   "outputs": [],
   "source": [
    "class BillAdapter : RecyclerView.Adapter<BillAdapter.ViewHolder>(){\n",
    "    inner class ViewHolder (view: View) : RecyclerView.ViewHolder(view) {\n",
    "        private val nameTextView: TextView = view.findViewById(R.id.RVNameTextView)\n",
    "        private val endDateTextView: TextView = view.findViewById(R.id.RVNumberTextView)\n",
    "        private val colorBar: View = view.findViewById(R.id.RVcolorBarView)\n",
    "        private val amountTextView: TextView = view.findViewById(R.id.RVValueTextView)\n",
    "\n",
    "        fun bind(item: Bill){\n",
    "            nameTextView.text = item.name\n",
    "            endDateTextView.text = item.endDate.format(dateFormatter)\n",
    "            (\"- ${formatter.format(item.amount)} zł\").also { amountTextView.text = it }\n",
    "            colorBar.setBackgroundColor(item.color)\n",
    "        }\n",
    "    }\n",
    "\n",
    "    override fun onCreateViewHolder(parent: ViewGroup, viewType: Int): ViewHolder {\n",
    "        return ViewHolder(\n",
    "            LayoutInflater.from(parent.context).inflate(\n",
    "                R.layout.rtecyclerview_item_view, parent, false\n",
    "            ))\n",
    "    }\n",
    "\n",
    "    override fun onBindViewHolder(holder: ViewHolder, position: Int) {\n",
    "        val item = DataProvider.bills[position]\n",
    "        holder.bind(item)\n",
    "    }\n",
    "\n",
    "    override fun getItemCount(): Int = DataProvider.bills.size\n",
    "}"
   ]
  },
  {
   "cell_type": "markdown",
   "id": "d84956da-e1f7-4f6a-a901-a7e6fbb0ed48",
   "metadata": {},
   "source": [
    "Korzystamy w tego samego layoutu co przy implementacji `AccountsFragment`"
   ]
  },
  {
   "cell_type": "code",
   "execution_count": null,
   "id": "61c99107-3145-47be-8067-9c712afee644",
   "metadata": {},
   "outputs": [],
   "source": [
    "class BillsFragment : Fragment() {\n",
    "\n",
    "    override fun onCreateView(\n",
    "        inflater: LayoutInflater, container: ViewGroup?,\n",
    "        savedInstanceState: Bundle?\n",
    "    ): View? {\n",
    "        // Inflate the layout for this fragment\n",
    "        return inflater.inflate(R.layout.fragment_detail_info, container, false)\n",
    "    }\n",
    "\n",
    "    override fun onViewCreated(view: View, savedInstanceState: Bundle?) {\n",
    "        super.onViewCreated(view, savedInstanceState)\n",
    "        view.findViewById<RecyclerView>(R.id.recyclerView).apply {\n",
    "            adapter = BillAdapter()\n",
    "            layoutManager = LinearLayoutManager(this.context)\n",
    "        }\n",
    "\n",
    "        view.findViewById<DonutProgressView>(R.id.donut_viewAccount).apply {\n",
    "            val values = (0 until DataProvider.bills.size).map { DonutSection(\n",
    "                DataProvider.bills[it].name,\n",
    "                DataProvider.bills[it].color,\n",
    "                DataProvider.bills[it].amount.toFloat() / DataProvider.totalBillsAmount.toFloat()\n",
    "            ) }\n",
    "            submitData(values)\n",
    "        }\n",
    "\n",
    "        view.findViewById<TextView>(R.id.totalAmountTextView).apply {\n",
    "            (\"- ${formatter.format(DataProvider.totalBillsAmount)} zł\").also { text = it }\n",
    "        }\n",
    "    }\n",
    "}"
   ]
  },
  {
   "cell_type": "markdown",
   "id": "dab307b3-3ff4-4ee3-9856-93dd3788c403",
   "metadata": {},
   "source": [
    "### **OverviewFragment**"
   ]
  },
  {
   "cell_type": "markdown",
   "id": "6e356c93-d6b3-4aa2-9585-ddaaf254125a",
   "metadata": {},
   "source": [
    "Layout `OverviewFragment` będzie się opierał na `CardView`, więc musimy dodać odpowiednią zależność do aplikacji"
   ]
  },
  {
   "cell_type": "code",
   "execution_count": null,
   "id": "7a4af96f-afce-47ac-be7a-2f8fe3b0a34a",
   "metadata": {},
   "outputs": [],
   "source": [
    "implementation \"androidx.cardview:cardview:1.0.0\""
   ]
  },
  {
   "cell_type": "markdown",
   "id": "f36b3a75-e44c-4083-948e-04beeb6d544e",
   "metadata": {},
   "source": [
    "Sam layout nie zawiera żadnych nowych elementów"
   ]
  },
  {
   "cell_type": "code",
   "execution_count": null,
   "id": "8b1b09e1-eeed-46c0-95c5-d28229f47af0",
   "metadata": {},
   "outputs": [],
   "source": [
    "<?xml version=\"1.0\" encoding=\"utf-8\"?>\n",
    "<LinearLayout xmlns:android=\"http://schemas.android.com/apk/res/android\"\n",
    "    xmlns:app=\"http://schemas.android.com/apk/res-auto\"\n",
    "    xmlns:tools=\"http://schemas.android.com/tools\"\n",
    "    android:layout_width=\"match_parent\"\n",
    "    android:layout_height=\"match_parent\"\n",
    "    android:background=\"@color/dark_blue_900\"\n",
    "    android:orientation=\"vertical\"\n",
    "    tools:context=\".fragments.OverviewFragment\">\n",
    "\n",
    "    <androidx.cardview.widget.CardView\n",
    "        android:id=\"@+id/cardView0\"\n",
    "        android:layout_width=\"match_parent\"\n",
    "        android:layout_height=\"wrap_content\"\n",
    "        android:layout_marginTop=\"16dp\"\n",
    "        android:layout_marginStart=\"16dp\"\n",
    "        android:layout_marginEnd=\"16dp\"\n",
    "        app:cardCornerRadius=\"12dp\"\n",
    "        app:cardElevation=\"15dp\">\n",
    "\n",
    "        <LinearLayout\n",
    "            android:layout_width=\"match_parent\"\n",
    "            android:layout_height=\"match_parent\"\n",
    "            android:background=\"@color/dark_blue_500\"\n",
    "            android:orientation=\"vertical\">\n",
    "\n",
    "            <TextView\n",
    "                android:layout_width=\"match_parent\"\n",
    "                android:layout_height=\"wrap_content\"\n",
    "                android:layout_marginStart=\"16dp\"\n",
    "                android:text=\"@string/alerts\"\n",
    "                android:textColor=\"@color/white\"\n",
    "                android:textSize=\"12sp\" />\n",
    "\n",
    "            <LinearLayout\n",
    "                android:layout_width=\"match_parent\"\n",
    "                android:layout_height=\"wrap_content\"\n",
    "                android:orientation=\"horizontal\">\n",
    "\n",
    "                <TextView\n",
    "                    android:layout_width=\"0dp\"\n",
    "                    android:layout_weight=\"1\"\n",
    "                    android:layout_height=\"wrap_content\"\n",
    "                    android:layout_marginStart=\"16dp\"\n",
    "                    android:text=\"@string/no_alerts\"\n",
    "                    android:textColor=\"@color/white\"\n",
    "                    android:textSize=\"24sp\" />\n",
    "\n",
    "                <Button\n",
    "                    android:id=\"@+id/seeMoreButton\"\n",
    "                    android:layout_width=\"wrap_content\"\n",
    "                    android:layout_height=\"wrap_content\"\n",
    "                    android:backgroundTint=\"@android:color/holo_red_light\"\n",
    "                    android:textColor=\"@color/design_default_color_on_secondary\"\n",
    "                    android:layout_marginEnd=\"8dp\"\n",
    "                    android:text=\"@string/see_more\" />\n",
    "            </LinearLayout>\n",
    "        </LinearLayout>\n",
    "    </androidx.cardview.widget.CardView>\n",
    "\n",
    "    <androidx.cardview.widget.CardView\n",
    "        android:id=\"@+id/cardView1\"\n",
    "        android:layout_width=\"match_parent\"\n",
    "        android:layout_height=\"0dp\"\n",
    "        android:layout_weight=\"1\"\n",
    "        android:layout_marginTop=\"8dp\"\n",
    "        android:layout_marginStart=\"16dp\"\n",
    "        android:layout_marginEnd=\"16dp\"\n",
    "        app:cardCornerRadius=\"12dp\"\n",
    "        app:cardElevation=\"15dp\">\n",
    "\n",
    "        <LinearLayout\n",
    "            android:layout_width=\"match_parent\"\n",
    "            android:layout_height=\"match_parent\"\n",
    "            android:background=\"@color/dark_blue_500\"\n",
    "            android:orientation=\"vertical\"\n",
    "            tools:context=\".fragments.OverviewFragment\">\n",
    "\n",
    "\n",
    "            <TextView\n",
    "                android:id=\"@+id/accountNameTextView\"\n",
    "                android:layout_width=\"match_parent\"\n",
    "                android:layout_height=\"wrap_content\"\n",
    "                android:layout_marginStart=\"16dp\"\n",
    "                android:layout_marginTop=\"8dp\"\n",
    "                android:text=\"@string/accounts\"\n",
    "                android:textColor=\"@color/white\"\n",
    "                android:textSize=\"12sp\"\n",
    "                app:layout_constraintEnd_toEndOf=\"parent\"\n",
    "                app:layout_constraintStart_toStartOf=\"parent\"\n",
    "                app:layout_constraintTop_toTopOf=\"parent\" />\n",
    "\n",
    "            <TextView\n",
    "                android:id=\"@+id/accountTotalAmountTextView\"\n",
    "                android:layout_width=\"match_parent\"\n",
    "                android:layout_height=\"wrap_content\"\n",
    "                android:layout_marginTop=\"4dp\"\n",
    "                android:gravity=\"center\"\n",
    "                android:text=\"11111111 zł\"\n",
    "                android:textColor=\"@color/white\"\n",
    "                android:textSize=\"36sp\"\n",
    "                app:layout_constraintEnd_toEndOf=\"parent\"\n",
    "                app:layout_constraintTop_toBottomOf=\"@+id/accountNameTextView\" />\n",
    "\n",
    "            <androidx.recyclerview.widget.RecyclerView\n",
    "                android:id=\"@+id/accountsRecyclerView\"\n",
    "                android:layout_width=\"match_parent\"\n",
    "                android:layout_height=\"0dp\"\n",
    "                android:layout_weight=\"1\"\n",
    "                android:layout_marginStart=\"16dp\"\n",
    "                android:layout_marginEnd=\"16dp\"\n",
    "                app:layout_constraintEnd_toEndOf=\"parent\"\n",
    "                app:layout_constraintStart_toStartOf=\"parent\"\n",
    "                app:layout_constraintTop_toBottomOf=\"@+id/accountTotalAmountTextView\" />\n",
    "\n",
    "            <Button\n",
    "                android:id=\"@+id/accountsButton\"\n",
    "                android:layout_width=\"match_parent\"\n",
    "                android:layout_height=\"wrap_content\"\n",
    "                android:layout_marginStart=\"16dp\"\n",
    "                android:layout_marginEnd=\"16dp\"\n",
    "                android:text=\"@string/go_to_accounts\"\n",
    "                app:layout_constraintEnd_toEndOf=\"parent\"\n",
    "                app:layout_constraintStart_toStartOf=\"parent\"\n",
    "                app:layout_constraintTop_toBottomOf=\"@+id/accountsRecyclerView\"\n",
    "                android:backgroundTint=\"@android:color/holo_red_light\"\n",
    "                android:textColor=\"@color/design_default_color_on_secondary\"/>\n",
    "        </LinearLayout>\n",
    "\n",
    "\n",
    "    </androidx.cardview.widget.CardView>\n",
    "\n",
    "    <androidx.cardview.widget.CardView\n",
    "        android:id=\"@+id/cardView2\"\n",
    "        android:layout_width=\"match_parent\"\n",
    "        android:layout_height=\"0dp\"\n",
    "        android:layout_weight=\"1\"\n",
    "        android:layout_marginStart=\"16dp\"\n",
    "        android:layout_marginTop=\"8dp\"\n",
    "        android:layout_marginEnd=\"16dp\"\n",
    "        app:cardCornerRadius=\"12dp\"\n",
    "        app:cardElevation=\"15dp\">\n",
    "\n",
    "        <LinearLayout\n",
    "            android:layout_width=\"match_parent\"\n",
    "            android:layout_height=\"match_parent\"\n",
    "            android:background=\"@color/dark_blue_500\"\n",
    "            android:orientation=\"vertical\"\n",
    "            tools:context=\".fragments.OverviewFragment\">\n",
    "\n",
    "\n",
    "            <TextView\n",
    "                android:id=\"@+id/billsNameTextView\"\n",
    "                android:layout_width=\"match_parent\"\n",
    "                android:layout_height=\"wrap_content\"\n",
    "                android:layout_marginStart=\"16dp\"\n",
    "                android:layout_marginTop=\"8dp\"\n",
    "                android:text=\"@string/bills\"\n",
    "                android:textColor=\"@color/white\"\n",
    "                android:textSize=\"12sp\"\n",
    "                app:layout_constraintEnd_toEndOf=\"parent\"\n",
    "                app:layout_constraintStart_toStartOf=\"parent\"\n",
    "                app:layout_constraintTop_toTopOf=\"parent\" />\n",
    "\n",
    "            <TextView\n",
    "                android:id=\"@+id/billsTotalAmountTextView\"\n",
    "                android:layout_width=\"match_parent\"\n",
    "                android:layout_height=\"wrap_content\"\n",
    "                android:layout_marginStart=\"16dp\"\n",
    "                android:layout_marginTop=\"4dp\"\n",
    "                android:gravity=\"center\"\n",
    "                android:text=\"- 21999.99 zł\"\n",
    "                android:textColor=\"@color/white\"\n",
    "                android:textSize=\"36sp\"\n",
    "                app:layout_constraintEnd_toEndOf=\"parent\"\n",
    "                app:layout_constraintStart_toStartOf=\"parent\"\n",
    "                app:layout_constraintTop_toTopOf=\"@id/billsNameTextView\" />\n",
    "\n",
    "            <androidx.recyclerview.widget.RecyclerView\n",
    "                android:id=\"@+id/billsRecyclerView\"\n",
    "                android:layout_width=\"match_parent\"\n",
    "                android:layout_height=\"0dp\"\n",
    "                android:layout_weight=\"1\"\n",
    "                android:layout_marginStart=\"16dp\"\n",
    "                android:layout_marginEnd=\"16dp\"\n",
    "                app:layout_constraintEnd_toEndOf=\"parent\"\n",
    "                app:layout_constraintStart_toStartOf=\"parent\"\n",
    "                app:layout_constraintTop_toBottomOf=\"@+id/billsTotalAmountTextView\" />\n",
    "\n",
    "            <Button\n",
    "                android:id=\"@+id/billsButton\"\n",
    "                android:layout_width=\"match_parent\"\n",
    "                android:layout_height=\"wrap_content\"\n",
    "                android:layout_marginStart=\"16dp\"\n",
    "                android:layout_marginEnd=\"16dp\"\n",
    "                android:text=\"@string/go_to_bills\"\n",
    "                app:layout_constraintEnd_toEndOf=\"parent\"\n",
    "                app:layout_constraintStart_toStartOf=\"parent\"\n",
    "                app:layout_constraintTop_toBottomOf=\"@+id/billsRecyclerView\"\n",
    "                android:backgroundTint=\"@android:color/holo_red_light\"\n",
    "                android:textColor=\"@color/design_default_color_on_secondary\"/>\n",
    "        </LinearLayout>\n",
    "    </androidx.cardview.widget.CardView>\n",
    "\n",
    "\n",
    "</LinearLayout>"
   ]
  },
  {
   "cell_type": "markdown",
   "id": "ab6fc15b-eb6a-4b97-a0e5-896310aae278",
   "metadata": {},
   "source": [
    "Do metody `onCreateView` dodajmy obsługę wszystkich elementów. Zacznijmy od `RecyclerVew`"
   ]
  },
  {
   "cell_type": "code",
   "execution_count": null,
   "id": "e14ac532-3cbd-4eec-9cf7-be3984b19f11",
   "metadata": {},
   "outputs": [],
   "source": [
    "view.findViewById<RecyclerView>(R.id.accountsRecyclerView).apply {\n",
    "    adapter = AccountAdapter()\n",
    "    layoutManager = LinearLayoutManager(this.context)\n",
    "}\n",
    "\n",
    "view.findViewById<RecyclerView>(R.id.billsRecyclerView).apply {\n",
    "    adapter = BillAdapter()\n",
    "    layoutManager = LinearLayoutManager(this.context)\n",
    "}"
   ]
  },
  {
   "cell_type": "markdown",
   "id": "3fc6dcbe-880d-479a-89e6-04192eebce54",
   "metadata": {},
   "source": [
    "Następnie mamy dwa pola `TextView` wyświetlające wartości wszystkich kont oraz rachunków"
   ]
  },
  {
   "cell_type": "code",
   "execution_count": null,
   "id": "ea98aaa0-090d-4a2e-bdb7-aabbb58b0a15",
   "metadata": {},
   "outputs": [],
   "source": [
    "view.findViewById<TextView>(R.id.accountTotalAmountTextView).apply {\n",
    "    (\"${formatter.format(DataProvider.totalAccountsAmount)} zł\").also { text = it }\n",
    "}\n",
    "\n",
    "view.findViewById<TextView>(R.id.billsTotalAmountTextView).apply {\n",
    "    (\"- ${formatter.format(DataProvider.totalBillsAmount)} zł\").also { text = it }\n",
    "}"
   ]
  },
  {
   "cell_type": "markdown",
   "id": "06723380-164b-4ccb-88eb-f91d6c52b8b7",
   "metadata": {},
   "source": [
    "Kolejno dodajmy obsługę dwóch przycisków - w tym przykładzie dodamy przejście na konkretną pozycję w `ViewPager2` - znajduje się on w głównej aktywności, więc z poziomu fragmentu nie mamy do niego dostępu. Możemy obejść ten problem wykorzystując metod `requireActivity` oraz `findViewById`."
   ]
  },
  {
   "cell_type": "code",
   "execution_count": null,
   "id": "17df2050-4744-45ea-9343-2cad4600926a",
   "metadata": {},
   "outputs": [],
   "source": [
    "view.findViewById<Button>(R.id.accountsButton).apply {\n",
    "    setOnClickListener { activity?.findViewById<ViewPager2>(R.id.viewPager)\n",
    "        ?.currentItem = 1 }\n",
    "}\n",
    "\n",
    "view.findViewById<Button>(R.id.billsButton).apply {\n",
    "    setOnClickListener { activity?.findViewById<ViewPager2>(R.id.viewPager)\n",
    "        ?.currentItem = 2 }\n",
    "}"
   ]
  },
  {
   "cell_type": "markdown",
   "id": "88d0efdc-ff4f-46ff-9a4f-42438b7b97ee",
   "metadata": {},
   "source": [
    "Ostatnim elementem będzie obsługa przycisku `SEE MORE` - tutaj wyświetlimy customowy `AlertDialog`. W pierwszsym kroku zdefiniujemy styl w pliku `themes.xml`"
   ]
  },
  {
   "cell_type": "code",
   "execution_count": null,
   "id": "58dc3fc7-96c2-44a6-a44d-b133c1b78bae",
   "metadata": {},
   "outputs": [],
   "source": [
    "<style name=\"MyDialogTheme\" parent=\"Theme.AppCompat.Light.Dialog.Alert\">\n",
    "    <item name=\"android:background\">@color/dark_blue_900</item>\n",
    "    <item name=\"android:textColor\">@color/white</item>\n",
    "</style>"
   ]
  },
  {
   "cell_type": "markdown",
   "id": "645ac658-514e-415e-bfaa-a3463e584fa8",
   "metadata": {},
   "source": [
    "Następnie utwórzmy layout\n",
    "\n",
    "`alert_dialog.xml`"
   ]
  },
  {
   "cell_type": "code",
   "execution_count": null,
   "id": "45e0af7f-3a32-42e9-a09f-96b678f1f060",
   "metadata": {},
   "outputs": [],
   "source": [
    "<?xml version=\"1.0\" encoding=\"utf-8\"?>\n",
    "<LinearLayout\n",
    "    xmlns:android=\"http://schemas.android.com/apk/res/android\"\n",
    "    android:orientation=\"vertical\"\n",
    "    android:paddingLeft=\"20dp\"\n",
    "    android:paddingRight=\"20dp\"\n",
    "    android:layout_width=\"match_parent\"\n",
    "    android:background=\"@color/dark_blue_900\"\n",
    "    android:layout_height=\"match_parent\">\n",
    "\n",
    "    <TextView\n",
    "        android:id=\"@+id/alertTextView\"\n",
    "        android:layout_width=\"match_parent\"\n",
    "        android:layout_height=\"wrap_content\"\n",
    "        android:textSize=\"24sp\"\n",
    "        android:textColor=\"@color/white\"\n",
    "        android:gravity=\"center\"\n",
    "        android:text=\"@string/no_alerts\"/>\n",
    "</LinearLayout>"
   ]
  },
  {
   "cell_type": "markdown",
   "id": "07644963-acfe-449b-9c93-4f1ae991552e",
   "metadata": {},
   "source": [
    "Na koniec przechodzimy do implementacji metody `onClick`"
   ]
  },
  {
   "cell_type": "code",
   "execution_count": null,
   "id": "0c419b6a-5ac8-4571-bd48-1844ab7fd3b4",
   "metadata": {},
   "outputs": [],
   "source": [
    "view.findViewById<Button>(R.id.seeMoreButton).apply {\n",
    "    setOnClickListener {\n",
    "        AlertDialog.Builder(context, R.style.MyDialogTheme)\n",
    "            .setTitle(getString(R.string.alerts)) // tytuł\n",
    "            .setView(layoutInflater.inflate(R.layout.alert_dialog, null)) // layout\n",
    "            .setPositiveButton(\"OK\") { _, _ -> } // domyślna implementacja przycisku wyłączającego Dialog\n",
    "            .create() // utworzenie obiektu AlertDialog\n",
    "            .show() // wyświetlenie AlertDialog\n",
    "    }\n",
    "}"
   ]
  },
  {
   "cell_type": "markdown",
   "id": "65b999e1-536e-41db-b192-1b494656a9a0",
   "metadata": {},
   "source": [
    "Przekazanie `null` jako parametru metody `setView` generuje ostrzeżenie - w tym przykładzie pozbędziemy się go przez umieszczenie adnotacji `@SuppressLint(\"InflateParams\")`."
   ]
  },
  {
   "cell_type": "code",
   "execution_count": null,
   "id": "9266b926-34bd-4487-ad3b-8b42046457db",
   "metadata": {},
   "outputs": [],
   "source": [
    "@SuppressLint(\"InflateParams\")\n",
    "override fun onViewCreated(view: View, savedInstanceState: Bundle?)"
   ]
  },
  {
   "cell_type": "markdown",
   "id": "0c173a70-42a2-4ac9-802b-c87488780ae4",
   "metadata": {},
   "source": [
    "Możemy przetestować aplikację."
   ]
  },
  {
   "cell_type": "markdown",
   "id": "d725af22-39af-44e8-aeec-5175f3dcd9f8",
   "metadata": {},
   "source": [
    "<table><tr><td><img src=\"https://media1.giphy.com/media/49RzyXBmRBa59Wi47n/giphy.gif?cid=790b76111b9b9991bd4197bf8d7295e517603d04f8ba2992&rid=giphy.gif&ct=g\" width=\"150\" /></td><td><img src=\"https://media1.giphy.com/media/zbqykvBYncTRQLCAja/giphy.gif?cid=790b7611d47e3d6d46e7b736ac29fe3cc9bc281aed07c1c0&rid=giphy.gif&ct=g\" width=\"150\" /></td><td><img src=\"https://media3.giphy.com/media/BbcDIUyV6IodX2yGVx/giphy.gif?cid=790b7611d1bf2abf7deacc8ad5a71a6a13adfbc9f4344954&rid=giphy.gif&ct=g\" width=\"150\" /></td></tr></table>"
   ]
  },
  {
   "cell_type": "code",
   "execution_count": null,
   "id": "189448de-74bc-43f2-a1d0-6c43667bce82",
   "metadata": {},
   "outputs": [],
   "source": []
  }
 ],
 "metadata": {
  "kernelspec": {
   "display_name": "Kotlin",
   "language": "kotlin",
   "name": "kotlin"
  },
  "language_info": {
   "codemirror_mode": "text/x-kotlin",
   "file_extension": ".kt",
   "mimetype": "text/x-kotlin",
   "name": "kotlin",
   "nbconvert_exporter": "",
   "pygments_lexer": "kotlin",
   "version": "1.6.20-dev-6372"
  }
 },
 "nbformat": 4,
 "nbformat_minor": 5
}
