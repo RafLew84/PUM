{
 "cells": [
  {
   "cell_type": "markdown",
   "id": "c0cfec75-1f50-42a8-a729-6eea90fc463a",
   "metadata": {},
   "source": [
    "## 5.3 ViewPager2 - RecyclerView.Adapter"
   ]
  },
  {
   "cell_type": "markdown",
   "id": "b8df77c2-ab32-4e0d-b453-0386a4fcefb9",
   "metadata": {},
   "source": [
    "Tym razem napiszemy prostą aplikację wykorzystując `ViewPager` z `RecyclerView.Adapter`"
   ]
  },
  {
   "cell_type": "markdown",
   "id": "4980dc68-09cf-4c6a-b76a-249456c7afcf",
   "metadata": {},
   "source": [
    "<img src=\"https://media2.giphy.com/media/IxABynoYm0kk5y2D6p/giphy.gif?cid=790b761106f7ee3c6bd2b00ae1183a00d72cde79df168fb3&rid=giphy.gif&ct=g\" width=\"200\" />"
   ]
  },
  {
   "cell_type": "markdown",
   "id": "8f77ca7d-a596-49f7-8d2a-3afd9d20c057",
   "metadata": {},
   "source": [
    "Dane do wyświetlenia będziemy przechowywać w `MainActivity` w tablicy `String`"
   ]
  },
  {
   "cell_type": "code",
   "execution_count": null,
   "id": "3999fb80-c324-463e-b0fa-d3fc29c79c34",
   "metadata": {},
   "outputs": [],
   "source": [
    "class MainActivity : AppCompatActivity() {\n",
    "    ...\n",
    "    companion object{\n",
    "        val values = listOf(\"pierwszy\", \"drugi\", \"trzeci\")\n",
    "    }\n",
    "}"
   ]
  },
  {
   "cell_type": "markdown",
   "id": "c4e02cfa-62b2-42c4-b113-0988dcbd56d4",
   "metadata": {},
   "source": [
    "Rozpocznijmy od layoutu pojedynczego elementu"
   ]
  },
  {
   "cell_type": "code",
   "execution_count": null,
   "id": "40288215-8584-4e1d-993c-0bcbd67c18e2",
   "metadata": {},
   "outputs": [],
   "source": [
    "<?xml version=\"1.0\" encoding=\"utf-8\"?>\n",
    "<androidx.constraintlayout.widget.ConstraintLayout \n",
    "xmlns:android=\"http://schemas.android.com/apk/res/android\"\n",
    "    android:layout_width=\"match_parent\"\n",
    "    android:layout_height=\"match_parent\">\n",
    "\n",
    "    <TextView\n",
    "        android:id=\"@+id/textView\"\n",
    "        android:layout_width=\"match_parent\"\n",
    "        android:layout_height=\"match_parent\"\n",
    "        android:gravity=\"center\"\n",
    "        android:textSize=\"36sp\"/>\n",
    "\n",
    "</androidx.constraintlayout.widget.ConstraintLayout>"
   ]
  },
  {
   "cell_type": "markdown",
   "id": "b4acb66e-c9f2-4039-abef-4cead391089d",
   "metadata": {},
   "source": [
    "Następnie zaimplementujmy `PagerAdapter`, który tym razem będzie rozszerzał klasę `RecyclerView.Adapter` - sama implementacja adaptera nie różni się od wcześniejszych"
   ]
  },
  {
   "cell_type": "code",
   "execution_count": null,
   "id": "aa0d4742-1be8-4a01-98e0-b2d4591c6ce0",
   "metadata": {},
   "outputs": [],
   "source": [
    "class PagerAdapter : RecyclerView.Adapter<PagerAdapter.ViewHolder>() {\n",
    "\n",
    "    class ViewHolder(view: View) : RecyclerView.ViewHolder(view) {\n",
    "\n",
    "        val textView: TextView = view.findViewById(R.id.textView)\n",
    "\n",
    "        fun bind(text: String){\n",
    "            textView.text = text\n",
    "        }\n",
    "    }\n",
    "\n",
    "    override fun onCreateViewHolder(parent: ViewGroup, viewType: Int): ViewHolder {\n",
    "        return ViewHolder(\n",
    "            LayoutInflater.from(parent.context).inflate(\n",
    "                R.layout.item_view, parent, false\n",
    "            )\n",
    "        )\n",
    "    }\n",
    "\n",
    "    override fun onBindViewHolder(holder: ViewHolder, position: Int) {\n",
    "        holder.bind(MainActivity.values[position])\n",
    "    }\n",
    "\n",
    "    override fun getItemCount(): Int = MainActivity.values.size\n",
    "}"
   ]
  },
  {
   "cell_type": "markdown",
   "id": "5c86ef64-f4ed-40d9-9ac1-85f980352a57",
   "metadata": {},
   "source": [
    "Dodajmy `ViewPager` do layoutu głównej aktywności"
   ]
  },
  {
   "cell_type": "code",
   "execution_count": null,
   "id": "4dd76366-ea81-44ce-b31c-70ab60ec71f6",
   "metadata": {},
   "outputs": [],
   "source": [
    "<?xml version=\"1.0\" encoding=\"utf-8\"?>\n",
    "<androidx.constraintlayout.widget.ConstraintLayout \n",
    "xmlns:android=\"http://schemas.android.com/apk/res/android\"\n",
    "    xmlns:app=\"http://schemas.android.com/apk/res-auto\"\n",
    "    xmlns:tools=\"http://schemas.android.com/tools\"\n",
    "    android:layout_width=\"match_parent\"\n",
    "    android:layout_height=\"match_parent\"\n",
    "    tools:context=\".MainActivity\">\n",
    "\n",
    "    <androidx.viewpager2.widget.ViewPager2\n",
    "        android:id=\"@+id/viewPager\"\n",
    "        android:layout_width=\"match_parent\"\n",
    "        android:layout_height=\"match_parent\"/>\n",
    "\n",
    "</androidx.constraintlayout.widget.ConstraintLayout>"
   ]
  },
  {
   "cell_type": "markdown",
   "id": "96c0e1ab-4f0d-42c3-a221-b2d3c4f5a2cb",
   "metadata": {},
   "source": [
    "Następnie utworzymy `ViewPager` i `PagerAdapter` oraz połączymy wszystko w metodzie `onCreate` klasy `MainActivity`"
   ]
  },
  {
   "cell_type": "code",
   "execution_count": null,
   "id": "34114a5a-206d-47d9-8bb4-a14f70d3d0d4",
   "metadata": {},
   "outputs": [],
   "source": [
    "class MainActivity : AppCompatActivity() {\n",
    "    override fun onCreate(savedInstanceState: Bundle?) {\n",
    "        super.onCreate(savedInstanceState)\n",
    "        setContentView(R.layout.activity_main)\n",
    "\n",
    "        findViewById<ViewPager2>(R.id.viewPager).apply {\n",
    "            adapter = PagerAdapter()\n",
    "        }\n",
    "    }\n",
    "\n",
    "    companion object{\n",
    "        val values = listOf(\"pierwszy\", \"drugi\", \"trzeci\")\n",
    "    }\n",
    "}"
   ]
  },
  {
   "cell_type": "markdown",
   "id": "61be5916-75ee-4dc8-8198-99b4c19a661d",
   "metadata": {},
   "source": [
    "W tym przypadku `ViewPager` działa jak `RecyclerView` z tą różnicą że wyświetla jeden element na ekranie."
   ]
  },
  {
   "cell_type": "markdown",
   "id": "a1b3bbb3-3ab2-4120-ac7b-69d9fd5f4659",
   "metadata": {},
   "source": [
    "<img src=\"https://media2.giphy.com/media/IxABynoYm0kk5y2D6p/giphy.gif?cid=790b761106f7ee3c6bd2b00ae1183a00d72cde79df168fb3&rid=giphy.gif&ct=g\" width=\"150\" />"
   ]
  }
 ],
 "metadata": {
  "kernelspec": {
   "display_name": "Kotlin",
   "language": "kotlin",
   "name": "kotlin"
  },
  "language_info": {
   "codemirror_mode": "text/x-kotlin",
   "file_extension": ".kt",
   "mimetype": "text/x-kotlin",
   "name": "kotlin",
   "nbconvert_exporter": "",
   "pygments_lexer": "kotlin",
   "version": "1.6.20-dev-6372"
  }
 },
 "nbformat": 4,
 "nbformat_minor": 5
}
