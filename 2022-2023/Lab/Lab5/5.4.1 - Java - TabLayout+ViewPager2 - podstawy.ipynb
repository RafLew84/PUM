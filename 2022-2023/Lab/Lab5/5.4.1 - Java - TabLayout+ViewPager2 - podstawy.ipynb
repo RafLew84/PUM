{
 "cells": [
  {
   "cell_type": "markdown",
   "id": "d35485d3-b1df-4e60-814d-d0ed5e69f5b4",
   "metadata": {},
   "source": [
    "## 5.4 TabLayout - ViewPager2"
   ]
  },
  {
   "cell_type": "markdown",
   "id": "8dc15b71-2aa7-4186-930b-d1aac1ed8351",
   "metadata": {},
   "source": [
    "Obok `Bottom Navigation` popularnym sposobem nawigacji w aplikacji jest zastosowanie `TabLayout` z `ViewPager2` - czyli nawigacja przez zakładki."
   ]
  },
  {
   "cell_type": "markdown",
   "id": "244adecb-9ebe-4d2d-9438-b61bff517470",
   "metadata": {},
   "source": [
    "<img src=\"https://media3.giphy.com/media/LlWHV0R2wtX74BgAp4/giphy.gif?cid=790b76117b4e012450c3250923ee6ccfc48e476446e3c919&rid=giphy.gif&ct=g\" width=\"200\" />"
   ]
  },
  {
   "cell_type": "markdown",
   "id": "4df56fd0-975b-4f08-9b25-bb2e084787db",
   "metadata": {},
   "source": [
    "Tutaj wykorzystamy `ViewPager` z `FragmentStateAdapter` - i jak poprzednio zrobimy tylko jeden fragment (`TemplateFragment`) na którym będziemy modyfikować tekst pola `TextView` w zależności od pozycji. Rozpocznijmy od dodania fragmentu"
   ]
  },
  {
   "cell_type": "code",
   "execution_count": null,
   "id": "e5a3cd6b-909e-4aa2-85a3-b6b65221b647",
   "metadata": {},
   "outputs": [],
   "source": [
    "public class TemplateFragment extends Fragment {\n",
    "\n",
    "    @Override\n",
    "    public View onCreateView(LayoutInflater inflater, ViewGroup container,\n",
    "                             Bundle savedInstanceState) {\n",
    "        // Inflate the layout for this fragment\n",
    "        return inflater.inflate(R.layout.fragment_template, container, false);\n",
    "    }\n",
    "}"
   ]
  },
  {
   "cell_type": "code",
   "execution_count": null,
   "id": "a661e9d5-246f-4e55-ab86-6d87a5bf4967",
   "metadata": {},
   "outputs": [],
   "source": [
    "<?xml version=\"1.0\" encoding=\"utf-8\"?>\n",
    "<FrameLayout xmlns:android=\"http://schemas.android.com/apk/res/android\"\n",
    "    xmlns:tools=\"http://schemas.android.com/tools\"\n",
    "    android:layout_width=\"match_parent\"\n",
    "    android:layout_height=\"match_parent\"\n",
    "    tools:context=\".TemplateFragment\">\n",
    "\n",
    "\n",
    "    <TextView\n",
    "        android:id=\"@+id/textView\"\n",
    "        android:layout_width=\"match_parent\"\n",
    "        android:layout_height=\"match_parent\"\n",
    "        android:textSize=\"36sp\"\n",
    "        android:gravity=\"center\"\n",
    "        android:text=\"FRAGMENT\" />\n",
    "\n",
    "</FrameLayout>"
   ]
  },
  {
   "cell_type": "markdown",
   "id": "7039cd66-28ad-4271-b6a3-de90c4ed036c",
   "metadata": {},
   "source": [
    "Tym razem nie przez konstruktor, a przez `Bundle` prześlemy pozycję do fragmentu. Rozpocznijmy od implementacji `PagerAdapter`. Ponownie mój `ViewPager` będzie znajdował się bezpośrednio w `MainActivity`, więc wykorzystam konstruktor z paramterem `FragmentActivity`"
   ]
  },
  {
   "cell_type": "code",
   "execution_count": null,
   "id": "15d3769b-26fe-4853-a83f-5c74de004316",
   "metadata": {},
   "outputs": [],
   "source": [
    "public PagerAdapter(@NonNull FragmentActivity fragmentActivity) {\n",
    "    super(fragmentActivity);\n",
    "}"
   ]
  },
  {
   "cell_type": "markdown",
   "id": "5893123a-6168-47c3-b23b-57b42d96e2be",
   "metadata": {},
   "source": [
    "Chcę utworzyć cztery elementy, więc `getItemCount` zwróci 4"
   ]
  },
  {
   "cell_type": "code",
   "execution_count": null,
   "id": "ea69b767-2354-4d00-8f58-184473cc4b92",
   "metadata": {},
   "outputs": [],
   "source": [
    "@Override\n",
    "public int getItemCount() {\n",
    "    return 4;\n",
    "}"
   ]
  },
  {
   "cell_type": "markdown",
   "id": "29a60248-038b-4070-a5c1-a6d061cf1ccb",
   "metadata": {},
   "source": [
    "W metodzie `createFragment` chcę utworzyć instancję `TemplateFragment`, oraz przez `Bundle` przekazać jego pozycję w `ViewPager`."
   ]
  },
  {
   "cell_type": "code",
   "execution_count": null,
   "id": "e2519404-4e42-4cc8-af76-ec4215ea0219",
   "metadata": {},
   "outputs": [],
   "source": [
    "public static final String arg = \"key\";\n",
    "\n",
    "@NonNull\n",
    "@Override\n",
    "public Fragment createFragment(int position) {\n",
    "    Fragment fragment = new TemplateFragment();\n",
    "    Bundle args = new Bundle();\n",
    "    args.putInt(arg, position + 1);\n",
    "    fragment.setArguments(args);\n",
    "    return fragment;\n",
    "}"
   ]
  },
  {
   "cell_type": "markdown",
   "id": "50b39bdd-55e0-4544-8724-06b813249216",
   "metadata": {},
   "source": [
    "Przejdźmy do implementacji `TemplateFragment`, w metodzie `onViewCreated` odbieramy przekazany argument wywołując metodę `getArguments` i ustawiam text pola `TextView`"
   ]
  },
  {
   "cell_type": "code",
   "execution_count": null,
   "id": "adbd965a-2f3e-4083-bfeb-a7f6b5bebcea",
   "metadata": {},
   "outputs": [],
   "source": [
    "@SuppressLint(\"SetTextI18n\") // zignorowanie warning o braku Locale\n",
    "@Override\n",
    "public void onViewCreated(@NonNull View view, @Nullable Bundle savedInstanceState) {\n",
    "    super.onViewCreated(view, savedInstanceState);\n",
    "    Bundle args = getArguments();\n",
    "    if (args != null) {\n",
    "        ((TextView) view.findViewById(R.id.textView))\n",
    "            .setText(\"Fragment \" + args.getInt(PagerAdapter.arg));\n",
    "    }\n",
    "}"
   ]
  },
  {
   "cell_type": "markdown",
   "id": "bd60141f-3279-4809-b3eb-e0599e7bbf0c",
   "metadata": {},
   "source": [
    "Przejdźmy do layoutu głównej aktywności i dodajmy `ViewPager` oraz `TabLayout`"
   ]
  },
  {
   "cell_type": "code",
   "execution_count": null,
   "id": "aedb7c3f-a19c-4012-baf9-363dd3fba6be",
   "metadata": {},
   "outputs": [],
   "source": [
    "<LinearLayout xmlns:android=\"http://schemas.android.com/apk/res/android\"\n",
    "    xmlns:app=\"http://schemas.android.com/apk/res-auto\"\n",
    "    xmlns:tools=\"http://schemas.android.com/tools\"\n",
    "    android:layout_width=\"match_parent\"\n",
    "    android:layout_height=\"match_parent\"\n",
    "    android:orientation=\"vertical\"\n",
    "    tools:context=\".MainActivity\">\n",
    "\n",
    "    <com.google.android.material.tabs.TabLayout\n",
    "        android:id=\"@+id/tabLayout\"\n",
    "        android:layout_width=\"match_parent\"\n",
    "        android:layout_height=\"wrap_content\" />\n",
    "\n",
    "    <androidx.viewpager2.widget.ViewPager2\n",
    "        android:id=\"@+id/viewPager\"\n",
    "        android:layout_width=\"match_parent\"\n",
    "        android:layout_height=\"0dp\"\n",
    "        android:layout_weight=\"1\"/>\n",
    "\n",
    "</LinearLayout>"
   ]
  },
  {
   "cell_type": "markdown",
   "id": "c56edad6-d3e1-471e-9155-e2c9180578d5",
   "metadata": {},
   "source": [
    "W metodzie `onCreate` klasy `MainActivity` wpierw tworzymy `ViewPager` i ustawwiamy `PagerAdapter`"
   ]
  },
  {
   "cell_type": "code",
   "execution_count": null,
   "id": "b4b416c2-7796-492b-bab1-037cc9ace558",
   "metadata": {},
   "outputs": [],
   "source": [
    "ViewPager2 viewPager2 = findViewById(R.id.viewPager);\n",
    "viewPager2.setAdapter(new PagerAdapter(this));"
   ]
  },
  {
   "cell_type": "markdown",
   "id": "9a61f44b-5af4-445c-a368-f1722fa3c5e0",
   "metadata": {},
   "source": [
    "Następnie tworzymy `TabLayout` i łączymy go z `ViewPager` przez utworzenie instancji `TabLayoutMediator` i wywołanie metody `attach`"
   ]
  },
  {
   "cell_type": "code",
   "execution_count": null,
   "id": "30d68b20-abea-472e-bd85-67c4c06eebcb",
   "metadata": {},
   "outputs": [],
   "source": [
    "TabLayout tabLayout = findViewById(R.id.tabLayout);\n",
    "new TabLayoutMediator(tabLayout, viewPager2,\n",
    "        (tab, position) -> tab.setText(\"Fragment\" + (position + 1))\n",
    ").attach();"
   ]
  },
  {
   "cell_type": "markdown",
   "id": "ce34d886-aa79-479c-92c0-537656e073c8",
   "metadata": {},
   "source": [
    "`TabLayoutMediator` przyjmuje trzy paramtery:\n",
    "- instancję `TabLayout`\n",
    "- instancję `ViewPager`\n",
    "- `TabLayoutMediator.TabConfigurationStrategy` - interfejs który musi zostać zaimplementowany w celu ustawienia tekstu oraz stylu zakładek oraz"
   ]
  },
  {
   "cell_type": "markdown",
   "id": "083b945c-45de-45bb-87b2-475d925aaf30",
   "metadata": {},
   "source": [
    "Możemy przetestować aplikację"
   ]
  },
  {
   "cell_type": "markdown",
   "id": "15857ffa-8606-4706-a83f-a58c4916d75a",
   "metadata": {},
   "source": [
    "<img src=\"https://media3.giphy.com/media/LlWHV0R2wtX74BgAp4/giphy.gif?cid=790b76117b4e012450c3250923ee6ccfc48e476446e3c919&rid=giphy.gif&ct=g\" width=\"150\" />"
   ]
  },
  {
   "cell_type": "code",
   "execution_count": null,
   "id": "04599758-ca2e-4ed1-80a4-5fd9357db2cc",
   "metadata": {},
   "outputs": [],
   "source": []
  }
 ],
 "metadata": {
  "kernelspec": {
   "display_name": "Java",
   "language": "java",
   "name": "java"
  },
  "language_info": {
   "codemirror_mode": "java",
   "file_extension": ".jshell",
   "mimetype": "text/x-java-source",
   "name": "Java",
   "pygments_lexer": "java",
   "version": "17+35-2724"
  }
 },
 "nbformat": 4,
 "nbformat_minor": 5
}
