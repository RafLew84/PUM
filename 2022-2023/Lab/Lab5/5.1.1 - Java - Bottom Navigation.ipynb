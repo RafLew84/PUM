{
 "cells": [
  {
   "cell_type": "markdown",
   "id": "196f59c9-f9ff-41f3-9428-eb839c3ecf60",
   "metadata": {},
   "source": [
    "## 4.5 Bottom Navigation"
   ]
  },
  {
   "cell_type": "markdown",
   "id": "86ca0e81-2d02-4a99-9fb5-70de7fc17c1b",
   "metadata": {},
   "source": [
    "Aplikacja posłuży do przedstawienia podstaw `BottomNavigation` - jednej z popularniejszych metod nawigacji."
   ]
  },
  {
   "cell_type": "markdown",
   "id": "c2f0209e-290d-45a2-a199-0cfb095190ab",
   "metadata": {},
   "source": [
    "<img src=\"https://media0.giphy.com/media/8mzEzkPcR5jBCVzjf5/giphy.gif?cid=790b761101e1065f89e55c786d7cc54428a8c153e97e7892&rid=giphy.gif&ct=g\" width=\"200\" />"
   ]
  },
  {
   "cell_type": "markdown",
   "id": "92087ae8-0cbe-4d08-a1fc-23beef896558",
   "metadata": {},
   "source": [
    "Aplikację rozpoczniemy od dodania fragmentów."
   ]
  },
  {
   "cell_type": "code",
   "execution_count": null,
   "id": "5d3192bb-4345-46fa-a2a7-17f5494a2a55",
   "metadata": {},
   "outputs": [],
   "source": [
    "public class HomeFragment extends Fragment {\n",
    "\n",
    "    @Override\n",
    "    public View onCreateView(LayoutInflater inflater, ViewGroup container,\n",
    "                             Bundle savedInstanceState) {\n",
    "        // Inflate the layout for this fragment\n",
    "        return inflater.inflate(R.layout.fragment_home, container, false);\n",
    "    }\n",
    "}"
   ]
  },
  {
   "cell_type": "code",
   "execution_count": null,
   "id": "9786b71a-2785-4d2c-b5f4-1f7db7ce4dc0",
   "metadata": {},
   "outputs": [],
   "source": [
    "public class FirstFragment extends Fragment {\n",
    "\n",
    "    @Override\n",
    "    public View onCreateView(LayoutInflater inflater, ViewGroup container,\n",
    "                             Bundle savedInstanceState) {\n",
    "        // Inflate the layout for this fragment\n",
    "        return inflater.inflate(R.layout.fragment_first, container, false);\n",
    "    }\n",
    "}"
   ]
  },
  {
   "cell_type": "code",
   "execution_count": null,
   "id": "f6c98974-0d2e-4195-8ffe-1267af5a52c8",
   "metadata": {},
   "outputs": [],
   "source": [
    "public class SecondFragment extends Fragment {\n",
    "\n",
    "    @Override\n",
    "    public View onCreateView(LayoutInflater inflater, ViewGroup container,\n",
    "                             Bundle savedInstanceState) {\n",
    "        // Inflate the layout for this fragment\n",
    "        return inflater.inflate(R.layout.fragment_second, container, false);\n",
    "    }\n",
    "}"
   ]
  },
  {
   "cell_type": "code",
   "execution_count": null,
   "id": "d33fe88b-c3b3-444f-8b2f-8ffad851b4b1",
   "metadata": {},
   "outputs": [],
   "source": [
    "public class SettingsFragment extends Fragment {\n",
    "\n",
    "    @Override\n",
    "    public View onCreateView(LayoutInflater inflater, ViewGroup container,\n",
    "                             Bundle savedInstanceState) {\n",
    "        // Inflate the layout for this fragment\n",
    "        return inflater.inflate(R.layout.fragment_settings, container, false);\n",
    "    }\n",
    "}"
   ]
  },
  {
   "cell_type": "markdown",
   "id": "4ab8597e-2fa8-47b9-b25c-e8da95449fca",
   "metadata": {},
   "source": [
    "Layouty są identyczne za wyjątkiem tekstu w polu `TextView`\n",
    "\n",
    "```xml\n",
    "<?xml version=\"1.0\" encoding=\"utf-8\"?>\n",
    "<FrameLayout xmlns:android=\"http://schemas.android.com/apk/res/android\"\n",
    "    xmlns:tools=\"http://schemas.android.com/tools\"\n",
    "    android:layout_width=\"match_parent\"\n",
    "    android:layout_height=\"match_parent\"\n",
    "    tools:context=\".HomeFragment\">\n",
    "\n",
    "    <TextView\n",
    "        android:layout_width=\"match_parent\"\n",
    "        android:layout_height=\"match_parent\"\n",
    "        android:layout_gravity=\"center\"\n",
    "        android:gravity=\"center\"\n",
    "        android:text=\"HOME\"\n",
    "        android:textSize=\"67sp\"\n",
    "        android:textStyle=\"bold\" />\n",
    "\n",
    "</FrameLayout>\n",
    "```"
   ]
  },
  {
   "cell_type": "markdown",
   "id": "a472f84d-187a-46ed-91ad-8df04d73bfb3",
   "metadata": {},
   "source": [
    "### **BottomNavigationView**"
   ]
  },
  {
   "cell_type": "markdown",
   "id": "a1c2a0a6-d9b8-4844-a4b5-489b4e9d1482",
   "metadata": {},
   "source": [
    "W kolejnym kroku dodajmy nawigację. Nie definiujemy żadnych akcji pomiędzy fragmentami - `HomeFragment` ustawiamy jako *domowy*.\n",
    "\n",
    "<img src=\"https://files.fm/thumb_show.php?i=a2jvc2ttk\" width=\"400\" />\n",
    "\n",
    "```xml\n",
    "<?xml version=\"1.0\" encoding=\"utf-8\"?>\n",
    "<navigation xmlns:android=\"http://schemas.android.com/apk/res/android\"\n",
    "    xmlns:app=\"http://schemas.android.com/apk/res-auto\"\n",
    "    xmlns:tools=\"http://schemas.android.com/tools\"\n",
    "    android:id=\"@+id/navigation\"\n",
    "    app:startDestination=\"@id/homeFragment\">\n",
    "\n",
    "    <fragment\n",
    "        android:id=\"@+id/firstFragment\"\n",
    "        android:name=\"pl.edu.uwr.pum.bottomnavigationkotlin.FirstFragment\"\n",
    "        android:label=\"fragment_first\"\n",
    "        tools:layout=\"@layout/fragment_first\" />\n",
    "    <fragment\n",
    "        android:id=\"@+id/homeFragment\"\n",
    "        android:name=\"pl.edu.uwr.pum.bottomnavigationkotlin.HomeFragment\"\n",
    "        android:label=\"fragment_home\"\n",
    "        tools:layout=\"@layout/fragment_home\" />\n",
    "    <fragment\n",
    "        android:id=\"@+id/secondFragment\"\n",
    "        android:name=\"pl.edu.uwr.pum.bottomnavigationkotlin.SecondFragment\"\n",
    "        android:label=\"fragment_second\"\n",
    "        tools:layout=\"@layout/fragment_second\" />\n",
    "    <fragment\n",
    "        android:id=\"@+id/settingsFragment\"\n",
    "        android:name=\"pl.edu.uwr.pum.bottomnavigationkotlin.SettingsFragment\"\n",
    "        android:label=\"fragment_settings\"\n",
    "        tools:layout=\"@layout/fragment_settings\" />\n",
    "</navigation>\n",
    "```\n",
    "\n",
    "Następnie zdefiniujmy `menu` dla `BottomNavigation`. Do katalogu **res/menu** dodajemy plik `bottom_nav_menu`\n",
    "\n",
    "```xml\n",
    "<?xml version=\"1.0\" encoding=\"utf-8\"?>\n",
    "<menu xmlns:android=\"http://schemas.android.com/apk/res/android\">\n",
    "    <item\n",
    "        android:id=\"@id/homeFragment\"\n",
    "        android:icon=\"@drawable/ic_home\"\n",
    "        android:title=\"HOME\" />\n",
    "    <item\n",
    "        android:id=\"@id/firstFragment\"\n",
    "        android:icon=\"@drawable/ic_android\"\n",
    "        android:title=\"FIRST\" />\n",
    "\n",
    "    <item\n",
    "        android:id=\"@id/secondFragment\"\n",
    "        android:icon=\"@drawable/ic_email\"\n",
    "        android:title=\"SECOND\" />\n",
    "</menu>\n",
    "```\n",
    "\n",
    "Ikony możemy dodać do katalogu `drawable` z menu kontekstowego wybierając **New -> Vector Asset**. `id` pozecji wc `menu` musi być takie same jak w nawigacji - w pliku `navigation.xml`. Przejdźmy do layoutu głównej aktywności i dodajmy `FragmentContainer` oraz `BottomNavigationView`\n",
    "\n",
    "```xml\n",
    "<?xml version=\"1.0\" encoding=\"utf-8\"?>\n",
    "<LinearLayout xmlns:android=\"http://schemas.android.com/apk/res/android\"\n",
    "    xmlns:tools=\"http://schemas.android.com/tools\"\n",
    "    xmlns:app=\"http://schemas.android.com/apk/res-auto\"\n",
    "    android:layout_width=\"match_parent\"\n",
    "    android:layout_height=\"match_parent\"\n",
    "    android:orientation=\"vertical\"\n",
    "    tools:context=\".MainActivity\">\n",
    "\n",
    "    <androidx.fragment.app.FragmentContainerView\n",
    "        android:id=\"@+id/nav_host_fragment\"\n",
    "        android:name=\"androidx.navigation.fragment.NavHostFragment\"\n",
    "        android:layout_width=\"match_parent\"\n",
    "        android:layout_height=\"0dp\"\n",
    "        android:layout_weight=\"1\"\n",
    "        app:defaultNavHost=\"true\"\n",
    "        app:navGraph=\"@navigation/navigation\"/>\n",
    "\n",
    "    <com.google.android.material.bottomnavigation.BottomNavigationView\n",
    "        android:id=\"@+id/bottom_nav_view\"\n",
    "        android:layout_width=\"match_parent\"\n",
    "        android:layout_height=\"wrap_content\"\n",
    "        app:menu=\"@menu/bottom_nav_menu\" />\n",
    "\n",
    "</LinearLayout>\n",
    "```\n",
    "\n",
    "Ostatnim krokiem jest połączenie głównej aktywności z `Jetpack Navigation` oraz `BottomNavigationView`. Przedźmy do klasy `MainActivity`. Wpierw dodajmy `NavController`"
   ]
  },
  {
   "cell_type": "code",
   "execution_count": null,
   "id": "6abf0450-7a16-4b64-b092-2a7c617622f2",
   "metadata": {},
   "outputs": [],
   "source": [
    "private NavController navController;\n",
    "\n",
    "@Override\n",
    "protected void onCreate(Bundle savedInstanceState) {\n",
    "    super.onCreate(savedInstanceState);\n",
    "    setContentView(R.layout.activity_main);\n",
    "\n",
    "    NavHostFragment navHostFragment = (NavHostFragment) getSupportFragmentManager()\n",
    "            .findFragmentById(R.id.nav_host_fragment);\n",
    "\n",
    "    if (navHostFragment != null) {\n",
    "        navController = NavHostFragment.findNavController(navHostFragment);\n",
    "    }\n",
    "}"
   ]
  },
  {
   "cell_type": "markdown",
   "id": "59a76844-77de-49e9-b316-724f059fc005",
   "metadata": {},
   "source": [
    "Następnie musimy połączyć `BottomNavigationView` z `Navigation` - robimy to w metodzie `onCreate`"
   ]
  },
  {
   "cell_type": "code",
   "execution_count": null,
   "id": "f85dabab-f4a5-4747-830e-1a4818a8d2b6",
   "metadata": {},
   "outputs": [],
   "source": [
    "BottomNavigationView bottomNavigationView = findViewById(R.id.bottom_nav_view);\n",
    "NavigationUI.setupWithNavController(bottomNavigationView, navController);"
   ]
  },
  {
   "cell_type": "markdown",
   "id": "4c7a553a-f224-4628-b09b-914616a88795",
   "metadata": {},
   "source": [
    "Możemy przetestować aplikację"
   ]
  },
  {
   "cell_type": "markdown",
   "id": "bfceb10e-b8f8-4175-ae68-448471b4b801",
   "metadata": {},
   "source": [
    "<img src=\"https://media1.giphy.com/media/RAoPBRNJRh3xGzK5Mg/giphy.gif?cid=790b761142c45c3857e061db4a4da9d95ce06a0511e4cf6a&rid=giphy.gif&ct=g\" width=\"150\" />"
   ]
  },
  {
   "cell_type": "markdown",
   "id": "8a43c209-a3b5-440f-b411-6cb12374c769",
   "metadata": {},
   "source": [
    "### **Menu Navigation**"
   ]
  },
  {
   "cell_type": "markdown",
   "id": "8ea9d58d-291c-46c7-a893-ad25a7d55bbf",
   "metadata": {},
   "source": [
    "Dodamy jeszcze możliwość przejścia na `SettingsFragment` z poziomu `menu` na `Actionbar`. W pierwszym kroku zdefiniujmy nasze menu - do katalogu `menu` dodajemy plik `actionbar_menu.xml`\n",
    "\n",
    "```xml\n",
    "<?xml version=\"1.0\" encoding=\"utf-8\"?>\n",
    "<menu xmlns:android=\"http://schemas.android.com/apk/res/android\">\n",
    "    <item\n",
    "        android:id=\"@id/settingsFragment\"\n",
    "        android:icon=\"@drawable/ic_settings\"\n",
    "        android:title=\"SETTINGS\" />\n",
    "</menu>\n",
    "```\n",
    "\n",
    "Następnie musimy zdefiniować `AppBarConfiguration` i połączyć `Actionbar` z `NavControoller`. W `MainActivity` dodajemy"
   ]
  },
  {
   "cell_type": "code",
   "execution_count": null,
   "id": "73d7cbdb-47c5-4b11-942d-9e2a3a6b8eb8",
   "metadata": {},
   "outputs": [],
   "source": [
    "private NavController navController;\n",
    "\n",
    "private AppBarConfiguration appBarConfiguration;\n",
    "\n",
    "@Override\n",
    "protected void onCreate(Bundle savedInstanceState) {\n",
    "    super.onCreate(savedInstanceState);\n",
    "    setContentView(R.layout.activity_main);\n",
    "\n",
    "    NavHostFragment navHostFragment = (NavHostFragment) getSupportFragmentManager()\n",
    "            .findFragmentById(R.id.nav_host_fragment);\n",
    "\n",
    "    if (navHostFragment != null) {\n",
    "        navController = NavHostFragment.findNavController(navHostFragment);\n",
    "    }\n",
    "\n",
    "    appBarConfiguration =  new AppBarConfiguration\n",
    "            .Builder(navController.getGraph())\n",
    "            .build();\n",
    "\n",
    "    BottomNavigationView bottomNavigationView = findViewById(R.id.bottom_nav_view);\n",
    "    NavigationUI.setupWithNavController(bottomNavigationView, navController);\n",
    "    \n",
    "    NavigationUI.setupActionBarWithNavController(this, navController, appBarConfiguration);\n",
    "}"
   ]
  },
  {
   "cell_type": "markdown",
   "id": "f671f2f0-7055-4b80-8fa9-845df92a5c10",
   "metadata": {},
   "source": [
    "Musimy również połączyć layout menu zdefiniowany w pliku `actionbar_menu` z `ActionBar` - robimy do w klasie `MainActivity` nadpisując metodę `onCreateOptionsMenu`"
   ]
  },
  {
   "cell_type": "code",
   "execution_count": null,
   "id": "1433227d-4fe3-43a0-9587-a25def621a3f",
   "metadata": {},
   "outputs": [],
   "source": [
    "@Override\n",
    "public boolean onCreateOptionsMenu(@NonNull Menu menu) {\n",
    "    getMenuInflater().inflate(R.menu.actionbar_menu, menu);\n",
    "    return super.onCreateOptionsMenu(menu);\n",
    "}"
   ]
  },
  {
   "cell_type": "markdown",
   "id": "80dc67d4-551b-4aa6-b689-ec0e8e9444c8",
   "metadata": {},
   "source": [
    "Kolejnym krokiem jest dodanie możliwości nawigacji przy kliknięciu wybranej opcji - to wykonujemy nadpisując metodę `onOptionsItemSelected` w klasie `MainActivity`"
   ]
  },
  {
   "cell_type": "code",
   "execution_count": null,
   "id": "2115bbaa-37e3-4964-b2ca-af6468187881",
   "metadata": {},
   "outputs": [],
   "source": [
    "@Override\n",
    "public boolean onOptionsItemSelected(@NonNull MenuItem item) {\n",
    "    return NavigationUI.onNavDestinationSelected(item, navController)\n",
    "            || super.onOptionsItemSelected(item);\n",
    "}"
   ]
  },
  {
   "cell_type": "markdown",
   "id": "c7713e4b-ab56-4aa2-b179-3e798471cb78",
   "metadata": {},
   "source": [
    "Ostatnim elementem będzie umożliwienie powrotu z `SettingsFragment` do `HomeFragment` przez przycisk powrotu w aplikacji - w tym celu nadpisujemy metodę `onSupportNavigateUp` w klasie `MainActivity`"
   ]
  },
  {
   "cell_type": "code",
   "execution_count": null,
   "id": "d78b087f-c41b-47fc-8117-7e14ca85fdc2",
   "metadata": {},
   "outputs": [],
   "source": [
    "@Override\n",
    "public boolean onSupportNavigateUp() {\n",
    "    return NavigationUI.navigateUp(navController, appBarConfiguration)\n",
    "            || super.onSupportNavigateUp();\n",
    "}"
   ]
  },
  {
   "cell_type": "markdown",
   "id": "f0068cd6-77e0-4c18-9492-6adade20b77a",
   "metadata": {},
   "source": [
    "Możemy przetestować aplikację"
   ]
  },
  {
   "cell_type": "markdown",
   "id": "3bc3b344-b189-4d24-a229-2dda5ebe4356",
   "metadata": {},
   "source": [
    "<img src=\"https://media0.giphy.com/media/8mzEzkPcR5jBCVzjf5/giphy.gif?cid=790b761101e1065f89e55c786d7cc54428a8c153e97e7892&rid=giphy.gif&ct=g\" width=\"150\" />"
   ]
  },
  {
   "cell_type": "code",
   "execution_count": null,
   "id": "302ee461-802e-4865-96a7-4471aceaba46",
   "metadata": {},
   "outputs": [],
   "source": []
  }
 ],
 "metadata": {
  "kernelspec": {
   "display_name": "Java",
   "language": "java",
   "name": "java"
  },
  "language_info": {
   "codemirror_mode": "java",
   "file_extension": ".jshell",
   "mimetype": "text/x-java-source",
   "name": "Java",
   "pygments_lexer": "java",
   "version": "17+35-2724"
  }
 },
 "nbformat": 4,
 "nbformat_minor": 5
}
