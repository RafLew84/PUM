{
 "cells": [
  {
   "cell_type": "markdown",
   "id": "7ef0491f-8fdf-414a-ae5c-70fb818a5b62",
   "metadata": {},
   "source": [
    "## 5.2 ViewPager2 - FragmentStateAdapter"
   ]
  },
  {
   "cell_type": "markdown",
   "id": "4a12efce-8160-43dd-b47d-5cd9dc731503",
   "metadata": {},
   "source": [
    "W tej aplikacji wykorzystamy `ViewPager2` z `FragmentStateAdapter` do przełączania się pomiędzy fragmentami"
   ]
  },
  {
   "cell_type": "markdown",
   "id": "087f9a64-a868-4de8-80d4-0fe4b308e6d8",
   "metadata": {},
   "source": [
    "<img src=\"https://media1.giphy.com/media/wliEyLAjczpotTaO2G/giphy.gif?cid=790b7611c738cd8544979998f3a67fceb1f27b20d4a9e363&rid=giphy.gif&ct=g\" width=\"200\" />"
   ]
  },
  {
   "cell_type": "markdown",
   "id": "266877fb-c7b9-46dd-9a1d-6e0786778ef1",
   "metadata": {},
   "source": [
    "W pierwszym kroku dodajmy `TemplateFragment`, który posłuży nam za szablon - wykorzystamy go cztery razy do utworzenia czterech ekranów."
   ]
  },
  {
   "cell_type": "code",
   "execution_count": null,
   "id": "a8b90549-390a-43fc-aa83-9a8447075f5b",
   "metadata": {},
   "outputs": [],
   "source": [
    "class TemplateFragment (private val position: Int) : Fragment() {\n",
    "\n",
    "    override fun onCreateView(\n",
    "        inflater: LayoutInflater, container: ViewGroup?,\n",
    "        savedInstanceState: Bundle?\n",
    "    ): View? {\n",
    "        // Inflate the layout for this fragment\n",
    "        return inflater.inflate(R.layout.fragment_template, container, false)\n",
    "    }\n",
    "\n",
    "    @SuppressLint(\"SetTextI18n\")\n",
    "    override fun onViewCreated(view: View, savedInstanceState: Bundle?) {\n",
    "        super.onViewCreated(view, savedInstanceState)\n",
    "        view.findViewById<TextView>(R.id.textView).text = \"FRAGMENT $position\"\n",
    "    }\n",
    "}"
   ]
  },
  {
   "cell_type": "markdown",
   "id": "fe9f86b5-3145-4d98-9e57-00b0cc4be149",
   "metadata": {},
   "source": [
    "```xml\n",
    "<?xml version=\"1.0\" encoding=\"utf-8\"?>\n",
    "<FrameLayout xmlns:android=\"http://schemas.android.com/apk/res/android\"\n",
    "    xmlns:tools=\"http://schemas.android.com/tools\"\n",
    "    android:layout_width=\"match_parent\"\n",
    "    android:layout_height=\"match_parent\"\n",
    "    tools:context=\".TemplateFragment\">\n",
    "\n",
    "\n",
    "    <TextView\n",
    "        android:id=\"@+id/textView\"\n",
    "        android:layout_width=\"match_parent\"\n",
    "        android:layout_height=\"match_parent\"\n",
    "        android:textSize=\"36sp\"\n",
    "        android:gravity=\"center\"\n",
    "        android:text=\"FRAGMENT\" />\n",
    "\n",
    "</FrameLayout>\n",
    "```\n",
    "\n",
    "Jak widzimy layout zawiera tylko jedno pole `TextView` na którym będziemy wyświetlać nazwę \"Fragment\", wraz z jego pozycją w `FragmentStateAdapter`. Pozycję przekażemy w konstruktorze.\n",
    "\n",
    "Przejdźmy do utworzenia `FragmentStateAdapter` - podobnie jak w przypadku `RecyclerView`, `ViewPager` wymaga adaptera do poprawnego wyświetlania danych. Nasza klasa `PagerAdapter` musi rozszerzać klasę `FragemntStateAdapter`"
   ]
  },
  {
   "cell_type": "code",
   "execution_count": null,
   "id": "39ab03b7-0423-4d6e-ab2b-9f0eadcc0778",
   "metadata": {},
   "outputs": [],
   "source": [
    "class PagerAdapter(fragmentActivity: FragmentActivity) : FragmentStateAdapter(fragmentActivity) {}"
   ]
  },
  {
   "cell_type": "markdown",
   "id": "e4ac245b-0149-4aff-b4ff-cf5e7db57509",
   "metadata": {},
   "source": [
    "W tym przykładzie będziemy umieszczać `ViewPager` bezpośrednio w `MainActivity`, więc parametrem konstruktora będzie `FragmentActivity` - jeżeli chcemy umieścić go we fragmencie, może przyjmować `Fragment`."
   ]
  },
  {
   "cell_type": "markdown",
   "id": "9e787a2c-9500-4e8d-bb28-dd7209df9a43",
   "metadata": {},
   "source": [
    "W odróżnieniu od `RecyclerView.Adapter` tutaj musimy zaimplementować tylko dwie metody. Pierwszą jest `createFragment` która zwraca fragment na odpowiedniej pozycji. Drugą metodą jest `getItemCount` zwracająca liczbę elementów - jest to metoda pochodząca z klasy `RecyclerView.Adapter`, którą `FragmentStateAdapter` rozszerza."
   ]
  },
  {
   "cell_type": "markdown",
   "id": "d4900d57-4689-494e-9d7f-1800248af4f7",
   "metadata": {},
   "source": [
    "Metoda `createFragment` będzie nam zwracać instancję `TemplateFragment`, przez argument przekażemy pozycję która później zostanie wyświetlona w `TextView`.\n",
    "\n",
    "Metoda `getItemCount` zwraca nam liczbę elementów, tutaj będzie ona przechowywana w klasie `MainActivity`"
   ]
  },
  {
   "cell_type": "code",
   "execution_count": null,
   "id": "e34216b0-c5d7-4054-9bfb-45def7635c7d",
   "metadata": {},
   "outputs": [],
   "source": [
    "class PagerAdapter(fragmentActivity: FragmentActivity) : FragmentStateAdapter(fragmentActivity) {\n",
    "\n",
    "    override fun getItemCount(): Int = MainActivity.num\n",
    "\n",
    "    override fun createFragment(position: Int): Fragment {\n",
    "        return TemplateFragment(position)\n",
    "    }\n",
    "}"
   ]
  },
  {
   "cell_type": "code",
   "execution_count": null,
   "id": "d0123c0a-200f-4171-85dc-ef6d59e0957c",
   "metadata": {},
   "outputs": [],
   "source": [
    "class MainActivity : AppCompatActivity() {\n",
    "\n",
    "    override fun onCreate(savedInstanceState: Bundle?) {\n",
    "        super.onCreate(savedInstanceState)\n",
    "        setContentView(R.layout.activity_main)\n",
    "    }\n",
    "\n",
    "    companion object{\n",
    "        const val num = 4\n",
    "    }\n",
    "}"
   ]
  },
  {
   "cell_type": "markdown",
   "id": "d65987d7-46fb-4c53-ba58-1b4ef279d14a",
   "metadata": {},
   "source": [
    "Dodajmy `ViewPager` do layoutu głównej aktywności\n",
    "\n",
    "```xml\n",
    "<?xml version=\"1.0\" encoding=\"utf-8\"?>\n",
    "<androidx.constraintlayout.widget.ConstraintLayout xmlns:android=\"http://schemas.android.com/apk/res/android\"\n",
    "    xmlns:app=\"http://schemas.android.com/apk/res-auto\"\n",
    "    xmlns:tools=\"http://schemas.android.com/tools\"\n",
    "    android:layout_width=\"match_parent\"\n",
    "    android:layout_height=\"match_parent\"\n",
    "    tools:context=\".MainActivity\">\n",
    "\n",
    "    <androidx.viewpager2.widget.ViewPager2\n",
    "        android:id=\"@+id/viewPager\"\n",
    "        android:layout_width=\"match_parent\"\n",
    "        android:layout_height=\"match_parent\"\n",
    "        app:layout_constraintBottom_toBottomOf=\"parent\"\n",
    "        app:layout_constraintEnd_toEndOf=\"parent\"\n",
    "        app:layout_constraintStart_toStartOf=\"parent\"\n",
    "        app:layout_constraintTop_toTopOf=\"parent\" />\n",
    "</androidx.constraintlayout.widget.ConstraintLayout>\n",
    "```\n",
    "\n",
    "Następnie w metodzie `onCreate` klasy `MainActivity` utworzymy `ViewPager` oraz połączymy z `PagerAdapter` dokładnie w taki sam sposób jak w przypadku `RecyclerView`."
   ]
  },
  {
   "cell_type": "code",
   "execution_count": null,
   "id": "d82bf7a4-e7d2-43f6-95ac-89500deb25c9",
   "metadata": {},
   "outputs": [],
   "source": [
    "class MainActivity : AppCompatActivity() {\n",
    "\n",
    "    override fun onCreate(savedInstanceState: Bundle?) {\n",
    "        super.onCreate(savedInstanceState)\n",
    "        setContentView(R.layout.activity_main)\n",
    "\n",
    "        findViewById<ViewPager2>(R.id.viewPager).apply {\n",
    "            adapter = PagerAdapter(this@MainActivity)\n",
    "        }\n",
    "    }\n",
    "\n",
    "    companion object{\n",
    "        const val num = 4\n",
    "    }\n",
    "}"
   ]
  },
  {
   "cell_type": "markdown",
   "id": "e0e455fb-b526-4b2a-a762-0942b855dfec",
   "metadata": {},
   "source": [
    "Możemy przetestować aplikację"
   ]
  },
  {
   "cell_type": "markdown",
   "id": "abad932b-e957-4088-8ade-0423ccf50019",
   "metadata": {},
   "source": [
    "<img src=\"https://media1.giphy.com/media/wliEyLAjczpotTaO2G/giphy.gif?cid=790b7611c738cd8544979998f3a67fceb1f27b20d4a9e363&rid=giphy.gif&ct=g\" width=\"150\" />"
   ]
  },
  {
   "cell_type": "code",
   "execution_count": null,
   "id": "94675521-f7bb-4206-a625-a22423e03790",
   "metadata": {},
   "outputs": [],
   "source": []
  }
 ],
 "metadata": {
  "kernelspec": {
   "display_name": "Kotlin",
   "language": "kotlin",
   "name": "kotlin"
  },
  "language_info": {
   "codemirror_mode": "text/x-kotlin",
   "file_extension": ".kt",
   "mimetype": "text/x-kotlin",
   "name": "kotlin",
   "nbconvert_exporter": "",
   "pygments_lexer": "kotlin",
   "version": "1.6.20-dev-6372"
  }
 },
 "nbformat": 4,
 "nbformat_minor": 5
}
