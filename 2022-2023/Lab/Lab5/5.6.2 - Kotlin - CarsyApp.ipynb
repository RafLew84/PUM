{
 "cells": [
  {
   "cell_type": "markdown",
   "id": "46af416e-8479-4307-9a7c-42e916f39723",
   "metadata": {},
   "source": [
    "## 5.6 Carsy"
   ]
  },
  {
   "cell_type": "markdown",
   "id": "caf517da-f16e-4057-a0b3-626655409eaa",
   "metadata": {},
   "source": [
    "Aplikacja wykorzystuje `BottomNavigation` oraz `DrawerNavigation`. Po raz kolejny wykorzystamy tylko statyczne dostarczone przez obiekt `dataProvider`. Wykorzystamy `RecyclerView` w kilku różnych konfiguracjach. Będzie to uboga wersja [Fuelio](https://play.google.com/store/apps/details?id=com.kajda.fuelio&hl=pl&gl=US)\n",
    "- `RecyclerView` z grupowaniem elementów osiągniętym przez wykorzystanie dwóch `ViewHolder`"
   ]
  },
  {
   "cell_type": "code",
   "execution_count": null,
   "id": "b59bb9de-41ec-4cd7-bb1d-8583ed442366",
   "metadata": {},
   "outputs": [],
   "source": []
  },
  {
   "cell_type": "markdown",
   "id": "ee04b0e1-d034-4d7d-9c56-f3e74835cb57",
   "metadata": {},
   "source": [
    "### **BottomNavigation**"
   ]
  },
  {
   "cell_type": "markdown",
   "id": "3d45140c-fb35-43ab-8ac6-7ed2bddd8183",
   "metadata": {},
   "source": [
    "Rozpocznijmy od dodania trzech pustych fragmentów (`OverviewFragment`, `CalculatorsFragment`, `TimeLineFragment`) i nawigacji\n",
    "\n",
    "`navigation.xml`\n",
    "```xml\n",
    "<?xml version=\"1.0\" encoding=\"utf-8\"?>\n",
    "<navigation xmlns:android=\"http://schemas.android.com/apk/res/android\"\n",
    "    xmlns:app=\"http://schemas.android.com/apk/res-auto\"\n",
    "    xmlns:tools=\"http://schemas.android.com/tools\"\n",
    "    android:id=\"@+id/navigation\"\n",
    "    app:startDestination=\"@id/overviewFragment\">\n",
    "\n",
    "    <fragment\n",
    "        android:id=\"@+id/calculatorsFragment\"\n",
    "        android:name=\"pl.udu.uwr.pum.carsyappkotlin.fragments.CalculatorsFragment\"\n",
    "        android:label=\"fragment_calculators\"\n",
    "        tools:layout=\"@layout/fragment_calculators\" />\n",
    "    <fragment\n",
    "        android:id=\"@+id/timeLineFragment\"\n",
    "        android:name=\"pl.udu.uwr.pum.carsyappkotlin.fragments.TimeLineFragment\"\n",
    "        android:label=\"fragment_time_line\"\n",
    "        tools:layout=\"@layout/fragment_time_line\" />\n",
    "    <fragment\n",
    "        android:id=\"@+id/overviewFragment\"\n",
    "        android:name=\"pl.udu.uwr.pum.carsyappkotlin.fragments.OverviewFragment\"\n",
    "        android:label=\"fragment_overview\"\n",
    "        tools:layout=\"@layout/fragment_overview\" />\n",
    "</navigation>\n",
    "```\n",
    "\n",
    "Po raz kolejny dodajemy tylko fragmenty nie definiując dla nich akcji. `OverviewFragment` oznaczam jako fragment domowy. Musimy również utworzyć `menu` dla `BottomNavigation`\n",
    "\n",
    "`bottom_menu.xml`\n",
    "```xml\n",
    "<?xml version=\"1.0\" encoding=\"utf-8\"?>\n",
    "<menu xmlns:android=\"http://schemas.android.com/apk/res/android\">\n",
    "    <item\n",
    "        android:id=\"@id/overviewFragment\"\n",
    "        android:title=\"@string/overview\" />\n",
    "    <item\n",
    "        android:id=\"@id/timeLineFragment\"\n",
    "        android:title=\"@string/time_line\" />\n",
    "\n",
    "    <item\n",
    "        android:id=\"@id/calculatorsFragment\"\n",
    "        android:title=\"@string/calculators\" />\n",
    "</menu>\n",
    "```\n",
    "\n",
    "Pamiętajmy, że `android:id` muszą być takie same jak w `navigation.xml` aby automatyczna nawigacja działała prawidłowo.\n",
    "\n",
    "Przejdźmy do `MainActivity` i dodajmy nawigację oraz połączmy ją z `BottomNavigation`"
   ]
  },
  {
   "cell_type": "code",
   "execution_count": null,
   "id": "62c33900-472f-4911-888d-6108d3220006",
   "metadata": {},
   "outputs": [],
   "source": [
    "class MainActivity : AppCompatActivity() {\n",
    "\n",
    "    private val navController: NavController by lazy {\n",
    "        val navHostFragment = supportFragmentManager.findFragmentById(R.id.nav_host_fragment)\n",
    "                as NavHostFragment\n",
    "        navHostFragment.findNavController()\n",
    "    }\n",
    "\n",
    "    override fun onCreate(savedInstanceState: Bundle?) {\n",
    "        super.onCreate(savedInstanceState)\n",
    "        setContentView(R.layout.activity_main)\n",
    "\n",
    "        val bottomNav = findViewById<BottomNavigationView>(R.id.bottom_nav_view)\n",
    "        bottomNav?.setupWithNavController(navController)\n",
    "    }\n",
    "}"
   ]
  },
  {
   "cell_type": "markdown",
   "id": "261f7cad-735b-48be-93ae-56b2a96882ed",
   "metadata": {},
   "source": [
    "W efekcie powinniśmy otrzymać podstawową nawigację z trzema ekranami."
   ]
  },
  {
   "cell_type": "markdown",
   "id": "bec52b19-63bb-416e-b2ce-edd87bfe3e17",
   "metadata": {},
   "source": [
    "<img src=\"https://media1.giphy.com/media/x0j1SX0qmejSUNRtHu/giphy.gif?cid=790b7611bcaddd3fe77b775f20dd38e5e0cfa788c1e83df7&rid=giphy.gif&ct=g\" width=\"150\" />"
   ]
  },
  {
   "cell_type": "markdown",
   "id": "25361aae-0041-44a9-a055-1b68e6a18338",
   "metadata": {},
   "source": [
    "### **TimeLineFragment**"
   ]
  },
  {
   "cell_type": "markdown",
   "id": "276b196f-f651-4608-b20e-72d3453a8a25",
   "metadata": {},
   "source": [
    "Chcemy przygotować listę w postaci osi czasu, która będzie zbliżona do tego co oferuje aplikacja **Fuelio**"
   ]
  },
  {
   "cell_type": "markdown",
   "id": "07e91673-cd4c-4beb-864f-094c572716e0",
   "metadata": {},
   "source": [
    "<img src=\"https://play-lh.googleusercontent.com/Lm6SO1jsUF-VjsrfkIV9x-qpPIkIOIvgWkBGmxyZuHWPSbkYMS0oLhgoBk9wLXq6Xw=w5120-h2880\" width=\"150\" />"
   ]
  },
  {
   "cell_type": "markdown",
   "id": "b489308d-2da7-4dbe-bc70-6af122411ca7",
   "metadata": {},
   "source": [
    "Zrobimy to w postaci `RecyclerView` z dwoma `ViewHolder`. Wpierw przygotujmy dane. Typ kosztu zdefiniujemy jako `enum class`, będziemy przechowywać w niej typ oraz ikonę."
   ]
  },
  {
   "cell_type": "code",
   "execution_count": null,
   "id": "c82d6909-9817-44bd-bef5-da6f3dd51f91",
   "metadata": {},
   "outputs": [],
   "source": [
    "enum class CostType(val costType: String, val icon: Int) {\n",
    "    REFUELING(\"Tankowanie\", R.drawable.ic_fuel),\n",
    "    SERVICE(\"Serwis\", R.drawable.ic_car_repair),\n",
    "    PARKING(\"Parking\", R.drawable.ic_parking),\n",
    "    INSURANCE(\"Ubezpieczenie\", R.drawable.ic_general_cost),\n",
    "    TICKET(\"Mandat\", R.drawable.ic_ticket)\n",
    "}"
   ]
  },
  {
   "cell_type": "markdown",
   "id": "6304ae97-4c08-4e5a-a510-ab326235ac8d",
   "metadata": {},
   "source": [
    "Ikony standardowo wybieramy spośród dostępnych w **Android Studio** (**New -> Vector Asset**). Model danych zawiera typ kosztu, datę oraz kwotę."
   ]
  },
  {
   "cell_type": "code",
   "execution_count": null,
   "id": "541c6d00-852c-4d54-8793-84f89341f700",
   "metadata": {},
   "outputs": [],
   "source": [
    "data class Cost (\n",
    "    val type: CostType,\n",
    "    val date: LocalDate,\n",
    "    val amount: Int\n",
    ")"
   ]
  },
  {
   "cell_type": "markdown",
   "id": "43c509b7-c5f1-4871-a5e8-cc38ba0e4c9a",
   "metadata": {},
   "source": [
    "Ponieważ będziemy posiadać pojedynczy `RecyclerView` i dwa `ViewHolder`, musimy w jakiś sposób rozróżnić typ naszych danych - dla uproszczenia będziemy sortować po miesiącach (bez uwzględnienia lat). Więc chcemy zdefiniować dwa typy \n",
    "- `CostListItem` - klasa bazowa"
   ]
  },
  {
   "cell_type": "code",
   "execution_count": null,
   "id": "9476b23f-67f5-4af8-9085-ab593056f680",
   "metadata": {},
   "outputs": [],
   "source": [
    "open class CostListItem(\n",
    "    val type: Int\n",
    ") {\n",
    "    companion object {\n",
    "        const val TYPE_DATE = 0\n",
    "        const val TYPE_GENERAL = 1\n",
    "    }\n",
    "}"
   ]
  },
  {
   "cell_type": "markdown",
   "id": "1804442b-93c0-45e6-9eea-a206c7c6b61a",
   "metadata": {},
   "source": [
    "- `CostDateItem` - posiadający tylko datę po której będziemy sortować oraz na podstawie której utworzymy wersję layoutu dla `RecyclerView`"
   ]
  },
  {
   "cell_type": "code",
   "execution_count": null,
   "id": "5b4206ee-793b-470e-b5af-38c53294fcb9",
   "metadata": {},
   "outputs": [],
   "source": [
    "class CostDateItem(\n",
    "    val date: String\n",
    ") : CostListItem(TYPE_DATE)"
   ]
  },
  {
   "cell_type": "markdown",
   "id": "d5d4c6c5-5631-4e7a-b71f-60aa401e018b",
   "metadata": {},
   "source": [
    "- `CostGeneralItem` - każdy inny element dla którego również utworzymy layout"
   ]
  },
  {
   "cell_type": "code",
   "execution_count": null,
   "id": "7a14f686-15ca-45d7-8c60-a3d3d70f24c1",
   "metadata": {},
   "outputs": [],
   "source": [
    "class CostGeneralItem(\n",
    "    val cost: Cost\n",
    ") : CostListItem(TYPE_GENERAL)"
   ]
  },
  {
   "cell_type": "markdown",
   "id": "976eb1b5-bf77-4bac-88fc-2d9744f5fb8f",
   "metadata": {},
   "source": [
    "Przejdźmy do obiektu `DataProvider` - w pierwszym kroku utworzymy listę kosztów"
   ]
  },
  {
   "cell_type": "code",
   "execution_count": null,
   "id": "fd2ebb6f-342a-4e48-b3ce-39fc6c3fcae3",
   "metadata": {},
   "outputs": [],
   "source": [
    "private val generalCosts = List(100) {\n",
    "    Cost(\n",
    "        CostType.values()[Random.nextInt(CostType.values().size)],\n",
    "        LocalDate.of(2022, Random.nextInt(1,13), Random.nextInt(1,28)),\n",
    "        Random.nextInt(5000)\n",
    "    )\n",
    "}"
   ]
  },
  {
   "cell_type": "markdown",
   "id": "2439aae2-785e-4c3e-b446-5d14e0e8cc74",
   "metadata": {},
   "source": [
    "Ponieważ mamy jeden `RecyclerView`, więc będziemy mieć jedną listę - musimy ją odpowiednio przygotować. Wykorzystamy `Map` i posortujemy całość po miesiącach, następnie pogrupujemy względem miesięcy."
   ]
  },
  {
   "cell_type": "code",
   "execution_count": null,
   "id": "74aa42bc-2b5b-4aba-86e2-7952bab3fef1",
   "metadata": {},
   "outputs": [],
   "source": [
    "private val groupedCostMap: Map<String, List<Cost>> = generalCosts\n",
    "    .sortedBy { it.date.month }\n",
    "    .groupBy { it.date.month.toString() }"
   ]
  },
  {
   "cell_type": "markdown",
   "id": "b6d9a3bc-8dd6-466e-be00-164b1d077edf",
   "metadata": {},
   "source": [
    "Następnie napiszemy funkcję `getTimeLineList` zwracająca listę dla `RecyclerView`"
   ]
  },
  {
   "cell_type": "code",
   "execution_count": null,
   "id": "dc783dbc-4e24-4e2f-90a6-b35d9f7fbba3",
   "metadata": {},
   "outputs": [],
   "source": [
    "fun getTimeLineList(): List<CostListItem>{"
   ]
  },
  {
   "cell_type": "markdown",
   "id": "2aad13d3-6a8a-4e1d-854e-95065ed8aaaa",
   "metadata": {},
   "source": [
    "Utwórzmy listę pomocniczą"
   ]
  },
  {
   "cell_type": "code",
   "execution_count": null,
   "id": "bb9995e3-6339-4f0f-9401-edcbe1e99b7d",
   "metadata": {},
   "outputs": [],
   "source": [
    "val list = mutableListOf<CostListItem>()"
   ]
  },
  {
   "cell_type": "markdown",
   "id": "72a9dc24-a5c4-4fe1-8f88-48ea194256d1",
   "metadata": {},
   "source": [
    "Przechodzimy po wszystkich kluczach w naszej mapie"
   ]
  },
  {
   "cell_type": "code",
   "execution_count": null,
   "id": "367aa80f-65c4-479c-b0ef-2ddae02268d2",
   "metadata": {},
   "outputs": [],
   "source": [
    "for (date: String in groupedCostMap.keys) {"
   ]
  },
  {
   "cell_type": "markdown",
   "id": "cc45bc46-f156-4664-95c6-f706f1cbabdb",
   "metadata": {},
   "source": [
    "W pętli tworzę listę wszystkich elementów z danego miesiąca, następnie ją sortuję względem dnia miesiąca i każdy element `CostGeneralItem` dodaję do `list`"
   ]
  },
  {
   "cell_type": "code",
   "execution_count": null,
   "id": "ccb13534-37db-4588-a1ba-8264b285cbd5",
   "metadata": {},
   "outputs": [],
   "source": [
    "val groupItems: List<Cost>? = groupedCostMap[date]\n",
    "groupItems?.sortedBy { it.date.dayOfMonth }?.forEach {\n",
    "    list.add(CostGeneralItem(it))\n",
    "}"
   ]
  },
  {
   "cell_type": "markdown",
   "id": "34a33873-2013-496d-91ab-94e74b444c9c",
   "metadata": {},
   "source": [
    "Ostatnim elementem pętli będzie dodanie `CostDateItem`"
   ]
  },
  {
   "cell_type": "code",
   "execution_count": null,
   "id": "75855684-c017-44f4-b8c7-a1aed0d5b82a",
   "metadata": {},
   "outputs": [],
   "source": [
    "list.add(CostDateItem(date))"
   ]
  },
  {
   "cell_type": "markdown",
   "id": "60698963-5fef-4ddf-a1bd-0baa1da52e14",
   "metadata": {},
   "source": [
    "Na koniec wychodzimy z pętli `for` i zwracamy listę"
   ]
  },
  {
   "cell_type": "code",
   "execution_count": null,
   "id": "1c33c4d6-9499-40bf-b129-52e2c79c0e48",
   "metadata": {},
   "outputs": [],
   "source": [
    "    }\n",
    "    return list\n",
    "}"
   ]
  },
  {
   "cell_type": "markdown",
   "id": "ec1f820c-549b-4149-955c-f95d28376d86",
   "metadata": {},
   "source": [
    "Pełna funkcja"
   ]
  },
  {
   "cell_type": "code",
   "execution_count": null,
   "id": "38cabecf-5e2d-482f-a557-896f115d24bb",
   "metadata": {},
   "outputs": [],
   "source": [
    "fun getTimeLineList(): List<CostListItem>{\n",
    "    val list = mutableListOf<CostListItem>()\n",
    "    for (date: String in groupedCostMap.keys) {\n",
    "        val groupItems: List<Cost>? = groupedCostMap[date]\n",
    "        groupItems?.sortedBy { it.date.dayOfMonth }?.forEach {\n",
    "            list.add(CostGeneralItem(it))\n",
    "        }\n",
    "        list.add(CostDateItem(date))\n",
    "    }\n",
    "    return list\n",
    "}"
   ]
  },
  {
   "cell_type": "markdown",
   "id": "b6631ca3-9036-420d-b80e-7fc5f270d2a3",
   "metadata": {},
   "source": [
    "Podsumowując:\n",
    "- tworzą listę do której wrzucę wszystkie elementy odpowiednio posortowane - lista zawiera elementy typu `CostListItem`\n",
    "- przechodzę po kluczach wcześniej utworzonej mapy (miesiące)\n",
    "- dodaję wszystkie elementy `CostGeneralItem` - wszystkie koszty dla danego miesiąca\n",
    "- na koniec dodaję `CostDateItem` - miesiąc\n",
    "\n",
    "Czyli tworzymy listę w odwrotnej kolejności - wpierw mamy wszystkie elementy dla danego miesiąca, po nim znajduje się element oznaczający dany miesiąc.\n",
    "\n",
    "Przejdźmy do `TimeLineAdapter` - klasa będzie przyjmowała w parametrze `Context` i rozszerzała `RecyclerView.Adapter`"
   ]
  },
  {
   "cell_type": "code",
   "execution_count": null,
   "id": "dbe261f4-5f1b-45bd-992f-f9b7036dbccd",
   "metadata": {},
   "outputs": [],
   "source": [
    "class TimeLineAdapter(val context: Context) \n",
    "    : RecyclerView.Adapter<RecyclerView.ViewHolder>() {}"
   ]
  },
  {
   "cell_type": "markdown",
   "id": "970c70d7-8d83-4c6d-b109-475478d90938",
   "metadata": {},
   "source": [
    "W pierwszej kolejności dodajmy listę elementów, ponieważ metoda `getTimeLineList` zwraca listę w odwrotnej kolejności, tutaj w pierwszym kroku wykonamy `reversed`"
   ]
  },
  {
   "cell_type": "code",
   "execution_count": null,
   "id": "5f0868eb-c3d2-4231-be85-232a34114be8",
   "metadata": {},
   "outputs": [],
   "source": [
    "private val itemList = DataProvider.getTimeLineList().reversed()"
   ]
  },
  {
   "cell_type": "markdown",
   "id": "069fe578-5cfb-44f4-a459-350cbc9c93a1",
   "metadata": {},
   "source": [
    "Zdefiniujmy dwie klasy `ViewHolder` - pierwszą będzie klasa dla elementu grupującego (tutaj jest to data - miesiąc)"
   ]
  },
  {
   "cell_type": "code",
   "execution_count": null,
   "id": "d993c42d-07cc-47d2-ae5e-5b47d4de013c",
   "metadata": {},
   "outputs": [],
   "source": [
    "inner class DateViewHolder(view: View) : RecyclerView.ViewHolder(view) {\n",
    "\n",
    "    private val dateTextView: TextView = view.findViewById(R.id.timeLineDateTextView)\n",
    "\n",
    "    fun bind(item: CostDateItem) {\n",
    "        dateTextView.text = item.date\n",
    "    }\n",
    "}"
   ]
  },
  {
   "cell_type": "markdown",
   "id": "1b23f71f-b1b1-4bf4-9791-0f1b5733820a",
   "metadata": {},
   "source": [
    "Dla tego `ViewHolder` definiujemy layout w pliku `date_item_timeline.xml`\n",
    "\n",
    "\n",
    "```xml\n",
    "<?xml version=\"1.0\" encoding=\"utf-8\"?>\n",
    "<androidx.constraintlayout.widget.ConstraintLayout xmlns:android=\"http://schemas.android.com/apk/res/android\"\n",
    "    xmlns:app=\"http://schemas.android.com/apk/res-auto\"\n",
    "    android:layout_width=\"match_parent\"\n",
    "    android:layout_height=\"wrap_content\"\n",
    "    android:layout_marginStart=\"4dp\"\n",
    "    android:layout_marginEnd=\"4dp\">\n",
    "\n",
    "    <View\n",
    "        android:id=\"@+id/RVcolorBarView\"\n",
    "        android:layout_width=\"16px\"\n",
    "        android:layout_height=\"0dp\"\n",
    "        android:layout_marginStart=\"24dp\"\n",
    "        android:background=\"?attr/colorPrimary\"\n",
    "        android:outlineAmbientShadowColor=\"?attr/colorPrimary\"\n",
    "        android:outlineSpotShadowColor=\"?attr/colorPrimary\"\n",
    "        app:layout_constraintBottom_toBottomOf=\"parent\"\n",
    "        app:layout_constraintStart_toStartOf=\"parent\"\n",
    "        app:layout_constraintTop_toTopOf=\"parent\" />\n",
    "\n",
    "    <ImageView\n",
    "        android:layout_width=\"wrap_content\"\n",
    "        android:layout_height=\"wrap_content\"\n",
    "        android:layout_marginStart=\"19dp\"\n",
    "        android:layout_marginTop=\"24dp\"\n",
    "        android:background=\"@drawable/ic_round_circle\"\n",
    "        android:backgroundTint=\"?attr/colorPrimary\"\n",
    "        android:contentDescription=\"@string/bullet\"\n",
    "        app:layout_constraintBottom_toBottomOf=\"@+id/RVcolorBarView\"\n",
    "        app:layout_constraintStart_toStartOf=\"parent\"\n",
    "        app:layout_constraintTop_toTopOf=\"@+id/RVcolorBarView\" />\n",
    "\n",
    "    <TextView\n",
    "        android:id=\"@+id/timeLineDateTextView\"\n",
    "        android:layout_width=\"wrap_content\"\n",
    "        android:layout_height=\"wrap_content\"\n",
    "        android:layout_marginStart=\"16dp\"\n",
    "        android:layout_marginTop=\"24dp\"\n",
    "        android:fontFamily=\"serif\"\n",
    "        android:textColor=\"?attr/colorSecondary\"\n",
    "        android:padding=\"4dp\"\n",
    "        android:text=\"@string/date\"\n",
    "        android:textSize=\"16sp\"\n",
    "        app:layout_constraintBottom_toBottomOf=\"parent\"\n",
    "        app:layout_constraintStart_toStartOf=\"@id/RVcolorBarView\"\n",
    "        app:layout_constraintTop_toTopOf=\"parent\" />\n",
    "\n",
    "</androidx.constraintlayout.widget.ConstraintLayout>\n",
    "```\n",
    "\n",
    "Jak widzimy mamy tylko jedno pole `TextView` wyświetlające nazwę miesiąca po którym grupujemy. Pozostałe dwa elementy są graficznym indykatorem - `View` jest linią o zadanej grubości i `ImageView` tutaj ma formę wypełnionego koła."
   ]
  },
  {
   "cell_type": "markdown",
   "id": "e5c72ea2-7696-4f2b-b1bc-b4f5e6534c85",
   "metadata": {},
   "source": [
    "Zdefiniujmy również drugi `ViewHolder` dla pozostałych elementów na liście - tutaj chcemy pokazać typ kosztu, kwotę, pełną datę, oraz ikonę dla odpowiedniego typu kosztu."
   ]
  },
  {
   "cell_type": "code",
   "execution_count": null,
   "id": "f38bfb91-a2c8-4a92-8e08-9674b3a0b440",
   "metadata": {},
   "outputs": [],
   "source": [
    "inner class GeneralViewHolder (view: View) : RecyclerView.ViewHolder(view) {\n",
    "\n",
    "    private val costTypeTextView: TextView = view.findViewById(R.id.timeLineCostTypeNameTextView)\n",
    "    private val fullDateTextView: TextView = view.findViewById(R.id.timeLineFullDateTextView)\n",
    "    private val amountTextView: TextView = view.findViewById(R.id.timeLineCostAmountTextView)\n",
    "    private val iconImageView: ImageView = view.findViewById(R.id.iconTimeLineImageView)\n",
    "\n",
    "    fun bind(item: CostGeneralItem) {\n",
    "        costTypeTextView.text = item.cost.type.costType\n",
    "        fullDateTextView.text = item.cost.date.format(dateFormatter)\n",
    "        (item.cost.amount.toString() + \" zł\").also { amountTextView.text = it }\n",
    "        iconImageView.background = ContextCompat.getDrawable(context, item.cost.type.icon)\n",
    "    }\n",
    "}"
   ]
  },
  {
   "cell_type": "markdown",
   "id": "68f7119a-884c-41e1-9f3d-b712f85e727f",
   "metadata": {},
   "source": [
    "Będziemy również formatować nieco `String` przy dacie, więc zdefiniujmy `DateTimeFormatter`"
   ]
  },
  {
   "cell_type": "code",
   "execution_count": null,
   "id": "2154494a-b82a-45e1-bdba-33b2fb0b6cd1",
   "metadata": {},
   "outputs": [],
   "source": [
    "val dateFormatter: DateTimeFormatter = DateTimeFormatter.ofPattern(\"yyyy MMM dd\")"
   ]
  },
  {
   "cell_type": "markdown",
   "id": "0055654c-258a-4f0b-984d-67663d5f018b",
   "metadata": {},
   "source": [
    "Layout jest nieco bardziej skomplikowany\n",
    "\n",
    "```xml\n",
    "<?xml version=\"1.0\" encoding=\"utf-8\"?>\n",
    "<androidx.constraintlayout.widget.ConstraintLayout xmlns:android=\"http://schemas.android.com/apk/res/android\"\n",
    "    xmlns:app=\"http://schemas.android.com/apk/res-auto\"\n",
    "    android:layout_width=\"match_parent\"\n",
    "    android:layout_height=\"wrap_content\"\n",
    "    android:layout_marginStart=\"4dp\"\n",
    "    android:layout_marginEnd=\"4dp\">\n",
    "\n",
    "    <View\n",
    "        android:id=\"@+id/RVcolorBarView\"\n",
    "        android:layout_width=\"16px\"\n",
    "        android:layout_height=\"0dp\"\n",
    "        android:layout_marginStart=\"24dp\"\n",
    "        android:background=\"?attr/colorPrimary\"\n",
    "        android:outlineAmbientShadowColor=\"?attr/colorPrimary\"\n",
    "        android:outlineSpotShadowColor=\"?attr/colorPrimary\"\n",
    "        app:layout_constraintBottom_toBottomOf=\"parent\"\n",
    "        app:layout_constraintStart_toStartOf=\"parent\"\n",
    "        app:layout_constraintTop_toTopOf=\"parent\" />\n",
    "\n",
    "    <ImageView\n",
    "        android:id=\"@+id/imageView\"\n",
    "        android:layout_width=\"wrap_content\"\n",
    "        android:layout_height=\"wrap_content\"\n",
    "        android:layout_marginStart=\"3.2dp\"\n",
    "        android:background=\"@drawable/ic_round_circle_big\"\n",
    "        android:backgroundTint=\"?attr/colorPrimary\"\n",
    "        android:contentDescription=\"@string/bullet\"\n",
    "        app:layout_constraintBottom_toBottomOf=\"@+id/RVcolorBarView\"\n",
    "        app:layout_constraintStart_toStartOf=\"parent\"\n",
    "        app:layout_constraintTop_toTopOf=\"@+id/RVcolorBarView\" />\n",
    "\n",
    "    <ImageView\n",
    "        android:id=\"@+id/iconTimeLineImageView\"\n",
    "        android:layout_width=\"wrap_content\"\n",
    "        android:layout_height=\"wrap_content\"\n",
    "        android:layout_marginStart=\"12dp\"\n",
    "        android:layout_marginTop=\"8dp\"\n",
    "        android:background=\"@drawable/ic_car_repair\"\n",
    "        android:backgroundTint=\"@color/white\"\n",
    "        android:contentDescription=\"@string/bullet\"\n",
    "        app:layout_constraintBottom_toBottomOf=\"@+id/imageView\"\n",
    "        app:layout_constraintStart_toStartOf=\"@+id/imageView\"\n",
    "        app:layout_constraintTop_toTopOf=\"@+id/imageView\"\n",
    "        app:layout_constraintVertical_bias=\"0.285\" />\n",
    "\n",
    "    <TextView\n",
    "        android:id=\"@+id/timeLineCostTypeNameTextView\"\n",
    "        android:layout_width=\"wrap_content\"\n",
    "        android:layout_height=\"wrap_content\"\n",
    "        android:padding=\"4dp\"\n",
    "        android:text=\"@string/costtype_name\"\n",
    "        android:textSize=\"24sp\"\n",
    "        app:layout_constraintBottom_toBottomOf=\"parent\"\n",
    "        app:layout_constraintStart_toEndOf=\"@+id/imageView\"\n",
    "        app:layout_constraintTop_toTopOf=\"parent\" />\n",
    "\n",
    "    <TextView\n",
    "        android:id=\"@+id/timeLineCostAmountTextView\"\n",
    "        android:layout_width=\"wrap_content\"\n",
    "        android:layout_height=\"wrap_content\"\n",
    "        android:layout_marginEnd=\"16dp\"\n",
    "        android:padding=\"4dp\"\n",
    "        android:text=\"1200 zł\"\n",
    "        android:textSize=\"24sp\"\n",
    "        app:layout_constraintBottom_toBottomOf=\"parent\"\n",
    "        app:layout_constraintEnd_toEndOf=\"parent\"\n",
    "        app:layout_constraintTop_toTopOf=\"parent\" />\n",
    "\n",
    "    <TextView\n",
    "        android:id=\"@+id/timeLineFullDateTextView\"\n",
    "        android:layout_width=\"wrap_content\"\n",
    "        android:layout_height=\"wrap_content\"\n",
    "        android:fontFamily=\"serif\"\n",
    "        android:paddingStart=\"4dp\"\n",
    "        android:text=\"@string/date\"\n",
    "        android:textSize=\"16sp\"\n",
    "        app:layout_constraintBottom_toBottomOf=\"parent\"\n",
    "        app:layout_constraintStart_toEndOf=\"@+id/imageView\"\n",
    "        app:layout_constraintTop_toBottomOf=\"@+id/timeLineCostTypeNameTextView\" />\n",
    "\n",
    "</androidx.constraintlayout.widget.ConstraintLayout>\n",
    "```\n",
    "\n",
    "Zauważmy że znów mamy `View` o tych samych parametrch co w poprzednim layoucie co sprawia wrażenie ciągłości przez wszystkie elementy. Mamy również dwa `ImageView` - pierwszy zastosowałem jako okrągłe tło o jednolitym kolorze dla ikony obecnej w drugim."
   ]
  },
  {
   "cell_type": "markdown",
   "id": "d81957f5-ccce-43df-a2f4-98f7544b9e67",
   "metadata": {},
   "source": [
    "Przejdźmy do metody `onCreateViewHolder` - zwrócimy `ViewHolder` dla zadanego `viewType`. Ponieważ będziemy wykorzystywać dwa, musimy zdefiniować jeszcze `viewType`."
   ]
  },
  {
   "cell_type": "code",
   "execution_count": null,
   "id": "1913f706-e6ed-413d-9591-89ee65dfdc33",
   "metadata": {},
   "outputs": [],
   "source": [
    "override fun onCreateViewHolder(parent: ViewGroup, viewType: Int): RecyclerView.ViewHolder {\n",
    "    return when (viewType) {\n",
    "        CostListItem.TYPE_DATE ->\n",
    "            DateViewHolder(LayoutInflater.from(parent.context).inflate(\n",
    "                R.layout.date_item_timeline, parent, false\n",
    "            ))\n",
    "        else ->\n",
    "            GeneralViewHolder(LayoutInflater.from(parent.context).inflate(\n",
    "                R.layout.general_item_timeline, parent, false\n",
    "            ))\n",
    "    }\n",
    "}"
   ]
  },
  {
   "cell_type": "markdown",
   "id": "2f415504-8174-4c51-8da2-02df4da12b7a",
   "metadata": {},
   "source": [
    "Aby zdefiniować `viewType` musimy nadpisać metodę `getItemViewType`"
   ]
  },
  {
   "cell_type": "code",
   "execution_count": null,
   "id": "d19b57b8-800c-47b9-a384-ed907dded330",
   "metadata": {},
   "outputs": [],
   "source": [
    "override fun getItemViewType(position: Int): Int = itemList[position].type // zwraca typ elementu na liście"
   ]
  },
  {
   "cell_type": "markdown",
   "id": "ccb60460-b6dd-42e0-bb3a-082515a77519",
   "metadata": {},
   "source": [
    "Zaimplementujmy metodę `getItemCount`"
   ]
  },
  {
   "cell_type": "code",
   "execution_count": null,
   "id": "38e90000-7287-4ddf-b264-90c7f9f94b6a",
   "metadata": {},
   "outputs": [],
   "source": [
    "override fun getItemCount(): Int = itemList.size"
   ]
  },
  {
   "cell_type": "markdown",
   "id": "16844aa1-3c87-4be9-8c09-78ac67bd034c",
   "metadata": {},
   "source": [
    "Pozostaje implementacja metody `onBindViewHolder` - w zależności od typu `ViewHolder` chcemy przekazać `CostListItem` jako `CostGeneralItem` zawierający instancję `Cost` lub `CostDateItem` zawierający nazwę miesiąca jako `String`."
   ]
  },
  {
   "cell_type": "code",
   "execution_count": null,
   "id": "25057f76-666a-4f18-afa9-5ff18886c3f6",
   "metadata": {},
   "outputs": [],
   "source": [
    "override fun onBindViewHolder(holder: RecyclerView.ViewHolder, position: Int) {\n",
    "    when (holder.itemViewType) {\n",
    "        CostListItem.TYPE_DATE -> (holder as DateViewHolder).bind(\n",
    "            item = itemList[position] as CostDateItem\n",
    "        )\n",
    "        CostListItem.TYPE_GENERAL -> (holder as GeneralViewHolder).bind(\n",
    "            item = itemList[position] as CostGeneralItem\n",
    "        )\n",
    "    }\n",
    "}"
   ]
  },
  {
   "cell_type": "markdown",
   "id": "f37d4029-37a3-4178-b9cd-c9fc0cbfd99f",
   "metadata": {},
   "source": [
    "Przejdźmy do `TimeLineFragment` i dodajmy nasz RecyclerView"
   ]
  },
  {
   "cell_type": "code",
   "execution_count": null,
   "id": "b60e1919-9622-48f5-93ad-15e197255398",
   "metadata": {},
   "outputs": [],
   "source": [
    "override fun onViewCreated(view: View, savedInstanceState: Bundle?) {\n",
    "    super.onViewCreated(view, savedInstanceState)\n",
    "    view.findViewById<RecyclerView>(R.id.timeLineRecyclerView).apply {\n",
    "        layoutManager = LinearLayoutManager(context)\n",
    "        adapter = TimeLineAdapter(context)\n",
    "    }\n",
    "}"
   ]
  },
  {
   "cell_type": "markdown",
   "id": "8dd5af57-3210-4399-9efd-3d8485263f34",
   "metadata": {},
   "source": [
    "Możemy przetestować aplikację"
   ]
  },
  {
   "cell_type": "markdown",
   "id": "60a96ec0-5bfc-4f5b-8a83-ba5ce3728129",
   "metadata": {},
   "source": [
    "<img src=\"https://media4.giphy.com/media/S4iOJk9GSVcizP2tRw/giphy.gif?cid=790b76113b3cee84bee0e3484c2fbc03807cf26e022c376a&rid=giphy.gif&ct=g\" width=\"150\" />"
   ]
  },
  {
   "cell_type": "code",
   "execution_count": null,
   "id": "98dad47d-8c4c-42c4-862e-7bec9caca69a",
   "metadata": {},
   "outputs": [],
   "source": []
  }
 ],
 "metadata": {
  "kernelspec": {
   "display_name": "Kotlin",
   "language": "kotlin",
   "name": "kotlin"
  },
  "language_info": {
   "codemirror_mode": "text/x-kotlin",
   "file_extension": ".kt",
   "mimetype": "text/x-kotlin",
   "name": "kotlin",
   "nbconvert_exporter": "",
   "pygments_lexer": "kotlin",
   "version": "1.6.20-dev-6372"
  }
 },
 "nbformat": 4,
 "nbformat_minor": 5
}
