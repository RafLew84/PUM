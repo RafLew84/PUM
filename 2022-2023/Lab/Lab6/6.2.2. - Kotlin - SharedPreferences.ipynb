{
 "cells": [
  {
   "cell_type": "markdown",
   "id": "0f4e42f6-6126-4d49-85b6-fb52a41ea8aa",
   "metadata": {},
   "source": [
    "## 6.2 SharedPreferences"
   ]
  },
  {
   "cell_type": "markdown",
   "id": "0a32ca6c-953b-40af-82e0-295b3d233c63",
   "metadata": {},
   "source": [
    "W tym przykładzie zapoznamy się z klasą `SharedPreferences` - oferuje ona możliwość zapisania niewielkiej ilości danych w pliku powiązanym z aplikacją. Aplikacja będzie posiadać tylko jedną aktywność - rozpocznijmy od layoutu\n",
    "\n",
    "```xml\n",
    "<?xml version=\"1.0\" encoding=\"utf-8\"?>\n",
    "<LinearLayout\n",
    "    xmlns:android=\"http://schemas.android.com/apk/res/android\"\n",
    "    xmlns:app=\"http://schemas.android.com/apk/res-auto\"\n",
    "    xmlns:tools=\"http://schemas.android.com/tools\"\n",
    "    android:layout_width=\"match_parent\"\n",
    "    android:layout_height=\"match_parent\"\n",
    "    android:orientation=\"vertical\"\n",
    "    android:padding=\"16dp\"\n",
    "    tools:context=\".MainActivity\">\n",
    "\n",
    "    <TextView\n",
    "        android:id=\"@+id/counter1TextView\"\n",
    "        android:layout_width=\"wrap_content\"\n",
    "        android:layout_height=\"wrap_content\"\n",
    "        android:text=\"0\"\n",
    "        android:textSize=\"45sp\"\n",
    "        android:layout_gravity=\"center_horizontal\"/>\n",
    "\n",
    "    <Button\n",
    "        android:id=\"@+id/countUpButton\"\n",
    "        android:layout_width=\"wrap_content\"\n",
    "        android:layout_height=\"wrap_content\"\n",
    "        android:layout_marginEnd=\"16dp\"\n",
    "        android:text=\"UP\" />\n",
    "\n",
    "    <Button\n",
    "        android:id=\"@+id/countDownButton\"\n",
    "        android:layout_width=\"wrap_content\"\n",
    "        android:layout_height=\"wrap_content\"\n",
    "        android:text=\"Down\" />\n",
    "\n",
    "</LinearLayout>\n",
    "\n",
    "```\n",
    "\n",
    "Następnie umożliwimy stosowanie `ViewBinding`, do pliku `build.gradle(Module)` dodajemy\n",
    "\n",
    "```kotlin\n",
    "android {\n",
    "    ...\n",
    "    buildFeatures {\n",
    "        viewBinding = true\n",
    "    }\n",
    "}\n",
    "```\n",
    "\n",
    "do głównej aktywności dodajemy"
   ]
  },
  {
   "cell_type": "code",
   "execution_count": null,
   "id": "6bb0acc2-672f-4d65-8ce6-d80799193add",
   "metadata": {},
   "outputs": [],
   "source": [
    "class MainActivity : AppCompatActivity() {\n",
    "\n",
    "    private val binding by lazy { ActivityMainBinding.inflate(layoutInflater) }\n",
    "\n",
    "    override fun onCreate(savedInstanceState: Bundle?) {\n",
    "        super.onCreate(savedInstanceState)\n",
    "        val view = binding.root\n",
    "        setContentView(view)\n",
    "    }\n",
    "}"
   ]
  },
  {
   "cell_type": "markdown",
   "id": "b0799030-e167-42cc-a98a-f5dbe4581a09",
   "metadata": {},
   "source": [
    "Dodajmy jeszcze obsługę obu przycisków"
   ]
  },
  {
   "cell_type": "code",
   "execution_count": null,
   "id": "225a4a33-f854-47a4-bef0-aec3d1e8c764",
   "metadata": {},
   "outputs": [],
   "source": [
    "private var counter = 0\n",
    "override fun onCreate(savedInstanceState: Bundle?) {\n",
    "    super.onCreate(savedInstanceState)\n",
    "    val view = binding.root\n",
    "    setContentView(view)\n",
    "\n",
    "    binding.countUpButton.setOnClickListener { \n",
    "        counter++ \n",
    "        binding.counter1TextView.text = counter.toString()\n",
    "    }\n",
    "\n",
    "    binding.countDownButton.setOnClickListener { \n",
    "        counter--\n",
    "        binding.counter1TextView.text = counter.toString()\n",
    "    }\n",
    "}"
   ]
  },
  {
   "cell_type": "markdown",
   "id": "11d37391-e282-4ae3-94a6-529c1cea69b9",
   "metadata": {},
   "source": [
    "Zapis do pliku wykonamy w metodzie `onPause`"
   ]
  },
  {
   "cell_type": "code",
   "execution_count": null,
   "id": "a9f46560-4f32-405f-b0d7-7c83885123a4",
   "metadata": {},
   "outputs": [],
   "source": [
    "override fun onPause() {\n",
    "    super.onPause()\n",
    "    val sharedPref = getSharedPreferences(\"fileName\", MODE_PRIVATE)\n",
    "    val edit = sharedPref.edit()\n",
    "    edit.apply {\n",
    "        putInt(\"counter\", binding.counter1TextView.text.toString().toInt())\n",
    "        apply()\n",
    "    }\n",
    "}"
   ]
  },
  {
   "cell_type": "markdown",
   "id": "654812fd-c9c9-4eab-83a4-ac800ea29f01",
   "metadata": {},
   "source": [
    "Do pliku możemy dostać się wywołując metodę `getSharedPreferences`, jako pierwszy argument podajemy nazwę pliku. Drugim argumentem jest tryb, mamy do wyboru kilka - poniżej przykłady\n",
    "- `MODE_APPEND` - pozwala dopisywać kolejne elementy bez nadpisywania\n",
    "- `MODE_PRIVATE` - najczęściej wykorzystywany, dostęp do pliku tylko z poziomu aplikacji\n",
    "- `MODE_WORLD_READABLE` - zezwala innym aplikacjom na odczyt\n",
    "- `MODE_WORLD_WRITABVLE` - zezwala innym aplikacjom na zapis\n",
    "\n",
    "Możemy zapisać dane w `SharedPreferences` za pomocą klasy `Editor`, w tym celu wywołujemy metodę `edit`. Po wykonaniu zmian musimy wywołac metodę `apply`.\n",
    "\n",
    "Odczyt z pliku wykonamy w metodzie `onResume`"
   ]
  },
  {
   "cell_type": "code",
   "execution_count": null,
   "id": "e02f1a62-f19a-48ca-b197-a0ee8be83cf7",
   "metadata": {},
   "outputs": [],
   "source": [
    "override fun onResume() {\n",
    "    super.onResume()\n",
    "    val sharedPref = getSharedPreferences(\"fileName\", MODE_PRIVATE)\n",
    "    binding.counter1TextView.text = sharedPref.getInt(\"counter\", 0).toString()\n",
    "}"
   ]
  },
  {
   "cell_type": "markdown",
   "id": "2642bf54-82c4-45ee-bbe3-1d31a5198938",
   "metadata": {},
   "source": [
    "Należy pamiętać aby użyć tych samych kluczy podczas zapisu i odczytu."
   ]
  },
  {
   "cell_type": "markdown",
   "id": "d2acb425-8823-4b5a-b56d-3d4acf281f92",
   "metadata": {},
   "source": [
    "<img src=\"https://media1.giphy.com/media/8NH2KGxQqtV68D6IBT/giphy.gif?cid=790b7611d31088aba9794c31a6ef69bee97dd821c720c673&rid=giphy.gif&ct=g\" width=\"150\" />"
   ]
  },
  {
   "cell_type": "code",
   "execution_count": null,
   "id": "e0f30294-c688-4f16-9702-512b8c5a59e8",
   "metadata": {},
   "outputs": [],
   "source": []
  }
 ],
 "metadata": {
  "kernelspec": {
   "display_name": "Kotlin",
   "language": "kotlin",
   "name": "kotlin"
  },
  "language_info": {
   "codemirror_mode": "text/x-kotlin",
   "file_extension": ".kt",
   "mimetype": "text/x-kotlin",
   "name": "kotlin",
   "nbconvert_exporter": "",
   "pygments_lexer": "kotlin",
   "version": "1.6.20-dev-6372"
  }
 },
 "nbformat": 4,
 "nbformat_minor": 5
}
