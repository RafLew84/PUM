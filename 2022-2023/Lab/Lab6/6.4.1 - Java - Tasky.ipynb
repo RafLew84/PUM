{
 "cells": [
  {
   "cell_type": "markdown",
   "id": "865d06c1-9b92-4056-8c4c-9cc4bd63f852",
   "metadata": {},
   "source": [
    "## 6.4 Tasky"
   ]
  },
  {
   "cell_type": "markdown",
   "id": "c47ea42b-e4e8-479f-8c60-68d3f14ddca0",
   "metadata": {},
   "source": [
    "W tej aplikacji utworzymy prostą listę pogrupowanych zadań - po raz kolejny wykorzystamy `RecyclerView` w dwoma obiektami `ViewHolder`. Całą listę będziemy zapisywać i wczytywać wz pliku za pomocą `SharedPreferences` - do zapisu posłużymy się formatrem `JSON` i biblioteką do serializacji `Gson`. Aplikacja będzie posiadała tylko jeden `Fragment` na którym umieścimy listę i prosty formularz umożliwiający dodawanie kolejnych wpisów."
   ]
  },
  {
   "cell_type": "markdown",
   "id": "157bbe29-bde7-4471-b397-15a07213eecb",
   "metadata": {},
   "source": [
    "<table><tr><td><img src=\"https://media4.giphy.com/media/Dv16lqPAAbY3wcR5yQ/giphy.gif?cid=790b76110f283c94c4653f3110e6fecb2a9d0820a3829b21&rid=giphy.gif&ct=g\" width=\"200\" /></td><td><img src=\"https://media4.giphy.com/media/NTntAP53dVMiI7x2jO/giphy.gif?cid=790b76112a65996659d22cdbc3f09ca05eafa714f38f57d0&rid=giphy.gif&ct=g\" width=\"200\" /></td><td><img src=\"https://media2.giphy.com/media/V1hvzLlvSPlEzKhrjM/giphy.gif?cid=790b7611f83aa25dbb5b41859105e74c7fec193a551e4e61&rid=giphy.gif&ct=g\" width=\"200\" /></td></tr></table>"
   ]
  },
  {
   "cell_type": "markdown",
   "id": "75e48c13-2130-46c5-901c-60e208b07e45",
   "metadata": {},
   "source": [
    "### **layout**"
   ]
  },
  {
   "cell_type": "markdown",
   "id": "afc22aca-1caf-431d-bf2b-72be851d053a",
   "metadata": {},
   "source": [
    "Rozpocznijmy od layoutu aktywności do którego dodamy `Fragment`"
   ]
  },
  {
   "cell_type": "code",
   "execution_count": null,
   "id": "06b4ffa1-a6f0-45f6-8e7a-9847faeaf6c9",
   "metadata": {},
   "outputs": [],
   "source": [
    "<androidx.fragment.app.FragmentContainerView android:id=\"@+id/fragment_main\"\n",
    "    android:name=\"pl.udu.uwr.pum.taskykotlin.TaskyFragment\"\n",
    "    xmlns:android=\"http://schemas.android.com/apk/res/android\"\n",
    "    android:layout_width=\"match_parent\"\n",
    "    android:layout_height=\"match_parent\" />"
   ]
  },
  {
   "cell_type": "markdown",
   "id": "6ea6a782-e16c-45d0-92e4-05eb163180cc",
   "metadata": {},
   "source": [
    "oraz layoutu samego fragmentu"
   ]
  },
  {
   "cell_type": "code",
   "execution_count": null,
   "id": "c2366e68-4e2d-4be9-aa59-4f68e7572500",
   "metadata": {},
   "outputs": [],
   "source": [
    "<?xml version=\"1.0\" encoding=\"utf-8\"?>\n",
    "<LinearLayout xmlns:android=\"http://schemas.android.com/apk/res/android\"\n",
    "    xmlns:app=\"http://schemas.android.com/apk/res-auto\"\n",
    "    xmlns:tools=\"http://schemas.android.com/tools\"\n",
    "    android:layout_width=\"match_parent\"\n",
    "    android:layout_height=\"match_parent\"\n",
    "    android:orientation=\"vertical\"\n",
    "    tools:context=\".TaskyFragment\">\n",
    "\n",
    "    <LinearLayout\n",
    "        android:layout_width=\"match_parent\"\n",
    "        android:layout_height=\"wrap_content\"\n",
    "        android:orientation=\"horizontal\">\n",
    "\n",
    "        <LinearLayout\n",
    "            android:layout_width=\"0dp\"\n",
    "            android:layout_weight=\"1\"\n",
    "            android:layout_height=\"wrap_content\"\n",
    "            android:layout_margin=\"4dp\"\n",
    "            android:orientation=\"horizontal\">\n",
    "\n",
    "            <com.google.android.material.textfield.TextInputLayout\n",
    "                android:layout_width=\"match_parent\"\n",
    "                android:layout_height=\"wrap_content\"\n",
    "                android:hint=\"zadanie\">\n",
    "\n",
    "                <com.google.android.material.textfield.TextInputEditText\n",
    "                    android:id=\"@+id/taskEditText\"\n",
    "                    android:layout_width=\"match_parent\"\n",
    "                    android:layout_height=\"wrap_content\"\n",
    "                    android:fontFamily=\"sans-serif\"\n",
    "                    android:textSize=\"15sp\" />\n",
    "            </com.google.android.material.textfield.TextInputLayout>\n",
    "        </LinearLayout>\n",
    "\n",
    "        <LinearLayout\n",
    "            android:layout_width=\"0dp\"\n",
    "            android:layout_weight=\"1\"\n",
    "            android:layout_margin=\"4dp\"\n",
    "            android:layout_height=\"wrap_content\"\n",
    "            android:orientation=\"horizontal\">\n",
    "\n",
    "            <com.google.android.material.textfield.TextInputLayout\n",
    "                android:layout_width=\"match_parent\"\n",
    "                android:layout_height=\"wrap_content\"\n",
    "                android:hint=\"kategoria\">\n",
    "\n",
    "                <com.google.android.material.textfield.TextInputEditText\n",
    "                    android:id=\"@+id/groupEditText\"\n",
    "                    android:layout_width=\"match_parent\"\n",
    "                    android:layout_height=\"wrap_content\"\n",
    "                    android:fontFamily=\"sans-serif\"\n",
    "                    android:textSize=\"15sp\" />\n",
    "            </com.google.android.material.textfield.TextInputLayout>\n",
    "        </LinearLayout>\n",
    "\n",
    "        <Button\n",
    "            android:id=\"@+id/addButton\"\n",
    "            android:layout_width=\"wrap_content\"\n",
    "            android:layout_gravity=\"center\"\n",
    "            android:text=\"dodaj\"\n",
    "            android:layout_margin=\"4dp\"\n",
    "            android:layout_height=\"wrap_content\"/>\n",
    "    </LinearLayout>\n",
    "\n",
    "    <androidx.recyclerview.widget.RecyclerView\n",
    "        android:id=\"@+id/rvTasky\"\n",
    "        android:layout_width=\"match_parent\"\n",
    "        android:layout_height=\"0dp\"\n",
    "        android:layout_weight=\"1\"\n",
    "        android:layout_margin=\"4dp\"/>\n",
    "\n",
    "    <Button\n",
    "        android:id=\"@+id/clearButton\"\n",
    "        android:layout_width=\"match_parent\"\n",
    "        android:layout_gravity=\"center\"\n",
    "        android:layout_marginBottom=\"8dp\"\n",
    "        android:text=\"czyść\"\n",
    "        android:layout_height=\"wrap_content\"/>\n",
    "\n",
    "</LinearLayout>"
   ]
  },
  {
   "cell_type": "markdown",
   "id": "b36f767e-cc11-4edc-8b30-fc3120de1c99",
   "metadata": {},
   "source": [
    "Dodajmy również layouty dla grupy oraz pojedynczego zadania\n",
    "\n",
    "`item_group_row.xml`"
   ]
  },
  {
   "cell_type": "code",
   "execution_count": null,
   "id": "adbb97af-e192-43af-9321-e9361f50b05c",
   "metadata": {},
   "outputs": [],
   "source": [
    "<?xml version=\"1.0\" encoding=\"utf-8\"?>\n",
    "<LinearLayout xmlns:android=\"http://schemas.android.com/apk/res/android\"\n",
    "    xmlns:app=\"http://schemas.android.com/apk/res-auto\"\n",
    "    android:layout_width=\"match_parent\"\n",
    "    android:layout_height=\"wrap_content\"\n",
    "    android:orientation=\"horizontal\">\n",
    "\n",
    "    <TextView\n",
    "        android:id=\"@+id/groupTextView\"\n",
    "        android:layout_width=\"0dp\"\n",
    "        android:layout_weight=\"1\"\n",
    "        android:layout_height=\"wrap_content\"\n",
    "        android:layout_margin=\"4dp\"\n",
    "        android:text=\"Group\"\n",
    "        android:layout_marginStart=\"8dp\"\n",
    "        android:textSize=\"24sp\" />\n",
    "\n",
    "</LinearLayout>"
   ]
  },
  {
   "cell_type": "markdown",
   "id": "f15f5f76-f4ed-467a-bee3-8898ecc4c619",
   "metadata": {},
   "source": [
    "`item_task_row.xml`"
   ]
  },
  {
   "cell_type": "code",
   "execution_count": null,
   "id": "cc893de7-fbea-46b7-8841-bff4bf07bce6",
   "metadata": {},
   "outputs": [],
   "source": [
    "<?xml version=\"1.0\" encoding=\"utf-8\"?>\n",
    "<androidx.constraintlayout.widget.ConstraintLayout\n",
    "xmlns:android=\"http://schemas.android.com/apk/res/android\"\n",
    "    xmlns:app=\"http://schemas.android.com/apk/res-auto\"\n",
    "    android:layout_width=\"match_parent\"\n",
    "    android:layout_height=\"wrap_content\">\n",
    "\n",
    "    <TextView\n",
    "        android:id=\"@+id/taskTextView\"\n",
    "        android:layout_width=\"match_parent\"\n",
    "        android:layout_height=\"wrap_content\"\n",
    "        app:layout_constraintEnd_toEndOf=\"parent\"\n",
    "        android:layout_margin=\"4dp\"\n",
    "        android:layout_marginStart=\"8dp\"\n",
    "        android:textSize=\"18sp\"\n",
    "        android:paddingStart=\"36dp\"\n",
    "        app:layout_constraintStart_toStartOf=\"parent\"\n",
    "        app:layout_constraintTop_toTopOf=\"parent\" />\n",
    "\n",
    "\n",
    "</androidx.constraintlayout.widget.ConstraintLayout>"
   ]
  },
  {
   "cell_type": "markdown",
   "id": "0fc2ef21-578f-4b3e-98de-a859e0b92601",
   "metadata": {},
   "source": [
    "### **model**"
   ]
  },
  {
   "cell_type": "markdown",
   "id": "c350a90a-67f7-446f-aeff-f229071fc82f",
   "metadata": {},
   "source": [
    "Zdefiniujmy model danych, będziemy posiadać dwie klasy\n",
    "- `Task` - dla pojedynczego zadania\n",
    "- `TaskGroup` - dla nagłówka\n",
    "\n",
    "Na potrzeby `RecyclerView` zdefiniujemy jeszcze trzy typy\n",
    "- `TaskRow` - reprezentujący rząd\n",
    "- `Header` - reprezentujący nagłówek\n",
    "- `Task` - reprezentujący pojedyncze zadanie"
   ]
  },
  {
   "cell_type": "code",
   "execution_count": null,
   "id": "df390cb3-49cc-43ca-a405-12aa4a328903",
   "metadata": {},
   "outputs": [],
   "source": [
    "public class TaskRow {\n",
    "    public static final int TYPE_HEADER = 0;\n",
    "    public static final int TYPE_TASK = 1;\n",
    "\n",
    "    private final int rowType;\n",
    "\n",
    "    public TaskRow(int rowType){\n",
    "        this.rowType = rowType;\n",
    "    }\n",
    "\n",
    "    public int getRowType() {\n",
    "        return rowType;\n",
    "    }\n",
    "\n",
    "    public static class Task extends TaskRow{\n",
    "        private final String name;\n",
    "\n",
    "        public Task(String name){\n",
    "            super(TaskRow.TYPE_TASK);\n",
    "            this.name = name;\n",
    "        }\n",
    "\n",
    "        public String getName() {\n",
    "            return name;\n",
    "        }\n",
    "\n",
    "        @Override\n",
    "        public boolean equals(Object o) {\n",
    "            if (this == o) return true;\n",
    "            if (o == null || getClass() != o.getClass()) return false;\n",
    "            Task task = (Task) o;\n",
    "            return name.equals(task.name);\n",
    "        }\n",
    "\n",
    "        @Override\n",
    "        public int hashCode() {\n",
    "            return Objects.hash(name);\n",
    "        }\n",
    "    }\n",
    "\n",
    "    public static class Header extends TaskRow{\n",
    "        private final String name;\n",
    "\n",
    "        public Header(String name){\n",
    "            super(TaskRow.TYPE_HEADER);\n",
    "            this.name = name;\n",
    "        }\n",
    "\n",
    "        @Override\n",
    "        public boolean equals(Object o) {\n",
    "            if (this == o) return true;\n",
    "            if (o == null || getClass() != o.getClass()) return false;\n",
    "            Header header = (Header) o;\n",
    "            return name.equals(header.name);\n",
    "        }\n",
    "\n",
    "        @Override\n",
    "        public int hashCode() {\n",
    "            return Objects.hash(name);\n",
    "        }\n",
    "\n",
    "        public String getName() {\n",
    "            return name;\n",
    "        }\n",
    "    }\n",
    "}\n",
    "\n",
    "public class Task {\n",
    "    private final String name;\n",
    "    private final TaskGroup type;\n",
    "\n",
    "    public Task(String name, TaskGroup type){\n",
    "        this.name = name;\n",
    "        this.type = type;\n",
    "    }\n",
    "\n",
    "    public String getName() {\n",
    "        return name;\n",
    "    }\n",
    "\n",
    "    public TaskGroup getType() {\n",
    "        return type;\n",
    "    }\n",
    "}\n",
    "\n",
    "public class TaskGroup {\n",
    "    private final String name;\n",
    "\n",
    "    public TaskGroup(String name){\n",
    "        this.name = name;\n",
    "    }\n",
    "\n",
    "    public String getName() {\n",
    "        return name;\n",
    "    }\n",
    "}"
   ]
  },
  {
   "cell_type": "markdown",
   "id": "6db5b8f8-ca0b-4e68-afb9-748f049eb10d",
   "metadata": {},
   "source": [
    "### **Adapter**"
   ]
  },
  {
   "cell_type": "markdown",
   "id": "5994b972-bf4f-49a2-bdb0-4268daea7e7b",
   "metadata": {},
   "source": [
    "Przejdźmy do `TaskAdapter`"
   ]
  },
  {
   "cell_type": "code",
   "execution_count": null,
   "id": "72138563-bdc7-4373-90ad-33eac0ccb7e2",
   "metadata": {},
   "outputs": [],
   "source": [
    "public class TaskAdapter \n",
    "    extends RecyclerView.Adapter<RecyclerView.ViewHolder> {\n",
    "    \n",
    "    private final ArrayList<Task> taskList;\n",
    "    private final ArrayList<TaskRow> rows;\n",
    "\n",
    "    public TaskAdapter(ArrayList<Task> taskList){\n",
    "        this.taskList = taskList;\n",
    "        this.rows = getGroupedTasks();\n",
    "    }\n",
    "}"
   ]
  },
  {
   "cell_type": "markdown",
   "id": "7653b033-ccf9-407e-91b1-dcfc44b6ff05",
   "metadata": {},
   "source": [
    "Zadania będziemy przechowywać w liście, w pierwszym kroku musimy pogrupować całą listę"
   ]
  },
  {
   "cell_type": "code",
   "execution_count": null,
   "id": "a24b821c-746d-44ce-a100-4bbc10c9d55e",
   "metadata": {},
   "outputs": [],
   "source": [
    "private ArrayList<TaskRow> getGroupedTasks(){\n",
    "    ArrayList<TaskRow> list = new ArrayList<>();\n",
    "\n",
    "    Map<String, List<Task>> grouped = taskList.stream()\n",
    "        .collect(Collectors.groupingBy(i -> i.getType().getName()));\n",
    "\n",
    "    for (String group : grouped.keySet()) {\n",
    "        list.add(new TaskRow.Header(group));\n",
    "        List<Task> groupingItems = grouped.get(group);\n",
    "        if (groupingItems != null) {\n",
    "            groupingItems.forEach(t -> list.add(new TaskRow.Task(t.getName())));\n",
    "        }\n",
    "    }\n",
    "\n",
    "    return list;\n",
    "}"
   ]
  },
  {
   "cell_type": "markdown",
   "id": "35405781-8cac-4f5e-a2df-15ef14b8201a",
   "metadata": {},
   "source": [
    "W pierwszym kroku grupujemy wszystkie zadania według nazwy typu, następnie przechodzimy przez wszystkie elementy i dodajemy nagłówek, oraz listę wszystkich zadań z tym nagłówkiem. Na końcu zwracamy jako listę.\n",
    "\n",
    "Kolejnym krokiem będzie zdefiniowanie dwóch `ViewHolder` dla nagłówka i zadania."
   ]
  },
  {
   "cell_type": "code",
   "execution_count": null,
   "id": "0fcbfbd3-3d10-43f5-bc94-7d9ac202342c",
   "metadata": {},
   "outputs": [],
   "source": [
    "private static class TaskViewHolder extends RecyclerView.ViewHolder{\n",
    "\n",
    "    private final ItemTaskRowBinding binding;\n",
    "\n",
    "    public TaskViewHolder(ItemTaskRowBinding binding) {\n",
    "        super(binding.getRoot());\n",
    "        this.binding = binding;\n",
    "    }\n",
    "\n",
    "    public void bind(TaskRow.Task item){\n",
    "        binding.taskTextView.setText(item.getName());\n",
    "    }\n",
    "}\n",
    "\n",
    "private static class HeaderViewHolder extends RecyclerView.ViewHolder{\n",
    "\n",
    "    private final ItemGroupRowBinding binding;\n",
    "\n",
    "    public HeaderViewHolder(ItemGroupRowBinding binding) {\n",
    "        super(binding.getRoot());\n",
    "        this.binding = binding;\n",
    "    }\n",
    "\n",
    "    public void bind(TaskRow.Header item){\n",
    "        binding.groupTextView.setText(item.getName());\n",
    "    }\n",
    "}"
   ]
  },
  {
   "cell_type": "markdown",
   "id": "81efe03f-d58c-4d11-8f76-1f25c478bea0",
   "metadata": {},
   "source": [
    "Przejdźmy do metod `RecyclerView`. W `onCreateViewHolder` musimy zwrócić odpowiedni `ViewHolder`"
   ]
  },
  {
   "cell_type": "code",
   "execution_count": null,
   "id": "b3c79e18-7334-4fc3-be50-b2440ae28be0",
   "metadata": {},
   "outputs": [],
   "source": [
    "@NonNull\n",
    "@Override\n",
    "public RecyclerView.ViewHolder onCreateViewHolder(@NonNull ViewGroup parent, int viewType) {\n",
    "    RecyclerView.ViewHolder viewHolder;\n",
    "    switch (viewType){\n",
    "        case TaskRow.TYPE_TASK:\n",
    "            viewHolder = new TaskViewHolder(ItemTaskRowBinding.inflate(\n",
    "                    LayoutInflater.from(parent.getContext()), parent, false));\n",
    "            break;\n",
    "        case TaskRow.TYPE_HEADER:\n",
    "            viewHolder = new HeaderViewHolder(ItemGroupRowBinding.inflate(\n",
    "                    LayoutInflater.from(parent.getContext()), parent, false\n",
    "            ));\n",
    "            break;\n",
    "        default:\n",
    "            throw new IllegalStateException(\"Unexpected value: \" + viewType);\n",
    "    }\n",
    "\n",
    "    return viewHolder;\n",
    "}"
   ]
  },
  {
   "cell_type": "markdown",
   "id": "158d1171-ce8a-40dc-ace2-fb1aa5ae709d",
   "metadata": {},
   "source": [
    "Aby to zrobić musimy nadpisać metodę `getItemViewType`"
   ]
  },
  {
   "cell_type": "code",
   "execution_count": null,
   "id": "3f831e1e-dc1b-47ad-9a43-2d816d3c0862",
   "metadata": {},
   "outputs": [],
   "source": [
    "public int getItemViewType(int position) {\n",
    "    return rows.get(position).getRowType();\n",
    "}"
   ]
  },
  {
   "cell_type": "markdown",
   "id": "d1e16d0f-b8e9-464a-a391-a2aca97121eb",
   "metadata": {},
   "source": [
    "`getItemCount` jest rozmiarem naszej pogrupowanej listy"
   ]
  },
  {
   "cell_type": "code",
   "execution_count": null,
   "id": "37eea6cc-fae2-49cc-b660-288909fcf921",
   "metadata": {},
   "outputs": [],
   "source": [
    "@Override\n",
    "public int getItemCount() {\n",
    "    return rows.size();\n",
    "}"
   ]
  },
  {
   "cell_type": "markdown",
   "id": "dfd09a43-3f7e-4f86-9e7b-18a6c6f72ce4",
   "metadata": {},
   "source": [
    "Na koniec dodajemy implementację metody `onBindViewHolder`."
   ]
  },
  {
   "cell_type": "code",
   "execution_count": null,
   "id": "d837b2c8-f5dc-4b75-8b40-30282875a000",
   "metadata": {},
   "outputs": [],
   "source": [
    "@Override\n",
    "public void onBindViewHolder(@NonNull RecyclerView.ViewHolder holder, int position) {\n",
    "    TaskRow row = rows.get(position);\n",
    "    if (row instanceof TaskRow.Task)\n",
    "        ((TaskViewHolder) holder).bind((TaskRow.Task) row);\n",
    "    else\n",
    "        ((HeaderViewHolder) holder).bind((TaskRow.Header) row);\n",
    "}"
   ]
  },
  {
   "cell_type": "markdown",
   "id": "7553017d-9d9b-43d7-8997-b9e3f53bef87",
   "metadata": {},
   "source": [
    "Przejdźmy do fragmentu i dodajmy `RecyclerView`"
   ]
  },
  {
   "cell_type": "code",
   "execution_count": null,
   "id": "5cbebc56-af8e-4581-9cd3-64f398356f4e",
   "metadata": {},
   "outputs": [],
   "source": [
    "public class TaskyFragment extends Fragment {\n",
    "\n",
    "    private FragmentTaskyBinding binding;\n",
    "\n",
    "    @Nullable\n",
    "    @Override\n",
    "    public View onCreateView(@NonNull LayoutInflater inflater, \n",
    "                             @Nullable ViewGroup container, \n",
    "                             @Nullable Bundle savedInstanceState) {\n",
    "        binding = FragmentTaskyBinding.inflate(inflater, container, false);\n",
    "        return binding.getRoot();\n",
    "    }\n",
    "\n",
    "    @Override\n",
    "    public void onViewCreated(@NonNull View view, @Nullable Bundle savedInstanceState) {\n",
    "        super.onViewCreated(view, savedInstanceState);\n",
    "\n",
    "        ArrayList<Task> tasks = SharedPrefUtil.getTaskList(requireContext());\n",
    "\n",
    "        binding.rvTasky.setLayoutManager(new LinearLayoutManager(requireContext()));\n",
    "        binding.rvTasky.setAdapter(new TaskAdapter(tasks));\n",
    "    }\n",
    "}"
   ]
  },
  {
   "cell_type": "markdown",
   "id": "c77eed85-b03b-4d2c-abad-389a9e4ce221",
   "metadata": {},
   "source": [
    "W pliku `DataProvider` dodajmy dane testowe"
   ]
  },
  {
   "cell_type": "code",
   "execution_count": null,
   "id": "e0a539e2-adee-4ec8-9343-4de254581f7d",
   "metadata": {},
   "outputs": [],
   "source": [
    "final public class DataProvider {\n",
    "    private DataProvider(){}\n",
    "\n",
    "    public static ArrayList<Task> getTasks(){\n",
    "        ArrayList<Task> tasks = new ArrayList<>();\n",
    "            tasks.add(new Task(\"task1\", new TaskGroup(\"Group 1\")));\n",
    "            tasks.add(new Task(\"task2\", new TaskGroup(\"Group 1\")));\n",
    "            tasks.add(new Task(\"task3\", new TaskGroup(\"Group 1\")));\n",
    "            tasks.add(new Task(\"task4\", new TaskGroup(\"Group 1\")));\n",
    "            tasks.add(new Task(\"task5\", new TaskGroup(\"Group 1\")));\n",
    "            tasks.add(new Task(\"task a\", new TaskGroup(\"Group 2\")));\n",
    "            tasks.add(new Task(\"task b\", new TaskGroup(\"Group 2\")));\n",
    "            tasks.add(new Task(\"task c\", new TaskGroup(\"Group 2\")));\n",
    "            tasks.add(new Task(\"task d\", new TaskGroup(\"Group 2\")));\n",
    "            return tasks;\n",
    "    }\n",
    "}"
   ]
  },
  {
   "cell_type": "markdown",
   "id": "cb002847-c344-40fd-a5e6-14d4b0a5a578",
   "metadata": {},
   "source": [
    "Możemy przetestować aplikację"
   ]
  },
  {
   "cell_type": "markdown",
   "id": "80dd3b0d-76e0-4599-86be-e34bb71c6cb9",
   "metadata": {},
   "source": [
    "<img src=\"https://media3.giphy.com/media/qoAHLzTQ0PezrKEhWH/giphy.gif?cid=790b7611c96fcee70976ddb748e72df1f3c57af60cc984ef&rid=giphy.gif&ct=g\" width=\"150\" />"
   ]
  },
  {
   "cell_type": "markdown",
   "id": "9633d156-8f8c-4a71-ab40-2790e0eb95fa",
   "metadata": {},
   "source": [
    "Wróćmy do adaptera i napiszmy metodę umożliwiającą dodanie elementu. Chcemy dodać zadanie do właściwej grupy, na koniec wszystkich zadań. Potrzebujemy metodę zwracającą listę wszystkich zadań przynależących do danej grupy"
   ]
  },
  {
   "cell_type": "code",
   "execution_count": null,
   "id": "fdb17dc0-6edb-466d-8667-fb206a82c545",
   "metadata": {},
   "outputs": [],
   "source": [
    "private List<TaskRow> subList(String groupName){\n",
    "    return taskList.stream()\n",
    "            .filter(i -> i.getType().getName().equals(groupName))\n",
    "            .map(i -> new TaskRow.Task(i.getName()))\n",
    "            .collect(Collectors.toList());\n",
    "}"
   ]
  },
  {
   "cell_type": "markdown",
   "id": "b01b791b-2b6d-4f94-b93f-c465d2ea3d19",
   "metadata": {},
   "source": [
    "Następnie dodajmy metodę `add`"
   ]
  },
  {
   "cell_type": "code",
   "execution_count": null,
   "id": "ab6137c6-47d2-4eae-aa58-deabc0ad1504",
   "metadata": {},
   "outputs": [],
   "source": [
    "public void add(Task task, Context context){}"
   ]
  },
  {
   "cell_type": "markdown",
   "id": "be815471-5e95-4d9b-b019-c6e99fab1f5e",
   "metadata": {},
   "source": [
    "W pierwszym kroku dodajmy element na listę zadań"
   ]
  },
  {
   "cell_type": "code",
   "execution_count": null,
   "id": "e6cd04cd-6a9c-4d43-a9e0-a49f9da43e8a",
   "metadata": {},
   "outputs": [],
   "source": [
    "tasksList.add(task);"
   ]
  },
  {
   "cell_type": "markdown",
   "id": "e00c70bd-c853-4577-ab93-efd39245d5d2",
   "metadata": {},
   "source": [
    "Znajdźmy nagłówek zadania (jeżeli istnieje)"
   ]
  },
  {
   "cell_type": "code",
   "execution_count": null,
   "id": "f407dc68-841c-405a-bde4-09a9a5551d9b",
   "metadata": {},
   "outputs": [],
   "source": [
    "TaskRow.Header header = (TaskRow.Header)rows.stream()\n",
    "    .filter(i -> (i instanceof TaskRow.Header) && ((TaskRow.Header) i)\n",
    "            .getName()\n",
    "            .equals(task.getType().getName()))\n",
    "    .findAny()\n",
    "    .orElse(null);"
   ]
  },
  {
   "cell_type": "markdown",
   "id": "d3cfe8ce-130d-4212-8bb9-bb0209fc3248",
   "metadata": {},
   "source": [
    "Jeżeli nagłówek nie istnieje tworzymy go i dodajemy na listę, następnie dodajemy samo zadanie i wysyłamy odpowiednie powiadomienie do adaptera"
   ]
  },
  {
   "cell_type": "code",
   "execution_count": null,
   "id": "4ef68b21-19a9-4290-a023-d65f0eda76bd",
   "metadata": {},
   "outputs": [],
   "source": [
    "if (header == null){\n",
    "    rows.add(new TaskRow.Header(task.getType().getName()));\n",
    "    rows.add(new TaskRow.Task(task.getName()));\n",
    "    notifyItemInserted(rows.size());"
   ]
  },
  {
   "cell_type": "markdown",
   "id": "41de82c3-9342-4a14-906e-81d00e2dccbe",
   "metadata": {},
   "source": [
    "Jeżeli nagłówek istnieje chcemy dodać zadanie na koniec podlisty"
   ]
  },
  {
   "cell_type": "code",
   "execution_count": null,
   "id": "e6c0009f-dff5-47ae-88a2-d00027eef259",
   "metadata": {},
   "outputs": [],
   "source": [
    "} else {\n",
    "    int i = rows.indexOf(new TaskRow.Header(task.getType().getName()));\n",
    "    rows.add(i + subList(task.getType().getName()).size(), new TaskRow.Task(task.getName()));\n",
    "    notifyItemInserted(i + subList(task.getType().getName()).size());\n",
    "}"
   ]
  },
  {
   "cell_type": "markdown",
   "id": "c5ba003e-ec40-4a4e-a0ba-2c7434637e99",
   "metadata": {},
   "source": [
    "W naszym fragmencie obsłużmy `onClick` przycisku odpowiadającego za dodanie nowego zadania."
   ]
  },
  {
   "cell_type": "code",
   "execution_count": null,
   "id": "dfa02140-8df3-475e-a3a6-1a262f79b9d6",
   "metadata": {},
   "outputs": [],
   "source": [
    "binding.addButton.setOnClickListener(v -> {\n",
    "    String task = Objects.requireNonNull(\n",
    "        binding.taskEditText.getText()).toString();\n",
    "    String cat = Objects.requireNonNull(\n",
    "        binding.groupEditText.getText()).toString();\n",
    "\n",
    "    if (!task.isEmpty() && !cat.isEmpty()){\n",
    "        TaskAdapter adapter = \n",
    "            (TaskAdapter) Objects.requireNonNull(binding.rvTasky.getAdapter());\n",
    "        adapter.add(new Task(task, new TaskGroup(cat)), requireContext());\n",
    "        binding.groupEditText.getText().clear();\n",
    "        binding.taskEditText.getText().clear();\n",
    "    }\n",
    "});"
   ]
  },
  {
   "cell_type": "markdown",
   "id": "a40dced9-a015-4dca-986a-6754784ad7fc",
   "metadata": {},
   "source": [
    "Dodajmy również obsługę przycisku czyszczącego całą listę"
   ]
  },
  {
   "cell_type": "code",
   "execution_count": null,
   "id": "ae357241-21aa-45e8-87ff-c0683e6d9401",
   "metadata": {},
   "outputs": [],
   "source": [
    "binding.clearButton.setOnClickListener(v -> {\n",
    "    TaskAdapter adapter = (TaskAdapter) Objects.requireNonNull(binding.rvTasky.getAdapter());\n",
    "    adapter.clear(requireContext());\n",
    "});"
   ]
  },
  {
   "cell_type": "markdown",
   "id": "5d7091ff-7680-4886-a977-e0831f31642e",
   "metadata": {},
   "source": [
    "Oraz zaimplementujmy metodę `clear` w klasie `TaskAdapter`"
   ]
  },
  {
   "cell_type": "code",
   "execution_count": null,
   "id": "5d711b6b-2e87-4af9-acc4-193aa3ed430e",
   "metadata": {},
   "outputs": [],
   "source": [
    "public void clear(Context context){\n",
    "    taskList.clear();\n",
    "    notifyItemRangeRemoved(0, rows.size());\n",
    "    rows.clear();\n",
    "}"
   ]
  },
  {
   "cell_type": "markdown",
   "id": "b6d3e8b6-6f3c-4050-9fd6-ba0c19185ad5",
   "metadata": {},
   "source": [
    "Możemy przetestować aplikację"
   ]
  },
  {
   "cell_type": "markdown",
   "id": "c12aef9d-9b33-43b4-ae8e-e5bbd61a8406",
   "metadata": {},
   "source": [
    "<img src=\"https://media0.giphy.com/media/sJcy5w1ByfcZ7g50LC/giphy.gif?cid=790b761149c8246e2b3f29cede919b77aff2aff10a7990c3&rid=giphy.gif&ct=g\" width=\"150\" />"
   ]
  },
  {
   "cell_type": "markdown",
   "id": "cec9af1f-ad2f-4213-97c8-86c83d4a21ef",
   "metadata": {},
   "source": [
    "### **SharedPreferences -- JSON**"
   ]
  },
  {
   "cell_type": "markdown",
   "id": "094658df-cd95-4bff-a54e-78785863c594",
   "metadata": {},
   "source": [
    "Ostatnim krokiem będzie zapisanie listy zadań do pliku. W tym celu utwórzmy plik `SharedPrefUtil` i dodajmy odpowiednie elementy. Będziemy potrzebować dwie stałe\n",
    "- nazwę pliku\n",
    "- klucz listy"
   ]
  },
  {
   "cell_type": "code",
   "execution_count": null,
   "id": "cb79f20e-ae16-496e-a747-e433fd6d0b90",
   "metadata": {},
   "outputs": [],
   "source": [
    "final public class SharedPrefUtil {\n",
    "    private SharedPrefUtil(){}\n",
    "\n",
    "    public static final String TASK_LIST = \"tasks\";\n",
    "    public static final String TASK_FILE = \"task_file_java\";\n",
    "}"
   ]
  },
  {
   "cell_type": "markdown",
   "id": "78fe7e51-4362-4556-8c8f-de60b0593d75",
   "metadata": {},
   "source": [
    "Chcemy skorzystać z formatu `json`, więc wykorzystamy bibliotekę `Gson` aby przygotować odpowiednio `String` do zapisu i odczytu. Musimy dodać tą bibliotekę do zależności w pliku `gradle`"
   ]
  },
  {
   "cell_type": "code",
   "execution_count": null,
   "id": "b34913b6-da93-48a3-87de-d253f024e1f3",
   "metadata": {},
   "outputs": [],
   "source": [
    "implementation 'com.google.code.gson:gson:2.9.0'"
   ]
  },
  {
   "cell_type": "markdown",
   "id": "c3c7ec58-a889-4329-97e7-16255e22f825",
   "metadata": {},
   "source": [
    "Następnie zaimplementujmy metodę pozwalającą zapisać dane"
   ]
  },
  {
   "cell_type": "code",
   "execution_count": null,
   "id": "dbf576de-8be5-42e8-9296-4fc972e6fa5b",
   "metadata": {},
   "outputs": [],
   "source": [
    "public static void saveTaskList(Context context, List<Task> tasks){}"
   ]
  },
  {
   "cell_type": "markdown",
   "id": "43c6fb57-75a4-485f-9990-b53a7d472f08",
   "metadata": {},
   "source": [
    "W pierwszym kroku utwórzmy odpowiednio sformatowany `String` za pomocą biblioteki `Gson`"
   ]
  },
  {
   "cell_type": "code",
   "execution_count": null,
   "id": "537e4575-1b32-46a7-977b-d55b52fa5c1b",
   "metadata": {},
   "outputs": [],
   "source": [
    "Gson gson = new Gson();\n",
    "String json = gson.toJson(tasks);"
   ]
  },
  {
   "cell_type": "markdown",
   "id": "a5779f15-54ca-4e2f-b3f3-a70c9560b8f0",
   "metadata": {},
   "source": [
    "Następnie dodajmy ten `String` do `SharedPreferences` powiązanego z aplikacją"
   ]
  },
  {
   "cell_type": "code",
   "execution_count": null,
   "id": "64c44f5e-d7d1-4ec2-8a37-25bd844886ea",
   "metadata": {},
   "outputs": [],
   "source": [
    "SharedPreferences preferences = \n",
    "    context.getSharedPreferences(TASK_FILE, Context.MODE_PRIVATE);\n",
    "preferences.edit().putString(TASK_LIST, json).apply();"
   ]
  },
  {
   "cell_type": "markdown",
   "id": "8bacd141-d0d4-4250-a7c6-bafd799256fc",
   "metadata": {},
   "source": [
    "Druga metoda pozwoli odczytać zapisany plik."
   ]
  },
  {
   "cell_type": "code",
   "execution_count": null,
   "id": "b939752f-ef83-4fb2-92dc-ab7b926a862d",
   "metadata": {},
   "outputs": [],
   "source": [
    "public static ArrayList<Task> getTaskList(Context context){}"
   ]
  },
  {
   "cell_type": "markdown",
   "id": "b892e62c-573e-43fa-923e-e74135ace224",
   "metadata": {},
   "source": [
    "Po kluczu rozpakowujemy `String` z obiektu `SharedPreferences`"
   ]
  },
  {
   "cell_type": "code",
   "execution_count": null,
   "id": "17aeb00b-93b2-405f-b047-16c537766cfa",
   "metadata": {},
   "outputs": [],
   "source": [
    "Gson gson = new Gson();\n",
    "SharedPreferences preferences = \n",
    "    context.getSharedPreferences(TASK_FILE, Context.MODE_PRIVATE);\n",
    "String json = preferences.getString(TASK_LIST, \"\");"
   ]
  },
  {
   "cell_type": "markdown",
   "id": "7e363153-f319-4ddd-a07c-b81cd8201625",
   "metadata": {},
   "source": [
    "Jeżeli dostaniemy `null` metoda zwraca pustą listę"
   ]
  },
  {
   "cell_type": "code",
   "execution_count": null,
   "id": "77009bfe-d1ac-4c3b-9326-3909b151ec8b",
   "metadata": {},
   "outputs": [],
   "source": [
    "if (json.isEmpty())\n",
    "    return new ArrayList<>();"
   ]
  },
  {
   "cell_type": "markdown",
   "id": "f59545fa-d5fd-4710-b8cb-39df6ea12ace",
   "metadata": {},
   "source": [
    "W przeciwnym razie rozpakowujemy listę korzystając z bibllioteki `Gson`. Musimy sprecyzować co dokładnie `Gson` ma przekonwertować na listę - musimy jawnie podać typ. O ile w przypadku pojedynczych obiektów nie jest to problemem (przykładowo `Task.class`), o tyle w przypadku listy obiektów musimy wykorzystać typy generyczne czasu wykonania `TypeToken` (więcej informacji [tutaj](https://helw.net/2017/11/09/runtime-generics-in-an-erasure-world/))"
   ]
  },
  {
   "cell_type": "code",
   "execution_count": null,
   "id": "5bacc1e8-5fc7-4775-90b6-1f5fc80dc699",
   "metadata": {},
   "outputs": [],
   "source": [
    "Type type = new TypeToken<ArrayList<Task>>(){}.getType();\n",
    "return gson.fromJson(json, type);"
   ]
  },
  {
   "cell_type": "markdown",
   "id": "ba713432-2a69-475b-bc8b-ec4222df8e0f",
   "metadata": {},
   "source": [
    "Metody wywołujemy w wewnątrz metody `add` i `clear` klasy `TaskAdapter`"
   ]
  },
  {
   "cell_type": "code",
   "execution_count": null,
   "id": "bc92cde9-aba3-4655-bfa4-601c3c68fad0",
   "metadata": {},
   "outputs": [],
   "source": [
    "public void add(Task task, Context context){\n",
    "    taskList.add(task);\n",
    "    SharedPrefUtil.saveTaskList(context, taskList);\n",
    "    ...\n",
    "}\n",
    "\n",
    "public void clear(Context context){\n",
    "    taskList.clear();\n",
    "    notifyItemRangeRemoved(0, rows.size());\n",
    "    rows.clear();\n",
    "    SharedPrefUtil.saveTaskList(context, taskList);\n",
    "}"
   ]
  },
  {
   "cell_type": "markdown",
   "id": "8b1716fb-af6d-40b0-8b78-b754ba99ca4d",
   "metadata": {},
   "source": [
    "oraz w `onViewCreated` klsay `TaskyFragment`"
   ]
  },
  {
   "cell_type": "code",
   "execution_count": null,
   "id": "6344ea44-d57b-489f-8a40-2a38ca33ca2d",
   "metadata": {},
   "outputs": [],
   "source": [
    "ArrayList<Task> tasks = SharedPrefUtil.getTaskList(requireContext());"
   ]
  },
  {
   "cell_type": "markdown",
   "id": "30f83cba-e5be-4c67-978b-526e4aede5a9",
   "metadata": {},
   "source": [
    "Możemy przetestować aplikację."
   ]
  },
  {
   "cell_type": "markdown",
   "id": "536270c8-a767-4af5-9b48-224373ba1cab",
   "metadata": {},
   "source": [
    "<table><tr><td><img src=\"https://media4.giphy.com/media/Dv16lqPAAbY3wcR5yQ/giphy.gif?cid=790b76110f283c94c4653f3110e6fecb2a9d0820a3829b21&rid=giphy.gif&ct=g\" width=\"150\" /></td><td><img src=\"https://media4.giphy.com/media/NTntAP53dVMiI7x2jO/giphy.gif?cid=790b76112a65996659d22cdbc3f09ca05eafa714f38f57d0&rid=giphy.gif&ct=g\" width=\"150\" /></td><td><img src=\"https://media2.giphy.com/media/V1hvzLlvSPlEzKhrjM/giphy.gif?cid=790b7611f83aa25dbb5b41859105e74c7fec193a551e4e61&rid=giphy.gif&ct=g\" width=\"150\" /></td></tr></table>"
   ]
  },
  {
   "cell_type": "code",
   "execution_count": null,
   "id": "cf7ca549-1705-40dc-b424-d3a2a5d64cc6",
   "metadata": {},
   "outputs": [],
   "source": []
  }
 ],
 "metadata": {
  "kernelspec": {
   "display_name": "Java",
   "language": "java",
   "name": "java"
  },
  "language_info": {
   "codemirror_mode": "java",
   "file_extension": ".jshell",
   "mimetype": "text/x-java-source",
   "name": "Java",
   "pygments_lexer": "java",
   "version": "17+35-2724"
  }
 },
 "nbformat": 4,
 "nbformat_minor": 5
}
