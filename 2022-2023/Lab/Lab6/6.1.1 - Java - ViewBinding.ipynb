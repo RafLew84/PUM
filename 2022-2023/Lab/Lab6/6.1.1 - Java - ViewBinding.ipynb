{
 "cells": [
  {
   "cell_type": "markdown",
   "id": "08aa8221-cb06-46e4-b6cb-acd6e6a794c3",
   "metadata": {},
   "source": [
    "## 6.1 View Binding"
   ]
  },
  {
   "cell_type": "markdown",
   "id": "d11dc1c8-150f-4f58-af1b-bd8c0b576428",
   "metadata": {},
   "source": [
    "W tym przykładzie zapoznamy się z `View Binding`, który ułatwia pracę z plikami layoutu. Przykładowy projekt rozpoczniemy od dodania odpowiedniego wpisu do pliku `build.gradle(Module)`\n",
    "\n",
    "```kotlin\n",
    "android {\n",
    "    ...\n",
    "    buildFeatures {\n",
    "        viewBinding = true\n",
    "    }\n",
    "}\n",
    "```\n",
    "\n",
    "Dodajmy pole `TextView` oraz `Button` do layoutu aktywności\n",
    "\n",
    "```xml\n",
    "<?xml version=\"1.0\" encoding=\"utf-8\"?>\n",
    "<androidx.constraintlayout.widget.ConstraintLayout xmlns:android=\"http://schemas.android.com/apk/res/android\"\n",
    "    xmlns:app=\"http://schemas.android.com/apk/res-auto\"\n",
    "    xmlns:tools=\"http://schemas.android.com/tools\"\n",
    "    android:layout_width=\"match_parent\"\n",
    "    android:layout_height=\"match_parent\"\n",
    "    tools:context=\".MainActivity\">\n",
    "\n",
    "    <TextView\n",
    "        android:id=\"@+id/textview\"\n",
    "        android:layout_width=\"wrap_content\"\n",
    "        android:layout_height=\"wrap_content\"\n",
    "        android:text=\"TextView\"\n",
    "        android:textSize=\"36sp\"\n",
    "        app:layout_constraintBottom_toBottomOf=\"parent\"\n",
    "        app:layout_constraintEnd_toEndOf=\"parent\"\n",
    "        app:layout_constraintStart_toStartOf=\"parent\"\n",
    "        app:layout_constraintTop_toTopOf=\"parent\" />\n",
    "\n",
    "    <Button\n",
    "        android:id=\"@+id/button\"\n",
    "        android:layout_width=\"wrap_content\"\n",
    "        android:layout_height=\"wrap_content\"\n",
    "        android:text=\"Button\"\n",
    "        app:layout_constraintBottom_toBottomOf=\"parent\"\n",
    "        app:layout_constraintEnd_toEndOf=\"parent\"\n",
    "        app:layout_constraintStart_toStartOf=\"parent\"\n",
    "        app:layout_constraintTop_toBottomOf=\"@+id/textview\" />\n",
    "\n",
    "</androidx.constraintlayout.widget.ConstraintLayout>\n",
    "```\n",
    "\n",
    "Przejdźmy do klasy `MainActivity`, w pierwszym kroku musimy utworzyć instancję automatycznie utworzonej klasy - plik do którego się odnosimy nosi nazwę `activity_main.xml`, więc klasa będzie nosić nazwę `ActivityMainBinding`"
   ]
  },
  {
   "cell_type": "code",
   "execution_count": null,
   "id": "d8ffe489-244a-407d-90ee-e30f79a0ee1d",
   "metadata": {},
   "outputs": [],
   "source": [
    "private ActivityMainBinding binding;"
   ]
  },
  {
   "cell_type": "markdown",
   "id": "6ce5715b-2286-474c-aa75-9d29069c7a38",
   "metadata": {},
   "source": [
    "Następnie w metodzie `onCreate` wywołujemy `setContentView` z, nie jak do tej pory podanym layoutem przez klasę `R`, a odnosimy się przez `binding.root`"
   ]
  },
  {
   "cell_type": "code",
   "execution_count": null,
   "id": "09de9709-cc1b-4096-9281-a9f04458ce10",
   "metadata": {},
   "outputs": [],
   "source": [
    "@Override\n",
    "protected void onCreate(Bundle savedInstanceState) {\n",
    "    super.onCreate(savedInstanceState);\n",
    "    binding = ActivityMainBinding.inflate(getLayoutInflater());\n",
    "    setContentView(binding.getRoot())\n",
    "}"
   ]
  },
  {
   "cell_type": "markdown",
   "id": "9b8d3ffc-ecf5-4acc-9858-d918a1587ab5",
   "metadata": {},
   "source": [
    "Teraz przez `binding` możemy odnosić się do wszystkich pól zdefiniowanych (i posiadających `id`) w pliku `activity_main.xml`"
   ]
  },
  {
   "cell_type": "code",
   "execution_count": null,
   "id": "022c0348-8832-4d9a-82af-5148b4d3a4ea",
   "metadata": {},
   "outputs": [],
   "source": [
    "public class MainActivity extends AppCompatActivity {\n",
    "\n",
    "    private ActivityMainBinding binding;\n",
    "\n",
    "    @Override\n",
    "    protected void onCreate(Bundle savedInstanceState) {\n",
    "        super.onCreate(savedInstanceState);\n",
    "        binding = ActivityMainBinding.inflate(getLayoutInflater());\n",
    "        setContentView(binding.getRoot());\n",
    "\n",
    "        binding.textview.setText(\"HELLO\");\n",
    "        binding.button.setOnClickListener(view -> {\n",
    "            binding.textview.setText(\"Click!!!\");\n",
    "        });\n",
    "    }\n",
    "}"
   ]
  },
  {
   "cell_type": "markdown",
   "id": "b8e3632f-b08b-4c47-8114-06a230879375",
   "metadata": {},
   "source": [
    "<img src=\"https://media4.giphy.com/media/BbVl93nVHsC440Q05K/giphy.gif?cid=790b76118175e5915c17aaa3fdc4ac317629892350ba9a2f&rid=giphy.gif&ct=g\" width=\"150\" />"
   ]
  },
  {
   "cell_type": "markdown",
   "id": "1dc128b5-d1b8-416d-b991-2ba234d0272a",
   "metadata": {},
   "source": [
    "Sytuacja nieco inaczej wygląda na fragmentach, dodajmy statycznie fragment do aktywności\n",
    "\n",
    "```xml\n",
    "<?xml version=\"1.0\" encoding=\"utf-8\"?>\n",
    "<androidx.constraintlayout.widget.ConstraintLayout xmlns:android=\"http://schemas.android.com/apk/res/android\"\n",
    "    xmlns:app=\"http://schemas.android.com/apk/res-auto\"\n",
    "    xmlns:tools=\"http://schemas.android.com/tools\"\n",
    "    android:layout_width=\"match_parent\"\n",
    "    android:layout_height=\"match_parent\"\n",
    "    tools:context=\".MainActivity\">\n",
    "\n",
    "    <TextView\n",
    "        android:id=\"@+id/textview\"\n",
    "        android:layout_width=\"wrap_content\"\n",
    "        android:layout_height=\"wrap_content\"\n",
    "        android:text=\"TextView\"\n",
    "        android:textSize=\"36sp\"\n",
    "        app:layout_constraintEnd_toEndOf=\"parent\"\n",
    "        app:layout_constraintStart_toStartOf=\"parent\"\n",
    "        app:layout_constraintTop_toTopOf=\"parent\" />\n",
    "\n",
    "    <Button\n",
    "        android:id=\"@+id/button\"\n",
    "        android:layout_width=\"wrap_content\"\n",
    "        android:layout_height=\"wrap_content\"\n",
    "        android:text=\"Button\"\n",
    "        app:layout_constraintEnd_toEndOf=\"parent\"\n",
    "        app:layout_constraintStart_toStartOf=\"parent\"\n",
    "        app:layout_constraintTop_toBottomOf=\"@+id/textview\" />\n",
    "\n",
    "    <fragment\n",
    "        android:id=\"@+id/fragmentA\"\n",
    "        android:layout_width=\"match_parent\"\n",
    "        android:layout_height=\"0dp\"\n",
    "        android:layout_weight=\"1\"\n",
    "        android:name=\"pl.edu.uwr.pum.viewbindingkotlin.FragmentA\"\n",
    "        app:layout_constraintBottom_toBottomOf=\"parent\"\n",
    "        app:layout_constraintEnd_toEndOf=\"parent\"\n",
    "        app:layout_constraintStart_toStartOf=\"parent\"\n",
    "        app:layout_constraintTop_toBottomOf=\"@+id/button\" />\n",
    "\n",
    "</androidx.constraintlayout.widget.ConstraintLayout>\n",
    "```\n",
    "\n",
    "Layout fragmentu będzie analogiczny jak aktywności\n",
    "\n",
    "```xml\n",
    "<?xml version=\"1.0\" encoding=\"utf-8\"?>\n",
    "<LinearLayout xmlns:android=\"http://schemas.android.com/apk/res/android\"\n",
    "    xmlns:tools=\"http://schemas.android.com/tools\"\n",
    "    android:layout_width=\"match_parent\"\n",
    "    android:layout_height=\"match_parent\"\n",
    "    android:background=\"@color/teal_200\"\n",
    "    android:orientation=\"vertical\"\n",
    "    tools:context=\".FragmentA\">\n",
    "\n",
    "    <TextView\n",
    "        android:id=\"@+id/textviewFragment\"\n",
    "        android:layout_width=\"wrap_content\"\n",
    "        android:layout_height=\"wrap_content\"\n",
    "        android:layout_gravity=\"center_horizontal\"\n",
    "        android:text=\"TextView\"\n",
    "        android:textSize=\"36sp\" />\n",
    "\n",
    "    <Button\n",
    "        android:id=\"@+id/buttonFragment\"\n",
    "        android:layout_width=\"wrap_content\"\n",
    "        android:layout_height=\"wrap_content\"\n",
    "        android:layout_gravity=\"center_horizontal\"\n",
    "        android:text=\"Button\" />\n",
    "\n",
    "</LinearLayout>\n",
    "```\n",
    "\n",
    "Przejdźmy od fragmentu. W pierwszej kolejności tworzymy zmienną"
   ]
  },
  {
   "cell_type": "code",
   "execution_count": null,
   "id": "81a23910-769b-446e-bab4-15bf724b4ce7",
   "metadata": {},
   "outputs": [],
   "source": [
    "private FragmentABinding binding;"
   ]
  },
  {
   "cell_type": "markdown",
   "id": "ba96053e-cf56-4c15-aa8b-e5b9975ec7c1",
   "metadata": {},
   "source": [
    "Następnie w metodzie `onCreateView` wywołujemy metodę `inflate` i wracamy `binding.root`"
   ]
  },
  {
   "cell_type": "code",
   "execution_count": null,
   "id": "7ac8a4f9-0b9b-4256-be02-9ba3566dd843",
   "metadata": {},
   "outputs": [],
   "source": [
    "@Override\n",
    "public View onCreateView(@NonNull LayoutInflater inflater, ViewGroup container,\n",
    "                         Bundle savedInstanceState) {\n",
    "    binding = FragmentABinding.inflate(inflater, container, false);\n",
    "    View view = binding.getRoot();\n",
    "    return view;\n",
    "}"
   ]
  },
  {
   "cell_type": "markdown",
   "id": "fbe57729-9dbb-4731-8180-3526266c357d",
   "metadata": {},
   "source": [
    "W metodzie `onViewCreated` możemy, jak poprzednio, odnieść się do każdego pola zdefiniowanego w layoucie przez zmienną `binding`"
   ]
  },
  {
   "cell_type": "code",
   "execution_count": null,
   "id": "30f251a2-139a-4675-8a45-6ff21f68c81e",
   "metadata": {},
   "outputs": [],
   "source": [
    "@Override\n",
    "public void onViewCreated(@NonNull View view, @Nullable Bundle savedInstanceState) {\n",
    "    super.onViewCreated(view, savedInstanceState);\n",
    "    binding.textviewFragment.setText(\"HELLO\");\n",
    "    binding.buttonFragment.setOnClickListener(v -> {\n",
    "        binding.textviewFragment.setText(\"Click!!!\");\n",
    "    });\n",
    "}"
   ]
  },
  {
   "cell_type": "markdown",
   "id": "973486eb-6af1-4e6a-8ca9-1d87ff73c669",
   "metadata": {},
   "source": [
    "<img src=\"https://media0.giphy.com/media/DW3PvRzm00xfO0fFWb/giphy.gif?cid=790b761195bafa38a1eedb3351e827530475866fb2ec318b&rid=giphy.gif&ct=g\" width=\"150\" />"
   ]
  },
  {
   "cell_type": "code",
   "execution_count": null,
   "id": "2fe66b1a-6659-4f6b-b971-fe9518655005",
   "metadata": {},
   "outputs": [],
   "source": []
  }
 ],
 "metadata": {
  "kernelspec": {
   "display_name": "Java",
   "language": "java",
   "name": "java"
  },
  "language_info": {
   "codemirror_mode": "java",
   "file_extension": ".jshell",
   "mimetype": "text/x-java-source",
   "name": "Java",
   "pygments_lexer": "java",
   "version": "17+35-2724"
  }
 },
 "nbformat": 4,
 "nbformat_minor": 5
}
