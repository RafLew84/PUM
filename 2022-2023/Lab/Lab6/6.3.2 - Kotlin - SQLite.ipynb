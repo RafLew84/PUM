{
 "cells": [
  {
   "cell_type": "markdown",
   "id": "7f34836b-9039-427a-ac0f-b5ca5360698a",
   "metadata": {},
   "source": [
    "## 6.3 SQLite - podstawy"
   ]
  },
  {
   "cell_type": "markdown",
   "id": "f993dfa7-52c2-4824-b710-e214447dd993",
   "metadata": {},
   "source": [
    "Napiszmy przykładową aplikację wykorzystującą bazę `SQLite` - w tym przykładzie nie będziemy wykonywać operacji na bazie asynchronicznie. Zaimplementujemy podstawowe operacje CRUD. Aplikacja będzie wykorzystywać pojedynczą aktywność."
   ]
  },
  {
   "cell_type": "markdown",
   "id": "39684817-e452-468b-92a5-caffa7cc52a4",
   "metadata": {},
   "source": [
    "<table><tr><td><img src=\"https://media3.giphy.com/media/FIcgLsiTwUhfuSjM8X/giphy.gif\" width=\"200\" /></td><td><img src=\"https://media2.giphy.com/media/04Ir1MiMp02l2U1GO6/giphy.gif\" width=\"200\" /></td></tr></table>"
   ]
  },
  {
   "cell_type": "markdown",
   "id": "0127f745-2339-4682-984a-94845cc282b3",
   "metadata": {},
   "source": [
    "### **Podstawy aplikacji**"
   ]
  },
  {
   "cell_type": "markdown",
   "id": "2fb68180-c0f7-4726-b1ee-6c1f787b71a1",
   "metadata": {},
   "source": [
    "Rozpocznijmy od dodania `ViewBinding` - do pliku `build.gradle(Module)` dodaję\n",
    "\n",
    "```kotlin\n",
    "android {\n",
    "    ...\n",
    "    buildFeatures {\n",
    "        viewBinding = true\n",
    "    }\n",
    "}\n",
    "```\n",
    "\n",
    "Następnie napiszmy layout głównej aktywności w postaci prostego formularza.\n",
    "\n",
    "```xml\n",
    "<?xml version=\"1.0\" encoding=\"utf-8\"?>\n",
    "<LinearLayout xmlns:android=\"http://schemas.android.com/apk/res/android\"\n",
    "    xmlns:app=\"http://schemas.android.com/apk/res-auto\"\n",
    "    xmlns:tools=\"http://schemas.android.com/tools\"\n",
    "    android:layout_width=\"match_parent\"\n",
    "    android:layout_height=\"match_parent\"\n",
    "    android:orientation=\"vertical\"\n",
    "    tools:context=\".MainActivity\">\n",
    "\n",
    "    <LinearLayout\n",
    "        android:layout_width=\"match_parent\"\n",
    "        android:layout_height=\"wrap_content\"\n",
    "        android:gravity=\"center\"\n",
    "        android:orientation=\"horizontal\">\n",
    "\n",
    "        <TextView\n",
    "            android:layout_width=\"0dp\"\n",
    "            android:layout_height=\"wrap_content\"\n",
    "            android:layout_weight=\"0.25\"\n",
    "            android:text=\"Name\"\n",
    "            android:textSize=\"18sp\"/>\n",
    "\n",
    "        <EditText\n",
    "            android:id=\"@+id/edit_text_name\"\n",
    "            android:layout_width=\"0dp\"\n",
    "            android:layout_height=\"wrap_content\"\n",
    "            android:layout_weight=\"0.75\"\n",
    "            android:hint=\"Enter Name\" />\n",
    "\n",
    "    </LinearLayout>\n",
    "\n",
    "    <LinearLayout\n",
    "        android:layout_width=\"match_parent\"\n",
    "        android:layout_height=\"wrap_content\"\n",
    "        android:gravity=\"center\"\n",
    "        android:orientation=\"horizontal\">\n",
    "\n",
    "        <TextView\n",
    "            android:layout_width=\"0dp\"\n",
    "            android:layout_height=\"wrap_content\"\n",
    "            android:layout_weight=\"0.25\"\n",
    "            android:text=\"Index Number\"\n",
    "            android:textSize=\"18sp\"/>\n",
    "\n",
    "        <EditText\n",
    "            android:id=\"@+id/edit_text_index\"\n",
    "            android:layout_width=\"0dp\"\n",
    "            android:layout_height=\"wrap_content\"\n",
    "            android:layout_weight=\"0.75\"\n",
    "            android:hint=\"Enter Index Number\"\n",
    "            android:inputType=\"number\"\n",
    "            android:importantForAutofill=\"no\" />\n",
    "\n",
    "    </LinearLayout>\n",
    "\n",
    "    <Button\n",
    "        android:id=\"@+id/add_button\"\n",
    "        android:layout_width=\"match_parent\"\n",
    "        android:layout_height=\"wrap_content\"\n",
    "        android:layout_margin=\"10dp\"\n",
    "        android:text=\"ADD STUDENT\"/>\n",
    "\n",
    "    <androidx.recyclerview.widget.RecyclerView\n",
    "        android:id=\"@+id/dataBase_recycler_view\"\n",
    "        android:layout_width=\"match_parent\"\n",
    "        android:layout_height=\"match_parent\"/>\n",
    "</LinearLayout>\n",
    "```\n",
    "\n",
    "Będziemy wykorzystywać `RecyclerView` do wyświetlania danych z bazy, więc dodajmy layout dla pojedynczego elementu\n",
    "\n",
    "```xml\n",
    "<?xml version=\"1.0\" encoding=\"utf-8\"?>\n",
    "<LinearLayout xmlns:android=\"http://schemas.android.com/apk/res/android\"\n",
    "    xmlns:tools=\"http://schemas.android.com/tools\"\n",
    "    android:id=\"@+id/linear_layout_main\"\n",
    "    android:layout_width=\"match_parent\"\n",
    "    android:layout_height=\"wrap_content\"\n",
    "    android:gravity=\"center_vertical\"\n",
    "    android:orientation=\"horizontal\"\n",
    "    android:padding=\"10dp\">\n",
    "\n",
    "    <TextView\n",
    "        android:id=\"@+id/text_view_id\"\n",
    "        android:layout_width=\"wrap_content\"\n",
    "        android:layout_height=\"wrap_content\"\n",
    "        android:textColor=\"@android:color/black\"\n",
    "        android:textSize=\"16sp\"\n",
    "        android:padding=\"10dp\"\n",
    "        tools:text=\"1\" />\n",
    "\n",
    "    <TextView\n",
    "        android:id=\"@+id/text_view_name\"\n",
    "        android:layout_width=\"wrap_content\"\n",
    "        android:layout_height=\"wrap_content\"\n",
    "        android:textColor=\"@android:color/black\"\n",
    "        android:textSize=\"16sp\"\n",
    "        tools:text=\"Name\" />\n",
    "\n",
    "    <TextView\n",
    "        android:layout_width=\"wrap_content\"\n",
    "        android:layout_height=\"wrap_content\"\n",
    "        android:layout_marginStart=\"5dp\"\n",
    "        android:layout_marginEnd=\"5dp\"\n",
    "        android:textSize=\"18sp\"\n",
    "        android:textStyle=\"bold\"\n",
    "        tools:text=\":\" />\n",
    "\n",
    "    <TextView\n",
    "        android:id=\"@+id/text_view_index\"\n",
    "        android:layout_width=\"0dp\"\n",
    "        android:layout_height=\"wrap_content\"\n",
    "        android:layout_weight=\"1\"\n",
    "        android:textColor=\"@android:color/black\"\n",
    "        android:textSize=\"16sp\"\n",
    "        tools:text=\"Index\" />\n",
    "\n",
    "    <ImageView\n",
    "        android:id=\"@+id/image_view_edit\"\n",
    "        android:layout_width=\"50dp\"\n",
    "        android:layout_height=\"50dp\"\n",
    "        android:contentDescription=\"image\"\n",
    "        android:foreground=\"?attr/selectableItemBackgroundBorderless\"\n",
    "        android:scaleType=\"center\"\n",
    "        android:src=\"@drawable/ic_action_edit_foreground\" />\n",
    "\n",
    "    <ImageView\n",
    "        android:id=\"@+id/image_view_delete\"\n",
    "        android:layout_width=\"50dp\"\n",
    "        android:layout_height=\"50dp\"\n",
    "        android:contentDescription=\"image\"\n",
    "        android:foreground=\"?attr/selectableItemBackgroundBorderless\"\n",
    "        android:scaleType=\"center\"\n",
    "        android:src=\"@drawable/ic_action_delete_foreground\" />\n",
    "</LinearLayout>\n",
    "```\n",
    "\n",
    "Przy edycji będziemy wykorzystywać `Dialog`, więc również tutaj stwórzmy layout\n",
    "\n",
    "```xml\n",
    "<?xml version=\"1.0\" encoding=\"utf-8\"?>\n",
    "<LinearLayout xmlns:android=\"http://schemas.android.com/apk/res/android\"\n",
    "    android:layout_width=\"300dp\"\n",
    "    android:layout_height=\"wrap_content\"\n",
    "    xmlns:tools=\"http://schemas.android.com/tools\"\n",
    "    android:orientation=\"vertical\"\n",
    "    android:padding=\"10dp\"\n",
    "    tools:context=\".MainActivity\">\n",
    "\n",
    "    <TextView\n",
    "        android:layout_width=\"wrap_content\"\n",
    "        android:layout_height=\"wrap_content\"\n",
    "        android:text=\"Update Student Data\"\n",
    "        android:textColor=\"@android:color/black\"\n",
    "        android:textSize=\"18sp\"\n",
    "        android:textStyle=\"bold\" />\n",
    "\n",
    "    <LinearLayout\n",
    "        android:layout_width=\"match_parent\"\n",
    "        android:layout_height=\"wrap_content\"\n",
    "        android:gravity=\"center\"\n",
    "        android:orientation=\"horizontal\">\n",
    "\n",
    "        <TextView\n",
    "            android:layout_width=\"0dp\"\n",
    "            android:layout_height=\"wrap_content\"\n",
    "            android:layout_weight=\"0.25\"\n",
    "            android:text=\"Name\"\n",
    "            android:textSize=\"18sp\" />\n",
    "\n",
    "        <EditText\n",
    "            android:id=\"@+id/edit_text_name_update\"\n",
    "            android:layout_width=\"0dp\"\n",
    "            android:layout_height=\"wrap_content\"\n",
    "            android:layout_weight=\"0.75\"\n",
    "            android:hint=\"Enter Name\" />\n",
    "    </LinearLayout>\n",
    "\n",
    "    <LinearLayout\n",
    "        android:layout_width=\"match_parent\"\n",
    "        android:layout_height=\"wrap_content\"\n",
    "        android:gravity=\"center\"\n",
    "        android:orientation=\"horizontal\">\n",
    "\n",
    "        <TextView\n",
    "            android:layout_width=\"0dp\"\n",
    "            android:layout_height=\"wrap_content\"\n",
    "            android:layout_weight=\"0.25\"\n",
    "            android:text=\"Index\"\n",
    "            android:textSize=\"18sp\" />\n",
    "\n",
    "        <EditText\n",
    "            android:id=\"@+id/edit_text_index_update\"\n",
    "            android:layout_width=\"0dp\"\n",
    "            android:layout_height=\"wrap_content\"\n",
    "            android:layout_weight=\"0.75\"\n",
    "            android:inputType=\"textEmailAddress\"\n",
    "            android:hint=\"Enter Index Number\" />\n",
    "    </LinearLayout>\n",
    "\n",
    "    <LinearLayout\n",
    "        android:layout_width=\"match_parent\"\n",
    "        android:layout_height=\"wrap_content\"\n",
    "        android:layout_marginTop=\"10dp\"\n",
    "        android:gravity=\"end\"\n",
    "        android:orientation=\"horizontal\">\n",
    "\n",
    "        <Button\n",
    "            android:id=\"@+id/button_update\"\n",
    "            android:layout_width=\"wrap_content\"\n",
    "            android:layout_height=\"wrap_content\"\n",
    "            android:gravity=\"center\"\n",
    "            android:padding=\"10dp\"\n",
    "            android:text=\"UPDATE\"\n",
    "            android:textStyle=\"bold\" />\n",
    "\n",
    "        <Button\n",
    "            android:id=\"@+id/button_cancel\"\n",
    "            android:layout_width=\"wrap_content\"\n",
    "            android:layout_height=\"wrap_content\"\n",
    "            android:gravity=\"center\"\n",
    "            android:padding=\"10dp\"\n",
    "            android:text=\"CANCEL\"\n",
    "            android:textStyle=\"bold\" />\n",
    "\n",
    "    </LinearLayout>\n",
    "</LinearLayout>\n",
    "```\n",
    "\n",
    "Dodajmy również model danych"
   ]
  },
  {
   "cell_type": "code",
   "execution_count": null,
   "id": "db5a9b26-4d1c-434a-b80f-785c7e98495f",
   "metadata": {},
   "outputs": [],
   "source": [
    "data class Student(val name: String, val index: Int) {\n",
    "    var id: Int = 0\n",
    "\n",
    "    constructor(id: Int, name: String, index: Int) : this(name, index) {\n",
    "        this.id = id\n",
    "    }\n",
    "}"
   ]
  },
  {
   "cell_type": "markdown",
   "id": "593f7aa1-2ed9-4b5c-9b7c-e2ce6da8b237",
   "metadata": {},
   "source": [
    "### **DBHelper**"
   ]
  },
  {
   "cell_type": "markdown",
   "id": "fbb7b194-6b39-4079-8b02-2ccf1a256719",
   "metadata": {},
   "source": [
    "Przejdźmy do utworzenia bazy, zrobimy to w klasie o nazwie (standardowo) `dbHelper`, będzie ona rozszerzać klasę `SQLiteOpenHelper` - przyjmuje ona w konstruktorze szereg parametrów.\n",
    "- `context`\n",
    "- `name: String` - nazwę bazy\n",
    "- `SQLiteDatabase.CursorFactory` - wymagana gdy wykorzystujemy podklasy klasy `Cursor` do wykonywania zapytań - w tym przykładzie nie będziemy z niego korzystać, więc podajemy `null`\n",
    "- `version: Int` - wersja bazy\n",
    "\n",
    "Podstawowe informacje o bazie będziemy przechowywać w `companion object`"
   ]
  },
  {
   "cell_type": "code",
   "execution_count": null,
   "id": "c47ad5b6-4697-4def-ab0c-20d3435ef09f",
   "metadata": {},
   "outputs": [],
   "source": [
    "class DBHandler(context: Context) : SQLiteOpenHelper(\n",
    "    context, DATABASE_NAME, null, DATABASE_VERSION\n",
    ") {\n",
    "    private companion object{\n",
    "        private const val DATABASE_VERSION = 1\n",
    "        private const val DATABASE_NAME = \"studentsDBKotlin.db\"\n",
    "        private const val TABLE_STUDENTS = \"StudentTable\"\n",
    "\n",
    "        private const val COLUMN_ID = \"_id\"\n",
    "        private const val COLUMN_NAME = \"name\"\n",
    "        private const val COLUMN_INDEX = \"indexNumber\"\n",
    "    }\n",
    "\n",
    "    override fun onCreate(db: SQLiteDatabase?) {\n",
    "        TODO(\"Not yet implemented\")\n",
    "    }\n",
    "\n",
    "    override fun onUpgrade(db: SQLiteDatabase?, oldVersion: Int, newVersion: Int) {\n",
    "        TODO(\"Not yet implemented\")\n",
    "    }\n",
    "}"
   ]
  },
  {
   "cell_type": "markdown",
   "id": "6b7657d9-4a35-4d43-a4fd-5e714379c138",
   "metadata": {},
   "source": [
    "Musimy zaimplementować dwie metody\n",
    "- `onCreate` - wywoływana gdy plik o zadanej nazwie (`BADABASE_NAME`) nie istnieje\n",
    "- `onUpgrade` - wywoływana gdy schemat bazy uległ zmianie\n",
    "\n",
    "Rozpocznijmy od metody `onCreate`. W parametrze metody dostajemy dostęp do `SQLiteDatabase`, na tej zmiennej wykonujemy instrukcje wywołując metodę `execSQL`"
   ]
  },
  {
   "cell_type": "code",
   "execution_count": null,
   "id": "0c06ddec-f3c4-4255-8977-ba958868d6a1",
   "metadata": {},
   "outputs": [],
   "source": [
    "override fun onCreate(db: SQLiteDatabase?) {\n",
    "    val CREATE_STUDENTS_TABLE =\n",
    "        \"CREATE TABLE $TABLE_STUDENTS(\" +\n",
    "                \"$COLUMN_ID INTEGER PRIMARY KEY AUTOINCREMENT NOT NULL,\" +\n",
    "                \"$COLUMN_NAME TEXT,\" +\n",
    "                \"$COLUMN_INDEX INTEGER)\"\n",
    "    db?.execSQL(CREATE_STUDENTS_TABLE)\n",
    "}"
   ]
  },
  {
   "cell_type": "markdown",
   "id": "cd519390-1c73-40c3-bf68-39a60b45126b",
   "metadata": {},
   "source": [
    "W metodzie `onUpgrade` usuniemy bazę i wywołamy metodę `onCreate`"
   ]
  },
  {
   "cell_type": "code",
   "execution_count": null,
   "id": "10f2feb2-25e4-4941-a841-1d7a02343d93",
   "metadata": {},
   "outputs": [],
   "source": [
    "override fun onUpgrade(db: SQLiteDatabase?, oldVersion: Int, newVersion: Int) {\n",
    "    db?.execSQL(\"DROP TABLE IF EXISTS $TABLE_STUDENTS\")\n",
    "    onCreate(db)\n",
    "}"
   ]
  },
  {
   "cell_type": "markdown",
   "id": "5864c128-325c-41f2-9ed4-c68519368374",
   "metadata": {},
   "source": [
    "Zaimplementujmy kilka metod umożliwiających przeprowadzenie podstawowych operacji na bazie."
   ]
  },
  {
   "cell_type": "markdown",
   "id": "b2ad412b-14db-45d6-b647-2ca5e98e5d78",
   "metadata": {},
   "source": [
    "#### **ADD**"
   ]
  },
  {
   "cell_type": "markdown",
   "id": "c9b606fb-47b7-4454-9bf6-8e38b032215a",
   "metadata": {},
   "source": [
    "Zacznijmy od metody `addStudent`"
   ]
  },
  {
   "cell_type": "code",
   "execution_count": null,
   "id": "6fcdf33c-5339-4a63-b081-7300082894bf",
   "metadata": {},
   "outputs": [],
   "source": [
    "fun addStudent(student: Student){}"
   ]
  },
  {
   "cell_type": "markdown",
   "id": "db13d12e-48eb-49e7-87a5-8dac10b827a0",
   "metadata": {},
   "source": [
    "W pierwszej kolejności musimy uzyskać dostęp do bazy w celu zapisu - robimy to wywołując metodę `getWritableDatabase`"
   ]
  },
  {
   "cell_type": "code",
   "execution_count": null,
   "id": "26cf2ba9-dcb9-4340-b687-49046aa1d92f",
   "metadata": {},
   "outputs": [],
   "source": [
    "val db = this.writableDatabase"
   ]
  },
  {
   "cell_type": "markdown",
   "id": "f22b3326-5bc6-4782-be50-3aaf3782e7cc",
   "metadata": {},
   "source": [
    "Następnie przygotujmy dane do dodaniam w tym celu wykorzystujemy `ContentValues` - tworzy zestaw wartości dla `ContentResolver`"
   ]
  },
  {
   "cell_type": "code",
   "execution_count": null,
   "id": "48d2a44e-9304-43b4-89c2-7e37d37e6628",
   "metadata": {},
   "outputs": [],
   "source": [
    "val contentValues = ContentValues()\n",
    "contentValues.put(COLUMN_NAME, student.name)\n",
    "contentValues.put(COLUMN_INDEX, student.index)"
   ]
  },
  {
   "cell_type": "markdown",
   "id": "e9e376d5-9204-48af-8310-4ae9909517e4",
   "metadata": {},
   "source": [
    "Następnie wykonujemy metodę `insert` na bazie, przyjmuje ona trzy argumenty\n",
    "- nazwę tabeli do której wykonana jest operacja\n",
    "- `nullColumnHack` - umożliwia wstawienie pustej wartości\n",
    "- `ContentValues` - dane do wstawienia"
   ]
  },
  {
   "cell_type": "code",
   "execution_count": null,
   "id": "2307fe55-c48d-4e40-a6f6-8f81ebafd358",
   "metadata": {},
   "outputs": [],
   "source": [
    "db.insert(TABLE_STUDENTS, null, contentValues)"
   ]
  },
  {
   "cell_type": "markdown",
   "id": "300ec571-1995-4507-a40b-a34699a08ce3",
   "metadata": {},
   "source": [
    "Na koniec zamykamy dostęp do bazy wywołując metodę `close`"
   ]
  },
  {
   "cell_type": "code",
   "execution_count": null,
   "id": "467df89b-c0ae-4d95-a236-fd7b6f45ca58",
   "metadata": {},
   "outputs": [],
   "source": [
    "db.close()"
   ]
  },
  {
   "cell_type": "markdown",
   "id": "af338965-7217-4bba-8ca3-7b05e69c6f11",
   "metadata": {},
   "source": [
    "Pełna metoda `addStudent`"
   ]
  },
  {
   "cell_type": "code",
   "execution_count": null,
   "id": "75741c19-aca4-4452-8671-3f0ae874c423",
   "metadata": {},
   "outputs": [],
   "source": [
    "fun addStudent(student: Student){\n",
    "    val db = this.writableDatabase\n",
    "\n",
    "    val contentValues = ContentValues()\n",
    "    contentValues.put(COLUMN_NAME, student.name)\n",
    "    contentValues.put(COLUMN_INDEX, student.index)\n",
    "\n",
    "    db.insert(TABLE_STUDENTS, null, contentValues)\n",
    "    db.close()\n",
    "}"
   ]
  },
  {
   "cell_type": "markdown",
   "id": "e253f6d9-fcf9-44a2-973c-3f87ae597f1c",
   "metadata": {},
   "source": [
    "#### **DELETE**"
   ]
  },
  {
   "cell_type": "markdown",
   "id": "a1aa3b8d-0d55-4b1f-b339-673190a62888",
   "metadata": {},
   "source": [
    "Przejdźmy do metody umożliwiającej usunięcie wpisu. Rozpoczynamy jak poprzednio od uzyskania dostępu do bazy w celu zapisu."
   ]
  },
  {
   "cell_type": "code",
   "execution_count": null,
   "id": "1a86b1e4-588e-4316-a1ce-b90ad923d479",
   "metadata": {},
   "outputs": [],
   "source": [
    "fun deleteStudent(student: Student){\n",
    "    val db = this.writableDatabase"
   ]
  },
  {
   "cell_type": "markdown",
   "id": "491dde7e-b906-485b-8369-954b0d11a5bb",
   "metadata": {},
   "source": [
    "Następnie wywołujemy metodę `delete` na bazie - przyjmuje ona kilka argumentów\n",
    "- nazwę tabeli z której chcemy usunąć wpis\n",
    "- `whereClause` - klauzula warunkowa - tutaj chcemy usunąć element o zadanym `id`, więc podajemy \n",
    "```kotlin\n",
    "`COLUMN_ID + \"=\" + student._id`\n",
    "```\n",
    "- `whereArgs` - argumenty klauzuli `where`"
   ]
  },
  {
   "cell_type": "code",
   "execution_count": null,
   "id": "0143577d-73bd-4432-8385-fd3c3ada095a",
   "metadata": {},
   "outputs": [],
   "source": [
    "db.delete(\n",
    "    TABLE_STUDENTS,\n",
    "    \"$COLUMN_ID=${student.id}\",\n",
    "    null)"
   ]
  },
  {
   "cell_type": "markdown",
   "id": "86b6e755-9ffc-4c50-a8c1-08126fe69d6d",
   "metadata": {},
   "source": [
    "Ostatnim krokiem jest zamknięcie dostępu do bazy"
   ]
  },
  {
   "cell_type": "code",
   "execution_count": null,
   "id": "9691122e-436a-4852-a481-078668a3024f",
   "metadata": {},
   "outputs": [],
   "source": [
    "db.close()"
   ]
  },
  {
   "cell_type": "markdown",
   "id": "84908900-b881-4626-9813-78d480ec3b7b",
   "metadata": {},
   "source": [
    "#### **UPDATE**"
   ]
  },
  {
   "cell_type": "markdown",
   "id": "369990c4-253c-48ec-abc8-e228b2bd1f7a",
   "metadata": {},
   "source": [
    "Metoda aktualizacji wygląda podobnie jak poprzednie. `update` przyjmuje trzy parametry\n",
    "- `ContentValues`\n",
    "- `whereClause`\n",
    "- `whereArgs`"
   ]
  },
  {
   "cell_type": "code",
   "execution_count": null,
   "id": "bb4df8a2-525e-4a16-be80-676fa604b631",
   "metadata": {},
   "outputs": [],
   "source": [
    "fun updateStudent (id: Int, name: String, index: Int){\n",
    "    val db = this.writableDatabase\n",
    "    \n",
    "    val contentValues = ContentValues()\n",
    "    contentValues.put(COLUMN_NAME, name)\n",
    "    contentValues.put(COLUMN_INDEX, index)\n",
    "\n",
    "    db.update(TABLE_STUDENTS,\n",
    "        contentValues,\n",
    "        \"$COLUMN_ID=$id\",\n",
    "        null)\n",
    "\n",
    "    db.close()\n",
    "}"
   ]
  },
  {
   "cell_type": "markdown",
   "id": "b23d4fdb-c5eb-4283-b14e-5d07234c8c83",
   "metadata": {},
   "source": [
    "#### **GET**"
   ]
  },
  {
   "cell_type": "markdown",
   "id": "a8487fb0-0e34-4c29-bc56-d4148f9dfd80",
   "metadata": {},
   "source": [
    "Pozostaje metoda zwracająca listę wszystkich elementów w bazie."
   ]
  },
  {
   "cell_type": "code",
   "execution_count": null,
   "id": "afb0b755-8ea2-40f6-8b2c-522cc624c1a3",
   "metadata": {},
   "outputs": [],
   "source": [
    "fun getStudents(): List<Student> {}"
   ]
  },
  {
   "cell_type": "markdown",
   "id": "d90db62f-255f-4664-9f12-0c3c1e8339ee",
   "metadata": {},
   "source": [
    "W metodzie stworzymy mutowalną listę do której dodamy wszystkie elementy z bazy."
   ]
  },
  {
   "cell_type": "code",
   "execution_count": null,
   "id": "a68623eb-2b6a-4721-843b-40856c29cf40",
   "metadata": {},
   "outputs": [],
   "source": [
    "val students: MutableList<Student> = ArrayList()"
   ]
  },
  {
   "cell_type": "markdown",
   "id": "b94ec961-3876-477d-a0ca-9a85d5f581a2",
   "metadata": {},
   "source": [
    "Następnie otworzymy bazę tylko do odczytu"
   ]
  },
  {
   "cell_type": "code",
   "execution_count": null,
   "id": "c1d2f3b0-ba93-430b-a961-d2562ec53bf4",
   "metadata": {},
   "outputs": [],
   "source": [
    "val db = this.readableDatabase"
   ]
  },
  {
   "cell_type": "markdown",
   "id": "41e6a75a-2fdd-4f62-9799-bb9570056ea9",
   "metadata": {},
   "source": [
    "Wynik zapytania sql zwracamy do obiektu typu `Cursor`"
   ]
  },
  {
   "cell_type": "code",
   "execution_count": null,
   "id": "389e3e5c-429b-4afa-8333-f883d0b84a99",
   "metadata": {},
   "outputs": [],
   "source": [
    "val cursor = db.rawQuery(\"SELECT * FROM $TABLE_STUDENTS\", null)"
   ]
  },
  {
   "cell_type": "markdown",
   "id": "abe13d17-fa05-4a5c-9284-be874bc12db5",
   "metadata": {},
   "source": [
    "Metoda `rawQuery` przyjmuje dwa argumenty\n",
    "- zapytanie jako `String`\n",
    "- `selectionArgs` - tablica wszystkich argumentów"
   ]
  },
  {
   "cell_type": "markdown",
   "id": "46eb2a82-b7ab-4984-9786-a449cc91cf81",
   "metadata": {},
   "source": [
    "Następnie sprawdzamy czy `Cursor` nie jest pusty - wykonujemy to wywołując metodę `moveToFirst`. Przesuwa ona `Cursor` do pierwszego rzędu, zwraca `false` gdy `Cursor` jest pusty"
   ]
  },
  {
   "cell_type": "code",
   "execution_count": null,
   "id": "6925e2c2-c0a9-4f0a-b082-af44cbbb5276",
   "metadata": {},
   "outputs": [],
   "source": [
    "if (cursor.moveToFirst())"
   ]
  },
  {
   "cell_type": "markdown",
   "id": "03a00077-860a-4feb-aff3-b2021a757c43",
   "metadata": {},
   "source": [
    "W warunku `if` odczytujemy wartości i dodajemy je na listę `students` dopóki `Cursor` posiada wartości."
   ]
  },
  {
   "cell_type": "code",
   "execution_count": null,
   "id": "280564c5-4b53-47bf-af8b-f732dbb6d470",
   "metadata": {},
   "outputs": [],
   "source": [
    "if (cursor.moveToFirst()) {\n",
    "    do {\n",
    "        students.add(Student(\n",
    "                cursor.getInt(0), \n",
    "                cursor.getString(1), \n",
    "                cursor.getInt(2)))\n",
    "    } while (cursor.moveToNext())\n",
    "}"
   ]
  },
  {
   "cell_type": "markdown",
   "id": "f4ffbe72-075c-4d44-a44b-6b9fbeccda28",
   "metadata": {},
   "source": [
    "W bazie mamy trzy kolumny (`id: Int`, `name: String`, `index: Int`), z `Cursor` wyciągamy trzy wartości (**ważna kolejność**) i używamy ich jako argumenty konstruktora klasy `Student`."
   ]
  },
  {
   "cell_type": "markdown",
   "id": "ab5fb2b5-fc2c-47aa-9498-2cd777846602",
   "metadata": {},
   "source": [
    "Ostatnim elementem jest zamknięcie dostępu do bazy oraz cursora"
   ]
  },
  {
   "cell_type": "code",
   "execution_count": null,
   "id": "e580de33-dce6-4113-b6d8-d5a26c40845b",
   "metadata": {},
   "outputs": [],
   "source": [
    "db.close()\n",
    "cursor.close()"
   ]
  },
  {
   "cell_type": "markdown",
   "id": "b06c1e29-ac59-4901-a979-e923ae7f4eb2",
   "metadata": {},
   "source": [
    "Pełny kod metody"
   ]
  },
  {
   "cell_type": "code",
   "execution_count": null,
   "id": "461ab624-e7ba-4958-9c13-8c0ae11c3817",
   "metadata": {},
   "outputs": [],
   "source": [
    "fun getStudents(): List<Student> {\n",
    "    val students: MutableList<Student> = ArrayList()\n",
    "\n",
    "    val db = this.readableDatabase\n",
    "\n",
    "    val cursor = db.rawQuery(\"SELECT * FROM $TABLE_STUDENTS\", null)\n",
    "\n",
    "    if (cursor.moveToFirst()) {\n",
    "        do {\n",
    "            students.add(Student(\n",
    "                    cursor.getInt(0),\n",
    "                    cursor.getString(1),\n",
    "                    cursor.getInt(2)))\n",
    "        } while (cursor.moveToNext())\n",
    "    }\n",
    "\n",
    "    db.close()\n",
    "    cursor.close()\n",
    "    return students\n",
    "}"
   ]
  },
  {
   "cell_type": "markdown",
   "id": "1ebe0bcc-ad3c-4816-ba68-ef16e9ab17b7",
   "metadata": {},
   "source": [
    "### **Adapter**"
   ]
  },
  {
   "cell_type": "markdown",
   "id": "fd0a8ae5-75c0-4c10-82e5-91b90a85260e",
   "metadata": {},
   "source": [
    "Przejdźmy do `StudentAdapter`, w konstruktorze przekażemy `context` oraz `DBHandler`"
   ]
  },
  {
   "cell_type": "code",
   "execution_count": null,
   "id": "e33f7624-47c0-492d-ad15-92c8a56ca60b",
   "metadata": {},
   "outputs": [],
   "source": [
    "class StudentAdapter(private val dbHandler: DBHandler, private val context: Context)"
   ]
  },
  {
   "cell_type": "markdown",
   "id": "0227e51d-9c8b-4ba0-aa74-806234ed367f",
   "metadata": {},
   "source": [
    "W metodzie `onCreateViewHolder` wykorzystamy `ViewBinding`"
   ]
  },
  {
   "cell_type": "code",
   "execution_count": null,
   "id": "5dbbb355-1f36-493d-96d7-12be467ac70a",
   "metadata": {},
   "outputs": [],
   "source": [
    "override fun onCreateViewHolder(\n",
    "    parent: ViewGroup,\n",
    "    viewType: Int\n",
    "): ViewHolder {\n",
    "    val itemBinding = ItemRowBinding.inflate(\n",
    "        LayoutInflater.from(parent.context), parent, false)\n",
    "    return ViewHolder(itemBinding)\n",
    "}"
   ]
  },
  {
   "cell_type": "markdown",
   "id": "8b194741-e2af-4656-9057-cbd7bd5e1faf",
   "metadata": {},
   "source": [
    "W metodzie `onBindViewHolder` wywołujemy funkcję `bind` klasy `ViewHolder`"
   ]
  },
  {
   "cell_type": "code",
   "execution_count": null,
   "id": "c387eb8d-cde8-41fa-a82c-66485f182e7d",
   "metadata": {},
   "outputs": [],
   "source": [
    "override fun onBindViewHolder(holder: ViewHolder, position: Int) {\n",
    "    val item = dbHandler.getStudents()[position]\n",
    "    holder.bind(item)\n",
    "}"
   ]
  },
  {
   "cell_type": "markdown",
   "id": "d5293676-598a-4d21-a6c4-f48ee52b3176",
   "metadata": {},
   "source": [
    "Metoda `getItemCount` zawiera rozmiar całej bazy"
   ]
  },
  {
   "cell_type": "code",
   "execution_count": null,
   "id": "b737faf0-6d83-45b5-a968-134fed32bea0",
   "metadata": {},
   "outputs": [],
   "source": [
    "override fun getItemCount() = dbHandler.getStudents().size"
   ]
  },
  {
   "cell_type": "markdown",
   "id": "80aae022-7e13-4f47-88f8-10592e63d3df",
   "metadata": {},
   "source": [
    "Przejdźmy do klasy `ViewHolder`"
   ]
  },
  {
   "cell_type": "code",
   "execution_count": null,
   "id": "7dff3604-cac5-4244-a477-7135fb3d24f7",
   "metadata": {},
   "outputs": [],
   "source": [
    "class StudentAdapter(private val dbHandler: DBHandler, private val context: Context) :\n",
    "    RecyclerView.Adapter<StudentAdapter.ViewHolder>() {\n",
    "\n",
    "    inner class ViewHolder(private val itemBinding: ItemRowBinding) :\n",
    "        RecyclerView.ViewHolder(itemBinding.root) {\n",
    "        }\n",
    "}"
   ]
  },
  {
   "cell_type": "markdown",
   "id": "ad7da781-03ec-4cc2-bb68-08e832dcae0b",
   "metadata": {},
   "source": [
    "W metodzie `bind` w epirwszej kolejności ustawiamy pola `TextView`"
   ]
  },
  {
   "cell_type": "code",
   "execution_count": null,
   "id": "d2dcbfc0-01ef-4432-a5f4-560040c0f22c",
   "metadata": {},
   "outputs": [],
   "source": [
    "fun bind(item: Student) {\n",
    "    itemBinding.textViewName.text = item.name\n",
    "    itemBinding.textViewIndex.text = item.index.toString()\n",
    "    itemBinding.textViewId.text = item.id.toString()\n",
    "}"
   ]
  },
  {
   "cell_type": "markdown",
   "id": "831664f4-f5da-4e21-ab27-47c0f63e87ba",
   "metadata": {},
   "source": [
    "Następnie obsłużmy metodę `onClick` dla `ImageView` odpowiadającego za usuwanie elementów"
   ]
  },
  {
   "cell_type": "code",
   "execution_count": null,
   "id": "a6226e4f-e0e4-49d1-b043-a732e8b56008",
   "metadata": {},
   "outputs": [],
   "source": [
    "itemBinding.imageViewDelete.setOnClickListener {\n",
    "    dbHandler.deleteStudent(item)\n",
    "    notifyItemRemoved(adapterPosition)\n",
    "}"
   ]
  },
  {
   "cell_type": "markdown",
   "id": "4ea63ee9-499b-419e-96bc-ffeb92e7085a",
   "metadata": {},
   "source": [
    "Następnie obsłużymy zdarzenie `onClick` pola `ImgaView` odpowiedzialnego za aktualizację wpisu, wywołamy w niej metodę `setupDialog` którą następnie zaimplementujemy"
   ]
  },
  {
   "cell_type": "code",
   "execution_count": null,
   "id": "438d75cf-8d1f-4837-99d8-d0004d82aa16",
   "metadata": {},
   "outputs": [],
   "source": [
    "itemBinding.imageViewEdit.setOnClickListener {setupDialog(item) }"
   ]
  },
  {
   "cell_type": "markdown",
   "id": "090b646e-f68d-48de-be89-ebff79515fd3",
   "metadata": {},
   "source": [
    "Pełna metoda metoda `bind`"
   ]
  },
  {
   "cell_type": "code",
   "execution_count": null,
   "id": "d311402e-a78b-4650-8b38-53b7bff0c676",
   "metadata": {},
   "outputs": [],
   "source": [
    "fun bind(item: Student) {\n",
    "    itemBinding.textViewName.text = item.name\n",
    "    itemBinding.textViewIndex.text = item.index.toString()\n",
    "    itemBinding.textViewId.text = item.id.toString()\n",
    "\n",
    "    itemBinding.imageViewDelete.setOnClickListener {\n",
    "        dbHandler.deleteStudent(item)\n",
    "        notifyItemRemoved(adapterPosition)\n",
    "    }\n",
    "\n",
    "    itemBinding.imageViewEdit.setOnClickListener {setupDialog(item) }\n",
    "}"
   ]
  },
  {
   "cell_type": "markdown",
   "id": "33fa7dc6-0195-4f9c-872f-4dbfbac2f2d7",
   "metadata": {},
   "source": [
    "Następnie do klasy `ViewHolder` dodajmy metodę tworzącą `Dialog` który posłuży do edycji. Również tutaj wykorzystamy `ViewBinding`"
   ]
  },
  {
   "cell_type": "code",
   "execution_count": null,
   "id": "9b0dbfcd-e9c7-4c66-9029-19f0b296d4c0",
   "metadata": {},
   "outputs": [],
   "source": [
    "private fun setupDialog(item: Student){\n",
    "    val dialog = Dialog(context)\n",
    "    val dialogBinding = DialogUpdateBinding.inflate(LayoutInflater.from(context))\n",
    "    dialog.apply {\n",
    "        setCancelable(false)\n",
    "        setContentView(dialogBinding.root)\n",
    "    }"
   ]
  },
  {
   "cell_type": "markdown",
   "id": "076fdf10-f184-4983-86e6-6ee2019993ed",
   "metadata": {},
   "source": [
    "`setCancelable` ustawiony na `false` wyłączy domyślny przycisk `Cancel`. Następnie obsłużymy wszystkie elementy `Dialog`"
   ]
  },
  {
   "cell_type": "code",
   "execution_count": null,
   "id": "14b575a0-1eee-4539-8778-019a423f2b7e",
   "metadata": {},
   "outputs": [],
   "source": [
    "dialogBinding.apply {\n",
    "    editTextIndexUpdate.setText(item.index.toString())\n",
    "    editTextNameUpdate.setText(item.name)\n",
    "    buttonUpdate.setOnClickListener {\n",
    "        updateDialog(dialogBinding, item, dialog)\n",
    "    }\n",
    "\n",
    "    buttonCancel.setOnClickListener { dialog.dismiss() }\n",
    "}\n",
    "dialog.show()"
   ]
  },
  {
   "cell_type": "markdown",
   "id": "7565ff92-f2a6-4bd0-8ce5-ba3a6ca3dd10",
   "metadata": {},
   "source": [
    "W obsłudze zdarzenia `onClick` przycisku `Update` wywołujemy metodę `updateDialog` przyjmującą trzy argumenty. Zaimplementujmy ją - chcemy wykonać aktualizację wpisu w bazie na podstawie zawartości pól `EditText`, w pierwszej kolejności sprawdzimy czy pola nie są puste"
   ]
  },
  {
   "cell_type": "code",
   "execution_count": null,
   "id": "13191175-924f-476b-a07a-39ccfab646c9",
   "metadata": {},
   "outputs": [],
   "source": [
    "private fun updateDialog(\n",
    "    dialogBinding: DialogUpdateBinding,\n",
    "    item: Student,\n",
    "    dialog: Dialog\n",
    ") {\n",
    "    val updateName = dialogBinding.editTextNameUpdate.text.toString()\n",
    "    val updateIndex = dialogBinding.editTextIndexUpdate.text.toString()\n",
    "\n",
    "    if (updateName.isNotEmpty() && updateIndex.isNotEmpty()) {}"
   ]
  },
  {
   "cell_type": "markdown",
   "id": "056a75a7-d022-413c-9412-8062be8254cd",
   "metadata": {},
   "source": [
    "Następnie wykonujemy `update` z klasy `dbHandler`, powiadamiamy adapter o zmianie i wyłączamy dialog"
   ]
  },
  {
   "cell_type": "code",
   "execution_count": null,
   "id": "62e982c1-12b1-4ad2-8e30-c21e78a80c12",
   "metadata": {},
   "outputs": [],
   "source": [
    "if (updateName.isNotEmpty() && updateIndex.isNotEmpty()) {\n",
    "    dbHandler.updateStudent(item.id, updateName, updateIndex.toInt())\n",
    "    notifyItemChanged(item.id - 1)\n",
    "    dialog.dismiss()\n",
    "}"
   ]
  },
  {
   "cell_type": "markdown",
   "id": "4f76e336-91f3-4c84-a9e0-d5da511d6e79",
   "metadata": {},
   "source": [
    "Pełny kod klasy `ViewHolder`"
   ]
  },
  {
   "cell_type": "code",
   "execution_count": null,
   "id": "566fe8b3-a01e-44f4-b735-3d7caa4f79e1",
   "metadata": {},
   "outputs": [],
   "source": [
    "inner class ViewHolder(private val itemBinding: ItemRowBinding) :\n",
    "    RecyclerView.ViewHolder(itemBinding.root) {\n",
    "    fun bind(item: Student) {\n",
    "        itemBinding.textViewName.text = item.name\n",
    "        itemBinding.textViewIndex.text = item.index.toString()\n",
    "        itemBinding.textViewId.text = item.id.toString()\n",
    "\n",
    "        itemBinding.imageViewDelete.setOnClickListener {\n",
    "            dbHandler.deleteStudent(item)\n",
    "            notifyItemRemoved(item.id - 1)\n",
    "        }\n",
    "\n",
    "        itemBinding.imageViewEdit.setOnClickListener {setupDialog(item) }\n",
    "    }\n",
    "\n",
    "    private fun setupDialog(item: Student){\n",
    "        val dialog = Dialog(context)\n",
    "        val dialogBinding = DialogUpdateBinding.inflate(LayoutInflater.from(context))\n",
    "        dialog.apply {\n",
    "            setCancelable(false)\n",
    "            setContentView(dialogBinding.root)\n",
    "        }\n",
    "\n",
    "        dialogBinding.apply {\n",
    "            editTextIndexUpdate.setText(item.index.toString())\n",
    "            editTextNameUpdate.setText(item.name)\n",
    "            buttonUpdate.setOnClickListener {\n",
    "                updateDialog(dialogBinding, item, dialog)\n",
    "            }\n",
    "\n",
    "            buttonCancel.setOnClickListener { dialog.dismiss() }\n",
    "        }\n",
    "        dialog.show()\n",
    "    }\n",
    "\n",
    "    private fun updateDialog(\n",
    "        dialogBinding: DialogUpdateBinding,\n",
    "        item: Student,\n",
    "        dialog: Dialog\n",
    "    ) {\n",
    "        val updateName = dialogBinding.editTextNameUpdate.text.toString()\n",
    "        val updateIndex = dialogBinding.editTextIndexUpdate.text.toString()\n",
    "\n",
    "        if (updateName.isNotEmpty() && updateIndex.isNotEmpty()) {\n",
    "            dbHandler.updateStudent(item.id, updateName, updateIndex.toInt())\n",
    "            notifyItemChanged(item.id - 1)\n",
    "            dialog.dismiss()\n",
    "        }\n",
    "    }\n",
    "}"
   ]
  },
  {
   "cell_type": "markdown",
   "id": "b0560756-ae4b-452b-934f-f3928a2060c3",
   "metadata": {},
   "source": [
    "### **Aktywność**"
   ]
  },
  {
   "cell_type": "markdown",
   "id": "40a88610-8f0c-44df-a19f-7abcb7f60129",
   "metadata": {},
   "source": [
    "Dodajmy `ViewBinding`"
   ]
  },
  {
   "cell_type": "code",
   "execution_count": null,
   "id": "9d61536b-089a-46eb-8299-80fa5552e164",
   "metadata": {},
   "outputs": [],
   "source": [
    "private val binding by lazy { ActivityMainBinding.inflate(layoutInflater) }\n",
    "\n",
    "override fun onCreate(savedInstanceState: Bundle?) {\n",
    "    super.onCreate(savedInstanceState)\n",
    "    setContentView(binding.root)\n",
    "}"
   ]
  },
  {
   "cell_type": "markdown",
   "id": "10b230ea-0083-4278-8161-07ceae8cc658",
   "metadata": {},
   "source": [
    "Zainicjujmy `DBHandler` oraz zamknijmy dostęp do bazy w metodzie `onDestroy`"
   ]
  },
  {
   "cell_type": "code",
   "execution_count": null,
   "id": "a2e44030-dc72-44c1-90ac-d225a586c76a",
   "metadata": {},
   "outputs": [],
   "source": [
    "class MainActivity : AppCompatActivity() {\n",
    "    private val dbHandler by lazy { DBHandler(this) }\n",
    "    ...\n",
    "    \n",
    "    override fun onDestroy() {\n",
    "        dbHandler.close()\n",
    "        super.onDestroy()\n",
    "    }\n",
    "}"
   ]
  },
  {
   "cell_type": "markdown",
   "id": "193ea573-d902-4d19-89fc-280b01cae1c3",
   "metadata": {},
   "source": [
    "Dodajmy `RecyclerView` w metodzie `onCreate`"
   ]
  },
  {
   "cell_type": "code",
   "execution_count": null,
   "id": "f1cd00be-4e61-4f04-9e1f-a187959a6eaa",
   "metadata": {},
   "outputs": [],
   "source": [
    "binding.dataBaseRecyclerView.apply {\n",
    "    layoutManager = LinearLayoutManager(this@MainActivity)\n",
    "    adapter = StudentAdapter(dbHandler, this@MainActivity)\n",
    "}"
   ]
  },
  {
   "cell_type": "markdown",
   "id": "9fabf017-406a-4f7b-9f6d-976a55e0b6f2",
   "metadata": {},
   "source": [
    "Następnie obsłużmy zdarzenie `onClick` przycisku odpowiadającego za dodawanie elementów do bazy. Wpierw sprawdzamy czy pola `EditText` nie są puste, następnie wywołujemy metodę `addStudent` klasy `DBHandler`. Na koniec czyścimy pola `EditText` oraz powiadamiamy adapter o dodaniu nowej pozycji."
   ]
  },
  {
   "cell_type": "code",
   "execution_count": null,
   "id": "3f95958f-fb4a-412e-9b07-0fe397152c5b",
   "metadata": {},
   "outputs": [],
   "source": [
    "binding.addButton.setOnClickListener {\n",
    "    val name = binding.editTextName.text.toString()\n",
    "    val index = binding.editTextIndex.text.toString()\n",
    "\n",
    "    if (name.isNotEmpty() && index.isNotEmpty()){\n",
    "        dbHandler.addStudent(Student(name, index.toInt()))\n",
    "        binding.editTextName.text.clear()\n",
    "        binding.editTextIndex.text.clear()\n",
    "    }\n",
    "\n",
    "    binding.dataBaseRecyclerView.adapter?.notifyItemInserted(dbHandler.getStudents().size)\n",
    "}"
   ]
  },
  {
   "cell_type": "markdown",
   "id": "2169b35a-2152-4782-a4d9-c24e34d64425",
   "metadata": {},
   "source": [
    "Możemy przetestować aplikację"
   ]
  },
  {
   "cell_type": "markdown",
   "id": "c3e80329-6fda-4784-a420-6925377f0279",
   "metadata": {},
   "source": [
    "<table><tr><td><img src=\"https://media3.giphy.com/media/FIcgLsiTwUhfuSjM8X/giphy.gif\" width=\"150\" /></td><td><img src=\"https://media2.giphy.com/media/04Ir1MiMp02l2U1GO6/giphy.gif\" width=\"150\" /></td></tr></table>"
   ]
  },
  {
   "cell_type": "code",
   "execution_count": null,
   "id": "5bcf72ac-015e-40fd-b552-3d26a3e5e72b",
   "metadata": {},
   "outputs": [],
   "source": []
  }
 ],
 "metadata": {
  "kernelspec": {
   "display_name": "Kotlin",
   "language": "kotlin",
   "name": "kotlin"
  },
  "language_info": {
   "codemirror_mode": "text/x-kotlin",
   "file_extension": ".kt",
   "mimetype": "text/x-kotlin",
   "name": "kotlin",
   "nbconvert_exporter": "",
   "pygments_lexer": "kotlin",
   "version": "1.6.20-dev-6372"
  }
 },
 "nbformat": 4,
 "nbformat_minor": 5
}
