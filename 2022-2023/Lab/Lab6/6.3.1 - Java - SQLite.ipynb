{
 "cells": [
  {
   "cell_type": "markdown",
   "id": "431c5544-f40d-4359-af8a-49d43ce296f4",
   "metadata": {},
   "source": [
    "## 6.3 SQLite - podstawy"
   ]
  },
  {
   "cell_type": "markdown",
   "id": "ad86b4cb-98ba-4bd1-bee5-3fe3c264a52a",
   "metadata": {},
   "source": [
    "Napiszmy przykładową aplikację wykorzystującą bazę `SQLite` - w tym przykładzie nie będziemy wykonywać operacji na bazie asynchronicznie. Zaimplementujemy podstawowe operacje CRUD. Aplikacja będzie wykorzystywać pojedynczą aktywność."
   ]
  },
  {
   "cell_type": "markdown",
   "id": "35bc94e3-2598-4314-a170-59c7b414797d",
   "metadata": {},
   "source": [
    "<table><tr><td><img src=\"https://media3.giphy.com/media/FIcgLsiTwUhfuSjM8X/giphy.gif\" width=\"200\" /></td><td><img src=\"https://media2.giphy.com/media/04Ir1MiMp02l2U1GO6/giphy.gif\" width=\"200\" /></td></tr></table>"
   ]
  },
  {
   "cell_type": "markdown",
   "id": "90654663-1124-4c33-a768-4b8e2d3feed9",
   "metadata": {},
   "source": [
    "### **Podstawy aplikacji**"
   ]
  },
  {
   "cell_type": "markdown",
   "id": "8d1d801a-13d2-4616-bc0d-14286d0c5da0",
   "metadata": {},
   "source": [
    "Rozpocznijmy od dodania `ViewBinding` - do pliku `build.gradle(Module)` dodaję\n",
    "\n",
    "```kotlin\n",
    "android {\n",
    "    ...\n",
    "    buildFeatures {\n",
    "        viewBinding = true\n",
    "    }\n",
    "}\n",
    "```\n",
    "\n",
    "Następnie napiszmy layout głównej aktywności w postaci prostego formularza.\n",
    "\n",
    "```xml\n",
    "<?xml version=\"1.0\" encoding=\"utf-8\"?>\n",
    "<LinearLayout xmlns:android=\"http://schemas.android.com/apk/res/android\"\n",
    "    xmlns:app=\"http://schemas.android.com/apk/res-auto\"\n",
    "    xmlns:tools=\"http://schemas.android.com/tools\"\n",
    "    android:layout_width=\"match_parent\"\n",
    "    android:layout_height=\"match_parent\"\n",
    "    android:orientation=\"vertical\"\n",
    "    tools:context=\".MainActivity\">\n",
    "\n",
    "    <LinearLayout\n",
    "        android:layout_width=\"match_parent\"\n",
    "        android:layout_height=\"wrap_content\"\n",
    "        android:gravity=\"center\"\n",
    "        android:orientation=\"horizontal\">\n",
    "\n",
    "        <TextView\n",
    "            android:layout_width=\"0dp\"\n",
    "            android:layout_height=\"wrap_content\"\n",
    "            android:layout_weight=\"0.25\"\n",
    "            android:text=\"Name\"\n",
    "            android:textSize=\"18sp\"/>\n",
    "\n",
    "        <EditText\n",
    "            android:id=\"@+id/edit_text_name\"\n",
    "            android:layout_width=\"0dp\"\n",
    "            android:layout_height=\"wrap_content\"\n",
    "            android:layout_weight=\"0.75\"\n",
    "            android:hint=\"Enter Name\" />\n",
    "\n",
    "    </LinearLayout>\n",
    "\n",
    "    <LinearLayout\n",
    "        android:layout_width=\"match_parent\"\n",
    "        android:layout_height=\"wrap_content\"\n",
    "        android:gravity=\"center\"\n",
    "        android:orientation=\"horizontal\">\n",
    "\n",
    "        <TextView\n",
    "            android:layout_width=\"0dp\"\n",
    "            android:layout_height=\"wrap_content\"\n",
    "            android:layout_weight=\"0.25\"\n",
    "            android:text=\"Index Number\"\n",
    "            android:textSize=\"18sp\"/>\n",
    "\n",
    "        <EditText\n",
    "            android:id=\"@+id/edit_text_index\"\n",
    "            android:layout_width=\"0dp\"\n",
    "            android:layout_height=\"wrap_content\"\n",
    "            android:layout_weight=\"0.75\"\n",
    "            android:hint=\"Enter Index Number\"\n",
    "            android:inputType=\"number\"\n",
    "            android:importantForAutofill=\"no\" />\n",
    "\n",
    "    </LinearLayout>\n",
    "\n",
    "    <Button\n",
    "        android:id=\"@+id/add_button\"\n",
    "        android:layout_width=\"match_parent\"\n",
    "        android:layout_height=\"wrap_content\"\n",
    "        android:layout_margin=\"10dp\"\n",
    "        android:text=\"ADD STUDENT\"/>\n",
    "\n",
    "    <androidx.recyclerview.widget.RecyclerView\n",
    "        android:id=\"@+id/dataBase_recycler_view\"\n",
    "        android:layout_width=\"match_parent\"\n",
    "        android:layout_height=\"match_parent\"/>\n",
    "</LinearLayout>\n",
    "```\n",
    "\n",
    "Będziemy wykorzystywać `RecyclerView` do wyświetlania danych z bazy, więc dodajmy layout dla pojedynczego elementu\n",
    "\n",
    "```xml\n",
    "<?xml version=\"1.0\" encoding=\"utf-8\"?>\n",
    "<LinearLayout xmlns:android=\"http://schemas.android.com/apk/res/android\"\n",
    "    xmlns:tools=\"http://schemas.android.com/tools\"\n",
    "    android:id=\"@+id/linear_layout_main\"\n",
    "    android:layout_width=\"match_parent\"\n",
    "    android:layout_height=\"wrap_content\"\n",
    "    android:gravity=\"center_vertical\"\n",
    "    android:orientation=\"horizontal\"\n",
    "    android:padding=\"10dp\">\n",
    "\n",
    "    <TextView\n",
    "        android:id=\"@+id/text_view_id\"\n",
    "        android:layout_width=\"wrap_content\"\n",
    "        android:layout_height=\"wrap_content\"\n",
    "        android:textColor=\"@android:color/black\"\n",
    "        android:textSize=\"16sp\"\n",
    "        android:padding=\"10dp\"\n",
    "        tools:text=\"1\" />\n",
    "\n",
    "    <TextView\n",
    "        android:id=\"@+id/text_view_name\"\n",
    "        android:layout_width=\"wrap_content\"\n",
    "        android:layout_height=\"wrap_content\"\n",
    "        android:textColor=\"@android:color/black\"\n",
    "        android:textSize=\"16sp\"\n",
    "        tools:text=\"Name\" />\n",
    "\n",
    "    <TextView\n",
    "        android:layout_width=\"wrap_content\"\n",
    "        android:layout_height=\"wrap_content\"\n",
    "        android:layout_marginStart=\"5dp\"\n",
    "        android:layout_marginEnd=\"5dp\"\n",
    "        android:textSize=\"18sp\"\n",
    "        android:textStyle=\"bold\"\n",
    "        tools:text=\":\" />\n",
    "\n",
    "    <TextView\n",
    "        android:id=\"@+id/text_view_index\"\n",
    "        android:layout_width=\"0dp\"\n",
    "        android:layout_height=\"wrap_content\"\n",
    "        android:layout_weight=\"1\"\n",
    "        android:textColor=\"@android:color/black\"\n",
    "        android:textSize=\"16sp\"\n",
    "        tools:text=\"Index\" />\n",
    "\n",
    "    <ImageView\n",
    "        android:id=\"@+id/image_view_edit\"\n",
    "        android:layout_width=\"50dp\"\n",
    "        android:layout_height=\"50dp\"\n",
    "        android:contentDescription=\"image\"\n",
    "        android:foreground=\"?attr/selectableItemBackgroundBorderless\"\n",
    "        android:scaleType=\"center\"\n",
    "        android:src=\"@drawable/ic_action_edit_foreground\" />\n",
    "\n",
    "    <ImageView\n",
    "        android:id=\"@+id/image_view_delete\"\n",
    "        android:layout_width=\"50dp\"\n",
    "        android:layout_height=\"50dp\"\n",
    "        android:contentDescription=\"image\"\n",
    "        android:foreground=\"?attr/selectableItemBackgroundBorderless\"\n",
    "        android:scaleType=\"center\"\n",
    "        android:src=\"@drawable/ic_action_delete_foreground\" />\n",
    "</LinearLayout>\n",
    "```\n",
    "\n",
    "Przy edycji będziemy wykorzystywać `Dialog`, więc również tutaj stwórzmy layout\n",
    "\n",
    "```xml\n",
    "<?xml version=\"1.0\" encoding=\"utf-8\"?>\n",
    "<LinearLayout xmlns:android=\"http://schemas.android.com/apk/res/android\"\n",
    "    android:layout_width=\"300dp\"\n",
    "    android:layout_height=\"wrap_content\"\n",
    "    xmlns:tools=\"http://schemas.android.com/tools\"\n",
    "    android:orientation=\"vertical\"\n",
    "    android:padding=\"10dp\"\n",
    "    tools:context=\".MainActivity\">\n",
    "\n",
    "    <TextView\n",
    "        android:layout_width=\"wrap_content\"\n",
    "        android:layout_height=\"wrap_content\"\n",
    "        android:text=\"Update Student Data\"\n",
    "        android:textColor=\"@android:color/black\"\n",
    "        android:textSize=\"18sp\"\n",
    "        android:textStyle=\"bold\" />\n",
    "\n",
    "    <LinearLayout\n",
    "        android:layout_width=\"match_parent\"\n",
    "        android:layout_height=\"wrap_content\"\n",
    "        android:gravity=\"center\"\n",
    "        android:orientation=\"horizontal\">\n",
    "\n",
    "        <TextView\n",
    "            android:layout_width=\"0dp\"\n",
    "            android:layout_height=\"wrap_content\"\n",
    "            android:layout_weight=\"0.25\"\n",
    "            android:text=\"Name\"\n",
    "            android:textSize=\"18sp\" />\n",
    "\n",
    "        <EditText\n",
    "            android:id=\"@+id/edit_text_name_update\"\n",
    "            android:layout_width=\"0dp\"\n",
    "            android:layout_height=\"wrap_content\"\n",
    "            android:layout_weight=\"0.75\"\n",
    "            android:hint=\"Enter Name\" />\n",
    "    </LinearLayout>\n",
    "\n",
    "    <LinearLayout\n",
    "        android:layout_width=\"match_parent\"\n",
    "        android:layout_height=\"wrap_content\"\n",
    "        android:gravity=\"center\"\n",
    "        android:orientation=\"horizontal\">\n",
    "\n",
    "        <TextView\n",
    "            android:layout_width=\"0dp\"\n",
    "            android:layout_height=\"wrap_content\"\n",
    "            android:layout_weight=\"0.25\"\n",
    "            android:text=\"Index\"\n",
    "            android:textSize=\"18sp\" />\n",
    "\n",
    "        <EditText\n",
    "            android:id=\"@+id/edit_text_index_update\"\n",
    "            android:layout_width=\"0dp\"\n",
    "            android:layout_height=\"wrap_content\"\n",
    "            android:layout_weight=\"0.75\"\n",
    "            android:inputType=\"textEmailAddress\"\n",
    "            android:hint=\"Enter Index Number\" />\n",
    "    </LinearLayout>\n",
    "\n",
    "    <LinearLayout\n",
    "        android:layout_width=\"match_parent\"\n",
    "        android:layout_height=\"wrap_content\"\n",
    "        android:layout_marginTop=\"10dp\"\n",
    "        android:gravity=\"end\"\n",
    "        android:orientation=\"horizontal\">\n",
    "\n",
    "        <Button\n",
    "            android:id=\"@+id/button_update\"\n",
    "            android:layout_width=\"wrap_content\"\n",
    "            android:layout_height=\"wrap_content\"\n",
    "            android:gravity=\"center\"\n",
    "            android:padding=\"10dp\"\n",
    "            android:text=\"UPDATE\"\n",
    "            android:textStyle=\"bold\" />\n",
    "\n",
    "        <Button\n",
    "            android:id=\"@+id/button_cancel\"\n",
    "            android:layout_width=\"wrap_content\"\n",
    "            android:layout_height=\"wrap_content\"\n",
    "            android:gravity=\"center\"\n",
    "            android:padding=\"10dp\"\n",
    "            android:text=\"CANCEL\"\n",
    "            android:textStyle=\"bold\" />\n",
    "\n",
    "    </LinearLayout>\n",
    "</LinearLayout>\n",
    "```\n",
    "\n",
    "Dodajmy również model danych"
   ]
  },
  {
   "cell_type": "code",
   "execution_count": null,
   "id": "18f21813-2bce-4808-a6d2-a126a67b79e0",
   "metadata": {},
   "outputs": [],
   "source": [
    "public class Student {\n",
    "    private int id = 0;\n",
    "    private String name;\n",
    "    private int index;\n",
    "\n",
    "    public Student(String name, int index) {\n",
    "        this.name = name;\n",
    "        this.index = index;\n",
    "    }\n",
    "    \n",
    "    public Student(int id, String name, int index) {\n",
    "        this(name, index);\n",
    "        this.id = id;\n",
    "    }\n",
    "\n",
    "    public int getId() {\n",
    "        return id;\n",
    "    }\n",
    "\n",
    "    public String getName() {\n",
    "        return name;\n",
    "    }\n",
    "\n",
    "    public int getIndex() {\n",
    "        return index;\n",
    "    }\n",
    "\n",
    "    public void setName(String name) {\n",
    "        this.name = name;\n",
    "    }\n",
    "\n",
    "    public void setIndex(int index) {\n",
    "        this.index = index;\n",
    "    }\n",
    "}"
   ]
  },
  {
   "cell_type": "markdown",
   "id": "80af3723-acab-46fc-ae3b-9687952673ad",
   "metadata": {},
   "source": [
    "### **DBHelper**"
   ]
  },
  {
   "cell_type": "markdown",
   "id": "85c36b43-231a-48bd-83d0-34422a12a01a",
   "metadata": {},
   "source": [
    "Przejdźmy do utworzenia bazy, zrobimy to w klasie o nazwie (standardowo) `dbHelper`, będzie ona rozszerzać klasę `SQLiteOpenHelper` - przyjmuje ona w konstruktorze szereg parametrów.\n",
    "- `context`\n",
    "- `name: String` - nazwę bazy\n",
    "- `SQLiteDatabase.CursorFactory` - wymagana gdy wykorzystujemy podklasy klasy `Cursor` do wykonywania zapytań - w tym przykładzie nie będziemy z niego korzystać, więc podajemy `null`\n",
    "- `version: Int` - wersja bazy\n",
    "\n",
    "Podstawowe informacje o bazie będziemy przechowywać w `companion object`"
   ]
  },
  {
   "cell_type": "code",
   "execution_count": null,
   "id": "0fcb216c-7d9d-4c23-b599-7d3b8909d525",
   "metadata": {},
   "outputs": [],
   "source": [
    "public class DBHelper extends SQLiteOpenHelper {\n",
    "\n",
    "    private static int DATABASE_VERSION = 1;\n",
    "    private static final String DATABASE_NAME = \"studentsDBJava.db\";\n",
    "    private static final String TABLE_STUDENTS = \"StudentTable\";\n",
    "\n",
    "    private static final String COLUMN_ID = \"_id\";\n",
    "    private static final String COLUMN_NAME = \"name\";\n",
    "    private static final String COLUMN_INDEX = \"indexNumber\";\n",
    "\n",
    "    public DBHelper(@Nullable Context context) {\n",
    "        super(context, DATABASE_NAME, null, DATABASE_VERSION);\n",
    "    }\n",
    "\n",
    "    @Override\n",
    "    public void onCreate(SQLiteDatabase db) {\n",
    "\n",
    "    }\n",
    "\n",
    "    @Override\n",
    "    public void onUpgrade(SQLiteDatabase db, int oldVersion, int newVersion) {\n",
    "    }\n"
   ]
  },
  {
   "cell_type": "markdown",
   "id": "17361821-2b55-4746-9893-4f686100d342",
   "metadata": {},
   "source": [
    "Musimy zaimplementować dwie metody\n",
    "- `onCreate` - wywoływana gdy plik o zadanej nazwie (`BADABASE_NAME`) nie istnieje\n",
    "- `onUpgrade` - wywoływana gdy schemat bazy uległ zmianie\n",
    "\n",
    "Rozpocznijmy od metody `onCreate`. W parametrze metody dostajemy dostęp do `SQLiteDatabase`, na tej zmiennej wykonujemy instrukcje wywołując metodę `execSQL`"
   ]
  },
  {
   "cell_type": "code",
   "execution_count": null,
   "id": "b0d2833b-b990-481f-99e6-f67b958ce029",
   "metadata": {},
   "outputs": [],
   "source": [
    "@Override\n",
    "public void onCreate(SQLiteDatabase db) {\n",
    "    String CREATE_STUDENTS_TABLE = \"CREATE TABLE \" +\n",
    "            TABLE_STUDENTS +\n",
    "            \"(\" +\n",
    "            COLUMN_ID + \" \" +\n",
    "            \"INTEGER PRIMARY KEY,\" +\n",
    "            COLUMN_NAME +\n",
    "            \" TEXT,\" +\n",
    "            COLUMN_INDEX +\n",
    "            \" INTEGER\" +\n",
    "            \")\";\n",
    "\n",
    "    db.execSQL(CREATE_STUDENTS_TABLE);\n",
    "}"
   ]
  },
  {
   "cell_type": "markdown",
   "id": "4ea17dbe-0e94-4b8b-9281-3bf014f59533",
   "metadata": {},
   "source": [
    "W metodzie `onUpgrade` usuniemy bazę i wywołamy metodę `onCreate`"
   ]
  },
  {
   "cell_type": "code",
   "execution_count": null,
   "id": "072b7502-4403-4daa-9f09-85ee276f51ed",
   "metadata": {},
   "outputs": [],
   "source": [
    "@Override\n",
    "public void onUpgrade(SQLiteDatabase db, int oldVersion, int newVersion) {\n",
    "    db.execSQL(\"DROP TABLE IF EXISTS \" + TABLE_STUDENTS);\n",
    "    onCreate(db);\n",
    "}"
   ]
  },
  {
   "cell_type": "markdown",
   "id": "f5b39d57-1336-46fa-8828-e544d026e626",
   "metadata": {},
   "source": [
    "Zaimplementujmy kilka metod umożliwiających przeprowadzenie podstawowych operacji na bazie."
   ]
  },
  {
   "cell_type": "markdown",
   "id": "1636395f-f1af-4213-b729-4d09666ce85f",
   "metadata": {},
   "source": [
    "#### **ADD**"
   ]
  },
  {
   "cell_type": "markdown",
   "id": "11a7acea-87a1-416a-8435-ffd6e6f501c2",
   "metadata": {},
   "source": [
    "Zacznijmy od metody `addStudent`"
   ]
  },
  {
   "cell_type": "code",
   "execution_count": null,
   "id": "a51933e5-5480-4d4a-826b-4eeaa4a55014",
   "metadata": {},
   "outputs": [],
   "source": [
    "public void addStudent(Student student){}"
   ]
  },
  {
   "cell_type": "markdown",
   "id": "b4c51b24-d755-459d-b188-d18a3c8e411f",
   "metadata": {},
   "source": [
    "W pierwszej kolejności musimy uzyskać dostęp do bazy w celu zapisu - robimy to wywołując metodę `getWritableDatabase`"
   ]
  },
  {
   "cell_type": "code",
   "execution_count": null,
   "id": "ec1d0471-f306-4ef3-9541-95894aa30532",
   "metadata": {},
   "outputs": [],
   "source": [
    "SQLiteDatabase db = this.getWritableDatabase();"
   ]
  },
  {
   "cell_type": "markdown",
   "id": "3553d85f-bcb6-42ed-9e17-ebfbf17bace6",
   "metadata": {},
   "source": [
    "Następnie przygotujmy dane do dodaniam w tym celu wykorzystujemy `ContentValues` - tworzy zestaw wartości dla `ContentResolver`"
   ]
  },
  {
   "cell_type": "code",
   "execution_count": null,
   "id": "caa65b4f-5755-4c0e-872c-e734cbc83a39",
   "metadata": {},
   "outputs": [],
   "source": [
    "ContentValues values = new ContentValues();\n",
    "values.put(COLUMN_NAME, student.getName());\n",
    "values.put(COLUMN_INDEX, student.getIndex());"
   ]
  },
  {
   "cell_type": "markdown",
   "id": "ac91f3ed-eda3-4486-924d-bab42304286f",
   "metadata": {},
   "source": [
    "Następnie wykonujemy metodę `insert` na bazie, przyjmuje ona trzy argumenty\n",
    "- nazwę tabeli do której wykonana jest operacja\n",
    "- `nullColumnHack` - umożliwia wstawienie pustej wartości\n",
    "- `ContentValues` - dane do wstawienia"
   ]
  },
  {
   "cell_type": "code",
   "execution_count": null,
   "id": "2ede384e-fba2-4512-a0fb-3ae78ce61ca8",
   "metadata": {},
   "outputs": [],
   "source": [
    "db.insert(TABLE_STUDENTS, null, values);"
   ]
  },
  {
   "cell_type": "markdown",
   "id": "6b11e0f0-108f-45de-8824-eeb6a1b5dc73",
   "metadata": {},
   "source": [
    "Na koniec zamykamy dostęp do bazy wywołując metodę `close`"
   ]
  },
  {
   "cell_type": "code",
   "execution_count": null,
   "id": "1c10bf55-b3a8-4f31-bd31-9ec027c8c8fa",
   "metadata": {},
   "outputs": [],
   "source": [
    "db.close();"
   ]
  },
  {
   "cell_type": "markdown",
   "id": "6633ebe3-bf6c-4646-a4a6-fbae7f5d5f38",
   "metadata": {},
   "source": [
    "Pełna metoda `addStudent`"
   ]
  },
  {
   "cell_type": "code",
   "execution_count": null,
   "id": "674ecab7-928b-4ad9-86c7-bc381ec40340",
   "metadata": {},
   "outputs": [],
   "source": [
    "public void addStudent(Student student){\n",
    "    SQLiteDatabase db = this.getWritableDatabase();\n",
    "\n",
    "    ContentValues values = new ContentValues();\n",
    "    values.put(COLUMN_NAME, student.getName());\n",
    "    values.put(COLUMN_INDEX, student.getIndex());\n",
    "\n",
    "    db.insert(TABLE_STUDENTS, null, values);\n",
    "    db.close();\n",
    "}"
   ]
  },
  {
   "cell_type": "markdown",
   "id": "7edd792d-d1f0-42d2-9049-85b1d7c06613",
   "metadata": {},
   "source": [
    "#### **DELETE**"
   ]
  },
  {
   "cell_type": "markdown",
   "id": "2cbc3c39-56e6-48e4-a0ed-e6857f94814b",
   "metadata": {},
   "source": [
    "Przejdźmy do metody umożliwiającej usunięcie wpisu. Rozpoczynamy jak poprzednio od uzyskania dostępu do bazy w celu zapisu."
   ]
  },
  {
   "cell_type": "code",
   "execution_count": null,
   "id": "1ba1c54d-1747-45f3-9682-436dabf2efa2",
   "metadata": {},
   "outputs": [],
   "source": [
    "public void deleteStudent(Student student){\n",
    "    SQLiteDatabase db = this.getWritableDatabase();"
   ]
  },
  {
   "cell_type": "markdown",
   "id": "4ab3b943-09c6-41d7-ad13-a360fd9de406",
   "metadata": {},
   "source": [
    "Następnie wywołujemy metodę `delete` na bazie - przyjmuje ona kilka argumentów\n",
    "- nazwę tabeli z której chcemy usunąć wpis\n",
    "- `whereClause` - klauzula warunkowa - tutaj chcemy usunąć element o zadanym `id`, więc podajemy \n",
    "```kotlin\n",
    "`COLUMN_ID + \"=\" + student._id`\n",
    "```\n",
    "- `whereArgs` - argumenty klauzuli `where`"
   ]
  },
  {
   "cell_type": "code",
   "execution_count": null,
   "id": "a8dc9b60-312f-44de-b3a7-0c21784548b3",
   "metadata": {},
   "outputs": [],
   "source": [
    "db.delete(\n",
    "        TABLE_STUDENTS,\n",
    "        COLUMN_ID + \"=\" + student.getId(),\n",
    "        null);"
   ]
  },
  {
   "cell_type": "markdown",
   "id": "9d796598-e01b-43d6-8891-ddabd81ecfab",
   "metadata": {},
   "source": [
    "Ostatnim krokiem jest zamknięcie dostępu do bazy"
   ]
  },
  {
   "cell_type": "code",
   "execution_count": null,
   "id": "9c9d89aa-3f6b-4694-bc78-cd2811039136",
   "metadata": {},
   "outputs": [],
   "source": [
    "db.close();"
   ]
  },
  {
   "cell_type": "markdown",
   "id": "30ba81c6-acd3-43f9-b50c-1f4f14ea128e",
   "metadata": {},
   "source": [
    "#### **UPDATE**"
   ]
  },
  {
   "cell_type": "markdown",
   "id": "2968d2f0-bbed-43c6-94eb-fb0b1a1d1a0d",
   "metadata": {},
   "source": [
    "Metoda aktualizacji wygląda podobnie jak poprzednie. `update` przyjmuje trzy parametry\n",
    "- `ContentValues`\n",
    "- `whereClause`\n",
    "- `whereArgs`"
   ]
  },
  {
   "cell_type": "code",
   "execution_count": null,
   "id": "f2d525c8-7b5a-4a3c-a91b-b924bdc79ba0",
   "metadata": {},
   "outputs": [],
   "source": [
    "public void updateStudent (int id, String name, int index){\n",
    "    SQLiteDatabase db = this.getWritableDatabase();\n",
    "    ContentValues contentValues = new ContentValues();\n",
    "    contentValues.put(COLUMN_NAME, name);\n",
    "    contentValues.put(COLUMN_INDEX, index);\n",
    "\n",
    "    db.update(TABLE_STUDENTS,\n",
    "            contentValues,\n",
    "            COLUMN_ID + \"=\" + id,\n",
    "            null);\n",
    "\n",
    "    db.close();\n",
    "}"
   ]
  },
  {
   "cell_type": "markdown",
   "id": "aca22c0f-c784-43c1-8084-9a104240caea",
   "metadata": {},
   "source": [
    "#### **GET**"
   ]
  },
  {
   "cell_type": "markdown",
   "id": "1a192cb0-4c50-45ed-9c2f-e66a918ccd67",
   "metadata": {},
   "source": [
    "Pozostaje metoda zwracająca listę wszystkich elementów w bazie."
   ]
  },
  {
   "cell_type": "code",
   "execution_count": null,
   "id": "b3e73b6f-c22e-42e7-b1b4-126b2054b82d",
   "metadata": {},
   "outputs": [],
   "source": [
    "public ArrayList<Student> getStudents() {}"
   ]
  },
  {
   "cell_type": "markdown",
   "id": "f4976eeb-aa71-4412-87b5-c09b1c69b716",
   "metadata": {},
   "source": [
    "W metodzie stworzymy mutowalną listę do której dodamy wszystkie elementy z bazy."
   ]
  },
  {
   "cell_type": "code",
   "execution_count": null,
   "id": "b1777de7-b9b3-46b0-aae2-48587079a117",
   "metadata": {},
   "outputs": [],
   "source": [
    "ArrayList<Student> students = new ArrayList<>();"
   ]
  },
  {
   "cell_type": "markdown",
   "id": "458b5b3f-335d-4f3b-873b-8f88cdd344c9",
   "metadata": {},
   "source": [
    "Następnie otworzymy bazę tylko do odczytu"
   ]
  },
  {
   "cell_type": "code",
   "execution_count": null,
   "id": "3965489f-f581-49c1-ba6a-9f79d48e2e0d",
   "metadata": {},
   "outputs": [],
   "source": [
    "SQLiteDatabase db = this.getReadableDatabase();"
   ]
  },
  {
   "cell_type": "markdown",
   "id": "0f1290ad-8967-4706-875c-614885c261fd",
   "metadata": {},
   "source": [
    "Wynik zapytania sql zwracamy do obiektu typu `Cursor`"
   ]
  },
  {
   "cell_type": "code",
   "execution_count": null,
   "id": "59de4f17-ec8d-4e6e-8c8c-aaa6ca77ab84",
   "metadata": {},
   "outputs": [],
   "source": [
    "Cursor cursor = db.rawQuery(\"SELECT * FROM \" + TABLE_STUDENTS, null);"
   ]
  },
  {
   "cell_type": "markdown",
   "id": "9a90882e-785c-43c7-b469-4f04f1d427be",
   "metadata": {},
   "source": [
    "Metoda `rawQuery` przyjmuje dwa argumenty\n",
    "- zapytanie jako `String`\n",
    "- `selectionArgs` - tablica wszystkich argumentów"
   ]
  },
  {
   "cell_type": "markdown",
   "id": "a2ef76b9-e993-4547-ab71-60c7c709226f",
   "metadata": {},
   "source": [
    "Następnie sprawdzamy czy `Cursor` nie jest pusty - wykonujemy to wywołując metodę `moveToFirst`. Przesuwa ona `Cursor` do pierwszego rzędu, zwraca `false` gdy `Cursor` jest pusty"
   ]
  },
  {
   "cell_type": "code",
   "execution_count": null,
   "id": "b430d6ec-c84d-4835-aee4-93acd237fa8f",
   "metadata": {},
   "outputs": [],
   "source": [
    "if (cursor.moveToFirst())"
   ]
  },
  {
   "cell_type": "markdown",
   "id": "47fb9ef8-b42d-40f6-96f5-6053e600a3c9",
   "metadata": {},
   "source": [
    "W warunku `if` odczytujemy wartości i dodajemy je na listę `students` dopóki `Cursor` posiada wartości."
   ]
  },
  {
   "cell_type": "code",
   "execution_count": null,
   "id": "ad190884-f82f-4309-aea3-b0907057f685",
   "metadata": {},
   "outputs": [],
   "source": [
    "if (cursor.moveToFirst()) {\n",
    "    do {\n",
    "        students.add(new Student(\n",
    "                cursor.getInt(0),\n",
    "                cursor.getString(1),\n",
    "                cursor.getInt(2)));\n",
    "    } while (cursor.moveToNext());\n",
    "}"
   ]
  },
  {
   "cell_type": "markdown",
   "id": "1c08e4ef-6984-48da-be16-3161cbb63d31",
   "metadata": {},
   "source": [
    "W bazie mamy trzy kolumny (`id: Int`, `name: String`, `index: Int`), z `Cursor` wyciągamy trzy wartości (**ważna kolejność**) i używamy ich jako argumenty konstruktora klasy `Student`."
   ]
  },
  {
   "cell_type": "markdown",
   "id": "9e3edc6d-fdda-4eae-a5c5-ad5351cb16ae",
   "metadata": {},
   "source": [
    "Ostatnim elementem jest zamknięcie dostępu do bazy oraz cursora"
   ]
  },
  {
   "cell_type": "code",
   "execution_count": null,
   "id": "87718038-85ed-428e-948c-c771f42dec24",
   "metadata": {},
   "outputs": [],
   "source": [
    "db.close();\n",
    "cursor.close();"
   ]
  },
  {
   "cell_type": "markdown",
   "id": "338acbc5-e2b2-446b-a3e5-31b50ff4a76b",
   "metadata": {},
   "source": [
    "Pełny kod metody"
   ]
  },
  {
   "cell_type": "code",
   "execution_count": null,
   "id": "a96f1ad6-0cc7-4a0a-a4cb-b22ada967870",
   "metadata": {},
   "outputs": [],
   "source": [
    "public ArrayList<Student> getStudents() {\n",
    "    ArrayList<Student> students = new ArrayList<>();\n",
    "\n",
    "    SQLiteDatabase db = this.getReadableDatabase();\n",
    "\n",
    "    Cursor cursor = db.rawQuery(\"SELECT * FROM \" + TABLE_STUDENTS, null);\n",
    "\n",
    "    if (cursor.moveToFirst()) {\n",
    "        do {\n",
    "            students.add(new Student(\n",
    "                    cursor.getInt(0),\n",
    "                    cursor.getString(1),\n",
    "                    cursor.getInt(2)));\n",
    "        } while (cursor.moveToNext());\n",
    "    }\n",
    "\n",
    "    db.close();\n",
    "    cursor.close();\n",
    "    return students;\n",
    "}"
   ]
  },
  {
   "cell_type": "markdown",
   "id": "9a9f88d3-f5dc-4051-b47b-bedf2e45f1da",
   "metadata": {},
   "source": [
    "### **Adapter**"
   ]
  },
  {
   "cell_type": "markdown",
   "id": "eb0fc7ba-ad81-44f7-8f64-6119928bbcd5",
   "metadata": {},
   "source": [
    "Przejdźmy do `StudentAdapter`, w konstruktorze przekażemy `context` oraz `DBHandler`"
   ]
  },
  {
   "cell_type": "code",
   "execution_count": null,
   "id": "067abe3e-48b8-475d-8ba3-b954c241ae54",
   "metadata": {},
   "outputs": [],
   "source": [
    "public class StudentAdapter extends RecyclerView.Adapter<StudentAdapter.ViewHolder>{}"
   ]
  },
  {
   "cell_type": "markdown",
   "id": "1155c0bb-7aae-4577-a1a3-0823b488cafd",
   "metadata": {},
   "source": [
    "W metodzie `onCreateViewHolder` wykorzystamy `ViewBinding`"
   ]
  },
  {
   "cell_type": "code",
   "execution_count": null,
   "id": "d01b3f2a-c107-47f7-a374-845ce45d4d1f",
   "metadata": {},
   "outputs": [],
   "source": [
    "@NonNull\n",
    "@Override\n",
    "public ViewHolder onCreateViewHolder(@NonNull ViewGroup parent, int viewType) {\n",
    "    ItemRowBinding itemBinding = ItemRowBinding.inflate(\n",
    "            LayoutInflater.from(parent.getContext()), parent, false\n",
    "    );\n",
    "    return new ViewHolder(itemBinding);\n",
    "}"
   ]
  },
  {
   "cell_type": "markdown",
   "id": "b5f67927-f929-403b-b380-8a1a34e6bdff",
   "metadata": {},
   "source": [
    "W metodzie `onBindViewHolder` wywołujemy funkcję `bind` klasy `ViewHolder`"
   ]
  },
  {
   "cell_type": "code",
   "execution_count": null,
   "id": "beff29d4-9ec0-4b0c-a6c6-b7757cc2ff43",
   "metadata": {},
   "outputs": [],
   "source": [
    "@Override\n",
    "public void onBindViewHolder(@NonNull ViewHolder holder, int position) {\n",
    "    Student item = dbHelper.getStudents().get(position);\n",
    "    holder.bind(item);\n",
    "}"
   ]
  },
  {
   "cell_type": "markdown",
   "id": "6dfbc961-7ba6-46f9-903a-b7372ea5d175",
   "metadata": {},
   "source": [
    "Metoda `getItemCount` zawiera rozmiar całej bazy"
   ]
  },
  {
   "cell_type": "code",
   "execution_count": null,
   "id": "38b04865-d209-467a-af13-22f4c6b3e25d",
   "metadata": {},
   "outputs": [],
   "source": [
    "@Override\n",
    "public int getItemCount() {\n",
    "    return dbHelper.getStudents().size();\n",
    "}"
   ]
  },
  {
   "cell_type": "markdown",
   "id": "96657431-cb8b-4ed3-9f56-90d107e870c3",
   "metadata": {},
   "source": [
    "Przejdźmy do klasy `ViewHolder`"
   ]
  },
  {
   "cell_type": "code",
   "execution_count": null,
   "id": "b8809860-bb05-42f9-bb07-c4b55ea74ba4",
   "metadata": {},
   "outputs": [],
   "source": [
    "public class ViewHolder extends RecyclerView.ViewHolder {\n",
    "    private final ItemRowBinding itemBinding;\n",
    "    public ViewHolder(@NonNull ItemRowBinding itemBinding) {\n",
    "        super(itemBinding.getRoot());\n",
    "        this.itemBinding = itemBinding;\n",
    "    }"
   ]
  },
  {
   "cell_type": "markdown",
   "id": "ad7f208f-b312-49d5-966b-eee7ec9d5805",
   "metadata": {},
   "source": [
    "W metodzie `bind` w epirwszej kolejności ustawiamy pola `TextView`"
   ]
  },
  {
   "cell_type": "code",
   "execution_count": null,
   "id": "06174538-8656-4ed9-9523-fae8e341ab3a",
   "metadata": {},
   "outputs": [],
   "source": [
    "public void bind(Student item){\n",
    "    itemBinding.textViewName.setText(item.getName());\n",
    "    itemBinding.textViewIndex.setText(String.valueOf(item.getIndex()));\n",
    "    itemBinding.textViewId.setText(String.valueOf(item.getId()));\n",
    "}"
   ]
  },
  {
   "cell_type": "markdown",
   "id": "64f087b3-8247-47a7-8f38-cbe6bbeda2a2",
   "metadata": {},
   "source": [
    "Następnie obsłużmy metodę `onClick` dla `ImageView` odpowiadającego za usuwanie elementów"
   ]
  },
  {
   "cell_type": "code",
   "execution_count": null,
   "id": "b3fe68ff-084a-4732-a3ee-3965370b6bff",
   "metadata": {},
   "outputs": [],
   "source": [
    "itemBinding.imageViewDelete.setOnClickListener(v -> {\n",
    "    dbHelper.deleteStudent(item);\n",
    "    notifyItemRemoved(getAdapterPosition());\n",
    "});"
   ]
  },
  {
   "cell_type": "markdown",
   "id": "1ae9c66a-a6e2-4ef4-9892-d716faaae206",
   "metadata": {},
   "source": [
    "Następnie obsłużymy zdarzenie `onClick` pola `ImgaView` odpowiedzialnego za aktualizację wpisu, wywołamy w niej metodę `setupDialog` którą następnie zaimplementujemy"
   ]
  },
  {
   "cell_type": "code",
   "execution_count": null,
   "id": "366bcc4b-6242-4219-a011-6b9e0c219f81",
   "metadata": {},
   "outputs": [],
   "source": [
    "itemBinding.imageViewEdit.setOnClickListener(v -> {\n",
    "    setupDialog(item);\n",
    "});"
   ]
  },
  {
   "cell_type": "markdown",
   "id": "c40d5233-b758-4c45-928b-b7d55c7ce83f",
   "metadata": {},
   "source": [
    "Pełna metoda metoda `bind`"
   ]
  },
  {
   "cell_type": "code",
   "execution_count": null,
   "id": "8d108822-4eb5-4833-9224-fde49e12d7ff",
   "metadata": {},
   "outputs": [],
   "source": [
    "public void bind(Student item){\n",
    "    itemBinding.textViewName.setText(item.getName());\n",
    "    itemBinding.textViewIndex.setText(String.valueOf(item.getIndex()));\n",
    "    itemBinding.textViewId.setText(String.valueOf(item.getId()));\n",
    "\n",
    "    itemBinding.imageViewDelete.setOnClickListener(v -> {\n",
    "        dbHelper.deleteStudent(item);\n",
    "        notifyItemRemoved(getAdapterPosition());\n",
    "    });\n",
    "\n",
    "    itemBinding.imageViewEdit.setOnClickListener(v -> {\n",
    "        setupDialog(item);\n",
    "    });\n",
    "}"
   ]
  },
  {
   "cell_type": "markdown",
   "id": "260ad5ea-6a25-4aaf-890d-a93371722f37",
   "metadata": {},
   "source": [
    "Następnie do klasy `ViewHolder` dodajmy metodę tworzącą `Dialog` który posłuży do edycji. Również tutaj wykorzystamy `ViewBinding`"
   ]
  },
  {
   "cell_type": "code",
   "execution_count": null,
   "id": "b1e4d2ad-428e-419a-8b47-6abe15636008",
   "metadata": {},
   "outputs": [],
   "source": [
    "private void setupDialog(Student item){\n",
    "    Dialog dialog = new Dialog(context);\n",
    "    DialogUpdateBinding dialogBinding = DialogUpdateBinding.inflate(\n",
    "            LayoutInflater.from(context)\n",
    "    );\n",
    "    dialog.setCancelable(false);\n",
    "    dialog.setContentView(dialogBinding.getRoot());"
   ]
  },
  {
   "cell_type": "markdown",
   "id": "47cab2a2-f401-47fc-befd-463153f0b134",
   "metadata": {},
   "source": [
    "`setCancelable` ustawiony na `false` wyłączy domyślny przycisk `Cancel`. Następnie obsłużymy wszystkie elementy `Dialog`"
   ]
  },
  {
   "cell_type": "code",
   "execution_count": null,
   "id": "df33084a-131c-4715-a62b-d5eef1f28851",
   "metadata": {},
   "outputs": [],
   "source": [
    "dialogBinding.editTextIndexUpdate.setText(String.valueOf(item.getIndex()));\n",
    "dialogBinding.editTextNameUpdate.setText(item.getName());\n",
    "\n",
    "dialogBinding.buttonUpdate.setOnClickListener(v -> {\n",
    "    updateDialog(dialogBinding, item, dialog);\n",
    "});\n",
    "\n",
    "dialogBinding.buttonCancel.setOnClickListener(v -> {\n",
    "    dialog.dismiss();\n",
    "});\n",
    "dialog.show();"
   ]
  },
  {
   "cell_type": "markdown",
   "id": "b2c5cf29-f414-43c8-bac6-82d220c39c37",
   "metadata": {},
   "source": [
    "W obsłudze zdarzenia `onClick` przycisku `Update` wywołujemy metodę `updateDialog` przyjmującą trzy argumenty. Zaimplementujmy ją - chcemy wykonać aktualizację wpisu w bazie na podstawie zawartości pól `EditText`, w pierwszej kolejności sprawdzimy czy pola nie są puste"
   ]
  },
  {
   "cell_type": "code",
   "execution_count": null,
   "id": "5764e287-ff54-420c-8c85-9ec12081fbe4",
   "metadata": {},
   "outputs": [],
   "source": [
    "private void updateDialog(\n",
    "        DialogUpdateBinding binding,\n",
    "        Student item,\n",
    "        Dialog dialog){\n",
    "    String updateName = binding.editTextNameUpdate.getText().toString();\n",
    "    String updateIndex = binding.editTextIndexUpdate.getText().toString();\n",
    "\n",
    "    if (!updateName.isEmpty() && !updateIndex.isEmpty()){}"
   ]
  },
  {
   "cell_type": "markdown",
   "id": "d5a3b270-3bf6-4b78-8585-06cddf507cf5",
   "metadata": {},
   "source": [
    "Następnie wykonujemy `update` z klasy `dbHandler`, powiadamiamy adapter o zmianie i wyłączamy dialog"
   ]
  },
  {
   "cell_type": "code",
   "execution_count": null,
   "id": "3e513519-e7df-4e7c-8d65-3acfead02788",
   "metadata": {},
   "outputs": [],
   "source": [
    "if (!updateName.isEmpty() && !updateIndex.isEmpty()){\n",
    "    dbHelper.updateStudent(item.getId(), updateName, Integer.parseInt(updateIndex));\n",
    "    notifyItemChanged(item.getId() - 1);\n",
    "    dialog.dismiss();\n",
    "}"
   ]
  },
  {
   "cell_type": "markdown",
   "id": "b12e6fb3-c93d-48f8-bfe8-fed06cb53539",
   "metadata": {},
   "source": [
    "Pełny kod klasy `ViewHolder`"
   ]
  },
  {
   "cell_type": "code",
   "execution_count": null,
   "id": "641b78ec-94b7-46c1-8f66-37fa2fd2ffe3",
   "metadata": {},
   "outputs": [],
   "source": [
    "public class ViewHolder extends RecyclerView.ViewHolder {\n",
    "    private final ItemRowBinding itemBinding;\n",
    "    public ViewHolder(@NonNull ItemRowBinding itemBinding) {\n",
    "        super(itemBinding.getRoot());\n",
    "        this.itemBinding = itemBinding;\n",
    "    }\n",
    "\n",
    "    public void bind(Student item){\n",
    "        itemBinding.textViewName.setText(item.getName());\n",
    "        itemBinding.textViewIndex.setText(String.valueOf(item.getIndex()));\n",
    "        itemBinding.textViewId.setText(String.valueOf(item.getId()));\n",
    "\n",
    "        itemBinding.imageViewDelete.setOnClickListener(v -> {\n",
    "            dbHelper.deleteStudent(item);\n",
    "            notifyItemRemoved(item.getId() - 1);\n",
    "        });\n",
    "\n",
    "        itemBinding.imageViewEdit.setOnClickListener(v -> {\n",
    "            setupDialog(item);\n",
    "        });\n",
    "    }\n",
    "\n",
    "    private void setupDialog(Student item){\n",
    "        Dialog dialog = new Dialog(context);\n",
    "        DialogUpdateBinding dialogBinding = DialogUpdateBinding.inflate(\n",
    "                LayoutInflater.from(context)\n",
    "        );\n",
    "        dialog.setCancelable(false);\n",
    "        dialog.setContentView(dialogBinding.getRoot());\n",
    "\n",
    "        dialogBinding.editTextIndexUpdate.setText(String.valueOf(item.getIndex()));\n",
    "        dialogBinding.editTextNameUpdate.setText(item.getName());\n",
    "\n",
    "        dialogBinding.buttonUpdate.setOnClickListener(v -> {\n",
    "            updateDialog(dialogBinding, item, dialog);\n",
    "        });\n",
    "\n",
    "        dialogBinding.buttonCancel.setOnClickListener(v -> {\n",
    "            dialog.dismiss();\n",
    "        });\n",
    "        dialog.show();\n",
    "    }\n",
    "\n",
    "    private void updateDialog(\n",
    "            DialogUpdateBinding binding,\n",
    "            Student item,\n",
    "            Dialog dialog){\n",
    "        String updateName = binding.editTextNameUpdate.getText().toString();\n",
    "        String updateIndex = binding.editTextIndexUpdate.getText().toString();\n",
    "\n",
    "        if (!updateName.isEmpty() && !updateIndex.isEmpty()){\n",
    "            dbHelper.updateStudent(item.getId(), updateName, Integer.parseInt(updateIndex));\n",
    "            notifyItemChanged(item.getId() - 1);\n",
    "            dialog.dismiss();\n",
    "        }\n",
    "    }\n",
    "}"
   ]
  },
  {
   "cell_type": "markdown",
   "id": "218a7003-22f9-4876-a40d-9ab2ece54dfb",
   "metadata": {},
   "source": [
    "### **Aktywność**"
   ]
  },
  {
   "cell_type": "markdown",
   "id": "f56b4c27-3af8-4a7c-b7d9-21ac93cfb20c",
   "metadata": {},
   "source": [
    "Dodajmy `ViewBinding`"
   ]
  },
  {
   "cell_type": "code",
   "execution_count": null,
   "id": "d99cdd11-6c29-4e14-9870-24016608e041",
   "metadata": {},
   "outputs": [],
   "source": [
    "private ActivityMainBinding binding;\n",
    "\n",
    "    @Override\n",
    "    protected void onCreate(Bundle savedInstanceState) {\n",
    "        super.onCreate(savedInstanceState);\n",
    "        binding = ActivityMainBinding.inflate(getLayoutInflater());\n",
    "        setContentView(binding.getRoot());\n",
    "    }"
   ]
  },
  {
   "cell_type": "markdown",
   "id": "56bd4cf5-6f90-4945-873f-103034f76e5a",
   "metadata": {},
   "source": [
    "Zainicjujmy `DBHandler` oraz zamknijmy dostęp do bazy w metodzie `onDestroy`"
   ]
  },
  {
   "cell_type": "code",
   "execution_count": null,
   "id": "d8ec28cc-f325-49ba-ac65-a22607853a78",
   "metadata": {},
   "outputs": [],
   "source": [
    "class MainActivity : AppCompatActivity() {\n",
    "    private DBHelper dbHelper;\n",
    "    ...\n",
    "    @Override\n",
    "    protected void onCreate(Bundle savedInstanceState) {\n",
    "        super.onCreate(savedInstanceState);\n",
    "        binding = ActivityMainBinding.inflate(getLayoutInflater());\n",
    "        setContentView(binding.getRoot());\n",
    "\n",
    "        dbHelper = new DBHelper(this);\n",
    "    }\n",
    "    \n",
    "    @Override\n",
    "    protected void onDestroy() {\n",
    "        dbHelper.close();\n",
    "        super.onDestroy();\n",
    "    }\n",
    "}"
   ]
  },
  {
   "cell_type": "markdown",
   "id": "6f09759d-62b7-4514-9a14-f3f97c74fd3b",
   "metadata": {},
   "source": [
    "Dodajmy `RecyclerView` w metodzie `onCreate`"
   ]
  },
  {
   "cell_type": "code",
   "execution_count": null,
   "id": "dfc92515-96c8-41bd-9a77-166141de28bf",
   "metadata": {},
   "outputs": [],
   "source": [
    "binding.dataBaseRecyclerView.setLayoutManager(\n",
    "        new LinearLayoutManager(this)\n",
    ");\n",
    "binding.dataBaseRecyclerView.setAdapter(\n",
    "        new StudentAdapter(this, dbHelper)\n",
    ");"
   ]
  },
  {
   "cell_type": "markdown",
   "id": "98ac61fc-036d-4e64-89d1-e581c956f57f",
   "metadata": {},
   "source": [
    "Następnie obsłużmy zdarzenie `onClick` przycisku odpowiadającego za dodawanie elementów do bazy. Wpierw sprawdzamy czy pola `EditText` nie są puste, następnie wywołujemy metodę `addStudent` klasy `DBHandler`. Na koniec czyścimy pola `EditText` oraz powiadamiamy adapter o dodaniu nowej pozycji."
   ]
  },
  {
   "cell_type": "code",
   "execution_count": null,
   "id": "6ae96a62-c587-4524-9ab0-171ce619a7db",
   "metadata": {},
   "outputs": [],
   "source": [
    "binding.addButton.setOnClickListener(v -> {\n",
    "    String name = binding.editTextName.getText().toString();\n",
    "    String index = binding.editTextIndex.getText().toString();\n",
    "    if (!name.isEmpty() && !index.isEmpty()) {\n",
    "        dbHelper.addStudent(new Student(name, Integer.parseInt(index)));\n",
    "        binding.editTextIndex.getText().clear();\n",
    "        binding.editTextName.getText().clear();\n",
    "    }\n",
    "\n",
    "    Objects.requireNonNull(\n",
    "        binding.dataBaseRecyclerView.getAdapter())\n",
    "            .notifyItemInserted(dbHelper.getStudents().size());\n",
    "});"
   ]
  },
  {
   "cell_type": "markdown",
   "id": "d6f2c81a-a1b5-4378-8c9d-0a37dca05ce3",
   "metadata": {},
   "source": [
    "Możemy przetestować aplikację"
   ]
  },
  {
   "cell_type": "markdown",
   "id": "30c3afc4-a562-4b2c-a871-15d9b8b4bbcb",
   "metadata": {},
   "source": [
    "<table><tr><td><img src=\"https://media3.giphy.com/media/FIcgLsiTwUhfuSjM8X/giphy.gif\" width=\"150\" /></td><td><img src=\"https://media2.giphy.com/media/04Ir1MiMp02l2U1GO6/giphy.gif\" width=\"150\" /></td></tr></table>"
   ]
  }
 ],
 "metadata": {
  "kernelspec": {
   "display_name": "Java",
   "language": "java",
   "name": "java"
  },
  "language_info": {
   "codemirror_mode": "java",
   "file_extension": ".jshell",
   "mimetype": "text/x-java-source",
   "name": "Java",
   "pygments_lexer": "java",
   "version": "17+35-2724"
  }
 },
 "nbformat": 4,
 "nbformat_minor": 5
}
