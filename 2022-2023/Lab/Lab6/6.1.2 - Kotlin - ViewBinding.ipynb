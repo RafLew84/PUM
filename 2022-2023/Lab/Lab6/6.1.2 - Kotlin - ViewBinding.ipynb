{
 "cells": [
  {
   "cell_type": "markdown",
   "id": "7daff537-4e32-4ba8-82ed-fc3c7a0e66fb",
   "metadata": {},
   "source": [
    "## 6.1 View Binding"
   ]
  },
  {
   "cell_type": "markdown",
   "id": "62075f60-b206-49f3-ab9c-59a60446c75c",
   "metadata": {},
   "source": [
    "W tym przykładzie zapoznamy się z `View Binding`, który ułatwia pracę z plikami layoutu. Przykładowy projekt rozpoczniemy od dodania odpowiedniego wpisu do pliku `build.gradle(Module)`"
   ]
  },
  {
   "cell_type": "code",
   "execution_count": null,
   "id": "3cdfdebb-d446-43d5-aabc-59d4a3b92e4e",
   "metadata": {},
   "outputs": [],
   "source": [
    "android {\n",
    "    ...\n",
    "    buildFeatures {\n",
    "        viewBinding = true\n",
    "    }\n",
    "}"
   ]
  },
  {
   "cell_type": "markdown",
   "id": "98869116-bb18-4595-917f-d619dc7cc15e",
   "metadata": {},
   "source": [
    "Dodajmy pole `TextView` oraz `Button` do layoutu aktywności"
   ]
  },
  {
   "cell_type": "code",
   "execution_count": null,
   "id": "270f22ef-617c-401c-87a9-a31f5ece6448",
   "metadata": {},
   "outputs": [],
   "source": [
    "<?xml version=\"1.0\" encoding=\"utf-8\"?>\n",
    "<androidx.constraintlayout.widget.ConstraintLayout \n",
    "xmlns:android=\"http://schemas.android.com/apk/res/android\"\n",
    "    xmlns:app=\"http://schemas.android.com/apk/res-auto\"\n",
    "    xmlns:tools=\"http://schemas.android.com/tools\"\n",
    "    android:layout_width=\"match_parent\"\n",
    "    android:layout_height=\"match_parent\"\n",
    "    tools:context=\".MainActivity\">\n",
    "\n",
    "    <TextView\n",
    "        android:id=\"@+id/textview\"\n",
    "        android:layout_width=\"wrap_content\"\n",
    "        android:layout_height=\"wrap_content\"\n",
    "        android:text=\"TextView\"\n",
    "        android:textSize=\"36sp\"\n",
    "        app:layout_constraintBottom_toBottomOf=\"parent\"\n",
    "        app:layout_constraintEnd_toEndOf=\"parent\"\n",
    "        app:layout_constraintStart_toStartOf=\"parent\"\n",
    "        app:layout_constraintTop_toTopOf=\"parent\" />\n",
    "\n",
    "    <Button\n",
    "        android:id=\"@+id/button\"\n",
    "        android:layout_width=\"wrap_content\"\n",
    "        android:layout_height=\"wrap_content\"\n",
    "        android:text=\"Button\"\n",
    "        app:layout_constraintBottom_toBottomOf=\"parent\"\n",
    "        app:layout_constraintEnd_toEndOf=\"parent\"\n",
    "        app:layout_constraintStart_toStartOf=\"parent\"\n",
    "        app:layout_constraintTop_toBottomOf=\"@+id/textview\" />\n",
    "\n",
    "</androidx.constraintlayout.widget.ConstraintLayout>"
   ]
  },
  {
   "cell_type": "markdown",
   "id": "d57b8f25-5986-455f-8f03-36ac1d74fd24",
   "metadata": {},
   "source": [
    "Przejdźmy do klasy `MainActivity`, w pierwszym kroku musimy utworzyć instancję automatycznie utworzonej klasy - plik do którego się odnosimy nosi nazwę `activity_main.xml`, więc klasa będzie nosić nazwę `ActivityMainBinding`"
   ]
  },
  {
   "cell_type": "code",
   "execution_count": null,
   "id": "5c99475e-32ca-4d62-a444-d53250facd4c",
   "metadata": {},
   "outputs": [],
   "source": [
    "private val binding by lazy { ActivityMainBinding.inflate(layoutInflater) }"
   ]
  },
  {
   "cell_type": "markdown",
   "id": "d8fd8d5f-7327-4e2a-8625-27c87ea0a0cb",
   "metadata": {},
   "source": [
    "Następnie w metodzie `onCreate` wywołujemy `setContentView` z, nie jak do tej pory podanym layoutem przez klasę `R`, a odnosimy się przez `binding.root`"
   ]
  },
  {
   "cell_type": "code",
   "execution_count": null,
   "id": "a98c23e9-5e9b-4acf-9e5c-a501e2e2aba3",
   "metadata": {},
   "outputs": [],
   "source": [
    "override fun onCreate(savedInstanceState: Bundle?) {\n",
    "    super.onCreate(savedInstanceState)\n",
    "    val view = binding.root\n",
    "    setContentView(view)\n",
    "}"
   ]
  },
  {
   "cell_type": "markdown",
   "id": "c712b5ce-68d7-4e2a-96ac-6d26ae9542a9",
   "metadata": {},
   "source": [
    "Teraz przez `binding` możemy odnosić się do wszystkich pól zdefiniowanych (i posiadających `id`) w pliku `activity_main.xml`"
   ]
  },
  {
   "cell_type": "code",
   "execution_count": null,
   "id": "661915bb-1178-427b-a3a6-22fe69de9b82",
   "metadata": {},
   "outputs": [],
   "source": [
    "class MainActivity : AppCompatActivity() {\n",
    "\n",
    "    private val binding by lazy { ActivityMainBinding.inflate(layoutInflater) }\n",
    "\n",
    "    override fun onCreate(savedInstanceState: Bundle?) {\n",
    "        super.onCreate(savedInstanceState)\n",
    "        val view = binding.root\n",
    "        setContentView(view)\n",
    "\n",
    "        binding.textview.text = \"HELLO\"\n",
    "        binding.button.setOnClickListener {\n",
    "            binding.textview.text = \"Click!!!\"\n",
    "        }\n",
    "    }\n",
    "}"
   ]
  },
  {
   "cell_type": "markdown",
   "id": "dc4277cb-1122-4249-8827-ad8bdc4ab068",
   "metadata": {},
   "source": [
    "<img src=\"https://media4.giphy.com/media/BbVl93nVHsC440Q05K/giphy.gif?cid=790b76118175e5915c17aaa3fdc4ac317629892350ba9a2f&rid=giphy.gif&ct=g\" width=\"150\" />"
   ]
  },
  {
   "cell_type": "markdown",
   "id": "0a4e0818-af6a-4c8f-b751-8bb5c85e6931",
   "metadata": {},
   "source": [
    "Sytuacja nieco inaczej wygląda na fragmentach, dodajmy statycznie fragment do aktywności"
   ]
  },
  {
   "cell_type": "code",
   "execution_count": null,
   "id": "83bde416-9389-42d1-af19-ebff410c0876",
   "metadata": {},
   "outputs": [],
   "source": [
    "<?xml version=\"1.0\" encoding=\"utf-8\"?>\n",
    "<androidx.constraintlayout.widget.ConstraintLayout\n",
    "xmlns:android=\"http://schemas.android.com/apk/res/android\"\n",
    "    xmlns:app=\"http://schemas.android.com/apk/res-auto\"\n",
    "    xmlns:tools=\"http://schemas.android.com/tools\"\n",
    "    android:layout_width=\"match_parent\"\n",
    "    android:layout_height=\"match_parent\"\n",
    "    tools:context=\".MainActivity\">\n",
    "\n",
    "    <TextView\n",
    "        android:id=\"@+id/textview\"\n",
    "        android:layout_width=\"wrap_content\"\n",
    "        android:layout_height=\"wrap_content\"\n",
    "        android:text=\"TextView\"\n",
    "        android:textSize=\"36sp\"\n",
    "        app:layout_constraintEnd_toEndOf=\"parent\"\n",
    "        app:layout_constraintStart_toStartOf=\"parent\"\n",
    "        app:layout_constraintTop_toTopOf=\"parent\" />\n",
    "\n",
    "    <Button\n",
    "        android:id=\"@+id/button\"\n",
    "        android:layout_width=\"wrap_content\"\n",
    "        android:layout_height=\"wrap_content\"\n",
    "        android:text=\"Button\"\n",
    "        app:layout_constraintEnd_toEndOf=\"parent\"\n",
    "        app:layout_constraintStart_toStartOf=\"parent\"\n",
    "        app:layout_constraintTop_toBottomOf=\"@+id/textview\" />\n",
    "\n",
    "    <fragment\n",
    "        android:id=\"@+id/fragmentA\"\n",
    "        android:layout_width=\"match_parent\"\n",
    "        android:layout_height=\"0dp\"\n",
    "        android:layout_weight=\"1\"\n",
    "        android:name=\"pl.edu.uwr.pum.viewbindingkotlin.FragmentA\"\n",
    "        app:layout_constraintBottom_toBottomOf=\"parent\"\n",
    "        app:layout_constraintEnd_toEndOf=\"parent\"\n",
    "        app:layout_constraintStart_toStartOf=\"parent\"\n",
    "        app:layout_constraintTop_toBottomOf=\"@+id/button\" />\n",
    "\n",
    "</androidx.constraintlayout.widget.ConstraintLayout>"
   ]
  },
  {
   "cell_type": "markdown",
   "id": "33f09623-44e7-4bbb-a71c-9085dd63d0d1",
   "metadata": {},
   "source": [
    "Layout fragmentu będzie analogiczny jak aktywności"
   ]
  },
  {
   "cell_type": "code",
   "execution_count": null,
   "id": "6f7fbcd4-7508-4f64-8ed2-172f72c380f3",
   "metadata": {},
   "outputs": [],
   "source": [
    "<?xml version=\"1.0\" encoding=\"utf-8\"?>\n",
    "<LinearLayout xmlns:android=\"http://schemas.android.com/apk/res/android\"\n",
    "    xmlns:tools=\"http://schemas.android.com/tools\"\n",
    "    android:layout_width=\"match_parent\"\n",
    "    android:layout_height=\"match_parent\"\n",
    "    android:background=\"@color/teal_200\"\n",
    "    android:orientation=\"vertical\"\n",
    "    tools:context=\".FragmentA\">\n",
    "\n",
    "    <TextView\n",
    "        android:id=\"@+id/textviewFragment\"\n",
    "        android:layout_width=\"wrap_content\"\n",
    "        android:layout_height=\"wrap_content\"\n",
    "        android:layout_gravity=\"center_horizontal\"\n",
    "        android:text=\"TextView\"\n",
    "        android:textSize=\"36sp\" />\n",
    "\n",
    "    <Button\n",
    "        android:id=\"@+id/buttonFragment\"\n",
    "        android:layout_width=\"wrap_content\"\n",
    "        android:layout_height=\"wrap_content\"\n",
    "        android:layout_gravity=\"center_horizontal\"\n",
    "        android:text=\"Button\" />\n",
    "\n",
    "</LinearLayout>"
   ]
  },
  {
   "cell_type": "markdown",
   "id": "e2da4322-6ba1-4a44-8b35-5ae7aed87870",
   "metadata": {},
   "source": [
    "Przejdźmy od fragmentu. W pierwszej kolejności tworzymy zmienną"
   ]
  },
  {
   "cell_type": "code",
   "execution_count": null,
   "id": "b0313fb3-7cfb-42db-80b3-7e901a3b4a35",
   "metadata": {},
   "outputs": [],
   "source": [
    "private lateinit var binding: FragmentABinding"
   ]
  },
  {
   "cell_type": "markdown",
   "id": "5d83c989-8c9b-4932-b70d-2dc4718bdae7",
   "metadata": {},
   "source": [
    "Następnie w metodzie `onCreateView` wywołujemy metodę `inflate` i wracamy `binding.root`"
   ]
  },
  {
   "cell_type": "code",
   "execution_count": null,
   "id": "d87dd10f-f154-4402-a6de-00da3c6ae192",
   "metadata": {},
   "outputs": [],
   "source": [
    "override fun onCreateView(\n",
    "    inflater: LayoutInflater, container: ViewGroup?,\n",
    "    savedInstanceState: Bundle?\n",
    "): View {\n",
    "    binding = FragmentABinding.inflate(inflater, container, false)\n",
    "    return binding.root\n",
    "}"
   ]
  },
  {
   "cell_type": "markdown",
   "id": "379a8e41-e5bb-4e42-a4dc-99b80dadd4a6",
   "metadata": {},
   "source": [
    "W metodzie `onViewCreated` możemy, jak poprzednio, odnieść się do każdego pola zdefiniowanego w layoucie przez zmienną `binding`"
   ]
  },
  {
   "cell_type": "code",
   "execution_count": null,
   "id": "6bec6b5a-a08b-4a65-b566-1919f8c4bfe0",
   "metadata": {},
   "outputs": [],
   "source": [
    "override fun onViewCreated(view: View, savedInstanceState: Bundle?) {\n",
    "    super.onViewCreated(view, savedInstanceState)\n",
    "    binding.textviewFragment.text = \"HELLO\"\n",
    "    binding.buttonFragment.setOnClickListener {\n",
    "        binding.textviewFragment.text = \"Click!!!\"\n",
    "    }\n",
    "}"
   ]
  },
  {
   "cell_type": "markdown",
   "id": "fff7caf4-4417-4e9f-a0e9-5a5a52ccda44",
   "metadata": {},
   "source": [
    "<img src=\"https://media0.giphy.com/media/DW3PvRzm00xfO0fFWb/giphy.gif?cid=790b761195bafa38a1eedb3351e827530475866fb2ec318b&rid=giphy.gif&ct=g\" width=\"150\" />"
   ]
  },
  {
   "cell_type": "code",
   "execution_count": null,
   "id": "b7d48188-4a7d-4fb9-89f2-725016f8864f",
   "metadata": {},
   "outputs": [],
   "source": []
  }
 ],
 "metadata": {
  "kernelspec": {
   "display_name": "Kotlin",
   "language": "kotlin",
   "name": "kotlin"
  },
  "language_info": {
   "codemirror_mode": "text/x-kotlin",
   "file_extension": ".kt",
   "mimetype": "text/x-kotlin",
   "name": "kotlin",
   "nbconvert_exporter": "",
   "pygments_lexer": "kotlin",
   "version": "1.6.20-dev-6372"
  }
 },
 "nbformat": 4,
 "nbformat_minor": 5
}
