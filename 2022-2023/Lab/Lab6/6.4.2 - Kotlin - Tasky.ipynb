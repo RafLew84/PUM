{
 "cells": [
  {
   "cell_type": "markdown",
   "id": "5437febc-bf4c-4ded-9e83-ac55432923d3",
   "metadata": {},
   "source": [
    "## 6.4 Tasky"
   ]
  },
  {
   "cell_type": "markdown",
   "id": "32b8075d-aafb-4a8d-b687-3efab9aecb59",
   "metadata": {},
   "source": [
    "W tej aplikacji utworzymy prostą listę pogrupowanych zadań - po raz kolejny wykorzystamy `RecyclerView` w dwoma obiektami `ViewHolder`. Całą listę będziemy zapisywać i wczytywać wz pliku za pomocą `SharedPreferences` - do zapisu posłużymy się formatrem `JSON` i biblioteką do serializacji `Gson`. Aplikacja będzie posiadała tylko jeden `Fragment` na którym umieścimy listę i prosty formularz umożliwiający dodawanie kolejnych wpisów."
   ]
  },
  {
   "cell_type": "markdown",
   "id": "5c5777f0-0ec3-4c12-9de8-7bda8f9df78f",
   "metadata": {},
   "source": [
    "<table><tr><td><img src=\"https://media4.giphy.com/media/Dv16lqPAAbY3wcR5yQ/giphy.gif?cid=790b76110f283c94c4653f3110e6fecb2a9d0820a3829b21&rid=giphy.gif&ct=g\" width=\"200\" /></td><td><img src=\"https://media4.giphy.com/media/NTntAP53dVMiI7x2jO/giphy.gif?cid=790b76112a65996659d22cdbc3f09ca05eafa714f38f57d0&rid=giphy.gif&ct=g\" width=\"200\" /></td><td><img src=\"https://media2.giphy.com/media/V1hvzLlvSPlEzKhrjM/giphy.gif?cid=790b7611f83aa25dbb5b41859105e74c7fec193a551e4e61&rid=giphy.gif&ct=g\" width=\"200\" /></td></tr></table>"
   ]
  },
  {
   "cell_type": "markdown",
   "id": "6c05b81d-17d7-47f2-837c-1edb8f358803",
   "metadata": {},
   "source": [
    "### **layout**"
   ]
  },
  {
   "cell_type": "markdown",
   "id": "c5bbd798-6275-458f-b7f8-ed8a84b6657f",
   "metadata": {},
   "source": [
    "Rozpocznijmy od layoutu aktywności do którego dodamy `Fragment`"
   ]
  },
  {
   "cell_type": "code",
   "execution_count": null,
   "id": "7cfc4ded-e948-4098-9f8e-f6a085aab864",
   "metadata": {},
   "outputs": [],
   "source": [
    "<androidx.fragment.app.FragmentContainerView android:id=\"@+id/fragment_main\"\n",
    "    android:name=\"pl.udu.uwr.pum.taskykotlin.TaskyFragment\"\n",
    "    xmlns:android=\"http://schemas.android.com/apk/res/android\"\n",
    "    android:layout_width=\"match_parent\"\n",
    "    android:layout_height=\"match_parent\" />"
   ]
  },
  {
   "cell_type": "markdown",
   "id": "2b12ad2f-5fee-47e6-b1ae-d8acfc6bab92",
   "metadata": {},
   "source": [
    "oraz layoutu samego fragmentu"
   ]
  },
  {
   "cell_type": "code",
   "execution_count": null,
   "id": "5da7135f-ff86-44c9-b510-7c826f0307c6",
   "metadata": {},
   "outputs": [],
   "source": [
    "<?xml version=\"1.0\" encoding=\"utf-8\"?>\n",
    "<LinearLayout xmlns:android=\"http://schemas.android.com/apk/res/android\"\n",
    "    xmlns:app=\"http://schemas.android.com/apk/res-auto\"\n",
    "    xmlns:tools=\"http://schemas.android.com/tools\"\n",
    "    android:layout_width=\"match_parent\"\n",
    "    android:layout_height=\"match_parent\"\n",
    "    android:orientation=\"vertical\"\n",
    "    tools:context=\".TaskyFragment\">\n",
    "\n",
    "    <LinearLayout\n",
    "        android:layout_width=\"match_parent\"\n",
    "        android:layout_height=\"wrap_content\"\n",
    "        android:orientation=\"horizontal\">\n",
    "\n",
    "        <LinearLayout\n",
    "            android:layout_width=\"0dp\"\n",
    "            android:layout_weight=\"1\"\n",
    "            android:layout_height=\"wrap_content\"\n",
    "            android:layout_margin=\"4dp\"\n",
    "            android:orientation=\"horizontal\">\n",
    "\n",
    "            <com.google.android.material.textfield.TextInputLayout\n",
    "                android:layout_width=\"match_parent\"\n",
    "                android:layout_height=\"wrap_content\"\n",
    "                android:hint=\"zadanie\">\n",
    "\n",
    "                <com.google.android.material.textfield.TextInputEditText\n",
    "                    android:id=\"@+id/taskEditText\"\n",
    "                    android:layout_width=\"match_parent\"\n",
    "                    android:layout_height=\"wrap_content\"\n",
    "                    android:fontFamily=\"sans-serif\"\n",
    "                    android:textSize=\"15sp\" />\n",
    "            </com.google.android.material.textfield.TextInputLayout>\n",
    "        </LinearLayout>\n",
    "\n",
    "        <LinearLayout\n",
    "            android:layout_width=\"0dp\"\n",
    "            android:layout_weight=\"1\"\n",
    "            android:layout_margin=\"4dp\"\n",
    "            android:layout_height=\"wrap_content\"\n",
    "            android:orientation=\"horizontal\">\n",
    "\n",
    "            <com.google.android.material.textfield.TextInputLayout\n",
    "                android:layout_width=\"match_parent\"\n",
    "                android:layout_height=\"wrap_content\"\n",
    "                android:hint=\"kategoria\">\n",
    "\n",
    "                <com.google.android.material.textfield.TextInputEditText\n",
    "                    android:id=\"@+id/groupEditText\"\n",
    "                    android:layout_width=\"match_parent\"\n",
    "                    android:layout_height=\"wrap_content\"\n",
    "                    android:fontFamily=\"sans-serif\"\n",
    "                    android:textSize=\"15sp\" />\n",
    "            </com.google.android.material.textfield.TextInputLayout>\n",
    "        </LinearLayout>\n",
    "\n",
    "        <Button\n",
    "            android:id=\"@+id/addButton\"\n",
    "            android:layout_width=\"wrap_content\"\n",
    "            android:layout_gravity=\"center\"\n",
    "            android:text=\"dodaj\"\n",
    "            android:layout_margin=\"4dp\"\n",
    "            android:layout_height=\"wrap_content\"/>\n",
    "    </LinearLayout>\n",
    "\n",
    "    <androidx.recyclerview.widget.RecyclerView\n",
    "        android:id=\"@+id/rvTasky\"\n",
    "        android:layout_width=\"match_parent\"\n",
    "        android:layout_height=\"0dp\"\n",
    "        android:layout_weight=\"1\"\n",
    "        android:layout_margin=\"4dp\"/>\n",
    "\n",
    "    <Button\n",
    "        android:id=\"@+id/clearButton\"\n",
    "        android:layout_width=\"match_parent\"\n",
    "        android:layout_gravity=\"center\"\n",
    "        android:layout_marginBottom=\"8dp\"\n",
    "        android:text=\"czyść\"\n",
    "        android:layout_height=\"wrap_content\"/>\n",
    "\n",
    "</LinearLayout>"
   ]
  },
  {
   "cell_type": "markdown",
   "id": "066ab958-2ce2-4bb4-b863-1a960d8696fd",
   "metadata": {},
   "source": [
    "Dodajmy również layouty dla grupy oraz pojedynczego zadania\n",
    "\n",
    "`item_group_row.xml`"
   ]
  },
  {
   "cell_type": "code",
   "execution_count": null,
   "id": "f7b06de3-fbcf-4977-8e3c-ab0d4b43af61",
   "metadata": {},
   "outputs": [],
   "source": [
    "<?xml version=\"1.0\" encoding=\"utf-8\"?>\n",
    "<LinearLayout xmlns:android=\"http://schemas.android.com/apk/res/android\"\n",
    "    xmlns:app=\"http://schemas.android.com/apk/res-auto\"\n",
    "    android:layout_width=\"match_parent\"\n",
    "    android:layout_height=\"wrap_content\"\n",
    "    android:orientation=\"horizontal\">\n",
    "\n",
    "    <TextView\n",
    "        android:id=\"@+id/groupTextView\"\n",
    "        android:layout_width=\"0dp\"\n",
    "        android:layout_weight=\"1\"\n",
    "        android:layout_height=\"wrap_content\"\n",
    "        android:layout_margin=\"4dp\"\n",
    "        android:text=\"Group\"\n",
    "        android:layout_marginStart=\"8dp\"\n",
    "        android:textSize=\"24sp\" />\n",
    "\n",
    "</LinearLayout>"
   ]
  },
  {
   "cell_type": "markdown",
   "id": "fdcd6008-b3c2-4286-b62f-77d8a852d484",
   "metadata": {},
   "source": [
    "`item_task_row.xml`"
   ]
  },
  {
   "cell_type": "code",
   "execution_count": null,
   "id": "46c1948f-d27b-465a-bfc2-6e5f91c5e22d",
   "metadata": {},
   "outputs": [],
   "source": [
    "<?xml version=\"1.0\" encoding=\"utf-8\"?>\n",
    "<androidx.constraintlayout.widget.ConstraintLayout\n",
    "xmlns:android=\"http://schemas.android.com/apk/res/android\"\n",
    "    xmlns:app=\"http://schemas.android.com/apk/res-auto\"\n",
    "    android:layout_width=\"match_parent\"\n",
    "    android:layout_height=\"wrap_content\">\n",
    "\n",
    "    <TextView\n",
    "        android:id=\"@+id/taskTextView\"\n",
    "        android:layout_width=\"match_parent\"\n",
    "        android:layout_height=\"wrap_content\"\n",
    "        app:layout_constraintEnd_toEndOf=\"parent\"\n",
    "        android:layout_margin=\"4dp\"\n",
    "        android:layout_marginStart=\"8dp\"\n",
    "        android:textSize=\"18sp\"\n",
    "        android:paddingStart=\"36dp\"\n",
    "        app:layout_constraintStart_toStartOf=\"parent\"\n",
    "        app:layout_constraintTop_toTopOf=\"parent\" />\n",
    "\n",
    "\n",
    "</androidx.constraintlayout.widget.ConstraintLayout>"
   ]
  },
  {
   "cell_type": "markdown",
   "id": "221c719a-3be4-4996-93e3-d09dd4de2be9",
   "metadata": {},
   "source": [
    "### **model**"
   ]
  },
  {
   "cell_type": "markdown",
   "id": "b83366b0-1bf2-42ac-8f87-bf9e75335968",
   "metadata": {},
   "source": [
    "Zdefiniujmy model danych, będziemy posiadać dwie klasy\n",
    "- `Task` - dla pojedynczego zadania\n",
    "- `TaskGroup` - dla nagłówka\n",
    "\n",
    "Na potrzeby `RecyclerView` zdefiniujemy jeszcze trzy typy\n",
    "- `TaskRow` - reprezentujący rząd\n",
    "- `Header` - reprezentujący nagłówek\n",
    "- `Task` - reprezentujący pojedyncze zadanie"
   ]
  },
  {
   "cell_type": "code",
   "execution_count": null,
   "id": "9d4f98da-80f7-43ef-b240-fba7d5a5c2ed",
   "metadata": {},
   "outputs": [],
   "source": [
    "sealed class TaskRow(val rowType: Int) {\n",
    "    data class Task(val name: String) :\n",
    "        TaskRow(TYPE_TASK)\n",
    "\n",
    "    data class Header(val name: String, var isExpanded: Boolean = true) : TaskRow(TYPE_HEADER)\n",
    "\n",
    "    companion object {\n",
    "        const val TYPE_HEADER = 0\n",
    "        const val TYPE_TASK = 1\n",
    "    }\n",
    "}\n",
    "\n",
    "data class TaskGroup (val name: String)\n",
    "data class Task(val name: String, val type: TaskGroup)"
   ]
  },
  {
   "cell_type": "markdown",
   "id": "2ccf7d5c-215f-48f1-b18d-004f181a1e86",
   "metadata": {},
   "source": [
    "### **Adapter**"
   ]
  },
  {
   "cell_type": "markdown",
   "id": "e460dcf3-7acb-468a-970a-548e5c82bb40",
   "metadata": {},
   "source": [
    "Przejdźmy do `TaskAdapter`"
   ]
  },
  {
   "cell_type": "code",
   "execution_count": null,
   "id": "5dec7421-0b20-4e60-8123-2d1bbdb9dfc1",
   "metadata": {},
   "outputs": [],
   "source": [
    "class TaskAdapter(private val tasksList: MutableList<Task>) \n",
    "    : RecyclerView.Adapter<RecyclerView.ViewHolder>() {}"
   ]
  },
  {
   "cell_type": "markdown",
   "id": "bc480dcb-9ab8-4997-a541-530fb627fa4a",
   "metadata": {},
   "source": [
    "Zadania będziemy przechowywać w liście, w pierwszym kroku musimy pogrupować całą listę"
   ]
  },
  {
   "cell_type": "code",
   "execution_count": null,
   "id": "624a504c-caf1-46c5-a776-1500d43f35f5",
   "metadata": {},
   "outputs": [],
   "source": [
    "private val groupedList = tasksList.groupBy { it.type }.flatMap {\n",
    "    listOf(TaskRow.Header(it.key.name), *(it.value.map { task ->\n",
    "        (TaskRow.Task(task.name))\n",
    "    }).toTypedArray())\n",
    "}.toMutableList()"
   ]
  },
  {
   "cell_type": "markdown",
   "id": "a7195a47-2e27-46f7-8a31-7b787d7560ba",
   "metadata": {},
   "source": [
    "W pierwszym kroku grupujemy wszystkie zadania według type (`TYPE_HEADER` lub `TYPE_TASK`), następnie wykorzystujemy `flatMap` aby pozbyć się wewnętrznych list. W kolejny kroku tworzymy listę w której pierwszym elementem jest nagłówek, kolejnymi są wszystkie zadania z tym nagłówkiem. Na końcu zwracamy jako listę mutowalną.\n",
    "\n",
    "Kolejnym krokiem będzie zdefiniowanie dwóch `ViewHolder` dla nagłówka i zadania."
   ]
  },
  {
   "cell_type": "code",
   "execution_count": null,
   "id": "785da238-8977-46d3-a1c5-af8ce885a7c2",
   "metadata": {},
   "outputs": [],
   "source": [
    "private class TaskViewHolder(private val itemBinding: ItemTaskRowBinding)\n",
    "    : RecyclerView.ViewHolder(itemBinding.root) {\n",
    "    fun bind(task: TaskRow.Task) {\n",
    "        itemBinding.taskTextView.text = task.name\n",
    "    }\n",
    "}\n",
    "\n",
    "private class HeaderViewHolder(private val itemBinding: ItemGroupRowBinding)\n",
    "    : RecyclerView.ViewHolder(itemBinding.root) {\n",
    "    fun bind(header: TaskRow.Header) {\n",
    "        itemBinding.groupTextView.text = header.name\n",
    "    }\n",
    "}"
   ]
  },
  {
   "cell_type": "markdown",
   "id": "81e873f5-c894-4e1c-84fb-9c86b6e094c2",
   "metadata": {},
   "source": [
    "Przejdźmy do metod `RecyclerView`. W `onCreateViewHolder` musimy zwrócić odpowiedni `ViewHolder`"
   ]
  },
  {
   "cell_type": "code",
   "execution_count": null,
   "id": "ebc9a408-ba83-46ab-9dcb-46a1d72c6cc4",
   "metadata": {},
   "outputs": [],
   "source": [
    "override fun onCreateViewHolder(parent: ViewGroup, viewType: Int): RecyclerView.ViewHolder {\n",
    "    return when (viewType) {\n",
    "        TaskRow.TYPE_TASK -> TaskViewHolder(\n",
    "            ItemTaskRowBinding.inflate(\n",
    "                LayoutInflater.from(parent.context), parent, false)\n",
    "        )\n",
    "        TaskRow.TYPE_HEADER -> HeaderViewHolder(\n",
    "            ItemGroupRowBinding.inflate(\n",
    "                LayoutInflater.from(parent.context), parent, false)\n",
    "        )\n",
    "        else -> throw IllegalArgumentException(\"Wrong row type\")\n",
    "    }\n",
    "}"
   ]
  },
  {
   "cell_type": "markdown",
   "id": "9cbcfb62-5d65-41d9-ae6d-46daed783e63",
   "metadata": {},
   "source": [
    "Aby to zrobić musimy nadpisać metodę `getItemViewType`"
   ]
  },
  {
   "cell_type": "code",
   "execution_count": null,
   "id": "84697283-6c50-4126-b9c5-841f7b3fbc1b",
   "metadata": {},
   "outputs": [],
   "source": [
    "override fun getItemViewType(position: Int): Int = groupedList[position].rowType"
   ]
  },
  {
   "cell_type": "markdown",
   "id": "237051d9-1bab-46e6-bcb2-e3bea745b410",
   "metadata": {},
   "source": [
    "`getItemCount` jest rozmiarem naszej pogrupowanej listy"
   ]
  },
  {
   "cell_type": "code",
   "execution_count": null,
   "id": "05b56e31-9328-4827-9cd9-b0ccb3e9e645",
   "metadata": {},
   "outputs": [],
   "source": [
    "override fun getItemCount(): Int = groupedList.size"
   ]
  },
  {
   "cell_type": "markdown",
   "id": "ac6422f2-346f-4470-9d38-accd68703f2e",
   "metadata": {},
   "source": [
    "Na koniec dodajemy implementację metody `onBindViewHolder`."
   ]
  },
  {
   "cell_type": "code",
   "execution_count": null,
   "id": "b210a0c3-890e-4bcc-b8b7-3c5a107bdff7",
   "metadata": {},
   "outputs": [],
   "source": [
    "override fun onBindViewHolder(holder: RecyclerView.ViewHolder, position: Int) {\n",
    "    when (val taskRow = groupedList[position]) {\n",
    "        is TaskRow.Task -> (holder as TaskViewHolder).bind(taskRow)\n",
    "        is TaskRow.Header -> (holder as HeaderViewHolder).bind(taskRow)\n",
    "    }\n",
    "}"
   ]
  },
  {
   "cell_type": "markdown",
   "id": "c3be7fdd-3c93-476c-9c6a-36693daa2fab",
   "metadata": {},
   "source": [
    "Przejdźmy do fragmentu i dodajmy `RecyclerView`"
   ]
  },
  {
   "cell_type": "code",
   "execution_count": null,
   "id": "a4b7a228-176a-420f-9c63-2a5712298923",
   "metadata": {},
   "outputs": [],
   "source": [
    "class TaskyFragment : Fragment() {\n",
    "\n",
    "    private lateinit var binding: FragmentTaskyBinding\n",
    "\n",
    "    override fun onCreateView(\n",
    "        inflater: LayoutInflater, container: ViewGroup?,\n",
    "        savedInstanceState: Bundle?\n",
    "    ): View {\n",
    "        binding = FragmentTaskyBinding.inflate(inflater, container, false)\n",
    "        return binding.root\n",
    "    }\n",
    "\n",
    "    override fun onViewCreated(view: View, savedInstanceState: Bundle?) {\n",
    "        super.onViewCreated(view, savedInstanceState)\n",
    "        val tasks: MutableList<Task> = DataProvider.dummyData.toMutableList()\n",
    "        binding.rvTasky.apply {\n",
    "            layoutManager = LinearLayoutManager(context)\n",
    "            adapter = TaskAdapter(tasks)\n",
    "        }\n",
    "    }\n",
    "}"
   ]
  },
  {
   "cell_type": "markdown",
   "id": "77e354e9-bda3-47ac-a7cb-f0f7a1839d0c",
   "metadata": {},
   "source": [
    "W pliku `DataProvider` dodajmy dane testowe"
   ]
  },
  {
   "cell_type": "code",
   "execution_count": null,
   "id": "d5d85697-e6ae-4f45-82e4-89011f029f1e",
   "metadata": {},
   "outputs": [],
   "source": [
    "object DataProvider {\n",
    "    val dummyData = listOf(\n",
    "        Task(\"task1\", TaskGroup(\"Group 1\")),\n",
    "        Task(\"task2\", TaskGroup(\"Group 1\")),\n",
    "        Task(\"task3\", TaskGroup(\"Group 1\")),\n",
    "        Task(\"task4\", TaskGroup(\"Group 1\")),\n",
    "        Task(\"task5\", TaskGroup(\"Group 1\")),\n",
    "        Task(\"task a\", TaskGroup(\"Group 2\")),\n",
    "        Task(\"task b\", TaskGroup(\"Group 2\")),\n",
    "        Task(\"task c\", TaskGroup(\"Group 2\")),\n",
    "        Task(\"task d\", TaskGroup(\"Group 2\"))\n",
    "    )\n",
    "}"
   ]
  },
  {
   "cell_type": "markdown",
   "id": "16a312d8-e8db-485f-b5cb-931ff3501c12",
   "metadata": {},
   "source": [
    "Możemy przetestować aplikację"
   ]
  },
  {
   "cell_type": "markdown",
   "id": "2ef0dfe2-1d01-43b9-9b0c-cfa09b33c0fb",
   "metadata": {},
   "source": [
    "<img src=\"https://media3.giphy.com/media/qoAHLzTQ0PezrKEhWH/giphy.gif?cid=790b7611c96fcee70976ddb748e72df1f3c57af60cc984ef&rid=giphy.gif&ct=g\" width=\"150\" />"
   ]
  },
  {
   "cell_type": "markdown",
   "id": "379e674e-155c-417b-9540-05c4ddccf377",
   "metadata": {},
   "source": [
    "Wróćmy do adaptera i napiszmy metodę umożliwiającą dodanie elementu. Chcemy dodać zadanie do właściwej grupy, na koniec wszystkich zadań. Potrzebujemy metodę zwracającą listę wszystkich zadań przynależących do danej grupy"
   ]
  },
  {
   "cell_type": "code",
   "execution_count": null,
   "id": "f5908025-1746-4cc3-b131-60cb3969e622",
   "metadata": {},
   "outputs": [],
   "source": [
    "private fun subList(groupName: String): List<TaskRow>{\n",
    "    return tasksList\n",
    "        .filter { it.type.name == groupName }\n",
    "        .map {TaskRow.Task(it.name)}\n",
    "}"
   ]
  },
  {
   "cell_type": "markdown",
   "id": "bfe14283-19f6-478b-b214-5d348da286d9",
   "metadata": {},
   "source": [
    "Następnie dodajmy metodę `add`"
   ]
  },
  {
   "cell_type": "code",
   "execution_count": null,
   "id": "6ec75565-e706-435b-bcca-0788aa0d165a",
   "metadata": {},
   "outputs": [],
   "source": [
    "fun add(task: Task, context: Context){}"
   ]
  },
  {
   "cell_type": "markdown",
   "id": "7ce2a661-07be-4660-b102-590c6ee9f5bd",
   "metadata": {},
   "source": [
    "W pierwszym kroku dodajmy element na listę zadań"
   ]
  },
  {
   "cell_type": "code",
   "execution_count": null,
   "id": "6cadd0e1-6ff0-496c-9f75-061983082cdf",
   "metadata": {},
   "outputs": [],
   "source": [
    "tasksList.add(task)"
   ]
  },
  {
   "cell_type": "markdown",
   "id": "067ff31e-4742-4706-b9b6-2bc7898d21c3",
   "metadata": {},
   "source": [
    "Znajdźmy nagłówek zadania (jeżeli istnieje)"
   ]
  },
  {
   "cell_type": "code",
   "execution_count": null,
   "id": "87dc5d10-c0ed-4a30-8cff-baa4e138ba2d",
   "metadata": {},
   "outputs": [],
   "source": [
    "val header = groupedList\n",
    "    .filterIsInstance<TaskRow.Header>()\n",
    "    .find { it.name == task.type.name }"
   ]
  },
  {
   "cell_type": "markdown",
   "id": "9b47a967-b5a2-4f4b-8b0b-2a79fbcf6568",
   "metadata": {},
   "source": [
    "Jeżeli nagłówek nie istnieje tworzymy go i dodajemy na listę, następnie dodajemy samo zadanie i wysyłamy odpowiednie powiadomienie do adaptera"
   ]
  },
  {
   "cell_type": "code",
   "execution_count": null,
   "id": "c346ef54-b194-4d6b-a8cf-7dabff9a3775",
   "metadata": {},
   "outputs": [],
   "source": [
    "if (header == null)\n",
    "    groupedList.apply {\n",
    "        add(TaskRow.Header(task.type.name))\n",
    "        add(TaskRow.Task(task.name))\n",
    "        notifyItemInserted(groupedList.size)\n",
    "    }"
   ]
  },
  {
   "cell_type": "markdown",
   "id": "17401657-3303-4190-a03b-869e7cad00b9",
   "metadata": {},
   "source": [
    "Jeżeli nagłówek istnieje chcemy dodać zadanie na koniec podlisty"
   ]
  },
  {
   "cell_type": "code",
   "execution_count": null,
   "id": "08235941-9875-4599-b6e9-e08daa8d84dd",
   "metadata": {},
   "outputs": [],
   "source": [
    "else {\n",
    "    val i = groupedList.indexOf(TaskRow.Header(task.type.name))\n",
    "    groupedList.add(i + subList(task.type.name).size, TaskRow.Task(task.name))\n",
    "    notifyItemInserted(i + subList(task.type.name).size)\n",
    "}"
   ]
  },
  {
   "cell_type": "markdown",
   "id": "961c7d81-2b83-40a6-8fb4-53f665af40cd",
   "metadata": {},
   "source": [
    "W naszym fragmencie obsłużmy `onClick` przycisku odpowiadającego za dodanie nowego zadania."
   ]
  },
  {
   "cell_type": "code",
   "execution_count": null,
   "id": "02380809-f439-42cc-ab85-3831822ea6c0",
   "metadata": {},
   "outputs": [],
   "source": [
    "binding.addButton.setOnClickListener {\n",
    "    val task = binding.taskEditText.text.toString()\n",
    "    val cat = binding.groupEditText.text.toString()\n",
    "\n",
    "    if (task.isNotEmpty() && cat.isNotEmpty()) {\n",
    "        (binding.rvTasky.adapter as TaskAdapter).add(Task(task, TaskGroup(cat)), requireContext())\n",
    "        binding.groupEditText.text?.clear()\n",
    "        binding.taskEditText.text?.clear()\n",
    "    }\n",
    "}"
   ]
  },
  {
   "cell_type": "markdown",
   "id": "5260c413-6dc3-466b-a208-c35e2066f708",
   "metadata": {},
   "source": [
    "Dodajmy również obsługę przycisku czyszczącego całą listę"
   ]
  },
  {
   "cell_type": "code",
   "execution_count": null,
   "id": "695247ac-1595-4281-9936-75041031e722",
   "metadata": {},
   "outputs": [],
   "source": [
    "binding.clearButton.setOnClickListener {\n",
    "    (binding.rvTasky.adapter as TaskAdapter).clear(requireContext())\n",
    "}"
   ]
  },
  {
   "cell_type": "markdown",
   "id": "f370215e-7740-4840-a59b-5a64b72773de",
   "metadata": {},
   "source": [
    "Oraz zaimplementujmy metodę `clear` w klasie `TaskAdapter`"
   ]
  },
  {
   "cell_type": "code",
   "execution_count": null,
   "id": "aee9a604-771e-48f2-97f6-764785b2f288",
   "metadata": {},
   "outputs": [],
   "source": [
    "fun clear(context: Context){\n",
    "    tasksList.clear()\n",
    "    notifyItemRangeRemoved(0, groupedList.size)\n",
    "    groupedList.clear()\n",
    "}"
   ]
  },
  {
   "cell_type": "markdown",
   "id": "32720dd8-52ee-4446-a199-56f261db87f5",
   "metadata": {},
   "source": [
    "Możemy przetestować aplikację"
   ]
  },
  {
   "cell_type": "markdown",
   "id": "110fb707-1cc3-4b20-a266-f3d982791d64",
   "metadata": {},
   "source": [
    "<img src=\"https://media0.giphy.com/media/sJcy5w1ByfcZ7g50LC/giphy.gif?cid=790b761149c8246e2b3f29cede919b77aff2aff10a7990c3&rid=giphy.gif&ct=g\" width=\"150\" />"
   ]
  },
  {
   "cell_type": "markdown",
   "id": "72e028ef-07ce-4d82-9ed0-5ddcac3d5ce7",
   "metadata": {},
   "source": [
    "### **SharedPreferences -- JSON**"
   ]
  },
  {
   "cell_type": "markdown",
   "id": "90c2a53e-93ec-4cde-81b8-c1a1592d25bd",
   "metadata": {},
   "source": [
    "Ostatnim krokiem będzie zapisanie listy zadań do pliku. W tym celu utwórzmy plik `SharedPrefUtil` i dodajmy odpowiednie elementy. Będziemy potrzebować dwie stałe\n",
    "- nazwę pliku\n",
    "- klucz listy"
   ]
  },
  {
   "cell_type": "code",
   "execution_count": null,
   "id": "26b807e5-75ef-46a5-8fcd-018239e663dd",
   "metadata": {},
   "outputs": [],
   "source": [
    "private const val TASK_LIST = \"tasks\"\n",
    "private const val TASK_FILE = \"task_file\""
   ]
  },
  {
   "cell_type": "markdown",
   "id": "97cd049d-8b7b-4229-9417-61a52a39c3a2",
   "metadata": {},
   "source": [
    "Chcemy skorzystać z formatu `json`, więc wykorzystamy bibliotekę `Gson` aby przygotować odpowiednio `String` do zapisu i odczytu. Musimy dodać tą bibliotekę do zależności w pliku `gradle`"
   ]
  },
  {
   "cell_type": "code",
   "execution_count": null,
   "id": "1bbae03f-53bf-4095-b861-88aa8d40a2fc",
   "metadata": {},
   "outputs": [],
   "source": [
    "implementation 'com.google.code.gson:gson:2.9.0'"
   ]
  },
  {
   "cell_type": "markdown",
   "id": "1bdca5e4-ac68-4fe1-882c-da6545c5c522",
   "metadata": {},
   "source": [
    "Następnie zaimplementujmy metodę pozwalającą zapisać dane"
   ]
  },
  {
   "cell_type": "code",
   "execution_count": null,
   "id": "e0fac670-df31-47ff-96c6-f5ec613203d3",
   "metadata": {},
   "outputs": [],
   "source": [
    "fun saveTaskList(context: Context, list: List<Task>) {}"
   ]
  },
  {
   "cell_type": "markdown",
   "id": "4afdb3b4-1736-4fc8-af31-eb5be31d71b6",
   "metadata": {},
   "source": [
    "W pierwszym kroku utwórzmy odpowiednio sformatowany `String` za pomocą biblioteki `Gson`"
   ]
  },
  {
   "cell_type": "code",
   "execution_count": null,
   "id": "22a7dba1-8546-45f8-aab5-d25b7df84f2e",
   "metadata": {},
   "outputs": [],
   "source": [
    "val json = Gson().toJson(list)"
   ]
  },
  {
   "cell_type": "markdown",
   "id": "d585afca-43ca-43f8-9e9e-59d18a04263a",
   "metadata": {},
   "source": [
    "Następnie dodajmy ten `String` do `SharedPreferences` powiązanego z aplikacją"
   ]
  },
  {
   "cell_type": "code",
   "execution_count": null,
   "id": "09ff3ef3-7092-4607-b79c-adf878c858fd",
   "metadata": {},
   "outputs": [],
   "source": [
    "val sharedPreferences = context.getSharedPreferences(TASK_FILE, MODE_PRIVATE)\n",
    "sharedPreferences.edit().putString(TASK_LIST, json).apply()"
   ]
  },
  {
   "cell_type": "markdown",
   "id": "5fa8056b-b27c-4907-8360-6f179498cb1c",
   "metadata": {},
   "source": [
    "Druga metoda pozwoli odczytać zapisany plik."
   ]
  },
  {
   "cell_type": "code",
   "execution_count": null,
   "id": "8385f6fb-6f63-4d05-a5d3-f07d90eec364",
   "metadata": {},
   "outputs": [],
   "source": [
    "fun getTasksList(context: Context): List<Task> {}"
   ]
  },
  {
   "cell_type": "markdown",
   "id": "fc2b3620-bc9c-4efb-9916-a4a0fd0ae343",
   "metadata": {},
   "source": [
    "Po kluczu rozpakowujemy `String` z obiektu `SharedPreferences`"
   ]
  },
  {
   "cell_type": "markdown",
   "id": "c2b51e43-ef6c-4b69-891e-0c56b92a5d61",
   "metadata": {},
   "source": [
    "val sharedPreferences = context.getSharedPreferences(TASK_FILE, MODE_PRIVATE)\n",
    "val json = sharedPreferences.getString(TASK_LIST, \"\")"
   ]
  },
  {
   "cell_type": "markdown",
   "id": "354a1e5e-6a4e-4e05-bd5b-89d9d836e778",
   "metadata": {},
   "source": [
    "Jeżeli dostaniemy `null` metoda zwraca pustą listę"
   ]
  },
  {
   "cell_type": "code",
   "execution_count": null,
   "id": "09fc52b9-7cd3-4a82-a82a-6f8df3cb45e7",
   "metadata": {},
   "outputs": [],
   "source": [
    "if (json.isNullOrEmpty()) {\n",
    "    return emptyList()\n",
    "}"
   ]
  },
  {
   "cell_type": "markdown",
   "id": "8b0131d7-0bcd-4e9b-ba7a-4b0be35fe545",
   "metadata": {},
   "source": [
    "W przeciwnym razie rozpakowujemy listę korzystając z bibllioteki `Gson`. Musimy sprecyzować co dokładnie `Gson` ma przekonwertować na listę - musimy jawnie podać typ. O ile w przypadku pojedynczych obiektów nie jest to problemem (przykładowo `Task.class`), o tyle w przypadku listy obiektów musimy wykorzystać typy generyczne czasu wykonania `TypeToken` (więcej informacji [tutaj](https://helw.net/2017/11/09/runtime-generics-in-an-erasure-world/))"
   ]
  },
  {
   "cell_type": "code",
   "execution_count": null,
   "id": "c8da1437-4745-44f3-8b5b-56ee4f3d6fd9",
   "metadata": {},
   "outputs": [],
   "source": [
    "val type = object : TypeToken<ArrayList<Task>>() {}.type\n",
    "return Gson().fromJson(json, type)"
   ]
  },
  {
   "cell_type": "markdown",
   "id": "aea03b49-d019-4bef-99f9-29c9953d49f8",
   "metadata": {},
   "source": [
    "Metody wywołujemy w wewnątrz metody `add` i `clear` klasy `TaskAdapter`"
   ]
  },
  {
   "cell_type": "code",
   "execution_count": null,
   "id": "f7bf1c37-e1d4-4e86-a8a7-9015da34c4de",
   "metadata": {},
   "outputs": [],
   "source": [
    "fun add(task: Task, context: Context){\n",
    "    tasksList.add(task)\n",
    "    saveTaskList(context, tasksList)\n",
    "    ...\n",
    "}\n",
    "\n",
    "fun clear(context: Context){\n",
    "    tasksList.clear()\n",
    "    notifyItemRangeRemoved(0, groupedList.size)\n",
    "    groupedList.clear()\n",
    "    saveTaskList(context, tasksList)\n",
    "}"
   ]
  },
  {
   "cell_type": "markdown",
   "id": "19830d1a-fe48-4c2a-ba07-93f3eb76701d",
   "metadata": {},
   "source": [
    "oraz w `onViewCreated` klsay `TaskyFragment`"
   ]
  },
  {
   "cell_type": "code",
   "execution_count": null,
   "id": "72f1cf60-2fc2-4c05-b884-2f8e229884ee",
   "metadata": {},
   "outputs": [],
   "source": [
    "val tasks: MutableList<Task> =\n",
    "    getTasksList(requireContext()).toMutableList()"
   ]
  },
  {
   "cell_type": "markdown",
   "id": "e80d0d4f-201f-4b25-95ec-55b6b7f4536b",
   "metadata": {},
   "source": [
    "Możemy przetestować aplikację."
   ]
  },
  {
   "cell_type": "markdown",
   "id": "25e09a54-cdab-4600-b2a7-9b21c65757a6",
   "metadata": {},
   "source": [
    "<table><tr><td><img src=\"https://media4.giphy.com/media/Dv16lqPAAbY3wcR5yQ/giphy.gif?cid=790b76110f283c94c4653f3110e6fecb2a9d0820a3829b21&rid=giphy.gif&ct=g\" width=\"150\" /></td><td><img src=\"https://media4.giphy.com/media/NTntAP53dVMiI7x2jO/giphy.gif?cid=790b76112a65996659d22cdbc3f09ca05eafa714f38f57d0&rid=giphy.gif&ct=g\" width=\"150\" /></td><td><img src=\"https://media2.giphy.com/media/V1hvzLlvSPlEzKhrjM/giphy.gif?cid=790b7611f83aa25dbb5b41859105e74c7fec193a551e4e61&rid=giphy.gif&ct=g\" width=\"150\" /></td></tr></table>"
   ]
  },
  {
   "cell_type": "code",
   "execution_count": null,
   "id": "fab01111-a0c2-4b2c-b5f3-e10de906b84e",
   "metadata": {},
   "outputs": [],
   "source": []
  }
 ],
 "metadata": {
  "kernelspec": {
   "display_name": "Kotlin",
   "language": "kotlin",
   "name": "kotlin"
  },
  "language_info": {
   "codemirror_mode": "text/x-kotlin",
   "file_extension": ".kt",
   "mimetype": "text/x-kotlin",
   "name": "kotlin",
   "nbconvert_exporter": "",
   "pygments_lexer": "kotlin",
   "version": "1.6.20-dev-6372"
  }
 },
 "nbformat": 4,
 "nbformat_minor": 5
}
