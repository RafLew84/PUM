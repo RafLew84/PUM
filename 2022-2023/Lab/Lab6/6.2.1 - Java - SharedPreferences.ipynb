{
 "cells": [
  {
   "cell_type": "markdown",
   "id": "c7225a57-1888-4121-8a30-d798001a24e5",
   "metadata": {},
   "source": [
    "## 6.2 SharedPreferences - podstawy"
   ]
  },
  {
   "cell_type": "markdown",
   "id": "ce71ddab-6169-47ee-a57a-6c0b5cde1f57",
   "metadata": {},
   "source": [
    "W tym przykładzie zapoznamy się z klasą `SharedPreferences` - oferuje ona możliwość zapisania niewielkiej ilości danych w pliku powiązanym z aplikacją. Aplikacja będzie posiadać tylko jedną aktywność - rozpocznijmy od layoutu"
   ]
  },
  {
   "cell_type": "code",
   "execution_count": null,
   "id": "5e718552-e785-45d9-ba78-0c0017b76e12",
   "metadata": {},
   "outputs": [],
   "source": [
    "<?xml version=\"1.0\" encoding=\"utf-8\"?>\n",
    "<LinearLayout\n",
    "    xmlns:android=\"http://schemas.android.com/apk/res/android\"\n",
    "    xmlns:app=\"http://schemas.android.com/apk/res-auto\"\n",
    "    xmlns:tools=\"http://schemas.android.com/tools\"\n",
    "    android:layout_width=\"match_parent\"\n",
    "    android:layout_height=\"match_parent\"\n",
    "    android:orientation=\"vertical\"\n",
    "    android:padding=\"16dp\"\n",
    "    tools:context=\".MainActivity\">\n",
    "\n",
    "    <TextView\n",
    "        android:id=\"@+id/counter1TextView\"\n",
    "        android:layout_width=\"wrap_content\"\n",
    "        android:layout_height=\"wrap_content\"\n",
    "        android:text=\"0\"\n",
    "        android:textSize=\"45sp\"\n",
    "        android:layout_gravity=\"center_horizontal\"/>\n",
    "\n",
    "    <Button\n",
    "        android:id=\"@+id/countUpButton\"\n",
    "        android:layout_width=\"wrap_content\"\n",
    "        android:layout_height=\"wrap_content\"\n",
    "        android:layout_marginEnd=\"16dp\"\n",
    "        android:text=\"UP\" />\n",
    "\n",
    "    <Button\n",
    "        android:id=\"@+id/countDownButton\"\n",
    "        android:layout_width=\"wrap_content\"\n",
    "        android:layout_height=\"wrap_content\"\n",
    "        android:text=\"Down\" />\n",
    "\n",
    "</LinearLayout>"
   ]
  },
  {
   "cell_type": "markdown",
   "id": "ffd46dbb-163e-45df-8887-e33f671c89d1",
   "metadata": {},
   "source": [
    "Następnie umożliwimy stosowanie `ViewBinding`, do pliku `build.gradle(Module)` dodajemy"
   ]
  },
  {
   "cell_type": "code",
   "execution_count": null,
   "id": "d9a3683f-591d-4f16-b455-fd1bcfa8f705",
   "metadata": {},
   "outputs": [],
   "source": [
    "android {\n",
    "    ...\n",
    "    buildFeatures {\n",
    "        viewBinding = true\n",
    "    }\n",
    "}"
   ]
  },
  {
   "cell_type": "markdown",
   "id": "85ce6932-0e8a-40f0-8200-e519660081c8",
   "metadata": {},
   "source": [
    "do głównej aktywności dodajemy"
   ]
  },
  {
   "cell_type": "code",
   "execution_count": null,
   "id": "10e5c387-1304-4492-8217-64b003527522",
   "metadata": {},
   "outputs": [],
   "source": [
    "public class MainActivity extends AppCompatActivity {\n",
    "\n",
    "    private ActivityMainBinding binding;\n",
    "\n",
    "    @Override\n",
    "    protected void onCreate(Bundle savedInstanceState) {\n",
    "        super.onCreate(savedInstanceState);\n",
    "        binding = ActivityMainBinding.inflate(getLayoutInflater());\n",
    "        setContentView(binding.getRoot());\n",
    "    }\n",
    "}"
   ]
  },
  {
   "cell_type": "markdown",
   "id": "848bf87a-937f-4a17-8c95-038f9e7f72c4",
   "metadata": {},
   "source": [
    "Dodajmy jeszcze obsługę obu przycisków"
   ]
  },
  {
   "cell_type": "code",
   "execution_count": null,
   "id": "6ef5da58-c237-40de-bf31-757054b6be77",
   "metadata": {},
   "outputs": [],
   "source": [
    "private int counter = 0;\n",
    "\n",
    "@Override\n",
    "protected void onCreate(Bundle savedInstanceState) {\n",
    "    super.onCreate(savedInstanceState);\n",
    "    binding = ActivityMainBinding.inflate(getLayoutInflater());\n",
    "    setContentView(binding.getRoot());\n",
    "\n",
    "    binding.countUpButton.setOnClickListener(v -> {\n",
    "        counter++;\n",
    "        binding.counter1TextView.setText(String.valueOf(counter));\n",
    "    });\n",
    "\n",
    "    binding.countDownButton.setOnClickListener(v -> {\n",
    "        counter--;\n",
    "        binding.counter1TextView.setText(String.valueOf(counter));\n",
    "    });\n",
    "}"
   ]
  },
  {
   "cell_type": "markdown",
   "id": "fa000e34-8bc4-4852-8645-374a168841f4",
   "metadata": {},
   "source": [
    "Zapis do pliku wykonamy w metodzie `onPause`"
   ]
  },
  {
   "cell_type": "code",
   "execution_count": null,
   "id": "cebde183-e0ae-4918-bb0d-b9afc0a61767",
   "metadata": {},
   "outputs": [],
   "source": [
    "@Override\n",
    "protected void onPause() {\n",
    "    super.onPause();\n",
    "    SharedPreferences sharedPref = getSharedPreferences(\"fileName\", MODE_PRIVATE);\n",
    "    SharedPreferences.Editor editor = sharedPref.edit();\n",
    "    editor.putInt(\"counter\", Integer.parseInt(binding.counter1TextView.getText().toString()));\n",
    "    editor.apply();\n",
    "}"
   ]
  },
  {
   "cell_type": "markdown",
   "id": "aae20848-68e1-46b1-8912-3bd074a341a8",
   "metadata": {},
   "source": [
    "Do pliku możemy dostać się wywołując metodę `getSharedPreferences`, jako pierwszy argument podajemy nazwę pliku. Drugim argumentem jest tryb, mamy do wyboru kilka - poniżej przykłady\n",
    "- `MODE_APPEND` - pozwala dopisywać kolejne elementy bez nadpisywania\n",
    "- `MODE_PRIVATE` - najczęściej wykorzystywany, dostęp do pliku tylko z poziomu aplikacji\n",
    "- `MODE_WORLD_READABLE` - zezwala innym aplikacjom na odczyt\n",
    "- `MODE_WORLD_WRITABVLE` - zezwala innym aplikacjom na zapis\n",
    "\n",
    "Możemy zapisać dane w `SharedPreferences` za pomocą klasy `Editor`, w tym celu wywołujemy metodę `edit`. Po wykonaniu zmian musimy wywołac metodę `apply`.\n",
    "\n",
    "Odczyt z pliku wykonamy w metodzie `onResume`"
   ]
  },
  {
   "cell_type": "code",
   "execution_count": null,
   "id": "5f8ec447-1ede-4093-a08b-408e18c6bc01",
   "metadata": {},
   "outputs": [],
   "source": [
    "@Override\n",
    "protected void onResume() {\n",
    "    super.onResume();\n",
    "    SharedPreferences preferences = getSharedPreferences(\"fileName\", MODE_PRIVATE);\n",
    "    binding.counter1TextView.setText(String.valueOf(preferences.getInt(\"counter\", 0)));\n",
    "}"
   ]
  },
  {
   "cell_type": "markdown",
   "id": "e27adc3d-ffdc-4dfe-a77a-e769baf55acc",
   "metadata": {},
   "source": [
    "Należy pamiętać aby użyć tych samych kluczy podczas zapisu i odczytu."
   ]
  },
  {
   "cell_type": "markdown",
   "id": "3995ea28-0554-4d04-b7e9-f45086f31cf5",
   "metadata": {},
   "source": [
    "<img src=\"https://media1.giphy.com/media/8NH2KGxQqtV68D6IBT/giphy.gif?cid=790b7611d31088aba9794c31a6ef69bee97dd821c720c673&rid=giphy.gif&ct=g\" width=\"150\" />"
   ]
  }
 ],
 "metadata": {
  "kernelspec": {
   "display_name": "Java",
   "language": "java",
   "name": "java"
  },
  "language_info": {
   "codemirror_mode": "java",
   "file_extension": ".jshell",
   "mimetype": "text/x-java-source",
   "name": "Java",
   "pygments_lexer": "java",
   "version": "17+35-2724"
  }
 },
 "nbformat": 4,
 "nbformat_minor": 5
}
